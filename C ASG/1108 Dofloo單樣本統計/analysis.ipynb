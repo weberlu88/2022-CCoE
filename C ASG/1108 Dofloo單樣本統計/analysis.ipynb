{
 "cells": [
  {
   "cell_type": "markdown",
   "metadata": {},
   "source": [
    "## 2022/11/08 針對 Dofloo 單一個樣本，4 種 ASG 的結果進行分析"
   ]
  },
  {
   "cell_type": "code",
   "execution_count": 1,
   "metadata": {},
   "outputs": [],
   "source": [
    "import pandas as pd\n",
    "import pickle\n",
    "import sys\n",
    "from collections import Counter\n",
    "from pathlib import Path"
   ]
  },
  {
   "cell_type": "markdown",
   "metadata": {},
   "source": [
    "從上層資料夾import模組，但build()的相對路徑會出錯，還是直接把模組搬過來測。\n",
    "- https://www.geeksforgeeks.org/python-import-from-parent-directory/\n",
    "- https://stackoverflow.com/questions/714063/importing-modules-from-parent-folder\n",
    "- https://stackoverflow.com/questions/39125532/file-does-not-exist-in-jupyter-notebook"
   ]
  },
  {
   "cell_type": "code",
   "execution_count": 2,
   "metadata": {},
   "outputs": [],
   "source": [
    "# setting path to import cc_module\n",
    "# import sys\n",
    "# import os\n",
    "# current = os.path.abspath('')\n",
    "# # current = os.path.dirname(os.path.realpath(__file__))\n",
    "# parent = os.path.dirname(current)\n",
    "# sys.path.append(parent)\n",
    "from cc_module import build\n",
    "from cc_module import AttackGraph, Node, Edge, FileTable"
   ]
  },
  {
   "cell_type": "markdown",
   "metadata": {},
   "source": [
    "### Excel 1: 包裝成 function，印出統計結果 (Node)\n",
    "結果直接輸出到txt中喔!"
   ]
  },
  {
   "cell_type": "code",
   "execution_count": 3,
   "metadata": {},
   "outputs": [],
   "source": [
    "def translate_type(s: str) -> str:\n",
    "    type = {\n",
    "        'p': 'proc',\n",
    "        'f': 'file',\n",
    "        'n': 'net',\n",
    "        'm': 'mem'\n",
    "    }\n",
    "    return type.get(s, 'other')"
   ]
  },
  {
   "cell_type": "code",
   "execution_count": 4,
   "metadata": {},
   "outputs": [],
   "source": [
    "def analysis_graph(asg: AttackGraph) -> pd.DataFrame:\n",
    "    node_set = [node.name for node in asg.graph.keys()]\n",
    "    node_type = {}\n",
    "    print('# of nodes:',len(node_set))\n",
    "    print('# of edges:',len(asg.edges),'(edges equal to steps)\\n')\n",
    "\n",
    "    nodeType_counter = Counter({n:0 for n in ['f','c','n','p','m_addr','pipe','else']})\n",
    "    for node in asg.graph.keys():\n",
    "        nodeType_counter[node.type] += 1\n",
    "    print('# of node type:\\n',nodeType_counter)\n",
    "\n",
    "    node_counter = Counter({n:0 for n in node_set})\n",
    "    edge_counter = Counter()\n",
    "    for (nodes, edge) in asg.edges.items():\n",
    "        # print(nodes, edge)\n",
    "        # print(edge.name)\n",
    "        src_node, dst_node, _ = nodes # 其實底線_等同於 edge.name\n",
    "        # print(src_node.name, dst_node.name)\n",
    "        node_counter[src_node.name] += 1\n",
    "        node_counter[dst_node.name] += 1\n",
    "        edge_counter[edge.name] += 1\n",
    "        node_type[src_node.name] = translate_type(src_node.type)\n",
    "        node_type[dst_node.name] = translate_type(dst_node.type)\n",
    "    print('\\nfrequency of node:\\n',node_counter)\n",
    "    print('\\nfrequency of edge:\\n',edge_counter)\n",
    "    print('\\n# of syscall',len(edge_counter))\n",
    "\n",
    "    # 回傳這張圖的 node_name, node_name, appearance\n",
    "    df = [[node,node_type[node],node_counter[node]] for node in node_counter]\n",
    "    df = pd.DataFrame(df, columns=['node_name', 'type', 'appearance'])\n",
    "    return df"
   ]
  },
  {
   "cell_type": "markdown",
   "metadata": {},
   "source": [
    "\n",
    "- 這邊直接寫入檔案 V1.txt, V2.txt ...。也生成一個 node 的統計資訊 excel 檔。\n",
    "- https://stackoverflow.com/questions/7152762/how-to-redirect-print-output-to-a-file"
   ]
  },
  {
   "cell_type": "code",
   "execution_count": 10,
   "metadata": {},
   "outputs": [],
   "source": [
    "# filename = 'Dofloo_V1_ALL有畫出-Memory-and-System.pkl'\n",
    "# with open(filename, 'rb') as inp:\n",
    "#     asg_all = pickle.load(inp)\n",
    "\n",
    "filename_lst = ['Dofloo_V1_ALL_Memory_and_System.pkl','Dofloo_V2_ALL_Memory_sink.pkl',]\n",
    "    # 'Dofloo_V3_ALL_wo_system.pkl','Dofloo_V4_ALL_wo_system_memory.pkl']\n",
    "node_stat_lst = []\n",
    "    \n",
    "for i,filename in enumerate(filename_lst):\n",
    "    orig_stdout = sys.stdout\n",
    "    f = open(f'1115_Dofloo_V{i+1}.txt', 'w')\n",
    "    sys.stdout = f\n",
    "\n",
    "    with open(f'1115_dofloo_V1~V2_pkl/{filename}', 'rb') as inp:\n",
    "        asg_object = pickle.load(inp)\n",
    "        df = analysis_graph(asg_object)\n",
    "        node_stat_lst.append(df)\n",
    "\n",
    "    sys.stdout = orig_stdout\n",
    "    f.close()\n",
    "\n",
    "# 將 nodes 的統計資訊寫入 excel (會覆蓋掉同檔名，小心!)\n",
    "with pd.ExcelWriter(\"1115_node_statistics.xlsx\") as writer:\n",
    "    [df.to_excel(writer, sheet_name=f\"ver{i+1}\") for i,df in enumerate(node_stat_lst)]"
   ]
  },
  {
   "cell_type": "markdown",
   "metadata": {},
   "source": [
    "### Excel 2: 列印出圖中的 Triplate (edge)\n",
    "用來觀察 x -> A 的 x 有哪些，又執行了甚麼動作。 \n",
    " \n",
    "- 影響系統的函數關鍵字 : set、change、create ( 因為 create 也是在系統中多出一個新的東西，所以 open() 包含在這裡 ) affect_sys = [\"set_thread_area\", \"setsid\", \"fcntl\", \"fchown\", \"fchmod\", \"rename\", \"umask\", \"set_tid_address\", \"futex\", \n",
    "\"set_robust_list\", \"arch_prctl\", \"execve\", \"exit_group\", \"clone\", \"write\", \"connect\", \"send\", \"brk\", \"socket\", \"mprotect\", \"mmap\", \"openat\", \"mmap2\", \"munmap\", \"open\", \"close\"]\n",
    "\n",
    "- 有些沒有影響系統，但是會取得系統資訊，這樣還是蠻重要的 (Ex: uname) non_affect_sys = [\"ugetrlimit\", \"readlink\", \"getcwd\", \"uname\", \"waitpid\", \"getuid\", \"getgid\", \"getppid\", \n",
    " \"getegid\", \"wait4\", \"prlimit64\", \"getpid\", \"geteuid\", \"statfs\", \"_newselect\", \"getsockopt\", \n",
    " \"stat\", \"access\", \"fstat\", \"ioctl\", \"time\", \"fstat64\", \"nanosleep\", \"lseek\", \"read\", ]"
   ]
  },
  {
   "cell_type": "code",
   "execution_count": 11,
   "metadata": {},
   "outputs": [],
   "source": [
    "def is_important(edgename: str) -> bool:\n",
    "    '''判斷一個syscall是否會改變系統檔案，是回傳True。'''\n",
    "    affect_sys = [\"set_thread_area\", \"setsid\", \"fcntl\", \"fchown\", \"fchmod\", \"rename\", \"umask\", \"set_tid_address\", \\\n",
    "        \"futex\", \"set_robust_list\", \"arch_prctl\", \"execve\", \"exit_group\", \"clone\", \"write\", \"connect\", \"send\", \\\n",
    "        \"brk\", \"socket\", \"mprotect\", \"mmap\", \"openat\", \"mmap2\", \"munmap\", \"open\", \"close\"]\n",
    "    if edgename in affect_sys:\n",
    "        return True\n",
    "    return False\n",
    "\n",
    "def analysis_triplate(asg: AttackGraph) -> pd.DataFrame:\n",
    "    node_set = [node.name for node in asg.graph.keys()]\n",
    "    node_counter = Counter({n:0 for n in node_set})\n",
    "    for i, (nodes, edge) in enumerate(asg.edges.items()):\n",
    "        src_node, dst_node, _ = nodes\n",
    "        node_counter[src_node.name] += 1\n",
    "        node_counter[dst_node.name] += 1\n",
    "    \n",
    "    triplate_lst = []\n",
    "    for i, (nodes, edge) in enumerate(asg.edges.items()):\n",
    "        src_node, dst_node, _ = nodes\n",
    "        src_type = translate_type(src_node.type)\n",
    "        dst_type = translate_type(dst_node.type)\n",
    "        imp = 1 if is_important(edge.name) else 0 # 這個 syscall 是否會改變系統\n",
    "        cs = node_counter[src_node.name] # node 的 degree\n",
    "        cd = node_counter[dst_node.name]\n",
    "        # 反轉 read 的節點\n",
    "        if edge.name == 'read':\n",
    "            triplate_lst.append([i+1, dst_node.name, dst_type, cd, edge.name,src_node.name, src_type, cs, imp])\n",
    "        else:\n",
    "            triplate_lst.append([i+1, src_node.name, src_type, cs, edge.name, dst_node.name, dst_type, cd, imp])\n",
    "\n",
    "    #     break\n",
    "    # print(triplate_lst)\n",
    "    df = pd.DataFrame(triplate_lst, columns=['step','src_node', 'type', 'deg', 'edge', 'dst_node', 'type', 'deg','importance'])\n",
    "    return df\n",
    "\n",
    "# filename = 'Dofloo_V4_ALL_wo_system_memory.pkl'\n",
    "# with open(filename, 'rb') as inp:\n",
    "#     asg_all = pickle.load(inp)\n",
    "# df = analysis_triplate(asg_all)\n",
    "\n",
    "filename_lst = ['Dofloo_V1_ALL_Memory_and_System.pkl','Dofloo_V2_ALL_Memory_sink.pkl',]\n",
    "    # 'Dofloo_V3_ALL_wo_system.pkl','Dofloo_V4_ALL_wo_system_memory.pkl']\n",
    "triplate_stat_lst = []\n",
    "node_type_set = set()\n",
    "    \n",
    "for i,filename in enumerate(filename_lst):\n",
    "    # f = open(f'1115_Dofloo_V{i+1}.txt', 'w')\n",
    "\n",
    "    with open(f'1115_dofloo_V1~V2_pkl/{filename}', 'rb') as inp:\n",
    "        asg_object = pickle.load(inp)\n",
    "        df = analysis_triplate(asg_object)\n",
    "        triplate_stat_lst.append(df)\n",
    "\n",
    "with pd.ExcelWriter(\"1115_triplate_statistics.xlsx\") as writer:\n",
    "    # df.to_excel(writer, sheet_name=f\"ver4\")\n",
    "    [df.to_excel(writer, sheet_name=f\"ver{i+1}\") for i,df in enumerate(triplate_stat_lst)]"
   ]
  },
  {
   "cell_type": "markdown",
   "metadata": {},
   "source": [
    "- 使用 VBA 套件操作 excel，將 importance 的欄位上色。"
   ]
  },
  {
   "cell_type": "code",
   "execution_count": null,
   "metadata": {},
   "outputs": [],
   "source": [
    "# ! pip install xlwings"
   ]
  },
  {
   "cell_type": "code",
   "execution_count": 7,
   "metadata": {},
   "outputs": [],
   "source": [
    "import string\n",
    "def char(idx: int) -> str:\n",
    "    '''0->A, 1->B, ...'''\n",
    "    return string.ascii_uppercase[idx]"
   ]
  },
  {
   "cell_type": "code",
   "execution_count": 12,
   "metadata": {},
   "outputs": [],
   "source": [
    "import xlwings as xw\n",
    "from xlwings.constants import Direction\n",
    "workbook = xw.Book('1115_triplate_statistics.xlsx')\n",
    "sheets = workbook.sheets\n",
    "\n",
    "for i,sheet in enumerate(sheets):\n",
    "    lenx = sheet.range(\"B1\").end(Direction.xlDown).row - 1 # 資料有幾欄&幾列\n",
    "    colx = sheet.range(\"B1\").end(Direction.xlToRight).column - 1\n",
    "    titles = sheet.range(f\"B1:{char(colx)}1\").value\n",
    "    col_imp = char(titles.index('importance') + 1) # 'importance'在第幾欄 (第H欄)\n",
    "\n",
    "    for row in range(2, lenx+2):\n",
    "        # if importance cell == 1, color that row\n",
    "        if sheet.range(f\"{col_imp}{row}\").value == 1:\n",
    "            # print('yes')\n",
    "            sheet.range(f\"B{row}:{col_imp}{row}\").color = (255, 255, 204) # 淺黃色\n",
    "workbook.save()"
   ]
  },
  {
   "cell_type": "code",
   "execution_count": 19,
   "metadata": {},
   "outputs": [],
   "source": [
    "# test: 為特定一張表的重要syscall 加上顏色\n",
    "# import xlwings as xw\n",
    "# from xlwings.constants import Direction\n",
    "# workbook = xw.Book('triplate_statistics.xlsx')\n",
    "# sheet = workbook.sheets['ver4']\n",
    "# lenx = sheet.range(\"B1\").end(Direction.xlDown).row - 1 # 資料有幾欄&幾列\n",
    "# colx = sheet.range(\"B1\").end(Direction.xlToRight).column - 1\n",
    "# titles = sheet.range(f\"B1:{char(colx)}1\").value\n",
    "# col_imp = char(titles.index('importance') + 1) # 'importance'在第幾欄 (第H欄)\n",
    "\n",
    "# for row in range(2, lenx+2):\n",
    "#     # if importance cell == 1, color that row\n",
    "#     if sheet.range(f\"{col_imp}{row}\").value == 1:\n",
    "#         # print('yes')\n",
    "#         sheet.range(f\"B{row}:{col_imp}{row}\").color = (255, 255, 204) # 淺黃色\n",
    "# workbook.save()"
   ]
  },
  {
   "cell_type": "markdown",
   "metadata": {},
   "source": [
    "### 以下是測試的 code"
   ]
  },
  {
   "cell_type": "code",
   "execution_count": 3,
   "metadata": {},
   "outputs": [
    {
     "name": "stdout",
     "output_type": "stream",
     "text": [
      "path: ../trace/Dofloo/9a37fcc7eab08d59532bc5c66390bc30.bin\n",
      "Nodes after reduction:  36\n"
     ]
    }
   ],
   "source": [
    "asg, g = build('Dofloo', '9a37fcc7eab08d59532bc5c66390bc30.bin')"
   ]
  },
  {
   "cell_type": "code",
   "execution_count": 10,
   "metadata": {},
   "outputs": [
    {
     "name": "stdout",
     "output_type": "stream",
     "text": [
      "# of nodes: 36\n",
      "# of edges: 40 (edges equal to steps)\n"
     ]
    }
   ],
   "source": [
    "node_set = [node.name for node in asg.graph.keys()]\n",
    "print('# of nodes:',len(node_set))\n",
    "print('# of edges:',len(asg.edges),'(edges equal to steps)')"
   ]
  },
  {
   "cell_type": "code",
   "execution_count": 31,
   "metadata": {},
   "outputs": [
    {
     "data": {
      "text/plain": [
       "Counter({'f': 7, 'c': 1, 'n': 11, 'p': 17, 'm_addr': 0, 'pipe': 0, 'else': 0})"
      ]
     },
     "execution_count": 31,
     "metadata": {},
     "output_type": "execute_result"
    }
   ],
   "source": [
    "nodeType_counter = Counter({n:0 for n in ['f','c','n','p','m_addr','pipe','else']})\n",
    "for node in asg.graph.keys():\n",
    "    nodeType_counter[node.type] += 1\n",
    "nodeType_counter"
   ]
  },
  {
   "cell_type": "markdown",
   "metadata": {},
   "source": [
    "### Calc frequency of node appearance\n",
    "指出指入都計算一次，暫無分開統計指出幾次，指入幾次。"
   ]
  },
  {
   "cell_type": "code",
   "execution_count": 33,
   "metadata": {},
   "outputs": [
    {
     "data": {
      "text/plain": [
       "Counter({'malware': 8,\n",
       "         'uname': 1,\n",
       "         'sh': 12,\n",
       "         '1529': 16,\n",
       "         'sed': 14,\n",
       "         '/etc/rc.local': 6,\n",
       "         '/etc/rc.d/rc.local': 1,\n",
       "         '/etc/init.d/boot.local': 1,\n",
       "         '1530': 4,\n",
       "         '1531': 1,\n",
       "         '1532': 1,\n",
       "         '/dev/urandom': 1,\n",
       "         'eth0': 1,\n",
       "         'eth1': 1,\n",
       "         'eth2': 1,\n",
       "         'eth3': 1,\n",
       "         'eth4': 1,\n",
       "         'eth5': 1,\n",
       "         'eth6': 1,\n",
       "         'eth7': 1,\n",
       "         'eth8': 1,\n",
       "         'eth9': 1,\n",
       "         '183.131.83.38:50050': 1,\n",
       "         '/proc/net/dev': 1,\n",
       "         '/sys/devices/system/cpu/online': 1,\n",
       "         '/proc/stat': 1})"
      ]
     },
     "execution_count": 33,
     "metadata": {},
     "output_type": "execute_result"
    }
   ],
   "source": [
    "# calc node's frequency\n",
    "node_counter = Counter({n:0 for n in node_set})\n",
    "edge_counter = Counter()\n",
    "for (nodes, edge) in asg.edges.items():\n",
    "    # print(nodes, edge)\n",
    "    # print(edge.name)\n",
    "    src_node, dst_node, _ = nodes # 其實底線_等同於 edge.name\n",
    "    # print(src_node.name, dst_node.name)\n",
    "    node_counter[src_node.name] += 1\n",
    "    node_counter[dst_node.name] += 1\n",
    "    edge_counter[edge.name] += 1\n",
    "    # break\n",
    "node_counter"
   ]
  },
  {
   "cell_type": "code",
   "execution_count": 34,
   "metadata": {},
   "outputs": [
    {
     "data": {
      "text/plain": [
       "Counter({'read': 18,\n",
       "         'clone': 10,\n",
       "         'exec': 6,\n",
       "         'write': 3,\n",
       "         'open': 2,\n",
       "         'connect': 1})"
      ]
     },
     "execution_count": 34,
     "metadata": {},
     "output_type": "execute_result"
    }
   ],
   "source": [
    "edge_counter"
   ]
  },
  {
   "cell_type": "code",
   "execution_count": 17,
   "metadata": {},
   "outputs": [
    {
     "data": {
      "text/html": [
       "<div>\n",
       "<style scoped>\n",
       "    .dataframe tbody tr th:only-of-type {\n",
       "        vertical-align: middle;\n",
       "    }\n",
       "\n",
       "    .dataframe tbody tr th {\n",
       "        vertical-align: top;\n",
       "    }\n",
       "\n",
       "    .dataframe thead th {\n",
       "        text-align: right;\n",
       "    }\n",
       "</style>\n",
       "<table border=\"1\" class=\"dataframe\">\n",
       "  <thead>\n",
       "    <tr style=\"text-align: right;\">\n",
       "      <th></th>\n",
       "      <th>node_name</th>\n",
       "      <th>type</th>\n",
       "      <th>appearance</th>\n",
       "    </tr>\n",
       "  </thead>\n",
       "  <tbody>\n",
       "    <tr>\n",
       "      <th>0</th>\n",
       "      <td>malware</td>\n",
       "      <td>proc</td>\n",
       "      <td>8</td>\n",
       "    </tr>\n",
       "    <tr>\n",
       "      <th>1</th>\n",
       "      <td>uname</td>\n",
       "      <td>other</td>\n",
       "      <td>1</td>\n",
       "    </tr>\n",
       "    <tr>\n",
       "      <th>2</th>\n",
       "      <td>sh</td>\n",
       "      <td>proc</td>\n",
       "      <td>12</td>\n",
       "    </tr>\n",
       "    <tr>\n",
       "      <th>3</th>\n",
       "      <td>1529</td>\n",
       "      <td>proc</td>\n",
       "      <td>16</td>\n",
       "    </tr>\n",
       "    <tr>\n",
       "      <th>4</th>\n",
       "      <td>sed</td>\n",
       "      <td>proc</td>\n",
       "      <td>14</td>\n",
       "    </tr>\n",
       "    <tr>\n",
       "      <th>5</th>\n",
       "      <td>/etc/rc.local</td>\n",
       "      <td>file</td>\n",
       "      <td>6</td>\n",
       "    </tr>\n",
       "    <tr>\n",
       "      <th>6</th>\n",
       "      <td>/etc/rc.d/rc.local</td>\n",
       "      <td>file</td>\n",
       "      <td>1</td>\n",
       "    </tr>\n",
       "    <tr>\n",
       "      <th>7</th>\n",
       "      <td>/etc/init.d/boot.local</td>\n",
       "      <td>file</td>\n",
       "      <td>1</td>\n",
       "    </tr>\n",
       "    <tr>\n",
       "      <th>8</th>\n",
       "      <td>1530</td>\n",
       "      <td>proc</td>\n",
       "      <td>4</td>\n",
       "    </tr>\n",
       "    <tr>\n",
       "      <th>9</th>\n",
       "      <td>1531</td>\n",
       "      <td>proc</td>\n",
       "      <td>1</td>\n",
       "    </tr>\n",
       "    <tr>\n",
       "      <th>10</th>\n",
       "      <td>1532</td>\n",
       "      <td>proc</td>\n",
       "      <td>1</td>\n",
       "    </tr>\n",
       "    <tr>\n",
       "      <th>11</th>\n",
       "      <td>/dev/urandom</td>\n",
       "      <td>file</td>\n",
       "      <td>1</td>\n",
       "    </tr>\n",
       "    <tr>\n",
       "      <th>12</th>\n",
       "      <td>eth0</td>\n",
       "      <td>net</td>\n",
       "      <td>1</td>\n",
       "    </tr>\n",
       "    <tr>\n",
       "      <th>13</th>\n",
       "      <td>eth1</td>\n",
       "      <td>net</td>\n",
       "      <td>1</td>\n",
       "    </tr>\n",
       "    <tr>\n",
       "      <th>14</th>\n",
       "      <td>eth2</td>\n",
       "      <td>net</td>\n",
       "      <td>1</td>\n",
       "    </tr>\n",
       "    <tr>\n",
       "      <th>15</th>\n",
       "      <td>eth3</td>\n",
       "      <td>net</td>\n",
       "      <td>1</td>\n",
       "    </tr>\n",
       "    <tr>\n",
       "      <th>16</th>\n",
       "      <td>eth4</td>\n",
       "      <td>net</td>\n",
       "      <td>1</td>\n",
       "    </tr>\n",
       "    <tr>\n",
       "      <th>17</th>\n",
       "      <td>eth5</td>\n",
       "      <td>net</td>\n",
       "      <td>1</td>\n",
       "    </tr>\n",
       "    <tr>\n",
       "      <th>18</th>\n",
       "      <td>eth6</td>\n",
       "      <td>net</td>\n",
       "      <td>1</td>\n",
       "    </tr>\n",
       "    <tr>\n",
       "      <th>19</th>\n",
       "      <td>eth7</td>\n",
       "      <td>net</td>\n",
       "      <td>1</td>\n",
       "    </tr>\n",
       "    <tr>\n",
       "      <th>20</th>\n",
       "      <td>eth8</td>\n",
       "      <td>net</td>\n",
       "      <td>1</td>\n",
       "    </tr>\n",
       "    <tr>\n",
       "      <th>21</th>\n",
       "      <td>eth9</td>\n",
       "      <td>net</td>\n",
       "      <td>1</td>\n",
       "    </tr>\n",
       "    <tr>\n",
       "      <th>22</th>\n",
       "      <td>183.131.83.38:50050</td>\n",
       "      <td>net</td>\n",
       "      <td>1</td>\n",
       "    </tr>\n",
       "    <tr>\n",
       "      <th>23</th>\n",
       "      <td>/proc/net/dev</td>\n",
       "      <td>file</td>\n",
       "      <td>1</td>\n",
       "    </tr>\n",
       "    <tr>\n",
       "      <th>24</th>\n",
       "      <td>/sys/devices/system/cpu/online</td>\n",
       "      <td>file</td>\n",
       "      <td>1</td>\n",
       "    </tr>\n",
       "    <tr>\n",
       "      <th>25</th>\n",
       "      <td>/proc/stat</td>\n",
       "      <td>file</td>\n",
       "      <td>1</td>\n",
       "    </tr>\n",
       "  </tbody>\n",
       "</table>\n",
       "</div>"
      ],
      "text/plain": [
       "                         node_name   type  appearance\n",
       "0                          malware   proc           8\n",
       "1                            uname  other           1\n",
       "2                               sh   proc          12\n",
       "3                             1529   proc          16\n",
       "4                              sed   proc          14\n",
       "5                    /etc/rc.local   file           6\n",
       "6               /etc/rc.d/rc.local   file           1\n",
       "7           /etc/init.d/boot.local   file           1\n",
       "8                             1530   proc           4\n",
       "9                             1531   proc           1\n",
       "10                            1532   proc           1\n",
       "11                    /dev/urandom   file           1\n",
       "12                            eth0    net           1\n",
       "13                            eth1    net           1\n",
       "14                            eth2    net           1\n",
       "15                            eth3    net           1\n",
       "16                            eth4    net           1\n",
       "17                            eth5    net           1\n",
       "18                            eth6    net           1\n",
       "19                            eth7    net           1\n",
       "20                            eth8    net           1\n",
       "21                            eth9    net           1\n",
       "22             183.131.83.38:50050    net           1\n",
       "23                   /proc/net/dev   file           1\n",
       "24  /sys/devices/system/cpu/online   file           1\n",
       "25                      /proc/stat   file           1"
      ]
     },
     "execution_count": 17,
     "metadata": {},
     "output_type": "execute_result"
    }
   ],
   "source": [
    "# 測試 df 建構\n",
    "# node_name, type, appearance\n",
    "node_set = [node.name for node in asg.graph.keys()]\n",
    "node_type = {}\n",
    "node_counter = Counter({n:0 for n in node_set})\n",
    "for (nodes, edge) in asg.edges.items():\n",
    "    src_node, dst_node, _ = nodes\n",
    "    node_type[src_node.name] = translate_type(src_node.type)\n",
    "    node_type[dst_node.name] = translate_type(dst_node.type)\n",
    "    node_counter[src_node.name] += 1\n",
    "    node_counter[dst_node.name] += 1\n",
    "\n",
    "Path(\"/outcsv\").mkdir(exist_ok=True)\n",
    "df = [[node,node_type[node],node_counter[node]] for node in node_counter]\n",
    "df = pd.DataFrame(df, columns=['node_name', 'type', 'appearance'])\n",
    "df"
   ]
  },
  {
   "cell_type": "code",
   "execution_count": 64,
   "metadata": {},
   "outputs": [
    {
     "name": "stdout",
     "output_type": "stream",
     "text": [
      "# of nodes: 440\n",
      "# of edges: 803 (edges equal to steps)\n",
      "# of node type: Counter({'m_addr': 181, 'else': 170, 'f': 60, 'p': 17, 'n': 11, 'c': 1, 'pipe': 0})\n",
      "frequency of node: Counter({'sed': 407, 'sh': 198, '1527': 164, '/lib/x86_64-linux-gnu/libc.so.6': 36, '1526': 27, 'malware': 26, '/etc/ld.so.cache': 24, '0': 24, '/lib/x86_64-linux-gnu/libselinux.so.1': 18, '/lib/x86_64-linux-gnu/libpcre.so.3': 18, '/lib/x86_64-linux-gnu/libdl.so.2': 18, '/lib/x86_64-linux-gnu/libpthread.so.0': 18, '/etc/ld.so.nohwcap': 12, '/etc/ld.so.preload': 12, '/proc/filesystems': 12, '/usr/lib/locale/locale-archive': 12, '/usr/lib/x86_64-linux-gnu/gconv/gconv-modules.cache': 12, '/etc/rc.local': 9, '8192*1024 bytes': 7, 'status:0': 7, '1513': 6, '/prober': 6, '.': 6, '/usr/local/sbin/sed': 6, '/usr/local/bin/sed': 6, '/usr/sbin/sed': 6, '/usr/bin/sed': 6, '/sbin/sed': 6, '/bin/sed': 6, '/sys/fs/selinux': 6, '/selinux': 6, '/etc/selinux/config': 6, '/usr/lib/x86_64-linux-gnu/charset.alias': 6, '/usr/share/locale/locale.alias': 6, '23.236.66.13:50050': 6, '/etc/sedQUGLbs': 5, '/etc/sedQhw17q': 5, '/etc/sedvTqQwq': 5, 'status:2': 4, 'Permission:0700': 3, 'Permission:022': 3, '/usr/share/locale/en_US.UTF-8/LC_MESSAGES/sed.mo': 3, '/usr/share/locale/en_US.utf8/LC_MESSAGES/sed.mo': 3, '/usr/share/locale/en_US/LC_MESSAGES/sed.mo': 3, '/usr/share/locale/en.UTF-8/LC_MESSAGES/sed.mo': 3, '/usr/share/locale/en.utf8/LC_MESSAGES/sed.mo': 3, '/usr/share/locale/en/LC_MESSAGES/sed.mo': 3, '/usr/share/locale-langpack/en_US.UTF-8/LC_MESSAGES/sed.mo': 3, '/usr/share/locale-langpack/en_US.utf8/LC_MESSAGES/sed.mo': 3, '/usr/share/locale-langpack/en_US/LC_MESSAGES/sed.mo': 3, '/usr/share/locale-langpack/en.UTF-8/LC_MESSAGES/sed.mo': 3, '/usr/share/locale-langpack/en.utf8/LC_MESSAGES/sed.mo': 3, '/usr/share/locale-langpack/en/LC_MESSAGES/sed.mo': 3, '0x8fe78d0': 2, 'status:1': 2, '/usr/share/locale/en_US.UTF-8/LC_MESSAGES/libc.mo': 2, '/usr/share/locale/en_US.utf8/LC_MESSAGES/libc.mo': 2, '/usr/share/locale/en_US/LC_MESSAGES/libc.mo': 2, '/usr/share/locale/en.UTF-8/LC_MESSAGES/libc.mo': 2, '/usr/share/locale/en.utf8/LC_MESSAGES/libc.mo': 2, '/usr/share/locale/en/LC_MESSAGES/libc.mo': 2, '/usr/share/locale-langpack/en_US.UTF-8/LC_MESSAGES/libc.mo': 2, '/usr/share/locale-langpack/en_US.utf8/LC_MESSAGES/libc.mo': 2, '/usr/share/locale-langpack/en_US/LC_MESSAGES/libc.mo': 2, '/usr/share/locale-langpack/en.UTF-8/LC_MESSAGES/libc.mo': 2, '/usr/share/locale-langpack/en.utf8/LC_MESSAGES/libc.mo': 2, '/usr/share/locale-langpack/en/LC_MESSAGES/libc.mo': 2, '1528': 2, '1529': 2, '/proc/net/dev': 2, '/proc/stat': 2, 'uname': 1, '0x8fe7000': 1, '0x8fe7d00': 1, '0x8fe7860': 1, '0x8fe78c8': 1, '0xffe57718': 1, '0x9008d00': 1, '0x9009000': 1, '/proc/self/exe': 1, '\"/prober\"': 1, '0x55cafccdb000': 1, '0x7fca03dde000': 1, '0x7fca041f5540': 1, '0x7fca03fde000': 1, '0x55cafc8ea000': 1, '0x7fca0420f000': 1, '0x7fca041f6000': 1, '1514': 1, '0x55cafccfc000': 1, '0x55e652351000': 1, '0x7f091061e000': 1, '0x7f09103ef000': 1, '0x7f0910006000': 1, '0x7f090fd95000': 1, '0x7f090fb8d000': 1, '0x7f0910a2c040': 1, '0x7f09105ef000': 1, '0x7f090fd8c000': 1, '0x7f090ff94000': 1, '0x7f0910206000': 1, '0x7f091081d000': 1, '0x55e651657000': 1, '0x7f0910a48000': 1, '0x7f0910a2f000': 1, '0x7f0910a2c310': 1, '0x7f0910a2c320': 1, '0x55e652372000': 1, '0x7f09105f4a08': 1, '1515': 1, '0x55908f833000': 1, '0x7fc74b209000': 1, '0x7fc74b620540': 1, '0x7fc74b409000': 1, '0x55908edb0000': 1, '0x7fc74b63a000': 1, '0x7fc74b621000': 1, '1516': 1, '0x55908f854000': 1, '0x55edc2461000': 1, '0x7f0d28bfa000': 1, '0x7f0d289cb000': 1, '0x7f0d285e2000': 1, '0x7f0d28371000': 1, '0x7f0d28169000': 1, '0x7f0d29008040': 1, '0x7f0d28bcb000': 1, '0x7f0d28368000': 1, '0x7f0d28570000': 1, '0x7f0d287e2000': 1, '0x7f0d28df9000': 1, '0x55edc12da000': 1, '0x7f0d29024000': 1, '0x7f0d2900b000': 1, '0x7f0d29008310': 1, '0x7f0d29008320': 1, '0x55edc2482000': 1, '0x7f0d28bd0a08': 1, '0x56028ba12000': 1, '0x7fefba1d4000': 1, '0x7fefba5eb540': 1, '0x7fefba3d4000': 1, '0x56028a378000': 1, '0x7fefba605000': 1, '0x7fefba5ec000': 1, '1518': 1, '0x56028ba33000': 1, '0x55a47c9fe000': 1, '0x7f49b2878000': 1, '0x7f49b2649000': 1, '0x7f49b2260000': 1, '0x7f49b1fef000': 1, '0x7f49b1de7000': 1, '0x7f49b2c86040': 1, '0x7f49b2849000': 1, '0x7f49b1fe6000': 1, '0x7f49b21ee000': 1, '0x7f49b2460000': 1, '0x7f49b2a77000': 1, '0x55a47ad3b000': 1, '0x7f49b2ca2000': 1, '0x7f49b2c89000': 1, '0x7f49b2c86310': 1, '0x7f49b2c86320': 1, '0x55a47ca1f000': 1, '0x7f49b284ea08': 1, '1519': 1, '0x55dcf63f2000': 1, '0x7f1a0897d000': 1, '0x7f1a08d94540': 1, '0x7f1a08b7d000': 1, '0x55dcf49ff000': 1, '0x7f1a08dae000': 1, '0x7f1a08d95000': 1, '1520': 1, '0x55dcf6413000': 1, '0x55cb23214000': 1, '0x7f187f303000': 1, '0x7f187f0d4000': 1, '0x7f187eceb000': 1, '0x7f187ea7a000': 1, '0x7f187e872000': 1, '0x7f187f711040': 1, '0x7f187f2d4000': 1, '0x7f187ea71000': 1, '0x7f187ec79000': 1, '0x7f187eeeb000': 1, '0x7f187f502000': 1, '0x55cb2193c000': 1, '0x7f187f72d000': 1, '0x7f187f714000': 1, '0x7f187f711310': 1, '0x7f187f711320': 1, '0x55cb23235000': 1, '0x7f187f2d9a08': 1, '1521': 1, '0x565075d1f000': 1, '0x7fb46b1c1000': 1, '0x7fb46b5d8540': 1, '0x7fb46b3c1000': 1, '0x565074b00000': 1, '0x7fb46b5f2000': 1, '0x7fb46b5d9000': 1, '1522': 1, '0x565075d40000': 1, '0x563e265ba000': 1, '0x7fd54475d000': 1, '0x7fd54452e000': 1, '0x7fd544145000': 1, '0x7fd543ed4000': 1, '0x7fd543ccc000': 1, '0x7fd544b6b040': 1, '0x7fd54472e000': 1, '0x7fd543ecb000': 1, '0x7fd5440d3000': 1, '0x7fd544345000': 1, '0x7fd54495c000': 1, '0x563e259cb000': 1, '0x7fd544b87000': 1, '0x7fd544b6e000': 1, '0x7fd544b6b310': 1, '0x7fd544b6b320': 1, '0x563e265db000': 1, '0x7fd544733a08': 1, '/etc/rc.d/rc.local': 1, '0x55b9b2a2c000': 1, '0x7f2474af3000': 1, '0x7f2474f0a540': 1, '0x7f2474cf3000': 1, '0x55b9b277b000': 1, '0x7f2474f24000': 1, '0x7f2474f0b000': 1, '1524': 1, '0x55b9b2a4d000': 1, '0x558971601000': 1, '0x7f2d24ea7000': 1, '0x7f2d24c78000': 1, '0x7f2d2488f000': 1, '0x7f2d2461e000': 1, '0x7f2d24416000': 1, '0x7f2d252b5040': 1, '0x7f2d24e78000': 1, '0x7f2d24615000': 1, '0x7f2d2481d000': 1, '0x7f2d24a8f000': 1, '0x7f2d250a6000': 1, '0x558970909000': 1, '0x7f2d252d1000': 1, '0x7f2d252b8000': 1, '0x7f2d252b5310': 1, '0x7f2d252b5320': 1, '0x558971622000': 1, '0x7f2d24e7da08': 1, '/etc/init.d/boot.local': 1, '0xf77c1000': 1, '0xf6fc0000': 1, '0xf67bf000': 1, '/dev/urandom': 1, 'eth0': 1, 'eth1': 1, 'eth2': 1, 'eth3': 1, 'eth4': 1, 'eth5': 1, 'eth6': 1, 'eth7': 1, 'eth8': 1, 'eth9': 1, '5s + 0ns': 1, '0xf7fc1be0': 1, '2022-09-20 05:03:02': 1, '/sys/devices/system/cpu/online': 1, '1s + 0ns': 1, '0xf65bf000': 1, '0xf6700000': 1, '0xf6600000': 1, '0xf67be000': 1, '2022-09-20 05:03:04': 1, '0xf67bc000': 1, '2022-09-20 05:03:06': 1, '2022-09-20 05:03:08': 1, '2022-09-20 05:03:10': 1, '2022-09-20 05:03:12': 1, '2022-09-20 05:03:14': 1, '2022-09-20 05:03:16': 1, '2022-09-20 05:03:18': 1, '2022-09-20 05:03:20': 1, '2022-09-20 05:03:22': 1, '2022-09-20 05:03:25': 1, '2022-09-20 05:03:27': 1, '2022-09-20 05:03:29': 1, '2022-09-20 05:03:31': 1, '2022-09-20 05:03:33': 1, '2022-09-20 05:03:35': 1, '2022-09-20 05:03:37': 1, '2022-09-20 05:03:39': 1, '2022-09-20 05:03:41': 1, '2022-09-20 05:03:43': 1, '2022-09-20 05:03:45': 1, '2022-09-20 05:03:47': 1, '2022-09-20 05:03:49': 1, '2022-09-20 05:03:51': 1, '2022-09-20 05:03:53': 1, '2022-09-20 05:03:55': 1, '2022-09-20 05:03:57': 1, '2022-09-20 05:03:59': 1, '2022-09-20 05:04:01': 1, '2022-09-20 05:04:03': 1, '2022-09-20 05:04:05': 1, '2022-09-20 05:04:07': 1, '2022-09-20 05:04:09': 1, '2022-09-20 05:04:11': 1, '2022-09-20 05:04:13': 1, '2022-09-20 05:04:15': 1, '2022-09-20 05:04:17': 1, '2022-09-20 05:04:19': 1, '2022-09-20 05:04:21': 1, '2022-09-20 05:04:23': 1, '2022-09-20 05:04:25': 1, '2022-09-20 05:04:27': 1, '2022-09-20 05:04:29': 1, '2022-09-20 05:04:31': 1, '2022-09-20 05:04:33': 1, '2022-09-20 05:04:35': 1, '2022-09-20 05:04:37': 1, '2022-09-20 05:04:39': 1, '2022-09-20 05:04:41': 1, '2022-09-20 05:04:43': 1, '2022-09-20 05:04:45': 1, '2022-09-20 05:04:47': 1, '2022-09-20 05:04:49': 1, '2022-09-20 05:04:51': 1, '2022-09-20 05:04:53': 1, '2022-09-20 05:04:55': 1, '2022-09-20 05:04:57': 1, '2022-09-20 05:04:59': 1, '2022-09-20 05:05:01': 1, '2022-09-20 05:05:03': 1, '2022-09-20 05:05:05': 1, '2022-09-20 05:05:07': 1, '2022-09-20 05:05:09': 1, '2022-09-20 05:05:11': 1, '2022-09-20 05:05:13': 1, '2022-09-20 05:05:15': 1, '2022-09-20 05:05:17': 1, '2022-09-20 05:05:19': 1, '2022-09-20 05:05:21': 1, '2022-09-20 05:05:23': 1, '2022-09-20 05:05:25': 1, '2022-09-20 05:05:27': 1, '2022-09-20 05:05:29': 1, '2022-09-20 05:05:31': 1, '2022-09-20 05:05:33': 1, '2022-09-20 05:05:35': 1, '2022-09-20 05:05:37': 1, '2022-09-20 05:05:39': 1, '2022-09-20 05:05:41': 1, '2022-09-20 05:05:43': 1, '2022-09-20 05:05:45': 1, '2022-09-20 05:05:47': 1, '2022-09-20 05:05:49': 1, '2022-09-20 05:05:51': 1, '2022-09-20 05:05:53': 1, '2022-09-20 05:05:55': 1, '2022-09-20 05:05:57': 1, '2022-09-20 05:05:59': 1, '2022-09-20 05:06:01': 1, '2022-09-20 05:06:03': 1, '2022-09-20 05:06:05': 1, '2022-09-20 05:06:07': 1, '2022-09-20 05:06:09': 1, '2022-09-20 05:06:11': 1, '2022-09-20 05:06:13': 1, '2022-09-20 05:06:15': 1, '2022-09-20 05:06:17': 1, '2022-09-20 05:06:19': 1, '2022-09-20 05:06:21': 1, '2022-09-20 05:06:23': 1, '2022-09-20 05:06:25': 1, '2022-09-20 05:06:27': 1, '2022-09-20 05:06:29': 1, '2022-09-20 05:06:31': 1, '2022-09-20 05:06:33': 1, '2022-09-20 05:06:35': 1, '2022-09-20 05:06:37': 1, '2022-09-20 05:06:39': 1, '2022-09-20 05:06:41': 1, '2022-09-20 05:06:43': 1, '2022-09-20 05:06:45': 1, '2022-09-20 05:06:47': 1, '2022-09-20 05:06:49': 1, '2022-09-20 05:06:51': 1, '2022-09-20 05:06:53': 1, '2022-09-20 05:06:55': 1, '2022-09-20 05:06:57': 1, '2022-09-20 05:06:59': 1, '2022-09-20 05:07:01': 1, '2022-09-20 05:07:03': 1, '2022-09-20 05:07:05': 1, '2022-09-20 05:07:07': 1, '2022-09-20 05:07:09': 1, '2022-09-20 05:07:11': 1, '2022-09-20 05:07:13': 1, '2022-09-20 05:07:15': 1, '2022-09-20 05:07:17': 1, '2022-09-20 05:07:19': 1, '2022-09-20 05:07:21': 1, '2022-09-20 05:07:23': 1, '2022-09-20 05:07:25': 1, '2022-09-20 05:07:27': 1, '2022-09-20 05:07:29': 1, '2022-09-20 05:07:31': 1, '2022-09-20 05:07:33': 1, '2022-09-20 05:07:35': 1, '2022-09-20 05:07:37': 1, '2022-09-20 05:07:40': 1, '2022-09-20 05:07:42': 1, '2022-09-20 05:07:44': 1, '2022-09-20 05:07:46': 1, '2022-09-20 05:07:48': 1, '2022-09-20 05:07:50': 1, '2022-09-20 05:07:52': 1, '2022-09-20 05:07:54': 1, '2022-09-20 05:07:56': 1, '2022-09-20 05:07:58': 1, '2022-09-20 05:08:00': 1, '2022-09-20 05:08:02': 1, '0xf77c0be0': 1, '0xf6fbfbe0': 1})\n",
      "frequency of edge: Counter({'time': 150, 'mprotect': 100, 'fstat': 75, 'open': 68, 'read': 63, 'mmap': 60, 'stat': 48, 'access': 30, 'brk': 28, 'munmap': 16, 'exit_group': 13, 'arch_prctl': 12, 'statfs': 12, 'set_robust_list': 11, 'clone': 10, 'getpid': 9, 'set_tid_address': 7, 'futex': 7, 'waitpid': 6, 'getuid': 6, 'getgid': 6, 'geteuid': 6, 'getppid': 6, 'getegid': 6, 'exec': 6, 'prlimit64': 6, 'umask': 6, 'write': 6, 'fcntl': 3, 'fchown': 3, 'fchmod': 3, 'fstat64': 2, 'mmap2': 2, 'nanosleep': 2, 'set_thread_area': 1, 'ugetrlimit': 1, 'readlink': 1, 'getcwd': 1, 'setsid': 1, 'connect': 1, '_newselect': 1, 'getsockopt': 1, 'lseek': 1})\n",
      "# of syscall 43\n"
     ]
    }
   ],
   "source": [
    "analysis_graph(asg_all)"
   ]
  },
  {
   "cell_type": "code",
   "execution_count": 62,
   "metadata": {},
   "outputs": [
    {
     "data": {
      "text/plain": [
       "{'close',\n",
       " 'connect',\n",
       " 'execve',\n",
       " 'ioctl',\n",
       " 'openat',\n",
       " 'rename',\n",
       " 'rt_sigaction',\n",
       " 'rt_sigprocmask',\n",
       " 'rt_sigreturn',\n",
       " 'send',\n",
       " 'socket',\n",
       " 'uname',\n",
       " 'wait4'}"
      ]
     },
     "execution_count": 62,
     "metadata": {},
     "output_type": "execute_result"
    }
   ],
   "source": [
    "# 志剛發現 asg data structure 缺少了一些 syscall，如下 \n",
    "dict_from_net = {'set_thread_area': 1, 'ugetrlimit': 1, 'readlink': 1, 'getcwd': 1, 'setsid': 1, 'uname': 2, 'fcntl': 3, 'fchown': 3, 'fchmod': 3, 'rename': 3, 'waitpid': 6, 'getuid': 6, 'getgid': 6, 'getppid': 6, 'getegid': 6, 'wait4': 6, 'rt_sigreturn': 6, 'prlimit64': 6, 'umask': 6, 'set_tid_address': 7, 'futex': 8, 'getpid': 9, 'set_robust_list': 11, 'arch_prctl': 12, 'geteuid': 12, 'statfs': 12, 'execve': 13, 'exit_group': 13, 'clone': 16, 'write': 28, 'connect': 39, '_newselect': 39, 'getsockopt': 39, 'send': 39, 'brk': 40, 'socket': 40, 'stat': 48, 'access': 66, 'fstat': 78, 'ioctl': 91, 'mprotect': 100, 'mmap': 138, 'openat': 143, 'time': 189, 'fstat64': 299, 'mmap2': 303, 'munmap': 312, 'nanosleep': 336, 'rt_sigaction': 385, 'rt_sigprocmask': 624, 'lseek': 1500, 'open': 2041, 'read': 2101, 'close': 2463}\n",
    "dict_from_asg = {'time': 150, 'mprotect': 100, 'fstat': 75, 'open': 68, 'read': 63, 'mmap': 60, 'stat': 48, 'access': 30, 'brk': 28, 'munmap': 16, 'exit_group': 13, 'arch_prctl': 12, 'statfs': 12, 'set_robust_list': 11, 'clone': 10, 'getpid': 9, 'set_tid_address': 7, 'futex': 7, 'waitpid': 6, 'getuid': 6, 'getgid': 6, 'geteuid': 6, 'getppid': 6, 'getegid': 6, 'exec': 6, 'prlimit64': 6, 'umask': 6, 'write': 6, 'fcntl': 3, 'fchown': 3, 'fchmod': 3, 'fstat64': 2, 'mmap2': 2, 'nanosleep': 2, 'set_thread_area': 1, 'ugetrlimit': 1, 'readlink': 1, 'getcwd': 1, 'setsid': 1, '_newselect': 1, 'getsockopt': 1, 'lseek': 1}\n",
    "setA = set(dict_from_net.keys())\n",
    "setB = set(dict_from_asg.keys())\n",
    "setA - setB"
   ]
  },
  {
   "cell_type": "code",
   "execution_count": 59,
   "metadata": {},
   "outputs": [
    {
     "data": {
      "text/plain": [
       "True"
      ]
     },
     "execution_count": 59,
     "metadata": {},
     "output_type": "execute_result"
    }
   ],
   "source": [
    "'exec' in setB"
   ]
  },
  {
   "cell_type": "code",
   "execution_count": null,
   "metadata": {},
   "outputs": [],
   "source": []
  }
 ],
 "metadata": {
  "kernelspec": {
   "display_name": "Python 3.8.0 ('py3_8')",
   "language": "python",
   "name": "python3"
  },
  "language_info": {
   "codemirror_mode": {
    "name": "ipython",
    "version": 3
   },
   "file_extension": ".py",
   "mimetype": "text/x-python",
   "name": "python",
   "nbconvert_exporter": "python",
   "pygments_lexer": "ipython3",
   "version": "3.8.0"
  },
  "orig_nbformat": 4,
  "vscode": {
   "interpreter": {
    "hash": "593d77fc80f492a69d777c8391608d31cfb20b60cd0c0ea90f6821e584cab7a6"
   }
  }
 },
 "nbformat": 4,
 "nbformat_minor": 2
}
