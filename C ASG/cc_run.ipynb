{
 "cells": [
  {
   "cell_type": "markdown",
   "metadata": {},
   "source": [
    "### Get sample's filename"
   ]
  },
  {
   "cell_type": "code",
   "execution_count": 2,
   "metadata": {},
   "outputs": [],
   "source": [
    "import pandas as pd\n",
    "import pickle"
   ]
  },
  {
   "cell_type": "code",
   "execution_count": 3,
   "metadata": {},
   "outputs": [],
   "source": [
    "def get_executable_sample() -> dict:\n",
    "    df = pd.read_csv(\"../C malware info/sample_info.csv\")\n",
    "    family_lst = df.family.unique()\n",
    "    sample_dct = {}\n",
    "    for key in family_lst:\n",
    "        sample_dct[key] = []\n",
    "\n",
    "    for idx, row in df.iterrows():\n",
    "        if row.platform in ['X86_64','X86','ARM']:\n",
    "            sample_dct[row.family].append(row.filename)\n",
    "    return sample_dct\n",
    "\n",
    "sample_dct = get_executable_sample()\n",
    "\n",
    "# save dictionary\n",
    "with open('sample_dct.pkl', 'wb') as outp:\n",
    "    pickle.dump(sample_dct, outp, pickle.HIGHEST_PROTOCOL)"
   ]
  },
  {
   "cell_type": "code",
   "execution_count": 7,
   "metadata": {},
   "outputs": [],
   "source": [
    "# load dictionary\n",
    "with open('sample_dct.pkl', 'rb') as inp:\n",
    "    sample_dct = pickle.load(inp)"
   ]
  },
  {
   "cell_type": "code",
   "execution_count": 5,
   "metadata": {},
   "outputs": [
    {
     "data": {
      "text/plain": [
       "['16b4093813e2923e9ee70b888f0d50f972ac607253b00f25e4be44993d263bd2.bin',\n",
       " '28443c0a9bfd8a12c12a2aad3cc97d2e8998a9d8825fcf3643d46012f18713f0.bin',\n",
       " '46389c117c5f41b60e10f965b3674b3b77189b504b0aeb5c2da67adf55a7129f.bin',\n",
       " '7d3855bb09f2f6111d6c71e06e1e6b06dd47b1dade49af0235b220966c2f5be3.bin']"
      ]
     },
     "execution_count": 5,
     "metadata": {},
     "output_type": "execute_result"
    }
   ],
   "source": [
    "sample_dct"
   ]
  },
  {
   "cell_type": "markdown",
   "metadata": {},
   "source": [
    "### Build \n",
    "[solved] Must run in `.py` file, cant run in `.ipynb`. Don't know why.\n",
    "- 注意 trace folder 和 csv 的家族名稱不同，一個有 `-all` 一個沒有，兩者要一致否則會出 node 都是 0。\n",
    "- 跑到 xorddos 的 ./trace/Dofloo/xxx 噴 FileNotFoundError: [WinError 2] 系統找不到指定的檔案。\n",
    "    - f477b05826c46ac8a482e85d89b00de0.bin (有時候又OK)"
   ]
  },
  {
   "cell_type": "code",
   "execution_count": 11,
   "metadata": {},
   "outputs": [
    {
     "name": "stdout",
     "output_type": "stream",
     "text": [
      "Collecting graphviz\n",
      "  Using cached graphviz-0.20.1-py3-none-any.whl (47 kB)\n",
      "Installing collected packages: graphviz\n",
      "Successfully installed graphviz-0.20.1\n"
     ]
    }
   ],
   "source": [
    "# ! pip install graphviz"
   ]
  },
  {
   "cell_type": "code",
   "execution_count": 11,
   "metadata": {},
   "outputs": [
    {
     "name": "stdout",
     "output_type": "stream",
     "text": [
      "building family Dofloo\n",
      "building sample 0046a78514a658b9b7a4e29e8581f85b.bin\n",
      "Node before reduction:  36\n",
      "36\n",
      "Nodes after reduction:  36\n",
      "building sample 04b790e3b0dd70389c516216f81c6e5d.bin\n",
      "Node before reduction:  1\n",
      "1\n",
      "Nodes after reduction:  1\n",
      "building sample 121ca5362f9bc3fff5258b757e4250e5.bin\n",
      "Node before reduction:  35\n",
      "35\n",
      "Nodes after reduction:  35\n",
      "building sample 26d45f2e2d360ff1707c734006878dcb.bin\n",
      "Node before reduction:  35\n",
      "35\n",
      "Nodes after reduction:  35\n",
      "building sample 392214344b6d802dc4da644be260277e.bin\n",
      "Node before reduction:  36\n",
      "36\n",
      "Nodes after reduction:  36\n",
      "building sample 44d98df44327179d1a11dce725d0fa4a.bin\n",
      "Node before reduction:  36\n",
      "36\n",
      "Nodes after reduction:  36\n",
      "building sample 52ff8e32c390389f5bf18e0f0e2d9ada.bin\n",
      "Node before reduction:  25\n",
      "25\n",
      "Nodes after reduction:  25\n",
      "building sample 54a11aacadee0ed46e76373cfb8ed296.bin\n",
      "Node before reduction:  36\n",
      "36\n",
      "Nodes after reduction:  36\n",
      "building sample 5700e4b1c6498619a0e2562321363bd0.bin\n",
      "Node before reduction:  28\n",
      "28\n",
      "Nodes after reduction:  28\n",
      "building sample 60f879ed44de37351c973f01d0d77f79.bin\n",
      "Node before reduction:  57\n",
      "57\n",
      "Nodes after reduction:  57\n",
      "building sample 74ea372e01980c67f8a6f40b39897ebe.bin\n",
      "Node before reduction:  57\n",
      "57\n",
      "Nodes after reduction:  57\n",
      "building sample 8845355172c485813872f1bb1834de15.bin\n",
      "Node before reduction:  33\n",
      "33\n",
      "Nodes after reduction:  33\n",
      "building sample 9a37fcc7eab08d59532bc5c66390bc30.bin\n",
      "Node before reduction:  36\n",
      "36\n",
      "Nodes after reduction:  36\n",
      "building sample bd6b7198812618eab8ef45c7dabeebb0.bin\n",
      "Node before reduction:  36\n",
      "36\n",
      "Nodes after reduction:  36\n",
      "building sample f477b05826c46ac8a482e85d89b00de0.bin\n",
      "Node before reduction:  25\n",
      "25\n",
      "Nodes after reduction:  25\n"
     ]
    }
   ],
   "source": [
    "from cc_module import build\n",
    "\n",
    "for family_name in sample_dct:\n",
    "    if family_name != 'Dofloo': # 只建這個 family 的圖\n",
    "        continue\n",
    "    print(f'building family {family_name}')\n",
    "    for s in sample_dct[family_name]:\n",
    "        print(f'building sample {s}')\n",
    "        try:\n",
    "            # 建立圖譜並存檔\n",
    "            build(family_name, s)\n",
    "        except FileNotFoundError:\n",
    "            print('[Error] FileNotFoundError')\n",
    "    # [build(family_name, s) for s in sample_dct[family_name]] #　一行搞定版"
   ]
  },
  {
   "cell_type": "code",
   "execution_count": null,
   "metadata": {},
   "outputs": [],
   "source": []
  }
 ],
 "metadata": {
  "kernelspec": {
   "display_name": "Python 3.7.7 ('testAI')",
   "language": "python",
   "name": "python3"
  },
  "language_info": {
   "codemirror_mode": {
    "name": "ipython",
    "version": 3
   },
   "file_extension": ".py",
   "mimetype": "text/x-python",
   "name": "python",
   "nbconvert_exporter": "python",
   "pygments_lexer": "ipython3",
   "version": "3.7.7"
  },
  "orig_nbformat": 4,
  "vscode": {
   "interpreter": {
    "hash": "c20d4d726aff38b52800cde1ca48e4aee5c5aa587776fadab5a3d240c6c942f6"
   }
  }
 },
 "nbformat": 4,
 "nbformat_minor": 2
}
