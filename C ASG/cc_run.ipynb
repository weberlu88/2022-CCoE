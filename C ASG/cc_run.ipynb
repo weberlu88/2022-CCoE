{
 "cells": [
  {
   "cell_type": "markdown",
   "metadata": {},
   "source": [
    "### Get sample's filename"
   ]
  },
  {
   "cell_type": "code",
   "execution_count": 143,
   "metadata": {},
   "outputs": [],
   "source": [
    "import pandas as pd\n",
    "import pickle"
   ]
  },
  {
   "cell_type": "code",
   "execution_count": 144,
   "metadata": {},
   "outputs": [],
   "source": [
    "def get_executable_sample() -> dict:\n",
    "    df = pd.read_csv(\"../C malware info/sample_info.csv\")\n",
    "    family_lst = df.family.unique()\n",
    "    sample_dct = {}\n",
    "    for key in family_lst:\n",
    "        sample_dct[key] = []\n",
    "\n",
    "    for idx, row in df.iterrows():\n",
    "        if row.platform in ['X86_64','X86','ARM']:\n",
    "            sample_dct[row.family].append(row.filename)\n",
    "    return sample_dct\n",
    "\n",
    "sample_dct = get_executable_sample()\n",
    "\n",
    "# save dictionary\n",
    "with open('sample_dct.pkl', 'wb') as outp:\n",
    "    pickle.dump(sample_dct, outp, pickle.HIGHEST_PROTOCOL)"
   ]
  },
  {
   "cell_type": "code",
   "execution_count": 145,
   "metadata": {},
   "outputs": [],
   "source": [
    "# load dictionary\n",
    "with open('sample_dct.pkl', 'rb') as inp:\n",
    "    sample_dct = pickle.load(inp)"
   ]
  },
  {
   "cell_type": "code",
   "execution_count": 146,
   "metadata": {},
   "outputs": [
    {
     "data": {
      "text/plain": [
       "{'Xorddos': ['07c070b717a23453a2b71c7582d6a928.bin',\n",
       "  '0aefb67c01a24d05351b093455203fa2.bin',\n",
       "  '0bc90c333f08237475a08c7158aba345.bin',\n",
       "  '127ee9c007774e8f1101fb40ea05b42e.bin',\n",
       "  '16eb5d018d45024462dd63de470a8575.bin',\n",
       "  '24dca1b2097ad6c2e5d8b03d3022f010.bin',\n",
       "  '39b38284c6ca30d09481fcb5dc7197aa.bin',\n",
       "  '7354323ff72a6132359c5aa76bf9904a.bin',\n",
       "  '75a00aad5b506496a2644488064c39b4.bin',\n",
       "  '7eba17d4ea5615e239c00e47d182e08a.bin',\n",
       "  '91db8962e1a67a82cb5f9d2fd59ca9ff.bin',\n",
       "  '96f125505ca736ff5d85ed33fa1c9b15.bin',\n",
       "  '98d38858bcdcb327df21c3aee1ff40bc.bin',\n",
       "  'a1f3ac69bc5030ecf1b351246986621a.bin',\n",
       "  'b808c078b9786115200002b910a5a05c.bin',\n",
       "  'd130caa1294885cc39ee0bc38037a0ee.bin',\n",
       "  'df7bba1c415ec78a6d9e29d6c92f8a86.bin',\n",
       "  'e1ec02725fcf3bce48e3131b1a6f2684.bin',\n",
       "  'e8c7e887a3e46bfe41fc34a396184f79.bin',\n",
       "  'eaa1aa078adc417afb112e145cb624f6.bin',\n",
       "  'eadf8abf7738144e929a25e9eb7d8076.bin'],\n",
       " 'Mirai': ['3d9487191dd4e712cbfb8f4dcf916a707f60c3fb23807d4c02fb941e216f951d.bin',\n",
       "  'ac13002f74249e0eab2dacb596a60323130664b8c19d938af726508fdc7500a2.bin',\n",
       "  'e666e0c720387db27e23c65d6a252f79587ca1b9d1c38e96d6db13b05d5b73fa.bin'],\n",
       " 'Dofloo': ['0046a78514a658b9b7a4e29e8581f85b.bin',\n",
       "  '121ca5362f9bc3fff5258b757e4250e5.bin',\n",
       "  '26d45f2e2d360ff1707c734006878dcb.bin',\n",
       "  '392214344b6d802dc4da644be260277e.bin',\n",
       "  '44d98df44327179d1a11dce725d0fa4a.bin',\n",
       "  '52ff8e32c390389f5bf18e0f0e2d9ada.bin',\n",
       "  '54a11aacadee0ed46e76373cfb8ed296.bin',\n",
       "  '5700e4b1c6498619a0e2562321363bd0.bin',\n",
       "  '60f879ed44de37351c973f01d0d77f79.bin',\n",
       "  '74ea372e01980c67f8a6f40b39897ebe.bin',\n",
       "  '8845355172c485813872f1bb1834de15.bin',\n",
       "  '9a37fcc7eab08d59532bc5c66390bc30.bin',\n",
       "  'bd6b7198812618eab8ef45c7dabeebb0.bin',\n",
       "  'f477b05826c46ac8a482e85d89b00de0.bin'],\n",
       " 'Tsunami': ['16b4093813e2923e9ee70b888f0d50f972ac607253b00f25e4be44993d263bd2.bin',\n",
       "  '46389c117c5f41b60e10f965b3674b3b77189b504b0aeb5c2da67adf55a7129f.bin',\n",
       "  '7d3855bb09f2f6111d6c71e06e1e6b06dd47b1dade49af0235b220966c2f5be3.bin']}"
      ]
     },
     "execution_count": 146,
     "metadata": {},
     "output_type": "execute_result"
    }
   ],
   "source": [
    "sample_dct"
   ]
  },
  {
   "cell_type": "markdown",
   "metadata": {},
   "source": [
    "### Build \n",
    "[solved] Must run in `.py` file, cant run in `.ipynb`. Don't know why.\n",
    "- 注意 trace folder 和 csv 的家族名稱不同，一個有 `-all` 一個沒有，兩者要一致否則會出 node 都是 0。\n",
    "- 跑到 xorddos 的 ./trace/Dofloo/xxx 噴 FileNotFoundError: [WinError 2] 系統找不到指定的檔案。\n",
    "    - f477b05826c46ac8a482e85d89b00de0.bin (有時候又OK)"
   ]
  },
  {
   "cell_type": "code",
   "execution_count": 147,
   "metadata": {},
   "outputs": [],
   "source": [
    "# ! pip install graphviz"
   ]
  },
  {
   "cell_type": "code",
   "execution_count": 148,
   "metadata": {},
   "outputs": [
    {
     "name": "stdout",
     "output_type": "stream",
     "text": [
      "building family Dofloo\n",
      "building sample 0046a78514a658b9b7a4e29e8581f85b.bin\n",
      "path: ./trace/Dofloo/0046a78514a658b9b7a4e29e8581f85b.bin\n",
      "Nodes after reduction:  36\n",
      "building sample 121ca5362f9bc3fff5258b757e4250e5.bin\n",
      "path: ./trace/Dofloo/121ca5362f9bc3fff5258b757e4250e5.bin\n",
      "Nodes after reduction:  35\n",
      "building sample 26d45f2e2d360ff1707c734006878dcb.bin\n",
      "path: ./trace/Dofloo/26d45f2e2d360ff1707c734006878dcb.bin\n",
      "Nodes after reduction:  35\n",
      "building sample 392214344b6d802dc4da644be260277e.bin\n",
      "path: ./trace/Dofloo/392214344b6d802dc4da644be260277e.bin\n",
      "Nodes after reduction:  36\n",
      "building sample 44d98df44327179d1a11dce725d0fa4a.bin\n",
      "path: ./trace/Dofloo/44d98df44327179d1a11dce725d0fa4a.bin\n",
      "Nodes after reduction:  36\n",
      "building sample 52ff8e32c390389f5bf18e0f0e2d9ada.bin\n",
      "path: ./trace/Dofloo/52ff8e32c390389f5bf18e0f0e2d9ada.bin\n",
      "Nodes after reduction:  25\n",
      "building sample 54a11aacadee0ed46e76373cfb8ed296.bin\n",
      "path: ./trace/Dofloo/54a11aacadee0ed46e76373cfb8ed296.bin\n",
      "Nodes after reduction:  36\n",
      "building sample 5700e4b1c6498619a0e2562321363bd0.bin\n",
      "path: ./trace/Dofloo/5700e4b1c6498619a0e2562321363bd0.bin\n",
      "Nodes after reduction:  28\n",
      "building sample 60f879ed44de37351c973f01d0d77f79.bin\n",
      "path: ./trace/Dofloo/60f879ed44de37351c973f01d0d77f79.bin\n",
      "Nodes after reduction:  57\n",
      "building sample 74ea372e01980c67f8a6f40b39897ebe.bin\n",
      "path: ./trace/Dofloo/74ea372e01980c67f8a6f40b39897ebe.bin\n",
      "Nodes after reduction:  57\n",
      "building sample 8845355172c485813872f1bb1834de15.bin\n",
      "path: ./trace/Dofloo/8845355172c485813872f1bb1834de15.bin\n",
      "Nodes after reduction:  33\n",
      "building sample 9a37fcc7eab08d59532bc5c66390bc30.bin\n",
      "path: ./trace/Dofloo/9a37fcc7eab08d59532bc5c66390bc30.bin\n",
      "Nodes after reduction:  36\n",
      "building sample bd6b7198812618eab8ef45c7dabeebb0.bin\n",
      "path: ./trace/Dofloo/bd6b7198812618eab8ef45c7dabeebb0.bin\n",
      "Nodes after reduction:  36\n",
      "building sample f477b05826c46ac8a482e85d89b00de0.bin\n",
      "path: ./trace/Dofloo/f477b05826c46ac8a482e85d89b00de0.bin\n",
      "Nodes after reduction:  25\n"
     ]
    }
   ],
   "source": [
    "from cc_module import build\n",
    "\n",
    "for family_name in sample_dct:\n",
    "    if family_name != 'Dofloo': # 只建這個 family 的圖\n",
    "        continue\n",
    "    print(f'building family {family_name}')\n",
    "    for s in sample_dct[family_name]:\n",
    "        print(f'building sample {s}')\n",
    "        try:\n",
    "            # 建立圖譜並存檔\n",
    "            build(family_name, s)\n",
    "        except FileNotFoundError:\n",
    "            print('[Error] FileNotFoundError')\n",
    "    # [build(family_name, s) for s in sample_dct[family_name]] #　一行搞定版"
   ]
  },
  {
   "cell_type": "markdown",
   "metadata": {},
   "source": [
    "### Build 並回傳 ASG 資料結構\n",
    "可以從 class AttackGraph 取得圖譜上的節點， asg.graph.keys()。"
   ]
  },
  {
   "cell_type": "code",
   "execution_count": 149,
   "metadata": {},
   "outputs": [
    {
     "name": "stdout",
     "output_type": "stream",
     "text": [
      "path: ./trace/Dofloo/9a37fcc7eab08d59532bc5c66390bc30.bin\n",
      "Nodes after reduction:  36\n"
     ]
    },
    {
     "data": {
      "text/plain": [
       "graphviz.graphs.Digraph"
      ]
     },
     "execution_count": 149,
     "metadata": {},
     "output_type": "execute_result"
    }
   ],
   "source": [
    "# 跑單一個圖\n",
    "from cc_module import build\n",
    "\n",
    "asg, g = build('Dofloo', '9a37fcc7eab08d59532bc5c66390bc30.bin')\n",
    "type(g)"
   ]
  },
  {
   "cell_type": "code",
   "execution_count": 150,
   "metadata": {},
   "outputs": [
    {
     "data": {
      "text/plain": [
       "{'/dev/urandom',\n",
       " '/etc/init.d/boot.local',\n",
       " '/etc/rc.d/rc.local',\n",
       " '/etc/rc.local',\n",
       " '/proc/net/dev',\n",
       " '/proc/stat',\n",
       " '/sys/devices/system/cpu/online',\n",
       " '1529',\n",
       " '1530',\n",
       " '1531',\n",
       " '1532',\n",
       " '183.131.83.38:50050',\n",
       " 'eth0',\n",
       " 'eth1',\n",
       " 'eth2',\n",
       " 'eth3',\n",
       " 'eth4',\n",
       " 'eth5',\n",
       " 'eth6',\n",
       " 'eth7',\n",
       " 'eth8',\n",
       " 'eth9',\n",
       " 'malware',\n",
       " 'sed',\n",
       " 'sh',\n",
       " 'uname'}"
      ]
     },
     "execution_count": 150,
     "metadata": {},
     "output_type": "execute_result"
    }
   ],
   "source": [
    "names = [node.name for node in asg.graph.keys()]\n",
    "set(names)"
   ]
  },
  {
   "cell_type": "markdown",
   "metadata": {},
   "source": [
    "### Nodes 統計紀錄\n"
   ]
  },
  {
   "cell_type": "markdown",
   "metadata": {},
   "source": [
    "取得所有樣本的 Node，進行比對。"
   ]
  },
  {
   "cell_type": "code",
   "execution_count": 160,
   "metadata": {},
   "outputs": [
    {
     "name": "stdout",
     "output_type": "stream",
     "text": [
      "path: ./trace/Xorddos/07c070b717a23453a2b71c7582d6a928.bin\n",
      "Nodes after reduction:  1097\n",
      "path: ./trace/Xorddos/0aefb67c01a24d05351b093455203fa2.bin\n",
      "Nodes after reduction:  992\n",
      "path: ./trace/Xorddos/0bc90c333f08237475a08c7158aba345.bin\n",
      "Nodes after reduction:  991\n",
      "path: ./trace/Xorddos/127ee9c007774e8f1101fb40ea05b42e.bin\n",
      "Nodes after reduction:  1091\n",
      "path: ./trace/Xorddos/16eb5d018d45024462dd63de470a8575.bin\n",
      "Nodes after reduction:  1106\n",
      "path: ./trace/Xorddos/24dca1b2097ad6c2e5d8b03d3022f010.bin\n",
      "Nodes after reduction:  981\n",
      "path: ./trace/Xorddos/39b38284c6ca30d09481fcb5dc7197aa.bin\n",
      "Nodes after reduction:  1104\n",
      "path: ./trace/Xorddos/7354323ff72a6132359c5aa76bf9904a.bin\n",
      "Nodes after reduction:  976\n",
      "path: ./trace/Xorddos/75a00aad5b506496a2644488064c39b4.bin\n",
      "Nodes after reduction:  989\n",
      "path: ./trace/Xorddos/7eba17d4ea5615e239c00e47d182e08a.bin\n",
      "Nodes after reduction:  987\n",
      "path: ./trace/Xorddos/91db8962e1a67a82cb5f9d2fd59ca9ff.bin\n",
      "Nodes after reduction:  1106\n",
      "path: ./trace/Xorddos/96f125505ca736ff5d85ed33fa1c9b15.bin\n",
      "Nodes after reduction:  1105\n",
      "path: ./trace/Xorddos/98d38858bcdcb327df21c3aee1ff40bc.bin\n",
      "Nodes after reduction:  1100\n",
      "path: ./trace/Xorddos/a1f3ac69bc5030ecf1b351246986621a.bin\n",
      "Nodes after reduction:  1107\n",
      "path: ./trace/Xorddos/b808c078b9786115200002b910a5a05c.bin\n",
      "Nodes after reduction:  989\n",
      "path: ./trace/Xorddos/d130caa1294885cc39ee0bc38037a0ee.bin\n",
      "Nodes after reduction:  995\n",
      "path: ./trace/Xorddos/df7bba1c415ec78a6d9e29d6c92f8a86.bin\n",
      "Nodes after reduction:  1095\n",
      "path: ./trace/Xorddos/e1ec02725fcf3bce48e3131b1a6f2684.bin\n",
      "Nodes after reduction:  1108\n",
      "path: ./trace/Xorddos/e8c7e887a3e46bfe41fc34a396184f79.bin\n",
      "Nodes after reduction:  1109\n",
      "path: ./trace/Xorddos/eaa1aa078adc417afb112e145cb624f6.bin\n",
      "Nodes after reduction:  1114\n",
      "path: ./trace/Xorddos/eadf8abf7738144e929a25e9eb7d8076.bin\n",
      "Nodes after reduction:  990\n",
      "path: ./trace/Mirai/3d9487191dd4e712cbfb8f4dcf916a707f60c3fb23807d4c02fb941e216f951d.bin\n",
      "Nodes after reduction:  6\n",
      "path: ./trace/Mirai/ac13002f74249e0eab2dacb596a60323130664b8c19d938af726508fdc7500a2.bin\n",
      "Nodes after reduction:  15\n",
      "path: ./trace/Mirai/e666e0c720387db27e23c65d6a252f79587ca1b9d1c38e96d6db13b05d5b73fa.bin\n",
      "Nodes after reduction:  94\n",
      "path: ./trace/Dofloo/0046a78514a658b9b7a4e29e8581f85b.bin\n",
      "Nodes after reduction:  36\n",
      "path: ./trace/Dofloo/121ca5362f9bc3fff5258b757e4250e5.bin\n",
      "Nodes after reduction:  35\n",
      "path: ./trace/Dofloo/26d45f2e2d360ff1707c734006878dcb.bin\n",
      "Nodes after reduction:  35\n",
      "path: ./trace/Dofloo/392214344b6d802dc4da644be260277e.bin\n",
      "Nodes after reduction:  36\n",
      "path: ./trace/Dofloo/44d98df44327179d1a11dce725d0fa4a.bin\n",
      "Nodes after reduction:  36\n",
      "path: ./trace/Dofloo/52ff8e32c390389f5bf18e0f0e2d9ada.bin\n",
      "Nodes after reduction:  25\n",
      "path: ./trace/Dofloo/54a11aacadee0ed46e76373cfb8ed296.bin\n",
      "Nodes after reduction:  36\n",
      "path: ./trace/Dofloo/5700e4b1c6498619a0e2562321363bd0.bin\n",
      "Nodes after reduction:  28\n",
      "path: ./trace/Dofloo/60f879ed44de37351c973f01d0d77f79.bin\n",
      "Nodes after reduction:  57\n",
      "path: ./trace/Dofloo/74ea372e01980c67f8a6f40b39897ebe.bin\n",
      "Nodes after reduction:  57\n",
      "path: ./trace/Dofloo/8845355172c485813872f1bb1834de15.bin\n",
      "Nodes after reduction:  33\n",
      "path: ./trace/Dofloo/9a37fcc7eab08d59532bc5c66390bc30.bin\n",
      "Nodes after reduction:  36\n",
      "path: ./trace/Dofloo/bd6b7198812618eab8ef45c7dabeebb0.bin\n",
      "Nodes after reduction:  36\n",
      "path: ./trace/Dofloo/f477b05826c46ac8a482e85d89b00de0.bin\n",
      "Nodes after reduction:  25\n",
      "path: ./trace/Tsunami/16b4093813e2923e9ee70b888f0d50f972ac607253b00f25e4be44993d263bd2.bin\n",
      "Nodes after reduction:  3\n",
      "path: ./trace/Tsunami/46389c117c5f41b60e10f965b3674b3b77189b504b0aeb5c2da67adf55a7129f.bin\n",
      "Nodes after reduction:  4\n",
      "path: ./trace/Tsunami/7d3855bb09f2f6111d6c71e06e1e6b06dd47b1dade49af0235b220966c2f5be3.bin\n",
      "Nodes after reduction:  3\n"
     ]
    }
   ],
   "source": [
    "from cc_module import build\n",
    "df = pd.read_csv(\"../C malware info/sample_info.csv\")\n",
    "\n",
    "# key: family -> nodes, value: freq counts of the node\n",
    "familyNameList = df.family.unique()\n",
    "# '{}' is not a factory!!\n",
    "# https://stackoverflow.com/a/29015307\n",
    "nodes_value_cnts = {key: {} for key in familyNameList}\n",
    "# print(\"Initial nodes_value_cnts is: \", nodes_value_cnts)\n",
    "for inx, row in df.iterrows():\n",
    "    family_name = row.family\n",
    "    sample_name = row.filename\n",
    "    # print(family_name, sample_name)\n",
    "    # if family_name not in ['Mirai', 'Tsunami']:\n",
    "    #     continue\n",
    "    asg, g = build(family_name, sample_name, save_file=False)\n",
    "    nodes = set([node.name for node in asg.graph.keys()]) # nodes of the asg in this sample\n",
    "    for n in nodes: # record the freq of this sample\n",
    "        if isinstance(n, int): # if node is pid -> ignore\n",
    "            continue\n",
    "        try:\n",
    "            int(n)\n",
    "            continue\n",
    "        except:\n",
    "            pass\n",
    "        family_dict = nodes_value_cnts[family_name]\n",
    "        try:\n",
    "            family_dict[n] += 1\n",
    "            # print(\"nodes_value_cnts[\", family_name, \"][\", n, \"] +1=\", family_dict[n])\n",
    "        except KeyError:\n",
    "            family_dict[n] = 1\n",
    "            # print(\"nodes_value_cnts[\",family_name, \"][\", n, \"] init: \", family_dict[n])\n",
    "    # print(\"Now nodes_value_cnts is: \", nodes_value_cnts)"
   ]
  },
  {
   "cell_type": "code",
   "execution_count": 155,
   "metadata": {},
   "outputs": [
    {
     "data": {
      "text/plain": [
       "{'Xorddos': {},\n",
       " 'Mirai': {'8.8.8.8:53': 3,\n",
       "  '192.168.1.2:38273': 1,\n",
       "  'malware': 3,\n",
       "  '0.0.0.0:38273': 1,\n",
       "  '5.182.210.244:38273': 1,\n",
       "  '/proc/net/tcp': 1,\n",
       "  '255.255.255.255:3074': 1,\n",
       "  '111.240.131.42:23': 1,\n",
       "  '/dev/misc/watchdog': 2,\n",
       "  '/dev/watchdog': 2,\n",
       "  '/bin/watchdog': 2,\n",
       "  '/etc/watchdog': 2,\n",
       "  '/dev/watchdog0': 2,\n",
       "  '/proc/self/exe': 1,\n",
       "  '136.144.41.60:3074': 1,\n",
       "  '/proc/1431/cmdline': 1,\n",
       "  '/proc/1801/cmdline': 1,\n",
       "  '/proc/1799/cmdline': 1,\n",
       "  '/proc/1813/cmdline': 1,\n",
       "  '219.244.162.21:23': 1,\n",
       "  '195.236.162.21:80': 1,\n",
       "  '/proc/1795/cmdline': 1,\n",
       "  '/proc/1422/cmdline': 1,\n",
       "  '/proc/1811/cmdline': 1,\n",
       "  '/proc/1803/cmdline': 1,\n",
       "  '/etc/default/watchdog': 1,\n",
       "  '/proc/1086/cmdline': 1,\n",
       "  '/proc/1882/cmdline': 1,\n",
       "  '/proc/1797/cmdline': 1,\n",
       "  '/proc/1798/cmdline': 1,\n",
       "  '/proc/1793/cmdline': 1,\n",
       "  '/proc/1505/cmdline': 1,\n",
       "  '/proc/1883/cmdline': 1,\n",
       "  '/proc/1385/cmdline': 1,\n",
       "  '/proc/1384/cmdline': 1,\n",
       "  '/proc/1399/cmdline': 1,\n",
       "  '/proc/1881/cmdline': 1,\n",
       "  '/proc/1889/cmdline': 1,\n",
       "  '/proc/1414/cmdline': 1,\n",
       "  '/dev/FTWDT101_watchdog': 1,\n",
       "  '/proc/1263/cmdline': 1,\n",
       "  '127.0.0.1:46157': 1,\n",
       "  '/proc/1872/cmdline': 1,\n",
       "  '/proc/1819/cmdline': 1,\n",
       "  '/proc/1807/cmdline': 1,\n",
       "  '/proc/1884/cmdline': 1,\n",
       "  '62.171.150.168:23': 1,\n",
       "  '117.229.98.20:443': 1,\n",
       "  '/proc/1085/cmdline': 1,\n",
       "  '/proc/997/cmdline': 1,\n",
       "  '/proc/1367/cmdline': 1,\n",
       "  '/proc/1873/cmdline': 1,\n",
       "  '/proc/1789/cmdline': 1,\n",
       "  '/proc/959/cmdline': 1,\n",
       "  '/proc/1822/cmdline': 1,\n",
       "  '/proc/1824/cmdline': 1,\n",
       "  '/proc/1818/cmdline': 1,\n",
       "  '/proc/1871/cmdline': 1,\n",
       "  '/proc/1806/cmdline': 1,\n",
       "  '/proc/1421/cmdline': 1,\n",
       "  '/proc/1805/cmdline': 1,\n",
       "  '/proc/1814/cmdline': 1,\n",
       "  '/proc/': 1,\n",
       "  '/proc/1821/cmdline': 1,\n",
       "  '/proc/1027/cmdline': 1,\n",
       "  '/proc/945/cmdline': 1,\n",
       "  '/proc/1415/cmdline': 1,\n",
       "  '/proc/1887/cmdline': 1,\n",
       "  '/proc/1416/cmdline': 1,\n",
       "  '/proc/1468/cmdline': 1,\n",
       "  '/proc/1812/cmdline': 1,\n",
       "  '/proc/1418/cmdline': 1,\n",
       "  '/proc/1401/cmdline': 1,\n",
       "  '/proc/1848/cmdline': 1,\n",
       "  '/dev/FTWDT101/watchdog': 1,\n",
       "  '/proc/1527/cmdline': 1,\n",
       "  '/proc/1800/cmdline': 1,\n",
       "  '/proc/1861/cmdline': 1,\n",
       "  '/proc/1447/cmdline': 1,\n",
       "  '/proc/955/cmdline': 1,\n",
       "  '/proc/1380/cmdline': 1,\n",
       "  '/proc/1109/cmdline': 1,\n",
       "  '/proc/1796/cmdline': 1,\n",
       "  '/sbin/watchdog': 1,\n",
       "  '/proc/1792/cmdline': 1,\n",
       "  '/proc/1808/cmdline': 1,\n",
       "  '/proc/1790/cmdline': 1,\n",
       "  '/proc/1794/cmdline': 1,\n",
       "  '197.228.162.21:37215': 1,\n",
       "  '/proc/943/cmdline': 1,\n",
       "  '/proc/1804/cmdline': 1,\n",
       "  '/proc/1809/cmdline': 1,\n",
       "  '/proc/1473/cmdline': 1,\n",
       "  '/proc/1791/cmdline': 1,\n",
       "  '/proc/1423/cmdline': 1},\n",
       " 'Dofloo': {},\n",
       " 'Tsunami': {'sh': 3, 'pidof': 3, 'malware': 3, 'uname': 1}}"
      ]
     },
     "execution_count": 155,
     "metadata": {},
     "output_type": "execute_result"
    }
   ],
   "source": [
    "# copy & assert\n",
    "Xorddos = nodes_value_cnts['Xorddos']\n",
    "Mirai = nodes_value_cnts['Mirai']\n",
    "Mirai == Xorddos"
   ]
  },
  {
   "cell_type": "code",
   "execution_count": 166,
   "metadata": {},
   "outputs": [],
   "source": [
    "# save nodes_value_cnts\n",
    "with open('nodes_value_cnts.pkl', 'wb') as outp:\n",
    "    pickle.dump(nodes_value_cnts, outp, pickle.HIGHEST_PROTOCOL)"
   ]
  },
  {
   "cell_type": "code",
   "execution_count": 165,
   "metadata": {},
   "outputs": [
    {
     "name": "stdout",
     "output_type": "stream",
     "text": [
      "dict_keys(['Xorddos', 'Mirai', 'Dofloo', 'Tsunami'])\n"
     ]
    }
   ],
   "source": [
    "# analysis the nodes_value_cnts\n",
    "with open('./nodes_value_cnts_analysis.txt','w') as file:\n",
    "    family_name_lst = nodes_value_cnts.keys()\n",
    "    print(family_name_lst)\n",
    "    for f in family_name_lst:\n",
    "        file.write(f\"# Family {f}\\n\")\n",
    "        nodes = nodes_value_cnts[f]\n",
    "        for n in list(nodes.keys()):\n",
    "            try:\n",
    "                int(n)\n",
    "                nodes.pop(n)\n",
    "            except:\n",
    "                pass\n",
    "        sorted_nodes = dict(sorted(nodes.items(), key=lambda item: item[1], reverse=True))\n",
    "        for k,v in sorted_nodes.items():\n",
    "            file.write(f'{k}: {v}\\n')\n",
    "            # if v > 1:\n",
    "            #     print(f'{k}: {v}')\n",
    "        file.write('\\n\\n')\n",
    "\n",
    "        # 以 sort 過的 dict 取代原有的\n",
    "        nodes_value_cnts[f] = sorted_nodes"
   ]
  },
  {
   "cell_type": "code",
   "execution_count": 158,
   "metadata": {},
   "outputs": [
    {
     "ename": "NameError",
     "evalue": "name 'graph' is not defined",
     "output_type": "error",
     "traceback": [
      "\u001b[1;31m---------------------------------------------------------------------------\u001b[0m",
      "\u001b[1;31mNameError\u001b[0m                                 Traceback (most recent call last)",
      "\u001b[1;32m<ipython-input-158-eec5e314a86f>\u001b[0m in \u001b[0;36m<module>\u001b[1;34m\u001b[0m\n\u001b[1;32m----> 1\u001b[1;33m \u001b[0medges\u001b[0m \u001b[1;33m=\u001b[0m \u001b[0mgraph\u001b[0m\u001b[1;33m.\u001b[0m\u001b[0medges\u001b[0m\u001b[1;33m\u001b[0m\u001b[1;33m\u001b[0m\u001b[0m\n\u001b[0m\u001b[0;32m      2\u001b[0m \u001b[1;32mfor\u001b[0m \u001b[0mnodes\u001b[0m\u001b[1;33m,\u001b[0m \u001b[0medge\u001b[0m \u001b[1;32min\u001b[0m \u001b[0medges\u001b[0m\u001b[1;33m.\u001b[0m\u001b[0mitems\u001b[0m\u001b[1;33m(\u001b[0m\u001b[1;33m)\u001b[0m\u001b[1;33m:\u001b[0m\u001b[1;33m\u001b[0m\u001b[1;33m\u001b[0m\u001b[0m\n\u001b[0;32m      3\u001b[0m     \u001b[0mprint\u001b[0m\u001b[1;33m(\u001b[0m\u001b[0mnodes\u001b[0m\u001b[1;33m.\u001b[0m\u001b[0mname\u001b[0m\u001b[1;33m)\u001b[0m\u001b[1;33m\u001b[0m\u001b[1;33m\u001b[0m\u001b[0m\n",
      "\u001b[1;31mNameError\u001b[0m: name 'graph' is not defined"
     ]
    }
   ],
   "source": [
    "edges = graph.edges\n",
    "for nodes, edge in edges.items():\n",
    "    print(nodes.name)"
   ]
  },
  {
   "cell_type": "code",
   "execution_count": null,
   "metadata": {},
   "outputs": [],
   "source": []
  }
 ],
 "metadata": {
  "kernelspec": {
   "display_name": "Python 3",
   "language": "python",
   "name": "python3"
  },
  "language_info": {
   "codemirror_mode": {
    "name": "ipython",
    "version": 3
   },
   "file_extension": ".py",
   "mimetype": "text/x-python",
   "name": "python",
   "nbconvert_exporter": "python",
   "pygments_lexer": "ipython3",
   "version": "3.10.5"
  },
  "orig_nbformat": 4,
  "vscode": {
   "interpreter": {
    "hash": "125a1d8b627fe68767755740015967bae857d08bb92fb3fd0d9d8ed24f978d39"
   }
  }
 },
 "nbformat": 4,
 "nbformat_minor": 2
}
