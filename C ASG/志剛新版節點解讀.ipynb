{
 "cells": [
  {
   "cell_type": "markdown",
   "metadata": {},
   "source": [
    "所有節點:\n",
    "`\n",
    "['/dev/urandom',\n",
    " '/etc/init.d/boot.local',\n",
    " '/etc/ld.so.cache',\n",
    " '/etc/ld.so.nohwcap',\n",
    " '/etc/ld.so.preload',\n",
    " '/etc/rc.d/rc.local',\n",
    " '/etc/rc.local',\n",
    " '/etc/sedQUGLbs',\n",
    " '/etc/sedQhw17q',\n",
    " '/etc/sedvTqQwq',\n",
    " '/etc/selinux/config',\n",
    " '/lib/x86_64-linux-gnu/libc.so.6',\n",
    " '/lib/x86_64-linux-gnu/libdl.so.2',\n",
    " '/lib/x86_64-linux-gnu/libpcre.so.3',\n",
    " '/lib/x86_64-linux-gnu/libpthread.so.0',\n",
    " '/lib/x86_64-linux-gnu/libselinux.so.1',\n",
    " '/prober',\n",
    " '/proc/filesystems',\n",
    " '/proc/net/dev',\n",
    " '/proc/self/exe',\n",
    " '/proc/stat',\n",
    " '/sbin/sed',\n",
    " '/selinux',\n",
    " '/sys/devices/system',\n",
    " '/sys/fs/selinux',\n",
    " '/usr/bin/sed',\n",
    " '/usr/lib/locale',\n",
    " '/usr/local/bin',\n",
    " '/usr/share/locale-langpack',\n",
    " 'External_IP',\n",
    " 'eth',\n",
    " 'sed',\n",
    " 'sh',\n",
    " 'uname']\n",
    " `"
   ]
  },
  {
   "cell_type": "code",
   "execution_count": 1,
   "metadata": {},
   "outputs": [
    {
     "data": {
      "text/plain": [
       "['/dev/urandom',\n",
       " '/etc/init.d/boot.local',\n",
       " '/etc/ld.so.cache',\n",
       " '/etc/ld.so.nohwcap',\n",
       " '/etc/ld.so.preload',\n",
       " '/etc/rc.d/rc.local',\n",
       " '/etc/rc.local',\n",
       " '/etc/sedQUGLbs',\n",
       " '/etc/sedQhw17q',\n",
       " '/etc/sedvTqQwq',\n",
       " '/etc/selinux/config',\n",
       " '/lib/x86_64-linux-gnu/libc.so.6',\n",
       " '/lib/x86_64-linux-gnu/libdl.so.2',\n",
       " '/lib/x86_64-linux-gnu/libpcre.so.3',\n",
       " '/lib/x86_64-linux-gnu/libpthread.so.0',\n",
       " '/lib/x86_64-linux-gnu/libselinux.so.1',\n",
       " '/prober',\n",
       " '/proc/filesystems',\n",
       " '/proc/net/dev',\n",
       " '/proc/self/exe',\n",
       " '/proc/stat',\n",
       " '/sbin/sed',\n",
       " '/selinux',\n",
       " '/sys/devices/system',\n",
       " '/sys/fs/selinux',\n",
       " '/usr/bin/sed',\n",
       " '/usr/lib/locale',\n",
       " '/usr/local/bin',\n",
       " '/usr/share/locale-langpack',\n",
       " 'External_IP',\n",
       " 'eth',\n",
       " 'sed',\n",
       " 'sh',\n",
       " 'uname']"
      ]
     },
     "execution_count": 1,
     "metadata": {},
     "output_type": "execute_result"
    }
   ],
   "source": [
    "new_nodes = '''sh /sbin/sed /usr/lib/locale sed External_IP /etc/ld.so.nohwcap /lib/x86_64-linux-gnu/libpcre.so.3 /lib/x86_64-linux-gnu/libc.so.6 /proc/stat eth /etc/rc.d/rc.local /etc/sedvTqQwq /proc/self/exe uname /etc/ld.so.preload /prober /usr/share/locale-langpack /etc/ld.so.cache /proc/net/dev /usr/local/bin /lib/x86_64-linux-gnu/libpthread.so.0 /usr/bin/sed /etc/sedQhw17q /etc/init.d/boot.local /dev/urandom /sys/devices/system /etc/rc.local /lib/x86_64-linux-gnu/libdl.so.2 /selinux /etc/sedQUGLbs /lib/x86_64-linux-gnu/libselinux.so.1 /proc/filesystems /etc/selinux/config /sys/fs/selinux'''\n",
    "new_nodes = sorted(new_nodes.split())\n",
    "new_nodes"
   ]
  },
  {
   "cell_type": "code",
   "execution_count": 2,
   "metadata": {},
   "outputs": [
    {
     "data": {
      "text/plain": [
       "34"
      ]
     },
     "execution_count": 2,
     "metadata": {},
     "output_type": "execute_result"
    }
   ],
   "source": [
    "len(new_nodes)"
   ]
  },
  {
   "cell_type": "markdown",
   "metadata": {},
   "source": [
    "節點解讀:  \n",
    "[\n",
    " '/etc/ld.so.cache',\n",
    " '/etc/ld.so.nohwcap',\n",
    " '/etc/ld.so.preload',\n",
    " '/etc/rc.d/rc.local',\n",
    " '/etc/rc.local',\n",
    " '/etc/sedQUGLbs',\n",
    " '/etc/sedQhw17q',\n",
    " '/etc/sedvTqQwq',\n",
    " '/etc/selinux/config',\n",
    " '/lib/x86_64-linux-gnu/libc.so.6',\n",
    " '/lib/x86_64-linux-gnu/libdl.so.2',\n",
    " '/lib/x86_64-linux-gnu/libpcre.so.3',\n",
    " '/lib/x86_64-linux-gnu/libpthread.so.0',\n",
    " '/lib/x86_64-linux-gnu/libselinux.so.1',\n",
    " '/prober',\n",
    " '/proc/filesystems',\n",
    " '/proc/net/dev',\n",
    " '/proc/self/exe',\n",
    " '/proc/stat',\n",
    " '/sbin/sed',\n",
    " '/selinux',\n",
    " '/sys/devices/system',\n",
    " '/sys/fs/selinux',\n",
    " '/usr/bin/sed',\n",
    " '/usr/lib/locale',\n",
    " '/usr/local/bin',\n",
    " '/usr/share/locale-langpack']"
   ]
  },
  {
   "cell_type": "markdown",
   "metadata": {},
   "source": [
    "`ld.so*` and `ld-linux.so*`: The programs ld.so and ld-linux.so* find and load the shared objects (shared libraries) needed by a program, prepare the program to run, and then run it.\n",
    "\n",
    "`/etc/sedQUGLbs`: 這類檔名應是malware自創的暫存檔。\n",
    "\n",
    "`/etc/selinux/config`: 限制檔案資源存取，有三種模式，限制/寬容/停用。https://dotblogs.com.tw/echo/2017/06/19/linux_selinux_mode。"
   ]
  },
  {
   "cell_type": "code",
   "execution_count": null,
   "metadata": {},
   "outputs": [],
   "source": []
  }
 ],
 "metadata": {
  "kernelspec": {
   "display_name": "Python 3.10.5 64-bit",
   "language": "python",
   "name": "python3"
  },
  "language_info": {
   "codemirror_mode": {
    "name": "ipython",
    "version": 3
   },
   "file_extension": ".py",
   "mimetype": "text/x-python",
   "name": "python",
   "nbconvert_exporter": "python",
   "pygments_lexer": "ipython3",
   "version": "3.10.5"
  },
  "orig_nbformat": 4,
  "vscode": {
   "interpreter": {
    "hash": "125a1d8b627fe68767755740015967bae857d08bb92fb3fd0d9d8ed24f978d39"
   }
  }
 },
 "nbformat": 4,
 "nbformat_minor": 2
}
