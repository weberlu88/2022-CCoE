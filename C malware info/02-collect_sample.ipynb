{
 "cells": [
  {
   "cell_type": "markdown",
   "metadata": {},
   "source": [
    "Check `md5`, `sha1` and record `file magic type`, `runnable` as well."
   ]
  },
  {
   "cell_type": "markdown",
   "metadata": {},
   "source": [
    "### File hash functions\n",
    "- https://stackoverflow.com/questions/22058048/hashing-a-file-in-python\n",
    "- https://stackoverflow.com/questions/3431825/generating-an-md5-checksum-of-a-file"
   ]
  },
  {
   "cell_type": "code",
   "execution_count": 4,
   "metadata": {},
   "outputs": [],
   "source": [
    "import hashlib\n",
    "\n",
    "filePath = '../惡意程式樣本與清冊/202207_malware_sample/20227_1_Xorddos/0aefb67c01a24d05351b093455203fa2.bin'"
   ]
  },
  {
   "cell_type": "code",
   "execution_count": 6,
   "metadata": {},
   "outputs": [
    {
     "data": {
      "text/plain": [
       "'0aefb67c01a24d05351b093455203fa2'"
      ]
     },
     "execution_count": 6,
     "metadata": {},
     "output_type": "execute_result"
    }
   ],
   "source": [
    "def md5(fname):\n",
    "    hash_md5 = hashlib.md5()\n",
    "    with open(fname, \"rb\") as f:\n",
    "        for chunk in iter(lambda: f.read(4096), b\"\"):\n",
    "            hash_md5.update(chunk)\n",
    "    return hash_md5.hexdigest()\n",
    "\n",
    "md5(filePath)"
   ]
  },
  {
   "cell_type": "code",
   "execution_count": 26,
   "metadata": {},
   "outputs": [
    {
     "data": {
      "text/plain": [
       "'53af22acf7acd1a1e5bea6b4a85908611addb852dee24ccb6545df10738d8858'"
      ]
     },
     "execution_count": 26,
     "metadata": {},
     "output_type": "execute_result"
    }
   ],
   "source": [
    "def sha256(fname):\n",
    "    hash = hashlib.sha256()\n",
    "    with open(fname, \"rb\") as f:\n",
    "        bytes = f.read() # read entire file as bytes\n",
    "        readable_hash = hashlib.sha256(bytes).hexdigest()\n",
    "    return readable_hash\n",
    "    #     for chunk in iter(lambda: f.read(4096), b\"\"):\n",
    "    #         hash.update(chunk)\n",
    "    # return hash.hexdigest()\n",
    "\n",
    "sha256(filePath)"
   ]
  },
  {
   "cell_type": "markdown",
   "metadata": {},
   "source": [
    "### Magic type function\n",
    "- https://stackoverflow.com/questions/1974724/is-there-a-python-equivalent-of-the-unix-file-utility\n",
    "- https://github.com/Yelp/elastalert/issues/1927"
   ]
  },
  {
   "cell_type": "code",
   "execution_count": 8,
   "metadata": {},
   "outputs": [
    {
     "name": "stdout",
     "output_type": "stream",
     "text": [
      "Collecting python-magic-bin==0.4.14\n",
      "  Downloading python_magic_bin-0.4.14-py2.py3-none-win_amd64.whl (409 kB)\n",
      "     -------------------------------------- 409.3/409.3 kB 1.3 MB/s eta 0:00:00\n",
      "Installing collected packages: python-magic-bin\n",
      "Successfully installed python-magic-bin-0.4.14\n",
      "\n",
      "[notice] A new release of pip available: 22.1.2 -> 22.2.2\n",
      "[notice] To update, run: python.exe -m pip install --upgrade pip\n"
     ]
    }
   ],
   "source": [
    "! pip install python-magic-bin==0.4.14"
   ]
  },
  {
   "cell_type": "code",
   "execution_count": 34,
   "metadata": {},
   "outputs": [
    {
     "data": {
      "text/plain": [
       "'ELF 32-bit LSB executable, Intel 80386, version 1 (SYSV)'"
      ]
     },
     "execution_count": 34,
     "metadata": {},
     "output_type": "execute_result"
    }
   ],
   "source": [
    "import magic\n",
    "def getMagic(fname):\n",
    "    return magic.from_buffer(open(fname, \"rb\").read(2048))\n",
    "\n",
    "getMagic(filePath)"
   ]
  },
  {
   "cell_type": "markdown",
   "metadata": {},
   "source": [
    "### Collecting information"
   ]
  },
  {
   "cell_type": "code",
   "execution_count": 37,
   "metadata": {},
   "outputs": [
    {
     "name": "stdout",
     "output_type": "stream",
     "text": [
      "['../惡意程式樣本與清冊/202207_malware_sample\\\\20227_1_Xorddos', '../惡意程式樣本與清冊/202207_malware_sample\\\\20227_2_Mozi', '../惡意程式樣本與清冊/202207_malware_sample\\\\20227_3_Mirai', '../惡意程式樣本與清冊/202207_malware_sample\\\\20227_4_Dofloo', '../惡意程式樣本與清冊/202207_malware_sample\\\\20227_5_Tsunami']\n",
      "num of samples: 63\n"
     ]
    }
   ],
   "source": [
    "import glob\n",
    "import os\n",
    "rootFolder = \"../惡意程式樣本與清冊/202207_malware_sample\"\n",
    "sampleRootFolder = glob.glob(os.path.join(rootFolder, \"*\")) # [x[0] for x in os.walk(rootFolder)] # same as\n",
    "print(sampleRootFolder)\n",
    "\n",
    "data_list = []\n",
    "for familyFolder in sampleRootFolder:\n",
    "    sampleFiles = glob.glob(os.path.join(familyFolder, \"*\"))\n",
    "    # file is full filepath\n",
    "    for file in sampleFiles:\n",
    "        data = {}\n",
    "        data['family'] = familyFolder.split('_')[-1]\n",
    "        data['filename'] = file.split('\\\\')[-1]\n",
    "        data['md5'] = md5(file)\n",
    "        data['sha256'] = sha256(file)\n",
    "        m = getMagic(file)\n",
    "        data['magic'] = m\n",
    "        if m.find('ARM') != -1:\n",
    "            data['platform'] = 'ARM'\n",
    "        elif m.find('MIPS') != -1:\n",
    "            data['platform'] = 'MIPS'\n",
    "        elif m.find('Intel') != -1:\n",
    "            data['platform'] = 'X86'\n",
    "        elif m.find('64-bit') != -1:\n",
    "            data['platform'] = 'X86_64'\n",
    "        else:\n",
    "            data['platform'] = 'none' # not executable\n",
    "        data_list.append(data)\n",
    "print('num of samples:', len(data_list))"
   ]
  },
  {
   "cell_type": "code",
   "execution_count": 38,
   "metadata": {},
   "outputs": [],
   "source": [
    "import pandas as pd\n",
    "df = pd.DataFrame(data=data_list)\n",
    "df.to_csv('sample_info.csv', index=False)"
   ]
  },
  {
   "cell_type": "code",
   "execution_count": 40,
   "metadata": {},
   "outputs": [
    {
     "data": {
      "text/html": [
       "<div>\n",
       "<style scoped>\n",
       "    .dataframe tbody tr th:only-of-type {\n",
       "        vertical-align: middle;\n",
       "    }\n",
       "\n",
       "    .dataframe tbody tr th {\n",
       "        vertical-align: top;\n",
       "    }\n",
       "\n",
       "    .dataframe thead th {\n",
       "        text-align: right;\n",
       "    }\n",
       "</style>\n",
       "<table border=\"1\" class=\"dataframe\">\n",
       "  <thead>\n",
       "    <tr style=\"text-align: right;\">\n",
       "      <th></th>\n",
       "      <th>family</th>\n",
       "      <th>filename</th>\n",
       "      <th>md5</th>\n",
       "      <th>sha256</th>\n",
       "      <th>magic</th>\n",
       "      <th>platform</th>\n",
       "    </tr>\n",
       "  </thead>\n",
       "  <tbody>\n",
       "    <tr>\n",
       "      <th>0</th>\n",
       "      <td>Xorddos</td>\n",
       "      <td>07c070b717a23453a2b71c7582d6a928.bin</td>\n",
       "      <td>07c070b717a23453a2b71c7582d6a928</td>\n",
       "      <td>41ca9938f558d4e2441cd2463fb5152d72b81b1ac1f213...</td>\n",
       "      <td>ELF 32-bit LSB executable, Intel 80386, versio...</td>\n",
       "      <td>X86</td>\n",
       "    </tr>\n",
       "    <tr>\n",
       "      <th>1</th>\n",
       "      <td>Xorddos</td>\n",
       "      <td>0aefb67c01a24d05351b093455203fa2.bin</td>\n",
       "      <td>0aefb67c01a24d05351b093455203fa2</td>\n",
       "      <td>53af22acf7acd1a1e5bea6b4a85908611addb852dee24c...</td>\n",
       "      <td>ELF 32-bit LSB executable, Intel 80386, versio...</td>\n",
       "      <td>X86</td>\n",
       "    </tr>\n",
       "  </tbody>\n",
       "</table>\n",
       "</div>"
      ],
      "text/plain": [
       "    family                              filename  \\\n",
       "0  Xorddos  07c070b717a23453a2b71c7582d6a928.bin   \n",
       "1  Xorddos  0aefb67c01a24d05351b093455203fa2.bin   \n",
       "\n",
       "                                md5  \\\n",
       "0  07c070b717a23453a2b71c7582d6a928   \n",
       "1  0aefb67c01a24d05351b093455203fa2   \n",
       "\n",
       "                                              sha256  \\\n",
       "0  41ca9938f558d4e2441cd2463fb5152d72b81b1ac1f213...   \n",
       "1  53af22acf7acd1a1e5bea6b4a85908611addb852dee24c...   \n",
       "\n",
       "                                               magic platform  \n",
       "0  ELF 32-bit LSB executable, Intel 80386, versio...      X86  \n",
       "1  ELF 32-bit LSB executable, Intel 80386, versio...      X86  "
      ]
     },
     "execution_count": 40,
     "metadata": {},
     "output_type": "execute_result"
    }
   ],
   "source": [
    "df.head(2)"
   ]
  },
  {
   "cell_type": "markdown",
   "metadata": {},
   "source": [
    "### 分析結果\n",
    "1. 惡意程式能否執行? 只有 X86, X86_64, ARM 能被執行，MIPS 與其餘皆無法。注意即使能順利執行，也不保證不被 kill by singal。\n",
    "\n",
    "ref: https://stackoverflow.com/questions/25447700/annotate-bars-with-values-on-pandas-bar-plots"
   ]
  },
  {
   "cell_type": "code",
   "execution_count": 45,
   "metadata": {},
   "outputs": [
    {
     "data": {
      "text/plain": [
       "[Text(0, 0, '3'),\n",
       " Text(0, 0, '4'),\n",
       " Text(0, 0, '7'),\n",
       " Text(0, 0, '12'),\n",
       " Text(0, 0, '37')]"
      ]
     },
     "execution_count": 45,
     "metadata": {},
     "output_type": "execute_result"
    },
    {
     "data": {
      "image/png": "[encoded data removed]",
      "text/plain": [
       "<Figure size 432x288 with 1 Axes>"
      ]
     },
     "metadata": {
      "needs_background": "light"
     },
     "output_type": "display_data"
    }
   ],
   "source": [
    "# df['platform']\n",
    "ax = df.platform.value_counts().sort_values().plot(kind = 'barh')\n",
    "ax.bar_label(ax.containers[0])"
   ]
  },
  {
   "cell_type": "code",
   "execution_count": 71,
   "metadata": {},
   "outputs": [
    {
     "name": "stdout",
     "output_type": "stream",
     "text": [
      "['Xorddos' 'Mozi' 'Mirai' 'Dofloo' 'Tsunami']\n"
     ]
    },
    {
     "data": {
      "text/plain": [
       "{'executable': [21, 6, 7, 15, 4], 'non-executable': [0, 4, 0, 3, 3]}"
      ]
     },
     "execution_count": 71,
     "metadata": {},
     "output_type": "execute_result"
    }
   ],
   "source": [
    "print(df.family.unique())\n",
    "\n",
    "chart_data = {'executable':[], 'non-executable':[]}\n",
    "for family in df.family.unique():\n",
    "    f_df = df[df.family == family]\n",
    "    executable_cnt = len(f_df[f_df.platform.isin(['X86_64','X86','ARM'])])\n",
    "    non_executable_cnt = len(f_df[~f_df.platform.isin(['X86_64','X86','ARM'])])\n",
    "    chart_data['executable'].append(executable_cnt)\n",
    "    chart_data['non-executable'].append(non_executable_cnt)\n",
    "    # non_executable_cnt = f_df[f_df.platform in ['MIPS','none']]\n",
    "chart_data"
   ]
  },
  {
   "cell_type": "code",
   "execution_count": 72,
   "metadata": {},
   "outputs": [
    {
     "data": {
      "text/html": [
       "<div>\n",
       "<style scoped>\n",
       "    .dataframe tbody tr th:only-of-type {\n",
       "        vertical-align: middle;\n",
       "    }\n",
       "\n",
       "    .dataframe tbody tr th {\n",
       "        vertical-align: top;\n",
       "    }\n",
       "\n",
       "    .dataframe thead th {\n",
       "        text-align: right;\n",
       "    }\n",
       "</style>\n",
       "<table border=\"1\" class=\"dataframe\">\n",
       "  <thead>\n",
       "    <tr style=\"text-align: right;\">\n",
       "      <th></th>\n",
       "      <th>executable</th>\n",
       "      <th>non-executable</th>\n",
       "    </tr>\n",
       "  </thead>\n",
       "  <tbody>\n",
       "    <tr>\n",
       "      <th>Xorddos</th>\n",
       "      <td>21</td>\n",
       "      <td>0</td>\n",
       "    </tr>\n",
       "    <tr>\n",
       "      <th>Mozi</th>\n",
       "      <td>6</td>\n",
       "      <td>4</td>\n",
       "    </tr>\n",
       "    <tr>\n",
       "      <th>Mirai</th>\n",
       "      <td>7</td>\n",
       "      <td>0</td>\n",
       "    </tr>\n",
       "    <tr>\n",
       "      <th>Dofloo</th>\n",
       "      <td>15</td>\n",
       "      <td>3</td>\n",
       "    </tr>\n",
       "    <tr>\n",
       "      <th>Tsunami</th>\n",
       "      <td>4</td>\n",
       "      <td>3</td>\n",
       "    </tr>\n",
       "  </tbody>\n",
       "</table>\n",
       "</div>"
      ],
      "text/plain": [
       "         executable  non-executable\n",
       "Xorddos          21               0\n",
       "Mozi              6               4\n",
       "Mirai             7               0\n",
       "Dofloo           15               3\n",
       "Tsunami           4               3"
      ]
     },
     "execution_count": 72,
     "metadata": {},
     "output_type": "execute_result"
    }
   ],
   "source": [
    "pd.DataFrame(chart_data, index=df.family.unique())"
   ]
  },
  {
   "cell_type": "code",
   "execution_count": 73,
   "metadata": {},
   "outputs": [
    {
     "data": {
      "image/png": "[encoded data removed]",
      "text/plain": [
       "<Figure size 432x288 with 1 Axes>"
      ]
     },
     "metadata": {
      "needs_background": "light"
     },
     "output_type": "display_data"
    }
   ],
   "source": [
    "ax = pd.DataFrame(chart_data, index=df.family.unique()).plot.bar(rot=0)\n",
    "for container in ax.containers:\n",
    "    ax.bar_label(container)"
   ]
  },
  {
   "cell_type": "markdown",
   "metadata": {},
   "source": [
    "2. hash值使否與檔名吻合? Ans: 通通吻合。"
   ]
  },
  {
   "cell_type": "code",
   "execution_count": 77,
   "metadata": {},
   "outputs": [
    {
     "data": {
      "text/plain": [
       "Index(['family', 'filename', 'md5', 'sha256', 'magic', 'platform'], dtype='object')"
      ]
     },
     "execution_count": 77,
     "metadata": {},
     "output_type": "execute_result"
    }
   ],
   "source": [
    "df.columns"
   ]
  },
  {
   "cell_type": "code",
   "execution_count": 81,
   "metadata": {},
   "outputs": [],
   "source": [
    "for idx, row in df.iterrows():\n",
    "    try:\n",
    "        fname = row.filename.split('.')[0]\n",
    "    except:\n",
    "        fname = row.filename\n",
    "    if fname not in [row.md5, row.sha256]:\n",
    "        print(row.filename)"
   ]
  }
 ],
 "metadata": {
  "kernelspec": {
   "display_name": "Python 3.10.5 64-bit",
   "language": "python",
   "name": "python3"
  },
  "language_info": {
   "codemirror_mode": {
    "name": "ipython",
    "version": 3
   },
   "file_extension": ".py",
   "mimetype": "text/x-python",
   "name": "python",
   "nbconvert_exporter": "python",
   "pygments_lexer": "ipython3",
   "version": "3.10.5"
  },
  "orig_nbformat": 4,
  "vscode": {
   "interpreter": {
    "hash": "125a1d8b627fe68767755740015967bae857d08bb92fb3fd0d9d8ed24f978d39"
   }
  }
 },
 "nbformat": 4,
 "nbformat_minor": 2
}
