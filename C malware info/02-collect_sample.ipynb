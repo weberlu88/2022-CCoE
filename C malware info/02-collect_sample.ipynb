{
 "cells": [
  {
   "cell_type": "markdown",
   "metadata": {},
   "source": [
    "Check `md5`, `sha1` and record `file magic type`, `runnable` as well."
   ]
  },
  {
   "cell_type": "markdown",
   "metadata": {},
   "source": [
    "### File hash functions\n",
    "- https://stackoverflow.com/questions/22058048/hashing-a-file-in-python\n",
    "- https://stackoverflow.com/questions/3431825/generating-an-md5-checksum-of-a-file"
   ]
  },
  {
   "cell_type": "code",
   "execution_count": null,
   "metadata": {},
   "outputs": [],
   "source": [
    "import hashlib\n",
    "\n",
    "filePath = '../惡意程式樣本與清冊/202207_malware_sample/20227_1_Xorddos/0aefb67c01a24d05351b093455203fa2.bin'"
   ]
  },
  {
   "cell_type": "code",
   "execution_count": 6,
   "metadata": {},
   "outputs": [
    {
     "data": {
      "text/plain": [
       "'0aefb67c01a24d05351b093455203fa2'"
      ]
     },
     "execution_count": 6,
     "metadata": {},
     "output_type": "execute_result"
    }
   ],
   "source": [
    "def md5(fname):\n",
    "    hash_md5 = hashlib.md5()\n",
    "    with open(fname, \"rb\") as f:\n",
    "        for chunk in iter(lambda: f.read(4096), b\"\"):\n",
    "            hash_md5.update(chunk)\n",
    "    return hash_md5.hexdigest()\n",
    "\n",
    "md5(filePath)"
   ]
  },
  {
   "cell_type": "code",
   "execution_count": 7,
   "metadata": {},
   "outputs": [
    {
     "data": {
      "text/plain": [
       "'ea83f4d58131b153640cbe0f43a448af1c147335'"
      ]
     },
     "execution_count": 7,
     "metadata": {},
     "output_type": "execute_result"
    }
   ],
   "source": [
    "def sha1(fname):\n",
    "    hash = hashlib.sha1()\n",
    "    with open(fname, \"rb\") as f:\n",
    "        for chunk in iter(lambda: f.read(4096), b\"\"):\n",
    "            hash.update(chunk)\n",
    "    return hash.hexdigest()\n",
    "\n",
    "sha1(filePath)"
   ]
  },
  {
   "cell_type": "markdown",
   "metadata": {},
   "source": [
    "### Magic type function\n",
    "- https://stackoverflow.com/questions/1974724/is-there-a-python-equivalent-of-the-unix-file-utility\n",
    "- https://github.com/Yelp/elastalert/issues/1927"
   ]
  },
  {
   "cell_type": "code",
   "execution_count": 16,
   "metadata": {},
   "outputs": [
    {
     "name": "stdout",
     "output_type": "stream",
     "text": [
      "Collecting python-magic-bin==0.4.14\n",
      "  Downloading python_magic_bin-0.4.14-py2.py3-none-win_amd64.whl (409 kB)\n",
      "Installing collected packages: python-magic-bin\n",
      "Successfully installed python-magic-bin-0.4.14\n"
     ]
    }
   ],
   "source": [
    "! pip install python-magic-bin==0.4.14"
   ]
  },
  {
   "cell_type": "code",
   "execution_count": 21,
   "metadata": {},
   "outputs": [
    {
     "data": {
      "text/plain": [
       "'ELF 32-bit LSB executable, Intel 80386, version 1 (SYSV)'"
      ]
     },
     "execution_count": 21,
     "metadata": {},
     "output_type": "execute_result"
    }
   ],
   "source": [
    "import magic\n",
    "def getMagic(fname):\n",
    "    return magic.from_buffer(open(fname, \"rb\").read(2048))\n",
    "\n",
    "getMagic(filePath)"
   ]
  },
  {
   "cell_type": "markdown",
   "metadata": {},
   "source": [
    "### Collecting information"
   ]
  },
  {
   "cell_type": "code",
   "execution_count": 2,
   "metadata": {},
   "outputs": [
    {
     "data": {
      "text/plain": [
       "['../惡意程式樣本與清冊/202207_malware_sample\\\\20227_1_Xorddos',\n",
       " '../惡意程式樣本與清冊/202207_malware_sample\\\\20227_2_Mozi',\n",
       " '../惡意程式樣本與清冊/202207_malware_sample\\\\20227_3_Mirai',\n",
       " '../惡意程式樣本與清冊/202207_malware_sample\\\\20227_4_Dofloo',\n",
       " '../惡意程式樣本與清冊/202207_malware_sample\\\\20227_5_Tsunami']"
      ]
     },
     "execution_count": 2,
     "metadata": {},
     "output_type": "execute_result"
    }
   ],
   "source": [
    "import glob\n",
    "import os\n",
    "rootFolder = \"../惡意程式樣本與清冊/202207_malware_sample\"\n",
    "sampleRootFolder = glob.glob(os.path.join(rootFolder, \"*\"))\n",
    "print(sampleRootFolder)\n",
    "\n",
    "for family in sampleRootFolder:\n",
    "    sampleFiles = glob.glob(os.path.join(f'rootFolder/{family}', \"*\"))\n",
    "    for file in sampleFiles:\n",
    "        md5(file)\n",
    "        sha1(file)\n",
    "        getMagic(file)"
   ]
  },
  {
   "cell_type": "code",
   "execution_count": null,
   "metadata": {},
   "outputs": [],
   "source": []
  }
 ],
 "metadata": {
  "kernelspec": {
   "display_name": "Python 3.9.7 ('base')",
   "language": "python",
   "name": "python3"
  },
  "language_info": {
   "codemirror_mode": {
    "name": "ipython",
    "version": 3
   },
   "file_extension": ".py",
   "mimetype": "text/x-python",
   "name": "python",
   "nbconvert_exporter": "python",
   "pygments_lexer": "ipython3",
   "version": "3.9.7"
  },
  "orig_nbformat": 4,
  "vscode": {
   "interpreter": {
    "hash": "44ed086a180af0cd91b162437a6d414807f9c1591ad1f7b45143250e317308ba"
   }
  }
 },
 "nbformat": 4,
 "nbformat_minor": 2
}
