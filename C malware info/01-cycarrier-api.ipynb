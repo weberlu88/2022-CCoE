{
 "cells": [
  {
   "cell_type": "markdown",
   "metadata": {},
   "source": [
    "### Search hash function calling cybertotal API\n",
    "- status 404, text `{\"msg\":\"Indicator not found\"}`\n",
    "- sratus 200"
   ]
  },
  {
   "cell_type": "code",
   "execution_count": 1,
   "metadata": {},
   "outputs": [],
   "source": [
    "import requests\n",
    "\n",
    "def searchHash(hash: str, token: str = 'e75dce1c00de409e7e9a0d3e40c89809d7f4dca8'):\n",
    "    url = f\"https://cybertotal.cycarrier.com/api/v2/hash/basic/{hash}\"\n",
    "    r = requests.get(url, headers={'Authorization': f'Token {token}', 'accept': 'application/json'})\n",
    "    return r"
   ]
  },
  {
   "cell_type": "code",
   "execution_count": 4,
   "metadata": {},
   "outputs": [
    {
     "name": "stdout",
     "output_type": "stream",
     "text": [
      "<Response [404]> {\"msg\":\"Indicator not found\"}\n"
     ]
    }
   ],
   "source": [
    "hash = '39b38284c6ca30d09481fcb5dc7197aa' # api swagger does work\n",
    "# hash = '4b7b1f678e499bab4d7b16503d15089b81e9358a69439ca06fcacabcd73ed48f' # xorddos\n",
    "# hash = '25af6daa28465732e7ccded1cdd613e5a7518e0172e96f67c520402dfb7ad569' # dofloo\n",
    "\n",
    "res = searchHash(hash)\n",
    "print(res, res.text)"
   ]
  },
  {
   "cell_type": "code",
   "execution_count": 5,
   "metadata": {},
   "outputs": [
    {
     "name": "stdout",
     "output_type": "stream",
     "text": [
      "{\"detail\":\"Authentication credentials were not provided.\"}\n"
     ]
    },
    {
     "name": "stderr",
     "output_type": "stream",
     "text": [
      "  % Total    % Received % Xferd  Average Speed   Time    Time     Time  Current\n",
      "                                 Dload  Upload   Total   Spent    Left  Speed\n",
      "\n",
      "  0     0    0     0    0     0      0      0 --:--:-- --:--:-- --:--:--     0\n",
      "  0     0    0     0    0     0      0      0 --:--:--  0:00:01 --:--:--     0\n",
      "100    58  100    58    0     0     25      0  0:00:02  0:00:02 --:--:--    25\n"
     ]
    }
   ],
   "source": [
    "! curl -X GET \"https://cybertotal.cycarrier.com/api/v2/hash/basic/39b38284c6ca30d09481fcb5dc7197aa\" -H \"accept: application/json\""
   ]
  },
  {
   "cell_type": "markdown",
   "metadata": {},
   "source": [
    "### Create malware hash list"
   ]
  },
  {
   "cell_type": "code",
   "execution_count": 1,
   "metadata": {},
   "outputs": [
    {
     "name": "stdout",
     "output_type": "stream",
     "text": [
      "XORDDOS Malware - 21 , type MD5\n",
      "Mozi Malware - 10 , type MD5\n",
      "Mirai Malware - 7 , type SHA-256\n",
      "Dofloo Malware - 18 , type MD5\n",
      "Tsunami Malware - 7 , type SHA-256\n"
     ]
    }
   ],
   "source": [
    "hash_set = {}\n",
    "with open('../惡意程式樣本與清冊/樣本hash.txt', 'r') as f:\n",
    "    text = f.read()\n",
    "    # print(text)\n",
    "    lst = []\n",
    "    for line in text.split('\\n'):\n",
    "        if len(line) and line.startswith('#'):\n",
    "            sample_name = ' '.join(line.split()[1:])\n",
    "        elif len(line) and line[0] not in ['#']:\n",
    "            lst.append(line.split('.')[0])                             \n",
    "        elif len(line) == 0:\n",
    "            hash_set[sample_name] = lst\n",
    "            lst = []\n",
    "\n",
    "for k in hash_set.keys():\n",
    "    hash_type = 'SHA-256' if len(hash_set[k][0]) == 64 else 'MD5'\n",
    "    print(k,'-',len(hash_set[k]),', type',hash_type)"
   ]
  },
  {
   "cell_type": "code",
   "execution_count": 5,
   "metadata": {},
   "outputs": [],
   "source": [
    "with open('../惡意程式樣本與清冊/樣本hash_數量統計.csv', 'w') as f:\n",
    "    f.write(f\"Family name, Number of sample\\n\")\n",
    "    for k in hash_set.keys():\n",
    "        f.write(f\"{k}, {len(hash_set[k])}\\n\")"
   ]
  },
  {
   "cell_type": "markdown",
   "metadata": {},
   "source": [
    "### Calling API"
   ]
  },
  {
   "cell_type": "code",
   "execution_count": 16,
   "metadata": {},
   "outputs": [],
   "source": [
    "# create folder to store result (if not exist)\n",
    "from pathlib import Path\n",
    "path = './API_result'\n",
    "Path(path).mkdir(parents=True, exist_ok=True)"
   ]
  },
  {
   "cell_type": "code",
   "execution_count": 28,
   "metadata": {},
   "outputs": [
    {
     "name": "stdout",
     "output_type": "stream",
     "text": [
      "XORDDOS Malware\n",
      "7a79658a16949142e7c17c9612713679 404\n",
      "a1f3ac69bc5030ecf1b351246986621a 404\n",
      "07c070b717a23453a2b71c7582d6a928 404\n",
      "e1ec02725fcf3bce48e3131b1a6f2684 404\n",
      "df7bba1c415ec78a6d9e29d6c92f8a86 404\n",
      "39b38284c6ca30d09481fcb5dc7197aa 404\n",
      "b808c078b9786115200002b910a5a05c 404\n",
      "75a00aad5b506496a2644488064c39b4 404\n",
      "7eba17d4ea5615e239c00e47d182e08a 404\n",
      "24dca1b2097ad6c2e5d8b03d3022f010 404\n",
      "4ab3b8eb803e6c4690abe2209b700335 404\n",
      "7354323ff72a6132359c5aa76bf9904a 404\n",
      "0aefb67c01a24d05351b093455203fa2 404\n",
      "0bc90c333f08237475a08c7158aba345 404\n",
      "d130caa1294885cc39ee0bc38037a0ee 404\n",
      "eadf8abf7738144e929a25e9eb7d8076 404\n",
      "98d38858bcdcb327df21c3aee1ff40bc 404\n",
      "96f125505ca736ff5d85ed33fa1c9b15 404\n",
      "127ee9c007774e8f1101fb40ea05b42e 404\n",
      "e8c7e887a3e46bfe41fc34a396184f79 404\n",
      "16eb5d018d45024462dd63de470a8575 404\n",
      "Mozi Malware\n",
      "2fd4485f3c2f6edfcc79171a55a949d7 404\n",
      "5ccccaeae2276af2e5dba3c05b7c4468 404\n",
      "bc3382acc65d23955eb48132961a8221 404\n",
      "f662e7d0d952e236fc5c3e1e1fa36ae3 404\n",
      "453526c3b24575ce38a2139530f274cb 404\n",
      "b0321fec9bab8c3a658d74f0cf146fbc 404\n",
      "bd3b938b0f53a7ac6e814a6c54effc04 404\n",
      "567b30e6033bd831ef2190c5ad863ff3 404\n",
      "b9f23009ff836e3a368cd7adf701b6e7 404\n",
      "c95a6c3274412f747d0ba9fed5263cac 404\n",
      "Mirai Malware\n",
      "0a38acadeb41536f65ed89f84cc1620fb79c9b916e0d83f2db543e12fbfd0d8c 404\n",
      "3d604ebe8e0f3e65734cd41bb1469cea3727062cffc8705c634558afa1997a7a 404\n",
      "3d9487191dd4e712cbfb8f4dcf916a707f60c3fb23807d4c02fb941e216f951d 404\n",
      "58d2db0bc8d93a30101eb87ef28c7dbf1af61ae2ebc355f6a236ab594a236f4b 404\n",
      "ac13002f74249e0eab2dacb596a60323130664b8c19d938af726508fdc7500a2 404\n",
      "bc5f1b69b6edfd58a56b104568cb73fe74ccefea6651b1a1bcf7613331b56597 404\n",
      "e666e0c720387db27e23c65d6a252f79587ca1b9d1c38e96d6db13b05d5b73fa 404\n",
      "Dofloo Malware\n",
      "0046a78514a658b9b7a4e29e8581f85b 404\n",
      "04b790e3b0dd70389c516216f81c6e5d 404\n",
      "121ca5362f9bc3fff5258b757e4250e5 404\n",
      "1fe0b2d39c02d95697160e27c4affd68 404\n",
      "26d45f2e2d360ff1707c734006878dcb 404\n",
      "392214344b6d802dc4da644be260277e 404\n",
      "44d98df44327179d1a11dce725d0fa4a 404\n",
      "52ff8e32c390389f5bf18e0f0e2d9ada 404\n",
      "54a11aacadee0ed46e76373cfb8ed296 404\n",
      "5700e4b1c6498619a0e2562321363bd0 404\n",
      "60f879ed44de37351c973f01d0d77f79 404\n",
      "8845355172c485813872f1bb1834de15 404\n",
      "74ea372e01980c67f8a6f40b39897ebe 404\n",
      "8df728b3d8806ee461aa2b298b5cbccf 404\n",
      "9a37fcc7eab08d59532bc5c66390bc30 404\n",
      "b072176301ba07bd2c1830ebbf2c8b47 404\n",
      "bd6b7198812618eab8ef45c7dabeebb0 404\n",
      "f477b05826c46ac8a482e85d89b00de0 404\n",
      "Tsunami Malware\n",
      "16b4093813e2923e9ee70b888f0d50f972ac607253b00f25e4be44993d263bd2 404\n",
      "28443c0a9bfd8a12c12a2aad3cc97d2e8998a9d8825fcf3643d46012f18713f0 404\n",
      "36a2ac597030f3f3425153f5933adc3ca62259c35f687fde5587b8f5466d7d54 404\n",
      "46389c117c5f41b60e10f965b3674b3b77189b504b0aeb5c2da67adf55a7129f 404\n",
      "4817893f8e724cbc5186e17f46d316223b7683dcbc9643e364b5913f8d2a9197 404\n",
      "7d3855bb09f2f6111d6c71e06e1e6b06dd47b1dade49af0235b220966c2f5be3 404\n",
      "95d1fca8bea30d9629fdf05e6ba0fc6195eb0a86f99ea021b17cb8823db9d78b 404\n"
     ]
    }
   ],
   "source": [
    "import json\n",
    "result_set = {}\n",
    "\n",
    "for index, family in enumerate(hash_set):\n",
    "    print(family)\n",
    "    for s in hash_set[family]:\n",
    "        res = searchHash(hash)\n",
    "        print(s, res.status_code)\n",
    "        if res.status_code == 404:\n",
    "            continue\n",
    "        else:\n",
    "            with open(f'{path}/{s}.json', 'w') as jsonfile:\n",
    "                json.dump(res.json(), jsonfile)"
   ]
  },
  {
   "cell_type": "code",
   "execution_count": 25,
   "metadata": {},
   "outputs": [],
   "source": [
    "# test\n",
    "with open(f'./API_result/{s}.json', 'w') as jsonfile:\n",
    "    json.dump({'id': 5}, jsonfile)"
   ]
  },
  {
   "cell_type": "code",
   "execution_count": null,
   "metadata": {},
   "outputs": [],
   "source": []
  }
 ],
 "metadata": {
  "interpreter": {
   "hash": "44ed086a180af0cd91b162437a6d414807f9c1591ad1f7b45143250e317308ba"
  },
  "kernelspec": {
   "display_name": "Python 3.9.7 ('base')",
   "language": "python",
   "name": "python3"
  },
  "language_info": {
   "codemirror_mode": {
    "name": "ipython",
    "version": 3
   },
   "file_extension": ".py",
   "mimetype": "text/x-python",
   "name": "python",
   "nbconvert_exporter": "python",
   "pygments_lexer": "ipython3",
   "version": "3.9.7"
  },
  "orig_nbformat": 4,
  "vscode": {
   "interpreter": {
    "hash": "125a1d8b627fe68767755740015967bae857d08bb92fb3fd0d9d8ed24f978d39"
   }
  }
 },
 "nbformat": 4,
 "nbformat_minor": 2
}
