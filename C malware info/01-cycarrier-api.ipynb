{
 "cells": [
  {
   "cell_type": "markdown",
   "metadata": {},
   "source": [
    "### Search hash function calling cybertotal API\n",
    "- status 404, text `{\"msg\":\"Indicator not found\"}`\n",
    "- sratus 200"
   ]
  },
  {
   "cell_type": "code",
   "execution_count": 3,
   "metadata": {},
   "outputs": [],
   "source": [
    "import requests\n",
    "\n",
    "def searchHash(hash: str, token: str = 'e75dce1c00de409e7e9a0d3e40c89809d7f4dca8'):\n",
    "    url = f\"https://cybertotal.cycarrier.com/api/v2/hash/basic/{hash}\"\n",
    "    r = requests.get(url, headers={'Authorization': f'Token {token}', 'accept': 'application/json'})\n",
    "    return r"
   ]
  },
  {
   "cell_type": "code",
   "execution_count": 4,
   "metadata": {},
   "outputs": [
    {
     "name": "stdout",
     "output_type": "stream",
     "text": [
      "<Response [404]> {\"msg\":\"Indicator not found\"}\n"
     ]
    }
   ],
   "source": [
    "hash = '4b7b1f678e499bab4d7b16503d15089b81e9358a69439ca06fcacabcd73ed48f' # xorddos\n",
    "# hash = '25af6daa28465732e7ccded1cdd613e5a7518e0172e96f67c520402dfb7ad569' # dofloo\n",
    "\n",
    "res = searchHash(hash)\n",
    "print(res, res.text)"
   ]
  },
  {
   "cell_type": "markdown",
   "metadata": {},
   "source": [
    "### Read malware hash list"
   ]
  },
  {
   "cell_type": "code",
   "execution_count": 1,
   "metadata": {},
   "outputs": [
    {
     "name": "stdout",
     "output_type": "stream",
     "text": [
      "XORDDOS Malware - 21 , type MD5\n",
      "Mozi Malware - 10 , type MD5\n",
      "Mirai Malware - 7 , type SHA-256\n",
      "Dofloo Malware - 18 , type MD5\n",
      "Tsunami Malware - 7 , type SHA-256\n"
     ]
    }
   ],
   "source": [
    "hash_set = {}\n",
    "with open('../惡意程式樣本與清冊/樣本hash.txt', 'r') as f:\n",
    "    text = f.read()\n",
    "    # print(text)\n",
    "    lst = []\n",
    "    for line in text.split('\\n'):\n",
    "        if len(line) and line.startswith('#'):\n",
    "            sample_name = ' '.join(line.split()[1:])\n",
    "        elif len(line) and line[0] not in ['#']:\n",
    "            lst.append(line.split('.')[0])                             \n",
    "        elif len(line) == 0:\n",
    "            hash_set[sample_name] = lst\n",
    "            lst = []\n",
    "\n",
    "for k in hash_set.keys():\n",
    "    hash_type = 'SHA-256' if len(hash_set[k][0]) == 64 else 'MD5'\n",
    "    print(k,'-',len(hash_set[k]),', type',hash_type)"
   ]
  },
  {
   "cell_type": "code",
   "execution_count": null,
   "metadata": {},
   "outputs": [],
   "source": []
  }
 ],
 "metadata": {
  "kernelspec": {
   "display_name": "Python 3.10.5 64-bit",
   "language": "python",
   "name": "python3"
  },
  "language_info": {
   "codemirror_mode": {
    "name": "ipython",
    "version": 3
   },
   "file_extension": ".py",
   "mimetype": "text/x-python",
   "name": "python",
   "nbconvert_exporter": "python",
   "pygments_lexer": "ipython3",
   "version": "3.10.5"
  },
  "orig_nbformat": 4,
  "vscode": {
   "interpreter": {
    "hash": "125a1d8b627fe68767755740015967bae857d08bb92fb3fd0d9d8ed24f978d39"
   }
  }
 },
 "nbformat": 4,
 "nbformat_minor": 2
}
