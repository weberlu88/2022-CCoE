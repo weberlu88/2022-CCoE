{
 "cells": [
  {
   "cell_type": "markdown",
   "metadata": {},
   "source": [
    "- status 404, text `{\"msg\":\"Indicator not found\"}`\n",
    "- sratus 200"
   ]
  },
  {
   "cell_type": "code",
   "execution_count": 3,
   "metadata": {},
   "outputs": [],
   "source": [
    "import requests\n",
    "\n",
    "def searchHash(hash: str, token: str = 'e75dce1c00de409e7e9a0d3e40c89809d7f4dca8'):\n",
    "    url = f\"https://cybertotal.cycarrier.com/api/v2/hash/basic/{hash}\"\n",
    "    r = requests.get(url, headers={'Authorization': f'Token {token}', 'accept': 'application/json'})\n",
    "    return r"
   ]
  },
  {
   "cell_type": "code",
   "execution_count": 4,
   "metadata": {},
   "outputs": [
    {
     "name": "stdout",
     "output_type": "stream",
     "text": [
      "<Response [404]> {\"msg\":\"Indicator not found\"}\n"
     ]
    }
   ],
   "source": [
    "hash = '4b7b1f678e499bab4d7b16503d15089b81e9358a69439ca06fcacabcd73ed48f' # xorddos\n",
    "# hash = '25af6daa28465732e7ccded1cdd613e5a7518e0172e96f67c520402dfb7ad569' # dofloo\n",
    "\n",
    "res = searchHash(hash)\n",
    "print(res, res.text)"
   ]
  },
  {
   "cell_type": "code",
   "execution_count": null,
   "metadata": {},
   "outputs": [],
   "source": []
  }
 ],
 "metadata": {
  "kernelspec": {
   "display_name": "Python 3.9.5 64-bit",
   "language": "python",
   "name": "python3"
  },
  "language_info": {
   "codemirror_mode": {
    "name": "ipython",
    "version": 3
   },
   "file_extension": ".py",
   "mimetype": "text/x-python",
   "name": "python",
   "nbconvert_exporter": "python",
   "pygments_lexer": "ipython3",
   "version": "3.9.5"
  },
  "orig_nbformat": 4,
  "vscode": {
   "interpreter": {
    "hash": "057c69592fea68cf94aaa1e80f582efb6da0ff639e7ab892be481cf9ac14bb16"
   }
  }
 },
 "nbformat": 4,
 "nbformat_minor": 2
}
