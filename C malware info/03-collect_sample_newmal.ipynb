{
 "cells": [
  {
   "attachments": {},
   "cell_type": "markdown",
   "metadata": {},
   "source": [
    "Check `md5`, `sha1` and record `file magic type`, `runnable` as well."
   ]
  },
  {
   "attachments": {},
   "cell_type": "markdown",
   "metadata": {},
   "source": [
    "### File hash functions\n",
    "- https://stackoverflow.com/questions/22058048/hashing-a-file-in-python\n",
    "- https://stackoverflow.com/questions/3431825/generating-an-md5-checksum-of-a-file"
   ]
  },
  {
   "cell_type": "code",
   "execution_count": 5,
   "metadata": {},
   "outputs": [],
   "source": [
    "import hashlib\n",
    "\n",
    "filePath = '../惡意程式樣本與清冊/202207_malware_sample/20227_1_Xorddos/0aefb67c01a24d05351b093455203fa2.bin'"
   ]
  },
  {
   "cell_type": "code",
   "execution_count": null,
   "metadata": {},
   "outputs": [],
   "source": [
    "def md5(fname):\n",
    "    hash_md5 = hashlib.md5()\n",
    "    with open(fname, \"rb\") as f:\n",
    "        for chunk in iter(lambda: f.read(4096), b\"\"):\n",
    "            hash_md5.update(chunk)\n",
    "    return hash_md5.hexdigest()\n",
    "\n",
    "md5(filePath)"
   ]
  },
  {
   "cell_type": "code",
   "execution_count": null,
   "metadata": {},
   "outputs": [],
   "source": [
    "def sha256(fname):\n",
    "    hash = hashlib.sha256()\n",
    "    with open(fname, \"rb\") as f:\n",
    "        bytes = f.read() # read entire file as bytes\n",
    "        readable_hash = hashlib.sha256(bytes).hexdigest()\n",
    "    return readable_hash\n",
    "    #     for chunk in iter(lambda: f.read(4096), b\"\"):\n",
    "    #         hash.update(chunk)\n",
    "    # return hash.hexdigest()\n",
    "\n",
    "sha256(filePath)"
   ]
  },
  {
   "attachments": {},
   "cell_type": "markdown",
   "metadata": {},
   "source": [
    "### Magic type function\n",
    "- https://stackoverflow.com/questions/1974724/is-there-a-python-equivalent-of-the-unix-file-utility\n",
    "- https://github.com/Yelp/elastalert/issues/1927"
   ]
  },
  {
   "cell_type": "code",
   "execution_count": 1,
   "metadata": {},
   "outputs": [
    {
     "name": "stdout",
     "output_type": "stream",
     "text": [
      "Collecting python-magic-bin==0.4.14\n",
      "  Downloading python_magic_bin-0.4.14-py2.py3-none-win_amd64.whl (409 kB)\n",
      "     ------------------------------------ 409.3/409.3 kB 543.7 kB/s eta 0:00:00\n",
      "Installing collected packages: python-magic-bin\n",
      "Successfully installed python-magic-bin-0.4.14\n"
     ]
    },
    {
     "name": "stderr",
     "output_type": "stream",
     "text": [
      "\n",
      "[notice] A new release of pip available: 22.3.1 -> 23.0\n",
      "[notice] To update, run: python.exe -m pip install --upgrade pip\n"
     ]
    }
   ],
   "source": [
    "! pip install python-magic-bin==0.4.14"
   ]
  },
  {
   "cell_type": "code",
   "execution_count": null,
   "metadata": {},
   "outputs": [],
   "source": [
    "import magic\n",
    "def getMagic(fname):\n",
    "    return magic.from_buffer(open(fname, \"rb\").read(2048))\n",
    "\n",
    "getMagic(filePath)"
   ]
  },
  {
   "attachments": {},
   "cell_type": "markdown",
   "metadata": {},
   "source": [
    "### Collecting information"
   ]
  },
  {
   "cell_type": "code",
   "execution_count": 18,
   "metadata": {},
   "outputs": [
    {
     "name": "stdout",
     "output_type": "stream",
     "text": [
      "['../惡意程式樣本與清冊/202207_malware_sample\\\\20227_1_Xorddos', '../惡意程式樣本與清冊/202207_malware_sample\\\\20227_2_Mozi', '../惡意程式樣本與清冊/202207_malware_sample\\\\20227_3_Mirai', '../惡意程式樣本與清冊/202207_malware_sample\\\\20227_4_Dofloo', '../惡意程式樣本與清冊/202207_malware_sample\\\\20227_5_Tsunami', '../惡意程式樣本與清冊/202207_malware_sample\\\\Adm', '../惡意程式樣本與清冊/202207_malware_sample\\\\Adore', '../惡意程式樣本與清冊/202207_malware_sample\\\\BASHLITE', '../惡意程式樣本與清冊/202207_malware_sample\\\\Binom', '../惡意程式樣本與清冊/202207_malware_sample\\\\Bliss', '../惡意程式樣本與清冊/202207_malware_sample\\\\Brundle', '../惡意程式樣本與清冊/202207_malware_sample\\\\Cephei', '../惡意程式樣本與清冊/202207_malware_sample\\\\Cheese', '../惡意程式樣本與清冊/202207_malware_sample\\\\Coin', '../惡意程式樣本與清冊/202207_malware_sample\\\\Darlloz', '../惡意程式樣本與清冊/202207_malware_sample\\\\Devnull', '../惡意程式樣本與清冊/202207_malware_sample\\\\GafGyt', '../惡意程式樣本與清冊/202207_malware_sample\\\\Hydra', '../惡意程式樣本與清冊/202207_malware_sample\\\\Kaiten', '../惡意程式樣本與清冊/202207_malware_sample\\\\Lion', '../惡意程式樣本與清冊/202207_malware_sample\\\\LuaBot', '../惡意程式樣本與清冊/202207_malware_sample\\\\Lupper', '../惡意程式樣本與清冊/202207_malware_sample\\\\Mayhem', '../惡意程式樣本與清冊/202207_malware_sample\\\\Millen', '../惡意程式樣本與清冊/202207_malware_sample\\\\Nuxbee', '../惡意程式樣本與清冊/202207_malware_sample\\\\NyaDrop', '../惡意程式樣本與清冊/202207_malware_sample\\\\PNScan', '../惡意程式樣本與清冊/202207_malware_sample\\\\Remaiten', '../惡意程式樣本與清冊/202207_malware_sample\\\\Rexob', '../惡意程式樣本與清冊/202207_malware_sample\\\\Snakso', '../惡意程式樣本與清冊/202207_malware_sample\\\\Turla', '../惡意程式樣本與清冊/202207_malware_sample\\\\Winter', '../惡意程式樣本與清冊/202207_malware_sample\\\\Zariche', '../惡意程式樣本與清冊/202207_malware_sample\\\\奇怪的樣本']\n",
      "num of samples: 130\n"
     ]
    }
   ],
   "source": [
    "import glob\n",
    "import os\n",
    "rootFolder = \"../惡意程式樣本與清冊/202207_malware_sample\"\n",
    "sampleRootFolder = glob.glob(os.path.join(rootFolder, \"*\")) # [x[0] for x in os.walk(rootFolder)] # same as\n",
    "print(sampleRootFolder)\n",
    "\n",
    "def escape(path) -> bool:\n",
    "    escape_list = [\"20227_\",\"奇怪的樣本\"]\n",
    "    for e in escape_list:\n",
    "        if path.find(e) != -1:\n",
    "            return True\n",
    "    return False\n",
    "\n",
    "data_list = []\n",
    "for familyFolder in sampleRootFolder:\n",
    "    if escape(familyFolder):\n",
    "        continue\n",
    "    sampleFiles = glob.glob(os.path.join(familyFolder, \"*\"))\n",
    "    # file is full filepath\n",
    "    for file in sampleFiles:\n",
    "        data = {}\n",
    "        # data['family'] = familyFolder.split('_')[-1]\n",
    "        data['family'] = familyFolder.split('\\\\')[-1]\n",
    "        data['filename'] = file.split('\\\\')[-1]\n",
    "        data['md5'] = md5(file)\n",
    "        data['sha256'] = sha256(file)\n",
    "        m = getMagic(file)\n",
    "        data['magic'] = m\n",
    "        if m.find('ARM') != -1:\n",
    "            data['platform'] = 'ARM'\n",
    "        elif m.find('MIPS') != -1:\n",
    "            data['platform'] = 'MIPS'\n",
    "        elif m.find('Intel') != -1:\n",
    "            data['platform'] = 'X86'\n",
    "        elif m.find('64-bit') != -1:\n",
    "            data['platform'] = 'X86_64'\n",
    "        else:\n",
    "            data['platform'] = 'none' # not executable\n",
    "        data_list.append(data)\n",
    "print('num of samples:', len(data_list))"
   ]
  },
  {
   "cell_type": "code",
   "execution_count": 19,
   "metadata": {},
   "outputs": [],
   "source": [
    "import pandas as pd\n",
    "df = pd.DataFrame(data=data_list)\n",
    "df.to_csv('sample_info_new.csv', index=False)"
   ]
  },
  {
   "cell_type": "code",
   "execution_count": 20,
   "metadata": {},
   "outputs": [
    {
     "data": {
      "text/html": [
       "<div>\n",
       "<style scoped>\n",
       "    .dataframe tbody tr th:only-of-type {\n",
       "        vertical-align: middle;\n",
       "    }\n",
       "\n",
       "    .dataframe tbody tr th {\n",
       "        vertical-align: top;\n",
       "    }\n",
       "\n",
       "    .dataframe thead th {\n",
       "        text-align: right;\n",
       "    }\n",
       "</style>\n",
       "<table border=\"1\" class=\"dataframe\">\n",
       "  <thead>\n",
       "    <tr style=\"text-align: right;\">\n",
       "      <th></th>\n",
       "      <th>family</th>\n",
       "      <th>filename</th>\n",
       "      <th>md5</th>\n",
       "      <th>sha256</th>\n",
       "      <th>magic</th>\n",
       "      <th>platform</th>\n",
       "    </tr>\n",
       "  </thead>\n",
       "  <tbody>\n",
       "    <tr>\n",
       "      <th>0</th>\n",
       "      <td>Adm</td>\n",
       "      <td>34c382e5bedf0952de37fbe48e291731.bin</td>\n",
       "      <td>34c382e5bedf0952de37fbe48e291731</td>\n",
       "      <td>67a2f35f9651ff34a5cb554e376cb33e7ba2be9e74c457...</td>\n",
       "      <td>RPM v3.0 src</td>\n",
       "      <td>none</td>\n",
       "    </tr>\n",
       "    <tr>\n",
       "      <th>1</th>\n",
       "      <td>Adm</td>\n",
       "      <td>4459f90ced4401138f468c75ac0203bb.bin</td>\n",
       "      <td>4459f90ced4401138f468c75ac0203bb</td>\n",
       "      <td>cc08471216c49989702fa152c6af99bd425d80f40b16de...</td>\n",
       "      <td>ELF 64-bit LSB executable, x86-64, version 1 (...</td>\n",
       "      <td>X86_64</td>\n",
       "    </tr>\n",
       "  </tbody>\n",
       "</table>\n",
       "</div>"
      ],
      "text/plain": [
       "  family                              filename  \\\n",
       "0    Adm  34c382e5bedf0952de37fbe48e291731.bin   \n",
       "1    Adm  4459f90ced4401138f468c75ac0203bb.bin   \n",
       "\n",
       "                                md5  \\\n",
       "0  34c382e5bedf0952de37fbe48e291731   \n",
       "1  4459f90ced4401138f468c75ac0203bb   \n",
       "\n",
       "                                              sha256  \\\n",
       "0  67a2f35f9651ff34a5cb554e376cb33e7ba2be9e74c457...   \n",
       "1  cc08471216c49989702fa152c6af99bd425d80f40b16de...   \n",
       "\n",
       "                                               magic platform  \n",
       "0                                       RPM v3.0 src     none  \n",
       "1  ELF 64-bit LSB executable, x86-64, version 1 (...   X86_64  "
      ]
     },
     "execution_count": 20,
     "metadata": {},
     "output_type": "execute_result"
    }
   ],
   "source": [
    "df.head(2)"
   ]
  },
  {
   "attachments": {},
   "cell_type": "markdown",
   "metadata": {},
   "source": [
    "### 分析結果\n",
    "1. 惡意程式能否執行? 只有 X86, X86_64, ARM 能被執行，MIPS 與其餘皆無法。注意即使能順利執行，也不保證不被 kill by singal。\n",
    "\n",
    "ref: https://stackoverflow.com/questions/25447700/annotate-bars-with-values-on-pandas-bar-plots"
   ]
  },
  {
   "cell_type": "code",
   "execution_count": 21,
   "metadata": {},
   "outputs": [
    {
     "data": {
      "text/plain": [
       "[Text(0, 0, '17'),\n",
       " Text(0, 0, '20'),\n",
       " Text(0, 0, '29'),\n",
       " Text(0, 0, '30'),\n",
       " Text(0, 0, '34')]"
      ]
     },
     "execution_count": 21,
     "metadata": {},
     "output_type": "execute_result"
    },
    {
     "data": {
      "image/png": "[encoded data removed]",
      "text/plain": [
       "<Figure size 640x480 with 1 Axes>"
      ]
     },
     "metadata": {},
     "output_type": "display_data"
    }
   ],
   "source": [
    "# df['platform']\n",
    "ax = df.platform.value_counts().sort_values().plot(kind = 'barh')\n",
    "ax.bar_label(ax.containers[0])"
   ]
  },
  {
   "cell_type": "code",
   "execution_count": 22,
   "metadata": {},
   "outputs": [
    {
     "name": "stdout",
     "output_type": "stream",
     "text": [
      "['Adm' 'Adore' 'BASHLITE' 'Binom' 'Bliss' 'Brundle' 'Cephei' 'Cheese'\n",
      " 'Coin' 'Darlloz' 'Devnull' 'GafGyt' 'Hydra' 'Kaiten' 'Lion' 'LuaBot'\n",
      " 'Lupper' 'Mayhem' 'Millen' 'Nuxbee' 'NyaDrop' 'PNScan' 'Remaiten' 'Rexob'\n",
      " 'Snakso' 'Turla' 'Winter' 'Zariche']\n"
     ]
    },
    {
     "data": {
      "text/plain": [
       "{'executable': [4,\n",
       "  10,\n",
       "  5,\n",
       "  3,\n",
       "  3,\n",
       "  1,\n",
       "  5,\n",
       "  1,\n",
       "  7,\n",
       "  3,\n",
       "  0,\n",
       "  2,\n",
       "  0,\n",
       "  10,\n",
       "  4,\n",
       "  2,\n",
       "  2,\n",
       "  3,\n",
       "  1,\n",
       "  1,\n",
       "  10,\n",
       "  1,\n",
       "  1,\n",
       "  1,\n",
       "  1,\n",
       "  6,\n",
       "  1,\n",
       "  5],\n",
       " 'non-executable': [2,\n",
       "  0,\n",
       "  4,\n",
       "  0,\n",
       "  0,\n",
       "  0,\n",
       "  0,\n",
       "  1,\n",
       "  0,\n",
       "  1,\n",
       "  2,\n",
       "  6,\n",
       "  1,\n",
       "  0,\n",
       "  2,\n",
       "  1,\n",
       "  0,\n",
       "  0,\n",
       "  0,\n",
       "  1,\n",
       "  0,\n",
       "  9,\n",
       "  4,\n",
       "  1,\n",
       "  0,\n",
       "  0,\n",
       "  2,\n",
       "  0]}"
      ]
     },
     "execution_count": 22,
     "metadata": {},
     "output_type": "execute_result"
    }
   ],
   "source": [
    "print(df.family.unique())\n",
    "\n",
    "chart_data = {'executable':[], 'non-executable':[]}\n",
    "for family in df.family.unique():\n",
    "    f_df = df[df.family == family]\n",
    "    executable_cnt = len(f_df[f_df.platform.isin(['X86_64','X86','ARM'])])\n",
    "    non_executable_cnt = len(f_df[~f_df.platform.isin(['X86_64','X86','ARM'])])\n",
    "    chart_data['executable'].append(executable_cnt)\n",
    "    chart_data['non-executable'].append(non_executable_cnt)\n",
    "    # non_executable_cnt = f_df[f_df.platform in ['MIPS','none']]\n",
    "chart_data"
   ]
  },
  {
   "cell_type": "code",
   "execution_count": 23,
   "metadata": {},
   "outputs": [
    {
     "data": {
      "text/html": [
       "<div>\n",
       "<style scoped>\n",
       "    .dataframe tbody tr th:only-of-type {\n",
       "        vertical-align: middle;\n",
       "    }\n",
       "\n",
       "    .dataframe tbody tr th {\n",
       "        vertical-align: top;\n",
       "    }\n",
       "\n",
       "    .dataframe thead th {\n",
       "        text-align: right;\n",
       "    }\n",
       "</style>\n",
       "<table border=\"1\" class=\"dataframe\">\n",
       "  <thead>\n",
       "    <tr style=\"text-align: right;\">\n",
       "      <th></th>\n",
       "      <th>executable</th>\n",
       "      <th>non-executable</th>\n",
       "    </tr>\n",
       "  </thead>\n",
       "  <tbody>\n",
       "    <tr>\n",
       "      <th>Adm</th>\n",
       "      <td>4</td>\n",
       "      <td>2</td>\n",
       "    </tr>\n",
       "    <tr>\n",
       "      <th>Adore</th>\n",
       "      <td>10</td>\n",
       "      <td>0</td>\n",
       "    </tr>\n",
       "    <tr>\n",
       "      <th>BASHLITE</th>\n",
       "      <td>5</td>\n",
       "      <td>4</td>\n",
       "    </tr>\n",
       "    <tr>\n",
       "      <th>Binom</th>\n",
       "      <td>3</td>\n",
       "      <td>0</td>\n",
       "    </tr>\n",
       "    <tr>\n",
       "      <th>Bliss</th>\n",
       "      <td>3</td>\n",
       "      <td>0</td>\n",
       "    </tr>\n",
       "    <tr>\n",
       "      <th>Brundle</th>\n",
       "      <td>1</td>\n",
       "      <td>0</td>\n",
       "    </tr>\n",
       "    <tr>\n",
       "      <th>Cephei</th>\n",
       "      <td>5</td>\n",
       "      <td>0</td>\n",
       "    </tr>\n",
       "    <tr>\n",
       "      <th>Cheese</th>\n",
       "      <td>1</td>\n",
       "      <td>1</td>\n",
       "    </tr>\n",
       "    <tr>\n",
       "      <th>Coin</th>\n",
       "      <td>7</td>\n",
       "      <td>0</td>\n",
       "    </tr>\n",
       "    <tr>\n",
       "      <th>Darlloz</th>\n",
       "      <td>3</td>\n",
       "      <td>1</td>\n",
       "    </tr>\n",
       "    <tr>\n",
       "      <th>Devnull</th>\n",
       "      <td>0</td>\n",
       "      <td>2</td>\n",
       "    </tr>\n",
       "    <tr>\n",
       "      <th>GafGyt</th>\n",
       "      <td>2</td>\n",
       "      <td>6</td>\n",
       "    </tr>\n",
       "    <tr>\n",
       "      <th>Hydra</th>\n",
       "      <td>0</td>\n",
       "      <td>1</td>\n",
       "    </tr>\n",
       "    <tr>\n",
       "      <th>Kaiten</th>\n",
       "      <td>10</td>\n",
       "      <td>0</td>\n",
       "    </tr>\n",
       "    <tr>\n",
       "      <th>Lion</th>\n",
       "      <td>4</td>\n",
       "      <td>2</td>\n",
       "    </tr>\n",
       "    <tr>\n",
       "      <th>LuaBot</th>\n",
       "      <td>2</td>\n",
       "      <td>1</td>\n",
       "    </tr>\n",
       "    <tr>\n",
       "      <th>Lupper</th>\n",
       "      <td>2</td>\n",
       "      <td>0</td>\n",
       "    </tr>\n",
       "    <tr>\n",
       "      <th>Mayhem</th>\n",
       "      <td>3</td>\n",
       "      <td>0</td>\n",
       "    </tr>\n",
       "    <tr>\n",
       "      <th>Millen</th>\n",
       "      <td>1</td>\n",
       "      <td>0</td>\n",
       "    </tr>\n",
       "    <tr>\n",
       "      <th>Nuxbee</th>\n",
       "      <td>1</td>\n",
       "      <td>1</td>\n",
       "    </tr>\n",
       "    <tr>\n",
       "      <th>NyaDrop</th>\n",
       "      <td>10</td>\n",
       "      <td>0</td>\n",
       "    </tr>\n",
       "    <tr>\n",
       "      <th>PNScan</th>\n",
       "      <td>1</td>\n",
       "      <td>9</td>\n",
       "    </tr>\n",
       "    <tr>\n",
       "      <th>Remaiten</th>\n",
       "      <td>1</td>\n",
       "      <td>4</td>\n",
       "    </tr>\n",
       "    <tr>\n",
       "      <th>Rexob</th>\n",
       "      <td>1</td>\n",
       "      <td>1</td>\n",
       "    </tr>\n",
       "    <tr>\n",
       "      <th>Snakso</th>\n",
       "      <td>1</td>\n",
       "      <td>0</td>\n",
       "    </tr>\n",
       "    <tr>\n",
       "      <th>Turla</th>\n",
       "      <td>6</td>\n",
       "      <td>0</td>\n",
       "    </tr>\n",
       "    <tr>\n",
       "      <th>Winter</th>\n",
       "      <td>1</td>\n",
       "      <td>2</td>\n",
       "    </tr>\n",
       "    <tr>\n",
       "      <th>Zariche</th>\n",
       "      <td>5</td>\n",
       "      <td>0</td>\n",
       "    </tr>\n",
       "  </tbody>\n",
       "</table>\n",
       "</div>"
      ],
      "text/plain": [
       "          executable  non-executable\n",
       "Adm                4               2\n",
       "Adore             10               0\n",
       "BASHLITE           5               4\n",
       "Binom              3               0\n",
       "Bliss              3               0\n",
       "Brundle            1               0\n",
       "Cephei             5               0\n",
       "Cheese             1               1\n",
       "Coin               7               0\n",
       "Darlloz            3               1\n",
       "Devnull            0               2\n",
       "GafGyt             2               6\n",
       "Hydra              0               1\n",
       "Kaiten            10               0\n",
       "Lion               4               2\n",
       "LuaBot             2               1\n",
       "Lupper             2               0\n",
       "Mayhem             3               0\n",
       "Millen             1               0\n",
       "Nuxbee             1               1\n",
       "NyaDrop           10               0\n",
       "PNScan             1               9\n",
       "Remaiten           1               4\n",
       "Rexob              1               1\n",
       "Snakso             1               0\n",
       "Turla              6               0\n",
       "Winter             1               2\n",
       "Zariche            5               0"
      ]
     },
     "execution_count": 23,
     "metadata": {},
     "output_type": "execute_result"
    }
   ],
   "source": [
    "pd.DataFrame(chart_data, index=df.family.unique())"
   ]
  },
  {
   "cell_type": "code",
   "execution_count": 24,
   "metadata": {},
   "outputs": [
    {
     "data": {
      "image/png": "[encoded data removed]",
      "text/plain": [
       "<Figure size 640x480 with 1 Axes>"
      ]
     },
     "metadata": {},
     "output_type": "display_data"
    }
   ],
   "source": [
    "ax = pd.DataFrame(chart_data, index=df.family.unique()).plot.bar(rot=0)\n",
    "for container in ax.containers:\n",
    "    ax.bar_label(container)"
   ]
  },
  {
   "attachments": {},
   "cell_type": "markdown",
   "metadata": {},
   "source": [
    "更新 `sample_info.csv` 後的數據。"
   ]
  },
  {
   "cell_type": "code",
   "execution_count": 2,
   "metadata": {},
   "outputs": [
    {
     "name": "stdout",
     "output_type": "stream",
     "text": [
      "# packages in environment at C:\\Users\\Weber\\miniconda3:\n",
      "#\n",
      "# Name                    Version                   Build  Channel\n",
      "matplotlib                3.5.2            py39haa95532_0  \n",
      "matplotlib-base           3.5.2            py39h581301d_1    conda-forge\n",
      "matplotlib-inline         0.1.2              pyhd3eb1b0_2  \n"
     ]
    }
   ],
   "source": [
    "# must >= 3.4.0 to draw bar_label\n",
    "! conda list matplotlib"
   ]
  },
  {
   "cell_type": "code",
   "execution_count": 38,
   "metadata": {},
   "outputs": [
    {
     "name": "stdout",
     "output_type": "stream",
     "text": [
      "chart_data {'executable': [9, 2, 10, 3, 1, 4, 13, 1, 2, 2, 4, 6, 10, 3, 2, 2, 18, 5, 5, 4, 21]}\n"
     ]
    },
    {
     "data": {
      "image/png": "[encoded data removed]",
      "text/plain": [
       "<Figure size 640x480 with 1 Axes>"
      ]
     },
     "metadata": {},
     "output_type": "display_data"
    }
   ],
   "source": [
    "import matplotlib.pyplot as plt\n",
    "import pandas as pd\n",
    "df = pd.read_csv('sample_info_new.csv')\n",
    "# print(df.family.unique())\n",
    "\n",
    "family_names = [\"Dofloo\", \"Xorddos\", \"Darlloz\", \"Lupper\", \"GafGyt\", \"LuaBot\", \"Kaiten\", \"Turla\"]\n",
    "family_names.extend(['BPFDoor', 'Conti', 'ChinaZ', 'Defray777', 'Demonbot', 'EvilGnome', 'FontOnLake', 'HCRootkit', 'KEYPLUG', 'Lightning', 'Melofee','Moose','XMRigMiner'])\n",
    "family_names.sort()\n",
    "chart_data = {'executable':[], } # 'non-executable':[]\n",
    "used_family = []\n",
    "\n",
    "for family in family_names:\n",
    "    f_df = df[df.family == family]\n",
    "    executable_cnt = len(f_df[f_df.platform.isin(['X86_64','X86','ARM'])])\n",
    "    non_executable_cnt = len(f_df[~f_df.platform.isin(['X86_64','X86','ARM'])])\n",
    "    # print(family, executable_cnt)\n",
    "    used_family.append(family)\n",
    "    chart_data['executable'].append(executable_cnt)\n",
    "    # chart_data['non-executable'].append(non_executable_cnt)\n",
    "    # non_executable_cnt = f_df[f_df.platform in ['MIPS','none']]\n",
    "# chart_data['non-executable'] = [0]*len(chart_data['non-executable'])\n",
    "print('chart_data', chart_data)\n",
    "print('sum', sum(chart_data['executable']))\n",
    "\n",
    "pd.DataFrame(chart_data, index=used_family)\n",
    "\n",
    "# ax = pd.DataFrame(chart_data, index=used_family).plot.bar(rot=-45)\n",
    "# for container in ax.containers:\n",
    "#     ax.bar_label(container)\n",
    "fig, ax = plt.subplots()\n",
    "bars = ax.barh(used_family, chart_data['executable'], color = 'steelblue', label='executable cnt')\n",
    "\n",
    "ax.legend()\n",
    "ax.bar_label(bars)\n",
    "for bars in ax.containers:\n",
    "    ax.bar_label(bars)"
   ]
  },
  {
   "attachments": {},
   "cell_type": "markdown",
   "metadata": {},
   "source": [
    "2. hash值使否與檔名吻合? Ans: 通通吻合。"
   ]
  },
  {
   "cell_type": "code",
   "execution_count": 77,
   "metadata": {},
   "outputs": [
    {
     "data": {
      "text/plain": [
       "Index(['family', 'filename', 'md5', 'sha256', 'magic', 'platform'], dtype='object')"
      ]
     },
     "execution_count": 77,
     "metadata": {},
     "output_type": "execute_result"
    }
   ],
   "source": [
    "df.columns"
   ]
  },
  {
   "cell_type": "code",
   "execution_count": 81,
   "metadata": {},
   "outputs": [],
   "source": [
    "for idx, row in df.iterrows():\n",
    "    try:\n",
    "        fname = row.filename.split('.')[0]\n",
    "    except:\n",
    "        fname = row.filename\n",
    "    if fname not in [row.md5, row.sha256]:\n",
    "        print(row.filename)"
   ]
  }
 ],
 "metadata": {
  "kernelspec": {
   "display_name": "Python 3",
   "language": "python",
   "name": "python3"
  },
  "language_info": {
   "codemirror_mode": {
    "name": "ipython",
    "version": 3
   },
   "file_extension": ".py",
   "mimetype": "text/x-python",
   "name": "python",
   "nbconvert_exporter": "python",
   "pygments_lexer": "ipython3",
   "version": "3.10.5"
  },
  "orig_nbformat": 4,
  "vscode": {
   "interpreter": {
    "hash": "125a1d8b627fe68767755740015967bae857d08bb92fb3fd0d9d8ed24f978d39"
   }
  }
 },
 "nbformat": 4,
 "nbformat_minor": 2
}
