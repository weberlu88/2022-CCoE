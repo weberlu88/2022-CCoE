{
 "cells": [
  {
   "attachments": {},
   "cell_type": "markdown",
   "metadata": {},
   "source": [
    "## AttacKG result eval\n",
    "- 主詞: 'type': 'executable'\n",
    "- 受詞: rc.local /proc/self/exe https:// 61.147.91.53"
   ]
  },
  {
   "cell_type": "code",
   "execution_count": 32,
   "metadata": {},
   "outputs": [],
   "source": [
    "import json\n",
    "import networkx as nx\n",
    "dot_path = \"./results_AttacKG/Dofloo-SyscallParty_output.pdf.dot\"\n",
    "json_path = \"./results_AttacKG/Dofloo-SyscallParty_output.pdf_artifacts.json\"\n",
    "\n",
    "def read_json(json_path: str) -> dict:\n",
    "    ''' merge node data into a list '''\n",
    "    with open(json_path, 'r', encoding='utf-8') as f:\n",
    "        jsdata:dict = json.load(f)\n",
    "    nodes_info: dict[str,list] = {}\n",
    "    for nodeid, val in jsdata.items():\n",
    "        nodes_info[nodeid] = {\n",
    "            'type': val['type'],\n",
    "            'data': sorted(val['nlp'] + val['ioc'])\n",
    "        }\n",
    "    del jsdata\n",
    "    return nodes_info\n",
    "\n",
    "def read_dot(dot_path: str) -> nx.Graph:\n",
    "    G = nx.Graph(nx.nx_pydot.read_dot(dot_path))\n",
    "    return G\n",
    "\n",
    "def search(input_list: list[str]):\n",
    "    '''return the first hit item''' #todo return all hit items\n",
    "    target = ['rc.local', '/proc/self/exe', '61.147.91.53']\n",
    "    for i in input_list:\n",
    "        for t in target:\n",
    "            if i.find(t) != -1:\n",
    "                return t\n",
    "            \n",
    "def get_scrnode_from_dstnode(G: nx.Graph, nid: str) -> list:\n",
    "    scr_lst = []\n",
    "    for e in G.edges():\n",
    "        if e[1] == nid:\n",
    "            scr_lst.append(e[0])\n",
    "    return scr_lst"
   ]
  },
  {
   "cell_type": "code",
   "execution_count": 34,
   "metadata": {},
   "outputs": [
    {
     "name": "stdout",
     "output_type": "stream",
     "text": [
      "num of object-like items 191, num of dependencies 102\n",
      "\n",
      "Contains actions:\n",
      "{'type': 'file', 'data': ['file']} -> rc.local\n",
      "{'type': 'executable', 'data': ['command', 'malware']} -> rc.local\n",
      "{'type': 'executable', 'data': ['commands']} -> rc.local\n",
      "\n",
      "Contains 3 matched objects in report: \n",
      "{'61.147.91.53', 'rc.local', '/proc/self/exe'}\n"
     ]
    }
   ],
   "source": [
    "G = read_dot(dot_path)\n",
    "# for e in G.edges():\n",
    "#     print(e)\n",
    "\n",
    "# todo: 計算node edge個數\n",
    "print(f\"num of object-like items {len(G.nodes())}, num of dependencies {len(G.edges())}\")\n",
    "\n",
    "nodes_info = read_json(json_path)\n",
    "hit_objs = set()\n",
    "print(\"\\nContains actions:\")\n",
    "for nid, n in nodes_info.items():\n",
    "    # print(n)\n",
    "    res = search(n['data'])\n",
    "    if res:\n",
    "        hit_objs.add(res)\n",
    "        # print(res)\n",
    "        scr_nid_lst = get_scrnode_from_dstnode(G, nid)\n",
    "        for src_nid in scr_nid_lst:\n",
    "            scrnode = nodes_info[src_nid]\n",
    "            print(f\"{scrnode} -> {res}\")\n",
    "print(f\"\\nContains {len(hit_objs)} matched objects in report: \\n{hit_objs}\")"
   ]
  },
  {
   "cell_type": "code",
   "execution_count": 29,
   "metadata": {},
   "outputs": [
    {
     "data": {
      "text/plain": [
       "EdgeView([('14', '12'), ('12', '34'), ('34', '31'), ('31', '36'), ('44', '51'), ('51', '78'), ('78', '54'), ('54', '56'), ('176', '192'), ('192', '166'), ('166', '195'), ('195', '187'), ('187', '204'), ('204', '171'), ('171', '210'), ('230', '245'), ('245', '241'), ('280', '276'), ('299', '297'), ('307', '327'), ('327', '330'), ('330', '325'), ('338', '335'), ('335', '359'), ('359', '367'), ('425', '444'), ('548', '533'), ('550', '554'), ('559', '567'), ('592', '603'), ('603', '615'), ('619', '651'), ('677', '692'), ('692', '681'), ('730', '743'), ('822', '824'), ('870', '899'), ('899', '897'), ('897', '875'), ('875', '884'), ('913', '917'), ('917', '912'), ('912', '924'), ('939', '948'), ('948', '952'), ('952', '965'), ('1007', '986'), ('1017', '1023'), ('1064', '1072'), ('1105', '1100'), ('1100', '1115'), ('1115', '1111'), ('1124', '1123'), ('1164', '1152'), ('1152', '1181'), ('1181', '1173'), ('1173', '1153'), ('1153', '1161'), ('1255', '1261'), ('1293', '1278'), ('1278', '1280'), ('1297', '1303'), ('1332', '1346'), ('1346', '1352'), ('1352', '1327'), ('1362', '1387'), ('1387', '1379'), ('1470', '1475'), ('1553', '1529'), ('1529', '1559'), ('1582', '1584'), ('1584', '1594'), ('1610', '1617'), ('1617', '1638'), ('1681', '1675'), ('1846', '1833'), ('1833', '1854'), ('1854', '1851'), ('1918', '1921'), ('1930', '1940'), ('1940', '1950'), ('1950', '1945'), ('1945', '1963'), ('1997', '2001'), ('2037', '2030'), ('2043', '2047'), ('2047', '2061'), ('2091', '2085'), ('2099', '2105'), ('2105', '2109'), ('2181', '2203'), ('2283', '2302'), ('2343', '2324'), ('2324', '2346'), ('2413', '2416'), ('2416', '2394'), ('2433', '2447'), ('2455', '2475'), ('2475', '2480'), ('2491', '2520'), ('2578', '2559'), ('2606', '2586')])"
      ]
     },
     "execution_count": 29,
     "metadata": {},
     "output_type": "execute_result"
    }
   ],
   "source": [
    "G.edges()"
   ]
  },
  {
   "cell_type": "code",
   "execution_count": 18,
   "metadata": {},
   "outputs": [
    {
     "data": {
      "text/plain": [
       "['1617']"
      ]
     },
     "execution_count": 18,
     "metadata": {},
     "output_type": "execute_result"
    }
   ],
   "source": [
    "def get_scrnode_from_dstnode(G: nx.Graph, nid: str) -> list:\n",
    "    scr_lst = []\n",
    "    for e in G.edges():\n",
    "        if e[1] == nid:\n",
    "            scr_lst.append(e[0])\n",
    "    return scr_lst\n",
    "\n",
    "get_scrnode_from_dstnode(G, '1638')"
   ]
  },
  {
   "cell_type": "code",
   "execution_count": null,
   "metadata": {},
   "outputs": [],
   "source": []
  }
 ],
 "metadata": {
  "kernelspec": {
   "display_name": "Python 3",
   "language": "python",
   "name": "python3"
  },
  "language_info": {
   "codemirror_mode": {
    "name": "ipython",
    "version": 3
   },
   "file_extension": ".py",
   "mimetype": "text/x-python",
   "name": "python",
   "nbconvert_exporter": "python",
   "pygments_lexer": "ipython3",
   "version": "3.10.5"
  },
  "orig_nbformat": 4,
  "vscode": {
   "interpreter": {
    "hash": "125a1d8b627fe68767755740015967bae857d08bb92fb3fd0d9d8ed24f978d39"
   }
  }
 },
 "nbformat": 4,
 "nbformat_minor": 2
}
