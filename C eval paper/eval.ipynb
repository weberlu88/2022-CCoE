{
 "cells": [
  {
   "attachments": {},
   "cell_type": "markdown",
   "metadata": {},
   "source": [
    "## AttacKG result eval\n",
    "- 主詞: 'type': 'executable'\n",
    "- 受詞: rc.local /proc/self/exe https:// 61.147.91.53"
   ]
  },
  {
   "cell_type": "code",
   "execution_count": 1,
   "metadata": {},
   "outputs": [],
   "source": [
    "import os\n",
    "import sys\n",
    "# Getting the path of the parent folder\n",
    "# parent folder is 'c:\\\\Users\\\\luweb\\\\OneDrive\\\\文件\\\\GitHub\\\\2022-CCoE'\n",
    "parent_folder_path = os.path.abspath(os.path.join(os.getcwd(), os.pardir))\n",
    "parent_folder_path += \"\\\\C sent nlp\\\\比較Dofloo各樣本的ST\" \n",
    "# Adding the parent folder path to the system path\n",
    "sys.path.append(parent_folder_path)\n",
    "from cc_regex_script import RegexMaster, RegexMatchResult"
   ]
  },
  {
   "cell_type": "code",
   "execution_count": 7,
   "metadata": {},
   "outputs": [],
   "source": [
    "import json\n",
    "import networkx as nx\n",
    "import glob\n",
    "dot_path = \"./results_AttacKG/Dofloo-SyscallParty_output.pdf.dot\"\n",
    "json_path = \"./results_AttacKG/Dofloo-SyscallParty_output.pdf_artifacts.json\"\n",
    "\n",
    "def get_all_reportjsons() -> list[str]:\n",
    "    folder_path = './results_AttacKG'\n",
    "    blacklist = ['skip', 'exclude', 'SyscallParty_output']\n",
    "    json_files = [f for f in glob.glob(f\"{folder_path}/**/*.json\", recursive=True) \\\n",
    "                  if not any(True if f.find(black)>=0 else False for black in blacklist)] # bug, doesn't works lol\n",
    "    return json_files\n",
    "\n",
    "def read_json(json_path: str) -> dict:\n",
    "    ''' merge node data into a list '''\n",
    "    with open(json_path, 'r', encoding='utf-8') as f:\n",
    "        jsdata:dict = json.load(f)\n",
    "    nodes_info: dict[str,list] = {}\n",
    "    for nodeid, val in jsdata.items():\n",
    "        nodes_info[nodeid] = {\n",
    "            'type': val['type'],\n",
    "            'data': sorted(val['nlp'] + val['ioc'])\n",
    "        }\n",
    "    del jsdata\n",
    "    return nodes_info\n",
    "\n",
    "def read_dot(dot_path: str) -> nx.Graph:\n",
    "    G = nx.Graph(nx.nx_pydot.read_dot(dot_path))\n",
    "    return G\n",
    "\n",
    "def search(input_list: list[str]) -> str:\n",
    "    '''easy search. return the first hit item''' #todo return all hit items\n",
    "    target = ['rc.local', '/proc/self/exe', '61.147.91.53']\n",
    "    for i in input_list:\n",
    "        for t in target:\n",
    "            if i.find(t) != -1:\n",
    "                return t\n",
    "            \n",
    "# RegexMaster for searching\n",
    "regexMaster = RegexMaster(familyname='Dofloo')\n",
    "regex_pool = regexMaster.get_all_regex()\n",
    "\n",
    "def search_with_regex(input_list: list[str]) -> set[RegexMatchResult]:\n",
    "    '''return matched regex set'''\n",
    "    findings = set()\n",
    "    for strIn in input_list:\n",
    "        regex_dst_node_list = RegexMaster.find_spacial_token_with_regex(regex_pool, strIn)\n",
    "        if regex_dst_node_list is None or len(regex_dst_node_list) == 0:\n",
    "            continue\n",
    "        for regex_result in regex_dst_node_list:\n",
    "            dst_node = regex_result # regex_result.match_regex\n",
    "            findings.add(dst_node)\n",
    "    if len(findings):\n",
    "        return findings\n",
    "    return None\n",
    "            \n",
    "def get_scrnode_from_dstnode(G: nx.Graph, nid: str) -> list:\n",
    "    scr_lst = []\n",
    "    for e in G.edges():\n",
    "        if e[1] == nid:\n",
    "            scr_lst.append(e[0])\n",
    "    return scr_lst"
   ]
  },
  {
   "attachments": {},
   "cell_type": "markdown",
   "metadata": {},
   "source": [
    "- main codes"
   ]
  },
  {
   "cell_type": "code",
   "execution_count": 9,
   "metadata": {},
   "outputs": [
    {
     "name": "stdout",
     "output_type": "stream",
     "text": [
      "--\n",
      "Dofloo-BleepingComputer\n",
      "num of object-like items 66, num of dependencies 49\n",
      "\n",
      "Contains actions:\n",
      "\n",
      "Contains 0 matched objects in report: \n",
      "set()\n",
      "--\n",
      "Dofloo-MalwareMustDie\n",
      "num of object-like items 281, num of dependencies 150\n",
      "\n",
      "Contains actions:\n",
      "{'type': 'executable', 'data': ['executable']} -> 0x0002fc10\n",
      "{'type': 'file', 'data': ['data:0x08c5c8', 'unk_0x08c5c4 <']} -> 182.254.180.241\n",
      "\n",
      "Contains 2 matched objects in report: \n",
      "{'\\\\d{1,3}\\\\.\\\\d{1,3}\\\\.\\\\d{1,3}\\\\.\\\\d{1,3}', '0x[0-9a-zA-Z]{8}'}\n",
      "--\n",
      "Dofloo-Securityaffairs\n",
      "num of object-like items 51, num of dependencies 39\n",
      "\n",
      "Contains actions:\n",
      "{'type': 'file', 'data': ['48080']} -> 23.224.59.34\n",
      "{'type': 'executable', 'data': ['commands']} -> 23.224.59.34\n",
      "{'type': 'file', 'data': ['algorithm', 'files']} -> /rc.local\n",
      "\n",
      "Contains 2 matched objects in report: \n",
      "{'rc.local', '\\\\d{1,3}\\\\.\\\\d{1,3}\\\\.\\\\d{1,3}\\\\.\\\\d{1,3}'}\n",
      "--\n",
      "Dofloo-SyscallParty\n",
      "num of object-like items 191, num of dependencies 102\n",
      "\n",
      "Contains actions:\n",
      "{'type': 'file', 'data': ['file']} -> /rc.local\n",
      "{'type': 'executable', 'data': ['command', 'malware']} -> /rc.local\n",
      "{'type': 'executable', 'data': ['commands']} -> /rc.local\n",
      "\n",
      "Contains 3 matched objects in report: \n",
      "{'rc.local', '\\\\d{1,3}\\\\.\\\\d{1,3}\\\\.\\\\d{1,3}\\\\.\\\\d{1,3}', '/proc/'}\n",
      "--\n",
      "Dofloo-Trendmicro\n",
      "num of object-like items 33, num of dependencies 21\n",
      "\n",
      "Contains actions:\n",
      "{'type': 'file', 'data': ['/proc/', '/suid-debug /etc/', 'details', 'files', 'host.conf']} -> /proc/\n",
      "{'type': 'file', 'data': ['/proc/', '/suid-debug /etc/', 'details', 'files', 'host.conf']} -> /suid-debug\n",
      "{'type': 'file', 'data': ['/proc/', '/suid-debug /etc/', 'details', 'files', 'host.conf']} -> /suid-debug\n",
      "\n",
      "Contains 4 matched objects in report: \n",
      "{'UID', 'rc.local', '/sys/', '/proc/'}\n",
      "--\n",
      "Xorddos-Cdnetworks\n",
      "num of object-like items 54, num of dependencies 24\n",
      "\n",
      "Contains actions:\n",
      "\n",
      "Contains 0 matched objects in report: \n",
      "set()\n",
      "--\n",
      "Xorddos-Crowdstrike\n",
      "num of object-like items 113, num of dependencies 76\n",
      "\n",
      "Contains actions:\n",
      "\n",
      "Contains 0 matched objects in report: \n",
      "set()\n",
      "--\n",
      "Xorddos-Intezer\n",
      "num of object-like items 257, num of dependencies 136\n",
      "\n",
      "Contains actions:\n",
      "{'type': 'executable', 'data': ['/proc/']} -> 127.0.0.1\n",
      "{'type': 'system', 'data': ['system']} -> 127.0.0.1\n",
      "{'type': 'file', 'data': ['0a76c55fa88d4c134012a5136c09fb938b4be88a382f88bf2804043253b0559f', 'file']} -> 34.92.228.216\n",
      "{'type': 'executable', 'data': ['0423258b94e8a9af58ad63ea493818618de2d8c60cf75ec7980edcaa34dcc919', 'file', 'sample']} -> 158.247.208.230\n",
      "\n",
      "Contains 2 matched objects in report: \n",
      "{'\\\\d{1,3}\\\\.\\\\d{1,3}\\\\.\\\\d{1,3}\\\\.\\\\d{1,3}', '/proc/'}\n",
      "--\n",
      "Xorddos-MS\n",
      "num of object-like items 716, num of dependencies 512\n",
      "\n",
      "Contains actions:\n",
      "{'type': 'network', 'data': ['host', 'libudev.so']} -> /usr/bin/\n",
      "{'type': 'file', 'data': ['arguments']} -> resolv.conf\n",
      "{'type': 'network', 'data': ['strace']} -> /proc/$pid\n",
      "{'type': 'executable', 'data': ['information', 'integer array', 'ioctl calls', 'malware', 'provision for communicating', 'sending input']} -> /proc/rs_dev\n",
      "{'type': 'file', 'data': ['information', 'integer array', 'ioctl calls', 'malware', 'provision for communicating', 'sending input']} -> /proc/rs_dev\n",
      "{'type': 'file', 'data': ['connection information']} -> /proc/net/udp\n",
      "{'type': 'file', 'data': ['connection information']} -> /proc/net/tcp\n",
      "{'type': 'file', 'data': ['connection information']} -> /proc/net/udp\n",
      "{'type': 'file', 'data': ['connection information']} -> /proc/net/tcp\n",
      "{'type': 'file', 'data': ['/', 'files', 'netstat']} -> /proc/net/udp\n",
      "{'type': 'file', 'data': ['/', 'files', 'netstat']} -> /proc/net/tcp\n",
      "{'type': 'executable', 'data': ['malware', 'script']} -> /proc/net/tcp6\n",
      "{'type': 'executable', 'data': ['malware', 'script']} -> /proc/net/udp6\n",
      "{'type': 'executable', 'data': ['malware', 'script']} -> /proc/net/udp\n",
      "{'type': 'executable', 'data': ['malware', 'script']} -> /proc/net/tcp\n",
      "{'type': 'executable', 'data': ['description']} -> /proc/net/udp\n",
      "{'type': 'executable', 'data': ['description']} -> /proc/net/tcp\n",
      "{'type': 'executable', 'data': ['description']} -> /proc/net/tcp6\n",
      "{'type': 'executable', 'data': ['description']} -> /proc/net/udp6\n",
      "{'type': 'executable', 'data': ['script']} -> /proc/net/udp6\n",
      "{'type': 'executable', 'data': ['script']} -> /proc/net/udp\n",
      "{'type': 'executable', 'data': ['command', 'malware', 'scripts', 'services']} -> init.d/<base_file_name\n",
      "{'type': 'executable', 'data': ['scripts']} -> init.d/<base_file_name\n",
      "{'type': 'executable', 'data': ['command', 'malware', 'scripts', 'services']} -> init.d/<base_file_name\n",
      "{'type': 'executable', 'data': ['first parameter']} -> /proc/self/\n",
      "{'type': 'executable', 'data': ['argument', 'malware']} -> /usr/bin/jwvwvxoupv\n",
      "{'type': 'system', 'data': ['services']} -> init.d/<file_name\n",
      "{'type': 'executable', 'data': ['command', 'malware']} -> /usr/bin/jwvwvxoupv\n",
      "{'type': 'executable', 'data': ['command', 'malware']} -> /usr/bin/kagbjahdic\n",
      "{'type': 'executable', 'data': ['command', 'malware']} -> resolv.conf\n",
      "{'type': 'executable', 'data': ['commands']} -> /usr/bin/kagbjahdic\n",
      "{'type': 'executable', 'data': ['commands']} -> /usr/bin/jwvwvxoupv\n",
      "{'type': 'executable', 'data': ['commands']} -> resolv.conf\n",
      "{'type': 'file', 'data': ['attempts']} -> /usr/bin/\n",
      "{'type': 'file', 'data': ['communicate']} -> /proc/rs_dev\n",
      "{'type': 'executable', 'data': ['malware']} -> /proc/rs_dev\n",
      "{'type': 'file', 'data': ['attempts']} -> /proc/rs_dev\n",
      "{'type': 'file', 'data': ['microsoft 365 defender']} -> suid/sgid\n",
      "{'type': 'file', 'data': ['microsoft 365 defender']} -> suid/sgid\n",
      "{'type': 'file', 'data': ['microsoft 365 defender']} -> suid/sgid\n",
      "{'type': 'file', 'data': ['microsoft 365 defender']} -> suid/sgid\n",
      "{'type': 'system', 'data': ['system']} -> suid/sgid\n",
      "{'type': 'system', 'data': ['system']} -> suid/sgid\n",
      "{'type': 'file', 'data': ['175667933088fbebcb62c8450993422ccc876495299173c646779a9e67501ff4', '360a6258dd66a3ba595a93896d9b55d22406d02e5c02100e5a18382c54e7d5cd', '9d6f115f31ee71089cc85b18852974e349c68fad3276145dafd0076951f32489', 'b5fba27a8e457c1ab6573c378171f057d151dc615d6a8d339195716fa9ac277a', 'd71ea3b98286d39a711b626f687f0d3fc852c3e3a05de3f51450fb8f7bd2b0d7', 'dc2b1cee161ebe90be68561755d99e66f454ad80b27cebe3d4773518ac45cbb7', 'ef0a4c12d98dc0ad4db86aadd641389c7219f57f15642ed35b4443daf3ff8c1e', 'file']} -> /tmp/bin/3200\n",
      "{'type': 'file', 'data': ['483451dcda78a381cc73474711bf3fcae97bd088f67b5a7e92639df52ef5ef25', 'c8f761d3ef7cd16ebe41042a0daf901c2fdffce96c8e9e1fa0d422c6e31332ea', 'file']} -> /tmp/bin/3200\n",
      "{'type': 'executable', 'data': ['installation requirements', 'kernel']} -> /proc/rs_dev\n",
      "{'type': 'executable', 'data': ['malware']} -> /proc/rs_dev\n",
      "\n",
      "Contains 7 matched objects in report: \n",
      "{'UID', '/proc/', 'init.d', 'resolv.conf', '0x[0-9a-zA-Z]{8}', 'bin/', 'GID'}\n",
      "--\n",
      "Xorddos-Trendmicro\n",
      "num of object-like items 70, num of dependencies 51\n",
      "\n",
      "Contains actions:\n",
      "\n",
      "Contains 1 matched objects in report: \n",
      "{'permission:{0,1}[0-9]{0,4}'}\n",
      "--\n",
      "Xorddos-Trendmicro2\n",
      "num of object-like items 110, num of dependencies 73\n",
      "\n",
      "Contains actions:\n",
      "{'type': 'executable', 'data': ['malware']} -> http://122.51.133.49:10086/vip\n",
      "{'type': 'executable', 'data': ['malware']} -> http://122.51.133.49:10086/vip\n",
      "\n",
      "Contains 2 matched objects in report: \n",
      "{'\\\\d{1,3}\\\\.\\\\d{1,3}\\\\.\\\\d{1,3}\\\\.\\\\d{1,3}:\\\\d+', '\\\\d{1,3}\\\\.\\\\d{1,3}\\\\.\\\\d{1,3}\\\\.\\\\d{1,3}'}\n"
     ]
    }
   ],
   "source": [
    "def main(dot_path, json_path):\n",
    "    # read graph with only node id\n",
    "    G = read_dot(dot_path)\n",
    "    # for e in G.edges():\n",
    "    #     print(e)\n",
    "\n",
    "    # 計算node edge個數\n",
    "    print(f\"num of object-like items {len(G.nodes())}, num of dependencies {len(G.edges())}\")\n",
    "\n",
    "    # read node info for id\n",
    "    nodes_info = read_json(json_path)\n",
    "\n",
    "    # algorithm here\n",
    "    hit_objs = set()\n",
    "    print(\"\\nContains actions:\")\n",
    "    for nid, n in nodes_info.items():\n",
    "        # print(n)\n",
    "        # res = search(n['data'])\n",
    "        res_lst:set[RegexMatchResult] = search_with_regex(n['data'])\n",
    "        if res_lst:\n",
    "            for res in res_lst:\n",
    "                hit_objs.add(res.match_regex)\n",
    "                # print(res)\n",
    "                scr_nid_lst = get_scrnode_from_dstnode(G, nid)\n",
    "                for src_nid in scr_nid_lst:\n",
    "                    scrnode = nodes_info[src_nid]\n",
    "                    print(f\"{scrnode} -> {res.word}\")\n",
    "    print(f\"\\nContains {len(hit_objs)} matched objects in report: \\n{hit_objs}\")\n",
    "\n",
    "jsons = get_all_reportjsons()\n",
    "for json_path in jsons:\n",
    "    dot_path = json_path.replace('_artifacts.json', '.dot')\n",
    "    reportname = json_path.split('\\\\')[-1].replace('.txt.pdf_artifacts.json', '')\n",
    "    print(f'--\\n{reportname}')\n",
    "    main(dot_path, json_path)"
   ]
  },
  {
   "cell_type": "code",
   "execution_count": 8,
   "metadata": {},
   "outputs": [
    {
     "data": {
      "text/plain": [
       "['./results_AttacKG\\\\Dofloo-BleepingComputer.txt.pdf_artifacts.json',\n",
       " './results_AttacKG\\\\Dofloo-MalwareMustDie.txt.pdf_artifacts.json',\n",
       " './results_AttacKG\\\\Dofloo-Securityaffairs.txt.pdf_artifacts.json',\n",
       " './results_AttacKG\\\\Dofloo-SyscallParty.txt.pdf_artifacts.json',\n",
       " './results_AttacKG\\\\Dofloo-Trendmicro.txt.pdf_artifacts.json',\n",
       " './results_AttacKG\\\\Xorddos-Cdnetworks.txt.pdf_artifacts.json',\n",
       " './results_AttacKG\\\\Xorddos-Crowdstrike.txt.pdf_artifacts.json',\n",
       " './results_AttacKG\\\\Xorddos-Intezer.txt.pdf_artifacts.json',\n",
       " './results_AttacKG\\\\Xorddos-MS.txt.pdf_artifacts.json',\n",
       " './results_AttacKG\\\\Xorddos-Trendmicro.txt.pdf_artifacts.json',\n",
       " './results_AttacKG\\\\Xorddos-Trendmicro2.txt.pdf_artifacts.json']"
      ]
     },
     "execution_count": 8,
     "metadata": {},
     "output_type": "execute_result"
    }
   ],
   "source": [
    "jsons = get_all_reportjsons()\n",
    "jsons"
   ]
  },
  {
   "cell_type": "code",
   "execution_count": 29,
   "metadata": {},
   "outputs": [
    {
     "data": {
      "text/plain": [
       "EdgeView([('14', '12'), ('12', '34'), ('34', '31'), ('31', '36'), ('44', '51'), ('51', '78'), ('78', '54'), ('54', '56'), ('176', '192'), ('192', '166'), ('166', '195'), ('195', '187'), ('187', '204'), ('204', '171'), ('171', '210'), ('230', '245'), ('245', '241'), ('280', '276'), ('299', '297'), ('307', '327'), ('327', '330'), ('330', '325'), ('338', '335'), ('335', '359'), ('359', '367'), ('425', '444'), ('548', '533'), ('550', '554'), ('559', '567'), ('592', '603'), ('603', '615'), ('619', '651'), ('677', '692'), ('692', '681'), ('730', '743'), ('822', '824'), ('870', '899'), ('899', '897'), ('897', '875'), ('875', '884'), ('913', '917'), ('917', '912'), ('912', '924'), ('939', '948'), ('948', '952'), ('952', '965'), ('1007', '986'), ('1017', '1023'), ('1064', '1072'), ('1105', '1100'), ('1100', '1115'), ('1115', '1111'), ('1124', '1123'), ('1164', '1152'), ('1152', '1181'), ('1181', '1173'), ('1173', '1153'), ('1153', '1161'), ('1255', '1261'), ('1293', '1278'), ('1278', '1280'), ('1297', '1303'), ('1332', '1346'), ('1346', '1352'), ('1352', '1327'), ('1362', '1387'), ('1387', '1379'), ('1470', '1475'), ('1553', '1529'), ('1529', '1559'), ('1582', '1584'), ('1584', '1594'), ('1610', '1617'), ('1617', '1638'), ('1681', '1675'), ('1846', '1833'), ('1833', '1854'), ('1854', '1851'), ('1918', '1921'), ('1930', '1940'), ('1940', '1950'), ('1950', '1945'), ('1945', '1963'), ('1997', '2001'), ('2037', '2030'), ('2043', '2047'), ('2047', '2061'), ('2091', '2085'), ('2099', '2105'), ('2105', '2109'), ('2181', '2203'), ('2283', '2302'), ('2343', '2324'), ('2324', '2346'), ('2413', '2416'), ('2416', '2394'), ('2433', '2447'), ('2455', '2475'), ('2475', '2480'), ('2491', '2520'), ('2578', '2559'), ('2606', '2586')])"
      ]
     },
     "execution_count": 29,
     "metadata": {},
     "output_type": "execute_result"
    }
   ],
   "source": [
    "G.edges()"
   ]
  },
  {
   "cell_type": "code",
   "execution_count": 18,
   "metadata": {},
   "outputs": [
    {
     "data": {
      "text/plain": [
       "['1617']"
      ]
     },
     "execution_count": 18,
     "metadata": {},
     "output_type": "execute_result"
    }
   ],
   "source": [
    "def get_scrnode_from_dstnode(G: nx.Graph, nid: str) -> list:\n",
    "    scr_lst = []\n",
    "    for e in G.edges():\n",
    "        if e[1] == nid:\n",
    "            scr_lst.append(e[0])\n",
    "    return scr_lst\n",
    "\n",
    "get_scrnode_from_dstnode(G, '1638')"
   ]
  },
  {
   "attachments": {},
   "cell_type": "markdown",
   "metadata": {},
   "source": [
    "## Extractor result eval"
   ]
  },
  {
   "cell_type": "code",
   "execution_count": null,
   "metadata": {},
   "outputs": [],
   "source": [
    "# import os\n",
    "# import sys\n",
    "# # Getting the path of the parent folder\n",
    "# # parent folder is 'c:\\\\Users\\\\luweb\\\\OneDrive\\\\文件\\\\GitHub\\\\2022-CCoE'\n",
    "# parent_folder_path = os.path.abspath(os.path.join(os.getcwd(), os.pardir))\n",
    "# parent_folder_path += \"\\\\C sent nlp\\\\比較Dofloo各樣本的ST\" \n",
    "# # Adding the parent folder path to the system path\n",
    "# sys.path.append(parent_folder_path)\n",
    "# from cc_regex_script import RegexMaster, RegexMatchResult"
   ]
  },
  {
   "cell_type": "code",
   "execution_count": 16,
   "metadata": {},
   "outputs": [],
   "source": [
    "import json\n",
    "import networkx as nx\n",
    "import glob\n",
    "dot_path = \"./results_Extractor/Dofloo-SyscallParty.dot\"\n",
    "# dot_path = \"./results_Extractor/Dofloo-SyscallParty_noElip.dot\"\n",
    "# dot_path = \"./results_Extractor/Dofloo-SyscallParty_noAster.dot\" # cannot read\n",
    "\n",
    "# def get_all_reportjsons() -> list[str]:\n",
    "#     folder_path = './results_AttacKG'\n",
    "#     blacklist = ['skip', 'exclude', 'SyscallParty_output']\n",
    "#     json_files = [f for f in glob.glob(f\"{folder_path}/**/*.json\", recursive=True) \\\n",
    "#                   if not any(True if f.find(black)>=0 else False for black in blacklist)] # bug, doesn't works lol\n",
    "#     return json_files\n",
    "\n",
    "def read_dot(dot_path: str) -> nx.Graph:\n",
    "    G = nx.Graph(nx.nx_pydot.read_dot(dot_path))\n",
    "    return G\n",
    "\n",
    "G = read_dot(dot_path)"
   ]
  },
  {
   "cell_type": "code",
   "execution_count": 33,
   "metadata": {},
   "outputs": [
    {
     "name": "stdout",
     "output_type": "stream",
     "text": [
      "num of object-like items 25, num of dependencies 19\n"
     ]
    }
   ],
   "source": [
    "print(f\"num of object-like items {len(G.nodes())}, num of dependencies {len(G.edges())}\")"
   ]
  },
  {
   "cell_type": "code",
   "execution_count": 30,
   "metadata": {},
   "outputs": [
    {
     "name": "stdout",
     "output_type": "stream",
     "text": [
      "(\"'*'\", {'node_type': 'file', 'shape': 'ellipse'}) <class 'tuple'>\n"
     ]
    }
   ],
   "source": [
    "# data 可以多附加 attr 的字典，但字典的 key 不盡相同，跟隨著 .dot 檔內容\n",
    "for n in G.nodes(data=True):\n",
    "    print(n, type(n))\n",
    "    break"
   ]
  },
  {
   "cell_type": "code",
   "execution_count": 32,
   "metadata": {},
   "outputs": [
    {
     "data": {
      "text/plain": [
       "NodeDataView({\"'*'\": {'node_type': 'file', 'shape': 'ellipse'}, '.*\\\\*': {'node_type': 'File', 'shape': 'ellipse'}, \"'binary.ninja'\": {'node_type': 'file', 'shape': 'ellipse'}, '.*\\\\binary.ninja': {'node_type': 'File', 'shape': 'ellipse'}, \"'linux.die.net'\": {'node_type': 'file', 'shape': 'ellipse'}, '.*\\\\linux.die.net': {'node_type': 'File', 'shape': 'ellipse'}, \"'/-gnu-/'\": {'node_type': 'file', 'shape': 'ellipse'}, \"'/-four-/'\": {'node_type': 'file', 'shape': 'ellipse'}, \"'/-frame-/'\": {'node_type': 'file', 'shape': 'ellipse'}, \"'/-ps-/'\": {'node_type': 'file', 'shape': 'ellipse'}, \" IP '*'\": {'node_type': 'file', 'shape': 'diamond'}, \"'/-first-/'\": {'node_type': 'file', 'shape': 'ellipse'}, '.*\\\\/-first-/': {'node_type': 'File', 'shape': 'ellipse'}, \"'man7.org'\": {'node_type': 'file', 'shape': 'ellipse'}, \"'gethostbyname.3.htm'\": {'node_type': 'file', 'shape': 'ellipse'}, '*': {}, 'binary.ninja': {}, 'linux.die.net': {}, '/-gnu-/': {}, '/-four-/': {}, '/-frame-/': {}, '/-ps-/': {}, '/-first-/': {}, 'man7.org': {}, 'gethostbyname.3.htm': {}})"
      ]
     },
     "execution_count": 32,
     "metadata": {},
     "output_type": "execute_result"
    }
   ],
   "source": [
    "G.nodes(data=True)"
   ]
  },
  {
   "cell_type": "code",
   "execution_count": 31,
   "metadata": {},
   "outputs": [
    {
     "data": {
      "text/plain": [
       "EdgeDataView([(\"'*'\", \"'*'\", {'label': '\"285: \\'read\\'\"'}), (\"'*'\", '.*\\\\*', {'label': '\"262: exec\"'}), (\"'*'\", \"'binary.ninja'\", {'label': '\"26: fork\"'}), (\"'*'\", '.*\\\\binary.ninja', {'label': '\"26: exec\"'}), (\"'*'\", \"'linux.die.net'\", {'label': '\"28: fork\"'}), (\"'*'\", '.*\\\\linux.die.net', {'label': '\"28: exec\"'}), (\"'*'\", \"'/-first-/'\", {'label': '\"152: fork\"'}), (\"'*'\", '.*\\\\/-first-/', {'label': '\"152: exec\"'}), (\"'*'\", \" IP '*'\", {'label': '\"297: send\"'}), (\"'*'\", \"'/-gnu-/'\", {'label': '\"34: receive\"'}), ('*', '*', {'label': '\"298: command\"'}), ('*', '/-gnu-/', {'label': '\"36: link\"'}), ('*', '/-four-/', {'label': '\"56: \\'s\"'}), ('*', '/-frame-/', {'label': '\"66: hold\"'}), ('*', '/-ps-/', {'label': '\"92: do\"'}), ('*', '/-first-/', {'label': '\"210: pass\"'}), ('*', 'man7.org', {'label': '\"208: be\"'}), ('*', 'gethostbyname.3.htm', {'label': '\"209: be\"'}), ('binary.ninja', 'linux.die.net', {'label': '\"31: ltrace\"'})])"
      ]
     },
     "execution_count": 31,
     "metadata": {},
     "output_type": "execute_result"
    }
   ],
   "source": [
    "G.edges(data=True)"
   ]
  },
  {
   "cell_type": "code",
   "execution_count": 20,
   "metadata": {},
   "outputs": [
    {
     "data": {
      "image/png": "[encoded data removed]",
      "text/plain": [
       "<Figure size 640x480 with 1 Axes>"
      ]
     },
     "metadata": {},
     "output_type": "display_data"
    }
   ],
   "source": [
    "nx.draw(G)"
   ]
  },
  {
   "cell_type": "code",
   "execution_count": 23,
   "metadata": {},
   "outputs": [
    {
     "ename": "ValueError",
     "evalue": "malformed node or string on line 1: <ast.Name object at 0x0000027A08A69DE0>",
     "output_type": "error",
     "traceback": [
      "\u001b[1;31m---------------------------------------------------------------------------\u001b[0m",
      "\u001b[1;31mValueError\u001b[0m                                Traceback (most recent call last)",
      "\u001b[1;32mc:\\Users\\luweb\\OneDrive\\文件\\GitHub\\2022-CCoE\\C eval paper\\eval.ipynb Cell 16\u001b[0m in \u001b[0;36m7\n\u001b[0;32m      <a href='vscode-notebook-cell:/c%3A/Users/luweb/OneDrive/%E6%96%87%E4%BB%B6/GitHub/2022-CCoE/C%20eval%20paper/eval.ipynb#X22sZmlsZQ%3D%3D?line=3'>4</a>\u001b[0m \u001b[39mimport\u001b[39;00m \u001b[39mast\u001b[39;00m\n\u001b[0;32m      <a href='vscode-notebook-cell:/c%3A/Users/luweb/OneDrive/%E6%96%87%E4%BB%B6/GitHub/2022-CCoE/C%20eval%20paper/eval.ipynb#X22sZmlsZQ%3D%3D?line=5'>6</a>\u001b[0m G\n\u001b[1;32m----> <a href='vscode-notebook-cell:/c%3A/Users/luweb/OneDrive/%E6%96%87%E4%BB%B6/GitHub/2022-CCoE/C%20eval%20paper/eval.ipynb#X22sZmlsZQ%3D%3D?line=6'>7</a>\u001b[0m labels \u001b[39m=\u001b[39m {n[\u001b[39m0\u001b[39m] : ast\u001b[39m.\u001b[39mliteral_eval(n[\u001b[39m1\u001b[39m][\u001b[39m'\u001b[39m\u001b[39mnode_type\u001b[39m\u001b[39m'\u001b[39m]) \u001b[39mfor\u001b[39;00m n \u001b[39min\u001b[39;00m G\u001b[39m.\u001b[39mnodes(data\u001b[39m=\u001b[39m\u001b[39mTrue\u001b[39;00m)}\n\u001b[0;32m      <a href='vscode-notebook-cell:/c%3A/Users/luweb/OneDrive/%E6%96%87%E4%BB%B6/GitHub/2022-CCoE/C%20eval%20paper/eval.ipynb#X22sZmlsZQ%3D%3D?line=7'>8</a>\u001b[0m nx\u001b[39m.\u001b[39mdraw_networkx(G, with_labels\u001b[39m=\u001b[39m\u001b[39mTrue\u001b[39;00m, labels\u001b[39m=\u001b[39mlabels)\n\u001b[0;32m      <a href='vscode-notebook-cell:/c%3A/Users/luweb/OneDrive/%E6%96%87%E4%BB%B6/GitHub/2022-CCoE/C%20eval%20paper/eval.ipynb#X22sZmlsZQ%3D%3D?line=8'>9</a>\u001b[0m plt\u001b[39m.\u001b[39mshow()\n",
      "\u001b[1;32mc:\\Users\\luweb\\OneDrive\\文件\\GitHub\\2022-CCoE\\C eval paper\\eval.ipynb Cell 16\u001b[0m in \u001b[0;36m7\n\u001b[0;32m      <a href='vscode-notebook-cell:/c%3A/Users/luweb/OneDrive/%E6%96%87%E4%BB%B6/GitHub/2022-CCoE/C%20eval%20paper/eval.ipynb#X22sZmlsZQ%3D%3D?line=3'>4</a>\u001b[0m \u001b[39mimport\u001b[39;00m \u001b[39mast\u001b[39;00m\n\u001b[0;32m      <a href='vscode-notebook-cell:/c%3A/Users/luweb/OneDrive/%E6%96%87%E4%BB%B6/GitHub/2022-CCoE/C%20eval%20paper/eval.ipynb#X22sZmlsZQ%3D%3D?line=5'>6</a>\u001b[0m G\n\u001b[1;32m----> <a href='vscode-notebook-cell:/c%3A/Users/luweb/OneDrive/%E6%96%87%E4%BB%B6/GitHub/2022-CCoE/C%20eval%20paper/eval.ipynb#X22sZmlsZQ%3D%3D?line=6'>7</a>\u001b[0m labels \u001b[39m=\u001b[39m {n[\u001b[39m0\u001b[39m] : ast\u001b[39m.\u001b[39;49mliteral_eval(n[\u001b[39m1\u001b[39;49m][\u001b[39m'\u001b[39;49m\u001b[39mnode_type\u001b[39;49m\u001b[39m'\u001b[39;49m]) \u001b[39mfor\u001b[39;00m n \u001b[39min\u001b[39;00m G\u001b[39m.\u001b[39mnodes(data\u001b[39m=\u001b[39m\u001b[39mTrue\u001b[39;00m)}\n\u001b[0;32m      <a href='vscode-notebook-cell:/c%3A/Users/luweb/OneDrive/%E6%96%87%E4%BB%B6/GitHub/2022-CCoE/C%20eval%20paper/eval.ipynb#X22sZmlsZQ%3D%3D?line=7'>8</a>\u001b[0m nx\u001b[39m.\u001b[39mdraw_networkx(G, with_labels\u001b[39m=\u001b[39m\u001b[39mTrue\u001b[39;00m, labels\u001b[39m=\u001b[39mlabels)\n\u001b[0;32m      <a href='vscode-notebook-cell:/c%3A/Users/luweb/OneDrive/%E6%96%87%E4%BB%B6/GitHub/2022-CCoE/C%20eval%20paper/eval.ipynb#X22sZmlsZQ%3D%3D?line=8'>9</a>\u001b[0m plt\u001b[39m.\u001b[39mshow()\n",
      "File \u001b[1;32mc:\\Users\\luweb\\AppData\\Local\\Programs\\Python\\Python310\\lib\\ast.py:108\u001b[0m, in \u001b[0;36mliteral_eval\u001b[1;34m(node_or_string)\u001b[0m\n\u001b[0;32m    106\u001b[0m                 \u001b[39mreturn\u001b[39;00m left \u001b[39m-\u001b[39m right\n\u001b[0;32m    107\u001b[0m     \u001b[39mreturn\u001b[39;00m _convert_signed_num(node)\n\u001b[1;32m--> 108\u001b[0m \u001b[39mreturn\u001b[39;00m _convert(node_or_string)\n",
      "File \u001b[1;32mc:\\Users\\luweb\\AppData\\Local\\Programs\\Python\\Python310\\lib\\ast.py:107\u001b[0m, in \u001b[0;36mliteral_eval.<locals>._convert\u001b[1;34m(node)\u001b[0m\n\u001b[0;32m    105\u001b[0m         \u001b[39melse\u001b[39;00m:\n\u001b[0;32m    106\u001b[0m             \u001b[39mreturn\u001b[39;00m left \u001b[39m-\u001b[39m right\n\u001b[1;32m--> 107\u001b[0m \u001b[39mreturn\u001b[39;00m _convert_signed_num(node)\n",
      "File \u001b[1;32mc:\\Users\\luweb\\AppData\\Local\\Programs\\Python\\Python310\\lib\\ast.py:81\u001b[0m, in \u001b[0;36mliteral_eval.<locals>._convert_signed_num\u001b[1;34m(node)\u001b[0m\n\u001b[0;32m     79\u001b[0m     \u001b[39melse\u001b[39;00m:\n\u001b[0;32m     80\u001b[0m         \u001b[39mreturn\u001b[39;00m \u001b[39m-\u001b[39m operand\n\u001b[1;32m---> 81\u001b[0m \u001b[39mreturn\u001b[39;00m _convert_num(node)\n",
      "File \u001b[1;32mc:\\Users\\luweb\\AppData\\Local\\Programs\\Python\\Python310\\lib\\ast.py:72\u001b[0m, in \u001b[0;36mliteral_eval.<locals>._convert_num\u001b[1;34m(node)\u001b[0m\n\u001b[0;32m     70\u001b[0m \u001b[39mdef\u001b[39;00m \u001b[39m_convert_num\u001b[39m(node):\n\u001b[0;32m     71\u001b[0m     \u001b[39mif\u001b[39;00m \u001b[39mnot\u001b[39;00m \u001b[39misinstance\u001b[39m(node, Constant) \u001b[39mor\u001b[39;00m \u001b[39mtype\u001b[39m(node\u001b[39m.\u001b[39mvalue) \u001b[39mnot\u001b[39;00m \u001b[39min\u001b[39;00m (\u001b[39mint\u001b[39m, \u001b[39mfloat\u001b[39m, \u001b[39mcomplex\u001b[39m):\n\u001b[1;32m---> 72\u001b[0m         _raise_malformed_node(node)\n\u001b[0;32m     73\u001b[0m     \u001b[39mreturn\u001b[39;00m node\u001b[39m.\u001b[39mvalue\n",
      "File \u001b[1;32mc:\\Users\\luweb\\AppData\\Local\\Programs\\Python\\Python310\\lib\\ast.py:69\u001b[0m, in \u001b[0;36mliteral_eval.<locals>._raise_malformed_node\u001b[1;34m(node)\u001b[0m\n\u001b[0;32m     67\u001b[0m \u001b[39mif\u001b[39;00m lno \u001b[39m:=\u001b[39m \u001b[39mgetattr\u001b[39m(node, \u001b[39m'\u001b[39m\u001b[39mlineno\u001b[39m\u001b[39m'\u001b[39m, \u001b[39mNone\u001b[39;00m):\n\u001b[0;32m     68\u001b[0m     msg \u001b[39m+\u001b[39m\u001b[39m=\u001b[39m \u001b[39mf\u001b[39m\u001b[39m'\u001b[39m\u001b[39m on line \u001b[39m\u001b[39m{\u001b[39;00mlno\u001b[39m}\u001b[39;00m\u001b[39m'\u001b[39m\n\u001b[1;32m---> 69\u001b[0m \u001b[39mraise\u001b[39;00m \u001b[39mValueError\u001b[39;00m(msg \u001b[39m+\u001b[39m \u001b[39mf\u001b[39m\u001b[39m'\u001b[39m\u001b[39m: \u001b[39m\u001b[39m{\u001b[39;00mnode\u001b[39m!r}\u001b[39;00m\u001b[39m'\u001b[39m)\n",
      "\u001b[1;31mValueError\u001b[0m: malformed node or string on line 1: <ast.Name object at 0x0000027A08A69DE0>"
     ]
    }
   ],
   "source": [
    "# https://stackoverflow.com/questions/54439731/networkx-read-dot-does-not-inherit-attributes\n",
    "import networkx as nx\n",
    "import matplotlib.pyplot as plt\n",
    "import ast\n",
    "\n",
    "G\n",
    "labels = {n[0] : ast.literal_eval(n[1]['node_type']) for n in G.nodes(data=True)}\n",
    "nx.draw_networkx(G, with_labels=True, labels=labels)\n",
    "plt.show()"
   ]
  },
  {
   "cell_type": "code",
   "execution_count": 25,
   "metadata": {},
   "outputs": [
    {
     "ename": "ImportError",
     "evalue": "requires pygraphviz http://pygraphviz.github.io/",
     "output_type": "error",
     "traceback": [
      "\u001b[1;31m---------------------------------------------------------------------------\u001b[0m",
      "\u001b[1;31mModuleNotFoundError\u001b[0m                       Traceback (most recent call last)",
      "File \u001b[1;32mc:\\Users\\luweb\\AppData\\Local\\Programs\\Python\\Python310\\lib\\site-packages\\networkx\\drawing\\nx_agraph.py:133\u001b[0m, in \u001b[0;36mto_agraph\u001b[1;34m(N)\u001b[0m\n\u001b[0;32m    132\u001b[0m \u001b[39mtry\u001b[39;00m:\n\u001b[1;32m--> 133\u001b[0m     \u001b[39mimport\u001b[39;00m \u001b[39mpygraphviz\u001b[39;00m\n\u001b[0;32m    134\u001b[0m \u001b[39mexcept\u001b[39;00m \u001b[39mImportError\u001b[39;00m \u001b[39mas\u001b[39;00m err:\n",
      "\u001b[1;31mModuleNotFoundError\u001b[0m: No module named 'pygraphviz'",
      "\nThe above exception was the direct cause of the following exception:\n",
      "\u001b[1;31mImportError\u001b[0m                               Traceback (most recent call last)",
      "\u001b[1;32mc:\\Users\\luweb\\OneDrive\\文件\\GitHub\\2022-CCoE\\C eval paper\\eval.ipynb Cell 17\u001b[0m in \u001b[0;36m3\n\u001b[0;32m      <a href='vscode-notebook-cell:/c%3A/Users/luweb/OneDrive/%E6%96%87%E4%BB%B6/GitHub/2022-CCoE/C%20eval%20paper/eval.ipynb#X23sZmlsZQ%3D%3D?line=0'>1</a>\u001b[0m \u001b[39mimport\u001b[39;00m \u001b[39mnetworkx\u001b[39;00m \u001b[39mas\u001b[39;00m \u001b[39mnx\u001b[39;00m\n\u001b[1;32m----> <a href='vscode-notebook-cell:/c%3A/Users/luweb/OneDrive/%E6%96%87%E4%BB%B6/GitHub/2022-CCoE/C%20eval%20paper/eval.ipynb#X23sZmlsZQ%3D%3D?line=2'>3</a>\u001b[0m A \u001b[39m=\u001b[39m nx\u001b[39m.\u001b[39;49mdrawing\u001b[39m.\u001b[39;49mnx_agraph\u001b[39m.\u001b[39;49mto_agraph(nx\u001b[39m.\u001b[39;49mdrawing\u001b[39m.\u001b[39;49mnx_pydot\u001b[39m.\u001b[39;49mread_dot(dot_path))\n\u001b[0;32m      <a href='vscode-notebook-cell:/c%3A/Users/luweb/OneDrive/%E6%96%87%E4%BB%B6/GitHub/2022-CCoE/C%20eval%20paper/eval.ipynb#X23sZmlsZQ%3D%3D?line=3'>4</a>\u001b[0m A\u001b[39m.\u001b[39mlayout(\u001b[39m'\u001b[39m\u001b[39mdot\u001b[39m\u001b[39m'\u001b[39m)\n\u001b[0;32m      <a href='vscode-notebook-cell:/c%3A/Users/luweb/OneDrive/%E6%96%87%E4%BB%B6/GitHub/2022-CCoE/C%20eval%20paper/eval.ipynb#X23sZmlsZQ%3D%3D?line=4'>5</a>\u001b[0m A\u001b[39m.\u001b[39mdraw(\u001b[39m'\u001b[39m\u001b[39mtree.png\u001b[39m\u001b[39m'\u001b[39m)\n",
      "File \u001b[1;32mc:\\Users\\luweb\\AppData\\Local\\Programs\\Python\\Python310\\lib\\site-packages\\networkx\\drawing\\nx_agraph.py:135\u001b[0m, in \u001b[0;36mto_agraph\u001b[1;34m(N)\u001b[0m\n\u001b[0;32m    133\u001b[0m     \u001b[39mimport\u001b[39;00m \u001b[39mpygraphviz\u001b[39;00m\n\u001b[0;32m    134\u001b[0m \u001b[39mexcept\u001b[39;00m \u001b[39mImportError\u001b[39;00m \u001b[39mas\u001b[39;00m err:\n\u001b[1;32m--> 135\u001b[0m     \u001b[39mraise\u001b[39;00m \u001b[39mImportError\u001b[39;00m(\n\u001b[0;32m    136\u001b[0m         \u001b[39m\"\u001b[39m\u001b[39mrequires pygraphviz \u001b[39m\u001b[39m\"\u001b[39m \u001b[39m\"\u001b[39m\u001b[39mhttp://pygraphviz.github.io/\u001b[39m\u001b[39m\"\u001b[39m\n\u001b[0;32m    137\u001b[0m     ) \u001b[39mfrom\u001b[39;00m \u001b[39merr\u001b[39;00m\n\u001b[0;32m    138\u001b[0m directed \u001b[39m=\u001b[39m N\u001b[39m.\u001b[39mis_directed()\n\u001b[0;32m    139\u001b[0m strict \u001b[39m=\u001b[39m nx\u001b[39m.\u001b[39mnumber_of_selfloops(N) \u001b[39m==\u001b[39m \u001b[39m0\u001b[39m \u001b[39mand\u001b[39;00m \u001b[39mnot\u001b[39;00m N\u001b[39m.\u001b[39mis_multigraph()\n",
      "\u001b[1;31mImportError\u001b[0m: requires pygraphviz http://pygraphviz.github.io/"
     ]
    }
   ],
   "source": [
    "import networkx as nx\n",
    "\n",
    "A = nx.drawing.nx_agraph.to_agraph(nx.drawing.nx_pydot.read_dot(dot_path))\n",
    "A.layout('dot')\n",
    "A.draw('tree.png')"
   ]
  },
  {
   "cell_type": "code",
   "execution_count": 26,
   "metadata": {},
   "outputs": [
    {
     "name": "stdout",
     "output_type": "stream",
     "text": [
      "Collecting pygraphviz\n",
      "  Using cached pygraphviz-1.10.zip (120 kB)\n",
      "  Installing build dependencies: started\n",
      "  Installing build dependencies: finished with status 'done'\n",
      "  Getting requirements to build wheel: started\n",
      "  Getting requirements to build wheel: finished with status 'done'\n",
      "  Preparing metadata (pyproject.toml): started\n",
      "  Preparing metadata (pyproject.toml): finished with status 'done'\n",
      "Building wheels for collected packages: pygraphviz\n",
      "  Building wheel for pygraphviz (pyproject.toml): started\n",
      "  Building wheel for pygraphviz (pyproject.toml): finished with status 'error'\n",
      "Failed to build pygraphviz\n"
     ]
    },
    {
     "name": "stderr",
     "output_type": "stream",
     "text": [
      "  error: subprocess-exited-with-error\n",
      "  \n",
      "  × Building wheel for pygraphviz (pyproject.toml) did not run successfully.\n",
      "  │ exit code: 1\n",
      "  ╰─> [48 lines of output]\n",
      "      running bdist_wheel\n",
      "      running build\n",
      "      running build_py\n",
      "      creating build\n",
      "      creating build\\lib.win-amd64-cpython-310\n",
      "      creating build\\lib.win-amd64-cpython-310\\pygraphviz\n",
      "      copying pygraphviz\\agraph.py -> build\\lib.win-amd64-cpython-310\\pygraphviz\n",
      "      copying pygraphviz\\graphviz.py -> build\\lib.win-amd64-cpython-310\\pygraphviz\n",
      "      copying pygraphviz\\scraper.py -> build\\lib.win-amd64-cpython-310\\pygraphviz\n",
      "      copying pygraphviz\\testing.py -> build\\lib.win-amd64-cpython-310\\pygraphviz\n",
      "      copying pygraphviz\\__init__.py -> build\\lib.win-amd64-cpython-310\\pygraphviz\n",
      "      creating build\\lib.win-amd64-cpython-310\\pygraphviz\\tests\n",
      "      copying pygraphviz\\tests\\test_attribute_defaults.py -> build\\lib.win-amd64-cpython-310\\pygraphviz\\tests\n",
      "      copying pygraphviz\\tests\\test_clear.py -> build\\lib.win-amd64-cpython-310\\pygraphviz\\tests\n",
      "      copying pygraphviz\\tests\\test_close.py -> build\\lib.win-amd64-cpython-310\\pygraphviz\\tests\n",
      "      copying pygraphviz\\tests\\test_drawing.py -> build\\lib.win-amd64-cpython-310\\pygraphviz\\tests\n",
      "      copying pygraphviz\\tests\\test_edge_attributes.py -> build\\lib.win-amd64-cpython-310\\pygraphviz\\tests\n",
      "      copying pygraphviz\\tests\\test_graph.py -> build\\lib.win-amd64-cpython-310\\pygraphviz\\tests\n",
      "      copying pygraphviz\\tests\\test_html.py -> build\\lib.win-amd64-cpython-310\\pygraphviz\\tests\n",
      "      copying pygraphviz\\tests\\test_layout.py -> build\\lib.win-amd64-cpython-310\\pygraphviz\\tests\n",
      "      copying pygraphviz\\tests\\test_node_attributes.py -> build\\lib.win-amd64-cpython-310\\pygraphviz\\tests\n",
      "      copying pygraphviz\\tests\\test_readwrite.py -> build\\lib.win-amd64-cpython-310\\pygraphviz\\tests\n",
      "      copying pygraphviz\\tests\\test_repr_mimebundle.py -> build\\lib.win-amd64-cpython-310\\pygraphviz\\tests\n",
      "      copying pygraphviz\\tests\\test_scraper.py -> build\\lib.win-amd64-cpython-310\\pygraphviz\\tests\n",
      "      copying pygraphviz\\tests\\test_string.py -> build\\lib.win-amd64-cpython-310\\pygraphviz\\tests\n",
      "      copying pygraphviz\\tests\\test_subgraph.py -> build\\lib.win-amd64-cpython-310\\pygraphviz\\tests\n",
      "      copying pygraphviz\\tests\\test_unicode.py -> build\\lib.win-amd64-cpython-310\\pygraphviz\\tests\n",
      "      copying pygraphviz\\tests\\__init__.py -> build\\lib.win-amd64-cpython-310\\pygraphviz\\tests\n",
      "      running egg_info\n",
      "      writing pygraphviz.egg-info\\PKG-INFO\n",
      "      writing dependency_links to pygraphviz.egg-info\\dependency_links.txt\n",
      "      writing top-level names to pygraphviz.egg-info\\top_level.txt\n",
      "      reading manifest file 'pygraphviz.egg-info\\SOURCES.txt'\n",
      "      reading manifest template 'MANIFEST.in'\n",
      "      warning: no files found matching '*.png' under directory 'doc'\n",
      "      warning: no files found matching '*.txt' under directory 'doc'\n",
      "      warning: no files found matching '*.css' under directory 'doc'\n",
      "      warning: no previously-included files matching '*~' found anywhere in distribution\n",
      "      warning: no previously-included files matching '*.pyc' found anywhere in distribution\n",
      "      warning: no previously-included files matching '.svn' found anywhere in distribution\n",
      "      no previously-included directories found matching 'doc\\build'\n",
      "      adding license file 'LICENSE'\n",
      "      writing manifest file 'pygraphviz.egg-info\\SOURCES.txt'\n",
      "      copying pygraphviz\\graphviz.i -> build\\lib.win-amd64-cpython-310\\pygraphviz\n",
      "      copying pygraphviz\\graphviz_wrap.c -> build\\lib.win-amd64-cpython-310\\pygraphviz\n",
      "      running build_ext\n",
      "      building 'pygraphviz._graphviz' extension\n",
      "      error: Microsoft Visual C++ 14.0 or greater is required. Get it with \"Microsoft C++ Build Tools\": https://visualstudio.microsoft.com/visual-cpp-build-tools/\n",
      "      [end of output]\n",
      "  \n",
      "  note: This error originates from a subprocess, and is likely not a problem with pip.\n",
      "  ERROR: Failed building wheel for pygraphviz\n",
      "ERROR: Could not build wheels for pygraphviz, which is required to install pyproject.toml-based projects\n",
      "\n",
      "[notice] A new release of pip available: 22.3.1 -> 23.0.1\n",
      "[notice] To update, run: python.exe -m pip install --upgrade pip\n"
     ]
    }
   ],
   "source": [
    "! pip install pygraphviz --use-pep517"
   ]
  },
  {
   "cell_type": "code",
   "execution_count": null,
   "metadata": {},
   "outputs": [],
   "source": []
  }
 ],
 "metadata": {
  "kernelspec": {
   "display_name": "Python 3",
   "language": "python",
   "name": "python3"
  },
  "language_info": {
   "codemirror_mode": {
    "name": "ipython",
    "version": 3
   },
   "file_extension": ".py",
   "mimetype": "text/x-python",
   "name": "python",
   "nbconvert_exporter": "python",
   "pygments_lexer": "ipython3",
   "version": "3.10.5"
  },
  "orig_nbformat": 4,
  "vscode": {
   "interpreter": {
    "hash": "125a1d8b627fe68767755740015967bae857d08bb92fb3fd0d9d8ed24f978d39"
   }
  }
 },
 "nbformat": 4,
 "nbformat_minor": 2
}
