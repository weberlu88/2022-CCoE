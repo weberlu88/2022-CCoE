{
 "cells": [
  {
   "attachments": {},
   "cell_type": "markdown",
   "metadata": {},
   "source": [
    "### 230620更新: 重新編排 syscall 受詞的類別，共 9 類\n",
    "- ['NET', 'PROC', 'MEM', 'ID', 'FILE', 'TIME', 'RESOURCE_BYTE', 'EXIT_STATUS', 'PERMISSION']\n",
    "- 這個版本沒有 device，歸類為 file。\n",
    "- 似乎有些小問題(志剛標的類別)，像是 pipe() 和 pipe2() 的類別不一樣，一個是 file 一個是 proc，但沒有樣本用到所以沒差。"
   ]
  },
  {
   "cell_type": "code",
   "execution_count": 11,
   "metadata": {},
   "outputs": [
    {
     "name": "stdout",
     "output_type": "stream",
     "text": [
      "['NET' 'PROC' 'MEM' 'ID' 'FILE' 'TIME' 'RESOURCE_BYTE' 'EXIT_STATUS'\n",
      " 'PERMISSION']\n",
      "num of syscall 397 (include 'rm()', 'exec()')\n"
     ]
    }
   ],
   "source": [
    "import pandas as pd\n",
    "\n",
    "synbase = pd.read_csv('../synonym_data/synonym_dataset.csv')\n",
    "print(synbase['Obj_type'].unique())\n",
    "syscall_type_dict = {}\n",
    "for i, row in synbase.iterrows():\n",
    "    syscall_type_dict[row['Syscall']] = row['Obj_type']\n",
    "print(f\"num of syscall {len(syscall_type_dict)} (include 'rm()', 'exec()')\")\n",
    "\n",
    "# 更改 395 syscall rule 的類別\n",
    "# rules = pd.read_csv('../rule_dataset_final.csv')\n",
    "# for syscall, type in syscall_type_dict.items():\n",
    "#     # print(syscall)\n",
    "#     rules.loc[rules['Syscall'] == syscall, ['EntityType']] = type\n",
    "# rules.to_csv('../rule_dataset_final.csv', index=False)\n",
    "# rules.to_csv('./rule_dataset_final.csv', index=False)\n",
    "\n",
    "# 更改正在使用的 rule 的類別\n",
    "rules = pd.read_csv('../../Model/rule_dataset.csv')\n",
    "for syscall, type in syscall_type_dict.items():\n",
    "    rules.loc[rules['Syscall'] == syscall, ['EntityType']] = type\n",
    "rules.to_csv('../../Model/rule_dataset.csv', index=False)"
   ]
  },
  {
   "attachments": {},
   "cell_type": "markdown",
   "metadata": {},
   "source": [
    "### Load synonym data and current rule data\n",
    "- ps: 分析用的規則是 `rule_dataset_final.csv`，包含完整的 system calls。實作上沒有用。\n",
    "- `synonym_dataset.csv`"
   ]
  },
  {
   "cell_type": "code",
   "execution_count": 7,
   "metadata": {},
   "outputs": [
    {
     "data": {
      "text/html": [
       "<div>\n",
       "<style scoped>\n",
       "    .dataframe tbody tr th:only-of-type {\n",
       "        vertical-align: middle;\n",
       "    }\n",
       "\n",
       "    .dataframe tbody tr th {\n",
       "        vertical-align: top;\n",
       "    }\n",
       "\n",
       "    .dataframe thead th {\n",
       "        text-align: right;\n",
       "    }\n",
       "</style>\n",
       "<table border=\"1\" class=\"dataframe\">\n",
       "  <thead>\n",
       "    <tr style=\"text-align: right;\">\n",
       "      <th></th>\n",
       "      <th>EntityType</th>\n",
       "      <th>ActionType</th>\n",
       "      <th>Source</th>\n",
       "      <th>Syscall</th>\n",
       "      <th>EnVerb</th>\n",
       "      <th>Sentence</th>\n",
       "    </tr>\n",
       "  </thead>\n",
       "  <tbody>\n",
       "    <tr>\n",
       "      <th>0</th>\n",
       "      <td>DEVICE</td>\n",
       "      <td>DEVICE</td>\n",
       "      <td>man</td>\n",
       "      <td>io_cancel()</td>\n",
       "      <td>cancel</td>\n",
       "      <td>NaN</td>\n",
       "    </tr>\n",
       "    <tr>\n",
       "      <th>1</th>\n",
       "      <td>DEVICE</td>\n",
       "      <td>DEVICE</td>\n",
       "      <td>man</td>\n",
       "      <td>io_destroy()</td>\n",
       "      <td>destroy</td>\n",
       "      <td>NaN</td>\n",
       "    </tr>\n",
       "    <tr>\n",
       "      <th>2</th>\n",
       "      <td>DEVICE</td>\n",
       "      <td>DEVICE</td>\n",
       "      <td>man</td>\n",
       "      <td>io_getevents()</td>\n",
       "      <td>read</td>\n",
       "      <td>NaN</td>\n",
       "    </tr>\n",
       "  </tbody>\n",
       "</table>\n",
       "</div>"
      ],
      "text/plain": [
       "  EntityType ActionType Source         Syscall   EnVerb Sentence\n",
       "0     DEVICE     DEVICE    man     io_cancel()   cancel      NaN\n",
       "1     DEVICE     DEVICE    man    io_destroy()  destroy      NaN\n",
       "2     DEVICE     DEVICE    man  io_getevents()     read      NaN"
      ]
     },
     "execution_count": 7,
     "metadata": {},
     "output_type": "execute_result"
    }
   ],
   "source": [
    "import pandas as pd\n",
    "\n",
    "rules = pd.read_csv('../rule_dataset_final.csv')\n",
    "\n",
    "def clean_braces(x):\n",
    "    x = x.replace(\"()\", \"\").replace(\",\", \"\").replace(\" \", \"\")\n",
    "    return str(x)\n",
    "def add_braces(x):\n",
    "    x = clean_braces(x)\n",
    "    x = x+\"()\"\n",
    "    return x\n",
    "\n",
    "rules['Syscall'] = rules['Syscall'].apply(add_braces) #clean_braces\n",
    "rules.head(3)"
   ]
  },
  {
   "cell_type": "code",
   "execution_count": 8,
   "metadata": {},
   "outputs": [
    {
     "data": {
      "text/html": [
       "<div>\n",
       "<style scoped>\n",
       "    .dataframe tbody tr th:only-of-type {\n",
       "        vertical-align: middle;\n",
       "    }\n",
       "\n",
       "    .dataframe tbody tr th {\n",
       "        vertical-align: top;\n",
       "    }\n",
       "\n",
       "    .dataframe thead th {\n",
       "        text-align: right;\n",
       "    }\n",
       "</style>\n",
       "<table border=\"1\" class=\"dataframe\">\n",
       "  <thead>\n",
       "    <tr style=\"text-align: right;\">\n",
       "      <th></th>\n",
       "      <th>Syscall</th>\n",
       "      <th>Sentence</th>\n",
       "      <th>FirstLine</th>\n",
       "      <th>Synonym</th>\n",
       "      <th>SynonymSentence</th>\n",
       "    </tr>\n",
       "  </thead>\n",
       "  <tbody>\n",
       "    <tr>\n",
       "      <th>0</th>\n",
       "      <td>shutdown()</td>\n",
       "      <td>shut down part of a full-duplex connection</td>\n",
       "      <td>&lt;shut down,part of a full-duplex connection&gt;</td>\n",
       "      <td>&lt;,&gt;</td>\n",
       "      <td>NaN</td>\n",
       "    </tr>\n",
       "    <tr>\n",
       "      <th>1</th>\n",
       "      <td>recvmmsg()</td>\n",
       "      <td>receive multiple messages on a socket</td>\n",
       "      <td>&lt;receive,multiple messages&gt;</td>\n",
       "      <td>&lt;,&gt;</td>\n",
       "      <td>NaN</td>\n",
       "    </tr>\n",
       "    <tr>\n",
       "      <th>2</th>\n",
       "      <td>sendmmsg()</td>\n",
       "      <td>send multiple messages on a socket</td>\n",
       "      <td>&lt;send,multiple messages&gt;</td>\n",
       "      <td>&lt;transmit,multiple messages&gt;</td>\n",
       "      <td>transmit multiple messages on a socket using a...</td>\n",
       "    </tr>\n",
       "  </tbody>\n",
       "</table>\n",
       "</div>"
      ],
      "text/plain": [
       "      Syscall                                    Sentence  \\\n",
       "0  shutdown()  shut down part of a full-duplex connection   \n",
       "1  recvmmsg()       receive multiple messages on a socket   \n",
       "2  sendmmsg()          send multiple messages on a socket   \n",
       "\n",
       "                                      FirstLine                       Synonym  \\\n",
       "0  <shut down,part of a full-duplex connection>                           <,>   \n",
       "1                   <receive,multiple messages>                           <,>   \n",
       "2                      <send,multiple messages>  <transmit,multiple messages>   \n",
       "\n",
       "                                     SynonymSentence  \n",
       "0                                                NaN  \n",
       "1                                                NaN  \n",
       "2  transmit multiple messages on a socket using a...  "
      ]
     },
     "metadata": {},
     "output_type": "display_data"
    }
   ],
   "source": [
    "synbase = pd.read_csv('../synonym_data/synonym_dataset.csv')\n",
    "synbase = synbase[~synbase['Syscall'].isin(['rm()', 'exec()'])]\n",
    "display(synbase.head(3))\n",
    "\n",
    "# 只有一個 Synonym 的 syscall: 115 個\n",
    "def count_pairs(x):\n",
    "    numOfSplit = len(x.split('|'))\n",
    "    if numOfSplit == 1 and (x == '' or x == '<,>'):\n",
    "        return 0\n",
    "    return numOfSplit\n",
    "\n",
    "# dataset['numOfSynonym'] = dataset['Synonym'].apply(count_pairs)\n",
    "# dataset['numOfFirstLine'] = dataset['FirstLine'].apply(count_pairs)\n",
    "\n",
    "def extract_verb(x:str):\n",
    "    ''' <,> => None, <get,xxx> => get '''\n",
    "    x = x.replace('<','').replace('>','')\n",
    "    x = x.split(',')[0]\n",
    "    return x.strip()\n",
    "\n",
    "# dataset['FirstVerb'] = dataset['FirstLine'].apply(extract_verb)"
   ]
  },
  {
   "attachments": {},
   "cell_type": "markdown",
   "metadata": {},
   "source": [
    "### Extract verbs and sentence from synbase"
   ]
  },
  {
   "cell_type": "code",
   "execution_count": 21,
   "metadata": {},
   "outputs": [
    {
     "name": "stdout",
     "output_type": "stream",
     "text": [
      "ioperm() has same verb as verb_name and description: set\n",
      "mlockall() has same verb as verb_name and description: lock\n",
      "init_module() has same verb as verb_name and description: load\n",
      "finit_module() has same verb as verb_name and description: load\n",
      "mknod() has same verb as verb_name and description: create\n",
      "timerfd_settime() has same verb as verb_name and description: arm\n",
      "timerfd_settime() has same verb as verb_name and description: disarm\n",
      "fchmodat() has same verb as verb_name and description: change\n",
      "timerfd_create() has same verb as verb_name and description: create\n",
      "open_by_handle_at() has same verb as verb_name and description: open\n",
      "userfaultfd() has same verb as verb_name and description: create\n"
     ]
    },
    {
     "data": {
      "text/plain": [
       "[('shutdown()', ['shut down']),\n",
       " ('recvmmsg()', ['receive']),\n",
       " ('sendmmsg()', ['transmit', 'send']),\n",
       " ('pipe2()', ['create']),\n",
       " ('mq_unlink()', ['remove'])]"
      ]
     },
     "execution_count": 21,
     "metadata": {},
     "output_type": "execute_result"
    }
   ],
   "source": [
    "syndata = {}\n",
    "counter = 0\n",
    "syscall_list = set()\n",
    "for i, synrow in synbase.iterrows():\n",
    "    verbs = set()\n",
    "    # print(synrow)\n",
    "    # extract_verb(synrow['FirstLine'])\n",
    "    verb_name = extract_verb(synrow['FirstLine'])\n",
    "    verbs.add(extract_verb(synrow['FirstLine'])) # name sector\n",
    "    counter += 1\n",
    "    des = []\n",
    "    if synrow['Synonym'] != '<,>':\n",
    "        des = synrow['Synonym'].split('|') # description sector\n",
    "        des = [extract_verb(d) for d in des]\n",
    "        [verbs.add(extract_verb(d)) for d in des]\n",
    "    syscall = synrow['Syscall']\n",
    "    # if syscall in syscall_list:\n",
    "    #     print(f\"duplicate syscall: {syscall}\")\n",
    "    syscall_list.add(syscall)\n",
    "    counter += len(des)\n",
    "    if verb_name in des:\n",
    "        print(f\"{syscall} has same verb as verb_name and description: {verb_name}\") # , {des}\n",
    "        continue\n",
    "    if len(des) != len(set(des)):\n",
    "        print(f\"{syscall} has duplicate description verb: {des}\")\n",
    "    if len(verbs) == 0:\n",
    "        continue\n",
    "    try:\n",
    "        # syndata[syscall].update(verbs)\n",
    "        syndata[syscall].extend(list(verbs))\n",
    "    except:\n",
    "        # syndata[syscall] = set(verbs)\n",
    "        syndata[syscall] = list(verbs)\n",
    "\n",
    "from itertools import islice\n",
    "def take(n, iterable):\n",
    "    \"\"\"Return the first n items of the iterable as a list.\"\"\"\n",
    "    return list(islice(iterable, n))\n",
    "\n",
    "n_items = take(5, syndata.items())\n",
    "n_items"
   ]
  },
  {
   "cell_type": "code",
   "execution_count": 32,
   "metadata": {},
   "outputs": [
    {
     "data": {
      "text/plain": [
       "0"
      ]
     },
     "execution_count": 32,
     "metadata": {},
     "output_type": "execute_result"
    }
   ],
   "source": [
    "dup = synbase.duplicated()\n",
    "dup = [1 for x in dup if x]\n",
    "sum(dup)"
   ]
  },
  {
   "cell_type": "code",
   "execution_count": 22,
   "metadata": {},
   "outputs": [
    {
     "data": {
      "text/plain": [
       "583"
      ]
     },
     "execution_count": 22,
     "metadata": {},
     "output_type": "execute_result"
    }
   ],
   "source": [
    "counter\n",
    "# syndata"
   ]
  },
  {
   "attachments": {},
   "cell_type": "markdown",
   "metadata": {},
   "source": [
    "依照 synbase 建立新的 rule dataset"
   ]
  },
  {
   "cell_type": "code",
   "execution_count": 35,
   "metadata": {},
   "outputs": [
    {
     "data": {
      "text/plain": [
       "('NET', 'NET_TRANSMIT')"
      ]
     },
     "execution_count": 35,
     "metadata": {},
     "output_type": "execute_result"
    }
   ],
   "source": [
    "def getType(syscall:str, ruledf:pd.DataFrame):\n",
    "    ''' search in rule dataset and get 'EntityType', 'ActionType'.'''\n",
    "    entity, action = None, None\n",
    "    rules = ruledf[ruledf['Syscall'] == syscall]\n",
    "    if len(rules) != 0:\n",
    "        rules = rules.reset_index()\n",
    "        # display(rules)\n",
    "        entity = rules.loc[0, 'EntityType']\n",
    "        action = rules.loc[0, 'ActionType']\n",
    "    return entity, action\n",
    "\n",
    "getType('sendmmsg()', rules)"
   ]
  },
  {
   "cell_type": "code",
   "execution_count": 36,
   "metadata": {},
   "outputs": [
    {
     "name": "stdout",
     "output_type": "stream",
     "text": [
      "num of syscall 395 , num of verb 136\n"
     ]
    },
    {
     "data": {
      "text/html": [
       "<div>\n",
       "<style scoped>\n",
       "    .dataframe tbody tr th:only-of-type {\n",
       "        vertical-align: middle;\n",
       "    }\n",
       "\n",
       "    .dataframe tbody tr th {\n",
       "        vertical-align: top;\n",
       "    }\n",
       "\n",
       "    .dataframe thead th {\n",
       "        text-align: right;\n",
       "    }\n",
       "</style>\n",
       "<table border=\"1\" class=\"dataframe\">\n",
       "  <thead>\n",
       "    <tr style=\"text-align: right;\">\n",
       "      <th></th>\n",
       "      <th>EntityType</th>\n",
       "      <th>ActionType</th>\n",
       "      <th>Source</th>\n",
       "      <th>Syscall</th>\n",
       "      <th>EnVerb</th>\n",
       "      <th>Sentence</th>\n",
       "    </tr>\n",
       "  </thead>\n",
       "  <tbody>\n",
       "    <tr>\n",
       "      <th>0</th>\n",
       "      <td>NET</td>\n",
       "      <td>NET_CLOSE</td>\n",
       "      <td>man</td>\n",
       "      <td>shutdown()</td>\n",
       "      <td>shut down</td>\n",
       "      <td>None</td>\n",
       "    </tr>\n",
       "    <tr>\n",
       "      <th>1</th>\n",
       "      <td>NET</td>\n",
       "      <td>NET_TRANSMIT</td>\n",
       "      <td>man</td>\n",
       "      <td>recvmmsg()</td>\n",
       "      <td>receive</td>\n",
       "      <td>None</td>\n",
       "    </tr>\n",
       "    <tr>\n",
       "      <th>2</th>\n",
       "      <td>NET</td>\n",
       "      <td>NET_TRANSMIT</td>\n",
       "      <td>man</td>\n",
       "      <td>sendmmsg()</td>\n",
       "      <td>transmit</td>\n",
       "      <td>None</td>\n",
       "    </tr>\n",
       "    <tr>\n",
       "      <th>3</th>\n",
       "      <td>NET</td>\n",
       "      <td>NET_TRANSMIT</td>\n",
       "      <td>man</td>\n",
       "      <td>sendmmsg()</td>\n",
       "      <td>send</td>\n",
       "      <td>None</td>\n",
       "    </tr>\n",
       "    <tr>\n",
       "      <th>4</th>\n",
       "      <td>NET</td>\n",
       "      <td>NET_CONNECT</td>\n",
       "      <td>man</td>\n",
       "      <td>pipe2()</td>\n",
       "      <td>create</td>\n",
       "      <td>None</td>\n",
       "    </tr>\n",
       "    <tr>\n",
       "      <th>...</th>\n",
       "      <td>...</td>\n",
       "      <td>...</td>\n",
       "      <td>...</td>\n",
       "      <td>...</td>\n",
       "      <td>...</td>\n",
       "      <td>...</td>\n",
       "    </tr>\n",
       "    <tr>\n",
       "      <th>563</th>\n",
       "      <td>NET</td>\n",
       "      <td>NET_TRANSMIT</td>\n",
       "      <td>man</td>\n",
       "      <td>recvfrom()</td>\n",
       "      <td>receive</td>\n",
       "      <td>None</td>\n",
       "    </tr>\n",
       "    <tr>\n",
       "      <th>564</th>\n",
       "      <td>NET</td>\n",
       "      <td>NET_TRANSMIT</td>\n",
       "      <td>man</td>\n",
       "      <td>send()</td>\n",
       "      <td>send</td>\n",
       "      <td>None</td>\n",
       "    </tr>\n",
       "    <tr>\n",
       "      <th>565</th>\n",
       "      <td>NET</td>\n",
       "      <td>NET_TRANSMIT</td>\n",
       "      <td>man</td>\n",
       "      <td>sendto()</td>\n",
       "      <td>send</td>\n",
       "      <td>None</td>\n",
       "    </tr>\n",
       "    <tr>\n",
       "      <th>566</th>\n",
       "      <td>NET</td>\n",
       "      <td>NET_TRANSMIT</td>\n",
       "      <td>man</td>\n",
       "      <td>sendmsg()</td>\n",
       "      <td>send</td>\n",
       "      <td>None</td>\n",
       "    </tr>\n",
       "    <tr>\n",
       "      <th>567</th>\n",
       "      <td>None</td>\n",
       "      <td>None</td>\n",
       "      <td>man</td>\n",
       "      <td>quotactl()</td>\n",
       "      <td>manipulate</td>\n",
       "      <td>None</td>\n",
       "    </tr>\n",
       "  </tbody>\n",
       "</table>\n",
       "<p>568 rows × 6 columns</p>\n",
       "</div>"
      ],
      "text/plain": [
       "    EntityType    ActionType Source     Syscall      EnVerb Sentence\n",
       "0          NET     NET_CLOSE    man  shutdown()   shut down     None\n",
       "1          NET  NET_TRANSMIT    man  recvmmsg()     receive     None\n",
       "2          NET  NET_TRANSMIT    man  sendmmsg()    transmit     None\n",
       "3          NET  NET_TRANSMIT    man  sendmmsg()        send     None\n",
       "4          NET   NET_CONNECT    man     pipe2()      create     None\n",
       "..         ...           ...    ...         ...         ...      ...\n",
       "563        NET  NET_TRANSMIT    man  recvfrom()     receive     None\n",
       "564        NET  NET_TRANSMIT    man      send()        send     None\n",
       "565        NET  NET_TRANSMIT    man    sendto()        send     None\n",
       "566        NET  NET_TRANSMIT    man   sendmsg()        send     None\n",
       "567       None          None    man  quotactl()  manipulate     None\n",
       "\n",
       "[568 rows x 6 columns]"
      ]
     },
     "execution_count": 36,
     "metadata": {},
     "output_type": "execute_result"
    }
   ],
   "source": [
    "ruledata = []\n",
    "for syscall, verbset in syndata.items():\n",
    "    entity, action = getType(syscall, rules)\n",
    "    for verb in verbset:\n",
    "        ruledata.append({\n",
    "            'EntityType': entity,\n",
    "            'ActionType': action,\n",
    "            'Source': 'man', \n",
    "            'Syscall': syscall, \n",
    "            'EnVerb': verb, \n",
    "            'Sentence': None,\n",
    "        })\n",
    "df = pd.DataFrame(ruledata) # df is the new rule dataset for statistic\n",
    "print('num of syscall', len(df['Syscall'].unique()),', num of verb',  len(df['EnVerb'].unique()))\n",
    "df"
   ]
  },
  {
   "cell_type": "code",
   "execution_count": 3,
   "metadata": {},
   "outputs": [],
   "source": [
    "# 輸出 csv 並標註\n",
    "# df.to_csv('need_label.csv', index=False) \n",
    "# 重新 sort 規則\n",
    "df = pd.read_csv('need_label.csv')\n",
    "df = df.sort_values(by=['EntityType', 'ActionType', 'Syscall'])\n",
    "df.to_csv('after_label.csv', index=False) "
   ]
  },
  {
   "attachments": {},
   "cell_type": "markdown",
   "metadata": {},
   "source": [
    "### add verb from CTI report back to rule dataet"
   ]
  },
  {
   "attachments": {},
   "cell_type": "markdown",
   "metadata": {},
   "source": [
    "- 現在新的 rule_dataset 已經建好了(從 synbase 把手冊翻譯轉過來)，把從 CTI 找到的動詞加過去"
   ]
  },
  {
   "cell_type": "code",
   "execution_count": 5,
   "metadata": {},
   "outputs": [
    {
     "name": "stdout",
     "output_type": "stream",
     "text": [
      "num of syscall 396 , num of verb 155\n"
     ]
    },
    {
     "data": {
      "text/html": [
       "<div>\n",
       "<style scoped>\n",
       "    .dataframe tbody tr th:only-of-type {\n",
       "        vertical-align: middle;\n",
       "    }\n",
       "\n",
       "    .dataframe tbody tr th {\n",
       "        vertical-align: top;\n",
       "    }\n",
       "\n",
       "    .dataframe thead th {\n",
       "        text-align: right;\n",
       "    }\n",
       "</style>\n",
       "<table border=\"1\" class=\"dataframe\">\n",
       "  <thead>\n",
       "    <tr style=\"text-align: right;\">\n",
       "      <th></th>\n",
       "      <th>EntityType</th>\n",
       "      <th>ActionType</th>\n",
       "      <th>Source</th>\n",
       "      <th>Syscall</th>\n",
       "      <th>EnVerb</th>\n",
       "      <th>Sentence</th>\n",
       "    </tr>\n",
       "  </thead>\n",
       "  <tbody>\n",
       "    <tr>\n",
       "      <th>0</th>\n",
       "      <td>DEVICE</td>\n",
       "      <td>DEVICE</td>\n",
       "      <td>man</td>\n",
       "      <td>io_cancel()</td>\n",
       "      <td>cancel</td>\n",
       "      <td>NaN</td>\n",
       "    </tr>\n",
       "    <tr>\n",
       "      <th>1</th>\n",
       "      <td>DEVICE</td>\n",
       "      <td>DEVICE</td>\n",
       "      <td>man</td>\n",
       "      <td>io_destroy()</td>\n",
       "      <td>destroy</td>\n",
       "      <td>NaN</td>\n",
       "    </tr>\n",
       "    <tr>\n",
       "      <th>2</th>\n",
       "      <td>DEVICE</td>\n",
       "      <td>DEVICE</td>\n",
       "      <td>man</td>\n",
       "      <td>io_getevents()</td>\n",
       "      <td>read</td>\n",
       "      <td>NaN</td>\n",
       "    </tr>\n",
       "    <tr>\n",
       "      <th>3</th>\n",
       "      <td>DEVICE</td>\n",
       "      <td>DEVICE</td>\n",
       "      <td>man</td>\n",
       "      <td>io_setup()</td>\n",
       "      <td>create</td>\n",
       "      <td>NaN</td>\n",
       "    </tr>\n",
       "    <tr>\n",
       "      <th>4</th>\n",
       "      <td>DEVICE</td>\n",
       "      <td>DEVICE</td>\n",
       "      <td>man</td>\n",
       "      <td>io_submit()</td>\n",
       "      <td>submit</td>\n",
       "      <td>NaN</td>\n",
       "    </tr>\n",
       "  </tbody>\n",
       "</table>\n",
       "</div>"
      ],
      "text/plain": [
       "  EntityType ActionType Source         Syscall   EnVerb Sentence\n",
       "0     DEVICE     DEVICE    man     io_cancel()   cancel      NaN\n",
       "1     DEVICE     DEVICE    man    io_destroy()  destroy      NaN\n",
       "2     DEVICE     DEVICE    man  io_getevents()     read      NaN\n",
       "3     DEVICE     DEVICE    man      io_setup()   create      NaN\n",
       "4     DEVICE     DEVICE    man     io_submit()   submit      NaN"
      ]
     },
     "execution_count": 5,
     "metadata": {},
     "output_type": "execute_result"
    }
   ],
   "source": [
    "df =pd.read_csv('after_label.csv') \n",
    "rules_from_cti = rules[rules['Source'] != 'man']\n",
    "df = pd.concat([df, rules_from_cti])\n",
    "df = df.sort_values(by=['EntityType', 'ActionType', 'Syscall'])\n",
    "\n",
    "print('num of syscall', len(df['Syscall'].unique()),', num of verb',  len(df['EnVerb'].unique()))\n",
    "df.head()"
   ]
  },
  {
   "cell_type": "code",
   "execution_count": 6,
   "metadata": {},
   "outputs": [],
   "source": [
    "df.to_csv('rule_dataset_final.csv', index=False)"
   ]
  },
  {
   "attachments": {},
   "cell_type": "markdown",
   "metadata": {},
   "source": [
    "- Next step，需要人工刪除 from 手冊和 from CTI 重複的動詞\n",
    "- 例如說 nanosleep() 的 sleep 動詞在手冊跟 CTI 都有重複 => 刪除 CTI 的這行"
   ]
  },
  {
   "cell_type": "code",
   "execution_count": null,
   "metadata": {},
   "outputs": [],
   "source": []
  }
 ],
 "metadata": {
  "kernelspec": {
   "display_name": "py3_8",
   "language": "python",
   "name": "python3"
  },
  "language_info": {
   "codemirror_mode": {
    "name": "ipython",
    "version": 3
   },
   "file_extension": ".py",
   "mimetype": "text/x-python",
   "name": "python",
   "nbconvert_exporter": "python",
   "pygments_lexer": "ipython3",
   "version": "3.10.5"
  },
  "orig_nbformat": 4
 },
 "nbformat": 4,
 "nbformat_minor": 2
}
