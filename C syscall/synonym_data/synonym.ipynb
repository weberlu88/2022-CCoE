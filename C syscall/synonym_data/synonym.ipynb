{
 "cells": [
  {
   "attachments": {},
   "cell_type": "markdown",
   "metadata": {},
   "source": [
    "### 製作新的 Synonym_base \n",
    "- 以 `<動詞片語, 受詞>` pair 的方式儲存一組介紹，動詞片語盡量取 lemma (原型動詞) 如 \"copy a file\"。\n",
    "- 在手冊中每個 Syscall 的描述有 Name 區塊和 Description 區塊，每個 syscall 一定會有 Name 區塊來簡短的描述，如: `write - write to a file descriptor`。我們把 Name 區塊的 pair 稱作 `FirstLine` 欄位，理論上每個 syscall 都會有一個 `<動詞片語, 受詞>` pair 所以會有一行資料，若 First line 有兩個動詞 pair 則分開寫成兩行。\n",
    "- Description 區塊是很長且非結構化的詳細敘述，說明 syscall 的運作方式、有哪些功能參數以及如何呼叫。我們盡量找 >= 1 組與 `FirstLine` 相同意義的句子，也製作成 pair 放在 `Synonym` 欄位。一個 `FirstLine` 可以有 0 或多個 synonym pair，通通寫在同一行用`\"|\"`分隔`<>`。\n",
    "- 問題: pair 的受詞要多細膩? 回答:\n",
    "```\n",
    "check real user's permissions for a file => \"<check,user's permission>\"\n",
    "```"
   ]
  },
  {
   "attachments": {},
   "cell_type": "markdown",
   "metadata": {},
   "source": [
    "Load origin rule_dataset, convert to pair format"
   ]
  },
  {
   "cell_type": "code",
   "execution_count": 10,
   "metadata": {},
   "outputs": [
    {
     "data": {
      "text/html": [
       "<div>\n",
       "<style scoped>\n",
       "    .dataframe tbody tr th:only-of-type {\n",
       "        vertical-align: middle;\n",
       "    }\n",
       "\n",
       "    .dataframe tbody tr th {\n",
       "        vertical-align: top;\n",
       "    }\n",
       "\n",
       "    .dataframe thead th {\n",
       "        text-align: right;\n",
       "    }\n",
       "</style>\n",
       "<table border=\"1\" class=\"dataframe\">\n",
       "  <thead>\n",
       "    <tr style=\"text-align: right;\">\n",
       "      <th></th>\n",
       "      <th>EntityType</th>\n",
       "      <th>ActionType</th>\n",
       "      <th>Source</th>\n",
       "      <th>Syscall</th>\n",
       "      <th>EnVerb</th>\n",
       "      <th>Sentence</th>\n",
       "    </tr>\n",
       "  </thead>\n",
       "  <tbody>\n",
       "    <tr>\n",
       "      <th>0</th>\n",
       "      <td>DEVICE</td>\n",
       "      <td>DEVICE</td>\n",
       "      <td>man</td>\n",
       "      <td>io_cancel()</td>\n",
       "      <td>cancel</td>\n",
       "      <td>cancel an outstanding asynchronous I/O operation</td>\n",
       "    </tr>\n",
       "    <tr>\n",
       "      <th>1</th>\n",
       "      <td>DEVICE</td>\n",
       "      <td>DEVICE</td>\n",
       "      <td>man</td>\n",
       "      <td>io_destroy()</td>\n",
       "      <td>destroy</td>\n",
       "      <td>destroy an asynchronous I/O context</td>\n",
       "    </tr>\n",
       "    <tr>\n",
       "      <th>2</th>\n",
       "      <td>DEVICE</td>\n",
       "      <td>DEVICE</td>\n",
       "      <td>man</td>\n",
       "      <td>io_getevents()</td>\n",
       "      <td>read</td>\n",
       "      <td>read asynchronous I/O events from the completi...</td>\n",
       "    </tr>\n",
       "  </tbody>\n",
       "</table>\n",
       "</div>"
      ],
      "text/plain": [
       "  EntityType ActionType Source         Syscall   EnVerb  \\\n",
       "0     DEVICE     DEVICE    man     io_cancel()   cancel   \n",
       "1     DEVICE     DEVICE    man    io_destroy()  destroy   \n",
       "2     DEVICE     DEVICE    man  io_getevents()     read   \n",
       "\n",
       "                                            Sentence  \n",
       "0   cancel an outstanding asynchronous I/O operation  \n",
       "1                destroy an asynchronous I/O context  \n",
       "2  read asynchronous I/O events from the completi...  "
      ]
     },
     "execution_count": 10,
     "metadata": {},
     "output_type": "execute_result"
    }
   ],
   "source": [
    "import pandas as pd\n",
    "\n",
    "df = pd.read_csv('../rule_dataset_final.csv') # 354 Syscall\n",
    "# df = pd.read_csv('../rule_dataset.csv')       # 88  Syscall\n",
    "# df = pd.read_csv('../proc.csv')       # 88  Syscall\n",
    "\n",
    "def clean_braces(x):\n",
    "    x = x.replace(\"()\", \"\").replace(\",\", \"\").replace(\" \", \"\")\n",
    "    return str(x)\n",
    "def add_braces(x):\n",
    "    x = clean_braces(x)\n",
    "    x = x+\"()\"\n",
    "    return x\n",
    "\n",
    "df['Syscall'] = df['Syscall'].apply(add_braces) # or clean_braces\n",
    "df.head(3)\n"
   ]
  },
  {
   "cell_type": "code",
   "execution_count": 57,
   "metadata": {},
   "outputs": [],
   "source": [
    "def make_firstline(v:str, sentence:str, default=\"<,>\"):\n",
    "    spl = sentence.split()\n",
    "    for i,word in enumerate(spl):\n",
    "        if word.startswith(v):\n",
    "            object_phrase = \" \".join(spl[i+1:])\n",
    "            return f\"<{v},{object_phrase}>\"\n",
    "    return default"
   ]
  },
  {
   "cell_type": "code",
   "execution_count": 58,
   "metadata": {},
   "outputs": [
    {
     "data": {
      "text/html": [
       "<div>\n",
       "<style scoped>\n",
       "    .dataframe tbody tr th:only-of-type {\n",
       "        vertical-align: middle;\n",
       "    }\n",
       "\n",
       "    .dataframe tbody tr th {\n",
       "        vertical-align: top;\n",
       "    }\n",
       "\n",
       "    .dataframe thead th {\n",
       "        text-align: right;\n",
       "    }\n",
       "</style>\n",
       "<table border=\"1\" class=\"dataframe\">\n",
       "  <thead>\n",
       "    <tr style=\"text-align: right;\">\n",
       "      <th></th>\n",
       "      <th>Syscall</th>\n",
       "      <th>Sentence</th>\n",
       "      <th>FirstLine</th>\n",
       "      <th>Synonym</th>\n",
       "      <th>SynonymSentence</th>\n",
       "    </tr>\n",
       "  </thead>\n",
       "  <tbody>\n",
       "    <tr>\n",
       "      <th>0</th>\n",
       "      <td>idle()</td>\n",
       "      <td>make process 0 idle</td>\n",
       "      <td>&lt;make,process 0 idle&gt;</td>\n",
       "      <td>&lt;,&gt;</td>\n",
       "      <td></td>\n",
       "    </tr>\n",
       "    <tr>\n",
       "      <th>1</th>\n",
       "      <td>move_pages()</td>\n",
       "      <td>move individual pages of a process to another ...</td>\n",
       "      <td>&lt;move,individual pages of a process to another...</td>\n",
       "      <td>&lt;,&gt;</td>\n",
       "      <td></td>\n",
       "    </tr>\n",
       "    <tr>\n",
       "      <th>2</th>\n",
       "      <td>timer_gettime()</td>\n",
       "      <td>arm/disarm and fetch state of POSIX per</td>\n",
       "      <td>&lt;fetch,state of POSIX per&gt;</td>\n",
       "      <td>&lt;,&gt;</td>\n",
       "      <td></td>\n",
       "    </tr>\n",
       "    <tr>\n",
       "      <th>3</th>\n",
       "      <td>timer_delete()</td>\n",
       "      <td>delete a POSIX per</td>\n",
       "      <td>&lt;delete,a POSIX per&gt;</td>\n",
       "      <td>&lt;,&gt;</td>\n",
       "      <td></td>\n",
       "    </tr>\n",
       "    <tr>\n",
       "      <th>4</th>\n",
       "      <td>execveat()</td>\n",
       "      <td>execute program relative to a directory file d...</td>\n",
       "      <td>&lt;execute,program relative to a directory file ...</td>\n",
       "      <td>&lt;,&gt;</td>\n",
       "      <td></td>\n",
       "    </tr>\n",
       "    <tr>\n",
       "      <th>...</th>\n",
       "      <td>...</td>\n",
       "      <td>...</td>\n",
       "      <td>...</td>\n",
       "      <td>...</td>\n",
       "      <td>...</td>\n",
       "    </tr>\n",
       "    <tr>\n",
       "      <th>74</th>\n",
       "      <td>ioprio_set()</td>\n",
       "      <td>get/set I/O scheduling class and priority</td>\n",
       "      <td>&lt;,&gt;</td>\n",
       "      <td>&lt;,&gt;</td>\n",
       "      <td></td>\n",
       "    </tr>\n",
       "    <tr>\n",
       "      <th>75</th>\n",
       "      <td>sched_getattr()</td>\n",
       "      <td>set and get scheduling policy and attributes</td>\n",
       "      <td>&lt;get,scheduling policy and attributes&gt;</td>\n",
       "      <td>&lt;,&gt;</td>\n",
       "      <td></td>\n",
       "    </tr>\n",
       "    <tr>\n",
       "      <th>76</th>\n",
       "      <td>get_robust_list()</td>\n",
       "      <td>get/set list of robust futexes</td>\n",
       "      <td>&lt;get,list of robust futexes&gt;</td>\n",
       "      <td>&lt;,&gt;</td>\n",
       "      <td></td>\n",
       "    </tr>\n",
       "    <tr>\n",
       "      <th>77</th>\n",
       "      <td>getitimer()</td>\n",
       "      <td>get or set value of an interval timer</td>\n",
       "      <td>&lt;get,or set value of an interval timer&gt;</td>\n",
       "      <td>&lt;,&gt;</td>\n",
       "      <td></td>\n",
       "    </tr>\n",
       "    <tr>\n",
       "      <th>78</th>\n",
       "      <td>sched_setscheduler()</td>\n",
       "      <td>set and get scheduling policy/parameters</td>\n",
       "      <td>&lt;set,and get scheduling policy/parameters&gt;</td>\n",
       "      <td>&lt;,&gt;</td>\n",
       "      <td></td>\n",
       "    </tr>\n",
       "  </tbody>\n",
       "</table>\n",
       "<p>79 rows × 5 columns</p>\n",
       "</div>"
      ],
      "text/plain": [
       "                 Syscall                                           Sentence  \\\n",
       "0                 idle()                                make process 0 idle   \n",
       "1           move_pages()  move individual pages of a process to another ...   \n",
       "2        timer_gettime()            arm/disarm and fetch state of POSIX per   \n",
       "3         timer_delete()                                 delete a POSIX per   \n",
       "4             execveat()  execute program relative to a directory file d...   \n",
       "..                   ...                                                ...   \n",
       "74          ioprio_set()          get/set I/O scheduling class and priority   \n",
       "75       sched_getattr()       set and get scheduling policy and attributes   \n",
       "76     get_robust_list()                     get/set list of robust futexes   \n",
       "77           getitimer()              get or set value of an interval timer   \n",
       "78  sched_setscheduler()           set and get scheduling policy/parameters   \n",
       "\n",
       "                                            FirstLine Synonym SynonymSentence  \n",
       "0                               <make,process 0 idle>     <,>                  \n",
       "1   <move,individual pages of a process to another...     <,>                  \n",
       "2                          <fetch,state of POSIX per>     <,>                  \n",
       "3                                <delete,a POSIX per>     <,>                  \n",
       "4   <execute,program relative to a directory file ...     <,>                  \n",
       "..                                                ...     ...             ...  \n",
       "74                                                <,>     <,>                  \n",
       "75             <get,scheduling policy and attributes>     <,>                  \n",
       "76                       <get,list of robust futexes>     <,>                  \n",
       "77            <get,or set value of an interval timer>     <,>                  \n",
       "78         <set,and get scheduling policy/parameters>     <,>                  \n",
       "\n",
       "[79 rows x 5 columns]"
      ]
     },
     "execution_count": 58,
     "metadata": {},
     "output_type": "execute_result"
    }
   ],
   "source": [
    "# New columns: FirstLine Synonym\n",
    "# Better to remain columns: (EntityType ActionType) Syscall\n",
    "\n",
    "# syscall_88 = df['Syscall'].unique()\n",
    "# df = df[df['Source'] == 'man']\n",
    "df['FirstLine'] = df.apply(lambda r: make_firstline(r['EnVerb'],r['Sentence']), axis=1)\n",
    "df['Synonym']   = \"<,>\"\n",
    "df['SynonymSentence']   = \"\"\n",
    "df = df[['Syscall', 'Sentence', 'FirstLine', 'Synonym', 'SynonymSentence']]\n",
    "df.to_csv('proc.csv', index=False)\n",
    "df"
   ]
  },
  {
   "cell_type": "code",
   "execution_count": null,
   "metadata": {},
   "outputs": [],
   "source": [
    "'''\n",
    "Syscall,Sentence,FirstLine,Synonym\n",
    "read(),read from a file descriptor,\"<read, file descriptor>\",\"<>\"\n",
    "readlink(),read value of a symbolic link,\"<read, value of a symbolic link>\",\"<place, the contents of the symbolic link path>\"\n",
    "'''"
   ]
  },
  {
   "attachments": {},
   "cell_type": "markdown",
   "metadata": {},
   "source": [
    "### 統計資料\n",
    "- numOf: syscall 395, firstline verb (in name), sysnonym verb (in description)\n",
    "- unimplemented: 18 (396+18=414), \n",
    "- 做統計時，不要提到這兩個 call，因為不在 strace github 中，但我們的 ASG 有使用到 ['rm()', 'exec()']"
   ]
  },
  {
   "cell_type": "code",
   "execution_count": 94,
   "metadata": {},
   "outputs": [
    {
     "name": "stdout",
     "output_type": "stream",
     "text": [
      "dataset len 426\n"
     ]
    },
    {
     "data": {
      "text/html": [
       "<div>\n",
       "<style scoped>\n",
       "    .dataframe tbody tr th:only-of-type {\n",
       "        vertical-align: middle;\n",
       "    }\n",
       "\n",
       "    .dataframe tbody tr th {\n",
       "        vertical-align: top;\n",
       "    }\n",
       "\n",
       "    .dataframe thead th {\n",
       "        text-align: right;\n",
       "    }\n",
       "</style>\n",
       "<table border=\"1\" class=\"dataframe\">\n",
       "  <thead>\n",
       "    <tr style=\"text-align: right;\">\n",
       "      <th></th>\n",
       "      <th>Syscall</th>\n",
       "      <th>Sentence</th>\n",
       "      <th>FirstLine</th>\n",
       "      <th>Synonym</th>\n",
       "      <th>SynonymSentence</th>\n",
       "    </tr>\n",
       "  </thead>\n",
       "  <tbody>\n",
       "    <tr>\n",
       "      <th>0</th>\n",
       "      <td>shutdown()</td>\n",
       "      <td>shut down part of a full-duplex connection</td>\n",
       "      <td>&lt;shut down,part of a full-duplex connection&gt;</td>\n",
       "      <td>&lt;,&gt;</td>\n",
       "      <td>NaN</td>\n",
       "    </tr>\n",
       "    <tr>\n",
       "      <th>1</th>\n",
       "      <td>recvmmsg()</td>\n",
       "      <td>receive multiple messages on a socket</td>\n",
       "      <td>&lt;receive,multiple messages&gt;</td>\n",
       "      <td>&lt;,&gt;</td>\n",
       "      <td>NaN</td>\n",
       "    </tr>\n",
       "    <tr>\n",
       "      <th>2</th>\n",
       "      <td>sendmmsg()</td>\n",
       "      <td>send multiple messages on a socket</td>\n",
       "      <td>&lt;send,multiple messages&gt;</td>\n",
       "      <td>&lt;transmit,multiple messages&gt;</td>\n",
       "      <td>transmit multiple messages on a socket using a...</td>\n",
       "    </tr>\n",
       "    <tr>\n",
       "      <th>3</th>\n",
       "      <td>pipe2()</td>\n",
       "      <td>create pipe</td>\n",
       "      <td>&lt;create,pipe&gt;</td>\n",
       "      <td>&lt;,&gt;</td>\n",
       "      <td>NaN</td>\n",
       "    </tr>\n",
       "    <tr>\n",
       "      <th>4</th>\n",
       "      <td>mq_unlink()</td>\n",
       "      <td>remove a message queue</td>\n",
       "      <td>&lt;remove,a message queue&gt;</td>\n",
       "      <td>&lt;,&gt;</td>\n",
       "      <td>NaN</td>\n",
       "    </tr>\n",
       "  </tbody>\n",
       "</table>\n",
       "</div>"
      ],
      "text/plain": [
       "       Syscall                                    Sentence  \\\n",
       "0   shutdown()  shut down part of a full-duplex connection   \n",
       "1   recvmmsg()       receive multiple messages on a socket   \n",
       "2   sendmmsg()          send multiple messages on a socket   \n",
       "3      pipe2()                                 create pipe   \n",
       "4  mq_unlink()                      remove a message queue   \n",
       "\n",
       "                                      FirstLine                       Synonym  \\\n",
       "0  <shut down,part of a full-duplex connection>                           <,>   \n",
       "1                   <receive,multiple messages>                           <,>   \n",
       "2                      <send,multiple messages>  <transmit,multiple messages>   \n",
       "3                                 <create,pipe>                           <,>   \n",
       "4                      <remove,a message queue>                           <,>   \n",
       "\n",
       "                                     SynonymSentence  \n",
       "0                                                NaN  \n",
       "1                                                NaN  \n",
       "2  transmit multiple messages on a socket using a...  \n",
       "3                                                NaN  \n",
       "4                                                NaN  "
      ]
     },
     "execution_count": 94,
     "metadata": {},
     "output_type": "execute_result"
    }
   ],
   "source": [
    "import pandas as pd\n",
    "dataset = pd.read_csv('./synonym_dataset.csv')\n",
    "dataset = dataset[~dataset['Syscall'].isin(['rm()', 'exec()'])]\n",
    "print('dataset len', len(dataset))\n",
    "dataset.head()"
   ]
  },
  {
   "cell_type": "code",
   "execution_count": 95,
   "metadata": {},
   "outputs": [
    {
     "data": {
      "text/plain": [
       "395"
      ]
     },
     "execution_count": 95,
     "metadata": {},
     "output_type": "execute_result"
    }
   ],
   "source": [
    "uq = dataset['Syscall'].unique()\n",
    "len(dataset['Syscall'].unique())"
   ]
  },
  {
   "cell_type": "code",
   "execution_count": 96,
   "metadata": {},
   "outputs": [
    {
     "name": "stdout",
     "output_type": "stream",
     "text": [
      "unimplemented: 18\n"
     ]
    },
    {
     "data": {
      "text/plain": [
       "['afs_syscall()',\n",
       " 'break()',\n",
       " 'fattach()',\n",
       " 'fdetach()',\n",
       " 'getmsg()',\n",
       " 'getpmsg()',\n",
       " 'gtty()',\n",
       " 'isastream()',\n",
       " 'lock()',\n",
       " 'madvise1()',\n",
       " 'mpx()',\n",
       " 'prof()',\n",
       " 'putmsg()',\n",
       " 'putpmsg()',\n",
       " 'security()',\n",
       " 'stty()',\n",
       " 'tuxcall()',\n",
       " 'vserver()']"
      ]
     },
     "execution_count": 96,
     "metadata": {},
     "output_type": "execute_result"
    }
   ],
   "source": [
    "# https://man7.org/linux/man-pages/man2/unimplemented.2.html \n",
    "unimplemented = '''afs_syscall, break, fattach, fdetach, ftime, getmsg, getpmsg,\n",
    "       gtty, isastream, lock, madvise1, mpx, prof, profil, putmsg,\n",
    "       putpmsg, security, stty, tuxcall, ulimit, vserver'''\n",
    "unimplemented = unimplemented.split(',')\n",
    "unimplemented = [f\"{u.strip()}()\" for u in unimplemented]\n",
    "unimplemented = [u for u in unimplemented if u not in uq]\n",
    "print('unimplemented:', len(unimplemented))\n",
    "unimplemented"
   ]
  },
  {
   "cell_type": "code",
   "execution_count": 97,
   "metadata": {},
   "outputs": [
    {
     "name": "stdout",
     "output_type": "stream",
     "text": [
      "num: 13, syscalls are: ['ipc()', 'pciconfig_read()', 'pciconfig_write()', 'pciconfig_iobase()', 'timerfd_create()', 'clock_settime()', 'clock_gettime()', 'semtimedop()', 'clock_getres()', 'syscall()', 'socketcall()', 'nfsservctl()', 'msgctl()']\n"
     ]
    },
    {
     "data": {
      "text/html": [
       "<div>\n",
       "<style scoped>\n",
       "    .dataframe tbody tr th:only-of-type {\n",
       "        vertical-align: middle;\n",
       "    }\n",
       "\n",
       "    .dataframe tbody tr th {\n",
       "        vertical-align: top;\n",
       "    }\n",
       "\n",
       "    .dataframe thead th {\n",
       "        text-align: right;\n",
       "    }\n",
       "</style>\n",
       "<table border=\"1\" class=\"dataframe\">\n",
       "  <thead>\n",
       "    <tr style=\"text-align: right;\">\n",
       "      <th></th>\n",
       "      <th>Syscall</th>\n",
       "      <th>Sentence</th>\n",
       "      <th>FirstLine</th>\n",
       "      <th>Synonym</th>\n",
       "      <th>SynonymSentence</th>\n",
       "    </tr>\n",
       "  </thead>\n",
       "  <tbody>\n",
       "    <tr>\n",
       "      <th>54</th>\n",
       "      <td>ipc()</td>\n",
       "      <td>System V IPC system calls</td>\n",
       "      <td>&lt;,&gt;</td>\n",
       "      <td>&lt;,&gt;</td>\n",
       "      <td>NaN</td>\n",
       "    </tr>\n",
       "    <tr>\n",
       "      <th>82</th>\n",
       "      <td>pciconfig_read()</td>\n",
       "      <td>pci device information handling</td>\n",
       "      <td>&lt;,&gt;</td>\n",
       "      <td>&lt;read,to buf&gt;</td>\n",
       "      <td>Reads to buf from device dev at offset off value.</td>\n",
       "    </tr>\n",
       "    <tr>\n",
       "      <th>83</th>\n",
       "      <td>pciconfig_write()</td>\n",
       "      <td>pci device information handling</td>\n",
       "      <td>&lt;,&gt;</td>\n",
       "      <td>&lt;write,from buf&gt;</td>\n",
       "      <td>Writes from buf to device dev at offset off va...</td>\n",
       "    </tr>\n",
       "    <tr>\n",
       "      <th>84</th>\n",
       "      <td>pciconfig_iobase()</td>\n",
       "      <td>pci device information handling</td>\n",
       "      <td>&lt;,&gt;</td>\n",
       "      <td>&lt;,&gt;</td>\n",
       "      <td>NaN</td>\n",
       "    </tr>\n",
       "    <tr>\n",
       "      <th>210</th>\n",
       "      <td>timerfd_create()</td>\n",
       "      <td>timers that notify via file descriptors</td>\n",
       "      <td>&lt;,&gt;</td>\n",
       "      <td>&lt;create,a new timer object&gt;</td>\n",
       "      <td>timerfd_create() creates a new timer object</td>\n",
       "    </tr>\n",
       "    <tr>\n",
       "      <th>295</th>\n",
       "      <td>clock_settime()</td>\n",
       "      <td>clock and time functions</td>\n",
       "      <td>&lt;,&gt;</td>\n",
       "      <td>&lt;retrieve,time&gt;</td>\n",
       "      <td>retrieve and set the time of the specified clo...</td>\n",
       "    </tr>\n",
       "    <tr>\n",
       "      <th>296</th>\n",
       "      <td>clock_gettime()</td>\n",
       "      <td>clock and time functions</td>\n",
       "      <td>&lt;,&gt;</td>\n",
       "      <td>&lt;set,time&gt;</td>\n",
       "      <td>retrieve and set the time of the specified clo...</td>\n",
       "    </tr>\n",
       "    <tr>\n",
       "      <th>314</th>\n",
       "      <td>semtimedop()</td>\n",
       "      <td>clock and time functions</td>\n",
       "      <td>&lt;,&gt;</td>\n",
       "      <td>&lt;,&gt;</td>\n",
       "      <td>NaN</td>\n",
       "    </tr>\n",
       "    <tr>\n",
       "      <th>317</th>\n",
       "      <td>clock_getres()</td>\n",
       "      <td>clock and time functions</td>\n",
       "      <td>&lt;,&gt;</td>\n",
       "      <td>&lt;,&gt;</td>\n",
       "      <td>NaN</td>\n",
       "    </tr>\n",
       "    <tr>\n",
       "      <th>320</th>\n",
       "      <td>syscall()</td>\n",
       "      <td>indirect system call</td>\n",
       "      <td>&lt;,&gt;</td>\n",
       "      <td>&lt;,&gt;</td>\n",
       "      <td>NaN</td>\n",
       "    </tr>\n",
       "    <tr>\n",
       "      <th>321</th>\n",
       "      <td>socketcall()</td>\n",
       "      <td>socket system calls</td>\n",
       "      <td>&lt;,&gt;</td>\n",
       "      <td>&lt;,&gt;</td>\n",
       "      <td>NaN</td>\n",
       "    </tr>\n",
       "    <tr>\n",
       "      <th>326</th>\n",
       "      <td>nfsservctl()</td>\n",
       "      <td>syscall interface to kernel nfs daemon</td>\n",
       "      <td>&lt;,&gt;</td>\n",
       "      <td>&lt;,&gt;</td>\n",
       "      <td>NaN</td>\n",
       "    </tr>\n",
       "    <tr>\n",
       "      <th>327</th>\n",
       "      <td>msgctl()</td>\n",
       "      <td>System V message control operations</td>\n",
       "      <td>&lt;,&gt;</td>\n",
       "      <td>&lt;control,operation&gt;</td>\n",
       "      <td>control operation specified by cmd</td>\n",
       "    </tr>\n",
       "  </tbody>\n",
       "</table>\n",
       "</div>"
      ],
      "text/plain": [
       "                Syscall                                 Sentence FirstLine  \\\n",
       "54                ipc()                System V IPC system calls       <,>   \n",
       "82     pciconfig_read()          pci device information handling       <,>   \n",
       "83    pciconfig_write()          pci device information handling       <,>   \n",
       "84   pciconfig_iobase()          pci device information handling       <,>   \n",
       "210    timerfd_create()  timers that notify via file descriptors       <,>   \n",
       "295     clock_settime()                 clock and time functions       <,>   \n",
       "296     clock_gettime()                 clock and time functions       <,>   \n",
       "314        semtimedop()                 clock and time functions       <,>   \n",
       "317      clock_getres()                 clock and time functions       <,>   \n",
       "320           syscall()                     indirect system call       <,>   \n",
       "321        socketcall()                      socket system calls       <,>   \n",
       "326        nfsservctl()   syscall interface to kernel nfs daemon       <,>   \n",
       "327            msgctl()      System V message control operations       <,>   \n",
       "\n",
       "                         Synonym  \\\n",
       "54                           <,>   \n",
       "82                 <read,to buf>   \n",
       "83              <write,from buf>   \n",
       "84                           <,>   \n",
       "210  <create,a new timer object>   \n",
       "295              <retrieve,time>   \n",
       "296                   <set,time>   \n",
       "314                          <,>   \n",
       "317                          <,>   \n",
       "320                          <,>   \n",
       "321                          <,>   \n",
       "326                          <,>   \n",
       "327          <control,operation>   \n",
       "\n",
       "                                       SynonymSentence  \n",
       "54                                                 NaN  \n",
       "82   Reads to buf from device dev at offset off value.  \n",
       "83   Writes from buf to device dev at offset off va...  \n",
       "84                                                 NaN  \n",
       "210        timerfd_create() creates a new timer object  \n",
       "295  retrieve and set the time of the specified clo...  \n",
       "296  retrieve and set the time of the specified clo...  \n",
       "314                                                NaN  \n",
       "317                                                NaN  \n",
       "320                                                NaN  \n",
       "321                                                NaN  \n",
       "326                                                NaN  \n",
       "327                 control operation specified by cmd  "
      ]
     },
     "execution_count": 97,
     "metadata": {},
     "output_type": "execute_result"
    }
   ],
   "source": [
    "# 缺少 FirstLine 的 syscall: 13 個\n",
    "no_fl = dataset[dataset['FirstLine'] == \"<,>\"]\n",
    "print(f\"num: {len(no_fl)}, syscalls are: {list(no_fl['Syscall'])}\")\n",
    "no_fl\n"
   ]
  },
  {
   "cell_type": "code",
   "execution_count": 98,
   "metadata": {},
   "outputs": [
    {
     "name": "stdout",
     "output_type": "stream",
     "text": [
      "num: 7, syscalls are: ['ipc()', 'pciconfig_iobase()', 'semtimedop()', 'clock_getres()', 'syscall()', 'socketcall()', 'nfsservctl()']\n"
     ]
    }
   ],
   "source": [
    "# 缺少 FirstLine & Synonym 的 syscall: 7 個\n",
    "no_fl_syn = dataset[(dataset['FirstLine'] == \"<,>\") & (dataset['Synonym'] == \"<,>\")]\n",
    "print(f\"num: {len(no_fl_syn)}, syscalls are: {list(no_fl_syn['Syscall'])}\")"
   ]
  },
  {
   "cell_type": "code",
   "execution_count": 99,
   "metadata": {},
   "outputs": [
    {
     "name": "stdout",
     "output_type": "stream",
     "text": [
      "num: 297, syscalls are: ['shutdown()', 'recvmmsg()', 'pipe2()', 'mq_unlink()', 'socketpair()', 'mq_timedsend()', 'mq_timedreceive()', 'getpeername()', 'listen()', 'oldolduname()', 'olduname()', 'madvise()', 'sched_get_priority_max()', 'kexec_load()', 'setuid()', 'geteuid32()', 'ustat()', 'keyctl()', 'setreuid32()', 'times()', 'get_kernel_syms()', '_sysctl()', '_sysctl()', 'getpgid()', 'getegid32()', 'getuid32()', 'setpgid()', 'gettid()', 'stime()', 'setregid()', 'setgid32()', 'getsid()', 'shmctl()', 'getrusage()', 'setreuid()', 'sched_get_priority_min()', 'setregid32()', 'setgid()', 'setuid32()', 'getgid32()', 'ipc()', 'getgroups()', 'setfsuid32()', 'setresuid32()', 'getresgid32()', 'setgroups()', 'setresuid()', 'setfsgid32()', 'getgroups32()', 'setfsuid()', 'setresgid()', 'setrlimit()', 'getresgid()', 'getpriority()', 'setfsgid()', 'setpriority()', 'setgroups32()', 'getresuid()', 'syslog()', 'syslog()', 'syslog()', 'setresgid32()', 'getresuid32()', 'io_cancel()', 'iopl()', 'pciconfig_iobase()', 'io_destroy()', 'io_getevents()', 'io_setup()', 'swapoff()', 'io_submit()', 'move_pages()', 'timer_gettime()', 'timer_delete()', 'execveat()', 'pkey_alloc()', 'personality()', 'unshare()', 'process_vm_readv()', 'mlock()', 'restart_syscall()', 'setns()', 'mlock2()', 'mbind()', 'munlockall()', 'rt_sigreturn()', 'pkey_free()', 'set_mempolicy()', 'migrate_pages()', 'sigreturn()', 'munlock()', 'tkill()', 'process_vm_writev()', 'timer_getoverrun()', 'rt_sigsuspend()', 'bdflush()', 'bdflush()', 'bdflush()', 'bpf()', 'exit()', 'timer_settime()', 'timer_settime()', 'create_module()', 'timer_create()', 'vm86()', 'tgkill()', 'pause()', 'seccomp()', 'uselib()', 'get_mempolicy()', 'sched_setparam()', 'capset()', 'rt_sigtimedwait()', 'rt_sigaction()', 'rt_sigaction()', 'capget()', 'sched_setaffinity()', 'rt_sigprocmask()', 'sigpending()', 'sigprocmask()', 'waitid()', 'mincore()', 'rt_sigpending()', 'sched_setattr()', 'ioprio_get()', 'sigaction()', 'sigaction()', 'setitimer()', 'sched_getscheduler()', 'ioprio_set()', 'get_robust_list()', 'sched_setscheduler()', '_llseek()', 'fgetxattr()', 'readdir()', 'timerfd_gettime()', 'copy_file_range()', 'chown32()', 'setxattr()', 'sysfs()', 'truncate()', 'fremovexattr()', 'utimensat()', 'chroot()', 'fstatfs()', 'lchown32()', 'utime()', 'inotify_init1()', 'creat()', 'memfd_create()', 'lchown()', 'lremovexattr()', 'truncate64()', 'pivot_root()', 'futimesat()', 'epoll_wait()', 'epoll_pwait()', 'statfs64()', 'lookup_dcookie()', 'faccessat()', 'lgetxattr()', 'eventfd()', 'inotify_init()', 'sync_file_range()', 'chown()', 'mkdirat()', 'fstatfs64()', 'ftruncate64()', 'readahead()', 'remap_file_pages()', 'lsetxattr()', 'ftruncate()', 'removexattr()', 'fchown32()', 'getxattr()', 'sync_file_range2()', 'fchown()', 'eventfd2()', 'fsetxattr()', 'utimes()', 'msync()', 'fchownat()', 'pwritev()', 'inotify_rm_watch()', 'statx()', 'readv()', 'name_to_handle_at()', 'name_to_handle_at()', 'pwritev2()', 'flock()', 'flock()', 'preadv2()', 'pread64()', 'preadv()', 'signalfd()', 'open_by_handle_at()', 'writev()', 'sync()', 'fanotify_mark()', 'fanotify_mark()', 'fanotify_mark()', 'fdatasync()', 'signalfd4()', 'pwrite64()', 'fsync()', 'fanotify_init()', 'fanotify_init()', 'syncfs()', 'sgetmask()', 'nice()', 'fallocate()', 'lchmod()', 'ftime()', 'ulimit()', 'ulimit()', 'reboot()', 'reboot()', 'reboot()', 'semtimedop()', 'adjtimex()', 'clock_adjtime()', 'clock_getres()', 'membarrier()', 'prctl()', 'syscall()', 'socketcall()', 'signal()', 'cacheflush()', 'vmsplice()', 'nfsservctl()', 'semctl()', 'statfs()', 'getcwd()', 'getdents()', 'mkdir()', 'open()', 'open()', 'openat()', 'mmap2()', 'umask()', 'linkat()', 'symlinkat()', 'fchdir()', 'chdir()', 'write()', 'fchmod()', 'chmod()', 'lchmod()', 'rmdir()', 'munmap()', 'unlink()', 'unlinkat()', 'remove()', 'lseek()', 'execve()', 'clone()', 'fork()', 'vfork()', 'vfork()', 'kill()', 'exit_group()', 'shmdt()', 'shmat()', 'shmget()', 'waitpid()', 'wait4()', 'mprotect()', 'set_tid_address()', 'arch_prctl()', 'set_thread_area()', 'set_robust_list()', 'setsid()', 'setsid()', 'getppid()', 'getpid()', 'getgid()', 'getegid()', 'geteuid()', 'getuid()', 'settimeofday()', 'time()', 'gettimeofday()', 'prlimit64()', 'getrlimit()', 'ugetrlimit()', 'sysinfo()', 'uname()', 'pipe()', 'socket()', 'getsockname()', 'recv()', 'recvmsg()', 'recvfrom()', 'send()', 'sendto()', 'sendmsg()', 'quotactl()']\n"
     ]
    }
   ],
   "source": [
    "# 缺少 Synonym 的 syscall: 298 個\n",
    "no_syn = dataset[(dataset['Synonym'] == \"<,>\")]\n",
    "print(f\"num: {len(no_syn)}, syscalls are: {list(no_syn['Syscall'])}\")"
   ]
  },
  {
   "cell_type": "markdown",
   "metadata": {},
   "source": [
    "#### 計算 Synonym 數量"
   ]
  },
  {
   "cell_type": "code",
   "execution_count": 100,
   "metadata": {},
   "outputs": [],
   "source": [
    "# 只有一個 Synonym 的 syscall: 115 個\n",
    "def count_pairs(x):\n",
    "    numOfSplit = len(x.split('|'))\n",
    "    if numOfSplit == 1 and (x == '' or x == '<,>'):\n",
    "        return 0\n",
    "    return numOfSplit\n",
    "\n",
    "dataset['numOfSynonym'] = dataset['Synonym'].apply(count_pairs)\n",
    "dataset['numOfFirstLine'] = dataset['FirstLine'].apply(count_pairs)"
   ]
  },
  {
   "cell_type": "code",
   "execution_count": 111,
   "metadata": {},
   "outputs": [
    {
     "name": "stdout",
     "output_type": "stream",
     "text": [
      "0    297\n",
      "1    111\n",
      "2     10\n",
      "3      6\n",
      "4      2\n",
      "Name: numOfSynonym, dtype: int64\n",
      "FirstLine >3 : ['add_key()', 'ptrace()']\n",
      "FirstLine =3 : ['idle()', 'epoll_ctl()', 'dup()', 'dup2()', 'fcntl()', 'fcntl64()']\n",
      "FirstLine =2 : ['request_key()', 'semget()', 'msgget()', 'sigsuspend()', 'renameat2()', 'renameat()', 'readlink()', 'poll()', 'ppoll()', 'futex()']\n",
      "FirstLine =1 : ['sendmmsg()', 'mq_open()', 'accept4()', 'accept()', 'mq_getsetattr()', 'mq_getsetattr()', 'mq_notify()']\n"
     ]
    }
   ],
   "source": [
    "syn_vcnt = dataset['numOfSynonym'].value_counts()\n",
    "print(syn_vcnt)\n",
    "print('FirstLine >3 :', list(dataset[dataset['numOfSynonym'] == 4]['Syscall']))\n",
    "print('FirstLine =3 :', list(dataset[dataset['numOfSynonym'] == 3]['Syscall']))\n",
    "print('FirstLine =2 :', list(dataset[dataset['numOfSynonym'] == 2]['Syscall']))\n",
    "print('FirstLine =1 :', list(dataset[dataset['numOfSynonym'] == 1]['Syscall'])[:7])"
   ]
  },
  {
   "cell_type": "code",
   "execution_count": 102,
   "metadata": {},
   "outputs": [
    {
     "data": {
      "text/plain": [
       "1    413\n",
       "0     13\n",
       "Name: numOfFirstLine, dtype: int64"
      ]
     },
     "execution_count": 102,
     "metadata": {},
     "output_type": "execute_result"
    }
   ],
   "source": [
    "# No 其他意義，表示 13 個 syscall 的 Name 欄位沒有動詞\n",
    "dataset['numOfFirstLine'].value_counts()"
   ]
  },
  {
   "attachments": {},
   "cell_type": "markdown",
   "metadata": {},
   "source": [
    "#### 計算 FirstLine 數量"
   ]
  },
  {
   "cell_type": "code",
   "execution_count": 103,
   "metadata": {},
   "outputs": [
    {
     "name": "stdout",
     "output_type": "stream",
     "text": [
      "FirstLine >3 : 0\n",
      "FirstLine =3 : 4\n",
      "FirstLine =2 : 23\n",
      "FirstLine =1 : 368\n",
      "FirstLine >3 : []\n",
      "FirstLine =3 : ['fanotify_mark()', 'syslog()', 'reboot()', 'bdflush()']\n",
      "FirstLine =2 : ['open_by_handle_at()', 'open()', 'setsid()', 'mmap()', 'acct()', '_sysctl()', 'timerfd_settime()', 'rt_sigaction()', 'name_to_handle_at()', 'tee()', 'flock()', 'modify_ldt()', 'rt_sigprocmask()', 'timer_settime()', 'sigprocmask()', 'sigaction()', 'ulimit()', 'remove()', 'lchmod()', 'sigaltstack()', 'fanotify_init()', 'mq_getsetattr()', 'vfork()']\n"
     ]
    }
   ],
   "source": [
    "syscall_vcnt = dataset['Syscall'].value_counts()\n",
    "# syscall_vcnt[syscall_vcnt > 1]\n",
    "print('FirstLine >3 :', len(syscall_vcnt[syscall_vcnt > 3]))\n",
    "print('FirstLine =3 :', len(syscall_vcnt[syscall_vcnt == 3]))\n",
    "print('FirstLine =2 :', len(syscall_vcnt[syscall_vcnt == 2]))\n",
    "print('FirstLine =1 :', len(syscall_vcnt[syscall_vcnt == 1]))\n",
    "\n",
    "print('FirstLine >3 :', list(syscall_vcnt[syscall_vcnt > 3].index))\n",
    "print('FirstLine =3 :', list(syscall_vcnt[syscall_vcnt == 3].index))\n",
    "print('FirstLine =2 :', list(syscall_vcnt[syscall_vcnt == 2].index))"
   ]
  },
  {
   "cell_type": "code",
   "execution_count": null,
   "metadata": {},
   "outputs": [],
   "source": []
  },
  {
   "cell_type": "markdown",
   "metadata": {},
   "source": []
  }
 ],
 "metadata": {
  "kernelspec": {
   "display_name": "py3_8",
   "language": "python",
   "name": "python3"
  },
  "language_info": {
   "codemirror_mode": {
    "name": "ipython",
    "version": 3
   },
   "file_extension": ".py",
   "mimetype": "text/x-python",
   "name": "python",
   "nbconvert_exporter": "python",
   "pygments_lexer": "ipython3",
   "version": "3.10.5"
  },
  "orig_nbformat": 4,
  "vscode": {
   "interpreter": {
    "hash": "593d77fc80f492a69d777c8391608d31cfb20b60cd0c0ea90f6821e584cab7a6"
   }
  }
 },
 "nbformat": 4,
 "nbformat_minor": 2
}
