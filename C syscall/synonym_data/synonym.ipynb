{
 "cells": [
  {
   "attachments": {},
   "cell_type": "markdown",
   "metadata": {},
   "source": [
    "### 製作新的 Synonym_base \n",
    "- 以 `<動詞片語, 受詞>` pair 的方式儲存一組介紹，動詞片語盡量取 lemma (原型動詞) 如 \"copy a file\"。\n",
    "- 在手冊中每個 Syscall 的描述有 Name 區塊和 Description 區塊，每個 syscall 一定會有 Name 區塊來簡短的描述，如: `write - write to a file descriptor`。我們把 Name 區塊的 pair 稱作 `FirstLine` 欄位，理論上每個 syscall 都會有一個 `<動詞片語, 受詞>` pair 所以會有一行資料，若 First line 有兩個動詞 pair 則分開寫成兩行。\n",
    "- Description 區塊是很長且非結構化的詳細敘述，說明 syscall 的運作方式、有哪些功能參數以及如何呼叫。我們盡量找 >= 1 組與 `FirstLine` 相同意義的句子，也製作成 pair 放在 `Synonym` 欄位。一個 `FirstLine` 可以有 0 或多個 synonym pair，通通寫在同一行用`\"|\"`分隔`<>`。\n",
    "- 問題: pair 的受詞要多細膩? 回答:\n",
    "```\n",
    "check real user's permissions for a file => \"<check,user's permission>\"\n",
    "```"
   ]
  },
  {
   "attachments": {},
   "cell_type": "markdown",
   "metadata": {},
   "source": [
    "Load origin rule_dataset, convert to pair format"
   ]
  },
  {
   "cell_type": "code",
   "execution_count": 1,
   "metadata": {},
   "outputs": [
    {
     "data": {
      "text/html": [
       "<div>\n",
       "<style scoped>\n",
       "    .dataframe tbody tr th:only-of-type {\n",
       "        vertical-align: middle;\n",
       "    }\n",
       "\n",
       "    .dataframe tbody tr th {\n",
       "        vertical-align: top;\n",
       "    }\n",
       "\n",
       "    .dataframe thead th {\n",
       "        text-align: right;\n",
       "    }\n",
       "</style>\n",
       "<table border=\"1\" class=\"dataframe\">\n",
       "  <thead>\n",
       "    <tr style=\"text-align: right;\">\n",
       "      <th></th>\n",
       "      <th>EntityType</th>\n",
       "      <th>ActionType</th>\n",
       "      <th>Source</th>\n",
       "      <th>Syscall</th>\n",
       "      <th>EnVerb</th>\n",
       "      <th>Sentence</th>\n",
       "    </tr>\n",
       "  </thead>\n",
       "  <tbody>\n",
       "    <tr>\n",
       "      <th>0</th>\n",
       "      <td>DEVICE</td>\n",
       "      <td>DEVICE</td>\n",
       "      <td>man</td>\n",
       "      <td>io_cancel()</td>\n",
       "      <td>cancel</td>\n",
       "      <td>cancel an outstanding asynchronous I/O operation</td>\n",
       "    </tr>\n",
       "    <tr>\n",
       "      <th>1</th>\n",
       "      <td>DEVICE</td>\n",
       "      <td>DEVICE</td>\n",
       "      <td>man</td>\n",
       "      <td>io_destroy()</td>\n",
       "      <td>destroy</td>\n",
       "      <td>destroy an asynchronous I/O context</td>\n",
       "    </tr>\n",
       "    <tr>\n",
       "      <th>2</th>\n",
       "      <td>DEVICE</td>\n",
       "      <td>DEVICE</td>\n",
       "      <td>man</td>\n",
       "      <td>io_getevents()</td>\n",
       "      <td>read</td>\n",
       "      <td>read asynchronous I/O events from the completi...</td>\n",
       "    </tr>\n",
       "  </tbody>\n",
       "</table>\n",
       "</div>"
      ],
      "text/plain": [
       "  EntityType ActionType Source         Syscall   EnVerb  \\\n",
       "0     DEVICE     DEVICE    man     io_cancel()   cancel   \n",
       "1     DEVICE     DEVICE    man    io_destroy()  destroy   \n",
       "2     DEVICE     DEVICE    man  io_getevents()     read   \n",
       "\n",
       "                                            Sentence  \n",
       "0   cancel an outstanding asynchronous I/O operation  \n",
       "1                destroy an asynchronous I/O context  \n",
       "2  read asynchronous I/O events from the completi...  "
      ]
     },
     "execution_count": 1,
     "metadata": {},
     "output_type": "execute_result"
    }
   ],
   "source": [
    "import pandas as pd\n",
    "\n",
    "df = pd.read_csv('../rule_dataset_final.csv') # 354 Syscall\n",
    "# df = pd.read_csv('../rule_dataset.csv')       # 88  Syscall\n",
    "# df = pd.read_csv('../proc.csv')       # 88  Syscall\n",
    "\n",
    "def clean_braces(x):\n",
    "    x = x.replace(\"()\", \"\").replace(\",\", \"\").replace(\" \", \"\")\n",
    "    return str(x)\n",
    "def add_braces(x):\n",
    "    x = clean_braces(x)\n",
    "    x = x+\"()\"\n",
    "    return x\n",
    "\n",
    "df['Syscall'] = df['Syscall'].apply(add_braces) # or clean_braces\n",
    "df.head(3)\n"
   ]
  },
  {
   "cell_type": "code",
   "execution_count": 57,
   "metadata": {},
   "outputs": [],
   "source": [
    "def make_firstline(v:str, sentence:str, default=\"<,>\"):\n",
    "    spl = sentence.split()\n",
    "    for i,word in enumerate(spl):\n",
    "        if word.startswith(v):\n",
    "            object_phrase = \" \".join(spl[i+1:])\n",
    "            return f\"<{v},{object_phrase}>\"\n",
    "    return default"
   ]
  },
  {
   "cell_type": "code",
   "execution_count": 58,
   "metadata": {},
   "outputs": [
    {
     "data": {
      "text/html": [
       "<div>\n",
       "<style scoped>\n",
       "    .dataframe tbody tr th:only-of-type {\n",
       "        vertical-align: middle;\n",
       "    }\n",
       "\n",
       "    .dataframe tbody tr th {\n",
       "        vertical-align: top;\n",
       "    }\n",
       "\n",
       "    .dataframe thead th {\n",
       "        text-align: right;\n",
       "    }\n",
       "</style>\n",
       "<table border=\"1\" class=\"dataframe\">\n",
       "  <thead>\n",
       "    <tr style=\"text-align: right;\">\n",
       "      <th></th>\n",
       "      <th>Syscall</th>\n",
       "      <th>Sentence</th>\n",
       "      <th>FirstLine</th>\n",
       "      <th>Synonym</th>\n",
       "      <th>SynonymSentence</th>\n",
       "    </tr>\n",
       "  </thead>\n",
       "  <tbody>\n",
       "    <tr>\n",
       "      <th>0</th>\n",
       "      <td>idle()</td>\n",
       "      <td>make process 0 idle</td>\n",
       "      <td>&lt;make,process 0 idle&gt;</td>\n",
       "      <td>&lt;,&gt;</td>\n",
       "      <td></td>\n",
       "    </tr>\n",
       "    <tr>\n",
       "      <th>1</th>\n",
       "      <td>move_pages()</td>\n",
       "      <td>move individual pages of a process to another ...</td>\n",
       "      <td>&lt;move,individual pages of a process to another...</td>\n",
       "      <td>&lt;,&gt;</td>\n",
       "      <td></td>\n",
       "    </tr>\n",
       "    <tr>\n",
       "      <th>2</th>\n",
       "      <td>timer_gettime()</td>\n",
       "      <td>arm/disarm and fetch state of POSIX per</td>\n",
       "      <td>&lt;fetch,state of POSIX per&gt;</td>\n",
       "      <td>&lt;,&gt;</td>\n",
       "      <td></td>\n",
       "    </tr>\n",
       "    <tr>\n",
       "      <th>3</th>\n",
       "      <td>timer_delete()</td>\n",
       "      <td>delete a POSIX per</td>\n",
       "      <td>&lt;delete,a POSIX per&gt;</td>\n",
       "      <td>&lt;,&gt;</td>\n",
       "      <td></td>\n",
       "    </tr>\n",
       "    <tr>\n",
       "      <th>4</th>\n",
       "      <td>execveat()</td>\n",
       "      <td>execute program relative to a directory file d...</td>\n",
       "      <td>&lt;execute,program relative to a directory file ...</td>\n",
       "      <td>&lt;,&gt;</td>\n",
       "      <td></td>\n",
       "    </tr>\n",
       "    <tr>\n",
       "      <th>...</th>\n",
       "      <td>...</td>\n",
       "      <td>...</td>\n",
       "      <td>...</td>\n",
       "      <td>...</td>\n",
       "      <td>...</td>\n",
       "    </tr>\n",
       "    <tr>\n",
       "      <th>74</th>\n",
       "      <td>ioprio_set()</td>\n",
       "      <td>get/set I/O scheduling class and priority</td>\n",
       "      <td>&lt;,&gt;</td>\n",
       "      <td>&lt;,&gt;</td>\n",
       "      <td></td>\n",
       "    </tr>\n",
       "    <tr>\n",
       "      <th>75</th>\n",
       "      <td>sched_getattr()</td>\n",
       "      <td>set and get scheduling policy and attributes</td>\n",
       "      <td>&lt;get,scheduling policy and attributes&gt;</td>\n",
       "      <td>&lt;,&gt;</td>\n",
       "      <td></td>\n",
       "    </tr>\n",
       "    <tr>\n",
       "      <th>76</th>\n",
       "      <td>get_robust_list()</td>\n",
       "      <td>get/set list of robust futexes</td>\n",
       "      <td>&lt;get,list of robust futexes&gt;</td>\n",
       "      <td>&lt;,&gt;</td>\n",
       "      <td></td>\n",
       "    </tr>\n",
       "    <tr>\n",
       "      <th>77</th>\n",
       "      <td>getitimer()</td>\n",
       "      <td>get or set value of an interval timer</td>\n",
       "      <td>&lt;get,or set value of an interval timer&gt;</td>\n",
       "      <td>&lt;,&gt;</td>\n",
       "      <td></td>\n",
       "    </tr>\n",
       "    <tr>\n",
       "      <th>78</th>\n",
       "      <td>sched_setscheduler()</td>\n",
       "      <td>set and get scheduling policy/parameters</td>\n",
       "      <td>&lt;set,and get scheduling policy/parameters&gt;</td>\n",
       "      <td>&lt;,&gt;</td>\n",
       "      <td></td>\n",
       "    </tr>\n",
       "  </tbody>\n",
       "</table>\n",
       "<p>79 rows × 5 columns</p>\n",
       "</div>"
      ],
      "text/plain": [
       "                 Syscall                                           Sentence  \\\n",
       "0                 idle()                                make process 0 idle   \n",
       "1           move_pages()  move individual pages of a process to another ...   \n",
       "2        timer_gettime()            arm/disarm and fetch state of POSIX per   \n",
       "3         timer_delete()                                 delete a POSIX per   \n",
       "4             execveat()  execute program relative to a directory file d...   \n",
       "..                   ...                                                ...   \n",
       "74          ioprio_set()          get/set I/O scheduling class and priority   \n",
       "75       sched_getattr()       set and get scheduling policy and attributes   \n",
       "76     get_robust_list()                     get/set list of robust futexes   \n",
       "77           getitimer()              get or set value of an interval timer   \n",
       "78  sched_setscheduler()           set and get scheduling policy/parameters   \n",
       "\n",
       "                                            FirstLine Synonym SynonymSentence  \n",
       "0                               <make,process 0 idle>     <,>                  \n",
       "1   <move,individual pages of a process to another...     <,>                  \n",
       "2                          <fetch,state of POSIX per>     <,>                  \n",
       "3                                <delete,a POSIX per>     <,>                  \n",
       "4   <execute,program relative to a directory file ...     <,>                  \n",
       "..                                                ...     ...             ...  \n",
       "74                                                <,>     <,>                  \n",
       "75             <get,scheduling policy and attributes>     <,>                  \n",
       "76                       <get,list of robust futexes>     <,>                  \n",
       "77            <get,or set value of an interval timer>     <,>                  \n",
       "78         <set,and get scheduling policy/parameters>     <,>                  \n",
       "\n",
       "[79 rows x 5 columns]"
      ]
     },
     "execution_count": 58,
     "metadata": {},
     "output_type": "execute_result"
    }
   ],
   "source": [
    "# New columns: FirstLine Synonym\n",
    "# Better to remain columns: (EntityType ActionType) Syscall\n",
    "\n",
    "# syscall_88 = df['Syscall'].unique()\n",
    "# df = df[df['Source'] == 'man']\n",
    "df['FirstLine'] = df.apply(lambda r: make_firstline(r['EnVerb'],r['Sentence']), axis=1)\n",
    "df['Synonym']   = \"<,>\"\n",
    "df['SynonymSentence']   = \"\"\n",
    "df = df[['Syscall', 'Sentence', 'FirstLine', 'Synonym', 'SynonymSentence']]\n",
    "# df.to_csv('proc.csv', index=False)\n",
    "df"
   ]
  },
  {
   "cell_type": "code",
   "execution_count": null,
   "metadata": {},
   "outputs": [],
   "source": [
    "'''\n",
    "Syscall,Sentence,FirstLine,Synonym\n",
    "read(),read from a file descriptor,\"<read, file descriptor>\",\"<>\"\n",
    "readlink(),read value of a symbolic link,\"<read, value of a symbolic link>\",\"<place, the contents of the symbolic link path>\"\n",
    "'''"
   ]
  },
  {
   "attachments": {},
   "cell_type": "markdown",
   "metadata": {},
   "source": [
    "### 統計資料\n",
    "- numOf: syscall 395, firstline verb (in name), sysnonym verb (in description)\n",
    "- unimplemented: 18 (396+18=414), \n",
    "- 做統計時，不要提到這兩個 call，因為不在 strace github 中，但我們的 ASG 有使用到 ['rm()', 'exec()']"
   ]
  },
  {
   "cell_type": "code",
   "execution_count": 20,
   "metadata": {},
   "outputs": [
    {
     "name": "stdout",
     "output_type": "stream",
     "text": [
      "dataset len 426\n"
     ]
    },
    {
     "data": {
      "text/html": [
       "<div>\n",
       "<style scoped>\n",
       "    .dataframe tbody tr th:only-of-type {\n",
       "        vertical-align: middle;\n",
       "    }\n",
       "\n",
       "    .dataframe tbody tr th {\n",
       "        vertical-align: top;\n",
       "    }\n",
       "\n",
       "    .dataframe thead th {\n",
       "        text-align: right;\n",
       "    }\n",
       "</style>\n",
       "<table border=\"1\" class=\"dataframe\">\n",
       "  <thead>\n",
       "    <tr style=\"text-align: right;\">\n",
       "      <th></th>\n",
       "      <th>Syscall</th>\n",
       "      <th>Sentence</th>\n",
       "      <th>FirstLine</th>\n",
       "      <th>Synonym</th>\n",
       "      <th>SynonymSentence</th>\n",
       "    </tr>\n",
       "  </thead>\n",
       "  <tbody>\n",
       "    <tr>\n",
       "      <th>0</th>\n",
       "      <td>shutdown()</td>\n",
       "      <td>shut down part of a full-duplex connection</td>\n",
       "      <td>&lt;shut down,part of a full-duplex connection&gt;</td>\n",
       "      <td>&lt;,&gt;</td>\n",
       "      <td>NaN</td>\n",
       "    </tr>\n",
       "    <tr>\n",
       "      <th>1</th>\n",
       "      <td>recvmmsg()</td>\n",
       "      <td>receive multiple messages on a socket</td>\n",
       "      <td>&lt;receive,multiple messages&gt;</td>\n",
       "      <td>&lt;,&gt;</td>\n",
       "      <td>NaN</td>\n",
       "    </tr>\n",
       "    <tr>\n",
       "      <th>2</th>\n",
       "      <td>sendmmsg()</td>\n",
       "      <td>send multiple messages on a socket</td>\n",
       "      <td>&lt;send,multiple messages&gt;</td>\n",
       "      <td>&lt;transmit,multiple messages&gt;</td>\n",
       "      <td>transmit multiple messages on a socket using a...</td>\n",
       "    </tr>\n",
       "    <tr>\n",
       "      <th>3</th>\n",
       "      <td>pipe2()</td>\n",
       "      <td>create pipe</td>\n",
       "      <td>&lt;create,pipe&gt;</td>\n",
       "      <td>&lt;,&gt;</td>\n",
       "      <td>NaN</td>\n",
       "    </tr>\n",
       "    <tr>\n",
       "      <th>4</th>\n",
       "      <td>mq_unlink()</td>\n",
       "      <td>remove a message queue</td>\n",
       "      <td>&lt;remove,a message queue&gt;</td>\n",
       "      <td>&lt;,&gt;</td>\n",
       "      <td>NaN</td>\n",
       "    </tr>\n",
       "  </tbody>\n",
       "</table>\n",
       "</div>"
      ],
      "text/plain": [
       "       Syscall                                    Sentence  \\\n",
       "0   shutdown()  shut down part of a full-duplex connection   \n",
       "1   recvmmsg()       receive multiple messages on a socket   \n",
       "2   sendmmsg()          send multiple messages on a socket   \n",
       "3      pipe2()                                 create pipe   \n",
       "4  mq_unlink()                      remove a message queue   \n",
       "\n",
       "                                      FirstLine                       Synonym  \\\n",
       "0  <shut down,part of a full-duplex connection>                           <,>   \n",
       "1                   <receive,multiple messages>                           <,>   \n",
       "2                      <send,multiple messages>  <transmit,multiple messages>   \n",
       "3                                 <create,pipe>                           <,>   \n",
       "4                      <remove,a message queue>                           <,>   \n",
       "\n",
       "                                     SynonymSentence  \n",
       "0                                                NaN  \n",
       "1                                                NaN  \n",
       "2  transmit multiple messages on a socket using a...  \n",
       "3                                                NaN  \n",
       "4                                                NaN  "
      ]
     },
     "execution_count": 20,
     "metadata": {},
     "output_type": "execute_result"
    }
   ],
   "source": [
    "import pandas as pd\n",
    "dataset = pd.read_csv('./synonym_dataset.csv')\n",
    "dataset = dataset[~dataset['Syscall'].isin(['rm()', 'exec()'])]\n",
    "print('dataset len', len(dataset))\n",
    "dataset.head()"
   ]
  },
  {
   "cell_type": "code",
   "execution_count": 21,
   "metadata": {},
   "outputs": [
    {
     "data": {
      "text/plain": [
       "395"
      ]
     },
     "execution_count": 21,
     "metadata": {},
     "output_type": "execute_result"
    }
   ],
   "source": [
    "uq = dataset['Syscall'].unique()\n",
    "len(dataset['Syscall'].unique())"
   ]
  },
  {
   "cell_type": "code",
   "execution_count": 22,
   "metadata": {},
   "outputs": [
    {
     "name": "stdout",
     "output_type": "stream",
     "text": [
      "unimplemented: 18\n"
     ]
    },
    {
     "data": {
      "text/plain": [
       "['afs_syscall()',\n",
       " 'break()',\n",
       " 'fattach()',\n",
       " 'fdetach()',\n",
       " 'getmsg()',\n",
       " 'getpmsg()',\n",
       " 'gtty()',\n",
       " 'isastream()',\n",
       " 'lock()',\n",
       " 'madvise1()',\n",
       " 'mpx()',\n",
       " 'prof()',\n",
       " 'putmsg()',\n",
       " 'putpmsg()',\n",
       " 'security()',\n",
       " 'stty()',\n",
       " 'tuxcall()',\n",
       " 'vserver()']"
      ]
     },
     "execution_count": 22,
     "metadata": {},
     "output_type": "execute_result"
    }
   ],
   "source": [
    "# https://man7.org/linux/man-pages/man2/unimplemented.2.html \n",
    "unimplemented = '''afs_syscall, break, fattach, fdetach, ftime, getmsg, getpmsg,\n",
    "       gtty, isastream, lock, madvise1, mpx, prof, profil, putmsg,\n",
    "       putpmsg, security, stty, tuxcall, ulimit, vserver'''\n",
    "unimplemented = unimplemented.split(',')\n",
    "unimplemented = [f\"{u.strip()}()\" for u in unimplemented]\n",
    "unimplemented = [u for u in unimplemented if u not in uq]\n",
    "print('unimplemented:', len(unimplemented))\n",
    "unimplemented"
   ]
  },
  {
   "cell_type": "code",
   "execution_count": 23,
   "metadata": {},
   "outputs": [
    {
     "name": "stdout",
     "output_type": "stream",
     "text": [
      "num: 0, syscalls are: []\n"
     ]
    },
    {
     "data": {
      "text/html": [
       "<div>\n",
       "<style scoped>\n",
       "    .dataframe tbody tr th:only-of-type {\n",
       "        vertical-align: middle;\n",
       "    }\n",
       "\n",
       "    .dataframe tbody tr th {\n",
       "        vertical-align: top;\n",
       "    }\n",
       "\n",
       "    .dataframe thead th {\n",
       "        text-align: right;\n",
       "    }\n",
       "</style>\n",
       "<table border=\"1\" class=\"dataframe\">\n",
       "  <thead>\n",
       "    <tr style=\"text-align: right;\">\n",
       "      <th></th>\n",
       "      <th>Syscall</th>\n",
       "      <th>Sentence</th>\n",
       "      <th>FirstLine</th>\n",
       "      <th>Synonym</th>\n",
       "      <th>SynonymSentence</th>\n",
       "    </tr>\n",
       "  </thead>\n",
       "  <tbody>\n",
       "  </tbody>\n",
       "</table>\n",
       "</div>"
      ],
      "text/plain": [
       "Empty DataFrame\n",
       "Columns: [Syscall, Sentence, FirstLine, Synonym, SynonymSentence]\n",
       "Index: []"
      ]
     },
     "execution_count": 23,
     "metadata": {},
     "output_type": "execute_result"
    }
   ],
   "source": [
    "# 缺少 FirstLine 的 syscall: 13 個\n",
    "no_fl = dataset[dataset['FirstLine'] == \"<,>\"]\n",
    "print(f\"num: {len(no_fl)}, syscalls are: {list(no_fl['Syscall'])}\")\n",
    "no_fl\n"
   ]
  },
  {
   "cell_type": "code",
   "execution_count": 24,
   "metadata": {},
   "outputs": [
    {
     "name": "stdout",
     "output_type": "stream",
     "text": [
      "num: 0, syscalls are: []\n"
     ]
    }
   ],
   "source": [
    "# 缺少 FirstLine & Synonym 的 syscall: 7 個\n",
    "no_fl_syn = dataset[(dataset['FirstLine'] == \"<,>\") & (dataset['Synonym'] == \"<,>\")]\n",
    "print(f\"num: {len(no_fl_syn)}, syscalls are: {list(no_fl_syn['Syscall'])}\")"
   ]
  },
  {
   "cell_type": "code",
   "execution_count": 25,
   "metadata": {},
   "outputs": [
    {
     "name": "stdout",
     "output_type": "stream",
     "text": [
      "num: 297, syscalls are: ['shutdown()', 'recvmmsg()', 'pipe2()', 'mq_unlink()', 'socketpair()', 'mq_timedsend()', 'mq_timedreceive()', 'getpeername()', 'listen()', 'oldolduname()', 'olduname()', 'madvise()', 'sched_get_priority_max()', 'kexec_load()', 'setuid()', 'geteuid32()', 'ustat()', 'keyctl()', 'setreuid32()', 'times()', 'get_kernel_syms()', '_sysctl()', '_sysctl()', 'getpgid()', 'getegid32()', 'getuid32()', 'setpgid()', 'gettid()', 'stime()', 'setregid()', 'setgid32()', 'getsid()', 'shmctl()', 'getrusage()', 'setreuid()', 'sched_get_priority_min()', 'setregid32()', 'setgid()', 'setuid32()', 'getgid32()', 'ipc()', 'getgroups()', 'setfsuid32()', 'setresuid32()', 'getresgid32()', 'setgroups()', 'setresuid()', 'setfsgid32()', 'getgroups32()', 'setfsuid()', 'setresgid()', 'setrlimit()', 'getresgid()', 'getpriority()', 'setfsgid()', 'setpriority()', 'setgroups32()', 'getresuid()', 'syslog()', 'syslog()', 'syslog()', 'setresgid32()', 'getresuid32()', 'io_cancel()', 'iopl()', 'pciconfig_iobase()', 'io_destroy()', 'io_getevents()', 'io_setup()', 'swapoff()', 'io_submit()', 'move_pages()', 'timer_gettime()', 'timer_delete()', 'execveat()', 'pkey_alloc()', 'personality()', 'unshare()', 'process_vm_readv()', 'mlock()', 'restart_syscall()', 'setns()', 'mlock2()', 'mbind()', 'munlockall()', 'rt_sigreturn()', 'pkey_free()', 'set_mempolicy()', 'migrate_pages()', 'sigreturn()', 'munlock()', 'tkill()', 'process_vm_writev()', 'timer_getoverrun()', 'rt_sigsuspend()', 'bdflush()', 'bdflush()', 'bdflush()', 'bpf()', 'exit()', 'timer_settime()', 'timer_settime()', 'create_module()', 'timer_create()', 'vm86()', 'tgkill()', 'pause()', 'seccomp()', 'uselib()', 'get_mempolicy()', 'sched_setparam()', 'capset()', 'rt_sigtimedwait()', 'rt_sigaction()', 'rt_sigaction()', 'capget()', 'sched_setaffinity()', 'rt_sigprocmask()', 'sigpending()', 'sigprocmask()', 'waitid()', 'mincore()', 'rt_sigpending()', 'sched_setattr()', 'ioprio_get()', 'sigaction()', 'sigaction()', 'setitimer()', 'sched_getscheduler()', 'ioprio_set()', 'get_robust_list()', 'sched_setscheduler()', '_llseek()', 'fgetxattr()', 'readdir()', 'timerfd_gettime()', 'copy_file_range()', 'chown32()', 'setxattr()', 'sysfs()', 'truncate()', 'fremovexattr()', 'utimensat()', 'chroot()', 'fstatfs()', 'lchown32()', 'utime()', 'inotify_init1()', 'creat()', 'memfd_create()', 'lchown()', 'lremovexattr()', 'truncate64()', 'pivot_root()', 'futimesat()', 'epoll_wait()', 'epoll_pwait()', 'statfs64()', 'lookup_dcookie()', 'faccessat()', 'lgetxattr()', 'eventfd()', 'inotify_init()', 'sync_file_range()', 'chown()', 'mkdirat()', 'fstatfs64()', 'ftruncate64()', 'readahead()', 'remap_file_pages()', 'lsetxattr()', 'ftruncate()', 'removexattr()', 'fchown32()', 'getxattr()', 'sync_file_range2()', 'fchown()', 'eventfd2()', 'fsetxattr()', 'utimes()', 'msync()', 'fchownat()', 'pwritev()', 'inotify_rm_watch()', 'statx()', 'readv()', 'name_to_handle_at()', 'name_to_handle_at()', 'pwritev2()', 'flock()', 'flock()', 'preadv2()', 'pread64()', 'preadv()', 'signalfd()', 'open_by_handle_at()', 'writev()', 'sync()', 'fanotify_mark()', 'fanotify_mark()', 'fanotify_mark()', 'fdatasync()', 'signalfd4()', 'pwrite64()', 'fsync()', 'fanotify_init()', 'fanotify_init()', 'syncfs()', 'sgetmask()', 'nice()', 'fallocate()', 'lchmod()', 'ftime()', 'ulimit()', 'ulimit()', 'reboot()', 'reboot()', 'reboot()', 'adjtimex()', 'clock_adjtime()', 'clock_getres()', 'membarrier()', 'prctl()', 'syscall()', 'socketcall()', 'signal()', 'cacheflush()', 'vmsplice()', 'nfsservctl()', 'msgctl()', 'semctl()', 'statfs()', 'getcwd()', 'getdents()', 'mkdir()', 'open()', 'open()', 'openat()', 'mmap2()', 'umask()', 'linkat()', 'symlinkat()', 'fchdir()', 'chdir()', 'write()', 'fchmod()', 'chmod()', 'lchmod()', 'rmdir()', 'munmap()', 'unlink()', 'unlinkat()', 'remove()', 'lseek()', 'execve()', 'clone()', 'fork()', 'vfork()', 'vfork()', 'kill()', 'exit_group()', 'shmdt()', 'shmat()', 'shmget()', 'waitpid()', 'wait4()', 'mprotect()', 'set_tid_address()', 'arch_prctl()', 'set_thread_area()', 'set_robust_list()', 'setsid()', 'setsid()', 'getppid()', 'getpid()', 'getgid()', 'getegid()', 'geteuid()', 'getuid()', 'settimeofday()', 'time()', 'gettimeofday()', 'prlimit64()', 'getrlimit()', 'ugetrlimit()', 'sysinfo()', 'uname()', 'pipe()', 'socket()', 'getsockname()', 'recv()', 'recvmsg()', 'recvfrom()', 'send()', 'sendto()', 'sendmsg()', 'quotactl()']\n"
     ]
    }
   ],
   "source": [
    "# 缺少 Synonym 的 syscall: 298 個\n",
    "no_syn = dataset[(dataset['Synonym'] == \"<,>\")]\n",
    "print(f\"num: {len(no_syn)}, syscalls are: {list(no_syn['Syscall'])}\")"
   ]
  },
  {
   "attachments": {},
   "cell_type": "markdown",
   "metadata": {},
   "source": [
    "#### 計算 Synonym 數量\n",
    "(1) 以 firstline pair 為基準"
   ]
  },
  {
   "cell_type": "code",
   "execution_count": 26,
   "metadata": {},
   "outputs": [],
   "source": [
    "# 只有一個 Synonym 的 syscall: 115 個\n",
    "def count_pairs(x):\n",
    "    numOfSplit = len(x.split('|'))\n",
    "    if numOfSplit == 1 and (x == '' or x == '<,>'):\n",
    "        return 0\n",
    "    return numOfSplit\n",
    "\n",
    "dataset['numOfSynonym'] = dataset['Synonym'].apply(count_pairs)\n",
    "dataset['numOfFirstLine'] = dataset['FirstLine'].apply(count_pairs)"
   ]
  },
  {
   "cell_type": "code",
   "execution_count": 27,
   "metadata": {},
   "outputs": [
    {
     "name": "stdout",
     "output_type": "stream",
     "text": [
      "0    297\n",
      "1    111\n",
      "2     10\n",
      "3      6\n",
      "4      2\n",
      "Name: numOfSynonym, dtype: int64\n",
      "FirstLine >3 : ['add_key()', 'ptrace()']\n",
      "FirstLine =3 : ['idle()', 'epoll_ctl()', 'dup()', 'dup2()', 'fcntl()', 'fcntl64()']\n",
      "FirstLine =2 : ['request_key()', 'semget()', 'msgget()', 'sigsuspend()', 'renameat2()', 'renameat()', 'readlink()', 'poll()', 'ppoll()', 'futex()']\n",
      "FirstLine =1 : ['sendmmsg()', 'mq_open()', 'accept4()', 'accept()', 'mq_getsetattr()', 'mq_getsetattr()', 'mq_notify()']\n"
     ]
    }
   ],
   "source": [
    "syn_vcnt = dataset['numOfSynonym'].value_counts()\n",
    "print(syn_vcnt)\n",
    "print('FirstLine >3 :', list(dataset[dataset['numOfSynonym'] == 4]['Syscall']))\n",
    "print('FirstLine =3 :', list(dataset[dataset['numOfSynonym'] == 3]['Syscall']))\n",
    "print('FirstLine =2 :', list(dataset[dataset['numOfSynonym'] == 2]['Syscall']))\n",
    "print('FirstLine =1 :', list(dataset[dataset['numOfSynonym'] == 1]['Syscall'])[:7])"
   ]
  },
  {
   "cell_type": "code",
   "execution_count": 28,
   "metadata": {},
   "outputs": [
    {
     "data": {
      "text/plain": [
       "1    426\n",
       "Name: numOfFirstLine, dtype: int64"
      ]
     },
     "execution_count": 28,
     "metadata": {},
     "output_type": "execute_result"
    }
   ],
   "source": [
    "# No 其他意義，表示 13 個 syscall 的 Name 欄位沒有動詞\n",
    "dataset['numOfFirstLine'].value_counts()"
   ]
  },
  {
   "attachments": {},
   "cell_type": "markdown",
   "metadata": {},
   "source": [
    "(2) 以 syscall 為基準 (累加同個 syscall 底下 firstline pair 的 synonym 數量)"
   ]
  },
  {
   "cell_type": "code",
   "execution_count": 29,
   "metadata": {},
   "outputs": [
    {
     "name": "stderr",
     "output_type": "stream",
     "text": [
      "C:\\Users\\luweb\\AppData\\Local\\Temp\\ipykernel_7676\\3367027093.py:1: FutureWarning: The default value of numeric_only in DataFrameGroupBy.sum is deprecated. In a future version, numeric_only will default to False. Either specify numeric_only or select only columns which should be valid for the function.\n",
      "  gp = dataset.groupby(['Syscall']).sum()\n"
     ]
    },
    {
     "data": {
      "text/html": [
       "<div>\n",
       "<style scoped>\n",
       "    .dataframe tbody tr th:only-of-type {\n",
       "        vertical-align: middle;\n",
       "    }\n",
       "\n",
       "    .dataframe tbody tr th {\n",
       "        vertical-align: top;\n",
       "    }\n",
       "\n",
       "    .dataframe thead th {\n",
       "        text-align: right;\n",
       "    }\n",
       "</style>\n",
       "<table border=\"1\" class=\"dataframe\">\n",
       "  <thead>\n",
       "    <tr style=\"text-align: right;\">\n",
       "      <th></th>\n",
       "      <th>numOfSynonym</th>\n",
       "      <th>numOfFirstLine</th>\n",
       "    </tr>\n",
       "    <tr>\n",
       "      <th>Syscall</th>\n",
       "      <th></th>\n",
       "      <th></th>\n",
       "    </tr>\n",
       "  </thead>\n",
       "  <tbody>\n",
       "    <tr>\n",
       "      <th>_llseek()</th>\n",
       "      <td>0</td>\n",
       "      <td>1</td>\n",
       "    </tr>\n",
       "    <tr>\n",
       "      <th>_newselect()</th>\n",
       "      <td>1</td>\n",
       "      <td>1</td>\n",
       "    </tr>\n",
       "    <tr>\n",
       "      <th>_sysctl()</th>\n",
       "      <td>0</td>\n",
       "      <td>2</td>\n",
       "    </tr>\n",
       "    <tr>\n",
       "      <th>accept()</th>\n",
       "      <td>1</td>\n",
       "      <td>1</td>\n",
       "    </tr>\n",
       "    <tr>\n",
       "      <th>accept4()</th>\n",
       "      <td>1</td>\n",
       "      <td>1</td>\n",
       "    </tr>\n",
       "    <tr>\n",
       "      <th>...</th>\n",
       "      <td>...</td>\n",
       "      <td>...</td>\n",
       "    </tr>\n",
       "    <tr>\n",
       "      <th>wait4()</th>\n",
       "      <td>0</td>\n",
       "      <td>1</td>\n",
       "    </tr>\n",
       "    <tr>\n",
       "      <th>waitid()</th>\n",
       "      <td>0</td>\n",
       "      <td>1</td>\n",
       "    </tr>\n",
       "    <tr>\n",
       "      <th>waitpid()</th>\n",
       "      <td>0</td>\n",
       "      <td>1</td>\n",
       "    </tr>\n",
       "    <tr>\n",
       "      <th>write()</th>\n",
       "      <td>0</td>\n",
       "      <td>1</td>\n",
       "    </tr>\n",
       "    <tr>\n",
       "      <th>writev()</th>\n",
       "      <td>0</td>\n",
       "      <td>1</td>\n",
       "    </tr>\n",
       "  </tbody>\n",
       "</table>\n",
       "<p>395 rows × 2 columns</p>\n",
       "</div>"
      ],
      "text/plain": [
       "              numOfSynonym  numOfFirstLine\n",
       "Syscall                                   \n",
       "_llseek()                0               1\n",
       "_newselect()             1               1\n",
       "_sysctl()                0               2\n",
       "accept()                 1               1\n",
       "accept4()                1               1\n",
       "...                    ...             ...\n",
       "wait4()                  0               1\n",
       "waitid()                 0               1\n",
       "waitpid()                0               1\n",
       "write()                  0               1\n",
       "writev()                 0               1\n",
       "\n",
       "[395 rows x 2 columns]"
      ]
     },
     "execution_count": 29,
     "metadata": {},
     "output_type": "execute_result"
    }
   ],
   "source": [
    "gp = dataset.groupby(['Syscall']).sum()\n",
    "gp"
   ]
  },
  {
   "cell_type": "code",
   "execution_count": 30,
   "metadata": {},
   "outputs": [
    {
     "name": "stdout",
     "output_type": "stream",
     "text": [
      "sum: 395\n"
     ]
    },
    {
     "data": {
      "text/plain": [
       "0    273\n",
       "1     97\n",
       "2     17\n",
       "3      6\n",
       "4      2\n",
       "Name: numOfSynonym, dtype: int64"
      ]
     },
     "execution_count": 30,
     "metadata": {},
     "output_type": "execute_result"
    }
   ],
   "source": [
    "print('sum:',sum(gp['numOfSynonym'].value_counts()))\n",
    "gp['numOfSynonym'].value_counts() # 沒有 synonym 的 syscall 有 273 個，1個有97個"
   ]
  },
  {
   "cell_type": "code",
   "execution_count": 31,
   "metadata": {},
   "outputs": [
    {
     "data": {
      "text/plain": [
       "1    368\n",
       "2     23\n",
       "3      4\n",
       "Name: numOfFirstLine, dtype: int64"
      ]
     },
     "execution_count": 31,
     "metadata": {},
     "output_type": "execute_result"
    }
   ],
   "source": [
    "gp['numOfFirstLine'].value_counts() # 跟下一個 block 一樣"
   ]
  },
  {
   "attachments": {},
   "cell_type": "markdown",
   "metadata": {},
   "source": [
    "(3) 計算每個 syscall 有幾個動詞"
   ]
  },
  {
   "cell_type": "code",
   "execution_count": 34,
   "metadata": {},
   "outputs": [
    {
     "data": {
      "text/plain": [
       "1    257\n",
       "2    105\n",
       "3     18\n",
       "4     13\n",
       "5      2\n",
       "Name: Sum, dtype: int64"
      ]
     },
     "execution_count": 34,
     "metadata": {},
     "output_type": "execute_result"
    }
   ],
   "source": [
    "gp['Sum'] = gp['numOfSynonym'] + gp['numOfFirstLine']\n",
    "gp.head()\n",
    "gp['Sum'].value_counts()"
   ]
  },
  {
   "attachments": {},
   "cell_type": "markdown",
   "metadata": {},
   "source": [
    "#### 計算 FirstLine 數量"
   ]
  },
  {
   "cell_type": "code",
   "execution_count": 21,
   "metadata": {},
   "outputs": [
    {
     "name": "stdout",
     "output_type": "stream",
     "text": [
      "FirstLine >3 : 0\n",
      "FirstLine =3 : 4\n",
      "FirstLine =2 : 23\n",
      "FirstLine =1 : 368\n",
      "FirstLine =0 : 0\n",
      "FirstLine >3 : []\n",
      "FirstLine =3 : ['fanotify_mark()', 'syslog()', 'reboot()', 'bdflush()']\n",
      "FirstLine =2 : ['open_by_handle_at()', 'open()', 'setsid()', 'mmap()', 'acct()', '_sysctl()', 'timerfd_settime()', 'rt_sigaction()', 'name_to_handle_at()', 'tee()', 'flock()', 'modify_ldt()', 'rt_sigprocmask()', 'timer_settime()', 'sigprocmask()', 'sigaction()', 'ulimit()', 'remove()', 'lchmod()', 'sigaltstack()', 'fanotify_init()', 'mq_getsetattr()', 'vfork()']\n"
     ]
    }
   ],
   "source": [
    "syscall_vcnt = dataset['Syscall'].value_counts()\n",
    "# syscall_vcnt[syscall_vcnt > 1]\n",
    "print('FirstLine >3 :', len(syscall_vcnt[syscall_vcnt > 3]))\n",
    "print('FirstLine =3 :', len(syscall_vcnt[syscall_vcnt == 3]))\n",
    "print('FirstLine =2 :', len(syscall_vcnt[syscall_vcnt == 2]))\n",
    "print('FirstLine =1 :', len(syscall_vcnt[syscall_vcnt == 1]) - len(no_fl))\n",
    "print('FirstLine =0 :', len(no_fl))\n",
    "\n",
    "print('FirstLine >3 :', list(syscall_vcnt[syscall_vcnt > 3].index))\n",
    "print('FirstLine =3 :', list(syscall_vcnt[syscall_vcnt == 3].index))\n",
    "print('FirstLine =2 :', list(syscall_vcnt[syscall_vcnt == 2].index))"
   ]
  },
  {
   "attachments": {},
   "cell_type": "markdown",
   "metadata": {},
   "source": [
    "### Common verbs"
   ]
  },
  {
   "cell_type": "code",
   "execution_count": 1,
   "metadata": {},
   "outputs": [],
   "source": [
    "import pandas as pd\n",
    "dataset = pd.read_csv('./synonym_dataset.csv')"
   ]
  },
  {
   "cell_type": "code",
   "execution_count": 2,
   "metadata": {},
   "outputs": [],
   "source": [
    "def extract_verb(x:str):\n",
    "    ''' <,> => None, <get,xxx> => get '''\n",
    "    x = x.replace('<','').replace('>','')\n",
    "    x = x.split(',')[0]\n",
    "    return x.strip()\n",
    "\n",
    "dataset['FirstVerb'] = dataset['FirstLine'].apply(extract_verb)"
   ]
  },
  {
   "cell_type": "code",
   "execution_count": 38,
   "metadata": {},
   "outputs": [
    {
     "data": {
      "text/plain": [
       "get           75\n",
       "set           55\n",
       "change        30\n",
       "create        28\n",
       "read          12\n",
       "remove        11\n",
       "wait for       9\n",
       "manipulate     8\n",
       "send           7\n",
       "open           7\n",
       "Name: FirstVerb, dtype: int64"
      ]
     },
     "execution_count": 38,
     "metadata": {},
     "output_type": "execute_result"
    }
   ],
   "source": [
    "dataset['FirstVerb'].value_counts()[:10]"
   ]
  },
  {
   "cell_type": "code",
   "execution_count": 39,
   "metadata": {},
   "outputs": [
    {
     "name": "stdout",
     "output_type": "stream",
     "text": [
      "verbs_inrule: 113 verbs_syn: 104\n",
      "added verbs in firstline: 31 {'wait for', 'enable', 'set up', 'shut down', 'switch off', 'communicate with', 'listen for', 'detach', 'flush', 'queue', 'provide', 'predeclare', 'stop', 'operate on', 'tune', 'disable', 'arm', 'reboot', 'send signal', 'splice', 'invoke', 'register for', 'switch on', 'hangup', 'unmap', 'disarm', 'unlock', 'issue', 'unmount', 'multiplex', 'block'}\n"
     ]
    }
   ],
   "source": [
    "rules = pd.read_csv('../rule_dataset_final.csv')\n",
    "verbs_inrule = set(rules['EnVerb'].unique())\n",
    "\n",
    "verbs_1st = set(dataset['FirstVerb'].unique())\n",
    "print('verbs_inrule:', len(verbs_inrule), 'verbs_syn:', len(verbs_1st))\n",
    "add = verbs_1st-verbs_inrule\n",
    "print('added verbs in firstline:', len(add), add)"
   ]
  },
  {
   "cell_type": "code",
   "execution_count": 3,
   "metadata": {},
   "outputs": [
    {
     "data": {
      "text/plain": [
       "[('', 298),\n",
       " ('retrieve', 19),\n",
       " ('create', 16),\n",
       " ('set', 7),\n",
       " ('change', 6),\n",
       " ('monitor', 5),\n",
       " ('read', 4),\n",
       " ('remove', 4),\n",
       " ('copy', 4),\n",
       " ('creates', 3),\n",
       " ('find', 3),\n",
       " ('write', 3)]"
      ]
     },
     "execution_count": 3,
     "metadata": {},
     "output_type": "execute_result"
    }
   ],
   "source": [
    "# extract verb from synonym\n",
    "verbs_from_syn = list()\n",
    "syspair = dataset['Synonym']\n",
    "for pair_str in syspair:\n",
    "    if pair_str.find('|') != -1:\n",
    "        pair_str = pair_str.split('|')\n",
    "        # print(pair_str)\n",
    "        verbs = [extract_verb(pair) for pair in pair_str]\n",
    "        # print(verbs)\n",
    "        verbs_from_syn.extend(verbs)\n",
    "    else:\n",
    "        verb = extract_verb(pair_str)\n",
    "        verbs_from_syn.append(verb)\n",
    "\n",
    "from collections import Counter\n",
    "counter = Counter(verbs_from_syn)\n",
    "counter.most_common(12)"
   ]
  },
  {
   "attachments": {},
   "cell_type": "markdown",
   "metadata": {},
   "source": [
    "### Total verbs"
   ]
  },
  {
   "cell_type": "code",
   "execution_count": 4,
   "metadata": {},
   "outputs": [
    {
     "name": "stdout",
     "output_type": "stream",
     "text": [
      "num of verbs = 136, from name sector = 104, from description sector = 70\n"
     ]
    }
   ],
   "source": [
    "counter_1st = Counter(dataset['FirstVerb']) # verbs in firstline\n",
    "numv_from_des = len(counter) -1\n",
    "counter = counter + counter_1st\n",
    "print(f\"num of verbs = {len(counter) -1}, from name sector = {len(counter_1st)}, from description sector = {numv_from_des}\")"
   ]
  },
  {
   "cell_type": "code",
   "execution_count": 45,
   "metadata": {},
   "outputs": [
    {
     "data": {
      "text/plain": [
       "[('', 298),\n",
       " ('get', 77),\n",
       " ('set', 62),\n",
       " ('create', 44),\n",
       " ('change', 36),\n",
       " ('retrieve', 24),\n",
       " ('read', 16),\n",
       " ('remove', 15),\n",
       " ('manipulate', 11),\n",
       " ('write', 10),\n",
       " ('send', 10),\n",
       " ('wait for', 9),\n",
       " ('open', 8),\n",
       " ('load', 7),\n",
       " ('examine', 7),\n",
       " ('receive', 6),\n",
       " ('obtain', 5),\n",
       " ('lock', 5),\n",
       " ('fetch', 5),\n",
       " ('copy', 5),\n",
       " ('allocate', 5),\n",
       " ('monitor', 5),\n",
       " ('truncate', 5),\n",
       " ('control', 5),\n",
       " ('return', 5),\n",
       " ('operate', 5),\n",
       " ('add', 4),\n",
       " ('delete', 4),\n",
       " ('handle', 4),\n",
       " ('execute', 4),\n",
       " ('transfer', 4),\n",
       " ('creates', 3),\n",
       " ('find', 3),\n",
       " ('attach', 3),\n",
       " ('suspend', 3),\n",
       " ('check', 3),\n",
       " ('place', 3),\n",
       " ('arm', 3),\n",
       " ('disarm', 3),\n",
       " ('rename', 3),\n",
       " ('access', 3),\n",
       " ('move', 3),\n",
       " ('perform', 3),\n",
       " ('block', 3),\n",
       " ('share', 3),\n",
       " ('wait', 3),\n",
       " ('make', 3),\n",
       " ('tune', 3),\n",
       " ('initialize', 3),\n",
       " ('duplicate', 3),\n",
       " ('synchronize', 3),\n",
       " ('multiplex', 3),\n",
       " ('modify', 2),\n",
       " ('enter', 2),\n",
       " ('replace', 2),\n",
       " ('request', 2),\n",
       " ('enable', 2),\n",
       " ('disable', 2),\n",
       " ('moving', 2),\n",
       " ('free', 2),\n",
       " ('accept', 2),\n",
       " ('determine', 2),\n",
       " ('start', 2),\n",
       " ('unlock', 2),\n",
       " ('flush', 2),\n",
       " ('reposition', 2),\n",
       " ('sync', 2),\n",
       " ('list', 2),\n",
       " ('initiate', 2),\n",
       " ('commit', 2),\n",
       " ('predeclare', 2),\n",
       " ('unmount', 2),\n",
       " ('sleep', 2),\n",
       " ('queue', 2),\n",
       " ('splice', 2),\n",
       " ('provide', 2),\n",
       " ('map', 2),\n",
       " ('unmap', 2),\n",
       " ('transmit', 1),\n",
       " ('unregister for', 1),\n",
       " ('search for', 1),\n",
       " ('update', 1),\n",
       " ('instantiate', 1),\n",
       " ('identify', 1),\n",
       " ('mark', 1),\n",
       " ('lower', 1),\n",
       " ('cause', 1),\n",
       " ('fill', 1),\n",
       " ('arrange for', 1),\n",
       " ('define', 1),\n",
       " ('write into', 1),\n",
       " ('modifies', 1),\n",
       " ('store', 1),\n",
       " ('find out', 1),\n",
       " ('arrange', 1),\n",
       " ('seek', 1),\n",
       " ('observe', 1),\n",
       " ('expand', 1),\n",
       " ('wake', 1),\n",
       " ('connect', 1),\n",
       " ('assign', 1),\n",
       " ('shut down', 1),\n",
       " ('listen for', 1),\n",
       " ('register for', 1),\n",
       " ('give', 1),\n",
       " ('set up', 1),\n",
       " ('communicate with', 1),\n",
       " ('clear', 1),\n",
       " ('cancel', 1),\n",
       " ('destroy', 1),\n",
       " ('stop', 1),\n",
       " ('submit', 1),\n",
       " ('disassociate', 1),\n",
       " ('restart', 1),\n",
       " ('yield', 1),\n",
       " ('reassociate', 1),\n",
       " ('terminate', 1),\n",
       " ('unload', 1),\n",
       " ('operate on', 1),\n",
       " ('query', 1),\n",
       " ('compare', 1),\n",
       " ('switch on', 1),\n",
       " ('switch off', 1),\n",
       " ('extended', 1),\n",
       " ('apply', 1),\n",
       " ('mount', 1),\n",
       " ('reboot', 1),\n",
       " ('issue', 1),\n",
       " ('invoke', 1),\n",
       " ('hangup', 1),\n",
       " ('close', 1),\n",
       " ('send signal', 1),\n",
       " ('exit', 1),\n",
       " ('trace', 1),\n",
       " ('detach', 1),\n",
       " ('remap', 1),\n",
       " ('bind', 1)]"
      ]
     },
     "execution_count": 45,
     "metadata": {},
     "output_type": "execute_result"
    }
   ],
   "source": [
    "counter.most_common()"
   ]
  },
  {
   "cell_type": "code",
   "execution_count": 48,
   "metadata": {},
   "outputs": [
    {
     "name": "stdout",
     "output_type": "stream",
     "text": [
      "['', 'get', 'set', 'create', 'change', 'retrieve', 'read', 'remove', 'manipulate', 'wait for', 'write', 'send', 'open', 'examine', 'load', 'receive', 'return', 'operate', 'lock', 'truncate', 'control', 'obtain', 'handle', 'execute', 'transfer', 'fetch', 'allocate', 'add', 'delete', 'copy', 'make', 'tune', 'initialize', 'duplicate', 'synchronize', 'multiplex', 'check', 'arm', 'disarm', 'monitor', 'move', 'wait', 'attach', 'perform', 'block', 'share', 'accept', 'determine', 'start', 'unlock', 'flush', 'reposition', 'sync', 'list', 'initiate', 'commit', 'predeclare', 'unmount', 'sleep', 'queue', 'splice', 'provide', 'map', 'unmap', 'creates', 'modify', 'find', 'enter', 'suspend', 'request', 'place', 'enable', 'disable', 'rename', 'access', 'free', 'replace', 'moving', 'shut down', 'listen for', 'register for', 'give', 'set up', 'communicate with', 'clear', 'cancel', 'destroy', 'stop', 'submit', 'disassociate', 'restart', 'yield', 'reassociate', 'terminate', 'unload', 'operate on', 'query', 'compare', 'switch on', 'switch off', 'extended', 'apply', 'mount', 'reboot', 'issue', 'invoke', 'hangup', 'close', 'send signal', 'exit', 'trace', 'detach', 'remap', 'bind', 'transmit', 'unregister for', 'search for', 'update', 'instantiate', 'identify', 'mark', 'lower', 'cause', 'fill', 'arrange for', 'define', 'write into', 'modifies', 'store', 'find out', 'arrange', 'seek', 'observe', 'expand', 'wake', 'connect', 'assign']\n"
     ]
    }
   ],
   "source": [
    "a = [c[0] for c in counter.most_common()]\n",
    "print(a)"
   ]
  },
  {
   "attachments": {},
   "cell_type": "markdown",
   "metadata": {},
   "source": [
    "### 5/10新任務: 把從CTI reports挑選的句子，也轉成 pair 的形式儲存"
   ]
  },
  {
   "cell_type": "code",
   "execution_count": 2,
   "metadata": {},
   "outputs": [
    {
     "data": {
      "text/html": [
       "<div>\n",
       "<style scoped>\n",
       "    .dataframe tbody tr th:only-of-type {\n",
       "        vertical-align: middle;\n",
       "    }\n",
       "\n",
       "    .dataframe tbody tr th {\n",
       "        vertical-align: top;\n",
       "    }\n",
       "\n",
       "    .dataframe thead th {\n",
       "        text-align: right;\n",
       "    }\n",
       "</style>\n",
       "<table border=\"1\" class=\"dataframe\">\n",
       "  <thead>\n",
       "    <tr style=\"text-align: right;\">\n",
       "      <th></th>\n",
       "      <th>Syscall</th>\n",
       "      <th>Sentence</th>\n",
       "      <th>FirstLine</th>\n",
       "      <th>Synonym</th>\n",
       "      <th>SynonymSentence</th>\n",
       "    </tr>\n",
       "  </thead>\n",
       "  <tbody>\n",
       "    <tr>\n",
       "      <th>77</th>\n",
       "      <td>link()</td>\n",
       "      <td>Screenshot of the randomly-named files the Xor...</td>\n",
       "      <td>&lt;extract,to the /usr/bin folder.&gt;</td>\n",
       "      <td>&lt;,&gt;</td>\n",
       "      <td></td>\n",
       "    </tr>\n",
       "    <tr>\n",
       "      <th>78</th>\n",
       "      <td>link()</td>\n",
       "      <td>This Backdoor adds the following processes: se...</td>\n",
       "      <td>&lt;add,the following processes: sed -i -e '/exit...</td>\n",
       "      <td>&lt;,&gt;</td>\n",
       "      <td></td>\n",
       "    </tr>\n",
       "    <tr>\n",
       "      <th>79</th>\n",
       "      <td>link()</td>\n",
       "      <td>The file k.sh that was dropped and executed on...</td>\n",
       "      <td>&lt;drop,and executed on the attacked server&gt;</td>\n",
       "      <td>&lt;,&gt;</td>\n",
       "      <td></td>\n",
       "    </tr>\n",
       "    <tr>\n",
       "      <th>83</th>\n",
       "      <td>mkdir()</td>\n",
       "      <td>big-ip mounts the /usr partition read-only.</td>\n",
       "      <td>&lt;mount,the /usr partition read-only.&gt;</td>\n",
       "      <td>&lt;,&gt;</td>\n",
       "      <td></td>\n",
       "    </tr>\n",
       "    <tr>\n",
       "      <th>98</th>\n",
       "      <td>open()</td>\n",
       "      <td>Screenshot of the randomly-named files the Xor...</td>\n",
       "      <td>&lt;extract,to the /usr/bin folder.&gt;</td>\n",
       "      <td>&lt;,&gt;</td>\n",
       "      <td></td>\n",
       "    </tr>\n",
       "    <tr>\n",
       "      <th>...</th>\n",
       "      <td>...</td>\n",
       "      <td>...</td>\n",
       "      <td>...</td>\n",
       "      <td>...</td>\n",
       "      <td>...</td>\n",
       "    </tr>\n",
       "    <tr>\n",
       "      <th>549</th>\n",
       "      <td>exit_group()</td>\n",
       "      <td>Kill all current packeting.</td>\n",
       "      <td>&lt;,&gt;</td>\n",
       "      <td>&lt;,&gt;</td>\n",
       "      <td></td>\n",
       "    </tr>\n",
       "    <tr>\n",
       "      <th>550</th>\n",
       "      <td>exit_group()</td>\n",
       "      <td>this fallback function also checks if cron, cr...</td>\n",
       "      <td>&lt;end,&gt;</td>\n",
       "      <td>&lt;,&gt;</td>\n",
       "      <td></td>\n",
       "    </tr>\n",
       "    <tr>\n",
       "      <th>552</th>\n",
       "      <td>kill()</td>\n",
       "      <td>It then kills all Telnet and SSH related proce...</td>\n",
       "      <td>&lt;kill,all Telnet and SSH related processes, an...</td>\n",
       "      <td>&lt;,&gt;</td>\n",
       "      <td></td>\n",
       "    </tr>\n",
       "    <tr>\n",
       "      <th>553</th>\n",
       "      <td>kill()</td>\n",
       "      <td>this fallback function also checks if cron, cr...</td>\n",
       "      <td>&lt;end,&gt;</td>\n",
       "      <td>&lt;,&gt;</td>\n",
       "      <td></td>\n",
       "    </tr>\n",
       "    <tr>\n",
       "      <th>597</th>\n",
       "      <td>nanosleep()</td>\n",
       "      <td>The malware sleeps and tries to obtain the loc...</td>\n",
       "      <td>&lt;sleep,and tries to obtain the lock on the fil...</td>\n",
       "      <td>&lt;,&gt;</td>\n",
       "      <td></td>\n",
       "    </tr>\n",
       "  </tbody>\n",
       "</table>\n",
       "<p>117 rows × 5 columns</p>\n",
       "</div>"
      ],
      "text/plain": [
       "          Syscall                                           Sentence  \\\n",
       "77         link()  Screenshot of the randomly-named files the Xor...   \n",
       "78         link()  This Backdoor adds the following processes: se...   \n",
       "79         link()  The file k.sh that was dropped and executed on...   \n",
       "83        mkdir()        big-ip mounts the /usr partition read-only.   \n",
       "98         open()  Screenshot of the randomly-named files the Xor...   \n",
       "..            ...                                                ...   \n",
       "549  exit_group()                        Kill all current packeting.   \n",
       "550  exit_group()  this fallback function also checks if cron, cr...   \n",
       "552        kill()  It then kills all Telnet and SSH related proce...   \n",
       "553        kill()  this fallback function also checks if cron, cr...   \n",
       "597   nanosleep()  The malware sleeps and tries to obtain the loc...   \n",
       "\n",
       "                                             FirstLine Synonym SynonymSentence  \n",
       "77                   <extract,to the /usr/bin folder.>     <,>                  \n",
       "78   <add,the following processes: sed -i -e '/exit...     <,>                  \n",
       "79          <drop,and executed on the attacked server>     <,>                  \n",
       "83               <mount,the /usr partition read-only.>     <,>                  \n",
       "98                   <extract,to the /usr/bin folder.>     <,>                  \n",
       "..                                                 ...     ...             ...  \n",
       "549                                                <,>     <,>                  \n",
       "550                                             <end,>     <,>                  \n",
       "552  <kill,all Telnet and SSH related processes, an...     <,>                  \n",
       "553                                             <end,>     <,>                  \n",
       "597  <sleep,and tries to obtain the lock on the fil...     <,>                  \n",
       "\n",
       "[117 rows x 5 columns]"
      ]
     },
     "execution_count": 2,
     "metadata": {},
     "output_type": "execute_result"
    }
   ],
   "source": [
    "import pandas as pd\n",
    "\n",
    "df = pd.read_csv('../rule_dataset_final.csv') # 354 Syscall\n",
    "df = df[df['Source'] != 'man']\n",
    "\n",
    "def clean_braces(x):\n",
    "    x = x.replace(\"()\", \"\").replace(\",\", \"\").replace(\" \", \"\")\n",
    "    return str(x)\n",
    "def add_braces(x):\n",
    "    x = clean_braces(x)\n",
    "    x = x+\"()\"\n",
    "    return x\n",
    "\n",
    "df['Syscall'] = df['Syscall'].apply(add_braces) # or clean_braces\n",
    "df.head(3)\n",
    "\n",
    "def make_firstline(v:str, sentence:str, default=\"<,>\"):\n",
    "    spl = sentence.split()\n",
    "    for i,word in enumerate(spl):\n",
    "        if word.startswith(v):\n",
    "            object_phrase = \" \".join(spl[i+1:])\n",
    "            return f\"<{v},{object_phrase}>\"\n",
    "    return default\n",
    "\n",
    "# New columns: FirstLine Synonym\n",
    "# Better to remain columns: (EntityType ActionType) Syscall\n",
    "\n",
    "# syscall_88 = df['Syscall'].unique()\n",
    "# df = df[df['Source'] == 'man']\n",
    "df['FirstLine'] = df.apply(lambda r: make_firstline(r['EnVerb'],r['Sentence']), axis=1)\n",
    "df['Synonym']   = \"<,>\"\n",
    "df['SynonymSentence']   = \"\"\n",
    "df = df[['Syscall', 'Sentence', 'FirstLine', 'Synonym', 'SynonymSentence']]\n",
    "# df.to_csv('synonym_117fromCTI.csv', index=False)\n",
    "df"
   ]
  },
  {
   "cell_type": "code",
   "execution_count": null,
   "metadata": {},
   "outputs": [],
   "source": []
  }
 ],
 "metadata": {
  "kernelspec": {
   "display_name": "py3_8",
   "language": "python",
   "name": "python3"
  },
  "language_info": {
   "codemirror_mode": {
    "name": "ipython",
    "version": 3
   },
   "file_extension": ".py",
   "mimetype": "text/x-python",
   "name": "python",
   "nbconvert_exporter": "python",
   "pygments_lexer": "ipython3",
   "version": "3.10.5"
  },
  "orig_nbformat": 4,
  "vscode": {
   "interpreter": {
    "hash": "593d77fc80f492a69d777c8391608d31cfb20b60cd0c0ea90f6821e584cab7a6"
   }
  }
 },
 "nbformat": 4,
 "nbformat_minor": 2
}
