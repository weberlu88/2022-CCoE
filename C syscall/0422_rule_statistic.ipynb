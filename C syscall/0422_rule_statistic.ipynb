{
 "cells": [
  {
   "cell_type": "code",
   "execution_count": 1,
   "metadata": {},
   "outputs": [],
   "source": [
    "import pandas as pd"
   ]
  },
  {
   "attachments": {},
   "cell_type": "markdown",
   "metadata": {},
   "source": [
    "### 解釋\n",
    "- syscall <-> verb 規則的成品為 `rule_dataset_final.csv`。\n",
    "- 總共有 513 條規則，收錄 354 個 system call，能轉換的動詞有 113 個。\n",
    "- 由於規則數量眾多，且許多 system call 都沒有惡意程式使用，故可以先拿來收藏，先使用 `/Model` 的 `rule_dataset.csv`。"
   ]
  },
  {
   "cell_type": "code",
   "execution_count": 2,
   "metadata": {},
   "outputs": [
    {
     "data": {
      "text/html": [
       "<div>\n",
       "<style scoped>\n",
       "    .dataframe tbody tr th:only-of-type {\n",
       "        vertical-align: middle;\n",
       "    }\n",
       "\n",
       "    .dataframe tbody tr th {\n",
       "        vertical-align: top;\n",
       "    }\n",
       "\n",
       "    .dataframe thead th {\n",
       "        text-align: right;\n",
       "    }\n",
       "</style>\n",
       "<table border=\"1\" class=\"dataframe\">\n",
       "  <thead>\n",
       "    <tr style=\"text-align: right;\">\n",
       "      <th></th>\n",
       "      <th>EntityType</th>\n",
       "      <th>ActionType</th>\n",
       "      <th>Source</th>\n",
       "      <th>Syscall</th>\n",
       "      <th>EnVerb</th>\n",
       "      <th>Sentence</th>\n",
       "    </tr>\n",
       "  </thead>\n",
       "  <tbody>\n",
       "    <tr>\n",
       "      <th>0</th>\n",
       "      <td>DEVICE</td>\n",
       "      <td>DEVICE</td>\n",
       "      <td>man</td>\n",
       "      <td>io_cancel()</td>\n",
       "      <td>cancel</td>\n",
       "      <td>cancel an outstanding asynchronous I/O operation</td>\n",
       "    </tr>\n",
       "    <tr>\n",
       "      <th>1</th>\n",
       "      <td>DEVICE</td>\n",
       "      <td>DEVICE</td>\n",
       "      <td>man</td>\n",
       "      <td>io_destroy()</td>\n",
       "      <td>destroy</td>\n",
       "      <td>destroy an asynchronous I/O context</td>\n",
       "    </tr>\n",
       "    <tr>\n",
       "      <th>2</th>\n",
       "      <td>DEVICE</td>\n",
       "      <td>DEVICE</td>\n",
       "      <td>man</td>\n",
       "      <td>io_getevents()</td>\n",
       "      <td>read</td>\n",
       "      <td>read asynchronous I/O events from the completi...</td>\n",
       "    </tr>\n",
       "  </tbody>\n",
       "</table>\n",
       "</div>"
      ],
      "text/plain": [
       "  EntityType ActionType Source         Syscall   EnVerb  \\\n",
       "0     DEVICE     DEVICE    man     io_cancel()   cancel   \n",
       "1     DEVICE     DEVICE    man    io_destroy()  destroy   \n",
       "2     DEVICE     DEVICE    man  io_getevents()     read   \n",
       "\n",
       "                                            Sentence  \n",
       "0   cancel an outstanding asynchronous I/O operation  \n",
       "1                destroy an asynchronous I/O context  \n",
       "2  read asynchronous I/O events from the completi...  "
      ]
     },
     "execution_count": 2,
     "metadata": {},
     "output_type": "execute_result"
    }
   ],
   "source": [
    "df = pd.read_csv('rule_dataset_final.csv')\n",
    "\n",
    "def clean_braces(x):\n",
    "    x = x.replace(\"()\", \"\").replace(\",\", \"\").replace(\" \", \"\")\n",
    "    return str(x)\n",
    "def add_braces(x):\n",
    "    x = clean_braces(x)\n",
    "    x = x+\"()\"\n",
    "    return x\n",
    "\n",
    "df['Syscall'] = df['Syscall'].apply(add_braces) #clean_braces\n",
    "df.head(3)\n",
    "\n",
    "# df['Syscall'] = df['Syscall'].apply(add_braces)\n",
    "# df.to_csv(\"rule_dataset.csv\", index=False)"
   ]
  },
  {
   "attachments": {},
   "cell_type": "markdown",
   "metadata": {},
   "source": [
    "- 印出各類別的個數和內容，共 7 種 EntityType: FILE, PROC, DEVICE, ID, TIME, INFO, NET"
   ]
  },
  {
   "cell_type": "code",
   "execution_count": 3,
   "metadata": {},
   "outputs": [
    {
     "data": {
      "text/plain": [
       "EntityType                                              DEVICE\n",
       "ActionType                                              DEVICE\n",
       "Source                                                     man\n",
       "Syscall                                            io_cancel()\n",
       "EnVerb                                                  cancel\n",
       "Sentence      cancel an outstanding asynchronous I/O operation\n",
       "Name: 0, dtype: object"
      ]
     },
     "execution_count": 3,
     "metadata": {},
     "output_type": "execute_result"
    }
   ],
   "source": [
    "df.iloc[0]"
   ]
  },
  {
   "cell_type": "code",
   "execution_count": 9,
   "metadata": {},
   "outputs": [
    {
     "name": "stdout",
     "output_type": "stream",
     "text": [
      "ActionTypes: 33\n",
      "Verb from manpage: 91\n",
      "Verb from reports: 32\n"
     ]
    }
   ],
   "source": [
    "print('ActionTypes:', len(df['ActionType'].unique()))\n",
    "print('Verb from manpage:', len(df[df['Source'] == 'man']['EnVerb'].unique()))\n",
    "print('Verb from reports:', len(df[df['Source'] != 'man']['EnVerb'].unique()))"
   ]
  },
  {
   "cell_type": "code",
   "execution_count": 5,
   "metadata": {},
   "outputs": [
    {
     "name": "stdout",
     "output_type": "stream",
     "text": [
      "Total rules: 513, EntityType: ['DEVICE' 'FILE' 'ID' 'INFO' 'NET' 'PROC' 'TIME']\n",
      "For total 354 uq syscalls & 113 uq verbs\n",
      "\n",
      "EntityType: DEVICE has 42 rules | 39 uq_syscalls | 21 uq_verbs |  3 actionType          \n",
      "\t=>syscall: ['io_cancel()', 'io_destroy()', 'io_getevents()', 'io_setup()', 'io_submit()', 'ioctl()', 'ioperm()', 'iopl()', 'pciconfig_iobase()', 'pciconfig_read()', 'pciconfig_write()', 'swapoff()', 'swapon()', 'get_kernel_syms()', 'getcpu()', 'getpriority()', 'getrusage()', 'ipc()', 'kexec_file_load()', 'kexec_load()', 'madvise()', 'msgget()', 'oldolduname()', 'olduname()', 'request_key()', 'sched_get_priority_max()', 'sched_get_priority_min()', 'semget()', 'syslog()', 'ustat()', '_sysctl()', 'add_key()', 'keyctl()', 'perf_event_open()', 'setdomainname()', 'sethostname()', 'setpriority()', 'setrlimit()', 'shmctl()']          \n",
      "\t=>verb:    ['cancel', 'destroy', 'read', 'create', 'submit', 'control', 'manipulate', 'set', 'change', 'handle', 'start', 'exported', 'determine', 'get', 'call', 'load', 'give', 'request', 'clear', 'add', 'shared']          \n",
      "\t=>verb:    from manpage 21, from report 0\n",
      "\tDEVICE       has 13 uq syscalls & 11 uq verbs\n",
      "\tINFO_GET     has 17 uq syscalls & 10 uq verbs\n",
      "\tINFO_SET     has  9 uq syscalls &  5 uq verbs\n",
      "\n",
      "EntityType: FILE   has 207 rules | 141 uq_syscalls | 56 uq_verbs | 12 actionType          \n",
      "\t=>syscall: ['access()', 'faccessat()', 'close()', 'creat()', 'epoll_create()', 'epoll_create1()', 'flock()', 'link()', 'linkat()', 'memfd_create()', 'mkdir()', 'mkdirat()', 'mknod()', 'mknodat()', 'mmap()', 'mmap2()', 'name_to_handle_at()', 'open()', 'open_by_handle_at()', 'openat()', 'symlink()', 'symlinkat()', 'umask()', 'fremovexattr()', 'munmap()', 'remove()', 'rm()', 'rmdir()', 'unlink()', 'unlinkat()', 'getcwd()', 'getdents()', 'dup()', 'dup2()', 'dup3()', 'eventfd()', 'eventfd2()', 'signalfd()', 'userfaultfd()', 'epoll_pwait()', 'epoll_wait()', 'fcntl()', 'fcntl64()', 'futimesat()', 'sendfile()', 'sendfile64()', 'signalfd4()', 'timerfd_create()', 'timerfd_settime()', 'fgetxattr()', 'flistxattr()', 'getdents64()', 'getxattr()', 'lgetxattr()', 'llistxattr()', 'pread64()', 'preadv()', 'preadv2()', 'read()', 'readahead()', 'readdir()', 'readlink()', 'readlinkat()', 'readv()', 'setxattr()', 'sysfs()', '_llseek()', 'acct()', 'chroot()', 'copy_file_range()', 'fanotify_init()', 'fdatasync()', 'fsync()', 'inotify_add_watch()', 'inotify_init()', 'inotify_init1()', 'inotify_rm_watch()', 'listxattr()', 'lookup_dcookie()', 'lseek()', 'modify_ldt()', 'msync()', 'remap_file_pages()', 'sync_file_range()', 'sync_file_range2()', 'syncfs()', 'tee()', 'timerfd_gettime()', 'fstat()', 'fstat64()', 'fstatat64()', 'fstatfs()', 'fstatfs64()', 'lstat()', 'lstat64()', 'newfstatat()', 'oldfstat()', 'oldlstat()', 'oldstat()', 'stat()', 'stat64()', 'statfs()', 'statfs64()', 'statx()', 'chdir()', 'chmod()', 'chown()', 'chown32()', 'fanotify_mark()', 'fchdir()', 'fchmod()', 'fchmodat()', 'fchown()', 'fchown32()', 'fchownat()', 'fsetxattr()', 'ftruncate()', 'ftruncate64()', 'lchmod()', 'lchown()', 'lchown32()', 'lremovexattr()', 'lsetxattr()', 'pivot_root()', 'pwrite64()', 'pwritev()', 'pwritev2()', 'removexattr()', 'rename()', 'renameat()', 'renameat2()', 'sync()', 'truncate()', 'truncate64()', 'utime()', 'utimensat()', 'utimes()', 'write()', 'writev()', 'poll()', 'ppoll()']          \n",
      "\t=>verb:    ['check', 'access', 'close', 'free', 'create', 'open', 'apply', 'make', 'extract', 'add', 'drop', 'create ', 'mount', 'map', 'obtain', 'set', 'remove', 'ummap', 'delete', 'get', 'duplicate', 'share', 'handle', 'wait', 'manipulate', 'find', 'change', 'transfer', 'notify', 'retrieve', 'list', 'read', 'gather', 'fetch', 'look', 'see', 'use', 'initiate', 'place', 'offset', 'switch', 'copy', 'initialize', 'synchronize', 'extended', 'return', 'reposition', 'sync', 'commit', 'modify', 'truncate', 'rename', 'update', 'format', 'overwrite', 'write']          \n",
      "\t=>verb:    from manpage 44, from report 12\n",
      "\tACCESS       has  2 uq syscalls &  2 uq verbs\n",
      "\tCLOSE        has  1 uq syscalls &  2 uq verbs\n",
      "\tCREATE_OPEN  has 20 uq syscalls & 12 uq verbs\n",
      "\tDELETE       has  7 uq syscalls &  4 uq verbs\n",
      "\tDIR          has  2 uq syscalls &  1 uq verbs\n",
      "\tFD_DUP       has  7 uq syscalls &  4 uq verbs\n",
      "\tFD_OTHER     has 10 uq syscalls &  9 uq verbs\n",
      "\tFILE_READ    has 17 uq syscalls & 13 uq verbs\n",
      "\tOTHER        has 22 uq syscalls & 17 uq verbs\n",
      "\tSTATUS       has 16 uq syscalls &  1 uq verbs\n",
      "\tUPDATE       has 35 uq syscalls & 13 uq verbs\n",
      "\tWAIT         has  2 uq syscalls &  1 uq verbs\n",
      "\n",
      "EntityType: ID     has 41 rules | 40 uq_syscalls |  3 uq_verbs |  2 actionType          \n",
      "\t=>syscall: ['getegid()', 'getegid32()', 'geteuid()', 'geteuid32()', 'getgid()', 'getgid32()', 'getgroups()', 'getgroups32()', 'getpgid()', 'getpgrp()', 'getpid()', 'getppid()', 'getresgid()', 'getresgid32()', 'getresuid()', 'getresuid32()', 'getsid()', 'gettid()', 'getuid()', 'getuid32()', 'setfsgid()', 'setfsgid32()', 'setfsuid()', 'setfsuid32()', 'setgid()', 'setgid32()', 'setgroups()', 'setgroups32()', 'setpgid()', 'setregid()', 'setregid32()', 'setresgid()', 'setresgid32()', 'setresuid()', 'setresuid32()', 'setreuid()', 'setreuid32()', 'setsid()', 'setuid()', 'setuid32()']          \n",
      "\t=>verb:    ['get', 'set', 'assign']          \n",
      "\t=>verb:    from manpage 2, from report 1\n",
      "\tID_GET       has 20 uq syscalls &  2 uq verbs\n",
      "\tID_SET       has 20 uq syscalls &  2 uq verbs\n",
      "\n",
      "EntityType: INFO   has 12 rules |  5 uq_syscalls |  5 uq_verbs |  1 actionType          \n",
      "\t=>syscall: ['getrlimit()', 'prlimit64()', 'sysinfo()', 'ugetrlimit()', 'uname()']          \n",
      "\t=>verb:    ['get', 'return', 'gather', 'look', 'find']          \n",
      "\t=>verb:    from manpage 2, from report 3\n",
      "\tINFO_GET     has  5 uq syscalls &  5 uq verbs\n",
      "\n",
      "EntityType: NET    has 62 rules | 28 uq_syscalls | 22 uq_verbs |  4 actionType          \n",
      "\t=>syscall: ['mq_unlink()', 'shutdown()', 'accept()', 'accept4()', 'bind()', 'connect()', 'mq_notify()', 'mq_open()', 'pipe()', 'pipe2()', 'socket()', 'socketpair()', 'getpeername()', 'getsockname()', 'getsockopt()', 'mq_getsetattr()', 'setsockopt()', 'listen()', 'mq_timedreceive()', 'mq_timedsend()', 'recv()', 'recvfrom()', 'recvmmsg()', 'recvmsg()', 'send()', 'sendmmsg()', 'sendmsg()', 'sendto()']          \n",
      "\t=>verb:    ['remove', 'shut', 'accept', 'bind', 'assign', 'hook', 'initiate', 'connect', 'register', 'open', 'create', 'get', 'manipulate', 'set', 'listen', 'receive', 'send', 'communicate', 'download', 'wget', 'curl', 'transfer']          \n",
      "\t=>verb:    from manpage 16, from report 6\n",
      "\tNET_CLOSE    has  2 uq syscalls &  2 uq verbs\n",
      "\tNET_CONNECT  has 10 uq syscalls &  9 uq verbs\n",
      "\tNET_OPTION   has  5 uq syscalls &  3 uq verbs\n",
      "\tNET_TRANSMIT has 11 uq syscalls &  8 uq verbs\n",
      "\n",
      "EntityType: PROC   has 144 rules | 96 uq_syscalls | 51 uq_verbs | 10 actionType          \n",
      "\t=>syscall: ['rt_sigaction()', 'rt_sigpending()', 'rt_sigprocmask()', 'sigaction()', 'sigpending()', 'sigprocmask()', 'clone()', 'exec()', 'execve()', 'execveat()', 'fork()', 'personality()', 'restart_syscall()', 'unshare()', 'vfork()', 'getrandom()', 'query_module()', 'rt_sigreturn()', 'sched_rr_get_interval()', 'sigreturn()', 'timer_getoverrun()', 'exit()', 'exit_group()', 'kill()', 'tgkill()', 'tkill()', 'delete_module()', 'finit_module()', 'init_module()', 'uselib()', 'get_mempolicy()', 'mbind()', 'mlock()', 'mlock2()', 'mlockall()', 'munlock()', 'munlockall()', 'pkey_mprotect()', 'set_mempolicy()', 'shmat()', 'shmdt()', 'shmget()', 'arch_prctl()', 'bdflush()', 'bpf()', 'brk()', 'create_module()', 'futex()', 'kcmp()', 'migrate_pages()', 'mincore()', 'move_pages()', 'mprotect()', 'mremap()', 'nanosleep()', 'pkey_alloc()', 'pkey_free()', 'process_vm_readv()', 'process_vm_writev()', 'sched_yield()', 'seccomp()', 'set_robust_list()', 'set_thread_area()', 'set_tid_address()', 'timer_create()', 'timer_delete()', 'timer_gettime()', 'vm86()', 'alarm()', 'capget()', 'capset()', 'get_robust_list()', 'getitimer()', 'ioprio_get()', 'ioprio_set()', 'sched_getaffinity()', 'sched_getattr()', 'sched_getparam()', 'sched_getscheduler()', 'sched_setaffinity()', 'sched_setattr()', 'sched_setparam()', 'sched_setscheduler()', 'setitimer()', 'setns()', 'sigaltstack()', 'timer_settime()', 'ptrace()', 'idle()', 'pause()', 'rt_sigsuspend()', 'rt_sigtimedwait()', 'sigsuspend()', 'wait4()', 'waitid()', 'waitpid()']          \n",
      "\t=>verb:    ['examine', 'change', 'create', 'use', 'call', 'spawn', 'fork', 'perform', 'install', 'add', 'start', 'execute', 'replace', 'set', 'restart', 'disassociate', 'obtain', 'query', 'return', 'get', 'terminate', 'exit', 'kill', 'end', 'send', 'unload', 'load', 'shared', 'retrieve', 'lock', 'attach', 'allocate', 'wait', 'wake', 'compare', 'move', 'determine', 'remap', 'suspend', 'sleep', 'transfer', 'yield', 'operate', 'delete', 'fetch', 'enter', 'reassociate', 'trace', 'observe', 'control', 'make']          \n",
      "\t=>verb:    from manpage 42, from report 9\n",
      "\tPROC_EXAM    has  6 uq syscalls &  2 uq verbs\n",
      "\tPROC_EXE     has  9 uq syscalls & 14 uq verbs\n",
      "\tPROC_GET     has  6 uq syscalls &  4 uq verbs\n",
      "\tPROC_KILL    has  5 uq syscalls &  5 uq verbs\n",
      "\tPROC_LOAD    has  4 uq syscalls &  3 uq verbs\n",
      "\tPROC_MEM     has 12 uq syscalls &  5 uq verbs\n",
      "\tPROC_OTHER   has 26 uq syscalls & 20 uq verbs\n",
      "\tPROC_SET     has 19 uq syscalls &  4 uq verbs\n",
      "\tPROC_TRACE   has  1 uq syscalls &  5 uq verbs\n",
      "\tPROC_WAIT    has  8 uq syscalls &  2 uq verbs\n",
      "\n",
      "EntityType: TIME   has  5 rules |  5 uq_syscalls |  2 uq_verbs |  2 actionType          \n",
      "\t=>syscall: ['gettimeofday()', 'time()', 'times()', 'settimeofday()', 'stime()']          \n",
      "\t=>verb:    ['get', 'set']          \n",
      "\t=>verb:    from manpage 2, from report 0\n",
      "\tTIME_GET     has  3 uq syscalls &  1 uq verbs\n",
      "\tTIME_SET     has  2 uq syscalls &  1 uq verbs\n",
      "\n"
     ]
    }
   ],
   "source": [
    "printDetail = False #True\n",
    "entityType_lst = df['EntityType'].unique()\n",
    "lenSyscall = len(df['Syscall'].unique())\n",
    "lenEnVerb = len(df['EnVerb'].unique())\n",
    "print(f\"Total rules: {len(df)}, EntityType: {df['EntityType'].unique()}\")\n",
    "print(f\"For total {lenSyscall:2} uq syscalls & {lenEnVerb:2} uq verbs\\n\")\n",
    "\n",
    "for entityType in entityType_lst:\n",
    "    dataFileType = df[df['EntityType'] == entityType]\n",
    "    lenEnTp = len(dataFileType)\n",
    "    lenSyscall = len(dataFileType['Syscall'].unique())\n",
    "    lenEnVerb = len(dataFileType['EnVerb'].unique())\n",
    "    actionType_lst = dataFileType['ActionType'].unique()\n",
    "    lenEnVerb_manpage = len(dataFileType[dataFileType['Source'] == 'man']['EnVerb'].unique())\n",
    "    lenEnVerb_report = lenEnVerb - lenEnVerb_manpage\n",
    "\n",
    "    # print(dataFileType.index, len(dataFileType.index))\n",
    "\n",
    "    print(f\"EntityType: {entityType:<6} has {len(dataFileType):2} rules | {lenSyscall:2} uq_syscalls | {lenEnVerb:2} uq_verbs | {len(actionType_lst):2} actionType\\\n",
    "          \\n\\t=>syscall: {list(dataFileType['Syscall'].unique())}\\\n",
    "          \\n\\t=>verb:    {list(dataFileType['EnVerb'].unique())}\\\n",
    "          \\n\\t=>verb:    from manpage {lenEnVerb_manpage}, from report {lenEnVerb_report}\")\n",
    "\n",
    "    for actionType in actionType_lst:\n",
    "        dataActionType = dataFileType[dataFileType['ActionType'] == actionType]\n",
    "        lenSyscall = len(dataActionType['Syscall'].unique())\n",
    "        lenEnVerb = len(dataActionType['EnVerb'].unique())\n",
    "\n",
    "        if printDetail:\n",
    "            print(f\"\\t{actionType:<12} has {lenSyscall:2} uq syscalls & {lenEnVerb:2} uq verbs\\\n",
    "    {list(dataActionType['Syscall'].unique())} {list(dataActionType['EnVerb'].unique())}\")\n",
    "        else:\n",
    "            print(f\"\\t{actionType:<12} has {lenSyscall:2} uq syscalls & {lenEnVerb:2} uq verbs\")\n",
    "\n",
    "    print()\n"
   ]
  },
  {
   "attachments": {},
   "cell_type": "markdown",
   "metadata": {},
   "source": [
    "### 動詞過濾 除去非動詞的 action word\n",
    "- https://spacy.io/usage/linguistic-features\n",
    "- https://machinelearningknowledge.ai/tutorial-on-spacy-part-of-speech-pos-tagging/\n",
    "- 由於 pos 標籤一次只能貼上一個，所以有些詞會被誤標成名詞，如 name, hook, format。反而有些不該是動詞的單字被標籤上動詞，如 resolv.conf, m6_6n3。\n",
    "- 經由這段測試，推薦自建黑名單剔除誤判成動詞的單字。"
   ]
  },
  {
   "cell_type": "code",
   "execution_count": 8,
   "metadata": {},
   "outputs": [
    {
     "name": "stdout",
     "output_type": "stream",
     "text": [
      "hardcode NOUN NN\n",
      "format NOUN NN\n",
      "name NOUN NN\n",
      "se X FW\n",
      "hook NOUN NN\n",
      "se X FW\n",
      "======\n",
      "resolv.conf VERB VB\n",
      "wget VERB VB\n",
      "m6_6n3 VERB VB\n",
      "se X FW\n"
     ]
    }
   ],
   "source": [
    "import spacy\n",
    "\n",
    "oov_verbs = convertion_df['verb_origin']\n",
    "none_verb_lst = [\"resolv.conf\", \"wget\", \"m6_6n3\", \"se\"] # wget 可以接受\n",
    "\n",
    "nlp = spacy.load(\"en_core_web_sm\")\n",
    "for v in oov_verbs:\n",
    "    doc = nlp(v)\n",
    "    for token in doc:\n",
    "        if token.pos_ != 'VERB':\n",
    "            print(token.text, token.pos_, token.tag_) # ex: modify VERB VB\n",
    "        # print(token.text, token.lemma_, token.pos_, token.tag_, token.dep_,\n",
    "        #         token.shape_, token.is_alpha, token.is_stop)\n",
    "\n",
    "print(\"======\")\n",
    "for v in none_verb_lst:\n",
    "    doc = nlp(v)\n",
    "    for token in doc:\n",
    "        print(token.text, token.pos_, token.tag_)\n"
   ]
  },
  {
   "attachments": {},
   "cell_type": "markdown",
   "metadata": {},
   "source": [
    "### 查看哪些 Syscall 未包含在 Rule 中"
   ]
  },
  {
   "cell_type": "code",
   "execution_count": 26,
   "metadata": {},
   "outputs": [
    {
     "name": "stdout",
     "output_type": "stream",
     "text": [
      "path is correct: True\n"
     ]
    }
   ],
   "source": [
    "# Load Malware Sample ASG\n",
    "# import re\n",
    "import os\n",
    "# from os import listdir\n",
    "# from os.path import isfile, join\n",
    "# from pathlib import Path\n",
    "# import pandas as pd\n",
    "# import pickle\n",
    "from IPython.display import display\n",
    "\n",
    "''' 自己寫的模組 '''\n",
    "from Exp4_autore.ASG import AttackGraph, Node, Edge, FileTable #, build\n",
    "\n",
    "family = 'GafGyt' # Darlloz\n",
    "samplename = '933e9eff97f50b196b2bb0fef499640e' # dfeb77cb0ba28ac3ba4be55d7bc91fad\n",
    "trace_path = f\"../C ASG/trace/{family}/{samplename}.bin\"\n",
    "print(\"path is correct:\", os.path.exists(trace_path))\n",
    "asg = AttackGraph(trace_path)\n",
    "asg.create()"
   ]
  },
  {
   "cell_type": "code",
   "execution_count": 30,
   "metadata": {},
   "outputs": [
    {
     "name": "stdout",
     "output_type": "stream",
     "text": [
      "['open', 'kill', 'fork'] num of unique syscalls: 15\n"
     ]
    }
   ],
   "source": [
    "syscalls_in_asg = {step[2] for step in asg.step_list}\n",
    "print(list(syscalls_in_asg)[:3], 'num of unique syscalls:', len(syscalls_in_asg))"
   ]
  },
  {
   "cell_type": "code",
   "execution_count": 31,
   "metadata": {},
   "outputs": [],
   "source": [
    "tmp = df\n",
    "tmp['Syscall'] = df['Syscall'].apply(clean_braces)\n",
    "syscalls_in_rule = tmp['Syscall'].unique()\n",
    "for asg_sy in syscalls_in_asg:\n",
    "    if asg_sy not in syscalls_in_rule:\n",
    "        print(asg_sy)"
   ]
  }
 ],
 "metadata": {
  "kernelspec": {
   "display_name": "py3_8",
   "language": "python",
   "name": "python3"
  },
  "language_info": {
   "codemirror_mode": {
    "name": "ipython",
    "version": 3
   },
   "file_extension": ".py",
   "mimetype": "text/x-python",
   "name": "python",
   "nbconvert_exporter": "python",
   "pygments_lexer": "ipython3",
   "version": "3.10.5"
  },
  "orig_nbformat": 4
 },
 "nbformat": 4,
 "nbformat_minor": 2
}
