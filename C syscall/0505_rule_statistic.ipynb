{
 "cells": [
  {
   "cell_type": "code",
   "execution_count": 1,
   "metadata": {},
   "outputs": [],
   "source": [
    "import pandas as pd"
   ]
  },
  {
   "attachments": {},
   "cell_type": "markdown",
   "metadata": {},
   "source": [
    "### 解釋\n",
    "- syscall <-> verb 規則的成品為 `rule_dataset_final.csv`。\n",
    "- 總共有 513 條規則，收錄 354 個 system call，能轉換的動詞有 113 個。\n",
    "- 由於規則數量眾多，且許多 system call 都沒有惡意程式使用，故可以先拿來收藏，先使用 `/Model` 的 `rule_dataset.csv`。\n",
    "- /trans_syndata_to_rule 會將標籤好 EntityType 和 ActionType 的 syndata 調整成 rules 的格式，並將從 root 資料夾的 `rule_dataset_final.csv` 取出 from CTI 的 rules，合併至產出中，這份產出就是最終成品 `rule_dataset_final.csv`，我們手動複製一份過來做數據分析。請隨時保持確認兩份相同檔名的 rule 是一致的。\n",
    "- 若需要更改標籤，請至 /trans_syndata_to_rule/before 的檔案做修改。"
   ]
  },
  {
   "cell_type": "code",
   "execution_count": 2,
   "metadata": {},
   "outputs": [
    {
     "data": {
      "text/html": [
       "<div>\n",
       "<style scoped>\n",
       "    .dataframe tbody tr th:only-of-type {\n",
       "        vertical-align: middle;\n",
       "    }\n",
       "\n",
       "    .dataframe tbody tr th {\n",
       "        vertical-align: top;\n",
       "    }\n",
       "\n",
       "    .dataframe thead th {\n",
       "        text-align: right;\n",
       "    }\n",
       "</style>\n",
       "<table border=\"1\" class=\"dataframe\">\n",
       "  <thead>\n",
       "    <tr style=\"text-align: right;\">\n",
       "      <th></th>\n",
       "      <th>EntityType</th>\n",
       "      <th>ActionType</th>\n",
       "      <th>Source</th>\n",
       "      <th>Syscall</th>\n",
       "      <th>EnVerb</th>\n",
       "      <th>Sentence</th>\n",
       "    </tr>\n",
       "  </thead>\n",
       "  <tbody>\n",
       "    <tr>\n",
       "      <th>0</th>\n",
       "      <td>DEVICE</td>\n",
       "      <td>DEVICE</td>\n",
       "      <td>man</td>\n",
       "      <td>io_cancel()</td>\n",
       "      <td>cancel</td>\n",
       "      <td>NaN</td>\n",
       "    </tr>\n",
       "    <tr>\n",
       "      <th>1</th>\n",
       "      <td>DEVICE</td>\n",
       "      <td>DEVICE</td>\n",
       "      <td>man</td>\n",
       "      <td>io_destroy()</td>\n",
       "      <td>destroy</td>\n",
       "      <td>NaN</td>\n",
       "    </tr>\n",
       "    <tr>\n",
       "      <th>2</th>\n",
       "      <td>DEVICE</td>\n",
       "      <td>DEVICE</td>\n",
       "      <td>man</td>\n",
       "      <td>io_getevents()</td>\n",
       "      <td>read</td>\n",
       "      <td>NaN</td>\n",
       "    </tr>\n",
       "  </tbody>\n",
       "</table>\n",
       "</div>"
      ],
      "text/plain": [
       "  EntityType ActionType Source         Syscall   EnVerb Sentence\n",
       "0     DEVICE     DEVICE    man     io_cancel()   cancel      NaN\n",
       "1     DEVICE     DEVICE    man    io_destroy()  destroy      NaN\n",
       "2     DEVICE     DEVICE    man  io_getevents()     read      NaN"
      ]
     },
     "execution_count": 2,
     "metadata": {},
     "output_type": "execute_result"
    }
   ],
   "source": [
    "df = pd.read_csv('rule_dataset_final.csv')\n",
    "df = df[~df['Syscall'].isin(['rm()', 'exec()'])] # 統計中不要這兩個 call，這是製成學長自己掰的 call\n",
    "\n",
    "def clean_braces(x):\n",
    "    x = x.replace(\"()\", \"\").replace(\",\", \"\").replace(\" \", \"\")\n",
    "    return str(x)\n",
    "def add_braces(x):\n",
    "    x = clean_braces(x)\n",
    "    x = x+\"()\"\n",
    "    return x\n",
    "\n",
    "df['Syscall'] = df['Syscall'].apply(add_braces) #clean_braces\n",
    "df.head(3)\n",
    "\n",
    "# df['Syscall'] = df['Syscall'].apply(add_braces)\n",
    "# df.to_csv(\"rule_dataset.csv\", index=False)"
   ]
  },
  {
   "attachments": {},
   "cell_type": "markdown",
   "metadata": {},
   "source": [
    "- 印出各類別的個數和內容，共 7 種 EntityType: FILE, PROC, DEVICE, ID, TIME, INFO, NET"
   ]
  },
  {
   "cell_type": "code",
   "execution_count": 3,
   "metadata": {},
   "outputs": [
    {
     "data": {
      "text/plain": [
       "EntityType         DEVICE\n",
       "ActionType         DEVICE\n",
       "Source                man\n",
       "Syscall       io_cancel()\n",
       "EnVerb             cancel\n",
       "Sentence              NaN\n",
       "Name: 0, dtype: object"
      ]
     },
     "execution_count": 3,
     "metadata": {},
     "output_type": "execute_result"
    }
   ],
   "source": [
    "df.iloc[0]"
   ]
  },
  {
   "cell_type": "code",
   "execution_count": 4,
   "metadata": {},
   "outputs": [
    {
     "name": "stdout",
     "output_type": "stream",
     "text": [
      "ActionTypes: 34\n",
      "Verb from manpage: 136\n",
      "Verb from reports: 31\n"
     ]
    }
   ],
   "source": [
    "print('ActionTypes:', len(df['ActionType'].unique()))\n",
    "print('Verb from manpage:', len(df[df['Source'] == 'man']['EnVerb'].unique()))\n",
    "print('Verb from reports:', len(df[df['Source'] != 'man']['EnVerb'].unique()))"
   ]
  },
  {
   "cell_type": "code",
   "execution_count": 11,
   "metadata": {},
   "outputs": [
    {
     "name": "stdout",
     "output_type": "stream",
     "text": [
      "Total rules: 683, EntityType: ['DEVICE' 'FILE' 'ID' 'INFO' 'MEM' 'NET' 'PROC' 'TIME']\n",
      "For total 395 uq syscalls & 155 uq verbs\n",
      "\n",
      "EntityType: DEVICE has 17 rules | 13 uq_syscalls | 13 uq_verbs |  1 actionType          \n",
      "\t=>syscall: ['io_cancel()', 'io_destroy()', 'io_getevents()', 'io_setup()', 'io_submit()', 'ioctl()', 'ioperm()', 'iopl()', 'pciconfig_iobase()', 'pciconfig_read()', 'pciconfig_write()', 'swapoff()', 'swapon()']          \n",
      "\t=>verb:    ['cancel', 'destroy', 'read', 'create', 'submit', 'control', 'manipulate', 'set', 'change', 'handle', 'write', 'stop', 'start']          \n",
      "\t=>verb:    from manpage 13, from report 0          \n",
      "\t=>rule:    from manpage 17, from report 0\n",
      "\tDEVICE       has 13 uq syscalls & 13 uq verbs\n",
      "\n",
      "EntityType: FILE   has 276 rules | 152 uq_syscalls | 70 uq_verbs | 12 actionType          \n",
      "\t=>syscall: ['access()', 'faccessat()', 'ulimit()', 'close()', 'creat()', 'epoll_create()', 'epoll_create1()', 'flock()', 'link()', 'linkat()', 'memfd_create()', 'mkdir()', 'mkdirat()', 'mknod()', 'mknodat()', 'mmap()', 'mmap2()', 'mount()', 'name_to_handle_at()', 'open()', 'open_by_handle_at()', 'openat()', 'symlink()', 'symlinkat()', 'umask()', 'fremovexattr()', 'munmap()', 'remove()', 'rmdir()', 'umount()', 'umount2()', 'unlink()', 'unlinkat()', 'getcwd()', 'getdents()', 'dup()', 'dup2()', 'dup3()', 'eventfd()', 'eventfd2()', 'signalfd()', 'userfaultfd()', '_newselect()', 'epoll_ctl()', 'epoll_pwait()', 'epoll_wait()', 'fcntl()', 'fcntl64()', 'futimesat()', 'pselect6()', 'select()', 'sendfile()', 'sendfile64()', 'signalfd4()', 'timerfd_create()', 'timerfd_settime()', 'fgetxattr()', 'flistxattr()', 'getdents64()', 'getxattr()', 'lgetxattr()', 'llistxattr()', 'pread64()', 'preadv()', 'preadv2()', 'read()', 'readahead()', 'readdir()', 'readlink()', 'readlinkat()', 'readv()', 'setxattr()', 'sysfs()', '_llseek()', 'acct()', 'chroot()', 'copy_file_range()', 'fallocate()', 'fanotify_init()', 'fdatasync()', 'fsync()', 'inotify_add_watch()', 'inotify_init()', 'inotify_init1()', 'inotify_rm_watch()', 'listxattr()', 'lookup_dcookie()', 'lseek()', 'modify_ldt()', 'msync()', 'quotactl()', 'remap_file_pages()', 'sync_file_range()', 'sync_file_range2()', 'syncfs()', 'tee()', 'timerfd_gettime()', 'fstat()', 'fstat64()', 'fstatat64()', 'fstatfs()', 'fstatfs64()', 'lstat()', 'lstat64()', 'newfstatat()', 'oldfstat()', 'oldlstat()', 'oldstat()', 'stat()', 'stat64()', 'statfs()', 'statfs64()', 'statx()', 'chdir()', 'chmod()', 'chown()', 'chown32()', 'fadvise64()', 'fadvise64_64()', 'fanotify_mark()', 'fchdir()', 'fchmod()', 'fchmodat()', 'fchown()', 'fchown32()', 'fchownat()', 'fsetxattr()', 'ftruncate()', 'ftruncate64()', 'lchmod()', 'lchown()', 'lchown32()', 'lremovexattr()', 'lsetxattr()', 'pivot_root()', 'pwrite64()', 'pwritev()', 'pwritev2()', 'removexattr()', 'rename()', 'renameat()', 'renameat2()', 'sync()', 'truncate()', 'truncate64()', 'utime()', 'utimensat()', 'utimes()', 'write()', 'writev()', 'poll()', 'ppoll()']          \n",
      "\t=>verb:    ['access', 'check', 'set', 'get', 'close', 'free', 'create', 'open', 'apply', 'remove', 'make', 'extract', 'add', 'drop', 'mount', 'creates', 'map', 'unmap', 'attach', 'obtain', 'delete', 'unmount', 'duplicate', 'allocate', 'share', 'multiplex', 'monitor', 'control', 'change', 'wait', 'find', 'manipulate', 'transfer', 'copy', 'disarm', 'arm', 'retrieve', 'list', 'read', 'seek', 'gather', 'fetch', 'look', 'see', 'use', 'initiate', 'place', 'truncate', 'reposition', 'enable', 'switch off', 'disable', 'switch on', 'initialize', 'synchronize', 'modifies', 'extended', 'return', 'write', 'sync', 'commit', 'modify', 'predeclare', 'rename', 'update', 'format', 'overwrite', 'moving', 'wait for', 'block']          \n",
      "\t=>verb:    from manpage 61, from report 9          \n",
      "\t=>rule:    from manpage 234, from report 42\n",
      "\tACCESS       has  3 uq syscalls &  4 uq verbs\n",
      "\tCLOSE        has  1 uq syscalls &  2 uq verbs\n",
      "\tCREATE_OPEN  has 21 uq syscalls & 15 uq verbs\n",
      "\tDELETE       has  8 uq syscalls &  5 uq verbs\n",
      "\tDIR          has  2 uq syscalls &  1 uq verbs\n",
      "\tFD_DUP       has  7 uq syscalls &  4 uq verbs\n",
      "\tFD_OTHER     has 14 uq syscalls & 16 uq verbs\n",
      "\tFILE_READ    has 17 uq syscalls & 15 uq verbs\n",
      "\tOTHER        has 24 uq syscalls & 24 uq verbs\n",
      "\tSTATUS       has 16 uq syscalls &  2 uq verbs\n",
      "\tUPDATE       has 37 uq syscalls & 15 uq verbs\n",
      "\tWAIT         has  2 uq syscalls &  3 uq verbs\n",
      "\n",
      "EntityType: ID     has 43 rules | 40 uq_syscalls |  5 uq_verbs |  2 actionType          \n",
      "\t=>syscall: ['getegid()', 'getegid32()', 'geteuid()', 'geteuid32()', 'getgid()', 'getgid32()', 'getgroups()', 'getgroups32()', 'getpgid()', 'getpgrp()', 'getpid()', 'getppid()', 'getresgid()', 'getresgid32()', 'getresuid()', 'getresuid32()', 'getsid()', 'gettid()', 'getuid()', 'getuid32()', 'setfsgid()', 'setfsgid32()', 'setfsuid()', 'setfsuid32()', 'setgid()', 'setgid32()', 'setgroups()', 'setgroups32()', 'setpgid()', 'setregid()', 'setregid32()', 'setresgid()', 'setresgid32()', 'setresuid()', 'setresuid32()', 'setreuid()', 'setreuid32()', 'setsid()', 'setuid()', 'setuid32()']          \n",
      "\t=>verb:    ['get', 'retrieve', 'set', 'create', 'assign']          \n",
      "\t=>verb:    from manpage 4, from report 1          \n",
      "\t=>rule:    from manpage 42, from report 1\n",
      "\tID_GET       has 20 uq syscalls &  2 uq verbs\n",
      "\tID_SET       has 20 uq syscalls &  3 uq verbs\n",
      "\n",
      "EntityType: INFO   has 55 rules | 31 uq_syscalls | 27 uq_verbs |  2 actionType          \n",
      "\t=>syscall: ['get_kernel_syms()', 'getcpu()', 'getpriority()', 'getrlimit()', 'getrusage()', 'ipc()', 'kexec_file_load()', 'kexec_load()', 'madvise()', 'msgget()', 'oldolduname()', 'olduname()', 'prlimit64()', 'request_key()', 'sched_get_priority_max()', 'sched_get_priority_min()', 'semget()', 'sysinfo()', 'syslog()', 'ugetrlimit()', 'uname()', 'ustat()', '_sysctl()', 'add_key()', 'keyctl()', 'perf_event_open()', 'setdomainname()', 'sethostname()', 'setpriority()', 'setrlimit()', 'shmctl()']          \n",
      "\t=>verb:    ['retrieve', 'identify', 'determine', 'get', 'communicate with', 'read', 'load', 'give', 'obtain', 'create', 'request', 'find', 'search for', 'return', 'gather', 'look', 'set', 'clear', 'write', 'update', 'add', 'attach', 'instantiate', 'manipulate', 'set up', 'change', 'share']          \n",
      "\t=>verb:    from manpage 25, from report 2          \n",
      "\t=>rule:    from manpage 49, from report 6\n",
      "\tINFO_GET     has 22 uq syscalls & 18 uq verbs\n",
      "\tINFO_SET     has  9 uq syscalls & 12 uq verbs\n",
      "\n",
      "EntityType: MEM    has 26 rules | 21 uq_syscalls | 13 uq_verbs |  1 actionType          \n",
      "\t=>syscall: ['arch_prctl()', 'brk()', 'futex()', 'get_mempolicy()', 'mbind()', 'membarrier()', 'mlock()', 'mlock2()', 'mlockall()', 'mprotect()', 'mremap()', 'munlock()', 'munlockall()', 'pkey_mprotect()', 'set_mempolicy()', 'set_robust_list()', 'set_thread_area()', 'set_tid_address()', 'shmat()', 'shmdt()', 'shmget()']          \n",
      "\t=>verb:    ['set', 'change', 'wait', 'wake', 'lock', 'retrieve', 'issue', 'remap', 'expand', 'unlock', 'attach', 'detach', 'allocate']          \n",
      "\t=>verb:    from manpage 13, from report 0          \n",
      "\t=>rule:    from manpage 26, from report 0\n",
      "\tMEM          has 21 uq syscalls & 13 uq verbs\n",
      "\n",
      "EntityType: NET    has 69 rules | 28 uq_syscalls | 27 uq_verbs |  4 actionType          \n",
      "\t=>syscall: ['mq_unlink()', 'shutdown()', 'accept()', 'accept4()', 'bind()', 'connect()', 'mq_notify()', 'mq_open()', 'pipe()', 'pipe2()', 'socket()', 'socketpair()', 'getpeername()', 'getsockname()', 'getsockopt()', 'mq_getsetattr()', 'setsockopt()', 'listen()', 'mq_timedreceive()', 'mq_timedsend()', 'recv()', 'recvfrom()', 'recvmmsg()', 'recvmsg()', 'send()', 'sendmmsg()', 'sendmsg()', 'sendto()']          \n",
      "\t=>verb:    ['remove', 'shut down', 'creates', 'accept', 'assign', 'bind', 'hook', 'initiate', 'connect', 'unregister for', 'register for', 'open', 'create', 'get', 'manipulate', 'modify', 'retrieve', 'set', 'listen for', 'receive', 'send', 'communicate', 'download', 'wget', 'curl', 'transfer', 'transmit']          \n",
      "\t=>verb:    from manpage 21, from report 6          \n",
      "\t=>rule:    from manpage 40, from report 29\n",
      "\tNET_CLOSE    has  2 uq syscalls &  2 uq verbs\n",
      "\tNET_CONNECT  has 10 uq syscalls & 11 uq verbs\n",
      "\tNET_OPTION   has  5 uq syscalls &  5 uq verbs\n",
      "\tNET_TRANSMIT has 11 uq syscalls &  9 uq verbs\n",
      "\n",
      "EntityType: PROC   has 182 rules | 98 uq_syscalls | 79 uq_verbs | 10 actionType          \n",
      "\t=>syscall: ['msgctl()', 'msgrcv()', 'msgsnd()', 'rt_sigqueueinfo()', 'rt_tgsigqueueinfo()', 'semctl()', 'semop()', 'semtimedop()', 'signal()', 'socketcall()', 'splice()', 'vmsplice()', 'rt_sigaction()', 'rt_sigpending()', 'rt_sigprocmask()', 'sigaction()', 'sigpending()', 'sigprocmask()', 'clone()', 'execve()', 'execveat()', 'fork()', 'nfsservctl()', 'personality()', 'restart_syscall()', 'syscall()', 'unshare()', 'vfork()', 'vhangup()', 'getrandom()', 'query_module()', 'rt_sigreturn()', 'sched_rr_get_interval()', 'sigreturn()', 'timer_getoverrun()', 'exit()', 'exit_group()', 'kill()', 'tgkill()', 'tkill()', 'delete_module()', 'finit_module()', 'init_module()', 'uselib()', 'bdflush()', 'bpf()', 'cacheflush()', 'create_module()', 'kcmp()', 'migrate_pages()', 'mincore()', 'move_pages()', 'nanosleep()', 'pkey_alloc()', 'pkey_free()', 'prctl()', 'process_vm_readv()', 'process_vm_writev()', 'reboot()', 'sched_yield()', 'seccomp()', 'timer_create()', 'timer_delete()', 'timer_gettime()', 'vm86()', 'alarm()', 'capget()', 'capset()', 'get_robust_list()', 'get_thread_area()', 'getitimer()', 'ioprio_get()', 'ioprio_set()', 'nice()', 'sched_getaffinity()', 'sched_getattr()', 'sched_getparam()', 'sched_getscheduler()', 'sched_setaffinity()', 'sched_setattr()', 'sched_setparam()', 'sched_setscheduler()', 'setitimer()', 'setns()', 'sgetmask()', 'sigaltstack()', 'ssetmask()', 'timer_settime()', 'ptrace()', 'clock_nanosleep()', 'idle()', 'pause()', 'rt_sigsuspend()', 'rt_sigtimedwait()', 'sigsuspend()', 'wait4()', 'waitid()', 'waitpid()']          \n",
      "\t=>verb:    ['control', 'operate', 'send', 'receive', 'queue', 'perform', 'handle', 'provide', 'splice', 'move', 'examine', 'change', 'fetch', 'create', 'use', 'call', 'spawn', 'fork', 'install', 'add', 'start', 'execute', 'set', 'restart', 'invoke', 'disassociate', 'block', 'arrange', 'hangup', 'obtain', 'fill', 'request', 'query', 'return', 'get', 'write into', 'terminate', 'exit', 'kill', 'end', 'send signal', 'unload', 'remove', 'load', 'flush', 'tune', 'compare', 'check', 'determine', 'suspend', 'sleep', 'allocate', 'free', 'transfer', 'enable', 'disable', 'reboot', 'yield', 'cause', 'operate on', 'delete', 'enter', 'arrange for', 'manipulate', 'store', 'place', 'write', 'retrieve', 'reassociate', 'define', 'disarm', 'arm', 'observe', 'trace', 'lower', 'make', 'mark', 'wait for', 'replace']          \n",
      "\t=>verb:    from manpage 71, from report 8          \n",
      "\t=>rule:    from manpage 145, from report 37\n",
      "\tPROC_COMM    has 12 uq syscalls & 10 uq verbs\n",
      "\tPROC_EXAM    has  6 uq syscalls &  3 uq verbs\n",
      "\tPROC_EXE     has 11 uq syscalls & 18 uq verbs\n",
      "\tPROC_GET     has  6 uq syscalls &  7 uq verbs\n",
      "\tPROC_KILL    has  5 uq syscalls &  6 uq verbs\n",
      "\tPROC_LOAD    has  4 uq syscalls &  3 uq verbs\n",
      "\tPROC_OTHER   has 21 uq syscalls & 24 uq verbs\n",
      "\tPROC_SET     has 23 uq syscalls & 14 uq verbs\n",
      "\tPROC_TRACE   has  1 uq syscalls &  5 uq verbs\n",
      "\tPROC_WAIT    has  9 uq syscalls &  8 uq verbs\n",
      "\n",
      "EntityType: TIME   has 15 rules | 12 uq_syscalls |  7 uq_verbs |  2 actionType          \n",
      "\t=>syscall: ['clock_getres()', 'clock_gettime()', 'ftime()', 'gettimeofday()', 'profil()', 'time()', 'times()', 'adjtimex()', 'clock_adjtime()', 'clock_settime()', 'settimeofday()', 'stime()']          \n",
      "\t=>verb:    ['get', 'set', 'return', 'find out', 'execute', 'tune', 'retrieve']          \n",
      "\t=>verb:    from manpage 7, from report 0          \n",
      "\t=>rule:    from manpage 15, from report 0\n",
      "\tTIME_GET     has  7 uq syscalls &  5 uq verbs\n",
      "\tTIME_SET     has  5 uq syscalls &  3 uq verbs\n",
      "\n",
      "ttl_lenRule_manpage: 568\n"
     ]
    }
   ],
   "source": [
    "printDetail = False #True\n",
    "entityType_lst = df['EntityType'].unique()\n",
    "lenSyscall = len(df['Syscall'].unique())\n",
    "lenEnVerb = len(df['EnVerb'].unique())\n",
    "print(f\"Total rules: {len(df)}, EntityType: {df['EntityType'].unique()}\")\n",
    "print(f\"For total {lenSyscall:2} uq syscalls & {lenEnVerb:2} uq verbs\\n\")\n",
    "ttl_lenRule_manpage = 0\n",
    "\n",
    "for entityType in entityType_lst:\n",
    "    dataFileType = df[df['EntityType'] == entityType]\n",
    "    lenEnTp = len(dataFileType)\n",
    "    lenSyscall = len(dataFileType['Syscall'].unique())\n",
    "    lenEnVerb = len(dataFileType['EnVerb'].unique())\n",
    "    actionType_lst = dataFileType['ActionType'].unique()\n",
    "    lenEnVerb_manpage = len(dataFileType[dataFileType['Source'] == 'man']['EnVerb'].unique())\n",
    "    lenEnVerb_report = lenEnVerb - lenEnVerb_manpage\n",
    "    lenRule_manpage = len(dataFileType[dataFileType['Source'] == 'man'])\n",
    "    lenRule_report = len(dataFileType) - lenRule_manpage\n",
    "    ttl_lenRule_manpage += lenRule_manpage\n",
    "\n",
    "    # print(dataFileType.index, len(dataFileType.index))\n",
    "\n",
    "    print(f\"EntityType: {entityType:<6} has {len(dataFileType):2} rules | {lenSyscall:2} uq_syscalls | {lenEnVerb:2} uq_verbs | {len(actionType_lst):2} actionType\\\n",
    "          \\n\\t=>syscall: {list(dataFileType['Syscall'].unique())}\\\n",
    "          \\n\\t=>verb:    {list(dataFileType['EnVerb'].unique())}\\\n",
    "          \\n\\t=>verb:    from manpage {lenEnVerb_manpage}, from report {lenEnVerb_report}\\\n",
    "          \\n\\t=>rule:    from manpage {lenRule_manpage}, from report {lenRule_report}\")\n",
    "\n",
    "    for actionType in actionType_lst:\n",
    "        dataActionType = dataFileType[dataFileType['ActionType'] == actionType]\n",
    "        lenSyscall = len(dataActionType['Syscall'].unique())\n",
    "        lenEnVerb = len(dataActionType['EnVerb'].unique())\n",
    "\n",
    "        if printDetail:\n",
    "            print(f\"\\t{actionType:<12} has {lenSyscall:2} uq syscalls & {lenEnVerb:2} uq verbs\\\n",
    "    {list(dataActionType['Syscall'].unique())} {list(dataActionType['EnVerb'].unique())}\")\n",
    "        else:\n",
    "            print(f\"\\t{actionType:<12} has {lenSyscall:2} uq syscalls & {lenEnVerb:2} uq verbs\")\n",
    "\n",
    "    print()\n",
    "\n",
    "print('ttl_lenRule_manpage:', ttl_lenRule_manpage)\n"
   ]
  },
  {
   "cell_type": "code",
   "execution_count": 10,
   "metadata": {},
   "outputs": [
    {
     "data": {
      "text/plain": [
       "583"
      ]
     },
     "execution_count": 10,
     "metadata": {},
     "output_type": "execute_result"
    }
   ],
   "source": [
    "# 42 + 37 + 1 + 6 + 29 = 115\n",
    "# 368*1 + 23*2 + 4*3 = 426\n",
    "# 97*1 + 17*2 + 6*3 + 4*2 = 157\n",
    "426 + 157"
   ]
  },
  {
   "attachments": {},
   "cell_type": "markdown",
   "metadata": {},
   "source": [
    "### 動詞過濾 除去非動詞的 action word\n",
    "- https://spacy.io/usage/linguistic-features\n",
    "- https://machinelearningknowledge.ai/tutorial-on-spacy-part-of-speech-pos-tagging/\n",
    "- 由於 pos 標籤一次只能貼上一個，所以有些詞會被誤標成名詞，如 name, hook, format。反而有些不該是動詞的單字被標籤上動詞，如 resolv.conf, m6_6n3。\n",
    "- 經由這段測試，推薦自建黑名單剔除誤判成動詞的單字。"
   ]
  },
  {
   "cell_type": "code",
   "execution_count": 8,
   "metadata": {},
   "outputs": [
    {
     "name": "stdout",
     "output_type": "stream",
     "text": [
      "hardcode NOUN NN\n",
      "format NOUN NN\n",
      "name NOUN NN\n",
      "se X FW\n",
      "hook NOUN NN\n",
      "se X FW\n",
      "======\n",
      "resolv.conf VERB VB\n",
      "wget VERB VB\n",
      "m6_6n3 VERB VB\n",
      "se X FW\n"
     ]
    }
   ],
   "source": [
    "import spacy\n",
    "\n",
    "oov_verbs = convertion_df['verb_origin']\n",
    "none_verb_lst = [\"resolv.conf\", \"wget\", \"m6_6n3\", \"se\"] # wget 可以接受\n",
    "\n",
    "nlp = spacy.load(\"en_core_web_sm\")\n",
    "for v in oov_verbs:\n",
    "    doc = nlp(v)\n",
    "    for token in doc:\n",
    "        if token.pos_ != 'VERB':\n",
    "            print(token.text, token.pos_, token.tag_) # ex: modify VERB VB\n",
    "        # print(token.text, token.lemma_, token.pos_, token.tag_, token.dep_,\n",
    "        #         token.shape_, token.is_alpha, token.is_stop)\n",
    "\n",
    "print(\"======\")\n",
    "for v in none_verb_lst:\n",
    "    doc = nlp(v)\n",
    "    for token in doc:\n",
    "        print(token.text, token.pos_, token.tag_)\n"
   ]
  },
  {
   "attachments": {},
   "cell_type": "markdown",
   "metadata": {},
   "source": [
    "### 查看哪些 Syscall 未包含在 Rule 中"
   ]
  },
  {
   "cell_type": "code",
   "execution_count": 26,
   "metadata": {},
   "outputs": [
    {
     "name": "stdout",
     "output_type": "stream",
     "text": [
      "path is correct: True\n"
     ]
    }
   ],
   "source": [
    "# Load Malware Sample ASG\n",
    "# import re\n",
    "import os\n",
    "# from os import listdir\n",
    "# from os.path import isfile, join\n",
    "# from pathlib import Path\n",
    "# import pandas as pd\n",
    "# import pickle\n",
    "from IPython.display import display\n",
    "\n",
    "''' 自己寫的模組 '''\n",
    "from Exp4_autore.ASG import AttackGraph, Node, Edge, FileTable #, build\n",
    "\n",
    "family = 'GafGyt' # Darlloz\n",
    "samplename = '933e9eff97f50b196b2bb0fef499640e' # dfeb77cb0ba28ac3ba4be55d7bc91fad\n",
    "trace_path = f\"../C ASG/trace/{family}/{samplename}.bin\"\n",
    "print(\"path is correct:\", os.path.exists(trace_path))\n",
    "asg = AttackGraph(trace_path)\n",
    "asg.create()"
   ]
  },
  {
   "cell_type": "code",
   "execution_count": 30,
   "metadata": {},
   "outputs": [
    {
     "name": "stdout",
     "output_type": "stream",
     "text": [
      "['open', 'kill', 'fork'] num of unique syscalls: 15\n"
     ]
    }
   ],
   "source": [
    "syscalls_in_asg = {step[2] for step in asg.step_list}\n",
    "print(list(syscalls_in_asg)[:3], 'num of unique syscalls:', len(syscalls_in_asg))"
   ]
  },
  {
   "cell_type": "code",
   "execution_count": 31,
   "metadata": {},
   "outputs": [],
   "source": [
    "tmp = df\n",
    "tmp['Syscall'] = df['Syscall'].apply(clean_braces)\n",
    "syscalls_in_rule = tmp['Syscall'].unique()\n",
    "for asg_sy in syscalls_in_asg:\n",
    "    if asg_sy not in syscalls_in_rule:\n",
    "        print(asg_sy)"
   ]
  }
 ],
 "metadata": {
  "kernelspec": {
   "display_name": "py3_8",
   "language": "python",
   "name": "python3"
  },
  "language_info": {
   "codemirror_mode": {
    "name": "ipython",
    "version": 3
   },
   "file_extension": ".py",
   "mimetype": "text/x-python",
   "name": "python",
   "nbconvert_exporter": "python",
   "pygments_lexer": "ipython3",
   "version": "3.10.5"
  },
  "orig_nbformat": 4
 },
 "nbformat": 4,
 "nbformat_minor": 2
}
