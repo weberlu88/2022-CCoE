{
 "cells": [
  {
   "cell_type": "code",
   "execution_count": 1,
   "metadata": {},
   "outputs": [],
   "source": [
    "import re\n",
    "import os\n",
    "from os import listdir\n",
    "from os.path import isfile, join\n",
    "from pathlib import Path\n",
    "import pandas as pd\n",
    "import pickle\n",
    "from typing import Dict, List, get_type_hints\n",
    "from styleframe import StyleFrame, Styler\n",
    "from IPython.display import display\n",
    "\n",
    "''' 自己寫的模組 '''\n",
    "from cc_regex_script import RegexMatchResult, RegexMaster \n",
    "from cc_nlp_script import find_verb_of_vocab, OperationMode, OperationEvaluator\n",
    "from cc_module_cust import AttackGraph, Node, Edge, FileTable #, build"
   ]
  },
  {
   "cell_type": "markdown",
   "metadata": {},
   "source": [
    "### Load 所有 Dofloo 的 object，計算並儲存其 regex"
   ]
  },
  {
   "cell_type": "code",
   "execution_count": 2,
   "metadata": {},
   "outputs": [
    {
     "name": "stdout",
     "output_type": "stream",
     "text": [
      "family Xorddos has numOfSample 21, first is 07c070b717a23453a2b71c7582d6a928\n",
      "samplename: ['0aefb67c01a24d05351b093455203fa2']\n"
     ]
    }
   ],
   "source": [
    "family = 'Xorddos' # Dofloo Xorddos\n",
    "\n",
    "sample_info = pd.read_csv('../../C malware info/sample_info.csv')\n",
    "dofloo_info = sample_info[(sample_info['family'] == family) & \n",
    "            (~sample_info['filename'].isin(['8845355172c485813872f1bb1834de15.bin']))]\n",
    "samplename_lst = dofloo_info['filename'].to_list()\n",
    "samplename_lst = [name.split('.')[0] for name in samplename_lst]\n",
    "print(f\"family {family} has numOfSample {len(samplename_lst)}, first is {samplename_lst[0]}\")\n",
    "\n",
    "if family == 'Dofloo':\n",
    "    samplename_lst = ['0046a78514a658b9b7a4e29e8581f85b'] # 只先使用這個 dof sample\n",
    "if family == 'Xorddos':\n",
    "    samplename_lst = ['0aefb67c01a24d05351b093455203fa2'] # 只先使用這個 xor sample\n",
    "\n",
    "print('samplename:', samplename_lst)"
   ]
  },
  {
   "cell_type": "code",
   "execution_count": 3,
   "metadata": {},
   "outputs": [
    {
     "name": "stdout",
     "output_type": "stream",
     "text": [
      "True\n",
      "{<OP act=a, obj=a>}\n"
     ]
    },
    {
     "name": "stderr",
     "output_type": "stream",
     "text": [
      "<>:23: DeprecationWarning:invalid escape sequence '\\s'\n",
      "<>:23: DeprecationWarning:invalid escape sequence '\\s'\n",
      "C:\\Users\\luweb\\AppData\\Local\\Temp\\ipykernel_3688\\1514683367.py:23: DeprecationWarning:invalid escape sequence '\\s'\n"
     ]
    }
   ],
   "source": [
    "def prettifyName(item:str) -> str:\n",
    "    pretty_name = {\n",
    "        r\"\\d{1,3}\\.\\d{1,3}\\.\\d{1,3}\\.\\d{1,3}\": \"ip_addr\",\n",
    "        r\"\\d{1,3}\\.\\d{1,3}\\.\\d{1,3}\\.\\d{1,3}:\\d+\": \"ip_addr+port\",\n",
    "        r\"0x[0-9a-zA-Z]{8}\": \"mem_addr\",\n",
    "        r\"permission:{0,1}[0-9]{0,4}\": \"permission_id\"\n",
    "    }\n",
    "    changed = pretty_name.get(item, None)\n",
    "    if changed:\n",
    "        return changed\n",
    "    return item\n",
    "\n",
    "def get_object_type(objReg: str) -> str:\n",
    "    ''' temp function, put in cc_regex_scrpt '''\n",
    "    if objReg in [r\"\\d{1,3}\\.\\d{1,3}\\.\\d{1,3}\\.\\d{1,3}\", \n",
    "                r\"[a-zA-z]:\\d{1,5}$\", r\"port \\d{1,5}$\",\n",
    "                r\"\\d{1,3}\\.\\d{1,3}\\.\\d{1,3}\\.\\d{1,3}:\\d{1,5}$\", \"eth[0-9]$\"]:\n",
    "        return 'NET'\n",
    "    if objReg in [\"0x[0-9a-zA-Z]{8}\"]:\n",
    "        return 'MEM'\n",
    "    if objReg in [\"^sed$\", \"^sh$\", \"^chkconfig$\", \"^systemctl$\", \"update-rc.d\", \"/boot/[a-z]{10}\",r\"^pipe(\\$|\\.|$)\"]:\n",
    "        return 'PROC'\n",
    "    if objReg in [r\"UID(\\$|\\.|$)\", r\"GID(\\$|\\.|$)\", \"UID\", \"GID\", \"permission(\\s|:)[0-9]{1,4}\"]:\n",
    "        return 'INFO'\n",
    "    return 'FILE'\n",
    "\n",
    "class OperationPair:\n",
    "    SYSCALL = 0\n",
    "    VERB = 1\n",
    "\n",
    "    def __init__(self, action:str, object:str, type:int=0, subject:str=None, step_number:int=None \\\n",
    "                 , original_object=None, original_sentence=None, object_type=None):\n",
    "        self.object:str = object # regex\n",
    "        self.action:str = action # verb or syscall\n",
    "        self.type:int = type # action type\n",
    "        self.object_type:str = object_type # FILE, NET, PROC, MEM, INFO\n",
    "        self.subject:str = subject\n",
    "        self.step_number:int = step_number\n",
    "        self.original_object:str = original_object # can store original matched word (object) from CTD\n",
    "        self.original_sentence:str = original_sentence # can store the mathced sentence\n",
    "        pass\n",
    "\n",
    "    def __eq__(self, other): \n",
    "        if not isinstance(other, OperationPair):\n",
    "            # don't attempt to compare against unrelated types\n",
    "            return NotImplemented\n",
    "        # Same if <action, object> pair is same (type is not consider yet)\n",
    "        return self.action == other.action and self.object == other.object\n",
    "\n",
    "    def __hash__(self) -> int:\n",
    "        # necessary for instances to behave sanely in dicts and sets.\n",
    "        return hash((self.action, self.object))\n",
    "\n",
    "    def __str__(self) -> str:\n",
    "        if self.step_number:\n",
    "            return f\"<OP{self.step_number:>2} act={self.action}, obj={prettifyName(self.object)}>\"\n",
    "        return f\"<OP act={self.action}, obj={prettifyName(self.object)}>\"\n",
    "    def __repr__(self) -> str:\n",
    "        return str(self)\n",
    "    def getSentStr(self) -> str:\n",
    "        '''return string contains original_object & flat_sentence'''\n",
    "        flat_sentence = \" \".join(self.original_sentence.splitlines())\n",
    "        return f\"<OP{self.step_number:>2} act={self.action}, obj={prettifyName(self.original_object)}, sent={flat_sentence}>\"\n",
    "        \n",
    "# test case\n",
    "p_aa = OperationPair('a','a')\n",
    "p_aaz = OperationPair('a','a')\n",
    "p_ab = OperationPair('a','b')\n",
    "\n",
    "print(p_aa == p_aaz) # True\n",
    "print(set([p_aa, p_aaz])) # one element\n",
    "\n",
    "def construct_sample_OPset(step_list: list, keep_src_node=False, debug=False, rt_order=True) -> set:\n",
    "    '''return a list of OPset. RegexMaster and family are gobal variable.'''\n",
    "    if debug:\n",
    "        print('step_list len:', len(set(step_list)))\n",
    "    OPlst_raw = list((src_node.name, dst_node.name, syscall) for (src_node, dst_node, syscall) in step_list) # object is raw\n",
    "    OPset_raw = list(dict.fromkeys(OPlst_raw))\n",
    "    if debug:\n",
    "        print('OPlst_raw len:', len(OPlst_raw)) # why len is 123100? (while step_list len is 7775) (must be equal)\n",
    "        print(f\"OPlst_raw: {OPlst_raw[:10]}\")\n",
    "        print('OPset_raw len:', len(OPset_raw)) # len is 5925 for xor\n",
    "        print(f\"OPset_raw: {OPset_raw[:10]}\")\n",
    "    regexMaster = RegexMaster(familyname=family)\n",
    "    regex_pool = regexMaster.get_all_regex()\n",
    "    OPset = set()\n",
    "    OPset_ordered = list()\n",
    "    for (src_node, dst_node, syscall) in OPset_raw:\n",
    "        regex_dst_node_list = RegexMaster.find_spacial_token_with_regex(regex_pool, dst_node)\n",
    "        if regex_dst_node_list is None or len(regex_dst_node_list) == 0:\n",
    "            continue\n",
    "        for regex_result in regex_dst_node_list:\n",
    "            dst_node = regex_result.match_regex\n",
    "            step_number = len(OPset) + 1\n",
    "            if keep_src_node:\n",
    "                op = OperationPair(syscall, dst_node, subject=src_node, step_number=step_number)\n",
    "                OPset.add(op) # keep src_node in OP\n",
    "                if op not in OPset_ordered:\n",
    "                    OPset_ordered.append(op)\n",
    "            else:\n",
    "                op = OperationPair(syscall, dst_node, step_number=step_number)\n",
    "                OPset.add(op) # only dst_node, syscall in OP\n",
    "                if op not in OPset_ordered:\n",
    "                    OPset_ordered.append(op)\n",
    "    if debug:\n",
    "        print('OPset len:', len(OPset), 'OPset_ordered len:', len(OPset_ordered))\n",
    "    if rt_order:\n",
    "        return OPset, OPset_ordered\n",
    "    return OPset\n",
    "\n",
    "# def construct_sample_stepList(step_list: list, keep_src_node=False, debug=False) -> list:\n",
    "#     ''''''\n",
    "#     pass\n",
    "\n",
    "# test\n",
    "# sample_OPset = construct_sample_OPset(asg.step_list, debug=True)"
   ]
  },
  {
   "cell_type": "code",
   "execution_count": 4,
   "metadata": {},
   "outputs": [
    {
     "name": "stdout",
     "output_type": "stream",
     "text": [
      "Exam: sample S1 matches 31 of regex\n",
      "Size of regex_pool: 31, size of total_used_regex: 0\n"
     ]
    }
   ],
   "source": [
    "class Sample:\n",
    "    def __init__(self, samplename:str, regex_set:set=None, special_token_dict=None, step_list=None) -> None:\n",
    "        self.samplename: str = samplename\n",
    "        self.regex_set: set = set()\n",
    "        if regex_set:\n",
    "            self.regex_set = regex_set\n",
    "        self.special_token_dict = {}\n",
    "        if special_token_dict:\n",
    "            self.special_token_dict: dict = special_token_dict # list of dict\n",
    "        if step_list:\n",
    "            self.step_list = step_list\n",
    "            OPset, OPset_ordered = construct_sample_OPset(step_list)\n",
    "            self.OPset: set[OperationPair] = OPset\n",
    "            self.OPset_ordered: list[OperationPair] = OPset_ordered # 依照出現順序排序的 OPset (元素相同順序不同)\n",
    "            self.OPset_sysOnly_ordered = [] # 尚未初始化 只儲存改變系統狀態的 OP 的物件\n",
    "            self.OPset_sysOnly_ordered_index = [] # 尚未初始化 只儲存改變系統狀態的 OP 的 index\n",
    "            del OPset, OPset_ordered\n",
    "        pass\n",
    "    def __repr__(self) -> str:\n",
    "        return f\"<Sample self.samplename>\"\n",
    "\n",
    "''' 讀取 ASG 中的 set_of_object (就是這個樣本的 special_token_dict)，並歸納樣本的 regex_set '''\n",
    "regexMaster = RegexMaster(familyname=family)\n",
    "regex_pool = regexMaster.get_all_regex()\n",
    "# total_used_regex = set()\n",
    "samples: list[Sample] = []\n",
    "for samplename in samplename_lst:\n",
    "    with open(f'../../C ASG statistics 1115ver/saved_pkl/{family}/{samplename}.pkl', 'rb') as inp:\n",
    "        asg: AttackGraph = pickle.load(inp) # asg.set_of_object is dict() (key:spacial token, value: type 首字大寫)\n",
    "        sample = Sample(samplename, special_token_dict=asg.set_of_object, step_list=asg.step_list)\n",
    "        sample.regex_set = set(regex_pool) # 直接使用志剛寫的作為這個樣本的 baseline\n",
    "        # for obj in sample.special_token_dict.keys():\n",
    "        #     matched_list: list[RegexMatchResult] = regexMaster.find_spacial_token(obj)\n",
    "        #     if matched_list:\n",
    "        #         # print(obj, matched_list)\n",
    "        #         [sample.regex_set.add(m.match_regex) for m in matched_list]\n",
    "        #         # [total_used_regex.add(m.match_regex) for m in matched_list]\n",
    "        # print('------', sample.regex_set)\n",
    "        # break\n",
    "        samples.append(sample)\n",
    "    # del asg\n",
    "print(f'Exam: sample S1 matches {len(samples[0].regex_set)} of regex')\n",
    "print(f'Size of regex_pool: {len(regex_pool)}, size of total_used_regex: {len(regexMaster.used_regex_set)}')"
   ]
  },
  {
   "cell_type": "code",
   "execution_count": 5,
   "metadata": {},
   "outputs": [
    {
     "data": {
      "text/plain": [
       "set()"
      ]
     },
     "execution_count": 5,
     "metadata": {},
     "output_type": "execute_result"
    }
   ],
   "source": [
    "# 只差這四個不在 asg set_of_object 中 {'0x[0-9a-zA-Z]{8}', 'GID', 'UID', 'port \\\\d{1,5}$'}\n",
    "set(regex_pool) - samples[0].regex_set"
   ]
  },
  {
   "cell_type": "code",
   "execution_count": 6,
   "metadata": {},
   "outputs": [
    {
     "data": {
      "text/plain": [
       "' Save result to txt file 沒事不要 run ! '"
      ]
     },
     "execution_count": 6,
     "metadata": {},
     "output_type": "execute_result"
    }
   ],
   "source": [
    "''' Save result to txt file 沒事不要 run ! '''\n",
    "# total_regex = set()\n",
    "# with open('./result/countof_regexset.txt', 'w', encoding='utf-8') as opf:\n",
    "#     # header\n",
    "#     opf.write('{:12s}'.format('Sample no.'))\n",
    "#     for i in range(len(samples)):\n",
    "#         if i+1 < 10:\n",
    "#             opf.write(f' S{i+1} ')\n",
    "#         else:\n",
    "#             opf.write(f'S{i+1} ')\n",
    "#     opf.write('\\n')\n",
    "#     # opf.write('{:12s}'.format('# of regex'))\n",
    "#     num_of_regex_string = '{:12s}'.format('# of regex')\n",
    "#     num_of_objects_string = '{:12s}'.format('# of object ') # 所有的類別喔! 無過濾\n",
    "#     for i in range(len(samples)):\n",
    "#         # opf.write(f'{len(samples[i].regex_set):>3} ')\n",
    "#         num_of_regex_string += f'{len(samples[i].regex_set):>3} '\n",
    "#         num_of_objects_string += f'{len(samples[i].special_token_dict):>3} '\n",
    "#     opf.write(num_of_objects_string+'\\n')\n",
    "#     opf.write(num_of_regex_string)\n",
    "#     opf.write('\\n{:12s}'.format('Sample hash'))\n",
    "#     for i in range(len(samples)):\n",
    "#         opf.write(f'{samples[i].samplename[:3]:>3} ')\n",
    "#     opf.write('\\n\\n')\n",
    "#     opf.write(f'Size of regex_pool: {len(regex_pool)}, size of total_used_regex: {len(regexMaster.used_regex_set)}\\n\\n')\n",
    "\n",
    "#     # content of each sample\n",
    "#     for i,s in enumerate(samples):\n",
    "#         content_1 = f\"S{i+1} has {len(s.regex_set)} of regex\\n\"\n",
    "#         content_2 = f\"regex_set: {s.regex_set}\\n\"\n",
    "#         content_3 = f\"special_token_dict: {s.special_token_dict.keys()}\\n\"\n",
    "#         opf.writelines([content_1, content_2, content_3])\n",
    "#         opf.write('\\n\\n')"
   ]
  },
  {
   "cell_type": "markdown",
   "metadata": {},
   "source": [
    "### Load Reports"
   ]
  },
  {
   "cell_type": "code",
   "execution_count": 7,
   "metadata": {},
   "outputs": [
    {
     "data": {
      "text/plain": [
       "['Xorddos-Cdnetworks.csv',\n",
       " 'Xorddos-Crowdstrike.csv',\n",
       " 'Xorddos-Intezer.csv',\n",
       " 'Xorddos-Ms.csv',\n",
       " 'Xorddos-Trendmicro.csv',\n",
       " 'Xorddos-Trendmicro2.csv']"
      ]
     },
     "execution_count": 7,
     "metadata": {},
     "output_type": "execute_result"
    }
   ],
   "source": [
    "report_fir_path = '../../C parse report/sentence csvs/'\n",
    "# family, samplename, outputfolder = 'Xorddos', '???', './result'\n",
    "outputfolder = './result'\n",
    "\n",
    "def get_all_filenames(dir: str='./') -> list:\n",
    "    ''' traverse root directory, and list directories as dirs and files as files. Return filenames in rootdir. '''\n",
    "    files = [f for f in listdir(dir) if isfile(join(dir, f))]\n",
    "    files.sort()\n",
    "    return files\n",
    "\n",
    "xor_report_names = [f for f in get_all_filenames(report_fir_path) if f.startswith(family)] # 只選擇這個家族的報告\n",
    "xor_report_dfs = [pd.read_csv(f\"{report_fir_path}{f}\") for f in xor_report_names]\n",
    "xor_report_names"
   ]
  },
  {
   "cell_type": "code",
   "execution_count": 8,
   "metadata": {},
   "outputs": [
    {
     "data": {
      "text/html": [
       "<div>\n",
       "<style scoped>\n",
       "    .dataframe tbody tr th:only-of-type {\n",
       "        vertical-align: middle;\n",
       "    }\n",
       "\n",
       "    .dataframe tbody tr th {\n",
       "        vertical-align: top;\n",
       "    }\n",
       "\n",
       "    .dataframe thead th {\n",
       "        text-align: right;\n",
       "    }\n",
       "</style>\n",
       "<table border=\"1\" class=\"dataframe\">\n",
       "  <thead>\n",
       "    <tr style=\"text-align: right;\">\n",
       "      <th></th>\n",
       "      <th>Number</th>\n",
       "      <th>Content</th>\n",
       "    </tr>\n",
       "  </thead>\n",
       "  <tbody>\n",
       "    <tr>\n",
       "      <th>0</th>\n",
       "      <td>Sentence 1</td>\n",
       "      <td>understanding a xor.ddos attack\\n2月 17, 2021\\n...</td>\n",
       "    </tr>\n",
       "    <tr>\n",
       "      <th>1</th>\n",
       "      <td>Sentence 2</td>\n",
       "      <td>xor.ddos is the name of the malware, not the a...</td>\n",
       "    </tr>\n",
       "    <tr>\n",
       "      <th>2</th>\n",
       "      <td>Sentence 3</td>\n",
       "      <td>it was detected in september 2014 and the anal...</td>\n",
       "    </tr>\n",
       "    <tr>\n",
       "      <th>3</th>\n",
       "      <td>Sentence 4</td>\n",
       "      <td>is a distributed denial-of-service attack from...</td>\n",
       "    </tr>\n",
       "    <tr>\n",
       "      <th>4</th>\n",
       "      <td>Sentence 5</td>\n",
       "      <td>in many ways it is and in this guide, we will ...</td>\n",
       "    </tr>\n",
       "    <tr>\n",
       "      <th>5</th>\n",
       "      <td>Sentence 6</td>\n",
       "      <td>what is xor.ddos malware?</td>\n",
       "    </tr>\n",
       "    <tr>\n",
       "      <th>6</th>\n",
       "      <td>Sentence 7</td>\n",
       "      <td>the traditional attack utilized the existing v...</td>\n",
       "    </tr>\n",
       "    <tr>\n",
       "      <th>7</th>\n",
       "      <td>Sentence 8</td>\n",
       "      <td>however, xor.ddos makes windows pcs into zombi...</td>\n",
       "    </tr>\n",
       "    <tr>\n",
       "      <th>8</th>\n",
       "      <td>Sentence 9</td>\n",
       "      <td>the xor.ddos attack is used to defeat the netw...</td>\n",
       "    </tr>\n",
       "    <tr>\n",
       "      <th>9</th>\n",
       "      <td>Sentence 10</td>\n",
       "      <td>this is a very serious threat to the network b...</td>\n",
       "    </tr>\n",
       "    <tr>\n",
       "      <th>10</th>\n",
       "      <td>Sentence 11</td>\n",
       "      <td>in addition to these primary targets, the udp ...</td>\n",
       "    </tr>\n",
       "    <tr>\n",
       "      <th>11</th>\n",
       "      <td>Sentence 12</td>\n",
       "      <td>however, the xor.ddos attack uses the tcp, whi...</td>\n",
       "    </tr>\n",
       "    <tr>\n",
       "      <th>12</th>\n",
       "      <td>Sentence 13</td>\n",
       "      <td>a brute force attack tries many random passwor...</td>\n",
       "    </tr>\n",
       "    <tr>\n",
       "      <th>13</th>\n",
       "      <td>Sentence 14</td>\n",
       "      <td>there are various types of brute force attacks...</td>\n",
       "    </tr>\n",
       "    <tr>\n",
       "      <th>14</th>\n",
       "      <td>Sentence 15</td>\n",
       "      <td>origin of xor.ddos attacks\\n77.1 % of xor.ddos...</td>\n",
       "    </tr>\n",
       "    <tr>\n",
       "      <th>15</th>\n",
       "      <td>Sentence 16</td>\n",
       "      <td>many large-scale cloud service providers were ...</td>\n",
       "    </tr>\n",
       "    <tr>\n",
       "      <th>16</th>\n",
       "      <td>Sentence 17</td>\n",
       "      <td>in addition, as ssh services (22/tcp) are bein...</td>\n",
       "    </tr>\n",
       "    <tr>\n",
       "      <th>17</th>\n",
       "      <td>Sentence 18</td>\n",
       "      <td>countermeasures against xor.ddos attacks\\nthe ...</td>\n",
       "    </tr>\n",
       "    <tr>\n",
       "      <th>18</th>\n",
       "      <td>Sentence 19</td>\n",
       "      <td>syn is just a process to perform a 3-way hands...</td>\n",
       "    </tr>\n",
       "    <tr>\n",
       "      <th>19</th>\n",
       "      <td>Sentence 20</td>\n",
       "      <td>if syn packets with data are detected, the xor...</td>\n",
       "    </tr>\n",
       "    <tr>\n",
       "      <th>20</th>\n",
       "      <td>Sentence 21</td>\n",
       "      <td>in addition, it is good to use a syn cookie ag...</td>\n",
       "    </tr>\n",
       "    <tr>\n",
       "      <th>21</th>\n",
       "      <td>Sentence 22</td>\n",
       "      <td>the syn cookie blocks syn spoofing effectively...</td>\n",
       "    </tr>\n",
       "    <tr>\n",
       "      <th>22</th>\n",
       "      <td>Sentence 23</td>\n",
       "      <td>the syn cookie does not require a certain time...</td>\n",
       "    </tr>\n",
       "    <tr>\n",
       "      <th>23</th>\n",
       "      <td>Sentence 24</td>\n",
       "      <td>therefore, the syn cookie is a very effective ...</td>\n",
       "    </tr>\n",
       "    <tr>\n",
       "      <th>24</th>\n",
       "      <td>Sentence 25</td>\n",
       "      <td>alternatively, first syn drop can be a second ...</td>\n",
       "    </tr>\n",
       "    <tr>\n",
       "      <th>25</th>\n",
       "      <td>Sentence 26</td>\n",
       "      <td>this technique works by saving the first syn p...</td>\n",
       "    </tr>\n",
       "    <tr>\n",
       "      <th>26</th>\n",
       "      <td>Sentence 27</td>\n",
       "      <td>if the session request is normal, the same ip ...</td>\n",
       "    </tr>\n",
       "    <tr>\n",
       "      <th>27</th>\n",
       "      <td>Sentence 28</td>\n",
       "      <td>if the request is made for attack, another syn...</td>\n",
       "    </tr>\n",
       "    <tr>\n",
       "      <th>28</th>\n",
       "      <td>Sentence 29</td>\n",
       "      <td>conclusion – get a ddos mitigation service\\na ...</td>\n",
       "    </tr>\n",
       "    <tr>\n",
       "      <th>29</th>\n",
       "      <td>Sentence 30</td>\n",
       "      <td>the content delivery network industry can prov...</td>\n",
       "    </tr>\n",
       "    <tr>\n",
       "      <th>30</th>\n",
       "      <td>Sentence 31</td>\n",
       "      <td>as the services are cloud-based, the available...</td>\n",
       "    </tr>\n",
       "    <tr>\n",
       "      <th>31</th>\n",
       "      <td>Sentence 32</td>\n",
       "      <td>with these services, most companies will benef...</td>\n",
       "    </tr>\n",
       "  </tbody>\n",
       "</table>\n",
       "</div>"
      ],
      "text/plain": [
       "         Number                                            Content\n",
       "0    Sentence 1  understanding a xor.ddos attack\\n2月 17, 2021\\n...\n",
       "1    Sentence 2  xor.ddos is the name of the malware, not the a...\n",
       "2    Sentence 3  it was detected in september 2014 and the anal...\n",
       "3    Sentence 4  is a distributed denial-of-service attack from...\n",
       "4    Sentence 5  in many ways it is and in this guide, we will ...\n",
       "5    Sentence 6                          what is xor.ddos malware?\n",
       "6    Sentence 7  the traditional attack utilized the existing v...\n",
       "7    Sentence 8  however, xor.ddos makes windows pcs into zombi...\n",
       "8    Sentence 9  the xor.ddos attack is used to defeat the netw...\n",
       "9   Sentence 10  this is a very serious threat to the network b...\n",
       "10  Sentence 11  in addition to these primary targets, the udp ...\n",
       "11  Sentence 12  however, the xor.ddos attack uses the tcp, whi...\n",
       "12  Sentence 13  a brute force attack tries many random passwor...\n",
       "13  Sentence 14  there are various types of brute force attacks...\n",
       "14  Sentence 15  origin of xor.ddos attacks\\n77.1 % of xor.ddos...\n",
       "15  Sentence 16  many large-scale cloud service providers were ...\n",
       "16  Sentence 17  in addition, as ssh services (22/tcp) are bein...\n",
       "17  Sentence 18  countermeasures against xor.ddos attacks\\nthe ...\n",
       "18  Sentence 19  syn is just a process to perform a 3-way hands...\n",
       "19  Sentence 20  if syn packets with data are detected, the xor...\n",
       "20  Sentence 21  in addition, it is good to use a syn cookie ag...\n",
       "21  Sentence 22  the syn cookie blocks syn spoofing effectively...\n",
       "22  Sentence 23  the syn cookie does not require a certain time...\n",
       "23  Sentence 24  therefore, the syn cookie is a very effective ...\n",
       "24  Sentence 25  alternatively, first syn drop can be a second ...\n",
       "25  Sentence 26  this technique works by saving the first syn p...\n",
       "26  Sentence 27  if the session request is normal, the same ip ...\n",
       "27  Sentence 28  if the request is made for attack, another syn...\n",
       "28  Sentence 29  conclusion – get a ddos mitigation service\\na ...\n",
       "29  Sentence 30  the content delivery network industry can prov...\n",
       "30  Sentence 31  as the services are cloud-based, the available...\n",
       "31  Sentence 32  with these services, most companies will benef..."
      ]
     },
     "execution_count": 8,
     "metadata": {},
     "output_type": "execute_result"
    }
   ],
   "source": [
    "xor_report_dfs[0]"
   ]
  },
  {
   "cell_type": "markdown",
   "metadata": {},
   "source": [
    "### 單篇文章的 Class 和 整個 Family 的 Class\n",
    "`baseline: Dict[str, list]` 改為 `regexMaster: RegexMaster`"
   ]
  },
  {
   "cell_type": "code",
   "execution_count": 9,
   "metadata": {},
   "outputs": [],
   "source": [
    "class ReportEvalModel:\n",
    "    def __init__(self, regex_set: set, sentences: pd.DataFrame, reportname:str=''):\n",
    "        self.regex_pool: set[str] = regex_set # 樣本or家族含有的 regex 集合\n",
    "        self.sentences = sentences # a df\n",
    "        self.reportname = reportname\n",
    "        cols = list(regex_pool)\n",
    "        self.match_tbl = pd.DataFrame([[0]*len(cols)]*len(sentences), columns=cols)\n",
    "        self.match_word:dict[(int,str), str] = dict() # key(idx_sent,regex) value(word:str)\n",
    "        self.match_regex = set()\n",
    "        self.doc_OPset:set[OperationPair] = set() # Set of doc's OperationalPair\n",
    "        self.match_doc_OPset:set[OperationPair] = set()\n",
    "        self.OPset_order_index = [] # 紀錄 ASG OP 的出現順序 (lifecycle)\n",
    "        self.SysOPset_order_index = [] # 只紀錄改變系統的\n",
    "        # self.asgSysOPset_order_index = []\n",
    "        # self.regexMaster = regexMaster # 其實應該用 class function 就不用傳入一個物件\n",
    "        self.match()\n",
    "\n",
    "    def match(self) -> None:\n",
    "        '''find baseline in sentences of report. Fill matching result in self.match_tbl.'''\n",
    "        sentence_list = self.sentences['Content']\n",
    "        for idx_sent, sent in enumerate(sentence_list):\n",
    "            # print(idx_sent, sent)\n",
    "            # find regexs in a sentence\n",
    "            matched_list: list[RegexMatchResult] = RegexMaster.find_spacial_token_with_regex(self.regex_pool, sent)\n",
    "            if not matched_list:\n",
    "                continue\n",
    "            for m in matched_list:\n",
    "                this_re = m.match_regex\n",
    "                matched_word = m.word\n",
    "                # print(matched_word, '|',sent[:10])\n",
    "                self.match_word[(idx_sent,this_re)] = m.word # 紀錄被 search 到的單字\n",
    "                # self.match_tbl.loc[idx_sent,this_re] = 1 # mark as found 節省空間\n",
    "                self.match_regex.add(this_re)\n",
    "                en_verb = find_verb_of_vocab(sent, m.word)\n",
    "                # print(f\"---\\nen_verb: {en_verb}, m.word: {m.word}, sent: {sent}\") # 列印所有動詞抓取情形\n",
    "                stepn = len(self.doc_OPset) + 1\n",
    "                # 如果 action 和 matched regex 相同，即使報告中object的原字串不同，也不會多計入。\n",
    "                if en_verb:\n",
    "                    self.doc_OPset.add(OperationPair(en_verb, this_re, type=OperationPair.VERB, original_object=m.word, \n",
    "                    step_number=stepn, original_sentence=sent, object_type=get_object_type(this_re))) # has verb\n",
    "                else:\n",
    "                    self.doc_OPset.add(OperationPair(None, this_re, type=OperationPair.VERB, original_object=m.word, \n",
    "                                                     step_number=stepn, object_type=get_object_type(this_re))) # no verb\n",
    "        pass\n",
    "    \n",
    "    def get_match_sentences(self) -> pd.DataFrame:\n",
    "        result = self.match_tbl.copy()\n",
    "        result['match'] = result.sum(axis=1)\n",
    "        return result\n",
    "    \n",
    "    def get_match_regexs(self) -> set:\n",
    "        return self.match_regex\n",
    "\n",
    "    def get_match_word(self, idx_sent:int, regex:str) -> str:\n",
    "        return self.match_word[(idx_sent, regex)]\n",
    "\n",
    "class FamilySet:\n",
    "    '''一個 malware family report 集合'''\n",
    "    def __init__(self, familyname:str, regexMaster: RegexMaster, sample: Sample=None):\n",
    "        self.familyname = familyname\n",
    "        self.regexMaster = regexMaster\n",
    "        self.num_of_used_regex = len(regexMaster.used_regex_set) # 這個家族含規則的總數量 (unoin by all samples)\n",
    "        self.sample = None\n",
    "        if sample:\n",
    "            self.sample = sample\n",
    "            self.num_of_used_regex = len(sample.regex_set) # 改以這個樣本規則的總數量為基準\n",
    "        self.rem_lst: List[ReportEvalModel] = [] # list of ReportEvalModel under this family\n",
    "        self.result_tbl = None\n",
    "\n",
    "    def add_rem(self, sentences: pd.DataFrame, reportname: str=''):\n",
    "        '''新增 report 到 FamilySet 中，需傳入文本和報告名稱，會沿用 FamilySet 的 baseline.'''\n",
    "        if self.sample:\n",
    "            rem = ReportEvalModel(list(self.sample.regex_set), sentences, reportname) # 基準是 Sample\n",
    "            self.rem_lst.append(rem)\n",
    "            return\n",
    "        rem = ReportEvalModel(self.regexMaster, sentences, reportname) # 基準是 Family union # need fix -> no first arg now\n",
    "        self.rem_lst.append(rem)\n",
    "\n",
    "    def calc_report_coverage_score(self, match_regexs: list[str], apply_weight=False) -> float:\n",
    "        '''計算這篇報告的 coverage_score，未處理分母為0之情形'''\n",
    "        if not apply_weight:\n",
    "            return len(match_regexs) / self.num_of_used_regex # 無權種的算法，分母是家族 wide\n",
    "        ''' 以下 有權重的算法尚未修改，必出 bug '''\n",
    "        # denominator = sum(self.regexMaster['weight']) # 分母\n",
    "        # numerator = 0 # 分子\n",
    "        # for b, w in zip(self.regexMaster['text'], self.regexMaster['weight']):\n",
    "        #     if b in match_baselines:\n",
    "        #         numerator += w\n",
    "        # return numerator/denominator\n",
    "\n",
    "    def show_result(self, apply_weight: bool=False, base_on_sample = True):\n",
    "        '''print and return result table. baselinse(x) * report(y).'''\n",
    "        column_names = ['report_name','ttl_match','coverage_score']\n",
    "        if base_on_sample:\n",
    "            column_names.extend(list(self.sample.regex_set))\n",
    "        else:\n",
    "            column_names.extend(list(regexMaster.used_regex_set))\n",
    "        result_tbl = pd.DataFrame([[0]*len(column_names)]*len(self.rem_lst), columns=column_names)\n",
    "        for i,rem in enumerate(self.rem_lst):\n",
    "            match_regexes = rem.get_match_regexs() # 這篇報告含有哪些 baseine:set\n",
    "            c_score = self.calc_report_coverage_score(match_regexes, apply_weight=apply_weight)\n",
    "            result_tbl.loc[i,'report_name'] = rem.reportname\n",
    "            result_tbl.loc[i,'ttl_match'] = len(match_regexes)\n",
    "            result_tbl.loc[i,'coverage_score'] = f'{c_score:.4}'\n",
    "            for b in match_regexes:\n",
    "                result_tbl.loc[i,b] = 1\n",
    "            print(rem.reportname, match_regexes)\n",
    "        display(result_tbl)\n",
    "        return result_tbl"
   ]
  },
  {
   "attachments": {},
   "cell_type": "markdown",
   "metadata": {},
   "source": [
    "### Run Script: 存檔每篇報告的 matched sentence (以樣本的 regex set 為基準)\n",
    "比較樣本間的辨別度，有 n 個樣本，就會跑 n 變，得出 n 個結果 (FanilySet)"
   ]
  },
  {
   "cell_type": "code",
   "execution_count": 10,
   "metadata": {},
   "outputs": [],
   "source": [
    "import os, psutil\n",
    "def print_mem_usage():\n",
    "    process = psutil.Process(os.getpid())\n",
    "    mem_usage = psutil.Process(os.getpid()).memory_info().rss / 1024 ** 2\n",
    "    print(f\"=== mem_usage: {mem_usage:.2f} MB ===\")  # in MiB \n",
    "\n",
    "def get_mem_usage() -> int:\n",
    "    # process = psutil.Process(os.getpid())\n",
    "    mem_usage = psutil.Process(os.getpid()).memory_info().rss / 1024 ** 2\n",
    "    return mem_usage\n",
    "\n",
    "def run_family_set_procedure(sample: Sample) -> FamilySet:\n",
    "    # family, regexMaster is global variable\n",
    "    fset = FamilySet(family, regexMaster, sample=sample)\n",
    "    for i,rdf in enumerate(xor_report_dfs):\n",
    "        # rem = ReportEvalModel(base_data, rdf, dofloo_report_names[i])\n",
    "        fset.add_rem(rdf, xor_report_names[i])\n",
    "    # result_tbl = fset.show_result(apply_weight=False)\n",
    "    # result_tbl.to_csv(f'{outputfolder}/{family}_{sample.samplename[:3]}_FamilySet_by_Regex.csv', index=False)\n",
    "    # print(f\"Sample {sample.samplename[:3]} has ttl_match {result_tbl['ttl_match'].sum()} on all documents.\") \n",
    "\n",
    "    # Calculate metrics\n",
    "    print_mem_usage()\n",
    "    print(f\"asg_object: {set([op.object for op in sample.OPset])}\\n\")\n",
    "    fset.sample.OPset_sysOnly_ordered = [op for op in sample.OPset if op.object.find('/etc') != -1]\n",
    "    fset.sample.OPset_sysOnly_ordered_index = [sample.OPset_ordered.index(op) for op in fset.sample.OPset_sysOnly_ordered]\n",
    "    for idx_rem, rem in enumerate(fset.rem_lst):\n",
    "        # asg_object = set([op.object for op in sample.OPset])\n",
    "        # ctd_object = set([op.object for op in rem.doc_OPset])\n",
    "        if rem.reportname == 'Xorddos-Microsoft.csv': # 除錯用\n",
    "            continue\n",
    "        print(f\"\\nSample {rem.reportname}\")\n",
    "        print(f\"\\tnum of segment in report: {len(rem.sentences)}\")\n",
    "        print(f\"\\tlenght of ctd's OPset is {len(rem.doc_OPset)}\")\n",
    "\n",
    "        # R_malObj 比較物件\n",
    "        asg_object = set([op.object for op in sample.OPset])\n",
    "        ctd_object = set([op.object for op in rem.doc_OPset])\n",
    "        ctd_object = ctd_object.intersection(asg_object)\n",
    "        numerator = len(ctd_object) # 分子\n",
    "        denominator = len(asg_object) # 分母\n",
    "        R_malObj = 0 if denominator == 0 else numerator/denominator\n",
    "        print(f\"\\t#R_malObj\\n\\tnum of ctd objects: {numerator}, num of asg objects: {denominator}. R_malObj is {R_malObj:.4f}\")\n",
    "        print(f\"\\t\\tctd_object: {ctd_object}\")\n",
    "\n",
    "        # R_malSysObj 比較系統物件\n",
    "        asg_sysobj = list(filter(lambda object: object.find('/etc') != -1, asg_object))\n",
    "        ctd_sysobj = list(filter(lambda object: object.find('/etc') != -1, ctd_object))\n",
    "        numerator = len(ctd_sysobj)\n",
    "        denominator = len(asg_sysobj)\n",
    "        R_malSysObj = 0 if denominator == 0 else numerator/denominator\n",
    "        print(f\"\\t#R_malSysObj\\n\\tnum of ctd objects: {numerator}, num of asg objects: {denominator}. R_malSysObj is {R_malSysObj:.4f}\")\n",
    "\n",
    "        # R_malOps 比較動作和物件\n",
    "        asg_OPset = list(sample.OPset)\n",
    "        ctd_OPset = list(rem.doc_OPset)\n",
    "        operationEvaluator = OperationEvaluator()\n",
    "        numerator, denominator, hits = 0, len(asg_OPset), []\n",
    "        hits: list[tuple[OperationPair, OperationPair]] = []\n",
    "        sys_hits: list[tuple[OperationPair, OperationPair]] = []\n",
    "        print(f\"\\t\\tlen(asg_OPset): {len(asg_OPset)}, len(ctd_OPset): {len(ctd_OPset)}\")\n",
    "        # 每一個 asg_op 跟所有同物件的的 ctd_op 進行 resolve() 比對，來判斷此 asg_op 是否被提及\n",
    "        i = 0\n",
    "        for idx_asg, asg_op in enumerate(asg_OPset): \n",
    "            i += 1\n",
    "            # print(f\"\\tno.{i} asg_op {asg_op}\") # 瓶頸卡在 no.51 step (total 71 step)\n",
    "            target_obj = asg_op.object\n",
    "            ctdSameObjOpsIdx = [i for i, x in enumerate(ctd_OPset) if x.object == target_obj]\n",
    "            # if i==51:\n",
    "            # print(f\"\\tno.{i} | asg_op {asg_op}, len of ctdSameObjOpsIdx: {ctdSameObjOpsIdx}\")\n",
    "            # ctdSameObjOps = [x for x in ctd_OPset if x.object == target_obj]\n",
    "            for idx in ctdSameObjOpsIdx:\n",
    "                pass\n",
    "                # mem_before_create_lst = get_mem_usage()\n",
    "                # print(\"\\tbefore resolve\", mem_before_create_lst)\n",
    "                entityType = get_object_type(asg_op.object)\n",
    "                (hit, isSysChange) = operationEvaluator.resolve(entityType, asg_op.action, ctd_OPset[idx].action)\n",
    "                # # print_mem_usage()\n",
    "                # mem_after_create_lst = get_mem_usage()\n",
    "                # # print(f\"\\t=== diff of mem_usage calling resolve(): {mem_after_create_lst - mem_before_create_lst:.2f}  ===\")\n",
    "        \n",
    "                if hit:\n",
    "                    numerator += 1\n",
    "                    hits.append((asg_OPset[idx_asg], ctd_OPset[idx]))\n",
    "                    fset.rem_lst[idx_rem].match_doc_OPset.add(ctd_OPset[idx])\n",
    "\n",
    "                    # 篩選出系統物件的動作\n",
    "                    if isSysChange and asg_OPset[idx_asg].object.find('/etc') != -1:\n",
    "                        sys_hits.append((asg_OPset[idx_asg], ctd_OPset[idx]))\n",
    "\n",
    "                    # 紀錄CTD的生命週期 (ASG_OP提及順序)\n",
    "                    step_num = sample.OPset_ordered.index(asg_op) # index of step, throw ValueError if not found\n",
    "                    fset.rem_lst[idx_rem].OPset_order_index.append(step_num)\n",
    "                    break\n",
    "        R_malOps = 0 if denominator == 0 else numerator/denominator\n",
    "        print(f\"\\t#R_malOps\\n\\tnum of matched asg op: {numerator}, num of asg op: {denominator}. R_malOps is {R_malOps:.4f}\")\n",
    "        print(f\"\\t\\trefered lifecycle: {fset.rem_lst[idx_rem].OPset_order_index}\")\n",
    "\n",
    "        # 紀錄CTD的生命週期 (OP提及順序)\n",
    "        # fset.rem_lst[idx_rem].OPset_order_index.clear()\n",
    "        # for ctd_op in fset.rem_lst[idx_rem].match_doc_OPset:\n",
    "        #     step_num = sample.OPset_ordered.index(ctd_op) # index of step, throw ValueError if not found\n",
    "        #     fset.rem_lst[idx_rem].OPset_order_index.append(step_num)\n",
    "\n",
    "        # R_malChangeOps 篩選出系統物件的動作\n",
    "        # cando: 加上 OPMode的考量，為class OP加兩個mode asg_op_mode, ctd_op_mode。目前直接用call nlp class 的 method判別。\n",
    "        numerator = len(sys_hits)\n",
    "        sys_asg_OPset = [op for op in asg_OPset if op.object.find('/etc') != -1 \\\n",
    "                         and op.action in operationEvaluator.update_syscall_list ]\n",
    "        # print('sys_asg_OPset is unique:', len(sample.OPset_ordered) == len(set(sample.OPset_ordered))) # 元速度重複沒錯，可能是 index() 的問題\n",
    "        print(f\"\\t\\tsys_asg_OPset: {sys_asg_OPset}\")\n",
    "        denominator = len(sys_asg_OPset)\n",
    "        R_malChangeOps = 0 if denominator == 0 else numerator/denominator\n",
    "        print(f\"\\t#R_malChangeOps\\n\\tnum of matched asg op: {numerator}, num of asg op: {denominator}. R_malChangeOps is {R_malChangeOps:.4f}\")\n",
    "\n",
    "        # 紀錄CTD的生命週期 (OP提及順序)\n",
    "        fset.rem_lst[idx_rem].SysOPset_order_index.clear()\n",
    "        for asg_op , ctd_op in sys_hits:\n",
    "            step_num = sample.OPset_ordered.index(asg_op) # step index , throw ValueError if not found\n",
    "            fset.rem_lst[idx_rem].SysOPset_order_index.append(step_num)\n",
    "        print(f\"\\t\\tref-sys lifecycle: {fset.rem_lst[idx_rem].SysOPset_order_index}\")\n",
    "\n",
    "        if hits:\n",
    "            print(\"\\n\\thits\")\n",
    "            for asg_op, ctd_op in hits:\n",
    "                print(f\"\\t{asg_op}, {ctd_op.getSentStr()}\")\n",
    "        if sys_hits:\n",
    "            print(\"\\n\\tsys_hits\")\n",
    "            for asg_op, ctd_op in sys_hits:\n",
    "                print(f\"\\t{asg_op}, {ctd_op.getSentStr()}\")\n",
    "\n",
    "        # print_mem_usage()\n",
    "        # del asg_OPset, ctd_OPset, hits, sys_hits\n",
    "    print(\"\\n\\nOperationPair that changes system resources:\\n\", sys_asg_OPset)\n",
    "\n",
    "    return fset"
   ]
  },
  {
   "cell_type": "code",
   "execution_count": 11,
   "metadata": {},
   "outputs": [],
   "source": [
    "def save_match_sent_to_excel(fset: FamilySet, sample_name=None):\n",
    "    columns = ['report','regex','matched word','sentence number','sentence']\n",
    "    if sample_name:\n",
    "        output_xlsx = f'{outputfolder}/{family}_{sample_name[:3]}_report_match_sent.csv'\n",
    "    else:\n",
    "        output_xlsx = f'{outputfolder}/{family}_union_report_match_sent.csv'\n",
    "    has_match = sum([len(rem.get_match_regexs()) for rem in fset.rem_lst])\n",
    "    if has_match == 0:\n",
    "        print('no matches in CTI reports') # with open 一定要寫入，若全空則直接不開檔\n",
    "        return\n",
    "    # with pd.ExcelWriter(output_xlsx, engine='openpyxl') as writer:\n",
    "    \n",
    "    # 遍歷報告，一個 rem: ReportEvalModel 代表一篇報告\n",
    "    csv_data = []\n",
    "    match_sentence_ttlcnt = 0\n",
    "    for rem in fset.rem_lst:\n",
    "        reportname = rem.reportname.split('.')[0]\n",
    "        if len(rem.get_match_regexs()) == 0: # 如果報告中無 regex 跳過不紀錄\n",
    "            continue\n",
    "        # sheet_data = [] # shape = columns_len * match_sent_len\n",
    "        sent_df = rem.get_match_sentences()\n",
    "        sent_content_lst = rem.sentences['Content'] # 報告中的每個句子\n",
    "        match_sentence_ttlcnt += sent_df['match'].sum()\n",
    "\n",
    "        # 遍歷每個含有 regex 的句子\n",
    "        for sid, row in sent_df.iterrows():\n",
    "            if row['match'] == 0:\n",
    "                continue\n",
    "            row.drop('match', inplace=True)\n",
    "            row = row[row > 0]\n",
    "            # print(row)\n",
    "            # 考量每個句子可能含有多個 regex，故需寫成多行\n",
    "            for i, v in row.items():\n",
    "                insert_data = dict().fromkeys(columns)\n",
    "                insert_data['report'] = reportname\n",
    "                insert_data['regex'] = i\n",
    "                insert_data['matched word'] = rem.get_match_word(sid, i)\n",
    "                insert_data['sentence number'] = sid + 1\n",
    "                insert_data['sentence'] = str(sent_content_lst[sid]).strip()\n",
    "                # sheet_data.append(insert_data)\n",
    "                csv_data.append(insert_data)\n",
    "    df = pd.DataFrame(csv_data)\n",
    "    # print(df)\n",
    "    df.to_csv(output_xlsx, index=False)\n",
    "\n",
    "            # 輸出 csv\n",
    "            \n",
    "            # 輸出 excel sheet\n",
    "            # print(rem.reportname,'has', len(sheet_data),'matches')\n",
    "            # output_sheet = pd.DataFrame(sheet_data)\n",
    "            # # output_sheet.style.set_properties(subset=['sentence'])\n",
    "            # styler = Styler(horizontal_alignment='left', vertical_alignment='top')\n",
    "            # sf = StyleFrame(output_sheet, styler)\n",
    "            # sf = sf.set_column_width(columns=['baseline'], width=20.0)\n",
    "            # sf = sf.set_column_width(columns=['sentence number'], width=15.0)\n",
    "            # sf = sf.set_column_width(columns=['sentence'], width=80.0)\n",
    "            # sf.to_excel(writer, sheet_name=rem.reportname, index=False) #.save()\n",
    "            # # output_sheet.to_excel(writer, sheet_name=rem.reportname, index=False)\n",
    "    return match_sentence_ttlcnt\n",
    "\n",
    "# 此行會執行並複寫 excel，執行完後要手動調整行距格式，小心使用\n"
   ]
  },
  {
   "cell_type": "code",
   "execution_count": 12,
   "metadata": {},
   "outputs": [
    {
     "name": "stdout",
     "output_type": "stream",
     "text": [
      "=== mem_usage: 212.09 MB ===\n",
      "asg_object: {'/perl/', '/etc/init.d/', 'update-rc.d', 'bin/insserv', '^pipe(\\\\$|\\\\.|$)', '[a-zA-z]:\\\\d{1,5}$', '/etc/rc', '^systemctl$', '\\\\d{1,3}\\\\.\\\\d{1,3}\\\\.\\\\d{1,3}\\\\.\\\\d{1,3}:\\\\d{1,5}$', '/boot/[a-z]{10}', '/var/', '^sed$', '\\\\d{1,3}\\\\.\\\\d{1,3}\\\\.\\\\d{1,3}\\\\.\\\\d{1,3}', '/proc/', '/selinux', '/var/run/', '/run/', '/boot/', '/proc/rs_dev', 'bin/openrc', 'bin/sed', '/etc/sed', 'permission(\\\\s|:)[0-9]{1,4}', '^sh$', '/etc/cron', '^chkconfig$'}\n",
      "\n",
      "\n",
      "Sample Xorddos-Cdnetworks.csv\n",
      "\tnum of segment in report: 32\n",
      "\tlenght of ctd's OPset is 0\n",
      "\t#R_malObj\n",
      "\tnum of ctd objects: 0, num of asg objects: 26. R_malObj is 0.0000\n",
      "\t\tctd_object: set()\n",
      "\t#R_malSysObj\n",
      "\tnum of ctd objects: 0, num of asg objects: 4. R_malSysObj is 0.0000\n",
      "\t\tlen(asg_OPset): 73, len(ctd_OPset): 0\n",
      "\t#R_malOps\n",
      "\tnum of matched asg op: 0, num of asg op: 73. R_malOps is 0.0000\n",
      "\t\trefered lifecycle: []\n",
      "\t\tsys_asg_OPset: [<OP18 act=write, obj=/etc/cron>, <OP15 act=write, obj=/etc/init.d/>, <OP22 act=write, obj=/etc/rc>, <OP45 act=write, obj=/etc/sed>, <OP47 act=fchmod, obj=/etc/sed>, <OP48 act=rename, obj=/etc/cron>]\n",
      "\t#R_malChangeOps\n",
      "\tnum of matched asg op: 0, num of asg op: 6. R_malChangeOps is 0.0000\n",
      "\t\tref-sys lifecycle: []\n",
      "\n",
      "Sample Xorddos-Crowdstrike.csv\n",
      "\tnum of segment in report: 45\n",
      "\tlenght of ctd's OPset is 0\n",
      "\t#R_malObj\n",
      "\tnum of ctd objects: 0, num of asg objects: 26. R_malObj is 0.0000\n",
      "\t\tctd_object: set()\n",
      "\t#R_malSysObj\n",
      "\tnum of ctd objects: 0, num of asg objects: 4. R_malSysObj is 0.0000\n",
      "\t\tlen(asg_OPset): 73, len(ctd_OPset): 0\n",
      "\t#R_malOps\n",
      "\tnum of matched asg op: 0, num of asg op: 73. R_malOps is 0.0000\n",
      "\t\trefered lifecycle: []\n",
      "\t\tsys_asg_OPset: [<OP18 act=write, obj=/etc/cron>, <OP15 act=write, obj=/etc/init.d/>, <OP22 act=write, obj=/etc/rc>, <OP45 act=write, obj=/etc/sed>, <OP47 act=fchmod, obj=/etc/sed>, <OP48 act=rename, obj=/etc/cron>]\n",
      "\t#R_malChangeOps\n",
      "\tnum of matched asg op: 0, num of asg op: 6. R_malChangeOps is 0.0000\n",
      "\t\tref-sys lifecycle: []\n",
      "\n",
      "Sample Xorddos-Intezer.csv\n",
      "\tnum of segment in report: 156\n",
      "\tlenght of ctd's OPset is 7\n",
      "\t#R_malObj\n",
      "\tnum of ctd objects: 4, num of asg objects: 26. R_malObj is 0.1538\n",
      "\t\tctd_object: {'/etc/rc', '\\\\d{1,3}\\\\.\\\\d{1,3}\\\\.\\\\d{1,3}\\\\.\\\\d{1,3}', '/proc/', '/etc/init.d/'}\n",
      "\t#R_malSysObj\n",
      "\tnum of ctd objects: 2, num of asg objects: 4. R_malSysObj is 0.5000\n",
      "\t\tlen(asg_OPset): 73, len(ctd_OPset): 7\n",
      "\t#R_malOps\n",
      "\tnum of matched asg op: 0, num of asg op: 73. R_malOps is 0.0000\n",
      "\t\trefered lifecycle: []\n",
      "\t\tsys_asg_OPset: [<OP18 act=write, obj=/etc/cron>, <OP15 act=write, obj=/etc/init.d/>, <OP22 act=write, obj=/etc/rc>, <OP45 act=write, obj=/etc/sed>, <OP47 act=fchmod, obj=/etc/sed>, <OP48 act=rename, obj=/etc/cron>]\n",
      "\t#R_malChangeOps\n",
      "\tnum of matched asg op: 0, num of asg op: 6. R_malChangeOps is 0.0000\n",
      "\t\tref-sys lifecycle: []\n",
      "\n",
      "Sample Xorddos-Ms.csv\n",
      "\tnum of segment in report: 252\n",
      "\tlenght of ctd's OPset is 51\n",
      "\t#R_malObj\n",
      "\tnum of ctd objects: 12, num of asg objects: 26. R_malObj is 0.4615\n",
      "\t\tctd_object: {'/proc/rs_dev', '/proc/', '/var/run/', '^sh$', '[a-zA-z]:\\\\d{1,5}$', '^chkconfig$', '/etc/cron', '/run/', 'update-rc.d', '/etc/init.d/', '/etc/rc', '/var/'}\n",
      "\t#R_malSysObj\n",
      "\tnum of ctd objects: 3, num of asg objects: 4. R_malSysObj is 0.7500\n",
      "\t\tlen(asg_OPset): 73, len(ctd_OPset): 51\n",
      "\t#R_malOps\n",
      "\tnum of matched asg op: 4, num of asg op: 73. R_malOps is 0.0548\n",
      "\t\trefered lifecycle: [52, 51, 50, 67]\n",
      "\t\tsys_asg_OPset: [<OP18 act=write, obj=/etc/cron>, <OP15 act=write, obj=/etc/init.d/>, <OP22 act=write, obj=/etc/rc>, <OP45 act=write, obj=/etc/sed>, <OP47 act=fchmod, obj=/etc/sed>, <OP48 act=rename, obj=/etc/cron>]\n",
      "\t#R_malChangeOps\n",
      "\tnum of matched asg op: 0, num of asg op: 6. R_malChangeOps is 0.0000\n",
      "\t\tref-sys lifecycle: []\n",
      "\n",
      "\thits\n",
      "\t<OP53 act=open, obj=/var/>, <OP29 act=create, obj=/var/run/., sent=if it’s not running from these locations, then it creates and copies itself using a 10-character string name on those locations, as well as /lib/ and /var/run/.>\n",
      "\t<OP52 act=open, obj=/var/run/>, <OP30 act=create, obj=/var/run/., sent=if it’s not running from these locations, then it creates and copies itself using a 10-character string name on those locations, as well as /lib/ and /var/run/.>\n",
      "\t<OP51 act=open, obj=/run/>, <OP31 act=create, obj=/var/run/., sent=if it’s not running from these locations, then it creates and copies itself using a 10-character string name on those locations, as well as /lib/ and /var/run/.>\n",
      "\t<OP68 act=access, obj=/proc/>, <OP14 act=check, obj=/proc/$pid, sent=a user-mode process can get any process specific information by reading the /proc directory that contains the subdirectory for each running process on the system, such as:  /proc/7728 – contains process-id (pid) 7728-related information /proc/698 – contains pid 698-related information running the strace -e open ps command checks the traces of the open call on /proc/$pid to fetch information on running processes as part of the ps command.>\n",
      "\n",
      "Sample Xorddos-Trendmicro.csv\n",
      "\tnum of segment in report: 27\n",
      "\tlenght of ctd's OPset is 6\n",
      "\t#R_malObj\n",
      "\tnum of ctd objects: 6, num of asg objects: 26. R_malObj is 0.2308\n",
      "\t\tctd_object: {'/var/run/', '[a-zA-z]:\\\\d{1,5}$', '/run/', '/etc/rc', '/etc/cron', '/var/'}\n",
      "\t#R_malSysObj\n",
      "\tnum of ctd objects: 2, num of asg objects: 4. R_malSysObj is 0.5000\n",
      "\t\tlen(asg_OPset): 73, len(ctd_OPset): 6\n",
      "\t#R_malOps\n",
      "\tnum of matched asg op: 0, num of asg op: 73. R_malOps is 0.0000\n",
      "\t\trefered lifecycle: []\n",
      "\t\tsys_asg_OPset: [<OP18 act=write, obj=/etc/cron>, <OP15 act=write, obj=/etc/init.d/>, <OP22 act=write, obj=/etc/rc>, <OP45 act=write, obj=/etc/sed>, <OP47 act=fchmod, obj=/etc/sed>, <OP48 act=rename, obj=/etc/cron>]\n",
      "\t#R_malChangeOps\n",
      "\tnum of matched asg op: 0, num of asg op: 6. R_malChangeOps is 0.0000\n",
      "\t\tref-sys lifecycle: []\n",
      "\n",
      "Sample Xorddos-Trendmicro2.csv\n",
      "\tnum of segment in report: 47\n",
      "\tlenght of ctd's OPset is 2\n",
      "\t#R_malObj\n",
      "\tnum of ctd objects: 1, num of asg objects: 26. R_malObj is 0.0385\n",
      "\t\tctd_object: {'\\\\d{1,3}\\\\.\\\\d{1,3}\\\\.\\\\d{1,3}\\\\.\\\\d{1,3}'}\n",
      "\t#R_malSysObj\n",
      "\tnum of ctd objects: 0, num of asg objects: 4. R_malSysObj is 0.0000\n",
      "\t\tlen(asg_OPset): 73, len(ctd_OPset): 2\n",
      "\t#R_malOps\n",
      "\tnum of matched asg op: 0, num of asg op: 73. R_malOps is 0.0000\n",
      "\t\trefered lifecycle: []\n",
      "\t\tsys_asg_OPset: [<OP18 act=write, obj=/etc/cron>, <OP15 act=write, obj=/etc/init.d/>, <OP22 act=write, obj=/etc/rc>, <OP45 act=write, obj=/etc/sed>, <OP47 act=fchmod, obj=/etc/sed>, <OP48 act=rename, obj=/etc/cron>]\n",
      "\t#R_malChangeOps\n",
      "\tnum of matched asg op: 0, num of asg op: 6. R_malChangeOps is 0.0000\n",
      "\t\tref-sys lifecycle: []\n",
      "\n",
      "\n",
      "OperationPair that changes system resources:\n",
      " [<OP18 act=write, obj=/etc/cron>, <OP15 act=write, obj=/etc/init.d/>, <OP22 act=write, obj=/etc/rc>, <OP45 act=write, obj=/etc/sed>, <OP47 act=fchmod, obj=/etc/sed>, <OP48 act=rename, obj=/etc/cron>]\n"
     ]
    }
   ],
   "source": [
    "for sample in samples:\n",
    "    # print(len(sample.OPset)) # 30\n",
    "    # print(len(sample.OPset_ordered)) # 30\n",
    "    # print(set(sample.OPset) - set(sample.OPset_ordered)) # 相減是空的set 都OK\n",
    "    fset = run_family_set_procedure(sample)\n",
    "    # match_sentence_ttlcnt = save_match_sent_to_excel(fset, sample.samplename)\n",
    "    # print(f'match_sentence_ttlcnt is {match_sentence_ttlcnt}\\n---\\n')"
   ]
  },
  {
   "attachments": {},
   "cell_type": "markdown",
   "metadata": {},
   "source": [
    "### Run Script: draw Lifecycle diagram\n",
    "- 兩個 traces (legend) 一般的 OP 和 ChangeSys OP。分兩個顏色，不重疊。\n",
    "- x: [a,a,a,a,b,b,b,c,c,c] 不同 report 的 step 可以放同一個 list，因為屬於同個 trace。"
   ]
  },
  {
   "cell_type": "code",
   "execution_count": 13,
   "metadata": {},
   "outputs": [
    {
     "name": "stdout",
     "output_type": "stream",
     "text": [
      "\n"
     ]
    },
    {
     "name": "stderr",
     "output_type": "stream",
     "text": [
      "c:\\Users\\luweb\\AppData\\Local\\Programs\\Python\\Python310\\lib\\site-packages\\plotly\\io\\_renderers.py:7: DeprecationWarning:\n",
      "\n",
      "The distutils package is deprecated and slated for removal in Python 3.12. Use setuptools or check PEP 632 for potential alternatives\n",
      "\n"
     ]
    },
    {
     "data": {
      "application/vnd.plotly.v1+json": {
       "config": {
        "plotlyServerURL": "https://plot.ly"
       },
       "data": [
        {
         "marker": {
          "color": "darkorange",
          "size": 12
         },
         "mode": "markers",
         "name": "Normal Operation Pair",
         "type": "scatter",
         "x": [
          53,
          52,
          51,
          68,
          1,
          2,
          3,
          4,
          5,
          6,
          7,
          8,
          9,
          10,
          11,
          12,
          19,
          20,
          23,
          24,
          25,
          26,
          27,
          28,
          29,
          30,
          31,
          33,
          34,
          35,
          36,
          37,
          38,
          39,
          40,
          41,
          42,
          49,
          50,
          51,
          52,
          53,
          54,
          55,
          56,
          57,
          58,
          59,
          60,
          61,
          62,
          63,
          64,
          65,
          66,
          67,
          68,
          69,
          70,
          71,
          72,
          73
         ],
         "y": [
          "Ms (4)",
          "Ms (4)",
          "Ms (4)",
          "Ms (4)",
          "ASG (73)",
          "ASG (73)",
          "ASG (73)",
          "ASG (73)",
          "ASG (73)",
          "ASG (73)",
          "ASG (73)",
          "ASG (73)",
          "ASG (73)",
          "ASG (73)",
          "ASG (73)",
          "ASG (73)",
          "ASG (73)",
          "ASG (73)",
          "ASG (73)",
          "ASG (73)",
          "ASG (73)",
          "ASG (73)",
          "ASG (73)",
          "ASG (73)",
          "ASG (73)",
          "ASG (73)",
          "ASG (73)",
          "ASG (73)",
          "ASG (73)",
          "ASG (73)",
          "ASG (73)",
          "ASG (73)",
          "ASG (73)",
          "ASG (73)",
          "ASG (73)",
          "ASG (73)",
          "ASG (73)",
          "ASG (73)",
          "ASG (73)",
          "ASG (73)",
          "ASG (73)",
          "ASG (73)",
          "ASG (73)",
          "ASG (73)",
          "ASG (73)",
          "ASG (73)",
          "ASG (73)",
          "ASG (73)",
          "ASG (73)",
          "ASG (73)",
          "ASG (73)",
          "ASG (73)",
          "ASG (73)",
          "ASG (73)",
          "ASG (73)",
          "ASG (73)",
          "ASG (73)",
          "ASG (73)",
          "ASG (73)",
          "ASG (73)",
          "ASG (73)",
          "ASG (73)"
         ]
        },
        {
         "marker": {
          "color": "blue",
          "size": 12
         },
         "mode": "markers",
         "name": "Change SR Operation Pair",
         "type": "scatter",
         "x": [
          46,
          44,
          18,
          15,
          22,
          16,
          45,
          13,
          43,
          47,
          21,
          48,
          32,
          17,
          14
         ],
         "y": [
          "ASG (73)",
          "ASG (73)",
          "ASG (73)",
          "ASG (73)",
          "ASG (73)",
          "ASG (73)",
          "ASG (73)",
          "ASG (73)",
          "ASG (73)",
          "ASG (73)",
          "ASG (73)",
          "ASG (73)",
          "ASG (73)",
          "ASG (73)",
          "ASG (73)"
         ]
        }
       ],
       "layout": {
        "template": {
         "data": {
          "bar": [
           {
            "error_x": {
             "color": "#2a3f5f"
            },
            "error_y": {
             "color": "#2a3f5f"
            },
            "marker": {
             "line": {
              "color": "#E5ECF6",
              "width": 0.5
             },
             "pattern": {
              "fillmode": "overlay",
              "size": 10,
              "solidity": 0.2
             }
            },
            "type": "bar"
           }
          ],
          "barpolar": [
           {
            "marker": {
             "line": {
              "color": "#E5ECF6",
              "width": 0.5
             },
             "pattern": {
              "fillmode": "overlay",
              "size": 10,
              "solidity": 0.2
             }
            },
            "type": "barpolar"
           }
          ],
          "carpet": [
           {
            "aaxis": {
             "endlinecolor": "#2a3f5f",
             "gridcolor": "white",
             "linecolor": "white",
             "minorgridcolor": "white",
             "startlinecolor": "#2a3f5f"
            },
            "baxis": {
             "endlinecolor": "#2a3f5f",
             "gridcolor": "white",
             "linecolor": "white",
             "minorgridcolor": "white",
             "startlinecolor": "#2a3f5f"
            },
            "type": "carpet"
           }
          ],
          "choropleth": [
           {
            "colorbar": {
             "outlinewidth": 0,
             "ticks": ""
            },
            "type": "choropleth"
           }
          ],
          "contour": [
           {
            "colorbar": {
             "outlinewidth": 0,
             "ticks": ""
            },
            "colorscale": [
             [
              0,
              "#0d0887"
             ],
             [
              0.1111111111111111,
              "#46039f"
             ],
             [
              0.2222222222222222,
              "#7201a8"
             ],
             [
              0.3333333333333333,
              "#9c179e"
             ],
             [
              0.4444444444444444,
              "#bd3786"
             ],
             [
              0.5555555555555556,
              "#d8576b"
             ],
             [
              0.6666666666666666,
              "#ed7953"
             ],
             [
              0.7777777777777778,
              "#fb9f3a"
             ],
             [
              0.8888888888888888,
              "#fdca26"
             ],
             [
              1,
              "#f0f921"
             ]
            ],
            "type": "contour"
           }
          ],
          "contourcarpet": [
           {
            "colorbar": {
             "outlinewidth": 0,
             "ticks": ""
            },
            "type": "contourcarpet"
           }
          ],
          "heatmap": [
           {
            "colorbar": {
             "outlinewidth": 0,
             "ticks": ""
            },
            "colorscale": [
             [
              0,
              "#0d0887"
             ],
             [
              0.1111111111111111,
              "#46039f"
             ],
             [
              0.2222222222222222,
              "#7201a8"
             ],
             [
              0.3333333333333333,
              "#9c179e"
             ],
             [
              0.4444444444444444,
              "#bd3786"
             ],
             [
              0.5555555555555556,
              "#d8576b"
             ],
             [
              0.6666666666666666,
              "#ed7953"
             ],
             [
              0.7777777777777778,
              "#fb9f3a"
             ],
             [
              0.8888888888888888,
              "#fdca26"
             ],
             [
              1,
              "#f0f921"
             ]
            ],
            "type": "heatmap"
           }
          ],
          "heatmapgl": [
           {
            "colorbar": {
             "outlinewidth": 0,
             "ticks": ""
            },
            "colorscale": [
             [
              0,
              "#0d0887"
             ],
             [
              0.1111111111111111,
              "#46039f"
             ],
             [
              0.2222222222222222,
              "#7201a8"
             ],
             [
              0.3333333333333333,
              "#9c179e"
             ],
             [
              0.4444444444444444,
              "#bd3786"
             ],
             [
              0.5555555555555556,
              "#d8576b"
             ],
             [
              0.6666666666666666,
              "#ed7953"
             ],
             [
              0.7777777777777778,
              "#fb9f3a"
             ],
             [
              0.8888888888888888,
              "#fdca26"
             ],
             [
              1,
              "#f0f921"
             ]
            ],
            "type": "heatmapgl"
           }
          ],
          "histogram": [
           {
            "marker": {
             "pattern": {
              "fillmode": "overlay",
              "size": 10,
              "solidity": 0.2
             }
            },
            "type": "histogram"
           }
          ],
          "histogram2d": [
           {
            "colorbar": {
             "outlinewidth": 0,
             "ticks": ""
            },
            "colorscale": [
             [
              0,
              "#0d0887"
             ],
             [
              0.1111111111111111,
              "#46039f"
             ],
             [
              0.2222222222222222,
              "#7201a8"
             ],
             [
              0.3333333333333333,
              "#9c179e"
             ],
             [
              0.4444444444444444,
              "#bd3786"
             ],
             [
              0.5555555555555556,
              "#d8576b"
             ],
             [
              0.6666666666666666,
              "#ed7953"
             ],
             [
              0.7777777777777778,
              "#fb9f3a"
             ],
             [
              0.8888888888888888,
              "#fdca26"
             ],
             [
              1,
              "#f0f921"
             ]
            ],
            "type": "histogram2d"
           }
          ],
          "histogram2dcontour": [
           {
            "colorbar": {
             "outlinewidth": 0,
             "ticks": ""
            },
            "colorscale": [
             [
              0,
              "#0d0887"
             ],
             [
              0.1111111111111111,
              "#46039f"
             ],
             [
              0.2222222222222222,
              "#7201a8"
             ],
             [
              0.3333333333333333,
              "#9c179e"
             ],
             [
              0.4444444444444444,
              "#bd3786"
             ],
             [
              0.5555555555555556,
              "#d8576b"
             ],
             [
              0.6666666666666666,
              "#ed7953"
             ],
             [
              0.7777777777777778,
              "#fb9f3a"
             ],
             [
              0.8888888888888888,
              "#fdca26"
             ],
             [
              1,
              "#f0f921"
             ]
            ],
            "type": "histogram2dcontour"
           }
          ],
          "mesh3d": [
           {
            "colorbar": {
             "outlinewidth": 0,
             "ticks": ""
            },
            "type": "mesh3d"
           }
          ],
          "parcoords": [
           {
            "line": {
             "colorbar": {
              "outlinewidth": 0,
              "ticks": ""
             }
            },
            "type": "parcoords"
           }
          ],
          "pie": [
           {
            "automargin": true,
            "type": "pie"
           }
          ],
          "scatter": [
           {
            "fillpattern": {
             "fillmode": "overlay",
             "size": 10,
             "solidity": 0.2
            },
            "type": "scatter"
           }
          ],
          "scatter3d": [
           {
            "line": {
             "colorbar": {
              "outlinewidth": 0,
              "ticks": ""
             }
            },
            "marker": {
             "colorbar": {
              "outlinewidth": 0,
              "ticks": ""
             }
            },
            "type": "scatter3d"
           }
          ],
          "scattercarpet": [
           {
            "marker": {
             "colorbar": {
              "outlinewidth": 0,
              "ticks": ""
             }
            },
            "type": "scattercarpet"
           }
          ],
          "scattergeo": [
           {
            "marker": {
             "colorbar": {
              "outlinewidth": 0,
              "ticks": ""
             }
            },
            "type": "scattergeo"
           }
          ],
          "scattergl": [
           {
            "marker": {
             "colorbar": {
              "outlinewidth": 0,
              "ticks": ""
             }
            },
            "type": "scattergl"
           }
          ],
          "scattermapbox": [
           {
            "marker": {
             "colorbar": {
              "outlinewidth": 0,
              "ticks": ""
             }
            },
            "type": "scattermapbox"
           }
          ],
          "scatterpolar": [
           {
            "marker": {
             "colorbar": {
              "outlinewidth": 0,
              "ticks": ""
             }
            },
            "type": "scatterpolar"
           }
          ],
          "scatterpolargl": [
           {
            "marker": {
             "colorbar": {
              "outlinewidth": 0,
              "ticks": ""
             }
            },
            "type": "scatterpolargl"
           }
          ],
          "scatterternary": [
           {
            "marker": {
             "colorbar": {
              "outlinewidth": 0,
              "ticks": ""
             }
            },
            "type": "scatterternary"
           }
          ],
          "surface": [
           {
            "colorbar": {
             "outlinewidth": 0,
             "ticks": ""
            },
            "colorscale": [
             [
              0,
              "#0d0887"
             ],
             [
              0.1111111111111111,
              "#46039f"
             ],
             [
              0.2222222222222222,
              "#7201a8"
             ],
             [
              0.3333333333333333,
              "#9c179e"
             ],
             [
              0.4444444444444444,
              "#bd3786"
             ],
             [
              0.5555555555555556,
              "#d8576b"
             ],
             [
              0.6666666666666666,
              "#ed7953"
             ],
             [
              0.7777777777777778,
              "#fb9f3a"
             ],
             [
              0.8888888888888888,
              "#fdca26"
             ],
             [
              1,
              "#f0f921"
             ]
            ],
            "type": "surface"
           }
          ],
          "table": [
           {
            "cells": {
             "fill": {
              "color": "#EBF0F8"
             },
             "line": {
              "color": "white"
             }
            },
            "header": {
             "fill": {
              "color": "#C8D4E3"
             },
             "line": {
              "color": "white"
             }
            },
            "type": "table"
           }
          ]
         },
         "layout": {
          "annotationdefaults": {
           "arrowcolor": "#2a3f5f",
           "arrowhead": 0,
           "arrowwidth": 1
          },
          "autotypenumbers": "strict",
          "coloraxis": {
           "colorbar": {
            "outlinewidth": 0,
            "ticks": ""
           }
          },
          "colorscale": {
           "diverging": [
            [
             0,
             "#8e0152"
            ],
            [
             0.1,
             "#c51b7d"
            ],
            [
             0.2,
             "#de77ae"
            ],
            [
             0.3,
             "#f1b6da"
            ],
            [
             0.4,
             "#fde0ef"
            ],
            [
             0.5,
             "#f7f7f7"
            ],
            [
             0.6,
             "#e6f5d0"
            ],
            [
             0.7,
             "#b8e186"
            ],
            [
             0.8,
             "#7fbc41"
            ],
            [
             0.9,
             "#4d9221"
            ],
            [
             1,
             "#276419"
            ]
           ],
           "sequential": [
            [
             0,
             "#0d0887"
            ],
            [
             0.1111111111111111,
             "#46039f"
            ],
            [
             0.2222222222222222,
             "#7201a8"
            ],
            [
             0.3333333333333333,
             "#9c179e"
            ],
            [
             0.4444444444444444,
             "#bd3786"
            ],
            [
             0.5555555555555556,
             "#d8576b"
            ],
            [
             0.6666666666666666,
             "#ed7953"
            ],
            [
             0.7777777777777778,
             "#fb9f3a"
            ],
            [
             0.8888888888888888,
             "#fdca26"
            ],
            [
             1,
             "#f0f921"
            ]
           ],
           "sequentialminus": [
            [
             0,
             "#0d0887"
            ],
            [
             0.1111111111111111,
             "#46039f"
            ],
            [
             0.2222222222222222,
             "#7201a8"
            ],
            [
             0.3333333333333333,
             "#9c179e"
            ],
            [
             0.4444444444444444,
             "#bd3786"
            ],
            [
             0.5555555555555556,
             "#d8576b"
            ],
            [
             0.6666666666666666,
             "#ed7953"
            ],
            [
             0.7777777777777778,
             "#fb9f3a"
            ],
            [
             0.8888888888888888,
             "#fdca26"
            ],
            [
             1,
             "#f0f921"
            ]
           ]
          },
          "colorway": [
           "#636efa",
           "#EF553B",
           "#00cc96",
           "#ab63fa",
           "#FFA15A",
           "#19d3f3",
           "#FF6692",
           "#B6E880",
           "#FF97FF",
           "#FECB52"
          ],
          "font": {
           "color": "#2a3f5f"
          },
          "geo": {
           "bgcolor": "white",
           "lakecolor": "white",
           "landcolor": "#E5ECF6",
           "showlakes": true,
           "showland": true,
           "subunitcolor": "white"
          },
          "hoverlabel": {
           "align": "left"
          },
          "hovermode": "closest",
          "mapbox": {
           "style": "light"
          },
          "paper_bgcolor": "white",
          "plot_bgcolor": "#E5ECF6",
          "polar": {
           "angularaxis": {
            "gridcolor": "white",
            "linecolor": "white",
            "ticks": ""
           },
           "bgcolor": "#E5ECF6",
           "radialaxis": {
            "gridcolor": "white",
            "linecolor": "white",
            "ticks": ""
           }
          },
          "scene": {
           "xaxis": {
            "backgroundcolor": "#E5ECF6",
            "gridcolor": "white",
            "gridwidth": 2,
            "linecolor": "white",
            "showbackground": true,
            "ticks": "",
            "zerolinecolor": "white"
           },
           "yaxis": {
            "backgroundcolor": "#E5ECF6",
            "gridcolor": "white",
            "gridwidth": 2,
            "linecolor": "white",
            "showbackground": true,
            "ticks": "",
            "zerolinecolor": "white"
           },
           "zaxis": {
            "backgroundcolor": "#E5ECF6",
            "gridcolor": "white",
            "gridwidth": 2,
            "linecolor": "white",
            "showbackground": true,
            "ticks": "",
            "zerolinecolor": "white"
           }
          },
          "shapedefaults": {
           "line": {
            "color": "#2a3f5f"
           }
          },
          "ternary": {
           "aaxis": {
            "gridcolor": "white",
            "linecolor": "white",
            "ticks": ""
           },
           "baxis": {
            "gridcolor": "white",
            "linecolor": "white",
            "ticks": ""
           },
           "bgcolor": "#E5ECF6",
           "caxis": {
            "gridcolor": "white",
            "linecolor": "white",
            "ticks": ""
           }
          },
          "title": {
           "x": 0.05
          },
          "xaxis": {
           "automargin": true,
           "gridcolor": "white",
           "linecolor": "white",
           "ticks": "",
           "title": {
            "standoff": 15
           },
           "zerolinecolor": "white",
           "zerolinewidth": 2
          },
          "yaxis": {
           "automargin": true,
           "gridcolor": "white",
           "linecolor": "white",
           "ticks": "",
           "title": {
            "standoff": 15
           },
           "zerolinecolor": "white",
           "zerolinewidth": 2
          }
         }
        },
        "title": {
         "text": "Lifecycle Diagram of Attack Behavior in Document (Xorddos)"
        },
        "xaxis": {
         "title": {
          "text": "ASG Operation Pair (in steps)"
         }
        },
        "yaxis": {
         "title": {
          "text": "Malware Document"
         }
        }
       }
      }
     },
     "metadata": {},
     "output_type": "display_data"
    }
   ],
   "source": [
    "# import plotly.express as px\n",
    "import plotly.graph_objects as go\n",
    "\n",
    "def symmetric_difference(list1: list, list2: list) -> list:\n",
    "    ''' return list1 - list2. '''\n",
    "    s = set(list2)\n",
    "    temp3 = [x for x in list1 if x not in s]\n",
    "    return temp3\n",
    "\n",
    "def draw_lifecycle(fset:FamilySet):\n",
    "    familname = fset.familyname\n",
    "    # reportnames = [rem.reportname for rem in fset.rem_lst if len(rem.match_regex)]\n",
    "\n",
    "    fig = go.Figure()\n",
    "    x, y = [], []\n",
    "    x_sys, y_sys = [], []\n",
    "    for i, rem in enumerate(fset.rem_lst):\n",
    "        if len(rem.OPset_order_index) == 0:\n",
    "            continue\n",
    "\n",
    "        numOfDot = len(rem.OPset_order_index)\n",
    "        reportname = rem.reportname.split('.')[0]\n",
    "        reportname = reportname.split('-')[1]\n",
    "        reportname += f' ({numOfDot})'\n",
    "        x_sys.extend(rem.SysOPset_order_index) # 改變系統環境的 OP\n",
    "        y_sys.extend([reportname] * len(rem.SysOPset_order_index))\n",
    "        current_x_normal = symmetric_difference(rem.OPset_order_index, rem.SysOPset_order_index) # 一般的/其餘的 OP\n",
    "        # print(reportname, 'numOfDot', numOfDot, 'rem.OPset_order_index', rem.OPset_order_index)\n",
    "        # print('x_normal', current_x_normal, 'x_sys', rem.SysOPset_order_index)\n",
    "        x.extend(current_x_normal)\n",
    "        y.extend([reportname] * len(current_x_normal))\n",
    "        pass\n",
    "    # todo: add baseline's lifecycle\n",
    "    print()\n",
    "    rowname = f'ASG ({len(fset.sample.OPset)})'\n",
    "    current_x_system = fset.sample.OPset_sysOnly_ordered_index\n",
    "    current_x_normal = symmetric_difference(list(range(len(fset.sample.OPset))), current_x_system) # all steps - sysobj steps\n",
    "    x_sys.extend(current_x_system)\n",
    "    y_sys.extend([rowname] * len(current_x_system)) \n",
    "    x.extend(current_x_normal)\n",
    "    y.extend([rowname] * len(current_x_normal))\n",
    "    # print(rowname, len(fset.sample.OPset), len(current_x_system), len(current_x_normal))\n",
    "    \n",
    "    # normal OPs\n",
    "    x = [idx+1 for idx in x] # add 1 to each asg index\n",
    "    fig.add_trace(go.Scatter(\n",
    "        x=x,\n",
    "        y=y,\n",
    "        marker=dict(color=\"darkorange\", size=12),\n",
    "        mode=\"markers\",\n",
    "        name=\"Normal Operation Pair\",\n",
    "    ))\n",
    "\n",
    "    # changeSysObj OPs\n",
    "    x_sys = x = [idx+1 for idx in x_sys]\n",
    "    fig.add_trace(go.Scatter(\n",
    "        x=x_sys,\n",
    "        y=y_sys,\n",
    "        marker=dict(color=\"blue\", size=12),\n",
    "        mode=\"markers\",\n",
    "        name=\"Change SR Operation Pair\",\n",
    "    ))\n",
    "\n",
    "    fig.update_layout(title=f\"Lifecycle Diagram of Attack Behavior in Document ({familname})\",\n",
    "                    xaxis_title=\"ASG Operation Pair (in steps)\",\n",
    "                    yaxis_title=\"Malware Document\")\n",
    "    fig.show()\n",
    "    pass\n",
    "\n",
    "draw_lifecycle(fset)"
   ]
  },
  {
   "attachments": {},
   "cell_type": "markdown",
   "metadata": {},
   "source": [
    "### Run Script: draw ASG & CTD's OP graph\n",
    "- 完整的 ASG OPset graph\n",
    "- 每篇報告的 CTD OPset (完整和matched兩種)，以及對應部分的 ASG。"
   ]
  },
  {
   "cell_type": "code",
   "execution_count": 14,
   "metadata": {},
   "outputs": [
    {
     "data": {
      "text/plain": [
       "['b', 'c', 'd']"
      ]
     },
     "execution_count": 14,
     "metadata": {},
     "output_type": "execute_result"
    }
   ],
   "source": [
    "a = [1,2,3]\n",
    "b = ['a','b','c','d','e']\n",
    "[b[i] for i in a]"
   ]
  },
  {
   "cell_type": "code",
   "execution_count": 14,
   "metadata": {},
   "outputs": [
    {
     "data": {
      "image/svg+xml": "<?xml version=\"1.0\" encoding=\"UTF-8\" standalone=\"no\"?>\n<!DOCTYPE svg PUBLIC \"-//W3C//DTD SVG 1.1//EN\"\n \"http://www.w3.org/Graphics/SVG/1.1/DTD/svg11.dtd\">\n<!-- Generated by graphviz version 6.0.1 (20220911.1526)\n -->\n<!-- Title: Xorddos_asg_OPset Pages: 1 -->\n<svg width=\"5186pt\" height=\"291pt\"\n viewBox=\"0.00 0.00 5186.44 291.00\" xmlns=\"http://www.w3.org/2000/svg\" xmlns:xlink=\"http://www.w3.org/1999/xlink\">\n<g id=\"graph0\" class=\"graph\" transform=\"scale(1 1) rotate(0) translate(4 287)\">\n<title>Xorddos_asg_OPset</title>\n<polygon fill=\"white\" stroke=\"none\" points=\"-4,4 -4,-287 5182.44,-287 5182.44,4 -4,4\"/>\n<!-- Start -->\n<g id=\"node1\" class=\"node\">\n<title>Start</title>\n<ellipse fill=\"none\" stroke=\"black\" cx=\"2588.19\" cy=\"-265\" rx=\"77.19\" ry=\"18\"/>\n<text text-anchor=\"middle\" x=\"2588.19\" y=\"-261.3\" font-family=\"Times New Roman,serif\" font-size=\"14.00\">Malware (Subject)</text>\n</g>\n<!-- 1 -->\n<g id=\"node2\" class=\"node\">\n<title>1</title>\n<ellipse fill=\"none\" stroke=\"black\" cx=\"155.19\" cy=\"-178\" rx=\"38.99\" ry=\"18\"/>\n<text text-anchor=\"middle\" x=\"155.19\" y=\"-174.3\" font-family=\"Times New Roman,serif\" font-size=\"14.00\">/etc/sed</text>\n</g>\n<!-- Start&#45;&gt;1 -->\n<g id=\"edge1\" class=\"edge\">\n<title>Start&#45;&gt;1</title>\n<path fill=\"none\" stroke=\"black\" d=\"M2511.01,-263.68C2084.13,-261.85 30.74,-251.86 8.19,-229 -24.09,-196.28 51.85,-184.96 106.16,-181.06\"/>\n<polygon fill=\"black\" stroke=\"black\" points=\"106.61,-184.53 116.36,-180.39 106.15,-177.55 106.61,-184.53\"/>\n<text text-anchor=\"middle\" x=\"38.19\" y=\"-217.8\" font-family=\"Times New Roman,serif\" font-size=\"14.00\">46.fchown</text>\n</g>\n<!-- Start&#45;&gt;1 -->\n<g id=\"edge2\" class=\"edge\">\n<title>Start&#45;&gt;1</title>\n<path fill=\"none\" stroke=\"black\" d=\"M2510.77,-263.65C2091.69,-261.65 112.97,-251.08 91.19,-229 78.14,-215.77 95.5,-202.9 115.41,-193.54\"/>\n<polygon fill=\"black\" stroke=\"black\" points=\"116.88,-196.72 124.64,-189.5 114.07,-190.3 116.88,-196.72\"/>\n<text text-anchor=\"middle\" x=\"112.19\" y=\"-217.8\" font-family=\"Times New Roman,serif\" font-size=\"14.00\">44.fstat</text>\n</g>\n<!-- Start&#45;&gt;1 -->\n<g id=\"edge3\" class=\"edge\">\n<title>Start&#45;&gt;1</title>\n<path fill=\"none\" stroke=\"black\" d=\"M2510.77,-263.61C2098.35,-261.45 177.57,-250.26 156.19,-229 150.24,-223.08 148.64,-214.5 148.96,-206.11\"/>\n<polygon fill=\"black\" stroke=\"black\" points=\"152.43,-206.51 150.13,-196.17 145.48,-205.69 152.43,-206.51\"/>\n<text text-anchor=\"middle\" x=\"178.69\" y=\"-217.8\" font-family=\"Times New Roman,serif\" font-size=\"14.00\">45.write</text>\n</g>\n<!-- Start&#45;&gt;1 -->\n<g id=\"edge4\" class=\"edge\">\n<title>Start&#45;&gt;1</title>\n<path fill=\"none\" stroke=\"black\" d=\"M2510.61,-264.16C2114.82,-264.84 334.93,-265.81 224.19,-229 219.34,-227.39 199.58,-212.91 182.44,-199.95\"/>\n<polygon fill=\"black\" stroke=\"black\" points=\"184.39,-197.04 174.31,-193.77 180.15,-202.61 184.39,-197.04\"/>\n<text text-anchor=\"middle\" x=\"245.69\" y=\"-217.8\" font-family=\"Times New Roman,serif\" font-size=\"14.00\">43.fcntl</text>\n</g>\n<!-- Start&#45;&gt;1 -->\n<g id=\"edge5\" class=\"edge\">\n<title>Start&#45;&gt;1</title>\n<path fill=\"none\" stroke=\"black\" d=\"M2510.83,-263.61C2124.08,-261.58 414.44,-251.38 304.19,-229 286.8,-225.47 283.9,-219.98 267.19,-214 244.18,-205.76 218.13,-197.55 196.95,-191.16\"/>\n<polygon fill=\"black\" stroke=\"black\" points=\"197.87,-187.78 187.29,-188.27 195.86,-194.49 197.87,-187.78\"/>\n<text text-anchor=\"middle\" x=\"334.69\" y=\"-217.8\" font-family=\"Times New Roman,serif\" font-size=\"14.00\">47.fchmod</text>\n</g>\n<!-- 2 -->\n<g id=\"node3\" class=\"node\">\n<title>2</title>\n<ellipse fill=\"none\" stroke=\"black\" cx=\"467.19\" cy=\"-178\" rx=\"40.89\" ry=\"18\"/>\n<text text-anchor=\"middle\" x=\"467.19\" y=\"-174.3\" font-family=\"Times New Roman,serif\" font-size=\"14.00\">/var/run/</text>\n</g>\n<!-- Start&#45;&gt;2 -->\n<g id=\"edge6\" class=\"edge\">\n<title>Start&#45;&gt;2</title>\n<path fill=\"none\" stroke=\"black\" d=\"M2510.87,-264.25C2123.66,-265.33 412.45,-267.87 374.19,-229 355.37,-209.88 388.47,-196.28 420.27,-188.14\"/>\n<polygon fill=\"black\" stroke=\"black\" points=\"421.14,-191.53 430.04,-185.78 419.5,-184.72 421.14,-191.53\"/>\n<text text-anchor=\"middle\" x=\"396.69\" y=\"-217.8\" font-family=\"Times New Roman,serif\" font-size=\"14.00\">60.write</text>\n</g>\n<!-- Start&#45;&gt;2 -->\n<g id=\"edge7\" class=\"edge\">\n<title>Start&#45;&gt;2</title>\n<path fill=\"none\" stroke=\"black\" d=\"M2510.74,-264.21C2130.63,-265.06 479.19,-266.6 442.19,-229 434.9,-221.58 438.09,-211.61 444.28,-202.53\"/>\n<polygon fill=\"black\" stroke=\"black\" points=\"447.14,-204.55 450.58,-194.53 441.64,-200.22 447.14,-204.55\"/>\n<text text-anchor=\"middle\" x=\"465.19\" y=\"-217.8\" font-family=\"Times New Roman,serif\" font-size=\"14.00\">52.open</text>\n</g>\n<!-- Start&#45;&gt;2 -->\n<g id=\"edge8\" class=\"edge\">\n<title>Start&#45;&gt;2</title>\n<path fill=\"none\" stroke=\"black\" d=\"M2510.91,-263.55C2139.88,-261.28 557.42,-250.37 511.19,-229 499.67,-223.67 489.93,-213.71 482.57,-204.08\"/>\n<polygon fill=\"black\" stroke=\"black\" points=\"485.36,-201.96 476.73,-195.82 479.65,-206 485.36,-201.96\"/>\n<text text-anchor=\"middle\" x=\"534.19\" y=\"-217.8\" font-family=\"Times New Roman,serif\" font-size=\"14.00\">57.lseek</text>\n</g>\n<!-- Start&#45;&gt;2 -->\n<g id=\"edge9\" class=\"edge\">\n<title>Start&#45;&gt;2</title>\n<path fill=\"none\" stroke=\"black\" d=\"M2510.73,-264.14C2167.76,-264.55 794.6,-263.98 605.19,-229 595.19,-227.15 543.94,-208.15 506.82,-194.11\"/>\n<polygon fill=\"black\" stroke=\"black\" points=\"507.84,-190.75 497.24,-190.48 505.36,-197.3 507.84,-190.75\"/>\n<text text-anchor=\"middle\" x=\"630.69\" y=\"-217.8\" font-family=\"Times New Roman,serif\" font-size=\"14.00\">50.stat64</text>\n</g>\n<!-- 3 -->\n<g id=\"node4\" class=\"node\">\n<title>3</title>\n<ellipse fill=\"none\" stroke=\"black\" cx=\"653.19\" cy=\"-178\" rx=\"100.98\" ry=\"18\"/>\n<text text-anchor=\"middle\" x=\"653.19\" y=\"-174.3\" font-family=\"Times New Roman,serif\" font-size=\"14.00\">permission(s|:)[0&#45;9]{1,4}</text>\n</g>\n<!-- Start&#45;&gt;3 -->\n<g id=\"edge10\" class=\"edge\">\n<title>Start&#45;&gt;3</title>\n<path fill=\"none\" stroke=\"black\" d=\"M2510.82,-263.79C2156.93,-262.71 707.97,-256.58 670.19,-229 662.85,-223.64 658.64,-214.92 656.25,-206.26\"/>\n<polygon fill=\"black\" stroke=\"black\" points=\"659.64,-205.4 654.19,-196.32 652.79,-206.82 659.64,-205.4\"/>\n<text text-anchor=\"middle\" x=\"697.19\" y=\"-217.8\" font-family=\"Times New Roman,serif\" font-size=\"14.00\">42.umask</text>\n</g>\n<!-- 4 -->\n<g id=\"node5\" class=\"node\">\n<title>4</title>\n<ellipse fill=\"none\" stroke=\"black\" cx=\"834.19\" cy=\"-178\" rx=\"27\" ry=\"18\"/>\n<text text-anchor=\"middle\" x=\"834.19\" y=\"-174.3\" font-family=\"Times New Roman,serif\" font-size=\"14.00\">/var/</text>\n</g>\n<!-- Start&#45;&gt;4 -->\n<g id=\"edge11\" class=\"edge\">\n<title>Start&#45;&gt;4</title>\n<path fill=\"none\" stroke=\"black\" d=\"M2510.76,-264.01C2163.2,-263.86 762.84,-261.25 731.19,-229 726.52,-224.24 727.31,-219.42 731.19,-214 739.29,-202.7 772.13,-192.82 798.58,-186.47\"/>\n<polygon fill=\"black\" stroke=\"black\" points=\"799.38,-189.88 808.34,-184.21 797.81,-183.06 799.38,-189.88\"/>\n<text text-anchor=\"middle\" x=\"754.19\" y=\"-217.8\" font-family=\"Times New Roman,serif\" font-size=\"14.00\">53.open</text>\n</g>\n<!-- Start&#45;&gt;4 -->\n<g id=\"edge12\" class=\"edge\">\n<title>Start&#45;&gt;4</title>\n<path fill=\"none\" stroke=\"black\" d=\"M2510.81,-263.95C2171.49,-263.54 830.57,-259.97 800.19,-229 791.26,-219.89 798.47,-208.17 808.51,-198.36\"/>\n<polygon fill=\"black\" stroke=\"black\" points=\"810.95,-200.87 816.12,-191.62 806.32,-195.63 810.95,-200.87\"/>\n<text text-anchor=\"middle\" x=\"823.19\" y=\"-217.8\" font-family=\"Times New Roman,serif\" font-size=\"14.00\">58.lseek</text>\n</g>\n<!-- Start&#45;&gt;4 -->\n<g id=\"edge13\" class=\"edge\">\n<title>Start&#45;&gt;4</title>\n<path fill=\"none\" stroke=\"black\" d=\"M2510.8,-264.37C2185.51,-265.67 942.39,-268.07 869.19,-229 859.13,-223.63 851.35,-213.94 845.7,-204.51\"/>\n<polygon fill=\"black\" stroke=\"black\" points=\"848.77,-202.83 840.94,-195.7 842.61,-206.16 848.77,-202.83\"/>\n<text text-anchor=\"middle\" x=\"891.19\" y=\"-217.8\" font-family=\"Times New Roman,serif\" font-size=\"14.00\">3.stat64</text>\n</g>\n<!-- Start&#45;&gt;4 -->\n<g id=\"edge14\" class=\"edge\">\n<title>Start&#45;&gt;4</title>\n<path fill=\"none\" stroke=\"black\" d=\"M2510.86,-264.14C2206.53,-264.43 1100.48,-263.11 947.19,-229 946.92,-228.94 898.91,-207.68 865.56,-192.9\"/>\n<polygon fill=\"black\" stroke=\"black\" points=\"866.74,-189.59 856.18,-188.74 863.9,-195.99 866.74,-189.59\"/>\n<text text-anchor=\"middle\" x=\"969.69\" y=\"-217.8\" font-family=\"Times New Roman,serif\" font-size=\"14.00\">61.write</text>\n</g>\n<!-- 5 -->\n<g id=\"node6\" class=\"node\">\n<title>5</title>\n<ellipse fill=\"none\" stroke=\"black\" cx=\"1161.19\" cy=\"-178\" rx=\"66.89\" ry=\"18\"/>\n<text text-anchor=\"middle\" x=\"1161.19\" y=\"-174.3\" font-family=\"Times New Roman,serif\" font-size=\"14.00\">/boot/[a&#45;z]{10}</text>\n</g>\n<!-- Start&#45;&gt;5 -->\n<g id=\"edge15\" class=\"edge\">\n<title>Start&#45;&gt;5</title>\n<path fill=\"none\" stroke=\"black\" d=\"M2510.83,-263.75C2196.54,-262.54 1030.81,-256.21 1004.19,-229 974.64,-198.79 1031.48,-186.8 1084.84,-182.05\"/>\n<polygon fill=\"black\" stroke=\"black\" points=\"1085.41,-185.52 1095.09,-181.23 1084.84,-178.54 1085.41,-185.52\"/>\n<text text-anchor=\"middle\" x=\"1023.19\" y=\"-217.8\" font-family=\"Times New Roman,serif\" font-size=\"14.00\">9.write</text>\n</g>\n<!-- Start&#45;&gt;5 -->\n<g id=\"edge16\" class=\"edge\">\n<title>Start&#45;&gt;5</title>\n<path fill=\"none\" stroke=\"black\" d=\"M2510.97,-263.68C2204.67,-262.21 1090.7,-255.1 1065.19,-229 1048.86,-212.29 1071.04,-200.02 1098.18,-191.81\"/>\n<polygon fill=\"black\" stroke=\"black\" points=\"1099.24,-195.15 1107.93,-189.08 1097.35,-188.41 1099.24,-195.15\"/>\n<text text-anchor=\"middle\" x=\"1084.69\" y=\"-217.8\" font-family=\"Times New Roman,serif\" font-size=\"14.00\">5.open</text>\n</g>\n<!-- Start&#45;&gt;5 -->\n<g id=\"edge17\" class=\"edge\">\n<title>Start&#45;&gt;5</title>\n<path fill=\"none\" stroke=\"black\" d=\"M2510.83,-263.6C2212.43,-261.86 1151.56,-253.95 1127.19,-229 1119.46,-221.08 1123.87,-211.2 1131.73,-202.32\"/>\n<polygon fill=\"black\" stroke=\"black\" points=\"1134.31,-204.68 1138.95,-195.16 1129.39,-199.71 1134.31,-204.68\"/>\n<text text-anchor=\"middle\" x=\"1151.19\" y=\"-217.8\" font-family=\"Times New Roman,serif\" font-size=\"14.00\">11.clone</text>\n</g>\n<!-- Start&#45;&gt;5 -->\n<g id=\"edge18\" class=\"edge\">\n<title>Start&#45;&gt;5</title>\n<path fill=\"none\" stroke=\"black\" d=\"M2510.73,-263.92C2226.82,-263.4 1256.66,-259.4 1198.19,-229 1188.03,-223.72 1179.93,-214.22 1173.94,-204.92\"/>\n<polygon fill=\"black\" stroke=\"black\" points=\"1176.91,-203.06 1168.84,-196.2 1170.87,-206.6 1176.91,-203.06\"/>\n<text text-anchor=\"middle\" x=\"1214.69\" y=\"-217.8\" font-family=\"Times New Roman,serif\" font-size=\"14.00\">26.rm</text>\n</g>\n<!-- Start&#45;&gt;5 -->\n<g id=\"edge19\" class=\"edge\">\n<title>Start&#45;&gt;5</title>\n<path fill=\"none\" stroke=\"black\" d=\"M2510.81,-264.42C2244.23,-265.55 1373.84,-266.28 1254.19,-229 1242.54,-225.37 1241.78,-220.07 1231.19,-214 1221.9,-208.67 1211.7,-203.31 1202.02,-198.43\"/>\n<polygon fill=\"black\" stroke=\"black\" points=\"1203.47,-195.24 1192.96,-193.93 1200.36,-201.51 1203.47,-195.24\"/>\n<text text-anchor=\"middle\" x=\"1273.69\" y=\"-217.8\" font-family=\"Times New Roman,serif\" font-size=\"14.00\">7.lseek</text>\n</g>\n<!-- Start&#45;&gt;5 -->\n<g id=\"edge20\" class=\"edge\">\n<title>Start&#45;&gt;5</title>\n<path fill=\"none\" stroke=\"black\" d=\"M2510.8,-263.59C2254.35,-261.98 1442.1,-254.89 1327.19,-229 1311.08,-225.37 1308.78,-219.47 1293.19,-214 1269.81,-205.8 1243.51,-198.46 1220.58,-192.64\"/>\n<polygon fill=\"black\" stroke=\"black\" points=\"1221.19,-189.19 1210.64,-190.17 1219.5,-195.98 1221.19,-189.19\"/>\n<text text-anchor=\"middle\" x=\"1352.69\" y=\"-217.8\" font-family=\"Times New Roman,serif\" font-size=\"14.00\">55.stat64</text>\n</g>\n<!-- 6 -->\n<g id=\"node7\" class=\"node\">\n<title>6</title>\n<ellipse fill=\"none\" stroke=\"black\" cx=\"1548.19\" cy=\"-178\" rx=\"32.49\" ry=\"18\"/>\n<text text-anchor=\"middle\" x=\"1548.19\" y=\"-174.3\" font-family=\"Times New Roman,serif\" font-size=\"14.00\">/boot/</text>\n</g>\n<!-- Start&#45;&gt;6 -->\n<g id=\"edge21\" class=\"edge\">\n<title>Start&#45;&gt;6</title>\n<path fill=\"none\" stroke=\"black\" d=\"M2511.02,-263.18C2249.18,-260.21 1409.76,-249.15 1390.19,-229 1354.08,-191.81 1447.07,-182.2 1505.32,-179.77\"/>\n<polygon fill=\"black\" stroke=\"black\" points=\"1505.54,-183.27 1515.4,-179.41 1505.28,-176.27 1505.54,-183.27\"/>\n<text text-anchor=\"middle\" x=\"1409.19\" y=\"-217.8\" font-family=\"Times New Roman,serif\" font-size=\"14.00\">8.write</text>\n</g>\n<!-- Start&#45;&gt;6 -->\n<g id=\"edge22\" class=\"edge\">\n<title>Start&#45;&gt;6</title>\n<path fill=\"none\" stroke=\"black\" d=\"M2511.02,-263.05C2258.16,-259.78 1469.66,-248.04 1451.19,-229 1430.37,-207.52 1472.14,-193.52 1507.21,-185.94\"/>\n<polygon fill=\"black\" stroke=\"black\" points=\"1508.23,-189.3 1517.33,-183.88 1506.84,-182.44 1508.23,-189.3\"/>\n<text text-anchor=\"middle\" x=\"1470.69\" y=\"-217.8\" font-family=\"Times New Roman,serif\" font-size=\"14.00\">4.open</text>\n</g>\n<!-- Start&#45;&gt;6 -->\n<g id=\"edge23\" class=\"edge\">\n<title>Start&#45;&gt;6</title>\n<path fill=\"none\" stroke=\"black\" d=\"M2510.74,-264.39C2269.85,-265.23 1547.79,-264.74 1513.19,-229 1504.62,-220.14 1511.07,-209.01 1520.65,-199.5\"/>\n<polygon fill=\"black\" stroke=\"black\" points=\"1523.26,-201.87 1528.4,-192.6 1518.6,-196.64 1523.26,-201.87\"/>\n<text text-anchor=\"middle\" x=\"1537.19\" y=\"-217.8\" font-family=\"Times New Roman,serif\" font-size=\"14.00\">10.clone</text>\n</g>\n<!-- Start&#45;&gt;6 -->\n<g id=\"edge24\" class=\"edge\">\n<title>Start&#45;&gt;6</title>\n<path fill=\"none\" stroke=\"black\" d=\"M2511.01,-263.16C2282.84,-260.43 1624.84,-250.72 1584.19,-229 1574.04,-223.57 1566.06,-213.88 1560.23,-204.45\"/>\n<polygon fill=\"black\" stroke=\"black\" points=\"1563.23,-202.66 1555.28,-195.66 1557.13,-206.09 1563.23,-202.66\"/>\n<text text-anchor=\"middle\" x=\"1600.69\" y=\"-217.8\" font-family=\"Times New Roman,serif\" font-size=\"14.00\">25.rm</text>\n</g>\n<!-- Start&#45;&gt;6 -->\n<g id=\"edge25\" class=\"edge\">\n<title>Start&#45;&gt;6</title>\n<path fill=\"none\" stroke=\"black\" d=\"M2510.84,-263.52C2299.4,-261.86 1722.02,-254.98 1640.19,-229 1628.56,-225.31 1627.76,-220.1 1617.19,-214 1605.74,-207.39 1592.9,-200.69 1581.42,-194.94\"/>\n<polygon fill=\"black\" stroke=\"black\" points=\"1582.68,-191.66 1572.16,-190.36 1579.58,-197.93 1582.68,-191.66\"/>\n<text text-anchor=\"middle\" x=\"1659.69\" y=\"-217.8\" font-family=\"Times New Roman,serif\" font-size=\"14.00\">6.lseek</text>\n</g>\n<!-- Start&#45;&gt;6 -->\n<g id=\"edge26\" class=\"edge\">\n<title>Start&#45;&gt;6</title>\n<path fill=\"none\" stroke=\"black\" d=\"M2510.87,-264.29C2326.75,-264.45 1866.51,-261.45 1716.19,-229 1698.85,-225.26 1696.02,-219.63 1679.19,-214 1648.84,-203.84 1613.78,-194.6 1587.58,-188.17\"/>\n<polygon fill=\"black\" stroke=\"black\" points=\"1588.18,-184.71 1577.64,-185.76 1586.53,-191.52 1588.18,-184.71\"/>\n<text text-anchor=\"middle\" x=\"1741.69\" y=\"-217.8\" font-family=\"Times New Roman,serif\" font-size=\"14.00\">54.stat64</text>\n</g>\n<!-- 7 -->\n<g id=\"node8\" class=\"node\">\n<title>7</title>\n<ellipse fill=\"none\" stroke=\"black\" cx=\"1878.19\" cy=\"-178\" rx=\"42.79\" ry=\"18\"/>\n<text text-anchor=\"middle\" x=\"1878.19\" y=\"-174.3\" font-family=\"Times New Roman,serif\" font-size=\"14.00\">/etc/cron</text>\n</g>\n<!-- Start&#45;&gt;7 -->\n<g id=\"edge27\" class=\"edge\">\n<title>Start&#45;&gt;7</title>\n<path fill=\"none\" stroke=\"black\" d=\"M2510.96,-263.52C2313.04,-261.93 1801.36,-255.27 1776.19,-229 1756.02,-207.94 1793.2,-194.52 1828.2,-186.95\"/>\n<polygon fill=\"black\" stroke=\"black\" points=\"1829.33,-190.29 1838.44,-184.88 1827.95,-183.43 1829.33,-190.29\"/>\n<text text-anchor=\"middle\" x=\"1798.69\" y=\"-217.8\" font-family=\"Times New Roman,serif\" font-size=\"14.00\">18.write</text>\n</g>\n<!-- Start&#45;&gt;7 -->\n<g id=\"edge28\" class=\"edge\">\n<title>Start&#45;&gt;7</title>\n<path fill=\"none\" stroke=\"black\" d=\"M2511.05,-263.2C2325.32,-260.91 1866.94,-252.84 1844.19,-229 1836.19,-220.61 1841.42,-210.15 1849.96,-200.97\"/>\n<polygon fill=\"black\" stroke=\"black\" points=\"1852.51,-203.38 1857.33,-193.94 1847.68,-198.31 1852.51,-203.38\"/>\n<text text-anchor=\"middle\" x=\"1867.19\" y=\"-217.8\" font-family=\"Times New Roman,serif\" font-size=\"14.00\">16.open</text>\n</g>\n<!-- Start&#45;&gt;7 -->\n<g id=\"edge29\" class=\"edge\">\n<title>Start&#45;&gt;7</title>\n<path fill=\"none\" stroke=\"black\" d=\"M2510.93,-263.78C2344.76,-262.76 1964.32,-257.33 1913.19,-229 1903.46,-223.61 1895.82,-214.23 1890.2,-205.04\"/>\n<polygon fill=\"black\" stroke=\"black\" points=\"1893.14,-203.13 1885.25,-196.07 1887.02,-206.51 1893.14,-203.13\"/>\n<text text-anchor=\"middle\" x=\"1942.19\" y=\"-217.8\" font-family=\"Times New Roman,serif\" font-size=\"14.00\">48.rename</text>\n</g>\n<!-- Start&#45;&gt;7 -->\n<g id=\"edge30\" class=\"edge\">\n<title>Start&#45;&gt;7</title>\n<path fill=\"none\" stroke=\"black\" d=\"M2511.62,-262.27C2377.06,-258.74 2103.58,-249.28 2010.19,-229 1992.04,-225.06 1988.55,-220.6 1971.19,-214 1954.1,-207.5 1935.22,-200.38 1918.96,-194.27\"/>\n<polygon fill=\"black\" stroke=\"black\" points=\"1919.81,-190.85 1909.21,-190.61 1917.35,-197.4 1919.81,-190.85\"/>\n<text text-anchor=\"middle\" x=\"2033.19\" y=\"-217.8\" font-family=\"Times New Roman,serif\" font-size=\"14.00\">17.lseek</text>\n</g>\n<!-- 8 -->\n<g id=\"node9\" class=\"node\">\n<title>8</title>\n<ellipse fill=\"none\" stroke=\"black\" cx=\"2278.19\" cy=\"-178\" rx=\"53.09\" ry=\"18\"/>\n<text text-anchor=\"middle\" x=\"2278.19\" y=\"-174.3\" font-family=\"Times New Roman,serif\" font-size=\"14.00\">^systemctl$</text>\n</g>\n<!-- Start&#45;&gt;8 -->\n<g id=\"edge31\" class=\"edge\">\n<title>Start&#45;&gt;8</title>\n<path fill=\"none\" stroke=\"black\" d=\"M2510.7,-264.54C2372.02,-264.68 2093.07,-260.94 2063.19,-229 2058.64,-224.13 2058.87,-219.08 2063.19,-214 2082.39,-191.42 2158.68,-183.37 2214.95,-180.52\"/>\n<polygon fill=\"black\" stroke=\"black\" points=\"2215.38,-184.01 2225.21,-180.05 2215.06,-177.01 2215.38,-184.01\"/>\n<text text-anchor=\"middle\" x=\"2108.69\" y=\"-217.8\" font-family=\"Times New Roman,serif\" font-size=\"14.00\">73.getsockname</text>\n</g>\n<!-- Start&#45;&gt;8 -->\n<g id=\"edge32\" class=\"edge\">\n<title>Start&#45;&gt;8</title>\n<path fill=\"none\" stroke=\"black\" d=\"M2511.01,-262.94C2398.21,-260.58 2199.26,-253.03 2177.19,-229 2159.14,-209.35 2188.99,-196.44 2220.83,-188.67\"/>\n<polygon fill=\"black\" stroke=\"black\" points=\"2221.75,-192.05 2230.72,-186.43 2220.2,-185.23 2221.75,-192.05\"/>\n<text text-anchor=\"middle\" x=\"2216.69\" y=\"-217.8\" font-family=\"Times New Roman,serif\" font-size=\"14.00\">72.setsockopt</text>\n</g>\n<!-- Start&#45;&gt;8 -->\n<g id=\"edge33\" class=\"edge\">\n<title>Start&#45;&gt;8</title>\n<path fill=\"none\" stroke=\"black\" d=\"M2513,-260.59C2426.61,-255.89 2294.69,-246.01 2279.19,-229 2273.68,-222.95 2272.09,-214.59 2272.28,-206.42\"/>\n<polygon fill=\"black\" stroke=\"black\" points=\"2275.78,-206.69 2273.32,-196.38 2268.81,-205.97 2275.78,-206.69\"/>\n<text text-anchor=\"middle\" x=\"2300.69\" y=\"-217.8\" font-family=\"Times New Roman,serif\" font-size=\"14.00\">35.exec</text>\n</g>\n<!-- Start&#45;&gt;8 -->\n<g id=\"edge34\" class=\"edge\">\n<title>Start&#45;&gt;8</title>\n<path fill=\"none\" stroke=\"black\" d=\"M2511.47,-262.62C2462.32,-259.42 2398.07,-250.86 2345.19,-229 2340.74,-227.16 2322.87,-213.76 2306.7,-201.3\"/>\n<polygon fill=\"black\" stroke=\"black\" points=\"2308.53,-198.29 2298.48,-194.94 2304.24,-203.83 2308.53,-198.29\"/>\n<text text-anchor=\"middle\" x=\"2385.19\" y=\"-217.8\" font-family=\"Times New Roman,serif\" font-size=\"14.00\">71.getsockopt</text>\n</g>\n<!-- Start&#45;&gt;8 -->\n<g id=\"edge35\" class=\"edge\">\n<title>Start&#45;&gt;8</title>\n<path fill=\"none\" stroke=\"black\" d=\"M2539.13,-251.03C2516.49,-244.79 2489.34,-236.95 2465.19,-229 2447.16,-223.06 2443.35,-219.54 2425.19,-214 2394.91,-204.76 2360.51,-196.45 2332.61,-190.25\"/>\n<polygon fill=\"black\" stroke=\"black\" points=\"2333.16,-186.79 2322.64,-188.07 2331.66,-193.63 2333.16,-186.79\"/>\n<text text-anchor=\"middle\" x=\"2488.69\" y=\"-217.8\" font-family=\"Times New Roman,serif\" font-size=\"14.00\">36.wait4</text>\n</g>\n<!-- 9 -->\n<g id=\"node10\" class=\"node\">\n<title>9</title>\n<ellipse fill=\"none\" stroke=\"black\" cx=\"2553.19\" cy=\"-178\" rx=\"27.1\" ry=\"18\"/>\n<text text-anchor=\"middle\" x=\"2553.19\" y=\"-174.3\" font-family=\"Times New Roman,serif\" font-size=\"14.00\">^sh$</text>\n</g>\n<!-- Start&#45;&gt;9 -->\n<g id=\"edge36\" class=\"edge\">\n<title>Start&#45;&gt;9</title>\n<path fill=\"none\" stroke=\"black\" d=\"M2542.53,-250.23C2532.89,-245.13 2523.91,-238.25 2518.19,-229 2511.78,-218.62 2518.22,-207.45 2527.25,-198.31\"/>\n<polygon fill=\"black\" stroke=\"black\" points=\"2529.76,-200.76 2534.86,-191.47 2525.08,-195.56 2529.76,-200.76\"/>\n<text text-anchor=\"middle\" x=\"2542.19\" y=\"-217.8\" font-family=\"Times New Roman,serif\" font-size=\"14.00\">23.clone</text>\n</g>\n<!-- Start&#45;&gt;9 -->\n<g id=\"edge37\" class=\"edge\">\n<title>Start&#45;&gt;9</title>\n<path fill=\"none\" stroke=\"black\" d=\"M2581.11,-246.8C2576.16,-234.78 2569.46,-218.51 2563.87,-204.92\"/>\n<polygon fill=\"black\" stroke=\"black\" points=\"2567.07,-203.51 2560.03,-195.6 2560.6,-206.18 2567.07,-203.51\"/>\n<text text-anchor=\"middle\" x=\"2602.19\" y=\"-217.8\" font-family=\"Times New Roman,serif\" font-size=\"14.00\">24.waitpid</text>\n</g>\n<!-- 10 -->\n<g id=\"node11\" class=\"node\">\n<title>10</title>\n<ellipse fill=\"none\" stroke=\"black\" cx=\"2744.19\" cy=\"-178\" rx=\"71.49\" ry=\"18\"/>\n<text text-anchor=\"middle\" x=\"2744.19\" y=\"-174.3\" font-family=\"Times New Roman,serif\" font-size=\"14.00\">[a&#45;zA&#45;z]:d{1,5}$</text>\n</g>\n<!-- Start&#45;&gt;10 -->\n<g id=\"edge38\" class=\"edge\">\n<title>Start&#45;&gt;10</title>\n<path fill=\"none\" stroke=\"black\" d=\"M2613.27,-247.76C2629.3,-237.61 2650.68,-224.53 2670.19,-214 2680.15,-208.63 2691.08,-203.21 2701.4,-198.3\"/>\n<polygon fill=\"black\" stroke=\"black\" points=\"2703.1,-201.36 2710.67,-193.94 2700.13,-195.03 2703.1,-201.36\"/>\n<text text-anchor=\"middle\" x=\"2697.19\" y=\"-217.8\" font-family=\"Times New Roman,serif\" font-size=\"14.00\">41.umask</text>\n</g>\n<!-- Start&#45;&gt;10 -->\n<g id=\"edge39\" class=\"edge\">\n<title>Start&#45;&gt;10</title>\n<path fill=\"none\" stroke=\"black\" d=\"M2660.21,-258.26C2682.85,-253.33 2706.52,-244.53 2724.19,-229 2731.06,-222.97 2735.6,-214.25 2738.58,-205.78\"/>\n<polygon fill=\"black\" stroke=\"black\" points=\"2741.96,-206.71 2741.42,-196.13 2735.24,-204.73 2741.96,-206.71\"/>\n<text text-anchor=\"middle\" x=\"2770.69\" y=\"-217.8\" font-family=\"Times New Roman,serif\" font-size=\"14.00\">2.exit_group</text>\n</g>\n<!-- Start&#45;&gt;10 -->\n<g id=\"edge40\" class=\"edge\">\n<title>Start&#45;&gt;10</title>\n<path fill=\"none\" stroke=\"black\" d=\"M2664.81,-262.21C2721.37,-259.08 2791.59,-250.76 2810.19,-229 2820.52,-216.92 2809.62,-205.95 2793.91,-197.39\"/>\n<polygon fill=\"black\" stroke=\"black\" points=\"2795.3,-194.17 2784.78,-192.88 2792.2,-200.45 2795.3,-194.17\"/>\n<text text-anchor=\"middle\" x=\"2844.19\" y=\"-217.8\" font-family=\"Times New Roman,serif\" font-size=\"14.00\">12.shmget</text>\n</g>\n<!-- 11 -->\n<g id=\"node12\" class=\"node\">\n<title>11</title>\n<ellipse fill=\"none\" stroke=\"black\" cx=\"2982.19\" cy=\"-178\" rx=\"148.67\" ry=\"18\"/>\n<text text-anchor=\"middle\" x=\"2982.19\" y=\"-174.3\" font-family=\"Times New Roman,serif\" font-size=\"14.00\">d{1,3}.d{1,3}.d{1,3}.d{1,3}:d{1,5}$</text>\n</g>\n<!-- Start&#45;&gt;11 -->\n<g id=\"edge41\" class=\"edge\">\n<title>Start&#45;&gt;11</title>\n<path fill=\"none\" stroke=\"black\" d=\"M2664.08,-261.5C2723.16,-257.97 2806.69,-249.46 2877.19,-229 2900.46,-222.25 2924.99,-210.84 2944.48,-200.62\"/>\n<polygon fill=\"black\" stroke=\"black\" points=\"2946.17,-203.69 2953.33,-195.88 2942.87,-197.52 2946.17,-203.69\"/>\n<text text-anchor=\"middle\" x=\"2955.69\" y=\"-217.8\" font-family=\"Times New Roman,serif\" font-size=\"14.00\">65._newselect</text>\n</g>\n<!-- Start&#45;&gt;11 -->\n<g id=\"edge42\" class=\"edge\">\n<title>Start&#45;&gt;11</title>\n<path fill=\"none\" stroke=\"black\" d=\"M2665.38,-262.94C2778.17,-260.58 2977.12,-253.03 2999.19,-229 3005.3,-222.36 3004.2,-213.43 3000.53,-204.96\"/>\n<polygon fill=\"black\" stroke=\"black\" points=\"3003.57,-203.23 2995.76,-196.08 2997.4,-206.54 3003.57,-203.23\"/>\n<text text-anchor=\"middle\" x=\"3026.19\" y=\"-217.8\" font-family=\"Times New Roman,serif\" font-size=\"14.00\">63.send</text>\n</g>\n<!-- Start&#45;&gt;11 -->\n<g id=\"edge43\" class=\"edge\">\n<title>Start&#45;&gt;11</title>\n<path fill=\"none\" stroke=\"black\" d=\"M2665.55,-263.78C2790.77,-262.6 3026.51,-256.69 3052.19,-229 3062.28,-218.12 3053.99,-208.15 3040.07,-200.03\"/>\n<polygon fill=\"black\" stroke=\"black\" points=\"3041.28,-196.71 3030.79,-195.22 3038.06,-202.92 3041.28,-196.71\"/>\n<text text-anchor=\"middle\" x=\"3088.19\" y=\"-217.8\" font-family=\"Times New Roman,serif\" font-size=\"14.00\">67.connect</text>\n</g>\n<!-- 12 -->\n<g id=\"node13\" class=\"node\">\n<title>12</title>\n<ellipse fill=\"none\" stroke=\"black\" cx=\"3167.19\" cy=\"-91\" rx=\"37.09\" ry=\"18\"/>\n<text text-anchor=\"middle\" x=\"3167.19\" y=\"-87.3\" font-family=\"Times New Roman,serif\" font-size=\"14.00\">bin/sed</text>\n</g>\n<!-- Start&#45;&gt;12 -->\n<g id=\"edge44\" class=\"edge\">\n<title>Start&#45;&gt;12</title>\n<path fill=\"none\" stroke=\"black\" d=\"M2665.32,-263.12C2804.31,-260.91 3085.87,-253.46 3123.19,-229 3158.86,-205.62 3166.52,-152.51 3167.67,-119.71\"/>\n<polygon fill=\"black\" stroke=\"black\" points=\"3171.18,-119.49 3167.84,-109.43 3164.18,-119.37 3171.18,-119.49\"/>\n<text text-anchor=\"middle\" x=\"3181.69\" y=\"-174.3\" font-family=\"Times New Roman,serif\" font-size=\"14.00\">37.stat</text>\n</g>\n<!-- 13 -->\n<g id=\"node14\" class=\"node\">\n<title>13</title>\n<ellipse fill=\"none\" stroke=\"black\" cx=\"3377.19\" cy=\"-178\" rx=\"27.1\" ry=\"18\"/>\n<text text-anchor=\"middle\" x=\"3377.19\" y=\"-174.3\" font-family=\"Times New Roman,serif\" font-size=\"14.00\">/run/</text>\n</g>\n<!-- Start&#45;&gt;13 -->\n<g id=\"edge45\" class=\"edge\">\n<title>Start&#45;&gt;13</title>\n<path fill=\"none\" stroke=\"black\" d=\"M2665.53,-264.31C2803.25,-264.06 3085.25,-259.65 3178.19,-229 3189.78,-225.18 3189.89,-218.61 3201.19,-214 3246.88,-195.37 3303.39,-186.4 3339.86,-182.26\"/>\n<polygon fill=\"black\" stroke=\"black\" points=\"3340.47,-185.72 3350.04,-181.17 3339.72,-178.76 3340.47,-185.72\"/>\n<text text-anchor=\"middle\" x=\"3224.19\" y=\"-217.8\" font-family=\"Times New Roman,serif\" font-size=\"14.00\">56.lseek</text>\n</g>\n<!-- Start&#45;&gt;13 -->\n<g id=\"edge46\" class=\"edge\">\n<title>Start&#45;&gt;13</title>\n<path fill=\"none\" stroke=\"black\" d=\"M2664.82,-262.17C2826.7,-257.97 3193.14,-246.64 3247.19,-229 3258.79,-225.21 3259.19,-219.28 3270.19,-214 3293.21,-202.96 3320.6,-194.08 3341.9,-188.02\"/>\n<polygon fill=\"black\" stroke=\"black\" points=\"3343.12,-191.32 3351.83,-185.28 3341.26,-184.57 3343.12,-191.32\"/>\n<text text-anchor=\"middle\" x=\"3295.69\" y=\"-217.8\" font-family=\"Times New Roman,serif\" font-size=\"14.00\">49.stat64</text>\n</g>\n<!-- Start&#45;&gt;13 -->\n<g id=\"edge47\" class=\"edge\">\n<title>Start&#45;&gt;13</title>\n<path fill=\"none\" stroke=\"black\" d=\"M2665.31,-263.22C2841.26,-261.04 3261.75,-253.31 3321.19,-229 3329.09,-225.77 3343.54,-212.78 3355.78,-200.85\"/>\n<polygon fill=\"black\" stroke=\"black\" points=\"3358.41,-203.18 3363.05,-193.66 3353.48,-198.21 3358.41,-203.18\"/>\n<text text-anchor=\"middle\" x=\"3364.69\" y=\"-217.8\" font-family=\"Times New Roman,serif\" font-size=\"14.00\">59.write</text>\n</g>\n<!-- Start&#45;&gt;13 -->\n<g id=\"edge48\" class=\"edge\">\n<title>Start&#45;&gt;13</title>\n<path fill=\"none\" stroke=\"black\" d=\"M2665.44,-263.48C2861.46,-261.77 3364.42,-254.88 3389.19,-229 3395.54,-222.37 3394.85,-213 3391.76,-204.16\"/>\n<polygon fill=\"black\" stroke=\"black\" points=\"3394.92,-202.66 3387.68,-194.93 3388.52,-205.49 3394.92,-202.66\"/>\n<text text-anchor=\"middle\" x=\"3412.69\" y=\"-217.8\" font-family=\"Times New Roman,serif\" font-size=\"14.00\">33.stat</text>\n</g>\n<!-- Start&#45;&gt;13 -->\n<g id=\"edge49\" class=\"edge\">\n<title>Start&#45;&gt;13</title>\n<path fill=\"none\" stroke=\"black\" d=\"M2665.4,-263.67C2869.36,-262.42 3408.78,-256.53 3435.19,-229 3448.15,-215.5 3429.33,-201.74 3409.77,-192.07\"/>\n<polygon fill=\"black\" stroke=\"black\" points=\"3411.08,-188.83 3400.54,-187.81 3408.15,-195.18 3411.08,-188.83\"/>\n<text text-anchor=\"middle\" x=\"3477.19\" y=\"-217.8\" font-family=\"Times New Roman,serif\" font-size=\"14.00\">70.newfstatat</text>\n</g>\n<!-- Start&#45;&gt;13 -->\n<g id=\"edge50\" class=\"edge\">\n<title>Start&#45;&gt;13</title>\n<path fill=\"none\" stroke=\"black\" d=\"M2665.41,-263.97C2883.26,-263.52 3488.81,-259.51 3518.19,-229 3550.81,-195.13 3466.79,-184.16 3414.78,-180.64\"/>\n<polygon fill=\"black\" stroke=\"black\" points=\"3414.73,-177.13 3404.54,-180.01 3414.3,-184.12 3414.73,-177.13\"/>\n<text text-anchor=\"middle\" x=\"3549.19\" y=\"-217.8\" font-family=\"Times New Roman,serif\" font-size=\"14.00\">51.open</text>\n</g>\n<!-- 14 -->\n<g id=\"node15\" class=\"node\">\n<title>14</title>\n<ellipse fill=\"none\" stroke=\"black\" cx=\"3676.19\" cy=\"-178\" rx=\"38.19\" ry=\"18\"/>\n<text text-anchor=\"middle\" x=\"3676.19\" y=\"-174.3\" font-family=\"Times New Roman,serif\" font-size=\"14.00\">/selinux</text>\n</g>\n<!-- Start&#45;&gt;14 -->\n<g id=\"edge51\" class=\"edge\">\n<title>Start&#45;&gt;14</title>\n<path fill=\"none\" stroke=\"black\" d=\"M2665.13,-263.16C2882.15,-260.52 3489.03,-251.21 3576.19,-229 3601.04,-222.67 3626.86,-209.56 3646.05,-198.35\"/>\n<polygon fill=\"black\" stroke=\"black\" points=\"3647.85,-201.35 3654.63,-193.21 3644.25,-195.35 3647.85,-201.35\"/>\n<text text-anchor=\"middle\" x=\"3644.69\" y=\"-217.8\" font-family=\"Times New Roman,serif\" font-size=\"14.00\">40.access</text>\n</g>\n<!-- Start&#45;&gt;14 -->\n<g id=\"edge52\" class=\"edge\">\n<title>Start&#45;&gt;14</title>\n<path fill=\"none\" stroke=\"black\" d=\"M2665.72,-264.42C2908.67,-265.37 3641.13,-265.21 3676.19,-229 3682.03,-222.97 3683.46,-214.36 3682.98,-205.99\"/>\n<polygon fill=\"black\" stroke=\"black\" points=\"3686.44,-205.5 3681.61,-196.07 3679.51,-206.45 3686.44,-205.5\"/>\n<text text-anchor=\"middle\" x=\"3707.19\" y=\"-217.8\" font-family=\"Times New Roman,serif\" font-size=\"14.00\">39.statfs</text>\n</g>\n<!-- 15 -->\n<g id=\"node16\" class=\"node\">\n<title>15</title>\n<ellipse fill=\"none\" stroke=\"black\" cx=\"3888.19\" cy=\"-178\" rx=\"38.99\" ry=\"18\"/>\n<text text-anchor=\"middle\" x=\"3888.19\" y=\"-174.3\" font-family=\"Times New Roman,serif\" font-size=\"14.00\">ip_addr</text>\n</g>\n<!-- Start&#45;&gt;15 -->\n<g id=\"edge53\" class=\"edge\">\n<title>Start&#45;&gt;15</title>\n<path fill=\"none\" stroke=\"black\" d=\"M2665.63,-264.51C2888.55,-265.51 3529.01,-265.07 3735.19,-229 3746.53,-227.02 3806.67,-206.87 3848.08,-192.76\"/>\n<polygon fill=\"black\" stroke=\"black\" points=\"3849.31,-196.04 3857.65,-189.5 3847.05,-189.42 3849.31,-196.04\"/>\n<text text-anchor=\"middle\" x=\"3823.69\" y=\"-217.8\" font-family=\"Times New Roman,serif\" font-size=\"14.00\">64._newselect</text>\n</g>\n<!-- Start&#45;&gt;15 -->\n<g id=\"edge54\" class=\"edge\">\n<title>Start&#45;&gt;15</title>\n<path fill=\"none\" stroke=\"black\" d=\"M2665.59,-264.15C2934.73,-264.38 3816.28,-262.55 3866.19,-229 3874.08,-223.7 3879.17,-214.88 3882.44,-206.11\"/>\n<polygon fill=\"black\" stroke=\"black\" points=\"3885.82,-207.01 3885.4,-196.42 3879.13,-204.96 3885.82,-207.01\"/>\n<text text-anchor=\"middle\" x=\"3910.19\" y=\"-217.8\" font-family=\"Times New Roman,serif\" font-size=\"14.00\">66.connect</text>\n</g>\n<!-- Start&#45;&gt;15 -->\n<g id=\"edge55\" class=\"edge\">\n<title>Start&#45;&gt;15</title>\n<path fill=\"none\" stroke=\"black\" d=\"M2665.57,-263.45C2950.05,-261.25 3922.73,-252.05 3945.19,-229 3956.85,-217.04 3942.95,-204.65 3925.96,-195.2\"/>\n<polygon fill=\"black\" stroke=\"black\" points=\"3927.41,-192.01 3916.92,-190.54 3924.2,-198.23 3927.41,-192.01\"/>\n<text text-anchor=\"middle\" x=\"3972.19\" y=\"-217.8\" font-family=\"Times New Roman,serif\" font-size=\"14.00\">62.send</text>\n</g>\n<!-- 16 -->\n<g id=\"node17\" class=\"node\">\n<title>16</title>\n<ellipse fill=\"none\" stroke=\"black\" cx=\"4108.19\" cy=\"-178\" rx=\"46.59\" ry=\"18\"/>\n<text text-anchor=\"middle\" x=\"4108.19\" y=\"-174.3\" font-family=\"Times New Roman,serif\" font-size=\"14.00\">/etc/init.d/</text>\n</g>\n<!-- Start&#45;&gt;16 -->\n<g id=\"edge56\" class=\"edge\">\n<title>Start&#45;&gt;16</title>\n<path fill=\"none\" stroke=\"black\" d=\"M2665.47,-263.89C2941.37,-263.23 3868.42,-258.8 3998.19,-229 4012.94,-225.61 4046.01,-210.16 4072.06,-197.32\"/>\n<polygon fill=\"black\" stroke=\"black\" points=\"4073.89,-200.32 4081.29,-192.74 4070.78,-194.05 4073.89,-200.32\"/>\n<text text-anchor=\"middle\" x=\"4059.69\" y=\"-217.8\" font-family=\"Times New Roman,serif\" font-size=\"14.00\">15.write</text>\n</g>\n<!-- Start&#45;&gt;16 -->\n<g id=\"edge57\" class=\"edge\">\n<title>Start&#45;&gt;16</title>\n<path fill=\"none\" stroke=\"black\" d=\"M2665.42,-263.31C2967.82,-260.48 4056.42,-248.93 4086.19,-229 4094.1,-223.71 4099.18,-214.9 4102.45,-206.13\"/>\n<polygon fill=\"black\" stroke=\"black\" points=\"4105.83,-207.02 4105.41,-196.44 4099.14,-204.97 4105.83,-207.02\"/>\n<text text-anchor=\"middle\" x=\"4122.19\" y=\"-217.8\" font-family=\"Times New Roman,serif\" font-size=\"14.00\">13.open</text>\n</g>\n<!-- Start&#45;&gt;16 -->\n<g id=\"edge58\" class=\"edge\">\n<title>Start&#45;&gt;16</title>\n<path fill=\"none\" stroke=\"black\" d=\"M2665.49,-263.72C2976.75,-262.42 4122.99,-255.79 4149.19,-229 4158.03,-219.96 4151.15,-209.19 4140.68,-199.97\"/>\n<polygon fill=\"black\" stroke=\"black\" points=\"4142.6,-197.03 4132.59,-193.57 4138.26,-202.52 4142.6,-197.03\"/>\n<text text-anchor=\"middle\" x=\"4176.19\" y=\"-217.8\" font-family=\"Times New Roman,serif\" font-size=\"14.00\">14.lseek</text>\n</g>\n<!-- 17 -->\n<g id=\"node18\" class=\"node\">\n<title>17</title>\n<ellipse fill=\"none\" stroke=\"black\" cx=\"4314.19\" cy=\"-178\" rx=\"33.6\" ry=\"18\"/>\n<text text-anchor=\"middle\" x=\"4314.19\" y=\"-174.3\" font-family=\"Times New Roman,serif\" font-size=\"14.00\">/etc/rc</text>\n</g>\n<!-- Start&#45;&gt;17 -->\n<g id=\"edge59\" class=\"edge\">\n<title>Start&#45;&gt;17</title>\n<path fill=\"none\" stroke=\"black\" d=\"M2665.58,-264.14C2966.93,-264.42 4052.66,-263.05 4203.19,-229 4218.78,-225.48 4254.66,-208.68 4281.44,-195.51\"/>\n<polygon fill=\"black\" stroke=\"black\" points=\"4283.07,-198.61 4290.48,-191.03 4279.97,-192.33 4283.07,-198.61\"/>\n<text text-anchor=\"middle\" x=\"4263.69\" y=\"-217.8\" font-family=\"Times New Roman,serif\" font-size=\"14.00\">22.write</text>\n</g>\n<!-- Start&#45;&gt;17 -->\n<g id=\"edge60\" class=\"edge\">\n<title>Start&#45;&gt;17</title>\n<path fill=\"none\" stroke=\"black\" d=\"M2665.4,-263.51C2993.32,-261.28 4255.6,-251.26 4290.19,-229 4298.52,-223.64 4304.03,-214.52 4307.64,-205.53\"/>\n<polygon fill=\"black\" stroke=\"black\" points=\"4310.97,-206.59 4310.86,-196 4304.34,-204.35 4310.97,-206.59\"/>\n<text text-anchor=\"middle\" x=\"4318.69\" y=\"-217.8\" font-family=\"Times New Roman,serif\" font-size=\"14.00\">21.rm</text>\n</g>\n<!-- Start&#45;&gt;17 -->\n<g id=\"edge61\" class=\"edge\">\n<title>Start&#45;&gt;17</title>\n<path fill=\"none\" stroke=\"black\" d=\"M2665.65,-263.92C3000.68,-263.37 4309.5,-259.29 4339.19,-229 4346.58,-221.46 4343.18,-211.31 4336.83,-202.12\"/>\n<polygon fill=\"black\" stroke=\"black\" points=\"4339.37,-199.69 4330.39,-194.06 4333.9,-204.06 4339.37,-199.69\"/>\n<text text-anchor=\"middle\" x=\"4363.19\" y=\"-217.8\" font-family=\"Times New Roman,serif\" font-size=\"14.00\">32.lstat</text>\n</g>\n<!-- 18 -->\n<g id=\"node19\" class=\"node\">\n<title>18</title>\n<ellipse fill=\"none\" stroke=\"black\" cx=\"4425.19\" cy=\"-18\" rx=\"55.49\" ry=\"18\"/>\n<text text-anchor=\"middle\" x=\"4425.19\" y=\"-14.3\" font-family=\"Times New Roman,serif\" font-size=\"14.00\">^chkconfig$</text>\n</g>\n<!-- Start&#45;&gt;18 -->\n<g id=\"edge62\" class=\"edge\">\n<title>Start&#45;&gt;18</title>\n<path fill=\"none\" stroke=\"black\" d=\"M2665.64,-263.82C3006.04,-262.87 4353.96,-257.31 4387.19,-229 4440.2,-183.84 4435.86,-91.81 4429.8,-46.07\"/>\n<polygon fill=\"black\" stroke=\"black\" points=\"4433.24,-45.4 4428.34,-36 4426.32,-46.4 4433.24,-45.4\"/>\n<text text-anchor=\"middle\" x=\"4455.19\" y=\"-130.8\" font-family=\"Times New Roman,serif\" font-size=\"14.00\">27.clone</text>\n</g>\n<!-- 19 -->\n<g id=\"node20\" class=\"node\">\n<title>19</title>\n<ellipse fill=\"none\" stroke=\"black\" cx=\"4503.19\" cy=\"-178\" rx=\"50.09\" ry=\"18\"/>\n<text text-anchor=\"middle\" x=\"4503.19\" y=\"-174.3\" font-family=\"Times New Roman,serif\" font-size=\"14.00\">bin/openrc</text>\n</g>\n<!-- Start&#45;&gt;19 -->\n<g id=\"edge63\" class=\"edge\">\n<title>Start&#45;&gt;19</title>\n<path fill=\"none\" stroke=\"black\" d=\"M2665.6,-263.86C3005.34,-263.06 4351.36,-258.06 4436.19,-229 4440.78,-227.43 4458.85,-213.86 4475.07,-201.26\"/>\n<polygon fill=\"black\" stroke=\"black\" points=\"4477.58,-203.74 4483.3,-194.82 4473.27,-198.22 4477.58,-203.74\"/>\n<text text-anchor=\"middle\" x=\"4475.69\" y=\"-217.8\" font-family=\"Times New Roman,serif\" font-size=\"14.00\">31.stat</text>\n</g>\n<!-- 20 -->\n<g id=\"node21\" class=\"node\">\n<title>20</title>\n<ellipse fill=\"none\" stroke=\"black\" cx=\"4644.19\" cy=\"-178\" rx=\"32.49\" ry=\"18\"/>\n<text text-anchor=\"middle\" x=\"4644.19\" y=\"-174.3\" font-family=\"Times New Roman,serif\" font-size=\"14.00\">/proc/</text>\n</g>\n<!-- Start&#45;&gt;20 -->\n<g id=\"edge64\" class=\"edge\">\n<title>Start&#45;&gt;20</title>\n<path fill=\"none\" stroke=\"black\" d=\"M2665.44,-263.78C3011.66,-262.62 4407.47,-256.26 4496.19,-229 4507.86,-225.42 4508.08,-219.04 4519.19,-214 4546.44,-201.66 4579.03,-192.7 4604.1,-186.94\"/>\n<polygon fill=\"black\" stroke=\"black\" points=\"4605,-190.33 4614,-184.75 4603.48,-183.5 4605,-190.33\"/>\n<text text-anchor=\"middle\" x=\"4542.19\" y=\"-217.8\" font-family=\"Times New Roman,serif\" font-size=\"14.00\">19.open</text>\n</g>\n<!-- Start&#45;&gt;20 -->\n<g id=\"edge65\" class=\"edge\">\n<title>Start&#45;&gt;20</title>\n<path fill=\"none\" stroke=\"black\" d=\"M2665.55,-263.83C3019.7,-262.88 4473.02,-257.29 4565.19,-229 4576.86,-225.42 4577.91,-220.57 4588.19,-214 4596.8,-208.5 4606.2,-202.6 4614.79,-197.23\"/>\n<polygon fill=\"black\" stroke=\"black\" points=\"4616.75,-200.13 4623.39,-191.87 4613.05,-194.19 4616.75,-200.13\"/>\n<text text-anchor=\"middle\" x=\"4625.19\" y=\"-217.8\" font-family=\"Times New Roman,serif\" font-size=\"14.00\">69.newfstatat</text>\n</g>\n<!-- Start&#45;&gt;20 -->\n<g id=\"edge66\" class=\"edge\">\n<title>Start&#45;&gt;20</title>\n<path fill=\"none\" stroke=\"black\" d=\"M2665.49,-264.17C3037.45,-264.78 4626.53,-265.27 4662.19,-229 4668.98,-222.09 4667.18,-212.44 4662.68,-203.46\"/>\n<polygon fill=\"black\" stroke=\"black\" points=\"4665.65,-201.6 4657.51,-194.82 4659.65,-205.2 4665.65,-201.6\"/>\n<text text-anchor=\"middle\" x=\"4693.69\" y=\"-217.8\" font-family=\"Times New Roman,serif\" font-size=\"14.00\">68.access</text>\n</g>\n<!-- Start&#45;&gt;20 -->\n<g id=\"edge67\" class=\"edge\">\n<title>Start&#45;&gt;20</title>\n<path fill=\"none\" stroke=\"black\" d=\"M2665.63,-264.21C3044.75,-265.03 4688.37,-266.44 4725.19,-229 4742.51,-211.4 4712.03,-197.32 4683.65,-188.64\"/>\n<polygon fill=\"black\" stroke=\"black\" points=\"4684.35,-185.2 4673.77,-185.79 4682.42,-191.92 4684.35,-185.2\"/>\n<text text-anchor=\"middle\" x=\"4757.69\" y=\"-217.8\" font-family=\"Times New Roman,serif\" font-size=\"14.00\">1.readlink</text>\n</g>\n<!-- 21 -->\n<g id=\"node22\" class=\"node\">\n<title>21</title>\n<ellipse fill=\"none\" stroke=\"black\" cx=\"4779.19\" cy=\"-91\" rx=\"50.09\" ry=\"18\"/>\n<text text-anchor=\"middle\" x=\"4779.19\" y=\"-87.3\" font-family=\"Times New Roman,serif\" font-size=\"14.00\">^pipe($|.|$)</text>\n</g>\n<!-- Start&#45;&gt;21 -->\n<g id=\"edge68\" class=\"edge\">\n<title>Start&#45;&gt;21</title>\n<path fill=\"none\" stroke=\"black\" d=\"M2665.7,-264.24C3051.87,-265.28 4751.18,-267.62 4789.19,-229 4803.94,-214.02 4793.64,-154.72 4785.79,-119.23\"/>\n<polygon fill=\"black\" stroke=\"black\" points=\"4789.1,-118.03 4783.46,-109.06 4782.28,-119.59 4789.1,-118.03\"/>\n<text text-anchor=\"middle\" x=\"4817.19\" y=\"-174.3\" font-family=\"Times New Roman,serif\" font-size=\"14.00\">34.pipe</text>\n</g>\n<!-- 22 -->\n<g id=\"node23\" class=\"node\">\n<title>22</title>\n<ellipse fill=\"none\" stroke=\"black\" cx=\"4857.19\" cy=\"-18\" rx=\"57.69\" ry=\"18\"/>\n<text text-anchor=\"middle\" x=\"4857.19\" y=\"-14.3\" font-family=\"Times New Roman,serif\" font-size=\"14.00\">/proc/rs_dev</text>\n</g>\n<!-- Start&#45;&gt;22 -->\n<g id=\"edge69\" class=\"edge\">\n<title>Start&#45;&gt;22</title>\n<path fill=\"none\" stroke=\"black\" d=\"M2665.5,-263.53C3051.68,-261.09 4755.44,-249.2 4806.19,-229 4873.42,-202.24 4868.3,-96.62 4861.69,-46.15\"/>\n<polygon fill=\"black\" stroke=\"black\" points=\"4865.11,-45.38 4860.23,-35.98 4858.18,-46.37 4865.11,-45.38\"/>\n<text text-anchor=\"middle\" x=\"4886.19\" y=\"-130.8\" font-family=\"Times New Roman,serif\" font-size=\"14.00\">20.open</text>\n</g>\n<!-- 23 -->\n<g id=\"node24\" class=\"node\">\n<title>23</title>\n<ellipse fill=\"none\" stroke=\"black\" cx=\"4935.19\" cy=\"-178\" rx=\"50.09\" ry=\"18\"/>\n<text text-anchor=\"middle\" x=\"4935.19\" y=\"-174.3\" font-family=\"Times New Roman,serif\" font-size=\"14.00\">bin/insserv</text>\n</g>\n<!-- Start&#45;&gt;23 -->\n<g id=\"edge70\" class=\"edge\">\n<title>Start&#45;&gt;23</title>\n<path fill=\"none\" stroke=\"black\" d=\"M2665.68,-264.2C3053.05,-265 4765.15,-266.42 4871.19,-229 4886.75,-223.51 4901.45,-212.59 4912.84,-202.36\"/>\n<polygon fill=\"black\" stroke=\"black\" points=\"4915.28,-204.86 4920.16,-195.46 4910.48,-199.77 4915.28,-204.86\"/>\n<text text-anchor=\"middle\" x=\"4916.69\" y=\"-217.8\" font-family=\"Times New Roman,serif\" font-size=\"14.00\">30.stat</text>\n</g>\n<!-- 24 -->\n<g id=\"node25\" class=\"node\">\n<title>24</title>\n<ellipse fill=\"none\" stroke=\"black\" cx=\"5021.19\" cy=\"-91\" rx=\"31.7\" ry=\"18\"/>\n<text text-anchor=\"middle\" x=\"5021.19\" y=\"-87.3\" font-family=\"Times New Roman,serif\" font-size=\"14.00\">^sed$</text>\n</g>\n<!-- Start&#45;&gt;24 -->\n<g id=\"edge71\" class=\"edge\">\n<title>Start&#45;&gt;24</title>\n<path fill=\"none\" stroke=\"black\" d=\"M2665.62,-263.98C3059.61,-263.72 4827.62,-260.8 4939.19,-229 4966.61,-221.19 4977.12,-218.83 4994.19,-196 5010.9,-173.66 5017.3,-141.94 5019.74,-119.41\"/>\n<polygon fill=\"black\" stroke=\"black\" points=\"5023.25,-119.44 5020.64,-109.18 5016.27,-118.83 5023.25,-119.44\"/>\n<text text-anchor=\"middle\" x=\"5032.69\" y=\"-174.3\" font-family=\"Times New Roman,serif\" font-size=\"14.00\">38.exec</text>\n</g>\n<!-- 25 -->\n<g id=\"node26\" class=\"node\">\n<title>25</title>\n<ellipse fill=\"none\" stroke=\"black\" cx=\"5092.19\" cy=\"-18\" rx=\"52.79\" ry=\"18\"/>\n<text text-anchor=\"middle\" x=\"5092.19\" y=\"-14.3\" font-family=\"Times New Roman,serif\" font-size=\"14.00\">update&#45;rc.d</text>\n</g>\n<!-- Start&#45;&gt;25 -->\n<g id=\"edge72\" class=\"edge\">\n<title>Start&#45;&gt;25</title>\n<path fill=\"none\" stroke=\"black\" d=\"M2665.6,-263.62C3062.53,-261.56 4855.59,-251.07 4971.19,-229 5011.81,-221.25 5031.58,-227.66 5058.19,-196 5094.02,-153.38 5096.47,-84.5 5094.63,-46.45\"/>\n<polygon fill=\"black\" stroke=\"black\" points=\"5098.1,-45.9 5093.99,-36.14 5091.12,-46.34 5098.1,-45.9\"/>\n<text text-anchor=\"middle\" x=\"5112.19\" y=\"-130.8\" font-family=\"Times New Roman,serif\" font-size=\"14.00\">28.clone</text>\n</g>\n<!-- 26 -->\n<g id=\"node27\" class=\"node\">\n<title>26</title>\n<ellipse fill=\"none\" stroke=\"black\" cx=\"5149.19\" cy=\"-178\" rx=\"29.5\" ry=\"18\"/>\n<text text-anchor=\"middle\" x=\"5149.19\" y=\"-174.3\" font-family=\"Times New Roman,serif\" font-size=\"14.00\">/perl/</text>\n</g>\n<!-- Start&#45;&gt;26 -->\n<g id=\"edge73\" class=\"edge\">\n<title>Start&#45;&gt;26</title>\n<path fill=\"none\" stroke=\"black\" d=\"M2665.44,-263.8C3082.59,-262.58 5049.55,-255.47 5106.19,-229 5117.75,-223.6 5127.38,-213.44 5134.59,-203.67\"/>\n<polygon fill=\"black\" stroke=\"black\" points=\"5137.54,-205.56 5140.28,-195.33 5131.75,-201.62 5137.54,-205.56\"/>\n<text text-anchor=\"middle\" x=\"5143.69\" y=\"-217.8\" font-family=\"Times New Roman,serif\" font-size=\"14.00\">29.stat</text>\n</g>\n</g>\n</svg>\n",
      "text/plain": [
       "<graphviz.sources.Source at 0x27a5938a4d0>"
      ]
     },
     "metadata": {},
     "output_type": "display_data"
    },
    {
     "name": "stdout",
     "output_type": "stream",
     "text": [
      "Xorddos-Intezer.csv raw doc OPset\n"
     ]
    },
    {
     "data": {
      "image/svg+xml": "<?xml version=\"1.0\" encoding=\"UTF-8\" standalone=\"no\"?>\n<!DOCTYPE svg PUBLIC \"-//W3C//DTD SVG 1.1//EN\"\n \"http://www.w3.org/Graphics/SVG/1.1/DTD/svg11.dtd\">\n<!-- Generated by graphviz version 6.0.1 (20220911.1526)\n -->\n<!-- Pages: 1 -->\n<svg width=\"582pt\" height=\"131pt\"\n viewBox=\"0.00 0.00 582.49 131.00\" xmlns=\"http://www.w3.org/2000/svg\" xmlns:xlink=\"http://www.w3.org/1999/xlink\">\n<g id=\"graph0\" class=\"graph\" transform=\"scale(1 1) rotate(0) translate(4 127)\">\n<polygon fill=\"white\" stroke=\"none\" points=\"-4,4 -4,-127 578.49,-127 578.49,4 -4,4\"/>\n<!-- Start -->\n<g id=\"node1\" class=\"node\">\n<title>Start</title>\n<ellipse fill=\"none\" stroke=\"black\" cx=\"77.34\" cy=\"-105\" rx=\"77.19\" ry=\"18\"/>\n<text text-anchor=\"middle\" x=\"77.34\" y=\"-101.3\" font-family=\"Times New Roman,serif\" font-size=\"14.00\">Malware (Subject)</text>\n</g>\n<!-- 2 -->\n<g id=\"node3\" class=\"node\">\n<title>2</title>\n<ellipse fill=\"none\" stroke=\"black\" cx=\"33.34\" cy=\"-18\" rx=\"32.49\" ry=\"18\"/>\n<text text-anchor=\"middle\" x=\"33.34\" y=\"-14.3\" font-family=\"Times New Roman,serif\" font-size=\"14.00\">/proc/</text>\n</g>\n<!-- Start&#45;&gt;2 -->\n<g id=\"edge1\" class=\"edge\">\n<title>Start&#45;&gt;2</title>\n<path fill=\"none\" stroke=\"black\" d=\"M63.33,-87.22C59.1,-81.66 54.71,-75.27 51.34,-69 47.46,-61.76 44.1,-53.52 41.38,-45.83\"/>\n<polygon fill=\"black\" stroke=\"black\" points=\"44.64,-44.57 38.16,-36.19 38,-46.79 44.64,-44.57\"/>\n<text text-anchor=\"middle\" x=\"75.84\" y=\"-57.8\" font-family=\"Times New Roman,serif\" font-size=\"14.00\">6.extract</text>\n</g>\n<!-- 5 -->\n<g id=\"node6\" class=\"node\">\n<title>5</title>\n<ellipse fill=\"none\" stroke=\"black\" cx=\"122.34\" cy=\"-18\" rx=\"38.99\" ry=\"18\"/>\n<text text-anchor=\"middle\" x=\"122.34\" y=\"-14.3\" font-family=\"Times New Roman,serif\" font-size=\"14.00\">ip_addr</text>\n</g>\n<!-- Start&#45;&gt;5 -->\n<g id=\"edge2\" class=\"edge\">\n<title>Start&#45;&gt;5</title>\n<path fill=\"none\" stroke=\"black\" d=\"M89.4,-86.91C93.11,-81.32 97.08,-75 100.34,-69 104.42,-61.5 108.35,-53.1 111.73,-45.35\"/>\n<polygon fill=\"black\" stroke=\"black\" points=\"115.01,-46.57 115.69,-36 108.57,-43.84 115.01,-46.57\"/>\n<text text-anchor=\"middle\" x=\"139.34\" y=\"-57.8\" font-family=\"Times New Roman,serif\" font-size=\"14.00\">5.hardcode</text>\n</g>\n<!-- 1 -->\n<g id=\"node2\" class=\"node\">\n<title>1</title>\n<ellipse fill=\"none\" stroke=\"black\" cx=\"219.34\" cy=\"-105\" rx=\"46.59\" ry=\"18\"/>\n<text text-anchor=\"middle\" x=\"219.34\" y=\"-101.3\" font-family=\"Times New Roman,serif\" font-size=\"14.00\">GID($|.|$)</text>\n</g>\n<!-- 3 -->\n<g id=\"node4\" class=\"node\">\n<title>3</title>\n<ellipse fill=\"none\" stroke=\"black\" cx=\"331.34\" cy=\"-105\" rx=\"46.59\" ry=\"18\"/>\n<text text-anchor=\"middle\" x=\"331.34\" y=\"-101.3\" font-family=\"Times New Roman,serif\" font-size=\"14.00\">/etc/init.d/</text>\n</g>\n<!-- 4 -->\n<g id=\"node5\" class=\"node\">\n<title>4</title>\n<ellipse fill=\"none\" stroke=\"black\" cx=\"430.34\" cy=\"-105\" rx=\"33.6\" ry=\"18\"/>\n<text text-anchor=\"middle\" x=\"430.34\" y=\"-101.3\" font-family=\"Times New Roman,serif\" font-size=\"14.00\">/etc/rc</text>\n</g>\n<!-- 6 -->\n<g id=\"node7\" class=\"node\">\n<title>6</title>\n<ellipse fill=\"none\" stroke=\"black\" cx=\"528.34\" cy=\"-105\" rx=\"46.29\" ry=\"18\"/>\n<text text-anchor=\"middle\" x=\"528.34\" y=\"-101.3\" font-family=\"Times New Roman,serif\" font-size=\"14.00\">UID($|.|$)</text>\n</g>\n</g>\n</svg>\n",
      "text/plain": [
       "<graphviz.graphs.Digraph at 0x27a5b6cb460>"
      ]
     },
     "metadata": {},
     "output_type": "display_data"
    },
    {
     "name": "stdout",
     "output_type": "stream",
     "text": [
      "Xorddos-Ms.csv raw doc OPset\n"
     ]
    },
    {
     "data": {
      "image/svg+xml": "<?xml version=\"1.0\" encoding=\"UTF-8\" standalone=\"no\"?>\n<!DOCTYPE svg PUBLIC \"-//W3C//DTD SVG 1.1//EN\"\n \"http://www.w3.org/Graphics/SVG/1.1/DTD/svg11.dtd\">\n<!-- Generated by graphviz version 6.0.1 (20220911.1526)\n -->\n<!-- Pages: 1 -->\n<svg width=\"2947pt\" height=\"131pt\"\n viewBox=\"0.00 0.00 2947.42 131.00\" xmlns=\"http://www.w3.org/2000/svg\" xmlns:xlink=\"http://www.w3.org/1999/xlink\">\n<g id=\"graph0\" class=\"graph\" transform=\"scale(1 1) rotate(0) translate(4 127)\">\n<polygon fill=\"white\" stroke=\"none\" points=\"-4,4 -4,-127 2943.42,-127 2943.42,4 -4,4\"/>\n<!-- Start -->\n<g id=\"node1\" class=\"node\">\n<title>Start</title>\n<ellipse fill=\"none\" stroke=\"black\" cx=\"1440.42\" cy=\"-105\" rx=\"77.19\" ry=\"18\"/>\n<text text-anchor=\"middle\" x=\"1440.42\" y=\"-101.3\" font-family=\"Times New Roman,serif\" font-size=\"14.00\">Malware (Subject)</text>\n</g>\n<!-- 1 -->\n<g id=\"node2\" class=\"node\">\n<title>1</title>\n<ellipse fill=\"none\" stroke=\"black\" cx=\"247.42\" cy=\"-18\" rx=\"32.49\" ry=\"18\"/>\n<text text-anchor=\"middle\" x=\"247.42\" y=\"-14.3\" font-family=\"Times New Roman,serif\" font-size=\"14.00\">/proc/</text>\n</g>\n<!-- Start&#45;&gt;1 -->\n<g id=\"edge1\" class=\"edge\">\n<title>Start&#45;&gt;1</title>\n<path fill=\"none\" stroke=\"black\" d=\"M1363.08,-103.57C1067.87,-101.73 27.35,-93.52 3.42,-69 -1.24,-64.23 -0.95,-59.04 3.42,-54 28.98,-24.52 141.92,-19.28 204.8,-18.7\"/>\n<polygon fill=\"black\" stroke=\"black\" points=\"204.83,-22.2 214.81,-18.65 204.79,-15.2 204.83,-22.2\"/>\n<text text-anchor=\"middle\" x=\"33.92\" y=\"-57.8\" font-family=\"Times New Roman,serif\" font-size=\"14.00\">12.provide</text>\n</g>\n<!-- Start&#45;&gt;1 -->\n<g id=\"edge9\" class=\"edge\">\n<title>Start&#45;&gt;1</title>\n<path fill=\"none\" stroke=\"black\" d=\"M1363.27,-103.45C1079.63,-101.23 109.81,-91.98 87.42,-69 50.73,-31.35 145.5,-21.94 204.46,-19.66\"/>\n<polygon fill=\"black\" stroke=\"black\" points=\"204.78,-23.15 214.66,-19.32 204.55,-16.15 204.78,-23.15\"/>\n<text text-anchor=\"middle\" x=\"108.92\" y=\"-57.8\" font-family=\"Times New Roman,serif\" font-size=\"14.00\">16.have</text>\n</g>\n<!-- Start&#45;&gt;1 -->\n<g id=\"edge11\" class=\"edge\">\n<title>Start&#45;&gt;1</title>\n<path fill=\"none\" stroke=\"black\" d=\"M1363.29,-103.34C1088.8,-100.81 174.61,-90.78 153.42,-69 133.18,-48.2 173.12,-34.11 207.04,-26.32\"/>\n<polygon fill=\"black\" stroke=\"black\" points=\"207.81,-29.73 216.84,-24.19 206.33,-22.89 207.81,-29.73\"/>\n<text text-anchor=\"middle\" x=\"171.92\" y=\"-57.8\" font-family=\"Times New Roman,serif\" font-size=\"14.00\">35.use</text>\n</g>\n<!-- Start&#45;&gt;1 -->\n<g id=\"edge27\" class=\"edge\">\n<title>Start&#45;&gt;1</title>\n<path fill=\"none\" stroke=\"black\" d=\"M1363.23,-103.23C1097.19,-100.41 233.52,-89.68 213.42,-69 204.91,-60.24 211.16,-49.12 220.5,-39.59\"/>\n<polygon fill=\"black\" stroke=\"black\" points=\"223.05,-42 228.07,-32.67 218.32,-36.84 223.05,-42\"/>\n<text text-anchor=\"middle\" x=\"236.92\" y=\"-57.8\" font-family=\"Times New Roman,serif\" font-size=\"14.00\">18.name</text>\n</g>\n<!-- Start&#45;&gt;1 -->\n<g id=\"edge28\" class=\"edge\">\n<title>Start&#45;&gt;1</title>\n<path fill=\"none\" stroke=\"black\" d=\"M1363.25,-103.54C1112.04,-101.78 331.03,-94.3 283.42,-69 273.26,-63.6 265.28,-53.9 259.44,-44.48\"/>\n<polygon fill=\"black\" stroke=\"black\" points=\"262.45,-42.68 254.5,-35.67 256.34,-46.11 262.45,-42.68\"/>\n<text text-anchor=\"middle\" x=\"308.92\" y=\"-57.8\" font-family=\"Times New Roman,serif\" font-size=\"14.00\">14.check</text>\n</g>\n<!-- Start&#45;&gt;1 -->\n<g id=\"edge32\" class=\"edge\">\n<title>Start&#45;&gt;1</title>\n<path fill=\"none\" stroke=\"black\" d=\"M1363.05,-103.91C1131.22,-103.29 452.41,-98.91 357.42,-69 345.78,-65.33 345.24,-59.64 334.42,-54 318.28,-45.59 299.64,-37.85 283.77,-31.8\"/>\n<polygon fill=\"black\" stroke=\"black\" points=\"284.88,-28.48 274.29,-28.26 282.43,-35.04 284.88,-28.48\"/>\n<text text-anchor=\"middle\" x=\"386.42\" y=\"-57.8\" font-family=\"Times New Roman,serif\" font-size=\"14.00\">13.contain</text>\n</g>\n<!-- Start&#45;&gt;1 -->\n<g id=\"edge34\" class=\"edge\">\n<title>Start&#45;&gt;1</title>\n<path fill=\"none\" stroke=\"black\" d=\"M1363.04,-103.68C1143.25,-102.45 525.5,-96.55 438.42,-69 426.78,-65.32 426.7,-58.66 415.42,-54 374.37,-37.05 324.16,-27.97 289.38,-23.34\"/>\n<polygon fill=\"black\" stroke=\"black\" points=\"289.46,-19.83 279.1,-22.05 288.59,-26.77 289.46,-19.83\"/>\n<text text-anchor=\"middle\" x=\"461.42\" y=\"-57.8\" font-family=\"Times New Roman,serif\" font-size=\"14.00\">11.hook</text>\n</g>\n<!-- Start&#45;&gt;1 -->\n<g id=\"edge37\" class=\"edge\">\n<title>Start&#45;&gt;1</title>\n<path fill=\"none\" stroke=\"black\" d=\"M1362.94,-104.39C1171.83,-104.82 681.92,-102.5 522.42,-69 504.65,-65.27 501.96,-58.69 484.42,-54 417.6,-36.13 337.58,-26.71 289.71,-22.3\"/>\n<polygon fill=\"black\" stroke=\"black\" points=\"289.98,-18.81 279.71,-21.41 289.36,-25.78 289.98,-18.81\"/>\n<text text-anchor=\"middle\" x=\"540.92\" y=\"-57.8\" font-family=\"Times New Roman,serif\" font-size=\"14.00\">28.call</text>\n</g>\n<!-- 2 -->\n<g id=\"node3\" class=\"node\">\n<title>2</title>\n<ellipse fill=\"none\" stroke=\"black\" cx=\"632.42\" cy=\"-18\" rx=\"42.79\" ry=\"18\"/>\n<text text-anchor=\"middle\" x=\"632.42\" y=\"-14.3\" font-family=\"Times New Roman,serif\" font-size=\"14.00\">/etc/cron</text>\n</g>\n<!-- Start&#45;&gt;2 -->\n<g id=\"edge2\" class=\"edge\">\n<title>Start&#45;&gt;2</title>\n<path fill=\"none\" stroke=\"black\" d=\"M1363.11,-103.77C1154.65,-102.78 594.76,-97.46 567.42,-69 554.73,-55.79 571.2,-43.24 590.74,-34.01\"/>\n<polygon fill=\"black\" stroke=\"black\" points=\"592.39,-37.11 600.14,-29.89 589.58,-30.69 592.39,-37.11\"/>\n<text text-anchor=\"middle\" x=\"588.92\" y=\"-57.8\" font-family=\"Times New Roman,serif\" font-size=\"14.00\">21.pass</text>\n</g>\n<!-- Start&#45;&gt;2 -->\n<g id=\"edge10\" class=\"edge\">\n<title>Start&#45;&gt;2</title>\n<path fill=\"none\" stroke=\"black\" d=\"M1363.34,-103.48C1166.44,-101.76 658.67,-94.85 633.42,-69 627.62,-63.06 626.01,-54.58 626.27,-46.29\"/>\n<polygon fill=\"black\" stroke=\"black\" points=\"629.78,-46.42 627.43,-36.09 622.83,-45.63 629.78,-46.42\"/>\n<text text-anchor=\"middle\" x=\"655.92\" y=\"-57.8\" font-family=\"Times New Roman,serif\" font-size=\"14.00\">49.drop</text>\n</g>\n<!-- Start&#45;&gt;2 -->\n<g id=\"edge22\" class=\"edge\">\n<title>Start&#45;&gt;2</title>\n<path fill=\"none\" stroke=\"black\" d=\"M1363.88,-102.4C1190.3,-98.46 777.08,-87.27 716.42,-69 696.13,-62.89 675.65,-50.84 659.99,-40.1\"/>\n<polygon fill=\"black\" stroke=\"black\" points=\"662,-37.24 651.82,-34.32 657.95,-42.95 662,-37.24\"/>\n<text text-anchor=\"middle\" x=\"741.42\" y=\"-57.8\" font-family=\"Times New Roman,serif\" font-size=\"14.00\">22.delete</text>\n</g>\n<!-- 3 -->\n<g id=\"node4\" class=\"node\">\n<title>3</title>\n<ellipse fill=\"none\" stroke=\"black\" cx=\"845.42\" cy=\"-18\" rx=\"55.49\" ry=\"18\"/>\n<text text-anchor=\"middle\" x=\"845.42\" y=\"-14.3\" font-family=\"Times New Roman,serif\" font-size=\"14.00\">^chkconfig$</text>\n</g>\n<!-- Start&#45;&gt;3 -->\n<g id=\"edge3\" class=\"edge\">\n<title>Start&#45;&gt;3</title>\n<path fill=\"none\" stroke=\"black\" d=\"M1363.54,-102.76C1192.6,-99.62 794.42,-90.08 774.42,-69 761.73,-55.63 777.36,-43.62 797.15,-34.73\"/>\n<polygon fill=\"black\" stroke=\"black\" points=\"798.56,-37.94 806.45,-30.87 795.87,-31.47 798.56,-37.94\"/>\n<text text-anchor=\"middle\" x=\"798.92\" y=\"-57.8\" font-family=\"Times New Roman,serif\" font-size=\"14.00\">27.install</text>\n</g>\n<!-- Start&#45;&gt;3 -->\n<g id=\"edge14\" class=\"edge\">\n<title>Start&#45;&gt;3</title>\n<path fill=\"none\" stroke=\"black\" d=\"M1363.72,-102.22C1207.17,-98.2 864.08,-87.36 846.42,-69 840.66,-63.02 839.07,-54.53 839.33,-46.24\"/>\n<polygon fill=\"black\" stroke=\"black\" points=\"842.84,-46.38 840.48,-36.05 835.88,-45.59 842.84,-46.38\"/>\n<text text-anchor=\"middle\" x=\"877.92\" y=\"-57.8\" font-family=\"Times New Roman,serif\" font-size=\"14.00\">33.perform</text>\n</g>\n<!-- Start&#45;&gt;3 -->\n<g id=\"edge39\" class=\"edge\">\n<title>Start&#45;&gt;3</title>\n<path fill=\"none\" stroke=\"black\" d=\"M1364.29,-101.78C1247.72,-97.83 1030.58,-88.14 955.42,-69 929.21,-62.33 901.5,-49.69 880.45,-38.8\"/>\n<polygon fill=\"black\" stroke=\"black\" points=\"882.05,-35.68 871.57,-34.1 878.77,-41.87 882.05,-35.68\"/>\n<text text-anchor=\"middle\" x=\"974.92\" y=\"-57.8\" font-family=\"Times New Roman,serif\" font-size=\"14.00\">25.add</text>\n</g>\n<!-- 4 -->\n<g id=\"node5\" class=\"node\">\n<title>4</title>\n<ellipse fill=\"none\" stroke=\"black\" cx=\"993.42\" cy=\"-18\" rx=\"27.1\" ry=\"18\"/>\n<text text-anchor=\"middle\" x=\"993.42\" y=\"-14.3\" font-family=\"Times New Roman,serif\" font-size=\"14.00\">^sh$</text>\n</g>\n<!-- Start&#45;&gt;4 -->\n<g id=\"edge4\" class=\"edge\">\n<title>Start&#45;&gt;4</title>\n<path fill=\"none\" stroke=\"black\" d=\"M1363.76,-102.5C1246.74,-99.51 1034.23,-91.09 1007.42,-69 1000.59,-63.38 996.94,-54.72 995.04,-46.18\"/>\n<polygon fill=\"black\" stroke=\"black\" points=\"998.46,-45.39 993.48,-36.03 991.54,-46.45 998.46,-45.39\"/>\n<text text-anchor=\"middle\" x=\"1027.42\" y=\"-57.8\" font-family=\"Times New Roman,serif\" font-size=\"14.00\">34.find</text>\n</g>\n<!-- 5 -->\n<g id=\"node6\" class=\"node\">\n<title>5</title>\n<ellipse fill=\"none\" stroke=\"black\" cx=\"1195.42\" cy=\"-18\" rx=\"40.89\" ry=\"18\"/>\n<text text-anchor=\"middle\" x=\"1195.42\" y=\"-14.3\" font-family=\"Times New Roman,serif\" font-size=\"14.00\">/var/run/</text>\n</g>\n<!-- Start&#45;&gt;5 -->\n<g id=\"edge5\" class=\"edge\">\n<title>Start&#45;&gt;5</title>\n<path fill=\"none\" stroke=\"black\" d=\"M1363.67,-102.42C1257.79,-99.43 1077.62,-91.13 1057.42,-69 1029.05,-37.92 1094.69,-26.13 1144.87,-21.68\"/>\n<polygon fill=\"black\" stroke=\"black\" points=\"1145.3,-25.16 1154.99,-20.86 1144.74,-18.18 1145.3,-25.16\"/>\n<text text-anchor=\"middle\" x=\"1078.42\" y=\"-57.8\" font-family=\"Times New Roman,serif\" font-size=\"14.00\">43.read</text>\n</g>\n<!-- Start&#45;&gt;5 -->\n<g id=\"edge18\" class=\"edge\">\n<title>Start&#45;&gt;5</title>\n<path fill=\"none\" stroke=\"black\" d=\"M1364.93,-100.89C1276.03,-96.44 1138.33,-86.76 1122.42,-69 1108.68,-53.67 1129.34,-40.68 1152.14,-31.79\"/>\n<polygon fill=\"black\" stroke=\"black\" points=\"1153.4,-35.06 1161.61,-28.35 1151.01,-28.48 1153.4,-35.06\"/>\n<text text-anchor=\"middle\" x=\"1147.92\" y=\"-57.8\" font-family=\"Times New Roman,serif\" font-size=\"14.00\">30.create</text>\n</g>\n<!-- Start&#45;&gt;5 -->\n<g id=\"edge24\" class=\"edge\">\n<title>Start&#45;&gt;5</title>\n<path fill=\"none\" stroke=\"black\" d=\"M1363.31,-103.44C1300.22,-101.16 1218,-93.4 1196.42,-69 1191,-62.87 1189.43,-54.48 1189.62,-46.33\"/>\n<polygon fill=\"black\" stroke=\"black\" points=\"1193.11,-46.61 1190.63,-36.31 1186.14,-45.9 1193.11,-46.61\"/>\n<text text-anchor=\"middle\" x=\"1224.42\" y=\"-57.8\" font-family=\"Times New Roman,serif\" font-size=\"14.00\">5.m6_6n3</text>\n</g>\n<!-- Start&#45;&gt;5 -->\n<g id=\"edge33\" class=\"edge\">\n<title>Start&#45;&gt;5</title>\n<path fill=\"none\" stroke=\"black\" d=\"M1374.1,-95.66C1343.29,-90.36 1306.66,-81.97 1275.42,-69 1264.15,-64.32 1262.73,-60.53 1252.42,-54 1244.28,-48.85 1235.42,-43.36 1227.18,-38.29\"/>\n<polygon fill=\"black\" stroke=\"black\" points=\"1228.88,-35.23 1218.53,-32.99 1225.23,-41.2 1228.88,-35.23\"/>\n<text text-anchor=\"middle\" x=\"1312.42\" y=\"-57.8\" font-family=\"Times New Roman,serif\" font-size=\"14.00\">8.resolv.conf</text>\n</g>\n<!-- Start&#45;&gt;5 -->\n<g id=\"edge40\" class=\"edge\">\n<title>Start&#45;&gt;5</title>\n<path fill=\"none\" stroke=\"black\" d=\"M1415.45,-87.79C1397.66,-76.87 1372.84,-62.9 1349.42,-54 1315.11,-40.97 1274.57,-32 1243.7,-26.4\"/>\n<polygon fill=\"black\" stroke=\"black\" points=\"1244.08,-22.91 1233.62,-24.63 1242.87,-29.81 1244.08,-22.91\"/>\n<text text-anchor=\"middle\" x=\"1404.42\" y=\"-57.8\" font-family=\"Times New Roman,serif\" font-size=\"14.00\">40.fetch</text>\n</g>\n<!-- 6 -->\n<g id=\"node7\" class=\"node\">\n<title>6</title>\n<ellipse fill=\"none\" stroke=\"black\" cx=\"1488.42\" cy=\"-18\" rx=\"71.49\" ry=\"18\"/>\n<text text-anchor=\"middle\" x=\"1488.42\" y=\"-14.3\" font-family=\"Times New Roman,serif\" font-size=\"14.00\">[a&#45;zA&#45;z]:d{1,5}$</text>\n</g>\n<!-- Start&#45;&gt;6 -->\n<g id=\"edge6\" class=\"edge\">\n<title>Start&#45;&gt;6</title>\n<path fill=\"none\" stroke=\"black\" d=\"M1437.15,-86.88C1436.08,-76.77 1436.25,-64.04 1441.42,-54 1443.86,-49.26 1447.27,-44.99 1451.15,-41.21\"/>\n<polygon fill=\"black\" stroke=\"black\" points=\"1453.69,-43.64 1459.07,-34.51 1449.17,-38.3 1453.69,-43.64\"/>\n<text text-anchor=\"middle\" x=\"1477.92\" y=\"-57.8\" font-family=\"Times New Roman,serif\" font-size=\"14.00\">51.download</text>\n</g>\n<!-- Start&#45;&gt;6 -->\n<g id=\"edge12\" class=\"edge\">\n<title>Start&#45;&gt;6</title>\n<path fill=\"none\" stroke=\"black\" d=\"M1488.63,-90.74C1498.83,-85.63 1508.34,-78.61 1514.42,-69 1519.47,-61.02 1517.02,-51.96 1512.01,-43.76\"/>\n<polygon fill=\"black\" stroke=\"black\" points=\"1514.78,-41.62 1506.06,-35.6 1509.13,-45.75 1514.78,-41.62\"/>\n<text text-anchor=\"middle\" x=\"1540.42\" y=\"-57.8\" font-family=\"Times New Roman,serif\" font-size=\"14.00\">38.fetch</text>\n</g>\n<!-- 7 -->\n<g id=\"node8\" class=\"node\">\n<title>7</title>\n<ellipse fill=\"none\" stroke=\"black\" cx=\"1815.42\" cy=\"-18\" rx=\"27.1\" ry=\"18\"/>\n<text text-anchor=\"middle\" x=\"1815.42\" y=\"-14.3\" font-family=\"Times New Roman,serif\" font-size=\"14.00\">/run/</text>\n</g>\n<!-- Start&#45;&gt;7 -->\n<g id=\"edge7\" class=\"edge\">\n<title>Start&#45;&gt;7</title>\n<path fill=\"none\" stroke=\"black\" d=\"M1490.82,-91.33C1514.27,-85.12 1542.44,-77.22 1567.42,-69 1585.06,-63.19 1588.5,-58.89 1606.42,-54 1665.64,-37.83 1736.45,-27.87 1778.59,-22.89\"/>\n<polygon fill=\"black\" stroke=\"black\" points=\"1779.12,-26.36 1788.66,-21.74 1778.32,-19.4 1779.12,-26.36\"/>\n<text text-anchor=\"middle\" x=\"1634.42\" y=\"-57.8\" font-family=\"Times New Roman,serif\" font-size=\"14.00\">6.m6_6n3</text>\n</g>\n<!-- Start&#45;&gt;7 -->\n<g id=\"edge16\" class=\"edge\">\n<title>Start&#45;&gt;7</title>\n<path fill=\"none\" stroke=\"black\" d=\"M1496.3,-92.42C1506.31,-90.5 1516.66,-88.61 1526.42,-87 1586.58,-77.08 1605.24,-90.18 1662.42,-69 1673.86,-64.76 1674.28,-58.98 1685.42,-54 1715.75,-40.44 1752.47,-31.15 1779.14,-25.57\"/>\n<polygon fill=\"black\" stroke=\"black\" points=\"1780.08,-28.95 1789.19,-23.54 1778.7,-22.08 1780.08,-28.95\"/>\n<text text-anchor=\"middle\" x=\"1722.42\" y=\"-57.8\" font-family=\"Times New Roman,serif\" font-size=\"14.00\">9.resolv.conf</text>\n</g>\n<!-- Start&#45;&gt;7 -->\n<g id=\"edge21\" class=\"edge\">\n<title>Start&#45;&gt;7</title>\n<path fill=\"none\" stroke=\"black\" d=\"M1495.31,-92.15C1505.61,-90.21 1516.32,-88.38 1526.42,-87 1577.87,-79.95 1711.65,-89.37 1759.42,-69 1767.26,-65.66 1781.72,-52.67 1793.98,-40.77\"/>\n<polygon fill=\"black\" stroke=\"black\" points=\"1796.59,-43.11 1801.25,-33.6 1791.67,-38.13 1796.59,-43.11\"/>\n<text text-anchor=\"middle\" x=\"1803.42\" y=\"-57.8\" font-family=\"Times New Roman,serif\" font-size=\"14.00\">41.fetch</text>\n</g>\n<!-- Start&#45;&gt;7 -->\n<g id=\"edge29\" class=\"edge\">\n<title>Start&#45;&gt;7</title>\n<path fill=\"none\" stroke=\"black\" d=\"M1494.83,-92.09C1505.27,-90.13 1516.15,-88.31 1526.42,-87 1559.76,-82.73 1805.37,-93.47 1828.42,-69 1834.74,-62.29 1833.89,-52.9 1830.61,-44.07\"/>\n<polygon fill=\"black\" stroke=\"black\" points=\"1833.71,-42.45 1826.31,-34.87 1827.37,-45.41 1833.71,-42.45\"/>\n<text text-anchor=\"middle\" x=\"1854.42\" y=\"-57.8\" font-family=\"Times New Roman,serif\" font-size=\"14.00\">44.read</text>\n</g>\n<!-- Start&#45;&gt;7 -->\n<g id=\"edge30\" class=\"edge\">\n<title>Start&#45;&gt;7</title>\n<path fill=\"none\" stroke=\"black\" d=\"M1494.82,-92.02C1505.27,-90.07 1516.15,-88.27 1526.42,-87 1565.4,-82.18 1852.37,-97.47 1879.42,-69 1893.53,-54.15 1871.02,-40.06 1848.91,-30.64\"/>\n<polygon fill=\"black\" stroke=\"black\" points=\"1850.15,-27.37 1839.57,-26.9 1847.55,-33.87 1850.15,-27.37\"/>\n<text text-anchor=\"middle\" x=\"1906.92\" y=\"-57.8\" font-family=\"Times New Roman,serif\" font-size=\"14.00\">50.drop</text>\n</g>\n<!-- Start&#45;&gt;7 -->\n<g id=\"edge35\" class=\"edge\">\n<title>Start&#45;&gt;7</title>\n<path fill=\"none\" stroke=\"black\" d=\"M1494.35,-92.05C1504.94,-90.07 1515.99,-88.25 1526.42,-87 1548.89,-84.3 1917.77,-85.35 1933.42,-69 1960.12,-41.09 1896.36,-28.04 1852.54,-22.53\"/>\n<polygon fill=\"black\" stroke=\"black\" points=\"1852.78,-19.04 1842.44,-21.35 1851.96,-25.99 1852.78,-19.04\"/>\n<text text-anchor=\"middle\" x=\"1965.92\" y=\"-57.8\" font-family=\"Times New Roman,serif\" font-size=\"14.00\">31.create</text>\n</g>\n<!-- 8 -->\n<g id=\"node9\" class=\"node\">\n<title>8</title>\n<ellipse fill=\"none\" stroke=\"black\" cx=\"2310.42\" cy=\"-18\" rx=\"27\" ry=\"18\"/>\n<text text-anchor=\"middle\" x=\"2310.42\" y=\"-14.3\" font-family=\"Times New Roman,serif\" font-size=\"14.00\">/var/</text>\n</g>\n<!-- Start&#45;&gt;8 -->\n<g id=\"edge8\" class=\"edge\">\n<title>Start&#45;&gt;8</title>\n<path fill=\"none\" stroke=\"black\" d=\"M1494.35,-92C1504.93,-90.02 1515.99,-88.22 1526.42,-87 1733.6,-62.7 1788.75,-97.29 1995.42,-69 2023.94,-65.1 2030.13,-59.32 2058.42,-54 2134.45,-39.7 2224.4,-28.59 2273.64,-22.99\"/>\n<polygon fill=\"black\" stroke=\"black\" points=\"2274.25,-26.44 2283.8,-21.85 2273.47,-19.49 2274.25,-26.44\"/>\n<text text-anchor=\"middle\" x=\"2083.92\" y=\"-57.8\" font-family=\"Times New Roman,serif\" font-size=\"14.00\">29.create</text>\n</g>\n<!-- Start&#45;&gt;8 -->\n<g id=\"edge17\" class=\"edge\">\n<title>Start&#45;&gt;8</title>\n<path fill=\"none\" stroke=\"black\" d=\"M1494.34,-91.93C1504.93,-89.97 1515.99,-88.18 1526.42,-87 1590.82,-79.69 2047.59,-88.42 2109.42,-69 2121.06,-65.34 2121.11,-58.59 2132.42,-54 2178.89,-35.11 2236.44,-26.18 2273.29,-22.12\"/>\n<polygon fill=\"black\" stroke=\"black\" points=\"2273.98,-25.57 2283.57,-21.06 2273.26,-18.61 2273.98,-25.57\"/>\n<text text-anchor=\"middle\" x=\"2160.42\" y=\"-57.8\" font-family=\"Times New Roman,serif\" font-size=\"14.00\">4.m6_6n3</text>\n</g>\n<!-- Start&#45;&gt;8 -->\n<g id=\"edge20\" class=\"edge\">\n<title>Start&#45;&gt;8</title>\n<path fill=\"none\" stroke=\"black\" d=\"M1493.88,-91.99C1504.6,-89.99 1515.83,-88.18 1526.42,-87 1599.55,-78.84 2118.18,-90.92 2188.42,-69 2200.07,-65.36 2200.48,-59.41 2211.42,-54 2232.16,-43.75 2256.66,-35.07 2276.1,-28.91\"/>\n<polygon fill=\"black\" stroke=\"black\" points=\"2277.23,-32.22 2285.76,-25.93 2275.17,-25.53 2277.23,-32.22\"/>\n<text text-anchor=\"middle\" x=\"2231.42\" y=\"-57.8\" font-family=\"Times New Roman,serif\" font-size=\"14.00\">3.relate</text>\n</g>\n<!-- Start&#45;&gt;8 -->\n<g id=\"edge23\" class=\"edge\">\n<title>Start&#45;&gt;8</title>\n<path fill=\"none\" stroke=\"black\" d=\"M1493.88,-91.97C1504.6,-89.97 1515.83,-88.17 1526.42,-87 1606.51,-78.15 2176.12,-97.68 2251.42,-69 2259.76,-65.82 2275.34,-52.47 2288.4,-40.36\"/>\n<polygon fill=\"black\" stroke=\"black\" points=\"2290.85,-42.86 2295.72,-33.46 2286.04,-37.77 2290.85,-42.86\"/>\n<text text-anchor=\"middle\" x=\"2299.42\" y=\"-57.8\" font-family=\"Times New Roman,serif\" font-size=\"14.00\">2.contain</text>\n</g>\n<!-- Start&#45;&gt;8 -->\n<g id=\"edge26\" class=\"edge\">\n<title>Start&#45;&gt;8</title>\n<path fill=\"none\" stroke=\"black\" d=\"M1493.87,-91.95C1504.6,-89.95 1515.83,-88.16 1526.42,-87 1548.52,-84.59 2310.88,-84.89 2326.42,-69 2333.14,-62.13 2331.61,-52.44 2327.49,-43.42\"/>\n<polygon fill=\"black\" stroke=\"black\" points=\"2330.4,-41.46 2322.5,-34.41 2324.28,-44.85 2330.4,-41.46\"/>\n<text text-anchor=\"middle\" x=\"2368.42\" y=\"-57.8\" font-family=\"Times New Roman,serif\" font-size=\"14.00\">7.resolv.conf</text>\n</g>\n<!-- Start&#45;&gt;8 -->\n<g id=\"edge31\" class=\"edge\">\n<title>Start&#45;&gt;8</title>\n<path fill=\"none\" stroke=\"black\" d=\"M1493.87,-91.93C1504.6,-89.94 1515.83,-88.15 1526.42,-87 1550.81,-84.36 2392.25,-86.52 2409.42,-69 2431.84,-46.12 2383.31,-31.86 2346.58,-24.68\"/>\n<polygon fill=\"black\" stroke=\"black\" points=\"2347.07,-21.21 2336.6,-22.84 2345.8,-28.1 2347.07,-21.21\"/>\n<text text-anchor=\"middle\" x=\"2438.42\" y=\"-57.8\" font-family=\"Times New Roman,serif\" font-size=\"14.00\">39.fetch</text>\n</g>\n<!-- Start&#45;&gt;8 -->\n<g id=\"edge36\" class=\"edge\">\n<title>Start&#45;&gt;8</title>\n<path fill=\"none\" stroke=\"black\" d=\"M1493.87,-91.92C1504.6,-89.93 1515.83,-88.14 1526.42,-87 1552.36,-84.21 2447.15,-87.62 2465.42,-69 2502.14,-31.57 2404.31,-22.13 2347.61,-19.77\"/>\n<polygon fill=\"black\" stroke=\"black\" points=\"2347.66,-16.27 2337.54,-19.41 2347.41,-23.27 2347.66,-16.27\"/>\n<text text-anchor=\"middle\" x=\"2494.42\" y=\"-57.8\" font-family=\"Times New Roman,serif\" font-size=\"14.00\">42.read</text>\n</g>\n<!-- Start&#45;&gt;8 -->\n<g id=\"edge38\" class=\"edge\">\n<title>Start&#45;&gt;8</title>\n<path fill=\"none\" stroke=\"black\" d=\"M1493.87,-91.91C1504.6,-89.92 1515.83,-88.13 1526.42,-87 1553.85,-84.06 2500.09,-88.68 2519.42,-69 2524.09,-64.24 2523.73,-59.09 2519.42,-54 2497.86,-28.53 2401.91,-21.58 2347.82,-19.7\"/>\n<polygon fill=\"black\" stroke=\"black\" points=\"2347.7,-16.19 2337.6,-19.38 2347.48,-23.19 2347.7,-16.19\"/>\n<text text-anchor=\"middle\" x=\"2537.92\" y=\"-57.8\" font-family=\"Times New Roman,serif\" font-size=\"14.00\">1.run</text>\n</g>\n<!-- 9 -->\n<g id=\"node10\" class=\"node\">\n<title>9</title>\n<ellipse fill=\"none\" stroke=\"black\" cx=\"2632.42\" cy=\"-18\" rx=\"57.69\" ry=\"18\"/>\n<text text-anchor=\"middle\" x=\"2632.42\" y=\"-14.3\" font-family=\"Times New Roman,serif\" font-size=\"14.00\">/proc/rs_dev</text>\n</g>\n<!-- Start&#45;&gt;9 -->\n<g id=\"edge13\" class=\"edge\">\n<title>Start&#45;&gt;9</title>\n<path fill=\"none\" stroke=\"black\" d=\"M1493.87,-91.91C1504.6,-89.91 1515.83,-88.13 1526.42,-87 1640.24,-74.85 2447.06,-102.79 2556.42,-69 2574.54,-63.4 2592.38,-52.05 2606.22,-41.58\"/>\n<polygon fill=\"black\" stroke=\"black\" points=\"2608.59,-44.17 2614.29,-35.24 2604.26,-38.67 2608.59,-44.17\"/>\n<text text-anchor=\"middle\" x=\"2609.92\" y=\"-57.8\" font-family=\"Times New Roman,serif\" font-size=\"14.00\">17.have</text>\n</g>\n<!-- Start&#45;&gt;9 -->\n<g id=\"edge15\" class=\"edge\">\n<title>Start&#45;&gt;9</title>\n<path fill=\"none\" stroke=\"black\" d=\"M1493.87,-91.9C1504.6,-89.9 1515.83,-88.12 1526.42,-87 1557.06,-83.75 2613.81,-90.96 2635.42,-69 2641.32,-63.01 2642.33,-54.41 2641.31,-46.03\"/>\n<polygon fill=\"black\" stroke=\"black\" points=\"2644.71,-45.18 2639.25,-36.1 2637.86,-46.61 2644.71,-45.18\"/>\n<text text-anchor=\"middle\" x=\"2660.92\" y=\"-57.8\" font-family=\"Times New Roman,serif\" font-size=\"14.00\">36.use</text>\n</g>\n<!-- 11 -->\n<g id=\"node12\" class=\"node\">\n<title>11</title>\n<ellipse fill=\"none\" stroke=\"black\" cx=\"2757.42\" cy=\"-18\" rx=\"46.59\" ry=\"18\"/>\n<text text-anchor=\"middle\" x=\"2757.42\" y=\"-14.3\" font-family=\"Times New Roman,serif\" font-size=\"14.00\">/etc/init.d/</text>\n</g>\n<!-- Start&#45;&gt;11 -->\n<g id=\"edge19\" class=\"edge\">\n<title>Start&#45;&gt;11</title>\n<path fill=\"none\" stroke=\"black\" d=\"M1493.87,-91.89C1504.59,-89.9 1515.83,-88.12 1526.42,-87 1590.35,-80.24 2622.1,-88.3 2683.42,-69 2701.3,-63.37 2718.8,-51.91 2732.29,-41.37\"/>\n<polygon fill=\"black\" stroke=\"black\" points=\"2734.58,-44.02 2740.13,-35 2730.17,-38.59 2734.58,-44.02\"/>\n<text text-anchor=\"middle\" x=\"2736.92\" y=\"-57.8\" font-family=\"Times New Roman,serif\" font-size=\"14.00\">20.drop</text>\n</g>\n<!-- 12 -->\n<g id=\"node13\" class=\"node\">\n<title>12</title>\n<ellipse fill=\"none\" stroke=\"black\" cx=\"2888.42\" cy=\"-18\" rx=\"46.59\" ry=\"18\"/>\n<text text-anchor=\"middle\" x=\"2888.42\" y=\"-14.3\" font-family=\"Times New Roman,serif\" font-size=\"14.00\">GID($|.|$)</text>\n</g>\n<!-- Start&#45;&gt;12 -->\n<g id=\"edge25\" class=\"edge\">\n<title>Start&#45;&gt;12</title>\n<path fill=\"none\" stroke=\"black\" d=\"M1493.87,-91.88C1504.59,-89.89 1515.82,-88.12 1526.42,-87 1663.12,-72.61 2628.63,-95.98 2763.42,-69 2794.78,-62.72 2828.33,-48.87 2852.77,-37.34\"/>\n<polygon fill=\"black\" stroke=\"black\" points=\"2854.5,-40.38 2861.99,-32.89 2851.46,-34.08 2854.5,-40.38\"/>\n<text text-anchor=\"middle\" x=\"2843.42\" y=\"-57.8\" font-family=\"Times New Roman,serif\" font-size=\"14.00\">45.execute</text>\n</g>\n<!-- Start&#45;&gt;12 -->\n<g id=\"edge41\" class=\"edge\">\n<title>Start&#45;&gt;12</title>\n<path fill=\"none\" stroke=\"black\" d=\"M1493.87,-91.87C1504.59,-89.88 1515.82,-88.11 1526.42,-87 1563.75,-83.09 2848.33,-92.71 2877.42,-69 2884.18,-63.49 2887.37,-54.86 2888.74,-46.31\"/>\n<polygon fill=\"black\" stroke=\"black\" points=\"2892.25,-46.4 2889.62,-36.14 2885.27,-45.8 2892.25,-46.4\"/>\n<text text-anchor=\"middle\" x=\"2913.42\" y=\"-57.8\" font-family=\"Times New Roman,serif\" font-size=\"14.00\">10.assign</text>\n</g>\n<!-- 10 -->\n<g id=\"node11\" class=\"node\">\n<title>10</title>\n<ellipse fill=\"none\" stroke=\"black\" cx=\"1588.42\" cy=\"-105\" rx=\"52.79\" ry=\"18\"/>\n<text text-anchor=\"middle\" x=\"1588.42\" y=\"-101.3\" font-family=\"Times New Roman,serif\" font-size=\"14.00\">update&#45;rc.d</text>\n</g>\n<!-- 13 -->\n<g id=\"node14\" class=\"node\">\n<title>13</title>\n<ellipse fill=\"none\" stroke=\"black\" cx=\"1709.42\" cy=\"-105\" rx=\"50.09\" ry=\"18\"/>\n<text text-anchor=\"middle\" x=\"1709.42\" y=\"-101.3\" font-family=\"Times New Roman,serif\" font-size=\"14.00\">mem_addr</text>\n</g>\n<!-- 14 -->\n<g id=\"node15\" class=\"node\">\n<title>14</title>\n<ellipse fill=\"none\" stroke=\"black\" cx=\"1811.42\" cy=\"-105\" rx=\"33.6\" ry=\"18\"/>\n<text text-anchor=\"middle\" x=\"1811.42\" y=\"-101.3\" font-family=\"Times New Roman,serif\" font-size=\"14.00\">/etc/rc</text>\n</g>\n</g>\n</svg>\n",
      "text/plain": [
       "<graphviz.graphs.Digraph at 0x27a59357430>"
      ]
     },
     "metadata": {},
     "output_type": "display_data"
    },
    {
     "name": "stdout",
     "output_type": "stream",
     "text": [
      "Xorddos-Ms.csv matched doc OPset\n"
     ]
    },
    {
     "data": {
      "image/svg+xml": "<?xml version=\"1.0\" encoding=\"UTF-8\" standalone=\"no\"?>\n<!DOCTYPE svg PUBLIC \"-//W3C//DTD SVG 1.1//EN\"\n \"http://www.w3.org/Graphics/SVG/1.1/DTD/svg11.dtd\">\n<!-- Generated by graphviz version 6.0.1 (20220911.1526)\n -->\n<!-- Pages: 1 -->\n<svg width=\"318pt\" height=\"131pt\"\n viewBox=\"0.00 0.00 317.79 131.00\" xmlns=\"http://www.w3.org/2000/svg\" xmlns:xlink=\"http://www.w3.org/1999/xlink\">\n<g id=\"graph0\" class=\"graph\" transform=\"scale(1 1) rotate(0) translate(4 127)\">\n<polygon fill=\"white\" stroke=\"none\" points=\"-4,4 -4,-127 313.79,-127 313.79,4 -4,4\"/>\n<!-- Start -->\n<g id=\"node1\" class=\"node\">\n<title>Start</title>\n<ellipse fill=\"none\" stroke=\"black\" cx=\"143.3\" cy=\"-105\" rx=\"77.19\" ry=\"18\"/>\n<text text-anchor=\"middle\" x=\"143.3\" y=\"-101.3\" font-family=\"Times New Roman,serif\" font-size=\"14.00\">Malware (Subject)</text>\n</g>\n<!-- 1 -->\n<g id=\"node2\" class=\"node\">\n<title>1</title>\n<ellipse fill=\"none\" stroke=\"black\" cx=\"27.3\" cy=\"-18\" rx=\"27.1\" ry=\"18\"/>\n<text text-anchor=\"middle\" x=\"27.3\" y=\"-14.3\" font-family=\"Times New Roman,serif\" font-size=\"14.00\">/run/</text>\n</g>\n<!-- Start&#45;&gt;1 -->\n<g id=\"edge1\" class=\"edge\">\n<title>Start&#45;&gt;1</title>\n<path fill=\"none\" stroke=\"black\" d=\"M92.08,-91.29C78.35,-86.06 64.28,-78.85 53.3,-69 46.1,-62.55 40.59,-53.62 36.53,-45.1\"/>\n<polygon fill=\"black\" stroke=\"black\" points=\"39.7,-43.62 32.55,-35.8 33.26,-46.37 39.7,-43.62\"/>\n<text text-anchor=\"middle\" x=\"78.8\" y=\"-57.8\" font-family=\"Times New Roman,serif\" font-size=\"14.00\">31.create</text>\n</g>\n<!-- 2 -->\n<g id=\"node3\" class=\"node\">\n<title>2</title>\n<ellipse fill=\"none\" stroke=\"black\" cx=\"100.3\" cy=\"-18\" rx=\"27\" ry=\"18\"/>\n<text text-anchor=\"middle\" x=\"100.3\" y=\"-14.3\" font-family=\"Times New Roman,serif\" font-size=\"14.00\">/var/</text>\n</g>\n<!-- Start&#45;&gt;2 -->\n<g id=\"edge2\" class=\"edge\">\n<title>Start&#45;&gt;2</title>\n<path fill=\"none\" stroke=\"black\" d=\"M126.33,-87.35C121.54,-81.88 116.71,-75.53 113.3,-69 109.64,-62 106.96,-53.91 105.02,-46.3\"/>\n<polygon fill=\"black\" stroke=\"black\" points=\"108.4,-45.37 102.81,-36.37 101.57,-46.89 108.4,-45.37\"/>\n<text text-anchor=\"middle\" x=\"138.8\" y=\"-57.8\" font-family=\"Times New Roman,serif\" font-size=\"14.00\">29.create</text>\n</g>\n<!-- 3 -->\n<g id=\"node4\" class=\"node\">\n<title>3</title>\n<ellipse fill=\"none\" stroke=\"black\" cx=\"186.3\" cy=\"-18\" rx=\"40.89\" ry=\"18\"/>\n<text text-anchor=\"middle\" x=\"186.3\" y=\"-14.3\" font-family=\"Times New Roman,serif\" font-size=\"14.00\">/var/run/</text>\n</g>\n<!-- Start&#45;&gt;3 -->\n<g id=\"edge3\" class=\"edge\">\n<title>Start&#45;&gt;3</title>\n<path fill=\"none\" stroke=\"black\" d=\"M153.99,-87.15C157.44,-81.47 161.17,-75.04 164.3,-69 168.22,-61.42 172.1,-52.99 175.49,-45.24\"/>\n<polygon fill=\"black\" stroke=\"black\" points=\"178.77,-46.48 179.48,-35.91 172.33,-43.73 178.77,-46.48\"/>\n<text text-anchor=\"middle\" x=\"197.8\" y=\"-57.8\" font-family=\"Times New Roman,serif\" font-size=\"14.00\">30.create</text>\n</g>\n<!-- 4 -->\n<g id=\"node5\" class=\"node\">\n<title>4</title>\n<ellipse fill=\"none\" stroke=\"black\" cx=\"277.3\" cy=\"-18\" rx=\"32.49\" ry=\"18\"/>\n<text text-anchor=\"middle\" x=\"277.3\" y=\"-14.3\" font-family=\"Times New Roman,serif\" font-size=\"14.00\">/proc/</text>\n</g>\n<!-- Start&#45;&gt;4 -->\n<g id=\"edge4\" class=\"edge\">\n<title>Start&#45;&gt;4</title>\n<path fill=\"none\" stroke=\"black\" d=\"M185.95,-89.96C199.73,-84.47 214.7,-77.44 227.3,-69 238.45,-61.53 249.2,-51.31 257.86,-42.07\"/>\n<polygon fill=\"black\" stroke=\"black\" points=\"260.49,-44.37 264.6,-34.6 255.3,-39.68 260.49,-44.37\"/>\n<text text-anchor=\"middle\" x=\"270.8\" y=\"-57.8\" font-family=\"Times New Roman,serif\" font-size=\"14.00\">14.check</text>\n</g>\n</g>\n</svg>\n",
      "text/plain": [
       "<graphviz.graphs.Digraph at 0x27a59356d40>"
      ]
     },
     "metadata": {},
     "output_type": "display_data"
    },
    {
     "name": "stdout",
     "output_type": "stream",
     "text": [
      "matched ASG OPset for doc Xorddos-Ms.csv\n"
     ]
    },
    {
     "data": {
      "image/svg+xml": "<?xml version=\"1.0\" encoding=\"UTF-8\" standalone=\"no\"?>\n<!DOCTYPE svg PUBLIC \"-//W3C//DTD SVG 1.1//EN\"\n \"http://www.w3.org/Graphics/SVG/1.1/DTD/svg11.dtd\">\n<!-- Generated by graphviz version 6.0.1 (20220911.1526)\n -->\n<!-- Pages: 1 -->\n<svg width=\"317pt\" height=\"131pt\"\n viewBox=\"0.00 0.00 317.50 131.00\" xmlns=\"http://www.w3.org/2000/svg\" xmlns:xlink=\"http://www.w3.org/1999/xlink\">\n<g id=\"graph0\" class=\"graph\" transform=\"scale(1 1) rotate(0) translate(4 127)\">\n<polygon fill=\"white\" stroke=\"none\" points=\"-4,4 -4,-127 313.5,-127 313.5,4 -4,4\"/>\n<!-- Start -->\n<g id=\"node1\" class=\"node\">\n<title>Start</title>\n<ellipse fill=\"none\" stroke=\"black\" cx=\"156\" cy=\"-105\" rx=\"77.19\" ry=\"18\"/>\n<text text-anchor=\"middle\" x=\"156\" y=\"-101.3\" font-family=\"Times New Roman,serif\" font-size=\"14.00\">Malware (Subject)</text>\n</g>\n<!-- 1 -->\n<g id=\"node2\" class=\"node\">\n<title>1</title>\n<ellipse fill=\"none\" stroke=\"black\" cx=\"27\" cy=\"-18\" rx=\"27\" ry=\"18\"/>\n<text text-anchor=\"middle\" x=\"27\" y=\"-14.3\" font-family=\"Times New Roman,serif\" font-size=\"14.00\">/var/</text>\n</g>\n<!-- Start&#45;&gt;1 -->\n<g id=\"edge1\" class=\"edge\">\n<title>Start&#45;&gt;1</title>\n<path fill=\"none\" stroke=\"black\" d=\"M114.37,-89.73C101.19,-84.26 86.95,-77.3 75,-69 64.3,-61.57 54.06,-51.48 45.81,-42.31\"/>\n<polygon fill=\"black\" stroke=\"black\" points=\"48.3,-39.84 39.11,-34.58 43.01,-44.43 48.3,-39.84\"/>\n<text text-anchor=\"middle\" x=\"98\" y=\"-57.8\" font-family=\"Times New Roman,serif\" font-size=\"14.00\">53.open</text>\n</g>\n<!-- 2 -->\n<g id=\"node3\" class=\"node\">\n<title>2</title>\n<ellipse fill=\"none\" stroke=\"black\" cx=\"113\" cy=\"-18\" rx=\"40.89\" ry=\"18\"/>\n<text text-anchor=\"middle\" x=\"113\" y=\"-14.3\" font-family=\"Times New Roman,serif\" font-size=\"14.00\">/var/run/</text>\n</g>\n<!-- Start&#45;&gt;2 -->\n<g id=\"edge2\" class=\"edge\">\n<title>Start&#45;&gt;2</title>\n<path fill=\"none\" stroke=\"black\" d=\"M142.55,-87.16C138.5,-81.59 134.26,-75.22 131,-69 127.19,-61.73 123.85,-53.47 121.12,-45.79\"/>\n<polygon fill=\"black\" stroke=\"black\" points=\"124.39,-44.52 117.89,-36.16 117.75,-46.75 124.39,-44.52\"/>\n<text text-anchor=\"middle\" x=\"154\" y=\"-57.8\" font-family=\"Times New Roman,serif\" font-size=\"14.00\">52.open</text>\n</g>\n<!-- 3 -->\n<g id=\"node4\" class=\"node\">\n<title>3</title>\n<ellipse fill=\"none\" stroke=\"black\" cx=\"199\" cy=\"-18\" rx=\"27.1\" ry=\"18\"/>\n<text text-anchor=\"middle\" x=\"199\" y=\"-14.3\" font-family=\"Times New Roman,serif\" font-size=\"14.00\">/run/</text>\n</g>\n<!-- Start&#45;&gt;3 -->\n<g id=\"edge3\" class=\"edge\">\n<title>Start&#45;&gt;3</title>\n<path fill=\"none\" stroke=\"black\" d=\"M166.69,-87.15C170.14,-81.47 173.87,-75.04 177,-69 180.92,-61.42 184.81,-52.99 188.19,-45.24\"/>\n<polygon fill=\"black\" stroke=\"black\" points=\"191.47,-46.48 192.18,-35.91 185.03,-43.73 191.47,-46.48\"/>\n<text text-anchor=\"middle\" x=\"208\" y=\"-57.8\" font-family=\"Times New Roman,serif\" font-size=\"14.00\">51.open</text>\n</g>\n<!-- 4 -->\n<g id=\"node5\" class=\"node\">\n<title>4</title>\n<ellipse fill=\"none\" stroke=\"black\" cx=\"277\" cy=\"-18\" rx=\"32.49\" ry=\"18\"/>\n<text text-anchor=\"middle\" x=\"277\" y=\"-14.3\" font-family=\"Times New Roman,serif\" font-size=\"14.00\">/proc/</text>\n</g>\n<!-- Start&#45;&gt;4 -->\n<g id=\"edge4\" class=\"edge\">\n<title>Start&#45;&gt;4</title>\n<path fill=\"none\" stroke=\"black\" d=\"M197.73,-89.7C210.37,-84.29 223.85,-77.38 235,-69 244.48,-61.88 253.22,-52.23 260.25,-43.31\"/>\n<polygon fill=\"black\" stroke=\"black\" points=\"263.22,-45.18 266.43,-35.08 257.62,-40.98 263.22,-45.18\"/>\n<text text-anchor=\"middle\" x=\"277.5\" y=\"-57.8\" font-family=\"Times New Roman,serif\" font-size=\"14.00\">68.access</text>\n</g>\n</g>\n</svg>\n",
      "text/plain": [
       "<graphviz.graphs.Digraph at 0x27a59357430>"
      ]
     },
     "metadata": {},
     "output_type": "display_data"
    },
    {
     "name": "stdout",
     "output_type": "stream",
     "text": [
      "Xorddos-Trendmicro.csv raw doc OPset\n"
     ]
    },
    {
     "data": {
      "image/svg+xml": "<?xml version=\"1.0\" encoding=\"UTF-8\" standalone=\"no\"?>\n<!DOCTYPE svg PUBLIC \"-//W3C//DTD SVG 1.1//EN\"\n \"http://www.w3.org/Graphics/SVG/1.1/DTD/svg11.dtd\">\n<!-- Generated by graphviz version 6.0.1 (20220911.1526)\n -->\n<!-- Pages: 1 -->\n<svg width=\"494pt\" height=\"131pt\"\n viewBox=\"0.00 0.00 494.44 131.00\" xmlns=\"http://www.w3.org/2000/svg\" xmlns:xlink=\"http://www.w3.org/1999/xlink\">\n<g id=\"graph0\" class=\"graph\" transform=\"scale(1 1) rotate(0) translate(4 127)\">\n<polygon fill=\"white\" stroke=\"none\" points=\"-4,4 -4,-127 490.44,-127 490.44,4 -4,4\"/>\n<!-- Start -->\n<g id=\"node1\" class=\"node\">\n<title>Start</title>\n<ellipse fill=\"none\" stroke=\"black\" cx=\"162.95\" cy=\"-105\" rx=\"77.19\" ry=\"18\"/>\n<text text-anchor=\"middle\" x=\"162.95\" y=\"-101.3\" font-family=\"Times New Roman,serif\" font-size=\"14.00\">Malware (Subject)</text>\n</g>\n<!-- 1 -->\n<g id=\"node2\" class=\"node\">\n<title>1</title>\n<ellipse fill=\"none\" stroke=\"black\" cx=\"40.95\" cy=\"-18\" rx=\"40.89\" ry=\"18\"/>\n<text text-anchor=\"middle\" x=\"40.95\" y=\"-14.3\" font-family=\"Times New Roman,serif\" font-size=\"14.00\">/var/run/</text>\n</g>\n<!-- Start&#45;&gt;1 -->\n<g id=\"edge1\" class=\"edge\">\n<title>Start&#45;&gt;1</title>\n<path fill=\"none\" stroke=\"black\" d=\"M130.69,-88.47C119.96,-82.83 108.16,-76.09 97.95,-69 86.34,-60.94 74.45,-50.85 64.55,-41.85\"/>\n<polygon fill=\"black\" stroke=\"black\" points=\"66.8,-39.16 57.09,-34.93 62.04,-44.29 66.8,-39.16\"/>\n<text text-anchor=\"middle\" x=\"115.45\" y=\"-57.8\" font-family=\"Times New Roman,serif\" font-size=\"14.00\">5.read</text>\n</g>\n<!-- 2 -->\n<g id=\"node3\" class=\"node\">\n<title>2</title>\n<ellipse fill=\"none\" stroke=\"black\" cx=\"126.95\" cy=\"-18\" rx=\"27\" ry=\"18\"/>\n<text text-anchor=\"middle\" x=\"126.95\" y=\"-14.3\" font-family=\"Times New Roman,serif\" font-size=\"14.00\">/var/</text>\n</g>\n<!-- Start&#45;&gt;2 -->\n<g id=\"edge2\" class=\"edge\">\n<title>Start&#45;&gt;2</title>\n<path fill=\"none\" stroke=\"black\" d=\"M151.59,-87.01C148.18,-81.43 144.64,-75.09 141.95,-69 138.72,-61.7 135.94,-53.52 133.68,-45.91\"/>\n<polygon fill=\"black\" stroke=\"black\" points=\"136.99,-44.73 130.93,-36.04 130.25,-46.61 136.99,-44.73\"/>\n<text text-anchor=\"middle\" x=\"159.45\" y=\"-57.8\" font-family=\"Times New Roman,serif\" font-size=\"14.00\">4.read</text>\n</g>\n<!-- 3 -->\n<g id=\"node4\" class=\"node\">\n<title>3</title>\n<ellipse fill=\"none\" stroke=\"black\" cx=\"198.95\" cy=\"-18\" rx=\"27.1\" ry=\"18\"/>\n<text text-anchor=\"middle\" x=\"198.95\" y=\"-14.3\" font-family=\"Times New Roman,serif\" font-size=\"14.00\">/run/</text>\n</g>\n<!-- Start&#45;&gt;3 -->\n<g id=\"edge3\" class=\"edge\">\n<title>Start&#45;&gt;3</title>\n<path fill=\"none\" stroke=\"black\" d=\"M170.23,-86.8C175.32,-74.78 182.21,-58.51 187.97,-44.92\"/>\n<polygon fill=\"black\" stroke=\"black\" points=\"191.24,-46.17 191.92,-35.6 184.79,-43.44 191.24,-46.17\"/>\n<text text-anchor=\"middle\" x=\"201.45\" y=\"-57.8\" font-family=\"Times New Roman,serif\" font-size=\"14.00\">6.read</text>\n</g>\n<!-- 4 -->\n<g id=\"node5\" class=\"node\">\n<title>4</title>\n<ellipse fill=\"none\" stroke=\"black\" cx=\"286.95\" cy=\"-18\" rx=\"42.79\" ry=\"18\"/>\n<text text-anchor=\"middle\" x=\"286.95\" y=\"-14.3\" font-family=\"Times New Roman,serif\" font-size=\"14.00\">/etc/cron</text>\n</g>\n<!-- Start&#45;&gt;4 -->\n<g id=\"edge4\" class=\"edge\">\n<title>Start&#45;&gt;4</title>\n<path fill=\"none\" stroke=\"black\" d=\"M191.82,-88.21C201.85,-82.45 213.06,-75.7 222.95,-69 235.81,-60.28 249.47,-49.8 260.84,-40.69\"/>\n<polygon fill=\"black\" stroke=\"black\" points=\"263.11,-43.36 268.68,-34.34 258.71,-37.91 263.11,-43.36\"/>\n<text text-anchor=\"middle\" x=\"260.95\" y=\"-57.8\" font-family=\"Times New Roman,serif\" font-size=\"14.00\">1.drop</text>\n</g>\n<!-- 5 -->\n<g id=\"node6\" class=\"node\">\n<title>5</title>\n<ellipse fill=\"none\" stroke=\"black\" cx=\"291.95\" cy=\"-105\" rx=\"33.6\" ry=\"18\"/>\n<text text-anchor=\"middle\" x=\"291.95\" y=\"-101.3\" font-family=\"Times New Roman,serif\" font-size=\"14.00\">/etc/rc</text>\n</g>\n<!-- 6 -->\n<g id=\"node7\" class=\"node\">\n<title>6</title>\n<ellipse fill=\"none\" stroke=\"black\" cx=\"414.95\" cy=\"-105\" rx=\"71.49\" ry=\"18\"/>\n<text text-anchor=\"middle\" x=\"414.95\" y=\"-101.3\" font-family=\"Times New Roman,serif\" font-size=\"14.00\">[a&#45;zA&#45;z]:d{1,5}$</text>\n</g>\n</g>\n</svg>\n",
      "text/plain": [
       "<graphviz.graphs.Digraph at 0x27a59356d40>"
      ]
     },
     "metadata": {},
     "output_type": "display_data"
    },
    {
     "name": "stdout",
     "output_type": "stream",
     "text": [
      "Xorddos-Trendmicro2.csv raw doc OPset\n"
     ]
    },
    {
     "data": {
      "image/svg+xml": "<?xml version=\"1.0\" encoding=\"UTF-8\" standalone=\"no\"?>\n<!DOCTYPE svg PUBLIC \"-//W3C//DTD SVG 1.1//EN\"\n \"http://www.w3.org/Graphics/SVG/1.1/DTD/svg11.dtd\">\n<!-- Generated by graphviz version 6.0.1 (20220911.1526)\n -->\n<!-- Pages: 1 -->\n<svg width=\"163pt\" height=\"131pt\"\n viewBox=\"0.00 0.00 162.69 131.00\" xmlns=\"http://www.w3.org/2000/svg\" xmlns:xlink=\"http://www.w3.org/1999/xlink\">\n<g id=\"graph0\" class=\"graph\" transform=\"scale(1 1) rotate(0) translate(4 127)\">\n<polygon fill=\"white\" stroke=\"none\" points=\"-4,4 -4,-127 158.69,-127 158.69,4 -4,4\"/>\n<!-- Start -->\n<g id=\"node1\" class=\"node\">\n<title>Start</title>\n<ellipse fill=\"none\" stroke=\"black\" cx=\"77.34\" cy=\"-105\" rx=\"77.19\" ry=\"18\"/>\n<text text-anchor=\"middle\" x=\"77.34\" y=\"-101.3\" font-family=\"Times New Roman,serif\" font-size=\"14.00\">Malware (Subject)</text>\n</g>\n<!-- 1 -->\n<g id=\"node2\" class=\"node\">\n<title>1</title>\n<ellipse fill=\"none\" stroke=\"black\" cx=\"77.34\" cy=\"-18\" rx=\"38.99\" ry=\"18\"/>\n<text text-anchor=\"middle\" x=\"77.34\" y=\"-14.3\" font-family=\"Times New Roman,serif\" font-size=\"14.00\">ip_addr</text>\n</g>\n<!-- Start&#45;&gt;1 -->\n<g id=\"edge1\" class=\"edge\">\n<title>Start&#45;&gt;1</title>\n<path fill=\"none\" stroke=\"black\" d=\"M60.82,-87.18C56.57,-81.8 52.57,-75.54 50.34,-69 47.3,-60.09 50.29,-50.87 55.22,-42.81\"/>\n<polygon fill=\"black\" stroke=\"black\" points=\"58.14,-44.75 61.15,-34.59 52.46,-40.65 58.14,-44.75\"/>\n<text text-anchor=\"middle\" x=\"66.84\" y=\"-57.8\" font-family=\"Times New Roman,serif\" font-size=\"14.00\">2.find</text>\n</g>\n<!-- Start&#45;&gt;1 -->\n<g id=\"edge2\" class=\"edge\">\n<title>Start&#45;&gt;1</title>\n<path fill=\"none\" stroke=\"black\" d=\"M80.86,-86.98C81.87,-81.29 82.84,-74.9 83.34,-69 83.98,-61.54 83.52,-53.47 82.62,-46.05\"/>\n<polygon fill=\"black\" stroke=\"black\" points=\"86.07,-45.47 81.14,-36.09 79.15,-46.5 86.07,-45.47\"/>\n<text text-anchor=\"middle\" x=\"101.84\" y=\"-57.8\" font-family=\"Times New Roman,serif\" font-size=\"14.00\">1.wget</text>\n</g>\n</g>\n</svg>\n",
      "text/plain": [
       "<graphviz.graphs.Digraph at 0x27a59357430>"
      ]
     },
     "metadata": {},
     "output_type": "display_data"
    }
   ],
   "source": [
    "import graphviz\n",
    "\n",
    "class ItemMapper:\n",
    "    def __init__(self) -> None:\n",
    "        self.mapper = {}\n",
    "        self.index_counter:int = 1\n",
    "        # self.pretty_name = {\n",
    "        #     \"\\d{1,3}\\.\\d{1,3}\\.\\d{1,3}\\.\\d{1,3}\": \"ip_addr\",\n",
    "        #     \"\\d{1,3}\\.\\d{1,3}\\.\\d{1,3}\\.\\d{1,3}:\\d+\": \"ip_addr+port\",\n",
    "        #     \"0x[0-9a-zA-Z]{8}\": \"mem_addr\",\n",
    "        #     \"permission:{0,1}[0-9]{0,4}\": \"permission_id\"\n",
    "        # }\n",
    "        pass\n",
    "    def addItem(self, item:str) -> str:\n",
    "        # item = self.prettifyName(item) # 先不在這做~\n",
    "        if item in self.mapper.keys():\n",
    "            return self.mapper.get(item)\n",
    "        self.mapper[item] = str(self.index_counter)\n",
    "        self.index_counter += 1\n",
    "        return str(self.index_counter - 1)\n",
    "    def getSymbol(self, item:str):\n",
    "        return self.mapper.get(item, None)\n",
    "    # def prettifyName(self, item:str) -> str:\n",
    "    #     changed = self.pretty_name.get(item, None)\n",
    "    #     if changed:\n",
    "    #         return changed\n",
    "    #     return item\n",
    "\n",
    "def draw_asg_op_graph(asg_OPset: list[OperationPair], family=None):\n",
    "    dot = graphviz.Digraph(f'{family}_asg_OPset', comment='The Operational Pair Graph') \n",
    "    dot.node('Start', label=\"Malware (Subject)\")\n",
    "    mapper = ItemMapper()\n",
    "    for op in asg_OPset:\n",
    "        node_id = mapper.addItem(op.object)\n",
    "        dot.node(node_id, label=prettifyName(op.object)) # rename partial regex\n",
    "        if op.action:\n",
    "            dot.edge('Start', node_id, label=f\"{op.step_number}.{op.action}\")\n",
    "\n",
    "    # dot.graph_attr.update(ratio=\"0.4\")\n",
    "    u = dot.unflatten(stagger=3, fanout=True)\n",
    "    display(u)\n",
    "    del mapper\n",
    "    return u\n",
    "\n",
    "def draw_ctd_op_graph(fset:FamilySet):\n",
    "    for rem in fset.rem_lst:\n",
    "        # doc_OPset\n",
    "        if rem.doc_OPset is None or len(rem.doc_OPset) == 0:\n",
    "            continue\n",
    "        dot = graphviz.Digraph()\n",
    "        dot.node('Start', label=\"Malware (Subject)\")\n",
    "        mapper = ItemMapper()\n",
    "        for op in rem.doc_OPset:\n",
    "            node_id = mapper.addItem(op.object)\n",
    "            dot.node(node_id, label=prettifyName(op.object))\n",
    "            if op.action:\n",
    "                dot.edge('Start', node_id, label=f\"{op.step_number}.{op.action}\")\n",
    "        print(f\"{rem.reportname} raw doc OPset\")\n",
    "        display(dot)\n",
    "        del mapper\n",
    "\n",
    "        # match_doc_OPset\n",
    "        if rem.match_doc_OPset is None or len(rem.match_doc_OPset) == 0:\n",
    "            continue\n",
    "        dot = graphviz.Digraph()\n",
    "        dot.node('Start', label=\"Malware (Subject)\")\n",
    "        mapper = ItemMapper()\n",
    "        for op in rem.match_doc_OPset:\n",
    "            node_id = mapper.addItem(op.object)\n",
    "            dot.node(node_id, label=prettifyName(op.object))\n",
    "            if op.action:\n",
    "                dot.edge('Start', node_id, label=f\"{op.step_number}.{op.action}\")\n",
    "        print(f\"{rem.reportname} matched doc OPset\")\n",
    "        display(dot)\n",
    "        del mapper\n",
    "\n",
    "        # match_ASG_OPset\n",
    "        if rem.OPset_order_index is None or len(rem.OPset_order_index) == 0:\n",
    "            continue\n",
    "        dot = graphviz.Digraph()\n",
    "        dot.node('Start', label=\"Malware (Subject)\")\n",
    "        mapper = ItemMapper()\n",
    "        for op in [fset.sample.OPset_ordered[i] for i in rem.OPset_order_index]:\n",
    "            node_id = mapper.addItem(op.object)\n",
    "            dot.node(node_id, label=prettifyName(op.object))\n",
    "            if op.action:\n",
    "                dot.edge('Start', node_id, label=f\"{op.step_number}.{op.action}\")\n",
    "        print(f\"matched ASG OPset for doc {rem.reportname}\")\n",
    "        display(dot)\n",
    "        del mapper\n",
    "    return\n",
    "\n",
    "draw_asg_op_graph(sample.OPset, family=family)\n",
    "draw_ctd_op_graph(fset)"
   ]
  },
  {
   "attachments": {},
   "cell_type": "markdown",
   "metadata": {},
   "source": [
    "### Run Script: print matched sentence for specific document"
   ]
  },
  {
   "cell_type": "code",
   "execution_count": 25,
   "metadata": {},
   "outputs": [
    {
     "data": {
      "text/html": [
       "<div>\n",
       "<style scoped>\n",
       "    .dataframe tbody tr th:only-of-type {\n",
       "        vertical-align: middle;\n",
       "    }\n",
       "\n",
       "    .dataframe tbody tr th {\n",
       "        vertical-align: top;\n",
       "    }\n",
       "\n",
       "    .dataframe thead th {\n",
       "        text-align: right;\n",
       "    }\n",
       "</style>\n",
       "<table border=\"1\" class=\"dataframe\">\n",
       "  <thead>\n",
       "    <tr style=\"text-align: right;\">\n",
       "      <th></th>\n",
       "      <th>report</th>\n",
       "      <th>word</th>\n",
       "      <th>verb</th>\n",
       "      <th>objectType</th>\n",
       "      <th>prettyReg</th>\n",
       "      <th>match</th>\n",
       "      <th>label</th>\n",
       "      <th>sentence</th>\n",
       "    </tr>\n",
       "  </thead>\n",
       "  <tbody>\n",
       "    <tr>\n",
       "      <th>0</th>\n",
       "      <td>Dofloo-MalwareMustDie.csv</td>\n",
       "      <td>0x0002fc0e</td>\n",
       "      <td>pack</td>\n",
       "      <td>MEM</td>\n",
       "      <td>mem_addr</td>\n",
       "      <td>0</td>\n",
       "      <td>0</td>\n",
       "      <td>i look from its dcb data from where it was cal...</td>\n",
       "    </tr>\n",
       "    <tr>\n",
       "      <th>1</th>\n",
       "      <td>Dofloo-MalwareMustDie.csv</td>\n",
       "      <td>0x0002f144</td>\n",
       "      <td>svc</td>\n",
       "      <td>MEM</td>\n",
       "      <td>mem_addr</td>\n",
       "      <td>0</td>\n",
       "      <td>0</td>\n",
       "      <td>1 2 3 4 5 6 7 8 9 10 11 12 13 14 15 16 17 18 1...</td>\n",
       "    </tr>\n",
       "    <tr>\n",
       "      <th>2</th>\n",
       "      <td>Dofloo-MalwareMustDie.csv</td>\n",
       "      <td>0x0002fbd0</td>\n",
       "      <td>find</td>\n",
       "      <td>MEM</td>\n",
       "      <td>mem_addr</td>\n",
       "      <td>0</td>\n",
       "      <td>0</td>\n",
       "      <td>1 2 3 4 5 6 7 8 9 10 11 12 13 14 15 16 17 18 1...</td>\n",
       "    </tr>\n",
       "    <tr>\n",
       "      <th>3</th>\n",
       "      <td>Dofloo-MalwareMustDie.csv</td>\n",
       "      <td>0x0002fc5f</td>\n",
       "      <td>eserve</td>\n",
       "      <td>MEM</td>\n",
       "      <td>mem_addr</td>\n",
       "      <td>0</td>\n",
       "      <td>0</td>\n",
       "      <td>all rights r 0x0002fc5f                 dcb es...</td>\n",
       "    </tr>\n",
       "    <tr>\n",
       "      <th>4</th>\n",
       "      <td>Dofloo-MalwareMustDie.csv</td>\n",
       "      <td>0x0002fbf0</td>\n",
       "      <td>look</td>\n",
       "      <td>MEM</td>\n",
       "      <td>mem_addr</td>\n",
       "      <td>0</td>\n",
       "      <td>0</td>\n",
       "      <td>i look from its dcb data from where it was cal...</td>\n",
       "    </tr>\n",
       "    <tr>\n",
       "      <th>5</th>\n",
       "      <td>Dofloo-MalwareMustDie.csv</td>\n",
       "      <td>0x0002fcab</td>\n",
       "      <td>go</td>\n",
       "      <td>MEM</td>\n",
       "      <td>mem_addr</td>\n",
       "      <td>0</td>\n",
       "      <td>0</td>\n",
       "      <td>,0x24,0xa,0 0x0002fcab                 dcb 0x0...</td>\n",
       "    </tr>\n",
       "    <tr>\n",
       "      <th>6</th>\n",
       "      <td>Dofloo-MalwareMustDie.csv</td>\n",
       "      <td>182.254.180.0/23</td>\n",
       "      <td>None</td>\n",
       "      <td>NET</td>\n",
       "      <td>ip_addr</td>\n",
       "      <td>0</td>\n",
       "      <td>0</td>\n",
       "      <td>None</td>\n",
       "    </tr>\n",
       "    <tr>\n",
       "      <th>7</th>\n",
       "      <td>Dofloo-MalwareMustDie.csv</td>\n",
       "      <td>0x000d0c24</td>\n",
       "      <td>be</td>\n",
       "      <td>MEM</td>\n",
       "      <td>mem_addr</td>\n",
       "      <td>0</td>\n",
       "      <td>0</td>\n",
       "      <td>so as you can see it was served from sept 10th...</td>\n",
       "    </tr>\n",
       "    <tr>\n",
       "      <th>8</th>\n",
       "      <td>Dofloo-MalwareMustDie.csv</td>\n",
       "      <td>0x00008000</td>\n",
       "      <td>have</td>\n",
       "      <td>MEM</td>\n",
       "      <td>mem_addr</td>\n",
       "      <td>0</td>\n",
       "      <td>0</td>\n",
       "      <td>so as you can see it was served from sept 10th...</td>\n",
       "    </tr>\n",
       "    <tr>\n",
       "      <th>9</th>\n",
       "      <td>Dofloo-MalwareMustDie.csv</td>\n",
       "      <td>sed</td>\n",
       "      <td>None</td>\n",
       "      <td>PROC</td>\n",
       "      <td>^sed$</td>\n",
       "      <td>0</td>\n",
       "      <td>0</td>\n",
       "      <td>None</td>\n",
       "    </tr>\n",
       "    <tr>\n",
       "      <th>10</th>\n",
       "      <td>Dofloo-MalwareMustDie.csv</td>\n",
       "      <td>0x6c00031a,</td>\n",
       "      <td>None</td>\n",
       "      <td>MEM</td>\n",
       "      <td>mem_addr</td>\n",
       "      <td>0</td>\n",
       "      <td>0</td>\n",
       "      <td>None</td>\n",
       "    </tr>\n",
       "    <tr>\n",
       "      <th>11</th>\n",
       "      <td>Dofloo-MalwareMustDie.csv</td>\n",
       "      <td>0x0002f118</td>\n",
       "      <td>add</td>\n",
       "      <td>MEM</td>\n",
       "      <td>mem_addr</td>\n",
       "      <td>0</td>\n",
       "      <td>0</td>\n",
       "      <td>1 2 3 4 5 6 7 8 9 10 11 12 13 14 15 16 17 18 1...</td>\n",
       "    </tr>\n",
       "    <tr>\n",
       "      <th>12</th>\n",
       "      <td>Dofloo-MalwareMustDie.csv</td>\n",
       "      <td>0x0002f120</td>\n",
       "      <td>r1,r2,r10,r11,lr</td>\n",
       "      <td>MEM</td>\n",
       "      <td>mem_addr</td>\n",
       "      <td>0</td>\n",
       "      <td>0</td>\n",
       "      <td>1 2 3 4 5 6 7 8 9 10 11 12 13 14 15 16 17 18 1...</td>\n",
       "    </tr>\n",
       "    <tr>\n",
       "      <th>13</th>\n",
       "      <td>Dofloo-MalwareMustDie.csv</td>\n",
       "      <td>182.254.180.241</td>\n",
       "      <td>be</td>\n",
       "      <td>NET</td>\n",
       "      <td>ip_addr</td>\n",
       "      <td>0</td>\n",
       "      <td>0</td>\n",
       "      <td>1 2 .text:0x09e68 ldr  r0, =unk_0x08c5c4  &lt;-- ...</td>\n",
       "    </tr>\n",
       "    <tr>\n",
       "      <th>14</th>\n",
       "      <td>Dofloo-Securityaffairs.csv</td>\n",
       "      <td>/etc/rc.d/rc.local,</td>\n",
       "      <td>None</td>\n",
       "      <td>FILE</td>\n",
       "      <td>/etc/rc</td>\n",
       "      <td>0</td>\n",
       "      <td>0</td>\n",
       "      <td>None</td>\n",
       "    </tr>\n",
       "    <tr>\n",
       "      <th>15</th>\n",
       "      <td>Dofloo-Securityaffairs.csv</td>\n",
       "      <td>/etc/rc.local</td>\n",
       "      <td>modify</td>\n",
       "      <td>FILE</td>\n",
       "      <td>/etc/rc</td>\n",
       "      <td>1</td>\n",
       "      <td>1</td>\n",
       "      <td>trend micro researchers also discovered that t...</td>\n",
       "    </tr>\n",
       "    <tr>\n",
       "      <th>16</th>\n",
       "      <td>Dofloo-Securityaffairs.csv</td>\n",
       "      <td>23.224.59.34:48080</td>\n",
       "      <td>connect</td>\n",
       "      <td>NET</td>\n",
       "      <td>ip_addr</td>\n",
       "      <td>1</td>\n",
       "      <td>1</td>\n",
       "      <td>the malware also connects to 23.224.59.34:4808...</td>\n",
       "    </tr>\n",
       "    <tr>\n",
       "      <th>17</th>\n",
       "      <td>Dofloo-Securityaffairs.csv</td>\n",
       "      <td>23.224.59.34:48080</td>\n",
       "      <td>connect</td>\n",
       "      <td>FILE</td>\n",
       "      <td>ip_addr+port</td>\n",
       "      <td>1</td>\n",
       "      <td>1</td>\n",
       "      <td>the malware also connects to 23.224.59.34:4808...</td>\n",
       "    </tr>\n",
       "    <tr>\n",
       "      <th>18</th>\n",
       "      <td>Dofloo-SyscallParty.csv</td>\n",
       "      <td>‘uname’</td>\n",
       "      <td>None</td>\n",
       "      <td>FILE</td>\n",
       "      <td>uname(.)($)</td>\n",
       "      <td>0</td>\n",
       "      <td>0</td>\n",
       "      <td>None</td>\n",
       "    </tr>\n",
       "    <tr>\n",
       "      <th>19</th>\n",
       "      <td>Dofloo-SyscallParty.csv</td>\n",
       "      <td>/proc/cpuinfo</td>\n",
       "      <td>open</td>\n",
       "      <td>FILE</td>\n",
       "      <td>/proc/</td>\n",
       "      <td>1</td>\n",
       "      <td>1</td>\n",
       "      <td>the virtual file /proc/cpuinfo is opened and r...</td>\n",
       "    </tr>\n",
       "    <tr>\n",
       "      <th>20</th>\n",
       "      <td>Dofloo-SyscallParty.csv</td>\n",
       "      <td>/proc/self/exe</td>\n",
       "      <td>None</td>\n",
       "      <td>FILE</td>\n",
       "      <td>/proc/</td>\n",
       "      <td>0</td>\n",
       "      <td>0</td>\n",
       "      <td>None</td>\n",
       "    </tr>\n",
       "    <tr>\n",
       "      <th>21</th>\n",
       "      <td>Dofloo-SyscallParty.csv</td>\n",
       "      <td>61.147.91.53.</td>\n",
       "      <td>None</td>\n",
       "      <td>NET</td>\n",
       "      <td>ip_addr</td>\n",
       "      <td>0</td>\n",
       "      <td>0</td>\n",
       "      <td>None</td>\n",
       "    </tr>\n",
       "    <tr>\n",
       "      <th>22</th>\n",
       "      <td>Dofloo-SyscallParty.csv</td>\n",
       "      <td>/proc/net/dev</td>\n",
       "      <td>read</td>\n",
       "      <td>FILE</td>\n",
       "      <td>/proc/</td>\n",
       "      <td>1</td>\n",
       "      <td>1</td>\n",
       "      <td>the way the malware gets information regarding...</td>\n",
       "    </tr>\n",
       "    <tr>\n",
       "      <th>23</th>\n",
       "      <td>Dofloo-SyscallParty.csv</td>\n",
       "      <td>/etc/init.d/boot.local</td>\n",
       "      <td>add</td>\n",
       "      <td>FILE</td>\n",
       "      <td>/etc/init.d/</td>\n",
       "      <td>1</td>\n",
       "      <td>1</td>\n",
       "      <td>persistence persistence is achieved by the mal...</td>\n",
       "    </tr>\n",
       "    <tr>\n",
       "      <th>24</th>\n",
       "      <td>Dofloo-SyscallParty.csv</td>\n",
       "      <td>/etc/rc.local</td>\n",
       "      <td>execute</td>\n",
       "      <td>FILE</td>\n",
       "      <td>/etc/rc</td>\n",
       "      <td>0</td>\n",
       "      <td>0</td>\n",
       "      <td>the /etc/rc.local will execute certain command...</td>\n",
       "    </tr>\n",
       "    <tr>\n",
       "      <th>25</th>\n",
       "      <td>Dofloo-SyscallParty.csv</td>\n",
       "      <td>/etc/rc.local</td>\n",
       "      <td>format</td>\n",
       "      <td>FILE</td>\n",
       "      <td>/etc/rc</td>\n",
       "      <td>1</td>\n",
       "      <td>1</td>\n",
       "      <td>a string is formatted and the sed program is c...</td>\n",
       "    </tr>\n",
       "    <tr>\n",
       "      <th>26</th>\n",
       "      <td>Dofloo-SyscallParty.csv</td>\n",
       "      <td>/etc/rc.local</td>\n",
       "      <td>add</td>\n",
       "      <td>FILE</td>\n",
       "      <td>/etc/rc</td>\n",
       "      <td>1</td>\n",
       "      <td>1</td>\n",
       "      <td>persistence persistence is achieved by the mal...</td>\n",
       "    </tr>\n",
       "    <tr>\n",
       "      <th>27</th>\n",
       "      <td>Dofloo-SyscallParty.csv</td>\n",
       "      <td>vaddr=0x00013dec</td>\n",
       "      <td>give</td>\n",
       "      <td>MEM</td>\n",
       "      <td>mem_addr</td>\n",
       "      <td>0</td>\n",
       "      <td>0</td>\n",
       "      <td>which gives us the following output:  vaddr=0x...</td>\n",
       "    </tr>\n",
       "    <tr>\n",
       "      <th>28</th>\n",
       "      <td>Dofloo-SyscallParty.csv</td>\n",
       "      <td>sed</td>\n",
       "      <td>format</td>\n",
       "      <td>PROC</td>\n",
       "      <td>^sed$</td>\n",
       "      <td>0</td>\n",
       "      <td>0</td>\n",
       "      <td>a string is formatted and the sed program is c...</td>\n",
       "    </tr>\n",
       "    <tr>\n",
       "      <th>29</th>\n",
       "      <td>Dofloo-Trendmicro.csv</td>\n",
       "      <td>/proc/sys/vm/overcommit_memory</td>\n",
       "      <td>None</td>\n",
       "      <td>FILE</td>\n",
       "      <td>/sys/</td>\n",
       "      <td>0</td>\n",
       "      <td>0</td>\n",
       "      <td>None</td>\n",
       "    </tr>\n",
       "    <tr>\n",
       "      <th>30</th>\n",
       "      <td>Dofloo-Trendmicro.csv</td>\n",
       "      <td>/etc/nsswitch.conf</td>\n",
       "      <td>open</td>\n",
       "      <td>FILE</td>\n",
       "      <td>nsswitch.conf</td>\n",
       "      <td>0</td>\n",
       "      <td>0</td>\n",
       "      <td>this backdoor opens the following files:  /et...</td>\n",
       "    </tr>\n",
       "    <tr>\n",
       "      <th>31</th>\n",
       "      <td>Dofloo-Trendmicro.csv</td>\n",
       "      <td>/proc/cpuinfo</td>\n",
       "      <td>None</td>\n",
       "      <td>FILE</td>\n",
       "      <td>/proc/</td>\n",
       "      <td>0</td>\n",
       "      <td>0</td>\n",
       "      <td>None</td>\n",
       "    </tr>\n",
       "    <tr>\n",
       "      <th>32</th>\n",
       "      <td>Dofloo-Trendmicro.csv</td>\n",
       "      <td>/etc/init.d/boot.local</td>\n",
       "      <td>start</td>\n",
       "      <td>FILE</td>\n",
       "      <td>/etc/init.d/</td>\n",
       "      <td>0</td>\n",
       "      <td>0</td>\n",
       "      <td>installation  this backdoor adds the followin...</td>\n",
       "    </tr>\n",
       "    <tr>\n",
       "      <th>33</th>\n",
       "      <td>Dofloo-Trendmicro.csv</td>\n",
       "      <td>/etc/rc.local</td>\n",
       "      <td>se</td>\n",
       "      <td>FILE</td>\n",
       "      <td>/etc/rc</td>\n",
       "      <td>0</td>\n",
       "      <td>0</td>\n",
       "      <td>installation  this backdoor adds the followin...</td>\n",
       "    </tr>\n",
       "    <tr>\n",
       "      <th>34</th>\n",
       "      <td>Dofloo-Trendmicro.csv</td>\n",
       "      <td>/proc/stat</td>\n",
       "      <td>gather</td>\n",
       "      <td>FILE</td>\n",
       "      <td>/proc/</td>\n",
       "      <td>1</td>\n",
       "      <td>1</td>\n",
       "      <td>this backdoor gathers the following data:  cp...</td>\n",
       "    </tr>\n",
       "    <tr>\n",
       "      <th>35</th>\n",
       "      <td>Dofloo-Trendmicro.csv</td>\n",
       "      <td>/etc/resolv.conf</td>\n",
       "      <td>open</td>\n",
       "      <td>FILE</td>\n",
       "      <td>resolv.conf</td>\n",
       "      <td>0</td>\n",
       "      <td>0</td>\n",
       "      <td>this backdoor opens the following files:  /et...</td>\n",
       "    </tr>\n",
       "    <tr>\n",
       "      <th>36</th>\n",
       "      <td>Dofloo-Trendmicro.csv</td>\n",
       "      <td>sed</td>\n",
       "      <td>se</td>\n",
       "      <td>PROC</td>\n",
       "      <td>^sed$</td>\n",
       "      <td>0</td>\n",
       "      <td>0</td>\n",
       "      <td>installation  this backdoor adds the followin...</td>\n",
       "    </tr>\n",
       "    <tr>\n",
       "      <th>37</th>\n",
       "      <td>Dofloo-Trendmicro.csv</td>\n",
       "      <td>/etc/suid-debug</td>\n",
       "      <td>None</td>\n",
       "      <td>INFO</td>\n",
       "      <td>UID</td>\n",
       "      <td>0</td>\n",
       "      <td>0</td>\n",
       "      <td>None</td>\n",
       "    </tr>\n",
       "  </tbody>\n",
       "</table>\n",
       "</div>"
      ],
      "text/plain": [
       "                        report                            word  \\\n",
       "0    Dofloo-MalwareMustDie.csv                      0x0002fc0e   \n",
       "1    Dofloo-MalwareMustDie.csv                      0x0002f144   \n",
       "2    Dofloo-MalwareMustDie.csv                      0x0002fbd0   \n",
       "3    Dofloo-MalwareMustDie.csv                      0x0002fc5f   \n",
       "4    Dofloo-MalwareMustDie.csv                      0x0002fbf0   \n",
       "5    Dofloo-MalwareMustDie.csv                      0x0002fcab   \n",
       "6    Dofloo-MalwareMustDie.csv                182.254.180.0/23   \n",
       "7    Dofloo-MalwareMustDie.csv                      0x000d0c24   \n",
       "8    Dofloo-MalwareMustDie.csv                      0x00008000   \n",
       "9    Dofloo-MalwareMustDie.csv                             sed   \n",
       "10   Dofloo-MalwareMustDie.csv                     0x6c00031a,   \n",
       "11   Dofloo-MalwareMustDie.csv                      0x0002f118   \n",
       "12   Dofloo-MalwareMustDie.csv                      0x0002f120   \n",
       "13   Dofloo-MalwareMustDie.csv                 182.254.180.241   \n",
       "14  Dofloo-Securityaffairs.csv             /etc/rc.d/rc.local,   \n",
       "15  Dofloo-Securityaffairs.csv                   /etc/rc.local   \n",
       "16  Dofloo-Securityaffairs.csv              23.224.59.34:48080   \n",
       "17  Dofloo-Securityaffairs.csv              23.224.59.34:48080   \n",
       "18     Dofloo-SyscallParty.csv                         ‘uname’   \n",
       "19     Dofloo-SyscallParty.csv                   /proc/cpuinfo   \n",
       "20     Dofloo-SyscallParty.csv                  /proc/self/exe   \n",
       "21     Dofloo-SyscallParty.csv                   61.147.91.53.   \n",
       "22     Dofloo-SyscallParty.csv                   /proc/net/dev   \n",
       "23     Dofloo-SyscallParty.csv          /etc/init.d/boot.local   \n",
       "24     Dofloo-SyscallParty.csv                   /etc/rc.local   \n",
       "25     Dofloo-SyscallParty.csv                   /etc/rc.local   \n",
       "26     Dofloo-SyscallParty.csv                   /etc/rc.local   \n",
       "27     Dofloo-SyscallParty.csv                vaddr=0x00013dec   \n",
       "28     Dofloo-SyscallParty.csv                             sed   \n",
       "29       Dofloo-Trendmicro.csv  /proc/sys/vm/overcommit_memory   \n",
       "30       Dofloo-Trendmicro.csv              /etc/nsswitch.conf   \n",
       "31       Dofloo-Trendmicro.csv                   /proc/cpuinfo   \n",
       "32       Dofloo-Trendmicro.csv          /etc/init.d/boot.local   \n",
       "33       Dofloo-Trendmicro.csv                   /etc/rc.local   \n",
       "34       Dofloo-Trendmicro.csv                      /proc/stat   \n",
       "35       Dofloo-Trendmicro.csv                /etc/resolv.conf   \n",
       "36       Dofloo-Trendmicro.csv                             sed   \n",
       "37       Dofloo-Trendmicro.csv                 /etc/suid-debug   \n",
       "\n",
       "                verb objectType      prettyReg  match  label  \\\n",
       "0               pack        MEM       mem_addr      0      0   \n",
       "1                svc        MEM       mem_addr      0      0   \n",
       "2               find        MEM       mem_addr      0      0   \n",
       "3             eserve        MEM       mem_addr      0      0   \n",
       "4               look        MEM       mem_addr      0      0   \n",
       "5                 go        MEM       mem_addr      0      0   \n",
       "6               None        NET        ip_addr      0      0   \n",
       "7                 be        MEM       mem_addr      0      0   \n",
       "8               have        MEM       mem_addr      0      0   \n",
       "9               None       PROC          ^sed$      0      0   \n",
       "10              None        MEM       mem_addr      0      0   \n",
       "11               add        MEM       mem_addr      0      0   \n",
       "12  r1,r2,r10,r11,lr        MEM       mem_addr      0      0   \n",
       "13                be        NET        ip_addr      0      0   \n",
       "14              None       FILE        /etc/rc      0      0   \n",
       "15            modify       FILE        /etc/rc      1      1   \n",
       "16           connect        NET        ip_addr      1      1   \n",
       "17           connect       FILE   ip_addr+port      1      1   \n",
       "18              None       FILE    uname(.)($)      0      0   \n",
       "19              open       FILE         /proc/      1      1   \n",
       "20              None       FILE         /proc/      0      0   \n",
       "21              None        NET        ip_addr      0      0   \n",
       "22              read       FILE         /proc/      1      1   \n",
       "23               add       FILE   /etc/init.d/      1      1   \n",
       "24           execute       FILE        /etc/rc      0      0   \n",
       "25            format       FILE        /etc/rc      1      1   \n",
       "26               add       FILE        /etc/rc      1      1   \n",
       "27              give        MEM       mem_addr      0      0   \n",
       "28            format       PROC          ^sed$      0      0   \n",
       "29              None       FILE          /sys/      0      0   \n",
       "30              open       FILE  nsswitch.conf      0      0   \n",
       "31              None       FILE         /proc/      0      0   \n",
       "32             start       FILE   /etc/init.d/      0      0   \n",
       "33                se       FILE        /etc/rc      0      0   \n",
       "34            gather       FILE         /proc/      1      1   \n",
       "35              open       FILE    resolv.conf      0      0   \n",
       "36                se       PROC          ^sed$      0      0   \n",
       "37              None       INFO            UID      0      0   \n",
       "\n",
       "                                             sentence  \n",
       "0   i look from its dcb data from where it was cal...  \n",
       "1   1 2 3 4 5 6 7 8 9 10 11 12 13 14 15 16 17 18 1...  \n",
       "2   1 2 3 4 5 6 7 8 9 10 11 12 13 14 15 16 17 18 1...  \n",
       "3   all rights r 0x0002fc5f                 dcb es...  \n",
       "4   i look from its dcb data from where it was cal...  \n",
       "5   ,0x24,0xa,0 0x0002fcab                 dcb 0x0...  \n",
       "6                                                None  \n",
       "7   so as you can see it was served from sept 10th...  \n",
       "8   so as you can see it was served from sept 10th...  \n",
       "9                                                None  \n",
       "10                                               None  \n",
       "11  1 2 3 4 5 6 7 8 9 10 11 12 13 14 15 16 17 18 1...  \n",
       "12  1 2 3 4 5 6 7 8 9 10 11 12 13 14 15 16 17 18 1...  \n",
       "13  1 2 .text:0x09e68 ldr  r0, =unk_0x08c5c4  <-- ...  \n",
       "14                                               None  \n",
       "15  trend micro researchers also discovered that t...  \n",
       "16  the malware also connects to 23.224.59.34:4808...  \n",
       "17  the malware also connects to 23.224.59.34:4808...  \n",
       "18                                               None  \n",
       "19  the virtual file /proc/cpuinfo is opened and r...  \n",
       "20                                               None  \n",
       "21                                               None  \n",
       "22  the way the malware gets information regarding...  \n",
       "23  persistence persistence is achieved by the mal...  \n",
       "24  the /etc/rc.local will execute certain command...  \n",
       "25  a string is formatted and the sed program is c...  \n",
       "26  persistence persistence is achieved by the mal...  \n",
       "27  which gives us the following output:  vaddr=0x...  \n",
       "28  a string is formatted and the sed program is c...  \n",
       "29                                               None  \n",
       "30   this backdoor opens the following files:  /et...  \n",
       "31                                               None  \n",
       "32   installation  this backdoor adds the followin...  \n",
       "33   installation  this backdoor adds the followin...  \n",
       "34   this backdoor gathers the following data:  cp...  \n",
       "35   this backdoor opens the following files:  /et...  \n",
       "36   installation  this backdoor adds the followin...  \n",
       "37                                               None  "
      ]
     },
     "execution_count": 25,
     "metadata": {},
     "output_type": "execute_result"
    }
   ],
   "source": [
    "# 存檔所有 doc_OPset\n",
    "def save_docOPset(fset: FamilySet):\n",
    "    data = []\n",
    "    for idx_rem, rem in enumerate(fset.rem_lst):\n",
    "        ctd_opset:list[OperationPair] = list(rem.doc_OPset)\n",
    "        for op in ctd_opset:\n",
    "            data.append({\n",
    "                'report': rem.reportname,\n",
    "                'word': op.original_object,\n",
    "                'verb': op.action,\n",
    "                'objectType': op.object_type,\n",
    "                'prettyReg': prettifyName(op.object),\n",
    "                'match': 1 if op in rem.match_doc_OPset else 0, # verb 是否有比對到 syscall\n",
    "                'label': 1 if op in rem.match_doc_OPset else 0, # 人工標記的標籤 暫時先跟系統判斷一樣\n",
    "                'sentence': \" \".join(op.original_sentence.splitlines()) if op.original_sentence else None # flatten the sentence segment\n",
    "            })\n",
    "    # print(data)\n",
    "    df = pd.DataFrame(data)\n",
    "    df.to_csv(f'./result/00_{family}_docOPset.csv', index=False)\n",
    "    return df\n",
    "\n",
    "save_docOPset(fset)"
   ]
  },
  {
   "cell_type": "code",
   "execution_count": 17,
   "metadata": {},
   "outputs": [
    {
     "name": "stdout",
     "output_type": "stream",
     "text": [
      "Report: Dofloo-SyscallParty.csv. Matched OP count: 5\n",
      "--\n",
      "OP #11 open /proc/ /proc/cpuinfo\n",
      "the virtual file /proc/cpuinfo is opened and read in words until an eof (-1) is hit whilst reading the file chunk by chunk — then fclose is called to free up the opened file.\n",
      "--\n",
      "OP #8 read /proc/ /proc/net/dev\n",
      "the way the malware gets information regarding the network adapter is reading the /proc/net/dev file.\n",
      "--\n",
      "OP #4 add /etc/init.d/ /etc/init.d/boot.local\n",
      "persistence\n",
      "persistence is achieved by the malware by adding to /etc/rc.local and the /etc/init.d/boot.local files (in the auto_boot function); however before it overwrites this file it first checks to see if it has already done so.\n",
      "--\n",
      "OP #7 format /etc/rc /etc/rc.local\n",
      "a string is formatted and the sed program is called which writes to the file in question (there are several string operations, such as sed -i -e '2 i%s/%s' /etc/rc.local is formatted for example).\n",
      "--\n",
      "OP #3 add /etc/rc /etc/rc.local\n",
      "persistence\n",
      "persistence is achieved by the malware by adding to /etc/rc.local and the /etc/init.d/boot.local files (in the auto_boot function); however before it overwrites this file it first checks to see if it has already done so.\n"
     ]
    }
   ],
   "source": [
    "# 印出特定 report 的 matched 句子\n",
    "report_id = 3\n",
    "reportname = fset.rem_lst[report_id].reportname\n",
    "print(f\"Report: {reportname}. Matched OP count: {len(fset.rem_lst[report_id].match_doc_OPset)}\")\n",
    "for i, op in enumerate(fset.rem_lst[report_id].match_doc_OPset):\n",
    "    print(f\"--\\nOP #{op.step_number} {op.action} {op.object} {op.original_object}\")\n",
    "    print(f\"{op.original_sentence}\")"
   ]
  },
  {
   "cell_type": "code",
   "execution_count": 18,
   "metadata": {},
   "outputs": [
    {
     "name": "stdout",
     "output_type": "stream",
     "text": [
      "set()\n",
      "{<OP 8 act=pack, obj=mem_addr>, <OP 5 act=svc, obj=mem_addr>, <OP 6 act=find, obj=mem_addr>, <OP 9 act=eserve, obj=mem_addr>, <OP 7 act=look, obj=mem_addr>, <OP10 act=go, obj=mem_addr>, <OP14 act=None, obj=ip_addr>, <OP 2 act=be, obj=mem_addr>, <OP 1 act=have, obj=mem_addr>, <OP12 act=None, obj=^sed$>, <OP11 act=None, obj=mem_addr>, <OP 3 act=add, obj=mem_addr>, <OP 4 act=r1,r2,r10,r11,lr, obj=mem_addr>, <OP13 act=be, obj=ip_addr>}\n",
      "{<OP 4 act=None, obj=/etc/rc>, <OP 3 act=modify, obj=/etc/rc>, <OP 1 act=connect, obj=ip_addr>, <OP 2 act=connect, obj=ip_addr+port>}\n",
      "{<OP10 act=None, obj=uname(.)($)>, <OP11 act=open, obj=/proc/>, <OP 2 act=None, obj=/proc/>, <OP 9 act=None, obj=ip_addr>, <OP 8 act=read, obj=/proc/>, <OP 4 act=add, obj=/etc/init.d/>, <OP 5 act=execute, obj=/etc/rc>, <OP 7 act=format, obj=/etc/rc>, <OP 3 act=add, obj=/etc/rc>, <OP 1 act=give, obj=mem_addr>, <OP 6 act=format, obj=^sed$>}\n",
      "{<OP 6 act=None, obj=/sys/>, <OP 8 act=open, obj=nsswitch.conf>, <OP 5 act=None, obj=/proc/>, <OP 3 act=start, obj=/etc/init.d/>, <OP 2 act=se, obj=/etc/rc>, <OP 4 act=gather, obj=/proc/>, <OP 7 act=open, obj=resolv.conf>, <OP 1 act=se, obj=^sed$>, <OP 9 act=None, obj=UID>}\n"
     ]
    }
   ],
   "source": [
    "# 測試區\n",
    "for rem in fset.rem_lst:\n",
    "    print(rem.doc_OPset)"
   ]
  },
  {
   "cell_type": "code",
   "execution_count": 19,
   "metadata": {},
   "outputs": [
    {
     "data": {
      "text/html": [
       "<div>\n",
       "<style scoped>\n",
       "    .dataframe tbody tr th:only-of-type {\n",
       "        vertical-align: middle;\n",
       "    }\n",
       "\n",
       "    .dataframe tbody tr th {\n",
       "        vertical-align: top;\n",
       "    }\n",
       "\n",
       "    .dataframe thead th {\n",
       "        text-align: right;\n",
       "    }\n",
       "</style>\n",
       "<table border=\"1\" class=\"dataframe\">\n",
       "  <thead>\n",
       "    <tr style=\"text-align: right;\">\n",
       "      <th></th>\n",
       "      <th>bin/sed</th>\n",
       "      <th>/etc/rc</th>\n",
       "      <th>/etc/init.d/</th>\n",
       "      <th>/proc/</th>\n",
       "      <th>/etc/sed</th>\n",
       "      <th>/selinux</th>\n",
       "      <th>/sys/</th>\n",
       "      <th>bin/</th>\n",
       "      <th>lsb-release</th>\n",
       "      <th>uname(.)($)</th>\n",
       "      <th>...</th>\n",
       "      <th>^sh$</th>\n",
       "      <th>^sed$</th>\n",
       "      <th>\\d{1,3}\\.\\d{1,3}\\.\\d{1,3}\\.\\d{1,3}:\\d+</th>\n",
       "      <th>\\d{1,3}\\.\\d{1,3}\\.\\d{1,3}\\.\\d{1,3}</th>\n",
       "      <th>eth[0-9]$</th>\n",
       "      <th>0x[0-9a-zA-Z]{8}</th>\n",
       "      <th>permission:{0,1}[0-9]{0,4}</th>\n",
       "      <th>UID</th>\n",
       "      <th>GID</th>\n",
       "      <th>match</th>\n",
       "    </tr>\n",
       "  </thead>\n",
       "  <tbody>\n",
       "    <tr>\n",
       "      <th>0</th>\n",
       "      <td>0</td>\n",
       "      <td>0</td>\n",
       "      <td>0</td>\n",
       "      <td>0</td>\n",
       "      <td>0</td>\n",
       "      <td>0</td>\n",
       "      <td>0</td>\n",
       "      <td>0</td>\n",
       "      <td>0</td>\n",
       "      <td>0</td>\n",
       "      <td>...</td>\n",
       "      <td>0</td>\n",
       "      <td>0</td>\n",
       "      <td>0</td>\n",
       "      <td>0</td>\n",
       "      <td>0</td>\n",
       "      <td>0</td>\n",
       "      <td>0</td>\n",
       "      <td>0</td>\n",
       "      <td>0</td>\n",
       "      <td>0</td>\n",
       "    </tr>\n",
       "    <tr>\n",
       "      <th>1</th>\n",
       "      <td>0</td>\n",
       "      <td>0</td>\n",
       "      <td>0</td>\n",
       "      <td>0</td>\n",
       "      <td>0</td>\n",
       "      <td>0</td>\n",
       "      <td>0</td>\n",
       "      <td>0</td>\n",
       "      <td>0</td>\n",
       "      <td>0</td>\n",
       "      <td>...</td>\n",
       "      <td>0</td>\n",
       "      <td>0</td>\n",
       "      <td>0</td>\n",
       "      <td>0</td>\n",
       "      <td>0</td>\n",
       "      <td>0</td>\n",
       "      <td>0</td>\n",
       "      <td>0</td>\n",
       "      <td>0</td>\n",
       "      <td>0</td>\n",
       "    </tr>\n",
       "    <tr>\n",
       "      <th>2</th>\n",
       "      <td>0</td>\n",
       "      <td>0</td>\n",
       "      <td>0</td>\n",
       "      <td>0</td>\n",
       "      <td>0</td>\n",
       "      <td>0</td>\n",
       "      <td>0</td>\n",
       "      <td>0</td>\n",
       "      <td>0</td>\n",
       "      <td>0</td>\n",
       "      <td>...</td>\n",
       "      <td>0</td>\n",
       "      <td>0</td>\n",
       "      <td>0</td>\n",
       "      <td>0</td>\n",
       "      <td>0</td>\n",
       "      <td>0</td>\n",
       "      <td>0</td>\n",
       "      <td>0</td>\n",
       "      <td>0</td>\n",
       "      <td>0</td>\n",
       "    </tr>\n",
       "    <tr>\n",
       "      <th>3</th>\n",
       "      <td>0</td>\n",
       "      <td>0</td>\n",
       "      <td>0</td>\n",
       "      <td>0</td>\n",
       "      <td>0</td>\n",
       "      <td>0</td>\n",
       "      <td>0</td>\n",
       "      <td>0</td>\n",
       "      <td>0</td>\n",
       "      <td>0</td>\n",
       "      <td>...</td>\n",
       "      <td>0</td>\n",
       "      <td>0</td>\n",
       "      <td>0</td>\n",
       "      <td>0</td>\n",
       "      <td>0</td>\n",
       "      <td>0</td>\n",
       "      <td>0</td>\n",
       "      <td>0</td>\n",
       "      <td>0</td>\n",
       "      <td>0</td>\n",
       "    </tr>\n",
       "    <tr>\n",
       "      <th>4</th>\n",
       "      <td>0</td>\n",
       "      <td>0</td>\n",
       "      <td>0</td>\n",
       "      <td>0</td>\n",
       "      <td>0</td>\n",
       "      <td>0</td>\n",
       "      <td>0</td>\n",
       "      <td>0</td>\n",
       "      <td>0</td>\n",
       "      <td>0</td>\n",
       "      <td>...</td>\n",
       "      <td>0</td>\n",
       "      <td>0</td>\n",
       "      <td>0</td>\n",
       "      <td>0</td>\n",
       "      <td>0</td>\n",
       "      <td>0</td>\n",
       "      <td>0</td>\n",
       "      <td>0</td>\n",
       "      <td>0</td>\n",
       "      <td>0</td>\n",
       "    </tr>\n",
       "    <tr>\n",
       "      <th>5</th>\n",
       "      <td>0</td>\n",
       "      <td>0</td>\n",
       "      <td>0</td>\n",
       "      <td>0</td>\n",
       "      <td>0</td>\n",
       "      <td>0</td>\n",
       "      <td>0</td>\n",
       "      <td>0</td>\n",
       "      <td>0</td>\n",
       "      <td>0</td>\n",
       "      <td>...</td>\n",
       "      <td>0</td>\n",
       "      <td>0</td>\n",
       "      <td>0</td>\n",
       "      <td>0</td>\n",
       "      <td>0</td>\n",
       "      <td>0</td>\n",
       "      <td>0</td>\n",
       "      <td>0</td>\n",
       "      <td>0</td>\n",
       "      <td>0</td>\n",
       "    </tr>\n",
       "    <tr>\n",
       "      <th>6</th>\n",
       "      <td>0</td>\n",
       "      <td>0</td>\n",
       "      <td>0</td>\n",
       "      <td>0</td>\n",
       "      <td>0</td>\n",
       "      <td>0</td>\n",
       "      <td>0</td>\n",
       "      <td>0</td>\n",
       "      <td>0</td>\n",
       "      <td>0</td>\n",
       "      <td>...</td>\n",
       "      <td>0</td>\n",
       "      <td>0</td>\n",
       "      <td>0</td>\n",
       "      <td>0</td>\n",
       "      <td>0</td>\n",
       "      <td>0</td>\n",
       "      <td>0</td>\n",
       "      <td>0</td>\n",
       "      <td>0</td>\n",
       "      <td>0</td>\n",
       "    </tr>\n",
       "    <tr>\n",
       "      <th>7</th>\n",
       "      <td>0</td>\n",
       "      <td>0</td>\n",
       "      <td>0</td>\n",
       "      <td>0</td>\n",
       "      <td>0</td>\n",
       "      <td>0</td>\n",
       "      <td>0</td>\n",
       "      <td>0</td>\n",
       "      <td>0</td>\n",
       "      <td>0</td>\n",
       "      <td>...</td>\n",
       "      <td>0</td>\n",
       "      <td>0</td>\n",
       "      <td>0</td>\n",
       "      <td>0</td>\n",
       "      <td>0</td>\n",
       "      <td>0</td>\n",
       "      <td>0</td>\n",
       "      <td>0</td>\n",
       "      <td>0</td>\n",
       "      <td>0</td>\n",
       "    </tr>\n",
       "    <tr>\n",
       "      <th>8</th>\n",
       "      <td>0</td>\n",
       "      <td>0</td>\n",
       "      <td>0</td>\n",
       "      <td>0</td>\n",
       "      <td>0</td>\n",
       "      <td>0</td>\n",
       "      <td>0</td>\n",
       "      <td>0</td>\n",
       "      <td>0</td>\n",
       "      <td>0</td>\n",
       "      <td>...</td>\n",
       "      <td>0</td>\n",
       "      <td>0</td>\n",
       "      <td>0</td>\n",
       "      <td>0</td>\n",
       "      <td>0</td>\n",
       "      <td>0</td>\n",
       "      <td>0</td>\n",
       "      <td>0</td>\n",
       "      <td>0</td>\n",
       "      <td>0</td>\n",
       "    </tr>\n",
       "    <tr>\n",
       "      <th>9</th>\n",
       "      <td>0</td>\n",
       "      <td>0</td>\n",
       "      <td>0</td>\n",
       "      <td>0</td>\n",
       "      <td>0</td>\n",
       "      <td>0</td>\n",
       "      <td>0</td>\n",
       "      <td>0</td>\n",
       "      <td>0</td>\n",
       "      <td>0</td>\n",
       "      <td>...</td>\n",
       "      <td>0</td>\n",
       "      <td>0</td>\n",
       "      <td>0</td>\n",
       "      <td>0</td>\n",
       "      <td>0</td>\n",
       "      <td>0</td>\n",
       "      <td>0</td>\n",
       "      <td>0</td>\n",
       "      <td>0</td>\n",
       "      <td>0</td>\n",
       "    </tr>\n",
       "    <tr>\n",
       "      <th>10</th>\n",
       "      <td>0</td>\n",
       "      <td>0</td>\n",
       "      <td>0</td>\n",
       "      <td>0</td>\n",
       "      <td>0</td>\n",
       "      <td>0</td>\n",
       "      <td>0</td>\n",
       "      <td>0</td>\n",
       "      <td>0</td>\n",
       "      <td>0</td>\n",
       "      <td>...</td>\n",
       "      <td>0</td>\n",
       "      <td>0</td>\n",
       "      <td>0</td>\n",
       "      <td>0</td>\n",
       "      <td>0</td>\n",
       "      <td>0</td>\n",
       "      <td>0</td>\n",
       "      <td>0</td>\n",
       "      <td>0</td>\n",
       "      <td>0</td>\n",
       "    </tr>\n",
       "    <tr>\n",
       "      <th>11</th>\n",
       "      <td>0</td>\n",
       "      <td>0</td>\n",
       "      <td>0</td>\n",
       "      <td>0</td>\n",
       "      <td>0</td>\n",
       "      <td>0</td>\n",
       "      <td>0</td>\n",
       "      <td>0</td>\n",
       "      <td>0</td>\n",
       "      <td>0</td>\n",
       "      <td>...</td>\n",
       "      <td>0</td>\n",
       "      <td>0</td>\n",
       "      <td>0</td>\n",
       "      <td>0</td>\n",
       "      <td>0</td>\n",
       "      <td>0</td>\n",
       "      <td>0</td>\n",
       "      <td>0</td>\n",
       "      <td>0</td>\n",
       "      <td>0</td>\n",
       "    </tr>\n",
       "    <tr>\n",
       "      <th>12</th>\n",
       "      <td>0</td>\n",
       "      <td>0</td>\n",
       "      <td>0</td>\n",
       "      <td>0</td>\n",
       "      <td>0</td>\n",
       "      <td>0</td>\n",
       "      <td>0</td>\n",
       "      <td>0</td>\n",
       "      <td>0</td>\n",
       "      <td>0</td>\n",
       "      <td>...</td>\n",
       "      <td>0</td>\n",
       "      <td>0</td>\n",
       "      <td>0</td>\n",
       "      <td>0</td>\n",
       "      <td>0</td>\n",
       "      <td>0</td>\n",
       "      <td>0</td>\n",
       "      <td>0</td>\n",
       "      <td>0</td>\n",
       "      <td>0</td>\n",
       "    </tr>\n",
       "    <tr>\n",
       "      <th>13</th>\n",
       "      <td>0</td>\n",
       "      <td>0</td>\n",
       "      <td>0</td>\n",
       "      <td>0</td>\n",
       "      <td>0</td>\n",
       "      <td>0</td>\n",
       "      <td>0</td>\n",
       "      <td>0</td>\n",
       "      <td>0</td>\n",
       "      <td>0</td>\n",
       "      <td>...</td>\n",
       "      <td>0</td>\n",
       "      <td>0</td>\n",
       "      <td>0</td>\n",
       "      <td>0</td>\n",
       "      <td>0</td>\n",
       "      <td>0</td>\n",
       "      <td>0</td>\n",
       "      <td>0</td>\n",
       "      <td>0</td>\n",
       "      <td>0</td>\n",
       "    </tr>\n",
       "    <tr>\n",
       "      <th>14</th>\n",
       "      <td>0</td>\n",
       "      <td>0</td>\n",
       "      <td>0</td>\n",
       "      <td>0</td>\n",
       "      <td>0</td>\n",
       "      <td>0</td>\n",
       "      <td>0</td>\n",
       "      <td>0</td>\n",
       "      <td>0</td>\n",
       "      <td>0</td>\n",
       "      <td>...</td>\n",
       "      <td>0</td>\n",
       "      <td>0</td>\n",
       "      <td>0</td>\n",
       "      <td>0</td>\n",
       "      <td>0</td>\n",
       "      <td>0</td>\n",
       "      <td>0</td>\n",
       "      <td>0</td>\n",
       "      <td>0</td>\n",
       "      <td>0</td>\n",
       "    </tr>\n",
       "  </tbody>\n",
       "</table>\n",
       "<p>15 rows × 24 columns</p>\n",
       "</div>"
      ],
      "text/plain": [
       "    bin/sed  /etc/rc  /etc/init.d/  /proc/  /etc/sed  /selinux  /sys/  bin/  \\\n",
       "0         0        0             0       0         0         0      0     0   \n",
       "1         0        0             0       0         0         0      0     0   \n",
       "2         0        0             0       0         0         0      0     0   \n",
       "3         0        0             0       0         0         0      0     0   \n",
       "4         0        0             0       0         0         0      0     0   \n",
       "5         0        0             0       0         0         0      0     0   \n",
       "6         0        0             0       0         0         0      0     0   \n",
       "7         0        0             0       0         0         0      0     0   \n",
       "8         0        0             0       0         0         0      0     0   \n",
       "9         0        0             0       0         0         0      0     0   \n",
       "10        0        0             0       0         0         0      0     0   \n",
       "11        0        0             0       0         0         0      0     0   \n",
       "12        0        0             0       0         0         0      0     0   \n",
       "13        0        0             0       0         0         0      0     0   \n",
       "14        0        0             0       0         0         0      0     0   \n",
       "\n",
       "    lsb-release  uname(.)($)  ...  ^sh$  ^sed$  \\\n",
       "0             0            0  ...     0      0   \n",
       "1             0            0  ...     0      0   \n",
       "2             0            0  ...     0      0   \n",
       "3             0            0  ...     0      0   \n",
       "4             0            0  ...     0      0   \n",
       "5             0            0  ...     0      0   \n",
       "6             0            0  ...     0      0   \n",
       "7             0            0  ...     0      0   \n",
       "8             0            0  ...     0      0   \n",
       "9             0            0  ...     0      0   \n",
       "10            0            0  ...     0      0   \n",
       "11            0            0  ...     0      0   \n",
       "12            0            0  ...     0      0   \n",
       "13            0            0  ...     0      0   \n",
       "14            0            0  ...     0      0   \n",
       "\n",
       "    \\d{1,3}\\.\\d{1,3}\\.\\d{1,3}\\.\\d{1,3}:\\d+  \\\n",
       "0                                        0   \n",
       "1                                        0   \n",
       "2                                        0   \n",
       "3                                        0   \n",
       "4                                        0   \n",
       "5                                        0   \n",
       "6                                        0   \n",
       "7                                        0   \n",
       "8                                        0   \n",
       "9                                        0   \n",
       "10                                       0   \n",
       "11                                       0   \n",
       "12                                       0   \n",
       "13                                       0   \n",
       "14                                       0   \n",
       "\n",
       "    \\d{1,3}\\.\\d{1,3}\\.\\d{1,3}\\.\\d{1,3}  eth[0-9]$  0x[0-9a-zA-Z]{8}  \\\n",
       "0                                    0          0                 0   \n",
       "1                                    0          0                 0   \n",
       "2                                    0          0                 0   \n",
       "3                                    0          0                 0   \n",
       "4                                    0          0                 0   \n",
       "5                                    0          0                 0   \n",
       "6                                    0          0                 0   \n",
       "7                                    0          0                 0   \n",
       "8                                    0          0                 0   \n",
       "9                                    0          0                 0   \n",
       "10                                   0          0                 0   \n",
       "11                                   0          0                 0   \n",
       "12                                   0          0                 0   \n",
       "13                                   0          0                 0   \n",
       "14                                   0          0                 0   \n",
       "\n",
       "    permission:{0,1}[0-9]{0,4}  UID  GID  match  \n",
       "0                            0    0    0      0  \n",
       "1                            0    0    0      0  \n",
       "2                            0    0    0      0  \n",
       "3                            0    0    0      0  \n",
       "4                            0    0    0      0  \n",
       "5                            0    0    0      0  \n",
       "6                            0    0    0      0  \n",
       "7                            0    0    0      0  \n",
       "8                            0    0    0      0  \n",
       "9                            0    0    0      0  \n",
       "10                           0    0    0      0  \n",
       "11                           0    0    0      0  \n",
       "12                           0    0    0      0  \n",
       "13                           0    0    0      0  \n",
       "14                           0    0    0      0  \n",
       "\n",
       "[15 rows x 24 columns]"
      ]
     },
     "metadata": {},
     "output_type": "display_data"
    }
   ],
   "source": [
    "for rem in fset.rem_lst:\n",
    "    display(rem.get_match_sentences())\n",
    "    break"
   ]
  },
  {
   "cell_type": "code",
   "execution_count": null,
   "metadata": {},
   "outputs": [],
   "source": []
  }
 ],
 "metadata": {
  "kernelspec": {
   "display_name": "Python 3.10.5 64-bit",
   "language": "python",
   "name": "python3"
  },
  "language_info": {
   "codemirror_mode": {
    "name": "ipython",
    "version": 3
   },
   "file_extension": ".py",
   "mimetype": "text/x-python",
   "name": "python",
   "nbconvert_exporter": "python",
   "pygments_lexer": "ipython3",
   "version": "3.10.5"
  },
  "orig_nbformat": 4,
  "vscode": {
   "interpreter": {
    "hash": "125a1d8b627fe68767755740015967bae857d08bb92fb3fd0d9d8ed24f978d39"
   }
  }
 },
 "nbformat": 4,
 "nbformat_minor": 2
}
