{
 "cells": [
  {
   "cell_type": "code",
   "execution_count": 1,
   "metadata": {},
   "outputs": [],
   "source": [
    "import re\n",
    "import os\n",
    "from os import listdir\n",
    "from os.path import isfile, join\n",
    "from pathlib import Path\n",
    "import pandas as pd\n",
    "import pickle\n",
    "from typing import Dict, List, get_type_hints\n",
    "from styleframe import StyleFrame, Styler\n",
    "from IPython.display import display\n",
    "\n",
    "''' 自己寫的模組 '''\n",
    "from cc_regex_script import RegexMatchResult, RegexMaster \n",
    "from cc_nlp_script import find_verb_of_vocab, OperationMode, OperationEvaluator\n",
    "from cc_module_cust import AttackGraph, Node, Edge, FileTable #, build"
   ]
  },
  {
   "cell_type": "markdown",
   "metadata": {},
   "source": [
    "### Load 所有 Dofloo 的 object，計算並儲存其 regex"
   ]
  },
  {
   "cell_type": "code",
   "execution_count": 2,
   "metadata": {},
   "outputs": [
    {
     "name": "stdout",
     "output_type": "stream",
     "text": [
      "family Dofloo has numOfSample 13, first is 0046a78514a658b9b7a4e29e8581f85b\n",
      "samplename: ['0046a78514a658b9b7a4e29e8581f85b']\n"
     ]
    }
   ],
   "source": [
    "family = 'Dofloo' # Dofloo Xorddos\n",
    "\n",
    "sample_info = pd.read_csv('../../C malware info/sample_info.csv')\n",
    "dofloo_info = sample_info[(sample_info['family'] == family) & \n",
    "            (~sample_info['filename'].isin(['8845355172c485813872f1bb1834de15.bin']))]\n",
    "samplename_lst = dofloo_info['filename'].to_list()\n",
    "samplename_lst = [name.split('.')[0] for name in samplename_lst]\n",
    "print(f\"family {family} has numOfSample {len(samplename_lst)}, first is {samplename_lst[0]}\")\n",
    "\n",
    "if family == 'Dofloo':\n",
    "    samplename_lst = ['0046a78514a658b9b7a4e29e8581f85b'] # 只先使用這個 dof sample\n",
    "if family == 'Xorddos':\n",
    "    samplename_lst = ['0aefb67c01a24d05351b093455203fa2'] # 只先使用這個 xor sample\n",
    "\n",
    "print('samplename:', samplename_lst)"
   ]
  },
  {
   "cell_type": "code",
   "execution_count": 3,
   "metadata": {},
   "outputs": [
    {
     "name": "stdout",
     "output_type": "stream",
     "text": [
      "True\n",
      "{<OP act=a, obj=a>}\n"
     ]
    },
    {
     "name": "stderr",
     "output_type": "stream",
     "text": [
      "<>:23: DeprecationWarning:invalid escape sequence '\\s'\n",
      "<>:23: DeprecationWarning:invalid escape sequence '\\s'\n",
      "C:\\Users\\luweb\\AppData\\Local\\Temp\\ipykernel_16184\\1514683367.py:23: DeprecationWarning:invalid escape sequence '\\s'\n"
     ]
    }
   ],
   "source": [
    "def prettifyName(item:str) -> str:\n",
    "    pretty_name = {\n",
    "        r\"\\d{1,3}\\.\\d{1,3}\\.\\d{1,3}\\.\\d{1,3}\": \"ip_addr\",\n",
    "        r\"\\d{1,3}\\.\\d{1,3}\\.\\d{1,3}\\.\\d{1,3}:\\d+\": \"ip_addr+port\",\n",
    "        r\"0x[0-9a-zA-Z]{8}\": \"mem_addr\",\n",
    "        r\"permission:{0,1}[0-9]{0,4}\": \"permission_id\"\n",
    "    }\n",
    "    changed = pretty_name.get(item, None)\n",
    "    if changed:\n",
    "        return changed\n",
    "    return item\n",
    "\n",
    "def get_object_type(objReg: str) -> str:\n",
    "    ''' temp function, put in cc_regex_scrpt '''\n",
    "    if objReg in [r\"\\d{1,3}\\.\\d{1,3}\\.\\d{1,3}\\.\\d{1,3}\", \n",
    "                r\"[a-zA-z]:\\d{1,5}$\", r\"port \\d{1,5}$\",\n",
    "                r\"\\d{1,3}\\.\\d{1,3}\\.\\d{1,3}\\.\\d{1,3}:\\d{1,5}$\", \"eth[0-9]$\"]:\n",
    "        return 'NET'\n",
    "    if objReg in [\"0x[0-9a-zA-Z]{8}\"]:\n",
    "        return 'MEM'\n",
    "    if objReg in [\"^sed$\", \"^sh$\", \"^chkconfig$\", \"^systemctl$\", \"update-rc.d\", \"/boot/[a-z]{10}\",r\"^pipe(\\$|\\.|$)\"]:\n",
    "        return 'PROC'\n",
    "    if objReg in [r\"UID(\\$|\\.|$)\", r\"GID(\\$|\\.|$)\", \"UID\", \"GID\", \"permission(\\s|:)[0-9]{1,4}\"]:\n",
    "        return 'INFO'\n",
    "    return 'FILE'\n",
    "\n",
    "class OperationPair:\n",
    "    SYSCALL = 0\n",
    "    VERB = 1\n",
    "\n",
    "    def __init__(self, action:str, object:str, type:int=0, subject:str=None, step_number:int=None \\\n",
    "                 , original_object=None, original_sentence=None, object_type=None):\n",
    "        self.object:str = object # regex\n",
    "        self.action:str = action # verb or syscall\n",
    "        self.type:int = type # action type\n",
    "        self.object_type:str = object_type # FILE, NET, PROC, MEM, INFO\n",
    "        self.subject:str = subject\n",
    "        self.step_number:int = step_number\n",
    "        self.original_object:str = original_object # can store original matched word (object) from CTD\n",
    "        self.original_sentence:str = original_sentence # can store the mathced sentence\n",
    "        pass\n",
    "\n",
    "    def __eq__(self, other): \n",
    "        if not isinstance(other, OperationPair):\n",
    "            # don't attempt to compare against unrelated types\n",
    "            return NotImplemented\n",
    "        # Same if <action, object> pair is same (type is not consider yet)\n",
    "        return self.action == other.action and self.object == other.object\n",
    "\n",
    "    def __hash__(self) -> int:\n",
    "        # necessary for instances to behave sanely in dicts and sets.\n",
    "        return hash((self.action, self.object))\n",
    "\n",
    "    def __str__(self) -> str:\n",
    "        if self.step_number:\n",
    "            return f\"<OP{self.step_number:>2} act={self.action}, obj={prettifyName(self.object)}>\"\n",
    "        return f\"<OP act={self.action}, obj={prettifyName(self.object)}>\"\n",
    "    def __repr__(self) -> str:\n",
    "        return str(self)\n",
    "    def getSentStr(self) -> str:\n",
    "        '''return string contains original_object & flat_sentence'''\n",
    "        flat_sentence = \" \".join(self.original_sentence.splitlines())\n",
    "        return f\"<OP{self.step_number:>2} act={self.action}, obj={prettifyName(self.original_object)}, sent={flat_sentence}>\"\n",
    "        \n",
    "# test case\n",
    "p_aa = OperationPair('a','a')\n",
    "p_aaz = OperationPair('a','a')\n",
    "p_ab = OperationPair('a','b')\n",
    "\n",
    "print(p_aa == p_aaz) # True\n",
    "print(set([p_aa, p_aaz])) # one element\n",
    "\n",
    "def construct_sample_OPset(step_list: list, keep_src_node=False, debug=False, rt_order=True) -> set:\n",
    "    '''return a list of OPset. RegexMaster and family are gobal variable.'''\n",
    "    if debug:\n",
    "        print('step_list len:', len(set(step_list)))\n",
    "    OPlst_raw = list((src_node.name, dst_node.name, syscall) for (src_node, dst_node, syscall) in step_list) # object is raw\n",
    "    OPset_raw = list(dict.fromkeys(OPlst_raw))\n",
    "    if debug:\n",
    "        print('OPlst_raw len:', len(OPlst_raw)) # why len is 123100? (while step_list len is 7775) (must be equal)\n",
    "        print(f\"OPlst_raw: {OPlst_raw[:10]}\")\n",
    "        print('OPset_raw len:', len(OPset_raw)) # len is 5925 for xor\n",
    "        print(f\"OPset_raw: {OPset_raw[:10]}\")\n",
    "    regexMaster = RegexMaster(familyname=family)\n",
    "    regex_pool = regexMaster.get_all_regex()\n",
    "    OPset = set()\n",
    "    OPset_ordered = list()\n",
    "    for (src_node, dst_node, syscall) in OPset_raw:\n",
    "        regex_dst_node_list = RegexMaster.find_spacial_token_with_regex(regex_pool, dst_node)\n",
    "        if regex_dst_node_list is None or len(regex_dst_node_list) == 0:\n",
    "            continue\n",
    "        for regex_result in regex_dst_node_list:\n",
    "            dst_node = regex_result.match_regex\n",
    "            step_number = len(OPset) + 1\n",
    "            if keep_src_node:\n",
    "                op = OperationPair(syscall, dst_node, subject=src_node, step_number=step_number)\n",
    "                OPset.add(op) # keep src_node in OP\n",
    "                if op not in OPset_ordered:\n",
    "                    OPset_ordered.append(op)\n",
    "            else:\n",
    "                op = OperationPair(syscall, dst_node, step_number=step_number)\n",
    "                OPset.add(op) # only dst_node, syscall in OP\n",
    "                if op not in OPset_ordered:\n",
    "                    OPset_ordered.append(op)\n",
    "    if debug:\n",
    "        print('OPset len:', len(OPset), 'OPset_ordered len:', len(OPset_ordered))\n",
    "    if rt_order:\n",
    "        return OPset, OPset_ordered\n",
    "    return OPset\n",
    "\n",
    "# def construct_sample_stepList(step_list: list, keep_src_node=False, debug=False) -> list:\n",
    "#     ''''''\n",
    "#     pass\n",
    "\n",
    "# test\n",
    "# sample_OPset = construct_sample_OPset(asg.step_list, debug=True)"
   ]
  },
  {
   "cell_type": "code",
   "execution_count": 4,
   "metadata": {},
   "outputs": [
    {
     "name": "stdout",
     "output_type": "stream",
     "text": [
      "Exam: sample S1 matches 23 of regex\n",
      "Size of regex_pool: 23, size of total_used_regex: 0\n"
     ]
    }
   ],
   "source": [
    "class Sample:\n",
    "    def __init__(self, samplename:str, regex_set:set=None, special_token_dict=None, step_list=None) -> None:\n",
    "        self.samplename: str = samplename\n",
    "        self.regex_set: set = set()\n",
    "        if regex_set:\n",
    "            self.regex_set = regex_set\n",
    "        self.special_token_dict = {}\n",
    "        if special_token_dict:\n",
    "            self.special_token_dict: dict = special_token_dict # list of dict\n",
    "        if step_list:\n",
    "            self.step_list = step_list\n",
    "            OPset, OPset_ordered = construct_sample_OPset(step_list)\n",
    "            self.OPset: set[OperationPair] = OPset\n",
    "            self.OPset_ordered: list[OperationPair] = OPset_ordered # 依照出現順序排序的 OPset (元素相同順序不同)\n",
    "            self.OPset_sysOnly_ordered = [] # 尚未初始化 只儲存改變系統狀態的 OP 的物件\n",
    "            self.OPset_sysOnly_ordered_index = [] # 尚未初始化 只儲存改變系統狀態的 OP 的 index\n",
    "            del OPset, OPset_ordered\n",
    "        pass\n",
    "    def __repr__(self) -> str:\n",
    "        return f\"<Sample self.samplename>\"\n",
    "\n",
    "''' 讀取 ASG 中的 set_of_object (就是這個樣本的 special_token_dict)，並歸納樣本的 regex_set '''\n",
    "regexMaster = RegexMaster(familyname=family)\n",
    "regex_pool = regexMaster.get_all_regex()\n",
    "# total_used_regex = set()\n",
    "samples: list[Sample] = []\n",
    "for samplename in samplename_lst:\n",
    "    with open(f'../../C ASG statistics 1115ver/saved_pkl/{family}/{samplename}.pkl', 'rb') as inp:\n",
    "        asg: AttackGraph = pickle.load(inp) # asg.set_of_object is dict() (key:spacial token, value: type 首字大寫)\n",
    "        sample = Sample(samplename, special_token_dict=asg.set_of_object, step_list=asg.step_list)\n",
    "        sample.regex_set = set(regex_pool) # 直接使用志剛寫的作為這個樣本的 baseline\n",
    "        # for obj in sample.special_token_dict.keys():\n",
    "        #     matched_list: list[RegexMatchResult] = regexMaster.find_spacial_token(obj)\n",
    "        #     if matched_list:\n",
    "        #         # print(obj, matched_list)\n",
    "        #         [sample.regex_set.add(m.match_regex) for m in matched_list]\n",
    "        #         # [total_used_regex.add(m.match_regex) for m in matched_list]\n",
    "        # print('------', sample.regex_set)\n",
    "        # break\n",
    "        samples.append(sample)\n",
    "    # del asg\n",
    "print(f'Exam: sample S1 matches {len(samples[0].regex_set)} of regex')\n",
    "print(f'Size of regex_pool: {len(regex_pool)}, size of total_used_regex: {len(regexMaster.used_regex_set)}')"
   ]
  },
  {
   "cell_type": "code",
   "execution_count": 5,
   "metadata": {},
   "outputs": [
    {
     "data": {
      "text/plain": [
       "set()"
      ]
     },
     "execution_count": 5,
     "metadata": {},
     "output_type": "execute_result"
    }
   ],
   "source": [
    "# 只差這四個不在 asg set_of_object 中 {'0x[0-9a-zA-Z]{8}', 'GID', 'UID', 'port \\\\d{1,5}$'}\n",
    "set(regex_pool) - samples[0].regex_set"
   ]
  },
  {
   "cell_type": "code",
   "execution_count": 6,
   "metadata": {},
   "outputs": [
    {
     "data": {
      "text/plain": [
       "' Save result to txt file 沒事不要 run ! '"
      ]
     },
     "execution_count": 6,
     "metadata": {},
     "output_type": "execute_result"
    }
   ],
   "source": [
    "''' Save result to txt file 沒事不要 run ! '''\n",
    "# total_regex = set()\n",
    "# with open('./result/countof_regexset.txt', 'w', encoding='utf-8') as opf:\n",
    "#     # header\n",
    "#     opf.write('{:12s}'.format('Sample no.'))\n",
    "#     for i in range(len(samples)):\n",
    "#         if i+1 < 10:\n",
    "#             opf.write(f' S{i+1} ')\n",
    "#         else:\n",
    "#             opf.write(f'S{i+1} ')\n",
    "#     opf.write('\\n')\n",
    "#     # opf.write('{:12s}'.format('# of regex'))\n",
    "#     num_of_regex_string = '{:12s}'.format('# of regex')\n",
    "#     num_of_objects_string = '{:12s}'.format('# of object ') # 所有的類別喔! 無過濾\n",
    "#     for i in range(len(samples)):\n",
    "#         # opf.write(f'{len(samples[i].regex_set):>3} ')\n",
    "#         num_of_regex_string += f'{len(samples[i].regex_set):>3} '\n",
    "#         num_of_objects_string += f'{len(samples[i].special_token_dict):>3} '\n",
    "#     opf.write(num_of_objects_string+'\\n')\n",
    "#     opf.write(num_of_regex_string)\n",
    "#     opf.write('\\n{:12s}'.format('Sample hash'))\n",
    "#     for i in range(len(samples)):\n",
    "#         opf.write(f'{samples[i].samplename[:3]:>3} ')\n",
    "#     opf.write('\\n\\n')\n",
    "#     opf.write(f'Size of regex_pool: {len(regex_pool)}, size of total_used_regex: {len(regexMaster.used_regex_set)}\\n\\n')\n",
    "\n",
    "#     # content of each sample\n",
    "#     for i,s in enumerate(samples):\n",
    "#         content_1 = f\"S{i+1} has {len(s.regex_set)} of regex\\n\"\n",
    "#         content_2 = f\"regex_set: {s.regex_set}\\n\"\n",
    "#         content_3 = f\"special_token_dict: {s.special_token_dict.keys()}\\n\"\n",
    "#         opf.writelines([content_1, content_2, content_3])\n",
    "#         opf.write('\\n\\n')"
   ]
  },
  {
   "cell_type": "markdown",
   "metadata": {},
   "source": [
    "### Load Reports"
   ]
  },
  {
   "cell_type": "code",
   "execution_count": 7,
   "metadata": {},
   "outputs": [
    {
     "data": {
      "text/plain": [
       "['Dofloo-BleepingComputer.csv',\n",
       " 'Dofloo-MalwareMustDie.csv',\n",
       " 'Dofloo-Securityaffairs.csv',\n",
       " 'Dofloo-SyscallParty.csv',\n",
       " 'Dofloo-Trendmicro.csv']"
      ]
     },
     "execution_count": 7,
     "metadata": {},
     "output_type": "execute_result"
    }
   ],
   "source": [
    "report_fir_path = '../../C parse report/sentence csvs/'\n",
    "# family, samplename, outputfolder = 'Xorddos', '???', './result'\n",
    "outputfolder = './result'\n",
    "\n",
    "def get_all_filenames(dir: str='./') -> list:\n",
    "    ''' traverse root directory, and list directories as dirs and files as files. Return filenames in rootdir. '''\n",
    "    files = [f for f in listdir(dir) if isfile(join(dir, f))]\n",
    "    files.sort()\n",
    "    return files\n",
    "\n",
    "xor_report_names = [f for f in get_all_filenames(report_fir_path) if f.startswith(family)] # 只選擇這個家族的報告\n",
    "xor_report_dfs = [pd.read_csv(f\"{report_fir_path}{f}\") for f in xor_report_names]\n",
    "xor_report_names"
   ]
  },
  {
   "cell_type": "code",
   "execution_count": 8,
   "metadata": {},
   "outputs": [
    {
     "data": {
      "text/html": [
       "<div>\n",
       "<style scoped>\n",
       "    .dataframe tbody tr th:only-of-type {\n",
       "        vertical-align: middle;\n",
       "    }\n",
       "\n",
       "    .dataframe tbody tr th {\n",
       "        vertical-align: top;\n",
       "    }\n",
       "\n",
       "    .dataframe thead th {\n",
       "        text-align: right;\n",
       "    }\n",
       "</style>\n",
       "<table border=\"1\" class=\"dataframe\">\n",
       "  <thead>\n",
       "    <tr style=\"text-align: right;\">\n",
       "      <th></th>\n",
       "      <th>Number</th>\n",
       "      <th>Content</th>\n",
       "    </tr>\n",
       "  </thead>\n",
       "  <tbody>\n",
       "    <tr>\n",
       "      <th>0</th>\n",
       "      <td>Sentence 1</td>\n",
       "      <td>exposed docker apis abused by ddos, cryptojack...</td>\n",
       "    </tr>\n",
       "    <tr>\n",
       "      <th>1</th>\n",
       "      <td>Sentence 2</td>\n",
       "      <td>the dofloo (aka aesddos) malware was first det...</td>\n",
       "    </tr>\n",
       "    <tr>\n",
       "      <th>2</th>\n",
       "      <td>Sentence 3</td>\n",
       "      <td>misconfigured docker services being abused is ...</td>\n",
       "    </tr>\n",
       "    <tr>\n",
       "      <th>3</th>\n",
       "      <td>Sentence 4</td>\n",
       "      <td>allowing external access — whether intentional...</td>\n",
       "    </tr>\n",
       "    <tr>\n",
       "      <th>4</th>\n",
       "      <td>Sentence 5</td>\n",
       "      <td>query to list all available containers\\nthe at...</td>\n",
       "    </tr>\n",
       "    <tr>\n",
       "      <th>5</th>\n",
       "      <td>Sentence 6</td>\n",
       "      <td>the dofloo botnet malware is subsequently depl...</td>\n",
       "    </tr>\n",
       "    <tr>\n",
       "      <th>6</th>\n",
       "      <td>Sentence 7</td>\n",
       "      <td>system information is also collected by the tr...</td>\n",
       "    </tr>\n",
       "    <tr>\n",
       "      <th>7</th>\n",
       "      <td>Sentence 8</td>\n",
       "      <td>dofloo (aesddos) malware executing remote shel...</td>\n",
       "    </tr>\n",
       "    <tr>\n",
       "      <th>8</th>\n",
       "      <td>Sentence 9</td>\n",
       "      <td>previous dofloo and docker attacks\\ndofloo was...</td>\n",
       "    </tr>\n",
       "    <tr>\n",
       "      <th>9</th>\n",
       "      <td>Sentence 10</td>\n",
       "      <td>exposed docker apis were abused by other malic...</td>\n",
       "    </tr>\n",
       "    <tr>\n",
       "      <th>10</th>\n",
       "      <td>Sentence 11</td>\n",
       "      <td>cryptojacking operations have also actively ta...</td>\n",
       "    </tr>\n",
       "    <tr>\n",
       "      <th>11</th>\n",
       "      <td>Sentence 12</td>\n",
       "      <td>further back, in october 2018 and march 2018, ...</td>\n",
       "    </tr>\n",
       "    <tr>\n",
       "      <th>12</th>\n",
       "      <td>Sentence 13</td>\n",
       "      <td>securing docker servers\\nwhile docker engine a...</td>\n",
       "    </tr>\n",
       "    <tr>\n",
       "      <th>13</th>\n",
       "      <td>Sentence 14</td>\n",
       "      <td>to make sure that their docker hosts are secur...</td>\n",
       "    </tr>\n",
       "    <tr>\n",
       "      <th>14</th>\n",
       "      <td>Sentence 15</td>\n",
       "      <td>related articles:\\nnew chaos malware infects w...</td>\n",
       "    </tr>\n",
       "  </tbody>\n",
       "</table>\n",
       "</div>"
      ],
      "text/plain": [
       "         Number                                            Content\n",
       "0    Sentence 1  exposed docker apis abused by ddos, cryptojack...\n",
       "1    Sentence 2  the dofloo (aka aesddos) malware was first det...\n",
       "2    Sentence 3  misconfigured docker services being abused is ...\n",
       "3    Sentence 4  allowing external access — whether intentional...\n",
       "4    Sentence 5  query to list all available containers\\nthe at...\n",
       "5    Sentence 6  the dofloo botnet malware is subsequently depl...\n",
       "6    Sentence 7  system information is also collected by the tr...\n",
       "7    Sentence 8  dofloo (aesddos) malware executing remote shel...\n",
       "8    Sentence 9  previous dofloo and docker attacks\\ndofloo was...\n",
       "9   Sentence 10  exposed docker apis were abused by other malic...\n",
       "10  Sentence 11  cryptojacking operations have also actively ta...\n",
       "11  Sentence 12  further back, in october 2018 and march 2018, ...\n",
       "12  Sentence 13  securing docker servers\\nwhile docker engine a...\n",
       "13  Sentence 14  to make sure that their docker hosts are secur...\n",
       "14  Sentence 15  related articles:\\nnew chaos malware infects w..."
      ]
     },
     "execution_count": 8,
     "metadata": {},
     "output_type": "execute_result"
    }
   ],
   "source": [
    "xor_report_dfs[0]"
   ]
  },
  {
   "cell_type": "markdown",
   "metadata": {},
   "source": [
    "### 單篇文章的 Class 和 整個 Family 的 Class\n",
    "`baseline: Dict[str, list]` 改為 `regexMaster: RegexMaster`"
   ]
  },
  {
   "cell_type": "code",
   "execution_count": 9,
   "metadata": {},
   "outputs": [],
   "source": [
    "class ReportEvalModel:\n",
    "    def __init__(self, regex_set: set, sentences: pd.DataFrame, reportname:str=''):\n",
    "        self.regex_pool: set[str] = regex_set # 樣本or家族含有的 regex 集合\n",
    "        self.sentences = sentences # a df\n",
    "        self.reportname = reportname\n",
    "        cols = list(regex_pool)\n",
    "        self.match_tbl = pd.DataFrame([[0]*len(cols)]*len(sentences), columns=cols)\n",
    "        self.match_word:dict[(int,str), str] = dict() # key(idx_sent,regex) value(word:str)\n",
    "        self.match_regex = set()\n",
    "        self.doc_OPset:set[OperationPair] = set() # Set of doc's OperationalPair\n",
    "        self.match_doc_OPset:set[OperationPair] = set()\n",
    "        self.OPset_order_index = [] # 紀錄 ASG OP 的出現順序 (lifecycle)\n",
    "        self.SysOPset_order_index = [] # 只紀錄改變系統的\n",
    "        # self.asgSysOPset_order_index = []\n",
    "        # self.regexMaster = regexMaster # 其實應該用 class function 就不用傳入一個物件\n",
    "        self.match()\n",
    "\n",
    "    def match(self) -> None:\n",
    "        '''find baseline in sentences of report. Fill matching result in self.match_tbl.'''\n",
    "        sentence_list = self.sentences['Content']\n",
    "        for idx_sent, sent in enumerate(sentence_list):\n",
    "            # print(idx_sent, sent)\n",
    "            # find regexs in a sentence\n",
    "            matched_list: list[RegexMatchResult] = RegexMaster.find_spacial_token_with_regex(self.regex_pool, sent)\n",
    "            if not matched_list:\n",
    "                continue\n",
    "            for m in matched_list:\n",
    "                this_re = m.match_regex\n",
    "                matched_word = m.word\n",
    "                # print(matched_word, '|',sent[:10])\n",
    "                self.match_word[(idx_sent,this_re)] = m.word # 紀錄被 search 到的單字\n",
    "                # self.match_tbl.loc[idx_sent,this_re] = 1 # mark as found 節省空間\n",
    "                self.match_regex.add(this_re)\n",
    "                en_verb = find_verb_of_vocab(sent, m.word)\n",
    "                # print(f\"---\\nen_verb: {en_verb}, m.word: {m.word}, sent: {sent}\") # 列印所有動詞抓取情形\n",
    "                stepn = len(self.doc_OPset) + 1\n",
    "                # 如果 action 和 matched regex 相同，即使報告中object的原字串不同，也不會多計入。\n",
    "                if en_verb:\n",
    "                    self.doc_OPset.add(OperationPair(en_verb, this_re, type=OperationPair.VERB, original_object=m.word, \n",
    "                    step_number=stepn, original_sentence=sent, object_type=get_object_type(this_re))) # has verb\n",
    "                else:\n",
    "                    self.doc_OPset.add(OperationPair(None, this_re, type=OperationPair.VERB, original_object=m.word, \n",
    "                                                     step_number=stepn, object_type=get_object_type(this_re))) # no verb\n",
    "        pass\n",
    "    \n",
    "    def get_match_sentences(self) -> pd.DataFrame:\n",
    "        result = self.match_tbl.copy()\n",
    "        result['match'] = result.sum(axis=1)\n",
    "        return result\n",
    "    \n",
    "    def get_match_regexs(self) -> set:\n",
    "        return self.match_regex\n",
    "\n",
    "    def get_match_word(self, idx_sent:int, regex:str) -> str:\n",
    "        return self.match_word[(idx_sent, regex)]\n",
    "\n",
    "class FamilySet:\n",
    "    '''一個 malware family report 集合'''\n",
    "    def __init__(self, familyname:str, regexMaster: RegexMaster, sample: Sample=None):\n",
    "        self.familyname = familyname\n",
    "        self.regexMaster = regexMaster\n",
    "        self.num_of_used_regex = len(regexMaster.used_regex_set) # 這個家族含規則的總數量 (unoin by all samples)\n",
    "        self.sample = None\n",
    "        if sample:\n",
    "            self.sample = sample\n",
    "            self.num_of_used_regex = len(sample.regex_set) # 改以這個樣本規則的總數量為基準\n",
    "        self.rem_lst: List[ReportEvalModel] = [] # list of ReportEvalModel under this family\n",
    "        self.result_tbl = None\n",
    "\n",
    "    def add_rem(self, sentences: pd.DataFrame, reportname: str=''):\n",
    "        '''新增 report 到 FamilySet 中，需傳入文本和報告名稱，會沿用 FamilySet 的 baseline.'''\n",
    "        if self.sample:\n",
    "            rem = ReportEvalModel(list(self.sample.regex_set), sentences, reportname) # 基準是 Sample\n",
    "            self.rem_lst.append(rem)\n",
    "            return\n",
    "        rem = ReportEvalModel(self.regexMaster, sentences, reportname) # 基準是 Family union # need fix -> no first arg now\n",
    "        self.rem_lst.append(rem)\n",
    "\n",
    "    def calc_report_coverage_score(self, match_regexs: list[str], apply_weight=False) -> float:\n",
    "        '''計算這篇報告的 coverage_score，未處理分母為0之情形'''\n",
    "        if not apply_weight:\n",
    "            return len(match_regexs) / self.num_of_used_regex # 無權種的算法，分母是家族 wide\n",
    "        ''' 以下 有權重的算法尚未修改，必出 bug '''\n",
    "        # denominator = sum(self.regexMaster['weight']) # 分母\n",
    "        # numerator = 0 # 分子\n",
    "        # for b, w in zip(self.regexMaster['text'], self.regexMaster['weight']):\n",
    "        #     if b in match_baselines:\n",
    "        #         numerator += w\n",
    "        # return numerator/denominator\n",
    "\n",
    "    def show_result(self, apply_weight: bool=False, base_on_sample = True):\n",
    "        '''print and return result table. baselinse(x) * report(y).'''\n",
    "        column_names = ['report_name','ttl_match','coverage_score']\n",
    "        if base_on_sample:\n",
    "            column_names.extend(list(self.sample.regex_set))\n",
    "        else:\n",
    "            column_names.extend(list(regexMaster.used_regex_set))\n",
    "        result_tbl = pd.DataFrame([[0]*len(column_names)]*len(self.rem_lst), columns=column_names)\n",
    "        for i,rem in enumerate(self.rem_lst):\n",
    "            match_regexes = rem.get_match_regexs() # 這篇報告含有哪些 baseine:set\n",
    "            c_score = self.calc_report_coverage_score(match_regexes, apply_weight=apply_weight)\n",
    "            result_tbl.loc[i,'report_name'] = rem.reportname\n",
    "            result_tbl.loc[i,'ttl_match'] = len(match_regexes)\n",
    "            result_tbl.loc[i,'coverage_score'] = f'{c_score:.4}'\n",
    "            for b in match_regexes:\n",
    "                result_tbl.loc[i,b] = 1\n",
    "            print(rem.reportname, match_regexes)\n",
    "        display(result_tbl)\n",
    "        return result_tbl"
   ]
  },
  {
   "attachments": {},
   "cell_type": "markdown",
   "metadata": {},
   "source": [
    "### Run Script: 存檔每篇報告的 matched sentence (以樣本的 regex set 為基準)\n",
    "比較樣本間的辨別度，有 n 個樣本，就會跑 n 變，得出 n 個結果 (FanilySet)"
   ]
  },
  {
   "cell_type": "code",
   "execution_count": 10,
   "metadata": {},
   "outputs": [],
   "source": [
    "import os, psutil\n",
    "def print_mem_usage():\n",
    "    process = psutil.Process(os.getpid())\n",
    "    mem_usage = psutil.Process(os.getpid()).memory_info().rss / 1024 ** 2\n",
    "    print(f\"=== mem_usage: {mem_usage:.2f} MB ===\")  # in MiB \n",
    "\n",
    "def get_mem_usage() -> int:\n",
    "    # process = psutil.Process(os.getpid())\n",
    "    mem_usage = psutil.Process(os.getpid()).memory_info().rss / 1024 ** 2\n",
    "    return mem_usage\n",
    "\n",
    "def run_family_set_procedure(sample: Sample) -> FamilySet:\n",
    "    # family, regexMaster is global variable\n",
    "    fset = FamilySet(family, regexMaster, sample=sample)\n",
    "    for i,rdf in enumerate(xor_report_dfs):\n",
    "        # rem = ReportEvalModel(base_data, rdf, dofloo_report_names[i])\n",
    "        fset.add_rem(rdf, xor_report_names[i])\n",
    "    # result_tbl = fset.show_result(apply_weight=False)\n",
    "    # result_tbl.to_csv(f'{outputfolder}/{family}_{sample.samplename[:3]}_FamilySet_by_Regex.csv', index=False)\n",
    "    # print(f\"Sample {sample.samplename[:3]} has ttl_match {result_tbl['ttl_match'].sum()} on all documents.\") \n",
    "\n",
    "    # Calculate metrics\n",
    "    print_mem_usage()\n",
    "    print(f\"asg_object: {set([op.object for op in sample.OPset])}\\n\")\n",
    "    operationEvaluator = OperationEvaluator()\n",
    "    fset.sample.OPset_sysOnly_ordered = [op for op in sample.OPset if op.object.find('/etc') != -1\\\n",
    "                                         and op.action in operationEvaluator.update_syscall_list] # UPDATE系統設定的OP\n",
    "    fset.sample.OPset_sysOnly_ordered_index = [sample.OPset_ordered.index(op) for op in fset.sample.OPset_sysOnly_ordered]\n",
    "    for idx_rem, rem in enumerate(fset.rem_lst):\n",
    "        # asg_object = set([op.object for op in sample.OPset])\n",
    "        # ctd_object = set([op.object for op in rem.doc_OPset])\n",
    "        if rem.reportname == 'Xorddos-Microsoft.csv': # 除錯用\n",
    "            continue\n",
    "        print(f\"\\nSample {rem.reportname}\")\n",
    "        print(f\"\\tnum of segment in report: {len(rem.sentences)}\")\n",
    "        print(f\"\\tlenght of ctd's OPset is {len(rem.doc_OPset)}\")\n",
    "\n",
    "        # R_malObj 比較物件\n",
    "        asg_object = set([op.object for op in sample.OPset])\n",
    "        ctd_object = set([op.object for op in rem.doc_OPset])\n",
    "        ctd_object = ctd_object.intersection(asg_object)\n",
    "        numerator = len(ctd_object) # 分子\n",
    "        denominator = len(asg_object) # 分母\n",
    "        R_malObj = 0 if denominator == 0 else numerator/denominator\n",
    "        print(f\"\\t#R_malObj\\n\\tnum of ctd objects: {numerator}, num of asg objects: {denominator}. R_malObj is {R_malObj:.4f}\")\n",
    "        print(f\"\\t\\tctd_object: {ctd_object}\")\n",
    "\n",
    "        # R_malSysObj 比較系統物件\n",
    "        asg_sysobj = list(filter(lambda object: object.find('/etc') != -1, asg_object))\n",
    "        ctd_sysobj = list(filter(lambda object: object.find('/etc') != -1, ctd_object))\n",
    "        numerator = len(ctd_sysobj)\n",
    "        denominator = len(asg_sysobj)\n",
    "        R_malSysObj = 0 if denominator == 0 else numerator/denominator\n",
    "        print(f\"\\t#R_malSysObj\\n\\tnum of ctd objects: {numerator}, num of asg objects: {denominator}. R_malSysObj is {R_malSysObj:.4f}\")\n",
    "\n",
    "        # R_malOps 比較動作和物件\n",
    "        asg_OPset = list(sample.OPset)\n",
    "        ctd_OPset = list(rem.doc_OPset)\n",
    "        numerator, denominator, hits = 0, len(asg_OPset), []\n",
    "        hits: list[tuple[OperationPair, OperationPair]] = []\n",
    "        sys_hits: list[tuple[OperationPair, OperationPair]] = []\n",
    "        print(f\"\\t\\tlen(asg_OPset): {len(asg_OPset)}, len(ctd_OPset): {len(ctd_OPset)}\")\n",
    "        # 每一個 asg_op 跟所有同物件的的 ctd_op 進行 resolve() 比對，來判斷此 asg_op 是否被提及\n",
    "        i = 0\n",
    "        for idx_asg, asg_op in enumerate(asg_OPset): \n",
    "            i += 1\n",
    "            # print(f\"\\tno.{i} asg_op {asg_op}\") # 瓶頸卡在 no.51 step (total 71 step)\n",
    "            target_obj = asg_op.object\n",
    "            ctdSameObjOpsIdx = [i for i, x in enumerate(ctd_OPset) if x.object == target_obj]\n",
    "            # if i==51:\n",
    "            # print(f\"\\tno.{i} | asg_op {asg_op}, len of ctdSameObjOpsIdx: {ctdSameObjOpsIdx}\")\n",
    "            # ctdSameObjOps = [x for x in ctd_OPset if x.object == target_obj]\n",
    "            for idx in ctdSameObjOpsIdx:\n",
    "                pass\n",
    "                # mem_before_create_lst = get_mem_usage()\n",
    "                # print(\"\\tbefore resolve\", mem_before_create_lst)\n",
    "                entityType = get_object_type(asg_op.object)\n",
    "                (hit, isSysChange) = operationEvaluator.resolve(entityType, asg_op.action, ctd_OPset[idx].action)\n",
    "                # # print_mem_usage()\n",
    "                # mem_after_create_lst = get_mem_usage()\n",
    "                # # print(f\"\\t=== diff of mem_usage calling resolve(): {mem_after_create_lst - mem_before_create_lst:.2f}  ===\")\n",
    "\n",
    "                if hit:\n",
    "                    numerator += 1\n",
    "                    hits.append((asg_OPset[idx_asg], ctd_OPset[idx]))\n",
    "                    fset.rem_lst[idx_rem].match_doc_OPset.add(ctd_OPset[idx])\n",
    "\n",
    "                    # 篩選出系統物件的動作\n",
    "                    if isSysChange and asg_OPset[idx_asg].object.find('/etc') != -1:\n",
    "                        sys_hits.append((asg_OPset[idx_asg], ctd_OPset[idx]))\n",
    "\n",
    "                    # 紀錄CTD的生命週期 (ASG_OP提及順序)\n",
    "                    step_num = sample.OPset_ordered.index(asg_op) # index of step, throw ValueError if not found\n",
    "                    fset.rem_lst[idx_rem].OPset_order_index.append(step_num)\n",
    "                    break\n",
    "        R_malOps = 0 if denominator == 0 else numerator/denominator\n",
    "        print(f\"\\t#R_malOps\\n\\tnum of matched asg op: {numerator}, num of asg op: {denominator}. R_malOps is {R_malOps:.4f}\")\n",
    "        print(f\"\\t\\trefered lifecycle: {fset.rem_lst[idx_rem].OPset_order_index}\")\n",
    "\n",
    "        # 紀錄CTD的生命週期 (OP提及順序)\n",
    "        # fset.rem_lst[idx_rem].OPset_order_index.clear()\n",
    "        # for ctd_op in fset.rem_lst[idx_rem].match_doc_OPset:\n",
    "        #     step_num = sample.OPset_ordered.index(ctd_op) # index of step, throw ValueError if not found\n",
    "        #     fset.rem_lst[idx_rem].OPset_order_index.append(step_num)\n",
    "\n",
    "        # R_malChangeOps 篩選出系統物件的動作\n",
    "        # cando: 加上 OPMode的考量，為class OP加兩個mode asg_op_mode, ctd_op_mode。目前直接用call nlp class 的 method判別。\n",
    "        numerator = len(sys_hits)\n",
    "        sys_asg_OPset = [op for op in asg_OPset if op.object.find('/etc') != -1 \\\n",
    "                         and op.action in operationEvaluator.update_syscall_list ]\n",
    "        # print('sys_asg_OPset is unique:', len(sample.OPset_ordered) == len(set(sample.OPset_ordered))) # 元速度重複沒錯，可能是 index() 的問題\n",
    "        denominator = len(sys_asg_OPset)\n",
    "        R_malChangeOps = 0 if denominator == 0 else numerator/denominator\n",
    "        print(f\"\\t#R_malChangeOps\\n\\tnum of matched asg op: {numerator}, num of asg op: {denominator}. R_malChangeOps is {R_malChangeOps:.4f}\")\n",
    "\n",
    "        # 紀錄CTD的生命週期 (OP提及順序)\n",
    "        fset.rem_lst[idx_rem].SysOPset_order_index.clear()\n",
    "        for asg_op , ctd_op in sys_hits:\n",
    "            step_num = sample.OPset_ordered.index(asg_op) # step index , throw ValueError if not found\n",
    "            fset.rem_lst[idx_rem].SysOPset_order_index.append(step_num)\n",
    "        print(f\"\\t\\tref-sys lifecycle: {fset.rem_lst[idx_rem].SysOPset_order_index}\")\n",
    "\n",
    "        if hits:\n",
    "            print(\"\\n\\thits\")\n",
    "            for asg_op, ctd_op in hits:\n",
    "                print(f\"\\t{asg_op}, {ctd_op.getSentStr()}\")\n",
    "        if sys_hits:\n",
    "            print(\"\\n\\tsys_hits\")\n",
    "            for asg_op, ctd_op in sys_hits:\n",
    "                print(f\"\\t{asg_op}, {ctd_op.getSentStr()}\")\n",
    "\n",
    "        # print_mem_usage()\n",
    "        # del asg_OPset, ctd_OPset, hits, sys_hits\n",
    "    print(\"\\n\\nOperationPair that changes system resources:\\n\", sys_asg_OPset)\n",
    "\n",
    "    return fset"
   ]
  },
  {
   "cell_type": "code",
   "execution_count": 11,
   "metadata": {},
   "outputs": [],
   "source": [
    "def save_match_sent_to_excel(fset: FamilySet, sample_name=None):\n",
    "    columns = ['report','regex','matched word','sentence number','sentence']\n",
    "    if sample_name:\n",
    "        output_xlsx = f'{outputfolder}/{family}_{sample_name[:3]}_report_match_sent.csv'\n",
    "    else:\n",
    "        output_xlsx = f'{outputfolder}/{family}_union_report_match_sent.csv'\n",
    "    has_match = sum([len(rem.get_match_regexs()) for rem in fset.rem_lst])\n",
    "    if has_match == 0:\n",
    "        print('no matches in CTI reports') # with open 一定要寫入，若全空則直接不開檔\n",
    "        return\n",
    "    # with pd.ExcelWriter(output_xlsx, engine='openpyxl') as writer:\n",
    "    \n",
    "    # 遍歷報告，一個 rem: ReportEvalModel 代表一篇報告\n",
    "    csv_data = []\n",
    "    match_sentence_ttlcnt = 0\n",
    "    for rem in fset.rem_lst:\n",
    "        reportname = rem.reportname.split('.')[0]\n",
    "        if len(rem.get_match_regexs()) == 0: # 如果報告中無 regex 跳過不紀錄\n",
    "            continue\n",
    "        # sheet_data = [] # shape = columns_len * match_sent_len\n",
    "        sent_df = rem.get_match_sentences()\n",
    "        sent_content_lst = rem.sentences['Content'] # 報告中的每個句子\n",
    "        match_sentence_ttlcnt += sent_df['match'].sum()\n",
    "\n",
    "        # 遍歷每個含有 regex 的句子\n",
    "        for sid, row in sent_df.iterrows():\n",
    "            if row['match'] == 0:\n",
    "                continue\n",
    "            row.drop('match', inplace=True)\n",
    "            row = row[row > 0]\n",
    "            # print(row)\n",
    "            # 考量每個句子可能含有多個 regex，故需寫成多行\n",
    "            for i, v in row.items():\n",
    "                insert_data = dict().fromkeys(columns)\n",
    "                insert_data['report'] = reportname\n",
    "                insert_data['regex'] = i\n",
    "                insert_data['matched word'] = rem.get_match_word(sid, i)\n",
    "                insert_data['sentence number'] = sid + 1\n",
    "                insert_data['sentence'] = str(sent_content_lst[sid]).strip()\n",
    "                # sheet_data.append(insert_data)\n",
    "                csv_data.append(insert_data)\n",
    "    df = pd.DataFrame(csv_data)\n",
    "    # print(df)\n",
    "    df.to_csv(output_xlsx, index=False)\n",
    "\n",
    "            # 輸出 csv\n",
    "            \n",
    "            # 輸出 excel sheet\n",
    "            # print(rem.reportname,'has', len(sheet_data),'matches')\n",
    "            # output_sheet = pd.DataFrame(sheet_data)\n",
    "            # # output_sheet.style.set_properties(subset=['sentence'])\n",
    "            # styler = Styler(horizontal_alignment='left', vertical_alignment='top')\n",
    "            # sf = StyleFrame(output_sheet, styler)\n",
    "            # sf = sf.set_column_width(columns=['baseline'], width=20.0)\n",
    "            # sf = sf.set_column_width(columns=['sentence number'], width=15.0)\n",
    "            # sf = sf.set_column_width(columns=['sentence'], width=80.0)\n",
    "            # sf.to_excel(writer, sheet_name=rem.reportname, index=False) #.save()\n",
    "            # # output_sheet.to_excel(writer, sheet_name=rem.reportname, index=False)\n",
    "    return match_sentence_ttlcnt\n",
    "\n",
    "# 此行會執行並複寫 excel，執行完後要手動調整行距格式，小心使用\n"
   ]
  },
  {
   "cell_type": "code",
   "execution_count": 12,
   "metadata": {},
   "outputs": [
    {
     "name": "stdout",
     "output_type": "stream",
     "text": [
      "=== mem_usage: 191.30 MB ===\n",
      "asg_object: {'/etc/rc', '\\\\d{1,3}\\\\.\\\\d{1,3}\\\\.\\\\d{1,3}\\\\.\\\\d{1,3}:\\\\d+', '^sed$', '^sh$', 'bin/sed', 'permission:{0,1}[0-9]{0,4}', '/etc/init.d/', '/etc/sed', '/proc/', 'bin/', '\\\\d{1,3}\\\\.\\\\d{1,3}\\\\.\\\\d{1,3}\\\\.\\\\d{1,3}', '/sys/', '/selinux'}\n",
      "\n",
      "\n",
      "Sample Dofloo-BleepingComputer.csv\n",
      "\tnum of segment in report: 15\n",
      "\tlenght of ctd's OPset is 0\n",
      "\t#R_malObj\n",
      "\tnum of ctd objects: 0, num of asg objects: 13. R_malObj is 0.0000\n",
      "\t\tctd_object: set()\n",
      "\t#R_malSysObj\n",
      "\tnum of ctd objects: 0, num of asg objects: 3. R_malSysObj is 0.0000\n",
      "\t\tlen(asg_OPset): 30, len(ctd_OPset): 0\n",
      "\t#R_malOps\n",
      "\tnum of matched asg op: 0, num of asg op: 30. R_malOps is 0.0000\n",
      "\t\trefered lifecycle: []\n",
      "\t#R_malChangeOps\n",
      "\tnum of matched asg op: 0, num of asg op: 3. R_malChangeOps is 0.0000\n",
      "\t\tref-sys lifecycle: []\n",
      "\n",
      "Sample Dofloo-MalwareMustDie.csv\n",
      "\tnum of segment in report: 76\n",
      "\tlenght of ctd's OPset is 14\n",
      "\t#R_malObj\n",
      "\tnum of ctd objects: 2, num of asg objects: 13. R_malObj is 0.1538\n",
      "\t\tctd_object: {'\\\\d{1,3}\\\\.\\\\d{1,3}\\\\.\\\\d{1,3}\\\\.\\\\d{1,3}', '^sed$'}\n",
      "\t#R_malSysObj\n",
      "\tnum of ctd objects: 0, num of asg objects: 3. R_malSysObj is 0.0000\n",
      "\t\tlen(asg_OPset): 30, len(ctd_OPset): 14\n",
      "\t#R_malOps\n",
      "\tnum of matched asg op: 0, num of asg op: 30. R_malOps is 0.0000\n",
      "\t\trefered lifecycle: []\n",
      "\t#R_malChangeOps\n",
      "\tnum of matched asg op: 0, num of asg op: 3. R_malChangeOps is 0.0000\n",
      "\t\tref-sys lifecycle: []\n",
      "\n",
      "Sample Dofloo-Securityaffairs.csv\n",
      "\tnum of segment in report: 13\n",
      "\tlenght of ctd's OPset is 4\n",
      "\t#R_malObj\n",
      "\tnum of ctd objects: 3, num of asg objects: 13. R_malObj is 0.2308\n",
      "\t\tctd_object: {'\\\\d{1,3}\\\\.\\\\d{1,3}\\\\.\\\\d{1,3}\\\\.\\\\d{1,3}:\\\\d+', '\\\\d{1,3}\\\\.\\\\d{1,3}\\\\.\\\\d{1,3}\\\\.\\\\d{1,3}', '/etc/rc'}\n",
      "\t#R_malSysObj\n",
      "\tnum of ctd objects: 1, num of asg objects: 3. R_malSysObj is 0.3333\n",
      "\t\tlen(asg_OPset): 30, len(ctd_OPset): 4\n",
      "\t#R_malOps\n",
      "\tnum of matched asg op: 2, num of asg op: 30. R_malOps is 0.0667\n",
      "\t\trefered lifecycle: [19, 16]\n",
      "\t#R_malChangeOps\n",
      "\tnum of matched asg op: 1, num of asg op: 3. R_malChangeOps is 0.3333\n",
      "\t\tref-sys lifecycle: [16]\n",
      "\n",
      "\thits\n",
      "\t<OP20 act=connect, obj=ip_addr>, <OP 2 act=connect, obj=23.224.59.34:48080, sent=the malware also connects to 23.224.59.34:48080 to send and receive remote shell commands from the attacker.>\n",
      "\t<OP17 act=rename, obj=/etc/rc>, <OP 3 act=modify, obj=/etc/rc.local, sent=trend micro researchers also discovered that the latest variant of the aesddos bot can modify files i.e., /etc/rc.local and /etc/rc.d/rc.local, as an autostart technique by appending the {malware path}/{malware file name} reboot command.>\n",
      "\n",
      "\tsys_hits\n",
      "\t<OP17 act=rename, obj=/etc/rc>, <OP 3 act=modify, obj=/etc/rc.local, sent=trend micro researchers also discovered that the latest variant of the aesddos bot can modify files i.e., /etc/rc.local and /etc/rc.d/rc.local, as an autostart technique by appending the {malware path}/{malware file name} reboot command.>\n",
      "\n",
      "Sample Dofloo-SyscallParty.csv\n",
      "\tnum of segment in report: 96\n",
      "\tlenght of ctd's OPset is 11\n",
      "\t#R_malObj\n",
      "\tnum of ctd objects: 5, num of asg objects: 13. R_malObj is 0.3846\n",
      "\t\tctd_object: {'/etc/rc', '^sed$', '/etc/init.d/', '/proc/', '\\\\d{1,3}\\\\.\\\\d{1,3}\\\\.\\\\d{1,3}\\\\.\\\\d{1,3}'}\n",
      "\t#R_malSysObj\n",
      "\tnum of ctd objects: 2, num of asg objects: 3. R_malSysObj is 0.6667\n",
      "\t\tlen(asg_OPset): 30, len(ctd_OPset): 11\n",
      "\t#R_malOps\n",
      "\tnum of matched asg op: 4, num of asg op: 30. R_malOps is 0.1333\n",
      "\t\trefered lifecycle: [17, 9, 26, 0]\n",
      "\t#R_malChangeOps\n",
      "\tnum of matched asg op: 0, num of asg op: 3. R_malChangeOps is 0.0000\n",
      "\t\tref-sys lifecycle: []\n",
      "\n",
      "\thits\n",
      "\t<OP18 act=open, obj=/etc/init.d/>, <OP 4 act=add, obj=/etc/init.d/boot.local, sent=persistence persistence is achieved by the malware by adding to /etc/rc.local and the /etc/init.d/boot.local files (in the auto_boot function); however before it overwrites this file it first checks to see if it has already done so.>\n",
      "\t<OP10 act=open, obj=/etc/rc>, <OP 3 act=add, obj=/etc/rc.local, sent=persistence persistence is achieved by the malware by adding to /etc/rc.local and the /etc/init.d/boot.local files (in the auto_boot function); however before it overwrites this file it first checks to see if it has already done so.>\n",
      "\t<OP27 act=open, obj=/proc/>, <OP11 act=open, obj=/proc/cpuinfo, sent=the virtual file /proc/cpuinfo is opened and read in words until an eof (-1) is hit whilst reading the file chunk by chunk — then fclose is called to free up the opened file.>\n",
      "\t<OP 1 act=readlink, obj=/proc/>, <OP 8 act=read, obj=/proc/net/dev, sent=the way the malware gets information regarding the network adapter is reading the /proc/net/dev file.>\n",
      "\n",
      "Sample Dofloo-Trendmicro.csv\n",
      "\tnum of segment in report: 11\n",
      "\tlenght of ctd's OPset is 9\n",
      "\t#R_malObj\n",
      "\tnum of ctd objects: 5, num of asg objects: 13. R_malObj is 0.3846\n",
      "\t\tctd_object: {'/etc/rc', '^sed$', '/etc/init.d/', '/proc/', '/sys/'}\n",
      "\t#R_malSysObj\n",
      "\tnum of ctd objects: 2, num of asg objects: 3. R_malSysObj is 0.6667\n",
      "\t\tlen(asg_OPset): 30, len(ctd_OPset): 9\n",
      "\t#R_malOps\n",
      "\tnum of matched asg op: 1, num of asg op: 30. R_malOps is 0.0333\n",
      "\t\trefered lifecycle: [0]\n",
      "\t#R_malChangeOps\n",
      "\tnum of matched asg op: 0, num of asg op: 3. R_malChangeOps is 0.0000\n",
      "\t\tref-sys lifecycle: []\n",
      "\n",
      "\thits\n",
      "\t<OP 1 act=readlink, obj=/proc/>, <OP 4 act=gather, obj=/proc/stat, sent= this backdoor gathers the following data:  cpu information memory statistics ip address of infected machine reads the following information from /proc: /proc/stat /proc/meminfo /proc/cpuinfo /proc/net/dev /proc/self/exe /proc/self/maps /proc/sys/vm/overcommit_memory /proc/sys/kernel/rtsig-max /proc/sys/kernel/ngroups_max /proc/sys/kernel/osrelease /proc/self/fd/%d/%s /proc/self/fd /proc/net other details >\n",
      "\n",
      "\n",
      "OperationPair that changes system resources:\n",
      " [<OP16 act=fchmod, obj=/etc/sed>, <OP14 act=write, obj=/etc/sed>, <OP17 act=rename, obj=/etc/rc>]\n"
     ]
    }
   ],
   "source": [
    "for sample in samples:\n",
    "    # print(len(sample.OPset)) # 30\n",
    "    # print(len(sample.OPset_ordered)) # 30\n",
    "    # print(set(sample.OPset) - set(sample.OPset_ordered)) # 相減是空的set 都OK\n",
    "    fset = run_family_set_procedure(sample)\n",
    "    # match_sentence_ttlcnt = save_match_sent_to_excel(fset, sample.samplename)\n",
    "    # print(f'match_sentence_ttlcnt is {match_sentence_ttlcnt}\\n---\\n')"
   ]
  },
  {
   "attachments": {},
   "cell_type": "markdown",
   "metadata": {},
   "source": [
    "### Run Script: draw Lifecycle diagram\n",
    "- 兩個 traces (legend) 一般的 OP 和 ChangeSys OP。分兩個顏色，不重疊。\n",
    "- x: [a,a,a,a,b,b,b,c,c,c] 不同 report 的 step 可以放同一個 list，因為屬於同個 trace。"
   ]
  },
  {
   "cell_type": "code",
   "execution_count": 13,
   "metadata": {},
   "outputs": [
    {
     "name": "stdout",
     "output_type": "stream",
     "text": [
      "\n"
     ]
    },
    {
     "name": "stderr",
     "output_type": "stream",
     "text": [
      "c:\\Users\\luweb\\AppData\\Local\\Programs\\Python\\Python310\\lib\\site-packages\\plotly\\io\\_renderers.py:7: DeprecationWarning:\n",
      "\n",
      "The distutils package is deprecated and slated for removal in Python 3.12. Use setuptools or check PEP 632 for potential alternatives\n",
      "\n"
     ]
    },
    {
     "data": {
      "application/vnd.plotly.v1+json": {
       "config": {
        "plotlyServerURL": "https://plot.ly"
       },
       "data": [
        {
         "marker": {
          "color": "darkorange",
          "size": 12
         },
         "mode": "markers",
         "name": "Normal Operation Pair",
         "type": "scatter",
         "x": [
          20,
          18,
          10,
          27,
          1,
          1,
          1,
          2,
          3,
          4,
          5,
          6,
          7,
          8,
          9,
          10,
          11,
          12,
          13,
          15,
          18,
          19,
          20,
          21,
          22,
          23,
          24,
          25,
          26,
          27,
          28,
          29,
          30
         ],
         "y": [
          "Securityaffairs (2)",
          "SyscallParty (4)",
          "SyscallParty (4)",
          "SyscallParty (4)",
          "SyscallParty (4)",
          "Trendmicro (1)",
          "ASG (30)",
          "ASG (30)",
          "ASG (30)",
          "ASG (30)",
          "ASG (30)",
          "ASG (30)",
          "ASG (30)",
          "ASG (30)",
          "ASG (30)",
          "ASG (30)",
          "ASG (30)",
          "ASG (30)",
          "ASG (30)",
          "ASG (30)",
          "ASG (30)",
          "ASG (30)",
          "ASG (30)",
          "ASG (30)",
          "ASG (30)",
          "ASG (30)",
          "ASG (30)",
          "ASG (30)",
          "ASG (30)",
          "ASG (30)",
          "ASG (30)",
          "ASG (30)",
          "ASG (30)"
         ]
        },
        {
         "marker": {
          "color": "blue",
          "size": 12
         },
         "mode": "markers",
         "name": "Change SR Operation Pair",
         "type": "scatter",
         "x": [
          17,
          16,
          14,
          17
         ],
         "y": [
          "Securityaffairs (2)",
          "ASG (30)",
          "ASG (30)",
          "ASG (30)"
         ]
        }
       ],
       "layout": {
        "template": {
         "data": {
          "bar": [
           {
            "error_x": {
             "color": "#2a3f5f"
            },
            "error_y": {
             "color": "#2a3f5f"
            },
            "marker": {
             "line": {
              "color": "#E5ECF6",
              "width": 0.5
             },
             "pattern": {
              "fillmode": "overlay",
              "size": 10,
              "solidity": 0.2
             }
            },
            "type": "bar"
           }
          ],
          "barpolar": [
           {
            "marker": {
             "line": {
              "color": "#E5ECF6",
              "width": 0.5
             },
             "pattern": {
              "fillmode": "overlay",
              "size": 10,
              "solidity": 0.2
             }
            },
            "type": "barpolar"
           }
          ],
          "carpet": [
           {
            "aaxis": {
             "endlinecolor": "#2a3f5f",
             "gridcolor": "white",
             "linecolor": "white",
             "minorgridcolor": "white",
             "startlinecolor": "#2a3f5f"
            },
            "baxis": {
             "endlinecolor": "#2a3f5f",
             "gridcolor": "white",
             "linecolor": "white",
             "minorgridcolor": "white",
             "startlinecolor": "#2a3f5f"
            },
            "type": "carpet"
           }
          ],
          "choropleth": [
           {
            "colorbar": {
             "outlinewidth": 0,
             "ticks": ""
            },
            "type": "choropleth"
           }
          ],
          "contour": [
           {
            "colorbar": {
             "outlinewidth": 0,
             "ticks": ""
            },
            "colorscale": [
             [
              0,
              "#0d0887"
             ],
             [
              0.1111111111111111,
              "#46039f"
             ],
             [
              0.2222222222222222,
              "#7201a8"
             ],
             [
              0.3333333333333333,
              "#9c179e"
             ],
             [
              0.4444444444444444,
              "#bd3786"
             ],
             [
              0.5555555555555556,
              "#d8576b"
             ],
             [
              0.6666666666666666,
              "#ed7953"
             ],
             [
              0.7777777777777778,
              "#fb9f3a"
             ],
             [
              0.8888888888888888,
              "#fdca26"
             ],
             [
              1,
              "#f0f921"
             ]
            ],
            "type": "contour"
           }
          ],
          "contourcarpet": [
           {
            "colorbar": {
             "outlinewidth": 0,
             "ticks": ""
            },
            "type": "contourcarpet"
           }
          ],
          "heatmap": [
           {
            "colorbar": {
             "outlinewidth": 0,
             "ticks": ""
            },
            "colorscale": [
             [
              0,
              "#0d0887"
             ],
             [
              0.1111111111111111,
              "#46039f"
             ],
             [
              0.2222222222222222,
              "#7201a8"
             ],
             [
              0.3333333333333333,
              "#9c179e"
             ],
             [
              0.4444444444444444,
              "#bd3786"
             ],
             [
              0.5555555555555556,
              "#d8576b"
             ],
             [
              0.6666666666666666,
              "#ed7953"
             ],
             [
              0.7777777777777778,
              "#fb9f3a"
             ],
             [
              0.8888888888888888,
              "#fdca26"
             ],
             [
              1,
              "#f0f921"
             ]
            ],
            "type": "heatmap"
           }
          ],
          "heatmapgl": [
           {
            "colorbar": {
             "outlinewidth": 0,
             "ticks": ""
            },
            "colorscale": [
             [
              0,
              "#0d0887"
             ],
             [
              0.1111111111111111,
              "#46039f"
             ],
             [
              0.2222222222222222,
              "#7201a8"
             ],
             [
              0.3333333333333333,
              "#9c179e"
             ],
             [
              0.4444444444444444,
              "#bd3786"
             ],
             [
              0.5555555555555556,
              "#d8576b"
             ],
             [
              0.6666666666666666,
              "#ed7953"
             ],
             [
              0.7777777777777778,
              "#fb9f3a"
             ],
             [
              0.8888888888888888,
              "#fdca26"
             ],
             [
              1,
              "#f0f921"
             ]
            ],
            "type": "heatmapgl"
           }
          ],
          "histogram": [
           {
            "marker": {
             "pattern": {
              "fillmode": "overlay",
              "size": 10,
              "solidity": 0.2
             }
            },
            "type": "histogram"
           }
          ],
          "histogram2d": [
           {
            "colorbar": {
             "outlinewidth": 0,
             "ticks": ""
            },
            "colorscale": [
             [
              0,
              "#0d0887"
             ],
             [
              0.1111111111111111,
              "#46039f"
             ],
             [
              0.2222222222222222,
              "#7201a8"
             ],
             [
              0.3333333333333333,
              "#9c179e"
             ],
             [
              0.4444444444444444,
              "#bd3786"
             ],
             [
              0.5555555555555556,
              "#d8576b"
             ],
             [
              0.6666666666666666,
              "#ed7953"
             ],
             [
              0.7777777777777778,
              "#fb9f3a"
             ],
             [
              0.8888888888888888,
              "#fdca26"
             ],
             [
              1,
              "#f0f921"
             ]
            ],
            "type": "histogram2d"
           }
          ],
          "histogram2dcontour": [
           {
            "colorbar": {
             "outlinewidth": 0,
             "ticks": ""
            },
            "colorscale": [
             [
              0,
              "#0d0887"
             ],
             [
              0.1111111111111111,
              "#46039f"
             ],
             [
              0.2222222222222222,
              "#7201a8"
             ],
             [
              0.3333333333333333,
              "#9c179e"
             ],
             [
              0.4444444444444444,
              "#bd3786"
             ],
             [
              0.5555555555555556,
              "#d8576b"
             ],
             [
              0.6666666666666666,
              "#ed7953"
             ],
             [
              0.7777777777777778,
              "#fb9f3a"
             ],
             [
              0.8888888888888888,
              "#fdca26"
             ],
             [
              1,
              "#f0f921"
             ]
            ],
            "type": "histogram2dcontour"
           }
          ],
          "mesh3d": [
           {
            "colorbar": {
             "outlinewidth": 0,
             "ticks": ""
            },
            "type": "mesh3d"
           }
          ],
          "parcoords": [
           {
            "line": {
             "colorbar": {
              "outlinewidth": 0,
              "ticks": ""
             }
            },
            "type": "parcoords"
           }
          ],
          "pie": [
           {
            "automargin": true,
            "type": "pie"
           }
          ],
          "scatter": [
           {
            "fillpattern": {
             "fillmode": "overlay",
             "size": 10,
             "solidity": 0.2
            },
            "type": "scatter"
           }
          ],
          "scatter3d": [
           {
            "line": {
             "colorbar": {
              "outlinewidth": 0,
              "ticks": ""
             }
            },
            "marker": {
             "colorbar": {
              "outlinewidth": 0,
              "ticks": ""
             }
            },
            "type": "scatter3d"
           }
          ],
          "scattercarpet": [
           {
            "marker": {
             "colorbar": {
              "outlinewidth": 0,
              "ticks": ""
             }
            },
            "type": "scattercarpet"
           }
          ],
          "scattergeo": [
           {
            "marker": {
             "colorbar": {
              "outlinewidth": 0,
              "ticks": ""
             }
            },
            "type": "scattergeo"
           }
          ],
          "scattergl": [
           {
            "marker": {
             "colorbar": {
              "outlinewidth": 0,
              "ticks": ""
             }
            },
            "type": "scattergl"
           }
          ],
          "scattermapbox": [
           {
            "marker": {
             "colorbar": {
              "outlinewidth": 0,
              "ticks": ""
             }
            },
            "type": "scattermapbox"
           }
          ],
          "scatterpolar": [
           {
            "marker": {
             "colorbar": {
              "outlinewidth": 0,
              "ticks": ""
             }
            },
            "type": "scatterpolar"
           }
          ],
          "scatterpolargl": [
           {
            "marker": {
             "colorbar": {
              "outlinewidth": 0,
              "ticks": ""
             }
            },
            "type": "scatterpolargl"
           }
          ],
          "scatterternary": [
           {
            "marker": {
             "colorbar": {
              "outlinewidth": 0,
              "ticks": ""
             }
            },
            "type": "scatterternary"
           }
          ],
          "surface": [
           {
            "colorbar": {
             "outlinewidth": 0,
             "ticks": ""
            },
            "colorscale": [
             [
              0,
              "#0d0887"
             ],
             [
              0.1111111111111111,
              "#46039f"
             ],
             [
              0.2222222222222222,
              "#7201a8"
             ],
             [
              0.3333333333333333,
              "#9c179e"
             ],
             [
              0.4444444444444444,
              "#bd3786"
             ],
             [
              0.5555555555555556,
              "#d8576b"
             ],
             [
              0.6666666666666666,
              "#ed7953"
             ],
             [
              0.7777777777777778,
              "#fb9f3a"
             ],
             [
              0.8888888888888888,
              "#fdca26"
             ],
             [
              1,
              "#f0f921"
             ]
            ],
            "type": "surface"
           }
          ],
          "table": [
           {
            "cells": {
             "fill": {
              "color": "#EBF0F8"
             },
             "line": {
              "color": "white"
             }
            },
            "header": {
             "fill": {
              "color": "#C8D4E3"
             },
             "line": {
              "color": "white"
             }
            },
            "type": "table"
           }
          ]
         },
         "layout": {
          "annotationdefaults": {
           "arrowcolor": "#2a3f5f",
           "arrowhead": 0,
           "arrowwidth": 1
          },
          "autotypenumbers": "strict",
          "coloraxis": {
           "colorbar": {
            "outlinewidth": 0,
            "ticks": ""
           }
          },
          "colorscale": {
           "diverging": [
            [
             0,
             "#8e0152"
            ],
            [
             0.1,
             "#c51b7d"
            ],
            [
             0.2,
             "#de77ae"
            ],
            [
             0.3,
             "#f1b6da"
            ],
            [
             0.4,
             "#fde0ef"
            ],
            [
             0.5,
             "#f7f7f7"
            ],
            [
             0.6,
             "#e6f5d0"
            ],
            [
             0.7,
             "#b8e186"
            ],
            [
             0.8,
             "#7fbc41"
            ],
            [
             0.9,
             "#4d9221"
            ],
            [
             1,
             "#276419"
            ]
           ],
           "sequential": [
            [
             0,
             "#0d0887"
            ],
            [
             0.1111111111111111,
             "#46039f"
            ],
            [
             0.2222222222222222,
             "#7201a8"
            ],
            [
             0.3333333333333333,
             "#9c179e"
            ],
            [
             0.4444444444444444,
             "#bd3786"
            ],
            [
             0.5555555555555556,
             "#d8576b"
            ],
            [
             0.6666666666666666,
             "#ed7953"
            ],
            [
             0.7777777777777778,
             "#fb9f3a"
            ],
            [
             0.8888888888888888,
             "#fdca26"
            ],
            [
             1,
             "#f0f921"
            ]
           ],
           "sequentialminus": [
            [
             0,
             "#0d0887"
            ],
            [
             0.1111111111111111,
             "#46039f"
            ],
            [
             0.2222222222222222,
             "#7201a8"
            ],
            [
             0.3333333333333333,
             "#9c179e"
            ],
            [
             0.4444444444444444,
             "#bd3786"
            ],
            [
             0.5555555555555556,
             "#d8576b"
            ],
            [
             0.6666666666666666,
             "#ed7953"
            ],
            [
             0.7777777777777778,
             "#fb9f3a"
            ],
            [
             0.8888888888888888,
             "#fdca26"
            ],
            [
             1,
             "#f0f921"
            ]
           ]
          },
          "colorway": [
           "#636efa",
           "#EF553B",
           "#00cc96",
           "#ab63fa",
           "#FFA15A",
           "#19d3f3",
           "#FF6692",
           "#B6E880",
           "#FF97FF",
           "#FECB52"
          ],
          "font": {
           "color": "#2a3f5f"
          },
          "geo": {
           "bgcolor": "white",
           "lakecolor": "white",
           "landcolor": "#E5ECF6",
           "showlakes": true,
           "showland": true,
           "subunitcolor": "white"
          },
          "hoverlabel": {
           "align": "left"
          },
          "hovermode": "closest",
          "mapbox": {
           "style": "light"
          },
          "paper_bgcolor": "white",
          "plot_bgcolor": "#E5ECF6",
          "polar": {
           "angularaxis": {
            "gridcolor": "white",
            "linecolor": "white",
            "ticks": ""
           },
           "bgcolor": "#E5ECF6",
           "radialaxis": {
            "gridcolor": "white",
            "linecolor": "white",
            "ticks": ""
           }
          },
          "scene": {
           "xaxis": {
            "backgroundcolor": "#E5ECF6",
            "gridcolor": "white",
            "gridwidth": 2,
            "linecolor": "white",
            "showbackground": true,
            "ticks": "",
            "zerolinecolor": "white"
           },
           "yaxis": {
            "backgroundcolor": "#E5ECF6",
            "gridcolor": "white",
            "gridwidth": 2,
            "linecolor": "white",
            "showbackground": true,
            "ticks": "",
            "zerolinecolor": "white"
           },
           "zaxis": {
            "backgroundcolor": "#E5ECF6",
            "gridcolor": "white",
            "gridwidth": 2,
            "linecolor": "white",
            "showbackground": true,
            "ticks": "",
            "zerolinecolor": "white"
           }
          },
          "shapedefaults": {
           "line": {
            "color": "#2a3f5f"
           }
          },
          "ternary": {
           "aaxis": {
            "gridcolor": "white",
            "linecolor": "white",
            "ticks": ""
           },
           "baxis": {
            "gridcolor": "white",
            "linecolor": "white",
            "ticks": ""
           },
           "bgcolor": "#E5ECF6",
           "caxis": {
            "gridcolor": "white",
            "linecolor": "white",
            "ticks": ""
           }
          },
          "title": {
           "x": 0.05
          },
          "xaxis": {
           "automargin": true,
           "gridcolor": "white",
           "linecolor": "white",
           "ticks": "",
           "title": {
            "standoff": 15
           },
           "zerolinecolor": "white",
           "zerolinewidth": 2
          },
          "yaxis": {
           "automargin": true,
           "gridcolor": "white",
           "linecolor": "white",
           "ticks": "",
           "title": {
            "standoff": 15
           },
           "zerolinecolor": "white",
           "zerolinewidth": 2
          }
         }
        },
        "title": {
         "text": "Lifecycle Diagram of Attack Behavior in Document (Dofloo)"
        },
        "xaxis": {
         "title": {
          "text": "ASG Operation Pair (in steps)"
         }
        },
        "yaxis": {
         "title": {
          "text": "Malware Document"
         }
        }
       }
      }
     },
     "metadata": {},
     "output_type": "display_data"
    }
   ],
   "source": [
    "# import plotly.express as px\n",
    "import plotly.graph_objects as go\n",
    "\n",
    "def symmetric_difference(list1: list, list2: list) -> list:\n",
    "    ''' return list1 - list2. '''\n",
    "    s = set(list2)\n",
    "    temp3 = [x for x in list1 if x not in s]\n",
    "    return temp3\n",
    "\n",
    "def draw_lifecycle(fset:FamilySet):\n",
    "    familname = fset.familyname\n",
    "    # reportnames = [rem.reportname for rem in fset.rem_lst if len(rem.match_regex)]\n",
    "\n",
    "    fig = go.Figure()\n",
    "    x, y = [], []\n",
    "    x_sys, y_sys = [], []\n",
    "    for i, rem in enumerate(fset.rem_lst):\n",
    "        if len(rem.OPset_order_index) == 0:\n",
    "            continue\n",
    "\n",
    "        numOfDot = len(rem.OPset_order_index)\n",
    "        reportname = rem.reportname.split('.')[0]\n",
    "        reportname = reportname.split('-')[1]\n",
    "        if reportname == 'Ms':\n",
    "            reportname = 'Microsoft'\n",
    "        reportname += f' ({numOfDot})'\n",
    "        x_sys.extend(rem.SysOPset_order_index) # 改變系統設定檔的 OP\n",
    "        y_sys.extend([reportname] * len(rem.SysOPset_order_index))\n",
    "        current_x_normal = symmetric_difference(rem.OPset_order_index, rem.SysOPset_order_index) # 一般的/其餘的 OP\n",
    "        # print(reportname, 'numOfDot', numOfDot, 'rem.OPset_order_index', rem.OPset_order_index)\n",
    "        # print('x_normal', current_x_normal, 'x_sys', rem.SysOPset_order_index)\n",
    "        x.extend(current_x_normal)\n",
    "        y.extend([reportname] * len(current_x_normal))\n",
    "        pass\n",
    "    # todo: add baseline's lifecycle\n",
    "    print()\n",
    "    rowname = f'ASG ({len(fset.sample.OPset)})'\n",
    "    current_x_system = fset.sample.OPset_sysOnly_ordered_index\n",
    "    current_x_normal = symmetric_difference(list(range(len(fset.sample.OPset))), current_x_system) # all steps - sysobj steps\n",
    "    # print(sorted(current_x_system)) # 只能放UPDATE的，OPEN/READ不能喔\n",
    "    x_sys.extend(current_x_system)\n",
    "    y_sys.extend([rowname] * len(current_x_system)) \n",
    "    x.extend(current_x_normal)\n",
    "    y.extend([rowname] * len(current_x_normal))\n",
    "    # print(rowname, len(fset.sample.OPset), len(current_x_system), len(current_x_normal))\n",
    "    \n",
    "    # normal OPs\n",
    "    x = [idx+1 for idx in x] # add 1 to each asg index\n",
    "    fig.add_trace(go.Scatter(\n",
    "        x=x,\n",
    "        y=y,\n",
    "        marker=dict(color=\"darkorange\", size=12),\n",
    "        mode=\"markers\",\n",
    "        name=\"Normal Operation Pair\",\n",
    "    ))\n",
    "\n",
    "    # changeSysObj OPs\n",
    "    x_sys = x = [idx+1 for idx in x_sys]\n",
    "    fig.add_trace(go.Scatter(\n",
    "        x=x_sys,\n",
    "        y=y_sys,\n",
    "        marker=dict(color=\"blue\", size=12),\n",
    "        mode=\"markers\",\n",
    "        name=\"Change SR Operation Pair\",\n",
    "    ))\n",
    "\n",
    "    fig.update_layout(title=f\"Lifecycle Diagram of Attack Behavior in Document ({familname})\",\n",
    "                    xaxis_title=\"ASG Operation Pair (in steps)\",\n",
    "                    yaxis_title=\"Malware Document\")\n",
    "    fig.show()\n",
    "    pass\n",
    "\n",
    "draw_lifecycle(fset)"
   ]
  },
  {
   "cell_type": "code",
   "execution_count": 14,
   "metadata": {},
   "outputs": [
    {
     "name": "stdout",
     "output_type": "stream",
     "text": [
      "['write', 'rename', 'fchmod', 'chmod', 'lchmod']\n"
     ]
    }
   ],
   "source": [
    "operationEvaluator = OperationEvaluator()\n",
    "print(operationEvaluator.update_syscall_list)\n",
    "del operationEvaluator"
   ]
  },
  {
   "attachments": {},
   "cell_type": "markdown",
   "metadata": {},
   "source": [
    "### Run Script: draw ASG & CTD's OP graph\n",
    "- 完整的 ASG OPset graph\n",
    "- 每篇報告的 CTD OPset (完整和matched兩種)，以及對應部分的 ASG。"
   ]
  },
  {
   "cell_type": "code",
   "execution_count": 15,
   "metadata": {},
   "outputs": [
    {
     "data": {
      "text/plain": [
       "['b', 'c', 'd']"
      ]
     },
     "execution_count": 15,
     "metadata": {},
     "output_type": "execute_result"
    }
   ],
   "source": [
    "a = [1,2,3]\n",
    "b = ['a','b','c','d','e']\n",
    "[b[i] for i in a]"
   ]
  },
  {
   "cell_type": "code",
   "execution_count": 16,
   "metadata": {},
   "outputs": [
    {
     "data": {
      "image/svg+xml": "<?xml version=\"1.0\" encoding=\"UTF-8\" standalone=\"no\"?>\n<!DOCTYPE svg PUBLIC \"-//W3C//DTD SVG 1.1//EN\"\n \"http://www.w3.org/Graphics/SVG/1.1/DTD/svg11.dtd\">\n<!-- Generated by graphviz version 6.0.1 (20220911.1526)\n -->\n<!-- Title: Dofloo_asg_OPset Pages: 1 -->\n<svg width=\"2174pt\" height=\"291pt\"\n viewBox=\"0.00 0.00 2174.48 291.00\" xmlns=\"http://www.w3.org/2000/svg\" xmlns:xlink=\"http://www.w3.org/1999/xlink\">\n<g id=\"graph0\" class=\"graph\" transform=\"scale(1 1) rotate(0) translate(4 287)\">\n<title>Dofloo_asg_OPset</title>\n<polygon fill=\"white\" stroke=\"none\" points=\"-4,4 -4,-287 2170.48,-287 2170.48,4 -4,4\"/>\n<!-- Start -->\n<g id=\"node1\" class=\"node\">\n<title>Start</title>\n<ellipse fill=\"none\" stroke=\"black\" cx=\"1165.63\" cy=\"-265\" rx=\"77.19\" ry=\"18\"/>\n<text text-anchor=\"middle\" x=\"1165.63\" y=\"-261.3\" font-family=\"Times New Roman,serif\" font-size=\"14.00\">Malware (Subject)</text>\n</g>\n<!-- 1 -->\n<g id=\"node2\" class=\"node\">\n<title>1</title>\n<ellipse fill=\"none\" stroke=\"black\" cx=\"124.63\" cy=\"-178\" rx=\"59.59\" ry=\"18\"/>\n<text text-anchor=\"middle\" x=\"124.63\" y=\"-174.3\" font-family=\"Times New Roman,serif\" font-size=\"14.00\">ip_addr+port</text>\n</g>\n<!-- Start&#45;&gt;1 -->\n<g id=\"edge1\" class=\"edge\">\n<title>Start&#45;&gt;1</title>\n<path fill=\"none\" stroke=\"black\" d=\"M1088.31,-263.1C832.02,-259.93 25.49,-248.44 6.63,-229 -14.84,-206.87 21.53,-194.04 59.41,-186.94\"/>\n<polygon fill=\"black\" stroke=\"black\" points=\"60.31,-190.33 69.56,-185.17 59.1,-183.44 60.31,-190.33\"/>\n<text text-anchor=\"middle\" x=\"34.13\" y=\"-217.8\" font-family=\"Times New Roman,serif\" font-size=\"14.00\">23.fstat64</text>\n</g>\n<!-- Start&#45;&gt;1 -->\n<g id=\"edge2\" class=\"edge\">\n<title>Start&#45;&gt;1</title>\n<path fill=\"none\" stroke=\"black\" d=\"M1088.18,-264.41C846.37,-265.3 119.45,-264.96 84.63,-229 76.25,-220.34 82.14,-210.06 91.71,-201.07\"/>\n<polygon fill=\"black\" stroke=\"black\" points=\"94.14,-203.6 99.57,-194.5 89.65,-198.22 94.14,-203.6\"/>\n<text text-anchor=\"middle\" x=\"114.13\" y=\"-217.8\" font-family=\"Times New Roman,serif\" font-size=\"14.00\">25.mmap2</text>\n</g>\n<!-- Start&#45;&gt;1 -->\n<g id=\"edge3\" class=\"edge\">\n<title>Start&#45;&gt;1</title>\n<path fill=\"none\" stroke=\"black\" d=\"M1088.5,-263.01C861.3,-259.85 207.82,-249.08 166.63,-229 155.71,-223.68 146.57,-214.04 139.64,-204.65\"/>\n<polygon fill=\"black\" stroke=\"black\" points=\"142.42,-202.51 133.9,-196.21 136.63,-206.45 142.42,-202.51\"/>\n<text text-anchor=\"middle\" x=\"197.63\" y=\"-217.8\" font-family=\"Times New Roman,serif\" font-size=\"14.00\">19.connect</text>\n</g>\n<!-- Start&#45;&gt;1 -->\n<g id=\"edge4\" class=\"edge\">\n<title>Start&#45;&gt;1</title>\n<path fill=\"none\" stroke=\"black\" d=\"M1088.13,-264.23C900.02,-264.26 423.31,-261.06 267.63,-229 249.44,-225.25 246.1,-220.3 228.63,-214 210.8,-207.57 191.13,-200.86 173.73,-195.05\"/>\n<polygon fill=\"black\" stroke=\"black\" points=\"174.38,-191.57 163.78,-191.74 172.17,-198.22 174.38,-191.57\"/>\n<text text-anchor=\"middle\" x=\"307.13\" y=\"-217.8\" font-family=\"Times New Roman,serif\" font-size=\"14.00\">21._newselect</text>\n</g>\n<!-- 2 -->\n<g id=\"node3\" class=\"node\">\n<title>2</title>\n<ellipse fill=\"none\" stroke=\"black\" cx=\"384.63\" cy=\"-178\" rx=\"27.1\" ry=\"18\"/>\n<text text-anchor=\"middle\" x=\"384.63\" y=\"-174.3\" font-family=\"Times New Roman,serif\" font-size=\"14.00\">^sh$</text>\n</g>\n<!-- Start&#45;&gt;2 -->\n<g id=\"edge5\" class=\"edge\">\n<title>Start&#45;&gt;2</title>\n<path fill=\"none\" stroke=\"black\" d=\"M1088.4,-263.52C890.48,-261.93 378.79,-255.27 353.63,-229 345.38,-220.39 351.11,-209.23 359.78,-199.64\"/>\n<polygon fill=\"black\" stroke=\"black\" points=\"362.49,-201.88 367.15,-192.36 357.58,-196.89 362.49,-201.88\"/>\n<text text-anchor=\"middle\" x=\"374.13\" y=\"-217.8\" font-family=\"Times New Roman,serif\" font-size=\"14.00\">2.clone</text>\n</g>\n<!-- Start&#45;&gt;2 -->\n<g id=\"edge6\" class=\"edge\">\n<title>Start&#45;&gt;2</title>\n<path fill=\"none\" stroke=\"black\" d=\"M1088.34,-263.67C911.45,-262.45 487.93,-256.64 429.63,-229 417.88,-223.43 407.83,-213.24 400.24,-203.51\"/>\n<polygon fill=\"black\" stroke=\"black\" points=\"402.91,-201.24 394.21,-195.2 397.25,-205.35 402.91,-201.24\"/>\n<text text-anchor=\"middle\" x=\"455.63\" y=\"-217.8\" font-family=\"Times New Roman,serif\" font-size=\"14.00\">3.waitpid</text>\n</g>\n<!-- 3 -->\n<g id=\"node4\" class=\"node\">\n<title>3</title>\n<ellipse fill=\"none\" stroke=\"black\" cx=\"641.63\" cy=\"-178\" rx=\"38.99\" ry=\"18\"/>\n<text text-anchor=\"middle\" x=\"641.63\" y=\"-174.3\" font-family=\"Times New Roman,serif\" font-size=\"14.00\">/etc/sed</text>\n</g>\n<!-- Start&#45;&gt;3 -->\n<g id=\"edge7\" class=\"edge\">\n<title>Start&#45;&gt;3</title>\n<path fill=\"none\" stroke=\"black\" d=\"M1088.59,-262.8C916.21,-259.74 512.87,-250.32 492.63,-229 460.6,-195.26 537.34,-184.28 592.16,-180.72\"/>\n<polygon fill=\"black\" stroke=\"black\" points=\"592.68,-184.19 602.46,-180.11 592.27,-177.2 592.68,-184.19\"/>\n<text text-anchor=\"middle\" x=\"523.13\" y=\"-217.8\" font-family=\"Times New Roman,serif\" font-size=\"14.00\">16.fchmod</text>\n</g>\n<!-- Start&#45;&gt;3 -->\n<g id=\"edge8\" class=\"edge\">\n<title>Start&#45;&gt;3</title>\n<path fill=\"none\" stroke=\"black\" d=\"M1088.95,-262.21C933.4,-258.19 593.93,-247.36 576.63,-229 563.76,-215.34 581.38,-202.49 601.5,-193.24\"/>\n<polygon fill=\"black\" stroke=\"black\" points=\"603,-196.41 610.82,-189.25 600.25,-189.97 603,-196.41\"/>\n<text text-anchor=\"middle\" x=\"598.13\" y=\"-217.8\" font-family=\"Times New Roman,serif\" font-size=\"14.00\">12.fcntl</text>\n</g>\n<!-- Start&#45;&gt;3 -->\n<g id=\"edge9\" class=\"edge\">\n<title>Start&#45;&gt;3</title>\n<path fill=\"none\" stroke=\"black\" d=\"M1088.22,-264.46C950.08,-264.46 672.69,-260.5 642.63,-229 636.9,-222.99 635.31,-214.5 635.57,-206.21\"/>\n<polygon fill=\"black\" stroke=\"black\" points=\"639.07,-206.36 636.71,-196.03 632.12,-205.58 639.07,-206.36\"/>\n<text text-anchor=\"middle\" x=\"663.63\" y=\"-217.8\" font-family=\"Times New Roman,serif\" font-size=\"14.00\">13.fstat</text>\n</g>\n<!-- Start&#45;&gt;3 -->\n<g id=\"edge10\" class=\"edge\">\n<title>Start&#45;&gt;3</title>\n<path fill=\"none\" stroke=\"black\" d=\"M1088.57,-263.34C976.68,-261.5 775.21,-254.61 707.63,-229 703.05,-227.26 684.65,-213.21 668.44,-200.45\"/>\n<polygon fill=\"black\" stroke=\"black\" points=\"670.26,-197.42 660.25,-193.96 665.91,-202.91 670.26,-197.42\"/>\n<text text-anchor=\"middle\" x=\"730.13\" y=\"-217.8\" font-family=\"Times New Roman,serif\" font-size=\"14.00\">14.write</text>\n</g>\n<!-- Start&#45;&gt;3 -->\n<g id=\"edge11\" class=\"edge\">\n<title>Start&#45;&gt;3</title>\n<path fill=\"none\" stroke=\"black\" d=\"M1088.32,-263.6C1011.3,-261.63 890.22,-254.26 788.63,-229 771.81,-224.82 768.91,-219.95 752.63,-214 730.12,-205.78 704.65,-197.67 683.78,-191.32\"/>\n<polygon fill=\"black\" stroke=\"black\" points=\"684.53,-187.89 673.95,-188.36 682.51,-194.59 684.53,-187.89\"/>\n<text text-anchor=\"middle\" x=\"818.63\" y=\"-217.8\" font-family=\"Times New Roman,serif\" font-size=\"14.00\">15.fchown</text>\n</g>\n<!-- 4 -->\n<g id=\"node5\" class=\"node\">\n<title>4</title>\n<ellipse fill=\"none\" stroke=\"black\" cx=\"981.63\" cy=\"-178\" rx=\"38.99\" ry=\"18\"/>\n<text text-anchor=\"middle\" x=\"981.63\" y=\"-174.3\" font-family=\"Times New Roman,serif\" font-size=\"14.00\">ip_addr</text>\n</g>\n<!-- Start&#45;&gt;4 -->\n<g id=\"edge12\" class=\"edge\">\n<title>Start&#45;&gt;4</title>\n<path fill=\"none\" stroke=\"black\" d=\"M1090.49,-260.58C1004.6,-255.89 873.83,-246.03 858.63,-229 833.93,-201.32 888.91,-188.68 933.15,-183.11\"/>\n<polygon fill=\"black\" stroke=\"black\" points=\"933.72,-186.57 943.25,-181.93 932.91,-179.62 933.72,-186.57\"/>\n<text text-anchor=\"middle\" x=\"888.13\" y=\"-217.8\" font-family=\"Times New Roman,serif\" font-size=\"14.00\">26.mmap2</text>\n</g>\n<!-- Start&#45;&gt;4 -->\n<g id=\"edge13\" class=\"edge\">\n<title>Start&#45;&gt;4</title>\n<path fill=\"none\" stroke=\"black\" d=\"M1088.86,-262.4C1031.4,-259.39 959.6,-251.14 940.63,-229 932.29,-219.26 939.56,-208.25 950.17,-199.05\"/>\n<polygon fill=\"black\" stroke=\"black\" points=\"952.57,-201.62 958.31,-192.71 948.27,-196.09 952.57,-201.62\"/>\n<text text-anchor=\"middle\" x=\"971.63\" y=\"-217.8\" font-family=\"Times New Roman,serif\" font-size=\"14.00\">20.connect</text>\n</g>\n<!-- Start&#45;&gt;4 -->\n<g id=\"edge14\" class=\"edge\">\n<title>Start&#45;&gt;4</title>\n<path fill=\"none\" stroke=\"black\" d=\"M1099,-255.82C1074.64,-250.71 1047.67,-242.42 1025.63,-229 1015.2,-222.64 1005.88,-213.02 998.54,-203.9\"/>\n<polygon fill=\"black\" stroke=\"black\" points=\"1001.21,-201.63 992.37,-195.79 995.63,-205.87 1001.21,-201.63\"/>\n<text text-anchor=\"middle\" x=\"1065.13\" y=\"-217.8\" font-family=\"Times New Roman,serif\" font-size=\"14.00\">22._newselect</text>\n</g>\n<!-- Start&#45;&gt;4 -->\n<g id=\"edge15\" class=\"edge\">\n<title>Start&#45;&gt;4</title>\n<path fill=\"none\" stroke=\"black\" d=\"M1145.74,-247.37C1128.85,-233.3 1106.98,-215.23 1104.63,-214 1080.53,-201.39 1051.33,-192.84 1027.43,-187.34\"/>\n<polygon fill=\"black\" stroke=\"black\" points=\"1028.06,-183.9 1017.54,-185.17 1026.56,-190.74 1028.06,-183.9\"/>\n<text text-anchor=\"middle\" x=\"1151.13\" y=\"-217.8\" font-family=\"Times New Roman,serif\" font-size=\"14.00\">24.fstat64</text>\n</g>\n<!-- 5 -->\n<g id=\"node6\" class=\"node\">\n<title>5</title>\n<ellipse fill=\"none\" stroke=\"black\" cx=\"1204.63\" cy=\"-178\" rx=\"46.59\" ry=\"18\"/>\n<text text-anchor=\"middle\" x=\"1204.63\" y=\"-174.3\" font-family=\"Times New Roman,serif\" font-size=\"14.00\">/etc/init.d/</text>\n</g>\n<!-- Start&#45;&gt;5 -->\n<g id=\"edge16\" class=\"edge\">\n<title>Start&#45;&gt;5</title>\n<path fill=\"none\" stroke=\"black\" d=\"M1174.06,-246.97C1176.84,-241.28 1179.91,-234.89 1182.63,-229 1186.16,-221.37 1189.88,-213.04 1193.24,-205.4\"/>\n<polygon fill=\"black\" stroke=\"black\" points=\"1196.46,-206.76 1197.26,-196.2 1190.05,-203.96 1196.46,-206.76\"/>\n<text text-anchor=\"middle\" x=\"1212.63\" y=\"-217.8\" font-family=\"Times New Roman,serif\" font-size=\"14.00\">18.open</text>\n</g>\n<!-- 6 -->\n<g id=\"node7\" class=\"node\">\n<title>6</title>\n<ellipse fill=\"none\" stroke=\"black\" cx=\"1330.63\" cy=\"-178\" rx=\"33.6\" ry=\"18\"/>\n<text text-anchor=\"middle\" x=\"1330.63\" y=\"-174.3\" font-family=\"Times New Roman,serif\" font-size=\"14.00\">/etc/rc</text>\n</g>\n<!-- Start&#45;&gt;6 -->\n<g id=\"edge17\" class=\"edge\">\n<title>Start&#45;&gt;6</title>\n<path fill=\"none\" stroke=\"black\" d=\"M1198.99,-248.74C1211.79,-242.76 1226.47,-235.72 1239.63,-229 1259.68,-218.76 1281.82,-206.62 1299.24,-196.86\"/>\n<polygon fill=\"black\" stroke=\"black\" points=\"1301.4,-199.66 1308.4,-191.71 1297.96,-193.56 1301.4,-199.66\"/>\n<text text-anchor=\"middle\" x=\"1290.63\" y=\"-217.8\" font-family=\"Times New Roman,serif\" font-size=\"14.00\">10.open</text>\n</g>\n<!-- Start&#45;&gt;6 -->\n<g id=\"edge18\" class=\"edge\">\n<title>Start&#45;&gt;6</title>\n<path fill=\"none\" stroke=\"black\" d=\"M1231.9,-255.63C1266.91,-249.9 1305.16,-241.13 1317.63,-229 1323.85,-222.95 1327.22,-214.34 1329.02,-205.97\"/>\n<polygon fill=\"black\" stroke=\"black\" points=\"1332.48,-206.46 1330.5,-196.05 1325.56,-205.42 1332.48,-206.46\"/>\n<text text-anchor=\"middle\" x=\"1355.63\" y=\"-217.8\" font-family=\"Times New Roman,serif\" font-size=\"14.00\">17.rename</text>\n</g>\n<!-- 7 -->\n<g id=\"node8\" class=\"node\">\n<title>7</title>\n<ellipse fill=\"none\" stroke=\"black\" cx=\"1435.63\" cy=\"-178\" rx=\"38.19\" ry=\"18\"/>\n<text text-anchor=\"middle\" x=\"1435.63\" y=\"-174.3\" font-family=\"Times New Roman,serif\" font-size=\"14.00\">/selinux</text>\n</g>\n<!-- Start&#45;&gt;7 -->\n<g id=\"edge19\" class=\"edge\">\n<title>Start&#45;&gt;7</title>\n<path fill=\"none\" stroke=\"black\" d=\"M1236.69,-257.89C1291.75,-252.22 1362.86,-242.61 1388.63,-229 1400.04,-222.97 1410.2,-213.1 1418.14,-203.71\"/>\n<polygon fill=\"black\" stroke=\"black\" points=\"1421.03,-205.7 1424.51,-195.7 1415.55,-201.35 1421.03,-205.7\"/>\n<text text-anchor=\"middle\" x=\"1429.13\" y=\"-217.8\" font-family=\"Times New Roman,serif\" font-size=\"14.00\">7.statfs</text>\n</g>\n<!-- Start&#45;&gt;7 -->\n<g id=\"edge20\" class=\"edge\">\n<title>Start&#45;&gt;7</title>\n<path fill=\"none\" stroke=\"black\" d=\"M1240.08,-260C1320.67,-254.9 1439.65,-244.79 1453.63,-229 1459.9,-221.93 1458.27,-212.51 1454.06,-203.76\"/>\n<polygon fill=\"black\" stroke=\"black\" points=\"1457.02,-201.88 1448.96,-195 1450.97,-205.4 1457.02,-201.88\"/>\n<text text-anchor=\"middle\" x=\"1483.13\" y=\"-217.8\" font-family=\"Times New Roman,serif\" font-size=\"14.00\">9.access</text>\n</g>\n<!-- 8 -->\n<g id=\"node9\" class=\"node\">\n<title>8</title>\n<ellipse fill=\"none\" stroke=\"black\" cx=\"1551.63\" cy=\"-91\" rx=\"37.09\" ry=\"18\"/>\n<text text-anchor=\"middle\" x=\"1551.63\" y=\"-87.3\" font-family=\"Times New Roman,serif\" font-size=\"14.00\">bin/sed</text>\n</g>\n<!-- Start&#45;&gt;8 -->\n<g id=\"edge21\" class=\"edge\">\n<title>Start&#45;&gt;8</title>\n<path fill=\"none\" stroke=\"black\" d=\"M1241.12,-260.8C1336.65,-256.07 1491.29,-245.91 1511.63,-229 1543.84,-202.21 1550.95,-151.05 1552.07,-119.4\"/>\n<polygon fill=\"black\" stroke=\"black\" points=\"1555.57,-119.15 1552.24,-109.09 1548.57,-119.03 1555.57,-119.15\"/>\n<text text-anchor=\"middle\" x=\"1563.13\" y=\"-174.3\" font-family=\"Times New Roman,serif\" font-size=\"14.00\">4.stat</text>\n</g>\n<!-- 9 -->\n<g id=\"node10\" class=\"node\">\n<title>9</title>\n<ellipse fill=\"none\" stroke=\"black\" cx=\"1687.63\" cy=\"-178\" rx=\"32.49\" ry=\"18\"/>\n<text text-anchor=\"middle\" x=\"1687.63\" y=\"-174.3\" font-family=\"Times New Roman,serif\" font-size=\"14.00\">/proc/</text>\n</g>\n<!-- Start&#45;&gt;9 -->\n<g id=\"edge22\" class=\"edge\">\n<title>Start&#45;&gt;9</title>\n<path fill=\"none\" stroke=\"black\" d=\"M1241.69,-261.68C1339.96,-257.93 1505.25,-248.84 1562.63,-229 1574.17,-225.01 1574.66,-219.35 1585.63,-214 1605.97,-204.07 1629.86,-195.71 1649.4,-189.65\"/>\n<polygon fill=\"black\" stroke=\"black\" points=\"1650.62,-192.94 1659.18,-186.7 1648.59,-186.24 1650.62,-192.94\"/>\n<text text-anchor=\"middle\" x=\"1608.63\" y=\"-217.8\" font-family=\"Times New Roman,serif\" font-size=\"14.00\">27.open</text>\n</g>\n<!-- Start&#45;&gt;9 -->\n<g id=\"edge23\" class=\"edge\">\n<title>Start&#45;&gt;9</title>\n<path fill=\"none\" stroke=\"black\" d=\"M1242.9,-264.16C1356.82,-263.39 1563.69,-257.88 1631.63,-229 1639.38,-225.71 1653.57,-213 1665.72,-201.23\"/>\n<polygon fill=\"black\" stroke=\"black\" points=\"1668.29,-203.62 1672.96,-194.11 1663.37,-198.63 1668.29,-203.62\"/>\n<text text-anchor=\"middle\" x=\"1675.63\" y=\"-217.8\" font-family=\"Times New Roman,serif\" font-size=\"14.00\">28.lseek</text>\n</g>\n<!-- Start&#45;&gt;9 -->\n<g id=\"edge24\" class=\"edge\">\n<title>Start&#45;&gt;9</title>\n<path fill=\"none\" stroke=\"black\" d=\"M1243.22,-264.64C1384.05,-265 1670.07,-261.63 1700.63,-229 1706.85,-222.37 1706.1,-213.15 1702.94,-204.43\"/>\n<polygon fill=\"black\" stroke=\"black\" points=\"1706.11,-202.95 1698.76,-195.32 1699.74,-205.87 1706.11,-202.95\"/>\n<text text-anchor=\"middle\" x=\"1733.13\" y=\"-217.8\" font-family=\"Times New Roman,serif\" font-size=\"14.00\">30.fstat64</text>\n</g>\n<!-- Start&#45;&gt;9 -->\n<g id=\"edge25\" class=\"edge\">\n<title>Start&#45;&gt;9</title>\n<path fill=\"none\" stroke=\"black\" d=\"M1242.11,-262.29C1399.61,-258.4 1746.97,-247.72 1764.63,-229 1780.7,-211.96 1752.95,-198.01 1726.39,-189.21\"/>\n<polygon fill=\"black\" stroke=\"black\" points=\"1727.33,-185.84 1716.74,-186.21 1725.25,-192.52 1727.33,-185.84\"/>\n<text text-anchor=\"middle\" x=\"1797.13\" y=\"-217.8\" font-family=\"Times New Roman,serif\" font-size=\"14.00\">1.readlink</text>\n</g>\n<!-- 10 -->\n<g id=\"node11\" class=\"node\">\n<title>10</title>\n<ellipse fill=\"none\" stroke=\"black\" cx=\"1870.63\" cy=\"-18\" rx=\"27\" ry=\"18\"/>\n<text text-anchor=\"middle\" x=\"1870.63\" y=\"-14.3\" font-family=\"Times New Roman,serif\" font-size=\"14.00\">bin/</text>\n</g>\n<!-- Start&#45;&gt;10 -->\n<g id=\"edge26\" class=\"edge\">\n<title>Start&#45;&gt;10</title>\n<path fill=\"none\" stroke=\"black\" d=\"M1242.21,-262.45C1411.98,-258.68 1806.77,-247.91 1828.63,-229 1881.48,-183.29 1879.37,-91.52 1874.51,-45.95\"/>\n<polygon fill=\"black\" stroke=\"black\" points=\"1877.98,-45.44 1873.32,-35.93 1871.03,-46.27 1877.98,-45.44\"/>\n<text text-anchor=\"middle\" x=\"1890.13\" y=\"-130.8\" font-family=\"Times New Roman,serif\" font-size=\"14.00\">5.stat</text>\n</g>\n<!-- 11 -->\n<g id=\"node12\" class=\"node\">\n<title>11</title>\n<ellipse fill=\"none\" stroke=\"black\" cx=\"1927.63\" cy=\"-178\" rx=\"27.9\" ry=\"18\"/>\n<text text-anchor=\"middle\" x=\"1927.63\" y=\"-174.3\" font-family=\"Times New Roman,serif\" font-size=\"14.00\">/sys/</text>\n</g>\n<!-- Start&#45;&gt;11 -->\n<g id=\"edge27\" class=\"edge\">\n<title>Start&#45;&gt;11</title>\n<path fill=\"none\" stroke=\"black\" d=\"M1242.73,-263.52C1415.9,-261.97 1825,-255.52 1881.63,-229 1893.53,-223.43 1903.78,-213.24 1911.57,-203.51\"/>\n<polygon fill=\"black\" stroke=\"black\" points=\"1914.59,-205.31 1917.75,-195.2 1908.97,-201.13 1914.59,-205.31\"/>\n<text text-anchor=\"middle\" x=\"1924.63\" y=\"-217.8\" font-family=\"Times New Roman,serif\" font-size=\"14.00\">29.open</text>\n</g>\n<!-- Start&#45;&gt;11 -->\n<g id=\"edge28\" class=\"edge\">\n<title>Start&#45;&gt;11</title>\n<path fill=\"none\" stroke=\"black\" d=\"M1242.75,-263.4C1435.83,-261.54 1926.43,-254.31 1950.63,-229 1957.91,-221.39 1954.66,-211.06 1948.59,-201.76\"/>\n<polygon fill=\"black\" stroke=\"black\" points=\"1951.27,-199.5 1942.45,-193.63 1945.68,-203.72 1951.27,-199.5\"/>\n<text text-anchor=\"middle\" x=\"1976.13\" y=\"-217.8\" font-family=\"Times New Roman,serif\" font-size=\"14.00\">8.statfs</text>\n</g>\n<!-- 12 -->\n<g id=\"node13\" class=\"node\">\n<title>12</title>\n<ellipse fill=\"none\" stroke=\"black\" cx=\"2036.63\" cy=\"-178\" rx=\"61.99\" ry=\"18\"/>\n<text text-anchor=\"middle\" x=\"2036.63\" y=\"-174.3\" font-family=\"Times New Roman,serif\" font-size=\"14.00\">permission_id</text>\n</g>\n<!-- Start&#45;&gt;12 -->\n<g id=\"edge29\" class=\"edge\">\n<title>Start&#45;&gt;12</title>\n<path fill=\"none\" stroke=\"black\" d=\"M1242.98,-264.58C1437.29,-265.5 1935.05,-264.34 2000.63,-229 2010.62,-223.62 2018.51,-214.11 2024.33,-204.82\"/>\n<polygon fill=\"black\" stroke=\"black\" points=\"2027.38,-206.54 2029.27,-196.12 2021.29,-203.08 2027.38,-206.54\"/>\n<text text-anchor=\"middle\" x=\"2044.63\" y=\"-217.8\" font-family=\"Times New Roman,serif\" font-size=\"14.00\">11.umask</text>\n</g>\n<!-- 13 -->\n<g id=\"node14\" class=\"node\">\n<title>13</title>\n<ellipse fill=\"none\" stroke=\"black\" cx=\"2134.63\" cy=\"-91\" rx=\"31.7\" ry=\"18\"/>\n<text text-anchor=\"middle\" x=\"2134.63\" y=\"-87.3\" font-family=\"Times New Roman,serif\" font-size=\"14.00\">^sed$</text>\n</g>\n<!-- Start&#45;&gt;13 -->\n<g id=\"edge30\" class=\"edge\">\n<title>Start&#45;&gt;13</title>\n<path fill=\"none\" stroke=\"black\" d=\"M1243.18,-264.31C1449.39,-264.66 2000.73,-262.41 2075.63,-229 2116.82,-210.63 2129.27,-153.85 2133.03,-119.42\"/>\n<polygon fill=\"black\" stroke=\"black\" points=\"2136.54,-119.38 2133.96,-109.11 2129.57,-118.75 2136.54,-119.38\"/>\n<text text-anchor=\"middle\" x=\"2144.13\" y=\"-174.3\" font-family=\"Times New Roman,serif\" font-size=\"14.00\">6.exec</text>\n</g>\n</g>\n</svg>\n",
      "text/plain": [
       "<graphviz.sources.Source at 0x2b0caf25f00>"
      ]
     },
     "metadata": {},
     "output_type": "display_data"
    },
    {
     "name": "stdout",
     "output_type": "stream",
     "text": [
      "Dofloo-MalwareMustDie.csv raw doc OPset\n"
     ]
    },
    {
     "data": {
      "image/svg+xml": "<?xml version=\"1.0\" encoding=\"UTF-8\" standalone=\"no\"?>\n<!DOCTYPE svg PUBLIC \"-//W3C//DTD SVG 1.1//EN\"\n \"http://www.w3.org/Graphics/SVG/1.1/DTD/svg11.dtd\">\n<!-- Generated by graphviz version 6.0.1 (20220911.1526)\n -->\n<!-- Pages: 1 -->\n<svg width=\"682pt\" height=\"131pt\"\n viewBox=\"0.00 0.00 682.30 131.00\" xmlns=\"http://www.w3.org/2000/svg\" xmlns:xlink=\"http://www.w3.org/1999/xlink\">\n<g id=\"graph0\" class=\"graph\" transform=\"scale(1 1) rotate(0) translate(4 127)\">\n<polygon fill=\"white\" stroke=\"none\" points=\"-4,4 -4,-127 678.3,-127 678.3,4 -4,4\"/>\n<!-- Start -->\n<g id=\"node1\" class=\"node\">\n<title>Start</title>\n<ellipse fill=\"none\" stroke=\"black\" cx=\"330.31\" cy=\"-105\" rx=\"77.19\" ry=\"18\"/>\n<text text-anchor=\"middle\" x=\"330.31\" y=\"-101.3\" font-family=\"Times New Roman,serif\" font-size=\"14.00\">Malware (Subject)</text>\n</g>\n<!-- 1 -->\n<g id=\"node2\" class=\"node\">\n<title>1</title>\n<ellipse fill=\"none\" stroke=\"black\" cx=\"303.31\" cy=\"-18\" rx=\"50.09\" ry=\"18\"/>\n<text text-anchor=\"middle\" x=\"303.31\" y=\"-14.3\" font-family=\"Times New Roman,serif\" font-size=\"14.00\">mem_addr</text>\n</g>\n<!-- Start&#45;&gt;1 -->\n<g id=\"edge1\" class=\"edge\">\n<title>Start&#45;&gt;1</title>\n<path fill=\"none\" stroke=\"black\" d=\"M254.52,-101.11C163.44,-96.83 20.74,-87.29 4.31,-69 -28.61,-32.36 146.46,-22.57 242.96,-19.95\"/>\n<polygon fill=\"black\" stroke=\"black\" points=\"243.28,-23.45 253.19,-19.7 243.1,-16.45 243.28,-23.45\"/>\n<text text-anchor=\"middle\" x=\"20.31\" y=\"-57.8\" font-family=\"Times New Roman,serif\" font-size=\"14.00\">10.go</text>\n</g>\n<!-- Start&#45;&gt;1 -->\n<g id=\"edge2\" class=\"edge\">\n<title>Start&#45;&gt;1</title>\n<path fill=\"none\" stroke=\"black\" d=\"M256.48,-99.42C180.74,-93.96 72.21,-83.67 59.31,-69 54.91,-63.99 54.94,-59.04 59.31,-54 82.62,-27.1 178.66,-20.38 243.07,-18.97\"/>\n<polygon fill=\"black\" stroke=\"black\" points=\"243.19,-22.47 253.12,-18.79 243.06,-15.47 243.19,-22.47\"/>\n<text text-anchor=\"middle\" x=\"71.81\" y=\"-57.8\" font-family=\"Times New Roman,serif\" font-size=\"14.00\">2.be</text>\n</g>\n<!-- Start&#45;&gt;1 -->\n<g id=\"edge3\" class=\"edge\">\n<title>Start&#45;&gt;1</title>\n<path fill=\"none\" stroke=\"black\" d=\"M253.63,-102.27C196.78,-99.18 126.03,-90.89 107.31,-69 102.97,-63.93 103.03,-59.11 107.31,-54 124.43,-33.54 192.17,-25.03 243.26,-21.5\"/>\n<polygon fill=\"black\" stroke=\"black\" points=\"243.8,-24.97 253.56,-20.83 243.35,-17.98 243.8,-24.97\"/>\n<text text-anchor=\"middle\" x=\"123.31\" y=\"-57.8\" font-family=\"Times New Roman,serif\" font-size=\"14.00\">3.add</text>\n</g>\n<!-- Start&#45;&gt;1 -->\n<g id=\"edge4\" class=\"edge\">\n<title>Start&#45;&gt;1</title>\n<path fill=\"none\" stroke=\"black\" d=\"M258.52,-98C218.66,-93.02 174.67,-84.2 162.31,-69 136.78,-37.61 194.52,-25.91 243.65,-21.56\"/>\n<polygon fill=\"black\" stroke=\"black\" points=\"243.96,-25.04 253.65,-20.76 243.4,-18.07 243.96,-25.04\"/>\n<text text-anchor=\"middle\" x=\"208.31\" y=\"-57.8\" font-family=\"Times New Roman,serif\" font-size=\"14.00\">4.r1,r2,r10,r11,lr</text>\n</g>\n<!-- Start&#45;&gt;1 -->\n<g id=\"edge5\" class=\"edge\">\n<title>Start&#45;&gt;1</title>\n<path fill=\"none\" stroke=\"black\" d=\"M296.35,-88.69C288.74,-83.57 281.64,-77.06 277.31,-69 272.88,-60.77 275.37,-51.73 280.24,-43.62\"/>\n<polygon fill=\"black\" stroke=\"black\" points=\"283.24,-45.44 286.23,-35.27 277.56,-41.35 283.24,-45.44\"/>\n<text text-anchor=\"middle\" x=\"292.81\" y=\"-57.8\" font-family=\"Times New Roman,serif\" font-size=\"14.00\">5.svc</text>\n</g>\n<!-- Start&#45;&gt;1 -->\n<g id=\"edge6\" class=\"edge\">\n<title>Start&#45;&gt;1</title>\n<path fill=\"none\" stroke=\"black\" d=\"M324.84,-86.8C321.11,-75.05 316.09,-59.24 311.83,-45.84\"/>\n<polygon fill=\"black\" stroke=\"black\" points=\"315.13,-44.65 308.76,-36.18 308.45,-46.77 315.13,-44.65\"/>\n<text text-anchor=\"middle\" x=\"337.81\" y=\"-57.8\" font-family=\"Times New Roman,serif\" font-size=\"14.00\">1.have</text>\n</g>\n<!-- Start&#45;&gt;1 -->\n<g id=\"edge7\" class=\"edge\">\n<title>Start&#45;&gt;1</title>\n<path fill=\"none\" stroke=\"black\" d=\"M350.05,-87.48C359.13,-77.81 366.63,-65.31 360.31,-54 356.6,-47.38 351.08,-41.86 344.91,-37.31\"/>\n<polygon fill=\"black\" stroke=\"black\" points=\"346.49,-34.17 336.19,-31.69 342.7,-40.05 346.49,-34.17\"/>\n<text text-anchor=\"middle\" x=\"379.81\" y=\"-57.8\" font-family=\"Times New Roman,serif\" font-size=\"14.00\">6.find</text>\n</g>\n<!-- Start&#45;&gt;1 -->\n<g id=\"edge8\" class=\"edge\">\n<title>Start&#45;&gt;1</title>\n<path fill=\"none\" stroke=\"black\" d=\"M374.97,-90.12C394.6,-81.56 411.04,-69.28 400.31,-54 390.85,-40.53 375.68,-32.22 360.11,-27.11\"/>\n<polygon fill=\"black\" stroke=\"black\" points=\"361,-23.72 350.42,-24.31 359.06,-30.45 361,-23.72\"/>\n<text text-anchor=\"middle\" x=\"423.31\" y=\"-57.8\" font-family=\"Times New Roman,serif\" font-size=\"14.00\">8.pack</text>\n</g>\n<!-- Start&#45;&gt;1 -->\n<g id=\"edge10\" class=\"edge\">\n<title>Start&#45;&gt;1</title>\n<path fill=\"none\" stroke=\"black\" d=\"M388.64,-93.14C413.68,-87.18 438.91,-78.96 446.31,-69 450.28,-63.65 450.42,-59.24 446.31,-54 435.54,-40.27 395.58,-31.23 360.64,-25.79\"/>\n<polygon fill=\"black\" stroke=\"black\" points=\"360.87,-22.28 350.47,-24.28 359.85,-29.21 360.87,-22.28\"/>\n<text text-anchor=\"middle\" x=\"473.31\" y=\"-57.8\" font-family=\"Times New Roman,serif\" font-size=\"14.00\">9.eserve</text>\n</g>\n<!-- Start&#45;&gt;1 -->\n<g id=\"edge11\" class=\"edge\">\n<title>Start&#45;&gt;1</title>\n<path fill=\"none\" stroke=\"black\" d=\"M387.44,-92.67C436.45,-82.89 499.38,-70.14 500.31,-69 504.52,-63.83 504.59,-59.11 500.31,-54 483,-33.35 414.31,-24.87 362.87,-21.4\"/>\n<polygon fill=\"black\" stroke=\"black\" points=\"363.04,-17.9 352.84,-20.77 362.6,-24.89 363.04,-17.9\"/>\n<text text-anchor=\"middle\" x=\"522.31\" y=\"-57.8\" font-family=\"Times New Roman,serif\" font-size=\"14.00\">7.look</text>\n</g>\n<!-- 2 -->\n<g id=\"node3\" class=\"node\">\n<title>2</title>\n<ellipse fill=\"none\" stroke=\"black\" cx=\"635.31\" cy=\"-18\" rx=\"38.99\" ry=\"18\"/>\n<text text-anchor=\"middle\" x=\"635.31\" y=\"-14.3\" font-family=\"Times New Roman,serif\" font-size=\"14.00\">ip_addr</text>\n</g>\n<!-- Start&#45;&gt;2 -->\n<g id=\"edge9\" class=\"edge\">\n<title>Start&#45;&gt;2</title>\n<path fill=\"none\" stroke=\"black\" d=\"M386.2,-92.48C396.21,-90.56 406.55,-88.65 416.31,-87 472.95,-77.43 489.79,-87.13 544.31,-69 566.01,-61.78 588.55,-49.44 605.77,-38.82\"/>\n<polygon fill=\"black\" stroke=\"black\" points=\"607.67,-41.76 614.26,-33.46 603.94,-35.84 607.67,-41.76\"/>\n<text text-anchor=\"middle\" x=\"592.81\" y=\"-57.8\" font-family=\"Times New Roman,serif\" font-size=\"14.00\">13.be</text>\n</g>\n<!-- 3 -->\n<g id=\"node4\" class=\"node\">\n<title>3</title>\n<ellipse fill=\"none\" stroke=\"black\" cx=\"457.31\" cy=\"-105\" rx=\"31.7\" ry=\"18\"/>\n<text text-anchor=\"middle\" x=\"457.31\" y=\"-101.3\" font-family=\"Times New Roman,serif\" font-size=\"14.00\">^sed$</text>\n</g>\n</g>\n</svg>\n",
      "text/plain": [
       "<graphviz.graphs.Digraph at 0x2b0f02d0a00>"
      ]
     },
     "metadata": {},
     "output_type": "display_data"
    },
    {
     "name": "stdout",
     "output_type": "stream",
     "text": [
      "Dofloo-Securityaffairs.csv raw doc OPset\n"
     ]
    },
    {
     "data": {
      "image/svg+xml": "<?xml version=\"1.0\" encoding=\"UTF-8\" standalone=\"no\"?>\n<!DOCTYPE svg PUBLIC \"-//W3C//DTD SVG 1.1//EN\"\n \"http://www.w3.org/Graphics/SVG/1.1/DTD/svg11.dtd\">\n<!-- Generated by graphviz version 6.0.1 (20220911.1526)\n -->\n<!-- Pages: 1 -->\n<svg width=\"310pt\" height=\"131pt\"\n viewBox=\"0.00 0.00 309.79 131.00\" xmlns=\"http://www.w3.org/2000/svg\" xmlns:xlink=\"http://www.w3.org/1999/xlink\">\n<g id=\"graph0\" class=\"graph\" transform=\"scale(1 1) rotate(0) translate(4 127)\">\n<polygon fill=\"white\" stroke=\"none\" points=\"-4,4 -4,-127 305.79,-127 305.79,4 -4,4\"/>\n<!-- Start -->\n<g id=\"node1\" class=\"node\">\n<title>Start</title>\n<ellipse fill=\"none\" stroke=\"black\" cx=\"156\" cy=\"-105\" rx=\"77.19\" ry=\"18\"/>\n<text text-anchor=\"middle\" x=\"156\" y=\"-101.3\" font-family=\"Times New Roman,serif\" font-size=\"14.00\">Malware (Subject)</text>\n</g>\n<!-- 1 -->\n<g id=\"node2\" class=\"node\">\n<title>1</title>\n<ellipse fill=\"none\" stroke=\"black\" cx=\"39\" cy=\"-18\" rx=\"38.99\" ry=\"18\"/>\n<text text-anchor=\"middle\" x=\"39\" y=\"-14.3\" font-family=\"Times New Roman,serif\" font-size=\"14.00\">ip_addr</text>\n</g>\n<!-- Start&#45;&gt;1 -->\n<g id=\"edge1\" class=\"edge\">\n<title>Start&#45;&gt;1</title>\n<path fill=\"none\" stroke=\"black\" d=\"M127.14,-88.25C117.34,-82.54 106.47,-75.81 97,-69 85.41,-60.67 73.35,-50.54 63.24,-41.58\"/>\n<polygon fill=\"black\" stroke=\"black\" points=\"65.38,-38.79 55.61,-34.7 60.69,-43.99 65.38,-38.79\"/>\n<text text-anchor=\"middle\" x=\"124.5\" y=\"-57.8\" font-family=\"Times New Roman,serif\" font-size=\"14.00\">2.connect</text>\n</g>\n<!-- 2 -->\n<g id=\"node3\" class=\"node\">\n<title>2</title>\n<ellipse fill=\"none\" stroke=\"black\" cx=\"156\" cy=\"-18\" rx=\"59.59\" ry=\"18\"/>\n<text text-anchor=\"middle\" x=\"156\" y=\"-14.3\" font-family=\"Times New Roman,serif\" font-size=\"14.00\">ip_addr+port</text>\n</g>\n<!-- Start&#45;&gt;2 -->\n<g id=\"edge2\" class=\"edge\">\n<title>Start&#45;&gt;2</title>\n<path fill=\"none\" stroke=\"black\" d=\"M156,-86.8C156,-75.16 156,-59.55 156,-46.24\"/>\n<polygon fill=\"black\" stroke=\"black\" points=\"159.5,-46.18 156,-36.18 152.5,-46.18 159.5,-46.18\"/>\n<text text-anchor=\"middle\" x=\"183.5\" y=\"-57.8\" font-family=\"Times New Roman,serif\" font-size=\"14.00\">1.connect</text>\n</g>\n<!-- 3 -->\n<g id=\"node4\" class=\"node\">\n<title>3</title>\n<ellipse fill=\"none\" stroke=\"black\" cx=\"268\" cy=\"-18\" rx=\"33.6\" ry=\"18\"/>\n<text text-anchor=\"middle\" x=\"268\" y=\"-14.3\" font-family=\"Times New Roman,serif\" font-size=\"14.00\">/etc/rc</text>\n</g>\n<!-- Start&#45;&gt;3 -->\n<g id=\"edge3\" class=\"edge\">\n<title>Start&#45;&gt;3</title>\n<path fill=\"none\" stroke=\"black\" d=\"M185.33,-88.31C195.07,-82.66 205.77,-75.95 215,-69 225.89,-60.79 237.01,-50.63 246.23,-41.61\"/>\n<polygon fill=\"black\" stroke=\"black\" points=\"248.87,-43.92 253.48,-34.38 243.93,-38.96 248.87,-43.92\"/>\n<text text-anchor=\"middle\" x=\"256.5\" y=\"-57.8\" font-family=\"Times New Roman,serif\" font-size=\"14.00\">3.modify</text>\n</g>\n</g>\n</svg>\n",
      "text/plain": [
       "<graphviz.graphs.Digraph at 0x2b0f02d0790>"
      ]
     },
     "metadata": {},
     "output_type": "display_data"
    },
    {
     "name": "stdout",
     "output_type": "stream",
     "text": [
      "Dofloo-Securityaffairs.csv matched doc OPset\n"
     ]
    },
    {
     "data": {
      "image/svg+xml": "<?xml version=\"1.0\" encoding=\"UTF-8\" standalone=\"no\"?>\n<!DOCTYPE svg PUBLIC \"-//W3C//DTD SVG 1.1//EN\"\n \"http://www.w3.org/Graphics/SVG/1.1/DTD/svg11.dtd\">\n<!-- Generated by graphviz version 6.0.1 (20220911.1526)\n -->\n<!-- Pages: 1 -->\n<svg width=\"174pt\" height=\"131pt\"\n viewBox=\"0.00 0.00 174.00 131.00\" xmlns=\"http://www.w3.org/2000/svg\" xmlns:xlink=\"http://www.w3.org/1999/xlink\">\n<g id=\"graph0\" class=\"graph\" transform=\"scale(1 1) rotate(0) translate(4 127)\">\n<polygon fill=\"white\" stroke=\"none\" points=\"-4,4 -4,-127 170,-127 170,4 -4,4\"/>\n<!-- Start -->\n<g id=\"node1\" class=\"node\">\n<title>Start</title>\n<ellipse fill=\"none\" stroke=\"black\" cx=\"84\" cy=\"-105\" rx=\"77.19\" ry=\"18\"/>\n<text text-anchor=\"middle\" x=\"84\" y=\"-101.3\" font-family=\"Times New Roman,serif\" font-size=\"14.00\">Malware (Subject)</text>\n</g>\n<!-- 1 -->\n<g id=\"node2\" class=\"node\">\n<title>1</title>\n<ellipse fill=\"none\" stroke=\"black\" cx=\"39\" cy=\"-18\" rx=\"38.99\" ry=\"18\"/>\n<text text-anchor=\"middle\" x=\"39\" y=\"-14.3\" font-family=\"Times New Roman,serif\" font-size=\"14.00\">ip_addr</text>\n</g>\n<!-- Start&#45;&gt;1 -->\n<g id=\"edge1\" class=\"edge\">\n<title>Start&#45;&gt;1</title>\n<path fill=\"none\" stroke=\"black\" d=\"M66.53,-87.39C61.58,-81.92 56.57,-75.56 53,-69 49.2,-62.03 46.36,-53.95 44.27,-46.34\"/>\n<polygon fill=\"black\" stroke=\"black\" points=\"47.62,-45.29 41.86,-36.4 40.81,-46.94 47.62,-45.29\"/>\n<text text-anchor=\"middle\" x=\"80.5\" y=\"-57.8\" font-family=\"Times New Roman,serif\" font-size=\"14.00\">2.connect</text>\n</g>\n<!-- 2 -->\n<g id=\"node3\" class=\"node\">\n<title>2</title>\n<ellipse fill=\"none\" stroke=\"black\" cx=\"130\" cy=\"-18\" rx=\"33.6\" ry=\"18\"/>\n<text text-anchor=\"middle\" x=\"130\" y=\"-14.3\" font-family=\"Times New Roman,serif\" font-size=\"14.00\">/etc/rc</text>\n</g>\n<!-- Start&#45;&gt;2 -->\n<g id=\"edge2\" class=\"edge\">\n<title>Start&#45;&gt;2</title>\n<path fill=\"none\" stroke=\"black\" d=\"M96.62,-86.96C100.5,-81.38 104.63,-75.05 108,-69 112.15,-61.54 116.1,-53.15 119.48,-45.4\"/>\n<polygon fill=\"black\" stroke=\"black\" points=\"122.76,-46.62 123.42,-36.04 116.31,-43.9 122.76,-46.62\"/>\n<text text-anchor=\"middle\" x=\"140.5\" y=\"-57.8\" font-family=\"Times New Roman,serif\" font-size=\"14.00\">3.modify</text>\n</g>\n</g>\n</svg>\n",
      "text/plain": [
       "<graphviz.graphs.Digraph at 0x2b0f02d0a00>"
      ]
     },
     "metadata": {},
     "output_type": "display_data"
    },
    {
     "name": "stdout",
     "output_type": "stream",
     "text": [
      "matched ASG OPset for doc Dofloo-Securityaffairs.csv\n"
     ]
    },
    {
     "data": {
      "image/svg+xml": "<?xml version=\"1.0\" encoding=\"UTF-8\" standalone=\"no\"?>\n<!DOCTYPE svg PUBLIC \"-//W3C//DTD SVG 1.1//EN\"\n \"http://www.w3.org/Graphics/SVG/1.1/DTD/svg11.dtd\">\n<!-- Generated by graphviz version 6.0.1 (20220911.1526)\n -->\n<!-- Pages: 1 -->\n<svg width=\"181pt\" height=\"131pt\"\n viewBox=\"0.00 0.00 181.00 131.00\" xmlns=\"http://www.w3.org/2000/svg\" xmlns:xlink=\"http://www.w3.org/1999/xlink\">\n<g id=\"graph0\" class=\"graph\" transform=\"scale(1 1) rotate(0) translate(4 127)\">\n<polygon fill=\"white\" stroke=\"none\" points=\"-4,4 -4,-127 177,-127 177,4 -4,4\"/>\n<!-- Start -->\n<g id=\"node1\" class=\"node\">\n<title>Start</title>\n<ellipse fill=\"none\" stroke=\"black\" cx=\"84\" cy=\"-105\" rx=\"77.19\" ry=\"18\"/>\n<text text-anchor=\"middle\" x=\"84\" y=\"-101.3\" font-family=\"Times New Roman,serif\" font-size=\"14.00\">Malware (Subject)</text>\n</g>\n<!-- 1 -->\n<g id=\"node2\" class=\"node\">\n<title>1</title>\n<ellipse fill=\"none\" stroke=\"black\" cx=\"39\" cy=\"-18\" rx=\"38.99\" ry=\"18\"/>\n<text text-anchor=\"middle\" x=\"39\" y=\"-14.3\" font-family=\"Times New Roman,serif\" font-size=\"14.00\">ip_addr</text>\n</g>\n<!-- Start&#45;&gt;1 -->\n<g id=\"edge1\" class=\"edge\">\n<title>Start&#45;&gt;1</title>\n<path fill=\"none\" stroke=\"black\" d=\"M61.11,-87.6C55.3,-82.31 49.66,-75.99 46,-69 42.36,-62.06 40.41,-53.87 39.41,-46.15\"/>\n<polygon fill=\"black\" stroke=\"black\" points=\"42.89,-45.75 38.57,-36.08 35.91,-46.34 42.89,-45.75\"/>\n<text text-anchor=\"middle\" x=\"77\" y=\"-57.8\" font-family=\"Times New Roman,serif\" font-size=\"14.00\">20.connect</text>\n</g>\n<!-- 2 -->\n<g id=\"node3\" class=\"node\">\n<title>2</title>\n<ellipse fill=\"none\" stroke=\"black\" cx=\"130\" cy=\"-18\" rx=\"33.6\" ry=\"18\"/>\n<text text-anchor=\"middle\" x=\"130\" y=\"-14.3\" font-family=\"Times New Roman,serif\" font-size=\"14.00\">/etc/rc</text>\n</g>\n<!-- Start&#45;&gt;2 -->\n<g id=\"edge2\" class=\"edge\">\n<title>Start&#45;&gt;2</title>\n<path fill=\"none\" stroke=\"black\" d=\"M96.62,-86.96C100.5,-81.38 104.63,-75.05 108,-69 112.15,-61.54 116.1,-53.15 119.48,-45.4\"/>\n<polygon fill=\"black\" stroke=\"black\" points=\"122.76,-46.62 123.42,-36.04 116.31,-43.9 122.76,-46.62\"/>\n<text text-anchor=\"middle\" x=\"144\" y=\"-57.8\" font-family=\"Times New Roman,serif\" font-size=\"14.00\">17.rename</text>\n</g>\n</g>\n</svg>\n",
      "text/plain": [
       "<graphviz.graphs.Digraph at 0x2b0f02d0790>"
      ]
     },
     "metadata": {},
     "output_type": "display_data"
    },
    {
     "name": "stdout",
     "output_type": "stream",
     "text": [
      "Dofloo-SyscallParty.csv raw doc OPset\n"
     ]
    },
    {
     "data": {
      "image/svg+xml": "<?xml version=\"1.0\" encoding=\"UTF-8\" standalone=\"no\"?>\n<!DOCTYPE svg PUBLIC \"-//W3C//DTD SVG 1.1//EN\"\n \"http://www.w3.org/Graphics/SVG/1.1/DTD/svg11.dtd\">\n<!-- Generated by graphviz version 6.0.1 (20220911.1526)\n -->\n<!-- Pages: 1 -->\n<svg width=\"587pt\" height=\"131pt\"\n viewBox=\"0.00 0.00 587.29 131.00\" xmlns=\"http://www.w3.org/2000/svg\" xmlns:xlink=\"http://www.w3.org/1999/xlink\">\n<g id=\"graph0\" class=\"graph\" transform=\"scale(1 1) rotate(0) translate(4 127)\">\n<polygon fill=\"white\" stroke=\"none\" points=\"-4,4 -4,-127 583.29,-127 583.29,4 -4,4\"/>\n<!-- Start -->\n<g id=\"node1\" class=\"node\">\n<title>Start</title>\n<ellipse fill=\"none\" stroke=\"black\" cx=\"220.5\" cy=\"-105\" rx=\"77.19\" ry=\"18\"/>\n<text text-anchor=\"middle\" x=\"220.5\" y=\"-101.3\" font-family=\"Times New Roman,serif\" font-size=\"14.00\">Malware (Subject)</text>\n</g>\n<!-- 2 -->\n<g id=\"node3\" class=\"node\">\n<title>2</title>\n<ellipse fill=\"none\" stroke=\"black\" cx=\"32.5\" cy=\"-18\" rx=\"32.49\" ry=\"18\"/>\n<text text-anchor=\"middle\" x=\"32.5\" y=\"-14.3\" font-family=\"Times New Roman,serif\" font-size=\"14.00\">/proc/</text>\n</g>\n<!-- Start&#45;&gt;2 -->\n<g id=\"edge1\" class=\"edge\">\n<title>Start&#45;&gt;2</title>\n<path fill=\"none\" stroke=\"black\" d=\"M144.24,-101.81C89.5,-98.45 22.38,-90.01 4.5,-69 -2.58,-60.68 1.56,-50.29 8.61,-41.15\"/>\n<polygon fill=\"black\" stroke=\"black\" points=\"11.35,-43.33 15.34,-33.51 6.1,-38.7 11.35,-43.33\"/>\n<text text-anchor=\"middle\" x=\"22\" y=\"-57.8\" font-family=\"Times New Roman,serif\" font-size=\"14.00\">8.read</text>\n</g>\n<!-- Start&#45;&gt;2 -->\n<g id=\"edge7\" class=\"edge\">\n<title>Start&#45;&gt;2</title>\n<path fill=\"none\" stroke=\"black\" d=\"M154.34,-95.66C129.65,-90.52 102.13,-82.26 79.5,-69 68.37,-62.48 58.24,-52.53 50.27,-43.22\"/>\n<polygon fill=\"black\" stroke=\"black\" points=\"52.86,-40.86 43.84,-35.3 47.42,-45.27 52.86,-40.86\"/>\n<text text-anchor=\"middle\" x=\"102.5\" y=\"-57.8\" font-family=\"Times New Roman,serif\" font-size=\"14.00\">11.open</text>\n</g>\n<!-- 4 -->\n<g id=\"node5\" class=\"node\">\n<title>4</title>\n<ellipse fill=\"none\" stroke=\"black\" cx=\"185.5\" cy=\"-18\" rx=\"33.6\" ry=\"18\"/>\n<text text-anchor=\"middle\" x=\"185.5\" y=\"-14.3\" font-family=\"Times New Roman,serif\" font-size=\"14.00\">/etc/rc</text>\n</g>\n<!-- Start&#45;&gt;4 -->\n<g id=\"edge2\" class=\"edge\">\n<title>Start&#45;&gt;4</title>\n<path fill=\"none\" stroke=\"black\" d=\"M163.2,-92.88C150.76,-87.7 139.07,-80.11 131.5,-69 122.54,-55.85 135.08,-43.66 150.32,-34.61\"/>\n<polygon fill=\"black\" stroke=\"black\" points=\"152.34,-37.5 159.46,-29.66 149,-31.34 152.34,-37.5\"/>\n<text text-anchor=\"middle\" x=\"147.5\" y=\"-57.8\" font-family=\"Times New Roman,serif\" font-size=\"14.00\">3.add</text>\n</g>\n<!-- Start&#45;&gt;4 -->\n<g id=\"edge5\" class=\"edge\">\n<title>Start&#45;&gt;4</title>\n<path fill=\"none\" stroke=\"black\" d=\"M199.5,-87.45C194.28,-82.17 189.37,-75.88 186.5,-69 183.59,-62.03 182.54,-54.02 182.42,-46.49\"/>\n<polygon fill=\"black\" stroke=\"black\" points=\"185.93,-46.43 182.79,-36.31 178.93,-46.18 185.93,-46.43\"/>\n<text text-anchor=\"middle\" x=\"210.5\" y=\"-57.8\" font-family=\"Times New Roman,serif\" font-size=\"14.00\">7.format</text>\n</g>\n<!-- Start&#45;&gt;4 -->\n<g id=\"edge6\" class=\"edge\">\n<title>Start&#45;&gt;4</title>\n<path fill=\"none\" stroke=\"black\" d=\"M231.23,-87.16C236.17,-77.15 239.86,-64.42 234.5,-54 230.83,-46.88 224.97,-40.88 218.55,-35.98\"/>\n<polygon fill=\"black\" stroke=\"black\" points=\"220.49,-33.06 210.25,-30.35 216.56,-38.86 220.49,-33.06\"/>\n<text text-anchor=\"middle\" x=\"264\" y=\"-57.8\" font-family=\"Times New Roman,serif\" font-size=\"14.00\">5.execute</text>\n</g>\n<!-- 5 -->\n<g id=\"node6\" class=\"node\">\n<title>5</title>\n<ellipse fill=\"none\" stroke=\"black\" cx=\"317.5\" cy=\"-18\" rx=\"31.7\" ry=\"18\"/>\n<text text-anchor=\"middle\" x=\"317.5\" y=\"-14.3\" font-family=\"Times New Roman,serif\" font-size=\"14.00\">^sed$</text>\n</g>\n<!-- Start&#45;&gt;5 -->\n<g id=\"edge3\" class=\"edge\">\n<title>Start&#45;&gt;5</title>\n<path fill=\"none\" stroke=\"black\" d=\"M263.3,-89.87C274.47,-84.65 285.8,-77.79 294.5,-69 300.97,-62.46 305.83,-53.76 309.37,-45.46\"/>\n<polygon fill=\"black\" stroke=\"black\" points=\"312.67,-46.63 312.94,-36.04 306.12,-44.15 312.67,-46.63\"/>\n<text text-anchor=\"middle\" x=\"329.5\" y=\"-57.8\" font-family=\"Times New Roman,serif\" font-size=\"14.00\">6.format</text>\n</g>\n<!-- 6 -->\n<g id=\"node7\" class=\"node\">\n<title>6</title>\n<ellipse fill=\"none\" stroke=\"black\" cx=\"417.5\" cy=\"-18\" rx=\"50.09\" ry=\"18\"/>\n<text text-anchor=\"middle\" x=\"417.5\" y=\"-14.3\" font-family=\"Times New Roman,serif\" font-size=\"14.00\">mem_addr</text>\n</g>\n<!-- Start&#45;&gt;6 -->\n<g id=\"edge4\" class=\"edge\">\n<title>Start&#45;&gt;6</title>\n<path fill=\"none\" stroke=\"black\" d=\"M275.99,-92.43C307.37,-85.38 343.12,-76.34 357.5,-69 370.97,-62.12 384.09,-51.74 394.61,-42.22\"/>\n<polygon fill=\"black\" stroke=\"black\" points=\"397.22,-44.57 402.12,-35.17 392.43,-39.47 397.22,-44.57\"/>\n<text text-anchor=\"middle\" x=\"396.5\" y=\"-57.8\" font-family=\"Times New Roman,serif\" font-size=\"14.00\">1.give</text>\n</g>\n<!-- 7 -->\n<g id=\"node8\" class=\"node\">\n<title>7</title>\n<ellipse fill=\"none\" stroke=\"black\" cx=\"532.5\" cy=\"-18\" rx=\"46.59\" ry=\"18\"/>\n<text text-anchor=\"middle\" x=\"532.5\" y=\"-14.3\" font-family=\"Times New Roman,serif\" font-size=\"14.00\">/etc/init.d/</text>\n</g>\n<!-- Start&#45;&gt;7 -->\n<g id=\"edge8\" class=\"edge\">\n<title>Start&#45;&gt;7</title>\n<path fill=\"none\" stroke=\"black\" d=\"M276.88,-92.57C286.74,-90.65 296.91,-88.72 306.5,-87 355.69,-78.15 369.54,-83.07 417.5,-69 444.91,-60.95 474.45,-48.02 496.72,-37.32\"/>\n<polygon fill=\"black\" stroke=\"black\" points=\"498.34,-40.42 505.79,-32.89 495.27,-34.13 498.34,-40.42\"/>\n<text text-anchor=\"middle\" x=\"471.5\" y=\"-57.8\" font-family=\"Times New Roman,serif\" font-size=\"14.00\">4.add</text>\n</g>\n<!-- 1 -->\n<g id=\"node2\" class=\"node\">\n<title>1</title>\n<ellipse fill=\"none\" stroke=\"black\" cx=\"368.5\" cy=\"-105\" rx=\"52.79\" ry=\"18\"/>\n<text text-anchor=\"middle\" x=\"368.5\" y=\"-101.3\" font-family=\"Times New Roman,serif\" font-size=\"14.00\">uname(.)($)</text>\n</g>\n<!-- 3 -->\n<g id=\"node4\" class=\"node\">\n<title>3</title>\n<ellipse fill=\"none\" stroke=\"black\" cx=\"478.5\" cy=\"-105\" rx=\"38.99\" ry=\"18\"/>\n<text text-anchor=\"middle\" x=\"478.5\" y=\"-101.3\" font-family=\"Times New Roman,serif\" font-size=\"14.00\">ip_addr</text>\n</g>\n</g>\n</svg>\n",
      "text/plain": [
       "<graphviz.graphs.Digraph at 0x2b0f02d0a00>"
      ]
     },
     "metadata": {},
     "output_type": "display_data"
    },
    {
     "name": "stdout",
     "output_type": "stream",
     "text": [
      "Dofloo-SyscallParty.csv matched doc OPset\n"
     ]
    },
    {
     "data": {
      "image/svg+xml": "<?xml version=\"1.0\" encoding=\"UTF-8\" standalone=\"no\"?>\n<!DOCTYPE svg PUBLIC \"-//W3C//DTD SVG 1.1//EN\"\n \"http://www.w3.org/Graphics/SVG/1.1/DTD/svg11.dtd\">\n<!-- Generated by graphviz version 6.0.1 (20220911.1526)\n -->\n<!-- Pages: 1 -->\n<svg width=\"297pt\" height=\"131pt\"\n viewBox=\"0.00 0.00 296.80 131.00\" xmlns=\"http://www.w3.org/2000/svg\" xmlns:xlink=\"http://www.w3.org/1999/xlink\">\n<g id=\"graph0\" class=\"graph\" transform=\"scale(1 1) rotate(0) translate(4 127)\">\n<polygon fill=\"white\" stroke=\"none\" points=\"-4,4 -4,-127 292.8,-127 292.8,4 -4,4\"/>\n<!-- Start -->\n<g id=\"node1\" class=\"node\">\n<title>Start</title>\n<ellipse fill=\"none\" stroke=\"black\" cx=\"172.8\" cy=\"-105\" rx=\"77.19\" ry=\"18\"/>\n<text text-anchor=\"middle\" x=\"172.8\" y=\"-101.3\" font-family=\"Times New Roman,serif\" font-size=\"14.00\">Malware (Subject)</text>\n</g>\n<!-- 1 -->\n<g id=\"node2\" class=\"node\">\n<title>1</title>\n<ellipse fill=\"none\" stroke=\"black\" cx=\"46.8\" cy=\"-18\" rx=\"46.59\" ry=\"18\"/>\n<text text-anchor=\"middle\" x=\"46.8\" y=\"-14.3\" font-family=\"Times New Roman,serif\" font-size=\"14.00\">/etc/init.d/</text>\n</g>\n<!-- Start&#45;&gt;1 -->\n<g id=\"edge1\" class=\"edge\">\n<title>Start&#45;&gt;1</title>\n<path fill=\"none\" stroke=\"black\" d=\"M141,-88.45C130.2,-82.76 118.23,-75.99 107.8,-69 95.47,-60.74 82.64,-50.51 71.96,-41.46\"/>\n<polygon fill=\"black\" stroke=\"black\" points=\"74.1,-38.7 64.24,-34.83 69.54,-44 74.1,-38.7\"/>\n<text text-anchor=\"middle\" x=\"123.8\" y=\"-57.8\" font-family=\"Times New Roman,serif\" font-size=\"14.00\">4.add</text>\n</g>\n<!-- 2 -->\n<g id=\"node3\" class=\"node\">\n<title>2</title>\n<ellipse fill=\"none\" stroke=\"black\" cx=\"145.8\" cy=\"-18\" rx=\"33.6\" ry=\"18\"/>\n<text text-anchor=\"middle\" x=\"145.8\" y=\"-14.3\" font-family=\"Times New Roman,serif\" font-size=\"14.00\">/etc/rc</text>\n</g>\n<!-- Start&#45;&gt;2 -->\n<g id=\"edge2\" class=\"edge\">\n<title>Start&#45;&gt;2</title>\n<path fill=\"none\" stroke=\"black\" d=\"M156.96,-87.07C152.87,-81.69 149,-75.45 146.8,-69 144.35,-61.85 143.45,-53.79 143.33,-46.26\"/>\n<polygon fill=\"black\" stroke=\"black\" points=\"146.84,-46.2 143.6,-36.11 139.84,-46.02 146.84,-46.2\"/>\n<text text-anchor=\"middle\" x=\"162.8\" y=\"-57.8\" font-family=\"Times New Roman,serif\" font-size=\"14.00\">3.add</text>\n</g>\n<!-- 3 -->\n<g id=\"node4\" class=\"node\">\n<title>3</title>\n<ellipse fill=\"none\" stroke=\"black\" cx=\"244.8\" cy=\"-18\" rx=\"32.49\" ry=\"18\"/>\n<text text-anchor=\"middle\" x=\"244.8\" y=\"-14.3\" font-family=\"Times New Roman,serif\" font-size=\"14.00\">/proc/</text>\n</g>\n<!-- Start&#45;&gt;3 -->\n<g id=\"edge3\" class=\"edge\">\n<title>Start&#45;&gt;3</title>\n<path fill=\"none\" stroke=\"black\" d=\"M180.8,-86.8C185.98,-76.66 193.33,-63.92 201.8,-54 206.33,-48.69 211.75,-43.57 217.19,-38.98\"/>\n<polygon fill=\"black\" stroke=\"black\" points=\"219.47,-41.63 225.07,-32.64 215.08,-36.18 219.47,-41.63\"/>\n<text text-anchor=\"middle\" x=\"219.3\" y=\"-57.8\" font-family=\"Times New Roman,serif\" font-size=\"14.00\">8.read</text>\n</g>\n<!-- Start&#45;&gt;3 -->\n<g id=\"edge4\" class=\"edge\">\n<title>Start&#45;&gt;3</title>\n<path fill=\"none\" stroke=\"black\" d=\"M212.67,-89.42C221.88,-84.29 230.74,-77.59 236.8,-69 241.45,-62.41 243.79,-54.12 244.89,-46.19\"/>\n<polygon fill=\"black\" stroke=\"black\" points=\"248.38,-46.4 245.69,-36.16 241.4,-45.84 248.38,-46.4\"/>\n<text text-anchor=\"middle\" x=\"265.8\" y=\"-57.8\" font-family=\"Times New Roman,serif\" font-size=\"14.00\">11.open</text>\n</g>\n</g>\n</svg>\n",
      "text/plain": [
       "<graphviz.graphs.Digraph at 0x2b0f02d0790>"
      ]
     },
     "metadata": {},
     "output_type": "display_data"
    },
    {
     "name": "stdout",
     "output_type": "stream",
     "text": [
      "matched ASG OPset for doc Dofloo-SyscallParty.csv\n"
     ]
    },
    {
     "data": {
      "image/svg+xml": "<?xml version=\"1.0\" encoding=\"UTF-8\" standalone=\"no\"?>\n<!DOCTYPE svg PUBLIC \"-//W3C//DTD SVG 1.1//EN\"\n \"http://www.w3.org/Graphics/SVG/1.1/DTD/svg11.dtd\">\n<!-- Generated by graphviz version 6.0.1 (20220911.1526)\n -->\n<!-- Pages: 1 -->\n<svg width=\"329pt\" height=\"131pt\"\n viewBox=\"0.00 0.00 328.80 131.00\" xmlns=\"http://www.w3.org/2000/svg\" xmlns:xlink=\"http://www.w3.org/1999/xlink\">\n<g id=\"graph0\" class=\"graph\" transform=\"scale(1 1) rotate(0) translate(4 127)\">\n<polygon fill=\"white\" stroke=\"none\" points=\"-4,4 -4,-127 324.8,-127 324.8,4 -4,4\"/>\n<!-- Start -->\n<g id=\"node1\" class=\"node\">\n<title>Start</title>\n<ellipse fill=\"none\" stroke=\"black\" cx=\"179.8\" cy=\"-105\" rx=\"77.19\" ry=\"18\"/>\n<text text-anchor=\"middle\" x=\"179.8\" y=\"-101.3\" font-family=\"Times New Roman,serif\" font-size=\"14.00\">Malware (Subject)</text>\n</g>\n<!-- 1 -->\n<g id=\"node2\" class=\"node\">\n<title>1</title>\n<ellipse fill=\"none\" stroke=\"black\" cx=\"46.8\" cy=\"-18\" rx=\"46.59\" ry=\"18\"/>\n<text text-anchor=\"middle\" x=\"46.8\" y=\"-14.3\" font-family=\"Times New Roman,serif\" font-size=\"14.00\">/etc/init.d/</text>\n</g>\n<!-- Start&#45;&gt;1 -->\n<g id=\"edge1\" class=\"edge\">\n<title>Start&#45;&gt;1</title>\n<path fill=\"none\" stroke=\"black\" d=\"M135.52,-90.16C121.52,-84.72 106.42,-77.66 93.8,-69 83.57,-61.98 73.88,-52.4 65.99,-43.5\"/>\n<polygon fill=\"black\" stroke=\"black\" points=\"68.43,-40.97 59.29,-35.62 63.1,-45.5 68.43,-40.97\"/>\n<text text-anchor=\"middle\" x=\"116.8\" y=\"-57.8\" font-family=\"Times New Roman,serif\" font-size=\"14.00\">18.open</text>\n</g>\n<!-- 2 -->\n<g id=\"node3\" class=\"node\">\n<title>2</title>\n<ellipse fill=\"none\" stroke=\"black\" cx=\"145.8\" cy=\"-18\" rx=\"33.6\" ry=\"18\"/>\n<text text-anchor=\"middle\" x=\"145.8\" y=\"-14.3\" font-family=\"Times New Roman,serif\" font-size=\"14.00\">/etc/rc</text>\n</g>\n<!-- Start&#45;&gt;2 -->\n<g id=\"edge2\" class=\"edge\">\n<title>Start&#45;&gt;2</title>\n<path fill=\"none\" stroke=\"black\" d=\"M159.41,-87.35C154.34,-82.06 149.58,-75.8 146.8,-69 143.94,-62.01 142.91,-53.99 142.79,-46.46\"/>\n<polygon fill=\"black\" stroke=\"black\" points=\"146.3,-46.4 143.14,-36.28 139.3,-46.16 146.3,-46.4\"/>\n<text text-anchor=\"middle\" x=\"169.8\" y=\"-57.8\" font-family=\"Times New Roman,serif\" font-size=\"14.00\">10.open</text>\n</g>\n<!-- 3 -->\n<g id=\"node4\" class=\"node\">\n<title>3</title>\n<ellipse fill=\"none\" stroke=\"black\" cx=\"256.8\" cy=\"-18\" rx=\"32.49\" ry=\"18\"/>\n<text text-anchor=\"middle\" x=\"256.8\" y=\"-14.3\" font-family=\"Times New Roman,serif\" font-size=\"14.00\">/proc/</text>\n</g>\n<!-- Start&#45;&gt;3 -->\n<g id=\"edge3\" class=\"edge\">\n<title>Start&#45;&gt;3</title>\n<path fill=\"none\" stroke=\"black\" d=\"M190.53,-87.02C197.24,-76.96 206.38,-64.23 215.8,-54 220.29,-49.12 225.44,-44.26 230.53,-39.78\"/>\n<polygon fill=\"black\" stroke=\"black\" points=\"233.03,-42.25 238.39,-33.11 228.5,-36.91 233.03,-42.25\"/>\n<text text-anchor=\"middle\" x=\"238.8\" y=\"-57.8\" font-family=\"Times New Roman,serif\" font-size=\"14.00\">27.open</text>\n</g>\n<!-- Start&#45;&gt;3 -->\n<g id=\"edge4\" class=\"edge\">\n<title>Start&#45;&gt;3</title>\n<path fill=\"none\" stroke=\"black\" d=\"M233.1,-91.77C244.4,-86.63 254.97,-79.33 261.8,-69 266.21,-62.32 266.81,-54 265.78,-46.08\"/>\n<polygon fill=\"black\" stroke=\"black\" points=\"269.15,-45.12 263.65,-36.07 262.3,-46.57 269.15,-45.12\"/>\n<text text-anchor=\"middle\" x=\"293.3\" y=\"-57.8\" font-family=\"Times New Roman,serif\" font-size=\"14.00\">1.readlink</text>\n</g>\n</g>\n</svg>\n",
      "text/plain": [
       "<graphviz.graphs.Digraph at 0x2b0f02d0a00>"
      ]
     },
     "metadata": {},
     "output_type": "display_data"
    },
    {
     "name": "stdout",
     "output_type": "stream",
     "text": [
      "Dofloo-Trendmicro.csv raw doc OPset\n"
     ]
    },
    {
     "data": {
      "image/svg+xml": "<?xml version=\"1.0\" encoding=\"UTF-8\" standalone=\"no\"?>\n<!DOCTYPE svg PUBLIC \"-//W3C//DTD SVG 1.1//EN\"\n \"http://www.w3.org/Graphics/SVG/1.1/DTD/svg11.dtd\">\n<!-- Generated by graphviz version 6.0.1 (20220911.1526)\n -->\n<!-- Pages: 1 -->\n<svg width=\"616pt\" height=\"131pt\"\n viewBox=\"0.00 0.00 616.34 131.00\" xmlns=\"http://www.w3.org/2000/svg\" xmlns:xlink=\"http://www.w3.org/1999/xlink\">\n<g id=\"graph0\" class=\"graph\" transform=\"scale(1 1) rotate(0) translate(4 127)\">\n<polygon fill=\"white\" stroke=\"none\" points=\"-4,4 -4,-127 612.34,-127 612.34,4 -4,4\"/>\n<!-- Start -->\n<g id=\"node1\" class=\"node\">\n<title>Start</title>\n<ellipse fill=\"none\" stroke=\"black\" cx=\"278.5\" cy=\"-105\" rx=\"77.19\" ry=\"18\"/>\n<text text-anchor=\"middle\" x=\"278.5\" y=\"-101.3\" font-family=\"Times New Roman,serif\" font-size=\"14.00\">Malware (Subject)</text>\n</g>\n<!-- 1 -->\n<g id=\"node2\" class=\"node\">\n<title>1</title>\n<ellipse fill=\"none\" stroke=\"black\" cx=\"32.5\" cy=\"-18\" rx=\"32.49\" ry=\"18\"/>\n<text text-anchor=\"middle\" x=\"32.5\" y=\"-14.3\" font-family=\"Times New Roman,serif\" font-size=\"14.00\">/proc/</text>\n</g>\n<!-- Start&#45;&gt;1 -->\n<g id=\"edge1\" class=\"edge\">\n<title>Start&#45;&gt;1</title>\n<path fill=\"none\" stroke=\"black\" d=\"M222.65,-92.5C196.98,-86.56 166.34,-78.55 139.5,-69 113.53,-59.76 85.33,-46.44 64.41,-35.87\"/>\n<polygon fill=\"black\" stroke=\"black\" points=\"65.84,-32.67 55.34,-31.23 62.65,-38.9 65.84,-32.67\"/>\n<text text-anchor=\"middle\" x=\"162\" y=\"-57.8\" font-family=\"Times New Roman,serif\" font-size=\"14.00\">4.gather</text>\n</g>\n<!-- 2 -->\n<g id=\"node3\" class=\"node\">\n<title>2</title>\n<ellipse fill=\"none\" stroke=\"black\" cx=\"116.5\" cy=\"-18\" rx=\"33.6\" ry=\"18\"/>\n<text text-anchor=\"middle\" x=\"116.5\" y=\"-14.3\" font-family=\"Times New Roman,serif\" font-size=\"14.00\">/etc/rc</text>\n</g>\n<!-- Start&#45;&gt;2 -->\n<g id=\"edge2\" class=\"edge\">\n<title>Start&#45;&gt;2</title>\n<path fill=\"none\" stroke=\"black\" d=\"M248.41,-88.21C220,-73.31 177.56,-51.04 148.53,-35.81\"/>\n<polygon fill=\"black\" stroke=\"black\" points=\"150.1,-32.68 139.62,-31.13 146.85,-38.88 150.1,-32.68\"/>\n<text text-anchor=\"middle\" x=\"219\" y=\"-57.8\" font-family=\"Times New Roman,serif\" font-size=\"14.00\">2.se</text>\n</g>\n<!-- 3 -->\n<g id=\"node4\" class=\"node\">\n<title>3</title>\n<ellipse fill=\"none\" stroke=\"black\" cx=\"215.5\" cy=\"-18\" rx=\"46.59\" ry=\"18\"/>\n<text text-anchor=\"middle\" x=\"215.5\" y=\"-14.3\" font-family=\"Times New Roman,serif\" font-size=\"14.00\">/etc/init.d/</text>\n</g>\n<!-- Start&#45;&gt;3 -->\n<g id=\"edge3\" class=\"edge\">\n<title>Start&#45;&gt;3</title>\n<path fill=\"none\" stroke=\"black\" d=\"M266.05,-87.21C256.84,-74.79 244.16,-57.67 233.8,-43.7\"/>\n<polygon fill=\"black\" stroke=\"black\" points=\"236.47,-41.42 227.7,-35.47 230.85,-45.59 236.47,-41.42\"/>\n<text text-anchor=\"middle\" x=\"269\" y=\"-57.8\" font-family=\"Times New Roman,serif\" font-size=\"14.00\">3.start</text>\n</g>\n<!-- 4 -->\n<g id=\"node5\" class=\"node\">\n<title>4</title>\n<ellipse fill=\"none\" stroke=\"black\" cx=\"342.5\" cy=\"-18\" rx=\"61.99\" ry=\"18\"/>\n<text text-anchor=\"middle\" x=\"342.5\" y=\"-14.3\" font-family=\"Times New Roman,serif\" font-size=\"14.00\">nsswitch.conf</text>\n</g>\n<!-- Start&#45;&gt;4 -->\n<g id=\"edge4\" class=\"edge\">\n<title>Start&#45;&gt;4</title>\n<path fill=\"none\" stroke=\"black\" d=\"M291.14,-87.21C300.43,-74.87 313.21,-57.89 323.7,-43.97\"/>\n<polygon fill=\"black\" stroke=\"black\" points=\"326.66,-45.85 329.88,-35.76 321.07,-41.64 326.66,-45.85\"/>\n<text text-anchor=\"middle\" x=\"334\" y=\"-57.8\" font-family=\"Times New Roman,serif\" font-size=\"14.00\">8.open</text>\n</g>\n<!-- 6 -->\n<g id=\"node7\" class=\"node\">\n<title>6</title>\n<ellipse fill=\"none\" stroke=\"black\" cx=\"474.5\" cy=\"-18\" rx=\"51.99\" ry=\"18\"/>\n<text text-anchor=\"middle\" x=\"474.5\" y=\"-14.3\" font-family=\"Times New Roman,serif\" font-size=\"14.00\">resolv.conf</text>\n</g>\n<!-- Start&#45;&gt;6 -->\n<g id=\"edge5\" class=\"edge\">\n<title>Start&#45;&gt;6</title>\n<path fill=\"none\" stroke=\"black\" d=\"M313.54,-88.8C347.26,-74.18 398.21,-52.08 433.73,-36.68\"/>\n<polygon fill=\"black\" stroke=\"black\" points=\"435.53,-39.71 443.31,-32.52 432.75,-33.29 435.53,-39.71\"/>\n<text text-anchor=\"middle\" x=\"408\" y=\"-57.8\" font-family=\"Times New Roman,serif\" font-size=\"14.00\">7.open</text>\n</g>\n<!-- 8 -->\n<g id=\"node9\" class=\"node\">\n<title>8</title>\n<ellipse fill=\"none\" stroke=\"black\" cx=\"576.5\" cy=\"-18\" rx=\"31.7\" ry=\"18\"/>\n<text text-anchor=\"middle\" x=\"576.5\" y=\"-14.3\" font-family=\"Times New Roman,serif\" font-size=\"14.00\">^sed$</text>\n</g>\n<!-- Start&#45;&gt;8 -->\n<g id=\"edge6\" class=\"edge\">\n<title>Start&#45;&gt;8</title>\n<path fill=\"none\" stroke=\"black\" d=\"M334.01,-92.46C363.17,-86.1 399.42,-77.74 431.5,-69 478.28,-56.25 489.95,-52.64 535.5,-36 537.76,-35.17 540.08,-34.3 542.4,-33.39\"/>\n<polygon fill=\"black\" stroke=\"black\" points=\"543.93,-36.55 551.92,-29.59 541.33,-30.05 543.93,-36.55\"/>\n<text text-anchor=\"middle\" x=\"494\" y=\"-57.8\" font-family=\"Times New Roman,serif\" font-size=\"14.00\">1.se</text>\n</g>\n<!-- 5 -->\n<g id=\"node6\" class=\"node\">\n<title>5</title>\n<ellipse fill=\"none\" stroke=\"black\" cx=\"401.5\" cy=\"-105\" rx=\"27.9\" ry=\"18\"/>\n<text text-anchor=\"middle\" x=\"401.5\" y=\"-101.3\" font-family=\"Times New Roman,serif\" font-size=\"14.00\">/sys/</text>\n</g>\n<!-- 7 -->\n<g id=\"node8\" class=\"node\">\n<title>7</title>\n<ellipse fill=\"none\" stroke=\"black\" cx=\"474.5\" cy=\"-105\" rx=\"27\" ry=\"18\"/>\n<text text-anchor=\"middle\" x=\"474.5\" y=\"-101.3\" font-family=\"Times New Roman,serif\" font-size=\"14.00\">UID</text>\n</g>\n</g>\n</svg>\n",
      "text/plain": [
       "<graphviz.graphs.Digraph at 0x2b0f02d0790>"
      ]
     },
     "metadata": {},
     "output_type": "display_data"
    },
    {
     "name": "stdout",
     "output_type": "stream",
     "text": [
      "Dofloo-Trendmicro.csv matched doc OPset\n"
     ]
    },
    {
     "data": {
      "image/svg+xml": "<?xml version=\"1.0\" encoding=\"UTF-8\" standalone=\"no\"?>\n<!DOCTYPE svg PUBLIC \"-//W3C//DTD SVG 1.1//EN\"\n \"http://www.w3.org/Graphics/SVG/1.1/DTD/svg11.dtd\">\n<!-- Generated by graphviz version 6.0.1 (20220911.1526)\n -->\n<!-- Pages: 1 -->\n<svg width=\"163pt\" height=\"131pt\"\n viewBox=\"0.00 0.00 162.69 131.00\" xmlns=\"http://www.w3.org/2000/svg\" xmlns:xlink=\"http://www.w3.org/1999/xlink\">\n<g id=\"graph0\" class=\"graph\" transform=\"scale(1 1) rotate(0) translate(4 127)\">\n<polygon fill=\"white\" stroke=\"none\" points=\"-4,4 -4,-127 158.69,-127 158.69,4 -4,4\"/>\n<!-- Start -->\n<g id=\"node1\" class=\"node\">\n<title>Start</title>\n<ellipse fill=\"none\" stroke=\"black\" cx=\"77.34\" cy=\"-105\" rx=\"77.19\" ry=\"18\"/>\n<text text-anchor=\"middle\" x=\"77.34\" y=\"-101.3\" font-family=\"Times New Roman,serif\" font-size=\"14.00\">Malware (Subject)</text>\n</g>\n<!-- 1 -->\n<g id=\"node2\" class=\"node\">\n<title>1</title>\n<ellipse fill=\"none\" stroke=\"black\" cx=\"77.34\" cy=\"-18\" rx=\"32.49\" ry=\"18\"/>\n<text text-anchor=\"middle\" x=\"77.34\" y=\"-14.3\" font-family=\"Times New Roman,serif\" font-size=\"14.00\">/proc/</text>\n</g>\n<!-- Start&#45;&gt;1 -->\n<g id=\"edge1\" class=\"edge\">\n<title>Start&#45;&gt;1</title>\n<path fill=\"none\" stroke=\"black\" d=\"M77.34,-86.8C77.34,-75.16 77.34,-59.55 77.34,-46.24\"/>\n<polygon fill=\"black\" stroke=\"black\" points=\"80.84,-46.18 77.34,-36.18 73.84,-46.18 80.84,-46.18\"/>\n<text text-anchor=\"middle\" x=\"99.84\" y=\"-57.8\" font-family=\"Times New Roman,serif\" font-size=\"14.00\">4.gather</text>\n</g>\n</g>\n</svg>\n",
      "text/plain": [
       "<graphviz.graphs.Digraph at 0x2b0f02d0a00>"
      ]
     },
     "metadata": {},
     "output_type": "display_data"
    },
    {
     "name": "stdout",
     "output_type": "stream",
     "text": [
      "matched ASG OPset for doc Dofloo-Trendmicro.csv\n"
     ]
    },
    {
     "data": {
      "image/svg+xml": "<?xml version=\"1.0\" encoding=\"UTF-8\" standalone=\"no\"?>\n<!DOCTYPE svg PUBLIC \"-//W3C//DTD SVG 1.1//EN\"\n \"http://www.w3.org/Graphics/SVG/1.1/DTD/svg11.dtd\">\n<!-- Generated by graphviz version 6.0.1 (20220911.1526)\n -->\n<!-- Pages: 1 -->\n<svg width=\"163pt\" height=\"131pt\"\n viewBox=\"0.00 0.00 162.69 131.00\" xmlns=\"http://www.w3.org/2000/svg\" xmlns:xlink=\"http://www.w3.org/1999/xlink\">\n<g id=\"graph0\" class=\"graph\" transform=\"scale(1 1) rotate(0) translate(4 127)\">\n<polygon fill=\"white\" stroke=\"none\" points=\"-4,4 -4,-127 158.69,-127 158.69,4 -4,4\"/>\n<!-- Start -->\n<g id=\"node1\" class=\"node\">\n<title>Start</title>\n<ellipse fill=\"none\" stroke=\"black\" cx=\"77.34\" cy=\"-105\" rx=\"77.19\" ry=\"18\"/>\n<text text-anchor=\"middle\" x=\"77.34\" y=\"-101.3\" font-family=\"Times New Roman,serif\" font-size=\"14.00\">Malware (Subject)</text>\n</g>\n<!-- 1 -->\n<g id=\"node2\" class=\"node\">\n<title>1</title>\n<ellipse fill=\"none\" stroke=\"black\" cx=\"77.34\" cy=\"-18\" rx=\"32.49\" ry=\"18\"/>\n<text text-anchor=\"middle\" x=\"77.34\" y=\"-14.3\" font-family=\"Times New Roman,serif\" font-size=\"14.00\">/proc/</text>\n</g>\n<!-- Start&#45;&gt;1 -->\n<g id=\"edge1\" class=\"edge\">\n<title>Start&#45;&gt;1</title>\n<path fill=\"none\" stroke=\"black\" d=\"M77.34,-86.8C77.34,-75.16 77.34,-59.55 77.34,-46.24\"/>\n<polygon fill=\"black\" stroke=\"black\" points=\"80.84,-46.18 77.34,-36.18 73.84,-46.18 80.84,-46.18\"/>\n<text text-anchor=\"middle\" x=\"104.84\" y=\"-57.8\" font-family=\"Times New Roman,serif\" font-size=\"14.00\">1.readlink</text>\n</g>\n</g>\n</svg>\n",
      "text/plain": [
       "<graphviz.graphs.Digraph at 0x2b0f02d0790>"
      ]
     },
     "metadata": {},
     "output_type": "display_data"
    }
   ],
   "source": [
    "import graphviz\n",
    "\n",
    "class ItemMapper:\n",
    "    def __init__(self) -> None:\n",
    "        self.mapper = {}\n",
    "        self.index_counter:int = 1\n",
    "        # self.pretty_name = {\n",
    "        #     \"\\d{1,3}\\.\\d{1,3}\\.\\d{1,3}\\.\\d{1,3}\": \"ip_addr\",\n",
    "        #     \"\\d{1,3}\\.\\d{1,3}\\.\\d{1,3}\\.\\d{1,3}:\\d+\": \"ip_addr+port\",\n",
    "        #     \"0x[0-9a-zA-Z]{8}\": \"mem_addr\",\n",
    "        #     \"permission:{0,1}[0-9]{0,4}\": \"permission_id\"\n",
    "        # }\n",
    "        pass\n",
    "    def addItem(self, item:str) -> str:\n",
    "        # item = self.prettifyName(item) # 先不在這做~\n",
    "        if item in self.mapper.keys():\n",
    "            return self.mapper.get(item)\n",
    "        self.mapper[item] = str(self.index_counter)\n",
    "        self.index_counter += 1\n",
    "        return str(self.index_counter - 1)\n",
    "    def getSymbol(self, item:str):\n",
    "        return self.mapper.get(item, None)\n",
    "    # def prettifyName(self, item:str) -> str:\n",
    "    #     changed = self.pretty_name.get(item, None)\n",
    "    #     if changed:\n",
    "    #         return changed\n",
    "    #     return item\n",
    "\n",
    "def draw_asg_op_graph(asg_OPset: list[OperationPair], family=None):\n",
    "    dot = graphviz.Digraph(f'{family}_asg_OPset', comment='The Operational Pair Graph') \n",
    "    dot.node('Start', label=\"Malware (Subject)\")\n",
    "    mapper = ItemMapper()\n",
    "    for op in asg_OPset:\n",
    "        node_id = mapper.addItem(op.object)\n",
    "        dot.node(node_id, label=prettifyName(op.object)) # rename partial regex\n",
    "        if op.action:\n",
    "            dot.edge('Start', node_id, label=f\"{op.step_number}.{op.action}\")\n",
    "\n",
    "    # dot.graph_attr.update(ratio=\"0.4\")\n",
    "    u = dot.unflatten(stagger=3, fanout=True)\n",
    "    display(u)\n",
    "    del mapper\n",
    "    return u\n",
    "\n",
    "def draw_ctd_op_graph(fset:FamilySet):\n",
    "    for rem in fset.rem_lst:\n",
    "        # doc_OPset\n",
    "        if rem.doc_OPset is None or len(rem.doc_OPset) == 0:\n",
    "            continue\n",
    "        dot = graphviz.Digraph()\n",
    "        dot.node('Start', label=\"Malware (Subject)\")\n",
    "        mapper = ItemMapper()\n",
    "        for op in rem.doc_OPset:\n",
    "            node_id = mapper.addItem(op.object)\n",
    "            dot.node(node_id, label=prettifyName(op.object))\n",
    "            if op.action:\n",
    "                dot.edge('Start', node_id, label=f\"{op.step_number}.{op.action}\")\n",
    "        print(f\"{rem.reportname} raw doc OPset\")\n",
    "        display(dot)\n",
    "        del mapper\n",
    "\n",
    "        # match_doc_OPset\n",
    "        if rem.match_doc_OPset is None or len(rem.match_doc_OPset) == 0:\n",
    "            continue\n",
    "        dot = graphviz.Digraph()\n",
    "        dot.node('Start', label=\"Malware (Subject)\")\n",
    "        mapper = ItemMapper()\n",
    "        for op in rem.match_doc_OPset:\n",
    "            node_id = mapper.addItem(op.object)\n",
    "            dot.node(node_id, label=prettifyName(op.object))\n",
    "            if op.action:\n",
    "                dot.edge('Start', node_id, label=f\"{op.step_number}.{op.action}\")\n",
    "        print(f\"{rem.reportname} matched doc OPset\")\n",
    "        display(dot)\n",
    "        del mapper\n",
    "\n",
    "        # match_ASG_OPset\n",
    "        if rem.OPset_order_index is None or len(rem.OPset_order_index) == 0:\n",
    "            continue\n",
    "        dot = graphviz.Digraph()\n",
    "        dot.node('Start', label=\"Malware (Subject)\")\n",
    "        mapper = ItemMapper()\n",
    "        for op in [fset.sample.OPset_ordered[i] for i in rem.OPset_order_index]:\n",
    "            node_id = mapper.addItem(op.object)\n",
    "            dot.node(node_id, label=prettifyName(op.object))\n",
    "            if op.action:\n",
    "                dot.edge('Start', node_id, label=f\"{op.step_number}.{op.action}\")\n",
    "        print(f\"matched ASG OPset for doc {rem.reportname}\")\n",
    "        display(dot)\n",
    "        del mapper\n",
    "    return\n",
    "\n",
    "draw_asg_op_graph(sample.OPset, family=family)\n",
    "draw_ctd_op_graph(fset)"
   ]
  },
  {
   "attachments": {},
   "cell_type": "markdown",
   "metadata": {},
   "source": [
    "### Run Script: print matched sentence for specific document"
   ]
  },
  {
   "cell_type": "code",
   "execution_count": 17,
   "metadata": {},
   "outputs": [
    {
     "data": {
      "text/html": [
       "<div>\n",
       "<style scoped>\n",
       "    .dataframe tbody tr th:only-of-type {\n",
       "        vertical-align: middle;\n",
       "    }\n",
       "\n",
       "    .dataframe tbody tr th {\n",
       "        vertical-align: top;\n",
       "    }\n",
       "\n",
       "    .dataframe thead th {\n",
       "        text-align: right;\n",
       "    }\n",
       "</style>\n",
       "<table border=\"1\" class=\"dataframe\">\n",
       "  <thead>\n",
       "    <tr style=\"text-align: right;\">\n",
       "      <th></th>\n",
       "      <th>report</th>\n",
       "      <th>word</th>\n",
       "      <th>verb</th>\n",
       "      <th>objectType</th>\n",
       "      <th>prettyReg</th>\n",
       "      <th>match</th>\n",
       "      <th>label</th>\n",
       "      <th>sentence</th>\n",
       "    </tr>\n",
       "  </thead>\n",
       "  <tbody>\n",
       "    <tr>\n",
       "      <th>0</th>\n",
       "      <td>Dofloo-MalwareMustDie.csv</td>\n",
       "      <td>0x0002fcab</td>\n",
       "      <td>go</td>\n",
       "      <td>MEM</td>\n",
       "      <td>mem_addr</td>\n",
       "      <td>0</td>\n",
       "      <td>0</td>\n",
       "      <td>,0x24,0xa,0 0x0002fcab                 dcb 0x0...</td>\n",
       "    </tr>\n",
       "    <tr>\n",
       "      <th>1</th>\n",
       "      <td>Dofloo-MalwareMustDie.csv</td>\n",
       "      <td>0x000d0c24</td>\n",
       "      <td>be</td>\n",
       "      <td>MEM</td>\n",
       "      <td>mem_addr</td>\n",
       "      <td>0</td>\n",
       "      <td>0</td>\n",
       "      <td>so as you can see it was served from sept 10th...</td>\n",
       "    </tr>\n",
       "    <tr>\n",
       "      <th>2</th>\n",
       "      <td>Dofloo-MalwareMustDie.csv</td>\n",
       "      <td>0x0002f118</td>\n",
       "      <td>add</td>\n",
       "      <td>MEM</td>\n",
       "      <td>mem_addr</td>\n",
       "      <td>0</td>\n",
       "      <td>0</td>\n",
       "      <td>1 2 3 4 5 6 7 8 9 10 11 12 13 14 15 16 17 18 1...</td>\n",
       "    </tr>\n",
       "    <tr>\n",
       "      <th>3</th>\n",
       "      <td>Dofloo-MalwareMustDie.csv</td>\n",
       "      <td>0x0002f120</td>\n",
       "      <td>r1,r2,r10,r11,lr</td>\n",
       "      <td>MEM</td>\n",
       "      <td>mem_addr</td>\n",
       "      <td>0</td>\n",
       "      <td>0</td>\n",
       "      <td>1 2 3 4 5 6 7 8 9 10 11 12 13 14 15 16 17 18 1...</td>\n",
       "    </tr>\n",
       "    <tr>\n",
       "      <th>4</th>\n",
       "      <td>Dofloo-MalwareMustDie.csv</td>\n",
       "      <td>182.254.180.0/23</td>\n",
       "      <td>None</td>\n",
       "      <td>NET</td>\n",
       "      <td>ip_addr</td>\n",
       "      <td>0</td>\n",
       "      <td>0</td>\n",
       "      <td>None</td>\n",
       "    </tr>\n",
       "    <tr>\n",
       "      <th>5</th>\n",
       "      <td>Dofloo-MalwareMustDie.csv</td>\n",
       "      <td>0x0002f144</td>\n",
       "      <td>svc</td>\n",
       "      <td>MEM</td>\n",
       "      <td>mem_addr</td>\n",
       "      <td>0</td>\n",
       "      <td>0</td>\n",
       "      <td>1 2 3 4 5 6 7 8 9 10 11 12 13 14 15 16 17 18 1...</td>\n",
       "    </tr>\n",
       "    <tr>\n",
       "      <th>6</th>\n",
       "      <td>Dofloo-MalwareMustDie.csv</td>\n",
       "      <td>0x00008000</td>\n",
       "      <td>have</td>\n",
       "      <td>MEM</td>\n",
       "      <td>mem_addr</td>\n",
       "      <td>0</td>\n",
       "      <td>0</td>\n",
       "      <td>so as you can see it was served from sept 10th...</td>\n",
       "    </tr>\n",
       "    <tr>\n",
       "      <th>7</th>\n",
       "      <td>Dofloo-MalwareMustDie.csv</td>\n",
       "      <td>0x0002fbd0</td>\n",
       "      <td>find</td>\n",
       "      <td>MEM</td>\n",
       "      <td>mem_addr</td>\n",
       "      <td>0</td>\n",
       "      <td>0</td>\n",
       "      <td>1 2 3 4 5 6 7 8 9 10 11 12 13 14 15 16 17 18 1...</td>\n",
       "    </tr>\n",
       "    <tr>\n",
       "      <th>8</th>\n",
       "      <td>Dofloo-MalwareMustDie.csv</td>\n",
       "      <td>sed</td>\n",
       "      <td>None</td>\n",
       "      <td>PROC</td>\n",
       "      <td>^sed$</td>\n",
       "      <td>0</td>\n",
       "      <td>0</td>\n",
       "      <td>None</td>\n",
       "    </tr>\n",
       "    <tr>\n",
       "      <th>9</th>\n",
       "      <td>Dofloo-MalwareMustDie.csv</td>\n",
       "      <td>0x0002fc0e</td>\n",
       "      <td>pack</td>\n",
       "      <td>MEM</td>\n",
       "      <td>mem_addr</td>\n",
       "      <td>0</td>\n",
       "      <td>0</td>\n",
       "      <td>i look from its dcb data from where it was cal...</td>\n",
       "    </tr>\n",
       "    <tr>\n",
       "      <th>10</th>\n",
       "      <td>Dofloo-MalwareMustDie.csv</td>\n",
       "      <td>182.254.180.241</td>\n",
       "      <td>be</td>\n",
       "      <td>NET</td>\n",
       "      <td>ip_addr</td>\n",
       "      <td>0</td>\n",
       "      <td>0</td>\n",
       "      <td>1 2 .text:0x09e68 ldr  r0, =unk_0x08c5c4  &lt;-- ...</td>\n",
       "    </tr>\n",
       "    <tr>\n",
       "      <th>11</th>\n",
       "      <td>Dofloo-MalwareMustDie.csv</td>\n",
       "      <td>0x6c00031a,</td>\n",
       "      <td>None</td>\n",
       "      <td>MEM</td>\n",
       "      <td>mem_addr</td>\n",
       "      <td>0</td>\n",
       "      <td>0</td>\n",
       "      <td>None</td>\n",
       "    </tr>\n",
       "    <tr>\n",
       "      <th>12</th>\n",
       "      <td>Dofloo-MalwareMustDie.csv</td>\n",
       "      <td>0x0002fc5f</td>\n",
       "      <td>eserve</td>\n",
       "      <td>MEM</td>\n",
       "      <td>mem_addr</td>\n",
       "      <td>0</td>\n",
       "      <td>0</td>\n",
       "      <td>all rights r 0x0002fc5f                 dcb es...</td>\n",
       "    </tr>\n",
       "    <tr>\n",
       "      <th>13</th>\n",
       "      <td>Dofloo-MalwareMustDie.csv</td>\n",
       "      <td>0x0002fbf0</td>\n",
       "      <td>look</td>\n",
       "      <td>MEM</td>\n",
       "      <td>mem_addr</td>\n",
       "      <td>0</td>\n",
       "      <td>0</td>\n",
       "      <td>i look from its dcb data from where it was cal...</td>\n",
       "    </tr>\n",
       "    <tr>\n",
       "      <th>14</th>\n",
       "      <td>Dofloo-Securityaffairs.csv</td>\n",
       "      <td>23.224.59.34:48080</td>\n",
       "      <td>connect</td>\n",
       "      <td>NET</td>\n",
       "      <td>ip_addr</td>\n",
       "      <td>1</td>\n",
       "      <td>1</td>\n",
       "      <td>the malware also connects to 23.224.59.34:4808...</td>\n",
       "    </tr>\n",
       "    <tr>\n",
       "      <th>15</th>\n",
       "      <td>Dofloo-Securityaffairs.csv</td>\n",
       "      <td>23.224.59.34:48080</td>\n",
       "      <td>connect</td>\n",
       "      <td>FILE</td>\n",
       "      <td>ip_addr+port</td>\n",
       "      <td>0</td>\n",
       "      <td>0</td>\n",
       "      <td>the malware also connects to 23.224.59.34:4808...</td>\n",
       "    </tr>\n",
       "    <tr>\n",
       "      <th>16</th>\n",
       "      <td>Dofloo-Securityaffairs.csv</td>\n",
       "      <td>/etc/rc.d/rc.local,</td>\n",
       "      <td>None</td>\n",
       "      <td>FILE</td>\n",
       "      <td>/etc/rc</td>\n",
       "      <td>0</td>\n",
       "      <td>0</td>\n",
       "      <td>None</td>\n",
       "    </tr>\n",
       "    <tr>\n",
       "      <th>17</th>\n",
       "      <td>Dofloo-Securityaffairs.csv</td>\n",
       "      <td>/etc/rc.local</td>\n",
       "      <td>modify</td>\n",
       "      <td>FILE</td>\n",
       "      <td>/etc/rc</td>\n",
       "      <td>1</td>\n",
       "      <td>1</td>\n",
       "      <td>trend micro researchers also discovered that t...</td>\n",
       "    </tr>\n",
       "    <tr>\n",
       "      <th>18</th>\n",
       "      <td>Dofloo-SyscallParty.csv</td>\n",
       "      <td>‘uname’</td>\n",
       "      <td>None</td>\n",
       "      <td>FILE</td>\n",
       "      <td>uname(.)($)</td>\n",
       "      <td>0</td>\n",
       "      <td>0</td>\n",
       "      <td>None</td>\n",
       "    </tr>\n",
       "    <tr>\n",
       "      <th>19</th>\n",
       "      <td>Dofloo-SyscallParty.csv</td>\n",
       "      <td>/proc/net/dev</td>\n",
       "      <td>read</td>\n",
       "      <td>FILE</td>\n",
       "      <td>/proc/</td>\n",
       "      <td>1</td>\n",
       "      <td>1</td>\n",
       "      <td>the way the malware gets information regarding...</td>\n",
       "    </tr>\n",
       "    <tr>\n",
       "      <th>20</th>\n",
       "      <td>Dofloo-SyscallParty.csv</td>\n",
       "      <td>61.147.91.53.</td>\n",
       "      <td>None</td>\n",
       "      <td>NET</td>\n",
       "      <td>ip_addr</td>\n",
       "      <td>0</td>\n",
       "      <td>0</td>\n",
       "      <td>None</td>\n",
       "    </tr>\n",
       "    <tr>\n",
       "      <th>21</th>\n",
       "      <td>Dofloo-SyscallParty.csv</td>\n",
       "      <td>/etc/rc.local</td>\n",
       "      <td>add</td>\n",
       "      <td>FILE</td>\n",
       "      <td>/etc/rc</td>\n",
       "      <td>1</td>\n",
       "      <td>1</td>\n",
       "      <td>persistence persistence is achieved by the mal...</td>\n",
       "    </tr>\n",
       "    <tr>\n",
       "      <th>22</th>\n",
       "      <td>Dofloo-SyscallParty.csv</td>\n",
       "      <td>sed</td>\n",
       "      <td>format</td>\n",
       "      <td>PROC</td>\n",
       "      <td>^sed$</td>\n",
       "      <td>0</td>\n",
       "      <td>0</td>\n",
       "      <td>a string is formatted and the sed program is c...</td>\n",
       "    </tr>\n",
       "    <tr>\n",
       "      <th>23</th>\n",
       "      <td>Dofloo-SyscallParty.csv</td>\n",
       "      <td>vaddr=0x00013dec</td>\n",
       "      <td>give</td>\n",
       "      <td>MEM</td>\n",
       "      <td>mem_addr</td>\n",
       "      <td>0</td>\n",
       "      <td>0</td>\n",
       "      <td>which gives us the following output:  vaddr=0x...</td>\n",
       "    </tr>\n",
       "    <tr>\n",
       "      <th>24</th>\n",
       "      <td>Dofloo-SyscallParty.csv</td>\n",
       "      <td>/proc/self/exe</td>\n",
       "      <td>None</td>\n",
       "      <td>FILE</td>\n",
       "      <td>/proc/</td>\n",
       "      <td>0</td>\n",
       "      <td>0</td>\n",
       "      <td>None</td>\n",
       "    </tr>\n",
       "    <tr>\n",
       "      <th>25</th>\n",
       "      <td>Dofloo-SyscallParty.csv</td>\n",
       "      <td>/etc/rc.local</td>\n",
       "      <td>format</td>\n",
       "      <td>FILE</td>\n",
       "      <td>/etc/rc</td>\n",
       "      <td>0</td>\n",
       "      <td>0</td>\n",
       "      <td>a string is formatted and the sed program is c...</td>\n",
       "    </tr>\n",
       "    <tr>\n",
       "      <th>26</th>\n",
       "      <td>Dofloo-SyscallParty.csv</td>\n",
       "      <td>/etc/rc.local</td>\n",
       "      <td>execute</td>\n",
       "      <td>FILE</td>\n",
       "      <td>/etc/rc</td>\n",
       "      <td>0</td>\n",
       "      <td>0</td>\n",
       "      <td>the /etc/rc.local will execute certain command...</td>\n",
       "    </tr>\n",
       "    <tr>\n",
       "      <th>27</th>\n",
       "      <td>Dofloo-SyscallParty.csv</td>\n",
       "      <td>/proc/cpuinfo</td>\n",
       "      <td>open</td>\n",
       "      <td>FILE</td>\n",
       "      <td>/proc/</td>\n",
       "      <td>1</td>\n",
       "      <td>1</td>\n",
       "      <td>the virtual file /proc/cpuinfo is opened and r...</td>\n",
       "    </tr>\n",
       "    <tr>\n",
       "      <th>28</th>\n",
       "      <td>Dofloo-SyscallParty.csv</td>\n",
       "      <td>/etc/init.d/boot.local</td>\n",
       "      <td>add</td>\n",
       "      <td>FILE</td>\n",
       "      <td>/etc/init.d/</td>\n",
       "      <td>1</td>\n",
       "      <td>1</td>\n",
       "      <td>persistence persistence is achieved by the mal...</td>\n",
       "    </tr>\n",
       "    <tr>\n",
       "      <th>29</th>\n",
       "      <td>Dofloo-Trendmicro.csv</td>\n",
       "      <td>/proc/stat</td>\n",
       "      <td>gather</td>\n",
       "      <td>FILE</td>\n",
       "      <td>/proc/</td>\n",
       "      <td>1</td>\n",
       "      <td>1</td>\n",
       "      <td>this backdoor gathers the following data:  cp...</td>\n",
       "    </tr>\n",
       "    <tr>\n",
       "      <th>30</th>\n",
       "      <td>Dofloo-Trendmicro.csv</td>\n",
       "      <td>/etc/rc.local</td>\n",
       "      <td>se</td>\n",
       "      <td>FILE</td>\n",
       "      <td>/etc/rc</td>\n",
       "      <td>0</td>\n",
       "      <td>0</td>\n",
       "      <td>installation  this backdoor adds the followin...</td>\n",
       "    </tr>\n",
       "    <tr>\n",
       "      <th>31</th>\n",
       "      <td>Dofloo-Trendmicro.csv</td>\n",
       "      <td>/etc/init.d/boot.local</td>\n",
       "      <td>start</td>\n",
       "      <td>FILE</td>\n",
       "      <td>/etc/init.d/</td>\n",
       "      <td>0</td>\n",
       "      <td>0</td>\n",
       "      <td>installation  this backdoor adds the followin...</td>\n",
       "    </tr>\n",
       "    <tr>\n",
       "      <th>32</th>\n",
       "      <td>Dofloo-Trendmicro.csv</td>\n",
       "      <td>/etc/nsswitch.conf</td>\n",
       "      <td>open</td>\n",
       "      <td>FILE</td>\n",
       "      <td>nsswitch.conf</td>\n",
       "      <td>0</td>\n",
       "      <td>0</td>\n",
       "      <td>this backdoor opens the following files:  /et...</td>\n",
       "    </tr>\n",
       "    <tr>\n",
       "      <th>33</th>\n",
       "      <td>Dofloo-Trendmicro.csv</td>\n",
       "      <td>/proc/sys/vm/overcommit_memory</td>\n",
       "      <td>None</td>\n",
       "      <td>FILE</td>\n",
       "      <td>/sys/</td>\n",
       "      <td>0</td>\n",
       "      <td>0</td>\n",
       "      <td>None</td>\n",
       "    </tr>\n",
       "    <tr>\n",
       "      <th>34</th>\n",
       "      <td>Dofloo-Trendmicro.csv</td>\n",
       "      <td>/etc/resolv.conf</td>\n",
       "      <td>open</td>\n",
       "      <td>FILE</td>\n",
       "      <td>resolv.conf</td>\n",
       "      <td>0</td>\n",
       "      <td>0</td>\n",
       "      <td>this backdoor opens the following files:  /et...</td>\n",
       "    </tr>\n",
       "    <tr>\n",
       "      <th>35</th>\n",
       "      <td>Dofloo-Trendmicro.csv</td>\n",
       "      <td>/etc/suid-debug</td>\n",
       "      <td>None</td>\n",
       "      <td>INFO</td>\n",
       "      <td>UID</td>\n",
       "      <td>0</td>\n",
       "      <td>0</td>\n",
       "      <td>None</td>\n",
       "    </tr>\n",
       "    <tr>\n",
       "      <th>36</th>\n",
       "      <td>Dofloo-Trendmicro.csv</td>\n",
       "      <td>/proc/cpuinfo</td>\n",
       "      <td>None</td>\n",
       "      <td>FILE</td>\n",
       "      <td>/proc/</td>\n",
       "      <td>0</td>\n",
       "      <td>0</td>\n",
       "      <td>None</td>\n",
       "    </tr>\n",
       "    <tr>\n",
       "      <th>37</th>\n",
       "      <td>Dofloo-Trendmicro.csv</td>\n",
       "      <td>sed</td>\n",
       "      <td>se</td>\n",
       "      <td>PROC</td>\n",
       "      <td>^sed$</td>\n",
       "      <td>0</td>\n",
       "      <td>0</td>\n",
       "      <td>installation  this backdoor adds the followin...</td>\n",
       "    </tr>\n",
       "  </tbody>\n",
       "</table>\n",
       "</div>"
      ],
      "text/plain": [
       "                        report                            word  \\\n",
       "0    Dofloo-MalwareMustDie.csv                      0x0002fcab   \n",
       "1    Dofloo-MalwareMustDie.csv                      0x000d0c24   \n",
       "2    Dofloo-MalwareMustDie.csv                      0x0002f118   \n",
       "3    Dofloo-MalwareMustDie.csv                      0x0002f120   \n",
       "4    Dofloo-MalwareMustDie.csv                182.254.180.0/23   \n",
       "5    Dofloo-MalwareMustDie.csv                      0x0002f144   \n",
       "6    Dofloo-MalwareMustDie.csv                      0x00008000   \n",
       "7    Dofloo-MalwareMustDie.csv                      0x0002fbd0   \n",
       "8    Dofloo-MalwareMustDie.csv                             sed   \n",
       "9    Dofloo-MalwareMustDie.csv                      0x0002fc0e   \n",
       "10   Dofloo-MalwareMustDie.csv                 182.254.180.241   \n",
       "11   Dofloo-MalwareMustDie.csv                     0x6c00031a,   \n",
       "12   Dofloo-MalwareMustDie.csv                      0x0002fc5f   \n",
       "13   Dofloo-MalwareMustDie.csv                      0x0002fbf0   \n",
       "14  Dofloo-Securityaffairs.csv              23.224.59.34:48080   \n",
       "15  Dofloo-Securityaffairs.csv              23.224.59.34:48080   \n",
       "16  Dofloo-Securityaffairs.csv             /etc/rc.d/rc.local,   \n",
       "17  Dofloo-Securityaffairs.csv                   /etc/rc.local   \n",
       "18     Dofloo-SyscallParty.csv                         ‘uname’   \n",
       "19     Dofloo-SyscallParty.csv                   /proc/net/dev   \n",
       "20     Dofloo-SyscallParty.csv                   61.147.91.53.   \n",
       "21     Dofloo-SyscallParty.csv                   /etc/rc.local   \n",
       "22     Dofloo-SyscallParty.csv                             sed   \n",
       "23     Dofloo-SyscallParty.csv                vaddr=0x00013dec   \n",
       "24     Dofloo-SyscallParty.csv                  /proc/self/exe   \n",
       "25     Dofloo-SyscallParty.csv                   /etc/rc.local   \n",
       "26     Dofloo-SyscallParty.csv                   /etc/rc.local   \n",
       "27     Dofloo-SyscallParty.csv                   /proc/cpuinfo   \n",
       "28     Dofloo-SyscallParty.csv          /etc/init.d/boot.local   \n",
       "29       Dofloo-Trendmicro.csv                      /proc/stat   \n",
       "30       Dofloo-Trendmicro.csv                   /etc/rc.local   \n",
       "31       Dofloo-Trendmicro.csv          /etc/init.d/boot.local   \n",
       "32       Dofloo-Trendmicro.csv              /etc/nsswitch.conf   \n",
       "33       Dofloo-Trendmicro.csv  /proc/sys/vm/overcommit_memory   \n",
       "34       Dofloo-Trendmicro.csv                /etc/resolv.conf   \n",
       "35       Dofloo-Trendmicro.csv                 /etc/suid-debug   \n",
       "36       Dofloo-Trendmicro.csv                   /proc/cpuinfo   \n",
       "37       Dofloo-Trendmicro.csv                             sed   \n",
       "\n",
       "                verb objectType      prettyReg  match  label  \\\n",
       "0                 go        MEM       mem_addr      0      0   \n",
       "1                 be        MEM       mem_addr      0      0   \n",
       "2                add        MEM       mem_addr      0      0   \n",
       "3   r1,r2,r10,r11,lr        MEM       mem_addr      0      0   \n",
       "4               None        NET        ip_addr      0      0   \n",
       "5                svc        MEM       mem_addr      0      0   \n",
       "6               have        MEM       mem_addr      0      0   \n",
       "7               find        MEM       mem_addr      0      0   \n",
       "8               None       PROC          ^sed$      0      0   \n",
       "9               pack        MEM       mem_addr      0      0   \n",
       "10                be        NET        ip_addr      0      0   \n",
       "11              None        MEM       mem_addr      0      0   \n",
       "12            eserve        MEM       mem_addr      0      0   \n",
       "13              look        MEM       mem_addr      0      0   \n",
       "14           connect        NET        ip_addr      1      1   \n",
       "15           connect       FILE   ip_addr+port      0      0   \n",
       "16              None       FILE        /etc/rc      0      0   \n",
       "17            modify       FILE        /etc/rc      1      1   \n",
       "18              None       FILE    uname(.)($)      0      0   \n",
       "19              read       FILE         /proc/      1      1   \n",
       "20              None        NET        ip_addr      0      0   \n",
       "21               add       FILE        /etc/rc      1      1   \n",
       "22            format       PROC          ^sed$      0      0   \n",
       "23              give        MEM       mem_addr      0      0   \n",
       "24              None       FILE         /proc/      0      0   \n",
       "25            format       FILE        /etc/rc      0      0   \n",
       "26           execute       FILE        /etc/rc      0      0   \n",
       "27              open       FILE         /proc/      1      1   \n",
       "28               add       FILE   /etc/init.d/      1      1   \n",
       "29            gather       FILE         /proc/      1      1   \n",
       "30                se       FILE        /etc/rc      0      0   \n",
       "31             start       FILE   /etc/init.d/      0      0   \n",
       "32              open       FILE  nsswitch.conf      0      0   \n",
       "33              None       FILE          /sys/      0      0   \n",
       "34              open       FILE    resolv.conf      0      0   \n",
       "35              None       INFO            UID      0      0   \n",
       "36              None       FILE         /proc/      0      0   \n",
       "37                se       PROC          ^sed$      0      0   \n",
       "\n",
       "                                             sentence  \n",
       "0   ,0x24,0xa,0 0x0002fcab                 dcb 0x0...  \n",
       "1   so as you can see it was served from sept 10th...  \n",
       "2   1 2 3 4 5 6 7 8 9 10 11 12 13 14 15 16 17 18 1...  \n",
       "3   1 2 3 4 5 6 7 8 9 10 11 12 13 14 15 16 17 18 1...  \n",
       "4                                                None  \n",
       "5   1 2 3 4 5 6 7 8 9 10 11 12 13 14 15 16 17 18 1...  \n",
       "6   so as you can see it was served from sept 10th...  \n",
       "7   1 2 3 4 5 6 7 8 9 10 11 12 13 14 15 16 17 18 1...  \n",
       "8                                                None  \n",
       "9   i look from its dcb data from where it was cal...  \n",
       "10  1 2 .text:0x09e68 ldr  r0, =unk_0x08c5c4  <-- ...  \n",
       "11                                               None  \n",
       "12  all rights r 0x0002fc5f                 dcb es...  \n",
       "13  i look from its dcb data from where it was cal...  \n",
       "14  the malware also connects to 23.224.59.34:4808...  \n",
       "15  the malware also connects to 23.224.59.34:4808...  \n",
       "16                                               None  \n",
       "17  trend micro researchers also discovered that t...  \n",
       "18                                               None  \n",
       "19  the way the malware gets information regarding...  \n",
       "20                                               None  \n",
       "21  persistence persistence is achieved by the mal...  \n",
       "22  a string is formatted and the sed program is c...  \n",
       "23  which gives us the following output:  vaddr=0x...  \n",
       "24                                               None  \n",
       "25  a string is formatted and the sed program is c...  \n",
       "26  the /etc/rc.local will execute certain command...  \n",
       "27  the virtual file /proc/cpuinfo is opened and r...  \n",
       "28  persistence persistence is achieved by the mal...  \n",
       "29   this backdoor gathers the following data:  cp...  \n",
       "30   installation  this backdoor adds the followin...  \n",
       "31   installation  this backdoor adds the followin...  \n",
       "32   this backdoor opens the following files:  /et...  \n",
       "33                                               None  \n",
       "34   this backdoor opens the following files:  /et...  \n",
       "35                                               None  \n",
       "36                                               None  \n",
       "37   installation  this backdoor adds the followin...  "
      ]
     },
     "execution_count": 17,
     "metadata": {},
     "output_type": "execute_result"
    }
   ],
   "source": [
    "# 存檔所有 doc_OPset\n",
    "def save_docOPset(fset: FamilySet):\n",
    "    data = []\n",
    "    for idx_rem, rem in enumerate(fset.rem_lst):\n",
    "        ctd_opset:list[OperationPair] = list(rem.doc_OPset)\n",
    "        for op in ctd_opset:\n",
    "            data.append({\n",
    "                'report': rem.reportname,\n",
    "                'word': op.original_object,\n",
    "                'verb': op.action,\n",
    "                'objectType': op.object_type,\n",
    "                'prettyReg': prettifyName(op.object),\n",
    "                'match': 1 if op in rem.match_doc_OPset else 0, # verb 是否有比對到 syscall\n",
    "                'label': 1 if op in rem.match_doc_OPset else 0, # 人工標記的標籤 暫時先跟系統判斷一樣\n",
    "                'sentence': \" \".join(op.original_sentence.splitlines()) if op.original_sentence else None # flatten the sentence segment\n",
    "            })\n",
    "    # print(data)\n",
    "    df = pd.DataFrame(data)\n",
    "    df.to_csv(f'./result/00_{family}_docOPset.csv', index=False)\n",
    "    return df\n",
    "\n",
    "save_docOPset(fset)"
   ]
  },
  {
   "cell_type": "code",
   "execution_count": 17,
   "metadata": {},
   "outputs": [
    {
     "name": "stdout",
     "output_type": "stream",
     "text": [
      "Report: Dofloo-SyscallParty.csv. Matched OP count: 5\n",
      "--\n",
      "OP #11 open /proc/ /proc/cpuinfo\n",
      "the virtual file /proc/cpuinfo is opened and read in words until an eof (-1) is hit whilst reading the file chunk by chunk — then fclose is called to free up the opened file.\n",
      "--\n",
      "OP #8 read /proc/ /proc/net/dev\n",
      "the way the malware gets information regarding the network adapter is reading the /proc/net/dev file.\n",
      "--\n",
      "OP #4 add /etc/init.d/ /etc/init.d/boot.local\n",
      "persistence\n",
      "persistence is achieved by the malware by adding to /etc/rc.local and the /etc/init.d/boot.local files (in the auto_boot function); however before it overwrites this file it first checks to see if it has already done so.\n",
      "--\n",
      "OP #7 format /etc/rc /etc/rc.local\n",
      "a string is formatted and the sed program is called which writes to the file in question (there are several string operations, such as sed -i -e '2 i%s/%s' /etc/rc.local is formatted for example).\n",
      "--\n",
      "OP #3 add /etc/rc /etc/rc.local\n",
      "persistence\n",
      "persistence is achieved by the malware by adding to /etc/rc.local and the /etc/init.d/boot.local files (in the auto_boot function); however before it overwrites this file it first checks to see if it has already done so.\n"
     ]
    }
   ],
   "source": [
    "# 印出特定 report 的 matched 句子\n",
    "report_id = 3\n",
    "reportname = fset.rem_lst[report_id].reportname\n",
    "print(f\"Report: {reportname}. Matched OP count: {len(fset.rem_lst[report_id].match_doc_OPset)}\")\n",
    "for i, op in enumerate(fset.rem_lst[report_id].match_doc_OPset):\n",
    "    print(f\"--\\nOP #{op.step_number} {op.action} {op.object} {op.original_object}\")\n",
    "    print(f\"{op.original_sentence}\")"
   ]
  },
  {
   "cell_type": "code",
   "execution_count": 18,
   "metadata": {},
   "outputs": [
    {
     "name": "stdout",
     "output_type": "stream",
     "text": [
      "set()\n",
      "{<OP 8 act=pack, obj=mem_addr>, <OP 5 act=svc, obj=mem_addr>, <OP 6 act=find, obj=mem_addr>, <OP 9 act=eserve, obj=mem_addr>, <OP 7 act=look, obj=mem_addr>, <OP10 act=go, obj=mem_addr>, <OP14 act=None, obj=ip_addr>, <OP 2 act=be, obj=mem_addr>, <OP 1 act=have, obj=mem_addr>, <OP12 act=None, obj=^sed$>, <OP11 act=None, obj=mem_addr>, <OP 3 act=add, obj=mem_addr>, <OP 4 act=r1,r2,r10,r11,lr, obj=mem_addr>, <OP13 act=be, obj=ip_addr>}\n",
      "{<OP 4 act=None, obj=/etc/rc>, <OP 3 act=modify, obj=/etc/rc>, <OP 1 act=connect, obj=ip_addr>, <OP 2 act=connect, obj=ip_addr+port>}\n",
      "{<OP10 act=None, obj=uname(.)($)>, <OP11 act=open, obj=/proc/>, <OP 2 act=None, obj=/proc/>, <OP 9 act=None, obj=ip_addr>, <OP 8 act=read, obj=/proc/>, <OP 4 act=add, obj=/etc/init.d/>, <OP 5 act=execute, obj=/etc/rc>, <OP 7 act=format, obj=/etc/rc>, <OP 3 act=add, obj=/etc/rc>, <OP 1 act=give, obj=mem_addr>, <OP 6 act=format, obj=^sed$>}\n",
      "{<OP 6 act=None, obj=/sys/>, <OP 8 act=open, obj=nsswitch.conf>, <OP 5 act=None, obj=/proc/>, <OP 3 act=start, obj=/etc/init.d/>, <OP 2 act=se, obj=/etc/rc>, <OP 4 act=gather, obj=/proc/>, <OP 7 act=open, obj=resolv.conf>, <OP 1 act=se, obj=^sed$>, <OP 9 act=None, obj=UID>}\n"
     ]
    }
   ],
   "source": [
    "# 測試區\n",
    "for rem in fset.rem_lst:\n",
    "    print(rem.doc_OPset)"
   ]
  },
  {
   "cell_type": "code",
   "execution_count": 19,
   "metadata": {},
   "outputs": [
    {
     "data": {
      "text/html": [
       "<div>\n",
       "<style scoped>\n",
       "    .dataframe tbody tr th:only-of-type {\n",
       "        vertical-align: middle;\n",
       "    }\n",
       "\n",
       "    .dataframe tbody tr th {\n",
       "        vertical-align: top;\n",
       "    }\n",
       "\n",
       "    .dataframe thead th {\n",
       "        text-align: right;\n",
       "    }\n",
       "</style>\n",
       "<table border=\"1\" class=\"dataframe\">\n",
       "  <thead>\n",
       "    <tr style=\"text-align: right;\">\n",
       "      <th></th>\n",
       "      <th>bin/sed</th>\n",
       "      <th>/etc/rc</th>\n",
       "      <th>/etc/init.d/</th>\n",
       "      <th>/proc/</th>\n",
       "      <th>/etc/sed</th>\n",
       "      <th>/selinux</th>\n",
       "      <th>/sys/</th>\n",
       "      <th>bin/</th>\n",
       "      <th>lsb-release</th>\n",
       "      <th>uname(.)($)</th>\n",
       "      <th>...</th>\n",
       "      <th>^sh$</th>\n",
       "      <th>^sed$</th>\n",
       "      <th>\\d{1,3}\\.\\d{1,3}\\.\\d{1,3}\\.\\d{1,3}:\\d+</th>\n",
       "      <th>\\d{1,3}\\.\\d{1,3}\\.\\d{1,3}\\.\\d{1,3}</th>\n",
       "      <th>eth[0-9]$</th>\n",
       "      <th>0x[0-9a-zA-Z]{8}</th>\n",
       "      <th>permission:{0,1}[0-9]{0,4}</th>\n",
       "      <th>UID</th>\n",
       "      <th>GID</th>\n",
       "      <th>match</th>\n",
       "    </tr>\n",
       "  </thead>\n",
       "  <tbody>\n",
       "    <tr>\n",
       "      <th>0</th>\n",
       "      <td>0</td>\n",
       "      <td>0</td>\n",
       "      <td>0</td>\n",
       "      <td>0</td>\n",
       "      <td>0</td>\n",
       "      <td>0</td>\n",
       "      <td>0</td>\n",
       "      <td>0</td>\n",
       "      <td>0</td>\n",
       "      <td>0</td>\n",
       "      <td>...</td>\n",
       "      <td>0</td>\n",
       "      <td>0</td>\n",
       "      <td>0</td>\n",
       "      <td>0</td>\n",
       "      <td>0</td>\n",
       "      <td>0</td>\n",
       "      <td>0</td>\n",
       "      <td>0</td>\n",
       "      <td>0</td>\n",
       "      <td>0</td>\n",
       "    </tr>\n",
       "    <tr>\n",
       "      <th>1</th>\n",
       "      <td>0</td>\n",
       "      <td>0</td>\n",
       "      <td>0</td>\n",
       "      <td>0</td>\n",
       "      <td>0</td>\n",
       "      <td>0</td>\n",
       "      <td>0</td>\n",
       "      <td>0</td>\n",
       "      <td>0</td>\n",
       "      <td>0</td>\n",
       "      <td>...</td>\n",
       "      <td>0</td>\n",
       "      <td>0</td>\n",
       "      <td>0</td>\n",
       "      <td>0</td>\n",
       "      <td>0</td>\n",
       "      <td>0</td>\n",
       "      <td>0</td>\n",
       "      <td>0</td>\n",
       "      <td>0</td>\n",
       "      <td>0</td>\n",
       "    </tr>\n",
       "    <tr>\n",
       "      <th>2</th>\n",
       "      <td>0</td>\n",
       "      <td>0</td>\n",
       "      <td>0</td>\n",
       "      <td>0</td>\n",
       "      <td>0</td>\n",
       "      <td>0</td>\n",
       "      <td>0</td>\n",
       "      <td>0</td>\n",
       "      <td>0</td>\n",
       "      <td>0</td>\n",
       "      <td>...</td>\n",
       "      <td>0</td>\n",
       "      <td>0</td>\n",
       "      <td>0</td>\n",
       "      <td>0</td>\n",
       "      <td>0</td>\n",
       "      <td>0</td>\n",
       "      <td>0</td>\n",
       "      <td>0</td>\n",
       "      <td>0</td>\n",
       "      <td>0</td>\n",
       "    </tr>\n",
       "    <tr>\n",
       "      <th>3</th>\n",
       "      <td>0</td>\n",
       "      <td>0</td>\n",
       "      <td>0</td>\n",
       "      <td>0</td>\n",
       "      <td>0</td>\n",
       "      <td>0</td>\n",
       "      <td>0</td>\n",
       "      <td>0</td>\n",
       "      <td>0</td>\n",
       "      <td>0</td>\n",
       "      <td>...</td>\n",
       "      <td>0</td>\n",
       "      <td>0</td>\n",
       "      <td>0</td>\n",
       "      <td>0</td>\n",
       "      <td>0</td>\n",
       "      <td>0</td>\n",
       "      <td>0</td>\n",
       "      <td>0</td>\n",
       "      <td>0</td>\n",
       "      <td>0</td>\n",
       "    </tr>\n",
       "    <tr>\n",
       "      <th>4</th>\n",
       "      <td>0</td>\n",
       "      <td>0</td>\n",
       "      <td>0</td>\n",
       "      <td>0</td>\n",
       "      <td>0</td>\n",
       "      <td>0</td>\n",
       "      <td>0</td>\n",
       "      <td>0</td>\n",
       "      <td>0</td>\n",
       "      <td>0</td>\n",
       "      <td>...</td>\n",
       "      <td>0</td>\n",
       "      <td>0</td>\n",
       "      <td>0</td>\n",
       "      <td>0</td>\n",
       "      <td>0</td>\n",
       "      <td>0</td>\n",
       "      <td>0</td>\n",
       "      <td>0</td>\n",
       "      <td>0</td>\n",
       "      <td>0</td>\n",
       "    </tr>\n",
       "    <tr>\n",
       "      <th>5</th>\n",
       "      <td>0</td>\n",
       "      <td>0</td>\n",
       "      <td>0</td>\n",
       "      <td>0</td>\n",
       "      <td>0</td>\n",
       "      <td>0</td>\n",
       "      <td>0</td>\n",
       "      <td>0</td>\n",
       "      <td>0</td>\n",
       "      <td>0</td>\n",
       "      <td>...</td>\n",
       "      <td>0</td>\n",
       "      <td>0</td>\n",
       "      <td>0</td>\n",
       "      <td>0</td>\n",
       "      <td>0</td>\n",
       "      <td>0</td>\n",
       "      <td>0</td>\n",
       "      <td>0</td>\n",
       "      <td>0</td>\n",
       "      <td>0</td>\n",
       "    </tr>\n",
       "    <tr>\n",
       "      <th>6</th>\n",
       "      <td>0</td>\n",
       "      <td>0</td>\n",
       "      <td>0</td>\n",
       "      <td>0</td>\n",
       "      <td>0</td>\n",
       "      <td>0</td>\n",
       "      <td>0</td>\n",
       "      <td>0</td>\n",
       "      <td>0</td>\n",
       "      <td>0</td>\n",
       "      <td>...</td>\n",
       "      <td>0</td>\n",
       "      <td>0</td>\n",
       "      <td>0</td>\n",
       "      <td>0</td>\n",
       "      <td>0</td>\n",
       "      <td>0</td>\n",
       "      <td>0</td>\n",
       "      <td>0</td>\n",
       "      <td>0</td>\n",
       "      <td>0</td>\n",
       "    </tr>\n",
       "    <tr>\n",
       "      <th>7</th>\n",
       "      <td>0</td>\n",
       "      <td>0</td>\n",
       "      <td>0</td>\n",
       "      <td>0</td>\n",
       "      <td>0</td>\n",
       "      <td>0</td>\n",
       "      <td>0</td>\n",
       "      <td>0</td>\n",
       "      <td>0</td>\n",
       "      <td>0</td>\n",
       "      <td>...</td>\n",
       "      <td>0</td>\n",
       "      <td>0</td>\n",
       "      <td>0</td>\n",
       "      <td>0</td>\n",
       "      <td>0</td>\n",
       "      <td>0</td>\n",
       "      <td>0</td>\n",
       "      <td>0</td>\n",
       "      <td>0</td>\n",
       "      <td>0</td>\n",
       "    </tr>\n",
       "    <tr>\n",
       "      <th>8</th>\n",
       "      <td>0</td>\n",
       "      <td>0</td>\n",
       "      <td>0</td>\n",
       "      <td>0</td>\n",
       "      <td>0</td>\n",
       "      <td>0</td>\n",
       "      <td>0</td>\n",
       "      <td>0</td>\n",
       "      <td>0</td>\n",
       "      <td>0</td>\n",
       "      <td>...</td>\n",
       "      <td>0</td>\n",
       "      <td>0</td>\n",
       "      <td>0</td>\n",
       "      <td>0</td>\n",
       "      <td>0</td>\n",
       "      <td>0</td>\n",
       "      <td>0</td>\n",
       "      <td>0</td>\n",
       "      <td>0</td>\n",
       "      <td>0</td>\n",
       "    </tr>\n",
       "    <tr>\n",
       "      <th>9</th>\n",
       "      <td>0</td>\n",
       "      <td>0</td>\n",
       "      <td>0</td>\n",
       "      <td>0</td>\n",
       "      <td>0</td>\n",
       "      <td>0</td>\n",
       "      <td>0</td>\n",
       "      <td>0</td>\n",
       "      <td>0</td>\n",
       "      <td>0</td>\n",
       "      <td>...</td>\n",
       "      <td>0</td>\n",
       "      <td>0</td>\n",
       "      <td>0</td>\n",
       "      <td>0</td>\n",
       "      <td>0</td>\n",
       "      <td>0</td>\n",
       "      <td>0</td>\n",
       "      <td>0</td>\n",
       "      <td>0</td>\n",
       "      <td>0</td>\n",
       "    </tr>\n",
       "    <tr>\n",
       "      <th>10</th>\n",
       "      <td>0</td>\n",
       "      <td>0</td>\n",
       "      <td>0</td>\n",
       "      <td>0</td>\n",
       "      <td>0</td>\n",
       "      <td>0</td>\n",
       "      <td>0</td>\n",
       "      <td>0</td>\n",
       "      <td>0</td>\n",
       "      <td>0</td>\n",
       "      <td>...</td>\n",
       "      <td>0</td>\n",
       "      <td>0</td>\n",
       "      <td>0</td>\n",
       "      <td>0</td>\n",
       "      <td>0</td>\n",
       "      <td>0</td>\n",
       "      <td>0</td>\n",
       "      <td>0</td>\n",
       "      <td>0</td>\n",
       "      <td>0</td>\n",
       "    </tr>\n",
       "    <tr>\n",
       "      <th>11</th>\n",
       "      <td>0</td>\n",
       "      <td>0</td>\n",
       "      <td>0</td>\n",
       "      <td>0</td>\n",
       "      <td>0</td>\n",
       "      <td>0</td>\n",
       "      <td>0</td>\n",
       "      <td>0</td>\n",
       "      <td>0</td>\n",
       "      <td>0</td>\n",
       "      <td>...</td>\n",
       "      <td>0</td>\n",
       "      <td>0</td>\n",
       "      <td>0</td>\n",
       "      <td>0</td>\n",
       "      <td>0</td>\n",
       "      <td>0</td>\n",
       "      <td>0</td>\n",
       "      <td>0</td>\n",
       "      <td>0</td>\n",
       "      <td>0</td>\n",
       "    </tr>\n",
       "    <tr>\n",
       "      <th>12</th>\n",
       "      <td>0</td>\n",
       "      <td>0</td>\n",
       "      <td>0</td>\n",
       "      <td>0</td>\n",
       "      <td>0</td>\n",
       "      <td>0</td>\n",
       "      <td>0</td>\n",
       "      <td>0</td>\n",
       "      <td>0</td>\n",
       "      <td>0</td>\n",
       "      <td>...</td>\n",
       "      <td>0</td>\n",
       "      <td>0</td>\n",
       "      <td>0</td>\n",
       "      <td>0</td>\n",
       "      <td>0</td>\n",
       "      <td>0</td>\n",
       "      <td>0</td>\n",
       "      <td>0</td>\n",
       "      <td>0</td>\n",
       "      <td>0</td>\n",
       "    </tr>\n",
       "    <tr>\n",
       "      <th>13</th>\n",
       "      <td>0</td>\n",
       "      <td>0</td>\n",
       "      <td>0</td>\n",
       "      <td>0</td>\n",
       "      <td>0</td>\n",
       "      <td>0</td>\n",
       "      <td>0</td>\n",
       "      <td>0</td>\n",
       "      <td>0</td>\n",
       "      <td>0</td>\n",
       "      <td>...</td>\n",
       "      <td>0</td>\n",
       "      <td>0</td>\n",
       "      <td>0</td>\n",
       "      <td>0</td>\n",
       "      <td>0</td>\n",
       "      <td>0</td>\n",
       "      <td>0</td>\n",
       "      <td>0</td>\n",
       "      <td>0</td>\n",
       "      <td>0</td>\n",
       "    </tr>\n",
       "    <tr>\n",
       "      <th>14</th>\n",
       "      <td>0</td>\n",
       "      <td>0</td>\n",
       "      <td>0</td>\n",
       "      <td>0</td>\n",
       "      <td>0</td>\n",
       "      <td>0</td>\n",
       "      <td>0</td>\n",
       "      <td>0</td>\n",
       "      <td>0</td>\n",
       "      <td>0</td>\n",
       "      <td>...</td>\n",
       "      <td>0</td>\n",
       "      <td>0</td>\n",
       "      <td>0</td>\n",
       "      <td>0</td>\n",
       "      <td>0</td>\n",
       "      <td>0</td>\n",
       "      <td>0</td>\n",
       "      <td>0</td>\n",
       "      <td>0</td>\n",
       "      <td>0</td>\n",
       "    </tr>\n",
       "  </tbody>\n",
       "</table>\n",
       "<p>15 rows × 24 columns</p>\n",
       "</div>"
      ],
      "text/plain": [
       "    bin/sed  /etc/rc  /etc/init.d/  /proc/  /etc/sed  /selinux  /sys/  bin/  \\\n",
       "0         0        0             0       0         0         0      0     0   \n",
       "1         0        0             0       0         0         0      0     0   \n",
       "2         0        0             0       0         0         0      0     0   \n",
       "3         0        0             0       0         0         0      0     0   \n",
       "4         0        0             0       0         0         0      0     0   \n",
       "5         0        0             0       0         0         0      0     0   \n",
       "6         0        0             0       0         0         0      0     0   \n",
       "7         0        0             0       0         0         0      0     0   \n",
       "8         0        0             0       0         0         0      0     0   \n",
       "9         0        0             0       0         0         0      0     0   \n",
       "10        0        0             0       0         0         0      0     0   \n",
       "11        0        0             0       0         0         0      0     0   \n",
       "12        0        0             0       0         0         0      0     0   \n",
       "13        0        0             0       0         0         0      0     0   \n",
       "14        0        0             0       0         0         0      0     0   \n",
       "\n",
       "    lsb-release  uname(.)($)  ...  ^sh$  ^sed$  \\\n",
       "0             0            0  ...     0      0   \n",
       "1             0            0  ...     0      0   \n",
       "2             0            0  ...     0      0   \n",
       "3             0            0  ...     0      0   \n",
       "4             0            0  ...     0      0   \n",
       "5             0            0  ...     0      0   \n",
       "6             0            0  ...     0      0   \n",
       "7             0            0  ...     0      0   \n",
       "8             0            0  ...     0      0   \n",
       "9             0            0  ...     0      0   \n",
       "10            0            0  ...     0      0   \n",
       "11            0            0  ...     0      0   \n",
       "12            0            0  ...     0      0   \n",
       "13            0            0  ...     0      0   \n",
       "14            0            0  ...     0      0   \n",
       "\n",
       "    \\d{1,3}\\.\\d{1,3}\\.\\d{1,3}\\.\\d{1,3}:\\d+  \\\n",
       "0                                        0   \n",
       "1                                        0   \n",
       "2                                        0   \n",
       "3                                        0   \n",
       "4                                        0   \n",
       "5                                        0   \n",
       "6                                        0   \n",
       "7                                        0   \n",
       "8                                        0   \n",
       "9                                        0   \n",
       "10                                       0   \n",
       "11                                       0   \n",
       "12                                       0   \n",
       "13                                       0   \n",
       "14                                       0   \n",
       "\n",
       "    \\d{1,3}\\.\\d{1,3}\\.\\d{1,3}\\.\\d{1,3}  eth[0-9]$  0x[0-9a-zA-Z]{8}  \\\n",
       "0                                    0          0                 0   \n",
       "1                                    0          0                 0   \n",
       "2                                    0          0                 0   \n",
       "3                                    0          0                 0   \n",
       "4                                    0          0                 0   \n",
       "5                                    0          0                 0   \n",
       "6                                    0          0                 0   \n",
       "7                                    0          0                 0   \n",
       "8                                    0          0                 0   \n",
       "9                                    0          0                 0   \n",
       "10                                   0          0                 0   \n",
       "11                                   0          0                 0   \n",
       "12                                   0          0                 0   \n",
       "13                                   0          0                 0   \n",
       "14                                   0          0                 0   \n",
       "\n",
       "    permission:{0,1}[0-9]{0,4}  UID  GID  match  \n",
       "0                            0    0    0      0  \n",
       "1                            0    0    0      0  \n",
       "2                            0    0    0      0  \n",
       "3                            0    0    0      0  \n",
       "4                            0    0    0      0  \n",
       "5                            0    0    0      0  \n",
       "6                            0    0    0      0  \n",
       "7                            0    0    0      0  \n",
       "8                            0    0    0      0  \n",
       "9                            0    0    0      0  \n",
       "10                           0    0    0      0  \n",
       "11                           0    0    0      0  \n",
       "12                           0    0    0      0  \n",
       "13                           0    0    0      0  \n",
       "14                           0    0    0      0  \n",
       "\n",
       "[15 rows x 24 columns]"
      ]
     },
     "metadata": {},
     "output_type": "display_data"
    }
   ],
   "source": [
    "for rem in fset.rem_lst:\n",
    "    display(rem.get_match_sentences())\n",
    "    break"
   ]
  },
  {
   "cell_type": "code",
   "execution_count": null,
   "metadata": {},
   "outputs": [],
   "source": []
  }
 ],
 "metadata": {
  "kernelspec": {
   "display_name": "Python 3.10.5 64-bit",
   "language": "python",
   "name": "python3"
  },
  "language_info": {
   "codemirror_mode": {
    "name": "ipython",
    "version": 3
   },
   "file_extension": ".py",
   "mimetype": "text/x-python",
   "name": "python",
   "nbconvert_exporter": "python",
   "pygments_lexer": "ipython3",
   "version": "3.10.5"
  },
  "orig_nbformat": 4,
  "vscode": {
   "interpreter": {
    "hash": "125a1d8b627fe68767755740015967bae857d08bb92fb3fd0d9d8ed24f978d39"
   }
  }
 },
 "nbformat": 4,
 "nbformat_minor": 2
}
