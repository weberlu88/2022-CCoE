{
 "cells": [
  {
   "cell_type": "code",
   "execution_count": 74,
   "id": "f5fab049",
   "metadata": {},
   "outputs": [
    {
     "data": {
      "text/plain": [
       "<module 'Utility' from 'C:\\\\Users\\\\Jonathan\\\\Desktop\\\\sandbox-ub22.04\\\\Utility.py'>"
      ]
     },
     "execution_count": 74,
     "metadata": {},
     "output_type": "execute_result"
    }
   ],
   "source": [
    "import ASG\n",
    "import importlib\n",
    "importlib.reload(Utility)"
   ]
  },
  {
   "cell_type": "code",
   "execution_count": 59,
   "id": "33636a40",
   "metadata": {},
   "outputs": [],
   "source": [
    "# Only need to change the path variable\n",
    "path = './CCOE/Xorddos/0aefb67c01a24d05351b093455203fa2.bin'\n",
    "graph = ASG.AttackGraph(path)\n",
    "graph.create()"
   ]
  },
  {
   "cell_type": "markdown",
   "id": "1072a5fc",
   "metadata": {},
   "source": [
    "# For file regex"
   ]
  },
  {
   "cell_type": "code",
   "execution_count": 75,
   "id": "88311deb",
   "metadata": {},
   "outputs": [
    {
     "name": "stdout",
     "output_type": "stream",
     "text": [
      "Objects num: 125\n",
      "Match Regex num: 23\n",
      "Non match file num: 0\n"
     ]
    }
   ],
   "source": [
    "set_of_objects_file = Utility.get_set_of_objects_file(graph)\n",
    "\n",
    "# file rule dict\n",
    "RULES_DICT = Utility.build_RULES_DICT() \n",
    "\n",
    "# use the rule dict to build up the regex, it may not match all objects\n",
    "regex_match_file, regex_non_match_file = Utility.build_file_regex(set_of_objects_file, RULES_DICT) \n",
    "file_regex = list(regex_match_file.keys())\n",
    "\n",
    "print(\"Objects num:\", len(set_of_objects_file))\n",
    "print(\"Match Regex num:\", len(regex_match_file))\n",
    "print(\"Non match file num:\", len(regex_non_match_file))"
   ]
  },
  {
   "cell_type": "code",
   "execution_count": 68,
   "id": "3f35bbb1",
   "metadata": {},
   "outputs": [
    {
     "data": {
      "text/plain": [
       "['/.*bin/sed',\n",
       " '/boot',\n",
       " '/boot/[a-z0-9]{10}',\n",
       " '/etc/cron\\\\..*/.*',\n",
       " '/etc/crontab',\n",
       " '/etc/init\\\\.d/.*',\n",
       " '.*/perl/.*',\n",
       " '/etc/rc.*\\\\.d/.*',\n",
       " '/etc/sed[0-9a-zA-Z]{6}',\n",
       " '.*/selinux',\n",
       " '/proc/\\\\d+/root',\n",
       " '/proc/\\\\d+/exe',\n",
       " '/proc/rs_dev',\n",
       " '/proc/self',\n",
       " '/proc/stat',\n",
       " '/proc/vz',\n",
       " '/run/systemd/.*',\n",
       " '/.*bin/insserv',\n",
       " '/.*bin/openrc',\n",
       " '.*/perl5.*/',\n",
       " '/var',\n",
       " '/var/run',\n",
       " '/var/run/.*',\n",
       " 'uname']"
      ]
     },
     "execution_count": 68,
     "metadata": {},
     "output_type": "execute_result"
    }
   ],
   "source": [
    "file_regex"
   ]
  },
  {
   "cell_type": "code",
   "execution_count": 76,
   "id": "7beeec8b",
   "metadata": {},
   "outputs": [
    {
     "data": {
      "text/plain": [
       "{'/.*bin/sed': ['/bin/sed'],\n",
       " '/boot': ['/boot'],\n",
       " '/boot/[a-z0-9]{10}': ['/boot/auqrvglpdz',\n",
       "  '/boot/awroivjpkx',\n",
       "  '/boot/bkrlffbdxs',\n",
       "  '/boot/bsthdzgvmt',\n",
       "  '/boot/bsuztxmack',\n",
       "  '/boot/bthcxsfqan',\n",
       "  '/boot/btiipgrbod',\n",
       "  '/boot/bxzcujmwuj',\n",
       "  '/boot/culylmxbnn',\n",
       "  '/boot/cuzvqbtvfd',\n",
       "  '/boot/dczbbqscrr',\n",
       "  '/boot/devawlqrit',\n",
       "  '/boot/dgbfmcdgie',\n",
       "  '/boot/eirlnrbbue',\n",
       "  '/boot/fgqxqatvys',\n",
       "  '/boot/frdsmulhvu',\n",
       "  '/boot/ftrnncnlir',\n",
       "  '/boot/fykepenmvn',\n",
       "  '/boot/fzmicupinj',\n",
       "  '/boot/gvqambdbei',\n",
       "  '/boot/gzouwclwnr',\n",
       "  '/boot/hbzgcgpgrl',\n",
       "  '/boot/hlgpkoezsl',\n",
       "  '/boot/hucenabudx',\n",
       "  '/boot/iphpevdezt',\n",
       "  '/boot/iswqwsprgu',\n",
       "  '/boot/ixfnusqrgg',\n",
       "  '/boot/jpyqhyfzey',\n",
       "  '/boot/kfiegjyafw',\n",
       "  '/boot/kfsglskbdb',\n",
       "  '/boot/kkxlhyzfmp',\n",
       "  '/boot/ksatflruxo',\n",
       "  '/boot/ksxexbvwow',\n",
       "  '/boot/kyjfilcrnq',\n",
       "  '/boot/lgwpwkxyat',\n",
       "  '/boot/ljmsrriafj',\n",
       "  '/boot/lwhpfsdftn',\n",
       "  '/boot/lwiovnycak',\n",
       "  '/boot/lxwrjfjxtp',\n",
       "  '/boot/lydfnrjaxp',\n",
       "  '/boot/mfpmkpexoo',\n",
       "  '/boot/mmyypjufxq',\n",
       "  '/boot/nkoyupuxpx',\n",
       "  '/boot/ogyujgrviy',\n",
       "  '/boot/pxqgyrrbzu',\n",
       "  '/boot/pyaqircmpc',\n",
       "  '/boot/pydamssrzt',\n",
       "  '/boot/pzjfoxtpmb',\n",
       "  '/boot/qizzmavgpl',\n",
       "  '/boot/qnztnkzxje',\n",
       "  '/boot/qrwzvycybx',\n",
       "  '/boot/rjvpbnmhxl',\n",
       "  '/boot/rsztkcqmag',\n",
       "  '/boot/surblktlmj',\n",
       "  '/boot/tljpweugni',\n",
       "  '/boot/vxcezwunnx',\n",
       "  '/boot/xcyyuwgxmx',\n",
       "  '/boot/yekbvdwwsw',\n",
       "  '/boot/yterrxdnqm',\n",
       "  '/boot/zdmysrquou',\n",
       "  '/boot/zqghiflwfw'],\n",
       " '/etc/cron\\\\..*/.*': ['/etc/cron.hourly/cron.sh'],\n",
       " '/etc/crontab': ['/etc/crontab'],\n",
       " '/etc/init\\\\.d/.*': ['/etc/init.d/kyjfilcrnq'],\n",
       " '.*/perl/.*': ['/etc/perl/File/Glob.pm',\n",
       "  '/etc/perl/File/Glob.pmc',\n",
       "  '/etc/perl/XSLoader.pm',\n",
       "  '/etc/perl/XSLoader.pmc',\n",
       "  '/etc/perl/strict.pm',\n",
       "  '/etc/perl/strict.pmc',\n",
       "  '/etc/perl/warnings.pm',\n",
       "  '/etc/perl/warnings.pmc',\n",
       "  '/usr/local/share/perl/5.26.0',\n",
       "  '/usr/local/share/perl/5.26.1/File/Glob.pm',\n",
       "  '/usr/local/share/perl/5.26.1/File/Glob.pmc',\n",
       "  '/usr/local/share/perl/5.26.1/XSLoader.pm',\n",
       "  '/usr/local/share/perl/5.26.1/XSLoader.pmc',\n",
       "  '/usr/local/share/perl/5.26.1/strict.pm',\n",
       "  '/usr/local/share/perl/5.26.1/strict.pmc',\n",
       "  '/usr/local/share/perl/5.26.1/warnings.pm',\n",
       "  '/usr/local/share/perl/5.26.1/warnings.pmc',\n",
       "  '/usr/share/perl/5.26/XSLoader.pm',\n",
       "  '/usr/share/perl/5.26/XSLoader.pmc',\n",
       "  '/usr/share/perl/5.26/strict.pm',\n",
       "  '/usr/share/perl/5.26/strict.pmc',\n",
       "  '/usr/share/perl/5.26/warnings.pm',\n",
       "  '/usr/share/perl/5.26/warnings.pmc',\n",
       "  '/usr/share/perl5/File/Glob.pm',\n",
       "  '/usr/share/perl5/File/Glob.pmc',\n",
       "  '/usr/share/perl5/XSLoader.pm',\n",
       "  '/usr/share/perl5/XSLoader.pmc',\n",
       "  '/usr/share/perl5/strict.pm',\n",
       "  '/usr/share/perl5/strict.pmc',\n",
       "  '/usr/share/perl5/warnings.pm',\n",
       "  '/usr/share/perl5/warnings.pmc'],\n",
       " '/etc/rc.*\\\\.d/.*': ['/etc/rc.d/rc1.d/S90kyjfilcrnq',\n",
       "  '/etc/rc.d/rc2.d/S90kyjfilcrnq',\n",
       "  '/etc/rc.d/rc3.d/S90kyjfilcrnq',\n",
       "  '/etc/rc.d/rc4.d/S90kyjfilcrnq',\n",
       "  '/etc/rc.d/rc5.d/S90kyjfilcrnq',\n",
       "  '/etc/rc1.d/S90kyjfilcrnq',\n",
       "  '/etc/rc2.d/S90kyjfilcrnq',\n",
       "  '/etc/rc3.d/S90kyjfilcrnq',\n",
       "  '/etc/rc4.d/S90kyjfilcrnq',\n",
       "  '/etc/rc5.d/S90kyjfilcrnq'],\n",
       " '/etc/sed[0-9a-zA-Z]{6}': ['/etc/sed6bJvhB'],\n",
       " '.*/selinux': ['/etc/selinux/config', '/selinux', '/sys/fs/selinux'],\n",
       " '/proc/\\\\d+/root': ['/proc/1/root'],\n",
       " '/proc/\\\\d+/exe': ['/proc/1521/exe'],\n",
       " '/proc/rs_dev': ['/proc/rs_dev'],\n",
       " '/proc/self': ['/proc/self/exe'],\n",
       " '/proc/stat': ['/proc/stat'],\n",
       " '/proc/vz': ['/proc/vz'],\n",
       " '/run/systemd/.*': ['/run/systemd/system', '/run/systemd/system/'],\n",
       " '/.*bin/insserv': ['/sbin/insserv'],\n",
       " '/.*bin/openrc': ['/sbin/openrc'],\n",
       " '/var': ['/var'],\n",
       " '/var/run': ['/var/run'],\n",
       " '/var/run/.*': ['/var/run/sftp.pid'],\n",
       " 'uname': ['uname']}"
      ]
     },
     "execution_count": 76,
     "metadata": {},
     "output_type": "execute_result"
    }
   ],
   "source": [
    "regex_match_file"
   ]
  },
  {
   "cell_type": "code",
   "execution_count": 58,
   "id": "490f2dac",
   "metadata": {},
   "outputs": [
    {
     "data": {
      "text/plain": [
       "[]"
      ]
     },
     "execution_count": 58,
     "metadata": {},
     "output_type": "execute_result"
    }
   ],
   "source": [
    "regex_non_match_file"
   ]
  },
  {
   "cell_type": "markdown",
   "id": "010e9a91",
   "metadata": {},
   "source": [
    "# For remain regex"
   ]
  },
  {
   "cell_type": "code",
   "execution_count": 49,
   "id": "ef6bd6f9",
   "metadata": {},
   "outputs": [],
   "source": [
    "proc_regex = Utility.get_proc_regex(graph)\n",
    "net_regex = Utility.get_net_regex(graph)\n",
    "mem_regex = Utility.get_mem_regex(graph)\n",
    "ID_regex = Utility.get_ID_regex(graph)\n",
    "permission_regex = Utility.get_premission_regex(graph)"
   ]
  },
  {
   "cell_type": "code",
   "execution_count": 50,
   "id": "18f1381c",
   "metadata": {},
   "outputs": [
    {
     "data": {
      "text/plain": [
       "['^sh$', '^chkconfig$', '^update-rc.d$', '^systemctl$', '^sed$']"
      ]
     },
     "execution_count": 50,
     "metadata": {},
     "output_type": "execute_result"
    }
   ],
   "source": [
    "proc_regex"
   ]
  },
  {
   "cell_type": "code",
   "execution_count": 34,
   "id": "0688a2df",
   "metadata": {},
   "outputs": [
    {
     "data": {
      "text/plain": [
       "['\\\\d{1,3}\\\\.\\\\d{1,3}\\\\.\\\\d{1,3}\\\\.\\\\d{1,3}',\n",
       " 'port d+ ',\n",
       " '\\\\d{1,3}\\\\.\\\\d{1,3}\\\\.\\\\d{1,3}\\\\.\\\\d{1,3}:d+']"
      ]
     },
     "execution_count": 34,
     "metadata": {},
     "output_type": "execute_result"
    }
   ],
   "source": [
    "net_regex"
   ]
  },
  {
   "cell_type": "code",
   "execution_count": 51,
   "id": "d375654c",
   "metadata": {},
   "outputs": [
    {
     "data": {
      "text/plain": [
       "['0x[0-9a-zA-Z]{8}']"
      ]
     },
     "execution_count": 51,
     "metadata": {},
     "output_type": "execute_result"
    }
   ],
   "source": [
    "mem_regex"
   ]
  },
  {
   "cell_type": "code",
   "execution_count": 52,
   "id": "f8b2eda7",
   "metadata": {},
   "outputs": [
    {
     "data": {
      "text/plain": [
       "['^UID.*', '^GID.*', '^PID.*']"
      ]
     },
     "execution_count": 52,
     "metadata": {},
     "output_type": "execute_result"
    }
   ],
   "source": [
    "ID_regex"
   ]
  },
  {
   "cell_type": "code",
   "execution_count": 53,
   "id": "6d75767a",
   "metadata": {},
   "outputs": [
    {
     "data": {
      "text/plain": [
       "['Permission', 'Permission:[0-9]{3}']"
      ]
     },
     "execution_count": 53,
     "metadata": {},
     "output_type": "execute_result"
    }
   ],
   "source": [
    "permission_regex"
   ]
  },
  {
   "cell_type": "markdown",
   "id": "9411c428",
   "metadata": {},
   "source": [
    "# check all object"
   ]
  },
  {
   "cell_type": "code",
   "execution_count": 64,
   "id": "9c389e6d",
   "metadata": {},
   "outputs": [
    {
     "data": {
      "text/plain": [
       "129"
      ]
     },
     "execution_count": 64,
     "metadata": {},
     "output_type": "execute_result"
    }
   ],
   "source": [
    "# This contain all object including \"subject\" and \"object\"\n",
    "len(Utility.get_set_of_dict(graph)[\"File\"])"
   ]
  }
 ],
 "metadata": {
  "kernelspec": {
   "display_name": "Python 3 (ipykernel)",
   "language": "python",
   "name": "python3"
  },
  "language_info": {
   "codemirror_mode": {
    "name": "ipython",
    "version": 3
   },
   "file_extension": ".py",
   "mimetype": "text/x-python",
   "name": "python",
   "nbconvert_exporter": "python",
   "pygments_lexer": "ipython3",
   "version": "3.10.5"
  }
 },
 "nbformat": 4,
 "nbformat_minor": 5
}
