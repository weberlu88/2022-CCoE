{
 "cells": [
  {
   "cell_type": "code",
   "execution_count": 13,
   "id": "ff33c14e",
   "metadata": {},
   "outputs": [],
   "source": [
    "import ASG\n",
    "import Utility\n",
    "import os\n",
    "# import importlib\n",
    "# importlib.reload(Utility)"
   ]
  },
  {
   "cell_type": "code",
   "execution_count": 30,
   "id": "673f7ae7",
   "metadata": {},
   "outputs": [
    {
     "name": "stdout",
     "output_type": "stream",
     "text": [
      "path is correct: True\n"
     ]
    },
    {
     "data": {
      "text/plain": [
       "[(<ASG.Node at 0x24f45f6a7d0>, <ASG.Node at 0x24f25be3550>, 'read'),\n",
       " (<ASG.Node at 0x24f25be3550>, <ASG.Node at 0x24f45f6ae30>, 'brk'),\n",
       " (<ASG.Node at 0x24f25be3550>, <ASG.Node at 0x24f45f6ae30>, 'brk')]"
      ]
     },
     "execution_count": 30,
     "metadata": {},
     "output_type": "execute_result"
    }
   ],
   "source": [
    "# Only need to change the path variable\n",
    "# path = \"../../C ASG statistics 1115ver/saved_pkl/Dofloo/0046a78514a658b9b7a4e29e8581f85b.bin\"\n",
    "path = \"../../C ASG/trace/Dofloo/0046a78514a658b9b7a4e29e8581f85b.bin\"\n",
    "print(\"path is correct:\", os.path.exists(path))\n",
    "graph = ASG.AttackGraph(path)\n",
    "graph.create()\n",
    "graph.step_list[:3]"
   ]
  },
  {
   "cell_type": "markdown",
   "id": "c241996d",
   "metadata": {},
   "source": [
    "# For file regex"
   ]
  },
  {
   "cell_type": "code",
   "execution_count": 31,
   "id": "a1d9e39d",
   "metadata": {},
   "outputs": [
    {
     "name": "stdout",
     "output_type": "stream",
     "text": [
      "Objects num: 21\n",
      "Match Regex num: 12\n",
      "Non match file num: 0\n"
     ]
    }
   ],
   "source": [
    "set_of_objects_file = Utility.get_set_of_objects_file(graph)\n",
    "\n",
    "# rule dict from .xlsx\n",
    "RULES_DICT = Utility.build_RULES_DICT() \n",
    "\n",
    "# use the rule dict to build up the regex, it may not match all objects\n",
    "regex_match_file, regex_non_match_file = Utility.build_file_regex(set_of_objects_file, RULES_DICT) \n",
    "file_regex = list(regex_match_file.keys())\n",
    "\n",
    "print(\"Objects num:\", len(set_of_objects_file))\n",
    "print(\"Match Regex num:\", len(regex_match_file))\n",
    "print(\"Non match file num:\", len(regex_non_match_file))"
   ]
  },
  {
   "cell_type": "code",
   "execution_count": 32,
   "id": "37cf1d6a",
   "metadata": {},
   "outputs": [
    {
     "data": {
      "text/plain": [
       "['/.*bin/sed',\n",
       " '/dev/urandom',\n",
       " '/etc/init\\\\.d/.*',\n",
       " '/etc/rc.*\\\\.d/.*',\n",
       " '/etc/rc\\\\.local',\n",
       " '/etc/sed[0-9a-zA-Z]{6}',\n",
       " '.*/selinux',\n",
       " '/proc/net/dev',\n",
       " '/proc/self',\n",
       " '/proc/stat',\n",
       " '/sys/devices/.*',\n",
       " 'uname']"
      ]
     },
     "execution_count": 32,
     "metadata": {},
     "output_type": "execute_result"
    }
   ],
   "source": [
    "file_regex"
   ]
  },
  {
   "cell_type": "code",
   "execution_count": 33,
   "id": "d9537c7b",
   "metadata": {},
   "outputs": [
    {
     "data": {
      "text/plain": [
       "{'/.*bin/sed': ['/bin/sed',\n",
       "  '/sbin/sed',\n",
       "  '/usr/bin/sed',\n",
       "  '/usr/local/bin/sed',\n",
       "  '/usr/local/sbin/sed',\n",
       "  '/usr/sbin/sed'],\n",
       " '/dev/urandom': ['/dev/urandom'],\n",
       " '/etc/init\\\\.d/.*': ['/etc/init.d/boot.local'],\n",
       " '/etc/rc.*\\\\.d/.*': ['/etc/rc.d/rc.local'],\n",
       " '/etc/rc\\\\.local': ['/etc/rc.local'],\n",
       " '/etc/sed[0-9a-zA-Z]{6}': ['/etc/sedQUGLbs',\n",
       "  '/etc/sedQhw17q',\n",
       "  '/etc/sedvTqQwq'],\n",
       " '.*/selinux': ['/sys/fs/selinux'],\n",
       " '/proc/net/dev': ['/proc/net/dev'],\n",
       " '/proc/self': ['/proc/self/exe'],\n",
       " '/proc/stat': ['/proc/stat'],\n",
       " '/sys/devices/.*': ['/sys/devices/system/cpu/online'],\n",
       " 'uname': ['uname']}"
      ]
     },
     "execution_count": 33,
     "metadata": {},
     "output_type": "execute_result"
    }
   ],
   "source": [
    "regex_match_file"
   ]
  },
  {
   "cell_type": "code",
   "execution_count": 34,
   "id": "640c3b1e",
   "metadata": {},
   "outputs": [
    {
     "data": {
      "text/plain": [
       "[]"
      ]
     },
     "execution_count": 34,
     "metadata": {},
     "output_type": "execute_result"
    }
   ],
   "source": [
    "regex_non_match_file"
   ]
  },
  {
   "cell_type": "markdown",
   "id": "770b4e9f",
   "metadata": {},
   "source": [
    "# For remain regex"
   ]
  },
  {
   "cell_type": "code",
   "execution_count": 35,
   "id": "e14a8c65",
   "metadata": {},
   "outputs": [],
   "source": [
    "proc_regex = Utility.get_proc_regex(graph)\n",
    "net_regex = Utility.get_net_regex(graph)\n",
    "mem_regex = Utility.get_mem_regex(graph)\n",
    "ID_regex = Utility.get_ID_regex(graph)\n",
    "permission_regex = Utility.get_premission_regex(graph)"
   ]
  },
  {
   "cell_type": "code",
   "execution_count": 36,
   "id": "829fba1e",
   "metadata": {},
   "outputs": [
    {
     "data": {
      "text/plain": [
       "['sh', 'sed']"
      ]
     },
     "execution_count": 36,
     "metadata": {},
     "output_type": "execute_result"
    }
   ],
   "source": [
    "proc_regex"
   ]
  },
  {
   "cell_type": "code",
   "execution_count": 37,
   "id": "56cdcf5a",
   "metadata": {},
   "outputs": [
    {
     "data": {
      "text/plain": [
       "['eth.*',\n",
       " '\\\\d{1,3}\\\\.\\\\d{1,3}\\\\.\\\\d{1,3}\\\\.\\\\d{1,3}',\n",
       " 'port d+ ',\n",
       " '\\\\d{1,3}\\\\.\\\\d{1,3}\\\\.\\\\d{1,3}\\\\.\\\\d{1,3}:d+']"
      ]
     },
     "execution_count": 37,
     "metadata": {},
     "output_type": "execute_result"
    }
   ],
   "source": [
    "net_regex"
   ]
  },
  {
   "cell_type": "code",
   "execution_count": 38,
   "id": "9b166dbc",
   "metadata": {},
   "outputs": [
    {
     "data": {
      "text/plain": [
       "['0x[0-9a-zA-Z]{8}']"
      ]
     },
     "execution_count": 38,
     "metadata": {},
     "output_type": "execute_result"
    }
   ],
   "source": [
    "mem_regex"
   ]
  },
  {
   "cell_type": "code",
   "execution_count": 39,
   "id": "800dc228",
   "metadata": {},
   "outputs": [
    {
     "data": {
      "text/plain": [
       "['UID.*', 'GID.*', 'PID.*']"
      ]
     },
     "execution_count": 39,
     "metadata": {},
     "output_type": "execute_result"
    }
   ],
   "source": [
    "ID_regex"
   ]
  },
  {
   "cell_type": "code",
   "execution_count": 40,
   "id": "8bbae629",
   "metadata": {},
   "outputs": [
    {
     "data": {
      "text/plain": [
       "['Permission', 'Permission:[0-9]{3}']"
      ]
     },
     "execution_count": 40,
     "metadata": {},
     "output_type": "execute_result"
    }
   ],
   "source": [
    "permission_regex"
   ]
  },
  {
   "cell_type": "code",
   "execution_count": null,
   "id": "d14d356b",
   "metadata": {},
   "outputs": [],
   "source": []
  },
  {
   "cell_type": "markdown",
   "id": "8d7362f7",
   "metadata": {},
   "source": [
    "# check all object"
   ]
  },
  {
   "cell_type": "code",
   "execution_count": 41,
   "id": "1c126147",
   "metadata": {},
   "outputs": [
    {
     "data": {
      "text/plain": [
       "{'File': ['uname',\n",
       "  '/proc/self/exe',\n",
       "  '/prober',\n",
       "  '.',\n",
       "  '/usr/local/sbin/sed',\n",
       "  '/usr/local/bin/sed',\n",
       "  '/usr/sbin/sed',\n",
       "  '/usr/bin/sed',\n",
       "  '/sbin/sed',\n",
       "  '/bin/sed',\n",
       "  '/sys/fs/selinux',\n",
       "  '/selinux',\n",
       "  '/etc/selinux/config',\n",
       "  '/etc/rc.local',\n",
       "  '/etc/sedQUGLbs',\n",
       "  '/etc/sedQhw17q',\n",
       "  '/etc/sedvTqQwq',\n",
       "  '/etc/rc.d/rc.local',\n",
       "  '/etc/init.d/boot.local',\n",
       "  '/dev/urandom',\n",
       "  '/proc/net/dev',\n",
       "  '/sys/devices/system/cpu/online',\n",
       "  '/proc/stat'],\n",
       " 'Process': ['sh', '1526', 'sed', 'NO_PID', '1527', '1528', '1529'],\n",
       " 'Net': ['eth0',\n",
       "  'eth1',\n",
       "  'eth2',\n",
       "  'eth3',\n",
       "  'eth4',\n",
       "  'eth5',\n",
       "  'eth6',\n",
       "  'eth7',\n",
       "  'eth8',\n",
       "  'eth9',\n",
       "  '23.236.66.13:50050',\n",
       "  'NO_SOCKET'],\n",
       " 'Memory': ['Memory Address'],\n",
       " 'Other': ['8192*1024 bytes',\n",
       "  'status:0',\n",
       "  'UID:0',\n",
       "  'GID:0',\n",
       "  'PID:1514',\n",
       "  'PID:1513',\n",
       "  'Permission:0700',\n",
       "  'PID:1515',\n",
       "  'Permission:022',\n",
       "  'PID:1516',\n",
       "  'status:1',\n",
       "  'PID:1518',\n",
       "  'PID:1519',\n",
       "  'PID:1520',\n",
       "  'PID:1521',\n",
       "  'PID:1522',\n",
       "  'status:2',\n",
       "  'PID:1524',\n",
       "  'Sleep Duration',\n",
       "  'Timestamp']}"
      ]
     },
     "execution_count": 41,
     "metadata": {},
     "output_type": "execute_result"
    }
   ],
   "source": [
    "# This contain all object including \"subject\" and \"object\"\n",
    "Utility.get_set_of_dict(graph)"
   ]
  },
  {
   "cell_type": "code",
   "execution_count": null,
   "id": "b9f186ad",
   "metadata": {},
   "outputs": [],
   "source": []
  }
 ],
 "metadata": {
  "kernelspec": {
   "display_name": "Python 3",
   "language": "python",
   "name": "python3"
  },
  "language_info": {
   "codemirror_mode": {
    "name": "ipython",
    "version": 3
   },
   "file_extension": ".py",
   "mimetype": "text/x-python",
   "name": "python",
   "nbconvert_exporter": "python",
   "pygments_lexer": "ipython3",
   "version": "3.10.5"
  },
  "vscode": {
   "interpreter": {
    "hash": "125a1d8b627fe68767755740015967bae857d08bb92fb3fd0d9d8ed24f978d39"
   }
  }
 },
 "nbformat": 4,
 "nbformat_minor": 5
}
