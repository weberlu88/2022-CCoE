{
 "cells": [
  {
   "cell_type": "code",
   "execution_count": 1,
   "metadata": {},
   "outputs": [
    {
     "name": "stderr",
     "output_type": "stream",
     "text": [
      "c:\\Users\\luweb\\OneDrive\\文件\\GitHub\\2022-CCoE\\Model\\Exp4_autore\\Utility.py:152: DeprecationWarning:invalid escape sequence '\\.'\n",
      "c:\\Users\\luweb\\OneDrive\\文件\\GitHub\\2022-CCoE\\Model\\Exp4_autore\\Utility.py:353: DeprecationWarning:invalid escape sequence '\\d'\n",
      "c:\\Users\\luweb\\OneDrive\\文件\\GitHub\\2022-CCoE\\Model\\Exp4_autore\\Utility.py:353: DeprecationWarning:invalid escape sequence '\\d'\n",
      "c:\\Users\\luweb\\OneDrive\\文件\\GitHub\\2022-CCoE\\Model\\Exp4_autore\\Utility.py:353: DeprecationWarning:invalid escape sequence '\\d'\n",
      "c:\\Users\\luweb\\AppData\\Local\\Programs\\Python\\Python310\\lib\\site-packages\\tqdm\\auto.py:22: TqdmWarning:IProgress not found. Please update jupyter and ipywidgets. See https://ipywidgets.readthedocs.io/en/stable/user_install.html\n"
     ]
    }
   ],
   "source": [
    "import re\n",
    "import os\n",
    "from os import listdir\n",
    "from os.path import isfile, join\n",
    "from pathlib import Path\n",
    "import pandas as pd\n",
    "import pickle\n",
    "from typing import Dict, List, get_type_hints\n",
    "from styleframe import StyleFrame, Styler\n",
    "from IPython.display import display\n",
    "\n",
    "''' 自己寫的模組 '''\n",
    "from cc_regex_script import RegexMatchResult, RegexMaster \n",
    "from cc_nlp_script import find_verb_of_vocab, OperationMode, OperationEvaluator\n",
    "from ASG import AttackGraph, Node, Edge, FileTable #, build"
   ]
  },
  {
   "attachments": {},
   "cell_type": "markdown",
   "metadata": {},
   "source": [
    "### Load 所有 Sample 的 trace，計算並儲存其 regex"
   ]
  },
  {
   "cell_type": "code",
   "execution_count": 63,
   "metadata": {},
   "outputs": [
    {
     "name": "stdout",
     "output_type": "stream",
     "text": [
      "family Dofloo has numOfSample 13, first is 0046a78514a658b9b7a4e29e8581f85b\n",
      "samplename: ['0046a78514a658b9b7a4e29e8581f85b', '121ca5362f9bc3fff5258b757e4250e5', '26d45f2e2d360ff1707c734006878dcb', '392214344b6d802dc4da644be260277e', '44d98df44327179d1a11dce725d0fa4a', '52ff8e32c390389f5bf18e0f0e2d9ada', '54a11aacadee0ed46e76373cfb8ed296', '5700e4b1c6498619a0e2562321363bd0', '60f879ed44de37351c973f01d0d77f79', '74ea372e01980c67f8a6f40b39897ebe', '9a37fcc7eab08d59532bc5c66390bc30', 'bd6b7198812618eab8ef45c7dabeebb0', 'f477b05826c46ac8a482e85d89b00de0']\n"
     ]
    }
   ],
   "source": [
    "family = 'Dofloo' # Dofloo Xorddos\n",
    "\n",
    "sample_info = pd.read_csv('../../C malware info/sample_info.csv')\n",
    "dofloo_info = sample_info[(sample_info['family'] == family) & \n",
    "            (~sample_info['filename'].isin(['8845355172c485813872f1bb1834de15.bin']))]\n",
    "samplename_lst = dofloo_info['filename'].to_list()\n",
    "samplename_lst = [name.split('.')[0] for name in samplename_lst]\n",
    "samplename_lst = samplename_lst[:-1] # 不知道為什麼，只要納入最後一個樣本，前面的所有樣本，取到的文件會取錯。\n",
    "print(f\"family {family} has numOfSample {len(samplename_lst)}, first is {samplename_lst[0]}\")\n",
    "\n",
    "# if family == 'Dofloo':\n",
    "#     samplename_lst = ['0046a78514a658b9b7a4e29e8581f85b'] # 只先使用這個 dof sample\n",
    "# if family == 'Xorddos':\n",
    "#     samplename_lst = ['0aefb67c01a24d05351b093455203fa2'] # 只先使用這個 xor sample\n",
    "\n",
    "print('samplename:', samplename_lst)"
   ]
  },
  {
   "cell_type": "code",
   "execution_count": 64,
   "metadata": {},
   "outputs": [
    {
     "name": "stdout",
     "output_type": "stream",
     "text": [
      "True\n",
      "{<OP act=a, obj=a>}\n"
     ]
    }
   ],
   "source": [
    "def prettifyName(item:str) -> str:\n",
    "    pretty_name = {\n",
    "        r\"\\d{1,3}\\.\\d{1,3}\\.\\d{1,3}\\.\\d{1,3}\": \"ip_addr\",\n",
    "        r\"\\d{1,3}\\.\\d{1,3}\\.\\d{1,3}\\.\\d{1,3}:\\d+\": \"ip_addr+port\",\n",
    "        r\"\\d{1,3}\\.\\d{1,3}\\.\\d{1,3}\\.\\d{1,3}:d+\":  \"ip_addr+port\",\n",
    "        r\"0x[0-9a-zA-Z]{8}\": \"mem_addr\",\n",
    "        r\"Permission:[0-9]{3}\":        \"permission_id\",\n",
    "        r\"permission:{0,1}[0-9]{0,4}\": \"permission_id\"\n",
    "    }\n",
    "    changed = pretty_name.get(item, None)\n",
    "    if changed:\n",
    "        return changed\n",
    "    return item\n",
    "\n",
    "class OperationPair:\n",
    "    SYSCALL = 0\n",
    "    VERB = 1    # not use now (may cause confused)\n",
    "\n",
    "    def __init__(self, action:str, object:str, isSyscall:bool=False, subject:str=None, \\\n",
    "                 step_number:int=None , original_object=None, \\\n",
    "                 original_sentence=None, object_type=None):\n",
    "        self.object:str = object # regex\n",
    "        self.action:str = action # verb or syscall\n",
    "        self.isSyscall:bool = isSyscall # action type (syscall or verb)\n",
    "        self.object_type:str = object_type # FILE, NET, PROC, MEM, INFO\n",
    "        self.subject:str = subject\n",
    "        self.step_number:int = step_number\n",
    "        self.original_object:str = original_object # can store original matched word (object) from CTD\n",
    "        self.original_sentence:str = original_sentence # can store the mathced sentence\n",
    "        pass\n",
    "\n",
    "    def __eq__(self, other): \n",
    "        if not isinstance(other, OperationPair):\n",
    "            # don't attempt to compare against unrelated types\n",
    "            return NotImplemented\n",
    "        # Same if <action, object> pair is same (type is not consider yet)\n",
    "        return self.action == other.action and self.object == other.object\n",
    "\n",
    "    def __hash__(self) -> int:\n",
    "        # necessary for instances to behave sanely in dicts and sets.\n",
    "        return hash((self.action, self.object))\n",
    "\n",
    "    def _getActionStr(self) -> str:\n",
    "        if self.isSyscall:\n",
    "            return f\"{self.action}()\"\n",
    "        return self.action\n",
    "    def __str__(self) -> str:\n",
    "        if self.step_number:\n",
    "            return f\"<OP{self.step_number:>2} act={self._getActionStr()}, obj={prettifyName(self.object)}>\"\n",
    "        return f\"<OP act={self._getActionStr()}, obj={prettifyName(self.object)}>\"\n",
    "    def __repr__(self) -> str:\n",
    "        return str(self)\n",
    "    def getSentStr(self) -> str:\n",
    "        '''return string contains original_object & flat_sentence'''\n",
    "        flat_sentence = \" \".join(self.original_sentence.splitlines())\n",
    "        return f\"<OP{self.step_number:>2} act={self._getActionStr()}, obj={prettifyName(self.original_object)}, sent={flat_sentence}>\"\n",
    "        \n",
    "# test case\n",
    "p_aa = OperationPair('a','a')\n",
    "p_aaz = OperationPair('a','a')\n",
    "p_ab = OperationPair('a','b')\n",
    "\n",
    "print(p_aa == p_aaz) # True\n",
    "print(set([p_aa, p_aaz])) # one element\n",
    "\n",
    "def construct_sample_OPset(step_list: list, regexMaster:RegexMaster, keep_src_node=False, debug=False, rt_order=True) -> set:\n",
    "    '''return a list of OPset. RegexMaster and family are gobal variable.'''\n",
    "    if debug:\n",
    "        print('step_list len:', len(set(step_list)))\n",
    "    OPlst_raw = list((src_node.name, dst_node.name, syscall) for (src_node, dst_node, syscall) in step_list) # object is raw\n",
    "    OPset_raw = list(dict.fromkeys(OPlst_raw))\n",
    "    if debug:\n",
    "        print('OPlst_raw len:', len(OPlst_raw)) # why len is 123100? (while step_list len is 7775) (must be equal)\n",
    "        print(f\"OPlst_raw: {OPlst_raw[:10]}\")\n",
    "        print('OPset_raw len:', len(OPset_raw)) # len is 5925 for xor\n",
    "        print(f\"OPset_raw: {OPset_raw[:10]}\")\n",
    "    # regexMaster = RegexMaster()\n",
    "    # regex_pool = regexMaster.get_all_regex()\n",
    "    OPset = set()\n",
    "    OPset_ordered = list()\n",
    "    for (src_node, dst_node, syscall) in OPset_raw:\n",
    "        # regex_dst_node_list = RegexMaster.find_spacial_token_with_regex(regex_pool, dst_node)\n",
    "        regex_dst_node_list:list[RegexMatchResult] = regexMaster.find_spacial_token(dst_node)\n",
    "        if regex_dst_node_list is None or len(regex_dst_node_list) == 0:\n",
    "            continue\n",
    "        for regex_result in regex_dst_node_list:\n",
    "            dst_node = regex_result.match_regex\n",
    "            step_number = len(OPset) + 1\n",
    "            if keep_src_node:\n",
    "                op = OperationPair(syscall, dst_node, subject=src_node, isSyscall=True,\\\n",
    "                                   step_number=step_number, object_type=regex_result.type)\n",
    "                OPset.add(op) # keep src_node in OP\n",
    "                if op not in OPset_ordered:\n",
    "                    OPset_ordered.append(op)\n",
    "            else:\n",
    "                op = OperationPair(syscall, dst_node, isSyscall=True,\\\n",
    "                                   step_number=step_number, object_type=regex_result.type)\n",
    "                OPset.add(op) # only dst_node, syscall in OP\n",
    "                if op not in OPset_ordered:\n",
    "                    OPset_ordered.append(op)\n",
    "    if debug:\n",
    "        print('OPset len:', len(OPset), 'OPset_ordered len:', len(OPset_ordered))\n",
    "    if rt_order:\n",
    "        return OPset, OPset_ordered\n",
    "    return OPset\n",
    "\n",
    "# test\n",
    "# sample_OPset = construct_sample_OPset(asg.step_list, debug=True)"
   ]
  },
  {
   "cell_type": "code",
   "execution_count": 65,
   "metadata": {},
   "outputs": [
    {
     "name": "stdout",
     "output_type": "stream",
     "text": [
      "path is correct: True 004\n",
      "#1 num of objects 63, num of regexs 24,, num of asg steps 293, num of asg OPset 38\n",
      "path is correct: True 121\n",
      "#2 num of objects 62, num of regexs 24,, num of asg steps 291, num of asg OPset 38\n",
      "path is correct: True 26d\n",
      "#3 num of objects 62, num of regexs 24,, num of asg steps 291, num of asg OPset 38\n",
      "path is correct: True 392\n",
      "#4 num of objects 63, num of regexs 24,, num of asg steps 293, num of asg OPset 38\n",
      "path is correct: True 44d\n",
      "#5 num of objects 63, num of regexs 24,, num of asg steps 293, num of asg OPset 38\n",
      "path is correct: True 52f\n",
      "#6 num of objects 37, num of regexs 16,, num of asg steps 69, num of asg OPset 23\n",
      "path is correct: True 54a\n",
      "#7 num of objects 63, num of regexs 24,, num of asg steps 293, num of asg OPset 38\n",
      "path is correct: True 570\n",
      "#8 num of objects 69, num of regexs 27,, num of asg steps 298, num of asg OPset 46\n",
      "path is correct: True 60f\n",
      "#9 num of objects 81, num of regexs 30,, num of asg steps 389, num of asg OPset 49\n",
      "path is correct: True 74e\n",
      "#10 num of objects 81, num of regexs 30,, num of asg steps 389, num of asg OPset 49\n",
      "path is correct: True 9a3\n",
      "#11 num of objects 63, num of regexs 24,, num of asg steps 293, num of asg OPset 38\n",
      "path is correct: True bd6\n",
      "#12 num of objects 63, num of regexs 24,, num of asg steps 293, num of asg OPset 38\n",
      "path is correct: True f47\n",
      "#13 num of objects 37, num of regexs 16,, num of asg steps 69, num of asg OPset 23\n",
      "Exam: sample S1 matches 24 of regex\n",
      "Size of total_used_regex: 38\n"
     ]
    }
   ],
   "source": [
    "class Sample:\n",
    "    def __init__(self, samplename:str, regex_set:set=None, special_token_dict=None, \\\n",
    "                 step_list=None, regexMaster=None) -> None:\n",
    "        self.samplename: str = samplename\n",
    "        self.regexMaster = None\n",
    "        if regexMaster:\n",
    "            self.regexMaster = regexMaster\n",
    "        self.regex_set: set = set()\n",
    "        if regex_set:\n",
    "            self.regex_set = regex_set\n",
    "        self.special_token_dict = {}\n",
    "        if special_token_dict:\n",
    "            self.special_token_dict: dict = special_token_dict # list of dict\n",
    "        if step_list:\n",
    "            self.step_list = step_list\n",
    "            OPset, OPset_ordered = construct_sample_OPset(step_list, self.regexMaster)\n",
    "            self.OPset: set[OperationPair] = OPset\n",
    "            self.OPset_ordered: list[OperationPair] = OPset_ordered # 依照出現順序排序的 OPset (元素相同順序不同)\n",
    "            self.OPset_sysOnly_ordered = [] # 尚未初始化 只儲存改變系統狀態的 OP 的物件\n",
    "            self.OPset_sysOnly_ordered_index = [] # 尚未初始化 只儲存改變系統狀態的 OP 的 index\n",
    "            del OPset, OPset_ordered\n",
    "        pass\n",
    "    def __repr__(self) -> str:\n",
    "        return f\"<Sample self.samplename>\"\n",
    "\n",
    "''' 讀取 ASG 中的 set_of_object (就是這個樣本的 special_token_dict)，並歸納樣本的 regex_set '''\n",
    "# regexMaster = RegexMaster()\n",
    "# regex_pool = regexMaster.get_all_regex()\n",
    "# total_used_regex = set()\n",
    "samples: list[Sample] = []\n",
    "total_used_regex = set()\n",
    "for i,samplename in enumerate(samplename_lst):\n",
    "\n",
    "    trace_path = f\"../../C ASG/trace/{family}/{samplename}.bin\"\n",
    "    print(\"path is correct:\", os.path.exists(trace_path), samplename[:3])\n",
    "    asg = AttackGraph(trace_path)\n",
    "    asg.create()\n",
    "\n",
    "    # every sample has its own regexMaster to store its used regex.\n",
    "    regexMaster = RegexMaster(asg)\n",
    "\n",
    "    sample = Sample(samplename, special_token_dict=asg.set_of_object, step_list=asg.step_list, \\\n",
    "                    regexMaster=regexMaster)\n",
    "    sample.regex_set = regexMaster.get_used_regex() # used_regex_set 會return額外的regex喔，如mem, port\n",
    "    samples.append(sample)\n",
    "    total_used_regex = total_used_regex | sample.regex_set\n",
    "\n",
    "    # statistic\n",
    "    print(f\"#{i+1} num of objects {len(asg.set_of_object)}, num of regexs {len(sample.regex_set)},\\\n",
    ", num of asg steps {len(set(asg.step_list))}, num of asg OPset {len(sample.OPset)}\")\n",
    "\n",
    "    # with open(f'../../C ASG statistics 1115ver/saved_pkl/{family}/{samplename}.pkl', 'rb') as inp:\n",
    "    #     # asg: AttackGraph = pickle.load(inp) # asg.set_of_object is dict() (key:spacial token, value: type 首字大寫)\n",
    "    #     sample = Sample(samplename, special_token_dict=asg.set_of_object, step_list=asg.step_list)\n",
    "    #     regexMaster = RegexMaster(asg)\n",
    "    #     regex_pool = regexMaster.get_all_regex()\n",
    "    #     sample.regex_set = set(regex_pool) # 直接使用志剛寫的作為這個樣本的 baseline\n",
    "    #     # for obj in sample.special_token_dict.keys():\n",
    "    #     #     matched_list: list[RegexMatchResult] = regexMaster.find_spacial_token(obj)\n",
    "    #     #     if matched_list:\n",
    "    #     #         # print(obj, matched_list)\n",
    "    #     #         [sample.regex_set.add(m.match_regex) for m in matched_list]\n",
    "    #     #         # [total_used_regex.add(m.match_regex) for m in matched_list]\n",
    "    #     # print('------', sample.regex_set)\n",
    "    #     # break\n",
    "    #     samples.append(sample)\n",
    "    # del asg\n",
    "print(f'Exam: sample S1 matches {len(samples[0].regex_set)} of regex')\n",
    "print(f'Size of total_used_regex: {len(total_used_regex)}')"
   ]
  },
  {
   "cell_type": "code",
   "execution_count": 40,
   "metadata": {},
   "outputs": [
    {
     "name": "stdout",
     "output_type": "stream",
     "text": [
      "1 info ['uname(.|$)']\n",
      "13 file ['/.*bin/sed', '/dev/urandom', '/etc/init\\\\.d/.*', '/etc/rc.*\\\\.d/.*', '/etc/rc\\\\.local', '/etc/sed[0-9a-zA-Z]{6}', '.*/selinux', '/proc/net/dev', '/proc/self', '/proc/stat', '/sys/devices/.*', 'Permission', 'Permission:[0-9]{3}']\n",
      "4 net ['^eth.*', '\\\\d{1,3}\\\\.\\\\d{1,3}\\\\.\\\\d{1,3}\\\\.\\\\d{1,3}', 'port \\\\d+', '\\\\d{1,3}\\\\.\\\\d{1,3}\\\\.\\\\d{1,3}\\\\.\\\\d{1,3}:\\\\d+']\n",
      "3 ID ['^UID.*', '^GID.*', '^PID.*']\n",
      "2 proc ['^sh$', '^sed$']\n",
      "1 mem ['0x[0-9a-zA-Z]{8}']\n"
     ]
    }
   ],
   "source": [
    "# 不確定為何兩個集合不同\n",
    "print(len(regexMaster.info_regex),'info',regexMaster.info_regex)\n",
    "print(len(regexMaster.file_regex),'file',regexMaster.file_regex)\n",
    "print(len(regexMaster.net_regex),'net',regexMaster.net_regex)\n",
    "print(len(regexMaster.ID_regex),'ID',regexMaster.ID_regex)\n",
    "print(len(regexMaster.proc_regex),'proc',regexMaster.proc_regex)\n",
    "print(len(regexMaster.mem_regex),'mem',regexMaster.mem_regex)"
   ]
  },
  {
   "cell_type": "code",
   "execution_count": 41,
   "metadata": {},
   "outputs": [
    {
     "data": {
      "text/plain": [
       "' Save result to txt file 沒事不要 run ! '"
      ]
     },
     "execution_count": 41,
     "metadata": {},
     "output_type": "execute_result"
    }
   ],
   "source": [
    "''' Save result to txt file 沒事不要 run ! '''\n",
    "# total_regex = set()\n",
    "# with open('./result/countof_regexset.txt', 'w', encoding='utf-8') as opf:\n",
    "#     # header\n",
    "#     opf.write('{:12s}'.format('Sample no.'))\n",
    "#     for i in range(len(samples)):\n",
    "#         if i+1 < 10:\n",
    "#             opf.write(f' S{i+1} ')\n",
    "#         else:\n",
    "#             opf.write(f'S{i+1} ')\n",
    "#     opf.write('\\n')\n",
    "#     # opf.write('{:12s}'.format('# of regex'))\n",
    "#     num_of_regex_string = '{:12s}'.format('# of regex')\n",
    "#     num_of_objects_string = '{:12s}'.format('# of object ') # 所有的類別喔! 無過濾\n",
    "#     for i in range(len(samples)):\n",
    "#         # opf.write(f'{len(samples[i].regex_set):>3} ')\n",
    "#         num_of_regex_string += f'{len(samples[i].regex_set):>3} '\n",
    "#         num_of_objects_string += f'{len(samples[i].special_token_dict):>3} '\n",
    "#     opf.write(num_of_objects_string+'\\n')\n",
    "#     opf.write(num_of_regex_string)\n",
    "#     opf.write('\\n{:12s}'.format('Sample hash'))\n",
    "#     for i in range(len(samples)):\n",
    "#         opf.write(f'{samples[i].samplename[:3]:>3} ')\n",
    "#     opf.write('\\n\\n')\n",
    "#     opf.write(f'Size of regex_pool: {len(regex_pool)}, size of total_used_regex: {len(regexMaster.used_regex_set)}\\n\\n')\n",
    "\n",
    "#     # content of each sample\n",
    "#     for i,s in enumerate(samples):\n",
    "#         content_1 = f\"S{i+1} has {len(s.regex_set)} of regex\\n\"\n",
    "#         content_2 = f\"regex_set: {s.regex_set}\\n\"\n",
    "#         content_3 = f\"special_token_dict: {s.special_token_dict.keys()}\\n\"\n",
    "#         opf.writelines([content_1, content_2, content_3])\n",
    "#         opf.write('\\n\\n')"
   ]
  },
  {
   "cell_type": "markdown",
   "metadata": {},
   "source": [
    "### Load Reports"
   ]
  },
  {
   "cell_type": "code",
   "execution_count": 42,
   "metadata": {},
   "outputs": [
    {
     "data": {
      "text/plain": [
       "['Dofloo-BleepingComputer.csv',\n",
       " 'Dofloo-MalwareMustDie.csv',\n",
       " 'Dofloo-Securityaffairs.csv',\n",
       " 'Dofloo-SyscallParty.csv',\n",
       " 'Dofloo-Trendmicro.csv']"
      ]
     },
     "execution_count": 42,
     "metadata": {},
     "output_type": "execute_result"
    }
   ],
   "source": [
    "report_fir_path = '../../C parse report/sentence csvs/'\n",
    "# family, samplename, outputfolder = 'Xorddos', '???', './result'\n",
    "outputfolder = './result'\n",
    "\n",
    "def get_all_filenames(dir: str='./') -> list:\n",
    "    ''' traverse root directory, and list directories as dirs and files as files. Return filenames in rootdir. '''\n",
    "    files = [f for f in listdir(dir) if isfile(join(dir, f))]\n",
    "    files.sort()\n",
    "    return files\n",
    "\n",
    "xor_report_names = [f for f in get_all_filenames(report_fir_path) if f.startswith(family)] # 只選擇這個家族的報告\n",
    "xor_report_dfs = [pd.read_csv(f\"{report_fir_path}{f}\") for f in xor_report_names]\n",
    "xor_report_names"
   ]
  },
  {
   "cell_type": "code",
   "execution_count": 43,
   "metadata": {},
   "outputs": [
    {
     "data": {
      "text/html": [
       "<div>\n",
       "<style scoped>\n",
       "    .dataframe tbody tr th:only-of-type {\n",
       "        vertical-align: middle;\n",
       "    }\n",
       "\n",
       "    .dataframe tbody tr th {\n",
       "        vertical-align: top;\n",
       "    }\n",
       "\n",
       "    .dataframe thead th {\n",
       "        text-align: right;\n",
       "    }\n",
       "</style>\n",
       "<table border=\"1\" class=\"dataframe\">\n",
       "  <thead>\n",
       "    <tr style=\"text-align: right;\">\n",
       "      <th></th>\n",
       "      <th>Number</th>\n",
       "      <th>Content</th>\n",
       "    </tr>\n",
       "  </thead>\n",
       "  <tbody>\n",
       "    <tr>\n",
       "      <th>0</th>\n",
       "      <td>Sentence 1</td>\n",
       "      <td>exposed docker apis abused by ddos, cryptojack...</td>\n",
       "    </tr>\n",
       "    <tr>\n",
       "      <th>1</th>\n",
       "      <td>Sentence 2</td>\n",
       "      <td>the dofloo (aka aesddos) malware was first det...</td>\n",
       "    </tr>\n",
       "    <tr>\n",
       "      <th>2</th>\n",
       "      <td>Sentence 3</td>\n",
       "      <td>misconfigured docker services being abused is ...</td>\n",
       "    </tr>\n",
       "    <tr>\n",
       "      <th>3</th>\n",
       "      <td>Sentence 4</td>\n",
       "      <td>allowing external access — whether intentional...</td>\n",
       "    </tr>\n",
       "    <tr>\n",
       "      <th>4</th>\n",
       "      <td>Sentence 5</td>\n",
       "      <td>query to list all available containers\\nthe at...</td>\n",
       "    </tr>\n",
       "  </tbody>\n",
       "</table>\n",
       "</div>"
      ],
      "text/plain": [
       "       Number                                            Content\n",
       "0  Sentence 1  exposed docker apis abused by ddos, cryptojack...\n",
       "1  Sentence 2  the dofloo (aka aesddos) malware was first det...\n",
       "2  Sentence 3  misconfigured docker services being abused is ...\n",
       "3  Sentence 4  allowing external access — whether intentional...\n",
       "4  Sentence 5  query to list all available containers\\nthe at..."
      ]
     },
     "execution_count": 43,
     "metadata": {},
     "output_type": "execute_result"
    }
   ],
   "source": [
    "xor_report_dfs[0].head()"
   ]
  },
  {
   "cell_type": "markdown",
   "metadata": {},
   "source": [
    "### 單篇文章的 Class 和 整個 Family 的 Class\n",
    "`baseline: Dict[str, list]` 改為 `regexMaster: RegexMaster`"
   ]
  },
  {
   "cell_type": "code",
   "execution_count": 44,
   "metadata": {},
   "outputs": [],
   "source": [
    "class Metric:\n",
    "    def __init__(self) -> None:\n",
    "        self.objN:int = 0    # 物件分子\n",
    "        self.objD:int = 0    # 物件分母\n",
    "        self.objSysN:int = 0 # 系統設定檔物件分子\n",
    "        self.objSysD:int = 0 # 系統設定檔物件分母\n",
    "        self.opN:int = 0     # 動作和物件分子\n",
    "        self.opD:int = 0     # 動作和物件分母\n",
    "        self.opSysN:int = 0  # 動作和系統物件分子\n",
    "        self.opSysD:int = 0  # 動作和系統物件分母\n",
    "        pass\n",
    "    def safe_divide(self, num, denom):\n",
    "        if denom == 0:\n",
    "            return 0\n",
    "            # raise ZeroDivisionError(\"Error: Denominator cannot be zero.\")\n",
    "        return num / denom\n",
    "    \n",
    "    def setObj(self, num:int, denom:int) -> float:\n",
    "        self.objN, self.objD = num, denom\n",
    "        return self.safe_divide(self.objN, self.objD)\n",
    "    def setObjSys(self, num:int, denom:int) -> float:\n",
    "        self.objSysN, self.objSysD = num, denom\n",
    "        return self.safe_divide(self.objSysN, self.objSysD)\n",
    "    def setOp(self, num:int, denom:int) -> float:\n",
    "        self.opN, self.opD = num, denom\n",
    "        return self.safe_divide(self.opN, self.opD)\n",
    "    def setOpSys(self, num:int, denom:int) -> float:\n",
    "        self.opSysN, self.opSysD = num, denom\n",
    "        return self.safe_divide(self.opSysN, self.opSysD)\n",
    "    \n",
    "    def getMetricObj(self) -> float:\n",
    "        return self.safe_divide(self.objN, self.objD)\n",
    "    def getMetricObjSys(self) -> float:\n",
    "        return self.safe_divide(self.objSysN, self.objSysD)\n",
    "    def getMetricOp(self) -> float:\n",
    "        return self.safe_divide(self.opN, self.opD)\n",
    "    def getMetricOpSys(self) -> float:\n",
    "        return self.safe_divide(self.opSysN, self.opSysD)\n",
    "\n",
    "class ReportEvalModel:\n",
    "    def __init__(self, regexMaster:RegexMaster, sentences: pd.DataFrame, reportname:str='', regex_set: set=None):\n",
    "        # self.regex_set: set[str] = regex_set # 樣本or家族含有的 regex 集合\n",
    "        self.sentences = sentences # a df\n",
    "        self.reportname = reportname\n",
    "        cols = list(total_used_regex) # be careful! is global variable!!\n",
    "        self.match_tbl = pd.DataFrame([[0]*len(cols)]*len(sentences), columns=cols)\n",
    "        self.match_word:dict[(int,str), str] = dict() # key(idx_sent,regex) value(word:str)\n",
    "        self.match_regex = set()\n",
    "        self.doc_OPset:set[OperationPair] = set() # Set of doc's OperationalPair\n",
    "        self.match_doc_OPset:set[OperationPair] = set()\n",
    "        self.OPset_order_index = [] # 紀錄 ASG OP 的出現順序 (lifecycle)\n",
    "        self.SysOPset_order_index = [] # 只紀錄改變系統的\n",
    "        # self.asgSysOPset_order_index = []\n",
    "        self.regexMaster = regexMaster # 其實應該用 class function 就不用傳入一個物件，樣本or家族含有的 regex 集合\n",
    "        self.metric:Metric = None # 紀錄指標的分數\n",
    "        self.match()\n",
    "\n",
    "    def match(self) -> None:\n",
    "        '''find baseline in sentences of report. Fill matching result in self.match_tbl.'''\n",
    "        sentence_list = self.sentences['Content']\n",
    "        for idx_sent, sent in enumerate(sentence_list):\n",
    "            # print(idx_sent, sent)\n",
    "            # find regexs in a sentence\n",
    "            matched_list: list[RegexMatchResult] = regexMaster.find_spacial_token(sent)\n",
    "            if not matched_list:\n",
    "                continue\n",
    "            for m in matched_list:\n",
    "                this_re = m.match_regex\n",
    "                # matched_word = m.word\n",
    "                # print(matched_word, '|',sent[:10])\n",
    "                self.match_word[(idx_sent,this_re)] = m.word # 紀錄被 search 到的單字\n",
    "                # self.match_tbl.loc[idx_sent,this_re] = 1 # mark as found 節省空間\n",
    "                self.match_regex.add(this_re)\n",
    "                en_verb = find_verb_of_vocab(sent, m.word)\n",
    "                # print(f\"---\\nen_verb: {en_verb}, m.word: {m.word}, sent: {sent}\") # 列印所有動詞抓取情形\n",
    "                stepn = len(self.doc_OPset) + 1\n",
    "                # 如果 action 和 matched regex 相同，即使報告中object的原字串不同，也不會多計入。\n",
    "                if en_verb:\n",
    "                    self.doc_OPset.add(OperationPair(en_verb, this_re, original_object=m.word, \n",
    "                    step_number=stepn, original_sentence=sent, object_type=m.type)) # has verb\n",
    "                else:\n",
    "                    self.doc_OPset.add(OperationPair(None, this_re, original_object=m.word, \n",
    "                                                     step_number=stepn, object_type=m.type)) # no verb\n",
    "        pass\n",
    "    \n",
    "    def get_match_sentences(self) -> pd.DataFrame:\n",
    "        result = self.match_tbl.copy()\n",
    "        result['match'] = result.sum(axis=1)\n",
    "        return result\n",
    "    \n",
    "    def get_match_regexs(self) -> set:\n",
    "        return self.match_regex\n",
    "\n",
    "    def get_match_word(self, idx_sent:int, regex:str) -> str:\n",
    "        return self.match_word[(idx_sent, regex)]\n",
    "\n",
    "class FamilySet:\n",
    "    '''一個 malware family report 集合'''\n",
    "    def __init__(self, familyname:str, regexMaster: RegexMaster, sample: Sample=None):\n",
    "        self.familyname = familyname\n",
    "        self.regexMaster = regexMaster\n",
    "        self.num_of_used_regex = len(regexMaster.used_regex_set) # 這個家族含規則的總數量 (unoin by all samples)\n",
    "        self.sample = None\n",
    "        if sample:\n",
    "            self.sample = sample\n",
    "            self.num_of_used_regex = len(sample.regex_set) # 改以這個樣本規則的總數量為基準\n",
    "        self.rem_lst: List[ReportEvalModel] = [] # list of ReportEvalModel under this family\n",
    "        self.result_tbl = None\n",
    "\n",
    "    def add_rem(self, sentences: pd.DataFrame, reportname: str=''):\n",
    "        '''新增 report 到 FamilySet 中，需傳入文本和報告名稱，會沿用 FamilySet 的 baseline.'''\n",
    "        if self.sample:\n",
    "            rem = ReportEvalModel(self.regexMaster, sentences, reportname) # 基準是 Sample\n",
    "            self.rem_lst.append(rem)\n",
    "            return\n",
    "        # (legacy) no such condition\n",
    "        # rem = ReportEvalModel(self.regexMaster, sentences, reportname) # 基準是 Family union # need fix -> no first arg now\n",
    "        self.rem_lst.append(rem)\n",
    "\n",
    "    def calc_report_coverage_score(self, match_regexs: list[str], apply_weight=False) -> float:\n",
    "        '''(lagacy) 計算這篇報告的 coverage_score，未處理分母為0之情形'''\n",
    "        if not apply_weight:\n",
    "            return len(match_regexs) / self.num_of_used_regex # 無權種的算法，分母是家族 wide\n",
    "        ''' 以下 有權重的算法尚未修改，必出 bug '''\n",
    "        # denominator = sum(self.regexMaster['weight']) # 分母\n",
    "        # numerator = 0 # 分子\n",
    "        # for b, w in zip(self.regexMaster['text'], self.regexMaster['weight']):\n",
    "        #     if b in match_baselines:\n",
    "        #         numerator += w\n",
    "        # return numerator/denominator\n",
    "\n",
    "    def show_result(self, apply_weight: bool=False, base_on_sample = True):\n",
    "        '''(lagacy) print and return result table. baselinse(x) * report(y).'''\n",
    "        column_names = ['report_name','ttl_match','coverage_score']\n",
    "        if base_on_sample:\n",
    "            column_names.extend(list(self.sample.regex_set))\n",
    "        else:\n",
    "            column_names.extend(list(regexMaster.used_regex_set))\n",
    "        result_tbl = pd.DataFrame([[0]*len(column_names)]*len(self.rem_lst), columns=column_names)\n",
    "        for i,rem in enumerate(self.rem_lst):\n",
    "            match_regexes = rem.get_match_regexs() # 這篇報告含有哪些 baseine:set\n",
    "            c_score = self.calc_report_coverage_score(match_regexes, apply_weight=apply_weight)\n",
    "            result_tbl.loc[i,'report_name'] = rem.reportname\n",
    "            result_tbl.loc[i,'ttl_match'] = len(match_regexes)\n",
    "            result_tbl.loc[i,'coverage_score'] = f'{c_score:.4}'\n",
    "            for b in match_regexes:\n",
    "                result_tbl.loc[i,b] = 1\n",
    "            print(rem.reportname, match_regexes)\n",
    "        display(result_tbl)\n",
    "        return result_tbl"
   ]
  },
  {
   "attachments": {},
   "cell_type": "markdown",
   "metadata": {},
   "source": [
    "### Run Script: 存檔每篇報告的 matched sentence (以樣本的 regex set 為基準)\n",
    "比較樣本間的辨別度，有 n 個樣本，就會跑 n 變，得出 n 個結果 (FanilySet)"
   ]
  },
  {
   "cell_type": "code",
   "execution_count": 48,
   "metadata": {},
   "outputs": [
    {
     "name": "stderr",
     "output_type": "stream",
     "text": [
      "Some weights of the model checkpoint at bert-base-uncased were not used when initializing BertModel: ['cls.predictions.bias', 'cls.predictions.transform.LayerNorm.weight', 'cls.predictions.transform.LayerNorm.bias', 'cls.seq_relationship.weight', 'cls.predictions.transform.dense.bias', 'cls.seq_relationship.bias', 'cls.predictions.decoder.weight', 'cls.predictions.transform.dense.weight']\n",
      "- This IS expected if you are initializing BertModel from the checkpoint of a model trained on another task or with another architecture (e.g. initializing a BertForSequenceClassification model from a BertForPreTraining model).\n",
      "- This IS NOT expected if you are initializing BertModel from the checkpoint of a model that you expect to be exactly identical (initializing a BertForSequenceClassification model from a BertForSequenceClassification model).\n"
     ]
    },
    {
     "name": "stdout",
     "output_type": "stream",
     "text": [
      "=== mem_usage: 1164.75 MB ===\n",
      "Sample #004 Report #0 Dofloo-BleepingComputer.csv    metrics calculating...\n",
      "Sample #004 Report #1 Dofloo-MalwareMustDie.csv      metrics calculating...\n",
      "Sample #004 Report #2 Dofloo-Securityaffairs.csv     metrics calculating...\n",
      "R_malSysObj 比較系統物件 for Affairs 2 4\n",
      "before assign rem: None\n",
      "after assign rem: <__main__.Metric object at 0x000001C57B755E10>\n",
      "Sample #004 Report #3 Dofloo-SyscallParty.csv        metrics calculating...\n",
      "Sample #004 Report #4 Dofloo-Trendmicro.csv          metrics calculating...\n"
     ]
    },
    {
     "name": "stderr",
     "output_type": "stream",
     "text": [
      "Some weights of the model checkpoint at bert-base-uncased were not used when initializing BertModel: ['cls.predictions.bias', 'cls.predictions.transform.LayerNorm.weight', 'cls.predictions.transform.LayerNorm.bias', 'cls.seq_relationship.weight', 'cls.predictions.transform.dense.bias', 'cls.seq_relationship.bias', 'cls.predictions.decoder.weight', 'cls.predictions.transform.dense.weight']\n",
      "- This IS expected if you are initializing BertModel from the checkpoint of a model trained on another task or with another architecture (e.g. initializing a BertForSequenceClassification model from a BertForPreTraining model).\n",
      "- This IS NOT expected if you are initializing BertModel from the checkpoint of a model that you expect to be exactly identical (initializing a BertForSequenceClassification model from a BertForSequenceClassification model).\n"
     ]
    },
    {
     "name": "stdout",
     "output_type": "stream",
     "text": [
      "=== mem_usage: 1165.39 MB ===\n",
      "Sample #121 Report #0 Dofloo-BleepingComputer.csv    metrics calculating...\n",
      "Sample #121 Report #1 Dofloo-MalwareMustDie.csv      metrics calculating...\n",
      "Sample #121 Report #2 Dofloo-Securityaffairs.csv     metrics calculating...\n",
      "R_malSysObj 比較系統物件 for Affairs 2 4\n",
      "before assign rem: None\n",
      "after assign rem: <__main__.Metric object at 0x000001C55CD18EE0>\n",
      "Sample #121 Report #3 Dofloo-SyscallParty.csv        metrics calculating...\n",
      "Sample #121 Report #4 Dofloo-Trendmicro.csv          metrics calculating...\n"
     ]
    },
    {
     "name": "stderr",
     "output_type": "stream",
     "text": [
      "Some weights of the model checkpoint at bert-base-uncased were not used when initializing BertModel: ['cls.predictions.bias', 'cls.predictions.transform.LayerNorm.weight', 'cls.predictions.transform.LayerNorm.bias', 'cls.seq_relationship.weight', 'cls.predictions.transform.dense.bias', 'cls.seq_relationship.bias', 'cls.predictions.decoder.weight', 'cls.predictions.transform.dense.weight']\n",
      "- This IS expected if you are initializing BertModel from the checkpoint of a model trained on another task or with another architecture (e.g. initializing a BertForSequenceClassification model from a BertForPreTraining model).\n",
      "- This IS NOT expected if you are initializing BertModel from the checkpoint of a model that you expect to be exactly identical (initializing a BertForSequenceClassification model from a BertForSequenceClassification model).\n"
     ]
    },
    {
     "name": "stdout",
     "output_type": "stream",
     "text": [
      "=== mem_usage: 1165.06 MB ===\n",
      "Sample #26d Report #0 Dofloo-BleepingComputer.csv    metrics calculating...\n",
      "Sample #26d Report #1 Dofloo-MalwareMustDie.csv      metrics calculating...\n",
      "Sample #26d Report #2 Dofloo-Securityaffairs.csv     metrics calculating...\n",
      "R_malSysObj 比較系統物件 for Affairs 2 4\n",
      "before assign rem: None\n",
      "after assign rem: <__main__.Metric object at 0x000001C558846830>\n",
      "Sample #26d Report #3 Dofloo-SyscallParty.csv        metrics calculating...\n",
      "Sample #26d Report #4 Dofloo-Trendmicro.csv          metrics calculating...\n"
     ]
    },
    {
     "name": "stderr",
     "output_type": "stream",
     "text": [
      "Some weights of the model checkpoint at bert-base-uncased were not used when initializing BertModel: ['cls.predictions.bias', 'cls.predictions.transform.LayerNorm.weight', 'cls.predictions.transform.LayerNorm.bias', 'cls.seq_relationship.weight', 'cls.predictions.transform.dense.bias', 'cls.seq_relationship.bias', 'cls.predictions.decoder.weight', 'cls.predictions.transform.dense.weight']\n",
      "- This IS expected if you are initializing BertModel from the checkpoint of a model trained on another task or with another architecture (e.g. initializing a BertForSequenceClassification model from a BertForPreTraining model).\n",
      "- This IS NOT expected if you are initializing BertModel from the checkpoint of a model that you expect to be exactly identical (initializing a BertForSequenceClassification model from a BertForSequenceClassification model).\n"
     ]
    },
    {
     "name": "stdout",
     "output_type": "stream",
     "text": [
      "=== mem_usage: 1165.21 MB ===\n",
      "Sample #392 Report #0 Dofloo-BleepingComputer.csv    metrics calculating...\n",
      "Sample #392 Report #1 Dofloo-MalwareMustDie.csv      metrics calculating...\n",
      "Sample #392 Report #2 Dofloo-Securityaffairs.csv     metrics calculating...\n",
      "R_malSysObj 比較系統物件 for Affairs 2 4\n",
      "before assign rem: None\n",
      "after assign rem: <__main__.Metric object at 0x000001C55A1853C0>\n",
      "Sample #392 Report #3 Dofloo-SyscallParty.csv        metrics calculating...\n",
      "Sample #392 Report #4 Dofloo-Trendmicro.csv          metrics calculating...\n"
     ]
    },
    {
     "name": "stderr",
     "output_type": "stream",
     "text": [
      "Some weights of the model checkpoint at bert-base-uncased were not used when initializing BertModel: ['cls.predictions.bias', 'cls.predictions.transform.LayerNorm.weight', 'cls.predictions.transform.LayerNorm.bias', 'cls.seq_relationship.weight', 'cls.predictions.transform.dense.bias', 'cls.seq_relationship.bias', 'cls.predictions.decoder.weight', 'cls.predictions.transform.dense.weight']\n",
      "- This IS expected if you are initializing BertModel from the checkpoint of a model trained on another task or with another architecture (e.g. initializing a BertForSequenceClassification model from a BertForPreTraining model).\n",
      "- This IS NOT expected if you are initializing BertModel from the checkpoint of a model that you expect to be exactly identical (initializing a BertForSequenceClassification model from a BertForSequenceClassification model).\n"
     ]
    },
    {
     "name": "stdout",
     "output_type": "stream",
     "text": [
      "=== mem_usage: 1165.73 MB ===\n",
      "Sample #44d Report #0 Dofloo-BleepingComputer.csv    metrics calculating...\n",
      "Sample #44d Report #1 Dofloo-MalwareMustDie.csv      metrics calculating...\n",
      "Sample #44d Report #2 Dofloo-Securityaffairs.csv     metrics calculating...\n",
      "R_malSysObj 比較系統物件 for Affairs 2 4\n",
      "before assign rem: None\n",
      "after assign rem: <__main__.Metric object at 0x000001C57B7A7910>\n",
      "Sample #44d Report #3 Dofloo-SyscallParty.csv        metrics calculating...\n",
      "Sample #44d Report #4 Dofloo-Trendmicro.csv          metrics calculating...\n"
     ]
    },
    {
     "name": "stderr",
     "output_type": "stream",
     "text": [
      "Some weights of the model checkpoint at bert-base-uncased were not used when initializing BertModel: ['cls.predictions.bias', 'cls.predictions.transform.LayerNorm.weight', 'cls.predictions.transform.LayerNorm.bias', 'cls.seq_relationship.weight', 'cls.predictions.transform.dense.bias', 'cls.seq_relationship.bias', 'cls.predictions.decoder.weight', 'cls.predictions.transform.dense.weight']\n",
      "- This IS expected if you are initializing BertModel from the checkpoint of a model trained on another task or with another architecture (e.g. initializing a BertForSequenceClassification model from a BertForPreTraining model).\n",
      "- This IS NOT expected if you are initializing BertModel from the checkpoint of a model that you expect to be exactly identical (initializing a BertForSequenceClassification model from a BertForSequenceClassification model).\n"
     ]
    },
    {
     "name": "stdout",
     "output_type": "stream",
     "text": [
      "=== mem_usage: 1166.03 MB ===\n",
      "Sample #52f Report #0 Dofloo-BleepingComputer.csv    metrics calculating...\n",
      "Sample #52f Report #1 Dofloo-MalwareMustDie.csv      metrics calculating...\n",
      "Sample #52f Report #2 Dofloo-Securityaffairs.csv     metrics calculating...\n",
      "R_malSysObj 比較系統物件 for Affairs 0 1\n",
      "before assign rem: None\n",
      "after assign rem: <__main__.Metric object at 0x000001C55B6F26E0>\n",
      "Sample #52f Report #3 Dofloo-SyscallParty.csv        metrics calculating...\n",
      "Sample #52f Report #4 Dofloo-Trendmicro.csv          metrics calculating...\n"
     ]
    },
    {
     "name": "stderr",
     "output_type": "stream",
     "text": [
      "Some weights of the model checkpoint at bert-base-uncased were not used when initializing BertModel: ['cls.predictions.bias', 'cls.predictions.transform.LayerNorm.weight', 'cls.predictions.transform.LayerNorm.bias', 'cls.seq_relationship.weight', 'cls.predictions.transform.dense.bias', 'cls.seq_relationship.bias', 'cls.predictions.decoder.weight', 'cls.predictions.transform.dense.weight']\n",
      "- This IS expected if you are initializing BertModel from the checkpoint of a model trained on another task or with another architecture (e.g. initializing a BertForSequenceClassification model from a BertForPreTraining model).\n",
      "- This IS NOT expected if you are initializing BertModel from the checkpoint of a model that you expect to be exactly identical (initializing a BertForSequenceClassification model from a BertForSequenceClassification model).\n"
     ]
    },
    {
     "name": "stdout",
     "output_type": "stream",
     "text": [
      "=== mem_usage: 1165.67 MB ===\n",
      "Sample #54a Report #0 Dofloo-BleepingComputer.csv    metrics calculating...\n",
      "Sample #54a Report #1 Dofloo-MalwareMustDie.csv      metrics calculating...\n",
      "Sample #54a Report #2 Dofloo-Securityaffairs.csv     metrics calculating...\n",
      "R_malSysObj 比較系統物件 for Affairs 2 4\n",
      "before assign rem: None\n",
      "after assign rem: <__main__.Metric object at 0x000001C57B7B0CD0>\n",
      "Sample #54a Report #3 Dofloo-SyscallParty.csv        metrics calculating...\n",
      "Sample #54a Report #4 Dofloo-Trendmicro.csv          metrics calculating...\n"
     ]
    },
    {
     "name": "stderr",
     "output_type": "stream",
     "text": [
      "Some weights of the model checkpoint at bert-base-uncased were not used when initializing BertModel: ['cls.predictions.bias', 'cls.predictions.transform.LayerNorm.weight', 'cls.predictions.transform.LayerNorm.bias', 'cls.seq_relationship.weight', 'cls.predictions.transform.dense.bias', 'cls.seq_relationship.bias', 'cls.predictions.decoder.weight', 'cls.predictions.transform.dense.weight']\n",
      "- This IS expected if you are initializing BertModel from the checkpoint of a model trained on another task or with another architecture (e.g. initializing a BertForSequenceClassification model from a BertForPreTraining model).\n",
      "- This IS NOT expected if you are initializing BertModel from the checkpoint of a model that you expect to be exactly identical (initializing a BertForSequenceClassification model from a BertForSequenceClassification model).\n"
     ]
    },
    {
     "name": "stdout",
     "output_type": "stream",
     "text": [
      "=== mem_usage: 1165.55 MB ===\n",
      "Sample #570 Report #0 Dofloo-BleepingComputer.csv    metrics calculating...\n",
      "Sample #570 Report #1 Dofloo-MalwareMustDie.csv      metrics calculating...\n",
      "Sample #570 Report #2 Dofloo-Securityaffairs.csv     metrics calculating...\n",
      "R_malSysObj 比較系統物件 for Affairs 2 5\n",
      "before assign rem: None\n",
      "after assign rem: <__main__.Metric object at 0x000001C57B78B040>\n",
      "Sample #570 Report #3 Dofloo-SyscallParty.csv        metrics calculating...\n",
      "Sample #570 Report #4 Dofloo-Trendmicro.csv          metrics calculating...\n"
     ]
    },
    {
     "name": "stderr",
     "output_type": "stream",
     "text": [
      "Some weights of the model checkpoint at bert-base-uncased were not used when initializing BertModel: ['cls.predictions.bias', 'cls.predictions.transform.LayerNorm.weight', 'cls.predictions.transform.LayerNorm.bias', 'cls.seq_relationship.weight', 'cls.predictions.transform.dense.bias', 'cls.seq_relationship.bias', 'cls.predictions.decoder.weight', 'cls.predictions.transform.dense.weight']\n",
      "- This IS expected if you are initializing BertModel from the checkpoint of a model trained on another task or with another architecture (e.g. initializing a BertForSequenceClassification model from a BertForPreTraining model).\n",
      "- This IS NOT expected if you are initializing BertModel from the checkpoint of a model that you expect to be exactly identical (initializing a BertForSequenceClassification model from a BertForSequenceClassification model).\n"
     ]
    },
    {
     "name": "stdout",
     "output_type": "stream",
     "text": [
      "=== mem_usage: 1165.90 MB ===\n",
      "Sample #60f Report #0 Dofloo-BleepingComputer.csv    metrics calculating...\n",
      "Sample #60f Report #1 Dofloo-MalwareMustDie.csv      metrics calculating...\n",
      "Sample #60f Report #2 Dofloo-Securityaffairs.csv     metrics calculating...\n",
      "R_malSysObj 比較系統物件 for Affairs 2 8\n",
      "before assign rem: None\n",
      "after assign rem: <__main__.Metric object at 0x000001C57B75A7D0>\n",
      "Sample #60f Report #3 Dofloo-SyscallParty.csv        metrics calculating...\n",
      "Sample #60f Report #4 Dofloo-Trendmicro.csv          metrics calculating...\n"
     ]
    },
    {
     "name": "stderr",
     "output_type": "stream",
     "text": [
      "Some weights of the model checkpoint at bert-base-uncased were not used when initializing BertModel: ['cls.predictions.bias', 'cls.predictions.transform.LayerNorm.weight', 'cls.predictions.transform.LayerNorm.bias', 'cls.seq_relationship.weight', 'cls.predictions.transform.dense.bias', 'cls.seq_relationship.bias', 'cls.predictions.decoder.weight', 'cls.predictions.transform.dense.weight']\n",
      "- This IS expected if you are initializing BertModel from the checkpoint of a model trained on another task or with another architecture (e.g. initializing a BertForSequenceClassification model from a BertForPreTraining model).\n",
      "- This IS NOT expected if you are initializing BertModel from the checkpoint of a model that you expect to be exactly identical (initializing a BertForSequenceClassification model from a BertForSequenceClassification model).\n"
     ]
    },
    {
     "name": "stdout",
     "output_type": "stream",
     "text": [
      "=== mem_usage: 1166.25 MB ===\n",
      "Sample #74e Report #0 Dofloo-BleepingComputer.csv    metrics calculating...\n",
      "Sample #74e Report #1 Dofloo-MalwareMustDie.csv      metrics calculating...\n",
      "Sample #74e Report #2 Dofloo-Securityaffairs.csv     metrics calculating...\n",
      "R_malSysObj 比較系統物件 for Affairs 2 8\n",
      "before assign rem: None\n",
      "after assign rem: <__main__.Metric object at 0x000001C57B7A0B20>\n",
      "Sample #74e Report #3 Dofloo-SyscallParty.csv        metrics calculating...\n",
      "Sample #74e Report #4 Dofloo-Trendmicro.csv          metrics calculating...\n"
     ]
    },
    {
     "name": "stderr",
     "output_type": "stream",
     "text": [
      "Some weights of the model checkpoint at bert-base-uncased were not used when initializing BertModel: ['cls.predictions.bias', 'cls.predictions.transform.LayerNorm.weight', 'cls.predictions.transform.LayerNorm.bias', 'cls.seq_relationship.weight', 'cls.predictions.transform.dense.bias', 'cls.seq_relationship.bias', 'cls.predictions.decoder.weight', 'cls.predictions.transform.dense.weight']\n",
      "- This IS expected if you are initializing BertModel from the checkpoint of a model trained on another task or with another architecture (e.g. initializing a BertForSequenceClassification model from a BertForPreTraining model).\n",
      "- This IS NOT expected if you are initializing BertModel from the checkpoint of a model that you expect to be exactly identical (initializing a BertForSequenceClassification model from a BertForSequenceClassification model).\n"
     ]
    },
    {
     "name": "stdout",
     "output_type": "stream",
     "text": [
      "=== mem_usage: 1166.15 MB ===\n",
      "Sample #9a3 Report #0 Dofloo-BleepingComputer.csv    metrics calculating...\n",
      "Sample #9a3 Report #1 Dofloo-MalwareMustDie.csv      metrics calculating...\n",
      "Sample #9a3 Report #2 Dofloo-Securityaffairs.csv     metrics calculating...\n",
      "R_malSysObj 比較系統物件 for Affairs 2 4\n",
      "before assign rem: None\n",
      "after assign rem: <__main__.Metric object at 0x000001C57B799120>\n",
      "Sample #9a3 Report #3 Dofloo-SyscallParty.csv        metrics calculating...\n",
      "Sample #9a3 Report #4 Dofloo-Trendmicro.csv          metrics calculating...\n"
     ]
    },
    {
     "name": "stderr",
     "output_type": "stream",
     "text": [
      "Some weights of the model checkpoint at bert-base-uncased were not used when initializing BertModel: ['cls.predictions.bias', 'cls.predictions.transform.LayerNorm.weight', 'cls.predictions.transform.LayerNorm.bias', 'cls.seq_relationship.weight', 'cls.predictions.transform.dense.bias', 'cls.seq_relationship.bias', 'cls.predictions.decoder.weight', 'cls.predictions.transform.dense.weight']\n",
      "- This IS expected if you are initializing BertModel from the checkpoint of a model trained on another task or with another architecture (e.g. initializing a BertForSequenceClassification model from a BertForPreTraining model).\n",
      "- This IS NOT expected if you are initializing BertModel from the checkpoint of a model that you expect to be exactly identical (initializing a BertForSequenceClassification model from a BertForSequenceClassification model).\n"
     ]
    },
    {
     "name": "stdout",
     "output_type": "stream",
     "text": [
      "=== mem_usage: 1166.87 MB ===\n",
      "Sample #bd6 Report #0 Dofloo-BleepingComputer.csv    metrics calculating...\n",
      "Sample #bd6 Report #1 Dofloo-MalwareMustDie.csv      metrics calculating...\n",
      "Sample #bd6 Report #2 Dofloo-Securityaffairs.csv     metrics calculating...\n",
      "R_malSysObj 比較系統物件 for Affairs 2 4\n",
      "before assign rem: None\n",
      "after assign rem: <__main__.Metric object at 0x000001C57B778A60>\n",
      "Sample #bd6 Report #3 Dofloo-SyscallParty.csv        metrics calculating...\n",
      "Sample #bd6 Report #4 Dofloo-Trendmicro.csv          metrics calculating...\n"
     ]
    }
   ],
   "source": [
    "import os, psutil\n",
    "def print_mem_usage():\n",
    "    process = psutil.Process(os.getpid())\n",
    "    mem_usage = psutil.Process(os.getpid()).memory_info().rss / 1024 ** 2\n",
    "    print(f\"=== mem_usage: {mem_usage:.2f} MB ===\")  # in MiB \n",
    "\n",
    "def get_mem_usage() -> int:\n",
    "    # process = psutil.Process(os.getpid())\n",
    "    mem_usage = psutil.Process(os.getpid()).memory_info().rss / 1024 ** 2\n",
    "    return mem_usage\n",
    "\n",
    "def run_family_set_procedure(sample: Sample, multi_sample:bool=False) -> FamilySet:\n",
    "    # family is global variable\n",
    "    operationEvaluator = OperationEvaluator()\n",
    "    txt_report = \"\"\n",
    "    \n",
    "    fset = FamilySet(family, sample.regexMaster, sample=sample)\n",
    "    for i,rdf in enumerate(xor_report_dfs):\n",
    "        # rem = ReportEvalModel(base_data, rdf, dofloo_report_names[i])\n",
    "        fset.add_rem(rdf, xor_report_names[i])\n",
    "    # result_tbl = fset.show_result(apply_weight=False)\n",
    "    # result_tbl.to_csv(f'{outputfolder}/{family}_{sample.samplename[:3]}_FamilySet_by_Regex.csv', index=False)\n",
    "    # print(f\"Sample {sample.samplename[:3]} has ttl_match {result_tbl['ttl_match'].sum()} on all documents.\") \n",
    "\n",
    "    # Calculate metrics\n",
    "    print_mem_usage()\n",
    "    # for op in sample.OPset:\n",
    "    #     print(f\"{op.object} | {op.object_type}\")\n",
    "    txt_report += f\"asg_object of sample {sample.samplename}\\n: {set([op.object for op in sample.OPset])}\\n\"\n",
    "    fset.sample.OPset_sysOnly_ordered = [op for op in sample.OPset if op.object.find('/etc') != -1\\\n",
    "                                         and op.action in operationEvaluator.update_syscall_list] # UPDATE系統設定的OP\n",
    "    fset.sample.OPset_sysOnly_ordered_index = [sample.OPset_ordered.index(op) for op in fset.sample.OPset_sysOnly_ordered]\n",
    "    for idx_rem, rem in enumerate(fset.rem_lst):\n",
    "        # asg_object = set([op.object for op in sample.OPset])\n",
    "        # ctd_object = set([op.object for op in rem.doc_OPset])\n",
    "        if rem.reportname == 'Xorddos-Microsoft.csv': # 除錯用\n",
    "            continue\n",
    "        print(f\"Sample #{sample.samplename[:3]} Report #{idx_rem} {rem.reportname:<30} metrics calculating...\")\n",
    "        txt_report += f\"\\nSample {rem.reportname}\\n\"\n",
    "        txt_report += f\"\\tnum of segment in report: {len(rem.sentences)}\\n\"\n",
    "        txt_report += f\"\\tlenght of ctd's OPset is {len(rem.doc_OPset)}\\n\"\n",
    "\n",
    "        if idx_rem == 2:\n",
    "            pass\n",
    "        # R_malObj 比較物件\n",
    "        asg_object = set([op.object for op in sample.OPset])\n",
    "        ctd_object = set([op.object for op in rem.doc_OPset]) # same as rem.match_regex\n",
    "        ctd_object = ctd_object.intersection(asg_object)\n",
    "        numerator = len(ctd_object) # 分子\n",
    "        denominator = len(asg_object) # 分母\n",
    "        R_malObj = 0 if denominator == 0 else numerator/denominator\n",
    "        txt_report += f\"\\t#R_malObj\\n\\tnum of ctd objects: {numerator}, num of asg objects: {denominator}. R_malObj is {R_malObj:.4f}\\n\"\n",
    "        txt_report += f\"\\t\\tctd_object: {ctd_object}\\n\"\n",
    "        metric = Metric()\n",
    "        metric.setObj(numerator, denominator)\n",
    "\n",
    "        # R_malSysObj 比較系統物件\n",
    "        if idx_rem == 2:\n",
    "            pass\n",
    "        asg_sysobj = list(filter(lambda object: object.find('/etc') != -1, asg_object))\n",
    "        ctd_sysobj = list(filter(lambda object: object.find('/etc') != -1, ctd_object))\n",
    "        numerator = len(ctd_sysobj)\n",
    "        denominator = len(asg_sysobj)\n",
    "        R_malSysObj = 0 if denominator == 0 else numerator/denominator\n",
    "        txt_report += f\"\\t#R_malSysObj\\n\\tnum of ctd objects: {numerator}, num of asg objects: {denominator}. R_malSysObj is {R_malSysObj:.4f}\\n\"\n",
    "        if idx_rem == 2:\n",
    "            print(\"R_malSysObj 比較系統物件 for Affairs\", numerator, denominator)\n",
    "        metric.setObjSys(numerator, denominator)\n",
    "\n",
    "        # R_malOps 比較動作和物件\n",
    "        asg_OPset = list(sample.OPset)\n",
    "        ctd_OPset = list(rem.doc_OPset)\n",
    "        numerator, denominator, hits = 0, len(asg_OPset), []\n",
    "        hits: list[tuple[OperationPair, OperationPair]] = []\n",
    "        sys_hits: list[tuple[OperationPair, OperationPair]] = []\n",
    "        txt_report += f\"\\t\\tlen(asg_OPset): {len(asg_OPset)}, len(ctd_OPset): {len(ctd_OPset)}\\n\"\n",
    "        # 每一個 asg_op 跟所有同物件的的 ctd_op 進行 resolve() 比對，來判斷此 asg_op 是否被提及\n",
    "        i = 0\n",
    "        for idx_asg, asg_op in enumerate(asg_OPset): \n",
    "            i += 1\n",
    "            target_obj = asg_op.object\n",
    "            ctdSameObjOpsIdx = [i for i, x in enumerate(ctd_OPset) if x.object == target_obj]\n",
    "            # ctdSameObjOps = [x for x in ctd_OPset if x.object == target_obj]\n",
    "            for idx in ctdSameObjOpsIdx:\n",
    "                pass\n",
    "                # mem_before_create_lst = get_mem_usage()\n",
    "                # print(\"\\tbefore resolve\", mem_before_create_lst)\n",
    "                entityType = asg_op.object_type # get_object_type(asg_op.object)\n",
    "                (hit, isSysChange) = operationEvaluator.resolve(entityType, asg_op.action, ctd_OPset[idx].action, \n",
    "                                                                use_bert=True, sentence=ctd_OPset[idx].original_sentence)\n",
    "                # # print_mem_usage()\n",
    "                # mem_after_create_lst = get_mem_usage()\n",
    "                # # print(f\"\\t=== diff of mem_usage calling resolve(): {mem_after_create_lst - mem_before_create_lst:.2f}  ===\")\n",
    "\n",
    "                if hit:\n",
    "                    numerator += 1\n",
    "                    hits.append((asg_OPset[idx_asg], ctd_OPset[idx]))\n",
    "                    fset.rem_lst[idx_rem].match_doc_OPset.add(ctd_OPset[idx])\n",
    "\n",
    "                    # 篩選出系統物件的動作\n",
    "                    if isSysChange and asg_OPset[idx_asg].object.find('/etc') != -1:\n",
    "                        sys_hits.append((asg_OPset[idx_asg], ctd_OPset[idx]))\n",
    "\n",
    "                    # 紀錄CTD的生命週期 (ASG_OP提及順序)\n",
    "                    step_num = sample.OPset_ordered.index(asg_op) # index of step, throw ValueError if not found\n",
    "                    fset.rem_lst[idx_rem].OPset_order_index.append(step_num)\n",
    "                    break\n",
    "        R_malOps = 0 if denominator == 0 else numerator/denominator\n",
    "        txt_report += f\"\\t#R_malOps\\n\\tnum of matched asg op: {numerator}, num of asg op: {denominator}. R_malOps is {R_malOps:.4f}\\n\"\n",
    "        txt_report += f\"\\t\\trefered lifecycle: {fset.rem_lst[idx_rem].OPset_order_index}\\n\"\n",
    "        metric.setOp(numerator, denominator)\n",
    "\n",
    "        # 紀錄CTD的生命週期 (OP提及順序)\n",
    "        # fset.rem_lst[idx_rem].OPset_order_index.clear()\n",
    "        # for ctd_op in fset.rem_lst[idx_rem].match_doc_OPset:\n",
    "        #     step_num = sample.OPset_ordered.index(ctd_op) # index of step, throw ValueError if not found\n",
    "        #     fset.rem_lst[idx_rem].OPset_order_index.append(step_num)\n",
    "\n",
    "        # R_malChangeOps 篩選出系統物件的動作\n",
    "        # cando: 加上 OPMode的考量，為class OP加兩個mode asg_op_mode, ctd_op_mode。目前直接用call nlp class 的 method判別。\n",
    "        numerator = len(sys_hits)\n",
    "        sys_asg_OPset = [op for op in asg_OPset if op.object.find('/etc') != -1 \\\n",
    "                         and op.action in operationEvaluator.update_syscall_list ]\n",
    "        # print('sys_asg_OPset is unique:', len(sample.OPset_ordered) == len(set(sample.OPset_ordered))) # 元速度重複沒錯，可能是 index() 的問題\n",
    "        denominator = len(sys_asg_OPset)\n",
    "        R_malChangeOps = 0 if denominator == 0 else numerator/denominator\n",
    "        txt_report += f\"\\t#R_malChangeOps\\n\\tnum of matched asg op: {numerator}, num of asg op: {denominator}. R_malChangeOps is {R_malChangeOps:.4f}\\n\"\n",
    "        metric.setOpSys(numerator, denominator)\n",
    "\n",
    "        # 紀錄CTD的生命週期 (OP提及順序)\n",
    "        fset.rem_lst[idx_rem].SysOPset_order_index.clear()\n",
    "        for asg_op , ctd_op in sys_hits:\n",
    "            step_num = sample.OPset_ordered.index(asg_op) # step index , throw ValueError if not found\n",
    "            fset.rem_lst[idx_rem].SysOPset_order_index.append(step_num)\n",
    "        txt_report += f\"\\t\\tref-sys lifecycle: {fset.rem_lst[idx_rem].SysOPset_order_index}\\n\"\n",
    "\n",
    "        if hits:\n",
    "            txt_report += \"\\n\\thits\\n\"\n",
    "            for asg_op, ctd_op in hits:\n",
    "                txt_report += f\"\\t{asg_op}, {ctd_op.getSentStr()}\\n\"\n",
    "        if sys_hits:\n",
    "            txt_report += \"\\n\\tsys_hits\\n\"\n",
    "            for asg_op, ctd_op in sys_hits:\n",
    "                txt_report += f\"\\t{asg_op}, {ctd_op.getSentStr()}\\n\"\n",
    "\n",
    "        if idx_rem == 2:\n",
    "            print('before assign rem:', fset.rem_lst[idx_rem].metric)\n",
    "        fset.rem_lst[idx_rem].metric = metric\n",
    "        del numerator, denominator, metric\n",
    "        if idx_rem == 2:\n",
    "            print('after assign rem:', fset.rem_lst[idx_rem].metric)\n",
    "        # print_mem_usage()\n",
    "        # del asg_OPset, ctd_OPset, hits, sys_hits\n",
    "        # end rem for loop\n",
    "    txt_report += f\"\\n\\nOperationPair that changes system resources:\\n{sys_asg_OPset}\\n\"\n",
    "\n",
    "    if not multi_sample:\n",
    "        filename = f\"./result/metric_{family.lower()}.txt\"\n",
    "        with open(filename, 'w', encoding='utf-8') as f:\n",
    "            f.write(txt_report) \n",
    "    return fset\n",
    "\n",
    "fset_list:list[FamilySet] = []\n",
    "for sample in samples:\n",
    "    fset = run_family_set_procedure(sample, multi_sample=True)\n",
    "    fset_list.append(fset)"
   ]
  },
  {
   "cell_type": "code",
   "execution_count": 46,
   "metadata": {},
   "outputs": [],
   "source": [
    "def save_match_sent_to_excel(fset: FamilySet, sample_name=None):\n",
    "    columns = ['report','regex','matched word','sentence number','sentence']\n",
    "    if sample_name:\n",
    "        output_xlsx = f'{outputfolder}/{family}_{sample_name[:3]}_report_match_sent.csv'\n",
    "    else:\n",
    "        output_xlsx = f'{outputfolder}/{family}_union_report_match_sent.csv'\n",
    "    has_match = sum([len(rem.get_match_regexs()) for rem in fset.rem_lst])\n",
    "    if has_match == 0:\n",
    "        print('no matches in CTI reports') # with open 一定要寫入，若全空則直接不開檔\n",
    "        return\n",
    "    # with pd.ExcelWriter(output_xlsx, engine='openpyxl') as writer:\n",
    "    \n",
    "    # 遍歷報告，一個 rem: ReportEvalModel 代表一篇報告\n",
    "    csv_data = []\n",
    "    match_sentence_ttlcnt = 0\n",
    "    for rem in fset.rem_lst:\n",
    "        reportname = rem.reportname.split('.')[0]\n",
    "        if len(rem.get_match_regexs()) == 0: # 如果報告中無 regex 跳過不紀錄\n",
    "            continue\n",
    "        # sheet_data = [] # shape = columns_len * match_sent_len\n",
    "        sent_df = rem.get_match_sentences()\n",
    "        sent_content_lst = rem.sentences['Content'] # 報告中的每個句子\n",
    "        match_sentence_ttlcnt += sent_df['match'].sum()\n",
    "\n",
    "        # 遍歷每個含有 regex 的句子\n",
    "        for sid, row in sent_df.iterrows():\n",
    "            if row['match'] == 0:\n",
    "                continue\n",
    "            row.drop('match', inplace=True)\n",
    "            row = row[row > 0]\n",
    "            # print(row)\n",
    "            # 考量每個句子可能含有多個 regex，故需寫成多行\n",
    "            for i, v in row.items():\n",
    "                insert_data = dict().fromkeys(columns)\n",
    "                insert_data['report'] = reportname\n",
    "                insert_data['regex'] = i\n",
    "                insert_data['matched word'] = rem.get_match_word(sid, i)\n",
    "                insert_data['sentence number'] = sid + 1\n",
    "                insert_data['sentence'] = str(sent_content_lst[sid]).strip()\n",
    "                # sheet_data.append(insert_data)\n",
    "                csv_data.append(insert_data)\n",
    "    df = pd.DataFrame(csv_data)\n",
    "    # print(df)\n",
    "    df.to_csv(output_xlsx, index=False)\n",
    "\n",
    "            # 輸出 csv\n",
    "            \n",
    "            # 輸出 excel sheet\n",
    "            # print(rem.reportname,'has', len(sheet_data),'matches')\n",
    "            # output_sheet = pd.DataFrame(sheet_data)\n",
    "            # # output_sheet.style.set_properties(subset=['sentence'])\n",
    "            # styler = Styler(horizontal_alignment='left', vertical_alignment='top')\n",
    "            # sf = StyleFrame(output_sheet, styler)\n",
    "            # sf = sf.set_column_width(columns=['baseline'], width=20.0)\n",
    "            # sf = sf.set_column_width(columns=['sentence number'], width=15.0)\n",
    "            # sf = sf.set_column_width(columns=['sentence'], width=80.0)\n",
    "            # sf.to_excel(writer, sheet_name=rem.reportname, index=False) #.save()\n",
    "            # # output_sheet.to_excel(writer, sheet_name=rem.reportname, index=False)\n",
    "    return match_sentence_ttlcnt\n",
    "# 此行會執行並複寫 excel，執行完後要手動調整行距格式，小心使用\n"
   ]
  },
  {
   "attachments": {},
   "cell_type": "markdown",
   "metadata": {},
   "source": [
    "### Run Script: analysis special tokens accross samples"
   ]
  },
  {
   "cell_type": "code",
   "execution_count": 17,
   "metadata": {},
   "outputs": [
    {
     "name": "stdout",
     "output_type": "stream",
     "text": [
      "Regexs in each Dofloo Sample, 12 of samples, 38 of regexs\n"
     ]
    },
    {
     "name": "stderr",
     "output_type": "stream",
     "text": [
      "c:\\Users\\luweb\\AppData\\Local\\Programs\\Python\\Python310\\lib\\site-packages\\plotly\\io\\_renderers.py:7: DeprecationWarning:\n",
      "\n",
      "The distutils package is deprecated and slated for removal in Python 3.12. Use setuptools or check PEP 632 for potential alternatives\n",
      "\n"
     ]
    },
    {
     "data": {
      "application/vnd.plotly.v1+json": {
       "config": {
        "plotlyServerURL": "https://plot.ly"
       },
       "data": [
        {
         "marker": {
          "color": "blue",
          "size": 12
         },
         "mode": "markers",
         "type": "scatter",
         "x": [
          "/proc/net/dev",
          "/etc/rc\\.local",
          "ip_addr",
          "/etc/init\\.d/.*",
          "ip_addr+port",
          "/etc/rc.*\\.d/.*",
          ".*/selinux",
          "permission_id",
          "^eth.*",
          "/proc/self",
          "mem_addr",
          "^GID.*",
          "uname(.|$)",
          "^sed$",
          "/.*bin/sed",
          "^UID.*",
          "port \\d+",
          "Permission",
          "/etc/sed[0-9a-zA-Z]{6}",
          "/dev/urandom",
          "^PID.*",
          "/proc/stat",
          "/sys/devices/.*",
          "^sh$",
          "/proc/net/dev",
          "/etc/rc\\.local",
          "ip_addr",
          "/etc/init\\.d/.*",
          "ip_addr+port",
          "/etc/rc.*\\.d/.*",
          ".*/selinux",
          "permission_id",
          "^eth.*",
          "/proc/self",
          "mem_addr",
          "^GID.*",
          "uname(.|$)",
          "^sed$",
          "/.*bin/sed",
          "^UID.*",
          "port \\d+",
          "Permission",
          "/etc/sed[0-9a-zA-Z]{6}",
          "/dev/urandom",
          "^PID.*",
          "/proc/stat",
          "/sys/devices/.*",
          "^sh$",
          "/proc/net/dev",
          "/etc/rc\\.local",
          "ip_addr",
          "/etc/init\\.d/.*",
          "ip_addr+port",
          "/etc/rc.*\\.d/.*",
          ".*/selinux",
          "permission_id",
          "^eth.*",
          "/proc/self",
          "mem_addr",
          "^GID.*",
          "uname(.|$)",
          "^sed$",
          "/.*bin/sed",
          "^UID.*",
          "port \\d+",
          "Permission",
          "/etc/sed[0-9a-zA-Z]{6}",
          "/dev/urandom",
          "^PID.*",
          "/proc/stat",
          "/sys/devices/.*",
          "^sh$",
          "/proc/net/dev",
          "/etc/rc\\.local",
          "ip_addr",
          "/etc/init\\.d/.*",
          "ip_addr+port",
          "/etc/rc.*\\.d/.*",
          ".*/selinux",
          "permission_id",
          "^eth.*",
          "/proc/self",
          "mem_addr",
          "^GID.*",
          "uname(.|$)",
          "^sed$",
          "/.*bin/sed",
          "^UID.*",
          "port \\d+",
          "Permission",
          "/etc/sed[0-9a-zA-Z]{6}",
          "/dev/urandom",
          "^PID.*",
          "/proc/stat",
          "/sys/devices/.*",
          "^sh$",
          "/proc/net/dev",
          "/etc/rc\\.local",
          "ip_addr",
          "/etc/init\\.d/.*",
          "ip_addr+port",
          "/etc/rc.*\\.d/.*",
          ".*/selinux",
          "permission_id",
          "^eth.*",
          "/proc/self",
          "mem_addr",
          "^GID.*",
          "uname(.|$)",
          "^sed$",
          "/.*bin/sed",
          "^UID.*",
          "port \\d+",
          "Permission",
          "/etc/sed[0-9a-zA-Z]{6}",
          "/dev/urandom",
          "^PID.*",
          "/proc/stat",
          "/sys/devices/.*",
          "^sh$",
          "/proc/net/dev",
          "mem_addr",
          "/proc/cpuinfo",
          "port \\d+",
          "uname(.|$)",
          "ip_addr+port",
          "/dev/urandom",
          "^PID.*",
          "/etc/mtab",
          "/proc/stat",
          "permission_id",
          "^eth.*",
          "ip_addr",
          "/proc/sys/kernel/version",
          "Permission",
          "/proc/self",
          "/proc/net/dev",
          "/etc/rc\\.local",
          "ip_addr",
          "/etc/init\\.d/.*",
          "ip_addr+port",
          "/etc/rc.*\\.d/.*",
          ".*/selinux",
          "permission_id",
          "^eth.*",
          "/proc/self",
          "mem_addr",
          "^GID.*",
          "uname(.|$)",
          "^sed$",
          "/.*bin/sed",
          "^UID.*",
          "port \\d+",
          "Permission",
          "/etc/sed[0-9a-zA-Z]{6}",
          "/dev/urandom",
          "^PID.*",
          "/proc/stat",
          "/sys/devices/.*",
          "^sh$",
          "/proc/net/dev",
          "/etc",
          "/etc/rc\\.local",
          "^mv$",
          "ip_addr",
          "/etc/init\\.d/.*",
          "ip_addr+port",
          "/etc/rc.*\\.d/.*",
          ".*/selinux",
          "permission_id",
          "/proc/self",
          "mem_addr",
          "^GID.*",
          "uname(.|$)",
          "^sed$",
          "/.*bin/sed",
          "^UID.*",
          "port \\d+",
          "Permission",
          "/.*bin/chmod",
          "/proc/cpuinfo",
          "/etc/sed[0-9a-zA-Z]{6}",
          "^chmod$",
          "^PID.*",
          "/.*bin/mv",
          "/proc/stat",
          "^sh$",
          "/proc/net/dev",
          "/etc/hosts",
          "/etc/rc\\.local",
          "ip_addr",
          "/etc/init\\.d/.*",
          "ip_addr+port",
          "/etc/rc.*\\.d/.*",
          "/etc/host\\.conf",
          ".*/selinux",
          "permission_id",
          "^eth.*",
          "/proc/self",
          "mem_addr",
          "^GID.*",
          "uname(.|$)",
          "^sed$",
          "/.*bin/sed",
          "^UID.*",
          "/etc/nsswitch\\.conf",
          "port \\d+",
          "Permission",
          "/etc/sed[0-9a-zA-Z]{6}",
          "/dev/urandom",
          "^PID.*",
          "/etc/resolv\\.conf",
          "/proc/stat",
          "/sys/devices/.*",
          "^sh$",
          "^rm$",
          "/.*bin/rm",
          "/proc/net/dev",
          "/etc/hosts",
          "/etc/rc\\.local",
          "ip_addr",
          "/etc/init\\.d/.*",
          "ip_addr+port",
          "/etc/rc.*\\.d/.*",
          "/etc/host\\.conf",
          ".*/selinux",
          "permission_id",
          "^eth.*",
          "/proc/self",
          "mem_addr",
          "^GID.*",
          "uname(.|$)",
          "^sed$",
          "/.*bin/sed",
          "^UID.*",
          "/etc/nsswitch\\.conf",
          "port \\d+",
          "Permission",
          "/etc/sed[0-9a-zA-Z]{6}",
          "/dev/urandom",
          "^PID.*",
          "/etc/resolv\\.conf",
          "/proc/stat",
          "/sys/devices/.*",
          "^sh$",
          "^rm$",
          "/.*bin/rm",
          "/proc/net/dev",
          "/etc/rc\\.local",
          "ip_addr",
          "/etc/init\\.d/.*",
          "ip_addr+port",
          "/etc/rc.*\\.d/.*",
          ".*/selinux",
          "permission_id",
          "^eth.*",
          "/proc/self",
          "mem_addr",
          "^GID.*",
          "uname(.|$)",
          "^sed$",
          "/.*bin/sed",
          "^UID.*",
          "port \\d+",
          "Permission",
          "/etc/sed[0-9a-zA-Z]{6}",
          "/dev/urandom",
          "^PID.*",
          "/proc/stat",
          "/sys/devices/.*",
          "^sh$",
          "/proc/net/dev",
          "/etc/rc\\.local",
          "ip_addr",
          "/etc/init\\.d/.*",
          "ip_addr+port",
          "/etc/rc.*\\.d/.*",
          ".*/selinux",
          "permission_id",
          "^eth.*",
          "/proc/self",
          "mem_addr",
          "^GID.*",
          "uname(.|$)",
          "^sed$",
          "/.*bin/sed",
          "^UID.*",
          "port \\d+",
          "Permission",
          "/etc/sed[0-9a-zA-Z]{6}",
          "/dev/urandom",
          "^PID.*",
          "/proc/stat",
          "/sys/devices/.*",
          "^sh$"
         ],
         "y": [
          "Sample 004 (24)",
          "Sample 004 (24)",
          "Sample 004 (24)",
          "Sample 004 (24)",
          "Sample 004 (24)",
          "Sample 004 (24)",
          "Sample 004 (24)",
          "Sample 004 (24)",
          "Sample 004 (24)",
          "Sample 004 (24)",
          "Sample 004 (24)",
          "Sample 004 (24)",
          "Sample 004 (24)",
          "Sample 004 (24)",
          "Sample 004 (24)",
          "Sample 004 (24)",
          "Sample 004 (24)",
          "Sample 004 (24)",
          "Sample 004 (24)",
          "Sample 004 (24)",
          "Sample 004 (24)",
          "Sample 004 (24)",
          "Sample 004 (24)",
          "Sample 004 (24)",
          "Sample 121 (24)",
          "Sample 121 (24)",
          "Sample 121 (24)",
          "Sample 121 (24)",
          "Sample 121 (24)",
          "Sample 121 (24)",
          "Sample 121 (24)",
          "Sample 121 (24)",
          "Sample 121 (24)",
          "Sample 121 (24)",
          "Sample 121 (24)",
          "Sample 121 (24)",
          "Sample 121 (24)",
          "Sample 121 (24)",
          "Sample 121 (24)",
          "Sample 121 (24)",
          "Sample 121 (24)",
          "Sample 121 (24)",
          "Sample 121 (24)",
          "Sample 121 (24)",
          "Sample 121 (24)",
          "Sample 121 (24)",
          "Sample 121 (24)",
          "Sample 121 (24)",
          "Sample 26d (24)",
          "Sample 26d (24)",
          "Sample 26d (24)",
          "Sample 26d (24)",
          "Sample 26d (24)",
          "Sample 26d (24)",
          "Sample 26d (24)",
          "Sample 26d (24)",
          "Sample 26d (24)",
          "Sample 26d (24)",
          "Sample 26d (24)",
          "Sample 26d (24)",
          "Sample 26d (24)",
          "Sample 26d (24)",
          "Sample 26d (24)",
          "Sample 26d (24)",
          "Sample 26d (24)",
          "Sample 26d (24)",
          "Sample 26d (24)",
          "Sample 26d (24)",
          "Sample 26d (24)",
          "Sample 26d (24)",
          "Sample 26d (24)",
          "Sample 26d (24)",
          "Sample 392 (24)",
          "Sample 392 (24)",
          "Sample 392 (24)",
          "Sample 392 (24)",
          "Sample 392 (24)",
          "Sample 392 (24)",
          "Sample 392 (24)",
          "Sample 392 (24)",
          "Sample 392 (24)",
          "Sample 392 (24)",
          "Sample 392 (24)",
          "Sample 392 (24)",
          "Sample 392 (24)",
          "Sample 392 (24)",
          "Sample 392 (24)",
          "Sample 392 (24)",
          "Sample 392 (24)",
          "Sample 392 (24)",
          "Sample 392 (24)",
          "Sample 392 (24)",
          "Sample 392 (24)",
          "Sample 392 (24)",
          "Sample 392 (24)",
          "Sample 392 (24)",
          "Sample 44d (24)",
          "Sample 44d (24)",
          "Sample 44d (24)",
          "Sample 44d (24)",
          "Sample 44d (24)",
          "Sample 44d (24)",
          "Sample 44d (24)",
          "Sample 44d (24)",
          "Sample 44d (24)",
          "Sample 44d (24)",
          "Sample 44d (24)",
          "Sample 44d (24)",
          "Sample 44d (24)",
          "Sample 44d (24)",
          "Sample 44d (24)",
          "Sample 44d (24)",
          "Sample 44d (24)",
          "Sample 44d (24)",
          "Sample 44d (24)",
          "Sample 44d (24)",
          "Sample 44d (24)",
          "Sample 44d (24)",
          "Sample 44d (24)",
          "Sample 44d (24)",
          "Sample 52f (16)",
          "Sample 52f (16)",
          "Sample 52f (16)",
          "Sample 52f (16)",
          "Sample 52f (16)",
          "Sample 52f (16)",
          "Sample 52f (16)",
          "Sample 52f (16)",
          "Sample 52f (16)",
          "Sample 52f (16)",
          "Sample 52f (16)",
          "Sample 52f (16)",
          "Sample 52f (16)",
          "Sample 52f (16)",
          "Sample 52f (16)",
          "Sample 52f (16)",
          "Sample 54a (24)",
          "Sample 54a (24)",
          "Sample 54a (24)",
          "Sample 54a (24)",
          "Sample 54a (24)",
          "Sample 54a (24)",
          "Sample 54a (24)",
          "Sample 54a (24)",
          "Sample 54a (24)",
          "Sample 54a (24)",
          "Sample 54a (24)",
          "Sample 54a (24)",
          "Sample 54a (24)",
          "Sample 54a (24)",
          "Sample 54a (24)",
          "Sample 54a (24)",
          "Sample 54a (24)",
          "Sample 54a (24)",
          "Sample 54a (24)",
          "Sample 54a (24)",
          "Sample 54a (24)",
          "Sample 54a (24)",
          "Sample 54a (24)",
          "Sample 54a (24)",
          "Sample 570 (27)",
          "Sample 570 (27)",
          "Sample 570 (27)",
          "Sample 570 (27)",
          "Sample 570 (27)",
          "Sample 570 (27)",
          "Sample 570 (27)",
          "Sample 570 (27)",
          "Sample 570 (27)",
          "Sample 570 (27)",
          "Sample 570 (27)",
          "Sample 570 (27)",
          "Sample 570 (27)",
          "Sample 570 (27)",
          "Sample 570 (27)",
          "Sample 570 (27)",
          "Sample 570 (27)",
          "Sample 570 (27)",
          "Sample 570 (27)",
          "Sample 570 (27)",
          "Sample 570 (27)",
          "Sample 570 (27)",
          "Sample 570 (27)",
          "Sample 570 (27)",
          "Sample 570 (27)",
          "Sample 570 (27)",
          "Sample 570 (27)",
          "Sample 60f (30)",
          "Sample 60f (30)",
          "Sample 60f (30)",
          "Sample 60f (30)",
          "Sample 60f (30)",
          "Sample 60f (30)",
          "Sample 60f (30)",
          "Sample 60f (30)",
          "Sample 60f (30)",
          "Sample 60f (30)",
          "Sample 60f (30)",
          "Sample 60f (30)",
          "Sample 60f (30)",
          "Sample 60f (30)",
          "Sample 60f (30)",
          "Sample 60f (30)",
          "Sample 60f (30)",
          "Sample 60f (30)",
          "Sample 60f (30)",
          "Sample 60f (30)",
          "Sample 60f (30)",
          "Sample 60f (30)",
          "Sample 60f (30)",
          "Sample 60f (30)",
          "Sample 60f (30)",
          "Sample 60f (30)",
          "Sample 60f (30)",
          "Sample 60f (30)",
          "Sample 60f (30)",
          "Sample 60f (30)",
          "Sample 74e (30)",
          "Sample 74e (30)",
          "Sample 74e (30)",
          "Sample 74e (30)",
          "Sample 74e (30)",
          "Sample 74e (30)",
          "Sample 74e (30)",
          "Sample 74e (30)",
          "Sample 74e (30)",
          "Sample 74e (30)",
          "Sample 74e (30)",
          "Sample 74e (30)",
          "Sample 74e (30)",
          "Sample 74e (30)",
          "Sample 74e (30)",
          "Sample 74e (30)",
          "Sample 74e (30)",
          "Sample 74e (30)",
          "Sample 74e (30)",
          "Sample 74e (30)",
          "Sample 74e (30)",
          "Sample 74e (30)",
          "Sample 74e (30)",
          "Sample 74e (30)",
          "Sample 74e (30)",
          "Sample 74e (30)",
          "Sample 74e (30)",
          "Sample 74e (30)",
          "Sample 74e (30)",
          "Sample 74e (30)",
          "Sample 9a3 (24)",
          "Sample 9a3 (24)",
          "Sample 9a3 (24)",
          "Sample 9a3 (24)",
          "Sample 9a3 (24)",
          "Sample 9a3 (24)",
          "Sample 9a3 (24)",
          "Sample 9a3 (24)",
          "Sample 9a3 (24)",
          "Sample 9a3 (24)",
          "Sample 9a3 (24)",
          "Sample 9a3 (24)",
          "Sample 9a3 (24)",
          "Sample 9a3 (24)",
          "Sample 9a3 (24)",
          "Sample 9a3 (24)",
          "Sample 9a3 (24)",
          "Sample 9a3 (24)",
          "Sample 9a3 (24)",
          "Sample 9a3 (24)",
          "Sample 9a3 (24)",
          "Sample 9a3 (24)",
          "Sample 9a3 (24)",
          "Sample 9a3 (24)",
          "Sample bd6 (24)",
          "Sample bd6 (24)",
          "Sample bd6 (24)",
          "Sample bd6 (24)",
          "Sample bd6 (24)",
          "Sample bd6 (24)",
          "Sample bd6 (24)",
          "Sample bd6 (24)",
          "Sample bd6 (24)",
          "Sample bd6 (24)",
          "Sample bd6 (24)",
          "Sample bd6 (24)",
          "Sample bd6 (24)",
          "Sample bd6 (24)",
          "Sample bd6 (24)",
          "Sample bd6 (24)",
          "Sample bd6 (24)",
          "Sample bd6 (24)",
          "Sample bd6 (24)",
          "Sample bd6 (24)",
          "Sample bd6 (24)",
          "Sample bd6 (24)",
          "Sample bd6 (24)",
          "Sample bd6 (24)"
         ]
        }
       ],
       "layout": {
        "height": 550,
        "template": {
         "data": {
          "bar": [
           {
            "error_x": {
             "color": "#2a3f5f"
            },
            "error_y": {
             "color": "#2a3f5f"
            },
            "marker": {
             "line": {
              "color": "#E5ECF6",
              "width": 0.5
             },
             "pattern": {
              "fillmode": "overlay",
              "size": 10,
              "solidity": 0.2
             }
            },
            "type": "bar"
           }
          ],
          "barpolar": [
           {
            "marker": {
             "line": {
              "color": "#E5ECF6",
              "width": 0.5
             },
             "pattern": {
              "fillmode": "overlay",
              "size": 10,
              "solidity": 0.2
             }
            },
            "type": "barpolar"
           }
          ],
          "carpet": [
           {
            "aaxis": {
             "endlinecolor": "#2a3f5f",
             "gridcolor": "white",
             "linecolor": "white",
             "minorgridcolor": "white",
             "startlinecolor": "#2a3f5f"
            },
            "baxis": {
             "endlinecolor": "#2a3f5f",
             "gridcolor": "white",
             "linecolor": "white",
             "minorgridcolor": "white",
             "startlinecolor": "#2a3f5f"
            },
            "type": "carpet"
           }
          ],
          "choropleth": [
           {
            "colorbar": {
             "outlinewidth": 0,
             "ticks": ""
            },
            "type": "choropleth"
           }
          ],
          "contour": [
           {
            "colorbar": {
             "outlinewidth": 0,
             "ticks": ""
            },
            "colorscale": [
             [
              0,
              "#0d0887"
             ],
             [
              0.1111111111111111,
              "#46039f"
             ],
             [
              0.2222222222222222,
              "#7201a8"
             ],
             [
              0.3333333333333333,
              "#9c179e"
             ],
             [
              0.4444444444444444,
              "#bd3786"
             ],
             [
              0.5555555555555556,
              "#d8576b"
             ],
             [
              0.6666666666666666,
              "#ed7953"
             ],
             [
              0.7777777777777778,
              "#fb9f3a"
             ],
             [
              0.8888888888888888,
              "#fdca26"
             ],
             [
              1,
              "#f0f921"
             ]
            ],
            "type": "contour"
           }
          ],
          "contourcarpet": [
           {
            "colorbar": {
             "outlinewidth": 0,
             "ticks": ""
            },
            "type": "contourcarpet"
           }
          ],
          "heatmap": [
           {
            "colorbar": {
             "outlinewidth": 0,
             "ticks": ""
            },
            "colorscale": [
             [
              0,
              "#0d0887"
             ],
             [
              0.1111111111111111,
              "#46039f"
             ],
             [
              0.2222222222222222,
              "#7201a8"
             ],
             [
              0.3333333333333333,
              "#9c179e"
             ],
             [
              0.4444444444444444,
              "#bd3786"
             ],
             [
              0.5555555555555556,
              "#d8576b"
             ],
             [
              0.6666666666666666,
              "#ed7953"
             ],
             [
              0.7777777777777778,
              "#fb9f3a"
             ],
             [
              0.8888888888888888,
              "#fdca26"
             ],
             [
              1,
              "#f0f921"
             ]
            ],
            "type": "heatmap"
           }
          ],
          "heatmapgl": [
           {
            "colorbar": {
             "outlinewidth": 0,
             "ticks": ""
            },
            "colorscale": [
             [
              0,
              "#0d0887"
             ],
             [
              0.1111111111111111,
              "#46039f"
             ],
             [
              0.2222222222222222,
              "#7201a8"
             ],
             [
              0.3333333333333333,
              "#9c179e"
             ],
             [
              0.4444444444444444,
              "#bd3786"
             ],
             [
              0.5555555555555556,
              "#d8576b"
             ],
             [
              0.6666666666666666,
              "#ed7953"
             ],
             [
              0.7777777777777778,
              "#fb9f3a"
             ],
             [
              0.8888888888888888,
              "#fdca26"
             ],
             [
              1,
              "#f0f921"
             ]
            ],
            "type": "heatmapgl"
           }
          ],
          "histogram": [
           {
            "marker": {
             "pattern": {
              "fillmode": "overlay",
              "size": 10,
              "solidity": 0.2
             }
            },
            "type": "histogram"
           }
          ],
          "histogram2d": [
           {
            "colorbar": {
             "outlinewidth": 0,
             "ticks": ""
            },
            "colorscale": [
             [
              0,
              "#0d0887"
             ],
             [
              0.1111111111111111,
              "#46039f"
             ],
             [
              0.2222222222222222,
              "#7201a8"
             ],
             [
              0.3333333333333333,
              "#9c179e"
             ],
             [
              0.4444444444444444,
              "#bd3786"
             ],
             [
              0.5555555555555556,
              "#d8576b"
             ],
             [
              0.6666666666666666,
              "#ed7953"
             ],
             [
              0.7777777777777778,
              "#fb9f3a"
             ],
             [
              0.8888888888888888,
              "#fdca26"
             ],
             [
              1,
              "#f0f921"
             ]
            ],
            "type": "histogram2d"
           }
          ],
          "histogram2dcontour": [
           {
            "colorbar": {
             "outlinewidth": 0,
             "ticks": ""
            },
            "colorscale": [
             [
              0,
              "#0d0887"
             ],
             [
              0.1111111111111111,
              "#46039f"
             ],
             [
              0.2222222222222222,
              "#7201a8"
             ],
             [
              0.3333333333333333,
              "#9c179e"
             ],
             [
              0.4444444444444444,
              "#bd3786"
             ],
             [
              0.5555555555555556,
              "#d8576b"
             ],
             [
              0.6666666666666666,
              "#ed7953"
             ],
             [
              0.7777777777777778,
              "#fb9f3a"
             ],
             [
              0.8888888888888888,
              "#fdca26"
             ],
             [
              1,
              "#f0f921"
             ]
            ],
            "type": "histogram2dcontour"
           }
          ],
          "mesh3d": [
           {
            "colorbar": {
             "outlinewidth": 0,
             "ticks": ""
            },
            "type": "mesh3d"
           }
          ],
          "parcoords": [
           {
            "line": {
             "colorbar": {
              "outlinewidth": 0,
              "ticks": ""
             }
            },
            "type": "parcoords"
           }
          ],
          "pie": [
           {
            "automargin": true,
            "type": "pie"
           }
          ],
          "scatter": [
           {
            "fillpattern": {
             "fillmode": "overlay",
             "size": 10,
             "solidity": 0.2
            },
            "type": "scatter"
           }
          ],
          "scatter3d": [
           {
            "line": {
             "colorbar": {
              "outlinewidth": 0,
              "ticks": ""
             }
            },
            "marker": {
             "colorbar": {
              "outlinewidth": 0,
              "ticks": ""
             }
            },
            "type": "scatter3d"
           }
          ],
          "scattercarpet": [
           {
            "marker": {
             "colorbar": {
              "outlinewidth": 0,
              "ticks": ""
             }
            },
            "type": "scattercarpet"
           }
          ],
          "scattergeo": [
           {
            "marker": {
             "colorbar": {
              "outlinewidth": 0,
              "ticks": ""
             }
            },
            "type": "scattergeo"
           }
          ],
          "scattergl": [
           {
            "marker": {
             "colorbar": {
              "outlinewidth": 0,
              "ticks": ""
             }
            },
            "type": "scattergl"
           }
          ],
          "scattermapbox": [
           {
            "marker": {
             "colorbar": {
              "outlinewidth": 0,
              "ticks": ""
             }
            },
            "type": "scattermapbox"
           }
          ],
          "scatterpolar": [
           {
            "marker": {
             "colorbar": {
              "outlinewidth": 0,
              "ticks": ""
             }
            },
            "type": "scatterpolar"
           }
          ],
          "scatterpolargl": [
           {
            "marker": {
             "colorbar": {
              "outlinewidth": 0,
              "ticks": ""
             }
            },
            "type": "scatterpolargl"
           }
          ],
          "scatterternary": [
           {
            "marker": {
             "colorbar": {
              "outlinewidth": 0,
              "ticks": ""
             }
            },
            "type": "scatterternary"
           }
          ],
          "surface": [
           {
            "colorbar": {
             "outlinewidth": 0,
             "ticks": ""
            },
            "colorscale": [
             [
              0,
              "#0d0887"
             ],
             [
              0.1111111111111111,
              "#46039f"
             ],
             [
              0.2222222222222222,
              "#7201a8"
             ],
             [
              0.3333333333333333,
              "#9c179e"
             ],
             [
              0.4444444444444444,
              "#bd3786"
             ],
             [
              0.5555555555555556,
              "#d8576b"
             ],
             [
              0.6666666666666666,
              "#ed7953"
             ],
             [
              0.7777777777777778,
              "#fb9f3a"
             ],
             [
              0.8888888888888888,
              "#fdca26"
             ],
             [
              1,
              "#f0f921"
             ]
            ],
            "type": "surface"
           }
          ],
          "table": [
           {
            "cells": {
             "fill": {
              "color": "#EBF0F8"
             },
             "line": {
              "color": "white"
             }
            },
            "header": {
             "fill": {
              "color": "#C8D4E3"
             },
             "line": {
              "color": "white"
             }
            },
            "type": "table"
           }
          ]
         },
         "layout": {
          "annotationdefaults": {
           "arrowcolor": "#2a3f5f",
           "arrowhead": 0,
           "arrowwidth": 1
          },
          "autotypenumbers": "strict",
          "coloraxis": {
           "colorbar": {
            "outlinewidth": 0,
            "ticks": ""
           }
          },
          "colorscale": {
           "diverging": [
            [
             0,
             "#8e0152"
            ],
            [
             0.1,
             "#c51b7d"
            ],
            [
             0.2,
             "#de77ae"
            ],
            [
             0.3,
             "#f1b6da"
            ],
            [
             0.4,
             "#fde0ef"
            ],
            [
             0.5,
             "#f7f7f7"
            ],
            [
             0.6,
             "#e6f5d0"
            ],
            [
             0.7,
             "#b8e186"
            ],
            [
             0.8,
             "#7fbc41"
            ],
            [
             0.9,
             "#4d9221"
            ],
            [
             1,
             "#276419"
            ]
           ],
           "sequential": [
            [
             0,
             "#0d0887"
            ],
            [
             0.1111111111111111,
             "#46039f"
            ],
            [
             0.2222222222222222,
             "#7201a8"
            ],
            [
             0.3333333333333333,
             "#9c179e"
            ],
            [
             0.4444444444444444,
             "#bd3786"
            ],
            [
             0.5555555555555556,
             "#d8576b"
            ],
            [
             0.6666666666666666,
             "#ed7953"
            ],
            [
             0.7777777777777778,
             "#fb9f3a"
            ],
            [
             0.8888888888888888,
             "#fdca26"
            ],
            [
             1,
             "#f0f921"
            ]
           ],
           "sequentialminus": [
            [
             0,
             "#0d0887"
            ],
            [
             0.1111111111111111,
             "#46039f"
            ],
            [
             0.2222222222222222,
             "#7201a8"
            ],
            [
             0.3333333333333333,
             "#9c179e"
            ],
            [
             0.4444444444444444,
             "#bd3786"
            ],
            [
             0.5555555555555556,
             "#d8576b"
            ],
            [
             0.6666666666666666,
             "#ed7953"
            ],
            [
             0.7777777777777778,
             "#fb9f3a"
            ],
            [
             0.8888888888888888,
             "#fdca26"
            ],
            [
             1,
             "#f0f921"
            ]
           ]
          },
          "colorway": [
           "#636efa",
           "#EF553B",
           "#00cc96",
           "#ab63fa",
           "#FFA15A",
           "#19d3f3",
           "#FF6692",
           "#B6E880",
           "#FF97FF",
           "#FECB52"
          ],
          "font": {
           "color": "#2a3f5f"
          },
          "geo": {
           "bgcolor": "white",
           "lakecolor": "white",
           "landcolor": "#E5ECF6",
           "showlakes": true,
           "showland": true,
           "subunitcolor": "white"
          },
          "hoverlabel": {
           "align": "left"
          },
          "hovermode": "closest",
          "mapbox": {
           "style": "light"
          },
          "paper_bgcolor": "white",
          "plot_bgcolor": "#E5ECF6",
          "polar": {
           "angularaxis": {
            "gridcolor": "white",
            "linecolor": "white",
            "ticks": ""
           },
           "bgcolor": "#E5ECF6",
           "radialaxis": {
            "gridcolor": "white",
            "linecolor": "white",
            "ticks": ""
           }
          },
          "scene": {
           "xaxis": {
            "backgroundcolor": "#E5ECF6",
            "gridcolor": "white",
            "gridwidth": 2,
            "linecolor": "white",
            "showbackground": true,
            "ticks": "",
            "zerolinecolor": "white"
           },
           "yaxis": {
            "backgroundcolor": "#E5ECF6",
            "gridcolor": "white",
            "gridwidth": 2,
            "linecolor": "white",
            "showbackground": true,
            "ticks": "",
            "zerolinecolor": "white"
           },
           "zaxis": {
            "backgroundcolor": "#E5ECF6",
            "gridcolor": "white",
            "gridwidth": 2,
            "linecolor": "white",
            "showbackground": true,
            "ticks": "",
            "zerolinecolor": "white"
           }
          },
          "shapedefaults": {
           "line": {
            "color": "#2a3f5f"
           }
          },
          "ternary": {
           "aaxis": {
            "gridcolor": "white",
            "linecolor": "white",
            "ticks": ""
           },
           "baxis": {
            "gridcolor": "white",
            "linecolor": "white",
            "ticks": ""
           },
           "bgcolor": "#E5ECF6",
           "caxis": {
            "gridcolor": "white",
            "linecolor": "white",
            "ticks": ""
           }
          },
          "title": {
           "x": 0.05
          },
          "xaxis": {
           "automargin": true,
           "gridcolor": "white",
           "linecolor": "white",
           "ticks": "",
           "title": {
            "standoff": 15
           },
           "zerolinecolor": "white",
           "zerolinewidth": 2
          },
          "yaxis": {
           "automargin": true,
           "gridcolor": "white",
           "linecolor": "white",
           "ticks": "",
           "title": {
            "standoff": 15
           },
           "zerolinecolor": "white",
           "zerolinewidth": 2
          }
         }
        },
        "title": {
         "text": "Regexs in each Dofloo Sample, 12 of samples, 38 of regexs"
        },
        "xaxis": {
         "tickangle": 50
        }
       }
      }
     },
     "metadata": {},
     "output_type": "display_data"
    }
   ],
   "source": [
    "# analysis special tokens accross samples\n",
    "# todo: by sort entity type then regex string\n",
    "# todo: a dot color for each entity type\n",
    "len(total_used_regex)\n",
    "samples[0].regex_set\n",
    "\n",
    "def draw_regex():\n",
    "    x, y = [], []\n",
    "    lenx = len(total_used_regex)\n",
    "    regex_ids = {}\n",
    "    for i,r in enumerate(total_used_regex):\n",
    "        regex_ids[r] = i\n",
    "\n",
    "    # record each sample s contains what regex ids\n",
    "    for s in samples:\n",
    "        ridList = [regex_ids[r] for r in s.regex_set]\n",
    "        # x.extend(ridList)\n",
    "        x.extend([prettifyName(r) for r in s.regex_set])\n",
    "        y.extend([f\"Sample {s.samplename[:3]} ({len(ridList)})\"] * len(ridList))\n",
    "\n",
    "    import plotly.graph_objects as go\n",
    "\n",
    "    fig = go.Figure()\n",
    "    fig.add_trace(go.Scatter(\n",
    "        x=x,\n",
    "        y=y,\n",
    "        marker=dict(color=\"blue\", size=12),\n",
    "        mode=\"markers\",\n",
    "        # name=\"Change SR Operation Pair\",\n",
    "    ))\n",
    "\n",
    "    title = f\"Regexs in each {fset.familyname} Sample, {len(samples)} of samples, {lenx} of regexs\"\n",
    "    print(title)\n",
    "    fig.update_layout(title=title,\n",
    "                    height=550,\n",
    "                    # xaxis_title=\"Regexs\",\n",
    "                    # yaxis_title=\"Malware Document\",\n",
    "                    )\n",
    "    fig.update_xaxes(tickangle=50)\n",
    "    fig.show()\n",
    "    pass\n",
    "draw_regex()"
   ]
  },
  {
   "cell_type": "code",
   "execution_count": 18,
   "metadata": {},
   "outputs": [
    {
     "name": "stdout",
     "output_type": "stream",
     "text": [
      "4 20\n"
     ]
    }
   ],
   "source": [
    "class Metric:\n",
    "    def __init__(self) -> None:\n",
    "        self.objN:int = 0    # 物件分子\n",
    "        self.objD:int = 0    # 物件分母\n",
    "        self.objSysN:int = 0 # 系統設定檔物件分子\n",
    "        self.objSysD:int = 0 # 系統設定檔物件分母\n",
    "        self.opN:int = 0     # 動作和物件分子\n",
    "        self.opD:int = 0     # 動作和物件分母\n",
    "        self.opSysN:int = 0  # 動作和系統物件分子\n",
    "        self.opSysD:int = 0  # 動作和系統物件分母\n",
    "        pass\n",
    "    def safe_divide(self, num, denom):\n",
    "        if denom == 0:\n",
    "            return 0\n",
    "            # raise ZeroDivisionError(\"Error: Denominator cannot be zero.\")\n",
    "        return num / denom\n",
    "    \n",
    "    def setObj(self, num:int, denom:int) -> float:\n",
    "        self.objN, self.objD = num, denom\n",
    "        # self.objN = num\n",
    "        # self.objD = denom\n",
    "        return self.safe_divide(self.objN, self.objD)\n",
    "    def setObjSys(self, num:int, denom:int) -> float:\n",
    "        self.objSysN, self.objSysD = num, denom\n",
    "        return self.safe_divide(self.objSysN, self.objSysD)\n",
    "    def setOp(self, num:int, denom:int) -> float:\n",
    "        self.opN, self.opD = num, denom\n",
    "        return self.safe_divide(self.opN, self.opD)\n",
    "    def setOpSys(self, num:int, denom:int) -> float:\n",
    "        self.opSysN, self.opSysD = num, denom\n",
    "        return self.safe_divide(self.opSysN, self.opSysD)\n",
    "    \n",
    "    def getMetricObj(self) -> float:\n",
    "        return self.safe_divide(self.objN, self.objD)\n",
    "    def getMetricObjSys(self) -> float:\n",
    "        return self.safe_divide(self.objSysN, self.objSysD)\n",
    "    def getMetricOp(self) -> float:\n",
    "        return self.safe_divide(self.opN, self.opD)\n",
    "    def getMetricOpSys(self) -> float:\n",
    "        return self.safe_divide(self.opSysN, self.opSysD)\n",
    "\n",
    "tmp = Metric()\n",
    "tmp.setObj(4, 20)\n",
    "print(tmp.objN, tmp.objD)"
   ]
  },
  {
   "cell_type": "code",
   "execution_count": 19,
   "metadata": {},
   "outputs": [
    {
     "name": "stdout",
     "output_type": "stream",
     "text": [
      "0046a78514a658b9b7a4e29e8581f85b\n",
      "4 1 3 1\n",
      "0046a78514a658b9b7a4e29e8581f85b\n",
      "{'objN': 4, 'objD': 20, 'objSysN': 2, 'objSysD': 4, 'opN': 3, 'opD': 38, 'opSysN': 1, 'opSysD': 3}\n",
      "121ca5362f9bc3fff5258b757e4250e5\n",
      "{'objN': 4, 'objD': 20, 'objSysN': 2, 'objSysD': 4, 'opN': 3, 'opD': 38, 'opSysN': 1, 'opSysD': 3}\n",
      "26d45f2e2d360ff1707c734006878dcb\n",
      "{'objN': 4, 'objD': 20, 'objSysN': 2, 'objSysD': 4, 'opN': 3, 'opD': 38, 'opSysN': 1, 'opSysD': 3}\n",
      "392214344b6d802dc4da644be260277e\n",
      "{'objN': 4, 'objD': 20, 'objSysN': 2, 'objSysD': 4, 'opN': 3, 'opD': 38, 'opSysN': 1, 'opSysD': 3}\n",
      "44d98df44327179d1a11dce725d0fa4a\n",
      "{'objN': 4, 'objD': 20, 'objSysN': 2, 'objSysD': 4, 'opN': 3, 'opD': 38, 'opSysN': 1, 'opSysD': 3}\n",
      "52ff8e32c390389f5bf18e0f0e2d9ada\n",
      "{'objN': 2, 'objD': 12, 'objSysN': 0, 'objSysD': 1, 'opN': 4, 'opD': 23, 'opSysN': 0, 'opSysD': 0}\n",
      "54a11aacadee0ed46e76373cfb8ed296\n",
      "{'objN': 4, 'objD': 20, 'objSysN': 2, 'objSysD': 4, 'opN': 3, 'opD': 38, 'opSysN': 1, 'opSysD': 3}\n",
      "5700e4b1c6498619a0e2562321363bd0\n",
      "{'objN': 4, 'objD': 24, 'objSysN': 2, 'objSysD': 5, 'opN': 3, 'opD': 46, 'opSysN': 1, 'opSysD': 6}\n",
      "60f879ed44de37351c973f01d0d77f79\n",
      "{'objN': 4, 'objD': 26, 'objSysN': 2, 'objSysD': 8, 'opN': 5, 'opD': 49, 'opSysN': 1, 'opSysD': 3}\n",
      "74ea372e01980c67f8a6f40b39897ebe\n",
      "{'objN': 4, 'objD': 26, 'objSysN': 2, 'objSysD': 8, 'opN': 5, 'opD': 49, 'opSysN': 1, 'opSysD': 3}\n",
      "9a37fcc7eab08d59532bc5c66390bc30\n",
      "{'objN': 4, 'objD': 20, 'objSysN': 2, 'objSysD': 4, 'opN': 3, 'opD': 38, 'opSysN': 1, 'opSysD': 3}\n",
      "bd6b7198812618eab8ef45c7dabeebb0\n",
      "{'objN': 4, 'objD': 20, 'objSysN': 2, 'objSysD': 4, 'opN': 3, 'opD': 38, 'opSysN': 1, 'opSysD': 3}\n"
     ]
    },
    {
     "data": {
      "text/plain": [
       "\"\\n0046a78514a658b9b7a4e29e8581f85b\\n4 1 3 1\\n0046a78514a658b9b7a4e29e8581f85b\\n{'objN': 4, 'objD': 20, 'objSysN': 2, 'objSysD': 4, 'opN': 3, 'opD': 38, 'opSysN': 1, 'opSysD': 3}\\n\\nReport #0 Dofloo-BleepingComputer.csv    metrics calculating...\\nR_malSysObj 比較系統物件 0 4\\nReport #1 Dofloo-MalwareMustDie.csv      metrics calculating...\\nR_malSysObj 比較系統物件 0 4\\n            Report #2 Dofloo-Securityaffairs.csv     metrics calculating...\\n            R_malSysObj 比較系統物件 2 4\\nReport #3 Dofloo-SyscallParty.csv        metrics calculating...\\nR_malSysObj 比較系統物件 2 4\\nReport #4 Dofloo-Trendmicro.csv          metrics calculating...\\nR_malSysObj 比較系統物件 3 4\\n\""
      ]
     },
     "execution_count": 19,
     "metadata": {},
     "output_type": "execute_result"
    }
   ],
   "source": [
    "fset = fset_list[0]\n",
    "rem = fset.rem_lst[2] # sid = 1 ,rid = 2\n",
    "metric = rem.metric\n",
    "\n",
    "print(fset.sample.samplename)\n",
    "print(metric.objN, metric.opSysN, metric.opN, metric.opSysN) # 4 1 3 1 correct, now is 2 0 2 0\n",
    "\n",
    "for fset in fset_list:\n",
    "    print(fset.sample.samplename)\n",
    "    print(vars(fset.rem_lst[2].metric))\n",
    "\n",
    "'''\n",
    "0046a78514a658b9b7a4e29e8581f85b\n",
    "4 1 3 1\n",
    "0046a78514a658b9b7a4e29e8581f85b\n",
    "{'objN': 4, 'objD': 20, 'objSysN': 2, 'objSysD': 4, 'opN': 3, 'opD': 38, 'opSysN': 1, 'opSysD': 3}\n",
    "\n",
    "Report #0 Dofloo-BleepingComputer.csv    metrics calculating...\n",
    "R_malSysObj 比較系統物件 0 4\n",
    "Report #1 Dofloo-MalwareMustDie.csv      metrics calculating...\n",
    "R_malSysObj 比較系統物件 0 4\n",
    "            Report #2 Dofloo-Securityaffairs.csv     metrics calculating...\n",
    "            R_malSysObj 比較系統物件 2 4\n",
    "Report #3 Dofloo-SyscallParty.csv        metrics calculating...\n",
    "R_malSysObj 比較系統物件 2 4\n",
    "Report #4 Dofloo-Trendmicro.csv          metrics calculating...\n",
    "R_malSysObj 比較系統物件 3 4\n",
    "'''"
   ]
  },
  {
   "cell_type": "code",
   "execution_count": 20,
   "metadata": {},
   "outputs": [
    {
     "data": {
      "text/html": [
       "<div>\n",
       "<style scoped>\n",
       "    .dataframe tbody tr th:only-of-type {\n",
       "        vertical-align: middle;\n",
       "    }\n",
       "\n",
       "    .dataframe tbody tr th {\n",
       "        vertical-align: top;\n",
       "    }\n",
       "\n",
       "    .dataframe thead th {\n",
       "        text-align: right;\n",
       "    }\n",
       "</style>\n",
       "<table border=\"1\" class=\"dataframe\">\n",
       "  <thead>\n",
       "    <tr style=\"text-align: right;\">\n",
       "      <th></th>\n",
       "      <th>0</th>\n",
       "      <th>1</th>\n",
       "      <th>2</th>\n",
       "      <th>3</th>\n",
       "      <th>4</th>\n",
       "      <th>5</th>\n",
       "      <th>6</th>\n",
       "      <th>7</th>\n",
       "      <th>8</th>\n",
       "      <th>9</th>\n",
       "      <th>...</th>\n",
       "      <th>50</th>\n",
       "      <th>51</th>\n",
       "      <th>52</th>\n",
       "      <th>53</th>\n",
       "      <th>54</th>\n",
       "      <th>55</th>\n",
       "      <th>56</th>\n",
       "      <th>57</th>\n",
       "      <th>58</th>\n",
       "      <th>59</th>\n",
       "    </tr>\n",
       "  </thead>\n",
       "  <tbody>\n",
       "    <tr>\n",
       "      <th>0</th>\n",
       "      <td>D0 Dofloo-BleepingComputer</td>\n",
       "      <td>D0 Dofloo-BleepingComputer</td>\n",
       "      <td>D0 Dofloo-BleepingComputer</td>\n",
       "      <td>D0 Dofloo-BleepingComputer</td>\n",
       "      <td>D0 Dofloo-BleepingComputer</td>\n",
       "      <td>D0 Dofloo-BleepingComputer</td>\n",
       "      <td>D0 Dofloo-BleepingComputer</td>\n",
       "      <td>D0 Dofloo-BleepingComputer</td>\n",
       "      <td>D0 Dofloo-BleepingComputer</td>\n",
       "      <td>D0 Dofloo-BleepingComputer</td>\n",
       "      <td>...</td>\n",
       "      <td>D4 Dofloo-Trendmicro</td>\n",
       "      <td>D4 Dofloo-Trendmicro</td>\n",
       "      <td>D4 Dofloo-Trendmicro</td>\n",
       "      <td>D4 Dofloo-Trendmicro</td>\n",
       "      <td>D4 Dofloo-Trendmicro</td>\n",
       "      <td>D4 Dofloo-Trendmicro</td>\n",
       "      <td>D4 Dofloo-Trendmicro</td>\n",
       "      <td>D4 Dofloo-Trendmicro</td>\n",
       "      <td>D4 Dofloo-Trendmicro</td>\n",
       "      <td>D4 Dofloo-Trendmicro</td>\n",
       "    </tr>\n",
       "    <tr>\n",
       "      <th>1</th>\n",
       "      <td>S004</td>\n",
       "      <td>S121</td>\n",
       "      <td>S26d</td>\n",
       "      <td>S392</td>\n",
       "      <td>S44d</td>\n",
       "      <td>S52f</td>\n",
       "      <td>S54a</td>\n",
       "      <td>S570</td>\n",
       "      <td>S60f</td>\n",
       "      <td>S74e</td>\n",
       "      <td>...</td>\n",
       "      <td>S26d</td>\n",
       "      <td>S392</td>\n",
       "      <td>S44d</td>\n",
       "      <td>S52f</td>\n",
       "      <td>S54a</td>\n",
       "      <td>S570</td>\n",
       "      <td>S60f</td>\n",
       "      <td>S74e</td>\n",
       "      <td>S9a3</td>\n",
       "      <td>Sbd6</td>\n",
       "    </tr>\n",
       "    <tr>\n",
       "      <th>2</th>\n",
       "      <td>0.0000</td>\n",
       "      <td>0.0000</td>\n",
       "      <td>0.0000</td>\n",
       "      <td>0.0000</td>\n",
       "      <td>0.0000</td>\n",
       "      <td>0.0000</td>\n",
       "      <td>0.0000</td>\n",
       "      <td>0.0000</td>\n",
       "      <td>0.0000</td>\n",
       "      <td>0.0000</td>\n",
       "      <td>...</td>\n",
       "      <td>0.3500</td>\n",
       "      <td>0.3500</td>\n",
       "      <td>0.3500</td>\n",
       "      <td>0.2500</td>\n",
       "      <td>0.3500</td>\n",
       "      <td>0.2917</td>\n",
       "      <td>0.2692</td>\n",
       "      <td>0.2692</td>\n",
       "      <td>0.3500</td>\n",
       "      <td>0.3500</td>\n",
       "    </tr>\n",
       "    <tr>\n",
       "      <th>3</th>\n",
       "      <td>0/20</td>\n",
       "      <td>0/20</td>\n",
       "      <td>0/20</td>\n",
       "      <td>0/20</td>\n",
       "      <td>0/20</td>\n",
       "      <td>0/12</td>\n",
       "      <td>0/20</td>\n",
       "      <td>0/24</td>\n",
       "      <td>0/26</td>\n",
       "      <td>0/26</td>\n",
       "      <td>...</td>\n",
       "      <td>7/20</td>\n",
       "      <td>7/20</td>\n",
       "      <td>7/20</td>\n",
       "      <td>3/12</td>\n",
       "      <td>7/20</td>\n",
       "      <td>7/24</td>\n",
       "      <td>7/26</td>\n",
       "      <td>7/26</td>\n",
       "      <td>7/20</td>\n",
       "      <td>7/20</td>\n",
       "    </tr>\n",
       "    <tr>\n",
       "      <th>4</th>\n",
       "      <td>0.0000</td>\n",
       "      <td>0.0000</td>\n",
       "      <td>0.0000</td>\n",
       "      <td>0.0000</td>\n",
       "      <td>0.0000</td>\n",
       "      <td>0.0000</td>\n",
       "      <td>0.0000</td>\n",
       "      <td>0.0000</td>\n",
       "      <td>0.0000</td>\n",
       "      <td>0.0000</td>\n",
       "      <td>...</td>\n",
       "      <td>0.7500</td>\n",
       "      <td>0.7500</td>\n",
       "      <td>0.7500</td>\n",
       "      <td>0.0000</td>\n",
       "      <td>0.7500</td>\n",
       "      <td>0.6000</td>\n",
       "      <td>0.3750</td>\n",
       "      <td>0.3750</td>\n",
       "      <td>0.7500</td>\n",
       "      <td>0.7500</td>\n",
       "    </tr>\n",
       "    <tr>\n",
       "      <th>5</th>\n",
       "      <td>0/4</td>\n",
       "      <td>0/4</td>\n",
       "      <td>0/4</td>\n",
       "      <td>0/4</td>\n",
       "      <td>0/4</td>\n",
       "      <td>0/1</td>\n",
       "      <td>0/4</td>\n",
       "      <td>0/5</td>\n",
       "      <td>0/8</td>\n",
       "      <td>0/8</td>\n",
       "      <td>...</td>\n",
       "      <td>3/4</td>\n",
       "      <td>3/4</td>\n",
       "      <td>3/4</td>\n",
       "      <td>0/1</td>\n",
       "      <td>3/4</td>\n",
       "      <td>3/5</td>\n",
       "      <td>3/8</td>\n",
       "      <td>3/8</td>\n",
       "      <td>3/4</td>\n",
       "      <td>3/4</td>\n",
       "    </tr>\n",
       "    <tr>\n",
       "      <th>6</th>\n",
       "      <td>0.0000</td>\n",
       "      <td>0.0000</td>\n",
       "      <td>0.0000</td>\n",
       "      <td>0.0000</td>\n",
       "      <td>0.0000</td>\n",
       "      <td>0.0000</td>\n",
       "      <td>0.0000</td>\n",
       "      <td>0.0000</td>\n",
       "      <td>0.0000</td>\n",
       "      <td>0.0000</td>\n",
       "      <td>...</td>\n",
       "      <td>0.0000</td>\n",
       "      <td>0.0000</td>\n",
       "      <td>0.0000</td>\n",
       "      <td>0.0000</td>\n",
       "      <td>0.0000</td>\n",
       "      <td>0.0000</td>\n",
       "      <td>0.0000</td>\n",
       "      <td>0.0000</td>\n",
       "      <td>0.0000</td>\n",
       "      <td>0.0000</td>\n",
       "    </tr>\n",
       "    <tr>\n",
       "      <th>7</th>\n",
       "      <td>0/38</td>\n",
       "      <td>0/38</td>\n",
       "      <td>0/38</td>\n",
       "      <td>0/38</td>\n",
       "      <td>0/38</td>\n",
       "      <td>0/23</td>\n",
       "      <td>0/38</td>\n",
       "      <td>0/46</td>\n",
       "      <td>0/49</td>\n",
       "      <td>0/49</td>\n",
       "      <td>...</td>\n",
       "      <td>0/38</td>\n",
       "      <td>0/38</td>\n",
       "      <td>0/38</td>\n",
       "      <td>0/23</td>\n",
       "      <td>0/38</td>\n",
       "      <td>0/46</td>\n",
       "      <td>0/49</td>\n",
       "      <td>0/49</td>\n",
       "      <td>0/38</td>\n",
       "      <td>0/38</td>\n",
       "    </tr>\n",
       "    <tr>\n",
       "      <th>8</th>\n",
       "      <td>0.0000</td>\n",
       "      <td>0.0000</td>\n",
       "      <td>0.0000</td>\n",
       "      <td>0.0000</td>\n",
       "      <td>0.0000</td>\n",
       "      <td>0.0000</td>\n",
       "      <td>0.0000</td>\n",
       "      <td>0.0000</td>\n",
       "      <td>0.0000</td>\n",
       "      <td>0.0000</td>\n",
       "      <td>...</td>\n",
       "      <td>0.0000</td>\n",
       "      <td>0.0000</td>\n",
       "      <td>0.0000</td>\n",
       "      <td>0.0000</td>\n",
       "      <td>0.0000</td>\n",
       "      <td>0.0000</td>\n",
       "      <td>0.0000</td>\n",
       "      <td>0.0000</td>\n",
       "      <td>0.0000</td>\n",
       "      <td>0.0000</td>\n",
       "    </tr>\n",
       "    <tr>\n",
       "      <th>9</th>\n",
       "      <td>0/3</td>\n",
       "      <td>0/3</td>\n",
       "      <td>0/3</td>\n",
       "      <td>0/3</td>\n",
       "      <td>0/3</td>\n",
       "      <td>0/0</td>\n",
       "      <td>0/3</td>\n",
       "      <td>0/6</td>\n",
       "      <td>0/3</td>\n",
       "      <td>0/3</td>\n",
       "      <td>...</td>\n",
       "      <td>0/3</td>\n",
       "      <td>0/3</td>\n",
       "      <td>0/3</td>\n",
       "      <td>0/0</td>\n",
       "      <td>0/3</td>\n",
       "      <td>0/6</td>\n",
       "      <td>0/3</td>\n",
       "      <td>0/3</td>\n",
       "      <td>0/3</td>\n",
       "      <td>0/3</td>\n",
       "    </tr>\n",
       "  </tbody>\n",
       "</table>\n",
       "<p>10 rows × 60 columns</p>\n",
       "</div>"
      ],
      "text/plain": [
       "                           0                           1   \\\n",
       "0  D0 Dofloo-BleepingComputer  D0 Dofloo-BleepingComputer   \n",
       "1                        S004                        S121   \n",
       "2                      0.0000                      0.0000   \n",
       "3                        0/20                        0/20   \n",
       "4                      0.0000                      0.0000   \n",
       "5                         0/4                         0/4   \n",
       "6                      0.0000                      0.0000   \n",
       "7                        0/38                        0/38   \n",
       "8                      0.0000                      0.0000   \n",
       "9                         0/3                         0/3   \n",
       "\n",
       "                           2                           3   \\\n",
       "0  D0 Dofloo-BleepingComputer  D0 Dofloo-BleepingComputer   \n",
       "1                        S26d                        S392   \n",
       "2                      0.0000                      0.0000   \n",
       "3                        0/20                        0/20   \n",
       "4                      0.0000                      0.0000   \n",
       "5                         0/4                         0/4   \n",
       "6                      0.0000                      0.0000   \n",
       "7                        0/38                        0/38   \n",
       "8                      0.0000                      0.0000   \n",
       "9                         0/3                         0/3   \n",
       "\n",
       "                           4                           5   \\\n",
       "0  D0 Dofloo-BleepingComputer  D0 Dofloo-BleepingComputer   \n",
       "1                        S44d                        S52f   \n",
       "2                      0.0000                      0.0000   \n",
       "3                        0/20                        0/12   \n",
       "4                      0.0000                      0.0000   \n",
       "5                         0/4                         0/1   \n",
       "6                      0.0000                      0.0000   \n",
       "7                        0/38                        0/23   \n",
       "8                      0.0000                      0.0000   \n",
       "9                         0/3                         0/0   \n",
       "\n",
       "                           6                           7   \\\n",
       "0  D0 Dofloo-BleepingComputer  D0 Dofloo-BleepingComputer   \n",
       "1                        S54a                        S570   \n",
       "2                      0.0000                      0.0000   \n",
       "3                        0/20                        0/24   \n",
       "4                      0.0000                      0.0000   \n",
       "5                         0/4                         0/5   \n",
       "6                      0.0000                      0.0000   \n",
       "7                        0/38                        0/46   \n",
       "8                      0.0000                      0.0000   \n",
       "9                         0/3                         0/6   \n",
       "\n",
       "                           8                           9   ...  \\\n",
       "0  D0 Dofloo-BleepingComputer  D0 Dofloo-BleepingComputer  ...   \n",
       "1                        S60f                        S74e  ...   \n",
       "2                      0.0000                      0.0000  ...   \n",
       "3                        0/26                        0/26  ...   \n",
       "4                      0.0000                      0.0000  ...   \n",
       "5                         0/8                         0/8  ...   \n",
       "6                      0.0000                      0.0000  ...   \n",
       "7                        0/49                        0/49  ...   \n",
       "8                      0.0000                      0.0000  ...   \n",
       "9                         0/3                         0/3  ...   \n",
       "\n",
       "                     50                    51                    52  \\\n",
       "0  D4 Dofloo-Trendmicro  D4 Dofloo-Trendmicro  D4 Dofloo-Trendmicro   \n",
       "1                  S26d                  S392                  S44d   \n",
       "2                0.3500                0.3500                0.3500   \n",
       "3                  7/20                  7/20                  7/20   \n",
       "4                0.7500                0.7500                0.7500   \n",
       "5                   3/4                   3/4                   3/4   \n",
       "6                0.0000                0.0000                0.0000   \n",
       "7                  0/38                  0/38                  0/38   \n",
       "8                0.0000                0.0000                0.0000   \n",
       "9                   0/3                   0/3                   0/3   \n",
       "\n",
       "                     53                    54                    55  \\\n",
       "0  D4 Dofloo-Trendmicro  D4 Dofloo-Trendmicro  D4 Dofloo-Trendmicro   \n",
       "1                  S52f                  S54a                  S570   \n",
       "2                0.2500                0.3500                0.2917   \n",
       "3                  3/12                  7/20                  7/24   \n",
       "4                0.0000                0.7500                0.6000   \n",
       "5                   0/1                   3/4                   3/5   \n",
       "6                0.0000                0.0000                0.0000   \n",
       "7                  0/23                  0/38                  0/46   \n",
       "8                0.0000                0.0000                0.0000   \n",
       "9                   0/0                   0/3                   0/6   \n",
       "\n",
       "                     56                    57                    58  \\\n",
       "0  D4 Dofloo-Trendmicro  D4 Dofloo-Trendmicro  D4 Dofloo-Trendmicro   \n",
       "1                  S60f                  S74e                  S9a3   \n",
       "2                0.2692                0.2692                0.3500   \n",
       "3                  7/26                  7/26                  7/20   \n",
       "4                0.3750                0.3750                0.7500   \n",
       "5                   3/8                   3/8                   3/4   \n",
       "6                0.0000                0.0000                0.0000   \n",
       "7                  0/49                  0/49                  0/38   \n",
       "8                0.0000                0.0000                0.0000   \n",
       "9                   0/3                   0/3                   0/3   \n",
       "\n",
       "                     59  \n",
       "0  D4 Dofloo-Trendmicro  \n",
       "1                  Sbd6  \n",
       "2                0.3500  \n",
       "3                  7/20  \n",
       "4                0.7500  \n",
       "5                   3/4  \n",
       "6                0.0000  \n",
       "7                  0/38  \n",
       "8                0.0000  \n",
       "9                   0/3  \n",
       "\n",
       "[10 rows x 60 columns]"
      ]
     },
     "metadata": {},
     "output_type": "display_data"
    }
   ],
   "source": [
    "# with open('./result_multi_sample/fset_list.pkl', 'wb') as outp:\n",
    "#     pickle.dump(fset_list, outp)\n",
    "# with open('./result_multi_sample/fset_list.pkl', 'rb') as inp:\n",
    "#     fset_list = pickle.load(inp)\n",
    "import numpy as np\n",
    "\n",
    "result_table = []\n",
    "result_header = ['Γ_obj','Γ_obj','Γ_rsc','Γ_rsc','Ф_op','Ф_op','Ф_sys','Ф_sys']\n",
    "\n",
    "for rid, report in enumerate(xor_report_names):\n",
    "    # view result of different sample under each document\n",
    "    reportname = report.split('.')[0]\n",
    "    reportname = f'D{rid} {reportname}'\n",
    "\n",
    "    for sid, fset in enumerate(fset_list):\n",
    "        # each sample contains its ASG data\n",
    "        samplename = f\"S{fset.sample.samplename[:3]}\"\n",
    "\n",
    "        # metrics for rid, sid\n",
    "        rem = fset.rem_lst[rid]\n",
    "        s_Obj = f\"{rem.metric.getMetricObj():.4f}\"\n",
    "        s_Obj_fraction = f\"{rem.metric.objN}/{rem.metric.objD}\"\n",
    "        s_ObjSys = f\"{rem.metric.getMetricObjSys():.4f}\"\n",
    "        s_ObjSys_fraction = f\"{rem.metric.objSysN}/{rem.metric.objSysD}\"\n",
    "        s_Op = f\"{rem.metric.getMetricOp():.4f}\"\n",
    "        s_Op_fraction = f\"{rem.metric.opN}/{rem.metric.opD}\"\n",
    "        s_OpSys = f\"{rem.metric.getMetricOpSys():.4f}\"\n",
    "        s_OpSys_fraction = f\"{rem.metric.opSysN}/{rem.metric.opSysD}\"\n",
    "\n",
    "        result_sample = [reportname, \\\n",
    "                         samplename, \\\n",
    "                         s_Obj, s_Obj_fraction, s_ObjSys, s_ObjSys_fraction,\\\n",
    "                         s_Op, s_Op_fraction, s_OpSys, s_OpSys_fraction]\n",
    "        result_table.append(result_sample)\n",
    "result_table\n",
    "result_table = np.array(result_table)\n",
    "result_table = result_table.T\n",
    "result_table = pd.DataFrame(result_table)\n",
    "display(result_table)\n",
    "\n",
    "result_table.to_csv(\"./result_multi_sample/dofloo.csv\")\n",
    "\n",
    "# for fset in fset_list:\n",
    "#     # each sample contains its ASG data\n",
    "#     result_sample = []\n",
    "#     for rem in fset.rem_lst:\n",
    "#         # each malware report eval result\n",
    "#         result_report = []\n",
    "#         reportname = rem.reportname\n",
    "#         s_Obj = f\"{rem.metric.getMetricObj():.4f}\"\n",
    "#         s_Obj_fraction = f\"{rem.metric.objN}/{rem.metric.objD}\"\n",
    "#         s_ObjSys = f\"{rem.metric.getMetricObjSys():.4f}\"\n",
    "#         s_ObjSys_fraction = f\"{rem.metric.objSysN}/{rem.metric.objSysD}\"\n",
    "#         s_Op = f\"{rem.metric.getMetricOp():.4f}\"\n",
    "#         s_Op_fraction = f\"{rem.metric.opN}/{rem.metric.opD}\"\n",
    "#         s_OpSys = f\"{rem.metric.getMetricOpSys():.4f}\"\n",
    "#         s_OpSys_fraction = f\"{rem.metric.opSysN}/{rem.metric.opSysD}\"\n",
    "#         result_report.extend([s_Obj, s_Obj_fraction, s_ObjSys, s_ObjSys_fraction,\\\n",
    "#                               s_Op, s_Op_fraction, s_OpSys, s_OpSys_fraction])\n",
    "#         result_sample.append(result_report)\n",
    "#         # print(s_Obj, s_Obj_fraction)\n",
    "#     print(result_sample)\n",
    "#     break"
   ]
  },
  {
   "cell_type": "code",
   "execution_count": 62,
   "metadata": {},
   "outputs": [
    {
     "name": "stdout",
     "output_type": "stream",
     "text": [
      "52ff8e32c390389f5bf18e0f0e2d9ada Dofloo-Securityaffairs.csv\n",
      "Docs OP {<OP 1 act=connect, obj=ip_addr>, <OP 2 act=connect, obj=ip_addr+port>}\n",
      "ASG OP\n",
      "[<OP 8 act=connect(), obj=ip_addr+port>, <OP15 act=send(), obj=ip_addr>, <OP16 act=send(), obj=ip_addr+port>, <OP 7 act=connect(), obj=ip_addr>]\n"
     ]
    }
   ],
   "source": [
    "# with open('./result_multi_sample/fset_list.pkl', 'wb') as outp:\n",
    "#     pickle.dump(fset_list, outp)\n",
    "# with open('./result_multi_sample/fset_list.pkl', 'rb') as inp:\n",
    "#     fset_list:list[FamilySet] = pickle.load(inp)\n",
    "\n",
    "target_sample = '004'\n",
    "target_sample_id = 5 # 0 1 5 8\n",
    "target_docs_id = 2\n",
    "\n",
    "fset = fset_list[target_sample_id]\n",
    "rem = fset.rem_lst[target_docs_id]\n",
    "print(fset.sample.samplename, rem.reportname)\n",
    "\n",
    "print(\"Docs OP\", rem.match_doc_OPset)\n",
    "print(\"ASG OP\")\n",
    "print([fset.sample.OPset_ordered[i] for i in rem.OPset_order_index])\n",
    "# rem.OPset_order_index"
   ]
  },
  {
   "cell_type": "code",
   "execution_count": 35,
   "metadata": {},
   "outputs": [
    {
     "data": {
      "text/html": [
       "<div>\n",
       "<style scoped>\n",
       "    .dataframe tbody tr th:only-of-type {\n",
       "        vertical-align: middle;\n",
       "    }\n",
       "\n",
       "    .dataframe tbody tr th {\n",
       "        vertical-align: top;\n",
       "    }\n",
       "\n",
       "    .dataframe thead th {\n",
       "        text-align: right;\n",
       "    }\n",
       "</style>\n",
       "<table border=\"1\" class=\"dataframe\">\n",
       "  <thead>\n",
       "    <tr style=\"text-align: right;\">\n",
       "      <th></th>\n",
       "      <th>DocumentA</th>\n",
       "      <th>DocumentB</th>\n",
       "    </tr>\n",
       "  </thead>\n",
       "  <tbody>\n",
       "    <tr>\n",
       "      <th>Sample1</th>\n",
       "      <td>[data1, data2]</td>\n",
       "      <td>[data1, data2]</td>\n",
       "    </tr>\n",
       "    <tr>\n",
       "      <th>Sample2</th>\n",
       "      <td>[data1, data2]</td>\n",
       "      <td>[data1, data2]</td>\n",
       "    </tr>\n",
       "    <tr>\n",
       "      <th>Sample3</th>\n",
       "      <td>[data1, data2]</td>\n",
       "      <td>[data1, data2]</td>\n",
       "    </tr>\n",
       "  </tbody>\n",
       "</table>\n",
       "</div>"
      ],
      "text/plain": [
       "              DocumentA       DocumentB\n",
       "Sample1  [data1, data2]  [data1, data2]\n",
       "Sample2  [data1, data2]  [data1, data2]\n",
       "Sample3  [data1, data2]  [data1, data2]"
      ]
     },
     "execution_count": 35,
     "metadata": {},
     "output_type": "execute_result"
    }
   ],
   "source": [
    "json_data = {\n",
    "    \"DocumentA\": {\n",
    "        \"Sample1\": ['data1', 'data2'],\n",
    "        \"Sample2\": ['data1', 'data2'],\n",
    "        \"Sample3\": ['data1', 'data2'],\n",
    "    },\n",
    "    \"DocumentB\": {\n",
    "        \"Sample1\": ['data1', 'data2'],\n",
    "        \"Sample2\": ['data1', 'data2'],\n",
    "        \"Sample3\": ['data1', 'data2'],\n",
    "    }\n",
    "}\n",
    "pd.DataFrame(json_data)"
   ]
  },
  {
   "cell_type": "code",
   "execution_count": 47,
   "metadata": {},
   "outputs": [
    {
     "data": {
      "text/html": [
       "<div>\n",
       "<style scoped>\n",
       "    .dataframe tbody tr th:only-of-type {\n",
       "        vertical-align: middle;\n",
       "    }\n",
       "\n",
       "    .dataframe tbody tr th {\n",
       "        vertical-align: top;\n",
       "    }\n",
       "\n",
       "    .dataframe thead th {\n",
       "        text-align: right;\n",
       "    }\n",
       "</style>\n",
       "<table border=\"1\" class=\"dataframe\">\n",
       "  <thead>\n",
       "    <tr style=\"text-align: right;\">\n",
       "      <th></th>\n",
       "      <th>Document</th>\n",
       "    </tr>\n",
       "  </thead>\n",
       "  <tbody>\n",
       "    <tr>\n",
       "      <th>0</th>\n",
       "      <td>{'name': 'DocumentA', 'data': {'colname1': ['d...</td>\n",
       "    </tr>\n",
       "    <tr>\n",
       "      <th>1</th>\n",
       "      <td>{'name': 'DocumentA', 'data': {'colname1': ['d...</td>\n",
       "    </tr>\n",
       "  </tbody>\n",
       "</table>\n",
       "</div>"
      ],
      "text/plain": [
       "                                            Document\n",
       "0  {'name': 'DocumentA', 'data': {'colname1': ['d...\n",
       "1  {'name': 'DocumentA', 'data': {'colname1': ['d..."
      ]
     },
     "execution_count": 47,
     "metadata": {},
     "output_type": "execute_result"
    }
   ],
   "source": [
    "json_data = {\n",
    "    \"json\": [\n",
    "        {\"Document\": {\n",
    "            \"name\": \"DocumentA\",\n",
    "            \"data\": {\n",
    "                \"colname1\": ['data1', 'data2'],\n",
    "                \"colname2\": ['data1', 'data2'],\n",
    "            }\n",
    "        }},\n",
    "        {\"Document\": {\n",
    "            \"name\": \"DocumentA\",\n",
    "            \"data\": {\n",
    "                \"colname1\": ['data1', 'data2'],\n",
    "                \"colname2\": ['data1', 'data2'],\n",
    "            }\n",
    "        }},\n",
    "    ]\n",
    "}\n",
    "df = pd.DataFrame(json_data['json'])\n",
    "df"
   ]
  },
  {
   "cell_type": "code",
   "execution_count": 40,
   "metadata": {},
   "outputs": [
    {
     "data": {
      "text/plain": [
       "DocumentA    [colname1, colname2]\n",
       "DocumentB    [colname1, colname2]\n",
       "Name: Varient, dtype: object"
      ]
     },
     "execution_count": 40,
     "metadata": {},
     "output_type": "execute_result"
    }
   ],
   "source": [
    "df.iloc[0]"
   ]
  },
  {
   "cell_type": "code",
   "execution_count": 48,
   "metadata": {},
   "outputs": [
    {
     "data": {
      "text/html": [
       "<div>\n",
       "<style scoped>\n",
       "    .dataframe tbody tr th:only-of-type {\n",
       "        vertical-align: middle;\n",
       "    }\n",
       "\n",
       "    .dataframe tbody tr th {\n",
       "        vertical-align: top;\n",
       "    }\n",
       "\n",
       "    .dataframe thead th {\n",
       "        text-align: right;\n",
       "    }\n",
       "</style>\n",
       "<table border=\"1\" class=\"dataframe\">\n",
       "  <thead>\n",
       "    <tr style=\"text-align: right;\">\n",
       "      <th></th>\n",
       "      <th>Odd</th>\n",
       "      <th>Even</th>\n",
       "    </tr>\n",
       "  </thead>\n",
       "  <tbody>\n",
       "    <tr>\n",
       "      <th>0</th>\n",
       "      <td>1</td>\n",
       "      <td>0</td>\n",
       "    </tr>\n",
       "    <tr>\n",
       "      <th>1</th>\n",
       "      <td>3</td>\n",
       "      <td>2</td>\n",
       "    </tr>\n",
       "    <tr>\n",
       "      <th>2</th>\n",
       "      <td>5</td>\n",
       "      <td>4</td>\n",
       "    </tr>\n",
       "    <tr>\n",
       "      <th>3</th>\n",
       "      <td>6</td>\n",
       "      <td>6</td>\n",
       "    </tr>\n",
       "    <tr>\n",
       "      <th>4</th>\n",
       "      <td>7</td>\n",
       "      <td>8</td>\n",
       "    </tr>\n",
       "    <tr>\n",
       "      <th>5</th>\n",
       "      <td>9</td>\n",
       "      <td>10</td>\n",
       "    </tr>\n",
       "  </tbody>\n",
       "</table>\n",
       "</div>"
      ],
      "text/plain": [
       "   Odd  Even\n",
       "0    1     0\n",
       "1    3     2\n",
       "2    5     4\n",
       "3    6     6\n",
       "4    7     8\n",
       "5    9    10"
      ]
     },
     "execution_count": 48,
     "metadata": {},
     "output_type": "execute_result"
    }
   ],
   "source": [
    "data = pd.DataFrame({'Odd':[1,3,5,6,7,9], 'Even':[0,2,4,6,8,10]})\n",
    "data"
   ]
  },
  {
   "cell_type": "code",
   "execution_count": 52,
   "metadata": {},
   "outputs": [
    {
     "data": {
      "text/html": [
       "<div>\n",
       "<style scoped>\n",
       "    .dataframe tbody tr th:only-of-type {\n",
       "        vertical-align: middle;\n",
       "    }\n",
       "\n",
       "    .dataframe tbody tr th {\n",
       "        vertical-align: top;\n",
       "    }\n",
       "\n",
       "    .dataframe thead th {\n",
       "        text-align: right;\n",
       "    }\n",
       "</style>\n",
       "<table border=\"1\" class=\"dataframe\">\n",
       "  <thead>\n",
       "    <tr style=\"text-align: right;\">\n",
       "      <th></th>\n",
       "      <th>Even</th>\n",
       "      <th>Odd</th>\n",
       "    </tr>\n",
       "  </thead>\n",
       "  <tbody>\n",
       "    <tr>\n",
       "      <th>0</th>\n",
       "      <td>0</td>\n",
       "      <td>1</td>\n",
       "    </tr>\n",
       "    <tr>\n",
       "      <th>1</th>\n",
       "      <td>2</td>\n",
       "      <td>3</td>\n",
       "    </tr>\n",
       "    <tr>\n",
       "      <th>2</th>\n",
       "      <td>4</td>\n",
       "      <td>5</td>\n",
       "    </tr>\n",
       "    <tr>\n",
       "      <th>3</th>\n",
       "      <td>6</td>\n",
       "      <td>6</td>\n",
       "    </tr>\n",
       "    <tr>\n",
       "      <th>4</th>\n",
       "      <td>8</td>\n",
       "      <td>7</td>\n",
       "    </tr>\n",
       "    <tr>\n",
       "      <th>5</th>\n",
       "      <td>10</td>\n",
       "      <td>9</td>\n",
       "    </tr>\n",
       "  </tbody>\n",
       "</table>\n",
       "</div>"
      ],
      "text/plain": [
       "   Even  Odd\n",
       "0     0    1\n",
       "1     2    3\n",
       "2     4    5\n",
       "3     6    6\n",
       "4     8    7\n",
       "5    10    9"
      ]
     },
     "execution_count": 52,
     "metadata": {},
     "output_type": "execute_result"
    }
   ],
   "source": [
    "data.reindex(columns=['Even', 'Odd'])"
   ]
  },
  {
   "attachments": {},
   "cell_type": "markdown",
   "metadata": {},
   "source": [
    "### Run Script: draw Lifecycle diagram\n",
    "- 兩個 traces (legend) 一般的 OP 和 ChangeSys OP。分兩個顏色，不重疊。\n",
    "- x: [a,a,a,a,b,b,b,c,c,c] 不同 report 的 step 可以放同一個 list，因為屬於同個 trace。"
   ]
  },
  {
   "cell_type": "code",
   "execution_count": 30,
   "metadata": {},
   "outputs": [
    {
     "name": "stdout",
     "output_type": "stream",
     "text": [
      "\n"
     ]
    },
    {
     "data": {
      "application/vnd.plotly.v1+json": {
       "config": {
        "plotlyServerURL": "https://plot.ly"
       },
       "data": [
        {
         "marker": {
          "color": "darkorange",
          "size": 12
         },
         "mode": "markers",
         "name": "Normal Operation Pair",
         "type": "scatter",
         "x": [
          26,
          27,
          14,
          24,
          1,
          2,
          3,
          4,
          5,
          6,
          7,
          8,
          9,
          10,
          11,
          12,
          13,
          14,
          15,
          16,
          17,
          18,
          20,
          23,
          24,
          25,
          26,
          27,
          28,
          29,
          30,
          31,
          32,
          33,
          34,
          35,
          36,
          37,
          38
         ],
         "y": [
          "Securityaffairs (3)",
          "Securityaffairs (3)",
          "SyscallParty (3)",
          "SyscallParty (3)",
          "ASG (38)",
          "ASG (38)",
          "ASG (38)",
          "ASG (38)",
          "ASG (38)",
          "ASG (38)",
          "ASG (38)",
          "ASG (38)",
          "ASG (38)",
          "ASG (38)",
          "ASG (38)",
          "ASG (38)",
          "ASG (38)",
          "ASG (38)",
          "ASG (38)",
          "ASG (38)",
          "ASG (38)",
          "ASG (38)",
          "ASG (38)",
          "ASG (38)",
          "ASG (38)",
          "ASG (38)",
          "ASG (38)",
          "ASG (38)",
          "ASG (38)",
          "ASG (38)",
          "ASG (38)",
          "ASG (38)",
          "ASG (38)",
          "ASG (38)",
          "ASG (38)",
          "ASG (38)",
          "ASG (38)",
          "ASG (38)",
          "ASG (38)"
         ]
        },
        {
         "marker": {
          "color": "blue",
          "size": 12
         },
         "mode": "markers",
         "name": "Change SR Operation Pair",
         "type": "scatter",
         "x": [
          22,
          22,
          19,
          21,
          22
         ],
         "y": [
          "Securityaffairs (3)",
          "SyscallParty (3)",
          "ASG (38)",
          "ASG (38)",
          "ASG (38)"
         ]
        }
       ],
       "layout": {
        "template": {
         "data": {
          "bar": [
           {
            "error_x": {
             "color": "#2a3f5f"
            },
            "error_y": {
             "color": "#2a3f5f"
            },
            "marker": {
             "line": {
              "color": "#E5ECF6",
              "width": 0.5
             },
             "pattern": {
              "fillmode": "overlay",
              "size": 10,
              "solidity": 0.2
             }
            },
            "type": "bar"
           }
          ],
          "barpolar": [
           {
            "marker": {
             "line": {
              "color": "#E5ECF6",
              "width": 0.5
             },
             "pattern": {
              "fillmode": "overlay",
              "size": 10,
              "solidity": 0.2
             }
            },
            "type": "barpolar"
           }
          ],
          "carpet": [
           {
            "aaxis": {
             "endlinecolor": "#2a3f5f",
             "gridcolor": "white",
             "linecolor": "white",
             "minorgridcolor": "white",
             "startlinecolor": "#2a3f5f"
            },
            "baxis": {
             "endlinecolor": "#2a3f5f",
             "gridcolor": "white",
             "linecolor": "white",
             "minorgridcolor": "white",
             "startlinecolor": "#2a3f5f"
            },
            "type": "carpet"
           }
          ],
          "choropleth": [
           {
            "colorbar": {
             "outlinewidth": 0,
             "ticks": ""
            },
            "type": "choropleth"
           }
          ],
          "contour": [
           {
            "colorbar": {
             "outlinewidth": 0,
             "ticks": ""
            },
            "colorscale": [
             [
              0,
              "#0d0887"
             ],
             [
              0.1111111111111111,
              "#46039f"
             ],
             [
              0.2222222222222222,
              "#7201a8"
             ],
             [
              0.3333333333333333,
              "#9c179e"
             ],
             [
              0.4444444444444444,
              "#bd3786"
             ],
             [
              0.5555555555555556,
              "#d8576b"
             ],
             [
              0.6666666666666666,
              "#ed7953"
             ],
             [
              0.7777777777777778,
              "#fb9f3a"
             ],
             [
              0.8888888888888888,
              "#fdca26"
             ],
             [
              1,
              "#f0f921"
             ]
            ],
            "type": "contour"
           }
          ],
          "contourcarpet": [
           {
            "colorbar": {
             "outlinewidth": 0,
             "ticks": ""
            },
            "type": "contourcarpet"
           }
          ],
          "heatmap": [
           {
            "colorbar": {
             "outlinewidth": 0,
             "ticks": ""
            },
            "colorscale": [
             [
              0,
              "#0d0887"
             ],
             [
              0.1111111111111111,
              "#46039f"
             ],
             [
              0.2222222222222222,
              "#7201a8"
             ],
             [
              0.3333333333333333,
              "#9c179e"
             ],
             [
              0.4444444444444444,
              "#bd3786"
             ],
             [
              0.5555555555555556,
              "#d8576b"
             ],
             [
              0.6666666666666666,
              "#ed7953"
             ],
             [
              0.7777777777777778,
              "#fb9f3a"
             ],
             [
              0.8888888888888888,
              "#fdca26"
             ],
             [
              1,
              "#f0f921"
             ]
            ],
            "type": "heatmap"
           }
          ],
          "heatmapgl": [
           {
            "colorbar": {
             "outlinewidth": 0,
             "ticks": ""
            },
            "colorscale": [
             [
              0,
              "#0d0887"
             ],
             [
              0.1111111111111111,
              "#46039f"
             ],
             [
              0.2222222222222222,
              "#7201a8"
             ],
             [
              0.3333333333333333,
              "#9c179e"
             ],
             [
              0.4444444444444444,
              "#bd3786"
             ],
             [
              0.5555555555555556,
              "#d8576b"
             ],
             [
              0.6666666666666666,
              "#ed7953"
             ],
             [
              0.7777777777777778,
              "#fb9f3a"
             ],
             [
              0.8888888888888888,
              "#fdca26"
             ],
             [
              1,
              "#f0f921"
             ]
            ],
            "type": "heatmapgl"
           }
          ],
          "histogram": [
           {
            "marker": {
             "pattern": {
              "fillmode": "overlay",
              "size": 10,
              "solidity": 0.2
             }
            },
            "type": "histogram"
           }
          ],
          "histogram2d": [
           {
            "colorbar": {
             "outlinewidth": 0,
             "ticks": ""
            },
            "colorscale": [
             [
              0,
              "#0d0887"
             ],
             [
              0.1111111111111111,
              "#46039f"
             ],
             [
              0.2222222222222222,
              "#7201a8"
             ],
             [
              0.3333333333333333,
              "#9c179e"
             ],
             [
              0.4444444444444444,
              "#bd3786"
             ],
             [
              0.5555555555555556,
              "#d8576b"
             ],
             [
              0.6666666666666666,
              "#ed7953"
             ],
             [
              0.7777777777777778,
              "#fb9f3a"
             ],
             [
              0.8888888888888888,
              "#fdca26"
             ],
             [
              1,
              "#f0f921"
             ]
            ],
            "type": "histogram2d"
           }
          ],
          "histogram2dcontour": [
           {
            "colorbar": {
             "outlinewidth": 0,
             "ticks": ""
            },
            "colorscale": [
             [
              0,
              "#0d0887"
             ],
             [
              0.1111111111111111,
              "#46039f"
             ],
             [
              0.2222222222222222,
              "#7201a8"
             ],
             [
              0.3333333333333333,
              "#9c179e"
             ],
             [
              0.4444444444444444,
              "#bd3786"
             ],
             [
              0.5555555555555556,
              "#d8576b"
             ],
             [
              0.6666666666666666,
              "#ed7953"
             ],
             [
              0.7777777777777778,
              "#fb9f3a"
             ],
             [
              0.8888888888888888,
              "#fdca26"
             ],
             [
              1,
              "#f0f921"
             ]
            ],
            "type": "histogram2dcontour"
           }
          ],
          "mesh3d": [
           {
            "colorbar": {
             "outlinewidth": 0,
             "ticks": ""
            },
            "type": "mesh3d"
           }
          ],
          "parcoords": [
           {
            "line": {
             "colorbar": {
              "outlinewidth": 0,
              "ticks": ""
             }
            },
            "type": "parcoords"
           }
          ],
          "pie": [
           {
            "automargin": true,
            "type": "pie"
           }
          ],
          "scatter": [
           {
            "fillpattern": {
             "fillmode": "overlay",
             "size": 10,
             "solidity": 0.2
            },
            "type": "scatter"
           }
          ],
          "scatter3d": [
           {
            "line": {
             "colorbar": {
              "outlinewidth": 0,
              "ticks": ""
             }
            },
            "marker": {
             "colorbar": {
              "outlinewidth": 0,
              "ticks": ""
             }
            },
            "type": "scatter3d"
           }
          ],
          "scattercarpet": [
           {
            "marker": {
             "colorbar": {
              "outlinewidth": 0,
              "ticks": ""
             }
            },
            "type": "scattercarpet"
           }
          ],
          "scattergeo": [
           {
            "marker": {
             "colorbar": {
              "outlinewidth": 0,
              "ticks": ""
             }
            },
            "type": "scattergeo"
           }
          ],
          "scattergl": [
           {
            "marker": {
             "colorbar": {
              "outlinewidth": 0,
              "ticks": ""
             }
            },
            "type": "scattergl"
           }
          ],
          "scattermapbox": [
           {
            "marker": {
             "colorbar": {
              "outlinewidth": 0,
              "ticks": ""
             }
            },
            "type": "scattermapbox"
           }
          ],
          "scatterpolar": [
           {
            "marker": {
             "colorbar": {
              "outlinewidth": 0,
              "ticks": ""
             }
            },
            "type": "scatterpolar"
           }
          ],
          "scatterpolargl": [
           {
            "marker": {
             "colorbar": {
              "outlinewidth": 0,
              "ticks": ""
             }
            },
            "type": "scatterpolargl"
           }
          ],
          "scatterternary": [
           {
            "marker": {
             "colorbar": {
              "outlinewidth": 0,
              "ticks": ""
             }
            },
            "type": "scatterternary"
           }
          ],
          "surface": [
           {
            "colorbar": {
             "outlinewidth": 0,
             "ticks": ""
            },
            "colorscale": [
             [
              0,
              "#0d0887"
             ],
             [
              0.1111111111111111,
              "#46039f"
             ],
             [
              0.2222222222222222,
              "#7201a8"
             ],
             [
              0.3333333333333333,
              "#9c179e"
             ],
             [
              0.4444444444444444,
              "#bd3786"
             ],
             [
              0.5555555555555556,
              "#d8576b"
             ],
             [
              0.6666666666666666,
              "#ed7953"
             ],
             [
              0.7777777777777778,
              "#fb9f3a"
             ],
             [
              0.8888888888888888,
              "#fdca26"
             ],
             [
              1,
              "#f0f921"
             ]
            ],
            "type": "surface"
           }
          ],
          "table": [
           {
            "cells": {
             "fill": {
              "color": "#EBF0F8"
             },
             "line": {
              "color": "white"
             }
            },
            "header": {
             "fill": {
              "color": "#C8D4E3"
             },
             "line": {
              "color": "white"
             }
            },
            "type": "table"
           }
          ]
         },
         "layout": {
          "annotationdefaults": {
           "arrowcolor": "#2a3f5f",
           "arrowhead": 0,
           "arrowwidth": 1
          },
          "autotypenumbers": "strict",
          "coloraxis": {
           "colorbar": {
            "outlinewidth": 0,
            "ticks": ""
           }
          },
          "colorscale": {
           "diverging": [
            [
             0,
             "#8e0152"
            ],
            [
             0.1,
             "#c51b7d"
            ],
            [
             0.2,
             "#de77ae"
            ],
            [
             0.3,
             "#f1b6da"
            ],
            [
             0.4,
             "#fde0ef"
            ],
            [
             0.5,
             "#f7f7f7"
            ],
            [
             0.6,
             "#e6f5d0"
            ],
            [
             0.7,
             "#b8e186"
            ],
            [
             0.8,
             "#7fbc41"
            ],
            [
             0.9,
             "#4d9221"
            ],
            [
             1,
             "#276419"
            ]
           ],
           "sequential": [
            [
             0,
             "#0d0887"
            ],
            [
             0.1111111111111111,
             "#46039f"
            ],
            [
             0.2222222222222222,
             "#7201a8"
            ],
            [
             0.3333333333333333,
             "#9c179e"
            ],
            [
             0.4444444444444444,
             "#bd3786"
            ],
            [
             0.5555555555555556,
             "#d8576b"
            ],
            [
             0.6666666666666666,
             "#ed7953"
            ],
            [
             0.7777777777777778,
             "#fb9f3a"
            ],
            [
             0.8888888888888888,
             "#fdca26"
            ],
            [
             1,
             "#f0f921"
            ]
           ],
           "sequentialminus": [
            [
             0,
             "#0d0887"
            ],
            [
             0.1111111111111111,
             "#46039f"
            ],
            [
             0.2222222222222222,
             "#7201a8"
            ],
            [
             0.3333333333333333,
             "#9c179e"
            ],
            [
             0.4444444444444444,
             "#bd3786"
            ],
            [
             0.5555555555555556,
             "#d8576b"
            ],
            [
             0.6666666666666666,
             "#ed7953"
            ],
            [
             0.7777777777777778,
             "#fb9f3a"
            ],
            [
             0.8888888888888888,
             "#fdca26"
            ],
            [
             1,
             "#f0f921"
            ]
           ]
          },
          "colorway": [
           "#636efa",
           "#EF553B",
           "#00cc96",
           "#ab63fa",
           "#FFA15A",
           "#19d3f3",
           "#FF6692",
           "#B6E880",
           "#FF97FF",
           "#FECB52"
          ],
          "font": {
           "color": "#2a3f5f"
          },
          "geo": {
           "bgcolor": "white",
           "lakecolor": "white",
           "landcolor": "#E5ECF6",
           "showlakes": true,
           "showland": true,
           "subunitcolor": "white"
          },
          "hoverlabel": {
           "align": "left"
          },
          "hovermode": "closest",
          "mapbox": {
           "style": "light"
          },
          "paper_bgcolor": "white",
          "plot_bgcolor": "#E5ECF6",
          "polar": {
           "angularaxis": {
            "gridcolor": "white",
            "linecolor": "white",
            "ticks": ""
           },
           "bgcolor": "#E5ECF6",
           "radialaxis": {
            "gridcolor": "white",
            "linecolor": "white",
            "ticks": ""
           }
          },
          "scene": {
           "xaxis": {
            "backgroundcolor": "#E5ECF6",
            "gridcolor": "white",
            "gridwidth": 2,
            "linecolor": "white",
            "showbackground": true,
            "ticks": "",
            "zerolinecolor": "white"
           },
           "yaxis": {
            "backgroundcolor": "#E5ECF6",
            "gridcolor": "white",
            "gridwidth": 2,
            "linecolor": "white",
            "showbackground": true,
            "ticks": "",
            "zerolinecolor": "white"
           },
           "zaxis": {
            "backgroundcolor": "#E5ECF6",
            "gridcolor": "white",
            "gridwidth": 2,
            "linecolor": "white",
            "showbackground": true,
            "ticks": "",
            "zerolinecolor": "white"
           }
          },
          "shapedefaults": {
           "line": {
            "color": "#2a3f5f"
           }
          },
          "ternary": {
           "aaxis": {
            "gridcolor": "white",
            "linecolor": "white",
            "ticks": ""
           },
           "baxis": {
            "gridcolor": "white",
            "linecolor": "white",
            "ticks": ""
           },
           "bgcolor": "#E5ECF6",
           "caxis": {
            "gridcolor": "white",
            "linecolor": "white",
            "ticks": ""
           }
          },
          "title": {
           "x": 0.05
          },
          "xaxis": {
           "automargin": true,
           "gridcolor": "white",
           "linecolor": "white",
           "ticks": "",
           "title": {
            "standoff": 15
           },
           "zerolinecolor": "white",
           "zerolinewidth": 2
          },
          "yaxis": {
           "automargin": true,
           "gridcolor": "white",
           "linecolor": "white",
           "ticks": "",
           "title": {
            "standoff": 15
           },
           "zerolinecolor": "white",
           "zerolinewidth": 2
          }
         }
        },
        "title": {
         "text": "Lifecycle Diagram of Attack Behavior in Document (Dofloo)"
        },
        "xaxis": {
         "title": {
          "text": "ASG Operation Pair (in steps)"
         }
        },
        "yaxis": {
         "title": {
          "text": "Malware Document"
         }
        }
       }
      }
     },
     "metadata": {},
     "output_type": "display_data"
    }
   ],
   "source": [
    "# import plotly.express as px\n",
    "import plotly.graph_objects as go\n",
    "\n",
    "def symmetric_difference(list1: list, list2: list) -> list:\n",
    "    ''' return list1 - list2. '''\n",
    "    s = set(list2)\n",
    "    temp3 = [x for x in list1 if x not in s]\n",
    "    return temp3\n",
    "\n",
    "def draw_lifecycle(fset:FamilySet):\n",
    "    familname = fset.familyname\n",
    "    # reportnames = [rem.reportname for rem in fset.rem_lst if len(rem.match_regex)]\n",
    "\n",
    "    fig = go.Figure()\n",
    "    x, y = [], []\n",
    "    x_sys, y_sys = [], []\n",
    "    for i, rem in enumerate(fset.rem_lst):\n",
    "        if len(rem.OPset_order_index) == 0:\n",
    "            continue\n",
    "\n",
    "        numOfDot = len(rem.OPset_order_index)\n",
    "        reportname = rem.reportname.split('.')[0]\n",
    "        reportname = reportname.split('-')[1]\n",
    "        if reportname == 'Ms':\n",
    "            reportname = 'Microsoft'\n",
    "        reportname += f' ({numOfDot})'\n",
    "        x_sys.extend(rem.SysOPset_order_index) # 改變系統設定檔的 OP\n",
    "        y_sys.extend([reportname] * len(rem.SysOPset_order_index))\n",
    "        current_x_normal = symmetric_difference(rem.OPset_order_index, rem.SysOPset_order_index) # 一般的/其餘的 OP\n",
    "        # print(reportname, 'numOfDot', numOfDot, 'rem.OPset_order_index', rem.OPset_order_index)\n",
    "        # print('x_normal', current_x_normal, 'x_sys', rem.SysOPset_order_index)\n",
    "        x.extend(current_x_normal)\n",
    "        y.extend([reportname] * len(current_x_normal))\n",
    "        pass\n",
    "    # todo: add baseline's lifecycle\n",
    "    print()\n",
    "    rowname = f'ASG ({len(fset.sample.OPset)})'\n",
    "    current_x_system = fset.sample.OPset_sysOnly_ordered_index\n",
    "    current_x_normal = symmetric_difference(list(range(len(fset.sample.OPset))), current_x_system) # all steps - sysobj steps\n",
    "    # print(sorted(current_x_system)) # 只能放UPDATE的，OPEN/READ不能喔\n",
    "    x_sys.extend(current_x_system)\n",
    "    y_sys.extend([rowname] * len(current_x_system)) \n",
    "    x.extend(current_x_normal)\n",
    "    y.extend([rowname] * len(current_x_normal))\n",
    "    # print(rowname, len(fset.sample.OPset), len(current_x_system), len(current_x_normal))\n",
    "    \n",
    "    # normal OPs\n",
    "    x = [idx+1 for idx in x] # add 1 to each asg index\n",
    "    fig.add_trace(go.Scatter(\n",
    "        x=x,\n",
    "        y=y,\n",
    "        marker=dict(color=\"darkorange\", size=12),\n",
    "        mode=\"markers\",\n",
    "        name=\"Normal Operation Pair\",\n",
    "    ))\n",
    "\n",
    "    # changeSysObj OPs\n",
    "    x_sys = x = [idx+1 for idx in x_sys]\n",
    "    fig.add_trace(go.Scatter(\n",
    "        x=x_sys,\n",
    "        y=y_sys,\n",
    "        marker=dict(color=\"blue\", size=12),\n",
    "        mode=\"markers\",\n",
    "        name=\"Change SR Operation Pair\",\n",
    "    ))\n",
    "\n",
    "    fig.update_layout(title=f\"Lifecycle Diagram of Attack Behavior in Document ({familname})\",\n",
    "                    xaxis_title=\"ASG Operation Pair (in steps)\",\n",
    "                    yaxis_title=\"Malware Document\")\n",
    "    fig.show()\n",
    "    pass\n",
    "\n",
    "draw_lifecycle(fset)"
   ]
  },
  {
   "cell_type": "code",
   "execution_count": 31,
   "metadata": {},
   "outputs": [],
   "source": [
    "# only these syscall will change system config files: ['write', 'rename', 'fchmod', 'chmod', 'lchmod']\n",
    "# operationEvaluator = OperationEvaluator()\n",
    "# print(operationEvaluator.update_syscall_list) \n",
    "# del operationEvaluator"
   ]
  },
  {
   "attachments": {},
   "cell_type": "markdown",
   "metadata": {},
   "source": [
    "### Run Script: draw ASG & CTD's OP graph\n",
    "- 完整的 ASG OPset graph\n",
    "- 每篇報告的 CTD OPset (完整和matched兩種)，以及對應部分的 ASG。"
   ]
  },
  {
   "cell_type": "code",
   "execution_count": 32,
   "metadata": {},
   "outputs": [
    {
     "data": {
      "text/plain": [
       "['b', 'c', 'd']"
      ]
     },
     "execution_count": 32,
     "metadata": {},
     "output_type": "execute_result"
    }
   ],
   "source": [
    "a = [1,2,3]\n",
    "b = ['a','b','c','d','e']\n",
    "[b[i] for i in a]"
   ]
  },
  {
   "cell_type": "code",
   "execution_count": 33,
   "metadata": {},
   "outputs": [
    {
     "data": {
      "image/svg+xml": [
       "<?xml version=\"1.0\" encoding=\"UTF-8\" standalone=\"no\"?>\n",
       "<!DOCTYPE svg PUBLIC \"-//W3C//DTD SVG 1.1//EN\"\n",
       " \"http://www.w3.org/Graphics/SVG/1.1/DTD/svg11.dtd\">\n",
       "<!-- Generated by graphviz version 6.0.1 (20220911.1526)\n",
       " -->\n",
       "<!-- Title: Dofloo_asg_OPset Pages: 1 -->\n",
       "<svg width=\"2973pt\" height=\"291pt\"\n",
       " viewBox=\"0.00 0.00 2972.85 291.00\" xmlns=\"http://www.w3.org/2000/svg\" xmlns:xlink=\"http://www.w3.org/1999/xlink\">\n",
       "<g id=\"graph0\" class=\"graph\" transform=\"scale(1 1) rotate(0) translate(4 287)\">\n",
       "<title>Dofloo_asg_OPset</title>\n",
       "<polygon fill=\"white\" stroke=\"none\" points=\"-4,4 -4,-287 2968.85,-287 2968.85,4 -4,4\"/>\n",
       "<!-- Start -->\n",
       "<g id=\"node1\" class=\"node\">\n",
       "<title>Start</title>\n",
       "<ellipse fill=\"none\" stroke=\"black\" cx=\"1535.85\" cy=\"-265\" rx=\"77.19\" ry=\"18\"/>\n",
       "<text text-anchor=\"middle\" x=\"1535.85\" y=\"-261.3\" font-family=\"Times New Roman,serif\" font-size=\"14.00\">Malware (Subject)</text>\n",
       "</g>\n",
       "<!-- 1 -->\n",
       "<g id=\"node2\" class=\"node\">\n",
       "<title>1</title>\n",
       "<ellipse fill=\"none\" stroke=\"black\" cx=\"31.85\" cy=\"-178\" rx=\"31.7\" ry=\"18\"/>\n",
       "<text text-anchor=\"middle\" x=\"31.85\" y=\"-174.3\" font-family=\"Times New Roman,serif\" font-size=\"14.00\">^sed$</text>\n",
       "</g>\n",
       "<!-- Start&#45;&gt;1 -->\n",
       "<g id=\"edge1\" class=\"edge\">\n",
       "<title>Start&#45;&gt;1</title>\n",
       "<path fill=\"none\" stroke=\"black\" d=\"M1458.56,-263.39C1157.23,-260.86 76.33,-250.31 47.85,-229 40.61,-223.58 36.58,-214.86 34.35,-206.2\"/>\n",
       "<polygon fill=\"black\" stroke=\"black\" points=\"37.78,-205.46 32.49,-196.27 30.9,-206.75 37.78,-205.46\"/>\n",
       "<text text-anchor=\"middle\" x=\"73.85\" y=\"-217.8\" font-family=\"Times New Roman,serif\" font-size=\"14.00\">11.exec()</text>\n",
       "</g>\n",
       "<!-- 2 -->\n",
       "<g id=\"node3\" class=\"node\">\n",
       "<title>2</title>\n",
       "<ellipse fill=\"none\" stroke=\"black\" cx=\"152.85\" cy=\"-178\" rx=\"37.89\" ry=\"18\"/>\n",
       "<text text-anchor=\"middle\" x=\"152.85\" y=\"-174.3\" font-family=\"Times New Roman,serif\" font-size=\"14.00\">^GID.*</text>\n",
       "</g>\n",
       "<!-- Start&#45;&gt;2 -->\n",
       "<g id=\"edge2\" class=\"edge\">\n",
       "<title>Start&#45;&gt;2</title>\n",
       "<path fill=\"none\" stroke=\"black\" d=\"M1458.74,-263.55C1165.04,-261.68 131.61,-253.36 107.85,-229 98.08,-218.99 107.3,-207.4 119.88,-197.9\"/>\n",
       "<polygon fill=\"black\" stroke=\"black\" points=\"122.21,-200.55 128.47,-192 118.24,-194.78 122.21,-200.55\"/>\n",
       "<text text-anchor=\"middle\" x=\"137.85\" y=\"-217.8\" font-family=\"Times New Roman,serif\" font-size=\"14.00\">9.getegid()</text>\n",
       "</g>\n",
       "<!-- Start&#45;&gt;2 -->\n",
       "<g id=\"edge3\" class=\"edge\">\n",
       "<title>Start&#45;&gt;2</title>\n",
       "<path fill=\"none\" stroke=\"black\" d=\"M1458.53,-263.83C1180.86,-262.99 247.43,-257.99 190.85,-229 180.41,-223.65 172.03,-213.96 165.82,-204.53\"/>\n",
       "<polygon fill=\"black\" stroke=\"black\" points=\"168.69,-202.5 160.55,-195.71 162.68,-206.09 168.69,-202.5\"/>\n",
       "<text text-anchor=\"middle\" x=\"217.85\" y=\"-217.8\" font-family=\"Times New Roman,serif\" font-size=\"14.00\">5.getgid()</text>\n",
       "</g>\n",
       "<!-- 3 -->\n",
       "<g id=\"node4\" class=\"node\">\n",
       "<title>3</title>\n",
       "<ellipse fill=\"none\" stroke=\"black\" cx=\"258.85\" cy=\"-91\" rx=\"50.89\" ry=\"18\"/>\n",
       "<text text-anchor=\"middle\" x=\"258.85\" y=\"-87.3\" font-family=\"Times New Roman,serif\" font-size=\"14.00\">Permission</text>\n",
       "</g>\n",
       "<!-- Start&#45;&gt;3 -->\n",
       "<g id=\"edge4\" class=\"edge\">\n",
       "<title>Start&#45;&gt;3</title>\n",
       "<path fill=\"none\" stroke=\"black\" d=\"M1458.17,-264.31C1192.28,-265.04 332.48,-264.62 285.85,-229 252.96,-203.88 251.93,-151.35 254.89,-119.13\"/>\n",
       "<polygon fill=\"black\" stroke=\"black\" points=\"258.38,-119.37 256.01,-109.05 251.43,-118.6 258.38,-119.37\"/>\n",
       "<text text-anchor=\"middle\" x=\"293.35\" y=\"-174.3\" font-family=\"Times New Roman,serif\" font-size=\"14.00\">15.umask()</text>\n",
       "</g>\n",
       "<!-- 4 -->\n",
       "<g id=\"node5\" class=\"node\">\n",
       "<title>4</title>\n",
       "<ellipse fill=\"none\" stroke=\"black\" cx=\"442.85\" cy=\"-178\" rx=\"94.78\" ry=\"18\"/>\n",
       "<text text-anchor=\"middle\" x=\"442.85\" y=\"-174.3\" font-family=\"Times New Roman,serif\" font-size=\"14.00\">/etc/sed[0&#45;9a&#45;zA&#45;Z]{6}</text>\n",
       "</g>\n",
       "<!-- Start&#45;&gt;4 -->\n",
       "<g id=\"edge5\" class=\"edge\">\n",
       "<title>Start&#45;&gt;4</title>\n",
       "<path fill=\"none\" stroke=\"black\" d=\"M1458.59,-263.26C1190.16,-260.52 313.23,-249.97 292.85,-229 288.2,-224.22 288.7,-219.22 292.85,-214 301.36,-203.27 327.07,-195.53 354.86,-190.09\"/>\n",
       "<polygon fill=\"black\" stroke=\"black\" points=\"355.55,-193.52 364.75,-188.27 354.28,-186.64 355.55,-193.52\"/>\n",
       "<text text-anchor=\"middle\" x=\"319.85\" y=\"-217.8\" font-family=\"Times New Roman,serif\" font-size=\"14.00\">19.write()</text>\n",
       "</g>\n",
       "<!-- Start&#45;&gt;4 -->\n",
       "<g id=\"edge6\" class=\"edge\">\n",
       "<title>Start&#45;&gt;4</title>\n",
       "<path fill=\"none\" stroke=\"black\" d=\"M1458.51,-263.11C1201.17,-259.98 388.83,-248.56 369.85,-229 358.28,-217.08 369.51,-206.31 386.35,-197.84\"/>\n",
       "<polygon fill=\"black\" stroke=\"black\" points=\"387.93,-200.97 395.57,-193.63 385.02,-194.6 387.93,-200.97\"/>\n",
       "<text text-anchor=\"middle\" x=\"395.35\" y=\"-217.8\" font-family=\"Times New Roman,serif\" font-size=\"14.00\">18.fstat()</text>\n",
       "</g>\n",
       "<!-- Start&#45;&gt;4 -->\n",
       "<g id=\"edge7\" class=\"edge\">\n",
       "<title>Start&#45;&gt;4</title>\n",
       "<path fill=\"none\" stroke=\"black\" d=\"M1458.49,-264.4C1215.18,-265.3 479.43,-265.01 443.85,-229 438.01,-223.09 436.4,-214.62 436.66,-206.33\"/>\n",
       "<polygon fill=\"black\" stroke=\"black\" points=\"440.17,-206.46 437.83,-196.12 433.22,-205.66 440.17,-206.46\"/>\n",
       "<text text-anchor=\"middle\" x=\"469.85\" y=\"-217.8\" font-family=\"Times New Roman,serif\" font-size=\"14.00\">17.fcntl()</text>\n",
       "</g>\n",
       "<!-- Start&#45;&gt;4 -->\n",
       "<g id=\"edge8\" class=\"edge\">\n",
       "<title>Start&#45;&gt;4</title>\n",
       "<path fill=\"none\" stroke=\"black\" d=\"M1458.49,-263.74C1236.46,-262.67 607.33,-257.16 518.85,-229 518.52,-228.9 496.66,-214.51 476.47,-201.19\"/>\n",
       "<polygon fill=\"black\" stroke=\"black\" points=\"478.26,-198.18 467.99,-195.6 474.41,-204.02 478.26,-198.18\"/>\n",
       "<text text-anchor=\"middle\" x=\"553.85\" y=\"-217.8\" font-family=\"Times New Roman,serif\" font-size=\"14.00\">21.fchmod()</text>\n",
       "</g>\n",
       "<!-- Start&#45;&gt;4 -->\n",
       "<g id=\"edge9\" class=\"edge\">\n",
       "<title>Start&#45;&gt;4</title>\n",
       "<path fill=\"none\" stroke=\"black\" d=\"M1458.43,-264.36C1268.71,-264.69 784.59,-262.16 626.85,-229 609.08,-225.26 606.16,-219.46 588.85,-214 564.92,-206.45 538.35,-199.63 514.5,-194.06\"/>\n",
       "<polygon fill=\"black\" stroke=\"black\" points=\"514.99,-190.58 504.46,-191.75 513.42,-197.4 514.99,-190.58\"/>\n",
       "<text text-anchor=\"middle\" x=\"661.35\" y=\"-217.8\" font-family=\"Times New Roman,serif\" font-size=\"14.00\">20.fchown()</text>\n",
       "</g>\n",
       "<!-- 5 -->\n",
       "<g id=\"node6\" class=\"node\">\n",
       "<title>5</title>\n",
       "<ellipse fill=\"none\" stroke=\"black\" cx=\"761.85\" cy=\"-178\" rx=\"27.1\" ry=\"18\"/>\n",
       "<text text-anchor=\"middle\" x=\"761.85\" y=\"-174.3\" font-family=\"Times New Roman,serif\" font-size=\"14.00\">^sh$</text>\n",
       "</g>\n",
       "<!-- Start&#45;&gt;5 -->\n",
       "<g id=\"edge10\" class=\"edge\">\n",
       "<title>Start&#45;&gt;5</title>\n",
       "<path fill=\"none\" stroke=\"black\" d=\"M1458.55,-263.61C1257.1,-262.21 729.72,-255.99 703.85,-229 690.9,-215.5 709.71,-201.73 729.28,-192.07\"/>\n",
       "<polygon fill=\"black\" stroke=\"black\" points=\"730.9,-195.18 738.51,-187.81 727.96,-188.82 730.9,-195.18\"/>\n",
       "<text text-anchor=\"middle\" x=\"734.35\" y=\"-217.8\" font-family=\"Times New Roman,serif\" font-size=\"14.00\">3.waitpid()</text>\n",
       "</g>\n",
       "<!-- Start&#45;&gt;5 -->\n",
       "<g id=\"edge11\" class=\"edge\">\n",
       "<title>Start&#45;&gt;5</title>\n",
       "<path fill=\"none\" stroke=\"black\" d=\"M1458.45,-263.84C1281.91,-262.96 860.22,-257.85 802.85,-229 791.79,-223.44 782.65,-213.4 775.83,-203.76\"/>\n",
       "<polygon fill=\"black\" stroke=\"black\" points=\"778.62,-201.63 770.23,-195.17 772.76,-205.46 778.62,-201.63\"/>\n",
       "<text text-anchor=\"middle\" x=\"827.85\" y=\"-217.8\" font-family=\"Times New Roman,serif\" font-size=\"14.00\">2.clone()</text>\n",
       "</g>\n",
       "<!-- 6 -->\n",
       "<g id=\"node7\" class=\"node\">\n",
       "<title>6</title>\n",
       "<ellipse fill=\"none\" stroke=\"black\" cx=\"884.85\" cy=\"-178\" rx=\"44.69\" ry=\"18\"/>\n",
       "<text text-anchor=\"middle\" x=\"884.85\" y=\"-174.3\" font-family=\"Times New Roman,serif\" font-size=\"14.00\">.*/selinux</text>\n",
       "</g>\n",
       "<!-- Start&#45;&gt;6 -->\n",
       "<g id=\"edge12\" class=\"edge\">\n",
       "<title>Start&#45;&gt;6</title>\n",
       "<path fill=\"none\" stroke=\"black\" d=\"M1458.9,-262.81C1286.19,-259.78 881.16,-250.39 860.85,-229 853.91,-221.7 856.65,-212.02 862.31,-203.12\"/>\n",
       "<polygon fill=\"black\" stroke=\"black\" points=\"865.25,-205.04 868.42,-194.93 859.63,-200.86 865.25,-205.04\"/>\n",
       "<text text-anchor=\"middle\" x=\"889.35\" y=\"-217.8\" font-family=\"Times New Roman,serif\" font-size=\"14.00\">12.statfs()</text>\n",
       "</g>\n",
       "<!-- Start&#45;&gt;6 -->\n",
       "<g id=\"edge13\" class=\"edge\">\n",
       "<title>Start&#45;&gt;6</title>\n",
       "<path fill=\"none\" stroke=\"black\" d=\"M1458.45,-264.75C1321.79,-265.18 1043.61,-261.82 952.85,-229 936.61,-223.13 920.92,-212.07 908.71,-201.85\"/>\n",
       "<polygon fill=\"black\" stroke=\"black\" points=\"910.68,-198.92 900.84,-194.97 906.07,-204.19 910.68,-198.92\"/>\n",
       "<text text-anchor=\"middle\" x=\"984.85\" y=\"-217.8\" font-family=\"Times New Roman,serif\" font-size=\"14.00\">13.access()</text>\n",
       "</g>\n",
       "<!-- 7 -->\n",
       "<g id=\"node8\" class=\"node\">\n",
       "<title>7</title>\n",
       "<ellipse fill=\"none\" stroke=\"black\" cx=\"1180.85\" cy=\"-178\" rx=\"59.59\" ry=\"18\"/>\n",
       "<text text-anchor=\"middle\" x=\"1180.85\" y=\"-174.3\" font-family=\"Times New Roman,serif\" font-size=\"14.00\">ip_addr+port</text>\n",
       "</g>\n",
       "<!-- Start&#45;&gt;7 -->\n",
       "<g id=\"edge14\" class=\"edge\">\n",
       "<title>Start&#45;&gt;7</title>\n",
       "<path fill=\"none\" stroke=\"black\" d=\"M1458.47,-264.34C1323.5,-264.12 1056.56,-259.76 1027.85,-229 998.83,-197.91 1058.39,-186.11 1111.46,-181.66\"/>\n",
       "<polygon fill=\"black\" stroke=\"black\" points=\"1111.91,-185.14 1121.62,-180.89 1111.38,-178.16 1111.91,-185.14\"/>\n",
       "<text text-anchor=\"middle\" x=\"1071.85\" y=\"-217.8\" font-family=\"Times New Roman,serif\" font-size=\"14.00\">29._newselect()</text>\n",
       "</g>\n",
       "<!-- Start&#45;&gt;7 -->\n",
       "<g id=\"edge15\" class=\"edge\">\n",
       "<title>Start&#45;&gt;7</title>\n",
       "<path fill=\"none\" stroke=\"black\" d=\"M1459.03,-262.69C1349.69,-260.03 1159.99,-252.09 1138.85,-229 1130.61,-220.01 1136.71,-209.74 1146.56,-200.86\"/>\n",
       "<polygon fill=\"black\" stroke=\"black\" points=\"1149.03,-203.37 1154.64,-194.39 1144.65,-197.91 1149.03,-203.37\"/>\n",
       "<text text-anchor=\"middle\" x=\"1170.85\" y=\"-217.8\" font-family=\"Times New Roman,serif\" font-size=\"14.00\">31.fstat64()</text>\n",
       "</g>\n",
       "<!-- Start&#45;&gt;7 -->\n",
       "<g id=\"edge16\" class=\"edge\">\n",
       "<title>Start&#45;&gt;7</title>\n",
       "<path fill=\"none\" stroke=\"black\" d=\"M1459.81,-261.56C1381.46,-257.97 1265.34,-249.32 1225.85,-229 1214.6,-223.21 1204.82,-213.38 1197.27,-203.95\"/>\n",
       "<polygon fill=\"black\" stroke=\"black\" points=\"1200.03,-201.8 1191.24,-195.89 1194.43,-205.99 1200.03,-201.8\"/>\n",
       "<text text-anchor=\"middle\" x=\"1261.35\" y=\"-217.8\" font-family=\"Times New Roman,serif\" font-size=\"14.00\">27.connect()</text>\n",
       "</g>\n",
       "<!-- Start&#45;&gt;7 -->\n",
       "<g id=\"edge17\" class=\"edge\">\n",
       "<title>Start&#45;&gt;7</title>\n",
       "<path fill=\"none\" stroke=\"black\" d=\"M1469.37,-255.67C1430.11,-249.93 1379.67,-241.14 1335.85,-229 1317.95,-224.04 1314.42,-220.02 1296.85,-214 1275.98,-206.85 1252.75,-199.69 1232.59,-193.72\"/>\n",
       "<polygon fill=\"black\" stroke=\"black\" points=\"1233.55,-190.35 1222.97,-190.89 1231.57,-197.07 1233.55,-190.35\"/>\n",
       "<text text-anchor=\"middle\" x=\"1369.85\" y=\"-217.8\" font-family=\"Times New Roman,serif\" font-size=\"14.00\">33.mmap2()</text>\n",
       "</g>\n",
       "<!-- 8 -->\n",
       "<g id=\"node9\" class=\"node\">\n",
       "<title>8</title>\n",
       "<ellipse fill=\"none\" stroke=\"black\" cx=\"1453.85\" cy=\"-178\" rx=\"45.49\" ry=\"18\"/>\n",
       "<text text-anchor=\"middle\" x=\"1453.85\" y=\"-174.3\" font-family=\"Times New Roman,serif\" font-size=\"14.00\">/proc/stat</text>\n",
       "</g>\n",
       "<!-- Start&#45;&gt;8 -->\n",
       "<g id=\"edge18\" class=\"edge\">\n",
       "<title>Start&#45;&gt;8</title>\n",
       "<path fill=\"none\" stroke=\"black\" d=\"M1474.41,-253.98C1446.99,-248.14 1419.02,-239.77 1410.85,-229 1403.16,-218.87 1410.24,-208.12 1420.71,-199.19\"/>\n",
       "<polygon fill=\"black\" stroke=\"black\" points=\"1422.94,-201.9 1428.78,-193.05 1418.7,-196.33 1422.94,-201.9\"/>\n",
       "<text text-anchor=\"middle\" x=\"1442.85\" y=\"-217.8\" font-family=\"Times New Roman,serif\" font-size=\"14.00\">38.fstat64()</text>\n",
       "</g>\n",
       "<!-- Start&#45;&gt;8 -->\n",
       "<g id=\"edge19\" class=\"edge\">\n",
       "<title>Start&#45;&gt;8</title>\n",
       "<path fill=\"none\" stroke=\"black\" d=\"M1516.92,-247.29C1510.71,-241.62 1503.87,-235.16 1497.85,-229 1489.88,-220.85 1481.53,-211.57 1474.27,-203.24\"/>\n",
       "<polygon fill=\"black\" stroke=\"black\" points=\"1476.87,-200.89 1467.69,-195.6 1471.57,-205.46 1476.87,-200.89\"/>\n",
       "<text text-anchor=\"middle\" x=\"1525.35\" y=\"-217.8\" font-family=\"Times New Roman,serif\" font-size=\"14.00\">37.open()</text>\n",
       "</g>\n",
       "<!-- 9 -->\n",
       "<g id=\"node10\" class=\"node\">\n",
       "<title>9</title>\n",
       "<ellipse fill=\"none\" stroke=\"black\" cx=\"1617.85\" cy=\"-178\" rx=\"36.29\" ry=\"18\"/>\n",
       "<text text-anchor=\"middle\" x=\"1617.85\" y=\"-174.3\" font-family=\"Times New Roman,serif\" font-size=\"14.00\">^PID.*</text>\n",
       "</g>\n",
       "<!-- Start&#45;&gt;9 -->\n",
       "<g id=\"edge20\" class=\"edge\">\n",
       "<title>Start&#45;&gt;9</title>\n",
       "<path fill=\"none\" stroke=\"black\" d=\"M1548.03,-247.09C1555.57,-237.05 1565.73,-224.32 1575.85,-214 1580.47,-209.28 1585.68,-204.55 1590.82,-200.15\"/>\n",
       "<polygon fill=\"black\" stroke=\"black\" points=\"1593.29,-202.65 1598.74,-193.57 1588.81,-197.27 1593.29,-202.65\"/>\n",
       "<text text-anchor=\"middle\" x=\"1606.85\" y=\"-217.8\" font-family=\"Times New Roman,serif\" font-size=\"14.00\">8.getppid()</text>\n",
       "</g>\n",
       "<!-- Start&#45;&gt;9 -->\n",
       "<g id=\"edge21\" class=\"edge\">\n",
       "<title>Start&#45;&gt;9</title>\n",
       "<path fill=\"none\" stroke=\"black\" d=\"M1600.26,-254.98C1614.92,-249.77 1628.82,-241.65 1637.85,-229 1643.27,-221.4 1641.42,-212.12 1637.14,-203.63\"/>\n",
       "<polygon fill=\"black\" stroke=\"black\" points=\"1639.98,-201.55 1631.78,-194.84 1634,-205.2 1639.98,-201.55\"/>\n",
       "<text text-anchor=\"middle\" x=\"1669.35\" y=\"-217.8\" font-family=\"Times New Roman,serif\" font-size=\"14.00\">6.getpid()</text>\n",
       "</g>\n",
       "<!-- 10 -->\n",
       "<g id=\"node11\" class=\"node\">\n",
       "<title>10</title>\n",
       "<ellipse fill=\"none\" stroke=\"black\" cx=\"1729.85\" cy=\"-18\" rx=\"64.19\" ry=\"18\"/>\n",
       "<text text-anchor=\"middle\" x=\"1729.85\" y=\"-14.3\" font-family=\"Times New Roman,serif\" font-size=\"14.00\">/sys/devices/.*</text>\n",
       "</g>\n",
       "<!-- Start&#45;&gt;10 -->\n",
       "<g id=\"edge22\" class=\"edge\">\n",
       "<title>Start&#45;&gt;10</title>\n",
       "<path fill=\"none\" stroke=\"black\" d=\"M1605.66,-257.22C1644.55,-251.94 1687.73,-243.09 1700.85,-229 1747.52,-178.85 1741.65,-90.59 1734.97,-46.17\"/>\n",
       "<polygon fill=\"black\" stroke=\"black\" points=\"1738.4,-45.43 1733.33,-36.12 1731.49,-46.55 1738.4,-45.43\"/>\n",
       "<text text-anchor=\"middle\" x=\"1766.35\" y=\"-130.8\" font-family=\"Times New Roman,serif\" font-size=\"14.00\">36.open()</text>\n",
       "</g>\n",
       "<!-- 11 -->\n",
       "<g id=\"node12\" class=\"node\">\n",
       "<title>11</title>\n",
       "<ellipse fill=\"none\" stroke=\"black\" cx=\"1816.85\" cy=\"-178\" rx=\"37.09\" ry=\"18\"/>\n",
       "<text text-anchor=\"middle\" x=\"1816.85\" y=\"-174.3\" font-family=\"Times New Roman,serif\" font-size=\"14.00\">^UID.*</text>\n",
       "</g>\n",
       "<!-- Start&#45;&gt;11 -->\n",
       "<g id=\"edge23\" class=\"edge\">\n",
       "<title>Start&#45;&gt;11</title>\n",
       "<path fill=\"none\" stroke=\"black\" d=\"M1608.97,-258.89C1649,-254.28 1698.86,-245.55 1740.85,-229 1741.52,-228.74 1766.11,-212.53 1787.14,-198.64\"/>\n",
       "<polygon fill=\"black\" stroke=\"black\" points=\"1789.14,-201.52 1795.55,-193.08 1785.28,-195.68 1789.14,-201.52\"/>\n",
       "<text text-anchor=\"middle\" x=\"1790.85\" y=\"-217.8\" font-family=\"Times New Roman,serif\" font-size=\"14.00\">4.getuid()</text>\n",
       "</g>\n",
       "<!-- Start&#45;&gt;11 -->\n",
       "<g id=\"edge24\" class=\"edge\">\n",
       "<title>Start&#45;&gt;11</title>\n",
       "<path fill=\"none\" stroke=\"black\" d=\"M1610.16,-259.8C1689.05,-254.57 1804.25,-244.39 1817.85,-229 1823.34,-222.78 1824.6,-214.23 1824.01,-205.96\"/>\n",
       "<polygon fill=\"black\" stroke=\"black\" points=\"1827.43,-205.18 1822.45,-195.83 1820.51,-206.24 1827.43,-205.18\"/>\n",
       "<text text-anchor=\"middle\" x=\"1853.85\" y=\"-217.8\" font-family=\"Times New Roman,serif\" font-size=\"14.00\">7.geteuid()</text>\n",
       "</g>\n",
       "<!-- 12 -->\n",
       "<g id=\"node13\" class=\"node\">\n",
       "<title>12</title>\n",
       "<ellipse fill=\"none\" stroke=\"black\" cx=\"2059.85\" cy=\"-178\" rx=\"38.99\" ry=\"18\"/>\n",
       "<text text-anchor=\"middle\" x=\"2059.85\" y=\"-174.3\" font-family=\"Times New Roman,serif\" font-size=\"14.00\">ip_addr</text>\n",
       "</g>\n",
       "<!-- Start&#45;&gt;12 -->\n",
       "<g id=\"edge25\" class=\"edge\">\n",
       "<title>Start&#45;&gt;12</title>\n",
       "<path fill=\"none\" stroke=\"black\" d=\"M1612.84,-262.86C1684.91,-260.27 1795.1,-252.38 1887.85,-229 1904.65,-224.76 1907.41,-219.51 1923.85,-214 1953.98,-203.9 1988.69,-195.01 2015.5,-188.72\"/>\n",
       "<polygon fill=\"black\" stroke=\"black\" points=\"2016.4,-192.1 2025.36,-186.44 2014.83,-185.28 2016.4,-192.1\"/>\n",
       "<text text-anchor=\"middle\" x=\"1959.35\" y=\"-217.8\" font-family=\"Times New Roman,serif\" font-size=\"14.00\">26.connect()</text>\n",
       "</g>\n",
       "<!-- Start&#45;&gt;12 -->\n",
       "<g id=\"edge26\" class=\"edge\">\n",
       "<title>Start&#45;&gt;12</title>\n",
       "<path fill=\"none\" stroke=\"black\" d=\"M1613.1,-263.42C1725.27,-261.68 1927.22,-254.91 1994.85,-229 1999.38,-227.26 2017.5,-213.21 2033.46,-200.45\"/>\n",
       "<polygon fill=\"black\" stroke=\"black\" points=\"2035.92,-202.95 2041.52,-193.96 2031.54,-197.5 2035.92,-202.95\"/>\n",
       "<text text-anchor=\"middle\" x=\"2050.85\" y=\"-217.8\" font-family=\"Times New Roman,serif\" font-size=\"14.00\">32.mmap2()</text>\n",
       "</g>\n",
       "<!-- Start&#45;&gt;12 -->\n",
       "<g id=\"edge27\" class=\"edge\">\n",
       "<title>Start&#45;&gt;12</title>\n",
       "<path fill=\"none\" stroke=\"black\" d=\"M1613.36,-264.8C1757.31,-265.47 2054.24,-262.69 2085.85,-229 2093.02,-221.35 2089.63,-211.34 2083.26,-202.29\"/>\n",
       "<polygon fill=\"black\" stroke=\"black\" points=\"2085.82,-199.89 2076.8,-194.34 2080.39,-204.31 2085.82,-199.89\"/>\n",
       "<text text-anchor=\"middle\" x=\"2134.85\" y=\"-217.8\" font-family=\"Times New Roman,serif\" font-size=\"14.00\">28._newselect()</text>\n",
       "</g>\n",
       "<!-- Start&#45;&gt;12 -->\n",
       "<g id=\"edge28\" class=\"edge\">\n",
       "<title>Start&#45;&gt;12</title>\n",
       "<path fill=\"none\" stroke=\"black\" d=\"M1612.72,-262.63C1779.97,-259.28 2163.52,-249.4 2182.85,-229 2187.43,-224.16 2186.86,-219.32 2182.85,-214 2173.44,-201.54 2137.26,-192.21 2106.56,-186.33\"/>\n",
       "<polygon fill=\"black\" stroke=\"black\" points=\"2106.87,-182.83 2096.4,-184.47 2105.61,-189.71 2106.87,-182.83\"/>\n",
       "<text text-anchor=\"middle\" x=\"2218.85\" y=\"-217.8\" font-family=\"Times New Roman,serif\" font-size=\"14.00\">30.fstat64()</text>\n",
       "</g>\n",
       "<!-- 13 -->\n",
       "<g id=\"node14\" class=\"node\">\n",
       "<title>13</title>\n",
       "<ellipse fill=\"none\" stroke=\"black\" cx=\"2216.85\" cy=\"-178\" rx=\"57.39\" ry=\"18\"/>\n",
       "<text text-anchor=\"middle\" x=\"2216.85\" y=\"-174.3\" font-family=\"Times New Roman,serif\" font-size=\"14.00\">/etc/rc.*.d/.*</text>\n",
       "</g>\n",
       "<!-- Start&#45;&gt;13 -->\n",
       "<g id=\"edge29\" class=\"edge\">\n",
       "<title>Start&#45;&gt;13</title>\n",
       "<path fill=\"none\" stroke=\"black\" d=\"M1613.06,-263.07C1794.22,-260.51 2232.99,-251.95 2254.85,-229 2262.92,-220.53 2257.54,-210.37 2248.58,-201.43\"/>\n",
       "<polygon fill=\"black\" stroke=\"black\" points=\"2250.62,-198.57 2240.81,-194.58 2245.99,-203.82 2250.62,-198.57\"/>\n",
       "<text text-anchor=\"middle\" x=\"2286.35\" y=\"-217.8\" font-family=\"Times New Roman,serif\" font-size=\"14.00\">23.open()</text>\n",
       "</g>\n",
       "<!-- 14 -->\n",
       "<g id=\"node15\" class=\"node\">\n",
       "<title>14</title>\n",
       "<ellipse fill=\"none\" stroke=\"black\" cx=\"2309.85\" cy=\"-91\" rx=\"61.99\" ry=\"18\"/>\n",
       "<text text-anchor=\"middle\" x=\"2309.85\" y=\"-87.3\" font-family=\"Times New Roman,serif\" font-size=\"14.00\">permission_id</text>\n",
       "</g>\n",
       "<!-- Start&#45;&gt;14 -->\n",
       "<g id=\"edge30\" class=\"edge\">\n",
       "<title>Start&#45;&gt;14</title>\n",
       "<path fill=\"none\" stroke=\"black\" d=\"M1613.02,-263.39C1805.61,-261.49 2293.75,-254.2 2317.85,-229 2325.23,-221.28 2318.35,-157.17 2313.56,-119.45\"/>\n",
       "<polygon fill=\"black\" stroke=\"black\" points=\"2316.98,-118.59 2312.22,-109.13 2310.04,-119.49 2316.98,-118.59\"/>\n",
       "<text text-anchor=\"middle\" x=\"2352.35\" y=\"-174.3\" font-family=\"Times New Roman,serif\" font-size=\"14.00\">16.umask()</text>\n",
       "</g>\n",
       "<!-- 15 -->\n",
       "<g id=\"node16\" class=\"node\">\n",
       "<title>15</title>\n",
       "<ellipse fill=\"none\" stroke=\"black\" cx=\"2400.85\" cy=\"-18\" rx=\"46.29\" ry=\"18\"/>\n",
       "<text text-anchor=\"middle\" x=\"2400.85\" y=\"-14.3\" font-family=\"Times New Roman,serif\" font-size=\"14.00\">/.*bin/sed</text>\n",
       "</g>\n",
       "<!-- Start&#45;&gt;15 -->\n",
       "<g id=\"edge31\" class=\"edge\">\n",
       "<title>Start&#45;&gt;15</title>\n",
       "<path fill=\"none\" stroke=\"black\" d=\"M1612.88,-262.84C1799.66,-259.73 2266.29,-249.93 2333.85,-229 2360.35,-220.79 2372.43,-219.71 2386.85,-196 2415.13,-149.5 2411.06,-82.94 2405.81,-46.11\"/>\n",
       "<polygon fill=\"black\" stroke=\"black\" points=\"2409.25,-45.47 2404.25,-36.13 2402.33,-46.55 2409.25,-45.47\"/>\n",
       "<text text-anchor=\"middle\" x=\"2431.85\" y=\"-130.8\" font-family=\"Times New Roman,serif\" font-size=\"14.00\">10.stat()</text>\n",
       "</g>\n",
       "<!-- 16 -->\n",
       "<g id=\"node17\" class=\"node\">\n",
       "<title>16</title>\n",
       "<ellipse fill=\"none\" stroke=\"black\" cx=\"2473.85\" cy=\"-178\" rx=\"45.49\" ry=\"18\"/>\n",
       "<text text-anchor=\"middle\" x=\"2473.85\" y=\"-174.3\" font-family=\"Times New Roman,serif\" font-size=\"14.00\">/proc/self</text>\n",
       "</g>\n",
       "<!-- Start&#45;&gt;16 -->\n",
       "<g id=\"edge32\" class=\"edge\">\n",
       "<title>Start&#45;&gt;16</title>\n",
       "<path fill=\"none\" stroke=\"black\" d=\"M1613.19,-263.68C1813.41,-262.46 2338.29,-256.63 2411.85,-229 2420.13,-225.89 2435.61,-213.41 2449.03,-201.69\"/>\n",
       "<polygon fill=\"black\" stroke=\"black\" points=\"2451.46,-204.21 2456.62,-194.96 2446.82,-198.98 2451.46,-204.21\"/>\n",
       "<text text-anchor=\"middle\" x=\"2466.85\" y=\"-217.8\" font-family=\"Times New Roman,serif\" font-size=\"14.00\">1.readlink()</text>\n",
       "</g>\n",
       "<!-- 17 -->\n",
       "<g id=\"node18\" class=\"node\">\n",
       "<title>17</title>\n",
       "<ellipse fill=\"none\" stroke=\"black\" cx=\"2591.85\" cy=\"-178\" rx=\"53.09\" ry=\"18\"/>\n",
       "<text text-anchor=\"middle\" x=\"2591.85\" y=\"-174.3\" font-family=\"Times New Roman,serif\" font-size=\"14.00\">/etc/rc.local</text>\n",
       "</g>\n",
       "<!-- Start&#45;&gt;17 -->\n",
       "<g id=\"edge33\" class=\"edge\">\n",
       "<title>Start&#45;&gt;17</title>\n",
       "<path fill=\"none\" stroke=\"black\" d=\"M1613.26,-263.56C1827.1,-262.02 2415.57,-255.41 2498.85,-229 2510.48,-225.31 2511.26,-220.07 2521.85,-214 2531.68,-208.36 2542.54,-202.68 2552.72,-197.58\"/>\n",
       "<polygon fill=\"black\" stroke=\"black\" points=\"2554.41,-200.65 2561.82,-193.08 2551.3,-194.37 2554.41,-200.65\"/>\n",
       "<text text-anchor=\"middle\" x=\"2555.35\" y=\"-217.8\" font-family=\"Times New Roman,serif\" font-size=\"14.00\">22.rename()</text>\n",
       "</g>\n",
       "<!-- Start&#45;&gt;17 -->\n",
       "<g id=\"edge34\" class=\"edge\">\n",
       "<title>Start&#45;&gt;17</title>\n",
       "<path fill=\"none\" stroke=\"black\" d=\"M1613.29,-264.25C1850.64,-264.64 2554.02,-262.91 2588.85,-229 2594.81,-223.2 2596.73,-214.76 2596.81,-206.45\"/>\n",
       "<polygon fill=\"black\" stroke=\"black\" points=\"2600.28,-205.95 2596.07,-196.22 2593.3,-206.45 2600.28,-205.95\"/>\n",
       "<text text-anchor=\"middle\" x=\"2624.35\" y=\"-217.8\" font-family=\"Times New Roman,serif\" font-size=\"14.00\">14.open()</text>\n",
       "</g>\n",
       "<!-- 18 -->\n",
       "<g id=\"node19\" class=\"node\">\n",
       "<title>18</title>\n",
       "<ellipse fill=\"none\" stroke=\"black\" cx=\"2680.85\" cy=\"-91\" rx=\"53.89\" ry=\"18\"/>\n",
       "<text text-anchor=\"middle\" x=\"2680.85\" y=\"-87.3\" font-family=\"Times New Roman,serif\" font-size=\"14.00\">/etc/init.d/.*</text>\n",
       "</g>\n",
       "<!-- Start&#45;&gt;18 -->\n",
       "<g id=\"edge35\" class=\"edge\">\n",
       "<title>Start&#45;&gt;18</title>\n",
       "<path fill=\"none\" stroke=\"black\" d=\"M1613.21,-264.22C1860.26,-264.6 2616.41,-262.95 2655.85,-229 2686.83,-202.33 2687.79,-151.14 2684.87,-119.44\"/>\n",
       "<polygon fill=\"black\" stroke=\"black\" points=\"2688.31,-118.66 2683.72,-109.11 2681.35,-119.44 2688.31,-118.66\"/>\n",
       "<text text-anchor=\"middle\" x=\"2713.35\" y=\"-174.3\" font-family=\"Times New Roman,serif\" font-size=\"14.00\">24.open()</text>\n",
       "</g>\n",
       "<!-- 19 -->\n",
       "<g id=\"node20\" class=\"node\">\n",
       "<title>19</title>\n",
       "<ellipse fill=\"none\" stroke=\"black\" cx=\"2812.85\" cy=\"-178\" rx=\"59.29\" ry=\"18\"/>\n",
       "<text text-anchor=\"middle\" x=\"2812.85\" y=\"-174.3\" font-family=\"Times New Roman,serif\" font-size=\"14.00\">/proc/net/dev</text>\n",
       "</g>\n",
       "<!-- Start&#45;&gt;19 -->\n",
       "<g id=\"edge36\" class=\"edge\">\n",
       "<title>Start&#45;&gt;19</title>\n",
       "<path fill=\"none\" stroke=\"black\" d=\"M1613.25,-263.34C1855.62,-261.02 2590.05,-252.16 2694.85,-229 2711.37,-225.35 2714.27,-220.62 2729.85,-214 2743.05,-208.39 2757.45,-202.3 2770.49,-196.81\"/>\n",
       "<polygon fill=\"black\" stroke=\"black\" points=\"2771.85,-200.03 2779.71,-192.92 2769.14,-193.58 2771.85,-200.03\"/>\n",
       "<text text-anchor=\"middle\" x=\"2757.35\" y=\"-217.8\" font-family=\"Times New Roman,serif\" font-size=\"14.00\">35.lseek()</text>\n",
       "</g>\n",
       "<!-- Start&#45;&gt;19 -->\n",
       "<g id=\"edge37\" class=\"edge\">\n",
       "<title>Start&#45;&gt;19</title>\n",
       "<path fill=\"none\" stroke=\"black\" d=\"M1613.21,-263.93C1878.03,-263.4 2734.68,-259.36 2784.85,-229 2793.69,-223.65 2799.97,-214.4 2804.31,-205.31\"/>\n",
       "<polygon fill=\"black\" stroke=\"black\" points=\"2807.55,-206.63 2808.15,-196.05 2801.08,-203.95 2807.55,-206.63\"/>\n",
       "<text text-anchor=\"middle\" x=\"2827.35\" y=\"-217.8\" font-family=\"Times New Roman,serif\" font-size=\"14.00\">34.open()</text>\n",
       "</g>\n",
       "<!-- 20 -->\n",
       "<g id=\"node21\" class=\"node\">\n",
       "<title>20</title>\n",
       "<ellipse fill=\"none\" stroke=\"black\" cx=\"2899.85\" cy=\"-18\" rx=\"61.19\" ry=\"18\"/>\n",
       "<text text-anchor=\"middle\" x=\"2899.85\" y=\"-14.3\" font-family=\"Times New Roman,serif\" font-size=\"14.00\">/dev/urandom</text>\n",
       "</g>\n",
       "<!-- Start&#45;&gt;20 -->\n",
       "<g id=\"edge38\" class=\"edge\">\n",
       "<title>Start&#45;&gt;20</title>\n",
       "<path fill=\"none\" stroke=\"black\" d=\"M1613.38,-263.91C1888.46,-263.34 2804.2,-259.18 2858.85,-229 2920.97,-194.69 2913.2,-94.63 2905.27,-46.07\"/>\n",
       "<polygon fill=\"black\" stroke=\"black\" points=\"2908.67,-45.23 2903.49,-35.98 2901.78,-46.44 2908.67,-45.23\"/>\n",
       "<text text-anchor=\"middle\" x=\"2937.35\" y=\"-130.8\" font-family=\"Times New Roman,serif\" font-size=\"14.00\">25.open()</text>\n",
       "</g>\n",
       "</g>\n",
       "</svg>\n"
      ],
      "text/plain": [
       "<graphviz.sources.Source at 0x22a35394130>"
      ]
     },
     "metadata": {},
     "output_type": "display_data"
    },
    {
     "name": "stdout",
     "output_type": "stream",
     "text": [
      "Dofloo-MalwareMustDie.csv raw doc OPset\n"
     ]
    },
    {
     "data": {
      "image/svg+xml": [
       "<?xml version=\"1.0\" encoding=\"UTF-8\" standalone=\"no\"?>\n",
       "<!DOCTYPE svg PUBLIC \"-//W3C//DTD SVG 1.1//EN\"\n",
       " \"http://www.w3.org/Graphics/SVG/1.1/DTD/svg11.dtd\">\n",
       "<!-- Generated by graphviz version 6.0.1 (20220911.1526)\n",
       " -->\n",
       "<!-- Pages: 1 -->\n",
       "<svg width=\"764pt\" height=\"131pt\"\n",
       " viewBox=\"0.00 0.00 763.82 131.00\" xmlns=\"http://www.w3.org/2000/svg\" xmlns:xlink=\"http://www.w3.org/1999/xlink\">\n",
       "<g id=\"graph0\" class=\"graph\" transform=\"scale(1 1) rotate(0) translate(4 127)\">\n",
       "<polygon fill=\"white\" stroke=\"none\" points=\"-4,4 -4,-127 759.82,-127 759.82,4 -4,4\"/>\n",
       "<!-- Start -->\n",
       "<g id=\"node1\" class=\"node\">\n",
       "<title>Start</title>\n",
       "<ellipse fill=\"none\" stroke=\"black\" cx=\"318.32\" cy=\"-105\" rx=\"77.19\" ry=\"18\"/>\n",
       "<text text-anchor=\"middle\" x=\"318.32\" y=\"-101.3\" font-family=\"Times New Roman,serif\" font-size=\"14.00\">Malware (Subject)</text>\n",
       "</g>\n",
       "<!-- 1 -->\n",
       "<g id=\"node2\" class=\"node\">\n",
       "<title>1</title>\n",
       "<ellipse fill=\"none\" stroke=\"black\" cx=\"260.32\" cy=\"-18\" rx=\"50.09\" ry=\"18\"/>\n",
       "<text text-anchor=\"middle\" x=\"260.32\" y=\"-14.3\" font-family=\"Times New Roman,serif\" font-size=\"14.00\">mem_addr</text>\n",
       "</g>\n",
       "<!-- Start&#45;&gt;1 -->\n",
       "<g id=\"edge1\" class=\"edge\">\n",
       "<title>Start&#45;&gt;1</title>\n",
       "<path fill=\"none\" stroke=\"black\" d=\"M242.77,-100.8C154.68,-96.28 19.03,-86.55 3.32,-69 -1.13,-64.03 -1.07,-59.02 3.32,-54 28.32,-25.36 132.12,-19.28 199.92,-18.45\"/>\n",
       "<polygon fill=\"black\" stroke=\"black\" points=\"200.09,-21.95 210.06,-18.36 200.03,-14.95 200.09,-21.95\"/>\n",
       "<text text-anchor=\"middle\" x=\"19.82\" y=\"-57.8\" font-family=\"Times New Roman,serif\" font-size=\"14.00\">6.find</text>\n",
       "</g>\n",
       "<!-- Start&#45;&gt;1 -->\n",
       "<g id=\"edge2\" class=\"edge\">\n",
       "<title>Start&#45;&gt;1</title>\n",
       "<path fill=\"none\" stroke=\"black\" d=\"M240.97,-104.34C173.4,-102.79 82.57,-95.61 59.32,-69 54.93,-63.98 55.03,-59.1 59.32,-54 77.11,-32.84 147.94,-24.47 200.5,-21.16\"/>\n",
       "<polygon fill=\"black\" stroke=\"black\" points=\"200.97,-24.64 210.75,-20.57 200.57,-17.65 200.97,-24.64\"/>\n",
       "<text text-anchor=\"middle\" x=\"82.32\" y=\"-57.8\" font-family=\"Times New Roman,serif\" font-size=\"14.00\">9.eserve</text>\n",
       "</g>\n",
       "<!-- Start&#45;&gt;1 -->\n",
       "<g id=\"edge3\" class=\"edge\">\n",
       "<title>Start&#45;&gt;1</title>\n",
       "<path fill=\"none\" stroke=\"black\" d=\"M244.12,-99.91C197.38,-95.6 143.15,-86.82 128.32,-69 104.48,-40.37 155.49,-28.11 200.87,-22.88\"/>\n",
       "<polygon fill=\"black\" stroke=\"black\" points=\"201.45,-26.34 211.03,-21.81 200.72,-19.37 201.45,-26.34\"/>\n",
       "<text text-anchor=\"middle\" x=\"144.32\" y=\"-57.8\" font-family=\"Times New Roman,serif\" font-size=\"14.00\">3.add</text>\n",
       "</g>\n",
       "<!-- Start&#45;&gt;1 -->\n",
       "<g id=\"edge5\" class=\"edge\">\n",
       "<title>Start&#45;&gt;1</title>\n",
       "<path fill=\"none\" stroke=\"black\" d=\"M253.88,-94.94C223.7,-89.25 192.39,-80.73 183.32,-69 171.07,-53.17 189.36,-40.84 211.18,-32.39\"/>\n",
       "<polygon fill=\"black\" stroke=\"black\" points=\"212.43,-35.66 220.67,-29 210.07,-29.07 212.43,-35.66\"/>\n",
       "<text text-anchor=\"middle\" x=\"195.82\" y=\"-57.8\" font-family=\"Times New Roman,serif\" font-size=\"14.00\">2.be</text>\n",
       "</g>\n",
       "<!-- Start&#45;&gt;1 -->\n",
       "<g id=\"edge6\" class=\"edge\">\n",
       "<title>Start&#45;&gt;1</title>\n",
       "<path fill=\"none\" stroke=\"black\" d=\"M261.84,-92.42C249.84,-87.26 238.61,-79.79 231.32,-69 225.7,-60.68 228.9,-51.23 234.88,-42.8\"/>\n",
       "<polygon fill=\"black\" stroke=\"black\" points=\"237.58,-45.03 241.28,-35.1 232.2,-40.56 237.58,-45.03\"/>\n",
       "<text text-anchor=\"middle\" x=\"250.32\" y=\"-57.8\" font-family=\"Times New Roman,serif\" font-size=\"14.00\">8.pack</text>\n",
       "</g>\n",
       "<!-- Start&#45;&gt;1 -->\n",
       "<g id=\"edge7\" class=\"edge\">\n",
       "<title>Start&#45;&gt;1</title>\n",
       "<path fill=\"none\" stroke=\"black\" d=\"M305.38,-87.08C301.14,-81.4 296.45,-74.98 292.32,-69 286.87,-61.11 281.16,-52.36 276.1,-44.4\"/>\n",
       "<polygon fill=\"black\" stroke=\"black\" points=\"279,-42.44 270.7,-35.86 273.08,-46.18 279,-42.44\"/>\n",
       "<text text-anchor=\"middle\" x=\"308.32\" y=\"-57.8\" font-family=\"Times New Roman,serif\" font-size=\"14.00\">10.go</text>\n",
       "</g>\n",
       "<!-- Start&#45;&gt;1 -->\n",
       "<g id=\"edge8\" class=\"edge\">\n",
       "<title>Start&#45;&gt;1</title>\n",
       "<path fill=\"none\" stroke=\"black\" d=\"M325.46,-86.69C328.48,-76.52 330.12,-63.78 324.32,-54 319.82,-46.41 313.02,-40.35 305.51,-35.56\"/>\n",
       "<polygon fill=\"black\" stroke=\"black\" points=\"306.9,-32.33 296.47,-30.5 303.49,-38.44 306.9,-32.33\"/>\n",
       "<text text-anchor=\"middle\" x=\"343.82\" y=\"-57.8\" font-family=\"Times New Roman,serif\" font-size=\"14.00\">5.svc</text>\n",
       "</g>\n",
       "<!-- Start&#45;&gt;1 -->\n",
       "<g id=\"edge9\" class=\"edge\">\n",
       "<title>Start&#45;&gt;1</title>\n",
       "<path fill=\"none\" stroke=\"black\" d=\"M347.35,-88.11C360.77,-78.65 372.02,-66.15 363.32,-54 352.79,-39.3 335.74,-30.71 318.51,-25.7\"/>\n",
       "<polygon fill=\"black\" stroke=\"black\" points=\"318.95,-22.2 308.39,-23.15 317.23,-28.99 318.95,-22.2\"/>\n",
       "<text text-anchor=\"middle\" x=\"385.82\" y=\"-57.8\" font-family=\"Times New Roman,serif\" font-size=\"14.00\">1.have</text>\n",
       "</g>\n",
       "<!-- Start&#45;&gt;1 -->\n",
       "<g id=\"edge11\" class=\"edge\">\n",
       "<title>Start&#45;&gt;1</title>\n",
       "<path fill=\"none\" stroke=\"black\" d=\"M373.97,-92.46C400.01,-84.44 422.51,-71.94 408.32,-54 396.98,-39.66 354.6,-30.59 318.08,-25.29\"/>\n",
       "<polygon fill=\"black\" stroke=\"black\" points=\"318.35,-21.8 307.97,-23.89 317.39,-28.73 318.35,-21.8\"/>\n",
       "<text text-anchor=\"middle\" x=\"459.32\" y=\"-57.8\" font-family=\"Times New Roman,serif\" font-size=\"14.00\">4.r1,r2,r10,r11,lr</text>\n",
       "</g>\n",
       "<!-- Start&#45;&gt;1 -->\n",
       "<g id=\"edge12\" class=\"edge\">\n",
       "<title>Start&#45;&gt;1</title>\n",
       "<path fill=\"none\" stroke=\"black\" d=\"M374.72,-92.64C384.58,-90.71 394.74,-88.77 404.32,-87 427.6,-82.7 494.06,-87.1 509.32,-69 513.62,-63.9 513.69,-59.03 509.32,-54 485.36,-26.44 386.37,-19.95 320.65,-18.77\"/>\n",
       "<polygon fill=\"black\" stroke=\"black\" points=\"320.46,-15.26 310.41,-18.62 320.36,-22.26 320.46,-15.26\"/>\n",
       "<text text-anchor=\"middle\" x=\"531.32\" y=\"-57.8\" font-family=\"Times New Roman,serif\" font-size=\"14.00\">7.look</text>\n",
       "</g>\n",
       "<!-- 3 -->\n",
       "<g id=\"node4\" class=\"node\">\n",
       "<title>3</title>\n",
       "<ellipse fill=\"none\" stroke=\"black\" cx=\"634.32\" cy=\"-18\" rx=\"38.99\" ry=\"18\"/>\n",
       "<text text-anchor=\"middle\" x=\"634.32\" y=\"-14.3\" font-family=\"Times New Roman,serif\" font-size=\"14.00\">ip_addr</text>\n",
       "</g>\n",
       "<!-- Start&#45;&gt;3 -->\n",
       "<g id=\"edge4\" class=\"edge\">\n",
       "<title>Start&#45;&gt;3</title>\n",
       "<path fill=\"none\" stroke=\"black\" d=\"M373.72,-92.41C383.88,-90.47 394.4,-88.58 404.32,-87 470.2,-76.52 490.36,-91.03 553.32,-69 572.62,-62.25 592.18,-50.34 607.25,-39.84\"/>\n",
       "<polygon fill=\"black\" stroke=\"black\" points=\"609.48,-42.55 615.56,-33.87 605.4,-36.86 609.48,-42.55\"/>\n",
       "<text text-anchor=\"middle\" x=\"598.82\" y=\"-57.8\" font-family=\"Times New Roman,serif\" font-size=\"14.00\">14.be</text>\n",
       "</g>\n",
       "<!-- 4 -->\n",
       "<g id=\"node5\" class=\"node\">\n",
       "<title>4</title>\n",
       "<ellipse fill=\"none\" stroke=\"black\" cx=\"723.32\" cy=\"-18\" rx=\"32.49\" ry=\"18\"/>\n",
       "<text text-anchor=\"middle\" x=\"723.32\" y=\"-14.3\" font-family=\"Times New Roman,serif\" font-size=\"14.00\">^eth.*</text>\n",
       "</g>\n",
       "<!-- Start&#45;&gt;4 -->\n",
       "<g id=\"edge10\" class=\"edge\">\n",
       "<title>Start&#45;&gt;4</title>\n",
       "<path fill=\"none\" stroke=\"black\" d=\"M373.22,-92.2C383.52,-90.26 394.22,-88.42 404.32,-87 498.84,-73.72 526.18,-93.92 618.32,-69 644.85,-61.82 672.86,-48.14 693.27,-36.9\"/>\n",
       "<polygon fill=\"black\" stroke=\"black\" points=\"695.09,-39.89 702.08,-31.94 691.65,-33.79 695.09,-39.89\"/>\n",
       "<text text-anchor=\"middle\" x=\"677.82\" y=\"-57.8\" font-family=\"Times New Roman,serif\" font-size=\"14.00\">12.grab</text>\n",
       "</g>\n",
       "<!-- 2 -->\n",
       "<g id=\"node3\" class=\"node\">\n",
       "<title>2</title>\n",
       "<ellipse fill=\"none\" stroke=\"black\" cx=\"445.32\" cy=\"-105\" rx=\"31.7\" ry=\"18\"/>\n",
       "<text text-anchor=\"middle\" x=\"445.32\" y=\"-101.3\" font-family=\"Times New Roman,serif\" font-size=\"14.00\">^sed$</text>\n",
       "</g>\n",
       "</g>\n",
       "</svg>\n"
      ],
      "text/plain": [
       "<graphviz.graphs.Digraph at 0x22a3cd34cd0>"
      ]
     },
     "metadata": {},
     "output_type": "display_data"
    },
    {
     "name": "stdout",
     "output_type": "stream",
     "text": [
      "Dofloo-Securityaffairs.csv raw doc OPset\n"
     ]
    },
    {
     "data": {
      "image/svg+xml": [
       "<?xml version=\"1.0\" encoding=\"UTF-8\" standalone=\"no\"?>\n",
       "<!DOCTYPE svg PUBLIC \"-//W3C//DTD SVG 1.1//EN\"\n",
       " \"http://www.w3.org/Graphics/SVG/1.1/DTD/svg11.dtd\">\n",
       "<!-- Generated by graphviz version 6.0.1 (20220911.1526)\n",
       " -->\n",
       "<!-- Pages: 1 -->\n",
       "<svg width=\"381pt\" height=\"131pt\"\n",
       " viewBox=\"0.00 0.00 381.49 131.00\" xmlns=\"http://www.w3.org/2000/svg\" xmlns:xlink=\"http://www.w3.org/1999/xlink\">\n",
       "<g id=\"graph0\" class=\"graph\" transform=\"scale(1 1) rotate(0) translate(4 127)\">\n",
       "<polygon fill=\"white\" stroke=\"none\" points=\"-4,4 -4,-127 377.49,-127 377.49,4 -4,4\"/>\n",
       "<!-- Start -->\n",
       "<g id=\"node1\" class=\"node\">\n",
       "<title>Start</title>\n",
       "<ellipse fill=\"none\" stroke=\"black\" cx=\"163.3\" cy=\"-105\" rx=\"77.19\" ry=\"18\"/>\n",
       "<text text-anchor=\"middle\" x=\"163.3\" y=\"-101.3\" font-family=\"Times New Roman,serif\" font-size=\"14.00\">Malware (Subject)</text>\n",
       "</g>\n",
       "<!-- 1 -->\n",
       "<g id=\"node2\" class=\"node\">\n",
       "<title>1</title>\n",
       "<ellipse fill=\"none\" stroke=\"black\" cx=\"53.3\" cy=\"-18\" rx=\"53.09\" ry=\"18\"/>\n",
       "<text text-anchor=\"middle\" x=\"53.3\" y=\"-14.3\" font-family=\"Times New Roman,serif\" font-size=\"14.00\">/etc/rc.local</text>\n",
       "</g>\n",
       "<!-- Start&#45;&gt;1 -->\n",
       "<g id=\"edge1\" class=\"edge\">\n",
       "<title>Start&#45;&gt;1</title>\n",
       "<path fill=\"none\" stroke=\"black\" d=\"M136.1,-87.98C127.03,-82.3 117.02,-75.66 108.3,-69 97.72,-60.92 86.74,-51.24 77.4,-42.55\"/>\n",
       "<polygon fill=\"black\" stroke=\"black\" points=\"79.65,-39.87 69.98,-35.55 74.85,-44.96 79.65,-39.87\"/>\n",
       "<text text-anchor=\"middle\" x=\"133.8\" y=\"-57.8\" font-family=\"Times New Roman,serif\" font-size=\"14.00\">3.modify</text>\n",
       "</g>\n",
       "<!-- 2 -->\n",
       "<g id=\"node3\" class=\"node\">\n",
       "<title>2</title>\n",
       "<ellipse fill=\"none\" stroke=\"black\" cx=\"163.3\" cy=\"-18\" rx=\"38.99\" ry=\"18\"/>\n",
       "<text text-anchor=\"middle\" x=\"163.3\" y=\"-14.3\" font-family=\"Times New Roman,serif\" font-size=\"14.00\">ip_addr</text>\n",
       "</g>\n",
       "<!-- Start&#45;&gt;2 -->\n",
       "<g id=\"edge2\" class=\"edge\">\n",
       "<title>Start&#45;&gt;2</title>\n",
       "<path fill=\"none\" stroke=\"black\" d=\"M163.3,-86.8C163.3,-75.16 163.3,-59.55 163.3,-46.24\"/>\n",
       "<polygon fill=\"black\" stroke=\"black\" points=\"166.8,-46.18 163.3,-36.18 159.8,-46.18 166.8,-46.18\"/>\n",
       "<text text-anchor=\"middle\" x=\"190.8\" y=\"-57.8\" font-family=\"Times New Roman,serif\" font-size=\"14.00\">1.connect</text>\n",
       "</g>\n",
       "<!-- 4 -->\n",
       "<g id=\"node5\" class=\"node\">\n",
       "<title>4</title>\n",
       "<ellipse fill=\"none\" stroke=\"black\" cx=\"280.3\" cy=\"-18\" rx=\"59.59\" ry=\"18\"/>\n",
       "<text text-anchor=\"middle\" x=\"280.3\" y=\"-14.3\" font-family=\"Times New Roman,serif\" font-size=\"14.00\">ip_addr+port</text>\n",
       "</g>\n",
       "<!-- Start&#45;&gt;4 -->\n",
       "<g id=\"edge3\" class=\"edge\">\n",
       "<title>Start&#45;&gt;4</title>\n",
       "<path fill=\"none\" stroke=\"black\" d=\"M192.15,-88.25C201.95,-82.54 212.82,-75.81 222.3,-69 233.62,-60.85 245.41,-50.98 255.38,-42.17\"/>\n",
       "<polygon fill=\"black\" stroke=\"black\" points=\"257.83,-44.67 262.94,-35.39 253.16,-39.46 257.83,-44.67\"/>\n",
       "<text text-anchor=\"middle\" x=\"267.8\" y=\"-57.8\" font-family=\"Times New Roman,serif\" font-size=\"14.00\">2.connect</text>\n",
       "</g>\n",
       "<!-- 3 -->\n",
       "<g id=\"node4\" class=\"node\">\n",
       "<title>3</title>\n",
       "<ellipse fill=\"none\" stroke=\"black\" cx=\"316.3\" cy=\"-105\" rx=\"57.39\" ry=\"18\"/>\n",
       "<text text-anchor=\"middle\" x=\"316.3\" y=\"-101.3\" font-family=\"Times New Roman,serif\" font-size=\"14.00\">/etc/rc.*.d/.*</text>\n",
       "</g>\n",
       "</g>\n",
       "</svg>\n"
      ],
      "text/plain": [
       "<graphviz.graphs.Digraph at 0x22a35396da0>"
      ]
     },
     "metadata": {},
     "output_type": "display_data"
    },
    {
     "name": "stdout",
     "output_type": "stream",
     "text": [
      "Dofloo-Securityaffairs.csv matched doc OPset\n"
     ]
    },
    {
     "data": {
      "image/svg+xml": [
       "<?xml version=\"1.0\" encoding=\"UTF-8\" standalone=\"no\"?>\n",
       "<!DOCTYPE svg PUBLIC \"-//W3C//DTD SVG 1.1//EN\"\n",
       " \"http://www.w3.org/Graphics/SVG/1.1/DTD/svg11.dtd\">\n",
       "<!-- Generated by graphviz version 6.0.1 (20220911.1526)\n",
       " -->\n",
       "<!-- Pages: 1 -->\n",
       "<svg width=\"348pt\" height=\"131pt\"\n",
       " viewBox=\"0.00 0.00 348.09 131.00\" xmlns=\"http://www.w3.org/2000/svg\" xmlns:xlink=\"http://www.w3.org/1999/xlink\">\n",
       "<g id=\"graph0\" class=\"graph\" transform=\"scale(1 1) rotate(0) translate(4 127)\">\n",
       "<polygon fill=\"white\" stroke=\"none\" points=\"-4,4 -4,-127 344.09,-127 344.09,4 -4,4\"/>\n",
       "<!-- Start -->\n",
       "<g id=\"node1\" class=\"node\">\n",
       "<title>Start</title>\n",
       "<ellipse fill=\"none\" stroke=\"black\" cx=\"163.3\" cy=\"-105\" rx=\"77.19\" ry=\"18\"/>\n",
       "<text text-anchor=\"middle\" x=\"163.3\" y=\"-101.3\" font-family=\"Times New Roman,serif\" font-size=\"14.00\">Malware (Subject)</text>\n",
       "</g>\n",
       "<!-- 1 -->\n",
       "<g id=\"node2\" class=\"node\">\n",
       "<title>1</title>\n",
       "<ellipse fill=\"none\" stroke=\"black\" cx=\"53.3\" cy=\"-18\" rx=\"53.09\" ry=\"18\"/>\n",
       "<text text-anchor=\"middle\" x=\"53.3\" y=\"-14.3\" font-family=\"Times New Roman,serif\" font-size=\"14.00\">/etc/rc.local</text>\n",
       "</g>\n",
       "<!-- Start&#45;&gt;1 -->\n",
       "<g id=\"edge1\" class=\"edge\">\n",
       "<title>Start&#45;&gt;1</title>\n",
       "<path fill=\"none\" stroke=\"black\" d=\"M136.1,-87.98C127.03,-82.3 117.02,-75.66 108.3,-69 97.72,-60.92 86.74,-51.24 77.4,-42.55\"/>\n",
       "<polygon fill=\"black\" stroke=\"black\" points=\"79.65,-39.87 69.98,-35.55 74.85,-44.96 79.65,-39.87\"/>\n",
       "<text text-anchor=\"middle\" x=\"133.8\" y=\"-57.8\" font-family=\"Times New Roman,serif\" font-size=\"14.00\">3.modify</text>\n",
       "</g>\n",
       "<!-- 2 -->\n",
       "<g id=\"node3\" class=\"node\">\n",
       "<title>2</title>\n",
       "<ellipse fill=\"none\" stroke=\"black\" cx=\"163.3\" cy=\"-18\" rx=\"38.99\" ry=\"18\"/>\n",
       "<text text-anchor=\"middle\" x=\"163.3\" y=\"-14.3\" font-family=\"Times New Roman,serif\" font-size=\"14.00\">ip_addr</text>\n",
       "</g>\n",
       "<!-- Start&#45;&gt;2 -->\n",
       "<g id=\"edge2\" class=\"edge\">\n",
       "<title>Start&#45;&gt;2</title>\n",
       "<path fill=\"none\" stroke=\"black\" d=\"M163.3,-86.8C163.3,-75.16 163.3,-59.55 163.3,-46.24\"/>\n",
       "<polygon fill=\"black\" stroke=\"black\" points=\"166.8,-46.18 163.3,-36.18 159.8,-46.18 166.8,-46.18\"/>\n",
       "<text text-anchor=\"middle\" x=\"190.8\" y=\"-57.8\" font-family=\"Times New Roman,serif\" font-size=\"14.00\">1.connect</text>\n",
       "</g>\n",
       "<!-- 3 -->\n",
       "<g id=\"node4\" class=\"node\">\n",
       "<title>3</title>\n",
       "<ellipse fill=\"none\" stroke=\"black\" cx=\"280.3\" cy=\"-18\" rx=\"59.59\" ry=\"18\"/>\n",
       "<text text-anchor=\"middle\" x=\"280.3\" y=\"-14.3\" font-family=\"Times New Roman,serif\" font-size=\"14.00\">ip_addr+port</text>\n",
       "</g>\n",
       "<!-- Start&#45;&gt;3 -->\n",
       "<g id=\"edge3\" class=\"edge\">\n",
       "<title>Start&#45;&gt;3</title>\n",
       "<path fill=\"none\" stroke=\"black\" d=\"M192.15,-88.25C201.95,-82.54 212.82,-75.81 222.3,-69 233.62,-60.85 245.41,-50.98 255.38,-42.17\"/>\n",
       "<polygon fill=\"black\" stroke=\"black\" points=\"257.83,-44.67 262.94,-35.39 253.16,-39.46 257.83,-44.67\"/>\n",
       "<text text-anchor=\"middle\" x=\"267.8\" y=\"-57.8\" font-family=\"Times New Roman,serif\" font-size=\"14.00\">2.connect</text>\n",
       "</g>\n",
       "</g>\n",
       "</svg>\n"
      ],
      "text/plain": [
       "<graphviz.graphs.Digraph at 0x22a3540be80>"
      ]
     },
     "metadata": {},
     "output_type": "display_data"
    },
    {
     "name": "stdout",
     "output_type": "stream",
     "text": [
      "matched ASG OPset for doc Dofloo-Securityaffairs.csv\n"
     ]
    },
    {
     "data": {
      "image/svg+xml": [
       "<?xml version=\"1.0\" encoding=\"UTF-8\" standalone=\"no\"?>\n",
       "<!DOCTYPE svg PUBLIC \"-//W3C//DTD SVG 1.1//EN\"\n",
       " \"http://www.w3.org/Graphics/SVG/1.1/DTD/svg11.dtd\">\n",
       "<!-- Generated by graphviz version 6.0.1 (20220911.1526)\n",
       " -->\n",
       "<!-- Pages: 1 -->\n",
       "<svg width=\"348pt\" height=\"131pt\"\n",
       " viewBox=\"0.00 0.00 347.79 131.00\" xmlns=\"http://www.w3.org/2000/svg\" xmlns:xlink=\"http://www.w3.org/1999/xlink\">\n",
       "<g id=\"graph0\" class=\"graph\" transform=\"scale(1 1) rotate(0) translate(4 127)\">\n",
       "<polygon fill=\"white\" stroke=\"none\" points=\"-4,4 -4,-127 343.79,-127 343.79,4 -4,4\"/>\n",
       "<!-- Start -->\n",
       "<g id=\"node1\" class=\"node\">\n",
       "<title>Start</title>\n",
       "<ellipse fill=\"none\" stroke=\"black\" cx=\"149\" cy=\"-105\" rx=\"77.19\" ry=\"18\"/>\n",
       "<text text-anchor=\"middle\" x=\"149\" y=\"-101.3\" font-family=\"Times New Roman,serif\" font-size=\"14.00\">Malware (Subject)</text>\n",
       "</g>\n",
       "<!-- 1 -->\n",
       "<g id=\"node2\" class=\"node\">\n",
       "<title>1</title>\n",
       "<ellipse fill=\"none\" stroke=\"black\" cx=\"39\" cy=\"-18\" rx=\"38.99\" ry=\"18\"/>\n",
       "<text text-anchor=\"middle\" x=\"39\" y=\"-14.3\" font-family=\"Times New Roman,serif\" font-size=\"14.00\">ip_addr</text>\n",
       "</g>\n",
       "<!-- Start&#45;&gt;1 -->\n",
       "<g id=\"edge1\" class=\"edge\">\n",
       "<title>Start&#45;&gt;1</title>\n",
       "<path fill=\"none\" stroke=\"black\" d=\"M108.17,-89.6C96.38,-84.26 84.01,-77.41 74,-69 65.93,-62.22 58.84,-53.17 53.2,-44.62\"/>\n",
       "<polygon fill=\"black\" stroke=\"black\" points=\"56.11,-42.67 47.86,-36.02 50.16,-46.37 56.11,-42.67\"/>\n",
       "<text text-anchor=\"middle\" x=\"109.5\" y=\"-57.8\" font-family=\"Times New Roman,serif\" font-size=\"14.00\">26.connect()</text>\n",
       "</g>\n",
       "<!-- 2 -->\n",
       "<g id=\"node3\" class=\"node\">\n",
       "<title>2</title>\n",
       "<ellipse fill=\"none\" stroke=\"black\" cx=\"149\" cy=\"-18\" rx=\"53.09\" ry=\"18\"/>\n",
       "<text text-anchor=\"middle\" x=\"149\" y=\"-14.3\" font-family=\"Times New Roman,serif\" font-size=\"14.00\">/etc/rc.local</text>\n",
       "</g>\n",
       "<!-- Start&#45;&gt;2 -->\n",
       "<g id=\"edge2\" class=\"edge\">\n",
       "<title>Start&#45;&gt;2</title>\n",
       "<path fill=\"none\" stroke=\"black\" d=\"M149,-86.8C149,-75.16 149,-59.55 149,-46.24\"/>\n",
       "<polygon fill=\"black\" stroke=\"black\" points=\"152.5,-46.18 149,-36.18 145.5,-46.18 152.5,-46.18\"/>\n",
       "<text text-anchor=\"middle\" x=\"182.5\" y=\"-57.8\" font-family=\"Times New Roman,serif\" font-size=\"14.00\">22.rename()</text>\n",
       "</g>\n",
       "<!-- 3 -->\n",
       "<g id=\"node4\" class=\"node\">\n",
       "<title>3</title>\n",
       "<ellipse fill=\"none\" stroke=\"black\" cx=\"280\" cy=\"-18\" rx=\"59.59\" ry=\"18\"/>\n",
       "<text text-anchor=\"middle\" x=\"280\" y=\"-14.3\" font-family=\"Times New Roman,serif\" font-size=\"14.00\">ip_addr+port</text>\n",
       "</g>\n",
       "<!-- Start&#45;&gt;3 -->\n",
       "<g id=\"edge3\" class=\"edge\">\n",
       "<title>Start&#45;&gt;3</title>\n",
       "<path fill=\"none\" stroke=\"black\" d=\"M183.84,-88.85C195.65,-83.19 208.7,-76.34 220,-69 232.23,-61.05 244.77,-50.95 255.21,-41.92\"/>\n",
       "<polygon fill=\"black\" stroke=\"black\" points=\"257.56,-44.51 262.74,-35.27 252.93,-39.26 257.56,-44.51\"/>\n",
       "<text text-anchor=\"middle\" x=\"274.5\" y=\"-57.8\" font-family=\"Times New Roman,serif\" font-size=\"14.00\">27.connect()</text>\n",
       "</g>\n",
       "</g>\n",
       "</svg>\n"
      ],
      "text/plain": [
       "<graphviz.graphs.Digraph at 0x22a35396da0>"
      ]
     },
     "metadata": {},
     "output_type": "display_data"
    },
    {
     "name": "stdout",
     "output_type": "stream",
     "text": [
      "Dofloo-SyscallParty.csv raw doc OPset\n"
     ]
    },
    {
     "data": {
      "image/svg+xml": [
       "<?xml version=\"1.0\" encoding=\"UTF-8\" standalone=\"no\"?>\n",
       "<!DOCTYPE svg PUBLIC \"-//W3C//DTD SVG 1.1//EN\"\n",
       " \"http://www.w3.org/Graphics/SVG/1.1/DTD/svg11.dtd\">\n",
       "<!-- Generated by graphviz version 6.0.1 (20220911.1526)\n",
       " -->\n",
       "<!-- Pages: 1 -->\n",
       "<svg width=\"659pt\" height=\"131pt\"\n",
       " viewBox=\"0.00 0.00 659.44 131.00\" xmlns=\"http://www.w3.org/2000/svg\" xmlns:xlink=\"http://www.w3.org/1999/xlink\">\n",
       "<g id=\"graph0\" class=\"graph\" transform=\"scale(1 1) rotate(0) translate(4 127)\">\n",
       "<polygon fill=\"white\" stroke=\"none\" points=\"-4,4 -4,-127 655.44,-127 655.44,4 -4,4\"/>\n",
       "<!-- Start -->\n",
       "<g id=\"node1\" class=\"node\">\n",
       "<title>Start</title>\n",
       "<ellipse fill=\"none\" stroke=\"black\" cx=\"255.95\" cy=\"-105\" rx=\"77.19\" ry=\"18\"/>\n",
       "<text text-anchor=\"middle\" x=\"255.95\" y=\"-101.3\" font-family=\"Times New Roman,serif\" font-size=\"14.00\">Malware (Subject)</text>\n",
       "</g>\n",
       "<!-- 2 -->\n",
       "<g id=\"node3\" class=\"node\">\n",
       "<title>2</title>\n",
       "<ellipse fill=\"none\" stroke=\"black\" cx=\"53.95\" cy=\"-18\" rx=\"53.89\" ry=\"18\"/>\n",
       "<text text-anchor=\"middle\" x=\"53.95\" y=\"-14.3\" font-family=\"Times New Roman,serif\" font-size=\"14.00\">/etc/init.d/.*</text>\n",
       "</g>\n",
       "<!-- Start&#45;&gt;2 -->\n",
       "<g id=\"edge1\" class=\"edge\">\n",
       "<title>Start&#45;&gt;2</title>\n",
       "<path fill=\"none\" stroke=\"black\" d=\"M184.63,-97.92C140.02,-92.74 87.91,-83.73 70.95,-69 64.25,-63.19 60.19,-54.63 57.73,-46.24\"/>\n",
       "<polygon fill=\"black\" stroke=\"black\" points=\"61.09,-45.24 55.44,-36.27 54.26,-46.8 61.09,-45.24\"/>\n",
       "<text text-anchor=\"middle\" x=\"86.95\" y=\"-57.8\" font-family=\"Times New Roman,serif\" font-size=\"14.00\">4.add</text>\n",
       "</g>\n",
       "<!-- 3 -->\n",
       "<g id=\"node4\" class=\"node\">\n",
       "<title>3</title>\n",
       "<ellipse fill=\"none\" stroke=\"black\" cx=\"184.95\" cy=\"-18\" rx=\"53.09\" ry=\"18\"/>\n",
       "<text text-anchor=\"middle\" x=\"184.95\" y=\"-14.3\" font-family=\"Times New Roman,serif\" font-size=\"14.00\">/etc/rc.local</text>\n",
       "</g>\n",
       "<!-- Start&#45;&gt;3 -->\n",
       "<g id=\"edge2\" class=\"edge\">\n",
       "<title>Start&#45;&gt;3</title>\n",
       "<path fill=\"none\" stroke=\"black\" d=\"M188.7,-96C155.36,-90.51 120.07,-81.84 109.95,-69 98.14,-54.03 114.56,-41.98 135.01,-33.47\"/>\n",
       "<polygon fill=\"black\" stroke=\"black\" points=\"136.51,-36.64 144.61,-29.81 134.02,-30.1 136.51,-36.64\"/>\n",
       "<text text-anchor=\"middle\" x=\"136.45\" y=\"-57.8\" font-family=\"Times New Roman,serif\" font-size=\"14.00\">5.execute</text>\n",
       "</g>\n",
       "<!-- Start&#45;&gt;3 -->\n",
       "<g id=\"edge4\" class=\"edge\">\n",
       "<title>Start&#45;&gt;3</title>\n",
       "<path fill=\"none\" stroke=\"black\" d=\"M210.78,-90.34C200.99,-85.22 191.82,-78.3 185.95,-69 181.69,-62.26 180.36,-53.93 180.4,-46.01\"/>\n",
       "<polygon fill=\"black\" stroke=\"black\" points=\"183.89,-46.23 181.11,-36.01 176.91,-45.73 183.89,-46.23\"/>\n",
       "<text text-anchor=\"middle\" x=\"209.95\" y=\"-57.8\" font-family=\"Times New Roman,serif\" font-size=\"14.00\">7.format</text>\n",
       "</g>\n",
       "<!-- Start&#45;&gt;3 -->\n",
       "<g id=\"edge6\" class=\"edge\">\n",
       "<title>Start&#45;&gt;3</title>\n",
       "<path fill=\"none\" stroke=\"black\" d=\"M251.02,-87.01C247.44,-76.7 241.84,-63.71 233.95,-54 229.79,-48.89 224.71,-44.17 219.42,-39.97\"/>\n",
       "<polygon fill=\"black\" stroke=\"black\" points=\"221.15,-36.9 211.02,-33.8 217.01,-42.54 221.15,-36.9\"/>\n",
       "<text text-anchor=\"middle\" x=\"258.95\" y=\"-57.8\" font-family=\"Times New Roman,serif\" font-size=\"14.00\">3.add</text>\n",
       "</g>\n",
       "<!-- 4 -->\n",
       "<g id=\"node5\" class=\"node\">\n",
       "<title>4</title>\n",
       "<ellipse fill=\"none\" stroke=\"black\" cx=\"307.95\" cy=\"-18\" rx=\"50.09\" ry=\"18\"/>\n",
       "<text text-anchor=\"middle\" x=\"307.95\" y=\"-14.3\" font-family=\"Times New Roman,serif\" font-size=\"14.00\">mem_addr</text>\n",
       "</g>\n",
       "<!-- Start&#45;&gt;4 -->\n",
       "<g id=\"edge3\" class=\"edge\">\n",
       "<title>Start&#45;&gt;4</title>\n",
       "<path fill=\"none\" stroke=\"black\" d=\"M274.2,-87.33C279.46,-81.86 284.87,-75.51 288.95,-69 293.45,-61.81 297.16,-53.38 300.07,-45.51\"/>\n",
       "<polygon fill=\"black\" stroke=\"black\" points=\"303.4,-46.57 303.32,-35.98 296.78,-44.31 303.4,-46.57\"/>\n",
       "<text text-anchor=\"middle\" x=\"313.95\" y=\"-57.8\" font-family=\"Times New Roman,serif\" font-size=\"14.00\">1.give</text>\n",
       "</g>\n",
       "<!-- 6 -->\n",
       "<g id=\"node7\" class=\"node\">\n",
       "<title>6</title>\n",
       "<ellipse fill=\"none\" stroke=\"black\" cx=\"434.95\" cy=\"-18\" rx=\"59.29\" ry=\"18\"/>\n",
       "<text text-anchor=\"middle\" x=\"434.95\" y=\"-14.3\" font-family=\"Times New Roman,serif\" font-size=\"14.00\">/proc/net/dev</text>\n",
       "</g>\n",
       "<!-- Start&#45;&gt;6 -->\n",
       "<g id=\"edge5\" class=\"edge\">\n",
       "<title>Start&#45;&gt;6</title>\n",
       "<path fill=\"none\" stroke=\"black\" d=\"M291.11,-88.84C304.85,-82.81 320.7,-75.71 334.95,-69 355.67,-59.23 378.55,-47.84 397.19,-38.4\"/>\n",
       "<polygon fill=\"black\" stroke=\"black\" points=\"398.91,-41.45 406.24,-33.8 395.74,-35.21 398.91,-41.45\"/>\n",
       "<text text-anchor=\"middle\" x=\"383.45\" y=\"-57.8\" font-family=\"Times New Roman,serif\" font-size=\"14.00\">8.read</text>\n",
       "</g>\n",
       "<!-- 8 -->\n",
       "<g id=\"node9\" class=\"node\">\n",
       "<title>8</title>\n",
       "<ellipse fill=\"none\" stroke=\"black\" cx=\"543.95\" cy=\"-18\" rx=\"31.7\" ry=\"18\"/>\n",
       "<text text-anchor=\"middle\" x=\"543.95\" y=\"-14.3\" font-family=\"Times New Roman,serif\" font-size=\"14.00\">^sed$</text>\n",
       "</g>\n",
       "<!-- Start&#45;&gt;8 -->\n",
       "<g id=\"edge7\" class=\"edge\">\n",
       "<title>Start&#45;&gt;8</title>\n",
       "<path fill=\"none\" stroke=\"black\" d=\"M311.11,-92.34C339.34,-86.05 374.15,-77.78 404.95,-69 449.14,-56.4 459.92,-52.14 502.95,-36 505.2,-35.15 507.51,-34.26 509.84,-33.35\"/>\n",
       "<polygon fill=\"black\" stroke=\"black\" points=\"511.37,-36.5 519.34,-29.52 508.75,-30.01 511.37,-36.5\"/>\n",
       "<text text-anchor=\"middle\" x=\"476.95\" y=\"-57.8\" font-family=\"Times New Roman,serif\" font-size=\"14.00\">6.format</text>\n",
       "</g>\n",
       "<!-- 1 -->\n",
       "<g id=\"node2\" class=\"node\">\n",
       "<title>1</title>\n",
       "<ellipse fill=\"none\" stroke=\"black\" cx=\"398.95\" cy=\"-105\" rx=\"48.19\" ry=\"18\"/>\n",
       "<text text-anchor=\"middle\" x=\"398.95\" y=\"-101.3\" font-family=\"Times New Roman,serif\" font-size=\"14.00\">uname(.|$)</text>\n",
       "</g>\n",
       "<!-- 5 -->\n",
       "<g id=\"node6\" class=\"node\">\n",
       "<title>5</title>\n",
       "<ellipse fill=\"none\" stroke=\"black\" cx=\"503.95\" cy=\"-105\" rx=\"38.99\" ry=\"18\"/>\n",
       "<text text-anchor=\"middle\" x=\"503.95\" y=\"-101.3\" font-family=\"Times New Roman,serif\" font-size=\"14.00\">ip_addr</text>\n",
       "</g>\n",
       "<!-- 7 -->\n",
       "<g id=\"node8\" class=\"node\">\n",
       "<title>7</title>\n",
       "<ellipse fill=\"none\" stroke=\"black\" cx=\"605.95\" cy=\"-105\" rx=\"45.49\" ry=\"18\"/>\n",
       "<text text-anchor=\"middle\" x=\"605.95\" y=\"-101.3\" font-family=\"Times New Roman,serif\" font-size=\"14.00\">/proc/self</text>\n",
       "</g>\n",
       "</g>\n",
       "</svg>\n"
      ],
      "text/plain": [
       "<graphviz.graphs.Digraph at 0x22a3540be80>"
      ]
     },
     "metadata": {},
     "output_type": "display_data"
    },
    {
     "name": "stdout",
     "output_type": "stream",
     "text": [
      "Dofloo-SyscallParty.csv matched doc OPset\n"
     ]
    },
    {
     "data": {
      "image/svg+xml": [
       "<?xml version=\"1.0\" encoding=\"UTF-8\" standalone=\"no\"?>\n",
       "<!DOCTYPE svg PUBLIC \"-//W3C//DTD SVG 1.1//EN\"\n",
       " \"http://www.w3.org/Graphics/SVG/1.1/DTD/svg11.dtd\">\n",
       "<!-- Generated by graphviz version 6.0.1 (20220911.1526)\n",
       " -->\n",
       "<!-- Pages: 1 -->\n",
       "<svg width=\"241pt\" height=\"131pt\"\n",
       " viewBox=\"0.00 0.00 241.24 131.00\" xmlns=\"http://www.w3.org/2000/svg\" xmlns:xlink=\"http://www.w3.org/1999/xlink\">\n",
       "<g id=\"graph0\" class=\"graph\" transform=\"scale(1 1) rotate(0) translate(4 127)\">\n",
       "<polygon fill=\"white\" stroke=\"none\" points=\"-4,4 -4,-127 237.24,-127 237.24,4 -4,4\"/>\n",
       "<!-- Start -->\n",
       "<g id=\"node1\" class=\"node\">\n",
       "<title>Start</title>\n",
       "<ellipse fill=\"none\" stroke=\"black\" cx=\"124.3\" cy=\"-105\" rx=\"77.19\" ry=\"18\"/>\n",
       "<text text-anchor=\"middle\" x=\"124.3\" y=\"-101.3\" font-family=\"Times New Roman,serif\" font-size=\"14.00\">Malware (Subject)</text>\n",
       "</g>\n",
       "<!-- 1 -->\n",
       "<g id=\"node2\" class=\"node\">\n",
       "<title>1</title>\n",
       "<ellipse fill=\"none\" stroke=\"black\" cx=\"53.3\" cy=\"-18\" rx=\"53.09\" ry=\"18\"/>\n",
       "<text text-anchor=\"middle\" x=\"53.3\" y=\"-14.3\" font-family=\"Times New Roman,serif\" font-size=\"14.00\">/etc/rc.local</text>\n",
       "</g>\n",
       "<!-- Start&#45;&gt;1 -->\n",
       "<g id=\"edge1\" class=\"edge\">\n",
       "<title>Start&#45;&gt;1</title>\n",
       "<path fill=\"none\" stroke=\"black\" d=\"M79.13,-90.34C69.34,-85.22 60.17,-78.3 54.3,-69 50.04,-62.26 48.71,-53.93 48.75,-46.01\"/>\n",
       "<polygon fill=\"black\" stroke=\"black\" points=\"52.24,-46.23 49.46,-36.01 45.26,-45.73 52.24,-46.23\"/>\n",
       "<text text-anchor=\"middle\" x=\"78.3\" y=\"-57.8\" font-family=\"Times New Roman,serif\" font-size=\"14.00\">7.format</text>\n",
       "</g>\n",
       "<!-- Start&#45;&gt;1 -->\n",
       "<g id=\"edge3\" class=\"edge\">\n",
       "<title>Start&#45;&gt;1</title>\n",
       "<path fill=\"none\" stroke=\"black\" d=\"M119.37,-87.01C115.79,-76.7 110.19,-63.71 102.3,-54 98.14,-48.89 93.06,-44.17 87.77,-39.97\"/>\n",
       "<polygon fill=\"black\" stroke=\"black\" points=\"89.5,-36.9 79.37,-33.8 85.36,-42.54 89.5,-36.9\"/>\n",
       "<text text-anchor=\"middle\" x=\"126.3\" y=\"-57.8\" font-family=\"Times New Roman,serif\" font-size=\"14.00\">3.add</text>\n",
       "</g>\n",
       "<!-- 2 -->\n",
       "<g id=\"node3\" class=\"node\">\n",
       "<title>2</title>\n",
       "<ellipse fill=\"none\" stroke=\"black\" cx=\"179.3\" cy=\"-18\" rx=\"53.89\" ry=\"18\"/>\n",
       "<text text-anchor=\"middle\" x=\"179.3\" y=\"-14.3\" font-family=\"Times New Roman,serif\" font-size=\"14.00\">/etc/init.d/.*</text>\n",
       "</g>\n",
       "<!-- Start&#45;&gt;2 -->\n",
       "<g id=\"edge2\" class=\"edge\">\n",
       "<title>Start&#45;&gt;2</title>\n",
       "<path fill=\"none\" stroke=\"black\" d=\"M142.35,-87.2C147.6,-81.73 153.05,-75.4 157.3,-69 162.08,-61.77 166.26,-53.33 169.65,-45.47\"/>\n",
       "<polygon fill=\"black\" stroke=\"black\" points=\"172.99,-46.53 173.5,-35.95 166.5,-43.9 172.99,-46.53\"/>\n",
       "<text text-anchor=\"middle\" x=\"181.3\" y=\"-57.8\" font-family=\"Times New Roman,serif\" font-size=\"14.00\">4.add</text>\n",
       "</g>\n",
       "</g>\n",
       "</svg>\n"
      ],
      "text/plain": [
       "<graphviz.graphs.Digraph at 0x22a35396da0>"
      ]
     },
     "metadata": {},
     "output_type": "display_data"
    },
    {
     "name": "stdout",
     "output_type": "stream",
     "text": [
      "matched ASG OPset for doc Dofloo-SyscallParty.csv\n"
     ]
    },
    {
     "data": {
      "image/svg+xml": [
       "<?xml version=\"1.0\" encoding=\"UTF-8\" standalone=\"no\"?>\n",
       "<!DOCTYPE svg PUBLIC \"-//W3C//DTD SVG 1.1//EN\"\n",
       " \"http://www.w3.org/Graphics/SVG/1.1/DTD/svg11.dtd\">\n",
       "<!-- Generated by graphviz version 6.0.1 (20220911.1526)\n",
       " -->\n",
       "<!-- Pages: 1 -->\n",
       "<svg width=\"262pt\" height=\"131pt\"\n",
       " viewBox=\"0.00 0.00 262.24 131.00\" xmlns=\"http://www.w3.org/2000/svg\" xmlns:xlink=\"http://www.w3.org/1999/xlink\">\n",
       "<g id=\"graph0\" class=\"graph\" transform=\"scale(1 1) rotate(0) translate(4 127)\">\n",
       "<polygon fill=\"white\" stroke=\"none\" points=\"-4,4 -4,-127 258.24,-127 258.24,4 -4,4\"/>\n",
       "<!-- Start -->\n",
       "<g id=\"node1\" class=\"node\">\n",
       "<title>Start</title>\n",
       "<ellipse fill=\"none\" stroke=\"black\" cx=\"122.3\" cy=\"-105\" rx=\"77.19\" ry=\"18\"/>\n",
       "<text text-anchor=\"middle\" x=\"122.3\" y=\"-101.3\" font-family=\"Times New Roman,serif\" font-size=\"14.00\">Malware (Subject)</text>\n",
       "</g>\n",
       "<!-- 1 -->\n",
       "<g id=\"node2\" class=\"node\">\n",
       "<title>1</title>\n",
       "<ellipse fill=\"none\" stroke=\"black\" cx=\"53.3\" cy=\"-18\" rx=\"53.09\" ry=\"18\"/>\n",
       "<text text-anchor=\"middle\" x=\"53.3\" y=\"-14.3\" font-family=\"Times New Roman,serif\" font-size=\"14.00\">/etc/rc.local</text>\n",
       "</g>\n",
       "<!-- Start&#45;&gt;1 -->\n",
       "<g id=\"edge1\" class=\"edge\">\n",
       "<title>Start&#45;&gt;1</title>\n",
       "<path fill=\"none\" stroke=\"black\" d=\"M65,-92.88C52.56,-87.7 40.87,-80.11 33.3,-69 28.25,-61.59 29.79,-52.71 33.69,-44.51\"/>\n",
       "<polygon fill=\"black\" stroke=\"black\" points=\"36.85,-46.05 38.87,-35.65 30.8,-42.51 36.85,-46.05\"/>\n",
       "<text text-anchor=\"middle\" x=\"66.8\" y=\"-57.8\" font-family=\"Times New Roman,serif\" font-size=\"14.00\">22.rename()</text>\n",
       "</g>\n",
       "<!-- Start&#45;&gt;1 -->\n",
       "<g id=\"edge2\" class=\"edge\">\n",
       "<title>Start&#45;&gt;1</title>\n",
       "<path fill=\"none\" stroke=\"black\" d=\"M117.14,-86.59C113.53,-76.39 107.98,-63.64 100.3,-54 96.3,-48.99 91.43,-44.32 86.35,-40.14\"/>\n",
       "<polygon fill=\"black\" stroke=\"black\" points=\"88.36,-37.27 78.29,-33.97 84.11,-42.83 88.36,-37.27\"/>\n",
       "<text text-anchor=\"middle\" x=\"135.8\" y=\"-57.8\" font-family=\"Times New Roman,serif\" font-size=\"14.00\">14.open()</text>\n",
       "</g>\n",
       "<!-- 2 -->\n",
       "<g id=\"node3\" class=\"node\">\n",
       "<title>2</title>\n",
       "<ellipse fill=\"none\" stroke=\"black\" cx=\"200.3\" cy=\"-18\" rx=\"53.89\" ry=\"18\"/>\n",
       "<text text-anchor=\"middle\" x=\"200.3\" y=\"-14.3\" font-family=\"Times New Roman,serif\" font-size=\"14.00\">/etc/init.d/.*</text>\n",
       "</g>\n",
       "<!-- Start&#45;&gt;2 -->\n",
       "<g id=\"edge3\" class=\"edge\">\n",
       "<title>Start&#45;&gt;2</title>\n",
       "<path fill=\"none\" stroke=\"black\" d=\"M146.42,-87.54C153.56,-82.08 161.11,-75.68 167.3,-69 174.04,-61.71 180.34,-52.91 185.6,-44.73\"/>\n",
       "<polygon fill=\"black\" stroke=\"black\" points=\"188.58,-46.55 190.86,-36.2 182.63,-42.87 188.58,-46.55\"/>\n",
       "<text text-anchor=\"middle\" x=\"205.8\" y=\"-57.8\" font-family=\"Times New Roman,serif\" font-size=\"14.00\">24.open()</text>\n",
       "</g>\n",
       "</g>\n",
       "</svg>\n"
      ],
      "text/plain": [
       "<graphviz.graphs.Digraph at 0x22a3540be80>"
      ]
     },
     "metadata": {},
     "output_type": "display_data"
    },
    {
     "name": "stdout",
     "output_type": "stream",
     "text": [
      "Dofloo-Trendmicro.csv raw doc OPset\n"
     ]
    },
    {
     "data": {
      "image/svg+xml": [
       "<?xml version=\"1.0\" encoding=\"UTF-8\" standalone=\"no\"?>\n",
       "<!DOCTYPE svg PUBLIC \"-//W3C//DTD SVG 1.1//EN\"\n",
       " \"http://www.w3.org/Graphics/SVG/1.1/DTD/svg11.dtd\">\n",
       "<!-- Generated by graphviz version 6.0.1 (20220911.1526)\n",
       " -->\n",
       "<!-- Pages: 1 -->\n",
       "<svg width=\"642pt\" height=\"131pt\"\n",
       " viewBox=\"0.00 0.00 641.69 131.00\" xmlns=\"http://www.w3.org/2000/svg\" xmlns:xlink=\"http://www.w3.org/1999/xlink\">\n",
       "<g id=\"graph0\" class=\"graph\" transform=\"scale(1 1) rotate(0) translate(4 127)\">\n",
       "<polygon fill=\"white\" stroke=\"none\" points=\"-4,4 -4,-127 637.69,-127 637.69,4 -4,4\"/>\n",
       "<!-- Start -->\n",
       "<g id=\"node1\" class=\"node\">\n",
       "<title>Start</title>\n",
       "<ellipse fill=\"none\" stroke=\"black\" cx=\"311.19\" cy=\"-105\" rx=\"77.19\" ry=\"18\"/>\n",
       "<text text-anchor=\"middle\" x=\"311.19\" y=\"-101.3\" font-family=\"Times New Roman,serif\" font-size=\"14.00\">Malware (Subject)</text>\n",
       "</g>\n",
       "<!-- 1 -->\n",
       "<g id=\"node2\" class=\"node\">\n",
       "<title>1</title>\n",
       "<ellipse fill=\"none\" stroke=\"black\" cx=\"57.19\" cy=\"-18\" rx=\"57.39\" ry=\"18\"/>\n",
       "<text text-anchor=\"middle\" x=\"57.19\" y=\"-14.3\" font-family=\"Times New Roman,serif\" font-size=\"14.00\">/etc/rc.*.d/.*</text>\n",
       "</g>\n",
       "<!-- Start&#45;&gt;1 -->\n",
       "<g id=\"edge1\" class=\"edge\">\n",
       "<title>Start&#45;&gt;1</title>\n",
       "<path fill=\"none\" stroke=\"black\" d=\"M268.97,-89.87C223.66,-74.71 151.87,-50.68 104.65,-34.88\"/>\n",
       "<polygon fill=\"black\" stroke=\"black\" points=\"105.55,-31.49 94.96,-31.64 103.33,-38.13 105.55,-31.49\"/>\n",
       "<text text-anchor=\"middle\" x=\"211.69\" y=\"-57.8\" font-family=\"Times New Roman,serif\" font-size=\"14.00\">3.se</text>\n",
       "</g>\n",
       "<!-- 2 -->\n",
       "<g id=\"node3\" class=\"node\">\n",
       "<title>2</title>\n",
       "<ellipse fill=\"none\" stroke=\"black\" cx=\"186.19\" cy=\"-18\" rx=\"53.89\" ry=\"18\"/>\n",
       "<text text-anchor=\"middle\" x=\"186.19\" y=\"-14.3\" font-family=\"Times New Roman,serif\" font-size=\"14.00\">/etc/init.d/.*</text>\n",
       "</g>\n",
       "<!-- Start&#45;&gt;2 -->\n",
       "<g id=\"edge2\" class=\"edge\">\n",
       "<title>Start&#45;&gt;2</title>\n",
       "<path fill=\"none\" stroke=\"black\" d=\"M287.39,-87.81C267.59,-74.35 239.25,-55.08 217.6,-40.35\"/>\n",
       "<polygon fill=\"black\" stroke=\"black\" points=\"219.31,-37.28 209.07,-34.55 215.37,-43.07 219.31,-37.28\"/>\n",
       "<text text-anchor=\"middle\" x=\"273.69\" y=\"-57.8\" font-family=\"Times New Roman,serif\" font-size=\"14.00\">4.start</text>\n",
       "</g>\n",
       "<!-- 3 -->\n",
       "<g id=\"node4\" class=\"node\">\n",
       "<title>3</title>\n",
       "<ellipse fill=\"none\" stroke=\"black\" cx=\"311.19\" cy=\"-18\" rx=\"53.09\" ry=\"18\"/>\n",
       "<text text-anchor=\"middle\" x=\"311.19\" y=\"-14.3\" font-family=\"Times New Roman,serif\" font-size=\"14.00\">/etc/rc.local</text>\n",
       "</g>\n",
       "<!-- Start&#45;&gt;3 -->\n",
       "<g id=\"edge3\" class=\"edge\">\n",
       "<title>Start&#45;&gt;3</title>\n",
       "<path fill=\"none\" stroke=\"black\" d=\"M311.19,-86.8C311.19,-75.16 311.19,-59.55 311.19,-46.24\"/>\n",
       "<polygon fill=\"black\" stroke=\"black\" points=\"314.7,-46.18 311.19,-36.18 307.7,-46.18 314.7,-46.18\"/>\n",
       "<text text-anchor=\"middle\" x=\"322.69\" y=\"-57.8\" font-family=\"Times New Roman,serif\" font-size=\"14.00\">2.se</text>\n",
       "</g>\n",
       "<!-- 4 -->\n",
       "<g id=\"node5\" class=\"node\">\n",
       "<title>4</title>\n",
       "<ellipse fill=\"none\" stroke=\"black\" cx=\"414.19\" cy=\"-18\" rx=\"31.7\" ry=\"18\"/>\n",
       "<text text-anchor=\"middle\" x=\"414.19\" y=\"-14.3\" font-family=\"Times New Roman,serif\" font-size=\"14.00\">^sed$</text>\n",
       "</g>\n",
       "<!-- Start&#45;&gt;4 -->\n",
       "<g id=\"edge4\" class=\"edge\">\n",
       "<title>Start&#45;&gt;4</title>\n",
       "<path fill=\"none\" stroke=\"black\" d=\"M331.54,-87.21C347.97,-73.65 371.17,-54.51 388.81,-39.95\"/>\n",
       "<polygon fill=\"black\" stroke=\"black\" points=\"391.48,-42.28 396.96,-33.22 387.02,-36.89 391.48,-42.28\"/>\n",
       "<text text-anchor=\"middle\" x=\"380.69\" y=\"-57.8\" font-family=\"Times New Roman,serif\" font-size=\"14.00\">1.se</text>\n",
       "</g>\n",
       "<!-- 5 -->\n",
       "<g id=\"node6\" class=\"node\">\n",
       "<title>5</title>\n",
       "<ellipse fill=\"none\" stroke=\"black\" cx=\"509.19\" cy=\"-18\" rx=\"45.49\" ry=\"18\"/>\n",
       "<text text-anchor=\"middle\" x=\"509.19\" y=\"-14.3\" font-family=\"Times New Roman,serif\" font-size=\"14.00\">/proc/stat</text>\n",
       "</g>\n",
       "<!-- Start&#45;&gt;5 -->\n",
       "<g id=\"edge5\" class=\"edge\">\n",
       "<title>Start&#45;&gt;5</title>\n",
       "<path fill=\"none\" stroke=\"black\" d=\"M348.1,-89.05C363.06,-82.92 380.49,-75.71 396.19,-69 421.11,-58.36 448.95,-46.05 470.76,-36.3\"/>\n",
       "<polygon fill=\"black\" stroke=\"black\" points=\"472.32,-39.44 480.02,-32.16 469.46,-33.05 472.32,-39.44\"/>\n",
       "<text text-anchor=\"middle\" x=\"453.69\" y=\"-57.8\" font-family=\"Times New Roman,serif\" font-size=\"14.00\">5.gather</text>\n",
       "</g>\n",
       "<!-- 6 -->\n",
       "<g id=\"node7\" class=\"node\">\n",
       "<title>6</title>\n",
       "<ellipse fill=\"none\" stroke=\"black\" cx=\"465.19\" cy=\"-105\" rx=\"59.29\" ry=\"18\"/>\n",
       "<text text-anchor=\"middle\" x=\"465.19\" y=\"-101.3\" font-family=\"Times New Roman,serif\" font-size=\"14.00\">/proc/net/dev</text>\n",
       "</g>\n",
       "<!-- 7 -->\n",
       "<g id=\"node8\" class=\"node\">\n",
       "<title>7</title>\n",
       "<ellipse fill=\"none\" stroke=\"black\" cx=\"588.19\" cy=\"-105\" rx=\"45.49\" ry=\"18\"/>\n",
       "<text text-anchor=\"middle\" x=\"588.19\" y=\"-101.3\" font-family=\"Times New Roman,serif\" font-size=\"14.00\">/proc/self</text>\n",
       "</g>\n",
       "</g>\n",
       "</svg>\n"
      ],
      "text/plain": [
       "<graphviz.graphs.Digraph at 0x22a35396da0>"
      ]
     },
     "metadata": {},
     "output_type": "display_data"
    }
   ],
   "source": [
    "import graphviz\n",
    "\n",
    "class ItemMapper:\n",
    "    def __init__(self) -> None:\n",
    "        self.mapper = {}\n",
    "        self.index_counter:int = 1\n",
    "        # self.pretty_name = {\n",
    "        #     \"\\d{1,3}\\.\\d{1,3}\\.\\d{1,3}\\.\\d{1,3}\": \"ip_addr\",\n",
    "        #     \"\\d{1,3}\\.\\d{1,3}\\.\\d{1,3}\\.\\d{1,3}:\\d+\": \"ip_addr+port\",\n",
    "        #     \"0x[0-9a-zA-Z]{8}\": \"mem_addr\",\n",
    "        #     \"permission:{0,1}[0-9]{0,4}\": \"permission_id\"\n",
    "        # }\n",
    "        pass\n",
    "    def addItem(self, item:str) -> str:\n",
    "        # item = self.prettifyName(item) # 先不在這做~\n",
    "        if item in self.mapper.keys():\n",
    "            return self.mapper.get(item)\n",
    "        self.mapper[item] = str(self.index_counter)\n",
    "        self.index_counter += 1\n",
    "        return str(self.index_counter - 1)\n",
    "    def getSymbol(self, item:str):\n",
    "        return self.mapper.get(item, None)\n",
    "    # def prettifyName(self, item:str) -> str:\n",
    "    #     changed = self.pretty_name.get(item, None)\n",
    "    #     if changed:\n",
    "    #         return changed\n",
    "    #     return item\n",
    "\n",
    "def draw_asg_op_graph(asg_OPset: list[OperationPair], family=None):\n",
    "    dot = graphviz.Digraph(f'{family}_asg_OPset', comment='The Operational Pair Graph') \n",
    "    dot.node('Start', label=\"Malware (Subject)\")\n",
    "    mapper = ItemMapper()\n",
    "    for op in asg_OPset:\n",
    "        node_id = mapper.addItem(op.object)\n",
    "        dot.node(node_id, label=prettifyName(op.object)) # rename partial regex\n",
    "        if op.action:\n",
    "            dot.edge('Start', node_id, label=f\"{op.step_number}.{op.action}()\") # syscall have braces end\n",
    "\n",
    "    # dot.graph_attr.update(ratio=\"0.4\")\n",
    "    u = dot.unflatten(stagger=3, fanout=True)\n",
    "    display(u)\n",
    "    del mapper\n",
    "    return u\n",
    "\n",
    "def draw_ctd_op_graph(fset:FamilySet):\n",
    "    for rem in fset.rem_lst:\n",
    "        # doc_OPset\n",
    "        if rem.doc_OPset is None or len(rem.doc_OPset) == 0:\n",
    "            continue\n",
    "        dot = graphviz.Digraph()\n",
    "        dot.node('Start', label=\"Malware (Subject)\")\n",
    "        mapper = ItemMapper()\n",
    "        for op in rem.doc_OPset:\n",
    "            node_id = mapper.addItem(op.object)\n",
    "            dot.node(node_id, label=prettifyName(op.object))\n",
    "            if op.action:\n",
    "                dot.edge('Start', node_id, label=f\"{op.step_number}.{op.action}\")\n",
    "        print(f\"{rem.reportname} raw doc OPset\")\n",
    "        display(dot)\n",
    "        del mapper\n",
    "\n",
    "        # match_doc_OPset\n",
    "        if rem.match_doc_OPset is None or len(rem.match_doc_OPset) == 0:\n",
    "            continue\n",
    "        dot = graphviz.Digraph()\n",
    "        dot.node('Start', label=\"Malware (Subject)\")\n",
    "        mapper = ItemMapper()\n",
    "        for op in rem.match_doc_OPset:\n",
    "            node_id = mapper.addItem(op.object)\n",
    "            dot.node(node_id, label=prettifyName(op.object))\n",
    "            if op.action:\n",
    "                dot.edge('Start', node_id, label=f\"{op.step_number}.{op.action}\")\n",
    "        print(f\"{rem.reportname} matched doc OPset\")\n",
    "        display(dot)\n",
    "        del mapper\n",
    "\n",
    "        # match_ASG_OPset\n",
    "        if rem.OPset_order_index is None or len(rem.OPset_order_index) == 0:\n",
    "            continue\n",
    "        dot = graphviz.Digraph()\n",
    "        dot.node('Start', label=\"Malware (Subject)\")\n",
    "        mapper = ItemMapper()\n",
    "        for op in [fset.sample.OPset_ordered[i] for i in rem.OPset_order_index]:\n",
    "            node_id = mapper.addItem(op.object)\n",
    "            dot.node(node_id, label=prettifyName(op.object))\n",
    "            if op.action:\n",
    "                dot.edge('Start', node_id, label=f\"{op.step_number}.{op.action}()\")\n",
    "        print(f\"matched ASG OPset for doc {rem.reportname}\")\n",
    "        display(dot)\n",
    "        del mapper\n",
    "    return\n",
    "\n",
    "draw_asg_op_graph(sample.OPset, family=family)\n",
    "draw_ctd_op_graph(fset)"
   ]
  },
  {
   "attachments": {},
   "cell_type": "markdown",
   "metadata": {},
   "source": [
    "### Run Script: print matched sentence for specific document"
   ]
  },
  {
   "cell_type": "code",
   "execution_count": 34,
   "metadata": {},
   "outputs": [
    {
     "data": {
      "text/html": [
       "<div>\n",
       "<style scoped>\n",
       "    .dataframe tbody tr th:only-of-type {\n",
       "        vertical-align: middle;\n",
       "    }\n",
       "\n",
       "    .dataframe tbody tr th {\n",
       "        vertical-align: top;\n",
       "    }\n",
       "\n",
       "    .dataframe thead th {\n",
       "        text-align: right;\n",
       "    }\n",
       "</style>\n",
       "<table border=\"1\" class=\"dataframe\">\n",
       "  <thead>\n",
       "    <tr style=\"text-align: right;\">\n",
       "      <th></th>\n",
       "      <th>report</th>\n",
       "      <th>word</th>\n",
       "      <th>verb</th>\n",
       "      <th>objectType</th>\n",
       "      <th>prettyReg</th>\n",
       "      <th>match</th>\n",
       "      <th>label</th>\n",
       "      <th>sentence</th>\n",
       "    </tr>\n",
       "  </thead>\n",
       "  <tbody>\n",
       "    <tr>\n",
       "      <th>0</th>\n",
       "      <td>Dofloo-MalwareMustDie.csv</td>\n",
       "      <td>0x0002fbd0</td>\n",
       "      <td>find</td>\n",
       "      <td>MEM</td>\n",
       "      <td>mem_addr</td>\n",
       "      <td>0</td>\n",
       "      <td>0</td>\n",
       "      <td>1 2 3 4 5 6 7 8 9 10 11 12 13 14 15 16 17 18 1...</td>\n",
       "    </tr>\n",
       "    <tr>\n",
       "      <th>1</th>\n",
       "      <td>Dofloo-MalwareMustDie.csv</td>\n",
       "      <td>sed</td>\n",
       "      <td>None</td>\n",
       "      <td>PROC</td>\n",
       "      <td>^sed$</td>\n",
       "      <td>0</td>\n",
       "      <td>0</td>\n",
       "      <td>None</td>\n",
       "    </tr>\n",
       "    <tr>\n",
       "      <th>2</th>\n",
       "      <td>Dofloo-MalwareMustDie.csv</td>\n",
       "      <td>0x0002fc5f</td>\n",
       "      <td>eserve</td>\n",
       "      <td>MEM</td>\n",
       "      <td>mem_addr</td>\n",
       "      <td>0</td>\n",
       "      <td>0</td>\n",
       "      <td>all rights r 0x0002fc5f                 dcb es...</td>\n",
       "    </tr>\n",
       "    <tr>\n",
       "      <th>3</th>\n",
       "      <td>Dofloo-MalwareMustDie.csv</td>\n",
       "      <td>0x0002f118</td>\n",
       "      <td>add</td>\n",
       "      <td>MEM</td>\n",
       "      <td>mem_addr</td>\n",
       "      <td>0</td>\n",
       "      <td>0</td>\n",
       "      <td>1 2 3 4 5 6 7 8 9 10 11 12 13 14 15 16 17 18 1...</td>\n",
       "    </tr>\n",
       "    <tr>\n",
       "      <th>4</th>\n",
       "      <td>Dofloo-MalwareMustDie.csv</td>\n",
       "      <td>182.254.180.241</td>\n",
       "      <td>be</td>\n",
       "      <td>NET</td>\n",
       "      <td>ip_addr</td>\n",
       "      <td>0</td>\n",
       "      <td>0</td>\n",
       "      <td>1 2 .text:0x09e68 ldr  r0, =unk_0x08c5c4  &lt;-- ...</td>\n",
       "    </tr>\n",
       "    <tr>\n",
       "      <th>5</th>\n",
       "      <td>Dofloo-MalwareMustDie.csv</td>\n",
       "      <td>0x000d0c24</td>\n",
       "      <td>be</td>\n",
       "      <td>MEM</td>\n",
       "      <td>mem_addr</td>\n",
       "      <td>0</td>\n",
       "      <td>0</td>\n",
       "      <td>so as you can see it was served from sept 10th...</td>\n",
       "    </tr>\n",
       "    <tr>\n",
       "      <th>6</th>\n",
       "      <td>Dofloo-MalwareMustDie.csv</td>\n",
       "      <td>0x0002fc0e</td>\n",
       "      <td>pack</td>\n",
       "      <td>MEM</td>\n",
       "      <td>mem_addr</td>\n",
       "      <td>0</td>\n",
       "      <td>0</td>\n",
       "      <td>i look from its dcb data from where it was cal...</td>\n",
       "    </tr>\n",
       "    <tr>\n",
       "      <th>7</th>\n",
       "      <td>Dofloo-MalwareMustDie.csv</td>\n",
       "      <td>182.254.180.0/23</td>\n",
       "      <td>None</td>\n",
       "      <td>NET</td>\n",
       "      <td>ip_addr</td>\n",
       "      <td>0</td>\n",
       "      <td>0</td>\n",
       "      <td>None</td>\n",
       "    </tr>\n",
       "    <tr>\n",
       "      <th>8</th>\n",
       "      <td>Dofloo-MalwareMustDie.csv</td>\n",
       "      <td>0x0002fcab</td>\n",
       "      <td>go</td>\n",
       "      <td>MEM</td>\n",
       "      <td>mem_addr</td>\n",
       "      <td>0</td>\n",
       "      <td>0</td>\n",
       "      <td>,0x24,0xa,0 0x0002fcab                 dcb 0x0...</td>\n",
       "    </tr>\n",
       "    <tr>\n",
       "      <th>9</th>\n",
       "      <td>Dofloo-MalwareMustDie.csv</td>\n",
       "      <td>0x6c00031a,</td>\n",
       "      <td>None</td>\n",
       "      <td>MEM</td>\n",
       "      <td>mem_addr</td>\n",
       "      <td>0</td>\n",
       "      <td>0</td>\n",
       "      <td>None</td>\n",
       "    </tr>\n",
       "    <tr>\n",
       "      <th>10</th>\n",
       "      <td>Dofloo-MalwareMustDie.csv</td>\n",
       "      <td>0x0002f144</td>\n",
       "      <td>svc</td>\n",
       "      <td>MEM</td>\n",
       "      <td>mem_addr</td>\n",
       "      <td>0</td>\n",
       "      <td>0</td>\n",
       "      <td>1 2 3 4 5 6 7 8 9 10 11 12 13 14 15 16 17 18 1...</td>\n",
       "    </tr>\n",
       "    <tr>\n",
       "      <th>11</th>\n",
       "      <td>Dofloo-MalwareMustDie.csv</td>\n",
       "      <td>0x00008000</td>\n",
       "      <td>have</td>\n",
       "      <td>MEM</td>\n",
       "      <td>mem_addr</td>\n",
       "      <td>0</td>\n",
       "      <td>0</td>\n",
       "      <td>so as you can see it was served from sept 10th...</td>\n",
       "    </tr>\n",
       "    <tr>\n",
       "      <th>12</th>\n",
       "      <td>Dofloo-MalwareMustDie.csv</td>\n",
       "      <td>ethernet</td>\n",
       "      <td>grab</td>\n",
       "      <td>NET</td>\n",
       "      <td>^eth.*</td>\n",
       "      <td>0</td>\n",
       "      <td>0</td>\n",
       "      <td>how it grabs the ethernet data, or how this ma...</td>\n",
       "    </tr>\n",
       "    <tr>\n",
       "      <th>13</th>\n",
       "      <td>Dofloo-MalwareMustDie.csv</td>\n",
       "      <td>0x0002f120</td>\n",
       "      <td>r1,r2,r10,r11,lr</td>\n",
       "      <td>MEM</td>\n",
       "      <td>mem_addr</td>\n",
       "      <td>0</td>\n",
       "      <td>0</td>\n",
       "      <td>1 2 3 4 5 6 7 8 9 10 11 12 13 14 15 16 17 18 1...</td>\n",
       "    </tr>\n",
       "    <tr>\n",
       "      <th>14</th>\n",
       "      <td>Dofloo-MalwareMustDie.csv</td>\n",
       "      <td>0x0002fbf0</td>\n",
       "      <td>look</td>\n",
       "      <td>MEM</td>\n",
       "      <td>mem_addr</td>\n",
       "      <td>0</td>\n",
       "      <td>0</td>\n",
       "      <td>i look from its dcb data from where it was cal...</td>\n",
       "    </tr>\n",
       "    <tr>\n",
       "      <th>15</th>\n",
       "      <td>Dofloo-Securityaffairs.csv</td>\n",
       "      <td>/etc/rc.local</td>\n",
       "      <td>modify</td>\n",
       "      <td>FILE</td>\n",
       "      <td>/etc/rc\\.local</td>\n",
       "      <td>1</td>\n",
       "      <td>1</td>\n",
       "      <td>trend micro researchers also discovered that t...</td>\n",
       "    </tr>\n",
       "    <tr>\n",
       "      <th>16</th>\n",
       "      <td>Dofloo-Securityaffairs.csv</td>\n",
       "      <td>23.224.59.34:48080</td>\n",
       "      <td>connect</td>\n",
       "      <td>NET</td>\n",
       "      <td>ip_addr</td>\n",
       "      <td>1</td>\n",
       "      <td>1</td>\n",
       "      <td>the malware also connects to 23.224.59.34:4808...</td>\n",
       "    </tr>\n",
       "    <tr>\n",
       "      <th>17</th>\n",
       "      <td>Dofloo-Securityaffairs.csv</td>\n",
       "      <td>/etc/rc.d/rc.local,</td>\n",
       "      <td>None</td>\n",
       "      <td>FILE</td>\n",
       "      <td>/etc/rc.*\\.d/.*</td>\n",
       "      <td>0</td>\n",
       "      <td>0</td>\n",
       "      <td>None</td>\n",
       "    </tr>\n",
       "    <tr>\n",
       "      <th>18</th>\n",
       "      <td>Dofloo-Securityaffairs.csv</td>\n",
       "      <td>23.224.59.34:48080</td>\n",
       "      <td>connect</td>\n",
       "      <td>NET</td>\n",
       "      <td>ip_addr+port</td>\n",
       "      <td>1</td>\n",
       "      <td>1</td>\n",
       "      <td>the malware also connects to 23.224.59.34:4808...</td>\n",
       "    </tr>\n",
       "    <tr>\n",
       "      <th>19</th>\n",
       "      <td>Dofloo-SyscallParty.csv</td>\n",
       "      <td>‘uname’</td>\n",
       "      <td>None</td>\n",
       "      <td>INFO</td>\n",
       "      <td>uname(.|$)</td>\n",
       "      <td>0</td>\n",
       "      <td>0</td>\n",
       "      <td>None</td>\n",
       "    </tr>\n",
       "    <tr>\n",
       "      <th>20</th>\n",
       "      <td>Dofloo-SyscallParty.csv</td>\n",
       "      <td>/etc/init.d/boot.local</td>\n",
       "      <td>add</td>\n",
       "      <td>FILE</td>\n",
       "      <td>/etc/init\\.d/.*</td>\n",
       "      <td>1</td>\n",
       "      <td>1</td>\n",
       "      <td>persistence persistence is achieved by the mal...</td>\n",
       "    </tr>\n",
       "    <tr>\n",
       "      <th>21</th>\n",
       "      <td>Dofloo-SyscallParty.csv</td>\n",
       "      <td>/etc/rc.local</td>\n",
       "      <td>execute</td>\n",
       "      <td>FILE</td>\n",
       "      <td>/etc/rc\\.local</td>\n",
       "      <td>0</td>\n",
       "      <td>0</td>\n",
       "      <td>the /etc/rc.local will execute certain command...</td>\n",
       "    </tr>\n",
       "    <tr>\n",
       "      <th>22</th>\n",
       "      <td>Dofloo-SyscallParty.csv</td>\n",
       "      <td>vaddr=0x00013dec</td>\n",
       "      <td>give</td>\n",
       "      <td>MEM</td>\n",
       "      <td>mem_addr</td>\n",
       "      <td>0</td>\n",
       "      <td>0</td>\n",
       "      <td>which gives us the following output:  vaddr=0x...</td>\n",
       "    </tr>\n",
       "    <tr>\n",
       "      <th>23</th>\n",
       "      <td>Dofloo-SyscallParty.csv</td>\n",
       "      <td>/etc/rc.local</td>\n",
       "      <td>format</td>\n",
       "      <td>FILE</td>\n",
       "      <td>/etc/rc\\.local</td>\n",
       "      <td>1</td>\n",
       "      <td>1</td>\n",
       "      <td>a string is formatted and the sed program is c...</td>\n",
       "    </tr>\n",
       "    <tr>\n",
       "      <th>24</th>\n",
       "      <td>Dofloo-SyscallParty.csv</td>\n",
       "      <td>61.147.91.53.</td>\n",
       "      <td>None</td>\n",
       "      <td>NET</td>\n",
       "      <td>ip_addr</td>\n",
       "      <td>0</td>\n",
       "      <td>0</td>\n",
       "      <td>None</td>\n",
       "    </tr>\n",
       "    <tr>\n",
       "      <th>25</th>\n",
       "      <td>Dofloo-SyscallParty.csv</td>\n",
       "      <td>/proc/net/dev</td>\n",
       "      <td>read</td>\n",
       "      <td>FILE</td>\n",
       "      <td>/proc/net/dev</td>\n",
       "      <td>0</td>\n",
       "      <td>0</td>\n",
       "      <td>the way the malware gets information regarding...</td>\n",
       "    </tr>\n",
       "    <tr>\n",
       "      <th>26</th>\n",
       "      <td>Dofloo-SyscallParty.csv</td>\n",
       "      <td>/proc/self/exe</td>\n",
       "      <td>None</td>\n",
       "      <td>FILE</td>\n",
       "      <td>/proc/self</td>\n",
       "      <td>0</td>\n",
       "      <td>0</td>\n",
       "      <td>None</td>\n",
       "    </tr>\n",
       "    <tr>\n",
       "      <th>27</th>\n",
       "      <td>Dofloo-SyscallParty.csv</td>\n",
       "      <td>/etc/rc.local</td>\n",
       "      <td>add</td>\n",
       "      <td>FILE</td>\n",
       "      <td>/etc/rc\\.local</td>\n",
       "      <td>1</td>\n",
       "      <td>1</td>\n",
       "      <td>persistence persistence is achieved by the mal...</td>\n",
       "    </tr>\n",
       "    <tr>\n",
       "      <th>28</th>\n",
       "      <td>Dofloo-SyscallParty.csv</td>\n",
       "      <td>sed</td>\n",
       "      <td>format</td>\n",
       "      <td>PROC</td>\n",
       "      <td>^sed$</td>\n",
       "      <td>0</td>\n",
       "      <td>0</td>\n",
       "      <td>a string is formatted and the sed program is c...</td>\n",
       "    </tr>\n",
       "    <tr>\n",
       "      <th>29</th>\n",
       "      <td>Dofloo-Trendmicro.csv</td>\n",
       "      <td>/etc/rc.d/rc.local</td>\n",
       "      <td>se</td>\n",
       "      <td>FILE</td>\n",
       "      <td>/etc/rc.*\\.d/.*</td>\n",
       "      <td>0</td>\n",
       "      <td>0</td>\n",
       "      <td>installation  this backdoor adds the followin...</td>\n",
       "    </tr>\n",
       "    <tr>\n",
       "      <th>30</th>\n",
       "      <td>Dofloo-Trendmicro.csv</td>\n",
       "      <td>/etc/init.d/boot.local</td>\n",
       "      <td>start</td>\n",
       "      <td>FILE</td>\n",
       "      <td>/etc/init\\.d/.*</td>\n",
       "      <td>0</td>\n",
       "      <td>0</td>\n",
       "      <td>installation  this backdoor adds the followin...</td>\n",
       "    </tr>\n",
       "    <tr>\n",
       "      <th>31</th>\n",
       "      <td>Dofloo-Trendmicro.csv</td>\n",
       "      <td>/etc/rc.local</td>\n",
       "      <td>se</td>\n",
       "      <td>FILE</td>\n",
       "      <td>/etc/rc\\.local</td>\n",
       "      <td>0</td>\n",
       "      <td>0</td>\n",
       "      <td>installation  this backdoor adds the followin...</td>\n",
       "    </tr>\n",
       "    <tr>\n",
       "      <th>32</th>\n",
       "      <td>Dofloo-Trendmicro.csv</td>\n",
       "      <td>sed</td>\n",
       "      <td>se</td>\n",
       "      <td>PROC</td>\n",
       "      <td>^sed$</td>\n",
       "      <td>0</td>\n",
       "      <td>0</td>\n",
       "      <td>installation  this backdoor adds the followin...</td>\n",
       "    </tr>\n",
       "    <tr>\n",
       "      <th>33</th>\n",
       "      <td>Dofloo-Trendmicro.csv</td>\n",
       "      <td>/proc/stat</td>\n",
       "      <td>gather</td>\n",
       "      <td>FILE</td>\n",
       "      <td>/proc/stat</td>\n",
       "      <td>0</td>\n",
       "      <td>0</td>\n",
       "      <td>this backdoor gathers the following data:  cp...</td>\n",
       "    </tr>\n",
       "    <tr>\n",
       "      <th>34</th>\n",
       "      <td>Dofloo-Trendmicro.csv</td>\n",
       "      <td>/proc/net/dev</td>\n",
       "      <td>None</td>\n",
       "      <td>FILE</td>\n",
       "      <td>/proc/net/dev</td>\n",
       "      <td>0</td>\n",
       "      <td>0</td>\n",
       "      <td>None</td>\n",
       "    </tr>\n",
       "    <tr>\n",
       "      <th>35</th>\n",
       "      <td>Dofloo-Trendmicro.csv</td>\n",
       "      <td>/proc/self/exe</td>\n",
       "      <td>None</td>\n",
       "      <td>FILE</td>\n",
       "      <td>/proc/self</td>\n",
       "      <td>0</td>\n",
       "      <td>0</td>\n",
       "      <td>None</td>\n",
       "    </tr>\n",
       "  </tbody>\n",
       "</table>\n",
       "</div>"
      ],
      "text/plain": [
       "                        report                    word              verb  \\\n",
       "0    Dofloo-MalwareMustDie.csv              0x0002fbd0              find   \n",
       "1    Dofloo-MalwareMustDie.csv                     sed              None   \n",
       "2    Dofloo-MalwareMustDie.csv              0x0002fc5f            eserve   \n",
       "3    Dofloo-MalwareMustDie.csv              0x0002f118               add   \n",
       "4    Dofloo-MalwareMustDie.csv         182.254.180.241                be   \n",
       "5    Dofloo-MalwareMustDie.csv              0x000d0c24                be   \n",
       "6    Dofloo-MalwareMustDie.csv              0x0002fc0e              pack   \n",
       "7    Dofloo-MalwareMustDie.csv        182.254.180.0/23              None   \n",
       "8    Dofloo-MalwareMustDie.csv              0x0002fcab                go   \n",
       "9    Dofloo-MalwareMustDie.csv             0x6c00031a,              None   \n",
       "10   Dofloo-MalwareMustDie.csv              0x0002f144               svc   \n",
       "11   Dofloo-MalwareMustDie.csv              0x00008000              have   \n",
       "12   Dofloo-MalwareMustDie.csv                ethernet              grab   \n",
       "13   Dofloo-MalwareMustDie.csv              0x0002f120  r1,r2,r10,r11,lr   \n",
       "14   Dofloo-MalwareMustDie.csv              0x0002fbf0              look   \n",
       "15  Dofloo-Securityaffairs.csv           /etc/rc.local            modify   \n",
       "16  Dofloo-Securityaffairs.csv      23.224.59.34:48080           connect   \n",
       "17  Dofloo-Securityaffairs.csv     /etc/rc.d/rc.local,              None   \n",
       "18  Dofloo-Securityaffairs.csv      23.224.59.34:48080           connect   \n",
       "19     Dofloo-SyscallParty.csv                 ‘uname’              None   \n",
       "20     Dofloo-SyscallParty.csv  /etc/init.d/boot.local               add   \n",
       "21     Dofloo-SyscallParty.csv           /etc/rc.local           execute   \n",
       "22     Dofloo-SyscallParty.csv        vaddr=0x00013dec              give   \n",
       "23     Dofloo-SyscallParty.csv           /etc/rc.local            format   \n",
       "24     Dofloo-SyscallParty.csv           61.147.91.53.              None   \n",
       "25     Dofloo-SyscallParty.csv           /proc/net/dev              read   \n",
       "26     Dofloo-SyscallParty.csv          /proc/self/exe              None   \n",
       "27     Dofloo-SyscallParty.csv           /etc/rc.local               add   \n",
       "28     Dofloo-SyscallParty.csv                     sed            format   \n",
       "29       Dofloo-Trendmicro.csv      /etc/rc.d/rc.local                se   \n",
       "30       Dofloo-Trendmicro.csv  /etc/init.d/boot.local             start   \n",
       "31       Dofloo-Trendmicro.csv           /etc/rc.local                se   \n",
       "32       Dofloo-Trendmicro.csv                     sed                se   \n",
       "33       Dofloo-Trendmicro.csv              /proc/stat            gather   \n",
       "34       Dofloo-Trendmicro.csv           /proc/net/dev              None   \n",
       "35       Dofloo-Trendmicro.csv          /proc/self/exe              None   \n",
       "\n",
       "   objectType        prettyReg  match  label  \\\n",
       "0         MEM         mem_addr      0      0   \n",
       "1        PROC            ^sed$      0      0   \n",
       "2         MEM         mem_addr      0      0   \n",
       "3         MEM         mem_addr      0      0   \n",
       "4         NET          ip_addr      0      0   \n",
       "5         MEM         mem_addr      0      0   \n",
       "6         MEM         mem_addr      0      0   \n",
       "7         NET          ip_addr      0      0   \n",
       "8         MEM         mem_addr      0      0   \n",
       "9         MEM         mem_addr      0      0   \n",
       "10        MEM         mem_addr      0      0   \n",
       "11        MEM         mem_addr      0      0   \n",
       "12        NET           ^eth.*      0      0   \n",
       "13        MEM         mem_addr      0      0   \n",
       "14        MEM         mem_addr      0      0   \n",
       "15       FILE   /etc/rc\\.local      1      1   \n",
       "16        NET          ip_addr      1      1   \n",
       "17       FILE  /etc/rc.*\\.d/.*      0      0   \n",
       "18        NET     ip_addr+port      1      1   \n",
       "19       INFO       uname(.|$)      0      0   \n",
       "20       FILE  /etc/init\\.d/.*      1      1   \n",
       "21       FILE   /etc/rc\\.local      0      0   \n",
       "22        MEM         mem_addr      0      0   \n",
       "23       FILE   /etc/rc\\.local      1      1   \n",
       "24        NET          ip_addr      0      0   \n",
       "25       FILE    /proc/net/dev      0      0   \n",
       "26       FILE       /proc/self      0      0   \n",
       "27       FILE   /etc/rc\\.local      1      1   \n",
       "28       PROC            ^sed$      0      0   \n",
       "29       FILE  /etc/rc.*\\.d/.*      0      0   \n",
       "30       FILE  /etc/init\\.d/.*      0      0   \n",
       "31       FILE   /etc/rc\\.local      0      0   \n",
       "32       PROC            ^sed$      0      0   \n",
       "33       FILE       /proc/stat      0      0   \n",
       "34       FILE    /proc/net/dev      0      0   \n",
       "35       FILE       /proc/self      0      0   \n",
       "\n",
       "                                             sentence  \n",
       "0   1 2 3 4 5 6 7 8 9 10 11 12 13 14 15 16 17 18 1...  \n",
       "1                                                None  \n",
       "2   all rights r 0x0002fc5f                 dcb es...  \n",
       "3   1 2 3 4 5 6 7 8 9 10 11 12 13 14 15 16 17 18 1...  \n",
       "4   1 2 .text:0x09e68 ldr  r0, =unk_0x08c5c4  <-- ...  \n",
       "5   so as you can see it was served from sept 10th...  \n",
       "6   i look from its dcb data from where it was cal...  \n",
       "7                                                None  \n",
       "8   ,0x24,0xa,0 0x0002fcab                 dcb 0x0...  \n",
       "9                                                None  \n",
       "10  1 2 3 4 5 6 7 8 9 10 11 12 13 14 15 16 17 18 1...  \n",
       "11  so as you can see it was served from sept 10th...  \n",
       "12  how it grabs the ethernet data, or how this ma...  \n",
       "13  1 2 3 4 5 6 7 8 9 10 11 12 13 14 15 16 17 18 1...  \n",
       "14  i look from its dcb data from where it was cal...  \n",
       "15  trend micro researchers also discovered that t...  \n",
       "16  the malware also connects to 23.224.59.34:4808...  \n",
       "17                                               None  \n",
       "18  the malware also connects to 23.224.59.34:4808...  \n",
       "19                                               None  \n",
       "20  persistence persistence is achieved by the mal...  \n",
       "21  the /etc/rc.local will execute certain command...  \n",
       "22  which gives us the following output:  vaddr=0x...  \n",
       "23  a string is formatted and the sed program is c...  \n",
       "24                                               None  \n",
       "25  the way the malware gets information regarding...  \n",
       "26                                               None  \n",
       "27  persistence persistence is achieved by the mal...  \n",
       "28  a string is formatted and the sed program is c...  \n",
       "29   installation  this backdoor adds the followin...  \n",
       "30   installation  this backdoor adds the followin...  \n",
       "31   installation  this backdoor adds the followin...  \n",
       "32   installation  this backdoor adds the followin...  \n",
       "33   this backdoor gathers the following data:  cp...  \n",
       "34                                               None  \n",
       "35                                               None  "
      ]
     },
     "execution_count": 34,
     "metadata": {},
     "output_type": "execute_result"
    }
   ],
   "source": [
    "# 存檔所有 doc_OPset\n",
    "def save_docOPset(fset: FamilySet):\n",
    "    data = []\n",
    "    for idx_rem, rem in enumerate(fset.rem_lst):\n",
    "        ctd_opset:list[OperationPair] = list(rem.doc_OPset)\n",
    "        for op in ctd_opset:\n",
    "            data.append({\n",
    "                'report': rem.reportname,\n",
    "                'word': op.original_object,\n",
    "                'verb': op.action,\n",
    "                'objectType': op.object_type,\n",
    "                'prettyReg': prettifyName(op.object),\n",
    "                'match': 1 if op in rem.match_doc_OPset else 0, # verb 是否有比對到 syscall\n",
    "                'label': 1 if op in rem.match_doc_OPset else 0, # 人工標記的標籤 暫時先跟系統判斷一樣\n",
    "                'sentence': \" \".join(op.original_sentence.splitlines()) if op.original_sentence else None # flatten the sentence segment\n",
    "            })\n",
    "    # print(data)\n",
    "    df = pd.DataFrame(data)\n",
    "    df.to_csv(f'./result/00_{family}_docOPset.csv', index=False)\n",
    "    return df\n",
    "\n",
    "save_docOPset(fset)"
   ]
  },
  {
   "cell_type": "code",
   "execution_count": 28,
   "metadata": {},
   "outputs": [
    {
     "name": "stdout",
     "output_type": "stream",
     "text": [
      "Report: Dofloo-SyscallParty.csv. Matched OP count: 3\n",
      "--\n",
      "OP #5 add /etc/init\\.d/.* /etc/init.d/boot.local\n",
      "persistence\n",
      "persistence is achieved by the malware by adding to /etc/rc.local and the /etc/init.d/boot.local files (in the auto_boot function); however before it overwrites this file it first checks to see if it has already done so.\n",
      "--\n",
      "OP #8 format /etc/rc\\.local /etc/rc.local\n",
      "a string is formatted and the sed program is called which writes to the file in question (there are several string operations, such as sed -i -e '2 i%s/%s' /etc/rc.local is formatted for example).\n",
      "--\n",
      "OP #4 add /etc/rc\\.local /etc/rc.local\n",
      "persistence\n",
      "persistence is achieved by the malware by adding to /etc/rc.local and the /etc/init.d/boot.local files (in the auto_boot function); however before it overwrites this file it first checks to see if it has already done so.\n"
     ]
    }
   ],
   "source": [
    "# 印出特定 report 的 matched 句子\n",
    "report_id = 3\n",
    "reportname = fset.rem_lst[report_id].reportname\n",
    "print(f\"Report: {reportname}. Matched OP count: {len(fset.rem_lst[report_id].match_doc_OPset)}\")\n",
    "for i, op in enumerate(fset.rem_lst[report_id].match_doc_OPset):\n",
    "    print(f\"--\\nOP #{op.step_number} {op.action} {op.object} {op.original_object}\")\n",
    "    print(f\"{op.original_sentence}\")"
   ]
  },
  {
   "cell_type": "code",
   "execution_count": 18,
   "metadata": {},
   "outputs": [
    {
     "name": "stdout",
     "output_type": "stream",
     "text": [
      "{<OP 8 act=contain, obj=sh>, <OP 2 act=expose, obj=sed>, <OP 4 act=allow, obj=sed>, <OP11 act=None, obj=sed>, <OP 3 act=assemble, obj=sed>, <OP12 act=use, obj=sh>, <OP 1 act=scan, obj=sed>, <OP10 act=disclose, obj=sed>, <OP 5 act=gain, obj=sh>, <OP 6 act=depend, obj=sed>, <OP 7 act=execute, obj=sh>, <OP 9 act=contain, obj=sed>}\n",
      "{<OP 4 act=use, obj=sed>, <OP 7 act=None, obj=sed>, <OP 1 act=be, obj=PID.*>, <OP11 act=add, obj=sh>, <OP 6 act=None, obj=sh>, <OP 9 act=None, obj=ip_addr>, <OP 2 act=decide, obj=sh>, <OP 5 act=have, obj=sh>, <OP12 act=explain, obj=sh>, <OP10 act=be, obj=sed>, <OP 3 act=be, obj=sh>, <OP 8 act=be, obj=ip_addr>}\n",
      "{<OP 4 act=connect, obj=ip_addr>, <OP 5 act=receive, obj=sh>, <OP 2 act=download, obj=sh>, <OP 1 act=read, obj=sh>, <OP 8 act=None, obj=sed>, <OP 3 act=None, obj=sh>, <OP 7 act=None, obj=/etc/rc.*\\.d/.*>, <OP 6 act=modify, obj=/etc/rc\\.local>, <OP 9 act=be, obj=sh>}\n",
      "{<OP 8 act=use, obj=sed>, <OP 2 act=None, obj=sed>, <OP21 act=None, obj=ip_addr>, <OP13 act=format, obj=sed>, <OP 4 act=hold, obj=sed>, <OP15 act=see, obj=sed>, <OP23 act=’, obj=sed>, <OP 3 act=None, obj=sh>, <OP 6 act=None, obj=/proc/self>, <OP10 act=add, obj=/etc/init\\.d/.*>, <OP 1 act=force, obj=sh>, <OP18 act=see, obj=sh>, <OP20 act=look, obj=sh>, <OP 9 act=add, obj=/etc/rc\\.local>, <OP12 act=construct, obj=sh>, <OP 7 act=pass, obj=sed>, <OP14 act=format, obj=/etc/rc\\.local>, <OP 5 act=be, obj=sed>, <OP11 act=execute, obj=/etc/rc\\.local>, <OP24 act=indicate, obj=sed>, <OP17 act=read, obj=/proc/net/dev>, <OP22 act=pass, obj=sh>, <OP19 act=be, obj=sh>, <OP16 act=note, obj=sed>}\n",
      "{<OP 6 act=gather, obj=/proc/stat>, <OP 1 act=se, obj=sed>, <OP 9 act=None, obj=UID.*>, <OP 5 act=stop, obj=sh>, <OP 7 act=None, obj=/proc/net/dev>, <OP 2 act=se, obj=/etc/rc\\.local>, <OP 3 act=se, obj=/etc/rc.*\\.d/.*>, <OP 4 act=start, obj=/etc/init\\.d/.*>, <OP 8 act=None, obj=/proc/self>}\n"
     ]
    }
   ],
   "source": [
    "# 測試區\n",
    "for rem in fset.rem_lst:\n",
    "    print(rem.doc_OPset)"
   ]
  },
  {
   "cell_type": "code",
   "execution_count": 19,
   "metadata": {},
   "outputs": [
    {
     "data": {
      "text/html": [
       "<div>\n",
       "<style scoped>\n",
       "    .dataframe tbody tr th:only-of-type {\n",
       "        vertical-align: middle;\n",
       "    }\n",
       "\n",
       "    .dataframe tbody tr th {\n",
       "        vertical-align: top;\n",
       "    }\n",
       "\n",
       "    .dataframe thead th {\n",
       "        text-align: right;\n",
       "    }\n",
       "</style>\n",
       "<table border=\"1\" class=\"dataframe\">\n",
       "  <thead>\n",
       "    <tr style=\"text-align: right;\">\n",
       "      <th></th>\n",
       "      <th>bin/sed</th>\n",
       "      <th>/etc/rc</th>\n",
       "      <th>/etc/init.d/</th>\n",
       "      <th>/proc/</th>\n",
       "      <th>/etc/sed</th>\n",
       "      <th>/selinux</th>\n",
       "      <th>/sys/</th>\n",
       "      <th>bin/</th>\n",
       "      <th>lsb-release</th>\n",
       "      <th>uname(.)($)</th>\n",
       "      <th>...</th>\n",
       "      <th>^sh$</th>\n",
       "      <th>^sed$</th>\n",
       "      <th>\\d{1,3}\\.\\d{1,3}\\.\\d{1,3}\\.\\d{1,3}:\\d+</th>\n",
       "      <th>\\d{1,3}\\.\\d{1,3}\\.\\d{1,3}\\.\\d{1,3}</th>\n",
       "      <th>eth[0-9]$</th>\n",
       "      <th>0x[0-9a-zA-Z]{8}</th>\n",
       "      <th>permission:{0,1}[0-9]{0,4}</th>\n",
       "      <th>UID</th>\n",
       "      <th>GID</th>\n",
       "      <th>match</th>\n",
       "    </tr>\n",
       "  </thead>\n",
       "  <tbody>\n",
       "    <tr>\n",
       "      <th>0</th>\n",
       "      <td>0</td>\n",
       "      <td>0</td>\n",
       "      <td>0</td>\n",
       "      <td>0</td>\n",
       "      <td>0</td>\n",
       "      <td>0</td>\n",
       "      <td>0</td>\n",
       "      <td>0</td>\n",
       "      <td>0</td>\n",
       "      <td>0</td>\n",
       "      <td>...</td>\n",
       "      <td>0</td>\n",
       "      <td>0</td>\n",
       "      <td>0</td>\n",
       "      <td>0</td>\n",
       "      <td>0</td>\n",
       "      <td>0</td>\n",
       "      <td>0</td>\n",
       "      <td>0</td>\n",
       "      <td>0</td>\n",
       "      <td>0</td>\n",
       "    </tr>\n",
       "    <tr>\n",
       "      <th>1</th>\n",
       "      <td>0</td>\n",
       "      <td>0</td>\n",
       "      <td>0</td>\n",
       "      <td>0</td>\n",
       "      <td>0</td>\n",
       "      <td>0</td>\n",
       "      <td>0</td>\n",
       "      <td>0</td>\n",
       "      <td>0</td>\n",
       "      <td>0</td>\n",
       "      <td>...</td>\n",
       "      <td>0</td>\n",
       "      <td>0</td>\n",
       "      <td>0</td>\n",
       "      <td>0</td>\n",
       "      <td>0</td>\n",
       "      <td>0</td>\n",
       "      <td>0</td>\n",
       "      <td>0</td>\n",
       "      <td>0</td>\n",
       "      <td>0</td>\n",
       "    </tr>\n",
       "    <tr>\n",
       "      <th>2</th>\n",
       "      <td>0</td>\n",
       "      <td>0</td>\n",
       "      <td>0</td>\n",
       "      <td>0</td>\n",
       "      <td>0</td>\n",
       "      <td>0</td>\n",
       "      <td>0</td>\n",
       "      <td>0</td>\n",
       "      <td>0</td>\n",
       "      <td>0</td>\n",
       "      <td>...</td>\n",
       "      <td>0</td>\n",
       "      <td>0</td>\n",
       "      <td>0</td>\n",
       "      <td>0</td>\n",
       "      <td>0</td>\n",
       "      <td>0</td>\n",
       "      <td>0</td>\n",
       "      <td>0</td>\n",
       "      <td>0</td>\n",
       "      <td>0</td>\n",
       "    </tr>\n",
       "    <tr>\n",
       "      <th>3</th>\n",
       "      <td>0</td>\n",
       "      <td>0</td>\n",
       "      <td>0</td>\n",
       "      <td>0</td>\n",
       "      <td>0</td>\n",
       "      <td>0</td>\n",
       "      <td>0</td>\n",
       "      <td>0</td>\n",
       "      <td>0</td>\n",
       "      <td>0</td>\n",
       "      <td>...</td>\n",
       "      <td>0</td>\n",
       "      <td>0</td>\n",
       "      <td>0</td>\n",
       "      <td>0</td>\n",
       "      <td>0</td>\n",
       "      <td>0</td>\n",
       "      <td>0</td>\n",
       "      <td>0</td>\n",
       "      <td>0</td>\n",
       "      <td>0</td>\n",
       "    </tr>\n",
       "    <tr>\n",
       "      <th>4</th>\n",
       "      <td>0</td>\n",
       "      <td>0</td>\n",
       "      <td>0</td>\n",
       "      <td>0</td>\n",
       "      <td>0</td>\n",
       "      <td>0</td>\n",
       "      <td>0</td>\n",
       "      <td>0</td>\n",
       "      <td>0</td>\n",
       "      <td>0</td>\n",
       "      <td>...</td>\n",
       "      <td>0</td>\n",
       "      <td>0</td>\n",
       "      <td>0</td>\n",
       "      <td>0</td>\n",
       "      <td>0</td>\n",
       "      <td>0</td>\n",
       "      <td>0</td>\n",
       "      <td>0</td>\n",
       "      <td>0</td>\n",
       "      <td>0</td>\n",
       "    </tr>\n",
       "    <tr>\n",
       "      <th>5</th>\n",
       "      <td>0</td>\n",
       "      <td>0</td>\n",
       "      <td>0</td>\n",
       "      <td>0</td>\n",
       "      <td>0</td>\n",
       "      <td>0</td>\n",
       "      <td>0</td>\n",
       "      <td>0</td>\n",
       "      <td>0</td>\n",
       "      <td>0</td>\n",
       "      <td>...</td>\n",
       "      <td>0</td>\n",
       "      <td>0</td>\n",
       "      <td>0</td>\n",
       "      <td>0</td>\n",
       "      <td>0</td>\n",
       "      <td>0</td>\n",
       "      <td>0</td>\n",
       "      <td>0</td>\n",
       "      <td>0</td>\n",
       "      <td>0</td>\n",
       "    </tr>\n",
       "    <tr>\n",
       "      <th>6</th>\n",
       "      <td>0</td>\n",
       "      <td>0</td>\n",
       "      <td>0</td>\n",
       "      <td>0</td>\n",
       "      <td>0</td>\n",
       "      <td>0</td>\n",
       "      <td>0</td>\n",
       "      <td>0</td>\n",
       "      <td>0</td>\n",
       "      <td>0</td>\n",
       "      <td>...</td>\n",
       "      <td>0</td>\n",
       "      <td>0</td>\n",
       "      <td>0</td>\n",
       "      <td>0</td>\n",
       "      <td>0</td>\n",
       "      <td>0</td>\n",
       "      <td>0</td>\n",
       "      <td>0</td>\n",
       "      <td>0</td>\n",
       "      <td>0</td>\n",
       "    </tr>\n",
       "    <tr>\n",
       "      <th>7</th>\n",
       "      <td>0</td>\n",
       "      <td>0</td>\n",
       "      <td>0</td>\n",
       "      <td>0</td>\n",
       "      <td>0</td>\n",
       "      <td>0</td>\n",
       "      <td>0</td>\n",
       "      <td>0</td>\n",
       "      <td>0</td>\n",
       "      <td>0</td>\n",
       "      <td>...</td>\n",
       "      <td>0</td>\n",
       "      <td>0</td>\n",
       "      <td>0</td>\n",
       "      <td>0</td>\n",
       "      <td>0</td>\n",
       "      <td>0</td>\n",
       "      <td>0</td>\n",
       "      <td>0</td>\n",
       "      <td>0</td>\n",
       "      <td>0</td>\n",
       "    </tr>\n",
       "    <tr>\n",
       "      <th>8</th>\n",
       "      <td>0</td>\n",
       "      <td>0</td>\n",
       "      <td>0</td>\n",
       "      <td>0</td>\n",
       "      <td>0</td>\n",
       "      <td>0</td>\n",
       "      <td>0</td>\n",
       "      <td>0</td>\n",
       "      <td>0</td>\n",
       "      <td>0</td>\n",
       "      <td>...</td>\n",
       "      <td>0</td>\n",
       "      <td>0</td>\n",
       "      <td>0</td>\n",
       "      <td>0</td>\n",
       "      <td>0</td>\n",
       "      <td>0</td>\n",
       "      <td>0</td>\n",
       "      <td>0</td>\n",
       "      <td>0</td>\n",
       "      <td>0</td>\n",
       "    </tr>\n",
       "    <tr>\n",
       "      <th>9</th>\n",
       "      <td>0</td>\n",
       "      <td>0</td>\n",
       "      <td>0</td>\n",
       "      <td>0</td>\n",
       "      <td>0</td>\n",
       "      <td>0</td>\n",
       "      <td>0</td>\n",
       "      <td>0</td>\n",
       "      <td>0</td>\n",
       "      <td>0</td>\n",
       "      <td>...</td>\n",
       "      <td>0</td>\n",
       "      <td>0</td>\n",
       "      <td>0</td>\n",
       "      <td>0</td>\n",
       "      <td>0</td>\n",
       "      <td>0</td>\n",
       "      <td>0</td>\n",
       "      <td>0</td>\n",
       "      <td>0</td>\n",
       "      <td>0</td>\n",
       "    </tr>\n",
       "    <tr>\n",
       "      <th>10</th>\n",
       "      <td>0</td>\n",
       "      <td>0</td>\n",
       "      <td>0</td>\n",
       "      <td>0</td>\n",
       "      <td>0</td>\n",
       "      <td>0</td>\n",
       "      <td>0</td>\n",
       "      <td>0</td>\n",
       "      <td>0</td>\n",
       "      <td>0</td>\n",
       "      <td>...</td>\n",
       "      <td>0</td>\n",
       "      <td>0</td>\n",
       "      <td>0</td>\n",
       "      <td>0</td>\n",
       "      <td>0</td>\n",
       "      <td>0</td>\n",
       "      <td>0</td>\n",
       "      <td>0</td>\n",
       "      <td>0</td>\n",
       "      <td>0</td>\n",
       "    </tr>\n",
       "    <tr>\n",
       "      <th>11</th>\n",
       "      <td>0</td>\n",
       "      <td>0</td>\n",
       "      <td>0</td>\n",
       "      <td>0</td>\n",
       "      <td>0</td>\n",
       "      <td>0</td>\n",
       "      <td>0</td>\n",
       "      <td>0</td>\n",
       "      <td>0</td>\n",
       "      <td>0</td>\n",
       "      <td>...</td>\n",
       "      <td>0</td>\n",
       "      <td>0</td>\n",
       "      <td>0</td>\n",
       "      <td>0</td>\n",
       "      <td>0</td>\n",
       "      <td>0</td>\n",
       "      <td>0</td>\n",
       "      <td>0</td>\n",
       "      <td>0</td>\n",
       "      <td>0</td>\n",
       "    </tr>\n",
       "    <tr>\n",
       "      <th>12</th>\n",
       "      <td>0</td>\n",
       "      <td>0</td>\n",
       "      <td>0</td>\n",
       "      <td>0</td>\n",
       "      <td>0</td>\n",
       "      <td>0</td>\n",
       "      <td>0</td>\n",
       "      <td>0</td>\n",
       "      <td>0</td>\n",
       "      <td>0</td>\n",
       "      <td>...</td>\n",
       "      <td>0</td>\n",
       "      <td>0</td>\n",
       "      <td>0</td>\n",
       "      <td>0</td>\n",
       "      <td>0</td>\n",
       "      <td>0</td>\n",
       "      <td>0</td>\n",
       "      <td>0</td>\n",
       "      <td>0</td>\n",
       "      <td>0</td>\n",
       "    </tr>\n",
       "    <tr>\n",
       "      <th>13</th>\n",
       "      <td>0</td>\n",
       "      <td>0</td>\n",
       "      <td>0</td>\n",
       "      <td>0</td>\n",
       "      <td>0</td>\n",
       "      <td>0</td>\n",
       "      <td>0</td>\n",
       "      <td>0</td>\n",
       "      <td>0</td>\n",
       "      <td>0</td>\n",
       "      <td>...</td>\n",
       "      <td>0</td>\n",
       "      <td>0</td>\n",
       "      <td>0</td>\n",
       "      <td>0</td>\n",
       "      <td>0</td>\n",
       "      <td>0</td>\n",
       "      <td>0</td>\n",
       "      <td>0</td>\n",
       "      <td>0</td>\n",
       "      <td>0</td>\n",
       "    </tr>\n",
       "    <tr>\n",
       "      <th>14</th>\n",
       "      <td>0</td>\n",
       "      <td>0</td>\n",
       "      <td>0</td>\n",
       "      <td>0</td>\n",
       "      <td>0</td>\n",
       "      <td>0</td>\n",
       "      <td>0</td>\n",
       "      <td>0</td>\n",
       "      <td>0</td>\n",
       "      <td>0</td>\n",
       "      <td>...</td>\n",
       "      <td>0</td>\n",
       "      <td>0</td>\n",
       "      <td>0</td>\n",
       "      <td>0</td>\n",
       "      <td>0</td>\n",
       "      <td>0</td>\n",
       "      <td>0</td>\n",
       "      <td>0</td>\n",
       "      <td>0</td>\n",
       "      <td>0</td>\n",
       "    </tr>\n",
       "  </tbody>\n",
       "</table>\n",
       "<p>15 rows × 24 columns</p>\n",
       "</div>"
      ],
      "text/plain": [
       "    bin/sed  /etc/rc  /etc/init.d/  /proc/  /etc/sed  /selinux  /sys/  bin/  \\\n",
       "0         0        0             0       0         0         0      0     0   \n",
       "1         0        0             0       0         0         0      0     0   \n",
       "2         0        0             0       0         0         0      0     0   \n",
       "3         0        0             0       0         0         0      0     0   \n",
       "4         0        0             0       0         0         0      0     0   \n",
       "5         0        0             0       0         0         0      0     0   \n",
       "6         0        0             0       0         0         0      0     0   \n",
       "7         0        0             0       0         0         0      0     0   \n",
       "8         0        0             0       0         0         0      0     0   \n",
       "9         0        0             0       0         0         0      0     0   \n",
       "10        0        0             0       0         0         0      0     0   \n",
       "11        0        0             0       0         0         0      0     0   \n",
       "12        0        0             0       0         0         0      0     0   \n",
       "13        0        0             0       0         0         0      0     0   \n",
       "14        0        0             0       0         0         0      0     0   \n",
       "\n",
       "    lsb-release  uname(.)($)  ...  ^sh$  ^sed$  \\\n",
       "0             0            0  ...     0      0   \n",
       "1             0            0  ...     0      0   \n",
       "2             0            0  ...     0      0   \n",
       "3             0            0  ...     0      0   \n",
       "4             0            0  ...     0      0   \n",
       "5             0            0  ...     0      0   \n",
       "6             0            0  ...     0      0   \n",
       "7             0            0  ...     0      0   \n",
       "8             0            0  ...     0      0   \n",
       "9             0            0  ...     0      0   \n",
       "10            0            0  ...     0      0   \n",
       "11            0            0  ...     0      0   \n",
       "12            0            0  ...     0      0   \n",
       "13            0            0  ...     0      0   \n",
       "14            0            0  ...     0      0   \n",
       "\n",
       "    \\d{1,3}\\.\\d{1,3}\\.\\d{1,3}\\.\\d{1,3}:\\d+  \\\n",
       "0                                        0   \n",
       "1                                        0   \n",
       "2                                        0   \n",
       "3                                        0   \n",
       "4                                        0   \n",
       "5                                        0   \n",
       "6                                        0   \n",
       "7                                        0   \n",
       "8                                        0   \n",
       "9                                        0   \n",
       "10                                       0   \n",
       "11                                       0   \n",
       "12                                       0   \n",
       "13                                       0   \n",
       "14                                       0   \n",
       "\n",
       "    \\d{1,3}\\.\\d{1,3}\\.\\d{1,3}\\.\\d{1,3}  eth[0-9]$  0x[0-9a-zA-Z]{8}  \\\n",
       "0                                    0          0                 0   \n",
       "1                                    0          0                 0   \n",
       "2                                    0          0                 0   \n",
       "3                                    0          0                 0   \n",
       "4                                    0          0                 0   \n",
       "5                                    0          0                 0   \n",
       "6                                    0          0                 0   \n",
       "7                                    0          0                 0   \n",
       "8                                    0          0                 0   \n",
       "9                                    0          0                 0   \n",
       "10                                   0          0                 0   \n",
       "11                                   0          0                 0   \n",
       "12                                   0          0                 0   \n",
       "13                                   0          0                 0   \n",
       "14                                   0          0                 0   \n",
       "\n",
       "    permission:{0,1}[0-9]{0,4}  UID  GID  match  \n",
       "0                            0    0    0      0  \n",
       "1                            0    0    0      0  \n",
       "2                            0    0    0      0  \n",
       "3                            0    0    0      0  \n",
       "4                            0    0    0      0  \n",
       "5                            0    0    0      0  \n",
       "6                            0    0    0      0  \n",
       "7                            0    0    0      0  \n",
       "8                            0    0    0      0  \n",
       "9                            0    0    0      0  \n",
       "10                           0    0    0      0  \n",
       "11                           0    0    0      0  \n",
       "12                           0    0    0      0  \n",
       "13                           0    0    0      0  \n",
       "14                           0    0    0      0  \n",
       "\n",
       "[15 rows x 24 columns]"
      ]
     },
     "metadata": {},
     "output_type": "display_data"
    }
   ],
   "source": [
    "for rem in fset.rem_lst:\n",
    "    display(rem.get_match_sentences())\n",
    "    break"
   ]
  },
  {
   "cell_type": "code",
   "execution_count": null,
   "metadata": {},
   "outputs": [],
   "source": []
  }
 ],
 "metadata": {
  "kernelspec": {
   "display_name": "Python 3.10.5 64-bit",
   "language": "python",
   "name": "python3"
  },
  "language_info": {
   "codemirror_mode": {
    "name": "ipython",
    "version": 3
   },
   "file_extension": ".py",
   "mimetype": "text/x-python",
   "name": "python",
   "nbconvert_exporter": "python",
   "pygments_lexer": "ipython3",
   "version": "3.10.5"
  },
  "orig_nbformat": 4,
  "vscode": {
   "interpreter": {
    "hash": "125a1d8b627fe68767755740015967bae857d08bb92fb3fd0d9d8ed24f978d39"
   }
  }
 },
 "nbformat": 4,
 "nbformat_minor": 2
}
