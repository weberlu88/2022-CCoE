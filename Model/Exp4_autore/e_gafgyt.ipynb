{
 "cells": [
  {
   "cell_type": "code",
   "execution_count": 1,
   "metadata": {},
   "outputs": [
    {
     "name": "stderr",
     "output_type": "stream",
     "text": [
      "c:\\Users\\luweb\\AppData\\Local\\Programs\\Python\\Python310\\lib\\site-packages\\tqdm\\auto.py:22: TqdmWarning:IProgress not found. Please update jupyter and ipywidgets. See https://ipywidgets.readthedocs.io/en/stable/user_install.html\n"
     ]
    }
   ],
   "source": [
    "import re\n",
    "import os\n",
    "from os import listdir\n",
    "from os.path import isfile, join\n",
    "from pathlib import Path\n",
    "import pandas as pd\n",
    "import json\n",
    "import pickle\n",
    "from typing import Dict, List, get_type_hints\n",
    "from styleframe import StyleFrame, Styler\n",
    "from IPython.display import display\n",
    "\n",
    "''' 自己寫的模組 '''\n",
    "from cc_regex_script import RegexMatchResult, RegexMaster \n",
    "from cc_nlp_script import find_verb_of_vocab, OperationMode, OperationEvaluator\n",
    "from ASG import AttackGraph, Node, Edge, FileTable #, build\n",
    "import Utility"
   ]
  },
  {
   "attachments": {},
   "cell_type": "markdown",
   "metadata": {},
   "source": [
    "### Load 所有 ASG 的 trace logs"
   ]
  },
  {
   "cell_type": "code",
   "execution_count": 2,
   "metadata": {},
   "outputs": [
    {
     "name": "stdout",
     "output_type": "stream",
     "text": [
      "samplename: ['933e9eff97f50b196b2bb0fef499640e']\n"
     ]
    }
   ],
   "source": [
    "family = 'Gafgyt' # Dofloo Xorddos Darlloz\n",
    "\n",
    "# sample_info = pd.read_csv('../../C malware info/sample_info.csv')\n",
    "# dofloo_info = sample_info[(sample_info['family'] == family) & \n",
    "#             (~sample_info['filename'].isin(['8845355172c485813872f1bb1834de15.bin']))]\n",
    "# samplename_lst = dofloo_info['filename'].to_list()\n",
    "# samplename_lst = [name.split('.')[0] for name in samplename_lst]\n",
    "# print(f\"family {family} has numOfSample {len(samplename_lst)}, first is {samplename_lst[0]}\")\n",
    "\n",
    "if family == 'Dofloo':\n",
    "    samplename_lst = ['0046a78514a658b9b7a4e29e8581f85b'] # 只先使用這個 dof sample\n",
    "if family == 'Xorddos':\n",
    "    samplename_lst = ['0aefb67c01a24d05351b093455203fa2'] # 只先使用這個 xor sample\n",
    "if family == 'Darlloz':\n",
    "    samplename_lst = ['dfeb77cb0ba28ac3ba4be55d7bc91fad'] # 只先使用這個 dar sample\n",
    "if family == 'Gafgyt':\n",
    "    samplename_lst = ['933e9eff97f50b196b2bb0fef499640e'] # 只先使用這個 gaf sample\n",
    "\n",
    "print('samplename:', samplename_lst)"
   ]
  },
  {
   "cell_type": "code",
   "execution_count": 3,
   "metadata": {},
   "outputs": [
    {
     "name": "stdout",
     "output_type": "stream",
     "text": [
      "True\n",
      "{<OP act=a, obj=a>}\n"
     ]
    }
   ],
   "source": [
    "def prettifyName(item:str) -> str:\n",
    "    pretty_name = {\n",
    "        r\"\\d{1,3}\\.\\d{1,3}\\.\\d{1,3}\\.\\d{1,3}\": \"ip_addr\",\n",
    "        r\"\\d{1,3}\\.\\d{1,3}\\.\\d{1,3}\\.\\d{1,3}:\\d+\": \"ip_addr+port\",\n",
    "        r\"\\d{1,3}\\.\\d{1,3}\\.\\d{1,3}\\.\\d{1,3}:d+\":  \"ip_addr+port\",\n",
    "        r\"0x[0-9a-zA-Z]{8}\": \"mem_addr\",\n",
    "        r\"Permission:[0-9]{3}\":        \"permission_id\",\n",
    "        r\"permission:{0,1}[0-9]{0,4}\": \"permission_id\"\n",
    "    }\n",
    "    changed = pretty_name.get(item, None)\n",
    "    if changed:\n",
    "        return changed\n",
    "    return item\n",
    "\n",
    "class PrettyJson(dict):\n",
    "\tdef __str__(self):\n",
    "\t\treturn json.dumps(self, indent=4, sort_keys=True)\n",
    "# myJSON = PrettyJson(student) # usage\n",
    "\n",
    "class OperationPair:\n",
    "    SYSCALL = 0\n",
    "    VERB = 1    # not use now (may cause confused)\n",
    "\n",
    "    def __init__(self, action:str, object:str, isSyscall:bool=False, subject:str=None, \\\n",
    "                 step_number:int=None , original_object=None, \\\n",
    "                 original_sentence=None, object_type=None):\n",
    "        self.object:str = object # regex\n",
    "        self.action:str = action # verb or syscall\n",
    "        self.isSyscall:bool = isSyscall # action type (syscall or verb)\n",
    "        self.object_type:str = object_type # FILE, NET, PROC, MEM, INFO\n",
    "        self.subject:str = subject\n",
    "        self.step_number:int = step_number\n",
    "        self.original_object:str = original_object # can store original matched word (object) from CTD\n",
    "        self.original_sentence:str = original_sentence # can store the mathced sentence\n",
    "        self.altVerb:str = None # can store the alternative verb if the origin verb is not in the rule\n",
    "        pass\n",
    "\n",
    "    def __eq__(self, other): \n",
    "        if not isinstance(other, OperationPair):\n",
    "            # don't attempt to compare against unrelated types\n",
    "            return NotImplemented\n",
    "        # Same if <action, object> pair is same (type is not consider yet)\n",
    "        return self.action == other.action and self.object == other.object\n",
    "\n",
    "    def __hash__(self) -> int:\n",
    "        # necessary for instances to behave sanely in dicts and sets.\n",
    "        return hash((self.action, self.object))\n",
    "\n",
    "    def _getActionStr(self) -> str:\n",
    "        if self.isSyscall:\n",
    "            return f\"{self.action}()\"\n",
    "        return self.action\n",
    "    def __str__(self) -> str:\n",
    "        if self.step_number:\n",
    "            return f\"<OP{self.step_number:>2} act={self._getActionStr()}, obj={prettifyName(self.object)}>\"\n",
    "        return f\"<OP act={self._getActionStr()}, obj={prettifyName(self.object)}>\"\n",
    "    def __repr__(self) -> str:\n",
    "        return str(self)\n",
    "    def getSentStr(self) -> str:\n",
    "        '''return string contains original_object & flat_sentence'''\n",
    "        flat_sentence = \" \".join(self.original_sentence.splitlines())\n",
    "        return f\"<OP{self.step_number:>2} act={self._getActionStr()}, obj={prettifyName(self.original_object)}, sent={flat_sentence}>\"\n",
    "        \n",
    "# test case\n",
    "p_aa = OperationPair('a','a')\n",
    "p_aaz = OperationPair('a','a')\n",
    "p_ab = OperationPair('a','b')\n",
    "\n",
    "print(p_aa == p_aaz) # True\n",
    "print(set([p_aa, p_aaz])) # one element\n",
    "\n",
    "def construct_sample_OPset(step_list: list, regexMaster:RegexMaster, keep_src_node=False, debug=False, rt_order=True) -> set:\n",
    "    '''return a list of OPset. RegexMaster and family are gobal variable.'''\n",
    "    if debug:\n",
    "        print('step_list len:', len(set(step_list)))\n",
    "    OPlst_raw = list((src_node.name, dst_node.name, syscall) for (src_node, dst_node, syscall) in step_list) # object is raw\n",
    "    OPset_raw = list(dict.fromkeys(OPlst_raw))\n",
    "    if debug:\n",
    "        print('OPlst_raw len:', len(OPlst_raw)) # why len is 123100? (while step_list len is 7775) (must be equal)\n",
    "        print(f\"OPlst_raw: {OPlst_raw[:10]}\")\n",
    "        print('OPset_raw len:', len(OPset_raw)) # len is 5925 for xor\n",
    "        print(f\"OPset_raw: {OPset_raw[:10]}\")\n",
    "    # regexMaster = RegexMaster()\n",
    "    # regex_pool = regexMaster.get_all_regex()\n",
    "    OPset = set()\n",
    "    OPset_ordered = list()\n",
    "    for (src_node, dst_node, syscall) in OPset_raw:\n",
    "        # regex_dst_node_list = RegexMaster.find_spacial_token_with_regex(regex_pool, dst_node)\n",
    "        regex_dst_node_list:list[RegexMatchResult] = regexMaster.find_spacial_token(dst_node)\n",
    "        if regex_dst_node_list is None or len(regex_dst_node_list) == 0:\n",
    "            continue\n",
    "        for regex_result in regex_dst_node_list:\n",
    "            dst_node = regex_result.match_regex\n",
    "            step_number = len(OPset) + 1\n",
    "            if keep_src_node:\n",
    "                op = OperationPair(syscall, dst_node, subject=src_node, isSyscall=True,\\\n",
    "                                   step_number=step_number, object_type=regex_result.type)\n",
    "                OPset.add(op) # keep src_node in OP\n",
    "                if op not in OPset_ordered:\n",
    "                    OPset_ordered.append(op)\n",
    "            else:\n",
    "                op = OperationPair(syscall, dst_node, isSyscall=True,\\\n",
    "                                   step_number=step_number, object_type=regex_result.type)\n",
    "                OPset.add(op) # only dst_node, syscall in OP\n",
    "                if op not in OPset_ordered:\n",
    "                    OPset_ordered.append(op)\n",
    "    if debug:\n",
    "        print('OPset len:', len(OPset), 'OPset_ordered len:', len(OPset_ordered))\n",
    "    if rt_order:\n",
    "        return OPset, OPset_ordered\n",
    "    return OPset\n",
    "\n",
    "# test\n",
    "# sample_OPset = construct_sample_OPset(asg.step_list, debug=True)"
   ]
  },
  {
   "attachments": {},
   "cell_type": "markdown",
   "metadata": {},
   "source": [
    "### Create ASG object and Sample object，計算並儲存其 regex"
   ]
  },
  {
   "cell_type": "code",
   "execution_count": 4,
   "metadata": {},
   "outputs": [
    {
     "name": "stdout",
     "output_type": "stream",
     "text": [
      "path is correct: True\n",
      "Exam: sample S1 matches 9 of regex, # of unique raw objects: 36, # of unique steps: 79\n",
      "Size of total_used_regex: 9\n",
      "Node before reduction:  37\n",
      "Nodes after reduction:  37\n"
     ]
    }
   ],
   "source": [
    "class Sample:\n",
    "    def __init__(self, samplename:str, regex_set:set=None, special_token_dict=None, \\\n",
    "                 step_list=None, regexMaster=None) -> None:\n",
    "        self.samplename: str = samplename\n",
    "        self.regexMaster = None\n",
    "        if regexMaster:\n",
    "            self.regexMaster = regexMaster\n",
    "        self.regex_set: set = set()\n",
    "        if regex_set:\n",
    "            self.regex_set = regex_set\n",
    "        self.special_token_dict = {}\n",
    "        if special_token_dict:\n",
    "            self.special_token_dict: dict = special_token_dict # list of dict\n",
    "        if step_list:\n",
    "            self.step_list = step_list\n",
    "            OPset, OPset_ordered = construct_sample_OPset(step_list, self.regexMaster)\n",
    "            self.OPset: set[OperationPair] = OPset\n",
    "            self.OPset_ordered: list[OperationPair] = OPset_ordered # 依照出現順序排序的 OPset (元素相同順序不同)\n",
    "            self.OPset_sysOnly_ordered = [] # 尚未初始化 只儲存改變系統狀態的 OP 的物件\n",
    "            self.OPset_sysOnly_ordered_index = [] # 尚未初始化 只儲存改變系統狀態的 OP 的 index\n",
    "            del OPset, OPset_ordered\n",
    "        pass\n",
    "    def __repr__(self) -> str:\n",
    "        return f\"<Sample self.samplename>\"\n",
    "\n",
    "''' 讀取 ASG 中的 set_of_object (就是這個樣本的 special_token_dict)，並歸納樣本的 regex_set '''\n",
    "# regexMaster = RegexMaster()\n",
    "# regex_pool = regexMaster.get_all_regex()\n",
    "# total_used_regex = set()\n",
    "samples: list[Sample] = []\n",
    "total_used_regex = set()\n",
    "for samplename in samplename_lst:\n",
    "\n",
    "    trace_path = f\"../../C ASG/trace/{family}/{samplename}.bin\"\n",
    "    print(\"path is correct:\", os.path.exists(trace_path))\n",
    "    asg = AttackGraph(trace_path)\n",
    "    asg.create()\n",
    "\n",
    "    regexMaster = RegexMaster(asg)\n",
    "\n",
    "    sample = Sample(samplename, special_token_dict=asg.set_of_object, step_list=asg.step_list, \\\n",
    "                    regexMaster=regexMaster)\n",
    "    sample.regex_set = regexMaster.get_used_regex() # used_regex_set has bug 有些抓不到\n",
    "    samples.append(sample)\n",
    "    total_used_regex = total_used_regex | sample.regex_set\n",
    "\n",
    "    # with open(f'../../C ASG statistics 1115ver/saved_pkl/{family}/{samplename}.pkl', 'rb') as inp:\n",
    "    #     # asg: AttackGraph = pickle.load(inp) # asg.set_of_object is dict() (key:spacial token, value: type 首字大寫)\n",
    "    #     sample = Sample(samplename, special_token_dict=asg.set_of_object, step_list=asg.step_list)\n",
    "    #     regexMaster = RegexMaster(asg)\n",
    "    #     regex_pool = regexMaster.get_all_regex()\n",
    "    #     sample.regex_set = set(regex_pool) # 直接使用志剛寫的作為這個樣本的 baseline\n",
    "    #     # for obj in sample.special_token_dict.keys():\n",
    "    #     #     matched_list: list[RegexMatchResult] = regexMaster.find_spacial_token(obj)\n",
    "    #     #     if matched_list:\n",
    "    #     #         # print(obj, matched_list)\n",
    "    #     #         [sample.regex_set.add(m.match_regex) for m in matched_list]\n",
    "    #     #         # [total_used_regex.add(m.match_regex) for m in matched_list]\n",
    "    #     # print('------', sample.regex_set)\n",
    "    #     # break\n",
    "    #     samples.append(sample)\n",
    "    # del asg\n",
    "seen_node_S, seen_node_O = Utility.create_set_of_objects(asg)\n",
    "raw_objects = set(seen_node_S)\n",
    "raw_objects.update(seen_node_O)\n",
    "print(f'Exam: sample S1 matches {len(samples[0].regex_set)} of regex, # of unique raw objects: {len(raw_objects)}\\\n",
    ", # of unique steps: {len(Utility.get_uni_step(asg))}')\n",
    "print(f'Size of total_used_regex: {len(total_used_regex)}')\n",
    "regex_match_file, regex_non_match_file = Utility.build_file_regex(Utility.get_set_of_objects_file(asg), Utility.build_RULES_DICT()) # file re -> obj relation\n",
    "\n",
    "# Create Visualization Instance\n",
    "img_path = '../../Graph & Diagram/'\n",
    "g = asg.draw(True)\n",
    "g.render(f\"{img_path}{family}\", format='svg') #  view=True # save svg img file, and a dot file\n",
    "del g"
   ]
  },
  {
   "cell_type": "code",
   "execution_count": 5,
   "metadata": {},
   "outputs": [
    {
     "name": "stdout",
     "output_type": "stream",
     "text": [
      "0 info []\n",
      "3 file ['/.*bin/watchdog', '/proc/net/route', '/.*bin/python']\n",
      "3 net ['\\\\d{1,3}\\\\.\\\\d{1,3}\\\\.\\\\d{1,3}\\\\.\\\\d{1,3}', 'port \\\\d+', '\\\\d{1,3}\\\\.\\\\d{1,3}\\\\.\\\\d{1,3}\\\\.\\\\d{1,3}:\\\\d+']\n",
      "2 ID ['^UID.*', '^PID.*']\n",
      "0 proc []\n",
      "1 mem ['0x[0-9a-zA-Z]{8}']\n"
     ]
    }
   ],
   "source": [
    "print(len(regexMaster.info_regex),'info',regexMaster.info_regex)\n",
    "print(len(regexMaster.file_regex),'file',regexMaster.file_regex)\n",
    "print(len(regexMaster.net_regex),'net',regexMaster.net_regex)\n",
    "print(len(regexMaster.ID_regex),'ID',regexMaster.ID_regex)\n",
    "print(len(regexMaster.proc_regex),'proc',regexMaster.proc_regex)\n",
    "print(len(regexMaster.mem_regex),'mem',regexMaster.mem_regex)"
   ]
  },
  {
   "cell_type": "code",
   "execution_count": 6,
   "metadata": {},
   "outputs": [
    {
     "data": {
      "text/plain": [
       "' Save result to txt file 沒事不要 run ! '"
      ]
     },
     "execution_count": 6,
     "metadata": {},
     "output_type": "execute_result"
    }
   ],
   "source": [
    "''' Save result to txt file 沒事不要 run ! '''\n",
    "# total_regex = set()\n",
    "# with open('./result/countof_regexset.txt', 'w', encoding='utf-8') as opf:\n",
    "#     # header\n",
    "#     opf.write('{:12s}'.format('Sample no.'))\n",
    "#     for i in range(len(samples)):\n",
    "#         if i+1 < 10:\n",
    "#             opf.write(f' S{i+1} ')\n",
    "#         else:\n",
    "#             opf.write(f'S{i+1} ')\n",
    "#     opf.write('\\n')\n",
    "#     # opf.write('{:12s}'.format('# of regex'))\n",
    "#     num_of_regex_string = '{:12s}'.format('# of regex')\n",
    "#     num_of_objects_string = '{:12s}'.format('# of object ') # 所有的類別喔! 無過濾\n",
    "#     for i in range(len(samples)):\n",
    "#         # opf.write(f'{len(samples[i].regex_set):>3} ')\n",
    "#         num_of_regex_string += f'{len(samples[i].regex_set):>3} '\n",
    "#         num_of_objects_string += f'{len(samples[i].special_token_dict):>3} '\n",
    "#     opf.write(num_of_objects_string+'\\n')\n",
    "#     opf.write(num_of_regex_string)\n",
    "#     opf.write('\\n{:12s}'.format('Sample hash'))\n",
    "#     for i in range(len(samples)):\n",
    "#         opf.write(f'{samples[i].samplename[:3]:>3} ')\n",
    "#     opf.write('\\n\\n')\n",
    "#     opf.write(f'Size of regex_pool: {len(regex_pool)}, size of total_used_regex: {len(regexMaster.used_regex_set)}\\n\\n')\n",
    "\n",
    "#     # content of each sample\n",
    "#     for i,s in enumerate(samples):\n",
    "#         content_1 = f\"S{i+1} has {len(s.regex_set)} of regex\\n\"\n",
    "#         content_2 = f\"regex_set: {s.regex_set}\\n\"\n",
    "#         content_3 = f\"special_token_dict: {s.special_token_dict.keys()}\\n\"\n",
    "#         opf.writelines([content_1, content_2, content_3])\n",
    "#         opf.write('\\n\\n')"
   ]
  },
  {
   "cell_type": "markdown",
   "metadata": {},
   "source": [
    "### Load Reports"
   ]
  },
  {
   "cell_type": "code",
   "execution_count": 7,
   "metadata": {},
   "outputs": [
    {
     "data": {
      "text/plain": [
       "['Gafgyt-fortinet.csv',\n",
       " 'Gafgyt-nozominetworks.csv',\n",
       " 'Gafgyt-sectrio.csv',\n",
       " 'Gafgyt-securityscorecard.csv',\n",
       " 'Gafgyt-trendmicro.csv',\n",
       " 'Gafgyt-unit42-2.csv',\n",
       " 'Gafgyt-unit42.csv',\n",
       " 'Gafgyt-wikipedia.csv']"
      ]
     },
     "execution_count": 7,
     "metadata": {},
     "output_type": "execute_result"
    }
   ],
   "source": [
    "report_fir_path = '../../C parse report/sentence csvs/'\n",
    "# family, samplename, outputfolder = 'Xorddos', '???', './result'\n",
    "outputfolder = './result'\n",
    "\n",
    "def get_all_filenames(dir: str='./') -> list:\n",
    "    ''' traverse root directory, and list directories as dirs and files as files. Return filenames in rootdir. '''\n",
    "    files = [f for f in listdir(dir) if isfile(join(dir, f))]\n",
    "    files.sort()\n",
    "    return files\n",
    "\n",
    "xor_report_names = [f for f in get_all_filenames(report_fir_path) if f.startswith(family)] # 只選擇這個家族的報告\n",
    "xor_report_dfs = [pd.read_csv(f\"{report_fir_path}{f}\") for f in xor_report_names]\n",
    "xor_report_names"
   ]
  },
  {
   "cell_type": "code",
   "execution_count": 8,
   "metadata": {},
   "outputs": [
    {
     "data": {
      "text/html": [
       "<div>\n",
       "<style scoped>\n",
       "    .dataframe tbody tr th:only-of-type {\n",
       "        vertical-align: middle;\n",
       "    }\n",
       "\n",
       "    .dataframe tbody tr th {\n",
       "        vertical-align: top;\n",
       "    }\n",
       "\n",
       "    .dataframe thead th {\n",
       "        text-align: right;\n",
       "    }\n",
       "</style>\n",
       "<table border=\"1\" class=\"dataframe\">\n",
       "  <thead>\n",
       "    <tr style=\"text-align: right;\">\n",
       "      <th></th>\n",
       "      <th>Number</th>\n",
       "      <th>Content</th>\n",
       "    </tr>\n",
       "  </thead>\n",
       "  <tbody>\n",
       "    <tr>\n",
       "      <th>0</th>\n",
       "      <td>Sentence 1</td>\n",
       "      <td>Linux Gafgyt.B!tr Exploits Netcore Vulnerabili...</td>\n",
       "    </tr>\n",
       "    <tr>\n",
       "      <th>1</th>\n",
       "      <td>Sentence 2</td>\n",
       "      <td>The following screen shot shows attack traffic...</td>\n",
       "    </tr>\n",
       "    <tr>\n",
       "      <th>2</th>\n",
       "      <td>Sentence 3</td>\n",
       "      <td>Figure 1\\n\\nFigure 2 shows a quick enumeration...</td>\n",
       "    </tr>\n",
       "  </tbody>\n",
       "</table>\n",
       "</div>"
      ],
      "text/plain": [
       "       Number                                            Content\n",
       "0  Sentence 1  Linux Gafgyt.B!tr Exploits Netcore Vulnerabili...\n",
       "1  Sentence 2  The following screen shot shows attack traffic...\n",
       "2  Sentence 3  Figure 1\\n\\nFigure 2 shows a quick enumeration..."
      ]
     },
     "execution_count": 8,
     "metadata": {},
     "output_type": "execute_result"
    }
   ],
   "source": [
    "xor_report_dfs[0][:3]"
   ]
  },
  {
   "cell_type": "markdown",
   "metadata": {},
   "source": [
    "### 單篇文章的 Class 和 整個 Family 的 Class\n",
    "`baseline: Dict[str, list]` 改為 `regexMaster: RegexMaster`"
   ]
  },
  {
   "cell_type": "code",
   "execution_count": 9,
   "metadata": {},
   "outputs": [],
   "source": [
    "class Metric:\n",
    "    def __init__(self) -> None:\n",
    "        self.objN:int = 0    # 物件分子\n",
    "        self.objD:int = 0    # 物件分母\n",
    "        self.objSysN:int = 0 # 系統設定檔物件分子\n",
    "        self.objSysD:int = 0 # 系統設定檔物件分母\n",
    "        self.opN:int = 0     # 動作和物件分子\n",
    "        self.opD:int = 0     # 動作和物件分母\n",
    "        self.opSysN:int = 0  # 動作和系統物件分子\n",
    "        self.opSysD:int = 0  # 動作和系統物件分母\n",
    "        pass\n",
    "    def safe_divide(self, num, denom):\n",
    "        if denom == 0:\n",
    "            return 0\n",
    "            # raise ZeroDivisionError(\"Error: Denominator cannot be zero.\")\n",
    "        return num / denom\n",
    "    \n",
    "    def setObj(self, num, denom) -> float:\n",
    "        self.objN, self.objD = num, denom\n",
    "        return self.safe_divide(self.objN, self.objD)\n",
    "    def setObjSys(self, num, denom) -> float:\n",
    "        self.objSysN, self.objSysD = num, denom\n",
    "        return self.safe_divide(self.objSysN, self.objSysD)\n",
    "    def setOp(self, num, denom) -> float:\n",
    "        self.opN, self.opD = num, denom\n",
    "        return self.safe_divide(self.opN, self.opD)\n",
    "    def setOpSys(self, num, denom) -> float:\n",
    "        self.opSysN, self.opSysD = num, denom\n",
    "        return self.safe_divide(self.opSysN, self.opSysD)\n",
    "    \n",
    "    def getMetricObj(self) -> float:\n",
    "        return self.safe_divide(self.objN, self.objD)\n",
    "    def getMetricObjSys(self) -> float:\n",
    "        return self.safe_divide(self.objSysN, self.objSysD)\n",
    "    def getMetricOp(self) -> float:\n",
    "        return self.safe_divide(self.opN, self.opD)\n",
    "    def getMetricOpSys(self) -> float:\n",
    "        return self.safe_divide(self.opSysN, self.opSysD)\n",
    "    \n",
    "class ReportEvalModel:\n",
    "    def __init__(self, regexMaster:RegexMaster, sentences: pd.DataFrame, reportname:str='', regex_set: set=None):\n",
    "        # self.regex_set: set[str] = regex_set # 樣本or家族含有的 regex 集合\n",
    "        self.sentences = sentences # a df\n",
    "        self.reportname = reportname\n",
    "        cols = list(total_used_regex) # be careful! is global variable!!\n",
    "        self.match_tbl = pd.DataFrame([[0]*len(cols)]*len(sentences), columns=cols)\n",
    "        self.match_word:dict[(int,str), str] = dict() # key(idx_sent,regex) value(word:str)\n",
    "        self.match_regex = set()\n",
    "        self.doc_OPset:set[OperationPair] = set() # Set of doc's OperationalPair\n",
    "        self.match_doc_OPset:set[OperationPair] = set()\n",
    "        self.OPset_order_index = [] # 紀錄 ASG OP 的出現順序 (lifecycle)\n",
    "        self.SysOPset_order_index = [] # 只紀錄改變系統的\n",
    "        # self.asgSysOPset_order_index = []\n",
    "        self.regexMaster = regexMaster # 其實應該用 class function 就不用傳入一個物件，樣本or家族含有的 regex 集合\n",
    "        self.matched_syscalls:dict[tuple,list] = {} # key:(verb, regex), value: list of syscalls\n",
    "        self.matched_sent_id:list[int] = []\n",
    "        self.metric:Metric = None # 紀錄指標的分數\n",
    "        self.match()\n",
    "\n",
    "    def match(self) -> None:\n",
    "        '''find baseline in sentences of report. Fill matching result in self.match_tbl.'''\n",
    "        sentence_list = self.sentences['Content']\n",
    "        for idx_sent, sent in enumerate(sentence_list):\n",
    "            # print(idx_sent, sent)\n",
    "            # find regexs in a sentence\n",
    "            matched_list: list[RegexMatchResult] = regexMaster.find_spacial_token(sent)\n",
    "            if not matched_list:\n",
    "                continue\n",
    "            self.matched_sent_id.append(idx_sent)\n",
    "            for m in matched_list:\n",
    "                this_re = m.match_regex\n",
    "                # matched_word = m.word\n",
    "                # print(matched_word, '|',sent[:10])\n",
    "                self.match_word[(idx_sent,this_re)] = m.word # 紀錄被 search 到的單字\n",
    "                # self.match_tbl.loc[idx_sent,this_re] = 1 # mark as found 節省空間\n",
    "                self.match_regex.add(this_re)\n",
    "                en_verb = find_verb_of_vocab(sent, m.word)\n",
    "                # print(f\"---\\nen_verb: {en_verb}, m.word: {m.word}, sent: {sent}\") # 列印所有動詞抓取情形\n",
    "                stepn = len(self.doc_OPset) + 1\n",
    "                # 如果 action 和 matched regex 相同，即使報告中object的原字串不同，也不會多計入。\n",
    "                if en_verb:\n",
    "                    self.doc_OPset.add(OperationPair(en_verb, this_re, original_object=m.word, \n",
    "                    step_number=stepn, original_sentence=sent, object_type=m.type)) # has verb\n",
    "                else:\n",
    "                    self.doc_OPset.add(OperationPair(None, this_re, original_object=m.word, \n",
    "                                                     step_number=stepn, object_type=m.type, \n",
    "                                                     original_sentence=sent)) # no verb\n",
    "        pass\n",
    "    \n",
    "    def get_match_sentences(self) -> pd.DataFrame:\n",
    "        result = self.match_tbl.copy()\n",
    "        result['match'] = result.sum(axis=1)\n",
    "        return result\n",
    "    \n",
    "    def get_match_regexs(self) -> set:\n",
    "        return self.match_regex\n",
    "\n",
    "    def get_match_word(self, idx_sent:int, regex:str) -> str:\n",
    "        return self.match_word[(idx_sent, regex)]\n",
    "\n",
    "class FamilySet:\n",
    "    '''一個 malware family report 集合'''\n",
    "    def __init__(self, familyname:str, regexMaster: RegexMaster, sample: Sample=None):\n",
    "        self.familyname = familyname\n",
    "        self.regexMaster = regexMaster\n",
    "        self.num_of_used_regex = len(regexMaster.used_regex_set) # 這個家族含規則的總數量 (unoin by all samples)\n",
    "        self.sample = None\n",
    "        if sample:\n",
    "            self.sample = sample\n",
    "            self.num_of_used_regex = len(sample.regex_set) # 改以這個樣本規則的總數量為基準\n",
    "        self.rem_lst: List[ReportEvalModel] = [] # list of ReportEvalModel under this family\n",
    "        self.result_tbl = None\n",
    "\n",
    "    def add_rem(self, sentences: pd.DataFrame, reportname: str=''):\n",
    "        '''新增 report 到 FamilySet 中，需傳入文本和報告名稱，會沿用 FamilySet 的 baseline.'''\n",
    "        if self.sample:\n",
    "            rem = ReportEvalModel(self.regexMaster, sentences, reportname) # 基準是 Sample\n",
    "            self.rem_lst.append(rem)\n",
    "            return\n",
    "        # (legacy) no such condition\n",
    "        # rem = ReportEvalModel(self.regexMaster, sentences, reportname) # 基準是 Family union # need fix -> no first arg now\n",
    "        self.rem_lst.append(rem)\n",
    "\n",
    "    def calc_report_coverage_score(self, match_regexs: list[str], apply_weight=False) -> float:\n",
    "        '''(lagacy) 計算這篇報告的 coverage_score，未處理分母為0之情形'''\n",
    "        if not apply_weight:\n",
    "            return len(match_regexs) / self.num_of_used_regex # 無權種的算法，分母是家族 wide\n",
    "        ''' 以下 有權重的算法尚未修改，必出 bug '''\n",
    "        # denominator = sum(self.regexMaster['weight']) # 分母\n",
    "        # numerator = 0 # 分子\n",
    "        # for b, w in zip(self.regexMaster['text'], self.regexMaster['weight']):\n",
    "        #     if b in match_baselines:\n",
    "        #         numerator += w\n",
    "        # return numerator/denominator\n",
    "\n",
    "    def show_result(self, apply_weight: bool=False, base_on_sample = True):\n",
    "        '''(lagacy) print and return result table. baselinse(x) * report(y).'''\n",
    "        column_names = ['report_name','ttl_match','coverage_score']\n",
    "        if base_on_sample:\n",
    "            column_names.extend(list(self.sample.regex_set))\n",
    "        else:\n",
    "            column_names.extend(list(regexMaster.used_regex_set))\n",
    "        result_tbl = pd.DataFrame([[0]*len(column_names)]*len(self.rem_lst), columns=column_names)\n",
    "        for i,rem in enumerate(self.rem_lst):\n",
    "            match_regexes = rem.get_match_regexs() # 這篇報告含有哪些 baseine:set\n",
    "            c_score = self.calc_report_coverage_score(match_regexes, apply_weight=apply_weight)\n",
    "            result_tbl.loc[i,'report_name'] = rem.reportname\n",
    "            result_tbl.loc[i,'ttl_match'] = len(match_regexes)\n",
    "            result_tbl.loc[i,'coverage_score'] = f'{c_score:.4}'\n",
    "            for b in match_regexes:\n",
    "                result_tbl.loc[i,b] = 1\n",
    "            print(rem.reportname, match_regexes)\n",
    "        display(result_tbl)\n",
    "        return result_tbl"
   ]
  },
  {
   "attachments": {},
   "cell_type": "markdown",
   "metadata": {},
   "source": [
    "### Run Script: 存檔每篇報告的 matched sentence (以樣本的 regex set 為基準)\n",
    "比較樣本間的辨別度，有 n 個樣本，就會跑 n 變，得出 n 個結果 (FanilySet)"
   ]
  },
  {
   "cell_type": "code",
   "execution_count": 10,
   "metadata": {},
   "outputs": [],
   "source": [
    "import os, psutil\n",
    "def print_mem_usage():\n",
    "    process = psutil.Process(os.getpid())\n",
    "    mem_usage = psutil.Process(os.getpid()).memory_info().rss / 1024 ** 2\n",
    "    print(f\"=== mem_usage: {mem_usage:.2f} MB ===\")  # in MiB \n",
    "\n",
    "def get_mem_usage() -> int:\n",
    "    # process = psutil.Process(os.getpid())\n",
    "    mem_usage = psutil.Process(os.getpid()).memory_info().rss / 1024 ** 2\n",
    "    return mem_usage\n",
    "\n",
    "def run_family_set_procedure(sample: Sample, muti_sample:bool=False) -> FamilySet:\n",
    "    # family is global variable\n",
    "    operationEvaluator = OperationEvaluator()\n",
    "    txt_report = \"\"\n",
    "    \n",
    "    fset = FamilySet(family, sample.regexMaster, sample=sample)\n",
    "    for i,rdf in enumerate(xor_report_dfs):\n",
    "        # rem = ReportEvalModel(base_data, rdf, dofloo_report_names[i])\n",
    "        fset.add_rem(rdf, xor_report_names[i])\n",
    "    # result_tbl = fset.show_result(apply_weight=False)\n",
    "    # result_tbl.to_csv(f'{outputfolder}/{family}_{sample.samplename[:3]}_FamilySet_by_Regex.csv', index=False)\n",
    "    # print(f\"Sample {sample.samplename[:3]} has ttl_match {result_tbl['ttl_match'].sum()} on all documents.\") \n",
    "\n",
    "    # Calculate metrics\n",
    "    print_mem_usage()\n",
    "    # for op in sample.OPset:\n",
    "    #     print(f\"{op.object} | {op.object_type}\")\n",
    "    txt_report += f\"asg_object: {set([op.object for op in sample.OPset])}\\n\"\n",
    "    fset.sample.OPset_sysOnly_ordered = [op for op in sample.OPset if op.object.find('/etc') != -1\\\n",
    "                                         and op.action in operationEvaluator.update_syscall_list] # UPDATE系統設定的OP\n",
    "    fset.sample.OPset_sysOnly_ordered_index = [sample.OPset_ordered.index(op) for op in fset.sample.OPset_sysOnly_ordered]\n",
    "    for idx_rem, rem in enumerate(fset.rem_lst):\n",
    "        if rem.reportname == 'Xorddos-Microsoft.csv': # 除錯用\n",
    "            continue\n",
    "        print(f\"Document {rem.reportname:<30} metrics calculating...\")\n",
    "        txt_report += f\"\\nSample {rem.reportname}\\n\"\n",
    "        txt_report += f\"\\tnum of segment in report: {len(rem.sentences)}, {len(rem.matched_sent_id)} of them contain ASG object(s)\\n\"\n",
    "        txt_report += f\"\\tlenght of ctd's OPset is {len(rem.doc_OPset)}\\n\"\n",
    "\n",
    "        # R_malObj 比較物件\n",
    "        asg_object = set([op.object for op in sample.OPset])\n",
    "        ctd_object = set([op.object for op in rem.doc_OPset]) # same as rem.match_regex\n",
    "        ctd_object = ctd_object.intersection(asg_object)\n",
    "        numerator = len(ctd_object) # 分子\n",
    "        denominator = len(asg_object) # 分母\n",
    "        R_malObj = 0 if denominator == 0 else numerator/denominator\n",
    "        txt_report += f\"\\t#R_malObj\\n\\tnum of ctd objects: {numerator}, num of asg objects: {denominator}. R_malObj is {R_malObj:.4f}\\n\"\n",
    "        txt_report += f\"\\t\\tctd_object: {ctd_object}\\n\"\n",
    "        metric = Metric()\n",
    "        metric.setObj(numerator, denominator)\n",
    "\n",
    "        # R_malSysObj 比較系統物件\n",
    "        asg_sysobj = list(filter(lambda object: object.find('/etc') != -1, asg_object))\n",
    "        ctd_sysobj = list(filter(lambda object: object.find('/etc') != -1, ctd_object))\n",
    "        numerator = len(ctd_sysobj)\n",
    "        denominator = len(asg_sysobj)\n",
    "        R_malSysObj = 0 if denominator == 0 else numerator/denominator\n",
    "        txt_report += f\"\\t#R_malSysObj\\n\\tnum of ctd objects: {numerator}, num of asg objects: {denominator}. R_malSysObj is {R_malSysObj:.4f}\\n\"\n",
    "        metric.setObjSys(numerator, denominator)\n",
    "\n",
    "        # R_malOps 比較動作和物件\n",
    "        asg_OPset = list(sample.OPset)\n",
    "        ctd_OPset = list(rem.doc_OPset)\n",
    "        numerator, denominator, hits = 0, len(asg_OPset), []\n",
    "        hits: list[tuple[OperationPair, OperationPair]] = []\n",
    "        sys_hits: list[tuple[OperationPair, OperationPair]] = []\n",
    "        txt_report += f\"\\t\\tlen(asg_OPset): {len(asg_OPset)}, len(ctd_OPset): {len(ctd_OPset)}\\n\"\n",
    "        # 每一個 asg_op 跟所有同物件的的 ctd_op 進行 resolve() 比對，來判斷此 asg_op 是否被提及\n",
    "        i = 0\n",
    "        for idx_asg, asg_op in enumerate(asg_OPset): \n",
    "            i += 1\n",
    "            target_obj = asg_op.object\n",
    "            ctdSameObjOpsIdx = [i for i, x in enumerate(ctd_OPset) if x.object == target_obj]\n",
    "            # ctdSameObjOps = [x for x in ctd_OPset if x.object == target_obj]\n",
    "            for idx in ctdSameObjOpsIdx:\n",
    "                pass\n",
    "                # mem_before_create_lst = get_mem_usage()\n",
    "                # print(\"\\tbefore resolve\", mem_before_create_lst)\n",
    "                entityType = asg_op.object_type # get_object_type(asg_op.object)\n",
    "                (hit, isSysChange, altVerb) = operationEvaluator.resolve(entityType, asg_op.action, ctd_OPset[idx].action, \n",
    "                                                                use_bert=True, sentence=ctd_OPset[idx].original_sentence)\n",
    "                # # print_mem_usage()\n",
    "                # mem_after_create_lst = get_mem_usage()\n",
    "                # # print(f\"\\t=== diff of mem_usage calling resolve(): {mem_after_create_lst - mem_before_create_lst:.2f}  ===\")\n",
    "\n",
    "                if hit:\n",
    "                    numerator += 1\n",
    "                    ctd_OPset[idx].altVerb = altVerb # altVerb is string if OoV and found an alt, else None\n",
    "                    hits.append((asg_OPset[idx_asg], ctd_OPset[idx]))\n",
    "                    fset.rem_lst[idx_rem].match_doc_OPset.add(ctd_OPset[idx])\n",
    "                    try:\n",
    "                        fset.rem_lst[idx_rem].matched_syscalls[(ctd_OPset[idx].action, target_obj)].append(asg_op.action) \n",
    "                    except:\n",
    "                        fset.rem_lst[idx_rem].matched_syscalls[(ctd_OPset[idx].action, target_obj)] = [asg_op.action] # key:(v,r), val:syscall_list\n",
    "\n",
    "                    # 篩選出系統物件的動作\n",
    "                    if isSysChange and asg_OPset[idx_asg].object.find('/etc') != -1:\n",
    "                        sys_hits.append((asg_OPset[idx_asg], ctd_OPset[idx]))\n",
    "\n",
    "                    # 紀錄CTD的生命週期 (ASG_OP提及順序)\n",
    "                    step_num = sample.OPset_ordered.index(asg_op) # index of step, throw ValueError if not found\n",
    "                    fset.rem_lst[idx_rem].OPset_order_index.append(step_num)\n",
    "                    break\n",
    "        R_malOps = 0 if denominator == 0 else numerator/denominator\n",
    "        txt_report += f\"\\t#R_malOps\\n\\tnum of matched asg op: {numerator}, num of asg op: {denominator}. R_malOps is {R_malOps:.4f}\\n\"\n",
    "        txt_report += f\"\\t\\trefered lifecycle: {fset.rem_lst[idx_rem].OPset_order_index}\\n\"\n",
    "        metric.setOp(numerator, denominator)\n",
    "\n",
    "        # 紀錄CTD的生命週期 (OP提及順序)\n",
    "        # fset.rem_lst[idx_rem].OPset_order_index.clear()\n",
    "        # for ctd_op in fset.rem_lst[idx_rem].match_doc_OPset:\n",
    "        #     step_num = sample.OPset_ordered.index(ctd_op) # index of step, throw ValueError if not found\n",
    "        #     fset.rem_lst[idx_rem].OPset_order_index.append(step_num)\n",
    "\n",
    "        # R_malChangeOps 篩選出系統物件的動作\n",
    "        # cando: 加上 OPMode的考量，為class OP加兩個mode asg_op_mode, ctd_op_mode。目前直接用call nlp class 的 method判別。\n",
    "        numerator = len(sys_hits)\n",
    "        sys_asg_OPset = [op for op in asg_OPset if op.object.find('/etc') != -1 \\\n",
    "                         and op.action in operationEvaluator.update_syscall_list ]\n",
    "        # print('sys_asg_OPset is unique:', len(sample.OPset_ordered) == len(set(sample.OPset_ordered))) # 元速度重複沒錯，可能是 index() 的問題\n",
    "        denominator = len(sys_asg_OPset)\n",
    "        R_malChangeOps = 0 if denominator == 0 else numerator/denominator\n",
    "        txt_report += f\"\\t#R_malChangeOps\\n\\tnum of matched asg op: {numerator}, num of asg op: {denominator}. R_malChangeOps is {R_malChangeOps:.4f}\\n\"\n",
    "        metric.setOpSys(numerator, denominator)\n",
    "\n",
    "        # 紀錄CTD的生命週期 (OP提及順序)\n",
    "        fset.rem_lst[idx_rem].SysOPset_order_index.clear()\n",
    "        for asg_op , ctd_op in sys_hits:\n",
    "            step_num = sample.OPset_ordered.index(asg_op) # step index , throw ValueError if not found\n",
    "            fset.rem_lst[idx_rem].SysOPset_order_index.append(step_num)\n",
    "        txt_report += f\"\\t\\tref-sys lifecycle: {fset.rem_lst[idx_rem].SysOPset_order_index}\\n\"\n",
    "\n",
    "        if hits:\n",
    "            txt_report += \"\\n\\thits\\n\"\n",
    "            for asg_op, ctd_op in hits:\n",
    "                txt_report += f\"\\t{asg_op}, {ctd_op.getSentStr()}\\n\"\n",
    "        if sys_hits:\n",
    "            txt_report += \"\\n\\tsys_hits\\n\"\n",
    "            for asg_op, ctd_op in sys_hits:\n",
    "                txt_report += f\"\\t{asg_op}, {ctd_op.getSentStr()}\\n\"\n",
    "        fset.rem_lst[idx_rem].metric = metric\n",
    "        # print_mem_usage()\n",
    "        # del asg_OPset, ctd_OPset, hits, sys_hits\n",
    "    txt_report += f\"\\n\\nOperationPair that changes system resources:\\n{sys_asg_OPset}\\n\\n\"\n",
    "    txt_report += json.dumps(regex_match_file, indent=4, sort_keys=True)\n",
    "\n",
    "    if muti_sample:\n",
    "        pass\n",
    "    filename = f\"./result/metric_{family.lower()}.txt\"\n",
    "    with open(filename, 'w', encoding='utf-8') as f:\n",
    "        f.write(txt_report) \n",
    "    return fset"
   ]
  },
  {
   "cell_type": "code",
   "execution_count": 11,
   "metadata": {},
   "outputs": [],
   "source": [
    "def save_match_sent_to_excel(fset: FamilySet, sample_name=None):\n",
    "    columns = ['report','regex','matched word','sentence number','sentence']\n",
    "    if sample_name:\n",
    "        output_xlsx = f'{outputfolder}/{family}_{sample_name[:3]}_report_match_sent.csv'\n",
    "    else:\n",
    "        output_xlsx = f'{outputfolder}/{family}_union_report_match_sent.csv'\n",
    "    has_match = sum([len(rem.get_match_regexs()) for rem in fset.rem_lst])\n",
    "    if has_match == 0:\n",
    "        print('no matches in CTI reports') # with open 一定要寫入，若全空則直接不開檔\n",
    "        return\n",
    "    # with pd.ExcelWriter(output_xlsx, engine='openpyxl') as writer:\n",
    "    \n",
    "    # 遍歷報告，一個 rem: ReportEvalModel 代表一篇報告\n",
    "    csv_data = []\n",
    "    match_sentence_ttlcnt = 0\n",
    "    for rem in fset.rem_lst:\n",
    "        reportname = rem.reportname.split('.')[0]\n",
    "        if len(rem.get_match_regexs()) == 0: # 如果報告中無 regex 跳過不紀錄\n",
    "            continue\n",
    "        # sheet_data = [] # shape = columns_len * match_sent_len\n",
    "        sent_df = rem.get_match_sentences()\n",
    "        sent_content_lst = rem.sentences['Content'] # 報告中的每個句子\n",
    "        match_sentence_ttlcnt += sent_df['match'].sum()\n",
    "\n",
    "        # 遍歷每個含有 regex 的句子\n",
    "        for sid, row in sent_df.iterrows():\n",
    "            if row['match'] == 0:\n",
    "                continue\n",
    "            row.drop('match', inplace=True)\n",
    "            row = row[row > 0]\n",
    "            # print(row)\n",
    "            # 考量每個句子可能含有多個 regex，故需寫成多行\n",
    "            for i, v in row.items():\n",
    "                insert_data = dict().fromkeys(columns)\n",
    "                insert_data['report'] = reportname\n",
    "                insert_data['regex'] = i\n",
    "                insert_data['matched word'] = rem.get_match_word(sid, i)\n",
    "                insert_data['sentence number'] = sid + 1\n",
    "                insert_data['sentence'] = str(sent_content_lst[sid]).strip()\n",
    "                # sheet_data.append(insert_data)\n",
    "                csv_data.append(insert_data)\n",
    "    df = pd.DataFrame(csv_data)\n",
    "    # print(df)\n",
    "    df.to_csv(output_xlsx, index=False)\n",
    "\n",
    "            # 輸出 csv\n",
    "            \n",
    "            # 輸出 excel sheet\n",
    "            # print(rem.reportname,'has', len(sheet_data),'matches')\n",
    "            # output_sheet = pd.DataFrame(sheet_data)\n",
    "            # # output_sheet.style.set_properties(subset=['sentence'])\n",
    "            # styler = Styler(horizontal_alignment='left', vertical_alignment='top')\n",
    "            # sf = StyleFrame(output_sheet, styler)\n",
    "            # sf = sf.set_column_width(columns=['baseline'], width=20.0)\n",
    "            # sf = sf.set_column_width(columns=['sentence number'], width=15.0)\n",
    "            # sf = sf.set_column_width(columns=['sentence'], width=80.0)\n",
    "            # sf.to_excel(writer, sheet_name=rem.reportname, index=False) #.save()\n",
    "            # # output_sheet.to_excel(writer, sheet_name=rem.reportname, index=False)\n",
    "    return match_sentence_ttlcnt\n",
    "\n",
    "# 此行會執行並複寫 excel，執行完後要手動調整行距格式，小心使用\n"
   ]
  },
  {
   "cell_type": "code",
   "execution_count": 12,
   "metadata": {},
   "outputs": [
    {
     "name": "stderr",
     "output_type": "stream",
     "text": [
      "Some weights of the model checkpoint at bert-base-uncased were not used when initializing BertModel: ['cls.predictions.transform.dense.bias', 'cls.predictions.transform.LayerNorm.bias', 'cls.predictions.transform.dense.weight', 'cls.seq_relationship.weight', 'cls.seq_relationship.bias', 'cls.predictions.bias', 'cls.predictions.decoder.weight', 'cls.predictions.transform.LayerNorm.weight']\n",
      "- This IS expected if you are initializing BertModel from the checkpoint of a model trained on another task or with another architecture (e.g. initializing a BertForSequenceClassification model from a BertForPreTraining model).\n",
      "- This IS NOT expected if you are initializing BertModel from the checkpoint of a model that you expect to be exactly identical (initializing a BertForSequenceClassification model from a BertForSequenceClassification model).\n"
     ]
    },
    {
     "name": "stdout",
     "output_type": "stream",
     "text": [
      "=== mem_usage: 786.87 MB ===\n",
      "Document Gafgyt-fortinet.csv            metrics calculating...\n",
      "Document Gafgyt-nozominetworks.csv      metrics calculating...\n",
      "Document Gafgyt-sectrio.csv             metrics calculating...\n",
      "Document Gafgyt-securityscorecard.csv   metrics calculating...\n",
      "Document Gafgyt-trendmicro.csv          metrics calculating...\n",
      "Document Gafgyt-unit42-2.csv            metrics calculating...\n",
      "Document Gafgyt-unit42.csv              metrics calculating...\n",
      "Document Gafgyt-wikipedia.csv           metrics calculating...\n"
     ]
    },
    {
     "data": {
      "text/html": [
       "<div>\n",
       "<style scoped>\n",
       "    .dataframe tbody tr th:only-of-type {\n",
       "        vertical-align: middle;\n",
       "    }\n",
       "\n",
       "    .dataframe tbody tr th {\n",
       "        vertical-align: top;\n",
       "    }\n",
       "\n",
       "    .dataframe thead th {\n",
       "        text-align: right;\n",
       "    }\n",
       "</style>\n",
       "<table border=\"1\" class=\"dataframe\">\n",
       "  <thead>\n",
       "    <tr style=\"text-align: right;\">\n",
       "      <th></th>\n",
       "      <th>0</th>\n",
       "      <th>1</th>\n",
       "      <th>2</th>\n",
       "      <th>3</th>\n",
       "      <th>4</th>\n",
       "      <th>5</th>\n",
       "      <th>6</th>\n",
       "      <th>7</th>\n",
       "    </tr>\n",
       "  </thead>\n",
       "  <tbody>\n",
       "    <tr>\n",
       "      <th>0</th>\n",
       "      <td>D1 fortinet</td>\n",
       "      <td>D2 nozominetworks</td>\n",
       "      <td>D3 sectrio</td>\n",
       "      <td>D4 securityscorecard</td>\n",
       "      <td>D5 trendmicro</td>\n",
       "      <td>D6 unit42-2</td>\n",
       "      <td>D7 unit42</td>\n",
       "      <td>D8 wikipedia</td>\n",
       "    </tr>\n",
       "    <tr>\n",
       "      <th>1</th>\n",
       "      <td>S933</td>\n",
       "      <td>S933</td>\n",
       "      <td>S933</td>\n",
       "      <td>S933</td>\n",
       "      <td>S933</td>\n",
       "      <td>S933</td>\n",
       "      <td>S933</td>\n",
       "      <td>S933</td>\n",
       "    </tr>\n",
       "    <tr>\n",
       "      <th>2</th>\n",
       "      <td>0.1429</td>\n",
       "      <td>0.2857</td>\n",
       "      <td>0.4286</td>\n",
       "      <td>0.5714</td>\n",
       "      <td>0.0000</td>\n",
       "      <td>0.1429</td>\n",
       "      <td>0.1429</td>\n",
       "      <td>0.0000</td>\n",
       "    </tr>\n",
       "    <tr>\n",
       "      <th>3</th>\n",
       "      <td>1/7</td>\n",
       "      <td>2/7</td>\n",
       "      <td>3/7</td>\n",
       "      <td>4/7</td>\n",
       "      <td>0/7</td>\n",
       "      <td>1/7</td>\n",
       "      <td>1/7</td>\n",
       "      <td>0/7</td>\n",
       "    </tr>\n",
       "    <tr>\n",
       "      <th>4</th>\n",
       "      <td>0.0000</td>\n",
       "      <td>0.0000</td>\n",
       "      <td>0.0000</td>\n",
       "      <td>0.0000</td>\n",
       "      <td>0.0000</td>\n",
       "      <td>0.0000</td>\n",
       "      <td>0.0000</td>\n",
       "      <td>0.0000</td>\n",
       "    </tr>\n",
       "    <tr>\n",
       "      <th>5</th>\n",
       "      <td>0/0</td>\n",
       "      <td>0/0</td>\n",
       "      <td>0/0</td>\n",
       "      <td>0/0</td>\n",
       "      <td>0/0</td>\n",
       "      <td>0/0</td>\n",
       "      <td>0/0</td>\n",
       "      <td>0/0</td>\n",
       "    </tr>\n",
       "    <tr>\n",
       "      <th>6</th>\n",
       "      <td>0.0000</td>\n",
       "      <td>0.0000</td>\n",
       "      <td>0.1818</td>\n",
       "      <td>0.0909</td>\n",
       "      <td>0.0000</td>\n",
       "      <td>0.0000</td>\n",
       "      <td>0.0000</td>\n",
       "      <td>0.0000</td>\n",
       "    </tr>\n",
       "    <tr>\n",
       "      <th>7</th>\n",
       "      <td>0/11</td>\n",
       "      <td>0/11</td>\n",
       "      <td>2/11</td>\n",
       "      <td>1/11</td>\n",
       "      <td>0/11</td>\n",
       "      <td>0/11</td>\n",
       "      <td>0/11</td>\n",
       "      <td>0/11</td>\n",
       "    </tr>\n",
       "    <tr>\n",
       "      <th>8</th>\n",
       "      <td>0.0000</td>\n",
       "      <td>0.0000</td>\n",
       "      <td>0.0000</td>\n",
       "      <td>0.0000</td>\n",
       "      <td>0.0000</td>\n",
       "      <td>0.0000</td>\n",
       "      <td>0.0000</td>\n",
       "      <td>0.0000</td>\n",
       "    </tr>\n",
       "    <tr>\n",
       "      <th>9</th>\n",
       "      <td>0/0</td>\n",
       "      <td>0/0</td>\n",
       "      <td>0/0</td>\n",
       "      <td>0/0</td>\n",
       "      <td>0/0</td>\n",
       "      <td>0/0</td>\n",
       "      <td>0/0</td>\n",
       "      <td>0/0</td>\n",
       "    </tr>\n",
       "  </tbody>\n",
       "</table>\n",
       "</div>"
      ],
      "text/plain": [
       "             0                  1           2                     3  \\\n",
       "0  D1 fortinet  D2 nozominetworks  D3 sectrio  D4 securityscorecard   \n",
       "1         S933               S933        S933                  S933   \n",
       "2       0.1429             0.2857      0.4286                0.5714   \n",
       "3          1/7                2/7         3/7                   4/7   \n",
       "4       0.0000             0.0000      0.0000                0.0000   \n",
       "5          0/0                0/0         0/0                   0/0   \n",
       "6       0.0000             0.0000      0.1818                0.0909   \n",
       "7         0/11               0/11        2/11                  1/11   \n",
       "8       0.0000             0.0000      0.0000                0.0000   \n",
       "9          0/0                0/0         0/0                   0/0   \n",
       "\n",
       "               4            5          6             7  \n",
       "0  D5 trendmicro  D6 unit42-2  D7 unit42  D8 wikipedia  \n",
       "1           S933         S933       S933          S933  \n",
       "2         0.0000       0.1429     0.1429        0.0000  \n",
       "3            0/7          1/7        1/7           0/7  \n",
       "4         0.0000       0.0000     0.0000        0.0000  \n",
       "5            0/0          0/0        0/0           0/0  \n",
       "6         0.0000       0.0000     0.0000        0.0000  \n",
       "7           0/11         0/11       0/11          0/11  \n",
       "8         0.0000       0.0000     0.0000        0.0000  \n",
       "9            0/0          0/0        0/0           0/0  "
      ]
     },
     "metadata": {},
     "output_type": "display_data"
    }
   ],
   "source": [
    "for sample in samples:\n",
    "    # print(len(sample.OPset)) # 30\n",
    "    # print(len(sample.OPset_ordered)) # 30\n",
    "    # print(set(sample.OPset) - set(sample.OPset_ordered)) # 相減是空的set 都OK\n",
    "    fset = run_family_set_procedure(sample)\n",
    "    # match_sentence_ttlcnt = save_match_sent_to_excel(fset, sample.samplename)\n",
    "    # print(f'match_sentence_ttlcnt is {match_sentence_ttlcnt}\\n---\\n')\n",
    "\n",
    "import numpy as np\n",
    "result_table = []\n",
    "result_header = ['Γ_obj','Γ_obj','Γ_rsc','Γ_rsc','Ф_op','Ф_op','Ф_sys','Ф_sys']\n",
    "\n",
    "for rid, report in enumerate(xor_report_names):\n",
    "    # view result of different sample under each document\n",
    "    reportname = report.split('.')[0]\n",
    "    reportname = reportname.replace(f\"{family}-\", '')\n",
    "    reportname = reportname.replace('.csv', '')\n",
    "    reportname = f'D{rid+1} {reportname}'\n",
    "\n",
    "    # each sample contains its ASG data\n",
    "    samplename = f\"S{fset.sample.samplename[:3]}\"\n",
    "\n",
    "    # metrics for rid, sid\n",
    "    rem = fset.rem_lst[rid]\n",
    "    s_Obj = f\"{rem.metric.getMetricObj():.4f}\"\n",
    "    s_Obj_fraction = f\"{rem.metric.objN}/{rem.metric.objD}\"\n",
    "    s_ObjSys = f\"{rem.metric.getMetricObjSys():.4f}\"\n",
    "    s_ObjSys_fraction = f\"{rem.metric.objSysN}/{rem.metric.objSysD}\"\n",
    "    s_Op = f\"{rem.metric.getMetricOp():.4f}\"\n",
    "    s_Op_fraction = f\"{rem.metric.opN}/{rem.metric.opD}\"\n",
    "    s_OpSys = f\"{rem.metric.getMetricOpSys():.4f}\"\n",
    "    s_OpSys_fraction = f\"{rem.metric.opSysN}/{rem.metric.opSysD}\"\n",
    "\n",
    "    result_sample = [reportname, \\\n",
    "                    samplename, \\\n",
    "                    s_Obj, s_Obj_fraction, s_ObjSys, s_ObjSys_fraction,\\\n",
    "                    s_Op, s_Op_fraction, s_OpSys, s_OpSys_fraction]\n",
    "    result_table.append(result_sample)\n",
    "result_table = np.array(result_table)\n",
    "result_table = result_table.T\n",
    "result_table = pd.DataFrame(result_table)\n",
    "display(result_table)"
   ]
  },
  {
   "attachments": {},
   "cell_type": "markdown",
   "metadata": {},
   "source": [
    "### Run Script: draw Lifecycle diagram\n",
    "- 兩個 traces (legend) 一般的 OP 和 ChangeSys OP。分兩個顏色，不重疊。\n",
    "- x: [a,a,a,a,b,b,b,c,c,c] 不同 report 的 step 可以放同一個 list，因為屬於同個 trace。"
   ]
  },
  {
   "cell_type": "code",
   "execution_count": 13,
   "metadata": {},
   "outputs": [
    {
     "name": "stdout",
     "output_type": "stream",
     "text": [
      "\n"
     ]
    },
    {
     "name": "stderr",
     "output_type": "stream",
     "text": [
      "c:\\Users\\luweb\\AppData\\Local\\Programs\\Python\\Python310\\lib\\site-packages\\plotly\\io\\_renderers.py:7: DeprecationWarning:\n",
      "\n",
      "The distutils package is deprecated and slated for removal in Python 3.12. Use setuptools or check PEP 632 for potential alternatives\n",
      "\n"
     ]
    },
    {
     "data": {
      "application/vnd.plotly.v1+json": {
       "config": {
        "plotlyServerURL": "https://plot.ly"
       },
       "data": [
        {
         "marker": {
          "color": "darkorange",
          "size": 12
         },
         "mode": "markers",
         "name": "Normal Operation Pair",
         "type": "scatter",
         "x": [
          9,
          3,
          4,
          1,
          2,
          3,
          4,
          5,
          6,
          7,
          8,
          9,
          10,
          11
         ],
         "y": [
          "sectrio (2)",
          "sectrio (2)",
          "securityscorecard (1)",
          "ASG (11)",
          "ASG (11)",
          "ASG (11)",
          "ASG (11)",
          "ASG (11)",
          "ASG (11)",
          "ASG (11)",
          "ASG (11)",
          "ASG (11)",
          "ASG (11)",
          "ASG (11)"
         ]
        },
        {
         "marker": {
          "color": "blue",
          "size": 12
         },
         "mode": "markers",
         "name": "Change SR Operation Pair",
         "type": "scatter",
         "x": [],
         "y": []
        }
       ],
       "layout": {
        "template": {
         "data": {
          "bar": [
           {
            "error_x": {
             "color": "#2a3f5f"
            },
            "error_y": {
             "color": "#2a3f5f"
            },
            "marker": {
             "line": {
              "color": "#E5ECF6",
              "width": 0.5
             },
             "pattern": {
              "fillmode": "overlay",
              "size": 10,
              "solidity": 0.2
             }
            },
            "type": "bar"
           }
          ],
          "barpolar": [
           {
            "marker": {
             "line": {
              "color": "#E5ECF6",
              "width": 0.5
             },
             "pattern": {
              "fillmode": "overlay",
              "size": 10,
              "solidity": 0.2
             }
            },
            "type": "barpolar"
           }
          ],
          "carpet": [
           {
            "aaxis": {
             "endlinecolor": "#2a3f5f",
             "gridcolor": "white",
             "linecolor": "white",
             "minorgridcolor": "white",
             "startlinecolor": "#2a3f5f"
            },
            "baxis": {
             "endlinecolor": "#2a3f5f",
             "gridcolor": "white",
             "linecolor": "white",
             "minorgridcolor": "white",
             "startlinecolor": "#2a3f5f"
            },
            "type": "carpet"
           }
          ],
          "choropleth": [
           {
            "colorbar": {
             "outlinewidth": 0,
             "ticks": ""
            },
            "type": "choropleth"
           }
          ],
          "contour": [
           {
            "colorbar": {
             "outlinewidth": 0,
             "ticks": ""
            },
            "colorscale": [
             [
              0,
              "#0d0887"
             ],
             [
              0.1111111111111111,
              "#46039f"
             ],
             [
              0.2222222222222222,
              "#7201a8"
             ],
             [
              0.3333333333333333,
              "#9c179e"
             ],
             [
              0.4444444444444444,
              "#bd3786"
             ],
             [
              0.5555555555555556,
              "#d8576b"
             ],
             [
              0.6666666666666666,
              "#ed7953"
             ],
             [
              0.7777777777777778,
              "#fb9f3a"
             ],
             [
              0.8888888888888888,
              "#fdca26"
             ],
             [
              1,
              "#f0f921"
             ]
            ],
            "type": "contour"
           }
          ],
          "contourcarpet": [
           {
            "colorbar": {
             "outlinewidth": 0,
             "ticks": ""
            },
            "type": "contourcarpet"
           }
          ],
          "heatmap": [
           {
            "colorbar": {
             "outlinewidth": 0,
             "ticks": ""
            },
            "colorscale": [
             [
              0,
              "#0d0887"
             ],
             [
              0.1111111111111111,
              "#46039f"
             ],
             [
              0.2222222222222222,
              "#7201a8"
             ],
             [
              0.3333333333333333,
              "#9c179e"
             ],
             [
              0.4444444444444444,
              "#bd3786"
             ],
             [
              0.5555555555555556,
              "#d8576b"
             ],
             [
              0.6666666666666666,
              "#ed7953"
             ],
             [
              0.7777777777777778,
              "#fb9f3a"
             ],
             [
              0.8888888888888888,
              "#fdca26"
             ],
             [
              1,
              "#f0f921"
             ]
            ],
            "type": "heatmap"
           }
          ],
          "heatmapgl": [
           {
            "colorbar": {
             "outlinewidth": 0,
             "ticks": ""
            },
            "colorscale": [
             [
              0,
              "#0d0887"
             ],
             [
              0.1111111111111111,
              "#46039f"
             ],
             [
              0.2222222222222222,
              "#7201a8"
             ],
             [
              0.3333333333333333,
              "#9c179e"
             ],
             [
              0.4444444444444444,
              "#bd3786"
             ],
             [
              0.5555555555555556,
              "#d8576b"
             ],
             [
              0.6666666666666666,
              "#ed7953"
             ],
             [
              0.7777777777777778,
              "#fb9f3a"
             ],
             [
              0.8888888888888888,
              "#fdca26"
             ],
             [
              1,
              "#f0f921"
             ]
            ],
            "type": "heatmapgl"
           }
          ],
          "histogram": [
           {
            "marker": {
             "pattern": {
              "fillmode": "overlay",
              "size": 10,
              "solidity": 0.2
             }
            },
            "type": "histogram"
           }
          ],
          "histogram2d": [
           {
            "colorbar": {
             "outlinewidth": 0,
             "ticks": ""
            },
            "colorscale": [
             [
              0,
              "#0d0887"
             ],
             [
              0.1111111111111111,
              "#46039f"
             ],
             [
              0.2222222222222222,
              "#7201a8"
             ],
             [
              0.3333333333333333,
              "#9c179e"
             ],
             [
              0.4444444444444444,
              "#bd3786"
             ],
             [
              0.5555555555555556,
              "#d8576b"
             ],
             [
              0.6666666666666666,
              "#ed7953"
             ],
             [
              0.7777777777777778,
              "#fb9f3a"
             ],
             [
              0.8888888888888888,
              "#fdca26"
             ],
             [
              1,
              "#f0f921"
             ]
            ],
            "type": "histogram2d"
           }
          ],
          "histogram2dcontour": [
           {
            "colorbar": {
             "outlinewidth": 0,
             "ticks": ""
            },
            "colorscale": [
             [
              0,
              "#0d0887"
             ],
             [
              0.1111111111111111,
              "#46039f"
             ],
             [
              0.2222222222222222,
              "#7201a8"
             ],
             [
              0.3333333333333333,
              "#9c179e"
             ],
             [
              0.4444444444444444,
              "#bd3786"
             ],
             [
              0.5555555555555556,
              "#d8576b"
             ],
             [
              0.6666666666666666,
              "#ed7953"
             ],
             [
              0.7777777777777778,
              "#fb9f3a"
             ],
             [
              0.8888888888888888,
              "#fdca26"
             ],
             [
              1,
              "#f0f921"
             ]
            ],
            "type": "histogram2dcontour"
           }
          ],
          "mesh3d": [
           {
            "colorbar": {
             "outlinewidth": 0,
             "ticks": ""
            },
            "type": "mesh3d"
           }
          ],
          "parcoords": [
           {
            "line": {
             "colorbar": {
              "outlinewidth": 0,
              "ticks": ""
             }
            },
            "type": "parcoords"
           }
          ],
          "pie": [
           {
            "automargin": true,
            "type": "pie"
           }
          ],
          "scatter": [
           {
            "fillpattern": {
             "fillmode": "overlay",
             "size": 10,
             "solidity": 0.2
            },
            "type": "scatter"
           }
          ],
          "scatter3d": [
           {
            "line": {
             "colorbar": {
              "outlinewidth": 0,
              "ticks": ""
             }
            },
            "marker": {
             "colorbar": {
              "outlinewidth": 0,
              "ticks": ""
             }
            },
            "type": "scatter3d"
           }
          ],
          "scattercarpet": [
           {
            "marker": {
             "colorbar": {
              "outlinewidth": 0,
              "ticks": ""
             }
            },
            "type": "scattercarpet"
           }
          ],
          "scattergeo": [
           {
            "marker": {
             "colorbar": {
              "outlinewidth": 0,
              "ticks": ""
             }
            },
            "type": "scattergeo"
           }
          ],
          "scattergl": [
           {
            "marker": {
             "colorbar": {
              "outlinewidth": 0,
              "ticks": ""
             }
            },
            "type": "scattergl"
           }
          ],
          "scattermapbox": [
           {
            "marker": {
             "colorbar": {
              "outlinewidth": 0,
              "ticks": ""
             }
            },
            "type": "scattermapbox"
           }
          ],
          "scatterpolar": [
           {
            "marker": {
             "colorbar": {
              "outlinewidth": 0,
              "ticks": ""
             }
            },
            "type": "scatterpolar"
           }
          ],
          "scatterpolargl": [
           {
            "marker": {
             "colorbar": {
              "outlinewidth": 0,
              "ticks": ""
             }
            },
            "type": "scatterpolargl"
           }
          ],
          "scatterternary": [
           {
            "marker": {
             "colorbar": {
              "outlinewidth": 0,
              "ticks": ""
             }
            },
            "type": "scatterternary"
           }
          ],
          "surface": [
           {
            "colorbar": {
             "outlinewidth": 0,
             "ticks": ""
            },
            "colorscale": [
             [
              0,
              "#0d0887"
             ],
             [
              0.1111111111111111,
              "#46039f"
             ],
             [
              0.2222222222222222,
              "#7201a8"
             ],
             [
              0.3333333333333333,
              "#9c179e"
             ],
             [
              0.4444444444444444,
              "#bd3786"
             ],
             [
              0.5555555555555556,
              "#d8576b"
             ],
             [
              0.6666666666666666,
              "#ed7953"
             ],
             [
              0.7777777777777778,
              "#fb9f3a"
             ],
             [
              0.8888888888888888,
              "#fdca26"
             ],
             [
              1,
              "#f0f921"
             ]
            ],
            "type": "surface"
           }
          ],
          "table": [
           {
            "cells": {
             "fill": {
              "color": "#EBF0F8"
             },
             "line": {
              "color": "white"
             }
            },
            "header": {
             "fill": {
              "color": "#C8D4E3"
             },
             "line": {
              "color": "white"
             }
            },
            "type": "table"
           }
          ]
         },
         "layout": {
          "annotationdefaults": {
           "arrowcolor": "#2a3f5f",
           "arrowhead": 0,
           "arrowwidth": 1
          },
          "autotypenumbers": "strict",
          "coloraxis": {
           "colorbar": {
            "outlinewidth": 0,
            "ticks": ""
           }
          },
          "colorscale": {
           "diverging": [
            [
             0,
             "#8e0152"
            ],
            [
             0.1,
             "#c51b7d"
            ],
            [
             0.2,
             "#de77ae"
            ],
            [
             0.3,
             "#f1b6da"
            ],
            [
             0.4,
             "#fde0ef"
            ],
            [
             0.5,
             "#f7f7f7"
            ],
            [
             0.6,
             "#e6f5d0"
            ],
            [
             0.7,
             "#b8e186"
            ],
            [
             0.8,
             "#7fbc41"
            ],
            [
             0.9,
             "#4d9221"
            ],
            [
             1,
             "#276419"
            ]
           ],
           "sequential": [
            [
             0,
             "#0d0887"
            ],
            [
             0.1111111111111111,
             "#46039f"
            ],
            [
             0.2222222222222222,
             "#7201a8"
            ],
            [
             0.3333333333333333,
             "#9c179e"
            ],
            [
             0.4444444444444444,
             "#bd3786"
            ],
            [
             0.5555555555555556,
             "#d8576b"
            ],
            [
             0.6666666666666666,
             "#ed7953"
            ],
            [
             0.7777777777777778,
             "#fb9f3a"
            ],
            [
             0.8888888888888888,
             "#fdca26"
            ],
            [
             1,
             "#f0f921"
            ]
           ],
           "sequentialminus": [
            [
             0,
             "#0d0887"
            ],
            [
             0.1111111111111111,
             "#46039f"
            ],
            [
             0.2222222222222222,
             "#7201a8"
            ],
            [
             0.3333333333333333,
             "#9c179e"
            ],
            [
             0.4444444444444444,
             "#bd3786"
            ],
            [
             0.5555555555555556,
             "#d8576b"
            ],
            [
             0.6666666666666666,
             "#ed7953"
            ],
            [
             0.7777777777777778,
             "#fb9f3a"
            ],
            [
             0.8888888888888888,
             "#fdca26"
            ],
            [
             1,
             "#f0f921"
            ]
           ]
          },
          "colorway": [
           "#636efa",
           "#EF553B",
           "#00cc96",
           "#ab63fa",
           "#FFA15A",
           "#19d3f3",
           "#FF6692",
           "#B6E880",
           "#FF97FF",
           "#FECB52"
          ],
          "font": {
           "color": "#2a3f5f"
          },
          "geo": {
           "bgcolor": "white",
           "lakecolor": "white",
           "landcolor": "#E5ECF6",
           "showlakes": true,
           "showland": true,
           "subunitcolor": "white"
          },
          "hoverlabel": {
           "align": "left"
          },
          "hovermode": "closest",
          "mapbox": {
           "style": "light"
          },
          "paper_bgcolor": "white",
          "plot_bgcolor": "#E5ECF6",
          "polar": {
           "angularaxis": {
            "gridcolor": "white",
            "linecolor": "white",
            "ticks": ""
           },
           "bgcolor": "#E5ECF6",
           "radialaxis": {
            "gridcolor": "white",
            "linecolor": "white",
            "ticks": ""
           }
          },
          "scene": {
           "xaxis": {
            "backgroundcolor": "#E5ECF6",
            "gridcolor": "white",
            "gridwidth": 2,
            "linecolor": "white",
            "showbackground": true,
            "ticks": "",
            "zerolinecolor": "white"
           },
           "yaxis": {
            "backgroundcolor": "#E5ECF6",
            "gridcolor": "white",
            "gridwidth": 2,
            "linecolor": "white",
            "showbackground": true,
            "ticks": "",
            "zerolinecolor": "white"
           },
           "zaxis": {
            "backgroundcolor": "#E5ECF6",
            "gridcolor": "white",
            "gridwidth": 2,
            "linecolor": "white",
            "showbackground": true,
            "ticks": "",
            "zerolinecolor": "white"
           }
          },
          "shapedefaults": {
           "line": {
            "color": "#2a3f5f"
           }
          },
          "ternary": {
           "aaxis": {
            "gridcolor": "white",
            "linecolor": "white",
            "ticks": ""
           },
           "baxis": {
            "gridcolor": "white",
            "linecolor": "white",
            "ticks": ""
           },
           "bgcolor": "#E5ECF6",
           "caxis": {
            "gridcolor": "white",
            "linecolor": "white",
            "ticks": ""
           }
          },
          "title": {
           "x": 0.05
          },
          "xaxis": {
           "automargin": true,
           "gridcolor": "white",
           "linecolor": "white",
           "ticks": "",
           "title": {
            "standoff": 15
           },
           "zerolinecolor": "white",
           "zerolinewidth": 2
          },
          "yaxis": {
           "automargin": true,
           "gridcolor": "white",
           "linecolor": "white",
           "ticks": "",
           "title": {
            "standoff": 15
           },
           "zerolinecolor": "white",
           "zerolinewidth": 2
          }
         }
        },
        "title": {
         "text": "Lifecycle Diagram of Attack Behavior in Document (Gafgyt)"
        },
        "xaxis": {
         "title": {
          "text": "ASG Operation Pair (in steps)"
         }
        },
        "yaxis": {
         "title": {
          "text": "Malware Document"
         }
        }
       }
      }
     },
     "metadata": {},
     "output_type": "display_data"
    }
   ],
   "source": [
    "# import plotly.express as px\n",
    "import plotly.graph_objects as go\n",
    "\n",
    "def symmetric_difference(list1: list, list2: list) -> list:\n",
    "    ''' return list1 - list2. '''\n",
    "    s = set(list2)\n",
    "    temp3 = [x for x in list1 if x not in s]\n",
    "    return temp3\n",
    "\n",
    "def draw_lifecycle(fset:FamilySet):\n",
    "    familname = fset.familyname\n",
    "    # reportnames = [rem.reportname for rem in fset.rem_lst if len(rem.match_regex)]\n",
    "\n",
    "    fig = go.Figure()\n",
    "    x, y = [], []\n",
    "    x_sys, y_sys = [], []\n",
    "    for i, rem in enumerate(fset.rem_lst):\n",
    "        if len(rem.OPset_order_index) == 0:\n",
    "            continue\n",
    "\n",
    "        numOfDot = len(rem.OPset_order_index)\n",
    "        reportname = rem.reportname\n",
    "        reportname = rem.reportname.split('.')[0]\n",
    "        reportname = reportname.split('-')[1]\n",
    "        if reportname == 'Ms':\n",
    "            reportname = 'Microsoft'\n",
    "        reportname += f' ({numOfDot})'\n",
    "        x_sys.extend(rem.SysOPset_order_index) # 改變系統設定檔的 OP\n",
    "        y_sys.extend([reportname] * len(rem.SysOPset_order_index))\n",
    "        current_x_normal = symmetric_difference(rem.OPset_order_index, rem.SysOPset_order_index) # 一般的/其餘的 OP\n",
    "        # print(reportname, 'numOfDot', numOfDot, 'rem.OPset_order_index', rem.OPset_order_index)\n",
    "        # print('x_normal', current_x_normal, 'x_sys', rem.SysOPset_order_index)\n",
    "        x.extend(current_x_normal)\n",
    "        y.extend([reportname] * len(current_x_normal))\n",
    "        pass\n",
    "    # todo: add baseline's lifecycle\n",
    "    print()\n",
    "    rowname = f'ASG ({len(fset.sample.OPset)})'\n",
    "    current_x_system = fset.sample.OPset_sysOnly_ordered_index\n",
    "    current_x_normal = symmetric_difference(list(range(len(fset.sample.OPset))), current_x_system) # all steps - sysobj steps\n",
    "    # print(sorted(current_x_system)) # 只能放UPDATE的，OPEN/READ不能喔\n",
    "    x_sys.extend(current_x_system)\n",
    "    y_sys.extend([rowname] * len(current_x_system)) \n",
    "    x.extend(current_x_normal)\n",
    "    y.extend([rowname] * len(current_x_normal))\n",
    "    # print(rowname, len(fset.sample.OPset), len(current_x_system), len(current_x_normal))\n",
    "    \n",
    "    # normal OPs\n",
    "    x = [idx+1 for idx in x] # add 1 to each asg index\n",
    "    fig.add_trace(go.Scatter(\n",
    "        x=x,\n",
    "        y=y,\n",
    "        marker=dict(color=\"darkorange\", size=12),\n",
    "        mode=\"markers\",\n",
    "        name=\"Normal Operation Pair\",\n",
    "    ))\n",
    "\n",
    "    # changeSysObj OPs\n",
    "    x_sys = x = [idx+1 for idx in x_sys]\n",
    "    fig.add_trace(go.Scatter(\n",
    "        x=x_sys,\n",
    "        y=y_sys,\n",
    "        marker=dict(color=\"blue\", size=12),\n",
    "        mode=\"markers\",\n",
    "        name=\"Change SR Operation Pair\",\n",
    "    ))\n",
    "\n",
    "    fig.update_layout(title=f\"Lifecycle Diagram of Attack Behavior in Document ({familname})\",\n",
    "                    xaxis_title=\"ASG Operation Pair (in steps)\",\n",
    "                    yaxis_title=\"Malware Document\")\n",
    "    fig.show()\n",
    "    pass\n",
    "\n",
    "draw_lifecycle(fset)"
   ]
  },
  {
   "cell_type": "code",
   "execution_count": 14,
   "metadata": {},
   "outputs": [],
   "source": [
    "# only these syscall will change system config files: ['write', 'rename', 'fchmod', 'chmod', 'lchmod']\n",
    "# operationEvaluator = OperationEvaluator()\n",
    "# print(operationEvaluator.update_syscall_list) \n",
    "# del operationEvaluator"
   ]
  },
  {
   "attachments": {},
   "cell_type": "markdown",
   "metadata": {},
   "source": [
    "### Run Script: draw ASG & CTD's OP graph\n",
    "- 完整的 ASG OPset graph\n",
    "- 每篇報告的 CTD OPset (完整和matched兩種)，以及對應部分的 ASG。"
   ]
  },
  {
   "cell_type": "code",
   "execution_count": 15,
   "metadata": {},
   "outputs": [
    {
     "data": {
      "text/plain": [
       "['b', 'c', 'd']"
      ]
     },
     "execution_count": 15,
     "metadata": {},
     "output_type": "execute_result"
    }
   ],
   "source": [
    "a = [1,2,3]\n",
    "b = ['a','b','c','d','e']\n",
    "[b[i] for i in a]"
   ]
  },
  {
   "cell_type": "code",
   "execution_count": 16,
   "metadata": {},
   "outputs": [
    {
     "data": {
      "image/svg+xml": [
       "<?xml version=\"1.0\" encoding=\"UTF-8\" standalone=\"no\"?>\n",
       "<!DOCTYPE svg PUBLIC \"-//W3C//DTD SVG 1.1//EN\"\n",
       " \"http://www.w3.org/Graphics/SVG/1.1/DTD/svg11.dtd\">\n",
       "<!-- Generated by graphviz version 6.0.1 (20220911.1526)\n",
       " -->\n",
       "<!-- Title: Gafgyt_asg_OPset Pages: 1 -->\n",
       "<svg width=\"871pt\" height=\"291pt\"\n",
       " viewBox=\"0.00 0.00 870.79 291.00\" xmlns=\"http://www.w3.org/2000/svg\" xmlns:xlink=\"http://www.w3.org/1999/xlink\">\n",
       "<g id=\"graph0\" class=\"graph\" transform=\"scale(1 1) rotate(0) translate(4 287)\">\n",
       "<title>Gafgyt_asg_OPset</title>\n",
       "<polygon fill=\"white\" stroke=\"none\" points=\"-4,4 -4,-287 866.79,-287 866.79,4 -4,4\"/>\n",
       "<!-- Start -->\n",
       "<g id=\"node1\" class=\"node\">\n",
       "<title>Start</title>\n",
       "<ellipse fill=\"none\" stroke=\"black\" cx=\"432.79\" cy=\"-265\" rx=\"77.19\" ry=\"18\"/>\n",
       "<text text-anchor=\"middle\" x=\"432.79\" y=\"-261.3\" font-family=\"Times New Roman,serif\" font-size=\"14.00\">Malware (Subject)</text>\n",
       "</g>\n",
       "<!-- 1 -->\n",
       "<g id=\"node2\" class=\"node\">\n",
       "<title>1</title>\n",
       "<ellipse fill=\"none\" stroke=\"black\" cx=\"59.79\" cy=\"-178\" rx=\"59.59\" ry=\"18\"/>\n",
       "<text text-anchor=\"middle\" x=\"59.79\" y=\"-174.3\" font-family=\"Times New Roman,serif\" font-size=\"14.00\">ip_addr+port</text>\n",
       "</g>\n",
       "<!-- Start&#45;&gt;1 -->\n",
       "<g id=\"edge1\" class=\"edge\">\n",
       "<title>Start&#45;&gt;1</title>\n",
       "<path fill=\"none\" stroke=\"black\" d=\"M356.14,-262.14C253.1,-258.83 80.47,-250.18 60.79,-229 55.14,-222.92 53.58,-214.4 53.83,-206.12\"/>\n",
       "<polygon fill=\"black\" stroke=\"black\" points=\"57.33,-206.28 54.95,-195.96 50.37,-205.51 57.33,-206.28\"/>\n",
       "<text text-anchor=\"middle\" x=\"92.79\" y=\"-217.8\" font-family=\"Times New Roman,serif\" font-size=\"14.00\">5.connect()</text>\n",
       "</g>\n",
       "<!-- Start&#45;&gt;1 -->\n",
       "<g id=\"edge2\" class=\"edge\">\n",
       "<title>Start&#45;&gt;1</title>\n",
       "<path fill=\"none\" stroke=\"black\" d=\"M359.47,-259.22C307.7,-254.58 237.11,-245.68 176.79,-229 149.6,-221.48 120.41,-209.01 97.99,-198.41\"/>\n",
       "<polygon fill=\"black\" stroke=\"black\" points=\"99.35,-195.18 88.82,-194 96.31,-201.49 99.35,-195.18\"/>\n",
       "<text text-anchor=\"middle\" x=\"202.79\" y=\"-217.8\" font-family=\"Times New Roman,serif\" font-size=\"14.00\">11.fcntl()</text>\n",
       "</g>\n",
       "<!-- 2 -->\n",
       "<g id=\"node3\" class=\"node\">\n",
       "<title>2</title>\n",
       "<ellipse fill=\"none\" stroke=\"black\" cx=\"206.79\" cy=\"-178\" rx=\"69.59\" ry=\"18\"/>\n",
       "<text text-anchor=\"middle\" x=\"206.79\" y=\"-174.3\" font-family=\"Times New Roman,serif\" font-size=\"14.00\">/.*bin/watchdog</text>\n",
       "</g>\n",
       "<!-- Start&#45;&gt;2 -->\n",
       "<g id=\"edge3\" class=\"edge\">\n",
       "<title>Start&#45;&gt;2</title>\n",
       "<path fill=\"none\" stroke=\"black\" d=\"M357.66,-260.62C323.25,-256.38 283.05,-247.45 250.79,-229 240.19,-222.93 230.84,-213.36 223.52,-204.2\"/>\n",
       "<polygon fill=\"black\" stroke=\"black\" points=\"226.19,-201.93 217.39,-196.03 220.59,-206.13 226.19,-201.93\"/>\n",
       "<text text-anchor=\"middle\" x=\"274.79\" y=\"-217.8\" font-family=\"Times New Roman,serif\" font-size=\"14.00\">8.open()</text>\n",
       "</g>\n",
       "<!-- 3 -->\n",
       "<g id=\"node4\" class=\"node\">\n",
       "<title>3</title>\n",
       "<ellipse fill=\"none\" stroke=\"black\" cx=\"312.79\" cy=\"-91\" rx=\"37.09\" ry=\"18\"/>\n",
       "<text text-anchor=\"middle\" x=\"312.79\" y=\"-87.3\" font-family=\"Times New Roman,serif\" font-size=\"14.00\">^UID.*</text>\n",
       "</g>\n",
       "<!-- Start&#45;&gt;3 -->\n",
       "<g id=\"edge4\" class=\"edge\">\n",
       "<title>Start&#45;&gt;3</title>\n",
       "<path fill=\"none\" stroke=\"black\" d=\"M380.42,-251.51C366.38,-246.29 352.01,-239.02 340.79,-229 310.35,-201.8 307.82,-151.21 309.67,-119.71\"/>\n",
       "<polygon fill=\"black\" stroke=\"black\" points=\"313.18,-119.67 310.47,-109.43 306.21,-119.13 313.18,-119.67\"/>\n",
       "<text text-anchor=\"middle\" x=\"348.79\" y=\"-174.3\" font-family=\"Times New Roman,serif\" font-size=\"14.00\">2.geteuid()</text>\n",
       "</g>\n",
       "<!-- 4 -->\n",
       "<g id=\"node5\" class=\"node\">\n",
       "<title>4</title>\n",
       "<ellipse fill=\"none\" stroke=\"black\" cx=\"431.79\" cy=\"-178\" rx=\"38.99\" ry=\"18\"/>\n",
       "<text text-anchor=\"middle\" x=\"431.79\" y=\"-174.3\" font-family=\"Times New Roman,serif\" font-size=\"14.00\">ip_addr</text>\n",
       "</g>\n",
       "<!-- Start&#45;&gt;4 -->\n",
       "<g id=\"edge5\" class=\"edge\">\n",
       "<title>Start&#45;&gt;4</title>\n",
       "<path fill=\"none\" stroke=\"black\" d=\"M376.95,-252.29C365.09,-247.13 353.99,-239.7 346.79,-229 343.07,-223.47 343.09,-219.54 346.79,-214 352.13,-206.04 371.15,-197.85 389.86,-191.39\"/>\n",
       "<polygon fill=\"black\" stroke=\"black\" points=\"391.15,-194.65 399.54,-188.18 388.94,-188.01 391.15,-194.65\"/>\n",
       "<text text-anchor=\"middle\" x=\"378.79\" y=\"-217.8\" font-family=\"Times New Roman,serif\" font-size=\"14.00\">4.connect()</text>\n",
       "</g>\n",
       "<!-- Start&#45;&gt;4 -->\n",
       "<g id=\"edge6\" class=\"edge\">\n",
       "<title>Start&#45;&gt;4</title>\n",
       "<path fill=\"none\" stroke=\"black\" d=\"M432.59,-246.8C432.46,-235.16 432.27,-219.55 432.12,-206.24\"/>\n",
       "<polygon fill=\"black\" stroke=\"black\" points=\"435.61,-206.13 432,-196.18 428.61,-206.22 435.61,-206.13\"/>\n",
       "<text text-anchor=\"middle\" x=\"458.79\" y=\"-217.8\" font-family=\"Times New Roman,serif\" font-size=\"14.00\">10.fcntl()</text>\n",
       "</g>\n",
       "<!-- 5 -->\n",
       "<g id=\"node6\" class=\"node\">\n",
       "<title>5</title>\n",
       "<ellipse fill=\"none\" stroke=\"black\" cx=\"557.79\" cy=\"-178\" rx=\"36.29\" ry=\"18\"/>\n",
       "<text text-anchor=\"middle\" x=\"557.79\" y=\"-174.3\" font-family=\"Times New Roman,serif\" font-size=\"14.00\">^PID.*</text>\n",
       "</g>\n",
       "<!-- Start&#45;&gt;5 -->\n",
       "<g id=\"edge7\" class=\"edge\">\n",
       "<title>Start&#45;&gt;5</title>\n",
       "<path fill=\"none\" stroke=\"black\" d=\"M457.41,-247.91C466.38,-242.01 476.57,-235.25 485.79,-229 500.27,-219.2 516.24,-208.13 529.46,-198.9\"/>\n",
       "<polygon fill=\"black\" stroke=\"black\" points=\"531.52,-201.73 537.71,-193.14 527.51,-196 531.52,-201.73\"/>\n",
       "<text text-anchor=\"middle\" x=\"538.79\" y=\"-217.8\" font-family=\"Times New Roman,serif\" font-size=\"14.00\">9.getppid()</text>\n",
       "</g>\n",
       "<!-- Start&#45;&gt;5 -->\n",
       "<g id=\"edge8\" class=\"edge\">\n",
       "<title>Start&#45;&gt;5</title>\n",
       "<path fill=\"none\" stroke=\"black\" d=\"M497.9,-255.26C528.98,-249.62 561.42,-241.05 570.79,-229 576.24,-222.01 575.54,-212.96 572.63,-204.49\"/>\n",
       "<polygon fill=\"black\" stroke=\"black\" points=\"575.84,-203.07 568.62,-195.31 569.42,-205.88 575.84,-203.07\"/>\n",
       "<text text-anchor=\"middle\" x=\"603.29\" y=\"-217.8\" font-family=\"Times New Roman,serif\" font-size=\"14.00\">3.getpid()</text>\n",
       "</g>\n",
       "<!-- 6 -->\n",
       "<g id=\"node7\" class=\"node\">\n",
       "<title>6</title>\n",
       "<ellipse fill=\"none\" stroke=\"black\" cx=\"689.79\" cy=\"-178\" rx=\"64.19\" ry=\"18\"/>\n",
       "<text text-anchor=\"middle\" x=\"689.79\" y=\"-174.3\" font-family=\"Times New Roman,serif\" font-size=\"14.00\">/proc/net/route</text>\n",
       "</g>\n",
       "<!-- Start&#45;&gt;6 -->\n",
       "<g id=\"edge9\" class=\"edge\">\n",
       "<title>Start&#45;&gt;6</title>\n",
       "<path fill=\"none\" stroke=\"black\" d=\"M508.34,-260.99C547.69,-256.99 595.62,-248.15 634.79,-229 647.6,-222.74 659.6,-212.57 669.1,-203.03\"/>\n",
       "<polygon fill=\"black\" stroke=\"black\" points=\"671.8,-205.27 676.15,-195.61 666.72,-200.45 671.8,-205.27\"/>\n",
       "<text text-anchor=\"middle\" x=\"680.79\" y=\"-217.8\" font-family=\"Times New Roman,serif\" font-size=\"14.00\">6.open()</text>\n",
       "</g>\n",
       "<!-- Start&#45;&gt;6 -->\n",
       "<g id=\"edge10\" class=\"edge\">\n",
       "<title>Start&#45;&gt;6</title>\n",
       "<path fill=\"none\" stroke=\"black\" d=\"M506.93,-259.59C584.1,-254.23 695.58,-243.99 708.79,-229 714.84,-222.14 713.43,-213.17 709.4,-204.72\"/>\n",
       "<polygon fill=\"black\" stroke=\"black\" points=\"712.3,-202.75 704.23,-195.88 706.26,-206.28 712.3,-202.75\"/>\n",
       "<text text-anchor=\"middle\" x=\"735.79\" y=\"-217.8\" font-family=\"Times New Roman,serif\" font-size=\"14.00\">7.read()</text>\n",
       "</g>\n",
       "<!-- 7 -->\n",
       "<g id=\"node8\" class=\"node\">\n",
       "<title>7</title>\n",
       "<ellipse fill=\"none\" stroke=\"black\" cx=\"800.79\" cy=\"-18\" rx=\"59.29\" ry=\"18\"/>\n",
       "<text text-anchor=\"middle\" x=\"800.79\" y=\"-14.3\" font-family=\"Times New Roman,serif\" font-size=\"14.00\">/.*bin/python</text>\n",
       "</g>\n",
       "<!-- Start&#45;&gt;7 -->\n",
       "<g id=\"edge11\" class=\"edge\">\n",
       "<title>Start&#45;&gt;7</title>\n",
       "<path fill=\"none\" stroke=\"black\" d=\"M507.97,-260.69C599.31,-255.95 743.53,-245.9 761.79,-229 812.82,-181.79 810.03,-91.11 804.88,-45.94\"/>\n",
       "<polygon fill=\"black\" stroke=\"black\" points=\"808.35,-45.48 803.62,-36 801.4,-46.36 808.35,-45.48\"/>\n",
       "<text text-anchor=\"middle\" x=\"833.79\" y=\"-130.8\" font-family=\"Times New Roman,serif\" font-size=\"14.00\">1.access()</text>\n",
       "</g>\n",
       "</g>\n",
       "</svg>\n"
      ],
      "text/plain": [
       "<graphviz.sources.Source at 0x229b4e568f0>"
      ]
     },
     "metadata": {},
     "output_type": "display_data"
    },
    {
     "name": "stdout",
     "output_type": "stream",
     "text": [
      "Gafgyt-fortinet.csv raw doc OPset\n"
     ]
    },
    {
     "data": {
      "image/svg+xml": [
       "<?xml version=\"1.0\" encoding=\"UTF-8\" standalone=\"no\"?>\n",
       "<!DOCTYPE svg PUBLIC \"-//W3C//DTD SVG 1.1//EN\"\n",
       " \"http://www.w3.org/Graphics/SVG/1.1/DTD/svg11.dtd\">\n",
       "<!-- Generated by graphviz version 6.0.1 (20220911.1526)\n",
       " -->\n",
       "<!-- Pages: 1 -->\n",
       "<svg width=\"163pt\" height=\"131pt\"\n",
       " viewBox=\"0.00 0.00 162.69 131.00\" xmlns=\"http://www.w3.org/2000/svg\" xmlns:xlink=\"http://www.w3.org/1999/xlink\">\n",
       "<g id=\"graph0\" class=\"graph\" transform=\"scale(1 1) rotate(0) translate(4 127)\">\n",
       "<polygon fill=\"white\" stroke=\"none\" points=\"-4,4 -4,-127 158.69,-127 158.69,4 -4,4\"/>\n",
       "<!-- Start -->\n",
       "<g id=\"node1\" class=\"node\">\n",
       "<title>Start</title>\n",
       "<ellipse fill=\"none\" stroke=\"black\" cx=\"77.34\" cy=\"-105\" rx=\"77.19\" ry=\"18\"/>\n",
       "<text text-anchor=\"middle\" x=\"77.34\" y=\"-101.3\" font-family=\"Times New Roman,serif\" font-size=\"14.00\">Malware (Subject)</text>\n",
       "</g>\n",
       "<!-- 1 -->\n",
       "<g id=\"node2\" class=\"node\">\n",
       "<title>1</title>\n",
       "<ellipse fill=\"none\" stroke=\"black\" cx=\"77.34\" cy=\"-18\" rx=\"38.99\" ry=\"18\"/>\n",
       "<text text-anchor=\"middle\" x=\"77.34\" y=\"-14.3\" font-family=\"Times New Roman,serif\" font-size=\"14.00\">ip_addr</text>\n",
       "</g>\n",
       "<!-- Start&#45;&gt;1 -->\n",
       "<g id=\"edge1\" class=\"edge\">\n",
       "<title>Start&#45;&gt;1</title>\n",
       "<path fill=\"none\" stroke=\"black\" d=\"M63.48,-87.2C59.77,-81.73 56.26,-75.41 54.34,-69 51.82,-60.58 54.09,-51.75 58.02,-43.9\"/>\n",
       "<polygon fill=\"black\" stroke=\"black\" points=\"61.08,-45.59 63.21,-35.21 55.08,-42 61.08,-45.59\"/>\n",
       "<text text-anchor=\"middle\" x=\"66.84\" y=\"-57.8\" font-family=\"Times New Roman,serif\" font-size=\"14.00\">3.be</text>\n",
       "</g>\n",
       "<!-- Start&#45;&gt;1 -->\n",
       "<g id=\"edge2\" class=\"edge\">\n",
       "<title>Start&#45;&gt;1</title>\n",
       "<path fill=\"none\" stroke=\"black\" d=\"M78.51,-86.92C78.85,-81.22 79.18,-74.84 79.34,-69 79.55,-61.65 79.41,-53.69 79.11,-46.33\"/>\n",
       "<polygon fill=\"black\" stroke=\"black\" points=\"82.6,-45.94 78.61,-36.12 75.61,-46.28 82.6,-45.94\"/>\n",
       "<text text-anchor=\"middle\" x=\"105.84\" y=\"-57.8\" font-family=\"Times New Roman,serif\" font-size=\"14.00\">1.execute</text>\n",
       "</g>\n",
       "</g>\n",
       "</svg>\n"
      ],
      "text/plain": [
       "<graphviz.graphs.Digraph at 0x229b8491ed0>"
      ]
     },
     "metadata": {},
     "output_type": "display_data"
    },
    {
     "name": "stdout",
     "output_type": "stream",
     "text": [
      "Gafgyt-nozominetworks.csv raw doc OPset\n"
     ]
    },
    {
     "data": {
      "image/svg+xml": [
       "<?xml version=\"1.0\" encoding=\"UTF-8\" standalone=\"no\"?>\n",
       "<!DOCTYPE svg PUBLIC \"-//W3C//DTD SVG 1.1//EN\"\n",
       " \"http://www.w3.org/Graphics/SVG/1.1/DTD/svg11.dtd\">\n",
       "<!-- Generated by graphviz version 6.0.1 (20220911.1526)\n",
       " -->\n",
       "<!-- Pages: 1 -->\n",
       "<svg width=\"258pt\" height=\"131pt\"\n",
       " viewBox=\"0.00 0.00 258.34 131.00\" xmlns=\"http://www.w3.org/2000/svg\" xmlns:xlink=\"http://www.w3.org/1999/xlink\">\n",
       "<g id=\"graph0\" class=\"graph\" transform=\"scale(1 1) rotate(0) translate(4 127)\">\n",
       "<polygon fill=\"white\" stroke=\"none\" points=\"-4,4 -4,-127 254.34,-127 254.34,4 -4,4\"/>\n",
       "<!-- Start -->\n",
       "<g id=\"node1\" class=\"node\">\n",
       "<title>Start</title>\n",
       "<ellipse fill=\"none\" stroke=\"black\" cx=\"77.34\" cy=\"-105\" rx=\"77.19\" ry=\"18\"/>\n",
       "<text text-anchor=\"middle\" x=\"77.34\" y=\"-101.3\" font-family=\"Times New Roman,serif\" font-size=\"14.00\">Malware (Subject)</text>\n",
       "</g>\n",
       "<!-- 1 -->\n",
       "<g id=\"node2\" class=\"node\">\n",
       "<title>1</title>\n",
       "<ellipse fill=\"none\" stroke=\"black\" cx=\"77.34\" cy=\"-18\" rx=\"36.29\" ry=\"18\"/>\n",
       "<text text-anchor=\"middle\" x=\"77.34\" y=\"-14.3\" font-family=\"Times New Roman,serif\" font-size=\"14.00\">^PID.*</text>\n",
       "</g>\n",
       "<!-- Start&#45;&gt;1 -->\n",
       "<g id=\"edge1\" class=\"edge\">\n",
       "<title>Start&#45;&gt;1</title>\n",
       "<path fill=\"none\" stroke=\"black\" d=\"M77.34,-86.8C77.34,-75.16 77.34,-59.55 77.34,-46.24\"/>\n",
       "<polygon fill=\"black\" stroke=\"black\" points=\"80.84,-46.18 77.34,-36.18 73.84,-46.18 80.84,-46.18\"/>\n",
       "<text text-anchor=\"middle\" x=\"96.84\" y=\"-57.8\" font-family=\"Times New Roman,serif\" font-size=\"14.00\">1.issue</text>\n",
       "</g>\n",
       "<!-- 2 -->\n",
       "<g id=\"node3\" class=\"node\">\n",
       "<title>2</title>\n",
       "<ellipse fill=\"none\" stroke=\"black\" cx=\"211.34\" cy=\"-105\" rx=\"38.99\" ry=\"18\"/>\n",
       "<text text-anchor=\"middle\" x=\"211.34\" y=\"-101.3\" font-family=\"Times New Roman,serif\" font-size=\"14.00\">ip_addr</text>\n",
       "</g>\n",
       "</g>\n",
       "</svg>\n"
      ],
      "text/plain": [
       "<graphviz.graphs.Digraph at 0x229b8491de0>"
      ]
     },
     "metadata": {},
     "output_type": "display_data"
    },
    {
     "name": "stdout",
     "output_type": "stream",
     "text": [
      "Gafgyt-sectrio.csv raw doc OPset\n"
     ]
    },
    {
     "data": {
      "image/svg+xml": [
       "<?xml version=\"1.0\" encoding=\"UTF-8\" standalone=\"no\"?>\n",
       "<!DOCTYPE svg PUBLIC \"-//W3C//DTD SVG 1.1//EN\"\n",
       " \"http://www.w3.org/Graphics/SVG/1.1/DTD/svg11.dtd\">\n",
       "<!-- Generated by graphviz version 6.0.1 (20220911.1526)\n",
       " -->\n",
       "<!-- Pages: 1 -->\n",
       "<svg width=\"317pt\" height=\"131pt\"\n",
       " viewBox=\"0.00 0.00 317.34 131.00\" xmlns=\"http://www.w3.org/2000/svg\" xmlns:xlink=\"http://www.w3.org/1999/xlink\">\n",
       "<g id=\"graph0\" class=\"graph\" transform=\"scale(1 1) rotate(0) translate(4 127)\">\n",
       "<polygon fill=\"white\" stroke=\"none\" points=\"-4,4 -4,-127 313.34,-127 313.34,4 -4,4\"/>\n",
       "<!-- Start -->\n",
       "<g id=\"node1\" class=\"node\">\n",
       "<title>Start</title>\n",
       "<ellipse fill=\"none\" stroke=\"black\" cx=\"85\" cy=\"-105\" rx=\"77.19\" ry=\"18\"/>\n",
       "<text text-anchor=\"middle\" x=\"85\" y=\"-101.3\" font-family=\"Times New Roman,serif\" font-size=\"14.00\">Malware (Subject)</text>\n",
       "</g>\n",
       "<!-- 1 -->\n",
       "<g id=\"node2\" class=\"node\">\n",
       "<title>1</title>\n",
       "<ellipse fill=\"none\" stroke=\"black\" cx=\"39\" cy=\"-18\" rx=\"38.99\" ry=\"18\"/>\n",
       "<text text-anchor=\"middle\" x=\"39\" y=\"-14.3\" font-family=\"Times New Roman,serif\" font-size=\"14.00\">ip_addr</text>\n",
       "</g>\n",
       "<!-- Start&#45;&gt;1 -->\n",
       "<g id=\"edge1\" class=\"edge\">\n",
       "<title>Start&#45;&gt;1</title>\n",
       "<path fill=\"none\" stroke=\"black\" d=\"M75.69,-86.8C69.12,-74.66 60.21,-58.19 52.81,-44.52\"/>\n",
       "<polygon fill=\"black\" stroke=\"black\" points=\"55.82,-42.73 47.98,-35.6 49.66,-46.06 55.82,-42.73\"/>\n",
       "<text text-anchor=\"middle\" x=\"81.5\" y=\"-57.8\" font-family=\"Times New Roman,serif\" font-size=\"14.00\">4.trim</text>\n",
       "</g>\n",
       "<!-- 2 -->\n",
       "<g id=\"node3\" class=\"node\">\n",
       "<title>2</title>\n",
       "<ellipse fill=\"none\" stroke=\"black\" cx=\"132\" cy=\"-18\" rx=\"36.29\" ry=\"18\"/>\n",
       "<text text-anchor=\"middle\" x=\"132\" y=\"-14.3\" font-family=\"Times New Roman,serif\" font-size=\"14.00\">^PID.*</text>\n",
       "</g>\n",
       "<!-- Start&#45;&gt;2 -->\n",
       "<g id=\"edge2\" class=\"edge\">\n",
       "<title>Start&#45;&gt;2</title>\n",
       "<path fill=\"none\" stroke=\"black\" d=\"M94.51,-86.8C101.22,-74.66 110.33,-58.19 117.88,-44.52\"/>\n",
       "<polygon fill=\"black\" stroke=\"black\" points=\"121.04,-46.04 122.82,-35.6 114.92,-42.65 121.04,-46.04\"/>\n",
       "<text text-anchor=\"middle\" x=\"133\" y=\"-57.8\" font-family=\"Times New Roman,serif\" font-size=\"14.00\">1.check</text>\n",
       "</g>\n",
       "<!-- 3 -->\n",
       "<g id=\"node4\" class=\"node\">\n",
       "<title>3</title>\n",
       "<ellipse fill=\"none\" stroke=\"black\" cx=\"245\" cy=\"-105\" rx=\"64.19\" ry=\"18\"/>\n",
       "<text text-anchor=\"middle\" x=\"245\" y=\"-101.3\" font-family=\"Times New Roman,serif\" font-size=\"14.00\">/proc/net/route</text>\n",
       "</g>\n",
       "</g>\n",
       "</svg>\n"
      ],
      "text/plain": [
       "<graphviz.graphs.Digraph at 0x229b8491ed0>"
      ]
     },
     "metadata": {},
     "output_type": "display_data"
    },
    {
     "name": "stdout",
     "output_type": "stream",
     "text": [
      "Gafgyt-sectrio.csv matched doc OPset\n"
     ]
    },
    {
     "data": {
      "image/svg+xml": [
       "<?xml version=\"1.0\" encoding=\"UTF-8\" standalone=\"no\"?>\n",
       "<!DOCTYPE svg PUBLIC \"-//W3C//DTD SVG 1.1//EN\"\n",
       " \"http://www.w3.org/Graphics/SVG/1.1/DTD/svg11.dtd\">\n",
       "<!-- Generated by graphviz version 6.0.1 (20220911.1526)\n",
       " -->\n",
       "<!-- Pages: 1 -->\n",
       "<svg width=\"163pt\" height=\"131pt\"\n",
       " viewBox=\"0.00 0.00 162.69 131.00\" xmlns=\"http://www.w3.org/2000/svg\" xmlns:xlink=\"http://www.w3.org/1999/xlink\">\n",
       "<g id=\"graph0\" class=\"graph\" transform=\"scale(1 1) rotate(0) translate(4 127)\">\n",
       "<polygon fill=\"white\" stroke=\"none\" points=\"-4,4 -4,-127 158.69,-127 158.69,4 -4,4\"/>\n",
       "<!-- Start -->\n",
       "<g id=\"node1\" class=\"node\">\n",
       "<title>Start</title>\n",
       "<ellipse fill=\"none\" stroke=\"black\" cx=\"77.34\" cy=\"-105\" rx=\"77.19\" ry=\"18\"/>\n",
       "<text text-anchor=\"middle\" x=\"77.34\" y=\"-101.3\" font-family=\"Times New Roman,serif\" font-size=\"14.00\">Malware (Subject)</text>\n",
       "</g>\n",
       "<!-- 1 -->\n",
       "<g id=\"node2\" class=\"node\">\n",
       "<title>1</title>\n",
       "<ellipse fill=\"none\" stroke=\"black\" cx=\"77.34\" cy=\"-18\" rx=\"36.29\" ry=\"18\"/>\n",
       "<text text-anchor=\"middle\" x=\"77.34\" y=\"-14.3\" font-family=\"Times New Roman,serif\" font-size=\"14.00\">^PID.*</text>\n",
       "</g>\n",
       "<!-- Start&#45;&gt;1 -->\n",
       "<g id=\"edge1\" class=\"edge\">\n",
       "<title>Start&#45;&gt;1</title>\n",
       "<path fill=\"none\" stroke=\"black\" d=\"M77.34,-86.8C77.34,-75.16 77.34,-59.55 77.34,-46.24\"/>\n",
       "<polygon fill=\"black\" stroke=\"black\" points=\"80.84,-46.18 77.34,-36.18 73.84,-46.18 80.84,-46.18\"/>\n",
       "<text text-anchor=\"middle\" x=\"109.34\" y=\"-57.8\" font-family=\"Times New Roman,serif\" font-size=\"14.00\">1.check/get</text>\n",
       "</g>\n",
       "</g>\n",
       "</svg>\n"
      ],
      "text/plain": [
       "<graphviz.graphs.Digraph at 0x229b8491de0>"
      ]
     },
     "metadata": {},
     "output_type": "display_data"
    },
    {
     "name": "stdout",
     "output_type": "stream",
     "text": [
      "matched ASG OPset for doc Gafgyt-sectrio.csv\n"
     ]
    },
    {
     "data": {
      "image/svg+xml": [
       "<?xml version=\"1.0\" encoding=\"UTF-8\" standalone=\"no\"?>\n",
       "<!DOCTYPE svg PUBLIC \"-//W3C//DTD SVG 1.1//EN\"\n",
       " \"http://www.w3.org/Graphics/SVG/1.1/DTD/svg11.dtd\">\n",
       "<!-- Generated by graphviz version 6.0.1 (20220911.1526)\n",
       " -->\n",
       "<!-- Pages: 1 -->\n",
       "<svg width=\"163pt\" height=\"131pt\"\n",
       " viewBox=\"0.00 0.00 162.69 131.00\" xmlns=\"http://www.w3.org/2000/svg\" xmlns:xlink=\"http://www.w3.org/1999/xlink\">\n",
       "<g id=\"graph0\" class=\"graph\" transform=\"scale(1 1) rotate(0) translate(4 127)\">\n",
       "<polygon fill=\"white\" stroke=\"none\" points=\"-4,4 -4,-127 158.69,-127 158.69,4 -4,4\"/>\n",
       "<!-- Start -->\n",
       "<g id=\"node1\" class=\"node\">\n",
       "<title>Start</title>\n",
       "<ellipse fill=\"none\" stroke=\"black\" cx=\"77.34\" cy=\"-105\" rx=\"77.19\" ry=\"18\"/>\n",
       "<text text-anchor=\"middle\" x=\"77.34\" y=\"-101.3\" font-family=\"Times New Roman,serif\" font-size=\"14.00\">Malware (Subject)</text>\n",
       "</g>\n",
       "<!-- 1 -->\n",
       "<g id=\"node2\" class=\"node\">\n",
       "<title>1</title>\n",
       "<ellipse fill=\"none\" stroke=\"black\" cx=\"77.34\" cy=\"-18\" rx=\"36.29\" ry=\"18\"/>\n",
       "<text text-anchor=\"middle\" x=\"77.34\" y=\"-14.3\" font-family=\"Times New Roman,serif\" font-size=\"14.00\">^PID.*</text>\n",
       "</g>\n",
       "<!-- Start&#45;&gt;1 -->\n",
       "<g id=\"edge1\" class=\"edge\">\n",
       "<title>Start&#45;&gt;1</title>\n",
       "<path fill=\"none\" stroke=\"black\" d=\"M51.57,-87.87C45.45,-82.66 39.71,-76.31 36.34,-69 31.26,-57.98 37.78,-47.35 47.01,-38.75\"/>\n",
       "<polygon fill=\"black\" stroke=\"black\" points=\"49.33,-41.37 54.83,-32.31 44.88,-35.97 49.33,-41.37\"/>\n",
       "<text text-anchor=\"middle\" x=\"67.34\" y=\"-57.8\" font-family=\"Times New Roman,serif\" font-size=\"14.00\">9.getppid()</text>\n",
       "</g>\n",
       "<!-- Start&#45;&gt;1 -->\n",
       "<g id=\"edge2\" class=\"edge\">\n",
       "<title>Start&#45;&gt;1</title>\n",
       "<path fill=\"none\" stroke=\"black\" d=\"M90.01,-87.05C93.4,-81.57 96.6,-75.28 98.34,-69 100.63,-60.74 98.64,-52.04 95.12,-44.25\"/>\n",
       "<polygon fill=\"black\" stroke=\"black\" points=\"98.1,-42.41 90.26,-35.29 91.95,-45.75 98.1,-42.41\"/>\n",
       "<text text-anchor=\"middle\" x=\"125.84\" y=\"-57.8\" font-family=\"Times New Roman,serif\" font-size=\"14.00\">3.getpid()</text>\n",
       "</g>\n",
       "</g>\n",
       "</svg>\n"
      ],
      "text/plain": [
       "<graphviz.graphs.Digraph at 0x229b8491ed0>"
      ]
     },
     "metadata": {},
     "output_type": "display_data"
    },
    {
     "name": "stdout",
     "output_type": "stream",
     "text": [
      "Gafgyt-securityscorecard.csv raw doc OPset\n"
     ]
    },
    {
     "data": {
      "image/svg+xml": [
       "<?xml version=\"1.0\" encoding=\"UTF-8\" standalone=\"no\"?>\n",
       "<!DOCTYPE svg PUBLIC \"-//W3C//DTD SVG 1.1//EN\"\n",
       " \"http://www.w3.org/Graphics/SVG/1.1/DTD/svg11.dtd\">\n",
       "<!-- Generated by graphviz version 6.0.1 (20220911.1526)\n",
       " -->\n",
       "<!-- Pages: 1 -->\n",
       "<svg width=\"454pt\" height=\"131pt\"\n",
       " viewBox=\"0.00 0.00 454.34 131.00\" xmlns=\"http://www.w3.org/2000/svg\" xmlns:xlink=\"http://www.w3.org/1999/xlink\">\n",
       "<g id=\"graph0\" class=\"graph\" transform=\"scale(1 1) rotate(0) translate(4 127)\">\n",
       "<polygon fill=\"white\" stroke=\"none\" points=\"-4,4 -4,-127 450.34,-127 450.34,4 -4,4\"/>\n",
       "<!-- Start -->\n",
       "<g id=\"node1\" class=\"node\">\n",
       "<title>Start</title>\n",
       "<ellipse fill=\"none\" stroke=\"black\" cx=\"85\" cy=\"-105\" rx=\"77.19\" ry=\"18\"/>\n",
       "<text text-anchor=\"middle\" x=\"85\" y=\"-101.3\" font-family=\"Times New Roman,serif\" font-size=\"14.00\">Malware (Subject)</text>\n",
       "</g>\n",
       "<!-- 2 -->\n",
       "<g id=\"node3\" class=\"node\">\n",
       "<title>2</title>\n",
       "<ellipse fill=\"none\" stroke=\"black\" cx=\"39\" cy=\"-18\" rx=\"38.99\" ry=\"18\"/>\n",
       "<text text-anchor=\"middle\" x=\"39\" y=\"-14.3\" font-family=\"Times New Roman,serif\" font-size=\"14.00\">ip_addr</text>\n",
       "</g>\n",
       "<!-- Start&#45;&gt;2 -->\n",
       "<g id=\"edge2\" class=\"edge\">\n",
       "<title>Start&#45;&gt;2</title>\n",
       "<path fill=\"none\" stroke=\"black\" d=\"M65.29,-87.36C59.97,-81.99 54.67,-75.68 51,-69 47.15,-62.01 44.53,-53.81 42.74,-46.09\"/>\n",
       "<polygon fill=\"black\" stroke=\"black\" points=\"46.13,-45.18 40.79,-36.03 39.26,-46.51 46.13,-45.18\"/>\n",
       "<text text-anchor=\"middle\" x=\"80.5\" y=\"-57.8\" font-family=\"Times New Roman,serif\" font-size=\"14.00\">2.establish</text>\n",
       "</g>\n",
       "<!-- 3 -->\n",
       "<g id=\"node4\" class=\"node\">\n",
       "<title>3</title>\n",
       "<ellipse fill=\"none\" stroke=\"black\" cx=\"132\" cy=\"-18\" rx=\"36.29\" ry=\"18\"/>\n",
       "<text text-anchor=\"middle\" x=\"132\" y=\"-14.3\" font-family=\"Times New Roman,serif\" font-size=\"14.00\">^PID.*</text>\n",
       "</g>\n",
       "<!-- Start&#45;&gt;3 -->\n",
       "<g id=\"edge1\" class=\"edge\">\n",
       "<title>Start&#45;&gt;3</title>\n",
       "<path fill=\"none\" stroke=\"black\" d=\"M98.19,-87.02C102.23,-81.44 106.52,-75.1 110,-69 114.22,-61.58 118.19,-53.2 121.57,-45.45\"/>\n",
       "<polygon fill=\"black\" stroke=\"black\" points=\"124.85,-46.66 125.5,-36.09 118.4,-43.95 124.85,-46.66\"/>\n",
       "<text text-anchor=\"middle\" x=\"136.5\" y=\"-57.8\" font-family=\"Times New Roman,serif\" font-size=\"14.00\">3.store</text>\n",
       "</g>\n",
       "<!-- 1 -->\n",
       "<g id=\"node2\" class=\"node\">\n",
       "<title>1</title>\n",
       "<ellipse fill=\"none\" stroke=\"black\" cx=\"240\" cy=\"-105\" rx=\"59.59\" ry=\"18\"/>\n",
       "<text text-anchor=\"middle\" x=\"240\" y=\"-101.3\" font-family=\"Times New Roman,serif\" font-size=\"14.00\">ip_addr+port</text>\n",
       "</g>\n",
       "<!-- 4 -->\n",
       "<g id=\"node5\" class=\"node\">\n",
       "<title>4</title>\n",
       "<ellipse fill=\"none\" stroke=\"black\" cx=\"382\" cy=\"-105\" rx=\"64.19\" ry=\"18\"/>\n",
       "<text text-anchor=\"middle\" x=\"382\" y=\"-101.3\" font-family=\"Times New Roman,serif\" font-size=\"14.00\">/proc/net/route</text>\n",
       "</g>\n",
       "</g>\n",
       "</svg>\n"
      ],
      "text/plain": [
       "<graphviz.graphs.Digraph at 0x229b8491de0>"
      ]
     },
     "metadata": {},
     "output_type": "display_data"
    },
    {
     "name": "stdout",
     "output_type": "stream",
     "text": [
      "Gafgyt-securityscorecard.csv matched doc OPset\n"
     ]
    },
    {
     "data": {
      "image/svg+xml": [
       "<?xml version=\"1.0\" encoding=\"UTF-8\" standalone=\"no\"?>\n",
       "<!DOCTYPE svg PUBLIC \"-//W3C//DTD SVG 1.1//EN\"\n",
       " \"http://www.w3.org/Graphics/SVG/1.1/DTD/svg11.dtd\">\n",
       "<!-- Generated by graphviz version 6.0.1 (20220911.1526)\n",
       " -->\n",
       "<!-- Pages: 1 -->\n",
       "<svg width=\"183pt\" height=\"131pt\"\n",
       " viewBox=\"0.00 0.00 183.34 131.00\" xmlns=\"http://www.w3.org/2000/svg\" xmlns:xlink=\"http://www.w3.org/1999/xlink\">\n",
       "<g id=\"graph0\" class=\"graph\" transform=\"scale(1 1) rotate(0) translate(4 127)\">\n",
       "<polygon fill=\"white\" stroke=\"none\" points=\"-4,4 -4,-127 179.34,-127 179.34,4 -4,4\"/>\n",
       "<!-- Start -->\n",
       "<g id=\"node1\" class=\"node\">\n",
       "<title>Start</title>\n",
       "<ellipse fill=\"none\" stroke=\"black\" cx=\"77.34\" cy=\"-105\" rx=\"77.19\" ry=\"18\"/>\n",
       "<text text-anchor=\"middle\" x=\"77.34\" y=\"-101.3\" font-family=\"Times New Roman,serif\" font-size=\"14.00\">Malware (Subject)</text>\n",
       "</g>\n",
       "<!-- 1 -->\n",
       "<g id=\"node2\" class=\"node\">\n",
       "<title>1</title>\n",
       "<ellipse fill=\"none\" stroke=\"black\" cx=\"77.34\" cy=\"-18\" rx=\"38.99\" ry=\"18\"/>\n",
       "<text text-anchor=\"middle\" x=\"77.34\" y=\"-14.3\" font-family=\"Times New Roman,serif\" font-size=\"14.00\">ip_addr</text>\n",
       "</g>\n",
       "<!-- Start&#45;&gt;1 -->\n",
       "<g id=\"edge1\" class=\"edge\">\n",
       "<title>Start&#45;&gt;1</title>\n",
       "<path fill=\"none\" stroke=\"black\" d=\"M77.34,-86.8C77.34,-75.16 77.34,-59.55 77.34,-46.24\"/>\n",
       "<polygon fill=\"black\" stroke=\"black\" points=\"80.84,-46.18 77.34,-36.18 73.84,-46.18 80.84,-46.18\"/>\n",
       "<text text-anchor=\"middle\" x=\"126.34\" y=\"-57.8\" font-family=\"Times New Roman,serif\" font-size=\"14.00\">2.establish/initiate</text>\n",
       "</g>\n",
       "</g>\n",
       "</svg>\n"
      ],
      "text/plain": [
       "<graphviz.graphs.Digraph at 0x229b8491ed0>"
      ]
     },
     "metadata": {},
     "output_type": "display_data"
    },
    {
     "name": "stdout",
     "output_type": "stream",
     "text": [
      "matched ASG OPset for doc Gafgyt-securityscorecard.csv\n"
     ]
    },
    {
     "data": {
      "image/svg+xml": [
       "<?xml version=\"1.0\" encoding=\"UTF-8\" standalone=\"no\"?>\n",
       "<!DOCTYPE svg PUBLIC \"-//W3C//DTD SVG 1.1//EN\"\n",
       " \"http://www.w3.org/Graphics/SVG/1.1/DTD/svg11.dtd\">\n",
       "<!-- Generated by graphviz version 6.0.1 (20220911.1526)\n",
       " -->\n",
       "<!-- Pages: 1 -->\n",
       "<svg width=\"163pt\" height=\"131pt\"\n",
       " viewBox=\"0.00 0.00 162.69 131.00\" xmlns=\"http://www.w3.org/2000/svg\" xmlns:xlink=\"http://www.w3.org/1999/xlink\">\n",
       "<g id=\"graph0\" class=\"graph\" transform=\"scale(1 1) rotate(0) translate(4 127)\">\n",
       "<polygon fill=\"white\" stroke=\"none\" points=\"-4,4 -4,-127 158.69,-127 158.69,4 -4,4\"/>\n",
       "<!-- Start -->\n",
       "<g id=\"node1\" class=\"node\">\n",
       "<title>Start</title>\n",
       "<ellipse fill=\"none\" stroke=\"black\" cx=\"77.34\" cy=\"-105\" rx=\"77.19\" ry=\"18\"/>\n",
       "<text text-anchor=\"middle\" x=\"77.34\" y=\"-101.3\" font-family=\"Times New Roman,serif\" font-size=\"14.00\">Malware (Subject)</text>\n",
       "</g>\n",
       "<!-- 1 -->\n",
       "<g id=\"node2\" class=\"node\">\n",
       "<title>1</title>\n",
       "<ellipse fill=\"none\" stroke=\"black\" cx=\"77.34\" cy=\"-18\" rx=\"38.99\" ry=\"18\"/>\n",
       "<text text-anchor=\"middle\" x=\"77.34\" y=\"-14.3\" font-family=\"Times New Roman,serif\" font-size=\"14.00\">ip_addr</text>\n",
       "</g>\n",
       "<!-- Start&#45;&gt;1 -->\n",
       "<g id=\"edge1\" class=\"edge\">\n",
       "<title>Start&#45;&gt;1</title>\n",
       "<path fill=\"none\" stroke=\"black\" d=\"M77.34,-86.8C77.34,-75.16 77.34,-59.55 77.34,-46.24\"/>\n",
       "<polygon fill=\"black\" stroke=\"black\" points=\"80.84,-46.18 77.34,-36.18 73.84,-46.18 80.84,-46.18\"/>\n",
       "<text text-anchor=\"middle\" x=\"109.34\" y=\"-57.8\" font-family=\"Times New Roman,serif\" font-size=\"14.00\">4.connect()</text>\n",
       "</g>\n",
       "</g>\n",
       "</svg>\n"
      ],
      "text/plain": [
       "<graphviz.graphs.Digraph at 0x229b8491de0>"
      ]
     },
     "metadata": {},
     "output_type": "display_data"
    },
    {
     "name": "stdout",
     "output_type": "stream",
     "text": [
      "Gafgyt-unit42-2.csv raw doc OPset\n"
     ]
    },
    {
     "data": {
      "image/svg+xml": [
       "<?xml version=\"1.0\" encoding=\"UTF-8\" standalone=\"no\"?>\n",
       "<!DOCTYPE svg PUBLIC \"-//W3C//DTD SVG 1.1//EN\"\n",
       " \"http://www.w3.org/Graphics/SVG/1.1/DTD/svg11.dtd\">\n",
       "<!-- Generated by graphviz version 6.0.1 (20220911.1526)\n",
       " -->\n",
       "<!-- Pages: 1 -->\n",
       "<svg width=\"257pt\" height=\"131pt\"\n",
       " viewBox=\"0.00 0.00 257.04 131.00\" xmlns=\"http://www.w3.org/2000/svg\" xmlns:xlink=\"http://www.w3.org/1999/xlink\">\n",
       "<g id=\"graph0\" class=\"graph\" transform=\"scale(1 1) rotate(0) translate(4 127)\">\n",
       "<polygon fill=\"white\" stroke=\"none\" points=\"-4,4 -4,-127 253.04,-127 253.04,4 -4,4\"/>\n",
       "<!-- Start -->\n",
       "<g id=\"node1\" class=\"node\">\n",
       "<title>Start</title>\n",
       "<ellipse fill=\"none\" stroke=\"black\" cx=\"126\" cy=\"-105\" rx=\"77.19\" ry=\"18\"/>\n",
       "<text text-anchor=\"middle\" x=\"126\" y=\"-101.3\" font-family=\"Times New Roman,serif\" font-size=\"14.00\">Malware (Subject)</text>\n",
       "</g>\n",
       "<!-- 1 -->\n",
       "<g id=\"node2\" class=\"node\">\n",
       "<title>1</title>\n",
       "<ellipse fill=\"none\" stroke=\"black\" cx=\"39\" cy=\"-18\" rx=\"38.99\" ry=\"18\"/>\n",
       "<text text-anchor=\"middle\" x=\"39\" y=\"-14.3\" font-family=\"Times New Roman,serif\" font-size=\"14.00\">ip_addr</text>\n",
       "</g>\n",
       "<!-- Start&#45;&gt;1 -->\n",
       "<g id=\"edge1\" class=\"edge\">\n",
       "<title>Start&#45;&gt;1</title>\n",
       "<path fill=\"none\" stroke=\"black\" d=\"M56.55,-97C39.67,-91.83 23.48,-83.22 13,-69 7.01,-60.88 10.06,-51.2 15.84,-42.52\"/>\n",
       "<polygon fill=\"black\" stroke=\"black\" points=\"18.63,-44.64 22.01,-34.6 13.1,-40.34 18.63,-44.64\"/>\n",
       "<text text-anchor=\"middle\" x=\"35\" y=\"-57.8\" font-family=\"Times New Roman,serif\" font-size=\"14.00\">4.locate</text>\n",
       "</g>\n",
       "<!-- Start&#45;&gt;1 -->\n",
       "<g id=\"edge3\" class=\"edge\">\n",
       "<title>Start&#45;&gt;1</title>\n",
       "<path fill=\"none\" stroke=\"black\" d=\"M104.4,-87.58C97.37,-81.93 89.66,-75.41 83,-69 74.66,-60.98 66.12,-51.59 58.81,-43.13\"/>\n",
       "<polygon fill=\"black\" stroke=\"black\" points=\"61.37,-40.73 52.22,-35.38 56.03,-45.27 61.37,-40.73\"/>\n",
       "<text text-anchor=\"middle\" x=\"118.5\" y=\"-57.8\" font-family=\"Times New Roman,serif\" font-size=\"14.00\">3.screenshot</text>\n",
       "</g>\n",
       "<!-- 2 -->\n",
       "<g id=\"node3\" class=\"node\">\n",
       "<title>2</title>\n",
       "<ellipse fill=\"none\" stroke=\"black\" cx=\"199\" cy=\"-18\" rx=\"50.09\" ry=\"18\"/>\n",
       "<text text-anchor=\"middle\" x=\"199\" y=\"-14.3\" font-family=\"Times New Roman,serif\" font-size=\"14.00\">mem_addr</text>\n",
       "</g>\n",
       "<!-- Start&#45;&gt;2 -->\n",
       "<g id=\"edge2\" class=\"edge\">\n",
       "<title>Start&#45;&gt;2</title>\n",
       "<path fill=\"none\" stroke=\"black\" d=\"M140.42,-87.21C151.19,-74.67 166.06,-57.35 178.13,-43.3\"/>\n",
       "<polygon fill=\"black\" stroke=\"black\" points=\"180.99,-45.34 184.85,-35.47 175.68,-40.78 180.99,-45.34\"/>\n",
       "<text text-anchor=\"middle\" x=\"181\" y=\"-57.8\" font-family=\"Times New Roman,serif\" font-size=\"14.00\">6.use</text>\n",
       "</g>\n",
       "<!-- Start&#45;&gt;2 -->\n",
       "<g id=\"edge4\" class=\"edge\">\n",
       "<title>Start&#45;&gt;2</title>\n",
       "<path fill=\"none\" stroke=\"black\" d=\"M174.21,-90.74C184.41,-85.63 193.91,-78.61 200,-69 204.26,-62.27 205.34,-53.94 204.97,-46.02\"/>\n",
       "<polygon fill=\"black\" stroke=\"black\" points=\"208.43,-45.54 203.79,-36.01 201.48,-46.35 208.43,-45.54\"/>\n",
       "<text text-anchor=\"middle\" x=\"224\" y=\"-57.8\" font-family=\"Times New Roman,serif\" font-size=\"14.00\">1.make</text>\n",
       "</g>\n",
       "</g>\n",
       "</svg>\n"
      ],
      "text/plain": [
       "<graphviz.graphs.Digraph at 0x229b8491ed0>"
      ]
     },
     "metadata": {},
     "output_type": "display_data"
    },
    {
     "name": "stdout",
     "output_type": "stream",
     "text": [
      "Gafgyt-unit42.csv raw doc OPset\n"
     ]
    },
    {
     "data": {
      "image/svg+xml": [
       "<?xml version=\"1.0\" encoding=\"UTF-8\" standalone=\"no\"?>\n",
       "<!DOCTYPE svg PUBLIC \"-//W3C//DTD SVG 1.1//EN\"\n",
       " \"http://www.w3.org/Graphics/SVG/1.1/DTD/svg11.dtd\">\n",
       "<!-- Generated by graphviz version 6.0.1 (20220911.1526)\n",
       " -->\n",
       "<!-- Pages: 1 -->\n",
       "<svg width=\"376pt\" height=\"44pt\"\n",
       " viewBox=\"0.00 0.00 376.34 44.00\" xmlns=\"http://www.w3.org/2000/svg\" xmlns:xlink=\"http://www.w3.org/1999/xlink\">\n",
       "<g id=\"graph0\" class=\"graph\" transform=\"scale(1 1) rotate(0) translate(4 40)\">\n",
       "<polygon fill=\"white\" stroke=\"none\" points=\"-4,4 -4,-40 372.34,-40 372.34,4 -4,4\"/>\n",
       "<!-- Start -->\n",
       "<g id=\"node1\" class=\"node\">\n",
       "<title>Start</title>\n",
       "<ellipse fill=\"none\" stroke=\"black\" cx=\"77.34\" cy=\"-18\" rx=\"77.19\" ry=\"18\"/>\n",
       "<text text-anchor=\"middle\" x=\"77.34\" y=\"-14.3\" font-family=\"Times New Roman,serif\" font-size=\"14.00\">Malware (Subject)</text>\n",
       "</g>\n",
       "<!-- 1 -->\n",
       "<g id=\"node2\" class=\"node\">\n",
       "<title>1</title>\n",
       "<ellipse fill=\"none\" stroke=\"black\" cx=\"222.34\" cy=\"-18\" rx=\"50.09\" ry=\"18\"/>\n",
       "<text text-anchor=\"middle\" x=\"222.34\" y=\"-14.3\" font-family=\"Times New Roman,serif\" font-size=\"14.00\">mem_addr</text>\n",
       "</g>\n",
       "<!-- 2 -->\n",
       "<g id=\"node3\" class=\"node\">\n",
       "<title>2</title>\n",
       "<ellipse fill=\"none\" stroke=\"black\" cx=\"329.34\" cy=\"-18\" rx=\"38.99\" ry=\"18\"/>\n",
       "<text text-anchor=\"middle\" x=\"329.34\" y=\"-14.3\" font-family=\"Times New Roman,serif\" font-size=\"14.00\">ip_addr</text>\n",
       "</g>\n",
       "</g>\n",
       "</svg>\n"
      ],
      "text/plain": [
       "<graphviz.graphs.Digraph at 0x229b8491de0>"
      ]
     },
     "metadata": {},
     "output_type": "display_data"
    }
   ],
   "source": [
    "import graphviz\n",
    "\n",
    "class ItemMapper:\n",
    "    def __init__(self) -> None:\n",
    "        self.mapper = {}\n",
    "        self.index_counter:int = 1\n",
    "        # self.pretty_name = {\n",
    "        #     \"\\d{1,3}\\.\\d{1,3}\\.\\d{1,3}\\.\\d{1,3}\": \"ip_addr\",\n",
    "        #     \"\\d{1,3}\\.\\d{1,3}\\.\\d{1,3}\\.\\d{1,3}:\\d+\": \"ip_addr+port\",\n",
    "        #     \"0x[0-9a-zA-Z]{8}\": \"mem_addr\",\n",
    "        #     \"permission:{0,1}[0-9]{0,4}\": \"permission_id\"\n",
    "        # }\n",
    "        pass\n",
    "    def addItem(self, item:str) -> str:\n",
    "        # item = self.prettifyName(item) # 先不在這做~\n",
    "        if item in self.mapper.keys():\n",
    "            return self.mapper.get(item)\n",
    "        self.mapper[item] = str(self.index_counter)\n",
    "        self.index_counter += 1\n",
    "        return str(self.index_counter - 1)\n",
    "    def getSymbol(self, item:str):\n",
    "        return self.mapper.get(item, None)\n",
    "    # def prettifyName(self, item:str) -> str:\n",
    "    #     changed = self.pretty_name.get(item, None)\n",
    "    #     if changed:\n",
    "    #         return changed\n",
    "    #     return item\n",
    "\n",
    "def draw_asg_op_graph(asg_OPset: list[OperationPair], family=None):\n",
    "    dot = graphviz.Digraph(f'{family}_asg_OPset', comment='The Operational Pair Graph') \n",
    "    dot.node('Start', label=\"Malware (Subject)\")\n",
    "    mapper = ItemMapper()\n",
    "    for op in asg_OPset:\n",
    "        node_id = mapper.addItem(op.object)\n",
    "        dot.node(node_id, label=prettifyName(op.object)) # rename partial regex\n",
    "        if op.action:\n",
    "            dot.edge('Start', node_id, label=f\"{op.step_number}.{op.action}()\") # syscall have braces end\n",
    "\n",
    "    # dot.graph_attr.update(ratio=\"0.4\")\n",
    "    u = dot.unflatten(stagger=3, fanout=True)\n",
    "    display(u)\n",
    "    del mapper\n",
    "    return u\n",
    "\n",
    "def draw_ctd_op_graph(fset:FamilySet):\n",
    "    for rem in fset.rem_lst:\n",
    "        # doc_OPset\n",
    "        if rem.doc_OPset is None or len(rem.doc_OPset) == 0:\n",
    "            continue\n",
    "        dot = graphviz.Digraph()\n",
    "        dot.node('Start', label=\"Malware (Subject)\")\n",
    "        mapper = ItemMapper()\n",
    "        for op in rem.doc_OPset:\n",
    "            node_id = mapper.addItem(op.object)\n",
    "            dot.node(node_id, label=prettifyName(op.object))\n",
    "            if op.action:\n",
    "                dot.edge('Start', node_id, label=f\"{op.step_number}.{op.action}\")\n",
    "        print(f\"{rem.reportname} raw doc OPset\")\n",
    "        display(dot)\n",
    "        del mapper\n",
    "\n",
    "        # match_doc_OPset\n",
    "        if rem.match_doc_OPset is None or len(rem.match_doc_OPset) == 0:\n",
    "            continue\n",
    "        dot = graphviz.Digraph()\n",
    "        dot.node('Start', label=\"Malware (Subject)\")\n",
    "        mapper = ItemMapper()\n",
    "        for op in rem.match_doc_OPset:\n",
    "            node_id = mapper.addItem(op.object)\n",
    "            dot.node(node_id, label=prettifyName(op.object))\n",
    "            if op.action:\n",
    "                label = f\"{op.step_number}.{op.action}/{op.altVerb}\" if op.altVerb else f\"{op.step_number}.{op.action}\"\n",
    "                dot.edge('Start', node_id, label=label)\n",
    "        print(f\"{rem.reportname} matched doc OPset\")\n",
    "        display(dot)\n",
    "        del mapper\n",
    "\n",
    "        # match_ASG_OPset\n",
    "        if rem.OPset_order_index is None or len(rem.OPset_order_index) == 0:\n",
    "            continue\n",
    "        dot = graphviz.Digraph()\n",
    "        dot.node('Start', label=\"Malware (Subject)\")\n",
    "        mapper = ItemMapper()\n",
    "        for op in [fset.sample.OPset_ordered[i] for i in rem.OPset_order_index]:\n",
    "            node_id = mapper.addItem(op.object)\n",
    "            dot.node(node_id, label=prettifyName(op.object))\n",
    "            if op.action:\n",
    "                dot.edge('Start', node_id, label=f\"{op.step_number}.{op.action}()\")\n",
    "        print(f\"matched ASG OPset for doc {rem.reportname}\")\n",
    "        display(dot)\n",
    "        del mapper\n",
    "    return\n",
    "\n",
    "draw_asg_op_graph(sample.OPset, family=family)\n",
    "draw_ctd_op_graph(fset)"
   ]
  },
  {
   "attachments": {},
   "cell_type": "markdown",
   "metadata": {},
   "source": [
    "### Run Script: print matched sentence for specific document"
   ]
  },
  {
   "cell_type": "code",
   "execution_count": 17,
   "metadata": {},
   "outputs": [
    {
     "data": {
      "text/html": [
       "<div>\n",
       "<style scoped>\n",
       "    .dataframe tbody tr th:only-of-type {\n",
       "        vertical-align: middle;\n",
       "    }\n",
       "\n",
       "    .dataframe tbody tr th {\n",
       "        vertical-align: top;\n",
       "    }\n",
       "\n",
       "    .dataframe thead th {\n",
       "        text-align: right;\n",
       "    }\n",
       "</style>\n",
       "<table border=\"1\" class=\"dataframe\">\n",
       "  <thead>\n",
       "    <tr style=\"text-align: right;\">\n",
       "      <th></th>\n",
       "      <th>report</th>\n",
       "      <th>word</th>\n",
       "      <th>verb</th>\n",
       "      <th>objectType</th>\n",
       "      <th>prettyReg</th>\n",
       "      <th>match</th>\n",
       "      <th>label</th>\n",
       "      <th>asgSyscall</th>\n",
       "      <th>sentence</th>\n",
       "    </tr>\n",
       "  </thead>\n",
       "  <tbody>\n",
       "    <tr>\n",
       "      <th>0</th>\n",
       "      <td>Gafgyt-fortinet.csv</td>\n",
       "      <td>112.212.0.0/15,112.214.0.0/16,210.213.0.0/16</td>\n",
       "      <td>be</td>\n",
       "      <td>NET</td>\n",
       "      <td>ip_addr</td>\n",
       "      <td>0</td>\n",
       "      <td>0</td>\n",
       "      <td>None</td>\n",
       "      <td>The first argument indicates the number of run...</td>\n",
       "    </tr>\n",
       "    <tr>\n",
       "      <th>1</th>\n",
       "      <td>Gafgyt-fortinet.csv</td>\n",
       "      <td>122.3.0.0/16,</td>\n",
       "      <td>None</td>\n",
       "      <td>NET</td>\n",
       "      <td>ip_addr</td>\n",
       "      <td>0</td>\n",
       "      <td>0</td>\n",
       "      <td>None</td>\n",
       "      <td>The first argument indicates the number of run...</td>\n",
       "    </tr>\n",
       "    <tr>\n",
       "      <th>2</th>\n",
       "      <td>Gafgyt-fortinet.csv</td>\n",
       "      <td>8.8.8.8</td>\n",
       "      <td>execute</td>\n",
       "      <td>NET</td>\n",
       "      <td>ip_addr</td>\n",
       "      <td>0</td>\n",
       "      <td>0</td>\n",
       "      <td>None</td>\n",
       "      <td>After the Gafgyt bot executes it establishes a...</td>\n",
       "    </tr>\n",
       "    <tr>\n",
       "      <th>3</th>\n",
       "      <td>Gafgyt-nozominetworks.csv</td>\n",
       "      <td>PID</td>\n",
       "      <td>issue</td>\n",
       "      <td>ID</td>\n",
       "      <td>^PID.*</td>\n",
       "      <td>0</td>\n",
       "      <td>0</td>\n",
       "      <td>None</td>\n",
       "      <td>Another way this functionality is implemented...</td>\n",
       "    </tr>\n",
       "    <tr>\n",
       "      <th>4</th>\n",
       "      <td>Gafgyt-nozominetworks.csv</td>\n",
       "      <td>62.197.136.231</td>\n",
       "      <td>None</td>\n",
       "      <td>NET</td>\n",
       "      <td>ip_addr</td>\n",
       "      <td>0</td>\n",
       "      <td>0</td>\n",
       "      <td>None</td>\n",
       "      <td>IoCs 62.197.136.231 80.76.51.244 2b1cc052f781...</td>\n",
       "    </tr>\n",
       "    <tr>\n",
       "      <th>5</th>\n",
       "      <td>Gafgyt-sectrio.csv</td>\n",
       "      <td>176.32.37.93</td>\n",
       "      <td>trim</td>\n",
       "      <td>NET</td>\n",
       "      <td>ip_addr</td>\n",
       "      <td>0</td>\n",
       "      <td>0</td>\n",
       "      <td>None</td>\n",
       "      <td>STD 176.32.37.93 7777 50\\n” then malware trims...</td>\n",
       "    </tr>\n",
       "    <tr>\n",
       "      <th>6</th>\n",
       "      <td>Gafgyt-sectrio.csv</td>\n",
       "      <td>pid</td>\n",
       "      <td>check/get</td>\n",
       "      <td>ID</td>\n",
       "      <td>^PID.*</td>\n",
       "      <td>1</td>\n",
       "      <td>1</td>\n",
       "      <td>getppid() getpid()</td>\n",
       "      <td>Fig 3: Malware checking machine time, IP and ...</td>\n",
       "    </tr>\n",
       "    <tr>\n",
       "      <th>7</th>\n",
       "      <td>Gafgyt-sectrio.csv</td>\n",
       "      <td>176.32.37.93</td>\n",
       "      <td>None</td>\n",
       "      <td>NET</td>\n",
       "      <td>ip_addr</td>\n",
       "      <td>0</td>\n",
       "      <td>0</td>\n",
       "      <td>None</td>\n",
       "      <td>STD 176.32.37.93 7777 50\\n” command from the C&amp;C.</td>\n",
       "    </tr>\n",
       "    <tr>\n",
       "      <th>8</th>\n",
       "      <td>Gafgyt-sectrio.csv</td>\n",
       "      <td>(/proc/net/route)</td>\n",
       "      <td>None</td>\n",
       "      <td>FILE</td>\n",
       "      <td>/proc/net/route</td>\n",
       "      <td>0</td>\n",
       "      <td>0</td>\n",
       "      <td>None</td>\n",
       "      <td>From above image (Figure 4) malware checks fo...</td>\n",
       "    </tr>\n",
       "    <tr>\n",
       "      <th>9</th>\n",
       "      <td>Gafgyt-securityscorecard.csv</td>\n",
       "      <td>45.61.186.4:13561</td>\n",
       "      <td>None</td>\n",
       "      <td>NET</td>\n",
       "      <td>ip_addr+port</td>\n",
       "      <td>0</td>\n",
       "      <td>0</td>\n",
       "      <td>None</td>\n",
       "      <td>Indicators of Compromise C2 server 45.61.186....</td>\n",
       "    </tr>\n",
       "    <tr>\n",
       "      <th>10</th>\n",
       "      <td>Gafgyt-securityscorecard.csv</td>\n",
       "      <td>“8.8.8.8”</td>\n",
       "      <td>None</td>\n",
       "      <td>NET</td>\n",
       "      <td>ip_addr</td>\n",
       "      <td>0</td>\n",
       "      <td>0</td>\n",
       "      <td>None</td>\n",
       "      <td>In the function called util_local_addr, the b...</td>\n",
       "    </tr>\n",
       "    <tr>\n",
       "      <th>11</th>\n",
       "      <td>Gafgyt-securityscorecard.csv</td>\n",
       "      <td>PID</td>\n",
       "      <td>store</td>\n",
       "      <td>ID</td>\n",
       "      <td>^PID.*</td>\n",
       "      <td>0</td>\n",
       "      <td>0</td>\n",
       "      <td>None</td>\n",
       "      <td>An example of such a command is shown below: I...</td>\n",
       "    </tr>\n",
       "    <tr>\n",
       "      <th>12</th>\n",
       "      <td>Gafgyt-securityscorecard.csv</td>\n",
       "      <td>“/proc/net/route”:</td>\n",
       "      <td>None</td>\n",
       "      <td>FILE</td>\n",
       "      <td>/proc/net/route</td>\n",
       "      <td>0</td>\n",
       "      <td>0</td>\n",
       "      <td>None</td>\n",
       "      <td>The process opens the kernel routing table fr...</td>\n",
       "    </tr>\n",
       "    <tr>\n",
       "      <th>13</th>\n",
       "      <td>Gafgyt-securityscorecard.csv</td>\n",
       "      <td>45.61.186.4</td>\n",
       "      <td>establish/initiate</td>\n",
       "      <td>NET</td>\n",
       "      <td>ip_addr</td>\n",
       "      <td>1</td>\n",
       "      <td>1</td>\n",
       "      <td>connect()</td>\n",
       "      <td>It will establish a connection with the C2 ser...</td>\n",
       "    </tr>\n",
       "    <tr>\n",
       "      <th>14</th>\n",
       "      <td>Gafgyt-unit42-2.csv</td>\n",
       "      <td>http://46.243.189.101/gang/.</td>\n",
       "      <td>locate</td>\n",
       "      <td>NET</td>\n",
       "      <td>ip_addr</td>\n",
       "      <td>0</td>\n",
       "      <td>0</td>\n",
       "      <td>None</td>\n",
       "      <td>The payload source in this attack was located...</td>\n",
       "    </tr>\n",
       "    <tr>\n",
       "      <th>15</th>\n",
       "      <td>Gafgyt-unit42-2.csv</td>\n",
       "      <td>0xDEADBEEF</td>\n",
       "      <td>use</td>\n",
       "      <td>MEM</td>\n",
       "      <td>mem_addr</td>\n",
       "      <td>0</td>\n",
       "      <td>0</td>\n",
       "      <td>None</td>\n",
       "      <td>]183.53.120\\tTwo different keys used – 0xBAADF...</td>\n",
       "    </tr>\n",
       "    <tr>\n",
       "      <th>16</th>\n",
       "      <td>Gafgyt-unit42-2.csv</td>\n",
       "      <td>46.243.189.101.</td>\n",
       "      <td>None</td>\n",
       "      <td>NET</td>\n",
       "      <td>ip_addr</td>\n",
       "      <td>0</td>\n",
       "      <td>0</td>\n",
       "      <td>None</td>\n",
       "      <td>CAMPAIGN 2: Okane Samples from this campaign ...</td>\n",
       "    </tr>\n",
       "    <tr>\n",
       "      <th>17</th>\n",
       "      <td>Gafgyt-unit42-2.csv</td>\n",
       "      <td>46.243.189.101</td>\n",
       "      <td>screenshot</td>\n",
       "      <td>NET</td>\n",
       "      <td>ip_addr</td>\n",
       "      <td>0</td>\n",
       "      <td>0</td>\n",
       "      <td>None</td>\n",
       "      <td>Figure 4: Screenshot from open directory at p...</td>\n",
       "    </tr>\n",
       "    <tr>\n",
       "      <th>18</th>\n",
       "      <td>Gafgyt-unit42-2.csv</td>\n",
       "      <td>0xBAADF00D,</td>\n",
       "      <td>None</td>\n",
       "      <td>MEM</td>\n",
       "      <td>mem_addr</td>\n",
       "      <td>0</td>\n",
       "      <td>0</td>\n",
       "      <td>None</td>\n",
       "      <td>]183.53.120\\tTwo different keys used – 0xBAADF...</td>\n",
       "    </tr>\n",
       "    <tr>\n",
       "      <th>19</th>\n",
       "      <td>Gafgyt-unit42-2.csv</td>\n",
       "      <td>0xBAADF00D</td>\n",
       "      <td>make</td>\n",
       "      <td>MEM</td>\n",
       "      <td>mem_addr</td>\n",
       "      <td>0</td>\n",
       "      <td>0</td>\n",
       "      <td>None</td>\n",
       "      <td>Differentiating features of the campaign:  Two...</td>\n",
       "    </tr>\n",
       "    <tr>\n",
       "      <th>20</th>\n",
       "      <td>Gafgyt-unit42.csv</td>\n",
       "      <td>0xdeadf00d.</td>\n",
       "      <td>None</td>\n",
       "      <td>MEM</td>\n",
       "      <td>mem_addr</td>\n",
       "      <td>0</td>\n",
       "      <td>0</td>\n",
       "      <td>None</td>\n",
       "      <td>They use l.ocalhost.host:47883 as C2, and the ...</td>\n",
       "    </tr>\n",
       "    <tr>\n",
       "      <th>21</th>\n",
       "      <td>Gafgyt-unit42.csv</td>\n",
       "      <td>185.10.68.127.</td>\n",
       "      <td>None</td>\n",
       "      <td>NET</td>\n",
       "      <td>ip_addr</td>\n",
       "      <td>0</td>\n",
       "      <td>0</td>\n",
       "      <td>None</td>\n",
       "      <td>For part of the month of August 2018, that sam...</td>\n",
       "    </tr>\n",
       "  </tbody>\n",
       "</table>\n",
       "</div>"
      ],
      "text/plain": [
       "                          report  \\\n",
       "0            Gafgyt-fortinet.csv   \n",
       "1            Gafgyt-fortinet.csv   \n",
       "2            Gafgyt-fortinet.csv   \n",
       "3      Gafgyt-nozominetworks.csv   \n",
       "4      Gafgyt-nozominetworks.csv   \n",
       "5             Gafgyt-sectrio.csv   \n",
       "6             Gafgyt-sectrio.csv   \n",
       "7             Gafgyt-sectrio.csv   \n",
       "8             Gafgyt-sectrio.csv   \n",
       "9   Gafgyt-securityscorecard.csv   \n",
       "10  Gafgyt-securityscorecard.csv   \n",
       "11  Gafgyt-securityscorecard.csv   \n",
       "12  Gafgyt-securityscorecard.csv   \n",
       "13  Gafgyt-securityscorecard.csv   \n",
       "14           Gafgyt-unit42-2.csv   \n",
       "15           Gafgyt-unit42-2.csv   \n",
       "16           Gafgyt-unit42-2.csv   \n",
       "17           Gafgyt-unit42-2.csv   \n",
       "18           Gafgyt-unit42-2.csv   \n",
       "19           Gafgyt-unit42-2.csv   \n",
       "20             Gafgyt-unit42.csv   \n",
       "21             Gafgyt-unit42.csv   \n",
       "\n",
       "                                            word                verb  \\\n",
       "0   112.212.0.0/15,112.214.0.0/16,210.213.0.0/16                  be   \n",
       "1                                  122.3.0.0/16,                None   \n",
       "2                                        8.8.8.8             execute   \n",
       "3                                            PID               issue   \n",
       "4                                 62.197.136.231                None   \n",
       "5                                   176.32.37.93                trim   \n",
       "6                                            pid           check/get   \n",
       "7                                   176.32.37.93                None   \n",
       "8                              (/proc/net/route)                None   \n",
       "9                              45.61.186.4:13561                None   \n",
       "10                                     “8.8.8.8”                None   \n",
       "11                                           PID               store   \n",
       "12                            “/proc/net/route”:                None   \n",
       "13                                   45.61.186.4  establish/initiate   \n",
       "14                  http://46.243.189.101/gang/.              locate   \n",
       "15                                    0xDEADBEEF                 use   \n",
       "16                               46.243.189.101.                None   \n",
       "17                                46.243.189.101          screenshot   \n",
       "18                                   0xBAADF00D,                None   \n",
       "19                                    0xBAADF00D                make   \n",
       "20                                   0xdeadf00d.                None   \n",
       "21                                185.10.68.127.                None   \n",
       "\n",
       "   objectType        prettyReg  match  label          asgSyscall  \\\n",
       "0         NET          ip_addr      0      0                None   \n",
       "1         NET          ip_addr      0      0                None   \n",
       "2         NET          ip_addr      0      0                None   \n",
       "3          ID           ^PID.*      0      0                None   \n",
       "4         NET          ip_addr      0      0                None   \n",
       "5         NET          ip_addr      0      0                None   \n",
       "6          ID           ^PID.*      1      1  getppid() getpid()   \n",
       "7         NET          ip_addr      0      0                None   \n",
       "8        FILE  /proc/net/route      0      0                None   \n",
       "9         NET     ip_addr+port      0      0                None   \n",
       "10        NET          ip_addr      0      0                None   \n",
       "11         ID           ^PID.*      0      0                None   \n",
       "12       FILE  /proc/net/route      0      0                None   \n",
       "13        NET          ip_addr      1      1           connect()   \n",
       "14        NET          ip_addr      0      0                None   \n",
       "15        MEM         mem_addr      0      0                None   \n",
       "16        NET          ip_addr      0      0                None   \n",
       "17        NET          ip_addr      0      0                None   \n",
       "18        MEM         mem_addr      0      0                None   \n",
       "19        MEM         mem_addr      0      0                None   \n",
       "20        MEM         mem_addr      0      0                None   \n",
       "21        NET          ip_addr      0      0                None   \n",
       "\n",
       "                                             sentence  \n",
       "0   The first argument indicates the number of run...  \n",
       "1   The first argument indicates the number of run...  \n",
       "2   After the Gafgyt bot executes it establishes a...  \n",
       "3    Another way this functionality is implemented...  \n",
       "4    IoCs 62.197.136.231 80.76.51.244 2b1cc052f781...  \n",
       "5   STD 176.32.37.93 7777 50\\n” then malware trims...  \n",
       "6    Fig 3: Malware checking machine time, IP and ...  \n",
       "7   STD 176.32.37.93 7777 50\\n” command from the C&C.  \n",
       "8    From above image (Figure 4) malware checks fo...  \n",
       "9    Indicators of Compromise C2 server 45.61.186....  \n",
       "10   In the function called util_local_addr, the b...  \n",
       "11  An example of such a command is shown below: I...  \n",
       "12   The process opens the kernel routing table fr...  \n",
       "13  It will establish a connection with the C2 ser...  \n",
       "14   The payload source in this attack was located...  \n",
       "15  ]183.53.120\\tTwo different keys used – 0xBAADF...  \n",
       "16   CAMPAIGN 2: Okane Samples from this campaign ...  \n",
       "17   Figure 4: Screenshot from open directory at p...  \n",
       "18  ]183.53.120\\tTwo different keys used – 0xBAADF...  \n",
       "19  Differentiating features of the campaign:  Two...  \n",
       "20  They use l.ocalhost.host:47883 as C2, and the ...  \n",
       "21  For part of the month of August 2018, that sam...  "
      ]
     },
     "execution_count": 17,
     "metadata": {},
     "output_type": "execute_result"
    }
   ],
   "source": [
    "# 存檔所有 doc_OPset\n",
    "def save_docOPset(fset: FamilySet) -> pd.DataFrame:\n",
    "    data = []\n",
    "    for idx_rem, rem in enumerate(fset.rem_lst):\n",
    "        ctd_opset:list[OperationPair] = list(rem.doc_OPset)\n",
    "        # print(rem.matched_syscalls)\n",
    "        for op in ctd_opset:\n",
    "            try:\n",
    "                res = rem.matched_syscalls[(op.action, op.object)]\n",
    "                a_syscalls = \" \".join([f\"{s}()\" for s in res])\n",
    "            except:\n",
    "                a_syscalls = None\n",
    "            data.append({\n",
    "                'report': rem.reportname,\n",
    "                'word': op.original_object,\n",
    "                'verb': f\"{op.action}/{op.altVerb}\" if op.altVerb else op.action,\n",
    "                'objectType': op.object_type,\n",
    "                'prettyReg': prettifyName(op.object),\n",
    "                'match': 1 if op in rem.match_doc_OPset else 0, # verb 是否有比對到 syscall\n",
    "                'label': 1 if op in rem.match_doc_OPset else 0, # 人工標記的標籤 暫時先跟系統判斷一樣\n",
    "                'asgSyscall': a_syscalls,                       # matched 到的動詞\n",
    "                'sentence': \" \".join(op.original_sentence.splitlines()) if op.original_sentence else None # flatten the sentence segment\n",
    "            })\n",
    "    # print(data)\n",
    "    df = pd.DataFrame(data)\n",
    "    df.to_csv(f'./result/00_{family}_docOPset.csv', index=False)\n",
    "    return df\n",
    "\n",
    "df = save_docOPset(fset)\n",
    "df"
   ]
  },
  {
   "attachments": {},
   "cell_type": "markdown",
   "metadata": {},
   "source": [
    "PPT Data: 挑選一篇目標文件，列出 ST 和 OP 資料，以便作為簡報內容。"
   ]
  },
  {
   "cell_type": "code",
   "execution_count": 18,
   "metadata": {},
   "outputs": [
    {
     "name": "stdout",
     "output_type": "stream",
     "text": [
      "Special Token data: (id#2 Gafgyt-sectrio.csv)\n"
     ]
    },
    {
     "data": {
      "text/html": [
       "<div>\n",
       "<style scoped>\n",
       "    .dataframe tbody tr th:only-of-type {\n",
       "        vertical-align: middle;\n",
       "    }\n",
       "\n",
       "    .dataframe tbody tr th {\n",
       "        vertical-align: top;\n",
       "    }\n",
       "\n",
       "    .dataframe thead th {\n",
       "        text-align: right;\n",
       "    }\n",
       "</style>\n",
       "<table border=\"1\" class=\"dataframe\">\n",
       "  <thead>\n",
       "    <tr style=\"text-align: right;\">\n",
       "      <th></th>\n",
       "      <th>prettyReg</th>\n",
       "      <th>word</th>\n",
       "      <th>objectType</th>\n",
       "      <th>sentence</th>\n",
       "    </tr>\n",
       "  </thead>\n",
       "  <tbody>\n",
       "    <tr>\n",
       "      <th>5</th>\n",
       "      <td>ip_addr</td>\n",
       "      <td>176.32.37.93</td>\n",
       "      <td>NET</td>\n",
       "      <td>STD 176.32.37.93 7777 50\\n” then malware trims...</td>\n",
       "    </tr>\n",
       "    <tr>\n",
       "      <th>6</th>\n",
       "      <td>^PID.*</td>\n",
       "      <td>pid</td>\n",
       "      <td>ID</td>\n",
       "      <td>Fig 3: Malware checking machine time, IP and ...</td>\n",
       "    </tr>\n",
       "    <tr>\n",
       "      <th>7</th>\n",
       "      <td>ip_addr</td>\n",
       "      <td>176.32.37.93</td>\n",
       "      <td>NET</td>\n",
       "      <td>STD 176.32.37.93 7777 50\\n” command from the C&amp;C.</td>\n",
       "    </tr>\n",
       "    <tr>\n",
       "      <th>8</th>\n",
       "      <td>/proc/net/route</td>\n",
       "      <td>(/proc/net/route)</td>\n",
       "      <td>FILE</td>\n",
       "      <td>From above image (Figure 4) malware checks fo...</td>\n",
       "    </tr>\n",
       "  </tbody>\n",
       "</table>\n",
       "</div>"
      ],
      "text/plain": [
       "         prettyReg               word objectType  \\\n",
       "5          ip_addr       176.32.37.93        NET   \n",
       "6           ^PID.*                pid         ID   \n",
       "7          ip_addr       176.32.37.93        NET   \n",
       "8  /proc/net/route  (/proc/net/route)       FILE   \n",
       "\n",
       "                                            sentence  \n",
       "5  STD 176.32.37.93 7777 50\\n” then malware trims...  \n",
       "6   Fig 3: Malware checking machine time, IP and ...  \n",
       "7  STD 176.32.37.93 7777 50\\n” command from the C&C.  \n",
       "8   From above image (Figure 4) malware checks fo...  "
      ]
     },
     "metadata": {},
     "output_type": "display_data"
    },
    {
     "name": "stderr",
     "output_type": "stream",
     "text": [
      "Some weights of the model checkpoint at bert-base-uncased were not used when initializing BertModel: ['cls.predictions.transform.dense.bias', 'cls.predictions.transform.LayerNorm.bias', 'cls.predictions.transform.dense.weight', 'cls.seq_relationship.weight', 'cls.seq_relationship.bias', 'cls.predictions.bias', 'cls.predictions.decoder.weight', 'cls.predictions.transform.LayerNorm.weight']\n",
      "- This IS expected if you are initializing BertModel from the checkpoint of a model trained on another task or with another architecture (e.g. initializing a BertForSequenceClassification model from a BertForPreTraining model).\n",
      "- This IS NOT expected if you are initializing BertModel from the checkpoint of a model that you expect to be exactly identical (initializing a BertForSequenceClassification model from a BertForSequenceClassification model).\n"
     ]
    },
    {
     "name": "stdout",
     "output_type": "stream",
     "text": [
      "Operation Pair data:\n"
     ]
    },
    {
     "data": {
      "text/html": [
       "<div>\n",
       "<style scoped>\n",
       "    .dataframe tbody tr th:only-of-type {\n",
       "        vertical-align: middle;\n",
       "    }\n",
       "\n",
       "    .dataframe tbody tr th {\n",
       "        vertical-align: top;\n",
       "    }\n",
       "\n",
       "    .dataframe thead th {\n",
       "        text-align: right;\n",
       "    }\n",
       "</style>\n",
       "<table border=\"1\" class=\"dataframe\">\n",
       "  <thead>\n",
       "    <tr style=\"text-align: right;\">\n",
       "      <th></th>\n",
       "      <th>sentence</th>\n",
       "      <th>verb</th>\n",
       "      <th>mappedSyscall</th>\n",
       "      <th>asgSyscall</th>\n",
       "      <th>prettyReg</th>\n",
       "    </tr>\n",
       "  </thead>\n",
       "  <tbody>\n",
       "    <tr>\n",
       "      <th>6</th>\n",
       "      <td>Fig 3: Malware checking machine time, IP and ...</td>\n",
       "      <td>check/get</td>\n",
       "      <td>getppid() getpid() getgid() getegid() geteuid(...</td>\n",
       "      <td>getppid() getpid()</td>\n",
       "      <td>^PID.*</td>\n",
       "    </tr>\n",
       "  </tbody>\n",
       "</table>\n",
       "</div>"
      ],
      "text/plain": [
       "                                            sentence       verb  \\\n",
       "6   Fig 3: Malware checking machine time, IP and ...  check/get   \n",
       "\n",
       "                                       mappedSyscall          asgSyscall  \\\n",
       "6  getppid() getpid() getgid() getegid() geteuid(...  getppid() getpid()   \n",
       "\n",
       "  prettyReg  \n",
       "6    ^PID.*  "
      ]
     },
     "metadata": {},
     "output_type": "display_data"
    }
   ],
   "source": [
    "# target document: Gafgyt-sectrio.csv (docs_id = 2)\n",
    "t_docs = \"Gafgyt-sectrio.csv\"\n",
    "t_docs_id = xor_report_names.index(t_docs)\n",
    "\n",
    "# Gather Special Token data.\n",
    "# Columns: Matched ST (regex), Entity Type, Original Sentence\n",
    "# Present Order: Sort by Entity Type then regex string.\n",
    "df_docs = df[df['report'] == t_docs]\n",
    "df_docs.sort_values(by=['objectType', 'prettyReg'])\n",
    "print(f\"Special Token data: (id#{t_docs_id} {t_docs})\")\n",
    "display(df_docs.loc[:, ['prettyReg', 'word', 'objectType', 'sentence']])\n",
    "\n",
    "# Gather Operation Pair data.\n",
    "# Columns: Original Sentence (+action, object-word), Mapped Syscall, Matched ASG OP\n",
    "# Present Order: Sort by Sentence string\n",
    "oe = OperationEvaluator()\n",
    "def get_syscall_by_verb(verb, entityType) -> str|None:\n",
    "    try:\n",
    "        altVerb = verb.split('/')[1]\n",
    "        result = oe.translate_rule(entityType, altVerb)\n",
    "    except:\n",
    "        altVerb = None\n",
    "        result = oe.translate_rule(entityType, verb)\n",
    "    if result:\n",
    "        return \" \".join([f\"{s}()\" for s in result])\n",
    "    return None\n",
    "df_op = df_docs[df_docs['verb'].notnull()]    # 過濾掉沒有動詞的 OP\n",
    "df_op = df_op[df_op['asgSyscall'].notnull()]  # 過濾掉動詞沒有對應 syscall 的 OP\n",
    "df_op.sort_values(by=['sentence', 'objectType', 'prettyReg'])\n",
    "df_op['mappedSyscall'] = df_op.apply(lambda x: get_syscall_by_verb(x['verb'], x['objectType']), axis=1)\n",
    "\n",
    "print(\"Operation Pair data:\")\n",
    "# print(df_docs.loc[:, ['sentence', 'verb', 'altVerb', 'mappedSyscall', 'asgSyscall', 'prettyReg']])\n",
    "display(df_op.loc[:, ['sentence', 'verb', 'mappedSyscall', 'asgSyscall', 'prettyReg']])"
   ]
  },
  {
   "attachments": {},
   "cell_type": "markdown",
   "metadata": {},
   "source": [
    "列印其他小數據"
   ]
  },
  {
   "cell_type": "code",
   "execution_count": 22,
   "metadata": {},
   "outputs": [
    {
     "data": {
      "text/plain": [
       "['getppid', 'getpid', 'getgid', 'getegid', 'geteuid', 'getuid']"
      ]
     },
     "execution_count": 22,
     "metadata": {},
     "output_type": "execute_result"
    }
   ],
   "source": [
    "oe.translate_rule('id', 'get')"
   ]
  },
  {
   "cell_type": "code",
   "execution_count": 25,
   "metadata": {},
   "outputs": [
    {
     "data": {
      "text/plain": [
       "\" It terminates the following processes if found running in the affected system's memory:  inetd xinetd telnetd utelnetd scfgmgr Other Details  This Worm does the following:  It terminates and deletes the following processes and files: /var/run/.lightpid /var/run/.aidrapid /var/run/lightpid /var/run/.lihtpid /var/run/.lamorte/lamorte.pid /var/run/.daemon.pid \""
      ]
     },
     "execution_count": 25,
     "metadata": {},
     "output_type": "execute_result"
    }
   ],
   "source": [
    "df_docs.loc[22].sentence"
   ]
  },
  {
   "cell_type": "code",
   "execution_count": 24,
   "metadata": {},
   "outputs": [
    {
     "name": "stdout",
     "output_type": "stream",
     "text": [
      "Report: Darlloz-Trendmicro2.csv. Matched OP count: 2\n",
      "--\n",
      "OP #2 create /var/run/.* /var/run/.zollard\n",
      "\n",
      "This Worm creates the following folders:\n",
      "\n",
      "/var/run/.zollard\n",
      "\n",
      "\n",
      "--\n",
      "OP #1 create /run/.* /var/run/.zollard\n",
      "\n",
      "This Worm creates the following folders:\n",
      "\n",
      "/var/run/.zollard\n",
      "\n",
      "\n"
     ]
    }
   ],
   "source": [
    "# 印出特定 report 的 matched 句子\n",
    "report_id = 5\n",
    "reportname = fset.rem_lst[report_id].reportname\n",
    "print(f\"Report: {reportname}. Matched OP count: {len(fset.rem_lst[report_id].match_doc_OPset)}\")\n",
    "for i, op in enumerate(fset.rem_lst[report_id].match_doc_OPset):\n",
    "    print(f\"--\\nOP #{op.step_number} {op.action} {op.object} {op.original_object}\")\n",
    "    print(f\"{op.original_sentence}\")"
   ]
  },
  {
   "cell_type": "code",
   "execution_count": 18,
   "metadata": {},
   "outputs": [
    {
     "name": "stdout",
     "output_type": "stream",
     "text": [
      "{<OP 8 act=contain, obj=sh>, <OP 2 act=expose, obj=sed>, <OP 4 act=allow, obj=sed>, <OP11 act=None, obj=sed>, <OP 3 act=assemble, obj=sed>, <OP12 act=use, obj=sh>, <OP 1 act=scan, obj=sed>, <OP10 act=disclose, obj=sed>, <OP 5 act=gain, obj=sh>, <OP 6 act=depend, obj=sed>, <OP 7 act=execute, obj=sh>, <OP 9 act=contain, obj=sed>}\n",
      "{<OP 4 act=use, obj=sed>, <OP 7 act=None, obj=sed>, <OP 1 act=be, obj=PID.*>, <OP11 act=add, obj=sh>, <OP 6 act=None, obj=sh>, <OP 9 act=None, obj=ip_addr>, <OP 2 act=decide, obj=sh>, <OP 5 act=have, obj=sh>, <OP12 act=explain, obj=sh>, <OP10 act=be, obj=sed>, <OP 3 act=be, obj=sh>, <OP 8 act=be, obj=ip_addr>}\n",
      "{<OP 4 act=connect, obj=ip_addr>, <OP 5 act=receive, obj=sh>, <OP 2 act=download, obj=sh>, <OP 1 act=read, obj=sh>, <OP 8 act=None, obj=sed>, <OP 3 act=None, obj=sh>, <OP 7 act=None, obj=/etc/rc.*\\.d/.*>, <OP 6 act=modify, obj=/etc/rc\\.local>, <OP 9 act=be, obj=sh>}\n",
      "{<OP 8 act=use, obj=sed>, <OP 2 act=None, obj=sed>, <OP21 act=None, obj=ip_addr>, <OP13 act=format, obj=sed>, <OP 4 act=hold, obj=sed>, <OP15 act=see, obj=sed>, <OP23 act=’, obj=sed>, <OP 3 act=None, obj=sh>, <OP 6 act=None, obj=/proc/self>, <OP10 act=add, obj=/etc/init\\.d/.*>, <OP 1 act=force, obj=sh>, <OP18 act=see, obj=sh>, <OP20 act=look, obj=sh>, <OP 9 act=add, obj=/etc/rc\\.local>, <OP12 act=construct, obj=sh>, <OP 7 act=pass, obj=sed>, <OP14 act=format, obj=/etc/rc\\.local>, <OP 5 act=be, obj=sed>, <OP11 act=execute, obj=/etc/rc\\.local>, <OP24 act=indicate, obj=sed>, <OP17 act=read, obj=/proc/net/dev>, <OP22 act=pass, obj=sh>, <OP19 act=be, obj=sh>, <OP16 act=note, obj=sed>}\n",
      "{<OP 6 act=gather, obj=/proc/stat>, <OP 1 act=se, obj=sed>, <OP 9 act=None, obj=UID.*>, <OP 5 act=stop, obj=sh>, <OP 7 act=None, obj=/proc/net/dev>, <OP 2 act=se, obj=/etc/rc\\.local>, <OP 3 act=se, obj=/etc/rc.*\\.d/.*>, <OP 4 act=start, obj=/etc/init\\.d/.*>, <OP 8 act=None, obj=/proc/self>}\n"
     ]
    }
   ],
   "source": [
    "# 測試區\n",
    "for rem in fset.rem_lst:\n",
    "    print(rem.doc_OPset)"
   ]
  },
  {
   "cell_type": "code",
   "execution_count": 19,
   "metadata": {},
   "outputs": [
    {
     "data": {
      "text/html": [
       "<div>\n",
       "<style scoped>\n",
       "    .dataframe tbody tr th:only-of-type {\n",
       "        vertical-align: middle;\n",
       "    }\n",
       "\n",
       "    .dataframe tbody tr th {\n",
       "        vertical-align: top;\n",
       "    }\n",
       "\n",
       "    .dataframe thead th {\n",
       "        text-align: right;\n",
       "    }\n",
       "</style>\n",
       "<table border=\"1\" class=\"dataframe\">\n",
       "  <thead>\n",
       "    <tr style=\"text-align: right;\">\n",
       "      <th></th>\n",
       "      <th>bin/sed</th>\n",
       "      <th>/etc/rc</th>\n",
       "      <th>/etc/init.d/</th>\n",
       "      <th>/proc/</th>\n",
       "      <th>/etc/sed</th>\n",
       "      <th>/selinux</th>\n",
       "      <th>/sys/</th>\n",
       "      <th>bin/</th>\n",
       "      <th>lsb-release</th>\n",
       "      <th>uname(.)($)</th>\n",
       "      <th>...</th>\n",
       "      <th>^sh$</th>\n",
       "      <th>^sed$</th>\n",
       "      <th>\\d{1,3}\\.\\d{1,3}\\.\\d{1,3}\\.\\d{1,3}:\\d+</th>\n",
       "      <th>\\d{1,3}\\.\\d{1,3}\\.\\d{1,3}\\.\\d{1,3}</th>\n",
       "      <th>eth[0-9]$</th>\n",
       "      <th>0x[0-9a-zA-Z]{8}</th>\n",
       "      <th>permission:{0,1}[0-9]{0,4}</th>\n",
       "      <th>UID</th>\n",
       "      <th>GID</th>\n",
       "      <th>match</th>\n",
       "    </tr>\n",
       "  </thead>\n",
       "  <tbody>\n",
       "    <tr>\n",
       "      <th>0</th>\n",
       "      <td>0</td>\n",
       "      <td>0</td>\n",
       "      <td>0</td>\n",
       "      <td>0</td>\n",
       "      <td>0</td>\n",
       "      <td>0</td>\n",
       "      <td>0</td>\n",
       "      <td>0</td>\n",
       "      <td>0</td>\n",
       "      <td>0</td>\n",
       "      <td>...</td>\n",
       "      <td>0</td>\n",
       "      <td>0</td>\n",
       "      <td>0</td>\n",
       "      <td>0</td>\n",
       "      <td>0</td>\n",
       "      <td>0</td>\n",
       "      <td>0</td>\n",
       "      <td>0</td>\n",
       "      <td>0</td>\n",
       "      <td>0</td>\n",
       "    </tr>\n",
       "    <tr>\n",
       "      <th>1</th>\n",
       "      <td>0</td>\n",
       "      <td>0</td>\n",
       "      <td>0</td>\n",
       "      <td>0</td>\n",
       "      <td>0</td>\n",
       "      <td>0</td>\n",
       "      <td>0</td>\n",
       "      <td>0</td>\n",
       "      <td>0</td>\n",
       "      <td>0</td>\n",
       "      <td>...</td>\n",
       "      <td>0</td>\n",
       "      <td>0</td>\n",
       "      <td>0</td>\n",
       "      <td>0</td>\n",
       "      <td>0</td>\n",
       "      <td>0</td>\n",
       "      <td>0</td>\n",
       "      <td>0</td>\n",
       "      <td>0</td>\n",
       "      <td>0</td>\n",
       "    </tr>\n",
       "    <tr>\n",
       "      <th>2</th>\n",
       "      <td>0</td>\n",
       "      <td>0</td>\n",
       "      <td>0</td>\n",
       "      <td>0</td>\n",
       "      <td>0</td>\n",
       "      <td>0</td>\n",
       "      <td>0</td>\n",
       "      <td>0</td>\n",
       "      <td>0</td>\n",
       "      <td>0</td>\n",
       "      <td>...</td>\n",
       "      <td>0</td>\n",
       "      <td>0</td>\n",
       "      <td>0</td>\n",
       "      <td>0</td>\n",
       "      <td>0</td>\n",
       "      <td>0</td>\n",
       "      <td>0</td>\n",
       "      <td>0</td>\n",
       "      <td>0</td>\n",
       "      <td>0</td>\n",
       "    </tr>\n",
       "    <tr>\n",
       "      <th>3</th>\n",
       "      <td>0</td>\n",
       "      <td>0</td>\n",
       "      <td>0</td>\n",
       "      <td>0</td>\n",
       "      <td>0</td>\n",
       "      <td>0</td>\n",
       "      <td>0</td>\n",
       "      <td>0</td>\n",
       "      <td>0</td>\n",
       "      <td>0</td>\n",
       "      <td>...</td>\n",
       "      <td>0</td>\n",
       "      <td>0</td>\n",
       "      <td>0</td>\n",
       "      <td>0</td>\n",
       "      <td>0</td>\n",
       "      <td>0</td>\n",
       "      <td>0</td>\n",
       "      <td>0</td>\n",
       "      <td>0</td>\n",
       "      <td>0</td>\n",
       "    </tr>\n",
       "    <tr>\n",
       "      <th>4</th>\n",
       "      <td>0</td>\n",
       "      <td>0</td>\n",
       "      <td>0</td>\n",
       "      <td>0</td>\n",
       "      <td>0</td>\n",
       "      <td>0</td>\n",
       "      <td>0</td>\n",
       "      <td>0</td>\n",
       "      <td>0</td>\n",
       "      <td>0</td>\n",
       "      <td>...</td>\n",
       "      <td>0</td>\n",
       "      <td>0</td>\n",
       "      <td>0</td>\n",
       "      <td>0</td>\n",
       "      <td>0</td>\n",
       "      <td>0</td>\n",
       "      <td>0</td>\n",
       "      <td>0</td>\n",
       "      <td>0</td>\n",
       "      <td>0</td>\n",
       "    </tr>\n",
       "    <tr>\n",
       "      <th>5</th>\n",
       "      <td>0</td>\n",
       "      <td>0</td>\n",
       "      <td>0</td>\n",
       "      <td>0</td>\n",
       "      <td>0</td>\n",
       "      <td>0</td>\n",
       "      <td>0</td>\n",
       "      <td>0</td>\n",
       "      <td>0</td>\n",
       "      <td>0</td>\n",
       "      <td>...</td>\n",
       "      <td>0</td>\n",
       "      <td>0</td>\n",
       "      <td>0</td>\n",
       "      <td>0</td>\n",
       "      <td>0</td>\n",
       "      <td>0</td>\n",
       "      <td>0</td>\n",
       "      <td>0</td>\n",
       "      <td>0</td>\n",
       "      <td>0</td>\n",
       "    </tr>\n",
       "    <tr>\n",
       "      <th>6</th>\n",
       "      <td>0</td>\n",
       "      <td>0</td>\n",
       "      <td>0</td>\n",
       "      <td>0</td>\n",
       "      <td>0</td>\n",
       "      <td>0</td>\n",
       "      <td>0</td>\n",
       "      <td>0</td>\n",
       "      <td>0</td>\n",
       "      <td>0</td>\n",
       "      <td>...</td>\n",
       "      <td>0</td>\n",
       "      <td>0</td>\n",
       "      <td>0</td>\n",
       "      <td>0</td>\n",
       "      <td>0</td>\n",
       "      <td>0</td>\n",
       "      <td>0</td>\n",
       "      <td>0</td>\n",
       "      <td>0</td>\n",
       "      <td>0</td>\n",
       "    </tr>\n",
       "    <tr>\n",
       "      <th>7</th>\n",
       "      <td>0</td>\n",
       "      <td>0</td>\n",
       "      <td>0</td>\n",
       "      <td>0</td>\n",
       "      <td>0</td>\n",
       "      <td>0</td>\n",
       "      <td>0</td>\n",
       "      <td>0</td>\n",
       "      <td>0</td>\n",
       "      <td>0</td>\n",
       "      <td>...</td>\n",
       "      <td>0</td>\n",
       "      <td>0</td>\n",
       "      <td>0</td>\n",
       "      <td>0</td>\n",
       "      <td>0</td>\n",
       "      <td>0</td>\n",
       "      <td>0</td>\n",
       "      <td>0</td>\n",
       "      <td>0</td>\n",
       "      <td>0</td>\n",
       "    </tr>\n",
       "    <tr>\n",
       "      <th>8</th>\n",
       "      <td>0</td>\n",
       "      <td>0</td>\n",
       "      <td>0</td>\n",
       "      <td>0</td>\n",
       "      <td>0</td>\n",
       "      <td>0</td>\n",
       "      <td>0</td>\n",
       "      <td>0</td>\n",
       "      <td>0</td>\n",
       "      <td>0</td>\n",
       "      <td>...</td>\n",
       "      <td>0</td>\n",
       "      <td>0</td>\n",
       "      <td>0</td>\n",
       "      <td>0</td>\n",
       "      <td>0</td>\n",
       "      <td>0</td>\n",
       "      <td>0</td>\n",
       "      <td>0</td>\n",
       "      <td>0</td>\n",
       "      <td>0</td>\n",
       "    </tr>\n",
       "    <tr>\n",
       "      <th>9</th>\n",
       "      <td>0</td>\n",
       "      <td>0</td>\n",
       "      <td>0</td>\n",
       "      <td>0</td>\n",
       "      <td>0</td>\n",
       "      <td>0</td>\n",
       "      <td>0</td>\n",
       "      <td>0</td>\n",
       "      <td>0</td>\n",
       "      <td>0</td>\n",
       "      <td>...</td>\n",
       "      <td>0</td>\n",
       "      <td>0</td>\n",
       "      <td>0</td>\n",
       "      <td>0</td>\n",
       "      <td>0</td>\n",
       "      <td>0</td>\n",
       "      <td>0</td>\n",
       "      <td>0</td>\n",
       "      <td>0</td>\n",
       "      <td>0</td>\n",
       "    </tr>\n",
       "    <tr>\n",
       "      <th>10</th>\n",
       "      <td>0</td>\n",
       "      <td>0</td>\n",
       "      <td>0</td>\n",
       "      <td>0</td>\n",
       "      <td>0</td>\n",
       "      <td>0</td>\n",
       "      <td>0</td>\n",
       "      <td>0</td>\n",
       "      <td>0</td>\n",
       "      <td>0</td>\n",
       "      <td>...</td>\n",
       "      <td>0</td>\n",
       "      <td>0</td>\n",
       "      <td>0</td>\n",
       "      <td>0</td>\n",
       "      <td>0</td>\n",
       "      <td>0</td>\n",
       "      <td>0</td>\n",
       "      <td>0</td>\n",
       "      <td>0</td>\n",
       "      <td>0</td>\n",
       "    </tr>\n",
       "    <tr>\n",
       "      <th>11</th>\n",
       "      <td>0</td>\n",
       "      <td>0</td>\n",
       "      <td>0</td>\n",
       "      <td>0</td>\n",
       "      <td>0</td>\n",
       "      <td>0</td>\n",
       "      <td>0</td>\n",
       "      <td>0</td>\n",
       "      <td>0</td>\n",
       "      <td>0</td>\n",
       "      <td>...</td>\n",
       "      <td>0</td>\n",
       "      <td>0</td>\n",
       "      <td>0</td>\n",
       "      <td>0</td>\n",
       "      <td>0</td>\n",
       "      <td>0</td>\n",
       "      <td>0</td>\n",
       "      <td>0</td>\n",
       "      <td>0</td>\n",
       "      <td>0</td>\n",
       "    </tr>\n",
       "    <tr>\n",
       "      <th>12</th>\n",
       "      <td>0</td>\n",
       "      <td>0</td>\n",
       "      <td>0</td>\n",
       "      <td>0</td>\n",
       "      <td>0</td>\n",
       "      <td>0</td>\n",
       "      <td>0</td>\n",
       "      <td>0</td>\n",
       "      <td>0</td>\n",
       "      <td>0</td>\n",
       "      <td>...</td>\n",
       "      <td>0</td>\n",
       "      <td>0</td>\n",
       "      <td>0</td>\n",
       "      <td>0</td>\n",
       "      <td>0</td>\n",
       "      <td>0</td>\n",
       "      <td>0</td>\n",
       "      <td>0</td>\n",
       "      <td>0</td>\n",
       "      <td>0</td>\n",
       "    </tr>\n",
       "    <tr>\n",
       "      <th>13</th>\n",
       "      <td>0</td>\n",
       "      <td>0</td>\n",
       "      <td>0</td>\n",
       "      <td>0</td>\n",
       "      <td>0</td>\n",
       "      <td>0</td>\n",
       "      <td>0</td>\n",
       "      <td>0</td>\n",
       "      <td>0</td>\n",
       "      <td>0</td>\n",
       "      <td>...</td>\n",
       "      <td>0</td>\n",
       "      <td>0</td>\n",
       "      <td>0</td>\n",
       "      <td>0</td>\n",
       "      <td>0</td>\n",
       "      <td>0</td>\n",
       "      <td>0</td>\n",
       "      <td>0</td>\n",
       "      <td>0</td>\n",
       "      <td>0</td>\n",
       "    </tr>\n",
       "    <tr>\n",
       "      <th>14</th>\n",
       "      <td>0</td>\n",
       "      <td>0</td>\n",
       "      <td>0</td>\n",
       "      <td>0</td>\n",
       "      <td>0</td>\n",
       "      <td>0</td>\n",
       "      <td>0</td>\n",
       "      <td>0</td>\n",
       "      <td>0</td>\n",
       "      <td>0</td>\n",
       "      <td>...</td>\n",
       "      <td>0</td>\n",
       "      <td>0</td>\n",
       "      <td>0</td>\n",
       "      <td>0</td>\n",
       "      <td>0</td>\n",
       "      <td>0</td>\n",
       "      <td>0</td>\n",
       "      <td>0</td>\n",
       "      <td>0</td>\n",
       "      <td>0</td>\n",
       "    </tr>\n",
       "  </tbody>\n",
       "</table>\n",
       "<p>15 rows × 24 columns</p>\n",
       "</div>"
      ],
      "text/plain": [
       "    bin/sed  /etc/rc  /etc/init.d/  /proc/  /etc/sed  /selinux  /sys/  bin/  \\\n",
       "0         0        0             0       0         0         0      0     0   \n",
       "1         0        0             0       0         0         0      0     0   \n",
       "2         0        0             0       0         0         0      0     0   \n",
       "3         0        0             0       0         0         0      0     0   \n",
       "4         0        0             0       0         0         0      0     0   \n",
       "5         0        0             0       0         0         0      0     0   \n",
       "6         0        0             0       0         0         0      0     0   \n",
       "7         0        0             0       0         0         0      0     0   \n",
       "8         0        0             0       0         0         0      0     0   \n",
       "9         0        0             0       0         0         0      0     0   \n",
       "10        0        0             0       0         0         0      0     0   \n",
       "11        0        0             0       0         0         0      0     0   \n",
       "12        0        0             0       0         0         0      0     0   \n",
       "13        0        0             0       0         0         0      0     0   \n",
       "14        0        0             0       0         0         0      0     0   \n",
       "\n",
       "    lsb-release  uname(.)($)  ...  ^sh$  ^sed$  \\\n",
       "0             0            0  ...     0      0   \n",
       "1             0            0  ...     0      0   \n",
       "2             0            0  ...     0      0   \n",
       "3             0            0  ...     0      0   \n",
       "4             0            0  ...     0      0   \n",
       "5             0            0  ...     0      0   \n",
       "6             0            0  ...     0      0   \n",
       "7             0            0  ...     0      0   \n",
       "8             0            0  ...     0      0   \n",
       "9             0            0  ...     0      0   \n",
       "10            0            0  ...     0      0   \n",
       "11            0            0  ...     0      0   \n",
       "12            0            0  ...     0      0   \n",
       "13            0            0  ...     0      0   \n",
       "14            0            0  ...     0      0   \n",
       "\n",
       "    \\d{1,3}\\.\\d{1,3}\\.\\d{1,3}\\.\\d{1,3}:\\d+  \\\n",
       "0                                        0   \n",
       "1                                        0   \n",
       "2                                        0   \n",
       "3                                        0   \n",
       "4                                        0   \n",
       "5                                        0   \n",
       "6                                        0   \n",
       "7                                        0   \n",
       "8                                        0   \n",
       "9                                        0   \n",
       "10                                       0   \n",
       "11                                       0   \n",
       "12                                       0   \n",
       "13                                       0   \n",
       "14                                       0   \n",
       "\n",
       "    \\d{1,3}\\.\\d{1,3}\\.\\d{1,3}\\.\\d{1,3}  eth[0-9]$  0x[0-9a-zA-Z]{8}  \\\n",
       "0                                    0          0                 0   \n",
       "1                                    0          0                 0   \n",
       "2                                    0          0                 0   \n",
       "3                                    0          0                 0   \n",
       "4                                    0          0                 0   \n",
       "5                                    0          0                 0   \n",
       "6                                    0          0                 0   \n",
       "7                                    0          0                 0   \n",
       "8                                    0          0                 0   \n",
       "9                                    0          0                 0   \n",
       "10                                   0          0                 0   \n",
       "11                                   0          0                 0   \n",
       "12                                   0          0                 0   \n",
       "13                                   0          0                 0   \n",
       "14                                   0          0                 0   \n",
       "\n",
       "    permission:{0,1}[0-9]{0,4}  UID  GID  match  \n",
       "0                            0    0    0      0  \n",
       "1                            0    0    0      0  \n",
       "2                            0    0    0      0  \n",
       "3                            0    0    0      0  \n",
       "4                            0    0    0      0  \n",
       "5                            0    0    0      0  \n",
       "6                            0    0    0      0  \n",
       "7                            0    0    0      0  \n",
       "8                            0    0    0      0  \n",
       "9                            0    0    0      0  \n",
       "10                           0    0    0      0  \n",
       "11                           0    0    0      0  \n",
       "12                           0    0    0      0  \n",
       "13                           0    0    0      0  \n",
       "14                           0    0    0      0  \n",
       "\n",
       "[15 rows x 24 columns]"
      ]
     },
     "metadata": {},
     "output_type": "display_data"
    }
   ],
   "source": [
    "for rem in fset.rem_lst:\n",
    "    display(rem.get_match_sentences())\n",
    "    break"
   ]
  },
  {
   "cell_type": "code",
   "execution_count": null,
   "metadata": {},
   "outputs": [],
   "source": []
  }
 ],
 "metadata": {
  "kernelspec": {
   "display_name": "Python 3.10.5 64-bit",
   "language": "python",
   "name": "python3"
  },
  "language_info": {
   "codemirror_mode": {
    "name": "ipython",
    "version": 3
   },
   "file_extension": ".py",
   "mimetype": "text/x-python",
   "name": "python",
   "nbconvert_exporter": "python",
   "pygments_lexer": "ipython3",
   "version": "3.10.5"
  },
  "orig_nbformat": 4,
  "vscode": {
   "interpreter": {
    "hash": "125a1d8b627fe68767755740015967bae857d08bb92fb3fd0d9d8ed24f978d39"
   }
  }
 },
 "nbformat": 4,
 "nbformat_minor": 2
}
