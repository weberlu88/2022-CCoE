{
 "cells": [
  {
   "cell_type": "code",
   "execution_count": 6,
   "id": "f5fab049",
   "metadata": {},
   "outputs": [],
   "source": [
    "import ASG\n",
    "import importlib\n",
    "import Utility\n",
    "import re\n",
    "# importlib.reload(Utility)"
   ]
  },
  {
   "cell_type": "code",
   "execution_count": 7,
   "id": "33636a40",
   "metadata": {},
   "outputs": [],
   "source": [
    "# Only need to change the path variable\n",
    "# path = './CCOE/Xorddos/0aefb67c01a24d05351b093455203fa2.bin'\n",
    "# path = '../../C ASG/trace/Xorddos/0aefb67c01a24d05351b093455203fa2.bin' \n",
    "path = '../../C ASG/trace/Dofloo/0046a78514a658b9b7a4e29e8581f85b.bin'\n",
    "graph = ASG.AttackGraph(path)\n",
    "graph.create()"
   ]
  },
  {
   "cell_type": "code",
   "execution_count": 9,
   "id": "76e7d128",
   "metadata": {},
   "outputs": [
    {
     "name": "stdout",
     "output_type": "stream",
     "text": [
      "Node before reduction:  65\n",
      "Nodes after reduction:  65\n"
     ]
    }
   ],
   "source": [
    "g = graph.draw(False)\n",
    "file_name = \"xorddos\"\n",
    "# g.render(\"./output-img/\" + \"test\" + \"/\" + file_name, format=\"svg\")\n",
    "# g.render(\"./\" + file_name + \"/\" + file_name, format=\"svg\")"
   ]
  },
  {
   "cell_type": "markdown",
   "id": "1072a5fc",
   "metadata": {},
   "source": [
    "# For file regex"
   ]
  },
  {
   "cell_type": "code",
   "execution_count": 10,
   "id": "88311deb",
   "metadata": {},
   "outputs": [
    {
     "name": "stdout",
     "output_type": "stream",
     "text": [
      "Objects num: 20\n",
      "Match Regex num: 11\n",
      "Non match file num: 0\n"
     ]
    }
   ],
   "source": [
    "set_of_objects_file = Utility.get_set_of_objects_file(graph)\n",
    "\n",
    "# file rule dict\n",
    "RULES_DICT = Utility.build_RULES_DICT() \n",
    "\n",
    "# use the rule dict to build up the regex, it may not match all objects\n",
    "regex_match_file, regex_non_match_file = Utility.build_file_regex(set_of_objects_file, RULES_DICT) \n",
    "file_regex = list(regex_match_file.keys())\n",
    "\n",
    "print(\"Objects num:\", len(set_of_objects_file))\n",
    "print(\"Match Regex num:\", len(regex_match_file))\n",
    "print(\"Non match file num:\", len(regex_non_match_file))"
   ]
  },
  {
   "cell_type": "code",
   "execution_count": 11,
   "id": "3f35bbb1",
   "metadata": {},
   "outputs": [
    {
     "data": {
      "text/plain": [
       "['/.*bin/sed',\n",
       " '/dev/urandom',\n",
       " '/etc/init\\\\.d/.*',\n",
       " '/etc/rc.*\\\\.d/.*',\n",
       " '/etc/rc\\\\.local',\n",
       " '/etc/sed[0-9a-zA-Z]{6}',\n",
       " '.*/selinux',\n",
       " '/proc/net/dev',\n",
       " '/proc/self',\n",
       " '/proc/stat',\n",
       " '/sys/devices/.*']"
      ]
     },
     "execution_count": 11,
     "metadata": {},
     "output_type": "execute_result"
    }
   ],
   "source": [
    "file_regex"
   ]
  },
  {
   "cell_type": "code",
   "execution_count": 12,
   "id": "7beeec8b",
   "metadata": {},
   "outputs": [
    {
     "data": {
      "text/plain": [
       "{'/.*bin/sed': ['/bin/sed',\n",
       "  '/sbin/sed',\n",
       "  '/usr/bin/sed',\n",
       "  '/usr/local/bin/sed',\n",
       "  '/usr/local/sbin/sed',\n",
       "  '/usr/sbin/sed'],\n",
       " '/dev/urandom': ['/dev/urandom'],\n",
       " '/etc/init\\\\.d/.*': ['/etc/init.d/boot.local'],\n",
       " '/etc/rc.*\\\\.d/.*': ['/etc/rc.d/rc.local'],\n",
       " '/etc/rc\\\\.local': ['/etc/rc.local'],\n",
       " '/etc/sed[0-9a-zA-Z]{6}': ['/etc/sedQUGLbs',\n",
       "  '/etc/sedQhw17q',\n",
       "  '/etc/sedvTqQwq'],\n",
       " '.*/selinux': ['/etc/selinux/config', '/selinux', '/sys/fs/selinux'],\n",
       " '/proc/net/dev': ['/proc/net/dev'],\n",
       " '/proc/self': ['/proc/self/exe'],\n",
       " '/proc/stat': ['/proc/stat'],\n",
       " '/sys/devices/.*': ['/sys/devices/system/cpu/online']}"
      ]
     },
     "execution_count": 12,
     "metadata": {},
     "output_type": "execute_result"
    }
   ],
   "source": [
    "regex_match_file"
   ]
  },
  {
   "cell_type": "code",
   "execution_count": 13,
   "id": "490f2dac",
   "metadata": {},
   "outputs": [
    {
     "data": {
      "text/plain": [
       "[]"
      ]
     },
     "execution_count": 13,
     "metadata": {},
     "output_type": "execute_result"
    }
   ],
   "source": [
    "regex_non_match_file"
   ]
  },
  {
   "cell_type": "markdown",
   "id": "010e9a91",
   "metadata": {},
   "source": [
    "# For remain regex"
   ]
  },
  {
   "cell_type": "code",
   "execution_count": 14,
   "id": "ef6bd6f9",
   "metadata": {},
   "outputs": [],
   "source": [
    "regex_match_proc = Utility.get_regex_match_proc(graph)\n",
    "regex_match_net = Utility.get_regex_match_net(graph)\n",
    "regex_match_mem = Utility.get_regex_match_mem(graph)\n",
    "regex_match_ID = Utility.get_regex_match_ID(graph)\n",
    "regex_match_permission = Utility.get_regex_match_permission(graph)"
   ]
  },
  {
   "cell_type": "code",
   "execution_count": 15,
   "id": "18f1381c",
   "metadata": {},
   "outputs": [
    {
     "data": {
      "text/plain": [
       "{'^uname$': ['uname'], '^sh$': ['sh'], '^sed$': ['sed']}"
      ]
     },
     "execution_count": 15,
     "metadata": {},
     "output_type": "execute_result"
    }
   ],
   "source": [
    "regex_match_proc"
   ]
  },
  {
   "cell_type": "code",
   "execution_count": 16,
   "id": "0688a2df",
   "metadata": {},
   "outputs": [
    {
     "data": {
      "text/plain": [
       "{'^eth.*': ['NIC'],\n",
       " '\\\\d{1,3}\\\\.\\\\d{1,3}\\\\.\\\\d{1,3}\\\\.\\\\d{1,3}': ['23.236.66.13:50050'],\n",
       " '\\\\d{1,3}\\\\.\\\\d{1,3}\\\\.\\\\d{1,3}\\\\.\\\\d{1,3}:\\\\d+': ['23.236.66.13:50050']}"
      ]
     },
     "execution_count": 16,
     "metadata": {},
     "output_type": "execute_result"
    }
   ],
   "source": [
    "regex_match_net"
   ]
  },
  {
   "cell_type": "code",
   "execution_count": 17,
   "id": "d375654c",
   "metadata": {},
   "outputs": [
    {
     "data": {
      "text/plain": [
       "{'0x[0-9a-zA-Z]{8}': ['Memory Address']}"
      ]
     },
     "execution_count": 17,
     "metadata": {},
     "output_type": "execute_result"
    }
   ],
   "source": [
    "regex_match_mem"
   ]
  },
  {
   "cell_type": "code",
   "execution_count": 18,
   "id": "f8b2eda7",
   "metadata": {},
   "outputs": [
    {
     "data": {
      "text/plain": [
       "{'^UID.*': ['UID:0'],\n",
       " '^GID.*': ['GID:0'],\n",
       " '^PID.*': ['PID:1514',\n",
       "  'PID:1513',\n",
       "  'PID:1515',\n",
       "  'PID:1516',\n",
       "  'PID:1518',\n",
       "  'PID:1519',\n",
       "  'PID:1520',\n",
       "  'PID:1521',\n",
       "  'PID:1522',\n",
       "  'PID:1524']}"
      ]
     },
     "execution_count": 18,
     "metadata": {},
     "output_type": "execute_result"
    }
   ],
   "source": [
    "regex_match_ID"
   ]
  },
  {
   "cell_type": "code",
   "execution_count": 19,
   "id": "6d75767a",
   "metadata": {},
   "outputs": [
    {
     "data": {
      "text/plain": [
       "{'Permission': ['Permission:0700', 'Permission:022'],\n",
       " 'Permission:[0-9]{3}': ['Permission:0700', 'Permission:022']}"
      ]
     },
     "execution_count": 19,
     "metadata": {},
     "output_type": "execute_result"
    }
   ],
   "source": [
    "regex_match_permission"
   ]
  },
  {
   "attachments": {},
   "cell_type": "markdown",
   "id": "947da021",
   "metadata": {},
   "source": [
    "# Sorted unique step list"
   ]
  },
  {
   "cell_type": "code",
   "execution_count": 20,
   "id": "e89ef715",
   "metadata": {},
   "outputs": [
    {
     "name": "stdout",
     "output_type": "stream",
     "text": [
      "Step 1 ['malware', 'uname', 'exec']\n"
     ]
    }
   ],
   "source": [
    "sorted_uni_step = Utility.get_sorted_uni_step(graph)\n",
    "for i, v in enumerate(sorted_uni_step):\n",
    "    print(\"Step\", i+1, v)\n",
    "    break"
   ]
  },
  {
   "cell_type": "markdown",
   "id": "9411c428",
   "metadata": {},
   "source": [
    "# check all object"
   ]
  },
  {
   "cell_type": "code",
   "execution_count": 21,
   "id": "9c389e6d",
   "metadata": {},
   "outputs": [
    {
     "data": {
      "text/plain": [
       "22"
      ]
     },
     "execution_count": 21,
     "metadata": {},
     "output_type": "execute_result"
    }
   ],
   "source": [
    "# This contain all object including \"subject\" and \"object\"\n",
    "len(Utility.get_set_of_dict(graph)[\"File\"])"
   ]
  },
  {
   "cell_type": "code",
   "execution_count": 22,
   "id": "8838eaa7",
   "metadata": {},
   "outputs": [],
   "source": [
    "# Utility.get_set_of_dict(graph)#.keys()"
   ]
  },
  {
   "cell_type": "code",
   "execution_count": 23,
   "id": "a7b28fd7",
   "metadata": {},
   "outputs": [
    {
     "name": "stdout",
     "output_type": "stream",
     "text": [
      "dup_step: 7577\n",
      "mem: 1 -> 1 sink: 0\n",
      "time: 1 -> 1 sink: 0\n",
      "NIC: 0 -> 1 sink: -1\n"
     ]
    }
   ],
   "source": [
    "### reduction 1 sink node: use the graph before reduction ### \n",
    "dup_step = len(graph.step_list)\n",
    "print(\"dup_step:\", dup_step)\n",
    "Utility.get_reduction_statistic(graph)"
   ]
  },
  {
   "attachments": {},
   "cell_type": "markdown",
   "id": "e2e627c4",
   "metadata": {},
   "source": [
    "# Function for retrieving origin_step\n",
    "- input: a operation pair `<syscall(), regex>`\n",
    "- output: a list of related asg steps `<step_num, subject, syscall(), object>`, in step order.\n",
    "    - format: `<101. 1882 -> read() -> /var/run/.lihtpid>`\n",
    "    - spaces: step:4, subject:7, syscall:10"
   ]
  },
  {
   "attachments": {},
   "cell_type": "markdown",
   "id": "cb6c9e9e",
   "metadata": {},
   "source": [
    "```\n",
    "total len of steplist: 284\n",
    "['  65. /etc/sedQUGLbs -> rename()   -> /etc/rc.local',\n",
    " ' 141. /etc/sedQhw17q -> rename()   -> /etc/rc.local',\n",
    " ' 184. /etc/sedvTqQwq -> rename()   -> /etc/rc.local']\n",
    " ```"
   ]
  },
  {
   "cell_type": "code",
   "execution_count": 5,
   "id": "005d577f",
   "metadata": {},
   "outputs": [
    {
     "name": "stdout",
     "output_type": "stream",
     "text": [
      "total len of steplist: 284\n"
     ]
    },
    {
     "data": {
      "text/plain": [
       "['  65. /etc/sedQUGLbs -> rename()   -> /etc/rc.local',\n",
       " ' 141. /etc/sedQhw17q -> rename()   -> /etc/rc.local',\n",
       " ' 184. /etc/sedvTqQwq -> rename()   -> /etc/rc.local']"
      ]
     },
     "execution_count": 5,
     "metadata": {},
     "output_type": "execute_result"
    }
   ],
   "source": [
    "class Step:\n",
    "    '''Store an asg step's data'''\n",
    "    def __init__(self, number, subject, syscall, object) -> None:\n",
    "        self.num = number\n",
    "        self.sub = subject\n",
    "        self.obj = object\n",
    "        self.call = syscall\n",
    "        pass\n",
    "    def callb(self) -> str:\n",
    "        '''system call with braces'''\n",
    "        return f\"{self.call}()\"\n",
    "    def __eq__(self, other: object) -> bool:\n",
    "        '''note: self.num will not be compare (這個方法目前用不到)'''\n",
    "        if isinstance(other, Step):\n",
    "            return self.sub == other.sub and self.obj == other.obj and self.call == other.call\n",
    "        return False\n",
    "    def __hash__(self):\n",
    "        return hash((self.sub, self.obj, self.call))\n",
    "\n",
    "def query_origin_steplist(graph:ASG.AttackGraph, syscall:str, regex:str) -> list[str]:\n",
    "    '''Query the origin asg steps (triplet), return in a list of formatted string.\\n\n",
    "    Input:\n",
    "        @graph: ASG.AttackGraph\n",
    "        @syscall: system call\n",
    "        @regex: the regex of object\n",
    "    Ouput example:\n",
    "        - query `get_origin_steplist(graph, 'rename', '/etc/rc\\.local')` will get:\n",
    "        - [`'  65. /etc/sedQUGLbs -> rename()   -> /etc/rc.local'`, `' 141. /etc/sedQhw17q -> rename()   -> /etc/rc.local'`]\n",
    "    '''\n",
    "    # take the first appearence step (unique) and set the step number\n",
    "    steplist = Utility.get_sorted_uni_step(graph)\n",
    "    steplist = [Step(i+1, step[0], step[2], step[1]) for i,step in enumerate(steplist)]\n",
    "    # print('total len of steplist:', len(steplist)) #  284 for dofloo\n",
    "\n",
    "    # filter object and syscall with input regex\n",
    "    steplist = [step for step in steplist if re.search(regex, step.obj, re.IGNORECASE)] \n",
    "    steplist = [step for step in steplist if step.call == syscall]\n",
    "    # turn object in to string\n",
    "    steplist = [f\"{step.num:4}. {step.sub:<7} -> {step.callb():10} -> {step.obj}\" for step in steplist]\n",
    "    return steplist\n",
    "\n",
    "query_origin_steplist(graph, 'rename', '/etc/rc\\.local') # step 64, 140, 183\n",
    "# query_origin_steplist(graph, 'connect', '\\\\d{1,3}\\\\.\\\\d{1,3}\\\\.\\\\d{1,3}\\\\.\\\\d{1,3}') # step 270"
   ]
  },
  {
   "cell_type": "code",
   "execution_count": 5,
   "id": "d02f6068",
   "metadata": {},
   "outputs": [
    {
     "name": "stdout",
     "output_type": "stream",
     "text": [
      "Node before reduction:  74\n",
      "Nodes after reduction:  74\n"
     ]
    }
   ],
   "source": [
    "g = graph.draw(True)\n",
    "g.render(f\"dofloo.tmp\", format='svg')\n",
    "del g"
   ]
  }
 ],
 "metadata": {
  "kernelspec": {
   "display_name": "Python 3 (ipykernel)",
   "language": "python",
   "name": "python3"
  },
  "language_info": {
   "codemirror_mode": {
    "name": "ipython",
    "version": 3
   },
   "file_extension": ".py",
   "mimetype": "text/x-python",
   "name": "python",
   "nbconvert_exporter": "python",
   "pygments_lexer": "ipython3",
   "version": "3.10.5"
  }
 },
 "nbformat": 4,
 "nbformat_minor": 5
}
