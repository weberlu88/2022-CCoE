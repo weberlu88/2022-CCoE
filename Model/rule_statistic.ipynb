{
 "cells": [
  {
   "cell_type": "code",
   "execution_count": 1,
   "metadata": {},
   "outputs": [],
   "source": [
    "import pandas as pd"
   ]
  },
  {
   "cell_type": "code",
   "execution_count": 8,
   "metadata": {},
   "outputs": [
    {
     "data": {
      "text/html": [
       "<div>\n",
       "<style scoped>\n",
       "    .dataframe tbody tr th:only-of-type {\n",
       "        vertical-align: middle;\n",
       "    }\n",
       "\n",
       "    .dataframe tbody tr th {\n",
       "        vertical-align: top;\n",
       "    }\n",
       "\n",
       "    .dataframe thead th {\n",
       "        text-align: right;\n",
       "    }\n",
       "</style>\n",
       "<table border=\"1\" class=\"dataframe\">\n",
       "  <thead>\n",
       "    <tr style=\"text-align: right;\">\n",
       "      <th></th>\n",
       "      <th>EntityType</th>\n",
       "      <th>ActionType</th>\n",
       "      <th>Source</th>\n",
       "      <th>Syscall</th>\n",
       "      <th>EnVerb</th>\n",
       "      <th>Sentence</th>\n",
       "    </tr>\n",
       "  </thead>\n",
       "  <tbody>\n",
       "    <tr>\n",
       "      <th>0</th>\n",
       "      <td>FILE</td>\n",
       "      <td>FILE_READ</td>\n",
       "      <td>man</td>\n",
       "      <td>read</td>\n",
       "      <td>read</td>\n",
       "      <td>read from a file descriptor</td>\n",
       "    </tr>\n",
       "    <tr>\n",
       "      <th>1</th>\n",
       "      <td>FILE</td>\n",
       "      <td>FILE_READ</td>\n",
       "      <td>man</td>\n",
       "      <td>readlink</td>\n",
       "      <td>read</td>\n",
       "      <td>read value of a symbolic link</td>\n",
       "    </tr>\n",
       "    <tr>\n",
       "      <th>2</th>\n",
       "      <td>FILE</td>\n",
       "      <td>FILE_READ</td>\n",
       "      <td>man</td>\n",
       "      <td>readlink</td>\n",
       "      <td>place</td>\n",
       "      <td>readlink() places the contents of the symbolic...</td>\n",
       "    </tr>\n",
       "  </tbody>\n",
       "</table>\n",
       "</div>"
      ],
      "text/plain": [
       "  EntityType ActionType Source   Syscall EnVerb  \\\n",
       "0       FILE  FILE_READ    man      read   read   \n",
       "1       FILE  FILE_READ    man  readlink   read   \n",
       "2       FILE  FILE_READ    man  readlink  place   \n",
       "\n",
       "                                            Sentence  \n",
       "0                        read from a file descriptor  \n",
       "1                      read value of a symbolic link  \n",
       "2  readlink() places the contents of the symbolic...  "
      ]
     },
     "execution_count": 8,
     "metadata": {},
     "output_type": "execute_result"
    }
   ],
   "source": [
    "df = pd.read_csv('rule_dataset.csv')\n",
    "\n",
    "def clean_braces(x):\n",
    "    x = x.replace(\"()\", \"\").replace(\",\", \"\").replace(\" \", \"\")\n",
    "    return str(x)\n",
    "def add_braces(x):\n",
    "    x = x+\"()\"\n",
    "    return x\n",
    "\n",
    "df['Syscall'] = df['Syscall'].apply(clean_braces)\n",
    "df.head(3)\n",
    "\n",
    "# df['Syscall'] = df['Syscall'].apply(add_braces)\n",
    "# df.to_csv(\"rule_dataset.csv\", index=False)"
   ]
  },
  {
   "attachments": {},
   "cell_type": "markdown",
   "metadata": {},
   "source": [
    "- 印出各類別的個數和內容"
   ]
  },
  {
   "cell_type": "code",
   "execution_count": 22,
   "metadata": {},
   "outputs": [
    {
     "name": "stdout",
     "output_type": "stream",
     "text": [
      "For total 88 uq syscalls & 43 uq verbs\n",
      "\n",
      "EntityType: FILE   has 38 uq syscalls & 25 uq verbs & 12 actionType\n",
      "\tFILE_READ    has  2 uq syscalls &  2 uq verbs\n",
      "\tACCESS       has  1 uq syscalls &  2 uq verbs\n",
      "\tSTATUS       has  6 uq syscalls &  1 uq verbs\n",
      "\tDIR          has  2 uq syscalls &  1 uq verbs\n",
      "\tWAIT         has  2 uq syscalls &  1 uq verbs\n",
      "\tFD_DUP       has  2 uq syscalls &  3 uq verbs\n",
      "\tFD_OTHER     has  1 uq syscalls &  2 uq verbs\n",
      "\tCREATE_OPEN  has 10 uq syscalls &  6 uq verbs\n",
      "\tUPDATE       has  5 uq syscalls &  3 uq verbs\n",
      "\tDELETE       has  5 uq syscalls &  3 uq verbs\n",
      "\tCLOSE        has  1 uq syscalls &  2 uq verbs\n",
      "\tOTHER        has  1 uq syscalls &  1 uq verbs\n",
      "\n",
      "EntityType: PROC   has 21 uq syscalls & 16 uq verbs &  6 actionType\n",
      "\tPROC_EXE     has  4 uq syscalls &  2 uq verbs\n",
      "\tPROC_KILL    has  2 uq syscalls &  2 uq verbs\n",
      "\tPROC_TRACE   has  1 uq syscalls &  5 uq verbs\n",
      "\tPROC_MEM     has  3 uq syscalls &  2 uq verbs\n",
      "\tPROC_WAIT    has  2 uq syscalls &  1 uq verbs\n",
      "\tPROC_OTHER   has  9 uq syscalls &  6 uq verbs\n",
      "\n",
      "EntityType: DEVICE has  1 uq syscalls &  2 uq verbs &  1 actionType\n",
      "\tDEVICE       has  1 uq syscalls &  2 uq verbs\n",
      "\n",
      "EntityType: INFO   has 15 uq syscalls &  3 uq verbs &  2 actionType\n",
      "\tINFO_SET     has  2 uq syscalls &  1 uq verbs\n",
      "\tINFO_GET     has 13 uq syscalls &  2 uq verbs\n",
      "\n",
      "EntityType: NET    has 13 uq syscalls & 10 uq verbs &  3 actionType\n",
      "\tNET_CONNECT  has  4 uq syscalls &  5 uq verbs\n",
      "\tNET_TRANSMIT has  6 uq syscalls &  2 uq verbs\n",
      "\tNET_OPTION   has  3 uq syscalls &  3 uq verbs\n",
      "\n"
     ]
    }
   ],
   "source": [
    "entityType_lst = df['EntityType'].unique()\n",
    "lenSyscall = len(df['Syscall'].unique())\n",
    "lenEnVerb = len(df['EnVerb'].unique())\n",
    "print(f\"For total {lenSyscall:2} uq syscalls & {lenEnVerb:2} uq verbs\\n\")\n",
    "\n",
    "for entityType in entityType_lst:\n",
    "    dataFileType = df[df['EntityType'] == entityType]\n",
    "    lenEnTp = len(dataFileType)\n",
    "    lenSyscall = len(dataFileType['Syscall'].unique())\n",
    "    lenEnVerb = len(dataFileType['EnVerb'].unique())\n",
    "    actionType_lst = dataFileType['ActionType'].unique()\n",
    "\n",
    "    print(f\"EntityType: {entityType:<6} has {lenSyscall:2} uq syscalls & {lenEnVerb:2} uq verbs & {len(actionType_lst):2} actionType\")\n",
    "\n",
    "    for actionType in actionType_lst:\n",
    "        dataActionType = dataFileType[dataFileType['ActionType'] == actionType]\n",
    "        lenSyscall = len(dataActionType['Syscall'].unique())\n",
    "        lenEnVerb = len(dataActionType['EnVerb'].unique())\n",
    "\n",
    "        print(f\"\\t{actionType:<12} has {lenSyscall:2} uq syscalls & {lenEnVerb:2} uq verbs\")\n",
    "\n",
    "    print()\n",
    "\n",
    "    "
   ]
  },
  {
   "attachments": {},
   "cell_type": "markdown",
   "metadata": {},
   "source": [
    "試寫 rule\n",
    "- input: object 和 entityType\n",
    "- output: 對應的 syscall (1或多個)"
   ]
  },
  {
   "cell_type": "code",
   "execution_count": null,
   "metadata": {},
   "outputs": [],
   "source": []
  },
  {
   "cell_type": "code",
   "execution_count": null,
   "metadata": {},
   "outputs": [],
   "source": [
    "! pip install transformers"
   ]
  },
  {
   "cell_type": "code",
   "execution_count": null,
   "metadata": {},
   "outputs": [],
   "source": [
    "import torch\n",
    "from transformers import BertTokenizer, BertModel\n",
    "\n",
    "# OPTIONAL: if you want to have more information on what's happening, activate the logger as follows\n",
    "import logging\n",
    "#logging.basicConfig(level=logging.INFO)\n",
    "\n",
    "import matplotlib.pyplot as plt\n",
    "% matplotlib inline\n",
    "\n",
    "# Load pre-trained model tokenizer (vocabulary)\n",
    "tokenizer = BertTokenizer.from_pretrained('bert-base-uncased')\n",
    "\n",
    "# Load pre-trained BERT model (weights)\n",
    "model = BertModel.from_pretrained('bert-base-uncased',\n",
    "                                  output_hidden_states = True, # Whether the model returns all hidden-states.\n",
    "                                  )\n",
    "\n",
    "# Put the model in \"evaluation\" mode, meaning feed-forward operation.\n",
    "model.eval()\n"
   ]
  },
  {
   "cell_type": "code",
   "execution_count": null,
   "metadata": {},
   "outputs": [],
   "source": [
    "# Run the text through BERT, and collect all of the hidden states produced\n",
    "# from all 12 layers. \n",
    "with torch.no_grad():\n",
    "\n",
    "    outputs = model(tokens_tensor, segments_tensors)\n",
    "\n",
    "    # Evaluating the model will return a different number of objects based on \n",
    "    # how it's  configured in the `from_pretrained` call earlier. In this case, \n",
    "    # becase we set `output_hidden_states = True`, the third item will be the \n",
    "    # hidden states from all layers. See the documentation for more details:\n",
    "    # https://huggingface.co/transformers/model_doc/bert.html#bertmodel\n",
    "    hidden_states = outputs[2]\n"
   ]
  }
 ],
 "metadata": {
  "kernelspec": {
   "display_name": "py3_8",
   "language": "python",
   "name": "python3"
  },
  "language_info": {
   "codemirror_mode": {
    "name": "ipython",
    "version": 3
   },
   "file_extension": ".py",
   "mimetype": "text/x-python",
   "name": "python",
   "nbconvert_exporter": "python",
   "pygments_lexer": "ipython3",
   "version": "3.8.0"
  },
  "orig_nbformat": 4
 },
 "nbformat": 4,
 "nbformat_minor": 2
}
