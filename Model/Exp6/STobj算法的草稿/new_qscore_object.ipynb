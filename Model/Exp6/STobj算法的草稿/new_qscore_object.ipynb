{
 "cells": [
  {
   "attachments": {},
   "cell_type": "markdown",
   "metadata": {},
   "source": [
    "### 實驗六\n",
    "\n",
    "- 以文章中出現 object 的數量為分數，因為每篇文章的 object string 都不同，就無法設定共同的分母了。\n",
    "- 例如: 文章 A 寫了 /proc/net/dev 3次，就要計算3分。(對嗎?)\n",
    "- 例如: 文章 B 寫了 /var/run/gcc.pid 和 /var/run/gcc.sh 都符合 /var/run/.* 這一個 regex，計算2分。\n",
    "- 例外: 因為 memory 和 network 有經過 sink node，我們只會計算成1次出現。"
   ]
  },
  {
   "cell_type": "code",
   "execution_count": 1,
   "metadata": {},
   "outputs": [
    {
     "data": {
      "text/plain": [
       "' 自己寫的模組 '"
      ]
     },
     "execution_count": 1,
     "metadata": {},
     "output_type": "execute_result"
    }
   ],
   "source": [
    "import re\n",
    "import os\n",
    "from os import listdir\n",
    "from os.path import isfile, join\n",
    "from pathlib import Path\n",
    "import pandas as pd\n",
    "import json\n",
    "import pickle\n",
    "from typing import Dict, List, get_type_hints\n",
    "from IPython.display import display\n",
    "\n",
    "''' 自己寫的模組 '''\n",
    "# from cc_regex_script import RegexMatchResult, RegexMaster \n",
    "# from cc_nlp_script import find_verb_of_vocab, OperationMode, OperationEvaluator\n",
    "# from ASG import AttackGraph, Node, Edge, FileTable #, build\n",
    "# import Utility"
   ]
  },
  {
   "cell_type": "code",
   "execution_count": 2,
   "metadata": {},
   "outputs": [
    {
     "name": "stdout",
     "output_type": "stream",
     "text": [
      "26\n"
     ]
    }
   ],
   "source": [
    "# 舊的樣本 asg_regex = ['.*/selinux', '/.*bin/sed', '/dev/urandom', '/etc/init\\\\.d/.*', '/etc/rc.*\\\\.d/.*', '/etc/rc\\\\.local', '/proc/net/dev', '/proc/self', '/proc/stat', '/sys/devices/.*', '/etc/sed[0-9a-zA-Z]{6}', 'Permission', 'Permission:[0-9]{3}', '^GID.*', '^PID.*', '^UID.*', '^eth.*', '^sed$', '^sh$', '^uname$',]\n",
    "asg_regex = ['.*/selinux', '/.*bin/rm', '/.*bin/sed', '/dev/urandom', '/etc/host\\\\.conf', '/etc/hosts', '/etc/init\\\\.d/.*', '/etc/nsswitch\\\\.conf', '/etc/rc.*\\\\.d/.*', '/etc/rc\\\\.local', '/etc/resolv\\\\.conf', '/etc/sed[0-9a-zA-Z]{6}', '/proc/net/dev', '/proc/self', '/proc/stat', '/sys/devices/.*', 'Permission', 'Permission:[0-9]{3}', '^GID.*', '^PID.*', '^UID.*', '^eth.*', '^rm$', '^sed$', '^sh$', '^uname$']\n",
    "\n",
    "print(len(asg_regex))\n",
    "\n",
    "cntone_regex = ['0x[0-9a-zA-Z]{1,16}', '\\\\d{1,3}\\\\.\\\\d{1,3}\\\\.\\\\d{1,3}\\\\.\\\\d{1,3}', '\\\\d{1,3}\\\\.\\\\d{1,3}\\\\.\\\\d{1,3}\\\\.\\\\d{1,3}:\\\\d+', ]\n",
    "# 'port \\\\d+' 先移除"
   ]
  },
  {
   "cell_type": "code",
   "execution_count": 3,
   "metadata": {},
   "outputs": [
    {
     "data": {
      "text/plain": [
       "['Dofloo-BleepingComputer.txt',\n",
       " 'Dofloo-Securityaffairs.txt',\n",
       " 'Dofloo-SyscallParty.txt',\n",
       " 'Dofloo-Trendmicro.txt']"
      ]
     },
     "execution_count": 3,
     "metadata": {},
     "output_type": "execute_result"
    }
   ],
   "source": [
    "family = 'Dofloo'\n",
    "# report_fir_path = '../../C parse report/sentence csvs/'\n",
    "report_fir_path = '../../C parse report/'\n",
    "# family, samplename, outputfolder = 'Xorddos', '???', './result'\n",
    "outputfolder = './result'\n",
    "\n",
    "def get_all_filenames(dir: str='./') -> list:\n",
    "    ''' traverse root directory, and list directories as dirs and files as files. Return filenames in rootdir. '''\n",
    "    files = [f for f in listdir(dir) if isfile(join(dir, f))]\n",
    "    files.sort()\n",
    "    return files\n",
    "\n",
    "xor_report_names = [f for f in get_all_filenames(report_fir_path) if f.startswith(family)] # 只選擇這個家族的報告\n",
    "# xor_report_dfs = [pd.read_csv(f\"{report_fir_path}{f}\") for f in xor_report_names]\n",
    "xor_report_txts = []\n",
    "for f in xor_report_names:\n",
    "    with open(f\"{report_fir_path}{f}\", 'r', encoding='utf-8') as f:\n",
    "        content = f.read()\n",
    "        xor_report_txts.append(content)\n",
    "xor_report_names"
   ]
  },
  {
   "cell_type": "code",
   "execution_count": 4,
   "metadata": {},
   "outputs": [
    {
     "name": "stdout",
     "output_type": "stream",
     "text": [
      "Dofloo-BleepingComputer.txt    score:  0, score_sys: 0\n",
      "Dofloo-Securityaffairs.txt     score:  4, score_sys: 2\n",
      "Dofloo-SyscallParty.txt        score:  9, score_sys: 5\n",
      "Dofloo-Trendmicro.txt          score: 15, score_sys: 9\n"
     ]
    }
   ],
   "source": [
    "txt = xor_report_txts[2]\n",
    "\n",
    "def get_metric(txt:str, reportname:str):\n",
    "    # record appearance of regex\n",
    "    report_tf = {}\n",
    "    for pattern in asg_regex + cntone_regex:\n",
    "        cnt = len(re.findall(pattern, txt))\n",
    "        report_tf[pattern] = cnt\n",
    "\n",
    "    # calculate the metrics\n",
    "    score = 0\n",
    "    score_sys = 0\n",
    "    for pattern, cnt in report_tf.items():\n",
    "        # print(pattern)\n",
    "        if pattern in cntone_regex and cnt:\n",
    "            score += 1\n",
    "        else:\n",
    "            score += cnt\n",
    "        if pattern.find('/etc') >= 0:\n",
    "            if pattern in cntone_regex:\n",
    "                continue\n",
    "            score_sys += cnt\n",
    "    print(f\"{reportname:30} score: {score:2}, score_sys: {score_sys}\")\n",
    "    return report_tf\n",
    "\n",
    "results = []\n",
    "for txt, name in zip(xor_report_txts, xor_report_names):\n",
    "    report_tf = get_metric(txt, name)\n",
    "    results.append(report_tf)"
   ]
  },
  {
   "cell_type": "code",
   "execution_count": 5,
   "metadata": {},
   "outputs": [
    {
     "data": {
      "text/plain": [
       "{'.*/selinux': 0,\n",
       " '/.*bin/rm': 0,\n",
       " '/.*bin/sed': 0,\n",
       " '/dev/urandom': 0,\n",
       " '/etc/host\\\\.conf': 0,\n",
       " '/etc/hosts': 0,\n",
       " '/etc/init\\\\.d/.*': 0,\n",
       " '/etc/nsswitch\\\\.conf': 0,\n",
       " '/etc/rc.*\\\\.d/.*': 0,\n",
       " '/etc/rc\\\\.local': 0,\n",
       " '/etc/resolv\\\\.conf': 0,\n",
       " '/etc/sed[0-9a-zA-Z]{6}': 0,\n",
       " '/proc/net/dev': 0,\n",
       " '/proc/self': 0,\n",
       " '/proc/stat': 0,\n",
       " '/sys/devices/.*': 0,\n",
       " 'Permission': 0,\n",
       " 'Permission:[0-9]{3}': 0,\n",
       " '^GID.*': 0,\n",
       " '^PID.*': 0,\n",
       " '^UID.*': 0,\n",
       " '^eth.*': 0,\n",
       " '^rm$': 0,\n",
       " '^sed$': 0,\n",
       " '^sh$': 0,\n",
       " '^uname$': 0,\n",
       " '0x[0-9a-zA-Z]{1,16}': 0,\n",
       " '\\\\d{1,3}\\\\.\\\\d{1,3}\\\\.\\\\d{1,3}\\\\.\\\\d{1,3}': 0,\n",
       " '\\\\d{1,3}\\\\.\\\\d{1,3}\\\\.\\\\d{1,3}\\\\.\\\\d{1,3}:\\\\d+': 0}"
      ]
     },
     "execution_count": 5,
     "metadata": {},
     "output_type": "execute_result"
    }
   ],
   "source": [
    "results[0]"
   ]
  },
  {
   "cell_type": "code",
   "execution_count": 6,
   "metadata": {},
   "outputs": [
    {
     "data": {
      "text/plain": [
       "{'.*/selinux': 0,\n",
       " '/.*bin/rm': 0,\n",
       " '/.*bin/sed': 0,\n",
       " '/dev/urandom': 0,\n",
       " '/etc/host\\\\.conf': 0,\n",
       " '/etc/hosts': 0,\n",
       " '/etc/init\\\\.d/.*': 0,\n",
       " '/etc/nsswitch\\\\.conf': 0,\n",
       " '/etc/rc.*\\\\.d/.*': 1,\n",
       " '/etc/rc\\\\.local': 1,\n",
       " '/etc/resolv\\\\.conf': 0,\n",
       " '/etc/sed[0-9a-zA-Z]{6}': 0,\n",
       " '/proc/net/dev': 0,\n",
       " '/proc/self': 0,\n",
       " '/proc/stat': 0,\n",
       " '/sys/devices/.*': 0,\n",
       " 'Permission': 0,\n",
       " 'Permission:[0-9]{3}': 0,\n",
       " '^GID.*': 0,\n",
       " '^PID.*': 0,\n",
       " '^UID.*': 0,\n",
       " '^eth.*': 0,\n",
       " '^rm$': 0,\n",
       " '^sed$': 0,\n",
       " '^sh$': 0,\n",
       " '^uname$': 0,\n",
       " '0x[0-9a-zA-Z]{1,16}': 0,\n",
       " '\\\\d{1,3}\\\\.\\\\d{1,3}\\\\.\\\\d{1,3}\\\\.\\\\d{1,3}': 1,\n",
       " '\\\\d{1,3}\\\\.\\\\d{1,3}\\\\.\\\\d{1,3}\\\\.\\\\d{1,3}:\\\\d+': 1}"
      ]
     },
     "execution_count": 6,
     "metadata": {},
     "output_type": "execute_result"
    }
   ],
   "source": [
    "results[1]"
   ]
  },
  {
   "cell_type": "code",
   "execution_count": 7,
   "metadata": {},
   "outputs": [
    {
     "data": {
      "text/plain": [
       "{'.*/selinux': 0,\n",
       " '/.*bin/rm': 0,\n",
       " '/.*bin/sed': 0,\n",
       " '/dev/urandom': 0,\n",
       " '/etc/host\\\\.conf': 0,\n",
       " '/etc/hosts': 0,\n",
       " '/etc/init\\\\.d/.*': 1,\n",
       " '/etc/nsswitch\\\\.conf': 0,\n",
       " '/etc/rc.*\\\\.d/.*': 1,\n",
       " '/etc/rc\\\\.local': 3,\n",
       " '/etc/resolv\\\\.conf': 0,\n",
       " '/etc/sed[0-9a-zA-Z]{6}': 0,\n",
       " '/proc/net/dev': 1,\n",
       " '/proc/self': 1,\n",
       " '/proc/stat': 0,\n",
       " '/sys/devices/.*': 0,\n",
       " 'Permission': 0,\n",
       " 'Permission:[0-9]{3}': 0,\n",
       " '^GID.*': 0,\n",
       " '^PID.*': 0,\n",
       " '^UID.*': 0,\n",
       " '^eth.*': 0,\n",
       " '^rm$': 0,\n",
       " '^sed$': 0,\n",
       " '^sh$': 0,\n",
       " '^uname$': 0,\n",
       " '0x[0-9a-zA-Z]{1,16}': 20,\n",
       " '\\\\d{1,3}\\\\.\\\\d{1,3}\\\\.\\\\d{1,3}\\\\.\\\\d{1,3}': 1,\n",
       " '\\\\d{1,3}\\\\.\\\\d{1,3}\\\\.\\\\d{1,3}\\\\.\\\\d{1,3}:\\\\d+': 0}"
      ]
     },
     "execution_count": 7,
     "metadata": {},
     "output_type": "execute_result"
    }
   ],
   "source": [
    "results[2]"
   ]
  },
  {
   "cell_type": "code",
   "execution_count": 8,
   "metadata": {},
   "outputs": [
    {
     "data": {
      "text/plain": [
       "{'.*/selinux': 0,\n",
       " '/.*bin/rm': 0,\n",
       " '/.*bin/sed': 0,\n",
       " '/dev/urandom': 0,\n",
       " '/etc/host\\\\.conf': 1,\n",
       " '/etc/hosts': 0,\n",
       " '/etc/init\\\\.d/.*': 1,\n",
       " '/etc/nsswitch\\\\.conf': 1,\n",
       " '/etc/rc.*\\\\.d/.*': 1,\n",
       " '/etc/rc\\\\.local': 4,\n",
       " '/etc/resolv\\\\.conf': 1,\n",
       " '/etc/sed[0-9a-zA-Z]{6}': 0,\n",
       " '/proc/net/dev': 1,\n",
       " '/proc/self': 4,\n",
       " '/proc/stat': 1,\n",
       " '/sys/devices/.*': 0,\n",
       " 'Permission': 0,\n",
       " 'Permission:[0-9]{3}': 0,\n",
       " '^GID.*': 0,\n",
       " '^PID.*': 0,\n",
       " '^UID.*': 0,\n",
       " '^eth.*': 0,\n",
       " '^rm$': 0,\n",
       " '^sed$': 0,\n",
       " '^sh$': 0,\n",
       " '^uname$': 0,\n",
       " '0x[0-9a-zA-Z]{1,16}': 0,\n",
       " '\\\\d{1,3}\\\\.\\\\d{1,3}\\\\.\\\\d{1,3}\\\\.\\\\d{1,3}': 0,\n",
       " '\\\\d{1,3}\\\\.\\\\d{1,3}\\\\.\\\\d{1,3}\\\\.\\\\d{1,3}:\\\\d+': 0}"
      ]
     },
     "execution_count": 8,
     "metadata": {},
     "output_type": "execute_result"
    }
   ],
   "source": [
    "results[3]"
   ]
  },
  {
   "cell_type": "code",
   "execution_count": null,
   "metadata": {},
   "outputs": [],
   "source": []
  }
 ],
 "metadata": {
  "kernelspec": {
   "display_name": "Python 3",
   "language": "python",
   "name": "python3"
  },
  "language_info": {
   "codemirror_mode": {
    "name": "ipython",
    "version": 3
   },
   "file_extension": ".py",
   "mimetype": "text/x-python",
   "name": "python",
   "nbconvert_exporter": "python",
   "pygments_lexer": "ipython3",
   "version": "3.10.5"
  },
  "orig_nbformat": 4
 },
 "nbformat": 4,
 "nbformat_minor": 2
}
