{
 "cells": [
  {
   "cell_type": "markdown",
   "metadata": {},
   "source": [
    "在一個句子中尋找一組 Special token。"
   ]
  },
  {
   "cell_type": "code",
   "execution_count": 2,
   "metadata": {},
   "outputs": [
    {
     "data": {
      "text/plain": [
       "'/etc/sedQhw17q'"
      ]
     },
     "execution_count": 2,
     "metadata": {},
     "output_type": "execute_result"
    }
   ],
   "source": [
    "import re\n",
    "\n",
    "sentence = \"How does the shhhhi sed command edit a file? It creates a tmp file /etc/sedQhw17q to store your input first. Read /etc/nsswitch.conf file. Try 111 find 5.5.5.5:33.\"\n",
    "regex = \"/etc/sed.*\"\n",
    "regex_list = [\"\\d{1,3}\\.\\d{1,3}\\.\\d{1,3}\\.\\d{1,3}:\\d+\", \"\\d{1,3}\\.\\d{1,3}\\.\\d{1,3}\\.\\d{1,3}\", \":\\d+\"]\n",
    "\n",
    "def find_spacial_token_regex(regex: str|list, sentence:str) -> str:\n",
    "    ''' Return the matched 'word' if regex find it. If not found return None'''\n",
    "    for word in sentence.split():\n",
    "        if isinstance(regex, str):\n",
    "            isMatch = re.match(regex, word)\n",
    "            if isMatch:\n",
    "                # print(\"Match :\", word, 'with regex', regex)\n",
    "                return word\n",
    "        elif isinstance(regex, list):\n",
    "            for r in regex:\n",
    "                if re.match(r, word):\n",
    "                    # print(\"Match :\", word, 'with regex', r)\n",
    "                    return word\n",
    "        else:\n",
    "            raise TypeError(\"regex must be str or list.\")\n",
    "    return None\n",
    "\n",
    "find_spacial_token_regex(regex, sentence)"
   ]
  },
  {
   "cell_type": "markdown",
   "metadata": {},
   "source": [
    "在一個句子中尋找許多組 Special token。"
   ]
  },
  {
   "cell_type": "code",
   "execution_count": 24,
   "metadata": {},
   "outputs": [
    {
     "name": "stdout",
     "output_type": "stream",
     "text": [
      "Match : 5.5.5.5:33 with regex \\d{1,3}\\.\\d{1,3}\\.\\d{1,3}\\.\\d{1,3}:\\d+\n"
     ]
    },
    {
     "data": {
      "text/plain": [
       "'5.5.5.5:33'"
      ]
     },
     "execution_count": 24,
     "metadata": {},
     "output_type": "execute_result"
    }
   ],
   "source": [
    "find_spacial_token_regex(regex_list, sentence)"
   ]
  },
  {
   "cell_type": "code",
   "execution_count": 6,
   "metadata": {},
   "outputs": [],
   "source": [
    "class RegexMatchResult:\n",
    "    def __init__(self, word: str, type: str=None, match_regex: str=None) -> None:\n",
    "        self.word = word\n",
    "        self.type = type\n",
    "        self.match_regex = match_regex\n",
    "        pass\n",
    "    def __str__(self):\n",
    "        return f\"<RegexMatchResult word={self.word}, type={self.type}, match_regex={self.match_regex}>\"\n",
    "    def __repr__(self):\n",
    "        return f\"<RegexMatchResult word={self.word}, type={self.type}, match_regex={self.match_regex}>\"\n",
    "\n",
    "class RegexMaster:\n",
    "    def __init__(self) -> None:\n",
    "        self.regex_file = {\n",
    "            \"sed command\": \"bin/sed\", \n",
    "            \"startup\": [\"/etc/rc\", \"/etc/init.d/\"],\n",
    "            \"process_info\": \"/proc/\", \n",
    "            \"sed temp file\": \"/etc/sed\", \n",
    "            \"selinx\": \"/selinux\", \n",
    "            \"sys\": [\"/sys/\", \"bin/\", \"lsb-release\"], \n",
    "            \"uname\":\"uname(.)($)\",\n",
    "            \"dns\": [\"mtab\", \"nsswitch.conf\", \"resolv.conf\", \"/hosts\"],\n",
    "        }\n",
    "        self.regex_process = {\"command\": [\"^sh$\", \"^sed$\"]} # must exact match\n",
    "        self.regex_net = {\n",
    "            \"net address\":[\"\\d{1,3}\\.\\d{1,3}\\.\\d{1,3}\\.\\d{1,3}:\\d+\", \"\\d{1,3}\\.\\d{1,3}\\.\\d{1,3}\\.\\d{1,3}\"], #, \":\\d+\" \n",
    "            \"NIC\": \"eth[0-9]$\"}\n",
    "        self.regex_mem = {\"Memory Address\": \"0x[0-9a-zA-Z]{8}\"}\n",
    "        self.regex_other = {\"permission\":\"Permission.*\", \"ID\":[\"UID\", \"GID\"]}\n",
    "        # 整理 regex rules\n",
    "        self.all_regex_dict = {**self.regex_file,  **self.regex_process, **self.regex_net, **self.regex_mem, **self.regex_other}\n",
    "        self.all_regex_list = []\n",
    "        for v in self.all_regex_dict.values():\n",
    "            if isinstance(v,list):\n",
    "                for i in v:\n",
    "                    self.all_regex_list.append(i)\n",
    "            else:\n",
    "                self.all_regex_list.append(v)\n",
    "        pass\n",
    "\n",
    "    def get_all_regex(self) -> list:\n",
    "        return self.all_regex_list\n",
    "\n",
    "    def find_spacial_token(self, sentence:str) -> RegexMatchResult:\n",
    "        if not isinstance(sentence, str):\n",
    "            raise TypeError(\"regex must be str or list.\")\n",
    "        result_list = []\n",
    "        for word in sentence.split():\n",
    "            for r in self.all_regex_list:\n",
    "                # print('r', r)\n",
    "                if re.search(r, word):\n",
    "                    # print(\"Match :\", word, 'with regex', r)\n",
    "                    result_list.append(RegexMatchResult(word, match_regex=r)) # 暫時忽略 type\n",
    "        if len(result_list):\n",
    "            return result_list     \n",
    "        return None"
   ]
  },
  {
   "cell_type": "code",
   "execution_count": 3,
   "metadata": {},
   "outputs": [
    {
     "name": "stdout",
     "output_type": "stream",
     "text": [
      "['.*bin/sed', '/etc/rc.*', '/etc/init.d/.*', '/proc/.*', '/etc/sed.*', '.*/selinux.*', '/sys/.*', '.*bin/*', '.*lsb-release.*', 'uname', '.*mtab.*', '.*nsswitch.conf.*', '.*resolv.conf.*', '.*/hosts.*', '^sh$', '^sed$', '\\\\d{1,3}\\\\.\\\\d{1,3}\\\\.\\\\d{1,3}\\\\.\\\\d{1,3}:\\\\d+', '\\\\d{1,3}\\\\.\\\\d{1,3}\\\\.\\\\d{1,3}\\\\.\\\\d{1,3}', ':\\\\d+', 'eth[0-9]*', '0x[0-9a-zA-Z]{8}', 'Permission.*', 'UID', 'GID']\n"
     ]
    },
    {
     "data": {
      "text/plain": [
       "[<RegexMatchResult word=sed, type=None, match_regex=^sed$>,\n",
       " <RegexMatchResult word=/etc/sedQhw17q, type=None, match_regex=/etc/sed.*>,\n",
       " <RegexMatchResult word=/etc/nsswitch.conf, type=None, match_regex=.*nsswitch.conf.*>,\n",
       " <RegexMatchResult word=5.5.5.5:33., type=None, match_regex=\\d{1,3}\\.\\d{1,3}\\.\\d{1,3}\\.\\d{1,3}:\\d+>,\n",
       " <RegexMatchResult word=5.5.5.5:33., type=None, match_regex=\\d{1,3}\\.\\d{1,3}\\.\\d{1,3}\\.\\d{1,3}>]"
      ]
     },
     "execution_count": 3,
     "metadata": {},
     "output_type": "execute_result"
    }
   ],
   "source": [
    "# testcase\n",
    "regexMaster = RegexMaster()\n",
    "print(regexMaster.get_all_regex())\n",
    "result = regexMaster.find_spacial_token(sentence)\n",
    "result"
   ]
  },
  {
   "cell_type": "markdown",
   "metadata": {},
   "source": [
    "### 注意 re.search 和 re.match 用法不同!"
   ]
  },
  {
   "cell_type": "code",
   "execution_count": 4,
   "metadata": {},
   "outputs": [
    {
     "data": {
      "text/plain": [
       "<re.Match object; span=(10, 23), match='nsswitch.conf'>"
      ]
     },
     "execution_count": 4,
     "metadata": {},
     "output_type": "execute_result"
    }
   ],
   "source": [
    "res = re.search(\"nsswitch.conf\", 'Read /etc/nsswitch.conf aaaa')\n",
    "res"
   ]
  },
  {
   "cell_type": "code",
   "execution_count": 5,
   "metadata": {},
   "outputs": [
    {
     "data": {
      "text/plain": [
       "<re.Match object; span=(0, 28), match='Read /etc/nsswitch.conf aaaa'>"
      ]
     },
     "execution_count": 5,
     "metadata": {},
     "output_type": "execute_result"
    }
   ],
   "source": [
    "res = re.match(\".*nsswitch.conf.*\", 'Read /etc/nsswitch.conf aaaa')\n",
    "res"
   ]
  },
  {
   "cell_type": "code",
   "execution_count": 7,
   "metadata": {},
   "outputs": [],
   "source": [
    "res = re.match(\"uname\", \"'uname'\")\n",
    "res"
   ]
  },
  {
   "cell_type": "code",
   "execution_count": 11,
   "metadata": {},
   "outputs": [
    {
     "data": {
      "text/plain": [
       "<re.Match object; span=(18, 33), match='11.22.33.44:999'>"
      ]
     },
     "execution_count": 11,
     "metadata": {},
     "output_type": "execute_result"
    }
   ],
   "source": [
    "res = re.search(\"\\d{1,3}\\.\\d{1,3}\\.\\d{1,3}\\.\\d{1,3}:\\d+\", \"The ip address is 11.22.33.44:999.\")\n",
    "res"
   ]
  },
  {
   "cell_type": "code",
   "execution_count": 14,
   "metadata": {},
   "outputs": [
    {
     "name": "stdout",
     "output_type": "stream",
     "text": [
      "<re.Match object; span=(1, 7), match=\"uname'\">\n",
      "None\n"
     ]
    }
   ],
   "source": [
    "\n",
    "res = re.search(r\"uname(.)($)\", \"'uname'\")\n",
    "print(res)\n",
    "\n",
    "res = re.search(r\"uname(.)($)\", \"'unamefigure\")\n",
    "print(res)"
   ]
  },
  {
   "attachments": {},
   "cell_type": "markdown",
   "metadata": {},
   "source": [
    "### 文件中的句子\n",
    "unamefigure\n",
    "\n",
    "it adds the following processes:\n",
    "/bin/uname\n",
    "\n",
    "if the ‘uname’ call\n",
    "\n",
    "processor\n",
    "/sys/devices/system/cpu\n",
    "\n",
    "by reading files /sys/class/dmi/id/product_name and"
   ]
  },
  {
   "cell_type": "code",
   "execution_count": null,
   "metadata": {},
   "outputs": [],
   "source": [
    "# match ver\n",
    "# 前後要加 .*\n",
    "self.regex_file = {\n",
    "    \"sed command\": \".*bin/sed\", \n",
    "    \"startup\": [\"/etc/rc.*\", \"/etc/init.d/.*\"],\n",
    "    \"process_info\": \"/proc/.*\", \n",
    "    \"sed temp file\": \"/etc/sed.*\", \n",
    "    \"selinx\": \".*/selinux.*\", \n",
    "    \"sys\": [\"/sys/.*\", \".*bin/*\", \".*lsb-release.*\"], \n",
    "    \"uname\":\".*uname.*\",\n",
    "    \"dns\": [\".*mtab.*\", \".*nsswitch.conf.*\", \".*resolv.conf.*\", \".*/hosts.*\"],\n",
    "}\n",
    "self.regex_process = {\"command\": [\"^sh$\", \"^sed$\"]} # must exact match\n",
    "self.regex_net = {\n",
    "    \"net address\":[\"\\d{1,3}\\.\\d{1,3}\\.\\d{1,3}\\.\\d{1,3}:\\d+\", \"\\d{1,3}\\.\\d{1,3}\\.\\d{1,3}\\.\\d{1,3}\", \":\\d+\"], \n",
    "    \"NIC\": \"eth[0-9]*\"}\n",
    "self.regex_mem = {\"Memory Address\": \"0x[0-9a-zA-Z]{8}\"}\n",
    "self.regex_other = {\"permission\":\"Permission.*\", \"ID\":[\"UID\", \"GID\"]}"
   ]
  },
  {
   "attachments": {},
   "cell_type": "markdown",
   "metadata": {},
   "source": [
    "### 為 Regex 分類"
   ]
  },
  {
   "cell_type": "code",
   "execution_count": 2,
   "metadata": {},
   "outputs": [
    {
     "data": {
      "text/plain": [
       "dict_items([('sed command', 'bin/sed'), ('startup', ['/etc/rc', '/etc/init.d/']), ('process_info', '/proc/'), ('sed temp file', '/etc/sed'), ('selinx', '/selinux'), ('sys', ['/sys/', 'bin/', 'lsb-release']), ('uname', 'uname(.)($)'), ('dns', ['mtab', 'nsswitch.conf', 'resolv.conf', '/hosts'])])"
      ]
     },
     "execution_count": 2,
     "metadata": {},
     "output_type": "execute_result"
    }
   ],
   "source": [
    "obj = {\n",
    "            \"sed command\": \"bin/sed\", \n",
    "            \"startup\": [\"/etc/rc\", \"/etc/init.d/\"],\n",
    "            \"process_info\": \"/proc/\", \n",
    "            \"sed temp file\": \"/etc/sed\", \n",
    "            \"selinx\": \"/selinux\", \n",
    "            \"sys\": [\"/sys/\", \"bin/\", \"lsb-release\"], \n",
    "            \"uname\":\"uname(.)($)\",\n",
    "            \"dns\": [\"mtab\", \"nsswitch.conf\", \"resolv.conf\", \"/hosts\"],\n",
    "        }\n",
    "obj.items()"
   ]
  },
  {
   "cell_type": "code",
   "execution_count": 8,
   "metadata": {},
   "outputs": [],
   "source": [
    "r_type = {\n",
    "    'file': ['bin/sed','/etc/rc', '/etc/init.d/','/proc/','/etc/sed','/selinux','/sys/', 'bin/', 'lsb-release','uname(.)($)','mtab', 'nsswitch.conf', 'resolv.conf', '/hosts'],\n",
    "    'proc': [\"^sh$\", \"^sed$\"],\n",
    "    'net': [r\"\\d{1,3}\\.\\d{1,3}\\.\\d{1,3}\\.\\d{1,3}:\\d+\", r\"\\d{1,3}\\.\\d{1,3}\\.\\d{1,3}\\.\\d{1,3}\", r'eth[0-9]$'],\n",
    "    'mem': [\"0x[0-9a-zA-Z]{8}\"],\n",
    "    'other': [\"Permission.*\",\"UID\",\"GID\"]\n",
    "}\n",
    "lookup_dic = {}\n",
    "for k,v in r_type.items():\n",
    "    for x in v:\n",
    "        lookup_dic[x] = k"
   ]
  },
  {
   "cell_type": "code",
   "execution_count": 10,
   "metadata": {},
   "outputs": [
    {
     "name": "stdout",
     "output_type": "stream",
     "text": [
      "# of file_r  8   8   8   8   8   3   8   8  11  11   8   8   3 \n",
      "# of proc_r  2   2   2   2   2   0   2   2   2   2   2   2   0 \n",
      "# of net_r  2   2   2   2   2   2   2   2   2   2   2   2   2 \n",
      "# of mem_r  0   0   0   0   0   0   0   0   0   0   0   0   0 \n",
      "# of other_r  1   1   1   1   1   1   1   1   1   1   1   1   1 \n"
     ]
    }
   ],
   "source": [
    "from collections import Counter\n",
    "re_string_list = [\n",
    "    ['^sh$', '/proc/', '\\\\d{1,3}\\\\.\\\\d{1,3}\\\\.\\\\d{1,3}\\\\.\\\\d{1,3}:\\\\d+', 'bin/', '/etc/rc', '/etc/sed', '\\\\d{1,3}\\\\.\\\\d{1,3}\\\\.\\\\d{1,3}\\\\.\\\\d{1,3}', '/sys/', 'bin/sed', '^sed$', 'Permission.*', '/selinux', '/etc/init.d/'],\n",
    "    ['^sh$', '/proc/', '\\\\d{1,3}\\\\.\\\\d{1,3}\\\\.\\\\d{1,3}\\\\.\\\\d{1,3}:\\\\d+', 'bin/', '/etc/rc', '/etc/sed', '\\\\d{1,3}\\\\.\\\\d{1,3}\\\\.\\\\d{1,3}\\\\.\\\\d{1,3}', '/sys/', 'bin/sed', '^sed$', 'Permission.*', '/selinux', '/etc/init.d/'],\n",
    "    ['^sh$', '/proc/', '\\\\d{1,3}\\\\.\\\\d{1,3}\\\\.\\\\d{1,3}\\\\.\\\\d{1,3}:\\\\d+', 'bin/', '/etc/rc', '/etc/sed', '\\\\d{1,3}\\\\.\\\\d{1,3}\\\\.\\\\d{1,3}\\\\.\\\\d{1,3}', '/sys/', 'bin/sed', '^sed$', 'Permission.*', '/selinux', '/etc/init.d/'],\n",
    "    ['^sh$', '/proc/', '\\\\d{1,3}\\\\.\\\\d{1,3}\\\\.\\\\d{1,3}\\\\.\\\\d{1,3}:\\\\d+', 'bin/', '/etc/rc', '/etc/sed', '\\\\d{1,3}\\\\.\\\\d{1,3}\\\\.\\\\d{1,3}\\\\.\\\\d{1,3}', '/sys/', 'bin/sed', '^sed$', 'Permission.*', '/selinux', '/etc/init.d/'],\n",
    "    ['^sh$', '/proc/', '\\\\d{1,3}\\\\.\\\\d{1,3}\\\\.\\\\d{1,3}\\\\.\\\\d{1,3}:\\\\d+', 'bin/', '/etc/rc', '/etc/sed', '\\\\d{1,3}\\\\.\\\\d{1,3}\\\\.\\\\d{1,3}\\\\.\\\\d{1,3}', '/sys/', 'bin/sed', '^sed$', 'Permission.*', '/selinux', '/etc/init.d/'],\n",
    "    ['mtab', '/proc/', '\\\\d{1,3}\\\\.\\\\d{1,3}\\\\.\\\\d{1,3}\\\\.\\\\d{1,3}:\\\\d+', '\\\\d{1,3}\\\\.\\\\d{1,3}\\\\.\\\\d{1,3}\\\\.\\\\d{1,3}', '/sys/', 'Permission.*'],\n",
    "    ['^sh$', '/proc/', '\\\\d{1,3}\\\\.\\\\d{1,3}\\\\.\\\\d{1,3}\\\\.\\\\d{1,3}:\\\\d+', 'bin/', '/etc/rc', '/etc/sed', '\\\\d{1,3}\\\\.\\\\d{1,3}\\\\.\\\\d{1,3}\\\\.\\\\d{1,3}', '/sys/', 'bin/sed', '^sed$', 'Permission.*', '/selinux', '/etc/init.d/'],\n",
    "    ['^sh$', '/proc/', '\\\\d{1,3}\\\\.\\\\d{1,3}\\\\.\\\\d{1,3}\\\\.\\\\d{1,3}:\\\\d+', 'bin/', '/etc/rc', '/etc/sed', '\\\\d{1,3}\\\\.\\\\d{1,3}\\\\.\\\\d{1,3}\\\\.\\\\d{1,3}', '/sys/', 'bin/sed', '^sed$', 'Permission.*', '/selinux', '/etc/init.d/'],\n",
    "    ['^sh$', '/proc/', 'nsswitch.conf', '\\\\d{1,3}\\\\.\\\\d{1,3}\\\\.\\\\d{1,3}\\\\.\\\\d{1,3}:\\\\d+', 'bin/', '/etc/rc', '/etc/sed', 'resolv.conf', '\\\\d{1,3}\\\\.\\\\d{1,3}\\\\.\\\\d{1,3}\\\\.\\\\d{1,3}', '/sys/', '/hosts', 'bin/sed', '^sed$', 'Permission.*', '/selinux', '/etc/init.d/'],\n",
    "    ['^sh$', '/proc/', 'nsswitch.conf', '\\\\d{1,3}\\\\.\\\\d{1,3}\\\\.\\\\d{1,3}\\\\.\\\\d{1,3}:\\\\d+', 'bin/', '/etc/rc', '/etc/sed', 'resolv.conf', '\\\\d{1,3}\\\\.\\\\d{1,3}\\\\.\\\\d{1,3}\\\\.\\\\d{1,3}', '/sys/', '/hosts', 'bin/sed', '^sed$', 'Permission.*', '/selinux', '/etc/init.d/'],\n",
    "    ['^sh$', '/proc/', '\\\\d{1,3}\\\\.\\\\d{1,3}\\\\.\\\\d{1,3}\\\\.\\\\d{1,3}:\\\\d+', 'bin/', '/etc/rc', '/etc/sed', '\\\\d{1,3}\\\\.\\\\d{1,3}\\\\.\\\\d{1,3}\\\\.\\\\d{1,3}', '/sys/', 'bin/sed', '^sed$', 'Permission.*', '/selinux', '/etc/init.d/'],\n",
    "    ['^sh$', '/proc/', '\\\\d{1,3}\\\\.\\\\d{1,3}\\\\.\\\\d{1,3}\\\\.\\\\d{1,3}:\\\\d+', 'bin/', '/etc/rc', '/etc/sed', '\\\\d{1,3}\\\\.\\\\d{1,3}\\\\.\\\\d{1,3}\\\\.\\\\d{1,3}', '/sys/', 'bin/sed', '^sed$', 'Permission.*', '/selinux', '/etc/init.d/'],\n",
    "    ['mtab', '/proc/', '\\\\d{1,3}\\\\.\\\\d{1,3}\\\\.\\\\d{1,3}\\\\.\\\\d{1,3}:\\\\d+', '\\\\d{1,3}\\\\.\\\\d{1,3}\\\\.\\\\d{1,3}\\\\.\\\\d{1,3}', '/sys/', 'Permission.*'],\n",
    "]\n",
    "type_list = []\n",
    "for re_string in re_string_list:\n",
    "    t = [lookup_dic[s] for s in re_string]\n",
    "    type_list.append(Counter(t))\n",
    "\n",
    "types = ['file', 'proc', 'net', 'mem', 'other']\n",
    "for t in types:\n",
    "    output = f'# of {t}_r'\n",
    "    for sample in type_list:\n",
    "        try:\n",
    "            appear = sample[t]\n",
    "        except:\n",
    "            appear = 0\n",
    "        output += f\"{appear:3} \"\n",
    "    print(output)\n"
   ]
  },
  {
   "cell_type": "code",
   "execution_count": 17,
   "metadata": {},
   "outputs": [
    {
     "data": {
      "text/plain": [
       "[Counter({'proc': 2, 'file': 8, 'net': 2, 'other': 1}),\n",
       " Counter({'proc': 2, 'file': 8, 'net': 2, 'other': 1}),\n",
       " Counter({'proc': 2, 'file': 8, 'net': 2, 'other': 1}),\n",
       " Counter({'proc': 2, 'file': 8, 'net': 2, 'other': 1}),\n",
       " Counter({'proc': 2, 'file': 8, 'net': 2, 'other': 1}),\n",
       " Counter({'file': 3, 'net': 2, 'other': 1}),\n",
       " Counter({'proc': 2, 'file': 8, 'net': 2, 'other': 1}),\n",
       " Counter({'proc': 2, 'file': 8, 'net': 2, 'other': 1}),\n",
       " Counter({'proc': 2, 'file': 11, 'net': 2, 'other': 1}),\n",
       " Counter({'proc': 2, 'file': 11, 'net': 2, 'other': 1}),\n",
       " Counter({'proc': 2, 'file': 8, 'net': 2, 'other': 1}),\n",
       " Counter({'proc': 2, 'file': 8, 'net': 2, 'other': 1}),\n",
       " Counter({'file': 3, 'net': 2, 'other': 1})]"
      ]
     },
     "execution_count": 17,
     "metadata": {},
     "output_type": "execute_result"
    }
   ],
   "source": [
    "type_list"
   ]
  },
  {
   "cell_type": "code",
   "execution_count": 19,
   "metadata": {},
   "outputs": [
    {
     "data": {
      "text/plain": [
       "{'/hosts', 'nsswitch.conf', 'resolv.conf'}"
      ]
     },
     "execution_count": 19,
     "metadata": {},
     "output_type": "execute_result"
    }
   ],
   "source": [
    "S9 = {'^sh$', '/proc/', 'nsswitch.conf', '\\\\d{1,3}\\\\.\\\\d{1,3}\\\\.\\\\d{1,3}\\\\.\\\\d{1,3}:\\\\d+', 'bin/', '/etc/rc', '/etc/sed', 'resolv.conf', '\\\\d{1,3}\\\\.\\\\d{1,3}\\\\.\\\\d{1,3}\\\\.\\\\d{1,3}', '/sys/', '/hosts', 'bin/sed', '^sed$', 'Permission.*', '/selinux', '/etc/init.d/'}\n",
    "S8 = {'^sh$', '/proc/', '\\\\d{1,3}\\\\.\\\\d{1,3}\\\\.\\\\d{1,3}\\\\.\\\\d{1,3}:\\\\d+', 'bin/', '/etc/rc', '/etc/sed', '\\\\d{1,3}\\\\.\\\\d{1,3}\\\\.\\\\d{1,3}\\\\.\\\\d{1,3}', '/sys/', 'bin/sed', '^sed$', 'Permission.*', '/selinux', '/etc/init.d/'}\n",
    "\n",
    "S9 - S8"
   ]
  },
  {
   "cell_type": "code",
   "execution_count": 20,
   "metadata": {},
   "outputs": [
    {
     "data": {
      "text/plain": [
       "set()"
      ]
     },
     "execution_count": 20,
     "metadata": {},
     "output_type": "execute_result"
    }
   ],
   "source": [
    "S8 - S9"
   ]
  },
  {
   "attachments": {},
   "cell_type": "markdown",
   "metadata": {},
   "source": [
    "union 這些 regex"
   ]
  },
  {
   "cell_type": "code",
   "execution_count": null,
   "metadata": {},
   "outputs": [],
   "source": [
    "re_string_list"
   ]
  },
  {
   "cell_type": "code",
   "execution_count": null,
   "metadata": {},
   "outputs": [],
   "source": []
  },
  {
   "cell_type": "code",
   "execution_count": 9,
   "metadata": {},
   "outputs": [
    {
     "ename": "NameError",
     "evalue": "name 'Counter' is not defined",
     "output_type": "error",
     "traceback": [
      "\u001b[1;31m---------------------------------------------------------------------------\u001b[0m",
      "\u001b[1;31mNameError\u001b[0m                                 Traceback (most recent call last)",
      "Cell \u001b[1;32mIn [9], line 6\u001b[0m\n\u001b[0;32m      2\u001b[0m all_regex_list \u001b[39m=\u001b[39m master\u001b[39m.\u001b[39mall_regex_list\n\u001b[0;32m      5\u001b[0m t \u001b[39m=\u001b[39m [lookup_dic[s] \u001b[39mfor\u001b[39;00m s \u001b[39min\u001b[39;00m all_regex_list]\n\u001b[1;32m----> 6\u001b[0m \u001b[39mprint\u001b[39m(Counter(t))\n",
      "\u001b[1;31mNameError\u001b[0m: name 'Counter' is not defined"
     ]
    }
   ],
   "source": [
    "from collections import Counter\n",
    "master = RegexMaster()\n",
    "all_regex_list = master.all_regex_list\n",
    "\n",
    "\n",
    "t = [lookup_dic[s] for s in all_regex_list]\n",
    "print(Counter(t))"
   ]
  },
  {
   "cell_type": "code",
   "execution_count": null,
   "metadata": {},
   "outputs": [],
   "source": []
  }
 ],
 "metadata": {
  "kernelspec": {
   "display_name": "Python 3.10.5 64-bit",
   "language": "python",
   "name": "python3"
  },
  "language_info": {
   "codemirror_mode": {
    "name": "ipython",
    "version": 3
   },
   "file_extension": ".py",
   "mimetype": "text/x-python",
   "name": "python",
   "nbconvert_exporter": "python",
   "pygments_lexer": "ipython3",
   "version": "3.10.5 (tags/v3.10.5:f377153, Jun  6 2022, 16:14:13) [MSC v.1929 64 bit (AMD64)]"
  },
  "orig_nbformat": 4,
  "vscode": {
   "interpreter": {
    "hash": "125a1d8b627fe68767755740015967bae857d08bb92fb3fd0d9d8ed24f978d39"
   }
  }
 },
 "nbformat": 4,
 "nbformat_minor": 2
}
