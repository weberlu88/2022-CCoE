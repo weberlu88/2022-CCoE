{
 "cells": [
  {
   "cell_type": "markdown",
   "metadata": {},
   "source": [
    "在一個句子中尋找一組 Special token。"
   ]
  },
  {
   "cell_type": "code",
   "execution_count": 1,
   "metadata": {},
   "outputs": [
    {
     "data": {
      "text/plain": [
       "'/etc/sedQhw17q'"
      ]
     },
     "execution_count": 1,
     "metadata": {},
     "output_type": "execute_result"
    }
   ],
   "source": [
    "import re\n",
    "\n",
    "sentence = \"How does the shhhhi sed command edit a file? It creates a tmp file /etc/sedQhw17q to store your input first. Read /etc/nsswitch.conf file. Try 111 find 5.5.5.5:33.\"\n",
    "regex = \"/etc/sed.*\"\n",
    "regex_list = [\"\\d{1,3}\\.\\d{1,3}\\.\\d{1,3}\\.\\d{1,3}:\\d+\", \"\\d{1,3}\\.\\d{1,3}\\.\\d{1,3}\\.\\d{1,3}\", \":\\d+\"]\n",
    "\n",
    "def find_spacial_token_regex(regex: str|list, sentence:str) -> str:\n",
    "    ''' Return the matched 'word' if regex find it. If not found return None'''\n",
    "    for word in sentence.split():\n",
    "        if isinstance(regex, str):\n",
    "            isMatch = re.match(regex, word)\n",
    "            if isMatch:\n",
    "                # print(\"Match :\", word, 'with regex', regex)\n",
    "                return word\n",
    "        elif isinstance(regex, list):\n",
    "            for r in regex:\n",
    "                if re.match(r, word):\n",
    "                    # print(\"Match :\", word, 'with regex', r)\n",
    "                    return word\n",
    "        else:\n",
    "            raise TypeError(\"regex must be str or list.\")\n",
    "    return None\n",
    "\n",
    "find_spacial_token_regex(regex, sentence)"
   ]
  },
  {
   "cell_type": "markdown",
   "metadata": {},
   "source": [
    "在一個句子中尋找許多組 Special token。"
   ]
  },
  {
   "cell_type": "code",
   "execution_count": 24,
   "metadata": {},
   "outputs": [
    {
     "name": "stdout",
     "output_type": "stream",
     "text": [
      "Match : 5.5.5.5:33 with regex \\d{1,3}\\.\\d{1,3}\\.\\d{1,3}\\.\\d{1,3}:\\d+\n"
     ]
    },
    {
     "data": {
      "text/plain": [
       "'5.5.5.5:33'"
      ]
     },
     "execution_count": 24,
     "metadata": {},
     "output_type": "execute_result"
    }
   ],
   "source": [
    "find_spacial_token_regex(regex_list, sentence)"
   ]
  },
  {
   "cell_type": "code",
   "execution_count": 2,
   "metadata": {},
   "outputs": [],
   "source": [
    "class RegexMatchResult:\n",
    "    def __init__(self, word: str, type: str=None, match_regex: str=None) -> None:\n",
    "        self.word = word\n",
    "        self.type = type\n",
    "        self.match_regex = match_regex\n",
    "        pass\n",
    "    def __str__(self):\n",
    "        return f\"<RegexMatchResult word={self.word}, type={self.type}, match_regex={self.match_regex}>\"\n",
    "    def __repr__(self):\n",
    "        return f\"<RegexMatchResult word={self.word}, type={self.type}, match_regex={self.match_regex}>\"\n",
    "\n",
    "class RegexMaster:\n",
    "    def __init__(self) -> None:\n",
    "        self.regex_file = {\n",
    "            \"sed command\": \".*bin/sed\", \n",
    "            \"startup\": [\"/etc/rc.*\", \"/etc/init.d/.*\"],\n",
    "            \"process_info\": \"/proc/.*\", \n",
    "            \"sed temp file\": \"/etc/sed.*\", \n",
    "            \"selinx\": \".*/selinux.*\", \n",
    "            \"sys\": [\"/sys/.*\", \".*bin/*\", \".*lsb-release.*\"], \n",
    "            \"uname\":\"uname\",\n",
    "            \"dns\": [\".*mtab.*\", \".*nsswitch.conf.*\", \".*resolv.conf.*\", \".*/hosts.*\"],\n",
    "        }\n",
    "        self.regex_process = {\"command\": [\"^sh$\", \"^sed$\"]} # must exact match\n",
    "        self.regex_net = {\n",
    "            \"net address\":[\"\\d{1,3}\\.\\d{1,3}\\.\\d{1,3}\\.\\d{1,3}:\\d+\", \"\\d{1,3}\\.\\d{1,3}\\.\\d{1,3}\\.\\d{1,3}\", \":\\d+\"], \n",
    "            \"NIC\": \"eth[0-9]*\"}\n",
    "        self.regex_mem = {\"Memory Address\": \"0x[0-9a-zA-Z]{8}\"}\n",
    "        self.regex_other = {\"permission\":\"Permission.*\", \"ID\":[\"UID\", \"GID\"]}\n",
    "        # 整理 regex rules\n",
    "        self.all_regex_dict = {**self.regex_file,  **self.regex_process, **self.regex_net, **self.regex_mem, **self.regex_other}\n",
    "        self.all_regex_list = []\n",
    "        for v in self.all_regex_dict.values():\n",
    "            if isinstance(v,list):\n",
    "                for i in v:\n",
    "                    self.all_regex_list.append(i)\n",
    "            else:\n",
    "                self.all_regex_list.append(v)\n",
    "        pass\n",
    "\n",
    "    def get_all_regex(self) -> list:\n",
    "        return self.all_regex_list\n",
    "\n",
    "    def find_spacial_token(self, sentence:str) -> RegexMatchResult:\n",
    "        if not isinstance(sentence, str):\n",
    "            raise TypeError(\"regex must be str or list.\")\n",
    "        result_list = []\n",
    "        for word in sentence.split():\n",
    "            for r in self.all_regex_list:\n",
    "                # print('r', r)\n",
    "                if re.match(r, word):\n",
    "                    # print(\"Match :\", word, 'with regex', r)\n",
    "                    result_list.append(RegexMatchResult(word, match_regex=r)) # 暫時忽略 type\n",
    "        if len(result_list):\n",
    "            return result_list     \n",
    "        return None"
   ]
  },
  {
   "cell_type": "code",
   "execution_count": 3,
   "metadata": {},
   "outputs": [
    {
     "name": "stdout",
     "output_type": "stream",
     "text": [
      "['.*bin/sed', '/etc/rc.*', '/etc/init.d/.*', '/proc/.*', '/etc/sed.*', '.*/selinux.*', '/sys/.*', 'bin/*', 'lsb-release', 'uname', 'mtab', 'nsswitch.conf', 'resolv.conf', '/hosts', '^sh$', '^sed$', '\\\\d{1,3}\\\\.\\\\d{1,3}\\\\.\\\\d{1,3}\\\\.\\\\d{1,3}:\\\\d+', '\\\\d{1,3}\\\\.\\\\d{1,3}\\\\.\\\\d{1,3}\\\\.\\\\d{1,3}', ':\\\\d+', 'eth[0-9]*', '0x[0-9a-zA-Z]{8}', 'Permission.*', 'UID', 'GID']\n"
     ]
    },
    {
     "data": {
      "text/plain": [
       "[<RegexMatchResult word=sed, type=None, match_regex=^sed$>,\n",
       " <RegexMatchResult word=/etc/sedQhw17q, type=None, match_regex=/etc/sed.*>,\n",
       " <RegexMatchResult word=5.5.5.5:33., type=None, match_regex=\\d{1,3}\\.\\d{1,3}\\.\\d{1,3}\\.\\d{1,3}:\\d+>,\n",
       " <RegexMatchResult word=5.5.5.5:33., type=None, match_regex=\\d{1,3}\\.\\d{1,3}\\.\\d{1,3}\\.\\d{1,3}>]"
      ]
     },
     "execution_count": 3,
     "metadata": {},
     "output_type": "execute_result"
    }
   ],
   "source": [
    "# testcase\n",
    "regexMaster = RegexMaster()\n",
    "print(regexMaster.get_all_regex())\n",
    "result = regexMaster.find_spacial_token(sentence)\n",
    "result"
   ]
  },
  {
   "cell_type": "markdown",
   "metadata": {},
   "source": [
    "### 注意 re.search 和 re.match 用法不同!"
   ]
  },
  {
   "cell_type": "code",
   "execution_count": 23,
   "metadata": {},
   "outputs": [
    {
     "data": {
      "text/plain": [
       "<re.Match object; span=(10, 23), match='nsswitch.conf'>"
      ]
     },
     "execution_count": 23,
     "metadata": {},
     "output_type": "execute_result"
    }
   ],
   "source": [
    "res = re.search(\"nsswitch.conf\", 'Read /etc/nsswitch.conf aaaa')\n",
    "res"
   ]
  },
  {
   "cell_type": "code",
   "execution_count": 21,
   "metadata": {},
   "outputs": [
    {
     "data": {
      "text/plain": [
       "<re.Match object; span=(0, 28), match='Read /etc/nsswitch.conf aaaa'>"
      ]
     },
     "execution_count": 21,
     "metadata": {},
     "output_type": "execute_result"
    }
   ],
   "source": [
    "res = re.match(\".*nsswitch.conf.*\", 'Read /etc/nsswitch.conf aaaa')\n",
    "res"
   ]
  },
  {
   "cell_type": "code",
   "execution_count": null,
   "metadata": {},
   "outputs": [],
   "source": []
  }
 ],
 "metadata": {
  "kernelspec": {
   "display_name": "Python 3.10.5 64-bit",
   "language": "python",
   "name": "python3"
  },
  "language_info": {
   "codemirror_mode": {
    "name": "ipython",
    "version": 3
   },
   "file_extension": ".py",
   "mimetype": "text/x-python",
   "name": "python",
   "nbconvert_exporter": "python",
   "pygments_lexer": "ipython3",
   "version": "3.10.5"
  },
  "orig_nbformat": 4,
  "vscode": {
   "interpreter": {
    "hash": "125a1d8b627fe68767755740015967bae857d08bb92fb3fd0d9d8ed24f978d39"
   }
  }
 },
 "nbformat": 4,
 "nbformat_minor": 2
}
