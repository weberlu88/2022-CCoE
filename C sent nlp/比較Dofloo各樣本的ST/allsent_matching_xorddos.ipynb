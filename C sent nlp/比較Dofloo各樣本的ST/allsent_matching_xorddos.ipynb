{
 "cells": [
  {
   "cell_type": "code",
   "execution_count": 1,
   "metadata": {},
   "outputs": [],
   "source": [
    "import re\n",
    "import os\n",
    "from os import listdir\n",
    "from os.path import isfile, join\n",
    "from pathlib import Path\n",
    "import pandas as pd\n",
    "import pickle\n",
    "from typing import Dict, List, get_type_hints\n",
    "from styleframe import StyleFrame, Styler\n",
    "from IPython.display import display\n",
    "\n",
    "''' 自己寫的模組 '''\n",
    "from cc_regex_script import RegexMatchResult, RegexMaster \n",
    "from cc_nlp_script import find_verb_of_vocab, OperationMode, OperationEvaluator\n",
    "from cc_module_cust import AttackGraph, Node, Edge, FileTable #, build"
   ]
  },
  {
   "cell_type": "markdown",
   "metadata": {},
   "source": [
    "### Load 所有 Dofloo 的 object，計算並儲存其 regex"
   ]
  },
  {
   "cell_type": "code",
   "execution_count": 2,
   "metadata": {},
   "outputs": [
    {
     "name": "stdout",
     "output_type": "stream",
     "text": [
      "family Xorddos has numOfSample 21, first is 07c070b717a23453a2b71c7582d6a928\n",
      "samplename: ['0aefb67c01a24d05351b093455203fa2']\n"
     ]
    }
   ],
   "source": [
    "family = 'Xorddos' # Dofloo Xorddos\n",
    "\n",
    "sample_info = pd.read_csv('../../C malware info/sample_info.csv')\n",
    "dofloo_info = sample_info[(sample_info['family'] == family) & \n",
    "            (~sample_info['filename'].isin(['8845355172c485813872f1bb1834de15.bin']))]\n",
    "samplename_lst = dofloo_info['filename'].to_list()\n",
    "samplename_lst = [name.split('.')[0] for name in samplename_lst]\n",
    "print(f\"family {family} has numOfSample {len(samplename_lst)}, first is {samplename_lst[0]}\")\n",
    "\n",
    "if family == 'Dofloo':\n",
    "    samplename_lst = ['0046a78514a658b9b7a4e29e8581f85b'] # 只先使用這個 dof sample\n",
    "if family == 'Xorddos':\n",
    "    samplename_lst = ['0aefb67c01a24d05351b093455203fa2'] # 只先使用這個 xor sample\n",
    "\n",
    "print('samplename:', samplename_lst)"
   ]
  },
  {
   "cell_type": "code",
   "execution_count": 3,
   "metadata": {},
   "outputs": [
    {
     "name": "stdout",
     "output_type": "stream",
     "text": [
      "True\n",
      "{<OP act=a, obj=a>}\n"
     ]
    }
   ],
   "source": [
    "class OperationPair:\n",
    "    SYSCALL = 0\n",
    "    VERB = 1\n",
    "\n",
    "    def __init__(self, action:str, object:str, type:int=0, subject:str=None, step_number:int=None, original_object=None, original_sentence=None):\n",
    "        self.object = object # regex\n",
    "        self.action = action # verb or syscall\n",
    "        self.type = type\n",
    "        self.subject = subject\n",
    "        self.step_number = step_number\n",
    "        self.original_object = original_object # can store original matched word (object) from CTD\n",
    "        self.original_sentence = original_sentence # can store the mathced sentence\n",
    "        pass\n",
    "\n",
    "    def __eq__(self, other): \n",
    "        if not isinstance(other, OperationPair):\n",
    "            # don't attempt to compare against unrelated types\n",
    "            return NotImplemented\n",
    "        # Same if <action, object> pair is same (type is not consider yet)\n",
    "        return self.action == other.action and self.object == other.object\n",
    "\n",
    "    def __hash__(self) -> int:\n",
    "        # necessary for instances to behave sanely in dicts and sets.\n",
    "        return hash((self.action, self.object))\n",
    "\n",
    "    def __str__(self) -> str:\n",
    "        return f\"<OP act={self.action}, obj={self.object}>\"\n",
    "    def __repr__(self) -> str:\n",
    "        return str(self)\n",
    "        \n",
    "# test case\n",
    "p_aa = OperationPair('a','a')\n",
    "p_aaz = OperationPair('a','a')\n",
    "p_ab = OperationPair('a','b')\n",
    "\n",
    "print(p_aa == p_aaz) # True\n",
    "print(set([p_aa, p_aaz])) # one element\n",
    "\n",
    "def construct_sample_OPset(step_list: list, keep_src_node=False, debug=False, rt_order=True) -> set:\n",
    "    '''return a list of OPset. RegexMaster and family are gobal variable.'''\n",
    "    if debug:\n",
    "        print('step_list len:', len(set(step_list)))\n",
    "    OPlst_raw = list((src_node.name, dst_node.name, syscall) for (src_node, dst_node, syscall) in step_list) # object is raw\n",
    "    OPset_raw = list(dict.fromkeys(OPlst_raw))\n",
    "    if debug:\n",
    "        print('OPlst_raw len:', len(OPlst_raw)) # why len is 123100? (while step_list len is 7775) (must be equal)\n",
    "        print(f\"OPlst_raw: {OPlst_raw[:10]}\")\n",
    "        print('OPset_raw len:', len(OPset_raw)) # len is 5925 for xor\n",
    "        print(f\"OPset_raw: {OPset_raw[:10]}\")\n",
    "    regexMaster = RegexMaster(familyname=family)\n",
    "    regex_pool = regexMaster.get_all_regex()\n",
    "    OPset = set()\n",
    "    OPset_ordered = list()\n",
    "    for (src_node, dst_node, syscall) in OPset_raw:\n",
    "        regex_dst_node_list = RegexMaster.find_spacial_token_with_regex(regex_pool, dst_node)\n",
    "        if regex_dst_node_list is None or len(regex_dst_node_list) == 0:\n",
    "            continue\n",
    "        for regex_result in regex_dst_node_list:\n",
    "            dst_node = regex_result.match_regex\n",
    "            step_number = len(OPset) + 1\n",
    "            if keep_src_node:\n",
    "                op = OperationPair(syscall, dst_node, subject=src_node, step_number=step_number)\n",
    "                OPset.add(op) # keep src_node in OP\n",
    "                if op not in OPset_ordered:\n",
    "                    OPset_ordered.append(op)\n",
    "            else:\n",
    "                op = OperationPair(syscall, dst_node, step_number=step_number)\n",
    "                OPset.add(op) # only dst_node, syscall in OP\n",
    "                if op not in OPset_ordered:\n",
    "                    OPset_ordered.append(op)\n",
    "    if debug:\n",
    "        print('OPset len:', len(OPset), 'OPset_ordered len:', len(OPset_ordered))\n",
    "    if rt_order:\n",
    "        return OPset, OPset_ordered\n",
    "    return OPset\n",
    "\n",
    "# def construct_sample_stepList(step_list: list, keep_src_node=False, debug=False) -> list:\n",
    "#     ''''''\n",
    "#     pass\n",
    "\n",
    "# test\n",
    "# sample_OPset = construct_sample_OPset(asg.step_list, debug=True)"
   ]
  },
  {
   "cell_type": "code",
   "execution_count": 4,
   "metadata": {},
   "outputs": [
    {
     "name": "stdout",
     "output_type": "stream",
     "text": [
      "Exam: sample S1 matches 31 of regex\n",
      "Size of regex_pool: 31, size of total_used_regex: 0\n"
     ]
    }
   ],
   "source": [
    "class Sample:\n",
    "    def __init__(self, samplename:str, regex_set:set=None, special_token_dict=None, step_list=None) -> None:\n",
    "        self.samplename: str = samplename\n",
    "        self.regex_set: set = set()\n",
    "        if regex_set:\n",
    "            self.regex_set = regex_set\n",
    "        self.special_token_dict = {}\n",
    "        if special_token_dict:\n",
    "            self.special_token_dict: dict = special_token_dict # list of dict\n",
    "        if step_list:\n",
    "            self.step_list = step_list\n",
    "            OPset, OPset_ordered = construct_sample_OPset(step_list)\n",
    "            self.OPset: set[OperationPair] = OPset\n",
    "            self.OPset_ordered: list[OperationPair] = OPset_ordered # 依照出現順序排序的 OPset (元素相同順序不同)\n",
    "            self.OPset_sysOnly_ordered = [] # 尚未初始化 只儲存改變系統狀態的 OP 的物件\n",
    "            self.OPset_sysOnly_ordered_index = [] # 尚未初始化 只儲存改變系統狀態的 OP 的 index\n",
    "            del OPset, OPset_ordered\n",
    "        pass\n",
    "    def __repr__(self) -> str:\n",
    "        return f\"<Sample self.samplename>\"\n",
    "\n",
    "''' 讀取 ASG 中的 set_of_object (就是這個樣本的 special_token_dict)，並歸納樣本的 regex_set '''\n",
    "regexMaster = RegexMaster(familyname=family)\n",
    "regex_pool = regexMaster.get_all_regex()\n",
    "# total_used_regex = set()\n",
    "samples: list[Sample] = []\n",
    "for samplename in samplename_lst:\n",
    "    with open(f'../../C ASG statistics 1115ver/saved_pkl/{family}/{samplename}.pkl', 'rb') as inp:\n",
    "        asg: AttackGraph = pickle.load(inp) # asg.set_of_object is dict() (key:spacial token, value: type 首字大寫)\n",
    "        sample = Sample(samplename, special_token_dict=asg.set_of_object, step_list=asg.step_list)\n",
    "        sample.regex_set = set(regex_pool) # 直接使用志剛寫的作為這個樣本的 baseline\n",
    "        # for obj in sample.special_token_dict.keys():\n",
    "        #     matched_list: list[RegexMatchResult] = regexMaster.find_spacial_token(obj)\n",
    "        #     if matched_list:\n",
    "        #         # print(obj, matched_list)\n",
    "        #         [sample.regex_set.add(m.match_regex) for m in matched_list]\n",
    "        #         # [total_used_regex.add(m.match_regex) for m in matched_list]\n",
    "        # print('------', sample.regex_set)\n",
    "        # break\n",
    "        samples.append(sample)\n",
    "    # del asg\n",
    "print(f'Exam: sample S1 matches {len(samples[0].regex_set)} of regex')\n",
    "print(f'Size of regex_pool: {len(regex_pool)}, size of total_used_regex: {len(regexMaster.used_regex_set)}')"
   ]
  },
  {
   "cell_type": "code",
   "execution_count": 5,
   "metadata": {},
   "outputs": [
    {
     "data": {
      "text/plain": [
       "set()"
      ]
     },
     "execution_count": 5,
     "metadata": {},
     "output_type": "execute_result"
    }
   ],
   "source": [
    "# 只差這四個不在 asg set_of_object 中 {'0x[0-9a-zA-Z]{8}', 'GID', 'UID', 'port \\\\d{1,5}$'}\n",
    "set(regex_pool) - samples[0].regex_set"
   ]
  },
  {
   "cell_type": "code",
   "execution_count": 6,
   "metadata": {},
   "outputs": [
    {
     "data": {
      "text/plain": [
       "' Save result to txt file 沒事不要 run ! '"
      ]
     },
     "execution_count": 6,
     "metadata": {},
     "output_type": "execute_result"
    }
   ],
   "source": [
    "''' Save result to txt file 沒事不要 run ! '''\n",
    "# total_regex = set()\n",
    "# with open('./result/countof_regexset.txt', 'w', encoding='utf-8') as opf:\n",
    "#     # header\n",
    "#     opf.write('{:12s}'.format('Sample no.'))\n",
    "#     for i in range(len(samples)):\n",
    "#         if i+1 < 10:\n",
    "#             opf.write(f' S{i+1} ')\n",
    "#         else:\n",
    "#             opf.write(f'S{i+1} ')\n",
    "#     opf.write('\\n')\n",
    "#     # opf.write('{:12s}'.format('# of regex'))\n",
    "#     num_of_regex_string = '{:12s}'.format('# of regex')\n",
    "#     num_of_objects_string = '{:12s}'.format('# of object ') # 所有的類別喔! 無過濾\n",
    "#     for i in range(len(samples)):\n",
    "#         # opf.write(f'{len(samples[i].regex_set):>3} ')\n",
    "#         num_of_regex_string += f'{len(samples[i].regex_set):>3} '\n",
    "#         num_of_objects_string += f'{len(samples[i].special_token_dict):>3} '\n",
    "#     opf.write(num_of_objects_string+'\\n')\n",
    "#     opf.write(num_of_regex_string)\n",
    "#     opf.write('\\n{:12s}'.format('Sample hash'))\n",
    "#     for i in range(len(samples)):\n",
    "#         opf.write(f'{samples[i].samplename[:3]:>3} ')\n",
    "#     opf.write('\\n\\n')\n",
    "#     opf.write(f'Size of regex_pool: {len(regex_pool)}, size of total_used_regex: {len(regexMaster.used_regex_set)}\\n\\n')\n",
    "\n",
    "#     # content of each sample\n",
    "#     for i,s in enumerate(samples):\n",
    "#         content_1 = f\"S{i+1} has {len(s.regex_set)} of regex\\n\"\n",
    "#         content_2 = f\"regex_set: {s.regex_set}\\n\"\n",
    "#         content_3 = f\"special_token_dict: {s.special_token_dict.keys()}\\n\"\n",
    "#         opf.writelines([content_1, content_2, content_3])\n",
    "#         opf.write('\\n\\n')"
   ]
  },
  {
   "cell_type": "markdown",
   "metadata": {},
   "source": [
    "### Load Reports"
   ]
  },
  {
   "cell_type": "code",
   "execution_count": 7,
   "metadata": {},
   "outputs": [
    {
     "data": {
      "text/plain": [
       "['Xorddos-Cdnetworks.csv',\n",
       " 'Xorddos-Crowdstrike.csv',\n",
       " 'Xorddos-Intezer.csv',\n",
       " 'Xorddos-Microsoft.csv',\n",
       " 'Xorddos-Trendmicro.csv',\n",
       " 'Xorddos-Trendmicro2.csv']"
      ]
     },
     "execution_count": 7,
     "metadata": {},
     "output_type": "execute_result"
    }
   ],
   "source": [
    "report_fir_path = '../../C parse report/sentence csvs/'\n",
    "# family, samplename, outputfolder = 'Xorddos', '???', './result'\n",
    "outputfolder = './result'\n",
    "\n",
    "def get_all_filenames(dir: str='./') -> list:\n",
    "    ''' traverse root directory, and list directories as dirs and files as files. Return filenames in rootdir. '''\n",
    "    files = [f for f in listdir(dir) if isfile(join(dir, f))]\n",
    "    files.sort()\n",
    "    return files\n",
    "\n",
    "xor_report_names = [f for f in get_all_filenames(report_fir_path) if f.startswith(family)] # 只選擇這個家族的報告\n",
    "xor_report_dfs = [pd.read_csv(f\"{report_fir_path}{f}\") for f in xor_report_names]\n",
    "xor_report_names"
   ]
  },
  {
   "cell_type": "code",
   "execution_count": 8,
   "metadata": {},
   "outputs": [
    {
     "data": {
      "text/html": [
       "<div>\n",
       "<style scoped>\n",
       "    .dataframe tbody tr th:only-of-type {\n",
       "        vertical-align: middle;\n",
       "    }\n",
       "\n",
       "    .dataframe tbody tr th {\n",
       "        vertical-align: top;\n",
       "    }\n",
       "\n",
       "    .dataframe thead th {\n",
       "        text-align: right;\n",
       "    }\n",
       "</style>\n",
       "<table border=\"1\" class=\"dataframe\">\n",
       "  <thead>\n",
       "    <tr style=\"text-align: right;\">\n",
       "      <th></th>\n",
       "      <th>Number</th>\n",
       "      <th>Content</th>\n",
       "    </tr>\n",
       "  </thead>\n",
       "  <tbody>\n",
       "    <tr>\n",
       "      <th>0</th>\n",
       "      <td>Sentence 1</td>\n",
       "      <td>understanding a xor.ddos attack\\n2月 17, 2021\\n...</td>\n",
       "    </tr>\n",
       "    <tr>\n",
       "      <th>1</th>\n",
       "      <td>Sentence 2</td>\n",
       "      <td>xor.ddos is the name of the malware, not the a...</td>\n",
       "    </tr>\n",
       "    <tr>\n",
       "      <th>2</th>\n",
       "      <td>Sentence 3</td>\n",
       "      <td>it was detected in september 2014 and the anal...</td>\n",
       "    </tr>\n",
       "    <tr>\n",
       "      <th>3</th>\n",
       "      <td>Sentence 4</td>\n",
       "      <td>is a distributed denial-of-service attack from...</td>\n",
       "    </tr>\n",
       "    <tr>\n",
       "      <th>4</th>\n",
       "      <td>Sentence 5</td>\n",
       "      <td>in many ways it is and in this guide, we will ...</td>\n",
       "    </tr>\n",
       "    <tr>\n",
       "      <th>5</th>\n",
       "      <td>Sentence 6</td>\n",
       "      <td>what is xor.ddos malware?</td>\n",
       "    </tr>\n",
       "    <tr>\n",
       "      <th>6</th>\n",
       "      <td>Sentence 7</td>\n",
       "      <td>the traditional attack utilized the existing v...</td>\n",
       "    </tr>\n",
       "    <tr>\n",
       "      <th>7</th>\n",
       "      <td>Sentence 8</td>\n",
       "      <td>however, xor.ddos makes windows pcs into zombi...</td>\n",
       "    </tr>\n",
       "    <tr>\n",
       "      <th>8</th>\n",
       "      <td>Sentence 9</td>\n",
       "      <td>the xor.ddos attack is used to defeat the netw...</td>\n",
       "    </tr>\n",
       "    <tr>\n",
       "      <th>9</th>\n",
       "      <td>Sentence 10</td>\n",
       "      <td>this is a very serious threat to the network b...</td>\n",
       "    </tr>\n",
       "    <tr>\n",
       "      <th>10</th>\n",
       "      <td>Sentence 11</td>\n",
       "      <td>in addition to these primary targets, the udp ...</td>\n",
       "    </tr>\n",
       "    <tr>\n",
       "      <th>11</th>\n",
       "      <td>Sentence 12</td>\n",
       "      <td>however, the xor.ddos attack uses the tcp, whi...</td>\n",
       "    </tr>\n",
       "    <tr>\n",
       "      <th>12</th>\n",
       "      <td>Sentence 13</td>\n",
       "      <td>a brute force attack tries many random passwor...</td>\n",
       "    </tr>\n",
       "    <tr>\n",
       "      <th>13</th>\n",
       "      <td>Sentence 14</td>\n",
       "      <td>there are various types of brute force attacks...</td>\n",
       "    </tr>\n",
       "    <tr>\n",
       "      <th>14</th>\n",
       "      <td>Sentence 15</td>\n",
       "      <td>origin of xor.ddos attacks\\n77.1 % of xor.ddos...</td>\n",
       "    </tr>\n",
       "    <tr>\n",
       "      <th>15</th>\n",
       "      <td>Sentence 16</td>\n",
       "      <td>many large-scale cloud service providers were ...</td>\n",
       "    </tr>\n",
       "    <tr>\n",
       "      <th>16</th>\n",
       "      <td>Sentence 17</td>\n",
       "      <td>in addition, as ssh services (22/tcp) are bein...</td>\n",
       "    </tr>\n",
       "    <tr>\n",
       "      <th>17</th>\n",
       "      <td>Sentence 18</td>\n",
       "      <td>countermeasures against xor.ddos attacks\\nthe ...</td>\n",
       "    </tr>\n",
       "    <tr>\n",
       "      <th>18</th>\n",
       "      <td>Sentence 19</td>\n",
       "      <td>syn is just a process to perform a 3-way hands...</td>\n",
       "    </tr>\n",
       "    <tr>\n",
       "      <th>19</th>\n",
       "      <td>Sentence 20</td>\n",
       "      <td>if syn packets with data are detected, the xor...</td>\n",
       "    </tr>\n",
       "    <tr>\n",
       "      <th>20</th>\n",
       "      <td>Sentence 21</td>\n",
       "      <td>in addition, it is good to use a syn cookie ag...</td>\n",
       "    </tr>\n",
       "    <tr>\n",
       "      <th>21</th>\n",
       "      <td>Sentence 22</td>\n",
       "      <td>the syn cookie blocks syn spoofing effectively...</td>\n",
       "    </tr>\n",
       "    <tr>\n",
       "      <th>22</th>\n",
       "      <td>Sentence 23</td>\n",
       "      <td>the syn cookie does not require a certain time...</td>\n",
       "    </tr>\n",
       "    <tr>\n",
       "      <th>23</th>\n",
       "      <td>Sentence 24</td>\n",
       "      <td>therefore, the syn cookie is a very effective ...</td>\n",
       "    </tr>\n",
       "    <tr>\n",
       "      <th>24</th>\n",
       "      <td>Sentence 25</td>\n",
       "      <td>alternatively, first syn drop can be a second ...</td>\n",
       "    </tr>\n",
       "    <tr>\n",
       "      <th>25</th>\n",
       "      <td>Sentence 26</td>\n",
       "      <td>this technique works by saving the first syn p...</td>\n",
       "    </tr>\n",
       "    <tr>\n",
       "      <th>26</th>\n",
       "      <td>Sentence 27</td>\n",
       "      <td>if the session request is normal, the same ip ...</td>\n",
       "    </tr>\n",
       "    <tr>\n",
       "      <th>27</th>\n",
       "      <td>Sentence 28</td>\n",
       "      <td>if the request is made for attack, another syn...</td>\n",
       "    </tr>\n",
       "    <tr>\n",
       "      <th>28</th>\n",
       "      <td>Sentence 29</td>\n",
       "      <td>conclusion – get a ddos mitigation service\\na ...</td>\n",
       "    </tr>\n",
       "    <tr>\n",
       "      <th>29</th>\n",
       "      <td>Sentence 30</td>\n",
       "      <td>the content delivery network industry can prov...</td>\n",
       "    </tr>\n",
       "    <tr>\n",
       "      <th>30</th>\n",
       "      <td>Sentence 31</td>\n",
       "      <td>as the services are cloud-based, the available...</td>\n",
       "    </tr>\n",
       "    <tr>\n",
       "      <th>31</th>\n",
       "      <td>Sentence 32</td>\n",
       "      <td>with these services, most companies will benef...</td>\n",
       "    </tr>\n",
       "  </tbody>\n",
       "</table>\n",
       "</div>"
      ],
      "text/plain": [
       "         Number                                            Content\n",
       "0    Sentence 1  understanding a xor.ddos attack\\n2月 17, 2021\\n...\n",
       "1    Sentence 2  xor.ddos is the name of the malware, not the a...\n",
       "2    Sentence 3  it was detected in september 2014 and the anal...\n",
       "3    Sentence 4  is a distributed denial-of-service attack from...\n",
       "4    Sentence 5  in many ways it is and in this guide, we will ...\n",
       "5    Sentence 6                          what is xor.ddos malware?\n",
       "6    Sentence 7  the traditional attack utilized the existing v...\n",
       "7    Sentence 8  however, xor.ddos makes windows pcs into zombi...\n",
       "8    Sentence 9  the xor.ddos attack is used to defeat the netw...\n",
       "9   Sentence 10  this is a very serious threat to the network b...\n",
       "10  Sentence 11  in addition to these primary targets, the udp ...\n",
       "11  Sentence 12  however, the xor.ddos attack uses the tcp, whi...\n",
       "12  Sentence 13  a brute force attack tries many random passwor...\n",
       "13  Sentence 14  there are various types of brute force attacks...\n",
       "14  Sentence 15  origin of xor.ddos attacks\\n77.1 % of xor.ddos...\n",
       "15  Sentence 16  many large-scale cloud service providers were ...\n",
       "16  Sentence 17  in addition, as ssh services (22/tcp) are bein...\n",
       "17  Sentence 18  countermeasures against xor.ddos attacks\\nthe ...\n",
       "18  Sentence 19  syn is just a process to perform a 3-way hands...\n",
       "19  Sentence 20  if syn packets with data are detected, the xor...\n",
       "20  Sentence 21  in addition, it is good to use a syn cookie ag...\n",
       "21  Sentence 22  the syn cookie blocks syn spoofing effectively...\n",
       "22  Sentence 23  the syn cookie does not require a certain time...\n",
       "23  Sentence 24  therefore, the syn cookie is a very effective ...\n",
       "24  Sentence 25  alternatively, first syn drop can be a second ...\n",
       "25  Sentence 26  this technique works by saving the first syn p...\n",
       "26  Sentence 27  if the session request is normal, the same ip ...\n",
       "27  Sentence 28  if the request is made for attack, another syn...\n",
       "28  Sentence 29  conclusion – get a ddos mitigation service\\na ...\n",
       "29  Sentence 30  the content delivery network industry can prov...\n",
       "30  Sentence 31  as the services are cloud-based, the available...\n",
       "31  Sentence 32  with these services, most companies will benef..."
      ]
     },
     "execution_count": 8,
     "metadata": {},
     "output_type": "execute_result"
    }
   ],
   "source": [
    "xor_report_dfs[0]"
   ]
  },
  {
   "cell_type": "markdown",
   "metadata": {},
   "source": [
    "### 單篇文章的 Class 和 整個 Family 的 Class\n",
    "`baseline: Dict[str, list]` 改為 `regexMaster: RegexMaster`"
   ]
  },
  {
   "cell_type": "code",
   "execution_count": 9,
   "metadata": {},
   "outputs": [],
   "source": [
    "class ReportEvalModel:\n",
    "    def __init__(self, regex_set: set, sentences: pd.DataFrame, reportname:str=''):\n",
    "        self.regex_pool: set[str] = regex_set # 樣本or家族含有的 regex 集合\n",
    "        self.sentences = sentences # a df\n",
    "        self.reportname = reportname\n",
    "        cols = list(regex_pool)\n",
    "        self.match_tbl = pd.DataFrame([[0]*len(cols)]*len(sentences), columns=cols)\n",
    "        self.match_word:dict[(int,str), str] = dict() # key(idx_sent,regex) value(word:str)\n",
    "        self.match_regex = set()\n",
    "        self.doc_OPset:set[OperationPair] = set() # Set of doc's OperationalPair\n",
    "        self.match_doc_OPset:set[OperationPair] = set()\n",
    "        self.OPset_order_index = [] # 紀錄 ASG OP 的出現順序 (lifecycle)\n",
    "        self.SysOPset_order_index = [] # 只紀錄改變系統的\n",
    "        # self.asgSysOPset_order_index = []\n",
    "        # self.regexMaster = regexMaster # 其實應該用 class function 就不用傳入一個物件\n",
    "        self.match()\n",
    "\n",
    "    def match(self) -> None:\n",
    "        '''find baseline in sentences of report. Fill matching result in self.match_tbl.'''\n",
    "        sentence_list = self.sentences['Content']\n",
    "        for idx_sent, sent in enumerate(sentence_list):\n",
    "            # print(idx_sent, sent)\n",
    "            # find regexs in a sentence\n",
    "            matched_list: list[RegexMatchResult] = RegexMaster.find_spacial_token_with_regex(self.regex_pool, sent)\n",
    "            if not matched_list:\n",
    "                continue\n",
    "            for m in matched_list:\n",
    "                this_re = m.match_regex\n",
    "                matched_word = m.word\n",
    "                self.match_word[(idx_sent,this_re)] = m.word # 紀錄被 search 到的單字\n",
    "                # self.match_tbl.loc[idx_sent,this_re] = 1 # mark as found 節省空間\n",
    "                self.match_regex.add(this_re)\n",
    "                en_verb = find_verb_of_vocab(sent, m.word)\n",
    "                # print(f\"---\\nen_verb: {en_verb}, m.word: {m.word}, sent: {sent}\") # 列印所有動詞抓取情形\n",
    "                stepn = len(self.doc_OPset) + 1\n",
    "                if en_verb:\n",
    "                    self.doc_OPset.add(OperationPair(en_verb, this_re, type=OperationPair.VERB, original_object=m.word, \n",
    "                    step_number=stepn, original_sentence=sent)) # has verb\n",
    "                else:\n",
    "                    self.doc_OPset.add(OperationPair(None, this_re, type=OperationPair.VERB, original_object=m.word, step_number=stepn)) # no verb\n",
    "        pass\n",
    "    \n",
    "    def get_match_sentences(self) -> pd.DataFrame:\n",
    "        result = self.match_tbl.copy()\n",
    "        result['match'] = result.sum(axis=1)\n",
    "        return result\n",
    "    \n",
    "    def get_match_regexs(self) -> set:\n",
    "        return self.match_regex\n",
    "\n",
    "    def get_match_word(self, idx_sent:int, regex:str) -> str:\n",
    "        return self.match_word[(idx_sent, regex)]\n",
    "\n",
    "class FamilySet:\n",
    "    '''一個 malware family report 集合'''\n",
    "    def __init__(self, familyname:str, regexMaster: RegexMaster, sample: Sample=None):\n",
    "        self.familyname = familyname\n",
    "        self.regexMaster = regexMaster\n",
    "        self.num_of_used_regex = len(regexMaster.used_regex_set) # 這個家族含規則的總數量 (unoin by all samples)\n",
    "        self.sample = None\n",
    "        if sample:\n",
    "            self.sample = sample\n",
    "            self.num_of_used_regex = len(sample.regex_set) # 改以這個樣本規則的總數量為基準\n",
    "        self.rem_lst: List[ReportEvalModel] = [] # list of ReportEvalModel under this family\n",
    "        self.result_tbl = None\n",
    "\n",
    "    def add_rem(self, sentences: pd.DataFrame, reportname: str=''):\n",
    "        '''新增 report 到 FamilySet 中，需傳入文本和報告名稱，會沿用 FamilySet 的 baseline.'''\n",
    "        if self.sample:\n",
    "            rem = ReportEvalModel(list(self.sample.regex_set), sentences, reportname) # 基準是 Sample\n",
    "            self.rem_lst.append(rem)\n",
    "            return\n",
    "        rem = ReportEvalModel(self.regexMaster, sentences, reportname) # 基準是 Family union # need fix -> no first arg now\n",
    "        self.rem_lst.append(rem)\n",
    "\n",
    "    def calc_report_coverage_score(self, match_regexs: list[str], apply_weight=False) -> float:\n",
    "        '''計算這篇報告的 coverage_score，未處理分母為0之情形'''\n",
    "        if not apply_weight:\n",
    "            return len(match_regexs) / self.num_of_used_regex # 無權種的算法，分母是家族 wide\n",
    "        ''' 以下 有權重的算法尚未修改，必出 bug '''\n",
    "        # denominator = sum(self.regexMaster['weight']) # 分母\n",
    "        # numerator = 0 # 分子\n",
    "        # for b, w in zip(self.regexMaster['text'], self.regexMaster['weight']):\n",
    "        #     if b in match_baselines:\n",
    "        #         numerator += w\n",
    "        # return numerator/denominator\n",
    "\n",
    "    def show_result(self, apply_weight: bool=False, base_on_sample = True):\n",
    "        '''print and return result table. baselinse(x) * report(y).'''\n",
    "        column_names = ['report_name','ttl_match','coverage_score']\n",
    "        if base_on_sample:\n",
    "            column_names.extend(list(self.sample.regex_set))\n",
    "        else:\n",
    "            column_names.extend(list(regexMaster.used_regex_set))\n",
    "        result_tbl = pd.DataFrame([[0]*len(column_names)]*len(self.rem_lst), columns=column_names)\n",
    "        for i,rem in enumerate(self.rem_lst):\n",
    "            match_regexes = rem.get_match_regexs() # 這篇報告含有哪些 baseine:set\n",
    "            c_score = self.calc_report_coverage_score(match_regexes, apply_weight=apply_weight)\n",
    "            result_tbl.loc[i,'report_name'] = rem.reportname\n",
    "            result_tbl.loc[i,'ttl_match'] = len(match_regexes)\n",
    "            result_tbl.loc[i,'coverage_score'] = f'{c_score:.4}'\n",
    "            for b in match_regexes:\n",
    "                result_tbl.loc[i,b] = 1\n",
    "            print(rem.reportname, match_regexes)\n",
    "        display(result_tbl)\n",
    "        return result_tbl"
   ]
  },
  {
   "attachments": {},
   "cell_type": "markdown",
   "metadata": {},
   "source": [
    "### Run Script: 存檔每篇報告的 matched sentence (以樣本的 regex set 為基準)\n",
    "比較樣本間的辨別度，有 n 個樣本，就會跑 n 變，得出 n 個結果 (FanilySet)"
   ]
  },
  {
   "cell_type": "code",
   "execution_count": 10,
   "metadata": {},
   "outputs": [],
   "source": [
    "import os, psutil\n",
    "def print_mem_usage():\n",
    "    process = psutil.Process(os.getpid())\n",
    "    mem_usage = psutil.Process(os.getpid()).memory_info().rss / 1024 ** 2\n",
    "    print(f\"=== mem_usage: {mem_usage:.2f} MB ===\")  # in MiB \n",
    "\n",
    "def get_mem_usage() -> int:\n",
    "    # process = psutil.Process(os.getpid())\n",
    "    mem_usage = psutil.Process(os.getpid()).memory_info().rss / 1024 ** 2\n",
    "    return mem_usage\n",
    "\n",
    "def run_family_set_procedure(sample: Sample) -> FamilySet:\n",
    "    # family, regexMaster is global variable\n",
    "    fset = FamilySet(family, regexMaster, sample=sample)\n",
    "    for i,rdf in enumerate(xor_report_dfs):\n",
    "        # rem = ReportEvalModel(base_data, rdf, dofloo_report_names[i])\n",
    "        fset.add_rem(rdf, xor_report_names[i])\n",
    "    # result_tbl = fset.show_result(apply_weight=False)\n",
    "    # result_tbl.to_csv(f'{outputfolder}/{family}_{sample.samplename[:3]}_FamilySet_by_Regex.csv', index=False)\n",
    "    # print(f\"Sample {sample.samplename[:3]} has ttl_match {result_tbl['ttl_match'].sum()} on all documents.\") \n",
    "\n",
    "    # Calculate metrics\n",
    "    print_mem_usage()\n",
    "    print(f\"asg_object: {set([op.object for op in sample.OPset])}\\n\")\n",
    "    fset.sample.OPset_sysOnly_ordered = [op for op in sample.OPset if op.object.find('/etc') != -1]\n",
    "    fset.sample.OPset_sysOnly_ordered_index = [sample.OPset_ordered.index(op) for op in fset.sample.OPset_sysOnly_ordered]\n",
    "    for idx_rem, rem in enumerate(fset.rem_lst):\n",
    "        # asg_object = set([op.object for op in sample.OPset])\n",
    "        # ctd_object = set([op.object for op in rem.doc_OPset])\n",
    "        if rem.reportname == 'Xorddos-Microsoft.csv': # 除錯用\n",
    "            continue\n",
    "        print(f\"\\nSample {rem.reportname}\")\n",
    "        print(f\"\\tlenght of ctd's OPset is {len(rem.doc_OPset)}\")\n",
    "\n",
    "        # R_malObj 比較物件\n",
    "        asg_object = set([op.object for op in sample.OPset])\n",
    "        ctd_object = set([op.object for op in rem.doc_OPset])\n",
    "        ctd_object = ctd_object.intersection(asg_object)\n",
    "        numerator = len(ctd_object) # 分子\n",
    "        denominator = len(asg_object) # 分母\n",
    "        R_malObj = 0 if denominator == 0 else numerator/denominator\n",
    "        print(f\"\\t#R_malObj\\n\\tnum of ctd objects: {numerator}, num of asg objects: {denominator}. R_malObj is {R_malObj:.4f}\")\n",
    "        print(f\"\\t\\tctd_object: {ctd_object}\")\n",
    "\n",
    "        # R_malSysObj 比較系統物件\n",
    "        asg_sysobj = list(filter(lambda object: object.find('/etc') != -1, asg_object))\n",
    "        ctd_sysobj = list(filter(lambda object: object.find('/etc') != -1, ctd_object))\n",
    "        numerator = len(ctd_sysobj)\n",
    "        denominator = len(asg_sysobj)\n",
    "        R_malSysObj = 0 if denominator == 0 else numerator/denominator\n",
    "        print(f\"\\t#R_malSysObj\\n\\tnum of ctd objects: {numerator}, num of asg objects: {denominator}. R_malSysObj is {R_malSysObj:.4f}\")\n",
    "\n",
    "        # R_malOps 比較動作和物件\n",
    "        asg_OPset = list(sample.OPset)\n",
    "        ctd_OPset = list(rem.doc_OPset)\n",
    "        operationEvaluator = OperationEvaluator()\n",
    "        numerator, denominator, hits = 0, len(asg_OPset), []\n",
    "        print(f\"\\tlen(asg_OPset): {len(asg_OPset)}, len(ctd_OPset): {len(ctd_OPset)}\")\n",
    "        # 每一個 asg_op 跟所有同物件的的 ctd_op 進行 resolve() 比對，來判斷此 asg_op 是否被提及\n",
    "        i = 0\n",
    "        for idx_asg, asg_op in enumerate(asg_OPset): \n",
    "            i += 1\n",
    "            # print(f\"\\tno.{i} asg_op {asg_op}\") # 瓶頸卡在 no.51 step (total 71 step)\n",
    "            target_obj = asg_op.object\n",
    "            ctdSameObjOpsIdx = [i for i, x in enumerate(ctd_OPset) if x.object == target_obj]\n",
    "            # if i==51:\n",
    "            # print(f\"\\tno.{i} | asg_op {asg_op}, len of ctdSameObjOpsIdx: {ctdSameObjOpsIdx}\")\n",
    "            # ctdSameObjOps = [x for x in ctd_OPset if x.object == target_obj]\n",
    "            for idx in ctdSameObjOpsIdx:\n",
    "                pass\n",
    "                # mem_before_create_lst = get_mem_usage()\n",
    "                # print(\"\\tbefore resolve\", mem_before_create_lst)\n",
    "                hit = operationEvaluator.resolve(asg_op.action, ctd_OPset[idx].action)\n",
    "                # # print_mem_usage()\n",
    "                # mem_after_create_lst = get_mem_usage()\n",
    "                # # print(f\"\\t=== diff of mem_usage calling resolve(): {mem_after_create_lst - mem_before_create_lst:.2f}  ===\")\n",
    "        \n",
    "                if hit:\n",
    "                    numerator += 1\n",
    "                    hits.append((asg_OPset[idx_asg], ctd_OPset[idx]))\n",
    "                    fset.rem_lst[idx_rem].match_doc_OPset.add(ctd_OPset[idx])\n",
    "\n",
    "                    # 紀錄CTD的生命週期 (ASG_OP提及順序)\n",
    "                    step_num = sample.OPset_ordered.index(asg_op) # index of step, throw ValueError if not found\n",
    "                    fset.rem_lst[idx_rem].OPset_order_index.append(step_num)\n",
    "                    break\n",
    "        R_malOps = 0 if denominator == 0 else numerator/denominator\n",
    "        print(f\"\\t#R_malOps\\n\\tnum of matched asg op: {numerator}, num of asg op: {denominator}. R_malOps is {R_malOps:.4f}\")\n",
    "        print(f\"\\t\\trefered lifecycle: {fset.rem_lst[idx_rem].OPset_order_index}\")\n",
    "\n",
    "        # 紀錄CTD的生命週期 (OP提及順序)\n",
    "        # fset.rem_lst[idx_rem].OPset_order_index.clear()\n",
    "        # for ctd_op in fset.rem_lst[idx_rem].match_doc_OPset:\n",
    "        #     step_num = sample.OPset_ordered.index(ctd_op) # index of step, throw ValueError if not found\n",
    "        #     fset.rem_lst[idx_rem].OPset_order_index.append(step_num)\n",
    "\n",
    "        # R_malChangeOps 篩選出系統物件的動作\n",
    "        sys_hits = [pair for pair in hits if pair[0].object.find('/etc') != -1]\n",
    "        numerator = len(sys_hits)\n",
    "        sys_asg_OPset = [op for op in asg_OPset if op.object.find('/etc') != -1]\n",
    "        # print('sys_asg_OPset is unique:', len(sample.OPset_ordered) == len(set(sample.OPset_ordered))) # 元速度重複沒錯，可能是 index() 的問題\n",
    "        print(f\"\\t\\tsys_asg_OPset: {sys_asg_OPset}\")\n",
    "        denominator = len(sys_asg_OPset)\n",
    "        R_malChangeOps = 0 if denominator == 0 else numerator/denominator\n",
    "        print(f\"\\t#R_malChangeOps\\n\\tnum of matched asg op: {numerator}, num of asg op: {denominator}. R_malChangeOps is {R_malChangeOps:.4f}\")\n",
    "\n",
    "        # 紀錄CTD的生命週期 (OP提及順序)\n",
    "        fset.rem_lst[idx_rem].SysOPset_order_index.clear()\n",
    "        for asg_op , ctd_op in sys_hits:\n",
    "            step_num = sample.OPset_ordered.index(asg_op) # step index , throw ValueError if not found\n",
    "            fset.rem_lst[idx_rem].SysOPset_order_index.append(step_num)\n",
    "        print(f\"\\t\\tref-sys lifecycle: {fset.rem_lst[idx_rem].SysOPset_order_index}\")\n",
    "\n",
    "        if hits:\n",
    "            print(\"\\n\\thits\")\n",
    "            for asg_op, ctd_op in hits:\n",
    "                print(f\"\\t{asg_op}, {ctd_op}\")\n",
    "        if sys_hits:\n",
    "            print(\"\\n\\tsys_hits\")\n",
    "            for asg_op, ctd_op in sys_hits:\n",
    "                print(f\"\\t{asg_op}, {ctd_op}\")\n",
    "\n",
    "        # print_mem_usage()\n",
    "        # del asg_OPset, ctd_OPset, hits, sys_hits\n",
    "\n",
    "    return fset"
   ]
  },
  {
   "cell_type": "code",
   "execution_count": 11,
   "metadata": {},
   "outputs": [],
   "source": [
    "def save_match_sent_to_excel(fset: FamilySet, sample_name=None):\n",
    "    columns = ['report','regex','matched word','sentence number','sentence']\n",
    "    if sample_name:\n",
    "        output_xlsx = f'{outputfolder}/{family}_{sample_name[:3]}_report_match_sent.csv'\n",
    "    else:\n",
    "        output_xlsx = f'{outputfolder}/{family}_union_report_match_sent.csv'\n",
    "    has_match = sum([len(rem.get_match_regexs()) for rem in fset.rem_lst])\n",
    "    if has_match == 0:\n",
    "        print('no matches in CTI reports') # with open 一定要寫入，若全空則直接不開檔\n",
    "        return\n",
    "    # with pd.ExcelWriter(output_xlsx, engine='openpyxl') as writer:\n",
    "    \n",
    "    # 遍歷報告，一個 rem: ReportEvalModel 代表一篇報告\n",
    "    csv_data = []\n",
    "    match_sentence_ttlcnt = 0\n",
    "    for rem in fset.rem_lst:\n",
    "        reportname = rem.reportname.split('.')[0]\n",
    "        if len(rem.get_match_regexs()) == 0: # 如果報告中無 regex 跳過不紀錄\n",
    "            continue\n",
    "        # sheet_data = [] # shape = columns_len * match_sent_len\n",
    "        sent_df = rem.get_match_sentences()\n",
    "        sent_content_lst = rem.sentences['Content'] # 報告中的每個句子\n",
    "        match_sentence_ttlcnt += sent_df['match'].sum()\n",
    "\n",
    "        # 遍歷每個含有 regex 的句子\n",
    "        for sid, row in sent_df.iterrows():\n",
    "            if row['match'] == 0:\n",
    "                continue\n",
    "            row.drop('match', inplace=True)\n",
    "            row = row[row > 0]\n",
    "            # print(row)\n",
    "            # 考量每個句子可能含有多個 regex，故需寫成多行\n",
    "            for i, v in row.items():\n",
    "                insert_data = dict().fromkeys(columns)\n",
    "                insert_data['report'] = reportname\n",
    "                insert_data['regex'] = i\n",
    "                insert_data['matched word'] = rem.get_match_word(sid, i)\n",
    "                insert_data['sentence number'] = sid + 1\n",
    "                insert_data['sentence'] = str(sent_content_lst[sid]).strip()\n",
    "                # sheet_data.append(insert_data)\n",
    "                csv_data.append(insert_data)\n",
    "    df = pd.DataFrame(csv_data)\n",
    "    # print(df)\n",
    "    df.to_csv(output_xlsx, index=False)\n",
    "\n",
    "            # 輸出 csv\n",
    "            \n",
    "            # 輸出 excel sheet\n",
    "            # print(rem.reportname,'has', len(sheet_data),'matches')\n",
    "            # output_sheet = pd.DataFrame(sheet_data)\n",
    "            # # output_sheet.style.set_properties(subset=['sentence'])\n",
    "            # styler = Styler(horizontal_alignment='left', vertical_alignment='top')\n",
    "            # sf = StyleFrame(output_sheet, styler)\n",
    "            # sf = sf.set_column_width(columns=['baseline'], width=20.0)\n",
    "            # sf = sf.set_column_width(columns=['sentence number'], width=15.0)\n",
    "            # sf = sf.set_column_width(columns=['sentence'], width=80.0)\n",
    "            # sf.to_excel(writer, sheet_name=rem.reportname, index=False) #.save()\n",
    "            # # output_sheet.to_excel(writer, sheet_name=rem.reportname, index=False)\n",
    "    return match_sentence_ttlcnt\n",
    "\n",
    "# 此行會執行並複寫 excel，執行完後要手動調整行距格式，小心使用\n"
   ]
  },
  {
   "cell_type": "code",
   "execution_count": 12,
   "metadata": {},
   "outputs": [
    {
     "name": "stdout",
     "output_type": "stream",
     "text": [
      "=== mem_usage: 212.64 MB ===\n",
      "asg_object: {'/boot/', 'bin/openrc', '/etc/cron', '^sed$', 'permission(\\\\s|:)[0-9]{1,4}', '/boot/[a-z]{10}', '/var/run/', '^systemctl$', '/selinux', '/etc/init.d/', '/proc/', '/run/', '/etc/sed', '/var/', '^pipe(\\\\$|\\\\.|$)', '[a-zA-z]:\\\\d{1,5}$', '/etc/rc', '\\\\d{1,3}\\\\.\\\\d{1,3}\\\\.\\\\d{1,3}\\\\.\\\\d{1,3}', '\\\\d{1,3}\\\\.\\\\d{1,3}\\\\.\\\\d{1,3}\\\\.\\\\d{1,3}:\\\\d{1,5}$', 'bin/sed', '/proc/rs_dev', '/perl/', 'bin/insserv', '^sh$', 'update-rc.d', '^chkconfig$'}\n",
      "\n",
      "\n",
      "Sample Xorddos-Cdnetworks.csv\n",
      "\tlenght of ctd's OPset is 0\n",
      "\t#R_malObj\n",
      "\tnum of ctd objects: 0, num of asg objects: 26. R_malObj is 0.0000\n",
      "\t\tctd_object: set()\n",
      "\t#R_malSysObj\n",
      "\tnum of ctd objects: 0, num of asg objects: 4. R_malSysObj is 0.0000\n",
      "\tlen(asg_OPset): 73, len(ctd_OPset): 0\n",
      "\t#R_malOps\n",
      "\tnum of matched asg op: 0, num of asg op: 73. R_malOps is 0.0000\n",
      "\t\trefered lifecycle: []\n",
      "\t\tsys_asg_OPset: [<OP act=lseek, obj=/etc/cron>, <OP act=fcntl, obj=/etc/sed>, <OP act=write, obj=/etc/init.d/>, <OP act=lstat, obj=/etc/rc>, <OP act=write, obj=/etc/cron>, <OP act=rm, obj=/etc/rc>, <OP act=write, obj=/etc/sed>, <OP act=fchown, obj=/etc/sed>, <OP act=rename, obj=/etc/cron>, <OP act=write, obj=/etc/rc>, <OP act=fchmod, obj=/etc/sed>, <OP act=open, obj=/etc/init.d/>, <OP act=lseek, obj=/etc/init.d/>, <OP act=fstat, obj=/etc/sed>, <OP act=open, obj=/etc/cron>]\n",
      "\t#R_malChangeOps\n",
      "\tnum of matched asg op: 0, num of asg op: 15. R_malChangeOps is 0.0000\n",
      "\t\tref-sys lifecycle: []\n",
      "\n",
      "Sample Xorddos-Crowdstrike.csv\n",
      "\tlenght of ctd's OPset is 0\n",
      "\t#R_malObj\n",
      "\tnum of ctd objects: 0, num of asg objects: 26. R_malObj is 0.0000\n",
      "\t\tctd_object: set()\n",
      "\t#R_malSysObj\n",
      "\tnum of ctd objects: 0, num of asg objects: 4. R_malSysObj is 0.0000\n",
      "\tlen(asg_OPset): 73, len(ctd_OPset): 0\n",
      "\t#R_malOps\n",
      "\tnum of matched asg op: 0, num of asg op: 73. R_malOps is 0.0000\n",
      "\t\trefered lifecycle: []\n",
      "\t\tsys_asg_OPset: [<OP act=lseek, obj=/etc/cron>, <OP act=fcntl, obj=/etc/sed>, <OP act=write, obj=/etc/init.d/>, <OP act=lstat, obj=/etc/rc>, <OP act=write, obj=/etc/cron>, <OP act=rm, obj=/etc/rc>, <OP act=write, obj=/etc/sed>, <OP act=fchown, obj=/etc/sed>, <OP act=rename, obj=/etc/cron>, <OP act=write, obj=/etc/rc>, <OP act=fchmod, obj=/etc/sed>, <OP act=open, obj=/etc/init.d/>, <OP act=lseek, obj=/etc/init.d/>, <OP act=fstat, obj=/etc/sed>, <OP act=open, obj=/etc/cron>]\n",
      "\t#R_malChangeOps\n",
      "\tnum of matched asg op: 0, num of asg op: 15. R_malChangeOps is 0.0000\n",
      "\t\tref-sys lifecycle: []\n",
      "\n",
      "Sample Xorddos-Intezer.csv\n",
      "\tlenght of ctd's OPset is 7\n",
      "\t#R_malObj\n",
      "\tnum of ctd objects: 4, num of asg objects: 26. R_malObj is 0.1538\n",
      "\t\tctd_object: {'\\\\d{1,3}\\\\.\\\\d{1,3}\\\\.\\\\d{1,3}\\\\.\\\\d{1,3}', '/etc/rc', '/etc/init.d/', '/proc/'}\n",
      "\t#R_malSysObj\n",
      "\tnum of ctd objects: 2, num of asg objects: 4. R_malSysObj is 0.5000\n",
      "\tlen(asg_OPset): 73, len(ctd_OPset): 7\n",
      "\t#R_malOps\n",
      "\tnum of matched asg op: 1, num of asg op: 73. R_malOps is 0.0137\n",
      "\t\trefered lifecycle: [18]\n",
      "\t\tsys_asg_OPset: [<OP act=lseek, obj=/etc/cron>, <OP act=fcntl, obj=/etc/sed>, <OP act=write, obj=/etc/init.d/>, <OP act=lstat, obj=/etc/rc>, <OP act=write, obj=/etc/cron>, <OP act=rm, obj=/etc/rc>, <OP act=write, obj=/etc/sed>, <OP act=fchown, obj=/etc/sed>, <OP act=rename, obj=/etc/cron>, <OP act=write, obj=/etc/rc>, <OP act=fchmod, obj=/etc/sed>, <OP act=open, obj=/etc/init.d/>, <OP act=lseek, obj=/etc/init.d/>, <OP act=fstat, obj=/etc/sed>, <OP act=open, obj=/etc/cron>]\n",
      "\t#R_malChangeOps\n",
      "\tnum of matched asg op: 0, num of asg op: 15. R_malChangeOps is 0.0000\n",
      "\t\tref-sys lifecycle: []\n",
      "\n",
      "\thits\n",
      "\t<OP act=open, obj=/proc/>, <OP act=extract, obj=/proc/>\n",
      "\n",
      "Sample Xorddos-Trendmicro.csv\n",
      "\tlenght of ctd's OPset is 6\n",
      "\t#R_malObj\n",
      "\tnum of ctd objects: 6, num of asg objects: 26. R_malObj is 0.2308\n",
      "\t\tctd_object: {'/etc/rc', '/run/', '/var/', '/var/run/', '[a-zA-z]:\\\\d{1,5}$', '/etc/cron'}\n",
      "\t#R_malSysObj\n",
      "\tnum of ctd objects: 2, num of asg objects: 4. R_malSysObj is 0.5000\n",
      "\tlen(asg_OPset): 73, len(ctd_OPset): 6\n",
      "\t#R_malOps\n",
      "\tnum of matched asg op: 11, num of asg op: 73. R_malOps is 0.1507\n",
      "\t\trefered lifecycle: [49, 17, 56, 2, 48, 57, 55, 32, 47, 69, 15]\n",
      "\t\tsys_asg_OPset: [<OP act=lseek, obj=/etc/cron>, <OP act=fcntl, obj=/etc/sed>, <OP act=write, obj=/etc/init.d/>, <OP act=lstat, obj=/etc/rc>, <OP act=write, obj=/etc/cron>, <OP act=rm, obj=/etc/rc>, <OP act=write, obj=/etc/sed>, <OP act=fchown, obj=/etc/sed>, <OP act=rename, obj=/etc/cron>, <OP act=write, obj=/etc/rc>, <OP act=fchmod, obj=/etc/sed>, <OP act=open, obj=/etc/init.d/>, <OP act=lseek, obj=/etc/init.d/>, <OP act=fstat, obj=/etc/sed>, <OP act=open, obj=/etc/cron>]\n",
      "\t#R_malChangeOps\n",
      "\tnum of matched asg op: 3, num of asg op: 15. R_malChangeOps is 0.2000\n",
      "\t\tref-sys lifecycle: [17, 47, 15]\n",
      "\n",
      "\thits\n",
      "\t<OP act=stat64, obj=/var/run/>, <OP act=read, obj=/var/run/>\n",
      "\t<OP act=write, obj=/etc/cron>, <OP act=drop, obj=/etc/cron>\n",
      "\t<OP act=lseek, obj=/var/run/>, <OP act=read, obj=/var/run/>\n",
      "\t<OP act=stat64, obj=/var/>, <OP act=read, obj=/var/>\n",
      "\t<OP act=stat64, obj=/run/>, <OP act=read, obj=/run/>\n",
      "\t<OP act=lseek, obj=/var/>, <OP act=read, obj=/var/>\n",
      "\t<OP act=lseek, obj=/run/>, <OP act=read, obj=/run/>\n",
      "\t<OP act=stat, obj=/run/>, <OP act=read, obj=/run/>\n",
      "\t<OP act=rename, obj=/etc/cron>, <OP act=drop, obj=/etc/cron>\n",
      "\t<OP act=newfstatat, obj=/run/>, <OP act=read, obj=/run/>\n",
      "\t<OP act=open, obj=/etc/cron>, <OP act=drop, obj=/etc/cron>\n",
      "\n",
      "\tsys_hits\n",
      "\t<OP act=write, obj=/etc/cron>, <OP act=drop, obj=/etc/cron>\n",
      "\t<OP act=rename, obj=/etc/cron>, <OP act=drop, obj=/etc/cron>\n",
      "\t<OP act=open, obj=/etc/cron>, <OP act=drop, obj=/etc/cron>\n",
      "\n",
      "Sample Xorddos-Trendmicro2.csv\n",
      "\tlenght of ctd's OPset is 2\n",
      "\t#R_malObj\n",
      "\tnum of ctd objects: 1, num of asg objects: 26. R_malObj is 0.0385\n",
      "\t\tctd_object: {'\\\\d{1,3}\\\\.\\\\d{1,3}\\\\.\\\\d{1,3}\\\\.\\\\d{1,3}'}\n",
      "\t#R_malSysObj\n",
      "\tnum of ctd objects: 0, num of asg objects: 4. R_malSysObj is 0.0000\n",
      "\tlen(asg_OPset): 73, len(ctd_OPset): 2\n",
      "\t#R_malOps\n",
      "\tnum of matched asg op: 2, num of asg op: 73. R_malOps is 0.0274\n",
      "\t\trefered lifecycle: [61, 63]\n",
      "\t\tsys_asg_OPset: [<OP act=lseek, obj=/etc/cron>, <OP act=fcntl, obj=/etc/sed>, <OP act=write, obj=/etc/init.d/>, <OP act=lstat, obj=/etc/rc>, <OP act=write, obj=/etc/cron>, <OP act=rm, obj=/etc/rc>, <OP act=write, obj=/etc/sed>, <OP act=fchown, obj=/etc/sed>, <OP act=rename, obj=/etc/cron>, <OP act=write, obj=/etc/rc>, <OP act=fchmod, obj=/etc/sed>, <OP act=open, obj=/etc/init.d/>, <OP act=lseek, obj=/etc/init.d/>, <OP act=fstat, obj=/etc/sed>, <OP act=open, obj=/etc/cron>]\n",
      "\t#R_malChangeOps\n",
      "\tnum of matched asg op: 0, num of asg op: 15. R_malChangeOps is 0.0000\n",
      "\t\tref-sys lifecycle: []\n",
      "\n",
      "\thits\n",
      "\t<OP act=send, obj=\\d{1,3}\\.\\d{1,3}\\.\\d{1,3}\\.\\d{1,3}>, <OP act=wget, obj=\\d{1,3}\\.\\d{1,3}\\.\\d{1,3}\\.\\d{1,3}>\n",
      "\t<OP act=_newselect, obj=\\d{1,3}\\.\\d{1,3}\\.\\d{1,3}\\.\\d{1,3}>, <OP act=find, obj=\\d{1,3}\\.\\d{1,3}\\.\\d{1,3}\\.\\d{1,3}>\n"
     ]
    }
   ],
   "source": [
    "for sample in samples:\n",
    "    # print(len(sample.OPset)) # 30\n",
    "    # print(len(sample.OPset_ordered)) # 30\n",
    "    # print(set(sample.OPset) - set(sample.OPset_ordered)) # 相減是空的set 都OK\n",
    "    fset = run_family_set_procedure(sample)\n",
    "    # match_sentence_ttlcnt = save_match_sent_to_excel(fset, sample.samplename)\n",
    "    # print(f'match_sentence_ttlcnt is {match_sentence_ttlcnt}\\n---\\n')"
   ]
  },
  {
   "attachments": {},
   "cell_type": "markdown",
   "metadata": {},
   "source": [
    "### Run Script: draw Lifecycle diagram\n",
    "- 兩個 traces (legend) 一般的 OP 和 ChangeSys OP。分兩個顏色，不重疊。\n",
    "- x: [a,a,a,a,b,b,b,c,c,c] 不同 report 的 step 可以放同一個 list，因為屬於同個 trace。"
   ]
  },
  {
   "cell_type": "code",
   "execution_count": 13,
   "metadata": {},
   "outputs": [
    {
     "name": "stdout",
     "output_type": "stream",
     "text": [
      "\n"
     ]
    },
    {
     "name": "stderr",
     "output_type": "stream",
     "text": [
      "c:\\Users\\luweb\\AppData\\Local\\Programs\\Python\\Python310\\lib\\site-packages\\plotly\\io\\_renderers.py:7: DeprecationWarning:\n",
      "\n",
      "The distutils package is deprecated and slated for removal in Python 3.12. Use setuptools or check PEP 632 for potential alternatives\n",
      "\n"
     ]
    },
    {
     "data": {
      "application/vnd.plotly.v1+json": {
       "config": {
        "plotlyServerURL": "https://plot.ly"
       },
       "data": [
        {
         "marker": {
          "color": "darkorange",
          "size": 12
         },
         "mode": "markers",
         "name": "Normal Operation Pair",
         "type": "scatter",
         "x": [
          18,
          49,
          56,
          2,
          48,
          57,
          55,
          32,
          69,
          61,
          63,
          0,
          1,
          2,
          3,
          4,
          5,
          6,
          7,
          8,
          9,
          10,
          11,
          18,
          19,
          22,
          23,
          24,
          25,
          26,
          27,
          28,
          29,
          30,
          32,
          33,
          34,
          35,
          36,
          37,
          38,
          39,
          40,
          41,
          48,
          49,
          50,
          51,
          52,
          53,
          54,
          55,
          56,
          57,
          58,
          59,
          60,
          61,
          62,
          63,
          64,
          65,
          66,
          67,
          68,
          69,
          70,
          71,
          72
         ],
         "y": [
          "Intezer (1)",
          "Trendmicro (11)",
          "Trendmicro (11)",
          "Trendmicro (11)",
          "Trendmicro (11)",
          "Trendmicro (11)",
          "Trendmicro (11)",
          "Trendmicro (11)",
          "Trendmicro (11)",
          "Trendmicro2 (2)",
          "Trendmicro2 (2)",
          "ASG (73)",
          "ASG (73)",
          "ASG (73)",
          "ASG (73)",
          "ASG (73)",
          "ASG (73)",
          "ASG (73)",
          "ASG (73)",
          "ASG (73)",
          "ASG (73)",
          "ASG (73)",
          "ASG (73)",
          "ASG (73)",
          "ASG (73)",
          "ASG (73)",
          "ASG (73)",
          "ASG (73)",
          "ASG (73)",
          "ASG (73)",
          "ASG (73)",
          "ASG (73)",
          "ASG (73)",
          "ASG (73)",
          "ASG (73)",
          "ASG (73)",
          "ASG (73)",
          "ASG (73)",
          "ASG (73)",
          "ASG (73)",
          "ASG (73)",
          "ASG (73)",
          "ASG (73)",
          "ASG (73)",
          "ASG (73)",
          "ASG (73)",
          "ASG (73)",
          "ASG (73)",
          "ASG (73)",
          "ASG (73)",
          "ASG (73)",
          "ASG (73)",
          "ASG (73)",
          "ASG (73)",
          "ASG (73)",
          "ASG (73)",
          "ASG (73)",
          "ASG (73)",
          "ASG (73)",
          "ASG (73)",
          "ASG (73)",
          "ASG (73)",
          "ASG (73)",
          "ASG (73)",
          "ASG (73)",
          "ASG (73)",
          "ASG (73)",
          "ASG (73)",
          "ASG (73)"
         ]
        },
        {
         "marker": {
          "color": "blue",
          "size": 12
         },
         "mode": "markers",
         "name": "System Operation Pair",
         "type": "scatter",
         "x": [
          17,
          47,
          15,
          16,
          42,
          14,
          31,
          17,
          20,
          44,
          45,
          47,
          21,
          46,
          12,
          13,
          43,
          15
         ],
         "y": [
          "Trendmicro (11)",
          "Trendmicro (11)",
          "Trendmicro (11)",
          "ASG (73)",
          "ASG (73)",
          "ASG (73)",
          "ASG (73)",
          "ASG (73)",
          "ASG (73)",
          "ASG (73)",
          "ASG (73)",
          "ASG (73)",
          "ASG (73)",
          "ASG (73)",
          "ASG (73)",
          "ASG (73)",
          "ASG (73)",
          "ASG (73)"
         ]
        }
       ],
       "layout": {
        "template": {
         "data": {
          "bar": [
           {
            "error_x": {
             "color": "#2a3f5f"
            },
            "error_y": {
             "color": "#2a3f5f"
            },
            "marker": {
             "line": {
              "color": "#E5ECF6",
              "width": 0.5
             },
             "pattern": {
              "fillmode": "overlay",
              "size": 10,
              "solidity": 0.2
             }
            },
            "type": "bar"
           }
          ],
          "barpolar": [
           {
            "marker": {
             "line": {
              "color": "#E5ECF6",
              "width": 0.5
             },
             "pattern": {
              "fillmode": "overlay",
              "size": 10,
              "solidity": 0.2
             }
            },
            "type": "barpolar"
           }
          ],
          "carpet": [
           {
            "aaxis": {
             "endlinecolor": "#2a3f5f",
             "gridcolor": "white",
             "linecolor": "white",
             "minorgridcolor": "white",
             "startlinecolor": "#2a3f5f"
            },
            "baxis": {
             "endlinecolor": "#2a3f5f",
             "gridcolor": "white",
             "linecolor": "white",
             "minorgridcolor": "white",
             "startlinecolor": "#2a3f5f"
            },
            "type": "carpet"
           }
          ],
          "choropleth": [
           {
            "colorbar": {
             "outlinewidth": 0,
             "ticks": ""
            },
            "type": "choropleth"
           }
          ],
          "contour": [
           {
            "colorbar": {
             "outlinewidth": 0,
             "ticks": ""
            },
            "colorscale": [
             [
              0,
              "#0d0887"
             ],
             [
              0.1111111111111111,
              "#46039f"
             ],
             [
              0.2222222222222222,
              "#7201a8"
             ],
             [
              0.3333333333333333,
              "#9c179e"
             ],
             [
              0.4444444444444444,
              "#bd3786"
             ],
             [
              0.5555555555555556,
              "#d8576b"
             ],
             [
              0.6666666666666666,
              "#ed7953"
             ],
             [
              0.7777777777777778,
              "#fb9f3a"
             ],
             [
              0.8888888888888888,
              "#fdca26"
             ],
             [
              1,
              "#f0f921"
             ]
            ],
            "type": "contour"
           }
          ],
          "contourcarpet": [
           {
            "colorbar": {
             "outlinewidth": 0,
             "ticks": ""
            },
            "type": "contourcarpet"
           }
          ],
          "heatmap": [
           {
            "colorbar": {
             "outlinewidth": 0,
             "ticks": ""
            },
            "colorscale": [
             [
              0,
              "#0d0887"
             ],
             [
              0.1111111111111111,
              "#46039f"
             ],
             [
              0.2222222222222222,
              "#7201a8"
             ],
             [
              0.3333333333333333,
              "#9c179e"
             ],
             [
              0.4444444444444444,
              "#bd3786"
             ],
             [
              0.5555555555555556,
              "#d8576b"
             ],
             [
              0.6666666666666666,
              "#ed7953"
             ],
             [
              0.7777777777777778,
              "#fb9f3a"
             ],
             [
              0.8888888888888888,
              "#fdca26"
             ],
             [
              1,
              "#f0f921"
             ]
            ],
            "type": "heatmap"
           }
          ],
          "heatmapgl": [
           {
            "colorbar": {
             "outlinewidth": 0,
             "ticks": ""
            },
            "colorscale": [
             [
              0,
              "#0d0887"
             ],
             [
              0.1111111111111111,
              "#46039f"
             ],
             [
              0.2222222222222222,
              "#7201a8"
             ],
             [
              0.3333333333333333,
              "#9c179e"
             ],
             [
              0.4444444444444444,
              "#bd3786"
             ],
             [
              0.5555555555555556,
              "#d8576b"
             ],
             [
              0.6666666666666666,
              "#ed7953"
             ],
             [
              0.7777777777777778,
              "#fb9f3a"
             ],
             [
              0.8888888888888888,
              "#fdca26"
             ],
             [
              1,
              "#f0f921"
             ]
            ],
            "type": "heatmapgl"
           }
          ],
          "histogram": [
           {
            "marker": {
             "pattern": {
              "fillmode": "overlay",
              "size": 10,
              "solidity": 0.2
             }
            },
            "type": "histogram"
           }
          ],
          "histogram2d": [
           {
            "colorbar": {
             "outlinewidth": 0,
             "ticks": ""
            },
            "colorscale": [
             [
              0,
              "#0d0887"
             ],
             [
              0.1111111111111111,
              "#46039f"
             ],
             [
              0.2222222222222222,
              "#7201a8"
             ],
             [
              0.3333333333333333,
              "#9c179e"
             ],
             [
              0.4444444444444444,
              "#bd3786"
             ],
             [
              0.5555555555555556,
              "#d8576b"
             ],
             [
              0.6666666666666666,
              "#ed7953"
             ],
             [
              0.7777777777777778,
              "#fb9f3a"
             ],
             [
              0.8888888888888888,
              "#fdca26"
             ],
             [
              1,
              "#f0f921"
             ]
            ],
            "type": "histogram2d"
           }
          ],
          "histogram2dcontour": [
           {
            "colorbar": {
             "outlinewidth": 0,
             "ticks": ""
            },
            "colorscale": [
             [
              0,
              "#0d0887"
             ],
             [
              0.1111111111111111,
              "#46039f"
             ],
             [
              0.2222222222222222,
              "#7201a8"
             ],
             [
              0.3333333333333333,
              "#9c179e"
             ],
             [
              0.4444444444444444,
              "#bd3786"
             ],
             [
              0.5555555555555556,
              "#d8576b"
             ],
             [
              0.6666666666666666,
              "#ed7953"
             ],
             [
              0.7777777777777778,
              "#fb9f3a"
             ],
             [
              0.8888888888888888,
              "#fdca26"
             ],
             [
              1,
              "#f0f921"
             ]
            ],
            "type": "histogram2dcontour"
           }
          ],
          "mesh3d": [
           {
            "colorbar": {
             "outlinewidth": 0,
             "ticks": ""
            },
            "type": "mesh3d"
           }
          ],
          "parcoords": [
           {
            "line": {
             "colorbar": {
              "outlinewidth": 0,
              "ticks": ""
             }
            },
            "type": "parcoords"
           }
          ],
          "pie": [
           {
            "automargin": true,
            "type": "pie"
           }
          ],
          "scatter": [
           {
            "fillpattern": {
             "fillmode": "overlay",
             "size": 10,
             "solidity": 0.2
            },
            "type": "scatter"
           }
          ],
          "scatter3d": [
           {
            "line": {
             "colorbar": {
              "outlinewidth": 0,
              "ticks": ""
             }
            },
            "marker": {
             "colorbar": {
              "outlinewidth": 0,
              "ticks": ""
             }
            },
            "type": "scatter3d"
           }
          ],
          "scattercarpet": [
           {
            "marker": {
             "colorbar": {
              "outlinewidth": 0,
              "ticks": ""
             }
            },
            "type": "scattercarpet"
           }
          ],
          "scattergeo": [
           {
            "marker": {
             "colorbar": {
              "outlinewidth": 0,
              "ticks": ""
             }
            },
            "type": "scattergeo"
           }
          ],
          "scattergl": [
           {
            "marker": {
             "colorbar": {
              "outlinewidth": 0,
              "ticks": ""
             }
            },
            "type": "scattergl"
           }
          ],
          "scattermapbox": [
           {
            "marker": {
             "colorbar": {
              "outlinewidth": 0,
              "ticks": ""
             }
            },
            "type": "scattermapbox"
           }
          ],
          "scatterpolar": [
           {
            "marker": {
             "colorbar": {
              "outlinewidth": 0,
              "ticks": ""
             }
            },
            "type": "scatterpolar"
           }
          ],
          "scatterpolargl": [
           {
            "marker": {
             "colorbar": {
              "outlinewidth": 0,
              "ticks": ""
             }
            },
            "type": "scatterpolargl"
           }
          ],
          "scatterternary": [
           {
            "marker": {
             "colorbar": {
              "outlinewidth": 0,
              "ticks": ""
             }
            },
            "type": "scatterternary"
           }
          ],
          "surface": [
           {
            "colorbar": {
             "outlinewidth": 0,
             "ticks": ""
            },
            "colorscale": [
             [
              0,
              "#0d0887"
             ],
             [
              0.1111111111111111,
              "#46039f"
             ],
             [
              0.2222222222222222,
              "#7201a8"
             ],
             [
              0.3333333333333333,
              "#9c179e"
             ],
             [
              0.4444444444444444,
              "#bd3786"
             ],
             [
              0.5555555555555556,
              "#d8576b"
             ],
             [
              0.6666666666666666,
              "#ed7953"
             ],
             [
              0.7777777777777778,
              "#fb9f3a"
             ],
             [
              0.8888888888888888,
              "#fdca26"
             ],
             [
              1,
              "#f0f921"
             ]
            ],
            "type": "surface"
           }
          ],
          "table": [
           {
            "cells": {
             "fill": {
              "color": "#EBF0F8"
             },
             "line": {
              "color": "white"
             }
            },
            "header": {
             "fill": {
              "color": "#C8D4E3"
             },
             "line": {
              "color": "white"
             }
            },
            "type": "table"
           }
          ]
         },
         "layout": {
          "annotationdefaults": {
           "arrowcolor": "#2a3f5f",
           "arrowhead": 0,
           "arrowwidth": 1
          },
          "autotypenumbers": "strict",
          "coloraxis": {
           "colorbar": {
            "outlinewidth": 0,
            "ticks": ""
           }
          },
          "colorscale": {
           "diverging": [
            [
             0,
             "#8e0152"
            ],
            [
             0.1,
             "#c51b7d"
            ],
            [
             0.2,
             "#de77ae"
            ],
            [
             0.3,
             "#f1b6da"
            ],
            [
             0.4,
             "#fde0ef"
            ],
            [
             0.5,
             "#f7f7f7"
            ],
            [
             0.6,
             "#e6f5d0"
            ],
            [
             0.7,
             "#b8e186"
            ],
            [
             0.8,
             "#7fbc41"
            ],
            [
             0.9,
             "#4d9221"
            ],
            [
             1,
             "#276419"
            ]
           ],
           "sequential": [
            [
             0,
             "#0d0887"
            ],
            [
             0.1111111111111111,
             "#46039f"
            ],
            [
             0.2222222222222222,
             "#7201a8"
            ],
            [
             0.3333333333333333,
             "#9c179e"
            ],
            [
             0.4444444444444444,
             "#bd3786"
            ],
            [
             0.5555555555555556,
             "#d8576b"
            ],
            [
             0.6666666666666666,
             "#ed7953"
            ],
            [
             0.7777777777777778,
             "#fb9f3a"
            ],
            [
             0.8888888888888888,
             "#fdca26"
            ],
            [
             1,
             "#f0f921"
            ]
           ],
           "sequentialminus": [
            [
             0,
             "#0d0887"
            ],
            [
             0.1111111111111111,
             "#46039f"
            ],
            [
             0.2222222222222222,
             "#7201a8"
            ],
            [
             0.3333333333333333,
             "#9c179e"
            ],
            [
             0.4444444444444444,
             "#bd3786"
            ],
            [
             0.5555555555555556,
             "#d8576b"
            ],
            [
             0.6666666666666666,
             "#ed7953"
            ],
            [
             0.7777777777777778,
             "#fb9f3a"
            ],
            [
             0.8888888888888888,
             "#fdca26"
            ],
            [
             1,
             "#f0f921"
            ]
           ]
          },
          "colorway": [
           "#636efa",
           "#EF553B",
           "#00cc96",
           "#ab63fa",
           "#FFA15A",
           "#19d3f3",
           "#FF6692",
           "#B6E880",
           "#FF97FF",
           "#FECB52"
          ],
          "font": {
           "color": "#2a3f5f"
          },
          "geo": {
           "bgcolor": "white",
           "lakecolor": "white",
           "landcolor": "#E5ECF6",
           "showlakes": true,
           "showland": true,
           "subunitcolor": "white"
          },
          "hoverlabel": {
           "align": "left"
          },
          "hovermode": "closest",
          "mapbox": {
           "style": "light"
          },
          "paper_bgcolor": "white",
          "plot_bgcolor": "#E5ECF6",
          "polar": {
           "angularaxis": {
            "gridcolor": "white",
            "linecolor": "white",
            "ticks": ""
           },
           "bgcolor": "#E5ECF6",
           "radialaxis": {
            "gridcolor": "white",
            "linecolor": "white",
            "ticks": ""
           }
          },
          "scene": {
           "xaxis": {
            "backgroundcolor": "#E5ECF6",
            "gridcolor": "white",
            "gridwidth": 2,
            "linecolor": "white",
            "showbackground": true,
            "ticks": "",
            "zerolinecolor": "white"
           },
           "yaxis": {
            "backgroundcolor": "#E5ECF6",
            "gridcolor": "white",
            "gridwidth": 2,
            "linecolor": "white",
            "showbackground": true,
            "ticks": "",
            "zerolinecolor": "white"
           },
           "zaxis": {
            "backgroundcolor": "#E5ECF6",
            "gridcolor": "white",
            "gridwidth": 2,
            "linecolor": "white",
            "showbackground": true,
            "ticks": "",
            "zerolinecolor": "white"
           }
          },
          "shapedefaults": {
           "line": {
            "color": "#2a3f5f"
           }
          },
          "ternary": {
           "aaxis": {
            "gridcolor": "white",
            "linecolor": "white",
            "ticks": ""
           },
           "baxis": {
            "gridcolor": "white",
            "linecolor": "white",
            "ticks": ""
           },
           "bgcolor": "#E5ECF6",
           "caxis": {
            "gridcolor": "white",
            "linecolor": "white",
            "ticks": ""
           }
          },
          "title": {
           "x": 0.05
          },
          "xaxis": {
           "automargin": true,
           "gridcolor": "white",
           "linecolor": "white",
           "ticks": "",
           "title": {
            "standoff": 15
           },
           "zerolinecolor": "white",
           "zerolinewidth": 2
          },
          "yaxis": {
           "automargin": true,
           "gridcolor": "white",
           "linecolor": "white",
           "ticks": "",
           "title": {
            "standoff": 15
           },
           "zerolinecolor": "white",
           "zerolinewidth": 2
          }
         }
        },
        "title": {
         "text": "Lifecycle Diagram of Attack Behavior in Document (Xorddos)"
        },
        "xaxis": {
         "title": {
          "text": "ASG Operation Pair (in steps)"
         }
        },
        "yaxis": {
         "title": {
          "text": "Malware Document"
         }
        }
       }
      }
     },
     "metadata": {},
     "output_type": "display_data"
    }
   ],
   "source": [
    "# import plotly.express as px\n",
    "import plotly.graph_objects as go\n",
    "\n",
    "def symmetric_difference(list1: list, list2: list) -> list:\n",
    "    ''' return list1 - list2. '''\n",
    "    s = set(list2)\n",
    "    temp3 = [x for x in list1 if x not in s]\n",
    "    return temp3\n",
    "\n",
    "def draw_lifecycle(fset:FamilySet):\n",
    "    familname = fset.familyname\n",
    "    # reportnames = [rem.reportname for rem in fset.rem_lst if len(rem.match_regex)]\n",
    "\n",
    "    fig = go.Figure()\n",
    "    x, y = [], []\n",
    "    x_sys, y_sys = [], []\n",
    "    for i, rem in enumerate(fset.rem_lst):\n",
    "        if len(rem.OPset_order_index) == 0:\n",
    "            continue\n",
    "\n",
    "        numOfDot = len(rem.OPset_order_index)\n",
    "        reportname = rem.reportname.split('.')[0]\n",
    "        reportname = reportname.split('-')[1]\n",
    "        reportname += f' ({numOfDot})'\n",
    "        x_sys.extend(rem.SysOPset_order_index) # 改變系統環境的 OP\n",
    "        y_sys.extend([reportname] * len(rem.SysOPset_order_index))\n",
    "        current_x_normal = symmetric_difference(rem.OPset_order_index, rem.SysOPset_order_index) # 一般的/其餘的 OP\n",
    "        # print(reportname, 'numOfDot', numOfDot, 'rem.OPset_order_index', rem.OPset_order_index)\n",
    "        # print('x_normal', current_x_normal, 'x_sys', rem.SysOPset_order_index)\n",
    "        x.extend(current_x_normal)\n",
    "        y.extend([reportname] * len(current_x_normal)) \n",
    "        pass\n",
    "    # todo: add baseline's lifecycle\n",
    "    print()\n",
    "    rowname = f'ASG ({len(fset.sample.OPset)})'\n",
    "    current_x_system = fset.sample.OPset_sysOnly_ordered_index\n",
    "    current_x_normal = symmetric_difference(list(range(len(fset.sample.OPset))), current_x_system) # all steps - sysobj steps\n",
    "    x_sys.extend(current_x_system)\n",
    "    y_sys.extend([rowname] * len(current_x_system)) \n",
    "    x.extend(current_x_normal)\n",
    "    y.extend([rowname] * len(current_x_normal))\n",
    "    # print(rowname, len(fset.sample.OPset), len(current_x_system), len(current_x_normal))\n",
    "    \n",
    "    # normal OPs\n",
    "    fig.add_trace(go.Scatter(\n",
    "        x=x,\n",
    "        y=y,\n",
    "        marker=dict(color=\"darkorange\", size=12),\n",
    "        mode=\"markers\",\n",
    "        name=\"Normal Operation Pair\",\n",
    "    ))\n",
    "\n",
    "    # changeSysObj OPs\n",
    "    fig.add_trace(go.Scatter(\n",
    "        x=x_sys,\n",
    "        y=y_sys,\n",
    "        marker=dict(color=\"blue\", size=12),\n",
    "        mode=\"markers\",\n",
    "        name=\"System Operation Pair\",\n",
    "    ))\n",
    "\n",
    "    fig.update_layout(title=f\"Lifecycle Diagram of Attack Behavior in Document ({familname})\",\n",
    "                    xaxis_title=\"ASG Operation Pair (in steps)\",\n",
    "                    yaxis_title=\"Malware Document\")\n",
    "    fig.show()\n",
    "    pass\n",
    "\n",
    "draw_lifecycle(fset)"
   ]
  },
  {
   "attachments": {},
   "cell_type": "markdown",
   "metadata": {},
   "source": [
    "### Run Script: draw ASG & CTD's OP graph\n",
    "- 完整的 ASG OPset graph\n",
    "- 每篇報告的 CTD OPset (完整和matched兩種)，以及對應部分的 ASG。"
   ]
  },
  {
   "cell_type": "code",
   "execution_count": 14,
   "metadata": {},
   "outputs": [
    {
     "data": {
      "text/plain": [
       "['b', 'c', 'd']"
      ]
     },
     "execution_count": 14,
     "metadata": {},
     "output_type": "execute_result"
    }
   ],
   "source": [
    "a = [1,2,3]\n",
    "b = ['a','b','c','d','e']\n",
    "[b[i] for i in a]"
   ]
  },
  {
   "cell_type": "code",
   "execution_count": 15,
   "metadata": {},
   "outputs": [
    {
     "data": {
      "image/svg+xml": "<?xml version=\"1.0\" encoding=\"UTF-8\" standalone=\"no\"?>\n<!DOCTYPE svg PUBLIC \"-//W3C//DTD SVG 1.1//EN\"\n \"http://www.w3.org/Graphics/SVG/1.1/DTD/svg11.dtd\">\n<!-- Generated by graphviz version 6.0.1 (20220911.1526)\n -->\n<!-- Title: Xorddos_asg_OPset Pages: 1 -->\n<svg width=\"5309pt\" height=\"291pt\"\n viewBox=\"0.00 0.00 5308.68 291.00\" xmlns=\"http://www.w3.org/2000/svg\" xmlns:xlink=\"http://www.w3.org/1999/xlink\">\n<g id=\"graph0\" class=\"graph\" transform=\"scale(1 1) rotate(0) translate(4 287)\">\n<title>Xorddos_asg_OPset</title>\n<polygon fill=\"white\" stroke=\"none\" points=\"-4,4 -4,-287 5304.68,-287 5304.68,4 -4,4\"/>\n<!-- Start -->\n<g id=\"node1\" class=\"node\">\n<title>Start</title>\n<ellipse fill=\"none\" stroke=\"black\" cx=\"2613.84\" cy=\"-265\" rx=\"77.19\" ry=\"18\"/>\n<text text-anchor=\"middle\" x=\"2613.84\" y=\"-261.3\" font-family=\"Times New Roman,serif\" font-size=\"14.00\">Malware (Subject)</text>\n</g>\n<!-- 1 -->\n<g id=\"node2\" class=\"node\">\n<title>1</title>\n<ellipse fill=\"none\" stroke=\"black\" cx=\"148.84\" cy=\"-178\" rx=\"148.67\" ry=\"18\"/>\n<text text-anchor=\"middle\" x=\"148.84\" y=\"-174.3\" font-family=\"Times New Roman,serif\" font-size=\"14.00\">d{1,3}.d{1,3}.d{1,3}.d{1,3}:d{1,5}$</text>\n</g>\n<!-- Start&#45;&gt;1 -->\n<g id=\"edge1\" class=\"edge\">\n<title>Start&#45;&gt;1</title>\n<path fill=\"none\" stroke=\"black\" d=\"M2536.37,-263.68C2110.28,-261.82 70.25,-251.72 47.84,-229 34.37,-215.35 46.01,-204.82 65.52,-197.03\"/>\n<polygon fill=\"black\" stroke=\"black\" points=\"66.74,-200.31 74.97,-193.64 64.37,-193.72 66.74,-200.31\"/>\n<text text-anchor=\"middle\" x=\"87.34\" y=\"-217.8\" font-family=\"Times New Roman,serif\" font-size=\"14.00\">65._newselect</text>\n</g>\n<!-- Start&#45;&gt;1 -->\n<g id=\"edge2\" class=\"edge\">\n<title>Start&#45;&gt;1</title>\n<path fill=\"none\" stroke=\"black\" d=\"M2536.42,-263.63C2120.74,-261.53 171.52,-250.56 149.84,-229 143.88,-223.08 142.28,-214.5 142.6,-206.11\"/>\n<polygon fill=\"black\" stroke=\"black\" points=\"146.08,-206.51 143.77,-196.17 139.13,-205.69 146.08,-206.51\"/>\n<text text-anchor=\"middle\" x=\"180.84\" y=\"-217.8\" font-family=\"Times New Roman,serif\" font-size=\"14.00\">67.connect</text>\n</g>\n<!-- Start&#45;&gt;1 -->\n<g id=\"edge3\" class=\"edge\">\n<title>Start&#45;&gt;1</title>\n<path fill=\"none\" stroke=\"black\" d=\"M2536.65,-263.82C2141.83,-262.8 362.29,-256.67 248.84,-229 236.41,-225.97 210.26,-212.8 187.82,-200.74\"/>\n<polygon fill=\"black\" stroke=\"black\" points=\"189.26,-197.54 178.8,-195.84 185.92,-203.69 189.26,-197.54\"/>\n<text text-anchor=\"middle\" x=\"270.84\" y=\"-217.8\" font-family=\"Times New Roman,serif\" font-size=\"14.00\">63.send</text>\n</g>\n<!-- 2 -->\n<g id=\"node3\" class=\"node\">\n<title>2</title>\n<ellipse fill=\"none\" stroke=\"black\" cx=\"403.84\" cy=\"-178\" rx=\"42.79\" ry=\"18\"/>\n<text text-anchor=\"middle\" x=\"403.84\" y=\"-174.3\" font-family=\"Times New Roman,serif\" font-size=\"14.00\">/etc/cron</text>\n</g>\n<!-- Start&#45;&gt;2 -->\n<g id=\"edge4\" class=\"edge\">\n<title>Start&#45;&gt;2</title>\n<path fill=\"none\" stroke=\"black\" d=\"M2536.65,-263.56C2137.15,-261.2 321.89,-249.36 301.84,-229 281.28,-208.13 318.92,-194.65 354.14,-187\"/>\n<polygon fill=\"black\" stroke=\"black\" points=\"354.86,-190.43 363.96,-185 353.46,-183.57 354.86,-190.43\"/>\n<text text-anchor=\"middle\" x=\"324.84\" y=\"-217.8\" font-family=\"Times New Roman,serif\" font-size=\"14.00\">17.lseek</text>\n</g>\n<!-- Start&#45;&gt;2 -->\n<g id=\"edge5\" class=\"edge\">\n<title>Start&#45;&gt;2</title>\n<path fill=\"none\" stroke=\"black\" d=\"M2536.47,-264.27C2146.09,-265.44 409.63,-268.41 370.84,-229 362.72,-220.75 367.89,-210.23 376.33,-200.97\"/>\n<polygon fill=\"black\" stroke=\"black\" points=\"378.89,-203.36 383.61,-193.88 374.01,-198.35 378.89,-203.36\"/>\n<text text-anchor=\"middle\" x=\"393.34\" y=\"-217.8\" font-family=\"Times New Roman,serif\" font-size=\"14.00\">18.write</text>\n</g>\n<!-- Start&#45;&gt;2 -->\n<g id=\"edge6\" class=\"edge\">\n<title>Start&#45;&gt;2</title>\n<path fill=\"none\" stroke=\"black\" d=\"M2536.68,-263.72C2155.09,-262.19 486.09,-254.09 438.84,-229 429.01,-223.78 421.36,-214.43 415.75,-205.22\"/>\n<polygon fill=\"black\" stroke=\"black\" points=\"418.69,-203.3 410.81,-196.21 412.55,-206.66 418.69,-203.3\"/>\n<text text-anchor=\"middle\" x=\"467.84\" y=\"-217.8\" font-family=\"Times New Roman,serif\" font-size=\"14.00\">48.rename</text>\n</g>\n<!-- Start&#45;&gt;2 -->\n<g id=\"edge7\" class=\"edge\">\n<title>Start&#45;&gt;2</title>\n<path fill=\"none\" stroke=\"black\" d=\"M2536.46,-263.54C2171.03,-261.24 631.48,-250.33 531.84,-229 515.29,-225.46 512.54,-220.32 496.84,-214 480,-207.23 461.31,-200.11 445.12,-194.08\"/>\n<polygon fill=\"black\" stroke=\"black\" points=\"445.99,-190.67 435.4,-190.48 443.56,-197.24 445.99,-190.67\"/>\n<text text-anchor=\"middle\" x=\"554.84\" y=\"-217.8\" font-family=\"Times New Roman,serif\" font-size=\"14.00\">16.open</text>\n</g>\n<!-- 3 -->\n<g id=\"node4\" class=\"node\">\n<title>3</title>\n<ellipse fill=\"none\" stroke=\"black\" cx=\"721.84\" cy=\"-178\" rx=\"38.99\" ry=\"18\"/>\n<text text-anchor=\"middle\" x=\"721.84\" y=\"-174.3\" font-family=\"Times New Roman,serif\" font-size=\"14.00\">/etc/sed</text>\n</g>\n<!-- Start&#45;&gt;3 -->\n<g id=\"edge8\" class=\"edge\">\n<title>Start&#45;&gt;3</title>\n<path fill=\"none\" stroke=\"black\" d=\"M2536.54,-264.13C2170.05,-264.58 623.59,-264.36 588.84,-229 560.18,-199.85 624.35,-187.48 673.18,-182.39\"/>\n<polygon fill=\"black\" stroke=\"black\" points=\"673.71,-185.86 683.33,-181.41 673.04,-178.89 673.71,-185.86\"/>\n<text text-anchor=\"middle\" x=\"610.34\" y=\"-217.8\" font-family=\"Times New Roman,serif\" font-size=\"14.00\">43.fcntl</text>\n</g>\n<!-- Start&#45;&gt;3 -->\n<g id=\"edge9\" class=\"edge\">\n<title>Start&#45;&gt;3</title>\n<path fill=\"none\" stroke=\"black\" d=\"M2536.39,-264.09C2177.06,-264.3 688.37,-263.13 654.84,-229 641.28,-215.2 660,-202.22 681.06,-192.94\"/>\n<polygon fill=\"black\" stroke=\"black\" points=\"682.55,-196.11 690.47,-189.08 679.89,-189.64 682.55,-196.11\"/>\n<text text-anchor=\"middle\" x=\"677.34\" y=\"-217.8\" font-family=\"Times New Roman,serif\" font-size=\"14.00\">45.write</text>\n</g>\n<!-- Start&#45;&gt;3 -->\n<g id=\"edge10\" class=\"edge\">\n<title>Start&#45;&gt;3</title>\n<path fill=\"none\" stroke=\"black\" d=\"M2536.47,-264.02C2185.13,-263.93 755.44,-261.55 722.84,-229 716.9,-223.07 715.3,-214.49 715.61,-206.1\"/>\n<polygon fill=\"black\" stroke=\"black\" points=\"719.09,-206.5 716.78,-196.16 712.14,-205.68 719.09,-206.5\"/>\n<text text-anchor=\"middle\" x=\"752.84\" y=\"-217.8\" font-family=\"Times New Roman,serif\" font-size=\"14.00\">46.fchown</text>\n</g>\n<!-- Start&#45;&gt;3 -->\n<g id=\"edge11\" class=\"edge\">\n<title>Start&#45;&gt;3</title>\n<path fill=\"none\" stroke=\"black\" d=\"M2536.47,-263.69C2201.52,-262.21 889.55,-254.77 805.84,-229 794.17,-225.41 793.24,-220.37 782.84,-214 773.78,-208.45 763.83,-202.63 754.65,-197.37\"/>\n<polygon fill=\"black\" stroke=\"black\" points=\"756.2,-194.22 745.78,-192.32 752.73,-200.31 756.2,-194.22\"/>\n<text text-anchor=\"middle\" x=\"836.34\" y=\"-217.8\" font-family=\"Times New Roman,serif\" font-size=\"14.00\">47.fchmod</text>\n</g>\n<!-- Start&#45;&gt;3 -->\n<g id=\"edge12\" class=\"edge\">\n<title>Start&#45;&gt;3</title>\n<path fill=\"none\" stroke=\"black\" d=\"M2536.44,-264.11C2223.86,-264.34 1063.6,-262.87 902.84,-229 885.88,-225.43 883.31,-219.38 866.84,-214 833.92,-203.24 795.82,-194.17 766.94,-187.96\"/>\n<polygon fill=\"black\" stroke=\"black\" points=\"767.64,-184.53 757.13,-185.89 766.19,-191.38 767.64,-184.53\"/>\n<text text-anchor=\"middle\" x=\"923.84\" y=\"-217.8\" font-family=\"Times New Roman,serif\" font-size=\"14.00\">44.fstat</text>\n</g>\n<!-- 4 -->\n<g id=\"node5\" class=\"node\">\n<title>4</title>\n<ellipse fill=\"none\" stroke=\"black\" cx=\"1062.84\" cy=\"-178\" rx=\"40.89\" ry=\"18\"/>\n<text text-anchor=\"middle\" x=\"1062.84\" y=\"-174.3\" font-family=\"Times New Roman,serif\" font-size=\"14.00\">/var/run/</text>\n</g>\n<!-- Start&#45;&gt;4 -->\n<g id=\"edge13\" class=\"edge\">\n<title>Start&#45;&gt;4</title>\n<path fill=\"none\" stroke=\"black\" d=\"M2536.4,-263.83C2212.62,-262.92 982.83,-257.59 954.84,-229 932.68,-206.37 975.79,-192.91 1013.94,-185.76\"/>\n<polygon fill=\"black\" stroke=\"black\" points=\"1014.76,-189.17 1024,-183.99 1013.54,-182.27 1014.76,-189.17\"/>\n<text text-anchor=\"middle\" x=\"980.34\" y=\"-217.8\" font-family=\"Times New Roman,serif\" font-size=\"14.00\">50.stat64</text>\n</g>\n<!-- Start&#45;&gt;4 -->\n<g id=\"edge14\" class=\"edge\">\n<title>Start&#45;&gt;4</title>\n<path fill=\"none\" stroke=\"black\" d=\"M2536.42,-263.75C2221.94,-262.54 1055.47,-256.23 1028.84,-229 1020.67,-220.65 1026.02,-210.11 1034.69,-200.87\"/>\n<polygon fill=\"black\" stroke=\"black\" points=\"1037.3,-203.22 1042.15,-193.8 1032.49,-198.14 1037.3,-203.22\"/>\n<text text-anchor=\"middle\" x=\"1051.84\" y=\"-217.8\" font-family=\"Times New Roman,serif\" font-size=\"14.00\">52.open</text>\n</g>\n<!-- Start&#45;&gt;4 -->\n<g id=\"edge15\" class=\"edge\">\n<title>Start&#45;&gt;4</title>\n<path fill=\"none\" stroke=\"black\" d=\"M2536.37,-264.15C2236,-264.46 1161.68,-263.18 1097.84,-229 1088.03,-223.75 1080.38,-214.39 1074.77,-205.18\"/>\n<polygon fill=\"black\" stroke=\"black\" points=\"1077.71,-203.27 1069.83,-196.18 1071.57,-206.63 1077.71,-203.27\"/>\n<text text-anchor=\"middle\" x=\"1120.84\" y=\"-217.8\" font-family=\"Times New Roman,serif\" font-size=\"14.00\">57.lseek</text>\n</g>\n<!-- Start&#45;&gt;4 -->\n<g id=\"edge16\" class=\"edge\">\n<title>Start&#45;&gt;4</title>\n<path fill=\"none\" stroke=\"black\" d=\"M2536.6,-263.87C2257.45,-263.18 1310.4,-258.63 1177.84,-229 1161.72,-225.4 1158.97,-220.61 1143.84,-214 1129.72,-207.83 1114.19,-201.11 1100.54,-195.22\"/>\n<polygon fill=\"black\" stroke=\"black\" points=\"1101.54,-191.84 1090.97,-191.1 1098.77,-198.27 1101.54,-191.84\"/>\n<text text-anchor=\"middle\" x=\"1200.34\" y=\"-217.8\" font-family=\"Times New Roman,serif\" font-size=\"14.00\">60.write</text>\n</g>\n<!-- 5 -->\n<g id=\"node6\" class=\"node\">\n<title>5</title>\n<ellipse fill=\"none\" stroke=\"black\" cx=\"1393.84\" cy=\"-178\" rx=\"66.89\" ry=\"18\"/>\n<text text-anchor=\"middle\" x=\"1393.84\" y=\"-174.3\" font-family=\"Times New Roman,serif\" font-size=\"14.00\">/boot/[a&#45;z]{10}</text>\n</g>\n<!-- Start&#45;&gt;5 -->\n<g id=\"edge17\" class=\"edge\">\n<title>Start&#45;&gt;5</title>\n<path fill=\"none\" stroke=\"black\" d=\"M2536.69,-263.49C2249.51,-261.39 1257.71,-252.46 1234.84,-229 1204.79,-198.18 1263.34,-186.3 1317.67,-181.75\"/>\n<polygon fill=\"black\" stroke=\"black\" points=\"1318.04,-185.23 1327.74,-180.98 1317.51,-178.25 1318.04,-185.23\"/>\n<text text-anchor=\"middle\" x=\"1253.84\" y=\"-217.8\" font-family=\"Times New Roman,serif\" font-size=\"14.00\">9.write</text>\n</g>\n<!-- Start&#45;&gt;5 -->\n<g id=\"edge18\" class=\"edge\">\n<title>Start&#45;&gt;5</title>\n<path fill=\"none\" stroke=\"black\" d=\"M2536.78,-263.39C2258.06,-261.01 1317.6,-251.34 1295.84,-229 1279.21,-211.92 1302.08,-199.62 1329.89,-191.48\"/>\n<polygon fill=\"black\" stroke=\"black\" points=\"1331.14,-194.77 1339.87,-188.78 1329.31,-188.01 1331.14,-194.77\"/>\n<text text-anchor=\"middle\" x=\"1319.84\" y=\"-217.8\" font-family=\"Times New Roman,serif\" font-size=\"14.00\">11.clone</text>\n</g>\n<!-- Start&#45;&gt;5 -->\n<g id=\"edge19\" class=\"edge\">\n<title>Start&#45;&gt;5</title>\n<path fill=\"none\" stroke=\"black\" d=\"M2536.79,-263.27C2268.06,-260.55 1387.3,-250.05 1366.84,-229 1359.68,-221.64 1362.81,-211.99 1369.04,-203.14\"/>\n<polygon fill=\"black\" stroke=\"black\" points=\"1371.81,-205.28 1375.44,-195.32 1366.4,-200.84 1371.81,-205.28\"/>\n<text text-anchor=\"middle\" x=\"1383.34\" y=\"-217.8\" font-family=\"Times New Roman,serif\" font-size=\"14.00\">26.rm</text>\n</g>\n<!-- Start&#45;&gt;5 -->\n<g id=\"edge20\" class=\"edge\">\n<title>Start&#45;&gt;5</title>\n<path fill=\"none\" stroke=\"black\" d=\"M2536.55,-263.79C2280.07,-262.81 1470.65,-257.49 1422.84,-229 1413.88,-223.66 1407.42,-214.42 1402.9,-205.32\"/>\n<polygon fill=\"black\" stroke=\"black\" points=\"1406.07,-203.84 1398.87,-196.07 1399.65,-206.63 1406.07,-203.84\"/>\n<text text-anchor=\"middle\" x=\"1448.34\" y=\"-217.8\" font-family=\"Times New Roman,serif\" font-size=\"14.00\">55.stat64</text>\n</g>\n<!-- Start&#45;&gt;5 -->\n<g id=\"edge21\" class=\"edge\">\n<title>Start&#45;&gt;5</title>\n<path fill=\"none\" stroke=\"black\" d=\"M2536.56,-263.99C2299.9,-263.62 1595.16,-259.91 1496.84,-229 1485.19,-225.34 1484.58,-219.8 1473.84,-214 1462.89,-208.09 1450.75,-202.37 1439.3,-197.34\"/>\n<polygon fill=\"black\" stroke=\"black\" points=\"1440.45,-194.02 1429.88,-193.27 1437.68,-200.45 1440.45,-194.02\"/>\n<text text-anchor=\"middle\" x=\"1516.34\" y=\"-217.8\" font-family=\"Times New Roman,serif\" font-size=\"14.00\">5.open</text>\n</g>\n<!-- Start&#45;&gt;5 -->\n<g id=\"edge22\" class=\"edge\">\n<title>Start&#45;&gt;5</title>\n<path fill=\"none\" stroke=\"black\" d=\"M2536.98,-262.93C2312.38,-259.58 1667.09,-248.37 1573.84,-229 1556.06,-225.31 1553.13,-219.52 1535.84,-214 1509.46,-205.59 1479.8,-197.99 1454.43,-192.04\"/>\n<polygon fill=\"black\" stroke=\"black\" points=\"1455.1,-188.61 1444.57,-189.76 1453.53,-195.43 1455.1,-188.61\"/>\n<text text-anchor=\"middle\" x=\"1593.34\" y=\"-217.8\" font-family=\"Times New Roman,serif\" font-size=\"14.00\">7.lseek</text>\n</g>\n<!-- 6 -->\n<g id=\"node7\" class=\"node\">\n<title>6</title>\n<ellipse fill=\"none\" stroke=\"black\" cx=\"1687.84\" cy=\"-178\" rx=\"46.59\" ry=\"18\"/>\n<text text-anchor=\"middle\" x=\"1687.84\" y=\"-174.3\" font-family=\"Times New Roman,serif\" font-size=\"14.00\">/etc/init.d/</text>\n</g>\n<!-- Start&#45;&gt;6 -->\n<g id=\"edge23\" class=\"edge\">\n<title>Start&#45;&gt;6</title>\n<path fill=\"none\" stroke=\"black\" d=\"M2536.32,-264.17C2308.08,-264.29 1652.47,-261.77 1620.84,-229 1608.07,-215.78 1624.32,-203.41 1644.01,-194.28\"/>\n<polygon fill=\"black\" stroke=\"black\" points=\"1645.4,-197.49 1653.2,-190.32 1642.64,-191.06 1645.4,-197.49\"/>\n<text text-anchor=\"middle\" x=\"1643.34\" y=\"-217.8\" font-family=\"Times New Roman,serif\" font-size=\"14.00\">15.write</text>\n</g>\n<!-- Start&#45;&gt;6 -->\n<g id=\"edge24\" class=\"edge\">\n<title>Start&#45;&gt;6</title>\n<path fill=\"none\" stroke=\"black\" d=\"M2536.29,-263.93C2319.03,-263.35 1718.33,-259.02 1688.84,-229 1683.02,-223.08 1681.41,-214.6 1681.67,-206.31\"/>\n<polygon fill=\"black\" stroke=\"black\" points=\"1685.18,-206.44 1682.84,-196.11 1678.23,-205.65 1685.18,-206.44\"/>\n<text text-anchor=\"middle\" x=\"1711.84\" y=\"-217.8\" font-family=\"Times New Roman,serif\" font-size=\"14.00\">13.open</text>\n</g>\n<!-- Start&#45;&gt;6 -->\n<g id=\"edge25\" class=\"edge\">\n<title>Start&#45;&gt;6</title>\n<path fill=\"none\" stroke=\"black\" d=\"M2536.98,-262.93C2343.17,-259.93 1844.85,-250.23 1772.84,-229 1752.33,-222.95 1731.6,-210.91 1715.75,-200.16\"/>\n<polygon fill=\"black\" stroke=\"black\" points=\"1717.68,-197.23 1707.48,-194.36 1713.66,-202.97 1717.68,-197.23\"/>\n<text text-anchor=\"middle\" x=\"1795.84\" y=\"-217.8\" font-family=\"Times New Roman,serif\" font-size=\"14.00\">14.lseek</text>\n</g>\n<!-- 7 -->\n<g id=\"node8\" class=\"node\">\n<title>7</title>\n<ellipse fill=\"none\" stroke=\"black\" cx=\"1888.84\" cy=\"-178\" rx=\"33.6\" ry=\"18\"/>\n<text text-anchor=\"middle\" x=\"1888.84\" y=\"-174.3\" font-family=\"Times New Roman,serif\" font-size=\"14.00\">/etc/rc</text>\n</g>\n<!-- Start&#45;&gt;7 -->\n<g id=\"edge26\" class=\"edge\">\n<title>Start&#45;&gt;7</title>\n<path fill=\"none\" stroke=\"black\" d=\"M2536.53,-263.41C2342.95,-261.56 1851.11,-254.37 1826.84,-229 1813.82,-215.4 1832.19,-202.12 1852.24,-192.67\"/>\n<polygon fill=\"black\" stroke=\"black\" points=\"1853.72,-195.84 1861.46,-188.61 1850.9,-189.44 1853.72,-195.84\"/>\n<text text-anchor=\"middle\" x=\"1846.84\" y=\"-217.8\" font-family=\"Times New Roman,serif\" font-size=\"14.00\">32.lstat</text>\n</g>\n<!-- Start&#45;&gt;7 -->\n<g id=\"edge27\" class=\"edge\">\n<title>Start&#45;&gt;7</title>\n<path fill=\"none\" stroke=\"black\" d=\"M2536.79,-263.07C2354.85,-260.5 1912.11,-251.91 1889.84,-229 1884.05,-223.05 1882.45,-214.56 1882.71,-206.27\"/>\n<polygon fill=\"black\" stroke=\"black\" points=\"1886.22,-206.41 1883.86,-196.08 1879.26,-205.62 1886.22,-206.41\"/>\n<text text-anchor=\"middle\" x=\"1906.34\" y=\"-217.8\" font-family=\"Times New Roman,serif\" font-size=\"14.00\">21.rm</text>\n</g>\n<!-- Start&#45;&gt;7 -->\n<g id=\"edge28\" class=\"edge\">\n<title>Start&#45;&gt;7</title>\n<path fill=\"none\" stroke=\"black\" d=\"M2537.39,-262.22C2376.86,-258.13 2015.04,-247.05 1961.84,-229 1943.89,-222.91 1926.28,-211.07 1912.86,-200.45\"/>\n<polygon fill=\"black\" stroke=\"black\" points=\"1915.02,-197.7 1905.08,-194.05 1910.58,-203.1 1915.02,-197.7\"/>\n<text text-anchor=\"middle\" x=\"1984.34\" y=\"-217.8\" font-family=\"Times New Roman,serif\" font-size=\"14.00\">22.write</text>\n</g>\n<!-- 8 -->\n<g id=\"node9\" class=\"node\">\n<title>8</title>\n<ellipse fill=\"none\" stroke=\"black\" cx=\"2048.84\" cy=\"-178\" rx=\"27.1\" ry=\"18\"/>\n<text text-anchor=\"middle\" x=\"2048.84\" y=\"-174.3\" font-family=\"Times New Roman,serif\" font-size=\"14.00\">^sh$</text>\n</g>\n<!-- Start&#45;&gt;8 -->\n<g id=\"edge29\" class=\"edge\">\n<title>Start&#45;&gt;8</title>\n<path fill=\"none\" stroke=\"black\" d=\"M2537.23,-262.3C2379.47,-258.41 2031.52,-247.75 2013.84,-229 2005,-219.63 2012.44,-207.9 2022.69,-198.15\"/>\n<polygon fill=\"black\" stroke=\"black\" points=\"2025.16,-200.64 2030.46,-191.46 2020.6,-195.33 2025.16,-200.64\"/>\n<text text-anchor=\"middle\" x=\"2037.84\" y=\"-217.8\" font-family=\"Times New Roman,serif\" font-size=\"14.00\">23.clone</text>\n</g>\n<!-- Start&#45;&gt;8 -->\n<g id=\"edge30\" class=\"edge\">\n<title>Start&#45;&gt;8</title>\n<path fill=\"none\" stroke=\"black\" d=\"M2537.68,-261.82C2403.79,-257.55 2136.7,-246.9 2097.84,-229 2085.24,-223.2 2074.15,-212.64 2065.71,-202.72\"/>\n<polygon fill=\"black\" stroke=\"black\" points=\"2068.25,-200.29 2059.28,-194.65 2062.77,-204.65 2068.25,-200.29\"/>\n<text text-anchor=\"middle\" x=\"2126.84\" y=\"-217.8\" font-family=\"Times New Roman,serif\" font-size=\"14.00\">24.waitpid</text>\n</g>\n<!-- 9 -->\n<g id=\"node10\" class=\"node\">\n<title>9</title>\n<ellipse fill=\"none\" stroke=\"black\" cx=\"2300.84\" cy=\"-178\" rx=\"32.49\" ry=\"18\"/>\n<text text-anchor=\"middle\" x=\"2300.84\" y=\"-174.3\" font-family=\"Times New Roman,serif\" font-size=\"14.00\">/proc/</text>\n</g>\n<!-- Start&#45;&gt;9 -->\n<g id=\"edge31\" class=\"edge\">\n<title>Start&#45;&gt;9</title>\n<path fill=\"none\" stroke=\"black\" d=\"M2536.7,-263.55C2415.2,-262.02 2190.44,-255.6 2165.84,-229 2136.45,-197.22 2208.6,-185.56 2258.36,-181.34\"/>\n<polygon fill=\"black\" stroke=\"black\" points=\"2258.9,-184.81 2268.6,-180.54 2258.36,-177.83 2258.9,-184.81\"/>\n<text text-anchor=\"middle\" x=\"2202.84\" y=\"-217.8\" font-family=\"Times New Roman,serif\" font-size=\"14.00\">69.newfstatat</text>\n</g>\n<!-- Start&#45;&gt;9 -->\n<g id=\"edge32\" class=\"edge\">\n<title>Start&#45;&gt;9</title>\n<path fill=\"none\" stroke=\"black\" d=\"M2537.73,-261.73C2440.04,-258.03 2280.92,-248.98 2262.84,-229 2254.18,-219.44 2261.64,-208.04 2272.16,-198.54\"/>\n<polygon fill=\"black\" stroke=\"black\" points=\"2274.64,-201.04 2280.19,-192.01 2270.22,-195.61 2274.64,-201.04\"/>\n<text text-anchor=\"middle\" x=\"2290.34\" y=\"-217.8\" font-family=\"Times New Roman,serif\" font-size=\"14.00\">68.access</text>\n</g>\n<!-- Start&#45;&gt;9 -->\n<g id=\"edge33\" class=\"edge\">\n<title>Start&#45;&gt;9</title>\n<path fill=\"none\" stroke=\"black\" d=\"M2538.59,-260.65C2469.72,-256.46 2373.7,-247.46 2340.84,-229 2330.55,-223.22 2321.92,-213.65 2315.34,-204.41\"/>\n<polygon fill=\"black\" stroke=\"black\" points=\"2318.1,-202.23 2309.67,-195.8 2312.25,-206.08 2318.1,-202.23\"/>\n<text text-anchor=\"middle\" x=\"2368.34\" y=\"-217.8\" font-family=\"Times New Roman,serif\" font-size=\"14.00\">1.readlink</text>\n</g>\n<!-- Start&#45;&gt;9 -->\n<g id=\"edge34\" class=\"edge\">\n<title>Start&#45;&gt;9</title>\n<path fill=\"none\" stroke=\"black\" d=\"M2549.87,-254.74C2514.9,-248.91 2471.04,-240.32 2432.84,-229 2415.82,-223.96 2412.39,-220.4 2395.84,-214 2376.47,-206.51 2354.75,-198.48 2336.97,-192\"/>\n<polygon fill=\"black\" stroke=\"black\" points=\"2338.13,-188.7 2327.54,-188.58 2335.74,-195.28 2338.13,-188.7\"/>\n<text text-anchor=\"middle\" x=\"2455.84\" y=\"-217.8\" font-family=\"Times New Roman,serif\" font-size=\"14.00\">19.open</text>\n</g>\n<!-- 10 -->\n<g id=\"node11\" class=\"node\">\n<title>10</title>\n<ellipse fill=\"none\" stroke=\"black\" cx=\"2650.84\" cy=\"-178\" rx=\"32.49\" ry=\"18\"/>\n<text text-anchor=\"middle\" x=\"2650.84\" y=\"-174.3\" font-family=\"Times New Roman,serif\" font-size=\"14.00\">/boot/</text>\n</g>\n<!-- Start&#45;&gt;10 -->\n<g id=\"edge35\" class=\"edge\">\n<title>Start&#45;&gt;10</title>\n<path fill=\"none\" stroke=\"black\" d=\"M2543.05,-257.68C2504.27,-251.36 2467.79,-238.8 2487.84,-214 2502.78,-195.5 2565.7,-186.33 2608.85,-182.13\"/>\n<polygon fill=\"black\" stroke=\"black\" points=\"2609.17,-185.62 2618.81,-181.22 2608.53,-178.65 2609.17,-185.62\"/>\n<text text-anchor=\"middle\" x=\"2511.84\" y=\"-217.8\" font-family=\"Times New Roman,serif\" font-size=\"14.00\">10.clone</text>\n</g>\n<!-- Start&#45;&gt;10 -->\n<g id=\"edge36\" class=\"edge\">\n<title>Start&#45;&gt;10</title>\n<path fill=\"none\" stroke=\"black\" d=\"M2578.55,-248.77C2562.79,-239.71 2549.61,-227.39 2558.84,-214 2570.18,-197.54 2590.37,-188.82 2608.95,-184.19\"/>\n<polygon fill=\"black\" stroke=\"black\" points=\"2609.71,-187.61 2618.75,-182.08 2608.24,-180.77 2609.71,-187.61\"/>\n<text text-anchor=\"middle\" x=\"2575.34\" y=\"-217.8\" font-family=\"Times New Roman,serif\" font-size=\"14.00\">25.rm</text>\n</g>\n<!-- Start&#45;&gt;10 -->\n<g id=\"edge37\" class=\"edge\">\n<title>Start&#45;&gt;10</title>\n<path fill=\"none\" stroke=\"black\" d=\"M2611.02,-246.65C2610.16,-236.69 2610.41,-224.19 2614.84,-214 2617.09,-208.8 2620.53,-203.99 2624.39,-199.7\"/>\n<polygon fill=\"black\" stroke=\"black\" points=\"2626.97,-202.07 2631.65,-192.57 2622.06,-197.08 2626.97,-202.07\"/>\n<text text-anchor=\"middle\" x=\"2640.34\" y=\"-217.8\" font-family=\"Times New Roman,serif\" font-size=\"14.00\">54.stat64</text>\n</g>\n<!-- Start&#45;&gt;10 -->\n<g id=\"edge38\" class=\"edge\">\n<title>Start&#45;&gt;10</title>\n<path fill=\"none\" stroke=\"black\" d=\"M2647.17,-248.57C2654.63,-243.46 2661.59,-236.97 2665.84,-229 2669.83,-221.49 2668.88,-212.77 2666.08,-204.73\"/>\n<polygon fill=\"black\" stroke=\"black\" points=\"2669.19,-203.12 2661.94,-195.4 2662.79,-205.96 2669.19,-203.12\"/>\n<text text-anchor=\"middle\" x=\"2688.34\" y=\"-217.8\" font-family=\"Times New Roman,serif\" font-size=\"14.00\">4.open</text>\n</g>\n<!-- Start&#45;&gt;10 -->\n<g id=\"edge39\" class=\"edge\">\n<title>Start&#45;&gt;10</title>\n<path fill=\"none\" stroke=\"black\" d=\"M2676.29,-254.26C2690.18,-249.05 2703.3,-241.11 2711.84,-229 2722.28,-214.19 2705.62,-201.33 2687.09,-192.36\"/>\n<polygon fill=\"black\" stroke=\"black\" points=\"2688.51,-189.16 2677.96,-188.28 2685.66,-195.55 2688.51,-189.16\"/>\n<text text-anchor=\"middle\" x=\"2735.34\" y=\"-217.8\" font-family=\"Times New Roman,serif\" font-size=\"14.00\">6.lseek</text>\n</g>\n<!-- Start&#45;&gt;10 -->\n<g id=\"edge40\" class=\"edge\">\n<title>Start&#45;&gt;10</title>\n<path fill=\"none\" stroke=\"black\" d=\"M2681.02,-255.87C2714.02,-250.36 2748.82,-241.72 2758.84,-229 2779.49,-202.77 2731.06,-189.73 2692.52,-183.68\"/>\n<polygon fill=\"black\" stroke=\"black\" points=\"2692.88,-180.2 2682.48,-182.23 2691.87,-187.13 2692.88,-180.2\"/>\n<text text-anchor=\"middle\" x=\"2782.84\" y=\"-217.8\" font-family=\"Times New Roman,serif\" font-size=\"14.00\">8.write</text>\n</g>\n<!-- 11 -->\n<g id=\"node12\" class=\"node\">\n<title>11</title>\n<ellipse fill=\"none\" stroke=\"black\" cx=\"2939.84\" cy=\"-178\" rx=\"38.99\" ry=\"18\"/>\n<text text-anchor=\"middle\" x=\"2939.84\" y=\"-174.3\" font-family=\"Times New Roman,serif\" font-size=\"14.00\">ip_addr</text>\n</g>\n<!-- Start&#45;&gt;11 -->\n<g id=\"edge41\" class=\"edge\">\n<title>Start&#45;&gt;11</title>\n<path fill=\"none\" stroke=\"black\" d=\"M2678.92,-255.07C2716.4,-249.2 2764.19,-240.47 2805.84,-229 2839.42,-219.75 2876.43,-205.63 2903.03,-194.75\"/>\n<polygon fill=\"black\" stroke=\"black\" points=\"2904.43,-197.95 2912.33,-190.9 2901.76,-191.49 2904.43,-197.95\"/>\n<text text-anchor=\"middle\" x=\"2872.84\" y=\"-217.8\" font-family=\"Times New Roman,serif\" font-size=\"14.00\">62.send</text>\n</g>\n<!-- Start&#45;&gt;11 -->\n<g id=\"edge42\" class=\"edge\">\n<title>Start&#45;&gt;11</title>\n<path fill=\"none\" stroke=\"black\" d=\"M2689.61,-261.02C2761.62,-257.06 2863.95,-248.2 2898.84,-229 2909.38,-223.2 2918.28,-213.49 2925.07,-204.16\"/>\n<polygon fill=\"black\" stroke=\"black\" points=\"2928,-206.07 2930.69,-195.83 2922.2,-202.16 2928,-206.07\"/>\n<text text-anchor=\"middle\" x=\"2956.34\" y=\"-217.8\" font-family=\"Times New Roman,serif\" font-size=\"14.00\">64._newselect</text>\n</g>\n<!-- Start&#45;&gt;11 -->\n<g id=\"edge43\" class=\"edge\">\n<title>Start&#45;&gt;11</title>\n<path fill=\"none\" stroke=\"black\" d=\"M2690.74,-262.48C2797.39,-259.56 2979.44,-251.33 2999.84,-229 3011.52,-216.21 2996.6,-203.74 2978.73,-194.45\"/>\n<polygon fill=\"black\" stroke=\"black\" points=\"2979.76,-191.06 2969.23,-189.89 2976.74,-197.37 2979.76,-191.06\"/>\n<text text-anchor=\"middle\" x=\"3035.84\" y=\"-217.8\" font-family=\"Times New Roman,serif\" font-size=\"14.00\">66.connect</text>\n</g>\n<!-- 12 -->\n<g id=\"node13\" class=\"node\">\n<title>12</title>\n<ellipse fill=\"none\" stroke=\"black\" cx=\"3161.84\" cy=\"-178\" rx=\"38.19\" ry=\"18\"/>\n<text text-anchor=\"middle\" x=\"3161.84\" y=\"-174.3\" font-family=\"Times New Roman,serif\" font-size=\"14.00\">/selinux</text>\n</g>\n<!-- Start&#45;&gt;12 -->\n<g id=\"edge44\" class=\"edge\">\n<title>Start&#45;&gt;12</title>\n<path fill=\"none\" stroke=\"black\" d=\"M2690.3,-262.05C2801.39,-258.56 3001.72,-249.58 3070.84,-229 3093.05,-222.38 3115.91,-209.8 3133.16,-198.91\"/>\n<polygon fill=\"black\" stroke=\"black\" points=\"3135.15,-201.79 3141.63,-193.41 3131.34,-195.92 3135.15,-201.79\"/>\n<text text-anchor=\"middle\" x=\"3129.84\" y=\"-217.8\" font-family=\"Times New Roman,serif\" font-size=\"14.00\">39.statfs</text>\n</g>\n<!-- Start&#45;&gt;12 -->\n<g id=\"edge45\" class=\"edge\">\n<title>Start&#45;&gt;12</title>\n<path fill=\"none\" stroke=\"black\" d=\"M2691.38,-264.51C2833.76,-264.65 3125.36,-260.97 3157.84,-229 3163.77,-223.16 3165.83,-214.7 3166.08,-206.4\"/>\n<polygon fill=\"black\" stroke=\"black\" points=\"3169.57,-206 3165.59,-196.18 3162.57,-206.34 3169.57,-206\"/>\n<text text-anchor=\"middle\" x=\"3193.34\" y=\"-217.8\" font-family=\"Times New Roman,serif\" font-size=\"14.00\">40.access</text>\n</g>\n<!-- 13 -->\n<g id=\"node14\" class=\"node\">\n<title>13</title>\n<ellipse fill=\"none\" stroke=\"black\" cx=\"3376.84\" cy=\"-178\" rx=\"27\" ry=\"18\"/>\n<text text-anchor=\"middle\" x=\"3376.84\" y=\"-174.3\" font-family=\"Times New Roman,serif\" font-size=\"14.00\">/var/</text>\n</g>\n<!-- Start&#45;&gt;13 -->\n<g id=\"edge46\" class=\"edge\">\n<title>Start&#45;&gt;13</title>\n<path fill=\"none\" stroke=\"black\" d=\"M2690.24,-262.1C2830.66,-258.21 3124.56,-248.03 3224.84,-229 3236.72,-226.75 3302.77,-204.42 3343.8,-190.38\"/>\n<polygon fill=\"black\" stroke=\"black\" points=\"3345.07,-193.64 3353.39,-187.09 3342.8,-187.02 3345.07,-193.64\"/>\n<text text-anchor=\"middle\" x=\"3295.84\" y=\"-217.8\" font-family=\"Times New Roman,serif\" font-size=\"14.00\">3.stat64</text>\n</g>\n<!-- Start&#45;&gt;13 -->\n<g id=\"edge47\" class=\"edge\">\n<title>Start&#45;&gt;13</title>\n<path fill=\"none\" stroke=\"black\" d=\"M2690.76,-263.08C2861.94,-260.61 3263.81,-252.39 3320.84,-229 3328.73,-225.76 3343.18,-212.78 3355.43,-200.85\"/>\n<polygon fill=\"black\" stroke=\"black\" points=\"3358.05,-203.18 3362.69,-193.65 3353.12,-198.2 3358.05,-203.18\"/>\n<text text-anchor=\"middle\" x=\"3364.84\" y=\"-217.8\" font-family=\"Times New Roman,serif\" font-size=\"14.00\">53.open</text>\n</g>\n<!-- Start&#45;&gt;13 -->\n<g id=\"edge48\" class=\"edge\">\n<title>Start&#45;&gt;13</title>\n<path fill=\"none\" stroke=\"black\" d=\"M2691.12,-263.36C2882.71,-261.4 3365.96,-253.98 3389.84,-229 3396.21,-222.33 3395.37,-212.96 3392.08,-204.12\"/>\n<polygon fill=\"black\" stroke=\"black\" points=\"3395.17,-202.48 3387.77,-194.9 3388.83,-205.45 3395.17,-202.48\"/>\n<text text-anchor=\"middle\" x=\"3417.84\" y=\"-217.8\" font-family=\"Times New Roman,serif\" font-size=\"14.00\">58.lseek</text>\n</g>\n<!-- Start&#45;&gt;13 -->\n<g id=\"edge49\" class=\"edge\">\n<title>Start&#45;&gt;13</title>\n<path fill=\"none\" stroke=\"black\" d=\"M2691.04,-263.61C2892.25,-262.2 3418.99,-255.95 3444.84,-229 3459.9,-213.29 3434.59,-198.98 3410.69,-189.73\"/>\n<polygon fill=\"black\" stroke=\"black\" points=\"3411.59,-186.33 3401,-186.21 3409.2,-192.91 3411.59,-186.33\"/>\n<text text-anchor=\"middle\" x=\"3472.34\" y=\"-217.8\" font-family=\"Times New Roman,serif\" font-size=\"14.00\">61.write</text>\n</g>\n<!-- 14 -->\n<g id=\"node15\" class=\"node\">\n<title>14</title>\n<ellipse fill=\"none\" stroke=\"black\" cx=\"3725.84\" cy=\"-178\" rx=\"27.1\" ry=\"18\"/>\n<text text-anchor=\"middle\" x=\"3725.84\" y=\"-174.3\" font-family=\"Times New Roman,serif\" font-size=\"14.00\">/run/</text>\n</g>\n<!-- Start&#45;&gt;14 -->\n<g id=\"edge50\" class=\"edge\">\n<title>Start&#45;&gt;14</title>\n<path fill=\"none\" stroke=\"black\" d=\"M2691.09,-263.38C2876.86,-261.51 3344.54,-254.34 3498.84,-229 3522.15,-225.17 3526.89,-219.64 3549.84,-214 3597.88,-202.18 3654.06,-191.56 3689.78,-185.19\"/>\n<polygon fill=\"black\" stroke=\"black\" points=\"3690.49,-188.62 3699.73,-183.44 3689.28,-181.73 3690.49,-188.62\"/>\n<text text-anchor=\"middle\" x=\"3575.34\" y=\"-217.8\" font-family=\"Times New Roman,serif\" font-size=\"14.00\">49.stat64</text>\n</g>\n<!-- Start&#45;&gt;14 -->\n<g id=\"edge51\" class=\"edge\">\n<title>Start&#45;&gt;14</title>\n<path fill=\"none\" stroke=\"black\" d=\"M2691.23,-263.64C2908.73,-262.29 3515.22,-256.11 3600.84,-229 3612.47,-225.32 3612.87,-219.35 3623.84,-214 3645.42,-203.46 3671,-194.69 3691.14,-188.57\"/>\n<polygon fill=\"black\" stroke=\"black\" points=\"3692.24,-191.89 3700.84,-185.7 3690.25,-185.18 3692.24,-191.89\"/>\n<text text-anchor=\"middle\" x=\"3646.84\" y=\"-217.8\" font-family=\"Times New Roman,serif\" font-size=\"14.00\">51.open</text>\n</g>\n<!-- Start&#45;&gt;14 -->\n<g id=\"edge52\" class=\"edge\">\n<title>Start&#45;&gt;14</title>\n<path fill=\"none\" stroke=\"black\" d=\"M2691.52,-264.47C2920.1,-265.43 3579.96,-265 3669.84,-229 3677.75,-225.83 3692.21,-212.84 3704.45,-200.89\"/>\n<polygon fill=\"black\" stroke=\"black\" points=\"3707.07,-203.22 3711.7,-193.69 3702.14,-198.25 3707.07,-203.22\"/>\n<text text-anchor=\"middle\" x=\"3713.84\" y=\"-217.8\" font-family=\"Times New Roman,serif\" font-size=\"14.00\">56.lseek</text>\n</g>\n<!-- Start&#45;&gt;14 -->\n<g id=\"edge53\" class=\"edge\">\n<title>Start&#45;&gt;14</title>\n<path fill=\"none\" stroke=\"black\" d=\"M2691.37,-264.51C2939.87,-265.77 3702.43,-266.55 3738.84,-229 3745.26,-222.38 3744.42,-213.01 3741.13,-204.17\"/>\n<polygon fill=\"black\" stroke=\"black\" points=\"3744.22,-202.52 3736.81,-194.94 3737.87,-205.48 3744.22,-202.52\"/>\n<text text-anchor=\"middle\" x=\"3762.34\" y=\"-217.8\" font-family=\"Times New Roman,serif\" font-size=\"14.00\">33.stat</text>\n</g>\n<!-- Start&#45;&gt;14 -->\n<g id=\"edge54\" class=\"edge\">\n<title>Start&#45;&gt;14</title>\n<path fill=\"none\" stroke=\"black\" d=\"M2691.06,-263.13C2949,-260.02 3765.76,-248.66 3784.84,-229 3798.14,-215.3 3778.45,-201.39 3758.32,-191.73\"/>\n<polygon fill=\"black\" stroke=\"black\" points=\"3759.72,-188.52 3749.16,-187.61 3756.84,-194.9 3759.72,-188.52\"/>\n<text text-anchor=\"middle\" x=\"3812.34\" y=\"-217.8\" font-family=\"Times New Roman,serif\" font-size=\"14.00\">59.write</text>\n</g>\n<!-- Start&#45;&gt;14 -->\n<g id=\"edge55\" class=\"edge\">\n<title>Start&#45;&gt;14</title>\n<path fill=\"none\" stroke=\"black\" d=\"M2690.9,-263.23C2956.51,-260.4 3818.77,-249.65 3838.84,-229 3864.53,-202.56 3804.82,-189.09 3762.78,-183.09\"/>\n<polygon fill=\"black\" stroke=\"black\" points=\"3763.18,-179.61 3752.8,-181.75 3762.25,-186.55 3763.18,-179.61\"/>\n<text text-anchor=\"middle\" x=\"3882.84\" y=\"-217.8\" font-family=\"Times New Roman,serif\" font-size=\"14.00\">70.newfstatat</text>\n</g>\n<!-- 15 -->\n<g id=\"node16\" class=\"node\">\n<title>15</title>\n<ellipse fill=\"none\" stroke=\"black\" cx=\"3985.84\" cy=\"-178\" rx=\"50.09\" ry=\"18\"/>\n<text text-anchor=\"middle\" x=\"3985.84\" y=\"-174.3\" font-family=\"Times New Roman,serif\" font-size=\"14.00\">^pipe($|.|$)</text>\n</g>\n<!-- Start&#45;&gt;15 -->\n<g id=\"edge56\" class=\"edge\">\n<title>Start&#45;&gt;15</title>\n<path fill=\"none\" stroke=\"black\" d=\"M2691.28,-263.3C2963.89,-260.66 3865.89,-250.33 3923.84,-229 3938.87,-223.47 3953,-212.7 3963.96,-202.57\"/>\n<polygon fill=\"black\" stroke=\"black\" points=\"3966.62,-204.87 3971.35,-195.39 3961.74,-199.85 3966.62,-204.87\"/>\n<text text-anchor=\"middle\" x=\"3971.84\" y=\"-217.8\" font-family=\"Times New Roman,serif\" font-size=\"14.00\">34.pipe</text>\n</g>\n<!-- 16 -->\n<g id=\"node17\" class=\"node\">\n<title>16</title>\n<ellipse fill=\"none\" stroke=\"black\" cx=\"4144.84\" cy=\"-178\" rx=\"71.49\" ry=\"18\"/>\n<text text-anchor=\"middle\" x=\"4144.84\" y=\"-174.3\" font-family=\"Times New Roman,serif\" font-size=\"14.00\">[a&#45;zA&#45;z]:d{1,5}$</text>\n</g>\n<!-- Start&#45;&gt;16 -->\n<g id=\"edge57\" class=\"edge\">\n<title>Start&#45;&gt;16</title>\n<path fill=\"none\" stroke=\"black\" d=\"M2690.95,-263.4C2962.99,-261.09 3868.47,-251.77 3996.84,-229 4016.3,-225.55 4061.6,-209.81 4096.99,-196.9\"/>\n<polygon fill=\"black\" stroke=\"black\" points=\"4098.5,-200.08 4106.68,-193.35 4096.09,-193.5 4098.5,-200.08\"/>\n<text text-anchor=\"middle\" x=\"4083.34\" y=\"-217.8\" font-family=\"Times New Roman,serif\" font-size=\"14.00\">2.exit_group</text>\n</g>\n<!-- Start&#45;&gt;16 -->\n<g id=\"edge58\" class=\"edge\">\n<title>Start&#45;&gt;16</title>\n<path fill=\"none\" stroke=\"black\" d=\"M2690.85,-263.33C2994.38,-260.54 4092.81,-249.09 4122.84,-229 4130.74,-223.71 4135.83,-214.9 4139.09,-206.13\"/>\n<polygon fill=\"black\" stroke=\"black\" points=\"4142.48,-207.02 4142.06,-196.44 4135.78,-204.98 4142.48,-207.02\"/>\n<text text-anchor=\"middle\" x=\"4164.84\" y=\"-217.8\" font-family=\"Times New Roman,serif\" font-size=\"14.00\">12.shmget</text>\n</g>\n<!-- Start&#45;&gt;16 -->\n<g id=\"edge59\" class=\"edge\">\n<title>Start&#45;&gt;16</title>\n<path fill=\"none\" stroke=\"black\" d=\"M2691.2,-263.75C3005.49,-262.54 4171.22,-256.21 4197.84,-229 4207.49,-219.13 4199.29,-208.6 4186.7,-199.75\"/>\n<polygon fill=\"black\" stroke=\"black\" points=\"4188.25,-196.59 4177.93,-194.21 4184.51,-202.51 4188.25,-196.59\"/>\n<text text-anchor=\"middle\" x=\"4229.84\" y=\"-217.8\" font-family=\"Times New Roman,serif\" font-size=\"14.00\">41.umask</text>\n</g>\n<!-- 17 -->\n<g id=\"node18\" class=\"node\">\n<title>17</title>\n<ellipse fill=\"none\" stroke=\"black\" cx=\"4261.84\" cy=\"-91\" rx=\"50.09\" ry=\"18\"/>\n<text text-anchor=\"middle\" x=\"4261.84\" y=\"-87.3\" font-family=\"Times New Roman,serif\" font-size=\"14.00\">bin/insserv</text>\n</g>\n<!-- Start&#45;&gt;17 -->\n<g id=\"edge60\" class=\"edge\">\n<title>Start&#45;&gt;17</title>\n<path fill=\"none\" stroke=\"black\" d=\"M2691.26,-263.81C3013.5,-262.83 4232.96,-257.27 4260.84,-229 4289.05,-200.39 4280.47,-149.9 4271.36,-118.85\"/>\n<polygon fill=\"black\" stroke=\"black\" points=\"4274.64,-117.62 4268.31,-109.12 4267.97,-119.71 4274.64,-117.62\"/>\n<text text-anchor=\"middle\" x=\"4299.34\" y=\"-174.3\" font-family=\"Times New Roman,serif\" font-size=\"14.00\">30.stat</text>\n</g>\n<!-- 18 -->\n<g id=\"node19\" class=\"node\">\n<title>18</title>\n<ellipse fill=\"none\" stroke=\"black\" cx=\"4339.84\" cy=\"-18\" rx=\"50.09\" ry=\"18\"/>\n<text text-anchor=\"middle\" x=\"4339.84\" y=\"-14.3\" font-family=\"Times New Roman,serif\" font-size=\"14.00\">bin/openrc</text>\n</g>\n<!-- Start&#45;&gt;18 -->\n<g id=\"edge61\" class=\"edge\">\n<title>Start&#45;&gt;18</title>\n<path fill=\"none\" stroke=\"black\" d=\"M2691.05,-263.76C3009.2,-262.61 4205.42,-256.47 4280.84,-229 4302.82,-220.99 4310.68,-216.56 4321.84,-196 4347.67,-148.39 4346.56,-82.96 4343.29,-46.45\"/>\n<polygon fill=\"black\" stroke=\"black\" points=\"4346.74,-45.7 4342.24,-36.11 4339.77,-46.41 4346.74,-45.7\"/>\n<text text-anchor=\"middle\" x=\"4361.34\" y=\"-130.8\" font-family=\"Times New Roman,serif\" font-size=\"14.00\">31.stat</text>\n</g>\n<!-- 19 -->\n<g id=\"node20\" class=\"node\">\n<title>19</title>\n<ellipse fill=\"none\" stroke=\"black\" cx=\"4536.84\" cy=\"-178\" rx=\"53.09\" ry=\"18\"/>\n<text text-anchor=\"middle\" x=\"4536.84\" y=\"-174.3\" font-family=\"Times New Roman,serif\" font-size=\"14.00\">^systemctl$</text>\n</g>\n<!-- Start&#45;&gt;19 -->\n<g id=\"edge62\" class=\"edge\">\n<title>Start&#45;&gt;19</title>\n<path fill=\"none\" stroke=\"black\" d=\"M2691.1,-263.61C3015.15,-261.82 4251.66,-253.42 4330.84,-229 4342.5,-225.4 4342.52,-218.57 4353.84,-214 4392.77,-198.29 4439.27,-189.52 4475.65,-184.68\"/>\n<polygon fill=\"black\" stroke=\"black\" points=\"4476.15,-188.14 4485.63,-183.42 4475.27,-181.2 4476.15,-188.14\"/>\n<text text-anchor=\"middle\" x=\"4399.34\" y=\"-217.8\" font-family=\"Times New Roman,serif\" font-size=\"14.00\">73.getsockname</text>\n</g>\n<!-- Start&#45;&gt;19 -->\n<g id=\"edge63\" class=\"edge\">\n<title>Start&#45;&gt;19</title>\n<path fill=\"none\" stroke=\"black\" d=\"M2691.05,-263.71C3028.42,-262.31 4359.96,-255.12 4444.84,-229 4456.5,-225.41 4457.27,-220.1 4467.84,-214 4477.54,-208.39 4488.26,-202.72 4498.28,-197.63\"/>\n<polygon fill=\"black\" stroke=\"black\" points=\"4499.89,-200.74 4507.25,-193.13 4496.75,-194.48 4499.89,-200.74\"/>\n<text text-anchor=\"middle\" x=\"4491.34\" y=\"-217.8\" font-family=\"Times New Roman,serif\" font-size=\"14.00\">36.wait4</text>\n</g>\n<!-- Start&#45;&gt;19 -->\n<g id=\"edge64\" class=\"edge\">\n<title>Start&#45;&gt;19</title>\n<path fill=\"none\" stroke=\"black\" d=\"M2691.06,-263.71C3042.59,-262.24 4476.27,-254.67 4514.84,-229 4522.75,-223.73 4527.84,-214.92 4531.11,-206.15\"/>\n<polygon fill=\"black\" stroke=\"black\" points=\"4534.49,-207.04 4534.07,-196.45 4527.8,-204.99 4534.49,-207.04\"/>\n<text text-anchor=\"middle\" x=\"4549.34\" y=\"-217.8\" font-family=\"Times New Roman,serif\" font-size=\"14.00\">35.exec</text>\n</g>\n<!-- Start&#45;&gt;19 -->\n<g id=\"edge65\" class=\"edge\">\n<title>Start&#45;&gt;19</title>\n<path fill=\"none\" stroke=\"black\" d=\"M2691.36,-264.09C3051.06,-264.31 4541.27,-263.17 4574.84,-229 4583.24,-220.45 4577.41,-210.02 4568.03,-200.9\"/>\n<polygon fill=\"black\" stroke=\"black\" points=\"4570.19,-198.14 4560.34,-194.23 4565.6,-203.43 4570.19,-198.14\"/>\n<text text-anchor=\"middle\" x=\"4619.34\" y=\"-217.8\" font-family=\"Times New Roman,serif\" font-size=\"14.00\">72.setsockopt</text>\n</g>\n<!-- Start&#45;&gt;19 -->\n<g id=\"edge66\" class=\"edge\">\n<title>Start&#45;&gt;19</title>\n<path fill=\"none\" stroke=\"black\" d=\"M2691.12,-264.15C3060.28,-264.68 4627.64,-264.81 4662.84,-229 4687.33,-204.09 4641.05,-191.26 4597.85,-184.87\"/>\n<polygon fill=\"black\" stroke=\"black\" points=\"4598.22,-181.39 4587.84,-183.49 4597.27,-188.32 4598.22,-181.39\"/>\n<text text-anchor=\"middle\" x=\"4709.84\" y=\"-217.8\" font-family=\"Times New Roman,serif\" font-size=\"14.00\">71.getsockopt</text>\n</g>\n<!-- 20 -->\n<g id=\"node21\" class=\"node\">\n<title>20</title>\n<ellipse fill=\"none\" stroke=\"black\" cx=\"4781.84\" cy=\"-178\" rx=\"52.79\" ry=\"18\"/>\n<text text-anchor=\"middle\" x=\"4781.84\" y=\"-174.3\" font-family=\"Times New Roman,serif\" font-size=\"14.00\">update&#45;rc.d</text>\n</g>\n<!-- Start&#45;&gt;20 -->\n<g id=\"edge67\" class=\"edge\">\n<title>Start&#45;&gt;20</title>\n<path fill=\"none\" stroke=\"black\" d=\"M2691.05,-263.79C3069.12,-262.61 4708.69,-255.96 4753.84,-229 4762.71,-223.7 4769,-214.47 4773.33,-205.36\"/>\n<polygon fill=\"black\" stroke=\"black\" points=\"4776.57,-206.67 4777.17,-196.1 4770.11,-204 4776.57,-206.67\"/>\n<text text-anchor=\"middle\" x=\"4791.84\" y=\"-217.8\" font-family=\"Times New Roman,serif\" font-size=\"14.00\">28.clone</text>\n</g>\n<!-- 21 -->\n<g id=\"node22\" class=\"node\">\n<title>21</title>\n<ellipse fill=\"none\" stroke=\"black\" cx=\"4863.84\" cy=\"-91\" rx=\"55.49\" ry=\"18\"/>\n<text text-anchor=\"middle\" x=\"4863.84\" y=\"-87.3\" font-family=\"Times New Roman,serif\" font-size=\"14.00\">^chkconfig$</text>\n</g>\n<!-- Start&#45;&gt;21 -->\n<g id=\"edge68\" class=\"edge\">\n<title>Start&#45;&gt;21</title>\n<path fill=\"none\" stroke=\"black\" d=\"M2691.13,-263.72C3076.27,-262.18 4771.63,-254.03 4819.84,-229 4858.25,-209.06 4864.82,-153.36 4865.06,-119.44\"/>\n<polygon fill=\"black\" stroke=\"black\" points=\"4868.55,-119.22 4864.94,-109.26 4861.56,-119.3 4868.55,-119.22\"/>\n<text text-anchor=\"middle\" x=\"4884.84\" y=\"-174.3\" font-family=\"Times New Roman,serif\" font-size=\"14.00\">27.clone</text>\n</g>\n<!-- 22 -->\n<g id=\"node23\" class=\"node\">\n<title>22</title>\n<ellipse fill=\"none\" stroke=\"black\" cx=\"4946.84\" cy=\"-18\" rx=\"29.5\" ry=\"18\"/>\n<text text-anchor=\"middle\" x=\"4946.84\" y=\"-14.3\" font-family=\"Times New Roman,serif\" font-size=\"14.00\">/perl/</text>\n</g>\n<!-- Start&#45;&gt;22 -->\n<g id=\"edge69\" class=\"edge\">\n<title>Start&#45;&gt;22</title>\n<path fill=\"none\" stroke=\"black\" d=\"M2691.21,-263.69C3072.21,-262.04 4735.05,-253.49 4841.84,-229 4875.75,-221.22 4891.43,-223.43 4912.84,-196 4947.01,-152.22 4950.14,-84.07 4948.85,-46.38\"/>\n<polygon fill=\"black\" stroke=\"black\" points=\"4952.33,-45.99 4948.36,-36.17 4945.34,-46.32 4952.33,-45.99\"/>\n<text text-anchor=\"middle\" x=\"4960.34\" y=\"-130.8\" font-family=\"Times New Roman,serif\" font-size=\"14.00\">29.stat</text>\n</g>\n<!-- 23 -->\n<g id=\"node24\" class=\"node\">\n<title>23</title>\n<ellipse fill=\"none\" stroke=\"black\" cx=\"5011.84\" cy=\"-178\" rx=\"37.09\" ry=\"18\"/>\n<text text-anchor=\"middle\" x=\"5011.84\" y=\"-174.3\" font-family=\"Times New Roman,serif\" font-size=\"14.00\">bin/sed</text>\n</g>\n<!-- Start&#45;&gt;23 -->\n<g id=\"edge70\" class=\"edge\">\n<title>Start&#45;&gt;23</title>\n<path fill=\"none\" stroke=\"black\" d=\"M2690.99,-263.63C3090.43,-261.64 4907.29,-251.34 4960.84,-229 4973.84,-223.58 4985.35,-213.12 4994.12,-203.16\"/>\n<polygon fill=\"black\" stroke=\"black\" points=\"4996.88,-205.33 5000.56,-195.39 4991.48,-200.86 4996.88,-205.33\"/>\n<text text-anchor=\"middle\" x=\"5001.34\" y=\"-217.8\" font-family=\"Times New Roman,serif\" font-size=\"14.00\">37.stat</text>\n</g>\n<!-- 24 -->\n<g id=\"node25\" class=\"node\">\n<title>24</title>\n<ellipse fill=\"none\" stroke=\"black\" cx=\"5079.84\" cy=\"-91\" rx=\"100.98\" ry=\"18\"/>\n<text text-anchor=\"middle\" x=\"5079.84\" y=\"-87.3\" font-family=\"Times New Roman,serif\" font-size=\"14.00\">permission(s|:)[0&#45;9]{1,4}</text>\n</g>\n<!-- Start&#45;&gt;24 -->\n<g id=\"edge71\" class=\"edge\">\n<title>Start&#45;&gt;24</title>\n<path fill=\"none\" stroke=\"black\" d=\"M2691.04,-263.66C3097.07,-261.77 4968.7,-251.83 5023.84,-229 5065.29,-211.84 5076.25,-154.36 5079.02,-119.54\"/>\n<polygon fill=\"black\" stroke=\"black\" points=\"5082.55,-119.31 5079.67,-109.11 5075.56,-118.88 5082.55,-119.31\"/>\n<text text-anchor=\"middle\" x=\"5098.84\" y=\"-174.3\" font-family=\"Times New Roman,serif\" font-size=\"14.00\">42.umask</text>\n</g>\n<!-- 25 -->\n<g id=\"node26\" class=\"node\">\n<title>25</title>\n<ellipse fill=\"none\" stroke=\"black\" cx=\"5208.84\" cy=\"-18\" rx=\"57.69\" ry=\"18\"/>\n<text text-anchor=\"middle\" x=\"5208.84\" y=\"-14.3\" font-family=\"Times New Roman,serif\" font-size=\"14.00\">/proc/rs_dev</text>\n</g>\n<!-- Start&#45;&gt;25 -->\n<g id=\"edge72\" class=\"edge\">\n<title>Start&#45;&gt;25</title>\n<path fill=\"none\" stroke=\"black\" d=\"M2691.24,-263.69C3093.34,-261.95 4929.82,-252.74 5047.84,-229 5128.84,-212.71 5157.21,-184.91 5189.84,-109 5198.48,-88.89 5203.32,-64.5 5205.94,-46.19\"/>\n<polygon fill=\"black\" stroke=\"black\" points=\"5209.42,-46.56 5207.25,-36.19 5202.48,-45.66 5209.42,-46.56\"/>\n<text text-anchor=\"middle\" x=\"5203.84\" y=\"-130.8\" font-family=\"Times New Roman,serif\" font-size=\"14.00\">20.open</text>\n</g>\n<!-- 26 -->\n<g id=\"node27\" class=\"node\">\n<title>26</title>\n<ellipse fill=\"none\" stroke=\"black\" cx=\"5268.84\" cy=\"-178\" rx=\"31.7\" ry=\"18\"/>\n<text text-anchor=\"middle\" x=\"5268.84\" y=\"-174.3\" font-family=\"Times New Roman,serif\" font-size=\"14.00\">^sed$</text>\n</g>\n<!-- Start&#45;&gt;26 -->\n<g id=\"edge73\" class=\"edge\">\n<title>Start&#45;&gt;26</title>\n<path fill=\"none\" stroke=\"black\" d=\"M2691.05,-263.8C3117.09,-262.61 5163.56,-255.49 5222.84,-229 5234.95,-223.59 5245.3,-213.27 5253.1,-203.42\"/>\n<polygon fill=\"black\" stroke=\"black\" points=\"5255.92,-205.49 5259.03,-195.36 5250.28,-201.34 5255.92,-205.49\"/>\n<text text-anchor=\"middle\" x=\"5264.34\" y=\"-217.8\" font-family=\"Times New Roman,serif\" font-size=\"14.00\">38.exec</text>\n</g>\n</g>\n</svg>\n",
      "text/plain": [
       "<graphviz.sources.Source at 0x1b0251c1540>"
      ]
     },
     "metadata": {},
     "output_type": "display_data"
    },
    {
     "name": "stdout",
     "output_type": "stream",
     "text": [
      "Xorddos-Intezer.csv raw doc OPset\n"
     ]
    },
    {
     "data": {
      "image/svg+xml": "<?xml version=\"1.0\" encoding=\"UTF-8\" standalone=\"no\"?>\n<!DOCTYPE svg PUBLIC \"-//W3C//DTD SVG 1.1//EN\"\n \"http://www.w3.org/Graphics/SVG/1.1/DTD/svg11.dtd\">\n<!-- Generated by graphviz version 6.0.1 (20220911.1526)\n -->\n<!-- Pages: 1 -->\n<svg width=\"588pt\" height=\"131pt\"\n viewBox=\"0.00 0.00 587.79 131.00\" xmlns=\"http://www.w3.org/2000/svg\" xmlns:xlink=\"http://www.w3.org/1999/xlink\">\n<g id=\"graph0\" class=\"graph\" transform=\"scale(1 1) rotate(0) translate(4 127)\">\n<polygon fill=\"white\" stroke=\"none\" points=\"-4,4 -4,-127 583.79,-127 583.79,4 -4,4\"/>\n<!-- Start -->\n<g id=\"node1\" class=\"node\">\n<title>Start</title>\n<ellipse fill=\"none\" stroke=\"black\" cx=\"83\" cy=\"-105\" rx=\"77.19\" ry=\"18\"/>\n<text text-anchor=\"middle\" x=\"83\" y=\"-101.3\" font-family=\"Times New Roman,serif\" font-size=\"14.00\">Malware (Subject)</text>\n</g>\n<!-- 1 -->\n<g id=\"node2\" class=\"node\">\n<title>1</title>\n<ellipse fill=\"none\" stroke=\"black\" cx=\"39\" cy=\"-18\" rx=\"38.99\" ry=\"18\"/>\n<text text-anchor=\"middle\" x=\"39\" y=\"-14.3\" font-family=\"Times New Roman,serif\" font-size=\"14.00\">ip_addr</text>\n</g>\n<!-- Start&#45;&gt;1 -->\n<g id=\"edge1\" class=\"edge\">\n<title>Start&#45;&gt;1</title>\n<path fill=\"none\" stroke=\"black\" d=\"M57.52,-87.73C51.39,-82.52 45.58,-76.2 42,-69 38.53,-62.04 37.12,-53.85 36.75,-46.13\"/>\n<polygon fill=\"black\" stroke=\"black\" points=\"40.25,-46.08 36.8,-36.06 33.25,-46.04 40.25,-46.08\"/>\n<text text-anchor=\"middle\" x=\"74\" y=\"-57.8\" font-family=\"Times New Roman,serif\" font-size=\"14.00\">5.hardcode</text>\n</g>\n<!-- 5 -->\n<g id=\"node6\" class=\"node\">\n<title>5</title>\n<ellipse fill=\"none\" stroke=\"black\" cx=\"128\" cy=\"-18\" rx=\"32.49\" ry=\"18\"/>\n<text text-anchor=\"middle\" x=\"128\" y=\"-14.3\" font-family=\"Times New Roman,serif\" font-size=\"14.00\">/proc/</text>\n</g>\n<!-- Start&#45;&gt;5 -->\n<g id=\"edge2\" class=\"edge\">\n<title>Start&#45;&gt;5</title>\n<path fill=\"none\" stroke=\"black\" d=\"M95.05,-86.91C98.76,-81.32 102.73,-75 106,-69 110.07,-61.5 114,-53.1 117.38,-45.35\"/>\n<polygon fill=\"black\" stroke=\"black\" points=\"120.67,-46.57 121.34,-36 114.22,-43.84 120.67,-46.57\"/>\n<text text-anchor=\"middle\" x=\"137.5\" y=\"-57.8\" font-family=\"Times New Roman,serif\" font-size=\"14.00\">6.extract</text>\n</g>\n<!-- 2 -->\n<g id=\"node3\" class=\"node\">\n<title>2</title>\n<ellipse fill=\"none\" stroke=\"black\" cx=\"212\" cy=\"-105\" rx=\"33.6\" ry=\"18\"/>\n<text text-anchor=\"middle\" x=\"212\" y=\"-101.3\" font-family=\"Times New Roman,serif\" font-size=\"14.00\">/etc/rc</text>\n</g>\n<!-- 3 -->\n<g id=\"node4\" class=\"node\">\n<title>3</title>\n<ellipse fill=\"none\" stroke=\"black\" cx=\"311\" cy=\"-105\" rx=\"46.59\" ry=\"18\"/>\n<text text-anchor=\"middle\" x=\"311\" y=\"-101.3\" font-family=\"Times New Roman,serif\" font-size=\"14.00\">GID($|.|$)</text>\n</g>\n<!-- 4 -->\n<g id=\"node5\" class=\"node\">\n<title>4</title>\n<ellipse fill=\"none\" stroke=\"black\" cx=\"422\" cy=\"-105\" rx=\"46.29\" ry=\"18\"/>\n<text text-anchor=\"middle\" x=\"422\" y=\"-101.3\" font-family=\"Times New Roman,serif\" font-size=\"14.00\">UID($|.|$)</text>\n</g>\n<!-- 6 -->\n<g id=\"node7\" class=\"node\">\n<title>6</title>\n<ellipse fill=\"none\" stroke=\"black\" cx=\"533\" cy=\"-105\" rx=\"46.59\" ry=\"18\"/>\n<text text-anchor=\"middle\" x=\"533\" y=\"-101.3\" font-family=\"Times New Roman,serif\" font-size=\"14.00\">/etc/init.d/</text>\n</g>\n</g>\n</svg>\n",
      "text/plain": [
       "<graphviz.graphs.Digraph at 0x1b024c47970>"
      ]
     },
     "metadata": {},
     "output_type": "display_data"
    },
    {
     "name": "stdout",
     "output_type": "stream",
     "text": [
      "Xorddos-Intezer.csv matched doc OPset\n"
     ]
    },
    {
     "data": {
      "image/svg+xml": "<?xml version=\"1.0\" encoding=\"UTF-8\" standalone=\"no\"?>\n<!DOCTYPE svg PUBLIC \"-//W3C//DTD SVG 1.1//EN\"\n \"http://www.w3.org/Graphics/SVG/1.1/DTD/svg11.dtd\">\n<!-- Generated by graphviz version 6.0.1 (20220911.1526)\n -->\n<!-- Pages: 1 -->\n<svg width=\"163pt\" height=\"131pt\"\n viewBox=\"0.00 0.00 162.69 131.00\" xmlns=\"http://www.w3.org/2000/svg\" xmlns:xlink=\"http://www.w3.org/1999/xlink\">\n<g id=\"graph0\" class=\"graph\" transform=\"scale(1 1) rotate(0) translate(4 127)\">\n<polygon fill=\"white\" stroke=\"none\" points=\"-4,4 -4,-127 158.69,-127 158.69,4 -4,4\"/>\n<!-- Start -->\n<g id=\"node1\" class=\"node\">\n<title>Start</title>\n<ellipse fill=\"none\" stroke=\"black\" cx=\"77.34\" cy=\"-105\" rx=\"77.19\" ry=\"18\"/>\n<text text-anchor=\"middle\" x=\"77.34\" y=\"-101.3\" font-family=\"Times New Roman,serif\" font-size=\"14.00\">Malware (Subject)</text>\n</g>\n<!-- 1 -->\n<g id=\"node2\" class=\"node\">\n<title>1</title>\n<ellipse fill=\"none\" stroke=\"black\" cx=\"77.34\" cy=\"-18\" rx=\"32.49\" ry=\"18\"/>\n<text text-anchor=\"middle\" x=\"77.34\" y=\"-14.3\" font-family=\"Times New Roman,serif\" font-size=\"14.00\">/proc/</text>\n</g>\n<!-- Start&#45;&gt;1 -->\n<g id=\"edge1\" class=\"edge\">\n<title>Start&#45;&gt;1</title>\n<path fill=\"none\" stroke=\"black\" d=\"M77.34,-86.8C77.34,-75.16 77.34,-59.55 77.34,-46.24\"/>\n<polygon fill=\"black\" stroke=\"black\" points=\"80.84,-46.18 77.34,-36.18 73.84,-46.18 80.84,-46.18\"/>\n<text text-anchor=\"middle\" x=\"101.84\" y=\"-57.8\" font-family=\"Times New Roman,serif\" font-size=\"14.00\">6.extract</text>\n</g>\n</g>\n</svg>\n",
      "text/plain": [
       "<graphviz.graphs.Digraph at 0x1b024c46f50>"
      ]
     },
     "metadata": {},
     "output_type": "display_data"
    },
    {
     "name": "stdout",
     "output_type": "stream",
     "text": [
      "matched ASG OPset for doc Xorddos-Intezer.csv\n"
     ]
    },
    {
     "data": {
      "image/svg+xml": "<?xml version=\"1.0\" encoding=\"UTF-8\" standalone=\"no\"?>\n<!DOCTYPE svg PUBLIC \"-//W3C//DTD SVG 1.1//EN\"\n \"http://www.w3.org/Graphics/SVG/1.1/DTD/svg11.dtd\">\n<!-- Generated by graphviz version 6.0.1 (20220911.1526)\n -->\n<!-- Pages: 1 -->\n<svg width=\"163pt\" height=\"131pt\"\n viewBox=\"0.00 0.00 162.69 131.00\" xmlns=\"http://www.w3.org/2000/svg\" xmlns:xlink=\"http://www.w3.org/1999/xlink\">\n<g id=\"graph0\" class=\"graph\" transform=\"scale(1 1) rotate(0) translate(4 127)\">\n<polygon fill=\"white\" stroke=\"none\" points=\"-4,4 -4,-127 158.69,-127 158.69,4 -4,4\"/>\n<!-- Start -->\n<g id=\"node1\" class=\"node\">\n<title>Start</title>\n<ellipse fill=\"none\" stroke=\"black\" cx=\"77.34\" cy=\"-105\" rx=\"77.19\" ry=\"18\"/>\n<text text-anchor=\"middle\" x=\"77.34\" y=\"-101.3\" font-family=\"Times New Roman,serif\" font-size=\"14.00\">Malware (Subject)</text>\n</g>\n<!-- 1 -->\n<g id=\"node2\" class=\"node\">\n<title>1</title>\n<ellipse fill=\"none\" stroke=\"black\" cx=\"77.34\" cy=\"-18\" rx=\"32.49\" ry=\"18\"/>\n<text text-anchor=\"middle\" x=\"77.34\" y=\"-14.3\" font-family=\"Times New Roman,serif\" font-size=\"14.00\">/proc/</text>\n</g>\n<!-- Start&#45;&gt;1 -->\n<g id=\"edge1\" class=\"edge\">\n<title>Start&#45;&gt;1</title>\n<path fill=\"none\" stroke=\"black\" d=\"M77.34,-86.8C77.34,-75.16 77.34,-59.55 77.34,-46.24\"/>\n<polygon fill=\"black\" stroke=\"black\" points=\"80.84,-46.18 77.34,-36.18 73.84,-46.18 80.84,-46.18\"/>\n<text text-anchor=\"middle\" x=\"100.34\" y=\"-57.8\" font-family=\"Times New Roman,serif\" font-size=\"14.00\">19.open</text>\n</g>\n</g>\n</svg>\n",
      "text/plain": [
       "<graphviz.graphs.Digraph at 0x1b024c47970>"
      ]
     },
     "metadata": {},
     "output_type": "display_data"
    },
    {
     "name": "stdout",
     "output_type": "stream",
     "text": [
      "Xorddos-Microsoft.csv raw doc OPset\n"
     ]
    },
    {
     "data": {
      "image/svg+xml": "<?xml version=\"1.0\" encoding=\"UTF-8\" standalone=\"no\"?>\n<!DOCTYPE svg PUBLIC \"-//W3C//DTD SVG 1.1//EN\"\n \"http://www.w3.org/Graphics/SVG/1.1/DTD/svg11.dtd\">\n<!-- Generated by graphviz version 6.0.1 (20220911.1526)\n -->\n<!-- Pages: 1 -->\n<svg width=\"2975pt\" height=\"131pt\"\n viewBox=\"0.00 0.00 2974.67 131.00\" xmlns=\"http://www.w3.org/2000/svg\" xmlns:xlink=\"http://www.w3.org/1999/xlink\">\n<g id=\"graph0\" class=\"graph\" transform=\"scale(1 1) rotate(0) translate(4 127)\">\n<polygon fill=\"white\" stroke=\"none\" points=\"-4,4 -4,-127 2970.67,-127 2970.67,4 -4,4\"/>\n<!-- Start -->\n<g id=\"node1\" class=\"node\">\n<title>Start</title>\n<ellipse fill=\"none\" stroke=\"black\" cx=\"1476.88\" cy=\"-105\" rx=\"77.19\" ry=\"18\"/>\n<text text-anchor=\"middle\" x=\"1476.88\" y=\"-101.3\" font-family=\"Times New Roman,serif\" font-size=\"14.00\">Malware (Subject)</text>\n</g>\n<!-- 1 -->\n<g id=\"node2\" class=\"node\">\n<title>1</title>\n<ellipse fill=\"none\" stroke=\"black\" cx=\"149.88\" cy=\"-18\" rx=\"40.89\" ry=\"18\"/>\n<text text-anchor=\"middle\" x=\"149.88\" y=\"-14.3\" font-family=\"Times New Roman,serif\" font-size=\"14.00\">/var/run/</text>\n</g>\n<!-- Start&#45;&gt;1 -->\n<g id=\"edge1\" class=\"edge\">\n<title>Start&#45;&gt;1</title>\n<path fill=\"none\" stroke=\"black\" d=\"M1399.61,-103.61C1100.27,-101.91 32.39,-94.1 7.88,-69 -22.59,-37.79 47,-26.03 99.15,-21.61\"/>\n<polygon fill=\"black\" stroke=\"black\" points=\"99.61,-25.09 109.31,-20.83 99.07,-18.11 99.61,-25.09\"/>\n<text text-anchor=\"middle\" x=\"30.88\" y=\"-57.8\" font-family=\"Times New Roman,serif\" font-size=\"14.00\">39.fetch</text>\n</g>\n<!-- Start&#45;&gt;1 -->\n<g id=\"edge8\" class=\"edge\">\n<title>Start&#45;&gt;1</title>\n<path fill=\"none\" stroke=\"black\" d=\"M1399.55,-103.51C1109.3,-101.51 100.13,-92.84 76.88,-69 62.36,-54.12 83.6,-40.99 106.84,-31.93\"/>\n<polygon fill=\"black\" stroke=\"black\" points=\"108.28,-35.13 116.48,-28.42 105.88,-28.56 108.28,-35.13\"/>\n<text text-anchor=\"middle\" x=\"102.38\" y=\"-57.8\" font-family=\"Times New Roman,serif\" font-size=\"14.00\">29.create</text>\n</g>\n<!-- Start&#45;&gt;1 -->\n<g id=\"edge19\" class=\"edge\">\n<title>Start&#45;&gt;1</title>\n<path fill=\"none\" stroke=\"black\" d=\"M1399.36,-103.39C1119,-100.99 172.99,-91.26 150.88,-69 144.96,-63.05 143.37,-54.46 143.68,-46.07\"/>\n<polygon fill=\"black\" stroke=\"black\" points=\"147.16,-46.48 144.84,-36.14 140.21,-45.66 147.16,-46.48\"/>\n<text text-anchor=\"middle\" x=\"187.88\" y=\"-57.8\" font-family=\"Times New Roman,serif\" font-size=\"14.00\">7.resolv.conf</text>\n</g>\n<!-- Start&#45;&gt;1 -->\n<g id=\"edge38\" class=\"edge\">\n<title>Start&#45;&gt;1</title>\n<path fill=\"none\" stroke=\"black\" d=\"M1399.51,-104.23C1147.05,-104.65 357.18,-103.19 247.88,-69 236.23,-65.36 235.54,-59.93 224.88,-54 212.98,-47.39 199.63,-40.88 187.52,-35.3\"/>\n<polygon fill=\"black\" stroke=\"black\" points=\"188.68,-31.99 178.13,-31.05 185.79,-38.36 188.68,-31.99\"/>\n<text text-anchor=\"middle\" x=\"275.88\" y=\"-57.8\" font-family=\"Times New Roman,serif\" font-size=\"14.00\">4.m6_6n3</text>\n</g>\n<!-- Start&#45;&gt;1 -->\n<g id=\"edge41\" class=\"edge\">\n<title>Start&#45;&gt;1</title>\n<path fill=\"none\" stroke=\"black\" d=\"M1399.54,-103.34C1160.05,-101.05 440.55,-92.3 337.88,-69 321.77,-65.35 319.56,-59.19 303.88,-54 268.91,-42.43 228.25,-33.37 197.48,-27.37\"/>\n<polygon fill=\"black\" stroke=\"black\" points=\"197.93,-23.89 187.45,-25.45 196.62,-30.76 197.93,-23.89\"/>\n<text text-anchor=\"middle\" x=\"358.88\" y=\"-57.8\" font-family=\"Times New Roman,serif\" font-size=\"14.00\">42.read</text>\n</g>\n<!-- 2 -->\n<g id=\"node3\" class=\"node\">\n<title>2</title>\n<ellipse fill=\"none\" stroke=\"black\" cx=\"568.88\" cy=\"-18\" rx=\"27.1\" ry=\"18\"/>\n<text text-anchor=\"middle\" x=\"568.88\" y=\"-14.3\" font-family=\"Times New Roman,serif\" font-size=\"14.00\">/run/</text>\n</g>\n<!-- Start&#45;&gt;2 -->\n<g id=\"edge5\" class=\"edge\">\n<title>Start&#45;&gt;2</title>\n<path fill=\"none\" stroke=\"black\" d=\"M1399.56,-104.42C1157.29,-105.34 426.84,-105.11 391.88,-69 349.69,-25.43 467.52,-18.99 531.16,-18.57\"/>\n<polygon fill=\"black\" stroke=\"black\" points=\"531.25,-22.07 541.25,-18.55 531.24,-15.07 531.25,-22.07\"/>\n<text text-anchor=\"middle\" x=\"419.88\" y=\"-57.8\" font-family=\"Times New Roman,serif\" font-size=\"14.00\">5.m6_6n3</text>\n</g>\n<!-- Start&#45;&gt;2 -->\n<g id=\"edge11\" class=\"edge\">\n<title>Start&#45;&gt;2</title>\n<path fill=\"none\" stroke=\"black\" d=\"M1399.57,-104.21C1169.48,-104.45 502.99,-102.25 470.88,-69 448.92,-46.27 496.28,-32.04 532.52,-24.81\"/>\n<polygon fill=\"black\" stroke=\"black\" points=\"533.21,-28.24 542.39,-22.96 531.91,-21.36 533.21,-28.24\"/>\n<text text-anchor=\"middle\" x=\"491.88\" y=\"-57.8\" font-family=\"Times New Roman,serif\" font-size=\"14.00\">43.read</text>\n</g>\n<!-- Start&#45;&gt;2 -->\n<g id=\"edge14\" class=\"edge\">\n<title>Start&#45;&gt;2</title>\n<path fill=\"none\" stroke=\"black\" d=\"M1399.53,-104.01C1179.79,-103.66 565.65,-99.9 535.88,-69 527.25,-60.05 533.87,-48.55 543.39,-38.85\"/>\n<polygon fill=\"black\" stroke=\"black\" points=\"546.02,-41.18 551.02,-31.84 541.29,-36.02 546.02,-41.18\"/>\n<text text-anchor=\"middle\" x=\"558.88\" y=\"-57.8\" font-family=\"Times New Roman,serif\" font-size=\"14.00\">40.fetch</text>\n</g>\n<!-- Start&#45;&gt;2 -->\n<g id=\"edge18\" class=\"edge\">\n<title>Start&#45;&gt;2</title>\n<path fill=\"none\" stroke=\"black\" d=\"M1400.06,-102.74C1193.54,-99.1 639.57,-87.66 604.88,-69 594.74,-63.55 586.76,-53.84 580.92,-44.43\"/>\n<polygon fill=\"black\" stroke=\"black\" points=\"583.93,-42.63 575.98,-35.63 577.83,-46.07 583.93,-42.63\"/>\n<text text-anchor=\"middle\" x=\"630.38\" y=\"-57.8\" font-family=\"Times New Roman,serif\" font-size=\"14.00\">30.create</text>\n</g>\n<!-- Start&#45;&gt;2 -->\n<g id=\"edge22\" class=\"edge\">\n<title>Start&#45;&gt;2</title>\n<path fill=\"none\" stroke=\"black\" d=\"M1399.81,-102.93C1212.97,-100.01 746.21,-90.63 678.88,-69 667.26,-65.27 666.7,-59.64 655.88,-54 638.78,-45.09 618.88,-36.94 602.43,-30.74\"/>\n<polygon fill=\"black\" stroke=\"black\" points=\"603.29,-27.33 592.7,-27.15 600.87,-33.9 603.29,-27.33\"/>\n<text text-anchor=\"middle\" x=\"701.38\" y=\"-57.8\" font-family=\"Times New Roman,serif\" font-size=\"14.00\">50.drop</text>\n</g>\n<!-- Start&#45;&gt;2 -->\n<g id=\"edge33\" class=\"edge\">\n<title>Start&#45;&gt;2</title>\n<path fill=\"none\" stroke=\"black\" d=\"M1399.64,-103.3C1240.82,-101.37 882.49,-94.25 762.88,-69 744.71,-65.16 741.65,-59.39 723.88,-54 683.79,-41.84 636.73,-31.79 605.07,-25.63\"/>\n<polygon fill=\"black\" stroke=\"black\" points=\"605.44,-22.13 594.96,-23.69 604.12,-29.01 605.44,-22.13\"/>\n<text text-anchor=\"middle\" x=\"799.88\" y=\"-57.8\" font-family=\"Times New Roman,serif\" font-size=\"14.00\">8.resolv.conf</text>\n</g>\n<!-- 3 -->\n<g id=\"node4\" class=\"node\">\n<title>3</title>\n<ellipse fill=\"none\" stroke=\"black\" cx=\"1072.88\" cy=\"-18\" rx=\"27\" ry=\"18\"/>\n<text text-anchor=\"middle\" x=\"1072.88\" y=\"-14.3\" font-family=\"Times New Roman,serif\" font-size=\"14.00\">/var/</text>\n</g>\n<!-- Start&#45;&gt;3 -->\n<g id=\"edge2\" class=\"edge\">\n<title>Start&#45;&gt;3</title>\n<path fill=\"none\" stroke=\"black\" d=\"M1400.13,-102.54C1235.69,-99.03 862.72,-88.91 843.88,-69 839.3,-64.16 839.53,-59.06 843.88,-54 868.11,-25.78 976.9,-20.07 1035.38,-19.07\"/>\n<polygon fill=\"black\" stroke=\"black\" points=\"1035.73,-22.57 1045.69,-18.94 1035.64,-15.57 1035.73,-22.57\"/>\n<text text-anchor=\"middle\" x=\"871.88\" y=\"-57.8\" font-family=\"Times New Roman,serif\" font-size=\"14.00\">6.m6_6n3</text>\n</g>\n<!-- Start&#45;&gt;3 -->\n<g id=\"edge4\" class=\"edge\">\n<title>Start&#45;&gt;3</title>\n<path fill=\"none\" stroke=\"black\" d=\"M1399.36,-104.84C1254.58,-105.59 954.77,-102.97 922.88,-69 888.28,-32.15 981.06,-22.44 1035.87,-19.9\"/>\n<polygon fill=\"black\" stroke=\"black\" points=\"1036.1,-23.39 1045.95,-19.49 1035.82,-16.4 1036.1,-23.39\"/>\n<text text-anchor=\"middle\" x=\"937.38\" y=\"-57.8\" font-family=\"Times New Roman,serif\" font-size=\"14.00\">1.run</text>\n</g>\n<!-- Start&#45;&gt;3 -->\n<g id=\"edge10\" class=\"edge\">\n<title>Start&#45;&gt;3</title>\n<path fill=\"none\" stroke=\"black\" d=\"M1399.36,-104.27C1265.65,-103.92 1003.16,-99.33 974.88,-69 953.36,-45.93 1000.42,-31.81 1036.51,-24.7\"/>\n<polygon fill=\"black\" stroke=\"black\" points=\"1037.6,-28.06 1046.8,-22.8 1036.33,-21.17 1037.6,-28.06\"/>\n<text text-anchor=\"middle\" x=\"995.88\" y=\"-57.8\" font-family=\"Times New Roman,serif\" font-size=\"14.00\">44.read</text>\n</g>\n<!-- Start&#45;&gt;3 -->\n<g id=\"edge12\" class=\"edge\">\n<title>Start&#45;&gt;3</title>\n<path fill=\"none\" stroke=\"black\" d=\"M1399.71,-103.38C1280.75,-101.61 1063.72,-94.83 1039.88,-69 1031.44,-59.86 1038.08,-48.36 1047.55,-38.69\"/>\n<polygon fill=\"black\" stroke=\"black\" points=\"1050.14,-41.06 1055.15,-31.72 1045.41,-35.9 1050.14,-41.06\"/>\n<text text-anchor=\"middle\" x=\"1062.88\" y=\"-57.8\" font-family=\"Times New Roman,serif\" font-size=\"14.00\">41.fetch</text>\n</g>\n<!-- Start&#45;&gt;3 -->\n<g id=\"edge16\" class=\"edge\">\n<title>Start&#45;&gt;3</title>\n<path fill=\"none\" stroke=\"black\" d=\"M1399.48,-104.04C1306.42,-102.82 1156.75,-96.46 1108.88,-69 1098.89,-63.27 1090.94,-53.53 1085.08,-44.15\"/>\n<polygon fill=\"black\" stroke=\"black\" points=\"1088.09,-42.37 1080.1,-35.42 1082.01,-45.84 1088.09,-42.37\"/>\n<text text-anchor=\"middle\" x=\"1134.38\" y=\"-57.8\" font-family=\"Times New Roman,serif\" font-size=\"14.00\">31.create</text>\n</g>\n<!-- Start&#45;&gt;3 -->\n<g id=\"edge24\" class=\"edge\">\n<title>Start&#45;&gt;3</title>\n<path fill=\"none\" stroke=\"black\" d=\"M1399.44,-104.34C1338.83,-102.36 1253.3,-94.56 1182.88,-69 1171.41,-64.84 1170.7,-59.64 1159.88,-54 1142.66,-45.03 1122.6,-36.82 1106.09,-30.61\"/>\n<polygon fill=\"black\" stroke=\"black\" points=\"1106.92,-27.19 1096.32,-27.02 1104.5,-33.76 1106.92,-27.19\"/>\n<text text-anchor=\"middle\" x=\"1208.88\" y=\"-57.8\" font-family=\"Times New Roman,serif\" font-size=\"14.00\">2.contain</text>\n</g>\n<!-- Start&#45;&gt;3 -->\n<g id=\"edge30\" class=\"edge\">\n<title>Start&#45;&gt;3</title>\n<path fill=\"none\" stroke=\"black\" d=\"M1402.62,-99.88C1359.25,-95.59 1304.13,-86.84 1257.88,-69 1246.49,-64.61 1246.14,-58.7 1234.88,-54 1193.9,-36.9 1143.47,-27.7 1109.86,-23.09\"/>\n<polygon fill=\"black\" stroke=\"black\" points=\"1109.95,-19.57 1099.58,-21.75 1109.04,-26.51 1109.95,-19.57\"/>\n<text text-anchor=\"middle\" x=\"1294.88\" y=\"-57.8\" font-family=\"Times New Roman,serif\" font-size=\"14.00\">9.resolv.conf</text>\n</g>\n<!-- Start&#45;&gt;3 -->\n<g id=\"edge39\" class=\"edge\">\n<title>Start&#45;&gt;3</title>\n<path fill=\"none\" stroke=\"black\" d=\"M1433.14,-90.08C1413.96,-83.84 1391.23,-76.27 1370.88,-69 1353.39,-62.75 1349.87,-58.61 1331.88,-54 1254.32,-34.13 1160.63,-25.03 1109.9,-21.28\"/>\n<polygon fill=\"black\" stroke=\"black\" points=\"1109.96,-17.78 1099.74,-20.56 1109.47,-24.76 1109.96,-17.78\"/>\n<text text-anchor=\"middle\" x=\"1390.88\" y=\"-57.8\" font-family=\"Times New Roman,serif\" font-size=\"14.00\">3.relate</text>\n</g>\n<!-- 4 -->\n<g id=\"node5\" class=\"node\">\n<title>4</title>\n<ellipse fill=\"none\" stroke=\"black\" cx=\"1644.88\" cy=\"-18\" rx=\"32.49\" ry=\"18\"/>\n<text text-anchor=\"middle\" x=\"1644.88\" y=\"-14.3\" font-family=\"Times New Roman,serif\" font-size=\"14.00\">/proc/</text>\n</g>\n<!-- Start&#45;&gt;4 -->\n<g id=\"edge3\" class=\"edge\">\n<title>Start&#45;&gt;4</title>\n<path fill=\"none\" stroke=\"black\" d=\"M1439.4,-89C1421.67,-79.74 1406.6,-67.15 1417.88,-54 1441.14,-26.87 1543.11,-20.58 1602.16,-19.24\"/>\n<polygon fill=\"black\" stroke=\"black\" points=\"1602.38,-22.73 1612.31,-19.05 1602.25,-15.73 1602.38,-22.73\"/>\n<text text-anchor=\"middle\" x=\"1436.38\" y=\"-57.8\" font-family=\"Times New Roman,serif\" font-size=\"14.00\">35.use</text>\n</g>\n<!-- Start&#45;&gt;4 -->\n<g id=\"edge9\" class=\"edge\">\n<title>Start&#45;&gt;4</title>\n<path fill=\"none\" stroke=\"black\" d=\"M1472.28,-86.86C1470.53,-76.24 1470.45,-62.96 1477.88,-54 1493.45,-35.21 1558.17,-26.11 1602.32,-22.01\"/>\n<polygon fill=\"black\" stroke=\"black\" points=\"1602.84,-25.47 1612.5,-21.11 1602.23,-18.5 1602.84,-25.47\"/>\n<text text-anchor=\"middle\" x=\"1496.38\" y=\"-57.8\" font-family=\"Times New Roman,serif\" font-size=\"14.00\">28.call</text>\n</g>\n<!-- Start&#45;&gt;4 -->\n<g id=\"edge17\" class=\"edge\">\n<title>Start&#45;&gt;4</title>\n<path fill=\"none\" stroke=\"black\" d=\"M1493.76,-87.24C1505.35,-76.5 1521.55,-62.95 1537.88,-54 1558.94,-42.46 1584.44,-33.93 1605.26,-28.18\"/>\n<polygon fill=\"black\" stroke=\"black\" points=\"1606.29,-31.53 1615.06,-25.59 1604.5,-24.76 1606.29,-31.53\"/>\n<text text-anchor=\"middle\" x=\"1563.38\" y=\"-57.8\" font-family=\"Times New Roman,serif\" font-size=\"14.00\">14.check</text>\n</g>\n<!-- Start&#45;&gt;4 -->\n<g id=\"edge20\" class=\"edge\">\n<title>Start&#45;&gt;4</title>\n<path fill=\"none\" stroke=\"black\" d=\"M1530.93,-92.13C1549.98,-86.66 1571.07,-79.1 1588.88,-69 1601.58,-61.8 1613.89,-51.32 1623.72,-41.82\"/>\n<polygon fill=\"black\" stroke=\"black\" points=\"1626.45,-44.04 1631.03,-34.48 1621.49,-39.09 1626.45,-44.04\"/>\n<text text-anchor=\"middle\" x=\"1632.88\" y=\"-57.8\" font-family=\"Times New Roman,serif\" font-size=\"14.00\">11.hook</text>\n</g>\n<!-- Start&#45;&gt;4 -->\n<g id=\"edge26\" class=\"edge\">\n<title>Start&#45;&gt;4</title>\n<path fill=\"none\" stroke=\"black\" d=\"M1533.76,-92.69C1543.47,-90.78 1553.46,-88.82 1562.88,-87 1583.97,-82.92 1644.17,-85.55 1657.88,-69 1663.61,-62.07 1662.86,-52.9 1659.83,-44.31\"/>\n<polygon fill=\"black\" stroke=\"black\" points=\"1662.94,-42.69 1655.65,-35 1656.55,-45.56 1662.94,-42.69\"/>\n<text text-anchor=\"middle\" x=\"1684.38\" y=\"-57.8\" font-family=\"Times New Roman,serif\" font-size=\"14.00\">16.have</text>\n</g>\n<!-- Start&#45;&gt;4 -->\n<g id=\"edge34\" class=\"edge\">\n<title>Start&#45;&gt;4</title>\n<path fill=\"none\" stroke=\"black\" d=\"M1532.28,-92.43C1542.44,-90.48 1552.96,-88.59 1562.88,-87 1595.38,-81.81 1688.07,-93.65 1709.88,-69 1722.95,-54.23 1702.85,-40.81 1681.64,-31.6\"/>\n<polygon fill=\"black\" stroke=\"black\" points=\"1682.85,-28.31 1672.26,-27.79 1680.22,-34.8 1682.85,-28.31\"/>\n<text text-anchor=\"middle\" x=\"1743.88\" y=\"-57.8\" font-family=\"Times New Roman,serif\" font-size=\"14.00\">13.contain</text>\n</g>\n<!-- Start&#45;&gt;4 -->\n<g id=\"edge36\" class=\"edge\">\n<title>Start&#45;&gt;4</title>\n<path fill=\"none\" stroke=\"black\" d=\"M1531.78,-92.2C1542.08,-90.26 1552.78,-88.42 1562.88,-87 1586.51,-83.68 1760.73,-86.57 1776.88,-69 1805.45,-37.93 1735.81,-26.03 1687.19,-21.58\"/>\n<polygon fill=\"black\" stroke=\"black\" points=\"1687.44,-18.08 1677.18,-20.73 1686.85,-25.06 1687.44,-18.08\"/>\n<text text-anchor=\"middle\" x=\"1814.38\" y=\"-57.8\" font-family=\"Times New Roman,serif\" font-size=\"14.00\">12.provide</text>\n</g>\n<!-- Start&#45;&gt;4 -->\n<g id=\"edge37\" class=\"edge\">\n<title>Start&#45;&gt;4</title>\n<path fill=\"none\" stroke=\"black\" d=\"M1531.29,-92.12C1541.74,-90.15 1552.61,-88.33 1562.88,-87 1594.45,-82.9 1827.08,-92.21 1848.88,-69 1853.44,-64.14 1853.17,-59.1 1848.88,-54 1828.68,-30.05 1741.35,-22.49 1687.71,-20.1\"/>\n<polygon fill=\"black\" stroke=\"black\" points=\"1687.59,-16.59 1677.46,-19.69 1687.31,-23.59 1687.59,-16.59\"/>\n<text text-anchor=\"middle\" x=\"1876.38\" y=\"-57.8\" font-family=\"Times New Roman,serif\" font-size=\"14.00\">18.name</text>\n</g>\n<!-- 6 -->\n<g id=\"node7\" class=\"node\">\n<title>6</title>\n<ellipse fill=\"none\" stroke=\"black\" cx=\"1989.88\" cy=\"-18\" rx=\"71.49\" ry=\"18\"/>\n<text text-anchor=\"middle\" x=\"1989.88\" y=\"-14.3\" font-family=\"Times New Roman,serif\" font-size=\"14.00\">[a&#45;zA&#45;z]:d{1,5}$</text>\n</g>\n<!-- Start&#45;&gt;6 -->\n<g id=\"edge6\" class=\"edge\">\n<title>Start&#45;&gt;6</title>\n<path fill=\"none\" stroke=\"black\" d=\"M1531.28,-92.03C1541.73,-90.08 1552.61,-88.28 1562.88,-87 1638.18,-77.62 1831.16,-90.68 1903.88,-69 1923.99,-63.01 1944.38,-51.44 1960.26,-40.94\"/>\n<polygon fill=\"black\" stroke=\"black\" points=\"1962.3,-43.79 1968.58,-35.26 1958.35,-38 1962.3,-43.79\"/>\n<text text-anchor=\"middle\" x=\"1973.38\" y=\"-57.8\" font-family=\"Times New Roman,serif\" font-size=\"14.00\">51.download</text>\n</g>\n<!-- Start&#45;&gt;6 -->\n<g id=\"edge32\" class=\"edge\">\n<title>Start&#45;&gt;6</title>\n<path fill=\"none\" stroke=\"black\" d=\"M1530.81,-92.01C1541.39,-90.03 1552.45,-88.23 1562.88,-87 1587.78,-84.06 1996.5,-87.08 2013.88,-69 2020.58,-62.02 2018.32,-52.82 2013.11,-44.21\"/>\n<polygon fill=\"black\" stroke=\"black\" points=\"2015.81,-41.97 2007.12,-35.9 2010.13,-46.06 2015.81,-41.97\"/>\n<text text-anchor=\"middle\" x=\"2041.88\" y=\"-57.8\" font-family=\"Times New Roman,serif\" font-size=\"14.00\">38.fetch</text>\n</g>\n<!-- 7 -->\n<g id=\"node8\" class=\"node\">\n<title>7</title>\n<ellipse fill=\"none\" stroke=\"black\" cx=\"2175.88\" cy=\"-18\" rx=\"57.69\" ry=\"18\"/>\n<text text-anchor=\"middle\" x=\"2175.88\" y=\"-14.3\" font-family=\"Times New Roman,serif\" font-size=\"14.00\">/proc/rs_dev</text>\n</g>\n<!-- Start&#45;&gt;7 -->\n<g id=\"edge7\" class=\"edge\">\n<title>Start&#45;&gt;7</title>\n<path fill=\"none\" stroke=\"black\" d=\"M1530.8,-91.97C1541.39,-90 1552.45,-88.21 1562.88,-87 1674.64,-74.05 1959.49,-95.35 2068.88,-69 2094.46,-62.84 2121.29,-50.29 2141.68,-39.3\"/>\n<polygon fill=\"black\" stroke=\"black\" points=\"2143.5,-42.29 2150.57,-34.39 2140.12,-36.16 2143.5,-42.29\"/>\n<text text-anchor=\"middle\" x=\"2130.38\" y=\"-57.8\" font-family=\"Times New Roman,serif\" font-size=\"14.00\">36.use</text>\n</g>\n<!-- Start&#45;&gt;7 -->\n<g id=\"edge29\" class=\"edge\">\n<title>Start&#45;&gt;7</title>\n<path fill=\"none\" stroke=\"black\" d=\"M1530.8,-91.93C1541.39,-89.96 1552.44,-88.18 1562.88,-87 1595.46,-83.31 2125.54,-87.11 2152.88,-69 2160.86,-63.71 2166.12,-54.89 2169.57,-46.12\"/>\n<polygon fill=\"black\" stroke=\"black\" points=\"2172.95,-47.03 2172.73,-36.43 2166.3,-44.85 2172.95,-47.03\"/>\n<text text-anchor=\"middle\" x=\"2187.38\" y=\"-57.8\" font-family=\"Times New Roman,serif\" font-size=\"14.00\">17.have</text>\n</g>\n<!-- 8 -->\n<g id=\"node9\" class=\"node\">\n<title>8</title>\n<ellipse fill=\"none\" stroke=\"black\" cx=\"2344.88\" cy=\"-18\" rx=\"42.79\" ry=\"18\"/>\n<text text-anchor=\"middle\" x=\"2344.88\" y=\"-14.3\" font-family=\"Times New Roman,serif\" font-size=\"14.00\">/etc/cron</text>\n</g>\n<!-- Start&#45;&gt;8 -->\n<g id=\"edge13\" class=\"edge\">\n<title>Start&#45;&gt;8</title>\n<path fill=\"none\" stroke=\"black\" d=\"M1530.8,-91.91C1541.38,-89.94 1552.44,-88.17 1562.88,-87 1706.48,-70.93 2071.11,-96.98 2212.88,-69 2246.35,-62.39 2282.45,-48.19 2308.43,-36.6\"/>\n<polygon fill=\"black\" stroke=\"black\" points=\"2310.2,-39.63 2317.86,-32.31 2307.31,-33.26 2310.2,-39.63\"/>\n<text text-anchor=\"middle\" x=\"2290.88\" y=\"-57.8\" font-family=\"Times New Roman,serif\" font-size=\"14.00\">22.delete</text>\n</g>\n<!-- Start&#45;&gt;8 -->\n<g id=\"edge31\" class=\"edge\">\n<title>Start&#45;&gt;8</title>\n<path fill=\"none\" stroke=\"black\" d=\"M1530.33,-91.96C1541.06,-89.96 1552.29,-88.16 1562.88,-87 1604.69,-82.4 2284.36,-91.54 2319.88,-69 2328.3,-63.65 2333.99,-54.54 2337.79,-45.54\"/>\n<polygon fill=\"black\" stroke=\"black\" points=\"2341.12,-46.6 2341.2,-36.01 2334.53,-44.25 2341.12,-46.6\"/>\n<text text-anchor=\"middle\" x=\"2355.38\" y=\"-57.8\" font-family=\"Times New Roman,serif\" font-size=\"14.00\">21.pass</text>\n</g>\n<!-- Start&#45;&gt;8 -->\n<g id=\"edge40\" class=\"edge\">\n<title>Start&#45;&gt;8</title>\n<path fill=\"none\" stroke=\"black\" d=\"M1530.33,-91.95C1541.06,-89.95 1552.29,-88.15 1562.88,-87 1585.47,-84.54 2364.98,-85.25 2380.88,-69 2389.28,-60.41 2383.37,-49.73 2374.1,-40.45\"/>\n<polygon fill=\"black\" stroke=\"black\" points=\"2376.32,-37.73 2366.53,-33.68 2371.65,-42.95 2376.32,-37.73\"/>\n<text text-anchor=\"middle\" x=\"2408.38\" y=\"-57.8\" font-family=\"Times New Roman,serif\" font-size=\"14.00\">49.drop</text>\n</g>\n<!-- 9 -->\n<g id=\"node10\" class=\"node\">\n<title>9</title>\n<ellipse fill=\"none\" stroke=\"black\" cx=\"2540.88\" cy=\"-18\" rx=\"55.49\" ry=\"18\"/>\n<text text-anchor=\"middle\" x=\"2540.88\" y=\"-14.3\" font-family=\"Times New Roman,serif\" font-size=\"14.00\">^chkconfig$</text>\n</g>\n<!-- Start&#45;&gt;9 -->\n<g id=\"edge15\" class=\"edge\">\n<title>Start&#45;&gt;9</title>\n<path fill=\"none\" stroke=\"black\" d=\"M1530.33,-91.93C1541.06,-89.94 1552.29,-88.15 1562.88,-87 1659.22,-76.56 2340.53,-91.16 2434.88,-69 2460.47,-62.99 2487.23,-50.31 2507.46,-39.22\"/>\n<polygon fill=\"black\" stroke=\"black\" points=\"2509.27,-42.22 2516.27,-34.27 2505.84,-36.12 2509.27,-42.22\"/>\n<text text-anchor=\"middle\" x=\"2497.38\" y=\"-57.8\" font-family=\"Times New Roman,serif\" font-size=\"14.00\">25.add</text>\n</g>\n<!-- Start&#45;&gt;9 -->\n<g id=\"edge25\" class=\"edge\">\n<title>Start&#45;&gt;9</title>\n<path fill=\"none\" stroke=\"black\" d=\"M1530.33,-91.92C1541.05,-89.92 1552.28,-88.14 1562.88,-87 1615.69,-81.33 2474.67,-98.45 2518.88,-69 2526.79,-63.73 2531.88,-54.92 2535.14,-46.15\"/>\n<polygon fill=\"black\" stroke=\"black\" points=\"2538.53,-47.04 2538.11,-36.45 2531.84,-44.99 2538.53,-47.04\"/>\n<text text-anchor=\"middle\" x=\"2563.38\" y=\"-57.8\" font-family=\"Times New Roman,serif\" font-size=\"14.00\">33.perform</text>\n</g>\n<!-- Start&#45;&gt;9 -->\n<g id=\"edge28\" class=\"edge\">\n<title>Start&#45;&gt;9</title>\n<path fill=\"none\" stroke=\"black\" d=\"M1530.33,-91.91C1541.05,-89.91 1552.28,-88.13 1562.88,-87 1591.5,-83.95 2578.7,-89.53 2598.88,-69 2609.81,-57.88 2598.55,-46.45 2583.14,-37.34\"/>\n<polygon fill=\"black\" stroke=\"black\" points=\"2584.72,-34.22 2574.26,-32.53 2581.39,-40.37 2584.72,-34.22\"/>\n<text text-anchor=\"middle\" x=\"2628.38\" y=\"-57.8\" font-family=\"Times New Roman,serif\" font-size=\"14.00\">27.install</text>\n</g>\n<!-- 10 -->\n<g id=\"node11\" class=\"node\">\n<title>10</title>\n<ellipse fill=\"none\" stroke=\"black\" cx=\"2698.88\" cy=\"-18\" rx=\"27.1\" ry=\"18\"/>\n<text text-anchor=\"middle\" x=\"2698.88\" y=\"-14.3\" font-family=\"Times New Roman,serif\" font-size=\"14.00\">^sh$</text>\n</g>\n<!-- Start&#45;&gt;10 -->\n<g id=\"edge21\" class=\"edge\">\n<title>Start&#45;&gt;10</title>\n<path fill=\"none\" stroke=\"black\" d=\"M1530.33,-91.9C1541.05,-89.91 1552.28,-88.13 1562.88,-87 1623.32,-80.58 2601.99,-95.13 2656.88,-69 2668.28,-63.57 2677.71,-53.4 2684.72,-43.65\"/>\n<polygon fill=\"black\" stroke=\"black\" points=\"2687.65,-45.58 2690.26,-35.31 2681.81,-41.7 2687.65,-45.58\"/>\n<text text-anchor=\"middle\" x=\"2696.88\" y=\"-57.8\" font-family=\"Times New Roman,serif\" font-size=\"14.00\">34.find</text>\n</g>\n<!-- 11 -->\n<g id=\"node12\" class=\"node\">\n<title>11</title>\n<ellipse fill=\"none\" stroke=\"black\" cx=\"2799.88\" cy=\"-18\" rx=\"46.59\" ry=\"18\"/>\n<text text-anchor=\"middle\" x=\"2799.88\" y=\"-14.3\" font-family=\"Times New Roman,serif\" font-size=\"14.00\">GID($|.|$)</text>\n</g>\n<!-- Start&#45;&gt;11 -->\n<g id=\"edge23\" class=\"edge\">\n<title>Start&#45;&gt;11</title>\n<path fill=\"none\" stroke=\"black\" d=\"M1530.32,-91.89C1541.05,-89.9 1552.28,-88.12 1562.88,-87 1626.86,-80.23 2659.22,-87.39 2720.88,-69 2739.99,-63.3 2758.96,-51.55 2773.51,-40.87\"/>\n<polygon fill=\"black\" stroke=\"black\" points=\"2775.7,-43.61 2781.54,-34.76 2771.46,-38.03 2775.7,-43.61\"/>\n<text text-anchor=\"middle\" x=\"2783.88\" y=\"-57.8\" font-family=\"Times New Roman,serif\" font-size=\"14.00\">45.execute</text>\n</g>\n<!-- Start&#45;&gt;11 -->\n<g id=\"edge27\" class=\"edge\">\n<title>Start&#45;&gt;11</title>\n<path fill=\"none\" stroke=\"black\" d=\"M1530.32,-91.88C1541.05,-89.89 1552.28,-88.11 1562.88,-87 1597.55,-83.35 2793.4,-93.83 2817.88,-69 2824.51,-62.27 2822.96,-52.92 2818.7,-44.13\"/>\n<polygon fill=\"black\" stroke=\"black\" points=\"2821.6,-42.15 2813.52,-35.3 2815.56,-45.69 2821.6,-42.15\"/>\n<text text-anchor=\"middle\" x=\"2847.88\" y=\"-57.8\" font-family=\"Times New Roman,serif\" font-size=\"14.00\">10.assign</text>\n</g>\n<!-- 12 -->\n<g id=\"node13\" class=\"node\">\n<title>12</title>\n<ellipse fill=\"none\" stroke=\"black\" cx=\"2919.88\" cy=\"-18\" rx=\"46.59\" ry=\"18\"/>\n<text text-anchor=\"middle\" x=\"2919.88\" y=\"-14.3\" font-family=\"Times New Roman,serif\" font-size=\"14.00\">/etc/init.d/</text>\n</g>\n<!-- Start&#45;&gt;12 -->\n<g id=\"edge35\" class=\"edge\">\n<title>Start&#45;&gt;12</title>\n<path fill=\"none\" stroke=\"black\" d=\"M1530.32,-91.88C1541.05,-89.88 1552.28,-88.11 1562.88,-87 1635.54,-79.38 2811.86,-100.31 2877.88,-69 2889.01,-63.72 2898.27,-53.9 2905.23,-44.36\"/>\n<polygon fill=\"black\" stroke=\"black\" points=\"2908.3,-46.06 2910.96,-35.81 2902.48,-42.17 2908.3,-46.06\"/>\n<text text-anchor=\"middle\" x=\"2919.38\" y=\"-57.8\" font-family=\"Times New Roman,serif\" font-size=\"14.00\">20.drop</text>\n</g>\n<!-- 5 -->\n<g id=\"node6\" class=\"node\">\n<title>5</title>\n<ellipse fill=\"none\" stroke=\"black\" cx=\"1605.88\" cy=\"-105\" rx=\"33.6\" ry=\"18\"/>\n<text text-anchor=\"middle\" x=\"1605.88\" y=\"-101.3\" font-family=\"Times New Roman,serif\" font-size=\"14.00\">/etc/rc</text>\n</g>\n<!-- 13 -->\n<g id=\"node14\" class=\"node\">\n<title>13</title>\n<ellipse fill=\"none\" stroke=\"black\" cx=\"1709.88\" cy=\"-105\" rx=\"52.79\" ry=\"18\"/>\n<text text-anchor=\"middle\" x=\"1709.88\" y=\"-101.3\" font-family=\"Times New Roman,serif\" font-size=\"14.00\">update&#45;rc.d</text>\n</g>\n<!-- 14 -->\n<g id=\"node15\" class=\"node\">\n<title>14</title>\n<ellipse fill=\"none\" stroke=\"black\" cx=\"1830.88\" cy=\"-105\" rx=\"50.09\" ry=\"18\"/>\n<text text-anchor=\"middle\" x=\"1830.88\" y=\"-101.3\" font-family=\"Times New Roman,serif\" font-size=\"14.00\">mem_addr</text>\n</g>\n</g>\n</svg>\n",
      "text/plain": [
       "<graphviz.graphs.Digraph at 0x1b024c46f50>"
      ]
     },
     "metadata": {},
     "output_type": "display_data"
    },
    {
     "name": "stdout",
     "output_type": "stream",
     "text": [
      "Xorddos-Trendmicro.csv raw doc OPset\n"
     ]
    },
    {
     "data": {
      "image/svg+xml": "<?xml version=\"1.0\" encoding=\"UTF-8\" standalone=\"no\"?>\n<!DOCTYPE svg PUBLIC \"-//W3C//DTD SVG 1.1//EN\"\n \"http://www.w3.org/Graphics/SVG/1.1/DTD/svg11.dtd\">\n<!-- Generated by graphviz version 6.0.1 (20220911.1526)\n -->\n<!-- Pages: 1 -->\n<svg width=\"474pt\" height=\"131pt\"\n viewBox=\"0.00 0.00 474.49 131.00\" xmlns=\"http://www.w3.org/2000/svg\" xmlns:xlink=\"http://www.w3.org/1999/xlink\">\n<g id=\"graph0\" class=\"graph\" transform=\"scale(1 1) rotate(0) translate(4 127)\">\n<polygon fill=\"white\" stroke=\"none\" points=\"-4,4 -4,-127 470.49,-127 470.49,4 -4,4\"/>\n<!-- Start -->\n<g id=\"node1\" class=\"node\">\n<title>Start</title>\n<ellipse fill=\"none\" stroke=\"black\" cx=\"143\" cy=\"-105\" rx=\"77.19\" ry=\"18\"/>\n<text text-anchor=\"middle\" x=\"143\" y=\"-101.3\" font-family=\"Times New Roman,serif\" font-size=\"14.00\">Malware (Subject)</text>\n</g>\n<!-- 2 -->\n<g id=\"node3\" class=\"node\">\n<title>2</title>\n<ellipse fill=\"none\" stroke=\"black\" cx=\"27\" cy=\"-18\" rx=\"27\" ry=\"18\"/>\n<text text-anchor=\"middle\" x=\"27\" y=\"-14.3\" font-family=\"Times New Roman,serif\" font-size=\"14.00\">/var/</text>\n</g>\n<!-- Start&#45;&gt;2 -->\n<g id=\"edge1\" class=\"edge\">\n<title>Start&#45;&gt;2</title>\n<path fill=\"none\" stroke=\"black\" d=\"M111.29,-88.39C100.98,-82.79 89.69,-76.09 80,-69 68.67,-60.71 57.21,-50.22 47.86,-40.99\"/>\n<polygon fill=\"black\" stroke=\"black\" points=\"50.07,-38.25 40.55,-33.6 45.1,-43.17 50.07,-38.25\"/>\n<text text-anchor=\"middle\" x=\"97.5\" y=\"-57.8\" font-family=\"Times New Roman,serif\" font-size=\"14.00\">6.read</text>\n</g>\n<!-- 4 -->\n<g id=\"node5\" class=\"node\">\n<title>4</title>\n<ellipse fill=\"none\" stroke=\"black\" cx=\"99\" cy=\"-18\" rx=\"27.1\" ry=\"18\"/>\n<text text-anchor=\"middle\" x=\"99\" y=\"-14.3\" font-family=\"Times New Roman,serif\" font-size=\"14.00\">/run/</text>\n</g>\n<!-- Start&#45;&gt;4 -->\n<g id=\"edge2\" class=\"edge\">\n<title>Start&#45;&gt;4</title>\n<path fill=\"none\" stroke=\"black\" d=\"M134.1,-86.8C127.77,-74.58 119.18,-57.98 112.07,-44.26\"/>\n<polygon fill=\"black\" stroke=\"black\" points=\"115.15,-42.58 107.44,-35.31 108.93,-45.8 115.15,-42.58\"/>\n<text text-anchor=\"middle\" x=\"141.5\" y=\"-57.8\" font-family=\"Times New Roman,serif\" font-size=\"14.00\">5.read</text>\n</g>\n<!-- 5 -->\n<g id=\"node6\" class=\"node\">\n<title>5</title>\n<ellipse fill=\"none\" stroke=\"black\" cx=\"187\" cy=\"-18\" rx=\"42.79\" ry=\"18\"/>\n<text text-anchor=\"middle\" x=\"187\" y=\"-14.3\" font-family=\"Times New Roman,serif\" font-size=\"14.00\">/etc/cron</text>\n</g>\n<!-- Start&#45;&gt;5 -->\n<g id=\"edge3\" class=\"edge\">\n<title>Start&#45;&gt;5</title>\n<path fill=\"none\" stroke=\"black\" d=\"M153.01,-87.05C156.28,-81.36 159.88,-74.95 163,-69 167.07,-61.24 171.28,-52.68 175.02,-44.87\"/>\n<polygon fill=\"black\" stroke=\"black\" points=\"178.19,-46.35 179.3,-35.82 171.86,-43.36 178.19,-46.35\"/>\n<text text-anchor=\"middle\" x=\"190\" y=\"-57.8\" font-family=\"Times New Roman,serif\" font-size=\"14.00\">1.drop</text>\n</g>\n<!-- 6 -->\n<g id=\"node7\" class=\"node\">\n<title>6</title>\n<ellipse fill=\"none\" stroke=\"black\" cx=\"289\" cy=\"-18\" rx=\"40.89\" ry=\"18\"/>\n<text text-anchor=\"middle\" x=\"289\" y=\"-14.3\" font-family=\"Times New Roman,serif\" font-size=\"14.00\">/var/run/</text>\n</g>\n<!-- Start&#45;&gt;6 -->\n<g id=\"edge4\" class=\"edge\">\n<title>Start&#45;&gt;6</title>\n<path fill=\"none\" stroke=\"black\" d=\"M175.83,-88.58C187.71,-82.74 201.11,-75.85 213,-69 228.72,-59.94 245.63,-48.95 259.5,-39.58\"/>\n<polygon fill=\"black\" stroke=\"black\" points=\"261.84,-42.22 268.13,-33.69 257.89,-36.44 261.84,-42.22\"/>\n<text text-anchor=\"middle\" x=\"253.5\" y=\"-57.8\" font-family=\"Times New Roman,serif\" font-size=\"14.00\">4.read</text>\n</g>\n<!-- 1 -->\n<g id=\"node2\" class=\"node\">\n<title>1</title>\n<ellipse fill=\"none\" stroke=\"black\" cx=\"272\" cy=\"-105\" rx=\"33.6\" ry=\"18\"/>\n<text text-anchor=\"middle\" x=\"272\" y=\"-101.3\" font-family=\"Times New Roman,serif\" font-size=\"14.00\">/etc/rc</text>\n</g>\n<!-- 3 -->\n<g id=\"node4\" class=\"node\">\n<title>3</title>\n<ellipse fill=\"none\" stroke=\"black\" cx=\"395\" cy=\"-105\" rx=\"71.49\" ry=\"18\"/>\n<text text-anchor=\"middle\" x=\"395\" y=\"-101.3\" font-family=\"Times New Roman,serif\" font-size=\"14.00\">[a&#45;zA&#45;z]:d{1,5}$</text>\n</g>\n</g>\n</svg>\n",
      "text/plain": [
       "<graphviz.graphs.Digraph at 0x1b02450ea40>"
      ]
     },
     "metadata": {},
     "output_type": "display_data"
    },
    {
     "name": "stdout",
     "output_type": "stream",
     "text": [
      "Xorddos-Trendmicro.csv matched doc OPset\n"
     ]
    },
    {
     "data": {
      "image/svg+xml": "<?xml version=\"1.0\" encoding=\"UTF-8\" standalone=\"no\"?>\n<!DOCTYPE svg PUBLIC \"-//W3C//DTD SVG 1.1//EN\"\n \"http://www.w3.org/Graphics/SVG/1.1/DTD/svg11.dtd\">\n<!-- Generated by graphviz version 6.0.1 (20220911.1526)\n -->\n<!-- Pages: 1 -->\n<svg width=\"338pt\" height=\"131pt\"\n viewBox=\"0.00 0.00 338.24 131.00\" xmlns=\"http://www.w3.org/2000/svg\" xmlns:xlink=\"http://www.w3.org/1999/xlink\">\n<g id=\"graph0\" class=\"graph\" transform=\"scale(1 1) rotate(0) translate(4 127)\">\n<polygon fill=\"white\" stroke=\"none\" points=\"-4,4 -4,-127 334.24,-127 334.24,4 -4,4\"/>\n<!-- Start -->\n<g id=\"node1\" class=\"node\">\n<title>Start</title>\n<ellipse fill=\"none\" stroke=\"black\" cx=\"159.3\" cy=\"-105\" rx=\"77.19\" ry=\"18\"/>\n<text text-anchor=\"middle\" x=\"159.3\" y=\"-101.3\" font-family=\"Times New Roman,serif\" font-size=\"14.00\">Malware (Subject)</text>\n</g>\n<!-- 1 -->\n<g id=\"node2\" class=\"node\">\n<title>1</title>\n<ellipse fill=\"none\" stroke=\"black\" cx=\"27.3\" cy=\"-18\" rx=\"27.1\" ry=\"18\"/>\n<text text-anchor=\"middle\" x=\"27.3\" y=\"-14.3\" font-family=\"Times New Roman,serif\" font-size=\"14.00\">/run/</text>\n</g>\n<!-- Start&#45;&gt;1 -->\n<g id=\"edge1\" class=\"edge\">\n<title>Start&#45;&gt;1</title>\n<path fill=\"none\" stroke=\"black\" d=\"M129.38,-88.34C118.77,-82.53 106.85,-75.72 96.3,-69 81.5,-59.57 65.6,-48.15 52.79,-38.6\"/>\n<polygon fill=\"black\" stroke=\"black\" points=\"54.57,-35.55 44.48,-32.33 50.36,-41.15 54.57,-35.55\"/>\n<text text-anchor=\"middle\" x=\"113.8\" y=\"-57.8\" font-family=\"Times New Roman,serif\" font-size=\"14.00\">5.read</text>\n</g>\n<!-- 2 -->\n<g id=\"node3\" class=\"node\">\n<title>2</title>\n<ellipse fill=\"none\" stroke=\"black\" cx=\"115.3\" cy=\"-18\" rx=\"42.79\" ry=\"18\"/>\n<text text-anchor=\"middle\" x=\"115.3\" y=\"-14.3\" font-family=\"Times New Roman,serif\" font-size=\"14.00\">/etc/cron</text>\n</g>\n<!-- Start&#45;&gt;2 -->\n<g id=\"edge2\" class=\"edge\">\n<title>Start&#45;&gt;2</title>\n<path fill=\"none\" stroke=\"black\" d=\"M150.39,-86.8C144.15,-74.74 135.69,-58.4 128.65,-44.79\"/>\n<polygon fill=\"black\" stroke=\"black\" points=\"131.74,-43.16 124.04,-35.89 125.53,-46.38 131.74,-43.16\"/>\n<text text-anchor=\"middle\" x=\"159.3\" y=\"-57.8\" font-family=\"Times New Roman,serif\" font-size=\"14.00\">1.drop</text>\n</g>\n<!-- 3 -->\n<g id=\"node4\" class=\"node\">\n<title>3</title>\n<ellipse fill=\"none\" stroke=\"black\" cx=\"203.3\" cy=\"-18\" rx=\"27\" ry=\"18\"/>\n<text text-anchor=\"middle\" x=\"203.3\" y=\"-14.3\" font-family=\"Times New Roman,serif\" font-size=\"14.00\">/var/</text>\n</g>\n<!-- Start&#45;&gt;3 -->\n<g id=\"edge3\" class=\"edge\">\n<title>Start&#45;&gt;3</title>\n<path fill=\"none\" stroke=\"black\" d=\"M170.78,-86.85C174.33,-81.26 178.14,-74.96 181.3,-69 185.36,-61.34 189.33,-52.78 192.75,-44.93\"/>\n<polygon fill=\"black\" stroke=\"black\" points=\"196.07,-46.07 196.76,-35.5 189.62,-43.33 196.07,-46.07\"/>\n<text text-anchor=\"middle\" x=\"206.8\" y=\"-57.8\" font-family=\"Times New Roman,serif\" font-size=\"14.00\">6.read</text>\n</g>\n<!-- 4 -->\n<g id=\"node5\" class=\"node\">\n<title>4</title>\n<ellipse fill=\"none\" stroke=\"black\" cx=\"289.3\" cy=\"-18\" rx=\"40.89\" ry=\"18\"/>\n<text text-anchor=\"middle\" x=\"289.3\" y=\"-14.3\" font-family=\"Times New Roman,serif\" font-size=\"14.00\">/var/run/</text>\n</g>\n<!-- Start&#45;&gt;4 -->\n<g id=\"edge4\" class=\"edge\">\n<title>Start&#45;&gt;4</title>\n<path fill=\"none\" stroke=\"black\" d=\"M193.11,-88.68C204.58,-83.01 217.27,-76.19 228.3,-69 240.91,-60.77 253.94,-50.39 264.71,-41.22\"/>\n<polygon fill=\"black\" stroke=\"black\" points=\"267.19,-43.69 272.45,-34.5 262.61,-38.41 267.19,-43.69\"/>\n<text text-anchor=\"middle\" x=\"264.8\" y=\"-57.8\" font-family=\"Times New Roman,serif\" font-size=\"14.00\">4.read</text>\n</g>\n</g>\n</svg>\n",
      "text/plain": [
       "<graphviz.graphs.Digraph at 0x1b024c46f50>"
      ]
     },
     "metadata": {},
     "output_type": "display_data"
    },
    {
     "name": "stdout",
     "output_type": "stream",
     "text": [
      "matched ASG OPset for doc Xorddos-Trendmicro.csv\n"
     ]
    },
    {
     "data": {
      "image/svg+xml": "<?xml version=\"1.0\" encoding=\"UTF-8\" standalone=\"no\"?>\n<!DOCTYPE svg PUBLIC \"-//W3C//DTD SVG 1.1//EN\"\n \"http://www.w3.org/Graphics/SVG/1.1/DTD/svg11.dtd\">\n<!-- Generated by graphviz version 6.0.1 (20220911.1526)\n -->\n<!-- Pages: 1 -->\n<svg width=\"753pt\" height=\"131pt\"\n viewBox=\"0.00 0.00 752.95 131.00\" xmlns=\"http://www.w3.org/2000/svg\" xmlns:xlink=\"http://www.w3.org/1999/xlink\">\n<g id=\"graph0\" class=\"graph\" transform=\"scale(1 1) rotate(0) translate(4 127)\">\n<polygon fill=\"white\" stroke=\"none\" points=\"-4,4 -4,-127 748.95,-127 748.95,4 -4,4\"/>\n<!-- Start -->\n<g id=\"node1\" class=\"node\">\n<title>Start</title>\n<ellipse fill=\"none\" stroke=\"black\" cx=\"364.95\" cy=\"-105\" rx=\"77.19\" ry=\"18\"/>\n<text text-anchor=\"middle\" x=\"364.95\" y=\"-101.3\" font-family=\"Times New Roman,serif\" font-size=\"14.00\">Malware (Subject)</text>\n</g>\n<!-- 1 -->\n<g id=\"node2\" class=\"node\">\n<title>1</title>\n<ellipse fill=\"none\" stroke=\"black\" cx=\"40.95\" cy=\"-18\" rx=\"40.89\" ry=\"18\"/>\n<text text-anchor=\"middle\" x=\"40.95\" y=\"-14.3\" font-family=\"Times New Roman,serif\" font-size=\"14.00\">/var/run/</text>\n</g>\n<!-- Start&#45;&gt;1 -->\n<g id=\"edge1\" class=\"edge\">\n<title>Start&#45;&gt;1</title>\n<path fill=\"none\" stroke=\"black\" d=\"M288.59,-101.94C188.57,-98.43 23.62,-89.58 4.95,-69 -3.13,-60.1 2.82,-49.38 12.04,-40.15\"/>\n<polygon fill=\"black\" stroke=\"black\" points=\"14.42,-42.72 19.54,-33.44 9.75,-37.5 14.42,-42.72\"/>\n<text text-anchor=\"middle\" x=\"30.45\" y=\"-57.8\" font-family=\"Times New Roman,serif\" font-size=\"14.00\">50.stat64</text>\n</g>\n<!-- Start&#45;&gt;1 -->\n<g id=\"edge3\" class=\"edge\">\n<title>Start&#45;&gt;1</title>\n<path fill=\"none\" stroke=\"black\" d=\"M291.1,-99.59C223.11,-94.62 127.82,-85.04 93.95,-69 81.14,-62.93 69.39,-52.6 60.22,-42.89\"/>\n<polygon fill=\"black\" stroke=\"black\" points=\"62.74,-40.45 53.46,-35.34 57.52,-45.12 62.74,-40.45\"/>\n<text text-anchor=\"middle\" x=\"116.95\" y=\"-57.8\" font-family=\"Times New Roman,serif\" font-size=\"14.00\">57.lseek</text>\n</g>\n<!-- 2 -->\n<g id=\"node3\" class=\"node\">\n<title>2</title>\n<ellipse fill=\"none\" stroke=\"black\" cx=\"214.95\" cy=\"-18\" rx=\"42.79\" ry=\"18\"/>\n<text text-anchor=\"middle\" x=\"214.95\" y=\"-14.3\" font-family=\"Times New Roman,serif\" font-size=\"14.00\">/etc/cron</text>\n</g>\n<!-- Start&#45;&gt;2 -->\n<g id=\"edge2\" class=\"edge\">\n<title>Start&#45;&gt;2</title>\n<path fill=\"none\" stroke=\"black\" d=\"M288.62,-101.88C233.58,-98.55 165.95,-90.14 147.95,-69 135.87,-54.82 152.74,-42.29 172.57,-33.32\"/>\n<polygon fill=\"black\" stroke=\"black\" points=\"173.93,-36.55 181.8,-29.46 171.22,-30.09 173.93,-36.55\"/>\n<text text-anchor=\"middle\" x=\"170.45\" y=\"-57.8\" font-family=\"Times New Roman,serif\" font-size=\"14.00\">18.write</text>\n</g>\n<!-- Start&#45;&gt;2 -->\n<g id=\"edge9\" class=\"edge\">\n<title>Start&#45;&gt;2</title>\n<path fill=\"none\" stroke=\"black\" d=\"M297.25,-96.22C263.02,-90.77 226.51,-82.07 215.95,-69 210.8,-62.64 209.31,-54.19 209.48,-46.05\"/>\n<polygon fill=\"black\" stroke=\"black\" points=\"212.96,-46.37 210.43,-36.08 205.99,-45.7 212.96,-46.37\"/>\n<text text-anchor=\"middle\" x=\"244.95\" y=\"-57.8\" font-family=\"Times New Roman,serif\" font-size=\"14.00\">48.rename</text>\n</g>\n<!-- Start&#45;&gt;2 -->\n<g id=\"edge11\" class=\"edge\">\n<title>Start&#45;&gt;2</title>\n<path fill=\"none\" stroke=\"black\" d=\"M336.73,-88.01C311.68,-73.82 275.03,-53.05 248.49,-38.01\"/>\n<polygon fill=\"black\" stroke=\"black\" points=\"249.98,-34.83 239.56,-32.95 246.53,-40.92 249.98,-34.83\"/>\n<text text-anchor=\"middle\" x=\"321.95\" y=\"-57.8\" font-family=\"Times New Roman,serif\" font-size=\"14.00\">16.open</text>\n</g>\n<!-- 3 -->\n<g id=\"node4\" class=\"node\">\n<title>3</title>\n<ellipse fill=\"none\" stroke=\"black\" cx=\"397.95\" cy=\"-18\" rx=\"27\" ry=\"18\"/>\n<text text-anchor=\"middle\" x=\"397.95\" y=\"-14.3\" font-family=\"Times New Roman,serif\" font-size=\"14.00\">/var/</text>\n</g>\n<!-- Start&#45;&gt;3 -->\n<g id=\"edge4\" class=\"edge\">\n<title>Start&#45;&gt;3</title>\n<path fill=\"none\" stroke=\"black\" d=\"M362.35,-86.74C361.57,-76.82 361.82,-64.32 365.95,-54 367.92,-49.06 370.94,-44.39 374.34,-40.16\"/>\n<polygon fill=\"black\" stroke=\"black\" points=\"377.06,-42.37 381.2,-32.62 371.88,-37.66 377.06,-42.37\"/>\n<text text-anchor=\"middle\" x=\"387.95\" y=\"-57.8\" font-family=\"Times New Roman,serif\" font-size=\"14.00\">3.stat64</text>\n</g>\n<!-- Start&#45;&gt;3 -->\n<g id=\"edge6\" class=\"edge\">\n<title>Start&#45;&gt;3</title>\n<path fill=\"none\" stroke=\"black\" d=\"M393.64,-87.95C400.19,-82.8 406.29,-76.47 409.95,-69 413.59,-61.56 413.01,-52.94 410.8,-44.98\"/>\n<polygon fill=\"black\" stroke=\"black\" points=\"414.01,-43.58 407.31,-35.38 407.43,-45.97 414.01,-43.58\"/>\n<text text-anchor=\"middle\" x=\"435.95\" y=\"-57.8\" font-family=\"Times New Roman,serif\" font-size=\"14.00\">58.lseek</text>\n</g>\n<!-- 4 -->\n<g id=\"node5\" class=\"node\">\n<title>4</title>\n<ellipse fill=\"none\" stroke=\"black\" cx=\"608.95\" cy=\"-18\" rx=\"27.1\" ry=\"18\"/>\n<text text-anchor=\"middle\" x=\"608.95\" y=\"-14.3\" font-family=\"Times New Roman,serif\" font-size=\"14.00\">/run/</text>\n</g>\n<!-- Start&#45;&gt;4 -->\n<g id=\"edge5\" class=\"edge\">\n<title>Start&#45;&gt;4</title>\n<path fill=\"none\" stroke=\"black\" d=\"M406.03,-89.58C423.6,-83.34 444.31,-75.91 462.95,-69 480.36,-62.54 484.45,-60.22 501.95,-54 526.16,-45.39 553.73,-36.39 574.82,-29.67\"/>\n<polygon fill=\"black\" stroke=\"black\" points=\"576.13,-32.93 584.6,-26.57 574.01,-26.26 576.13,-32.93\"/>\n<text text-anchor=\"middle\" x=\"527.45\" y=\"-57.8\" font-family=\"Times New Roman,serif\" font-size=\"14.00\">49.stat64</text>\n</g>\n<!-- Start&#45;&gt;4 -->\n<g id=\"edge7\" class=\"edge\">\n<title>Start&#45;&gt;4</title>\n<path fill=\"none\" stroke=\"black\" d=\"M438.83,-99.56C474.73,-95.13 517.63,-86.34 552.95,-69 566.56,-62.32 579.36,-51.38 589.28,-41.44\"/>\n<polygon fill=\"black\" stroke=\"black\" points=\"591.9,-43.77 596.27,-34.12 586.84,-38.93 591.9,-43.77\"/>\n<text text-anchor=\"middle\" x=\"598.95\" y=\"-57.8\" font-family=\"Times New Roman,serif\" font-size=\"14.00\">56.lseek</text>\n</g>\n<!-- Start&#45;&gt;4 -->\n<g id=\"edge8\" class=\"edge\">\n<title>Start&#45;&gt;4</title>\n<path fill=\"none\" stroke=\"black\" d=\"M442.35,-104.24C509.33,-102.6 598.96,-95.33 621.95,-69 628.01,-62.05 627.11,-52.62 623.85,-43.82\"/>\n<polygon fill=\"black\" stroke=\"black\" points=\"627,-42.28 619.62,-34.67 620.64,-45.21 627,-42.28\"/>\n<text text-anchor=\"middle\" x=\"644.45\" y=\"-57.8\" font-family=\"Times New Roman,serif\" font-size=\"14.00\">33.stat</text>\n</g>\n<!-- Start&#45;&gt;4 -->\n<g id=\"edge10\" class=\"edge\">\n<title>Start&#45;&gt;4</title>\n<path fill=\"none\" stroke=\"black\" d=\"M439.99,-100.43C524.5,-95.63 652.07,-85.7 666.95,-69 679.39,-55.03 660.63,-41.31 641.21,-31.79\"/>\n<polygon fill=\"black\" stroke=\"black\" points=\"642.6,-28.58 632.06,-27.6 639.69,-34.94 642.6,-28.58\"/>\n<text text-anchor=\"middle\" x=\"707.95\" y=\"-57.8\" font-family=\"Times New Roman,serif\" font-size=\"14.00\">70.newfstatat</text>\n</g>\n</g>\n</svg>\n",
      "text/plain": [
       "<graphviz.graphs.Digraph at 0x1b02450ea40>"
      ]
     },
     "metadata": {},
     "output_type": "display_data"
    },
    {
     "name": "stdout",
     "output_type": "stream",
     "text": [
      "Xorddos-Trendmicro2.csv raw doc OPset\n"
     ]
    },
    {
     "data": {
      "image/svg+xml": "<?xml version=\"1.0\" encoding=\"UTF-8\" standalone=\"no\"?>\n<!DOCTYPE svg PUBLIC \"-//W3C//DTD SVG 1.1//EN\"\n \"http://www.w3.org/Graphics/SVG/1.1/DTD/svg11.dtd\">\n<!-- Generated by graphviz version 6.0.1 (20220911.1526)\n -->\n<!-- Pages: 1 -->\n<svg width=\"163pt\" height=\"131pt\"\n viewBox=\"0.00 0.00 162.69 131.00\" xmlns=\"http://www.w3.org/2000/svg\" xmlns:xlink=\"http://www.w3.org/1999/xlink\">\n<g id=\"graph0\" class=\"graph\" transform=\"scale(1 1) rotate(0) translate(4 127)\">\n<polygon fill=\"white\" stroke=\"none\" points=\"-4,4 -4,-127 158.69,-127 158.69,4 -4,4\"/>\n<!-- Start -->\n<g id=\"node1\" class=\"node\">\n<title>Start</title>\n<ellipse fill=\"none\" stroke=\"black\" cx=\"77.34\" cy=\"-105\" rx=\"77.19\" ry=\"18\"/>\n<text text-anchor=\"middle\" x=\"77.34\" y=\"-101.3\" font-family=\"Times New Roman,serif\" font-size=\"14.00\">Malware (Subject)</text>\n</g>\n<!-- 1 -->\n<g id=\"node2\" class=\"node\">\n<title>1</title>\n<ellipse fill=\"none\" stroke=\"black\" cx=\"77.34\" cy=\"-18\" rx=\"38.99\" ry=\"18\"/>\n<text text-anchor=\"middle\" x=\"77.34\" y=\"-14.3\" font-family=\"Times New Roman,serif\" font-size=\"14.00\">ip_addr</text>\n</g>\n<!-- Start&#45;&gt;1 -->\n<g id=\"edge1\" class=\"edge\">\n<title>Start&#45;&gt;1</title>\n<path fill=\"none\" stroke=\"black\" d=\"M59.61,-87.36C55.05,-81.99 50.75,-75.68 48.34,-69 45.06,-59.89 48.37,-50.55 53.77,-42.44\"/>\n<polygon fill=\"black\" stroke=\"black\" points=\"56.58,-44.53 59.97,-34.5 51.06,-40.23 56.58,-44.53\"/>\n<text text-anchor=\"middle\" x=\"66.84\" y=\"-57.8\" font-family=\"Times New Roman,serif\" font-size=\"14.00\">1.wget</text>\n</g>\n<!-- Start&#45;&gt;1 -->\n<g id=\"edge2\" class=\"edge\">\n<title>Start&#45;&gt;1</title>\n<path fill=\"none\" stroke=\"black\" d=\"M82.11,-86.69C83.43,-81.09 84.69,-74.82 85.34,-69 86.19,-61.52 85.57,-53.45 84.38,-46.02\"/>\n<polygon fill=\"black\" stroke=\"black\" points=\"87.78,-45.2 82.4,-36.07 80.92,-46.56 87.78,-45.2\"/>\n<text text-anchor=\"middle\" x=\"101.84\" y=\"-57.8\" font-family=\"Times New Roman,serif\" font-size=\"14.00\">2.find</text>\n</g>\n</g>\n</svg>\n",
      "text/plain": [
       "<graphviz.graphs.Digraph at 0x1b024c46f50>"
      ]
     },
     "metadata": {},
     "output_type": "display_data"
    },
    {
     "name": "stdout",
     "output_type": "stream",
     "text": [
      "Xorddos-Trendmicro2.csv matched doc OPset\n"
     ]
    },
    {
     "data": {
      "image/svg+xml": "<?xml version=\"1.0\" encoding=\"UTF-8\" standalone=\"no\"?>\n<!DOCTYPE svg PUBLIC \"-//W3C//DTD SVG 1.1//EN\"\n \"http://www.w3.org/Graphics/SVG/1.1/DTD/svg11.dtd\">\n<!-- Generated by graphviz version 6.0.1 (20220911.1526)\n -->\n<!-- Pages: 1 -->\n<svg width=\"163pt\" height=\"131pt\"\n viewBox=\"0.00 0.00 162.69 131.00\" xmlns=\"http://www.w3.org/2000/svg\" xmlns:xlink=\"http://www.w3.org/1999/xlink\">\n<g id=\"graph0\" class=\"graph\" transform=\"scale(1 1) rotate(0) translate(4 127)\">\n<polygon fill=\"white\" stroke=\"none\" points=\"-4,4 -4,-127 158.69,-127 158.69,4 -4,4\"/>\n<!-- Start -->\n<g id=\"node1\" class=\"node\">\n<title>Start</title>\n<ellipse fill=\"none\" stroke=\"black\" cx=\"77.34\" cy=\"-105\" rx=\"77.19\" ry=\"18\"/>\n<text text-anchor=\"middle\" x=\"77.34\" y=\"-101.3\" font-family=\"Times New Roman,serif\" font-size=\"14.00\">Malware (Subject)</text>\n</g>\n<!-- 1 -->\n<g id=\"node2\" class=\"node\">\n<title>1</title>\n<ellipse fill=\"none\" stroke=\"black\" cx=\"77.34\" cy=\"-18\" rx=\"38.99\" ry=\"18\"/>\n<text text-anchor=\"middle\" x=\"77.34\" y=\"-14.3\" font-family=\"Times New Roman,serif\" font-size=\"14.00\">ip_addr</text>\n</g>\n<!-- Start&#45;&gt;1 -->\n<g id=\"edge1\" class=\"edge\">\n<title>Start&#45;&gt;1</title>\n<path fill=\"none\" stroke=\"black\" d=\"M59.61,-87.36C55.05,-81.99 50.75,-75.68 48.34,-69 45.06,-59.89 48.37,-50.55 53.77,-42.44\"/>\n<polygon fill=\"black\" stroke=\"black\" points=\"56.58,-44.53 59.97,-34.5 51.06,-40.23 56.58,-44.53\"/>\n<text text-anchor=\"middle\" x=\"66.84\" y=\"-57.8\" font-family=\"Times New Roman,serif\" font-size=\"14.00\">1.wget</text>\n</g>\n<!-- Start&#45;&gt;1 -->\n<g id=\"edge2\" class=\"edge\">\n<title>Start&#45;&gt;1</title>\n<path fill=\"none\" stroke=\"black\" d=\"M82.11,-86.69C83.43,-81.09 84.69,-74.82 85.34,-69 86.19,-61.52 85.57,-53.45 84.38,-46.02\"/>\n<polygon fill=\"black\" stroke=\"black\" points=\"87.78,-45.2 82.4,-36.07 80.92,-46.56 87.78,-45.2\"/>\n<text text-anchor=\"middle\" x=\"101.84\" y=\"-57.8\" font-family=\"Times New Roman,serif\" font-size=\"14.00\">2.find</text>\n</g>\n</g>\n</svg>\n",
      "text/plain": [
       "<graphviz.graphs.Digraph at 0x1b02450ea40>"
      ]
     },
     "metadata": {},
     "output_type": "display_data"
    },
    {
     "name": "stdout",
     "output_type": "stream",
     "text": [
      "matched ASG OPset for doc Xorddos-Trendmicro2.csv\n"
     ]
    },
    {
     "data": {
      "image/svg+xml": "<?xml version=\"1.0\" encoding=\"UTF-8\" standalone=\"no\"?>\n<!DOCTYPE svg PUBLIC \"-//W3C//DTD SVG 1.1//EN\"\n \"http://www.w3.org/Graphics/SVG/1.1/DTD/svg11.dtd\">\n<!-- Generated by graphviz version 6.0.1 (20220911.1526)\n -->\n<!-- Pages: 1 -->\n<svg width=\"176pt\" height=\"131pt\"\n viewBox=\"0.00 0.00 176.34 131.00\" xmlns=\"http://www.w3.org/2000/svg\" xmlns:xlink=\"http://www.w3.org/1999/xlink\">\n<g id=\"graph0\" class=\"graph\" transform=\"scale(1 1) rotate(0) translate(4 127)\">\n<polygon fill=\"white\" stroke=\"none\" points=\"-4,4 -4,-127 172.34,-127 172.34,4 -4,4\"/>\n<!-- Start -->\n<g id=\"node1\" class=\"node\">\n<title>Start</title>\n<ellipse fill=\"none\" stroke=\"black\" cx=\"77.34\" cy=\"-105\" rx=\"77.19\" ry=\"18\"/>\n<text text-anchor=\"middle\" x=\"77.34\" y=\"-101.3\" font-family=\"Times New Roman,serif\" font-size=\"14.00\">Malware (Subject)</text>\n</g>\n<!-- 1 -->\n<g id=\"node2\" class=\"node\">\n<title>1</title>\n<ellipse fill=\"none\" stroke=\"black\" cx=\"77.34\" cy=\"-18\" rx=\"38.99\" ry=\"18\"/>\n<text text-anchor=\"middle\" x=\"77.34\" y=\"-14.3\" font-family=\"Times New Roman,serif\" font-size=\"14.00\">ip_addr</text>\n</g>\n<!-- Start&#45;&gt;1 -->\n<g id=\"edge1\" class=\"edge\">\n<title>Start&#45;&gt;1</title>\n<path fill=\"none\" stroke=\"black\" d=\"M57.48,-87.29C52.57,-82 47.97,-75.75 45.34,-69 41.65,-59.49 45.6,-49.86 51.83,-41.62\"/>\n<polygon fill=\"black\" stroke=\"black\" points=\"54.65,-43.72 58.63,-33.9 49.39,-39.09 54.65,-43.72\"/>\n<text text-anchor=\"middle\" x=\"67.34\" y=\"-57.8\" font-family=\"Times New Roman,serif\" font-size=\"14.00\">62.send</text>\n</g>\n<!-- Start&#45;&gt;1 -->\n<g id=\"edge2\" class=\"edge\">\n<title>Start&#45;&gt;1</title>\n<path fill=\"none\" stroke=\"black\" d=\"M84.91,-87C88.31,-77.38 91.19,-65.1 89.34,-54 88.88,-51.24 88.23,-48.41 87.47,-45.61\"/>\n<polygon fill=\"black\" stroke=\"black\" points=\"90.72,-44.27 84.36,-35.8 84.05,-46.39 90.72,-44.27\"/>\n<text text-anchor=\"middle\" x=\"128.84\" y=\"-57.8\" font-family=\"Times New Roman,serif\" font-size=\"14.00\">64._newselect</text>\n</g>\n</g>\n</svg>\n",
      "text/plain": [
       "<graphviz.graphs.Digraph at 0x1b024c46f50>"
      ]
     },
     "metadata": {},
     "output_type": "display_data"
    }
   ],
   "source": [
    "import graphviz\n",
    "\n",
    "class ItemMapper:\n",
    "    def __init__(self) -> None:\n",
    "        self.mapper = {}\n",
    "        self.index_counter:int = 1\n",
    "        # self.pretty_name = {\n",
    "        #     \"\\d{1,3}\\.\\d{1,3}\\.\\d{1,3}\\.\\d{1,3}\": \"ip_addr\",\n",
    "        #     \"\\d{1,3}\\.\\d{1,3}\\.\\d{1,3}\\.\\d{1,3}:\\d+\": \"ip_addr+port\",\n",
    "        #     \"0x[0-9a-zA-Z]{8}\": \"mem_addr\",\n",
    "        #     \"permission:{0,1}[0-9]{0,4}\": \"permission_id\"\n",
    "        # }\n",
    "        pass\n",
    "    def addItem(self, item:str) -> str:\n",
    "        # item = self.prettifyName(item) # 先不在這做~\n",
    "        if item in self.mapper.keys():\n",
    "            return self.mapper.get(item)\n",
    "        self.mapper[item] = str(self.index_counter)\n",
    "        self.index_counter += 1\n",
    "        return str(self.index_counter - 1)\n",
    "    def getSymbol(self, item:str):\n",
    "        return self.mapper.get(item, None)\n",
    "    # def prettifyName(self, item:str) -> str:\n",
    "    #     changed = self.pretty_name.get(item, None)\n",
    "    #     if changed:\n",
    "    #         return changed\n",
    "    #     return item\n",
    "\n",
    "def prettifyName(item:str) -> str:\n",
    "    pretty_name = {\n",
    "        r\"\\d{1,3}\\.\\d{1,3}\\.\\d{1,3}\\.\\d{1,3}\": \"ip_addr\",\n",
    "        r\"\\d{1,3}\\.\\d{1,3}\\.\\d{1,3}\\.\\d{1,3}:\\d+\": \"ip_addr+port\",\n",
    "        r\"0x[0-9a-zA-Z]{8}\": \"mem_addr\",\n",
    "        r\"permission:{0,1}[0-9]{0,4}\": \"permission_id\"\n",
    "    }\n",
    "    changed = pretty_name.get(item, None)\n",
    "    if changed:\n",
    "        return changed\n",
    "    return item\n",
    "\n",
    "def draw_asg_op_graph(asg_OPset: list[OperationPair], family=None):\n",
    "    dot = graphviz.Digraph(f'{family}_asg_OPset', comment='The Operational Pair Graph') \n",
    "    dot.node('Start', label=\"Malware (Subject)\")\n",
    "    mapper = ItemMapper()\n",
    "    for op in asg_OPset:\n",
    "        node_id = mapper.addItem(op.object)\n",
    "        dot.node(node_id, label=prettifyName(op.object)) # rename partial regex\n",
    "        if op.action:\n",
    "            dot.edge('Start', node_id, label=f\"{op.step_number}.{op.action}\")\n",
    "\n",
    "    # dot.graph_attr.update(ratio=\"0.4\")\n",
    "    u = dot.unflatten(stagger=3, fanout=True)\n",
    "    display(u)\n",
    "    del mapper\n",
    "    return u\n",
    "\n",
    "def draw_ctd_op_graph(fset:FamilySet):\n",
    "    for rem in fset.rem_lst:\n",
    "        # doc_OPset\n",
    "        if rem.doc_OPset is None or len(rem.doc_OPset) == 0:\n",
    "            continue\n",
    "        dot = graphviz.Digraph()\n",
    "        dot.node('Start', label=\"Malware (Subject)\")\n",
    "        mapper = ItemMapper()\n",
    "        for op in rem.doc_OPset:\n",
    "            node_id = mapper.addItem(op.object)\n",
    "            dot.node(node_id, label=prettifyName(op.object))\n",
    "            if op.action:\n",
    "                dot.edge('Start', node_id, label=f\"{op.step_number}.{op.action}\")\n",
    "        print(f\"{rem.reportname} raw doc OPset\")\n",
    "        display(dot)\n",
    "        del mapper\n",
    "\n",
    "        # match_doc_OPset\n",
    "        if rem.match_doc_OPset is None or len(rem.match_doc_OPset) == 0:\n",
    "            continue\n",
    "        dot = graphviz.Digraph()\n",
    "        dot.node('Start', label=\"Malware (Subject)\")\n",
    "        mapper = ItemMapper()\n",
    "        for op in rem.match_doc_OPset:\n",
    "            node_id = mapper.addItem(op.object)\n",
    "            dot.node(node_id, label=prettifyName(op.object))\n",
    "            if op.action:\n",
    "                dot.edge('Start', node_id, label=f\"{op.step_number}.{op.action}\")\n",
    "        print(f\"{rem.reportname} matched doc OPset\")\n",
    "        display(dot)\n",
    "        del mapper\n",
    "\n",
    "        # match_ASG_OPset\n",
    "        if rem.OPset_order_index is None or len(rem.OPset_order_index) == 0:\n",
    "            continue\n",
    "        dot = graphviz.Digraph()\n",
    "        dot.node('Start', label=\"Malware (Subject)\")\n",
    "        mapper = ItemMapper()\n",
    "        for op in [fset.sample.OPset_ordered[i] for i in rem.OPset_order_index]:\n",
    "            node_id = mapper.addItem(op.object)\n",
    "            dot.node(node_id, label=prettifyName(op.object))\n",
    "            if op.action:\n",
    "                dot.edge('Start', node_id, label=f\"{op.step_number}.{op.action}\")\n",
    "        print(f\"matched ASG OPset for doc {rem.reportname}\")\n",
    "        display(dot)\n",
    "        del mapper\n",
    "    return\n",
    "\n",
    "draw_asg_op_graph(sample.OPset, family=family)\n",
    "draw_ctd_op_graph(fset)"
   ]
  },
  {
   "attachments": {},
   "cell_type": "markdown",
   "metadata": {},
   "source": [
    "### Run Script: print matched sentence for specific document"
   ]
  },
  {
   "cell_type": "code",
   "execution_count": 16,
   "metadata": {},
   "outputs": [
    {
     "name": "stdout",
     "output_type": "stream",
     "text": [
      "Report: Xorddos-Microsoft.csv. Matched OP count: 0\n"
     ]
    }
   ],
   "source": [
    "# 印出 matched 句子\n",
    "report_id = 3\n",
    "reportname = fset.rem_lst[report_id].reportname\n",
    "print(f\"Report: {reportname}. Matched OP count: {len(fset.rem_lst[report_id].match_doc_OPset)}\")\n",
    "for i, op in enumerate(fset.rem_lst[report_id].match_doc_OPset):\n",
    "    print(f\"--\\nOP #{op.step_number} {op.action} {op.object} {op.original_object}\")\n",
    "    print(f\"{op.original_sentence}\")"
   ]
  },
  {
   "cell_type": "code",
   "execution_count": 17,
   "metadata": {},
   "outputs": [
    {
     "name": "stdout",
     "output_type": "stream",
     "text": [
      "set()\n",
      "set()\n",
      "{<OP act=hardcode, obj=\\d{1,3}\\.\\d{1,3}\\.\\d{1,3}\\.\\d{1,3}>, <OP act=None, obj=/etc/rc>, <OP act=None, obj=\\d{1,3}\\.\\d{1,3}\\.\\d{1,3}\\.\\d{1,3}>, <OP act=None, obj=GID(\\$|\\.|$)>, <OP act=None, obj=UID(\\$|\\.|$)>, <OP act=extract, obj=/proc/>, <OP act=None, obj=/etc/init.d/>}\n",
      "{<OP act=fetch, obj=/var/run/>, <OP act=None, obj=/run/>, <OP act=m6_6n3, obj=/var/>, <OP act=use, obj=/proc/>, <OP act=run, obj=/var/>, <OP act=m6_6n3, obj=/run/>, <OP act=None, obj=/etc/rc>, <OP act=download, obj=[a-zA-z]:\\d{1,5}$>, <OP act=use, obj=/proc/rs_dev>, <OP act=create, obj=/var/run/>, <OP act=call, obj=/proc/>, <OP act=read, obj=/var/>, <OP act=read, obj=/run/>, <OP act=fetch, obj=/var/>, <OP act=delete, obj=/etc/cron>, <OP act=fetch, obj=/run/>, <OP act=add, obj=^chkconfig$>, <OP act=create, obj=/var/>, <OP act=check, obj=/proc/>, <OP act=None, obj=/proc/>, <OP act=create, obj=/run/>, <OP act=resolv.conf, obj=/var/run/>, <OP act=None, obj=/proc/rs_dev>, <OP act=hook, obj=/proc/>, <OP act=find, obj=^sh$>, <OP act=drop, obj=/run/>, <OP act=execute, obj=GID(\\$|\\.|$)>, <OP act=contain, obj=/var/>, <OP act=perform, obj=^chkconfig$>, <OP act=None, obj=/etc/init.d/>, <OP act=have, obj=/proc/>, <OP act=assign, obj=GID(\\$|\\.|$)>, <OP act=install, obj=^chkconfig$>, <OP act=have, obj=/proc/rs_dev>, <OP act=None, obj=/etc/cron>, <OP act=resolv.conf, obj=/var/>, <OP act=pass, obj=/etc/cron>, <OP act=fetch, obj=[a-zA-z]:\\d{1,5}$>, <OP act=resolv.conf, obj=/run/>, <OP act=contain, obj=/proc/>, <OP act=None, obj=update-rc.d>, <OP act=drop, obj=/etc/init.d/>, <OP act=provide, obj=/proc/>, <OP act=None, obj=/var/run/>, <OP act=name, obj=/proc/>, <OP act=m6_6n3, obj=/var/run/>, <OP act=relate, obj=/var/>, <OP act=None, obj=0x[0-9a-zA-Z]{8}>, <OP act=drop, obj=/etc/cron>, <OP act=read, obj=/var/run/>, <OP act=None, obj=/var/>}\n",
      "{<OP act=None, obj=/etc/rc>, <OP act=read, obj=/var/>, <OP act=None, obj=[a-zA-z]:\\d{1,5}$>, <OP act=read, obj=/run/>, <OP act=drop, obj=/etc/cron>, <OP act=read, obj=/var/run/>}\n",
      "{<OP act=wget, obj=\\d{1,3}\\.\\d{1,3}\\.\\d{1,3}\\.\\d{1,3}>, <OP act=find, obj=\\d{1,3}\\.\\d{1,3}\\.\\d{1,3}\\.\\d{1,3}>}\n"
     ]
    }
   ],
   "source": [
    "# 測試區\n",
    "for rem in fset.rem_lst:\n",
    "    print(rem.doc_OPset)"
   ]
  },
  {
   "cell_type": "code",
   "execution_count": 18,
   "metadata": {},
   "outputs": [
    {
     "data": {
      "text/html": [
       "<div>\n",
       "<style scoped>\n",
       "    .dataframe tbody tr th:only-of-type {\n",
       "        vertical-align: middle;\n",
       "    }\n",
       "\n",
       "    .dataframe tbody tr th {\n",
       "        vertical-align: top;\n",
       "    }\n",
       "\n",
       "    .dataframe thead th {\n",
       "        text-align: right;\n",
       "    }\n",
       "</style>\n",
       "<table border=\"1\" class=\"dataframe\">\n",
       "  <thead>\n",
       "    <tr style=\"text-align: right;\">\n",
       "      <th></th>\n",
       "      <th>bin/sed</th>\n",
       "      <th>/etc/rc</th>\n",
       "      <th>/etc/init.d/</th>\n",
       "      <th>/proc/</th>\n",
       "      <th>/etc/sed</th>\n",
       "      <th>/selinux</th>\n",
       "      <th>/boot/</th>\n",
       "      <th>/proc/rs_dev</th>\n",
       "      <th>/boot/[a-z]{10}</th>\n",
       "      <th>/run/</th>\n",
       "      <th>...</th>\n",
       "      <th>^pipe(\\$|\\.|$)</th>\n",
       "      <th>\\d{1,3}\\.\\d{1,3}\\.\\d{1,3}\\.\\d{1,3}</th>\n",
       "      <th>[a-zA-z]:\\d{1,5}$</th>\n",
       "      <th>port \\d{1,5}$</th>\n",
       "      <th>\\d{1,3}\\.\\d{1,3}\\.\\d{1,3}\\.\\d{1,3}:\\d{1,5}$</th>\n",
       "      <th>0x[0-9a-zA-Z]{8}</th>\n",
       "      <th>UID(\\$|\\.|$)</th>\n",
       "      <th>GID(\\$|\\.|$)</th>\n",
       "      <th>permission(\\s|:)[0-9]{1,4}</th>\n",
       "      <th>match</th>\n",
       "    </tr>\n",
       "  </thead>\n",
       "  <tbody>\n",
       "    <tr>\n",
       "      <th>0</th>\n",
       "      <td>0</td>\n",
       "      <td>0</td>\n",
       "      <td>0</td>\n",
       "      <td>0</td>\n",
       "      <td>0</td>\n",
       "      <td>0</td>\n",
       "      <td>0</td>\n",
       "      <td>0</td>\n",
       "      <td>0</td>\n",
       "      <td>0</td>\n",
       "      <td>...</td>\n",
       "      <td>0</td>\n",
       "      <td>0</td>\n",
       "      <td>0</td>\n",
       "      <td>0</td>\n",
       "      <td>0</td>\n",
       "      <td>0</td>\n",
       "      <td>0</td>\n",
       "      <td>0</td>\n",
       "      <td>0</td>\n",
       "      <td>0</td>\n",
       "    </tr>\n",
       "    <tr>\n",
       "      <th>1</th>\n",
       "      <td>0</td>\n",
       "      <td>0</td>\n",
       "      <td>0</td>\n",
       "      <td>0</td>\n",
       "      <td>0</td>\n",
       "      <td>0</td>\n",
       "      <td>0</td>\n",
       "      <td>0</td>\n",
       "      <td>0</td>\n",
       "      <td>0</td>\n",
       "      <td>...</td>\n",
       "      <td>0</td>\n",
       "      <td>0</td>\n",
       "      <td>0</td>\n",
       "      <td>0</td>\n",
       "      <td>0</td>\n",
       "      <td>0</td>\n",
       "      <td>0</td>\n",
       "      <td>0</td>\n",
       "      <td>0</td>\n",
       "      <td>0</td>\n",
       "    </tr>\n",
       "    <tr>\n",
       "      <th>2</th>\n",
       "      <td>0</td>\n",
       "      <td>0</td>\n",
       "      <td>0</td>\n",
       "      <td>0</td>\n",
       "      <td>0</td>\n",
       "      <td>0</td>\n",
       "      <td>0</td>\n",
       "      <td>0</td>\n",
       "      <td>0</td>\n",
       "      <td>0</td>\n",
       "      <td>...</td>\n",
       "      <td>0</td>\n",
       "      <td>0</td>\n",
       "      <td>0</td>\n",
       "      <td>0</td>\n",
       "      <td>0</td>\n",
       "      <td>0</td>\n",
       "      <td>0</td>\n",
       "      <td>0</td>\n",
       "      <td>0</td>\n",
       "      <td>0</td>\n",
       "    </tr>\n",
       "    <tr>\n",
       "      <th>3</th>\n",
       "      <td>0</td>\n",
       "      <td>0</td>\n",
       "      <td>0</td>\n",
       "      <td>0</td>\n",
       "      <td>0</td>\n",
       "      <td>0</td>\n",
       "      <td>0</td>\n",
       "      <td>0</td>\n",
       "      <td>0</td>\n",
       "      <td>0</td>\n",
       "      <td>...</td>\n",
       "      <td>0</td>\n",
       "      <td>0</td>\n",
       "      <td>0</td>\n",
       "      <td>0</td>\n",
       "      <td>0</td>\n",
       "      <td>0</td>\n",
       "      <td>0</td>\n",
       "      <td>0</td>\n",
       "      <td>0</td>\n",
       "      <td>0</td>\n",
       "    </tr>\n",
       "    <tr>\n",
       "      <th>4</th>\n",
       "      <td>0</td>\n",
       "      <td>0</td>\n",
       "      <td>0</td>\n",
       "      <td>0</td>\n",
       "      <td>0</td>\n",
       "      <td>0</td>\n",
       "      <td>0</td>\n",
       "      <td>0</td>\n",
       "      <td>0</td>\n",
       "      <td>0</td>\n",
       "      <td>...</td>\n",
       "      <td>0</td>\n",
       "      <td>0</td>\n",
       "      <td>0</td>\n",
       "      <td>0</td>\n",
       "      <td>0</td>\n",
       "      <td>0</td>\n",
       "      <td>0</td>\n",
       "      <td>0</td>\n",
       "      <td>0</td>\n",
       "      <td>0</td>\n",
       "    </tr>\n",
       "    <tr>\n",
       "      <th>5</th>\n",
       "      <td>0</td>\n",
       "      <td>0</td>\n",
       "      <td>0</td>\n",
       "      <td>0</td>\n",
       "      <td>0</td>\n",
       "      <td>0</td>\n",
       "      <td>0</td>\n",
       "      <td>0</td>\n",
       "      <td>0</td>\n",
       "      <td>0</td>\n",
       "      <td>...</td>\n",
       "      <td>0</td>\n",
       "      <td>0</td>\n",
       "      <td>0</td>\n",
       "      <td>0</td>\n",
       "      <td>0</td>\n",
       "      <td>0</td>\n",
       "      <td>0</td>\n",
       "      <td>0</td>\n",
       "      <td>0</td>\n",
       "      <td>0</td>\n",
       "    </tr>\n",
       "    <tr>\n",
       "      <th>6</th>\n",
       "      <td>0</td>\n",
       "      <td>0</td>\n",
       "      <td>0</td>\n",
       "      <td>0</td>\n",
       "      <td>0</td>\n",
       "      <td>0</td>\n",
       "      <td>0</td>\n",
       "      <td>0</td>\n",
       "      <td>0</td>\n",
       "      <td>0</td>\n",
       "      <td>...</td>\n",
       "      <td>0</td>\n",
       "      <td>0</td>\n",
       "      <td>0</td>\n",
       "      <td>0</td>\n",
       "      <td>0</td>\n",
       "      <td>0</td>\n",
       "      <td>0</td>\n",
       "      <td>0</td>\n",
       "      <td>0</td>\n",
       "      <td>0</td>\n",
       "    </tr>\n",
       "    <tr>\n",
       "      <th>7</th>\n",
       "      <td>0</td>\n",
       "      <td>0</td>\n",
       "      <td>0</td>\n",
       "      <td>0</td>\n",
       "      <td>0</td>\n",
       "      <td>0</td>\n",
       "      <td>0</td>\n",
       "      <td>0</td>\n",
       "      <td>0</td>\n",
       "      <td>0</td>\n",
       "      <td>...</td>\n",
       "      <td>0</td>\n",
       "      <td>0</td>\n",
       "      <td>0</td>\n",
       "      <td>0</td>\n",
       "      <td>0</td>\n",
       "      <td>0</td>\n",
       "      <td>0</td>\n",
       "      <td>0</td>\n",
       "      <td>0</td>\n",
       "      <td>0</td>\n",
       "    </tr>\n",
       "    <tr>\n",
       "      <th>8</th>\n",
       "      <td>0</td>\n",
       "      <td>0</td>\n",
       "      <td>0</td>\n",
       "      <td>0</td>\n",
       "      <td>0</td>\n",
       "      <td>0</td>\n",
       "      <td>0</td>\n",
       "      <td>0</td>\n",
       "      <td>0</td>\n",
       "      <td>0</td>\n",
       "      <td>...</td>\n",
       "      <td>0</td>\n",
       "      <td>0</td>\n",
       "      <td>0</td>\n",
       "      <td>0</td>\n",
       "      <td>0</td>\n",
       "      <td>0</td>\n",
       "      <td>0</td>\n",
       "      <td>0</td>\n",
       "      <td>0</td>\n",
       "      <td>0</td>\n",
       "    </tr>\n",
       "    <tr>\n",
       "      <th>9</th>\n",
       "      <td>0</td>\n",
       "      <td>0</td>\n",
       "      <td>0</td>\n",
       "      <td>0</td>\n",
       "      <td>0</td>\n",
       "      <td>0</td>\n",
       "      <td>0</td>\n",
       "      <td>0</td>\n",
       "      <td>0</td>\n",
       "      <td>0</td>\n",
       "      <td>...</td>\n",
       "      <td>0</td>\n",
       "      <td>0</td>\n",
       "      <td>0</td>\n",
       "      <td>0</td>\n",
       "      <td>0</td>\n",
       "      <td>0</td>\n",
       "      <td>0</td>\n",
       "      <td>0</td>\n",
       "      <td>0</td>\n",
       "      <td>0</td>\n",
       "    </tr>\n",
       "    <tr>\n",
       "      <th>10</th>\n",
       "      <td>0</td>\n",
       "      <td>0</td>\n",
       "      <td>0</td>\n",
       "      <td>0</td>\n",
       "      <td>0</td>\n",
       "      <td>0</td>\n",
       "      <td>0</td>\n",
       "      <td>0</td>\n",
       "      <td>0</td>\n",
       "      <td>0</td>\n",
       "      <td>...</td>\n",
       "      <td>0</td>\n",
       "      <td>0</td>\n",
       "      <td>0</td>\n",
       "      <td>0</td>\n",
       "      <td>0</td>\n",
       "      <td>0</td>\n",
       "      <td>0</td>\n",
       "      <td>0</td>\n",
       "      <td>0</td>\n",
       "      <td>0</td>\n",
       "    </tr>\n",
       "    <tr>\n",
       "      <th>11</th>\n",
       "      <td>0</td>\n",
       "      <td>0</td>\n",
       "      <td>0</td>\n",
       "      <td>0</td>\n",
       "      <td>0</td>\n",
       "      <td>0</td>\n",
       "      <td>0</td>\n",
       "      <td>0</td>\n",
       "      <td>0</td>\n",
       "      <td>0</td>\n",
       "      <td>...</td>\n",
       "      <td>0</td>\n",
       "      <td>0</td>\n",
       "      <td>0</td>\n",
       "      <td>0</td>\n",
       "      <td>0</td>\n",
       "      <td>0</td>\n",
       "      <td>0</td>\n",
       "      <td>0</td>\n",
       "      <td>0</td>\n",
       "      <td>0</td>\n",
       "    </tr>\n",
       "    <tr>\n",
       "      <th>12</th>\n",
       "      <td>0</td>\n",
       "      <td>0</td>\n",
       "      <td>0</td>\n",
       "      <td>0</td>\n",
       "      <td>0</td>\n",
       "      <td>0</td>\n",
       "      <td>0</td>\n",
       "      <td>0</td>\n",
       "      <td>0</td>\n",
       "      <td>0</td>\n",
       "      <td>...</td>\n",
       "      <td>0</td>\n",
       "      <td>0</td>\n",
       "      <td>0</td>\n",
       "      <td>0</td>\n",
       "      <td>0</td>\n",
       "      <td>0</td>\n",
       "      <td>0</td>\n",
       "      <td>0</td>\n",
       "      <td>0</td>\n",
       "      <td>0</td>\n",
       "    </tr>\n",
       "    <tr>\n",
       "      <th>13</th>\n",
       "      <td>0</td>\n",
       "      <td>0</td>\n",
       "      <td>0</td>\n",
       "      <td>0</td>\n",
       "      <td>0</td>\n",
       "      <td>0</td>\n",
       "      <td>0</td>\n",
       "      <td>0</td>\n",
       "      <td>0</td>\n",
       "      <td>0</td>\n",
       "      <td>...</td>\n",
       "      <td>0</td>\n",
       "      <td>0</td>\n",
       "      <td>0</td>\n",
       "      <td>0</td>\n",
       "      <td>0</td>\n",
       "      <td>0</td>\n",
       "      <td>0</td>\n",
       "      <td>0</td>\n",
       "      <td>0</td>\n",
       "      <td>0</td>\n",
       "    </tr>\n",
       "    <tr>\n",
       "      <th>14</th>\n",
       "      <td>0</td>\n",
       "      <td>0</td>\n",
       "      <td>0</td>\n",
       "      <td>0</td>\n",
       "      <td>0</td>\n",
       "      <td>0</td>\n",
       "      <td>0</td>\n",
       "      <td>0</td>\n",
       "      <td>0</td>\n",
       "      <td>0</td>\n",
       "      <td>...</td>\n",
       "      <td>0</td>\n",
       "      <td>0</td>\n",
       "      <td>0</td>\n",
       "      <td>0</td>\n",
       "      <td>0</td>\n",
       "      <td>0</td>\n",
       "      <td>0</td>\n",
       "      <td>0</td>\n",
       "      <td>0</td>\n",
       "      <td>0</td>\n",
       "    </tr>\n",
       "    <tr>\n",
       "      <th>15</th>\n",
       "      <td>0</td>\n",
       "      <td>0</td>\n",
       "      <td>0</td>\n",
       "      <td>0</td>\n",
       "      <td>0</td>\n",
       "      <td>0</td>\n",
       "      <td>0</td>\n",
       "      <td>0</td>\n",
       "      <td>0</td>\n",
       "      <td>0</td>\n",
       "      <td>...</td>\n",
       "      <td>0</td>\n",
       "      <td>0</td>\n",
       "      <td>0</td>\n",
       "      <td>0</td>\n",
       "      <td>0</td>\n",
       "      <td>0</td>\n",
       "      <td>0</td>\n",
       "      <td>0</td>\n",
       "      <td>0</td>\n",
       "      <td>0</td>\n",
       "    </tr>\n",
       "    <tr>\n",
       "      <th>16</th>\n",
       "      <td>0</td>\n",
       "      <td>0</td>\n",
       "      <td>0</td>\n",
       "      <td>0</td>\n",
       "      <td>0</td>\n",
       "      <td>0</td>\n",
       "      <td>0</td>\n",
       "      <td>0</td>\n",
       "      <td>0</td>\n",
       "      <td>0</td>\n",
       "      <td>...</td>\n",
       "      <td>0</td>\n",
       "      <td>0</td>\n",
       "      <td>0</td>\n",
       "      <td>0</td>\n",
       "      <td>0</td>\n",
       "      <td>0</td>\n",
       "      <td>0</td>\n",
       "      <td>0</td>\n",
       "      <td>0</td>\n",
       "      <td>0</td>\n",
       "    </tr>\n",
       "    <tr>\n",
       "      <th>17</th>\n",
       "      <td>0</td>\n",
       "      <td>0</td>\n",
       "      <td>0</td>\n",
       "      <td>0</td>\n",
       "      <td>0</td>\n",
       "      <td>0</td>\n",
       "      <td>0</td>\n",
       "      <td>0</td>\n",
       "      <td>0</td>\n",
       "      <td>0</td>\n",
       "      <td>...</td>\n",
       "      <td>0</td>\n",
       "      <td>0</td>\n",
       "      <td>0</td>\n",
       "      <td>0</td>\n",
       "      <td>0</td>\n",
       "      <td>0</td>\n",
       "      <td>0</td>\n",
       "      <td>0</td>\n",
       "      <td>0</td>\n",
       "      <td>0</td>\n",
       "    </tr>\n",
       "    <tr>\n",
       "      <th>18</th>\n",
       "      <td>0</td>\n",
       "      <td>0</td>\n",
       "      <td>0</td>\n",
       "      <td>0</td>\n",
       "      <td>0</td>\n",
       "      <td>0</td>\n",
       "      <td>0</td>\n",
       "      <td>0</td>\n",
       "      <td>0</td>\n",
       "      <td>0</td>\n",
       "      <td>...</td>\n",
       "      <td>0</td>\n",
       "      <td>0</td>\n",
       "      <td>0</td>\n",
       "      <td>0</td>\n",
       "      <td>0</td>\n",
       "      <td>0</td>\n",
       "      <td>0</td>\n",
       "      <td>0</td>\n",
       "      <td>0</td>\n",
       "      <td>0</td>\n",
       "    </tr>\n",
       "    <tr>\n",
       "      <th>19</th>\n",
       "      <td>0</td>\n",
       "      <td>0</td>\n",
       "      <td>0</td>\n",
       "      <td>0</td>\n",
       "      <td>0</td>\n",
       "      <td>0</td>\n",
       "      <td>0</td>\n",
       "      <td>0</td>\n",
       "      <td>0</td>\n",
       "      <td>0</td>\n",
       "      <td>...</td>\n",
       "      <td>0</td>\n",
       "      <td>0</td>\n",
       "      <td>0</td>\n",
       "      <td>0</td>\n",
       "      <td>0</td>\n",
       "      <td>0</td>\n",
       "      <td>0</td>\n",
       "      <td>0</td>\n",
       "      <td>0</td>\n",
       "      <td>0</td>\n",
       "    </tr>\n",
       "    <tr>\n",
       "      <th>20</th>\n",
       "      <td>0</td>\n",
       "      <td>0</td>\n",
       "      <td>0</td>\n",
       "      <td>0</td>\n",
       "      <td>0</td>\n",
       "      <td>0</td>\n",
       "      <td>0</td>\n",
       "      <td>0</td>\n",
       "      <td>0</td>\n",
       "      <td>0</td>\n",
       "      <td>...</td>\n",
       "      <td>0</td>\n",
       "      <td>0</td>\n",
       "      <td>0</td>\n",
       "      <td>0</td>\n",
       "      <td>0</td>\n",
       "      <td>0</td>\n",
       "      <td>0</td>\n",
       "      <td>0</td>\n",
       "      <td>0</td>\n",
       "      <td>0</td>\n",
       "    </tr>\n",
       "    <tr>\n",
       "      <th>21</th>\n",
       "      <td>0</td>\n",
       "      <td>0</td>\n",
       "      <td>0</td>\n",
       "      <td>0</td>\n",
       "      <td>0</td>\n",
       "      <td>0</td>\n",
       "      <td>0</td>\n",
       "      <td>0</td>\n",
       "      <td>0</td>\n",
       "      <td>0</td>\n",
       "      <td>...</td>\n",
       "      <td>0</td>\n",
       "      <td>0</td>\n",
       "      <td>0</td>\n",
       "      <td>0</td>\n",
       "      <td>0</td>\n",
       "      <td>0</td>\n",
       "      <td>0</td>\n",
       "      <td>0</td>\n",
       "      <td>0</td>\n",
       "      <td>0</td>\n",
       "    </tr>\n",
       "    <tr>\n",
       "      <th>22</th>\n",
       "      <td>0</td>\n",
       "      <td>0</td>\n",
       "      <td>0</td>\n",
       "      <td>0</td>\n",
       "      <td>0</td>\n",
       "      <td>0</td>\n",
       "      <td>0</td>\n",
       "      <td>0</td>\n",
       "      <td>0</td>\n",
       "      <td>0</td>\n",
       "      <td>...</td>\n",
       "      <td>0</td>\n",
       "      <td>0</td>\n",
       "      <td>0</td>\n",
       "      <td>0</td>\n",
       "      <td>0</td>\n",
       "      <td>0</td>\n",
       "      <td>0</td>\n",
       "      <td>0</td>\n",
       "      <td>0</td>\n",
       "      <td>0</td>\n",
       "    </tr>\n",
       "    <tr>\n",
       "      <th>23</th>\n",
       "      <td>0</td>\n",
       "      <td>0</td>\n",
       "      <td>0</td>\n",
       "      <td>0</td>\n",
       "      <td>0</td>\n",
       "      <td>0</td>\n",
       "      <td>0</td>\n",
       "      <td>0</td>\n",
       "      <td>0</td>\n",
       "      <td>0</td>\n",
       "      <td>...</td>\n",
       "      <td>0</td>\n",
       "      <td>0</td>\n",
       "      <td>0</td>\n",
       "      <td>0</td>\n",
       "      <td>0</td>\n",
       "      <td>0</td>\n",
       "      <td>0</td>\n",
       "      <td>0</td>\n",
       "      <td>0</td>\n",
       "      <td>0</td>\n",
       "    </tr>\n",
       "    <tr>\n",
       "      <th>24</th>\n",
       "      <td>0</td>\n",
       "      <td>0</td>\n",
       "      <td>0</td>\n",
       "      <td>0</td>\n",
       "      <td>0</td>\n",
       "      <td>0</td>\n",
       "      <td>0</td>\n",
       "      <td>0</td>\n",
       "      <td>0</td>\n",
       "      <td>0</td>\n",
       "      <td>...</td>\n",
       "      <td>0</td>\n",
       "      <td>0</td>\n",
       "      <td>0</td>\n",
       "      <td>0</td>\n",
       "      <td>0</td>\n",
       "      <td>0</td>\n",
       "      <td>0</td>\n",
       "      <td>0</td>\n",
       "      <td>0</td>\n",
       "      <td>0</td>\n",
       "    </tr>\n",
       "    <tr>\n",
       "      <th>25</th>\n",
       "      <td>0</td>\n",
       "      <td>0</td>\n",
       "      <td>0</td>\n",
       "      <td>0</td>\n",
       "      <td>0</td>\n",
       "      <td>0</td>\n",
       "      <td>0</td>\n",
       "      <td>0</td>\n",
       "      <td>0</td>\n",
       "      <td>0</td>\n",
       "      <td>...</td>\n",
       "      <td>0</td>\n",
       "      <td>0</td>\n",
       "      <td>0</td>\n",
       "      <td>0</td>\n",
       "      <td>0</td>\n",
       "      <td>0</td>\n",
       "      <td>0</td>\n",
       "      <td>0</td>\n",
       "      <td>0</td>\n",
       "      <td>0</td>\n",
       "    </tr>\n",
       "    <tr>\n",
       "      <th>26</th>\n",
       "      <td>0</td>\n",
       "      <td>0</td>\n",
       "      <td>0</td>\n",
       "      <td>0</td>\n",
       "      <td>0</td>\n",
       "      <td>0</td>\n",
       "      <td>0</td>\n",
       "      <td>0</td>\n",
       "      <td>0</td>\n",
       "      <td>0</td>\n",
       "      <td>...</td>\n",
       "      <td>0</td>\n",
       "      <td>0</td>\n",
       "      <td>0</td>\n",
       "      <td>0</td>\n",
       "      <td>0</td>\n",
       "      <td>0</td>\n",
       "      <td>0</td>\n",
       "      <td>0</td>\n",
       "      <td>0</td>\n",
       "      <td>0</td>\n",
       "    </tr>\n",
       "    <tr>\n",
       "      <th>27</th>\n",
       "      <td>0</td>\n",
       "      <td>0</td>\n",
       "      <td>0</td>\n",
       "      <td>0</td>\n",
       "      <td>0</td>\n",
       "      <td>0</td>\n",
       "      <td>0</td>\n",
       "      <td>0</td>\n",
       "      <td>0</td>\n",
       "      <td>0</td>\n",
       "      <td>...</td>\n",
       "      <td>0</td>\n",
       "      <td>0</td>\n",
       "      <td>0</td>\n",
       "      <td>0</td>\n",
       "      <td>0</td>\n",
       "      <td>0</td>\n",
       "      <td>0</td>\n",
       "      <td>0</td>\n",
       "      <td>0</td>\n",
       "      <td>0</td>\n",
       "    </tr>\n",
       "    <tr>\n",
       "      <th>28</th>\n",
       "      <td>0</td>\n",
       "      <td>0</td>\n",
       "      <td>0</td>\n",
       "      <td>0</td>\n",
       "      <td>0</td>\n",
       "      <td>0</td>\n",
       "      <td>0</td>\n",
       "      <td>0</td>\n",
       "      <td>0</td>\n",
       "      <td>0</td>\n",
       "      <td>...</td>\n",
       "      <td>0</td>\n",
       "      <td>0</td>\n",
       "      <td>0</td>\n",
       "      <td>0</td>\n",
       "      <td>0</td>\n",
       "      <td>0</td>\n",
       "      <td>0</td>\n",
       "      <td>0</td>\n",
       "      <td>0</td>\n",
       "      <td>0</td>\n",
       "    </tr>\n",
       "    <tr>\n",
       "      <th>29</th>\n",
       "      <td>0</td>\n",
       "      <td>0</td>\n",
       "      <td>0</td>\n",
       "      <td>0</td>\n",
       "      <td>0</td>\n",
       "      <td>0</td>\n",
       "      <td>0</td>\n",
       "      <td>0</td>\n",
       "      <td>0</td>\n",
       "      <td>0</td>\n",
       "      <td>...</td>\n",
       "      <td>0</td>\n",
       "      <td>0</td>\n",
       "      <td>0</td>\n",
       "      <td>0</td>\n",
       "      <td>0</td>\n",
       "      <td>0</td>\n",
       "      <td>0</td>\n",
       "      <td>0</td>\n",
       "      <td>0</td>\n",
       "      <td>0</td>\n",
       "    </tr>\n",
       "    <tr>\n",
       "      <th>30</th>\n",
       "      <td>0</td>\n",
       "      <td>0</td>\n",
       "      <td>0</td>\n",
       "      <td>0</td>\n",
       "      <td>0</td>\n",
       "      <td>0</td>\n",
       "      <td>0</td>\n",
       "      <td>0</td>\n",
       "      <td>0</td>\n",
       "      <td>0</td>\n",
       "      <td>...</td>\n",
       "      <td>0</td>\n",
       "      <td>0</td>\n",
       "      <td>0</td>\n",
       "      <td>0</td>\n",
       "      <td>0</td>\n",
       "      <td>0</td>\n",
       "      <td>0</td>\n",
       "      <td>0</td>\n",
       "      <td>0</td>\n",
       "      <td>0</td>\n",
       "    </tr>\n",
       "    <tr>\n",
       "      <th>31</th>\n",
       "      <td>0</td>\n",
       "      <td>0</td>\n",
       "      <td>0</td>\n",
       "      <td>0</td>\n",
       "      <td>0</td>\n",
       "      <td>0</td>\n",
       "      <td>0</td>\n",
       "      <td>0</td>\n",
       "      <td>0</td>\n",
       "      <td>0</td>\n",
       "      <td>...</td>\n",
       "      <td>0</td>\n",
       "      <td>0</td>\n",
       "      <td>0</td>\n",
       "      <td>0</td>\n",
       "      <td>0</td>\n",
       "      <td>0</td>\n",
       "      <td>0</td>\n",
       "      <td>0</td>\n",
       "      <td>0</td>\n",
       "      <td>0</td>\n",
       "    </tr>\n",
       "  </tbody>\n",
       "</table>\n",
       "<p>32 rows × 32 columns</p>\n",
       "</div>"
      ],
      "text/plain": [
       "    bin/sed  /etc/rc  /etc/init.d/  /proc/  /etc/sed  /selinux  /boot/  \\\n",
       "0         0        0             0       0         0         0       0   \n",
       "1         0        0             0       0         0         0       0   \n",
       "2         0        0             0       0         0         0       0   \n",
       "3         0        0             0       0         0         0       0   \n",
       "4         0        0             0       0         0         0       0   \n",
       "5         0        0             0       0         0         0       0   \n",
       "6         0        0             0       0         0         0       0   \n",
       "7         0        0             0       0         0         0       0   \n",
       "8         0        0             0       0         0         0       0   \n",
       "9         0        0             0       0         0         0       0   \n",
       "10        0        0             0       0         0         0       0   \n",
       "11        0        0             0       0         0         0       0   \n",
       "12        0        0             0       0         0         0       0   \n",
       "13        0        0             0       0         0         0       0   \n",
       "14        0        0             0       0         0         0       0   \n",
       "15        0        0             0       0         0         0       0   \n",
       "16        0        0             0       0         0         0       0   \n",
       "17        0        0             0       0         0         0       0   \n",
       "18        0        0             0       0         0         0       0   \n",
       "19        0        0             0       0         0         0       0   \n",
       "20        0        0             0       0         0         0       0   \n",
       "21        0        0             0       0         0         0       0   \n",
       "22        0        0             0       0         0         0       0   \n",
       "23        0        0             0       0         0         0       0   \n",
       "24        0        0             0       0         0         0       0   \n",
       "25        0        0             0       0         0         0       0   \n",
       "26        0        0             0       0         0         0       0   \n",
       "27        0        0             0       0         0         0       0   \n",
       "28        0        0             0       0         0         0       0   \n",
       "29        0        0             0       0         0         0       0   \n",
       "30        0        0             0       0         0         0       0   \n",
       "31        0        0             0       0         0         0       0   \n",
       "\n",
       "    /proc/rs_dev  /boot/[a-z]{10}  /run/  ...  ^pipe(\\$|\\.|$)  \\\n",
       "0              0                0      0  ...               0   \n",
       "1              0                0      0  ...               0   \n",
       "2              0                0      0  ...               0   \n",
       "3              0                0      0  ...               0   \n",
       "4              0                0      0  ...               0   \n",
       "5              0                0      0  ...               0   \n",
       "6              0                0      0  ...               0   \n",
       "7              0                0      0  ...               0   \n",
       "8              0                0      0  ...               0   \n",
       "9              0                0      0  ...               0   \n",
       "10             0                0      0  ...               0   \n",
       "11             0                0      0  ...               0   \n",
       "12             0                0      0  ...               0   \n",
       "13             0                0      0  ...               0   \n",
       "14             0                0      0  ...               0   \n",
       "15             0                0      0  ...               0   \n",
       "16             0                0      0  ...               0   \n",
       "17             0                0      0  ...               0   \n",
       "18             0                0      0  ...               0   \n",
       "19             0                0      0  ...               0   \n",
       "20             0                0      0  ...               0   \n",
       "21             0                0      0  ...               0   \n",
       "22             0                0      0  ...               0   \n",
       "23             0                0      0  ...               0   \n",
       "24             0                0      0  ...               0   \n",
       "25             0                0      0  ...               0   \n",
       "26             0                0      0  ...               0   \n",
       "27             0                0      0  ...               0   \n",
       "28             0                0      0  ...               0   \n",
       "29             0                0      0  ...               0   \n",
       "30             0                0      0  ...               0   \n",
       "31             0                0      0  ...               0   \n",
       "\n",
       "    \\d{1,3}\\.\\d{1,3}\\.\\d{1,3}\\.\\d{1,3}  [a-zA-z]:\\d{1,5}$  port \\d{1,5}$  \\\n",
       "0                                    0                  0              0   \n",
       "1                                    0                  0              0   \n",
       "2                                    0                  0              0   \n",
       "3                                    0                  0              0   \n",
       "4                                    0                  0              0   \n",
       "5                                    0                  0              0   \n",
       "6                                    0                  0              0   \n",
       "7                                    0                  0              0   \n",
       "8                                    0                  0              0   \n",
       "9                                    0                  0              0   \n",
       "10                                   0                  0              0   \n",
       "11                                   0                  0              0   \n",
       "12                                   0                  0              0   \n",
       "13                                   0                  0              0   \n",
       "14                                   0                  0              0   \n",
       "15                                   0                  0              0   \n",
       "16                                   0                  0              0   \n",
       "17                                   0                  0              0   \n",
       "18                                   0                  0              0   \n",
       "19                                   0                  0              0   \n",
       "20                                   0                  0              0   \n",
       "21                                   0                  0              0   \n",
       "22                                   0                  0              0   \n",
       "23                                   0                  0              0   \n",
       "24                                   0                  0              0   \n",
       "25                                   0                  0              0   \n",
       "26                                   0                  0              0   \n",
       "27                                   0                  0              0   \n",
       "28                                   0                  0              0   \n",
       "29                                   0                  0              0   \n",
       "30                                   0                  0              0   \n",
       "31                                   0                  0              0   \n",
       "\n",
       "    \\d{1,3}\\.\\d{1,3}\\.\\d{1,3}\\.\\d{1,3}:\\d{1,5}$  0x[0-9a-zA-Z]{8}  \\\n",
       "0                                             0                 0   \n",
       "1                                             0                 0   \n",
       "2                                             0                 0   \n",
       "3                                             0                 0   \n",
       "4                                             0                 0   \n",
       "5                                             0                 0   \n",
       "6                                             0                 0   \n",
       "7                                             0                 0   \n",
       "8                                             0                 0   \n",
       "9                                             0                 0   \n",
       "10                                            0                 0   \n",
       "11                                            0                 0   \n",
       "12                                            0                 0   \n",
       "13                                            0                 0   \n",
       "14                                            0                 0   \n",
       "15                                            0                 0   \n",
       "16                                            0                 0   \n",
       "17                                            0                 0   \n",
       "18                                            0                 0   \n",
       "19                                            0                 0   \n",
       "20                                            0                 0   \n",
       "21                                            0                 0   \n",
       "22                                            0                 0   \n",
       "23                                            0                 0   \n",
       "24                                            0                 0   \n",
       "25                                            0                 0   \n",
       "26                                            0                 0   \n",
       "27                                            0                 0   \n",
       "28                                            0                 0   \n",
       "29                                            0                 0   \n",
       "30                                            0                 0   \n",
       "31                                            0                 0   \n",
       "\n",
       "    UID(\\$|\\.|$)  GID(\\$|\\.|$)  permission(\\s|:)[0-9]{1,4}  match  \n",
       "0              0             0                           0      0  \n",
       "1              0             0                           0      0  \n",
       "2              0             0                           0      0  \n",
       "3              0             0                           0      0  \n",
       "4              0             0                           0      0  \n",
       "5              0             0                           0      0  \n",
       "6              0             0                           0      0  \n",
       "7              0             0                           0      0  \n",
       "8              0             0                           0      0  \n",
       "9              0             0                           0      0  \n",
       "10             0             0                           0      0  \n",
       "11             0             0                           0      0  \n",
       "12             0             0                           0      0  \n",
       "13             0             0                           0      0  \n",
       "14             0             0                           0      0  \n",
       "15             0             0                           0      0  \n",
       "16             0             0                           0      0  \n",
       "17             0             0                           0      0  \n",
       "18             0             0                           0      0  \n",
       "19             0             0                           0      0  \n",
       "20             0             0                           0      0  \n",
       "21             0             0                           0      0  \n",
       "22             0             0                           0      0  \n",
       "23             0             0                           0      0  \n",
       "24             0             0                           0      0  \n",
       "25             0             0                           0      0  \n",
       "26             0             0                           0      0  \n",
       "27             0             0                           0      0  \n",
       "28             0             0                           0      0  \n",
       "29             0             0                           0      0  \n",
       "30             0             0                           0      0  \n",
       "31             0             0                           0      0  \n",
       "\n",
       "[32 rows x 32 columns]"
      ]
     },
     "metadata": {},
     "output_type": "display_data"
    }
   ],
   "source": [
    "for rem in fset.rem_lst:\n",
    "    display(rem.get_match_sentences())\n",
    "    break"
   ]
  },
  {
   "cell_type": "code",
   "execution_count": null,
   "metadata": {},
   "outputs": [],
   "source": []
  }
 ],
 "metadata": {
  "kernelspec": {
   "display_name": "Python 3.10.5 64-bit",
   "language": "python",
   "name": "python3"
  },
  "language_info": {
   "codemirror_mode": {
    "name": "ipython",
    "version": 3
   },
   "file_extension": ".py",
   "mimetype": "text/x-python",
   "name": "python",
   "nbconvert_exporter": "python",
   "pygments_lexer": "ipython3",
   "version": "3.10.5"
  },
  "orig_nbformat": 4,
  "vscode": {
   "interpreter": {
    "hash": "125a1d8b627fe68767755740015967bae857d08bb92fb3fd0d9d8ed24f978d39"
   }
  }
 },
 "nbformat": 4,
 "nbformat_minor": 2
}
