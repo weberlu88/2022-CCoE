{
 "cells": [
  {
   "cell_type": "code",
   "execution_count": 1,
   "metadata": {},
   "outputs": [],
   "source": [
    "import re\n",
    "import os\n",
    "from os import listdir\n",
    "from os.path import isfile, join\n",
    "from pathlib import Path\n",
    "import pandas as pd\n",
    "import pickle\n",
    "from typing import Dict, List, get_type_hints\n",
    "from styleframe import StyleFrame, Styler\n",
    "from IPython.display import display\n",
    "\n",
    "''' 自己寫的模組 '''\n",
    "from cc_regex_script import RegexMatchResult, RegexMaster \n",
    "from cc_nlp_script import find_verb_of_vocab, OperationMode, OperationEvaluator\n",
    "from cc_module_cust import AttackGraph, Node, Edge, FileTable #, build"
   ]
  },
  {
   "cell_type": "markdown",
   "metadata": {},
   "source": [
    "### Load 所有 Dofloo 的 object，計算並儲存其 regex"
   ]
  },
  {
   "cell_type": "code",
   "execution_count": 2,
   "metadata": {},
   "outputs": [
    {
     "name": "stdout",
     "output_type": "stream",
     "text": [
      "family Xorddos has numOfSample 21, first is 07c070b717a23453a2b71c7582d6a928\n",
      "samplename: ['0aefb67c01a24d05351b093455203fa2']\n"
     ]
    }
   ],
   "source": [
    "family = 'Xorddos' # Dofloo Xorddos\n",
    "\n",
    "sample_info = pd.read_csv('../../C malware info/sample_info.csv')\n",
    "dofloo_info = sample_info[(sample_info['family'] == family) & \n",
    "            (~sample_info['filename'].isin(['8845355172c485813872f1bb1834de15.bin']))]\n",
    "samplename_lst = dofloo_info['filename'].to_list()\n",
    "samplename_lst = [name.split('.')[0] for name in samplename_lst]\n",
    "print(f\"family {family} has numOfSample {len(samplename_lst)}, first is {samplename_lst[0]}\")\n",
    "\n",
    "if family == 'Dofloo':\n",
    "    samplename_lst = ['0046a78514a658b9b7a4e29e8581f85b'] # 只先使用這個 dof sample\n",
    "if family == 'Xorddos':\n",
    "    samplename_lst = ['0aefb67c01a24d05351b093455203fa2'] # 只先使用這個 xor sample\n",
    "\n",
    "print('samplename:', samplename_lst)"
   ]
  },
  {
   "cell_type": "code",
   "execution_count": 3,
   "metadata": {},
   "outputs": [
    {
     "name": "stdout",
     "output_type": "stream",
     "text": [
      "True\n",
      "{<OP act=a, obj=a>}\n"
     ]
    }
   ],
   "source": [
    "class OperationPair:\n",
    "    SYSCALL = 0\n",
    "    VERB = 1\n",
    "\n",
    "    def __init__(self, action:str, object:str, type:int=0, subject:str=None, step_number:int=None, original_object=None, original_sentence=None):\n",
    "        self.object = object # regex\n",
    "        self.action = action # verb or syscall\n",
    "        self.type = type\n",
    "        self.subject = subject\n",
    "        self.step_number = step_number\n",
    "        self.original_object = original_object # can store original matched word (object) from CTD\n",
    "        self.original_sentence = original_sentence # can store the mathced sentence\n",
    "        pass\n",
    "\n",
    "    def __eq__(self, other): \n",
    "        if not isinstance(other, OperationPair):\n",
    "            # don't attempt to compare against unrelated types\n",
    "            return NotImplemented\n",
    "        # Same if <action, object> pair is same (type is not consider yet)\n",
    "        return self.action == other.action and self.object == other.object\n",
    "\n",
    "    def __hash__(self) -> int:\n",
    "        # necessary for instances to behave sanely in dicts and sets.\n",
    "        return hash((self.action, self.object))\n",
    "\n",
    "    def __str__(self) -> str:\n",
    "        return f\"<OP act={self.action}, obj={self.object}>\"\n",
    "    def __repr__(self) -> str:\n",
    "        return str(self)\n",
    "        \n",
    "# test case\n",
    "p_aa = OperationPair('a','a')\n",
    "p_aaz = OperationPair('a','a')\n",
    "p_ab = OperationPair('a','b')\n",
    "\n",
    "print(p_aa == p_aaz) # True\n",
    "print(set([p_aa, p_aaz])) # one element\n",
    "\n",
    "def construct_sample_OPset(step_list: list, keep_src_node=False, debug=False, rt_order=True) -> set:\n",
    "    '''return a list of OPset. RegexMaster and family are gobal variable.'''\n",
    "    if debug:\n",
    "        print('step_list len:', len(set(step_list)))\n",
    "    OPlst_raw = list((src_node.name, dst_node.name, syscall) for (src_node, dst_node, syscall) in step_list) # object is raw\n",
    "    OPset_raw = list(dict.fromkeys(OPlst_raw))\n",
    "    if debug:\n",
    "        print('OPlst_raw len:', len(OPlst_raw)) # why len is 123100? (while step_list len is 7775) (must be equal)\n",
    "        print(f\"OPlst_raw: {OPlst_raw[:10]}\")\n",
    "        print('OPset_raw len:', len(OPset_raw)) # len is 5925 for xor\n",
    "        print(f\"OPset_raw: {OPset_raw[:10]}\")\n",
    "    regexMaster = RegexMaster(familyname=family)\n",
    "    regex_pool = regexMaster.get_all_regex()\n",
    "    OPset = set()\n",
    "    OPset_ordered = list()\n",
    "    for (src_node, dst_node, syscall) in OPset_raw:\n",
    "        regex_dst_node_list = RegexMaster.find_spacial_token_with_regex(regex_pool, dst_node)\n",
    "        if regex_dst_node_list is None or len(regex_dst_node_list) == 0:\n",
    "            continue\n",
    "        for regex_result in regex_dst_node_list:\n",
    "            dst_node = regex_result.match_regex\n",
    "            if keep_src_node:\n",
    "                op = OperationPair(syscall, dst_node, subject=src_node)\n",
    "                OPset.add(op) # keep src_node in OP\n",
    "                if op not in OPset_ordered:\n",
    "                    OPset_ordered.append(op)\n",
    "            else:\n",
    "                op = OperationPair(syscall, dst_node)\n",
    "                OPset.add(op) # only dst_node, syscall in OP\n",
    "                if op not in OPset_ordered:\n",
    "                    OPset_ordered.append(op)\n",
    "    if debug:\n",
    "        print('OPset len:', len(OPset), 'OPset_ordered len:', len(OPset_ordered))\n",
    "    if rt_order:\n",
    "        return OPset, OPset_ordered\n",
    "    return OPset\n",
    "\n",
    "# def construct_sample_stepList(step_list: list, keep_src_node=False, debug=False) -> list:\n",
    "#     ''''''\n",
    "#     pass\n",
    "\n",
    "# test\n",
    "# sample_OPset = construct_sample_OPset(asg.step_list, debug=True)"
   ]
  },
  {
   "cell_type": "code",
   "execution_count": 4,
   "metadata": {},
   "outputs": [
    {
     "name": "stdout",
     "output_type": "stream",
     "text": [
      "Exam: sample S1 matches 31 of regex\n",
      "Size of regex_pool: 31, size of total_used_regex: 0\n"
     ]
    }
   ],
   "source": [
    "class Sample:\n",
    "    def __init__(self, samplename:str, regex_set:set=None, special_token_dict=None, step_list=None) -> None:\n",
    "        self.samplename: str = samplename\n",
    "        self.regex_set: set = set()\n",
    "        if regex_set:\n",
    "            self.regex_set = regex_set\n",
    "        self.special_token_dict = {}\n",
    "        if special_token_dict:\n",
    "            self.special_token_dict: dict = special_token_dict # list of dict\n",
    "        if step_list:\n",
    "            self.step_list = step_list\n",
    "            OPset, OPset_ordered = construct_sample_OPset(step_list)\n",
    "            self.OPset: set[OperationPair] = OPset\n",
    "            self.OPset_ordered: list[OperationPair] = OPset_ordered # 依照出現順序排序的 OPset (元素相同順序不同)\n",
    "            self.OPset_sysOnly_ordered = [] # 尚未初始化 只儲存改變系統狀態的 OP 的物件\n",
    "            self.OPset_sysOnly_ordered_index = [] # 尚未初始化 只儲存改變系統狀態的 OP 的 index\n",
    "            del OPset, OPset_ordered\n",
    "        pass\n",
    "    def __repr__(self) -> str:\n",
    "        return f\"<Sample self.samplename>\"\n",
    "\n",
    "''' 讀取 ASG 中的 set_of_object (就是這個樣本的 special_token_dict)，並歸納樣本的 regex_set '''\n",
    "regexMaster = RegexMaster(familyname=family)\n",
    "regex_pool = regexMaster.get_all_regex()\n",
    "# total_used_regex = set()\n",
    "samples: list[Sample] = []\n",
    "for samplename in samplename_lst:\n",
    "    with open(f'../../C ASG statistics 1115ver/saved_pkl/{family}/{samplename}.pkl', 'rb') as inp:\n",
    "        asg: AttackGraph = pickle.load(inp) # asg.set_of_object is dict() (key:spacial token, value: type 首字大寫)\n",
    "        sample = Sample(samplename, special_token_dict=asg.set_of_object, step_list=asg.step_list)\n",
    "        sample.regex_set = set(regex_pool) # 直接使用志剛寫的作為這個樣本的 baseline\n",
    "        # for obj in sample.special_token_dict.keys():\n",
    "        #     matched_list: list[RegexMatchResult] = regexMaster.find_spacial_token(obj)\n",
    "        #     if matched_list:\n",
    "        #         # print(obj, matched_list)\n",
    "        #         [sample.regex_set.add(m.match_regex) for m in matched_list]\n",
    "        #         # [total_used_regex.add(m.match_regex) for m in matched_list]\n",
    "        # print('------', sample.regex_set)\n",
    "        # break\n",
    "        samples.append(sample)\n",
    "    # del asg\n",
    "print(f'Exam: sample S1 matches {len(samples[0].regex_set)} of regex')\n",
    "print(f'Size of regex_pool: {len(regex_pool)}, size of total_used_regex: {len(regexMaster.used_regex_set)}')"
   ]
  },
  {
   "cell_type": "code",
   "execution_count": 5,
   "metadata": {},
   "outputs": [
    {
     "data": {
      "text/plain": [
       "set()"
      ]
     },
     "execution_count": 5,
     "metadata": {},
     "output_type": "execute_result"
    }
   ],
   "source": [
    "# 只差這四個不在 asg set_of_object 中 {'0x[0-9a-zA-Z]{8}', 'GID', 'UID', 'port \\\\d{1,5}$'}\n",
    "set(regex_pool) - samples[0].regex_set"
   ]
  },
  {
   "cell_type": "code",
   "execution_count": 6,
   "metadata": {},
   "outputs": [
    {
     "data": {
      "text/plain": [
       "' Save result to txt file 沒事不要 run ! '"
      ]
     },
     "execution_count": 6,
     "metadata": {},
     "output_type": "execute_result"
    }
   ],
   "source": [
    "''' Save result to txt file 沒事不要 run ! '''\n",
    "# total_regex = set()\n",
    "# with open('./result/countof_regexset.txt', 'w', encoding='utf-8') as opf:\n",
    "#     # header\n",
    "#     opf.write('{:12s}'.format('Sample no.'))\n",
    "#     for i in range(len(samples)):\n",
    "#         if i+1 < 10:\n",
    "#             opf.write(f' S{i+1} ')\n",
    "#         else:\n",
    "#             opf.write(f'S{i+1} ')\n",
    "#     opf.write('\\n')\n",
    "#     # opf.write('{:12s}'.format('# of regex'))\n",
    "#     num_of_regex_string = '{:12s}'.format('# of regex')\n",
    "#     num_of_objects_string = '{:12s}'.format('# of object ') # 所有的類別喔! 無過濾\n",
    "#     for i in range(len(samples)):\n",
    "#         # opf.write(f'{len(samples[i].regex_set):>3} ')\n",
    "#         num_of_regex_string += f'{len(samples[i].regex_set):>3} '\n",
    "#         num_of_objects_string += f'{len(samples[i].special_token_dict):>3} '\n",
    "#     opf.write(num_of_objects_string+'\\n')\n",
    "#     opf.write(num_of_regex_string)\n",
    "#     opf.write('\\n{:12s}'.format('Sample hash'))\n",
    "#     for i in range(len(samples)):\n",
    "#         opf.write(f'{samples[i].samplename[:3]:>3} ')\n",
    "#     opf.write('\\n\\n')\n",
    "#     opf.write(f'Size of regex_pool: {len(regex_pool)}, size of total_used_regex: {len(regexMaster.used_regex_set)}\\n\\n')\n",
    "\n",
    "#     # content of each sample\n",
    "#     for i,s in enumerate(samples):\n",
    "#         content_1 = f\"S{i+1} has {len(s.regex_set)} of regex\\n\"\n",
    "#         content_2 = f\"regex_set: {s.regex_set}\\n\"\n",
    "#         content_3 = f\"special_token_dict: {s.special_token_dict.keys()}\\n\"\n",
    "#         opf.writelines([content_1, content_2, content_3])\n",
    "#         opf.write('\\n\\n')"
   ]
  },
  {
   "cell_type": "markdown",
   "metadata": {},
   "source": [
    "### Load Reports"
   ]
  },
  {
   "cell_type": "code",
   "execution_count": 7,
   "metadata": {},
   "outputs": [
    {
     "data": {
      "text/plain": [
       "['Xorddos-Cdnetworks.csv',\n",
       " 'Xorddos-Crowdstrike.csv',\n",
       " 'Xorddos-Intezer.csv',\n",
       " 'Xorddos-Microsoft.csv',\n",
       " 'Xorddos-Trendmicro.csv',\n",
       " 'Xorddos-Trendmicro2.csv']"
      ]
     },
     "execution_count": 7,
     "metadata": {},
     "output_type": "execute_result"
    }
   ],
   "source": [
    "report_fir_path = '../../C parse report/sentence csvs/'\n",
    "# family, samplename, outputfolder = 'Xorddos', '???', './result'\n",
    "outputfolder = './result'\n",
    "\n",
    "def get_all_filenames(dir: str='./') -> list:\n",
    "    ''' traverse root directory, and list directories as dirs and files as files. Return filenames in rootdir. '''\n",
    "    files = [f for f in listdir(dir) if isfile(join(dir, f))]\n",
    "    files.sort()\n",
    "    return files\n",
    "\n",
    "xor_report_names = [f for f in get_all_filenames(report_fir_path) if f.startswith(family)] # 只選擇這個家族的報告\n",
    "xor_report_dfs = [pd.read_csv(f\"{report_fir_path}{f}\") for f in xor_report_names]\n",
    "xor_report_names"
   ]
  },
  {
   "cell_type": "code",
   "execution_count": 8,
   "metadata": {},
   "outputs": [
    {
     "data": {
      "text/html": [
       "<div>\n",
       "<style scoped>\n",
       "    .dataframe tbody tr th:only-of-type {\n",
       "        vertical-align: middle;\n",
       "    }\n",
       "\n",
       "    .dataframe tbody tr th {\n",
       "        vertical-align: top;\n",
       "    }\n",
       "\n",
       "    .dataframe thead th {\n",
       "        text-align: right;\n",
       "    }\n",
       "</style>\n",
       "<table border=\"1\" class=\"dataframe\">\n",
       "  <thead>\n",
       "    <tr style=\"text-align: right;\">\n",
       "      <th></th>\n",
       "      <th>Number</th>\n",
       "      <th>Content</th>\n",
       "    </tr>\n",
       "  </thead>\n",
       "  <tbody>\n",
       "    <tr>\n",
       "      <th>0</th>\n",
       "      <td>Sentence 1</td>\n",
       "      <td>understanding a xor.ddos attack\\n2月 17, 2021\\n...</td>\n",
       "    </tr>\n",
       "    <tr>\n",
       "      <th>1</th>\n",
       "      <td>Sentence 2</td>\n",
       "      <td>xor.ddos is the name of the malware, not the a...</td>\n",
       "    </tr>\n",
       "    <tr>\n",
       "      <th>2</th>\n",
       "      <td>Sentence 3</td>\n",
       "      <td>it was detected in september 2014 and the anal...</td>\n",
       "    </tr>\n",
       "    <tr>\n",
       "      <th>3</th>\n",
       "      <td>Sentence 4</td>\n",
       "      <td>is a distributed denial-of-service attack from...</td>\n",
       "    </tr>\n",
       "    <tr>\n",
       "      <th>4</th>\n",
       "      <td>Sentence 5</td>\n",
       "      <td>in many ways it is and in this guide, we will ...</td>\n",
       "    </tr>\n",
       "    <tr>\n",
       "      <th>5</th>\n",
       "      <td>Sentence 6</td>\n",
       "      <td>what is xor.ddos malware?</td>\n",
       "    </tr>\n",
       "    <tr>\n",
       "      <th>6</th>\n",
       "      <td>Sentence 7</td>\n",
       "      <td>the traditional attack utilized the existing v...</td>\n",
       "    </tr>\n",
       "    <tr>\n",
       "      <th>7</th>\n",
       "      <td>Sentence 8</td>\n",
       "      <td>however, xor.ddos makes windows pcs into zombi...</td>\n",
       "    </tr>\n",
       "    <tr>\n",
       "      <th>8</th>\n",
       "      <td>Sentence 9</td>\n",
       "      <td>the xor.ddos attack is used to defeat the netw...</td>\n",
       "    </tr>\n",
       "    <tr>\n",
       "      <th>9</th>\n",
       "      <td>Sentence 10</td>\n",
       "      <td>this is a very serious threat to the network b...</td>\n",
       "    </tr>\n",
       "    <tr>\n",
       "      <th>10</th>\n",
       "      <td>Sentence 11</td>\n",
       "      <td>in addition to these primary targets, the udp ...</td>\n",
       "    </tr>\n",
       "    <tr>\n",
       "      <th>11</th>\n",
       "      <td>Sentence 12</td>\n",
       "      <td>however, the xor.ddos attack uses the tcp, whi...</td>\n",
       "    </tr>\n",
       "    <tr>\n",
       "      <th>12</th>\n",
       "      <td>Sentence 13</td>\n",
       "      <td>a brute force attack tries many random passwor...</td>\n",
       "    </tr>\n",
       "    <tr>\n",
       "      <th>13</th>\n",
       "      <td>Sentence 14</td>\n",
       "      <td>there are various types of brute force attacks...</td>\n",
       "    </tr>\n",
       "    <tr>\n",
       "      <th>14</th>\n",
       "      <td>Sentence 15</td>\n",
       "      <td>origin of xor.ddos attacks\\n77.1 % of xor.ddos...</td>\n",
       "    </tr>\n",
       "    <tr>\n",
       "      <th>15</th>\n",
       "      <td>Sentence 16</td>\n",
       "      <td>many large-scale cloud service providers were ...</td>\n",
       "    </tr>\n",
       "    <tr>\n",
       "      <th>16</th>\n",
       "      <td>Sentence 17</td>\n",
       "      <td>in addition, as ssh services (22/tcp) are bein...</td>\n",
       "    </tr>\n",
       "    <tr>\n",
       "      <th>17</th>\n",
       "      <td>Sentence 18</td>\n",
       "      <td>countermeasures against xor.ddos attacks\\nthe ...</td>\n",
       "    </tr>\n",
       "    <tr>\n",
       "      <th>18</th>\n",
       "      <td>Sentence 19</td>\n",
       "      <td>syn is just a process to perform a 3-way hands...</td>\n",
       "    </tr>\n",
       "    <tr>\n",
       "      <th>19</th>\n",
       "      <td>Sentence 20</td>\n",
       "      <td>if syn packets with data are detected, the xor...</td>\n",
       "    </tr>\n",
       "    <tr>\n",
       "      <th>20</th>\n",
       "      <td>Sentence 21</td>\n",
       "      <td>in addition, it is good to use a syn cookie ag...</td>\n",
       "    </tr>\n",
       "    <tr>\n",
       "      <th>21</th>\n",
       "      <td>Sentence 22</td>\n",
       "      <td>the syn cookie blocks syn spoofing effectively...</td>\n",
       "    </tr>\n",
       "    <tr>\n",
       "      <th>22</th>\n",
       "      <td>Sentence 23</td>\n",
       "      <td>the syn cookie does not require a certain time...</td>\n",
       "    </tr>\n",
       "    <tr>\n",
       "      <th>23</th>\n",
       "      <td>Sentence 24</td>\n",
       "      <td>therefore, the syn cookie is a very effective ...</td>\n",
       "    </tr>\n",
       "    <tr>\n",
       "      <th>24</th>\n",
       "      <td>Sentence 25</td>\n",
       "      <td>alternatively, first syn drop can be a second ...</td>\n",
       "    </tr>\n",
       "    <tr>\n",
       "      <th>25</th>\n",
       "      <td>Sentence 26</td>\n",
       "      <td>this technique works by saving the first syn p...</td>\n",
       "    </tr>\n",
       "    <tr>\n",
       "      <th>26</th>\n",
       "      <td>Sentence 27</td>\n",
       "      <td>if the session request is normal, the same ip ...</td>\n",
       "    </tr>\n",
       "    <tr>\n",
       "      <th>27</th>\n",
       "      <td>Sentence 28</td>\n",
       "      <td>if the request is made for attack, another syn...</td>\n",
       "    </tr>\n",
       "    <tr>\n",
       "      <th>28</th>\n",
       "      <td>Sentence 29</td>\n",
       "      <td>conclusion – get a ddos mitigation service\\na ...</td>\n",
       "    </tr>\n",
       "    <tr>\n",
       "      <th>29</th>\n",
       "      <td>Sentence 30</td>\n",
       "      <td>the content delivery network industry can prov...</td>\n",
       "    </tr>\n",
       "    <tr>\n",
       "      <th>30</th>\n",
       "      <td>Sentence 31</td>\n",
       "      <td>as the services are cloud-based, the available...</td>\n",
       "    </tr>\n",
       "    <tr>\n",
       "      <th>31</th>\n",
       "      <td>Sentence 32</td>\n",
       "      <td>with these services, most companies will benef...</td>\n",
       "    </tr>\n",
       "  </tbody>\n",
       "</table>\n",
       "</div>"
      ],
      "text/plain": [
       "         Number                                            Content\n",
       "0    Sentence 1  understanding a xor.ddos attack\\n2月 17, 2021\\n...\n",
       "1    Sentence 2  xor.ddos is the name of the malware, not the a...\n",
       "2    Sentence 3  it was detected in september 2014 and the anal...\n",
       "3    Sentence 4  is a distributed denial-of-service attack from...\n",
       "4    Sentence 5  in many ways it is and in this guide, we will ...\n",
       "5    Sentence 6                          what is xor.ddos malware?\n",
       "6    Sentence 7  the traditional attack utilized the existing v...\n",
       "7    Sentence 8  however, xor.ddos makes windows pcs into zombi...\n",
       "8    Sentence 9  the xor.ddos attack is used to defeat the netw...\n",
       "9   Sentence 10  this is a very serious threat to the network b...\n",
       "10  Sentence 11  in addition to these primary targets, the udp ...\n",
       "11  Sentence 12  however, the xor.ddos attack uses the tcp, whi...\n",
       "12  Sentence 13  a brute force attack tries many random passwor...\n",
       "13  Sentence 14  there are various types of brute force attacks...\n",
       "14  Sentence 15  origin of xor.ddos attacks\\n77.1 % of xor.ddos...\n",
       "15  Sentence 16  many large-scale cloud service providers were ...\n",
       "16  Sentence 17  in addition, as ssh services (22/tcp) are bein...\n",
       "17  Sentence 18  countermeasures against xor.ddos attacks\\nthe ...\n",
       "18  Sentence 19  syn is just a process to perform a 3-way hands...\n",
       "19  Sentence 20  if syn packets with data are detected, the xor...\n",
       "20  Sentence 21  in addition, it is good to use a syn cookie ag...\n",
       "21  Sentence 22  the syn cookie blocks syn spoofing effectively...\n",
       "22  Sentence 23  the syn cookie does not require a certain time...\n",
       "23  Sentence 24  therefore, the syn cookie is a very effective ...\n",
       "24  Sentence 25  alternatively, first syn drop can be a second ...\n",
       "25  Sentence 26  this technique works by saving the first syn p...\n",
       "26  Sentence 27  if the session request is normal, the same ip ...\n",
       "27  Sentence 28  if the request is made for attack, another syn...\n",
       "28  Sentence 29  conclusion – get a ddos mitigation service\\na ...\n",
       "29  Sentence 30  the content delivery network industry can prov...\n",
       "30  Sentence 31  as the services are cloud-based, the available...\n",
       "31  Sentence 32  with these services, most companies will benef..."
      ]
     },
     "execution_count": 8,
     "metadata": {},
     "output_type": "execute_result"
    }
   ],
   "source": [
    "xor_report_dfs[0]"
   ]
  },
  {
   "cell_type": "markdown",
   "metadata": {},
   "source": [
    "### 單篇文章的 Class 和 整個 Family 的 Class\n",
    "`baseline: Dict[str, list]` 改為 `regexMaster: RegexMaster`"
   ]
  },
  {
   "cell_type": "code",
   "execution_count": 9,
   "metadata": {},
   "outputs": [],
   "source": [
    "class ReportEvalModel:\n",
    "    def __init__(self, regex_set: set, sentences: pd.DataFrame, reportname:str=''):\n",
    "        self.regex_pool: set[str] = regex_set # 樣本or家族含有的 regex 集合\n",
    "        self.sentences = sentences # a df\n",
    "        self.reportname = reportname\n",
    "        cols = list(regex_pool)\n",
    "        self.match_tbl = pd.DataFrame([[0]*len(cols)]*len(sentences), columns=cols)\n",
    "        self.match_word:dict[(int,str), str] = dict() # key(idx_sent,regex) value(word:str)\n",
    "        self.match_regex = set()\n",
    "        self.doc_OPset:set[OperationPair] = set() # Set of doc's OperationalPair\n",
    "        self.match_doc_OPset:set[OperationPair] = set()\n",
    "        self.OPset_order_index = [] # 紀錄 ASG OP 的出現順序 (lifecycle)\n",
    "        self.SysOPset_order_index = [] # 只紀錄改變系統的\n",
    "        # self.asgSysOPset_order_index = []\n",
    "        # self.regexMaster = regexMaster # 其實應該用 class function 就不用傳入一個物件\n",
    "        self.match()\n",
    "\n",
    "    def match(self) -> None:\n",
    "        '''find baseline in sentences of report. Fill matching result in self.match_tbl.'''\n",
    "        sentence_list = self.sentences['Content']\n",
    "        for idx_sent, sent in enumerate(sentence_list):\n",
    "            # print(idx_sent, sent)\n",
    "            # find regexs in a sentence\n",
    "            matched_list: list[RegexMatchResult] = RegexMaster.find_spacial_token_with_regex(self.regex_pool, sent)\n",
    "            if not matched_list:\n",
    "                continue\n",
    "            for m in matched_list:\n",
    "                this_re = m.match_regex\n",
    "                matched_word = m.word\n",
    "                self.match_word[(idx_sent,this_re)] = m.word # 紀錄被 search 到的單字\n",
    "                # self.match_tbl.loc[idx_sent,this_re] = 1 # mark as found 節省空間\n",
    "                self.match_regex.add(this_re)\n",
    "                en_verb = find_verb_of_vocab(sent, m.word)\n",
    "                # print(f\"---\\nen_verb: {en_verb}, m.word: {m.word}, sent: {sent}\") # 列印所有動詞抓取情形\n",
    "                if en_verb:\n",
    "                    self.doc_OPset.add(OperationPair(en_verb, this_re, type=OperationPair.VERB, original_object=m.word)) # has verb\n",
    "                else:\n",
    "                    self.doc_OPset.add(OperationPair(None, this_re, type=OperationPair.VERB, original_object=m.word)) # no verb\n",
    "        pass\n",
    "    \n",
    "    def get_match_sentences(self) -> pd.DataFrame:\n",
    "        result = self.match_tbl.copy()\n",
    "        result['match'] = result.sum(axis=1)\n",
    "        return result\n",
    "    \n",
    "    def get_match_regexs(self) -> set:\n",
    "        return self.match_regex\n",
    "\n",
    "    def get_match_word(self, idx_sent:int, regex:str) -> str:\n",
    "        return self.match_word[(idx_sent, regex)]\n",
    "\n",
    "class FamilySet:\n",
    "    '''一個 malware family report 集合'''\n",
    "    def __init__(self, familyname:str, regexMaster: RegexMaster, sample: Sample=None):\n",
    "        self.familyname = familyname\n",
    "        self.regexMaster = regexMaster\n",
    "        self.num_of_used_regex = len(regexMaster.used_regex_set) # 這個家族含規則的總數量 (unoin by all samples)\n",
    "        self.sample = None\n",
    "        if sample:\n",
    "            self.sample = sample\n",
    "            self.num_of_used_regex = len(sample.regex_set) # 改以這個樣本規則的總數量為基準\n",
    "        self.rem_lst: List[ReportEvalModel] = [] # list of ReportEvalModel under this family\n",
    "        self.result_tbl = None\n",
    "\n",
    "    def add_rem(self, sentences: pd.DataFrame, reportname: str=''):\n",
    "        '''新增 report 到 FamilySet 中，需傳入文本和報告名稱，會沿用 FamilySet 的 baseline.'''\n",
    "        if self.sample:\n",
    "            rem = ReportEvalModel(list(self.sample.regex_set), sentences, reportname) # 基準是 Sample\n",
    "            self.rem_lst.append(rem)\n",
    "            return\n",
    "        rem = ReportEvalModel(self.regexMaster, sentences, reportname) # 基準是 Family union # need fix -> no first arg now\n",
    "        self.rem_lst.append(rem)\n",
    "\n",
    "    def calc_report_coverage_score(self, match_regexs: list[str], apply_weight=False) -> float:\n",
    "        '''計算這篇報告的 coverage_score，未處理分母為0之情形'''\n",
    "        if not apply_weight:\n",
    "            return len(match_regexs) / self.num_of_used_regex # 無權種的算法，分母是家族 wide\n",
    "        ''' 以下 有權重的算法尚未修改，必出 bug '''\n",
    "        # denominator = sum(self.regexMaster['weight']) # 分母\n",
    "        # numerator = 0 # 分子\n",
    "        # for b, w in zip(self.regexMaster['text'], self.regexMaster['weight']):\n",
    "        #     if b in match_baselines:\n",
    "        #         numerator += w\n",
    "        # return numerator/denominator\n",
    "\n",
    "    def show_result(self, apply_weight: bool=False, base_on_sample = True):\n",
    "        '''print and return result table. baselinse(x) * report(y).'''\n",
    "        column_names = ['report_name','ttl_match','coverage_score']\n",
    "        if base_on_sample:\n",
    "            column_names.extend(list(self.sample.regex_set))\n",
    "        else:\n",
    "            column_names.extend(list(regexMaster.used_regex_set))\n",
    "        result_tbl = pd.DataFrame([[0]*len(column_names)]*len(self.rem_lst), columns=column_names)\n",
    "        for i,rem in enumerate(self.rem_lst):\n",
    "            match_regexes = rem.get_match_regexs() # 這篇報告含有哪些 baseine:set\n",
    "            c_score = self.calc_report_coverage_score(match_regexes, apply_weight=apply_weight)\n",
    "            result_tbl.loc[i,'report_name'] = rem.reportname\n",
    "            result_tbl.loc[i,'ttl_match'] = len(match_regexes)\n",
    "            result_tbl.loc[i,'coverage_score'] = f'{c_score:.4}'\n",
    "            for b in match_regexes:\n",
    "                result_tbl.loc[i,b] = 1\n",
    "            print(rem.reportname, match_regexes)\n",
    "        display(result_tbl)\n",
    "        return result_tbl"
   ]
  },
  {
   "attachments": {},
   "cell_type": "markdown",
   "metadata": {},
   "source": [
    "### Run Script: 存檔每篇報告的 matched sentence (以樣本的 regex set 為基準)\n",
    "比較樣本間的辨別度，有 n 個樣本，就會跑 n 變，得出 n 個結果 (FanilySet)"
   ]
  },
  {
   "cell_type": "code",
   "execution_count": 10,
   "metadata": {},
   "outputs": [],
   "source": [
    "import os, psutil\n",
    "def print_mem_usage():\n",
    "    process = psutil.Process(os.getpid())\n",
    "    mem_usage = psutil.Process(os.getpid()).memory_info().rss / 1024 ** 2\n",
    "    print(f\"=== mem_usage: {mem_usage:.2f} MB ===\")  # in MiB \n",
    "\n",
    "def get_mem_usage() -> int:\n",
    "    # process = psutil.Process(os.getpid())\n",
    "    mem_usage = psutil.Process(os.getpid()).memory_info().rss / 1024 ** 2\n",
    "    return mem_usage\n",
    "\n",
    "def run_family_set_procedure(sample: Sample) -> FamilySet:\n",
    "    # family, regexMaster is global variable\n",
    "    fset = FamilySet(family, regexMaster, sample=sample)\n",
    "    for i,rdf in enumerate(xor_report_dfs):\n",
    "        # rem = ReportEvalModel(base_data, rdf, dofloo_report_names[i])\n",
    "        fset.add_rem(rdf, xor_report_names[i])\n",
    "    # result_tbl = fset.show_result(apply_weight=False)\n",
    "    # result_tbl.to_csv(f'{outputfolder}/{family}_{sample.samplename[:3]}_FamilySet_by_Regex.csv', index=False)\n",
    "    # print(f\"Sample {sample.samplename[:3]} has ttl_match {result_tbl['ttl_match'].sum()} on all documents.\") \n",
    "\n",
    "    # Calculate metrics\n",
    "    print_mem_usage()\n",
    "    print(f\"asg_object: {set([op.object for op in sample.OPset])}\\n\")\n",
    "    fset.sample.OPset_sysOnly_ordered = [op for op in sample.OPset if op.object.find('/etc') != -1]\n",
    "    fset.sample.OPset_sysOnly_ordered_index = [sample.OPset_ordered.index(op) for op in fset.sample.OPset_sysOnly_ordered]\n",
    "    for idx_rem, rem in enumerate(fset.rem_lst):\n",
    "        # asg_object = set([op.object for op in sample.OPset])\n",
    "        # ctd_object = set([op.object for op in rem.doc_OPset])\n",
    "        if rem.reportname == 'Xorddos-Microsoft.csv': # 除錯用\n",
    "            continue\n",
    "        print(f\"\\nSample {rem.reportname}\")\n",
    "        print(f\"\\tlenght of ctd's OPset is {len(rem.doc_OPset)}\")\n",
    "\n",
    "        # R_malObj 比較物件\n",
    "        asg_object = set([op.object for op in sample.OPset])\n",
    "        ctd_object = set([op.object for op in rem.doc_OPset])\n",
    "        ctd_object = ctd_object.intersection(asg_object)\n",
    "        numerator = len(ctd_object) # 分子\n",
    "        denominator = len(asg_object) # 分母\n",
    "        R_malObj = 0 if denominator == 0 else numerator/denominator\n",
    "        print(f\"\\t#R_malObj\\n\\tnum of ctd objects: {numerator}, num of asg objects: {denominator}. R_malObj is {R_malObj:.4f}\")\n",
    "        print(f\"\\t\\tctd_object: {ctd_object}\")\n",
    "\n",
    "        # R_malSysObj 比較系統物件\n",
    "        asg_sysobj = list(filter(lambda object: object.find('/etc') != -1, asg_object))\n",
    "        ctd_sysobj = list(filter(lambda object: object.find('/etc') != -1, ctd_object))\n",
    "        numerator = len(ctd_sysobj)\n",
    "        denominator = len(asg_sysobj)\n",
    "        R_malSysObj = 0 if denominator == 0 else numerator/denominator\n",
    "        print(f\"\\t#R_malSysObj\\n\\tnum of ctd objects: {numerator}, num of asg objects: {denominator}. R_malSysObj is {R_malSysObj:.4f}\")\n",
    "\n",
    "        # R_malOps 比較動作和物件\n",
    "        asg_OPset = list(sample.OPset)\n",
    "        ctd_OPset = list(rem.doc_OPset)\n",
    "        operationEvaluator = OperationEvaluator()\n",
    "        numerator, denominator, hits = 0, len(asg_OPset), []\n",
    "        print(f\"\\tlen(asg_OPset): {len(asg_OPset)}, len(ctd_OPset): {len(ctd_OPset)}\")\n",
    "        # 每一個 asg_op 跟所有同物件的的 ctd_op 進行 resolve() 比對，來判斷此 asg_op 是否被提及\n",
    "        i = 0\n",
    "        for idx_asg, asg_op in enumerate(asg_OPset): \n",
    "            i += 1\n",
    "            # print(f\"\\tno.{i} asg_op {asg_op}\") # 瓶頸卡在 no.51 step (total 71 step)\n",
    "            target_obj = asg_op.object\n",
    "            ctdSameObjOpsIdx = [i for i, x in enumerate(ctd_OPset) if x.object == target_obj]\n",
    "            # if i==51:\n",
    "            # print(f\"\\tno.{i} | asg_op {asg_op}, len of ctdSameObjOpsIdx: {ctdSameObjOpsIdx}\")\n",
    "            # ctdSameObjOps = [x for x in ctd_OPset if x.object == target_obj]\n",
    "            for idx in ctdSameObjOpsIdx:\n",
    "                pass\n",
    "                # mem_before_create_lst = get_mem_usage()\n",
    "                # print(\"\\tbefore resolve\", mem_before_create_lst)\n",
    "                hit = operationEvaluator.resolve(asg_op.action, ctd_OPset[idx].action)\n",
    "                # # print_mem_usage()\n",
    "                # mem_after_create_lst = get_mem_usage()\n",
    "                # # print(f\"\\t=== diff of mem_usage calling resolve(): {mem_after_create_lst - mem_before_create_lst:.2f}  ===\")\n",
    "        \n",
    "                if hit:\n",
    "                    numerator += 1\n",
    "                    hits.append((asg_OPset[idx_asg], ctd_OPset[idx]))\n",
    "                    fset.rem_lst[idx_rem].match_doc_OPset.add(ctd_OPset[idx])\n",
    "\n",
    "                    # 紀錄CTD的生命週期 (ASG_OP提及順序)\n",
    "                    step_num = sample.OPset_ordered.index(asg_op) # index of step, throw ValueError if not found\n",
    "                    fset.rem_lst[idx_rem].OPset_order_index.append(step_num)\n",
    "                    break\n",
    "        R_malOps = 0 if denominator == 0 else numerator/denominator\n",
    "        print(f\"\\t#R_malOps\\n\\tnum of matched asg op: {numerator}, num of asg op: {denominator}. R_malOps is {R_malOps:.4f}\")\n",
    "        print(f\"\\t\\trefered lifecycle: {fset.rem_lst[idx_rem].OPset_order_index}\")\n",
    "\n",
    "        # 紀錄CTD的生命週期 (OP提及順序)\n",
    "        # fset.rem_lst[idx_rem].OPset_order_index.clear()\n",
    "        # for ctd_op in fset.rem_lst[idx_rem].match_doc_OPset:\n",
    "        #     step_num = sample.OPset_ordered.index(ctd_op) # index of step, throw ValueError if not found\n",
    "        #     fset.rem_lst[idx_rem].OPset_order_index.append(step_num)\n",
    "\n",
    "        # R_malChangeOps 篩選出系統物件的動作\n",
    "        sys_hits = [pair for pair in hits if pair[0].object.find('/etc') != -1]\n",
    "        numerator = len(sys_hits)\n",
    "        sys_asg_OPset = [op for op in asg_OPset if op.object.find('/etc') != -1]\n",
    "        # print('sys_asg_OPset is unique:', len(sample.OPset_ordered) == len(set(sample.OPset_ordered))) # 元速度重複沒錯，可能是 index() 的問題\n",
    "        print(f\"\\t\\tsys_asg_OPset: {sys_asg_OPset}\")\n",
    "        denominator = len(sys_asg_OPset)\n",
    "        R_malChangeOps = 0 if denominator == 0 else numerator/denominator\n",
    "        print(f\"\\t#R_malChangeOps\\n\\tnum of matched asg op: {numerator}, num of asg op: {denominator}. R_malChangeOps is {R_malChangeOps:.4f}\")\n",
    "\n",
    "        # 紀錄CTD的生命週期 (OP提及順序)\n",
    "        fset.rem_lst[idx_rem].SysOPset_order_index.clear()\n",
    "        for asg_op , ctd_op in sys_hits:\n",
    "            step_num = sample.OPset_ordered.index(asg_op) # step index , throw ValueError if not found\n",
    "            fset.rem_lst[idx_rem].SysOPset_order_index.append(step_num)\n",
    "        print(f\"\\t\\tref-sys lifecycle: {fset.rem_lst[idx_rem].SysOPset_order_index}\")\n",
    "\n",
    "        if hits:\n",
    "            print(\"\\n\\thits\")\n",
    "            for asg_op, ctd_op in hits:\n",
    "                print(f\"\\t{asg_op}, {ctd_op}\")\n",
    "        if sys_hits:\n",
    "            print(\"\\n\\tsys_hits\")\n",
    "            for asg_op, ctd_op in sys_hits:\n",
    "                print(f\"\\t{asg_op}, {ctd_op}\")\n",
    "\n",
    "        # print_mem_usage()\n",
    "        # del asg_OPset, ctd_OPset, hits, sys_hits\n",
    "\n",
    "    return fset"
   ]
  },
  {
   "cell_type": "code",
   "execution_count": 11,
   "metadata": {},
   "outputs": [],
   "source": [
    "def save_match_sent_to_excel(fset: FamilySet, sample_name=None):\n",
    "    columns = ['report','regex','matched word','sentence number','sentence']\n",
    "    if sample_name:\n",
    "        output_xlsx = f'{outputfolder}/{family}_{sample_name[:3]}_report_match_sent.csv'\n",
    "    else:\n",
    "        output_xlsx = f'{outputfolder}/{family}_union_report_match_sent.csv'\n",
    "    has_match = sum([len(rem.get_match_regexs()) for rem in fset.rem_lst])\n",
    "    if has_match == 0:\n",
    "        print('no matches in CTI reports') # with open 一定要寫入，若全空則直接不開檔\n",
    "        return\n",
    "    # with pd.ExcelWriter(output_xlsx, engine='openpyxl') as writer:\n",
    "    \n",
    "    # 遍歷報告，一個 rem: ReportEvalModel 代表一篇報告\n",
    "    csv_data = []\n",
    "    match_sentence_ttlcnt = 0\n",
    "    for rem in fset.rem_lst:\n",
    "        reportname = rem.reportname.split('.')[0]\n",
    "        if len(rem.get_match_regexs()) == 0: # 如果報告中無 regex 跳過不紀錄\n",
    "            continue\n",
    "        # sheet_data = [] # shape = columns_len * match_sent_len\n",
    "        sent_df = rem.get_match_sentences()\n",
    "        sent_content_lst = rem.sentences['Content'] # 報告中的每個句子\n",
    "        match_sentence_ttlcnt += sent_df['match'].sum()\n",
    "\n",
    "        # 遍歷每個含有 regex 的句子\n",
    "        for sid, row in sent_df.iterrows():\n",
    "            if row['match'] == 0:\n",
    "                continue\n",
    "            row.drop('match', inplace=True)\n",
    "            row = row[row > 0]\n",
    "            # print(row)\n",
    "            # 考量每個句子可能含有多個 regex，故需寫成多行\n",
    "            for i, v in row.items():\n",
    "                insert_data = dict().fromkeys(columns)\n",
    "                insert_data['report'] = reportname\n",
    "                insert_data['regex'] = i\n",
    "                insert_data['matched word'] = rem.get_match_word(sid, i)\n",
    "                insert_data['sentence number'] = sid + 1\n",
    "                insert_data['sentence'] = str(sent_content_lst[sid]).strip()\n",
    "                # sheet_data.append(insert_data)\n",
    "                csv_data.append(insert_data)\n",
    "    df = pd.DataFrame(csv_data)\n",
    "    # print(df)\n",
    "    df.to_csv(output_xlsx, index=False)\n",
    "\n",
    "            # 輸出 csv\n",
    "            \n",
    "            # 輸出 excel sheet\n",
    "            # print(rem.reportname,'has', len(sheet_data),'matches')\n",
    "            # output_sheet = pd.DataFrame(sheet_data)\n",
    "            # # output_sheet.style.set_properties(subset=['sentence'])\n",
    "            # styler = Styler(horizontal_alignment='left', vertical_alignment='top')\n",
    "            # sf = StyleFrame(output_sheet, styler)\n",
    "            # sf = sf.set_column_width(columns=['baseline'], width=20.0)\n",
    "            # sf = sf.set_column_width(columns=['sentence number'], width=15.0)\n",
    "            # sf = sf.set_column_width(columns=['sentence'], width=80.0)\n",
    "            # sf.to_excel(writer, sheet_name=rem.reportname, index=False) #.save()\n",
    "            # # output_sheet.to_excel(writer, sheet_name=rem.reportname, index=False)\n",
    "    return match_sentence_ttlcnt\n",
    "\n",
    "# 此行會執行並複寫 excel，執行完後要手動調整行距格式，小心使用\n"
   ]
  },
  {
   "cell_type": "code",
   "execution_count": 12,
   "metadata": {},
   "outputs": [
    {
     "name": "stdout",
     "output_type": "stream",
     "text": [
      "=== mem_usage: 212.93 MB ===\n",
      "asg_object: {'/perl/', '^sh$', '/run/', '[a-zA-z]:\\\\d{1,5}$', '\\\\d{1,3}\\\\.\\\\d{1,3}\\\\.\\\\d{1,3}\\\\.\\\\d{1,3}:\\\\d{1,5}$', '/selinux', 'update-rc.d', '/etc/rc', '\\\\d{1,3}\\\\.\\\\d{1,3}\\\\.\\\\d{1,3}\\\\.\\\\d{1,3}', '/etc/sed', 'permission(\\\\s|:)[0-9]{1,4}', '/proc/rs_dev', '^systemctl$', '/var/run/', '^sed$', '^chkconfig$', 'bin/sed', '/proc/', '/var/', '/etc/init.d/', '^pipe(\\\\$|\\\\.|$)', '/boot/[a-z]{10}', 'bin/openrc', 'bin/insserv', '/etc/cron', '/boot/'}\n",
      "\n",
      "\n",
      "Sample Xorddos-Cdnetworks.csv\n",
      "\tlenght of ctd's OPset is 0\n",
      "\t#R_malObj\n",
      "\tnum of ctd objects: 0, num of asg objects: 26. R_malObj is 0.0000\n",
      "\t\tctd_object: set()\n",
      "\t#R_malSysObj\n",
      "\tnum of ctd objects: 0, num of asg objects: 4. R_malSysObj is 0.0000\n",
      "\tlen(asg_OPset): 73, len(ctd_OPset): 0\n",
      "\t#R_malOps\n",
      "\tnum of matched asg op: 0, num of asg op: 73. R_malOps is 0.0000\n",
      "\t\trefered lifecycle: []\n",
      "\t\tsys_asg_OPset: [<OP act=lseek, obj=/etc/cron>, <OP act=lstat, obj=/etc/rc>, <OP act=fcntl, obj=/etc/sed>, <OP act=write, obj=/etc/rc>, <OP act=rename, obj=/etc/cron>, <OP act=write, obj=/etc/sed>, <OP act=open, obj=/etc/init.d/>, <OP act=open, obj=/etc/cron>, <OP act=fchmod, obj=/etc/sed>, <OP act=write, obj=/etc/cron>, <OP act=write, obj=/etc/init.d/>, <OP act=fstat, obj=/etc/sed>, <OP act=fchown, obj=/etc/sed>, <OP act=rm, obj=/etc/rc>, <OP act=lseek, obj=/etc/init.d/>]\n",
      "\t#R_malChangeOps\n",
      "\tnum of matched asg op: 0, num of asg op: 15. R_malChangeOps is 0.0000\n",
      "\t\tref-sys lifecycle: []\n",
      "\n",
      "Sample Xorddos-Crowdstrike.csv\n",
      "\tlenght of ctd's OPset is 0\n",
      "\t#R_malObj\n",
      "\tnum of ctd objects: 0, num of asg objects: 26. R_malObj is 0.0000\n",
      "\t\tctd_object: set()\n",
      "\t#R_malSysObj\n",
      "\tnum of ctd objects: 0, num of asg objects: 4. R_malSysObj is 0.0000\n",
      "\tlen(asg_OPset): 73, len(ctd_OPset): 0\n",
      "\t#R_malOps\n",
      "\tnum of matched asg op: 0, num of asg op: 73. R_malOps is 0.0000\n",
      "\t\trefered lifecycle: []\n",
      "\t\tsys_asg_OPset: [<OP act=lseek, obj=/etc/cron>, <OP act=lstat, obj=/etc/rc>, <OP act=fcntl, obj=/etc/sed>, <OP act=write, obj=/etc/rc>, <OP act=rename, obj=/etc/cron>, <OP act=write, obj=/etc/sed>, <OP act=open, obj=/etc/init.d/>, <OP act=open, obj=/etc/cron>, <OP act=fchmod, obj=/etc/sed>, <OP act=write, obj=/etc/cron>, <OP act=write, obj=/etc/init.d/>, <OP act=fstat, obj=/etc/sed>, <OP act=fchown, obj=/etc/sed>, <OP act=rm, obj=/etc/rc>, <OP act=lseek, obj=/etc/init.d/>]\n",
      "\t#R_malChangeOps\n",
      "\tnum of matched asg op: 0, num of asg op: 15. R_malChangeOps is 0.0000\n",
      "\t\tref-sys lifecycle: []\n",
      "\n",
      "Sample Xorddos-Intezer.csv\n",
      "\tlenght of ctd's OPset is 7\n",
      "\t#R_malObj\n",
      "\tnum of ctd objects: 4, num of asg objects: 26. R_malObj is 0.1538\n",
      "\t\tctd_object: {'/proc/', '/etc/rc', '/etc/init.d/', '\\\\d{1,3}\\\\.\\\\d{1,3}\\\\.\\\\d{1,3}\\\\.\\\\d{1,3}'}\n",
      "\t#R_malSysObj\n",
      "\tnum of ctd objects: 2, num of asg objects: 4. R_malSysObj is 0.5000\n",
      "\tlen(asg_OPset): 73, len(ctd_OPset): 7\n",
      "\t#R_malOps\n",
      "\tnum of matched asg op: 1, num of asg op: 73. R_malOps is 0.0137\n",
      "\t\trefered lifecycle: [18]\n",
      "\t\tsys_asg_OPset: [<OP act=lseek, obj=/etc/cron>, <OP act=lstat, obj=/etc/rc>, <OP act=fcntl, obj=/etc/sed>, <OP act=write, obj=/etc/rc>, <OP act=rename, obj=/etc/cron>, <OP act=write, obj=/etc/sed>, <OP act=open, obj=/etc/init.d/>, <OP act=open, obj=/etc/cron>, <OP act=fchmod, obj=/etc/sed>, <OP act=write, obj=/etc/cron>, <OP act=write, obj=/etc/init.d/>, <OP act=fstat, obj=/etc/sed>, <OP act=fchown, obj=/etc/sed>, <OP act=rm, obj=/etc/rc>, <OP act=lseek, obj=/etc/init.d/>]\n",
      "\t#R_malChangeOps\n",
      "\tnum of matched asg op: 0, num of asg op: 15. R_malChangeOps is 0.0000\n",
      "\t\tref-sys lifecycle: []\n",
      "\n",
      "\thits\n",
      "\t<OP act=open, obj=/proc/>, <OP act=extract, obj=/proc/>\n",
      "\n",
      "Sample Xorddos-Trendmicro.csv\n",
      "\tlenght of ctd's OPset is 6\n",
      "\t#R_malObj\n",
      "\tnum of ctd objects: 6, num of asg objects: 26. R_malObj is 0.2308\n",
      "\t\tctd_object: {'/run/', '[a-zA-z]:\\\\d{1,5}$', '/var/run/', '/etc/rc', '/etc/cron', '/var/'}\n",
      "\t#R_malSysObj\n",
      "\tnum of ctd objects: 2, num of asg objects: 4. R_malSysObj is 0.5000\n",
      "\tlen(asg_OPset): 73, len(ctd_OPset): 6\n",
      "\t#R_malOps\n",
      "\tnum of matched asg op: 11, num of asg op: 73. R_malOps is 0.1507\n",
      "\t\trefered lifecycle: [2, 57, 47, 15, 69, 17, 32, 49, 55, 56, 48]\n",
      "\t\tsys_asg_OPset: [<OP act=lseek, obj=/etc/cron>, <OP act=lstat, obj=/etc/rc>, <OP act=fcntl, obj=/etc/sed>, <OP act=write, obj=/etc/rc>, <OP act=rename, obj=/etc/cron>, <OP act=write, obj=/etc/sed>, <OP act=open, obj=/etc/init.d/>, <OP act=open, obj=/etc/cron>, <OP act=fchmod, obj=/etc/sed>, <OP act=write, obj=/etc/cron>, <OP act=write, obj=/etc/init.d/>, <OP act=fstat, obj=/etc/sed>, <OP act=fchown, obj=/etc/sed>, <OP act=rm, obj=/etc/rc>, <OP act=lseek, obj=/etc/init.d/>]\n",
      "\t#R_malChangeOps\n",
      "\tnum of matched asg op: 3, num of asg op: 15. R_malChangeOps is 0.2000\n",
      "\t\tref-sys lifecycle: [47, 15, 17]\n",
      "\n",
      "\thits\n",
      "\t<OP act=stat64, obj=/var/>, <OP act=read, obj=/var/>\n",
      "\t<OP act=lseek, obj=/var/>, <OP act=read, obj=/var/>\n",
      "\t<OP act=rename, obj=/etc/cron>, <OP act=drop, obj=/etc/cron>\n",
      "\t<OP act=open, obj=/etc/cron>, <OP act=drop, obj=/etc/cron>\n",
      "\t<OP act=newfstatat, obj=/run/>, <OP act=read, obj=/run/>\n",
      "\t<OP act=write, obj=/etc/cron>, <OP act=drop, obj=/etc/cron>\n",
      "\t<OP act=stat, obj=/run/>, <OP act=read, obj=/run/>\n",
      "\t<OP act=stat64, obj=/var/run/>, <OP act=read, obj=/var/run/>\n",
      "\t<OP act=lseek, obj=/run/>, <OP act=read, obj=/run/>\n",
      "\t<OP act=lseek, obj=/var/run/>, <OP act=read, obj=/var/run/>\n",
      "\t<OP act=stat64, obj=/run/>, <OP act=read, obj=/run/>\n",
      "\n",
      "\tsys_hits\n",
      "\t<OP act=rename, obj=/etc/cron>, <OP act=drop, obj=/etc/cron>\n",
      "\t<OP act=open, obj=/etc/cron>, <OP act=drop, obj=/etc/cron>\n",
      "\t<OP act=write, obj=/etc/cron>, <OP act=drop, obj=/etc/cron>\n",
      "\n",
      "Sample Xorddos-Trendmicro2.csv\n",
      "\tlenght of ctd's OPset is 2\n",
      "\t#R_malObj\n",
      "\tnum of ctd objects: 1, num of asg objects: 26. R_malObj is 0.0385\n",
      "\t\tctd_object: {'\\\\d{1,3}\\\\.\\\\d{1,3}\\\\.\\\\d{1,3}\\\\.\\\\d{1,3}'}\n",
      "\t#R_malSysObj\n",
      "\tnum of ctd objects: 0, num of asg objects: 4. R_malSysObj is 0.0000\n",
      "\tlen(asg_OPset): 73, len(ctd_OPset): 2\n",
      "\t#R_malOps\n",
      "\tnum of matched asg op: 2, num of asg op: 73. R_malOps is 0.0274\n",
      "\t\trefered lifecycle: [63, 61]\n",
      "\t\tsys_asg_OPset: [<OP act=lseek, obj=/etc/cron>, <OP act=lstat, obj=/etc/rc>, <OP act=fcntl, obj=/etc/sed>, <OP act=write, obj=/etc/rc>, <OP act=rename, obj=/etc/cron>, <OP act=write, obj=/etc/sed>, <OP act=open, obj=/etc/init.d/>, <OP act=open, obj=/etc/cron>, <OP act=fchmod, obj=/etc/sed>, <OP act=write, obj=/etc/cron>, <OP act=write, obj=/etc/init.d/>, <OP act=fstat, obj=/etc/sed>, <OP act=fchown, obj=/etc/sed>, <OP act=rm, obj=/etc/rc>, <OP act=lseek, obj=/etc/init.d/>]\n",
      "\t#R_malChangeOps\n",
      "\tnum of matched asg op: 0, num of asg op: 15. R_malChangeOps is 0.0000\n",
      "\t\tref-sys lifecycle: []\n",
      "\n",
      "\thits\n",
      "\t<OP act=_newselect, obj=\\d{1,3}\\.\\d{1,3}\\.\\d{1,3}\\.\\d{1,3}>, <OP act=find, obj=\\d{1,3}\\.\\d{1,3}\\.\\d{1,3}\\.\\d{1,3}>\n",
      "\t<OP act=send, obj=\\d{1,3}\\.\\d{1,3}\\.\\d{1,3}\\.\\d{1,3}>, <OP act=wget, obj=\\d{1,3}\\.\\d{1,3}\\.\\d{1,3}\\.\\d{1,3}>\n"
     ]
    }
   ],
   "source": [
    "for sample in samples:\n",
    "    # print(len(sample.OPset)) # 30\n",
    "    # print(len(sample.OPset_ordered)) # 30\n",
    "    # print(set(sample.OPset) - set(sample.OPset_ordered)) # 相減是空的set 都OK\n",
    "    fset = run_family_set_procedure(sample)\n",
    "    # match_sentence_ttlcnt = save_match_sent_to_excel(fset, sample.samplename)\n",
    "    # print(f'match_sentence_ttlcnt is {match_sentence_ttlcnt}\\n---\\n')"
   ]
  },
  {
   "attachments": {},
   "cell_type": "markdown",
   "metadata": {},
   "source": [
    "### Run Script: draw Lifecycle diagram\n",
    "- 兩個 traces (legend) 一般的 OP 和 ChangeSys OP。分兩個顏色，不重疊。\n",
    "- x: [a,a,a,a,b,b,b,c,c,c] 不同 report 的 step 可以放同一個 list，因為屬於同個 trace。"
   ]
  },
  {
   "cell_type": "code",
   "execution_count": 17,
   "metadata": {},
   "outputs": [
    {
     "name": "stdout",
     "output_type": "stream",
     "text": [
      "\n",
      "ASG (73) numOfSysOP: 15 numOfNormalOP: 58\n"
     ]
    },
    {
     "data": {
      "application/vnd.plotly.v1+json": {
       "config": {
        "plotlyServerURL": "https://plot.ly"
       },
       "data": [
        {
         "marker": {
          "color": "darkorange",
          "size": 12
         },
         "mode": "markers",
         "name": "Normal Operation Pair",
         "type": "scatter",
         "x": [
          18,
          2,
          57,
          69,
          32,
          49,
          55,
          56,
          48,
          63,
          61,
          0,
          1,
          2,
          3,
          4,
          5,
          6,
          7,
          8,
          9,
          10,
          11,
          18,
          19,
          22,
          23,
          24,
          25,
          26,
          27,
          28,
          29,
          30,
          32,
          33,
          34,
          35,
          36,
          37,
          38,
          39,
          40,
          41,
          48,
          49,
          50,
          51,
          52,
          53,
          54,
          55,
          56,
          57,
          58,
          59,
          60,
          61,
          62,
          63,
          64,
          65,
          66,
          67,
          68,
          69,
          70,
          71,
          72
         ],
         "y": [
          "Intezer (1)",
          "Trendmicro (11)",
          "Trendmicro (11)",
          "Trendmicro (11)",
          "Trendmicro (11)",
          "Trendmicro (11)",
          "Trendmicro (11)",
          "Trendmicro (11)",
          "Trendmicro (11)",
          "Trendmicro2 (2)",
          "Trendmicro2 (2)",
          "ASG (73)",
          "ASG (73)",
          "ASG (73)",
          "ASG (73)",
          "ASG (73)",
          "ASG (73)",
          "ASG (73)",
          "ASG (73)",
          "ASG (73)",
          "ASG (73)",
          "ASG (73)",
          "ASG (73)",
          "ASG (73)",
          "ASG (73)",
          "ASG (73)",
          "ASG (73)",
          "ASG (73)",
          "ASG (73)",
          "ASG (73)",
          "ASG (73)",
          "ASG (73)",
          "ASG (73)",
          "ASG (73)",
          "ASG (73)",
          "ASG (73)",
          "ASG (73)",
          "ASG (73)",
          "ASG (73)",
          "ASG (73)",
          "ASG (73)",
          "ASG (73)",
          "ASG (73)",
          "ASG (73)",
          "ASG (73)",
          "ASG (73)",
          "ASG (73)",
          "ASG (73)",
          "ASG (73)",
          "ASG (73)",
          "ASG (73)",
          "ASG (73)",
          "ASG (73)",
          "ASG (73)",
          "ASG (73)",
          "ASG (73)",
          "ASG (73)",
          "ASG (73)",
          "ASG (73)",
          "ASG (73)",
          "ASG (73)",
          "ASG (73)",
          "ASG (73)",
          "ASG (73)",
          "ASG (73)",
          "ASG (73)",
          "ASG (73)",
          "ASG (73)",
          "ASG (73)"
         ]
        },
        {
         "marker": {
          "color": "blue",
          "size": 12
         },
         "mode": "markers",
         "name": "System Operation Pair",
         "type": "scatter",
         "x": [
          47,
          15,
          17,
          16,
          31,
          42,
          21,
          47,
          44,
          12,
          15,
          46,
          17,
          14,
          43,
          45,
          20,
          13
         ],
         "y": [
          "Trendmicro (11)",
          "Trendmicro (11)",
          "Trendmicro (11)",
          "ASG (73)",
          "ASG (73)",
          "ASG (73)",
          "ASG (73)",
          "ASG (73)",
          "ASG (73)",
          "ASG (73)",
          "ASG (73)",
          "ASG (73)",
          "ASG (73)",
          "ASG (73)",
          "ASG (73)",
          "ASG (73)",
          "ASG (73)",
          "ASG (73)"
         ]
        }
       ],
       "layout": {
        "template": {
         "data": {
          "bar": [
           {
            "error_x": {
             "color": "#2a3f5f"
            },
            "error_y": {
             "color": "#2a3f5f"
            },
            "marker": {
             "line": {
              "color": "#E5ECF6",
              "width": 0.5
             },
             "pattern": {
              "fillmode": "overlay",
              "size": 10,
              "solidity": 0.2
             }
            },
            "type": "bar"
           }
          ],
          "barpolar": [
           {
            "marker": {
             "line": {
              "color": "#E5ECF6",
              "width": 0.5
             },
             "pattern": {
              "fillmode": "overlay",
              "size": 10,
              "solidity": 0.2
             }
            },
            "type": "barpolar"
           }
          ],
          "carpet": [
           {
            "aaxis": {
             "endlinecolor": "#2a3f5f",
             "gridcolor": "white",
             "linecolor": "white",
             "minorgridcolor": "white",
             "startlinecolor": "#2a3f5f"
            },
            "baxis": {
             "endlinecolor": "#2a3f5f",
             "gridcolor": "white",
             "linecolor": "white",
             "minorgridcolor": "white",
             "startlinecolor": "#2a3f5f"
            },
            "type": "carpet"
           }
          ],
          "choropleth": [
           {
            "colorbar": {
             "outlinewidth": 0,
             "ticks": ""
            },
            "type": "choropleth"
           }
          ],
          "contour": [
           {
            "colorbar": {
             "outlinewidth": 0,
             "ticks": ""
            },
            "colorscale": [
             [
              0,
              "#0d0887"
             ],
             [
              0.1111111111111111,
              "#46039f"
             ],
             [
              0.2222222222222222,
              "#7201a8"
             ],
             [
              0.3333333333333333,
              "#9c179e"
             ],
             [
              0.4444444444444444,
              "#bd3786"
             ],
             [
              0.5555555555555556,
              "#d8576b"
             ],
             [
              0.6666666666666666,
              "#ed7953"
             ],
             [
              0.7777777777777778,
              "#fb9f3a"
             ],
             [
              0.8888888888888888,
              "#fdca26"
             ],
             [
              1,
              "#f0f921"
             ]
            ],
            "type": "contour"
           }
          ],
          "contourcarpet": [
           {
            "colorbar": {
             "outlinewidth": 0,
             "ticks": ""
            },
            "type": "contourcarpet"
           }
          ],
          "heatmap": [
           {
            "colorbar": {
             "outlinewidth": 0,
             "ticks": ""
            },
            "colorscale": [
             [
              0,
              "#0d0887"
             ],
             [
              0.1111111111111111,
              "#46039f"
             ],
             [
              0.2222222222222222,
              "#7201a8"
             ],
             [
              0.3333333333333333,
              "#9c179e"
             ],
             [
              0.4444444444444444,
              "#bd3786"
             ],
             [
              0.5555555555555556,
              "#d8576b"
             ],
             [
              0.6666666666666666,
              "#ed7953"
             ],
             [
              0.7777777777777778,
              "#fb9f3a"
             ],
             [
              0.8888888888888888,
              "#fdca26"
             ],
             [
              1,
              "#f0f921"
             ]
            ],
            "type": "heatmap"
           }
          ],
          "heatmapgl": [
           {
            "colorbar": {
             "outlinewidth": 0,
             "ticks": ""
            },
            "colorscale": [
             [
              0,
              "#0d0887"
             ],
             [
              0.1111111111111111,
              "#46039f"
             ],
             [
              0.2222222222222222,
              "#7201a8"
             ],
             [
              0.3333333333333333,
              "#9c179e"
             ],
             [
              0.4444444444444444,
              "#bd3786"
             ],
             [
              0.5555555555555556,
              "#d8576b"
             ],
             [
              0.6666666666666666,
              "#ed7953"
             ],
             [
              0.7777777777777778,
              "#fb9f3a"
             ],
             [
              0.8888888888888888,
              "#fdca26"
             ],
             [
              1,
              "#f0f921"
             ]
            ],
            "type": "heatmapgl"
           }
          ],
          "histogram": [
           {
            "marker": {
             "pattern": {
              "fillmode": "overlay",
              "size": 10,
              "solidity": 0.2
             }
            },
            "type": "histogram"
           }
          ],
          "histogram2d": [
           {
            "colorbar": {
             "outlinewidth": 0,
             "ticks": ""
            },
            "colorscale": [
             [
              0,
              "#0d0887"
             ],
             [
              0.1111111111111111,
              "#46039f"
             ],
             [
              0.2222222222222222,
              "#7201a8"
             ],
             [
              0.3333333333333333,
              "#9c179e"
             ],
             [
              0.4444444444444444,
              "#bd3786"
             ],
             [
              0.5555555555555556,
              "#d8576b"
             ],
             [
              0.6666666666666666,
              "#ed7953"
             ],
             [
              0.7777777777777778,
              "#fb9f3a"
             ],
             [
              0.8888888888888888,
              "#fdca26"
             ],
             [
              1,
              "#f0f921"
             ]
            ],
            "type": "histogram2d"
           }
          ],
          "histogram2dcontour": [
           {
            "colorbar": {
             "outlinewidth": 0,
             "ticks": ""
            },
            "colorscale": [
             [
              0,
              "#0d0887"
             ],
             [
              0.1111111111111111,
              "#46039f"
             ],
             [
              0.2222222222222222,
              "#7201a8"
             ],
             [
              0.3333333333333333,
              "#9c179e"
             ],
             [
              0.4444444444444444,
              "#bd3786"
             ],
             [
              0.5555555555555556,
              "#d8576b"
             ],
             [
              0.6666666666666666,
              "#ed7953"
             ],
             [
              0.7777777777777778,
              "#fb9f3a"
             ],
             [
              0.8888888888888888,
              "#fdca26"
             ],
             [
              1,
              "#f0f921"
             ]
            ],
            "type": "histogram2dcontour"
           }
          ],
          "mesh3d": [
           {
            "colorbar": {
             "outlinewidth": 0,
             "ticks": ""
            },
            "type": "mesh3d"
           }
          ],
          "parcoords": [
           {
            "line": {
             "colorbar": {
              "outlinewidth": 0,
              "ticks": ""
             }
            },
            "type": "parcoords"
           }
          ],
          "pie": [
           {
            "automargin": true,
            "type": "pie"
           }
          ],
          "scatter": [
           {
            "fillpattern": {
             "fillmode": "overlay",
             "size": 10,
             "solidity": 0.2
            },
            "type": "scatter"
           }
          ],
          "scatter3d": [
           {
            "line": {
             "colorbar": {
              "outlinewidth": 0,
              "ticks": ""
             }
            },
            "marker": {
             "colorbar": {
              "outlinewidth": 0,
              "ticks": ""
             }
            },
            "type": "scatter3d"
           }
          ],
          "scattercarpet": [
           {
            "marker": {
             "colorbar": {
              "outlinewidth": 0,
              "ticks": ""
             }
            },
            "type": "scattercarpet"
           }
          ],
          "scattergeo": [
           {
            "marker": {
             "colorbar": {
              "outlinewidth": 0,
              "ticks": ""
             }
            },
            "type": "scattergeo"
           }
          ],
          "scattergl": [
           {
            "marker": {
             "colorbar": {
              "outlinewidth": 0,
              "ticks": ""
             }
            },
            "type": "scattergl"
           }
          ],
          "scattermapbox": [
           {
            "marker": {
             "colorbar": {
              "outlinewidth": 0,
              "ticks": ""
             }
            },
            "type": "scattermapbox"
           }
          ],
          "scatterpolar": [
           {
            "marker": {
             "colorbar": {
              "outlinewidth": 0,
              "ticks": ""
             }
            },
            "type": "scatterpolar"
           }
          ],
          "scatterpolargl": [
           {
            "marker": {
             "colorbar": {
              "outlinewidth": 0,
              "ticks": ""
             }
            },
            "type": "scatterpolargl"
           }
          ],
          "scatterternary": [
           {
            "marker": {
             "colorbar": {
              "outlinewidth": 0,
              "ticks": ""
             }
            },
            "type": "scatterternary"
           }
          ],
          "surface": [
           {
            "colorbar": {
             "outlinewidth": 0,
             "ticks": ""
            },
            "colorscale": [
             [
              0,
              "#0d0887"
             ],
             [
              0.1111111111111111,
              "#46039f"
             ],
             [
              0.2222222222222222,
              "#7201a8"
             ],
             [
              0.3333333333333333,
              "#9c179e"
             ],
             [
              0.4444444444444444,
              "#bd3786"
             ],
             [
              0.5555555555555556,
              "#d8576b"
             ],
             [
              0.6666666666666666,
              "#ed7953"
             ],
             [
              0.7777777777777778,
              "#fb9f3a"
             ],
             [
              0.8888888888888888,
              "#fdca26"
             ],
             [
              1,
              "#f0f921"
             ]
            ],
            "type": "surface"
           }
          ],
          "table": [
           {
            "cells": {
             "fill": {
              "color": "#EBF0F8"
             },
             "line": {
              "color": "white"
             }
            },
            "header": {
             "fill": {
              "color": "#C8D4E3"
             },
             "line": {
              "color": "white"
             }
            },
            "type": "table"
           }
          ]
         },
         "layout": {
          "annotationdefaults": {
           "arrowcolor": "#2a3f5f",
           "arrowhead": 0,
           "arrowwidth": 1
          },
          "autotypenumbers": "strict",
          "coloraxis": {
           "colorbar": {
            "outlinewidth": 0,
            "ticks": ""
           }
          },
          "colorscale": {
           "diverging": [
            [
             0,
             "#8e0152"
            ],
            [
             0.1,
             "#c51b7d"
            ],
            [
             0.2,
             "#de77ae"
            ],
            [
             0.3,
             "#f1b6da"
            ],
            [
             0.4,
             "#fde0ef"
            ],
            [
             0.5,
             "#f7f7f7"
            ],
            [
             0.6,
             "#e6f5d0"
            ],
            [
             0.7,
             "#b8e186"
            ],
            [
             0.8,
             "#7fbc41"
            ],
            [
             0.9,
             "#4d9221"
            ],
            [
             1,
             "#276419"
            ]
           ],
           "sequential": [
            [
             0,
             "#0d0887"
            ],
            [
             0.1111111111111111,
             "#46039f"
            ],
            [
             0.2222222222222222,
             "#7201a8"
            ],
            [
             0.3333333333333333,
             "#9c179e"
            ],
            [
             0.4444444444444444,
             "#bd3786"
            ],
            [
             0.5555555555555556,
             "#d8576b"
            ],
            [
             0.6666666666666666,
             "#ed7953"
            ],
            [
             0.7777777777777778,
             "#fb9f3a"
            ],
            [
             0.8888888888888888,
             "#fdca26"
            ],
            [
             1,
             "#f0f921"
            ]
           ],
           "sequentialminus": [
            [
             0,
             "#0d0887"
            ],
            [
             0.1111111111111111,
             "#46039f"
            ],
            [
             0.2222222222222222,
             "#7201a8"
            ],
            [
             0.3333333333333333,
             "#9c179e"
            ],
            [
             0.4444444444444444,
             "#bd3786"
            ],
            [
             0.5555555555555556,
             "#d8576b"
            ],
            [
             0.6666666666666666,
             "#ed7953"
            ],
            [
             0.7777777777777778,
             "#fb9f3a"
            ],
            [
             0.8888888888888888,
             "#fdca26"
            ],
            [
             1,
             "#f0f921"
            ]
           ]
          },
          "colorway": [
           "#636efa",
           "#EF553B",
           "#00cc96",
           "#ab63fa",
           "#FFA15A",
           "#19d3f3",
           "#FF6692",
           "#B6E880",
           "#FF97FF",
           "#FECB52"
          ],
          "font": {
           "color": "#2a3f5f"
          },
          "geo": {
           "bgcolor": "white",
           "lakecolor": "white",
           "landcolor": "#E5ECF6",
           "showlakes": true,
           "showland": true,
           "subunitcolor": "white"
          },
          "hoverlabel": {
           "align": "left"
          },
          "hovermode": "closest",
          "mapbox": {
           "style": "light"
          },
          "paper_bgcolor": "white",
          "plot_bgcolor": "#E5ECF6",
          "polar": {
           "angularaxis": {
            "gridcolor": "white",
            "linecolor": "white",
            "ticks": ""
           },
           "bgcolor": "#E5ECF6",
           "radialaxis": {
            "gridcolor": "white",
            "linecolor": "white",
            "ticks": ""
           }
          },
          "scene": {
           "xaxis": {
            "backgroundcolor": "#E5ECF6",
            "gridcolor": "white",
            "gridwidth": 2,
            "linecolor": "white",
            "showbackground": true,
            "ticks": "",
            "zerolinecolor": "white"
           },
           "yaxis": {
            "backgroundcolor": "#E5ECF6",
            "gridcolor": "white",
            "gridwidth": 2,
            "linecolor": "white",
            "showbackground": true,
            "ticks": "",
            "zerolinecolor": "white"
           },
           "zaxis": {
            "backgroundcolor": "#E5ECF6",
            "gridcolor": "white",
            "gridwidth": 2,
            "linecolor": "white",
            "showbackground": true,
            "ticks": "",
            "zerolinecolor": "white"
           }
          },
          "shapedefaults": {
           "line": {
            "color": "#2a3f5f"
           }
          },
          "ternary": {
           "aaxis": {
            "gridcolor": "white",
            "linecolor": "white",
            "ticks": ""
           },
           "baxis": {
            "gridcolor": "white",
            "linecolor": "white",
            "ticks": ""
           },
           "bgcolor": "#E5ECF6",
           "caxis": {
            "gridcolor": "white",
            "linecolor": "white",
            "ticks": ""
           }
          },
          "title": {
           "x": 0.05
          },
          "xaxis": {
           "automargin": true,
           "gridcolor": "white",
           "linecolor": "white",
           "ticks": "",
           "title": {
            "standoff": 15
           },
           "zerolinecolor": "white",
           "zerolinewidth": 2
          },
          "yaxis": {
           "automargin": true,
           "gridcolor": "white",
           "linecolor": "white",
           "ticks": "",
           "title": {
            "standoff": 15
           },
           "zerolinecolor": "white",
           "zerolinewidth": 2
          }
         }
        },
        "title": {
         "text": "Lifecycle Diagram of Attack Behavior in Document (Xorddos)"
        },
        "xaxis": {
         "title": {
          "text": "ASG Operation Pair (in steps)"
         }
        },
        "yaxis": {
         "title": {
          "text": "Malware Document"
         }
        }
       }
      }
     },
     "metadata": {},
     "output_type": "display_data"
    }
   ],
   "source": [
    "# import plotly.express as px\n",
    "import plotly.graph_objects as go\n",
    "\n",
    "def symmetric_difference(list1: list, list2: list) -> list:\n",
    "    ''' return list1 - list2. '''\n",
    "    s = set(list2)\n",
    "    temp3 = [x for x in list1 if x not in s]\n",
    "    return temp3\n",
    "\n",
    "def draw_lifecycle(fset:FamilySet):\n",
    "    familname = fset.familyname\n",
    "    # reportnames = [rem.reportname for rem in fset.rem_lst if len(rem.match_regex)]\n",
    "\n",
    "    fig = go.Figure()\n",
    "    x, y = [], []\n",
    "    x_sys, y_sys = [], []\n",
    "    for i, rem in enumerate(fset.rem_lst):\n",
    "        if len(rem.OPset_order_index) == 0:\n",
    "            continue\n",
    "\n",
    "        numOfDot = len(rem.OPset_order_index)\n",
    "        reportname = rem.reportname.split('.')[0]\n",
    "        reportname = reportname.split('-')[1]\n",
    "        reportname += f' ({numOfDot})'\n",
    "        x_sys.extend(rem.SysOPset_order_index) # 改變系統環境的 OP\n",
    "        y_sys.extend([reportname] * len(rem.SysOPset_order_index))\n",
    "        current_x_normal = symmetric_difference(rem.OPset_order_index, rem.SysOPset_order_index) # 一般的/其餘的 OP\n",
    "        # print(reportname, 'numOfDot', numOfDot, 'rem.OPset_order_index', rem.OPset_order_index)\n",
    "        # print('x_normal', current_x_normal, 'x_sys', rem.SysOPset_order_index)\n",
    "        x.extend(current_x_normal)\n",
    "        y.extend([reportname] * len(current_x_normal)) \n",
    "        pass\n",
    "    # todo: add baseline's lifecycle\n",
    "    print()\n",
    "    rowname = f'ASG ({len(fset.sample.OPset)})'\n",
    "    current_x_system = fset.sample.OPset_sysOnly_ordered_index\n",
    "    current_x_normal = symmetric_difference(list(range(len(fset.sample.OPset))), current_x_system) # all steps - sysobj steps\n",
    "    x_sys.extend(current_x_system)\n",
    "    y_sys.extend([rowname] * len(current_x_system)) \n",
    "    x.extend(current_x_normal)\n",
    "    y.extend([rowname] * len(current_x_normal))\n",
    "    print(rowname, 'numOfSysOP:',len(current_x_system), 'numOfNormalOP:',len(current_x_normal))\n",
    "    \n",
    "    # normal OPs\n",
    "    fig.add_trace(go.Scatter(\n",
    "        x=x,\n",
    "        y=y,\n",
    "        marker=dict(color=\"darkorange\", size=12),\n",
    "        mode=\"markers\",\n",
    "        name=\"Normal Operation Pair\",\n",
    "    ))\n",
    "\n",
    "    # changeSysObj OPs\n",
    "    fig.add_trace(go.Scatter(\n",
    "        x=x_sys,\n",
    "        y=y_sys,\n",
    "        marker=dict(color=\"blue\", size=12),\n",
    "        mode=\"markers\",\n",
    "        name=\"System Operation Pair\",\n",
    "    ))\n",
    "\n",
    "    fig.update_layout(title=f\"Lifecycle Diagram of Attack Behavior in Document ({familname})\",\n",
    "                    xaxis_title=\"ASG Operation Pair (in steps)\",\n",
    "                    yaxis_title=\"Malware Document\")\n",
    "    fig.show()\n",
    "    pass\n",
    "\n",
    "draw_lifecycle(fset)"
   ]
  },
  {
   "attachments": {},
   "cell_type": "markdown",
   "metadata": {},
   "source": [
    "### Run Script: draw ASG & CTD's OP graph"
   ]
  },
  {
   "cell_type": "code",
   "execution_count": 14,
   "metadata": {},
   "outputs": [
    {
     "data": {
      "image/svg+xml": "<?xml version=\"1.0\" encoding=\"UTF-8\" standalone=\"no\"?>\n<!DOCTYPE svg PUBLIC \"-//W3C//DTD SVG 1.1//EN\"\n \"http://www.w3.org/Graphics/SVG/1.1/DTD/svg11.dtd\">\n<!-- Generated by graphviz version 6.0.1 (20220911.1526)\n -->\n<!-- Title: Xorddos_asg_OPset Pages: 1 -->\n<svg width=\"4194pt\" height=\"204pt\"\n viewBox=\"0.00 0.00 4194.28 204.00\" xmlns=\"http://www.w3.org/2000/svg\" xmlns:xlink=\"http://www.w3.org/1999/xlink\">\n<g id=\"graph0\" class=\"graph\" transform=\"scale(1 1) rotate(0) translate(4 200)\">\n<title>Xorddos_asg_OPset</title>\n<polygon fill=\"white\" stroke=\"none\" points=\"-4,4 -4,-200 4190.28,-200 4190.28,4 -4,4\"/>\n<!-- Start -->\n<g id=\"node1\" class=\"node\">\n<title>Start</title>\n<ellipse fill=\"none\" stroke=\"black\" cx=\"2181.64\" cy=\"-178\" rx=\"77.19\" ry=\"18\"/>\n<text text-anchor=\"middle\" x=\"2181.64\" y=\"-174.3\" font-family=\"Times New Roman,serif\" font-size=\"14.00\">Malware (Subject)</text>\n</g>\n<!-- 1 -->\n<g id=\"node2\" class=\"node\">\n<title>1</title>\n<ellipse fill=\"none\" stroke=\"black\" cx=\"117.64\" cy=\"-91\" rx=\"117.78\" ry=\"18\"/>\n<text text-anchor=\"middle\" x=\"117.64\" y=\"-87.3\" font-family=\"Times New Roman,serif\" font-size=\"14.00\">d{1,3}.d{1,3}.d{1,3}.d{1,3}</text>\n</g>\n<!-- Start&#45;&gt;1 -->\n<g id=\"edge1\" class=\"edge\">\n<title>Start&#45;&gt;1</title>\n<path fill=\"none\" stroke=\"black\" d=\"M2104.11,-177.2C1725.46,-178.01 87.35,-179.32 50.64,-142 40,-131.19 49.21,-120.87 63.84,-112.45\"/>\n<polygon fill=\"black\" stroke=\"black\" points=\"65.7,-115.43 72.97,-107.72 62.48,-109.21 65.7,-115.43\"/>\n<text text-anchor=\"middle\" x=\"73.14\" y=\"-130.8\" font-family=\"Times New Roman,serif\" font-size=\"14.00\">connect</text>\n</g>\n<!-- Start&#45;&gt;1 -->\n<g id=\"edge2\" class=\"edge\">\n<title>Start&#45;&gt;1</title>\n<path fill=\"none\" stroke=\"black\" d=\"M2104.15,-177.14C1733.11,-177.65 154.45,-177.7 118.64,-142 112.69,-136.07 111.1,-127.49 111.41,-119.1\"/>\n<polygon fill=\"black\" stroke=\"black\" points=\"114.89,-119.5 112.58,-109.16 107.94,-118.69 114.89,-119.5\"/>\n<text text-anchor=\"middle\" x=\"149.64\" y=\"-130.8\" font-family=\"Times New Roman,serif\" font-size=\"14.00\">_newselect</text>\n</g>\n<!-- Start&#45;&gt;1 -->\n<g id=\"edge3\" class=\"edge\">\n<title>Start&#45;&gt;1</title>\n<path fill=\"none\" stroke=\"black\" d=\"M2104.27,-176.58C1751.72,-174.54 310.61,-164.82 217.64,-142 205.13,-138.93 178.72,-125.6 156.18,-113.48\"/>\n<polygon fill=\"black\" stroke=\"black\" points=\"157.58,-110.27 147.13,-108.57 154.24,-116.42 157.58,-110.27\"/>\n<text text-anchor=\"middle\" x=\"231.14\" y=\"-130.8\" font-family=\"Times New Roman,serif\" font-size=\"14.00\">send</text>\n</g>\n<!-- 2 -->\n<g id=\"node3\" class=\"node\">\n<title>2</title>\n<ellipse fill=\"none\" stroke=\"black\" cx=\"335.64\" cy=\"-91\" rx=\"42.79\" ry=\"18\"/>\n<text text-anchor=\"middle\" x=\"335.64\" y=\"-87.3\" font-family=\"Times New Roman,serif\" font-size=\"14.00\">/etc/cron</text>\n</g>\n<!-- Start&#45;&gt;2 -->\n<g id=\"edge4\" class=\"edge\">\n<title>Start&#45;&gt;2</title>\n<path fill=\"none\" stroke=\"black\" d=\"M2104.24,-177.06C1748.52,-177.17 286.6,-175.56 253.64,-142 237.51,-125.58 262.62,-112.33 289.19,-103.6\"/>\n<polygon fill=\"black\" stroke=\"black\" points=\"290.43,-106.88 298.96,-100.6 288.38,-100.19 290.43,-106.88\"/>\n<text text-anchor=\"middle\" x=\"267.64\" y=\"-130.8\" font-family=\"Times New Roman,serif\" font-size=\"14.00\">lseek</text>\n</g>\n<!-- Start&#45;&gt;2 -->\n<g id=\"edge5\" class=\"edge\">\n<title>Start&#45;&gt;2</title>\n<path fill=\"none\" stroke=\"black\" d=\"M2104.25,-177.02C1754.44,-176.95 336.66,-174.62 304.64,-142 296.81,-134.03 301.33,-123.74 309.08,-114.57\"/>\n<polygon fill=\"black\" stroke=\"black\" points=\"311.75,-116.85 316.14,-107.21 306.69,-112 311.75,-116.85\"/>\n<text text-anchor=\"middle\" x=\"324.64\" y=\"-130.8\" font-family=\"Times New Roman,serif\" font-size=\"14.00\">rename</text>\n</g>\n<!-- Start&#45;&gt;2 -->\n<g id=\"edge6\" class=\"edge\">\n<title>Start&#45;&gt;2</title>\n<path fill=\"none\" stroke=\"black\" d=\"M2104.36,-176.5C1763.07,-174.16 406.07,-163.52 367.64,-142 358.2,-136.71 351.12,-127.35 346.05,-118.15\"/>\n<polygon fill=\"black\" stroke=\"black\" points=\"349.19,-116.59 341.64,-109.15 342.9,-119.67 349.19,-116.59\"/>\n<text text-anchor=\"middle\" x=\"381.64\" y=\"-130.8\" font-family=\"Times New Roman,serif\" font-size=\"14.00\">open</text>\n</g>\n<!-- Start&#45;&gt;2 -->\n<g id=\"edge7\" class=\"edge\">\n<title>Start&#45;&gt;2</title>\n<path fill=\"none\" stroke=\"black\" d=\"M2104.43,-176.42C1776.93,-173.83 515.57,-162.56 433.64,-142 420.47,-138.7 391.72,-123.65 368.74,-110.92\"/>\n<polygon fill=\"black\" stroke=\"black\" points=\"370.39,-107.82 359.95,-106 366.97,-113.93 370.39,-107.82\"/>\n<text text-anchor=\"middle\" x=\"447.64\" y=\"-130.8\" font-family=\"Times New Roman,serif\" font-size=\"14.00\">write</text>\n</g>\n<!-- 3 -->\n<g id=\"node4\" class=\"node\">\n<title>3</title>\n<ellipse fill=\"none\" stroke=\"black\" cx=\"514.64\" cy=\"-91\" rx=\"33.6\" ry=\"18\"/>\n<text text-anchor=\"middle\" x=\"514.64\" y=\"-87.3\" font-family=\"Times New Roman,serif\" font-size=\"14.00\">/etc/rc</text>\n</g>\n<!-- Start&#45;&gt;3 -->\n<g id=\"edge8\" class=\"edge\">\n<title>Start&#45;&gt;3</title>\n<path fill=\"none\" stroke=\"black\" d=\"M2104.24,-176.88C1774.04,-176.18 498.61,-171.57 469.64,-142 459.49,-131.64 469.78,-119.56 483.07,-109.87\"/>\n<polygon fill=\"black\" stroke=\"black\" points=\"485.21,-112.65 491.58,-104.18 481.32,-106.83 485.21,-112.65\"/>\n<text text-anchor=\"middle\" x=\"481.14\" y=\"-130.8\" font-family=\"Times New Roman,serif\" font-size=\"14.00\">lstat</text>\n</g>\n<!-- Start&#45;&gt;3 -->\n<g id=\"edge9\" class=\"edge\">\n<title>Start&#45;&gt;3</title>\n<path fill=\"none\" stroke=\"black\" d=\"M2104.43,-176.82C1780.2,-175.88 544.06,-170.45 515.64,-142 509.71,-136.06 508.11,-127.48 508.43,-119.09\"/>\n<polygon fill=\"black\" stroke=\"black\" points=\"511.9,-119.49 509.59,-109.15 504.95,-118.68 511.9,-119.49\"/>\n<text text-anchor=\"middle\" x=\"529.64\" y=\"-130.8\" font-family=\"Times New Roman,serif\" font-size=\"14.00\">write</text>\n</g>\n<!-- Start&#45;&gt;3 -->\n<g id=\"edge10\" class=\"edge\">\n<title>Start&#45;&gt;3</title>\n<path fill=\"none\" stroke=\"black\" d=\"M2104.32,-176.65C1794,-175.07 652.14,-167.55 579.64,-142 563.49,-136.31 548.17,-124.93 536.47,-114.47\"/>\n<polygon fill=\"black\" stroke=\"black\" points=\"538.66,-111.73 528.97,-107.45 533.88,-116.84 538.66,-111.73\"/>\n<text text-anchor=\"middle\" x=\"587.64\" y=\"-130.8\" font-family=\"Times New Roman,serif\" font-size=\"14.00\">rm</text>\n</g>\n<!-- 4 -->\n<g id=\"node5\" class=\"node\">\n<title>4</title>\n<ellipse fill=\"none\" stroke=\"black\" cx=\"714.64\" cy=\"-91\" rx=\"66.89\" ry=\"18\"/>\n<text text-anchor=\"middle\" x=\"714.64\" y=\"-87.3\" font-family=\"Times New Roman,serif\" font-size=\"14.00\">/boot/[a&#45;z]{10}</text>\n</g>\n<!-- Start&#45;&gt;4 -->\n<g id=\"edge11\" class=\"edge\">\n<title>Start&#45;&gt;4</title>\n<path fill=\"none\" stroke=\"black\" d=\"M2104.4,-176.74C1791.31,-175.5 632.12,-169.07 605.64,-142 586.84,-122.78 614.75,-110.23 647.02,-102.51\"/>\n<polygon fill=\"black\" stroke=\"black\" points=\"648.12,-105.85 657.13,-100.26 646.61,-99.01 648.12,-105.85\"/>\n<text text-anchor=\"middle\" x=\"619.64\" y=\"-130.8\" font-family=\"Times New Roman,serif\" font-size=\"14.00\">open</text>\n</g>\n<!-- Start&#45;&gt;4 -->\n<g id=\"edge12\" class=\"edge\">\n<title>Start&#45;&gt;4</title>\n<path fill=\"none\" stroke=\"black\" d=\"M2104.31,-176.68C1797.62,-175.22 682.18,-168.13 656.64,-142 646.15,-131.27 656.18,-120.28 670.68,-111.35\"/>\n<polygon fill=\"black\" stroke=\"black\" points=\"672.6,-114.29 679.61,-106.35 669.17,-108.18 672.6,-114.29\"/>\n<text text-anchor=\"middle\" x=\"670.64\" y=\"-130.8\" font-family=\"Times New Roman,serif\" font-size=\"14.00\">write</text>\n</g>\n<!-- Start&#45;&gt;4 -->\n<g id=\"edge13\" class=\"edge\">\n<title>Start&#45;&gt;4</title>\n<path fill=\"none\" stroke=\"black\" d=\"M2104.36,-176.62C1804.36,-174.94 732.24,-167.2 707.64,-142 701.65,-135.87 701.26,-127.13 703.06,-118.67\"/>\n<polygon fill=\"black\" stroke=\"black\" points=\"706.43,-119.62 705.98,-109.04 699.73,-117.59 706.43,-119.62\"/>\n<text text-anchor=\"middle\" x=\"723.14\" y=\"-130.8\" font-family=\"Times New Roman,serif\" font-size=\"14.00\">clone</text>\n</g>\n<!-- Start&#45;&gt;4 -->\n<g id=\"edge14\" class=\"edge\">\n<title>Start&#45;&gt;4</title>\n<path fill=\"none\" stroke=\"black\" d=\"M2104.1,-176.74C1816.38,-175.57 823.2,-169.52 761.64,-142 749.57,-136.61 739.14,-126.5 731.19,-116.77\"/>\n<polygon fill=\"black\" stroke=\"black\" points=\"733.96,-114.63 725.11,-108.81 728.39,-118.88 733.96,-114.63\"/>\n<text text-anchor=\"middle\" x=\"778.64\" y=\"-130.8\" font-family=\"Times New Roman,serif\" font-size=\"14.00\">stat64</text>\n</g>\n<!-- Start&#45;&gt;4 -->\n<g id=\"edge15\" class=\"edge\">\n<title>Start&#45;&gt;4</title>\n<path fill=\"none\" stroke=\"black\" d=\"M2103.98,-177.47C1833.28,-178.78 941.11,-180.12 818.64,-142 806.99,-138.37 806.39,-132.77 795.64,-127 784.57,-121.05 772.28,-115.32 760.68,-110.28\"/>\n<polygon fill=\"black\" stroke=\"black\" points=\"761.72,-106.92 751.15,-106.22 758.98,-113.36 761.72,-106.92\"/>\n<text text-anchor=\"middle\" x=\"832.64\" y=\"-130.8\" font-family=\"Times New Roman,serif\" font-size=\"14.00\">lseek</text>\n</g>\n<!-- Start&#45;&gt;4 -->\n<g id=\"edge16\" class=\"edge\">\n<title>Start&#45;&gt;4</title>\n<path fill=\"none\" stroke=\"black\" d=\"M2104.57,-176.14C1845.18,-173.07 1013.49,-161.8 894.64,-142 872.59,-138.33 868.11,-133.2 846.64,-127 822.02,-119.89 794.67,-112.55 771.28,-106.44\"/>\n<polygon fill=\"black\" stroke=\"black\" points=\"772.07,-103.03 761.51,-103.9 770.31,-109.8 772.07,-103.03\"/>\n<text text-anchor=\"middle\" x=\"902.64\" y=\"-130.8\" font-family=\"Times New Roman,serif\" font-size=\"14.00\">rm</text>\n</g>\n<!-- 5 -->\n<g id=\"node6\" class=\"node\">\n<title>5</title>\n<ellipse fill=\"none\" stroke=\"black\" cx=\"907.64\" cy=\"-91\" rx=\"100.98\" ry=\"18\"/>\n<text text-anchor=\"middle\" x=\"907.64\" y=\"-87.3\" font-family=\"Times New Roman,serif\" font-size=\"14.00\">permission(s|:)[0&#45;9]{1,4}</text>\n</g>\n<!-- Start&#45;&gt;5 -->\n<g id=\"edge17\" class=\"edge\">\n<title>Start&#45;&gt;5</title>\n<path fill=\"none\" stroke=\"black\" d=\"M2104.03,-177.26C1837.34,-177.85 972.16,-177.05 924.64,-142 917.32,-136.6 913.12,-127.88 910.72,-119.22\"/>\n<polygon fill=\"black\" stroke=\"black\" points=\"914.12,-118.37 908.66,-109.29 907.27,-119.79 914.12,-118.37\"/>\n<text text-anchor=\"middle\" x=\"943.14\" y=\"-130.8\" font-family=\"Times New Roman,serif\" font-size=\"14.00\">umask</text>\n</g>\n<!-- 6 -->\n<g id=\"node7\" class=\"node\">\n<title>6</title>\n<ellipse fill=\"none\" stroke=\"black\" cx=\"1138.64\" cy=\"-91\" rx=\"53.09\" ry=\"18\"/>\n<text text-anchor=\"middle\" x=\"1138.64\" y=\"-87.3\" font-family=\"Times New Roman,serif\" font-size=\"14.00\">^systemctl$</text>\n</g>\n<!-- Start&#45;&gt;6 -->\n<g id=\"edge18\" class=\"edge\">\n<title>Start&#45;&gt;6</title>\n<path fill=\"none\" stroke=\"black\" d=\"M2104.42,-176.21C1840.35,-173.32 988.48,-162.42 968.64,-142 963.99,-137.22 964.43,-132.17 968.64,-127 975.85,-118.16 1033.98,-107.54 1080.29,-100.33\"/>\n<polygon fill=\"black\" stroke=\"black\" points=\"1080.91,-103.77 1090.27,-98.8 1079.85,-96.85 1080.91,-103.77\"/>\n<text text-anchor=\"middle\" x=\"999.64\" y=\"-130.8\" font-family=\"Times New Roman,serif\" font-size=\"14.00\">setsockopt</text>\n</g>\n<!-- Start&#45;&gt;6 -->\n<g id=\"edge19\" class=\"edge\">\n<title>Start&#45;&gt;6</title>\n<path fill=\"none\" stroke=\"black\" d=\"M2103.9,-177.52C1854.74,-178.8 1090.14,-179.65 1053.64,-142 1038.09,-125.96 1060.47,-113.28 1086.16,-104.71\"/>\n<polygon fill=\"black\" stroke=\"black\" points=\"1087.2,-108.05 1095.71,-101.73 1085.12,-101.36 1087.2,-108.05\"/>\n<text text-anchor=\"middle\" x=\"1085.14\" y=\"-130.8\" font-family=\"Times New Roman,serif\" font-size=\"14.00\">getsockopt</text>\n</g>\n<!-- Start&#45;&gt;6 -->\n<g id=\"edge20\" class=\"edge\">\n<title>Start&#45;&gt;6</title>\n<path fill=\"none\" stroke=\"black\" d=\"M2104.11,-177.28C1868.27,-177.75 1173.39,-176.21 1139.64,-142 1133.81,-136.09 1132.19,-127.62 1132.46,-119.32\"/>\n<polygon fill=\"black\" stroke=\"black\" points=\"1135.97,-119.45 1133.63,-109.12 1129.01,-118.66 1135.97,-119.45\"/>\n<text text-anchor=\"middle\" x=\"1154.64\" y=\"-130.8\" font-family=\"Times New Roman,serif\" font-size=\"14.00\">wait4</text>\n</g>\n<!-- Start&#45;&gt;6 -->\n<g id=\"edge21\" class=\"edge\">\n<title>Start&#45;&gt;6</title>\n<path fill=\"none\" stroke=\"black\" d=\"M2104.23,-177.35C1885.93,-177.91 1275.88,-176.33 1192.64,-142 1185.32,-138.98 1172.45,-127.18 1161.1,-115.8\"/>\n<polygon fill=\"black\" stroke=\"black\" points=\"1163.43,-113.18 1153.94,-108.48 1158.43,-118.07 1163.43,-113.18\"/>\n<text text-anchor=\"middle\" x=\"1205.64\" y=\"-130.8\" font-family=\"Times New Roman,serif\" font-size=\"14.00\">exec</text>\n</g>\n<!-- Start&#45;&gt;6 -->\n<g id=\"edge22\" class=\"edge\">\n<title>Start&#45;&gt;6</title>\n<path fill=\"none\" stroke=\"black\" d=\"M2104.22,-177.66C1912.04,-178.72 1417.12,-177.77 1256.64,-142 1252.53,-141.08 1211.93,-123.73 1179.49,-109.72\"/>\n<polygon fill=\"black\" stroke=\"black\" points=\"1180.73,-106.45 1170.17,-105.69 1177.96,-112.87 1180.73,-106.45\"/>\n<text text-anchor=\"middle\" x=\"1293.14\" y=\"-130.8\" font-family=\"Times New Roman,serif\" font-size=\"14.00\">getsockname</text>\n</g>\n<!-- 7 -->\n<g id=\"node8\" class=\"node\">\n<title>7</title>\n<ellipse fill=\"none\" stroke=\"black\" cx=\"1399.64\" cy=\"-91\" rx=\"71.49\" ry=\"18\"/>\n<text text-anchor=\"middle\" x=\"1399.64\" y=\"-87.3\" font-family=\"Times New Roman,serif\" font-size=\"14.00\">[a&#45;zA&#45;z]:d{1,5}$</text>\n</g>\n<!-- Start&#45;&gt;7 -->\n<g id=\"edge23\" class=\"edge\">\n<title>Start&#45;&gt;7</title>\n<path fill=\"none\" stroke=\"black\" d=\"M2104.34,-176.66C1900.82,-175.38 1363.94,-169.42 1337.64,-142 1326.9,-130.8 1337.49,-119.81 1352.77,-111\"/>\n<polygon fill=\"black\" stroke=\"black\" points=\"1354.41,-114.09 1361.64,-106.34 1351.16,-107.9 1354.41,-114.09\"/>\n<text text-anchor=\"middle\" x=\"1357.64\" y=\"-130.8\" font-family=\"Times New Roman,serif\" font-size=\"14.00\">shmget</text>\n</g>\n<!-- Start&#45;&gt;7 -->\n<g id=\"edge24\" class=\"edge\">\n<title>Start&#45;&gt;7</title>\n<path fill=\"none\" stroke=\"black\" d=\"M2104.6,-176.36C1912.32,-174.38 1424.96,-166.93 1400.64,-142 1394.84,-136.06 1393.24,-127.58 1393.5,-119.29\"/>\n<polygon fill=\"black\" stroke=\"black\" points=\"1397.01,-119.42 1394.66,-109.09 1390.05,-118.63 1397.01,-119.42\"/>\n<text text-anchor=\"middle\" x=\"1419.14\" y=\"-130.8\" font-family=\"Times New Roman,serif\" font-size=\"14.00\">umask</text>\n</g>\n<!-- Start&#45;&gt;7 -->\n<g id=\"edge25\" class=\"edge\">\n<title>Start&#45;&gt;7</title>\n<path fill=\"none\" stroke=\"black\" d=\"M2104.84,-175.44C1934.43,-171.66 1535.09,-160.9 1476.64,-142 1458.68,-136.19 1440.86,-125.06 1426.89,-114.77\"/>\n<polygon fill=\"black\" stroke=\"black\" points=\"1428.8,-111.82 1418.73,-108.53 1424.54,-117.38 1428.8,-111.82\"/>\n<text text-anchor=\"middle\" x=\"1507.14\" y=\"-130.8\" font-family=\"Times New Roman,serif\" font-size=\"14.00\">exit_group</text>\n</g>\n<!-- 8 -->\n<g id=\"node9\" class=\"node\">\n<title>8</title>\n<ellipse fill=\"none\" stroke=\"black\" cx=\"1574.64\" cy=\"-91\" rx=\"38.19\" ry=\"18\"/>\n<text text-anchor=\"middle\" x=\"1574.64\" y=\"-87.3\" font-family=\"Times New Roman,serif\" font-size=\"14.00\">/selinux</text>\n</g>\n<!-- Start&#45;&gt;8 -->\n<g id=\"edge26\" class=\"edge\">\n<title>Start&#45;&gt;8</title>\n<path fill=\"none\" stroke=\"black\" d=\"M2104.71,-175.56C1939.4,-172.1 1563.61,-162.05 1544.64,-142 1537.03,-133.96 1541.4,-123.66 1548.9,-114.5\"/>\n<polygon fill=\"black\" stroke=\"black\" points=\"1551.49,-116.86 1555.74,-107.15 1546.37,-112.09 1551.49,-116.86\"/>\n<text text-anchor=\"middle\" x=\"1563.64\" y=\"-130.8\" font-family=\"Times New Roman,serif\" font-size=\"14.00\">access</text>\n</g>\n<!-- Start&#45;&gt;8 -->\n<g id=\"edge27\" class=\"edge\">\n<title>Start&#45;&gt;8</title>\n<path fill=\"none\" stroke=\"black\" d=\"M2104.84,-175.43C1961.13,-172.03 1662.19,-162.56 1619.64,-142 1608.09,-136.42 1598.17,-126.43 1590.6,-116.83\"/>\n<polygon fill=\"black\" stroke=\"black\" points=\"1593.32,-114.61 1584.58,-108.62 1587.67,-118.76 1593.32,-114.61\"/>\n<text text-anchor=\"middle\" x=\"1635.14\" y=\"-130.8\" font-family=\"Times New Roman,serif\" font-size=\"14.00\">statfs</text>\n</g>\n<!-- 9 -->\n<g id=\"node10\" class=\"node\">\n<title>9</title>\n<ellipse fill=\"none\" stroke=\"black\" cx=\"1745.64\" cy=\"-91\" rx=\"32.49\" ry=\"18\"/>\n<text text-anchor=\"middle\" x=\"1745.64\" y=\"-87.3\" font-family=\"Times New Roman,serif\" font-size=\"14.00\">/proc/</text>\n</g>\n<!-- Start&#45;&gt;9 -->\n<g id=\"edge28\" class=\"edge\">\n<title>Start&#45;&gt;9</title>\n<path fill=\"none\" stroke=\"black\" d=\"M2104.31,-177.5C1966.34,-177.58 1689.32,-173.74 1659.64,-142 1641.73,-122.85 1675.32,-108.83 1705.62,-100.58\"/>\n<polygon fill=\"black\" stroke=\"black\" points=\"1706.86,-103.88 1715.69,-98.01 1705.13,-97.1 1706.86,-103.88\"/>\n<text text-anchor=\"middle\" x=\"1678.64\" y=\"-130.8\" font-family=\"Times New Roman,serif\" font-size=\"14.00\">access</text>\n</g>\n<!-- Start&#45;&gt;9 -->\n<g id=\"edge29\" class=\"edge\">\n<title>Start&#45;&gt;9</title>\n<path fill=\"none\" stroke=\"black\" d=\"M2104.28,-176.74C1979.75,-175.49 1746.11,-169.48 1720.64,-142 1713.47,-134.26 1716.9,-124.08 1723.21,-114.92\"/>\n<polygon fill=\"black\" stroke=\"black\" points=\"1726.11,-116.9 1729.61,-106.9 1720.64,-112.54 1726.11,-116.9\"/>\n<text text-anchor=\"middle\" x=\"1734.64\" y=\"-130.8\" font-family=\"Times New Roman,serif\" font-size=\"14.00\">open</text>\n</g>\n<!-- Start&#45;&gt;9 -->\n<g id=\"edge30\" class=\"edge\">\n<title>Start&#45;&gt;9</title>\n<path fill=\"none\" stroke=\"black\" d=\"M2105.45,-174.44C1994.5,-170.12 1798.68,-160.04 1771.64,-142 1763.39,-136.5 1757.6,-127.52 1753.61,-118.67\"/>\n<polygon fill=\"black\" stroke=\"black\" points=\"1756.85,-117.35 1749.96,-109.3 1750.33,-119.89 1756.85,-117.35\"/>\n<text text-anchor=\"middle\" x=\"1800.14\" y=\"-130.8\" font-family=\"Times New Roman,serif\" font-size=\"14.00\">newfstatat</text>\n</g>\n<!-- Start&#45;&gt;9 -->\n<g id=\"edge31\" class=\"edge\">\n<title>Start&#45;&gt;9</title>\n<path fill=\"none\" stroke=\"black\" d=\"M2105.27,-174.71C2040.36,-171.32 1945.17,-162.89 1864.64,-142 1863.53,-141.71 1814.96,-121.25 1780.22,-106.6\"/>\n<polygon fill=\"black\" stroke=\"black\" points=\"1781.42,-103.3 1770.84,-102.64 1778.69,-109.75 1781.42,-103.3\"/>\n<text text-anchor=\"middle\" x=\"1886.64\" y=\"-130.8\" font-family=\"Times New Roman,serif\" font-size=\"14.00\">readlink</text>\n</g>\n<!-- 10 -->\n<g id=\"node11\" class=\"node\">\n<title>10</title>\n<ellipse fill=\"none\" stroke=\"black\" cx=\"2046.64\" cy=\"-91\" rx=\"32.49\" ry=\"18\"/>\n<text text-anchor=\"middle\" x=\"2046.64\" y=\"-87.3\" font-family=\"Times New Roman,serif\" font-size=\"14.00\">/boot/</text>\n</g>\n<!-- Start&#45;&gt;10 -->\n<g id=\"edge32\" class=\"edge\">\n<title>Start&#45;&gt;10</title>\n<path fill=\"none\" stroke=\"black\" d=\"M2104.09,-177.54C2035.39,-176.16 1942.39,-169.12 1918.64,-142 1891.84,-111.4 1957.51,-99.38 2004.37,-94.77\"/>\n<polygon fill=\"black\" stroke=\"black\" points=\"2004.69,-98.25 2014.33,-93.87 2004.06,-91.28 2004.69,-98.25\"/>\n<text text-anchor=\"middle\" x=\"1932.64\" y=\"-130.8\" font-family=\"Times New Roman,serif\" font-size=\"14.00\">open</text>\n</g>\n<!-- Start&#45;&gt;10 -->\n<g id=\"edge33\" class=\"edge\">\n<title>Start&#45;&gt;10</title>\n<path fill=\"none\" stroke=\"black\" d=\"M2105.67,-174.54C2052.15,-171.02 1987.05,-162.52 1969.64,-142 1954.64,-124.33 1981.53,-110.6 2007.56,-102.03\"/>\n<polygon fill=\"black\" stroke=\"black\" points=\"2008.87,-105.29 2017.4,-99.01 2006.81,-98.6 2008.87,-105.29\"/>\n<text text-anchor=\"middle\" x=\"1983.64\" y=\"-130.8\" font-family=\"Times New Roman,serif\" font-size=\"14.00\">write</text>\n</g>\n<!-- Start&#45;&gt;10 -->\n<g id=\"edge34\" class=\"edge\">\n<title>Start&#45;&gt;10</title>\n<path fill=\"none\" stroke=\"black\" d=\"M2111.07,-170.37C2073.32,-165.21 2032.26,-156.42 2020.64,-142 2014.06,-133.83 2017.55,-123.74 2023.83,-114.77\"/>\n<polygon fill=\"black\" stroke=\"black\" points=\"2026.6,-116.9 2030.17,-106.93 2021.16,-112.5 2026.6,-116.9\"/>\n<text text-anchor=\"middle\" x=\"2036.14\" y=\"-130.8\" font-family=\"Times New Roman,serif\" font-size=\"14.00\">clone</text>\n</g>\n<!-- Start&#45;&gt;10 -->\n<g id=\"edge35\" class=\"edge\">\n<title>Start&#45;&gt;10</title>\n<path fill=\"none\" stroke=\"black\" d=\"M2122.71,-166.2C2105.87,-160.99 2088.38,-153.3 2074.64,-142 2067.05,-135.76 2061.14,-126.88 2056.76,-118.34\"/>\n<polygon fill=\"black\" stroke=\"black\" points=\"2059.81,-116.6 2052.44,-108.99 2053.46,-119.54 2059.81,-116.6\"/>\n<text text-anchor=\"middle\" x=\"2091.64\" y=\"-130.8\" font-family=\"Times New Roman,serif\" font-size=\"14.00\">stat64</text>\n</g>\n<!-- Start&#45;&gt;10 -->\n<g id=\"edge36\" class=\"edge\">\n<title>Start&#45;&gt;10</title>\n<path fill=\"none\" stroke=\"black\" d=\"M2158.42,-160.77C2140.87,-148.57 2118.22,-132.97 2108.64,-127 2098.84,-120.89 2087.94,-114.58 2078.04,-109.03\"/>\n<polygon fill=\"black\" stroke=\"black\" points=\"2079.74,-105.97 2069.3,-104.17 2076.34,-112.09 2079.74,-105.97\"/>\n<text text-anchor=\"middle\" x=\"2144.64\" y=\"-130.8\" font-family=\"Times New Roman,serif\" font-size=\"14.00\">lseek</text>\n</g>\n<!-- Start&#45;&gt;10 -->\n<g id=\"edge37\" class=\"edge\">\n<title>Start&#45;&gt;10</title>\n<path fill=\"none\" stroke=\"black\" d=\"M2178.01,-160C2174.87,-149.16 2169.27,-135.59 2159.64,-127 2140.08,-109.55 2111.94,-100.8 2088.64,-96.42\"/>\n<polygon fill=\"black\" stroke=\"black\" points=\"2089.09,-92.94 2078.65,-94.74 2087.93,-99.85 2089.09,-92.94\"/>\n<text text-anchor=\"middle\" x=\"2178.64\" y=\"-130.8\" font-family=\"Times New Roman,serif\" font-size=\"14.00\">rm</text>\n</g>\n<!-- 11 -->\n<g id=\"node12\" class=\"node\">\n<title>11</title>\n<ellipse fill=\"none\" stroke=\"black\" cx=\"2319.64\" cy=\"-91\" rx=\"38.99\" ry=\"18\"/>\n<text text-anchor=\"middle\" x=\"2319.64\" y=\"-87.3\" font-family=\"Times New Roman,serif\" font-size=\"14.00\">/etc/sed</text>\n</g>\n<!-- Start&#45;&gt;11 -->\n<g id=\"edge38\" class=\"edge\">\n<title>Start&#45;&gt;11</title>\n<path fill=\"none\" stroke=\"black\" d=\"M2191.65,-160.13C2198.81,-149.34 2209.33,-135.78 2221.64,-127 2237.38,-115.78 2257.08,-107.82 2274.68,-102.36\"/>\n<polygon fill=\"black\" stroke=\"black\" points=\"2276.14,-105.58 2284.76,-99.43 2274.18,-98.86 2276.14,-105.58\"/>\n<text text-anchor=\"middle\" x=\"2234.14\" y=\"-130.8\" font-family=\"Times New Roman,serif\" font-size=\"14.00\">fcntl</text>\n</g>\n<!-- Start&#45;&gt;11 -->\n<g id=\"edge39\" class=\"edge\">\n<title>Start&#45;&gt;11</title>\n<path fill=\"none\" stroke=\"black\" d=\"M2212.11,-161.45C2223.14,-155.6 2235.59,-148.74 2246.64,-142 2255.24,-136.76 2274.19,-123.77 2290.62,-112.34\"/>\n<polygon fill=\"black\" stroke=\"black\" points=\"2292.72,-115.15 2298.92,-106.56 2288.71,-109.4 2292.72,-115.15\"/>\n<text text-anchor=\"middle\" x=\"2282.64\" y=\"-130.8\" font-family=\"Times New Roman,serif\" font-size=\"14.00\">write</text>\n</g>\n<!-- Start&#45;&gt;11 -->\n<g id=\"edge40\" class=\"edge\">\n<title>Start&#45;&gt;11</title>\n<path fill=\"none\" stroke=\"black\" d=\"M2246.23,-167.94C2264.51,-162.78 2283.31,-154.69 2297.64,-142 2304.58,-135.85 2309.43,-127.11 2312.77,-118.65\"/>\n<polygon fill=\"black\" stroke=\"black\" points=\"2316.14,-119.62 2316.04,-109.02 2309.51,-117.37 2316.14,-119.62\"/>\n<text text-anchor=\"middle\" x=\"2330.64\" y=\"-130.8\" font-family=\"Times New Roman,serif\" font-size=\"14.00\">fchmod</text>\n</g>\n<!-- Start&#45;&gt;11 -->\n<g id=\"edge41\" class=\"edge\">\n<title>Start&#45;&gt;11</title>\n<path fill=\"none\" stroke=\"black\" d=\"M2254.5,-171.61C2296.5,-166.82 2343.53,-157.99 2356.64,-142 2364.33,-132.62 2358.14,-121.84 2348.78,-112.7\"/>\n<polygon fill=\"black\" stroke=\"black\" points=\"2351.02,-110 2341.17,-106.08 2346.42,-115.28 2351.02,-110\"/>\n<text text-anchor=\"middle\" x=\"2373.14\" y=\"-130.8\" font-family=\"Times New Roman,serif\" font-size=\"14.00\">fstat</text>\n</g>\n<!-- Start&#45;&gt;11 -->\n<g id=\"edge42\" class=\"edge\">\n<title>Start&#45;&gt;11</title>\n<path fill=\"none\" stroke=\"black\" d=\"M2257.56,-174.25C2309.81,-170.57 2372.73,-161.99 2389.64,-142 2402.55,-126.73 2382.82,-113.76 2361.05,-104.86\"/>\n<polygon fill=\"black\" stroke=\"black\" points=\"2362.27,-101.58 2351.68,-101.3 2359.78,-108.12 2362.27,-101.58\"/>\n<text text-anchor=\"middle\" x=\"2416.14\" y=\"-130.8\" font-family=\"Times New Roman,serif\" font-size=\"14.00\">fchown</text>\n</g>\n<!-- 12 -->\n<g id=\"node13\" class=\"node\">\n<title>12</title>\n<ellipse fill=\"none\" stroke=\"black\" cx=\"2492.64\" cy=\"-18\" rx=\"37.09\" ry=\"18\"/>\n<text text-anchor=\"middle\" x=\"2492.64\" y=\"-14.3\" font-family=\"Times New Roman,serif\" font-size=\"14.00\">bin/sed</text>\n</g>\n<!-- Start&#45;&gt;12 -->\n<g id=\"edge43\" class=\"edge\">\n<title>Start&#45;&gt;12</title>\n<path fill=\"none\" stroke=\"black\" d=\"M2258.05,-175.01C2324.25,-171.81 2413.66,-163.52 2441.64,-142 2471.7,-118.88 2484.17,-74.88 2489.26,-46.26\"/>\n<polygon fill=\"black\" stroke=\"black\" points=\"2492.76,-46.54 2490.87,-36.12 2485.85,-45.45 2492.76,-46.54\"/>\n<text text-anchor=\"middle\" x=\"2493.64\" y=\"-87.3\" font-family=\"Times New Roman,serif\" font-size=\"14.00\">stat</text>\n</g>\n<!-- 13 -->\n<g id=\"node14\" class=\"node\">\n<title>13</title>\n<ellipse fill=\"none\" stroke=\"black\" cx=\"2557.64\" cy=\"-91\" rx=\"27\" ry=\"18\"/>\n<text text-anchor=\"middle\" x=\"2557.64\" y=\"-87.3\" font-family=\"Times New Roman,serif\" font-size=\"14.00\">/var/</text>\n</g>\n<!-- Start&#45;&gt;13 -->\n<g id=\"edge44\" class=\"edge\">\n<title>Start&#45;&gt;13</title>\n<path fill=\"none\" stroke=\"black\" d=\"M2257.3,-174.24C2338.39,-170.33 2461.17,-161.36 2503.64,-142 2517.03,-135.9 2529.31,-125.16 2538.76,-115.2\"/>\n<polygon fill=\"black\" stroke=\"black\" points=\"2541.62,-117.25 2545.7,-107.48 2536.41,-112.57 2541.62,-117.25\"/>\n<text text-anchor=\"middle\" x=\"2542.64\" y=\"-130.8\" font-family=\"Times New Roman,serif\" font-size=\"14.00\">stat64</text>\n</g>\n<!-- Start&#45;&gt;13 -->\n<g id=\"edge45\" class=\"edge\">\n<title>Start&#45;&gt;13</title>\n<path fill=\"none\" stroke=\"black\" d=\"M2258.47,-175.34C2363.36,-172.26 2540.71,-163.85 2560.64,-142 2566.31,-135.79 2567.26,-127.14 2566.26,-118.77\"/>\n<polygon fill=\"black\" stroke=\"black\" points=\"2569.68,-118 2564.25,-108.9 2562.82,-119.4 2569.68,-118\"/>\n<text text-anchor=\"middle\" x=\"2580.64\" y=\"-130.8\" font-family=\"Times New Roman,serif\" font-size=\"14.00\">lseek</text>\n</g>\n<!-- Start&#45;&gt;13 -->\n<g id=\"edge46\" class=\"edge\">\n<title>Start&#45;&gt;13</title>\n<path fill=\"none\" stroke=\"black\" d=\"M2258.54,-176.05C2372.72,-173.84 2576.14,-166.47 2598.64,-142 2608.24,-131.56 2598.38,-119.25 2585.93,-109.45\"/>\n<polygon fill=\"black\" stroke=\"black\" points=\"2587.71,-106.43 2577.55,-103.43 2583.63,-112.11 2587.71,-106.43\"/>\n<text text-anchor=\"middle\" x=\"2616.64\" y=\"-130.8\" font-family=\"Times New Roman,serif\" font-size=\"14.00\">open</text>\n</g>\n<!-- Start&#45;&gt;13 -->\n<g id=\"edge47\" class=\"edge\">\n<title>Start&#45;&gt;13</title>\n<path fill=\"none\" stroke=\"black\" d=\"M2259.14,-176.62C2381.88,-175.2 2609.72,-168.92 2634.64,-142 2639.17,-137.11 2638.28,-132.58 2634.64,-127 2623.76,-110.34 2611.75,-117.25 2593.64,-109 2591.85,-108.18 2590.01,-107.34 2588.15,-106.48\"/>\n<polygon fill=\"black\" stroke=\"black\" points=\"2589.46,-103.23 2578.91,-102.17 2586.49,-109.57 2589.46,-103.23\"/>\n<text text-anchor=\"middle\" x=\"2652.64\" y=\"-130.8\" font-family=\"Times New Roman,serif\" font-size=\"14.00\">write</text>\n</g>\n<!-- 14 -->\n<g id=\"node15\" class=\"node\">\n<title>14</title>\n<ellipse fill=\"none\" stroke=\"black\" cx=\"2751.64\" cy=\"-91\" rx=\"148.67\" ry=\"18\"/>\n<text text-anchor=\"middle\" x=\"2751.64\" y=\"-87.3\" font-family=\"Times New Roman,serif\" font-size=\"14.00\">d{1,3}.d{1,3}.d{1,3}.d{1,3}:d{1,5}$</text>\n</g>\n<!-- Start&#45;&gt;14 -->\n<g id=\"edge48\" class=\"edge\">\n<title>Start&#45;&gt;14</title>\n<path fill=\"none\" stroke=\"black\" d=\"M2258.72,-175.95C2376.7,-173.59 2596.22,-166.02 2670.64,-142 2689.18,-136.02 2707.81,-124.94 2722.53,-114.74\"/>\n<polygon fill=\"black\" stroke=\"black\" points=\"2724.62,-117.54 2730.71,-108.87 2720.55,-111.85 2724.62,-117.54\"/>\n<text text-anchor=\"middle\" x=\"2724.14\" y=\"-130.8\" font-family=\"Times New Roman,serif\" font-size=\"14.00\">connect</text>\n</g>\n<!-- Start&#45;&gt;14 -->\n<g id=\"edge49\" class=\"edge\">\n<title>Start&#45;&gt;14</title>\n<path fill=\"none\" stroke=\"black\" d=\"M2257.99,-175.02C2409.23,-170.72 2733.85,-159.5 2750.64,-142 2756.39,-136.01 2757.98,-127.52 2757.72,-119.23\"/>\n<polygon fill=\"black\" stroke=\"black\" points=\"2761.17,-118.59 2756.57,-109.04 2754.22,-119.37 2761.17,-118.59\"/>\n<text text-anchor=\"middle\" x=\"2788.64\" y=\"-130.8\" font-family=\"Times New Roman,serif\" font-size=\"14.00\">_newselect</text>\n</g>\n<!-- Start&#45;&gt;14 -->\n<g id=\"edge50\" class=\"edge\">\n<title>Start&#45;&gt;14</title>\n<path fill=\"none\" stroke=\"black\" d=\"M2258.54,-175.6C2424.83,-172.19 2804.49,-162.22 2823.64,-142 2834.14,-130.92 2825.35,-120.84 2810.78,-112.69\"/>\n<polygon fill=\"black\" stroke=\"black\" points=\"2812.15,-109.46 2801.64,-108.11 2809.02,-115.72 2812.15,-109.46\"/>\n<text text-anchor=\"middle\" x=\"2842.14\" y=\"-130.8\" font-family=\"Times New Roman,serif\" font-size=\"14.00\">send</text>\n</g>\n<!-- 15 -->\n<g id=\"node16\" class=\"node\">\n<title>15</title>\n<ellipse fill=\"none\" stroke=\"black\" cx=\"2947.64\" cy=\"-91\" rx=\"29.5\" ry=\"18\"/>\n<text text-anchor=\"middle\" x=\"2947.64\" y=\"-87.3\" font-family=\"Times New Roman,serif\" font-size=\"14.00\">/perl/</text>\n</g>\n<!-- Start&#45;&gt;15 -->\n<g id=\"edge51\" class=\"edge\">\n<title>Start&#45;&gt;15</title>\n<path fill=\"none\" stroke=\"black\" d=\"M2259.11,-177.47C2412.39,-177.67 2749.12,-174.28 2859.64,-142 2881.84,-135.52 2904.48,-122.48 2921.23,-111.35\"/>\n<polygon fill=\"black\" stroke=\"black\" points=\"2923.62,-113.95 2929.89,-105.41 2919.66,-108.18 2923.62,-113.95\"/>\n<text text-anchor=\"middle\" x=\"2903.64\" y=\"-130.8\" font-family=\"Times New Roman,serif\" font-size=\"14.00\">stat</text>\n</g>\n<!-- 16 -->\n<g id=\"node17\" class=\"node\">\n<title>16</title>\n<ellipse fill=\"none\" stroke=\"black\" cx=\"3012.64\" cy=\"-18\" rx=\"31.7\" ry=\"18\"/>\n<text text-anchor=\"middle\" x=\"3012.64\" y=\"-14.3\" font-family=\"Times New Roman,serif\" font-size=\"14.00\">^sed$</text>\n</g>\n<!-- Start&#45;&gt;16 -->\n<g id=\"edge52\" class=\"edge\">\n<title>Start&#45;&gt;16</title>\n<path fill=\"none\" stroke=\"black\" d=\"M2258.96,-177.24C2421.75,-177.12 2794.92,-173.29 2917.64,-142 2950.19,-133.7 2963.86,-134.58 2985.64,-109 3000.63,-91.39 3007.3,-65.69 3010.26,-46.26\"/>\n<polygon fill=\"black\" stroke=\"black\" points=\"3013.75,-46.56 3011.56,-36.2 3006.81,-45.67 3013.75,-46.56\"/>\n<text text-anchor=\"middle\" x=\"3017.64\" y=\"-87.3\" font-family=\"Times New Roman,serif\" font-size=\"14.00\">exec</text>\n</g>\n<!-- 17 -->\n<g id=\"node18\" class=\"node\">\n<title>17</title>\n<ellipse fill=\"none\" stroke=\"black\" cx=\"3103.64\" cy=\"-91\" rx=\"40.89\" ry=\"18\"/>\n<text text-anchor=\"middle\" x=\"3103.64\" y=\"-87.3\" font-family=\"Times New Roman,serif\" font-size=\"14.00\">/var/run/</text>\n</g>\n<!-- Start&#45;&gt;17 -->\n<g id=\"edge53\" class=\"edge\">\n<title>Start&#45;&gt;17</title>\n<path fill=\"none\" stroke=\"black\" d=\"M2258.5,-175.96C2446.05,-173.09 2916.8,-163.79 2984.64,-142 2996.26,-138.27 2996.72,-132.46 3007.64,-127 3024.62,-118.51 3044.17,-111 3061.19,-105.14\"/>\n<polygon fill=\"black\" stroke=\"black\" points=\"3062.51,-108.39 3070.87,-101.88 3060.28,-101.75 3062.51,-108.39\"/>\n<text text-anchor=\"middle\" x=\"3021.64\" y=\"-130.8\" font-family=\"Times New Roman,serif\" font-size=\"14.00\">open</text>\n</g>\n<!-- Start&#45;&gt;17 -->\n<g id=\"edge54\" class=\"edge\">\n<title>Start&#45;&gt;17</title>\n<path fill=\"none\" stroke=\"black\" d=\"M2258.75,-176.41C2455.11,-174.54 2963.57,-167.29 3035.64,-142 3040.39,-140.33 3059.66,-126.03 3076.47,-113.15\"/>\n<polygon fill=\"black\" stroke=\"black\" points=\"3078.67,-115.88 3084.46,-107 3074.4,-110.33 3078.67,-115.88\"/>\n<text text-anchor=\"middle\" x=\"3072.64\" y=\"-130.8\" font-family=\"Times New Roman,serif\" font-size=\"14.00\">write</text>\n</g>\n<!-- Start&#45;&gt;17 -->\n<g id=\"edge55\" class=\"edge\">\n<title>Start&#45;&gt;17</title>\n<path fill=\"none\" stroke=\"black\" d=\"M2259,-176.37C2472.05,-174.34 3053.73,-166.54 3086.64,-142 3093.93,-136.56 3098.12,-127.83 3100.52,-119.18\"/>\n<polygon fill=\"black\" stroke=\"black\" points=\"3103.98,-119.76 3102.6,-109.25 3097.13,-118.33 3103.98,-119.76\"/>\n<text text-anchor=\"middle\" x=\"3114.64\" y=\"-130.8\" font-family=\"Times New Roman,serif\" font-size=\"14.00\">stat64</text>\n</g>\n<!-- Start&#45;&gt;17 -->\n<g id=\"edge56\" class=\"edge\">\n<title>Start&#45;&gt;17</title>\n<path fill=\"none\" stroke=\"black\" d=\"M2259.26,-177.05C2481.35,-176.82 3105.41,-173.36 3135.64,-142 3143.46,-133.88 3138.76,-123.58 3130.81,-114.43\"/>\n<polygon fill=\"black\" stroke=\"black\" points=\"3133.08,-111.75 3123.56,-107.1 3128.1,-116.67 3133.08,-111.75\"/>\n<text text-anchor=\"middle\" x=\"3154.64\" y=\"-130.8\" font-family=\"Times New Roman,serif\" font-size=\"14.00\">lseek</text>\n</g>\n<!-- 18 -->\n<g id=\"node19\" class=\"node\">\n<title>18</title>\n<ellipse fill=\"none\" stroke=\"black\" cx=\"3358.64\" cy=\"-91\" rx=\"27.1\" ry=\"18\"/>\n<text text-anchor=\"middle\" x=\"3358.64\" y=\"-87.3\" font-family=\"Times New Roman,serif\" font-size=\"14.00\">/run/</text>\n</g>\n<!-- Start&#45;&gt;18 -->\n<g id=\"edge57\" class=\"edge\">\n<title>Start&#45;&gt;18</title>\n<path fill=\"none\" stroke=\"black\" d=\"M2259.21,-177.12C2460.83,-176.98 2997.82,-173.55 3172.64,-142 3193.39,-138.26 3197.39,-132.88 3217.64,-127 3253.34,-116.64 3294.68,-106.6 3323.32,-99.96\"/>\n<polygon fill=\"black\" stroke=\"black\" points=\"3324.3,-103.32 3333.26,-97.67 3322.73,-96.5 3324.3,-103.32\"/>\n<text text-anchor=\"middle\" x=\"3231.64\" y=\"-130.8\" font-family=\"Times New Roman,serif\" font-size=\"14.00\">open</text>\n</g>\n<!-- Start&#45;&gt;18 -->\n<g id=\"edge58\" class=\"edge\">\n<title>Start&#45;&gt;18</title>\n<path fill=\"none\" stroke=\"black\" d=\"M2258.87,-176.86C2487.78,-176.1 3152.49,-171.37 3245.64,-142 3257.28,-138.33 3257.78,-132.57 3268.64,-127 3286.72,-117.72 3307.85,-109.38 3325.1,-103.17\"/>\n<polygon fill=\"black\" stroke=\"black\" points=\"3326.48,-106.39 3334.75,-99.77 3324.15,-99.79 3326.48,-106.39\"/>\n<text text-anchor=\"middle\" x=\"3282.64\" y=\"-130.8\" font-family=\"Times New Roman,serif\" font-size=\"14.00\">write</text>\n</g>\n<!-- Start&#45;&gt;18 -->\n<g id=\"edge59\" class=\"edge\">\n<title>Start&#45;&gt;18</title>\n<path fill=\"none\" stroke=\"black\" d=\"M2259.34,-177.41C2496.41,-178.27 3200.22,-177.74 3296.64,-142 3305.31,-138.79 3321.84,-125.28 3335.66,-113.12\"/>\n<polygon fill=\"black\" stroke=\"black\" points=\"3338.28,-115.47 3343.4,-106.2 3333.61,-110.25 3338.28,-115.47\"/>\n<text text-anchor=\"middle\" x=\"3348.14\" y=\"-130.8\" font-family=\"Times New Roman,serif\" font-size=\"14.00\">newfstatat</text>\n</g>\n<!-- Start&#45;&gt;18 -->\n<g id=\"edge60\" class=\"edge\">\n<title>Start&#45;&gt;18</title>\n<path fill=\"none\" stroke=\"black\" d=\"M2258.62,-176.18C2519.8,-173.2 3357.12,-162.1 3376.64,-142 3383.48,-134.95 3381.52,-125.11 3376.89,-116.03\"/>\n<polygon fill=\"black\" stroke=\"black\" points=\"3379.78,-114.05 3371.6,-107.32 3373.8,-117.69 3379.78,-114.05\"/>\n<text text-anchor=\"middle\" x=\"3391.64\" y=\"-130.8\" font-family=\"Times New Roman,serif\" font-size=\"14.00\">stat</text>\n</g>\n<!-- Start&#45;&gt;18 -->\n<g id=\"edge61\" class=\"edge\">\n<title>Start&#45;&gt;18</title>\n<path fill=\"none\" stroke=\"black\" d=\"M2258.64,-176.23C2524.03,-173.4 3385.59,-162.63 3405.64,-142 3416.61,-130.72 3403.75,-117.77 3388.73,-107.87\"/>\n<polygon fill=\"black\" stroke=\"black\" points=\"3390.16,-104.65 3379.8,-102.44 3386.52,-110.63 3390.16,-104.65\"/>\n<text text-anchor=\"middle\" x=\"3424.64\" y=\"-130.8\" font-family=\"Times New Roman,serif\" font-size=\"14.00\">lseek</text>\n</g>\n<!-- Start&#45;&gt;18 -->\n<g id=\"edge62\" class=\"edge\">\n<title>Start&#45;&gt;18</title>\n<path fill=\"none\" stroke=\"black\" d=\"M2259.08,-176.29C2530.27,-173.64 3421.93,-163.29 3442.64,-142 3461.35,-122.76 3424.9,-108.21 3394.29,-99.9\"/>\n<polygon fill=\"black\" stroke=\"black\" points=\"3394.78,-96.41 3384.22,-97.32 3393.04,-103.19 3394.78,-96.41\"/>\n<text text-anchor=\"middle\" x=\"3465.64\" y=\"-130.8\" font-family=\"Times New Roman,serif\" font-size=\"14.00\">stat64</text>\n</g>\n<!-- 19 -->\n<g id=\"node20\" class=\"node\">\n<title>19</title>\n<ellipse fill=\"none\" stroke=\"black\" cx=\"3497.64\" cy=\"-91\" rx=\"50.09\" ry=\"18\"/>\n<text text-anchor=\"middle\" x=\"3497.64\" y=\"-87.3\" font-family=\"Times New Roman,serif\" font-size=\"14.00\">bin/openrc</text>\n</g>\n<!-- Start&#45;&gt;19 -->\n<g id=\"edge63\" class=\"edge\">\n<title>Start&#45;&gt;19</title>\n<path fill=\"none\" stroke=\"black\" d=\"M2258.74,-176.21C2535.37,-173.19 3462.86,-161.65 3486.64,-142 3493.36,-136.45 3496.55,-127.81 3497.92,-119.26\"/>\n<polygon fill=\"black\" stroke=\"black\" points=\"3501.42,-119.36 3498.81,-109.1 3494.45,-118.75 3501.42,-119.36\"/>\n<text text-anchor=\"middle\" x=\"3506.64\" y=\"-130.8\" font-family=\"Times New Roman,serif\" font-size=\"14.00\">stat</text>\n</g>\n<!-- 20 -->\n<g id=\"node21\" class=\"node\">\n<title>20</title>\n<ellipse fill=\"none\" stroke=\"black\" cx=\"3583.64\" cy=\"-18\" rx=\"50.09\" ry=\"18\"/>\n<text text-anchor=\"middle\" x=\"3583.64\" y=\"-14.3\" font-family=\"Times New Roman,serif\" font-size=\"14.00\">bin/insserv</text>\n</g>\n<!-- Start&#45;&gt;20 -->\n<g id=\"edge64\" class=\"edge\">\n<title>Start&#45;&gt;20</title>\n<path fill=\"none\" stroke=\"black\" d=\"M2258.93,-176.47C2535.41,-174.4 3461.99,-165.7 3520.64,-142 3558.41,-126.74 3573.79,-77.61 3579.87,-46.25\"/>\n<polygon fill=\"black\" stroke=\"black\" points=\"3583.32,-46.83 3581.59,-36.37 3576.43,-45.62 3583.32,-46.83\"/>\n<text text-anchor=\"middle\" x=\"3583.64\" y=\"-87.3\" font-family=\"Times New Roman,serif\" font-size=\"14.00\">stat</text>\n</g>\n<!-- 21 -->\n<g id=\"node22\" class=\"node\">\n<title>21</title>\n<ellipse fill=\"none\" stroke=\"black\" cx=\"3668.64\" cy=\"-91\" rx=\"46.59\" ry=\"18\"/>\n<text text-anchor=\"middle\" x=\"3668.64\" y=\"-87.3\" font-family=\"Times New Roman,serif\" font-size=\"14.00\">/etc/init.d/</text>\n</g>\n<!-- Start&#45;&gt;21 -->\n<g id=\"edge65\" class=\"edge\">\n<title>Start&#45;&gt;21</title>\n<path fill=\"none\" stroke=\"black\" d=\"M2258.68,-176.3C2544.6,-173.57 3531.75,-162.65 3595.64,-142 3598.2,-141.17 3619.87,-126.24 3638.93,-112.92\"/>\n<polygon fill=\"black\" stroke=\"black\" points=\"3640.98,-115.76 3647.16,-107.15 3636.96,-110.02 3640.98,-115.76\"/>\n<text text-anchor=\"middle\" x=\"3631.64\" y=\"-130.8\" font-family=\"Times New Roman,serif\" font-size=\"14.00\">open</text>\n</g>\n<!-- Start&#45;&gt;21 -->\n<g id=\"edge66\" class=\"edge\">\n<title>Start&#45;&gt;21</title>\n<path fill=\"none\" stroke=\"black\" d=\"M2258.68,-176.27C2556.53,-173.32 3617.57,-161.47 3646.64,-142 3654.54,-136.71 3659.63,-127.89 3662.89,-119.12\"/>\n<polygon fill=\"black\" stroke=\"black\" points=\"3666.28,-120.02 3665.86,-109.43 3659.58,-117.97 3666.28,-120.02\"/>\n<text text-anchor=\"middle\" x=\"3673.64\" y=\"-130.8\" font-family=\"Times New Roman,serif\" font-size=\"14.00\">write</text>\n</g>\n<!-- Start&#45;&gt;21 -->\n<g id=\"edge67\" class=\"edge\">\n<title>Start&#45;&gt;21</title>\n<path fill=\"none\" stroke=\"black\" d=\"M2258.98,-176.66C2563.76,-175.14 3666.38,-167.85 3691.64,-142 3698.62,-134.85 3696.06,-125.2 3690.59,-116.28\"/>\n<polygon fill=\"black\" stroke=\"black\" points=\"3693.35,-114.13 3684.67,-108.06 3687.67,-118.22 3693.35,-114.13\"/>\n<text text-anchor=\"middle\" x=\"3710.64\" y=\"-130.8\" font-family=\"Times New Roman,serif\" font-size=\"14.00\">lseek</text>\n</g>\n<!-- 22 -->\n<g id=\"node23\" class=\"node\">\n<title>22</title>\n<ellipse fill=\"none\" stroke=\"black\" cx=\"3783.64\" cy=\"-91\" rx=\"50.09\" ry=\"18\"/>\n<text text-anchor=\"middle\" x=\"3783.64\" y=\"-87.3\" font-family=\"Times New Roman,serif\" font-size=\"14.00\">^pipe($|.|$)</text>\n</g>\n<!-- Start&#45;&gt;22 -->\n<g id=\"edge68\" class=\"edge\">\n<title>Start&#45;&gt;22</title>\n<path fill=\"none\" stroke=\"black\" d=\"M2258.93,-176.75C2562.49,-175.58 3659.9,-169.47 3728.64,-142 3742.07,-136.63 3754.28,-126.39 3763.76,-116.56\"/>\n<polygon fill=\"black\" stroke=\"black\" points=\"3766.62,-118.62 3770.76,-108.87 3761.44,-113.91 3766.62,-118.62\"/>\n<text text-anchor=\"middle\" x=\"3765.14\" y=\"-130.8\" font-family=\"Times New Roman,serif\" font-size=\"14.00\">pipe</text>\n</g>\n<!-- 23 -->\n<g id=\"node24\" class=\"node\">\n<title>23</title>\n<ellipse fill=\"none\" stroke=\"black\" cx=\"3878.64\" cy=\"-91\" rx=\"27.1\" ry=\"18\"/>\n<text text-anchor=\"middle\" x=\"3878.64\" y=\"-87.3\" font-family=\"Times New Roman,serif\" font-size=\"14.00\">^sh$</text>\n</g>\n<!-- Start&#45;&gt;23 -->\n<g id=\"edge69\" class=\"edge\">\n<title>Start&#45;&gt;23</title>\n<path fill=\"none\" stroke=\"black\" d=\"M2259.13,-177.35C2558.96,-178.44 3633.58,-179.63 3781.64,-142 3795.5,-138.48 3826.74,-121.72 3850.05,-108.57\"/>\n<polygon fill=\"black\" stroke=\"black\" points=\"3851.89,-111.54 3858.85,-103.56 3848.43,-105.46 3851.89,-111.54\"/>\n<text text-anchor=\"middle\" x=\"3836.14\" y=\"-130.8\" font-family=\"Times New Roman,serif\" font-size=\"14.00\">waitpid</text>\n</g>\n<!-- Start&#45;&gt;23 -->\n<g id=\"edge70\" class=\"edge\">\n<title>Start&#45;&gt;23</title>\n<path fill=\"none\" stroke=\"black\" d=\"M2258.95,-176.57C2584.4,-174.63 3827.72,-165.65 3860.64,-142 3868.07,-136.66 3872.45,-127.95 3875.02,-119.29\"/>\n<polygon fill=\"black\" stroke=\"black\" points=\"3878.47,-119.87 3877.28,-109.34 3871.65,-118.31 3878.47,-119.87\"/>\n<text text-anchor=\"middle\" x=\"3888.14\" y=\"-130.8\" font-family=\"Times New Roman,serif\" font-size=\"14.00\">clone</text>\n</g>\n<!-- 24 -->\n<g id=\"node25\" class=\"node\">\n<title>24</title>\n<ellipse fill=\"none\" stroke=\"black\" cx=\"3941.64\" cy=\"-18\" rx=\"57.69\" ry=\"18\"/>\n<text text-anchor=\"middle\" x=\"3941.64\" y=\"-14.3\" font-family=\"Times New Roman,serif\" font-size=\"14.00\">/proc/rs_dev</text>\n</g>\n<!-- Start&#45;&gt;24 -->\n<g id=\"edge71\" class=\"edge\">\n<title>Start&#45;&gt;24</title>\n<path fill=\"none\" stroke=\"black\" d=\"M2258.92,-176.68C2590.16,-175.16 3874.67,-167.63 3907.64,-142 3936.34,-119.7 3942.22,-75.47 3942.74,-46.58\"/>\n<polygon fill=\"black\" stroke=\"black\" points=\"3946.24,-46.32 3942.71,-36.33 3939.24,-46.34 3946.24,-46.32\"/>\n<text text-anchor=\"middle\" x=\"3955.64\" y=\"-87.3\" font-family=\"Times New Roman,serif\" font-size=\"14.00\">open</text>\n</g>\n<!-- 25 -->\n<g id=\"node26\" class=\"node\">\n<title>25</title>\n<ellipse fill=\"none\" stroke=\"black\" cx=\"4042.64\" cy=\"-91\" rx=\"55.49\" ry=\"18\"/>\n<text text-anchor=\"middle\" x=\"4042.64\" y=\"-87.3\" font-family=\"Times New Roman,serif\" font-size=\"14.00\">^chkconfig$</text>\n</g>\n<!-- Start&#45;&gt;25 -->\n<g id=\"edge72\" class=\"edge\">\n<title>Start&#45;&gt;25</title>\n<path fill=\"none\" stroke=\"black\" d=\"M2258.91,-176.55C2589.63,-174.47 3872.94,-164.95 3955.64,-142 3976.46,-136.22 3997.53,-124.31 4013.72,-113.56\"/>\n<polygon fill=\"black\" stroke=\"black\" points=\"4015.91,-116.3 4022.17,-107.75 4011.95,-110.52 4015.91,-116.3\"/>\n<text text-anchor=\"middle\" x=\"4007.14\" y=\"-130.8\" font-family=\"Times New Roman,serif\" font-size=\"14.00\">clone</text>\n</g>\n<!-- 26 -->\n<g id=\"node27\" class=\"node\">\n<title>26</title>\n<ellipse fill=\"none\" stroke=\"black\" cx=\"4133.64\" cy=\"-18\" rx=\"52.79\" ry=\"18\"/>\n<text text-anchor=\"middle\" x=\"4133.64\" y=\"-14.3\" font-family=\"Times New Roman,serif\" font-size=\"14.00\">update&#45;rc.d</text>\n</g>\n<!-- Start&#45;&gt;26 -->\n<g id=\"edge73\" class=\"edge\">\n<title>Start&#45;&gt;26</title>\n<path fill=\"none\" stroke=\"black\" d=\"M2258.91,-177.22C2586.54,-177.94 3852.12,-178.3 4026.64,-142 4064.3,-134.17 4080.83,-137.52 4106.64,-109 4122.25,-91.75 4128.84,-65.8 4131.63,-46.18\"/>\n<polygon fill=\"black\" stroke=\"black\" points=\"4135.13,-46.37 4132.81,-36.04 4128.18,-45.56 4135.13,-46.37\"/>\n<text text-anchor=\"middle\" x=\"4142.14\" y=\"-87.3\" font-family=\"Times New Roman,serif\" font-size=\"14.00\">clone</text>\n</g>\n</g>\n</svg>\n",
      "text/plain": [
       "<graphviz.sources.Source at 0x1f1f5c958d0>"
      ]
     },
     "metadata": {},
     "output_type": "display_data"
    },
    {
     "name": "stdout",
     "output_type": "stream",
     "text": [
      "Xorddos-Intezer.csv raw doc OPset\n"
     ]
    },
    {
     "data": {
      "image/svg+xml": "<?xml version=\"1.0\" encoding=\"UTF-8\" standalone=\"no\"?>\n<!DOCTYPE svg PUBLIC \"-//W3C//DTD SVG 1.1//EN\"\n \"http://www.w3.org/Graphics/SVG/1.1/DTD/svg11.dtd\">\n<!-- Generated by graphviz version 6.0.1 (20220911.1526)\n -->\n<!-- Pages: 1 -->\n<svg width=\"621pt\" height=\"131pt\"\n viewBox=\"0.00 0.00 621.29 131.00\" xmlns=\"http://www.w3.org/2000/svg\" xmlns:xlink=\"http://www.w3.org/1999/xlink\">\n<g id=\"graph0\" class=\"graph\" transform=\"scale(1 1) rotate(0) translate(4 127)\">\n<polygon fill=\"white\" stroke=\"none\" points=\"-4,4 -4,-127 617.29,-127 617.29,4 -4,4\"/>\n<!-- Start -->\n<g id=\"node1\" class=\"node\">\n<title>Start</title>\n<ellipse fill=\"none\" stroke=\"black\" cx=\"116.5\" cy=\"-105\" rx=\"77.19\" ry=\"18\"/>\n<text text-anchor=\"middle\" x=\"116.5\" y=\"-101.3\" font-family=\"Times New Roman,serif\" font-size=\"14.00\">Malware (Subject)</text>\n</g>\n<!-- 1 -->\n<g id=\"node2\" class=\"node\">\n<title>1</title>\n<ellipse fill=\"none\" stroke=\"black\" cx=\"32.5\" cy=\"-18\" rx=\"32.49\" ry=\"18\"/>\n<text text-anchor=\"middle\" x=\"32.5\" y=\"-14.3\" font-family=\"Times New Roman,serif\" font-size=\"14.00\">/proc/</text>\n</g>\n<!-- Start&#45;&gt;1 -->\n<g id=\"edge1\" class=\"edge\">\n<title>Start&#45;&gt;1</title>\n<path fill=\"none\" stroke=\"black\" d=\"M99.9,-87.21C86.99,-74.14 68.95,-55.89 54.79,-41.55\"/>\n<polygon fill=\"black\" stroke=\"black\" points=\"56.89,-38.7 47.37,-34.05 51.91,-43.62 56.89,-38.7\"/>\n<text text-anchor=\"middle\" x=\"99.5\" y=\"-57.8\" font-family=\"Times New Roman,serif\" font-size=\"14.00\">extract</text>\n</g>\n<!-- 3 -->\n<g id=\"node4\" class=\"node\">\n<title>3</title>\n<ellipse fill=\"none\" stroke=\"black\" cx=\"200.5\" cy=\"-18\" rx=\"117.78\" ry=\"18\"/>\n<text text-anchor=\"middle\" x=\"200.5\" y=\"-14.3\" font-family=\"Times New Roman,serif\" font-size=\"14.00\">d{1,3}.d{1,3}.d{1,3}.d{1,3}</text>\n</g>\n<!-- Start&#45;&gt;3 -->\n<g id=\"edge2\" class=\"edge\">\n<title>Start&#45;&gt;3</title>\n<path fill=\"none\" stroke=\"black\" d=\"M133.09,-87.21C145.44,-74.72 162.47,-57.48 176.33,-43.46\"/>\n<polygon fill=\"black\" stroke=\"black\" points=\"179.11,-45.62 183.65,-36.05 174.13,-40.7 179.11,-45.62\"/>\n<text text-anchor=\"middle\" x=\"190\" y=\"-57.8\" font-family=\"Times New Roman,serif\" font-size=\"14.00\">hardcode</text>\n</g>\n<!-- 2 -->\n<g id=\"node3\" class=\"node\">\n<title>2</title>\n<ellipse fill=\"none\" stroke=\"black\" cx=\"258.5\" cy=\"-105\" rx=\"46.59\" ry=\"18\"/>\n<text text-anchor=\"middle\" x=\"258.5\" y=\"-101.3\" font-family=\"Times New Roman,serif\" font-size=\"14.00\">GID($|.|$)</text>\n</g>\n<!-- 4 -->\n<g id=\"node5\" class=\"node\">\n<title>4</title>\n<ellipse fill=\"none\" stroke=\"black\" cx=\"370.5\" cy=\"-105\" rx=\"46.59\" ry=\"18\"/>\n<text text-anchor=\"middle\" x=\"370.5\" y=\"-101.3\" font-family=\"Times New Roman,serif\" font-size=\"14.00\">/etc/init.d/</text>\n</g>\n<!-- 5 -->\n<g id=\"node6\" class=\"node\">\n<title>5</title>\n<ellipse fill=\"none\" stroke=\"black\" cx=\"481.5\" cy=\"-105\" rx=\"46.29\" ry=\"18\"/>\n<text text-anchor=\"middle\" x=\"481.5\" y=\"-101.3\" font-family=\"Times New Roman,serif\" font-size=\"14.00\">UID($|.|$)</text>\n</g>\n<!-- 6 -->\n<g id=\"node7\" class=\"node\">\n<title>6</title>\n<ellipse fill=\"none\" stroke=\"black\" cx=\"579.5\" cy=\"-105\" rx=\"33.6\" ry=\"18\"/>\n<text text-anchor=\"middle\" x=\"579.5\" y=\"-101.3\" font-family=\"Times New Roman,serif\" font-size=\"14.00\">/etc/rc</text>\n</g>\n</g>\n</svg>\n",
      "text/plain": [
       "<graphviz.graphs.Digraph at 0x1f1f864b520>"
      ]
     },
     "metadata": {},
     "output_type": "display_data"
    },
    {
     "name": "stdout",
     "output_type": "stream",
     "text": [
      "Xorddos-Microsoft.csv raw doc OPset\n"
     ]
    },
    {
     "data": {
      "image/svg+xml": "<?xml version=\"1.0\" encoding=\"UTF-8\" standalone=\"no\"?>\n<!DOCTYPE svg PUBLIC \"-//W3C//DTD SVG 1.1//EN\"\n \"http://www.w3.org/Graphics/SVG/1.1/DTD/svg11.dtd\">\n<!-- Generated by graphviz version 6.0.1 (20220911.1526)\n -->\n<!-- Pages: 1 -->\n<svg width=\"2356pt\" height=\"131pt\"\n viewBox=\"0.00 0.00 2355.69 131.00\" xmlns=\"http://www.w3.org/2000/svg\" xmlns:xlink=\"http://www.w3.org/1999/xlink\">\n<g id=\"graph0\" class=\"graph\" transform=\"scale(1 1) rotate(0) translate(4 127)\">\n<polygon fill=\"white\" stroke=\"none\" points=\"-4,4 -4,-127 2351.69,-127 2351.69,4 -4,4\"/>\n<!-- Start -->\n<g id=\"node1\" class=\"node\">\n<title>Start</title>\n<ellipse fill=\"none\" stroke=\"black\" cx=\"1159.39\" cy=\"-105\" rx=\"77.19\" ry=\"18\"/>\n<text text-anchor=\"middle\" x=\"1159.39\" y=\"-101.3\" font-family=\"Times New Roman,serif\" font-size=\"14.00\">Malware (Subject)</text>\n</g>\n<!-- 1 -->\n<g id=\"node2\" class=\"node\">\n<title>1</title>\n<ellipse fill=\"none\" stroke=\"black\" cx=\"202.39\" cy=\"-18\" rx=\"32.49\" ry=\"18\"/>\n<text text-anchor=\"middle\" x=\"202.39\" y=\"-14.3\" font-family=\"Times New Roman,serif\" font-size=\"14.00\">/proc/</text>\n</g>\n<!-- Start&#45;&gt;1 -->\n<g id=\"edge1\" class=\"edge\">\n<title>Start&#45;&gt;1</title>\n<path fill=\"none\" stroke=\"black\" d=\"M1082.27,-103.1C826.65,-99.92 22.2,-88.39 3.39,-69 -1.25,-64.22 -0.89,-59.11 3.39,-54 22.95,-30.7 107.35,-22.91 159.75,-20.3\"/>\n<polygon fill=\"black\" stroke=\"black\" points=\"159.95,-23.8 169.78,-19.85 159.63,-16.81 159.95,-23.8\"/>\n<text text-anchor=\"middle\" x=\"24.89\" y=\"-57.8\" font-family=\"Times New Roman,serif\" font-size=\"14.00\">provide</text>\n</g>\n<!-- Start&#45;&gt;1 -->\n<g id=\"edge7\" class=\"edge\">\n<title>Start&#45;&gt;1</title>\n<path fill=\"none\" stroke=\"black\" d=\"M1081.72,-104.43C838.33,-105.4 104.52,-105.28 69.39,-69 39.75,-38.39 110.65,-26.33 159.91,-21.71\"/>\n<polygon fill=\"black\" stroke=\"black\" points=\"160.39,-25.19 170.05,-20.84 159.79,-18.21 160.39,-25.19\"/>\n<text text-anchor=\"middle\" x=\"83.89\" y=\"-57.8\" font-family=\"Times New Roman,serif\" font-size=\"14.00\">hook</text>\n</g>\n<!-- Start&#45;&gt;1 -->\n<g id=\"edge13\" class=\"edge\">\n<title>Start&#45;&gt;1</title>\n<path fill=\"none\" stroke=\"black\" d=\"M1081.72,-104.3C846.29,-104.81 154.64,-103.39 121.39,-69 104.23,-51.25 134.68,-37.19 163.02,-28.56\"/>\n<polygon fill=\"black\" stroke=\"black\" points=\"164.23,-31.85 172.87,-25.73 162.3,-25.12 164.23,-31.85\"/>\n<text text-anchor=\"middle\" x=\"136.39\" y=\"-57.8\" font-family=\"Times New Roman,serif\" font-size=\"14.00\">name</text>\n</g>\n<!-- Start&#45;&gt;1 -->\n<g id=\"edge14\" class=\"edge\">\n<title>Start&#45;&gt;1</title>\n<path fill=\"none\" stroke=\"black\" d=\"M1082.09,-104.15C855.33,-104.2 205.75,-101.49 174.39,-69 166.62,-60.95 171.09,-50.32 178.54,-40.93\"/>\n<polygon fill=\"black\" stroke=\"black\" points=\"181.21,-43.19 185.29,-33.42 176,-38.51 181.21,-43.19\"/>\n<text text-anchor=\"middle\" x=\"191.39\" y=\"-57.8\" font-family=\"Times New Roman,serif\" font-size=\"14.00\">check</text>\n</g>\n<!-- Start&#45;&gt;1 -->\n<g id=\"edge21\" class=\"edge\">\n<title>Start&#45;&gt;1</title>\n<path fill=\"none\" stroke=\"black\" d=\"M1082.24,-103.11C866.03,-100.34 267.57,-90.76 231.39,-69 222.46,-63.63 216,-54.38 211.48,-45.28\"/>\n<polygon fill=\"black\" stroke=\"black\" points=\"214.65,-43.8 207.44,-36.03 208.23,-46.6 214.65,-43.8\"/>\n<text text-anchor=\"middle\" x=\"251.89\" y=\"-57.8\" font-family=\"Times New Roman,serif\" font-size=\"14.00\">contain</text>\n</g>\n<!-- Start&#45;&gt;1 -->\n<g id=\"edge28\" class=\"edge\">\n<title>Start&#45;&gt;1</title>\n<path fill=\"none\" stroke=\"black\" d=\"M1082.18,-103.21C884.24,-100.86 369.08,-92.54 295.39,-69 283.77,-65.29 282.98,-60.07 272.39,-54 260.58,-47.23 247.29,-40.39 235.49,-34.58\"/>\n<polygon fill=\"black\" stroke=\"black\" points=\"236.92,-31.39 226.4,-30.16 233.86,-37.68 236.92,-31.39\"/>\n<text text-anchor=\"middle\" x=\"304.89\" y=\"-57.8\" font-family=\"Times New Roman,serif\" font-size=\"14.00\">call</text>\n</g>\n<!-- Start&#45;&gt;1 -->\n<g id=\"edge29\" class=\"edge\">\n<title>Start&#45;&gt;1</title>\n<path fill=\"none\" stroke=\"black\" d=\"M1082.47,-103.04C891.68,-100.34 407.06,-91.33 337.39,-69 325.77,-65.27 325.43,-59.2 314.39,-54 291.17,-43.05 263.66,-34.4 241.72,-28.44\"/>\n<polygon fill=\"black\" stroke=\"black\" points=\"242.32,-24.98 231.76,-25.81 240.53,-31.75 242.32,-24.98\"/>\n<text text-anchor=\"middle\" x=\"346.89\" y=\"-57.8\" font-family=\"Times New Roman,serif\" font-size=\"14.00\">use</text>\n</g>\n<!-- Start&#45;&gt;1 -->\n<g id=\"edge41\" class=\"edge\">\n<title>Start&#45;&gt;1</title>\n<path fill=\"none\" stroke=\"black\" d=\"M1082.18,-103.6C915.12,-102.22 524.78,-96.1 395.39,-69 377.22,-65.19 374.16,-59.41 356.39,-54 318.45,-42.46 274.22,-32.78 242.92,-26.55\"/>\n<polygon fill=\"black\" stroke=\"black\" points=\"243.31,-23.06 232.83,-24.57 241.97,-29.93 243.31,-23.06\"/>\n<text text-anchor=\"middle\" x=\"408.39\" y=\"-57.8\" font-family=\"Times New Roman,serif\" font-size=\"14.00\">have</text>\n</g>\n<!-- 2 -->\n<g id=\"node3\" class=\"node\">\n<title>2</title>\n<ellipse fill=\"none\" stroke=\"black\" cx=\"618.39\" cy=\"-18\" rx=\"27\" ry=\"18\"/>\n<text text-anchor=\"middle\" x=\"618.39\" y=\"-14.3\" font-family=\"Times New Roman,serif\" font-size=\"14.00\">/var/</text>\n</g>\n<!-- Start&#45;&gt;2 -->\n<g id=\"edge2\" class=\"edge\">\n<title>Start&#45;&gt;2</title>\n<path fill=\"none\" stroke=\"black\" d=\"M1082.25,-103.13C898.91,-100.7 450.68,-92.38 428.39,-69 423.79,-64.17 424.13,-59.12 428.39,-54 447.48,-31.08 531.75,-23.11 581.42,-20.39\"/>\n<polygon fill=\"black\" stroke=\"black\" points=\"581.65,-23.88 591.46,-19.88 581.29,-16.89 581.65,-23.88\"/>\n<text text-anchor=\"middle\" x=\"448.89\" y=\"-57.8\" font-family=\"Times New Roman,serif\" font-size=\"14.00\">contain</text>\n</g>\n<!-- Start&#45;&gt;2 -->\n<g id=\"edge4\" class=\"edge\">\n<title>Start&#45;&gt;2</title>\n<path fill=\"none\" stroke=\"black\" d=\"M1082.4,-102.76C911.2,-99.63 512.42,-90.11 492.39,-69 463.78,-38.84 534.64,-26.5 581.33,-21.74\"/>\n<polygon fill=\"black\" stroke=\"black\" points=\"581.82,-25.21 591.45,-20.79 581.16,-18.24 581.82,-25.21\"/>\n<text text-anchor=\"middle\" x=\"506.39\" y=\"-57.8\" font-family=\"Times New Roman,serif\" font-size=\"14.00\">fetch</text>\n</g>\n<!-- Start&#45;&gt;2 -->\n<g id=\"edge5\" class=\"edge\">\n<title>Start&#45;&gt;2</title>\n<path fill=\"none\" stroke=\"black\" d=\"M1082.58,-102.41C921.5,-98.71 561.63,-88.31 543.39,-69 526.93,-51.57 557.02,-37.1 583.85,-28.28\"/>\n<polygon fill=\"black\" stroke=\"black\" points=\"584.98,-31.6 593.5,-25.3 582.91,-24.91 584.98,-31.6\"/>\n<text text-anchor=\"middle\" x=\"552.89\" y=\"-57.8\" font-family=\"Times New Roman,serif\" font-size=\"14.00\">run</text>\n</g>\n<!-- Start&#45;&gt;2 -->\n<g id=\"edge16\" class=\"edge\">\n<title>Start&#45;&gt;2</title>\n<path fill=\"none\" stroke=\"black\" d=\"M1082.93,-102.09C930.55,-97.9 602.18,-86.84 585.39,-69 576.87,-59.95 583.5,-48.45 592.99,-38.76\"/>\n<polygon fill=\"black\" stroke=\"black\" points=\"595.6,-41.11 600.61,-31.77 590.87,-35.96 595.6,-41.11\"/>\n<text text-anchor=\"middle\" x=\"608.39\" y=\"-57.8\" font-family=\"Times New Roman,serif\" font-size=\"14.00\">m6_6n3</text>\n</g>\n<!-- Start&#45;&gt;2 -->\n<g id=\"edge17\" class=\"edge\">\n<title>Start&#45;&gt;2</title>\n<path fill=\"none\" stroke=\"black\" d=\"M1082.75,-102.26C950.69,-98.72 690.82,-89.28 654.39,-69 644.34,-63.4 636.37,-53.67 630.52,-44.28\"/>\n<polygon fill=\"black\" stroke=\"black\" points=\"633.53,-42.49 625.56,-35.52 627.44,-45.95 633.53,-42.49\"/>\n<text text-anchor=\"middle\" x=\"671.39\" y=\"-57.8\" font-family=\"Times New Roman,serif\" font-size=\"14.00\">create</text>\n</g>\n<!-- Start&#45;&gt;2 -->\n<g id=\"edge30\" class=\"edge\">\n<title>Start&#45;&gt;2</title>\n<path fill=\"none\" stroke=\"black\" d=\"M1082.42,-102.57C972.89,-99.75 777.96,-91.65 711.39,-69 699.84,-65.07 698.98,-60.07 688.39,-54 675.71,-46.73 661.33,-39.39 648.91,-33.32\"/>\n<polygon fill=\"black\" stroke=\"black\" points=\"650.39,-30.14 639.86,-28.95 647.34,-36.45 650.39,-30.14\"/>\n<text text-anchor=\"middle\" x=\"726.39\" y=\"-57.8\" font-family=\"Times New Roman,serif\" font-size=\"14.00\">relate</text>\n</g>\n<!-- Start&#45;&gt;2 -->\n<g id=\"edge38\" class=\"edge\">\n<title>Start&#45;&gt;2</title>\n<path fill=\"none\" stroke=\"black\" d=\"M1083.3,-101.64C985.47,-97.85 821.4,-88.73 764.39,-69 752.86,-65.01 752.5,-59.06 741.39,-54 713.16,-41.13 679.1,-31.89 653.98,-26.14\"/>\n<polygon fill=\"black\" stroke=\"black\" points=\"654.67,-22.71 644.15,-23.96 653.16,-29.54 654.67,-22.71\"/>\n<text text-anchor=\"middle\" x=\"796.39\" y=\"-57.8\" font-family=\"Times New Roman,serif\" font-size=\"14.00\">resolv.conf</text>\n</g>\n<!-- Start&#45;&gt;2 -->\n<g id=\"edge40\" class=\"edge\">\n<title>Start&#45;&gt;2</title>\n<path fill=\"none\" stroke=\"black\" d=\"M1083.76,-101.04C1023.27,-97.24 936.75,-88.62 863.39,-69 847.04,-64.63 844.63,-58.76 828.39,-54 769.04,-36.61 697.57,-27 655.17,-22.43\"/>\n<polygon fill=\"black\" stroke=\"black\" points=\"655.35,-18.93 645.04,-21.37 654.62,-25.89 655.35,-18.93\"/>\n<text text-anchor=\"middle\" x=\"875.89\" y=\"-57.8\" font-family=\"Times New Roman,serif\" font-size=\"14.00\">read</text>\n</g>\n<!-- 3 -->\n<g id=\"node4\" class=\"node\">\n<title>3</title>\n<ellipse fill=\"none\" stroke=\"black\" cx=\"1067.39\" cy=\"-18\" rx=\"27.1\" ry=\"18\"/>\n<text text-anchor=\"middle\" x=\"1067.39\" y=\"-14.3\" font-family=\"Times New Roman,serif\" font-size=\"14.00\">/run/</text>\n</g>\n<!-- Start&#45;&gt;3 -->\n<g id=\"edge3\" class=\"edge\">\n<title>Start&#45;&gt;3</title>\n<path fill=\"none\" stroke=\"black\" d=\"M1082.07,-104.39C1014.21,-102.89 922.78,-95.74 899.39,-69 861.88,-26.1 969.14,-19.21 1029.44,-18.6\"/>\n<polygon fill=\"black\" stroke=\"black\" points=\"1029.77,-22.1 1039.76,-18.55 1029.74,-15.1 1029.77,-22.1\"/>\n<text text-anchor=\"middle\" x=\"922.39\" y=\"-57.8\" font-family=\"Times New Roman,serif\" font-size=\"14.00\">m6_6n3</text>\n</g>\n<!-- Start&#45;&gt;3 -->\n<g id=\"edge9\" class=\"edge\">\n<title>Start&#45;&gt;3</title>\n<path fill=\"none\" stroke=\"black\" d=\"M1085.06,-99.98C1038.02,-95.71 983.34,-86.93 968.39,-69 948.14,-44.7 994.65,-31 1030.58,-24.3\"/>\n<polygon fill=\"black\" stroke=\"black\" points=\"1031.58,-27.68 1040.83,-22.51 1030.38,-20.78 1031.58,-27.68\"/>\n<text text-anchor=\"middle\" x=\"985.39\" y=\"-57.8\" font-family=\"Times New Roman,serif\" font-size=\"14.00\">create</text>\n</g>\n<!-- Start&#45;&gt;3 -->\n<g id=\"edge20\" class=\"edge\">\n<title>Start&#45;&gt;3</title>\n<path fill=\"none\" stroke=\"black\" d=\"M1095.42,-94.88C1065.46,-89.17 1034.39,-80.66 1025.39,-69 1016.75,-57.81 1026.49,-45.66 1038.76,-36.14\"/>\n<polygon fill=\"black\" stroke=\"black\" points=\"1040.87,-38.93 1047.01,-30.3 1036.83,-33.22 1040.87,-38.93\"/>\n<text text-anchor=\"middle\" x=\"1057.39\" y=\"-57.8\" font-family=\"Times New Roman,serif\" font-size=\"14.00\">resolv.conf</text>\n</g>\n<!-- Start&#45;&gt;3 -->\n<g id=\"edge23\" class=\"edge\">\n<title>Start&#45;&gt;3</title>\n<path fill=\"none\" stroke=\"black\" d=\"M1135.72,-87.78C1128.03,-82.15 1119.61,-75.58 1112.39,-69 1103.27,-60.69 1094.02,-50.72 1086.29,-41.88\"/>\n<polygon fill=\"black\" stroke=\"black\" points=\"1088.83,-39.47 1079.67,-34.16 1083.52,-44.03 1088.83,-39.47\"/>\n<text text-anchor=\"middle\" x=\"1124.89\" y=\"-57.8\" font-family=\"Times New Roman,serif\" font-size=\"14.00\">read</text>\n</g>\n<!-- Start&#45;&gt;3 -->\n<g id=\"edge24\" class=\"edge\">\n<title>Start&#45;&gt;3</title>\n<path fill=\"none\" stroke=\"black\" d=\"M1154.98,-86.55C1151.6,-76.08 1146.02,-63.07 1137.39,-54 1127.46,-43.57 1113.76,-35.78 1101.1,-30.23\"/>\n<polygon fill=\"black\" stroke=\"black\" points=\"1102.3,-26.93 1091.71,-26.41 1099.66,-33.42 1102.3,-26.93\"/>\n<text text-anchor=\"middle\" x=\"1162.39\" y=\"-57.8\" font-family=\"Times New Roman,serif\" font-size=\"14.00\">fetch</text>\n</g>\n<!-- Start&#45;&gt;3 -->\n<g id=\"edge25\" class=\"edge\">\n<title>Start&#45;&gt;3</title>\n<path fill=\"none\" stroke=\"black\" d=\"M1174.59,-87.21C1181.95,-76.98 1187.77,-64 1180.39,-54 1163.26,-30.75 1130.85,-22.48 1105.12,-19.75\"/>\n<polygon fill=\"black\" stroke=\"black\" points=\"1105.17,-16.25 1094.92,-18.92 1104.6,-23.22 1105.17,-16.25\"/>\n<text text-anchor=\"middle\" x=\"1198.39\" y=\"-57.8\" font-family=\"Times New Roman,serif\" font-size=\"14.00\">drop</text>\n</g>\n<!-- 4 -->\n<g id=\"node5\" class=\"node\">\n<title>4</title>\n<ellipse fill=\"none\" stroke=\"black\" cx=\"1387.39\" cy=\"-18\" rx=\"40.89\" ry=\"18\"/>\n<text text-anchor=\"middle\" x=\"1387.39\" y=\"-14.3\" font-family=\"Times New Roman,serif\" font-size=\"14.00\">/var/run/</text>\n</g>\n<!-- Start&#45;&gt;4 -->\n<g id=\"edge6\" class=\"edge\">\n<title>Start&#45;&gt;4</title>\n<path fill=\"none\" stroke=\"black\" d=\"M1188.52,-88.12C1208.82,-77.5 1236.74,-63.73 1262.39,-54 1288.21,-44.21 1317.94,-35.78 1341.93,-29.64\"/>\n<polygon fill=\"black\" stroke=\"black\" points=\"1342.98,-32.99 1351.83,-27.16 1341.28,-26.2 1342.98,-32.99\"/>\n<text text-anchor=\"middle\" x=\"1285.39\" y=\"-57.8\" font-family=\"Times New Roman,serif\" font-size=\"14.00\">m6_6n3</text>\n</g>\n<!-- Start&#45;&gt;4 -->\n<g id=\"edge8\" class=\"edge\">\n<title>Start&#45;&gt;4</title>\n<path fill=\"none\" stroke=\"black\" d=\"M1216.35,-92.74C1251.07,-85.47 1291.84,-76.08 1308.39,-69 1319.61,-64.2 1321.11,-60.57 1331.39,-54 1339.41,-48.88 1348.12,-43.4 1356.22,-38.34\"/>\n<polygon fill=\"black\" stroke=\"black\" points=\"1358.08,-41.3 1364.71,-33.04 1354.38,-35.36 1358.08,-41.3\"/>\n<text text-anchor=\"middle\" x=\"1348.39\" y=\"-57.8\" font-family=\"Times New Roman,serif\" font-size=\"14.00\">create</text>\n</g>\n<!-- Start&#45;&gt;4 -->\n<g id=\"edge18\" class=\"edge\">\n<title>Start&#45;&gt;4</title>\n<path fill=\"none\" stroke=\"black\" d=\"M1215.95,-92.58C1226.08,-90.64 1236.54,-88.71 1246.39,-87 1299.1,-77.87 1322.91,-101.51 1365.39,-69 1372.94,-63.22 1377.96,-54.3 1381.26,-45.58\"/>\n<polygon fill=\"black\" stroke=\"black\" points=\"1384.61,-46.6 1384.3,-36.01 1377.94,-44.47 1384.61,-46.6\"/>\n<text text-anchor=\"middle\" x=\"1409.39\" y=\"-57.8\" font-family=\"Times New Roman,serif\" font-size=\"14.00\">resolv.conf</text>\n</g>\n<!-- Start&#45;&gt;4 -->\n<g id=\"edge22\" class=\"edge\">\n<title>Start&#45;&gt;4</title>\n<path fill=\"none\" stroke=\"black\" d=\"M1214.48,-92.35C1225.04,-90.37 1236.03,-88.48 1246.39,-87 1268.37,-83.87 1430.42,-85.39 1445.39,-69 1456.62,-56.71 1443,-44.49 1426.14,-35.2\"/>\n<polygon fill=\"black\" stroke=\"black\" points=\"1427.65,-32.04 1417.15,-30.63 1424.48,-38.28 1427.65,-32.04\"/>\n<text text-anchor=\"middle\" x=\"1462.89\" y=\"-57.8\" font-family=\"Times New Roman,serif\" font-size=\"14.00\">read</text>\n</g>\n<!-- Start&#45;&gt;4 -->\n<g id=\"edge27\" class=\"edge\">\n<title>Start&#45;&gt;4</title>\n<path fill=\"none\" stroke=\"black\" d=\"M1214.46,-92.24C1225.02,-90.27 1236.02,-88.41 1246.39,-87 1272.12,-83.5 1461.75,-88.05 1479.39,-69 1497.28,-49.68 1465.48,-36.22 1434.49,-28.17\"/>\n<polygon fill=\"black\" stroke=\"black\" points=\"1435.07,-24.71 1424.52,-25.74 1433.41,-31.51 1435.07,-24.71\"/>\n<text text-anchor=\"middle\" x=\"1499.39\" y=\"-57.8\" font-family=\"Times New Roman,serif\" font-size=\"14.00\">fetch</text>\n</g>\n<!-- 6 -->\n<g id=\"node7\" class=\"node\">\n<title>6</title>\n<ellipse fill=\"none\" stroke=\"black\" cx=\"1573.39\" cy=\"-18\" rx=\"57.69\" ry=\"18\"/>\n<text text-anchor=\"middle\" x=\"1573.39\" y=\"-14.3\" font-family=\"Times New Roman,serif\" font-size=\"14.00\">/proc/rs_dev</text>\n</g>\n<!-- Start&#45;&gt;6 -->\n<g id=\"edge10\" class=\"edge\">\n<title>Start&#45;&gt;6</title>\n<path fill=\"none\" stroke=\"black\" d=\"M1213.98,-92.24C1224.69,-90.24 1235.86,-88.37 1246.39,-87 1306.24,-79.2 1461.75,-92.37 1517.39,-69 1530.99,-63.29 1543.51,-52.86 1553.24,-43\"/>\n<polygon fill=\"black\" stroke=\"black\" points=\"1555.84,-45.34 1560.12,-35.65 1550.73,-40.56 1555.84,-45.34\"/>\n<text text-anchor=\"middle\" x=\"1549.89\" y=\"-57.8\" font-family=\"Times New Roman,serif\" font-size=\"14.00\">use</text>\n</g>\n<!-- Start&#45;&gt;6 -->\n<g id=\"edge19\" class=\"edge\">\n<title>Start&#45;&gt;6</title>\n<path fill=\"none\" stroke=\"black\" d=\"M1213.97,-92.16C1224.68,-90.17 1235.86,-88.32 1246.39,-87 1281.4,-82.61 1536.76,-92.13 1563.39,-69 1569.86,-63.39 1572.86,-54.88 1574.1,-46.47\"/>\n<polygon fill=\"black\" stroke=\"black\" points=\"1577.6,-46.69 1574.85,-36.46 1570.62,-46.17 1577.6,-46.69\"/>\n<text text-anchor=\"middle\" x=\"1585.39\" y=\"-57.8\" font-family=\"Times New Roman,serif\" font-size=\"14.00\">have</text>\n</g>\n<!-- 7 -->\n<g id=\"node8\" class=\"node\">\n<title>7</title>\n<ellipse fill=\"none\" stroke=\"black\" cx=\"1720.39\" cy=\"-18\" rx=\"71.49\" ry=\"18\"/>\n<text text-anchor=\"middle\" x=\"1720.39\" y=\"-14.3\" font-family=\"Times New Roman,serif\" font-size=\"14.00\">[a&#45;zA&#45;z]:d{1,5}$</text>\n</g>\n<!-- Start&#45;&gt;7 -->\n<g id=\"edge11\" class=\"edge\">\n<title>Start&#45;&gt;7</title>\n<path fill=\"none\" stroke=\"black\" d=\"M1213.97,-92.1C1224.67,-90.12 1235.85,-88.29 1246.39,-87 1403.64,-67.76 1447.98,-104.45 1602.39,-69 1630.1,-62.64 1659.53,-50.18 1682.08,-39.28\"/>\n<polygon fill=\"black\" stroke=\"black\" points=\"1683.88,-42.3 1691.29,-34.74 1680.78,-36.02 1683.88,-42.3\"/>\n<text text-anchor=\"middle\" x=\"1674.39\" y=\"-57.8\" font-family=\"Times New Roman,serif\" font-size=\"14.00\">download</text>\n</g>\n<!-- Start&#45;&gt;7 -->\n<g id=\"edge35\" class=\"edge\">\n<title>Start&#45;&gt;7</title>\n<path fill=\"none\" stroke=\"black\" d=\"M1213.49,-92.09C1224.34,-90.08 1235.69,-88.25 1246.39,-87 1271.8,-84.04 1686.32,-84.85 1706.39,-69 1713.41,-63.46 1717.09,-54.71 1718.97,-46.06\"/>\n<polygon fill=\"black\" stroke=\"black\" points=\"1722.43,-46.57 1720.43,-36.16 1715.51,-45.54 1722.43,-46.57\"/>\n<text text-anchor=\"middle\" x=\"1731.39\" y=\"-57.8\" font-family=\"Times New Roman,serif\" font-size=\"14.00\">fetch</text>\n</g>\n<!-- 8 -->\n<g id=\"node9\" class=\"node\">\n<title>8</title>\n<ellipse fill=\"none\" stroke=\"black\" cx=\"1852.39\" cy=\"-18\" rx=\"42.79\" ry=\"18\"/>\n<text text-anchor=\"middle\" x=\"1852.39\" y=\"-14.3\" font-family=\"Times New Roman,serif\" font-size=\"14.00\">/etc/cron</text>\n</g>\n<!-- Start&#45;&gt;8 -->\n<g id=\"edge12\" class=\"edge\">\n<title>Start&#45;&gt;8</title>\n<path fill=\"none\" stroke=\"black\" d=\"M1213.49,-92.07C1224.34,-90.06 1235.69,-88.23 1246.39,-87 1357.51,-74.24 1640.85,-96 1749.39,-69 1774.7,-62.7 1801.13,-49.72 1820.88,-38.57\"/>\n<polygon fill=\"black\" stroke=\"black\" points=\"1822.83,-41.48 1829.72,-33.44 1819.32,-35.43 1822.83,-41.48\"/>\n<text text-anchor=\"middle\" x=\"1807.89\" y=\"-57.8\" font-family=\"Times New Roman,serif\" font-size=\"14.00\">delete</text>\n</g>\n<!-- Start&#45;&gt;8 -->\n<g id=\"edge26\" class=\"edge\">\n<title>Start&#45;&gt;8</title>\n<path fill=\"none\" stroke=\"black\" d=\"M1213.48,-92.02C1224.33,-90.02 1235.69,-88.2 1246.39,-87 1278.54,-83.39 1801.28,-86.65 1828.39,-69 1836.69,-63.6 1842.19,-54.47 1845.81,-45.48\"/>\n<polygon fill=\"black\" stroke=\"black\" points=\"1849.14,-46.56 1849.03,-35.96 1842.51,-44.31 1849.14,-46.56\"/>\n<text text-anchor=\"middle\" x=\"1854.39\" y=\"-57.8\" font-family=\"Times New Roman,serif\" font-size=\"14.00\">pass</text>\n</g>\n<!-- Start&#45;&gt;8 -->\n<g id=\"edge37\" class=\"edge\">\n<title>Start&#45;&gt;8</title>\n<path fill=\"none\" stroke=\"black\" d=\"M1213.48,-92.01C1224.33,-90 1235.69,-88.19 1246.39,-87 1280.92,-83.16 1847.19,-93.91 1871.39,-69 1878.09,-62.11 1876.27,-52.61 1871.72,-43.75\"/>\n<polygon fill=\"black\" stroke=\"black\" points=\"1874.69,-41.91 1866.47,-35.22 1868.73,-45.57 1874.69,-41.91\"/>\n<text text-anchor=\"middle\" x=\"1890.39\" y=\"-57.8\" font-family=\"Times New Roman,serif\" font-size=\"14.00\">drop</text>\n</g>\n<!-- 9 -->\n<g id=\"node10\" class=\"node\">\n<title>9</title>\n<ellipse fill=\"none\" stroke=\"black\" cx=\"1995.39\" cy=\"-18\" rx=\"55.49\" ry=\"18\"/>\n<text text-anchor=\"middle\" x=\"1995.39\" y=\"-14.3\" font-family=\"Times New Roman,serif\" font-size=\"14.00\">^chkconfig$</text>\n</g>\n<!-- Start&#45;&gt;9 -->\n<g id=\"edge15\" class=\"edge\">\n<title>Start&#45;&gt;9</title>\n<path fill=\"none\" stroke=\"black\" d=\"M1213.48,-91.99C1224.33,-89.99 1235.69,-88.18 1246.39,-87 1319.53,-78.92 1837.56,-88.94 1908.39,-69 1929.05,-63.18 1949.97,-51.39 1966.12,-40.71\"/>\n<polygon fill=\"black\" stroke=\"black\" points=\"1968.29,-43.47 1974.57,-34.94 1964.34,-37.69 1968.29,-43.47\"/>\n<text text-anchor=\"middle\" x=\"1955.39\" y=\"-57.8\" font-family=\"Times New Roman,serif\" font-size=\"14.00\">add</text>\n</g>\n<!-- Start&#45;&gt;9 -->\n<g id=\"edge32\" class=\"edge\">\n<title>Start&#45;&gt;9</title>\n<path fill=\"none\" stroke=\"black\" d=\"M1213.48,-91.97C1224.33,-89.97 1235.68,-88.17 1246.39,-87 1286.39,-82.63 1936.43,-90.58 1970.39,-69 1978.81,-63.65 1984.5,-54.53 1988.3,-45.54\"/>\n<polygon fill=\"black\" stroke=\"black\" points=\"1991.63,-46.6 1991.71,-36.01 1985.04,-44.24 1991.63,-46.6\"/>\n<text text-anchor=\"middle\" x=\"2000.39\" y=\"-57.8\" font-family=\"Times New Roman,serif\" font-size=\"14.00\">install</text>\n</g>\n<!-- Start&#45;&gt;9 -->\n<g id=\"edge39\" class=\"edge\">\n<title>Start&#45;&gt;9</title>\n<path fill=\"none\" stroke=\"black\" d=\"M1213.47,-91.96C1224.32,-89.96 1235.68,-88.16 1246.39,-87 1267.77,-84.68 2005.36,-84.38 2020.39,-69 2027.38,-61.85 2024.69,-52.35 2018.98,-43.55\"/>\n<polygon fill=\"black\" stroke=\"black\" points=\"2021.65,-41.27 2012.8,-35.44 2016.08,-45.51 2021.65,-41.27\"/>\n<text text-anchor=\"middle\" x=\"2048.39\" y=\"-57.8\" font-family=\"Times New Roman,serif\" font-size=\"14.00\">perform</text>\n</g>\n<!-- 10 -->\n<g id=\"node11\" class=\"node\">\n<title>10</title>\n<ellipse fill=\"none\" stroke=\"black\" cx=\"2116.39\" cy=\"-18\" rx=\"46.59\" ry=\"18\"/>\n<text text-anchor=\"middle\" x=\"2116.39\" y=\"-14.3\" font-family=\"Times New Roman,serif\" font-size=\"14.00\">/etc/init.d/</text>\n</g>\n<!-- Start&#45;&gt;10 -->\n<g id=\"edge33\" class=\"edge\">\n<title>Start&#45;&gt;10</title>\n<path fill=\"none\" stroke=\"black\" d=\"M1213.47,-91.95C1224.32,-89.95 1235.68,-88.15 1246.39,-87 1292.19,-82.06 2033.97,-89.16 2075.39,-69 2086.37,-63.66 2095.41,-53.84 2102.19,-44.3\"/>\n<polygon fill=\"black\" stroke=\"black\" points=\"2105.23,-46.05 2107.77,-35.77 2099.37,-42.22 2105.23,-46.05\"/>\n<text text-anchor=\"middle\" x=\"2107.39\" y=\"-57.8\" font-family=\"Times New Roman,serif\" font-size=\"14.00\">drop</text>\n</g>\n<!-- 12 -->\n<g id=\"node13\" class=\"node\">\n<title>12</title>\n<ellipse fill=\"none\" stroke=\"black\" cx=\"2228.39\" cy=\"-18\" rx=\"46.59\" ry=\"18\"/>\n<text text-anchor=\"middle\" x=\"2228.39\" y=\"-14.3\" font-family=\"Times New Roman,serif\" font-size=\"14.00\">GID($|.|$)</text>\n</g>\n<!-- Start&#45;&gt;12 -->\n<g id=\"edge31\" class=\"edge\">\n<title>Start&#45;&gt;12</title>\n<path fill=\"none\" stroke=\"black\" d=\"M1213.01,-92.02C1224,-89.99 1235.53,-88.16 1246.39,-87 1343.52,-76.59 2030.42,-91.86 2125.39,-69 2150.58,-62.94 2176.83,-50.08 2196.52,-38.93\"/>\n<polygon fill=\"black\" stroke=\"black\" points=\"2198.47,-41.84 2205.35,-33.79 2194.95,-35.79 2198.47,-41.84\"/>\n<text text-anchor=\"middle\" x=\"2184.89\" y=\"-57.8\" font-family=\"Times New Roman,serif\" font-size=\"14.00\">assign</text>\n</g>\n<!-- Start&#45;&gt;12 -->\n<g id=\"edge36\" class=\"edge\">\n<title>Start&#45;&gt;12</title>\n<path fill=\"none\" stroke=\"black\" d=\"M1213.01,-92.01C1224,-89.98 1235.53,-88.15 1246.39,-87 1299.44,-81.36 2161.99,-98.57 2206.39,-69 2214.31,-63.73 2219.4,-54.92 2222.66,-46.15\"/>\n<polygon fill=\"black\" stroke=\"black\" points=\"2226.05,-47.04 2225.62,-36.45 2219.35,-44.99 2226.05,-47.04\"/>\n<text text-anchor=\"middle\" x=\"2240.89\" y=\"-57.8\" font-family=\"Times New Roman,serif\" font-size=\"14.00\">execute</text>\n</g>\n<!-- 13 -->\n<g id=\"node14\" class=\"node\">\n<title>13</title>\n<ellipse fill=\"none\" stroke=\"black\" cx=\"2320.39\" cy=\"-18\" rx=\"27.1\" ry=\"18\"/>\n<text text-anchor=\"middle\" x=\"2320.39\" y=\"-14.3\" font-family=\"Times New Roman,serif\" font-size=\"14.00\">^sh$</text>\n</g>\n<!-- Start&#45;&gt;13 -->\n<g id=\"edge34\" class=\"edge\">\n<title>Start&#45;&gt;13</title>\n<path fill=\"none\" stroke=\"black\" d=\"M1213,-92C1224,-89.97 1235.53,-88.15 1246.39,-87 1302.75,-81.04 2213.81,-90.14 2266.39,-69 2280.37,-63.38 2292.93,-52.32 2302.41,-42.04\"/>\n<polygon fill=\"black\" stroke=\"black\" points=\"2305.12,-44.26 2309.04,-34.42 2299.83,-39.67 2305.12,-44.26\"/>\n<text text-anchor=\"middle\" x=\"2300.39\" y=\"-57.8\" font-family=\"Times New Roman,serif\" font-size=\"14.00\">find</text>\n</g>\n<!-- 5 -->\n<g id=\"node6\" class=\"node\">\n<title>5</title>\n<ellipse fill=\"none\" stroke=\"black\" cx=\"1330.39\" cy=\"-105\" rx=\"75.29\" ry=\"18\"/>\n<text text-anchor=\"middle\" x=\"1330.39\" y=\"-101.3\" font-family=\"Times New Roman,serif\" font-size=\"14.00\">0x[0&#45;9a&#45;zA&#45;Z]{8}</text>\n</g>\n<!-- 11 -->\n<g id=\"node12\" class=\"node\">\n<title>11</title>\n<ellipse fill=\"none\" stroke=\"black\" cx=\"1476.39\" cy=\"-105\" rx=\"52.79\" ry=\"18\"/>\n<text text-anchor=\"middle\" x=\"1476.39\" y=\"-101.3\" font-family=\"Times New Roman,serif\" font-size=\"14.00\">update&#45;rc.d</text>\n</g>\n<!-- 14 -->\n<g id=\"node15\" class=\"node\">\n<title>14</title>\n<ellipse fill=\"none\" stroke=\"black\" cx=\"1580.39\" cy=\"-105\" rx=\"33.6\" ry=\"18\"/>\n<text text-anchor=\"middle\" x=\"1580.39\" y=\"-101.3\" font-family=\"Times New Roman,serif\" font-size=\"14.00\">/etc/rc</text>\n</g>\n</g>\n</svg>\n",
      "text/plain": [
       "<graphviz.graphs.Digraph at 0x1f1f8aa6470>"
      ]
     },
     "metadata": {},
     "output_type": "display_data"
    },
    {
     "name": "stdout",
     "output_type": "stream",
     "text": [
      "Xorddos-Trendmicro.csv raw doc OPset\n"
     ]
    },
    {
     "data": {
      "image/svg+xml": "<?xml version=\"1.0\" encoding=\"UTF-8\" standalone=\"no\"?>\n<!DOCTYPE svg PUBLIC \"-//W3C//DTD SVG 1.1//EN\"\n \"http://www.w3.org/Graphics/SVG/1.1/DTD/svg11.dtd\">\n<!-- Generated by graphviz version 6.0.1 (20220911.1526)\n -->\n<!-- Pages: 1 -->\n<svg width=\"519pt\" height=\"131pt\"\n viewBox=\"0.00 0.00 518.74 131.00\" xmlns=\"http://www.w3.org/2000/svg\" xmlns:xlink=\"http://www.w3.org/1999/xlink\">\n<g id=\"graph0\" class=\"graph\" transform=\"scale(1 1) rotate(0) translate(4 127)\">\n<polygon fill=\"white\" stroke=\"none\" points=\"-4,4 -4,-127 514.74,-127 514.74,4 -4,4\"/>\n<!-- Start -->\n<g id=\"node1\" class=\"node\">\n<title>Start</title>\n<ellipse fill=\"none\" stroke=\"black\" cx=\"186.95\" cy=\"-105\" rx=\"77.19\" ry=\"18\"/>\n<text text-anchor=\"middle\" x=\"186.95\" y=\"-101.3\" font-family=\"Times New Roman,serif\" font-size=\"14.00\">Malware (Subject)</text>\n</g>\n<!-- 1 -->\n<g id=\"node2\" class=\"node\">\n<title>1</title>\n<ellipse fill=\"none\" stroke=\"black\" cx=\"40.95\" cy=\"-18\" rx=\"40.89\" ry=\"18\"/>\n<text text-anchor=\"middle\" x=\"40.95\" y=\"-14.3\" font-family=\"Times New Roman,serif\" font-size=\"14.00\">/var/run/</text>\n</g>\n<!-- Start&#45;&gt;1 -->\n<g id=\"edge1\" class=\"edge\">\n<title>Start&#45;&gt;1</title>\n<path fill=\"none\" stroke=\"black\" d=\"M159.48,-88.01C135.1,-73.82 99.43,-53.05 73.59,-38.01\"/>\n<polygon fill=\"black\" stroke=\"black\" points=\"75.3,-34.95 64.9,-32.95 71.78,-41 75.3,-34.95\"/>\n<text text-anchor=\"middle\" x=\"135.45\" y=\"-57.8\" font-family=\"Times New Roman,serif\" font-size=\"14.00\">read</text>\n</g>\n<!-- 2 -->\n<g id=\"node3\" class=\"node\">\n<title>2</title>\n<ellipse fill=\"none\" stroke=\"black\" cx=\"142.95\" cy=\"-18\" rx=\"42.79\" ry=\"18\"/>\n<text text-anchor=\"middle\" x=\"142.95\" y=\"-14.3\" font-family=\"Times New Roman,serif\" font-size=\"14.00\">/etc/cron</text>\n</g>\n<!-- Start&#45;&gt;2 -->\n<g id=\"edge2\" class=\"edge\">\n<title>Start&#45;&gt;2</title>\n<path fill=\"none\" stroke=\"black\" d=\"M178.04,-86.8C171.8,-74.74 163.34,-58.4 156.3,-44.79\"/>\n<polygon fill=\"black\" stroke=\"black\" points=\"159.39,-43.16 151.69,-35.89 153.18,-46.38 159.39,-43.16\"/>\n<text text-anchor=\"middle\" x=\"181.95\" y=\"-57.8\" font-family=\"Times New Roman,serif\" font-size=\"14.00\">drop</text>\n</g>\n<!-- 3 -->\n<g id=\"node4\" class=\"node\">\n<title>3</title>\n<ellipse fill=\"none\" stroke=\"black\" cx=\"230.95\" cy=\"-18\" rx=\"27.1\" ry=\"18\"/>\n<text text-anchor=\"middle\" x=\"230.95\" y=\"-14.3\" font-family=\"Times New Roman,serif\" font-size=\"14.00\">/run/</text>\n</g>\n<!-- Start&#45;&gt;3 -->\n<g id=\"edge3\" class=\"edge\">\n<title>Start&#45;&gt;3</title>\n<path fill=\"none\" stroke=\"black\" d=\"M195.85,-86.8C202.18,-74.58 210.77,-57.98 217.87,-44.26\"/>\n<polygon fill=\"black\" stroke=\"black\" points=\"221.01,-45.8 222.5,-35.31 214.8,-42.58 221.01,-45.8\"/>\n<text text-anchor=\"middle\" x=\"224.45\" y=\"-57.8\" font-family=\"Times New Roman,serif\" font-size=\"14.00\">read</text>\n</g>\n<!-- 5 -->\n<g id=\"node6\" class=\"node\">\n<title>5</title>\n<ellipse fill=\"none\" stroke=\"black\" cx=\"302.95\" cy=\"-18\" rx=\"27\" ry=\"18\"/>\n<text text-anchor=\"middle\" x=\"302.95\" y=\"-14.3\" font-family=\"Times New Roman,serif\" font-size=\"14.00\">/var/</text>\n</g>\n<!-- Start&#45;&gt;5 -->\n<g id=\"edge4\" class=\"edge\">\n<title>Start&#45;&gt;5</title>\n<path fill=\"none\" stroke=\"black\" d=\"M212.86,-87.98C221.88,-82.19 231.99,-75.49 240.95,-69 253.92,-59.6 267.85,-48.47 279.22,-39.09\"/>\n<polygon fill=\"black\" stroke=\"black\" points=\"281.54,-41.72 286.99,-32.63 277.06,-36.33 281.54,-41.72\"/>\n<text text-anchor=\"middle\" x=\"272.45\" y=\"-57.8\" font-family=\"Times New Roman,serif\" font-size=\"14.00\">read</text>\n</g>\n<!-- 4 -->\n<g id=\"node5\" class=\"node\">\n<title>4</title>\n<ellipse fill=\"none\" stroke=\"black\" cx=\"353.95\" cy=\"-105\" rx=\"71.49\" ry=\"18\"/>\n<text text-anchor=\"middle\" x=\"353.95\" y=\"-101.3\" font-family=\"Times New Roman,serif\" font-size=\"14.00\">[a&#45;zA&#45;z]:d{1,5}$</text>\n</g>\n<!-- 6 -->\n<g id=\"node7\" class=\"node\">\n<title>6</title>\n<ellipse fill=\"none\" stroke=\"black\" cx=\"476.95\" cy=\"-105\" rx=\"33.6\" ry=\"18\"/>\n<text text-anchor=\"middle\" x=\"476.95\" y=\"-101.3\" font-family=\"Times New Roman,serif\" font-size=\"14.00\">/etc/rc</text>\n</g>\n</g>\n</svg>\n",
      "text/plain": [
       "<graphviz.graphs.Digraph at 0x1f1f8bb3d00>"
      ]
     },
     "metadata": {},
     "output_type": "display_data"
    },
    {
     "name": "stdout",
     "output_type": "stream",
     "text": [
      "Xorddos-Trendmicro2.csv raw doc OPset\n"
     ]
    },
    {
     "data": {
      "image/svg+xml": "<?xml version=\"1.0\" encoding=\"UTF-8\" standalone=\"no\"?>\n<!DOCTYPE svg PUBLIC \"-//W3C//DTD SVG 1.1//EN\"\n \"http://www.w3.org/Graphics/SVG/1.1/DTD/svg11.dtd\">\n<!-- Generated by graphviz version 6.0.1 (20220911.1526)\n -->\n<!-- Pages: 1 -->\n<svg width=\"243pt\" height=\"131pt\"\n viewBox=\"0.00 0.00 243.28 131.00\" xmlns=\"http://www.w3.org/2000/svg\" xmlns:xlink=\"http://www.w3.org/1999/xlink\">\n<g id=\"graph0\" class=\"graph\" transform=\"scale(1 1) rotate(0) translate(4 127)\">\n<polygon fill=\"white\" stroke=\"none\" points=\"-4,4 -4,-127 239.28,-127 239.28,4 -4,4\"/>\n<!-- Start -->\n<g id=\"node1\" class=\"node\">\n<title>Start</title>\n<ellipse fill=\"none\" stroke=\"black\" cx=\"117.64\" cy=\"-105\" rx=\"77.19\" ry=\"18\"/>\n<text text-anchor=\"middle\" x=\"117.64\" y=\"-101.3\" font-family=\"Times New Roman,serif\" font-size=\"14.00\">Malware (Subject)</text>\n</g>\n<!-- 1 -->\n<g id=\"node2\" class=\"node\">\n<title>1</title>\n<ellipse fill=\"none\" stroke=\"black\" cx=\"117.64\" cy=\"-18\" rx=\"117.78\" ry=\"18\"/>\n<text text-anchor=\"middle\" x=\"117.64\" y=\"-14.3\" font-family=\"Times New Roman,serif\" font-size=\"14.00\">d{1,3}.d{1,3}.d{1,3}.d{1,3}</text>\n</g>\n<!-- Start&#45;&gt;1 -->\n<g id=\"edge1\" class=\"edge\">\n<title>Start&#45;&gt;1</title>\n<path fill=\"none\" stroke=\"black\" d=\"M104.97,-87.05C101.58,-81.57 98.38,-75.28 96.64,-69 94.45,-61.09 96.19,-52.77 99.43,-45.23\"/>\n<polygon fill=\"black\" stroke=\"black\" points=\"102.62,-46.68 104.16,-36.2 96.42,-43.43 102.62,-46.68\"/>\n<text text-anchor=\"middle\" x=\"107.64\" y=\"-57.8\" font-family=\"Times New Roman,serif\" font-size=\"14.00\">find</text>\n</g>\n<!-- Start&#45;&gt;1 -->\n<g id=\"edge2\" class=\"edge\">\n<title>Start&#45;&gt;1</title>\n<path fill=\"none\" stroke=\"black\" d=\"M118.27,-86.88C118.56,-77.22 118.8,-64.94 118.64,-54 118.6,-51.45 118.55,-48.79 118.49,-46.13\"/>\n<polygon fill=\"black\" stroke=\"black\" points=\"121.99,-45.99 118.23,-36.09 114.99,-46.18 121.99,-45.99\"/>\n<text text-anchor=\"middle\" x=\"132.14\" y=\"-57.8\" font-family=\"Times New Roman,serif\" font-size=\"14.00\">wget</text>\n</g>\n</g>\n</svg>\n",
      "text/plain": [
       "<graphviz.graphs.Digraph at 0x1f1f8aa65f0>"
      ]
     },
     "metadata": {},
     "output_type": "display_data"
    },
    {
     "name": "stdout",
     "output_type": "stream",
     "text": [
      "Xorddos-Intezer.csv matched doc OPset\n"
     ]
    },
    {
     "data": {
      "image/svg+xml": "<?xml version=\"1.0\" encoding=\"UTF-8\" standalone=\"no\"?>\n<!DOCTYPE svg PUBLIC \"-//W3C//DTD SVG 1.1//EN\"\n \"http://www.w3.org/Graphics/SVG/1.1/DTD/svg11.dtd\">\n<!-- Generated by graphviz version 6.0.1 (20220911.1526)\n -->\n<!-- Pages: 1 -->\n<svg width=\"163pt\" height=\"131pt\"\n viewBox=\"0.00 0.00 162.69 131.00\" xmlns=\"http://www.w3.org/2000/svg\" xmlns:xlink=\"http://www.w3.org/1999/xlink\">\n<g id=\"graph0\" class=\"graph\" transform=\"scale(1 1) rotate(0) translate(4 127)\">\n<polygon fill=\"white\" stroke=\"none\" points=\"-4,4 -4,-127 158.69,-127 158.69,4 -4,4\"/>\n<!-- Start -->\n<g id=\"node1\" class=\"node\">\n<title>Start</title>\n<ellipse fill=\"none\" stroke=\"black\" cx=\"77.34\" cy=\"-105\" rx=\"77.19\" ry=\"18\"/>\n<text text-anchor=\"middle\" x=\"77.34\" y=\"-101.3\" font-family=\"Times New Roman,serif\" font-size=\"14.00\">Malware (Subject)</text>\n</g>\n<!-- 1 -->\n<g id=\"node2\" class=\"node\">\n<title>1</title>\n<ellipse fill=\"none\" stroke=\"black\" cx=\"77.34\" cy=\"-18\" rx=\"32.49\" ry=\"18\"/>\n<text text-anchor=\"middle\" x=\"77.34\" y=\"-14.3\" font-family=\"Times New Roman,serif\" font-size=\"14.00\">/proc/</text>\n</g>\n<!-- Start&#45;&gt;1 -->\n<g id=\"edge1\" class=\"edge\">\n<title>Start&#45;&gt;1</title>\n<path fill=\"none\" stroke=\"black\" d=\"M77.34,-86.8C77.34,-75.16 77.34,-59.55 77.34,-46.24\"/>\n<polygon fill=\"black\" stroke=\"black\" points=\"80.84,-46.18 77.34,-36.18 73.84,-46.18 80.84,-46.18\"/>\n<text text-anchor=\"middle\" x=\"96.34\" y=\"-57.8\" font-family=\"Times New Roman,serif\" font-size=\"14.00\">extract</text>\n</g>\n</g>\n</svg>\n",
      "text/plain": [
       "<graphviz.graphs.Digraph at 0x1f1f864a2f0>"
      ]
     },
     "metadata": {},
     "output_type": "display_data"
    },
    {
     "name": "stdout",
     "output_type": "stream",
     "text": [
      "Xorddos-Trendmicro.csv matched doc OPset\n"
     ]
    },
    {
     "data": {
      "image/svg+xml": "<?xml version=\"1.0\" encoding=\"UTF-8\" standalone=\"no\"?>\n<!DOCTYPE svg PUBLIC \"-//W3C//DTD SVG 1.1//EN\"\n \"http://www.w3.org/Graphics/SVG/1.1/DTD/svg11.dtd\">\n<!-- Generated by graphviz version 6.0.1 (20220911.1526)\n -->\n<!-- Pages: 1 -->\n<svg width=\"338pt\" height=\"131pt\"\n viewBox=\"0.00 0.00 338.19 131.00\" xmlns=\"http://www.w3.org/2000/svg\" xmlns:xlink=\"http://www.w3.org/1999/xlink\">\n<g id=\"graph0\" class=\"graph\" transform=\"scale(1 1) rotate(0) translate(4 127)\">\n<polygon fill=\"white\" stroke=\"none\" points=\"-4,4 -4,-127 334.19,-127 334.19,4 -4,4\"/>\n<!-- Start -->\n<g id=\"node1\" class=\"node\">\n<title>Start</title>\n<ellipse fill=\"none\" stroke=\"black\" cx=\"142.3\" cy=\"-105\" rx=\"77.19\" ry=\"18\"/>\n<text text-anchor=\"middle\" x=\"142.3\" y=\"-101.3\" font-family=\"Times New Roman,serif\" font-size=\"14.00\">Malware (Subject)</text>\n</g>\n<!-- 1 -->\n<g id=\"node2\" class=\"node\">\n<title>1</title>\n<ellipse fill=\"none\" stroke=\"black\" cx=\"27.3\" cy=\"-18\" rx=\"27.1\" ry=\"18\"/>\n<text text-anchor=\"middle\" x=\"27.3\" y=\"-14.3\" font-family=\"Times New Roman,serif\" font-size=\"14.00\">/run/</text>\n</g>\n<!-- Start&#45;&gt;1 -->\n<g id=\"edge1\" class=\"edge\">\n<title>Start&#45;&gt;1</title>\n<path fill=\"none\" stroke=\"black\" d=\"M116.89,-87.92C108.03,-82.14 98.11,-75.44 89.3,-69 76.45,-59.61 62.63,-48.56 51.3,-39.24\"/>\n<polygon fill=\"black\" stroke=\"black\" points=\"53.47,-36.49 43.54,-32.81 49,-41.88 53.47,-36.49\"/>\n<text text-anchor=\"middle\" x=\"101.8\" y=\"-57.8\" font-family=\"Times New Roman,serif\" font-size=\"14.00\">read</text>\n</g>\n<!-- 2 -->\n<g id=\"node3\" class=\"node\">\n<title>2</title>\n<ellipse fill=\"none\" stroke=\"black\" cx=\"99.3\" cy=\"-18\" rx=\"27\" ry=\"18\"/>\n<text text-anchor=\"middle\" x=\"99.3\" y=\"-14.3\" font-family=\"Times New Roman,serif\" font-size=\"14.00\">/var/</text>\n</g>\n<!-- Start&#45;&gt;2 -->\n<g id=\"edge2\" class=\"edge\">\n<title>Start&#45;&gt;2</title>\n<path fill=\"none\" stroke=\"black\" d=\"M133.6,-86.8C127.41,-74.58 119.01,-57.98 112.07,-44.26\"/>\n<polygon fill=\"black\" stroke=\"black\" points=\"115.19,-42.65 107.55,-35.31 108.94,-45.81 115.19,-42.65\"/>\n<text text-anchor=\"middle\" x=\"136.8\" y=\"-57.8\" font-family=\"Times New Roman,serif\" font-size=\"14.00\">read</text>\n</g>\n<!-- 3 -->\n<g id=\"node4\" class=\"node\">\n<title>3</title>\n<ellipse fill=\"none\" stroke=\"black\" cx=\"185.3\" cy=\"-18\" rx=\"40.89\" ry=\"18\"/>\n<text text-anchor=\"middle\" x=\"185.3\" y=\"-14.3\" font-family=\"Times New Roman,serif\" font-size=\"14.00\">/var/run/</text>\n</g>\n<!-- Start&#45;&gt;3 -->\n<g id=\"edge3\" class=\"edge\">\n<title>Start&#45;&gt;3</title>\n<path fill=\"none\" stroke=\"black\" d=\"M151,-86.8C157.04,-74.85 165.21,-58.72 172.05,-45.18\"/>\n<polygon fill=\"black\" stroke=\"black\" points=\"175.36,-46.39 176.76,-35.89 169.12,-43.23 175.36,-46.39\"/>\n<text text-anchor=\"middle\" x=\"179.8\" y=\"-57.8\" font-family=\"Times New Roman,serif\" font-size=\"14.00\">read</text>\n</g>\n<!-- 4 -->\n<g id=\"node5\" class=\"node\">\n<title>4</title>\n<ellipse fill=\"none\" stroke=\"black\" cx=\"287.3\" cy=\"-18\" rx=\"42.79\" ry=\"18\"/>\n<text text-anchor=\"middle\" x=\"287.3\" y=\"-14.3\" font-family=\"Times New Roman,serif\" font-size=\"14.00\">/etc/cron</text>\n</g>\n<!-- Start&#45;&gt;4 -->\n<g id=\"edge4\" class=\"edge\">\n<title>Start&#45;&gt;4</title>\n<path fill=\"none\" stroke=\"black\" d=\"M169.57,-88.01C193.64,-73.9 228.79,-53.3 254.41,-38.28\"/>\n<polygon fill=\"black\" stroke=\"black\" points=\"256.18,-41.3 263.04,-33.22 252.64,-35.26 256.18,-41.3\"/>\n<text text-anchor=\"middle\" x=\"238.3\" y=\"-57.8\" font-family=\"Times New Roman,serif\" font-size=\"14.00\">drop</text>\n</g>\n</g>\n</svg>\n",
      "text/plain": [
       "<graphviz.graphs.Digraph at 0x1f1f8aa65f0>"
      ]
     },
     "metadata": {},
     "output_type": "display_data"
    },
    {
     "name": "stdout",
     "output_type": "stream",
     "text": [
      "Xorddos-Trendmicro2.csv matched doc OPset\n"
     ]
    },
    {
     "data": {
      "image/svg+xml": "<?xml version=\"1.0\" encoding=\"UTF-8\" standalone=\"no\"?>\n<!DOCTYPE svg PUBLIC \"-//W3C//DTD SVG 1.1//EN\"\n \"http://www.w3.org/Graphics/SVG/1.1/DTD/svg11.dtd\">\n<!-- Generated by graphviz version 6.0.1 (20220911.1526)\n -->\n<!-- Pages: 1 -->\n<svg width=\"243pt\" height=\"131pt\"\n viewBox=\"0.00 0.00 243.28 131.00\" xmlns=\"http://www.w3.org/2000/svg\" xmlns:xlink=\"http://www.w3.org/1999/xlink\">\n<g id=\"graph0\" class=\"graph\" transform=\"scale(1 1) rotate(0) translate(4 127)\">\n<polygon fill=\"white\" stroke=\"none\" points=\"-4,4 -4,-127 239.28,-127 239.28,4 -4,4\"/>\n<!-- Start -->\n<g id=\"node1\" class=\"node\">\n<title>Start</title>\n<ellipse fill=\"none\" stroke=\"black\" cx=\"117.64\" cy=\"-105\" rx=\"77.19\" ry=\"18\"/>\n<text text-anchor=\"middle\" x=\"117.64\" y=\"-101.3\" font-family=\"Times New Roman,serif\" font-size=\"14.00\">Malware (Subject)</text>\n</g>\n<!-- 1 -->\n<g id=\"node2\" class=\"node\">\n<title>1</title>\n<ellipse fill=\"none\" stroke=\"black\" cx=\"117.64\" cy=\"-18\" rx=\"117.78\" ry=\"18\"/>\n<text text-anchor=\"middle\" x=\"117.64\" y=\"-14.3\" font-family=\"Times New Roman,serif\" font-size=\"14.00\">d{1,3}.d{1,3}.d{1,3}.d{1,3}</text>\n</g>\n<!-- Start&#45;&gt;1 -->\n<g id=\"edge1\" class=\"edge\">\n<title>Start&#45;&gt;1</title>\n<path fill=\"none\" stroke=\"black\" d=\"M104.97,-87.05C101.58,-81.57 98.38,-75.28 96.64,-69 94.45,-61.09 96.19,-52.77 99.43,-45.23\"/>\n<polygon fill=\"black\" stroke=\"black\" points=\"102.62,-46.68 104.16,-36.2 96.42,-43.43 102.62,-46.68\"/>\n<text text-anchor=\"middle\" x=\"107.64\" y=\"-57.8\" font-family=\"Times New Roman,serif\" font-size=\"14.00\">find</text>\n</g>\n<!-- Start&#45;&gt;1 -->\n<g id=\"edge2\" class=\"edge\">\n<title>Start&#45;&gt;1</title>\n<path fill=\"none\" stroke=\"black\" d=\"M118.27,-86.88C118.56,-77.22 118.8,-64.94 118.64,-54 118.6,-51.45 118.55,-48.79 118.49,-46.13\"/>\n<polygon fill=\"black\" stroke=\"black\" points=\"121.99,-45.99 118.23,-36.09 114.99,-46.18 121.99,-45.99\"/>\n<text text-anchor=\"middle\" x=\"132.14\" y=\"-57.8\" font-family=\"Times New Roman,serif\" font-size=\"14.00\">wget</text>\n</g>\n</g>\n</svg>\n",
      "text/plain": [
       "<graphviz.graphs.Digraph at 0x1f1f864a2f0>"
      ]
     },
     "metadata": {},
     "output_type": "display_data"
    }
   ],
   "source": [
    "import graphviz\n",
    "\n",
    "class ItemMapper:\n",
    "    def __init__(self) -> None:\n",
    "        self.mapper = {}\n",
    "        self.index_counter:int = 1\n",
    "        pass\n",
    "    def addItem(self, item:str) -> str:\n",
    "        if item in self.mapper.keys():\n",
    "            return self.mapper.get(item)\n",
    "        self.mapper[item] = str(self.index_counter)\n",
    "        self.index_counter += 1\n",
    "        return str(self.index_counter - 1)\n",
    "    def getSymbol(self, item:str):\n",
    "        return self.mapper.get(item, None)\n",
    "\n",
    "\n",
    "def draw_asg_op_graph(asg_OPset: list[OperationPair], family=None):\n",
    "    dot = graphviz.Digraph(f'{family}_asg_OPset', comment='The Operational Pair Graph') \n",
    "    dot.node('Start', label=\"Malware (Subject)\")\n",
    "    mapper = ItemMapper()\n",
    "    for op in asg_OPset:\n",
    "        node_id = mapper.addItem(op.object)\n",
    "        dot.node(node_id, label=op.object)\n",
    "        if op.action:\n",
    "            dot.edge('Start', node_id, label=op.action)\n",
    "\n",
    "    u = dot.unflatten(stagger=2) \n",
    "    display(u)\n",
    "    del mapper\n",
    "    return u\n",
    "\n",
    "def draw_ctd_op_graph(fset:FamilySet):\n",
    "    # doc_OPset\n",
    "    for rem in fset.rem_lst:\n",
    "        if rem.doc_OPset is None or len(rem.doc_OPset) == 0:\n",
    "            continue\n",
    "        dot = graphviz.Digraph()\n",
    "        dot.node('Start', label=\"Malware (Subject)\")\n",
    "        mapper = ItemMapper()\n",
    "        for op in rem.doc_OPset:\n",
    "            node_id = mapper.addItem(op.object)\n",
    "            dot.node(node_id, label=op.object)\n",
    "            if op.action:\n",
    "                dot.edge('Start', node_id, label=op.action)\n",
    "        print(f\"{rem.reportname} raw doc OPset\")\n",
    "        display(dot)\n",
    "        del mapper\n",
    "    # match_doc_OPset\n",
    "    for rem in fset.rem_lst:\n",
    "        if rem.match_doc_OPset is None or len(rem.match_doc_OPset) == 0:\n",
    "            continue\n",
    "        dot = graphviz.Digraph()\n",
    "        dot.node('Start', label=\"Malware (Subject)\")\n",
    "        mapper = ItemMapper()\n",
    "        for op in rem.match_doc_OPset:\n",
    "            node_id = mapper.addItem(op.object)\n",
    "            dot.node(node_id, label=op.object)\n",
    "            if op.action:\n",
    "                dot.edge('Start', node_id, label=op.action)\n",
    "        print(f\"{rem.reportname} matched doc OPset\")\n",
    "        display(dot)\n",
    "        del mapper\n",
    "    return\n",
    "\n",
    "draw_asg_op_graph(sample.OPset, family=family)\n",
    "draw_ctd_op_graph(fset)"
   ]
  },
  {
   "cell_type": "code",
   "execution_count": 15,
   "metadata": {},
   "outputs": [
    {
     "name": "stdout",
     "output_type": "stream",
     "text": [
      "set()\n",
      "set()\n",
      "{<OP act=extract, obj=/proc/>, <OP act=None, obj=GID(\\$|\\.|$)>, <OP act=hardcode, obj=\\d{1,3}\\.\\d{1,3}\\.\\d{1,3}\\.\\d{1,3}>, <OP act=None, obj=\\d{1,3}\\.\\d{1,3}\\.\\d{1,3}\\.\\d{1,3}>, <OP act=None, obj=/etc/init.d/>, <OP act=None, obj=UID(\\$|\\.|$)>, <OP act=None, obj=/etc/rc>}\n",
      "{<OP act=provide, obj=/proc/>, <OP act=contain, obj=/var/>, <OP act=m6_6n3, obj=/run/>, <OP act=fetch, obj=/var/>, <OP act=run, obj=/var/>, <OP act=m6_6n3, obj=/var/run/>, <OP act=hook, obj=/proc/>, <OP act=create, obj=/var/run/>, <OP act=None, obj=/proc/>, <OP act=create, obj=/run/>, <OP act=None, obj=0x[0-9a-zA-Z]{8}>, <OP act=None, obj=/run/>, <OP act=None, obj=/var/run/>, <OP act=use, obj=/proc/rs_dev>, <OP act=download, obj=[a-zA-z]:\\d{1,5}$>, <OP act=delete, obj=/etc/cron>, <OP act=name, obj=/proc/>, <OP act=check, obj=/proc/>, <OP act=add, obj=^chkconfig$>, <OP act=None, obj=/etc/cron>, <OP act=None, obj=/etc/init.d/>, <OP act=m6_6n3, obj=/var/>, <OP act=create, obj=/var/>, <OP act=resolv.conf, obj=/var/run/>, <OP act=have, obj=/proc/rs_dev>, <OP act=resolv.conf, obj=/run/>, <OP act=contain, obj=/proc/>, <OP act=read, obj=/var/run/>, <OP act=None, obj=update-rc.d>, <OP act=read, obj=/run/>, <OP act=None, obj=/var/>, <OP act=fetch, obj=/run/>, <OP act=drop, obj=/run/>, <OP act=pass, obj=/etc/cron>, <OP act=fetch, obj=/var/run/>, <OP act=call, obj=/proc/>, <OP act=use, obj=/proc/>, <OP act=None, obj=/proc/rs_dev>, <OP act=relate, obj=/var/>, <OP act=assign, obj=GID(\\$|\\.|$)>, <OP act=install, obj=^chkconfig$>, <OP act=drop, obj=/etc/init.d/>, <OP act=find, obj=^sh$>, <OP act=fetch, obj=[a-zA-z]:\\d{1,5}$>, <OP act=execute, obj=GID(\\$|\\.|$)>, <OP act=drop, obj=/etc/cron>, <OP act=None, obj=/etc/rc>, <OP act=resolv.conf, obj=/var/>, <OP act=perform, obj=^chkconfig$>, <OP act=read, obj=/var/>, <OP act=have, obj=/proc/>}\n",
      "{<OP act=read, obj=/var/run/>, <OP act=drop, obj=/etc/cron>, <OP act=read, obj=/run/>, <OP act=None, obj=[a-zA-z]:\\d{1,5}$>, <OP act=read, obj=/var/>, <OP act=None, obj=/etc/rc>}\n",
      "{<OP act=find, obj=\\d{1,3}\\.\\d{1,3}\\.\\d{1,3}\\.\\d{1,3}>, <OP act=wget, obj=\\d{1,3}\\.\\d{1,3}\\.\\d{1,3}\\.\\d{1,3}>}\n"
     ]
    }
   ],
   "source": [
    "# 測試區\n",
    "for rem in fset.rem_lst:\n",
    "    print(rem.doc_OPset)"
   ]
  },
  {
   "cell_type": "code",
   "execution_count": 16,
   "metadata": {},
   "outputs": [
    {
     "data": {
      "text/html": [
       "<div>\n",
       "<style scoped>\n",
       "    .dataframe tbody tr th:only-of-type {\n",
       "        vertical-align: middle;\n",
       "    }\n",
       "\n",
       "    .dataframe tbody tr th {\n",
       "        vertical-align: top;\n",
       "    }\n",
       "\n",
       "    .dataframe thead th {\n",
       "        text-align: right;\n",
       "    }\n",
       "</style>\n",
       "<table border=\"1\" class=\"dataframe\">\n",
       "  <thead>\n",
       "    <tr style=\"text-align: right;\">\n",
       "      <th></th>\n",
       "      <th>bin/sed</th>\n",
       "      <th>/etc/rc</th>\n",
       "      <th>/etc/init.d/</th>\n",
       "      <th>/proc/</th>\n",
       "      <th>/etc/sed</th>\n",
       "      <th>/selinux</th>\n",
       "      <th>/boot/</th>\n",
       "      <th>/proc/rs_dev</th>\n",
       "      <th>/boot/[a-z]{10}</th>\n",
       "      <th>/run/</th>\n",
       "      <th>...</th>\n",
       "      <th>^pipe(\\$|\\.|$)</th>\n",
       "      <th>\\d{1,3}\\.\\d{1,3}\\.\\d{1,3}\\.\\d{1,3}</th>\n",
       "      <th>[a-zA-z]:\\d{1,5}$</th>\n",
       "      <th>port \\d{1,5}$</th>\n",
       "      <th>\\d{1,3}\\.\\d{1,3}\\.\\d{1,3}\\.\\d{1,3}:\\d{1,5}$</th>\n",
       "      <th>0x[0-9a-zA-Z]{8}</th>\n",
       "      <th>UID(\\$|\\.|$)</th>\n",
       "      <th>GID(\\$|\\.|$)</th>\n",
       "      <th>permission(\\s|:)[0-9]{1,4}</th>\n",
       "      <th>match</th>\n",
       "    </tr>\n",
       "  </thead>\n",
       "  <tbody>\n",
       "    <tr>\n",
       "      <th>0</th>\n",
       "      <td>0</td>\n",
       "      <td>0</td>\n",
       "      <td>0</td>\n",
       "      <td>0</td>\n",
       "      <td>0</td>\n",
       "      <td>0</td>\n",
       "      <td>0</td>\n",
       "      <td>0</td>\n",
       "      <td>0</td>\n",
       "      <td>0</td>\n",
       "      <td>...</td>\n",
       "      <td>0</td>\n",
       "      <td>0</td>\n",
       "      <td>0</td>\n",
       "      <td>0</td>\n",
       "      <td>0</td>\n",
       "      <td>0</td>\n",
       "      <td>0</td>\n",
       "      <td>0</td>\n",
       "      <td>0</td>\n",
       "      <td>0</td>\n",
       "    </tr>\n",
       "    <tr>\n",
       "      <th>1</th>\n",
       "      <td>0</td>\n",
       "      <td>0</td>\n",
       "      <td>0</td>\n",
       "      <td>0</td>\n",
       "      <td>0</td>\n",
       "      <td>0</td>\n",
       "      <td>0</td>\n",
       "      <td>0</td>\n",
       "      <td>0</td>\n",
       "      <td>0</td>\n",
       "      <td>...</td>\n",
       "      <td>0</td>\n",
       "      <td>0</td>\n",
       "      <td>0</td>\n",
       "      <td>0</td>\n",
       "      <td>0</td>\n",
       "      <td>0</td>\n",
       "      <td>0</td>\n",
       "      <td>0</td>\n",
       "      <td>0</td>\n",
       "      <td>0</td>\n",
       "    </tr>\n",
       "    <tr>\n",
       "      <th>2</th>\n",
       "      <td>0</td>\n",
       "      <td>0</td>\n",
       "      <td>0</td>\n",
       "      <td>0</td>\n",
       "      <td>0</td>\n",
       "      <td>0</td>\n",
       "      <td>0</td>\n",
       "      <td>0</td>\n",
       "      <td>0</td>\n",
       "      <td>0</td>\n",
       "      <td>...</td>\n",
       "      <td>0</td>\n",
       "      <td>0</td>\n",
       "      <td>0</td>\n",
       "      <td>0</td>\n",
       "      <td>0</td>\n",
       "      <td>0</td>\n",
       "      <td>0</td>\n",
       "      <td>0</td>\n",
       "      <td>0</td>\n",
       "      <td>0</td>\n",
       "    </tr>\n",
       "    <tr>\n",
       "      <th>3</th>\n",
       "      <td>0</td>\n",
       "      <td>0</td>\n",
       "      <td>0</td>\n",
       "      <td>0</td>\n",
       "      <td>0</td>\n",
       "      <td>0</td>\n",
       "      <td>0</td>\n",
       "      <td>0</td>\n",
       "      <td>0</td>\n",
       "      <td>0</td>\n",
       "      <td>...</td>\n",
       "      <td>0</td>\n",
       "      <td>0</td>\n",
       "      <td>0</td>\n",
       "      <td>0</td>\n",
       "      <td>0</td>\n",
       "      <td>0</td>\n",
       "      <td>0</td>\n",
       "      <td>0</td>\n",
       "      <td>0</td>\n",
       "      <td>0</td>\n",
       "    </tr>\n",
       "    <tr>\n",
       "      <th>4</th>\n",
       "      <td>0</td>\n",
       "      <td>0</td>\n",
       "      <td>0</td>\n",
       "      <td>0</td>\n",
       "      <td>0</td>\n",
       "      <td>0</td>\n",
       "      <td>0</td>\n",
       "      <td>0</td>\n",
       "      <td>0</td>\n",
       "      <td>0</td>\n",
       "      <td>...</td>\n",
       "      <td>0</td>\n",
       "      <td>0</td>\n",
       "      <td>0</td>\n",
       "      <td>0</td>\n",
       "      <td>0</td>\n",
       "      <td>0</td>\n",
       "      <td>0</td>\n",
       "      <td>0</td>\n",
       "      <td>0</td>\n",
       "      <td>0</td>\n",
       "    </tr>\n",
       "    <tr>\n",
       "      <th>5</th>\n",
       "      <td>0</td>\n",
       "      <td>0</td>\n",
       "      <td>0</td>\n",
       "      <td>0</td>\n",
       "      <td>0</td>\n",
       "      <td>0</td>\n",
       "      <td>0</td>\n",
       "      <td>0</td>\n",
       "      <td>0</td>\n",
       "      <td>0</td>\n",
       "      <td>...</td>\n",
       "      <td>0</td>\n",
       "      <td>0</td>\n",
       "      <td>0</td>\n",
       "      <td>0</td>\n",
       "      <td>0</td>\n",
       "      <td>0</td>\n",
       "      <td>0</td>\n",
       "      <td>0</td>\n",
       "      <td>0</td>\n",
       "      <td>0</td>\n",
       "    </tr>\n",
       "    <tr>\n",
       "      <th>6</th>\n",
       "      <td>0</td>\n",
       "      <td>0</td>\n",
       "      <td>0</td>\n",
       "      <td>0</td>\n",
       "      <td>0</td>\n",
       "      <td>0</td>\n",
       "      <td>0</td>\n",
       "      <td>0</td>\n",
       "      <td>0</td>\n",
       "      <td>0</td>\n",
       "      <td>...</td>\n",
       "      <td>0</td>\n",
       "      <td>0</td>\n",
       "      <td>0</td>\n",
       "      <td>0</td>\n",
       "      <td>0</td>\n",
       "      <td>0</td>\n",
       "      <td>0</td>\n",
       "      <td>0</td>\n",
       "      <td>0</td>\n",
       "      <td>0</td>\n",
       "    </tr>\n",
       "    <tr>\n",
       "      <th>7</th>\n",
       "      <td>0</td>\n",
       "      <td>0</td>\n",
       "      <td>0</td>\n",
       "      <td>0</td>\n",
       "      <td>0</td>\n",
       "      <td>0</td>\n",
       "      <td>0</td>\n",
       "      <td>0</td>\n",
       "      <td>0</td>\n",
       "      <td>0</td>\n",
       "      <td>...</td>\n",
       "      <td>0</td>\n",
       "      <td>0</td>\n",
       "      <td>0</td>\n",
       "      <td>0</td>\n",
       "      <td>0</td>\n",
       "      <td>0</td>\n",
       "      <td>0</td>\n",
       "      <td>0</td>\n",
       "      <td>0</td>\n",
       "      <td>0</td>\n",
       "    </tr>\n",
       "    <tr>\n",
       "      <th>8</th>\n",
       "      <td>0</td>\n",
       "      <td>0</td>\n",
       "      <td>0</td>\n",
       "      <td>0</td>\n",
       "      <td>0</td>\n",
       "      <td>0</td>\n",
       "      <td>0</td>\n",
       "      <td>0</td>\n",
       "      <td>0</td>\n",
       "      <td>0</td>\n",
       "      <td>...</td>\n",
       "      <td>0</td>\n",
       "      <td>0</td>\n",
       "      <td>0</td>\n",
       "      <td>0</td>\n",
       "      <td>0</td>\n",
       "      <td>0</td>\n",
       "      <td>0</td>\n",
       "      <td>0</td>\n",
       "      <td>0</td>\n",
       "      <td>0</td>\n",
       "    </tr>\n",
       "    <tr>\n",
       "      <th>9</th>\n",
       "      <td>0</td>\n",
       "      <td>0</td>\n",
       "      <td>0</td>\n",
       "      <td>0</td>\n",
       "      <td>0</td>\n",
       "      <td>0</td>\n",
       "      <td>0</td>\n",
       "      <td>0</td>\n",
       "      <td>0</td>\n",
       "      <td>0</td>\n",
       "      <td>...</td>\n",
       "      <td>0</td>\n",
       "      <td>0</td>\n",
       "      <td>0</td>\n",
       "      <td>0</td>\n",
       "      <td>0</td>\n",
       "      <td>0</td>\n",
       "      <td>0</td>\n",
       "      <td>0</td>\n",
       "      <td>0</td>\n",
       "      <td>0</td>\n",
       "    </tr>\n",
       "    <tr>\n",
       "      <th>10</th>\n",
       "      <td>0</td>\n",
       "      <td>0</td>\n",
       "      <td>0</td>\n",
       "      <td>0</td>\n",
       "      <td>0</td>\n",
       "      <td>0</td>\n",
       "      <td>0</td>\n",
       "      <td>0</td>\n",
       "      <td>0</td>\n",
       "      <td>0</td>\n",
       "      <td>...</td>\n",
       "      <td>0</td>\n",
       "      <td>0</td>\n",
       "      <td>0</td>\n",
       "      <td>0</td>\n",
       "      <td>0</td>\n",
       "      <td>0</td>\n",
       "      <td>0</td>\n",
       "      <td>0</td>\n",
       "      <td>0</td>\n",
       "      <td>0</td>\n",
       "    </tr>\n",
       "    <tr>\n",
       "      <th>11</th>\n",
       "      <td>0</td>\n",
       "      <td>0</td>\n",
       "      <td>0</td>\n",
       "      <td>0</td>\n",
       "      <td>0</td>\n",
       "      <td>0</td>\n",
       "      <td>0</td>\n",
       "      <td>0</td>\n",
       "      <td>0</td>\n",
       "      <td>0</td>\n",
       "      <td>...</td>\n",
       "      <td>0</td>\n",
       "      <td>0</td>\n",
       "      <td>0</td>\n",
       "      <td>0</td>\n",
       "      <td>0</td>\n",
       "      <td>0</td>\n",
       "      <td>0</td>\n",
       "      <td>0</td>\n",
       "      <td>0</td>\n",
       "      <td>0</td>\n",
       "    </tr>\n",
       "    <tr>\n",
       "      <th>12</th>\n",
       "      <td>0</td>\n",
       "      <td>0</td>\n",
       "      <td>0</td>\n",
       "      <td>0</td>\n",
       "      <td>0</td>\n",
       "      <td>0</td>\n",
       "      <td>0</td>\n",
       "      <td>0</td>\n",
       "      <td>0</td>\n",
       "      <td>0</td>\n",
       "      <td>...</td>\n",
       "      <td>0</td>\n",
       "      <td>0</td>\n",
       "      <td>0</td>\n",
       "      <td>0</td>\n",
       "      <td>0</td>\n",
       "      <td>0</td>\n",
       "      <td>0</td>\n",
       "      <td>0</td>\n",
       "      <td>0</td>\n",
       "      <td>0</td>\n",
       "    </tr>\n",
       "    <tr>\n",
       "      <th>13</th>\n",
       "      <td>0</td>\n",
       "      <td>0</td>\n",
       "      <td>0</td>\n",
       "      <td>0</td>\n",
       "      <td>0</td>\n",
       "      <td>0</td>\n",
       "      <td>0</td>\n",
       "      <td>0</td>\n",
       "      <td>0</td>\n",
       "      <td>0</td>\n",
       "      <td>...</td>\n",
       "      <td>0</td>\n",
       "      <td>0</td>\n",
       "      <td>0</td>\n",
       "      <td>0</td>\n",
       "      <td>0</td>\n",
       "      <td>0</td>\n",
       "      <td>0</td>\n",
       "      <td>0</td>\n",
       "      <td>0</td>\n",
       "      <td>0</td>\n",
       "    </tr>\n",
       "    <tr>\n",
       "      <th>14</th>\n",
       "      <td>0</td>\n",
       "      <td>0</td>\n",
       "      <td>0</td>\n",
       "      <td>0</td>\n",
       "      <td>0</td>\n",
       "      <td>0</td>\n",
       "      <td>0</td>\n",
       "      <td>0</td>\n",
       "      <td>0</td>\n",
       "      <td>0</td>\n",
       "      <td>...</td>\n",
       "      <td>0</td>\n",
       "      <td>0</td>\n",
       "      <td>0</td>\n",
       "      <td>0</td>\n",
       "      <td>0</td>\n",
       "      <td>0</td>\n",
       "      <td>0</td>\n",
       "      <td>0</td>\n",
       "      <td>0</td>\n",
       "      <td>0</td>\n",
       "    </tr>\n",
       "    <tr>\n",
       "      <th>15</th>\n",
       "      <td>0</td>\n",
       "      <td>0</td>\n",
       "      <td>0</td>\n",
       "      <td>0</td>\n",
       "      <td>0</td>\n",
       "      <td>0</td>\n",
       "      <td>0</td>\n",
       "      <td>0</td>\n",
       "      <td>0</td>\n",
       "      <td>0</td>\n",
       "      <td>...</td>\n",
       "      <td>0</td>\n",
       "      <td>0</td>\n",
       "      <td>0</td>\n",
       "      <td>0</td>\n",
       "      <td>0</td>\n",
       "      <td>0</td>\n",
       "      <td>0</td>\n",
       "      <td>0</td>\n",
       "      <td>0</td>\n",
       "      <td>0</td>\n",
       "    </tr>\n",
       "    <tr>\n",
       "      <th>16</th>\n",
       "      <td>0</td>\n",
       "      <td>0</td>\n",
       "      <td>0</td>\n",
       "      <td>0</td>\n",
       "      <td>0</td>\n",
       "      <td>0</td>\n",
       "      <td>0</td>\n",
       "      <td>0</td>\n",
       "      <td>0</td>\n",
       "      <td>0</td>\n",
       "      <td>...</td>\n",
       "      <td>0</td>\n",
       "      <td>0</td>\n",
       "      <td>0</td>\n",
       "      <td>0</td>\n",
       "      <td>0</td>\n",
       "      <td>0</td>\n",
       "      <td>0</td>\n",
       "      <td>0</td>\n",
       "      <td>0</td>\n",
       "      <td>0</td>\n",
       "    </tr>\n",
       "    <tr>\n",
       "      <th>17</th>\n",
       "      <td>0</td>\n",
       "      <td>0</td>\n",
       "      <td>0</td>\n",
       "      <td>0</td>\n",
       "      <td>0</td>\n",
       "      <td>0</td>\n",
       "      <td>0</td>\n",
       "      <td>0</td>\n",
       "      <td>0</td>\n",
       "      <td>0</td>\n",
       "      <td>...</td>\n",
       "      <td>0</td>\n",
       "      <td>0</td>\n",
       "      <td>0</td>\n",
       "      <td>0</td>\n",
       "      <td>0</td>\n",
       "      <td>0</td>\n",
       "      <td>0</td>\n",
       "      <td>0</td>\n",
       "      <td>0</td>\n",
       "      <td>0</td>\n",
       "    </tr>\n",
       "    <tr>\n",
       "      <th>18</th>\n",
       "      <td>0</td>\n",
       "      <td>0</td>\n",
       "      <td>0</td>\n",
       "      <td>0</td>\n",
       "      <td>0</td>\n",
       "      <td>0</td>\n",
       "      <td>0</td>\n",
       "      <td>0</td>\n",
       "      <td>0</td>\n",
       "      <td>0</td>\n",
       "      <td>...</td>\n",
       "      <td>0</td>\n",
       "      <td>0</td>\n",
       "      <td>0</td>\n",
       "      <td>0</td>\n",
       "      <td>0</td>\n",
       "      <td>0</td>\n",
       "      <td>0</td>\n",
       "      <td>0</td>\n",
       "      <td>0</td>\n",
       "      <td>0</td>\n",
       "    </tr>\n",
       "    <tr>\n",
       "      <th>19</th>\n",
       "      <td>0</td>\n",
       "      <td>0</td>\n",
       "      <td>0</td>\n",
       "      <td>0</td>\n",
       "      <td>0</td>\n",
       "      <td>0</td>\n",
       "      <td>0</td>\n",
       "      <td>0</td>\n",
       "      <td>0</td>\n",
       "      <td>0</td>\n",
       "      <td>...</td>\n",
       "      <td>0</td>\n",
       "      <td>0</td>\n",
       "      <td>0</td>\n",
       "      <td>0</td>\n",
       "      <td>0</td>\n",
       "      <td>0</td>\n",
       "      <td>0</td>\n",
       "      <td>0</td>\n",
       "      <td>0</td>\n",
       "      <td>0</td>\n",
       "    </tr>\n",
       "    <tr>\n",
       "      <th>20</th>\n",
       "      <td>0</td>\n",
       "      <td>0</td>\n",
       "      <td>0</td>\n",
       "      <td>0</td>\n",
       "      <td>0</td>\n",
       "      <td>0</td>\n",
       "      <td>0</td>\n",
       "      <td>0</td>\n",
       "      <td>0</td>\n",
       "      <td>0</td>\n",
       "      <td>...</td>\n",
       "      <td>0</td>\n",
       "      <td>0</td>\n",
       "      <td>0</td>\n",
       "      <td>0</td>\n",
       "      <td>0</td>\n",
       "      <td>0</td>\n",
       "      <td>0</td>\n",
       "      <td>0</td>\n",
       "      <td>0</td>\n",
       "      <td>0</td>\n",
       "    </tr>\n",
       "    <tr>\n",
       "      <th>21</th>\n",
       "      <td>0</td>\n",
       "      <td>0</td>\n",
       "      <td>0</td>\n",
       "      <td>0</td>\n",
       "      <td>0</td>\n",
       "      <td>0</td>\n",
       "      <td>0</td>\n",
       "      <td>0</td>\n",
       "      <td>0</td>\n",
       "      <td>0</td>\n",
       "      <td>...</td>\n",
       "      <td>0</td>\n",
       "      <td>0</td>\n",
       "      <td>0</td>\n",
       "      <td>0</td>\n",
       "      <td>0</td>\n",
       "      <td>0</td>\n",
       "      <td>0</td>\n",
       "      <td>0</td>\n",
       "      <td>0</td>\n",
       "      <td>0</td>\n",
       "    </tr>\n",
       "    <tr>\n",
       "      <th>22</th>\n",
       "      <td>0</td>\n",
       "      <td>0</td>\n",
       "      <td>0</td>\n",
       "      <td>0</td>\n",
       "      <td>0</td>\n",
       "      <td>0</td>\n",
       "      <td>0</td>\n",
       "      <td>0</td>\n",
       "      <td>0</td>\n",
       "      <td>0</td>\n",
       "      <td>...</td>\n",
       "      <td>0</td>\n",
       "      <td>0</td>\n",
       "      <td>0</td>\n",
       "      <td>0</td>\n",
       "      <td>0</td>\n",
       "      <td>0</td>\n",
       "      <td>0</td>\n",
       "      <td>0</td>\n",
       "      <td>0</td>\n",
       "      <td>0</td>\n",
       "    </tr>\n",
       "    <tr>\n",
       "      <th>23</th>\n",
       "      <td>0</td>\n",
       "      <td>0</td>\n",
       "      <td>0</td>\n",
       "      <td>0</td>\n",
       "      <td>0</td>\n",
       "      <td>0</td>\n",
       "      <td>0</td>\n",
       "      <td>0</td>\n",
       "      <td>0</td>\n",
       "      <td>0</td>\n",
       "      <td>...</td>\n",
       "      <td>0</td>\n",
       "      <td>0</td>\n",
       "      <td>0</td>\n",
       "      <td>0</td>\n",
       "      <td>0</td>\n",
       "      <td>0</td>\n",
       "      <td>0</td>\n",
       "      <td>0</td>\n",
       "      <td>0</td>\n",
       "      <td>0</td>\n",
       "    </tr>\n",
       "    <tr>\n",
       "      <th>24</th>\n",
       "      <td>0</td>\n",
       "      <td>0</td>\n",
       "      <td>0</td>\n",
       "      <td>0</td>\n",
       "      <td>0</td>\n",
       "      <td>0</td>\n",
       "      <td>0</td>\n",
       "      <td>0</td>\n",
       "      <td>0</td>\n",
       "      <td>0</td>\n",
       "      <td>...</td>\n",
       "      <td>0</td>\n",
       "      <td>0</td>\n",
       "      <td>0</td>\n",
       "      <td>0</td>\n",
       "      <td>0</td>\n",
       "      <td>0</td>\n",
       "      <td>0</td>\n",
       "      <td>0</td>\n",
       "      <td>0</td>\n",
       "      <td>0</td>\n",
       "    </tr>\n",
       "    <tr>\n",
       "      <th>25</th>\n",
       "      <td>0</td>\n",
       "      <td>0</td>\n",
       "      <td>0</td>\n",
       "      <td>0</td>\n",
       "      <td>0</td>\n",
       "      <td>0</td>\n",
       "      <td>0</td>\n",
       "      <td>0</td>\n",
       "      <td>0</td>\n",
       "      <td>0</td>\n",
       "      <td>...</td>\n",
       "      <td>0</td>\n",
       "      <td>0</td>\n",
       "      <td>0</td>\n",
       "      <td>0</td>\n",
       "      <td>0</td>\n",
       "      <td>0</td>\n",
       "      <td>0</td>\n",
       "      <td>0</td>\n",
       "      <td>0</td>\n",
       "      <td>0</td>\n",
       "    </tr>\n",
       "    <tr>\n",
       "      <th>26</th>\n",
       "      <td>0</td>\n",
       "      <td>0</td>\n",
       "      <td>0</td>\n",
       "      <td>0</td>\n",
       "      <td>0</td>\n",
       "      <td>0</td>\n",
       "      <td>0</td>\n",
       "      <td>0</td>\n",
       "      <td>0</td>\n",
       "      <td>0</td>\n",
       "      <td>...</td>\n",
       "      <td>0</td>\n",
       "      <td>0</td>\n",
       "      <td>0</td>\n",
       "      <td>0</td>\n",
       "      <td>0</td>\n",
       "      <td>0</td>\n",
       "      <td>0</td>\n",
       "      <td>0</td>\n",
       "      <td>0</td>\n",
       "      <td>0</td>\n",
       "    </tr>\n",
       "    <tr>\n",
       "      <th>27</th>\n",
       "      <td>0</td>\n",
       "      <td>0</td>\n",
       "      <td>0</td>\n",
       "      <td>0</td>\n",
       "      <td>0</td>\n",
       "      <td>0</td>\n",
       "      <td>0</td>\n",
       "      <td>0</td>\n",
       "      <td>0</td>\n",
       "      <td>0</td>\n",
       "      <td>...</td>\n",
       "      <td>0</td>\n",
       "      <td>0</td>\n",
       "      <td>0</td>\n",
       "      <td>0</td>\n",
       "      <td>0</td>\n",
       "      <td>0</td>\n",
       "      <td>0</td>\n",
       "      <td>0</td>\n",
       "      <td>0</td>\n",
       "      <td>0</td>\n",
       "    </tr>\n",
       "    <tr>\n",
       "      <th>28</th>\n",
       "      <td>0</td>\n",
       "      <td>0</td>\n",
       "      <td>0</td>\n",
       "      <td>0</td>\n",
       "      <td>0</td>\n",
       "      <td>0</td>\n",
       "      <td>0</td>\n",
       "      <td>0</td>\n",
       "      <td>0</td>\n",
       "      <td>0</td>\n",
       "      <td>...</td>\n",
       "      <td>0</td>\n",
       "      <td>0</td>\n",
       "      <td>0</td>\n",
       "      <td>0</td>\n",
       "      <td>0</td>\n",
       "      <td>0</td>\n",
       "      <td>0</td>\n",
       "      <td>0</td>\n",
       "      <td>0</td>\n",
       "      <td>0</td>\n",
       "    </tr>\n",
       "    <tr>\n",
       "      <th>29</th>\n",
       "      <td>0</td>\n",
       "      <td>0</td>\n",
       "      <td>0</td>\n",
       "      <td>0</td>\n",
       "      <td>0</td>\n",
       "      <td>0</td>\n",
       "      <td>0</td>\n",
       "      <td>0</td>\n",
       "      <td>0</td>\n",
       "      <td>0</td>\n",
       "      <td>...</td>\n",
       "      <td>0</td>\n",
       "      <td>0</td>\n",
       "      <td>0</td>\n",
       "      <td>0</td>\n",
       "      <td>0</td>\n",
       "      <td>0</td>\n",
       "      <td>0</td>\n",
       "      <td>0</td>\n",
       "      <td>0</td>\n",
       "      <td>0</td>\n",
       "    </tr>\n",
       "    <tr>\n",
       "      <th>30</th>\n",
       "      <td>0</td>\n",
       "      <td>0</td>\n",
       "      <td>0</td>\n",
       "      <td>0</td>\n",
       "      <td>0</td>\n",
       "      <td>0</td>\n",
       "      <td>0</td>\n",
       "      <td>0</td>\n",
       "      <td>0</td>\n",
       "      <td>0</td>\n",
       "      <td>...</td>\n",
       "      <td>0</td>\n",
       "      <td>0</td>\n",
       "      <td>0</td>\n",
       "      <td>0</td>\n",
       "      <td>0</td>\n",
       "      <td>0</td>\n",
       "      <td>0</td>\n",
       "      <td>0</td>\n",
       "      <td>0</td>\n",
       "      <td>0</td>\n",
       "    </tr>\n",
       "    <tr>\n",
       "      <th>31</th>\n",
       "      <td>0</td>\n",
       "      <td>0</td>\n",
       "      <td>0</td>\n",
       "      <td>0</td>\n",
       "      <td>0</td>\n",
       "      <td>0</td>\n",
       "      <td>0</td>\n",
       "      <td>0</td>\n",
       "      <td>0</td>\n",
       "      <td>0</td>\n",
       "      <td>...</td>\n",
       "      <td>0</td>\n",
       "      <td>0</td>\n",
       "      <td>0</td>\n",
       "      <td>0</td>\n",
       "      <td>0</td>\n",
       "      <td>0</td>\n",
       "      <td>0</td>\n",
       "      <td>0</td>\n",
       "      <td>0</td>\n",
       "      <td>0</td>\n",
       "    </tr>\n",
       "  </tbody>\n",
       "</table>\n",
       "<p>32 rows × 32 columns</p>\n",
       "</div>"
      ],
      "text/plain": [
       "    bin/sed  /etc/rc  /etc/init.d/  /proc/  /etc/sed  /selinux  /boot/  \\\n",
       "0         0        0             0       0         0         0       0   \n",
       "1         0        0             0       0         0         0       0   \n",
       "2         0        0             0       0         0         0       0   \n",
       "3         0        0             0       0         0         0       0   \n",
       "4         0        0             0       0         0         0       0   \n",
       "5         0        0             0       0         0         0       0   \n",
       "6         0        0             0       0         0         0       0   \n",
       "7         0        0             0       0         0         0       0   \n",
       "8         0        0             0       0         0         0       0   \n",
       "9         0        0             0       0         0         0       0   \n",
       "10        0        0             0       0         0         0       0   \n",
       "11        0        0             0       0         0         0       0   \n",
       "12        0        0             0       0         0         0       0   \n",
       "13        0        0             0       0         0         0       0   \n",
       "14        0        0             0       0         0         0       0   \n",
       "15        0        0             0       0         0         0       0   \n",
       "16        0        0             0       0         0         0       0   \n",
       "17        0        0             0       0         0         0       0   \n",
       "18        0        0             0       0         0         0       0   \n",
       "19        0        0             0       0         0         0       0   \n",
       "20        0        0             0       0         0         0       0   \n",
       "21        0        0             0       0         0         0       0   \n",
       "22        0        0             0       0         0         0       0   \n",
       "23        0        0             0       0         0         0       0   \n",
       "24        0        0             0       0         0         0       0   \n",
       "25        0        0             0       0         0         0       0   \n",
       "26        0        0             0       0         0         0       0   \n",
       "27        0        0             0       0         0         0       0   \n",
       "28        0        0             0       0         0         0       0   \n",
       "29        0        0             0       0         0         0       0   \n",
       "30        0        0             0       0         0         0       0   \n",
       "31        0        0             0       0         0         0       0   \n",
       "\n",
       "    /proc/rs_dev  /boot/[a-z]{10}  /run/  ...  ^pipe(\\$|\\.|$)  \\\n",
       "0              0                0      0  ...               0   \n",
       "1              0                0      0  ...               0   \n",
       "2              0                0      0  ...               0   \n",
       "3              0                0      0  ...               0   \n",
       "4              0                0      0  ...               0   \n",
       "5              0                0      0  ...               0   \n",
       "6              0                0      0  ...               0   \n",
       "7              0                0      0  ...               0   \n",
       "8              0                0      0  ...               0   \n",
       "9              0                0      0  ...               0   \n",
       "10             0                0      0  ...               0   \n",
       "11             0                0      0  ...               0   \n",
       "12             0                0      0  ...               0   \n",
       "13             0                0      0  ...               0   \n",
       "14             0                0      0  ...               0   \n",
       "15             0                0      0  ...               0   \n",
       "16             0                0      0  ...               0   \n",
       "17             0                0      0  ...               0   \n",
       "18             0                0      0  ...               0   \n",
       "19             0                0      0  ...               0   \n",
       "20             0                0      0  ...               0   \n",
       "21             0                0      0  ...               0   \n",
       "22             0                0      0  ...               0   \n",
       "23             0                0      0  ...               0   \n",
       "24             0                0      0  ...               0   \n",
       "25             0                0      0  ...               0   \n",
       "26             0                0      0  ...               0   \n",
       "27             0                0      0  ...               0   \n",
       "28             0                0      0  ...               0   \n",
       "29             0                0      0  ...               0   \n",
       "30             0                0      0  ...               0   \n",
       "31             0                0      0  ...               0   \n",
       "\n",
       "    \\d{1,3}\\.\\d{1,3}\\.\\d{1,3}\\.\\d{1,3}  [a-zA-z]:\\d{1,5}$  port \\d{1,5}$  \\\n",
       "0                                    0                  0              0   \n",
       "1                                    0                  0              0   \n",
       "2                                    0                  0              0   \n",
       "3                                    0                  0              0   \n",
       "4                                    0                  0              0   \n",
       "5                                    0                  0              0   \n",
       "6                                    0                  0              0   \n",
       "7                                    0                  0              0   \n",
       "8                                    0                  0              0   \n",
       "9                                    0                  0              0   \n",
       "10                                   0                  0              0   \n",
       "11                                   0                  0              0   \n",
       "12                                   0                  0              0   \n",
       "13                                   0                  0              0   \n",
       "14                                   0                  0              0   \n",
       "15                                   0                  0              0   \n",
       "16                                   0                  0              0   \n",
       "17                                   0                  0              0   \n",
       "18                                   0                  0              0   \n",
       "19                                   0                  0              0   \n",
       "20                                   0                  0              0   \n",
       "21                                   0                  0              0   \n",
       "22                                   0                  0              0   \n",
       "23                                   0                  0              0   \n",
       "24                                   0                  0              0   \n",
       "25                                   0                  0              0   \n",
       "26                                   0                  0              0   \n",
       "27                                   0                  0              0   \n",
       "28                                   0                  0              0   \n",
       "29                                   0                  0              0   \n",
       "30                                   0                  0              0   \n",
       "31                                   0                  0              0   \n",
       "\n",
       "    \\d{1,3}\\.\\d{1,3}\\.\\d{1,3}\\.\\d{1,3}:\\d{1,5}$  0x[0-9a-zA-Z]{8}  \\\n",
       "0                                             0                 0   \n",
       "1                                             0                 0   \n",
       "2                                             0                 0   \n",
       "3                                             0                 0   \n",
       "4                                             0                 0   \n",
       "5                                             0                 0   \n",
       "6                                             0                 0   \n",
       "7                                             0                 0   \n",
       "8                                             0                 0   \n",
       "9                                             0                 0   \n",
       "10                                            0                 0   \n",
       "11                                            0                 0   \n",
       "12                                            0                 0   \n",
       "13                                            0                 0   \n",
       "14                                            0                 0   \n",
       "15                                            0                 0   \n",
       "16                                            0                 0   \n",
       "17                                            0                 0   \n",
       "18                                            0                 0   \n",
       "19                                            0                 0   \n",
       "20                                            0                 0   \n",
       "21                                            0                 0   \n",
       "22                                            0                 0   \n",
       "23                                            0                 0   \n",
       "24                                            0                 0   \n",
       "25                                            0                 0   \n",
       "26                                            0                 0   \n",
       "27                                            0                 0   \n",
       "28                                            0                 0   \n",
       "29                                            0                 0   \n",
       "30                                            0                 0   \n",
       "31                                            0                 0   \n",
       "\n",
       "    UID(\\$|\\.|$)  GID(\\$|\\.|$)  permission(\\s|:)[0-9]{1,4}  match  \n",
       "0              0             0                           0      0  \n",
       "1              0             0                           0      0  \n",
       "2              0             0                           0      0  \n",
       "3              0             0                           0      0  \n",
       "4              0             0                           0      0  \n",
       "5              0             0                           0      0  \n",
       "6              0             0                           0      0  \n",
       "7              0             0                           0      0  \n",
       "8              0             0                           0      0  \n",
       "9              0             0                           0      0  \n",
       "10             0             0                           0      0  \n",
       "11             0             0                           0      0  \n",
       "12             0             0                           0      0  \n",
       "13             0             0                           0      0  \n",
       "14             0             0                           0      0  \n",
       "15             0             0                           0      0  \n",
       "16             0             0                           0      0  \n",
       "17             0             0                           0      0  \n",
       "18             0             0                           0      0  \n",
       "19             0             0                           0      0  \n",
       "20             0             0                           0      0  \n",
       "21             0             0                           0      0  \n",
       "22             0             0                           0      0  \n",
       "23             0             0                           0      0  \n",
       "24             0             0                           0      0  \n",
       "25             0             0                           0      0  \n",
       "26             0             0                           0      0  \n",
       "27             0             0                           0      0  \n",
       "28             0             0                           0      0  \n",
       "29             0             0                           0      0  \n",
       "30             0             0                           0      0  \n",
       "31             0             0                           0      0  \n",
       "\n",
       "[32 rows x 32 columns]"
      ]
     },
     "metadata": {},
     "output_type": "display_data"
    }
   ],
   "source": [
    "for rem in fset.rem_lst:\n",
    "    display(rem.get_match_sentences())\n",
    "    break"
   ]
  },
  {
   "cell_type": "code",
   "execution_count": null,
   "metadata": {},
   "outputs": [],
   "source": []
  }
 ],
 "metadata": {
  "kernelspec": {
   "display_name": "Python 3.10.5 64-bit",
   "language": "python",
   "name": "python3"
  },
  "language_info": {
   "codemirror_mode": {
    "name": "ipython",
    "version": 3
   },
   "file_extension": ".py",
   "mimetype": "text/x-python",
   "name": "python",
   "nbconvert_exporter": "python",
   "pygments_lexer": "ipython3",
   "version": "3.10.5"
  },
  "orig_nbformat": 4,
  "vscode": {
   "interpreter": {
    "hash": "125a1d8b627fe68767755740015967bae857d08bb92fb3fd0d9d8ed24f978d39"
   }
  }
 },
 "nbformat": 4,
 "nbformat_minor": 2
}
