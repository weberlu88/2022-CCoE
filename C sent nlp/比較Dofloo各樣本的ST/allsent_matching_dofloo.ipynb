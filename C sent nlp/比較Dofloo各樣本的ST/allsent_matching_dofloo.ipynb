{
 "cells": [
  {
   "cell_type": "code",
   "execution_count": 1,
   "metadata": {},
   "outputs": [],
   "source": [
    "import re\n",
    "import os\n",
    "from os import listdir\n",
    "from os.path import isfile, join\n",
    "from pathlib import Path\n",
    "import pandas as pd\n",
    "import pickle\n",
    "from typing import Dict, List, get_type_hints\n",
    "from styleframe import StyleFrame, Styler\n",
    "from IPython.display import display\n",
    "\n",
    "''' 自己寫的模組 '''\n",
    "from cc_regex_script import RegexMatchResult, RegexMaster \n",
    "from cc_nlp_script import find_verb_of_vocab, OperationMode, OperationEvaluator\n",
    "from cc_module_cust import AttackGraph, Node, Edge, FileTable #, build"
   ]
  },
  {
   "cell_type": "markdown",
   "metadata": {},
   "source": [
    "### Load 所有 Dofloo 的 object，計算並儲存其 regex"
   ]
  },
  {
   "cell_type": "code",
   "execution_count": 2,
   "metadata": {},
   "outputs": [
    {
     "name": "stdout",
     "output_type": "stream",
     "text": [
      "family Dofloo has numOfSample 13, first is 0046a78514a658b9b7a4e29e8581f85b\n",
      "samplename: ['0046a78514a658b9b7a4e29e8581f85b']\n"
     ]
    }
   ],
   "source": [
    "family = 'Dofloo' # Dofloo Xorddos\n",
    "\n",
    "sample_info = pd.read_csv('../../C malware info/sample_info.csv')\n",
    "dofloo_info = sample_info[(sample_info['family'] == family) & \n",
    "            (~sample_info['filename'].isin(['8845355172c485813872f1bb1834de15.bin']))]\n",
    "samplename_lst = dofloo_info['filename'].to_list()\n",
    "samplename_lst = [name.split('.')[0] for name in samplename_lst]\n",
    "print(f\"family {family} has numOfSample {len(samplename_lst)}, first is {samplename_lst[0]}\")\n",
    "\n",
    "if family == 'Dofloo':\n",
    "    samplename_lst = ['0046a78514a658b9b7a4e29e8581f85b'] # 只先使用這個 dof sample\n",
    "if family == 'Xorddos':\n",
    "    samplename_lst = ['0aefb67c01a24d05351b093455203fa2'] # 只先使用這個 xor sample\n",
    "\n",
    "print('samplename:', samplename_lst)"
   ]
  },
  {
   "cell_type": "code",
   "execution_count": 3,
   "metadata": {},
   "outputs": [
    {
     "name": "stdout",
     "output_type": "stream",
     "text": [
      "True\n",
      "{<OP act=a, obj=a>}\n"
     ]
    }
   ],
   "source": [
    "class OperationPair:\n",
    "    SYSCALL = 0\n",
    "    VERB = 1\n",
    "\n",
    "    def __init__(self, action:str, object:str, type:int=0, subject:str=None, step_number:int=None, original_object=None, original_sentence=None):\n",
    "        self.object = object # regex\n",
    "        self.action = action # verb or syscall\n",
    "        self.type = type\n",
    "        self.subject = subject\n",
    "        self.step_number = step_number\n",
    "        self.original_object = original_object # can store original matched word (object) from CTD\n",
    "        self.original_sentence = original_sentence # can store the mathced sentence\n",
    "        pass\n",
    "\n",
    "    def __eq__(self, other): \n",
    "        if not isinstance(other, OperationPair):\n",
    "            # don't attempt to compare against unrelated types\n",
    "            return NotImplemented\n",
    "        # Same if <action, object> pair is same (type is not consider yet)\n",
    "        return self.action == other.action and self.object == other.object\n",
    "\n",
    "    def __hash__(self) -> int:\n",
    "        # necessary for instances to behave sanely in dicts and sets.\n",
    "        return hash((self.action, self.object))\n",
    "\n",
    "    def __str__(self) -> str:\n",
    "        return f\"<OP act={self.action}, obj={self.object}>\"\n",
    "    def __repr__(self) -> str:\n",
    "        return str(self)\n",
    "        \n",
    "# test case\n",
    "p_aa = OperationPair('a','a')\n",
    "p_aaz = OperationPair('a','a')\n",
    "p_ab = OperationPair('a','b')\n",
    "\n",
    "print(p_aa == p_aaz) # True\n",
    "print(set([p_aa, p_aaz])) # one element\n",
    "\n",
    "def construct_sample_OPset(step_list: list, keep_src_node=False, debug=False, rt_order=True) -> set:\n",
    "    '''return a list of OPset. RegexMaster and family are gobal variable.'''\n",
    "    if debug:\n",
    "        print('step_list len:', len(set(step_list)))\n",
    "    OPlst_raw = list((src_node.name, dst_node.name, syscall) for (src_node, dst_node, syscall) in step_list) # object is raw\n",
    "    OPset_raw = list(dict.fromkeys(OPlst_raw))\n",
    "    if debug:\n",
    "        print('OPlst_raw len:', len(OPlst_raw)) # why len is 123100? (while step_list len is 7775) (must be equal)\n",
    "        print(f\"OPlst_raw: {OPlst_raw[:10]}\")\n",
    "        print('OPset_raw len:', len(OPset_raw)) # len is 5925 for xor\n",
    "        print(f\"OPset_raw: {OPset_raw[:10]}\")\n",
    "    regexMaster = RegexMaster(familyname=family)\n",
    "    regex_pool = regexMaster.get_all_regex()\n",
    "    OPset = set()\n",
    "    OPset_ordered = list()\n",
    "    for (src_node, dst_node, syscall) in OPset_raw:\n",
    "        regex_dst_node_list = RegexMaster.find_spacial_token_with_regex(regex_pool, dst_node)\n",
    "        if regex_dst_node_list is None or len(regex_dst_node_list) == 0:\n",
    "            continue\n",
    "        for regex_result in regex_dst_node_list:\n",
    "            dst_node = regex_result.match_regex\n",
    "            if keep_src_node:\n",
    "                op = OperationPair(syscall, dst_node, subject=src_node)\n",
    "                OPset.add(op) # keep src_node in OP\n",
    "                if op not in OPset_ordered:\n",
    "                    OPset_ordered.append(op)\n",
    "            else:\n",
    "                op = OperationPair(syscall, dst_node)\n",
    "                OPset.add(op) # only dst_node, syscall in OP\n",
    "                if op not in OPset_ordered:\n",
    "                    OPset_ordered.append(op)\n",
    "    if debug:\n",
    "        print('OPset len:', len(OPset), 'OPset_ordered len:', len(OPset_ordered))\n",
    "    if rt_order:\n",
    "        return OPset, OPset_ordered\n",
    "    return OPset\n",
    "\n",
    "# def construct_sample_stepList(step_list: list, keep_src_node=False, debug=False) -> list:\n",
    "#     ''''''\n",
    "#     pass\n",
    "\n",
    "# test\n",
    "# sample_OPset = construct_sample_OPset(asg.step_list, debug=True)"
   ]
  },
  {
   "cell_type": "code",
   "execution_count": 4,
   "metadata": {},
   "outputs": [
    {
     "name": "stdout",
     "output_type": "stream",
     "text": [
      "Exam: sample S1 matches 23 of regex\n",
      "Size of regex_pool: 23, size of total_used_regex: 0\n"
     ]
    }
   ],
   "source": [
    "class Sample:\n",
    "    def __init__(self, samplename:str, regex_set:set=None, special_token_dict=None, step_list=None) -> None:\n",
    "        self.samplename: str = samplename\n",
    "        self.regex_set: set = set()\n",
    "        if regex_set:\n",
    "            self.regex_set = regex_set\n",
    "        self.special_token_dict = {}\n",
    "        if special_token_dict:\n",
    "            self.special_token_dict: dict = special_token_dict # list of dict\n",
    "        if step_list:\n",
    "            self.step_list = step_list\n",
    "            OPset, OPset_ordered = construct_sample_OPset(step_list)\n",
    "            self.OPset: set[OperationPair] = OPset\n",
    "            self.OPset_ordered: list[OperationPair] = OPset_ordered # 依照出現順序排序的 OPset (元素相同順序不同)\n",
    "            self.OPset_sysOnly_ordered = [] # 尚未初始化 只儲存改變系統狀態的 OP 的物件\n",
    "            self.OPset_sysOnly_ordered_index = [] # 尚未初始化 只儲存改變系統狀態的 OP 的 index\n",
    "            del OPset, OPset_ordered\n",
    "        pass\n",
    "    def __repr__(self) -> str:\n",
    "        return f\"<Sample self.samplename>\"\n",
    "\n",
    "''' 讀取 ASG 中的 set_of_object (就是這個樣本的 special_token_dict)，並歸納樣本的 regex_set '''\n",
    "regexMaster = RegexMaster(familyname=family)\n",
    "regex_pool = regexMaster.get_all_regex()\n",
    "# total_used_regex = set()\n",
    "samples: list[Sample] = []\n",
    "for samplename in samplename_lst:\n",
    "    with open(f'../../C ASG statistics 1115ver/saved_pkl/{family}/{samplename}.pkl', 'rb') as inp:\n",
    "        asg: AttackGraph = pickle.load(inp) # asg.set_of_object is dict() (key:spacial token, value: type 首字大寫)\n",
    "        sample = Sample(samplename, special_token_dict=asg.set_of_object, step_list=asg.step_list)\n",
    "        sample.regex_set = set(regex_pool) # 直接使用志剛寫的作為這個樣本的 baseline\n",
    "        # for obj in sample.special_token_dict.keys():\n",
    "        #     matched_list: list[RegexMatchResult] = regexMaster.find_spacial_token(obj)\n",
    "        #     if matched_list:\n",
    "        #         # print(obj, matched_list)\n",
    "        #         [sample.regex_set.add(m.match_regex) for m in matched_list]\n",
    "        #         # [total_used_regex.add(m.match_regex) for m in matched_list]\n",
    "        # print('------', sample.regex_set)\n",
    "        # break\n",
    "        samples.append(sample)\n",
    "    # del asg\n",
    "print(f'Exam: sample S1 matches {len(samples[0].regex_set)} of regex')\n",
    "print(f'Size of regex_pool: {len(regex_pool)}, size of total_used_regex: {len(regexMaster.used_regex_set)}')"
   ]
  },
  {
   "cell_type": "code",
   "execution_count": 5,
   "metadata": {},
   "outputs": [
    {
     "data": {
      "text/plain": [
       "set()"
      ]
     },
     "execution_count": 5,
     "metadata": {},
     "output_type": "execute_result"
    }
   ],
   "source": [
    "# 只差這四個不在 asg set_of_object 中 {'0x[0-9a-zA-Z]{8}', 'GID', 'UID', 'port \\\\d{1,5}$'}\n",
    "set(regex_pool) - samples[0].regex_set"
   ]
  },
  {
   "cell_type": "code",
   "execution_count": 6,
   "metadata": {},
   "outputs": [
    {
     "data": {
      "text/plain": [
       "' Save result to txt file 沒事不要 run ! '"
      ]
     },
     "execution_count": 6,
     "metadata": {},
     "output_type": "execute_result"
    }
   ],
   "source": [
    "''' Save result to txt file 沒事不要 run ! '''\n",
    "# total_regex = set()\n",
    "# with open('./result/countof_regexset.txt', 'w', encoding='utf-8') as opf:\n",
    "#     # header\n",
    "#     opf.write('{:12s}'.format('Sample no.'))\n",
    "#     for i in range(len(samples)):\n",
    "#         if i+1 < 10:\n",
    "#             opf.write(f' S{i+1} ')\n",
    "#         else:\n",
    "#             opf.write(f'S{i+1} ')\n",
    "#     opf.write('\\n')\n",
    "#     # opf.write('{:12s}'.format('# of regex'))\n",
    "#     num_of_regex_string = '{:12s}'.format('# of regex')\n",
    "#     num_of_objects_string = '{:12s}'.format('# of object ') # 所有的類別喔! 無過濾\n",
    "#     for i in range(len(samples)):\n",
    "#         # opf.write(f'{len(samples[i].regex_set):>3} ')\n",
    "#         num_of_regex_string += f'{len(samples[i].regex_set):>3} '\n",
    "#         num_of_objects_string += f'{len(samples[i].special_token_dict):>3} '\n",
    "#     opf.write(num_of_objects_string+'\\n')\n",
    "#     opf.write(num_of_regex_string)\n",
    "#     opf.write('\\n{:12s}'.format('Sample hash'))\n",
    "#     for i in range(len(samples)):\n",
    "#         opf.write(f'{samples[i].samplename[:3]:>3} ')\n",
    "#     opf.write('\\n\\n')\n",
    "#     opf.write(f'Size of regex_pool: {len(regex_pool)}, size of total_used_regex: {len(regexMaster.used_regex_set)}\\n\\n')\n",
    "\n",
    "#     # content of each sample\n",
    "#     for i,s in enumerate(samples):\n",
    "#         content_1 = f\"S{i+1} has {len(s.regex_set)} of regex\\n\"\n",
    "#         content_2 = f\"regex_set: {s.regex_set}\\n\"\n",
    "#         content_3 = f\"special_token_dict: {s.special_token_dict.keys()}\\n\"\n",
    "#         opf.writelines([content_1, content_2, content_3])\n",
    "#         opf.write('\\n\\n')"
   ]
  },
  {
   "cell_type": "markdown",
   "metadata": {},
   "source": [
    "### Load Reports"
   ]
  },
  {
   "cell_type": "code",
   "execution_count": 7,
   "metadata": {},
   "outputs": [
    {
     "data": {
      "text/plain": [
       "['Dofloo-BleepingComputer.csv',\n",
       " 'Dofloo-MalwareMustDie.csv',\n",
       " 'Dofloo-Securityaffairs.csv',\n",
       " 'Dofloo-SyscallParty.csv',\n",
       " 'Dofloo-Trendmicro.csv']"
      ]
     },
     "execution_count": 7,
     "metadata": {},
     "output_type": "execute_result"
    }
   ],
   "source": [
    "report_fir_path = '../../C parse report/sentence csvs/'\n",
    "# family, samplename, outputfolder = 'Xorddos', '???', './result'\n",
    "outputfolder = './result'\n",
    "\n",
    "def get_all_filenames(dir: str='./') -> list:\n",
    "    ''' traverse root directory, and list directories as dirs and files as files. Return filenames in rootdir. '''\n",
    "    files = [f for f in listdir(dir) if isfile(join(dir, f))]\n",
    "    files.sort()\n",
    "    return files\n",
    "\n",
    "xor_report_names = [f for f in get_all_filenames(report_fir_path) if f.startswith(family)] # 只選擇這個家族的報告\n",
    "xor_report_dfs = [pd.read_csv(f\"{report_fir_path}{f}\") for f in xor_report_names]\n",
    "xor_report_names"
   ]
  },
  {
   "cell_type": "code",
   "execution_count": 8,
   "metadata": {},
   "outputs": [
    {
     "data": {
      "text/html": [
       "<div>\n",
       "<style scoped>\n",
       "    .dataframe tbody tr th:only-of-type {\n",
       "        vertical-align: middle;\n",
       "    }\n",
       "\n",
       "    .dataframe tbody tr th {\n",
       "        vertical-align: top;\n",
       "    }\n",
       "\n",
       "    .dataframe thead th {\n",
       "        text-align: right;\n",
       "    }\n",
       "</style>\n",
       "<table border=\"1\" class=\"dataframe\">\n",
       "  <thead>\n",
       "    <tr style=\"text-align: right;\">\n",
       "      <th></th>\n",
       "      <th>Number</th>\n",
       "      <th>Content</th>\n",
       "    </tr>\n",
       "  </thead>\n",
       "  <tbody>\n",
       "    <tr>\n",
       "      <th>0</th>\n",
       "      <td>Sentence 1</td>\n",
       "      <td>exposed docker apis abused by ddos, cryptojack...</td>\n",
       "    </tr>\n",
       "    <tr>\n",
       "      <th>1</th>\n",
       "      <td>Sentence 2</td>\n",
       "      <td>the dofloo (aka aesddos) malware was first det...</td>\n",
       "    </tr>\n",
       "    <tr>\n",
       "      <th>2</th>\n",
       "      <td>Sentence 3</td>\n",
       "      <td>misconfigured docker services being abused is ...</td>\n",
       "    </tr>\n",
       "    <tr>\n",
       "      <th>3</th>\n",
       "      <td>Sentence 4</td>\n",
       "      <td>allowing external access — whether intentional...</td>\n",
       "    </tr>\n",
       "    <tr>\n",
       "      <th>4</th>\n",
       "      <td>Sentence 5</td>\n",
       "      <td>query to list all available containers\\nthe at...</td>\n",
       "    </tr>\n",
       "    <tr>\n",
       "      <th>5</th>\n",
       "      <td>Sentence 6</td>\n",
       "      <td>the dofloo botnet malware is subsequently depl...</td>\n",
       "    </tr>\n",
       "    <tr>\n",
       "      <th>6</th>\n",
       "      <td>Sentence 7</td>\n",
       "      <td>system information is also collected by the tr...</td>\n",
       "    </tr>\n",
       "    <tr>\n",
       "      <th>7</th>\n",
       "      <td>Sentence 8</td>\n",
       "      <td>dofloo (aesddos) malware executing remote shel...</td>\n",
       "    </tr>\n",
       "    <tr>\n",
       "      <th>8</th>\n",
       "      <td>Sentence 9</td>\n",
       "      <td>previous dofloo and docker attacks\\ndofloo was...</td>\n",
       "    </tr>\n",
       "    <tr>\n",
       "      <th>9</th>\n",
       "      <td>Sentence 10</td>\n",
       "      <td>exposed docker apis were abused by other malic...</td>\n",
       "    </tr>\n",
       "    <tr>\n",
       "      <th>10</th>\n",
       "      <td>Sentence 11</td>\n",
       "      <td>cryptojacking operations have also actively ta...</td>\n",
       "    </tr>\n",
       "    <tr>\n",
       "      <th>11</th>\n",
       "      <td>Sentence 12</td>\n",
       "      <td>further back, in october 2018 and march 2018, ...</td>\n",
       "    </tr>\n",
       "    <tr>\n",
       "      <th>12</th>\n",
       "      <td>Sentence 13</td>\n",
       "      <td>securing docker servers\\nwhile docker engine a...</td>\n",
       "    </tr>\n",
       "    <tr>\n",
       "      <th>13</th>\n",
       "      <td>Sentence 14</td>\n",
       "      <td>to make sure that their docker hosts are secur...</td>\n",
       "    </tr>\n",
       "    <tr>\n",
       "      <th>14</th>\n",
       "      <td>Sentence 15</td>\n",
       "      <td>related articles:\\nnew chaos malware infects w...</td>\n",
       "    </tr>\n",
       "  </tbody>\n",
       "</table>\n",
       "</div>"
      ],
      "text/plain": [
       "         Number                                            Content\n",
       "0    Sentence 1  exposed docker apis abused by ddos, cryptojack...\n",
       "1    Sentence 2  the dofloo (aka aesddos) malware was first det...\n",
       "2    Sentence 3  misconfigured docker services being abused is ...\n",
       "3    Sentence 4  allowing external access — whether intentional...\n",
       "4    Sentence 5  query to list all available containers\\nthe at...\n",
       "5    Sentence 6  the dofloo botnet malware is subsequently depl...\n",
       "6    Sentence 7  system information is also collected by the tr...\n",
       "7    Sentence 8  dofloo (aesddos) malware executing remote shel...\n",
       "8    Sentence 9  previous dofloo and docker attacks\\ndofloo was...\n",
       "9   Sentence 10  exposed docker apis were abused by other malic...\n",
       "10  Sentence 11  cryptojacking operations have also actively ta...\n",
       "11  Sentence 12  further back, in october 2018 and march 2018, ...\n",
       "12  Sentence 13  securing docker servers\\nwhile docker engine a...\n",
       "13  Sentence 14  to make sure that their docker hosts are secur...\n",
       "14  Sentence 15  related articles:\\nnew chaos malware infects w..."
      ]
     },
     "execution_count": 8,
     "metadata": {},
     "output_type": "execute_result"
    }
   ],
   "source": [
    "xor_report_dfs[0]"
   ]
  },
  {
   "cell_type": "markdown",
   "metadata": {},
   "source": [
    "### 單篇文章的 Class 和 整個 Family 的 Class\n",
    "`baseline: Dict[str, list]` 改為 `regexMaster: RegexMaster`"
   ]
  },
  {
   "cell_type": "code",
   "execution_count": 9,
   "metadata": {},
   "outputs": [],
   "source": [
    "class ReportEvalModel:\n",
    "    def __init__(self, regex_set: set, sentences: pd.DataFrame, reportname:str=''):\n",
    "        self.regex_pool: set[str] = regex_set # 樣本or家族含有的 regex 集合\n",
    "        self.sentences = sentences # a df\n",
    "        self.reportname = reportname\n",
    "        cols = list(regex_pool)\n",
    "        self.match_tbl = pd.DataFrame([[0]*len(cols)]*len(sentences), columns=cols)\n",
    "        self.match_word:dict[(int,str), str] = dict() # key(idx_sent,regex) value(word:str)\n",
    "        self.match_regex = set()\n",
    "        self.doc_OPset:set[OperationPair] = set() # Set of doc's OperationalPair\n",
    "        self.match_doc_OPset:set[OperationPair] = set()\n",
    "        self.OPset_order_index = [] # 紀錄 ASG OP 的出現順序 (lifecycle)\n",
    "        self.SysOPset_order_index = [] # 只紀錄改變系統的\n",
    "        # self.asgSysOPset_order_index = []\n",
    "        # self.regexMaster = regexMaster # 其實應該用 class function 就不用傳入一個物件\n",
    "        self.match()\n",
    "\n",
    "    def match(self) -> None:\n",
    "        '''find baseline in sentences of report. Fill matching result in self.match_tbl.'''\n",
    "        sentence_list = self.sentences['Content']\n",
    "        for idx_sent, sent in enumerate(sentence_list):\n",
    "            # print(idx_sent, sent)\n",
    "            # find regexs in a sentence\n",
    "            matched_list: list[RegexMatchResult] = RegexMaster.find_spacial_token_with_regex(self.regex_pool, sent)\n",
    "            if not matched_list:\n",
    "                continue\n",
    "            for m in matched_list:\n",
    "                this_re = m.match_regex\n",
    "                matched_word = m.word\n",
    "                self.match_word[(idx_sent,this_re)] = m.word # 紀錄被 search 到的單字\n",
    "                # self.match_tbl.loc[idx_sent,this_re] = 1 # mark as found 節省空間\n",
    "                self.match_regex.add(this_re)\n",
    "                en_verb = find_verb_of_vocab(sent, m.word)\n",
    "                # print(f\"---\\nen_verb: {en_verb}, m.word: {m.word}, sent: {sent}\") # 列印所有動詞抓取情形\n",
    "                if en_verb:\n",
    "                    self.doc_OPset.add(OperationPair(en_verb, this_re, type=OperationPair.VERB, original_object=m.word)) # has verb\n",
    "                else:\n",
    "                    self.doc_OPset.add(OperationPair(None, this_re, type=OperationPair.VERB, original_object=m.word)) # no verb\n",
    "        pass\n",
    "    \n",
    "    def get_match_sentences(self) -> pd.DataFrame:\n",
    "        result = self.match_tbl.copy()\n",
    "        result['match'] = result.sum(axis=1)\n",
    "        return result\n",
    "    \n",
    "    def get_match_regexs(self) -> set:\n",
    "        return self.match_regex\n",
    "\n",
    "    def get_match_word(self, idx_sent:int, regex:str) -> str:\n",
    "        return self.match_word[(idx_sent, regex)]\n",
    "\n",
    "class FamilySet:\n",
    "    '''一個 malware family report 集合'''\n",
    "    def __init__(self, familyname:str, regexMaster: RegexMaster, sample: Sample=None):\n",
    "        self.familyname = familyname\n",
    "        self.regexMaster = regexMaster\n",
    "        self.num_of_used_regex = len(regexMaster.used_regex_set) # 這個家族含規則的總數量 (unoin by all samples)\n",
    "        self.sample = None\n",
    "        if sample:\n",
    "            self.sample = sample\n",
    "            self.num_of_used_regex = len(sample.regex_set) # 改以這個樣本規則的總數量為基準\n",
    "        self.rem_lst: List[ReportEvalModel] = [] # list of ReportEvalModel under this family\n",
    "        self.result_tbl = None\n",
    "\n",
    "    def add_rem(self, sentences: pd.DataFrame, reportname: str=''):\n",
    "        '''新增 report 到 FamilySet 中，需傳入文本和報告名稱，會沿用 FamilySet 的 baseline.'''\n",
    "        if self.sample:\n",
    "            rem = ReportEvalModel(list(self.sample.regex_set), sentences, reportname) # 基準是 Sample\n",
    "            self.rem_lst.append(rem)\n",
    "            return\n",
    "        rem = ReportEvalModel(self.regexMaster, sentences, reportname) # 基準是 Family union # need fix -> no first arg now\n",
    "        self.rem_lst.append(rem)\n",
    "\n",
    "    def calc_report_coverage_score(self, match_regexs: list[str], apply_weight=False) -> float:\n",
    "        '''計算這篇報告的 coverage_score，未處理分母為0之情形'''\n",
    "        if not apply_weight:\n",
    "            return len(match_regexs) / self.num_of_used_regex # 無權種的算法，分母是家族 wide\n",
    "        ''' 以下 有權重的算法尚未修改，必出 bug '''\n",
    "        # denominator = sum(self.regexMaster['weight']) # 分母\n",
    "        # numerator = 0 # 分子\n",
    "        # for b, w in zip(self.regexMaster['text'], self.regexMaster['weight']):\n",
    "        #     if b in match_baselines:\n",
    "        #         numerator += w\n",
    "        # return numerator/denominator\n",
    "\n",
    "    def show_result(self, apply_weight: bool=False, base_on_sample = True):\n",
    "        '''print and return result table. baselinse(x) * report(y).'''\n",
    "        column_names = ['report_name','ttl_match','coverage_score']\n",
    "        if base_on_sample:\n",
    "            column_names.extend(list(self.sample.regex_set))\n",
    "        else:\n",
    "            column_names.extend(list(regexMaster.used_regex_set))\n",
    "        result_tbl = pd.DataFrame([[0]*len(column_names)]*len(self.rem_lst), columns=column_names)\n",
    "        for i,rem in enumerate(self.rem_lst):\n",
    "            match_regexes = rem.get_match_regexs() # 這篇報告含有哪些 baseine:set\n",
    "            c_score = self.calc_report_coverage_score(match_regexes, apply_weight=apply_weight)\n",
    "            result_tbl.loc[i,'report_name'] = rem.reportname\n",
    "            result_tbl.loc[i,'ttl_match'] = len(match_regexes)\n",
    "            result_tbl.loc[i,'coverage_score'] = f'{c_score:.4}'\n",
    "            for b in match_regexes:\n",
    "                result_tbl.loc[i,b] = 1\n",
    "            print(rem.reportname, match_regexes)\n",
    "        display(result_tbl)\n",
    "        return result_tbl"
   ]
  },
  {
   "attachments": {},
   "cell_type": "markdown",
   "metadata": {},
   "source": [
    "### Run Script: 存檔每篇報告的 matched sentence (以樣本的 regex set 為基準)\n",
    "比較樣本間的辨別度，有 n 個樣本，就會跑 n 變，得出 n 個結果 (FanilySet)"
   ]
  },
  {
   "cell_type": "code",
   "execution_count": 36,
   "metadata": {},
   "outputs": [],
   "source": [
    "import os, psutil\n",
    "def print_mem_usage():\n",
    "    process = psutil.Process(os.getpid())\n",
    "    mem_usage = psutil.Process(os.getpid()).memory_info().rss / 1024 ** 2\n",
    "    print(f\"=== mem_usage: {mem_usage:.2f} MB ===\")  # in MiB \n",
    "\n",
    "def get_mem_usage() -> int:\n",
    "    # process = psutil.Process(os.getpid())\n",
    "    mem_usage = psutil.Process(os.getpid()).memory_info().rss / 1024 ** 2\n",
    "    return mem_usage\n",
    "\n",
    "def run_family_set_procedure(sample: Sample) -> FamilySet:\n",
    "    # family, regexMaster is global variable\n",
    "    fset = FamilySet(family, regexMaster, sample=sample)\n",
    "    for i,rdf in enumerate(xor_report_dfs):\n",
    "        # rem = ReportEvalModel(base_data, rdf, dofloo_report_names[i])\n",
    "        fset.add_rem(rdf, xor_report_names[i])\n",
    "    # result_tbl = fset.show_result(apply_weight=False)\n",
    "    # result_tbl.to_csv(f'{outputfolder}/{family}_{sample.samplename[:3]}_FamilySet_by_Regex.csv', index=False)\n",
    "    # print(f\"Sample {sample.samplename[:3]} has ttl_match {result_tbl['ttl_match'].sum()} on all documents.\") \n",
    "\n",
    "    # Calculate metrics\n",
    "    print_mem_usage()\n",
    "    print(f\"asg_object: {set([op.object for op in sample.OPset])}\\n\")\n",
    "    fset.sample.OPset_sysOnly_ordered = [op for op in sample.OPset if op.object.find('/etc') != -1]\n",
    "    fset.sample.OPset_sysOnly_ordered_index = [sample.OPset_ordered.index(op) for op in fset.sample.OPset_sysOnly_ordered]\n",
    "    for idx_rem, rem in enumerate(fset.rem_lst):\n",
    "        # asg_object = set([op.object for op in sample.OPset])\n",
    "        # ctd_object = set([op.object for op in rem.doc_OPset])\n",
    "        if rem.reportname == 'Xorddos-Microsoft.csv': # 除錯用\n",
    "            continue\n",
    "        print(f\"\\nSample {rem.reportname}\")\n",
    "        print(f\"\\tlenght of ctd's OPset is {len(rem.doc_OPset)}\")\n",
    "\n",
    "        # R_malObj 比較物件\n",
    "        asg_object = set([op.object for op in sample.OPset])\n",
    "        ctd_object = set([op.object for op in rem.doc_OPset])\n",
    "        ctd_object = ctd_object.intersection(asg_object)\n",
    "        numerator = len(ctd_object) # 分子\n",
    "        denominator = len(asg_object) # 分母\n",
    "        R_malObj = 0 if denominator == 0 else numerator/denominator\n",
    "        print(f\"\\t#R_malObj\\n\\tnum of ctd objects: {numerator}, num of asg objects: {denominator}. R_malObj is {R_malObj:.4f}\")\n",
    "        print(f\"\\t\\tctd_object: {ctd_object}\")\n",
    "\n",
    "        # R_malSysObj 比較系統物件\n",
    "        asg_sysobj = list(filter(lambda object: object.find('/etc') != -1, asg_object))\n",
    "        ctd_sysobj = list(filter(lambda object: object.find('/etc') != -1, ctd_object))\n",
    "        numerator = len(ctd_sysobj)\n",
    "        denominator = len(asg_sysobj)\n",
    "        R_malSysObj = 0 if denominator == 0 else numerator/denominator\n",
    "        print(f\"\\t#R_malSysObj\\n\\tnum of ctd objects: {numerator}, num of asg objects: {denominator}. R_malSysObj is {R_malSysObj:.4f}\")\n",
    "\n",
    "        # R_malOps 比較動作和物件\n",
    "        asg_OPset = list(sample.OPset)\n",
    "        ctd_OPset = list(rem.doc_OPset)\n",
    "        operationEvaluator = OperationEvaluator()\n",
    "        numerator, denominator, hits = 0, len(asg_OPset), []\n",
    "        print(f\"\\tlen(asg_OPset): {len(asg_OPset)}, len(ctd_OPset): {len(ctd_OPset)}\")\n",
    "        # 每一個 asg_op 跟所有同物件的的 ctd_op 進行 resolve() 比對，來判斷此 asg_op 是否被提及\n",
    "        i = 0\n",
    "        for idx_asg, asg_op in enumerate(asg_OPset): \n",
    "            i += 1\n",
    "            # print(f\"\\tno.{i} asg_op {asg_op}\") # 瓶頸卡在 no.51 step (total 71 step)\n",
    "            target_obj = asg_op.object\n",
    "            ctdSameObjOpsIdx = [i for i, x in enumerate(ctd_OPset) if x.object == target_obj]\n",
    "            # if i==51:\n",
    "            # print(f\"\\tno.{i} | asg_op {asg_op}, len of ctdSameObjOpsIdx: {ctdSameObjOpsIdx}\")\n",
    "            # ctdSameObjOps = [x for x in ctd_OPset if x.object == target_obj]\n",
    "            for idx in ctdSameObjOpsIdx:\n",
    "                pass\n",
    "                # mem_before_create_lst = get_mem_usage()\n",
    "                # print(\"\\tbefore resolve\", mem_before_create_lst)\n",
    "                hit = operationEvaluator.resolve(asg_op.action, ctd_OPset[idx].action)\n",
    "                # # print_mem_usage()\n",
    "                # mem_after_create_lst = get_mem_usage()\n",
    "                # # print(f\"\\t=== diff of mem_usage calling resolve(): {mem_after_create_lst - mem_before_create_lst:.2f}  ===\")\n",
    "        \n",
    "                if hit:\n",
    "                    numerator += 1\n",
    "                    hits.append((asg_OPset[idx_asg], ctd_OPset[idx]))\n",
    "                    fset.rem_lst[idx_rem].match_doc_OPset.add(ctd_OPset[idx])\n",
    "\n",
    "                    # 紀錄CTD的生命週期 (ASG_OP提及順序)\n",
    "                    step_num = sample.OPset_ordered.index(asg_op) # index of step, throw ValueError if not found\n",
    "                    fset.rem_lst[idx_rem].OPset_order_index.append(step_num)\n",
    "                    break\n",
    "        R_malOps = 0 if denominator == 0 else numerator/denominator\n",
    "        print(f\"\\t#R_malOps\\n\\tnum of matched asg op: {numerator}, num of asg op: {denominator}. R_malOps is {R_malOps:.4f}\")\n",
    "        print(f\"\\t\\trefered lifecycle: {fset.rem_lst[idx_rem].OPset_order_index}\")\n",
    "\n",
    "        # 紀錄CTD的生命週期 (OP提及順序)\n",
    "        # fset.rem_lst[idx_rem].OPset_order_index.clear()\n",
    "        # for ctd_op in fset.rem_lst[idx_rem].match_doc_OPset:\n",
    "        #     step_num = sample.OPset_ordered.index(ctd_op) # index of step, throw ValueError if not found\n",
    "        #     fset.rem_lst[idx_rem].OPset_order_index.append(step_num)\n",
    "\n",
    "        # R_malChangeOps 篩選出系統物件的動作\n",
    "        sys_hits = [pair for pair in hits if pair[0].object.find('/etc') != -1]\n",
    "        numerator = len(sys_hits)\n",
    "        sys_asg_OPset = [op for op in asg_OPset if op.object.find('/etc') != -1]\n",
    "        # print('sys_asg_OPset is unique:', len(sample.OPset_ordered) == len(set(sample.OPset_ordered))) # 元速度重複沒錯，可能是 index() 的問題\n",
    "        print(f\"\\t\\tsys_asg_OPset: {sys_asg_OPset}\")\n",
    "        denominator = len(sys_asg_OPset)\n",
    "        R_malChangeOps = 0 if denominator == 0 else numerator/denominator\n",
    "        print(f\"\\t#R_malChangeOps\\n\\tnum of matched asg op: {numerator}, num of asg op: {denominator}. R_malChangeOps is {R_malChangeOps:.4f}\")\n",
    "\n",
    "        # 紀錄CTD的生命週期 (OP提及順序)\n",
    "        fset.rem_lst[idx_rem].SysOPset_order_index.clear()\n",
    "        for asg_op , ctd_op in sys_hits:\n",
    "            step_num = sample.OPset_ordered.index(asg_op) # step index , throw ValueError if not found\n",
    "            fset.rem_lst[idx_rem].SysOPset_order_index.append(step_num)\n",
    "        print(f\"\\t\\tref-sys lifecycle: {fset.rem_lst[idx_rem].SysOPset_order_index}\")\n",
    "\n",
    "        if hits:\n",
    "            print(\"\\n\\thits\")\n",
    "            for asg_op, ctd_op in hits:\n",
    "                print(f\"\\t{asg_op}, {ctd_op}\")\n",
    "        if sys_hits:\n",
    "            print(\"\\n\\tsys_hits\")\n",
    "            for asg_op, ctd_op in sys_hits:\n",
    "                print(f\"\\t{asg_op}, {ctd_op}\")\n",
    "\n",
    "        # print_mem_usage()\n",
    "        # del asg_OPset, ctd_OPset, hits, sys_hits\n",
    "\n",
    "    return fset"
   ]
  },
  {
   "cell_type": "code",
   "execution_count": 37,
   "metadata": {},
   "outputs": [],
   "source": [
    "def save_match_sent_to_excel(fset: FamilySet, sample_name=None):\n",
    "    columns = ['report','regex','matched word','sentence number','sentence']\n",
    "    if sample_name:\n",
    "        output_xlsx = f'{outputfolder}/{family}_{sample_name[:3]}_report_match_sent.csv'\n",
    "    else:\n",
    "        output_xlsx = f'{outputfolder}/{family}_union_report_match_sent.csv'\n",
    "    has_match = sum([len(rem.get_match_regexs()) for rem in fset.rem_lst])\n",
    "    if has_match == 0:\n",
    "        print('no matches in CTI reports') # with open 一定要寫入，若全空則直接不開檔\n",
    "        return\n",
    "    # with pd.ExcelWriter(output_xlsx, engine='openpyxl') as writer:\n",
    "    \n",
    "    # 遍歷報告，一個 rem: ReportEvalModel 代表一篇報告\n",
    "    csv_data = []\n",
    "    match_sentence_ttlcnt = 0\n",
    "    for rem in fset.rem_lst:\n",
    "        reportname = rem.reportname.split('.')[0]\n",
    "        if len(rem.get_match_regexs()) == 0: # 如果報告中無 regex 跳過不紀錄\n",
    "            continue\n",
    "        # sheet_data = [] # shape = columns_len * match_sent_len\n",
    "        sent_df = rem.get_match_sentences()\n",
    "        sent_content_lst = rem.sentences['Content'] # 報告中的每個句子\n",
    "        match_sentence_ttlcnt += sent_df['match'].sum()\n",
    "\n",
    "        # 遍歷每個含有 regex 的句子\n",
    "        for sid, row in sent_df.iterrows():\n",
    "            if row['match'] == 0:\n",
    "                continue\n",
    "            row.drop('match', inplace=True)\n",
    "            row = row[row > 0]\n",
    "            # print(row)\n",
    "            # 考量每個句子可能含有多個 regex，故需寫成多行\n",
    "            for i, v in row.items():\n",
    "                insert_data = dict().fromkeys(columns)\n",
    "                insert_data['report'] = reportname\n",
    "                insert_data['regex'] = i\n",
    "                insert_data['matched word'] = rem.get_match_word(sid, i)\n",
    "                insert_data['sentence number'] = sid + 1\n",
    "                insert_data['sentence'] = str(sent_content_lst[sid]).strip()\n",
    "                # sheet_data.append(insert_data)\n",
    "                csv_data.append(insert_data)\n",
    "    df = pd.DataFrame(csv_data)\n",
    "    # print(df)\n",
    "    df.to_csv(output_xlsx, index=False)\n",
    "\n",
    "            # 輸出 csv\n",
    "            \n",
    "            # 輸出 excel sheet\n",
    "            # print(rem.reportname,'has', len(sheet_data),'matches')\n",
    "            # output_sheet = pd.DataFrame(sheet_data)\n",
    "            # # output_sheet.style.set_properties(subset=['sentence'])\n",
    "            # styler = Styler(horizontal_alignment='left', vertical_alignment='top')\n",
    "            # sf = StyleFrame(output_sheet, styler)\n",
    "            # sf = sf.set_column_width(columns=['baseline'], width=20.0)\n",
    "            # sf = sf.set_column_width(columns=['sentence number'], width=15.0)\n",
    "            # sf = sf.set_column_width(columns=['sentence'], width=80.0)\n",
    "            # sf.to_excel(writer, sheet_name=rem.reportname, index=False) #.save()\n",
    "            # # output_sheet.to_excel(writer, sheet_name=rem.reportname, index=False)\n",
    "    return match_sentence_ttlcnt\n",
    "\n",
    "# 此行會執行並複寫 excel，執行完後要手動調整行距格式，小心使用\n"
   ]
  },
  {
   "cell_type": "code",
   "execution_count": 38,
   "metadata": {},
   "outputs": [
    {
     "name": "stdout",
     "output_type": "stream",
     "text": [
      "=== mem_usage: 200.71 MB ===\n",
      "asg_object: {'/selinux', '^sed$', '/proc/', '^sh$', '/etc/rc', 'permission:{0,1}[0-9]{0,4}', '/etc/init.d/', '\\\\d{1,3}\\\\.\\\\d{1,3}\\\\.\\\\d{1,3}\\\\.\\\\d{1,3}', '/etc/sed', 'bin/', '\\\\d{1,3}\\\\.\\\\d{1,3}\\\\.\\\\d{1,3}\\\\.\\\\d{1,3}:\\\\d+', 'bin/sed', '/sys/'}\n",
      "\n",
      "\n",
      "Sample Dofloo-BleepingComputer.csv\n",
      "\tlenght of ctd's OPset is 0\n",
      "\t#R_malObj\n",
      "\tnum of ctd objects: 0, num of asg objects: 13. R_malObj is 0.0000\n",
      "\t\tctd_object: set()\n",
      "\t#R_malSysObj\n",
      "\tnum of ctd objects: 0, num of asg objects: 3. R_malSysObj is 0.0000\n",
      "\tlen(asg_OPset): 30, len(ctd_OPset): 0\n",
      "\t#R_malOps\n",
      "\tnum of matched asg op: 0, num of asg op: 30. R_malOps is 0.0000\n",
      "\t\trefered lifecycle: []\n",
      "\t\tsys_asg_OPset: [<OP act=open, obj=/etc/init.d/>, <OP act=fchmod, obj=/etc/sed>, <OP act=fchown, obj=/etc/sed>, <OP act=fstat, obj=/etc/sed>, <OP act=rename, obj=/etc/rc>, <OP act=fcntl, obj=/etc/sed>, <OP act=write, obj=/etc/sed>, <OP act=open, obj=/etc/rc>]\n",
      "\t#R_malChangeOps\n",
      "\tnum of matched asg op: 0, num of asg op: 8. R_malChangeOps is 0.0000\n",
      "\t\tref-sys lifecycle: []\n",
      "\n",
      "Sample Dofloo-MalwareMustDie.csv\n",
      "\tlenght of ctd's OPset is 14\n",
      "\t#R_malObj\n",
      "\tnum of ctd objects: 2, num of asg objects: 13. R_malObj is 0.1538\n",
      "\t\tctd_object: {'\\\\d{1,3}\\\\.\\\\d{1,3}\\\\.\\\\d{1,3}\\\\.\\\\d{1,3}', '^sed$'}\n",
      "\t#R_malSysObj\n",
      "\tnum of ctd objects: 0, num of asg objects: 3. R_malSysObj is 0.0000\n",
      "\tlen(asg_OPset): 30, len(ctd_OPset): 14\n",
      "\t#R_malOps\n",
      "\tnum of matched asg op: 0, num of asg op: 30. R_malOps is 0.0000\n",
      "\t\trefered lifecycle: []\n",
      "\t\tsys_asg_OPset: [<OP act=open, obj=/etc/init.d/>, <OP act=fchmod, obj=/etc/sed>, <OP act=fchown, obj=/etc/sed>, <OP act=fstat, obj=/etc/sed>, <OP act=rename, obj=/etc/rc>, <OP act=fcntl, obj=/etc/sed>, <OP act=write, obj=/etc/sed>, <OP act=open, obj=/etc/rc>]\n",
      "\t#R_malChangeOps\n",
      "\tnum of matched asg op: 0, num of asg op: 8. R_malChangeOps is 0.0000\n",
      "\t\tref-sys lifecycle: []\n",
      "\n",
      "Sample Dofloo-Securityaffairs.csv\n",
      "\tlenght of ctd's OPset is 4\n",
      "\t#R_malObj\n",
      "\tnum of ctd objects: 3, num of asg objects: 13. R_malObj is 0.2308\n",
      "\t\tctd_object: {'\\\\d{1,3}\\\\.\\\\d{1,3}\\\\.\\\\d{1,3}\\\\.\\\\d{1,3}', '/etc/rc', '\\\\d{1,3}\\\\.\\\\d{1,3}\\\\.\\\\d{1,3}\\\\.\\\\d{1,3}:\\\\d+'}\n",
      "\t#R_malSysObj\n",
      "\tnum of ctd objects: 1, num of asg objects: 3. R_malSysObj is 0.3333\n",
      "\tlen(asg_OPset): 30, len(ctd_OPset): 4\n",
      "\t#R_malOps\n",
      "\tnum of matched asg op: 4, num of asg op: 30. R_malOps is 0.1333\n",
      "\t\trefered lifecycle: [18, 19, 16, 9]\n",
      "\t\tsys_asg_OPset: [<OP act=open, obj=/etc/init.d/>, <OP act=fchmod, obj=/etc/sed>, <OP act=fchown, obj=/etc/sed>, <OP act=fstat, obj=/etc/sed>, <OP act=rename, obj=/etc/rc>, <OP act=fcntl, obj=/etc/sed>, <OP act=write, obj=/etc/sed>, <OP act=open, obj=/etc/rc>]\n",
      "\t#R_malChangeOps\n",
      "\tnum of matched asg op: 2, num of asg op: 8. R_malChangeOps is 0.2500\n",
      "\t\tref-sys lifecycle: [16, 9]\n",
      "\n",
      "\thits\n",
      "\t<OP act=connect, obj=\\d{1,3}\\.\\d{1,3}\\.\\d{1,3}\\.\\d{1,3}:\\d+>, <OP act=connect, obj=\\d{1,3}\\.\\d{1,3}\\.\\d{1,3}\\.\\d{1,3}:\\d+>\n",
      "\t<OP act=connect, obj=\\d{1,3}\\.\\d{1,3}\\.\\d{1,3}\\.\\d{1,3}>, <OP act=connect, obj=\\d{1,3}\\.\\d{1,3}\\.\\d{1,3}\\.\\d{1,3}>\n",
      "\t<OP act=rename, obj=/etc/rc>, <OP act=modify, obj=/etc/rc>\n",
      "\t<OP act=open, obj=/etc/rc>, <OP act=modify, obj=/etc/rc>\n",
      "\n",
      "\tsys_hits\n",
      "\t<OP act=rename, obj=/etc/rc>, <OP act=modify, obj=/etc/rc>\n",
      "\t<OP act=open, obj=/etc/rc>, <OP act=modify, obj=/etc/rc>\n",
      "\n",
      "Sample Dofloo-SyscallParty.csv\n",
      "\tlenght of ctd's OPset is 11\n",
      "\t#R_malObj\n",
      "\tnum of ctd objects: 5, num of asg objects: 13. R_malObj is 0.3846\n",
      "\t\tctd_object: {'^sed$', '/proc/', '/etc/rc', '/etc/init.d/', '\\\\d{1,3}\\\\.\\\\d{1,3}\\\\.\\\\d{1,3}\\\\.\\\\d{1,3}'}\n",
      "\t#R_malSysObj\n",
      "\tnum of ctd objects: 2, num of asg objects: 3. R_malSysObj is 0.6667\n",
      "\tlen(asg_OPset): 30, len(ctd_OPset): 11\n",
      "\t#R_malOps\n",
      "\tnum of matched asg op: 7, num of asg op: 30. R_malOps is 0.2333\n",
      "\t\trefered lifecycle: [0, 17, 26, 27, 16, 29, 9]\n",
      "\t\tsys_asg_OPset: [<OP act=open, obj=/etc/init.d/>, <OP act=fchmod, obj=/etc/sed>, <OP act=fchown, obj=/etc/sed>, <OP act=fstat, obj=/etc/sed>, <OP act=rename, obj=/etc/rc>, <OP act=fcntl, obj=/etc/sed>, <OP act=write, obj=/etc/sed>, <OP act=open, obj=/etc/rc>]\n",
      "\t#R_malChangeOps\n",
      "\tnum of matched asg op: 3, num of asg op: 8. R_malChangeOps is 0.3750\n",
      "\t\tref-sys lifecycle: [17, 16, 9]\n",
      "\n",
      "\thits\n",
      "\t<OP act=readlink, obj=/proc/>, <OP act=read, obj=/proc/>\n",
      "\t<OP act=open, obj=/etc/init.d/>, <OP act=add, obj=/etc/init.d/>\n",
      "\t<OP act=open, obj=/proc/>, <OP act=open, obj=/proc/>\n",
      "\t<OP act=lseek, obj=/proc/>, <OP act=read, obj=/proc/>\n",
      "\t<OP act=rename, obj=/etc/rc>, <OP act=format, obj=/etc/rc>\n",
      "\t<OP act=fstat64, obj=/proc/>, <OP act=read, obj=/proc/>\n",
      "\t<OP act=open, obj=/etc/rc>, <OP act=format, obj=/etc/rc>\n",
      "\n",
      "\tsys_hits\n",
      "\t<OP act=open, obj=/etc/init.d/>, <OP act=add, obj=/etc/init.d/>\n",
      "\t<OP act=rename, obj=/etc/rc>, <OP act=format, obj=/etc/rc>\n",
      "\t<OP act=open, obj=/etc/rc>, <OP act=format, obj=/etc/rc>\n",
      "\n",
      "Sample Dofloo-Trendmicro.csv\n",
      "\tlenght of ctd's OPset is 9\n",
      "\t#R_malObj\n",
      "\tnum of ctd objects: 5, num of asg objects: 13. R_malObj is 0.3846\n",
      "\t\tctd_object: {'^sed$', '/proc/', '/etc/rc', '/etc/init.d/', '/sys/'}\n",
      "\t#R_malSysObj\n",
      "\tnum of ctd objects: 2, num of asg objects: 3. R_malSysObj is 0.6667\n",
      "\tlen(asg_OPset): 30, len(ctd_OPset): 9\n",
      "\t#R_malOps\n",
      "\tnum of matched asg op: 3, num of asg op: 30. R_malOps is 0.1000\n",
      "\t\trefered lifecycle: [0, 27, 29]\n",
      "\t\tsys_asg_OPset: [<OP act=open, obj=/etc/init.d/>, <OP act=fchmod, obj=/etc/sed>, <OP act=fchown, obj=/etc/sed>, <OP act=fstat, obj=/etc/sed>, <OP act=rename, obj=/etc/rc>, <OP act=fcntl, obj=/etc/sed>, <OP act=write, obj=/etc/sed>, <OP act=open, obj=/etc/rc>]\n",
      "\t#R_malChangeOps\n",
      "\tnum of matched asg op: 0, num of asg op: 8. R_malChangeOps is 0.0000\n",
      "\t\tref-sys lifecycle: []\n",
      "\n",
      "\thits\n",
      "\t<OP act=readlink, obj=/proc/>, <OP act=gather, obj=/proc/>\n",
      "\t<OP act=lseek, obj=/proc/>, <OP act=gather, obj=/proc/>\n",
      "\t<OP act=fstat64, obj=/proc/>, <OP act=gather, obj=/proc/>\n"
     ]
    }
   ],
   "source": [
    "for sample in samples:\n",
    "    # print(len(sample.OPset)) # 30\n",
    "    # print(len(sample.OPset_ordered)) # 30\n",
    "    # print(set(sample.OPset) - set(sample.OPset_ordered)) # 相減是空的set 都OK\n",
    "    fset = run_family_set_procedure(sample)\n",
    "    # match_sentence_ttlcnt = save_match_sent_to_excel(fset, sample.samplename)\n",
    "    # print(f'match_sentence_ttlcnt is {match_sentence_ttlcnt}\\n---\\n')"
   ]
  },
  {
   "attachments": {},
   "cell_type": "markdown",
   "metadata": {},
   "source": [
    "### Run Script: draw Lifecycle diagram\n",
    "- 兩個 traces (legend) 一般的 OP 和 ChangeSys OP。分兩個顏色，不重疊。\n",
    "- x: [a,a,a,a,b,b,b,c,c,c] 不同 report 的 step 可以放同一個 list，因為屬於同個 trace。"
   ]
  },
  {
   "cell_type": "code",
   "execution_count": 40,
   "metadata": {},
   "outputs": [
    {
     "name": "stdout",
     "output_type": "stream",
     "text": [
      "Securityaffairs (4) numOfDot 4 rem.OPset_order_index [18, 19, 16, 9]\n",
      "x_normal [18, 19] x_sys [16, 9]\n",
      "SyscallParty (7) numOfDot 7 rem.OPset_order_index [0, 17, 26, 27, 16, 29, 9]\n",
      "x_normal [0, 26, 27, 29] x_sys [17, 16, 9]\n",
      "Trendmicro (3) numOfDot 3 rem.OPset_order_index [0, 27, 29]\n",
      "x_normal [0, 27, 29] x_sys []\n",
      "\n",
      "ASG (30) 30 8 22\n"
     ]
    },
    {
     "data": {
      "application/vnd.plotly.v1+json": {
       "config": {
        "plotlyServerURL": "https://plot.ly"
       },
       "data": [
        {
         "marker": {
          "color": "darkorange",
          "size": 12
         },
         "mode": "markers",
         "name": "Normal Operation Pair",
         "type": "scatter",
         "x": [
          18,
          19,
          0,
          26,
          27,
          29,
          0,
          27,
          29,
          0,
          1,
          2,
          3,
          4,
          5,
          6,
          7,
          8,
          10,
          18,
          19,
          20,
          21,
          22,
          23,
          24,
          25,
          26,
          27,
          28,
          29
         ],
         "y": [
          "Securityaffairs (4)",
          "Securityaffairs (4)",
          "SyscallParty (7)",
          "SyscallParty (7)",
          "SyscallParty (7)",
          "SyscallParty (7)",
          "Trendmicro (3)",
          "Trendmicro (3)",
          "Trendmicro (3)",
          "ASG (30)",
          "ASG (30)",
          "ASG (30)",
          "ASG (30)",
          "ASG (30)",
          "ASG (30)",
          "ASG (30)",
          "ASG (30)",
          "ASG (30)",
          "ASG (30)",
          "ASG (30)",
          "ASG (30)",
          "ASG (30)",
          "ASG (30)",
          "ASG (30)",
          "ASG (30)",
          "ASG (30)",
          "ASG (30)",
          "ASG (30)",
          "ASG (30)",
          "ASG (30)",
          "ASG (30)"
         ]
        },
        {
         "marker": {
          "color": "blue",
          "size": 12
         },
         "mode": "markers",
         "name": "System Operation Pair",
         "type": "scatter",
         "x": [
          16,
          9,
          17,
          16,
          9,
          17,
          15,
          14,
          12,
          16,
          11,
          13,
          9
         ],
         "y": [
          "Securityaffairs (4)",
          "Securityaffairs (4)",
          "SyscallParty (7)",
          "SyscallParty (7)",
          "SyscallParty (7)",
          "ASG (30)",
          "ASG (30)",
          "ASG (30)",
          "ASG (30)",
          "ASG (30)",
          "ASG (30)",
          "ASG (30)",
          "ASG (30)"
         ]
        }
       ],
       "layout": {
        "template": {
         "data": {
          "bar": [
           {
            "error_x": {
             "color": "#2a3f5f"
            },
            "error_y": {
             "color": "#2a3f5f"
            },
            "marker": {
             "line": {
              "color": "#E5ECF6",
              "width": 0.5
             },
             "pattern": {
              "fillmode": "overlay",
              "size": 10,
              "solidity": 0.2
             }
            },
            "type": "bar"
           }
          ],
          "barpolar": [
           {
            "marker": {
             "line": {
              "color": "#E5ECF6",
              "width": 0.5
             },
             "pattern": {
              "fillmode": "overlay",
              "size": 10,
              "solidity": 0.2
             }
            },
            "type": "barpolar"
           }
          ],
          "carpet": [
           {
            "aaxis": {
             "endlinecolor": "#2a3f5f",
             "gridcolor": "white",
             "linecolor": "white",
             "minorgridcolor": "white",
             "startlinecolor": "#2a3f5f"
            },
            "baxis": {
             "endlinecolor": "#2a3f5f",
             "gridcolor": "white",
             "linecolor": "white",
             "minorgridcolor": "white",
             "startlinecolor": "#2a3f5f"
            },
            "type": "carpet"
           }
          ],
          "choropleth": [
           {
            "colorbar": {
             "outlinewidth": 0,
             "ticks": ""
            },
            "type": "choropleth"
           }
          ],
          "contour": [
           {
            "colorbar": {
             "outlinewidth": 0,
             "ticks": ""
            },
            "colorscale": [
             [
              0,
              "#0d0887"
             ],
             [
              0.1111111111111111,
              "#46039f"
             ],
             [
              0.2222222222222222,
              "#7201a8"
             ],
             [
              0.3333333333333333,
              "#9c179e"
             ],
             [
              0.4444444444444444,
              "#bd3786"
             ],
             [
              0.5555555555555556,
              "#d8576b"
             ],
             [
              0.6666666666666666,
              "#ed7953"
             ],
             [
              0.7777777777777778,
              "#fb9f3a"
             ],
             [
              0.8888888888888888,
              "#fdca26"
             ],
             [
              1,
              "#f0f921"
             ]
            ],
            "type": "contour"
           }
          ],
          "contourcarpet": [
           {
            "colorbar": {
             "outlinewidth": 0,
             "ticks": ""
            },
            "type": "contourcarpet"
           }
          ],
          "heatmap": [
           {
            "colorbar": {
             "outlinewidth": 0,
             "ticks": ""
            },
            "colorscale": [
             [
              0,
              "#0d0887"
             ],
             [
              0.1111111111111111,
              "#46039f"
             ],
             [
              0.2222222222222222,
              "#7201a8"
             ],
             [
              0.3333333333333333,
              "#9c179e"
             ],
             [
              0.4444444444444444,
              "#bd3786"
             ],
             [
              0.5555555555555556,
              "#d8576b"
             ],
             [
              0.6666666666666666,
              "#ed7953"
             ],
             [
              0.7777777777777778,
              "#fb9f3a"
             ],
             [
              0.8888888888888888,
              "#fdca26"
             ],
             [
              1,
              "#f0f921"
             ]
            ],
            "type": "heatmap"
           }
          ],
          "heatmapgl": [
           {
            "colorbar": {
             "outlinewidth": 0,
             "ticks": ""
            },
            "colorscale": [
             [
              0,
              "#0d0887"
             ],
             [
              0.1111111111111111,
              "#46039f"
             ],
             [
              0.2222222222222222,
              "#7201a8"
             ],
             [
              0.3333333333333333,
              "#9c179e"
             ],
             [
              0.4444444444444444,
              "#bd3786"
             ],
             [
              0.5555555555555556,
              "#d8576b"
             ],
             [
              0.6666666666666666,
              "#ed7953"
             ],
             [
              0.7777777777777778,
              "#fb9f3a"
             ],
             [
              0.8888888888888888,
              "#fdca26"
             ],
             [
              1,
              "#f0f921"
             ]
            ],
            "type": "heatmapgl"
           }
          ],
          "histogram": [
           {
            "marker": {
             "pattern": {
              "fillmode": "overlay",
              "size": 10,
              "solidity": 0.2
             }
            },
            "type": "histogram"
           }
          ],
          "histogram2d": [
           {
            "colorbar": {
             "outlinewidth": 0,
             "ticks": ""
            },
            "colorscale": [
             [
              0,
              "#0d0887"
             ],
             [
              0.1111111111111111,
              "#46039f"
             ],
             [
              0.2222222222222222,
              "#7201a8"
             ],
             [
              0.3333333333333333,
              "#9c179e"
             ],
             [
              0.4444444444444444,
              "#bd3786"
             ],
             [
              0.5555555555555556,
              "#d8576b"
             ],
             [
              0.6666666666666666,
              "#ed7953"
             ],
             [
              0.7777777777777778,
              "#fb9f3a"
             ],
             [
              0.8888888888888888,
              "#fdca26"
             ],
             [
              1,
              "#f0f921"
             ]
            ],
            "type": "histogram2d"
           }
          ],
          "histogram2dcontour": [
           {
            "colorbar": {
             "outlinewidth": 0,
             "ticks": ""
            },
            "colorscale": [
             [
              0,
              "#0d0887"
             ],
             [
              0.1111111111111111,
              "#46039f"
             ],
             [
              0.2222222222222222,
              "#7201a8"
             ],
             [
              0.3333333333333333,
              "#9c179e"
             ],
             [
              0.4444444444444444,
              "#bd3786"
             ],
             [
              0.5555555555555556,
              "#d8576b"
             ],
             [
              0.6666666666666666,
              "#ed7953"
             ],
             [
              0.7777777777777778,
              "#fb9f3a"
             ],
             [
              0.8888888888888888,
              "#fdca26"
             ],
             [
              1,
              "#f0f921"
             ]
            ],
            "type": "histogram2dcontour"
           }
          ],
          "mesh3d": [
           {
            "colorbar": {
             "outlinewidth": 0,
             "ticks": ""
            },
            "type": "mesh3d"
           }
          ],
          "parcoords": [
           {
            "line": {
             "colorbar": {
              "outlinewidth": 0,
              "ticks": ""
             }
            },
            "type": "parcoords"
           }
          ],
          "pie": [
           {
            "automargin": true,
            "type": "pie"
           }
          ],
          "scatter": [
           {
            "fillpattern": {
             "fillmode": "overlay",
             "size": 10,
             "solidity": 0.2
            },
            "type": "scatter"
           }
          ],
          "scatter3d": [
           {
            "line": {
             "colorbar": {
              "outlinewidth": 0,
              "ticks": ""
             }
            },
            "marker": {
             "colorbar": {
              "outlinewidth": 0,
              "ticks": ""
             }
            },
            "type": "scatter3d"
           }
          ],
          "scattercarpet": [
           {
            "marker": {
             "colorbar": {
              "outlinewidth": 0,
              "ticks": ""
             }
            },
            "type": "scattercarpet"
           }
          ],
          "scattergeo": [
           {
            "marker": {
             "colorbar": {
              "outlinewidth": 0,
              "ticks": ""
             }
            },
            "type": "scattergeo"
           }
          ],
          "scattergl": [
           {
            "marker": {
             "colorbar": {
              "outlinewidth": 0,
              "ticks": ""
             }
            },
            "type": "scattergl"
           }
          ],
          "scattermapbox": [
           {
            "marker": {
             "colorbar": {
              "outlinewidth": 0,
              "ticks": ""
             }
            },
            "type": "scattermapbox"
           }
          ],
          "scatterpolar": [
           {
            "marker": {
             "colorbar": {
              "outlinewidth": 0,
              "ticks": ""
             }
            },
            "type": "scatterpolar"
           }
          ],
          "scatterpolargl": [
           {
            "marker": {
             "colorbar": {
              "outlinewidth": 0,
              "ticks": ""
             }
            },
            "type": "scatterpolargl"
           }
          ],
          "scatterternary": [
           {
            "marker": {
             "colorbar": {
              "outlinewidth": 0,
              "ticks": ""
             }
            },
            "type": "scatterternary"
           }
          ],
          "surface": [
           {
            "colorbar": {
             "outlinewidth": 0,
             "ticks": ""
            },
            "colorscale": [
             [
              0,
              "#0d0887"
             ],
             [
              0.1111111111111111,
              "#46039f"
             ],
             [
              0.2222222222222222,
              "#7201a8"
             ],
             [
              0.3333333333333333,
              "#9c179e"
             ],
             [
              0.4444444444444444,
              "#bd3786"
             ],
             [
              0.5555555555555556,
              "#d8576b"
             ],
             [
              0.6666666666666666,
              "#ed7953"
             ],
             [
              0.7777777777777778,
              "#fb9f3a"
             ],
             [
              0.8888888888888888,
              "#fdca26"
             ],
             [
              1,
              "#f0f921"
             ]
            ],
            "type": "surface"
           }
          ],
          "table": [
           {
            "cells": {
             "fill": {
              "color": "#EBF0F8"
             },
             "line": {
              "color": "white"
             }
            },
            "header": {
             "fill": {
              "color": "#C8D4E3"
             },
             "line": {
              "color": "white"
             }
            },
            "type": "table"
           }
          ]
         },
         "layout": {
          "annotationdefaults": {
           "arrowcolor": "#2a3f5f",
           "arrowhead": 0,
           "arrowwidth": 1
          },
          "autotypenumbers": "strict",
          "coloraxis": {
           "colorbar": {
            "outlinewidth": 0,
            "ticks": ""
           }
          },
          "colorscale": {
           "diverging": [
            [
             0,
             "#8e0152"
            ],
            [
             0.1,
             "#c51b7d"
            ],
            [
             0.2,
             "#de77ae"
            ],
            [
             0.3,
             "#f1b6da"
            ],
            [
             0.4,
             "#fde0ef"
            ],
            [
             0.5,
             "#f7f7f7"
            ],
            [
             0.6,
             "#e6f5d0"
            ],
            [
             0.7,
             "#b8e186"
            ],
            [
             0.8,
             "#7fbc41"
            ],
            [
             0.9,
             "#4d9221"
            ],
            [
             1,
             "#276419"
            ]
           ],
           "sequential": [
            [
             0,
             "#0d0887"
            ],
            [
             0.1111111111111111,
             "#46039f"
            ],
            [
             0.2222222222222222,
             "#7201a8"
            ],
            [
             0.3333333333333333,
             "#9c179e"
            ],
            [
             0.4444444444444444,
             "#bd3786"
            ],
            [
             0.5555555555555556,
             "#d8576b"
            ],
            [
             0.6666666666666666,
             "#ed7953"
            ],
            [
             0.7777777777777778,
             "#fb9f3a"
            ],
            [
             0.8888888888888888,
             "#fdca26"
            ],
            [
             1,
             "#f0f921"
            ]
           ],
           "sequentialminus": [
            [
             0,
             "#0d0887"
            ],
            [
             0.1111111111111111,
             "#46039f"
            ],
            [
             0.2222222222222222,
             "#7201a8"
            ],
            [
             0.3333333333333333,
             "#9c179e"
            ],
            [
             0.4444444444444444,
             "#bd3786"
            ],
            [
             0.5555555555555556,
             "#d8576b"
            ],
            [
             0.6666666666666666,
             "#ed7953"
            ],
            [
             0.7777777777777778,
             "#fb9f3a"
            ],
            [
             0.8888888888888888,
             "#fdca26"
            ],
            [
             1,
             "#f0f921"
            ]
           ]
          },
          "colorway": [
           "#636efa",
           "#EF553B",
           "#00cc96",
           "#ab63fa",
           "#FFA15A",
           "#19d3f3",
           "#FF6692",
           "#B6E880",
           "#FF97FF",
           "#FECB52"
          ],
          "font": {
           "color": "#2a3f5f"
          },
          "geo": {
           "bgcolor": "white",
           "lakecolor": "white",
           "landcolor": "#E5ECF6",
           "showlakes": true,
           "showland": true,
           "subunitcolor": "white"
          },
          "hoverlabel": {
           "align": "left"
          },
          "hovermode": "closest",
          "mapbox": {
           "style": "light"
          },
          "paper_bgcolor": "white",
          "plot_bgcolor": "#E5ECF6",
          "polar": {
           "angularaxis": {
            "gridcolor": "white",
            "linecolor": "white",
            "ticks": ""
           },
           "bgcolor": "#E5ECF6",
           "radialaxis": {
            "gridcolor": "white",
            "linecolor": "white",
            "ticks": ""
           }
          },
          "scene": {
           "xaxis": {
            "backgroundcolor": "#E5ECF6",
            "gridcolor": "white",
            "gridwidth": 2,
            "linecolor": "white",
            "showbackground": true,
            "ticks": "",
            "zerolinecolor": "white"
           },
           "yaxis": {
            "backgroundcolor": "#E5ECF6",
            "gridcolor": "white",
            "gridwidth": 2,
            "linecolor": "white",
            "showbackground": true,
            "ticks": "",
            "zerolinecolor": "white"
           },
           "zaxis": {
            "backgroundcolor": "#E5ECF6",
            "gridcolor": "white",
            "gridwidth": 2,
            "linecolor": "white",
            "showbackground": true,
            "ticks": "",
            "zerolinecolor": "white"
           }
          },
          "shapedefaults": {
           "line": {
            "color": "#2a3f5f"
           }
          },
          "ternary": {
           "aaxis": {
            "gridcolor": "white",
            "linecolor": "white",
            "ticks": ""
           },
           "baxis": {
            "gridcolor": "white",
            "linecolor": "white",
            "ticks": ""
           },
           "bgcolor": "#E5ECF6",
           "caxis": {
            "gridcolor": "white",
            "linecolor": "white",
            "ticks": ""
           }
          },
          "title": {
           "x": 0.05
          },
          "xaxis": {
           "automargin": true,
           "gridcolor": "white",
           "linecolor": "white",
           "ticks": "",
           "title": {
            "standoff": 15
           },
           "zerolinecolor": "white",
           "zerolinewidth": 2
          },
          "yaxis": {
           "automargin": true,
           "gridcolor": "white",
           "linecolor": "white",
           "ticks": "",
           "title": {
            "standoff": 15
           },
           "zerolinecolor": "white",
           "zerolinewidth": 2
          }
         }
        },
        "title": {
         "text": "Lifecycle Diagram of Attack Behavior in Document (Dofloo)"
        },
        "xaxis": {
         "title": {
          "text": "ASG Operation Pair (in steps)"
         }
        },
        "yaxis": {
         "title": {
          "text": "Malware Document"
         }
        }
       }
      }
     },
     "metadata": {},
     "output_type": "display_data"
    }
   ],
   "source": [
    "# import plotly.express as px\n",
    "import plotly.graph_objects as go\n",
    "\n",
    "def symmetric_difference(list1: list, list2: list) -> list:\n",
    "    ''' return list1 - list2. '''\n",
    "    s = set(list2)\n",
    "    temp3 = [x for x in list1 if x not in s]\n",
    "    return temp3\n",
    "\n",
    "def draw_lifecycle(fset:FamilySet):\n",
    "    familname = fset.familyname\n",
    "    # reportnames = [rem.reportname for rem in fset.rem_lst if len(rem.match_regex)]\n",
    "\n",
    "    fig = go.Figure()\n",
    "    x, y = [], []\n",
    "    x_sys, y_sys = [], []\n",
    "    for i, rem in enumerate(fset.rem_lst):\n",
    "        if len(rem.OPset_order_index) == 0:\n",
    "            continue\n",
    "\n",
    "        numOfDot = len(rem.OPset_order_index)\n",
    "        reportname = rem.reportname.split('.')[0]\n",
    "        reportname = reportname.split('-')[1]\n",
    "        reportname += f' ({numOfDot})'\n",
    "        x_sys.extend(rem.SysOPset_order_index) # 改變系統環境的 OP\n",
    "        y_sys.extend([reportname] * len(rem.SysOPset_order_index))\n",
    "        current_x_normal = symmetric_difference(rem.OPset_order_index, rem.SysOPset_order_index) # 一般的/其餘的 OP\n",
    "        # print(reportname, 'numOfDot', numOfDot, 'rem.OPset_order_index', rem.OPset_order_index)\n",
    "        # print('x_normal', current_x_normal, 'x_sys', rem.SysOPset_order_index)\n",
    "        x.extend(current_x_normal)\n",
    "        y.extend([reportname] * len(current_x_normal)) \n",
    "        pass\n",
    "    # todo: add baseline's lifecycle\n",
    "    print()\n",
    "    rowname = f'ASG ({len(fset.sample.OPset)})'\n",
    "    current_x_system = fset.sample.OPset_sysOnly_ordered_index\n",
    "    current_x_normal = symmetric_difference(list(range(len(fset.sample.OPset))), current_x_system) # all steps - sysobj steps\n",
    "    x_sys.extend(current_x_system)\n",
    "    y_sys.extend([rowname] * len(current_x_system)) \n",
    "    x.extend(current_x_normal)\n",
    "    y.extend([rowname] * len(current_x_normal))\n",
    "    # print(rowname, len(fset.sample.OPset), len(current_x_system), len(current_x_normal))\n",
    "    \n",
    "    # normal OPs\n",
    "    fig.add_trace(go.Scatter(\n",
    "        x=x,\n",
    "        y=y,\n",
    "        marker=dict(color=\"darkorange\", size=12),\n",
    "        mode=\"markers\",\n",
    "        name=\"Normal Operation Pair\",\n",
    "    ))\n",
    "\n",
    "    # changeSysObj OPs\n",
    "    fig.add_trace(go.Scatter(\n",
    "        x=x_sys,\n",
    "        y=y_sys,\n",
    "        marker=dict(color=\"blue\", size=12),\n",
    "        mode=\"markers\",\n",
    "        name=\"System Operation Pair\",\n",
    "    ))\n",
    "\n",
    "    fig.update_layout(title=f\"Lifecycle Diagram of Attack Behavior in Document ({familname})\",\n",
    "                    xaxis_title=\"ASG Operation Pair (in steps)\",\n",
    "                    yaxis_title=\"Malware Document\")\n",
    "    fig.show()\n",
    "    pass\n",
    "\n",
    "draw_lifecycle(fset)"
   ]
  },
  {
   "attachments": {},
   "cell_type": "markdown",
   "metadata": {},
   "source": [
    "### Run Script: draw ASG & CTD's OP graph"
   ]
  },
  {
   "cell_type": "code",
   "execution_count": 39,
   "metadata": {},
   "outputs": [
    {
     "data": {
      "image/svg+xml": "<?xml version=\"1.0\" encoding=\"UTF-8\" standalone=\"no\"?>\n<!DOCTYPE svg PUBLIC \"-//W3C//DTD SVG 1.1//EN\"\n \"http://www.w3.org/Graphics/SVG/1.1/DTD/svg11.dtd\">\n<!-- Generated by graphviz version 6.0.1 (20220911.1526)\n -->\n<!-- Title: Dofloo_asg_OPset Pages: 1 -->\n<svg width=\"1751pt\" height=\"204pt\"\n viewBox=\"0.00 0.00 1751.47 204.00\" xmlns=\"http://www.w3.org/2000/svg\" xmlns:xlink=\"http://www.w3.org/1999/xlink\">\n<g id=\"graph0\" class=\"graph\" transform=\"scale(1 1) rotate(0) translate(4 200)\">\n<title>Dofloo_asg_OPset</title>\n<polygon fill=\"white\" stroke=\"none\" points=\"-4,4 -4,-200 1747.47,-200 1747.47,4 -4,4\"/>\n<!-- Start -->\n<g id=\"node1\" class=\"node\">\n<title>Start</title>\n<ellipse fill=\"none\" stroke=\"black\" cx=\"871.47\" cy=\"-178\" rx=\"77.19\" ry=\"18\"/>\n<text text-anchor=\"middle\" x=\"871.47\" y=\"-174.3\" font-family=\"Times New Roman,serif\" font-size=\"14.00\">Malware (Subject)</text>\n</g>\n<!-- 1 -->\n<g id=\"node2\" class=\"node\">\n<title>1</title>\n<ellipse fill=\"none\" stroke=\"black\" cx=\"120.47\" cy=\"-91\" rx=\"38.99\" ry=\"18\"/>\n<text text-anchor=\"middle\" x=\"120.47\" y=\"-87.3\" font-family=\"Times New Roman,serif\" font-size=\"14.00\">/etc/sed</text>\n</g>\n<!-- Start&#45;&gt;1 -->\n<g id=\"edge1\" class=\"edge\">\n<title>Start&#45;&gt;1</title>\n<path fill=\"none\" stroke=\"black\" d=\"M794.12,-176.74C586.99,-175.67 33.52,-170.17 6.47,-142 -17.18,-117.38 31.77,-104.1 72.72,-97.55\"/>\n<polygon fill=\"black\" stroke=\"black\" points=\"73.27,-101 82.64,-96.06 72.23,-94.08 73.27,-101\"/>\n<text text-anchor=\"middle\" x=\"28.47\" y=\"-130.8\" font-family=\"Times New Roman,serif\" font-size=\"14.00\">fchmod</text>\n</g>\n<!-- Start&#45;&gt;1 -->\n<g id=\"edge2\" class=\"edge\">\n<title>Start&#45;&gt;1</title>\n<path fill=\"none\" stroke=\"black\" d=\"M794.15,-176.46C598.62,-174.72 98.13,-167.77 73.47,-142 63.51,-131.59 73.44,-119.86 86.7,-110.38\"/>\n<polygon fill=\"black\" stroke=\"black\" points=\"88.78,-113.2 95.23,-104.8 84.95,-107.34 88.78,-113.2\"/>\n<text text-anchor=\"middle\" x=\"85.97\" y=\"-130.8\" font-family=\"Times New Roman,serif\" font-size=\"14.00\">fcntl</text>\n</g>\n<!-- Start&#45;&gt;1 -->\n<g id=\"edge3\" class=\"edge\">\n<title>Start&#45;&gt;1</title>\n<path fill=\"none\" stroke=\"black\" d=\"M794.42,-176.21C607.71,-173.91 144.67,-165.83 121.47,-142 115.68,-136.05 114.07,-127.57 114.33,-119.28\"/>\n<polygon fill=\"black\" stroke=\"black\" points=\"117.84,-119.41 115.49,-109.08 110.89,-118.62 117.84,-119.41\"/>\n<text text-anchor=\"middle\" x=\"142.97\" y=\"-130.8\" font-family=\"Times New Roman,serif\" font-size=\"14.00\">fchown</text>\n</g>\n<!-- Start&#45;&gt;1 -->\n<g id=\"edge4\" class=\"edge\">\n<title>Start&#45;&gt;1</title>\n<path fill=\"none\" stroke=\"black\" d=\"M794.69,-175.58C627.97,-172.15 243.29,-162.13 187.47,-142 182.82,-140.32 164.14,-126.27 147.68,-113.49\"/>\n<polygon fill=\"black\" stroke=\"black\" points=\"149.4,-110.39 139.36,-106.99 145.09,-115.9 149.4,-110.39\"/>\n<text text-anchor=\"middle\" x=\"201.47\" y=\"-130.8\" font-family=\"Times New Roman,serif\" font-size=\"14.00\">write</text>\n</g>\n<!-- Start&#45;&gt;1 -->\n<g id=\"edge5\" class=\"edge\">\n<title>Start&#45;&gt;1</title>\n<path fill=\"none\" stroke=\"black\" d=\"M794.49,-175.79C652.23,-173.04 353.49,-164.68 252.47,-142 235.15,-138.11 232.02,-133.4 215.47,-127 197.38,-120 177.23,-112.54 160.17,-106.3\"/>\n<polygon fill=\"black\" stroke=\"black\" points=\"161.1,-102.92 150.51,-102.79 158.71,-109.5 161.1,-102.92\"/>\n<text text-anchor=\"middle\" x=\"264.97\" y=\"-130.8\" font-family=\"Times New Roman,serif\" font-size=\"14.00\">fstat</text>\n</g>\n<!-- 2 -->\n<g id=\"node3\" class=\"node\">\n<title>2</title>\n<ellipse fill=\"none\" stroke=\"black\" cx=\"290.47\" cy=\"-91\" rx=\"27.1\" ry=\"18\"/>\n<text text-anchor=\"middle\" x=\"290.47\" y=\"-87.3\" font-family=\"Times New Roman,serif\" font-size=\"14.00\">^sh$</text>\n</g>\n<!-- Start&#45;&gt;2 -->\n<g id=\"edge6\" class=\"edge\">\n<title>Start&#45;&gt;2</title>\n<path fill=\"none\" stroke=\"black\" d=\"M795.01,-175.18C640.38,-171.12 303.64,-160.23 286.47,-142 280.61,-135.78 279.83,-126.99 281.09,-118.5\"/>\n<polygon fill=\"black\" stroke=\"black\" points=\"284.56,-119.04 283.45,-108.5 277.75,-117.43 284.56,-119.04\"/>\n<text text-anchor=\"middle\" x=\"301.97\" y=\"-130.8\" font-family=\"Times New Roman,serif\" font-size=\"14.00\">clone</text>\n</g>\n<!-- Start&#45;&gt;2 -->\n<g id=\"edge7\" class=\"edge\">\n<title>Start&#45;&gt;2</title>\n<path fill=\"none\" stroke=\"black\" d=\"M794.09,-177.21C670.25,-176.63 433.52,-171.53 355.47,-142 339.24,-135.86 323.73,-124.23 311.93,-113.74\"/>\n<polygon fill=\"black\" stroke=\"black\" points=\"314.1,-110.98 304.4,-106.73 309.34,-116.1 314.1,-110.98\"/>\n<text text-anchor=\"middle\" x=\"375.97\" y=\"-130.8\" font-family=\"Times New Roman,serif\" font-size=\"14.00\">waitpid</text>\n</g>\n<!-- 3 -->\n<g id=\"node4\" class=\"node\">\n<title>3</title>\n<ellipse fill=\"none\" stroke=\"black\" cx=\"483.47\" cy=\"-91\" rx=\"129.98\" ry=\"18\"/>\n<text text-anchor=\"middle\" x=\"483.47\" y=\"-87.3\" font-family=\"Times New Roman,serif\" font-size=\"14.00\">d{1,3}.d{1,3}.d{1,3}.d{1,3}:d+</text>\n</g>\n<!-- Start&#45;&gt;3 -->\n<g id=\"edge8\" class=\"edge\">\n<title>Start&#45;&gt;3</title>\n<path fill=\"none\" stroke=\"black\" d=\"M794.12,-176.82C668.22,-175.71 430.35,-169.9 404.47,-142 393.34,-130 403.23,-119.7 419.31,-111.62\"/>\n<polygon fill=\"black\" stroke=\"black\" points=\"421.1,-114.65 428.79,-107.36 418.23,-108.27 421.1,-114.65\"/>\n<text text-anchor=\"middle\" x=\"426.97\" y=\"-130.8\" font-family=\"Times New Roman,serif\" font-size=\"14.00\">connect</text>\n</g>\n<!-- Start&#45;&gt;3 -->\n<g id=\"edge9\" class=\"edge\">\n<title>Start&#45;&gt;3</title>\n<path fill=\"none\" stroke=\"black\" d=\"M794.72,-175.73C684.91,-173.11 493.75,-165.23 472.47,-142 466.68,-135.69 466.81,-127.05 469.22,-118.73\"/>\n<polygon fill=\"black\" stroke=\"black\" points=\"472.53,-119.85 472.87,-109.26 466,-117.33 472.53,-119.85\"/>\n<text text-anchor=\"middle\" x=\"491.47\" y=\"-130.8\" font-family=\"Times New Roman,serif\" font-size=\"14.00\">fstat64</text>\n</g>\n<!-- Start&#45;&gt;3 -->\n<g id=\"edge10\" class=\"edge\">\n<title>Start&#45;&gt;3</title>\n<path fill=\"none\" stroke=\"black\" d=\"M794.97,-174.99C709.79,-171.72 578.21,-163.3 533.47,-142 521.34,-136.23 510.45,-126.26 501.95,-116.74\"/>\n<polygon fill=\"black\" stroke=\"black\" points=\"504.52,-114.35 495.4,-108.94 499.16,-118.85 504.52,-114.35\"/>\n<text text-anchor=\"middle\" x=\"564.47\" y=\"-130.8\" font-family=\"Times New Roman,serif\" font-size=\"14.00\">_newselect</text>\n</g>\n<!-- Start&#45;&gt;3 -->\n<g id=\"edge11\" class=\"edge\">\n<title>Start&#45;&gt;3</title>\n<path fill=\"none\" stroke=\"black\" d=\"M800.31,-170.86C752.55,-165.68 688.54,-156.71 633.47,-142 615.93,-137.31 612.59,-133.05 595.47,-127 579.48,-121.36 562.05,-115.68 545.81,-110.59\"/>\n<polygon fill=\"black\" stroke=\"black\" points=\"546.46,-107.13 535.87,-107.51 544.38,-113.82 546.46,-107.13\"/>\n<text text-anchor=\"middle\" x=\"654.47\" y=\"-130.8\" font-family=\"Times New Roman,serif\" font-size=\"14.00\">mmap2</text>\n</g>\n<!-- 4 -->\n<g id=\"node5\" class=\"node\">\n<title>4</title>\n<ellipse fill=\"none\" stroke=\"black\" cx=\"693.47\" cy=\"-91\" rx=\"38.19\" ry=\"18\"/>\n<text text-anchor=\"middle\" x=\"693.47\" y=\"-87.3\" font-family=\"Times New Roman,serif\" font-size=\"14.00\">/selinux</text>\n</g>\n<!-- Start&#45;&gt;4 -->\n<g id=\"edge12\" class=\"edge\">\n<title>Start&#45;&gt;4</title>\n<path fill=\"none\" stroke=\"black\" d=\"M797.29,-172.73C751.21,-168.35 698.06,-159.55 683.47,-142 677.94,-135.34 678.09,-126.48 680.39,-118.07\"/>\n<polygon fill=\"black\" stroke=\"black\" points=\"683.72,-119.15 683.86,-108.56 677.14,-116.75 683.72,-119.15\"/>\n<text text-anchor=\"middle\" x=\"702.47\" y=\"-130.8\" font-family=\"Times New Roman,serif\" font-size=\"14.00\">access</text>\n</g>\n<!-- Start&#45;&gt;4 -->\n<g id=\"edge13\" class=\"edge\">\n<title>Start&#45;&gt;4</title>\n<path fill=\"none\" stroke=\"black\" d=\"M826.25,-163.39C809.06,-157.61 789.52,-150.28 772.47,-142 755.06,-133.55 736.72,-122.12 722.11,-112.32\"/>\n<polygon fill=\"black\" stroke=\"black\" points=\"723.76,-109.21 713.53,-106.47 719.82,-115 723.76,-109.21\"/>\n<text text-anchor=\"middle\" x=\"787.97\" y=\"-130.8\" font-family=\"Times New Roman,serif\" font-size=\"14.00\">statfs</text>\n</g>\n<!-- 5 -->\n<g id=\"node6\" class=\"node\">\n<title>5</title>\n<ellipse fill=\"none\" stroke=\"black\" cx=\"797.47\" cy=\"-91\" rx=\"37.09\" ry=\"18\"/>\n<text text-anchor=\"middle\" x=\"797.47\" y=\"-87.3\" font-family=\"Times New Roman,serif\" font-size=\"14.00\">bin/sed</text>\n</g>\n<!-- Start&#45;&gt;5 -->\n<g id=\"edge14\" class=\"edge\">\n<title>Start&#45;&gt;5</title>\n<path fill=\"none\" stroke=\"black\" d=\"M838.66,-161.53C830.2,-156.29 821.73,-149.76 815.47,-142 810.09,-135.34 806.25,-126.93 803.53,-118.93\"/>\n<polygon fill=\"black\" stroke=\"black\" points=\"806.84,-117.77 800.66,-109.16 800.12,-119.74 806.84,-117.77\"/>\n<text text-anchor=\"middle\" x=\"825.47\" y=\"-130.8\" font-family=\"Times New Roman,serif\" font-size=\"14.00\">stat</text>\n</g>\n<!-- 6 -->\n<g id=\"node7\" class=\"node\">\n<title>6</title>\n<ellipse fill=\"none\" stroke=\"black\" cx=\"895.47\" cy=\"-91\" rx=\"33.6\" ry=\"18\"/>\n<text text-anchor=\"middle\" x=\"895.47\" y=\"-87.3\" font-family=\"Times New Roman,serif\" font-size=\"14.00\">/etc/rc</text>\n</g>\n<!-- Start&#45;&gt;6 -->\n<g id=\"edge15\" class=\"edge\">\n<title>Start&#45;&gt;6</title>\n<path fill=\"none\" stroke=\"black\" d=\"M851.83,-160.54C842.78,-150.88 835.28,-138.38 841.47,-127 845.76,-119.1 852.7,-112.71 860.18,-107.65\"/>\n<polygon fill=\"black\" stroke=\"black\" points=\"862.31,-110.46 869.1,-102.33 858.72,-104.45 862.31,-110.46\"/>\n<text text-anchor=\"middle\" x=\"861.47\" y=\"-130.8\" font-family=\"Times New Roman,serif\" font-size=\"14.00\">rename</text>\n</g>\n<!-- Start&#45;&gt;6 -->\n<g id=\"edge16\" class=\"edge\">\n<title>Start&#45;&gt;6</title>\n<path fill=\"none\" stroke=\"black\" d=\"M876.37,-159.92C878,-154.22 879.82,-147.84 881.47,-142 883.59,-134.49 885.88,-126.33 887.98,-118.83\"/>\n<polygon fill=\"black\" stroke=\"black\" points=\"891.37,-119.7 890.69,-109.13 884.63,-117.82 891.37,-119.7\"/>\n<text text-anchor=\"middle\" x=\"899.47\" y=\"-130.8\" font-family=\"Times New Roman,serif\" font-size=\"14.00\">open</text>\n</g>\n<!-- 7 -->\n<g id=\"node8\" class=\"node\">\n<title>7</title>\n<ellipse fill=\"none\" stroke=\"black\" cx=\"1090.47\" cy=\"-91\" rx=\"117.78\" ry=\"18\"/>\n<text text-anchor=\"middle\" x=\"1090.47\" y=\"-87.3\" font-family=\"Times New Roman,serif\" font-size=\"14.00\">d{1,3}.d{1,3}.d{1,3}.d{1,3}</text>\n</g>\n<!-- Start&#45;&gt;7 -->\n<g id=\"edge17\" class=\"edge\">\n<title>Start&#45;&gt;7</title>\n<path fill=\"none\" stroke=\"black\" d=\"M894.78,-160.67C911.13,-149.84 933.85,-136.02 955.47,-127 973.45,-119.5 993.47,-113.25 1012.46,-108.22\"/>\n<polygon fill=\"black\" stroke=\"black\" points=\"1013.47,-111.57 1022.29,-105.69 1011.73,-104.79 1013.47,-111.57\"/>\n<text text-anchor=\"middle\" x=\"977.97\" y=\"-130.8\" font-family=\"Times New Roman,serif\" font-size=\"14.00\">connect</text>\n</g>\n<!-- Start&#45;&gt;7 -->\n<g id=\"edge18\" class=\"edge\">\n<title>Start&#45;&gt;7</title>\n<path fill=\"none\" stroke=\"black\" d=\"M928.03,-165.71C951.07,-160.08 977.6,-152.25 1000.47,-142 1011.6,-137.01 1012.94,-133.17 1023.47,-127 1031.53,-122.28 1040.3,-117.47 1048.75,-113\"/>\n<polygon fill=\"black\" stroke=\"black\" points=\"1050.51,-116.03 1057.75,-108.29 1047.27,-109.82 1050.51,-116.03\"/>\n<text text-anchor=\"middle\" x=\"1054.47\" y=\"-130.8\" font-family=\"Times New Roman,serif\" font-size=\"14.00\">_newselect</text>\n</g>\n<!-- Start&#45;&gt;7 -->\n<g id=\"edge19\" class=\"edge\">\n<title>Start&#45;&gt;7</title>\n<path fill=\"none\" stroke=\"black\" d=\"M947.29,-174.15C1001.06,-170.42 1066.84,-161.82 1085.47,-142 1091.1,-136.01 1093.26,-127.66 1093.74,-119.49\"/>\n<polygon fill=\"black\" stroke=\"black\" points=\"1097.24,-119.39 1093.6,-109.44 1090.24,-119.49 1097.24,-119.39\"/>\n<text text-anchor=\"middle\" x=\"1112.47\" y=\"-130.8\" font-family=\"Times New Roman,serif\" font-size=\"14.00\">fstat64</text>\n</g>\n<!-- Start&#45;&gt;7 -->\n<g id=\"edge20\" class=\"edge\">\n<title>Start&#45;&gt;7</title>\n<path fill=\"none\" stroke=\"black\" d=\"M948.97,-177.59C1017.97,-176.26 1111.59,-169.25 1135.47,-142 1143.32,-133.04 1137.77,-123.28 1128.25,-114.79\"/>\n<polygon fill=\"black\" stroke=\"black\" points=\"1130.38,-112.01 1120.36,-108.57 1126.05,-117.5 1130.38,-112.01\"/>\n<text text-anchor=\"middle\" x=\"1160.47\" y=\"-130.8\" font-family=\"Times New Roman,serif\" font-size=\"14.00\">mmap2</text>\n</g>\n<!-- 8 -->\n<g id=\"node9\" class=\"node\">\n<title>8</title>\n<ellipse fill=\"none\" stroke=\"black\" cx=\"1309.47\" cy=\"-91\" rx=\"32.49\" ry=\"18\"/>\n<text text-anchor=\"middle\" x=\"1309.47\" y=\"-87.3\" font-family=\"Times New Roman,serif\" font-size=\"14.00\">/proc/</text>\n</g>\n<!-- Start&#45;&gt;8 -->\n<g id=\"edge21\" class=\"edge\">\n<title>Start&#45;&gt;8</title>\n<path fill=\"none\" stroke=\"black\" d=\"M947.36,-174.32C1011.6,-170.68 1105.69,-162.13 1185.47,-142 1217.46,-133.93 1252.15,-119.41 1276.68,-108.09\"/>\n<polygon fill=\"black\" stroke=\"black\" points=\"1278.32,-111.18 1285.88,-103.77 1275.34,-104.85 1278.32,-111.18\"/>\n<text text-anchor=\"middle\" x=\"1253.47\" y=\"-130.8\" font-family=\"Times New Roman,serif\" font-size=\"14.00\">readlink</text>\n</g>\n<!-- Start&#45;&gt;8 -->\n<g id=\"edge22\" class=\"edge\">\n<title>Start&#45;&gt;8</title>\n<path fill=\"none\" stroke=\"black\" d=\"M947.39,-174.13C1057.39,-169.42 1251.01,-158.87 1278.47,-142 1287.51,-136.45 1294.32,-127.16 1299.22,-118.09\"/>\n<polygon fill=\"black\" stroke=\"black\" points=\"1302.47,-119.41 1303.65,-108.89 1296.16,-116.38 1302.47,-119.41\"/>\n<text text-anchor=\"middle\" x=\"1307.47\" y=\"-130.8\" font-family=\"Times New Roman,serif\" font-size=\"14.00\">open</text>\n</g>\n<!-- Start&#45;&gt;8 -->\n<g id=\"edge23\" class=\"edge\">\n<title>Start&#45;&gt;8</title>\n<path fill=\"none\" stroke=\"black\" d=\"M948.64,-176.64C1071.53,-175.24 1300.46,-169.01 1325.47,-142 1331.9,-135.05 1330.48,-125.51 1326.51,-116.62\"/>\n<polygon fill=\"black\" stroke=\"black\" points=\"1329.53,-114.85 1321.69,-107.73 1323.38,-118.19 1329.53,-114.85\"/>\n<text text-anchor=\"middle\" x=\"1349.47\" y=\"-130.8\" font-family=\"Times New Roman,serif\" font-size=\"14.00\">fstat64</text>\n</g>\n<!-- Start&#45;&gt;8 -->\n<g id=\"edge24\" class=\"edge\">\n<title>Start&#45;&gt;8</title>\n<path fill=\"none\" stroke=\"black\" d=\"M948.83,-177.26C1082.28,-176.89 1344.24,-172.27 1372.47,-142 1385.52,-128.01 1366.55,-114.67 1346.1,-105.3\"/>\n<polygon fill=\"black\" stroke=\"black\" points=\"1347.28,-101.99 1336.71,-101.28 1344.53,-108.43 1347.28,-101.99\"/>\n<text text-anchor=\"middle\" x=\"1391.47\" y=\"-130.8\" font-family=\"Times New Roman,serif\" font-size=\"14.00\">lseek</text>\n</g>\n<!-- 9 -->\n<g id=\"node10\" class=\"node\">\n<title>9</title>\n<ellipse fill=\"none\" stroke=\"black\" cx=\"1386.47\" cy=\"-18\" rx=\"109.68\" ry=\"18\"/>\n<text text-anchor=\"middle\" x=\"1386.47\" y=\"-14.3\" font-family=\"Times New Roman,serif\" font-size=\"14.00\">permission:{0,1}[0&#45;9]{0,4}</text>\n</g>\n<!-- Start&#45;&gt;9 -->\n<g id=\"edge25\" class=\"edge\">\n<title>Start&#45;&gt;9</title>\n<path fill=\"none\" stroke=\"black\" d=\"M948.94,-177.68C1090.36,-178.09 1378.69,-174.85 1409.47,-142 1414.03,-137.14 1411.63,-133.31 1409.47,-127 1406.18,-117.41 1399.23,-118.41 1395.47,-109 1387.48,-89.01 1385.46,-64.62 1385.32,-46.28\"/>\n<polygon fill=\"black\" stroke=\"black\" points=\"1388.82,-46.29 1385.41,-36.25 1381.82,-46.22 1388.82,-46.29\"/>\n<text text-anchor=\"middle\" x=\"1413.97\" y=\"-87.3\" font-family=\"Times New Roman,serif\" font-size=\"14.00\">umask</text>\n</g>\n<!-- 10 -->\n<g id=\"node11\" class=\"node\">\n<title>10</title>\n<ellipse fill=\"none\" stroke=\"black\" cx=\"1488.47\" cy=\"-91\" rx=\"46.59\" ry=\"18\"/>\n<text text-anchor=\"middle\" x=\"1488.47\" y=\"-87.3\" font-family=\"Times New Roman,serif\" font-size=\"14.00\">/etc/init.d/</text>\n</g>\n<!-- Start&#45;&gt;10 -->\n<g id=\"edge26\" class=\"edge\">\n<title>Start&#45;&gt;10</title>\n<path fill=\"none\" stroke=\"black\" d=\"M948.79,-176.9C1100.26,-176.05 1424.97,-170.85 1466.47,-142 1474.27,-136.57 1479.34,-127.73 1482.62,-118.97\"/>\n<polygon fill=\"black\" stroke=\"black\" points=\"1485.99,-119.9 1485.6,-109.31 1479.3,-117.83 1485.99,-119.9\"/>\n<text text-anchor=\"middle\" x=\"1493.47\" y=\"-130.8\" font-family=\"Times New Roman,serif\" font-size=\"14.00\">open</text>\n</g>\n<!-- 11 -->\n<g id=\"node12\" class=\"node\">\n<title>11</title>\n<ellipse fill=\"none\" stroke=\"black\" cx=\"1571.47\" cy=\"-18\" rx=\"31.7\" ry=\"18\"/>\n<text text-anchor=\"middle\" x=\"1571.47\" y=\"-14.3\" font-family=\"Times New Roman,serif\" font-size=\"14.00\">^sed$</text>\n</g>\n<!-- Start&#45;&gt;11 -->\n<g id=\"edge27\" class=\"edge\">\n<title>Start&#45;&gt;11</title>\n<path fill=\"none\" stroke=\"black\" d=\"M948.29,-175.87C1107.17,-173.08 1461.27,-164.42 1511.47,-142 1548.14,-125.62 1562.55,-77.23 1568.1,-46.25\"/>\n<polygon fill=\"black\" stroke=\"black\" points=\"1571.6,-46.53 1569.71,-36.1 1564.69,-45.43 1571.6,-46.53\"/>\n<text text-anchor=\"middle\" x=\"1575.47\" y=\"-87.3\" font-family=\"Times New Roman,serif\" font-size=\"14.00\">exec</text>\n</g>\n<!-- 12 -->\n<g id=\"node13\" class=\"node\">\n<title>12</title>\n<ellipse fill=\"none\" stroke=\"black\" cx=\"1643.47\" cy=\"-91\" rx=\"27.9\" ry=\"18\"/>\n<text text-anchor=\"middle\" x=\"1643.47\" y=\"-87.3\" font-family=\"Times New Roman,serif\" font-size=\"14.00\">/sys/</text>\n</g>\n<!-- Start&#45;&gt;12 -->\n<g id=\"edge28\" class=\"edge\">\n<title>Start&#45;&gt;12</title>\n<path fill=\"none\" stroke=\"black\" d=\"M948.44,-175.93C1120.27,-173.15 1524.59,-164.31 1582.47,-142 1590.96,-138.73 1607.08,-125.37 1620.61,-113.29\"/>\n<polygon fill=\"black\" stroke=\"black\" points=\"1623.15,-115.72 1628.21,-106.41 1618.45,-110.53 1623.15,-115.72\"/>\n<text text-anchor=\"middle\" x=\"1619.47\" y=\"-130.8\" font-family=\"Times New Roman,serif\" font-size=\"14.00\">open</text>\n</g>\n<!-- Start&#45;&gt;12 -->\n<g id=\"edge29\" class=\"edge\">\n<title>Start&#45;&gt;12</title>\n<path fill=\"none\" stroke=\"black\" d=\"M948.46,-176C1136.88,-173.21 1607.79,-164.06 1633.47,-142 1640.06,-136.34 1643.06,-127.68 1644.27,-119.14\"/>\n<polygon fill=\"black\" stroke=\"black\" points=\"1647.77,-119.22 1644.96,-109 1640.79,-118.74 1647.77,-119.22\"/>\n<text text-anchor=\"middle\" x=\"1657.97\" y=\"-130.8\" font-family=\"Times New Roman,serif\" font-size=\"14.00\">statfs</text>\n</g>\n<!-- 13 -->\n<g id=\"node14\" class=\"node\">\n<title>13</title>\n<ellipse fill=\"none\" stroke=\"black\" cx=\"1716.47\" cy=\"-91\" rx=\"27\" ry=\"18\"/>\n<text text-anchor=\"middle\" x=\"1716.47\" y=\"-87.3\" font-family=\"Times New Roman,serif\" font-size=\"14.00\">bin/</text>\n</g>\n<!-- Start&#45;&gt;13 -->\n<g id=\"edge30\" class=\"edge\">\n<title>Start&#45;&gt;13</title>\n<path fill=\"none\" stroke=\"black\" d=\"M948.82,-177.3C1138.11,-177.53 1613.86,-174.78 1677.47,-142 1688.11,-136.52 1696.74,-126.67 1703.16,-117.16\"/>\n<polygon fill=\"black\" stroke=\"black\" points=\"1706.14,-119 1708.42,-108.65 1700.18,-115.32 1706.14,-119\"/>\n<text text-anchor=\"middle\" x=\"1704.47\" y=\"-130.8\" font-family=\"Times New Roman,serif\" font-size=\"14.00\">stat</text>\n</g>\n</g>\n</svg>\n",
      "text/plain": [
       "<graphviz.sources.Source at 0x293ed3b8b50>"
      ]
     },
     "metadata": {},
     "output_type": "display_data"
    },
    {
     "name": "stdout",
     "output_type": "stream",
     "text": [
      "Dofloo-MalwareMustDie.csv raw doc OPset\n"
     ]
    },
    {
     "data": {
      "image/svg+xml": "<?xml version=\"1.0\" encoding=\"UTF-8\" standalone=\"no\"?>\n<!DOCTYPE svg PUBLIC \"-//W3C//DTD SVG 1.1//EN\"\n \"http://www.w3.org/Graphics/SVG/1.1/DTD/svg11.dtd\">\n<!-- Generated by graphviz version 6.0.1 (20220911.1526)\n -->\n<!-- Pages: 1 -->\n<svg width=\"579pt\" height=\"131pt\"\n viewBox=\"0.00 0.00 578.64 131.00\" xmlns=\"http://www.w3.org/2000/svg\" xmlns:xlink=\"http://www.w3.org/1999/xlink\">\n<g id=\"graph0\" class=\"graph\" transform=\"scale(1 1) rotate(0) translate(4 127)\">\n<polygon fill=\"white\" stroke=\"none\" points=\"-4,4 -4,-127 574.64,-127 574.64,4 -4,4\"/>\n<!-- Start -->\n<g id=\"node1\" class=\"node\">\n<title>Start</title>\n<ellipse fill=\"none\" stroke=\"black\" cx=\"356.64\" cy=\"-105\" rx=\"77.19\" ry=\"18\"/>\n<text text-anchor=\"middle\" x=\"356.64\" y=\"-101.3\" font-family=\"Times New Roman,serif\" font-size=\"14.00\">Malware (Subject)</text>\n</g>\n<!-- 1 -->\n<g id=\"node2\" class=\"node\">\n<title>1</title>\n<ellipse fill=\"none\" stroke=\"black\" cx=\"117.64\" cy=\"-18\" rx=\"117.78\" ry=\"18\"/>\n<text text-anchor=\"middle\" x=\"117.64\" y=\"-14.3\" font-family=\"Times New Roman,serif\" font-size=\"14.00\">d{1,3}.d{1,3}.d{1,3}.d{1,3}</text>\n</g>\n<!-- Start&#45;&gt;1 -->\n<g id=\"edge8\" class=\"edge\">\n<title>Start&#45;&gt;1</title>\n<path fill=\"none\" stroke=\"black\" d=\"M281.82,-100.39C226.28,-96.24 156.54,-87.44 134.64,-69 127.86,-63.29 123.77,-54.76 121.32,-46.36\"/>\n<polygon fill=\"black\" stroke=\"black\" points=\"124.68,-45.35 119.06,-36.37 117.85,-46.89 124.68,-45.35\"/>\n<text text-anchor=\"middle\" x=\"141.64\" y=\"-57.8\" font-family=\"Times New Roman,serif\" font-size=\"14.00\">be</text>\n</g>\n<!-- 2 -->\n<g id=\"node3\" class=\"node\">\n<title>2</title>\n<ellipse fill=\"none\" stroke=\"black\" cx=\"378.64\" cy=\"-18\" rx=\"75.29\" ry=\"18\"/>\n<text text-anchor=\"middle\" x=\"378.64\" y=\"-14.3\" font-family=\"Times New Roman,serif\" font-size=\"14.00\">0x[0&#45;9a&#45;zA&#45;Z]{8}</text>\n</g>\n<!-- Start&#45;&gt;2 -->\n<g id=\"edge1\" class=\"edge\">\n<title>Start&#45;&gt;2</title>\n<path fill=\"none\" stroke=\"black\" d=\"M281.39,-100.75C231.27,-96.82 171.74,-88.15 155.64,-69 151.35,-63.9 151.31,-59.07 155.64,-54 160.56,-48.25 240.75,-36.69 303.57,-28.43\"/>\n<polygon fill=\"black\" stroke=\"black\" points=\"304.03,-31.9 313.49,-27.14 303.12,-24.96 304.03,-31.9\"/>\n<text text-anchor=\"middle\" x=\"165.64\" y=\"-57.8\" font-family=\"Times New Roman,serif\" font-size=\"14.00\">svc</text>\n</g>\n<!-- Start&#45;&gt;2 -->\n<g id=\"edge2\" class=\"edge\">\n<title>Start&#45;&gt;2</title>\n<path fill=\"none\" stroke=\"black\" d=\"M280.2,-102.25C227.64,-98.24 171.78,-86.58 198.64,-54 205.64,-45.5 257.65,-35.97 303.97,-29\"/>\n<polygon fill=\"black\" stroke=\"black\" points=\"304.67,-32.43 314.05,-27.51 303.65,-25.51 304.67,-32.43\"/>\n<text text-anchor=\"middle\" x=\"211.64\" y=\"-57.8\" font-family=\"Times New Roman,serif\" font-size=\"14.00\">have</text>\n</g>\n<!-- Start&#45;&gt;2 -->\n<g id=\"edge3\" class=\"edge\">\n<title>Start&#45;&gt;2</title>\n<path fill=\"none\" stroke=\"black\" d=\"M291.44,-95.19C259.52,-88.02 231.16,-75.47 247.64,-54 255.46,-43.82 280.39,-35.96 306.44,-30.29\"/>\n<polygon fill=\"black\" stroke=\"black\" points=\"307.36,-33.68 316.44,-28.23 305.94,-26.82 307.36,-33.68\"/>\n<text text-anchor=\"middle\" x=\"261.64\" y=\"-57.8\" font-family=\"Times New Roman,serif\" font-size=\"14.00\">pack</text>\n</g>\n<!-- Start&#45;&gt;2 -->\n<g id=\"edge4\" class=\"edge\">\n<title>Start&#45;&gt;2</title>\n<path fill=\"none\" stroke=\"black\" d=\"M319.47,-89.05C303.16,-80.15 289.54,-67.91 298.64,-54 303.47,-46.61 310.24,-40.78 317.82,-36.17\"/>\n<polygon fill=\"black\" stroke=\"black\" points=\"319.82,-39.07 327.02,-31.3 316.54,-32.88 319.82,-39.07\"/>\n<text text-anchor=\"middle\" x=\"316.64\" y=\"-57.8\" font-family=\"Times New Roman,serif\" font-size=\"14.00\">eserve</text>\n</g>\n<!-- Start&#45;&gt;2 -->\n<g id=\"edge5\" class=\"edge\">\n<title>Start&#45;&gt;2</title>\n<path fill=\"none\" stroke=\"black\" d=\"M354.81,-86.55C354.32,-76.79 354.61,-64.51 357.64,-54 358.51,-50.97 359.72,-47.93 361.11,-44.98\"/>\n<polygon fill=\"black\" stroke=\"black\" points=\"364.31,-46.43 366.05,-35.97 358.17,-43.06 364.31,-46.43\"/>\n<text text-anchor=\"middle\" x=\"368.64\" y=\"-57.8\" font-family=\"Times New Roman,serif\" font-size=\"14.00\">add</text>\n</g>\n<!-- Start&#45;&gt;2 -->\n<g id=\"edge6\" class=\"edge\">\n<title>Start&#45;&gt;2</title>\n<path fill=\"none\" stroke=\"black\" d=\"M370.5,-87.2C374.21,-81.73 377.72,-75.41 379.64,-69 381.8,-61.76 382.38,-53.67 382.2,-46.14\"/>\n<polygon fill=\"black\" stroke=\"black\" points=\"385.68,-45.76 381.53,-36.01 378.7,-46.23 385.68,-45.76\"/>\n<text text-anchor=\"middle\" x=\"388.64\" y=\"-57.8\" font-family=\"Times New Roman,serif\" font-size=\"14.00\">be</text>\n</g>\n<!-- Start&#45;&gt;2 -->\n<g id=\"edge7\" class=\"edge\">\n<title>Start&#45;&gt;2</title>\n<path fill=\"none\" stroke=\"black\" d=\"M383.64,-88.09C390.07,-82.88 396.09,-76.48 399.64,-69 403.36,-61.18 401.69,-52.52 398.03,-44.64\"/>\n<polygon fill=\"black\" stroke=\"black\" points=\"401.01,-42.8 393.02,-35.84 394.93,-46.26 401.01,-42.8\"/>\n<text text-anchor=\"middle\" x=\"409.14\" y=\"-57.8\" font-family=\"Times New Roman,serif\" font-size=\"14.00\">go</text>\n</g>\n<!-- Start&#45;&gt;2 -->\n<g id=\"edge9\" class=\"edge\">\n<title>Start&#45;&gt;2</title>\n<path fill=\"none\" stroke=\"black\" d=\"M398.14,-89.66C407.08,-84.57 415.41,-77.82 420.64,-69 426.38,-59.32 421.36,-49.64 413.06,-41.4\"/>\n<polygon fill=\"black\" stroke=\"black\" points=\"415.34,-38.75 405.48,-34.86 410.76,-44.04 415.34,-38.75\"/>\n<text text-anchor=\"middle\" x=\"463.64\" y=\"-57.8\" font-family=\"Times New Roman,serif\" font-size=\"14.00\">r1,r2,r10,r11,lr</text>\n</g>\n<!-- Start&#45;&gt;2 -->\n<g id=\"edge10\" class=\"edge\">\n<title>Start&#45;&gt;2</title>\n<path fill=\"none\" stroke=\"black\" d=\"M413.31,-92.66C455.2,-84.01 505.52,-72.92 508.64,-69 527.72,-45.03 496.08,-32.54 459.25,-26.04\"/>\n<polygon fill=\"black\" stroke=\"black\" points=\"459.71,-22.57 449.28,-24.43 458.6,-29.48 459.71,-22.57\"/>\n<text text-anchor=\"middle\" x=\"526.14\" y=\"-57.8\" font-family=\"Times New Roman,serif\" font-size=\"14.00\">look</text>\n</g>\n<!-- Start&#45;&gt;2 -->\n<g id=\"edge11\" class=\"edge\">\n<title>Start&#45;&gt;2</title>\n<path fill=\"none\" stroke=\"black\" d=\"M413.51,-92.62C423.22,-90.71 433.22,-88.78 442.64,-87 464.83,-82.81 528.16,-86.32 542.64,-69 569.68,-36.66 516.61,-24.8 463.79,-20.66\"/>\n<polygon fill=\"black\" stroke=\"black\" points=\"463.82,-17.15 453.6,-19.95 463.34,-24.13 463.82,-17.15\"/>\n<text text-anchor=\"middle\" x=\"559.64\" y=\"-57.8\" font-family=\"Times New Roman,serif\" font-size=\"14.00\">find</text>\n</g>\n<!-- 3 -->\n<g id=\"node4\" class=\"node\">\n<title>3</title>\n<ellipse fill=\"none\" stroke=\"black\" cx=\"483.64\" cy=\"-105\" rx=\"31.7\" ry=\"18\"/>\n<text text-anchor=\"middle\" x=\"483.64\" y=\"-101.3\" font-family=\"Times New Roman,serif\" font-size=\"14.00\">^sed$</text>\n</g>\n</g>\n</svg>\n",
      "text/plain": [
       "<graphviz.graphs.Digraph at 0x293ef83a350>"
      ]
     },
     "metadata": {},
     "output_type": "display_data"
    },
    {
     "name": "stdout",
     "output_type": "stream",
     "text": [
      "Dofloo-Securityaffairs.csv raw doc OPset\n"
     ]
    },
    {
     "data": {
      "image/svg+xml": "<?xml version=\"1.0\" encoding=\"UTF-8\" standalone=\"no\"?>\n<!DOCTYPE svg PUBLIC \"-//W3C//DTD SVG 1.1//EN\"\n \"http://www.w3.org/Graphics/SVG/1.1/DTD/svg11.dtd\">\n<!-- Generated by graphviz version 6.0.1 (20220911.1526)\n -->\n<!-- Pages: 1 -->\n<svg width=\"607pt\" height=\"131pt\"\n viewBox=\"0.00 0.00 606.79 131.00\" xmlns=\"http://www.w3.org/2000/svg\" xmlns:xlink=\"http://www.w3.org/1999/xlink\">\n<g id=\"graph0\" class=\"graph\" transform=\"scale(1 1) rotate(0) translate(4 127)\">\n<polygon fill=\"white\" stroke=\"none\" points=\"-4,4 -4,-127 602.79,-127 602.79,4 -4,4\"/>\n<!-- Start -->\n<g id=\"node1\" class=\"node\">\n<title>Start</title>\n<ellipse fill=\"none\" stroke=\"black\" cx=\"202.8\" cy=\"-105\" rx=\"77.19\" ry=\"18\"/>\n<text text-anchor=\"middle\" x=\"202.8\" y=\"-101.3\" font-family=\"Times New Roman,serif\" font-size=\"14.00\">Malware (Subject)</text>\n</g>\n<!-- 1 -->\n<g id=\"node2\" class=\"node\">\n<title>1</title>\n<ellipse fill=\"none\" stroke=\"black\" cx=\"33.8\" cy=\"-18\" rx=\"33.6\" ry=\"18\"/>\n<text text-anchor=\"middle\" x=\"33.8\" y=\"-14.3\" font-family=\"Times New Roman,serif\" font-size=\"14.00\">/etc/rc</text>\n</g>\n<!-- Start&#45;&gt;1 -->\n<g id=\"edge2\" class=\"edge\">\n<title>Start&#45;&gt;1</title>\n<path fill=\"none\" stroke=\"black\" d=\"M171.8,-88.41C141.92,-73.38 96.88,-50.73 66.45,-35.42\"/>\n<polygon fill=\"black\" stroke=\"black\" points=\"68.02,-32.29 57.51,-30.93 64.87,-38.55 68.02,-32.29\"/>\n<text text-anchor=\"middle\" x=\"148.8\" y=\"-57.8\" font-family=\"Times New Roman,serif\" font-size=\"14.00\">modify</text>\n</g>\n<!-- 2 -->\n<g id=\"node3\" class=\"node\">\n<title>2</title>\n<ellipse fill=\"none\" stroke=\"black\" cx=\"202.8\" cy=\"-18\" rx=\"117.78\" ry=\"18\"/>\n<text text-anchor=\"middle\" x=\"202.8\" y=\"-14.3\" font-family=\"Times New Roman,serif\" font-size=\"14.00\">d{1,3}.d{1,3}.d{1,3}.d{1,3}</text>\n</g>\n<!-- Start&#45;&gt;2 -->\n<g id=\"edge1\" class=\"edge\">\n<title>Start&#45;&gt;2</title>\n<path fill=\"none\" stroke=\"black\" d=\"M202.8,-86.8C202.8,-75.16 202.8,-59.55 202.8,-46.24\"/>\n<polygon fill=\"black\" stroke=\"black\" points=\"206.3,-46.18 202.8,-36.18 199.3,-46.18 206.3,-46.18\"/>\n<text text-anchor=\"middle\" x=\"225.3\" y=\"-57.8\" font-family=\"Times New Roman,serif\" font-size=\"14.00\">connect</text>\n</g>\n<!-- 3 -->\n<g id=\"node4\" class=\"node\">\n<title>3</title>\n<ellipse fill=\"none\" stroke=\"black\" cx=\"468.8\" cy=\"-18\" rx=\"129.98\" ry=\"18\"/>\n<text text-anchor=\"middle\" x=\"468.8\" y=\"-14.3\" font-family=\"Times New Roman,serif\" font-size=\"14.00\">d{1,3}.d{1,3}.d{1,3}.d{1,3}:d+</text>\n</g>\n<!-- Start&#45;&gt;3 -->\n<g id=\"edge3\" class=\"edge\">\n<title>Start&#45;&gt;3</title>\n<path fill=\"none\" stroke=\"black\" d=\"M246.42,-90.06C291.06,-75.8 360.68,-53.55 410.12,-37.75\"/>\n<polygon fill=\"black\" stroke=\"black\" points=\"411.26,-41.06 419.72,-34.68 409.13,-34.39 411.26,-41.06\"/>\n<text text-anchor=\"middle\" x=\"374.3\" y=\"-57.8\" font-family=\"Times New Roman,serif\" font-size=\"14.00\">connect</text>\n</g>\n</g>\n</svg>\n",
      "text/plain": [
       "<graphviz.graphs.Digraph at 0x293ef83ba90>"
      ]
     },
     "metadata": {},
     "output_type": "display_data"
    },
    {
     "name": "stdout",
     "output_type": "stream",
     "text": [
      "Dofloo-SyscallParty.csv raw doc OPset\n"
     ]
    },
    {
     "data": {
      "image/svg+xml": "<?xml version=\"1.0\" encoding=\"UTF-8\" standalone=\"no\"?>\n<!DOCTYPE svg PUBLIC \"-//W3C//DTD SVG 1.1//EN\"\n \"http://www.w3.org/Graphics/SVG/1.1/DTD/svg11.dtd\">\n<!-- Generated by graphviz version 6.0.1 (20220911.1526)\n -->\n<!-- Pages: 1 -->\n<svg width=\"787pt\" height=\"131pt\"\n viewBox=\"0.00 0.00 787.44 131.00\" xmlns=\"http://www.w3.org/2000/svg\" xmlns:xlink=\"http://www.w3.org/1999/xlink\">\n<g id=\"graph0\" class=\"graph\" transform=\"scale(1 1) rotate(0) translate(4 127)\">\n<polygon fill=\"white\" stroke=\"none\" points=\"-4,4 -4,-127 783.44,-127 783.44,4 -4,4\"/>\n<!-- Start -->\n<g id=\"node1\" class=\"node\">\n<title>Start</title>\n<ellipse fill=\"none\" stroke=\"black\" cx=\"325.8\" cy=\"-105\" rx=\"77.19\" ry=\"18\"/>\n<text text-anchor=\"middle\" x=\"325.8\" y=\"-101.3\" font-family=\"Times New Roman,serif\" font-size=\"14.00\">Malware (Subject)</text>\n</g>\n<!-- 2 -->\n<g id=\"node3\" class=\"node\">\n<title>2</title>\n<ellipse fill=\"none\" stroke=\"black\" cx=\"46.8\" cy=\"-18\" rx=\"46.59\" ry=\"18\"/>\n<text text-anchor=\"middle\" x=\"46.8\" y=\"-14.3\" font-family=\"Times New Roman,serif\" font-size=\"14.00\">/etc/init.d/</text>\n</g>\n<!-- Start&#45;&gt;2 -->\n<g id=\"edge1\" class=\"edge\">\n<title>Start&#45;&gt;2</title>\n<path fill=\"none\" stroke=\"black\" d=\"M267.04,-93.21C237.54,-87.19 201.45,-78.91 169.8,-69 140.79,-59.92 109.04,-46.93 85.07,-36.47\"/>\n<polygon fill=\"black\" stroke=\"black\" points=\"86.19,-33.14 75.62,-32.3 83.36,-39.54 86.19,-33.14\"/>\n<text text-anchor=\"middle\" x=\"180.8\" y=\"-57.8\" font-family=\"Times New Roman,serif\" font-size=\"14.00\">add</text>\n</g>\n<!-- 3 -->\n<g id=\"node4\" class=\"node\">\n<title>3</title>\n<ellipse fill=\"none\" stroke=\"black\" cx=\"186.8\" cy=\"-18\" rx=\"75.29\" ry=\"18\"/>\n<text text-anchor=\"middle\" x=\"186.8\" y=\"-14.3\" font-family=\"Times New Roman,serif\" font-size=\"14.00\">0x[0&#45;9a&#45;zA&#45;Z]{8}</text>\n</g>\n<!-- Start&#45;&gt;3 -->\n<g id=\"edge2\" class=\"edge\">\n<title>Start&#45;&gt;3</title>\n<path fill=\"none\" stroke=\"black\" d=\"M258.2,-96.17C239.01,-91.06 219.39,-82.69 204.8,-69 198.29,-62.9 194.13,-54.27 191.47,-45.9\"/>\n<polygon fill=\"black\" stroke=\"black\" points=\"194.81,-44.81 188.92,-36 188.03,-46.56 194.81,-44.81\"/>\n<text text-anchor=\"middle\" x=\"216.3\" y=\"-57.8\" font-family=\"Times New Roman,serif\" font-size=\"14.00\">give</text>\n</g>\n<!-- 5 -->\n<g id=\"node6\" class=\"node\">\n<title>5</title>\n<ellipse fill=\"none\" stroke=\"black\" cx=\"313.8\" cy=\"-18\" rx=\"33.6\" ry=\"18\"/>\n<text text-anchor=\"middle\" x=\"313.8\" y=\"-14.3\" font-family=\"Times New Roman,serif\" font-size=\"14.00\">/etc/rc</text>\n</g>\n<!-- Start&#45;&gt;5 -->\n<g id=\"edge3\" class=\"edge\">\n<title>Start&#45;&gt;5</title>\n<path fill=\"none\" stroke=\"black\" d=\"M266.61,-93.27C253.75,-88.08 241.65,-80.4 233.8,-69 230.01,-63.51 230.15,-59.58 233.8,-54 235.2,-51.85 257.46,-42.2 278.14,-33.58\"/>\n<polygon fill=\"black\" stroke=\"black\" points=\"279.56,-36.78 287.45,-29.72 276.87,-30.31 279.56,-36.78\"/>\n<text text-anchor=\"middle\" x=\"252.3\" y=\"-57.8\" font-family=\"Times New Roman,serif\" font-size=\"14.00\">format</text>\n</g>\n<!-- Start&#45;&gt;5 -->\n<g id=\"edge5\" class=\"edge\">\n<title>Start&#45;&gt;5</title>\n<path fill=\"none\" stroke=\"black\" d=\"M305.93,-87.29C301.02,-82 296.42,-75.75 293.8,-69 290.59,-60.73 292.5,-51.72 296.19,-43.66\"/>\n<polygon fill=\"black\" stroke=\"black\" points=\"299.35,-45.18 301.12,-34.73 293.22,-41.79 299.35,-45.18\"/>\n<text text-anchor=\"middle\" x=\"315.3\" y=\"-57.8\" font-family=\"Times New Roman,serif\" font-size=\"14.00\">execute</text>\n</g>\n<!-- Start&#45;&gt;5 -->\n<g id=\"edge6\" class=\"edge\">\n<title>Start&#45;&gt;5</title>\n<path fill=\"none\" stroke=\"black\" d=\"M333.91,-86.71C337.39,-77.01 340.01,-64.73 336.8,-54 335.71,-50.37 334.12,-46.77 332.26,-43.34\"/>\n<polygon fill=\"black\" stroke=\"black\" points=\"335.17,-41.39 326.93,-34.74 329.22,-45.08 335.17,-41.39\"/>\n<text text-anchor=\"middle\" x=\"349.8\" y=\"-57.8\" font-family=\"Times New Roman,serif\" font-size=\"14.00\">add</text>\n</g>\n<!-- 6 -->\n<g id=\"node7\" class=\"node\">\n<title>6</title>\n<ellipse fill=\"none\" stroke=\"black\" cx=\"412.8\" cy=\"-18\" rx=\"32.49\" ry=\"18\"/>\n<text text-anchor=\"middle\" x=\"412.8\" y=\"-14.3\" font-family=\"Times New Roman,serif\" font-size=\"14.00\">/proc/</text>\n</g>\n<!-- Start&#45;&gt;6 -->\n<g id=\"edge4\" class=\"edge\">\n<title>Start&#45;&gt;6</title>\n<path fill=\"none\" stroke=\"black\" d=\"M344.7,-87.54C351.17,-81.78 358.39,-75.2 364.8,-69 373.67,-60.42 383.14,-50.68 391.3,-42.1\"/>\n<polygon fill=\"black\" stroke=\"black\" points=\"394.06,-44.28 398.38,-34.61 388.97,-39.48 394.06,-44.28\"/>\n<text text-anchor=\"middle\" x=\"393.8\" y=\"-57.8\" font-family=\"Times New Roman,serif\" font-size=\"14.00\">open</text>\n</g>\n<!-- Start&#45;&gt;6 -->\n<g id=\"edge8\" class=\"edge\">\n<title>Start&#45;&gt;6</title>\n<path fill=\"none\" stroke=\"black\" d=\"M381.05,-92.38C393.07,-87.22 404.4,-79.76 411.8,-69 416.31,-62.43 417.72,-54.15 417.66,-46.22\"/>\n<polygon fill=\"black\" stroke=\"black\" points=\"421.15,-45.88 416.89,-36.18 414.17,-46.42 421.15,-45.88\"/>\n<text text-anchor=\"middle\" x=\"430.3\" y=\"-57.8\" font-family=\"Times New Roman,serif\" font-size=\"14.00\">read</text>\n</g>\n<!-- 7 -->\n<g id=\"node8\" class=\"node\">\n<title>7</title>\n<ellipse fill=\"none\" stroke=\"black\" cx=\"502.8\" cy=\"-18\" rx=\"31.7\" ry=\"18\"/>\n<text text-anchor=\"middle\" x=\"502.8\" y=\"-14.3\" font-family=\"Times New Roman,serif\" font-size=\"14.00\">^sed$</text>\n</g>\n<!-- Start&#45;&gt;7 -->\n<g id=\"edge7\" class=\"edge\">\n<title>Start&#45;&gt;7</title>\n<path fill=\"none\" stroke=\"black\" d=\"M383.59,-92.88C404.33,-87.47 427.37,-79.74 446.8,-69 459.58,-61.93 471.9,-51.47 481.71,-41.94\"/>\n<polygon fill=\"black\" stroke=\"black\" points=\"484.45,-44.15 489.01,-34.59 479.48,-39.22 484.45,-44.15\"/>\n<text text-anchor=\"middle\" x=\"485.3\" y=\"-57.8\" font-family=\"Times New Roman,serif\" font-size=\"14.00\">format</text>\n</g>\n<!-- 1 -->\n<g id=\"node2\" class=\"node\">\n<title>1</title>\n<ellipse fill=\"none\" stroke=\"black\" cx=\"538.8\" cy=\"-105\" rx=\"117.78\" ry=\"18\"/>\n<text text-anchor=\"middle\" x=\"538.8\" y=\"-101.3\" font-family=\"Times New Roman,serif\" font-size=\"14.00\">d{1,3}.d{1,3}.d{1,3}.d{1,3}</text>\n</g>\n<!-- 4 -->\n<g id=\"node5\" class=\"node\">\n<title>4</title>\n<ellipse fill=\"none\" stroke=\"black\" cx=\"726.8\" cy=\"-105\" rx=\"52.79\" ry=\"18\"/>\n<text text-anchor=\"middle\" x=\"726.8\" y=\"-101.3\" font-family=\"Times New Roman,serif\" font-size=\"14.00\">uname(.)($)</text>\n</g>\n</g>\n</svg>\n",
      "text/plain": [
       "<graphviz.graphs.Digraph at 0x293ef83a350>"
      ]
     },
     "metadata": {},
     "output_type": "display_data"
    },
    {
     "name": "stdout",
     "output_type": "stream",
     "text": [
      "Dofloo-Trendmicro.csv raw doc OPset\n"
     ]
    },
    {
     "data": {
      "image/svg+xml": "<?xml version=\"1.0\" encoding=\"UTF-8\" standalone=\"no\"?>\n<!DOCTYPE svg PUBLIC \"-//W3C//DTD SVG 1.1//EN\"\n \"http://www.w3.org/Graphics/SVG/1.1/DTD/svg11.dtd\">\n<!-- Generated by graphviz version 6.0.1 (20220911.1526)\n -->\n<!-- Pages: 1 -->\n<svg width=\"616pt\" height=\"131pt\"\n viewBox=\"0.00 0.00 615.64 131.00\" xmlns=\"http://www.w3.org/2000/svg\" xmlns:xlink=\"http://www.w3.org/1999/xlink\">\n<g id=\"graph0\" class=\"graph\" transform=\"scale(1 1) rotate(0) translate(4 127)\">\n<polygon fill=\"white\" stroke=\"none\" points=\"-4,4 -4,-127 611.64,-127 611.64,4 -4,4\"/>\n<!-- Start -->\n<g id=\"node1\" class=\"node\">\n<title>Start</title>\n<ellipse fill=\"none\" stroke=\"black\" cx=\"277.85\" cy=\"-105\" rx=\"77.19\" ry=\"18\"/>\n<text text-anchor=\"middle\" x=\"277.85\" y=\"-101.3\" font-family=\"Times New Roman,serif\" font-size=\"14.00\">Malware (Subject)</text>\n</g>\n<!-- 2 -->\n<g id=\"node3\" class=\"node\">\n<title>2</title>\n<ellipse fill=\"none\" stroke=\"black\" cx=\"31.85\" cy=\"-18\" rx=\"31.7\" ry=\"18\"/>\n<text text-anchor=\"middle\" x=\"31.85\" y=\"-14.3\" font-family=\"Times New Roman,serif\" font-size=\"14.00\">^sed$</text>\n</g>\n<!-- Start&#45;&gt;2 -->\n<g id=\"edge1\" class=\"edge\">\n<title>Start&#45;&gt;2</title>\n<path fill=\"none\" stroke=\"black\" d=\"M233.13,-90.2C191.38,-77.07 127.49,-56.36 72.85,-36 70.59,-35.16 68.28,-34.27 65.95,-33.36\"/>\n<polygon fill=\"black\" stroke=\"black\" points=\"67.03,-30.02 56.45,-29.54 64.42,-36.52 67.03,-30.02\"/>\n<text text-anchor=\"middle\" x=\"169.35\" y=\"-57.8\" font-family=\"Times New Roman,serif\" font-size=\"14.00\">se</text>\n</g>\n<!-- 4 -->\n<g id=\"node5\" class=\"node\">\n<title>4</title>\n<ellipse fill=\"none\" stroke=\"black\" cx=\"133.85\" cy=\"-18\" rx=\"51.99\" ry=\"18\"/>\n<text text-anchor=\"middle\" x=\"133.85\" y=\"-14.3\" font-family=\"Times New Roman,serif\" font-size=\"14.00\">resolv.conf</text>\n</g>\n<!-- Start&#45;&gt;4 -->\n<g id=\"edge2\" class=\"edge\">\n<title>Start&#45;&gt;4</title>\n<path fill=\"none\" stroke=\"black\" d=\"M250.76,-88.01C227.25,-74.13 193.11,-53.98 167.78,-39.03\"/>\n<polygon fill=\"black\" stroke=\"black\" points=\"169.27,-35.85 158.88,-33.78 165.72,-41.88 169.27,-35.85\"/>\n<text text-anchor=\"middle\" x=\"228.85\" y=\"-57.8\" font-family=\"Times New Roman,serif\" font-size=\"14.00\">open</text>\n</g>\n<!-- 5 -->\n<g id=\"node6\" class=\"node\">\n<title>5</title>\n<ellipse fill=\"none\" stroke=\"black\" cx=\"235.85\" cy=\"-18\" rx=\"32.49\" ry=\"18\"/>\n<text text-anchor=\"middle\" x=\"235.85\" y=\"-14.3\" font-family=\"Times New Roman,serif\" font-size=\"14.00\">/proc/</text>\n</g>\n<!-- Start&#45;&gt;5 -->\n<g id=\"edge3\" class=\"edge\">\n<title>Start&#45;&gt;5</title>\n<path fill=\"none\" stroke=\"black\" d=\"M269.35,-86.8C263.41,-74.78 255.37,-58.51 248.65,-44.92\"/>\n<polygon fill=\"black\" stroke=\"black\" points=\"251.62,-43.01 244.05,-35.6 245.34,-46.11 251.62,-43.01\"/>\n<text text-anchor=\"middle\" x=\"276.85\" y=\"-57.8\" font-family=\"Times New Roman,serif\" font-size=\"14.00\">gather</text>\n</g>\n<!-- 6 -->\n<g id=\"node7\" class=\"node\">\n<title>6</title>\n<ellipse fill=\"none\" stroke=\"black\" cx=\"319.85\" cy=\"-18\" rx=\"33.6\" ry=\"18\"/>\n<text text-anchor=\"middle\" x=\"319.85\" y=\"-14.3\" font-family=\"Times New Roman,serif\" font-size=\"14.00\">/etc/rc</text>\n</g>\n<!-- Start&#45;&gt;6 -->\n<g id=\"edge4\" class=\"edge\">\n<title>Start&#45;&gt;6</title>\n<path fill=\"none\" stroke=\"black\" d=\"M287.98,-87.11C291.26,-81.42 294.82,-75 297.85,-69 301.69,-61.38 305.55,-52.94 308.94,-45.19\"/>\n<polygon fill=\"black\" stroke=\"black\" points=\"312.21,-46.44 312.94,-35.87 305.78,-43.68 312.21,-46.44\"/>\n<text text-anchor=\"middle\" x=\"312.35\" y=\"-57.8\" font-family=\"Times New Roman,serif\" font-size=\"14.00\">se</text>\n</g>\n<!-- 7 -->\n<g id=\"node8\" class=\"node\">\n<title>7</title>\n<ellipse fill=\"none\" stroke=\"black\" cx=\"433.85\" cy=\"-18\" rx=\"61.99\" ry=\"18\"/>\n<text text-anchor=\"middle\" x=\"433.85\" y=\"-14.3\" font-family=\"Times New Roman,serif\" font-size=\"14.00\">nsswitch.conf</text>\n</g>\n<!-- Start&#45;&gt;7 -->\n<g id=\"edge5\" class=\"edge\">\n<title>Start&#45;&gt;7</title>\n<path fill=\"none\" stroke=\"black\" d=\"M306.82,-88.21C332.31,-74.32 369.55,-54.03 397.13,-39.01\"/>\n<polygon fill=\"black\" stroke=\"black\" points=\"398.97,-41.99 406.07,-34.13 395.62,-35.84 398.97,-41.99\"/>\n<text text-anchor=\"middle\" x=\"379.85\" y=\"-57.8\" font-family=\"Times New Roman,serif\" font-size=\"14.00\">open</text>\n</g>\n<!-- 8 -->\n<g id=\"node9\" class=\"node\">\n<title>8</title>\n<ellipse fill=\"none\" stroke=\"black\" cx=\"560.85\" cy=\"-18\" rx=\"46.59\" ry=\"18\"/>\n<text text-anchor=\"middle\" x=\"560.85\" y=\"-14.3\" font-family=\"Times New Roman,serif\" font-size=\"14.00\">/etc/init.d/</text>\n</g>\n<!-- Start&#45;&gt;8 -->\n<g id=\"edge6\" class=\"edge\">\n<title>Start&#45;&gt;8</title>\n<path fill=\"none\" stroke=\"black\" d=\"M324.33,-90.6C346.6,-84.15 373.63,-76.25 397.85,-69 437.81,-57.04 483.17,-43.1 515.87,-32.98\"/>\n<polygon fill=\"black\" stroke=\"black\" points=\"517.08,-36.27 525.6,-29.97 515.01,-29.58 517.08,-36.27\"/>\n<text text-anchor=\"middle\" x=\"460.35\" y=\"-57.8\" font-family=\"Times New Roman,serif\" font-size=\"14.00\">start</text>\n</g>\n<!-- 1 -->\n<g id=\"node2\" class=\"node\">\n<title>1</title>\n<ellipse fill=\"none\" stroke=\"black\" cx=\"400.85\" cy=\"-105\" rx=\"27.9\" ry=\"18\"/>\n<text text-anchor=\"middle\" x=\"400.85\" y=\"-101.3\" font-family=\"Times New Roman,serif\" font-size=\"14.00\">/sys/</text>\n</g>\n<!-- 3 -->\n<g id=\"node4\" class=\"node\">\n<title>3</title>\n<ellipse fill=\"none\" stroke=\"black\" cx=\"473.85\" cy=\"-105\" rx=\"27\" ry=\"18\"/>\n<text text-anchor=\"middle\" x=\"473.85\" y=\"-101.3\" font-family=\"Times New Roman,serif\" font-size=\"14.00\">UID</text>\n</g>\n</g>\n</svg>\n",
      "text/plain": [
       "<graphviz.graphs.Digraph at 0x293ef83ba90>"
      ]
     },
     "metadata": {},
     "output_type": "display_data"
    },
    {
     "name": "stdout",
     "output_type": "stream",
     "text": [
      "Dofloo-Securityaffairs.csv matched doc OPset\n"
     ]
    },
    {
     "data": {
      "image/svg+xml": "<?xml version=\"1.0\" encoding=\"UTF-8\" standalone=\"no\"?>\n<!DOCTYPE svg PUBLIC \"-//W3C//DTD SVG 1.1//EN\"\n \"http://www.w3.org/Graphics/SVG/1.1/DTD/svg11.dtd\">\n<!-- Generated by graphviz version 6.0.1 (20220911.1526)\n -->\n<!-- Pages: 1 -->\n<svg width=\"607pt\" height=\"131pt\"\n viewBox=\"0.00 0.00 606.63 131.00\" xmlns=\"http://www.w3.org/2000/svg\" xmlns:xlink=\"http://www.w3.org/1999/xlink\">\n<g id=\"graph0\" class=\"graph\" transform=\"scale(1 1) rotate(0) translate(4 127)\">\n<polygon fill=\"white\" stroke=\"none\" points=\"-4,4 -4,-127 602.63,-127 602.63,4 -4,4\"/>\n<!-- Start -->\n<g id=\"node1\" class=\"node\">\n<title>Start</title>\n<ellipse fill=\"none\" stroke=\"black\" cx=\"286.64\" cy=\"-105\" rx=\"77.19\" ry=\"18\"/>\n<text text-anchor=\"middle\" x=\"286.64\" y=\"-101.3\" font-family=\"Times New Roman,serif\" font-size=\"14.00\">Malware (Subject)</text>\n</g>\n<!-- 1 -->\n<g id=\"node2\" class=\"node\">\n<title>1</title>\n<ellipse fill=\"none\" stroke=\"black\" cx=\"117.64\" cy=\"-18\" rx=\"117.78\" ry=\"18\"/>\n<text text-anchor=\"middle\" x=\"117.64\" y=\"-14.3\" font-family=\"Times New Roman,serif\" font-size=\"14.00\">d{1,3}.d{1,3}.d{1,3}.d{1,3}</text>\n</g>\n<!-- Start&#45;&gt;1 -->\n<g id=\"edge1\" class=\"edge\">\n<title>Start&#45;&gt;1</title>\n<path fill=\"none\" stroke=\"black\" d=\"M255.64,-88.41C228.64,-74.83 189.26,-55.02 159.48,-40.04\"/>\n<polygon fill=\"black\" stroke=\"black\" points=\"160.67,-36.73 150.17,-35.36 157.53,-42.98 160.67,-36.73\"/>\n<text text-anchor=\"middle\" x=\"235.14\" y=\"-57.8\" font-family=\"Times New Roman,serif\" font-size=\"14.00\">connect</text>\n</g>\n<!-- 2 -->\n<g id=\"node3\" class=\"node\">\n<title>2</title>\n<ellipse fill=\"none\" stroke=\"black\" cx=\"286.64\" cy=\"-18\" rx=\"33.6\" ry=\"18\"/>\n<text text-anchor=\"middle\" x=\"286.64\" y=\"-14.3\" font-family=\"Times New Roman,serif\" font-size=\"14.00\">/etc/rc</text>\n</g>\n<!-- Start&#45;&gt;2 -->\n<g id=\"edge2\" class=\"edge\">\n<title>Start&#45;&gt;2</title>\n<path fill=\"none\" stroke=\"black\" d=\"M286.64,-86.8C286.64,-75.16 286.64,-59.55 286.64,-46.24\"/>\n<polygon fill=\"black\" stroke=\"black\" points=\"290.14,-46.18 286.64,-36.18 283.14,-46.18 290.14,-46.18\"/>\n<text text-anchor=\"middle\" x=\"306.64\" y=\"-57.8\" font-family=\"Times New Roman,serif\" font-size=\"14.00\">modify</text>\n</g>\n<!-- 3 -->\n<g id=\"node4\" class=\"node\">\n<title>3</title>\n<ellipse fill=\"none\" stroke=\"black\" cx=\"468.64\" cy=\"-18\" rx=\"129.98\" ry=\"18\"/>\n<text text-anchor=\"middle\" x=\"468.64\" y=\"-14.3\" font-family=\"Times New Roman,serif\" font-size=\"14.00\">d{1,3}.d{1,3}.d{1,3}.d{1,3}:d+</text>\n</g>\n<!-- Start&#45;&gt;3 -->\n<g id=\"edge3\" class=\"edge\">\n<title>Start&#45;&gt;3</title>\n<path fill=\"none\" stroke=\"black\" d=\"M319.6,-88.61C348.87,-74.93 391.9,-54.84 424.21,-39.75\"/>\n<polygon fill=\"black\" stroke=\"black\" points=\"425.86,-42.84 433.44,-35.44 422.9,-36.5 425.86,-42.84\"/>\n<text text-anchor=\"middle\" x=\"411.14\" y=\"-57.8\" font-family=\"Times New Roman,serif\" font-size=\"14.00\">connect</text>\n</g>\n</g>\n</svg>\n",
      "text/plain": [
       "<graphviz.graphs.Digraph at 0x293ef83a350>"
      ]
     },
     "metadata": {},
     "output_type": "display_data"
    },
    {
     "name": "stdout",
     "output_type": "stream",
     "text": [
      "Dofloo-SyscallParty.csv matched doc OPset\n"
     ]
    },
    {
     "data": {
      "image/svg+xml": "<?xml version=\"1.0\" encoding=\"UTF-8\" standalone=\"no\"?>\n<!DOCTYPE svg PUBLIC \"-//W3C//DTD SVG 1.1//EN\"\n \"http://www.w3.org/Graphics/SVG/1.1/DTD/svg11.dtd\">\n<!-- Generated by graphviz version 6.0.1 (20220911.1526)\n -->\n<!-- Pages: 1 -->\n<svg width=\"271pt\" height=\"131pt\"\n viewBox=\"0.00 0.00 271.29 131.00\" xmlns=\"http://www.w3.org/2000/svg\" xmlns:xlink=\"http://www.w3.org/1999/xlink\">\n<g id=\"graph0\" class=\"graph\" transform=\"scale(1 1) rotate(0) translate(4 127)\">\n<polygon fill=\"white\" stroke=\"none\" points=\"-4,4 -4,-127 267.29,-127 267.29,4 -4,4\"/>\n<!-- Start -->\n<g id=\"node1\" class=\"node\">\n<title>Start</title>\n<ellipse fill=\"none\" stroke=\"black\" cx=\"106.5\" cy=\"-105\" rx=\"77.19\" ry=\"18\"/>\n<text text-anchor=\"middle\" x=\"106.5\" y=\"-101.3\" font-family=\"Times New Roman,serif\" font-size=\"14.00\">Malware (Subject)</text>\n</g>\n<!-- 1 -->\n<g id=\"node2\" class=\"node\">\n<title>1</title>\n<ellipse fill=\"none\" stroke=\"black\" cx=\"32.5\" cy=\"-18\" rx=\"32.49\" ry=\"18\"/>\n<text text-anchor=\"middle\" x=\"32.5\" y=\"-14.3\" font-family=\"Times New Roman,serif\" font-size=\"14.00\">/proc/</text>\n</g>\n<!-- Start&#45;&gt;1 -->\n<g id=\"edge1\" class=\"edge\">\n<title>Start&#45;&gt;1</title>\n<path fill=\"none\" stroke=\"black\" d=\"M58.29,-90.74C48.09,-85.63 38.58,-78.61 32.5,-69 28.23,-62.27 27.03,-53.94 27.24,-46.02\"/>\n<polygon fill=\"black\" stroke=\"black\" points=\"30.72,-46.3 28.18,-36.01 23.76,-45.64 30.72,-46.3\"/>\n<text text-anchor=\"middle\" x=\"46.5\" y=\"-57.8\" font-family=\"Times New Roman,serif\" font-size=\"14.00\">open</text>\n</g>\n<!-- Start&#45;&gt;1 -->\n<g id=\"edge3\" class=\"edge\">\n<title>Start&#45;&gt;1</title>\n<path fill=\"none\" stroke=\"black\" d=\"M91.88,-87.21C80.75,-74.43 65.3,-56.68 52.95,-42.49\"/>\n<polygon fill=\"black\" stroke=\"black\" points=\"55.29,-39.86 46.09,-34.61 50.02,-44.45 55.29,-39.86\"/>\n<text text-anchor=\"middle\" x=\"87\" y=\"-57.8\" font-family=\"Times New Roman,serif\" font-size=\"14.00\">read</text>\n</g>\n<!-- 2 -->\n<g id=\"node3\" class=\"node\">\n<title>2</title>\n<ellipse fill=\"none\" stroke=\"black\" cx=\"130.5\" cy=\"-18\" rx=\"46.59\" ry=\"18\"/>\n<text text-anchor=\"middle\" x=\"130.5\" y=\"-14.3\" font-family=\"Times New Roman,serif\" font-size=\"14.00\">/etc/init.d/</text>\n</g>\n<!-- Start&#45;&gt;2 -->\n<g id=\"edge2\" class=\"edge\">\n<title>Start&#45;&gt;2</title>\n<path fill=\"none\" stroke=\"black\" d=\"M111.35,-86.8C114.67,-75.05 119.14,-59.24 122.92,-45.84\"/>\n<polygon fill=\"black\" stroke=\"black\" points=\"126.3,-46.75 125.65,-36.18 119.56,-44.85 126.3,-46.75\"/>\n<text text-anchor=\"middle\" x=\"131.5\" y=\"-57.8\" font-family=\"Times New Roman,serif\" font-size=\"14.00\">add</text>\n</g>\n<!-- 3 -->\n<g id=\"node4\" class=\"node\">\n<title>3</title>\n<ellipse fill=\"none\" stroke=\"black\" cx=\"229.5\" cy=\"-18\" rx=\"33.6\" ry=\"18\"/>\n<text text-anchor=\"middle\" x=\"229.5\" y=\"-14.3\" font-family=\"Times New Roman,serif\" font-size=\"14.00\">/etc/rc</text>\n</g>\n<!-- Start&#45;&gt;3 -->\n<g id=\"edge4\" class=\"edge\">\n<title>Start&#45;&gt;3</title>\n<path fill=\"none\" stroke=\"black\" d=\"M129.92,-87.81C150.14,-73.84 179.4,-53.62 200.98,-38.71\"/>\n<polygon fill=\"black\" stroke=\"black\" points=\"203.18,-41.44 209.42,-32.88 199.2,-35.68 203.18,-41.44\"/>\n<text text-anchor=\"middle\" x=\"194\" y=\"-57.8\" font-family=\"Times New Roman,serif\" font-size=\"14.00\">format</text>\n</g>\n</g>\n</svg>\n",
      "text/plain": [
       "<graphviz.graphs.Digraph at 0x293ef83ba90>"
      ]
     },
     "metadata": {},
     "output_type": "display_data"
    },
    {
     "name": "stdout",
     "output_type": "stream",
     "text": [
      "Dofloo-Trendmicro.csv matched doc OPset\n"
     ]
    },
    {
     "data": {
      "image/svg+xml": "<?xml version=\"1.0\" encoding=\"UTF-8\" standalone=\"no\"?>\n<!DOCTYPE svg PUBLIC \"-//W3C//DTD SVG 1.1//EN\"\n \"http://www.w3.org/Graphics/SVG/1.1/DTD/svg11.dtd\">\n<!-- Generated by graphviz version 6.0.1 (20220911.1526)\n -->\n<!-- Pages: 1 -->\n<svg width=\"163pt\" height=\"131pt\"\n viewBox=\"0.00 0.00 162.69 131.00\" xmlns=\"http://www.w3.org/2000/svg\" xmlns:xlink=\"http://www.w3.org/1999/xlink\">\n<g id=\"graph0\" class=\"graph\" transform=\"scale(1 1) rotate(0) translate(4 127)\">\n<polygon fill=\"white\" stroke=\"none\" points=\"-4,4 -4,-127 158.69,-127 158.69,4 -4,4\"/>\n<!-- Start -->\n<g id=\"node1\" class=\"node\">\n<title>Start</title>\n<ellipse fill=\"none\" stroke=\"black\" cx=\"77.34\" cy=\"-105\" rx=\"77.19\" ry=\"18\"/>\n<text text-anchor=\"middle\" x=\"77.34\" y=\"-101.3\" font-family=\"Times New Roman,serif\" font-size=\"14.00\">Malware (Subject)</text>\n</g>\n<!-- 1 -->\n<g id=\"node2\" class=\"node\">\n<title>1</title>\n<ellipse fill=\"none\" stroke=\"black\" cx=\"77.34\" cy=\"-18\" rx=\"32.49\" ry=\"18\"/>\n<text text-anchor=\"middle\" x=\"77.34\" y=\"-14.3\" font-family=\"Times New Roman,serif\" font-size=\"14.00\">/proc/</text>\n</g>\n<!-- Start&#45;&gt;1 -->\n<g id=\"edge1\" class=\"edge\">\n<title>Start&#45;&gt;1</title>\n<path fill=\"none\" stroke=\"black\" d=\"M77.34,-86.8C77.34,-75.16 77.34,-59.55 77.34,-46.24\"/>\n<polygon fill=\"black\" stroke=\"black\" points=\"80.84,-46.18 77.34,-36.18 73.84,-46.18 80.84,-46.18\"/>\n<text text-anchor=\"middle\" x=\"94.34\" y=\"-57.8\" font-family=\"Times New Roman,serif\" font-size=\"14.00\">gather</text>\n</g>\n</g>\n</svg>\n",
      "text/plain": [
       "<graphviz.graphs.Digraph at 0x293ef83a350>"
      ]
     },
     "metadata": {},
     "output_type": "display_data"
    }
   ],
   "source": [
    "import graphviz\n",
    "\n",
    "class ItemMapper:\n",
    "    def __init__(self) -> None:\n",
    "        self.mapper = {}\n",
    "        self.index_counter:int = 1\n",
    "        pass\n",
    "    def addItem(self, item:str) -> str:\n",
    "        if item in self.mapper.keys():\n",
    "            return self.mapper.get(item)\n",
    "        self.mapper[item] = str(self.index_counter)\n",
    "        self.index_counter += 1\n",
    "        return str(self.index_counter - 1)\n",
    "    def getSymbol(self, item:str):\n",
    "        return self.mapper.get(item, None)\n",
    "\n",
    "\n",
    "def draw_asg_op_graph(asg_OPset: list[OperationPair], family=None):\n",
    "    dot = graphviz.Digraph(f'{family}_asg_OPset', comment='The Operational Pair Graph') \n",
    "    dot.node('Start', label=\"Malware (Subject)\")\n",
    "    mapper = ItemMapper()\n",
    "    for op in asg_OPset:\n",
    "        node_id = mapper.addItem(op.object)\n",
    "        dot.node(node_id, label=op.object)\n",
    "        if op.action:\n",
    "            dot.edge('Start', node_id, label=op.action)\n",
    "\n",
    "    u = dot.unflatten(stagger=2) \n",
    "    display(u)\n",
    "    del mapper\n",
    "    return u\n",
    "\n",
    "def draw_ctd_op_graph(fset:FamilySet):\n",
    "    # doc_OPset\n",
    "    for rem in fset.rem_lst:\n",
    "        if rem.doc_OPset is None or len(rem.doc_OPset) == 0:\n",
    "            continue\n",
    "        dot = graphviz.Digraph()\n",
    "        dot.node('Start', label=\"Malware (Subject)\")\n",
    "        mapper = ItemMapper()\n",
    "        for op in rem.doc_OPset:\n",
    "            node_id = mapper.addItem(op.object)\n",
    "            dot.node(node_id, label=op.object)\n",
    "            if op.action:\n",
    "                dot.edge('Start', node_id, label=op.action)\n",
    "        print(f\"{rem.reportname} raw doc OPset\")\n",
    "        display(dot)\n",
    "        del mapper\n",
    "    # match_doc_OPset\n",
    "    for rem in fset.rem_lst:\n",
    "        if rem.match_doc_OPset is None or len(rem.match_doc_OPset) == 0:\n",
    "            continue\n",
    "        dot = graphviz.Digraph()\n",
    "        dot.node('Start', label=\"Malware (Subject)\")\n",
    "        mapper = ItemMapper()\n",
    "        for op in rem.match_doc_OPset:\n",
    "            node_id = mapper.addItem(op.object)\n",
    "            dot.node(node_id, label=op.object)\n",
    "            if op.action:\n",
    "                dot.edge('Start', node_id, label=op.action)\n",
    "        print(f\"{rem.reportname} matched doc OPset\")\n",
    "        display(dot)\n",
    "        del mapper\n",
    "    return\n",
    "\n",
    "draw_asg_op_graph(sample.OPset, family=family)\n",
    "draw_ctd_op_graph(fset)"
   ]
  },
  {
   "cell_type": "code",
   "execution_count": 40,
   "metadata": {},
   "outputs": [
    {
     "name": "stdout",
     "output_type": "stream",
     "text": [
      "set()\n",
      "{<OP act=None, obj=\\d{1,3}\\.\\d{1,3}\\.\\d{1,3}\\.\\d{1,3}>, <OP act=None, obj=0x[0-9a-zA-Z]{8}>, <OP act=svc, obj=0x[0-9a-zA-Z]{8}>, <OP act=have, obj=0x[0-9a-zA-Z]{8}>, <OP act=pack, obj=0x[0-9a-zA-Z]{8}>, <OP act=eserve, obj=0x[0-9a-zA-Z]{8}>, <OP act=add, obj=0x[0-9a-zA-Z]{8}>, <OP act=be, obj=0x[0-9a-zA-Z]{8}>, <OP act=go, obj=0x[0-9a-zA-Z]{8}>, <OP act=be, obj=\\d{1,3}\\.\\d{1,3}\\.\\d{1,3}\\.\\d{1,3}>, <OP act=None, obj=^sed$>, <OP act=r1,r2,r10,r11,lr, obj=0x[0-9a-zA-Z]{8}>, <OP act=look, obj=0x[0-9a-zA-Z]{8}>, <OP act=find, obj=0x[0-9a-zA-Z]{8}>}\n",
      "{<OP act=None, obj=/etc/rc>, <OP act=connect, obj=\\d{1,3}\\.\\d{1,3}\\.\\d{1,3}\\.\\d{1,3}>, <OP act=modify, obj=/etc/rc>, <OP act=connect, obj=\\d{1,3}\\.\\d{1,3}\\.\\d{1,3}\\.\\d{1,3}:\\d+>}\n",
      "{<OP act=None, obj=\\d{1,3}\\.\\d{1,3}\\.\\d{1,3}\\.\\d{1,3}>, <OP act=add, obj=/etc/init.d/>, <OP act=give, obj=0x[0-9a-zA-Z]{8}>, <OP act=None, obj=uname(.)($)>, <OP act=format, obj=/etc/rc>, <OP act=open, obj=/proc/>, <OP act=execute, obj=/etc/rc>, <OP act=None, obj=/proc/>, <OP act=add, obj=/etc/rc>, <OP act=format, obj=^sed$>, <OP act=read, obj=/proc/>}\n",
      "{<OP act=None, obj=/sys/>, <OP act=se, obj=^sed$>, <OP act=None, obj=UID>, <OP act=open, obj=resolv.conf>, <OP act=None, obj=/proc/>, <OP act=gather, obj=/proc/>, <OP act=se, obj=/etc/rc>, <OP act=open, obj=nsswitch.conf>, <OP act=start, obj=/etc/init.d/>}\n"
     ]
    }
   ],
   "source": [
    "# 測試區\n",
    "for rem in fset.rem_lst:\n",
    "    print(rem.doc_OPset)"
   ]
  },
  {
   "cell_type": "code",
   "execution_count": 41,
   "metadata": {},
   "outputs": [
    {
     "data": {
      "text/html": [
       "<div>\n",
       "<style scoped>\n",
       "    .dataframe tbody tr th:only-of-type {\n",
       "        vertical-align: middle;\n",
       "    }\n",
       "\n",
       "    .dataframe tbody tr th {\n",
       "        vertical-align: top;\n",
       "    }\n",
       "\n",
       "    .dataframe thead th {\n",
       "        text-align: right;\n",
       "    }\n",
       "</style>\n",
       "<table border=\"1\" class=\"dataframe\">\n",
       "  <thead>\n",
       "    <tr style=\"text-align: right;\">\n",
       "      <th></th>\n",
       "      <th>bin/sed</th>\n",
       "      <th>/etc/rc</th>\n",
       "      <th>/etc/init.d/</th>\n",
       "      <th>/proc/</th>\n",
       "      <th>/etc/sed</th>\n",
       "      <th>/selinux</th>\n",
       "      <th>/sys/</th>\n",
       "      <th>bin/</th>\n",
       "      <th>lsb-release</th>\n",
       "      <th>uname(.)($)</th>\n",
       "      <th>...</th>\n",
       "      <th>^sh$</th>\n",
       "      <th>^sed$</th>\n",
       "      <th>\\d{1,3}\\.\\d{1,3}\\.\\d{1,3}\\.\\d{1,3}:\\d+</th>\n",
       "      <th>\\d{1,3}\\.\\d{1,3}\\.\\d{1,3}\\.\\d{1,3}</th>\n",
       "      <th>eth[0-9]$</th>\n",
       "      <th>0x[0-9a-zA-Z]{8}</th>\n",
       "      <th>permission:{0,1}[0-9]{0,4}</th>\n",
       "      <th>UID</th>\n",
       "      <th>GID</th>\n",
       "      <th>match</th>\n",
       "    </tr>\n",
       "  </thead>\n",
       "  <tbody>\n",
       "    <tr>\n",
       "      <th>0</th>\n",
       "      <td>0</td>\n",
       "      <td>0</td>\n",
       "      <td>0</td>\n",
       "      <td>0</td>\n",
       "      <td>0</td>\n",
       "      <td>0</td>\n",
       "      <td>0</td>\n",
       "      <td>0</td>\n",
       "      <td>0</td>\n",
       "      <td>0</td>\n",
       "      <td>...</td>\n",
       "      <td>0</td>\n",
       "      <td>0</td>\n",
       "      <td>0</td>\n",
       "      <td>0</td>\n",
       "      <td>0</td>\n",
       "      <td>0</td>\n",
       "      <td>0</td>\n",
       "      <td>0</td>\n",
       "      <td>0</td>\n",
       "      <td>0</td>\n",
       "    </tr>\n",
       "    <tr>\n",
       "      <th>1</th>\n",
       "      <td>0</td>\n",
       "      <td>0</td>\n",
       "      <td>0</td>\n",
       "      <td>0</td>\n",
       "      <td>0</td>\n",
       "      <td>0</td>\n",
       "      <td>0</td>\n",
       "      <td>0</td>\n",
       "      <td>0</td>\n",
       "      <td>0</td>\n",
       "      <td>...</td>\n",
       "      <td>0</td>\n",
       "      <td>0</td>\n",
       "      <td>0</td>\n",
       "      <td>0</td>\n",
       "      <td>0</td>\n",
       "      <td>0</td>\n",
       "      <td>0</td>\n",
       "      <td>0</td>\n",
       "      <td>0</td>\n",
       "      <td>0</td>\n",
       "    </tr>\n",
       "    <tr>\n",
       "      <th>2</th>\n",
       "      <td>0</td>\n",
       "      <td>0</td>\n",
       "      <td>0</td>\n",
       "      <td>0</td>\n",
       "      <td>0</td>\n",
       "      <td>0</td>\n",
       "      <td>0</td>\n",
       "      <td>0</td>\n",
       "      <td>0</td>\n",
       "      <td>0</td>\n",
       "      <td>...</td>\n",
       "      <td>0</td>\n",
       "      <td>0</td>\n",
       "      <td>0</td>\n",
       "      <td>0</td>\n",
       "      <td>0</td>\n",
       "      <td>0</td>\n",
       "      <td>0</td>\n",
       "      <td>0</td>\n",
       "      <td>0</td>\n",
       "      <td>0</td>\n",
       "    </tr>\n",
       "    <tr>\n",
       "      <th>3</th>\n",
       "      <td>0</td>\n",
       "      <td>0</td>\n",
       "      <td>0</td>\n",
       "      <td>0</td>\n",
       "      <td>0</td>\n",
       "      <td>0</td>\n",
       "      <td>0</td>\n",
       "      <td>0</td>\n",
       "      <td>0</td>\n",
       "      <td>0</td>\n",
       "      <td>...</td>\n",
       "      <td>0</td>\n",
       "      <td>0</td>\n",
       "      <td>0</td>\n",
       "      <td>0</td>\n",
       "      <td>0</td>\n",
       "      <td>0</td>\n",
       "      <td>0</td>\n",
       "      <td>0</td>\n",
       "      <td>0</td>\n",
       "      <td>0</td>\n",
       "    </tr>\n",
       "    <tr>\n",
       "      <th>4</th>\n",
       "      <td>0</td>\n",
       "      <td>0</td>\n",
       "      <td>0</td>\n",
       "      <td>0</td>\n",
       "      <td>0</td>\n",
       "      <td>0</td>\n",
       "      <td>0</td>\n",
       "      <td>0</td>\n",
       "      <td>0</td>\n",
       "      <td>0</td>\n",
       "      <td>...</td>\n",
       "      <td>0</td>\n",
       "      <td>0</td>\n",
       "      <td>0</td>\n",
       "      <td>0</td>\n",
       "      <td>0</td>\n",
       "      <td>0</td>\n",
       "      <td>0</td>\n",
       "      <td>0</td>\n",
       "      <td>0</td>\n",
       "      <td>0</td>\n",
       "    </tr>\n",
       "    <tr>\n",
       "      <th>5</th>\n",
       "      <td>0</td>\n",
       "      <td>0</td>\n",
       "      <td>0</td>\n",
       "      <td>0</td>\n",
       "      <td>0</td>\n",
       "      <td>0</td>\n",
       "      <td>0</td>\n",
       "      <td>0</td>\n",
       "      <td>0</td>\n",
       "      <td>0</td>\n",
       "      <td>...</td>\n",
       "      <td>0</td>\n",
       "      <td>0</td>\n",
       "      <td>0</td>\n",
       "      <td>0</td>\n",
       "      <td>0</td>\n",
       "      <td>0</td>\n",
       "      <td>0</td>\n",
       "      <td>0</td>\n",
       "      <td>0</td>\n",
       "      <td>0</td>\n",
       "    </tr>\n",
       "    <tr>\n",
       "      <th>6</th>\n",
       "      <td>0</td>\n",
       "      <td>0</td>\n",
       "      <td>0</td>\n",
       "      <td>0</td>\n",
       "      <td>0</td>\n",
       "      <td>0</td>\n",
       "      <td>0</td>\n",
       "      <td>0</td>\n",
       "      <td>0</td>\n",
       "      <td>0</td>\n",
       "      <td>...</td>\n",
       "      <td>0</td>\n",
       "      <td>0</td>\n",
       "      <td>0</td>\n",
       "      <td>0</td>\n",
       "      <td>0</td>\n",
       "      <td>0</td>\n",
       "      <td>0</td>\n",
       "      <td>0</td>\n",
       "      <td>0</td>\n",
       "      <td>0</td>\n",
       "    </tr>\n",
       "    <tr>\n",
       "      <th>7</th>\n",
       "      <td>0</td>\n",
       "      <td>0</td>\n",
       "      <td>0</td>\n",
       "      <td>0</td>\n",
       "      <td>0</td>\n",
       "      <td>0</td>\n",
       "      <td>0</td>\n",
       "      <td>0</td>\n",
       "      <td>0</td>\n",
       "      <td>0</td>\n",
       "      <td>...</td>\n",
       "      <td>0</td>\n",
       "      <td>0</td>\n",
       "      <td>0</td>\n",
       "      <td>0</td>\n",
       "      <td>0</td>\n",
       "      <td>0</td>\n",
       "      <td>0</td>\n",
       "      <td>0</td>\n",
       "      <td>0</td>\n",
       "      <td>0</td>\n",
       "    </tr>\n",
       "    <tr>\n",
       "      <th>8</th>\n",
       "      <td>0</td>\n",
       "      <td>0</td>\n",
       "      <td>0</td>\n",
       "      <td>0</td>\n",
       "      <td>0</td>\n",
       "      <td>0</td>\n",
       "      <td>0</td>\n",
       "      <td>0</td>\n",
       "      <td>0</td>\n",
       "      <td>0</td>\n",
       "      <td>...</td>\n",
       "      <td>0</td>\n",
       "      <td>0</td>\n",
       "      <td>0</td>\n",
       "      <td>0</td>\n",
       "      <td>0</td>\n",
       "      <td>0</td>\n",
       "      <td>0</td>\n",
       "      <td>0</td>\n",
       "      <td>0</td>\n",
       "      <td>0</td>\n",
       "    </tr>\n",
       "    <tr>\n",
       "      <th>9</th>\n",
       "      <td>0</td>\n",
       "      <td>0</td>\n",
       "      <td>0</td>\n",
       "      <td>0</td>\n",
       "      <td>0</td>\n",
       "      <td>0</td>\n",
       "      <td>0</td>\n",
       "      <td>0</td>\n",
       "      <td>0</td>\n",
       "      <td>0</td>\n",
       "      <td>...</td>\n",
       "      <td>0</td>\n",
       "      <td>0</td>\n",
       "      <td>0</td>\n",
       "      <td>0</td>\n",
       "      <td>0</td>\n",
       "      <td>0</td>\n",
       "      <td>0</td>\n",
       "      <td>0</td>\n",
       "      <td>0</td>\n",
       "      <td>0</td>\n",
       "    </tr>\n",
       "    <tr>\n",
       "      <th>10</th>\n",
       "      <td>0</td>\n",
       "      <td>0</td>\n",
       "      <td>0</td>\n",
       "      <td>0</td>\n",
       "      <td>0</td>\n",
       "      <td>0</td>\n",
       "      <td>0</td>\n",
       "      <td>0</td>\n",
       "      <td>0</td>\n",
       "      <td>0</td>\n",
       "      <td>...</td>\n",
       "      <td>0</td>\n",
       "      <td>0</td>\n",
       "      <td>0</td>\n",
       "      <td>0</td>\n",
       "      <td>0</td>\n",
       "      <td>0</td>\n",
       "      <td>0</td>\n",
       "      <td>0</td>\n",
       "      <td>0</td>\n",
       "      <td>0</td>\n",
       "    </tr>\n",
       "    <tr>\n",
       "      <th>11</th>\n",
       "      <td>0</td>\n",
       "      <td>0</td>\n",
       "      <td>0</td>\n",
       "      <td>0</td>\n",
       "      <td>0</td>\n",
       "      <td>0</td>\n",
       "      <td>0</td>\n",
       "      <td>0</td>\n",
       "      <td>0</td>\n",
       "      <td>0</td>\n",
       "      <td>...</td>\n",
       "      <td>0</td>\n",
       "      <td>0</td>\n",
       "      <td>0</td>\n",
       "      <td>0</td>\n",
       "      <td>0</td>\n",
       "      <td>0</td>\n",
       "      <td>0</td>\n",
       "      <td>0</td>\n",
       "      <td>0</td>\n",
       "      <td>0</td>\n",
       "    </tr>\n",
       "    <tr>\n",
       "      <th>12</th>\n",
       "      <td>0</td>\n",
       "      <td>0</td>\n",
       "      <td>0</td>\n",
       "      <td>0</td>\n",
       "      <td>0</td>\n",
       "      <td>0</td>\n",
       "      <td>0</td>\n",
       "      <td>0</td>\n",
       "      <td>0</td>\n",
       "      <td>0</td>\n",
       "      <td>...</td>\n",
       "      <td>0</td>\n",
       "      <td>0</td>\n",
       "      <td>0</td>\n",
       "      <td>0</td>\n",
       "      <td>0</td>\n",
       "      <td>0</td>\n",
       "      <td>0</td>\n",
       "      <td>0</td>\n",
       "      <td>0</td>\n",
       "      <td>0</td>\n",
       "    </tr>\n",
       "    <tr>\n",
       "      <th>13</th>\n",
       "      <td>0</td>\n",
       "      <td>0</td>\n",
       "      <td>0</td>\n",
       "      <td>0</td>\n",
       "      <td>0</td>\n",
       "      <td>0</td>\n",
       "      <td>0</td>\n",
       "      <td>0</td>\n",
       "      <td>0</td>\n",
       "      <td>0</td>\n",
       "      <td>...</td>\n",
       "      <td>0</td>\n",
       "      <td>0</td>\n",
       "      <td>0</td>\n",
       "      <td>0</td>\n",
       "      <td>0</td>\n",
       "      <td>0</td>\n",
       "      <td>0</td>\n",
       "      <td>0</td>\n",
       "      <td>0</td>\n",
       "      <td>0</td>\n",
       "    </tr>\n",
       "    <tr>\n",
       "      <th>14</th>\n",
       "      <td>0</td>\n",
       "      <td>0</td>\n",
       "      <td>0</td>\n",
       "      <td>0</td>\n",
       "      <td>0</td>\n",
       "      <td>0</td>\n",
       "      <td>0</td>\n",
       "      <td>0</td>\n",
       "      <td>0</td>\n",
       "      <td>0</td>\n",
       "      <td>...</td>\n",
       "      <td>0</td>\n",
       "      <td>0</td>\n",
       "      <td>0</td>\n",
       "      <td>0</td>\n",
       "      <td>0</td>\n",
       "      <td>0</td>\n",
       "      <td>0</td>\n",
       "      <td>0</td>\n",
       "      <td>0</td>\n",
       "      <td>0</td>\n",
       "    </tr>\n",
       "  </tbody>\n",
       "</table>\n",
       "<p>15 rows × 24 columns</p>\n",
       "</div>"
      ],
      "text/plain": [
       "    bin/sed  /etc/rc  /etc/init.d/  /proc/  /etc/sed  /selinux  /sys/  bin/  \\\n",
       "0         0        0             0       0         0         0      0     0   \n",
       "1         0        0             0       0         0         0      0     0   \n",
       "2         0        0             0       0         0         0      0     0   \n",
       "3         0        0             0       0         0         0      0     0   \n",
       "4         0        0             0       0         0         0      0     0   \n",
       "5         0        0             0       0         0         0      0     0   \n",
       "6         0        0             0       0         0         0      0     0   \n",
       "7         0        0             0       0         0         0      0     0   \n",
       "8         0        0             0       0         0         0      0     0   \n",
       "9         0        0             0       0         0         0      0     0   \n",
       "10        0        0             0       0         0         0      0     0   \n",
       "11        0        0             0       0         0         0      0     0   \n",
       "12        0        0             0       0         0         0      0     0   \n",
       "13        0        0             0       0         0         0      0     0   \n",
       "14        0        0             0       0         0         0      0     0   \n",
       "\n",
       "    lsb-release  uname(.)($)  ...  ^sh$  ^sed$  \\\n",
       "0             0            0  ...     0      0   \n",
       "1             0            0  ...     0      0   \n",
       "2             0            0  ...     0      0   \n",
       "3             0            0  ...     0      0   \n",
       "4             0            0  ...     0      0   \n",
       "5             0            0  ...     0      0   \n",
       "6             0            0  ...     0      0   \n",
       "7             0            0  ...     0      0   \n",
       "8             0            0  ...     0      0   \n",
       "9             0            0  ...     0      0   \n",
       "10            0            0  ...     0      0   \n",
       "11            0            0  ...     0      0   \n",
       "12            0            0  ...     0      0   \n",
       "13            0            0  ...     0      0   \n",
       "14            0            0  ...     0      0   \n",
       "\n",
       "    \\d{1,3}\\.\\d{1,3}\\.\\d{1,3}\\.\\d{1,3}:\\d+  \\\n",
       "0                                        0   \n",
       "1                                        0   \n",
       "2                                        0   \n",
       "3                                        0   \n",
       "4                                        0   \n",
       "5                                        0   \n",
       "6                                        0   \n",
       "7                                        0   \n",
       "8                                        0   \n",
       "9                                        0   \n",
       "10                                       0   \n",
       "11                                       0   \n",
       "12                                       0   \n",
       "13                                       0   \n",
       "14                                       0   \n",
       "\n",
       "    \\d{1,3}\\.\\d{1,3}\\.\\d{1,3}\\.\\d{1,3}  eth[0-9]$  0x[0-9a-zA-Z]{8}  \\\n",
       "0                                    0          0                 0   \n",
       "1                                    0          0                 0   \n",
       "2                                    0          0                 0   \n",
       "3                                    0          0                 0   \n",
       "4                                    0          0                 0   \n",
       "5                                    0          0                 0   \n",
       "6                                    0          0                 0   \n",
       "7                                    0          0                 0   \n",
       "8                                    0          0                 0   \n",
       "9                                    0          0                 0   \n",
       "10                                   0          0                 0   \n",
       "11                                   0          0                 0   \n",
       "12                                   0          0                 0   \n",
       "13                                   0          0                 0   \n",
       "14                                   0          0                 0   \n",
       "\n",
       "    permission:{0,1}[0-9]{0,4}  UID  GID  match  \n",
       "0                            0    0    0      0  \n",
       "1                            0    0    0      0  \n",
       "2                            0    0    0      0  \n",
       "3                            0    0    0      0  \n",
       "4                            0    0    0      0  \n",
       "5                            0    0    0      0  \n",
       "6                            0    0    0      0  \n",
       "7                            0    0    0      0  \n",
       "8                            0    0    0      0  \n",
       "9                            0    0    0      0  \n",
       "10                           0    0    0      0  \n",
       "11                           0    0    0      0  \n",
       "12                           0    0    0      0  \n",
       "13                           0    0    0      0  \n",
       "14                           0    0    0      0  \n",
       "\n",
       "[15 rows x 24 columns]"
      ]
     },
     "metadata": {},
     "output_type": "display_data"
    }
   ],
   "source": [
    "for rem in fset.rem_lst:\n",
    "    display(rem.get_match_sentences())\n",
    "    break"
   ]
  },
  {
   "cell_type": "code",
   "execution_count": null,
   "metadata": {},
   "outputs": [],
   "source": []
  }
 ],
 "metadata": {
  "kernelspec": {
   "display_name": "Python 3.10.5 64-bit",
   "language": "python",
   "name": "python3"
  },
  "language_info": {
   "codemirror_mode": {
    "name": "ipython",
    "version": 3
   },
   "file_extension": ".py",
   "mimetype": "text/x-python",
   "name": "python",
   "nbconvert_exporter": "python",
   "pygments_lexer": "ipython3",
   "version": "3.10.5"
  },
  "orig_nbformat": 4,
  "vscode": {
   "interpreter": {
    "hash": "125a1d8b627fe68767755740015967bae857d08bb92fb3fd0d9d8ed24f978d39"
   }
  }
 },
 "nbformat": 4,
 "nbformat_minor": 2
}
