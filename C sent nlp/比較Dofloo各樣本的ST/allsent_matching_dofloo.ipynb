{
 "cells": [
  {
   "cell_type": "code",
   "execution_count": 1,
   "metadata": {},
   "outputs": [],
   "source": [
    "import re\n",
    "import os\n",
    "from os import listdir\n",
    "from os.path import isfile, join\n",
    "from pathlib import Path\n",
    "import pandas as pd\n",
    "import pickle\n",
    "from typing import Dict, List, get_type_hints\n",
    "from styleframe import StyleFrame, Styler\n",
    "from IPython.display import display\n",
    "\n",
    "''' 自己寫的模組 '''\n",
    "from cc_regex_script import RegexMatchResult, RegexMaster \n",
    "from cc_nlp_script import find_verb_of_vocab, OperationMode, OperationEvaluator\n",
    "from cc_module_cust import AttackGraph, Node, Edge, FileTable #, build"
   ]
  },
  {
   "cell_type": "markdown",
   "metadata": {},
   "source": [
    "### Load 所有 Dofloo 的 object，計算並儲存其 regex"
   ]
  },
  {
   "cell_type": "code",
   "execution_count": 2,
   "metadata": {},
   "outputs": [
    {
     "name": "stdout",
     "output_type": "stream",
     "text": [
      "family Dofloo has numOfSample 13, first is 0046a78514a658b9b7a4e29e8581f85b\n",
      "samplename: ['0046a78514a658b9b7a4e29e8581f85b']\n"
     ]
    }
   ],
   "source": [
    "family = 'Dofloo' # Dofloo Xorddos\n",
    "\n",
    "sample_info = pd.read_csv('../../C malware info/sample_info.csv')\n",
    "dofloo_info = sample_info[(sample_info['family'] == family) & \n",
    "            (~sample_info['filename'].isin(['8845355172c485813872f1bb1834de15.bin']))]\n",
    "samplename_lst = dofloo_info['filename'].to_list()\n",
    "samplename_lst = [name.split('.')[0] for name in samplename_lst]\n",
    "print(f\"family {family} has numOfSample {len(samplename_lst)}, first is {samplename_lst[0]}\")\n",
    "\n",
    "if family == 'Dofloo':\n",
    "    samplename_lst = ['0046a78514a658b9b7a4e29e8581f85b'] # 只先使用這個 dof sample\n",
    "if family == 'Xorddos':\n",
    "    samplename_lst = ['0aefb67c01a24d05351b093455203fa2'] # 只先使用這個 xor sample\n",
    "\n",
    "print('samplename:', samplename_lst)"
   ]
  },
  {
   "cell_type": "code",
   "execution_count": 3,
   "metadata": {},
   "outputs": [
    {
     "name": "stdout",
     "output_type": "stream",
     "text": [
      "True\n",
      "{<OP act=a, obj=a>}\n"
     ]
    },
    {
     "name": "stderr",
     "output_type": "stream",
     "text": [
      "<>:23: DeprecationWarning:invalid escape sequence '\\s'\n",
      "<>:23: DeprecationWarning:invalid escape sequence '\\s'\n",
      "C:\\Users\\luweb\\AppData\\Local\\Temp\\ipykernel_18840\\1514683367.py:23: DeprecationWarning:invalid escape sequence '\\s'\n"
     ]
    }
   ],
   "source": [
    "def prettifyName(item:str) -> str:\n",
    "    pretty_name = {\n",
    "        r\"\\d{1,3}\\.\\d{1,3}\\.\\d{1,3}\\.\\d{1,3}\": \"ip_addr\",\n",
    "        r\"\\d{1,3}\\.\\d{1,3}\\.\\d{1,3}\\.\\d{1,3}:\\d+\": \"ip_addr+port\",\n",
    "        r\"0x[0-9a-zA-Z]{8}\": \"mem_addr\",\n",
    "        r\"permission:{0,1}[0-9]{0,4}\": \"permission_id\"\n",
    "    }\n",
    "    changed = pretty_name.get(item, None)\n",
    "    if changed:\n",
    "        return changed\n",
    "    return item\n",
    "\n",
    "def get_object_type(objReg: str) -> str:\n",
    "    ''' temp function, put in cc_regex_scrpt '''\n",
    "    if objReg in [r\"\\d{1,3}\\.\\d{1,3}\\.\\d{1,3}\\.\\d{1,3}\", \n",
    "                r\"[a-zA-z]:\\d{1,5}$\", r\"port \\d{1,5}$\",\n",
    "                r\"\\d{1,3}\\.\\d{1,3}\\.\\d{1,3}\\.\\d{1,3}:\\d{1,5}$\", \"eth[0-9]$\"]:\n",
    "        return 'NET'\n",
    "    if objReg in [\"0x[0-9a-zA-Z]{8}\"]:\n",
    "        return 'MEM'\n",
    "    if objReg in [\"^sed$\", \"^sh$\", \"^chkconfig$\", \"^systemctl$\", \"update-rc.d\", \"/boot/[a-z]{10}\",r\"^pipe(\\$|\\.|$)\"]:\n",
    "        return 'PROC'\n",
    "    if objReg in [r\"UID(\\$|\\.|$)\", r\"GID(\\$|\\.|$)\", \"UID\", \"GID\", \"permission(\\s|:)[0-9]{1,4}\"]:\n",
    "        return 'INFO'\n",
    "    return 'FILE'\n",
    "\n",
    "class OperationPair:\n",
    "    SYSCALL = 0\n",
    "    VERB = 1\n",
    "\n",
    "    def __init__(self, action:str, object:str, type:int=0, subject:str=None, step_number:int=None \\\n",
    "                 , original_object=None, original_sentence=None, object_type=None):\n",
    "        self.object:str = object # regex\n",
    "        self.action:str = action # verb or syscall\n",
    "        self.type:int = type # action type\n",
    "        self.object_type:str = object_type # FILE, NET, PROC, MEM, INFO\n",
    "        self.subject:str = subject\n",
    "        self.step_number:int = step_number\n",
    "        self.original_object:str = original_object # can store original matched word (object) from CTD\n",
    "        self.original_sentence:str = original_sentence # can store the mathced sentence\n",
    "        pass\n",
    "\n",
    "    def __eq__(self, other): \n",
    "        if not isinstance(other, OperationPair):\n",
    "            # don't attempt to compare against unrelated types\n",
    "            return NotImplemented\n",
    "        # Same if <action, object> pair is same (type is not consider yet)\n",
    "        return self.action == other.action and self.object == other.object\n",
    "\n",
    "    def __hash__(self) -> int:\n",
    "        # necessary for instances to behave sanely in dicts and sets.\n",
    "        return hash((self.action, self.object))\n",
    "\n",
    "    def __str__(self) -> str:\n",
    "        if self.step_number:\n",
    "            return f\"<OP{self.step_number:>2} act={self.action}, obj={prettifyName(self.object)}>\"\n",
    "        return f\"<OP act={self.action}, obj={prettifyName(self.object)}>\"\n",
    "    def __repr__(self) -> str:\n",
    "        return str(self)\n",
    "    def getSentStr(self) -> str:\n",
    "        '''return string contains original_object & flat_sentence'''\n",
    "        flat_sentence = \" \".join(self.original_sentence.splitlines())\n",
    "        return f\"<OP{self.step_number:>2} act={self.action}, obj={prettifyName(self.original_object)}, sent={flat_sentence}>\"\n",
    "        \n",
    "# test case\n",
    "p_aa = OperationPair('a','a')\n",
    "p_aaz = OperationPair('a','a')\n",
    "p_ab = OperationPair('a','b')\n",
    "\n",
    "print(p_aa == p_aaz) # True\n",
    "print(set([p_aa, p_aaz])) # one element\n",
    "\n",
    "def construct_sample_OPset(step_list: list, keep_src_node=False, debug=False, rt_order=True) -> set:\n",
    "    '''return a list of OPset. RegexMaster and family are gobal variable.'''\n",
    "    if debug:\n",
    "        print('step_list len:', len(set(step_list)))\n",
    "    OPlst_raw = list((src_node.name, dst_node.name, syscall) for (src_node, dst_node, syscall) in step_list) # object is raw\n",
    "    OPset_raw = list(dict.fromkeys(OPlst_raw))\n",
    "    if debug:\n",
    "        print('OPlst_raw len:', len(OPlst_raw)) # why len is 123100? (while step_list len is 7775) (must be equal)\n",
    "        print(f\"OPlst_raw: {OPlst_raw[:10]}\")\n",
    "        print('OPset_raw len:', len(OPset_raw)) # len is 5925 for xor\n",
    "        print(f\"OPset_raw: {OPset_raw[:10]}\")\n",
    "    regexMaster = RegexMaster(familyname=family)\n",
    "    regex_pool = regexMaster.get_all_regex()\n",
    "    OPset = set()\n",
    "    OPset_ordered = list()\n",
    "    for (src_node, dst_node, syscall) in OPset_raw:\n",
    "        regex_dst_node_list = RegexMaster.find_spacial_token_with_regex(regex_pool, dst_node)\n",
    "        if regex_dst_node_list is None or len(regex_dst_node_list) == 0:\n",
    "            continue\n",
    "        for regex_result in regex_dst_node_list:\n",
    "            dst_node = regex_result.match_regex\n",
    "            step_number = len(OPset) + 1\n",
    "            if keep_src_node:\n",
    "                op = OperationPair(syscall, dst_node, subject=src_node, step_number=step_number)\n",
    "                OPset.add(op) # keep src_node in OP\n",
    "                if op not in OPset_ordered:\n",
    "                    OPset_ordered.append(op)\n",
    "            else:\n",
    "                op = OperationPair(syscall, dst_node, step_number=step_number)\n",
    "                OPset.add(op) # only dst_node, syscall in OP\n",
    "                if op not in OPset_ordered:\n",
    "                    OPset_ordered.append(op)\n",
    "    if debug:\n",
    "        print('OPset len:', len(OPset), 'OPset_ordered len:', len(OPset_ordered))\n",
    "    if rt_order:\n",
    "        return OPset, OPset_ordered\n",
    "    return OPset\n",
    "\n",
    "# def construct_sample_stepList(step_list: list, keep_src_node=False, debug=False) -> list:\n",
    "#     ''''''\n",
    "#     pass\n",
    "\n",
    "# test\n",
    "# sample_OPset = construct_sample_OPset(asg.step_list, debug=True)"
   ]
  },
  {
   "cell_type": "code",
   "execution_count": 4,
   "metadata": {},
   "outputs": [
    {
     "name": "stdout",
     "output_type": "stream",
     "text": [
      "Exam: sample S1 matches 23 of regex\n",
      "Size of regex_pool: 23, size of total_used_regex: 0\n"
     ]
    }
   ],
   "source": [
    "class Sample:\n",
    "    def __init__(self, samplename:str, regex_set:set=None, special_token_dict=None, step_list=None) -> None:\n",
    "        self.samplename: str = samplename\n",
    "        self.regex_set: set = set()\n",
    "        if regex_set:\n",
    "            self.regex_set = regex_set\n",
    "        self.special_token_dict = {}\n",
    "        if special_token_dict:\n",
    "            self.special_token_dict: dict = special_token_dict # list of dict\n",
    "        if step_list:\n",
    "            self.step_list = step_list\n",
    "            OPset, OPset_ordered = construct_sample_OPset(step_list)\n",
    "            self.OPset: set[OperationPair] = OPset\n",
    "            self.OPset_ordered: list[OperationPair] = OPset_ordered # 依照出現順序排序的 OPset (元素相同順序不同)\n",
    "            self.OPset_sysOnly_ordered = [] # 尚未初始化 只儲存改變系統狀態的 OP 的物件\n",
    "            self.OPset_sysOnly_ordered_index = [] # 尚未初始化 只儲存改變系統狀態的 OP 的 index\n",
    "            del OPset, OPset_ordered\n",
    "        pass\n",
    "    def __repr__(self) -> str:\n",
    "        return f\"<Sample self.samplename>\"\n",
    "\n",
    "''' 讀取 ASG 中的 set_of_object (就是這個樣本的 special_token_dict)，並歸納樣本的 regex_set '''\n",
    "regexMaster = RegexMaster(familyname=family)\n",
    "regex_pool = regexMaster.get_all_regex()\n",
    "# total_used_regex = set()\n",
    "samples: list[Sample] = []\n",
    "for samplename in samplename_lst:\n",
    "    with open(f'../../C ASG statistics 1115ver/saved_pkl/{family}/{samplename}.pkl', 'rb') as inp:\n",
    "        asg: AttackGraph = pickle.load(inp) # asg.set_of_object is dict() (key:spacial token, value: type 首字大寫)\n",
    "        sample = Sample(samplename, special_token_dict=asg.set_of_object, step_list=asg.step_list)\n",
    "        sample.regex_set = set(regex_pool) # 直接使用志剛寫的作為這個樣本的 baseline\n",
    "        # for obj in sample.special_token_dict.keys():\n",
    "        #     matched_list: list[RegexMatchResult] = regexMaster.find_spacial_token(obj)\n",
    "        #     if matched_list:\n",
    "        #         # print(obj, matched_list)\n",
    "        #         [sample.regex_set.add(m.match_regex) for m in matched_list]\n",
    "        #         # [total_used_regex.add(m.match_regex) for m in matched_list]\n",
    "        # print('------', sample.regex_set)\n",
    "        # break\n",
    "        samples.append(sample)\n",
    "    # del asg\n",
    "print(f'Exam: sample S1 matches {len(samples[0].regex_set)} of regex')\n",
    "print(f'Size of regex_pool: {len(regex_pool)}, size of total_used_regex: {len(regexMaster.used_regex_set)}')"
   ]
  },
  {
   "cell_type": "code",
   "execution_count": 5,
   "metadata": {},
   "outputs": [
    {
     "data": {
      "text/plain": [
       "set()"
      ]
     },
     "execution_count": 5,
     "metadata": {},
     "output_type": "execute_result"
    }
   ],
   "source": [
    "# 只差這四個不在 asg set_of_object 中 {'0x[0-9a-zA-Z]{8}', 'GID', 'UID', 'port \\\\d{1,5}$'}\n",
    "set(regex_pool) - samples[0].regex_set"
   ]
  },
  {
   "cell_type": "code",
   "execution_count": 6,
   "metadata": {},
   "outputs": [
    {
     "data": {
      "text/plain": [
       "' Save result to txt file 沒事不要 run ! '"
      ]
     },
     "execution_count": 6,
     "metadata": {},
     "output_type": "execute_result"
    }
   ],
   "source": [
    "''' Save result to txt file 沒事不要 run ! '''\n",
    "# total_regex = set()\n",
    "# with open('./result/countof_regexset.txt', 'w', encoding='utf-8') as opf:\n",
    "#     # header\n",
    "#     opf.write('{:12s}'.format('Sample no.'))\n",
    "#     for i in range(len(samples)):\n",
    "#         if i+1 < 10:\n",
    "#             opf.write(f' S{i+1} ')\n",
    "#         else:\n",
    "#             opf.write(f'S{i+1} ')\n",
    "#     opf.write('\\n')\n",
    "#     # opf.write('{:12s}'.format('# of regex'))\n",
    "#     num_of_regex_string = '{:12s}'.format('# of regex')\n",
    "#     num_of_objects_string = '{:12s}'.format('# of object ') # 所有的類別喔! 無過濾\n",
    "#     for i in range(len(samples)):\n",
    "#         # opf.write(f'{len(samples[i].regex_set):>3} ')\n",
    "#         num_of_regex_string += f'{len(samples[i].regex_set):>3} '\n",
    "#         num_of_objects_string += f'{len(samples[i].special_token_dict):>3} '\n",
    "#     opf.write(num_of_objects_string+'\\n')\n",
    "#     opf.write(num_of_regex_string)\n",
    "#     opf.write('\\n{:12s}'.format('Sample hash'))\n",
    "#     for i in range(len(samples)):\n",
    "#         opf.write(f'{samples[i].samplename[:3]:>3} ')\n",
    "#     opf.write('\\n\\n')\n",
    "#     opf.write(f'Size of regex_pool: {len(regex_pool)}, size of total_used_regex: {len(regexMaster.used_regex_set)}\\n\\n')\n",
    "\n",
    "#     # content of each sample\n",
    "#     for i,s in enumerate(samples):\n",
    "#         content_1 = f\"S{i+1} has {len(s.regex_set)} of regex\\n\"\n",
    "#         content_2 = f\"regex_set: {s.regex_set}\\n\"\n",
    "#         content_3 = f\"special_token_dict: {s.special_token_dict.keys()}\\n\"\n",
    "#         opf.writelines([content_1, content_2, content_3])\n",
    "#         opf.write('\\n\\n')"
   ]
  },
  {
   "cell_type": "markdown",
   "metadata": {},
   "source": [
    "### Load Reports"
   ]
  },
  {
   "cell_type": "code",
   "execution_count": 7,
   "metadata": {},
   "outputs": [
    {
     "data": {
      "text/plain": [
       "['Dofloo-BleepingComputer.csv',\n",
       " 'Dofloo-MalwareMustDie.csv',\n",
       " 'Dofloo-Securityaffairs.csv',\n",
       " 'Dofloo-SyscallParty.csv',\n",
       " 'Dofloo-Trendmicro.csv']"
      ]
     },
     "execution_count": 7,
     "metadata": {},
     "output_type": "execute_result"
    }
   ],
   "source": [
    "report_fir_path = '../../C parse report/sentence csvs/'\n",
    "# family, samplename, outputfolder = 'Xorddos', '???', './result'\n",
    "outputfolder = './result'\n",
    "\n",
    "def get_all_filenames(dir: str='./') -> list:\n",
    "    ''' traverse root directory, and list directories as dirs and files as files. Return filenames in rootdir. '''\n",
    "    files = [f for f in listdir(dir) if isfile(join(dir, f))]\n",
    "    files.sort()\n",
    "    return files\n",
    "\n",
    "xor_report_names = [f for f in get_all_filenames(report_fir_path) if f.startswith(family)] # 只選擇這個家族的報告\n",
    "xor_report_dfs = [pd.read_csv(f\"{report_fir_path}{f}\") for f in xor_report_names]\n",
    "xor_report_names"
   ]
  },
  {
   "cell_type": "code",
   "execution_count": 8,
   "metadata": {},
   "outputs": [
    {
     "data": {
      "text/html": [
       "<div>\n",
       "<style scoped>\n",
       "    .dataframe tbody tr th:only-of-type {\n",
       "        vertical-align: middle;\n",
       "    }\n",
       "\n",
       "    .dataframe tbody tr th {\n",
       "        vertical-align: top;\n",
       "    }\n",
       "\n",
       "    .dataframe thead th {\n",
       "        text-align: right;\n",
       "    }\n",
       "</style>\n",
       "<table border=\"1\" class=\"dataframe\">\n",
       "  <thead>\n",
       "    <tr style=\"text-align: right;\">\n",
       "      <th></th>\n",
       "      <th>Number</th>\n",
       "      <th>Content</th>\n",
       "    </tr>\n",
       "  </thead>\n",
       "  <tbody>\n",
       "    <tr>\n",
       "      <th>0</th>\n",
       "      <td>Sentence 1</td>\n",
       "      <td>exposed docker apis abused by ddos, cryptojack...</td>\n",
       "    </tr>\n",
       "    <tr>\n",
       "      <th>1</th>\n",
       "      <td>Sentence 2</td>\n",
       "      <td>the dofloo (aka aesddos) malware was first det...</td>\n",
       "    </tr>\n",
       "    <tr>\n",
       "      <th>2</th>\n",
       "      <td>Sentence 3</td>\n",
       "      <td>misconfigured docker services being abused is ...</td>\n",
       "    </tr>\n",
       "    <tr>\n",
       "      <th>3</th>\n",
       "      <td>Sentence 4</td>\n",
       "      <td>allowing external access — whether intentional...</td>\n",
       "    </tr>\n",
       "    <tr>\n",
       "      <th>4</th>\n",
       "      <td>Sentence 5</td>\n",
       "      <td>query to list all available containers\\nthe at...</td>\n",
       "    </tr>\n",
       "    <tr>\n",
       "      <th>5</th>\n",
       "      <td>Sentence 6</td>\n",
       "      <td>the dofloo botnet malware is subsequently depl...</td>\n",
       "    </tr>\n",
       "    <tr>\n",
       "      <th>6</th>\n",
       "      <td>Sentence 7</td>\n",
       "      <td>system information is also collected by the tr...</td>\n",
       "    </tr>\n",
       "    <tr>\n",
       "      <th>7</th>\n",
       "      <td>Sentence 8</td>\n",
       "      <td>dofloo (aesddos) malware executing remote shel...</td>\n",
       "    </tr>\n",
       "    <tr>\n",
       "      <th>8</th>\n",
       "      <td>Sentence 9</td>\n",
       "      <td>previous dofloo and docker attacks\\ndofloo was...</td>\n",
       "    </tr>\n",
       "    <tr>\n",
       "      <th>9</th>\n",
       "      <td>Sentence 10</td>\n",
       "      <td>exposed docker apis were abused by other malic...</td>\n",
       "    </tr>\n",
       "    <tr>\n",
       "      <th>10</th>\n",
       "      <td>Sentence 11</td>\n",
       "      <td>cryptojacking operations have also actively ta...</td>\n",
       "    </tr>\n",
       "    <tr>\n",
       "      <th>11</th>\n",
       "      <td>Sentence 12</td>\n",
       "      <td>further back, in october 2018 and march 2018, ...</td>\n",
       "    </tr>\n",
       "    <tr>\n",
       "      <th>12</th>\n",
       "      <td>Sentence 13</td>\n",
       "      <td>securing docker servers\\nwhile docker engine a...</td>\n",
       "    </tr>\n",
       "    <tr>\n",
       "      <th>13</th>\n",
       "      <td>Sentence 14</td>\n",
       "      <td>to make sure that their docker hosts are secur...</td>\n",
       "    </tr>\n",
       "    <tr>\n",
       "      <th>14</th>\n",
       "      <td>Sentence 15</td>\n",
       "      <td>related articles:\\nnew chaos malware infects w...</td>\n",
       "    </tr>\n",
       "  </tbody>\n",
       "</table>\n",
       "</div>"
      ],
      "text/plain": [
       "         Number                                            Content\n",
       "0    Sentence 1  exposed docker apis abused by ddos, cryptojack...\n",
       "1    Sentence 2  the dofloo (aka aesddos) malware was first det...\n",
       "2    Sentence 3  misconfigured docker services being abused is ...\n",
       "3    Sentence 4  allowing external access — whether intentional...\n",
       "4    Sentence 5  query to list all available containers\\nthe at...\n",
       "5    Sentence 6  the dofloo botnet malware is subsequently depl...\n",
       "6    Sentence 7  system information is also collected by the tr...\n",
       "7    Sentence 8  dofloo (aesddos) malware executing remote shel...\n",
       "8    Sentence 9  previous dofloo and docker attacks\\ndofloo was...\n",
       "9   Sentence 10  exposed docker apis were abused by other malic...\n",
       "10  Sentence 11  cryptojacking operations have also actively ta...\n",
       "11  Sentence 12  further back, in october 2018 and march 2018, ...\n",
       "12  Sentence 13  securing docker servers\\nwhile docker engine a...\n",
       "13  Sentence 14  to make sure that their docker hosts are secur...\n",
       "14  Sentence 15  related articles:\\nnew chaos malware infects w..."
      ]
     },
     "execution_count": 8,
     "metadata": {},
     "output_type": "execute_result"
    }
   ],
   "source": [
    "xor_report_dfs[0]"
   ]
  },
  {
   "cell_type": "markdown",
   "metadata": {},
   "source": [
    "### 單篇文章的 Class 和 整個 Family 的 Class\n",
    "`baseline: Dict[str, list]` 改為 `regexMaster: RegexMaster`"
   ]
  },
  {
   "cell_type": "code",
   "execution_count": 9,
   "metadata": {},
   "outputs": [],
   "source": [
    "class ReportEvalModel:\n",
    "    def __init__(self, regex_set: set, sentences: pd.DataFrame, reportname:str=''):\n",
    "        self.regex_pool: set[str] = regex_set # 樣本or家族含有的 regex 集合\n",
    "        self.sentences = sentences # a df\n",
    "        self.reportname = reportname\n",
    "        cols = list(regex_pool)\n",
    "        self.match_tbl = pd.DataFrame([[0]*len(cols)]*len(sentences), columns=cols)\n",
    "        self.match_word:dict[(int,str), str] = dict() # key(idx_sent,regex) value(word:str)\n",
    "        self.match_regex = set()\n",
    "        self.doc_OPset:set[OperationPair] = set() # Set of doc's OperationalPair\n",
    "        self.match_doc_OPset:set[OperationPair] = set()\n",
    "        self.OPset_order_index = [] # 紀錄 ASG OP 的出現順序 (lifecycle)\n",
    "        self.SysOPset_order_index = [] # 只紀錄改變系統的\n",
    "        # self.asgSysOPset_order_index = []\n",
    "        # self.regexMaster = regexMaster # 其實應該用 class function 就不用傳入一個物件\n",
    "        self.match()\n",
    "\n",
    "    def match(self) -> None:\n",
    "        '''find baseline in sentences of report. Fill matching result in self.match_tbl.'''\n",
    "        sentence_list = self.sentences['Content']\n",
    "        for idx_sent, sent in enumerate(sentence_list):\n",
    "            # print(idx_sent, sent)\n",
    "            # find regexs in a sentence\n",
    "            matched_list: list[RegexMatchResult] = RegexMaster.find_spacial_token_with_regex(self.regex_pool, sent)\n",
    "            if not matched_list:\n",
    "                continue\n",
    "            for m in matched_list:\n",
    "                this_re = m.match_regex\n",
    "                matched_word = m.word\n",
    "                # print(matched_word, '|',sent[:10])\n",
    "                self.match_word[(idx_sent,this_re)] = m.word # 紀錄被 search 到的單字\n",
    "                # self.match_tbl.loc[idx_sent,this_re] = 1 # mark as found 節省空間\n",
    "                self.match_regex.add(this_re)\n",
    "                en_verb = find_verb_of_vocab(sent, m.word)\n",
    "                # print(f\"---\\nen_verb: {en_verb}, m.word: {m.word}, sent: {sent}\") # 列印所有動詞抓取情形\n",
    "                stepn = len(self.doc_OPset) + 1\n",
    "                # 如果 action 和 matched regex 相同，即使報告中object的原字串不同，也不會多計入。\n",
    "                if en_verb:\n",
    "                    self.doc_OPset.add(OperationPair(en_verb, this_re, type=OperationPair.VERB, original_object=m.word, \n",
    "                    step_number=stepn, original_sentence=sent, object_type=get_object_type(this_re))) # has verb\n",
    "                else:\n",
    "                    self.doc_OPset.add(OperationPair(None, this_re, type=OperationPair.VERB, original_object=m.word, \n",
    "                                                     step_number=stepn, object_type=get_object_type(this_re))) # no verb\n",
    "        pass\n",
    "    \n",
    "    def get_match_sentences(self) -> pd.DataFrame:\n",
    "        result = self.match_tbl.copy()\n",
    "        result['match'] = result.sum(axis=1)\n",
    "        return result\n",
    "    \n",
    "    def get_match_regexs(self) -> set:\n",
    "        return self.match_regex\n",
    "\n",
    "    def get_match_word(self, idx_sent:int, regex:str) -> str:\n",
    "        return self.match_word[(idx_sent, regex)]\n",
    "\n",
    "class FamilySet:\n",
    "    '''一個 malware family report 集合'''\n",
    "    def __init__(self, familyname:str, regexMaster: RegexMaster, sample: Sample=None):\n",
    "        self.familyname = familyname\n",
    "        self.regexMaster = regexMaster\n",
    "        self.num_of_used_regex = len(regexMaster.used_regex_set) # 這個家族含規則的總數量 (unoin by all samples)\n",
    "        self.sample = None\n",
    "        if sample:\n",
    "            self.sample = sample\n",
    "            self.num_of_used_regex = len(sample.regex_set) # 改以這個樣本規則的總數量為基準\n",
    "        self.rem_lst: List[ReportEvalModel] = [] # list of ReportEvalModel under this family\n",
    "        self.result_tbl = None\n",
    "\n",
    "    def add_rem(self, sentences: pd.DataFrame, reportname: str=''):\n",
    "        '''新增 report 到 FamilySet 中，需傳入文本和報告名稱，會沿用 FamilySet 的 baseline.'''\n",
    "        if self.sample:\n",
    "            rem = ReportEvalModel(list(self.sample.regex_set), sentences, reportname) # 基準是 Sample\n",
    "            self.rem_lst.append(rem)\n",
    "            return\n",
    "        rem = ReportEvalModel(self.regexMaster, sentences, reportname) # 基準是 Family union # need fix -> no first arg now\n",
    "        self.rem_lst.append(rem)\n",
    "\n",
    "    def calc_report_coverage_score(self, match_regexs: list[str], apply_weight=False) -> float:\n",
    "        '''計算這篇報告的 coverage_score，未處理分母為0之情形'''\n",
    "        if not apply_weight:\n",
    "            return len(match_regexs) / self.num_of_used_regex # 無權種的算法，分母是家族 wide\n",
    "        ''' 以下 有權重的算法尚未修改，必出 bug '''\n",
    "        # denominator = sum(self.regexMaster['weight']) # 分母\n",
    "        # numerator = 0 # 分子\n",
    "        # for b, w in zip(self.regexMaster['text'], self.regexMaster['weight']):\n",
    "        #     if b in match_baselines:\n",
    "        #         numerator += w\n",
    "        # return numerator/denominator\n",
    "\n",
    "    def show_result(self, apply_weight: bool=False, base_on_sample = True):\n",
    "        '''print and return result table. baselinse(x) * report(y).'''\n",
    "        column_names = ['report_name','ttl_match','coverage_score']\n",
    "        if base_on_sample:\n",
    "            column_names.extend(list(self.sample.regex_set))\n",
    "        else:\n",
    "            column_names.extend(list(regexMaster.used_regex_set))\n",
    "        result_tbl = pd.DataFrame([[0]*len(column_names)]*len(self.rem_lst), columns=column_names)\n",
    "        for i,rem in enumerate(self.rem_lst):\n",
    "            match_regexes = rem.get_match_regexs() # 這篇報告含有哪些 baseine:set\n",
    "            c_score = self.calc_report_coverage_score(match_regexes, apply_weight=apply_weight)\n",
    "            result_tbl.loc[i,'report_name'] = rem.reportname\n",
    "            result_tbl.loc[i,'ttl_match'] = len(match_regexes)\n",
    "            result_tbl.loc[i,'coverage_score'] = f'{c_score:.4}'\n",
    "            for b in match_regexes:\n",
    "                result_tbl.loc[i,b] = 1\n",
    "            print(rem.reportname, match_regexes)\n",
    "        display(result_tbl)\n",
    "        return result_tbl"
   ]
  },
  {
   "attachments": {},
   "cell_type": "markdown",
   "metadata": {},
   "source": [
    "### Run Script: 存檔每篇報告的 matched sentence (以樣本的 regex set 為基準)\n",
    "比較樣本間的辨別度，有 n 個樣本，就會跑 n 變，得出 n 個結果 (FanilySet)"
   ]
  },
  {
   "cell_type": "code",
   "execution_count": 10,
   "metadata": {},
   "outputs": [],
   "source": [
    "import os, psutil\n",
    "def print_mem_usage():\n",
    "    process = psutil.Process(os.getpid())\n",
    "    mem_usage = psutil.Process(os.getpid()).memory_info().rss / 1024 ** 2\n",
    "    print(f\"=== mem_usage: {mem_usage:.2f} MB ===\")  # in MiB \n",
    "\n",
    "def get_mem_usage() -> int:\n",
    "    # process = psutil.Process(os.getpid())\n",
    "    mem_usage = psutil.Process(os.getpid()).memory_info().rss / 1024 ** 2\n",
    "    return mem_usage\n",
    "\n",
    "def run_family_set_procedure(sample: Sample) -> FamilySet:\n",
    "    # family, regexMaster is global variable\n",
    "    fset = FamilySet(family, regexMaster, sample=sample)\n",
    "    for i,rdf in enumerate(xor_report_dfs):\n",
    "        # rem = ReportEvalModel(base_data, rdf, dofloo_report_names[i])\n",
    "        fset.add_rem(rdf, xor_report_names[i])\n",
    "    # result_tbl = fset.show_result(apply_weight=False)\n",
    "    # result_tbl.to_csv(f'{outputfolder}/{family}_{sample.samplename[:3]}_FamilySet_by_Regex.csv', index=False)\n",
    "    # print(f\"Sample {sample.samplename[:3]} has ttl_match {result_tbl['ttl_match'].sum()} on all documents.\") \n",
    "\n",
    "    # Calculate metrics\n",
    "    print_mem_usage()\n",
    "    print(f\"asg_object: {set([op.object for op in sample.OPset])}\\n\")\n",
    "    fset.sample.OPset_sysOnly_ordered = [op for op in sample.OPset if op.object.find('/etc') != -1]\n",
    "    fset.sample.OPset_sysOnly_ordered_index = [sample.OPset_ordered.index(op) for op in fset.sample.OPset_sysOnly_ordered]\n",
    "    for idx_rem, rem in enumerate(fset.rem_lst):\n",
    "        # asg_object = set([op.object for op in sample.OPset])\n",
    "        # ctd_object = set([op.object for op in rem.doc_OPset])\n",
    "        if rem.reportname == 'Xorddos-Microsoft.csv': # 除錯用\n",
    "            continue\n",
    "        print(f\"\\nSample {rem.reportname}\")\n",
    "        print(f\"\\tnum of segment in report: {len(rem.sentences)}\")\n",
    "        print(f\"\\tlenght of ctd's OPset is {len(rem.doc_OPset)}\")\n",
    "\n",
    "        # R_malObj 比較物件\n",
    "        asg_object = set([op.object for op in sample.OPset])\n",
    "        ctd_object = set([op.object for op in rem.doc_OPset])\n",
    "        ctd_object = ctd_object.intersection(asg_object)\n",
    "        numerator = len(ctd_object) # 分子\n",
    "        denominator = len(asg_object) # 分母\n",
    "        R_malObj = 0 if denominator == 0 else numerator/denominator\n",
    "        print(f\"\\t#R_malObj\\n\\tnum of ctd objects: {numerator}, num of asg objects: {denominator}. R_malObj is {R_malObj:.4f}\")\n",
    "        print(f\"\\t\\tctd_object: {ctd_object}\")\n",
    "\n",
    "        # R_malSysObj 比較系統物件\n",
    "        asg_sysobj = list(filter(lambda object: object.find('/etc') != -1, asg_object))\n",
    "        ctd_sysobj = list(filter(lambda object: object.find('/etc') != -1, ctd_object))\n",
    "        numerator = len(ctd_sysobj)\n",
    "        denominator = len(asg_sysobj)\n",
    "        R_malSysObj = 0 if denominator == 0 else numerator/denominator\n",
    "        print(f\"\\t#R_malSysObj\\n\\tnum of ctd objects: {numerator}, num of asg objects: {denominator}. R_malSysObj is {R_malSysObj:.4f}\")\n",
    "\n",
    "        # R_malOps 比較動作和物件\n",
    "        asg_OPset = list(sample.OPset)\n",
    "        ctd_OPset = list(rem.doc_OPset)\n",
    "        operationEvaluator = OperationEvaluator()\n",
    "        numerator, denominator, hits = 0, len(asg_OPset), []\n",
    "        hits: list[tuple[OperationPair, OperationPair]] = []\n",
    "        sys_hits: list[tuple[OperationPair, OperationPair]] = []\n",
    "        print(f\"\\t\\tlen(asg_OPset): {len(asg_OPset)}, len(ctd_OPset): {len(ctd_OPset)}\")\n",
    "        # 每一個 asg_op 跟所有同物件的的 ctd_op 進行 resolve() 比對，來判斷此 asg_op 是否被提及\n",
    "        i = 0\n",
    "        for idx_asg, asg_op in enumerate(asg_OPset): \n",
    "            i += 1\n",
    "            # print(f\"\\tno.{i} asg_op {asg_op}\") # 瓶頸卡在 no.51 step (total 71 step)\n",
    "            target_obj = asg_op.object\n",
    "            ctdSameObjOpsIdx = [i for i, x in enumerate(ctd_OPset) if x.object == target_obj]\n",
    "            # if i==51:\n",
    "            # print(f\"\\tno.{i} | asg_op {asg_op}, len of ctdSameObjOpsIdx: {ctdSameObjOpsIdx}\")\n",
    "            # ctdSameObjOps = [x for x in ctd_OPset if x.object == target_obj]\n",
    "            for idx in ctdSameObjOpsIdx:\n",
    "                pass\n",
    "                # mem_before_create_lst = get_mem_usage()\n",
    "                # print(\"\\tbefore resolve\", mem_before_create_lst)\n",
    "                hit = operationEvaluator.resolve(asg_op.action, ctd_OPset[idx].action)\n",
    "                # # print_mem_usage()\n",
    "                # mem_after_create_lst = get_mem_usage()\n",
    "                # # print(f\"\\t=== diff of mem_usage calling resolve(): {mem_after_create_lst - mem_before_create_lst:.2f}  ===\")\n",
    "        \n",
    "                if hit:\n",
    "                    numerator += 1\n",
    "                    (opModeAsg, opModeCtd) = hit # hit is [OperationMode]*2\n",
    "                    hits.append((asg_OPset[idx_asg], ctd_OPset[idx]))\n",
    "                    fset.rem_lst[idx_rem].match_doc_OPset.add(ctd_OPset[idx])\n",
    "\n",
    "                    # 篩選出系統物件的動作\n",
    "                    if (opModeAsg in [OperationMode.FILE_UPDATE]) and asg_OPset[idx_asg].object.find('/etc') != -1:\n",
    "                        sys_hits.append((asg_OPset[idx_asg], ctd_OPset[idx]))\n",
    "\n",
    "                    # 紀錄CTD的生命週期 (ASG_OP提及順序)\n",
    "                    step_num = sample.OPset_ordered.index(asg_op) # index of step, throw ValueError if not found\n",
    "                    fset.rem_lst[idx_rem].OPset_order_index.append(step_num)\n",
    "                    break\n",
    "        R_malOps = 0 if denominator == 0 else numerator/denominator\n",
    "        print(f\"\\t#R_malOps\\n\\tnum of matched asg op: {numerator}, num of asg op: {denominator}. R_malOps is {R_malOps:.4f}\")\n",
    "        print(f\"\\t\\trefered lifecycle: {fset.rem_lst[idx_rem].OPset_order_index}\")\n",
    "\n",
    "        # 紀錄CTD的生命週期 (OP提及順序)\n",
    "        # fset.rem_lst[idx_rem].OPset_order_index.clear()\n",
    "        # for ctd_op in fset.rem_lst[idx_rem].match_doc_OPset:\n",
    "        #     step_num = sample.OPset_ordered.index(ctd_op) # index of step, throw ValueError if not found\n",
    "        #     fset.rem_lst[idx_rem].OPset_order_index.append(step_num)\n",
    "\n",
    "        # R_malChangeOps 篩選出系統物件的動作\n",
    "        # cando: 加上 OPMode的考量，為class OP加兩個mode asg_op_mode, ctd_op_mode。目前直接用call nlp class 的 method判別。\n",
    "        numerator = len(sys_hits)\n",
    "        sys_asg_OPset = [op for op in asg_OPset if op.object.find('/etc') != -1 \\\n",
    "                         and operationEvaluator.get_mode(op.action) == OperationMode.FILE_UPDATE ]\n",
    "        # print('sys_asg_OPset is unique:', len(sample.OPset_ordered) == len(set(sample.OPset_ordered))) # 元速度重複沒錯，可能是 index() 的問題\n",
    "        print(f\"\\t\\tsys_asg_OPset: {sys_asg_OPset}\")\n",
    "        denominator = len(sys_asg_OPset)\n",
    "        R_malChangeOps = 0 if denominator == 0 else numerator/denominator\n",
    "        print(f\"\\t#R_malChangeOps\\n\\tnum of matched asg op: {numerator}, num of asg op: {denominator}. R_malChangeOps is {R_malChangeOps:.4f}\")\n",
    "\n",
    "        # 紀錄CTD的生命週期 (OP提及順序)\n",
    "        fset.rem_lst[idx_rem].SysOPset_order_index.clear()\n",
    "        for asg_op , ctd_op in sys_hits:\n",
    "            step_num = sample.OPset_ordered.index(asg_op) # step index , throw ValueError if not found\n",
    "            fset.rem_lst[idx_rem].SysOPset_order_index.append(step_num)\n",
    "        print(f\"\\t\\tref-sys lifecycle: {fset.rem_lst[idx_rem].SysOPset_order_index}\")\n",
    "\n",
    "        if hits:\n",
    "            print(\"\\n\\thits\")\n",
    "            for asg_op, ctd_op in hits:\n",
    "                print(f\"\\t{asg_op}, {ctd_op.getSentStr()}\")\n",
    "        if sys_hits:\n",
    "            print(\"\\n\\tsys_hits\")\n",
    "            for asg_op, ctd_op in sys_hits:\n",
    "                print(f\"\\t{asg_op}, {ctd_op.getSentStr()}\")\n",
    "\n",
    "        # print_mem_usage()\n",
    "        # del asg_OPset, ctd_OPset, hits, sys_hits\n",
    "    print(\"\\n\\nOperationPair that changes system resources:\\n\", sys_asg_OPset)\n",
    "\n",
    "    return fset"
   ]
  },
  {
   "cell_type": "code",
   "execution_count": 11,
   "metadata": {},
   "outputs": [],
   "source": [
    "def save_match_sent_to_excel(fset: FamilySet, sample_name=None):\n",
    "    columns = ['report','regex','matched word','sentence number','sentence']\n",
    "    if sample_name:\n",
    "        output_xlsx = f'{outputfolder}/{family}_{sample_name[:3]}_report_match_sent.csv'\n",
    "    else:\n",
    "        output_xlsx = f'{outputfolder}/{family}_union_report_match_sent.csv'\n",
    "    has_match = sum([len(rem.get_match_regexs()) for rem in fset.rem_lst])\n",
    "    if has_match == 0:\n",
    "        print('no matches in CTI reports') # with open 一定要寫入，若全空則直接不開檔\n",
    "        return\n",
    "    # with pd.ExcelWriter(output_xlsx, engine='openpyxl') as writer:\n",
    "    \n",
    "    # 遍歷報告，一個 rem: ReportEvalModel 代表一篇報告\n",
    "    csv_data = []\n",
    "    match_sentence_ttlcnt = 0\n",
    "    for rem in fset.rem_lst:\n",
    "        reportname = rem.reportname.split('.')[0]\n",
    "        if len(rem.get_match_regexs()) == 0: # 如果報告中無 regex 跳過不紀錄\n",
    "            continue\n",
    "        # sheet_data = [] # shape = columns_len * match_sent_len\n",
    "        sent_df = rem.get_match_sentences()\n",
    "        sent_content_lst = rem.sentences['Content'] # 報告中的每個句子\n",
    "        match_sentence_ttlcnt += sent_df['match'].sum()\n",
    "\n",
    "        # 遍歷每個含有 regex 的句子\n",
    "        for sid, row in sent_df.iterrows():\n",
    "            if row['match'] == 0:\n",
    "                continue\n",
    "            row.drop('match', inplace=True)\n",
    "            row = row[row > 0]\n",
    "            # print(row)\n",
    "            # 考量每個句子可能含有多個 regex，故需寫成多行\n",
    "            for i, v in row.items():\n",
    "                insert_data = dict().fromkeys(columns)\n",
    "                insert_data['report'] = reportname\n",
    "                insert_data['regex'] = i\n",
    "                insert_data['matched word'] = rem.get_match_word(sid, i)\n",
    "                insert_data['sentence number'] = sid + 1\n",
    "                insert_data['sentence'] = str(sent_content_lst[sid]).strip()\n",
    "                # sheet_data.append(insert_data)\n",
    "                csv_data.append(insert_data)\n",
    "    df = pd.DataFrame(csv_data)\n",
    "    # print(df)\n",
    "    df.to_csv(output_xlsx, index=False)\n",
    "\n",
    "            # 輸出 csv\n",
    "            \n",
    "            # 輸出 excel sheet\n",
    "            # print(rem.reportname,'has', len(sheet_data),'matches')\n",
    "            # output_sheet = pd.DataFrame(sheet_data)\n",
    "            # # output_sheet.style.set_properties(subset=['sentence'])\n",
    "            # styler = Styler(horizontal_alignment='left', vertical_alignment='top')\n",
    "            # sf = StyleFrame(output_sheet, styler)\n",
    "            # sf = sf.set_column_width(columns=['baseline'], width=20.0)\n",
    "            # sf = sf.set_column_width(columns=['sentence number'], width=15.0)\n",
    "            # sf = sf.set_column_width(columns=['sentence'], width=80.0)\n",
    "            # sf.to_excel(writer, sheet_name=rem.reportname, index=False) #.save()\n",
    "            # # output_sheet.to_excel(writer, sheet_name=rem.reportname, index=False)\n",
    "    return match_sentence_ttlcnt\n",
    "\n",
    "# 此行會執行並複寫 excel，執行完後要手動調整行距格式，小心使用\n"
   ]
  },
  {
   "cell_type": "code",
   "execution_count": 12,
   "metadata": {},
   "outputs": [
    {
     "name": "stdout",
     "output_type": "stream",
     "text": [
      "=== mem_usage: 190.52 MB ===\n",
      "asg_object: {'bin/sed', '\\\\d{1,3}\\\\.\\\\d{1,3}\\\\.\\\\d{1,3}\\\\.\\\\d{1,3}:\\\\d+', '/etc/init.d/', '/proc/', 'bin/', '/sys/', '^sh$', '/etc/rc', 'permission:{0,1}[0-9]{0,4}', '^sed$', '/selinux', '/etc/sed', '\\\\d{1,3}\\\\.\\\\d{1,3}\\\\.\\\\d{1,3}\\\\.\\\\d{1,3}'}\n",
      "\n",
      "\n",
      "Sample Dofloo-BleepingComputer.csv\n",
      "\tnum of segment in report: 15\n",
      "\tlenght of ctd's OPset is 0\n",
      "\t#R_malObj\n",
      "\tnum of ctd objects: 0, num of asg objects: 13. R_malObj is 0.0000\n",
      "\t\tctd_object: set()\n",
      "\t#R_malSysObj\n",
      "\tnum of ctd objects: 0, num of asg objects: 3. R_malSysObj is 0.0000\n",
      "\t\tlen(asg_OPset): 30, len(ctd_OPset): 0\n",
      "\t#R_malOps\n",
      "\tnum of matched asg op: 0, num of asg op: 30. R_malOps is 0.0000\n",
      "\t\trefered lifecycle: []\n",
      "\t\tsys_asg_OPset: [<OP14 act=write, obj=/etc/sed>, <OP16 act=fchmod, obj=/etc/sed>, <OP17 act=rename, obj=/etc/rc>, <OP15 act=fchown, obj=/etc/sed>]\n",
      "\t#R_malChangeOps\n",
      "\tnum of matched asg op: 0, num of asg op: 4. R_malChangeOps is 0.0000\n",
      "\t\tref-sys lifecycle: []\n",
      "\n",
      "Sample Dofloo-MalwareMustDie.csv\n",
      "\tnum of segment in report: 76\n",
      "\tlenght of ctd's OPset is 14\n",
      "\t#R_malObj\n",
      "\tnum of ctd objects: 2, num of asg objects: 13. R_malObj is 0.1538\n",
      "\t\tctd_object: {'\\\\d{1,3}\\\\.\\\\d{1,3}\\\\.\\\\d{1,3}\\\\.\\\\d{1,3}', '^sed$'}\n",
      "\t#R_malSysObj\n",
      "\tnum of ctd objects: 0, num of asg objects: 3. R_malSysObj is 0.0000\n",
      "\t\tlen(asg_OPset): 30, len(ctd_OPset): 14\n",
      "\t#R_malOps\n",
      "\tnum of matched asg op: 0, num of asg op: 30. R_malOps is 0.0000\n",
      "\t\trefered lifecycle: []\n",
      "\t\tsys_asg_OPset: [<OP14 act=write, obj=/etc/sed>, <OP16 act=fchmod, obj=/etc/sed>, <OP17 act=rename, obj=/etc/rc>, <OP15 act=fchown, obj=/etc/sed>]\n",
      "\t#R_malChangeOps\n",
      "\tnum of matched asg op: 0, num of asg op: 4. R_malChangeOps is 0.0000\n",
      "\t\tref-sys lifecycle: []\n",
      "\n",
      "Sample Dofloo-Securityaffairs.csv\n",
      "\tnum of segment in report: 13\n",
      "\tlenght of ctd's OPset is 4\n",
      "\t#R_malObj\n",
      "\tnum of ctd objects: 3, num of asg objects: 13. R_malObj is 0.2308\n",
      "\t\tctd_object: {'/etc/rc', '\\\\d{1,3}\\\\.\\\\d{1,3}\\\\.\\\\d{1,3}\\\\.\\\\d{1,3}:\\\\d+', '\\\\d{1,3}\\\\.\\\\d{1,3}\\\\.\\\\d{1,3}\\\\.\\\\d{1,3}'}\n",
      "\t#R_malSysObj\n",
      "\tnum of ctd objects: 1, num of asg objects: 3. R_malSysObj is 0.3333\n",
      "\t\tlen(asg_OPset): 30, len(ctd_OPset): 4\n",
      "\t#R_malOps\n",
      "\tnum of matched asg op: 3, num of asg op: 30. R_malOps is 0.1000\n",
      "\t\trefered lifecycle: [19, 16, 18]\n",
      "\t\tsys_asg_OPset: [<OP14 act=write, obj=/etc/sed>, <OP16 act=fchmod, obj=/etc/sed>, <OP17 act=rename, obj=/etc/rc>, <OP15 act=fchown, obj=/etc/sed>]\n",
      "\t#R_malChangeOps\n",
      "\tnum of matched asg op: 1, num of asg op: 4. R_malChangeOps is 0.2500\n",
      "\t\tref-sys lifecycle: [16]\n",
      "\n",
      "\thits\n",
      "\t<OP20 act=connect, obj=ip_addr>, <OP 1 act=connect, obj=23.224.59.34:48080, sent=the malware also connects to 23.224.59.34:48080 to send and receive remote shell commands from the attacker.>\n",
      "\t<OP17 act=rename, obj=/etc/rc>, <OP 3 act=modify, obj=/etc/rc.local, sent=trend micro researchers also discovered that the latest variant of the aesddos bot can modify files i.e., /etc/rc.local and /etc/rc.d/rc.local, as an autostart technique by appending the {malware path}/{malware file name} reboot command.>\n",
      "\t<OP19 act=connect, obj=ip_addr+port>, <OP 2 act=connect, obj=23.224.59.34:48080, sent=the malware also connects to 23.224.59.34:48080 to send and receive remote shell commands from the attacker.>\n",
      "\n",
      "\tsys_hits\n",
      "\t<OP17 act=rename, obj=/etc/rc>, <OP 3 act=modify, obj=/etc/rc.local, sent=trend micro researchers also discovered that the latest variant of the aesddos bot can modify files i.e., /etc/rc.local and /etc/rc.d/rc.local, as an autostart technique by appending the {malware path}/{malware file name} reboot command.>\n",
      "\n",
      "Sample Dofloo-SyscallParty.csv\n",
      "\tnum of segment in report: 96\n",
      "\tlenght of ctd's OPset is 11\n",
      "\t#R_malObj\n",
      "\tnum of ctd objects: 5, num of asg objects: 13. R_malObj is 0.3846\n",
      "\t\tctd_object: {'/etc/init.d/', '^sed$', '/proc/', '/etc/rc', '\\\\d{1,3}\\\\.\\\\d{1,3}\\\\.\\\\d{1,3}\\\\.\\\\d{1,3}'}\n",
      "\t#R_malSysObj\n",
      "\tnum of ctd objects: 2, num of asg objects: 3. R_malSysObj is 0.6667\n",
      "\t\tlen(asg_OPset): 30, len(ctd_OPset): 11\n",
      "\t#R_malOps\n",
      "\tnum of matched asg op: 7, num of asg op: 30. R_malOps is 0.2333\n",
      "\t\trefered lifecycle: [0, 17, 26, 9, 16, 29, 27]\n",
      "\t\tsys_asg_OPset: [<OP14 act=write, obj=/etc/sed>, <OP16 act=fchmod, obj=/etc/sed>, <OP17 act=rename, obj=/etc/rc>, <OP15 act=fchown, obj=/etc/sed>]\n",
      "\t#R_malChangeOps\n",
      "\tnum of matched asg op: 1, num of asg op: 4. R_malChangeOps is 0.2500\n",
      "\t\tref-sys lifecycle: [16]\n",
      "\n",
      "\thits\n",
      "\t<OP 1 act=readlink, obj=/proc/>, <OP 8 act=read, obj=/proc/net/dev, sent=the way the malware gets information regarding the network adapter is reading the /proc/net/dev file.>\n",
      "\t<OP18 act=open, obj=/etc/init.d/>, <OP 4 act=add, obj=/etc/init.d/boot.local, sent=persistence persistence is achieved by the malware by adding to /etc/rc.local and the /etc/init.d/boot.local files (in the auto_boot function); however before it overwrites this file it first checks to see if it has already done so.>\n",
      "\t<OP27 act=open, obj=/proc/>, <OP11 act=open, obj=/proc/cpuinfo, sent=the virtual file /proc/cpuinfo is opened and read in words until an eof (-1) is hit whilst reading the file chunk by chunk — then fclose is called to free up the opened file.>\n",
      "\t<OP10 act=open, obj=/etc/rc>, <OP 3 act=add, obj=/etc/rc.local, sent=persistence persistence is achieved by the malware by adding to /etc/rc.local and the /etc/init.d/boot.local files (in the auto_boot function); however before it overwrites this file it first checks to see if it has already done so.>\n",
      "\t<OP17 act=rename, obj=/etc/rc>, <OP 7 act=format, obj=/etc/rc.local, sent=a string is formatted and the sed program is called which writes to the file in question (there are several string operations, such as sed -i -e '2 i%s/%s' /etc/rc.local is formatted for example).>\n",
      "\t<OP30 act=fstat64, obj=/proc/>, <OP 8 act=read, obj=/proc/net/dev, sent=the way the malware gets information regarding the network adapter is reading the /proc/net/dev file.>\n",
      "\t<OP28 act=lseek, obj=/proc/>, <OP 8 act=read, obj=/proc/net/dev, sent=the way the malware gets information regarding the network adapter is reading the /proc/net/dev file.>\n",
      "\n",
      "\tsys_hits\n",
      "\t<OP17 act=rename, obj=/etc/rc>, <OP 7 act=format, obj=/etc/rc.local, sent=a string is formatted and the sed program is called which writes to the file in question (there are several string operations, such as sed -i -e '2 i%s/%s' /etc/rc.local is formatted for example).>\n",
      "\n",
      "Sample Dofloo-Trendmicro.csv\n",
      "\tnum of segment in report: 11\n",
      "\tlenght of ctd's OPset is 9\n",
      "\t#R_malObj\n",
      "\tnum of ctd objects: 5, num of asg objects: 13. R_malObj is 0.3846\n",
      "\t\tctd_object: {'/etc/init.d/', '^sed$', '/proc/', '/sys/', '/etc/rc'}\n",
      "\t#R_malSysObj\n",
      "\tnum of ctd objects: 2, num of asg objects: 3. R_malSysObj is 0.6667\n",
      "\t\tlen(asg_OPset): 30, len(ctd_OPset): 9\n",
      "\t#R_malOps\n",
      "\tnum of matched asg op: 3, num of asg op: 30. R_malOps is 0.1000\n",
      "\t\trefered lifecycle: [0, 29, 27]\n",
      "\t\tsys_asg_OPset: [<OP14 act=write, obj=/etc/sed>, <OP16 act=fchmod, obj=/etc/sed>, <OP17 act=rename, obj=/etc/rc>, <OP15 act=fchown, obj=/etc/sed>]\n",
      "\t#R_malChangeOps\n",
      "\tnum of matched asg op: 0, num of asg op: 4. R_malChangeOps is 0.0000\n",
      "\t\tref-sys lifecycle: []\n",
      "\n",
      "\thits\n",
      "\t<OP 1 act=readlink, obj=/proc/>, <OP 4 act=gather, obj=/proc/stat, sent= this backdoor gathers the following data:  cpu information memory statistics ip address of infected machine reads the following information from /proc: /proc/stat /proc/meminfo /proc/cpuinfo /proc/net/dev /proc/self/exe /proc/self/maps /proc/sys/vm/overcommit_memory /proc/sys/kernel/rtsig-max /proc/sys/kernel/ngroups_max /proc/sys/kernel/osrelease /proc/self/fd/%d/%s /proc/self/fd /proc/net other details >\n",
      "\t<OP30 act=fstat64, obj=/proc/>, <OP 4 act=gather, obj=/proc/stat, sent= this backdoor gathers the following data:  cpu information memory statistics ip address of infected machine reads the following information from /proc: /proc/stat /proc/meminfo /proc/cpuinfo /proc/net/dev /proc/self/exe /proc/self/maps /proc/sys/vm/overcommit_memory /proc/sys/kernel/rtsig-max /proc/sys/kernel/ngroups_max /proc/sys/kernel/osrelease /proc/self/fd/%d/%s /proc/self/fd /proc/net other details >\n",
      "\t<OP28 act=lseek, obj=/proc/>, <OP 4 act=gather, obj=/proc/stat, sent= this backdoor gathers the following data:  cpu information memory statistics ip address of infected machine reads the following information from /proc: /proc/stat /proc/meminfo /proc/cpuinfo /proc/net/dev /proc/self/exe /proc/self/maps /proc/sys/vm/overcommit_memory /proc/sys/kernel/rtsig-max /proc/sys/kernel/ngroups_max /proc/sys/kernel/osrelease /proc/self/fd/%d/%s /proc/self/fd /proc/net other details >\n",
      "\n",
      "\n",
      "OperationPair that changes system resources:\n",
      " [<OP14 act=write, obj=/etc/sed>, <OP16 act=fchmod, obj=/etc/sed>, <OP17 act=rename, obj=/etc/rc>, <OP15 act=fchown, obj=/etc/sed>]\n"
     ]
    }
   ],
   "source": [
    "for sample in samples:\n",
    "    # print(len(sample.OPset)) # 30\n",
    "    # print(len(sample.OPset_ordered)) # 30\n",
    "    # print(set(sample.OPset) - set(sample.OPset_ordered)) # 相減是空的set 都OK\n",
    "    fset = run_family_set_procedure(sample)\n",
    "    # match_sentence_ttlcnt = save_match_sent_to_excel(fset, sample.samplename)\n",
    "    # print(f'match_sentence_ttlcnt is {match_sentence_ttlcnt}\\n---\\n')"
   ]
  },
  {
   "attachments": {},
   "cell_type": "markdown",
   "metadata": {},
   "source": [
    "### Run Script: draw Lifecycle diagram\n",
    "- 兩個 traces (legend) 一般的 OP 和 ChangeSys OP。分兩個顏色，不重疊。\n",
    "- x: [a,a,a,a,b,b,b,c,c,c] 不同 report 的 step 可以放同一個 list，因為屬於同個 trace。"
   ]
  },
  {
   "cell_type": "code",
   "execution_count": 13,
   "metadata": {},
   "outputs": [
    {
     "name": "stdout",
     "output_type": "stream",
     "text": [
      "\n"
     ]
    },
    {
     "name": "stderr",
     "output_type": "stream",
     "text": [
      "c:\\Users\\luweb\\AppData\\Local\\Programs\\Python\\Python310\\lib\\site-packages\\plotly\\io\\_renderers.py:7: DeprecationWarning:\n",
      "\n",
      "The distutils package is deprecated and slated for removal in Python 3.12. Use setuptools or check PEP 632 for potential alternatives\n",
      "\n"
     ]
    },
    {
     "data": {
      "application/vnd.plotly.v1+json": {
       "config": {
        "plotlyServerURL": "https://plot.ly"
       },
       "data": [
        {
         "marker": {
          "color": "darkorange",
          "size": 12
         },
         "mode": "markers",
         "name": "Normal Operation Pair",
         "type": "scatter",
         "x": [
          20,
          19,
          1,
          18,
          27,
          10,
          30,
          28,
          1,
          30,
          28,
          1,
          2,
          3,
          4,
          5,
          6,
          7,
          8,
          9,
          11,
          19,
          20,
          21,
          22,
          23,
          24,
          25,
          26,
          27,
          28,
          29,
          30
         ],
         "y": [
          "Securityaffairs (3)",
          "Securityaffairs (3)",
          "SyscallParty (7)",
          "SyscallParty (7)",
          "SyscallParty (7)",
          "SyscallParty (7)",
          "SyscallParty (7)",
          "SyscallParty (7)",
          "Trendmicro (3)",
          "Trendmicro (3)",
          "Trendmicro (3)",
          "ASG (30)",
          "ASG (30)",
          "ASG (30)",
          "ASG (30)",
          "ASG (30)",
          "ASG (30)",
          "ASG (30)",
          "ASG (30)",
          "ASG (30)",
          "ASG (30)",
          "ASG (30)",
          "ASG (30)",
          "ASG (30)",
          "ASG (30)",
          "ASG (30)",
          "ASG (30)",
          "ASG (30)",
          "ASG (30)",
          "ASG (30)",
          "ASG (30)",
          "ASG (30)",
          "ASG (30)"
         ]
        },
        {
         "marker": {
          "color": "blue",
          "size": 12
         },
         "mode": "markers",
         "name": "Change SR Operation Pair",
         "type": "scatter",
         "x": [
          17,
          17,
          14,
          12,
          16,
          18,
          13,
          10,
          17,
          15
         ],
         "y": [
          "Securityaffairs (3)",
          "SyscallParty (7)",
          "ASG (30)",
          "ASG (30)",
          "ASG (30)",
          "ASG (30)",
          "ASG (30)",
          "ASG (30)",
          "ASG (30)",
          "ASG (30)"
         ]
        }
       ],
       "layout": {
        "template": {
         "data": {
          "bar": [
           {
            "error_x": {
             "color": "#2a3f5f"
            },
            "error_y": {
             "color": "#2a3f5f"
            },
            "marker": {
             "line": {
              "color": "#E5ECF6",
              "width": 0.5
             },
             "pattern": {
              "fillmode": "overlay",
              "size": 10,
              "solidity": 0.2
             }
            },
            "type": "bar"
           }
          ],
          "barpolar": [
           {
            "marker": {
             "line": {
              "color": "#E5ECF6",
              "width": 0.5
             },
             "pattern": {
              "fillmode": "overlay",
              "size": 10,
              "solidity": 0.2
             }
            },
            "type": "barpolar"
           }
          ],
          "carpet": [
           {
            "aaxis": {
             "endlinecolor": "#2a3f5f",
             "gridcolor": "white",
             "linecolor": "white",
             "minorgridcolor": "white",
             "startlinecolor": "#2a3f5f"
            },
            "baxis": {
             "endlinecolor": "#2a3f5f",
             "gridcolor": "white",
             "linecolor": "white",
             "minorgridcolor": "white",
             "startlinecolor": "#2a3f5f"
            },
            "type": "carpet"
           }
          ],
          "choropleth": [
           {
            "colorbar": {
             "outlinewidth": 0,
             "ticks": ""
            },
            "type": "choropleth"
           }
          ],
          "contour": [
           {
            "colorbar": {
             "outlinewidth": 0,
             "ticks": ""
            },
            "colorscale": [
             [
              0,
              "#0d0887"
             ],
             [
              0.1111111111111111,
              "#46039f"
             ],
             [
              0.2222222222222222,
              "#7201a8"
             ],
             [
              0.3333333333333333,
              "#9c179e"
             ],
             [
              0.4444444444444444,
              "#bd3786"
             ],
             [
              0.5555555555555556,
              "#d8576b"
             ],
             [
              0.6666666666666666,
              "#ed7953"
             ],
             [
              0.7777777777777778,
              "#fb9f3a"
             ],
             [
              0.8888888888888888,
              "#fdca26"
             ],
             [
              1,
              "#f0f921"
             ]
            ],
            "type": "contour"
           }
          ],
          "contourcarpet": [
           {
            "colorbar": {
             "outlinewidth": 0,
             "ticks": ""
            },
            "type": "contourcarpet"
           }
          ],
          "heatmap": [
           {
            "colorbar": {
             "outlinewidth": 0,
             "ticks": ""
            },
            "colorscale": [
             [
              0,
              "#0d0887"
             ],
             [
              0.1111111111111111,
              "#46039f"
             ],
             [
              0.2222222222222222,
              "#7201a8"
             ],
             [
              0.3333333333333333,
              "#9c179e"
             ],
             [
              0.4444444444444444,
              "#bd3786"
             ],
             [
              0.5555555555555556,
              "#d8576b"
             ],
             [
              0.6666666666666666,
              "#ed7953"
             ],
             [
              0.7777777777777778,
              "#fb9f3a"
             ],
             [
              0.8888888888888888,
              "#fdca26"
             ],
             [
              1,
              "#f0f921"
             ]
            ],
            "type": "heatmap"
           }
          ],
          "heatmapgl": [
           {
            "colorbar": {
             "outlinewidth": 0,
             "ticks": ""
            },
            "colorscale": [
             [
              0,
              "#0d0887"
             ],
             [
              0.1111111111111111,
              "#46039f"
             ],
             [
              0.2222222222222222,
              "#7201a8"
             ],
             [
              0.3333333333333333,
              "#9c179e"
             ],
             [
              0.4444444444444444,
              "#bd3786"
             ],
             [
              0.5555555555555556,
              "#d8576b"
             ],
             [
              0.6666666666666666,
              "#ed7953"
             ],
             [
              0.7777777777777778,
              "#fb9f3a"
             ],
             [
              0.8888888888888888,
              "#fdca26"
             ],
             [
              1,
              "#f0f921"
             ]
            ],
            "type": "heatmapgl"
           }
          ],
          "histogram": [
           {
            "marker": {
             "pattern": {
              "fillmode": "overlay",
              "size": 10,
              "solidity": 0.2
             }
            },
            "type": "histogram"
           }
          ],
          "histogram2d": [
           {
            "colorbar": {
             "outlinewidth": 0,
             "ticks": ""
            },
            "colorscale": [
             [
              0,
              "#0d0887"
             ],
             [
              0.1111111111111111,
              "#46039f"
             ],
             [
              0.2222222222222222,
              "#7201a8"
             ],
             [
              0.3333333333333333,
              "#9c179e"
             ],
             [
              0.4444444444444444,
              "#bd3786"
             ],
             [
              0.5555555555555556,
              "#d8576b"
             ],
             [
              0.6666666666666666,
              "#ed7953"
             ],
             [
              0.7777777777777778,
              "#fb9f3a"
             ],
             [
              0.8888888888888888,
              "#fdca26"
             ],
             [
              1,
              "#f0f921"
             ]
            ],
            "type": "histogram2d"
           }
          ],
          "histogram2dcontour": [
           {
            "colorbar": {
             "outlinewidth": 0,
             "ticks": ""
            },
            "colorscale": [
             [
              0,
              "#0d0887"
             ],
             [
              0.1111111111111111,
              "#46039f"
             ],
             [
              0.2222222222222222,
              "#7201a8"
             ],
             [
              0.3333333333333333,
              "#9c179e"
             ],
             [
              0.4444444444444444,
              "#bd3786"
             ],
             [
              0.5555555555555556,
              "#d8576b"
             ],
             [
              0.6666666666666666,
              "#ed7953"
             ],
             [
              0.7777777777777778,
              "#fb9f3a"
             ],
             [
              0.8888888888888888,
              "#fdca26"
             ],
             [
              1,
              "#f0f921"
             ]
            ],
            "type": "histogram2dcontour"
           }
          ],
          "mesh3d": [
           {
            "colorbar": {
             "outlinewidth": 0,
             "ticks": ""
            },
            "type": "mesh3d"
           }
          ],
          "parcoords": [
           {
            "line": {
             "colorbar": {
              "outlinewidth": 0,
              "ticks": ""
             }
            },
            "type": "parcoords"
           }
          ],
          "pie": [
           {
            "automargin": true,
            "type": "pie"
           }
          ],
          "scatter": [
           {
            "fillpattern": {
             "fillmode": "overlay",
             "size": 10,
             "solidity": 0.2
            },
            "type": "scatter"
           }
          ],
          "scatter3d": [
           {
            "line": {
             "colorbar": {
              "outlinewidth": 0,
              "ticks": ""
             }
            },
            "marker": {
             "colorbar": {
              "outlinewidth": 0,
              "ticks": ""
             }
            },
            "type": "scatter3d"
           }
          ],
          "scattercarpet": [
           {
            "marker": {
             "colorbar": {
              "outlinewidth": 0,
              "ticks": ""
             }
            },
            "type": "scattercarpet"
           }
          ],
          "scattergeo": [
           {
            "marker": {
             "colorbar": {
              "outlinewidth": 0,
              "ticks": ""
             }
            },
            "type": "scattergeo"
           }
          ],
          "scattergl": [
           {
            "marker": {
             "colorbar": {
              "outlinewidth": 0,
              "ticks": ""
             }
            },
            "type": "scattergl"
           }
          ],
          "scattermapbox": [
           {
            "marker": {
             "colorbar": {
              "outlinewidth": 0,
              "ticks": ""
             }
            },
            "type": "scattermapbox"
           }
          ],
          "scatterpolar": [
           {
            "marker": {
             "colorbar": {
              "outlinewidth": 0,
              "ticks": ""
             }
            },
            "type": "scatterpolar"
           }
          ],
          "scatterpolargl": [
           {
            "marker": {
             "colorbar": {
              "outlinewidth": 0,
              "ticks": ""
             }
            },
            "type": "scatterpolargl"
           }
          ],
          "scatterternary": [
           {
            "marker": {
             "colorbar": {
              "outlinewidth": 0,
              "ticks": ""
             }
            },
            "type": "scatterternary"
           }
          ],
          "surface": [
           {
            "colorbar": {
             "outlinewidth": 0,
             "ticks": ""
            },
            "colorscale": [
             [
              0,
              "#0d0887"
             ],
             [
              0.1111111111111111,
              "#46039f"
             ],
             [
              0.2222222222222222,
              "#7201a8"
             ],
             [
              0.3333333333333333,
              "#9c179e"
             ],
             [
              0.4444444444444444,
              "#bd3786"
             ],
             [
              0.5555555555555556,
              "#d8576b"
             ],
             [
              0.6666666666666666,
              "#ed7953"
             ],
             [
              0.7777777777777778,
              "#fb9f3a"
             ],
             [
              0.8888888888888888,
              "#fdca26"
             ],
             [
              1,
              "#f0f921"
             ]
            ],
            "type": "surface"
           }
          ],
          "table": [
           {
            "cells": {
             "fill": {
              "color": "#EBF0F8"
             },
             "line": {
              "color": "white"
             }
            },
            "header": {
             "fill": {
              "color": "#C8D4E3"
             },
             "line": {
              "color": "white"
             }
            },
            "type": "table"
           }
          ]
         },
         "layout": {
          "annotationdefaults": {
           "arrowcolor": "#2a3f5f",
           "arrowhead": 0,
           "arrowwidth": 1
          },
          "autotypenumbers": "strict",
          "coloraxis": {
           "colorbar": {
            "outlinewidth": 0,
            "ticks": ""
           }
          },
          "colorscale": {
           "diverging": [
            [
             0,
             "#8e0152"
            ],
            [
             0.1,
             "#c51b7d"
            ],
            [
             0.2,
             "#de77ae"
            ],
            [
             0.3,
             "#f1b6da"
            ],
            [
             0.4,
             "#fde0ef"
            ],
            [
             0.5,
             "#f7f7f7"
            ],
            [
             0.6,
             "#e6f5d0"
            ],
            [
             0.7,
             "#b8e186"
            ],
            [
             0.8,
             "#7fbc41"
            ],
            [
             0.9,
             "#4d9221"
            ],
            [
             1,
             "#276419"
            ]
           ],
           "sequential": [
            [
             0,
             "#0d0887"
            ],
            [
             0.1111111111111111,
             "#46039f"
            ],
            [
             0.2222222222222222,
             "#7201a8"
            ],
            [
             0.3333333333333333,
             "#9c179e"
            ],
            [
             0.4444444444444444,
             "#bd3786"
            ],
            [
             0.5555555555555556,
             "#d8576b"
            ],
            [
             0.6666666666666666,
             "#ed7953"
            ],
            [
             0.7777777777777778,
             "#fb9f3a"
            ],
            [
             0.8888888888888888,
             "#fdca26"
            ],
            [
             1,
             "#f0f921"
            ]
           ],
           "sequentialminus": [
            [
             0,
             "#0d0887"
            ],
            [
             0.1111111111111111,
             "#46039f"
            ],
            [
             0.2222222222222222,
             "#7201a8"
            ],
            [
             0.3333333333333333,
             "#9c179e"
            ],
            [
             0.4444444444444444,
             "#bd3786"
            ],
            [
             0.5555555555555556,
             "#d8576b"
            ],
            [
             0.6666666666666666,
             "#ed7953"
            ],
            [
             0.7777777777777778,
             "#fb9f3a"
            ],
            [
             0.8888888888888888,
             "#fdca26"
            ],
            [
             1,
             "#f0f921"
            ]
           ]
          },
          "colorway": [
           "#636efa",
           "#EF553B",
           "#00cc96",
           "#ab63fa",
           "#FFA15A",
           "#19d3f3",
           "#FF6692",
           "#B6E880",
           "#FF97FF",
           "#FECB52"
          ],
          "font": {
           "color": "#2a3f5f"
          },
          "geo": {
           "bgcolor": "white",
           "lakecolor": "white",
           "landcolor": "#E5ECF6",
           "showlakes": true,
           "showland": true,
           "subunitcolor": "white"
          },
          "hoverlabel": {
           "align": "left"
          },
          "hovermode": "closest",
          "mapbox": {
           "style": "light"
          },
          "paper_bgcolor": "white",
          "plot_bgcolor": "#E5ECF6",
          "polar": {
           "angularaxis": {
            "gridcolor": "white",
            "linecolor": "white",
            "ticks": ""
           },
           "bgcolor": "#E5ECF6",
           "radialaxis": {
            "gridcolor": "white",
            "linecolor": "white",
            "ticks": ""
           }
          },
          "scene": {
           "xaxis": {
            "backgroundcolor": "#E5ECF6",
            "gridcolor": "white",
            "gridwidth": 2,
            "linecolor": "white",
            "showbackground": true,
            "ticks": "",
            "zerolinecolor": "white"
           },
           "yaxis": {
            "backgroundcolor": "#E5ECF6",
            "gridcolor": "white",
            "gridwidth": 2,
            "linecolor": "white",
            "showbackground": true,
            "ticks": "",
            "zerolinecolor": "white"
           },
           "zaxis": {
            "backgroundcolor": "#E5ECF6",
            "gridcolor": "white",
            "gridwidth": 2,
            "linecolor": "white",
            "showbackground": true,
            "ticks": "",
            "zerolinecolor": "white"
           }
          },
          "shapedefaults": {
           "line": {
            "color": "#2a3f5f"
           }
          },
          "ternary": {
           "aaxis": {
            "gridcolor": "white",
            "linecolor": "white",
            "ticks": ""
           },
           "baxis": {
            "gridcolor": "white",
            "linecolor": "white",
            "ticks": ""
           },
           "bgcolor": "#E5ECF6",
           "caxis": {
            "gridcolor": "white",
            "linecolor": "white",
            "ticks": ""
           }
          },
          "title": {
           "x": 0.05
          },
          "xaxis": {
           "automargin": true,
           "gridcolor": "white",
           "linecolor": "white",
           "ticks": "",
           "title": {
            "standoff": 15
           },
           "zerolinecolor": "white",
           "zerolinewidth": 2
          },
          "yaxis": {
           "automargin": true,
           "gridcolor": "white",
           "linecolor": "white",
           "ticks": "",
           "title": {
            "standoff": 15
           },
           "zerolinecolor": "white",
           "zerolinewidth": 2
          }
         }
        },
        "title": {
         "text": "Lifecycle Diagram of Attack Behavior in Document (Dofloo)"
        },
        "xaxis": {
         "title": {
          "text": "ASG Operation Pair (in steps)"
         }
        },
        "yaxis": {
         "title": {
          "text": "Malware Document"
         }
        }
       }
      }
     },
     "metadata": {},
     "output_type": "display_data"
    }
   ],
   "source": [
    "# import plotly.express as px\n",
    "import plotly.graph_objects as go\n",
    "\n",
    "def symmetric_difference(list1: list, list2: list) -> list:\n",
    "    ''' return list1 - list2. '''\n",
    "    s = set(list2)\n",
    "    temp3 = [x for x in list1 if x not in s]\n",
    "    return temp3\n",
    "\n",
    "def draw_lifecycle(fset:FamilySet):\n",
    "    familname = fset.familyname\n",
    "    # reportnames = [rem.reportname for rem in fset.rem_lst if len(rem.match_regex)]\n",
    "\n",
    "    fig = go.Figure()\n",
    "    x, y = [], []\n",
    "    x_sys, y_sys = [], []\n",
    "    for i, rem in enumerate(fset.rem_lst):\n",
    "        if len(rem.OPset_order_index) == 0:\n",
    "            continue\n",
    "\n",
    "        numOfDot = len(rem.OPset_order_index)\n",
    "        reportname = rem.reportname.split('.')[0]\n",
    "        reportname = reportname.split('-')[1]\n",
    "        reportname += f' ({numOfDot})'\n",
    "        x_sys.extend(rem.SysOPset_order_index) # 改變系統環境的 OP\n",
    "        y_sys.extend([reportname] * len(rem.SysOPset_order_index))\n",
    "        current_x_normal = symmetric_difference(rem.OPset_order_index, rem.SysOPset_order_index) # 一般的/其餘的 OP\n",
    "        # print(reportname, 'numOfDot', numOfDot, 'rem.OPset_order_index', rem.OPset_order_index)\n",
    "        # print('x_normal', current_x_normal, 'x_sys', rem.SysOPset_order_index)\n",
    "        x.extend(current_x_normal)\n",
    "        y.extend([reportname] * len(current_x_normal))\n",
    "        pass\n",
    "    # todo: add baseline's lifecycle\n",
    "    print()\n",
    "    rowname = f'ASG ({len(fset.sample.OPset)})'\n",
    "    current_x_system = fset.sample.OPset_sysOnly_ordered_index\n",
    "    current_x_normal = symmetric_difference(list(range(len(fset.sample.OPset))), current_x_system) # all steps - sysobj steps\n",
    "    x_sys.extend(current_x_system)\n",
    "    y_sys.extend([rowname] * len(current_x_system)) \n",
    "    x.extend(current_x_normal)\n",
    "    y.extend([rowname] * len(current_x_normal))\n",
    "    # print(rowname, len(fset.sample.OPset), len(current_x_system), len(current_x_normal))\n",
    "    \n",
    "    # normal OPs\n",
    "    x = [idx+1 for idx in x] # add 1 to each asg index\n",
    "    fig.add_trace(go.Scatter(\n",
    "        x=x,\n",
    "        y=y,\n",
    "        marker=dict(color=\"darkorange\", size=12),\n",
    "        mode=\"markers\",\n",
    "        name=\"Normal Operation Pair\",\n",
    "    ))\n",
    "\n",
    "    # changeSysObj OPs\n",
    "    x_sys = x = [idx+1 for idx in x_sys]\n",
    "    fig.add_trace(go.Scatter(\n",
    "        x=x_sys,\n",
    "        y=y_sys,\n",
    "        marker=dict(color=\"blue\", size=12),\n",
    "        mode=\"markers\",\n",
    "        name=\"Change SR Operation Pair\",\n",
    "    ))\n",
    "\n",
    "    fig.update_layout(title=f\"Lifecycle Diagram of Attack Behavior in Document ({familname})\",\n",
    "                    xaxis_title=\"ASG Operation Pair (in steps)\",\n",
    "                    yaxis_title=\"Malware Document\")\n",
    "    fig.show()\n",
    "    pass\n",
    "\n",
    "draw_lifecycle(fset)"
   ]
  },
  {
   "attachments": {},
   "cell_type": "markdown",
   "metadata": {},
   "source": [
    "### Run Script: draw ASG & CTD's OP graph\n",
    "- 完整的 ASG OPset graph\n",
    "- 每篇報告的 CTD OPset (完整和matched兩種)，以及對應部分的 ASG。"
   ]
  },
  {
   "cell_type": "code",
   "execution_count": 14,
   "metadata": {},
   "outputs": [
    {
     "data": {
      "text/plain": [
       "['b', 'c', 'd']"
      ]
     },
     "execution_count": 14,
     "metadata": {},
     "output_type": "execute_result"
    }
   ],
   "source": [
    "a = [1,2,3]\n",
    "b = ['a','b','c','d','e']\n",
    "[b[i] for i in a]"
   ]
  },
  {
   "cell_type": "code",
   "execution_count": 15,
   "metadata": {},
   "outputs": [
    {
     "data": {
      "image/svg+xml": "<?xml version=\"1.0\" encoding=\"UTF-8\" standalone=\"no\"?>\n<!DOCTYPE svg PUBLIC \"-//W3C//DTD SVG 1.1//EN\"\n \"http://www.w3.org/Graphics/SVG/1.1/DTD/svg11.dtd\">\n<!-- Generated by graphviz version 6.0.1 (20220911.1526)\n -->\n<!-- Title: Dofloo_asg_OPset Pages: 1 -->\n<svg width=\"2159pt\" height=\"291pt\"\n viewBox=\"0.00 0.00 2159.32 291.00\" xmlns=\"http://www.w3.org/2000/svg\" xmlns:xlink=\"http://www.w3.org/1999/xlink\">\n<g id=\"graph0\" class=\"graph\" transform=\"scale(1 1) rotate(0) translate(4 287)\">\n<title>Dofloo_asg_OPset</title>\n<polygon fill=\"white\" stroke=\"none\" points=\"-4,4 -4,-287 2155.32,-287 2155.32,4 -4,4\"/>\n<!-- Start -->\n<g id=\"node1\" class=\"node\">\n<title>Start</title>\n<ellipse fill=\"none\" stroke=\"black\" cx=\"1100.48\" cy=\"-265\" rx=\"77.19\" ry=\"18\"/>\n<text text-anchor=\"middle\" x=\"1100.48\" y=\"-261.3\" font-family=\"Times New Roman,serif\" font-size=\"14.00\">Malware (Subject)</text>\n</g>\n<!-- 1 -->\n<g id=\"node2\" class=\"node\">\n<title>1</title>\n<ellipse fill=\"none\" stroke=\"black\" cx=\"118.48\" cy=\"-178\" rx=\"32.49\" ry=\"18\"/>\n<text text-anchor=\"middle\" x=\"118.48\" y=\"-174.3\" font-family=\"Times New Roman,serif\" font-size=\"14.00\">/proc/</text>\n</g>\n<!-- Start&#45;&gt;1 -->\n<g id=\"edge1\" class=\"edge\">\n<title>Start&#45;&gt;1</title>\n<path fill=\"none\" stroke=\"black\" d=\"M1022.95,-264.44C779.1,-265.44 41.76,-265.43 6.48,-229 -17.9,-203.83 35.34,-190.36 76.48,-183.95\"/>\n<polygon fill=\"black\" stroke=\"black\" points=\"77.24,-187.37 86.63,-182.47 76.23,-180.45 77.24,-187.37\"/>\n<text text-anchor=\"middle\" x=\"33.98\" y=\"-217.8\" font-family=\"Times New Roman,serif\" font-size=\"14.00\">1.readlink</text>\n</g>\n<!-- Start&#45;&gt;1 -->\n<g id=\"edge2\" class=\"edge\">\n<title>Start&#45;&gt;1</title>\n<path fill=\"none\" stroke=\"black\" d=\"M1022.81,-264.24C790.82,-264.56 116.93,-262.6 84.48,-229 75.99,-220.22 82.24,-209.09 91.58,-199.56\"/>\n<polygon fill=\"black\" stroke=\"black\" points=\"94.12,-201.99 99.14,-192.66 89.4,-196.82 94.12,-201.99\"/>\n<text text-anchor=\"middle\" x=\"107.48\" y=\"-217.8\" font-family=\"Times New Roman,serif\" font-size=\"14.00\">27.open</text>\n</g>\n<!-- Start&#45;&gt;1 -->\n<g id=\"edge3\" class=\"edge\">\n<title>Start&#45;&gt;1</title>\n<path fill=\"none\" stroke=\"black\" d=\"M1023.41,-263.02C804.36,-259.97 191.41,-249.65 153.48,-229 143.46,-223.55 135.68,-213.85 130.03,-204.43\"/>\n<polygon fill=\"black\" stroke=\"black\" points=\"133.1,-202.75 125.25,-195.64 126.95,-206.09 133.1,-202.75\"/>\n<text text-anchor=\"middle\" x=\"180.98\" y=\"-217.8\" font-family=\"Times New Roman,serif\" font-size=\"14.00\">30.fstat64</text>\n</g>\n<!-- Start&#45;&gt;1 -->\n<g id=\"edge4\" class=\"edge\">\n<title>Start&#45;&gt;1</title>\n<path fill=\"none\" stroke=\"black\" d=\"M1022.87,-264.32C840.98,-264.5 391.42,-261.52 244.48,-229 227.55,-225.25 224.55,-220.47 208.48,-214 190.54,-206.78 170.49,-198.95 153.88,-192.54\"/>\n<polygon fill=\"black\" stroke=\"black\" points=\"155.12,-189.27 144.53,-188.94 152.61,-195.8 155.12,-189.27\"/>\n<text text-anchor=\"middle\" x=\"267.48\" y=\"-217.8\" font-family=\"Times New Roman,serif\" font-size=\"14.00\">28.lseek</text>\n</g>\n<!-- 2 -->\n<g id=\"node3\" class=\"node\">\n<title>2</title>\n<ellipse fill=\"none\" stroke=\"black\" cx=\"428.48\" cy=\"-178\" rx=\"59.59\" ry=\"18\"/>\n<text text-anchor=\"middle\" x=\"428.48\" y=\"-174.3\" font-family=\"Times New Roman,serif\" font-size=\"14.00\">ip_addr+port</text>\n</g>\n<!-- Start&#45;&gt;2 -->\n<g id=\"edge5\" class=\"edge\">\n<title>Start&#45;&gt;2</title>\n<path fill=\"none\" stroke=\"black\" d=\"M1023.32,-263.47C827.55,-261.76 325.21,-254.84 300.48,-229 276.96,-204.43 319.33,-191.72 361.5,-185.28\"/>\n<polygon fill=\"black\" stroke=\"black\" points=\"362.2,-188.71 371.61,-183.85 361.22,-181.78 362.2,-188.71\"/>\n<text text-anchor=\"middle\" x=\"327.98\" y=\"-217.8\" font-family=\"Times New Roman,serif\" font-size=\"14.00\">23.fstat64</text>\n</g>\n<!-- Start&#45;&gt;2 -->\n<g id=\"edge6\" class=\"edge\">\n<title>Start&#45;&gt;2</title>\n<path fill=\"none\" stroke=\"black\" d=\"M1023.27,-263.09C841.56,-260.55 400.44,-252.06 378.48,-229 369.03,-219.08 377.31,-208.31 389.66,-199.32\"/>\n<polygon fill=\"black\" stroke=\"black\" points=\"391.79,-202.11 398.23,-193.69 387.95,-196.26 391.79,-202.11\"/>\n<text text-anchor=\"middle\" x=\"417.98\" y=\"-217.8\" font-family=\"Times New Roman,serif\" font-size=\"14.00\">21._newselect</text>\n</g>\n<!-- Start&#45;&gt;2 -->\n<g id=\"edge7\" class=\"edge\">\n<title>Start&#45;&gt;2</title>\n<path fill=\"none\" stroke=\"black\" d=\"M1023.73,-262.64C868.76,-259.47 529.06,-250.18 480.48,-229 467.61,-223.39 456.05,-213.12 447.11,-203.33\"/>\n<polygon fill=\"black\" stroke=\"black\" points=\"449.71,-200.98 440.53,-195.69 444.4,-205.55 449.71,-200.98\"/>\n<text text-anchor=\"middle\" x=\"509.98\" y=\"-217.8\" font-family=\"Times New Roman,serif\" font-size=\"14.00\">25.mmap2</text>\n</g>\n<!-- Start&#45;&gt;2 -->\n<g id=\"edge8\" class=\"edge\">\n<title>Start&#45;&gt;2</title>\n<path fill=\"none\" stroke=\"black\" d=\"M1023.99,-261.98C899.46,-258.16 658.46,-248.49 575.48,-229 558.6,-225.04 555.76,-219.95 539.48,-214 520.08,-206.92 498.48,-199.91 479.53,-194.05\"/>\n<polygon fill=\"black\" stroke=\"black\" points=\"480.47,-190.68 469.89,-191.1 478.42,-197.37 480.47,-190.68\"/>\n<text text-anchor=\"middle\" x=\"606.48\" y=\"-217.8\" font-family=\"Times New Roman,serif\" font-size=\"14.00\">19.connect</text>\n</g>\n<!-- 3 -->\n<g id=\"node4\" class=\"node\">\n<title>3</title>\n<ellipse fill=\"none\" stroke=\"black\" cx=\"780.48\" cy=\"-178\" rx=\"38.99\" ry=\"18\"/>\n<text text-anchor=\"middle\" x=\"780.48\" y=\"-174.3\" font-family=\"Times New Roman,serif\" font-size=\"14.00\">/etc/sed</text>\n</g>\n<!-- Start&#45;&gt;3 -->\n<g id=\"edge9\" class=\"edge\">\n<title>Start&#45;&gt;3</title>\n<path fill=\"none\" stroke=\"black\" d=\"M1022.98,-263.62C900.24,-262.2 672.39,-255.92 647.48,-229 619.78,-199.09 683.26,-186.96 731.74,-182.12\"/>\n<polygon fill=\"black\" stroke=\"black\" points=\"732.18,-185.59 741.82,-181.19 731.54,-178.62 732.18,-185.59\"/>\n<text text-anchor=\"middle\" x=\"669.98\" y=\"-217.8\" font-family=\"Times New Roman,serif\" font-size=\"14.00\">14.write</text>\n</g>\n<!-- Start&#45;&gt;3 -->\n<g id=\"edge10\" class=\"edge\">\n<title>Start&#45;&gt;3</title>\n<path fill=\"none\" stroke=\"black\" d=\"M1023.77,-262.46C917.4,-259.52 735.81,-251.27 715.48,-229 702.82,-215.14 720.43,-202.3 740.49,-193.1\"/>\n<polygon fill=\"black\" stroke=\"black\" points=\"741.96,-196.28 749.78,-189.14 739.21,-189.84 741.96,-196.28\"/>\n<text text-anchor=\"middle\" x=\"736.98\" y=\"-217.8\" font-family=\"Times New Roman,serif\" font-size=\"14.00\">12.fcntl</text>\n</g>\n<!-- Start&#45;&gt;3 -->\n<g id=\"edge11\" class=\"edge\">\n<title>Start&#45;&gt;3</title>\n<path fill=\"none\" stroke=\"black\" d=\"M1024.81,-260.86C935.69,-256.37 797.62,-246.65 781.48,-229 775.87,-222.87 774.32,-214.35 774.56,-206.07\"/>\n<polygon fill=\"black\" stroke=\"black\" points=\"778.07,-206.24 775.68,-195.92 771.11,-205.48 778.07,-206.24\"/>\n<text text-anchor=\"middle\" x=\"811.98\" y=\"-217.8\" font-family=\"Times New Roman,serif\" font-size=\"14.00\">16.fchmod</text>\n</g>\n<!-- Start&#45;&gt;3 -->\n<g id=\"edge12\" class=\"edge\">\n<title>Start&#45;&gt;3</title>\n<path fill=\"none\" stroke=\"black\" d=\"M1024.84,-260.97C977.73,-257.09 916.57,-248.4 865.48,-229 854.07,-224.67 852.91,-220.34 842.48,-214 833.28,-208.42 823.18,-202.59 813.84,-197.32\"/>\n<polygon fill=\"black\" stroke=\"black\" points=\"815.26,-194.1 804.83,-192.27 811.84,-200.21 815.26,-194.1\"/>\n<text text-anchor=\"middle\" x=\"886.48\" y=\"-217.8\" font-family=\"Times New Roman,serif\" font-size=\"14.00\">13.fstat</text>\n</g>\n<!-- Start&#45;&gt;3 -->\n<g id=\"edge13\" class=\"edge\">\n<title>Start&#45;&gt;3</title>\n<path fill=\"none\" stroke=\"black\" d=\"M1048.07,-251.67C1021.2,-245.2 988.01,-236.98 958.48,-229 935.67,-222.84 930.2,-220.47 907.48,-214 879.35,-205.99 847.63,-197.25 822.93,-190.5\"/>\n<polygon fill=\"black\" stroke=\"black\" points=\"823.71,-187.09 813.15,-187.84 821.87,-193.84 823.71,-187.09\"/>\n<text text-anchor=\"middle\" x=\"988.48\" y=\"-217.8\" font-family=\"Times New Roman,serif\" font-size=\"14.00\">15.fchown</text>\n</g>\n<!-- 4 -->\n<g id=\"node5\" class=\"node\">\n<title>4</title>\n<ellipse fill=\"none\" stroke=\"black\" cx=\"1012.48\" cy=\"-178\" rx=\"27\" ry=\"18\"/>\n<text text-anchor=\"middle\" x=\"1012.48\" y=\"-174.3\" font-family=\"Times New Roman,serif\" font-size=\"14.00\">bin/</text>\n</g>\n<!-- Start&#45;&gt;4 -->\n<g id=\"edge14\" class=\"edge\">\n<title>Start&#45;&gt;4</title>\n<path fill=\"none\" stroke=\"black\" d=\"M1059.82,-249.56C1049.52,-244.36 1039.2,-237.59 1031.48,-229 1025.56,-222.42 1021.42,-213.81 1018.55,-205.6\"/>\n<polygon fill=\"black\" stroke=\"black\" points=\"1021.87,-204.51 1015.64,-195.94 1015.17,-206.52 1021.87,-204.51\"/>\n<text text-anchor=\"middle\" x=\"1046.98\" y=\"-217.8\" font-family=\"Times New Roman,serif\" font-size=\"14.00\">5.stat</text>\n</g>\n<!-- 5 -->\n<g id=\"node6\" class=\"node\">\n<title>5</title>\n<ellipse fill=\"none\" stroke=\"black\" cx=\"1088.48\" cy=\"-178\" rx=\"27.9\" ry=\"18\"/>\n<text text-anchor=\"middle\" x=\"1088.48\" y=\"-174.3\" font-family=\"Times New Roman,serif\" font-size=\"14.00\">/sys/</text>\n</g>\n<!-- Start&#45;&gt;5 -->\n<g id=\"edge15\" class=\"edge\">\n<title>Start&#45;&gt;5</title>\n<path fill=\"none\" stroke=\"black\" d=\"M1080,-247.39C1074.93,-242.1 1070.19,-235.83 1067.48,-229 1064.09,-220.48 1066.32,-211.21 1070.38,-202.99\"/>\n<polygon fill=\"black\" stroke=\"black\" points=\"1073.47,-204.64 1075.54,-194.25 1067.44,-201.08 1073.47,-204.64\"/>\n<text text-anchor=\"middle\" x=\"1090.48\" y=\"-217.8\" font-family=\"Times New Roman,serif\" font-size=\"14.00\">29.open</text>\n</g>\n<!-- Start&#45;&gt;5 -->\n<g id=\"edge16\" class=\"edge\">\n<title>Start&#45;&gt;5</title>\n<path fill=\"none\" stroke=\"black\" d=\"M1109.8,-246.74C1113.83,-237.04 1116.92,-224.76 1113.48,-214 1112.17,-209.92 1110.19,-205.91 1107.91,-202.15\"/>\n<polygon fill=\"black\" stroke=\"black\" points=\"1110.77,-200.13 1102.21,-193.88 1105.01,-204.1 1110.77,-200.13\"/>\n<text text-anchor=\"middle\" x=\"1135.98\" y=\"-217.8\" font-family=\"Times New Roman,serif\" font-size=\"14.00\">8.statfs</text>\n</g>\n<!-- 6 -->\n<g id=\"node7\" class=\"node\">\n<title>6</title>\n<ellipse fill=\"none\" stroke=\"black\" cx=\"1157.48\" cy=\"-91\" rx=\"46.59\" ry=\"18\"/>\n<text text-anchor=\"middle\" x=\"1157.48\" y=\"-87.3\" font-family=\"Times New Roman,serif\" font-size=\"14.00\">/etc/init.d/</text>\n</g>\n<!-- Start&#45;&gt;6 -->\n<g id=\"edge17\" class=\"edge\">\n<title>Start&#45;&gt;6</title>\n<path fill=\"none\" stroke=\"black\" d=\"M1139.13,-249.36C1147.62,-244.25 1155.55,-237.57 1160.48,-229 1170.79,-211.04 1165.68,-154.11 1161.36,-119.55\"/>\n<polygon fill=\"black\" stroke=\"black\" points=\"1164.78,-118.65 1160.01,-109.19 1157.84,-119.56 1164.78,-118.65\"/>\n<text text-anchor=\"middle\" x=\"1190.48\" y=\"-174.3\" font-family=\"Times New Roman,serif\" font-size=\"14.00\">18.open</text>\n</g>\n<!-- 7 -->\n<g id=\"node8\" class=\"node\">\n<title>7</title>\n<ellipse fill=\"none\" stroke=\"black\" cx=\"1232.48\" cy=\"-18\" rx=\"37.09\" ry=\"18\"/>\n<text text-anchor=\"middle\" x=\"1232.48\" y=\"-14.3\" font-family=\"Times New Roman,serif\" font-size=\"14.00\">bin/sed</text>\n</g>\n<!-- Start&#45;&gt;7 -->\n<g id=\"edge18\" class=\"edge\">\n<title>Start&#45;&gt;7</title>\n<path fill=\"none\" stroke=\"black\" d=\"M1147,-250.57C1173.12,-240.3 1203.24,-223.16 1217.48,-196 1242.58,-148.1 1240.33,-82.77 1236.42,-46.37\"/>\n<polygon fill=\"black\" stroke=\"black\" points=\"1239.85,-45.56 1235.18,-36.05 1232.9,-46.39 1239.85,-45.56\"/>\n<text text-anchor=\"middle\" x=\"1252.98\" y=\"-130.8\" font-family=\"Times New Roman,serif\" font-size=\"14.00\">4.stat</text>\n</g>\n<!-- 8 -->\n<g id=\"node9\" class=\"node\">\n<title>8</title>\n<ellipse fill=\"none\" stroke=\"black\" cx=\"1301.48\" cy=\"-178\" rx=\"38.19\" ry=\"18\"/>\n<text text-anchor=\"middle\" x=\"1301.48\" y=\"-174.3\" font-family=\"Times New Roman,serif\" font-size=\"14.00\">/selinux</text>\n</g>\n<!-- Start&#45;&gt;8 -->\n<g id=\"edge19\" class=\"edge\">\n<title>Start&#45;&gt;8</title>\n<path fill=\"none\" stroke=\"black\" d=\"M1156.87,-252.63C1179.41,-247.03 1205.25,-239.24 1227.48,-229 1229.99,-227.84 1252.74,-212.41 1272.36,-198.99\"/>\n<polygon fill=\"black\" stroke=\"black\" points=\"1274.52,-201.75 1280.79,-193.22 1270.56,-195.98 1274.52,-201.75\"/>\n<text text-anchor=\"middle\" x=\"1269.98\" y=\"-217.8\" font-family=\"Times New Roman,serif\" font-size=\"14.00\">7.statfs</text>\n</g>\n<!-- Start&#45;&gt;8 -->\n<g id=\"edge20\" class=\"edge\">\n<title>Start&#45;&gt;8</title>\n<path fill=\"none\" stroke=\"black\" d=\"M1173.48,-259.02C1220.1,-254.31 1274.81,-245.4 1291.48,-229 1297.51,-223.06 1300.43,-214.58 1301.72,-206.29\"/>\n<polygon fill=\"black\" stroke=\"black\" points=\"1305.23,-206.36 1302.6,-196.09 1298.26,-205.76 1305.23,-206.36\"/>\n<text text-anchor=\"middle\" x=\"1324.98\" y=\"-217.8\" font-family=\"Times New Roman,serif\" font-size=\"14.00\">9.access</text>\n</g>\n<!-- 9 -->\n<g id=\"node10\" class=\"node\">\n<title>9</title>\n<ellipse fill=\"none\" stroke=\"black\" cx=\"1509.48\" cy=\"-178\" rx=\"38.99\" ry=\"18\"/>\n<text text-anchor=\"middle\" x=\"1509.48\" y=\"-174.3\" font-family=\"Times New Roman,serif\" font-size=\"14.00\">ip_addr</text>\n</g>\n<!-- Start&#45;&gt;9 -->\n<g id=\"edge21\" class=\"edge\">\n<title>Start&#45;&gt;9</title>\n<path fill=\"none\" stroke=\"black\" d=\"M1174.17,-259.45C1225.27,-254.94 1294.49,-246.09 1353.48,-229 1368.95,-224.52 1371.35,-219.55 1386.48,-214 1412.37,-204.49 1442.1,-195.97 1465.85,-189.71\"/>\n<polygon fill=\"black\" stroke=\"black\" points=\"1466.83,-193.07 1475.63,-187.18 1465.07,-186.3 1466.83,-193.07\"/>\n<text text-anchor=\"middle\" x=\"1417.48\" y=\"-217.8\" font-family=\"Times New Roman,serif\" font-size=\"14.00\">20.connect</text>\n</g>\n<!-- Start&#45;&gt;9 -->\n<g id=\"edge22\" class=\"edge\">\n<title>Start&#45;&gt;9</title>\n<path fill=\"none\" stroke=\"black\" d=\"M1176.54,-261.47C1263.8,-257.68 1400.95,-248.73 1448.48,-229 1456.62,-225.62 1472,-213 1485.27,-201.28\"/>\n<polygon fill=\"black\" stroke=\"black\" points=\"1487.66,-203.84 1492.78,-194.56 1482.99,-198.62 1487.66,-203.84\"/>\n<text text-anchor=\"middle\" x=\"1496.98\" y=\"-217.8\" font-family=\"Times New Roman,serif\" font-size=\"14.00\">24.fstat64</text>\n</g>\n<!-- Start&#45;&gt;9 -->\n<g id=\"edge23\" class=\"edge\">\n<title>Start&#45;&gt;9</title>\n<path fill=\"none\" stroke=\"black\" d=\"M1177.6,-263.2C1293.96,-261.18 1503.38,-254.07 1526.48,-229 1532.84,-222.09 1531.39,-212.71 1527.36,-203.94\"/>\n<polygon fill=\"black\" stroke=\"black\" points=\"1530.38,-202.17 1522.45,-195.14 1524.27,-205.58 1530.38,-202.17\"/>\n<text text-anchor=\"middle\" x=\"1570.98\" y=\"-217.8\" font-family=\"Times New Roman,serif\" font-size=\"14.00\">22._newselect</text>\n</g>\n<!-- Start&#45;&gt;9 -->\n<g id=\"edge24\" class=\"edge\">\n<title>Start&#45;&gt;9</title>\n<path fill=\"none\" stroke=\"black\" d=\"M1177.95,-264.41C1314.26,-264.32 1585.36,-260.17 1614.48,-229 1635.64,-206.34 1593.63,-192.88 1556.62,-185.73\"/>\n<polygon fill=\"black\" stroke=\"black\" points=\"1556.84,-182.21 1546.38,-183.88 1555.59,-189.1 1556.84,-182.21\"/>\n<text text-anchor=\"middle\" x=\"1649.98\" y=\"-217.8\" font-family=\"Times New Roman,serif\" font-size=\"14.00\">26.mmap2</text>\n</g>\n<!-- 10 -->\n<g id=\"node11\" class=\"node\">\n<title>10</title>\n<ellipse fill=\"none\" stroke=\"black\" cx=\"1762.48\" cy=\"-178\" rx=\"27.1\" ry=\"18\"/>\n<text text-anchor=\"middle\" x=\"1762.48\" y=\"-174.3\" font-family=\"Times New Roman,serif\" font-size=\"14.00\">^sh$</text>\n</g>\n<!-- Start&#45;&gt;10 -->\n<g id=\"edge25\" class=\"edge\">\n<title>Start&#45;&gt;10</title>\n<path fill=\"none\" stroke=\"black\" d=\"M1177.93,-264.12C1314.34,-263.54 1591.68,-258.62 1683.48,-229 1703.49,-222.54 1723.48,-209.81 1738.35,-198.81\"/>\n<polygon fill=\"black\" stroke=\"black\" points=\"1740.65,-201.46 1746.47,-192.6 1736.4,-195.9 1740.65,-201.46\"/>\n<text text-anchor=\"middle\" x=\"1734.98\" y=\"-217.8\" font-family=\"Times New Roman,serif\" font-size=\"14.00\">2.clone</text>\n</g>\n<!-- Start&#45;&gt;10 -->\n<g id=\"edge26\" class=\"edge\">\n<title>Start&#45;&gt;10</title>\n<path fill=\"none\" stroke=\"black\" d=\"M1177.41,-262.62C1346.9,-259.23 1739.11,-249.22 1759.48,-229 1765.38,-223.14 1767.29,-214.68 1767.37,-206.38\"/>\n<polygon fill=\"black\" stroke=\"black\" points=\"1770.84,-205.9 1766.65,-196.17 1763.86,-206.39 1770.84,-205.9\"/>\n<text text-anchor=\"middle\" x=\"1793.48\" y=\"-217.8\" font-family=\"Times New Roman,serif\" font-size=\"14.00\">3.waitpid</text>\n</g>\n<!-- 11 -->\n<g id=\"node12\" class=\"node\">\n<title>11</title>\n<ellipse fill=\"none\" stroke=\"black\" cx=\"1889.48\" cy=\"-178\" rx=\"33.6\" ry=\"18\"/>\n<text text-anchor=\"middle\" x=\"1889.48\" y=\"-174.3\" font-family=\"Times New Roman,serif\" font-size=\"14.00\">/etc/rc</text>\n</g>\n<!-- Start&#45;&gt;11 -->\n<g id=\"edge27\" class=\"edge\">\n<title>Start&#45;&gt;11</title>\n<path fill=\"none\" stroke=\"black\" d=\"M1177.38,-262.84C1351.24,-259.86 1764.05,-250.58 1823.48,-229 1839.72,-223.1 1855.27,-211.71 1867.19,-201.29\"/>\n<polygon fill=\"black\" stroke=\"black\" points=\"1869.8,-203.64 1874.82,-194.31 1865.08,-198.47 1869.8,-203.64\"/>\n<text text-anchor=\"middle\" x=\"1872.48\" y=\"-217.8\" font-family=\"Times New Roman,serif\" font-size=\"14.00\">10.open</text>\n</g>\n<!-- Start&#45;&gt;11 -->\n<g id=\"edge28\" class=\"edge\">\n<title>Start&#45;&gt;11</title>\n<path fill=\"none\" stroke=\"black\" d=\"M1177.89,-263.47C1373.67,-261.74 1874.78,-254.8 1899.48,-229 1905.61,-222.59 1905.41,-213.53 1902.89,-204.88\"/>\n<polygon fill=\"black\" stroke=\"black\" points=\"1906.12,-203.54 1899.28,-195.45 1899.59,-206.04 1906.12,-203.54\"/>\n<text text-anchor=\"middle\" x=\"1934.48\" y=\"-217.8\" font-family=\"Times New Roman,serif\" font-size=\"14.00\">17.rename</text>\n</g>\n<!-- 12 -->\n<g id=\"node13\" class=\"node\">\n<title>12</title>\n<ellipse fill=\"none\" stroke=\"black\" cx=\"2021.48\" cy=\"-178\" rx=\"61.99\" ry=\"18\"/>\n<text text-anchor=\"middle\" x=\"2021.48\" y=\"-174.3\" font-family=\"Times New Roman,serif\" font-size=\"14.00\">permission_id</text>\n</g>\n<!-- Start&#45;&gt;12 -->\n<g id=\"edge29\" class=\"edge\">\n<title>Start&#45;&gt;12</title>\n<path fill=\"none\" stroke=\"black\" d=\"M1177.85,-263.92C1376.83,-263.3 1895.74,-258.79 1967.48,-229 1980.7,-223.51 1992.69,-213.25 2002,-203.44\"/>\n<polygon fill=\"black\" stroke=\"black\" points=\"2004.8,-205.56 2008.86,-195.77 1999.58,-200.89 2004.8,-205.56\"/>\n<text text-anchor=\"middle\" x=\"2016.48\" y=\"-217.8\" font-family=\"Times New Roman,serif\" font-size=\"14.00\">11.umask</text>\n</g>\n<!-- 13 -->\n<g id=\"node14\" class=\"node\">\n<title>13</title>\n<ellipse fill=\"none\" stroke=\"black\" cx=\"2119.48\" cy=\"-91\" rx=\"31.7\" ry=\"18\"/>\n<text text-anchor=\"middle\" x=\"2119.48\" y=\"-87.3\" font-family=\"Times New Roman,serif\" font-size=\"14.00\">^sed$</text>\n</g>\n<!-- Start&#45;&gt;13 -->\n<g id=\"edge30\" class=\"edge\">\n<title>Start&#45;&gt;13</title>\n<path fill=\"none\" stroke=\"black\" d=\"M1177.82,-263.74C1389.24,-262.67 1966.48,-257.18 2047.48,-229 2070.9,-220.85 2078.55,-216.52 2092.48,-196 2108.04,-173.05 2114.64,-141.68 2117.43,-119.41\"/>\n<polygon fill=\"black\" stroke=\"black\" points=\"2120.93,-119.6 2118.51,-109.29 2113.97,-118.85 2120.93,-119.6\"/>\n<text text-anchor=\"middle\" x=\"2127.98\" y=\"-174.3\" font-family=\"Times New Roman,serif\" font-size=\"14.00\">6.exec</text>\n</g>\n</g>\n</svg>\n",
      "text/plain": [
       "<graphviz.sources.Source at 0x1af09381c60>"
      ]
     },
     "metadata": {},
     "output_type": "display_data"
    },
    {
     "name": "stdout",
     "output_type": "stream",
     "text": [
      "Dofloo-MalwareMustDie.csv raw doc OPset\n"
     ]
    },
    {
     "data": {
      "image/svg+xml": "<?xml version=\"1.0\" encoding=\"UTF-8\" standalone=\"no\"?>\n<!DOCTYPE svg PUBLIC \"-//W3C//DTD SVG 1.1//EN\"\n \"http://www.w3.org/Graphics/SVG/1.1/DTD/svg11.dtd\">\n<!-- Generated by graphviz version 6.0.1 (20220911.1526)\n -->\n<!-- Pages: 1 -->\n<svg width=\"682pt\" height=\"131pt\"\n viewBox=\"0.00 0.00 681.83 131.00\" xmlns=\"http://www.w3.org/2000/svg\" xmlns:xlink=\"http://www.w3.org/1999/xlink\">\n<g id=\"graph0\" class=\"graph\" transform=\"scale(1 1) rotate(0) translate(4 127)\">\n<polygon fill=\"white\" stroke=\"none\" points=\"-4,4 -4,-127 677.83,-127 677.83,4 -4,4\"/>\n<!-- Start -->\n<g id=\"node1\" class=\"node\">\n<title>Start</title>\n<ellipse fill=\"none\" stroke=\"black\" cx=\"301.83\" cy=\"-105\" rx=\"77.19\" ry=\"18\"/>\n<text text-anchor=\"middle\" x=\"301.83\" y=\"-101.3\" font-family=\"Times New Roman,serif\" font-size=\"14.00\">Malware (Subject)</text>\n</g>\n<!-- 1 -->\n<g id=\"node2\" class=\"node\">\n<title>1</title>\n<ellipse fill=\"none\" stroke=\"black\" cx=\"271.83\" cy=\"-18\" rx=\"50.09\" ry=\"18\"/>\n<text text-anchor=\"middle\" x=\"271.83\" y=\"-14.3\" font-family=\"Times New Roman,serif\" font-size=\"14.00\">mem_addr</text>\n</g>\n<!-- Start&#45;&gt;1 -->\n<g id=\"edge1\" class=\"edge\">\n<title>Start&#45;&gt;1</title>\n<path fill=\"none\" stroke=\"black\" d=\"M227.04,-100.32C143.65,-95.43 18.46,-85.45 3.83,-69 -24.95,-36.64 124.37,-24.99 211.87,-20.98\"/>\n<polygon fill=\"black\" stroke=\"black\" points=\"212.12,-24.48 221.96,-20.54 211.81,-17.48 212.12,-24.48\"/>\n<text text-anchor=\"middle\" x=\"22.83\" y=\"-57.8\" font-family=\"Times New Roman,serif\" font-size=\"14.00\">8.pack</text>\n</g>\n<!-- Start&#45;&gt;1 -->\n<g id=\"edge2\" class=\"edge\">\n<title>Start&#45;&gt;1</title>\n<path fill=\"none\" stroke=\"black\" d=\"M224.68,-103.14C163.6,-100.62 85.28,-92.69 64.83,-69 60.48,-63.95 60.53,-59.09 64.83,-54 83.34,-32.1 157.31,-23.9 211.56,-20.83\"/>\n<polygon fill=\"black\" stroke=\"black\" points=\"211.98,-24.31 221.79,-20.3 211.62,-17.32 211.98,-24.31\"/>\n<text text-anchor=\"middle\" x=\"80.33\" y=\"-57.8\" font-family=\"Times New Roman,serif\" font-size=\"14.00\">5.svc</text>\n</g>\n<!-- Start&#45;&gt;1 -->\n<g id=\"edge3\" class=\"edge\">\n<title>Start&#45;&gt;1</title>\n<path fill=\"none\" stroke=\"black\" d=\"M228.14,-99.31C183.62,-94.77 132.85,-85.95 118.83,-69 90.31,-34.5 157.38,-23.6 211.58,-20.27\"/>\n<polygon fill=\"black\" stroke=\"black\" points=\"212.08,-23.75 221.87,-19.72 211.7,-16.76 212.08,-23.75\"/>\n<text text-anchor=\"middle\" x=\"135.33\" y=\"-57.8\" font-family=\"Times New Roman,serif\" font-size=\"14.00\">6.find</text>\n</g>\n<!-- Start&#45;&gt;1 -->\n<g id=\"edge4\" class=\"edge\">\n<title>Start&#45;&gt;1</title>\n<path fill=\"none\" stroke=\"black\" d=\"M239.78,-94.18C211.81,-88.36 183.18,-79.96 174.83,-69 159.36,-48.69 187.06,-35.91 216.77,-28.35\"/>\n<polygon fill=\"black\" stroke=\"black\" points=\"217.92,-31.68 226.86,-25.99 216.32,-24.86 217.92,-31.68\"/>\n<text text-anchor=\"middle\" x=\"197.83\" y=\"-57.8\" font-family=\"Times New Roman,serif\" font-size=\"14.00\">9.eserve</text>\n</g>\n<!-- Start&#45;&gt;1 -->\n<g id=\"edge5\" class=\"edge\">\n<title>Start&#45;&gt;1</title>\n<path fill=\"none\" stroke=\"black\" d=\"M264.44,-89.11C256.23,-84.01 248.57,-77.4 243.83,-69 239.12,-60.64 241.93,-51.48 247.27,-43.31\"/>\n<polygon fill=\"black\" stroke=\"black\" points=\"250.18,-45.28 253.54,-35.23 244.65,-40.98 250.18,-45.28\"/>\n<text text-anchor=\"middle\" x=\"261.83\" y=\"-57.8\" font-family=\"Times New Roman,serif\" font-size=\"14.00\">7.look</text>\n</g>\n<!-- Start&#45;&gt;1 -->\n<g id=\"edge6\" class=\"edge\">\n<title>Start&#45;&gt;1</title>\n<path fill=\"none\" stroke=\"black\" d=\"M295.76,-86.8C291.59,-74.97 285.96,-59.03 281.21,-45.58\"/>\n<polygon fill=\"black\" stroke=\"black\" points=\"284.42,-44.15 277.79,-35.89 277.82,-46.48 284.42,-44.15\"/>\n<text text-anchor=\"middle\" x=\"304.83\" y=\"-57.8\" font-family=\"Times New Roman,serif\" font-size=\"14.00\">10.go</text>\n</g>\n<!-- Start&#45;&gt;1 -->\n<g id=\"edge7\" class=\"edge\">\n<title>Start&#45;&gt;1</title>\n<path fill=\"none\" stroke=\"black\" d=\"M317.68,-87.08C324.88,-77.27 330.63,-64.77 324.83,-54 321.53,-47.87 316.64,-42.63 311.13,-38.22\"/>\n<polygon fill=\"black\" stroke=\"black\" points=\"312.94,-35.22 302.74,-32.34 308.93,-40.95 312.94,-35.22\"/>\n<text text-anchor=\"middle\" x=\"340.33\" y=\"-57.8\" font-family=\"Times New Roman,serif\" font-size=\"14.00\">2.be</text>\n</g>\n<!-- Start&#45;&gt;1 -->\n<g id=\"edge8\" class=\"edge\">\n<title>Start&#45;&gt;1</title>\n<path fill=\"none\" stroke=\"black\" d=\"M336.98,-88.87C352.7,-79.83 365.88,-67.51 356.83,-54 349.4,-42.9 337.75,-35.32 325.43,-30.14\"/>\n<polygon fill=\"black\" stroke=\"black\" points=\"326.53,-26.82 315.93,-26.63 324.1,-33.38 326.53,-26.82\"/>\n<text text-anchor=\"middle\" x=\"378.33\" y=\"-57.8\" font-family=\"Times New Roman,serif\" font-size=\"14.00\">1.have</text>\n</g>\n<!-- Start&#45;&gt;1 -->\n<g id=\"edge9\" class=\"edge\">\n<title>Start&#45;&gt;1</title>\n<path fill=\"none\" stroke=\"black\" d=\"M362.56,-93.68C391.06,-86.08 415.81,-73.58 400.83,-54 391.62,-41.95 358.18,-33.08 327.66,-27.29\"/>\n<polygon fill=\"black\" stroke=\"black\" points=\"327.92,-23.78 317.46,-25.44 326.67,-30.67 327.92,-23.78\"/>\n<text text-anchor=\"middle\" x=\"421.83\" y=\"-57.8\" font-family=\"Times New Roman,serif\" font-size=\"14.00\">3.add</text>\n</g>\n<!-- Start&#45;&gt;1 -->\n<g id=\"edge10\" class=\"edge\">\n<title>Start&#45;&gt;1</title>\n<path fill=\"none\" stroke=\"black\" d=\"M359.87,-92.97C395.96,-85.52 436.5,-75.84 441.83,-69 445.94,-63.75 446.05,-59.17 441.83,-54 427.87,-36.86 374.06,-27.87 330.67,-23.32\"/>\n<polygon fill=\"black\" stroke=\"black\" points=\"330.76,-19.81 320.46,-22.31 330.07,-26.78 330.76,-19.81\"/>\n<text text-anchor=\"middle\" x=\"491.83\" y=\"-57.8\" font-family=\"Times New Roman,serif\" font-size=\"14.00\">4.r1,r2,r10,r11,lr</text>\n</g>\n<!-- 2 -->\n<g id=\"node3\" class=\"node\">\n<title>2</title>\n<ellipse fill=\"none\" stroke=\"black\" cx=\"634.83\" cy=\"-18\" rx=\"38.99\" ry=\"18\"/>\n<text text-anchor=\"middle\" x=\"634.83\" y=\"-14.3\" font-family=\"Times New Roman,serif\" font-size=\"14.00\">ip_addr</text>\n</g>\n<!-- Start&#45;&gt;2 -->\n<g id=\"edge11\" class=\"edge\">\n<title>Start&#45;&gt;2</title>\n<path fill=\"none\" stroke=\"black\" d=\"M357.23,-92.38C367.39,-90.44 377.91,-88.56 387.83,-87 455.91,-76.31 476.1,-89.68 541.83,-69 564.17,-61.97 587.37,-49.51 605.01,-38.79\"/>\n<polygon fill=\"black\" stroke=\"black\" points=\"607.06,-41.63 613.7,-33.37 603.36,-35.69 607.06,-41.63\"/>\n<text text-anchor=\"middle\" x=\"591.33\" y=\"-57.8\" font-family=\"Times New Roman,serif\" font-size=\"14.00\">13.be</text>\n</g>\n<!-- 3 -->\n<g id=\"node4\" class=\"node\">\n<title>3</title>\n<ellipse fill=\"none\" stroke=\"black\" cx=\"428.83\" cy=\"-105\" rx=\"31.7\" ry=\"18\"/>\n<text text-anchor=\"middle\" x=\"428.83\" y=\"-101.3\" font-family=\"Times New Roman,serif\" font-size=\"14.00\">^sed$</text>\n</g>\n</g>\n</svg>\n",
      "text/plain": [
       "<graphviz.graphs.Digraph at 0x1af09381cc0>"
      ]
     },
     "metadata": {},
     "output_type": "display_data"
    },
    {
     "name": "stdout",
     "output_type": "stream",
     "text": [
      "Dofloo-Securityaffairs.csv raw doc OPset\n"
     ]
    },
    {
     "data": {
      "image/svg+xml": "<?xml version=\"1.0\" encoding=\"UTF-8\" standalone=\"no\"?>\n<!DOCTYPE svg PUBLIC \"-//W3C//DTD SVG 1.1//EN\"\n \"http://www.w3.org/Graphics/SVG/1.1/DTD/svg11.dtd\">\n<!-- Generated by graphviz version 6.0.1 (20220911.1526)\n -->\n<!-- Pages: 1 -->\n<svg width=\"310pt\" height=\"131pt\"\n viewBox=\"0.00 0.00 309.59 131.00\" xmlns=\"http://www.w3.org/2000/svg\" xmlns:xlink=\"http://www.w3.org/1999/xlink\">\n<g id=\"graph0\" class=\"graph\" transform=\"scale(1 1) rotate(0) translate(4 127)\">\n<polygon fill=\"white\" stroke=\"none\" points=\"-4,4 -4,-127 305.59,-127 305.59,4 -4,4\"/>\n<!-- Start -->\n<g id=\"node1\" class=\"node\">\n<title>Start</title>\n<ellipse fill=\"none\" stroke=\"black\" cx=\"124.8\" cy=\"-105\" rx=\"77.19\" ry=\"18\"/>\n<text text-anchor=\"middle\" x=\"124.8\" y=\"-101.3\" font-family=\"Times New Roman,serif\" font-size=\"14.00\">Malware (Subject)</text>\n</g>\n<!-- 1 -->\n<g id=\"node2\" class=\"node\">\n<title>1</title>\n<ellipse fill=\"none\" stroke=\"black\" cx=\"33.8\" cy=\"-18\" rx=\"33.6\" ry=\"18\"/>\n<text text-anchor=\"middle\" x=\"33.8\" y=\"-14.3\" font-family=\"Times New Roman,serif\" font-size=\"14.00\">/etc/rc</text>\n</g>\n<!-- Start&#45;&gt;1 -->\n<g id=\"edge1\" class=\"edge\">\n<title>Start&#45;&gt;1</title>\n<path fill=\"none\" stroke=\"black\" d=\"M95.61,-88.29C86.8,-82.82 77.45,-76.23 69.8,-69 62.06,-61.7 54.9,-52.52 49.04,-44.03\"/>\n<polygon fill=\"black\" stroke=\"black\" points=\"51.86,-41.95 43.43,-35.54 46.02,-45.81 51.86,-41.95\"/>\n<text text-anchor=\"middle\" x=\"95.3\" y=\"-57.8\" font-family=\"Times New Roman,serif\" font-size=\"14.00\">3.modify</text>\n</g>\n<!-- 2 -->\n<g id=\"node3\" class=\"node\">\n<title>2</title>\n<ellipse fill=\"none\" stroke=\"black\" cx=\"124.8\" cy=\"-18\" rx=\"38.99\" ry=\"18\"/>\n<text text-anchor=\"middle\" x=\"124.8\" y=\"-14.3\" font-family=\"Times New Roman,serif\" font-size=\"14.00\">ip_addr</text>\n</g>\n<!-- Start&#45;&gt;2 -->\n<g id=\"edge2\" class=\"edge\">\n<title>Start&#45;&gt;2</title>\n<path fill=\"none\" stroke=\"black\" d=\"M124.8,-86.8C124.8,-75.16 124.8,-59.55 124.8,-46.24\"/>\n<polygon fill=\"black\" stroke=\"black\" points=\"128.3,-46.18 124.8,-36.18 121.3,-46.18 128.3,-46.18\"/>\n<text text-anchor=\"middle\" x=\"152.3\" y=\"-57.8\" font-family=\"Times New Roman,serif\" font-size=\"14.00\">1.connect</text>\n</g>\n<!-- 3 -->\n<g id=\"node4\" class=\"node\">\n<title>3</title>\n<ellipse fill=\"none\" stroke=\"black\" cx=\"241.8\" cy=\"-18\" rx=\"59.59\" ry=\"18\"/>\n<text text-anchor=\"middle\" x=\"241.8\" y=\"-14.3\" font-family=\"Times New Roman,serif\" font-size=\"14.00\">ip_addr+port</text>\n</g>\n<!-- Start&#45;&gt;3 -->\n<g id=\"edge3\" class=\"edge\">\n<title>Start&#45;&gt;3</title>\n<path fill=\"none\" stroke=\"black\" d=\"M153.65,-88.25C163.45,-82.54 174.32,-75.81 183.8,-69 195.12,-60.85 206.91,-50.98 216.88,-42.17\"/>\n<polygon fill=\"black\" stroke=\"black\" points=\"219.33,-44.67 224.44,-35.39 214.66,-39.46 219.33,-44.67\"/>\n<text text-anchor=\"middle\" x=\"229.3\" y=\"-57.8\" font-family=\"Times New Roman,serif\" font-size=\"14.00\">2.connect</text>\n</g>\n</g>\n</svg>\n",
      "text/plain": [
       "<graphviz.graphs.Digraph at 0x1af09381cf0>"
      ]
     },
     "metadata": {},
     "output_type": "display_data"
    },
    {
     "name": "stdout",
     "output_type": "stream",
     "text": [
      "Dofloo-Securityaffairs.csv matched doc OPset\n"
     ]
    },
    {
     "data": {
      "image/svg+xml": "<?xml version=\"1.0\" encoding=\"UTF-8\" standalone=\"no\"?>\n<!DOCTYPE svg PUBLIC \"-//W3C//DTD SVG 1.1//EN\"\n \"http://www.w3.org/Graphics/SVG/1.1/DTD/svg11.dtd\">\n<!-- Generated by graphviz version 6.0.1 (20220911.1526)\n -->\n<!-- Pages: 1 -->\n<svg width=\"310pt\" height=\"131pt\"\n viewBox=\"0.00 0.00 309.59 131.00\" xmlns=\"http://www.w3.org/2000/svg\" xmlns:xlink=\"http://www.w3.org/1999/xlink\">\n<g id=\"graph0\" class=\"graph\" transform=\"scale(1 1) rotate(0) translate(4 127)\">\n<polygon fill=\"white\" stroke=\"none\" points=\"-4,4 -4,-127 305.59,-127 305.59,4 -4,4\"/>\n<!-- Start -->\n<g id=\"node1\" class=\"node\">\n<title>Start</title>\n<ellipse fill=\"none\" stroke=\"black\" cx=\"124.8\" cy=\"-105\" rx=\"77.19\" ry=\"18\"/>\n<text text-anchor=\"middle\" x=\"124.8\" y=\"-101.3\" font-family=\"Times New Roman,serif\" font-size=\"14.00\">Malware (Subject)</text>\n</g>\n<!-- 1 -->\n<g id=\"node2\" class=\"node\">\n<title>1</title>\n<ellipse fill=\"none\" stroke=\"black\" cx=\"33.8\" cy=\"-18\" rx=\"33.6\" ry=\"18\"/>\n<text text-anchor=\"middle\" x=\"33.8\" y=\"-14.3\" font-family=\"Times New Roman,serif\" font-size=\"14.00\">/etc/rc</text>\n</g>\n<!-- Start&#45;&gt;1 -->\n<g id=\"edge1\" class=\"edge\">\n<title>Start&#45;&gt;1</title>\n<path fill=\"none\" stroke=\"black\" d=\"M95.61,-88.29C86.8,-82.82 77.45,-76.23 69.8,-69 62.06,-61.7 54.9,-52.52 49.04,-44.03\"/>\n<polygon fill=\"black\" stroke=\"black\" points=\"51.86,-41.95 43.43,-35.54 46.02,-45.81 51.86,-41.95\"/>\n<text text-anchor=\"middle\" x=\"95.3\" y=\"-57.8\" font-family=\"Times New Roman,serif\" font-size=\"14.00\">3.modify</text>\n</g>\n<!-- 2 -->\n<g id=\"node3\" class=\"node\">\n<title>2</title>\n<ellipse fill=\"none\" stroke=\"black\" cx=\"124.8\" cy=\"-18\" rx=\"38.99\" ry=\"18\"/>\n<text text-anchor=\"middle\" x=\"124.8\" y=\"-14.3\" font-family=\"Times New Roman,serif\" font-size=\"14.00\">ip_addr</text>\n</g>\n<!-- Start&#45;&gt;2 -->\n<g id=\"edge2\" class=\"edge\">\n<title>Start&#45;&gt;2</title>\n<path fill=\"none\" stroke=\"black\" d=\"M124.8,-86.8C124.8,-75.16 124.8,-59.55 124.8,-46.24\"/>\n<polygon fill=\"black\" stroke=\"black\" points=\"128.3,-46.18 124.8,-36.18 121.3,-46.18 128.3,-46.18\"/>\n<text text-anchor=\"middle\" x=\"152.3\" y=\"-57.8\" font-family=\"Times New Roman,serif\" font-size=\"14.00\">1.connect</text>\n</g>\n<!-- 3 -->\n<g id=\"node4\" class=\"node\">\n<title>3</title>\n<ellipse fill=\"none\" stroke=\"black\" cx=\"241.8\" cy=\"-18\" rx=\"59.59\" ry=\"18\"/>\n<text text-anchor=\"middle\" x=\"241.8\" y=\"-14.3\" font-family=\"Times New Roman,serif\" font-size=\"14.00\">ip_addr+port</text>\n</g>\n<!-- Start&#45;&gt;3 -->\n<g id=\"edge3\" class=\"edge\">\n<title>Start&#45;&gt;3</title>\n<path fill=\"none\" stroke=\"black\" d=\"M153.65,-88.25C163.45,-82.54 174.32,-75.81 183.8,-69 195.12,-60.85 206.91,-50.98 216.88,-42.17\"/>\n<polygon fill=\"black\" stroke=\"black\" points=\"219.33,-44.67 224.44,-35.39 214.66,-39.46 219.33,-44.67\"/>\n<text text-anchor=\"middle\" x=\"229.3\" y=\"-57.8\" font-family=\"Times New Roman,serif\" font-size=\"14.00\">2.connect</text>\n</g>\n</g>\n</svg>\n",
      "text/plain": [
       "<graphviz.graphs.Digraph at 0x1af09381cc0>"
      ]
     },
     "metadata": {},
     "output_type": "display_data"
    },
    {
     "name": "stdout",
     "output_type": "stream",
     "text": [
      "matched ASG OPset for doc Dofloo-Securityaffairs.csv\n"
     ]
    },
    {
     "data": {
      "image/svg+xml": "<?xml version=\"1.0\" encoding=\"UTF-8\" standalone=\"no\"?>\n<!DOCTYPE svg PUBLIC \"-//W3C//DTD SVG 1.1//EN\"\n \"http://www.w3.org/Graphics/SVG/1.1/DTD/svg11.dtd\">\n<!-- Generated by graphviz version 6.0.1 (20220911.1526)\n -->\n<!-- Pages: 1 -->\n<svg width=\"310pt\" height=\"131pt\"\n viewBox=\"0.00 0.00 309.79 131.00\" xmlns=\"http://www.w3.org/2000/svg\" xmlns:xlink=\"http://www.w3.org/1999/xlink\">\n<g id=\"graph0\" class=\"graph\" transform=\"scale(1 1) rotate(0) translate(4 127)\">\n<polygon fill=\"white\" stroke=\"none\" points=\"-4,4 -4,-127 305.79,-127 305.79,4 -4,4\"/>\n<!-- Start -->\n<g id=\"node1\" class=\"node\">\n<title>Start</title>\n<ellipse fill=\"none\" stroke=\"black\" cx=\"130\" cy=\"-105\" rx=\"77.19\" ry=\"18\"/>\n<text text-anchor=\"middle\" x=\"130\" y=\"-101.3\" font-family=\"Times New Roman,serif\" font-size=\"14.00\">Malware (Subject)</text>\n</g>\n<!-- 1 -->\n<g id=\"node2\" class=\"node\">\n<title>1</title>\n<ellipse fill=\"none\" stroke=\"black\" cx=\"39\" cy=\"-18\" rx=\"38.99\" ry=\"18\"/>\n<text text-anchor=\"middle\" x=\"39\" y=\"-14.3\" font-family=\"Times New Roman,serif\" font-size=\"14.00\">ip_addr</text>\n</g>\n<!-- Start&#45;&gt;1 -->\n<g id=\"edge1\" class=\"edge\">\n<title>Start&#45;&gt;1</title>\n<path fill=\"none\" stroke=\"black\" d=\"M92.33,-89.12C82.26,-83.85 71.97,-77.17 64,-69 57.47,-62.31 52.31,-53.58 48.42,-45.29\"/>\n<polygon fill=\"black\" stroke=\"black\" points=\"51.56,-43.73 44.43,-35.9 45.12,-46.48 51.56,-43.73\"/>\n<text text-anchor=\"middle\" x=\"95\" y=\"-57.8\" font-family=\"Times New Roman,serif\" font-size=\"14.00\">20.connect</text>\n</g>\n<!-- 2 -->\n<g id=\"node3\" class=\"node\">\n<title>2</title>\n<ellipse fill=\"none\" stroke=\"black\" cx=\"130\" cy=\"-18\" rx=\"33.6\" ry=\"18\"/>\n<text text-anchor=\"middle\" x=\"130\" y=\"-14.3\" font-family=\"Times New Roman,serif\" font-size=\"14.00\">/etc/rc</text>\n</g>\n<!-- Start&#45;&gt;2 -->\n<g id=\"edge2\" class=\"edge\">\n<title>Start&#45;&gt;2</title>\n<path fill=\"none\" stroke=\"black\" d=\"M130,-86.8C130,-75.16 130,-59.55 130,-46.24\"/>\n<polygon fill=\"black\" stroke=\"black\" points=\"133.5,-46.18 130,-36.18 126.5,-46.18 133.5,-46.18\"/>\n<text text-anchor=\"middle\" x=\"159\" y=\"-57.8\" font-family=\"Times New Roman,serif\" font-size=\"14.00\">17.rename</text>\n</g>\n<!-- 3 -->\n<g id=\"node4\" class=\"node\">\n<title>3</title>\n<ellipse fill=\"none\" stroke=\"black\" cx=\"242\" cy=\"-18\" rx=\"59.59\" ry=\"18\"/>\n<text text-anchor=\"middle\" x=\"242\" y=\"-14.3\" font-family=\"Times New Roman,serif\" font-size=\"14.00\">ip_addr+port</text>\n</g>\n<!-- Start&#45;&gt;3 -->\n<g id=\"edge3\" class=\"edge\">\n<title>Start&#45;&gt;3</title>\n<path fill=\"none\" stroke=\"black\" d=\"M161.31,-88.49C171.47,-82.89 182.55,-76.18 192,-69 201.98,-61.42 211.95,-51.93 220.33,-43.27\"/>\n<polygon fill=\"black\" stroke=\"black\" points=\"222.94,-45.61 227.25,-35.93 217.84,-40.8 222.94,-45.61\"/>\n<text text-anchor=\"middle\" x=\"239\" y=\"-57.8\" font-family=\"Times New Roman,serif\" font-size=\"14.00\">19.connect</text>\n</g>\n</g>\n</svg>\n",
      "text/plain": [
       "<graphviz.graphs.Digraph at 0x1af09381cf0>"
      ]
     },
     "metadata": {},
     "output_type": "display_data"
    },
    {
     "name": "stdout",
     "output_type": "stream",
     "text": [
      "Dofloo-SyscallParty.csv raw doc OPset\n"
     ]
    },
    {
     "data": {
      "image/svg+xml": "<?xml version=\"1.0\" encoding=\"UTF-8\" standalone=\"no\"?>\n<!DOCTYPE svg PUBLIC \"-//W3C//DTD SVG 1.1//EN\"\n \"http://www.w3.org/Graphics/SVG/1.1/DTD/svg11.dtd\">\n<!-- Generated by graphviz version 6.0.1 (20220911.1526)\n -->\n<!-- Pages: 1 -->\n<svg width=\"542pt\" height=\"131pt\"\n viewBox=\"0.00 0.00 542.49 131.00\" xmlns=\"http://www.w3.org/2000/svg\" xmlns:xlink=\"http://www.w3.org/1999/xlink\">\n<g id=\"graph0\" class=\"graph\" transform=\"scale(1 1) rotate(0) translate(4 127)\">\n<polygon fill=\"white\" stroke=\"none\" points=\"-4,4 -4,-127 538.49,-127 538.49,4 -4,4\"/>\n<!-- Start -->\n<g id=\"node1\" class=\"node\">\n<title>Start</title>\n<ellipse fill=\"none\" stroke=\"black\" cx=\"237.5\" cy=\"-105\" rx=\"77.19\" ry=\"18\"/>\n<text text-anchor=\"middle\" x=\"237.5\" y=\"-101.3\" font-family=\"Times New Roman,serif\" font-size=\"14.00\">Malware (Subject)</text>\n</g>\n<!-- 2 -->\n<g id=\"node3\" class=\"node\">\n<title>2</title>\n<ellipse fill=\"none\" stroke=\"black\" cx=\"32.5\" cy=\"-18\" rx=\"32.49\" ry=\"18\"/>\n<text text-anchor=\"middle\" x=\"32.5\" y=\"-14.3\" font-family=\"Times New Roman,serif\" font-size=\"14.00\">/proc/</text>\n</g>\n<!-- Start&#45;&gt;2 -->\n<g id=\"edge1\" class=\"edge\">\n<title>Start&#45;&gt;2</title>\n<path fill=\"none\" stroke=\"black\" d=\"M161.05,-102.01C105.4,-98.76 36.74,-90.39 18.5,-69 12.57,-62.05 13.53,-52.77 16.85,-44.09\"/>\n<polygon fill=\"black\" stroke=\"black\" points=\"20.02,-45.58 21.17,-35.04 13.7,-42.56 20.02,-45.58\"/>\n<text text-anchor=\"middle\" x=\"41.5\" y=\"-57.8\" font-family=\"Times New Roman,serif\" font-size=\"14.00\">11.open</text>\n</g>\n<!-- Start&#45;&gt;2 -->\n<g id=\"edge2\" class=\"edge\">\n<title>Start&#45;&gt;2</title>\n<path fill=\"none\" stroke=\"black\" d=\"M183.42,-91.99C161.55,-86.27 136.36,-78.57 114.5,-69 95.47,-60.68 75.55,-48.62 60.1,-38.43\"/>\n<polygon fill=\"black\" stroke=\"black\" points=\"61.82,-35.36 51.57,-32.68 57.91,-41.17 61.82,-35.36\"/>\n<text text-anchor=\"middle\" x=\"132\" y=\"-57.8\" font-family=\"Times New Roman,serif\" font-size=\"14.00\">8.read</text>\n</g>\n<!-- 4 -->\n<g id=\"node5\" class=\"node\">\n<title>4</title>\n<ellipse fill=\"none\" stroke=\"black\" cx=\"144.5\" cy=\"-18\" rx=\"46.59\" ry=\"18\"/>\n<text text-anchor=\"middle\" x=\"144.5\" y=\"-14.3\" font-family=\"Times New Roman,serif\" font-size=\"14.00\">/etc/init.d/</text>\n</g>\n<!-- Start&#45;&gt;4 -->\n<g id=\"edge3\" class=\"edge\">\n<title>Start&#45;&gt;4</title>\n<path fill=\"none\" stroke=\"black\" d=\"M192.83,-90.09C181.77,-84.91 170.73,-78.02 162.5,-69 156.57,-62.51 152.56,-53.92 149.87,-45.7\"/>\n<polygon fill=\"black\" stroke=\"black\" points=\"153.23,-44.73 147.19,-36.02 146.48,-46.59 153.23,-44.73\"/>\n<text text-anchor=\"middle\" x=\"178.5\" y=\"-57.8\" font-family=\"Times New Roman,serif\" font-size=\"14.00\">4.add</text>\n</g>\n<!-- 5 -->\n<g id=\"node6\" class=\"node\">\n<title>5</title>\n<ellipse fill=\"none\" stroke=\"black\" cx=\"275.5\" cy=\"-18\" rx=\"33.6\" ry=\"18\"/>\n<text text-anchor=\"middle\" x=\"275.5\" y=\"-14.3\" font-family=\"Times New Roman,serif\" font-size=\"14.00\">/etc/rc</text>\n</g>\n<!-- Start&#45;&gt;5 -->\n<g id=\"edge4\" class=\"edge\">\n<title>Start&#45;&gt;5</title>\n<path fill=\"none\" stroke=\"black\" d=\"M213.43,-87.74C202.32,-78.16 193.07,-65.66 200.5,-54 208.26,-41.81 221.5,-33.79 234.72,-28.56\"/>\n<polygon fill=\"black\" stroke=\"black\" points=\"235.98,-31.82 244.26,-25.21 233.66,-25.22 235.98,-31.82\"/>\n<text text-anchor=\"middle\" x=\"227\" y=\"-57.8\" font-family=\"Times New Roman,serif\" font-size=\"14.00\">5.execute</text>\n</g>\n<!-- Start&#45;&gt;5 -->\n<g id=\"edge5\" class=\"edge\">\n<title>Start&#45;&gt;5</title>\n<path fill=\"none\" stroke=\"black\" d=\"M245.36,-86.93C247.97,-81.24 250.87,-74.85 253.5,-69 256.99,-61.21 260.75,-52.72 264.15,-44.98\"/>\n<polygon fill=\"black\" stroke=\"black\" points=\"267.41,-46.26 268.22,-35.69 261,-43.45 267.41,-46.26\"/>\n<text text-anchor=\"middle\" x=\"284.5\" y=\"-57.8\" font-family=\"Times New Roman,serif\" font-size=\"14.00\">7.format</text>\n</g>\n<!-- Start&#45;&gt;5 -->\n<g id=\"edge6\" class=\"edge\">\n<title>Start&#45;&gt;5</title>\n<path fill=\"none\" stroke=\"black\" d=\"M286.35,-90.87C296.68,-85.75 306.32,-78.7 312.5,-69 318.95,-58.87 312.81,-48.1 303.8,-39.16\"/>\n<polygon fill=\"black\" stroke=\"black\" points=\"305.96,-36.4 296.14,-32.43 301.34,-41.66 305.96,-36.4\"/>\n<text text-anchor=\"middle\" x=\"331.5\" y=\"-57.8\" font-family=\"Times New Roman,serif\" font-size=\"14.00\">3.add</text>\n</g>\n<!-- 6 -->\n<g id=\"node7\" class=\"node\">\n<title>6</title>\n<ellipse fill=\"none\" stroke=\"black\" cx=\"401.5\" cy=\"-18\" rx=\"50.09\" ry=\"18\"/>\n<text text-anchor=\"middle\" x=\"401.5\" y=\"-14.3\" font-family=\"Times New Roman,serif\" font-size=\"14.00\">mem_addr</text>\n</g>\n<!-- Start&#45;&gt;6 -->\n<g id=\"edge7\" class=\"edge\">\n<title>Start&#45;&gt;6</title>\n<path fill=\"none\" stroke=\"black\" d=\"M293.72,-92.58C312.91,-87.2 333.93,-79.57 351.5,-69 362.84,-62.18 373.49,-52.23 382.03,-43.01\"/>\n<polygon fill=\"black\" stroke=\"black\" points=\"384.66,-45.32 388.67,-35.51 379.42,-40.67 384.66,-45.32\"/>\n<text text-anchor=\"middle\" x=\"387.5\" y=\"-57.8\" font-family=\"Times New Roman,serif\" font-size=\"14.00\">1.give</text>\n</g>\n<!-- 7 -->\n<g id=\"node8\" class=\"node\">\n<title>7</title>\n<ellipse fill=\"none\" stroke=\"black\" cx=\"501.5\" cy=\"-18\" rx=\"31.7\" ry=\"18\"/>\n<text text-anchor=\"middle\" x=\"501.5\" y=\"-14.3\" font-family=\"Times New Roman,serif\" font-size=\"14.00\">^sed$</text>\n</g>\n<!-- Start&#45;&gt;7 -->\n<g id=\"edge8\" class=\"edge\">\n<title>Start&#45;&gt;7</title>\n<path fill=\"none\" stroke=\"black\" d=\"M294.69,-92.71C342.25,-83.25 403.01,-70.99 408.5,-69 430.95,-60.86 454.64,-48.06 472.49,-37.44\"/>\n<polygon fill=\"black\" stroke=\"black\" points=\"474.52,-40.31 481.25,-32.13 470.89,-34.32 474.52,-40.31\"/>\n<text text-anchor=\"middle\" x=\"463.5\" y=\"-57.8\" font-family=\"Times New Roman,serif\" font-size=\"14.00\">6.format</text>\n</g>\n<!-- 1 -->\n<g id=\"node2\" class=\"node\">\n<title>1</title>\n<ellipse fill=\"none\" stroke=\"black\" cx=\"385.5\" cy=\"-105\" rx=\"52.79\" ry=\"18\"/>\n<text text-anchor=\"middle\" x=\"385.5\" y=\"-101.3\" font-family=\"Times New Roman,serif\" font-size=\"14.00\">uname(.)($)</text>\n</g>\n<!-- 3 -->\n<g id=\"node4\" class=\"node\">\n<title>3</title>\n<ellipse fill=\"none\" stroke=\"black\" cx=\"495.5\" cy=\"-105\" rx=\"38.99\" ry=\"18\"/>\n<text text-anchor=\"middle\" x=\"495.5\" y=\"-101.3\" font-family=\"Times New Roman,serif\" font-size=\"14.00\">ip_addr</text>\n</g>\n</g>\n</svg>\n",
      "text/plain": [
       "<graphviz.graphs.Digraph at 0x1af09381cc0>"
      ]
     },
     "metadata": {},
     "output_type": "display_data"
    },
    {
     "name": "stdout",
     "output_type": "stream",
     "text": [
      "Dofloo-SyscallParty.csv matched doc OPset\n"
     ]
    },
    {
     "data": {
      "image/svg+xml": "<?xml version=\"1.0\" encoding=\"UTF-8\" standalone=\"no\"?>\n<!DOCTYPE svg PUBLIC \"-//W3C//DTD SVG 1.1//EN\"\n \"http://www.w3.org/Graphics/SVG/1.1/DTD/svg11.dtd\">\n<!-- Generated by graphviz version 6.0.1 (20220911.1526)\n -->\n<!-- Pages: 1 -->\n<svg width=\"298pt\" height=\"131pt\"\n viewBox=\"0.00 0.00 298.29 131.00\" xmlns=\"http://www.w3.org/2000/svg\" xmlns:xlink=\"http://www.w3.org/1999/xlink\">\n<g id=\"graph0\" class=\"graph\" transform=\"scale(1 1) rotate(0) translate(4 127)\">\n<polygon fill=\"white\" stroke=\"none\" points=\"-4,4 -4,-127 294.29,-127 294.29,4 -4,4\"/>\n<!-- Start -->\n<g id=\"node1\" class=\"node\">\n<title>Start</title>\n<ellipse fill=\"none\" stroke=\"black\" cx=\"144.5\" cy=\"-105\" rx=\"77.19\" ry=\"18\"/>\n<text text-anchor=\"middle\" x=\"144.5\" y=\"-101.3\" font-family=\"Times New Roman,serif\" font-size=\"14.00\">Malware (Subject)</text>\n</g>\n<!-- 1 -->\n<g id=\"node2\" class=\"node\">\n<title>1</title>\n<ellipse fill=\"none\" stroke=\"black\" cx=\"32.5\" cy=\"-18\" rx=\"32.49\" ry=\"18\"/>\n<text text-anchor=\"middle\" x=\"32.5\" y=\"-14.3\" font-family=\"Times New Roman,serif\" font-size=\"14.00\">/proc/</text>\n</g>\n<!-- Start&#45;&gt;1 -->\n<g id=\"edge1\" class=\"edge\">\n<title>Start&#45;&gt;1</title>\n<path fill=\"none\" stroke=\"black\" d=\"M82.58,-94.04C54.94,-88.21 26.74,-79.84 18.5,-69 13.11,-61.91 13.96,-52.84 17.05,-44.38\"/>\n<polygon fill=\"black\" stroke=\"black\" points=\"20.26,-45.77 21.26,-35.23 13.9,-42.85 20.26,-45.77\"/>\n<text text-anchor=\"middle\" x=\"41.5\" y=\"-57.8\" font-family=\"Times New Roman,serif\" font-size=\"14.00\">11.open</text>\n</g>\n<!-- Start&#45;&gt;1 -->\n<g id=\"edge2\" class=\"edge\">\n<title>Start&#45;&gt;1</title>\n<path fill=\"none\" stroke=\"black\" d=\"M122.9,-87.61C104.74,-73.83 78.7,-54.06 59.22,-39.28\"/>\n<polygon fill=\"black\" stroke=\"black\" points=\"61.14,-36.34 51.05,-33.08 56.9,-41.92 61.14,-36.34\"/>\n<text text-anchor=\"middle\" x=\"113\" y=\"-57.8\" font-family=\"Times New Roman,serif\" font-size=\"14.00\">8.read</text>\n</g>\n<!-- 2 -->\n<g id=\"node3\" class=\"node\">\n<title>2</title>\n<ellipse fill=\"none\" stroke=\"black\" cx=\"144.5\" cy=\"-18\" rx=\"46.59\" ry=\"18\"/>\n<text text-anchor=\"middle\" x=\"144.5\" y=\"-14.3\" font-family=\"Times New Roman,serif\" font-size=\"14.00\">/etc/init.d/</text>\n</g>\n<!-- Start&#45;&gt;2 -->\n<g id=\"edge3\" class=\"edge\">\n<title>Start&#45;&gt;2</title>\n<path fill=\"none\" stroke=\"black\" d=\"M144.5,-86.8C144.5,-75.16 144.5,-59.55 144.5,-46.24\"/>\n<polygon fill=\"black\" stroke=\"black\" points=\"148,-46.18 144.5,-36.18 141,-46.18 148,-46.18\"/>\n<text text-anchor=\"middle\" x=\"160.5\" y=\"-57.8\" font-family=\"Times New Roman,serif\" font-size=\"14.00\">4.add</text>\n</g>\n<!-- 3 -->\n<g id=\"node4\" class=\"node\">\n<title>3</title>\n<ellipse fill=\"none\" stroke=\"black\" cx=\"256.5\" cy=\"-18\" rx=\"33.6\" ry=\"18\"/>\n<text text-anchor=\"middle\" x=\"256.5\" y=\"-14.3\" font-family=\"Times New Roman,serif\" font-size=\"14.00\">/etc/rc</text>\n</g>\n<!-- Start&#45;&gt;3 -->\n<g id=\"edge4\" class=\"edge\">\n<title>Start&#45;&gt;3</title>\n<path fill=\"none\" stroke=\"black\" d=\"M161.5,-87.44C172.28,-77.3 186.74,-64.33 200.5,-54 208.38,-48.09 217.28,-42.2 225.62,-36.99\"/>\n<polygon fill=\"black\" stroke=\"black\" points=\"227.68,-39.83 234.39,-31.63 224.03,-33.86 227.68,-39.83\"/>\n<text text-anchor=\"middle\" x=\"224.5\" y=\"-57.8\" font-family=\"Times New Roman,serif\" font-size=\"14.00\">7.format</text>\n</g>\n<!-- Start&#45;&gt;3 -->\n<g id=\"edge5\" class=\"edge\">\n<title>Start&#45;&gt;3</title>\n<path fill=\"none\" stroke=\"black\" d=\"M207.71,-94.56C223.06,-89.37 238.04,-81.36 248.5,-69 253.79,-62.75 256.29,-54.42 257.33,-46.36\"/>\n<polygon fill=\"black\" stroke=\"black\" points=\"260.84,-46.32 257.96,-36.12 253.85,-45.88 260.84,-46.32\"/>\n<text text-anchor=\"middle\" x=\"271.5\" y=\"-57.8\" font-family=\"Times New Roman,serif\" font-size=\"14.00\">3.add</text>\n</g>\n</g>\n</svg>\n",
      "text/plain": [
       "<graphviz.graphs.Digraph at 0x1af09381cf0>"
      ]
     },
     "metadata": {},
     "output_type": "display_data"
    },
    {
     "name": "stdout",
     "output_type": "stream",
     "text": [
      "matched ASG OPset for doc Dofloo-SyscallParty.csv\n"
     ]
    },
    {
     "data": {
      "image/svg+xml": "<?xml version=\"1.0\" encoding=\"UTF-8\" standalone=\"no\"?>\n<!DOCTYPE svg PUBLIC \"-//W3C//DTD SVG 1.1//EN\"\n \"http://www.w3.org/Graphics/SVG/1.1/DTD/svg11.dtd\">\n<!-- Generated by graphviz version 6.0.1 (20220911.1526)\n -->\n<!-- Pages: 1 -->\n<svg width=\"486pt\" height=\"131pt\"\n viewBox=\"0.00 0.00 485.83 131.00\" xmlns=\"http://www.w3.org/2000/svg\" xmlns:xlink=\"http://www.w3.org/1999/xlink\">\n<g id=\"graph0\" class=\"graph\" transform=\"scale(1 1) rotate(0) translate(4 127)\">\n<polygon fill=\"white\" stroke=\"none\" points=\"-4,4 -4,-127 481.83,-127 481.83,4 -4,4\"/>\n<!-- Start -->\n<g id=\"node1\" class=\"node\">\n<title>Start</title>\n<ellipse fill=\"none\" stroke=\"black\" cx=\"229.83\" cy=\"-105\" rx=\"77.19\" ry=\"18\"/>\n<text text-anchor=\"middle\" x=\"229.83\" y=\"-101.3\" font-family=\"Times New Roman,serif\" font-size=\"14.00\">Malware (Subject)</text>\n</g>\n<!-- 1 -->\n<g id=\"node2\" class=\"node\">\n<title>1</title>\n<ellipse fill=\"none\" stroke=\"black\" cx=\"117.83\" cy=\"-18\" rx=\"32.49\" ry=\"18\"/>\n<text text-anchor=\"middle\" x=\"117.83\" y=\"-14.3\" font-family=\"Times New Roman,serif\" font-size=\"14.00\">/proc/</text>\n</g>\n<!-- Start&#45;&gt;1 -->\n<g id=\"edge1\" class=\"edge\">\n<title>Start&#45;&gt;1</title>\n<path fill=\"none\" stroke=\"black\" d=\"M153.11,-102.34C95.95,-99.29 24.67,-91.02 5.83,-69 -16.89,-42.45 35.53,-29.4 76.1,-23.44\"/>\n<polygon fill=\"black\" stroke=\"black\" points=\"76.67,-26.9 86.11,-22.08 75.73,-19.96 76.67,-26.9\"/>\n<text text-anchor=\"middle\" x=\"33.33\" y=\"-57.8\" font-family=\"Times New Roman,serif\" font-size=\"14.00\">1.readlink</text>\n</g>\n<!-- Start&#45;&gt;1 -->\n<g id=\"edge3\" class=\"edge\">\n<title>Start&#45;&gt;1</title>\n<path fill=\"none\" stroke=\"black\" d=\"M162.59,-96C129.24,-90.51 93.96,-81.84 83.83,-69 76.44,-59.63 82.31,-48.73 91.12,-39.5\"/>\n<polygon fill=\"black\" stroke=\"black\" points=\"93.69,-41.9 98.63,-32.52 88.92,-36.77 93.69,-41.9\"/>\n<text text-anchor=\"middle\" x=\"106.83\" y=\"-57.8\" font-family=\"Times New Roman,serif\" font-size=\"14.00\">27.open</text>\n</g>\n<!-- Start&#45;&gt;1 -->\n<g id=\"edge6\" class=\"edge\">\n<title>Start&#45;&gt;1</title>\n<path fill=\"none\" stroke=\"black\" d=\"M187.91,-89.77C175.81,-84.43 163.11,-77.54 152.83,-69 144.6,-62.16 137.42,-52.95 131.74,-44.29\"/>\n<polygon fill=\"black\" stroke=\"black\" points=\"134.61,-42.27 126.39,-35.59 128.65,-45.94 134.61,-42.27\"/>\n<text text-anchor=\"middle\" x=\"180.33\" y=\"-57.8\" font-family=\"Times New Roman,serif\" font-size=\"14.00\">30.fstat64</text>\n</g>\n<!-- Start&#45;&gt;1 -->\n<g id=\"edge7\" class=\"edge\">\n<title>Start&#45;&gt;1</title>\n<path fill=\"none\" stroke=\"black\" d=\"M225.86,-86.74C222.61,-76.08 217.01,-62.79 207.83,-54 194.16,-40.92 175.06,-32.57 157.96,-27.32\"/>\n<polygon fill=\"black\" stroke=\"black\" points=\"158.76,-23.91 148.18,-24.58 156.87,-30.65 158.76,-23.91\"/>\n<text text-anchor=\"middle\" x=\"241.83\" y=\"-57.8\" font-family=\"Times New Roman,serif\" font-size=\"14.00\">28.lseek</text>\n</g>\n<!-- 2 -->\n<g id=\"node3\" class=\"node\">\n<title>2</title>\n<ellipse fill=\"none\" stroke=\"black\" cx=\"298.83\" cy=\"-18\" rx=\"46.59\" ry=\"18\"/>\n<text text-anchor=\"middle\" x=\"298.83\" y=\"-14.3\" font-family=\"Times New Roman,serif\" font-size=\"14.00\">/etc/init.d/</text>\n</g>\n<!-- Start&#45;&gt;2 -->\n<g id=\"edge2\" class=\"edge\">\n<title>Start&#45;&gt;2</title>\n<path fill=\"none\" stroke=\"black\" d=\"M256.29,-87.97C263.62,-82.61 271.12,-76.16 276.83,-69 282.37,-62.04 286.81,-53.46 290.21,-45.39\"/>\n<polygon fill=\"black\" stroke=\"black\" points=\"293.52,-46.53 293.83,-35.94 286.98,-44.02 293.52,-46.53\"/>\n<text text-anchor=\"middle\" x=\"308.83\" y=\"-57.8\" font-family=\"Times New Roman,serif\" font-size=\"14.00\">18.open</text>\n</g>\n<!-- 3 -->\n<g id=\"node4\" class=\"node\">\n<title>3</title>\n<ellipse fill=\"none\" stroke=\"black\" cx=\"416.83\" cy=\"-18\" rx=\"33.6\" ry=\"18\"/>\n<text text-anchor=\"middle\" x=\"416.83\" y=\"-14.3\" font-family=\"Times New Roman,serif\" font-size=\"14.00\">/etc/rc</text>\n</g>\n<!-- Start&#45;&gt;3 -->\n<g id=\"edge4\" class=\"edge\">\n<title>Start&#45;&gt;3</title>\n<path fill=\"none\" stroke=\"black\" d=\"M277.71,-90.8C296.24,-85.03 317.38,-77.59 335.83,-69 354.24,-60.42 373.64,-48.56 388.83,-38.54\"/>\n<polygon fill=\"black\" stroke=\"black\" points=\"390.9,-41.37 397.26,-32.9 387,-35.56 390.9,-41.37\"/>\n<text text-anchor=\"middle\" x=\"386.83\" y=\"-57.8\" font-family=\"Times New Roman,serif\" font-size=\"14.00\">10.open</text>\n</g>\n<!-- Start&#45;&gt;3 -->\n<g id=\"edge5\" class=\"edge\">\n<title>Start&#45;&gt;3</title>\n<path fill=\"none\" stroke=\"black\" d=\"M303.1,-99.13C347.83,-94.51 399.17,-85.66 413.83,-69 419.24,-62.85 421.08,-54.45 421.23,-46.3\"/>\n<polygon fill=\"black\" stroke=\"black\" points=\"424.73,-46.07 420.68,-36.28 417.74,-46.46 424.73,-46.07\"/>\n<text text-anchor=\"middle\" x=\"448.83\" y=\"-57.8\" font-family=\"Times New Roman,serif\" font-size=\"14.00\">17.rename</text>\n</g>\n</g>\n</svg>\n",
      "text/plain": [
       "<graphviz.graphs.Digraph at 0x1af09381cc0>"
      ]
     },
     "metadata": {},
     "output_type": "display_data"
    },
    {
     "name": "stdout",
     "output_type": "stream",
     "text": [
      "Dofloo-Trendmicro.csv raw doc OPset\n"
     ]
    },
    {
     "data": {
      "image/svg+xml": "<?xml version=\"1.0\" encoding=\"UTF-8\" standalone=\"no\"?>\n<!DOCTYPE svg PUBLIC \"-//W3C//DTD SVG 1.1//EN\"\n \"http://www.w3.org/Graphics/SVG/1.1/DTD/svg11.dtd\">\n<!-- Generated by graphviz version 6.0.1 (20220911.1526)\n -->\n<!-- Pages: 1 -->\n<svg width=\"616pt\" height=\"131pt\"\n viewBox=\"0.00 0.00 615.59 131.00\" xmlns=\"http://www.w3.org/2000/svg\" xmlns:xlink=\"http://www.w3.org/1999/xlink\">\n<g id=\"graph0\" class=\"graph\" transform=\"scale(1 1) rotate(0) translate(4 127)\">\n<polygon fill=\"white\" stroke=\"none\" points=\"-4,4 -4,-127 611.59,-127 611.59,4 -4,4\"/>\n<!-- Start -->\n<g id=\"node1\" class=\"node\">\n<title>Start</title>\n<ellipse fill=\"none\" stroke=\"black\" cx=\"319.74\" cy=\"-105\" rx=\"77.19\" ry=\"18\"/>\n<text text-anchor=\"middle\" x=\"319.74\" y=\"-101.3\" font-family=\"Times New Roman,serif\" font-size=\"14.00\">Malware (Subject)</text>\n</g>\n<!-- 2 -->\n<g id=\"node3\" class=\"node\">\n<title>2</title>\n<ellipse fill=\"none\" stroke=\"black\" cx=\"61.74\" cy=\"-18\" rx=\"61.99\" ry=\"18\"/>\n<text text-anchor=\"middle\" x=\"61.74\" y=\"-14.3\" font-family=\"Times New Roman,serif\" font-size=\"14.00\">nsswitch.conf</text>\n</g>\n<!-- Start&#45;&gt;2 -->\n<g id=\"edge1\" class=\"edge\">\n<title>Start&#45;&gt;2</title>\n<path fill=\"none\" stroke=\"black\" d=\"M264.66,-92.32C238.63,-86.27 207.3,-78.22 179.74,-69 153.34,-60.17 124.56,-48.02 102.03,-37.92\"/>\n<polygon fill=\"black\" stroke=\"black\" points=\"103.34,-34.67 92.78,-33.72 100.45,-41.04 103.34,-34.67\"/>\n<text text-anchor=\"middle\" x=\"199.24\" y=\"-57.8\" font-family=\"Times New Roman,serif\" font-size=\"14.00\">8.open</text>\n</g>\n<!-- 3 -->\n<g id=\"node4\" class=\"node\">\n<title>3</title>\n<ellipse fill=\"none\" stroke=\"black\" cx=\"173.74\" cy=\"-18\" rx=\"32.49\" ry=\"18\"/>\n<text text-anchor=\"middle\" x=\"173.74\" y=\"-14.3\" font-family=\"Times New Roman,serif\" font-size=\"14.00\">/proc/</text>\n</g>\n<!-- Start&#45;&gt;3 -->\n<g id=\"edge4\" class=\"edge\">\n<title>Start&#45;&gt;3</title>\n<path fill=\"none\" stroke=\"black\" d=\"M283.47,-88.97C270.65,-83.23 256.31,-76.29 243.74,-69 228.49,-60.14 212.41,-48.82 199.51,-39.18\"/>\n<polygon fill=\"black\" stroke=\"black\" points=\"201.62,-36.39 191.54,-33.14 197.39,-41.97 201.62,-36.39\"/>\n<text text-anchor=\"middle\" x=\"266.24\" y=\"-57.8\" font-family=\"Times New Roman,serif\" font-size=\"14.00\">4.gather</text>\n</g>\n<!-- 4 -->\n<g id=\"node5\" class=\"node\">\n<title>4</title>\n<ellipse fill=\"none\" stroke=\"black\" cx=\"270.74\" cy=\"-18\" rx=\"46.59\" ry=\"18\"/>\n<text text-anchor=\"middle\" x=\"270.74\" y=\"-14.3\" font-family=\"Times New Roman,serif\" font-size=\"14.00\">/etc/init.d/</text>\n</g>\n<!-- Start&#45;&gt;4 -->\n<g id=\"edge2\" class=\"edge\">\n<title>Start&#45;&gt;4</title>\n<path fill=\"none\" stroke=\"black\" d=\"M309.83,-86.8C302.88,-74.74 293.46,-58.4 285.61,-44.79\"/>\n<polygon fill=\"black\" stroke=\"black\" points=\"288.51,-42.8 280.48,-35.89 282.44,-46.3 288.51,-42.8\"/>\n<text text-anchor=\"middle\" x=\"316.24\" y=\"-57.8\" font-family=\"Times New Roman,serif\" font-size=\"14.00\">3.start</text>\n</g>\n<!-- 5 -->\n<g id=\"node6\" class=\"node\">\n<title>5</title>\n<ellipse fill=\"none\" stroke=\"black\" cx=\"369.74\" cy=\"-18\" rx=\"33.6\" ry=\"18\"/>\n<text text-anchor=\"middle\" x=\"369.74\" y=\"-14.3\" font-family=\"Times New Roman,serif\" font-size=\"14.00\">/etc/rc</text>\n</g>\n<!-- Start&#45;&gt;5 -->\n<g id=\"edge3\" class=\"edge\">\n<title>Start&#45;&gt;5</title>\n<path fill=\"none\" stroke=\"black\" d=\"M329.86,-86.8C337.05,-74.58 346.82,-57.98 354.89,-44.26\"/>\n<polygon fill=\"black\" stroke=\"black\" points=\"358.1,-45.7 360.15,-35.31 352.06,-42.16 358.1,-45.7\"/>\n<text text-anchor=\"middle\" x=\"359.24\" y=\"-57.8\" font-family=\"Times New Roman,serif\" font-size=\"14.00\">2.se</text>\n</g>\n<!-- 6 -->\n<g id=\"node7\" class=\"node\">\n<title>6</title>\n<ellipse fill=\"none\" stroke=\"black\" cx=\"473.74\" cy=\"-18\" rx=\"51.99\" ry=\"18\"/>\n<text text-anchor=\"middle\" x=\"473.74\" y=\"-14.3\" font-family=\"Times New Roman,serif\" font-size=\"14.00\">resolv.conf</text>\n</g>\n<!-- Start&#45;&gt;6 -->\n<g id=\"edge5\" class=\"edge\">\n<title>Start&#45;&gt;6</title>\n<path fill=\"none\" stroke=\"black\" d=\"M348.35,-88.21C373.83,-74.15 411.19,-53.53 438.5,-38.45\"/>\n<polygon fill=\"black\" stroke=\"black\" points=\"440.29,-41.47 447.35,-33.57 436.9,-35.34 440.29,-41.47\"/>\n<text text-anchor=\"middle\" x=\"426.24\" y=\"-57.8\" font-family=\"Times New Roman,serif\" font-size=\"14.00\">7.open</text>\n</g>\n<!-- 7 -->\n<g id=\"node8\" class=\"node\">\n<title>7</title>\n<ellipse fill=\"none\" stroke=\"black\" cx=\"575.74\" cy=\"-18\" rx=\"31.7\" ry=\"18\"/>\n<text text-anchor=\"middle\" x=\"575.74\" y=\"-14.3\" font-family=\"Times New Roman,serif\" font-size=\"14.00\">^sed$</text>\n</g>\n<!-- Start&#45;&gt;7 -->\n<g id=\"edge6\" class=\"edge\">\n<title>Start&#45;&gt;7</title>\n<path fill=\"none\" stroke=\"black\" d=\"M371.37,-91.46C395.37,-85.28 424.2,-77.37 449.74,-69 488.25,-56.38 497.14,-51.1 534.74,-36 536.84,-35.16 538.99,-34.29 541.15,-33.41\"/>\n<polygon fill=\"black\" stroke=\"black\" points=\"542.71,-36.55 550.63,-29.52 540.05,-30.08 542.71,-36.55\"/>\n<text text-anchor=\"middle\" x=\"503.24\" y=\"-57.8\" font-family=\"Times New Roman,serif\" font-size=\"14.00\">1.se</text>\n</g>\n<!-- 1 -->\n<g id=\"node2\" class=\"node\">\n<title>1</title>\n<ellipse fill=\"none\" stroke=\"black\" cx=\"442.74\" cy=\"-105\" rx=\"27.9\" ry=\"18\"/>\n<text text-anchor=\"middle\" x=\"442.74\" y=\"-101.3\" font-family=\"Times New Roman,serif\" font-size=\"14.00\">/sys/</text>\n</g>\n<!-- 8 -->\n<g id=\"node9\" class=\"node\">\n<title>8</title>\n<ellipse fill=\"none\" stroke=\"black\" cx=\"515.74\" cy=\"-105\" rx=\"27\" ry=\"18\"/>\n<text text-anchor=\"middle\" x=\"515.74\" y=\"-101.3\" font-family=\"Times New Roman,serif\" font-size=\"14.00\">UID</text>\n</g>\n</g>\n</svg>\n",
      "text/plain": [
       "<graphviz.graphs.Digraph at 0x1af09381cf0>"
      ]
     },
     "metadata": {},
     "output_type": "display_data"
    },
    {
     "name": "stdout",
     "output_type": "stream",
     "text": [
      "Dofloo-Trendmicro.csv matched doc OPset\n"
     ]
    },
    {
     "data": {
      "image/svg+xml": "<?xml version=\"1.0\" encoding=\"UTF-8\" standalone=\"no\"?>\n<!DOCTYPE svg PUBLIC \"-//W3C//DTD SVG 1.1//EN\"\n \"http://www.w3.org/Graphics/SVG/1.1/DTD/svg11.dtd\">\n<!-- Generated by graphviz version 6.0.1 (20220911.1526)\n -->\n<!-- Pages: 1 -->\n<svg width=\"163pt\" height=\"131pt\"\n viewBox=\"0.00 0.00 162.69 131.00\" xmlns=\"http://www.w3.org/2000/svg\" xmlns:xlink=\"http://www.w3.org/1999/xlink\">\n<g id=\"graph0\" class=\"graph\" transform=\"scale(1 1) rotate(0) translate(4 127)\">\n<polygon fill=\"white\" stroke=\"none\" points=\"-4,4 -4,-127 158.69,-127 158.69,4 -4,4\"/>\n<!-- Start -->\n<g id=\"node1\" class=\"node\">\n<title>Start</title>\n<ellipse fill=\"none\" stroke=\"black\" cx=\"77.34\" cy=\"-105\" rx=\"77.19\" ry=\"18\"/>\n<text text-anchor=\"middle\" x=\"77.34\" y=\"-101.3\" font-family=\"Times New Roman,serif\" font-size=\"14.00\">Malware (Subject)</text>\n</g>\n<!-- 1 -->\n<g id=\"node2\" class=\"node\">\n<title>1</title>\n<ellipse fill=\"none\" stroke=\"black\" cx=\"77.34\" cy=\"-18\" rx=\"32.49\" ry=\"18\"/>\n<text text-anchor=\"middle\" x=\"77.34\" y=\"-14.3\" font-family=\"Times New Roman,serif\" font-size=\"14.00\">/proc/</text>\n</g>\n<!-- Start&#45;&gt;1 -->\n<g id=\"edge1\" class=\"edge\">\n<title>Start&#45;&gt;1</title>\n<path fill=\"none\" stroke=\"black\" d=\"M77.34,-86.8C77.34,-75.16 77.34,-59.55 77.34,-46.24\"/>\n<polygon fill=\"black\" stroke=\"black\" points=\"80.84,-46.18 77.34,-36.18 73.84,-46.18 80.84,-46.18\"/>\n<text text-anchor=\"middle\" x=\"99.84\" y=\"-57.8\" font-family=\"Times New Roman,serif\" font-size=\"14.00\">4.gather</text>\n</g>\n</g>\n</svg>\n",
      "text/plain": [
       "<graphviz.graphs.Digraph at 0x1af09381cc0>"
      ]
     },
     "metadata": {},
     "output_type": "display_data"
    },
    {
     "name": "stdout",
     "output_type": "stream",
     "text": [
      "matched ASG OPset for doc Dofloo-Trendmicro.csv\n"
     ]
    },
    {
     "data": {
      "image/svg+xml": "<?xml version=\"1.0\" encoding=\"UTF-8\" standalone=\"no\"?>\n<!DOCTYPE svg PUBLIC \"-//W3C//DTD SVG 1.1//EN\"\n \"http://www.w3.org/Graphics/SVG/1.1/DTD/svg11.dtd\">\n<!-- Generated by graphviz version 6.0.1 (20220911.1526)\n -->\n<!-- Pages: 1 -->\n<svg width=\"192pt\" height=\"131pt\"\n viewBox=\"0.00 0.00 192.36 131.00\" xmlns=\"http://www.w3.org/2000/svg\" xmlns:xlink=\"http://www.w3.org/1999/xlink\">\n<g id=\"graph0\" class=\"graph\" transform=\"scale(1 1) rotate(0) translate(4 127)\">\n<polygon fill=\"white\" stroke=\"none\" points=\"-4,4 -4,-127 188.36,-127 188.36,4 -4,4\"/>\n<!-- Start -->\n<g id=\"node1\" class=\"node\">\n<title>Start</title>\n<ellipse fill=\"none\" stroke=\"black\" cx=\"80.36\" cy=\"-105\" rx=\"77.19\" ry=\"18\"/>\n<text text-anchor=\"middle\" x=\"80.36\" y=\"-101.3\" font-family=\"Times New Roman,serif\" font-size=\"14.00\">Malware (Subject)</text>\n</g>\n<!-- 1 -->\n<g id=\"node2\" class=\"node\">\n<title>1</title>\n<ellipse fill=\"none\" stroke=\"black\" cx=\"80.36\" cy=\"-18\" rx=\"32.49\" ry=\"18\"/>\n<text text-anchor=\"middle\" x=\"80.36\" y=\"-14.3\" font-family=\"Times New Roman,serif\" font-size=\"14.00\">/proc/</text>\n</g>\n<!-- Start&#45;&gt;1 -->\n<g id=\"edge1\" class=\"edge\">\n<title>Start&#45;&gt;1</title>\n<path fill=\"none\" stroke=\"black\" d=\"M30.24,-91.12C19.63,-86 9.72,-78.88 3.36,-69 -8.9,-49.95 16.19,-36.64 40.93,-28.57\"/>\n<polygon fill=\"black\" stroke=\"black\" points=\"42.12,-31.87 50.68,-25.63 40.1,-25.17 42.12,-31.87\"/>\n<text text-anchor=\"middle\" x=\"30.86\" y=\"-57.8\" font-family=\"Times New Roman,serif\" font-size=\"14.00\">1.readlink</text>\n</g>\n<!-- Start&#45;&gt;1 -->\n<g id=\"edge2\" class=\"edge\">\n<title>Start&#45;&gt;1</title>\n<path fill=\"none\" stroke=\"black\" d=\"M80.36,-86.8C80.36,-75.16 80.36,-59.55 80.36,-46.24\"/>\n<polygon fill=\"black\" stroke=\"black\" points=\"83.86,-46.18 80.36,-36.18 76.86,-46.18 83.86,-46.18\"/>\n<text text-anchor=\"middle\" x=\"107.86\" y=\"-57.8\" font-family=\"Times New Roman,serif\" font-size=\"14.00\">30.fstat64</text>\n</g>\n<!-- Start&#45;&gt;1 -->\n<g id=\"edge3\" class=\"edge\">\n<title>Start&#45;&gt;1</title>\n<path fill=\"none\" stroke=\"black\" d=\"M116.49,-88.87C124.42,-83.77 131.8,-77.22 136.36,-69 144.23,-54.8 131.19,-42.58 115.72,-33.78\"/>\n<polygon fill=\"black\" stroke=\"black\" points=\"116.96,-30.48 106.47,-29 113.74,-36.7 116.96,-30.48\"/>\n<text text-anchor=\"middle\" x=\"161.36\" y=\"-57.8\" font-family=\"Times New Roman,serif\" font-size=\"14.00\">28.lseek</text>\n</g>\n</g>\n</svg>\n",
      "text/plain": [
       "<graphviz.graphs.Digraph at 0x1af09381cf0>"
      ]
     },
     "metadata": {},
     "output_type": "display_data"
    }
   ],
   "source": [
    "import graphviz\n",
    "\n",
    "class ItemMapper:\n",
    "    def __init__(self) -> None:\n",
    "        self.mapper = {}\n",
    "        self.index_counter:int = 1\n",
    "        # self.pretty_name = {\n",
    "        #     \"\\d{1,3}\\.\\d{1,3}\\.\\d{1,3}\\.\\d{1,3}\": \"ip_addr\",\n",
    "        #     \"\\d{1,3}\\.\\d{1,3}\\.\\d{1,3}\\.\\d{1,3}:\\d+\": \"ip_addr+port\",\n",
    "        #     \"0x[0-9a-zA-Z]{8}\": \"mem_addr\",\n",
    "        #     \"permission:{0,1}[0-9]{0,4}\": \"permission_id\"\n",
    "        # }\n",
    "        pass\n",
    "    def addItem(self, item:str) -> str:\n",
    "        # item = self.prettifyName(item) # 先不在這做~\n",
    "        if item in self.mapper.keys():\n",
    "            return self.mapper.get(item)\n",
    "        self.mapper[item] = str(self.index_counter)\n",
    "        self.index_counter += 1\n",
    "        return str(self.index_counter - 1)\n",
    "    def getSymbol(self, item:str):\n",
    "        return self.mapper.get(item, None)\n",
    "    # def prettifyName(self, item:str) -> str:\n",
    "    #     changed = self.pretty_name.get(item, None)\n",
    "    #     if changed:\n",
    "    #         return changed\n",
    "    #     return item\n",
    "\n",
    "def draw_asg_op_graph(asg_OPset: list[OperationPair], family=None):\n",
    "    dot = graphviz.Digraph(f'{family}_asg_OPset', comment='The Operational Pair Graph') \n",
    "    dot.node('Start', label=\"Malware (Subject)\")\n",
    "    mapper = ItemMapper()\n",
    "    for op in asg_OPset:\n",
    "        node_id = mapper.addItem(op.object)\n",
    "        dot.node(node_id, label=prettifyName(op.object)) # rename partial regex\n",
    "        if op.action:\n",
    "            dot.edge('Start', node_id, label=f\"{op.step_number}.{op.action}\")\n",
    "\n",
    "    # dot.graph_attr.update(ratio=\"0.4\")\n",
    "    u = dot.unflatten(stagger=3, fanout=True)\n",
    "    display(u)\n",
    "    del mapper\n",
    "    return u\n",
    "\n",
    "def draw_ctd_op_graph(fset:FamilySet):\n",
    "    for rem in fset.rem_lst:\n",
    "        # doc_OPset\n",
    "        if rem.doc_OPset is None or len(rem.doc_OPset) == 0:\n",
    "            continue\n",
    "        dot = graphviz.Digraph()\n",
    "        dot.node('Start', label=\"Malware (Subject)\")\n",
    "        mapper = ItemMapper()\n",
    "        for op in rem.doc_OPset:\n",
    "            node_id = mapper.addItem(op.object)\n",
    "            dot.node(node_id, label=prettifyName(op.object))\n",
    "            if op.action:\n",
    "                dot.edge('Start', node_id, label=f\"{op.step_number}.{op.action}\")\n",
    "        print(f\"{rem.reportname} raw doc OPset\")\n",
    "        display(dot)\n",
    "        del mapper\n",
    "\n",
    "        # match_doc_OPset\n",
    "        if rem.match_doc_OPset is None or len(rem.match_doc_OPset) == 0:\n",
    "            continue\n",
    "        dot = graphviz.Digraph()\n",
    "        dot.node('Start', label=\"Malware (Subject)\")\n",
    "        mapper = ItemMapper()\n",
    "        for op in rem.match_doc_OPset:\n",
    "            node_id = mapper.addItem(op.object)\n",
    "            dot.node(node_id, label=prettifyName(op.object))\n",
    "            if op.action:\n",
    "                dot.edge('Start', node_id, label=f\"{op.step_number}.{op.action}\")\n",
    "        print(f\"{rem.reportname} matched doc OPset\")\n",
    "        display(dot)\n",
    "        del mapper\n",
    "\n",
    "        # match_ASG_OPset\n",
    "        if rem.OPset_order_index is None or len(rem.OPset_order_index) == 0:\n",
    "            continue\n",
    "        dot = graphviz.Digraph()\n",
    "        dot.node('Start', label=\"Malware (Subject)\")\n",
    "        mapper = ItemMapper()\n",
    "        for op in [fset.sample.OPset_ordered[i] for i in rem.OPset_order_index]:\n",
    "            node_id = mapper.addItem(op.object)\n",
    "            dot.node(node_id, label=prettifyName(op.object))\n",
    "            if op.action:\n",
    "                dot.edge('Start', node_id, label=f\"{op.step_number}.{op.action}\")\n",
    "        print(f\"matched ASG OPset for doc {rem.reportname}\")\n",
    "        display(dot)\n",
    "        del mapper\n",
    "    return\n",
    "\n",
    "draw_asg_op_graph(sample.OPset, family=family)\n",
    "draw_ctd_op_graph(fset)"
   ]
  },
  {
   "attachments": {},
   "cell_type": "markdown",
   "metadata": {},
   "source": [
    "### Run Script: print matched sentence for specific document"
   ]
  },
  {
   "cell_type": "code",
   "execution_count": 25,
   "metadata": {},
   "outputs": [
    {
     "data": {
      "text/html": [
       "<div>\n",
       "<style scoped>\n",
       "    .dataframe tbody tr th:only-of-type {\n",
       "        vertical-align: middle;\n",
       "    }\n",
       "\n",
       "    .dataframe tbody tr th {\n",
       "        vertical-align: top;\n",
       "    }\n",
       "\n",
       "    .dataframe thead th {\n",
       "        text-align: right;\n",
       "    }\n",
       "</style>\n",
       "<table border=\"1\" class=\"dataframe\">\n",
       "  <thead>\n",
       "    <tr style=\"text-align: right;\">\n",
       "      <th></th>\n",
       "      <th>report</th>\n",
       "      <th>word</th>\n",
       "      <th>verb</th>\n",
       "      <th>objectType</th>\n",
       "      <th>prettyReg</th>\n",
       "      <th>match</th>\n",
       "      <th>label</th>\n",
       "      <th>sentence</th>\n",
       "    </tr>\n",
       "  </thead>\n",
       "  <tbody>\n",
       "    <tr>\n",
       "      <th>0</th>\n",
       "      <td>Dofloo-MalwareMustDie.csv</td>\n",
       "      <td>0x0002fc0e</td>\n",
       "      <td>pack</td>\n",
       "      <td>MEM</td>\n",
       "      <td>mem_addr</td>\n",
       "      <td>0</td>\n",
       "      <td>0</td>\n",
       "      <td>i look from its dcb data from where it was cal...</td>\n",
       "    </tr>\n",
       "    <tr>\n",
       "      <th>1</th>\n",
       "      <td>Dofloo-MalwareMustDie.csv</td>\n",
       "      <td>0x0002f144</td>\n",
       "      <td>svc</td>\n",
       "      <td>MEM</td>\n",
       "      <td>mem_addr</td>\n",
       "      <td>0</td>\n",
       "      <td>0</td>\n",
       "      <td>1 2 3 4 5 6 7 8 9 10 11 12 13 14 15 16 17 18 1...</td>\n",
       "    </tr>\n",
       "    <tr>\n",
       "      <th>2</th>\n",
       "      <td>Dofloo-MalwareMustDie.csv</td>\n",
       "      <td>0x0002fbd0</td>\n",
       "      <td>find</td>\n",
       "      <td>MEM</td>\n",
       "      <td>mem_addr</td>\n",
       "      <td>0</td>\n",
       "      <td>0</td>\n",
       "      <td>1 2 3 4 5 6 7 8 9 10 11 12 13 14 15 16 17 18 1...</td>\n",
       "    </tr>\n",
       "    <tr>\n",
       "      <th>3</th>\n",
       "      <td>Dofloo-MalwareMustDie.csv</td>\n",
       "      <td>0x0002fc5f</td>\n",
       "      <td>eserve</td>\n",
       "      <td>MEM</td>\n",
       "      <td>mem_addr</td>\n",
       "      <td>0</td>\n",
       "      <td>0</td>\n",
       "      <td>all rights r 0x0002fc5f                 dcb es...</td>\n",
       "    </tr>\n",
       "    <tr>\n",
       "      <th>4</th>\n",
       "      <td>Dofloo-MalwareMustDie.csv</td>\n",
       "      <td>0x0002fbf0</td>\n",
       "      <td>look</td>\n",
       "      <td>MEM</td>\n",
       "      <td>mem_addr</td>\n",
       "      <td>0</td>\n",
       "      <td>0</td>\n",
       "      <td>i look from its dcb data from where it was cal...</td>\n",
       "    </tr>\n",
       "    <tr>\n",
       "      <th>5</th>\n",
       "      <td>Dofloo-MalwareMustDie.csv</td>\n",
       "      <td>0x0002fcab</td>\n",
       "      <td>go</td>\n",
       "      <td>MEM</td>\n",
       "      <td>mem_addr</td>\n",
       "      <td>0</td>\n",
       "      <td>0</td>\n",
       "      <td>,0x24,0xa,0 0x0002fcab                 dcb 0x0...</td>\n",
       "    </tr>\n",
       "    <tr>\n",
       "      <th>6</th>\n",
       "      <td>Dofloo-MalwareMustDie.csv</td>\n",
       "      <td>182.254.180.0/23</td>\n",
       "      <td>None</td>\n",
       "      <td>NET</td>\n",
       "      <td>ip_addr</td>\n",
       "      <td>0</td>\n",
       "      <td>0</td>\n",
       "      <td>None</td>\n",
       "    </tr>\n",
       "    <tr>\n",
       "      <th>7</th>\n",
       "      <td>Dofloo-MalwareMustDie.csv</td>\n",
       "      <td>0x000d0c24</td>\n",
       "      <td>be</td>\n",
       "      <td>MEM</td>\n",
       "      <td>mem_addr</td>\n",
       "      <td>0</td>\n",
       "      <td>0</td>\n",
       "      <td>so as you can see it was served from sept 10th...</td>\n",
       "    </tr>\n",
       "    <tr>\n",
       "      <th>8</th>\n",
       "      <td>Dofloo-MalwareMustDie.csv</td>\n",
       "      <td>0x00008000</td>\n",
       "      <td>have</td>\n",
       "      <td>MEM</td>\n",
       "      <td>mem_addr</td>\n",
       "      <td>0</td>\n",
       "      <td>0</td>\n",
       "      <td>so as you can see it was served from sept 10th...</td>\n",
       "    </tr>\n",
       "    <tr>\n",
       "      <th>9</th>\n",
       "      <td>Dofloo-MalwareMustDie.csv</td>\n",
       "      <td>sed</td>\n",
       "      <td>None</td>\n",
       "      <td>PROC</td>\n",
       "      <td>^sed$</td>\n",
       "      <td>0</td>\n",
       "      <td>0</td>\n",
       "      <td>None</td>\n",
       "    </tr>\n",
       "    <tr>\n",
       "      <th>10</th>\n",
       "      <td>Dofloo-MalwareMustDie.csv</td>\n",
       "      <td>0x6c00031a,</td>\n",
       "      <td>None</td>\n",
       "      <td>MEM</td>\n",
       "      <td>mem_addr</td>\n",
       "      <td>0</td>\n",
       "      <td>0</td>\n",
       "      <td>None</td>\n",
       "    </tr>\n",
       "    <tr>\n",
       "      <th>11</th>\n",
       "      <td>Dofloo-MalwareMustDie.csv</td>\n",
       "      <td>0x0002f118</td>\n",
       "      <td>add</td>\n",
       "      <td>MEM</td>\n",
       "      <td>mem_addr</td>\n",
       "      <td>0</td>\n",
       "      <td>0</td>\n",
       "      <td>1 2 3 4 5 6 7 8 9 10 11 12 13 14 15 16 17 18 1...</td>\n",
       "    </tr>\n",
       "    <tr>\n",
       "      <th>12</th>\n",
       "      <td>Dofloo-MalwareMustDie.csv</td>\n",
       "      <td>0x0002f120</td>\n",
       "      <td>r1,r2,r10,r11,lr</td>\n",
       "      <td>MEM</td>\n",
       "      <td>mem_addr</td>\n",
       "      <td>0</td>\n",
       "      <td>0</td>\n",
       "      <td>1 2 3 4 5 6 7 8 9 10 11 12 13 14 15 16 17 18 1...</td>\n",
       "    </tr>\n",
       "    <tr>\n",
       "      <th>13</th>\n",
       "      <td>Dofloo-MalwareMustDie.csv</td>\n",
       "      <td>182.254.180.241</td>\n",
       "      <td>be</td>\n",
       "      <td>NET</td>\n",
       "      <td>ip_addr</td>\n",
       "      <td>0</td>\n",
       "      <td>0</td>\n",
       "      <td>1 2 .text:0x09e68 ldr  r0, =unk_0x08c5c4  &lt;-- ...</td>\n",
       "    </tr>\n",
       "    <tr>\n",
       "      <th>14</th>\n",
       "      <td>Dofloo-Securityaffairs.csv</td>\n",
       "      <td>/etc/rc.d/rc.local,</td>\n",
       "      <td>None</td>\n",
       "      <td>FILE</td>\n",
       "      <td>/etc/rc</td>\n",
       "      <td>0</td>\n",
       "      <td>0</td>\n",
       "      <td>None</td>\n",
       "    </tr>\n",
       "    <tr>\n",
       "      <th>15</th>\n",
       "      <td>Dofloo-Securityaffairs.csv</td>\n",
       "      <td>/etc/rc.local</td>\n",
       "      <td>modify</td>\n",
       "      <td>FILE</td>\n",
       "      <td>/etc/rc</td>\n",
       "      <td>1</td>\n",
       "      <td>1</td>\n",
       "      <td>trend micro researchers also discovered that t...</td>\n",
       "    </tr>\n",
       "    <tr>\n",
       "      <th>16</th>\n",
       "      <td>Dofloo-Securityaffairs.csv</td>\n",
       "      <td>23.224.59.34:48080</td>\n",
       "      <td>connect</td>\n",
       "      <td>NET</td>\n",
       "      <td>ip_addr</td>\n",
       "      <td>1</td>\n",
       "      <td>1</td>\n",
       "      <td>the malware also connects to 23.224.59.34:4808...</td>\n",
       "    </tr>\n",
       "    <tr>\n",
       "      <th>17</th>\n",
       "      <td>Dofloo-Securityaffairs.csv</td>\n",
       "      <td>23.224.59.34:48080</td>\n",
       "      <td>connect</td>\n",
       "      <td>FILE</td>\n",
       "      <td>ip_addr+port</td>\n",
       "      <td>1</td>\n",
       "      <td>1</td>\n",
       "      <td>the malware also connects to 23.224.59.34:4808...</td>\n",
       "    </tr>\n",
       "    <tr>\n",
       "      <th>18</th>\n",
       "      <td>Dofloo-SyscallParty.csv</td>\n",
       "      <td>‘uname’</td>\n",
       "      <td>None</td>\n",
       "      <td>FILE</td>\n",
       "      <td>uname(.)($)</td>\n",
       "      <td>0</td>\n",
       "      <td>0</td>\n",
       "      <td>None</td>\n",
       "    </tr>\n",
       "    <tr>\n",
       "      <th>19</th>\n",
       "      <td>Dofloo-SyscallParty.csv</td>\n",
       "      <td>/proc/cpuinfo</td>\n",
       "      <td>open</td>\n",
       "      <td>FILE</td>\n",
       "      <td>/proc/</td>\n",
       "      <td>1</td>\n",
       "      <td>1</td>\n",
       "      <td>the virtual file /proc/cpuinfo is opened and r...</td>\n",
       "    </tr>\n",
       "    <tr>\n",
       "      <th>20</th>\n",
       "      <td>Dofloo-SyscallParty.csv</td>\n",
       "      <td>/proc/self/exe</td>\n",
       "      <td>None</td>\n",
       "      <td>FILE</td>\n",
       "      <td>/proc/</td>\n",
       "      <td>0</td>\n",
       "      <td>0</td>\n",
       "      <td>None</td>\n",
       "    </tr>\n",
       "    <tr>\n",
       "      <th>21</th>\n",
       "      <td>Dofloo-SyscallParty.csv</td>\n",
       "      <td>61.147.91.53.</td>\n",
       "      <td>None</td>\n",
       "      <td>NET</td>\n",
       "      <td>ip_addr</td>\n",
       "      <td>0</td>\n",
       "      <td>0</td>\n",
       "      <td>None</td>\n",
       "    </tr>\n",
       "    <tr>\n",
       "      <th>22</th>\n",
       "      <td>Dofloo-SyscallParty.csv</td>\n",
       "      <td>/proc/net/dev</td>\n",
       "      <td>read</td>\n",
       "      <td>FILE</td>\n",
       "      <td>/proc/</td>\n",
       "      <td>1</td>\n",
       "      <td>1</td>\n",
       "      <td>the way the malware gets information regarding...</td>\n",
       "    </tr>\n",
       "    <tr>\n",
       "      <th>23</th>\n",
       "      <td>Dofloo-SyscallParty.csv</td>\n",
       "      <td>/etc/init.d/boot.local</td>\n",
       "      <td>add</td>\n",
       "      <td>FILE</td>\n",
       "      <td>/etc/init.d/</td>\n",
       "      <td>1</td>\n",
       "      <td>1</td>\n",
       "      <td>persistence persistence is achieved by the mal...</td>\n",
       "    </tr>\n",
       "    <tr>\n",
       "      <th>24</th>\n",
       "      <td>Dofloo-SyscallParty.csv</td>\n",
       "      <td>/etc/rc.local</td>\n",
       "      <td>execute</td>\n",
       "      <td>FILE</td>\n",
       "      <td>/etc/rc</td>\n",
       "      <td>0</td>\n",
       "      <td>0</td>\n",
       "      <td>the /etc/rc.local will execute certain command...</td>\n",
       "    </tr>\n",
       "    <tr>\n",
       "      <th>25</th>\n",
       "      <td>Dofloo-SyscallParty.csv</td>\n",
       "      <td>/etc/rc.local</td>\n",
       "      <td>format</td>\n",
       "      <td>FILE</td>\n",
       "      <td>/etc/rc</td>\n",
       "      <td>1</td>\n",
       "      <td>1</td>\n",
       "      <td>a string is formatted and the sed program is c...</td>\n",
       "    </tr>\n",
       "    <tr>\n",
       "      <th>26</th>\n",
       "      <td>Dofloo-SyscallParty.csv</td>\n",
       "      <td>/etc/rc.local</td>\n",
       "      <td>add</td>\n",
       "      <td>FILE</td>\n",
       "      <td>/etc/rc</td>\n",
       "      <td>1</td>\n",
       "      <td>1</td>\n",
       "      <td>persistence persistence is achieved by the mal...</td>\n",
       "    </tr>\n",
       "    <tr>\n",
       "      <th>27</th>\n",
       "      <td>Dofloo-SyscallParty.csv</td>\n",
       "      <td>vaddr=0x00013dec</td>\n",
       "      <td>give</td>\n",
       "      <td>MEM</td>\n",
       "      <td>mem_addr</td>\n",
       "      <td>0</td>\n",
       "      <td>0</td>\n",
       "      <td>which gives us the following output:  vaddr=0x...</td>\n",
       "    </tr>\n",
       "    <tr>\n",
       "      <th>28</th>\n",
       "      <td>Dofloo-SyscallParty.csv</td>\n",
       "      <td>sed</td>\n",
       "      <td>format</td>\n",
       "      <td>PROC</td>\n",
       "      <td>^sed$</td>\n",
       "      <td>0</td>\n",
       "      <td>0</td>\n",
       "      <td>a string is formatted and the sed program is c...</td>\n",
       "    </tr>\n",
       "    <tr>\n",
       "      <th>29</th>\n",
       "      <td>Dofloo-Trendmicro.csv</td>\n",
       "      <td>/proc/sys/vm/overcommit_memory</td>\n",
       "      <td>None</td>\n",
       "      <td>FILE</td>\n",
       "      <td>/sys/</td>\n",
       "      <td>0</td>\n",
       "      <td>0</td>\n",
       "      <td>None</td>\n",
       "    </tr>\n",
       "    <tr>\n",
       "      <th>30</th>\n",
       "      <td>Dofloo-Trendmicro.csv</td>\n",
       "      <td>/etc/nsswitch.conf</td>\n",
       "      <td>open</td>\n",
       "      <td>FILE</td>\n",
       "      <td>nsswitch.conf</td>\n",
       "      <td>0</td>\n",
       "      <td>0</td>\n",
       "      <td>this backdoor opens the following files:  /et...</td>\n",
       "    </tr>\n",
       "    <tr>\n",
       "      <th>31</th>\n",
       "      <td>Dofloo-Trendmicro.csv</td>\n",
       "      <td>/proc/cpuinfo</td>\n",
       "      <td>None</td>\n",
       "      <td>FILE</td>\n",
       "      <td>/proc/</td>\n",
       "      <td>0</td>\n",
       "      <td>0</td>\n",
       "      <td>None</td>\n",
       "    </tr>\n",
       "    <tr>\n",
       "      <th>32</th>\n",
       "      <td>Dofloo-Trendmicro.csv</td>\n",
       "      <td>/etc/init.d/boot.local</td>\n",
       "      <td>start</td>\n",
       "      <td>FILE</td>\n",
       "      <td>/etc/init.d/</td>\n",
       "      <td>0</td>\n",
       "      <td>0</td>\n",
       "      <td>installation  this backdoor adds the followin...</td>\n",
       "    </tr>\n",
       "    <tr>\n",
       "      <th>33</th>\n",
       "      <td>Dofloo-Trendmicro.csv</td>\n",
       "      <td>/etc/rc.local</td>\n",
       "      <td>se</td>\n",
       "      <td>FILE</td>\n",
       "      <td>/etc/rc</td>\n",
       "      <td>0</td>\n",
       "      <td>0</td>\n",
       "      <td>installation  this backdoor adds the followin...</td>\n",
       "    </tr>\n",
       "    <tr>\n",
       "      <th>34</th>\n",
       "      <td>Dofloo-Trendmicro.csv</td>\n",
       "      <td>/proc/stat</td>\n",
       "      <td>gather</td>\n",
       "      <td>FILE</td>\n",
       "      <td>/proc/</td>\n",
       "      <td>1</td>\n",
       "      <td>1</td>\n",
       "      <td>this backdoor gathers the following data:  cp...</td>\n",
       "    </tr>\n",
       "    <tr>\n",
       "      <th>35</th>\n",
       "      <td>Dofloo-Trendmicro.csv</td>\n",
       "      <td>/etc/resolv.conf</td>\n",
       "      <td>open</td>\n",
       "      <td>FILE</td>\n",
       "      <td>resolv.conf</td>\n",
       "      <td>0</td>\n",
       "      <td>0</td>\n",
       "      <td>this backdoor opens the following files:  /et...</td>\n",
       "    </tr>\n",
       "    <tr>\n",
       "      <th>36</th>\n",
       "      <td>Dofloo-Trendmicro.csv</td>\n",
       "      <td>sed</td>\n",
       "      <td>se</td>\n",
       "      <td>PROC</td>\n",
       "      <td>^sed$</td>\n",
       "      <td>0</td>\n",
       "      <td>0</td>\n",
       "      <td>installation  this backdoor adds the followin...</td>\n",
       "    </tr>\n",
       "    <tr>\n",
       "      <th>37</th>\n",
       "      <td>Dofloo-Trendmicro.csv</td>\n",
       "      <td>/etc/suid-debug</td>\n",
       "      <td>None</td>\n",
       "      <td>INFO</td>\n",
       "      <td>UID</td>\n",
       "      <td>0</td>\n",
       "      <td>0</td>\n",
       "      <td>None</td>\n",
       "    </tr>\n",
       "  </tbody>\n",
       "</table>\n",
       "</div>"
      ],
      "text/plain": [
       "                        report                            word  \\\n",
       "0    Dofloo-MalwareMustDie.csv                      0x0002fc0e   \n",
       "1    Dofloo-MalwareMustDie.csv                      0x0002f144   \n",
       "2    Dofloo-MalwareMustDie.csv                      0x0002fbd0   \n",
       "3    Dofloo-MalwareMustDie.csv                      0x0002fc5f   \n",
       "4    Dofloo-MalwareMustDie.csv                      0x0002fbf0   \n",
       "5    Dofloo-MalwareMustDie.csv                      0x0002fcab   \n",
       "6    Dofloo-MalwareMustDie.csv                182.254.180.0/23   \n",
       "7    Dofloo-MalwareMustDie.csv                      0x000d0c24   \n",
       "8    Dofloo-MalwareMustDie.csv                      0x00008000   \n",
       "9    Dofloo-MalwareMustDie.csv                             sed   \n",
       "10   Dofloo-MalwareMustDie.csv                     0x6c00031a,   \n",
       "11   Dofloo-MalwareMustDie.csv                      0x0002f118   \n",
       "12   Dofloo-MalwareMustDie.csv                      0x0002f120   \n",
       "13   Dofloo-MalwareMustDie.csv                 182.254.180.241   \n",
       "14  Dofloo-Securityaffairs.csv             /etc/rc.d/rc.local,   \n",
       "15  Dofloo-Securityaffairs.csv                   /etc/rc.local   \n",
       "16  Dofloo-Securityaffairs.csv              23.224.59.34:48080   \n",
       "17  Dofloo-Securityaffairs.csv              23.224.59.34:48080   \n",
       "18     Dofloo-SyscallParty.csv                         ‘uname’   \n",
       "19     Dofloo-SyscallParty.csv                   /proc/cpuinfo   \n",
       "20     Dofloo-SyscallParty.csv                  /proc/self/exe   \n",
       "21     Dofloo-SyscallParty.csv                   61.147.91.53.   \n",
       "22     Dofloo-SyscallParty.csv                   /proc/net/dev   \n",
       "23     Dofloo-SyscallParty.csv          /etc/init.d/boot.local   \n",
       "24     Dofloo-SyscallParty.csv                   /etc/rc.local   \n",
       "25     Dofloo-SyscallParty.csv                   /etc/rc.local   \n",
       "26     Dofloo-SyscallParty.csv                   /etc/rc.local   \n",
       "27     Dofloo-SyscallParty.csv                vaddr=0x00013dec   \n",
       "28     Dofloo-SyscallParty.csv                             sed   \n",
       "29       Dofloo-Trendmicro.csv  /proc/sys/vm/overcommit_memory   \n",
       "30       Dofloo-Trendmicro.csv              /etc/nsswitch.conf   \n",
       "31       Dofloo-Trendmicro.csv                   /proc/cpuinfo   \n",
       "32       Dofloo-Trendmicro.csv          /etc/init.d/boot.local   \n",
       "33       Dofloo-Trendmicro.csv                   /etc/rc.local   \n",
       "34       Dofloo-Trendmicro.csv                      /proc/stat   \n",
       "35       Dofloo-Trendmicro.csv                /etc/resolv.conf   \n",
       "36       Dofloo-Trendmicro.csv                             sed   \n",
       "37       Dofloo-Trendmicro.csv                 /etc/suid-debug   \n",
       "\n",
       "                verb objectType      prettyReg  match  label  \\\n",
       "0               pack        MEM       mem_addr      0      0   \n",
       "1                svc        MEM       mem_addr      0      0   \n",
       "2               find        MEM       mem_addr      0      0   \n",
       "3             eserve        MEM       mem_addr      0      0   \n",
       "4               look        MEM       mem_addr      0      0   \n",
       "5                 go        MEM       mem_addr      0      0   \n",
       "6               None        NET        ip_addr      0      0   \n",
       "7                 be        MEM       mem_addr      0      0   \n",
       "8               have        MEM       mem_addr      0      0   \n",
       "9               None       PROC          ^sed$      0      0   \n",
       "10              None        MEM       mem_addr      0      0   \n",
       "11               add        MEM       mem_addr      0      0   \n",
       "12  r1,r2,r10,r11,lr        MEM       mem_addr      0      0   \n",
       "13                be        NET        ip_addr      0      0   \n",
       "14              None       FILE        /etc/rc      0      0   \n",
       "15            modify       FILE        /etc/rc      1      1   \n",
       "16           connect        NET        ip_addr      1      1   \n",
       "17           connect       FILE   ip_addr+port      1      1   \n",
       "18              None       FILE    uname(.)($)      0      0   \n",
       "19              open       FILE         /proc/      1      1   \n",
       "20              None       FILE         /proc/      0      0   \n",
       "21              None        NET        ip_addr      0      0   \n",
       "22              read       FILE         /proc/      1      1   \n",
       "23               add       FILE   /etc/init.d/      1      1   \n",
       "24           execute       FILE        /etc/rc      0      0   \n",
       "25            format       FILE        /etc/rc      1      1   \n",
       "26               add       FILE        /etc/rc      1      1   \n",
       "27              give        MEM       mem_addr      0      0   \n",
       "28            format       PROC          ^sed$      0      0   \n",
       "29              None       FILE          /sys/      0      0   \n",
       "30              open       FILE  nsswitch.conf      0      0   \n",
       "31              None       FILE         /proc/      0      0   \n",
       "32             start       FILE   /etc/init.d/      0      0   \n",
       "33                se       FILE        /etc/rc      0      0   \n",
       "34            gather       FILE         /proc/      1      1   \n",
       "35              open       FILE    resolv.conf      0      0   \n",
       "36                se       PROC          ^sed$      0      0   \n",
       "37              None       INFO            UID      0      0   \n",
       "\n",
       "                                             sentence  \n",
       "0   i look from its dcb data from where it was cal...  \n",
       "1   1 2 3 4 5 6 7 8 9 10 11 12 13 14 15 16 17 18 1...  \n",
       "2   1 2 3 4 5 6 7 8 9 10 11 12 13 14 15 16 17 18 1...  \n",
       "3   all rights r 0x0002fc5f                 dcb es...  \n",
       "4   i look from its dcb data from where it was cal...  \n",
       "5   ,0x24,0xa,0 0x0002fcab                 dcb 0x0...  \n",
       "6                                                None  \n",
       "7   so as you can see it was served from sept 10th...  \n",
       "8   so as you can see it was served from sept 10th...  \n",
       "9                                                None  \n",
       "10                                               None  \n",
       "11  1 2 3 4 5 6 7 8 9 10 11 12 13 14 15 16 17 18 1...  \n",
       "12  1 2 3 4 5 6 7 8 9 10 11 12 13 14 15 16 17 18 1...  \n",
       "13  1 2 .text:0x09e68 ldr  r0, =unk_0x08c5c4  <-- ...  \n",
       "14                                               None  \n",
       "15  trend micro researchers also discovered that t...  \n",
       "16  the malware also connects to 23.224.59.34:4808...  \n",
       "17  the malware also connects to 23.224.59.34:4808...  \n",
       "18                                               None  \n",
       "19  the virtual file /proc/cpuinfo is opened and r...  \n",
       "20                                               None  \n",
       "21                                               None  \n",
       "22  the way the malware gets information regarding...  \n",
       "23  persistence persistence is achieved by the mal...  \n",
       "24  the /etc/rc.local will execute certain command...  \n",
       "25  a string is formatted and the sed program is c...  \n",
       "26  persistence persistence is achieved by the mal...  \n",
       "27  which gives us the following output:  vaddr=0x...  \n",
       "28  a string is formatted and the sed program is c...  \n",
       "29                                               None  \n",
       "30   this backdoor opens the following files:  /et...  \n",
       "31                                               None  \n",
       "32   installation  this backdoor adds the followin...  \n",
       "33   installation  this backdoor adds the followin...  \n",
       "34   this backdoor gathers the following data:  cp...  \n",
       "35   this backdoor opens the following files:  /et...  \n",
       "36   installation  this backdoor adds the followin...  \n",
       "37                                               None  "
      ]
     },
     "execution_count": 25,
     "metadata": {},
     "output_type": "execute_result"
    }
   ],
   "source": [
    "# 存檔所有 doc_OPset\n",
    "def save_docOPset(fset: FamilySet):\n",
    "    data = []\n",
    "    for idx_rem, rem in enumerate(fset.rem_lst):\n",
    "        ctd_opset:list[OperationPair] = list(rem.doc_OPset)\n",
    "        for op in ctd_opset:\n",
    "            data.append({\n",
    "                'report': rem.reportname,\n",
    "                'word': op.original_object,\n",
    "                'verb': op.action,\n",
    "                'objectType': op.object_type,\n",
    "                'prettyReg': prettifyName(op.object),\n",
    "                'match': 1 if op in rem.match_doc_OPset else 0, # verb 是否有比對到 syscall\n",
    "                'label': 1 if op in rem.match_doc_OPset else 0, # 人工標記的標籤 暫時先跟系統判斷一樣\n",
    "                'sentence': \" \".join(op.original_sentence.splitlines()) if op.original_sentence else None # flatten the sentence segment\n",
    "            })\n",
    "    # print(data)\n",
    "    df = pd.DataFrame(data)\n",
    "    df.to_csv(f'./result/00_{family}_docOPset.csv', index=False)\n",
    "    return df\n",
    "\n",
    "save_docOPset(fset)"
   ]
  },
  {
   "cell_type": "code",
   "execution_count": 17,
   "metadata": {},
   "outputs": [
    {
     "name": "stdout",
     "output_type": "stream",
     "text": [
      "Report: Dofloo-SyscallParty.csv. Matched OP count: 5\n",
      "--\n",
      "OP #11 open /proc/ /proc/cpuinfo\n",
      "the virtual file /proc/cpuinfo is opened and read in words until an eof (-1) is hit whilst reading the file chunk by chunk — then fclose is called to free up the opened file.\n",
      "--\n",
      "OP #8 read /proc/ /proc/net/dev\n",
      "the way the malware gets information regarding the network adapter is reading the /proc/net/dev file.\n",
      "--\n",
      "OP #4 add /etc/init.d/ /etc/init.d/boot.local\n",
      "persistence\n",
      "persistence is achieved by the malware by adding to /etc/rc.local and the /etc/init.d/boot.local files (in the auto_boot function); however before it overwrites this file it first checks to see if it has already done so.\n",
      "--\n",
      "OP #7 format /etc/rc /etc/rc.local\n",
      "a string is formatted and the sed program is called which writes to the file in question (there are several string operations, such as sed -i -e '2 i%s/%s' /etc/rc.local is formatted for example).\n",
      "--\n",
      "OP #3 add /etc/rc /etc/rc.local\n",
      "persistence\n",
      "persistence is achieved by the malware by adding to /etc/rc.local and the /etc/init.d/boot.local files (in the auto_boot function); however before it overwrites this file it first checks to see if it has already done so.\n"
     ]
    }
   ],
   "source": [
    "# 印出特定 report 的 matched 句子\n",
    "report_id = 3\n",
    "reportname = fset.rem_lst[report_id].reportname\n",
    "print(f\"Report: {reportname}. Matched OP count: {len(fset.rem_lst[report_id].match_doc_OPset)}\")\n",
    "for i, op in enumerate(fset.rem_lst[report_id].match_doc_OPset):\n",
    "    print(f\"--\\nOP #{op.step_number} {op.action} {op.object} {op.original_object}\")\n",
    "    print(f\"{op.original_sentence}\")"
   ]
  },
  {
   "cell_type": "code",
   "execution_count": 18,
   "metadata": {},
   "outputs": [
    {
     "name": "stdout",
     "output_type": "stream",
     "text": [
      "set()\n",
      "{<OP 8 act=pack, obj=mem_addr>, <OP 5 act=svc, obj=mem_addr>, <OP 6 act=find, obj=mem_addr>, <OP 9 act=eserve, obj=mem_addr>, <OP 7 act=look, obj=mem_addr>, <OP10 act=go, obj=mem_addr>, <OP14 act=None, obj=ip_addr>, <OP 2 act=be, obj=mem_addr>, <OP 1 act=have, obj=mem_addr>, <OP12 act=None, obj=^sed$>, <OP11 act=None, obj=mem_addr>, <OP 3 act=add, obj=mem_addr>, <OP 4 act=r1,r2,r10,r11,lr, obj=mem_addr>, <OP13 act=be, obj=ip_addr>}\n",
      "{<OP 4 act=None, obj=/etc/rc>, <OP 3 act=modify, obj=/etc/rc>, <OP 1 act=connect, obj=ip_addr>, <OP 2 act=connect, obj=ip_addr+port>}\n",
      "{<OP10 act=None, obj=uname(.)($)>, <OP11 act=open, obj=/proc/>, <OP 2 act=None, obj=/proc/>, <OP 9 act=None, obj=ip_addr>, <OP 8 act=read, obj=/proc/>, <OP 4 act=add, obj=/etc/init.d/>, <OP 5 act=execute, obj=/etc/rc>, <OP 7 act=format, obj=/etc/rc>, <OP 3 act=add, obj=/etc/rc>, <OP 1 act=give, obj=mem_addr>, <OP 6 act=format, obj=^sed$>}\n",
      "{<OP 6 act=None, obj=/sys/>, <OP 8 act=open, obj=nsswitch.conf>, <OP 5 act=None, obj=/proc/>, <OP 3 act=start, obj=/etc/init.d/>, <OP 2 act=se, obj=/etc/rc>, <OP 4 act=gather, obj=/proc/>, <OP 7 act=open, obj=resolv.conf>, <OP 1 act=se, obj=^sed$>, <OP 9 act=None, obj=UID>}\n"
     ]
    }
   ],
   "source": [
    "# 測試區\n",
    "for rem in fset.rem_lst:\n",
    "    print(rem.doc_OPset)"
   ]
  },
  {
   "cell_type": "code",
   "execution_count": 19,
   "metadata": {},
   "outputs": [
    {
     "data": {
      "text/html": [
       "<div>\n",
       "<style scoped>\n",
       "    .dataframe tbody tr th:only-of-type {\n",
       "        vertical-align: middle;\n",
       "    }\n",
       "\n",
       "    .dataframe tbody tr th {\n",
       "        vertical-align: top;\n",
       "    }\n",
       "\n",
       "    .dataframe thead th {\n",
       "        text-align: right;\n",
       "    }\n",
       "</style>\n",
       "<table border=\"1\" class=\"dataframe\">\n",
       "  <thead>\n",
       "    <tr style=\"text-align: right;\">\n",
       "      <th></th>\n",
       "      <th>bin/sed</th>\n",
       "      <th>/etc/rc</th>\n",
       "      <th>/etc/init.d/</th>\n",
       "      <th>/proc/</th>\n",
       "      <th>/etc/sed</th>\n",
       "      <th>/selinux</th>\n",
       "      <th>/sys/</th>\n",
       "      <th>bin/</th>\n",
       "      <th>lsb-release</th>\n",
       "      <th>uname(.)($)</th>\n",
       "      <th>...</th>\n",
       "      <th>^sh$</th>\n",
       "      <th>^sed$</th>\n",
       "      <th>\\d{1,3}\\.\\d{1,3}\\.\\d{1,3}\\.\\d{1,3}:\\d+</th>\n",
       "      <th>\\d{1,3}\\.\\d{1,3}\\.\\d{1,3}\\.\\d{1,3}</th>\n",
       "      <th>eth[0-9]$</th>\n",
       "      <th>0x[0-9a-zA-Z]{8}</th>\n",
       "      <th>permission:{0,1}[0-9]{0,4}</th>\n",
       "      <th>UID</th>\n",
       "      <th>GID</th>\n",
       "      <th>match</th>\n",
       "    </tr>\n",
       "  </thead>\n",
       "  <tbody>\n",
       "    <tr>\n",
       "      <th>0</th>\n",
       "      <td>0</td>\n",
       "      <td>0</td>\n",
       "      <td>0</td>\n",
       "      <td>0</td>\n",
       "      <td>0</td>\n",
       "      <td>0</td>\n",
       "      <td>0</td>\n",
       "      <td>0</td>\n",
       "      <td>0</td>\n",
       "      <td>0</td>\n",
       "      <td>...</td>\n",
       "      <td>0</td>\n",
       "      <td>0</td>\n",
       "      <td>0</td>\n",
       "      <td>0</td>\n",
       "      <td>0</td>\n",
       "      <td>0</td>\n",
       "      <td>0</td>\n",
       "      <td>0</td>\n",
       "      <td>0</td>\n",
       "      <td>0</td>\n",
       "    </tr>\n",
       "    <tr>\n",
       "      <th>1</th>\n",
       "      <td>0</td>\n",
       "      <td>0</td>\n",
       "      <td>0</td>\n",
       "      <td>0</td>\n",
       "      <td>0</td>\n",
       "      <td>0</td>\n",
       "      <td>0</td>\n",
       "      <td>0</td>\n",
       "      <td>0</td>\n",
       "      <td>0</td>\n",
       "      <td>...</td>\n",
       "      <td>0</td>\n",
       "      <td>0</td>\n",
       "      <td>0</td>\n",
       "      <td>0</td>\n",
       "      <td>0</td>\n",
       "      <td>0</td>\n",
       "      <td>0</td>\n",
       "      <td>0</td>\n",
       "      <td>0</td>\n",
       "      <td>0</td>\n",
       "    </tr>\n",
       "    <tr>\n",
       "      <th>2</th>\n",
       "      <td>0</td>\n",
       "      <td>0</td>\n",
       "      <td>0</td>\n",
       "      <td>0</td>\n",
       "      <td>0</td>\n",
       "      <td>0</td>\n",
       "      <td>0</td>\n",
       "      <td>0</td>\n",
       "      <td>0</td>\n",
       "      <td>0</td>\n",
       "      <td>...</td>\n",
       "      <td>0</td>\n",
       "      <td>0</td>\n",
       "      <td>0</td>\n",
       "      <td>0</td>\n",
       "      <td>0</td>\n",
       "      <td>0</td>\n",
       "      <td>0</td>\n",
       "      <td>0</td>\n",
       "      <td>0</td>\n",
       "      <td>0</td>\n",
       "    </tr>\n",
       "    <tr>\n",
       "      <th>3</th>\n",
       "      <td>0</td>\n",
       "      <td>0</td>\n",
       "      <td>0</td>\n",
       "      <td>0</td>\n",
       "      <td>0</td>\n",
       "      <td>0</td>\n",
       "      <td>0</td>\n",
       "      <td>0</td>\n",
       "      <td>0</td>\n",
       "      <td>0</td>\n",
       "      <td>...</td>\n",
       "      <td>0</td>\n",
       "      <td>0</td>\n",
       "      <td>0</td>\n",
       "      <td>0</td>\n",
       "      <td>0</td>\n",
       "      <td>0</td>\n",
       "      <td>0</td>\n",
       "      <td>0</td>\n",
       "      <td>0</td>\n",
       "      <td>0</td>\n",
       "    </tr>\n",
       "    <tr>\n",
       "      <th>4</th>\n",
       "      <td>0</td>\n",
       "      <td>0</td>\n",
       "      <td>0</td>\n",
       "      <td>0</td>\n",
       "      <td>0</td>\n",
       "      <td>0</td>\n",
       "      <td>0</td>\n",
       "      <td>0</td>\n",
       "      <td>0</td>\n",
       "      <td>0</td>\n",
       "      <td>...</td>\n",
       "      <td>0</td>\n",
       "      <td>0</td>\n",
       "      <td>0</td>\n",
       "      <td>0</td>\n",
       "      <td>0</td>\n",
       "      <td>0</td>\n",
       "      <td>0</td>\n",
       "      <td>0</td>\n",
       "      <td>0</td>\n",
       "      <td>0</td>\n",
       "    </tr>\n",
       "    <tr>\n",
       "      <th>5</th>\n",
       "      <td>0</td>\n",
       "      <td>0</td>\n",
       "      <td>0</td>\n",
       "      <td>0</td>\n",
       "      <td>0</td>\n",
       "      <td>0</td>\n",
       "      <td>0</td>\n",
       "      <td>0</td>\n",
       "      <td>0</td>\n",
       "      <td>0</td>\n",
       "      <td>...</td>\n",
       "      <td>0</td>\n",
       "      <td>0</td>\n",
       "      <td>0</td>\n",
       "      <td>0</td>\n",
       "      <td>0</td>\n",
       "      <td>0</td>\n",
       "      <td>0</td>\n",
       "      <td>0</td>\n",
       "      <td>0</td>\n",
       "      <td>0</td>\n",
       "    </tr>\n",
       "    <tr>\n",
       "      <th>6</th>\n",
       "      <td>0</td>\n",
       "      <td>0</td>\n",
       "      <td>0</td>\n",
       "      <td>0</td>\n",
       "      <td>0</td>\n",
       "      <td>0</td>\n",
       "      <td>0</td>\n",
       "      <td>0</td>\n",
       "      <td>0</td>\n",
       "      <td>0</td>\n",
       "      <td>...</td>\n",
       "      <td>0</td>\n",
       "      <td>0</td>\n",
       "      <td>0</td>\n",
       "      <td>0</td>\n",
       "      <td>0</td>\n",
       "      <td>0</td>\n",
       "      <td>0</td>\n",
       "      <td>0</td>\n",
       "      <td>0</td>\n",
       "      <td>0</td>\n",
       "    </tr>\n",
       "    <tr>\n",
       "      <th>7</th>\n",
       "      <td>0</td>\n",
       "      <td>0</td>\n",
       "      <td>0</td>\n",
       "      <td>0</td>\n",
       "      <td>0</td>\n",
       "      <td>0</td>\n",
       "      <td>0</td>\n",
       "      <td>0</td>\n",
       "      <td>0</td>\n",
       "      <td>0</td>\n",
       "      <td>...</td>\n",
       "      <td>0</td>\n",
       "      <td>0</td>\n",
       "      <td>0</td>\n",
       "      <td>0</td>\n",
       "      <td>0</td>\n",
       "      <td>0</td>\n",
       "      <td>0</td>\n",
       "      <td>0</td>\n",
       "      <td>0</td>\n",
       "      <td>0</td>\n",
       "    </tr>\n",
       "    <tr>\n",
       "      <th>8</th>\n",
       "      <td>0</td>\n",
       "      <td>0</td>\n",
       "      <td>0</td>\n",
       "      <td>0</td>\n",
       "      <td>0</td>\n",
       "      <td>0</td>\n",
       "      <td>0</td>\n",
       "      <td>0</td>\n",
       "      <td>0</td>\n",
       "      <td>0</td>\n",
       "      <td>...</td>\n",
       "      <td>0</td>\n",
       "      <td>0</td>\n",
       "      <td>0</td>\n",
       "      <td>0</td>\n",
       "      <td>0</td>\n",
       "      <td>0</td>\n",
       "      <td>0</td>\n",
       "      <td>0</td>\n",
       "      <td>0</td>\n",
       "      <td>0</td>\n",
       "    </tr>\n",
       "    <tr>\n",
       "      <th>9</th>\n",
       "      <td>0</td>\n",
       "      <td>0</td>\n",
       "      <td>0</td>\n",
       "      <td>0</td>\n",
       "      <td>0</td>\n",
       "      <td>0</td>\n",
       "      <td>0</td>\n",
       "      <td>0</td>\n",
       "      <td>0</td>\n",
       "      <td>0</td>\n",
       "      <td>...</td>\n",
       "      <td>0</td>\n",
       "      <td>0</td>\n",
       "      <td>0</td>\n",
       "      <td>0</td>\n",
       "      <td>0</td>\n",
       "      <td>0</td>\n",
       "      <td>0</td>\n",
       "      <td>0</td>\n",
       "      <td>0</td>\n",
       "      <td>0</td>\n",
       "    </tr>\n",
       "    <tr>\n",
       "      <th>10</th>\n",
       "      <td>0</td>\n",
       "      <td>0</td>\n",
       "      <td>0</td>\n",
       "      <td>0</td>\n",
       "      <td>0</td>\n",
       "      <td>0</td>\n",
       "      <td>0</td>\n",
       "      <td>0</td>\n",
       "      <td>0</td>\n",
       "      <td>0</td>\n",
       "      <td>...</td>\n",
       "      <td>0</td>\n",
       "      <td>0</td>\n",
       "      <td>0</td>\n",
       "      <td>0</td>\n",
       "      <td>0</td>\n",
       "      <td>0</td>\n",
       "      <td>0</td>\n",
       "      <td>0</td>\n",
       "      <td>0</td>\n",
       "      <td>0</td>\n",
       "    </tr>\n",
       "    <tr>\n",
       "      <th>11</th>\n",
       "      <td>0</td>\n",
       "      <td>0</td>\n",
       "      <td>0</td>\n",
       "      <td>0</td>\n",
       "      <td>0</td>\n",
       "      <td>0</td>\n",
       "      <td>0</td>\n",
       "      <td>0</td>\n",
       "      <td>0</td>\n",
       "      <td>0</td>\n",
       "      <td>...</td>\n",
       "      <td>0</td>\n",
       "      <td>0</td>\n",
       "      <td>0</td>\n",
       "      <td>0</td>\n",
       "      <td>0</td>\n",
       "      <td>0</td>\n",
       "      <td>0</td>\n",
       "      <td>0</td>\n",
       "      <td>0</td>\n",
       "      <td>0</td>\n",
       "    </tr>\n",
       "    <tr>\n",
       "      <th>12</th>\n",
       "      <td>0</td>\n",
       "      <td>0</td>\n",
       "      <td>0</td>\n",
       "      <td>0</td>\n",
       "      <td>0</td>\n",
       "      <td>0</td>\n",
       "      <td>0</td>\n",
       "      <td>0</td>\n",
       "      <td>0</td>\n",
       "      <td>0</td>\n",
       "      <td>...</td>\n",
       "      <td>0</td>\n",
       "      <td>0</td>\n",
       "      <td>0</td>\n",
       "      <td>0</td>\n",
       "      <td>0</td>\n",
       "      <td>0</td>\n",
       "      <td>0</td>\n",
       "      <td>0</td>\n",
       "      <td>0</td>\n",
       "      <td>0</td>\n",
       "    </tr>\n",
       "    <tr>\n",
       "      <th>13</th>\n",
       "      <td>0</td>\n",
       "      <td>0</td>\n",
       "      <td>0</td>\n",
       "      <td>0</td>\n",
       "      <td>0</td>\n",
       "      <td>0</td>\n",
       "      <td>0</td>\n",
       "      <td>0</td>\n",
       "      <td>0</td>\n",
       "      <td>0</td>\n",
       "      <td>...</td>\n",
       "      <td>0</td>\n",
       "      <td>0</td>\n",
       "      <td>0</td>\n",
       "      <td>0</td>\n",
       "      <td>0</td>\n",
       "      <td>0</td>\n",
       "      <td>0</td>\n",
       "      <td>0</td>\n",
       "      <td>0</td>\n",
       "      <td>0</td>\n",
       "    </tr>\n",
       "    <tr>\n",
       "      <th>14</th>\n",
       "      <td>0</td>\n",
       "      <td>0</td>\n",
       "      <td>0</td>\n",
       "      <td>0</td>\n",
       "      <td>0</td>\n",
       "      <td>0</td>\n",
       "      <td>0</td>\n",
       "      <td>0</td>\n",
       "      <td>0</td>\n",
       "      <td>0</td>\n",
       "      <td>...</td>\n",
       "      <td>0</td>\n",
       "      <td>0</td>\n",
       "      <td>0</td>\n",
       "      <td>0</td>\n",
       "      <td>0</td>\n",
       "      <td>0</td>\n",
       "      <td>0</td>\n",
       "      <td>0</td>\n",
       "      <td>0</td>\n",
       "      <td>0</td>\n",
       "    </tr>\n",
       "  </tbody>\n",
       "</table>\n",
       "<p>15 rows × 24 columns</p>\n",
       "</div>"
      ],
      "text/plain": [
       "    bin/sed  /etc/rc  /etc/init.d/  /proc/  /etc/sed  /selinux  /sys/  bin/  \\\n",
       "0         0        0             0       0         0         0      0     0   \n",
       "1         0        0             0       0         0         0      0     0   \n",
       "2         0        0             0       0         0         0      0     0   \n",
       "3         0        0             0       0         0         0      0     0   \n",
       "4         0        0             0       0         0         0      0     0   \n",
       "5         0        0             0       0         0         0      0     0   \n",
       "6         0        0             0       0         0         0      0     0   \n",
       "7         0        0             0       0         0         0      0     0   \n",
       "8         0        0             0       0         0         0      0     0   \n",
       "9         0        0             0       0         0         0      0     0   \n",
       "10        0        0             0       0         0         0      0     0   \n",
       "11        0        0             0       0         0         0      0     0   \n",
       "12        0        0             0       0         0         0      0     0   \n",
       "13        0        0             0       0         0         0      0     0   \n",
       "14        0        0             0       0         0         0      0     0   \n",
       "\n",
       "    lsb-release  uname(.)($)  ...  ^sh$  ^sed$  \\\n",
       "0             0            0  ...     0      0   \n",
       "1             0            0  ...     0      0   \n",
       "2             0            0  ...     0      0   \n",
       "3             0            0  ...     0      0   \n",
       "4             0            0  ...     0      0   \n",
       "5             0            0  ...     0      0   \n",
       "6             0            0  ...     0      0   \n",
       "7             0            0  ...     0      0   \n",
       "8             0            0  ...     0      0   \n",
       "9             0            0  ...     0      0   \n",
       "10            0            0  ...     0      0   \n",
       "11            0            0  ...     0      0   \n",
       "12            0            0  ...     0      0   \n",
       "13            0            0  ...     0      0   \n",
       "14            0            0  ...     0      0   \n",
       "\n",
       "    \\d{1,3}\\.\\d{1,3}\\.\\d{1,3}\\.\\d{1,3}:\\d+  \\\n",
       "0                                        0   \n",
       "1                                        0   \n",
       "2                                        0   \n",
       "3                                        0   \n",
       "4                                        0   \n",
       "5                                        0   \n",
       "6                                        0   \n",
       "7                                        0   \n",
       "8                                        0   \n",
       "9                                        0   \n",
       "10                                       0   \n",
       "11                                       0   \n",
       "12                                       0   \n",
       "13                                       0   \n",
       "14                                       0   \n",
       "\n",
       "    \\d{1,3}\\.\\d{1,3}\\.\\d{1,3}\\.\\d{1,3}  eth[0-9]$  0x[0-9a-zA-Z]{8}  \\\n",
       "0                                    0          0                 0   \n",
       "1                                    0          0                 0   \n",
       "2                                    0          0                 0   \n",
       "3                                    0          0                 0   \n",
       "4                                    0          0                 0   \n",
       "5                                    0          0                 0   \n",
       "6                                    0          0                 0   \n",
       "7                                    0          0                 0   \n",
       "8                                    0          0                 0   \n",
       "9                                    0          0                 0   \n",
       "10                                   0          0                 0   \n",
       "11                                   0          0                 0   \n",
       "12                                   0          0                 0   \n",
       "13                                   0          0                 0   \n",
       "14                                   0          0                 0   \n",
       "\n",
       "    permission:{0,1}[0-9]{0,4}  UID  GID  match  \n",
       "0                            0    0    0      0  \n",
       "1                            0    0    0      0  \n",
       "2                            0    0    0      0  \n",
       "3                            0    0    0      0  \n",
       "4                            0    0    0      0  \n",
       "5                            0    0    0      0  \n",
       "6                            0    0    0      0  \n",
       "7                            0    0    0      0  \n",
       "8                            0    0    0      0  \n",
       "9                            0    0    0      0  \n",
       "10                           0    0    0      0  \n",
       "11                           0    0    0      0  \n",
       "12                           0    0    0      0  \n",
       "13                           0    0    0      0  \n",
       "14                           0    0    0      0  \n",
       "\n",
       "[15 rows x 24 columns]"
      ]
     },
     "metadata": {},
     "output_type": "display_data"
    }
   ],
   "source": [
    "for rem in fset.rem_lst:\n",
    "    display(rem.get_match_sentences())\n",
    "    break"
   ]
  },
  {
   "cell_type": "code",
   "execution_count": null,
   "metadata": {},
   "outputs": [],
   "source": []
  }
 ],
 "metadata": {
  "kernelspec": {
   "display_name": "Python 3.10.5 64-bit",
   "language": "python",
   "name": "python3"
  },
  "language_info": {
   "codemirror_mode": {
    "name": "ipython",
    "version": 3
   },
   "file_extension": ".py",
   "mimetype": "text/x-python",
   "name": "python",
   "nbconvert_exporter": "python",
   "pygments_lexer": "ipython3",
   "version": "3.10.5"
  },
  "orig_nbformat": 4,
  "vscode": {
   "interpreter": {
    "hash": "125a1d8b627fe68767755740015967bae857d08bb92fb3fd0d9d8ed24f978d39"
   }
  }
 },
 "nbformat": 4,
 "nbformat_minor": 2
}
