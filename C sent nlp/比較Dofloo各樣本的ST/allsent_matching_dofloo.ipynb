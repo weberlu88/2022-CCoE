{
 "cells": [
  {
   "cell_type": "code",
   "execution_count": 1,
   "metadata": {},
   "outputs": [],
   "source": [
    "import re\n",
    "import os\n",
    "from os import listdir\n",
    "from os.path import isfile, join\n",
    "from pathlib import Path\n",
    "import pandas as pd\n",
    "import pickle\n",
    "from typing import Dict, List, get_type_hints\n",
    "from styleframe import StyleFrame, Styler\n",
    "from IPython.display import display\n",
    "\n",
    "''' 自己寫的模組 '''\n",
    "from cc_regex_script import RegexMatchResult, RegexMaster \n",
    "from cc_nlp_script import find_verb_of_vocab, OperationMode, OperationEvaluator\n",
    "from cc_module_cust import AttackGraph, Node, Edge, FileTable #, build"
   ]
  },
  {
   "cell_type": "markdown",
   "metadata": {},
   "source": [
    "### Load 所有 Dofloo 的 object，計算並儲存其 regex"
   ]
  },
  {
   "cell_type": "code",
   "execution_count": 2,
   "metadata": {},
   "outputs": [
    {
     "name": "stdout",
     "output_type": "stream",
     "text": [
      "family Dofloo has numOfSample 13, first is 0046a78514a658b9b7a4e29e8581f85b\n",
      "samplename: ['0046a78514a658b9b7a4e29e8581f85b']\n"
     ]
    }
   ],
   "source": [
    "family = 'Dofloo' # Dofloo Xorddos\n",
    "\n",
    "sample_info = pd.read_csv('../../C malware info/sample_info.csv')\n",
    "dofloo_info = sample_info[(sample_info['family'] == family) & \n",
    "            (~sample_info['filename'].isin(['8845355172c485813872f1bb1834de15.bin']))]\n",
    "samplename_lst = dofloo_info['filename'].to_list()\n",
    "samplename_lst = [name.split('.')[0] for name in samplename_lst]\n",
    "print(f\"family {family} has numOfSample {len(samplename_lst)}, first is {samplename_lst[0]}\")\n",
    "\n",
    "if family == 'Dofloo':\n",
    "    samplename_lst = ['0046a78514a658b9b7a4e29e8581f85b'] # 只先使用這個 dof sample\n",
    "if family == 'Xorddos':\n",
    "    samplename_lst = ['0aefb67c01a24d05351b093455203fa2'] # 只先使用這個 xor sample\n",
    "\n",
    "print('samplename:', samplename_lst)"
   ]
  },
  {
   "cell_type": "code",
   "execution_count": 3,
   "metadata": {},
   "outputs": [
    {
     "name": "stdout",
     "output_type": "stream",
     "text": [
      "True\n",
      "{<OP act=a, obj=a>}\n"
     ]
    }
   ],
   "source": [
    "def prettifyName(item:str) -> str:\n",
    "    pretty_name = {\n",
    "        r\"\\d{1,3}\\.\\d{1,3}\\.\\d{1,3}\\.\\d{1,3}\": \"ip_addr\",\n",
    "        r\"\\d{1,3}\\.\\d{1,3}\\.\\d{1,3}\\.\\d{1,3}:\\d+\": \"ip_addr+port\",\n",
    "        r\"0x[0-9a-zA-Z]{8}\": \"mem_addr\",\n",
    "        r\"permission:{0,1}[0-9]{0,4}\": \"permission_id\"\n",
    "    }\n",
    "    changed = pretty_name.get(item, None)\n",
    "    if changed:\n",
    "        return changed\n",
    "    return item\n",
    "\n",
    "class OperationPair:\n",
    "    SYSCALL = 0\n",
    "    VERB = 1\n",
    "\n",
    "    def __init__(self, action:str, object:str, type:int=0, subject:str=None, step_number:int=None, original_object=None, original_sentence=None):\n",
    "        self.object:str = object # regex\n",
    "        self.action:str = action # verb or syscall\n",
    "        self.type:int = type\n",
    "        self.subject:str = subject\n",
    "        self.step_number:int = step_number\n",
    "        self.original_object:str = original_object # can store original matched word (object) from CTD\n",
    "        self.original_sentence:str = original_sentence # can store the mathced sentence\n",
    "        pass\n",
    "\n",
    "    def __eq__(self, other): \n",
    "        if not isinstance(other, OperationPair):\n",
    "            # don't attempt to compare against unrelated types\n",
    "            return NotImplemented\n",
    "        # Same if <action, object> pair is same (type is not consider yet)\n",
    "        return self.action == other.action and self.object == other.object\n",
    "\n",
    "    def __hash__(self) -> int:\n",
    "        # necessary for instances to behave sanely in dicts and sets.\n",
    "        return hash((self.action, self.object))\n",
    "\n",
    "    def __str__(self) -> str:\n",
    "        if self.step_number:\n",
    "            return f\"<OP{self.step_number:>2} act={self.action}, obj={prettifyName(self.object)}>\"\n",
    "        return f\"<OP act={self.action}, obj={prettifyName(self.object)}>\"\n",
    "    def __repr__(self) -> str:\n",
    "        return str(self)\n",
    "    def getSentStr(self) -> str:\n",
    "        '''return string contains original_object & flat_sentence'''\n",
    "        flat_sentence = \" \".join(self.original_sentence.splitlines())\n",
    "        return f\"<OP{self.step_number:>2} act={self.action}, obj={prettifyName(self.original_object)}, sent={flat_sentence}>\"\n",
    "        \n",
    "# test case\n",
    "p_aa = OperationPair('a','a')\n",
    "p_aaz = OperationPair('a','a')\n",
    "p_ab = OperationPair('a','b')\n",
    "\n",
    "print(p_aa == p_aaz) # True\n",
    "print(set([p_aa, p_aaz])) # one element\n",
    "\n",
    "def construct_sample_OPset(step_list: list, keep_src_node=False, debug=False, rt_order=True) -> set:\n",
    "    '''return a list of OPset. RegexMaster and family are gobal variable.'''\n",
    "    if debug:\n",
    "        print('step_list len:', len(set(step_list)))\n",
    "    OPlst_raw = list((src_node.name, dst_node.name, syscall) for (src_node, dst_node, syscall) in step_list) # object is raw\n",
    "    OPset_raw = list(dict.fromkeys(OPlst_raw))\n",
    "    if debug:\n",
    "        print('OPlst_raw len:', len(OPlst_raw)) # why len is 123100? (while step_list len is 7775) (must be equal)\n",
    "        print(f\"OPlst_raw: {OPlst_raw[:10]}\")\n",
    "        print('OPset_raw len:', len(OPset_raw)) # len is 5925 for xor\n",
    "        print(f\"OPset_raw: {OPset_raw[:10]}\")\n",
    "    regexMaster = RegexMaster(familyname=family)\n",
    "    regex_pool = regexMaster.get_all_regex()\n",
    "    OPset = set()\n",
    "    OPset_ordered = list()\n",
    "    for (src_node, dst_node, syscall) in OPset_raw:\n",
    "        regex_dst_node_list = RegexMaster.find_spacial_token_with_regex(regex_pool, dst_node)\n",
    "        if regex_dst_node_list is None or len(regex_dst_node_list) == 0:\n",
    "            continue\n",
    "        for regex_result in regex_dst_node_list:\n",
    "            dst_node = regex_result.match_regex\n",
    "            step_number = len(OPset) + 1\n",
    "            if keep_src_node:\n",
    "                op = OperationPair(syscall, dst_node, subject=src_node, step_number=step_number)\n",
    "                OPset.add(op) # keep src_node in OP\n",
    "                if op not in OPset_ordered:\n",
    "                    OPset_ordered.append(op)\n",
    "            else:\n",
    "                op = OperationPair(syscall, dst_node, step_number=step_number)\n",
    "                OPset.add(op) # only dst_node, syscall in OP\n",
    "                if op not in OPset_ordered:\n",
    "                    OPset_ordered.append(op)\n",
    "    if debug:\n",
    "        print('OPset len:', len(OPset), 'OPset_ordered len:', len(OPset_ordered))\n",
    "    if rt_order:\n",
    "        return OPset, OPset_ordered\n",
    "    return OPset\n",
    "\n",
    "# def construct_sample_stepList(step_list: list, keep_src_node=False, debug=False) -> list:\n",
    "#     ''''''\n",
    "#     pass\n",
    "\n",
    "# test\n",
    "# sample_OPset = construct_sample_OPset(asg.step_list, debug=True)"
   ]
  },
  {
   "cell_type": "code",
   "execution_count": 4,
   "metadata": {},
   "outputs": [
    {
     "name": "stdout",
     "output_type": "stream",
     "text": [
      "Exam: sample S1 matches 23 of regex\n",
      "Size of regex_pool: 23, size of total_used_regex: 0\n"
     ]
    }
   ],
   "source": [
    "class Sample:\n",
    "    def __init__(self, samplename:str, regex_set:set=None, special_token_dict=None, step_list=None) -> None:\n",
    "        self.samplename: str = samplename\n",
    "        self.regex_set: set = set()\n",
    "        if regex_set:\n",
    "            self.regex_set = regex_set\n",
    "        self.special_token_dict = {}\n",
    "        if special_token_dict:\n",
    "            self.special_token_dict: dict = special_token_dict # list of dict\n",
    "        if step_list:\n",
    "            self.step_list = step_list\n",
    "            OPset, OPset_ordered = construct_sample_OPset(step_list)\n",
    "            self.OPset: set[OperationPair] = OPset\n",
    "            self.OPset_ordered: list[OperationPair] = OPset_ordered # 依照出現順序排序的 OPset (元素相同順序不同)\n",
    "            self.OPset_sysOnly_ordered = [] # 尚未初始化 只儲存改變系統狀態的 OP 的物件\n",
    "            self.OPset_sysOnly_ordered_index = [] # 尚未初始化 只儲存改變系統狀態的 OP 的 index\n",
    "            del OPset, OPset_ordered\n",
    "        pass\n",
    "    def __repr__(self) -> str:\n",
    "        return f\"<Sample self.samplename>\"\n",
    "\n",
    "''' 讀取 ASG 中的 set_of_object (就是這個樣本的 special_token_dict)，並歸納樣本的 regex_set '''\n",
    "regexMaster = RegexMaster(familyname=family)\n",
    "regex_pool = regexMaster.get_all_regex()\n",
    "# total_used_regex = set()\n",
    "samples: list[Sample] = []\n",
    "for samplename in samplename_lst:\n",
    "    with open(f'../../C ASG statistics 1115ver/saved_pkl/{family}/{samplename}.pkl', 'rb') as inp:\n",
    "        asg: AttackGraph = pickle.load(inp) # asg.set_of_object is dict() (key:spacial token, value: type 首字大寫)\n",
    "        sample = Sample(samplename, special_token_dict=asg.set_of_object, step_list=asg.step_list)\n",
    "        sample.regex_set = set(regex_pool) # 直接使用志剛寫的作為這個樣本的 baseline\n",
    "        # for obj in sample.special_token_dict.keys():\n",
    "        #     matched_list: list[RegexMatchResult] = regexMaster.find_spacial_token(obj)\n",
    "        #     if matched_list:\n",
    "        #         # print(obj, matched_list)\n",
    "        #         [sample.regex_set.add(m.match_regex) for m in matched_list]\n",
    "        #         # [total_used_regex.add(m.match_regex) for m in matched_list]\n",
    "        # print('------', sample.regex_set)\n",
    "        # break\n",
    "        samples.append(sample)\n",
    "    # del asg\n",
    "print(f'Exam: sample S1 matches {len(samples[0].regex_set)} of regex')\n",
    "print(f'Size of regex_pool: {len(regex_pool)}, size of total_used_regex: {len(regexMaster.used_regex_set)}')"
   ]
  },
  {
   "cell_type": "code",
   "execution_count": 5,
   "metadata": {},
   "outputs": [
    {
     "data": {
      "text/plain": [
       "set()"
      ]
     },
     "execution_count": 5,
     "metadata": {},
     "output_type": "execute_result"
    }
   ],
   "source": [
    "# 只差這四個不在 asg set_of_object 中 {'0x[0-9a-zA-Z]{8}', 'GID', 'UID', 'port \\\\d{1,5}$'}\n",
    "set(regex_pool) - samples[0].regex_set"
   ]
  },
  {
   "cell_type": "code",
   "execution_count": 6,
   "metadata": {},
   "outputs": [
    {
     "data": {
      "text/plain": [
       "' Save result to txt file 沒事不要 run ! '"
      ]
     },
     "execution_count": 6,
     "metadata": {},
     "output_type": "execute_result"
    }
   ],
   "source": [
    "''' Save result to txt file 沒事不要 run ! '''\n",
    "# total_regex = set()\n",
    "# with open('./result/countof_regexset.txt', 'w', encoding='utf-8') as opf:\n",
    "#     # header\n",
    "#     opf.write('{:12s}'.format('Sample no.'))\n",
    "#     for i in range(len(samples)):\n",
    "#         if i+1 < 10:\n",
    "#             opf.write(f' S{i+1} ')\n",
    "#         else:\n",
    "#             opf.write(f'S{i+1} ')\n",
    "#     opf.write('\\n')\n",
    "#     # opf.write('{:12s}'.format('# of regex'))\n",
    "#     num_of_regex_string = '{:12s}'.format('# of regex')\n",
    "#     num_of_objects_string = '{:12s}'.format('# of object ') # 所有的類別喔! 無過濾\n",
    "#     for i in range(len(samples)):\n",
    "#         # opf.write(f'{len(samples[i].regex_set):>3} ')\n",
    "#         num_of_regex_string += f'{len(samples[i].regex_set):>3} '\n",
    "#         num_of_objects_string += f'{len(samples[i].special_token_dict):>3} '\n",
    "#     opf.write(num_of_objects_string+'\\n')\n",
    "#     opf.write(num_of_regex_string)\n",
    "#     opf.write('\\n{:12s}'.format('Sample hash'))\n",
    "#     for i in range(len(samples)):\n",
    "#         opf.write(f'{samples[i].samplename[:3]:>3} ')\n",
    "#     opf.write('\\n\\n')\n",
    "#     opf.write(f'Size of regex_pool: {len(regex_pool)}, size of total_used_regex: {len(regexMaster.used_regex_set)}\\n\\n')\n",
    "\n",
    "#     # content of each sample\n",
    "#     for i,s in enumerate(samples):\n",
    "#         content_1 = f\"S{i+1} has {len(s.regex_set)} of regex\\n\"\n",
    "#         content_2 = f\"regex_set: {s.regex_set}\\n\"\n",
    "#         content_3 = f\"special_token_dict: {s.special_token_dict.keys()}\\n\"\n",
    "#         opf.writelines([content_1, content_2, content_3])\n",
    "#         opf.write('\\n\\n')"
   ]
  },
  {
   "cell_type": "markdown",
   "metadata": {},
   "source": [
    "### Load Reports"
   ]
  },
  {
   "cell_type": "code",
   "execution_count": 7,
   "metadata": {},
   "outputs": [
    {
     "data": {
      "text/plain": [
       "['Dofloo-BleepingComputer.csv',\n",
       " 'Dofloo-MalwareMustDie.csv',\n",
       " 'Dofloo-Securityaffairs.csv',\n",
       " 'Dofloo-SyscallParty.csv',\n",
       " 'Dofloo-Trendmicro.csv']"
      ]
     },
     "execution_count": 7,
     "metadata": {},
     "output_type": "execute_result"
    }
   ],
   "source": [
    "report_fir_path = '../../C parse report/sentence csvs/'\n",
    "# family, samplename, outputfolder = 'Xorddos', '???', './result'\n",
    "outputfolder = './result'\n",
    "\n",
    "def get_all_filenames(dir: str='./') -> list:\n",
    "    ''' traverse root directory, and list directories as dirs and files as files. Return filenames in rootdir. '''\n",
    "    files = [f for f in listdir(dir) if isfile(join(dir, f))]\n",
    "    files.sort()\n",
    "    return files\n",
    "\n",
    "xor_report_names = [f for f in get_all_filenames(report_fir_path) if f.startswith(family)] # 只選擇這個家族的報告\n",
    "xor_report_dfs = [pd.read_csv(f\"{report_fir_path}{f}\") for f in xor_report_names]\n",
    "xor_report_names"
   ]
  },
  {
   "cell_type": "code",
   "execution_count": 8,
   "metadata": {},
   "outputs": [
    {
     "data": {
      "text/html": [
       "<div>\n",
       "<style scoped>\n",
       "    .dataframe tbody tr th:only-of-type {\n",
       "        vertical-align: middle;\n",
       "    }\n",
       "\n",
       "    .dataframe tbody tr th {\n",
       "        vertical-align: top;\n",
       "    }\n",
       "\n",
       "    .dataframe thead th {\n",
       "        text-align: right;\n",
       "    }\n",
       "</style>\n",
       "<table border=\"1\" class=\"dataframe\">\n",
       "  <thead>\n",
       "    <tr style=\"text-align: right;\">\n",
       "      <th></th>\n",
       "      <th>Number</th>\n",
       "      <th>Content</th>\n",
       "    </tr>\n",
       "  </thead>\n",
       "  <tbody>\n",
       "    <tr>\n",
       "      <th>0</th>\n",
       "      <td>Sentence 1</td>\n",
       "      <td>exposed docker apis abused by ddos, cryptojack...</td>\n",
       "    </tr>\n",
       "    <tr>\n",
       "      <th>1</th>\n",
       "      <td>Sentence 2</td>\n",
       "      <td>the dofloo (aka aesddos) malware was first det...</td>\n",
       "    </tr>\n",
       "    <tr>\n",
       "      <th>2</th>\n",
       "      <td>Sentence 3</td>\n",
       "      <td>misconfigured docker services being abused is ...</td>\n",
       "    </tr>\n",
       "    <tr>\n",
       "      <th>3</th>\n",
       "      <td>Sentence 4</td>\n",
       "      <td>allowing external access — whether intentional...</td>\n",
       "    </tr>\n",
       "    <tr>\n",
       "      <th>4</th>\n",
       "      <td>Sentence 5</td>\n",
       "      <td>query to list all available containers\\nthe at...</td>\n",
       "    </tr>\n",
       "    <tr>\n",
       "      <th>5</th>\n",
       "      <td>Sentence 6</td>\n",
       "      <td>the dofloo botnet malware is subsequently depl...</td>\n",
       "    </tr>\n",
       "    <tr>\n",
       "      <th>6</th>\n",
       "      <td>Sentence 7</td>\n",
       "      <td>system information is also collected by the tr...</td>\n",
       "    </tr>\n",
       "    <tr>\n",
       "      <th>7</th>\n",
       "      <td>Sentence 8</td>\n",
       "      <td>dofloo (aesddos) malware executing remote shel...</td>\n",
       "    </tr>\n",
       "    <tr>\n",
       "      <th>8</th>\n",
       "      <td>Sentence 9</td>\n",
       "      <td>previous dofloo and docker attacks\\ndofloo was...</td>\n",
       "    </tr>\n",
       "    <tr>\n",
       "      <th>9</th>\n",
       "      <td>Sentence 10</td>\n",
       "      <td>exposed docker apis were abused by other malic...</td>\n",
       "    </tr>\n",
       "    <tr>\n",
       "      <th>10</th>\n",
       "      <td>Sentence 11</td>\n",
       "      <td>cryptojacking operations have also actively ta...</td>\n",
       "    </tr>\n",
       "    <tr>\n",
       "      <th>11</th>\n",
       "      <td>Sentence 12</td>\n",
       "      <td>further back, in october 2018 and march 2018, ...</td>\n",
       "    </tr>\n",
       "    <tr>\n",
       "      <th>12</th>\n",
       "      <td>Sentence 13</td>\n",
       "      <td>securing docker servers\\nwhile docker engine a...</td>\n",
       "    </tr>\n",
       "    <tr>\n",
       "      <th>13</th>\n",
       "      <td>Sentence 14</td>\n",
       "      <td>to make sure that their docker hosts are secur...</td>\n",
       "    </tr>\n",
       "    <tr>\n",
       "      <th>14</th>\n",
       "      <td>Sentence 15</td>\n",
       "      <td>related articles:\\nnew chaos malware infects w...</td>\n",
       "    </tr>\n",
       "  </tbody>\n",
       "</table>\n",
       "</div>"
      ],
      "text/plain": [
       "         Number                                            Content\n",
       "0    Sentence 1  exposed docker apis abused by ddos, cryptojack...\n",
       "1    Sentence 2  the dofloo (aka aesddos) malware was first det...\n",
       "2    Sentence 3  misconfigured docker services being abused is ...\n",
       "3    Sentence 4  allowing external access — whether intentional...\n",
       "4    Sentence 5  query to list all available containers\\nthe at...\n",
       "5    Sentence 6  the dofloo botnet malware is subsequently depl...\n",
       "6    Sentence 7  system information is also collected by the tr...\n",
       "7    Sentence 8  dofloo (aesddos) malware executing remote shel...\n",
       "8    Sentence 9  previous dofloo and docker attacks\\ndofloo was...\n",
       "9   Sentence 10  exposed docker apis were abused by other malic...\n",
       "10  Sentence 11  cryptojacking operations have also actively ta...\n",
       "11  Sentence 12  further back, in october 2018 and march 2018, ...\n",
       "12  Sentence 13  securing docker servers\\nwhile docker engine a...\n",
       "13  Sentence 14  to make sure that their docker hosts are secur...\n",
       "14  Sentence 15  related articles:\\nnew chaos malware infects w..."
      ]
     },
     "execution_count": 8,
     "metadata": {},
     "output_type": "execute_result"
    }
   ],
   "source": [
    "xor_report_dfs[0]"
   ]
  },
  {
   "cell_type": "markdown",
   "metadata": {},
   "source": [
    "### 單篇文章的 Class 和 整個 Family 的 Class\n",
    "`baseline: Dict[str, list]` 改為 `regexMaster: RegexMaster`"
   ]
  },
  {
   "cell_type": "code",
   "execution_count": 9,
   "metadata": {},
   "outputs": [],
   "source": [
    "class ReportEvalModel:\n",
    "    def __init__(self, regex_set: set, sentences: pd.DataFrame, reportname:str=''):\n",
    "        self.regex_pool: set[str] = regex_set # 樣本or家族含有的 regex 集合\n",
    "        self.sentences = sentences # a df\n",
    "        self.reportname = reportname\n",
    "        cols = list(regex_pool)\n",
    "        self.match_tbl = pd.DataFrame([[0]*len(cols)]*len(sentences), columns=cols)\n",
    "        self.match_word:dict[(int,str), str] = dict() # key(idx_sent,regex) value(word:str)\n",
    "        self.match_regex = set()\n",
    "        self.doc_OPset:set[OperationPair] = set() # Set of doc's OperationalPair\n",
    "        self.match_doc_OPset:set[OperationPair] = set()\n",
    "        self.OPset_order_index = [] # 紀錄 ASG OP 的出現順序 (lifecycle)\n",
    "        self.SysOPset_order_index = [] # 只紀錄改變系統的\n",
    "        # self.asgSysOPset_order_index = []\n",
    "        # self.regexMaster = regexMaster # 其實應該用 class function 就不用傳入一個物件\n",
    "        self.match()\n",
    "\n",
    "    def match(self) -> None:\n",
    "        '''find baseline in sentences of report. Fill matching result in self.match_tbl.'''\n",
    "        sentence_list = self.sentences['Content']\n",
    "        for idx_sent, sent in enumerate(sentence_list):\n",
    "            # print(idx_sent, sent)\n",
    "            # find regexs in a sentence\n",
    "            matched_list: list[RegexMatchResult] = RegexMaster.find_spacial_token_with_regex(self.regex_pool, sent)\n",
    "            if not matched_list:\n",
    "                continue\n",
    "            for m in matched_list:\n",
    "                this_re = m.match_regex\n",
    "                matched_word = m.word\n",
    "                self.match_word[(idx_sent,this_re)] = m.word # 紀錄被 search 到的單字\n",
    "                # self.match_tbl.loc[idx_sent,this_re] = 1 # mark as found 節省空間\n",
    "                self.match_regex.add(this_re)\n",
    "                en_verb = find_verb_of_vocab(sent, m.word)\n",
    "                # print(f\"---\\nen_verb: {en_verb}, m.word: {m.word}, sent: {sent}\") # 列印所有動詞抓取情形\n",
    "                stepn = len(self.doc_OPset) + 1\n",
    "                if en_verb:\n",
    "                    self.doc_OPset.add(OperationPair(en_verb, this_re, type=OperationPair.VERB, original_object=m.word, \n",
    "                    step_number=stepn, original_sentence=sent)) # has verb\n",
    "                else:\n",
    "                    self.doc_OPset.add(OperationPair(None, this_re, type=OperationPair.VERB, original_object=m.word, step_number=stepn)) # no verb\n",
    "        pass\n",
    "    \n",
    "    def get_match_sentences(self) -> pd.DataFrame:\n",
    "        result = self.match_tbl.copy()\n",
    "        result['match'] = result.sum(axis=1)\n",
    "        return result\n",
    "    \n",
    "    def get_match_regexs(self) -> set:\n",
    "        return self.match_regex\n",
    "\n",
    "    def get_match_word(self, idx_sent:int, regex:str) -> str:\n",
    "        return self.match_word[(idx_sent, regex)]\n",
    "\n",
    "class FamilySet:\n",
    "    '''一個 malware family report 集合'''\n",
    "    def __init__(self, familyname:str, regexMaster: RegexMaster, sample: Sample=None):\n",
    "        self.familyname = familyname\n",
    "        self.regexMaster = regexMaster\n",
    "        self.num_of_used_regex = len(regexMaster.used_regex_set) # 這個家族含規則的總數量 (unoin by all samples)\n",
    "        self.sample = None\n",
    "        if sample:\n",
    "            self.sample = sample\n",
    "            self.num_of_used_regex = len(sample.regex_set) # 改以這個樣本規則的總數量為基準\n",
    "        self.rem_lst: List[ReportEvalModel] = [] # list of ReportEvalModel under this family\n",
    "        self.result_tbl = None\n",
    "\n",
    "    def add_rem(self, sentences: pd.DataFrame, reportname: str=''):\n",
    "        '''新增 report 到 FamilySet 中，需傳入文本和報告名稱，會沿用 FamilySet 的 baseline.'''\n",
    "        if self.sample:\n",
    "            rem = ReportEvalModel(list(self.sample.regex_set), sentences, reportname) # 基準是 Sample\n",
    "            self.rem_lst.append(rem)\n",
    "            return\n",
    "        rem = ReportEvalModel(self.regexMaster, sentences, reportname) # 基準是 Family union # need fix -> no first arg now\n",
    "        self.rem_lst.append(rem)\n",
    "\n",
    "    def calc_report_coverage_score(self, match_regexs: list[str], apply_weight=False) -> float:\n",
    "        '''計算這篇報告的 coverage_score，未處理分母為0之情形'''\n",
    "        if not apply_weight:\n",
    "            return len(match_regexs) / self.num_of_used_regex # 無權種的算法，分母是家族 wide\n",
    "        ''' 以下 有權重的算法尚未修改，必出 bug '''\n",
    "        # denominator = sum(self.regexMaster['weight']) # 分母\n",
    "        # numerator = 0 # 分子\n",
    "        # for b, w in zip(self.regexMaster['text'], self.regexMaster['weight']):\n",
    "        #     if b in match_baselines:\n",
    "        #         numerator += w\n",
    "        # return numerator/denominator\n",
    "\n",
    "    def show_result(self, apply_weight: bool=False, base_on_sample = True):\n",
    "        '''print and return result table. baselinse(x) * report(y).'''\n",
    "        column_names = ['report_name','ttl_match','coverage_score']\n",
    "        if base_on_sample:\n",
    "            column_names.extend(list(self.sample.regex_set))\n",
    "        else:\n",
    "            column_names.extend(list(regexMaster.used_regex_set))\n",
    "        result_tbl = pd.DataFrame([[0]*len(column_names)]*len(self.rem_lst), columns=column_names)\n",
    "        for i,rem in enumerate(self.rem_lst):\n",
    "            match_regexes = rem.get_match_regexs() # 這篇報告含有哪些 baseine:set\n",
    "            c_score = self.calc_report_coverage_score(match_regexes, apply_weight=apply_weight)\n",
    "            result_tbl.loc[i,'report_name'] = rem.reportname\n",
    "            result_tbl.loc[i,'ttl_match'] = len(match_regexes)\n",
    "            result_tbl.loc[i,'coverage_score'] = f'{c_score:.4}'\n",
    "            for b in match_regexes:\n",
    "                result_tbl.loc[i,b] = 1\n",
    "            print(rem.reportname, match_regexes)\n",
    "        display(result_tbl)\n",
    "        return result_tbl"
   ]
  },
  {
   "attachments": {},
   "cell_type": "markdown",
   "metadata": {},
   "source": [
    "### Run Script: 存檔每篇報告的 matched sentence (以樣本的 regex set 為基準)\n",
    "比較樣本間的辨別度，有 n 個樣本，就會跑 n 變，得出 n 個結果 (FanilySet)"
   ]
  },
  {
   "cell_type": "code",
   "execution_count": 10,
   "metadata": {},
   "outputs": [],
   "source": [
    "import os, psutil\n",
    "def print_mem_usage():\n",
    "    process = psutil.Process(os.getpid())\n",
    "    mem_usage = psutil.Process(os.getpid()).memory_info().rss / 1024 ** 2\n",
    "    print(f\"=== mem_usage: {mem_usage:.2f} MB ===\")  # in MiB \n",
    "\n",
    "def get_mem_usage() -> int:\n",
    "    # process = psutil.Process(os.getpid())\n",
    "    mem_usage = psutil.Process(os.getpid()).memory_info().rss / 1024 ** 2\n",
    "    return mem_usage\n",
    "\n",
    "def run_family_set_procedure(sample: Sample) -> FamilySet:\n",
    "    # family, regexMaster is global variable\n",
    "    fset = FamilySet(family, regexMaster, sample=sample)\n",
    "    for i,rdf in enumerate(xor_report_dfs):\n",
    "        # rem = ReportEvalModel(base_data, rdf, dofloo_report_names[i])\n",
    "        fset.add_rem(rdf, xor_report_names[i])\n",
    "    # result_tbl = fset.show_result(apply_weight=False)\n",
    "    # result_tbl.to_csv(f'{outputfolder}/{family}_{sample.samplename[:3]}_FamilySet_by_Regex.csv', index=False)\n",
    "    # print(f\"Sample {sample.samplename[:3]} has ttl_match {result_tbl['ttl_match'].sum()} on all documents.\") \n",
    "\n",
    "    # Calculate metrics\n",
    "    print_mem_usage()\n",
    "    print(f\"asg_object: {set([op.object for op in sample.OPset])}\\n\")\n",
    "    fset.sample.OPset_sysOnly_ordered = [op for op in sample.OPset if op.object.find('/etc') != -1]\n",
    "    fset.sample.OPset_sysOnly_ordered_index = [sample.OPset_ordered.index(op) for op in fset.sample.OPset_sysOnly_ordered]\n",
    "    for idx_rem, rem in enumerate(fset.rem_lst):\n",
    "        # asg_object = set([op.object for op in sample.OPset])\n",
    "        # ctd_object = set([op.object for op in rem.doc_OPset])\n",
    "        if rem.reportname == 'Xorddos-Microsoft.csv': # 除錯用\n",
    "            continue\n",
    "        print(f\"\\nSample {rem.reportname}\")\n",
    "        print(f\"\\tnum of segment in report: {len(rem.sentences)}\")\n",
    "        print(f\"\\tlenght of ctd's OPset is {len(rem.doc_OPset)}\")\n",
    "\n",
    "        # R_malObj 比較物件\n",
    "        asg_object = set([op.object for op in sample.OPset])\n",
    "        ctd_object = set([op.object for op in rem.doc_OPset])\n",
    "        ctd_object = ctd_object.intersection(asg_object)\n",
    "        numerator = len(ctd_object) # 分子\n",
    "        denominator = len(asg_object) # 分母\n",
    "        R_malObj = 0 if denominator == 0 else numerator/denominator\n",
    "        print(f\"\\t#R_malObj\\n\\tnum of ctd objects: {numerator}, num of asg objects: {denominator}. R_malObj is {R_malObj:.4f}\")\n",
    "        print(f\"\\t\\tctd_object: {ctd_object}\")\n",
    "\n",
    "        # R_malSysObj 比較系統物件\n",
    "        asg_sysobj = list(filter(lambda object: object.find('/etc') != -1, asg_object))\n",
    "        ctd_sysobj = list(filter(lambda object: object.find('/etc') != -1, ctd_object))\n",
    "        numerator = len(ctd_sysobj)\n",
    "        denominator = len(asg_sysobj)\n",
    "        R_malSysObj = 0 if denominator == 0 else numerator/denominator\n",
    "        print(f\"\\t#R_malSysObj\\n\\tnum of ctd objects: {numerator}, num of asg objects: {denominator}. R_malSysObj is {R_malSysObj:.4f}\")\n",
    "\n",
    "        # R_malOps 比較動作和物件\n",
    "        asg_OPset = list(sample.OPset)\n",
    "        ctd_OPset = list(rem.doc_OPset)\n",
    "        operationEvaluator = OperationEvaluator()\n",
    "        numerator, denominator, hits = 0, len(asg_OPset), []\n",
    "        hits: list[tuple[OperationPair, OperationPair]] = []\n",
    "        sys_hits: list[tuple[OperationPair, OperationPair]] = []\n",
    "        print(f\"\\t\\tlen(asg_OPset): {len(asg_OPset)}, len(ctd_OPset): {len(ctd_OPset)}\")\n",
    "        # 每一個 asg_op 跟所有同物件的的 ctd_op 進行 resolve() 比對，來判斷此 asg_op 是否被提及\n",
    "        i = 0\n",
    "        for idx_asg, asg_op in enumerate(asg_OPset): \n",
    "            i += 1\n",
    "            # print(f\"\\tno.{i} asg_op {asg_op}\") # 瓶頸卡在 no.51 step (total 71 step)\n",
    "            target_obj = asg_op.object\n",
    "            ctdSameObjOpsIdx = [i for i, x in enumerate(ctd_OPset) if x.object == target_obj]\n",
    "            # if i==51:\n",
    "            # print(f\"\\tno.{i} | asg_op {asg_op}, len of ctdSameObjOpsIdx: {ctdSameObjOpsIdx}\")\n",
    "            # ctdSameObjOps = [x for x in ctd_OPset if x.object == target_obj]\n",
    "            for idx in ctdSameObjOpsIdx:\n",
    "                pass\n",
    "                # mem_before_create_lst = get_mem_usage()\n",
    "                # print(\"\\tbefore resolve\", mem_before_create_lst)\n",
    "                hit = operationEvaluator.resolve(asg_op.action, ctd_OPset[idx].action)\n",
    "                # # print_mem_usage()\n",
    "                # mem_after_create_lst = get_mem_usage()\n",
    "                # # print(f\"\\t=== diff of mem_usage calling resolve(): {mem_after_create_lst - mem_before_create_lst:.2f}  ===\")\n",
    "        \n",
    "                if hit:\n",
    "                    numerator += 1\n",
    "                    (opModeAsg, opModeCtd) = hit # hit is [OperationMode]*2\n",
    "                    hits.append((asg_OPset[idx_asg], ctd_OPset[idx]))\n",
    "                    fset.rem_lst[idx_rem].match_doc_OPset.add(ctd_OPset[idx])\n",
    "\n",
    "                    # 篩選出系統物件的動作\n",
    "                    if (opModeAsg in [OperationMode.FILE_UPDATE]) and asg_OPset[idx_asg].object.find('/etc') != -1:\n",
    "                        sys_hits.append((asg_OPset[idx_asg], ctd_OPset[idx]))\n",
    "\n",
    "                    # 紀錄CTD的生命週期 (ASG_OP提及順序)\n",
    "                    step_num = sample.OPset_ordered.index(asg_op) # index of step, throw ValueError if not found\n",
    "                    fset.rem_lst[idx_rem].OPset_order_index.append(step_num)\n",
    "                    break\n",
    "        R_malOps = 0 if denominator == 0 else numerator/denominator\n",
    "        print(f\"\\t#R_malOps\\n\\tnum of matched asg op: {numerator}, num of asg op: {denominator}. R_malOps is {R_malOps:.4f}\")\n",
    "        print(f\"\\t\\trefered lifecycle: {fset.rem_lst[idx_rem].OPset_order_index}\")\n",
    "\n",
    "        # 紀錄CTD的生命週期 (OP提及順序)\n",
    "        # fset.rem_lst[idx_rem].OPset_order_index.clear()\n",
    "        # for ctd_op in fset.rem_lst[idx_rem].match_doc_OPset:\n",
    "        #     step_num = sample.OPset_ordered.index(ctd_op) # index of step, throw ValueError if not found\n",
    "        #     fset.rem_lst[idx_rem].OPset_order_index.append(step_num)\n",
    "\n",
    "        # R_malChangeOps 篩選出系統物件的動作\n",
    "        # cando: 加上 OPMode的考量，為class OP加兩個mode asg_op_mode, ctd_op_mode。目前直接用call nlp class 的 method判別。\n",
    "        numerator = len(sys_hits)\n",
    "        sys_asg_OPset = [op for op in asg_OPset if op.object.find('/etc') != -1 \\\n",
    "                         and operationEvaluator.get_mode(op.action) == OperationMode.FILE_UPDATE ]\n",
    "        # print('sys_asg_OPset is unique:', len(sample.OPset_ordered) == len(set(sample.OPset_ordered))) # 元速度重複沒錯，可能是 index() 的問題\n",
    "        print(f\"\\t\\tsys_asg_OPset: {sys_asg_OPset}\")\n",
    "        denominator = len(sys_asg_OPset)\n",
    "        R_malChangeOps = 0 if denominator == 0 else numerator/denominator\n",
    "        print(f\"\\t#R_malChangeOps\\n\\tnum of matched asg op: {numerator}, num of asg op: {denominator}. R_malChangeOps is {R_malChangeOps:.4f}\")\n",
    "\n",
    "        # 紀錄CTD的生命週期 (OP提及順序)\n",
    "        fset.rem_lst[idx_rem].SysOPset_order_index.clear()\n",
    "        for asg_op , ctd_op in sys_hits:\n",
    "            step_num = sample.OPset_ordered.index(asg_op) # step index , throw ValueError if not found\n",
    "            fset.rem_lst[idx_rem].SysOPset_order_index.append(step_num)\n",
    "        print(f\"\\t\\tref-sys lifecycle: {fset.rem_lst[idx_rem].SysOPset_order_index}\")\n",
    "\n",
    "        if hits:\n",
    "            print(\"\\n\\thits\")\n",
    "            for asg_op, ctd_op in hits:\n",
    "                print(f\"\\t{asg_op}, {ctd_op.getSentStr()}\")\n",
    "        if sys_hits:\n",
    "            print(\"\\n\\tsys_hits\")\n",
    "            for asg_op, ctd_op in sys_hits:\n",
    "                print(f\"\\t{asg_op}, {ctd_op.getSentStr()}\")\n",
    "\n",
    "        # print_mem_usage()\n",
    "        # del asg_OPset, ctd_OPset, hits, sys_hits\n",
    "    print(\"\\n\\nOperationPair that changes system resources:\\n\", sys_asg_OPset)\n",
    "\n",
    "    return fset"
   ]
  },
  {
   "cell_type": "code",
   "execution_count": 11,
   "metadata": {},
   "outputs": [],
   "source": [
    "def save_match_sent_to_excel(fset: FamilySet, sample_name=None):\n",
    "    columns = ['report','regex','matched word','sentence number','sentence']\n",
    "    if sample_name:\n",
    "        output_xlsx = f'{outputfolder}/{family}_{sample_name[:3]}_report_match_sent.csv'\n",
    "    else:\n",
    "        output_xlsx = f'{outputfolder}/{family}_union_report_match_sent.csv'\n",
    "    has_match = sum([len(rem.get_match_regexs()) for rem in fset.rem_lst])\n",
    "    if has_match == 0:\n",
    "        print('no matches in CTI reports') # with open 一定要寫入，若全空則直接不開檔\n",
    "        return\n",
    "    # with pd.ExcelWriter(output_xlsx, engine='openpyxl') as writer:\n",
    "    \n",
    "    # 遍歷報告，一個 rem: ReportEvalModel 代表一篇報告\n",
    "    csv_data = []\n",
    "    match_sentence_ttlcnt = 0\n",
    "    for rem in fset.rem_lst:\n",
    "        reportname = rem.reportname.split('.')[0]\n",
    "        if len(rem.get_match_regexs()) == 0: # 如果報告中無 regex 跳過不紀錄\n",
    "            continue\n",
    "        # sheet_data = [] # shape = columns_len * match_sent_len\n",
    "        sent_df = rem.get_match_sentences()\n",
    "        sent_content_lst = rem.sentences['Content'] # 報告中的每個句子\n",
    "        match_sentence_ttlcnt += sent_df['match'].sum()\n",
    "\n",
    "        # 遍歷每個含有 regex 的句子\n",
    "        for sid, row in sent_df.iterrows():\n",
    "            if row['match'] == 0:\n",
    "                continue\n",
    "            row.drop('match', inplace=True)\n",
    "            row = row[row > 0]\n",
    "            # print(row)\n",
    "            # 考量每個句子可能含有多個 regex，故需寫成多行\n",
    "            for i, v in row.items():\n",
    "                insert_data = dict().fromkeys(columns)\n",
    "                insert_data['report'] = reportname\n",
    "                insert_data['regex'] = i\n",
    "                insert_data['matched word'] = rem.get_match_word(sid, i)\n",
    "                insert_data['sentence number'] = sid + 1\n",
    "                insert_data['sentence'] = str(sent_content_lst[sid]).strip()\n",
    "                # sheet_data.append(insert_data)\n",
    "                csv_data.append(insert_data)\n",
    "    df = pd.DataFrame(csv_data)\n",
    "    # print(df)\n",
    "    df.to_csv(output_xlsx, index=False)\n",
    "\n",
    "            # 輸出 csv\n",
    "            \n",
    "            # 輸出 excel sheet\n",
    "            # print(rem.reportname,'has', len(sheet_data),'matches')\n",
    "            # output_sheet = pd.DataFrame(sheet_data)\n",
    "            # # output_sheet.style.set_properties(subset=['sentence'])\n",
    "            # styler = Styler(horizontal_alignment='left', vertical_alignment='top')\n",
    "            # sf = StyleFrame(output_sheet, styler)\n",
    "            # sf = sf.set_column_width(columns=['baseline'], width=20.0)\n",
    "            # sf = sf.set_column_width(columns=['sentence number'], width=15.0)\n",
    "            # sf = sf.set_column_width(columns=['sentence'], width=80.0)\n",
    "            # sf.to_excel(writer, sheet_name=rem.reportname, index=False) #.save()\n",
    "            # # output_sheet.to_excel(writer, sheet_name=rem.reportname, index=False)\n",
    "    return match_sentence_ttlcnt\n",
    "\n",
    "# 此行會執行並複寫 excel，執行完後要手動調整行距格式，小心使用\n"
   ]
  },
  {
   "cell_type": "code",
   "execution_count": 12,
   "metadata": {},
   "outputs": [
    {
     "name": "stdout",
     "output_type": "stream",
     "text": [
      "=== mem_usage: 189.52 MB ===\n",
      "asg_object: {'bin/sed', 'bin/', '/etc/init.d/', '/selinux', '/proc/', '^sh$', '\\\\d{1,3}\\\\.\\\\d{1,3}\\\\.\\\\d{1,3}\\\\.\\\\d{1,3}:\\\\d+', '/etc/sed', '/etc/rc', '^sed$', 'permission:{0,1}[0-9]{0,4}', '/sys/', '\\\\d{1,3}\\\\.\\\\d{1,3}\\\\.\\\\d{1,3}\\\\.\\\\d{1,3}'}\n",
      "\n",
      "\n",
      "Sample Dofloo-BleepingComputer.csv\n",
      "\tnum of segment in report: 15\n",
      "\tlenght of ctd's OPset is 0\n",
      "\t#R_malObj\n",
      "\tnum of ctd objects: 0, num of asg objects: 13. R_malObj is 0.0000\n",
      "\t\tctd_object: set()\n",
      "\t#R_malSysObj\n",
      "\tnum of ctd objects: 0, num of asg objects: 3. R_malSysObj is 0.0000\n",
      "\t\tlen(asg_OPset): 30, len(ctd_OPset): 0\n",
      "\t#R_malOps\n",
      "\tnum of matched asg op: 0, num of asg op: 30. R_malOps is 0.0000\n",
      "\t\trefered lifecycle: []\n",
      "\t\tsys_asg_OPset: [<OP15 act=fchown, obj=/etc/sed>, <OP14 act=write, obj=/etc/sed>, <OP16 act=fchmod, obj=/etc/sed>, <OP17 act=rename, obj=/etc/rc>]\n",
      "\t#R_malChangeOps\n",
      "\tnum of matched asg op: 0, num of asg op: 4. R_malChangeOps is 0.0000\n",
      "\t\tref-sys lifecycle: []\n",
      "\n",
      "Sample Dofloo-MalwareMustDie.csv\n",
      "\tnum of segment in report: 76\n",
      "\tlenght of ctd's OPset is 14\n",
      "\t#R_malObj\n",
      "\tnum of ctd objects: 2, num of asg objects: 13. R_malObj is 0.1538\n",
      "\t\tctd_object: {'^sed$', '\\\\d{1,3}\\\\.\\\\d{1,3}\\\\.\\\\d{1,3}\\\\.\\\\d{1,3}'}\n",
      "\t#R_malSysObj\n",
      "\tnum of ctd objects: 0, num of asg objects: 3. R_malSysObj is 0.0000\n",
      "\t\tlen(asg_OPset): 30, len(ctd_OPset): 14\n",
      "\t#R_malOps\n",
      "\tnum of matched asg op: 0, num of asg op: 30. R_malOps is 0.0000\n",
      "\t\trefered lifecycle: []\n",
      "\t\tsys_asg_OPset: [<OP15 act=fchown, obj=/etc/sed>, <OP14 act=write, obj=/etc/sed>, <OP16 act=fchmod, obj=/etc/sed>, <OP17 act=rename, obj=/etc/rc>]\n",
      "\t#R_malChangeOps\n",
      "\tnum of matched asg op: 0, num of asg op: 4. R_malChangeOps is 0.0000\n",
      "\t\tref-sys lifecycle: []\n",
      "\n",
      "Sample Dofloo-Securityaffairs.csv\n",
      "\tnum of segment in report: 13\n",
      "\tlenght of ctd's OPset is 4\n",
      "\t#R_malObj\n",
      "\tnum of ctd objects: 3, num of asg objects: 13. R_malObj is 0.2308\n",
      "\t\tctd_object: {'\\\\d{1,3}\\\\.\\\\d{1,3}\\\\.\\\\d{1,3}\\\\.\\\\d{1,3}:\\\\d+', '/etc/rc', '\\\\d{1,3}\\\\.\\\\d{1,3}\\\\.\\\\d{1,3}\\\\.\\\\d{1,3}'}\n",
      "\t#R_malSysObj\n",
      "\tnum of ctd objects: 1, num of asg objects: 3. R_malSysObj is 0.3333\n",
      "\t\tlen(asg_OPset): 30, len(ctd_OPset): 4\n",
      "\t#R_malOps\n",
      "\tnum of matched asg op: 3, num of asg op: 30. R_malOps is 0.1000\n",
      "\t\trefered lifecycle: [19, 18, 16]\n",
      "\t\tsys_asg_OPset: [<OP15 act=fchown, obj=/etc/sed>, <OP14 act=write, obj=/etc/sed>, <OP16 act=fchmod, obj=/etc/sed>, <OP17 act=rename, obj=/etc/rc>]\n",
      "\t#R_malChangeOps\n",
      "\tnum of matched asg op: 1, num of asg op: 4. R_malChangeOps is 0.2500\n",
      "\t\tref-sys lifecycle: [16]\n",
      "\n",
      "\thits\n",
      "\t<OP20 act=connect, obj=ip_addr>, <OP 1 act=connect, obj=23.224.59.34:48080, sent=the malware also connects to 23.224.59.34:48080 to send and receive remote shell commands from the attacker.>\n",
      "\t<OP19 act=connect, obj=ip_addr+port>, <OP 2 act=connect, obj=23.224.59.34:48080, sent=the malware also connects to 23.224.59.34:48080 to send and receive remote shell commands from the attacker.>\n",
      "\t<OP17 act=rename, obj=/etc/rc>, <OP 3 act=modify, obj=/etc/rc.local, sent=trend micro researchers also discovered that the latest variant of the aesddos bot can modify files i.e., /etc/rc.local and /etc/rc.d/rc.local, as an autostart technique by appending the {malware path}/{malware file name} reboot command.>\n",
      "\n",
      "\tsys_hits\n",
      "\t<OP17 act=rename, obj=/etc/rc>, <OP 3 act=modify, obj=/etc/rc.local, sent=trend micro researchers also discovered that the latest variant of the aesddos bot can modify files i.e., /etc/rc.local and /etc/rc.d/rc.local, as an autostart technique by appending the {malware path}/{malware file name} reboot command.>\n",
      "\n",
      "Sample Dofloo-SyscallParty.csv\n",
      "\tnum of segment in report: 96\n",
      "\tlenght of ctd's OPset is 11\n",
      "\t#R_malObj\n",
      "\tnum of ctd objects: 5, num of asg objects: 13. R_malObj is 0.3846\n",
      "\t\tctd_object: {'/etc/init.d/', '/proc/', '/etc/rc', '^sed$', '\\\\d{1,3}\\\\.\\\\d{1,3}\\\\.\\\\d{1,3}\\\\.\\\\d{1,3}'}\n",
      "\t#R_malSysObj\n",
      "\tnum of ctd objects: 2, num of asg objects: 3. R_malSysObj is 0.6667\n",
      "\t\tlen(asg_OPset): 30, len(ctd_OPset): 11\n",
      "\t#R_malOps\n",
      "\tnum of matched asg op: 7, num of asg op: 30. R_malOps is 0.2333\n",
      "\t\trefered lifecycle: [17, 0, 29, 26, 9, 16, 27]\n",
      "\t\tsys_asg_OPset: [<OP15 act=fchown, obj=/etc/sed>, <OP14 act=write, obj=/etc/sed>, <OP16 act=fchmod, obj=/etc/sed>, <OP17 act=rename, obj=/etc/rc>]\n",
      "\t#R_malChangeOps\n",
      "\tnum of matched asg op: 1, num of asg op: 4. R_malChangeOps is 0.2500\n",
      "\t\tref-sys lifecycle: [16]\n",
      "\n",
      "\thits\n",
      "\t<OP18 act=open, obj=/etc/init.d/>, <OP 4 act=add, obj=/etc/init.d/boot.local, sent=persistence persistence is achieved by the malware by adding to /etc/rc.local and the /etc/init.d/boot.local files (in the auto_boot function); however before it overwrites this file it first checks to see if it has already done so.>\n",
      "\t<OP 1 act=readlink, obj=/proc/>, <OP 8 act=read, obj=/proc/net/dev, sent=the way the malware gets information regarding the network adapter is reading the /proc/net/dev file.>\n",
      "\t<OP30 act=fstat64, obj=/proc/>, <OP 8 act=read, obj=/proc/net/dev, sent=the way the malware gets information regarding the network adapter is reading the /proc/net/dev file.>\n",
      "\t<OP27 act=open, obj=/proc/>, <OP11 act=open, obj=/proc/cpuinfo, sent=the virtual file /proc/cpuinfo is opened and read in words until an eof (-1) is hit whilst reading the file chunk by chunk — then fclose is called to free up the opened file.>\n",
      "\t<OP10 act=open, obj=/etc/rc>, <OP 3 act=add, obj=/etc/rc.local, sent=persistence persistence is achieved by the malware by adding to /etc/rc.local and the /etc/init.d/boot.local files (in the auto_boot function); however before it overwrites this file it first checks to see if it has already done so.>\n",
      "\t<OP17 act=rename, obj=/etc/rc>, <OP 7 act=format, obj=/etc/rc.local, sent=a string is formatted and the sed program is called which writes to the file in question (there are several string operations, such as sed -i -e '2 i%s/%s' /etc/rc.local is formatted for example).>\n",
      "\t<OP28 act=lseek, obj=/proc/>, <OP 8 act=read, obj=/proc/net/dev, sent=the way the malware gets information regarding the network adapter is reading the /proc/net/dev file.>\n",
      "\n",
      "\tsys_hits\n",
      "\t<OP17 act=rename, obj=/etc/rc>, <OP 7 act=format, obj=/etc/rc.local, sent=a string is formatted and the sed program is called which writes to the file in question (there are several string operations, such as sed -i -e '2 i%s/%s' /etc/rc.local is formatted for example).>\n",
      "\n",
      "Sample Dofloo-Trendmicro.csv\n",
      "\tnum of segment in report: 11\n",
      "\tlenght of ctd's OPset is 9\n",
      "\t#R_malObj\n",
      "\tnum of ctd objects: 5, num of asg objects: 13. R_malObj is 0.3846\n",
      "\t\tctd_object: {'/etc/init.d/', '/proc/', '/etc/rc', '^sed$', '/sys/'}\n",
      "\t#R_malSysObj\n",
      "\tnum of ctd objects: 2, num of asg objects: 3. R_malSysObj is 0.6667\n",
      "\t\tlen(asg_OPset): 30, len(ctd_OPset): 9\n",
      "\t#R_malOps\n",
      "\tnum of matched asg op: 3, num of asg op: 30. R_malOps is 0.1000\n",
      "\t\trefered lifecycle: [0, 29, 27]\n",
      "\t\tsys_asg_OPset: [<OP15 act=fchown, obj=/etc/sed>, <OP14 act=write, obj=/etc/sed>, <OP16 act=fchmod, obj=/etc/sed>, <OP17 act=rename, obj=/etc/rc>]\n",
      "\t#R_malChangeOps\n",
      "\tnum of matched asg op: 0, num of asg op: 4. R_malChangeOps is 0.0000\n",
      "\t\tref-sys lifecycle: []\n",
      "\n",
      "\thits\n",
      "\t<OP 1 act=readlink, obj=/proc/>, <OP 4 act=gather, obj=/proc/stat, sent= this backdoor gathers the following data:  cpu information memory statistics ip address of infected machine reads the following information from /proc: /proc/stat /proc/meminfo /proc/cpuinfo /proc/net/dev /proc/self/exe /proc/self/maps /proc/sys/vm/overcommit_memory /proc/sys/kernel/rtsig-max /proc/sys/kernel/ngroups_max /proc/sys/kernel/osrelease /proc/self/fd/%d/%s /proc/self/fd /proc/net other details >\n",
      "\t<OP30 act=fstat64, obj=/proc/>, <OP 4 act=gather, obj=/proc/stat, sent= this backdoor gathers the following data:  cpu information memory statistics ip address of infected machine reads the following information from /proc: /proc/stat /proc/meminfo /proc/cpuinfo /proc/net/dev /proc/self/exe /proc/self/maps /proc/sys/vm/overcommit_memory /proc/sys/kernel/rtsig-max /proc/sys/kernel/ngroups_max /proc/sys/kernel/osrelease /proc/self/fd/%d/%s /proc/self/fd /proc/net other details >\n",
      "\t<OP28 act=lseek, obj=/proc/>, <OP 4 act=gather, obj=/proc/stat, sent= this backdoor gathers the following data:  cpu information memory statistics ip address of infected machine reads the following information from /proc: /proc/stat /proc/meminfo /proc/cpuinfo /proc/net/dev /proc/self/exe /proc/self/maps /proc/sys/vm/overcommit_memory /proc/sys/kernel/rtsig-max /proc/sys/kernel/ngroups_max /proc/sys/kernel/osrelease /proc/self/fd/%d/%s /proc/self/fd /proc/net other details >\n",
      "\n",
      "\n",
      "OperationPair that changes system resources:\n",
      " [<OP15 act=fchown, obj=/etc/sed>, <OP14 act=write, obj=/etc/sed>, <OP16 act=fchmod, obj=/etc/sed>, <OP17 act=rename, obj=/etc/rc>]\n"
     ]
    }
   ],
   "source": [
    "for sample in samples:\n",
    "    # print(len(sample.OPset)) # 30\n",
    "    # print(len(sample.OPset_ordered)) # 30\n",
    "    # print(set(sample.OPset) - set(sample.OPset_ordered)) # 相減是空的set 都OK\n",
    "    fset = run_family_set_procedure(sample)\n",
    "    # match_sentence_ttlcnt = save_match_sent_to_excel(fset, sample.samplename)\n",
    "    # print(f'match_sentence_ttlcnt is {match_sentence_ttlcnt}\\n---\\n')"
   ]
  },
  {
   "attachments": {},
   "cell_type": "markdown",
   "metadata": {},
   "source": [
    "### Run Script: draw Lifecycle diagram\n",
    "- 兩個 traces (legend) 一般的 OP 和 ChangeSys OP。分兩個顏色，不重疊。\n",
    "- x: [a,a,a,a,b,b,b,c,c,c] 不同 report 的 step 可以放同一個 list，因為屬於同個 trace。"
   ]
  },
  {
   "cell_type": "code",
   "execution_count": 13,
   "metadata": {},
   "outputs": [
    {
     "name": "stdout",
     "output_type": "stream",
     "text": [
      "\n"
     ]
    },
    {
     "name": "stderr",
     "output_type": "stream",
     "text": [
      "c:\\Users\\luweb\\AppData\\Local\\Programs\\Python\\Python310\\lib\\site-packages\\plotly\\io\\_renderers.py:7: DeprecationWarning:\n",
      "\n",
      "The distutils package is deprecated and slated for removal in Python 3.12. Use setuptools or check PEP 632 for potential alternatives\n",
      "\n"
     ]
    },
    {
     "data": {
      "application/vnd.plotly.v1+json": {
       "config": {
        "plotlyServerURL": "https://plot.ly"
       },
       "data": [
        {
         "marker": {
          "color": "darkorange",
          "size": 12
         },
         "mode": "markers",
         "name": "Normal Operation Pair",
         "type": "scatter",
         "x": [
          20,
          19,
          18,
          1,
          30,
          27,
          10,
          28,
          1,
          30,
          28,
          1,
          2,
          3,
          4,
          5,
          6,
          7,
          8,
          9,
          11,
          19,
          20,
          21,
          22,
          23,
          24,
          25,
          26,
          27,
          28,
          29,
          30
         ],
         "y": [
          "Securityaffairs (3)",
          "Securityaffairs (3)",
          "SyscallParty (7)",
          "SyscallParty (7)",
          "SyscallParty (7)",
          "SyscallParty (7)",
          "SyscallParty (7)",
          "SyscallParty (7)",
          "Trendmicro (3)",
          "Trendmicro (3)",
          "Trendmicro (3)",
          "ASG (30)",
          "ASG (30)",
          "ASG (30)",
          "ASG (30)",
          "ASG (30)",
          "ASG (30)",
          "ASG (30)",
          "ASG (30)",
          "ASG (30)",
          "ASG (30)",
          "ASG (30)",
          "ASG (30)",
          "ASG (30)",
          "ASG (30)",
          "ASG (30)",
          "ASG (30)",
          "ASG (30)",
          "ASG (30)",
          "ASG (30)",
          "ASG (30)",
          "ASG (30)",
          "ASG (30)"
         ]
        },
        {
         "marker": {
          "color": "blue",
          "size": 12
         },
         "mode": "markers",
         "name": "Change SR Operation Pair",
         "type": "scatter",
         "x": [
          17,
          17,
          15,
          18,
          14,
          13,
          16,
          10,
          17,
          12
         ],
         "y": [
          "Securityaffairs (3)",
          "SyscallParty (7)",
          "ASG (30)",
          "ASG (30)",
          "ASG (30)",
          "ASG (30)",
          "ASG (30)",
          "ASG (30)",
          "ASG (30)",
          "ASG (30)"
         ]
        }
       ],
       "layout": {
        "template": {
         "data": {
          "bar": [
           {
            "error_x": {
             "color": "#2a3f5f"
            },
            "error_y": {
             "color": "#2a3f5f"
            },
            "marker": {
             "line": {
              "color": "#E5ECF6",
              "width": 0.5
             },
             "pattern": {
              "fillmode": "overlay",
              "size": 10,
              "solidity": 0.2
             }
            },
            "type": "bar"
           }
          ],
          "barpolar": [
           {
            "marker": {
             "line": {
              "color": "#E5ECF6",
              "width": 0.5
             },
             "pattern": {
              "fillmode": "overlay",
              "size": 10,
              "solidity": 0.2
             }
            },
            "type": "barpolar"
           }
          ],
          "carpet": [
           {
            "aaxis": {
             "endlinecolor": "#2a3f5f",
             "gridcolor": "white",
             "linecolor": "white",
             "minorgridcolor": "white",
             "startlinecolor": "#2a3f5f"
            },
            "baxis": {
             "endlinecolor": "#2a3f5f",
             "gridcolor": "white",
             "linecolor": "white",
             "minorgridcolor": "white",
             "startlinecolor": "#2a3f5f"
            },
            "type": "carpet"
           }
          ],
          "choropleth": [
           {
            "colorbar": {
             "outlinewidth": 0,
             "ticks": ""
            },
            "type": "choropleth"
           }
          ],
          "contour": [
           {
            "colorbar": {
             "outlinewidth": 0,
             "ticks": ""
            },
            "colorscale": [
             [
              0,
              "#0d0887"
             ],
             [
              0.1111111111111111,
              "#46039f"
             ],
             [
              0.2222222222222222,
              "#7201a8"
             ],
             [
              0.3333333333333333,
              "#9c179e"
             ],
             [
              0.4444444444444444,
              "#bd3786"
             ],
             [
              0.5555555555555556,
              "#d8576b"
             ],
             [
              0.6666666666666666,
              "#ed7953"
             ],
             [
              0.7777777777777778,
              "#fb9f3a"
             ],
             [
              0.8888888888888888,
              "#fdca26"
             ],
             [
              1,
              "#f0f921"
             ]
            ],
            "type": "contour"
           }
          ],
          "contourcarpet": [
           {
            "colorbar": {
             "outlinewidth": 0,
             "ticks": ""
            },
            "type": "contourcarpet"
           }
          ],
          "heatmap": [
           {
            "colorbar": {
             "outlinewidth": 0,
             "ticks": ""
            },
            "colorscale": [
             [
              0,
              "#0d0887"
             ],
             [
              0.1111111111111111,
              "#46039f"
             ],
             [
              0.2222222222222222,
              "#7201a8"
             ],
             [
              0.3333333333333333,
              "#9c179e"
             ],
             [
              0.4444444444444444,
              "#bd3786"
             ],
             [
              0.5555555555555556,
              "#d8576b"
             ],
             [
              0.6666666666666666,
              "#ed7953"
             ],
             [
              0.7777777777777778,
              "#fb9f3a"
             ],
             [
              0.8888888888888888,
              "#fdca26"
             ],
             [
              1,
              "#f0f921"
             ]
            ],
            "type": "heatmap"
           }
          ],
          "heatmapgl": [
           {
            "colorbar": {
             "outlinewidth": 0,
             "ticks": ""
            },
            "colorscale": [
             [
              0,
              "#0d0887"
             ],
             [
              0.1111111111111111,
              "#46039f"
             ],
             [
              0.2222222222222222,
              "#7201a8"
             ],
             [
              0.3333333333333333,
              "#9c179e"
             ],
             [
              0.4444444444444444,
              "#bd3786"
             ],
             [
              0.5555555555555556,
              "#d8576b"
             ],
             [
              0.6666666666666666,
              "#ed7953"
             ],
             [
              0.7777777777777778,
              "#fb9f3a"
             ],
             [
              0.8888888888888888,
              "#fdca26"
             ],
             [
              1,
              "#f0f921"
             ]
            ],
            "type": "heatmapgl"
           }
          ],
          "histogram": [
           {
            "marker": {
             "pattern": {
              "fillmode": "overlay",
              "size": 10,
              "solidity": 0.2
             }
            },
            "type": "histogram"
           }
          ],
          "histogram2d": [
           {
            "colorbar": {
             "outlinewidth": 0,
             "ticks": ""
            },
            "colorscale": [
             [
              0,
              "#0d0887"
             ],
             [
              0.1111111111111111,
              "#46039f"
             ],
             [
              0.2222222222222222,
              "#7201a8"
             ],
             [
              0.3333333333333333,
              "#9c179e"
             ],
             [
              0.4444444444444444,
              "#bd3786"
             ],
             [
              0.5555555555555556,
              "#d8576b"
             ],
             [
              0.6666666666666666,
              "#ed7953"
             ],
             [
              0.7777777777777778,
              "#fb9f3a"
             ],
             [
              0.8888888888888888,
              "#fdca26"
             ],
             [
              1,
              "#f0f921"
             ]
            ],
            "type": "histogram2d"
           }
          ],
          "histogram2dcontour": [
           {
            "colorbar": {
             "outlinewidth": 0,
             "ticks": ""
            },
            "colorscale": [
             [
              0,
              "#0d0887"
             ],
             [
              0.1111111111111111,
              "#46039f"
             ],
             [
              0.2222222222222222,
              "#7201a8"
             ],
             [
              0.3333333333333333,
              "#9c179e"
             ],
             [
              0.4444444444444444,
              "#bd3786"
             ],
             [
              0.5555555555555556,
              "#d8576b"
             ],
             [
              0.6666666666666666,
              "#ed7953"
             ],
             [
              0.7777777777777778,
              "#fb9f3a"
             ],
             [
              0.8888888888888888,
              "#fdca26"
             ],
             [
              1,
              "#f0f921"
             ]
            ],
            "type": "histogram2dcontour"
           }
          ],
          "mesh3d": [
           {
            "colorbar": {
             "outlinewidth": 0,
             "ticks": ""
            },
            "type": "mesh3d"
           }
          ],
          "parcoords": [
           {
            "line": {
             "colorbar": {
              "outlinewidth": 0,
              "ticks": ""
             }
            },
            "type": "parcoords"
           }
          ],
          "pie": [
           {
            "automargin": true,
            "type": "pie"
           }
          ],
          "scatter": [
           {
            "fillpattern": {
             "fillmode": "overlay",
             "size": 10,
             "solidity": 0.2
            },
            "type": "scatter"
           }
          ],
          "scatter3d": [
           {
            "line": {
             "colorbar": {
              "outlinewidth": 0,
              "ticks": ""
             }
            },
            "marker": {
             "colorbar": {
              "outlinewidth": 0,
              "ticks": ""
             }
            },
            "type": "scatter3d"
           }
          ],
          "scattercarpet": [
           {
            "marker": {
             "colorbar": {
              "outlinewidth": 0,
              "ticks": ""
             }
            },
            "type": "scattercarpet"
           }
          ],
          "scattergeo": [
           {
            "marker": {
             "colorbar": {
              "outlinewidth": 0,
              "ticks": ""
             }
            },
            "type": "scattergeo"
           }
          ],
          "scattergl": [
           {
            "marker": {
             "colorbar": {
              "outlinewidth": 0,
              "ticks": ""
             }
            },
            "type": "scattergl"
           }
          ],
          "scattermapbox": [
           {
            "marker": {
             "colorbar": {
              "outlinewidth": 0,
              "ticks": ""
             }
            },
            "type": "scattermapbox"
           }
          ],
          "scatterpolar": [
           {
            "marker": {
             "colorbar": {
              "outlinewidth": 0,
              "ticks": ""
             }
            },
            "type": "scatterpolar"
           }
          ],
          "scatterpolargl": [
           {
            "marker": {
             "colorbar": {
              "outlinewidth": 0,
              "ticks": ""
             }
            },
            "type": "scatterpolargl"
           }
          ],
          "scatterternary": [
           {
            "marker": {
             "colorbar": {
              "outlinewidth": 0,
              "ticks": ""
             }
            },
            "type": "scatterternary"
           }
          ],
          "surface": [
           {
            "colorbar": {
             "outlinewidth": 0,
             "ticks": ""
            },
            "colorscale": [
             [
              0,
              "#0d0887"
             ],
             [
              0.1111111111111111,
              "#46039f"
             ],
             [
              0.2222222222222222,
              "#7201a8"
             ],
             [
              0.3333333333333333,
              "#9c179e"
             ],
             [
              0.4444444444444444,
              "#bd3786"
             ],
             [
              0.5555555555555556,
              "#d8576b"
             ],
             [
              0.6666666666666666,
              "#ed7953"
             ],
             [
              0.7777777777777778,
              "#fb9f3a"
             ],
             [
              0.8888888888888888,
              "#fdca26"
             ],
             [
              1,
              "#f0f921"
             ]
            ],
            "type": "surface"
           }
          ],
          "table": [
           {
            "cells": {
             "fill": {
              "color": "#EBF0F8"
             },
             "line": {
              "color": "white"
             }
            },
            "header": {
             "fill": {
              "color": "#C8D4E3"
             },
             "line": {
              "color": "white"
             }
            },
            "type": "table"
           }
          ]
         },
         "layout": {
          "annotationdefaults": {
           "arrowcolor": "#2a3f5f",
           "arrowhead": 0,
           "arrowwidth": 1
          },
          "autotypenumbers": "strict",
          "coloraxis": {
           "colorbar": {
            "outlinewidth": 0,
            "ticks": ""
           }
          },
          "colorscale": {
           "diverging": [
            [
             0,
             "#8e0152"
            ],
            [
             0.1,
             "#c51b7d"
            ],
            [
             0.2,
             "#de77ae"
            ],
            [
             0.3,
             "#f1b6da"
            ],
            [
             0.4,
             "#fde0ef"
            ],
            [
             0.5,
             "#f7f7f7"
            ],
            [
             0.6,
             "#e6f5d0"
            ],
            [
             0.7,
             "#b8e186"
            ],
            [
             0.8,
             "#7fbc41"
            ],
            [
             0.9,
             "#4d9221"
            ],
            [
             1,
             "#276419"
            ]
           ],
           "sequential": [
            [
             0,
             "#0d0887"
            ],
            [
             0.1111111111111111,
             "#46039f"
            ],
            [
             0.2222222222222222,
             "#7201a8"
            ],
            [
             0.3333333333333333,
             "#9c179e"
            ],
            [
             0.4444444444444444,
             "#bd3786"
            ],
            [
             0.5555555555555556,
             "#d8576b"
            ],
            [
             0.6666666666666666,
             "#ed7953"
            ],
            [
             0.7777777777777778,
             "#fb9f3a"
            ],
            [
             0.8888888888888888,
             "#fdca26"
            ],
            [
             1,
             "#f0f921"
            ]
           ],
           "sequentialminus": [
            [
             0,
             "#0d0887"
            ],
            [
             0.1111111111111111,
             "#46039f"
            ],
            [
             0.2222222222222222,
             "#7201a8"
            ],
            [
             0.3333333333333333,
             "#9c179e"
            ],
            [
             0.4444444444444444,
             "#bd3786"
            ],
            [
             0.5555555555555556,
             "#d8576b"
            ],
            [
             0.6666666666666666,
             "#ed7953"
            ],
            [
             0.7777777777777778,
             "#fb9f3a"
            ],
            [
             0.8888888888888888,
             "#fdca26"
            ],
            [
             1,
             "#f0f921"
            ]
           ]
          },
          "colorway": [
           "#636efa",
           "#EF553B",
           "#00cc96",
           "#ab63fa",
           "#FFA15A",
           "#19d3f3",
           "#FF6692",
           "#B6E880",
           "#FF97FF",
           "#FECB52"
          ],
          "font": {
           "color": "#2a3f5f"
          },
          "geo": {
           "bgcolor": "white",
           "lakecolor": "white",
           "landcolor": "#E5ECF6",
           "showlakes": true,
           "showland": true,
           "subunitcolor": "white"
          },
          "hoverlabel": {
           "align": "left"
          },
          "hovermode": "closest",
          "mapbox": {
           "style": "light"
          },
          "paper_bgcolor": "white",
          "plot_bgcolor": "#E5ECF6",
          "polar": {
           "angularaxis": {
            "gridcolor": "white",
            "linecolor": "white",
            "ticks": ""
           },
           "bgcolor": "#E5ECF6",
           "radialaxis": {
            "gridcolor": "white",
            "linecolor": "white",
            "ticks": ""
           }
          },
          "scene": {
           "xaxis": {
            "backgroundcolor": "#E5ECF6",
            "gridcolor": "white",
            "gridwidth": 2,
            "linecolor": "white",
            "showbackground": true,
            "ticks": "",
            "zerolinecolor": "white"
           },
           "yaxis": {
            "backgroundcolor": "#E5ECF6",
            "gridcolor": "white",
            "gridwidth": 2,
            "linecolor": "white",
            "showbackground": true,
            "ticks": "",
            "zerolinecolor": "white"
           },
           "zaxis": {
            "backgroundcolor": "#E5ECF6",
            "gridcolor": "white",
            "gridwidth": 2,
            "linecolor": "white",
            "showbackground": true,
            "ticks": "",
            "zerolinecolor": "white"
           }
          },
          "shapedefaults": {
           "line": {
            "color": "#2a3f5f"
           }
          },
          "ternary": {
           "aaxis": {
            "gridcolor": "white",
            "linecolor": "white",
            "ticks": ""
           },
           "baxis": {
            "gridcolor": "white",
            "linecolor": "white",
            "ticks": ""
           },
           "bgcolor": "#E5ECF6",
           "caxis": {
            "gridcolor": "white",
            "linecolor": "white",
            "ticks": ""
           }
          },
          "title": {
           "x": 0.05
          },
          "xaxis": {
           "automargin": true,
           "gridcolor": "white",
           "linecolor": "white",
           "ticks": "",
           "title": {
            "standoff": 15
           },
           "zerolinecolor": "white",
           "zerolinewidth": 2
          },
          "yaxis": {
           "automargin": true,
           "gridcolor": "white",
           "linecolor": "white",
           "ticks": "",
           "title": {
            "standoff": 15
           },
           "zerolinecolor": "white",
           "zerolinewidth": 2
          }
         }
        },
        "title": {
         "text": "Lifecycle Diagram of Attack Behavior in Document (Dofloo)"
        },
        "xaxis": {
         "title": {
          "text": "ASG Operation Pair (in steps)"
         }
        },
        "yaxis": {
         "title": {
          "text": "Malware Document"
         }
        }
       }
      }
     },
     "metadata": {},
     "output_type": "display_data"
    }
   ],
   "source": [
    "# import plotly.express as px\n",
    "import plotly.graph_objects as go\n",
    "\n",
    "def symmetric_difference(list1: list, list2: list) -> list:\n",
    "    ''' return list1 - list2. '''\n",
    "    s = set(list2)\n",
    "    temp3 = [x for x in list1 if x not in s]\n",
    "    return temp3\n",
    "\n",
    "def draw_lifecycle(fset:FamilySet):\n",
    "    familname = fset.familyname\n",
    "    # reportnames = [rem.reportname for rem in fset.rem_lst if len(rem.match_regex)]\n",
    "\n",
    "    fig = go.Figure()\n",
    "    x, y = [], []\n",
    "    x_sys, y_sys = [], []\n",
    "    for i, rem in enumerate(fset.rem_lst):\n",
    "        if len(rem.OPset_order_index) == 0:\n",
    "            continue\n",
    "\n",
    "        numOfDot = len(rem.OPset_order_index)\n",
    "        reportname = rem.reportname.split('.')[0]\n",
    "        reportname = reportname.split('-')[1]\n",
    "        reportname += f' ({numOfDot})'\n",
    "        x_sys.extend(rem.SysOPset_order_index) # 改變系統環境的 OP\n",
    "        y_sys.extend([reportname] * len(rem.SysOPset_order_index))\n",
    "        current_x_normal = symmetric_difference(rem.OPset_order_index, rem.SysOPset_order_index) # 一般的/其餘的 OP\n",
    "        # print(reportname, 'numOfDot', numOfDot, 'rem.OPset_order_index', rem.OPset_order_index)\n",
    "        # print('x_normal', current_x_normal, 'x_sys', rem.SysOPset_order_index)\n",
    "        x.extend(current_x_normal)\n",
    "        y.extend([reportname] * len(current_x_normal))\n",
    "        pass\n",
    "    # todo: add baseline's lifecycle\n",
    "    print()\n",
    "    rowname = f'ASG ({len(fset.sample.OPset)})'\n",
    "    current_x_system = fset.sample.OPset_sysOnly_ordered_index\n",
    "    current_x_normal = symmetric_difference(list(range(len(fset.sample.OPset))), current_x_system) # all steps - sysobj steps\n",
    "    x_sys.extend(current_x_system)\n",
    "    y_sys.extend([rowname] * len(current_x_system)) \n",
    "    x.extend(current_x_normal)\n",
    "    y.extend([rowname] * len(current_x_normal))\n",
    "    # print(rowname, len(fset.sample.OPset), len(current_x_system), len(current_x_normal))\n",
    "    \n",
    "    # normal OPs\n",
    "    x = [idx+1 for idx in x] # add 1 to each asg index\n",
    "    fig.add_trace(go.Scatter(\n",
    "        x=x,\n",
    "        y=y,\n",
    "        marker=dict(color=\"darkorange\", size=12),\n",
    "        mode=\"markers\",\n",
    "        name=\"Normal Operation Pair\",\n",
    "    ))\n",
    "\n",
    "    # changeSysObj OPs\n",
    "    x_sys = x = [idx+1 for idx in x_sys]\n",
    "    fig.add_trace(go.Scatter(\n",
    "        x=x_sys,\n",
    "        y=y_sys,\n",
    "        marker=dict(color=\"blue\", size=12),\n",
    "        mode=\"markers\",\n",
    "        name=\"Change SR Operation Pair\",\n",
    "    ))\n",
    "\n",
    "    fig.update_layout(title=f\"Lifecycle Diagram of Attack Behavior in Document ({familname})\",\n",
    "                    xaxis_title=\"ASG Operation Pair (in steps)\",\n",
    "                    yaxis_title=\"Malware Document\")\n",
    "    fig.show()\n",
    "    pass\n",
    "\n",
    "draw_lifecycle(fset)"
   ]
  },
  {
   "attachments": {},
   "cell_type": "markdown",
   "metadata": {},
   "source": [
    "### Run Script: draw ASG & CTD's OP graph\n",
    "- 完整的 ASG OPset graph\n",
    "- 每篇報告的 CTD OPset (完整和matched兩種)，以及對應部分的 ASG。"
   ]
  },
  {
   "cell_type": "code",
   "execution_count": 14,
   "metadata": {},
   "outputs": [
    {
     "data": {
      "text/plain": [
       "['b', 'c', 'd']"
      ]
     },
     "execution_count": 14,
     "metadata": {},
     "output_type": "execute_result"
    }
   ],
   "source": [
    "a = [1,2,3]\n",
    "b = ['a','b','c','d','e']\n",
    "[b[i] for i in a]"
   ]
  },
  {
   "cell_type": "code",
   "execution_count": 15,
   "metadata": {},
   "outputs": [
    {
     "data": {
      "image/svg+xml": "<?xml version=\"1.0\" encoding=\"UTF-8\" standalone=\"no\"?>\n<!DOCTYPE svg PUBLIC \"-//W3C//DTD SVG 1.1//EN\"\n \"http://www.w3.org/Graphics/SVG/1.1/DTD/svg11.dtd\">\n<!-- Generated by graphviz version 6.0.1 (20220911.1526)\n -->\n<!-- Title: Dofloo_asg_OPset Pages: 1 -->\n<svg width=\"2161pt\" height=\"291pt\"\n viewBox=\"0.00 0.00 2160.85 291.00\" xmlns=\"http://www.w3.org/2000/svg\" xmlns:xlink=\"http://www.w3.org/1999/xlink\">\n<g id=\"graph0\" class=\"graph\" transform=\"scale(1 1) rotate(0) translate(4 287)\">\n<title>Dofloo_asg_OPset</title>\n<polygon fill=\"white\" stroke=\"none\" points=\"-4,4 -4,-287 2156.85,-287 2156.85,4 -4,4\"/>\n<!-- Start -->\n<g id=\"node1\" class=\"node\">\n<title>Start</title>\n<ellipse fill=\"none\" stroke=\"black\" cx=\"972.85\" cy=\"-265\" rx=\"77.19\" ry=\"18\"/>\n<text text-anchor=\"middle\" x=\"972.85\" y=\"-261.3\" font-family=\"Times New Roman,serif\" font-size=\"14.00\">Malware (Subject)</text>\n</g>\n<!-- 1 -->\n<g id=\"node2\" class=\"node\">\n<title>1</title>\n<ellipse fill=\"none\" stroke=\"black\" cx=\"31.85\" cy=\"-178\" rx=\"31.7\" ry=\"18\"/>\n<text text-anchor=\"middle\" x=\"31.85\" y=\"-174.3\" font-family=\"Times New Roman,serif\" font-size=\"14.00\">^sed$</text>\n</g>\n<!-- Start&#45;&gt;1 -->\n<g id=\"edge1\" class=\"edge\">\n<title>Start&#45;&gt;1</title>\n<path fill=\"none\" stroke=\"black\" d=\"M895.37,-263.57C678.29,-262.05 77.75,-255.45 44.85,-229 37.99,-223.49 34.48,-214.86 32.76,-206.31\"/>\n<polygon fill=\"black\" stroke=\"black\" points=\"36.19,-205.6 31.44,-196.13 29.25,-206.5 36.19,-205.6\"/>\n<text text-anchor=\"middle\" x=\"63.35\" y=\"-217.8\" font-family=\"Times New Roman,serif\" font-size=\"14.00\">6.exec</text>\n</g>\n<!-- 2 -->\n<g id=\"node3\" class=\"node\">\n<title>2</title>\n<ellipse fill=\"none\" stroke=\"black\" cx=\"242.85\" cy=\"-178\" rx=\"38.99\" ry=\"18\"/>\n<text text-anchor=\"middle\" x=\"242.85\" y=\"-174.3\" font-family=\"Times New Roman,serif\" font-size=\"14.00\">/etc/sed</text>\n</g>\n<!-- Start&#45;&gt;2 -->\n<g id=\"edge2\" class=\"edge\">\n<title>Start&#45;&gt;2</title>\n<path fill=\"none\" stroke=\"black\" d=\"M895.68,-263.8C686.15,-262.87 120.44,-257.71 92.85,-229 60.26,-195.09 138.48,-184.17 193.79,-180.66\"/>\n<polygon fill=\"black\" stroke=\"black\" points=\"194.03,-184.15 203.81,-180.09 193.63,-177.17 194.03,-184.15\"/>\n<text text-anchor=\"middle\" x=\"122.85\" y=\"-217.8\" font-family=\"Times New Roman,serif\" font-size=\"14.00\">15.fchown</text>\n</g>\n<!-- Start&#45;&gt;2 -->\n<g id=\"edge3\" class=\"edge\">\n<title>Start&#45;&gt;2</title>\n<path fill=\"none\" stroke=\"black\" d=\"M895.63,-263.46C700.34,-261.71 200.48,-254.73 175.85,-229 162.47,-215.03 181.18,-202.05 202.2,-192.82\"/>\n<polygon fill=\"black\" stroke=\"black\" points=\"203.65,-196.01 211.58,-188.98 201,-189.53 203.65,-196.01\"/>\n<text text-anchor=\"middle\" x=\"198.35\" y=\"-217.8\" font-family=\"Times New Roman,serif\" font-size=\"14.00\">14.write</text>\n</g>\n<!-- Start&#45;&gt;2 -->\n<g id=\"edge4\" class=\"edge\">\n<title>Start&#45;&gt;2</title>\n<path fill=\"none\" stroke=\"black\" d=\"M895.6,-263.09C712.62,-260.57 266.29,-252.08 243.85,-229 238.06,-223.05 236.46,-214.57 236.72,-206.27\"/>\n<polygon fill=\"black\" stroke=\"black\" points=\"240.23,-206.41 237.87,-196.08 233.27,-205.62 240.23,-206.41\"/>\n<text text-anchor=\"middle\" x=\"264.85\" y=\"-217.8\" font-family=\"Times New Roman,serif\" font-size=\"14.00\">13.fstat</text>\n</g>\n<!-- Start&#45;&gt;2 -->\n<g id=\"edge5\" class=\"edge\">\n<title>Start&#45;&gt;2</title>\n<path fill=\"none\" stroke=\"black\" d=\"M896.16,-262.49C733.17,-258.9 362.72,-248.69 308.85,-229 304.25,-227.32 285.85,-213.26 269.64,-200.48\"/>\n<polygon fill=\"black\" stroke=\"black\" points=\"271.46,-197.46 261.45,-193.99 267.11,-202.94 271.46,-197.46\"/>\n<text text-anchor=\"middle\" x=\"339.35\" y=\"-217.8\" font-family=\"Times New Roman,serif\" font-size=\"14.00\">16.fchmod</text>\n</g>\n<!-- Start&#45;&gt;2 -->\n<g id=\"edge6\" class=\"edge\">\n<title>Start&#45;&gt;2</title>\n<path fill=\"none\" stroke=\"black\" d=\"M896.31,-262.13C764.37,-258.44 499.55,-248.77 408.85,-229 390.7,-225.05 387.49,-219.81 369.85,-214 342.35,-204.95 311,-196.29 286.33,-189.85\"/>\n<polygon fill=\"black\" stroke=\"black\" points=\"287.1,-186.44 276.54,-187.32 285.35,-193.21 287.1,-186.44\"/>\n<text text-anchor=\"middle\" x=\"430.35\" y=\"-217.8\" font-family=\"Times New Roman,serif\" font-size=\"14.00\">12.fcntl</text>\n</g>\n<!-- 3 -->\n<g id=\"node4\" class=\"node\">\n<title>3</title>\n<ellipse fill=\"none\" stroke=\"black\" cx=\"487.85\" cy=\"-178\" rx=\"27.9\" ry=\"18\"/>\n<text text-anchor=\"middle\" x=\"487.85\" y=\"-174.3\" font-family=\"Times New Roman,serif\" font-size=\"14.00\">/sys/</text>\n</g>\n<!-- Start&#45;&gt;3 -->\n<g id=\"edge7\" class=\"edge\">\n<title>Start&#45;&gt;3</title>\n<path fill=\"none\" stroke=\"black\" d=\"M895.37,-264.41C759.06,-264.32 487.96,-260.17 458.85,-229 451.03,-220.64 455.94,-209.8 463.78,-200.35\"/>\n<polygon fill=\"black\" stroke=\"black\" points=\"466.55,-202.52 470.85,-192.83 461.45,-197.73 466.55,-202.52\"/>\n<text text-anchor=\"middle\" x=\"479.35\" y=\"-217.8\" font-family=\"Times New Roman,serif\" font-size=\"14.00\">8.statfs</text>\n</g>\n<!-- Start&#45;&gt;3 -->\n<g id=\"edge8\" class=\"edge\">\n<title>Start&#45;&gt;3</title>\n<path fill=\"none\" stroke=\"black\" d=\"M896.44,-261.6C776.5,-257.3 554.4,-247.02 522.85,-229 513.05,-223.4 505.34,-213.81 499.69,-204.51\"/>\n<polygon fill=\"black\" stroke=\"black\" points=\"502.6,-202.55 494.71,-195.48 496.47,-205.92 502.6,-202.55\"/>\n<text text-anchor=\"middle\" x=\"545.85\" y=\"-217.8\" font-family=\"Times New Roman,serif\" font-size=\"14.00\">29.open</text>\n</g>\n<!-- 4 -->\n<g id=\"node5\" class=\"node\">\n<title>4</title>\n<ellipse fill=\"none\" stroke=\"black\" cx=\"561.85\" cy=\"-91\" rx=\"37.09\" ry=\"18\"/>\n<text text-anchor=\"middle\" x=\"561.85\" y=\"-87.3\" font-family=\"Times New Roman,serif\" font-size=\"14.00\">bin/sed</text>\n</g>\n<!-- Start&#45;&gt;4 -->\n<g id=\"edge9\" class=\"edge\">\n<title>Start&#45;&gt;4</title>\n<path fill=\"none\" stroke=\"black\" d=\"M897.32,-261C794.57,-256.32 620.72,-245.99 596.85,-229 562.7,-204.7 558.53,-151.89 559.54,-119.4\"/>\n<polygon fill=\"black\" stroke=\"black\" points=\"563.05,-119.39 560.05,-109.23 556.06,-119.04 563.05,-119.39\"/>\n<text text-anchor=\"middle\" x=\"587.35\" y=\"-174.3\" font-family=\"Times New Roman,serif\" font-size=\"14.00\">4.stat</text>\n</g>\n<!-- 5 -->\n<g id=\"node6\" class=\"node\">\n<title>5</title>\n<ellipse fill=\"none\" stroke=\"black\" cx=\"626.85\" cy=\"-18\" rx=\"46.59\" ry=\"18\"/>\n<text text-anchor=\"middle\" x=\"626.85\" y=\"-14.3\" font-family=\"Times New Roman,serif\" font-size=\"14.00\">/etc/init.d/</text>\n</g>\n<!-- Start&#45;&gt;5 -->\n<g id=\"edge10\" class=\"edge\">\n<title>Start&#45;&gt;5</title>\n<path fill=\"none\" stroke=\"black\" d=\"M896.76,-261.38C802.04,-257.34 650.46,-247.97 632.85,-229 608.92,-203.23 617.64,-97.11 623.39,-46.33\"/>\n<polygon fill=\"black\" stroke=\"black\" points=\"626.9,-46.44 624.6,-36.1 619.95,-45.62 626.9,-46.44\"/>\n<text text-anchor=\"middle\" x=\"640.85\" y=\"-130.8\" font-family=\"Times New Roman,serif\" font-size=\"14.00\">18.open</text>\n</g>\n<!-- 6 -->\n<g id=\"node7\" class=\"node\">\n<title>6</title>\n<ellipse fill=\"none\" stroke=\"black\" cx=\"757.85\" cy=\"-178\" rx=\"32.49\" ry=\"18\"/>\n<text text-anchor=\"middle\" x=\"757.85\" y=\"-174.3\" font-family=\"Times New Roman,serif\" font-size=\"14.00\">/proc/</text>\n</g>\n<!-- Start&#45;&gt;6 -->\n<g id=\"edge11\" class=\"edge\">\n<title>Start&#45;&gt;6</title>\n<path fill=\"none\" stroke=\"black\" d=\"M897.1,-261.24C804.69,-257.09 658.61,-247.63 641.85,-229 617.52,-201.97 673.38,-188.98 715.76,-183.18\"/>\n<polygon fill=\"black\" stroke=\"black\" points=\"716.43,-186.62 725.91,-181.89 715.55,-179.68 716.43,-186.62\"/>\n<text text-anchor=\"middle\" x=\"669.35\" y=\"-217.8\" font-family=\"Times New Roman,serif\" font-size=\"14.00\">1.readlink</text>\n</g>\n<!-- Start&#45;&gt;6 -->\n<g id=\"edge12\" class=\"edge\">\n<title>Start&#45;&gt;6</title>\n<path fill=\"none\" stroke=\"black\" d=\"M895.36,-264.03C829.56,-262.2 742.31,-254.79 719.85,-229 711.43,-219.34 718.75,-208.02 729.12,-198.59\"/>\n<polygon fill=\"black\" stroke=\"black\" points=\"731.51,-201.16 737.04,-192.11 727.08,-195.74 731.51,-201.16\"/>\n<text text-anchor=\"middle\" x=\"747.35\" y=\"-217.8\" font-family=\"Times New Roman,serif\" font-size=\"14.00\">30.fstat64</text>\n</g>\n<!-- Start&#45;&gt;6 -->\n<g id=\"edge13\" class=\"edge\">\n<title>Start&#45;&gt;6</title>\n<path fill=\"none\" stroke=\"black\" d=\"M897.6,-260.42C865.02,-256.08 827.62,-247.12 797.85,-229 787.77,-222.87 779.18,-213.23 772.57,-204.05\"/>\n<polygon fill=\"black\" stroke=\"black\" points=\"775.32,-201.87 766.85,-195.51 769.51,-205.77 775.32,-201.87\"/>\n<text text-anchor=\"middle\" x=\"820.85\" y=\"-217.8\" font-family=\"Times New Roman,serif\" font-size=\"14.00\">27.open</text>\n</g>\n<!-- Start&#45;&gt;6 -->\n<g id=\"edge14\" class=\"edge\">\n<title>Start&#45;&gt;6</title>\n<path fill=\"none\" stroke=\"black\" d=\"M934.72,-249.26C918.69,-243.05 899.85,-235.71 882.85,-229 852.52,-217.04 818.13,-203.27 793.11,-193.21\"/>\n<polygon fill=\"black\" stroke=\"black\" points=\"794.26,-189.9 783.67,-189.41 791.65,-196.39 794.26,-189.9\"/>\n<text text-anchor=\"middle\" x=\"905.85\" y=\"-217.8\" font-family=\"Times New Roman,serif\" font-size=\"14.00\">28.lseek</text>\n</g>\n<!-- 7 -->\n<g id=\"node8\" class=\"node\">\n<title>7</title>\n<ellipse fill=\"none\" stroke=\"black\" cx=\"934.85\" cy=\"-178\" rx=\"61.99\" ry=\"18\"/>\n<text text-anchor=\"middle\" x=\"934.85\" y=\"-174.3\" font-family=\"Times New Roman,serif\" font-size=\"14.00\">permission_id</text>\n</g>\n<!-- Start&#45;&gt;7 -->\n<g id=\"edge15\" class=\"edge\">\n<title>Start&#45;&gt;7</title>\n<path fill=\"none\" stroke=\"black\" d=\"M950.03,-247.76C944.35,-242.48 939,-236.12 935.85,-229 932.79,-222.09 931.7,-214.11 931.58,-206.57\"/>\n<polygon fill=\"black\" stroke=\"black\" points=\"935.09,-206.5 931.97,-196.38 928.09,-206.24 935.09,-206.5\"/>\n<text text-anchor=\"middle\" x=\"962.85\" y=\"-217.8\" font-family=\"Times New Roman,serif\" font-size=\"14.00\">11.umask</text>\n</g>\n<!-- 8 -->\n<g id=\"node9\" class=\"node\">\n<title>8</title>\n<ellipse fill=\"none\" stroke=\"black\" cx=\"1068.85\" cy=\"-178\" rx=\"38.19\" ry=\"18\"/>\n<text text-anchor=\"middle\" x=\"1068.85\" y=\"-174.3\" font-family=\"Times New Roman,serif\" font-size=\"14.00\">/selinux</text>\n</g>\n<!-- Start&#45;&gt;8 -->\n<g id=\"edge16\" class=\"edge\">\n<title>Start&#45;&gt;8</title>\n<path fill=\"none\" stroke=\"black\" d=\"M984.2,-247.04C991.59,-236.74 1001.89,-223.76 1012.85,-214 1019.69,-207.91 1027.72,-202.21 1035.53,-197.25\"/>\n<polygon fill=\"black\" stroke=\"black\" points=\"1037.45,-200.18 1044.17,-191.99 1033.81,-194.2 1037.45,-200.18\"/>\n<text text-anchor=\"middle\" x=\"1037.35\" y=\"-217.8\" font-family=\"Times New Roman,serif\" font-size=\"14.00\">9.access</text>\n</g>\n<!-- Start&#45;&gt;8 -->\n<g id=\"edge17\" class=\"edge\">\n<title>Start&#45;&gt;8</title>\n<path fill=\"none\" stroke=\"black\" d=\"M1028.62,-252.29C1041.26,-247.13 1053.42,-239.69 1061.85,-229 1066.83,-222.68 1069.14,-214.47 1070.05,-206.53\"/>\n<polygon fill=\"black\" stroke=\"black\" points=\"1073.55,-206.6 1070.55,-196.43 1066.56,-206.25 1073.55,-206.6\"/>\n<text text-anchor=\"middle\" x=\"1089.35\" y=\"-217.8\" font-family=\"Times New Roman,serif\" font-size=\"14.00\">7.statfs</text>\n</g>\n<!-- 9 -->\n<g id=\"node10\" class=\"node\">\n<title>9</title>\n<ellipse fill=\"none\" stroke=\"black\" cx=\"1266.85\" cy=\"-178\" rx=\"38.99\" ry=\"18\"/>\n<text text-anchor=\"middle\" x=\"1266.85\" y=\"-174.3\" font-family=\"Times New Roman,serif\" font-size=\"14.00\">ip_addr</text>\n</g>\n<!-- Start&#45;&gt;9 -->\n<g id=\"edge18\" class=\"edge\">\n<title>Start&#45;&gt;9</title>\n<path fill=\"none\" stroke=\"black\" d=\"M1028.35,-252.41C1054.56,-246.38 1086.11,-238.32 1113.85,-229 1129.89,-223.61 1132.93,-219.75 1148.85,-214 1173.33,-205.16 1201.24,-196.8 1223.77,-190.48\"/>\n<polygon fill=\"black\" stroke=\"black\" points=\"1225.01,-193.76 1233.71,-187.72 1223.13,-187.02 1225.01,-193.76\"/>\n<text text-anchor=\"middle\" x=\"1176.35\" y=\"-217.8\" font-family=\"Times New Roman,serif\" font-size=\"14.00\">24.fstat64</text>\n</g>\n<!-- Start&#45;&gt;9 -->\n<g id=\"edge19\" class=\"edge\">\n<title>Start&#45;&gt;9</title>\n<path fill=\"none\" stroke=\"black\" d=\"M1049.44,-262.29C1095.78,-258.88 1155.13,-250.21 1203.85,-229 1212.14,-225.39 1228.18,-212.62 1242,-200.9\"/>\n<polygon fill=\"black\" stroke=\"black\" points=\"1244.5,-203.36 1249.8,-194.19 1239.93,-198.05 1244.5,-203.36\"/>\n<text text-anchor=\"middle\" x=\"1254.35\" y=\"-217.8\" font-family=\"Times New Roman,serif\" font-size=\"14.00\">26.mmap2</text>\n</g>\n<!-- Start&#45;&gt;9 -->\n<g id=\"edge20\" class=\"edge\">\n<title>Start&#45;&gt;9</title>\n<path fill=\"none\" stroke=\"black\" d=\"M1048.3,-260.75C1135.84,-256.19 1270.26,-246.42 1285.85,-229 1292.19,-221.91 1290.41,-212.49 1286,-203.74\"/>\n<polygon fill=\"black\" stroke=\"black\" points=\"1288.87,-201.71 1280.68,-194.99 1282.89,-205.35 1288.87,-201.71\"/>\n<text text-anchor=\"middle\" x=\"1321.85\" y=\"-217.8\" font-family=\"Times New Roman,serif\" font-size=\"14.00\">20.connect</text>\n</g>\n<!-- Start&#45;&gt;9 -->\n<g id=\"edge21\" class=\"edge\">\n<title>Start&#45;&gt;9</title>\n<path fill=\"none\" stroke=\"black\" d=\"M1049.8,-262.43C1155.95,-259.47 1336.59,-251.19 1356.85,-229 1374.46,-209.7 1342.62,-196.14 1312.05,-188.06\"/>\n<polygon fill=\"black\" stroke=\"black\" points=\"1312.78,-184.63 1302.24,-185.62 1311.1,-191.43 1312.78,-184.63\"/>\n<text text-anchor=\"middle\" x=\"1402.35\" y=\"-217.8\" font-family=\"Times New Roman,serif\" font-size=\"14.00\">22._newselect</text>\n</g>\n<!-- 10 -->\n<g id=\"node11\" class=\"node\">\n<title>10</title>\n<ellipse fill=\"none\" stroke=\"black\" cx=\"1615.85\" cy=\"-178\" rx=\"59.59\" ry=\"18\"/>\n<text text-anchor=\"middle\" x=\"1615.85\" y=\"-174.3\" font-family=\"Times New Roman,serif\" font-size=\"14.00\">ip_addr+port</text>\n</g>\n<!-- Start&#45;&gt;10 -->\n<g id=\"edge22\" class=\"edge\">\n<title>Start&#45;&gt;10</title>\n<path fill=\"none\" stroke=\"black\" d=\"M1050.1,-263.42C1144.3,-261.54 1307.99,-254.46 1445.85,-229 1468.66,-224.79 1473.6,-220.58 1495.85,-214 1518.39,-207.33 1543.35,-200.04 1564.64,-193.84\"/>\n<polygon fill=\"black\" stroke=\"black\" points=\"1565.82,-197.14 1574.45,-190.99 1563.87,-190.42 1565.82,-197.14\"/>\n<text text-anchor=\"middle\" x=\"1525.35\" y=\"-217.8\" font-family=\"Times New Roman,serif\" font-size=\"14.00\">25.mmap2</text>\n</g>\n<!-- Start&#45;&gt;10 -->\n<g id=\"edge23\" class=\"edge\">\n<title>Start&#45;&gt;10</title>\n<path fill=\"none\" stroke=\"black\" d=\"M1049.26,-262.03C1196.47,-257.84 1508.99,-246.96 1554.85,-229 1562.82,-225.88 1577.56,-213.88 1590.55,-202.41\"/>\n<polygon fill=\"black\" stroke=\"black\" points=\"1593.23,-204.71 1598.34,-195.43 1588.56,-199.5 1593.23,-204.71\"/>\n<text text-anchor=\"middle\" x=\"1604.35\" y=\"-217.8\" font-family=\"Times New Roman,serif\" font-size=\"14.00\">23.fstat64</text>\n</g>\n<!-- Start&#45;&gt;10 -->\n<g id=\"edge24\" class=\"edge\">\n<title>Start&#45;&gt;10</title>\n<path fill=\"none\" stroke=\"black\" d=\"M1049.67,-262.72C1219.42,-259.52 1613.06,-249.87 1632.85,-229 1639.15,-222.36 1637.95,-213.29 1634.13,-204.69\"/>\n<polygon fill=\"black\" stroke=\"black\" points=\"1637.08,-202.79 1629.21,-195.7 1630.94,-206.15 1637.08,-202.79\"/>\n<text text-anchor=\"middle\" x=\"1668.85\" y=\"-217.8\" font-family=\"Times New Roman,serif\" font-size=\"14.00\">19.connect</text>\n</g>\n<!-- Start&#45;&gt;10 -->\n<g id=\"edge25\" class=\"edge\">\n<title>Start&#45;&gt;10</title>\n<path fill=\"none\" stroke=\"black\" d=\"M1049.99,-263.13C1233.33,-260.7 1681.56,-252.38 1703.85,-229 1719.11,-212.99 1698.07,-200.63 1672.75,-192.21\"/>\n<polygon fill=\"black\" stroke=\"black\" points=\"1673.49,-188.77 1662.9,-189.17 1671.43,-195.46 1673.49,-188.77\"/>\n<text text-anchor=\"middle\" x=\"1749.35\" y=\"-217.8\" font-family=\"Times New Roman,serif\" font-size=\"14.00\">21._newselect</text>\n</g>\n<!-- 11 -->\n<g id=\"node12\" class=\"node\">\n<title>11</title>\n<ellipse fill=\"none\" stroke=\"black\" cx=\"1871.85\" cy=\"-178\" rx=\"27.1\" ry=\"18\"/>\n<text text-anchor=\"middle\" x=\"1871.85\" y=\"-174.3\" font-family=\"Times New Roman,serif\" font-size=\"14.00\">^sh$</text>\n</g>\n<!-- Start&#45;&gt;11 -->\n<g id=\"edge26\" class=\"edge\">\n<title>Start&#45;&gt;11</title>\n<path fill=\"none\" stroke=\"black\" d=\"M1049.91,-262.97C1240.43,-260.12 1723.24,-250.8 1792.85,-229 1812.92,-222.72 1832.91,-209.98 1847.76,-198.94\"/>\n<polygon fill=\"black\" stroke=\"black\" points=\"1850.08,-201.57 1855.87,-192.7 1845.81,-196.02 1850.08,-201.57\"/>\n<text text-anchor=\"middle\" x=\"1846.35\" y=\"-217.8\" font-family=\"Times New Roman,serif\" font-size=\"14.00\">2.clone</text>\n</g>\n<!-- Start&#45;&gt;11 -->\n<g id=\"edge27\" class=\"edge\">\n<title>Start&#45;&gt;11</title>\n<path fill=\"none\" stroke=\"black\" d=\"M1050.03,-263.83C1262.52,-263.01 1842.32,-258.08 1870.85,-229 1876.66,-223.07 1878.27,-214.6 1878.01,-206.31\"/>\n<polygon fill=\"black\" stroke=\"black\" points=\"1881.45,-205.64 1876.85,-196.1 1874.5,-206.44 1881.45,-205.64\"/>\n<text text-anchor=\"middle\" x=\"1903.85\" y=\"-217.8\" font-family=\"Times New Roman,serif\" font-size=\"14.00\">3.waitpid</text>\n</g>\n<!-- 12 -->\n<g id=\"node13\" class=\"node\">\n<title>12</title>\n<ellipse fill=\"none\" stroke=\"black\" cx=\"2014.85\" cy=\"-178\" rx=\"33.6\" ry=\"18\"/>\n<text text-anchor=\"middle\" x=\"2014.85\" y=\"-174.3\" font-family=\"Times New Roman,serif\" font-size=\"14.00\">/etc/rc</text>\n</g>\n<!-- Start&#45;&gt;12 -->\n<g id=\"edge28\" class=\"edge\">\n<title>Start&#45;&gt;12</title>\n<path fill=\"none\" stroke=\"black\" d=\"M1050.07,-263.45C1263.38,-261.62 1850.43,-254.32 1933.85,-229 1953.81,-222.94 1973.78,-210.7 1988.89,-199.85\"/>\n<polygon fill=\"black\" stroke=\"black\" points=\"1991.26,-202.45 1997.2,-193.68 1987.08,-196.83 1991.26,-202.45\"/>\n<text text-anchor=\"middle\" x=\"1990.85\" y=\"-217.8\" font-family=\"Times New Roman,serif\" font-size=\"14.00\">10.open</text>\n</g>\n<!-- Start&#45;&gt;12 -->\n<g id=\"edge29\" class=\"edge\">\n<title>Start&#45;&gt;12</title>\n<path fill=\"none\" stroke=\"black\" d=\"M1050.21,-264.31C1286.42,-264.9 1984.33,-263.66 2017.85,-229 2023.69,-222.96 2024.69,-214.34 2023.68,-205.97\"/>\n<polygon fill=\"black\" stroke=\"black\" points=\"2027.08,-205.14 2021.63,-196.06 2020.23,-206.56 2027.08,-205.14\"/>\n<text text-anchor=\"middle\" x=\"2053.85\" y=\"-217.8\" font-family=\"Times New Roman,serif\" font-size=\"14.00\">17.rename</text>\n</g>\n<!-- 13 -->\n<g id=\"node14\" class=\"node\">\n<title>13</title>\n<ellipse fill=\"none\" stroke=\"black\" cx=\"2122.85\" cy=\"-91\" rx=\"27\" ry=\"18\"/>\n<text text-anchor=\"middle\" x=\"2122.85\" y=\"-87.3\" font-family=\"Times New Roman,serif\" font-size=\"14.00\">bin/</text>\n</g>\n<!-- Start&#45;&gt;13 -->\n<g id=\"edge30\" class=\"edge\">\n<title>Start&#45;&gt;13</title>\n<path fill=\"none\" stroke=\"black\" d=\"M1050.12,-264.09C1295.99,-264.04 2046.38,-261.23 2086.85,-229 2119.51,-202.98 2124.68,-151.2 2124.46,-119.29\"/>\n<polygon fill=\"black\" stroke=\"black\" points=\"2127.96,-119.2 2124.21,-109.29 2120.96,-119.37 2127.96,-119.2\"/>\n<text text-anchor=\"middle\" x=\"2137.35\" y=\"-174.3\" font-family=\"Times New Roman,serif\" font-size=\"14.00\">5.stat</text>\n</g>\n</g>\n</svg>\n",
      "text/plain": [
       "<graphviz.sources.Source at 0x2cbe86edbd0>"
      ]
     },
     "metadata": {},
     "output_type": "display_data"
    },
    {
     "name": "stdout",
     "output_type": "stream",
     "text": [
      "Dofloo-MalwareMustDie.csv raw doc OPset\n"
     ]
    },
    {
     "data": {
      "image/svg+xml": "<?xml version=\"1.0\" encoding=\"UTF-8\" standalone=\"no\"?>\n<!DOCTYPE svg PUBLIC \"-//W3C//DTD SVG 1.1//EN\"\n \"http://www.w3.org/Graphics/SVG/1.1/DTD/svg11.dtd\">\n<!-- Generated by graphviz version 6.0.1 (20220911.1526)\n -->\n<!-- Pages: 1 -->\n<svg width=\"683pt\" height=\"131pt\"\n viewBox=\"0.00 0.00 682.58 131.00\" xmlns=\"http://www.w3.org/2000/svg\" xmlns:xlink=\"http://www.w3.org/1999/xlink\">\n<g id=\"graph0\" class=\"graph\" transform=\"scale(1 1) rotate(0) translate(4 127)\">\n<polygon fill=\"white\" stroke=\"none\" points=\"-4,4 -4,-127 678.58,-127 678.58,4 -4,4\"/>\n<!-- Start -->\n<g id=\"node1\" class=\"node\">\n<title>Start</title>\n<ellipse fill=\"none\" stroke=\"black\" cx=\"349.59\" cy=\"-105\" rx=\"77.19\" ry=\"18\"/>\n<text text-anchor=\"middle\" x=\"349.59\" y=\"-101.3\" font-family=\"Times New Roman,serif\" font-size=\"14.00\">Malware (Subject)</text>\n</g>\n<!-- 1 -->\n<g id=\"node2\" class=\"node\">\n<title>1</title>\n<ellipse fill=\"none\" stroke=\"black\" cx=\"321.59\" cy=\"-18\" rx=\"50.09\" ry=\"18\"/>\n<text text-anchor=\"middle\" x=\"321.59\" y=\"-14.3\" font-family=\"Times New Roman,serif\" font-size=\"14.00\">mem_addr</text>\n</g>\n<!-- Start&#45;&gt;1 -->\n<g id=\"edge1\" class=\"edge\">\n<title>Start&#45;&gt;1</title>\n<path fill=\"none\" stroke=\"black\" d=\"M273.54,-101.59C177.42,-97.75 22.27,-88.57 4.59,-69 -30.81,-29.83 159.88,-21.26 261.35,-19.44\"/>\n<polygon fill=\"black\" stroke=\"black\" points=\"261.53,-22.94 271.48,-19.28 261.42,-15.94 261.53,-22.94\"/>\n<text text-anchor=\"middle\" x=\"50.59\" y=\"-57.8\" font-family=\"Times New Roman,serif\" font-size=\"14.00\">4.r1,r2,r10,r11,lr</text>\n</g>\n<!-- Start&#45;&gt;1 -->\n<g id=\"edge2\" class=\"edge\">\n<title>Start&#45;&gt;1</title>\n<path fill=\"none\" stroke=\"black\" d=\"M272.61,-102.71C213.65,-99.91 139.17,-91.78 119.59,-69 115.24,-63.94 115.29,-59.1 119.59,-54 137.47,-32.75 208.65,-24.4 261.48,-21.12\"/>\n<polygon fill=\"black\" stroke=\"black\" points=\"261.99,-24.6 271.78,-20.53 261.59,-17.61 261.99,-24.6\"/>\n<text text-anchor=\"middle\" x=\"137.59\" y=\"-57.8\" font-family=\"Times New Roman,serif\" font-size=\"14.00\">7.look</text>\n</g>\n<!-- Start&#45;&gt;1 -->\n<g id=\"edge3\" class=\"edge\">\n<title>Start&#45;&gt;1</title>\n<path fill=\"none\" stroke=\"black\" d=\"M277.46,-98.28C236.64,-93.38 191.28,-84.55 178.59,-69 152.61,-37.16 211.6,-25.56 261.53,-21.36\"/>\n<polygon fill=\"black\" stroke=\"black\" points=\"261.98,-24.83 271.68,-20.59 261.45,-17.85 261.98,-24.83\"/>\n<text text-anchor=\"middle\" x=\"197.59\" y=\"-57.8\" font-family=\"Times New Roman,serif\" font-size=\"14.00\">8.pack</text>\n</g>\n<!-- Start&#45;&gt;1 -->\n<g id=\"edge4\" class=\"edge\">\n<title>Start&#45;&gt;1</title>\n<path fill=\"none\" stroke=\"black\" d=\"M281.37,-96.42C265.15,-91.23 249.64,-82.75 239.59,-69 227.13,-51.97 247.03,-39.55 270.34,-31.36\"/>\n<polygon fill=\"black\" stroke=\"black\" points=\"271.66,-34.61 280.1,-28.21 269.5,-27.95 271.66,-34.61\"/>\n<text text-anchor=\"middle\" x=\"255.59\" y=\"-57.8\" font-family=\"Times New Roman,serif\" font-size=\"14.00\">3.add</text>\n</g>\n<!-- Start&#45;&gt;1 -->\n<g id=\"edge5\" class=\"edge\">\n<title>Start&#45;&gt;1</title>\n<path fill=\"none\" stroke=\"black\" d=\"M314.38,-88.93C306.48,-83.81 299.11,-77.23 294.59,-69 290.01,-60.66 292.71,-51.5 297.87,-43.33\"/>\n<polygon fill=\"black\" stroke=\"black\" points=\"300.73,-45.35 303.92,-35.24 295.12,-41.15 300.73,-45.35\"/>\n<text text-anchor=\"middle\" x=\"311.09\" y=\"-57.8\" font-family=\"Times New Roman,serif\" font-size=\"14.00\">6.find</text>\n</g>\n<!-- Start&#45;&gt;1 -->\n<g id=\"edge6\" class=\"edge\">\n<title>Start&#45;&gt;1</title>\n<path fill=\"none\" stroke=\"black\" d=\"M343.92,-86.8C340.05,-75.05 334.84,-59.24 330.43,-45.84\"/>\n<polygon fill=\"black\" stroke=\"black\" points=\"333.7,-44.58 327.24,-36.18 327.05,-46.77 333.7,-44.58\"/>\n<text text-anchor=\"middle\" x=\"353.09\" y=\"-57.8\" font-family=\"Times New Roman,serif\" font-size=\"14.00\">5.svc</text>\n</g>\n<!-- Start&#45;&gt;1 -->\n<g id=\"edge7\" class=\"edge\">\n<title>Start&#45;&gt;1</title>\n<path fill=\"none\" stroke=\"black\" d=\"M365.36,-87.12C372.53,-77.32 378.28,-64.82 372.59,-54 369.5,-48.14 364.94,-43.07 359.8,-38.75\"/>\n<polygon fill=\"black\" stroke=\"black\" points=\"361.49,-35.66 351.36,-32.58 357.36,-41.31 361.49,-35.66\"/>\n<text text-anchor=\"middle\" x=\"391.59\" y=\"-57.8\" font-family=\"Times New Roman,serif\" font-size=\"14.00\">10.go</text>\n</g>\n<!-- Start&#45;&gt;1 -->\n<g id=\"edge8\" class=\"edge\">\n<title>Start&#45;&gt;1</title>\n<path fill=\"none\" stroke=\"black\" d=\"M389.34,-89.33C406.79,-80.52 421.35,-68.27 411.59,-54 403.44,-42.09 390.59,-34.23 377.12,-29.04\"/>\n<polygon fill=\"black\" stroke=\"black\" points=\"377.86,-25.6 367.27,-25.72 375.63,-32.23 377.86,-25.6\"/>\n<text text-anchor=\"middle\" x=\"428.09\" y=\"-57.8\" font-family=\"Times New Roman,serif\" font-size=\"14.00\">2.be</text>\n</g>\n<!-- Start&#45;&gt;1 -->\n<g id=\"edge9\" class=\"edge\">\n<title>Start&#45;&gt;1</title>\n<path fill=\"none\" stroke=\"black\" d=\"M408.19,-93.19C435.4,-85.44 458.91,-72.96 444.59,-54 436.03,-42.67 405.31,-33.92 376.72,-28.01\"/>\n<polygon fill=\"black\" stroke=\"black\" points=\"377.22,-24.54 366.73,-26.03 375.87,-31.41 377.22,-24.54\"/>\n<text text-anchor=\"middle\" x=\"468.09\" y=\"-57.8\" font-family=\"Times New Roman,serif\" font-size=\"14.00\">1.have</text>\n</g>\n<!-- Start&#45;&gt;1 -->\n<g id=\"edge11\" class=\"edge\">\n<title>Start&#45;&gt;1</title>\n<path fill=\"none\" stroke=\"black\" d=\"M404.14,-92.09C442.6,-83.43 487.76,-72.61 490.59,-69 494.69,-63.75 494.8,-59.17 490.59,-54 476.75,-37.01 423.55,-28.01 380.49,-23.41\"/>\n<polygon fill=\"black\" stroke=\"black\" points=\"380.65,-19.91 370.35,-22.39 379.95,-26.88 380.65,-19.91\"/>\n<text text-anchor=\"middle\" x=\"517.59\" y=\"-57.8\" font-family=\"Times New Roman,serif\" font-size=\"14.00\">9.eserve</text>\n</g>\n<!-- 3 -->\n<g id=\"node4\" class=\"node\">\n<title>3</title>\n<ellipse fill=\"none\" stroke=\"black\" cx=\"635.59\" cy=\"-18\" rx=\"38.99\" ry=\"18\"/>\n<text text-anchor=\"middle\" x=\"635.59\" y=\"-14.3\" font-family=\"Times New Roman,serif\" font-size=\"14.00\">ip_addr</text>\n</g>\n<!-- Start&#45;&gt;3 -->\n<g id=\"edge10\" class=\"edge\">\n<title>Start&#45;&gt;3</title>\n<path fill=\"none\" stroke=\"black\" d=\"M405.98,-92.59C415.84,-90.67 426,-88.74 435.59,-87 483.9,-78.24 498.18,-85.05 544.59,-69 566.2,-61.52 588.75,-49.17 605.99,-38.62\"/>\n<polygon fill=\"black\" stroke=\"black\" points=\"607.87,-41.57 614.49,-33.3 604.15,-35.64 607.87,-41.57\"/>\n<text text-anchor=\"middle\" x=\"593.09\" y=\"-57.8\" font-family=\"Times New Roman,serif\" font-size=\"14.00\">13.be</text>\n</g>\n<!-- 2 -->\n<g id=\"node3\" class=\"node\">\n<title>2</title>\n<ellipse fill=\"none\" stroke=\"black\" cx=\"476.59\" cy=\"-105\" rx=\"31.7\" ry=\"18\"/>\n<text text-anchor=\"middle\" x=\"476.59\" y=\"-101.3\" font-family=\"Times New Roman,serif\" font-size=\"14.00\">^sed$</text>\n</g>\n</g>\n</svg>\n",
      "text/plain": [
       "<graphviz.graphs.Digraph at 0x2cbe88b3f10>"
      ]
     },
     "metadata": {},
     "output_type": "display_data"
    },
    {
     "name": "stdout",
     "output_type": "stream",
     "text": [
      "Dofloo-Securityaffairs.csv raw doc OPset\n"
     ]
    },
    {
     "data": {
      "image/svg+xml": "<?xml version=\"1.0\" encoding=\"UTF-8\" standalone=\"no\"?>\n<!DOCTYPE svg PUBLIC \"-//W3C//DTD SVG 1.1//EN\"\n \"http://www.w3.org/Graphics/SVG/1.1/DTD/svg11.dtd\">\n<!-- Generated by graphviz version 6.0.1 (20220911.1526)\n -->\n<!-- Pages: 1 -->\n<svg width=\"310pt\" height=\"131pt\"\n viewBox=\"0.00 0.00 309.79 131.00\" xmlns=\"http://www.w3.org/2000/svg\" xmlns:xlink=\"http://www.w3.org/1999/xlink\">\n<g id=\"graph0\" class=\"graph\" transform=\"scale(1 1) rotate(0) translate(4 127)\">\n<polygon fill=\"white\" stroke=\"none\" points=\"-4,4 -4,-127 305.79,-127 305.79,4 -4,4\"/>\n<!-- Start -->\n<g id=\"node1\" class=\"node\">\n<title>Start</title>\n<ellipse fill=\"none\" stroke=\"black\" cx=\"130\" cy=\"-105\" rx=\"77.19\" ry=\"18\"/>\n<text text-anchor=\"middle\" x=\"130\" y=\"-101.3\" font-family=\"Times New Roman,serif\" font-size=\"14.00\">Malware (Subject)</text>\n</g>\n<!-- 1 -->\n<g id=\"node2\" class=\"node\">\n<title>1</title>\n<ellipse fill=\"none\" stroke=\"black\" cx=\"39\" cy=\"-18\" rx=\"38.99\" ry=\"18\"/>\n<text text-anchor=\"middle\" x=\"39\" y=\"-14.3\" font-family=\"Times New Roman,serif\" font-size=\"14.00\">ip_addr</text>\n</g>\n<!-- Start&#45;&gt;1 -->\n<g id=\"edge1\" class=\"edge\">\n<title>Start&#45;&gt;1</title>\n<path fill=\"none\" stroke=\"black\" d=\"M97.77,-88.51C88.5,-83.13 78.79,-76.53 71,-69 63.7,-61.95 57.29,-52.93 52.16,-44.5\"/>\n<polygon fill=\"black\" stroke=\"black\" points=\"55.12,-42.63 47.11,-35.7 49.05,-46.12 55.12,-42.63\"/>\n<text text-anchor=\"middle\" x=\"98.5\" y=\"-57.8\" font-family=\"Times New Roman,serif\" font-size=\"14.00\">1.connect</text>\n</g>\n<!-- 2 -->\n<g id=\"node3\" class=\"node\">\n<title>2</title>\n<ellipse fill=\"none\" stroke=\"black\" cx=\"130\" cy=\"-18\" rx=\"33.6\" ry=\"18\"/>\n<text text-anchor=\"middle\" x=\"130\" y=\"-14.3\" font-family=\"Times New Roman,serif\" font-size=\"14.00\">/etc/rc</text>\n</g>\n<!-- Start&#45;&gt;2 -->\n<g id=\"edge2\" class=\"edge\">\n<title>Start&#45;&gt;2</title>\n<path fill=\"none\" stroke=\"black\" d=\"M130,-86.8C130,-75.16 130,-59.55 130,-46.24\"/>\n<polygon fill=\"black\" stroke=\"black\" points=\"133.5,-46.18 130,-36.18 126.5,-46.18 133.5,-46.18\"/>\n<text text-anchor=\"middle\" x=\"155.5\" y=\"-57.8\" font-family=\"Times New Roman,serif\" font-size=\"14.00\">3.modify</text>\n</g>\n<!-- 3 -->\n<g id=\"node4\" class=\"node\">\n<title>3</title>\n<ellipse fill=\"none\" stroke=\"black\" cx=\"242\" cy=\"-18\" rx=\"59.59\" ry=\"18\"/>\n<text text-anchor=\"middle\" x=\"242\" y=\"-14.3\" font-family=\"Times New Roman,serif\" font-size=\"14.00\">ip_addr+port</text>\n</g>\n<!-- Start&#45;&gt;3 -->\n<g id=\"edge3\" class=\"edge\">\n<title>Start&#45;&gt;3</title>\n<path fill=\"none\" stroke=\"black\" d=\"M156.85,-88.06C165.98,-82.34 176.12,-75.65 185,-69 195.97,-60.77 207.44,-50.97 217.2,-42.22\"/>\n<polygon fill=\"black\" stroke=\"black\" points=\"219.57,-44.8 224.62,-35.49 214.86,-39.62 219.57,-44.8\"/>\n<text text-anchor=\"middle\" x=\"229.5\" y=\"-57.8\" font-family=\"Times New Roman,serif\" font-size=\"14.00\">2.connect</text>\n</g>\n</g>\n</svg>\n",
      "text/plain": [
       "<graphviz.graphs.Digraph at 0x2cbe88b01c0>"
      ]
     },
     "metadata": {},
     "output_type": "display_data"
    },
    {
     "name": "stdout",
     "output_type": "stream",
     "text": [
      "Dofloo-Securityaffairs.csv matched doc OPset\n"
     ]
    },
    {
     "data": {
      "image/svg+xml": "<?xml version=\"1.0\" encoding=\"UTF-8\" standalone=\"no\"?>\n<!DOCTYPE svg PUBLIC \"-//W3C//DTD SVG 1.1//EN\"\n \"http://www.w3.org/Graphics/SVG/1.1/DTD/svg11.dtd\">\n<!-- Generated by graphviz version 6.0.1 (20220911.1526)\n -->\n<!-- Pages: 1 -->\n<svg width=\"310pt\" height=\"131pt\"\n viewBox=\"0.00 0.00 309.79 131.00\" xmlns=\"http://www.w3.org/2000/svg\" xmlns:xlink=\"http://www.w3.org/1999/xlink\">\n<g id=\"graph0\" class=\"graph\" transform=\"scale(1 1) rotate(0) translate(4 127)\">\n<polygon fill=\"white\" stroke=\"none\" points=\"-4,4 -4,-127 305.79,-127 305.79,4 -4,4\"/>\n<!-- Start -->\n<g id=\"node1\" class=\"node\">\n<title>Start</title>\n<ellipse fill=\"none\" stroke=\"black\" cx=\"130\" cy=\"-105\" rx=\"77.19\" ry=\"18\"/>\n<text text-anchor=\"middle\" x=\"130\" y=\"-101.3\" font-family=\"Times New Roman,serif\" font-size=\"14.00\">Malware (Subject)</text>\n</g>\n<!-- 1 -->\n<g id=\"node2\" class=\"node\">\n<title>1</title>\n<ellipse fill=\"none\" stroke=\"black\" cx=\"39\" cy=\"-18\" rx=\"38.99\" ry=\"18\"/>\n<text text-anchor=\"middle\" x=\"39\" y=\"-14.3\" font-family=\"Times New Roman,serif\" font-size=\"14.00\">ip_addr</text>\n</g>\n<!-- Start&#45;&gt;1 -->\n<g id=\"edge1\" class=\"edge\">\n<title>Start&#45;&gt;1</title>\n<path fill=\"none\" stroke=\"black\" d=\"M97.77,-88.51C88.5,-83.13 78.79,-76.53 71,-69 63.7,-61.95 57.29,-52.93 52.16,-44.5\"/>\n<polygon fill=\"black\" stroke=\"black\" points=\"55.12,-42.63 47.11,-35.7 49.05,-46.12 55.12,-42.63\"/>\n<text text-anchor=\"middle\" x=\"98.5\" y=\"-57.8\" font-family=\"Times New Roman,serif\" font-size=\"14.00\">1.connect</text>\n</g>\n<!-- 2 -->\n<g id=\"node3\" class=\"node\">\n<title>2</title>\n<ellipse fill=\"none\" stroke=\"black\" cx=\"130\" cy=\"-18\" rx=\"33.6\" ry=\"18\"/>\n<text text-anchor=\"middle\" x=\"130\" y=\"-14.3\" font-family=\"Times New Roman,serif\" font-size=\"14.00\">/etc/rc</text>\n</g>\n<!-- Start&#45;&gt;2 -->\n<g id=\"edge2\" class=\"edge\">\n<title>Start&#45;&gt;2</title>\n<path fill=\"none\" stroke=\"black\" d=\"M130,-86.8C130,-75.16 130,-59.55 130,-46.24\"/>\n<polygon fill=\"black\" stroke=\"black\" points=\"133.5,-46.18 130,-36.18 126.5,-46.18 133.5,-46.18\"/>\n<text text-anchor=\"middle\" x=\"155.5\" y=\"-57.8\" font-family=\"Times New Roman,serif\" font-size=\"14.00\">3.modify</text>\n</g>\n<!-- 3 -->\n<g id=\"node4\" class=\"node\">\n<title>3</title>\n<ellipse fill=\"none\" stroke=\"black\" cx=\"242\" cy=\"-18\" rx=\"59.59\" ry=\"18\"/>\n<text text-anchor=\"middle\" x=\"242\" y=\"-14.3\" font-family=\"Times New Roman,serif\" font-size=\"14.00\">ip_addr+port</text>\n</g>\n<!-- Start&#45;&gt;3 -->\n<g id=\"edge3\" class=\"edge\">\n<title>Start&#45;&gt;3</title>\n<path fill=\"none\" stroke=\"black\" d=\"M156.85,-88.06C165.98,-82.34 176.12,-75.65 185,-69 195.97,-60.77 207.44,-50.97 217.2,-42.22\"/>\n<polygon fill=\"black\" stroke=\"black\" points=\"219.57,-44.8 224.62,-35.49 214.86,-39.62 219.57,-44.8\"/>\n<text text-anchor=\"middle\" x=\"229.5\" y=\"-57.8\" font-family=\"Times New Roman,serif\" font-size=\"14.00\">2.connect</text>\n</g>\n</g>\n</svg>\n",
      "text/plain": [
       "<graphviz.graphs.Digraph at 0x2cbe88b3f10>"
      ]
     },
     "metadata": {},
     "output_type": "display_data"
    },
    {
     "name": "stdout",
     "output_type": "stream",
     "text": [
      "matched ASG OPset for doc Dofloo-Securityaffairs.csv\n"
     ]
    },
    {
     "data": {
      "image/svg+xml": "<?xml version=\"1.0\" encoding=\"UTF-8\" standalone=\"no\"?>\n<!DOCTYPE svg PUBLIC \"-//W3C//DTD SVG 1.1//EN\"\n \"http://www.w3.org/Graphics/SVG/1.1/DTD/svg11.dtd\">\n<!-- Generated by graphviz version 6.0.1 (20220911.1526)\n -->\n<!-- Pages: 1 -->\n<svg width=\"310pt\" height=\"131pt\"\n viewBox=\"0.00 0.00 309.79 131.00\" xmlns=\"http://www.w3.org/2000/svg\" xmlns:xlink=\"http://www.w3.org/1999/xlink\">\n<g id=\"graph0\" class=\"graph\" transform=\"scale(1 1) rotate(0) translate(4 127)\">\n<polygon fill=\"white\" stroke=\"none\" points=\"-4,4 -4,-127 305.79,-127 305.79,4 -4,4\"/>\n<!-- Start -->\n<g id=\"node1\" class=\"node\">\n<title>Start</title>\n<ellipse fill=\"none\" stroke=\"black\" cx=\"156\" cy=\"-105\" rx=\"77.19\" ry=\"18\"/>\n<text text-anchor=\"middle\" x=\"156\" y=\"-101.3\" font-family=\"Times New Roman,serif\" font-size=\"14.00\">Malware (Subject)</text>\n</g>\n<!-- 1 -->\n<g id=\"node2\" class=\"node\">\n<title>1</title>\n<ellipse fill=\"none\" stroke=\"black\" cx=\"39\" cy=\"-18\" rx=\"38.99\" ry=\"18\"/>\n<text text-anchor=\"middle\" x=\"39\" y=\"-14.3\" font-family=\"Times New Roman,serif\" font-size=\"14.00\">ip_addr</text>\n</g>\n<!-- Start&#45;&gt;1 -->\n<g id=\"edge1\" class=\"edge\">\n<title>Start&#45;&gt;1</title>\n<path fill=\"none\" stroke=\"black\" d=\"M122.66,-88.69C111.84,-83.11 100.05,-76.35 90,-69 79.47,-61.3 68.98,-51.49 60.28,-42.6\"/>\n<polygon fill=\"black\" stroke=\"black\" points=\"62.57,-39.92 53.14,-35.1 57.5,-44.75 62.57,-39.92\"/>\n<text text-anchor=\"middle\" x=\"121\" y=\"-57.8\" font-family=\"Times New Roman,serif\" font-size=\"14.00\">20.connect</text>\n</g>\n<!-- 2 -->\n<g id=\"node3\" class=\"node\">\n<title>2</title>\n<ellipse fill=\"none\" stroke=\"black\" cx=\"156\" cy=\"-18\" rx=\"59.59\" ry=\"18\"/>\n<text text-anchor=\"middle\" x=\"156\" y=\"-14.3\" font-family=\"Times New Roman,serif\" font-size=\"14.00\">ip_addr+port</text>\n</g>\n<!-- Start&#45;&gt;2 -->\n<g id=\"edge2\" class=\"edge\">\n<title>Start&#45;&gt;2</title>\n<path fill=\"none\" stroke=\"black\" d=\"M156,-86.8C156,-75.16 156,-59.55 156,-46.24\"/>\n<polygon fill=\"black\" stroke=\"black\" points=\"159.5,-46.18 156,-36.18 152.5,-46.18 159.5,-46.18\"/>\n<text text-anchor=\"middle\" x=\"187\" y=\"-57.8\" font-family=\"Times New Roman,serif\" font-size=\"14.00\">19.connect</text>\n</g>\n<!-- 3 -->\n<g id=\"node4\" class=\"node\">\n<title>3</title>\n<ellipse fill=\"none\" stroke=\"black\" cx=\"268\" cy=\"-18\" rx=\"33.6\" ry=\"18\"/>\n<text text-anchor=\"middle\" x=\"268\" y=\"-14.3\" font-family=\"Times New Roman,serif\" font-size=\"14.00\">/etc/rc</text>\n</g>\n<!-- Start&#45;&gt;3 -->\n<g id=\"edge3\" class=\"edge\">\n<title>Start&#45;&gt;3</title>\n<path fill=\"none\" stroke=\"black\" d=\"M189.9,-88.82C200.64,-83.29 212.24,-76.53 222,-69 231.72,-61.5 241.14,-51.82 248.9,-42.99\"/>\n<polygon fill=\"black\" stroke=\"black\" points=\"251.71,-45.09 255.52,-35.2 246.38,-40.55 251.71,-45.09\"/>\n<text text-anchor=\"middle\" x=\"267\" y=\"-57.8\" font-family=\"Times New Roman,serif\" font-size=\"14.00\">17.rename</text>\n</g>\n</g>\n</svg>\n",
      "text/plain": [
       "<graphviz.graphs.Digraph at 0x2cbe88b01c0>"
      ]
     },
     "metadata": {},
     "output_type": "display_data"
    },
    {
     "name": "stdout",
     "output_type": "stream",
     "text": [
      "Dofloo-SyscallParty.csv raw doc OPset\n"
     ]
    },
    {
     "data": {
      "image/svg+xml": "<?xml version=\"1.0\" encoding=\"UTF-8\" standalone=\"no\"?>\n<!DOCTYPE svg PUBLIC \"-//W3C//DTD SVG 1.1//EN\"\n \"http://www.w3.org/Graphics/SVG/1.1/DTD/svg11.dtd\">\n<!-- Generated by graphviz version 6.0.1 (20220911.1526)\n -->\n<!-- Pages: 1 -->\n<svg width=\"635pt\" height=\"131pt\"\n viewBox=\"0.00 0.00 634.69 131.00\" xmlns=\"http://www.w3.org/2000/svg\" xmlns:xlink=\"http://www.w3.org/1999/xlink\">\n<g id=\"graph0\" class=\"graph\" transform=\"scale(1 1) rotate(0) translate(4 127)\">\n<polygon fill=\"white\" stroke=\"none\" points=\"-4,4 -4,-127 630.69,-127 630.69,4 -4,4\"/>\n<!-- Start -->\n<g id=\"node1\" class=\"node\">\n<title>Start</title>\n<ellipse fill=\"none\" stroke=\"black\" cx=\"330.05\" cy=\"-105\" rx=\"77.19\" ry=\"18\"/>\n<text text-anchor=\"middle\" x=\"330.05\" y=\"-101.3\" font-family=\"Times New Roman,serif\" font-size=\"14.00\">Malware (Subject)</text>\n</g>\n<!-- 1 -->\n<g id=\"node2\" class=\"node\">\n<title>1</title>\n<ellipse fill=\"none\" stroke=\"black\" cx=\"50.05\" cy=\"-18\" rx=\"50.09\" ry=\"18\"/>\n<text text-anchor=\"middle\" x=\"50.05\" y=\"-14.3\" font-family=\"Times New Roman,serif\" font-size=\"14.00\">mem_addr</text>\n</g>\n<!-- Start&#45;&gt;1 -->\n<g id=\"edge1\" class=\"edge\">\n<title>Start&#45;&gt;1</title>\n<path fill=\"none\" stroke=\"black\" d=\"M255.87,-99.88C214.62,-95.58 163.07,-86.82 120.05,-69 103.97,-62.34 88.03,-51.39 75.44,-41.43\"/>\n<polygon fill=\"black\" stroke=\"black\" points=\"77.63,-38.7 67.67,-35.09 73.2,-44.12 77.63,-38.7\"/>\n<text text-anchor=\"middle\" x=\"137.05\" y=\"-57.8\" font-family=\"Times New Roman,serif\" font-size=\"14.00\">1.give</text>\n</g>\n<!-- 2 -->\n<g id=\"node3\" class=\"node\">\n<title>2</title>\n<ellipse fill=\"none\" stroke=\"black\" cx=\"150.05\" cy=\"-18\" rx=\"31.7\" ry=\"18\"/>\n<text text-anchor=\"middle\" x=\"150.05\" y=\"-14.3\" font-family=\"Times New Roman,serif\" font-size=\"14.00\">^sed$</text>\n</g>\n<!-- Start&#45;&gt;2 -->\n<g id=\"edge2\" class=\"edge\">\n<title>Start&#45;&gt;2</title>\n<path fill=\"none\" stroke=\"black\" d=\"M262.41,-96.26C224.21,-90.61 181.32,-81.7 167.05,-69 160.42,-63.11 156.38,-54.53 153.91,-46.14\"/>\n<polygon fill=\"black\" stroke=\"black\" points=\"157.27,-45.15 151.61,-36.19 150.45,-46.73 157.27,-45.15\"/>\n<text text-anchor=\"middle\" x=\"191.05\" y=\"-57.8\" font-family=\"Times New Roman,serif\" font-size=\"14.00\">6.format</text>\n</g>\n<!-- 3 -->\n<g id=\"node4\" class=\"node\">\n<title>3</title>\n<ellipse fill=\"none\" stroke=\"black\" cx=\"292.05\" cy=\"-18\" rx=\"33.6\" ry=\"18\"/>\n<text text-anchor=\"middle\" x=\"292.05\" y=\"-14.3\" font-family=\"Times New Roman,serif\" font-size=\"14.00\">/etc/rc</text>\n</g>\n<!-- Start&#45;&gt;3 -->\n<g id=\"edge3\" class=\"edge\">\n<title>Start&#45;&gt;3</title>\n<path fill=\"none\" stroke=\"black\" d=\"M262.77,-96.06C246.94,-90.86 231.84,-82.47 222.05,-69 209.98,-52.41 231.02,-39.22 253.11,-30.57\"/>\n<polygon fill=\"black\" stroke=\"black\" points=\"254.35,-33.84 262.55,-27.14 251.96,-27.27 254.35,-33.84\"/>\n<text text-anchor=\"middle\" x=\"246.05\" y=\"-57.8\" font-family=\"Times New Roman,serif\" font-size=\"14.00\">7.format</text>\n</g>\n<!-- Start&#45;&gt;3 -->\n<g id=\"edge4\" class=\"edge\">\n<title>Start&#45;&gt;3</title>\n<path fill=\"none\" stroke=\"black\" d=\"M307.22,-87.76C301.55,-82.48 296.19,-76.12 293.05,-69 289.99,-62.09 288.89,-54.11 288.78,-46.57\"/>\n<polygon fill=\"black\" stroke=\"black\" points=\"292.29,-46.5 289.17,-36.38 285.29,-46.24 292.29,-46.5\"/>\n<text text-anchor=\"middle\" x=\"319.55\" y=\"-57.8\" font-family=\"Times New Roman,serif\" font-size=\"14.00\">5.execute</text>\n</g>\n<!-- Start&#45;&gt;3 -->\n<g id=\"edge5\" class=\"edge\">\n<title>Start&#45;&gt;3</title>\n<path fill=\"none\" stroke=\"black\" d=\"M341.97,-87.15C347.49,-77.14 351.7,-64.41 346.05,-54 341.75,-46.1 334.82,-39.71 327.33,-34.65\"/>\n<polygon fill=\"black\" stroke=\"black\" points=\"328.79,-31.45 318.41,-29.33 325.2,-37.46 328.79,-31.45\"/>\n<text text-anchor=\"middle\" x=\"365.05\" y=\"-57.8\" font-family=\"Times New Roman,serif\" font-size=\"14.00\">3.add</text>\n</g>\n<!-- 6 -->\n<g id=\"node7\" class=\"node\">\n<title>6</title>\n<ellipse fill=\"none\" stroke=\"black\" cx=\"438.05\" cy=\"-18\" rx=\"32.49\" ry=\"18\"/>\n<text text-anchor=\"middle\" x=\"438.05\" y=\"-14.3\" font-family=\"Times New Roman,serif\" font-size=\"14.00\">/proc/</text>\n</g>\n<!-- Start&#45;&gt;6 -->\n<g id=\"edge7\" class=\"edge\">\n<title>Start&#45;&gt;6</title>\n<path fill=\"none\" stroke=\"black\" d=\"M357.32,-88.07C366.39,-82.4 376.38,-75.74 385.05,-69 395.81,-60.62 406.9,-50.43 416.15,-41.44\"/>\n<polygon fill=\"black\" stroke=\"black\" points=\"418.78,-43.76 423.42,-34.24 413.85,-38.79 418.78,-43.76\"/>\n<text text-anchor=\"middle\" x=\"425.05\" y=\"-57.8\" font-family=\"Times New Roman,serif\" font-size=\"14.00\">11.open</text>\n</g>\n<!-- Start&#45;&gt;6 -->\n<g id=\"edge8\" class=\"edge\">\n<title>Start&#45;&gt;6</title>\n<path fill=\"none\" stroke=\"black\" d=\"M383.39,-91.83C414.14,-84.28 447.59,-74.92 452.05,-69 457.41,-61.89 456.54,-52.81 453.46,-44.36\"/>\n<polygon fill=\"black\" stroke=\"black\" points=\"456.61,-42.83 449.25,-35.2 450.25,-45.75 456.61,-42.83\"/>\n<text text-anchor=\"middle\" x=\"472.55\" y=\"-57.8\" font-family=\"Times New Roman,serif\" font-size=\"14.00\">8.read</text>\n</g>\n<!-- 7 -->\n<g id=\"node8\" class=\"node\">\n<title>7</title>\n<ellipse fill=\"none\" stroke=\"black\" cx=\"550.05\" cy=\"-18\" rx=\"46.59\" ry=\"18\"/>\n<text text-anchor=\"middle\" x=\"550.05\" y=\"-14.3\" font-family=\"Times New Roman,serif\" font-size=\"14.00\">/etc/init.d/</text>\n</g>\n<!-- Start&#45;&gt;7 -->\n<g id=\"edge6\" class=\"edge\">\n<title>Start&#45;&gt;7</title>\n<path fill=\"none\" stroke=\"black\" d=\"M386.81,-92.6C432.22,-83.37 489.11,-71.5 494.05,-69 506.89,-62.49 519.07,-52.28 528.78,-42.79\"/>\n<polygon fill=\"black\" stroke=\"black\" points=\"531.5,-45.01 535.99,-35.41 526.5,-40.11 531.5,-45.01\"/>\n<text text-anchor=\"middle\" x=\"532.05\" y=\"-57.8\" font-family=\"Times New Roman,serif\" font-size=\"14.00\">4.add</text>\n</g>\n<!-- 4 -->\n<g id=\"node5\" class=\"node\">\n<title>4</title>\n<ellipse fill=\"none\" stroke=\"black\" cx=\"464.05\" cy=\"-105\" rx=\"38.99\" ry=\"18\"/>\n<text text-anchor=\"middle\" x=\"464.05\" y=\"-101.3\" font-family=\"Times New Roman,serif\" font-size=\"14.00\">ip_addr</text>\n</g>\n<!-- 5 -->\n<g id=\"node6\" class=\"node\">\n<title>5</title>\n<ellipse fill=\"none\" stroke=\"black\" cx=\"574.05\" cy=\"-105\" rx=\"52.79\" ry=\"18\"/>\n<text text-anchor=\"middle\" x=\"574.05\" y=\"-101.3\" font-family=\"Times New Roman,serif\" font-size=\"14.00\">uname(.)($)</text>\n</g>\n</g>\n</svg>\n",
      "text/plain": [
       "<graphviz.graphs.Digraph at 0x2cbe88b3f10>"
      ]
     },
     "metadata": {},
     "output_type": "display_data"
    },
    {
     "name": "stdout",
     "output_type": "stream",
     "text": [
      "Dofloo-SyscallParty.csv matched doc OPset\n"
     ]
    },
    {
     "data": {
      "image/svg+xml": "<?xml version=\"1.0\" encoding=\"UTF-8\" standalone=\"no\"?>\n<!DOCTYPE svg PUBLIC \"-//W3C//DTD SVG 1.1//EN\"\n \"http://www.w3.org/Graphics/SVG/1.1/DTD/svg11.dtd\">\n<!-- Generated by graphviz version 6.0.1 (20220911.1526)\n -->\n<!-- Pages: 1 -->\n<svg width=\"298pt\" height=\"131pt\"\n viewBox=\"0.00 0.00 297.80 131.00\" xmlns=\"http://www.w3.org/2000/svg\" xmlns:xlink=\"http://www.w3.org/1999/xlink\">\n<g id=\"graph0\" class=\"graph\" transform=\"scale(1 1) rotate(0) translate(4 127)\">\n<polygon fill=\"white\" stroke=\"none\" points=\"-4,4 -4,-127 293.8,-127 293.8,4 -4,4\"/>\n<!-- Start -->\n<g id=\"node1\" class=\"node\">\n<title>Start</title>\n<ellipse fill=\"none\" stroke=\"black\" cx=\"145.8\" cy=\"-105\" rx=\"77.19\" ry=\"18\"/>\n<text text-anchor=\"middle\" x=\"145.8\" y=\"-101.3\" font-family=\"Times New Roman,serif\" font-size=\"14.00\">Malware (Subject)</text>\n</g>\n<!-- 1 -->\n<g id=\"node2\" class=\"node\">\n<title>1</title>\n<ellipse fill=\"none\" stroke=\"black\" cx=\"33.8\" cy=\"-18\" rx=\"33.6\" ry=\"18\"/>\n<text text-anchor=\"middle\" x=\"33.8\" y=\"-14.3\" font-family=\"Times New Roman,serif\" font-size=\"14.00\">/etc/rc</text>\n</g>\n<!-- Start&#45;&gt;1 -->\n<g id=\"edge1\" class=\"edge\">\n<title>Start&#45;&gt;1</title>\n<path fill=\"none\" stroke=\"black\" d=\"M84.36,-93.98C56.94,-88.14 28.97,-79.77 20.8,-69 15.5,-62.01 16.14,-53.07 18.96,-44.69\"/>\n<polygon fill=\"black\" stroke=\"black\" points=\"22.29,-45.82 23.05,-35.25 15.86,-43.04 22.29,-45.82\"/>\n<text text-anchor=\"middle\" x=\"44.8\" y=\"-57.8\" font-family=\"Times New Roman,serif\" font-size=\"14.00\">7.format</text>\n</g>\n<!-- Start&#45;&gt;1 -->\n<g id=\"edge2\" class=\"edge\">\n<title>Start&#45;&gt;1</title>\n<path fill=\"none\" stroke=\"black\" d=\"M124.2,-87.61C106.04,-73.83 80,-54.06 60.52,-39.28\"/>\n<polygon fill=\"black\" stroke=\"black\" points=\"62.44,-36.34 52.35,-33.08 58.2,-41.92 62.44,-36.34\"/>\n<text text-anchor=\"middle\" x=\"112.8\" y=\"-57.8\" font-family=\"Times New Roman,serif\" font-size=\"14.00\">3.add</text>\n</g>\n<!-- 2 -->\n<g id=\"node3\" class=\"node\">\n<title>2</title>\n<ellipse fill=\"none\" stroke=\"black\" cx=\"145.8\" cy=\"-18\" rx=\"46.59\" ry=\"18\"/>\n<text text-anchor=\"middle\" x=\"145.8\" y=\"-14.3\" font-family=\"Times New Roman,serif\" font-size=\"14.00\">/etc/init.d/</text>\n</g>\n<!-- Start&#45;&gt;2 -->\n<g id=\"edge3\" class=\"edge\">\n<title>Start&#45;&gt;2</title>\n<path fill=\"none\" stroke=\"black\" d=\"M145.8,-86.8C145.8,-75.16 145.8,-59.55 145.8,-46.24\"/>\n<polygon fill=\"black\" stroke=\"black\" points=\"149.3,-46.18 145.8,-36.18 142.3,-46.18 149.3,-46.18\"/>\n<text text-anchor=\"middle\" x=\"161.8\" y=\"-57.8\" font-family=\"Times New Roman,serif\" font-size=\"14.00\">4.add</text>\n</g>\n<!-- 3 -->\n<g id=\"node4\" class=\"node\">\n<title>3</title>\n<ellipse fill=\"none\" stroke=\"black\" cx=\"255.8\" cy=\"-18\" rx=\"32.49\" ry=\"18\"/>\n<text text-anchor=\"middle\" x=\"255.8\" y=\"-14.3\" font-family=\"Times New Roman,serif\" font-size=\"14.00\">/proc/</text>\n</g>\n<!-- Start&#45;&gt;3 -->\n<g id=\"edge4\" class=\"edge\">\n<title>Start&#45;&gt;3</title>\n<path fill=\"none\" stroke=\"black\" d=\"M163.35,-87.06C174.1,-77.01 188.33,-64.28 201.8,-54 209.43,-48.18 218.02,-42.32 226.07,-37.11\"/>\n<polygon fill=\"black\" stroke=\"black\" points=\"227.95,-40.05 234.51,-31.74 224.2,-34.15 227.95,-40.05\"/>\n<text text-anchor=\"middle\" x=\"224.8\" y=\"-57.8\" font-family=\"Times New Roman,serif\" font-size=\"14.00\">11.open</text>\n</g>\n<!-- Start&#45;&gt;3 -->\n<g id=\"edge5\" class=\"edge\">\n<title>Start&#45;&gt;3</title>\n<path fill=\"none\" stroke=\"black\" d=\"M208.08,-94.22C223.04,-89.03 237.61,-81.11 247.8,-69 253.07,-62.73 255.56,-54.4 256.6,-46.35\"/>\n<polygon fill=\"black\" stroke=\"black\" points=\"260.11,-46.3 257.25,-36.1 253.13,-45.86 260.11,-46.3\"/>\n<text text-anchor=\"middle\" x=\"272.3\" y=\"-57.8\" font-family=\"Times New Roman,serif\" font-size=\"14.00\">8.read</text>\n</g>\n</g>\n</svg>\n",
      "text/plain": [
       "<graphviz.graphs.Digraph at 0x2cbe88b01c0>"
      ]
     },
     "metadata": {},
     "output_type": "display_data"
    },
    {
     "name": "stdout",
     "output_type": "stream",
     "text": [
      "matched ASG OPset for doc Dofloo-SyscallParty.csv\n"
     ]
    },
    {
     "data": {
      "image/svg+xml": "<?xml version=\"1.0\" encoding=\"UTF-8\" standalone=\"no\"?>\n<!DOCTYPE svg PUBLIC \"-//W3C//DTD SVG 1.1//EN\"\n \"http://www.w3.org/Graphics/SVG/1.1/DTD/svg11.dtd\">\n<!-- Generated by graphviz version 6.0.1 (20220911.1526)\n -->\n<!-- Pages: 1 -->\n<svg width=\"508pt\" height=\"131pt\"\n viewBox=\"0.00 0.00 507.80 131.00\" xmlns=\"http://www.w3.org/2000/svg\" xmlns:xlink=\"http://www.w3.org/1999/xlink\">\n<g id=\"graph0\" class=\"graph\" transform=\"scale(1 1) rotate(0) translate(4 127)\">\n<polygon fill=\"white\" stroke=\"none\" points=\"-4,4 -4,-127 503.8,-127 503.8,4 -4,4\"/>\n<!-- Start -->\n<g id=\"node1\" class=\"node\">\n<title>Start</title>\n<ellipse fill=\"none\" stroke=\"black\" cx=\"271.8\" cy=\"-105\" rx=\"77.19\" ry=\"18\"/>\n<text text-anchor=\"middle\" x=\"271.8\" y=\"-101.3\" font-family=\"Times New Roman,serif\" font-size=\"14.00\">Malware (Subject)</text>\n</g>\n<!-- 1 -->\n<g id=\"node2\" class=\"node\">\n<title>1</title>\n<ellipse fill=\"none\" stroke=\"black\" cx=\"46.8\" cy=\"-18\" rx=\"46.59\" ry=\"18\"/>\n<text text-anchor=\"middle\" x=\"46.8\" y=\"-14.3\" font-family=\"Times New Roman,serif\" font-size=\"14.00\">/etc/init.d/</text>\n</g>\n<!-- Start&#45;&gt;1 -->\n<g id=\"edge1\" class=\"edge\">\n<title>Start&#45;&gt;1</title>\n<path fill=\"none\" stroke=\"black\" d=\"M197.57,-99.84C145.49,-95.44 81.73,-86.56 61.8,-69 55.22,-63.21 51.47,-54.66 49.35,-46.26\"/>\n<polygon fill=\"black\" stroke=\"black\" points=\"52.77,-45.48 47.5,-36.29 45.89,-46.76 52.77,-45.48\"/>\n<text text-anchor=\"middle\" x=\"84.8\" y=\"-57.8\" font-family=\"Times New Roman,serif\" font-size=\"14.00\">18.open</text>\n</g>\n<!-- 2 -->\n<g id=\"node3\" class=\"node\">\n<title>2</title>\n<ellipse fill=\"none\" stroke=\"black\" cx=\"232.8\" cy=\"-18\" rx=\"32.49\" ry=\"18\"/>\n<text text-anchor=\"middle\" x=\"232.8\" y=\"-14.3\" font-family=\"Times New Roman,serif\" font-size=\"14.00\">/proc/</text>\n</g>\n<!-- Start&#45;&gt;2 -->\n<g id=\"edge2\" class=\"edge\">\n<title>Start&#45;&gt;2</title>\n<path fill=\"none\" stroke=\"black\" d=\"M202.56,-96.84C166.57,-91.54 127.82,-82.79 116.8,-69 94.22,-40.75 148.86,-28.15 190.61,-22.76\"/>\n<polygon fill=\"black\" stroke=\"black\" points=\"191.1,-26.22 200.62,-21.57 190.28,-19.27 191.1,-26.22\"/>\n<text text-anchor=\"middle\" x=\"144.3\" y=\"-57.8\" font-family=\"Times New Roman,serif\" font-size=\"14.00\">1.readlink</text>\n</g>\n<!-- Start&#45;&gt;2 -->\n<g id=\"edge3\" class=\"edge\">\n<title>Start&#45;&gt;2</title>\n<path fill=\"none\" stroke=\"black\" d=\"M221.67,-91.12C211.06,-86 201.16,-78.88 194.8,-69 188.07,-58.55 194.86,-47.5 204.47,-38.45\"/>\n<polygon fill=\"black\" stroke=\"black\" points=\"206.78,-41.08 212.19,-31.96 202.28,-35.72 206.78,-41.08\"/>\n<text text-anchor=\"middle\" x=\"222.3\" y=\"-57.8\" font-family=\"Times New Roman,serif\" font-size=\"14.00\">30.fstat64</text>\n</g>\n<!-- Start&#45;&gt;2 -->\n<g id=\"edge4\" class=\"edge\">\n<title>Start&#45;&gt;2</title>\n<path fill=\"none\" stroke=\"black\" d=\"M264.42,-86.8C260.22,-77.13 254.81,-64.84 249.8,-54 248.41,-51 246.93,-47.86 245.44,-44.75\"/>\n<polygon fill=\"black\" stroke=\"black\" points=\"248.56,-43.15 241.05,-35.67 242.25,-46.2 248.56,-43.15\"/>\n<text text-anchor=\"middle\" x=\"279.8\" y=\"-57.8\" font-family=\"Times New Roman,serif\" font-size=\"14.00\">27.open</text>\n</g>\n<!-- Start&#45;&gt;2 -->\n<g id=\"edge7\" class=\"edge\">\n<title>Start&#45;&gt;2</title>\n<path fill=\"none\" stroke=\"black\" d=\"M294.74,-87.59C305.3,-77.96 314.05,-65.46 306.8,-54 299.03,-41.73 285.67,-33.68 272.42,-28.43\"/>\n<polygon fill=\"black\" stroke=\"black\" points=\"273.47,-25.09 262.87,-25.09 271.15,-31.7 273.47,-25.09\"/>\n<text text-anchor=\"middle\" x=\"331.8\" y=\"-57.8\" font-family=\"Times New Roman,serif\" font-size=\"14.00\">28.lseek</text>\n</g>\n<!-- 3 -->\n<g id=\"node4\" class=\"node\">\n<title>3</title>\n<ellipse fill=\"none\" stroke=\"black\" cx=\"443.8\" cy=\"-18\" rx=\"33.6\" ry=\"18\"/>\n<text text-anchor=\"middle\" x=\"443.8\" y=\"-14.3\" font-family=\"Times New Roman,serif\" font-size=\"14.00\">/etc/rc</text>\n</g>\n<!-- Start&#45;&gt;3 -->\n<g id=\"edge5\" class=\"edge\">\n<title>Start&#45;&gt;3</title>\n<path fill=\"none\" stroke=\"black\" d=\"M311.75,-89.37C326.73,-83.51 343.75,-76.4 358.8,-69 377.67,-59.71 398.01,-47.82 414.06,-37.97\"/>\n<polygon fill=\"black\" stroke=\"black\" points=\"416.32,-40.68 422.97,-32.43 412.63,-34.74 416.32,-40.68\"/>\n<text text-anchor=\"middle\" x=\"407.8\" y=\"-57.8\" font-family=\"Times New Roman,serif\" font-size=\"14.00\">10.open</text>\n</g>\n<!-- Start&#45;&gt;3 -->\n<g id=\"edge6\" class=\"edge\">\n<title>Start&#45;&gt;3</title>\n<path fill=\"none\" stroke=\"black\" d=\"M341,-96.86C379.24,-91.47 421.62,-82.63 434.8,-69 440.57,-63.03 443.32,-54.68 444.48,-46.51\"/>\n<polygon fill=\"black\" stroke=\"black\" points=\"447.97,-46.68 445.21,-36.46 440.99,-46.17 447.97,-46.68\"/>\n<text text-anchor=\"middle\" x=\"470.8\" y=\"-57.8\" font-family=\"Times New Roman,serif\" font-size=\"14.00\">17.rename</text>\n</g>\n</g>\n</svg>\n",
      "text/plain": [
       "<graphviz.graphs.Digraph at 0x2cbe88b3f10>"
      ]
     },
     "metadata": {},
     "output_type": "display_data"
    },
    {
     "name": "stdout",
     "output_type": "stream",
     "text": [
      "Dofloo-Trendmicro.csv raw doc OPset\n"
     ]
    },
    {
     "data": {
      "image/svg+xml": "<?xml version=\"1.0\" encoding=\"UTF-8\" standalone=\"no\"?>\n<!DOCTYPE svg PUBLIC \"-//W3C//DTD SVG 1.1//EN\"\n \"http://www.w3.org/Graphics/SVG/1.1/DTD/svg11.dtd\">\n<!-- Generated by graphviz version 6.0.1 (20220911.1526)\n -->\n<!-- Pages: 1 -->\n<svg width=\"616pt\" height=\"131pt\"\n viewBox=\"0.00 0.00 616.29 131.00\" xmlns=\"http://www.w3.org/2000/svg\" xmlns:xlink=\"http://www.w3.org/1999/xlink\">\n<g id=\"graph0\" class=\"graph\" transform=\"scale(1 1) rotate(0) translate(4 127)\">\n<polygon fill=\"white\" stroke=\"none\" points=\"-4,4 -4,-127 612.29,-127 612.29,4 -4,4\"/>\n<!-- Start -->\n<g id=\"node1\" class=\"node\">\n<title>Start</title>\n<ellipse fill=\"none\" stroke=\"black\" cx=\"278.5\" cy=\"-105\" rx=\"77.19\" ry=\"18\"/>\n<text text-anchor=\"middle\" x=\"278.5\" y=\"-101.3\" font-family=\"Times New Roman,serif\" font-size=\"14.00\">Malware (Subject)</text>\n</g>\n<!-- 1 -->\n<g id=\"node2\" class=\"node\">\n<title>1</title>\n<ellipse fill=\"none\" stroke=\"black\" cx=\"32.5\" cy=\"-18\" rx=\"32.49\" ry=\"18\"/>\n<text text-anchor=\"middle\" x=\"32.5\" y=\"-14.3\" font-family=\"Times New Roman,serif\" font-size=\"14.00\">/proc/</text>\n</g>\n<!-- Start&#45;&gt;1 -->\n<g id=\"edge1\" class=\"edge\">\n<title>Start&#45;&gt;1</title>\n<path fill=\"none\" stroke=\"black\" d=\"M223.07,-92.42C197.59,-86.46 167.17,-78.46 140.5,-69 114.15,-59.65 85.49,-46.22 64.32,-35.63\"/>\n<polygon fill=\"black\" stroke=\"black\" points=\"65.66,-32.39 55.16,-30.99 62.5,-38.63 65.66,-32.39\"/>\n<text text-anchor=\"middle\" x=\"163\" y=\"-57.8\" font-family=\"Times New Roman,serif\" font-size=\"14.00\">4.gather</text>\n</g>\n<!-- 2 -->\n<g id=\"node3\" class=\"node\">\n<title>2</title>\n<ellipse fill=\"none\" stroke=\"black\" cx=\"134.5\" cy=\"-18\" rx=\"51.99\" ry=\"18\"/>\n<text text-anchor=\"middle\" x=\"134.5\" y=\"-14.3\" font-family=\"Times New Roman,serif\" font-size=\"14.00\">resolv.conf</text>\n</g>\n<!-- Start&#45;&gt;2 -->\n<g id=\"edge2\" class=\"edge\">\n<title>Start&#45;&gt;2</title>\n<path fill=\"none\" stroke=\"black\" d=\"M247.65,-88.31C236.47,-82.45 223.81,-75.61 212.5,-69 196.86,-59.86 179.88,-49.09 165.77,-39.88\"/>\n<polygon fill=\"black\" stroke=\"black\" points=\"167.68,-36.95 157.4,-34.38 163.83,-42.8 167.68,-36.95\"/>\n<text text-anchor=\"middle\" x=\"232\" y=\"-57.8\" font-family=\"Times New Roman,serif\" font-size=\"14.00\">7.open</text>\n</g>\n<!-- 4 -->\n<g id=\"node5\" class=\"node\">\n<title>4</title>\n<ellipse fill=\"none\" stroke=\"black\" cx=\"236.5\" cy=\"-18\" rx=\"31.7\" ry=\"18\"/>\n<text text-anchor=\"middle\" x=\"236.5\" y=\"-14.3\" font-family=\"Times New Roman,serif\" font-size=\"14.00\">^sed$</text>\n</g>\n<!-- Start&#45;&gt;4 -->\n<g id=\"edge3\" class=\"edge\">\n<title>Start&#45;&gt;4</title>\n<path fill=\"none\" stroke=\"black\" d=\"M270,-86.8C264.06,-74.78 256.02,-58.51 249.3,-44.92\"/>\n<polygon fill=\"black\" stroke=\"black\" points=\"252.27,-43.01 244.7,-35.6 245.99,-46.11 252.27,-43.01\"/>\n<text text-anchor=\"middle\" x=\"272\" y=\"-57.8\" font-family=\"Times New Roman,serif\" font-size=\"14.00\">1.se</text>\n</g>\n<!-- 6 -->\n<g id=\"node7\" class=\"node\">\n<title>6</title>\n<ellipse fill=\"none\" stroke=\"black\" cx=\"320.5\" cy=\"-18\" rx=\"33.6\" ry=\"18\"/>\n<text text-anchor=\"middle\" x=\"320.5\" y=\"-14.3\" font-family=\"Times New Roman,serif\" font-size=\"14.00\">/etc/rc</text>\n</g>\n<!-- Start&#45;&gt;6 -->\n<g id=\"edge4\" class=\"edge\">\n<title>Start&#45;&gt;6</title>\n<path fill=\"none\" stroke=\"black\" d=\"M287,-86.8C292.94,-74.78 300.98,-58.51 307.69,-44.92\"/>\n<polygon fill=\"black\" stroke=\"black\" points=\"311,-46.11 312.3,-35.6 304.73,-43.01 311,-46.11\"/>\n<text text-anchor=\"middle\" x=\"314\" y=\"-57.8\" font-family=\"Times New Roman,serif\" font-size=\"14.00\">2.se</text>\n</g>\n<!-- 7 -->\n<g id=\"node8\" class=\"node\">\n<title>7</title>\n<ellipse fill=\"none\" stroke=\"black\" cx=\"434.5\" cy=\"-18\" rx=\"61.99\" ry=\"18\"/>\n<text text-anchor=\"middle\" x=\"434.5\" y=\"-14.3\" font-family=\"Times New Roman,serif\" font-size=\"14.00\">nsswitch.conf</text>\n</g>\n<!-- Start&#45;&gt;7 -->\n<g id=\"edge5\" class=\"edge\">\n<title>Start&#45;&gt;7</title>\n<path fill=\"none\" stroke=\"black\" d=\"M307.47,-88.21C332.96,-74.32 370.2,-54.03 397.78,-39.01\"/>\n<polygon fill=\"black\" stroke=\"black\" points=\"399.62,-41.99 406.72,-34.13 396.27,-35.84 399.62,-41.99\"/>\n<text text-anchor=\"middle\" x=\"386\" y=\"-57.8\" font-family=\"Times New Roman,serif\" font-size=\"14.00\">8.open</text>\n</g>\n<!-- 8 -->\n<g id=\"node9\" class=\"node\">\n<title>8</title>\n<ellipse fill=\"none\" stroke=\"black\" cx=\"561.5\" cy=\"-18\" rx=\"46.59\" ry=\"18\"/>\n<text text-anchor=\"middle\" x=\"561.5\" y=\"-14.3\" font-family=\"Times New Roman,serif\" font-size=\"14.00\">/etc/init.d/</text>\n</g>\n<!-- Start&#45;&gt;8 -->\n<g id=\"edge6\" class=\"edge\">\n<title>Start&#45;&gt;8</title>\n<path fill=\"none\" stroke=\"black\" d=\"M328.76,-91.28C353.22,-84.92 382.99,-76.89 409.5,-69 446.33,-58.03 487.75,-44.31 518.04,-34.02\"/>\n<polygon fill=\"black\" stroke=\"black\" points=\"519.53,-37.21 527.86,-30.67 517.27,-30.59 519.53,-37.21\"/>\n<text text-anchor=\"middle\" x=\"474\" y=\"-57.8\" font-family=\"Times New Roman,serif\" font-size=\"14.00\">3.start</text>\n</g>\n<!-- 3 -->\n<g id=\"node4\" class=\"node\">\n<title>3</title>\n<ellipse fill=\"none\" stroke=\"black\" cx=\"401.5\" cy=\"-105\" rx=\"27.9\" ry=\"18\"/>\n<text text-anchor=\"middle\" x=\"401.5\" y=\"-101.3\" font-family=\"Times New Roman,serif\" font-size=\"14.00\">/sys/</text>\n</g>\n<!-- 5 -->\n<g id=\"node6\" class=\"node\">\n<title>5</title>\n<ellipse fill=\"none\" stroke=\"black\" cx=\"474.5\" cy=\"-105\" rx=\"27\" ry=\"18\"/>\n<text text-anchor=\"middle\" x=\"474.5\" y=\"-101.3\" font-family=\"Times New Roman,serif\" font-size=\"14.00\">UID</text>\n</g>\n</g>\n</svg>\n",
      "text/plain": [
       "<graphviz.graphs.Digraph at 0x2cbe88b01c0>"
      ]
     },
     "metadata": {},
     "output_type": "display_data"
    },
    {
     "name": "stdout",
     "output_type": "stream",
     "text": [
      "Dofloo-Trendmicro.csv matched doc OPset\n"
     ]
    },
    {
     "data": {
      "image/svg+xml": "<?xml version=\"1.0\" encoding=\"UTF-8\" standalone=\"no\"?>\n<!DOCTYPE svg PUBLIC \"-//W3C//DTD SVG 1.1//EN\"\n \"http://www.w3.org/Graphics/SVG/1.1/DTD/svg11.dtd\">\n<!-- Generated by graphviz version 6.0.1 (20220911.1526)\n -->\n<!-- Pages: 1 -->\n<svg width=\"163pt\" height=\"131pt\"\n viewBox=\"0.00 0.00 162.69 131.00\" xmlns=\"http://www.w3.org/2000/svg\" xmlns:xlink=\"http://www.w3.org/1999/xlink\">\n<g id=\"graph0\" class=\"graph\" transform=\"scale(1 1) rotate(0) translate(4 127)\">\n<polygon fill=\"white\" stroke=\"none\" points=\"-4,4 -4,-127 158.69,-127 158.69,4 -4,4\"/>\n<!-- Start -->\n<g id=\"node1\" class=\"node\">\n<title>Start</title>\n<ellipse fill=\"none\" stroke=\"black\" cx=\"77.34\" cy=\"-105\" rx=\"77.19\" ry=\"18\"/>\n<text text-anchor=\"middle\" x=\"77.34\" y=\"-101.3\" font-family=\"Times New Roman,serif\" font-size=\"14.00\">Malware (Subject)</text>\n</g>\n<!-- 1 -->\n<g id=\"node2\" class=\"node\">\n<title>1</title>\n<ellipse fill=\"none\" stroke=\"black\" cx=\"77.34\" cy=\"-18\" rx=\"32.49\" ry=\"18\"/>\n<text text-anchor=\"middle\" x=\"77.34\" y=\"-14.3\" font-family=\"Times New Roman,serif\" font-size=\"14.00\">/proc/</text>\n</g>\n<!-- Start&#45;&gt;1 -->\n<g id=\"edge1\" class=\"edge\">\n<title>Start&#45;&gt;1</title>\n<path fill=\"none\" stroke=\"black\" d=\"M77.34,-86.8C77.34,-75.16 77.34,-59.55 77.34,-46.24\"/>\n<polygon fill=\"black\" stroke=\"black\" points=\"80.84,-46.18 77.34,-36.18 73.84,-46.18 80.84,-46.18\"/>\n<text text-anchor=\"middle\" x=\"99.84\" y=\"-57.8\" font-family=\"Times New Roman,serif\" font-size=\"14.00\">4.gather</text>\n</g>\n</g>\n</svg>\n",
      "text/plain": [
       "<graphviz.graphs.Digraph at 0x2cbe88b3f10>"
      ]
     },
     "metadata": {},
     "output_type": "display_data"
    },
    {
     "name": "stdout",
     "output_type": "stream",
     "text": [
      "matched ASG OPset for doc Dofloo-Trendmicro.csv\n"
     ]
    },
    {
     "data": {
      "image/svg+xml": "<?xml version=\"1.0\" encoding=\"UTF-8\" standalone=\"no\"?>\n<!DOCTYPE svg PUBLIC \"-//W3C//DTD SVG 1.1//EN\"\n \"http://www.w3.org/Graphics/SVG/1.1/DTD/svg11.dtd\">\n<!-- Generated by graphviz version 6.0.1 (20220911.1526)\n -->\n<!-- Pages: 1 -->\n<svg width=\"192pt\" height=\"131pt\"\n viewBox=\"0.00 0.00 192.36 131.00\" xmlns=\"http://www.w3.org/2000/svg\" xmlns:xlink=\"http://www.w3.org/1999/xlink\">\n<g id=\"graph0\" class=\"graph\" transform=\"scale(1 1) rotate(0) translate(4 127)\">\n<polygon fill=\"white\" stroke=\"none\" points=\"-4,4 -4,-127 188.36,-127 188.36,4 -4,4\"/>\n<!-- Start -->\n<g id=\"node1\" class=\"node\">\n<title>Start</title>\n<ellipse fill=\"none\" stroke=\"black\" cx=\"80.36\" cy=\"-105\" rx=\"77.19\" ry=\"18\"/>\n<text text-anchor=\"middle\" x=\"80.36\" y=\"-101.3\" font-family=\"Times New Roman,serif\" font-size=\"14.00\">Malware (Subject)</text>\n</g>\n<!-- 1 -->\n<g id=\"node2\" class=\"node\">\n<title>1</title>\n<ellipse fill=\"none\" stroke=\"black\" cx=\"80.36\" cy=\"-18\" rx=\"32.49\" ry=\"18\"/>\n<text text-anchor=\"middle\" x=\"80.36\" y=\"-14.3\" font-family=\"Times New Roman,serif\" font-size=\"14.00\">/proc/</text>\n</g>\n<!-- Start&#45;&gt;1 -->\n<g id=\"edge1\" class=\"edge\">\n<title>Start&#45;&gt;1</title>\n<path fill=\"none\" stroke=\"black\" d=\"M30.24,-91.12C19.63,-86 9.72,-78.88 3.36,-69 -8.9,-49.95 16.19,-36.64 40.93,-28.57\"/>\n<polygon fill=\"black\" stroke=\"black\" points=\"42.12,-31.87 50.68,-25.63 40.1,-25.17 42.12,-31.87\"/>\n<text text-anchor=\"middle\" x=\"30.86\" y=\"-57.8\" font-family=\"Times New Roman,serif\" font-size=\"14.00\">1.readlink</text>\n</g>\n<!-- Start&#45;&gt;1 -->\n<g id=\"edge2\" class=\"edge\">\n<title>Start&#45;&gt;1</title>\n<path fill=\"none\" stroke=\"black\" d=\"M80.36,-86.8C80.36,-75.16 80.36,-59.55 80.36,-46.24\"/>\n<polygon fill=\"black\" stroke=\"black\" points=\"83.86,-46.18 80.36,-36.18 76.86,-46.18 83.86,-46.18\"/>\n<text text-anchor=\"middle\" x=\"107.86\" y=\"-57.8\" font-family=\"Times New Roman,serif\" font-size=\"14.00\">30.fstat64</text>\n</g>\n<!-- Start&#45;&gt;1 -->\n<g id=\"edge3\" class=\"edge\">\n<title>Start&#45;&gt;1</title>\n<path fill=\"none\" stroke=\"black\" d=\"M116.49,-88.87C124.42,-83.77 131.8,-77.22 136.36,-69 144.23,-54.8 131.19,-42.58 115.72,-33.78\"/>\n<polygon fill=\"black\" stroke=\"black\" points=\"116.96,-30.48 106.47,-29 113.74,-36.7 116.96,-30.48\"/>\n<text text-anchor=\"middle\" x=\"161.36\" y=\"-57.8\" font-family=\"Times New Roman,serif\" font-size=\"14.00\">28.lseek</text>\n</g>\n</g>\n</svg>\n",
      "text/plain": [
       "<graphviz.graphs.Digraph at 0x2cbe88b01c0>"
      ]
     },
     "metadata": {},
     "output_type": "display_data"
    }
   ],
   "source": [
    "import graphviz\n",
    "\n",
    "class ItemMapper:\n",
    "    def __init__(self) -> None:\n",
    "        self.mapper = {}\n",
    "        self.index_counter:int = 1\n",
    "        # self.pretty_name = {\n",
    "        #     \"\\d{1,3}\\.\\d{1,3}\\.\\d{1,3}\\.\\d{1,3}\": \"ip_addr\",\n",
    "        #     \"\\d{1,3}\\.\\d{1,3}\\.\\d{1,3}\\.\\d{1,3}:\\d+\": \"ip_addr+port\",\n",
    "        #     \"0x[0-9a-zA-Z]{8}\": \"mem_addr\",\n",
    "        #     \"permission:{0,1}[0-9]{0,4}\": \"permission_id\"\n",
    "        # }\n",
    "        pass\n",
    "    def addItem(self, item:str) -> str:\n",
    "        # item = self.prettifyName(item) # 先不在這做~\n",
    "        if item in self.mapper.keys():\n",
    "            return self.mapper.get(item)\n",
    "        self.mapper[item] = str(self.index_counter)\n",
    "        self.index_counter += 1\n",
    "        return str(self.index_counter - 1)\n",
    "    def getSymbol(self, item:str):\n",
    "        return self.mapper.get(item, None)\n",
    "    # def prettifyName(self, item:str) -> str:\n",
    "    #     changed = self.pretty_name.get(item, None)\n",
    "    #     if changed:\n",
    "    #         return changed\n",
    "    #     return item\n",
    "\n",
    "def draw_asg_op_graph(asg_OPset: list[OperationPair], family=None):\n",
    "    dot = graphviz.Digraph(f'{family}_asg_OPset', comment='The Operational Pair Graph') \n",
    "    dot.node('Start', label=\"Malware (Subject)\")\n",
    "    mapper = ItemMapper()\n",
    "    for op in asg_OPset:\n",
    "        node_id = mapper.addItem(op.object)\n",
    "        dot.node(node_id, label=prettifyName(op.object)) # rename partial regex\n",
    "        if op.action:\n",
    "            dot.edge('Start', node_id, label=f\"{op.step_number}.{op.action}\")\n",
    "\n",
    "    # dot.graph_attr.update(ratio=\"0.4\")\n",
    "    u = dot.unflatten(stagger=3, fanout=True)\n",
    "    display(u)\n",
    "    del mapper\n",
    "    return u\n",
    "\n",
    "def draw_ctd_op_graph(fset:FamilySet):\n",
    "    for rem in fset.rem_lst:\n",
    "        # doc_OPset\n",
    "        if rem.doc_OPset is None or len(rem.doc_OPset) == 0:\n",
    "            continue\n",
    "        dot = graphviz.Digraph()\n",
    "        dot.node('Start', label=\"Malware (Subject)\")\n",
    "        mapper = ItemMapper()\n",
    "        for op in rem.doc_OPset:\n",
    "            node_id = mapper.addItem(op.object)\n",
    "            dot.node(node_id, label=prettifyName(op.object))\n",
    "            if op.action:\n",
    "                dot.edge('Start', node_id, label=f\"{op.step_number}.{op.action}\")\n",
    "        print(f\"{rem.reportname} raw doc OPset\")\n",
    "        display(dot)\n",
    "        del mapper\n",
    "\n",
    "        # match_doc_OPset\n",
    "        if rem.match_doc_OPset is None or len(rem.match_doc_OPset) == 0:\n",
    "            continue\n",
    "        dot = graphviz.Digraph()\n",
    "        dot.node('Start', label=\"Malware (Subject)\")\n",
    "        mapper = ItemMapper()\n",
    "        for op in rem.match_doc_OPset:\n",
    "            node_id = mapper.addItem(op.object)\n",
    "            dot.node(node_id, label=prettifyName(op.object))\n",
    "            if op.action:\n",
    "                dot.edge('Start', node_id, label=f\"{op.step_number}.{op.action}\")\n",
    "        print(f\"{rem.reportname} matched doc OPset\")\n",
    "        display(dot)\n",
    "        del mapper\n",
    "\n",
    "        # match_ASG_OPset\n",
    "        if rem.OPset_order_index is None or len(rem.OPset_order_index) == 0:\n",
    "            continue\n",
    "        dot = graphviz.Digraph()\n",
    "        dot.node('Start', label=\"Malware (Subject)\")\n",
    "        mapper = ItemMapper()\n",
    "        for op in [fset.sample.OPset_ordered[i] for i in rem.OPset_order_index]:\n",
    "            node_id = mapper.addItem(op.object)\n",
    "            dot.node(node_id, label=prettifyName(op.object))\n",
    "            if op.action:\n",
    "                dot.edge('Start', node_id, label=f\"{op.step_number}.{op.action}\")\n",
    "        print(f\"matched ASG OPset for doc {rem.reportname}\")\n",
    "        display(dot)\n",
    "        del mapper\n",
    "    return\n",
    "\n",
    "draw_asg_op_graph(sample.OPset, family=family)\n",
    "draw_ctd_op_graph(fset)"
   ]
  },
  {
   "attachments": {},
   "cell_type": "markdown",
   "metadata": {},
   "source": [
    "### Run Script: print matched sentence for specific document"
   ]
  },
  {
   "cell_type": "code",
   "execution_count": 16,
   "metadata": {},
   "outputs": [
    {
     "name": "stdout",
     "output_type": "stream",
     "text": [
      "Report: Dofloo-SyscallParty.csv. Matched OP count: 5\n",
      "--\n",
      "OP #7 format /etc/rc /etc/rc.local\n",
      "a string is formatted and the sed program is called which writes to the file in question (there are several string operations, such as sed -i -e '2 i%s/%s' /etc/rc.local is formatted for example).\n",
      "--\n",
      "OP #3 add /etc/rc /etc/rc.local\n",
      "persistence\n",
      "persistence is achieved by the malware by adding to /etc/rc.local and the /etc/init.d/boot.local files (in the auto_boot function); however before it overwrites this file it first checks to see if it has already done so.\n",
      "--\n",
      "OP #4 add /etc/init.d/ /etc/init.d/boot.local\n",
      "persistence\n",
      "persistence is achieved by the malware by adding to /etc/rc.local and the /etc/init.d/boot.local files (in the auto_boot function); however before it overwrites this file it first checks to see if it has already done so.\n",
      "--\n",
      "OP #11 open /proc/ /proc/cpuinfo\n",
      "the virtual file /proc/cpuinfo is opened and read in words until an eof (-1) is hit whilst reading the file chunk by chunk — then fclose is called to free up the opened file.\n",
      "--\n",
      "OP #8 read /proc/ /proc/net/dev\n",
      "the way the malware gets information regarding the network adapter is reading the /proc/net/dev file.\n"
     ]
    }
   ],
   "source": [
    "# 印出 matched 句子\n",
    "report_id = 3\n",
    "reportname = fset.rem_lst[report_id].reportname\n",
    "print(f\"Report: {reportname}. Matched OP count: {len(fset.rem_lst[report_id].match_doc_OPset)}\")\n",
    "for i, op in enumerate(fset.rem_lst[report_id].match_doc_OPset):\n",
    "    print(f\"--\\nOP #{op.step_number} {op.action} {op.object} {op.original_object}\")\n",
    "    print(f\"{op.original_sentence}\")"
   ]
  },
  {
   "cell_type": "code",
   "execution_count": 39,
   "metadata": {},
   "outputs": [
    {
     "name": "stdout",
     "output_type": "stream",
     "text": [
      "set()\n",
      "{<OP act=have, obj=0x[0-9a-zA-Z]{8}>, <OP act=None, obj=0x[0-9a-zA-Z]{8}>, <OP act=eserve, obj=0x[0-9a-zA-Z]{8}>, <OP act=r1,r2,r10,r11,lr, obj=0x[0-9a-zA-Z]{8}>, <OP act=None, obj=\\d{1,3}\\.\\d{1,3}\\.\\d{1,3}\\.\\d{1,3}>, <OP act=add, obj=0x[0-9a-zA-Z]{8}>, <OP act=None, obj=^sed$>, <OP act=look, obj=0x[0-9a-zA-Z]{8}>, <OP act=be, obj=0x[0-9a-zA-Z]{8}>, <OP act=go, obj=0x[0-9a-zA-Z]{8}>, <OP act=be, obj=\\d{1,3}\\.\\d{1,3}\\.\\d{1,3}\\.\\d{1,3}>, <OP act=svc, obj=0x[0-9a-zA-Z]{8}>, <OP act=pack, obj=0x[0-9a-zA-Z]{8}>, <OP act=find, obj=0x[0-9a-zA-Z]{8}>}\n",
      "{<OP act=connect, obj=\\d{1,3}\\.\\d{1,3}\\.\\d{1,3}\\.\\d{1,3}>, <OP act=modify, obj=/etc/rc>, <OP act=connect, obj=\\d{1,3}\\.\\d{1,3}\\.\\d{1,3}\\.\\d{1,3}:\\d+>, <OP act=None, obj=/etc/rc>}\n",
      "{<OP act=add, obj=/etc/init.d/>, <OP act=add, obj=/etc/rc>, <OP act=format, obj=/etc/rc>, <OP act=None, obj=\\d{1,3}\\.\\d{1,3}\\.\\d{1,3}\\.\\d{1,3}>, <OP act=None, obj=/proc/>, <OP act=open, obj=/proc/>, <OP act=format, obj=^sed$>, <OP act=read, obj=/proc/>, <OP act=execute, obj=/etc/rc>, <OP act=give, obj=0x[0-9a-zA-Z]{8}>, <OP act=None, obj=uname(.)($)>}\n",
      "{<OP act=open, obj=nsswitch.conf>, <OP act=se, obj=^sed$>, <OP act=start, obj=/etc/init.d/>, <OP act=None, obj=/sys/>, <OP act=None, obj=/proc/>, <OP act=gather, obj=/proc/>, <OP act=None, obj=UID>, <OP act=se, obj=/etc/rc>, <OP act=open, obj=resolv.conf>}\n"
     ]
    }
   ],
   "source": [
    "# 測試區\n",
    "for rem in fset.rem_lst:\n",
    "    print(rem.doc_OPset)"
   ]
  },
  {
   "cell_type": "code",
   "execution_count": null,
   "metadata": {},
   "outputs": [
    {
     "data": {
      "text/html": [
       "<div>\n",
       "<style scoped>\n",
       "    .dataframe tbody tr th:only-of-type {\n",
       "        vertical-align: middle;\n",
       "    }\n",
       "\n",
       "    .dataframe tbody tr th {\n",
       "        vertical-align: top;\n",
       "    }\n",
       "\n",
       "    .dataframe thead th {\n",
       "        text-align: right;\n",
       "    }\n",
       "</style>\n",
       "<table border=\"1\" class=\"dataframe\">\n",
       "  <thead>\n",
       "    <tr style=\"text-align: right;\">\n",
       "      <th></th>\n",
       "      <th>bin/sed</th>\n",
       "      <th>/etc/rc</th>\n",
       "      <th>/etc/init.d/</th>\n",
       "      <th>/proc/</th>\n",
       "      <th>/etc/sed</th>\n",
       "      <th>/selinux</th>\n",
       "      <th>/sys/</th>\n",
       "      <th>bin/</th>\n",
       "      <th>lsb-release</th>\n",
       "      <th>uname(.)($)</th>\n",
       "      <th>...</th>\n",
       "      <th>^sh$</th>\n",
       "      <th>^sed$</th>\n",
       "      <th>\\d{1,3}\\.\\d{1,3}\\.\\d{1,3}\\.\\d{1,3}:\\d+</th>\n",
       "      <th>\\d{1,3}\\.\\d{1,3}\\.\\d{1,3}\\.\\d{1,3}</th>\n",
       "      <th>eth[0-9]$</th>\n",
       "      <th>0x[0-9a-zA-Z]{8}</th>\n",
       "      <th>permission:{0,1}[0-9]{0,4}</th>\n",
       "      <th>UID</th>\n",
       "      <th>GID</th>\n",
       "      <th>match</th>\n",
       "    </tr>\n",
       "  </thead>\n",
       "  <tbody>\n",
       "    <tr>\n",
       "      <th>0</th>\n",
       "      <td>0</td>\n",
       "      <td>0</td>\n",
       "      <td>0</td>\n",
       "      <td>0</td>\n",
       "      <td>0</td>\n",
       "      <td>0</td>\n",
       "      <td>0</td>\n",
       "      <td>0</td>\n",
       "      <td>0</td>\n",
       "      <td>0</td>\n",
       "      <td>...</td>\n",
       "      <td>0</td>\n",
       "      <td>0</td>\n",
       "      <td>0</td>\n",
       "      <td>0</td>\n",
       "      <td>0</td>\n",
       "      <td>0</td>\n",
       "      <td>0</td>\n",
       "      <td>0</td>\n",
       "      <td>0</td>\n",
       "      <td>0</td>\n",
       "    </tr>\n",
       "    <tr>\n",
       "      <th>1</th>\n",
       "      <td>0</td>\n",
       "      <td>0</td>\n",
       "      <td>0</td>\n",
       "      <td>0</td>\n",
       "      <td>0</td>\n",
       "      <td>0</td>\n",
       "      <td>0</td>\n",
       "      <td>0</td>\n",
       "      <td>0</td>\n",
       "      <td>0</td>\n",
       "      <td>...</td>\n",
       "      <td>0</td>\n",
       "      <td>0</td>\n",
       "      <td>0</td>\n",
       "      <td>0</td>\n",
       "      <td>0</td>\n",
       "      <td>0</td>\n",
       "      <td>0</td>\n",
       "      <td>0</td>\n",
       "      <td>0</td>\n",
       "      <td>0</td>\n",
       "    </tr>\n",
       "    <tr>\n",
       "      <th>2</th>\n",
       "      <td>0</td>\n",
       "      <td>0</td>\n",
       "      <td>0</td>\n",
       "      <td>0</td>\n",
       "      <td>0</td>\n",
       "      <td>0</td>\n",
       "      <td>0</td>\n",
       "      <td>0</td>\n",
       "      <td>0</td>\n",
       "      <td>0</td>\n",
       "      <td>...</td>\n",
       "      <td>0</td>\n",
       "      <td>0</td>\n",
       "      <td>0</td>\n",
       "      <td>0</td>\n",
       "      <td>0</td>\n",
       "      <td>0</td>\n",
       "      <td>0</td>\n",
       "      <td>0</td>\n",
       "      <td>0</td>\n",
       "      <td>0</td>\n",
       "    </tr>\n",
       "    <tr>\n",
       "      <th>3</th>\n",
       "      <td>0</td>\n",
       "      <td>0</td>\n",
       "      <td>0</td>\n",
       "      <td>0</td>\n",
       "      <td>0</td>\n",
       "      <td>0</td>\n",
       "      <td>0</td>\n",
       "      <td>0</td>\n",
       "      <td>0</td>\n",
       "      <td>0</td>\n",
       "      <td>...</td>\n",
       "      <td>0</td>\n",
       "      <td>0</td>\n",
       "      <td>0</td>\n",
       "      <td>0</td>\n",
       "      <td>0</td>\n",
       "      <td>0</td>\n",
       "      <td>0</td>\n",
       "      <td>0</td>\n",
       "      <td>0</td>\n",
       "      <td>0</td>\n",
       "    </tr>\n",
       "    <tr>\n",
       "      <th>4</th>\n",
       "      <td>0</td>\n",
       "      <td>0</td>\n",
       "      <td>0</td>\n",
       "      <td>0</td>\n",
       "      <td>0</td>\n",
       "      <td>0</td>\n",
       "      <td>0</td>\n",
       "      <td>0</td>\n",
       "      <td>0</td>\n",
       "      <td>0</td>\n",
       "      <td>...</td>\n",
       "      <td>0</td>\n",
       "      <td>0</td>\n",
       "      <td>0</td>\n",
       "      <td>0</td>\n",
       "      <td>0</td>\n",
       "      <td>0</td>\n",
       "      <td>0</td>\n",
       "      <td>0</td>\n",
       "      <td>0</td>\n",
       "      <td>0</td>\n",
       "    </tr>\n",
       "    <tr>\n",
       "      <th>5</th>\n",
       "      <td>0</td>\n",
       "      <td>0</td>\n",
       "      <td>0</td>\n",
       "      <td>0</td>\n",
       "      <td>0</td>\n",
       "      <td>0</td>\n",
       "      <td>0</td>\n",
       "      <td>0</td>\n",
       "      <td>0</td>\n",
       "      <td>0</td>\n",
       "      <td>...</td>\n",
       "      <td>0</td>\n",
       "      <td>0</td>\n",
       "      <td>0</td>\n",
       "      <td>0</td>\n",
       "      <td>0</td>\n",
       "      <td>0</td>\n",
       "      <td>0</td>\n",
       "      <td>0</td>\n",
       "      <td>0</td>\n",
       "      <td>0</td>\n",
       "    </tr>\n",
       "    <tr>\n",
       "      <th>6</th>\n",
       "      <td>0</td>\n",
       "      <td>0</td>\n",
       "      <td>0</td>\n",
       "      <td>0</td>\n",
       "      <td>0</td>\n",
       "      <td>0</td>\n",
       "      <td>0</td>\n",
       "      <td>0</td>\n",
       "      <td>0</td>\n",
       "      <td>0</td>\n",
       "      <td>...</td>\n",
       "      <td>0</td>\n",
       "      <td>0</td>\n",
       "      <td>0</td>\n",
       "      <td>0</td>\n",
       "      <td>0</td>\n",
       "      <td>0</td>\n",
       "      <td>0</td>\n",
       "      <td>0</td>\n",
       "      <td>0</td>\n",
       "      <td>0</td>\n",
       "    </tr>\n",
       "    <tr>\n",
       "      <th>7</th>\n",
       "      <td>0</td>\n",
       "      <td>0</td>\n",
       "      <td>0</td>\n",
       "      <td>0</td>\n",
       "      <td>0</td>\n",
       "      <td>0</td>\n",
       "      <td>0</td>\n",
       "      <td>0</td>\n",
       "      <td>0</td>\n",
       "      <td>0</td>\n",
       "      <td>...</td>\n",
       "      <td>0</td>\n",
       "      <td>0</td>\n",
       "      <td>0</td>\n",
       "      <td>0</td>\n",
       "      <td>0</td>\n",
       "      <td>0</td>\n",
       "      <td>0</td>\n",
       "      <td>0</td>\n",
       "      <td>0</td>\n",
       "      <td>0</td>\n",
       "    </tr>\n",
       "    <tr>\n",
       "      <th>8</th>\n",
       "      <td>0</td>\n",
       "      <td>0</td>\n",
       "      <td>0</td>\n",
       "      <td>0</td>\n",
       "      <td>0</td>\n",
       "      <td>0</td>\n",
       "      <td>0</td>\n",
       "      <td>0</td>\n",
       "      <td>0</td>\n",
       "      <td>0</td>\n",
       "      <td>...</td>\n",
       "      <td>0</td>\n",
       "      <td>0</td>\n",
       "      <td>0</td>\n",
       "      <td>0</td>\n",
       "      <td>0</td>\n",
       "      <td>0</td>\n",
       "      <td>0</td>\n",
       "      <td>0</td>\n",
       "      <td>0</td>\n",
       "      <td>0</td>\n",
       "    </tr>\n",
       "    <tr>\n",
       "      <th>9</th>\n",
       "      <td>0</td>\n",
       "      <td>0</td>\n",
       "      <td>0</td>\n",
       "      <td>0</td>\n",
       "      <td>0</td>\n",
       "      <td>0</td>\n",
       "      <td>0</td>\n",
       "      <td>0</td>\n",
       "      <td>0</td>\n",
       "      <td>0</td>\n",
       "      <td>...</td>\n",
       "      <td>0</td>\n",
       "      <td>0</td>\n",
       "      <td>0</td>\n",
       "      <td>0</td>\n",
       "      <td>0</td>\n",
       "      <td>0</td>\n",
       "      <td>0</td>\n",
       "      <td>0</td>\n",
       "      <td>0</td>\n",
       "      <td>0</td>\n",
       "    </tr>\n",
       "    <tr>\n",
       "      <th>10</th>\n",
       "      <td>0</td>\n",
       "      <td>0</td>\n",
       "      <td>0</td>\n",
       "      <td>0</td>\n",
       "      <td>0</td>\n",
       "      <td>0</td>\n",
       "      <td>0</td>\n",
       "      <td>0</td>\n",
       "      <td>0</td>\n",
       "      <td>0</td>\n",
       "      <td>...</td>\n",
       "      <td>0</td>\n",
       "      <td>0</td>\n",
       "      <td>0</td>\n",
       "      <td>0</td>\n",
       "      <td>0</td>\n",
       "      <td>0</td>\n",
       "      <td>0</td>\n",
       "      <td>0</td>\n",
       "      <td>0</td>\n",
       "      <td>0</td>\n",
       "    </tr>\n",
       "    <tr>\n",
       "      <th>11</th>\n",
       "      <td>0</td>\n",
       "      <td>0</td>\n",
       "      <td>0</td>\n",
       "      <td>0</td>\n",
       "      <td>0</td>\n",
       "      <td>0</td>\n",
       "      <td>0</td>\n",
       "      <td>0</td>\n",
       "      <td>0</td>\n",
       "      <td>0</td>\n",
       "      <td>...</td>\n",
       "      <td>0</td>\n",
       "      <td>0</td>\n",
       "      <td>0</td>\n",
       "      <td>0</td>\n",
       "      <td>0</td>\n",
       "      <td>0</td>\n",
       "      <td>0</td>\n",
       "      <td>0</td>\n",
       "      <td>0</td>\n",
       "      <td>0</td>\n",
       "    </tr>\n",
       "    <tr>\n",
       "      <th>12</th>\n",
       "      <td>0</td>\n",
       "      <td>0</td>\n",
       "      <td>0</td>\n",
       "      <td>0</td>\n",
       "      <td>0</td>\n",
       "      <td>0</td>\n",
       "      <td>0</td>\n",
       "      <td>0</td>\n",
       "      <td>0</td>\n",
       "      <td>0</td>\n",
       "      <td>...</td>\n",
       "      <td>0</td>\n",
       "      <td>0</td>\n",
       "      <td>0</td>\n",
       "      <td>0</td>\n",
       "      <td>0</td>\n",
       "      <td>0</td>\n",
       "      <td>0</td>\n",
       "      <td>0</td>\n",
       "      <td>0</td>\n",
       "      <td>0</td>\n",
       "    </tr>\n",
       "    <tr>\n",
       "      <th>13</th>\n",
       "      <td>0</td>\n",
       "      <td>0</td>\n",
       "      <td>0</td>\n",
       "      <td>0</td>\n",
       "      <td>0</td>\n",
       "      <td>0</td>\n",
       "      <td>0</td>\n",
       "      <td>0</td>\n",
       "      <td>0</td>\n",
       "      <td>0</td>\n",
       "      <td>...</td>\n",
       "      <td>0</td>\n",
       "      <td>0</td>\n",
       "      <td>0</td>\n",
       "      <td>0</td>\n",
       "      <td>0</td>\n",
       "      <td>0</td>\n",
       "      <td>0</td>\n",
       "      <td>0</td>\n",
       "      <td>0</td>\n",
       "      <td>0</td>\n",
       "    </tr>\n",
       "    <tr>\n",
       "      <th>14</th>\n",
       "      <td>0</td>\n",
       "      <td>0</td>\n",
       "      <td>0</td>\n",
       "      <td>0</td>\n",
       "      <td>0</td>\n",
       "      <td>0</td>\n",
       "      <td>0</td>\n",
       "      <td>0</td>\n",
       "      <td>0</td>\n",
       "      <td>0</td>\n",
       "      <td>...</td>\n",
       "      <td>0</td>\n",
       "      <td>0</td>\n",
       "      <td>0</td>\n",
       "      <td>0</td>\n",
       "      <td>0</td>\n",
       "      <td>0</td>\n",
       "      <td>0</td>\n",
       "      <td>0</td>\n",
       "      <td>0</td>\n",
       "      <td>0</td>\n",
       "    </tr>\n",
       "  </tbody>\n",
       "</table>\n",
       "<p>15 rows × 24 columns</p>\n",
       "</div>"
      ],
      "text/plain": [
       "    bin/sed  /etc/rc  /etc/init.d/  /proc/  /etc/sed  /selinux  /sys/  bin/  \\\n",
       "0         0        0             0       0         0         0      0     0   \n",
       "1         0        0             0       0         0         0      0     0   \n",
       "2         0        0             0       0         0         0      0     0   \n",
       "3         0        0             0       0         0         0      0     0   \n",
       "4         0        0             0       0         0         0      0     0   \n",
       "5         0        0             0       0         0         0      0     0   \n",
       "6         0        0             0       0         0         0      0     0   \n",
       "7         0        0             0       0         0         0      0     0   \n",
       "8         0        0             0       0         0         0      0     0   \n",
       "9         0        0             0       0         0         0      0     0   \n",
       "10        0        0             0       0         0         0      0     0   \n",
       "11        0        0             0       0         0         0      0     0   \n",
       "12        0        0             0       0         0         0      0     0   \n",
       "13        0        0             0       0         0         0      0     0   \n",
       "14        0        0             0       0         0         0      0     0   \n",
       "\n",
       "    lsb-release  uname(.)($)  ...  ^sh$  ^sed$  \\\n",
       "0             0            0  ...     0      0   \n",
       "1             0            0  ...     0      0   \n",
       "2             0            0  ...     0      0   \n",
       "3             0            0  ...     0      0   \n",
       "4             0            0  ...     0      0   \n",
       "5             0            0  ...     0      0   \n",
       "6             0            0  ...     0      0   \n",
       "7             0            0  ...     0      0   \n",
       "8             0            0  ...     0      0   \n",
       "9             0            0  ...     0      0   \n",
       "10            0            0  ...     0      0   \n",
       "11            0            0  ...     0      0   \n",
       "12            0            0  ...     0      0   \n",
       "13            0            0  ...     0      0   \n",
       "14            0            0  ...     0      0   \n",
       "\n",
       "    \\d{1,3}\\.\\d{1,3}\\.\\d{1,3}\\.\\d{1,3}:\\d+  \\\n",
       "0                                        0   \n",
       "1                                        0   \n",
       "2                                        0   \n",
       "3                                        0   \n",
       "4                                        0   \n",
       "5                                        0   \n",
       "6                                        0   \n",
       "7                                        0   \n",
       "8                                        0   \n",
       "9                                        0   \n",
       "10                                       0   \n",
       "11                                       0   \n",
       "12                                       0   \n",
       "13                                       0   \n",
       "14                                       0   \n",
       "\n",
       "    \\d{1,3}\\.\\d{1,3}\\.\\d{1,3}\\.\\d{1,3}  eth[0-9]$  0x[0-9a-zA-Z]{8}  \\\n",
       "0                                    0          0                 0   \n",
       "1                                    0          0                 0   \n",
       "2                                    0          0                 0   \n",
       "3                                    0          0                 0   \n",
       "4                                    0          0                 0   \n",
       "5                                    0          0                 0   \n",
       "6                                    0          0                 0   \n",
       "7                                    0          0                 0   \n",
       "8                                    0          0                 0   \n",
       "9                                    0          0                 0   \n",
       "10                                   0          0                 0   \n",
       "11                                   0          0                 0   \n",
       "12                                   0          0                 0   \n",
       "13                                   0          0                 0   \n",
       "14                                   0          0                 0   \n",
       "\n",
       "    permission:{0,1}[0-9]{0,4}  UID  GID  match  \n",
       "0                            0    0    0      0  \n",
       "1                            0    0    0      0  \n",
       "2                            0    0    0      0  \n",
       "3                            0    0    0      0  \n",
       "4                            0    0    0      0  \n",
       "5                            0    0    0      0  \n",
       "6                            0    0    0      0  \n",
       "7                            0    0    0      0  \n",
       "8                            0    0    0      0  \n",
       "9                            0    0    0      0  \n",
       "10                           0    0    0      0  \n",
       "11                           0    0    0      0  \n",
       "12                           0    0    0      0  \n",
       "13                           0    0    0      0  \n",
       "14                           0    0    0      0  \n",
       "\n",
       "[15 rows x 24 columns]"
      ]
     },
     "metadata": {},
     "output_type": "display_data"
    }
   ],
   "source": [
    "for rem in fset.rem_lst:\n",
    "    display(rem.get_match_sentences())\n",
    "    break"
   ]
  },
  {
   "cell_type": "code",
   "execution_count": null,
   "metadata": {},
   "outputs": [],
   "source": []
  }
 ],
 "metadata": {
  "kernelspec": {
   "display_name": "Python 3.10.5 64-bit",
   "language": "python",
   "name": "python3"
  },
  "language_info": {
   "codemirror_mode": {
    "name": "ipython",
    "version": 3
   },
   "file_extension": ".py",
   "mimetype": "text/x-python",
   "name": "python",
   "nbconvert_exporter": "python",
   "pygments_lexer": "ipython3",
   "version": "3.10.5"
  },
  "orig_nbformat": 4,
  "vscode": {
   "interpreter": {
    "hash": "125a1d8b627fe68767755740015967bae857d08bb92fb3fd0d9d8ed24f978d39"
   }
  }
 },
 "nbformat": 4,
 "nbformat_minor": 2
}
