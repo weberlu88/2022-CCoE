{
 "cells": [
  {
   "cell_type": "code",
   "execution_count": 2,
   "metadata": {},
   "outputs": [
    {
     "data": {
      "text/plain": [
       "898"
      ]
     },
     "execution_count": 2,
     "metadata": {},
     "output_type": "execute_result"
    }
   ],
   "source": [
    "from os import walk\n",
    "\n",
    "path = './trace/'\n",
    "filenames = next(walk(path), (None, None, []))[2]  # [] if no file\n",
    "len(filenames)"
   ]
  },
  {
   "cell_type": "code",
   "execution_count": 3,
   "metadata": {},
   "outputs": [
    {
     "data": {
      "text/plain": [
       "True"
      ]
     },
     "execution_count": 3,
     "metadata": {},
     "output_type": "execute_result"
    }
   ],
   "source": [
    "123 != 0"
   ]
  },
  {
   "cell_type": "code",
   "execution_count": 9,
   "metadata": {},
   "outputs": [
    {
     "data": {
      "text/plain": [
       "False"
      ]
     },
     "execution_count": 9,
     "metadata": {},
     "output_type": "execute_result"
    }
   ],
   "source": [
    "search_string = ['www', 'http', 'com', 'enoan', 'gzcfr', 'Ipv4P', '3306']\n",
    "def find_text(txt, search_string=search_string):\n",
    "    for s in search_string:\n",
    "        if txt.find(s) == -1:\n",
    "            return False\n",
    "    return True\n",
    "\n",
    "find_text('com')\n",
    "\n",
    "# for filename in filenames:\n",
    "#     with open(f'{path}{filename}', 'r') as f:\n",
    "#         lines = f.readlines()\n",
    "#         for line in lines:\n",
    "#             if \n",
    "#         break"
   ]
  },
  {
   "cell_type": "code",
   "execution_count": null,
   "metadata": {},
   "outputs": [],
   "source": []
  }
 ],
 "metadata": {
  "kernelspec": {
   "display_name": "Python 3.9.7 ('base')",
   "language": "python",
   "name": "python3"
  },
  "language_info": {
   "codemirror_mode": {
    "name": "ipython",
    "version": 3
   },
   "file_extension": ".py",
   "mimetype": "text/x-python",
   "name": "python",
   "nbconvert_exporter": "python",
   "pygments_lexer": "ipython3",
   "version": "3.9.7"
  },
  "orig_nbformat": 4,
  "vscode": {
   "interpreter": {
    "hash": "44ed086a180af0cd91b162437a6d414807f9c1591ad1f7b45143250e317308ba"
   }
  }
 },
 "nbformat": 4,
 "nbformat_minor": 2
}
