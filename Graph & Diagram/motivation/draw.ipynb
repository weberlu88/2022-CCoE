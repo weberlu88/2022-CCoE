{
 "cells": [
  {
   "cell_type": "code",
   "execution_count": null,
   "metadata": {},
   "outputs": [],
   "source": [
    "import graphviz"
   ]
  },
  {
   "cell_type": "code",
   "execution_count": 12,
   "metadata": {},
   "outputs": [
    {
     "data": {
      "text/plain": [
       "'extractor\\\\r1int_after.svg'"
      ]
     },
     "execution_count": 12,
     "metadata": {},
     "output_type": "execute_result"
    }
   ],
   "source": [
    "# copy 一份叫做 after\n",
    "# dot = graphviz.Source.from_file('./extractor/report1_intezer.dot')\n",
    "# dot.format = 'svg'\n",
    "# dot.render(directory='./extractor', filename='r1int_after').replace('\\\\', '/')\n",
    "\n",
    "# 手動修改 r1int_after 的 dot 檔\n",
    "# 繪製 r1int_after 的 svg 檔\n",
    "dot = graphviz.Source.from_file('./extractor/r1int_after')\n",
    "dot.format = 'svg'\n",
    "# dot.render(directory='./extractor', filename='r1int_after').replace('\\\\', '/')\n",
    "dot.render()"
   ]
  },
  {
   "cell_type": "code",
   "execution_count": 16,
   "metadata": {},
   "outputs": [
    {
     "data": {
      "text/plain": [
       "'extractor\\\\r2int_after.svg'"
      ]
     },
     "execution_count": 16,
     "metadata": {},
     "output_type": "execute_result"
    }
   ],
   "source": [
    "# copy 一份叫做 after\n",
    "# dot = graphviz.Source.from_file('./extractor/report2_ms.dot')\n",
    "# dot.format = 'svg'\n",
    "# dot.render(directory='./extractor', filename='r2int_after').replace('\\\\', '/')\n",
    "\n",
    "# 手動修改 r1int_after 的 dot 檔\n",
    "# 繪製 r1int_after 的 svg 檔\n",
    "dot = graphviz.Source.from_file('./extractor/r2int_after')\n",
    "dot.format = 'svg'\n",
    "dot.render()"
   ]
  },
  {
   "cell_type": "code",
   "execution_count": 18,
   "metadata": {},
   "outputs": [
    {
     "name": "stdout",
     "output_type": "stream",
     "text": [
      "file to run /etc/cro\n"
     ]
    }
   ],
   "source": [
    "text = '''Some XorDdos samples install a kernel rootkit, while others embed the rootkit in the XorDdos binary. In this case, the malware has a provision for communicating with its rootkit component /proc/rs_dev by sending input and output control (IOCTL) calls with additional information to take appropriate action.\n",
    "XorDdos uses various persistence mechanisms to support different Linux distributions. The malware drops an init script at the location /etc/init.d. It creates a cron script at the location /etc/cron.hourly/gcc.sh then creates a /etc/crontab file to run /etc/cron.hourly/gcc.sh every three minutes.'''\n",
    "\n",
    "print(text[548:548+20])"
   ]
  },
  {
   "cell_type": "code",
   "execution_count": null,
   "metadata": {},
   "outputs": [],
   "source": []
  }
 ],
 "metadata": {
  "kernelspec": {
   "display_name": "py3_8",
   "language": "python",
   "name": "python3"
  },
  "language_info": {
   "codemirror_mode": {
    "name": "ipython",
    "version": 3
   },
   "file_extension": ".py",
   "mimetype": "text/x-python",
   "name": "python",
   "nbconvert_exporter": "python",
   "pygments_lexer": "ipython3",
   "version": "3.10.5"
  },
  "orig_nbformat": 4
 },
 "nbformat": 4,
 "nbformat_minor": 2
}
