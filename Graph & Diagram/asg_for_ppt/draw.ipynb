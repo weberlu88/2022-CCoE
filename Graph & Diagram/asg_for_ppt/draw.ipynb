{
 "cells": [
  {
   "cell_type": "code",
   "execution_count": 12,
   "metadata": {},
   "outputs": [
    {
     "data": {
      "text/plain": [
       "'dofloo_pptdemo.source.svg'"
      ]
     },
     "execution_count": 12,
     "metadata": {},
     "output_type": "execute_result"
    }
   ],
   "source": [
    "import graphviz\n",
    "dot = graphviz.Source.from_file('dofloo_pptdemo.source')\n",
    "dot = dot.unflatten(stagger=2) \n",
    "dot.format = 'svg'\n",
    "dot.render(directory='./').replace('\\\\', '/')"
   ]
  },
  {
   "cell_type": "code",
   "execution_count": 6,
   "metadata": {},
   "outputs": [
    {
     "data": {
      "text/plain": [
       "'\\ndelete\\n\\n21 [label=\"Sleep Duration\" shape=tab style=filled]\\n14 -> 21 [label=\"29. nanosleep()\"]\\n\\n0 -> 11 [label=\"15. clone()\"]\\n\\t11 -> 12 [label=\"16. exec()\"]\\n\\t12 -> 13 [label=\"17. write()\"]\\n\\t0 -> 14 [label=\"18. clone()\"]\\n'"
      ]
     },
     "execution_count": 6,
     "metadata": {},
     "output_type": "execute_result"
    }
   ],
   "source": [
    "'''\n",
    "delete\n",
    "\n",
    "21 [label=\"Sleep Duration\" shape=tab style=filled]\n",
    "14 -> 21 [label=\"29. nanosleep()\"]\n",
    "\n",
    "11 [label=\"sh\" style=filled]\n",
    "\t12 [label=\"sed\" style=filled]\n",
    "0 -> 11 [label=\"15. clone()\"]\n",
    "\t11 -> 12 [label=\"16. exec()\"]\n",
    "\t12 -> 13 [label=\"17. write()\"]\n",
    "\t\n",
    "'''"
   ]
  },
  {
   "cell_type": "code",
   "execution_count": null,
   "metadata": {},
   "outputs": [],
   "source": []
  }
 ],
 "metadata": {
  "kernelspec": {
   "display_name": "py3_8",
   "language": "python",
   "name": "python3"
  },
  "language_info": {
   "codemirror_mode": {
    "name": "ipython",
    "version": 3
   },
   "file_extension": ".py",
   "mimetype": "text/x-python",
   "name": "python",
   "nbconvert_exporter": "python",
   "pygments_lexer": "ipython3",
   "version": "3.8.0"
  },
  "orig_nbformat": 4
 },
 "nbformat": 4,
 "nbformat_minor": 2
}
