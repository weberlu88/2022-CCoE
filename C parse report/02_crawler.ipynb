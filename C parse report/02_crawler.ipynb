{
 "cells": [
  {
   "cell_type": "markdown",
   "metadata": {},
   "source": [
    ".text 在處裡表格和列表時無法順利換行和空格，因此不建議使用 bs4。我會後直接 ctrl-C 整個網頁再貼到 txt 上，更為完整。"
   ]
  },
  {
   "cell_type": "code",
   "execution_count": null,
   "metadata": {},
   "outputs": [],
   "source": [
    "# ! pip install beautifulsoup4"
   ]
  },
  {
   "cell_type": "code",
   "execution_count": 7,
   "metadata": {},
   "outputs": [],
   "source": [
    "from bs4 import BeautifulSoup\n",
    "with open('content.html', 'r', encoding='utf-8') as fp:\n",
    "    soup = BeautifulSoup(fp, \"html.parser\")"
   ]
  },
  {
   "cell_type": "code",
   "execution_count": 11,
   "metadata": {},
   "outputs": [
    {
     "data": {
      "text/plain": [
       "203"
      ]
     },
     "execution_count": 11,
     "metadata": {},
     "output_type": "execute_result"
    }
   ],
   "source": [
    "lines = soup.text.split('\\n')\n",
    "len(lines)"
   ]
  },
  {
   "cell_type": "code",
   "execution_count": 25,
   "metadata": {},
   "outputs": [
    {
     "data": {
      "text/plain": [
       "['The second method involves running a bash script that performs the following activities via the command line:',\n",
       " 'Iterates the following folders to find a writable directory:/bin/home/root/tmp/usr/etcIf a writable directory is found, changes the working directory to the discovered writable directory.Uses the curl command to download the ELF file payload from the remote location hxxp://Ipv4PII_777789ffaa5b68638cdaea8ecfa10b24b326ed7d/1[.]txt and saves the file as \\xa0ygljglkjgfg0.Changes the file mode to “executable”.Runs the ELF file payload.Moves and renames the Wget binary to evade rule-based detections triggered by malicious usage of the Wget binary. In this case, it renames the Wget binary to good and moves the file to the following locations:mv /usr/bin/wget /usr/bin/goodmv /bin/wget /bin/goodAttempts to download the ELF file payload for a second time, now only using the file good and not the Wget binary.After running the ELF file, uses an anti-forensic technique that hides its past activity by overwriting the content of the following sensitive files with a newline character:',\n",
       " 'Sensitive FileDescription/root/.bash_historyContains the commands that were run earlier/var/log/wtmpContains login related record for users/var/log/btmpContains record of failed login attempt/var/log/lastlogContains the recent login information for users/var/log/secureContains information related to security such as logs for authentication failure, sudo logins, and authorization privileges/var/log/boot.logContains information related to system boot and message logged via system startup processes/var/log/cronContains information related to cron job launch, success and failure error logs/var/log/dmesgContains information related to kernel ring buffer messages, hardware devices, drivers, etc./var/log/firewalldContains logs related to firewall activities/var/log/maillogContains information related to a mail server running on the system/var/log/messagesContains generic system activity messages/var/log/spoolerContains messages from usenet/var/log/syslogContains generic system activity messages/var/log/yum.logContains the package logs related to installation\\\\remove\\\\update activities done via yum utility',\n",
       " 'Figure 3. Remote bash script command used for initial access',\n",
       " 'Whichever initial access method is used, the result is the same: the running of a malicious ELF file, which is the XorDdos malware. In the next section, we do a deep dive into the XorDdos payload.']"
      ]
     },
     "execution_count": 25,
     "metadata": {},
     "output_type": "execute_result"
    }
   ],
   "source": [
    "# 表格非常有問題\n",
    "lines[15:20]"
   ]
  },
  {
   "cell_type": "code",
   "execution_count": null,
   "metadata": {},
   "outputs": [],
   "source": []
  }
 ],
 "metadata": {
  "kernelspec": {
   "display_name": "Python 3.10.5 64-bit",
   "language": "python",
   "name": "python3"
  },
  "language_info": {
   "codemirror_mode": {
    "name": "ipython",
    "version": 3
   },
   "file_extension": ".py",
   "mimetype": "text/x-python",
   "name": "python",
   "nbconvert_exporter": "python",
   "pygments_lexer": "ipython3",
   "version": "3.10.5"
  },
  "orig_nbformat": 4,
  "vscode": {
   "interpreter": {
    "hash": "125a1d8b627fe68767755740015967bae857d08bb92fb3fd0d9d8ed24f978d39"
   }
  }
 },
 "nbformat": 4,
 "nbformat_minor": 2
}
