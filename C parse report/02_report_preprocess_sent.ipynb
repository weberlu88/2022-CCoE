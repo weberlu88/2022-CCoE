{
 "cells": [
  {
   "cell_type": "code",
   "execution_count": 1,
   "metadata": {},
   "outputs": [],
   "source": [
    "import os\n",
    "from os import listdir\n",
    "from os.path import isfile, join\n",
    "from pathlib import Path\n",
    "import pandas as pd\n",
    "import pickle\n",
    "import re\n",
    "import nltk\n",
    "from nltk.tokenize import sent_tokenize\n",
    "# nltk.download('all')"
   ]
  },
  {
   "cell_type": "code",
   "execution_count": 2,
   "metadata": {},
   "outputs": [
    {
     "name": "stdout",
     "output_type": "stream",
     "text": [
      "['Darlloz-Broadcom.txt', 'Darlloz-Giac.txt', 'Darlloz-Icc17.txt', 'Darlloz-ResearchCheckPoint.txt', 'Darlloz-Trendmicro.txt', 'Darlloz-Trendmicro2.txt', 'Darlloz-cisco.txt']\n"
     ]
    }
   ],
   "source": [
    "# Utility functions\n",
    "def get_all_filenames(dir: str='./') -> list:\n",
    "    ''' traverse root directory, and list directories as dirs and files as files. Return filenames in rootdir. '''\n",
    "    files = [f for f in listdir(dir) if isfile(join(dir, f))]\n",
    "    files.sort()\n",
    "    return files\n",
    "\n",
    "def flatten(t):\n",
    "    return [item for sublist in t for item in sublist]\n",
    "\n",
    "def lower(pharse: str) -> str:\n",
    "    return pharse.lower()\n",
    "    \n",
    "reports = get_all_filenames()\n",
    "reports = [r for r in reports if r.endswith('.txt')]\n",
    "reports = [r for r in reports if r.startswith('Darlloz')]\n",
    "# reports.remove('Dofloo-360InternetSecurityCenter.txt')\n",
    "print(reports)"
   ]
  },
  {
   "cell_type": "markdown",
   "metadata": {},
   "source": [
    "將所有 report 斷句，另存csv檔  \n",
    "- 有人為斷句的文章: `Dofloo-Trendmicro.txt`"
   ]
  },
  {
   "cell_type": "code",
   "execution_count": 3,
   "metadata": {},
   "outputs": [],
   "source": [
    "Path(\"./sentence csvs\").mkdir(parents=True, exist_ok=True)\n",
    "\n",
    "for rname in reports:\n",
    "    with open(rname, 'r', encoding=\"utf-8\") as f:\n",
    "        raw_text = f.read()\n",
    "    # raw_text = lower(raw_text)\n",
    "    text = re.sub(r\"\\\"\", '', raw_text)\n",
    "    text_sentences = sent_tokenize(text, language='english')\n",
    "\n",
    "    must_split_ids = [] # ~~ 符號表示人為強制斷句，若文本中有 ~~ 則表示nltk斷得不夠徹底需再進行強制斷句\n",
    "    if text.find('~~') != -1:\n",
    "        tmp = text_sentences\n",
    "        text_sentences = []\n",
    "        for i, sent in enumerate(tmp): \n",
    "            try:\n",
    "                text_sentences.extend(sent.split('~~'))\n",
    "            except:\n",
    "                text_sentences.append(sent)\n",
    "        # print(text_sentences)\n",
    "    \n",
    "    [sent.strip() for sent in text_sentences] # build up csv file\n",
    "    lst = []\n",
    "    for i, sent in enumerate(text_sentences):\n",
    "        lst.append([f'Sentence {i+1}', sent])\n",
    "    rname_wo_txt = rname.split('.')[0] # 去掉 .txt\n",
    "    df = pd.DataFrame(lst, columns=['Number','Content'])\n",
    "    df.to_csv(f'./sentence csvs/{rname_wo_txt}.csv', index=False)"
   ]
  },
  {
   "cell_type": "markdown",
   "metadata": {},
   "source": [
    "測試將一篇 report  斷句"
   ]
  },
  {
   "cell_type": "code",
   "execution_count": 7,
   "metadata": {},
   "outputs": [
    {
     "name": "stdout",
     "output_type": "stream",
     "text": [
      "Sentence 1: AESDDoS bot exploits CVE-2019-3396 flaw to hit Atlassian Confluence Server\n",
      "April 28, 2019  By Pierluigi Paganini\n",
      "\n",
      "A new variant of the AESDDoS bot is exploiting a recent vulnerability in the Atlassian collaborative software Confluence.\n",
      "\n",
      "Sentence 2: Security experts at Trend Micro have spotted a new variant of AESDDoS botnet that is exploiting a recently discovered vulnerability in the Atlassian collaborative software Confluence.\n",
      "\n",
      "Sentence 3: The flaw exploited in the attacks, tracked as CVE-2019-3396, is a server-side template injection vulnerability that resides in the Widget Connector macro in Confluence Server.\n",
      "\n",
      "Sentence 4: Threat actors leverage the vulnerability to install denial of service (DDoS) malware and crypto-currency miners, and to remotely execute code.\n",
      "\n",
      "Sentence 5: “In our analysis, we saw that an attacker was able to exploit CVE-2019-3396 to infect machines with the AESDDoS botnet malware.” reads the analysis published by Trend Micro.\n",
      "\n",
      "Sentence 6: “A shell command was remotely executed to download and execute a malicious shell script (Trojan.SH.LODEX.J), which in turn downloaded another shell script (Trojan.SH.DOGOLOAD.J) that finally installed the AESDDoS botnet malware on the affected system.”\n",
      "\n",
      "The AESDDoS bot involved in the recent attacks has the ability to launch several types of DDoS attacks, including SYN, LSYN, UDP, UDPS, and TCP flood.\n",
      "\n",
      "Sentence 7: The malware also connects to 23.224.59.34:48080 to send and receive remote shell commands from the attacker.\n",
      "\n",
      "Sentence 8: Once the malware has infected a system, it can gather system information, including model ID and CPU description, speed, family, model, and type.\n",
      "\n",
      "Sentence 9: The AESDDoS bot uses the AES algorithm to encrypt gathered data and data received from the C2 server.\n",
      "\n",
      "Sentence 10: Trend Micro researchers also discovered that the latest variant of the AESDDoS bot can modify files i.e., /etc/rc.local and /etc/rc.d/rc.local, as an autostart technique by appending the {malware path}/{malware file name} reboot command.\n",
      "\n",
      "Sentence 11: Atlassian has already addressed the vulnerability in the Confluence software with the release of the version 6.15.1.\n",
      "\n",
      "Sentence 12: “Since the successful exploitation of CVE-2019-3396 in Atlassian Confluence Server can put resources at risk, enterprises should be able to identify vulnerabilities, make use of the latest threat intelligence against malware or exploits, and detect modifications to the application’s design and the underlying infrastructure that hosts it,” Trend Micro concludes.\n",
      "\n",
      "Sentence 13: Pierluigi Paganini\n",
      "\n",
      "SecurityAffairs – AESDDoS bot, DDoS\n",
      "\n"
     ]
    }
   ],
   "source": [
    "with open(reports[2], 'r', encoding=\"utf-8\") as f:\n",
    "    raw_text = f.read()\n",
    "# raw_text = '''\"When you start coding, it makes you feel smart in itself, like you're in the Matrix [film],\" says Janine Luk, a 26 year-old software engineer who works in London. Born in Hong Kong, she started her career in yacht marketing in the south of France but found is's \"a bit repetitive and superficial\". So, she started teaching herself to code after work, followed by a 15-week coding boot camp.'''\n",
    "\n",
    "# removing double quotes\n",
    "text = re.sub(r\"\\\"\", '', raw_text)\n",
    "\n",
    "# breaking text into sentences\n",
    "text_sentences = sent_tokenize(text, language='english')\n",
    "\n",
    "# printing out sentences\n",
    "for i, sent in enumerate(text_sentences):\n",
    "    print(\"Sentence {}: {}\".format(i + 1, sent), end = \"\\n\\n\")"
   ]
  },
  {
   "cell_type": "code",
   "execution_count": null,
   "metadata": {},
   "outputs": [],
   "source": []
  }
 ],
 "metadata": {
  "kernelspec": {
   "display_name": "Python 3.10.5 64-bit",
   "language": "python",
   "name": "python3"
  },
  "language_info": {
   "codemirror_mode": {
    "name": "ipython",
    "version": 3
   },
   "file_extension": ".py",
   "mimetype": "text/x-python",
   "name": "python",
   "nbconvert_exporter": "python",
   "pygments_lexer": "ipython3",
   "version": "3.10.5"
  },
  "orig_nbformat": 4,
  "vscode": {
   "interpreter": {
    "hash": "125a1d8b627fe68767755740015967bae857d08bb92fb3fd0d9d8ed24f978d39"
   }
  }
 },
 "nbformat": 4,
 "nbformat_minor": 2
}
