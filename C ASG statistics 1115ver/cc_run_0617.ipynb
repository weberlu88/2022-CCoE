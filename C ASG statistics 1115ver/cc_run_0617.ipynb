{
 "cells": [
  {
   "attachments": {},
   "cell_type": "markdown",
   "metadata": {},
   "source": [
    "## 為資策會(iii)提供的樣本 建立ASG物件和node, steplist等檔案"
   ]
  },
  {
   "cell_type": "code",
   "execution_count": 1,
   "metadata": {},
   "outputs": [],
   "source": [
    "import re\n",
    "import os\n",
    "from os import listdir\n",
    "from os.path import isfile, join\n",
    "from pathlib import Path\n",
    "from collections import Counter\n",
    "import pandas as pd\n",
    "import json\n",
    "import pickle\n",
    "from typing import Dict, List, get_type_hints\n",
    "from IPython.display import display\n",
    "import time\n",
    "\n",
    "''' 志剛寫的模組 '''\n",
    "from ASG import AttackGraph, Node, Edge, FileTable\n",
    "import Utility"
   ]
  },
  {
   "cell_type": "code",
   "execution_count": 2,
   "metadata": {},
   "outputs": [
    {
     "data": {
      "text/plain": [
       "'\\nLoad 樣本:\\n路徑為 \"C ASG/trace_iii/家族資料夾/樣本資料夾/側錄檔案\"\\n事先過濾掉不需要的家族\\n取出 Family name\\n把 malware sample 錄好，產出 ASG pkl, unique steplist, node, regex，放在 Family folder 底下\\n輸出路徑為 \"C ASG statistics 1115ver/saved_pkl/家族資料夾/輸出檔案\"\\n'"
      ]
     },
     "execution_count": 2,
     "metadata": {},
     "output_type": "execute_result"
    }
   ],
   "source": [
    "'''\n",
    "Load 樣本:\n",
    "路徑為 \"C ASG/trace_iii/家族資料夾/樣本資料夾/側錄檔案\"\n",
    "事先過濾掉不需要的家族\n",
    "取出 Family name\n",
    "把 malware sample 錄好，產出 ASG pkl, unique steplist, node, regex，放在 Family folder 底下\n",
    "輸出路徑為 \"C ASG statistics 1115ver/saved_pkl/家族資料夾/輸出檔案\"\n",
    "'''"
   ]
  },
  {
   "cell_type": "code",
   "execution_count": 3,
   "metadata": {},
   "outputs": [
    {
     "name": "stdout",
     "output_type": "stream",
     "text": [
      "get_trace_dirs()::numOfFamily: 24 ['642d7f5c4baced8d52cb8b3a', 'AlienReverse_642d7a6c7f12000277e1c88d', 'AvosLocker_61e6e07fe17676b3e61f7052', 'BlackSuit_6462497daf5d5114cdca1a64', 'BPFDoor_627b895a61f9e9b2bc4ecb92', 'BPFDoor_62e8e78bedb06157297a08b6', 'ChinaZ__642311f7791b9d10b49e466e', 'Cl0P_642ab999af92a5fe2c205d8d', 'Conti_645d0a843536d3878d95d18d', 'DarkRadiation_60cb61e79c2d51ea3b16be1c', 'Defray777_603d19ff5e6680fa73bbf7b3', 'Demonbot_60f0059134f2d6364de00c85', 'EnemyBot_625018546137a10d9ebc8ca3', 'EvilGnome_5d2f78275d79002092e0738b', 'FontOnLake_616d81e373e59b8f75f96586', 'HCRootkit_614d8aadc93405bd8c396125', 'HiddenWasp_5cee9b54081b268fd1cf9b39', 'KEYPLUG_642d7cb2e959b168626a5310', 'KEYPLUG_642ec50c398e28491b3a7626', 'Lightning_Framework_62d93453f00b94b4e7b7274e', 'Mirai_628ba92b2d40b12383c1344d', 'Moose_5564c9edb45ff543aee5b437', 'Royal_63f640bd42bcd8428c6f3e12', 'XMRigMiner_63ac153614c9db1f6699fa19']\n"
     ]
    }
   ],
   "source": [
    "def get_trace_dirs():\n",
    "    ''' return relative path of traces (sample folders). \\n\n",
    "    Output:\\n @sample_paths - relative path of traces. \\n\n",
    "    @family_namedict - 資料夾名稱對應到 family name 的 dict '''\n",
    "    tarce_root_path = f'../C ASG/trace_iii/'\n",
    "    ignore_family = []\n",
    "    family_paths = next(os.walk(tarce_root_path))[1] # 取得subfolder的名稱\n",
    "    family_namedict = {}\n",
    "    print('get_trace_dirs()::numOfFamily:', len(family_paths), family_paths)\n",
    "    sample_paths = []\n",
    "    for f in family_paths:\n",
    "        if f in ignore_family:\n",
    "            continue\n",
    "        sp = [x[0] for x in os.walk(f\"{tarce_root_path}/{f}\")][1:]  # 第一個elem是root_path，捨去\n",
    "        # print(s)\n",
    "        sample_paths.extend(sp)\n",
    "        # extract the family name for dir name\n",
    "        fname = f.split('_')[0]\n",
    "        family_namedict[f] = fname\n",
    "        for s in sp:\n",
    "            family_namedict[s] = fname\n",
    "     \n",
    "    return sample_paths, family_namedict\n",
    "\n",
    "def build(sample_dir: str, output_filename: str='', save_file: bool=True, draw: bool=False):\n",
    "    ''' build ASG. Read from a trace PATH, store output image at `output/family/sample.svg`. Return `AttackGraph`.'''\n",
    "    # path = f'../C ASG/trace/{family_dir}/{sample_dir}' # trace log folder for a sample\n",
    "    path = sample_dir\n",
    "    if not os.path.isdir(path):\n",
    "        print(f'  error, path not extst: {path}')\n",
    "        return None\n",
    "    # print('  path:', path)\n",
    "    output_path = path.replace('trace', 'output')\n",
    "    if len(output_filename):\n",
    "        output_path = output_path.replace(sample_dir, output_filename)\n",
    "\n",
    "    # Create Attack Scenario Graph\n",
    "    graph = AttackGraph(path)\n",
    "    graph.create()\n",
    "\n",
    "    return graph\n",
    "\n",
    "sample_paths, family_namedict = get_trace_dirs()"
   ]
  },
  {
   "attachments": {},
   "cell_type": "markdown",
   "metadata": {},
   "source": [
    "Cl0P_642ab99 跑太久..跳過"
   ]
  },
  {
   "cell_type": "code",
   "execution_count": 4,
   "metadata": {},
   "outputs": [
    {
     "name": "stdout",
     "output_type": "stream",
     "text": [
      "0 ../C ASG/trace_iii//642d7f5c4baced8d52cb8b3a\\b711579e33b0df2143c7cb61246233c7f9b4d53db6a048427a58c0295d8daf1c\n",
      "1 ../C ASG/trace_iii//AlienReverse_642d7a6c7f12000277e1c88d\\187b6a4c6bc379c183657d8eafc225da53ab8f78ac192704b713cc202cf89a17\n",
      "Strace merge path: ../C ASG/trace_iii//AlienReverse_642d7a6c7f12000277e1c88d\\187b6a4c6bc379c183657d8eafc225da53ab8f78ac192704b713cc202cf89a17\n",
      "2 ../C ASG/trace_iii//AlienReverse_642d7a6c7f12000277e1c88d\\1f9e4bfb25622eab6c33da7da9be6c51cf8bf1a284ee1c1703a3cee445bc8cd9\n",
      "Strace merge path: ../C ASG/trace_iii//AlienReverse_642d7a6c7f12000277e1c88d\\1f9e4bfb25622eab6c33da7da9be6c51cf8bf1a284ee1c1703a3cee445bc8cd9\n",
      "3 ../C ASG/trace_iii//AlienReverse_642d7a6c7f12000277e1c88d\\22fd67457274635db7dd679782e002009363010db66523973b4748d5778b1a2a\n",
      "Strace merge path: ../C ASG/trace_iii//AlienReverse_642d7a6c7f12000277e1c88d\\22fd67457274635db7dd679782e002009363010db66523973b4748d5778b1a2a\n",
      "4 ../C ASG/trace_iii//AlienReverse_642d7a6c7f12000277e1c88d\\2801a3cc5aed8ecb391a9638a3c6f8db58ca3002e66f11bf88f8c7c2e5a6b009\n",
      "Strace merge path: ../C ASG/trace_iii//AlienReverse_642d7a6c7f12000277e1c88d\\2801a3cc5aed8ecb391a9638a3c6f8db58ca3002e66f11bf88f8c7c2e5a6b009\n",
      "5 ../C ASG/trace_iii//AlienReverse_642d7a6c7f12000277e1c88d\\2c1a6fe08c8cbdc904809be4c12b520888da7f33123d1656a268780a9be45e20\n",
      "6 ../C ASG/trace_iii//AlienReverse_642d7a6c7f12000277e1c88d\\2db4adf44b446cdd1989cbc139e67c068716fb76a460654791eef7a959627009\n",
      "Strace merge path: ../C ASG/trace_iii//AlienReverse_642d7a6c7f12000277e1c88d\\2db4adf44b446cdd1989cbc139e67c068716fb76a460654791eef7a959627009\n",
      "7 ../C ASG/trace_iii//AlienReverse_642d7a6c7f12000277e1c88d\\2e62d6c47c00458da9338c990b095594eceb3994bf96812c329f8326041208e8\n",
      "Strace merge path: ../C ASG/trace_iii//AlienReverse_642d7a6c7f12000277e1c88d\\2e62d6c47c00458da9338c990b095594eceb3994bf96812c329f8326041208e8\n",
      "8 ../C ASG/trace_iii//AlienReverse_642d7a6c7f12000277e1c88d\\3535f45bbfafda863665c41d97d894c39277dfd9af1079581d28015f76669b88\n",
      "Strace merge path: ../C ASG/trace_iii//AlienReverse_642d7a6c7f12000277e1c88d\\3535f45bbfafda863665c41d97d894c39277dfd9af1079581d28015f76669b88\n",
      "9 ../C ASG/trace_iii//AlienReverse_642d7a6c7f12000277e1c88d\\3c1842d29a3445bd3b85be486e49dba36b8b5ad55841c0ce00630cb83386881d\n",
      "Strace merge path: ../C ASG/trace_iii//AlienReverse_642d7a6c7f12000277e1c88d\\3c1842d29a3445bd3b85be486e49dba36b8b5ad55841c0ce00630cb83386881d\n",
      "10 ../C ASG/trace_iii//AlienReverse_642d7a6c7f12000277e1c88d\\407ab8618fed74fdb5fd374f3ed4a2fd9e8ea85631be2787e2ad17200f0462b8\n",
      "Strace merge path: ../C ASG/trace_iii//AlienReverse_642d7a6c7f12000277e1c88d\\407ab8618fed74fdb5fd374f3ed4a2fd9e8ea85631be2787e2ad17200f0462b8\n",
      "11 ../C ASG/trace_iii//AlienReverse_642d7a6c7f12000277e1c88d\\5861584bb7fa46373c1b1f83b1e066a3d82e9c10ce87539ee1633ef0f567e743\n",
      "12 ../C ASG/trace_iii//AlienReverse_642d7a6c7f12000277e1c88d\\617f9add4c27f3bb91a32fee007cce01f5a51deaf42e75e6cec3e71afe2ba967\n",
      "Strace merge path: ../C ASG/trace_iii//AlienReverse_642d7a6c7f12000277e1c88d\\617f9add4c27f3bb91a32fee007cce01f5a51deaf42e75e6cec3e71afe2ba967\n",
      "13 ../C ASG/trace_iii//AlienReverse_642d7a6c7f12000277e1c88d\\69ff2f88c1f9007b80d591e9655cc61eaa4709ccd8b3aa6ec15e3aa46b9098bd\n",
      "Strace merge path: ../C ASG/trace_iii//AlienReverse_642d7a6c7f12000277e1c88d\\69ff2f88c1f9007b80d591e9655cc61eaa4709ccd8b3aa6ec15e3aa46b9098bd\n",
      "14 ../C ASG/trace_iii//AlienReverse_642d7a6c7f12000277e1c88d\\758b0934b7adddb794951d15a6ddcace1fa523e814aa40b55e2d071cf2df81f0\n",
      "Strace merge path: ../C ASG/trace_iii//AlienReverse_642d7a6c7f12000277e1c88d\\758b0934b7adddb794951d15a6ddcace1fa523e814aa40b55e2d071cf2df81f0\n",
      "15 ../C ASG/trace_iii//AlienReverse_642d7a6c7f12000277e1c88d\\8d855c28744dd6a9c0668ad9659baf06e5e448353f54d2f99beddd21b41390b7\n",
      "Strace merge path: ../C ASG/trace_iii//AlienReverse_642d7a6c7f12000277e1c88d\\8d855c28744dd6a9c0668ad9659baf06e5e448353f54d2f99beddd21b41390b7\n",
      "16 ../C ASG/trace_iii//AlienReverse_642d7a6c7f12000277e1c88d\\a5a4284f87fd475b9474626040d289ffabba1066fae6c37bd7de9dabaf65e87a\n",
      "Strace merge path: ../C ASG/trace_iii//AlienReverse_642d7a6c7f12000277e1c88d\\a5a4284f87fd475b9474626040d289ffabba1066fae6c37bd7de9dabaf65e87a\n",
      "17 ../C ASG/trace_iii//AlienReverse_642d7a6c7f12000277e1c88d\\a62b67596640a3ebadd288e733f933ff581cc1822d6871351d82bd7472655bb5\n",
      "Strace merge path: ../C ASG/trace_iii//AlienReverse_642d7a6c7f12000277e1c88d\\a62b67596640a3ebadd288e733f933ff581cc1822d6871351d82bd7472655bb5\n",
      "18 ../C ASG/trace_iii//AlienReverse_642d7a6c7f12000277e1c88d\\c36ab5108491f4969512f4d35e0d42b3d371033c8ccf03e700c60fb98d5a95f8\n",
      "Strace merge path: ../C ASG/trace_iii//AlienReverse_642d7a6c7f12000277e1c88d\\c36ab5108491f4969512f4d35e0d42b3d371033c8ccf03e700c60fb98d5a95f8\n",
      "19 ../C ASG/trace_iii//AvosLocker_61e6e07fe17676b3e61f7052\\0cd7b6ea8857ce827180342a1c955e79c3336a6cf2000244e5cfd4279c5fc1b6\n",
      "Strace merge path: ../C ASG/trace_iii//AvosLocker_61e6e07fe17676b3e61f7052\\0cd7b6ea8857ce827180342a1c955e79c3336a6cf2000244e5cfd4279c5fc1b6\n",
      "20 ../C ASG/trace_iii//AvosLocker_61e6e07fe17676b3e61f7052\\10ab76cd6d6b50d26fde5fe54e8d80fceeb744de8dbafddff470939fac6a98c4\n",
      "Strace merge path: ../C ASG/trace_iii//AvosLocker_61e6e07fe17676b3e61f7052\\10ab76cd6d6b50d26fde5fe54e8d80fceeb744de8dbafddff470939fac6a98c4\n",
      "21 ../C ASG/trace_iii//BlackSuit_6462497daf5d5114cdca1a64\\1c849adcccad4643303297fb66bfe81c5536be39a87601d67664af1d14e02b9e\n",
      "Strace merge path: ../C ASG/trace_iii//BlackSuit_6462497daf5d5114cdca1a64\\1c849adcccad4643303297fb66bfe81c5536be39a87601d67664af1d14e02b9e\n",
      "22 ../C ASG/trace_iii//BPFDoor_627b895a61f9e9b2bc4ecb92\\07ecb1f2d9ffbd20a46cd36cd06b022db3cc8e45b1ecab62cd11f9ca7a26ab6d\n",
      "Strace merge path: ../C ASG/trace_iii//BPFDoor_627b895a61f9e9b2bc4ecb92\\07ecb1f2d9ffbd20a46cd36cd06b022db3cc8e45b1ecab62cd11f9ca7a26ab6d\n",
      "23 ../C ASG/trace_iii//BPFDoor_627b895a61f9e9b2bc4ecb92\\599ae527f10ddb4625687748b7d3734ee51673b664f2e5d0346e64f85e185683\n",
      "Strace merge path: ../C ASG/trace_iii//BPFDoor_627b895a61f9e9b2bc4ecb92\\599ae527f10ddb4625687748b7d3734ee51673b664f2e5d0346e64f85e185683\n",
      "24 ../C ASG/trace_iii//BPFDoor_627b895a61f9e9b2bc4ecb92\\5faab159397964e630c4156f8852bcc6ee46df1cdd8be2a8d3f3d8e5980f3bb3\n",
      "Strace merge path: ../C ASG/trace_iii//BPFDoor_627b895a61f9e9b2bc4ecb92\\5faab159397964e630c4156f8852bcc6ee46df1cdd8be2a8d3f3d8e5980f3bb3\n",
      "25 ../C ASG/trace_iii//BPFDoor_627b895a61f9e9b2bc4ecb92\\96e906128095dead57fdc9ce8688bb889166b67c9a1b8fdb93d7cff7f3836bb9\n",
      "Strace merge path: ../C ASG/trace_iii//BPFDoor_627b895a61f9e9b2bc4ecb92\\96e906128095dead57fdc9ce8688bb889166b67c9a1b8fdb93d7cff7f3836bb9\n",
      "26 ../C ASG/trace_iii//BPFDoor_627b895a61f9e9b2bc4ecb92\\97a546c7d08ad34dfab74c9c8a96986c54768c592a8dae521ddcf612a84fb8cc\n",
      "Strace merge path: ../C ASG/trace_iii//BPFDoor_627b895a61f9e9b2bc4ecb92\\97a546c7d08ad34dfab74c9c8a96986c54768c592a8dae521ddcf612a84fb8cc\n",
      "27 ../C ASG/trace_iii//BPFDoor_627b895a61f9e9b2bc4ecb92\\f8a5e735d6e79eb587954a371515a82a15883cf2eda9d7ddb8938b86e714ea27\n",
      "Strace merge path: ../C ASG/trace_iii//BPFDoor_627b895a61f9e9b2bc4ecb92\\f8a5e735d6e79eb587954a371515a82a15883cf2eda9d7ddb8938b86e714ea27\n",
      "28 ../C ASG/trace_iii//BPFDoor_627b895a61f9e9b2bc4ecb92\\fa0defdabd9fd43fe2ef1ec33574ea1af1290bd3d763fdb2bed443f2bd996d73\n",
      "Strace merge path: ../C ASG/trace_iii//BPFDoor_627b895a61f9e9b2bc4ecb92\\fa0defdabd9fd43fe2ef1ec33574ea1af1290bd3d763fdb2bed443f2bd996d73\n",
      "29 ../C ASG/trace_iii//BPFDoor_627b895a61f9e9b2bc4ecb92\\fd1b20ee5bd429046d3c04e9c675c41e9095bea70e0329bd32d7edd17ebaf68a\n",
      "Strace merge path: ../C ASG/trace_iii//BPFDoor_627b895a61f9e9b2bc4ecb92\\fd1b20ee5bd429046d3c04e9c675c41e9095bea70e0329bd32d7edd17ebaf68a\n",
      "30 ../C ASG/trace_iii//BPFDoor_62e8e78bedb06157297a08b6\\f8a5e735d6e79eb587954a371515a82a15883cf2eda9d7ddb8938b86e714ea27\n",
      "Strace merge path: ../C ASG/trace_iii//BPFDoor_62e8e78bedb06157297a08b6\\f8a5e735d6e79eb587954a371515a82a15883cf2eda9d7ddb8938b86e714ea27\n",
      "31 ../C ASG/trace_iii//ChinaZ__642311f7791b9d10b49e466e\\14afd7d319cf271a7d871f297a27eac388d7f0381a1fc0691b18a8dd15ddf327\n",
      "Strace merge path: ../C ASG/trace_iii//ChinaZ__642311f7791b9d10b49e466e\\14afd7d319cf271a7d871f297a27eac388d7f0381a1fc0691b18a8dd15ddf327\n",
      "32 ../C ASG/trace_iii//ChinaZ__642311f7791b9d10b49e466e\\df318d08c8f0e11ccebb48f7a4df29c5f54cccb16200d8e9e36d8aa6b7189c45\n",
      "Strace merge path: ../C ASG/trace_iii//ChinaZ__642311f7791b9d10b49e466e\\df318d08c8f0e11ccebb48f7a4df29c5f54cccb16200d8e9e36d8aa6b7189c45\n",
      "33 ../C ASG/trace_iii//Cl0P_642ab999af92a5fe2c205d8d\\09d6dab9b70a74f61c41eaa485b37de9a40c86b6d2eae7413db11b4e6a8256ef\n",
      "Strace merge path: ../C ASG/trace_iii//Cl0P_642ab999af92a5fe2c205d8d\\09d6dab9b70a74f61c41eaa485b37de9a40c86b6d2eae7413db11b4e6a8256ef\n"
     ]
    }
   ],
   "source": [
    "for i, sp in enumerate(sample_paths):\n",
    "    print(i, sp)\n",
    "    if i <= 33:\n",
    "        continue\n",
    "    try:\n",
    "        asg = None\n",
    "        asg = build(sp)\n",
    "    except:\n",
    "        time.sleep(0.1)\n",
    "        asg = build(sp)  # 常常有 io 錯誤所以給他一次 rerun 機會\n",
    "\n",
    "    # 取得 objects 和 steplist\n",
    "    if asg == None:\n",
    "        continue\n",
    "    seen_node_S, seen_node_O = Utility.create_set_of_objects(asg)\n",
    "    steplist = Utility.get_sorted_uni_step(asg)\n",
    "\n",
    "    # 儲存 asg 物件, destobjects, steplist\n",
    "    smaple_name = sp.split('\\\\')[-1]\n",
    "    family_name = family_namedict[sp]\n",
    "    family_path = f'./saved_pkl/{family_name}'\n",
    "    Path(family_path).mkdir(parents=True, exist_ok=True)\n",
    "    with open(f'{family_path}/{smaple_name}.pkl', 'wb') as outp:\n",
    "        pickle.dump(asg, outp, pickle.HIGHEST_PROTOCOL)\n",
    "    with open(f'{family_path}/{smaple_name}_object.txt', 'w') as outf:\n",
    "        outf.writelines(line + '\\n' for line in seen_node_O)\n",
    "    with open(f'{family_path}/{smaple_name}_steplist.txt', 'w') as outf:\n",
    "        outf.writelines(f\"{step[0]:8} -> {step[2]:15} -> {step[1]}\" + '\\n' for step in steplist)\n",
    "    # break"
   ]
  },
  {
   "cell_type": "code",
   "execution_count": null,
   "metadata": {},
   "outputs": [],
   "source": []
  }
 ],
 "metadata": {
  "kernelspec": {
   "display_name": "Python 3",
   "language": "python",
   "name": "python3"
  },
  "language_info": {
   "codemirror_mode": {
    "name": "ipython",
    "version": 3
   },
   "file_extension": ".py",
   "mimetype": "text/x-python",
   "name": "python",
   "nbconvert_exporter": "python",
   "pygments_lexer": "ipython3",
   "version": "3.10.5"
  },
  "orig_nbformat": 4
 },
 "nbformat": 4,
 "nbformat_minor": 2
}
