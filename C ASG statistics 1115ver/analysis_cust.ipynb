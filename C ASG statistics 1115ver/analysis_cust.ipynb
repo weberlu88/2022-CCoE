{
 "cells": [
  {
   "cell_type": "markdown",
   "metadata": {},
   "source": [
    "## 2022/11/08 針對 Dofloo 單一個樣本，4 種 ASG 的結果進行分析"
   ]
  },
  {
   "cell_type": "code",
   "execution_count": 1,
   "metadata": {},
   "outputs": [],
   "source": [
    "import pandas as pd\n",
    "import pickle\n",
    "import sys\n",
    "from collections import Counter\n",
    "from pathlib import Path"
   ]
  },
  {
   "cell_type": "markdown",
   "metadata": {},
   "source": [
    "從上層資料夾import模組，但build()的相對路徑會出錯，還是直接把模組搬過來測。\n",
    "- https://www.geeksforgeeks.org/python-import-from-parent-directory/\n",
    "- https://stackoverflow.com/questions/714063/importing-modules-from-parent-folder\n",
    "- https://stackoverflow.com/questions/39125532/file-does-not-exist-in-jupyter-notebook"
   ]
  },
  {
   "cell_type": "code",
   "execution_count": 2,
   "metadata": {},
   "outputs": [],
   "source": [
    "# from cc_module import build\n",
    "# from cc_module import AttackGraph, Node, Edge, FileTable\n",
    "# from cc_module_cust import build\n",
    "from cc_module_cust import AttackGraph, Node, Edge, FileTable # 增加 AttackGraph.step_list"
   ]
  },
  {
   "cell_type": "markdown",
   "metadata": {},
   "source": [
    "### Excel 1: 包裝成 function，印出統計結果 (Node)\n",
    "結果直接輸出到txt中喔!"
   ]
  },
  {
   "cell_type": "code",
   "execution_count": 3,
   "metadata": {},
   "outputs": [],
   "source": [
    "def translate_type(s: str) -> str:\n",
    "    type = {\n",
    "        'p': 'proc',\n",
    "        'f': 'file',\n",
    "        'n': 'net',\n",
    "        'm': 'mem',\n",
    "        'm_addr': 'mem',\n",
    "    }\n",
    "    return type.get(s, 'other')"
   ]
  },
  {
   "cell_type": "code",
   "execution_count": 8,
   "metadata": {},
   "outputs": [],
   "source": [
    "def analysis_graph(asg: AttackGraph) -> pd.DataFrame:\n",
    "    node_set = [node.name for node in asg.graph.keys()]\n",
    "    node_type = {}\n",
    "    print('# of nodes:',len(node_set))\n",
    "    print('# of edges:',len(asg.step_list),'(edges equal to steps)\\n')\n",
    "\n",
    "    nodeType_counter = Counter({n:0 for n in ['f','c','n','p','m_addr','pipe','else']})\n",
    "    for node in asg.graph.keys():\n",
    "        nodeType_counter[node.type] += 1\n",
    "    print('# of node type:\\n',nodeType_counter)\n",
    "\n",
    "    node_counter = Counter({n:0 for n in node_set})\n",
    "    edge_counter = Counter()\n",
    "    for (src_node, dst_node, edgename) in asg.step_list:\n",
    "        node_counter[src_node.name] += 1\n",
    "        node_counter[dst_node.name] += 1\n",
    "        edge_counter[edgename] += 1\n",
    "        node_type[src_node.name] = translate_type(src_node.type)\n",
    "        node_type[dst_node.name] = translate_type(dst_node.type)\n",
    "    print('\\nfrequency of node:\\n',node_counter)\n",
    "    print('\\nfrequency of edge:\\n',edge_counter)\n",
    "    print('\\n# of syscall',len(edge_counter))\n",
    "\n",
    "    # 回傳這張圖的 node_name, node_name, appearance\n",
    "    df = [[node,node_type[node],node_counter[node]] for node in node_counter]\n",
    "    df = pd.DataFrame(df, columns=['node_name', 'type', 'appearance'])\n",
    "    return df"
   ]
  },
  {
   "cell_type": "markdown",
   "metadata": {},
   "source": [
    "\n",
    "- 這邊直接寫入檔案 V1.txt, V2.txt ...。也生成一個 node 的統計資訊 excel 檔。\n",
    "- https://stackoverflow.com/questions/7152762/how-to-redirect-print-output-to-a-file"
   ]
  },
  {
   "cell_type": "code",
   "execution_count": 9,
   "metadata": {},
   "outputs": [],
   "source": [
    "# filename = 'Dofloo_V1_ALL有畫出-Memory-and-System.pkl'\n",
    "# with open(filename, 'rb') as inp:\n",
    "#     asg_all = pickle.load(inp)\n",
    "\n",
    "filename_lst = ['Dofloo_V1_ALL_Memory_and_System.pkl','Dofloo_V2_ALL_Memory_sink.pkl',]\n",
    "    # 'Dofloo_V3_ALL_wo_system.pkl','Dofloo_V4_ALL_wo_system_memory.pkl']\n",
    "node_stat_lst = []\n",
    "    \n",
    "for i,filename in enumerate(filename_lst):\n",
    "    orig_stdout = sys.stdout\n",
    "    f = open(f'1115_Dofloo_V{i+1}.txt', 'w')\n",
    "    sys.stdout = f\n",
    "\n",
    "    with open(f'1115_dofloo_V1~V2_pkl_cust/{filename}', 'rb') as inp:\n",
    "        asg_object = pickle.load(inp)\n",
    "        df = analysis_graph(asg_object)\n",
    "        node_stat_lst.append(df)\n",
    "\n",
    "    sys.stdout = orig_stdout\n",
    "    f.close()\n",
    "\n",
    "# 將 nodes 的統計資訊寫入 excel (會覆蓋掉同檔名，小心!)\n",
    "with pd.ExcelWriter(\"1115_node_statistics.xlsx\") as writer:\n",
    "    [df.to_excel(writer, sheet_name=f\"ver{i+1}\") for i,df in enumerate(node_stat_lst)]"
   ]
  },
  {
   "cell_type": "markdown",
   "metadata": {},
   "source": [
    "### Excel 2: 列印出圖中的 Triplate (edge)\n",
    "用來觀察 x -> A 的 x 有哪些，又執行了甚麼動作。 \n",
    " \n",
    "- 影響系統的函數關鍵字 : set、change、create ( 因為 create 也是在系統中多出一個新的東西，所以 open() 包含在這裡 ) affect_sys = [\"set_thread_area\", \"setsid\", \"fcntl\", \"fchown\", \"fchmod\", \"rename\", \"umask\", \"set_tid_address\", \"futex\", \n",
    "\"set_robust_list\", \"arch_prctl\", \"execve\", \"exit_group\", \"clone\", \"write\", \"connect\", \"send\", \"brk\", \"socket\", \"mprotect\", \"mmap\", \"openat\", \"mmap2\", \"munmap\", \"open\", \"close\"]\n",
    "\n",
    "- 有些沒有影響系統，但是會取得系統資訊，這樣還是蠻重要的 (Ex: uname) non_affect_sys = [\"ugetrlimit\", \"readlink\", \"getcwd\", \"uname\", \"waitpid\", \"getuid\", \"getgid\", \"getppid\", \n",
    " \"getegid\", \"wait4\", \"prlimit64\", \"getpid\", \"geteuid\", \"statfs\", \"_newselect\", \"getsockopt\", \n",
    " \"stat\", \"access\", \"fstat\", \"ioctl\", \"time\", \"fstat64\", \"nanosleep\", \"lseek\", \"read\", ]"
   ]
  },
  {
   "cell_type": "code",
   "execution_count": 10,
   "metadata": {},
   "outputs": [],
   "source": [
    "def is_important(edgename: str) -> bool:\n",
    "    '''判斷一個syscall是否會改變系統檔案，是回傳True。'''\n",
    "    affect_sys = [\"set_thread_area\", \"setsid\", \"fcntl\", \"fchown\", \"fchmod\", \"rename\", \"umask\", \"set_tid_address\", \\\n",
    "        \"futex\", \"set_robust_list\", \"arch_prctl\", \"execve\", \"exit_group\", \"clone\", \"write\", \"connect\", \"send\", \\\n",
    "        \"brk\", \"socket\", \"mprotect\", \"mmap\", \"openat\", \"mmap2\", \"munmap\", \"open\", \"close\"]\n",
    "    if edgename in affect_sys:\n",
    "        return True\n",
    "    return False\n",
    "\n",
    "def analysis_triplate(asg: AttackGraph) -> pd.DataFrame:\n",
    "    node_set = [node.name for node in asg.graph.keys()]\n",
    "    node_counter = Counter({n:0 for n in node_set})\n",
    "    for i, (nodes, edge) in enumerate(asg.edges.items()):\n",
    "        src_node, dst_node, _ = nodes\n",
    "        node_counter[src_node.name] += 1\n",
    "        node_counter[dst_node.name] += 1\n",
    "    \n",
    "    triplate_lst = []\n",
    "    for (src_node, dst_node, edgename) in asg.step_list:\n",
    "        src_type = translate_type(src_node.type)\n",
    "        dst_type = translate_type(dst_node.type)\n",
    "        imp = 1 if is_important(edgename) else 0 # 這個 syscall 是否會改變系統\n",
    "        cs = node_counter[src_node.name] # node 的 degree\n",
    "        cd = node_counter[dst_node.name]\n",
    "        # 反轉 read 的節點\n",
    "        if edgename == 'read':\n",
    "            triplate_lst.append([i+1, dst_node.name, dst_type, cd, edgename,src_node.name, src_type, cs, imp])\n",
    "        else:\n",
    "            triplate_lst.append([i+1, src_node.name, src_type, cs, edgename, dst_node.name, dst_type, cd, imp])\n",
    "\n",
    "    #     break\n",
    "    # print(triplate_lst)\n",
    "    df = pd.DataFrame(triplate_lst, columns=['step','src_node', 'type', 'deg', 'edge', 'dst_node', 'type', 'deg','importance'])\n",
    "    return df\n",
    "\n",
    "# filename = 'Dofloo_V4_ALL_wo_system_memory.pkl'\n",
    "# with open(filename, 'rb') as inp:\n",
    "#     asg_all = pickle.load(inp)\n",
    "# df = analysis_triplate(asg_all)\n",
    "\n",
    "filename_lst = ['Dofloo_V1_ALL_Memory_and_System.pkl','Dofloo_V2_ALL_Memory_sink.pkl',]\n",
    "    # 'Dofloo_V3_ALL_wo_system.pkl','Dofloo_V4_ALL_wo_system_memory.pkl']\n",
    "triplate_stat_lst = []\n",
    "node_type_set = set()\n",
    "    \n",
    "for i,filename in enumerate(filename_lst):\n",
    "    # f = open(f'1115_Dofloo_V{i+1}.txt', 'w')\n",
    "\n",
    "    with open(f'1115_dofloo_V1~V2_pkl_cust/{filename}', 'rb') as inp:\n",
    "        asg_object = pickle.load(inp)\n",
    "        df = analysis_triplate(asg_object)\n",
    "        triplate_stat_lst.append(df)\n",
    "\n",
    "with pd.ExcelWriter(\"1115_triplate_statistics.xlsx\") as writer:\n",
    "    # df.to_excel(writer, sheet_name=f\"ver4\")\n",
    "    [df.to_excel(writer, sheet_name=f\"ver{i+1}\") for i,df in enumerate(triplate_stat_lst)]"
   ]
  },
  {
   "cell_type": "markdown",
   "metadata": {},
   "source": [
    "- 使用 VBA 套件操作 excel，將 importance 的欄位上色。"
   ]
  },
  {
   "cell_type": "code",
   "execution_count": null,
   "metadata": {},
   "outputs": [],
   "source": [
    "# ! pip install xlwings"
   ]
  },
  {
   "cell_type": "code",
   "execution_count": 11,
   "metadata": {},
   "outputs": [],
   "source": [
    "import string\n",
    "def char(idx: int) -> str:\n",
    "    '''0->A, 1->B, ...'''\n",
    "    return string.ascii_uppercase[idx]"
   ]
  },
  {
   "cell_type": "code",
   "execution_count": 12,
   "metadata": {},
   "outputs": [],
   "source": [
    "import xlwings as xw\n",
    "from xlwings.constants import Direction\n",
    "workbook = xw.Book('1115_triplate_statistics.xlsx')\n",
    "sheets = workbook.sheets\n",
    "\n",
    "for i,sheet in enumerate(sheets):\n",
    "    lenx = sheet.range(\"B1\").end(Direction.xlDown).row - 1 # 資料有幾欄&幾列\n",
    "    colx = sheet.range(\"B1\").end(Direction.xlToRight).column - 1\n",
    "    titles = sheet.range(f\"B1:{char(colx)}1\").value\n",
    "    col_imp = char(titles.index('importance') + 1) # 'importance'在第幾欄 (第H欄)\n",
    "\n",
    "    for row in range(2, lenx+2):\n",
    "        # if importance cell == 1, color that row\n",
    "        if sheet.range(f\"{col_imp}{row}\").value == 1:\n",
    "            # print('yes')\n",
    "            sheet.range(f\"B{row}:{col_imp}{row}\").color = (255, 255, 204) # 淺黃色\n",
    "workbook.save()"
   ]
  },
  {
   "cell_type": "code",
   "execution_count": null,
   "metadata": {},
   "outputs": [],
   "source": []
  }
 ],
 "metadata": {
  "kernelspec": {
   "display_name": "Python 3.10.5 64-bit",
   "language": "python",
   "name": "python3"
  },
  "language_info": {
   "codemirror_mode": {
    "name": "ipython",
    "version": 3
   },
   "file_extension": ".py",
   "mimetype": "text/x-python",
   "name": "python",
   "nbconvert_exporter": "python",
   "pygments_lexer": "ipython3",
   "version": "3.10.5"
  },
  "orig_nbformat": 4,
  "vscode": {
   "interpreter": {
    "hash": "125a1d8b627fe68767755740015967bae857d08bb92fb3fd0d9d8ed24f978d39"
   }
  }
 },
 "nbformat": 4,
 "nbformat_minor": 2
}
