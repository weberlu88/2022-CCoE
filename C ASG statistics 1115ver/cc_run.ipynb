{
 "cells": [
  {
   "cell_type": "markdown",
   "metadata": {},
   "source": [
    "### Get sample's filename"
   ]
  },
  {
   "cell_type": "code",
   "execution_count": 1,
   "metadata": {},
   "outputs": [],
   "source": [
    "import pandas as pd\n",
    "import pickle\n",
    "import sys, os\n",
    "from collections import Counter\n",
    "from pathlib import Path\n",
    "\n",
    "from cc_module_cust import AttackGraph, Node, Edge, FileTable, build # 增加 AttackGraph.step_list"
   ]
  },
  {
   "cell_type": "code",
   "execution_count": 2,
   "metadata": {},
   "outputs": [],
   "source": [
    "# ! pip install graphviz"
   ]
  },
  {
   "cell_type": "code",
   "execution_count": 3,
   "metadata": {},
   "outputs": [],
   "source": [
    "def get_executable_sample() -> dict:\n",
    "    df = pd.read_csv(\"../C malware info/sample_info.csv\")\n",
    "    family_lst = df.family.unique()\n",
    "    sample_dct = {}\n",
    "    for key in family_lst:\n",
    "        sample_dct[key] = []\n",
    "\n",
    "    for idx, row in df.iterrows():\n",
    "        if row.platform in ['X86_64','X86','ARM']:\n",
    "            sample_dct[row.family].append(row.filename)\n",
    "    return sample_dct\n",
    "\n",
    "sample_dct = get_executable_sample()\n",
    "\n",
    "# # save dictionary\n",
    "# with open('sample_dct.pkl', 'wb') as outp:\n",
    "#     pickle.dump(sample_dct, outp, pickle.HIGHEST_PROTOCOL)"
   ]
  },
  {
   "cell_type": "code",
   "execution_count": 4,
   "metadata": {},
   "outputs": [],
   "source": [
    "# load dictionary\n",
    "# with open('../sample_dct.pkl', 'rb') as inp:\n",
    "#     sample_dct = pickle.load(inp)"
   ]
  },
  {
   "cell_type": "code",
   "execution_count": 5,
   "metadata": {},
   "outputs": [
    {
     "data": {
      "text/plain": [
       "\"\\n{\\n'Xorddos': ['07c070b717a23453a2b71c7582d6a928.bin',\\n    '0aefb67c01a24d05351b093455203fa2.bin',...],\\n'Mirai': ['3d9487191dd4e712cbfb8f4dcf916a707f60c3fb23807d4c02fb941e216f951d.bin',\\n  'ac13002f74249e0eab2dacb596a60323130664b8c19d938af726508fdc7500a2.bin',...],\\n  ...\\n}\\n\""
      ]
     },
     "execution_count": 5,
     "metadata": {},
     "output_type": "execute_result"
    }
   ],
   "source": [
    "# sample_dct\n",
    "'''\n",
    "{\n",
    "'Xorddos': ['07c070b717a23453a2b71c7582d6a928.bin',\n",
    "    '0aefb67c01a24d05351b093455203fa2.bin',...],\n",
    "'Mirai': ['3d9487191dd4e712cbfb8f4dcf916a707f60c3fb23807d4c02fb941e216f951d.bin',\n",
    "  'ac13002f74249e0eab2dacb596a60323130664b8c19d938af726508fdc7500a2.bin',...],\n",
    "  ...\n",
    "}\n",
    "'''"
   ]
  },
  {
   "cell_type": "markdown",
   "metadata": {},
   "source": [
    "### Build: functions\n",
    "存檔內容\n",
    "- asg 的物件 (pickle file)\n",
    "- triplet.csv (1115 ver4)\n",
    "- node.csv (1115 ver4)\n",
    "\n",
    "[solved] Must run in `.py` file, cant run in `.ipynb`. Don't know why.\n",
    "- 注意 trace folder 和 csv 的家族名稱不同，一個有 `-all` 一個沒有，兩者要一致否則會出 node 都是 0。\n",
    "- 跑到 xorddos 的 ./trace/Dofloo/xxx 噴 FileNotFoundError: [WinError 2] 系統找不到指定的檔案。\n",
    "    - f477b05826c46ac8a482e85d89b00de0.bin (有時候又OK)"
   ]
  },
  {
   "cell_type": "code",
   "execution_count": 6,
   "metadata": {},
   "outputs": [],
   "source": [
    "# Disable\n",
    "def blockPrint():\n",
    "    sys.stdout = open(os.devnull, 'w')\n",
    "\n",
    "# Restore\n",
    "def enablePrint():\n",
    "    sys.stdout = sys.__stdout__\n",
    "    \n",
    "def translate_type(s: str) -> str:\n",
    "    type = {\n",
    "        'p': 'proc',\n",
    "        'f': 'file',\n",
    "        'n': 'net',\n",
    "        'm': 'mem',\n",
    "        'm_addr': 'mem',\n",
    "    }\n",
    "    return type.get(s, 'other')\n",
    "    \n",
    "def analysis_graph(asg: AttackGraph) -> pd.DataFrame:\n",
    "    node_set = [node.name for node in asg.graph.keys()]\n",
    "    node_type = {}\n",
    "    # print('# of nodes:',len(node_set))\n",
    "    # print('# of edges:',len(asg.step_list),'(edges equal to steps)\\n')\n",
    "\n",
    "    nodeType_counter = Counter({n:0 for n in ['f','c','n','p','m_addr','pipe','else']})\n",
    "    for node in asg.graph.keys():\n",
    "        nodeType_counter[node.type] += 1\n",
    "    # print('# of node type:\\n',nodeType_counter)\n",
    "\n",
    "    node_counter = Counter({n:0 for n in node_set})\n",
    "    edge_counter = Counter()\n",
    "    for (src_node, dst_node, edgename) in asg.step_list:\n",
    "        node_counter[src_node.name] += 1\n",
    "        node_counter[dst_node.name] += 1\n",
    "        edge_counter[edgename] += 1\n",
    "        node_type[src_node.name] = translate_type(src_node.type)\n",
    "        node_type[dst_node.name] = translate_type(dst_node.type)\n",
    "    # print('\\nfrequency of node:\\n',node_counter)\n",
    "    # print('\\nfrequency of edge:\\n',edge_counter)\n",
    "    # print('\\n# of syscall',len(edge_counter))\n",
    "\n",
    "    # 回傳這張圖的 node_name, node_name, appearance\n",
    "    df = [[node,node_type[node],node_counter[node]] for node in node_counter]\n",
    "    df = pd.DataFrame(df, columns=['node_name', 'type', 'appearance'])\n",
    "    return df"
   ]
  },
  {
   "cell_type": "code",
   "execution_count": 7,
   "metadata": {},
   "outputs": [],
   "source": [
    "def is_important(edgename: str) -> bool:\n",
    "    '''判斷一個syscall是否會改變系統檔案，是回傳True。'''\n",
    "    affect_sys = [\"set_thread_area\", \"setsid\", \"fcntl\", \"fchown\", \"fchmod\", \"rename\", \"umask\", \"set_tid_address\", \\\n",
    "        \"futex\", \"set_robust_list\", \"arch_prctl\", \"execve\", \"exit_group\", \"clone\", \"write\", \"connect\", \"send\", \\\n",
    "        \"brk\", \"socket\", \"mprotect\", \"mmap\", \"openat\", \"mmap2\", \"munmap\", \"open\", \"close\"]\n",
    "    if edgename in affect_sys:\n",
    "        return True\n",
    "    return False\n",
    "\n",
    "def get_node_importance(asg: AttackGraph) -> dict:\n",
    "    ''' 基於作用在 dst_node 的 syscall 來決定這個 dst_node 是否重要 (因為原本是使用 is_important() 判斷一個syscall重要與否) '''\n",
    "    node_set = [node.name for node in asg.graph.keys()]\n",
    "    node_importance = dict().fromkeys(node_set, 0)\n",
    "    for i, (nodes, edge) in enumerate(asg.edges.items()):\n",
    "        src_node, dst_node, _ = nodes\n",
    "        # print('get_node_importance()', edge.name)\n",
    "        if is_important(edge.name):\n",
    "            node_importance[dst_node.name] = 1\n",
    "    return node_importance\n",
    "\n",
    "def analysis_triplet(asg: AttackGraph) -> pd.DataFrame:\n",
    "    node_set = [node.name for node in asg.graph.keys()]\n",
    "    node_counter = Counter({n:0 for n in node_set})\n",
    "    for i, (nodes, edge) in enumerate(asg.edges.items()):\n",
    "        src_node, dst_node, _ = nodes\n",
    "        node_counter[src_node.name] += 1\n",
    "        node_counter[dst_node.name] += 1\n",
    "    \n",
    "    triplate_lst = []\n",
    "    for (src_node, dst_node, edgename) in asg.step_list:\n",
    "        src_type = translate_type(src_node.type)\n",
    "        dst_type = translate_type(dst_node.type)\n",
    "        imp = 1 if is_important(edgename) else 0 # 這個 syscall 是否會改變系統\n",
    "        cs = node_counter[src_node.name] # node 的 degree\n",
    "        cd = node_counter[dst_node.name]\n",
    "        # 反轉 read 的節點\n",
    "        if edgename in  ['read','getsockopt']:\n",
    "            triplate_lst.append([i+1, dst_node.name, dst_type, cd, edgename,src_node.name, src_type, cs, imp])\n",
    "        else:\n",
    "            triplate_lst.append([i+1, src_node.name, src_type, cs, edgename, dst_node.name, dst_type, cd, imp])\n",
    "\n",
    "    #     break\n",
    "    # print(triplate_lst)\n",
    "    df = pd.DataFrame(triplate_lst, columns=['step','src_node', 'type', 'deg', 'edge', 'dst_node', 'type', 'deg','importance'])\n",
    "    return df\n",
    "\n",
    "# filename = 'Dofloo_V4_ALL_wo_system_memory.pkl'\n",
    "# with open(filename, 'rb') as inp:\n",
    "#     asg_all = pickle.load(inp)\n",
    "# df = analysis_triplate(asg_all)\n",
    "\n",
    "# filename_lst = ['Dofloo_V1_ALL_Memory_and_System.pkl','Dofloo_V2_ALL_Memory_sink.pkl',]\n",
    "#     # 'Dofloo_V3_ALL_wo_system.pkl','Dofloo_V4_ALL_wo_system_memory.pkl']\n",
    "# triplate_stat_lst = []\n",
    "# node_type_set = set()\n",
    "    \n",
    "# for i,filename in enumerate(filename_lst):\n",
    "#     # f = open(f'1115_Dofloo_V{i+1}.txt', 'w')\n",
    "\n",
    "#     with open(f'1115_dofloo_V1~V2_pkl_cust/{filename}', 'rb') as inp:\n",
    "#         asg_object = pickle.load(inp)\n",
    "#         df = analysis_triplate(asg_object)\n",
    "#         triplate_stat_lst.append(df)\n",
    "\n",
    "# with pd.ExcelWriter(\"1115_triplate_statistics.xlsx\") as writer:\n",
    "#     # df.to_excel(writer, sheet_name=f\"ver4\")\n",
    "#     [df.to_excel(writer, sheet_name=f\"ver{i+1}\") for i,df in enumerate(triplate_stat_lst)]"
   ]
  },
  {
   "cell_type": "markdown",
   "metadata": {},
   "source": [
    "### Build: run script"
   ]
  },
  {
   "cell_type": "code",
   "execution_count": 11,
   "metadata": {},
   "outputs": [
    {
     "name": "stdout",
     "output_type": "stream",
     "text": [
      "building family Xorddos\n",
      "  building sample 07c070b717a23453a2b71c7582d6a928.bin\n",
      "  path: ../C ASG/trace/Xorddos/07c070b717a23453a2b71c7582d6a928.bin\n"
     ]
    },
    {
     "ename": "KeyError",
     "evalue": "'path'",
     "output_type": "error",
     "traceback": [
      "\u001b[1;31m---------------------------------------------------------------------------\u001b[0m",
      "\u001b[1;31mKeyError\u001b[0m                                  Traceback (most recent call last)",
      "\u001b[1;32mc:\\Users\\Weber\\Documents\\GitHub\\2022-CCoE\\C ASG statistics 1115ver\\cc_run.ipynb Cell 11\u001b[0m in \u001b[0;36m<cell line: 3>\u001b[1;34m()\u001b[0m\n\u001b[0;32m     <a href='vscode-notebook-cell:/c%3A/Users/Weber/Documents/GitHub/2022-CCoE/C%20ASG%20statistics%201115ver/cc_run.ipynb#X13sZmlsZQ%3D%3D?line=9'>10</a>\u001b[0m \u001b[39mprint\u001b[39m(\u001b[39mf\u001b[39m\u001b[39m'\u001b[39m\u001b[39m  building sample \u001b[39m\u001b[39m{\u001b[39;00ms\u001b[39m}\u001b[39;00m\u001b[39m'\u001b[39m)\n\u001b[0;32m     <a href='vscode-notebook-cell:/c%3A/Users/Weber/Documents/GitHub/2022-CCoE/C%20ASG%20statistics%201115ver/cc_run.ipynb#X13sZmlsZQ%3D%3D?line=10'>11</a>\u001b[0m \u001b[39mtry\u001b[39;00m:\n\u001b[0;32m     <a href='vscode-notebook-cell:/c%3A/Users/Weber/Documents/GitHub/2022-CCoE/C%20ASG%20statistics%201115ver/cc_run.ipynb#X13sZmlsZQ%3D%3D?line=11'>12</a>\u001b[0m     \u001b[39m# 建立圖譜並存檔\u001b[39;00m\n\u001b[1;32m---> <a href='vscode-notebook-cell:/c%3A/Users/Weber/Documents/GitHub/2022-CCoE/C%20ASG%20statistics%201115ver/cc_run.ipynb#X13sZmlsZQ%3D%3D?line=12'>13</a>\u001b[0m     asg_object, digraph \u001b[39m=\u001b[39m build(family_name, s, save_file\u001b[39m=\u001b[39;49m\u001b[39mFalse\u001b[39;49;00m, draw\u001b[39m=\u001b[39;49m\u001b[39mFalse\u001b[39;49;00m)\n\u001b[0;32m     <a href='vscode-notebook-cell:/c%3A/Users/Weber/Documents/GitHub/2022-CCoE/C%20ASG%20statistics%201115ver/cc_run.ipynb#X13sZmlsZQ%3D%3D?line=13'>14</a>\u001b[0m     \u001b[39mif\u001b[39;00m asg_object \u001b[39m==\u001b[39m \u001b[39mNone\u001b[39;00m:\n\u001b[0;32m     <a href='vscode-notebook-cell:/c%3A/Users/Weber/Documents/GitHub/2022-CCoE/C%20ASG%20statistics%201115ver/cc_run.ipynb#X13sZmlsZQ%3D%3D?line=14'>15</a>\u001b[0m         \u001b[39mcontinue\u001b[39;00m\n",
      "File \u001b[1;32mc:\\Users\\Weber\\Documents\\GitHub\\2022-CCoE\\C ASG statistics 1115ver\\cc_module_cust.py:4542\u001b[0m, in \u001b[0;36mbuild\u001b[1;34m(family_dir, sample_dir, output_filename, save_file, draw)\u001b[0m\n\u001b[0;32m   4540\u001b[0m \u001b[39m# Create Attack Scenario Graph\u001b[39;00m\n\u001b[0;32m   4541\u001b[0m graph \u001b[39m=\u001b[39m AttackGraph(path)\n\u001b[1;32m-> 4542\u001b[0m graph\u001b[39m.\u001b[39;49mcreate()\n\u001b[0;32m   4544\u001b[0m \u001b[39m# Create TT Graph based on AS Graph\u001b[39;00m\n\u001b[0;32m   4545\u001b[0m mapper \u001b[39m=\u001b[39m TTPLabeler(graph)\n",
      "File \u001b[1;32mc:\\Users\\Weber\\Documents\\GitHub\\2022-CCoE\\C ASG statistics 1115ver\\cc_module_cust.py:4143\u001b[0m, in \u001b[0;36mAttackGraph.create\u001b[1;34m(self)\u001b[0m\n\u001b[0;32m   4130\u001b[0m                         \u001b[39mcontinue\u001b[39;00m\n\u001b[0;32m   4132\u001b[0m                     \u001b[39mif\u001b[39;00m call[\u001b[39m'\u001b[39m\u001b[39mtype\u001b[39m\u001b[39m'\u001b[39m] \u001b[39m==\u001b[39m \u001b[39m'\u001b[39m\u001b[39msys\u001b[39m\u001b[39m'\u001b[39m:\n\u001b[0;32m   4133\u001b[0m                         \u001b[39m# sys_ignore = ['open', 'openat', 'read']\u001b[39;00m\n\u001b[0;32m   4134\u001b[0m \u001b[39m#                         sys_ignore = ['read']\u001b[39;00m\n\u001b[1;32m   (...)\u001b[0m\n\u001b[0;32m   4139\u001b[0m                         \u001b[39m#     print(\"Parse :\", sys_parser.parse(call))\u001b[39;00m\n\u001b[0;32m   4140\u001b[0m                         \u001b[39m#     break\u001b[39;00m\n\u001b[1;32m-> 4143\u001b[0m                         \u001b[39mself\u001b[39;49m\u001b[39m.\u001b[39;49m_syscall_handler(call)\n\u001b[0;32m   4144\u001b[0m                          \u001b[39m#myprint(call, 'socket')\u001b[39;00m\n\u001b[0;32m   4147\u001b[0m         \u001b[39mself\u001b[39m\u001b[39m.\u001b[39mtraces_lines \u001b[39m=\u001b[39m total_line\n",
      "File \u001b[1;32mc:\\Users\\Weber\\Documents\\GitHub\\2022-CCoE\\C ASG statistics 1115ver\\cc_module_cust.py:4068\u001b[0m, in \u001b[0;36mAttackGraph._syscall_handler\u001b[1;34m(self, syscall)\u001b[0m\n\u001b[0;32m   4065\u001b[0m     \u001b[39mself\u001b[39m\u001b[39m.\u001b[39mtrigger_lines \u001b[39m+\u001b[39m\u001b[39m=\u001b[39m \u001b[39m1\u001b[39m\n\u001b[0;32m   4067\u001b[0m \u001b[39melif\u001b[39;00m name \u001b[39min\u001b[39;00m write_file:\n\u001b[1;32m-> 4068\u001b[0m     \u001b[39mself\u001b[39;49m\u001b[39m.\u001b[39;49m_syscall_handler_table[\u001b[39m'\u001b[39;49m\u001b[39mwrite\u001b[39;49m\u001b[39m'\u001b[39;49m](syscall)\n\u001b[0;32m   4069\u001b[0m     \u001b[39mself\u001b[39m\u001b[39m.\u001b[39mtrigger_lines \u001b[39m+\u001b[39m\u001b[39m=\u001b[39m \u001b[39m1\u001b[39m\n\u001b[0;32m   4071\u001b[0m \u001b[39melif\u001b[39;00m name \u001b[39min\u001b[39;00m info:\n",
      "File \u001b[1;32mc:\\Users\\Weber\\Documents\\GitHub\\2022-CCoE\\C ASG statistics 1115ver\\cc_module_cust.py:3678\u001b[0m, in \u001b[0;36mAttackGraph._write\u001b[1;34m(self, syscall)\u001b[0m\n\u001b[0;32m   3676\u001b[0m     path \u001b[39m=\u001b[39m \u001b[39mself\u001b[39m\u001b[39m.\u001b[39mfile_table\u001b[39m.\u001b[39mget(fd)\n\u001b[0;32m   3677\u001b[0m \u001b[39melse\u001b[39;00m:\n\u001b[1;32m-> 3678\u001b[0m     path \u001b[39m=\u001b[39m info[\u001b[39m'\u001b[39;49m\u001b[39mpath\u001b[39;49m\u001b[39m'\u001b[39;49m]\n\u001b[0;32m   3680\u001b[0m \u001b[39m# fd may open in parent process\u001b[39;00m\n\u001b[0;32m   3681\u001b[0m \u001b[39mif\u001b[39;00m \u001b[39mnot\u001b[39;00m path \u001b[39mand\u001b[39;00m \u001b[39mnot\u001b[39;00m \u001b[39mself\u001b[39m\u001b[39m.\u001b[39m_inside_execve:\n",
      "\u001b[1;31mKeyError\u001b[0m: 'path'"
     ]
    }
   ],
   "source": [
    "Path(\"./saved_pkl\").mkdir(parents=True, exist_ok=True)\n",
    "\n",
    "for family_name in sample_dct:\n",
    "    if family_name != 'Dofloo': # 只建這個 family 的圖\n",
    "        continue\n",
    "    print(f'building family {family_name}')\n",
    "    family_path = f'./saved_pkl/{family_name}'\n",
    "    Path(family_path).mkdir(parents=True, exist_ok=True)\n",
    "    for s in sample_dct[family_name]:\n",
    "        if not s.startswith('0046'): # 只建這個 sample 的圖\n",
    "            continue\n",
    "        print(f'  building sample {s}')\n",
    "        try:\n",
    "            # 建立圖譜並存檔\n",
    "            asg_object, digraph = build(family_name, s, save_file=False, draw=False)\n",
    "            if asg_object == None:\n",
    "                continue\n",
    "            # blockPrint()\n",
    "            pkl_name = s.split('.')[0]\n",
    "            with open(f'{family_path}/{pkl_name}.pkl', 'wb') as outp:\n",
    "                pickle.dump(sample_dct, outp, pickle.HIGHEST_PROTOCOL)\n",
    "            df_node = analysis_graph(asg_object)\n",
    "            df_triplet = analysis_triplet(asg_object)\n",
    "            node_importance = get_node_importance(asg_object)\n",
    "            df_node['importance'] = df_node['node_name'].apply(lambda n: True if node_importance[n] else False)\n",
    "            df_node.to_csv(f'{family_path}/{pkl_name}_node.csv', index=False)\n",
    "            df_triplet.to_csv(f'{family_path}/{pkl_name}_triplet.csv', index=False)\n",
    "            # enablePrint()\n",
    "            # break\n",
    "        except FileNotFoundError:\n",
    "            print('  [Error] FileNotFoundError')\n",
    "    # [build(family_name, s) for s in sample_dct[family_name]] #　一行搞定版"
   ]
  },
  {
   "cell_type": "markdown",
   "metadata": {},
   "source": [
    "### Evaluate"
   ]
  },
  {
   "cell_type": "code",
   "execution_count": null,
   "metadata": {},
   "outputs": [],
   "source": []
  }
 ],
 "metadata": {
  "kernelspec": {
   "display_name": "Python 3.8.0 ('py3_8')",
   "language": "python",
   "name": "python3"
  },
  "language_info": {
   "codemirror_mode": {
    "name": "ipython",
    "version": 3
   },
   "file_extension": ".py",
   "mimetype": "text/x-python",
   "name": "python",
   "nbconvert_exporter": "python",
   "pygments_lexer": "ipython3",
   "version": "3.8.0"
  },
  "orig_nbformat": 4,
  "vscode": {
   "interpreter": {
    "hash": "593d77fc80f492a69d777c8391608d31cfb20b60cd0c0ea90f6821e584cab7a6"
   }
  }
 },
 "nbformat": 4,
 "nbformat_minor": 2
}
