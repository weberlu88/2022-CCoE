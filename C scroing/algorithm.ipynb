{
 "cells": [
  {
   "cell_type": "code",
   "execution_count": null,
   "metadata": {},
   "outputs": [],
   "source": [
    "report = {'aaa':1, 'bbb':2}\n",
    "baseline = ['aaa','bbb','ccc']\n",
    "\n",
    "def calcCoverageVer1(report: dict, baseline: list) -> float:\n",
    "    numOfBase = len(baseline)\n",
    "    numOfHit = 0\n",
    "    for b in b baseline:\n",
    "        try:\n",
    "            res = report.get(report, 'Not found')\n",
    "            if res != 'Not found':\n",
    "                numOfHit += 1\n",
    "        except:\n",
    "            print('something wrong')\n",
    "    return numOfHit/numOfBase"
   ]
  }
 ],
 "metadata": {
  "language_info": {
   "name": "python"
  },
  "orig_nbformat": 4
 },
 "nbformat": 4,
 "nbformat_minor": 2
}
