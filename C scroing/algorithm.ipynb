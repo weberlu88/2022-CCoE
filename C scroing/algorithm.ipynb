{
 "cells": [
  {
   "cell_type": "markdown",
   "metadata": {},
   "source": [
    "#### ES Ver 1, 2"
   ]
  },
  {
   "cell_type": "code",
   "execution_count": 3,
   "metadata": {},
   "outputs": [
    {
     "name": "stdout",
     "output_type": "stream",
     "text": [
      "ver1: (0.6666666666666666, ['aaa', 'bbb'])\n"
     ]
    },
    {
     "data": {
      "text/plain": [
       "(0.5, ['aaa', 'bbb'])"
      ]
     },
     "execution_count": 3,
     "metadata": {},
     "output_type": "execute_result"
    }
   ],
   "source": [
    "report = {'aaa':1, 'bbb':2}\n",
    "baseline = ['aaa','bbb','ccc']\n",
    "\n",
    "def calcCoverageVer1(report: dict, baseline: list) -> float:\n",
    "    numOfBase = len(baseline)\n",
    "    numOfHit = 0\n",
    "    hits = []\n",
    "    for b in baseline:\n",
    "        try:\n",
    "            # print(b)\n",
    "            res = report.get(b, 'Not found')\n",
    "            if res != 'Not found':\n",
    "                numOfHit += 1\n",
    "                hits.append(b)\n",
    "        except:\n",
    "            print('something wrong')\n",
    "    return numOfHit/numOfBase, hits\n",
    "\n",
    "print('ver1:',calcCoverageVer1(report, baseline))\n",
    "\n",
    "weight = [1,1,2]\n",
    "def calcCoverageVer2(report: dict, baseline: list, weight: list) -> float:\n",
    "    ''' weight, baseline 一一對應，若 hit 分子加上權重，分母一律為sum(weight)，未處理w全為零之輸入 '''\n",
    "    numOfBase = len(baseline)\n",
    "    assert numOfBase == len(weight)\n",
    "    numOfHit = 0\n",
    "    hits = []\n",
    "    for b, w in zip(baseline, weight):\n",
    "        try:\n",
    "            # print(b)\n",
    "            res = report.get(b, 'Not found')\n",
    "            if res != 'Not found':\n",
    "                numOfHit += w\n",
    "                hits.append(b)\n",
    "        except:\n",
    "            print('something wrong')\n",
    "    return numOfHit/sum(weight), hits\n",
    "\n",
    "calcCoverageVer2(report, baseline, weight)"
   ]
  },
  {
   "cell_type": "markdown",
   "metadata": {},
   "source": [
    "#### Score the reports\n",
    "- baseline: nodes from `Dofloo` family and its `9a37fcc7eab08d59532bc5c66390bc30.bin` sample. (取自智誠學長的asg)\n",
    "- reports: all the reports under Dofloo subject."
   ]
  },
  {
   "cell_type": "code",
   "execution_count": 35,
   "metadata": {},
   "outputs": [
    {
     "name": "stdout",
     "output_type": "stream",
     "text": [
      "baseline Objects are: ['/dev/urandom', '/etc/init.d/boot.local', '/etc/rc.d/rc.local', '/etc/rc.local', '/proc/net/dev', '/proc/stat', '/sys/devices/system/cpu/online', '1529', '1530', '1531', '1532', '183.131.83.38:50050', 'eth0', 'eth1', 'eth2', 'eth3', 'eth4', 'eth5', 'eth6', 'eth7', 'eth8', 'eth9', 'sed', 'sh', 'uname'] \n",
      "num of objects: 25\n"
     ]
    }
   ],
   "source": [
    "baseline = ['/dev/urandom', '/etc/init.d/boot.local', '/etc/rc.d/rc.local', '/etc/rc.local', '/proc/net/dev', '/proc/stat', '/sys/devices/system/cpu/online', '1529', '1530', '1531', '1532', '183.131.83.38:50050', 'eth0', 'eth1', 'eth2', 'eth3', 'eth4', 'eth5', 'eth6', 'eth7', 'eth8', 'eth9', 'malware', 'sed', 'sh', 'uname']\n",
    "baseline = list(filter(lambda x: x != 'malware', baseline))\n",
    "print('baseline Objects are:',baseline, '\\nnum of objects:',len(baseline))"
   ]
  },
  {
   "cell_type": "code",
   "execution_count": 36,
   "metadata": {},
   "outputs": [
    {
     "name": "stdout",
     "output_type": "stream",
     "text": [
      "Dofloo-360InternetSecurityCenter.pkl has 18 tokens\n",
      "Dofloo-BleepingComputer.pkl has 304 tokens\n",
      "Dofloo-MalwareMustDie.pkl has 1473 tokens\n",
      "Dofloo-SyscallParty.pkl has 722 tokens\n",
      "Dofloo-Trendmicro.pkl has 153 tokens\n"
     ]
    }
   ],
   "source": [
    "# read reports term frequency pickle file\n",
    "import os\n",
    "from os import listdir\n",
    "from os.path import isfile, join\n",
    "import pickle\n",
    "\n",
    "report_dir_path = '../C parse report/term frequence pickle/'\n",
    "report_names = [f for f in listdir(report_dir_path) if isfile(join(report_dir_path, f))]\n",
    "report_pkls = []\n",
    "for r in report_names:\n",
    "    with open(f'{report_dir_path}{r}', 'rb') as handle:\n",
    "        report_pkls.append(pickle.load(handle))\n",
    "\n",
    "for i,r in enumerate(report_names):\n",
    "    print(f\"{r} has {len(report_pkls[i].keys())} tokens\")"
   ]
  },
  {
   "cell_type": "code",
   "execution_count": 37,
   "metadata": {},
   "outputs": [
    {
     "name": "stdout",
     "output_type": "stream",
     "text": [
      "Dofloo-360InternetSecurityCenter.pkl has 18 tokens, coverage is 0.0\n",
      "Dofloo-BleepingComputer.pkl has 304 tokens, coverage is 0.0\n",
      "Dofloo-MalwareMustDie.pkl has 1473 tokens, coverage is 0.0\n",
      "Dofloo-SyscallParty.pkl has 722 tokens, coverage is 0.16\n",
      "Dofloo-Trendmicro.pkl has 153 tokens, coverage is 0.24\n"
     ]
    }
   ],
   "source": [
    "# apply ES fucntion to score the coverage of each reports\n",
    "report_hits = []\n",
    "for i,report in enumerate(report_names):\n",
    "    cvg, hits = calcCoverageVer1(report_pkls[i], baseline)\n",
    "    report_hits.append(hits)\n",
    "    print(f\"{report} has {len(report_pkls[i].keys())} tokens, coverage is {cvg:.4}\")"
   ]
  },
  {
   "cell_type": "code",
   "execution_count": 41,
   "metadata": {},
   "outputs": [
    {
     "name": "stdout",
     "output_type": "stream",
     "text": [
      "report Dofloo-SyscallParty.pkl contains 4 objects in baseline, \n",
      "hit objects are: ['/etc/init.d/boot.local', '/etc/rc.local', '/proc/net/dev', 'sed']\n",
      "report Dofloo-Trendmicro.pkl contains 6 objects in baseline, \n",
      "hit objects are: ['/etc/init.d/boot.local', '/etc/rc.d/rc.local', '/etc/rc.local', '/proc/net/dev', '/proc/stat', 'sed']\n"
     ]
    }
   ],
   "source": [
    "print(f\"report {report_names[3]} contains {len(report_hits[3])} objects in baseline, \\nhit objects are: {report_hits[3]}\")\n",
    "print(f\"report {report_names[4]} contains {len(report_hits[4])} objects in baseline, \\nhit objects are: {report_hits[4]}\")"
   ]
  },
  {
   "cell_type": "code",
   "execution_count": null,
   "metadata": {},
   "outputs": [],
   "source": []
  }
 ],
 "metadata": {
  "kernelspec": {
   "display_name": "Python 3.10.5 64-bit",
   "language": "python",
   "name": "python3"
  },
  "language_info": {
   "codemirror_mode": {
    "name": "ipython",
    "version": 3
   },
   "file_extension": ".py",
   "mimetype": "text/x-python",
   "name": "python",
   "nbconvert_exporter": "python",
   "pygments_lexer": "ipython3",
   "version": "3.10.5"
  },
  "orig_nbformat": 4,
  "vscode": {
   "interpreter": {
    "hash": "125a1d8b627fe68767755740015967bae857d08bb92fb3fd0d9d8ed24f978d39"
   }
  }
 },
 "nbformat": 4,
 "nbformat_minor": 2
}
