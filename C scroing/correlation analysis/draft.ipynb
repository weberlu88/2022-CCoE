{
 "cells": [
  {
   "cell_type": "code",
   "execution_count": 4,
   "metadata": {},
   "outputs": [
    {
     "name": "stdout",
     "output_type": "stream",
     "text": [
      "a\n",
      "b\n"
     ]
    },
    {
     "data": {
      "text/plain": [
       "'b'"
      ]
     },
     "execution_count": 4,
     "metadata": {},
     "output_type": "execute_result"
    }
   ],
   "source": [
    "class car:\n",
    "    global_a = 'a'\n",
    "\n",
    "    def __init__(self) -> None:\n",
    "        car.global_a = 'b' # can change class variable in constructor 但是要new物件才能造成改變，不適合當作模組使用\n",
    "\n",
    "print(car.global_a)\n",
    "car_obj = car()\n",
    "print(car.global_a)\n",
    "car_obj.global_a"
   ]
  },
  {
   "cell_type": "code",
   "execution_count": 7,
   "metadata": {},
   "outputs": [
    {
     "name": "stdout",
     "output_type": "stream",
     "text": [
      "True\n",
      "False\n"
     ]
    }
   ],
   "source": [
    "from enum import Enum\n",
    "\n",
    "class OperationMode(Enum):\n",
    "    FILE_READ = 1\n",
    "    FILE_CUD = 2\n",
    "    # FILE_DELETE = 3 # delete can done with unlink() rename() open()\n",
    "    PROCESS_EXE = 4\n",
    "    PROCESS_KILL = 5\n",
    "    PROCESS_Other = 6\n",
    "    DEVICE = 7\n",
    "    INFO_GET = 8\n",
    "    INFO_SET = 9\n",
    "    COMM_CONNECT = 10\n",
    "    COMM_TRANSMIT = 11\n",
    "\n",
    "class OperationEvaluator:\n",
    "    '''\n",
    "    Prepare following fields when init:\n",
    "    @self.mode_verb_convertor\n",
    "    @self.syscall_convertor\\n\n",
    "    You shold call the resolve() func instead of accessing these fields.\n",
    "    '''\n",
    "    def __init__(self) -> None:\n",
    "        # mode has en_verb\n",
    "        self.mode_verb_convertor = {\n",
    "            OperationMode.FILE_READ: \"read、gather、check、find、check、close、fetch、look\",\n",
    "            OperationMode.FILE_CUD: \"add、format、modify、write、overwrite、create、set、change、delete、rename、open、drop、use、extract\",\n",
    "            OperationMode.PROCESS_EXE: \"execute、use、call、spawn、fork、perform、install、add、start\",\n",
    "            OperationMode.PROCESS_KILL: \"kill\",\n",
    "            OperationMode.PROCESS_Other: \"map、wait、sleep、trace、exit、end、break\",\n",
    "            OperationMode.DEVICE: \"control、send\",\n",
    "            OperationMode.INFO_GET: \"set、configure、assign\",\n",
    "            OperationMode.INFO_SET: \"get、look、check、find\",\n",
    "            OperationMode.COMM_CONNECT: \"send、receive、communicate、transfer、create、wget、download\",\n",
    "            OperationMode.COMM_TRANSMIT: \"connect、bind、get、hook\",\n",
    "        }\n",
    "        for opMode, string in self.mode_verb_convertor.items():\n",
    "            self.mode_verb_convertor[opMode] = string.split('、')\n",
    "        # syscall belongs to mode\n",
    "        syscall_mode_table = {\n",
    "            OperationMode.FILE_READ: \"linkat()、statfs()、stat()、lseek()、readlink()、munmap()、stat64()、access() 、link()、lstat()、ppoll()、getcwd()、read()、fstat64()、dup2()、fstat()、fcntl64()、symlinkat()、umask()、newfstatat()、symlink()、getdents()、fcntl()、_newselect()、chdir()、close()\",\n",
    "            OperationMode.FILE_CUD: \"rmdir()、mmap()、rename()、fchmod()、mmap2()、mkdir()、fchown()、write()、open()、openat()、unlink()、unlinkat()、remove()\",\n",
    "            OperationMode.PROCESS_EXE: \"execve()、clone()、fork()、vfork()\",\n",
    "            OperationMode.PROCESS_KILL: \"kill()\",\n",
    "            OperationMode.PROCESS_Other: \"mremap()、mprotect()、set_tid_address()、arch_prctl()、set_thread_area()、waitpid()、nanosleep()、ptrace()、set_robust_list()、wait4()、futex()、exit_group()、brk()\",\n",
    "            OperationMode.DEVICE: \"ioctl()\",\n",
    "            OperationMode.INFO_GET: \"setsid()\",\n",
    "            OperationMode.INFO_SET: \"getppid()、getgid()、shmdt()、getegid()、geteuid()、prlimit64()、shmat()、getpid()、gettimeofday()、shmget()、sysinfo()、uname()、ugetrlimit()、getuid()、time()\",\n",
    "            OperationMode.COMM_CONNECT: \"recv()、socket()、recvfrom()、sendto()、send()、recvmsg()、sendmsg()\",\n",
    "            OperationMode.COMM_TRANSMIT: \"connect()、pipe()、setsockopt()、bind()、getsockname()、getsockopt()\",\n",
    "        }\n",
    "        for opMode, string in syscall_mode_table.items():\n",
    "            lst = string.split('、')\n",
    "            lst = [li.rstrip('()') for li in lst]\n",
    "            syscall_mode_table[opMode] = lst\n",
    "        self.syscall_convertor = {}\n",
    "        for k,v_lst in syscall_mode_table.items():\n",
    "            for v in v_lst:\n",
    "                self.syscall_convertor[v] = k\n",
    "        # print(self.mode_verb_convertor)\n",
    "        # print('--')\n",
    "        # print(self.syscall_convertor)\n",
    "        pass\n",
    "\n",
    "    def resolve(self, syscall:str, en_verb:str) -> bool:\n",
    "        '''Determine if syscall matches en_verb (lemma). Return True if match, otherwise False.'''\n",
    "        mode = self.syscall_convertor.get(syscall, None)\n",
    "        if mode is None:\n",
    "            return False\n",
    "        acceptable_modes:list = [mode]\n",
    "        # mode_expansion:dict = {} # mode 一對一對應，不做向下兼容 (CUD不包含read)\n",
    "        verb_list = self.mode_verb_convertor.get(mode, None)\n",
    "        if verb_list is None:\n",
    "            return False\n",
    "        if en_verb in verb_list:\n",
    "            return True\n",
    "        return False\n",
    "\n",
    "# test case\n",
    "operationEvaluator = OperationEvaluator()\n",
    "res = operationEvaluator.resolve('linkat', 'read')\n",
    "print(res)\n",
    "res = operationEvaluator.resolve('linkat', 'connect')\n",
    "print(res)"
   ]
  },
  {
   "cell_type": "code",
   "execution_count": 12,
   "metadata": {},
   "outputs": [
    {
     "name": "stdout",
     "output_type": "stream",
     "text": [
      "ActionLevel.FILE_READ\n"
     ]
    },
    {
     "ename": "TypeError",
     "evalue": "'<' not supported between instances of 'ActionLevel' and 'ActionLevel'",
     "output_type": "error",
     "traceback": [
      "\u001b[1;31m---------------------------------------------------------------------------\u001b[0m",
      "\u001b[1;31mTypeError\u001b[0m                                 Traceback (most recent call last)",
      "Cell \u001b[1;32mIn [12], line 4\u001b[0m\n\u001b[0;32m      2\u001b[0m code_high \u001b[39m=\u001b[39m ActionLevel\u001b[39m.\u001b[39mFILE_CUD\n\u001b[0;32m      3\u001b[0m \u001b[39mprint\u001b[39m(code_low)\n\u001b[1;32m----> 4\u001b[0m code_low \u001b[39m<\u001b[39;49m code_high \u001b[39m# cannot compare Enum, only intEnum can be compare\u001b[39;00m\n",
      "\u001b[1;31mTypeError\u001b[0m: '<' not supported between instances of 'ActionLevel' and 'ActionLevel'"
     ]
    }
   ],
   "source": [
    "code_low = OperationMode.FILE_READ\n",
    "code_high = OperationMode.FILE_CUD\n",
    "print(code_low)\n",
    "code_low < code_high # cannot compare Enum, only intEnum can be compare"
   ]
  },
  {
   "attachments": {},
   "cell_type": "markdown",
   "metadata": {},
   "source": [
    "### 投影片字串 轉 程式碼字串陣列"
   ]
  },
  {
   "cell_type": "code",
   "execution_count": 1,
   "metadata": {},
   "outputs": [
    {
     "name": "stdout",
     "output_type": "stream",
     "text": [
      "read\n",
      "gather\n",
      "check\n",
      "find\n",
      "check\n",
      "close\n",
      "fetch\n",
      "look\n"
     ]
    }
   ],
   "source": [
    "string_orig = \"read、gather、check、find、check、close、fetch、look\"\n",
    "string_list = string_orig.split('、')\n",
    "for s in string_list:\n",
    "    print(s)"
   ]
  },
  {
   "cell_type": "code",
   "execution_count": 4,
   "metadata": {},
   "outputs": [
    {
     "name": "stdout",
     "output_type": "stream",
     "text": [
      "kill()、execve()、clone()、fork()、brk()、vfork()、futex()、exit_group()、"
     ]
    }
   ],
   "source": [
    "# Process\n",
    "all_list = ['kill', 'execve', 'clone', 'set_tid_address', 'fork', 'set_thread_area', 'mprotect', 'brk', 'ptrace', 'arch_prctl', 'vfork', 'wait4', 'futex', 'exit_group', 'mremap', 'waitpid', 'set_robust_list', 'nanosleep']\n",
    "import_list = ['kill', 'execve', 'clone', 'fork', 'brk', 'vfork', 'futex', 'exit_group']\n",
    "for i in import_list:\n",
    "    print(f\"{i}()、\", end='')"
   ]
  },
  {
   "cell_type": "code",
   "execution_count": 6,
   "metadata": {},
   "outputs": [
    {
     "name": "stdout",
     "output_type": "stream",
     "text": [
      "mremap()、mprotect()、set_tid_address()、arch_prctl()、set_thread_area()、waitpid()、nanosleep()、ptrace()、set_robust_list()、wait4()、"
     ]
    }
   ],
   "source": [
    "other_list = list(set(all_list) - set(import_list))\n",
    "for i in other_list:\n",
    "    print(f\"{i}()、\", end='')"
   ]
  },
  {
   "cell_type": "code",
   "execution_count": 10,
   "metadata": {},
   "outputs": [
    {
     "name": "stdout",
     "output_type": "stream",
     "text": [
      "close()、open()、openat()、rmdir()、mmap()、rename()、fchmod()、mmap2()、mkdir()、fchown()、write()、\n",
      "--\n",
      "linkat()、statfs()、stat()、lseek()、readlink()、munmap()、stat64()、access()、link()、unlinkat()、lstat()、ppoll()、getcwd()、read()、fstat64()、dup2()、fstat()、fcntl64()、symlinkat()、umask()、unlink()、newfstatat()、symlink()、getdents()、fcntl()、_newselect()、chdir()、"
     ]
    }
   ],
   "source": [
    "# File \n",
    "all_list = ['close', 'readlink', 'stat', 'lseek', 'openat', 'read', 'rmdir', 'mmap', 'fstat', 'rename', 'getdents', 'fstat64', 'fchmod', 'stat64', 'link', 'mmap2', 'unlinkat', 'mkdir', '_newselect', 'fcntl64', 'unlink', 'statfs', 'getcwd', 'fchown', 'ppoll', 'lstat', 'linkat', 'symlinkat', 'chdir', 'dup2', 'open', 'umask', 'newfstatat', 'symlink', 'munmap', 'fcntl', 'access', 'write']\n",
    "import_list = ['close', 'open', 'openat', 'rmdir', 'mmap', 'rename', 'fchmod', 'mmap2', 'mkdir', 'fchown', 'write']\n",
    "for i in import_list:\n",
    "    print(f\"{i}()、\", end='')\n",
    "\n",
    "print(f\"\\n--\")\n",
    "other_list = list(set(all_list) - set(import_list))\n",
    "for i in other_list:\n",
    "    print(f\"{i}()、\", end='')"
   ]
  },
  {
   "cell_type": "code",
   "execution_count": 11,
   "metadata": {},
   "outputs": [
    {
     "name": "stdout",
     "output_type": "stream",
     "text": [
      "setsid()、\n",
      "--\n",
      "getppid()、getgid()、shmdt()、getegid()、geteuid()、prlimit64()、shmat()、getpid()、gettimeofday()、shmget()、sysinfo()、uname()、ugetrlimit()、getuid()、time()、"
     ]
    }
   ],
   "source": [
    "# Information \n",
    "all_list = ['uname', 'prlimit64', 'getgid', 'getegid', 'shmdt', 'getpid', 'sysinfo', 'time', 'setsid', 'shmget', 'geteuid', 'gettimeofday', 'shmat', 'getppid', 'getuid', 'ugetrlimit']\n",
    "import_list = ['setsid']\n",
    "for i in import_list:\n",
    "    print(f\"{i}()、\", end='')\n",
    "\n",
    "print(f\"\\n--\")\n",
    "other_list = list(set(all_list) - set(import_list))\n",
    "for i in other_list:\n",
    "    print(f\"{i}()、\", end='')"
   ]
  },
  {
   "cell_type": "code",
   "execution_count": 12,
   "metadata": {},
   "outputs": [
    {
     "name": "stdout",
     "output_type": "stream",
     "text": [
      "recv()、socket()、recvfrom()、sendto()、send()、recvmsg()、sendmsg()、\n",
      "--\n",
      "connect()、pipe()、setsockopt()、bind()、getsockname()、getsockopt()、"
     ]
    }
   ],
   "source": [
    "# Communication \n",
    "all_list = ['getsockopt', 'recv', 'socket', 'getsockname', 'bind', 'pipe', 'recvfrom', 'setsockopt', 'sendto', 'send', 'connect', 'recvmsg', 'sendmsg']\n",
    "import_list = ['recv', 'socket', 'recvfrom', 'sendto', 'send', 'recvmsg', 'sendmsg']\n",
    "for i in import_list:\n",
    "    print(f\"{i}()、\", end='')\n",
    "\n",
    "print(f\"\\n--\")\n",
    "other_list = list(set(all_list) - set(import_list))\n",
    "for i in other_list:\n",
    "    print(f\"{i}()、\", end='')"
   ]
  },
  {
   "cell_type": "code",
   "execution_count": null,
   "metadata": {},
   "outputs": [],
   "source": []
  }
 ],
 "metadata": {
  "kernelspec": {
   "display_name": "Python 3",
   "language": "python",
   "name": "python3"
  },
  "language_info": {
   "codemirror_mode": {
    "name": "ipython",
    "version": 3
   },
   "file_extension": ".py",
   "mimetype": "text/x-python",
   "name": "python",
   "nbconvert_exporter": "python",
   "pygments_lexer": "ipython3",
   "version": "3.10.5"
  },
  "orig_nbformat": 4,
  "vscode": {
   "interpreter": {
    "hash": "125a1d8b627fe68767755740015967bae857d08bb92fb3fd0d9d8ed24f978d39"
   }
  }
 },
 "nbformat": 4,
 "nbformat_minor": 2
}
